{
  "nbformat": 4,
  "nbformat_minor": 0,
  "metadata": {
    "colab": {
      "name": "main.ipynb",
      "provenance": [],
      "collapsed_sections": [],
      "toc_visible": true,
      "include_colab_link": true
    },
    "kernelspec": {
      "display_name": "Python 3 (ipykernel)",
      "language": "python",
      "name": "python3"
    },
    "language_info": {
      "codemirror_mode": {
        "name": "ipython",
        "version": 3
      },
      "file_extension": ".py",
      "mimetype": "text/x-python",
      "name": "python",
      "nbconvert_exporter": "python",
      "pygments_lexer": "ipython3",
      "version": "3.8.11"
    },
    "widgets": {
      "application/vnd.jupyter.widget-state+json": {
        "351a30b44f3e478d9993b05c8643dfff": {
          "model_module": "@jupyter-widgets/controls",
          "model_name": "HBoxModel",
          "model_module_version": "1.5.0",
          "state": {
            "_view_name": "HBoxView",
            "_dom_classes": [],
            "_model_name": "HBoxModel",
            "_view_module": "@jupyter-widgets/controls",
            "_model_module_version": "1.5.0",
            "_view_count": null,
            "_view_module_version": "1.5.0",
            "box_style": "",
            "layout": "IPY_MODEL_c64e2bf743a94fbdb5f6b184a917ccf2",
            "_model_module": "@jupyter-widgets/controls",
            "children": [
              "IPY_MODEL_2a715ff6c9c442598efc11e0942979ef",
              "IPY_MODEL_3610d6a62af94169997aca6ed25d339f",
              "IPY_MODEL_af43f48c0ec54be6ab7c8b960db4a28f"
            ]
          }
        },
        "c64e2bf743a94fbdb5f6b184a917ccf2": {
          "model_module": "@jupyter-widgets/base",
          "model_name": "LayoutModel",
          "model_module_version": "1.2.0",
          "state": {
            "_view_name": "LayoutView",
            "grid_template_rows": null,
            "right": null,
            "justify_content": null,
            "_view_module": "@jupyter-widgets/base",
            "overflow": null,
            "_model_module_version": "1.2.0",
            "_view_count": null,
            "flex_flow": null,
            "width": null,
            "min_width": null,
            "border": null,
            "align_items": null,
            "bottom": null,
            "_model_module": "@jupyter-widgets/base",
            "top": null,
            "grid_column": null,
            "overflow_y": null,
            "overflow_x": null,
            "grid_auto_flow": null,
            "grid_area": null,
            "grid_template_columns": null,
            "flex": null,
            "_model_name": "LayoutModel",
            "justify_items": null,
            "grid_row": null,
            "max_height": null,
            "align_content": null,
            "visibility": null,
            "align_self": null,
            "height": null,
            "min_height": null,
            "padding": null,
            "grid_auto_rows": null,
            "grid_gap": null,
            "max_width": null,
            "order": null,
            "_view_module_version": "1.2.0",
            "grid_template_areas": null,
            "object_position": null,
            "object_fit": null,
            "grid_auto_columns": null,
            "margin": null,
            "display": null,
            "left": null
          }
        },
        "2a715ff6c9c442598efc11e0942979ef": {
          "model_module": "@jupyter-widgets/controls",
          "model_name": "HTMLModel",
          "model_module_version": "1.5.0",
          "state": {
            "_view_name": "HTMLView",
            "style": "IPY_MODEL_da786ff90f8947889655d2af14460992",
            "_dom_classes": [],
            "description": "",
            "_model_name": "HTMLModel",
            "placeholder": "​",
            "_view_module": "@jupyter-widgets/controls",
            "_model_module_version": "1.5.0",
            "value": "  2%",
            "_view_count": null,
            "_view_module_version": "1.5.0",
            "description_tooltip": null,
            "_model_module": "@jupyter-widgets/controls",
            "layout": "IPY_MODEL_dfc740ea08bf4a648e0846de3680d611"
          }
        },
        "3610d6a62af94169997aca6ed25d339f": {
          "model_module": "@jupyter-widgets/controls",
          "model_name": "FloatProgressModel",
          "model_module_version": "1.5.0",
          "state": {
            "_view_name": "ProgressView",
            "style": "IPY_MODEL_23dd644dd352439fb361fd07cfb6c414",
            "_dom_classes": [],
            "description": "",
            "_model_name": "FloatProgressModel",
            "bar_style": "",
            "max": 26070,
            "_view_module": "@jupyter-widgets/controls",
            "_model_module_version": "1.5.0",
            "value": 537,
            "_view_count": null,
            "_view_module_version": "1.5.0",
            "orientation": "horizontal",
            "min": 0,
            "description_tooltip": null,
            "_model_module": "@jupyter-widgets/controls",
            "layout": "IPY_MODEL_ded55fdc210442048ce13ceb155567da"
          }
        },
        "af43f48c0ec54be6ab7c8b960db4a28f": {
          "model_module": "@jupyter-widgets/controls",
          "model_name": "HTMLModel",
          "model_module_version": "1.5.0",
          "state": {
            "_view_name": "HTMLView",
            "style": "IPY_MODEL_ba282ebf86a74de8a2722d49de1bdaab",
            "_dom_classes": [],
            "description": "",
            "_model_name": "HTMLModel",
            "placeholder": "​",
            "_view_module": "@jupyter-widgets/controls",
            "_model_module_version": "1.5.0",
            "value": " 536/26070 [03:48&lt;3:05:08,  2.30it/s]",
            "_view_count": null,
            "_view_module_version": "1.5.0",
            "description_tooltip": null,
            "_model_module": "@jupyter-widgets/controls",
            "layout": "IPY_MODEL_25915633fc13487bb9f1cf43450e7245"
          }
        },
        "da786ff90f8947889655d2af14460992": {
          "model_module": "@jupyter-widgets/controls",
          "model_name": "DescriptionStyleModel",
          "model_module_version": "1.5.0",
          "state": {
            "_view_name": "StyleView",
            "_model_name": "DescriptionStyleModel",
            "description_width": "",
            "_view_module": "@jupyter-widgets/base",
            "_model_module_version": "1.5.0",
            "_view_count": null,
            "_view_module_version": "1.2.0",
            "_model_module": "@jupyter-widgets/controls"
          }
        },
        "dfc740ea08bf4a648e0846de3680d611": {
          "model_module": "@jupyter-widgets/base",
          "model_name": "LayoutModel",
          "model_module_version": "1.2.0",
          "state": {
            "_view_name": "LayoutView",
            "grid_template_rows": null,
            "right": null,
            "justify_content": null,
            "_view_module": "@jupyter-widgets/base",
            "overflow": null,
            "_model_module_version": "1.2.0",
            "_view_count": null,
            "flex_flow": null,
            "width": null,
            "min_width": null,
            "border": null,
            "align_items": null,
            "bottom": null,
            "_model_module": "@jupyter-widgets/base",
            "top": null,
            "grid_column": null,
            "overflow_y": null,
            "overflow_x": null,
            "grid_auto_flow": null,
            "grid_area": null,
            "grid_template_columns": null,
            "flex": null,
            "_model_name": "LayoutModel",
            "justify_items": null,
            "grid_row": null,
            "max_height": null,
            "align_content": null,
            "visibility": null,
            "align_self": null,
            "height": null,
            "min_height": null,
            "padding": null,
            "grid_auto_rows": null,
            "grid_gap": null,
            "max_width": null,
            "order": null,
            "_view_module_version": "1.2.0",
            "grid_template_areas": null,
            "object_position": null,
            "object_fit": null,
            "grid_auto_columns": null,
            "margin": null,
            "display": null,
            "left": null
          }
        },
        "23dd644dd352439fb361fd07cfb6c414": {
          "model_module": "@jupyter-widgets/controls",
          "model_name": "ProgressStyleModel",
          "model_module_version": "1.5.0",
          "state": {
            "_view_name": "StyleView",
            "_model_name": "ProgressStyleModel",
            "description_width": "",
            "_view_module": "@jupyter-widgets/base",
            "_model_module_version": "1.5.0",
            "_view_count": null,
            "_view_module_version": "1.2.0",
            "bar_color": null,
            "_model_module": "@jupyter-widgets/controls"
          }
        },
        "ded55fdc210442048ce13ceb155567da": {
          "model_module": "@jupyter-widgets/base",
          "model_name": "LayoutModel",
          "model_module_version": "1.2.0",
          "state": {
            "_view_name": "LayoutView",
            "grid_template_rows": null,
            "right": null,
            "justify_content": null,
            "_view_module": "@jupyter-widgets/base",
            "overflow": null,
            "_model_module_version": "1.2.0",
            "_view_count": null,
            "flex_flow": null,
            "width": null,
            "min_width": null,
            "border": null,
            "align_items": null,
            "bottom": null,
            "_model_module": "@jupyter-widgets/base",
            "top": null,
            "grid_column": null,
            "overflow_y": null,
            "overflow_x": null,
            "grid_auto_flow": null,
            "grid_area": null,
            "grid_template_columns": null,
            "flex": null,
            "_model_name": "LayoutModel",
            "justify_items": null,
            "grid_row": null,
            "max_height": null,
            "align_content": null,
            "visibility": null,
            "align_self": null,
            "height": null,
            "min_height": null,
            "padding": null,
            "grid_auto_rows": null,
            "grid_gap": null,
            "max_width": null,
            "order": null,
            "_view_module_version": "1.2.0",
            "grid_template_areas": null,
            "object_position": null,
            "object_fit": null,
            "grid_auto_columns": null,
            "margin": null,
            "display": null,
            "left": null
          }
        },
        "ba282ebf86a74de8a2722d49de1bdaab": {
          "model_module": "@jupyter-widgets/controls",
          "model_name": "DescriptionStyleModel",
          "model_module_version": "1.5.0",
          "state": {
            "_view_name": "StyleView",
            "_model_name": "DescriptionStyleModel",
            "description_width": "",
            "_view_module": "@jupyter-widgets/base",
            "_model_module_version": "1.5.0",
            "_view_count": null,
            "_view_module_version": "1.2.0",
            "_model_module": "@jupyter-widgets/controls"
          }
        },
        "25915633fc13487bb9f1cf43450e7245": {
          "model_module": "@jupyter-widgets/base",
          "model_name": "LayoutModel",
          "model_module_version": "1.2.0",
          "state": {
            "_view_name": "LayoutView",
            "grid_template_rows": null,
            "right": null,
            "justify_content": null,
            "_view_module": "@jupyter-widgets/base",
            "overflow": null,
            "_model_module_version": "1.2.0",
            "_view_count": null,
            "flex_flow": null,
            "width": null,
            "min_width": null,
            "border": null,
            "align_items": null,
            "bottom": null,
            "_model_module": "@jupyter-widgets/base",
            "top": null,
            "grid_column": null,
            "overflow_y": null,
            "overflow_x": null,
            "grid_auto_flow": null,
            "grid_area": null,
            "grid_template_columns": null,
            "flex": null,
            "_model_name": "LayoutModel",
            "justify_items": null,
            "grid_row": null,
            "max_height": null,
            "align_content": null,
            "visibility": null,
            "align_self": null,
            "height": null,
            "min_height": null,
            "padding": null,
            "grid_auto_rows": null,
            "grid_gap": null,
            "max_width": null,
            "order": null,
            "_view_module_version": "1.2.0",
            "grid_template_areas": null,
            "object_position": null,
            "object_fit": null,
            "grid_auto_columns": null,
            "margin": null,
            "display": null,
            "left": null
          }
        }
      }
    }
  },
  "cells": [
    {
      "cell_type": "markdown",
      "metadata": {
        "id": "view-in-github",
        "colab_type": "text"
      },
      "source": [
        "<a href=\"https://colab.research.google.com/github/morwald/ada_project/blob/main/main.ipynb\" target=\"_parent\"><img src=\"https://colab.research.google.com/assets/colab-badge.svg\" alt=\"Open In Colab\"/></a>"
      ]
    },
    {
      "cell_type": "markdown",
      "metadata": {
        "id": "7txCTyrTM0qJ"
      },
      "source": [
        "# Female citations in UKs leading news papers"
      ]
    },
    {
      "cell_type": "markdown",
      "metadata": {
        "id": "wEzY5GJ5M0qO"
      },
      "source": [
        "This notebook serves as a first presentation of our project for milestone 2. It is structured and written in such  a way that we can directly continue on it for milestone 3."
      ]
    },
    {
      "cell_type": "markdown",
      "metadata": {
        "id": "ucef3_UkM0qP"
      },
      "source": [
        "## Content\n",
        "1. [Setup](#setup)   \n",
        "    1.1 [Imports](#imports)  \n",
        "    1.2 [Data paths](#data_paths)   \n",
        "    1.3 [Utility functions](#utility_functions)   \n",
        "2. [Data preparation](#data_prep)    \n",
        "    2.1 [Columns and rows selection](#cols_rows_select)  \n",
        "    2.2 [News paper selection](#newspaper_select)           \n",
        "    2.3 [Filtering raw data](#filter_raw_data)\n",
        "\n",
        "3. [Additional data set: speaker attributes](#speaker_attr)    \n",
        "    3.1 [Explore attributes](#explore_attr)  \n",
        "    3.2 [Retrieve quotebank wikidata labels](#reatrieve_labels)           \n",
        "    3.3 [Filtering raw data](#filter_raw_data)   \n",
        "\n",
        "4. [Data exploration and cleaning](#data_explore_clean)  \n",
        "    4.1 [Import prepared data](#import_prep_data)   \n",
        "    4.2 [Set index](#set_index)    \n",
        "    4.3 [Save cleaned data frame as pickle](#save_pickle)   \n",
        "5. [Research questions](#research_question)     \n",
        "    5.1 [Load pickled dataframes](#load_pickle)"
      ]
    },
    {
      "cell_type": "markdown",
      "metadata": {
        "id": "owgTJarZM0qP"
      },
      "source": [
        "## 1. Setup\n",
        "<a id=\"setup\"></a>"
      ]
    },
    {
      "cell_type": "markdown",
      "metadata": {
        "id": "5yqsvZuAM0qQ"
      },
      "source": [
        "### 1.1 Imports\n",
        "<a id=\"imports\"></a>"
      ]
    },
    {
      "cell_type": "code",
      "metadata": {
        "id": "GFoAWQprM0qQ"
      },
      "source": [
        "import pandas as pd\n",
        "import numpy as np\n",
        "import json\n",
        "import bz2\n",
        "import matplotlib.pyplot as plt\n",
        "\n",
        "from tqdm import tqdm\n",
        "from collections import Counter"
      ],
      "execution_count": 7,
      "outputs": []
    },
    {
      "cell_type": "markdown",
      "metadata": {
        "id": "KKWfSxjgM0qR"
      },
      "source": [
        "### 1.2 Data paths\n",
        "<a id=\"Data paths\"></a>\n",
        "\n",
        "**Important**: The raw and prepared data are stored locally in the root folder _Quotebank_ and _Filtered data_. To execute section [Data preperation](#data_prep) the raw data in the folder _Quotebank_ is needed. This section has to be executed only once. When using Google Colab the ```use_colab``` variable has to be set to true. This way the paths can be access directly from our shared drive.\n",
        "\n",
        "You can download the raw data here (EPFL google account required): [Quotebank](), [Speakers]() \\\n",
        "The cleaned data can be found using this link:\n",
        "[Cleaned data]()"
      ]
    },
    {
      "cell_type": "code",
      "metadata": {
        "id": "XgjGqxuSnkx2"
      },
      "source": [
        "# Comment the files which aren't locally stored\n",
        "# In Colab everything should be available\n",
        "RAW_QUOTES_2020_PATH = 'Quotebank/quotes-2020.json.bz2' \n",
        "QUOTES_2020_PATH = 'Filtered data/quotes-2020-gb.json.bz2' \n",
        "\n",
        "#RAW_QUOTES_2019_PATH = 'Quotebank/quotes-2019.json.bz2' \n",
        "QUOTES_2019_PATH = 'Filtered data/quotes-2019-gb.json.bz2' \n",
        "\n",
        "#RAW_QUOTES_2018_PATH = 'Quotebank/quotes-2018.json.bz2' \n",
        "QUOTES_2018_PATH = 'Filtered data/quotes-2018-gb.json.bz2' \n",
        "\n",
        "#RAW_QUOTES_2017_PATH = 'Quotebank/quotes-2017.json.bz2' \n",
        "QUOTES_2017_PATH = 'data/quotes-2017-gb.json.bz2' \n",
        "\n",
        "#RAW_QUOTES_2016_PATH = 'raw_data/quotes-2016.json.bz2' \n",
        "QUOTES_2016_PATH = 'data/quotes-2016-gb.json.bz2' \n",
        "\n",
        "#RAW_QUOTES_2015_PATH = 'raw_data/quotes-2015.json.bz2' \n",
        "QUOTES_2015_PATH = 'data/quotes-2015-gb.json.bz2'\n",
        "\n",
        "# Additional data set\n",
        "SPEAKER_ATTRIBUTES_PATH = 'Project datasets/speaker_attributes.parquet'\n",
        "LABELS_WIKIDATA_PATH = 'Project datasets/wikidata_labels_descriptions_quotebank.csv.bz2'"
      ],
      "execution_count": 3,
      "outputs": []
    },
    {
      "cell_type": "code",
      "metadata": {
        "id": "hzfP-W7znkx3"
      },
      "source": [
        "# Change to True if you want to use google colab\n",
        "use_colab = True"
      ],
      "execution_count": 5,
      "outputs": []
    },
    {
      "cell_type": "markdown",
      "metadata": {
        "id": "qefk9v2tSmnT"
      },
      "source": [
        "We mount the drive and go to the right directory."
      ]
    },
    {
      "cell_type": "code",
      "metadata": {
        "colab": {
          "base_uri": "https://localhost:8080/"
        },
        "id": "TYbQA-9aNUeC",
        "outputId": "a848ddc9-f8cd-485d-859d-76800ca57597"
      },
      "source": [
        "# Import epfl google drive!\n",
        "if use_colab:\n",
        "    from google.colab import drive\n",
        "    drive.mount('/content/drive', force_remount=True)\n",
        "    \n",
        "    %cd /content/drive/Shareddrives/ADA-project"
      ],
      "execution_count": 8,
      "outputs": [
        {
          "output_type": "stream",
          "name": "stdout",
          "text": [
            "Mounted at /content/drive\n",
            "/content/drive/Shareddrives/ADA-project\n"
          ]
        }
      ]
    },
    {
      "cell_type": "markdown",
      "metadata": {
        "id": "02ADHNIxSvDl"
      },
      "source": [
        "We have to install an older version of pandas in order to be able to use the 'chunksize' feature in colab."
      ]
    },
    {
      "cell_type": "code",
      "metadata": {
        "colab": {
          "base_uri": "https://localhost:8080/",
          "height": 401
        },
        "id": "24i5C-GlRwGW",
        "outputId": "87384937-0b61-43c4-fd65-4b2895c4583a"
      },
      "source": [
        "if use_colab:\n",
        "    !pip install pandas==1.0.5\n",
        "\n",
        "    # Reimport\n",
        "    import pandas as pd\n",
        "    print(pd.__version__)"
      ],
      "execution_count": 5,
      "outputs": [
        {
          "output_type": "stream",
          "name": "stdout",
          "text": [
            "Collecting pandas==1.0.5\n",
            "  Downloading pandas-1.0.5-cp37-cp37m-manylinux1_x86_64.whl (10.1 MB)\n",
            "\u001b[K     |████████████████████████████████| 10.1 MB 5.3 MB/s \n",
            "\u001b[?25hRequirement already satisfied: pytz>=2017.2 in /usr/local/lib/python3.7/dist-packages (from pandas==1.0.5) (2018.9)\n",
            "Requirement already satisfied: numpy>=1.13.3 in /usr/local/lib/python3.7/dist-packages (from pandas==1.0.5) (1.19.5)\n",
            "Requirement already satisfied: python-dateutil>=2.6.1 in /usr/local/lib/python3.7/dist-packages (from pandas==1.0.5) (2.8.2)\n",
            "Requirement already satisfied: six>=1.5 in /usr/local/lib/python3.7/dist-packages (from python-dateutil>=2.6.1->pandas==1.0.5) (1.15.0)\n",
            "Installing collected packages: pandas\n",
            "  Attempting uninstall: pandas\n",
            "    Found existing installation: pandas 1.1.5\n",
            "    Uninstalling pandas-1.1.5:\n",
            "      Successfully uninstalled pandas-1.1.5\n",
            "\u001b[31mERROR: pip's dependency resolver does not currently take into account all the packages that are installed. This behaviour is the source of the following dependency conflicts.\n",
            "google-colab 1.0.0 requires pandas~=1.1.0; python_version >= \"3.0\", but you have pandas 1.0.5 which is incompatible.\u001b[0m\n",
            "Successfully installed pandas-1.0.5\n"
          ]
        },
        {
          "output_type": "display_data",
          "data": {
            "application/vnd.colab-display-data+json": {
              "pip_warning": {
                "packages": [
                  "pandas"
                ]
              }
            }
          },
          "metadata": {}
        },
        {
          "output_type": "stream",
          "name": "stdout",
          "text": [
            "1.1.5\n"
          ]
        }
      ]
    },
    {
      "cell_type": "markdown",
      "metadata": {
        "id": "KymkAGpdM0qT"
      },
      "source": [
        "## 1.3 Utility functions\n",
        "<a id=\"utility_functions\"></a>"
      ]
    },
    {
      "cell_type": "code",
      "metadata": {
        "id": "tAN-njz8SJ2z"
      },
      "source": [
        "def load_mini_version_of_data(path_to_file, chunksize, nb_chunks):\n",
        "    \"\"\"\n",
        "    Returns a mini dataframe from of a bz2 compressed json file.\n",
        "    :path_to_file: file path as string\n",
        "    :chunksize: size to iterate\n",
        "    :nb_chunks: how many chunks\n",
        "    :return: pandas.DataFrame with chunksize*nb_chunks of rows\n",
        "    \"\"\"\n",
        "    \n",
        "    curr_chunk = 0\n",
        "    chunk_list = []\n",
        "    \n",
        "    if use_colab:\n",
        "          for chunk in pd.read_json(path_to_file, lines=True, compression='bz2', chunksize=chunksize):\n",
        "              if curr_chunk == nb_chunks:\n",
        "                  break\n",
        "              curr_chunk = curr_chunk + 1\n",
        "              chunk_list.append(chunk)\n",
        "    else:\n",
        "      with pd.read_json(path_to_file, lines=True, compression='bz2', chunksize=chunksize) as df_reader:\n",
        "          for chunk in df_reader:\n",
        "              if curr_chunk == nb_chunks:\n",
        "                  break\n",
        "          \n",
        "              curr_chunk = curr_chunk + 1\n",
        "              chunk_list.append(chunk)\n",
        "    \n",
        "    df = pd.concat(chunk_list)\n",
        "    return df"
      ],
      "execution_count": 1,
      "outputs": []
    },
    {
      "cell_type": "markdown",
      "metadata": {
        "id": "e3X94ETfM0qU"
      },
      "source": [
        "## 2. Data preparation\n",
        "<a id=\"data_prep\"></a>\n",
        "\n",
        "The quotebank dataset is too large to directly access it with a dataframe. This section provides all the steps to filter the data we need for our analysis. The filtering and preperation is done based on our research question. Please check the README for details. Further explanations are given under [Research question](#research_question).\n",
        "\n",
        "The data preperation can be done on a per year basis of the Quotebank data set."
      ]
    },
    {
      "cell_type": "markdown",
      "metadata": {
        "id": "0aBizKy0M0qV"
      },
      "source": [
        "### 2.1 Column and row selection\n",
        "<a id=\"cols_rows_select\"></a>"
      ]
    },
    {
      "cell_type": "code",
      "metadata": {
        "colab": {
          "base_uri": "https://localhost:8080/",
          "height": 642
        },
        "id": "DDiGK7IoM0qV",
        "outputId": "63a67de9-6f1d-41b4-b7ea-c240ec914d66"
      },
      "source": [
        "# A quick look at a small subset of the data of the selected year\n",
        "year_sample_df = load_mini_version_of_data(RAW_QUOTES_2020_PATH, 10000, 10)\n",
        "year_sample_df.head()"
      ],
      "execution_count": 9,
      "outputs": [
        {
          "output_type": "execute_result",
          "data": {
            "text/html": [
              "<div>\n",
              "<style scoped>\n",
              "    .dataframe tbody tr th:only-of-type {\n",
              "        vertical-align: middle;\n",
              "    }\n",
              "\n",
              "    .dataframe tbody tr th {\n",
              "        vertical-align: top;\n",
              "    }\n",
              "\n",
              "    .dataframe thead th {\n",
              "        text-align: right;\n",
              "    }\n",
              "</style>\n",
              "<table border=\"1\" class=\"dataframe\">\n",
              "  <thead>\n",
              "    <tr style=\"text-align: right;\">\n",
              "      <th></th>\n",
              "      <th>quoteID</th>\n",
              "      <th>quotation</th>\n",
              "      <th>speaker</th>\n",
              "      <th>qids</th>\n",
              "      <th>date</th>\n",
              "      <th>numOccurrences</th>\n",
              "      <th>probas</th>\n",
              "      <th>urls</th>\n",
              "      <th>phase</th>\n",
              "    </tr>\n",
              "  </thead>\n",
              "  <tbody>\n",
              "    <tr>\n",
              "      <th>0</th>\n",
              "      <td>2020-01-28-000082</td>\n",
              "      <td>[ D ] espite the efforts of the partners to cr...</td>\n",
              "      <td>None</td>\n",
              "      <td>[]</td>\n",
              "      <td>2020-01-28 08:04:05</td>\n",
              "      <td>1</td>\n",
              "      <td>[[None, 0.7272], [Prime Minister Netanyahu, 0....</td>\n",
              "      <td>[http://israelnationalnews.com/News/News.aspx/...</td>\n",
              "      <td>E</td>\n",
              "    </tr>\n",
              "    <tr>\n",
              "      <th>1</th>\n",
              "      <td>2020-01-16-000088</td>\n",
              "      <td>[ Department of Homeland Security ] was livid ...</td>\n",
              "      <td>Sue Myrick</td>\n",
              "      <td>[Q367796]</td>\n",
              "      <td>2020-01-16 12:00:13</td>\n",
              "      <td>1</td>\n",
              "      <td>[[Sue Myrick, 0.8867], [None, 0.0992], [Ron Wy...</td>\n",
              "      <td>[http://thehill.com/opinion/international/4782...</td>\n",
              "      <td>E</td>\n",
              "    </tr>\n",
              "    <tr>\n",
              "      <th>2</th>\n",
              "      <td>2020-02-10-000142</td>\n",
              "      <td>... He (Madhav) also disclosed that the illega...</td>\n",
              "      <td>None</td>\n",
              "      <td>[]</td>\n",
              "      <td>2020-02-10 23:45:54</td>\n",
              "      <td>1</td>\n",
              "      <td>[[None, 0.8926], [Prakash Rai, 0.1074]]</td>\n",
              "      <td>[https://indianexpress.com/article/business/ec...</td>\n",
              "      <td>E</td>\n",
              "    </tr>\n",
              "    <tr>\n",
              "      <th>3</th>\n",
              "      <td>2020-02-15-000053</td>\n",
              "      <td>... [ I ] f it gets to the floor,</td>\n",
              "      <td>None</td>\n",
              "      <td>[]</td>\n",
              "      <td>2020-02-15 14:12:51</td>\n",
              "      <td>2</td>\n",
              "      <td>[[None, 0.581], [Andy Harris, 0.4191]]</td>\n",
              "      <td>[https://patriotpost.us/opinion/68622-trump-bu...</td>\n",
              "      <td>E</td>\n",
              "    </tr>\n",
              "    <tr>\n",
              "      <th>4</th>\n",
              "      <td>2020-01-24-000168</td>\n",
              "      <td>[ I met them ] when they just turned 4 and 7. ...</td>\n",
              "      <td>Meghan King Edmonds</td>\n",
              "      <td>[Q20684375]</td>\n",
              "      <td>2020-01-24 20:37:09</td>\n",
              "      <td>4</td>\n",
              "      <td>[[Meghan King Edmonds, 0.5446], [None, 0.2705]...</td>\n",
              "      <td>[https://people.com/parents/meghan-king-edmond...</td>\n",
              "      <td>E</td>\n",
              "    </tr>\n",
              "  </tbody>\n",
              "</table>\n",
              "</div>"
            ],
            "text/plain": [
              "             quoteID  ... phase\n",
              "0  2020-01-28-000082  ...     E\n",
              "1  2020-01-16-000088  ...     E\n",
              "2  2020-02-10-000142  ...     E\n",
              "3  2020-02-15-000053  ...     E\n",
              "4  2020-01-24-000168  ...     E\n",
              "\n",
              "[5 rows x 9 columns]"
            ]
          },
          "metadata": {},
          "execution_count": 9
        }
      ]
    },
    {
      "cell_type": "code",
      "metadata": {
        "colab": {
          "base_uri": "https://localhost:8080/"
        },
        "id": "hBzK83L9M0qW",
        "scrolled": true,
        "outputId": "4444ff9d-d50c-4c59-8bab-24e6a95ed76d"
      },
      "source": [
        "# How many quotations don't have an assigned speaker?\n",
        "sum(year_sample_df['speaker'] == 'None')"
      ],
      "execution_count": null,
      "outputs": [
        {
          "output_type": "execute_result",
          "data": {
            "text/plain": [
              "34316"
            ]
          },
          "metadata": {},
          "execution_count": 8
        }
      ]
    },
    {
      "cell_type": "markdown",
      "metadata": {
        "id": "DH6Hbvv_M0qW"
      },
      "source": [
        "The cell above shows that there around 1/3 of the quotations are 'None' speakers. As we want to make a gender based study will will not need these rows. This eliminitation will drasticly reduce the size of the data we have to analyse.\n",
        "\n",
        "Furthermore the colums which aren't of interest for our study are:\\\n",
        "**phase**: we don't care\\\n",
        "**probas**: as we will select the the speaker with highest probablity (note that 'None' speakers are already neglected)"
      ]
    },
    {
      "cell_type": "markdown",
      "metadata": {
        "id": "Mw_WR9hCM0qX"
      },
      "source": [
        "### 2.2 Newspaper selection\n",
        "<a id=\"nespaper_select\"></a>\n",
        "In first analysis we will pick quotations of 3 of the top 12 UKs newspapers with the most reach both in prints and digital reach. See [this]() statistic for further details"
      ]
    },
    {
      "cell_type": "code",
      "metadata": {
        "colab": {
          "base_uri": "https://localhost:8080/",
          "height": 143
        },
        "id": "MqiT955RM0qX",
        "outputId": "28c20715-a72b-4a95-9346-e4ae872c1758"
      },
      "source": [
        "# List of selected newspapers and their urls\n",
        "newspapers_list = [['The Sun', 'thesun.co.uk'], \n",
        "                  ['The Guardian', 'theguardian.com'],\n",
        "                  ['The Times', 'thetimes.co.uk']]\n",
        "\n",
        "# Dataframe\n",
        "newspapers_df = pd.DataFrame(newspapers_list, columns = ['name', 'website_url'])\n",
        "newspapers_df.head()"
      ],
      "execution_count": 10,
      "outputs": [
        {
          "output_type": "execute_result",
          "data": {
            "text/html": [
              "<div>\n",
              "<style scoped>\n",
              "    .dataframe tbody tr th:only-of-type {\n",
              "        vertical-align: middle;\n",
              "    }\n",
              "\n",
              "    .dataframe tbody tr th {\n",
              "        vertical-align: top;\n",
              "    }\n",
              "\n",
              "    .dataframe thead th {\n",
              "        text-align: right;\n",
              "    }\n",
              "</style>\n",
              "<table border=\"1\" class=\"dataframe\">\n",
              "  <thead>\n",
              "    <tr style=\"text-align: right;\">\n",
              "      <th></th>\n",
              "      <th>name</th>\n",
              "      <th>website_url</th>\n",
              "    </tr>\n",
              "  </thead>\n",
              "  <tbody>\n",
              "    <tr>\n",
              "      <th>0</th>\n",
              "      <td>The Sun</td>\n",
              "      <td>thesun.co.uk</td>\n",
              "    </tr>\n",
              "    <tr>\n",
              "      <th>1</th>\n",
              "      <td>The Guardian</td>\n",
              "      <td>theguardian.com</td>\n",
              "    </tr>\n",
              "    <tr>\n",
              "      <th>2</th>\n",
              "      <td>The Times</td>\n",
              "      <td>thetimes.co.uk</td>\n",
              "    </tr>\n",
              "  </tbody>\n",
              "</table>\n",
              "</div>"
            ],
            "text/plain": [
              "           name      website_url\n",
              "0       The Sun     thesun.co.uk\n",
              "1  The Guardian  theguardian.com\n",
              "2     The Times   thetimes.co.uk"
            ]
          },
          "metadata": {},
          "execution_count": 10
        }
      ]
    },
    {
      "cell_type": "markdown",
      "metadata": {
        "id": "7PSbHGGtM0qX"
      },
      "source": [
        "### 2.3 Filtering raw data\n",
        "<a id=\"filter_raw_data\"></a>\n",
        "\n",
        "Following the reasoning above we can extract the infos needed from the compressed file of a year of quotations. Let's create a helper function to check the primary urls of a quotation:"
      ]
    },
    {
      "cell_type": "code",
      "metadata": {
        "id": "902eh0g-cu78"
      },
      "source": [
        "def filter_data(path_in, path_out):\n",
        "  # Loop through all instances of json file and extract the desired rows\n",
        "  # Save the file in the data directory\n",
        "  with bz2.open(path_in, 'rb') as s_file:\n",
        "      with bz2.open(path_out, 'wb') as d_file:\n",
        "          for instance in s_file:\n",
        "              instance = json.loads(instance) # loading a sample\n",
        "              if instance['speaker'] == 'None':\n",
        "                  continue\n",
        "              urls = instance['urls'] # extracting list of links\n",
        "              newspapers = []\n",
        "              for url in urls:\n",
        "                  for name, website_url in zip(newspapers_df['name'],newspapers_df['website_url']):\n",
        "                      if website_url in url:\n",
        "                          newspapers.append(name)\n",
        "                          instance['newspapers'] = newspapers # updating the sample with domain name\n",
        "              # We remove unnecessary columns\n",
        "              instance.pop('probas')\n",
        "              instance.pop('phase')\n",
        "              # If there is a newspaper that we want to keep we write the instance to the output file\n",
        "              if newspapers: \n",
        "                d_file.write((json.dumps(instance)+'\\n').encode('utf-8')) # writing in the new file\n",
        "                "
      ],
      "execution_count": 11,
      "outputs": []
    },
    {
      "cell_type": "code",
      "metadata": {
        "id": "iPJda6mObZja"
      },
      "source": [
        "#filter_data(RAW_QUOTES_2020_PATH,QUOTES_2020_PATH)"
      ],
      "execution_count": null,
      "outputs": []
    },
    {
      "cell_type": "code",
      "metadata": {
        "colab": {
          "base_uri": "https://localhost:8080/",
          "height": 677
        },
        "id": "APW1C9ivsu-G",
        "outputId": "46a8bfef-c00c-492f-c3e2-0daa5c35ba78"
      },
      "source": [
        "# We check that the new file contains the right data\n",
        "filtered_sample_df = load_mini_version_of_data(QUOTES_2020_PATH, 10000, 10)\n",
        "filtered_sample_df.head()"
      ],
      "execution_count": 12,
      "outputs": [
        {
          "output_type": "execute_result",
          "data": {
            "text/html": [
              "<div>\n",
              "<style scoped>\n",
              "    .dataframe tbody tr th:only-of-type {\n",
              "        vertical-align: middle;\n",
              "    }\n",
              "\n",
              "    .dataframe tbody tr th {\n",
              "        vertical-align: top;\n",
              "    }\n",
              "\n",
              "    .dataframe thead th {\n",
              "        text-align: right;\n",
              "    }\n",
              "</style>\n",
              "<table border=\"1\" class=\"dataframe\">\n",
              "  <thead>\n",
              "    <tr style=\"text-align: right;\">\n",
              "      <th></th>\n",
              "      <th>quoteID</th>\n",
              "      <th>quotation</th>\n",
              "      <th>speaker</th>\n",
              "      <th>qids</th>\n",
              "      <th>date</th>\n",
              "      <th>numOccurrences</th>\n",
              "      <th>urls</th>\n",
              "      <th>newspapers</th>\n",
              "    </tr>\n",
              "  </thead>\n",
              "  <tbody>\n",
              "    <tr>\n",
              "      <th>0</th>\n",
              "      <td>2020-01-31-008580</td>\n",
              "      <td>As you reach or have reached the apex of your ...</td>\n",
              "      <td>Keyon Dooling</td>\n",
              "      <td>[Q304349]</td>\n",
              "      <td>2020-01-31 19:07:55</td>\n",
              "      <td>1</td>\n",
              "      <td>[https://www.theguardian.com/sport/2020/jan/31...</td>\n",
              "      <td>[The Guardian]</td>\n",
              "    </tr>\n",
              "    <tr>\n",
              "      <th>1</th>\n",
              "      <td>2020-01-20-006469</td>\n",
              "      <td>At the same time we want to remain friends wit...</td>\n",
              "      <td>Tim Martin</td>\n",
              "      <td>[Q20670776, Q20713880, Q7803899, Q7803900]</td>\n",
              "      <td>2020-01-20 09:08:24</td>\n",
              "      <td>4</td>\n",
              "      <td>[https://www.dailystar.co.uk/real-life/wethers...</td>\n",
              "      <td>[The Sun]</td>\n",
              "    </tr>\n",
              "    <tr>\n",
              "      <th>2</th>\n",
              "      <td>2020-04-03-006933</td>\n",
              "      <td>Been home-schooling a 6-year-old and 8-year-ol...</td>\n",
              "      <td>Shonda Rhimes</td>\n",
              "      <td>[Q242329]</td>\n",
              "      <td>2020-04-03 16:00:00</td>\n",
              "      <td>1</td>\n",
              "      <td>[http://www.thetimes.co.uk/edition/magazine/ca...</td>\n",
              "      <td>[The Times]</td>\n",
              "    </tr>\n",
              "    <tr>\n",
              "      <th>3</th>\n",
              "      <td>2020-04-15-018814</td>\n",
              "      <td>I am now in agreement that we should move forw...</td>\n",
              "      <td>David Boies</td>\n",
              "      <td>[Q5231515]</td>\n",
              "      <td>2020-04-15 15:46:38</td>\n",
              "      <td>1</td>\n",
              "      <td>[https://www.thesun.co.uk/news/11403669/jeffre...</td>\n",
              "      <td>[The Sun]</td>\n",
              "    </tr>\n",
              "    <tr>\n",
              "      <th>4</th>\n",
              "      <td>2020-02-16-014286</td>\n",
              "      <td>I don't want to make a career out of [ remakin...</td>\n",
              "      <td>Ramiro Gomez</td>\n",
              "      <td>[Q30693403, Q43130877]</td>\n",
              "      <td>2020-02-16 15:00:32</td>\n",
              "      <td>1</td>\n",
              "      <td>[https://www.theguardian.com/artanddesign/2020...</td>\n",
              "      <td>[The Guardian]</td>\n",
              "    </tr>\n",
              "  </tbody>\n",
              "</table>\n",
              "</div>"
            ],
            "text/plain": [
              "             quoteID  ...      newspapers\n",
              "0  2020-01-31-008580  ...  [The Guardian]\n",
              "1  2020-01-20-006469  ...       [The Sun]\n",
              "2  2020-04-03-006933  ...     [The Times]\n",
              "3  2020-04-15-018814  ...       [The Sun]\n",
              "4  2020-02-16-014286  ...  [The Guardian]\n",
              "\n",
              "[5 rows x 8 columns]"
            ]
          },
          "metadata": {},
          "execution_count": 12
        }
      ]
    },
    {
      "cell_type": "markdown",
      "metadata": {
        "id": "WifW8YvwlTKW"
      },
      "source": [
        "Let's check that there are no 'None' speakers:"
      ]
    },
    {
      "cell_type": "code",
      "metadata": {
        "colab": {
          "base_uri": "https://localhost:8080/"
        },
        "id": "dqYFW8r4lSRe",
        "outputId": "4af30362-59cb-4d9c-9247-2543a2457a58"
      },
      "source": [
        "filtered_sample_df[filtered_sample_df.speaker=='None'].empty"
      ],
      "execution_count": null,
      "outputs": [
        {
          "output_type": "execute_result",
          "data": {
            "text/plain": [
              "True"
            ]
          },
          "metadata": {},
          "execution_count": 13
        }
      ]
    },
    {
      "cell_type": "markdown",
      "metadata": {
        "id": "kzRC-DlP2TsX"
      },
      "source": [
        "#### Replace qids column by only taking its first qid value "
      ]
    },
    {
      "cell_type": "code",
      "metadata": {
        "id": "gz8gTxkW2Q8k"
      },
      "source": [
        "#We want to transform the 'qids' column in a single 'qid' element\n",
        "def get_single_qid(df_quotes):\n",
        "\n",
        "  df_copy =  df_quotes.copy()\n",
        "  df_result =  df_quotes.copy()\n",
        "  for idx,row in df_copy.iterrows():  \n",
        "    id_speaker = row.loc['qids'][0] \n",
        "    df_result.at[idx,'qids'] = id_speaker\n",
        "\n",
        "  df_result = df_result.rename(columns={\"qids\": \"qid\"})\n",
        "  return df_result"
      ],
      "execution_count": 23,
      "outputs": []
    },
    {
      "cell_type": "code",
      "metadata": {
        "id": "vp7KERLe2jMv"
      },
      "source": [
        "filtered_sample_df = get_single_qid(filtered_sample_df)"
      ],
      "execution_count": 24,
      "outputs": []
    },
    {
      "cell_type": "markdown",
      "metadata": {
        "id": "xLMg_0cfl6pg"
      },
      "source": [
        "Now let us do this filtering for the remaining data of years 2015-2019."
      ]
    },
    {
      "cell_type": "code",
      "metadata": {
        "id": "AePNLWxAl6Vz"
      },
      "source": [
        "#filter_data(RAW_QUOTES_2019_PATH,QUOTES_2019_PATH)\n",
        "#filter_data(RAW_QUOTES_2018_PATH,QUOTES_2018_PATH)\n",
        "#filter_data(RAW_QUOTES_2017_PATH,QUOTES_2017_PATH)\n",
        "#filter_data(RAW_QUOTES_2016_PATH,QUOTES_2016_PATH)\n",
        "#filter_data(RAW_QUOTES_2015_PATH,QUOTES_2015_PATH)"
      ],
      "execution_count": null,
      "outputs": []
    },
    {
      "cell_type": "markdown",
      "metadata": {
        "id": "hE3n5IX4M0qY",
        "tags": []
      },
      "source": [
        "## 3. Additional data set: speaker attributes\n",
        "<a id=\"speaker_attr\"></a>\n",
        "\n",
        "The filtered Quotebank years are ready. The next step consists of integrating speaker attributes from our additional data set."
      ]
    },
    {
      "cell_type": "markdown",
      "metadata": {
        "id": "7B7nQdaVuh34"
      },
      "source": [
        "### 3.1 Explore attributes\n",
        "<a id=\"explore_attr\"></a>\n"
      ]
    },
    {
      "cell_type": "code",
      "metadata": {
        "colab": {
          "base_uri": "https://localhost:8080/",
          "height": 590
        },
        "id": "GHP_sBCenkx_",
        "outputId": "d62a27c0-ea5a-4558-e305-d143ea27f465"
      },
      "source": [
        "# Load speaker attributes in df\n",
        "speakers_df = pd.read_parquet(SPEAKER_ATTRIBUTES_PATH)\n",
        "speakers_df.head()"
      ],
      "execution_count": 13,
      "outputs": [
        {
          "output_type": "execute_result",
          "data": {
            "text/html": [
              "<div>\n",
              "<style scoped>\n",
              "    .dataframe tbody tr th:only-of-type {\n",
              "        vertical-align: middle;\n",
              "    }\n",
              "\n",
              "    .dataframe tbody tr th {\n",
              "        vertical-align: top;\n",
              "    }\n",
              "\n",
              "    .dataframe thead th {\n",
              "        text-align: right;\n",
              "    }\n",
              "</style>\n",
              "<table border=\"1\" class=\"dataframe\">\n",
              "  <thead>\n",
              "    <tr style=\"text-align: right;\">\n",
              "      <th></th>\n",
              "      <th>aliases</th>\n",
              "      <th>date_of_birth</th>\n",
              "      <th>nationality</th>\n",
              "      <th>gender</th>\n",
              "      <th>lastrevid</th>\n",
              "      <th>ethnic_group</th>\n",
              "      <th>US_congress_bio_ID</th>\n",
              "      <th>occupation</th>\n",
              "      <th>party</th>\n",
              "      <th>academic_degree</th>\n",
              "      <th>id</th>\n",
              "      <th>label</th>\n",
              "      <th>candidacy</th>\n",
              "      <th>type</th>\n",
              "      <th>religion</th>\n",
              "    </tr>\n",
              "  </thead>\n",
              "  <tbody>\n",
              "    <tr>\n",
              "      <th>0</th>\n",
              "      <td>[Washington, President Washington, G. Washingt...</td>\n",
              "      <td>[+1732-02-22T00:00:00Z]</td>\n",
              "      <td>[Q161885, Q30]</td>\n",
              "      <td>[Q6581097]</td>\n",
              "      <td>1395141751</td>\n",
              "      <td>None</td>\n",
              "      <td>W000178</td>\n",
              "      <td>[Q82955, Q189290, Q131512, Q1734662, Q294126, ...</td>\n",
              "      <td>[Q327591]</td>\n",
              "      <td>None</td>\n",
              "      <td>Q23</td>\n",
              "      <td>George Washington</td>\n",
              "      <td>[Q698073, Q697949]</td>\n",
              "      <td>item</td>\n",
              "      <td>[Q682443]</td>\n",
              "    </tr>\n",
              "    <tr>\n",
              "      <th>1</th>\n",
              "      <td>[Douglas Noel Adams, Douglas Noël Adams, Dougl...</td>\n",
              "      <td>[+1952-03-11T00:00:00Z]</td>\n",
              "      <td>[Q145]</td>\n",
              "      <td>[Q6581097]</td>\n",
              "      <td>1395737157</td>\n",
              "      <td>[Q7994501]</td>\n",
              "      <td>None</td>\n",
              "      <td>[Q214917, Q28389, Q6625963, Q4853732, Q1884422...</td>\n",
              "      <td>None</td>\n",
              "      <td>None</td>\n",
              "      <td>Q42</td>\n",
              "      <td>Douglas Adams</td>\n",
              "      <td>None</td>\n",
              "      <td>item</td>\n",
              "      <td>None</td>\n",
              "    </tr>\n",
              "    <tr>\n",
              "      <th>2</th>\n",
              "      <td>[Paul Marie Ghislain Otlet, Paul Marie Otlet]</td>\n",
              "      <td>[+1868-08-23T00:00:00Z]</td>\n",
              "      <td>[Q31]</td>\n",
              "      <td>[Q6581097]</td>\n",
              "      <td>1380367296</td>\n",
              "      <td>None</td>\n",
              "      <td>None</td>\n",
              "      <td>[Q36180, Q40348, Q182436, Q1265807, Q205375, Q...</td>\n",
              "      <td>None</td>\n",
              "      <td>None</td>\n",
              "      <td>Q1868</td>\n",
              "      <td>Paul Otlet</td>\n",
              "      <td>None</td>\n",
              "      <td>item</td>\n",
              "      <td>None</td>\n",
              "    </tr>\n",
              "    <tr>\n",
              "      <th>3</th>\n",
              "      <td>[George Walker Bush, Bush Jr., Dubya, GWB, Bus...</td>\n",
              "      <td>[+1946-07-06T00:00:00Z]</td>\n",
              "      <td>[Q30]</td>\n",
              "      <td>[Q6581097]</td>\n",
              "      <td>1395142029</td>\n",
              "      <td>None</td>\n",
              "      <td>None</td>\n",
              "      <td>[Q82955, Q15982858, Q18814623, Q1028181, Q1408...</td>\n",
              "      <td>[Q29468]</td>\n",
              "      <td>None</td>\n",
              "      <td>Q207</td>\n",
              "      <td>George W. Bush</td>\n",
              "      <td>[Q327959, Q464075, Q3586276, Q4450587]</td>\n",
              "      <td>item</td>\n",
              "      <td>[Q329646, Q682443, Q33203]</td>\n",
              "    </tr>\n",
              "    <tr>\n",
              "      <th>4</th>\n",
              "      <td>[Velázquez, Diego Rodríguez de Silva y Velázqu...</td>\n",
              "      <td>[+1599-06-06T00:00:00Z]</td>\n",
              "      <td>[Q29]</td>\n",
              "      <td>[Q6581097]</td>\n",
              "      <td>1391704596</td>\n",
              "      <td>None</td>\n",
              "      <td>None</td>\n",
              "      <td>[Q1028181]</td>\n",
              "      <td>None</td>\n",
              "      <td>None</td>\n",
              "      <td>Q297</td>\n",
              "      <td>Diego Velázquez</td>\n",
              "      <td>None</td>\n",
              "      <td>item</td>\n",
              "      <td>None</td>\n",
              "    </tr>\n",
              "  </tbody>\n",
              "</table>\n",
              "</div>"
            ],
            "text/plain": [
              "                                             aliases  ...                    religion\n",
              "0  [Washington, President Washington, G. Washingt...  ...                   [Q682443]\n",
              "1  [Douglas Noel Adams, Douglas Noël Adams, Dougl...  ...                        None\n",
              "2      [Paul Marie Ghislain Otlet, Paul Marie Otlet]  ...                        None\n",
              "3  [George Walker Bush, Bush Jr., Dubya, GWB, Bus...  ...  [Q329646, Q682443, Q33203]\n",
              "4  [Velázquez, Diego Rodríguez de Silva y Velázqu...  ...                        None\n",
              "\n",
              "[5 rows x 15 columns]"
            ]
          },
          "metadata": {},
          "execution_count": 13
        }
      ]
    },
    {
      "cell_type": "markdown",
      "metadata": {
        "id": "hBVAXbmJypTz"
      },
      "source": [
        "We would like to do an analysis based on the gender of the speakers. Thus we are not interested in the quotes without a speaker. We first proceed to remove them.\n"
      ]
    },
    {
      "cell_type": "code",
      "metadata": {
        "id": "J77TJz9yzFND",
        "colab": {
          "base_uri": "https://localhost:8080/"
        },
        "outputId": "8d4253b6-176f-4e5b-fdc8-6cd2fa055efb"
      },
      "source": [
        "# Fraction of lines with null gender : \n",
        "speakers_df[speakers_df.gender.isnull()].size / speakers_df.size"
      ],
      "execution_count": null,
      "outputs": [
        {
          "output_type": "execute_result",
          "data": {
            "text/plain": [
              "0.21536937853557775"
            ]
          },
          "metadata": {},
          "execution_count": 8
        }
      ]
    },
    {
      "cell_type": "code",
      "metadata": {
        "id": "Ec66xJ90zQ0d"
      },
      "source": [
        "# Remove null gender\n",
        "speakers_df = speakers_df.drop(speakers_df[speakers_df.gender.isnull()].index)"
      ],
      "execution_count": 14,
      "outputs": []
    },
    {
      "cell_type": "markdown",
      "metadata": {
        "id": "R5OUmGsqnkyA"
      },
      "source": [
        "We aren't intersted in a lot of those columns. First of we'll remove all the unneccessary ones for our analysis."
      ]
    },
    {
      "cell_type": "code",
      "metadata": {
        "id": "tdlSdBrbnkyA"
      },
      "source": [
        "# Remove unncessary columns\n",
        "speakers_df = speakers_df.drop(['lastrevid', 'US_congress_bio_ID', 'party', 'candidacy', 'type'], axis=1) \n",
        "#TODO Garder ici déjà que id, gender et nationality? Ou faire quand même l'analyse"
      ],
      "execution_count": null,
      "outputs": []
    },
    {
      "cell_type": "markdown",
      "metadata": {
        "id": "-ijhmvqAwDgH"
      },
      "source": [
        "And there seem to be no duplicates. Perfect."
      ]
    },
    {
      "cell_type": "code",
      "metadata": {
        "colab": {
          "base_uri": "https://localhost:8080/",
          "height": 49
        },
        "id": "o6qUQ_tPnkyC",
        "outputId": "c18fbe2e-28af-459c-e381-74970a175b38"
      },
      "source": [
        "# Duplicates\n",
        "duplicates = speakers_df[speakers_df.duplicated(subset='id', keep='first')] \n",
        "duplicates.head()"
      ],
      "execution_count": null,
      "outputs": [
        {
          "output_type": "execute_result",
          "data": {
            "text/html": [
              "<div>\n",
              "<style scoped>\n",
              "    .dataframe tbody tr th:only-of-type {\n",
              "        vertical-align: middle;\n",
              "    }\n",
              "\n",
              "    .dataframe tbody tr th {\n",
              "        vertical-align: top;\n",
              "    }\n",
              "\n",
              "    .dataframe thead th {\n",
              "        text-align: right;\n",
              "    }\n",
              "</style>\n",
              "<table border=\"1\" class=\"dataframe\">\n",
              "  <thead>\n",
              "    <tr style=\"text-align: right;\">\n",
              "      <th></th>\n",
              "      <th>aliases</th>\n",
              "      <th>date_of_birth</th>\n",
              "      <th>nationality</th>\n",
              "      <th>gender</th>\n",
              "      <th>ethnic_group</th>\n",
              "      <th>occupation</th>\n",
              "      <th>academic_degree</th>\n",
              "      <th>id</th>\n",
              "      <th>label</th>\n",
              "      <th>religion</th>\n",
              "    </tr>\n",
              "  </thead>\n",
              "  <tbody>\n",
              "  </tbody>\n",
              "</table>\n",
              "</div>"
            ],
            "text/plain": [
              "Empty DataFrame\n",
              "Columns: [aliases, date_of_birth, nationality, gender, ethnic_group, occupation, academic_degree, id, label, religion]\n",
              "Index: []"
            ]
          },
          "metadata": {},
          "execution_count": 11
        }
      ]
    },
    {
      "cell_type": "markdown",
      "metadata": {
        "id": "HsTU_34onkyA"
      },
      "source": [
        "In addition to the gender column, we are also interested in the columns academic_degree and nationality. Let's check how many 'None' values we have and remove them."
      ]
    },
    {
      "cell_type": "code",
      "metadata": {
        "colab": {
          "base_uri": "https://localhost:8080/"
        },
        "id": "IPwXvBnknkyB",
        "outputId": "4f014191-8c18-4fa0-baea-720feaa2763d"
      },
      "source": [
        "# Fraction of lines with null nationality\n",
        "speakers_df[speakers_df.nationality.isnull()].size / speakers_df.size"
      ],
      "execution_count": null,
      "outputs": [
        {
          "output_type": "execute_result",
          "data": {
            "text/plain": [
              "0.48707104255798245"
            ]
          },
          "metadata": {},
          "execution_count": 12
        }
      ]
    },
    {
      "cell_type": "code",
      "metadata": {
        "id": "8zp-JKZH2igZ",
        "colab": {
          "base_uri": "https://localhost:8080/"
        },
        "outputId": "1c1695f2-7b2b-4a58-d162-7704bc9bb25e"
      },
      "source": [
        "# Fraction of lines with null academic degree :\n",
        "speakers_df[speakers_df.academic_degree.isnull()].size / speakers_df.size"
      ],
      "execution_count": null,
      "outputs": [
        {
          "output_type": "execute_result",
          "data": {
            "text/plain": [
              "0.9866371594235532"
            ]
          },
          "metadata": {},
          "execution_count": 13
        }
      ]
    },
    {
      "cell_type": "code",
      "metadata": {
        "colab": {
          "base_uri": "https://localhost:8080/"
        },
        "id": "mcvw9JjInkyB",
        "outputId": "6bc4fe6c-43a2-48aa-d417-57a807e0b1c4"
      },
      "source": [
        "# Fraction of lines with null date of birth\n",
        "speakers_df[speakers_df.date_of_birth.isnull()].size / speakers_df.size"
      ],
      "execution_count": null,
      "outputs": [
        {
          "output_type": "execute_result",
          "data": {
            "text/plain": [
              "0.31948139495609096"
            ]
          },
          "metadata": {},
          "execution_count": 14
        }
      ]
    },
    {
      "cell_type": "code",
      "metadata": {
        "colab": {
          "base_uri": "https://localhost:8080/"
        },
        "id": "T61eijpbnkyD",
        "outputId": "23470604-d4ed-4ab0-c087-2d88b226b156"
      },
      "source": [
        "# Fraction of lines with null ethnic_group\n",
        "speakers_df[speakers_df.ethnic_group.isnull()].size / speakers_df.size"
      ],
      "execution_count": null,
      "outputs": [
        {
          "output_type": "execute_result",
          "data": {
            "text/plain": [
              "0.9819298862868723"
            ]
          },
          "metadata": {},
          "execution_count": 15
        }
      ]
    },
    {
      "cell_type": "code",
      "metadata": {
        "colab": {
          "base_uri": "https://localhost:8080/"
        },
        "id": "fvAfwuL4nkyD",
        "outputId": "0d873151-6db0-49d3-e1da-b24c21bbfbe1"
      },
      "source": [
        "# Fraction of lines with null religion\n",
        "speakers_df[speakers_df.religion.isnull()].size / speakers_df.size"
      ],
      "execution_count": null,
      "outputs": [
        {
          "output_type": "execute_result",
          "data": {
            "text/plain": [
              "0.9727195451474893"
            ]
          },
          "metadata": {},
          "execution_count": 16
        }
      ]
    },
    {
      "cell_type": "code",
      "metadata": {
        "colab": {
          "base_uri": "https://localhost:8080/"
        },
        "id": "aSnJAxrhnkyD",
        "outputId": "37649082-7343-42b1-f73c-1803959de5dc"
      },
      "source": [
        "# Fraction of lines with null label\n",
        "speakers_df[speakers_df.label.isnull()].size / speakers_df.size"
      ],
      "execution_count": null,
      "outputs": [
        {
          "output_type": "execute_result",
          "data": {
            "text/plain": [
              "0.055411365683404636"
            ]
          },
          "metadata": {},
          "execution_count": 17
        }
      ]
    },
    {
      "cell_type": "markdown",
      "metadata": {
        "id": "Y-CEUXOovqvN"
      },
      "source": [
        "We will keep only columns for gender and nationality"
      ]
    },
    {
      "cell_type": "code",
      "metadata": {
        "id": "5cQ55NDpnkyC"
      },
      "source": [
        "speakers_df = speakers_df[['id', 'gender', 'nationality']]"
      ],
      "execution_count": 15,
      "outputs": []
    },
    {
      "cell_type": "code",
      "metadata": {
        "id": "rKljCucr3IJj",
        "colab": {
          "base_uri": "https://localhost:8080/",
          "height": 206
        },
        "outputId": "b1dfc61a-df28-48c7-c8a4-126be85a812e"
      },
      "source": [
        "speakers_df.head()"
      ],
      "execution_count": 16,
      "outputs": [
        {
          "output_type": "execute_result",
          "data": {
            "text/html": [
              "<div>\n",
              "<style scoped>\n",
              "    .dataframe tbody tr th:only-of-type {\n",
              "        vertical-align: middle;\n",
              "    }\n",
              "\n",
              "    .dataframe tbody tr th {\n",
              "        vertical-align: top;\n",
              "    }\n",
              "\n",
              "    .dataframe thead th {\n",
              "        text-align: right;\n",
              "    }\n",
              "</style>\n",
              "<table border=\"1\" class=\"dataframe\">\n",
              "  <thead>\n",
              "    <tr style=\"text-align: right;\">\n",
              "      <th></th>\n",
              "      <th>id</th>\n",
              "      <th>gender</th>\n",
              "      <th>nationality</th>\n",
              "    </tr>\n",
              "  </thead>\n",
              "  <tbody>\n",
              "    <tr>\n",
              "      <th>0</th>\n",
              "      <td>Q23</td>\n",
              "      <td>[Q6581097]</td>\n",
              "      <td>[Q161885, Q30]</td>\n",
              "    </tr>\n",
              "    <tr>\n",
              "      <th>1</th>\n",
              "      <td>Q42</td>\n",
              "      <td>[Q6581097]</td>\n",
              "      <td>[Q145]</td>\n",
              "    </tr>\n",
              "    <tr>\n",
              "      <th>2</th>\n",
              "      <td>Q1868</td>\n",
              "      <td>[Q6581097]</td>\n",
              "      <td>[Q31]</td>\n",
              "    </tr>\n",
              "    <tr>\n",
              "      <th>3</th>\n",
              "      <td>Q207</td>\n",
              "      <td>[Q6581097]</td>\n",
              "      <td>[Q30]</td>\n",
              "    </tr>\n",
              "    <tr>\n",
              "      <th>4</th>\n",
              "      <td>Q297</td>\n",
              "      <td>[Q6581097]</td>\n",
              "      <td>[Q29]</td>\n",
              "    </tr>\n",
              "  </tbody>\n",
              "</table>\n",
              "</div>"
            ],
            "text/plain": [
              "      id      gender     nationality\n",
              "0    Q23  [Q6581097]  [Q161885, Q30]\n",
              "1    Q42  [Q6581097]          [Q145]\n",
              "2  Q1868  [Q6581097]           [Q31]\n",
              "3   Q207  [Q6581097]           [Q30]\n",
              "4   Q297  [Q6581097]           [Q29]"
            ]
          },
          "metadata": {},
          "execution_count": 16
        }
      ]
    },
    {
      "cell_type": "code",
      "metadata": {
        "id": "HNOYRV0ZzTCu"
      },
      "source": [
        "#Create dict of genders, nationalities\n",
        "genders_dict = pd.Series(speakers_df.gender.values, index=speakers_df.id).to_dict()\n",
        "nationalities_dict = pd.Series(speakers_df.nationality.values, index=speakers_df.id).to_dict()"
      ],
      "execution_count": 18,
      "outputs": []
    },
    {
      "cell_type": "markdown",
      "metadata": {
        "id": "iutcEc41nkyE"
      },
      "source": [
        "### 3.2 Retrieve quotebank wikidata labels\n",
        "<a id=\"reatrieve_labels\"></a>\n",
        "\n"
      ]
    },
    {
      "cell_type": "code",
      "metadata": {
        "colab": {
          "base_uri": "https://localhost:8080/",
          "height": 237
        },
        "id": "7qWRgx-vnkyE",
        "outputId": "c67748c3-70eb-49d5-9adf-87d494e1bc01"
      },
      "source": [
        "labels = pd.read_csv(LABELS_WIKIDATA_PATH, compression='bz2', index_col='QID')\n",
        "labels.head()"
      ],
      "execution_count": 19,
      "outputs": [
        {
          "output_type": "execute_result",
          "data": {
            "text/html": [
              "<div>\n",
              "<style scoped>\n",
              "    .dataframe tbody tr th:only-of-type {\n",
              "        vertical-align: middle;\n",
              "    }\n",
              "\n",
              "    .dataframe tbody tr th {\n",
              "        vertical-align: top;\n",
              "    }\n",
              "\n",
              "    .dataframe thead th {\n",
              "        text-align: right;\n",
              "    }\n",
              "</style>\n",
              "<table border=\"1\" class=\"dataframe\">\n",
              "  <thead>\n",
              "    <tr style=\"text-align: right;\">\n",
              "      <th></th>\n",
              "      <th>Label</th>\n",
              "      <th>Description</th>\n",
              "    </tr>\n",
              "    <tr>\n",
              "      <th>QID</th>\n",
              "      <th></th>\n",
              "      <th></th>\n",
              "    </tr>\n",
              "  </thead>\n",
              "  <tbody>\n",
              "    <tr>\n",
              "      <th>Q31</th>\n",
              "      <td>Belgium</td>\n",
              "      <td>country in western Europe</td>\n",
              "    </tr>\n",
              "    <tr>\n",
              "      <th>Q45</th>\n",
              "      <td>Portugal</td>\n",
              "      <td>country in southwestern Europe</td>\n",
              "    </tr>\n",
              "    <tr>\n",
              "      <th>Q75</th>\n",
              "      <td>Internet</td>\n",
              "      <td>global system of connected computer networks</td>\n",
              "    </tr>\n",
              "    <tr>\n",
              "      <th>Q148</th>\n",
              "      <td>People's Republic of China</td>\n",
              "      <td>sovereign state in East Asia</td>\n",
              "    </tr>\n",
              "    <tr>\n",
              "      <th>Q155</th>\n",
              "      <td>Brazil</td>\n",
              "      <td>country in South America</td>\n",
              "    </tr>\n",
              "  </tbody>\n",
              "</table>\n",
              "</div>"
            ],
            "text/plain": [
              "                           Label                                   Description\n",
              "QID                                                                           \n",
              "Q31                      Belgium                     country in western Europe\n",
              "Q45                     Portugal                country in southwestern Europe\n",
              "Q75                     Internet  global system of connected computer networks\n",
              "Q148  People's Republic of China                  sovereign state in East Asia\n",
              "Q155                      Brazil                      country in South America"
            ]
          },
          "metadata": {},
          "execution_count": 19
        }
      ]
    },
    {
      "cell_type": "markdown",
      "metadata": {
        "id": "-xO_rudWKx5n"
      },
      "source": [
        "Let's see what the fraction of NaN labels is"
      ]
    },
    {
      "cell_type": "code",
      "metadata": {
        "colab": {
          "base_uri": "https://localhost:8080/"
        },
        "id": "m9mvJRWGnkyF",
        "outputId": "fa2c7504-66d8-4d88-910d-1f718dc03b15"
      },
      "source": [
        "labels.Label.isnull().count()/labels.size"
      ],
      "execution_count": null,
      "outputs": [
        {
          "output_type": "execute_result",
          "data": {
            "text/plain": [
              "0.5"
            ]
          },
          "metadata": {},
          "execution_count": 23
        }
      ]
    },
    {
      "cell_type": "code",
      "metadata": {
        "id": "ZPz4ruFlzhnu"
      },
      "source": [
        "#Create dict of labels\n",
        "labels_dict = pd.Series(labels.Label, index=labels.index)"
      ],
      "execution_count": 20,
      "outputs": []
    },
    {
      "cell_type": "markdown",
      "metadata": {
        "id": "Yz3mZFzSz9pj"
      },
      "source": [
        "### Create dictionary between id_speaker and the value of attributes gender and nationality"
      ]
    },
    {
      "cell_type": "code",
      "metadata": {
        "id": "NJisKMiOz2fZ"
      },
      "source": [
        "# Retrieve quotes speakers' attribute, in the order of the quotations df\n",
        "# Input : df_quotes with only first qid in new column qid (instead of qids)\n",
        "def list_attribute_speaker(id_speaker, attr_dict):\n",
        "  list_attr = []\n",
        "  #id_attr_speaker = df_3.loc[df_3.id==id_speaker][attr].to_numpy() #List of all attribute ID per speaker\n",
        "  if id_speaker in attr_dict:\n",
        "    id_attr_speaker = attr_dict[id_speaker]\n",
        "    for id_a in id_attr_speaker:\n",
        "      if(id_a is not None):\n",
        "        attr= labels_dict[id_a] #Attribute value\n",
        "        list_attr.append(attr)\n",
        "  else :\n",
        "    list_attr.append(None)\n",
        "  return (id_speaker, list_attr)"
      ],
      "execution_count": 30,
      "outputs": []
    },
    {
      "cell_type": "code",
      "metadata": {
        "id": "xwj6AWQVnkyG",
        "colab": {
          "base_uri": "https://localhost:8080/"
        },
        "outputId": "75261f88-8c83-4e3d-8a2b-1470148e7b7f"
      },
      "source": [
        "dict_genders = {}\n",
        "dict_genders = dict(filtered_sample_df['qid'].apply(lambda i: list_attribute_speaker(i, genders_dict)).tolist())\n",
        "dict_genders"
      ],
      "execution_count": 31,
      "outputs": [
        {
          "output_type": "execute_result",
          "data": {
            "text/plain": [
              "{'Q304349': ['male'],\n",
              " 'Q20670776': ['male'],\n",
              " 'Q242329': ['female'],\n",
              " 'Q5231515': ['male'],\n",
              " 'Q30693403': ['male'],\n",
              " 'Q2339': ['male'],\n",
              " 'Q7816651': ['male'],\n",
              " 'Q262409': ['male'],\n",
              " 'Q1395713': ['female'],\n",
              " 'Q6279': ['male'],\n",
              " 'Q607': ['male'],\n",
              " 'Q1173915': ['male'],\n",
              " 'Q167696': ['female'],\n",
              " 'Q17388770': ['male'],\n",
              " 'Q42697548': [None],\n",
              " 'Q387655': ['male'],\n",
              " 'Q42840147': ['male'],\n",
              " 'Q1286476': ['male'],\n",
              " 'Q5585583': ['male'],\n",
              " 'Q25369': ['male'],\n",
              " 'Q1680858': ['male'],\n",
              " 'Q311672': ['male'],\n",
              " 'Q5370930': ['male'],\n",
              " 'Q5239845': ['male'],\n",
              " 'Q50271550': ['male'],\n",
              " 'Q15820578': ['male'],\n",
              " 'Q255060': ['female'],\n",
              " 'Q16231527': ['male'],\n",
              " 'Q22686': ['male'],\n",
              " 'Q6120126': ['female'],\n",
              " 'Q333937': ['male'],\n",
              " 'Q174346': ['female'],\n",
              " 'Q22910723': ['female'],\n",
              " 'Q483325': ['female'],\n",
              " 'Q298276': ['male'],\n",
              " 'Q18707589': ['male'],\n",
              " 'Q7218913': ['male'],\n",
              " 'Q21651814': ['male'],\n",
              " 'Q18610009': ['male'],\n",
              " 'Q212886': ['male'],\n",
              " 'Q5622310': ['male'],\n",
              " 'Q324546': ['male'],\n",
              " 'Q575689': ['female'],\n",
              " 'Q493567': ['male'],\n",
              " 'Q44307090': [None],\n",
              " 'Q5817295': ['male'],\n",
              " 'Q369638': ['male'],\n",
              " 'Q19874882': ['male'],\n",
              " 'Q3304418': ['female'],\n",
              " 'Q5605448': ['male'],\n",
              " 'Q21001': ['male'],\n",
              " 'Q17306107': ['male'],\n",
              " 'Q5239823': ['male'],\n",
              " 'Q10346288': [None],\n",
              " 'Q1728820': ['male'],\n",
              " 'Q1909499': ['male'],\n",
              " 'Q5111202': ['female'],\n",
              " 'Q550513': ['male'],\n",
              " 'Q16142769': ['male'],\n",
              " 'Q19325261': ['male'],\n",
              " 'Q7812320': ['male'],\n",
              " 'Q19872694': ['female'],\n",
              " 'Q25249272': ['male'],\n",
              " 'Q3453283': ['male'],\n",
              " 'Q19979409': ['female'],\n",
              " 'Q1886994': ['male'],\n",
              " 'Q6120237': ['female'],\n",
              " 'Q21521410': ['male'],\n",
              " 'Q152929': ['male'],\n",
              " 'Q42241718': ['male'],\n",
              " 'Q534727': ['male'],\n",
              " 'Q4353877': ['female'],\n",
              " 'Q3021025': ['male'],\n",
              " 'Q20055561': ['male'],\n",
              " 'Q319072': ['male'],\n",
              " 'Q9545': ['male'],\n",
              " 'Q4647725': ['male'],\n",
              " 'Q3905267': ['male'],\n",
              " 'Q40054': ['male'],\n",
              " 'Q3828645': ['male'],\n",
              " 'Q16732034': ['male'],\n",
              " 'Q1174373': ['male'],\n",
              " 'Q5980832': ['male'],\n",
              " 'Q4756381': ['male'],\n",
              " 'Q530389': ['female'],\n",
              " 'Q18976': ['male'],\n",
              " 'Q21198546': ['male'],\n",
              " 'Q977999': ['female'],\n",
              " 'Q1541951': ['male'],\n",
              " 'Q1225': ['male'],\n",
              " 'Q712765': ['male'],\n",
              " 'Q1573144': ['male'],\n",
              " 'Q16197202': ['female'],\n",
              " 'Q3099714': ['male'],\n",
              " 'Q27733823': ['female'],\n",
              " 'Q2158822': ['male'],\n",
              " 'Q16731201': ['female'],\n",
              " 'Q13522546': ['female'],\n",
              " 'Q439365': ['female'],\n",
              " 'Q552770': ['male'],\n",
              " 'Q335697': ['male'],\n",
              " 'Q180589': ['male'],\n",
              " 'Q1689081': ['male'],\n",
              " 'Q7613866': ['male'],\n",
              " 'Q24668273': ['female'],\n",
              " 'Q8017903': ['male'],\n",
              " 'Q11571': ['male'],\n",
              " 'Q28733185': ['female'],\n",
              " 'Q268584': ['male'],\n",
              " 'Q21175197': ['male'],\n",
              " 'Q2718421': ['male'],\n",
              " 'Q384521': ['female'],\n",
              " 'Q1100609': ['male'],\n",
              " 'Q263147': ['male'],\n",
              " 'Q4886521': ['male'],\n",
              " 'Q12586103': ['male'],\n",
              " 'Q1058': ['male'],\n",
              " 'Q442897': ['female'],\n",
              " 'Q4960688': ['female'],\n",
              " 'Q2710509': ['male'],\n",
              " 'Q3277223': ['male'],\n",
              " 'Q887766': ['male'],\n",
              " 'Q5180860': ['male'],\n",
              " 'Q16233738': ['female'],\n",
              " 'Q30223601': ['female'],\n",
              " 'Q481330': ['male'],\n",
              " 'Q37175': ['male'],\n",
              " 'Q15850945': ['male'],\n",
              " 'Q26251620': ['male'],\n",
              " 'Q317251': ['male'],\n",
              " 'Q133151': ['male'],\n",
              " 'Q29446408': ['male'],\n",
              " 'Q660297': ['male'],\n",
              " 'Q39259': ['male'],\n",
              " 'Q7659710': ['male'],\n",
              " 'Q28659818': ['female'],\n",
              " 'Q25183273': ['male'],\n",
              " 'Q193459': ['male'],\n",
              " 'Q21066909': ['female'],\n",
              " 'Q19862281': ['male'],\n",
              " 'Q179414': ['female'],\n",
              " 'Q478161': ['male'],\n",
              " 'Q578037': ['female'],\n",
              " 'Q16113908': ['female'],\n",
              " 'Q26701430': ['male'],\n",
              " 'Q10524': ['male'],\n",
              " 'Q44172566': ['female'],\n",
              " 'Q4751249': ['male'],\n",
              " 'Q23769958': ['male'],\n",
              " 'Q28124344': ['male'],\n",
              " 'Q17466144': ['male'],\n",
              " 'Q4716898': ['male'],\n",
              " 'Q164038': ['male'],\n",
              " 'Q3528191': ['male'],\n",
              " 'Q7803719': ['male'],\n",
              " 'Q18527503': ['male'],\n",
              " 'Q23762596': ['male'],\n",
              " 'Q6386114': ['female'],\n",
              " 'Q5478876': ['female'],\n",
              " 'Q5106348': ['male'],\n",
              " 'Q13909': ['female'],\n",
              " 'Q56443181': ['male'],\n",
              " 'Q316709': ['male'],\n",
              " 'Q21457439': ['female'],\n",
              " 'Q22963284': ['female'],\n",
              " 'Q27517446': ['female'],\n",
              " 'Q154952': ['male'],\n",
              " 'Q5980627': ['male'],\n",
              " 'Q1395551': ['female'],\n",
              " 'Q7185804': ['male'],\n",
              " 'Q6336063': ['male'],\n",
              " 'Q20647855': ['female'],\n",
              " 'Q4961012': ['male'],\n",
              " 'Q5248076': ['female'],\n",
              " 'Q18637772': ['male'],\n",
              " 'Q4679786': ['male'],\n",
              " 'Q459830': ['male'],\n",
              " 'Q16226534': ['male'],\n",
              " 'Q59557413': ['female'],\n",
              " 'Q11674': ['male'],\n",
              " 'Q5258508': ['male'],\n",
              " 'Q5239603': ['male'],\n",
              " 'Q183337': ['male'],\n",
              " 'Q1900176': ['male'],\n",
              " 'Q557758': ['male'],\n",
              " 'Q4810540': ['male'],\n",
              " 'Q18686251': ['male'],\n",
              " 'Q2263': ['male'],\n",
              " 'Q1174756': ['male'],\n",
              " 'Q4792148': ['female'],\n",
              " 'Q29643725': ['male'],\n",
              " 'Q172724': ['male'],\n",
              " 'Q563620': ['female'],\n",
              " 'Q333118': ['male'],\n",
              " 'Q131324': ['female'],\n",
              " 'Q22279': ['female'],\n",
              " 'Q17709650': ['male'],\n",
              " 'Q262284': ['female'],\n",
              " 'Q18691668': ['female'],\n",
              " 'Q7172660': ['male'],\n",
              " 'Q6440772': ['female'],\n",
              " 'Q18819368': ['female'],\n",
              " 'Q19560186': ['female'],\n",
              " 'Q4953985': ['male'],\n",
              " 'Q21705136': ['female'],\n",
              " 'Q43390740': ['female'],\n",
              " 'Q12978': ['male'],\n",
              " 'Q46382622': ['female'],\n",
              " 'Q28935053': ['female'],\n",
              " 'Q34086': ['male'],\n",
              " 'Q28104864': ['male'],\n",
              " 'Q6273441': ['male'],\n",
              " 'Q240485': ['female'],\n",
              " 'Q7027675': ['male'],\n",
              " 'Q58806426': [None],\n",
              " 'Q186478': ['male'],\n",
              " 'Q3950288': ['female'],\n",
              " 'Q285249': ['female'],\n",
              " 'Q201608': ['male'],\n",
              " 'Q19810': ['female'],\n",
              " 'Q7490148': ['female'],\n",
              " 'Q16211766': ['male'],\n",
              " 'Q1094306': ['male'],\n",
              " 'Q13563033': ['female'],\n",
              " 'Q10505': ['male'],\n",
              " 'Q5108057': ['male'],\n",
              " 'Q152316': ['male'],\n",
              " 'Q1271675': ['male'],\n",
              " 'Q26695': ['male'],\n",
              " 'Q5044618': ['female'],\n",
              " 'Q1883': ['male'],\n",
              " 'Q1918995': ['female'],\n",
              " 'Q2451952': ['female'],\n",
              " 'Q573612': ['male'],\n",
              " 'Q1343112': ['male'],\n",
              " 'Q58915901': ['female'],\n",
              " 'Q2964683': ['male'],\n",
              " 'Q20990679': ['male'],\n",
              " 'Q1394969': ['female'],\n",
              " 'Q21034422': ['male'],\n",
              " 'Q10500212': ['male'],\n",
              " 'Q21457294': ['male'],\n",
              " 'Q1159082': ['male'],\n",
              " 'Q5566385': ['female'],\n",
              " 'Q22083739': ['male'],\n",
              " 'Q262461': ['female'],\n",
              " 'Q17099547': ['male'],\n",
              " 'Q12989010': ['male'],\n",
              " 'Q58494547': ['male'],\n",
              " 'Q25189506': ['male'],\n",
              " 'Q1928572': ['male'],\n",
              " 'Q270837': ['female'],\n",
              " 'Q16186444': ['male'],\n",
              " 'Q58923905': ['female'],\n",
              " 'Q19560162': ['female'],\n",
              " 'Q47411858': ['female'],\n",
              " 'Q5335605': ['male'],\n",
              " 'Q18922003': ['male'],\n",
              " 'Q2618820': ['female'],\n",
              " 'Q25756209': ['male'],\n",
              " 'Q58754662': ['male'],\n",
              " 'Q19870706': ['male'],\n",
              " 'Q16197112': ['male'],\n",
              " 'Q24565249': ['male'],\n",
              " 'Q79983': ['male'],\n",
              " 'Q1912': ['male'],\n",
              " 'Q5236402': ['male'],\n",
              " 'Q1813692': ['male'],\n",
              " 'Q530220': ['male'],\n",
              " 'Q44380': ['female'],\n",
              " 'Q162202': ['female'],\n",
              " 'Q302486': ['male'],\n",
              " 'Q22676848': ['male'],\n",
              " 'Q32522': ['female'],\n",
              " 'Q19665277': ['male'],\n",
              " 'Q706988': ['male'],\n",
              " 'Q28041642': ['male'],\n",
              " 'Q6167331': ['male'],\n",
              " 'Q5125214': ['female'],\n",
              " 'Q20676350': ['male'],\n",
              " 'Q56222603': ['male'],\n",
              " 'Q26926633': ['male'],\n",
              " 'Q10896': ['female'],\n",
              " 'Q30729096': ['male'],\n",
              " 'Q10897594': ['male'],\n",
              " 'Q1337354': ['male'],\n",
              " 'Q16732059': ['female'],\n",
              " 'Q20665342': ['female'],\n",
              " 'Q43393739': ['male'],\n",
              " 'Q1173911': ['male'],\n",
              " 'Q529203': ['male'],\n",
              " 'Q17490263': ['male'],\n",
              " 'Q4354912': ['male'],\n",
              " 'Q20725314': ['male'],\n",
              " 'Q20035636': ['female'],\n",
              " 'Q24632': ['male'],\n",
              " 'Q10379941': ['male'],\n",
              " 'Q7328202': ['male'],\n",
              " 'Q16728252': ['female'],\n",
              " 'Q256824': ['female'],\n",
              " 'Q1189353': ['male'],\n",
              " 'Q7339221': ['male'],\n",
              " 'Q35332': ['male'],\n",
              " 'Q22279399': ['male'],\n",
              " 'Q473239': ['male'],\n",
              " 'Q5606602': ['male'],\n",
              " 'Q14329949': ['male'],\n",
              " 'Q3814474': ['male'],\n",
              " 'Q272408': ['female'],\n",
              " 'Q20974084': ['female'],\n",
              " 'Q18577928': ['male'],\n",
              " 'Q4886455': ['male'],\n",
              " 'Q23657278': ['female'],\n",
              " 'Q749687': ['male'],\n",
              " 'Q17285396': ['male'],\n",
              " 'Q56236115': ['male'],\n",
              " 'Q7327596': ['male'],\n",
              " 'Q5229737': ['male'],\n",
              " 'Q24006380': ['male'],\n",
              " 'Q43274': ['male'],\n",
              " 'Q165219': ['male'],\n",
              " 'Q20713540': ['male'],\n",
              " 'Q1518861': ['male'],\n",
              " 'Q3061219': ['male'],\n",
              " 'Q1543210': ['male'],\n",
              " 'Q6499556': ['female'],\n",
              " 'Q15994667': ['male'],\n",
              " 'Q4077746': ['male'],\n",
              " 'Q24196926': ['female'],\n",
              " 'Q733721': ['male'],\n",
              " 'Q5648877': ['female'],\n",
              " 'Q7493824': ['female'],\n",
              " 'Q22002409': ['male'],\n",
              " 'Q926682': ['male'],\n",
              " 'Q237204': ['female'],\n",
              " 'Q170581': ['female'],\n",
              " 'Q19979355': ['female'],\n",
              " 'Q3246667': ['male'],\n",
              " 'Q3713655': ['male'],\n",
              " 'Q2322261': ['male'],\n",
              " 'Q294326': ['male'],\n",
              " 'Q348857': ['male'],\n",
              " 'Q4355392': ['male'],\n",
              " 'Q59160146': ['female'],\n",
              " 'Q10479': ['female'],\n",
              " 'Q3857378': ['male'],\n",
              " 'Q19665544': ['male'],\n",
              " 'Q55861572': [None],\n",
              " 'Q318471': ['male'],\n",
              " 'Q16217223': ['male'],\n",
              " 'Q56884388': ['male'],\n",
              " 'Q966754': ['male'],\n",
              " 'Q434585': ['male'],\n",
              " 'Q219878': ['female'],\n",
              " 'Q15103715': ['female'],\n",
              " 'Q5789738': ['male'],\n",
              " 'Q3332699': ['male'],\n",
              " 'Q26703582': ['male'],\n",
              " 'Q624': ['male'],\n",
              " 'Q295974': ['male'],\n",
              " 'Q16196017': ['male'],\n",
              " 'Q7028573': ['male'],\n",
              " 'Q1444412': ['male'],\n",
              " 'Q2331659': ['male'],\n",
              " 'Q23527': ['male'],\n",
              " 'Q22278851': ['male'],\n",
              " 'Q20676647': ['female'],\n",
              " 'Q58755172': ['male'],\n",
              " 'Q237226': ['female'],\n",
              " 'Q298838': ['male'],\n",
              " 'Q16208544': ['female'],\n",
              " 'Q7518921': ['male'],\n",
              " 'Q30026790': ['female'],\n",
              " 'Q11882378': ['male'],\n",
              " 'Q52159103': ['male'],\n",
              " 'Q17518854': ['female'],\n",
              " 'Q2119584': ['male'],\n",
              " 'Q7032722': ['male'],\n",
              " 'Q694014': ['male'],\n",
              " 'Q188792': ['male'],\n",
              " 'Q41533': ['male'],\n",
              " 'Q3770348': ['male'],\n",
              " 'Q17496653': ['male'],\n",
              " 'Q6767917': ['male'],\n",
              " 'Q6172996': ['male'],\n",
              " 'Q4886720': ['male'],\n",
              " 'Q2377423': ['female'],\n",
              " 'Q29564107': ['female'],\n",
              " 'Q183108': ['male'],\n",
              " 'Q19276745': ['female'],\n",
              " 'Q16232406': ['female'],\n",
              " 'Q153330': ['male'],\n",
              " 'Q4798421': ['male'],\n",
              " 'Q30379410': ['female'],\n",
              " 'Q4102296': ['female'],\n",
              " 'Q29336271': ['male'],\n",
              " 'Q2844548': ['female'],\n",
              " 'Q3527096': ['male'],\n",
              " 'Q47037424': ['male'],\n",
              " 'Q6438624': ['male'],\n",
              " 'Q39285184': ['female'],\n",
              " 'Q7488068': ['male'],\n",
              " 'Q16220964': ['male'],\n",
              " 'Q16204680': ['male'],\n",
              " 'Q27898559': ['male'],\n",
              " 'Q7173106': ['male'],\n",
              " 'Q59306386': ['male'],\n",
              " 'Q4962147': ['male'],\n",
              " 'Q3476690': ['male'],\n",
              " 'Q3294164': ['male'],\n",
              " 'Q1376420': ['male'],\n",
              " 'Q15873': ['male'],\n",
              " 'Q7839350': ['male'],\n",
              " 'Q291169': ['male'],\n",
              " 'Q7821859': ['male'],\n",
              " 'Q4724628': ['male'],\n",
              " 'Q24060240': ['male'],\n",
              " 'Q52898925': ['male'],\n",
              " 'Q19788193': ['male'],\n",
              " 'Q1000592': ['male'],\n",
              " 'Q750091': ['female'],\n",
              " 'Q6831027': ['male'],\n",
              " 'Q168992': ['female'],\n",
              " 'Q44657': ['male'],\n",
              " 'Q22007193': ['male'],\n",
              " 'Q6767411': ['male'],\n",
              " 'Q6845970': ['male'],\n",
              " 'Q5110039': ['male'],\n",
              " 'Q55080956': ['female'],\n",
              " 'Q21621317': ['male'],\n",
              " 'Q4731951': ['male'],\n",
              " 'Q21466514': ['female'],\n",
              " 'Q520296': ['male'],\n",
              " 'Q5562914': ['female'],\n",
              " 'Q3052772': ['male'],\n",
              " 'Q5044475': ['female'],\n",
              " 'Q5110287': ['male'],\n",
              " 'Q4770422': ['female'],\n",
              " 'Q22236639': ['male'],\n",
              " 'Q6141914': ['male'],\n",
              " 'Q56598200': ['male'],\n",
              " 'Q7153563': ['male'],\n",
              " 'Q5550020': ['male'],\n",
              " 'Q458403': ['female'],\n",
              " 'Q14185693': ['female'],\n",
              " 'Q1101421': ['male'],\n",
              " 'Q49833929': ['female'],\n",
              " 'Q56558120': [None],\n",
              " 'Q6809919': ['female'],\n",
              " 'Q6147134': ['male'],\n",
              " 'Q6288876': ['male'],\n",
              " 'Q211040': ['non-binary'],\n",
              " 'Q2513293': ['female'],\n",
              " 'Q14244952': ['female'],\n",
              " 'Q20006905': ['male'],\n",
              " 'Q26209299': ['female'],\n",
              " 'Q1173237': ['male'],\n",
              " 'Q20687620': ['male'],\n",
              " 'Q602828': ['male'],\n",
              " 'Q1173943': ['male'],\n",
              " 'Q7182188': ['male'],\n",
              " 'Q31213302': ['male'],\n",
              " 'Q55616884': ['female'],\n",
              " 'Q54806936': ['female'],\n",
              " 'Q6290749': ['female'],\n",
              " 'Q19871710': ['male'],\n",
              " 'Q7027557': ['male'],\n",
              " 'Q56222065': ['male'],\n",
              " 'Q10548323': ['male'],\n",
              " 'Q43918214': ['male'],\n",
              " 'Q1405662': ['male'],\n",
              " 'Q6378155': ['male'],\n",
              " 'Q6453246': ['male'],\n",
              " 'Q7908495': ['intersex', 'genderqueer'],\n",
              " 'Q10862202': ['male'],\n",
              " 'Q4678672': ['male'],\n",
              " 'Q3529022': ['male'],\n",
              " 'Q200355': ['female'],\n",
              " 'Q1190134': ['male'],\n",
              " 'Q18621047': ['male'],\n",
              " 'Q37958858': ['male'],\n",
              " 'Q2014379': ['male'],\n",
              " 'Q18208259': ['female'],\n",
              " 'Q16202936': ['male'],\n",
              " 'Q17489305': ['male'],\n",
              " 'Q40469334': ['male'],\n",
              " 'Q2830467': ['male'],\n",
              " 'Q2514675': ['male'],\n",
              " 'Q1506471': ['male'],\n",
              " 'Q16224046': ['female'],\n",
              " 'Q478596': ['male'],\n",
              " 'Q31359105': ['female'],\n",
              " 'Q18045057': ['male'],\n",
              " 'Q1373294': ['male'],\n",
              " 'Q523020': ['male'],\n",
              " 'Q8060280': ['male'],\n",
              " 'Q6831817': ['male'],\n",
              " 'Q24313': ['male'],\n",
              " 'Q2850182': ['female'],\n",
              " 'Q23848423': ['female'],\n",
              " 'Q1343639': ['male'],\n",
              " 'Q180939': ['male'],\n",
              " 'Q50097363': ['male'],\n",
              " 'Q16212009': ['male'],\n",
              " 'Q22212893': ['male'],\n",
              " 'Q133556': ['male'],\n",
              " 'Q363608': ['male'],\n",
              " 'Q17410449': ['male'],\n",
              " 'Q310352': ['male'],\n",
              " 'Q6759897': ['female'],\n",
              " 'Q30907428': ['female'],\n",
              " 'Q43176170': ['female'],\n",
              " 'Q1236571': ['male'],\n",
              " 'Q575733': ['female'],\n",
              " 'Q6557825': ['female'],\n",
              " 'Q6988943': ['male'],\n",
              " 'Q44856761': ['male'],\n",
              " 'Q446561': ['male'],\n",
              " 'Q82233': ['female'],\n",
              " 'Q26876': ['female'],\n",
              " 'Q185572': ['male'],\n",
              " 'Q20645847': ['female'],\n",
              " 'Q434706': ['female'],\n",
              " 'Q158092': ['male'],\n",
              " 'Q59361': ['male'],\n",
              " 'Q42315001': ['male'],\n",
              " 'Q1077119': ['male'],\n",
              " 'Q272234': ['male'],\n",
              " 'Q3606816': ['female'],\n",
              " 'Q4706181': ['male'],\n",
              " 'Q27443194': ['male'],\n",
              " 'Q718533': ['male'],\n",
              " 'Q314954': ['male'],\n",
              " 'Q15990205': ['male'],\n",
              " 'Q12061150': ['male'],\n",
              " 'Q21716297': ['male'],\n",
              " 'Q7967127': ['female'],\n",
              " 'Q16214005': ['male'],\n",
              " 'Q188459': ['female'],\n",
              " 'Q4260960': ['male'],\n",
              " 'Q3259652': ['female'],\n",
              " 'Q1379894': ['male'],\n",
              " 'Q20734428': ['male'],\n",
              " 'Q27909609': ['male'],\n",
              " 'Q51584412': ['male'],\n",
              " 'Q16238859': ['male'],\n",
              " 'Q47494207': ['transgender female'],\n",
              " 'Q16206194': ['female'],\n",
              " 'Q3700231': ['female'],\n",
              " 'Q57040821': [None],\n",
              " 'Q42601': ['male'],\n",
              " 'Q220579': ['male'],\n",
              " 'Q7815030': ['male'],\n",
              " 'Q32620': ['female'],\n",
              " 'Q375419': ['male'],\n",
              " 'Q219402': ['female'],\n",
              " 'Q9682': ['female'],\n",
              " 'Q21557064': ['female'],\n",
              " 'Q11673': ['male'],\n",
              " 'Q573246': ['male'],\n",
              " 'Q29267028': ['male'],\n",
              " 'Q1953630': ['male'],\n",
              " 'Q331904': ['male'],\n",
              " 'Q42869048': ['male'],\n",
              " 'Q342989': ['male'],\n",
              " 'Q6394699': ['female'],\n",
              " 'Q7177708': ['male'],\n",
              " 'Q116516': ['male'],\n",
              " 'Q16105498': ['male'],\n",
              " 'Q234144': ['female'],\n",
              " 'Q1965251': ['female'],\n",
              " 'Q15056439': ['male'],\n",
              " 'Q19844382': ['male'],\n",
              " 'Q390869': ['male'],\n",
              " 'Q39072651': ['male'],\n",
              " 'Q317521': ['male'],\n",
              " 'Q44857': ['male'],\n",
              " 'Q15994637': ['male'],\n",
              " 'Q419976': ['male'],\n",
              " 'Q467749': ['female'],\n",
              " 'Q33111773': ['male'],\n",
              " 'Q11752882': ['male'],\n",
              " 'Q17016903': ['male'],\n",
              " 'Q4727284': ['male'],\n",
              " 'Q927550': ['male'],\n",
              " 'Q600480': ['male'],\n",
              " 'Q42099156': ['female'],\n",
              " 'Q16093851': ['male'],\n",
              " 'Q2699083': ['female'],\n",
              " 'Q1333118': ['male'],\n",
              " 'Q269449': ['male'],\n",
              " 'Q16194405': ['male'],\n",
              " 'Q264766': ['female'],\n",
              " 'Q18098175': ['male'],\n",
              " 'Q983508': ['male'],\n",
              " 'Q1174175': ['male'],\n",
              " 'Q7500342': ['female'],\n",
              " 'Q47015044': ['male'],\n",
              " 'Q49017': ['male'],\n",
              " 'Q17045723': ['male'],\n",
              " 'Q42493': ['female'],\n",
              " 'Q52495': ['male'],\n",
              " 'Q5562913': ['female'],\n",
              " 'Q82496': ['male'],\n",
              " 'Q1332346': ['male'],\n",
              " 'Q706113': ['male'],\n",
              " 'Q6383803': ['male'],\n",
              " 'Q2067337': ['male'],\n",
              " 'Q1173798': ['male'],\n",
              " 'Q83106': ['male'],\n",
              " 'Q5534311': ['male'],\n",
              " 'Q28967920': ['female'],\n",
              " 'Q313674': ['male'],\n",
              " 'Q6720521': ['male'],\n",
              " 'Q234161': ['female'],\n",
              " 'Q456386': ['female'],\n",
              " 'Q1405258': ['male'],\n",
              " 'Q6834090': ['male'],\n",
              " 'Q164730': ['female'],\n",
              " 'Q7627022': ['male'],\n",
              " 'Q19348894': ['female'],\n",
              " 'Q25713929': ['female'],\n",
              " 'Q21016460': ['male'],\n",
              " 'Q212064': ['male'],\n",
              " 'Q6318241': ['male'],\n",
              " 'Q5107502': ['male'],\n",
              " 'Q234798': ['female'],\n",
              " 'Q4909721': ['male'],\n",
              " 'Q56289688': ['male'],\n",
              " 'Q24572712': ['male'],\n",
              " 'Q13639814': ['male'],\n",
              " 'Q2051773': ['male'],\n",
              " 'Q17105135': ['male'],\n",
              " 'Q17278767': ['female'],\n",
              " 'Q13606850': ['female'],\n",
              " 'Q2563751': ['male'],\n",
              " 'Q45414432': ['male'],\n",
              " 'Q303510': ['male'],\n",
              " 'Q6181501': ['male'],\n",
              " 'Q6408545': ['male'],\n",
              " 'Q3930208': ['male'],\n",
              " 'Q28404466': ['female'],\n",
              " 'Q392': ['male'],\n",
              " 'Q26419': ['male'],\n",
              " 'Q2756349': ['male'],\n",
              " 'Q585894': ['male'],\n",
              " 'Q5593150': ['male'],\n",
              " 'Q16205956': ['male'],\n",
              " 'Q28022302': ['female'],\n",
              " 'Q13131078': ['male'],\n",
              " 'Q549857': ['female'],\n",
              " 'Q18358410': ['male'],\n",
              " 'Q291057': ['female'],\n",
              " 'Q15994630': ['female'],\n",
              " 'Q21597856': ['male'],\n",
              " 'Q16250806': ['female'],\n",
              " 'Q5605742': ['male'],\n",
              " 'Q348144': ['male'],\n",
              " 'Q29988852': ['male'],\n",
              " 'Q324726': ['male'],\n",
              " 'Q86294': ['male'],\n",
              " 'Q57447042': [None],\n",
              " 'Q30449579': ['male'],\n",
              " 'Q14950382': ['male'],\n",
              " 'Q432473': ['female'],\n",
              " 'Q769600': ['male'],\n",
              " 'Q6765740': ['female'],\n",
              " 'Q438820': ['female'],\n",
              " 'Q11975': ['female'],\n",
              " 'Q57436694': ['female'],\n",
              " 'Q20707944': ['female'],\n",
              " 'Q36812': ['male'],\n",
              " 'Q18637204': ['male'],\n",
              " 'Q3013247': ['male'],\n",
              " 'Q391300': ['male'],\n",
              " 'Q6968142': ['female'],\n",
              " 'Q6847052': ['male'],\n",
              " 'Q318108': ['male'],\n",
              " 'Q16736692': ['male'],\n",
              " 'Q266613': ['male'],\n",
              " 'Q57848966': [None],\n",
              " 'Q16735078': ['male'],\n",
              " 'Q28555557': ['male'],\n",
              " 'Q115052': ['male'],\n",
              " 'Q29941210': ['female'],\n",
              " 'Q41275546': [None],\n",
              " 'Q58315159': ['male'],\n",
              " 'Q310048': ['male'],\n",
              " 'Q10853588': ['female'],\n",
              " 'Q6688666': ['female'],\n",
              " 'Q6401812': ['male'],\n",
              " 'Q6374978': ['female'],\n",
              " 'Q2778084': ['male'],\n",
              " 'Q750421': ['female'],\n",
              " 'Q1443227': ['male'],\n",
              " 'Q1346101': ['male'],\n",
              " 'Q6513144': ['male'],\n",
              " 'Q7614823': ['male'],\n",
              " 'Q15720537': ['female'],\n",
              " 'Q16027591': ['male'],\n",
              " 'Q17388335': ['female'],\n",
              " 'Q11100': ['male'],\n",
              " 'Q1174477': ['male'],\n",
              " 'Q652066': ['male'],\n",
              " 'Q336278': ['male'],\n",
              " 'Q26928551': ['male'],\n",
              " 'Q5325563': ['male'],\n",
              " 'Q695092': ['male'],\n",
              " 'Q17020440': ['male'],\n",
              " 'Q7609284': ['male'],\n",
              " 'Q21457259': ['male'],\n",
              " 'Q1376984': ['male'],\n",
              " 'Q26879936': ['female'],\n",
              " 'Q433797': ['male'],\n",
              " 'Q30152437': ['female'],\n",
              " 'Q180942': ['male'],\n",
              " 'Q5129278': ['female'],\n",
              " 'Q46092831': ['female'],\n",
              " 'Q332360': ['male'],\n",
              " 'Q33482154': ['male'],\n",
              " 'Q28911768': ['male'],\n",
              " 'Q52063231': ['female'],\n",
              " 'Q7815122': ['male'],\n",
              " 'Q31815796': ['female'],\n",
              " 'Q16209157': ['male'],\n",
              " 'Q14536': ['male'],\n",
              " 'Q1773628': ['male'],\n",
              " 'Q1358103': ['male'],\n",
              " 'Q16208556': ['female'],\n",
              " 'Q17403494': ['female'],\n",
              " 'Q4727087': ['female'],\n",
              " 'Q359442': ['male'],\n",
              " 'Q20793563': [None],\n",
              " 'Q227129': ['female'],\n",
              " 'Q5271614': ['female'],\n",
              " 'Q1388430': ['male'],\n",
              " 'Q7372372': ['female'],\n",
              " 'Q6057339': ['male'],\n",
              " 'Q2105': ['male'],\n",
              " 'Q258586': ['female'],\n",
              " 'Q55188045': ['male'],\n",
              " 'Q17517177': ['male'],\n",
              " 'Q392375': ['male'],\n",
              " 'Q27107390': ['female'],\n",
              " 'Q1138235': ['female'],\n",
              " 'Q4749235': ['female'],\n",
              " 'Q483417': ['male'],\n",
              " 'Q16189358': ['female'],\n",
              " 'Q712802': ['male'],\n",
              " 'Q19478045': ['female'],\n",
              " 'Q55314755': ['male'],\n",
              " 'Q7703637': ['female'],\n",
              " 'Q3182794': ['male'],\n",
              " 'Q5237901': ['male'],\n",
              " 'Q232414': ['female'],\n",
              " 'Q531599': ['male'],\n",
              " 'Q44621036': ['female'],\n",
              " 'Q15040070': ['male'],\n",
              " 'Q333533': ['male'],\n",
              " 'Q47576': ['male'],\n",
              " 'Q7302009': ['female'],\n",
              " 'Q230990': ['female'],\n",
              " 'Q1655619': ['male'],\n",
              " 'Q15126900': ['male'],\n",
              " 'Q58323071': ['male'],\n",
              " 'Q57321412': ['male'],\n",
              " 'Q467633': ['female'],\n",
              " 'Q1051540': ['male'],\n",
              " 'Q19518037': ['male'],\n",
              " 'Q2849107': ['male'],\n",
              " 'Q366266': ['male'],\n",
              " 'Q7917285': ['male'],\n",
              " 'Q296416': ['male'],\n",
              " 'Q16204224': ['male'],\n",
              " 'Q2783855': ['female'],\n",
              " 'Q15968658': ['male'],\n",
              " 'Q11815393': ['male'],\n",
              " 'Q19594790': ['male'],\n",
              " 'Q2014922': ['male'],\n",
              " 'Q29006828': ['male'],\n",
              " 'Q76': ['male'],\n",
              " 'Q21914464': ['female'],\n",
              " 'Q4757503': ['male'],\n",
              " 'Q6134141': ['female'],\n",
              " 'Q24572131': ['female'],\n",
              " 'Q3421714': ['female'],\n",
              " 'Q36159': ['male'],\n",
              " 'Q15624487': ['female'],\n",
              " 'Q16224564': ['male'],\n",
              " 'Q7173778': ['male'],\n",
              " 'Q72245': ['male'],\n",
              " 'Q5552631': ['male'],\n",
              " 'Q3765505': ['male'],\n",
              " 'Q21062886': ['female'],\n",
              " 'Q19957124': ['male'],\n",
              " 'Q56942009': ['female'],\n",
              " 'Q18880260': ['female'],\n",
              " 'Q104841': ['male'],\n",
              " 'Q6827147': ['female'],\n",
              " 'Q6698470': ['female'],\n",
              " 'Q46395189': ['male'],\n",
              " 'Q27518253': ['female'],\n",
              " 'Q25202924': ['male'],\n",
              " 'Q5980534': ['male'],\n",
              " 'Q4721504': ['male'],\n",
              " 'Q5085913': ['female'],\n",
              " 'Q3098645': ['male'],\n",
              " 'Q16474': ['male'],\n",
              " 'Q7817262': ['male'],\n",
              " 'Q4679618': ['male'],\n",
              " 'Q7490834': ['male'],\n",
              " 'Q188632': ['male'],\n",
              " 'Q1051036': ['female'],\n",
              " 'Q22111197': ['male'],\n",
              " 'Q7519974': ['male'],\n",
              " 'Q19667597': ['female'],\n",
              " 'Q104678': ['male'],\n",
              " 'Q33125056': ['male'],\n",
              " 'Q43723': ['male'],\n",
              " 'Q1058562': ['male'],\n",
              " 'Q750104': ['male'],\n",
              " 'Q5162259': ['male'],\n",
              " 'Q49001162': ['male'],\n",
              " 'Q28954424': ['male'],\n",
              " 'Q11836360': ['male'],\n",
              " 'Q93806': ['female'],\n",
              " 'Q23038508': ['male'],\n",
              " 'Q350511': ['male'],\n",
              " 'Q212772': ['female'],\n",
              " 'Q28971419': ['female'],\n",
              " 'Q28873097': ['female'],\n",
              " 'Q20647567': ['male'],\n",
              " 'Q3168023': ['male'],\n",
              " 'Q10648': ['male'],\n",
              " 'Q150916': ['male'],\n",
              " 'Q16056053': ['male'],\n",
              " 'Q350843': ['male'],\n",
              " 'Q3309259': ['female'],\n",
              " 'Q28693823': ['male'],\n",
              " 'Q56807894': [None],\n",
              " 'Q6136017': ['male'],\n",
              " 'Q4964790': ['male'],\n",
              " 'Q14951440': ['male'],\n",
              " 'Q238464': ['male'],\n",
              " 'Q13131904': ['male'],\n",
              " 'Q84056': ['female'],\n",
              " 'Q16864044': ['male'],\n",
              " 'Q615': ['male'],\n",
              " 'Q11309632': ['male'],\n",
              " 'Q18221414': ['female'],\n",
              " 'Q25302835': ['male'],\n",
              " 'Q16204200': ['male'],\n",
              " 'Q13560262': ['female'],\n",
              " 'Q11855749': ['male'],\n",
              " 'Q56275751': ['male'],\n",
              " 'Q440584': ['male'],\n",
              " 'Q56795179': ['female'],\n",
              " 'Q122465': ['male'],\n",
              " 'Q765284': ['male'],\n",
              " 'Q15133884': ['male'],\n",
              " 'Q14950467': ['male'],\n",
              " 'Q2832995': ['male'],\n",
              " 'Q55566906': ['male'],\n",
              " 'Q44467': ['male'],\n",
              " 'Q185140': ['male'],\n",
              " 'Q21063591': ['male'],\n",
              " 'Q6829437': ['male'],\n",
              " 'Q228645': ['female'],\n",
              " 'Q20712476': ['male'],\n",
              " 'Q914227': ['male'],\n",
              " 'Q48165061': ['female'],\n",
              " 'Q1735158': ['male'],\n",
              " 'Q6208356': ['male'],\n",
              " 'Q14949174': ['male'],\n",
              " 'Q10520': ['male'],\n",
              " 'Q367056': ['male'],\n",
              " 'Q108447': ['male'],\n",
              " 'Q1343627': ['male'],\n",
              " 'Q30015089': ['female'],\n",
              " 'Q727798': ['male'],\n",
              " 'Q290554': ['female'],\n",
              " 'Q30134813': ['male'],\n",
              " 'Q515161': ['male'],\n",
              " 'Q28112780': ['female'],\n",
              " 'Q621818': ['male'],\n",
              " 'Q7822116': ['male'],\n",
              " 'Q23721874': ['male'],\n",
              " 'Q1340836': ['male'],\n",
              " 'Q380613': ['male'],\n",
              " 'Q5108471': ['male'],\n",
              " 'Q4758288': ['male'],\n",
              " 'Q4757186': ['male'],\n",
              " 'Q2939998': ['female'],\n",
              " 'Q16300444': ['female'],\n",
              " 'Q16567028': ['male'],\n",
              " 'Q7403873': ['male'],\n",
              " 'Q10388102': ['male'],\n",
              " 'Q1079331': ['male'],\n",
              " 'Q4476092': ['female'],\n",
              " 'Q17180679': ['male'],\n",
              " 'Q54314': ['male'],\n",
              " 'Q113492': ['female'],\n",
              " 'Q557436': ['male'],\n",
              " 'Q555396': ['male'],\n",
              " 'Q11738820': ['male'],\n",
              " 'Q13461960': ['male'],\n",
              " 'Q192533': ['male'],\n",
              " 'Q19182': ['female'],\n",
              " 'Q1252155': ['female'],\n",
              " 'Q207177': ['female'],\n",
              " 'Q1699033': ['male'],\n",
              " 'Q24686035': ['male'],\n",
              " 'Q7685149': ['female'],\n",
              " 'Q18710757': ['male'],\n",
              " 'Q57413912': ['male'],\n",
              " 'Q7747': ['male'],\n",
              " 'Q4679353': ['male'],\n",
              " 'Q48358945': ['female'],\n",
              " 'Q5242447': ['female'],\n",
              " 'Q5214486': ['male'],\n",
              " 'Q58224953': [None],\n",
              " 'Q20647692': ['male'],\n",
              " 'Q1320615': ['male'],\n",
              " 'Q2051465': ['male'],\n",
              " 'Q7936942': ['male'],\n",
              " 'Q1966191': ['female'],\n",
              " 'Q76793': ['male'],\n",
              " 'Q983981': ['male'],\n",
              " 'Q19667535': ['male'],\n",
              " 'Q16090281': ['male'],\n",
              " 'Q16106505': ['female'],\n",
              " 'Q25078': ['male'],\n",
              " 'Q296350': ['male'],\n",
              " 'Q7287916': ['male'],\n",
              " 'Q29898660': ['female'],\n",
              " 'Q240490': ['female'],\n",
              " 'Q5216414': ['male'],\n",
              " 'Q2616544': ['female'],\n",
              " 'Q6438208': ['female'],\n",
              " 'Q6846604': ['male'],\n",
              " 'Q6521230': ['male'],\n",
              " 'Q20648244': ['female'],\n",
              " 'Q36454106': ['male'],\n",
              " 'Q5004379': ['male'],\n",
              " 'Q7153161': ['male'],\n",
              " 'Q19956771': ['female'],\n",
              " 'Q235615': ['female'],\n",
              " 'Q16200287': ['male'],\n",
              " 'Q47466368': ['male'],\n",
              " 'Q122614': ['female'],\n",
              " 'Q151830': ['female'],\n",
              " 'Q1435905': ['male'],\n",
              " 'Q10914': ['female'],\n",
              " 'Q7613775': ['male'],\n",
              " 'Q438465': ['male'],\n",
              " 'Q381394': ['male'],\n",
              " 'Q5036555': ['male'],\n",
              " 'Q7383048': ['female'],\n",
              " 'Q283125': ['male'],\n",
              " 'Q19362155': ['male'],\n",
              " 'Q3126836': ['female'],\n",
              " 'Q971308': ['male'],\n",
              " 'Q447458': ['male'],\n",
              " 'Q1002180': [None],\n",
              " 'Q297252': ['male'],\n",
              " 'Q933423': ['male'],\n",
              " 'Q81324': ['male'],\n",
              " 'Q5052956': ['female'],\n",
              " 'Q7627081': ['male'],\n",
              " 'Q4356257': ['female'],\n",
              " 'Q2388576': ['male'],\n",
              " 'Q15935': ['male'],\n",
              " 'Q587339': ['male'],\n",
              " 'Q27795149': ['female'],\n",
              " 'Q19573065': ['male'],\n",
              " 'Q4768766': ['female'],\n",
              " 'Q4955063': ['male'],\n",
              " 'Q5606045': ['male'],\n",
              " 'Q16203979': ['male'],\n",
              " 'Q19518798': ['male'],\n",
              " 'Q6181078': ['male'],\n",
              " 'Q29210910': ['male'],\n",
              " 'Q34460': ['female'],\n",
              " 'Q1981766': ['male'],\n",
              " 'Q5080932': ['male'],\n",
              " 'Q275637': ['female'],\n",
              " 'Q433843': ['female'],\n",
              " 'Q43285578': ['female'],\n",
              " 'Q18267375': ['male'],\n",
              " 'Q16196872': ['male'],\n",
              " 'Q58096733': ['female'],\n",
              " 'Q573258': ['male'],\n",
              " 'Q7646354': ['male'],\n",
              " 'Q3143235': ['female'],\n",
              " 'Q28028662': ['male'],\n",
              " 'Q4352760': ['male'],\n",
              " 'Q11320920': ['male'],\n",
              " 'Q1116687': ['male'],\n",
              " 'Q4667675': ['female'],\n",
              " 'Q1822818': ['female'],\n",
              " ...}"
            ]
          },
          "metadata": {},
          "execution_count": 31
        }
      ]
    },
    {
      "cell_type": "markdown",
      "metadata": {
        "id": "SOVkv-qjnkyG"
      },
      "source": [
        "###Test and first exploration with the 2019 New York Times Data "
      ]
    },
    {
      "cell_type": "markdown",
      "metadata": {
        "id": "I3UCZyNC6Edk"
      },
      "source": [
        "We first looked at the sample with quotes from the 2019 NewYork Times data for an easier overall observation"
      ]
    },
    {
      "cell_type": "code",
      "metadata": {
        "id": "9nuJCDKqnkyG",
        "colab": {
          "base_uri": "https://localhost:8080/",
          "height": 578
        },
        "outputId": "9aad2e0d-2045-4387-80a7-a2a748b2a76e"
      },
      "source": [
        "df_quotesNY = pd.read_json('quotes-2019-nytimes.json', lines=True)\n",
        "df_quotesNY.head()"
      ],
      "execution_count": null,
      "outputs": [
        {
          "output_type": "execute_result",
          "data": {
            "text/html": [
              "<div>\n",
              "<style scoped>\n",
              "    .dataframe tbody tr th:only-of-type {\n",
              "        vertical-align: middle;\n",
              "    }\n",
              "\n",
              "    .dataframe tbody tr th {\n",
              "        vertical-align: top;\n",
              "    }\n",
              "\n",
              "    .dataframe thead th {\n",
              "        text-align: right;\n",
              "    }\n",
              "</style>\n",
              "<table border=\"1\" class=\"dataframe\">\n",
              "  <thead>\n",
              "    <tr style=\"text-align: right;\">\n",
              "      <th></th>\n",
              "      <th>quoteID</th>\n",
              "      <th>quotation</th>\n",
              "      <th>speaker</th>\n",
              "      <th>qids</th>\n",
              "      <th>date</th>\n",
              "      <th>numOccurrences</th>\n",
              "      <th>probas</th>\n",
              "      <th>urls</th>\n",
              "      <th>phase</th>\n",
              "    </tr>\n",
              "  </thead>\n",
              "  <tbody>\n",
              "    <tr>\n",
              "      <th>0</th>\n",
              "      <td>2019-04-17-024782</td>\n",
              "      <td>It is not a low-income immigration,</td>\n",
              "      <td>James Fisher</td>\n",
              "      <td>[Q16213953, Q20707104, Q43143598, Q58886302, Q...</td>\n",
              "      <td>2019-04-17 13:31:18</td>\n",
              "      <td>1</td>\n",
              "      <td>[[James Fisher, 0.7475], [None, 0.2525]]</td>\n",
              "      <td>[https://www.nytimes.com/2019/04/17/realestate...</td>\n",
              "      <td>E</td>\n",
              "    </tr>\n",
              "    <tr>\n",
              "      <th>1</th>\n",
              "      <td>2019-04-02-001128</td>\n",
              "      <td>a champion figure skater switching to roller s...</td>\n",
              "      <td>John Updike</td>\n",
              "      <td>[Q105756]</td>\n",
              "      <td>2019-04-02 14:58:33</td>\n",
              "      <td>2</td>\n",
              "      <td>[[John Updike, 0.5856], [None, 0.4144]]</td>\n",
              "      <td>[https://www.nytimes.com/2019/04/02/opinion/vl...</td>\n",
              "      <td>E</td>\n",
              "    </tr>\n",
              "    <tr>\n",
              "      <th>2</th>\n",
              "      <td>2019-05-09-055187</td>\n",
              "      <td>It makes it much more difficult for him to mak...</td>\n",
              "      <td>None</td>\n",
              "      <td>[]</td>\n",
              "      <td>2019-05-09 18:11:29</td>\n",
              "      <td>1</td>\n",
              "      <td>[[None, 0.6493], [President Bill Clinton, 0.27...</td>\n",
              "      <td>[http://mobile.nytimes.com/2019/05/09/world/as...</td>\n",
              "      <td>E</td>\n",
              "    </tr>\n",
              "    <tr>\n",
              "      <th>3</th>\n",
              "      <td>2019-10-31-056366</td>\n",
              "      <td>It puts me in a predicament,</td>\n",
              "      <td>Xavier Becerra</td>\n",
              "      <td>[Q1855840]</td>\n",
              "      <td>2019-10-31 16:45:15</td>\n",
              "      <td>3</td>\n",
              "      <td>[[Xavier Becerra, 0.9065], [None, 0.0909], [St...</td>\n",
              "      <td>[http://www.nytimes.com/2019/10/31/technology/...</td>\n",
              "      <td>E</td>\n",
              "    </tr>\n",
              "    <tr>\n",
              "      <th>4</th>\n",
              "      <td>2019-01-04-001792</td>\n",
              "      <td>A Pile of Leaves.</td>\n",
              "      <td>None</td>\n",
              "      <td>[]</td>\n",
              "      <td>2019-01-04 10:00:07</td>\n",
              "      <td>1</td>\n",
              "      <td>[[None, 0.8737], [Jason Fulford, 0.1263]]</td>\n",
              "      <td>[https://www.nytimes.com/2019/01/04/books/revi...</td>\n",
              "      <td>E</td>\n",
              "    </tr>\n",
              "  </tbody>\n",
              "</table>\n",
              "</div>"
            ],
            "text/plain": [
              "             quoteID  ... phase\n",
              "0  2019-04-17-024782  ...     E\n",
              "1  2019-04-02-001128  ...     E\n",
              "2  2019-05-09-055187  ...     E\n",
              "3  2019-10-31-056366  ...     E\n",
              "4  2019-01-04-001792  ...     E\n",
              "\n",
              "[5 rows x 9 columns]"
            ]
          },
          "metadata": {},
          "execution_count": 26
        }
      ]
    },
    {
      "cell_type": "code",
      "metadata": {
        "id": "QQr7dwqpnkyG",
        "colab": {
          "base_uri": "https://localhost:8080/",
          "height": 595
        },
        "outputId": "fe4261ae-775d-4f49-fef5-980432815562"
      },
      "source": [
        "#Filter null speaker \n",
        "df_quotesNY = df_quotesNY.drop(df_quotesNY[df_quotesNY.speaker == 'None'].index)\n",
        "df_quotesNY.head()"
      ],
      "execution_count": null,
      "outputs": [
        {
          "output_type": "execute_result",
          "data": {
            "text/html": [
              "<div>\n",
              "<style scoped>\n",
              "    .dataframe tbody tr th:only-of-type {\n",
              "        vertical-align: middle;\n",
              "    }\n",
              "\n",
              "    .dataframe tbody tr th {\n",
              "        vertical-align: top;\n",
              "    }\n",
              "\n",
              "    .dataframe thead th {\n",
              "        text-align: right;\n",
              "    }\n",
              "</style>\n",
              "<table border=\"1\" class=\"dataframe\">\n",
              "  <thead>\n",
              "    <tr style=\"text-align: right;\">\n",
              "      <th></th>\n",
              "      <th>quoteID</th>\n",
              "      <th>quotation</th>\n",
              "      <th>speaker</th>\n",
              "      <th>qids</th>\n",
              "      <th>date</th>\n",
              "      <th>numOccurrences</th>\n",
              "      <th>probas</th>\n",
              "      <th>urls</th>\n",
              "      <th>phase</th>\n",
              "    </tr>\n",
              "  </thead>\n",
              "  <tbody>\n",
              "    <tr>\n",
              "      <th>0</th>\n",
              "      <td>2019-04-17-024782</td>\n",
              "      <td>It is not a low-income immigration,</td>\n",
              "      <td>James Fisher</td>\n",
              "      <td>[Q16213953, Q20707104, Q43143598, Q58886302, Q...</td>\n",
              "      <td>2019-04-17 13:31:18</td>\n",
              "      <td>1</td>\n",
              "      <td>[[James Fisher, 0.7475], [None, 0.2525]]</td>\n",
              "      <td>[https://www.nytimes.com/2019/04/17/realestate...</td>\n",
              "      <td>E</td>\n",
              "    </tr>\n",
              "    <tr>\n",
              "      <th>1</th>\n",
              "      <td>2019-04-02-001128</td>\n",
              "      <td>a champion figure skater switching to roller s...</td>\n",
              "      <td>John Updike</td>\n",
              "      <td>[Q105756]</td>\n",
              "      <td>2019-04-02 14:58:33</td>\n",
              "      <td>2</td>\n",
              "      <td>[[John Updike, 0.5856], [None, 0.4144]]</td>\n",
              "      <td>[https://www.nytimes.com/2019/04/02/opinion/vl...</td>\n",
              "      <td>E</td>\n",
              "    </tr>\n",
              "    <tr>\n",
              "      <th>3</th>\n",
              "      <td>2019-10-31-056366</td>\n",
              "      <td>It puts me in a predicament,</td>\n",
              "      <td>Xavier Becerra</td>\n",
              "      <td>[Q1855840]</td>\n",
              "      <td>2019-10-31 16:45:15</td>\n",
              "      <td>3</td>\n",
              "      <td>[[Xavier Becerra, 0.9065], [None, 0.0909], [St...</td>\n",
              "      <td>[http://www.nytimes.com/2019/10/31/technology/...</td>\n",
              "      <td>E</td>\n",
              "    </tr>\n",
              "    <tr>\n",
              "      <th>5</th>\n",
              "      <td>2019-08-15-002017</td>\n",
              "      <td>A Senator we can call our own.</td>\n",
              "      <td>Tom Rath</td>\n",
              "      <td>[Q7817334]</td>\n",
              "      <td>2019-08-15 22:36:33</td>\n",
              "      <td>1</td>\n",
              "      <td>[[Tom Rath, 0.7598], [None, 0.1993], [Warren R...</td>\n",
              "      <td>[http://www.nytimes.com/2019/08/15/us/politics...</td>\n",
              "      <td>E</td>\n",
              "    </tr>\n",
              "    <tr>\n",
              "      <th>8</th>\n",
              "      <td>2019-07-22-032883</td>\n",
              "      <td>It's a success, a relief and a technical feat,</td>\n",
              "      <td>Florence Parly</td>\n",
              "      <td>[Q3074013]</td>\n",
              "      <td>2019-07-22 02:37:50</td>\n",
              "      <td>21</td>\n",
              "      <td>[[Florence Parly, 0.9262], [None, 0.0738]]</td>\n",
              "      <td>[http://www.breitbart.com/news/french-submarin...</td>\n",
              "      <td>E</td>\n",
              "    </tr>\n",
              "  </tbody>\n",
              "</table>\n",
              "</div>"
            ],
            "text/plain": [
              "             quoteID  ... phase\n",
              "0  2019-04-17-024782  ...     E\n",
              "1  2019-04-02-001128  ...     E\n",
              "3  2019-10-31-056366  ...     E\n",
              "5  2019-08-15-002017  ...     E\n",
              "8  2019-07-22-032883  ...     E\n",
              "\n",
              "[5 rows x 9 columns]"
            ]
          },
          "metadata": {},
          "execution_count": 27
        }
      ]
    },
    {
      "cell_type": "markdown",
      "metadata": {
        "id": "KyceVS917Vi0"
      },
      "source": [
        "We would like to determine the number of genders present in the the data."
      ]
    },
    {
      "cell_type": "code",
      "metadata": {
        "id": "3zwcbCoVnkyH",
        "colab": {
          "base_uri": "https://localhost:8080/"
        },
        "outputId": "5ab91bdf-4fba-41d0-96fe-9b45a4cd50a5"
      },
      "source": [
        "speaker_genders = speakers_df['gender']\n",
        "speaker_genders.value_counts()"
      ],
      "execution_count": null,
      "outputs": [
        {
          "output_type": "execute_result",
          "data": {
            "text/plain": [
              "[Q6581097]              5418464\n",
              "[Q6581072]              1684170\n",
              "[Q1052281]                  887\n",
              "[Q48270]                    307\n",
              "[Q2449503]                  228\n",
              "                         ...   \n",
              "[Q6581097, Q6581072]          1\n",
              "[Q179294, Q6581097]           1\n",
              "[Q179294, Q6581097]           1\n",
              "[Q179294, Q6581097]           1\n",
              "[Q6581097, Q6581072]          1\n",
              "Name: gender, Length: 1411, dtype: int64"
            ]
          },
          "metadata": {},
          "execution_count": 28
        }
      ]
    },
    {
      "cell_type": "markdown",
      "metadata": {
        "id": "s3MPO78PLbfO"
      },
      "source": [
        "We print the different registered genders :"
      ]
    },
    {
      "cell_type": "code",
      "metadata": {
        "id": "czjZcC6-nkyH",
        "colab": {
          "base_uri": "https://localhost:8080/"
        },
        "outputId": "4f39a961-fa9b-45dc-90db-eda684a53a7a"
      },
      "source": [
        "print(labels.loc['Q6581097']['Label'],\n",
        "      labels.loc['Q6581072']['Label'],\n",
        "      labels.loc['Q1052281']['Label'],\n",
        "      labels.loc['Q48270']['Label'],\n",
        "      labels.loc['Q2449503']['Label'])"
      ],
      "execution_count": null,
      "outputs": [
        {
          "output_type": "stream",
          "name": "stdout",
          "text": [
            "male female transgender female non-binary transgender male\n"
          ]
        }
      ]
    },
    {
      "cell_type": "markdown",
      "metadata": {
        "id": "Dj7zsGVvL8Qw"
      },
      "source": [
        "We create a function to extract the gender and nationality labels for each speaker QID. To make it more efficient, we store in a dictionary a mapping from the attributes' qids to their labels, so we don't need to search for it in the label dataframe everytime."
      ]
    },
    {
      "cell_type": "code",
      "metadata": {
        "id": "AUn1evA6fPpH"
      },
      "source": [
        "all_attributes = {}"
      ],
      "execution_count": null,
      "outputs": []
    },
    {
      "cell_type": "code",
      "metadata": {
        "id": "jE2ix7pR9ouK"
      },
      "source": [
        "#Goal : struct dictionary{key = quote_id, value = ([genders],[nationalities])}\n",
        "\n",
        "# Retrieve quotes speakers' gender, in the order of the quotations df\n",
        "# Input : df_quotes with only first qid in new column qid (instead of qids)\n",
        "def list_attribute_speaker(id_speaker, attr):\n",
        "  list_attr = []\n",
        "  id_attr_speaker = speakers_df.loc[speakers_df.id==id_speaker][attr] #List of all attribute ID per speaker\n",
        "  for id_a in id_attr_speaker:\n",
        "     if(id_a is not None):\n",
        "       attr = all_attributes.get(id_a[0])\n",
        "       if attr is None:\n",
        "         attr= labels.loc[id_a]['Label'].values #Attribute value\n",
        "         all_attributes[id_a[0]] = attr\n",
        "       list_attr.append(attr[0]) \n",
        "  return list_attr"
      ],
      "execution_count": null,
      "outputs": []
    },
    {
      "cell_type": "markdown",
      "metadata": {
        "id": "yGje6H14MEUN"
      },
      "source": [
        "Next we create a function to pick the first qid in the list of aliases in order to map each quote with a single speaker qid. We decided to pick the first one of the list as the choice should not influence too much on the gender of the speaker."
      ]
    },
    {
      "cell_type": "code",
      "metadata": {
        "id": "Gq6TjBqpLzzo"
      },
      "source": [
        "#We want to transform the 'qids' column in a single 'qid' element\n",
        "def get_single_qid(df_quotes):\n",
        "\n",
        "  df_copy =  df_quotes.copy()\n",
        "  df_result =  df_quotes.copy()\n",
        "  for idx,row in df_copy.iterrows():  \n",
        "    id_speaker = row.loc['qids'][0] \n",
        "    df_result.at[idx,'qids'] = id_speaker\n",
        "\n",
        "  df_result = df_result.rename(columns={\"qids\": \"qid\"})\n",
        "  return df_result"
      ],
      "execution_count": null,
      "outputs": []
    },
    {
      "cell_type": "code",
      "metadata": {
        "id": "UkfVISt1L2Ix"
      },
      "source": [
        "#we extract a single qid for our dataset\n",
        "df_quotesNY_qid = get_single_qid(df_quotesNY)"
      ],
      "execution_count": null,
      "outputs": []
    },
    {
      "cell_type": "markdown",
      "metadata": {
        "id": "tcYyrrd-NXpY"
      },
      "source": [
        "Now we apply our function to get a dictionary mapping each speaker id to their gender and nationality."
      ]
    },
    {
      "cell_type": "code",
      "metadata": {
        "id": "vFBkgX_HEcN1",
        "colab": {
          "base_uri": "https://localhost:8080/"
        },
        "outputId": "7770b7c4-0f47-4046-e83a-a169a9d4c0ed"
      },
      "source": [
        "test_quotesNY = df_quotesNY_qid.head(10)\n",
        "list_genders = test_quotesNY['qid'].apply(lambda i: list_attribute_speaker(i, 'gender'))\n",
        "list_genders"
      ],
      "execution_count": null,
      "outputs": [
        {
          "output_type": "execute_result",
          "data": {
            "text/plain": [
              "0       [male]\n",
              "1       [male]\n",
              "3       [male]\n",
              "5       [male]\n",
              "8     [female]\n",
              "10      [male]\n",
              "12      [male]\n",
              "13    [female]\n",
              "14      [male]\n",
              "15      [male]\n",
              "Name: qid, dtype: object"
            ]
          },
          "metadata": {},
          "execution_count": 128
        }
      ]
    },
    {
      "cell_type": "code",
      "metadata": {
        "colab": {
          "base_uri": "https://localhost:8080/"
        },
        "id": "vi7sOvxxXL2_",
        "outputId": "b06dbc1c-1e75-483b-853f-06021d9bb7e6"
      },
      "source": [
        "list_nat = test_quotesNY['qid'].apply(lambda i: list_attribute_speaker(i, 'nationality'))\n",
        "list_nat"
      ],
      "execution_count": null,
      "outputs": [
        {
          "output_type": "execute_result",
          "data": {
            "text/plain": [
              "0               [United Kingdom]\n",
              "1     [United States of America]\n",
              "3     [United States of America]\n",
              "5     [United States of America]\n",
              "8                       [France]\n",
              "10    [United States of America]\n",
              "12    [United States of America]\n",
              "13    [United States of America]\n",
              "14              [United Kingdom]\n",
              "15    [United States of America]\n",
              "Name: qid, dtype: object"
            ]
          },
          "metadata": {},
          "execution_count": 129
        }
      ]
    },
    {
      "cell_type": "markdown",
      "metadata": {
        "id": "z7MdIeatNiUx"
      },
      "source": [
        "Next we add this information in two new columns."
      ]
    },
    {
      "cell_type": "code",
      "metadata": {
        "colab": {
          "base_uri": "https://localhost:8080/",
          "height": 615
        },
        "id": "xlgCE82nNpAr",
        "outputId": "028f9466-0d6a-4d50-e8a3-9ce37c6941fb"
      },
      "source": [
        "test_quotesNY.insert(3, 'gender', list_genders)\n",
        "test_quotesNY.insert(4,'nationality', list_nat)\n",
        "test_quotesNY.head()"
      ],
      "execution_count": null,
      "outputs": [
        {
          "output_type": "execute_result",
          "data": {
            "text/html": [
              "<div>\n",
              "<style scoped>\n",
              "    .dataframe tbody tr th:only-of-type {\n",
              "        vertical-align: middle;\n",
              "    }\n",
              "\n",
              "    .dataframe tbody tr th {\n",
              "        vertical-align: top;\n",
              "    }\n",
              "\n",
              "    .dataframe thead th {\n",
              "        text-align: right;\n",
              "    }\n",
              "</style>\n",
              "<table border=\"1\" class=\"dataframe\">\n",
              "  <thead>\n",
              "    <tr style=\"text-align: right;\">\n",
              "      <th></th>\n",
              "      <th>quoteID</th>\n",
              "      <th>quotation</th>\n",
              "      <th>speaker</th>\n",
              "      <th>gender</th>\n",
              "      <th>nationality</th>\n",
              "      <th>qid</th>\n",
              "      <th>date</th>\n",
              "      <th>numOccurrences</th>\n",
              "      <th>probas</th>\n",
              "      <th>urls</th>\n",
              "      <th>phase</th>\n",
              "    </tr>\n",
              "  </thead>\n",
              "  <tbody>\n",
              "    <tr>\n",
              "      <th>0</th>\n",
              "      <td>2019-04-17-024782</td>\n",
              "      <td>It is not a low-income immigration,</td>\n",
              "      <td>James Fisher</td>\n",
              "      <td>[male]</td>\n",
              "      <td>[United Kingdom]</td>\n",
              "      <td>Q16213953</td>\n",
              "      <td>2019-04-17 13:31:18</td>\n",
              "      <td>1</td>\n",
              "      <td>[[James Fisher, 0.7475], [None, 0.2525]]</td>\n",
              "      <td>[https://www.nytimes.com/2019/04/17/realestate...</td>\n",
              "      <td>E</td>\n",
              "    </tr>\n",
              "    <tr>\n",
              "      <th>1</th>\n",
              "      <td>2019-04-02-001128</td>\n",
              "      <td>a champion figure skater switching to roller s...</td>\n",
              "      <td>John Updike</td>\n",
              "      <td>[male]</td>\n",
              "      <td>[United States of America]</td>\n",
              "      <td>Q105756</td>\n",
              "      <td>2019-04-02 14:58:33</td>\n",
              "      <td>2</td>\n",
              "      <td>[[John Updike, 0.5856], [None, 0.4144]]</td>\n",
              "      <td>[https://www.nytimes.com/2019/04/02/opinion/vl...</td>\n",
              "      <td>E</td>\n",
              "    </tr>\n",
              "    <tr>\n",
              "      <th>3</th>\n",
              "      <td>2019-10-31-056366</td>\n",
              "      <td>It puts me in a predicament,</td>\n",
              "      <td>Xavier Becerra</td>\n",
              "      <td>[male]</td>\n",
              "      <td>[United States of America]</td>\n",
              "      <td>Q1855840</td>\n",
              "      <td>2019-10-31 16:45:15</td>\n",
              "      <td>3</td>\n",
              "      <td>[[Xavier Becerra, 0.9065], [None, 0.0909], [St...</td>\n",
              "      <td>[http://www.nytimes.com/2019/10/31/technology/...</td>\n",
              "      <td>E</td>\n",
              "    </tr>\n",
              "    <tr>\n",
              "      <th>5</th>\n",
              "      <td>2019-08-15-002017</td>\n",
              "      <td>A Senator we can call our own.</td>\n",
              "      <td>Tom Rath</td>\n",
              "      <td>[male]</td>\n",
              "      <td>[United States of America]</td>\n",
              "      <td>Q7817334</td>\n",
              "      <td>2019-08-15 22:36:33</td>\n",
              "      <td>1</td>\n",
              "      <td>[[Tom Rath, 0.7598], [None, 0.1993], [Warren R...</td>\n",
              "      <td>[http://www.nytimes.com/2019/08/15/us/politics...</td>\n",
              "      <td>E</td>\n",
              "    </tr>\n",
              "    <tr>\n",
              "      <th>8</th>\n",
              "      <td>2019-07-22-032883</td>\n",
              "      <td>It's a success, a relief and a technical feat,</td>\n",
              "      <td>Florence Parly</td>\n",
              "      <td>[female]</td>\n",
              "      <td>[France]</td>\n",
              "      <td>Q3074013</td>\n",
              "      <td>2019-07-22 02:37:50</td>\n",
              "      <td>21</td>\n",
              "      <td>[[Florence Parly, 0.9262], [None, 0.0738]]</td>\n",
              "      <td>[http://www.breitbart.com/news/french-submarin...</td>\n",
              "      <td>E</td>\n",
              "    </tr>\n",
              "  </tbody>\n",
              "</table>\n",
              "</div>"
            ],
            "text/plain": [
              "             quoteID  ... phase\n",
              "0  2019-04-17-024782  ...     E\n",
              "1  2019-04-02-001128  ...     E\n",
              "3  2019-10-31-056366  ...     E\n",
              "5  2019-08-15-002017  ...     E\n",
              "8  2019-07-22-032883  ...     E\n",
              "\n",
              "[5 rows x 11 columns]"
            ]
          },
          "metadata": {},
          "execution_count": 114
        }
      ]
    },
    {
      "cell_type": "markdown",
      "metadata": {
        "id": "ZUpBDScXY9zR"
      },
      "source": [
        "Let's put everything together to get this for all of our quotes :"
      ]
    },
    {
      "cell_type": "code",
      "metadata": {
        "id": "7Ju8uFpOY82Y"
      },
      "source": [
        "import json\n",
        "from tqdm.notebook import tqdm_notebook\n",
        "import time\n",
        "\n",
        "def add_speaker_info(path_in):\n",
        "  df = pd.read_json(path_in, lines=True,compression='bz2')\n",
        "  #first we get a single qid:\n",
        "  df = get_single_qid(df)\n",
        "  tqdm_notebook.pandas()\n",
        "  genders = df['qid'].progress_apply(lambda i: list_attribute_speaker(i, 'gender'))\n",
        "  nationalities = df['qid'].progress_apply(lambda i: list_attribute_speaker(i, 'nationality'))\n",
        "  df.insert(3, 'gender', genders)\n",
        "  df.insert(4,'nationality', nationalities)\n",
        "  return df"
      ],
      "execution_count": null,
      "outputs": []
    },
    {
      "cell_type": "code",
      "metadata": {
        "id": "_Z8seEd7FDMV",
        "colab": {
          "base_uri": "https://localhost:8080/",
          "height": 49,
          "referenced_widgets": [
            "351a30b44f3e478d9993b05c8643dfff",
            "c64e2bf743a94fbdb5f6b184a917ccf2",
            "2a715ff6c9c442598efc11e0942979ef",
            "3610d6a62af94169997aca6ed25d339f",
            "af43f48c0ec54be6ab7c8b960db4a28f",
            "da786ff90f8947889655d2af14460992",
            "dfc740ea08bf4a648e0846de3680d611",
            "23dd644dd352439fb361fd07cfb6c414",
            "ded55fdc210442048ce13ceb155567da",
            "ba282ebf86a74de8a2722d49de1bdaab",
            "25915633fc13487bb9f1cf43450e7245"
          ]
        },
        "outputId": "0d5914e3-84eb-4d39-d7be-2f6703d74c63"
      },
      "source": [
        "df_2020 = add_speaker_info(QUOTES_2020_PATH)"
      ],
      "execution_count": null,
      "outputs": [
        {
          "output_type": "display_data",
          "data": {
            "application/vnd.jupyter.widget-view+json": {
              "model_id": "351a30b44f3e478d9993b05c8643dfff",
              "version_minor": 0,
              "version_major": 2
            },
            "text/plain": [
              "  0%|          | 0/26070 [00:00<?, ?it/s]"
            ]
          },
          "metadata": {}
        }
      ]
    },
    {
      "cell_type": "code",
      "metadata": {
        "id": "lmoMoK07i15o"
      },
      "source": [
        "df_2019 = add_speaker_info(QUOTES_2019_PATH)"
      ],
      "execution_count": null,
      "outputs": []
    },
    {
      "cell_type": "markdown",
      "metadata": {
        "id": "Bh9eaDhyM0qY"
      },
      "source": [
        "## 4 Data exploration and cleaning\n",
        "<a id=\"data_explore_clean\"></a>"
      ]
    },
    {
      "cell_type": "markdown",
      "metadata": {
        "id": "rz1MVvi7M0qY"
      },
      "source": [
        "### 4.1 Import prepared data\n",
        "<a id=\"import_prep_data\"></a>"
      ]
    },
    {
      "cell_type": "markdown",
      "metadata": {
        "id": "XYNJ-AqbM0qZ"
      },
      "source": [
        "### 4.2 Set the index\n",
        "<a id=\"set_index\"></a>"
      ]
    },
    {
      "cell_type": "markdown",
      "metadata": {
        "id": "WhCpq9plM0qZ"
      },
      "source": [
        "### 4.3 Save cleaned data frame as pickle\n",
        "<a id=\"save_pickle\"></a>"
      ]
    },
    {
      "cell_type": "markdown",
      "metadata": {
        "id": "L8O0LkrcM0qZ"
      },
      "source": [
        "## 5 Research questions\n",
        "<a id=\"research_questions\"></a>"
      ]
    },
    {
      "cell_type": "markdown",
      "metadata": {
        "id": "0L3aW7ndM0qZ"
      },
      "source": [
        "### 5.1 Load pickled dataframes\n",
        "<a id=\"load_pickle\"></a>"
      ]
    },
    {
      "cell_type": "code",
      "metadata": {
        "id": "RFr7X12KjNM7"
      },
      "source": [
        ""
      ],
      "execution_count": null,
      "outputs": []
    }
  ]
}
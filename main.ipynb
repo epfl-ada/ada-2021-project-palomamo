{
  "nbformat": 4,
  "nbformat_minor": 0,
  "metadata": {
    "colab": {
      "name": "Copy of main.ipynb",
      "provenance": [],
      "collapsed_sections": [],
      "include_colab_link": true
    },
    "kernelspec": {
      "display_name": "Python 3 (ipykernel)",
      "language": "python",
      "name": "python3"
    },
    "language_info": {
      "codemirror_mode": {
        "name": "ipython",
        "version": 3
      },
      "file_extension": ".py",
      "mimetype": "text/x-python",
      "name": "python",
      "nbconvert_exporter": "python",
      "pygments_lexer": "ipython3",
      "version": "3.8.11"
    }
  },
  "cells": [
    {
      "cell_type": "markdown",
      "metadata": {
        "id": "view-in-github",
        "colab_type": "text"
      },
      "source": [
        "<a href=\"https://colab.research.google.com/github/morwald/ada_project/blob/main/main.ipynb\" target=\"_parent\"><img src=\"https://colab.research.google.com/assets/colab-badge.svg\" alt=\"Open In Colab\"/></a>"
      ]
    },
    {
      "cell_type": "markdown",
      "metadata": {
        "id": "7txCTyrTM0qJ"
      },
      "source": [
        "# Analysis of gender distribution in UK's leading newspapers"
      ]
    },
    {
      "cell_type": "markdown",
      "metadata": {
        "id": "wEzY5GJ5M0qO"
      },
      "source": [
        "This notebook serves as a first presentation of our project for milestone 2. It is structured and written in such  a way that we can directly continue on it for milestone 3."
      ]
    },
    {
      "cell_type": "markdown",
      "metadata": {
        "id": "ucef3_UkM0qP"
      },
      "source": [
        "## Content\n",
        "1. [Setup](#setup)   \n",
        "    1.1 [Imports](#imports)  \n",
        "    1.2 [Data paths](#data_paths)   \n",
        "    1.3 [Utility functions](#utility_functions)   \n",
        "2. [Data preparation and cleaning](#data_prep)    \n",
        "    2.1 [Columns and rows selection](#cols_rows_select)  \n",
        "    2.2 [News paper selection](#newspaper_select)\n",
        "3. [Additional data set: speaker attributes](#additional_dataset)    \n",
        "    3.1 [Explore attributes](#explore_attr)  \n",
        "    3.2 [Merge speaker attributes](#merge_speaker_attr)    \n",
        "    3.3 [Save merged data as pickle](#save_pickle)                \n",
        "4. [Research questions](#research_question)   \n",
        "    4.1 [Load merged data](#load_pickle)   \n",
        "    4.1 [Sanity_check](#sanity_check)  \n",
        "    4.1 [Visualisation of genders](#visual_genders)  "
      ]
    },
    {
      "cell_type": "markdown",
      "metadata": {
        "id": "owgTJarZM0qP",
        "tags": []
      },
      "source": [
        "## 1. Setup\n",
        "<a id=\"setup\"></a>"
      ]
    },
    {
      "cell_type": "markdown",
      "metadata": {
        "id": "5yqsvZuAM0qQ"
      },
      "source": [
        "### 1.1 Imports\n",
        "<a id=\"imports\"></a>"
      ]
    },
    {
      "cell_type": "code",
      "metadata": {
        "id": "GFoAWQprM0qQ"
      },
      "source": [
        "import pandas as pd\n",
        "import numpy as np\n",
        "import seaborn as sns\n",
        "import matplotlib.pyplot as plt\n",
        "import json\n",
        "import bz2"
      ],
      "execution_count": 1,
      "outputs": []
    },
    {
      "cell_type": "markdown",
      "metadata": {
        "id": "KKWfSxjgM0qR"
      },
      "source": [
        "### 1.2 Data paths\n",
        "<a id=\"data_paths\"></a>\n",
        "\n",
        "**Important**: When using Google Colab the ```use_colab``` variable has to be set to true. This way the files can be accessed directly from our shared drive. If you wan't to work locally the raw and filtered data have to be stored locally in the root folder under _Quotebank_ and _Filtered data_. The finally merged and cleaned data will be stored in _Merged data_ in a pickle format. To execute section the [Data preparation and cleaning](#data_prep) the raw data in the folder _Quotebank_ is needed but this section has to be executed only once.\n",
        "\n",
        "You can download the raw data here: [Quotebank](https://zenodo.org/record/4277311#.YYzk6_oo9hE)\n",
        "\n",
        "The addtional dataset can be found here: [Speakers](https://drive.google.com/drive/folders/1VAFHacZFh0oxSxilgNByb1nlNsqznUf0)"
      ]
    },
    {
      "cell_type": "code",
      "metadata": {
        "id": "XgjGqxuSnkx2"
      },
      "source": [
        "# Comment the files which aren't stored locally\n",
        "# In Colab everything should be available\n",
        "RAW_QUOTES_2020_PATH = 'Quotebank/quotes-2020.json.bz2' \n",
        "FILTERED_QUOTES_2020_PATH = 'Filtered data/quotes-2020-gb.json.bz2'\n",
        "QUOTES_2020_PATH = 'Merged data/quotes-2020-gb.pkl'\n",
        "\n",
        "#RAW_QUOTES_2019_PATH = 'Quotebank/quotes-2019.json.bz2' \n",
        "FILTERED_QUOTES_2019_PATH = 'Filtered data/quotes-2019-gb.json.bz2'\n",
        "QUOTES_2019_PATH = 'Merged data/quotes-2019-gb.pkl' \n",
        "\n",
        "#RAW_QUOTES_2018_PATH = 'Quotebank/quotes-2018.json.bz2' \n",
        "FILTERED_QUOTES_2018_PATH = 'Filtered data/quotes-2018-gb.json.bz2'\n",
        "QUOTES_2018_PATH = 'Merged data/quotes-2018-gb.pkl' \n",
        "\n",
        "#RAW_QUOTES_2017_PATH = 'Quotebank/quotes-2017.json.bz2' \n",
        "FILTERED_QUOTES_2017_PATH = 'Filtered data/quotes-2017-gb.json.bz2' \n",
        "QUOTES_2017_PATH = 'Merged data/quotes-2017-gb.pkl'\n",
        "\n",
        "#RAW_QUOTES_2016_PATH = 'raw_data/quotes-2016.json.bz2' \n",
        "FILTERED_QUOTES_2016_PATH = 'Filtered data/quotes-2016-gb.json.bz2'\n",
        "QUOTES_2016_PATH = 'Merged data/quotes-2016-gb.pkl'\n",
        "\n",
        "#RAW_QUOTES_2015_PATH = 'raw_data/quotes-2015.json.bz2' \n",
        "FILTERED_QUOTES_2015_PATH = 'Filtered data/quotes-2015-gb.json.bz2'\n",
        "QUOTES_2015_PATH = 'Merged data/quotes-2015-gb.pkl'\n",
        "\n",
        "# Additional data set\n",
        "SPEAKER_ATTRIBUTES_PATH = 'Project datasets/speaker_attributes.parquet'\n",
        "LABELS_WIKIDATA_PATH = 'Project datasets/wikidata_labels_descriptions_quotebank.csv.bz2'"
      ],
      "execution_count": null,
      "outputs": []
    },
    {
      "cell_type": "code",
      "metadata": {
        "id": "hzfP-W7znkx3"
      },
      "source": [
        "# Change to true if you want to use google colab\n",
        "use_colab = False"
      ],
      "execution_count": 2,
      "outputs": []
    },
    {
      "cell_type": "markdown",
      "metadata": {
        "id": "qefk9v2tSmnT"
      },
      "source": [
        "We mount the drive and go to the our shared directory if necessary."
      ]
    },
    {
      "cell_type": "code",
      "metadata": {
        "id": "TYbQA-9aNUeC"
      },
      "source": [
        "# Import with EPFL google drive!\n",
        "if use_colab:\n",
        "    from google.colab import drive\n",
        "    drive.mount('/content/drive', force_remount=True)\n",
        "    \n",
        "    %cd /content/drive/Shareddrives/ADA-project"
      ],
      "execution_count": 4,
      "outputs": []
    },
    {
      "cell_type": "markdown",
      "metadata": {
        "id": "02ADHNIxSvDl"
      },
      "source": [
        "We have to install an older version of pandas in order to be able to use the 'chunksize' feature in colab."
      ]
    },
    {
      "cell_type": "code",
      "metadata": {
        "id": "24i5C-GlRwGW"
      },
      "source": [
        "if use_colab:\n",
        "    !pip install pandas==1.0.5\n",
        "\n",
        "    # Reimport\n",
        "    import pandas as pd\n",
        "    print(pd.__version__)"
      ],
      "execution_count": null,
      "outputs": []
    },
    {
      "cell_type": "markdown",
      "metadata": {
        "id": "KymkAGpdM0qT"
      },
      "source": [
        "### 1.3 Utility functions\n",
        "<a id=\"utility_functions\"></a>"
      ]
    },
    {
      "cell_type": "code",
      "metadata": {
        "id": "tAN-njz8SJ2z"
      },
      "source": [
        "def load_mini_version_of_data(path_to_file, chunksize, nb_chunks):\n",
        "    \"\"\"\n",
        "    Returns a mini dataframe from of a bz2 compressed json file.\n",
        "    :path_to_file   file path as string\n",
        "    :chunksize      size to iterate\n",
        "    :nb_chunks      how many chunks\n",
        "    :return         pandas.DataFrame with chunksize*nb_chunks of rows\n",
        "    \"\"\"\n",
        "    \n",
        "    curr_chunk = 0\n",
        "    chunk_list = []\n",
        "    \n",
        "    if use_colab:\n",
        "          for chunk in pd.read_json(path_to_file, lines=True, compression='bz2', chunksize=chunksize):\n",
        "              if curr_chunk == nb_chunks:\n",
        "                  break\n",
        "              curr_chunk = curr_chunk + 1\n",
        "              chunk_list.append(chunk)\n",
        "    else:\n",
        "      with pd.read_json(path_to_file, lines=True, compression='bz2', chunksize=chunksize) as df_reader:\n",
        "          for chunk in df_reader:\n",
        "              if curr_chunk == nb_chunks:\n",
        "                  break\n",
        "          \n",
        "              curr_chunk = curr_chunk + 1\n",
        "              chunk_list.append(chunk)\n",
        "    \n",
        "    df = pd.concat(chunk_list)\n",
        "    return df"
      ],
      "execution_count": null,
      "outputs": []
    },
    {
      "cell_type": "markdown",
      "metadata": {
        "id": "e3X94ETfM0qU",
        "tags": []
      },
      "source": [
        "## 2. Data preparation and cleaning\n",
        "<a id=\"data_prep\"></a>\n",
        "\n",
        "The quotebank dataset is too large to directly access it with a dataframe. This section provides all the steps to filter the data we need for our analysis. The filtering and preparation is done based on our research question. Please check the README for details. Further explanations will be given under [Research question](#research_question).\n",
        "\n",
        "The data preperation can be done on a per year basis of the Quotebank data set."
      ]
    },
    {
      "cell_type": "markdown",
      "metadata": {
        "id": "0aBizKy0M0qV"
      },
      "source": [
        "### 2.1 Column and row selection\n",
        "<a id=\"cols_rows_select\"></a>"
      ]
    },
    {
      "cell_type": "code",
      "metadata": {
        "colab": {
          "base_uri": "https://localhost:8080/",
          "height": 374
        },
        "id": "DDiGK7IoM0qV",
        "outputId": "e2765a01-583e-4795-c84a-7a55d3531f62"
      },
      "source": [
        "# A quick look at a small subset of the data of the selected year\n",
        "year_sample_df = load_mini_version_of_data(RAW_QUOTES_2020_PATH, 10000, 10)\n",
        "year_sample_df.head()"
      ],
      "execution_count": null,
      "outputs": [
        {
          "data": {
            "text/html": [
              "<div>\n",
              "<style scoped>\n",
              "    .dataframe tbody tr th:only-of-type {\n",
              "        vertical-align: middle;\n",
              "    }\n",
              "\n",
              "    .dataframe tbody tr th {\n",
              "        vertical-align: top;\n",
              "    }\n",
              "\n",
              "    .dataframe thead th {\n",
              "        text-align: right;\n",
              "    }\n",
              "</style>\n",
              "<table border=\"1\" class=\"dataframe\">\n",
              "  <thead>\n",
              "    <tr style=\"text-align: right;\">\n",
              "      <th></th>\n",
              "      <th>quoteID</th>\n",
              "      <th>quotation</th>\n",
              "      <th>speaker</th>\n",
              "      <th>qids</th>\n",
              "      <th>date</th>\n",
              "      <th>numOccurrences</th>\n",
              "      <th>probas</th>\n",
              "      <th>urls</th>\n",
              "      <th>phase</th>\n",
              "    </tr>\n",
              "  </thead>\n",
              "  <tbody>\n",
              "    <tr>\n",
              "      <th>0</th>\n",
              "      <td>2020-01-28-000082</td>\n",
              "      <td>[ D ] espite the efforts of the partners to cr...</td>\n",
              "      <td>None</td>\n",
              "      <td>[]</td>\n",
              "      <td>2020-01-28 08:04:05</td>\n",
              "      <td>1</td>\n",
              "      <td>[[None, 0.7272], [Prime Minister Netanyahu, 0....</td>\n",
              "      <td>[http://israelnationalnews.com/News/News.aspx/...</td>\n",
              "      <td>E</td>\n",
              "    </tr>\n",
              "    <tr>\n",
              "      <th>1</th>\n",
              "      <td>2020-01-16-000088</td>\n",
              "      <td>[ Department of Homeland Security ] was livid ...</td>\n",
              "      <td>Sue Myrick</td>\n",
              "      <td>[Q367796]</td>\n",
              "      <td>2020-01-16 12:00:13</td>\n",
              "      <td>1</td>\n",
              "      <td>[[Sue Myrick, 0.8867], [None, 0.0992], [Ron Wy...</td>\n",
              "      <td>[http://thehill.com/opinion/international/4782...</td>\n",
              "      <td>E</td>\n",
              "    </tr>\n",
              "    <tr>\n",
              "      <th>2</th>\n",
              "      <td>2020-02-10-000142</td>\n",
              "      <td>... He (Madhav) also disclosed that the illega...</td>\n",
              "      <td>None</td>\n",
              "      <td>[]</td>\n",
              "      <td>2020-02-10 23:45:54</td>\n",
              "      <td>1</td>\n",
              "      <td>[[None, 0.8926], [Prakash Rai, 0.1074]]</td>\n",
              "      <td>[https://indianexpress.com/article/business/ec...</td>\n",
              "      <td>E</td>\n",
              "    </tr>\n",
              "    <tr>\n",
              "      <th>3</th>\n",
              "      <td>2020-02-15-000053</td>\n",
              "      <td>... [ I ] f it gets to the floor,</td>\n",
              "      <td>None</td>\n",
              "      <td>[]</td>\n",
              "      <td>2020-02-15 14:12:51</td>\n",
              "      <td>2</td>\n",
              "      <td>[[None, 0.581], [Andy Harris, 0.4191]]</td>\n",
              "      <td>[https://patriotpost.us/opinion/68622-trump-bu...</td>\n",
              "      <td>E</td>\n",
              "    </tr>\n",
              "    <tr>\n",
              "      <th>4</th>\n",
              "      <td>2020-01-24-000168</td>\n",
              "      <td>[ I met them ] when they just turned 4 and 7. ...</td>\n",
              "      <td>Meghan King Edmonds</td>\n",
              "      <td>[Q20684375]</td>\n",
              "      <td>2020-01-24 20:37:09</td>\n",
              "      <td>4</td>\n",
              "      <td>[[Meghan King Edmonds, 0.5446], [None, 0.2705]...</td>\n",
              "      <td>[https://people.com/parents/meghan-king-edmond...</td>\n",
              "      <td>E</td>\n",
              "    </tr>\n",
              "  </tbody>\n",
              "</table>\n",
              "</div>"
            ],
            "text/plain": [
              "             quoteID  ... phase\n",
              "0  2020-01-28-000082  ...     E\n",
              "1  2020-01-16-000088  ...     E\n",
              "2  2020-02-10-000142  ...     E\n",
              "3  2020-02-15-000053  ...     E\n",
              "4  2020-01-24-000168  ...     E\n",
              "\n",
              "[5 rows x 9 columns]"
            ]
          },
          "execution_count": 7,
          "metadata": {},
          "output_type": "execute_result"
        }
      ]
    },
    {
      "cell_type": "code",
      "metadata": {
        "colab": {
          "base_uri": "https://localhost:8080/"
        },
        "id": "hBzK83L9M0qW",
        "scrolled": true,
        "outputId": "e33410f8-4433-40b0-e200-ac366c3267b9"
      },
      "source": [
        "# How many quotations don't have an assigned speaker?\n",
        "sum(year_sample_df['speaker'] == 'None')"
      ],
      "execution_count": null,
      "outputs": [
        {
          "data": {
            "text/plain": [
              "34316"
            ]
          },
          "execution_count": 8,
          "metadata": {},
          "output_type": "execute_result"
        }
      ]
    },
    {
      "cell_type": "markdown",
      "metadata": {
        "id": "DH6Hbvv_M0qW"
      },
      "source": [
        "The cell above shows that there around 1/3 of the quotations are 'None' speakers. As we want to make a gender based study will will not need these rows. This eliminitation will drasticly reduce the size of the data we have to analyse.\n",
        "\n",
        "Furthermore the colums which aren't of interest for our study are:\\\n",
        "**phase**: We don't care. \\\n",
        "**probas**: We will select the speaker with highest probablity (note that 'None' speakers are already neglected)."
      ]
    },
    {
      "cell_type": "markdown",
      "metadata": {
        "id": "Mw_WR9hCM0qX"
      },
      "source": [
        "### 2.2 Newspaper selection\n",
        "<a id=\"nespaper_select\"></a>\n",
        "In a first analysis we will pick quotations of **3** of the top 12 UKs newspapers with the most reach both in prints and digital reach. See [this](https://www.statista.com/statistics/246077/reach-of-selected-national-newspapers-in-the-uk/) statistic for more details.\n",
        "We create a dataframe with their url and name."
      ]
    },
    {
      "cell_type": "code",
      "metadata": {
        "colab": {
          "base_uri": "https://localhost:8080/",
          "height": 142
        },
        "id": "MqiT955RM0qX",
        "outputId": "92eb77d7-d80d-41d6-8cef-e9da7f03c676"
      },
      "source": [
        "# List of selected newspapers and their urls\n",
        "newspapers_list = [['The Sun', 'thesun.co.uk'], \n",
        "                  ['The Guardian', 'theguardian.com'],\n",
        "                  ['The Times', 'thetimes.co.uk']]\n",
        "\n",
        "# Dataframe\n",
        "newspapers_df = pd.DataFrame(newspapers_list, columns = ['name', 'website_url'])\n",
        "newspapers_df.head()"
      ],
      "execution_count": null,
      "outputs": [
        {
          "data": {
            "text/html": [
              "<div>\n",
              "<style scoped>\n",
              "    .dataframe tbody tr th:only-of-type {\n",
              "        vertical-align: middle;\n",
              "    }\n",
              "\n",
              "    .dataframe tbody tr th {\n",
              "        vertical-align: top;\n",
              "    }\n",
              "\n",
              "    .dataframe thead th {\n",
              "        text-align: right;\n",
              "    }\n",
              "</style>\n",
              "<table border=\"1\" class=\"dataframe\">\n",
              "  <thead>\n",
              "    <tr style=\"text-align: right;\">\n",
              "      <th></th>\n",
              "      <th>name</th>\n",
              "      <th>website_url</th>\n",
              "    </tr>\n",
              "  </thead>\n",
              "  <tbody>\n",
              "    <tr>\n",
              "      <th>0</th>\n",
              "      <td>The Sun</td>\n",
              "      <td>thesun.co.uk</td>\n",
              "    </tr>\n",
              "    <tr>\n",
              "      <th>1</th>\n",
              "      <td>The Guardian</td>\n",
              "      <td>theguardian.com</td>\n",
              "    </tr>\n",
              "    <tr>\n",
              "      <th>2</th>\n",
              "      <td>The Times</td>\n",
              "      <td>thetimes.co.uk</td>\n",
              "    </tr>\n",
              "  </tbody>\n",
              "</table>\n",
              "</div>"
            ],
            "text/plain": [
              "           name      website_url\n",
              "0       The Sun     thesun.co.uk\n",
              "1  The Guardian  theguardian.com\n",
              "2     The Times   thetimes.co.uk"
            ]
          },
          "execution_count": 9,
          "metadata": {},
          "output_type": "execute_result"
        }
      ]
    },
    {
      "cell_type": "markdown",
      "metadata": {
        "id": "7PSbHGGtM0qX"
      },
      "source": [
        "### 2.3 Filtering raw data\n",
        "<a id=\"filter_raw_data\"></a>\n",
        "\n",
        "Following the reasoning above we can extract the infos needed from the compressed file of one year of quotations. Let's create a helper function to check the urls of a quotation:"
      ]
    },
    {
      "cell_type": "code",
      "metadata": {
        "id": "902eh0g-cu78"
      },
      "source": [
        "def filter_data(path_in, path_out):\n",
        "  # Loop through all instances of json file and extract the desired rows\n",
        "  # Save the file in the filtered data directory\n",
        "  with bz2.open(path_in, 'rb') as s_file:\n",
        "      with bz2.open(path_out, 'wb') as d_file:\n",
        "          for instance in s_file:\n",
        "              instance = json.loads(instance) # loading a sample\n",
        "              if instance['speaker'] == 'None': #if the speaker is None we don't keep it and go to next iteration\n",
        "                  continue\n",
        "              urls = instance['urls'] # extracting list of links\n",
        "              newspapers = []\n",
        "              for url in urls:\n",
        "                  for name, website_url in zip(newspapers_df['name'],newspapers_df['website_url']): \n",
        "                      if website_url in url: #if the url of the current quote contains one of the newspapers' url\n",
        "                          if name not in newspapers: # to not have any dublicates \n",
        "                              newspapers.append(name)\n",
        "                  instance['newspapers'] = newspapers # updating the sample with domain name\n",
        "              # We remove unnecessary columns\n",
        "              instance.pop('probas')\n",
        "              instance.pop('phase')\n",
        "              # If there is a newspaper that we want to keep we write the instance to the output file\n",
        "              if newspapers: \n",
        "                d_file.write((json.dumps(instance)+'\\n').encode('utf-8')) # writing in the new file\n",
        "                "
      ],
      "execution_count": null,
      "outputs": []
    },
    {
      "cell_type": "markdown",
      "metadata": {
        "id": "hOK3Gp_HwHI1"
      },
      "source": [
        "We execute this for 2020 data (execute only once)."
      ]
    },
    {
      "cell_type": "code",
      "metadata": {
        "id": "iPJda6mObZja"
      },
      "source": [
        "#filter_data(RAW_QUOTES_2020_PATH,FILTERED_QUOTES_2020_PATH)"
      ],
      "execution_count": null,
      "outputs": []
    },
    {
      "cell_type": "code",
      "metadata": {
        "colab": {
          "base_uri": "https://localhost:8080/",
          "height": 323
        },
        "id": "APW1C9ivsu-G",
        "outputId": "b43f2db0-bb04-4f47-b9ba-89b4618bd624"
      },
      "source": [
        "# We check that the new file contains the right data\n",
        "filtered_sample_df = load_mini_version_of_data(QUOTES_2020_PATH, 10000, 10)\n",
        "filtered_sample_df.head()"
      ],
      "execution_count": null,
      "outputs": [
        {
          "data": {
            "text/html": [
              "<div>\n",
              "<style scoped>\n",
              "    .dataframe tbody tr th:only-of-type {\n",
              "        vertical-align: middle;\n",
              "    }\n",
              "\n",
              "    .dataframe tbody tr th {\n",
              "        vertical-align: top;\n",
              "    }\n",
              "\n",
              "    .dataframe thead th {\n",
              "        text-align: right;\n",
              "    }\n",
              "</style>\n",
              "<table border=\"1\" class=\"dataframe\">\n",
              "  <thead>\n",
              "    <tr style=\"text-align: right;\">\n",
              "      <th></th>\n",
              "      <th>quoteID</th>\n",
              "      <th>quotation</th>\n",
              "      <th>speaker</th>\n",
              "      <th>qids</th>\n",
              "      <th>date</th>\n",
              "      <th>numOccurrences</th>\n",
              "      <th>urls</th>\n",
              "      <th>newspapers</th>\n",
              "    </tr>\n",
              "  </thead>\n",
              "  <tbody>\n",
              "    <tr>\n",
              "      <th>0</th>\n",
              "      <td>2020-01-31-008580</td>\n",
              "      <td>As you reach or have reached the apex of your ...</td>\n",
              "      <td>Keyon Dooling</td>\n",
              "      <td>[Q304349]</td>\n",
              "      <td>2020-01-31 19:07:55</td>\n",
              "      <td>1</td>\n",
              "      <td>[https://www.theguardian.com/sport/2020/jan/31...</td>\n",
              "      <td>[The Guardian]</td>\n",
              "    </tr>\n",
              "    <tr>\n",
              "      <th>1</th>\n",
              "      <td>2020-01-20-006469</td>\n",
              "      <td>At the same time we want to remain friends wit...</td>\n",
              "      <td>Tim Martin</td>\n",
              "      <td>[Q20670776, Q20713880, Q7803899, Q7803900]</td>\n",
              "      <td>2020-01-20 09:08:24</td>\n",
              "      <td>4</td>\n",
              "      <td>[https://www.dailystar.co.uk/real-life/wethers...</td>\n",
              "      <td>[The Sun]</td>\n",
              "    </tr>\n",
              "    <tr>\n",
              "      <th>2</th>\n",
              "      <td>2020-04-03-006933</td>\n",
              "      <td>Been home-schooling a 6-year-old and 8-year-ol...</td>\n",
              "      <td>Shonda Rhimes</td>\n",
              "      <td>[Q242329]</td>\n",
              "      <td>2020-04-03 16:00:00</td>\n",
              "      <td>1</td>\n",
              "      <td>[http://www.thetimes.co.uk/edition/magazine/ca...</td>\n",
              "      <td>[The Times]</td>\n",
              "    </tr>\n",
              "    <tr>\n",
              "      <th>3</th>\n",
              "      <td>2020-04-15-018814</td>\n",
              "      <td>I am now in agreement that we should move forw...</td>\n",
              "      <td>David Boies</td>\n",
              "      <td>[Q5231515]</td>\n",
              "      <td>2020-04-15 15:46:38</td>\n",
              "      <td>1</td>\n",
              "      <td>[https://www.thesun.co.uk/news/11403669/jeffre...</td>\n",
              "      <td>[The Sun]</td>\n",
              "    </tr>\n",
              "    <tr>\n",
              "      <th>4</th>\n",
              "      <td>2020-02-16-014286</td>\n",
              "      <td>I don't want to make a career out of [ remakin...</td>\n",
              "      <td>Ramiro Gomez</td>\n",
              "      <td>[Q30693403, Q43130877]</td>\n",
              "      <td>2020-02-16 15:00:32</td>\n",
              "      <td>1</td>\n",
              "      <td>[https://www.theguardian.com/artanddesign/2020...</td>\n",
              "      <td>[The Guardian]</td>\n",
              "    </tr>\n",
              "  </tbody>\n",
              "</table>\n",
              "</div>"
            ],
            "text/plain": [
              "             quoteID  ...      newspapers\n",
              "0  2020-01-31-008580  ...  [The Guardian]\n",
              "1  2020-01-20-006469  ...       [The Sun]\n",
              "2  2020-04-03-006933  ...     [The Times]\n",
              "3  2020-04-15-018814  ...       [The Sun]\n",
              "4  2020-02-16-014286  ...  [The Guardian]\n",
              "\n",
              "[5 rows x 8 columns]"
            ]
          },
          "execution_count": 18,
          "metadata": {},
          "output_type": "execute_result"
        }
      ]
    },
    {
      "cell_type": "markdown",
      "metadata": {
        "id": "WifW8YvwlTKW"
      },
      "source": [
        "Let's verify if that there are no 'None' speakers:"
      ]
    },
    {
      "cell_type": "code",
      "metadata": {
        "colab": {
          "base_uri": "https://localhost:8080/"
        },
        "id": "dqYFW8r4lSRe",
        "outputId": "6920d625-3a5c-4cdb-9c70-76b65b8c32ab"
      },
      "source": [
        "filtered_sample_df[filtered_sample_df.speaker=='None'].empty"
      ],
      "execution_count": null,
      "outputs": [
        {
          "data": {
            "text/plain": [
              "True"
            ]
          },
          "execution_count": 19,
          "metadata": {},
          "output_type": "execute_result"
        }
      ]
    },
    {
      "cell_type": "markdown",
      "metadata": {
        "id": "xLMg_0cfl6pg"
      },
      "source": [
        "Now let us do this filtering for the remaining data of years 2015-2019 (execute only once)."
      ]
    },
    {
      "cell_type": "code",
      "metadata": {
        "id": "AePNLWxAl6Vz"
      },
      "source": [
        "#filter_data(RAW_QUOTES_2019_PATH,FILTERED_QUOTES_2019_PATH)\n",
        "#filter_data(RAW_QUOTES_2018_PATH,FILTERED_QUOTES_2018_PATH)\n",
        "#filter_data(RAW_QUOTES_2017_PATH,FILTERED_QUOTES_2017_PATH)\n",
        "#filter_data(RAW_QUOTES_2016_PATH,FILTERED_QUOTES_2016_PATH)\n",
        "#filter_data(RAW_QUOTES_2015_PATH,FILTERED_QUOTES_2015_PATH)"
      ],
      "execution_count": null,
      "outputs": []
    },
    {
      "cell_type": "markdown",
      "metadata": {
        "id": "hE3n5IX4M0qY",
        "tags": []
      },
      "source": [
        "## 3. Additional data set: speaker attributes\n",
        "<a id=\"additional_dataset\"></a>\n",
        "\n",
        "The filtered Quotebank years are ready. The next step consists of integrating speaker attributes from our additional data set."
      ]
    },
    {
      "cell_type": "markdown",
      "metadata": {
        "id": "7B7nQdaVuh34"
      },
      "source": [
        "### 3.1 Explore attributes\n",
        "<a id=\"explore_attr\"></a>\n"
      ]
    },
    {
      "cell_type": "markdown",
      "metadata": {
        "id": "dXWm7QwJwVU0"
      },
      "source": [
        "we explore the speakers dataset."
      ]
    },
    {
      "cell_type": "code",
      "metadata": {
        "colab": {
          "base_uri": "https://localhost:8080/",
          "height": 581
        },
        "id": "GHP_sBCenkx_",
        "outputId": "eaf5bacd-ebe7-4843-c63a-bdcb0f8d4b1d"
      },
      "source": [
        "# Load speaker attributes in df\n",
        "speakers_df = pd.read_parquet(SPEAKER_ATTRIBUTES_PATH)\n",
        "speakers_df.head()"
      ],
      "execution_count": null,
      "outputs": [
        {
          "data": {
            "text/html": [
              "<div>\n",
              "<style scoped>\n",
              "    .dataframe tbody tr th:only-of-type {\n",
              "        vertical-align: middle;\n",
              "    }\n",
              "\n",
              "    .dataframe tbody tr th {\n",
              "        vertical-align: top;\n",
              "    }\n",
              "\n",
              "    .dataframe thead th {\n",
              "        text-align: right;\n",
              "    }\n",
              "</style>\n",
              "<table border=\"1\" class=\"dataframe\">\n",
              "  <thead>\n",
              "    <tr style=\"text-align: right;\">\n",
              "      <th></th>\n",
              "      <th>aliases</th>\n",
              "      <th>date_of_birth</th>\n",
              "      <th>nationality</th>\n",
              "      <th>gender</th>\n",
              "      <th>lastrevid</th>\n",
              "      <th>ethnic_group</th>\n",
              "      <th>US_congress_bio_ID</th>\n",
              "      <th>occupation</th>\n",
              "      <th>party</th>\n",
              "      <th>academic_degree</th>\n",
              "      <th>id</th>\n",
              "      <th>label</th>\n",
              "      <th>candidacy</th>\n",
              "      <th>type</th>\n",
              "      <th>religion</th>\n",
              "    </tr>\n",
              "  </thead>\n",
              "  <tbody>\n",
              "    <tr>\n",
              "      <th>0</th>\n",
              "      <td>[Washington, President Washington, G. Washingt...</td>\n",
              "      <td>[+1732-02-22T00:00:00Z]</td>\n",
              "      <td>[Q161885, Q30]</td>\n",
              "      <td>[Q6581097]</td>\n",
              "      <td>1395141751</td>\n",
              "      <td>None</td>\n",
              "      <td>W000178</td>\n",
              "      <td>[Q82955, Q189290, Q131512, Q1734662, Q294126, ...</td>\n",
              "      <td>[Q327591]</td>\n",
              "      <td>None</td>\n",
              "      <td>Q23</td>\n",
              "      <td>George Washington</td>\n",
              "      <td>[Q698073, Q697949]</td>\n",
              "      <td>item</td>\n",
              "      <td>[Q682443]</td>\n",
              "    </tr>\n",
              "    <tr>\n",
              "      <th>1</th>\n",
              "      <td>[Douglas Noel Adams, Douglas Noël Adams, Dougl...</td>\n",
              "      <td>[+1952-03-11T00:00:00Z]</td>\n",
              "      <td>[Q145]</td>\n",
              "      <td>[Q6581097]</td>\n",
              "      <td>1395737157</td>\n",
              "      <td>[Q7994501]</td>\n",
              "      <td>None</td>\n",
              "      <td>[Q214917, Q28389, Q6625963, Q4853732, Q1884422...</td>\n",
              "      <td>None</td>\n",
              "      <td>None</td>\n",
              "      <td>Q42</td>\n",
              "      <td>Douglas Adams</td>\n",
              "      <td>None</td>\n",
              "      <td>item</td>\n",
              "      <td>None</td>\n",
              "    </tr>\n",
              "    <tr>\n",
              "      <th>2</th>\n",
              "      <td>[Paul Marie Ghislain Otlet, Paul Marie Otlet]</td>\n",
              "      <td>[+1868-08-23T00:00:00Z]</td>\n",
              "      <td>[Q31]</td>\n",
              "      <td>[Q6581097]</td>\n",
              "      <td>1380367296</td>\n",
              "      <td>None</td>\n",
              "      <td>None</td>\n",
              "      <td>[Q36180, Q40348, Q182436, Q1265807, Q205375, Q...</td>\n",
              "      <td>None</td>\n",
              "      <td>None</td>\n",
              "      <td>Q1868</td>\n",
              "      <td>Paul Otlet</td>\n",
              "      <td>None</td>\n",
              "      <td>item</td>\n",
              "      <td>None</td>\n",
              "    </tr>\n",
              "    <tr>\n",
              "      <th>3</th>\n",
              "      <td>[George Walker Bush, Bush Jr., Dubya, GWB, Bus...</td>\n",
              "      <td>[+1946-07-06T00:00:00Z]</td>\n",
              "      <td>[Q30]</td>\n",
              "      <td>[Q6581097]</td>\n",
              "      <td>1395142029</td>\n",
              "      <td>None</td>\n",
              "      <td>None</td>\n",
              "      <td>[Q82955, Q15982858, Q18814623, Q1028181, Q1408...</td>\n",
              "      <td>[Q29468]</td>\n",
              "      <td>None</td>\n",
              "      <td>Q207</td>\n",
              "      <td>George W. Bush</td>\n",
              "      <td>[Q327959, Q464075, Q3586276, Q4450587]</td>\n",
              "      <td>item</td>\n",
              "      <td>[Q329646, Q682443, Q33203]</td>\n",
              "    </tr>\n",
              "    <tr>\n",
              "      <th>4</th>\n",
              "      <td>[Velázquez, Diego Rodríguez de Silva y Velázqu...</td>\n",
              "      <td>[+1599-06-06T00:00:00Z]</td>\n",
              "      <td>[Q29]</td>\n",
              "      <td>[Q6581097]</td>\n",
              "      <td>1391704596</td>\n",
              "      <td>None</td>\n",
              "      <td>None</td>\n",
              "      <td>[Q1028181]</td>\n",
              "      <td>None</td>\n",
              "      <td>None</td>\n",
              "      <td>Q297</td>\n",
              "      <td>Diego Velázquez</td>\n",
              "      <td>None</td>\n",
              "      <td>item</td>\n",
              "      <td>None</td>\n",
              "    </tr>\n",
              "  </tbody>\n",
              "</table>\n",
              "</div>"
            ],
            "text/plain": [
              "                                             aliases  ...                    religion\n",
              "0  [Washington, President Washington, G. Washingt...  ...                   [Q682443]\n",
              "1  [Douglas Noel Adams, Douglas Noël Adams, Dougl...  ...                        None\n",
              "2      [Paul Marie Ghislain Otlet, Paul Marie Otlet]  ...                        None\n",
              "3  [George Walker Bush, Bush Jr., Dubya, GWB, Bus...  ...  [Q329646, Q682443, Q33203]\n",
              "4  [Velázquez, Diego Rodríguez de Silva y Velázqu...  ...                        None\n",
              "\n",
              "[5 rows x 15 columns]"
            ]
          },
          "execution_count": 23,
          "metadata": {},
          "output_type": "execute_result"
        }
      ]
    },
    {
      "cell_type": "markdown",
      "metadata": {
        "id": "-ijhmvqAwDgH"
      },
      "source": [
        "Let us first check for duplicates. There seem to be none."
      ]
    },
    {
      "cell_type": "code",
      "metadata": {
        "colab": {
          "base_uri": "https://localhost:8080/",
          "height": 69
        },
        "id": "o6qUQ_tPnkyC",
        "outputId": "06d91151-3b7c-41a5-dbed-c4a6ec0d77d0"
      },
      "source": [
        "# Duplicates\n",
        "duplicates = speakers_df[speakers_df.duplicated(subset='id', keep='first')] \n",
        "duplicates.head()"
      ],
      "execution_count": null,
      "outputs": [
        {
          "data": {
            "text/html": [
              "<div>\n",
              "<style scoped>\n",
              "    .dataframe tbody tr th:only-of-type {\n",
              "        vertical-align: middle;\n",
              "    }\n",
              "\n",
              "    .dataframe tbody tr th {\n",
              "        vertical-align: top;\n",
              "    }\n",
              "\n",
              "    .dataframe thead th {\n",
              "        text-align: right;\n",
              "    }\n",
              "</style>\n",
              "<table border=\"1\" class=\"dataframe\">\n",
              "  <thead>\n",
              "    <tr style=\"text-align: right;\">\n",
              "      <th></th>\n",
              "      <th>aliases</th>\n",
              "      <th>date_of_birth</th>\n",
              "      <th>nationality</th>\n",
              "      <th>gender</th>\n",
              "      <th>lastrevid</th>\n",
              "      <th>ethnic_group</th>\n",
              "      <th>US_congress_bio_ID</th>\n",
              "      <th>occupation</th>\n",
              "      <th>party</th>\n",
              "      <th>academic_degree</th>\n",
              "      <th>id</th>\n",
              "      <th>label</th>\n",
              "      <th>candidacy</th>\n",
              "      <th>type</th>\n",
              "      <th>religion</th>\n",
              "    </tr>\n",
              "  </thead>\n",
              "  <tbody>\n",
              "  </tbody>\n",
              "</table>\n",
              "</div>"
            ],
            "text/plain": [
              "Empty DataFrame\n",
              "Columns: [aliases, date_of_birth, nationality, gender, lastrevid, ethnic_group, US_congress_bio_ID, occupation, party, academic_degree, id, label, candidacy, type, religion]\n",
              "Index: []"
            ]
          },
          "execution_count": 24,
          "metadata": {},
          "output_type": "execute_result"
        }
      ]
    },
    {
      "cell_type": "markdown",
      "metadata": {
        "id": "HsTU_34onkyA"
      },
      "source": [
        "We are mostly interested in the column gender. But let us see which ones we could keep. How many 'None' values do we have?"
      ]
    },
    {
      "cell_type": "code",
      "metadata": {
        "colab": {
          "base_uri": "https://localhost:8080/"
        },
        "id": "IPwXvBnknkyB",
        "outputId": "9a2cd04c-3c88-4665-a720-c54a5ca99277"
      },
      "source": [
        "# Fraction of lines with 'None' values:\n",
        "print('gender: ' + str(speakers_df[speakers_df.gender.isnull()].size / speakers_df.size))\n",
        "print('nationality: ' + str(speakers_df[speakers_df.nationality.isnull()].size / speakers_df.size))\n",
        "print('occupation: ' + str(speakers_df[speakers_df.occupation.isnull()].size / speakers_df.size))\n",
        "print('academic_degree: ' + str(speakers_df[speakers_df.academic_degree.isnull()].size / speakers_df.size))\n",
        "print('ethnic_group: ' + str(speakers_df[speakers_df.ethnic_group.isnull()].size / speakers_df.size))\n",
        "print('religion ' + str(speakers_df[speakers_df.religion.isnull()].size / speakers_df.size))"
      ],
      "execution_count": null,
      "outputs": [
        {
          "name": "stdout",
          "output_type": "stream",
          "text": [
            "gender: 0.21536937853557775\n",
            "nationality: 0.5896797928352544\n",
            "occupation: 0.29625691573337004\n",
            "academic_degree: 0.9889581261268106\n",
            "ethnic_group: 0.9856023328670853\n",
            "religion 0.9783254845609769\n"
          ]
        }
      ]
    },
    {
      "cell_type": "markdown",
      "metadata": {
        "id": "msgtq37lwBW7"
      },
      "source": [
        "Unfortunately we have to drop all attributes appart from gender, nationality and occupation. All the other ones have more than 98% 'None' values."
      ]
    },
    {
      "cell_type": "code",
      "metadata": {
        "id": "Ec66xJ90zQ0d"
      },
      "source": [
        "# Keep the columns gender, nationality and occupation\n",
        "speakers_df = speakers_df[['id', 'gender', 'nationality', 'occupation']]"
      ],
      "execution_count": null,
      "outputs": []
    },
    {
      "cell_type": "markdown",
      "metadata": {
        "id": "bCm99QKj7N8s"
      },
      "source": [
        "We will remove all 'None' genders as this is the most important attribute for our analysis."
      ]
    },
    {
      "cell_type": "code",
      "metadata": {
        "colab": {
          "base_uri": "https://localhost:8080/",
          "height": 204
        },
        "id": "8zp-JKZH2igZ",
        "outputId": "150dfa99-7914-4000-8e07-694592379fa1"
      },
      "source": [
        "# Remove null genders\n",
        "speakers_df = speakers_df.drop(speakers_df[speakers_df.gender.isnull()].index)\n",
        "speakers_df.head()"
      ],
      "execution_count": null,
      "outputs": [
        {
          "data": {
            "text/html": [
              "<div>\n",
              "<style scoped>\n",
              "    .dataframe tbody tr th:only-of-type {\n",
              "        vertical-align: middle;\n",
              "    }\n",
              "\n",
              "    .dataframe tbody tr th {\n",
              "        vertical-align: top;\n",
              "    }\n",
              "\n",
              "    .dataframe thead th {\n",
              "        text-align: right;\n",
              "    }\n",
              "</style>\n",
              "<table border=\"1\" class=\"dataframe\">\n",
              "  <thead>\n",
              "    <tr style=\"text-align: right;\">\n",
              "      <th></th>\n",
              "      <th>id</th>\n",
              "      <th>gender</th>\n",
              "      <th>nationality</th>\n",
              "      <th>occupation</th>\n",
              "    </tr>\n",
              "  </thead>\n",
              "  <tbody>\n",
              "    <tr>\n",
              "      <th>0</th>\n",
              "      <td>Q23</td>\n",
              "      <td>[Q6581097]</td>\n",
              "      <td>[Q161885, Q30]</td>\n",
              "      <td>[Q82955, Q189290, Q131512, Q1734662, Q294126, ...</td>\n",
              "    </tr>\n",
              "    <tr>\n",
              "      <th>1</th>\n",
              "      <td>Q42</td>\n",
              "      <td>[Q6581097]</td>\n",
              "      <td>[Q145]</td>\n",
              "      <td>[Q214917, Q28389, Q6625963, Q4853732, Q1884422...</td>\n",
              "    </tr>\n",
              "    <tr>\n",
              "      <th>2</th>\n",
              "      <td>Q1868</td>\n",
              "      <td>[Q6581097]</td>\n",
              "      <td>[Q31]</td>\n",
              "      <td>[Q36180, Q40348, Q182436, Q1265807, Q205375, Q...</td>\n",
              "    </tr>\n",
              "    <tr>\n",
              "      <th>3</th>\n",
              "      <td>Q207</td>\n",
              "      <td>[Q6581097]</td>\n",
              "      <td>[Q30]</td>\n",
              "      <td>[Q82955, Q15982858, Q18814623, Q1028181, Q1408...</td>\n",
              "    </tr>\n",
              "    <tr>\n",
              "      <th>4</th>\n",
              "      <td>Q297</td>\n",
              "      <td>[Q6581097]</td>\n",
              "      <td>[Q29]</td>\n",
              "      <td>[Q1028181]</td>\n",
              "    </tr>\n",
              "  </tbody>\n",
              "</table>\n",
              "</div>"
            ],
            "text/plain": [
              "      id  ...                                         occupation\n",
              "0    Q23  ...  [Q82955, Q189290, Q131512, Q1734662, Q294126, ...\n",
              "1    Q42  ...  [Q214917, Q28389, Q6625963, Q4853732, Q1884422...\n",
              "2  Q1868  ...  [Q36180, Q40348, Q182436, Q1265807, Q205375, Q...\n",
              "3   Q207  ...  [Q82955, Q15982858, Q18814623, Q1028181, Q1408...\n",
              "4   Q297  ...                                         [Q1028181]\n",
              "\n",
              "[5 rows x 4 columns]"
            ]
          },
          "execution_count": 26,
          "metadata": {},
          "output_type": "execute_result"
        }
      ]
    },
    {
      "cell_type": "markdown",
      "metadata": {
        "id": "iutcEc41nkyE"
      },
      "source": [
        "### 3.2 Merge speaker attributes\n",
        "<a id=\"merge_speaker_attr\"></a>\n",
        "\n",
        "Now we can merge the speaker attributes in our filtered dataset. First of all we need to load the corresponding labels for the quote id's.\n",
        "\n"
      ]
    },
    {
      "cell_type": "code",
      "metadata": {
        "colab": {
          "base_uri": "https://localhost:8080/",
          "height": 235
        },
        "id": "7qWRgx-vnkyE",
        "outputId": "395e50f0-61c5-41a5-b422-7a8c844dbe95"
      },
      "source": [
        "labels_df = pd.read_csv(LABELS_WIKIDATA_PATH, compression='bz2', index_col='QID')\n",
        "\n",
        "# We know there will be a missing label in our dataset.\n",
        "# We'll just add the information in advance (see post on Zulip).\n",
        "labels_df.loc['Q6363085'] = labels_df.loc['Q380075']\n",
        "\n",
        "labels_df.head()"
      ],
      "execution_count": null,
      "outputs": [
        {
          "data": {
            "text/html": [
              "<div>\n",
              "<style scoped>\n",
              "    .dataframe tbody tr th:only-of-type {\n",
              "        vertical-align: middle;\n",
              "    }\n",
              "\n",
              "    .dataframe tbody tr th {\n",
              "        vertical-align: top;\n",
              "    }\n",
              "\n",
              "    .dataframe thead th {\n",
              "        text-align: right;\n",
              "    }\n",
              "</style>\n",
              "<table border=\"1\" class=\"dataframe\">\n",
              "  <thead>\n",
              "    <tr style=\"text-align: right;\">\n",
              "      <th></th>\n",
              "      <th>Label</th>\n",
              "      <th>Description</th>\n",
              "    </tr>\n",
              "    <tr>\n",
              "      <th>QID</th>\n",
              "      <th></th>\n",
              "      <th></th>\n",
              "    </tr>\n",
              "  </thead>\n",
              "  <tbody>\n",
              "    <tr>\n",
              "      <th>Q31</th>\n",
              "      <td>Belgium</td>\n",
              "      <td>country in western Europe</td>\n",
              "    </tr>\n",
              "    <tr>\n",
              "      <th>Q45</th>\n",
              "      <td>Portugal</td>\n",
              "      <td>country in southwestern Europe</td>\n",
              "    </tr>\n",
              "    <tr>\n",
              "      <th>Q75</th>\n",
              "      <td>Internet</td>\n",
              "      <td>global system of connected computer networks</td>\n",
              "    </tr>\n",
              "    <tr>\n",
              "      <th>Q148</th>\n",
              "      <td>People's Republic of China</td>\n",
              "      <td>sovereign state in East Asia</td>\n",
              "    </tr>\n",
              "    <tr>\n",
              "      <th>Q155</th>\n",
              "      <td>Brazil</td>\n",
              "      <td>country in South America</td>\n",
              "    </tr>\n",
              "  </tbody>\n",
              "</table>\n",
              "</div>"
            ],
            "text/plain": [
              "                           Label                                   Description\n",
              "QID                                                                           \n",
              "Q31                      Belgium                     country in western Europe\n",
              "Q45                     Portugal                country in southwestern Europe\n",
              "Q75                     Internet  global system of connected computer networks\n",
              "Q148  People's Republic of China                  sovereign state in East Asia\n",
              "Q155                      Brazil                      country in South America"
            ]
          },
          "execution_count": 27,
          "metadata": {},
          "output_type": "execute_result"
        }
      ]
    },
    {
      "cell_type": "markdown",
      "metadata": {
        "id": "X0k-KhxKAPre"
      },
      "source": [
        "To efficiently look up the qids attributes of a speaker we create dictionaries to access the desired qids."
      ]
    },
    {
      "cell_type": "code",
      "metadata": {
        "id": "HNOYRV0ZzTCu"
      },
      "source": [
        "# Create dictionary for the labels and the attributes gender, nationality and occupation\n",
        "labels_dict = pd.Series(labels_df.Label, index=labels_df.index)\n",
        "genders_dict = pd.Series(speakers_df.gender.values, index=speakers_df.id).to_dict()\n",
        "nationalities_dict = pd.Series(speakers_df.nationality.values, index=speakers_df.id).to_dict()\n",
        "occupations_dict = pd.Series(speakers_df.occupation.values, index=speakers_df.id).to_dict()"
      ],
      "execution_count": null,
      "outputs": []
    },
    {
      "cell_type": "markdown",
      "metadata": {
        "id": "QrcUcOFRzFPH"
      },
      "source": [
        "In a first analysis just the first qid will be considered. Thus the qid of the most probable speaker. Below a helper function to achieve this."
      ]
    },
    {
      "cell_type": "code",
      "metadata": {
        "id": "Gq6TjBqpLzzo"
      },
      "source": [
        "# We want to transform the 'qids' column in a single 'qid' element\n",
        "def get_single_qid(df_quotes):\n",
        "  df_copy =  df_quotes.copy()\n",
        "  df_result =  df_quotes.copy()\n",
        "  for idx,row in df_copy.iterrows():  \n",
        "    id_speaker = row.loc['qids'][0] \n",
        "    df_result.at[idx,'qids'] = id_speaker\n",
        "\n",
        "  df_result = df_result.rename(columns={\"qids\": \"qid\"})\n",
        "  return df_result"
      ],
      "execution_count": null,
      "outputs": []
    },
    {
      "cell_type": "markdown",
      "metadata": {
        "id": "ZZCvvaJ_DagT"
      },
      "source": [
        "We need as well a function to translate the qids of one attribute to  the corresponding label, for one specific speaker."
      ]
    },
    {
      "cell_type": "code",
      "metadata": {
        "id": "NJisKMiOz2fZ"
      },
      "source": [
        "def translate_qid2label(id_speaker, attr_dict):\n",
        "  \"\"\"\n",
        "    Retrieve quotes speakers attribute, in the order of the quotations DataFrame.\n",
        "    :id_speaker   First qid of quids column of one row of the quotations dataframe qid\n",
        "    :attr_dict    dictionary for specified attributes\n",
        "    :return       attributes as text in a list\n",
        "  \"\"\"\n",
        "  list_attr = []\n",
        "  \n",
        "  if id_speaker in attr_dict:\n",
        "    id_attr_speaker = attr_dict[id_speaker]\n",
        "    if(id_attr_speaker is not None):\n",
        "      for id_a in id_attr_speaker:\n",
        "          attr = labels_dict[id_a] # Attribute value\n",
        "          list_attr.append(attr)\n",
        "    else:\n",
        "      list_attr = None\n",
        "\n",
        "  return list_attr"
      ],
      "execution_count": null,
      "outputs": []
    },
    {
      "cell_type": "markdown",
      "metadata": {
        "id": "ZUpBDScXY9zR"
      },
      "source": [
        "Now we can put all these together and apply the above function to all our speaker attributes and quotes.\n"
      ]
    },
    {
      "cell_type": "code",
      "metadata": {
        "id": "7Ju8uFpOY82Y"
      },
      "source": [
        "def add_speaker_attributes(path_to_file):\n",
        "  \"\"\"\n",
        "    Function takes path of compressed filtered data of oquotebank and adds\n",
        "    speaker information in new colums\n",
        "    :path_to_file   first qid of quids column of one row of the quotations dataframe qid\n",
        "    :return         pandas DataFrame with new columns\n",
        "  \"\"\"\n",
        "  df = pd.read_json(path_to_file, lines=True,compression='bz2')\n",
        "  # First we get a single qid:\n",
        "  df = get_single_qid(df)\n",
        "  # next we create the lists of attributes from dictionaries\n",
        "  genders = df['qid'].apply(lambda i: translate_qid2label(i, genders_dict))\n",
        "  nationalities = df['qid'].apply(lambda i: translate_qid2label(i, nationalities_dict))\n",
        "  occupations = df['qid'].apply(lambda i: translate_qid2label(i, occupations_dict))\n",
        "\n",
        "  # And finally insert them as new columns\n",
        "  df.insert(3, 'gender', genders)\n",
        "  df.insert(4,'nationality', nationalities)\n",
        "  df.insert(5,'occupation', occupations)\n",
        "  return df"
      ],
      "execution_count": null,
      "outputs": []
    },
    {
      "cell_type": "code",
      "metadata": {
        "colab": {
          "base_uri": "https://localhost:8080/",
          "height": 425
        },
        "id": "_Z8seEd7FDMV",
        "outputId": "81391278-e83b-4e1b-9846-bde02ebbdbe1"
      },
      "source": [
        "# Merge and speaker attributes for filtered quotes of 2020\n",
        "df_2020 = add_speaker_attributes(FILTERED_QUOTES_2020_PATH)\n",
        "df_2020.head()"
      ],
      "execution_count": null,
      "outputs": [
        {
          "data": {
            "text/html": [
              "<div>\n",
              "<style scoped>\n",
              "    .dataframe tbody tr th:only-of-type {\n",
              "        vertical-align: middle;\n",
              "    }\n",
              "\n",
              "    .dataframe tbody tr th {\n",
              "        vertical-align: top;\n",
              "    }\n",
              "\n",
              "    .dataframe thead th {\n",
              "        text-align: right;\n",
              "    }\n",
              "</style>\n",
              "<table border=\"1\" class=\"dataframe\">\n",
              "  <thead>\n",
              "    <tr style=\"text-align: right;\">\n",
              "      <th></th>\n",
              "      <th>quoteID</th>\n",
              "      <th>quotation</th>\n",
              "      <th>speaker</th>\n",
              "      <th>gender</th>\n",
              "      <th>nationality</th>\n",
              "      <th>occupation</th>\n",
              "      <th>qid</th>\n",
              "      <th>date</th>\n",
              "      <th>numOccurrences</th>\n",
              "      <th>urls</th>\n",
              "      <th>newspapers</th>\n",
              "    </tr>\n",
              "  </thead>\n",
              "  <tbody>\n",
              "    <tr>\n",
              "      <th>0</th>\n",
              "      <td>2020-01-31-008580</td>\n",
              "      <td>As you reach or have reached the apex of your ...</td>\n",
              "      <td>Keyon Dooling</td>\n",
              "      <td>[male]</td>\n",
              "      <td>[United States of America]</td>\n",
              "      <td>[basketball player]</td>\n",
              "      <td>Q304349</td>\n",
              "      <td>2020-01-31 19:07:55</td>\n",
              "      <td>1</td>\n",
              "      <td>[https://www.theguardian.com/sport/2020/jan/31...</td>\n",
              "      <td>[The Guardian]</td>\n",
              "    </tr>\n",
              "    <tr>\n",
              "      <th>1</th>\n",
              "      <td>2020-01-20-006469</td>\n",
              "      <td>At the same time we want to remain friends wit...</td>\n",
              "      <td>Tim Martin</td>\n",
              "      <td>[male]</td>\n",
              "      <td>None</td>\n",
              "      <td>[American football player]</td>\n",
              "      <td>Q20670776</td>\n",
              "      <td>2020-01-20 09:08:24</td>\n",
              "      <td>4</td>\n",
              "      <td>[https://www.dailystar.co.uk/real-life/wethers...</td>\n",
              "      <td>[The Sun]</td>\n",
              "    </tr>\n",
              "    <tr>\n",
              "      <th>2</th>\n",
              "      <td>2020-04-03-006933</td>\n",
              "      <td>Been home-schooling a 6-year-old and 8-year-ol...</td>\n",
              "      <td>Shonda Rhimes</td>\n",
              "      <td>[female]</td>\n",
              "      <td>[United States of America]</td>\n",
              "      <td>[film director, screenwriter, writer, film pro...</td>\n",
              "      <td>Q242329</td>\n",
              "      <td>2020-04-03 16:00:00</td>\n",
              "      <td>1</td>\n",
              "      <td>[http://www.thetimes.co.uk/edition/magazine/ca...</td>\n",
              "      <td>[The Times]</td>\n",
              "    </tr>\n",
              "    <tr>\n",
              "      <th>3</th>\n",
              "      <td>2020-04-15-018814</td>\n",
              "      <td>I am now in agreement that we should move forw...</td>\n",
              "      <td>David Boies</td>\n",
              "      <td>[male]</td>\n",
              "      <td>[United States of America]</td>\n",
              "      <td>[lawyer]</td>\n",
              "      <td>Q5231515</td>\n",
              "      <td>2020-04-15 15:46:38</td>\n",
              "      <td>1</td>\n",
              "      <td>[https://www.thesun.co.uk/news/11403669/jeffre...</td>\n",
              "      <td>[The Sun]</td>\n",
              "    </tr>\n",
              "    <tr>\n",
              "      <th>4</th>\n",
              "      <td>2020-02-16-014286</td>\n",
              "      <td>I don't want to make a career out of [ remakin...</td>\n",
              "      <td>Ramiro Gomez</td>\n",
              "      <td>[male]</td>\n",
              "      <td>None</td>\n",
              "      <td>[artist]</td>\n",
              "      <td>Q30693403</td>\n",
              "      <td>2020-02-16 15:00:32</td>\n",
              "      <td>1</td>\n",
              "      <td>[https://www.theguardian.com/artanddesign/2020...</td>\n",
              "      <td>[The Guardian]</td>\n",
              "    </tr>\n",
              "  </tbody>\n",
              "</table>\n",
              "</div>"
            ],
            "text/plain": [
              "             quoteID  ...      newspapers\n",
              "0  2020-01-31-008580  ...  [The Guardian]\n",
              "1  2020-01-20-006469  ...       [The Sun]\n",
              "2  2020-04-03-006933  ...     [The Times]\n",
              "3  2020-04-15-018814  ...       [The Sun]\n",
              "4  2020-02-16-014286  ...  [The Guardian]\n",
              "\n",
              "[5 rows x 11 columns]"
            ]
          },
          "execution_count": 32,
          "metadata": {},
          "output_type": "execute_result"
        }
      ]
    },
    {
      "cell_type": "markdown",
      "metadata": {
        "id": "oSgj3WcDxSi5"
      },
      "source": [
        "We do this for all years (only once)."
      ]
    },
    {
      "cell_type": "code",
      "metadata": {
        "id": "lmoMoK07i15o"
      },
      "source": [
        "# Merge speaker attributes of all other years\n",
        "df_2019 = add_speaker_attributes(FILTERED_QUOTES_2019_PATH)\n",
        "df_2018 = add_speaker_attributes(FILTERED_QUOTES_2018_PATH)\n",
        "df_2017 = add_speaker_attributes(FILTERED_QUOTES_2017_PATH)\n",
        "df_2016 = add_speaker_attributes(FILTERED_QUOTES_2016_PATH)"
      ],
      "execution_count": null,
      "outputs": []
    },
    {
      "cell_type": "markdown",
      "metadata": {
        "id": "LkjAoat92bHv"
      },
      "source": [
        "### 3.3 Save merged data as pickle\n",
        "<a id=\"save_pickle\"></a>\n",
        "\n",
        "For easier handling we will save the merged dataframes in a pickled format. In this way section 3 doesn't have to be excecuted anymore."
      ]
    },
    {
      "cell_type": "code",
      "metadata": {
        "id": "45AK2f4m3_V6"
      },
      "source": [
        "# Store merged dataframes as pickle\n",
        "df_2020.to_pickle(QUOTES_2020_PATH)\n",
        "df_2019.to_pickle(QUOTES_2019_PATH)\n",
        "df_2018.to_pickle(QUOTES_2018_PATH)\n",
        "df_2017.to_pickle(QUOTES_2017_PATH)\n",
        "df_2016.to_pickle(QUOTES_2016_PATH)"
      ],
      "execution_count": null,
      "outputs": []
    },
    {
      "cell_type": "markdown",
      "metadata": {
        "id": "L8O0LkrcM0qZ"
      },
      "source": [
        "## 4 Research questions\n",
        "<a id=\"research_questions\"></a>\n",
        "\n",
        "Our research questions are defined in our README. For milestone 2 we will have a quick look at our **cleaned dataset of 2020** and provide some first plots regarding the genders."
      ]
    },
    {
      "cell_type": "markdown",
      "metadata": {
        "id": "L6UEU47N5pL_",
        "tags": []
      },
      "source": [
        "### 4.1 Load merged data\n",
        "<a id=\"load_pickle\"></a>"
      ]
    },
    {
      "cell_type": "code",
      "metadata": {
        "id": "nyU9N28r5-w5"
      },
      "source": [
        "# Load pickled dataframes\n",
        "df_2020 = pd.read_pickle(QUOTES_2020_PATH)\n",
        "#df_2019 = pd.read_pickle(QUOTES_2019_PATH)\n",
        "#df_2018 = pd.read_pickle(QUOTES_2018_PATH)\n",
        "#df_2017 = pd.read_pickle(QUOTES_2017_PATH)\n",
        "#df_2016 = pd.read_pickle(QUOTES_2016_PATH)"
      ],
      "execution_count": null,
      "outputs": []
    },
    {
      "cell_type": "code",
      "metadata": {
        "colab": {
          "base_uri": "https://localhost:8080/",
          "height": 997
        },
        "id": "esoqdXCk6ls0",
        "outputId": "d4e7cbae-69ef-400d-c470-0199cbcb782a"
      },
      "source": [
        "df_2020.head()"
      ],
      "execution_count": null,
      "outputs": [
        {
          "data": {
            "text/html": [
              "<div>\n",
              "<style scoped>\n",
              "    .dataframe tbody tr th:only-of-type {\n",
              "        vertical-align: middle;\n",
              "    }\n",
              "\n",
              "    .dataframe tbody tr th {\n",
              "        vertical-align: top;\n",
              "    }\n",
              "\n",
              "    .dataframe thead th {\n",
              "        text-align: right;\n",
              "    }\n",
              "</style>\n",
              "<table border=\"1\" class=\"dataframe\">\n",
              "  <thead>\n",
              "    <tr style=\"text-align: right;\">\n",
              "      <th></th>\n",
              "      <th>quoteID</th>\n",
              "      <th>quotation</th>\n",
              "      <th>speaker</th>\n",
              "      <th>gender</th>\n",
              "      <th>nationality</th>\n",
              "      <th>occupation</th>\n",
              "      <th>qid</th>\n",
              "      <th>date</th>\n",
              "      <th>numOccurrences</th>\n",
              "      <th>urls</th>\n",
              "      <th>newspapers</th>\n",
              "    </tr>\n",
              "  </thead>\n",
              "  <tbody>\n",
              "    <tr>\n",
              "      <th>0</th>\n",
              "      <td>2020-01-31-008580</td>\n",
              "      <td>As you reach or have reached the apex of your ...</td>\n",
              "      <td>Keyon Dooling</td>\n",
              "      <td>[male]</td>\n",
              "      <td>[United States of America]</td>\n",
              "      <td>[basketball player]</td>\n",
              "      <td>Q304349</td>\n",
              "      <td>2020-01-31 19:07:55</td>\n",
              "      <td>1</td>\n",
              "      <td>[https://www.theguardian.com/sport/2020/jan/31...</td>\n",
              "      <td>[The Guardian]</td>\n",
              "    </tr>\n",
              "    <tr>\n",
              "      <th>1</th>\n",
              "      <td>2020-01-20-006469</td>\n",
              "      <td>At the same time we want to remain friends wit...</td>\n",
              "      <td>Tim Martin</td>\n",
              "      <td>[male]</td>\n",
              "      <td>None</td>\n",
              "      <td>[American football player]</td>\n",
              "      <td>Q20670776</td>\n",
              "      <td>2020-01-20 09:08:24</td>\n",
              "      <td>4</td>\n",
              "      <td>[https://www.dailystar.co.uk/real-life/wethers...</td>\n",
              "      <td>[The Sun]</td>\n",
              "    </tr>\n",
              "    <tr>\n",
              "      <th>2</th>\n",
              "      <td>2020-04-03-006933</td>\n",
              "      <td>Been home-schooling a 6-year-old and 8-year-ol...</td>\n",
              "      <td>Shonda Rhimes</td>\n",
              "      <td>[female]</td>\n",
              "      <td>[United States of America]</td>\n",
              "      <td>[film director, screenwriter, writer, film pro...</td>\n",
              "      <td>Q242329</td>\n",
              "      <td>2020-04-03 16:00:00</td>\n",
              "      <td>1</td>\n",
              "      <td>[http://www.thetimes.co.uk/edition/magazine/ca...</td>\n",
              "      <td>[The Times]</td>\n",
              "    </tr>\n",
              "    <tr>\n",
              "      <th>3</th>\n",
              "      <td>2020-04-15-018814</td>\n",
              "      <td>I am now in agreement that we should move forw...</td>\n",
              "      <td>David Boies</td>\n",
              "      <td>[male]</td>\n",
              "      <td>[United States of America]</td>\n",
              "      <td>[lawyer]</td>\n",
              "      <td>Q5231515</td>\n",
              "      <td>2020-04-15 15:46:38</td>\n",
              "      <td>1</td>\n",
              "      <td>[https://www.thesun.co.uk/news/11403669/jeffre...</td>\n",
              "      <td>[The Sun]</td>\n",
              "    </tr>\n",
              "    <tr>\n",
              "      <th>4</th>\n",
              "      <td>2020-02-16-014286</td>\n",
              "      <td>I don't want to make a career out of [ remakin...</td>\n",
              "      <td>Ramiro Gomez</td>\n",
              "      <td>[male]</td>\n",
              "      <td>None</td>\n",
              "      <td>[artist]</td>\n",
              "      <td>Q30693403</td>\n",
              "      <td>2020-02-16 15:00:32</td>\n",
              "      <td>1</td>\n",
              "      <td>[https://www.theguardian.com/artanddesign/2020...</td>\n",
              "      <td>[The Guardian]</td>\n",
              "    </tr>\n",
              "    <tr>\n",
              "      <th>...</th>\n",
              "      <td>...</td>\n",
              "      <td>...</td>\n",
              "      <td>...</td>\n",
              "      <td>...</td>\n",
              "      <td>...</td>\n",
              "      <td>...</td>\n",
              "      <td>...</td>\n",
              "      <td>...</td>\n",
              "      <td>...</td>\n",
              "      <td>...</td>\n",
              "      <td>...</td>\n",
              "    </tr>\n",
              "    <tr>\n",
              "      <th>26065</th>\n",
              "      <td>2020-02-18-060949</td>\n",
              "      <td>Or if you have a pension coming in or a second...</td>\n",
              "      <td>MARTIN Lewis</td>\n",
              "      <td>[male]</td>\n",
              "      <td>[United States of America]</td>\n",
              "      <td>[journalist, record producer, composer, writer...</td>\n",
              "      <td>Q16151827</td>\n",
              "      <td>2020-02-18 11:16:35</td>\n",
              "      <td>1</td>\n",
              "      <td>[https://www.thesun.co.uk/money/10985339/marti...</td>\n",
              "      <td>[The Sun]</td>\n",
              "    </tr>\n",
              "    <tr>\n",
              "      <th>26066</th>\n",
              "      <td>2020-03-12-066445</td>\n",
              "      <td>The simplicity of this jumpsuit makes it look ...</td>\n",
              "      <td>David Cummings</td>\n",
              "      <td>[male]</td>\n",
              "      <td>[United States of America]</td>\n",
              "      <td>[painter]</td>\n",
              "      <td>Q22236639</td>\n",
              "      <td>2020-03-12 21:42:24</td>\n",
              "      <td>1</td>\n",
              "      <td>[https://www.thesun.co.uk/fabulous/11162600/st...</td>\n",
              "      <td>[The Sun]</td>\n",
              "    </tr>\n",
              "    <tr>\n",
              "      <th>26067</th>\n",
              "      <td>2020-01-24-089401</td>\n",
              "      <td>They want to get to the moon in 2024.</td>\n",
              "      <td>Laura Tobin</td>\n",
              "      <td>[female]</td>\n",
              "      <td>[United Kingdom]</td>\n",
              "      <td>[meteorologist]</td>\n",
              "      <td>Q6499505</td>\n",
              "      <td>2020-01-24 07:18:46</td>\n",
              "      <td>1</td>\n",
              "      <td>[https://www.thesun.co.uk/tvandshowbiz/1081013...</td>\n",
              "      <td>[The Sun]</td>\n",
              "    </tr>\n",
              "    <tr>\n",
              "      <th>26068</th>\n",
              "      <td>2020-01-14-105950</td>\n",
              "      <td>Yesterday, I was walking around my home town w...</td>\n",
              "      <td>Quique Setien</td>\n",
              "      <td>[male]</td>\n",
              "      <td>[Spain]</td>\n",
              "      <td>[association football player, association foot...</td>\n",
              "      <td>Q2444534</td>\n",
              "      <td>2020-01-14 11:14:22</td>\n",
              "      <td>187</td>\n",
              "      <td>[http://sportsmole.co.uk/football/barcelona/ne...</td>\n",
              "      <td>[The Guardian]</td>\n",
              "    </tr>\n",
              "    <tr>\n",
              "      <th>26069</th>\n",
              "      <td>2020-03-08-044968</td>\n",
              "      <td>You have to consider carefully when to adopt t...</td>\n",
              "      <td>Sebastian Kurz</td>\n",
              "      <td>[male]</td>\n",
              "      <td>[Austria]</td>\n",
              "      <td>[politician]</td>\n",
              "      <td>Q2262885</td>\n",
              "      <td>2020-03-08 13:58:49</td>\n",
              "      <td>2</td>\n",
              "      <td>[http://morungexpress.com/more-countries-will-...</td>\n",
              "      <td>[The Guardian]</td>\n",
              "    </tr>\n",
              "  </tbody>\n",
              "</table>\n",
              "<p>26070 rows × 11 columns</p>\n",
              "</div>"
            ],
            "text/plain": [
              "                 quoteID                                          quotation  \\\n",
              "0      2020-01-31-008580  As you reach or have reached the apex of your ...   \n",
              "1      2020-01-20-006469  At the same time we want to remain friends wit...   \n",
              "2      2020-04-03-006933  Been home-schooling a 6-year-old and 8-year-ol...   \n",
              "3      2020-04-15-018814  I am now in agreement that we should move forw...   \n",
              "4      2020-02-16-014286  I don't want to make a career out of [ remakin...   \n",
              "...                  ...                                                ...   \n",
              "26065  2020-02-18-060949  Or if you have a pension coming in or a second...   \n",
              "26066  2020-03-12-066445  The simplicity of this jumpsuit makes it look ...   \n",
              "26067  2020-01-24-089401              They want to get to the moon in 2024.   \n",
              "26068  2020-01-14-105950  Yesterday, I was walking around my home town w...   \n",
              "26069  2020-03-08-044968  You have to consider carefully when to adopt t...   \n",
              "\n",
              "              speaker    gender                 nationality  \\\n",
              "0       Keyon Dooling    [male]  [United States of America]   \n",
              "1          Tim Martin    [male]                        None   \n",
              "2       Shonda Rhimes  [female]  [United States of America]   \n",
              "3         David Boies    [male]  [United States of America]   \n",
              "4        Ramiro Gomez    [male]                        None   \n",
              "...               ...       ...                         ...   \n",
              "26065    MARTIN Lewis    [male]  [United States of America]   \n",
              "26066  David Cummings    [male]  [United States of America]   \n",
              "26067     Laura Tobin  [female]            [United Kingdom]   \n",
              "26068   Quique Setien    [male]                     [Spain]   \n",
              "26069  Sebastian Kurz    [male]                   [Austria]   \n",
              "\n",
              "                                              occupation        qid  \\\n",
              "0                                    [basketball player]    Q304349   \n",
              "1                             [American football player]  Q20670776   \n",
              "2      [film director, screenwriter, writer, film pro...    Q242329   \n",
              "3                                               [lawyer]   Q5231515   \n",
              "4                                               [artist]  Q30693403   \n",
              "...                                                  ...        ...   \n",
              "26065  [journalist, record producer, composer, writer...  Q16151827   \n",
              "26066                                          [painter]  Q22236639   \n",
              "26067                                    [meteorologist]   Q6499505   \n",
              "26068  [association football player, association foot...   Q2444534   \n",
              "26069                                       [politician]   Q2262885   \n",
              "\n",
              "                     date  numOccurrences  \\\n",
              "0     2020-01-31 19:07:55               1   \n",
              "1     2020-01-20 09:08:24               4   \n",
              "2     2020-04-03 16:00:00               1   \n",
              "3     2020-04-15 15:46:38               1   \n",
              "4     2020-02-16 15:00:32               1   \n",
              "...                   ...             ...   \n",
              "26065 2020-02-18 11:16:35               1   \n",
              "26066 2020-03-12 21:42:24               1   \n",
              "26067 2020-01-24 07:18:46               1   \n",
              "26068 2020-01-14 11:14:22             187   \n",
              "26069 2020-03-08 13:58:49               2   \n",
              "\n",
              "                                                    urls      newspapers  \n",
              "0      [https://www.theguardian.com/sport/2020/jan/31...  [The Guardian]  \n",
              "1      [https://www.dailystar.co.uk/real-life/wethers...       [The Sun]  \n",
              "2      [http://www.thetimes.co.uk/edition/magazine/ca...     [The Times]  \n",
              "3      [https://www.thesun.co.uk/news/11403669/jeffre...       [The Sun]  \n",
              "4      [https://www.theguardian.com/artanddesign/2020...  [The Guardian]  \n",
              "...                                                  ...             ...  \n",
              "26065  [https://www.thesun.co.uk/money/10985339/marti...       [The Sun]  \n",
              "26066  [https://www.thesun.co.uk/fabulous/11162600/st...       [The Sun]  \n",
              "26067  [https://www.thesun.co.uk/tvandshowbiz/1081013...       [The Sun]  \n",
              "26068  [http://sportsmole.co.uk/football/barcelona/ne...  [The Guardian]  \n",
              "26069  [http://morungexpress.com/more-countries-will-...  [The Guardian]  \n",
              "\n",
              "[26070 rows x 11 columns]"
            ]
          },
          "execution_count": 16,
          "metadata": {},
          "output_type": "execute_result"
        }
      ]
    },
    {
      "cell_type": "markdown",
      "metadata": {
        "id": "vVi6hL038deK"
      },
      "source": [
        "### 4.2 Sanity check\n",
        "<a id=\"sanity_check\"></a>"
      ]
    },
    {
      "cell_type": "markdown",
      "metadata": {
        "id": "4bplTXK33u9J"
      },
      "source": [
        "Before proceeding to an exploration of our data, we need to check if there are no anomalies left in the data like missing values."
      ]
    },
    {
      "cell_type": "code",
      "metadata": {
        "colab": {
          "base_uri": "https://localhost:8080/",
          "height": 297
        },
        "id": "J1Dd9KHi3nVj",
        "outputId": "5076dd81-8200-422e-e9f9-c7a12cf0bc29"
      },
      "source": [
        "# Full descritpion of the numerical data\n",
        "df_2020.describe()"
      ],
      "execution_count": null,
      "outputs": [
        {
          "data": {
            "text/html": [
              "<div>\n",
              "<style scoped>\n",
              "    .dataframe tbody tr th:only-of-type {\n",
              "        vertical-align: middle;\n",
              "    }\n",
              "\n",
              "    .dataframe tbody tr th {\n",
              "        vertical-align: top;\n",
              "    }\n",
              "\n",
              "    .dataframe thead th {\n",
              "        text-align: right;\n",
              "    }\n",
              "</style>\n",
              "<table border=\"1\" class=\"dataframe\">\n",
              "  <thead>\n",
              "    <tr style=\"text-align: right;\">\n",
              "      <th></th>\n",
              "      <th>numOccurrences</th>\n",
              "    </tr>\n",
              "  </thead>\n",
              "  <tbody>\n",
              "    <tr>\n",
              "      <th>count</th>\n",
              "      <td>26070.000000</td>\n",
              "    </tr>\n",
              "    <tr>\n",
              "      <th>mean</th>\n",
              "      <td>9.577484</td>\n",
              "    </tr>\n",
              "    <tr>\n",
              "      <th>std</th>\n",
              "      <td>41.897187</td>\n",
              "    </tr>\n",
              "    <tr>\n",
              "      <th>min</th>\n",
              "      <td>1.000000</td>\n",
              "    </tr>\n",
              "    <tr>\n",
              "      <th>25%</th>\n",
              "      <td>1.000000</td>\n",
              "    </tr>\n",
              "    <tr>\n",
              "      <th>50%</th>\n",
              "      <td>1.000000</td>\n",
              "    </tr>\n",
              "    <tr>\n",
              "      <th>75%</th>\n",
              "      <td>3.000000</td>\n",
              "    </tr>\n",
              "    <tr>\n",
              "      <th>max</th>\n",
              "      <td>2037.000000</td>\n",
              "    </tr>\n",
              "  </tbody>\n",
              "</table>\n",
              "</div>"
            ],
            "text/plain": [
              "       numOccurrences\n",
              "count    26070.000000\n",
              "mean         9.577484\n",
              "std         41.897187\n",
              "min          1.000000\n",
              "25%          1.000000\n",
              "50%          1.000000\n",
              "75%          3.000000\n",
              "max       2037.000000"
            ]
          },
          "execution_count": 17,
          "metadata": {},
          "output_type": "execute_result"
        }
      ]
    },
    {
      "cell_type": "markdown",
      "metadata": {
        "id": "H6op5heG36Fa"
      },
      "source": [
        "The only numerical data we get is the number of occurences. We only get a meaningful description for this column yet."
      ]
    },
    {
      "cell_type": "code",
      "metadata": {
        "colab": {
          "base_uri": "https://localhost:8080/"
        },
        "id": "aX618mD84Gx1",
        "outputId": "e7b2e71c-1ca9-47c5-ca3c-c573db2b16eb"
      },
      "source": [
        "# Verification for missing values\n",
        "df_2020.isnull().any()"
      ],
      "execution_count": null,
      "outputs": [
        {
          "data": {
            "text/plain": [
              "quoteID           False\n",
              "quotation         False\n",
              "speaker           False\n",
              "gender            False\n",
              "nationality        True\n",
              "occupation         True\n",
              "qid               False\n",
              "date              False\n",
              "numOccurrences    False\n",
              "urls              False\n",
              "newspapers        False\n",
              "dtype: bool"
            ]
          },
          "execution_count": 18,
          "metadata": {},
          "output_type": "execute_result"
        }
      ]
    },
    {
      "cell_type": "markdown",
      "metadata": {
        "id": "1LJLVoZf4S3h"
      },
      "source": [
        "We only have missing values for the nationality and occupation. We knew it would be the case. For us the most important was to remove any 'None' speakers. The nationalities and occupations will be later used for a deeper analysis. We will simply have to deal with them."
      ]
    },
    {
      "cell_type": "code",
      "metadata": {
        "colab": {
          "base_uri": "https://localhost:8080/",
          "height": 49
        },
        "id": "V_ilXRSE5dPg",
        "outputId": "bd1243ba-a722-4268-fffc-f14d112617c0"
      },
      "source": [
        "# Verification of empty quotes\n",
        "df_2020[df_2020.quotation == '']"
      ],
      "execution_count": null,
      "outputs": [
        {
          "data": {
            "text/html": [
              "<div>\n",
              "<style scoped>\n",
              "    .dataframe tbody tr th:only-of-type {\n",
              "        vertical-align: middle;\n",
              "    }\n",
              "\n",
              "    .dataframe tbody tr th {\n",
              "        vertical-align: top;\n",
              "    }\n",
              "\n",
              "    .dataframe thead th {\n",
              "        text-align: right;\n",
              "    }\n",
              "</style>\n",
              "<table border=\"1\" class=\"dataframe\">\n",
              "  <thead>\n",
              "    <tr style=\"text-align: right;\">\n",
              "      <th></th>\n",
              "      <th>quoteID</th>\n",
              "      <th>quotation</th>\n",
              "      <th>speaker</th>\n",
              "      <th>gender</th>\n",
              "      <th>nationality</th>\n",
              "      <th>occupation</th>\n",
              "      <th>qid</th>\n",
              "      <th>date</th>\n",
              "      <th>numOccurrences</th>\n",
              "      <th>urls</th>\n",
              "      <th>newspapers</th>\n",
              "    </tr>\n",
              "  </thead>\n",
              "  <tbody>\n",
              "  </tbody>\n",
              "</table>\n",
              "</div>"
            ],
            "text/plain": [
              "Empty DataFrame\n",
              "Columns: [quoteID, quotation, speaker, gender, nationality, occupation, qid, date, numOccurrences, urls, newspapers]\n",
              "Index: []"
            ]
          },
          "execution_count": 19,
          "metadata": {},
          "output_type": "execute_result"
        }
      ]
    },
    {
      "cell_type": "code",
      "metadata": {
        "colab": {
          "base_uri": "https://localhost:8080/",
          "height": 49
        },
        "id": "IlOj-52z5jkR",
        "outputId": "5db6f165-b63d-45f5-e191-5e17f5d6de99"
      },
      "source": [
        "# Verification of duplicates\n",
        "duplicates = df_2020[df_2020.duplicated(subset='quoteID', keep='first')] \n",
        "duplicates.head()"
      ],
      "execution_count": null,
      "outputs": [
        {
          "data": {
            "text/html": [
              "<div>\n",
              "<style scoped>\n",
              "    .dataframe tbody tr th:only-of-type {\n",
              "        vertical-align: middle;\n",
              "    }\n",
              "\n",
              "    .dataframe tbody tr th {\n",
              "        vertical-align: top;\n",
              "    }\n",
              "\n",
              "    .dataframe thead th {\n",
              "        text-align: right;\n",
              "    }\n",
              "</style>\n",
              "<table border=\"1\" class=\"dataframe\">\n",
              "  <thead>\n",
              "    <tr style=\"text-align: right;\">\n",
              "      <th></th>\n",
              "      <th>quoteID</th>\n",
              "      <th>quotation</th>\n",
              "      <th>speaker</th>\n",
              "      <th>gender</th>\n",
              "      <th>nationality</th>\n",
              "      <th>occupation</th>\n",
              "      <th>qid</th>\n",
              "      <th>date</th>\n",
              "      <th>numOccurrences</th>\n",
              "      <th>urls</th>\n",
              "      <th>newspapers</th>\n",
              "    </tr>\n",
              "  </thead>\n",
              "  <tbody>\n",
              "  </tbody>\n",
              "</table>\n",
              "</div>"
            ],
            "text/plain": [
              "Empty DataFrame\n",
              "Columns: [quoteID, quotation, speaker, gender, nationality, occupation, qid, date, numOccurrences, urls, newspapers]\n",
              "Index: []"
            ]
          },
          "execution_count": 20,
          "metadata": {},
          "output_type": "execute_result"
        }
      ]
    },
    {
      "cell_type": "markdown",
      "metadata": {
        "id": "7msABdN75tUZ"
      },
      "source": [
        "There are no missing quotes nor duplicates. Thus we don't have additional modification to make."
      ]
    },
    {
      "cell_type": "markdown",
      "metadata": {
        "id": "pz1BA20r8T6L"
      },
      "source": [
        "### 4.3 Visualisation of genders\n",
        "<a id=\"visual_genders\"></a>\n",
        "\n",
        "We want to conduct an analysis on the evolution of women's presence in UK's newspapers. We will have a first look on the repartition of the speaker's genders.\n",
        "\n"
      ]
    },
    {
      "cell_type": "code",
      "metadata": {
        "id": "hWfaLAYL8XuD"
      },
      "source": [
        "# Convert the 2D gender column to 1D\n",
        "def convert(series):\n",
        "  return pd.Series([x for _list in series for x in _list])"
      ],
      "execution_count": null,
      "outputs": []
    },
    {
      "cell_type": "code",
      "metadata": {
        "colab": {
          "base_uri": "https://localhost:8080/"
        },
        "id": "QQ3OeK2a8yOh",
        "outputId": "304354b9-11fc-40de-9037-0a253ddbe36f"
      },
      "source": [
        "# Get number of each gender\n",
        "convert(df_2020[\"gender\"]).value_counts()"
      ],
      "execution_count": null,
      "outputs": [
        {
          "data": {
            "text/plain": [
              "male                  17960\n",
              "female                 7646\n",
              "non-binary               52\n",
              "transgender female       39\n",
              "genderfluid               6\n",
              "transgender male          6\n",
              "cisgender female          2\n",
              "intersex                  1\n",
              "genderqueer               1\n",
              "dtype: int64"
            ]
          },
          "execution_count": 22,
          "metadata": {},
          "output_type": "execute_result"
        }
      ]
    },
    {
      "cell_type": "code",
      "metadata": {
        "colab": {
          "base_uri": "https://localhost:8080/",
          "height": 462
        },
        "id": "-xTegaX_86FY",
        "outputId": "377f04d7-8e02-4c1d-d611-bda68d619329"
      },
      "source": [
        "# Visualisation of gender distribution\n",
        "fig, ax = plt.subplots(figsize = (17,7))\n",
        "sns.barplot(x=convert(df_2020[\"gender\"]).value_counts().index,\n",
        "        y=convert(df_2020[\"gender\"]).value_counts().values)\n",
        "ax.set_ylabel(\"Frequency\", size = 12)\n",
        "ax.set_title(\"Genders\", size = 14)"
      ],
      "execution_count": null,
      "outputs": [
        {
          "data": {
            "text/plain": [
              "Text(0.5, 1.0, 'Genders')"
            ]
          },
          "execution_count": 66,
          "metadata": {},
          "output_type": "execute_result"
        },
        {
          "data": {
            "image/png": "[encoded data removed]",
            "text/plain": [
              "<Figure size 1224x504 with 1 Axes>"
            ]
          },
          "metadata": {
            "needs_background": "light"
          },
          "output_type": "display_data"
        }
      ]
    },
    {
      "cell_type": "markdown",
      "metadata": {
        "id": "_blwi1t2yC9n"
      },
      "source": [
        "A expected, the minorities are almost negligible in comparison to the two main genders. But it is still very intesting to notice their presence even in small numbers. We could make a further analysis on them but first we will concentrate on the repartition between male and female. Unsurprsingly, male speakers are quoted two times more than female ones. "
      ]
    },
    {
      "cell_type": "code",
      "metadata": {
        "colab": {
          "base_uri": "https://localhost:8080/",
          "height": 49
        },
        "id": "fikgB8DS9y-R",
        "outputId": "4ff35dca-37d1-48f8-ce83-6b9c60f60868"
      },
      "source": [
        "# Creation of DataFrame, male speakers\n",
        "# The gender column contains lists. A mask is created to select values\n",
        "# upon conditions in the list.\n",
        "mask_males = df_2020.gender.apply(lambda x: 'male' in x)\n",
        "males_df = df_2020[mask_males]\n",
        "males_df.head()"
      ],
      "execution_count": null,
      "outputs": [
        {
          "data": {
            "text/html": [
              "<div>\n",
              "<style scoped>\n",
              "    .dataframe tbody tr th:only-of-type {\n",
              "        vertical-align: middle;\n",
              "    }\n",
              "\n",
              "    .dataframe tbody tr th {\n",
              "        vertical-align: top;\n",
              "    }\n",
              "\n",
              "    .dataframe thead th {\n",
              "        text-align: right;\n",
              "    }\n",
              "</style>\n",
              "<table border=\"1\" class=\"dataframe\">\n",
              "  <thead>\n",
              "    <tr style=\"text-align: right;\">\n",
              "      <th></th>\n",
              "      <th>quoteID</th>\n",
              "      <th>quotation</th>\n",
              "      <th>speaker</th>\n",
              "      <th>gender</th>\n",
              "      <th>nationality</th>\n",
              "      <th>occupation</th>\n",
              "      <th>qid</th>\n",
              "      <th>date</th>\n",
              "      <th>numOccurrences</th>\n",
              "      <th>urls</th>\n",
              "      <th>newspapers</th>\n",
              "    </tr>\n",
              "  </thead>\n",
              "  <tbody>\n",
              "    <tr>\n",
              "      <th>0</th>\n",
              "      <td>2020-01-31-008580</td>\n",
              "      <td>As you reach or have reached the apex of your ...</td>\n",
              "      <td>Keyon Dooling</td>\n",
              "      <td>[male]</td>\n",
              "      <td>[United States of America]</td>\n",
              "      <td>[basketball player]</td>\n",
              "      <td>Q304349</td>\n",
              "      <td>2020-01-31 19:07:55</td>\n",
              "      <td>1</td>\n",
              "      <td>[https://www.theguardian.com/sport/2020/jan/31...</td>\n",
              "      <td>[The Guardian]</td>\n",
              "    </tr>\n",
              "    <tr>\n",
              "      <th>1</th>\n",
              "      <td>2020-01-20-006469</td>\n",
              "      <td>At the same time we want to remain friends wit...</td>\n",
              "      <td>Tim Martin</td>\n",
              "      <td>[male]</td>\n",
              "      <td>None</td>\n",
              "      <td>[American football player]</td>\n",
              "      <td>Q20670776</td>\n",
              "      <td>2020-01-20 09:08:24</td>\n",
              "      <td>4</td>\n",
              "      <td>[https://www.dailystar.co.uk/real-life/wethers...</td>\n",
              "      <td>[The Sun]</td>\n",
              "    </tr>\n",
              "    <tr>\n",
              "      <th>3</th>\n",
              "      <td>2020-04-15-018814</td>\n",
              "      <td>I am now in agreement that we should move forw...</td>\n",
              "      <td>David Boies</td>\n",
              "      <td>[male]</td>\n",
              "      <td>[United States of America]</td>\n",
              "      <td>[lawyer]</td>\n",
              "      <td>Q5231515</td>\n",
              "      <td>2020-04-15 15:46:38</td>\n",
              "      <td>1</td>\n",
              "      <td>[https://www.thesun.co.uk/news/11403669/jeffre...</td>\n",
              "      <td>[The Sun]</td>\n",
              "    </tr>\n",
              "    <tr>\n",
              "      <th>4</th>\n",
              "      <td>2020-02-16-014286</td>\n",
              "      <td>I don't want to make a career out of [ remakin...</td>\n",
              "      <td>Ramiro Gomez</td>\n",
              "      <td>[male]</td>\n",
              "      <td>None</td>\n",
              "      <td>[artist]</td>\n",
              "      <td>Q30693403</td>\n",
              "      <td>2020-02-16 15:00:32</td>\n",
              "      <td>1</td>\n",
              "      <td>[https://www.theguardian.com/artanddesign/2020...</td>\n",
              "      <td>[The Guardian]</td>\n",
              "    </tr>\n",
              "    <tr>\n",
              "      <th>5</th>\n",
              "      <td>2020-01-03-030623</td>\n",
              "      <td>I'm not in medieval times!</td>\n",
              "      <td>Robin Van Persie</td>\n",
              "      <td>[male]</td>\n",
              "      <td>[Kingdom of the Netherlands]</td>\n",
              "      <td>[association football player]</td>\n",
              "      <td>Q2339</td>\n",
              "      <td>2020-01-03 22:32:10</td>\n",
              "      <td>94</td>\n",
              "      <td>[https://www.thesun.co.uk/sport/football/10666...</td>\n",
              "      <td>[The Sun]</td>\n",
              "    </tr>\n",
              "  </tbody>\n",
              "</table>\n",
              "</div>"
            ],
            "text/plain": [
              "             quoteID                                          quotation  \\\n",
              "0  2020-01-31-008580  As you reach or have reached the apex of your ...   \n",
              "1  2020-01-20-006469  At the same time we want to remain friends wit...   \n",
              "3  2020-04-15-018814  I am now in agreement that we should move forw...   \n",
              "4  2020-02-16-014286  I don't want to make a career out of [ remakin...   \n",
              "5  2020-01-03-030623                         I'm not in medieval times!   \n",
              "\n",
              "            speaker  gender                   nationality  \\\n",
              "0     Keyon Dooling  [male]    [United States of America]   \n",
              "1        Tim Martin  [male]                          None   \n",
              "3       David Boies  [male]    [United States of America]   \n",
              "4      Ramiro Gomez  [male]                          None   \n",
              "5  Robin Van Persie  [male]  [Kingdom of the Netherlands]   \n",
              "\n",
              "                      occupation        qid                date  \\\n",
              "0            [basketball player]    Q304349 2020-01-31 19:07:55   \n",
              "1     [American football player]  Q20670776 2020-01-20 09:08:24   \n",
              "3                       [lawyer]   Q5231515 2020-04-15 15:46:38   \n",
              "4                       [artist]  Q30693403 2020-02-16 15:00:32   \n",
              "5  [association football player]      Q2339 2020-01-03 22:32:10   \n",
              "\n",
              "   numOccurrences                                               urls  \\\n",
              "0               1  [https://www.theguardian.com/sport/2020/jan/31...   \n",
              "1               4  [https://www.dailystar.co.uk/real-life/wethers...   \n",
              "3               1  [https://www.thesun.co.uk/news/11403669/jeffre...   \n",
              "4               1  [https://www.theguardian.com/artanddesign/2020...   \n",
              "5              94  [https://www.thesun.co.uk/sport/football/10666...   \n",
              "\n",
              "       newspapers  \n",
              "0  [The Guardian]  \n",
              "1       [The Sun]  \n",
              "3       [The Sun]  \n",
              "4  [The Guardian]  \n",
              "5       [The Sun]  "
            ]
          },
          "execution_count": 23,
          "metadata": {},
          "output_type": "execute_result"
        }
      ]
    },
    {
      "cell_type": "code",
      "metadata": {
        "colab": {
          "base_uri": "https://localhost:8080/",
          "height": 49
        },
        "id": "nhdMRSEC-V86",
        "outputId": "da498a35-fa24-4754-8099-e57c595089e0"
      },
      "source": [
        "# Creation of DataFrame, female speakers\n",
        "mask_females = df_2020.gender.apply(lambda x: 'female' in x)\n",
        "females_df = df_2020[mask_females]\n",
        "females_df.head()"
      ],
      "execution_count": null,
      "outputs": [
        {
          "data": {
            "text/html": [
              "<div>\n",
              "<style scoped>\n",
              "    .dataframe tbody tr th:only-of-type {\n",
              "        vertical-align: middle;\n",
              "    }\n",
              "\n",
              "    .dataframe tbody tr th {\n",
              "        vertical-align: top;\n",
              "    }\n",
              "\n",
              "    .dataframe thead th {\n",
              "        text-align: right;\n",
              "    }\n",
              "</style>\n",
              "<table border=\"1\" class=\"dataframe\">\n",
              "  <thead>\n",
              "    <tr style=\"text-align: right;\">\n",
              "      <th></th>\n",
              "      <th>quoteID</th>\n",
              "      <th>quotation</th>\n",
              "      <th>speaker</th>\n",
              "      <th>gender</th>\n",
              "      <th>nationality</th>\n",
              "      <th>occupation</th>\n",
              "      <th>qid</th>\n",
              "      <th>date</th>\n",
              "      <th>numOccurrences</th>\n",
              "      <th>urls</th>\n",
              "      <th>newspapers</th>\n",
              "    </tr>\n",
              "  </thead>\n",
              "  <tbody>\n",
              "    <tr>\n",
              "      <th>2</th>\n",
              "      <td>2020-04-03-006933</td>\n",
              "      <td>Been home-schooling a 6-year-old and 8-year-ol...</td>\n",
              "      <td>Shonda Rhimes</td>\n",
              "      <td>[female]</td>\n",
              "      <td>[United States of America]</td>\n",
              "      <td>[film director, screenwriter, writer, film pro...</td>\n",
              "      <td>Q242329</td>\n",
              "      <td>2020-04-03 16:00:00</td>\n",
              "      <td>1</td>\n",
              "      <td>[http://www.thetimes.co.uk/edition/magazine/ca...</td>\n",
              "      <td>[The Times]</td>\n",
              "    </tr>\n",
              "    <tr>\n",
              "      <th>8</th>\n",
              "      <td>2020-04-08-075398</td>\n",
              "      <td>Your positivity on screen makes so many people...</td>\n",
              "      <td>HOLLY Willoughby</td>\n",
              "      <td>[female]</td>\n",
              "      <td>[United Kingdom]</td>\n",
              "      <td>[television presenter, model]</td>\n",
              "      <td>Q1395713</td>\n",
              "      <td>2020-04-08 07:10:04</td>\n",
              "      <td>1</td>\n",
              "      <td>[https://www.thesun.co.uk/tvandshowbiz/1135207...</td>\n",
              "      <td>[The Sun]</td>\n",
              "    </tr>\n",
              "    <tr>\n",
              "      <th>12</th>\n",
              "      <td>2020-01-07-028035</td>\n",
              "      <td>I saw Snoop Dogg and given the fact I have met...</td>\n",
              "      <td>Nicole Scherzinger</td>\n",
              "      <td>[female]</td>\n",
              "      <td>[United States of America]</td>\n",
              "      <td>[actor, singer, dancer, musician, composer, re...</td>\n",
              "      <td>Q167696</td>\n",
              "      <td>2020-01-07 22:30:07</td>\n",
              "      <td>1</td>\n",
              "      <td>[https://www.thesun.co.uk/tvandshowbiz/1069315...</td>\n",
              "      <td>[The Sun]</td>\n",
              "    </tr>\n",
              "    <tr>\n",
              "      <th>26</th>\n",
              "      <td>2020-02-12-041734</td>\n",
              "      <td>I won't be staying by myself tonight.</td>\n",
              "      <td>Kelly Brook</td>\n",
              "      <td>[female]</td>\n",
              "      <td>[United Kingdom]</td>\n",
              "      <td>[actor, model, film actor, television presenter]</td>\n",
              "      <td>Q255060</td>\n",
              "      <td>2020-02-12 22:34:08</td>\n",
              "      <td>104</td>\n",
              "      <td>[https://www.thesun.co.uk/tvandshowbiz/1095236...</td>\n",
              "      <td>[The Sun]</td>\n",
              "    </tr>\n",
              "    <tr>\n",
              "      <th>29</th>\n",
              "      <td>2020-02-24-048695</td>\n",
              "      <td>She's got as hammock, going back to my jungle ...</td>\n",
              "      <td>JACQUELINE Jossa</td>\n",
              "      <td>[female]</td>\n",
              "      <td>[United Kingdom]</td>\n",
              "      <td>[actor]</td>\n",
              "      <td>Q6120126</td>\n",
              "      <td>2020-02-24 12:16:46</td>\n",
              "      <td>1</td>\n",
              "      <td>[https://www.thesun.co.uk/tvandshowbiz/1102843...</td>\n",
              "      <td>[The Sun]</td>\n",
              "    </tr>\n",
              "  </tbody>\n",
              "</table>\n",
              "</div>"
            ],
            "text/plain": [
              "              quoteID                                          quotation  \\\n",
              "2   2020-04-03-006933  Been home-schooling a 6-year-old and 8-year-ol...   \n",
              "8   2020-04-08-075398  Your positivity on screen makes so many people...   \n",
              "12  2020-01-07-028035  I saw Snoop Dogg and given the fact I have met...   \n",
              "26  2020-02-12-041734              I won't be staying by myself tonight.   \n",
              "29  2020-02-24-048695  She's got as hammock, going back to my jungle ...   \n",
              "\n",
              "               speaker    gender                 nationality  \\\n",
              "2        Shonda Rhimes  [female]  [United States of America]   \n",
              "8     HOLLY Willoughby  [female]            [United Kingdom]   \n",
              "12  Nicole Scherzinger  [female]  [United States of America]   \n",
              "26         Kelly Brook  [female]            [United Kingdom]   \n",
              "29    JACQUELINE Jossa  [female]            [United Kingdom]   \n",
              "\n",
              "                                           occupation       qid  \\\n",
              "2   [film director, screenwriter, writer, film pro...   Q242329   \n",
              "8                       [television presenter, model]  Q1395713   \n",
              "12  [actor, singer, dancer, musician, composer, re...   Q167696   \n",
              "26   [actor, model, film actor, television presenter]   Q255060   \n",
              "29                                            [actor]  Q6120126   \n",
              "\n",
              "                  date  numOccurrences  \\\n",
              "2  2020-04-03 16:00:00               1   \n",
              "8  2020-04-08 07:10:04               1   \n",
              "12 2020-01-07 22:30:07               1   \n",
              "26 2020-02-12 22:34:08             104   \n",
              "29 2020-02-24 12:16:46               1   \n",
              "\n",
              "                                                 urls   newspapers  \n",
              "2   [http://www.thetimes.co.uk/edition/magazine/ca...  [The Times]  \n",
              "8   [https://www.thesun.co.uk/tvandshowbiz/1135207...    [The Sun]  \n",
              "12  [https://www.thesun.co.uk/tvandshowbiz/1069315...    [The Sun]  \n",
              "26  [https://www.thesun.co.uk/tvandshowbiz/1095236...    [The Sun]  \n",
              "29  [https://www.thesun.co.uk/tvandshowbiz/1102843...    [The Sun]  "
            ]
          },
          "execution_count": 24,
          "metadata": {},
          "output_type": "execute_result"
        }
      ]
    },
    {
      "cell_type": "code",
      "metadata": {
        "id": "jerdRXxq-xJA",
        "outputId": "4df3fafc-f561-4e0f-8d94-add3b34972e2"
      },
      "source": [
        "# Distribution of male and female speakers regarding the number of occurrences of quotes\n",
        "fig, axs = plt.subplots(1,2, sharey='row')\n",
        "axs[0].set_title(\"males\")\n",
        "axs[1].set_title(\"females\")\n",
        "sns.boxplot(y='numOccurrences', data = males_df, ax = axs[0])\n",
        "sns.boxplot(y='numOccurrences', data = females_df, ax = axs[1])\n",
        "fig.suptitle('Number of occurrences per gender')\n",
        "fig.set_size_inches(15,5)\n",
        "plt.show()"
      ],
      "execution_count": null,
      "outputs": [
        {
          "data": {
            "image/png": "[encoded data removed]",
            "text/plain": [
              "<Figure size 1080x360 with 2 Axes>"
            ]
          },
          "metadata": {
            "needs_background": "light"
          },
          "output_type": "display_data"
        }
      ]
    },
    {
      "cell_type": "markdown",
      "metadata": {
        "id": "nuklerrhu2CQ"
      },
      "source": [
        "There are seem to be some wide spread quotes. Let us have a look:"
      ]
    },
    {
      "cell_type": "code",
      "metadata": {
        "id": "UzGd53BT_C1V",
        "outputId": "06e79349-42b3-444d-e252-bf2c6c06763b"
      },
      "source": [
        "females_df.loc[females_df.numOccurrences >= 300]"
      ],
      "execution_count": null,
      "outputs": [
        {
          "data": {
            "text/html": [
              "<div>\n",
              "<style scoped>\n",
              "    .dataframe tbody tr th:only-of-type {\n",
              "        vertical-align: middle;\n",
              "    }\n",
              "\n",
              "    .dataframe tbody tr th {\n",
              "        vertical-align: top;\n",
              "    }\n",
              "\n",
              "    .dataframe thead th {\n",
              "        text-align: right;\n",
              "    }\n",
              "</style>\n",
              "<table border=\"1\" class=\"dataframe\">\n",
              "  <thead>\n",
              "    <tr style=\"text-align: right;\">\n",
              "      <th></th>\n",
              "      <th>quoteID</th>\n",
              "      <th>quotation</th>\n",
              "      <th>speaker</th>\n",
              "      <th>gender</th>\n",
              "      <th>nationality</th>\n",
              "      <th>occupation</th>\n",
              "      <th>qid</th>\n",
              "      <th>date</th>\n",
              "      <th>numOccurrences</th>\n",
              "      <th>urls</th>\n",
              "      <th>newspapers</th>\n",
              "    </tr>\n",
              "  </thead>\n",
              "  <tbody>\n",
              "    <tr>\n",
              "      <th>2759</th>\n",
              "      <td>2020-01-24-061521</td>\n",
              "      <td>Of course, this depends on whether this contin...</td>\n",
              "      <td>Chris Witty</td>\n",
              "      <td>[female]</td>\n",
              "      <td>[United States of America]</td>\n",
              "      <td>[speed skater, sport cyclist]</td>\n",
              "      <td>Q273505</td>\n",
              "      <td>2020-01-24 16:03:09</td>\n",
              "      <td>354</td>\n",
              "      <td>[http://www.expressandstar.com/news/uk-news/20...</td>\n",
              "      <td>[The Sun]</td>\n",
              "    </tr>\n",
              "    <tr>\n",
              "      <th>8012</th>\n",
              "      <td>2020-01-16-021077</td>\n",
              "      <td>gentlemen's club of politics.</td>\n",
              "      <td>Rebecca Long-Bailey</td>\n",
              "      <td>[female]</td>\n",
              "      <td>[United Kingdom]</td>\n",
              "      <td>[lawyer, politician]</td>\n",
              "      <td>Q19979355</td>\n",
              "      <td>2020-01-16 22:31:27</td>\n",
              "      <td>375</td>\n",
              "      <td>[http://andoveradvertiser.co.uk/news/national/...</td>\n",
              "      <td>[The Sun]</td>\n",
              "    </tr>\n",
              "    <tr>\n",
              "      <th>9484</th>\n",
              "      <td>2020-01-19-037423</td>\n",
              "      <td>That's really why we're here -- to pitch.</td>\n",
              "      <td>Duchess of Sussex</td>\n",
              "      <td>[female]</td>\n",
              "      <td>[United States of America]</td>\n",
              "      <td>[actor, model, television actor, patron of the...</td>\n",
              "      <td>Q3304418</td>\n",
              "      <td>2020-01-19 00:00:00</td>\n",
              "      <td>304</td>\n",
              "      <td>[http://feeds.foxnews.com/~r/foxnews/entertain...</td>\n",
              "      <td>[The Sun]</td>\n",
              "    </tr>\n",
              "    <tr>\n",
              "      <th>10814</th>\n",
              "      <td>2020-01-24-108786</td>\n",
              "      <td>What we don't know is how far it's going to sp...</td>\n",
              "      <td>Chris Witty</td>\n",
              "      <td>[female]</td>\n",
              "      <td>[United States of America]</td>\n",
              "      <td>[speed skater, sport cyclist]</td>\n",
              "      <td>Q273505</td>\n",
              "      <td>2020-01-24 17:01:37</td>\n",
              "      <td>352</td>\n",
              "      <td>[http://ardrossanherald.com/news/18185599.clea...</td>\n",
              "      <td>[The Sun]</td>\n",
              "    </tr>\n",
              "    <tr>\n",
              "      <th>10997</th>\n",
              "      <td>2020-02-15-022996</td>\n",
              "      <td>I'm trying to find the words but I can't.</td>\n",
              "      <td>Laura Whitmore</td>\n",
              "      <td>[female]</td>\n",
              "      <td>[Ireland]</td>\n",
              "      <td>[television presenter]</td>\n",
              "      <td>Q6499556</td>\n",
              "      <td>2020-02-15 00:00:00</td>\n",
              "      <td>379</td>\n",
              "      <td>[http://femalefirst.co.uk/tv/news/caroline-fla...</td>\n",
              "      <td>[The Sun]</td>\n",
              "    </tr>\n",
              "    <tr>\n",
              "      <th>15169</th>\n",
              "      <td>2020-03-26-049143</td>\n",
              "      <td>protect the public and keep people safe.</td>\n",
              "      <td>Priti Patel</td>\n",
              "      <td>[female]</td>\n",
              "      <td>[United Kingdom]</td>\n",
              "      <td>[politician]</td>\n",
              "      <td>Q575733</td>\n",
              "      <td>2020-03-26 15:43:08</td>\n",
              "      <td>315</td>\n",
              "      <td>[http://www.expressandstar.com/news/uk-news/20...</td>\n",
              "      <td>[The Sun]</td>\n",
              "    </tr>\n",
              "    <tr>\n",
              "      <th>15299</th>\n",
              "      <td>2020-02-02-030364</td>\n",
              "      <td>My first thoughts are with the victims, our br...</td>\n",
              "      <td>Priti Patel</td>\n",
              "      <td>[female]</td>\n",
              "      <td>[United Kingdom]</td>\n",
              "      <td>[politician]</td>\n",
              "      <td>Q575733</td>\n",
              "      <td>2020-02-02 15:35:09</td>\n",
              "      <td>565</td>\n",
              "      <td>[https://globalnews.ca/news/6496241/stabbings-...</td>\n",
              "      <td>[The Sun]</td>\n",
              "    </tr>\n",
              "    <tr>\n",
              "      <th>17635</th>\n",
              "      <td>2020-01-08-103116</td>\n",
              "      <td>work to become financially independent.</td>\n",
              "      <td>Duchess of Sussex</td>\n",
              "      <td>[female]</td>\n",
              "      <td>[United States of America]</td>\n",
              "      <td>[actor, model, television actor, patron of the...</td>\n",
              "      <td>Q3304418</td>\n",
              "      <td>2020-01-08 00:00:00</td>\n",
              "      <td>2037</td>\n",
              "      <td>[http://kaaltv.com/news/prince-harry-meghan-st...</td>\n",
              "      <td>[The Sun, The Guardian]</td>\n",
              "    </tr>\n",
              "  </tbody>\n",
              "</table>\n",
              "</div>"
            ],
            "text/plain": [
              "                 quoteID                                          quotation  \\\n",
              "2759   2020-01-24-061521  Of course, this depends on whether this contin...   \n",
              "8012   2020-01-16-021077                      gentlemen's club of politics.   \n",
              "9484   2020-01-19-037423          That's really why we're here -- to pitch.   \n",
              "10814  2020-01-24-108786  What we don't know is how far it's going to sp...   \n",
              "10997  2020-02-15-022996          I'm trying to find the words but I can't.   \n",
              "15169  2020-03-26-049143           protect the public and keep people safe.   \n",
              "15299  2020-02-02-030364  My first thoughts are with the victims, our br...   \n",
              "17635  2020-01-08-103116            work to become financially independent.   \n",
              "\n",
              "                   speaker    gender                 nationality  \\\n",
              "2759           Chris Witty  [female]  [United States of America]   \n",
              "8012   Rebecca Long-Bailey  [female]            [United Kingdom]   \n",
              "9484     Duchess of Sussex  [female]  [United States of America]   \n",
              "10814          Chris Witty  [female]  [United States of America]   \n",
              "10997       Laura Whitmore  [female]                   [Ireland]   \n",
              "15169          Priti Patel  [female]            [United Kingdom]   \n",
              "15299          Priti Patel  [female]            [United Kingdom]   \n",
              "17635    Duchess of Sussex  [female]  [United States of America]   \n",
              "\n",
              "                                              occupation        qid  \\\n",
              "2759                       [speed skater, sport cyclist]    Q273505   \n",
              "8012                                [lawyer, politician]  Q19979355   \n",
              "9484   [actor, model, television actor, patron of the...   Q3304418   \n",
              "10814                      [speed skater, sport cyclist]    Q273505   \n",
              "10997                             [television presenter]   Q6499556   \n",
              "15169                                       [politician]    Q575733   \n",
              "15299                                       [politician]    Q575733   \n",
              "17635  [actor, model, television actor, patron of the...   Q3304418   \n",
              "\n",
              "                     date  numOccurrences  \\\n",
              "2759  2020-01-24 16:03:09             354   \n",
              "8012  2020-01-16 22:31:27             375   \n",
              "9484  2020-01-19 00:00:00             304   \n",
              "10814 2020-01-24 17:01:37             352   \n",
              "10997 2020-02-15 00:00:00             379   \n",
              "15169 2020-03-26 15:43:08             315   \n",
              "15299 2020-02-02 15:35:09             565   \n",
              "17635 2020-01-08 00:00:00            2037   \n",
              "\n",
              "                                                    urls  \\\n",
              "2759   [http://www.expressandstar.com/news/uk-news/20...   \n",
              "8012   [http://andoveradvertiser.co.uk/news/national/...   \n",
              "9484   [http://feeds.foxnews.com/~r/foxnews/entertain...   \n",
              "10814  [http://ardrossanherald.com/news/18185599.clea...   \n",
              "10997  [http://femalefirst.co.uk/tv/news/caroline-fla...   \n",
              "15169  [http://www.expressandstar.com/news/uk-news/20...   \n",
              "15299  [https://globalnews.ca/news/6496241/stabbings-...   \n",
              "17635  [http://kaaltv.com/news/prince-harry-meghan-st...   \n",
              "\n",
              "                    newspapers  \n",
              "2759                 [The Sun]  \n",
              "8012                 [The Sun]  \n",
              "9484                 [The Sun]  \n",
              "10814                [The Sun]  \n",
              "10997                [The Sun]  \n",
              "15169                [The Sun]  \n",
              "15299                [The Sun]  \n",
              "17635  [The Sun, The Guardian]  "
            ]
          },
          "execution_count": 35,
          "metadata": {},
          "output_type": "execute_result"
        }
      ]
    },
    {
      "cell_type": "code",
      "metadata": {
        "id": "3eeKt0Ycu2CQ",
        "outputId": "4184f14b-be50-4bee-b0a2-9eb53fba5370"
      },
      "source": [
        "males_df.loc[males_df.numOccurrences >= 700]"
      ],
      "execution_count": null,
      "outputs": [
        {
          "data": {
            "text/html": [
              "<div>\n",
              "<style scoped>\n",
              "    .dataframe tbody tr th:only-of-type {\n",
              "        vertical-align: middle;\n",
              "    }\n",
              "\n",
              "    .dataframe tbody tr th {\n",
              "        vertical-align: top;\n",
              "    }\n",
              "\n",
              "    .dataframe thead th {\n",
              "        text-align: right;\n",
              "    }\n",
              "</style>\n",
              "<table border=\"1\" class=\"dataframe\">\n",
              "  <thead>\n",
              "    <tr style=\"text-align: right;\">\n",
              "      <th></th>\n",
              "      <th>quoteID</th>\n",
              "      <th>quotation</th>\n",
              "      <th>speaker</th>\n",
              "      <th>gender</th>\n",
              "      <th>nationality</th>\n",
              "      <th>occupation</th>\n",
              "      <th>qid</th>\n",
              "      <th>date</th>\n",
              "      <th>numOccurrences</th>\n",
              "      <th>urls</th>\n",
              "      <th>newspapers</th>\n",
              "    </tr>\n",
              "  </thead>\n",
              "  <tbody>\n",
              "    <tr>\n",
              "      <th>1897</th>\n",
              "      <td>2020-01-07-005600</td>\n",
              "      <td>appears to be standing down.</td>\n",
              "      <td>President Donald Trump</td>\n",
              "      <td>[male]</td>\n",
              "      <td>[United States of America]</td>\n",
              "      <td>[business magnate, investor, restaurateur, non...</td>\n",
              "      <td>Q22686</td>\n",
              "      <td>2020-01-07 23:52:00</td>\n",
              "      <td>759</td>\n",
              "      <td>[http://feeds.marketwatch.com/~r/marketwatch/b...</td>\n",
              "      <td>[The Times, The Sun]</td>\n",
              "    </tr>\n",
              "    <tr>\n",
              "      <th>4209</th>\n",
              "      <td>2020-02-07-059825</td>\n",
              "      <td>make it impossible for me to do my job.</td>\n",
              "      <td>William Barr</td>\n",
              "      <td>[male]</td>\n",
              "      <td>None</td>\n",
              "      <td>[engineer]</td>\n",
              "      <td>Q16683338</td>\n",
              "      <td>2020-02-07 00:00:00</td>\n",
              "      <td>1105</td>\n",
              "      <td>[http://www.canindia.com/trump-should-stop-twe...</td>\n",
              "      <td>[The Guardian]</td>\n",
              "    </tr>\n",
              "    <tr>\n",
              "      <th>5377</th>\n",
              "      <td>2020-02-04-073676</td>\n",
              "      <td>So, we have to do everything today using avail...</td>\n",
              "      <td>Tedros Adhanom Ghebreyesus</td>\n",
              "      <td>[male]</td>\n",
              "      <td>[Ethiopia]</td>\n",
              "      <td>[politician, microbiologist, malariologist]</td>\n",
              "      <td>Q16196017</td>\n",
              "      <td>2020-02-04 14:12:00</td>\n",
              "      <td>785</td>\n",
              "      <td>[https://www.wsbradio.com/lifestyles/atlanta-r...</td>\n",
              "      <td>[The Sun]</td>\n",
              "    </tr>\n",
              "    <tr>\n",
              "      <th>7111</th>\n",
              "      <td>2020-01-02-015905</td>\n",
              "      <td>He should have been taken out many years ago!,</td>\n",
              "      <td>President Donald Trump</td>\n",
              "      <td>[male]</td>\n",
              "      <td>[United States of America]</td>\n",
              "      <td>[business magnate, investor, restaurateur, non...</td>\n",
              "      <td>Q22686</td>\n",
              "      <td>2020-01-02 15:27:00</td>\n",
              "      <td>767</td>\n",
              "      <td>[http://timescolonist.com/iran-vows-revenge-fo...</td>\n",
              "      <td>[The Sun]</td>\n",
              "    </tr>\n",
              "    <tr>\n",
              "      <th>13195</th>\n",
              "      <td>2020-01-07-083106</td>\n",
              "      <td>`We do not seek escalation or war, but will de...</td>\n",
              "      <td>Mohammad Javad Zarif</td>\n",
              "      <td>[male]</td>\n",
              "      <td>[Iran]</td>\n",
              "      <td>[diplomat, politician]</td>\n",
              "      <td>Q10296812</td>\n",
              "      <td>2020-01-07 00:00:00</td>\n",
              "      <td>781</td>\n",
              "      <td>[http://feeds.foxnews.com/~r/foxnews/world/~3/...</td>\n",
              "      <td>[The Sun, The Times]</td>\n",
              "    </tr>\n",
              "    <tr>\n",
              "      <th>13470</th>\n",
              "      <td>2020-03-13-021876</td>\n",
              "      <td>I don't take responsibility at all,</td>\n",
              "      <td>President Donald Trump</td>\n",
              "      <td>[male]</td>\n",
              "      <td>[United States of America]</td>\n",
              "      <td>[business magnate, investor, restaurateur, non...</td>\n",
              "      <td>Q22686</td>\n",
              "      <td>2020-03-13 00:00:00</td>\n",
              "      <td>717</td>\n",
              "      <td>[http://digital.vpr.net/post/president-trump-d...</td>\n",
              "      <td>[The Sun]</td>\n",
              "    </tr>\n",
              "    <tr>\n",
              "      <th>17236</th>\n",
              "      <td>2020-03-22-038681</td>\n",
              "      <td>we cannot let the cure be worse than the probl...</td>\n",
              "      <td>President Donald Trump</td>\n",
              "      <td>[male]</td>\n",
              "      <td>[United States of America]</td>\n",
              "      <td>[business magnate, investor, restaurateur, non...</td>\n",
              "      <td>Q22686</td>\n",
              "      <td>2020-03-22 11:00:00</td>\n",
              "      <td>702</td>\n",
              "      <td>[https://www.duluthnewstribune.com/news/nation...</td>\n",
              "      <td>[The Sun]</td>\n",
              "    </tr>\n",
              "    <tr>\n",
              "      <th>19358</th>\n",
              "      <td>2020-01-21-011547</td>\n",
              "      <td>By all indications, we are going on to New Ham...</td>\n",
              "      <td>Pete Buttigieg</td>\n",
              "      <td>[male]</td>\n",
              "      <td>[United States of America]</td>\n",
              "      <td>[politician, military officer, statesperson]</td>\n",
              "      <td>Q7173106</td>\n",
              "      <td>2020-01-21 16:30:26</td>\n",
              "      <td>885</td>\n",
              "      <td>[https://www.inforum.com/news/government-and-p...</td>\n",
              "      <td>[The Guardian]</td>\n",
              "    </tr>\n",
              "    <tr>\n",
              "      <th>20023</th>\n",
              "      <td>2020-01-02-068709</td>\n",
              "      <td>weirdos and misfits with odd skills.</td>\n",
              "      <td>Dominic Cummings</td>\n",
              "      <td>[male]</td>\n",
              "      <td>[United Kingdom]</td>\n",
              "      <td>[political adviser]</td>\n",
              "      <td>Q24572712</td>\n",
              "      <td>2020-01-02 00:00:00</td>\n",
              "      <td>773</td>\n",
              "      <td>[http://uk.investing.com/news/economy/wanted-w...</td>\n",
              "      <td>[The Guardian, The Times]</td>\n",
              "    </tr>\n",
              "    <tr>\n",
              "      <th>20185</th>\n",
              "      <td>2020-01-31-079605</td>\n",
              "      <td>Terrorists seek to divide us and to destroy ou...</td>\n",
              "      <td>Sadiq Khan</td>\n",
              "      <td>[male]</td>\n",
              "      <td>[United Kingdom]</td>\n",
              "      <td>[politician, lawyer, solicitor]</td>\n",
              "      <td>Q334155</td>\n",
              "      <td>2020-01-31 00:00:00</td>\n",
              "      <td>914</td>\n",
              "      <td>[http://www.canindia.com/man-shot-dead-after-l...</td>\n",
              "      <td>[The Sun]</td>\n",
              "    </tr>\n",
              "    <tr>\n",
              "      <th>21247</th>\n",
              "      <td>2020-03-23-054028</td>\n",
              "      <td>That's all -- these are the only reasons you s...</td>\n",
              "      <td>Boris Johnson</td>\n",
              "      <td>[male]</td>\n",
              "      <td>[United States of America, United Kingdom]</td>\n",
              "      <td>[journalist, politician, editor, writer, essay...</td>\n",
              "      <td>Q180589</td>\n",
              "      <td>2020-03-23 17:01:37</td>\n",
              "      <td>907</td>\n",
              "      <td>[http://www.theglobeandmail.com/world/article-...</td>\n",
              "      <td>[The Sun]</td>\n",
              "    </tr>\n",
              "    <tr>\n",
              "      <th>23724</th>\n",
              "      <td>2020-01-14-009869</td>\n",
              "      <td>bung a bob for a Big Ben bong.</td>\n",
              "      <td>Boris Johnson</td>\n",
              "      <td>[male]</td>\n",
              "      <td>[United States of America, United Kingdom]</td>\n",
              "      <td>[journalist, politician, editor, writer, essay...</td>\n",
              "      <td>Q180589</td>\n",
              "      <td>2020-01-14 00:00:00</td>\n",
              "      <td>771</td>\n",
              "      <td>[http://www.foxnews.com/world/boris-johnson-ve...</td>\n",
              "      <td>[The Times, The Sun]</td>\n",
              "    </tr>\n",
              "  </tbody>\n",
              "</table>\n",
              "</div>"
            ],
            "text/plain": [
              "                 quoteID                                          quotation  \\\n",
              "1897   2020-01-07-005600                       appears to be standing down.   \n",
              "4209   2020-02-07-059825            make it impossible for me to do my job.   \n",
              "5377   2020-02-04-073676  So, we have to do everything today using avail...   \n",
              "7111   2020-01-02-015905     He should have been taken out many years ago!,   \n",
              "13195  2020-01-07-083106  `We do not seek escalation or war, but will de...   \n",
              "13470  2020-03-13-021876                I don't take responsibility at all,   \n",
              "17236  2020-03-22-038681  we cannot let the cure be worse than the probl...   \n",
              "19358  2020-01-21-011547  By all indications, we are going on to New Ham...   \n",
              "20023  2020-01-02-068709               weirdos and misfits with odd skills.   \n",
              "20185  2020-01-31-079605  Terrorists seek to divide us and to destroy ou...   \n",
              "21247  2020-03-23-054028  That's all -- these are the only reasons you s...   \n",
              "23724  2020-01-14-009869                     bung a bob for a Big Ben bong.   \n",
              "\n",
              "                          speaker  gender  \\\n",
              "1897       President Donald Trump  [male]   \n",
              "4209                 William Barr  [male]   \n",
              "5377   Tedros Adhanom Ghebreyesus  [male]   \n",
              "7111       President Donald Trump  [male]   \n",
              "13195        Mohammad Javad Zarif  [male]   \n",
              "13470      President Donald Trump  [male]   \n",
              "17236      President Donald Trump  [male]   \n",
              "19358              Pete Buttigieg  [male]   \n",
              "20023            Dominic Cummings  [male]   \n",
              "20185                  Sadiq Khan  [male]   \n",
              "21247               Boris Johnson  [male]   \n",
              "23724               Boris Johnson  [male]   \n",
              "\n",
              "                                      nationality  \\\n",
              "1897                   [United States of America]   \n",
              "4209                                         None   \n",
              "5377                                   [Ethiopia]   \n",
              "7111                   [United States of America]   \n",
              "13195                                      [Iran]   \n",
              "13470                  [United States of America]   \n",
              "17236                  [United States of America]   \n",
              "19358                  [United States of America]   \n",
              "20023                            [United Kingdom]   \n",
              "20185                            [United Kingdom]   \n",
              "21247  [United States of America, United Kingdom]   \n",
              "23724  [United States of America, United Kingdom]   \n",
              "\n",
              "                                              occupation        qid  \\\n",
              "1897   [business magnate, investor, restaurateur, non...     Q22686   \n",
              "4209                                          [engineer]  Q16683338   \n",
              "5377         [politician, microbiologist, malariologist]  Q16196017   \n",
              "7111   [business magnate, investor, restaurateur, non...     Q22686   \n",
              "13195                             [diplomat, politician]  Q10296812   \n",
              "13470  [business magnate, investor, restaurateur, non...     Q22686   \n",
              "17236  [business magnate, investor, restaurateur, non...     Q22686   \n",
              "19358       [politician, military officer, statesperson]   Q7173106   \n",
              "20023                                [political adviser]  Q24572712   \n",
              "20185                    [politician, lawyer, solicitor]    Q334155   \n",
              "21247  [journalist, politician, editor, writer, essay...    Q180589   \n",
              "23724  [journalist, politician, editor, writer, essay...    Q180589   \n",
              "\n",
              "                     date  numOccurrences  \\\n",
              "1897  2020-01-07 23:52:00             759   \n",
              "4209  2020-02-07 00:00:00            1105   \n",
              "5377  2020-02-04 14:12:00             785   \n",
              "7111  2020-01-02 15:27:00             767   \n",
              "13195 2020-01-07 00:00:00             781   \n",
              "13470 2020-03-13 00:00:00             717   \n",
              "17236 2020-03-22 11:00:00             702   \n",
              "19358 2020-01-21 16:30:26             885   \n",
              "20023 2020-01-02 00:00:00             773   \n",
              "20185 2020-01-31 00:00:00             914   \n",
              "21247 2020-03-23 17:01:37             907   \n",
              "23724 2020-01-14 00:00:00             771   \n",
              "\n",
              "                                                    urls  \\\n",
              "1897   [http://feeds.marketwatch.com/~r/marketwatch/b...   \n",
              "4209   [http://www.canindia.com/trump-should-stop-twe...   \n",
              "5377   [https://www.wsbradio.com/lifestyles/atlanta-r...   \n",
              "7111   [http://timescolonist.com/iran-vows-revenge-fo...   \n",
              "13195  [http://feeds.foxnews.com/~r/foxnews/world/~3/...   \n",
              "13470  [http://digital.vpr.net/post/president-trump-d...   \n",
              "17236  [https://www.duluthnewstribune.com/news/nation...   \n",
              "19358  [https://www.inforum.com/news/government-and-p...   \n",
              "20023  [http://uk.investing.com/news/economy/wanted-w...   \n",
              "20185  [http://www.canindia.com/man-shot-dead-after-l...   \n",
              "21247  [http://www.theglobeandmail.com/world/article-...   \n",
              "23724  [http://www.foxnews.com/world/boris-johnson-ve...   \n",
              "\n",
              "                      newspapers  \n",
              "1897        [The Times, The Sun]  \n",
              "4209              [The Guardian]  \n",
              "5377                   [The Sun]  \n",
              "7111                   [The Sun]  \n",
              "13195       [The Sun, The Times]  \n",
              "13470                  [The Sun]  \n",
              "17236                  [The Sun]  \n",
              "19358             [The Guardian]  \n",
              "20023  [The Guardian, The Times]  \n",
              "20185                  [The Sun]  \n",
              "21247                  [The Sun]  \n",
              "23724       [The Times, The Sun]  "
            ]
          },
          "execution_count": 36,
          "metadata": {},
          "output_type": "execute_result"
        }
      ]
    },
    {
      "cell_type": "markdown",
      "metadata": {
        "id": "J1jJIjcb7L4n"
      },
      "source": [
        "Seeing the distribution regarding the number of occurrences of quotes from male and female speakers, we can clearly see a stronger presence of male speakers in the newspapers. This supports the general hypothesis of a domination by men for quotes. This raises further questions for our analysis concerning: The evolution of this domination throughout the years and depending on different countries, the themes aborded by different genders or the representation of gender minorities."
      ]
    },
    {
      "cell_type": "markdown",
      "metadata": {
        "id": "6Z6wexAfu2CR"
      },
      "source": [
        "We will look at one last thing. How many quotes are originated from men and female **depending on the newspaper** (for now just our three newspapers)? This will be important for our further analysis."
      ]
    },
    {
      "cell_type": "code",
      "metadata": {
        "id": "hVs7OYoeu2CR",
        "outputId": "be8aff02-eed1-4ad1-a41f-6172b276f83d"
      },
      "source": [
        "#mask for each newspaper\n",
        "mask_sun = df_2020.newspapers.apply(lambda x: 'The Sun' in x)\n",
        "mask_guardian = df_2020.newspapers.apply(lambda x: 'The Guardian' in x)\n",
        "mask_times = df_2020.newspapers.apply(lambda x: 'The Times' in x)\n",
        "\n",
        "# we plot the distribution for each of them\n",
        "fig, axs = plt.subplots(1,3, sharey='row', figsize = (40,10))\n",
        "\n",
        "sns.barplot(x=convert(df_2020[mask_sun]['gender']).value_counts().index,\n",
        "        y=convert(df_2020[mask_sun]['gender']).value_counts().values, ax = axs[0])\n",
        "sns.barplot(x = convert(df_2020[mask_guardian]['gender']).value_counts().index,\n",
        "        y=convert(df_2020[mask_guardian]['gender']).value_counts().values, ax = axs[1])\n",
        "sns.barplot(x=convert(df_2020[mask_times]['gender']).value_counts().index,\n",
        "        y=convert(df_2020[mask_times]['gender']).value_counts().values, ax = axs[2])\n",
        "\n",
        "axs[0].set_title(\"The Sun\", size = 14)\n",
        "axs[1].set_title(\"The Guardian\", size = 14)\n",
        "axs[2].set_title(\"The Times\", size = 14)\n",
        "plt.tight_layout()"
      ],
      "execution_count": null,
      "outputs": [
        {
          "data": {
            "image/png": "[encoded data removed]",
            "text/plain": [
              "<Figure size 2880x720 with 3 Axes>"
            ]
          },
          "metadata": {
            "needs_background": "light"
          },
          "output_type": "display_data"
        }
      ]
    },
    {
      "cell_type": "markdown",
      "metadata": {
        "id": "OQ9k08QZx6C3"
      },
      "source": [
        "We can see that all three of newspapers have more quotes (twice as much) written by men than by women. We can also see that The Sun is the most cited newspaper, and The Times seems to include very few gender minorities."
      ]
    }
  ]
}
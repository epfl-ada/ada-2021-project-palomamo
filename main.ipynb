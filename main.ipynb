{
  "nbformat": 4,
  "nbformat_minor": 0,
  "metadata": {
    "colab": {
      "name": "main.ipynb",
      "provenance": [],
      "collapsed_sections": []
    },
    "kernelspec": {
      "display_name": "Python 3 (ipykernel)",
      "language": "python",
      "name": "python3"
    },
    "language_info": {
      "codemirror_mode": {
        "name": "ipython",
        "version": 3
      },
      "file_extension": ".py",
      "mimetype": "text/x-python",
      "name": "python",
      "nbconvert_exporter": "python",
      "pygments_lexer": "ipython3",
      "version": "3.8.11"
    }
  },
  "cells": [
    {
      "cell_type": "markdown",
      "metadata": {
        "id": "7txCTyrTM0qJ"
      },
      "source": [
        "# Female citations in UKs leading news papers"
      ]
    },
    {
      "cell_type": "markdown",
      "metadata": {
        "id": "wEzY5GJ5M0qO"
      },
      "source": [
        "This notebook serves as a first presentation of our project for milestone 2. It is structured and written in such  a way that we can directly continue on it for milestone 3."
      ]
    },
    {
      "cell_type": "markdown",
      "metadata": {
        "id": "ucef3_UkM0qP"
      },
      "source": [
        "## Content\n",
        "1. [Setup](#setup)   \n",
        "    1.1 [Imports](#imports)  \n",
        "    1.2 [Data paths](#data_paths)   \n",
        "    1.3 [Utility functions](#utility_functions)   \n",
        "2. [Data preparation](#data_prep)    \n",
        "    2.1 [Columns and rows selection](#cols_rows_select)  \n",
        "    2.2 [News paper selection](#newspaper_select)           \n",
        "    2.3 [Filtering raw data](#filter_raw_data)\n",
        "\n",
        "3. [Additional data set: speaker attributes](#speaker_attr)    \n",
        "    3.1 [Explore attributes](#explore_attr)  \n",
        "    3.2 [Retrieve quotebank wikidata labels](#reatrieve_labels)           \n",
        "    3.3 [Filtering raw data](#filter_raw_data)   \n",
        "\n",
        "4. [Data exploration and cleaning](#data_explore_clean)  \n",
        "    4.1 [Import prepared data](#import_prep_data)   \n",
        "    4.2 [Set index](#set_index)    \n",
        "    4.3 [Save cleaned data frame as pickle](#save_pickle)   \n",
        "5. [Research questions](#research_question)     \n",
        "    5.1 [Load pickled dataframes](#load_pickle)"
      ]
    },
    {
      "cell_type": "markdown",
      "metadata": {
        "id": "owgTJarZM0qP"
      },
      "source": [
        "## 1. Setup\n",
        "<a id=\"setup\"></a>"
      ]
    },
    {
      "cell_type": "markdown",
      "metadata": {
        "id": "5yqsvZuAM0qQ"
      },
      "source": [
        "### 1.1 Imports\n",
        "<a id=\"imports\"></a>"
      ]
    },
    {
      "cell_type": "code",
      "metadata": {
        "id": "GFoAWQprM0qQ"
      },
      "source": [
        "import pandas as pd\n",
        "import json\n",
        "import bz2\n",
        "import matplotlib.pyplot as plt\n",
        "from collections import Counter"
      ],
      "execution_count": 1,
      "outputs": []
    },
    {
      "cell_type": "markdown",
      "metadata": {
        "id": "KKWfSxjgM0qR"
      },
      "source": [
        "### 1.2 Data paths\n",
        "<a id=\"Data paths\"></a>\n",
        "\n",
        "**Important**: The raw and prepared data are stored locally in the root folder _Quotebank_ and _Filtered data_. To execute section [Data preperation](#data_prep) the raw data in the folder _Quotebank_ is needed. This section has to be executed only once. When using Google Colab the ```use_colab``` variable has to be set to true. This way the paths can be access directly from our shared drive.\n",
        "\n",
        "You can download the raw data here (EPFL google account required): [Quotebank](), [Speakers]() \\\n",
        "The cleaned data can be found using this link:\n",
        "[Cleaned data]()"
      ]
    },
    {
      "cell_type": "code",
      "metadata": {
        "id": "XgjGqxuSnkx2"
      },
      "source": [
        "# Comment the files which aren't locally stored\n",
        "# In Colab everything should be available\n",
        "RAW_QUOTES_2020_PATH = 'Quotebank/quotes-2020.json.bz2' \n",
        "QUOTES_2020_PATH = 'Filtered data/quotes-2020-gb.json.bz2' \n",
        "\n",
        "#RAW_QUOTES_2019_PATH = 'Quotebank/quotes-2019.json.bz2' \n",
        "#QUOTES_2019_PATH = 'Filtered data/quotes-2019-gb.json.bz2' \n",
        "\n",
        "#RAW_QUOTES_2018_PATH = 'Quotebank/quotes-2018.json.bz2' \n",
        "#QUOTES_2018_PATH = 'Filtered data/quotes-2018-gb.json.bz2' \n",
        "\n",
        "#RAW_QUOTES_2017_PATH = 'Quotebank/quotes-2017.json.bz2' \n",
        "#QUOTES_2017_PATH = 'data/quotes-2017-gb.json.bz2' \n",
        "\n",
        "#RAW_QUOTES_2016_PATH = 'raw_data/quotes-2016.json.bz2' \n",
        "#QUOTES_2016_PATH = 'data/quotes-2016-gb.json.bz2' \n",
        "\n",
        "#RAW_QUOTES_2015_PATH = 'raw_data/quotes-2015.json.bz2' \n",
        "#QUOTES_2015_PATH = 'data/quotes-2015-gb.json.bz2'\n",
        "\n",
        "# Additional data set\n",
        "SPEAKER_ATTRIBUTES_PATH = 'Project datasets/speaker_attributes.parquet'\n",
        "LABELS_WIKIDATA_PATH = 'Project datasets/wikidata_labels_descriptions_quotebank.csv.bz2'"
      ],
      "execution_count": 33,
      "outputs": []
    },
    {
      "cell_type": "code",
      "metadata": {
        "id": "hzfP-W7znkx3"
      },
      "source": [
        "# Change to True if you want to use google colab\n",
        "use_colab = True"
      ],
      "execution_count": 3,
      "outputs": []
    },
    {
      "cell_type": "markdown",
      "metadata": {
        "id": "qefk9v2tSmnT"
      },
      "source": [
        "We mount the drive and go to the right directory."
      ]
    },
    {
      "cell_type": "code",
      "metadata": {
        "colab": {
          "base_uri": "https://localhost:8080/"
        },
        "id": "TYbQA-9aNUeC",
        "outputId": "c84e788c-69ba-4183-b70c-014bbd98996a"
      },
      "source": [
        "# Import epfl google drive!\n",
        "if use_colab:\n",
        "    from google.colab import drive\n",
        "    drive.mount('/content/drive', force_remount=True)\n",
        "    \n",
        "    %cd /content/drive/Shareddrives/ADA-project"
      ],
      "execution_count": 4,
      "outputs": [
        {
          "output_type": "stream",
          "name": "stdout",
          "text": [
            "Mounted at /content/drive\n",
            "/content/drive/Shareddrives/ADA-project\n"
          ]
        }
      ]
    },
    {
      "cell_type": "markdown",
      "metadata": {
        "id": "02ADHNIxSvDl"
      },
      "source": [
        "We have to install an older version of pandas in order to be able to use the 'chunksize' feature in colab."
      ]
    },
    {
      "cell_type": "code",
      "metadata": {
        "colab": {
          "base_uri": "https://localhost:8080/"
        },
        "id": "24i5C-GlRwGW",
        "outputId": "6011b9a5-00a2-4947-f2e7-f790d15fb192"
      },
      "source": [
        "if use_colab:\n",
        "    !pip install pandas==1.0.5\n",
        "\n",
        "    # Reimport\n",
        "    import pandas as pd\n",
        "    print(pd.__version__)"
      ],
      "execution_count": 5,
      "outputs": [
        {
          "output_type": "stream",
          "name": "stdout",
          "text": [
            "Requirement already satisfied: pandas==1.0.5 in /usr/local/lib/python3.7/dist-packages (1.0.5)\n",
            "Requirement already satisfied: pytz>=2017.2 in /usr/local/lib/python3.7/dist-packages (from pandas==1.0.5) (2018.9)\n",
            "Requirement already satisfied: numpy>=1.13.3 in /usr/local/lib/python3.7/dist-packages (from pandas==1.0.5) (1.19.5)\n",
            "Requirement already satisfied: python-dateutil>=2.6.1 in /usr/local/lib/python3.7/dist-packages (from pandas==1.0.5) (2.8.2)\n",
            "Requirement already satisfied: six>=1.5 in /usr/local/lib/python3.7/dist-packages (from python-dateutil>=2.6.1->pandas==1.0.5) (1.15.0)\n",
            "1.0.5\n"
          ]
        }
      ]
    },
    {
      "cell_type": "markdown",
      "metadata": {
        "id": "KymkAGpdM0qT"
      },
      "source": [
        "## 1.3 Utility functions\n",
        "<a id=\"utility_functions\"></a>"
      ]
    },
    {
      "cell_type": "code",
      "metadata": {
        "id": "tAN-njz8SJ2z"
      },
      "source": [
        "def load_mini_version_of_data(path_to_file, chunksize, nb_chunks):\n",
        "    \"\"\"\n",
        "    Returns a mini dataframe from of a bz2 compressed json file.\n",
        "    :path_to_file: file path as string\n",
        "    :chunksize: size to iterate\n",
        "    :nb_chunks: how many chunks\n",
        "    :return: pandas.DataFrame with chunksize*nb_chunks of rows\n",
        "    \"\"\"\n",
        "    \n",
        "    curr_chunk = 0\n",
        "    chunk_list = []\n",
        "    \n",
        "    if use_colab:\n",
        "          for chunk in pd.read_json(path_to_file, lines=True, compression='bz2', chunksize=chunksize):\n",
        "              if curr_chunk == nb_chunks:\n",
        "                  break\n",
        "              curr_chunk = curr_chunk + 1\n",
        "              chunk_list.append(chunk)\n",
        "    else:\n",
        "      with pd.read_json(path_to_file, lines=True, compression='bz2', chunksize=chunksize) as df_reader:\n",
        "          for chunk in df_reader:\n",
        "              if curr_chunk == nb_chunks:\n",
        "                  break\n",
        "          \n",
        "              curr_chunk = curr_chunk + 1\n",
        "              chunk_list.append(chunk)\n",
        "    \n",
        "    df = pd.concat(chunk_list)\n",
        "    return df"
      ],
      "execution_count": 6,
      "outputs": []
    },
    {
      "cell_type": "markdown",
      "metadata": {
        "id": "e3X94ETfM0qU"
      },
      "source": [
        "## 2. Data preparation\n",
        "<a id=\"data_prep\"></a>\n",
        "\n",
        "The quotebank dataset is too large to directly access it with a dataframe. This section provides all the steps to filter the data we need for our analysis. The filtering and preperation is done based on our research question. Please check the README for details. Further explanations are given under [Research question](#research_question).\n",
        "\n",
        "The data preperation can be done on a per year basis of the Quotebank data set."
      ]
    },
    {
      "cell_type": "markdown",
      "metadata": {
        "id": "0aBizKy0M0qV"
      },
      "source": [
        "### 2.1 Column and row selection\n",
        "<a id=\"cols_rows_select\"></a>"
      ]
    },
    {
      "cell_type": "code",
      "metadata": {
        "colab": {
          "base_uri": "https://localhost:8080/",
          "height": 289
        },
        "id": "DDiGK7IoM0qV",
        "outputId": "44ae13b4-717c-4aff-bfbd-4780543820eb"
      },
      "source": [
        "# A quick look at a small subset of the data of the selected year\n",
        "year_sample_df = load_mini_version_of_data(RAW_QUOTES_2020_PATH, 10000, 10)\n",
        "year_sample_df.head()"
      ],
      "execution_count": 7,
      "outputs": [
        {
          "output_type": "execute_result",
          "data": {
            "text/html": [
              "<div>\n",
              "<style scoped>\n",
              "    .dataframe tbody tr th:only-of-type {\n",
              "        vertical-align: middle;\n",
              "    }\n",
              "\n",
              "    .dataframe tbody tr th {\n",
              "        vertical-align: top;\n",
              "    }\n",
              "\n",
              "    .dataframe thead th {\n",
              "        text-align: right;\n",
              "    }\n",
              "</style>\n",
              "<table border=\"1\" class=\"dataframe\">\n",
              "  <thead>\n",
              "    <tr style=\"text-align: right;\">\n",
              "      <th></th>\n",
              "      <th>quoteID</th>\n",
              "      <th>quotation</th>\n",
              "      <th>speaker</th>\n",
              "      <th>qids</th>\n",
              "      <th>date</th>\n",
              "      <th>numOccurrences</th>\n",
              "      <th>probas</th>\n",
              "      <th>urls</th>\n",
              "      <th>phase</th>\n",
              "    </tr>\n",
              "  </thead>\n",
              "  <tbody>\n",
              "    <tr>\n",
              "      <th>0</th>\n",
              "      <td>2020-01-28-000082</td>\n",
              "      <td>[ D ] espite the efforts of the partners to cr...</td>\n",
              "      <td>None</td>\n",
              "      <td>[]</td>\n",
              "      <td>2020-01-28 08:04:05</td>\n",
              "      <td>1</td>\n",
              "      <td>[[None, 0.7272], [Prime Minister Netanyahu, 0....</td>\n",
              "      <td>[http://israelnationalnews.com/News/News.aspx/...</td>\n",
              "      <td>E</td>\n",
              "    </tr>\n",
              "    <tr>\n",
              "      <th>1</th>\n",
              "      <td>2020-01-16-000088</td>\n",
              "      <td>[ Department of Homeland Security ] was livid ...</td>\n",
              "      <td>Sue Myrick</td>\n",
              "      <td>[Q367796]</td>\n",
              "      <td>2020-01-16 12:00:13</td>\n",
              "      <td>1</td>\n",
              "      <td>[[Sue Myrick, 0.8867], [None, 0.0992], [Ron Wy...</td>\n",
              "      <td>[http://thehill.com/opinion/international/4782...</td>\n",
              "      <td>E</td>\n",
              "    </tr>\n",
              "    <tr>\n",
              "      <th>2</th>\n",
              "      <td>2020-02-10-000142</td>\n",
              "      <td>... He (Madhav) also disclosed that the illega...</td>\n",
              "      <td>None</td>\n",
              "      <td>[]</td>\n",
              "      <td>2020-02-10 23:45:54</td>\n",
              "      <td>1</td>\n",
              "      <td>[[None, 0.8926], [Prakash Rai, 0.1074]]</td>\n",
              "      <td>[https://indianexpress.com/article/business/ec...</td>\n",
              "      <td>E</td>\n",
              "    </tr>\n",
              "    <tr>\n",
              "      <th>3</th>\n",
              "      <td>2020-02-15-000053</td>\n",
              "      <td>... [ I ] f it gets to the floor,</td>\n",
              "      <td>None</td>\n",
              "      <td>[]</td>\n",
              "      <td>2020-02-15 14:12:51</td>\n",
              "      <td>2</td>\n",
              "      <td>[[None, 0.581], [Andy Harris, 0.4191]]</td>\n",
              "      <td>[https://patriotpost.us/opinion/68622-trump-bu...</td>\n",
              "      <td>E</td>\n",
              "    </tr>\n",
              "    <tr>\n",
              "      <th>4</th>\n",
              "      <td>2020-01-24-000168</td>\n",
              "      <td>[ I met them ] when they just turned 4 and 7. ...</td>\n",
              "      <td>Meghan King Edmonds</td>\n",
              "      <td>[Q20684375]</td>\n",
              "      <td>2020-01-24 20:37:09</td>\n",
              "      <td>4</td>\n",
              "      <td>[[Meghan King Edmonds, 0.5446], [None, 0.2705]...</td>\n",
              "      <td>[https://people.com/parents/meghan-king-edmond...</td>\n",
              "      <td>E</td>\n",
              "    </tr>\n",
              "  </tbody>\n",
              "</table>\n",
              "</div>"
            ],
            "text/plain": [
              "             quoteID  ... phase\n",
              "0  2020-01-28-000082  ...     E\n",
              "1  2020-01-16-000088  ...     E\n",
              "2  2020-02-10-000142  ...     E\n",
              "3  2020-02-15-000053  ...     E\n",
              "4  2020-01-24-000168  ...     E\n",
              "\n",
              "[5 rows x 9 columns]"
            ]
          },
          "metadata": {},
          "execution_count": 7
        }
      ]
    },
    {
      "cell_type": "code",
      "metadata": {
        "colab": {
          "base_uri": "https://localhost:8080/"
        },
        "id": "hBzK83L9M0qW",
        "scrolled": true,
        "outputId": "4444ff9d-d50c-4c59-8bab-24e6a95ed76d"
      },
      "source": [
        "# How many quotations don't have an assigned speaker?\n",
        "sum(year_sample_df['speaker'] == 'None')"
      ],
      "execution_count": 8,
      "outputs": [
        {
          "output_type": "execute_result",
          "data": {
            "text/plain": [
              "34316"
            ]
          },
          "metadata": {},
          "execution_count": 8
        }
      ]
    },
    {
      "cell_type": "markdown",
      "metadata": {
        "id": "DH6Hbvv_M0qW"
      },
      "source": [
        "The cell above shows that there around 1/3 of the quotations are 'None' speakers. As we want to make a gender based study will will not need these rows. This eliminitation will drasticly reduce the size of the data we have to analyse.\n",
        "\n",
        "Furthermore the colums which aren't of interest for our study are:\\\n",
        "**phase**: we don't care\\\n",
        "**probas**: as we will select the the speaker with highest probablity (note that 'None' speakers are already neglected)"
      ]
    },
    {
      "cell_type": "markdown",
      "metadata": {
        "id": "Mw_WR9hCM0qX"
      },
      "source": [
        "### 2.2 Newspaper selection\n",
        "<a id=\"nespaper_select\"></a>\n",
        "In first analysis we will pick quotations of 3 of the top 12 UKs newspapers with the most reach both in prints and digital reach. See [this]() statistic for further details"
      ]
    },
    {
      "cell_type": "code",
      "metadata": {
        "colab": {
          "base_uri": "https://localhost:8080/",
          "height": 142
        },
        "id": "MqiT955RM0qX",
        "outputId": "1c1774a4-341d-445f-ab53-7fe35840aa98"
      },
      "source": [
        "# List of selected newspapers and their urls\n",
        "newspapers_list = [['The Sun', 'thesun.co.uk'], \n",
        "                  ['The Guardian', 'theguardian.com'],\n",
        "                  ['The Times', 'thetimes.co.uk']]\n",
        "\n",
        "# Dataframe\n",
        "newspapers_df = pd.DataFrame(newspapers_list, columns = ['name', 'website_url'])\n",
        "newspapers_df.head()"
      ],
      "execution_count": 9,
      "outputs": [
        {
          "output_type": "execute_result",
          "data": {
            "text/html": [
              "<div>\n",
              "<style scoped>\n",
              "    .dataframe tbody tr th:only-of-type {\n",
              "        vertical-align: middle;\n",
              "    }\n",
              "\n",
              "    .dataframe tbody tr th {\n",
              "        vertical-align: top;\n",
              "    }\n",
              "\n",
              "    .dataframe thead th {\n",
              "        text-align: right;\n",
              "    }\n",
              "</style>\n",
              "<table border=\"1\" class=\"dataframe\">\n",
              "  <thead>\n",
              "    <tr style=\"text-align: right;\">\n",
              "      <th></th>\n",
              "      <th>name</th>\n",
              "      <th>website_url</th>\n",
              "    </tr>\n",
              "  </thead>\n",
              "  <tbody>\n",
              "    <tr>\n",
              "      <th>0</th>\n",
              "      <td>The Sun</td>\n",
              "      <td>thesun.co.uk</td>\n",
              "    </tr>\n",
              "    <tr>\n",
              "      <th>1</th>\n",
              "      <td>The Guardian</td>\n",
              "      <td>theguardian.com</td>\n",
              "    </tr>\n",
              "    <tr>\n",
              "      <th>2</th>\n",
              "      <td>The Times</td>\n",
              "      <td>thetimes.co.uk</td>\n",
              "    </tr>\n",
              "  </tbody>\n",
              "</table>\n",
              "</div>"
            ],
            "text/plain": [
              "           name      website_url\n",
              "0       The Sun     thesun.co.uk\n",
              "1  The Guardian  theguardian.com\n",
              "2     The Times   thetimes.co.uk"
            ]
          },
          "metadata": {},
          "execution_count": 9
        }
      ]
    },
    {
      "cell_type": "markdown",
      "metadata": {
        "id": "7PSbHGGtM0qX"
      },
      "source": [
        "### 2.3 Filtering raw data\n",
        "<a id=\"filter_raw_data\"></a>\n",
        "\n",
        "Following the reasoning above we can extract the infos needed from the compressed file of a year of quotations. Let's create a helper function to check the primary urls of a quotation:"
      ]
    },
    {
      "cell_type": "code",
      "metadata": {
        "id": "902eh0g-cu78"
      },
      "source": [
        "def filter_data(path_in, path_out):\n",
        "  # Loop through all instances of json file and extract the desired rows\n",
        "  # Save the file in the data directory\n",
        "  with bz2.open(path_in, 'rb') as s_file:\n",
        "      with bz2.open(path_out, 'wb') as d_file:\n",
        "          for instance in s_file:\n",
        "              instance = json.loads(instance) # loading a sample\n",
        "              if instance['speaker'] == 'None':\n",
        "                  continue\n",
        "              urls = instance['urls'] # extracting list of links\n",
        "              newspapers = []\n",
        "              for url in urls:\n",
        "                  for name, website_url in zip(newspapers_df['name'],newspapers_df['website_url']):\n",
        "                      if website_url in url:\n",
        "                          newspapers.append(name)\n",
        "                          instance['newspapers'] = newspapers # updating the sample with domain name\n",
        "              # We remove unnecessary columns\n",
        "              instance.pop('probas')\n",
        "              instance.pop('phase')\n",
        "              # If there is a newspaper that we want to keep we write the instance to the output file\n",
        "              if newspapers: \n",
        "                d_file.write((json.dumps(instance)+'\\n').encode('utf-8')) # writing in the new file\n",
        "                "
      ],
      "execution_count": 10,
      "outputs": []
    },
    {
      "cell_type": "code",
      "metadata": {
        "id": "iPJda6mObZja"
      },
      "source": [
        "#filter_data(RAW_QUOTES_2020_PATH,QUOTES_2020_PATH)"
      ],
      "execution_count": 11,
      "outputs": []
    },
    {
      "cell_type": "code",
      "metadata": {
        "colab": {
          "base_uri": "https://localhost:8080/",
          "height": 204
        },
        "id": "APW1C9ivsu-G",
        "outputId": "df89b007-0928-4d9c-b0f2-c7fa5f9305af"
      },
      "source": [
        "# We check that the new file contains the right data\n",
        "filtered_sample_df = load_mini_version_of_data(QUOTES_2020_PATH, 10000, 10)\n",
        "filtered_sample_df.head()"
      ],
      "execution_count": 12,
      "outputs": [
        {
          "output_type": "execute_result",
          "data": {
            "text/html": [
              "<div>\n",
              "<style scoped>\n",
              "    .dataframe tbody tr th:only-of-type {\n",
              "        vertical-align: middle;\n",
              "    }\n",
              "\n",
              "    .dataframe tbody tr th {\n",
              "        vertical-align: top;\n",
              "    }\n",
              "\n",
              "    .dataframe thead th {\n",
              "        text-align: right;\n",
              "    }\n",
              "</style>\n",
              "<table border=\"1\" class=\"dataframe\">\n",
              "  <thead>\n",
              "    <tr style=\"text-align: right;\">\n",
              "      <th></th>\n",
              "      <th>quoteID</th>\n",
              "      <th>quotation</th>\n",
              "      <th>speaker</th>\n",
              "      <th>qids</th>\n",
              "      <th>date</th>\n",
              "      <th>numOccurrences</th>\n",
              "      <th>urls</th>\n",
              "      <th>newspapers</th>\n",
              "    </tr>\n",
              "  </thead>\n",
              "  <tbody>\n",
              "    <tr>\n",
              "      <th>0</th>\n",
              "      <td>2020-01-31-008580</td>\n",
              "      <td>As you reach or have reached the apex of your ...</td>\n",
              "      <td>Keyon Dooling</td>\n",
              "      <td>[Q304349]</td>\n",
              "      <td>2020-01-31 19:07:55</td>\n",
              "      <td>1</td>\n",
              "      <td>[https://www.theguardian.com/sport/2020/jan/31...</td>\n",
              "      <td>[The Guardian]</td>\n",
              "    </tr>\n",
              "    <tr>\n",
              "      <th>1</th>\n",
              "      <td>2020-01-20-006469</td>\n",
              "      <td>At the same time we want to remain friends wit...</td>\n",
              "      <td>Tim Martin</td>\n",
              "      <td>[Q20670776, Q20713880, Q7803899, Q7803900]</td>\n",
              "      <td>2020-01-20 09:08:24</td>\n",
              "      <td>4</td>\n",
              "      <td>[https://www.dailystar.co.uk/real-life/wethers...</td>\n",
              "      <td>[The Sun]</td>\n",
              "    </tr>\n",
              "    <tr>\n",
              "      <th>2</th>\n",
              "      <td>2020-04-03-006933</td>\n",
              "      <td>Been home-schooling a 6-year-old and 8-year-ol...</td>\n",
              "      <td>Shonda Rhimes</td>\n",
              "      <td>[Q242329]</td>\n",
              "      <td>2020-04-03 16:00:00</td>\n",
              "      <td>1</td>\n",
              "      <td>[http://www.thetimes.co.uk/edition/magazine/ca...</td>\n",
              "      <td>[The Times]</td>\n",
              "    </tr>\n",
              "    <tr>\n",
              "      <th>3</th>\n",
              "      <td>2020-04-15-018814</td>\n",
              "      <td>I am now in agreement that we should move forw...</td>\n",
              "      <td>David Boies</td>\n",
              "      <td>[Q5231515]</td>\n",
              "      <td>2020-04-15 15:46:38</td>\n",
              "      <td>1</td>\n",
              "      <td>[https://www.thesun.co.uk/news/11403669/jeffre...</td>\n",
              "      <td>[The Sun]</td>\n",
              "    </tr>\n",
              "    <tr>\n",
              "      <th>4</th>\n",
              "      <td>2020-02-16-014286</td>\n",
              "      <td>I don't want to make a career out of [ remakin...</td>\n",
              "      <td>Ramiro Gomez</td>\n",
              "      <td>[Q30693403, Q43130877]</td>\n",
              "      <td>2020-02-16 15:00:32</td>\n",
              "      <td>1</td>\n",
              "      <td>[https://www.theguardian.com/artanddesign/2020...</td>\n",
              "      <td>[The Guardian]</td>\n",
              "    </tr>\n",
              "  </tbody>\n",
              "</table>\n",
              "</div>"
            ],
            "text/plain": [
              "             quoteID  ...      newspapers\n",
              "0  2020-01-31-008580  ...  [The Guardian]\n",
              "1  2020-01-20-006469  ...       [The Sun]\n",
              "2  2020-04-03-006933  ...     [The Times]\n",
              "3  2020-04-15-018814  ...       [The Sun]\n",
              "4  2020-02-16-014286  ...  [The Guardian]\n",
              "\n",
              "[5 rows x 8 columns]"
            ]
          },
          "metadata": {},
          "execution_count": 12
        }
      ]
    },
    {
      "cell_type": "markdown",
      "metadata": {
        "id": "WifW8YvwlTKW"
      },
      "source": [
        "Let's check that there are no 'None' speakers:"
      ]
    },
    {
      "cell_type": "code",
      "metadata": {
        "colab": {
          "base_uri": "https://localhost:8080/"
        },
        "id": "dqYFW8r4lSRe",
        "outputId": "4af30362-59cb-4d9c-9247-2543a2457a58"
      },
      "source": [
        "filtered_sample_df[filtered_sample_df.speaker=='None'].empty"
      ],
      "execution_count": 13,
      "outputs": [
        {
          "output_type": "execute_result",
          "data": {
            "text/plain": [
              "True"
            ]
          },
          "metadata": {},
          "execution_count": 13
        }
      ]
    },
    {
      "cell_type": "markdown",
      "metadata": {
        "id": "xLMg_0cfl6pg"
      },
      "source": [
        "Now let us do this filtering for the remaining data of years 2015-2019."
      ]
    },
    {
      "cell_type": "code",
      "metadata": {
        "id": "AePNLWxAl6Vz"
      },
      "source": [
        "#filter_data(RAW_QUOTES_2019_PATH,QUOTES_2019_PATH)\n",
        "#filter_data(RAW_QUOTES_2018_PATH,QUOTES_2018_PATH)\n",
        "#filter_data(RAW_QUOTES_2017_PATH,QUOTES_2017_PATH)\n",
        "#filter_data(RAW_QUOTES_2016_PATH,QUOTES_2016_PATH)\n",
        "#filter_data(RAW_QUOTES_2015_PATH,QUOTES_2015_PATH)"
      ],
      "execution_count": 14,
      "outputs": []
    },
    {
      "cell_type": "markdown",
      "metadata": {
        "id": "hE3n5IX4M0qY",
        "tags": []
      },
      "source": [
        "## 3. Additional data set: speaker attributes\n",
        "<a id=\"speaker_attr\"></a>\n",
        "\n",
        "The filtered Quotebank years are ready. The next step consists of integrating speaker attributes from our additional data set."
      ]
    },
    {
      "cell_type": "markdown",
      "metadata": {
        "id": "7B7nQdaVuh34"
      },
      "source": [
        "### 3.1 Explore attributes\n",
        "<a id=\"explore_attr\"></a>\n"
      ]
    },
    {
      "cell_type": "code",
      "metadata": {
        "colab": {
          "base_uri": "https://localhost:8080/",
          "height": 357
        },
        "id": "GHP_sBCenkx_",
        "outputId": "8748449b-7445-46b9-c745-39e30abb30dd"
      },
      "source": [
        "# Load speaker attributes in df\n",
        "speakers_df = pd.read_parquet(SPEAKER_ATTRIBUTES_PATH)\n",
        "speakers_df.head()"
      ],
      "execution_count": 15,
      "outputs": [
        {
          "output_type": "execute_result",
          "data": {
            "text/html": [
              "<div>\n",
              "<style scoped>\n",
              "    .dataframe tbody tr th:only-of-type {\n",
              "        vertical-align: middle;\n",
              "    }\n",
              "\n",
              "    .dataframe tbody tr th {\n",
              "        vertical-align: top;\n",
              "    }\n",
              "\n",
              "    .dataframe thead th {\n",
              "        text-align: right;\n",
              "    }\n",
              "</style>\n",
              "<table border=\"1\" class=\"dataframe\">\n",
              "  <thead>\n",
              "    <tr style=\"text-align: right;\">\n",
              "      <th></th>\n",
              "      <th>aliases</th>\n",
              "      <th>date_of_birth</th>\n",
              "      <th>nationality</th>\n",
              "      <th>gender</th>\n",
              "      <th>lastrevid</th>\n",
              "      <th>ethnic_group</th>\n",
              "      <th>US_congress_bio_ID</th>\n",
              "      <th>occupation</th>\n",
              "      <th>party</th>\n",
              "      <th>academic_degree</th>\n",
              "      <th>id</th>\n",
              "      <th>label</th>\n",
              "      <th>candidacy</th>\n",
              "      <th>type</th>\n",
              "      <th>religion</th>\n",
              "    </tr>\n",
              "  </thead>\n",
              "  <tbody>\n",
              "    <tr>\n",
              "      <th>0</th>\n",
              "      <td>[Washington, President Washington, G. Washingt...</td>\n",
              "      <td>[+1732-02-22T00:00:00Z]</td>\n",
              "      <td>[Q161885, Q30]</td>\n",
              "      <td>[Q6581097]</td>\n",
              "      <td>1395141751</td>\n",
              "      <td>None</td>\n",
              "      <td>W000178</td>\n",
              "      <td>[Q82955, Q189290, Q131512, Q1734662, Q294126, ...</td>\n",
              "      <td>[Q327591]</td>\n",
              "      <td>None</td>\n",
              "      <td>Q23</td>\n",
              "      <td>George Washington</td>\n",
              "      <td>[Q698073, Q697949]</td>\n",
              "      <td>item</td>\n",
              "      <td>[Q682443]</td>\n",
              "    </tr>\n",
              "    <tr>\n",
              "      <th>1</th>\n",
              "      <td>[Douglas Noel Adams, Douglas Noël Adams, Dougl...</td>\n",
              "      <td>[+1952-03-11T00:00:00Z]</td>\n",
              "      <td>[Q145]</td>\n",
              "      <td>[Q6581097]</td>\n",
              "      <td>1395737157</td>\n",
              "      <td>[Q7994501]</td>\n",
              "      <td>None</td>\n",
              "      <td>[Q214917, Q28389, Q6625963, Q4853732, Q1884422...</td>\n",
              "      <td>None</td>\n",
              "      <td>None</td>\n",
              "      <td>Q42</td>\n",
              "      <td>Douglas Adams</td>\n",
              "      <td>None</td>\n",
              "      <td>item</td>\n",
              "      <td>None</td>\n",
              "    </tr>\n",
              "    <tr>\n",
              "      <th>2</th>\n",
              "      <td>[Paul Marie Ghislain Otlet, Paul Marie Otlet]</td>\n",
              "      <td>[+1868-08-23T00:00:00Z]</td>\n",
              "      <td>[Q31]</td>\n",
              "      <td>[Q6581097]</td>\n",
              "      <td>1380367296</td>\n",
              "      <td>None</td>\n",
              "      <td>None</td>\n",
              "      <td>[Q36180, Q40348, Q182436, Q1265807, Q205375, Q...</td>\n",
              "      <td>None</td>\n",
              "      <td>None</td>\n",
              "      <td>Q1868</td>\n",
              "      <td>Paul Otlet</td>\n",
              "      <td>None</td>\n",
              "      <td>item</td>\n",
              "      <td>None</td>\n",
              "    </tr>\n",
              "    <tr>\n",
              "      <th>3</th>\n",
              "      <td>[George Walker Bush, Bush Jr., Dubya, GWB, Bus...</td>\n",
              "      <td>[+1946-07-06T00:00:00Z]</td>\n",
              "      <td>[Q30]</td>\n",
              "      <td>[Q6581097]</td>\n",
              "      <td>1395142029</td>\n",
              "      <td>None</td>\n",
              "      <td>None</td>\n",
              "      <td>[Q82955, Q15982858, Q18814623, Q1028181, Q1408...</td>\n",
              "      <td>[Q29468]</td>\n",
              "      <td>None</td>\n",
              "      <td>Q207</td>\n",
              "      <td>George W. Bush</td>\n",
              "      <td>[Q327959, Q464075, Q3586276, Q4450587]</td>\n",
              "      <td>item</td>\n",
              "      <td>[Q329646, Q682443, Q33203]</td>\n",
              "    </tr>\n",
              "    <tr>\n",
              "      <th>4</th>\n",
              "      <td>[Velázquez, Diego Rodríguez de Silva y Velázqu...</td>\n",
              "      <td>[+1599-06-06T00:00:00Z]</td>\n",
              "      <td>[Q29]</td>\n",
              "      <td>[Q6581097]</td>\n",
              "      <td>1391704596</td>\n",
              "      <td>None</td>\n",
              "      <td>None</td>\n",
              "      <td>[Q1028181]</td>\n",
              "      <td>None</td>\n",
              "      <td>None</td>\n",
              "      <td>Q297</td>\n",
              "      <td>Diego Velázquez</td>\n",
              "      <td>None</td>\n",
              "      <td>item</td>\n",
              "      <td>None</td>\n",
              "    </tr>\n",
              "  </tbody>\n",
              "</table>\n",
              "</div>"
            ],
            "text/plain": [
              "                                             aliases  ...                    religion\n",
              "0  [Washington, President Washington, G. Washingt...  ...                   [Q682443]\n",
              "1  [Douglas Noel Adams, Douglas Noël Adams, Dougl...  ...                        None\n",
              "2      [Paul Marie Ghislain Otlet, Paul Marie Otlet]  ...                        None\n",
              "3  [George Walker Bush, Bush Jr., Dubya, GWB, Bus...  ...  [Q329646, Q682443, Q33203]\n",
              "4  [Velázquez, Diego Rodríguez de Silva y Velázqu...  ...                        None\n",
              "\n",
              "[5 rows x 15 columns]"
            ]
          },
          "metadata": {},
          "execution_count": 15
        }
      ]
    },
    {
      "cell_type": "markdown",
      "metadata": {
        "id": "R5OUmGsqnkyA"
      },
      "source": [
        "We aren't intersted in a lot of those columns. First of we'll remove all the unneccessary ones."
      ]
    },
    {
      "cell_type": "code",
      "metadata": {
        "id": "tdlSdBrbnkyA"
      },
      "source": [
        "# Remove unncessary columns\n",
        "speakers_df = speakers_df.drop(['lastrevid', 'US_congress_bio_ID', 'party', 'candidacy', 'type'], axis=1) "
      ],
      "execution_count": 19,
      "outputs": []
    },
    {
      "cell_type": "markdown",
      "metadata": {
        "id": "-ijhmvqAwDgH"
      },
      "source": [
        "And there seem to be no dublicates. Perfect."
      ]
    },
    {
      "cell_type": "code",
      "metadata": {
        "colab": {
          "base_uri": "https://localhost:8080/",
          "height": 49
        },
        "id": "o6qUQ_tPnkyC",
        "outputId": "b838d302-85e4-4195-ac5f-68703954367e"
      },
      "source": [
        "# Dublicates\n",
        "duplicates = speakers_df[speakers_df.duplicated(subset='id', keep='first')] \n",
        "duplicates.head()"
      ],
      "execution_count": 26,
      "outputs": [
        {
          "output_type": "execute_result",
          "data": {
            "text/html": [
              "<div>\n",
              "<style scoped>\n",
              "    .dataframe tbody tr th:only-of-type {\n",
              "        vertical-align: middle;\n",
              "    }\n",
              "\n",
              "    .dataframe tbody tr th {\n",
              "        vertical-align: top;\n",
              "    }\n",
              "\n",
              "    .dataframe thead th {\n",
              "        text-align: right;\n",
              "    }\n",
              "</style>\n",
              "<table border=\"1\" class=\"dataframe\">\n",
              "  <thead>\n",
              "    <tr style=\"text-align: right;\">\n",
              "      <th></th>\n",
              "      <th>aliases</th>\n",
              "      <th>date_of_birth</th>\n",
              "      <th>nationality</th>\n",
              "      <th>gender</th>\n",
              "      <th>ethnic_group</th>\n",
              "      <th>occupation</th>\n",
              "      <th>academic_degree</th>\n",
              "      <th>id</th>\n",
              "      <th>label</th>\n",
              "      <th>religion</th>\n",
              "    </tr>\n",
              "  </thead>\n",
              "  <tbody>\n",
              "  </tbody>\n",
              "</table>\n",
              "</div>"
            ],
            "text/plain": [
              "Empty DataFrame\n",
              "Columns: [aliases, date_of_birth, nationality, gender, ethnic_group, occupation, academic_degree, id, label, religion]\n",
              "Index: []"
            ]
          },
          "metadata": {},
          "execution_count": 26
        }
      ]
    },
    {
      "cell_type": "markdown",
      "metadata": {
        "id": "HsTU_34onkyA"
      },
      "source": [
        "We are mostly interested in the columns gender, academic_degree and nationality. Let's check how many 'None' values we have and remove them."
      ]
    },
    {
      "cell_type": "code",
      "metadata": {
        "colab": {
          "base_uri": "https://localhost:8080/"
        },
        "id": "Saxc_11ynkyB",
        "outputId": "faa5b562-676b-4a9b-d17a-495702f1a67a"
      },
      "source": [
        "# Fraction of lines with null gender : \n",
        "speakers_df[speakers_df.gender.isnull()].size / speakers_df.size"
      ],
      "execution_count": 20,
      "outputs": [
        {
          "output_type": "execute_result",
          "data": {
            "text/plain": [
              "0.21536937853557775"
            ]
          },
          "metadata": {},
          "execution_count": 20
        }
      ]
    },
    {
      "cell_type": "code",
      "metadata": {
        "colab": {
          "base_uri": "https://localhost:8080/"
        },
        "id": "IPwXvBnknkyB",
        "outputId": "5bdcc581-3a27-4ef7-9348-06cfe0edeb86"
      },
      "source": [
        "# Fraction of lines with null nationality\n",
        "speakers_df[speakers_df.nationality.isnull()].size / speakers_df.size"
      ],
      "execution_count": 22,
      "outputs": [
        {
          "output_type": "execute_result",
          "data": {
            "text/plain": [
              "0.5896797928352544"
            ]
          },
          "metadata": {},
          "execution_count": 22
        }
      ]
    },
    {
      "cell_type": "code",
      "metadata": {
        "colab": {
          "base_uri": "https://localhost:8080/"
        },
        "id": "mcvw9JjInkyB",
        "outputId": "51b71fd1-bba7-474c-c290-5c42a42dbdcb"
      },
      "source": [
        "# Fraction of lines with null date of birth\n",
        "speakers_df[speakers_df.date_of_birth.isnull()].size / speakers_df.size"
      ],
      "execution_count": 23,
      "outputs": [
        {
          "output_type": "execute_result",
          "data": {
            "text/plain": [
              "0.44596471657791686"
            ]
          },
          "metadata": {},
          "execution_count": 23
        }
      ]
    },
    {
      "cell_type": "code",
      "metadata": {
        "colab": {
          "base_uri": "https://localhost:8080/"
        },
        "id": "T61eijpbnkyD",
        "outputId": "ac6d9b81-0d5f-4b64-f5db-320d5ed1983c"
      },
      "source": [
        "# Fraction of lines with null ethnic_group\n",
        "speakers_df[speakers_df.ethnic_group.isnull()].size / speakers_df.size"
      ],
      "execution_count": 24,
      "outputs": [
        {
          "output_type": "execute_result",
          "data": {
            "text/plain": [
              "0.9856023328670853"
            ]
          },
          "metadata": {},
          "execution_count": 24
        }
      ]
    },
    {
      "cell_type": "code",
      "metadata": {
        "colab": {
          "base_uri": "https://localhost:8080/"
        },
        "id": "fvAfwuL4nkyD",
        "outputId": "301f71fb-0845-4b88-89af-57ba1eb5543b"
      },
      "source": [
        "# Fraction of lines with null religion\n",
        "speakers_df[speakers_df.religion.isnull()].size / speakers_df.size"
      ],
      "execution_count": 27,
      "outputs": [
        {
          "output_type": "execute_result",
          "data": {
            "text/plain": [
              "0.9783254845609769"
            ]
          },
          "metadata": {},
          "execution_count": 27
        }
      ]
    },
    {
      "cell_type": "code",
      "metadata": {
        "colab": {
          "base_uri": "https://localhost:8080/"
        },
        "id": "aSnJAxrhnkyD",
        "outputId": "30930455-17e5-4638-88df-775aea8ba752"
      },
      "source": [
        "# Fraction of lines with null label\n",
        "speakers_df[speakers_df.label.isnull()].size / speakers_df.size"
      ],
      "execution_count": 29,
      "outputs": [
        {
          "output_type": "execute_result",
          "data": {
            "text/plain": [
              "0.056570348369768"
            ]
          },
          "metadata": {},
          "execution_count": 29
        }
      ]
    },
    {
      "cell_type": "markdown",
      "metadata": {
        "id": "Y-CEUXOovqvN"
      },
      "source": [
        "We will remove 'None' gender columns and the ethnic group, religtion column"
      ]
    },
    {
      "cell_type": "code",
      "metadata": {
        "id": "DlgZwaiknkyC"
      },
      "source": [
        "# Remove null gender\n",
        "speakers_df = speakers_df.drop(speakers_df[speakers_df.gender.isnull()].index)"
      ],
      "execution_count": 34,
      "outputs": []
    },
    {
      "cell_type": "code",
      "metadata": {
        "id": "5cQ55NDpnkyC"
      },
      "source": [
        "# Remove ethnic group column as it has above 50% of null values\n",
        "speakers_df = speakers_df.drop('ethnic_group', axis=1)"
      ],
      "execution_count": 31,
      "outputs": []
    },
    {
      "cell_type": "code",
      "metadata": {
        "id": "8hfRQT9hnkyD"
      },
      "source": [
        "# Remove religion column as it has above 50% of null values : \n",
        "speakers_df = speakers_df.drop('religion', axis=1)"
      ],
      "execution_count": 32,
      "outputs": []
    },
    {
      "cell_type": "markdown",
      "metadata": {
        "id": "iutcEc41nkyE"
      },
      "source": [
        "### 3.2 Retrieve quotebank wikidata labels\n",
        "<a id=\"reatrieve_labels\"></a>\n",
        "\n"
      ]
    },
    {
      "cell_type": "code",
      "metadata": {
        "colab": {
          "base_uri": "https://localhost:8080/",
          "height": 235
        },
        "id": "7qWRgx-vnkyE",
        "outputId": "34b22745-e62d-480e-85c1-4a397d855d4f"
      },
      "source": [
        "labels = pd.read_csv(LABELS_WIKIDATA_PATH, compression='bz2', index_col='QID')\n",
        "labels.head()"
      ],
      "execution_count": 35,
      "outputs": [
        {
          "output_type": "execute_result",
          "data": {
            "text/html": [
              "<div>\n",
              "<style scoped>\n",
              "    .dataframe tbody tr th:only-of-type {\n",
              "        vertical-align: middle;\n",
              "    }\n",
              "\n",
              "    .dataframe tbody tr th {\n",
              "        vertical-align: top;\n",
              "    }\n",
              "\n",
              "    .dataframe thead th {\n",
              "        text-align: right;\n",
              "    }\n",
              "</style>\n",
              "<table border=\"1\" class=\"dataframe\">\n",
              "  <thead>\n",
              "    <tr style=\"text-align: right;\">\n",
              "      <th></th>\n",
              "      <th>Label</th>\n",
              "      <th>Description</th>\n",
              "    </tr>\n",
              "    <tr>\n",
              "      <th>QID</th>\n",
              "      <th></th>\n",
              "      <th></th>\n",
              "    </tr>\n",
              "  </thead>\n",
              "  <tbody>\n",
              "    <tr>\n",
              "      <th>Q31</th>\n",
              "      <td>Belgium</td>\n",
              "      <td>country in western Europe</td>\n",
              "    </tr>\n",
              "    <tr>\n",
              "      <th>Q45</th>\n",
              "      <td>Portugal</td>\n",
              "      <td>country in southwestern Europe</td>\n",
              "    </tr>\n",
              "    <tr>\n",
              "      <th>Q75</th>\n",
              "      <td>Internet</td>\n",
              "      <td>global system of connected computer networks</td>\n",
              "    </tr>\n",
              "    <tr>\n",
              "      <th>Q148</th>\n",
              "      <td>People's Republic of China</td>\n",
              "      <td>sovereign state in East Asia</td>\n",
              "    </tr>\n",
              "    <tr>\n",
              "      <th>Q155</th>\n",
              "      <td>Brazil</td>\n",
              "      <td>country in South America</td>\n",
              "    </tr>\n",
              "  </tbody>\n",
              "</table>\n",
              "</div>"
            ],
            "text/plain": [
              "                           Label                                   Description\n",
              "QID                                                                           \n",
              "Q31                      Belgium                     country in western Europe\n",
              "Q45                     Portugal                country in southwestern Europe\n",
              "Q75                     Internet  global system of connected computer networks\n",
              "Q148  People's Republic of China                  sovereign state in East Asia\n",
              "Q155                      Brazil                      country in South America"
            ]
          },
          "metadata": {},
          "execution_count": 35
        }
      ]
    },
    {
      "cell_type": "code",
      "metadata": {
        "colab": {
          "base_uri": "https://localhost:8080/"
        },
        "id": "m9mvJRWGnkyF",
        "outputId": "5815fee5-0a58-4c28-a472-2977275eb214"
      },
      "source": [
        "labels.Label.isnull().count()/labels.size"
      ],
      "execution_count": 36,
      "outputs": [
        {
          "output_type": "execute_result",
          "data": {
            "text/plain": [
              "0.5"
            ]
          },
          "metadata": {},
          "execution_count": 36
        }
      ]
    },
    {
      "cell_type": "code",
      "metadata": {
        "id": "STjin11mnkyF",
        "outputId": "ceba86f7-aaa5-4d73-9e80-2e9eb7c91180"
      },
      "source": [
        "#labels = labels.drop(labels[labels.Label.isnull()].index)\n",
        "labels.head()"
      ],
      "execution_count": null,
      "outputs": [
        {
          "data": {
            "text/html": [
              "<div>\n",
              "<style scoped>\n",
              "    .dataframe tbody tr th:only-of-type {\n",
              "        vertical-align: middle;\n",
              "    }\n",
              "\n",
              "    .dataframe tbody tr th {\n",
              "        vertical-align: top;\n",
              "    }\n",
              "\n",
              "    .dataframe thead th {\n",
              "        text-align: right;\n",
              "    }\n",
              "</style>\n",
              "<table border=\"1\" class=\"dataframe\">\n",
              "  <thead>\n",
              "    <tr style=\"text-align: right;\">\n",
              "      <th></th>\n",
              "      <th>Label</th>\n",
              "      <th>Description</th>\n",
              "    </tr>\n",
              "    <tr>\n",
              "      <th>QID</th>\n",
              "      <th></th>\n",
              "      <th></th>\n",
              "    </tr>\n",
              "  </thead>\n",
              "  <tbody>\n",
              "    <tr>\n",
              "      <th>Q31</th>\n",
              "      <td>Belgium</td>\n",
              "      <td>country in western Europe</td>\n",
              "    </tr>\n",
              "    <tr>\n",
              "      <th>Q45</th>\n",
              "      <td>Portugal</td>\n",
              "      <td>country in southwestern Europe</td>\n",
              "    </tr>\n",
              "    <tr>\n",
              "      <th>Q75</th>\n",
              "      <td>Internet</td>\n",
              "      <td>global system of connected computer networks</td>\n",
              "    </tr>\n",
              "    <tr>\n",
              "      <th>Q148</th>\n",
              "      <td>People's Republic of China</td>\n",
              "      <td>sovereign state in East Asia</td>\n",
              "    </tr>\n",
              "    <tr>\n",
              "      <th>Q155</th>\n",
              "      <td>Brazil</td>\n",
              "      <td>country in South America</td>\n",
              "    </tr>\n",
              "  </tbody>\n",
              "</table>\n",
              "</div>"
            ],
            "text/plain": [
              "                           Label                                   Description\n",
              "QID                                                                           \n",
              "Q31                      Belgium                     country in western Europe\n",
              "Q45                     Portugal                country in southwestern Europe\n",
              "Q75                     Internet  global system of connected computer networks\n",
              "Q148  People's Republic of China                  sovereign state in East Asia\n",
              "Q155                      Brazil                      country in South America"
            ]
          },
          "execution_count": 12,
          "metadata": {},
          "output_type": "execute_result"
        }
      ]
    },
    {
      "cell_type": "code",
      "metadata": {
        "id": "J3-n2OGLnkyF",
        "outputId": "91adc5e1-d561-437e-924b-8a070a02639d"
      },
      "source": [
        "labels.loc['Q6581097']['Label']"
      ],
      "execution_count": null,
      "outputs": [
        {
          "data": {
            "application/vnd.google.colaboratory.intrinsic+json": {
              "type": "string"
            },
            "text/plain": [
              "'male'"
            ]
          },
          "execution_count": 62,
          "metadata": {},
          "output_type": "execute_result"
        }
      ]
    },
    {
      "cell_type": "code",
      "metadata": {
        "id": "xwj6AWQVnkyG"
      },
      "source": [
        "#Replacing gender QUIDs by value\n",
        "#for index, row in speakers_df.iterrows():\n",
        "#  quid = row.loc['gender'][0]\n",
        "#  row.loc['gender'] = labels.loc[quid]['Label']\n",
        "#--> Not useful, replace only the ones needed"
      ],
      "execution_count": null,
      "outputs": []
    },
    {
      "cell_type": "markdown",
      "metadata": {
        "id": "SOVkv-qjnkyG"
      },
      "source": [
        "###Test with the 2019 New York Times Data (to addapt)"
      ]
    },
    {
      "cell_type": "code",
      "metadata": {
        "id": "9nuJCDKqnkyG",
        "outputId": "857cb2a0-c176-446e-ac60-9a443e4aefb5"
      },
      "source": [
        "df_quotesNY = pd.read_json('quotes-2019-nytimes.json', lines=True)\n",
        "df_quotesNY.head()"
      ],
      "execution_count": null,
      "outputs": [
        {
          "data": {
            "text/html": [
              "<div>\n",
              "<style scoped>\n",
              "    .dataframe tbody tr th:only-of-type {\n",
              "        vertical-align: middle;\n",
              "    }\n",
              "\n",
              "    .dataframe tbody tr th {\n",
              "        vertical-align: top;\n",
              "    }\n",
              "\n",
              "    .dataframe thead th {\n",
              "        text-align: right;\n",
              "    }\n",
              "</style>\n",
              "<table border=\"1\" class=\"dataframe\">\n",
              "  <thead>\n",
              "    <tr style=\"text-align: right;\">\n",
              "      <th></th>\n",
              "      <th>quoteID</th>\n",
              "      <th>quotation</th>\n",
              "      <th>speaker</th>\n",
              "      <th>qids</th>\n",
              "      <th>date</th>\n",
              "      <th>numOccurrences</th>\n",
              "      <th>probas</th>\n",
              "      <th>urls</th>\n",
              "      <th>phase</th>\n",
              "    </tr>\n",
              "  </thead>\n",
              "  <tbody>\n",
              "    <tr>\n",
              "      <th>0</th>\n",
              "      <td>2019-04-17-024782</td>\n",
              "      <td>It is not a low-income immigration,</td>\n",
              "      <td>James Fisher</td>\n",
              "      <td>[Q16213953, Q20707104, Q43143598, Q58886302, Q...</td>\n",
              "      <td>2019-04-17 13:31:18</td>\n",
              "      <td>1</td>\n",
              "      <td>[[James Fisher, 0.7475], [None, 0.2525]]</td>\n",
              "      <td>[https://www.nytimes.com/2019/04/17/realestate...</td>\n",
              "      <td>E</td>\n",
              "    </tr>\n",
              "    <tr>\n",
              "      <th>1</th>\n",
              "      <td>2019-04-02-001128</td>\n",
              "      <td>a champion figure skater switching to roller s...</td>\n",
              "      <td>John Updike</td>\n",
              "      <td>[Q105756]</td>\n",
              "      <td>2019-04-02 14:58:33</td>\n",
              "      <td>2</td>\n",
              "      <td>[[John Updike, 0.5856], [None, 0.4144]]</td>\n",
              "      <td>[https://www.nytimes.com/2019/04/02/opinion/vl...</td>\n",
              "      <td>E</td>\n",
              "    </tr>\n",
              "    <tr>\n",
              "      <th>2</th>\n",
              "      <td>2019-05-09-055187</td>\n",
              "      <td>It makes it much more difficult for him to mak...</td>\n",
              "      <td>None</td>\n",
              "      <td>[]</td>\n",
              "      <td>2019-05-09 18:11:29</td>\n",
              "      <td>1</td>\n",
              "      <td>[[None, 0.6493], [President Bill Clinton, 0.27...</td>\n",
              "      <td>[http://mobile.nytimes.com/2019/05/09/world/as...</td>\n",
              "      <td>E</td>\n",
              "    </tr>\n",
              "    <tr>\n",
              "      <th>3</th>\n",
              "      <td>2019-10-31-056366</td>\n",
              "      <td>It puts me in a predicament,</td>\n",
              "      <td>Xavier Becerra</td>\n",
              "      <td>[Q1855840]</td>\n",
              "      <td>2019-10-31 16:45:15</td>\n",
              "      <td>3</td>\n",
              "      <td>[[Xavier Becerra, 0.9065], [None, 0.0909], [St...</td>\n",
              "      <td>[http://www.nytimes.com/2019/10/31/technology/...</td>\n",
              "      <td>E</td>\n",
              "    </tr>\n",
              "    <tr>\n",
              "      <th>4</th>\n",
              "      <td>2019-01-04-001792</td>\n",
              "      <td>A Pile of Leaves.</td>\n",
              "      <td>None</td>\n",
              "      <td>[]</td>\n",
              "      <td>2019-01-04 10:00:07</td>\n",
              "      <td>1</td>\n",
              "      <td>[[None, 0.8737], [Jason Fulford, 0.1263]]</td>\n",
              "      <td>[https://www.nytimes.com/2019/01/04/books/revi...</td>\n",
              "      <td>E</td>\n",
              "    </tr>\n",
              "  </tbody>\n",
              "</table>\n",
              "</div>"
            ],
            "text/plain": [
              "             quoteID  ... phase\n",
              "0  2019-04-17-024782  ...     E\n",
              "1  2019-04-02-001128  ...     E\n",
              "2  2019-05-09-055187  ...     E\n",
              "3  2019-10-31-056366  ...     E\n",
              "4  2019-01-04-001792  ...     E\n",
              "\n",
              "[5 rows x 9 columns]"
            ]
          },
          "execution_count": 16,
          "metadata": {},
          "output_type": "execute_result"
        }
      ]
    },
    {
      "cell_type": "code",
      "metadata": {
        "id": "QQr7dwqpnkyG",
        "outputId": "a1fc0e5c-3fa2-414a-f9d0-f3229fe02088"
      },
      "source": [
        "#Filter null speaker \n",
        "df_quotesNY = df_quotesNY.drop(df_quotesNY[df_quotesNY.speaker == 'None'].index)\n",
        "df_quotesNY.head()"
      ],
      "execution_count": null,
      "outputs": [
        {
          "data": {
            "text/html": [
              "<div>\n",
              "<style scoped>\n",
              "    .dataframe tbody tr th:only-of-type {\n",
              "        vertical-align: middle;\n",
              "    }\n",
              "\n",
              "    .dataframe tbody tr th {\n",
              "        vertical-align: top;\n",
              "    }\n",
              "\n",
              "    .dataframe thead th {\n",
              "        text-align: right;\n",
              "    }\n",
              "</style>\n",
              "<table border=\"1\" class=\"dataframe\">\n",
              "  <thead>\n",
              "    <tr style=\"text-align: right;\">\n",
              "      <th></th>\n",
              "      <th>quoteID</th>\n",
              "      <th>quotation</th>\n",
              "      <th>speaker</th>\n",
              "      <th>qids</th>\n",
              "      <th>date</th>\n",
              "      <th>numOccurrences</th>\n",
              "      <th>probas</th>\n",
              "      <th>urls</th>\n",
              "      <th>phase</th>\n",
              "    </tr>\n",
              "  </thead>\n",
              "  <tbody>\n",
              "    <tr>\n",
              "      <th>0</th>\n",
              "      <td>2019-04-17-024782</td>\n",
              "      <td>It is not a low-income immigration,</td>\n",
              "      <td>James Fisher</td>\n",
              "      <td>[Q16213953, Q20707104, Q43143598, Q58886302, Q...</td>\n",
              "      <td>2019-04-17 13:31:18</td>\n",
              "      <td>1</td>\n",
              "      <td>[[James Fisher, 0.7475], [None, 0.2525]]</td>\n",
              "      <td>[https://www.nytimes.com/2019/04/17/realestate...</td>\n",
              "      <td>E</td>\n",
              "    </tr>\n",
              "    <tr>\n",
              "      <th>1</th>\n",
              "      <td>2019-04-02-001128</td>\n",
              "      <td>a champion figure skater switching to roller s...</td>\n",
              "      <td>John Updike</td>\n",
              "      <td>[Q105756]</td>\n",
              "      <td>2019-04-02 14:58:33</td>\n",
              "      <td>2</td>\n",
              "      <td>[[John Updike, 0.5856], [None, 0.4144]]</td>\n",
              "      <td>[https://www.nytimes.com/2019/04/02/opinion/vl...</td>\n",
              "      <td>E</td>\n",
              "    </tr>\n",
              "    <tr>\n",
              "      <th>3</th>\n",
              "      <td>2019-10-31-056366</td>\n",
              "      <td>It puts me in a predicament,</td>\n",
              "      <td>Xavier Becerra</td>\n",
              "      <td>[Q1855840]</td>\n",
              "      <td>2019-10-31 16:45:15</td>\n",
              "      <td>3</td>\n",
              "      <td>[[Xavier Becerra, 0.9065], [None, 0.0909], [St...</td>\n",
              "      <td>[http://www.nytimes.com/2019/10/31/technology/...</td>\n",
              "      <td>E</td>\n",
              "    </tr>\n",
              "    <tr>\n",
              "      <th>5</th>\n",
              "      <td>2019-08-15-002017</td>\n",
              "      <td>A Senator we can call our own.</td>\n",
              "      <td>Tom Rath</td>\n",
              "      <td>[Q7817334]</td>\n",
              "      <td>2019-08-15 22:36:33</td>\n",
              "      <td>1</td>\n",
              "      <td>[[Tom Rath, 0.7598], [None, 0.1993], [Warren R...</td>\n",
              "      <td>[http://www.nytimes.com/2019/08/15/us/politics...</td>\n",
              "      <td>E</td>\n",
              "    </tr>\n",
              "    <tr>\n",
              "      <th>8</th>\n",
              "      <td>2019-07-22-032883</td>\n",
              "      <td>It's a success, a relief and a technical feat,</td>\n",
              "      <td>Florence Parly</td>\n",
              "      <td>[Q3074013]</td>\n",
              "      <td>2019-07-22 02:37:50</td>\n",
              "      <td>21</td>\n",
              "      <td>[[Florence Parly, 0.9262], [None, 0.0738]]</td>\n",
              "      <td>[http://www.breitbart.com/news/french-submarin...</td>\n",
              "      <td>E</td>\n",
              "    </tr>\n",
              "  </tbody>\n",
              "</table>\n",
              "</div>"
            ],
            "text/plain": [
              "             quoteID  ... phase\n",
              "0  2019-04-17-024782  ...     E\n",
              "1  2019-04-02-001128  ...     E\n",
              "3  2019-10-31-056366  ...     E\n",
              "5  2019-08-15-002017  ...     E\n",
              "8  2019-07-22-032883  ...     E\n",
              "\n",
              "[5 rows x 9 columns]"
            ]
          },
          "execution_count": 22,
          "metadata": {},
          "output_type": "execute_result"
        }
      ]
    },
    {
      "cell_type": "code",
      "metadata": {
        "id": "3zwcbCoVnkyH"
      },
      "source": [
        "speaker_genders = speakers_df['gender']\n",
        "speaker_genders.value_counts()"
      ],
      "execution_count": null,
      "outputs": []
    },
    {
      "cell_type": "code",
      "metadata": {
        "id": "czjZcC6-nkyH",
        "outputId": "fa98b157-2b4d-4c3b-e9e7-d203f40bb097"
      },
      "source": [
        "print(labels.loc['Q1052281']['Label'],\n",
        "labels.loc['Q48270']['Label'],\n",
        "labels.loc['Q2449503']['Label'])"
      ],
      "execution_count": null,
      "outputs": [
        {
          "name": "stdout",
          "output_type": "stream",
          "text": [
            "transgender female non-binary transgender male\n"
          ]
        }
      ]
    },
    {
      "cell_type": "code",
      "metadata": {
        "id": "cB7Y6nYGnkyI"
      },
      "source": [
        "#Goal : struct dictionary{key = quote_id, value = dict{key=speaker_id, value = [genders per speaker]}}\n",
        "\n",
        "# Retrieve New York times speakers' gender, in the order of the quotations df\n",
        "dict_quote_id_genders = {}\n",
        "\n",
        "for NY_index, NY_row in df_quotesNY.iterrows(): #Loop over all quotes\n",
        "  quote_id = NY_row.quoteID #Future key in dict_quote_id_genders\n",
        "  id_aliases = NY_row.loc['qids'] \n",
        "  dict_genders_speaker = {} #Dict of genders per alias speaker\n",
        "  for id_speaker in id_aliases:\n",
        "    list_genders_speaker = [] #List of genders per alias speaker\n",
        "    id_genders_speaker = speakers_df.loc[speakers_df.id==id_speaker]['gender'].to_numpy() #List of all genders ID per speaker\n",
        "    for id_g in id_genders_speaker:\n",
        "      gender= labels.loc[id_g]['Label'].values #Gender value\n",
        "      list_genders_speaker.append(gender)\n",
        "    dict_genders_speaker[id_speaker] = list_genders_speaker\n",
        "    print(dict_genders_speaker)\n",
        "  dict_quote_id_genders[quote_id] = dict_genders_speaker"
      ],
      "execution_count": null,
      "outputs": []
    },
    {
      "cell_type": "code",
      "metadata": {
        "id": "4-NF9JuAnkyI"
      },
      "source": [
        "# Add gender column\n",
        "df_quotesNY.insert(3, 'gender', speakerGender)"
      ],
      "execution_count": null,
      "outputs": []
    },
    {
      "cell_type": "markdown",
      "metadata": {
        "id": "Bh9eaDhyM0qY"
      },
      "source": [
        "## 4 Data exploration and cleaning\n",
        "<a id=\"data_explore_clean\"></a>"
      ]
    },
    {
      "cell_type": "markdown",
      "metadata": {
        "id": "rz1MVvi7M0qY"
      },
      "source": [
        "### 4.1 Import prepared data\n",
        "<a id=\"import_prep_data\"></a>"
      ]
    },
    {
      "cell_type": "markdown",
      "metadata": {
        "id": "XYNJ-AqbM0qZ"
      },
      "source": [
        "### 4.2 Set the index\n",
        "<a id=\"set_index\"></a>"
      ]
    },
    {
      "cell_type": "markdown",
      "metadata": {
        "id": "WhCpq9plM0qZ"
      },
      "source": [
        "### 4.3 Save cleaned data frame as pickle\n",
        "<a id=\"save_pickle\"></a>"
      ]
    },
    {
      "cell_type": "markdown",
      "metadata": {
        "id": "L8O0LkrcM0qZ"
      },
      "source": [
        "## 5 Research questions\n",
        "<a id=\"research_questions\"></a>"
      ]
    },
    {
      "cell_type": "markdown",
      "metadata": {
        "id": "0L3aW7ndM0qZ"
      },
      "source": [
        "### 5.1 Load pickled dataframes\n",
        "<a id=\"load_pickle\"></a>"
      ]
    }
  ]
}
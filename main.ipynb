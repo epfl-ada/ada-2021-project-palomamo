{
  "nbformat": 4,
  "nbformat_minor": 0,
  "metadata": {
    "colab": {
      "name": "Copy of main.ipynb",
      "provenance": [],
      "collapsed_sections": [],
      "include_colab_link": true
    },
    "kernelspec": {
      "display_name": "Python 3 (ipykernel)",
      "language": "python",
      "name": "python3"
    },
    "language_info": {
      "codemirror_mode": {
        "name": "ipython",
        "version": 3
      },
      "file_extension": ".py",
      "mimetype": "text/x-python",
      "name": "python",
      "nbconvert_exporter": "python",
      "pygments_lexer": "ipython3",
      "version": "3.8.11"
    }
  },
  "cells": [
    {
      "cell_type": "markdown",
      "metadata": {
        "id": "view-in-github",
        "colab_type": "text"
      },
      "source": [
        "<a href=\"https://colab.research.google.com/github/morwald/ada_project/blob/main/main.ipynb\" target=\"_parent\"><img src=\"https://colab.research.google.com/assets/colab-badge.svg\" alt=\"Open In Colab\"/></a>"
      ]
    },
    {
      "cell_type": "markdown",
      "metadata": {
        "id": "7txCTyrTM0qJ"
      },
      "source": [
        "# Analysis of gender distribution in UK's leading newspapers"
      ]
    },
    {
      "cell_type": "markdown",
      "metadata": {
        "id": "wEzY5GJ5M0qO"
      },
      "source": [
        "This notebook serves as a first presentation of our project for milestone 2. It is structured and written in such  a way that we can directly continue on it for milestone 3."
      ]
    },
    {
      "cell_type": "markdown",
      "metadata": {
        "id": "ucef3_UkM0qP"
      },
      "source": [
        "## Content\n",
        "1. [Setup](#setup)   \n",
        "    1.1 [Imports](#imports)  \n",
        "    1.2 [Data paths](#data_paths)   \n",
        "    1.3 [Utility functions](#utility_functions)   \n",
        "2. [Data preparation and cleaning](#data_prep)    \n",
        "    2.1 [Columns and rows selection](#cols_rows_select)  \n",
        "    2.2 [News paper selection](#newspaper_select)\n",
        "3. [Additional data set: speaker attributes](#additional_dataset)    \n",
        "    3.1 [Explore attributes](#explore_attr)  \n",
        "    3.2 [Merge speaker attributes](#merge_speaker_attr)    \n",
        "    3.3 [Save cleaned data as pickle](#save_pickle)                \n",
        "4. [Research questions](#research_question)"
      ]
    },
    {
      "cell_type": "markdown",
      "metadata": {
        "id": "owgTJarZM0qP"
      },
      "source": [
        "## 1. Setup\n",
        "<a id=\"setup\"></a>"
      ]
    },
    {
      "cell_type": "markdown",
      "metadata": {
        "id": "5yqsvZuAM0qQ"
      },
      "source": [
        "### 1.1 Imports\n",
        "<a id=\"imports\"></a>"
      ]
    },
    {
      "cell_type": "code",
      "metadata": {
        "id": "GFoAWQprM0qQ"
      },
      "source": [
        "import pandas as pd\n",
        "import numpy as np\n",
        "import json\n",
        "import bz2\n",
        "import seaborn as sns"
      ],
      "execution_count": 1,
      "outputs": []
    },
    {
      "cell_type": "markdown",
      "metadata": {
        "id": "KKWfSxjgM0qR"
      },
      "source": [
        "### 1.2 Data paths\n",
        "<a id=\"data_paths\"></a>\n",
        "\n",
        "**Important**: When using Google Colab the ```use_colab``` variable has to be set to true. This way the files can be accessed directly from our shared drive. If you wan't to work locally the raw and filtered data have to be stored locally in the root folder under _Quotebank_ and _Filtered data_. The finally merged and cleaned data will be stored in _Cleaned data_. To execute section the [Data preparation and cleaning](#data_prep) the raw data in the folder _Quotebank_ is needed but this section has to be executed only once.\n",
        "\n",
        "You can download the raw data here: [Quotebank](https://zenodo.org/record/4277311#.YYzk6_oo9hE)\n",
        "\n",
        "The addtional dataset can be found here: [Speakers](https://drive.google.com/drive/folders/1VAFHacZFh0oxSxilgNByb1nlNsqznUf0)"
      ]
    },
    {
      "cell_type": "code",
      "metadata": {
        "id": "XgjGqxuSnkx2"
      },
      "source": [
        "# Comment the files which aren't stored locally\n",
        "# In Colab everything should be available\n",
        "RAW_QUOTES_2020_PATH = 'Quotebank/quotes-2020.json.bz2' \n",
        "FILTERED_QUOTES_2020_PATH = 'Filtered data/quotes-2020-gb.json.bz2'\n",
        "QUOTES_2020_PATH = 'Cleaned data/quotes-2020-gb.pkl'\n",
        "\n",
        "#RAW_QUOTES_2019_PATH = 'Quotebank/quotes-2019.json.bz2' \n",
        "FILTERED_QUOTES_2019_PATH = 'Filtered data/quotes-2019-gb.json.bz2'\n",
        "QUOTES_2019_PATH = 'Cleaned data/quotes-2019-gb.pkl' \n",
        "\n",
        "#RAW_QUOTES_2018_PATH = 'Quotebank/quotes-2018.json.bz2' \n",
        "FILTERED_QUOTES_2018_PATH = 'Filtered data/quotes-2018-gb.json.bz2'\n",
        "QUOTES_2018_PATH = 'Cleaned data/quotes-2018-gb.pkl' \n",
        "\n",
        "#RAW_QUOTES_2017_PATH = 'Quotebank/quotes-2017.json.bz2' \n",
        "FILTERED_QUOTES_2017_PATH = 'Filtered data/quotes-2017-gb.json.bz2' \n",
        "QUOTES_2017_PATH = 'Cleaned data/quotes-2017-gb.pkl'\n",
        "\n",
        "#RAW_QUOTES_2016_PATH = 'raw_data/quotes-2016.json.bz2' \n",
        "FILTERED_QUOTES_2016_PATH = 'Filtered data/quotes-2016-gb.json.bz2'\n",
        "QUOTES_2016_PATH = 'Cleaned data/quotes-2016-gb.pkl'\n",
        "\n",
        "#RAW_QUOTES_2015_PATH = 'raw_data/quotes-2015.json.bz2' \n",
        "FILTERED_QUOTES_2015_PATH = 'Filtered data/quotes-2015-gb.json.bz2'\n",
        "QUOTES_2015_PATH = 'Cleaned data/quotes-2015-gb.pkl'\n",
        "\n",
        "# Additional data set\n",
        "SPEAKER_ATTRIBUTES_PATH = 'Project datasets/speaker_attributes.parquet'\n",
        "LABELS_WIKIDATA_PATH = 'Project datasets/wikidata_labels_descriptions_quotebank.csv.bz2'"
      ],
      "execution_count": 2,
      "outputs": []
    },
    {
      "cell_type": "code",
      "metadata": {
        "id": "hzfP-W7znkx3"
      },
      "source": [
        "# Change to true if you want to use google colab\n",
        "use_colab = True"
      ],
      "execution_count": 3,
      "outputs": []
    },
    {
      "cell_type": "markdown",
      "metadata": {
        "id": "qefk9v2tSmnT"
      },
      "source": [
        "We mount the drive and go to the our shared directory if necessary."
      ]
    },
    {
      "cell_type": "code",
      "metadata": {
        "id": "TYbQA-9aNUeC",
        "colab": {
          "base_uri": "https://localhost:8080/"
        },
        "outputId": "d6dfb8fc-7b77-42dd-b0cb-cde0b3bf7055"
      },
      "source": [
        "# Import with EPFL google drive!\n",
        "if use_colab:\n",
        "    from google.colab import drive\n",
        "    drive.mount('/content/drive', force_remount=True)\n",
        "    \n",
        "    %cd /content/drive/Shareddrives/ADA-project"
      ],
      "execution_count": 6,
      "outputs": [
        {
          "output_type": "stream",
          "name": "stdout",
          "text": [
            "Mounted at /content/drive\n",
            "/content/drive/Shareddrives/ADA-project\n"
          ]
        }
      ]
    },
    {
      "cell_type": "markdown",
      "metadata": {
        "id": "02ADHNIxSvDl"
      },
      "source": [
        "We have to install an older version of pandas in order to be able to use the 'chunksize' feature in colab."
      ]
    },
    {
      "cell_type": "code",
      "metadata": {
        "colab": {
          "base_uri": "https://localhost:8080/"
        },
        "id": "24i5C-GlRwGW",
        "outputId": "47a18fe9-9532-49ee-8fb3-d4825b8d6579"
      },
      "source": [
        "if use_colab:\n",
        "    !pip install pandas==1.0.5\n",
        "\n",
        "    # Reimport\n",
        "    import pandas as pd\n",
        "    print(pd.__version__)"
      ],
      "execution_count": 5,
      "outputs": [
        {
          "output_type": "stream",
          "name": "stdout",
          "text": [
            "Requirement already satisfied: pandas==1.0.5 in /usr/local/lib/python3.7/dist-packages (1.0.5)\n",
            "Requirement already satisfied: python-dateutil>=2.6.1 in /usr/local/lib/python3.7/dist-packages (from pandas==1.0.5) (2.8.2)\n",
            "Requirement already satisfied: numpy>=1.13.3 in /usr/local/lib/python3.7/dist-packages (from pandas==1.0.5) (1.19.5)\n",
            "Requirement already satisfied: pytz>=2017.2 in /usr/local/lib/python3.7/dist-packages (from pandas==1.0.5) (2018.9)\n",
            "Requirement already satisfied: six>=1.5 in /usr/local/lib/python3.7/dist-packages (from python-dateutil>=2.6.1->pandas==1.0.5) (1.15.0)\n",
            "1.0.5\n"
          ]
        }
      ]
    },
    {
      "cell_type": "markdown",
      "metadata": {
        "id": "KymkAGpdM0qT"
      },
      "source": [
        "### 1.3 Utility functions\n",
        "<a id=\"utility_functions\"></a>"
      ]
    },
    {
      "cell_type": "code",
      "metadata": {
        "id": "tAN-njz8SJ2z"
      },
      "source": [
        "def load_mini_version_of_data(path_to_file, chunksize, nb_chunks):\n",
        "    \"\"\"\n",
        "    Returns a mini dataframe from of a bz2 compressed json file.\n",
        "    :path_to_file   file path as string\n",
        "    :chunksize      size to iterate\n",
        "    :nb_chunks      how many chunks\n",
        "    :return         pandas.DataFrame with chunksize*nb_chunks of rows\n",
        "    \"\"\"\n",
        "    \n",
        "    curr_chunk = 0\n",
        "    chunk_list = []\n",
        "    \n",
        "    if use_colab:\n",
        "          for chunk in pd.read_json(path_to_file, lines=True, compression='bz2', chunksize=chunksize):\n",
        "              if curr_chunk == nb_chunks:\n",
        "                  break\n",
        "              curr_chunk = curr_chunk + 1\n",
        "              chunk_list.append(chunk)\n",
        "    else:\n",
        "      with pd.read_json(path_to_file, lines=True, compression='bz2', chunksize=chunksize) as df_reader:\n",
        "          for chunk in df_reader:\n",
        "              if curr_chunk == nb_chunks:\n",
        "                  break\n",
        "          \n",
        "              curr_chunk = curr_chunk + 1\n",
        "              chunk_list.append(chunk)\n",
        "    \n",
        "    df = pd.concat(chunk_list)\n",
        "    return df"
      ],
      "execution_count": null,
      "outputs": []
    },
    {
      "cell_type": "markdown",
      "metadata": {
        "id": "e3X94ETfM0qU"
      },
      "source": [
        "## 2. Data preparation and cleaning\n",
        "<a id=\"data_prep\"></a>\n",
        "\n",
        "The quotebank dataset is too large to directly access it with a dataframe. This section provides all the steps to filter the data we need for our analysis. The filtering and preparation is done based on our research question. Please check the README for details. Further explanations will be given under [Research question](#research_question).\n",
        "\n",
        "The data preperation can be done on a per year basis of the Quotebank data set."
      ]
    },
    {
      "cell_type": "markdown",
      "metadata": {
        "id": "0aBizKy0M0qV"
      },
      "source": [
        "### 2.1 Column and row selection\n",
        "<a id=\"cols_rows_select\"></a>"
      ]
    },
    {
      "cell_type": "code",
      "metadata": {
        "id": "DDiGK7IoM0qV",
        "colab": {
          "base_uri": "https://localhost:8080/",
          "height": 374
        },
        "outputId": "e2765a01-583e-4795-c84a-7a55d3531f62"
      },
      "source": [
        "# A quick look at a small subset of the data of the selected year\n",
        "year_sample_df = load_mini_version_of_data(RAW_QUOTES_2020_PATH, 10000, 10)\n",
        "year_sample_df.head()"
      ],
      "execution_count": null,
      "outputs": [
        {
          "output_type": "execute_result",
          "data": {
            "text/html": [
              "<div>\n",
              "<style scoped>\n",
              "    .dataframe tbody tr th:only-of-type {\n",
              "        vertical-align: middle;\n",
              "    }\n",
              "\n",
              "    .dataframe tbody tr th {\n",
              "        vertical-align: top;\n",
              "    }\n",
              "\n",
              "    .dataframe thead th {\n",
              "        text-align: right;\n",
              "    }\n",
              "</style>\n",
              "<table border=\"1\" class=\"dataframe\">\n",
              "  <thead>\n",
              "    <tr style=\"text-align: right;\">\n",
              "      <th></th>\n",
              "      <th>quoteID</th>\n",
              "      <th>quotation</th>\n",
              "      <th>speaker</th>\n",
              "      <th>qids</th>\n",
              "      <th>date</th>\n",
              "      <th>numOccurrences</th>\n",
              "      <th>probas</th>\n",
              "      <th>urls</th>\n",
              "      <th>phase</th>\n",
              "    </tr>\n",
              "  </thead>\n",
              "  <tbody>\n",
              "    <tr>\n",
              "      <th>0</th>\n",
              "      <td>2020-01-28-000082</td>\n",
              "      <td>[ D ] espite the efforts of the partners to cr...</td>\n",
              "      <td>None</td>\n",
              "      <td>[]</td>\n",
              "      <td>2020-01-28 08:04:05</td>\n",
              "      <td>1</td>\n",
              "      <td>[[None, 0.7272], [Prime Minister Netanyahu, 0....</td>\n",
              "      <td>[http://israelnationalnews.com/News/News.aspx/...</td>\n",
              "      <td>E</td>\n",
              "    </tr>\n",
              "    <tr>\n",
              "      <th>1</th>\n",
              "      <td>2020-01-16-000088</td>\n",
              "      <td>[ Department of Homeland Security ] was livid ...</td>\n",
              "      <td>Sue Myrick</td>\n",
              "      <td>[Q367796]</td>\n",
              "      <td>2020-01-16 12:00:13</td>\n",
              "      <td>1</td>\n",
              "      <td>[[Sue Myrick, 0.8867], [None, 0.0992], [Ron Wy...</td>\n",
              "      <td>[http://thehill.com/opinion/international/4782...</td>\n",
              "      <td>E</td>\n",
              "    </tr>\n",
              "    <tr>\n",
              "      <th>2</th>\n",
              "      <td>2020-02-10-000142</td>\n",
              "      <td>... He (Madhav) also disclosed that the illega...</td>\n",
              "      <td>None</td>\n",
              "      <td>[]</td>\n",
              "      <td>2020-02-10 23:45:54</td>\n",
              "      <td>1</td>\n",
              "      <td>[[None, 0.8926], [Prakash Rai, 0.1074]]</td>\n",
              "      <td>[https://indianexpress.com/article/business/ec...</td>\n",
              "      <td>E</td>\n",
              "    </tr>\n",
              "    <tr>\n",
              "      <th>3</th>\n",
              "      <td>2020-02-15-000053</td>\n",
              "      <td>... [ I ] f it gets to the floor,</td>\n",
              "      <td>None</td>\n",
              "      <td>[]</td>\n",
              "      <td>2020-02-15 14:12:51</td>\n",
              "      <td>2</td>\n",
              "      <td>[[None, 0.581], [Andy Harris, 0.4191]]</td>\n",
              "      <td>[https://patriotpost.us/opinion/68622-trump-bu...</td>\n",
              "      <td>E</td>\n",
              "    </tr>\n",
              "    <tr>\n",
              "      <th>4</th>\n",
              "      <td>2020-01-24-000168</td>\n",
              "      <td>[ I met them ] when they just turned 4 and 7. ...</td>\n",
              "      <td>Meghan King Edmonds</td>\n",
              "      <td>[Q20684375]</td>\n",
              "      <td>2020-01-24 20:37:09</td>\n",
              "      <td>4</td>\n",
              "      <td>[[Meghan King Edmonds, 0.5446], [None, 0.2705]...</td>\n",
              "      <td>[https://people.com/parents/meghan-king-edmond...</td>\n",
              "      <td>E</td>\n",
              "    </tr>\n",
              "  </tbody>\n",
              "</table>\n",
              "</div>"
            ],
            "text/plain": [
              "             quoteID  ... phase\n",
              "0  2020-01-28-000082  ...     E\n",
              "1  2020-01-16-000088  ...     E\n",
              "2  2020-02-10-000142  ...     E\n",
              "3  2020-02-15-000053  ...     E\n",
              "4  2020-01-24-000168  ...     E\n",
              "\n",
              "[5 rows x 9 columns]"
            ]
          },
          "metadata": {},
          "execution_count": 7
        }
      ]
    },
    {
      "cell_type": "code",
      "metadata": {
        "colab": {
          "base_uri": "https://localhost:8080/"
        },
        "id": "hBzK83L9M0qW",
        "scrolled": true,
        "outputId": "e33410f8-4433-40b0-e200-ac366c3267b9"
      },
      "source": [
        "# How many quotations don't have an assigned speaker?\n",
        "sum(year_sample_df['speaker'] == 'None')"
      ],
      "execution_count": null,
      "outputs": [
        {
          "output_type": "execute_result",
          "data": {
            "text/plain": [
              "34316"
            ]
          },
          "metadata": {},
          "execution_count": 8
        }
      ]
    },
    {
      "cell_type": "markdown",
      "metadata": {
        "id": "DH6Hbvv_M0qW"
      },
      "source": [
        "The cell above shows that there around 1/3 of the quotations are 'None' speakers. As we want to make a gender based study will will not need these rows. This eliminitation will drasticly reduce the size of the data we have to analyse.\n",
        "\n",
        "Furthermore the colums which aren't of interest for our study are:\\\n",
        "**phase**: We don't care. \\\n",
        "**probas**: We will select the speaker with highest probablity (note that 'None' speakers are already neglected)."
      ]
    },
    {
      "cell_type": "markdown",
      "metadata": {
        "id": "Mw_WR9hCM0qX"
      },
      "source": [
        "### 2.2 Newspaper selection\n",
        "<a id=\"nespaper_select\"></a>\n",
        "In a first analysis we will pick quotations of **3** of the top 12 UKs newspapers with the most reach both in prints and digital reach. See [this](https://www.statista.com/statistics/246077/reach-of-selected-national-newspapers-in-the-uk/) statistic for more details."
      ]
    },
    {
      "cell_type": "code",
      "metadata": {
        "id": "MqiT955RM0qX",
        "colab": {
          "base_uri": "https://localhost:8080/",
          "height": 142
        },
        "outputId": "92eb77d7-d80d-41d6-8cef-e9da7f03c676"
      },
      "source": [
        "# List of selected newspapers and their urls\n",
        "newspapers_list = [['The Sun', 'thesun.co.uk'], \n",
        "                  ['The Guardian', 'theguardian.com'],\n",
        "                  ['The Times', 'thetimes.co.uk']]\n",
        "\n",
        "# Dataframe\n",
        "newspapers_df = pd.DataFrame(newspapers_list, columns = ['name', 'website_url'])\n",
        "newspapers_df.head()"
      ],
      "execution_count": null,
      "outputs": [
        {
          "output_type": "execute_result",
          "data": {
            "text/html": [
              "<div>\n",
              "<style scoped>\n",
              "    .dataframe tbody tr th:only-of-type {\n",
              "        vertical-align: middle;\n",
              "    }\n",
              "\n",
              "    .dataframe tbody tr th {\n",
              "        vertical-align: top;\n",
              "    }\n",
              "\n",
              "    .dataframe thead th {\n",
              "        text-align: right;\n",
              "    }\n",
              "</style>\n",
              "<table border=\"1\" class=\"dataframe\">\n",
              "  <thead>\n",
              "    <tr style=\"text-align: right;\">\n",
              "      <th></th>\n",
              "      <th>name</th>\n",
              "      <th>website_url</th>\n",
              "    </tr>\n",
              "  </thead>\n",
              "  <tbody>\n",
              "    <tr>\n",
              "      <th>0</th>\n",
              "      <td>The Sun</td>\n",
              "      <td>thesun.co.uk</td>\n",
              "    </tr>\n",
              "    <tr>\n",
              "      <th>1</th>\n",
              "      <td>The Guardian</td>\n",
              "      <td>theguardian.com</td>\n",
              "    </tr>\n",
              "    <tr>\n",
              "      <th>2</th>\n",
              "      <td>The Times</td>\n",
              "      <td>thetimes.co.uk</td>\n",
              "    </tr>\n",
              "  </tbody>\n",
              "</table>\n",
              "</div>"
            ],
            "text/plain": [
              "           name      website_url\n",
              "0       The Sun     thesun.co.uk\n",
              "1  The Guardian  theguardian.com\n",
              "2     The Times   thetimes.co.uk"
            ]
          },
          "metadata": {},
          "execution_count": 9
        }
      ]
    },
    {
      "cell_type": "markdown",
      "metadata": {
        "id": "7PSbHGGtM0qX"
      },
      "source": [
        "### 2.3 Filtering raw data\n",
        "<a id=\"filter_raw_data\"></a>\n",
        "\n",
        "Following the reasoning above we can extract the infos needed from the compressed file of one year of quotations. Let's create a helper function to check the urls of a quotation:"
      ]
    },
    {
      "cell_type": "code",
      "metadata": {
        "id": "902eh0g-cu78"
      },
      "source": [
        "def filter_data(path_in, path_out):\n",
        "  # Loop through all instances of json file and extract the desired rows\n",
        "  # Save the file in the filtered data directory\n",
        "  with bz2.open(path_in, 'rb') as s_file:\n",
        "      with bz2.open(path_out, 'wb') as d_file:\n",
        "          for instance in s_file:\n",
        "              instance = json.loads(instance) # loading a sample\n",
        "              if instance['speaker'] == 'None':\n",
        "                  continue\n",
        "              urls = instance['urls'] # extracting list of links\n",
        "              newspapers = []\n",
        "              for url in urls:\n",
        "                  for name, website_url in zip(newspapers_df['name'],newspapers_df['website_url']):\n",
        "                      if website_url in url:\n",
        "                          if name not in newspapers: # to not have any dublicates \n",
        "                              newspapers.append(name)\n",
        "                  instance['newspapers'] = newspapers # updating the sample with domain name\n",
        "              # We remove unnecessary columns\n",
        "              instance.pop('probas')\n",
        "              instance.pop('phase')\n",
        "              # If there is a newspaper that we want to keep we write the instance to the output file\n",
        "              if newspapers: \n",
        "                d_file.write((json.dumps(instance)+'\\n').encode('utf-8')) # writing in the new file\n",
        "                "
      ],
      "execution_count": null,
      "outputs": []
    },
    {
      "cell_type": "code",
      "metadata": {
        "id": "iPJda6mObZja"
      },
      "source": [
        "#filter_data(RAW_QUOTES_2020_PATH,FILTERED_QUOTES_2020_PATH)"
      ],
      "execution_count": null,
      "outputs": []
    },
    {
      "cell_type": "code",
      "metadata": {
        "colab": {
          "base_uri": "https://localhost:8080/",
          "height": 323
        },
        "id": "APW1C9ivsu-G",
        "outputId": "b43f2db0-bb04-4f47-b9ba-89b4618bd624"
      },
      "source": [
        "# We check that the new file contains the right data\n",
        "filtered_sample_df = load_mini_version_of_data(QUOTES_2020_PATH, 10000, 10)\n",
        "filtered_sample_df.head()"
      ],
      "execution_count": null,
      "outputs": [
        {
          "output_type": "execute_result",
          "data": {
            "text/html": [
              "<div>\n",
              "<style scoped>\n",
              "    .dataframe tbody tr th:only-of-type {\n",
              "        vertical-align: middle;\n",
              "    }\n",
              "\n",
              "    .dataframe tbody tr th {\n",
              "        vertical-align: top;\n",
              "    }\n",
              "\n",
              "    .dataframe thead th {\n",
              "        text-align: right;\n",
              "    }\n",
              "</style>\n",
              "<table border=\"1\" class=\"dataframe\">\n",
              "  <thead>\n",
              "    <tr style=\"text-align: right;\">\n",
              "      <th></th>\n",
              "      <th>quoteID</th>\n",
              "      <th>quotation</th>\n",
              "      <th>speaker</th>\n",
              "      <th>qids</th>\n",
              "      <th>date</th>\n",
              "      <th>numOccurrences</th>\n",
              "      <th>urls</th>\n",
              "      <th>newspapers</th>\n",
              "    </tr>\n",
              "  </thead>\n",
              "  <tbody>\n",
              "    <tr>\n",
              "      <th>0</th>\n",
              "      <td>2020-01-31-008580</td>\n",
              "      <td>As you reach or have reached the apex of your ...</td>\n",
              "      <td>Keyon Dooling</td>\n",
              "      <td>[Q304349]</td>\n",
              "      <td>2020-01-31 19:07:55</td>\n",
              "      <td>1</td>\n",
              "      <td>[https://www.theguardian.com/sport/2020/jan/31...</td>\n",
              "      <td>[The Guardian]</td>\n",
              "    </tr>\n",
              "    <tr>\n",
              "      <th>1</th>\n",
              "      <td>2020-01-20-006469</td>\n",
              "      <td>At the same time we want to remain friends wit...</td>\n",
              "      <td>Tim Martin</td>\n",
              "      <td>[Q20670776, Q20713880, Q7803899, Q7803900]</td>\n",
              "      <td>2020-01-20 09:08:24</td>\n",
              "      <td>4</td>\n",
              "      <td>[https://www.dailystar.co.uk/real-life/wethers...</td>\n",
              "      <td>[The Sun]</td>\n",
              "    </tr>\n",
              "    <tr>\n",
              "      <th>2</th>\n",
              "      <td>2020-04-03-006933</td>\n",
              "      <td>Been home-schooling a 6-year-old and 8-year-ol...</td>\n",
              "      <td>Shonda Rhimes</td>\n",
              "      <td>[Q242329]</td>\n",
              "      <td>2020-04-03 16:00:00</td>\n",
              "      <td>1</td>\n",
              "      <td>[http://www.thetimes.co.uk/edition/magazine/ca...</td>\n",
              "      <td>[The Times]</td>\n",
              "    </tr>\n",
              "    <tr>\n",
              "      <th>3</th>\n",
              "      <td>2020-04-15-018814</td>\n",
              "      <td>I am now in agreement that we should move forw...</td>\n",
              "      <td>David Boies</td>\n",
              "      <td>[Q5231515]</td>\n",
              "      <td>2020-04-15 15:46:38</td>\n",
              "      <td>1</td>\n",
              "      <td>[https://www.thesun.co.uk/news/11403669/jeffre...</td>\n",
              "      <td>[The Sun]</td>\n",
              "    </tr>\n",
              "    <tr>\n",
              "      <th>4</th>\n",
              "      <td>2020-02-16-014286</td>\n",
              "      <td>I don't want to make a career out of [ remakin...</td>\n",
              "      <td>Ramiro Gomez</td>\n",
              "      <td>[Q30693403, Q43130877]</td>\n",
              "      <td>2020-02-16 15:00:32</td>\n",
              "      <td>1</td>\n",
              "      <td>[https://www.theguardian.com/artanddesign/2020...</td>\n",
              "      <td>[The Guardian]</td>\n",
              "    </tr>\n",
              "  </tbody>\n",
              "</table>\n",
              "</div>"
            ],
            "text/plain": [
              "             quoteID  ...      newspapers\n",
              "0  2020-01-31-008580  ...  [The Guardian]\n",
              "1  2020-01-20-006469  ...       [The Sun]\n",
              "2  2020-04-03-006933  ...     [The Times]\n",
              "3  2020-04-15-018814  ...       [The Sun]\n",
              "4  2020-02-16-014286  ...  [The Guardian]\n",
              "\n",
              "[5 rows x 8 columns]"
            ]
          },
          "metadata": {},
          "execution_count": 18
        }
      ]
    },
    {
      "cell_type": "markdown",
      "metadata": {
        "id": "WifW8YvwlTKW"
      },
      "source": [
        "Let's verify if that there are no 'None' speakers:"
      ]
    },
    {
      "cell_type": "code",
      "metadata": {
        "colab": {
          "base_uri": "https://localhost:8080/"
        },
        "id": "dqYFW8r4lSRe",
        "outputId": "6920d625-3a5c-4cdb-9c70-76b65b8c32ab"
      },
      "source": [
        "filtered_sample_df[filtered_sample_df.speaker=='None'].empty"
      ],
      "execution_count": null,
      "outputs": [
        {
          "output_type": "execute_result",
          "data": {
            "text/plain": [
              "True"
            ]
          },
          "metadata": {},
          "execution_count": 19
        }
      ]
    },
    {
      "cell_type": "markdown",
      "metadata": {
        "id": "xLMg_0cfl6pg"
      },
      "source": [
        "Now let us do this filtering for the remaining data of years 2015-2019."
      ]
    },
    {
      "cell_type": "code",
      "metadata": {
        "id": "AePNLWxAl6Vz"
      },
      "source": [
        "#filter_data(RAW_QUOTES_2019_PATH,FILTERED_QUOTES_2019_PATH)\n",
        "#filter_data(RAW_QUOTES_2018_PATH,FILTERED_QUOTES_2018_PATH)\n",
        "#filter_data(RAW_QUOTES_2017_PATH,FILTERED_QUOTES_2017_PATH)\n",
        "#filter_data(RAW_QUOTES_2016_PATH,FILTERED_QUOTES_2016_PATH)\n",
        "#filter_data(RAW_QUOTES_2015_PATH,FILTERED_QUOTES_2015_PATH)"
      ],
      "execution_count": null,
      "outputs": []
    },
    {
      "cell_type": "markdown",
      "metadata": {
        "id": "hE3n5IX4M0qY",
        "tags": []
      },
      "source": [
        "## 3. Additional data set: speaker attributes\n",
        "<a id=\"additional_dataset\"></a>\n",
        "\n",
        "The filtered Quotebank years are ready. The next step consists of integrating speaker attributes from our additional data set."
      ]
    },
    {
      "cell_type": "markdown",
      "metadata": {
        "id": "7B7nQdaVuh34"
      },
      "source": [
        "### 3.1 Explore attributes\n",
        "<a id=\"explore_attr\"></a>\n"
      ]
    },
    {
      "cell_type": "code",
      "metadata": {
        "colab": {
          "base_uri": "https://localhost:8080/",
          "height": 581
        },
        "id": "GHP_sBCenkx_",
        "outputId": "eaf5bacd-ebe7-4843-c63a-bdcb0f8d4b1d"
      },
      "source": [
        "# Load speaker attributes in df\n",
        "speakers_df = pd.read_parquet(SPEAKER_ATTRIBUTES_PATH)\n",
        "speakers_df.head()"
      ],
      "execution_count": null,
      "outputs": [
        {
          "output_type": "execute_result",
          "data": {
            "text/html": [
              "<div>\n",
              "<style scoped>\n",
              "    .dataframe tbody tr th:only-of-type {\n",
              "        vertical-align: middle;\n",
              "    }\n",
              "\n",
              "    .dataframe tbody tr th {\n",
              "        vertical-align: top;\n",
              "    }\n",
              "\n",
              "    .dataframe thead th {\n",
              "        text-align: right;\n",
              "    }\n",
              "</style>\n",
              "<table border=\"1\" class=\"dataframe\">\n",
              "  <thead>\n",
              "    <tr style=\"text-align: right;\">\n",
              "      <th></th>\n",
              "      <th>aliases</th>\n",
              "      <th>date_of_birth</th>\n",
              "      <th>nationality</th>\n",
              "      <th>gender</th>\n",
              "      <th>lastrevid</th>\n",
              "      <th>ethnic_group</th>\n",
              "      <th>US_congress_bio_ID</th>\n",
              "      <th>occupation</th>\n",
              "      <th>party</th>\n",
              "      <th>academic_degree</th>\n",
              "      <th>id</th>\n",
              "      <th>label</th>\n",
              "      <th>candidacy</th>\n",
              "      <th>type</th>\n",
              "      <th>religion</th>\n",
              "    </tr>\n",
              "  </thead>\n",
              "  <tbody>\n",
              "    <tr>\n",
              "      <th>0</th>\n",
              "      <td>[Washington, President Washington, G. Washingt...</td>\n",
              "      <td>[+1732-02-22T00:00:00Z]</td>\n",
              "      <td>[Q161885, Q30]</td>\n",
              "      <td>[Q6581097]</td>\n",
              "      <td>1395141751</td>\n",
              "      <td>None</td>\n",
              "      <td>W000178</td>\n",
              "      <td>[Q82955, Q189290, Q131512, Q1734662, Q294126, ...</td>\n",
              "      <td>[Q327591]</td>\n",
              "      <td>None</td>\n",
              "      <td>Q23</td>\n",
              "      <td>George Washington</td>\n",
              "      <td>[Q698073, Q697949]</td>\n",
              "      <td>item</td>\n",
              "      <td>[Q682443]</td>\n",
              "    </tr>\n",
              "    <tr>\n",
              "      <th>1</th>\n",
              "      <td>[Douglas Noel Adams, Douglas Noël Adams, Dougl...</td>\n",
              "      <td>[+1952-03-11T00:00:00Z]</td>\n",
              "      <td>[Q145]</td>\n",
              "      <td>[Q6581097]</td>\n",
              "      <td>1395737157</td>\n",
              "      <td>[Q7994501]</td>\n",
              "      <td>None</td>\n",
              "      <td>[Q214917, Q28389, Q6625963, Q4853732, Q1884422...</td>\n",
              "      <td>None</td>\n",
              "      <td>None</td>\n",
              "      <td>Q42</td>\n",
              "      <td>Douglas Adams</td>\n",
              "      <td>None</td>\n",
              "      <td>item</td>\n",
              "      <td>None</td>\n",
              "    </tr>\n",
              "    <tr>\n",
              "      <th>2</th>\n",
              "      <td>[Paul Marie Ghislain Otlet, Paul Marie Otlet]</td>\n",
              "      <td>[+1868-08-23T00:00:00Z]</td>\n",
              "      <td>[Q31]</td>\n",
              "      <td>[Q6581097]</td>\n",
              "      <td>1380367296</td>\n",
              "      <td>None</td>\n",
              "      <td>None</td>\n",
              "      <td>[Q36180, Q40348, Q182436, Q1265807, Q205375, Q...</td>\n",
              "      <td>None</td>\n",
              "      <td>None</td>\n",
              "      <td>Q1868</td>\n",
              "      <td>Paul Otlet</td>\n",
              "      <td>None</td>\n",
              "      <td>item</td>\n",
              "      <td>None</td>\n",
              "    </tr>\n",
              "    <tr>\n",
              "      <th>3</th>\n",
              "      <td>[George Walker Bush, Bush Jr., Dubya, GWB, Bus...</td>\n",
              "      <td>[+1946-07-06T00:00:00Z]</td>\n",
              "      <td>[Q30]</td>\n",
              "      <td>[Q6581097]</td>\n",
              "      <td>1395142029</td>\n",
              "      <td>None</td>\n",
              "      <td>None</td>\n",
              "      <td>[Q82955, Q15982858, Q18814623, Q1028181, Q1408...</td>\n",
              "      <td>[Q29468]</td>\n",
              "      <td>None</td>\n",
              "      <td>Q207</td>\n",
              "      <td>George W. Bush</td>\n",
              "      <td>[Q327959, Q464075, Q3586276, Q4450587]</td>\n",
              "      <td>item</td>\n",
              "      <td>[Q329646, Q682443, Q33203]</td>\n",
              "    </tr>\n",
              "    <tr>\n",
              "      <th>4</th>\n",
              "      <td>[Velázquez, Diego Rodríguez de Silva y Velázqu...</td>\n",
              "      <td>[+1599-06-06T00:00:00Z]</td>\n",
              "      <td>[Q29]</td>\n",
              "      <td>[Q6581097]</td>\n",
              "      <td>1391704596</td>\n",
              "      <td>None</td>\n",
              "      <td>None</td>\n",
              "      <td>[Q1028181]</td>\n",
              "      <td>None</td>\n",
              "      <td>None</td>\n",
              "      <td>Q297</td>\n",
              "      <td>Diego Velázquez</td>\n",
              "      <td>None</td>\n",
              "      <td>item</td>\n",
              "      <td>None</td>\n",
              "    </tr>\n",
              "  </tbody>\n",
              "</table>\n",
              "</div>"
            ],
            "text/plain": [
              "                                             aliases  ...                    religion\n",
              "0  [Washington, President Washington, G. Washingt...  ...                   [Q682443]\n",
              "1  [Douglas Noel Adams, Douglas Noël Adams, Dougl...  ...                        None\n",
              "2      [Paul Marie Ghislain Otlet, Paul Marie Otlet]  ...                        None\n",
              "3  [George Walker Bush, Bush Jr., Dubya, GWB, Bus...  ...  [Q329646, Q682443, Q33203]\n",
              "4  [Velázquez, Diego Rodríguez de Silva y Velázqu...  ...                        None\n",
              "\n",
              "[5 rows x 15 columns]"
            ]
          },
          "metadata": {},
          "execution_count": 23
        }
      ]
    },
    {
      "cell_type": "markdown",
      "metadata": {
        "id": "-ijhmvqAwDgH"
      },
      "source": [
        "Let us first check for duplicates. There seem to be none."
      ]
    },
    {
      "cell_type": "code",
      "metadata": {
        "colab": {
          "base_uri": "https://localhost:8080/",
          "height": 69
        },
        "id": "o6qUQ_tPnkyC",
        "outputId": "06d91151-3b7c-41a5-dbed-c4a6ec0d77d0"
      },
      "source": [
        "# Duplicates\n",
        "duplicates = speakers_df[speakers_df.duplicated(subset='id', keep='first')] \n",
        "duplicates.head()"
      ],
      "execution_count": null,
      "outputs": [
        {
          "output_type": "execute_result",
          "data": {
            "text/html": [
              "<div>\n",
              "<style scoped>\n",
              "    .dataframe tbody tr th:only-of-type {\n",
              "        vertical-align: middle;\n",
              "    }\n",
              "\n",
              "    .dataframe tbody tr th {\n",
              "        vertical-align: top;\n",
              "    }\n",
              "\n",
              "    .dataframe thead th {\n",
              "        text-align: right;\n",
              "    }\n",
              "</style>\n",
              "<table border=\"1\" class=\"dataframe\">\n",
              "  <thead>\n",
              "    <tr style=\"text-align: right;\">\n",
              "      <th></th>\n",
              "      <th>aliases</th>\n",
              "      <th>date_of_birth</th>\n",
              "      <th>nationality</th>\n",
              "      <th>gender</th>\n",
              "      <th>lastrevid</th>\n",
              "      <th>ethnic_group</th>\n",
              "      <th>US_congress_bio_ID</th>\n",
              "      <th>occupation</th>\n",
              "      <th>party</th>\n",
              "      <th>academic_degree</th>\n",
              "      <th>id</th>\n",
              "      <th>label</th>\n",
              "      <th>candidacy</th>\n",
              "      <th>type</th>\n",
              "      <th>religion</th>\n",
              "    </tr>\n",
              "  </thead>\n",
              "  <tbody>\n",
              "  </tbody>\n",
              "</table>\n",
              "</div>"
            ],
            "text/plain": [
              "Empty DataFrame\n",
              "Columns: [aliases, date_of_birth, nationality, gender, lastrevid, ethnic_group, US_congress_bio_ID, occupation, party, academic_degree, id, label, candidacy, type, religion]\n",
              "Index: []"
            ]
          },
          "metadata": {},
          "execution_count": 24
        }
      ]
    },
    {
      "cell_type": "markdown",
      "metadata": {
        "id": "HsTU_34onkyA"
      },
      "source": [
        "We are mostly interested in the column gender. But let us see which ones we could keep. How many 'None' values do we have?"
      ]
    },
    {
      "cell_type": "code",
      "metadata": {
        "colab": {
          "base_uri": "https://localhost:8080/"
        },
        "id": "IPwXvBnknkyB",
        "outputId": "9a2cd04c-3c88-4665-a720-c54a5ca99277"
      },
      "source": [
        "# Fraction of lines with 'None' values:\n",
        "print('gender: ' + str(speakers_df[speakers_df.gender.isnull()].size / speakers_df.size))\n",
        "print('nationality: ' + str(speakers_df[speakers_df.nationality.isnull()].size / speakers_df.size))\n",
        "print('occupation: ' + str(speakers_df[speakers_df.occupation.isnull()].size / speakers_df.size))\n",
        "print('academic_degree: ' + str(speakers_df[speakers_df.academic_degree.isnull()].size / speakers_df.size))\n",
        "print('ethnic_group: ' + str(speakers_df[speakers_df.ethnic_group.isnull()].size / speakers_df.size))\n",
        "print('religion ' + str(speakers_df[speakers_df.religion.isnull()].size / speakers_df.size))"
      ],
      "execution_count": null,
      "outputs": [
        {
          "output_type": "stream",
          "name": "stdout",
          "text": [
            "gender: 0.21536937853557775\n",
            "nationality: 0.5896797928352544\n",
            "occupation: 0.29625691573337004\n",
            "academic_degree: 0.9889581261268106\n",
            "ethnic_group: 0.9856023328670853\n",
            "religion 0.9783254845609769\n"
          ]
        }
      ]
    },
    {
      "cell_type": "markdown",
      "metadata": {
        "id": "msgtq37lwBW7"
      },
      "source": [
        "Unfortunately we have to drop all attributes appart from gender, nationality and occupation. All the other ones have more than 98% 'None' values."
      ]
    },
    {
      "cell_type": "code",
      "metadata": {
        "id": "Ec66xJ90zQ0d"
      },
      "source": [
        "# Keep the columns gender, nationality and occupation\n",
        "speakers_df = speakers_df[['id', 'gender', 'nationality', 'occupation']]"
      ],
      "execution_count": null,
      "outputs": []
    },
    {
      "cell_type": "markdown",
      "metadata": {
        "id": "bCm99QKj7N8s"
      },
      "source": [
        "We will remove all 'None' genders as this is the most important attribute for our analysis."
      ]
    },
    {
      "cell_type": "code",
      "metadata": {
        "id": "8zp-JKZH2igZ",
        "colab": {
          "base_uri": "https://localhost:8080/",
          "height": 204
        },
        "outputId": "150dfa99-7914-4000-8e07-694592379fa1"
      },
      "source": [
        "# Remove null genders\n",
        "speakers_df = speakers_df.drop(speakers_df[speakers_df.gender.isnull()].index)\n",
        "speakers_df.head()"
      ],
      "execution_count": null,
      "outputs": [
        {
          "output_type": "execute_result",
          "data": {
            "text/html": [
              "<div>\n",
              "<style scoped>\n",
              "    .dataframe tbody tr th:only-of-type {\n",
              "        vertical-align: middle;\n",
              "    }\n",
              "\n",
              "    .dataframe tbody tr th {\n",
              "        vertical-align: top;\n",
              "    }\n",
              "\n",
              "    .dataframe thead th {\n",
              "        text-align: right;\n",
              "    }\n",
              "</style>\n",
              "<table border=\"1\" class=\"dataframe\">\n",
              "  <thead>\n",
              "    <tr style=\"text-align: right;\">\n",
              "      <th></th>\n",
              "      <th>id</th>\n",
              "      <th>gender</th>\n",
              "      <th>nationality</th>\n",
              "      <th>occupation</th>\n",
              "    </tr>\n",
              "  </thead>\n",
              "  <tbody>\n",
              "    <tr>\n",
              "      <th>0</th>\n",
              "      <td>Q23</td>\n",
              "      <td>[Q6581097]</td>\n",
              "      <td>[Q161885, Q30]</td>\n",
              "      <td>[Q82955, Q189290, Q131512, Q1734662, Q294126, ...</td>\n",
              "    </tr>\n",
              "    <tr>\n",
              "      <th>1</th>\n",
              "      <td>Q42</td>\n",
              "      <td>[Q6581097]</td>\n",
              "      <td>[Q145]</td>\n",
              "      <td>[Q214917, Q28389, Q6625963, Q4853732, Q1884422...</td>\n",
              "    </tr>\n",
              "    <tr>\n",
              "      <th>2</th>\n",
              "      <td>Q1868</td>\n",
              "      <td>[Q6581097]</td>\n",
              "      <td>[Q31]</td>\n",
              "      <td>[Q36180, Q40348, Q182436, Q1265807, Q205375, Q...</td>\n",
              "    </tr>\n",
              "    <tr>\n",
              "      <th>3</th>\n",
              "      <td>Q207</td>\n",
              "      <td>[Q6581097]</td>\n",
              "      <td>[Q30]</td>\n",
              "      <td>[Q82955, Q15982858, Q18814623, Q1028181, Q1408...</td>\n",
              "    </tr>\n",
              "    <tr>\n",
              "      <th>4</th>\n",
              "      <td>Q297</td>\n",
              "      <td>[Q6581097]</td>\n",
              "      <td>[Q29]</td>\n",
              "      <td>[Q1028181]</td>\n",
              "    </tr>\n",
              "  </tbody>\n",
              "</table>\n",
              "</div>"
            ],
            "text/plain": [
              "      id  ...                                         occupation\n",
              "0    Q23  ...  [Q82955, Q189290, Q131512, Q1734662, Q294126, ...\n",
              "1    Q42  ...  [Q214917, Q28389, Q6625963, Q4853732, Q1884422...\n",
              "2  Q1868  ...  [Q36180, Q40348, Q182436, Q1265807, Q205375, Q...\n",
              "3   Q207  ...  [Q82955, Q15982858, Q18814623, Q1028181, Q1408...\n",
              "4   Q297  ...                                         [Q1028181]\n",
              "\n",
              "[5 rows x 4 columns]"
            ]
          },
          "metadata": {},
          "execution_count": 26
        }
      ]
    },
    {
      "cell_type": "markdown",
      "metadata": {
        "id": "iutcEc41nkyE"
      },
      "source": [
        "### 3.2 Merge speaker attributes\n",
        "<a id=\"merge_speaker_attr\"></a>\n",
        "\n",
        "Now we can merge the speaker attributes in our filtered dataset. First of all we need to load the corresponding labels for the quote id's.\n",
        "\n"
      ]
    },
    {
      "cell_type": "code",
      "metadata": {
        "colab": {
          "base_uri": "https://localhost:8080/",
          "height": 235
        },
        "id": "7qWRgx-vnkyE",
        "outputId": "395e50f0-61c5-41a5-b422-7a8c844dbe95"
      },
      "source": [
        "labels_df = pd.read_csv(LABELS_WIKIDATA_PATH, compression='bz2', index_col='QID')\n",
        "\n",
        "# We know there will be a missing label in our dataset.\n",
        "# We'll just add the information in advance...\n",
        "labels_df.loc['Q6363085'] = labels_df.loc['Q380075']\n",
        "\n",
        "labels_df.head()"
      ],
      "execution_count": null,
      "outputs": [
        {
          "output_type": "execute_result",
          "data": {
            "text/html": [
              "<div>\n",
              "<style scoped>\n",
              "    .dataframe tbody tr th:only-of-type {\n",
              "        vertical-align: middle;\n",
              "    }\n",
              "\n",
              "    .dataframe tbody tr th {\n",
              "        vertical-align: top;\n",
              "    }\n",
              "\n",
              "    .dataframe thead th {\n",
              "        text-align: right;\n",
              "    }\n",
              "</style>\n",
              "<table border=\"1\" class=\"dataframe\">\n",
              "  <thead>\n",
              "    <tr style=\"text-align: right;\">\n",
              "      <th></th>\n",
              "      <th>Label</th>\n",
              "      <th>Description</th>\n",
              "    </tr>\n",
              "    <tr>\n",
              "      <th>QID</th>\n",
              "      <th></th>\n",
              "      <th></th>\n",
              "    </tr>\n",
              "  </thead>\n",
              "  <tbody>\n",
              "    <tr>\n",
              "      <th>Q31</th>\n",
              "      <td>Belgium</td>\n",
              "      <td>country in western Europe</td>\n",
              "    </tr>\n",
              "    <tr>\n",
              "      <th>Q45</th>\n",
              "      <td>Portugal</td>\n",
              "      <td>country in southwestern Europe</td>\n",
              "    </tr>\n",
              "    <tr>\n",
              "      <th>Q75</th>\n",
              "      <td>Internet</td>\n",
              "      <td>global system of connected computer networks</td>\n",
              "    </tr>\n",
              "    <tr>\n",
              "      <th>Q148</th>\n",
              "      <td>People's Republic of China</td>\n",
              "      <td>sovereign state in East Asia</td>\n",
              "    </tr>\n",
              "    <tr>\n",
              "      <th>Q155</th>\n",
              "      <td>Brazil</td>\n",
              "      <td>country in South America</td>\n",
              "    </tr>\n",
              "  </tbody>\n",
              "</table>\n",
              "</div>"
            ],
            "text/plain": [
              "                           Label                                   Description\n",
              "QID                                                                           \n",
              "Q31                      Belgium                     country in western Europe\n",
              "Q45                     Portugal                country in southwestern Europe\n",
              "Q75                     Internet  global system of connected computer networks\n",
              "Q148  People's Republic of China                  sovereign state in East Asia\n",
              "Q155                      Brazil                      country in South America"
            ]
          },
          "metadata": {},
          "execution_count": 27
        }
      ]
    },
    {
      "cell_type": "markdown",
      "metadata": {
        "id": "X0k-KhxKAPre"
      },
      "source": [
        "To efficiently look up the quids attributes of a speaker we create dictionaries to access the desired quids."
      ]
    },
    {
      "cell_type": "code",
      "metadata": {
        "id": "HNOYRV0ZzTCu"
      },
      "source": [
        "# Create dictionary for the labels and the attributes gender, nationality and occupation\n",
        "labels_dict = pd.Series(labels_df.Label, index=labels_df.index)\n",
        "genders_dict = pd.Series(speakers_df.gender.values, index=speakers_df.id).to_dict()\n",
        "nationalities_dict = pd.Series(speakers_df.nationality.values, index=speakers_df.id).to_dict()\n",
        "occupations_dict = pd.Series(speakers_df.occupation.values, index=speakers_df.id).to_dict()"
      ],
      "execution_count": null,
      "outputs": []
    },
    {
      "cell_type": "markdown",
      "metadata": {
        "id": "QrcUcOFRzFPH"
      },
      "source": [
        "In a first analysis just the first quid will be considered. Thus the quid of the most probable speaker. Below a helper function to achieve this."
      ]
    },
    {
      "cell_type": "code",
      "metadata": {
        "id": "Gq6TjBqpLzzo"
      },
      "source": [
        "# We want to transform the 'qids' column in a single 'qid' element\n",
        "def get_single_qid(df_quotes):\n",
        "  df_copy =  df_quotes.copy()\n",
        "  df_result =  df_quotes.copy()\n",
        "  for idx,row in df_copy.iterrows():  \n",
        "    id_speaker = row.loc['qids'][0] \n",
        "    df_result.at[idx,'qids'] = id_speaker\n",
        "\n",
        "  df_result = df_result.rename(columns={\"qids\": \"qid\"})\n",
        "  return df_result"
      ],
      "execution_count": null,
      "outputs": []
    },
    {
      "cell_type": "markdown",
      "metadata": {
        "id": "ZZCvvaJ_DagT"
      },
      "source": [
        "We need as well a function to translate the quids of one attribute to corresponding label regarding one speaker."
      ]
    },
    {
      "cell_type": "code",
      "metadata": {
        "id": "NJisKMiOz2fZ"
      },
      "source": [
        "def translate_qid2label(id_speaker, attr_dict):\n",
        "  \"\"\"\n",
        "    Retrieve quotes speakers attribute, in the order of the quotations DataFrame.\n",
        "    :id_speaker   First qid of quids column of one row of the quotations dataframe qid\n",
        "    :attr_dict    dictionary for specified attributes\n",
        "    :return       attributes as text in a list\n",
        "  \"\"\"\n",
        "  list_attr = []\n",
        "  \n",
        "  if id_speaker in attr_dict:\n",
        "    id_attr_speaker = attr_dict[id_speaker]\n",
        "    if(id_attr_speaker is not None):\n",
        "      for id_a in id_attr_speaker:\n",
        "          attr = labels_dict[id_a] # Attribute value\n",
        "          list_attr.append(attr)\n",
        "    else:\n",
        "      list_attr = None\n",
        "\n",
        "  return list_attr"
      ],
      "execution_count": null,
      "outputs": []
    },
    {
      "cell_type": "markdown",
      "metadata": {
        "id": "ZUpBDScXY9zR"
      },
      "source": [
        "Now we can put all these together and apply the above function to all our speaker attributes and quotes.\n"
      ]
    },
    {
      "cell_type": "code",
      "metadata": {
        "id": "7Ju8uFpOY82Y"
      },
      "source": [
        "def add_speaker_attributes(path_to_file):\n",
        "  \"\"\"\n",
        "    Function takes path of compressed filtered data of oquotebank and adds\n",
        "    speaker information in new colums\n",
        "    :path_to_file   first qid of quids column of one row of the quotations dataframe qid\n",
        "    :return         pandas DataFrame with new columns\n",
        "  \"\"\"\n",
        "  df = pd.read_json(path_to_file, lines=True,compression='bz2')\n",
        "  # First we get a single qid:\n",
        "  df = get_single_qid(df)\n",
        "\n",
        "  genders = df['qid'].apply(lambda i: translate_qid2label(i, genders_dict))\n",
        "  nationalities = df['qid'].apply(lambda i: translate_qid2label(i, nationalities_dict))\n",
        "  occupations = df['qid'].apply(lambda i: translate_qid2label(i, occupations_dict))\n",
        "\n",
        "  df.insert(3, 'gender', genders)\n",
        "  df.insert(4,'nationality', nationalities)\n",
        "  df.insert(5,'occupation', occupations)\n",
        "  return df"
      ],
      "execution_count": null,
      "outputs": []
    },
    {
      "cell_type": "code",
      "metadata": {
        "id": "_Z8seEd7FDMV",
        "colab": {
          "base_uri": "https://localhost:8080/",
          "height": 425
        },
        "outputId": "81391278-e83b-4e1b-9846-bde02ebbdbe1"
      },
      "source": [
        "# Merge and speaker attributes for filtered quotes of 2020\n",
        "df_2020 = add_speaker_attributes(FILTERED_QUOTES_2020_PATH)\n",
        "df_2020.head()"
      ],
      "execution_count": null,
      "outputs": [
        {
          "output_type": "execute_result",
          "data": {
            "text/html": [
              "<div>\n",
              "<style scoped>\n",
              "    .dataframe tbody tr th:only-of-type {\n",
              "        vertical-align: middle;\n",
              "    }\n",
              "\n",
              "    .dataframe tbody tr th {\n",
              "        vertical-align: top;\n",
              "    }\n",
              "\n",
              "    .dataframe thead th {\n",
              "        text-align: right;\n",
              "    }\n",
              "</style>\n",
              "<table border=\"1\" class=\"dataframe\">\n",
              "  <thead>\n",
              "    <tr style=\"text-align: right;\">\n",
              "      <th></th>\n",
              "      <th>quoteID</th>\n",
              "      <th>quotation</th>\n",
              "      <th>speaker</th>\n",
              "      <th>gender</th>\n",
              "      <th>nationality</th>\n",
              "      <th>occupation</th>\n",
              "      <th>qid</th>\n",
              "      <th>date</th>\n",
              "      <th>numOccurrences</th>\n",
              "      <th>urls</th>\n",
              "      <th>newspapers</th>\n",
              "    </tr>\n",
              "  </thead>\n",
              "  <tbody>\n",
              "    <tr>\n",
              "      <th>0</th>\n",
              "      <td>2020-01-31-008580</td>\n",
              "      <td>As you reach or have reached the apex of your ...</td>\n",
              "      <td>Keyon Dooling</td>\n",
              "      <td>[male]</td>\n",
              "      <td>[United States of America]</td>\n",
              "      <td>[basketball player]</td>\n",
              "      <td>Q304349</td>\n",
              "      <td>2020-01-31 19:07:55</td>\n",
              "      <td>1</td>\n",
              "      <td>[https://www.theguardian.com/sport/2020/jan/31...</td>\n",
              "      <td>[The Guardian]</td>\n",
              "    </tr>\n",
              "    <tr>\n",
              "      <th>1</th>\n",
              "      <td>2020-01-20-006469</td>\n",
              "      <td>At the same time we want to remain friends wit...</td>\n",
              "      <td>Tim Martin</td>\n",
              "      <td>[male]</td>\n",
              "      <td>None</td>\n",
              "      <td>[American football player]</td>\n",
              "      <td>Q20670776</td>\n",
              "      <td>2020-01-20 09:08:24</td>\n",
              "      <td>4</td>\n",
              "      <td>[https://www.dailystar.co.uk/real-life/wethers...</td>\n",
              "      <td>[The Sun]</td>\n",
              "    </tr>\n",
              "    <tr>\n",
              "      <th>2</th>\n",
              "      <td>2020-04-03-006933</td>\n",
              "      <td>Been home-schooling a 6-year-old and 8-year-ol...</td>\n",
              "      <td>Shonda Rhimes</td>\n",
              "      <td>[female]</td>\n",
              "      <td>[United States of America]</td>\n",
              "      <td>[film director, screenwriter, writer, film pro...</td>\n",
              "      <td>Q242329</td>\n",
              "      <td>2020-04-03 16:00:00</td>\n",
              "      <td>1</td>\n",
              "      <td>[http://www.thetimes.co.uk/edition/magazine/ca...</td>\n",
              "      <td>[The Times]</td>\n",
              "    </tr>\n",
              "    <tr>\n",
              "      <th>3</th>\n",
              "      <td>2020-04-15-018814</td>\n",
              "      <td>I am now in agreement that we should move forw...</td>\n",
              "      <td>David Boies</td>\n",
              "      <td>[male]</td>\n",
              "      <td>[United States of America]</td>\n",
              "      <td>[lawyer]</td>\n",
              "      <td>Q5231515</td>\n",
              "      <td>2020-04-15 15:46:38</td>\n",
              "      <td>1</td>\n",
              "      <td>[https://www.thesun.co.uk/news/11403669/jeffre...</td>\n",
              "      <td>[The Sun]</td>\n",
              "    </tr>\n",
              "    <tr>\n",
              "      <th>4</th>\n",
              "      <td>2020-02-16-014286</td>\n",
              "      <td>I don't want to make a career out of [ remakin...</td>\n",
              "      <td>Ramiro Gomez</td>\n",
              "      <td>[male]</td>\n",
              "      <td>None</td>\n",
              "      <td>[artist]</td>\n",
              "      <td>Q30693403</td>\n",
              "      <td>2020-02-16 15:00:32</td>\n",
              "      <td>1</td>\n",
              "      <td>[https://www.theguardian.com/artanddesign/2020...</td>\n",
              "      <td>[The Guardian]</td>\n",
              "    </tr>\n",
              "  </tbody>\n",
              "</table>\n",
              "</div>"
            ],
            "text/plain": [
              "             quoteID  ...      newspapers\n",
              "0  2020-01-31-008580  ...  [The Guardian]\n",
              "1  2020-01-20-006469  ...       [The Sun]\n",
              "2  2020-04-03-006933  ...     [The Times]\n",
              "3  2020-04-15-018814  ...       [The Sun]\n",
              "4  2020-02-16-014286  ...  [The Guardian]\n",
              "\n",
              "[5 rows x 11 columns]"
            ]
          },
          "metadata": {},
          "execution_count": 32
        }
      ]
    },
    {
      "cell_type": "code",
      "metadata": {
        "id": "lmoMoK07i15o"
      },
      "source": [
        "# Merge speaker attributes of all other years\n",
        "df_2019 = add_speaker_attributes(FILTERED_QUOTES_2019_PATH)\n",
        "df_2018 = add_speaker_attributes(FILTERED_QUOTES_2018_PATH)\n",
        "df_2017 = add_speaker_attributes(FILTERED_QUOTES_2017_PATH)\n",
        "df_2016 = add_speaker_attributes(FILTERED_QUOTES_2016_PATH)"
      ],
      "execution_count": null,
      "outputs": []
    },
    {
      "cell_type": "markdown",
      "metadata": {
        "id": "LkjAoat92bHv"
      },
      "source": [
        "### 3.3 Save cleaned data as pickle\n",
        "<a id=\"save_pickle\"></a>\n",
        "\n",
        "For easier handling we will save the merged dataframes in a pickled format. In this way section 3 doesn't have to be excecuted anymore."
      ]
    },
    {
      "cell_type": "code",
      "metadata": {
        "id": "45AK2f4m3_V6"
      },
      "source": [
        "# Store merged dataframes as pickle\n",
        "df_2020.to_pickle(QUOTES_2020_PATH)\n",
        "df_2019.to_pickle(QUOTES_2019_PATH)\n",
        "df_2018.to_pickle(QUOTES_2018_PATH)\n",
        "df_2017.to_pickle(QUOTES_2017_PATH)\n",
        "df_2016.to_pickle(QUOTES_2016_PATH)"
      ],
      "execution_count": null,
      "outputs": []
    },
    {
      "cell_type": "markdown",
      "metadata": {
        "id": "L8O0LkrcM0qZ"
      },
      "source": [
        "## 4 Research questions\n",
        "<a id=\"research_questions\"></a>"
      ]
    },
    {
      "cell_type": "markdown",
      "metadata": {
        "id": "L6UEU47N5pL_"
      },
      "source": [
        "### 4.1 Load cleaned data\n",
        "<a id=\"load_pickle\"></a>"
      ]
    },
    {
      "cell_type": "code",
      "metadata": {
        "id": "nyU9N28r5-w5"
      },
      "source": [
        "# Load pickled dataframes\n",
        "df_2020 = pd.read_pickle(QUOTES_2020_PATH)\n",
        "#df_2019 = pd.read_pickle(QUOTES_2019_PATH)\n",
        "#df_2018 = pd.read_pickle(QUOTES_2018_PATH)\n",
        "#df_2017 = pd.read_pickle(QUOTES_2017_PATH)\n",
        "#df_2016 = pd.read_pickle(QUOTES_2016_PATH)"
      ],
      "execution_count": 7,
      "outputs": []
    },
    {
      "cell_type": "code",
      "metadata": {
        "colab": {
          "base_uri": "https://localhost:8080/",
          "height": 598
        },
        "id": "esoqdXCk6ls0",
        "outputId": "e5a9f1d9-9717-4f53-94a3-792953032354"
      },
      "source": [
        "df_2020.head()"
      ],
      "execution_count": 8,
      "outputs": [
        {
          "output_type": "execute_result",
          "data": {
            "text/html": [
              "<div>\n",
              "<style scoped>\n",
              "    .dataframe tbody tr th:only-of-type {\n",
              "        vertical-align: middle;\n",
              "    }\n",
              "\n",
              "    .dataframe tbody tr th {\n",
              "        vertical-align: top;\n",
              "    }\n",
              "\n",
              "    .dataframe thead th {\n",
              "        text-align: right;\n",
              "    }\n",
              "</style>\n",
              "<table border=\"1\" class=\"dataframe\">\n",
              "  <thead>\n",
              "    <tr style=\"text-align: right;\">\n",
              "      <th></th>\n",
              "      <th>quoteID</th>\n",
              "      <th>quotation</th>\n",
              "      <th>speaker</th>\n",
              "      <th>gender</th>\n",
              "      <th>nationality</th>\n",
              "      <th>occupation</th>\n",
              "      <th>qid</th>\n",
              "      <th>date</th>\n",
              "      <th>numOccurrences</th>\n",
              "      <th>urls</th>\n",
              "      <th>newspapers</th>\n",
              "    </tr>\n",
              "  </thead>\n",
              "  <tbody>\n",
              "    <tr>\n",
              "      <th>0</th>\n",
              "      <td>2020-01-31-008580</td>\n",
              "      <td>As you reach or have reached the apex of your ...</td>\n",
              "      <td>Keyon Dooling</td>\n",
              "      <td>[male]</td>\n",
              "      <td>[United States of America]</td>\n",
              "      <td>[basketball player]</td>\n",
              "      <td>Q304349</td>\n",
              "      <td>2020-01-31 19:07:55</td>\n",
              "      <td>1</td>\n",
              "      <td>[https://www.theguardian.com/sport/2020/jan/31...</td>\n",
              "      <td>[The Guardian]</td>\n",
              "    </tr>\n",
              "    <tr>\n",
              "      <th>1</th>\n",
              "      <td>2020-01-20-006469</td>\n",
              "      <td>At the same time we want to remain friends wit...</td>\n",
              "      <td>Tim Martin</td>\n",
              "      <td>[male]</td>\n",
              "      <td>None</td>\n",
              "      <td>[American football player]</td>\n",
              "      <td>Q20670776</td>\n",
              "      <td>2020-01-20 09:08:24</td>\n",
              "      <td>4</td>\n",
              "      <td>[https://www.dailystar.co.uk/real-life/wethers...</td>\n",
              "      <td>[The Sun]</td>\n",
              "    </tr>\n",
              "    <tr>\n",
              "      <th>2</th>\n",
              "      <td>2020-04-03-006933</td>\n",
              "      <td>Been home-schooling a 6-year-old and 8-year-ol...</td>\n",
              "      <td>Shonda Rhimes</td>\n",
              "      <td>[female]</td>\n",
              "      <td>[United States of America]</td>\n",
              "      <td>[film director, screenwriter, writer, film pro...</td>\n",
              "      <td>Q242329</td>\n",
              "      <td>2020-04-03 16:00:00</td>\n",
              "      <td>1</td>\n",
              "      <td>[http://www.thetimes.co.uk/edition/magazine/ca...</td>\n",
              "      <td>[The Times]</td>\n",
              "    </tr>\n",
              "    <tr>\n",
              "      <th>3</th>\n",
              "      <td>2020-04-15-018814</td>\n",
              "      <td>I am now in agreement that we should move forw...</td>\n",
              "      <td>David Boies</td>\n",
              "      <td>[male]</td>\n",
              "      <td>[United States of America]</td>\n",
              "      <td>[lawyer]</td>\n",
              "      <td>Q5231515</td>\n",
              "      <td>2020-04-15 15:46:38</td>\n",
              "      <td>1</td>\n",
              "      <td>[https://www.thesun.co.uk/news/11403669/jeffre...</td>\n",
              "      <td>[The Sun]</td>\n",
              "    </tr>\n",
              "    <tr>\n",
              "      <th>4</th>\n",
              "      <td>2020-02-16-014286</td>\n",
              "      <td>I don't want to make a career out of [ remakin...</td>\n",
              "      <td>Ramiro Gomez</td>\n",
              "      <td>[male]</td>\n",
              "      <td>None</td>\n",
              "      <td>[artist]</td>\n",
              "      <td>Q30693403</td>\n",
              "      <td>2020-02-16 15:00:32</td>\n",
              "      <td>1</td>\n",
              "      <td>[https://www.theguardian.com/artanddesign/2020...</td>\n",
              "      <td>[The Guardian]</td>\n",
              "    </tr>\n",
              "  </tbody>\n",
              "</table>\n",
              "</div>"
            ],
            "text/plain": [
              "             quoteID  ...      newspapers\n",
              "0  2020-01-31-008580  ...  [The Guardian]\n",
              "1  2020-01-20-006469  ...       [The Sun]\n",
              "2  2020-04-03-006933  ...     [The Times]\n",
              "3  2020-04-15-018814  ...       [The Sun]\n",
              "4  2020-02-16-014286  ...  [The Guardian]\n",
              "\n",
              "[5 rows x 11 columns]"
            ]
          },
          "metadata": {},
          "execution_count": 8
        }
      ]
    },
    {
      "cell_type": "markdown",
      "metadata": {
        "id": "vVi6hL038deK"
      },
      "source": [
        "### 4.2 Sanity check\n",
        "<a id=\"sanity_check\"></a>"
      ]
    },
    {
      "cell_type": "markdown",
      "metadata": {
        "id": "4bplTXK33u9J"
      },
      "source": [
        "Before proceeding to an exploration of our data, we need to check if there are no anomalies left in the data like missing values."
      ]
    },
    {
      "cell_type": "code",
      "metadata": {
        "colab": {
          "base_uri": "https://localhost:8080/",
          "height": 297
        },
        "id": "J1Dd9KHi3nVj",
        "outputId": "2ebb95a1-2e03-49c2-9947-5f215c80da83"
      },
      "source": [
        "# Full descritpion of the numerical data\n",
        "df_2020.describe()"
      ],
      "execution_count": 9,
      "outputs": [
        {
          "output_type": "execute_result",
          "data": {
            "text/html": [
              "<div>\n",
              "<style scoped>\n",
              "    .dataframe tbody tr th:only-of-type {\n",
              "        vertical-align: middle;\n",
              "    }\n",
              "\n",
              "    .dataframe tbody tr th {\n",
              "        vertical-align: top;\n",
              "    }\n",
              "\n",
              "    .dataframe thead th {\n",
              "        text-align: right;\n",
              "    }\n",
              "</style>\n",
              "<table border=\"1\" class=\"dataframe\">\n",
              "  <thead>\n",
              "    <tr style=\"text-align: right;\">\n",
              "      <th></th>\n",
              "      <th>numOccurrences</th>\n",
              "    </tr>\n",
              "  </thead>\n",
              "  <tbody>\n",
              "    <tr>\n",
              "      <th>count</th>\n",
              "      <td>26070.000000</td>\n",
              "    </tr>\n",
              "    <tr>\n",
              "      <th>mean</th>\n",
              "      <td>9.577484</td>\n",
              "    </tr>\n",
              "    <tr>\n",
              "      <th>std</th>\n",
              "      <td>41.897187</td>\n",
              "    </tr>\n",
              "    <tr>\n",
              "      <th>min</th>\n",
              "      <td>1.000000</td>\n",
              "    </tr>\n",
              "    <tr>\n",
              "      <th>25%</th>\n",
              "      <td>1.000000</td>\n",
              "    </tr>\n",
              "    <tr>\n",
              "      <th>50%</th>\n",
              "      <td>1.000000</td>\n",
              "    </tr>\n",
              "    <tr>\n",
              "      <th>75%</th>\n",
              "      <td>3.000000</td>\n",
              "    </tr>\n",
              "    <tr>\n",
              "      <th>max</th>\n",
              "      <td>2037.000000</td>\n",
              "    </tr>\n",
              "  </tbody>\n",
              "</table>\n",
              "</div>"
            ],
            "text/plain": [
              "       numOccurrences\n",
              "count    26070.000000\n",
              "mean         9.577484\n",
              "std         41.897187\n",
              "min          1.000000\n",
              "25%          1.000000\n",
              "50%          1.000000\n",
              "75%          3.000000\n",
              "max       2037.000000"
            ]
          },
          "metadata": {},
          "execution_count": 9
        }
      ]
    },
    {
      "cell_type": "markdown",
      "metadata": {
        "id": "H6op5heG36Fa"
      },
      "source": [
        "The only numerical data we get is the number of occurences. We only get a meaningful description for this column yet."
      ]
    },
    {
      "cell_type": "code",
      "metadata": {
        "colab": {
          "base_uri": "https://localhost:8080/"
        },
        "id": "aX618mD84Gx1",
        "outputId": "d66c5fc2-6c46-4b1c-dcf1-1b7c2dd22b02"
      },
      "source": [
        "# Verification for missing values\n",
        "df_2020.isnull().any()"
      ],
      "execution_count": 10,
      "outputs": [
        {
          "output_type": "execute_result",
          "data": {
            "text/plain": [
              "quoteID           False\n",
              "quotation         False\n",
              "speaker           False\n",
              "gender            False\n",
              "nationality        True\n",
              "occupation         True\n",
              "qid               False\n",
              "date              False\n",
              "numOccurrences    False\n",
              "urls              False\n",
              "newspapers        False\n",
              "dtype: bool"
            ]
          },
          "metadata": {},
          "execution_count": 10
        }
      ]
    },
    {
      "cell_type": "markdown",
      "metadata": {
        "id": "1LJLVoZf4S3h"
      },
      "source": [
        "We only have missing values for the nationality and occupation. We knew it would be the case. For us the most important was to remove any 'None' speakers. The nationalities and occupations are only used for a deeper analysis. We will simply need to ignore those missing values."
      ]
    },
    {
      "cell_type": "code",
      "metadata": {
        "colab": {
          "base_uri": "https://localhost:8080/",
          "height": 49
        },
        "id": "V_ilXRSE5dPg",
        "outputId": "23df0b8c-e5a4-4edd-97cd-1d3e695a3e7e"
      },
      "source": [
        "# Verification of empty quotes\n",
        "df_2020[df_2020.quotation == '']"
      ],
      "execution_count": 11,
      "outputs": [
        {
          "output_type": "execute_result",
          "data": {
            "text/html": [
              "<div>\n",
              "<style scoped>\n",
              "    .dataframe tbody tr th:only-of-type {\n",
              "        vertical-align: middle;\n",
              "    }\n",
              "\n",
              "    .dataframe tbody tr th {\n",
              "        vertical-align: top;\n",
              "    }\n",
              "\n",
              "    .dataframe thead th {\n",
              "        text-align: right;\n",
              "    }\n",
              "</style>\n",
              "<table border=\"1\" class=\"dataframe\">\n",
              "  <thead>\n",
              "    <tr style=\"text-align: right;\">\n",
              "      <th></th>\n",
              "      <th>quoteID</th>\n",
              "      <th>quotation</th>\n",
              "      <th>speaker</th>\n",
              "      <th>gender</th>\n",
              "      <th>nationality</th>\n",
              "      <th>occupation</th>\n",
              "      <th>qid</th>\n",
              "      <th>date</th>\n",
              "      <th>numOccurrences</th>\n",
              "      <th>urls</th>\n",
              "      <th>newspapers</th>\n",
              "    </tr>\n",
              "  </thead>\n",
              "  <tbody>\n",
              "  </tbody>\n",
              "</table>\n",
              "</div>"
            ],
            "text/plain": [
              "Empty DataFrame\n",
              "Columns: [quoteID, quotation, speaker, gender, nationality, occupation, qid, date, numOccurrences, urls, newspapers]\n",
              "Index: []"
            ]
          },
          "metadata": {},
          "execution_count": 11
        }
      ]
    },
    {
      "cell_type": "code",
      "metadata": {
        "colab": {
          "base_uri": "https://localhost:8080/",
          "height": 49
        },
        "id": "IlOj-52z5jkR",
        "outputId": "fec43c0c-6efa-47fa-9756-a8afaff378ab"
      },
      "source": [
        "# Verification of duplicates\n",
        "duplicates = df_2020[df_2020.duplicated(subset='quoteID', keep='first')] \n",
        "duplicates.head()"
      ],
      "execution_count": 12,
      "outputs": [
        {
          "output_type": "execute_result",
          "data": {
            "text/html": [
              "<div>\n",
              "<style scoped>\n",
              "    .dataframe tbody tr th:only-of-type {\n",
              "        vertical-align: middle;\n",
              "    }\n",
              "\n",
              "    .dataframe tbody tr th {\n",
              "        vertical-align: top;\n",
              "    }\n",
              "\n",
              "    .dataframe thead th {\n",
              "        text-align: right;\n",
              "    }\n",
              "</style>\n",
              "<table border=\"1\" class=\"dataframe\">\n",
              "  <thead>\n",
              "    <tr style=\"text-align: right;\">\n",
              "      <th></th>\n",
              "      <th>quoteID</th>\n",
              "      <th>quotation</th>\n",
              "      <th>speaker</th>\n",
              "      <th>gender</th>\n",
              "      <th>nationality</th>\n",
              "      <th>occupation</th>\n",
              "      <th>qid</th>\n",
              "      <th>date</th>\n",
              "      <th>numOccurrences</th>\n",
              "      <th>urls</th>\n",
              "      <th>newspapers</th>\n",
              "    </tr>\n",
              "  </thead>\n",
              "  <tbody>\n",
              "  </tbody>\n",
              "</table>\n",
              "</div>"
            ],
            "text/plain": [
              "Empty DataFrame\n",
              "Columns: [quoteID, quotation, speaker, gender, nationality, occupation, qid, date, numOccurrences, urls, newspapers]\n",
              "Index: []"
            ]
          },
          "metadata": {},
          "execution_count": 12
        }
      ]
    },
    {
      "cell_type": "markdown",
      "metadata": {
        "id": "7msABdN75tUZ"
      },
      "source": [
        "There are no missing quotes nor duplicates. Thus we don't have additional modification to make."
      ]
    },
    {
      "cell_type": "markdown",
      "metadata": {
        "id": "pz1BA20r8T6L"
      },
      "source": [
        "### 4.3 Visualisation of genders\n",
        "<a id=\"visual_genders\"></a>\n",
        "\n",
        "We want to conduct an analysis on the evolution of women's presence in UK's newspapers. We will have a first look on the repartition of the speaker's genders.\n",
        "\n"
      ]
    },
    {
      "cell_type": "code",
      "metadata": {
        "id": "hWfaLAYL8XuD"
      },
      "source": [
        "# Convert the 2D gender column to 1D\n",
        "def convert(series):\n",
        "  return pd.Series([x for _list in series for x in _list])"
      ],
      "execution_count": 13,
      "outputs": []
    },
    {
      "cell_type": "code",
      "metadata": {
        "id": "QQ3OeK2a8yOh",
        "colab": {
          "base_uri": "https://localhost:8080/"
        },
        "outputId": "2665cfcd-a118-481a-fa92-025e5b222f4c"
      },
      "source": [
        "# Get number of each gender\n",
        "convert(df_2020[\"gender\"]).value_counts()"
      ],
      "execution_count": 14,
      "outputs": [
        {
          "output_type": "execute_result",
          "data": {
            "text/plain": [
              "male                  17960\n",
              "female                 7646\n",
              "non-binary               52\n",
              "transgender female       39\n",
              "genderfluid               6\n",
              "transgender male          6\n",
              "cisgender female          2\n",
              "genderqueer               1\n",
              "intersex                  1\n",
              "dtype: int64"
            ]
          },
          "metadata": {},
          "execution_count": 14
        }
      ]
    },
    {
      "cell_type": "code",
      "metadata": {
        "id": "-xTegaX_86FY",
        "colab": {
          "base_uri": "https://localhost:8080/",
          "height": 462
        },
        "outputId": "332fd959-c95e-4381-e7b3-d012d5940678"
      },
      "source": [
        "# Visualisation of gender distribution\n",
        "# TODO: As sns plot... and depending on newspaper\n",
        "import matplotlib.pyplot as plt\n",
        "fig, ax = plt.subplots(figsize = (17,7))\n",
        "ax.bar(convert(df_2020[\"gender\"]).value_counts().index,\n",
        "        convert(df_2020[\"gender\"]).value_counts().values)\n",
        "ax.set_ylabel(\"Frequency\", size = 12)\n",
        "ax.set_title(\"Genders\", size = 14)"
      ],
      "execution_count": 15,
      "outputs": [
        {
          "output_type": "execute_result",
          "data": {
            "text/plain": [
              "Text(0.5, 1.0, 'Genders')"
            ]
          },
          "metadata": {},
          "execution_count": 15
        },
        {
          "output_type": "display_data",
          "data": {
            "image/png": "[encoded data removed]",
            "text/plain": [
              "<Figure size 1224x504 with 1 Axes>"
            ]
          },
          "metadata": {
            "needs_background": "light"
          }
        }
      ]
    },
    {
      "cell_type": "markdown",
      "metadata": {
        "id": "_blwi1t2yC9n"
      },
      "source": [
        "A expected, the minorities are almost negligible in comparison to the two main genders. But it is still very intesting to notice their presence even in small numbers. We could make a further analysis on them but first we will concentrate on the repartition between male and female. Unsurprsingly, male speakers are quoted two times more than female ones. "
      ]
    },
    {
      "cell_type": "code",
      "metadata": {
        "colab": {
          "base_uri": "https://localhost:8080/",
          "height": 598
        },
        "id": "agh4VFxWUVJJ",
        "outputId": "a0eaa678-f07a-4bac-d4a6-15d1deed1874"
      },
      "source": [
        ""
      ],
      "execution_count": 18,
      "outputs": [
        {
          "output_type": "execute_result",
          "data": {
            "text/html": [
              "<div>\n",
              "<style scoped>\n",
              "    .dataframe tbody tr th:only-of-type {\n",
              "        vertical-align: middle;\n",
              "    }\n",
              "\n",
              "    .dataframe tbody tr th {\n",
              "        vertical-align: top;\n",
              "    }\n",
              "\n",
              "    .dataframe thead th {\n",
              "        text-align: right;\n",
              "    }\n",
              "</style>\n",
              "<table border=\"1\" class=\"dataframe\">\n",
              "  <thead>\n",
              "    <tr style=\"text-align: right;\">\n",
              "      <th></th>\n",
              "      <th>quoteID</th>\n",
              "      <th>quotation</th>\n",
              "      <th>speaker</th>\n",
              "      <th>gender</th>\n",
              "      <th>nationality</th>\n",
              "      <th>occupation</th>\n",
              "      <th>qid</th>\n",
              "      <th>date</th>\n",
              "      <th>numOccurrences</th>\n",
              "      <th>urls</th>\n",
              "      <th>newspapers</th>\n",
              "    </tr>\n",
              "  </thead>\n",
              "  <tbody>\n",
              "    <tr>\n",
              "      <th>0</th>\n",
              "      <td>2020-01-31-008580</td>\n",
              "      <td>As you reach or have reached the apex of your ...</td>\n",
              "      <td>Keyon Dooling</td>\n",
              "      <td>[male]</td>\n",
              "      <td>[United States of America]</td>\n",
              "      <td>[basketball player]</td>\n",
              "      <td>Q304349</td>\n",
              "      <td>2020-01-31 19:07:55</td>\n",
              "      <td>1</td>\n",
              "      <td>[https://www.theguardian.com/sport/2020/jan/31...</td>\n",
              "      <td>[The Guardian]</td>\n",
              "    </tr>\n",
              "    <tr>\n",
              "      <th>1</th>\n",
              "      <td>2020-01-20-006469</td>\n",
              "      <td>At the same time we want to remain friends wit...</td>\n",
              "      <td>Tim Martin</td>\n",
              "      <td>[male]</td>\n",
              "      <td>None</td>\n",
              "      <td>[American football player]</td>\n",
              "      <td>Q20670776</td>\n",
              "      <td>2020-01-20 09:08:24</td>\n",
              "      <td>4</td>\n",
              "      <td>[https://www.dailystar.co.uk/real-life/wethers...</td>\n",
              "      <td>[The Sun]</td>\n",
              "    </tr>\n",
              "    <tr>\n",
              "      <th>2</th>\n",
              "      <td>2020-04-03-006933</td>\n",
              "      <td>Been home-schooling a 6-year-old and 8-year-ol...</td>\n",
              "      <td>Shonda Rhimes</td>\n",
              "      <td>[female]</td>\n",
              "      <td>[United States of America]</td>\n",
              "      <td>[film director, screenwriter, writer, film pro...</td>\n",
              "      <td>Q242329</td>\n",
              "      <td>2020-04-03 16:00:00</td>\n",
              "      <td>1</td>\n",
              "      <td>[http://www.thetimes.co.uk/edition/magazine/ca...</td>\n",
              "      <td>[The Times]</td>\n",
              "    </tr>\n",
              "    <tr>\n",
              "      <th>3</th>\n",
              "      <td>2020-04-15-018814</td>\n",
              "      <td>I am now in agreement that we should move forw...</td>\n",
              "      <td>David Boies</td>\n",
              "      <td>[male]</td>\n",
              "      <td>[United States of America]</td>\n",
              "      <td>[lawyer]</td>\n",
              "      <td>Q5231515</td>\n",
              "      <td>2020-04-15 15:46:38</td>\n",
              "      <td>1</td>\n",
              "      <td>[https://www.thesun.co.uk/news/11403669/jeffre...</td>\n",
              "      <td>[The Sun]</td>\n",
              "    </tr>\n",
              "    <tr>\n",
              "      <th>4</th>\n",
              "      <td>2020-02-16-014286</td>\n",
              "      <td>I don't want to make a career out of [ remakin...</td>\n",
              "      <td>Ramiro Gomez</td>\n",
              "      <td>[male]</td>\n",
              "      <td>None</td>\n",
              "      <td>[artist]</td>\n",
              "      <td>Q30693403</td>\n",
              "      <td>2020-02-16 15:00:32</td>\n",
              "      <td>1</td>\n",
              "      <td>[https://www.theguardian.com/artanddesign/2020...</td>\n",
              "      <td>[The Guardian]</td>\n",
              "    </tr>\n",
              "  </tbody>\n",
              "</table>\n",
              "</div>"
            ],
            "text/plain": [
              "             quoteID  ...      newspapers\n",
              "0  2020-01-31-008580  ...  [The Guardian]\n",
              "1  2020-01-20-006469  ...       [The Sun]\n",
              "2  2020-04-03-006933  ...     [The Times]\n",
              "3  2020-04-15-018814  ...       [The Sun]\n",
              "4  2020-02-16-014286  ...  [The Guardian]\n",
              "\n",
              "[5 rows x 11 columns]"
            ]
          },
          "metadata": {},
          "execution_count": 18
        }
      ]
    },
    {
      "cell_type": "code",
      "metadata": {
        "id": "fikgB8DS9y-R",
        "colab": {
          "base_uri": "https://localhost:8080/",
          "height": 649
        },
        "outputId": "8c46f27f-2170-41d4-95d7-b7ac13305fff"
      },
      "source": [
        "# Creation of datafram, male speakers\n",
        "males = df_2020[df_2020['gender'].apply(lambda x: any(['male' in x]))]\n",
        "#we only keep genders that have one item 'male'\n",
        "males['gender'] = males['gender'].apply(lambda x: x[0])\n",
        "males.head()"
      ],
      "execution_count": 47,
      "outputs": [
        {
          "output_type": "stream",
          "name": "stderr",
          "text": [
            "/usr/local/lib/python3.7/dist-packages/ipykernel_launcher.py:4: SettingWithCopyWarning: \n",
            "A value is trying to be set on a copy of a slice from a DataFrame.\n",
            "Try using .loc[row_indexer,col_indexer] = value instead\n",
            "\n",
            "See the caveats in the documentation: https://pandas.pydata.org/pandas-docs/stable/user_guide/indexing.html#returning-a-view-versus-a-copy\n",
            "  after removing the cwd from sys.path.\n"
          ]
        },
        {
          "output_type": "execute_result",
          "data": {
            "text/html": [
              "<div>\n",
              "<style scoped>\n",
              "    .dataframe tbody tr th:only-of-type {\n",
              "        vertical-align: middle;\n",
              "    }\n",
              "\n",
              "    .dataframe tbody tr th {\n",
              "        vertical-align: top;\n",
              "    }\n",
              "\n",
              "    .dataframe thead th {\n",
              "        text-align: right;\n",
              "    }\n",
              "</style>\n",
              "<table border=\"1\" class=\"dataframe\">\n",
              "  <thead>\n",
              "    <tr style=\"text-align: right;\">\n",
              "      <th></th>\n",
              "      <th>quoteID</th>\n",
              "      <th>quotation</th>\n",
              "      <th>speaker</th>\n",
              "      <th>gender</th>\n",
              "      <th>nationality</th>\n",
              "      <th>occupation</th>\n",
              "      <th>qid</th>\n",
              "      <th>date</th>\n",
              "      <th>numOccurrences</th>\n",
              "      <th>urls</th>\n",
              "      <th>newspapers</th>\n",
              "    </tr>\n",
              "  </thead>\n",
              "  <tbody>\n",
              "    <tr>\n",
              "      <th>0</th>\n",
              "      <td>2020-01-31-008580</td>\n",
              "      <td>As you reach or have reached the apex of your ...</td>\n",
              "      <td>Keyon Dooling</td>\n",
              "      <td>male</td>\n",
              "      <td>[United States of America]</td>\n",
              "      <td>[basketball player]</td>\n",
              "      <td>Q304349</td>\n",
              "      <td>2020-01-31 19:07:55</td>\n",
              "      <td>1</td>\n",
              "      <td>[https://www.theguardian.com/sport/2020/jan/31...</td>\n",
              "      <td>[The Guardian]</td>\n",
              "    </tr>\n",
              "    <tr>\n",
              "      <th>1</th>\n",
              "      <td>2020-01-20-006469</td>\n",
              "      <td>At the same time we want to remain friends wit...</td>\n",
              "      <td>Tim Martin</td>\n",
              "      <td>male</td>\n",
              "      <td>None</td>\n",
              "      <td>[American football player]</td>\n",
              "      <td>Q20670776</td>\n",
              "      <td>2020-01-20 09:08:24</td>\n",
              "      <td>4</td>\n",
              "      <td>[https://www.dailystar.co.uk/real-life/wethers...</td>\n",
              "      <td>[The Sun]</td>\n",
              "    </tr>\n",
              "    <tr>\n",
              "      <th>3</th>\n",
              "      <td>2020-04-15-018814</td>\n",
              "      <td>I am now in agreement that we should move forw...</td>\n",
              "      <td>David Boies</td>\n",
              "      <td>male</td>\n",
              "      <td>[United States of America]</td>\n",
              "      <td>[lawyer]</td>\n",
              "      <td>Q5231515</td>\n",
              "      <td>2020-04-15 15:46:38</td>\n",
              "      <td>1</td>\n",
              "      <td>[https://www.thesun.co.uk/news/11403669/jeffre...</td>\n",
              "      <td>[The Sun]</td>\n",
              "    </tr>\n",
              "    <tr>\n",
              "      <th>4</th>\n",
              "      <td>2020-02-16-014286</td>\n",
              "      <td>I don't want to make a career out of [ remakin...</td>\n",
              "      <td>Ramiro Gomez</td>\n",
              "      <td>male</td>\n",
              "      <td>None</td>\n",
              "      <td>[artist]</td>\n",
              "      <td>Q30693403</td>\n",
              "      <td>2020-02-16 15:00:32</td>\n",
              "      <td>1</td>\n",
              "      <td>[https://www.theguardian.com/artanddesign/2020...</td>\n",
              "      <td>[The Guardian]</td>\n",
              "    </tr>\n",
              "    <tr>\n",
              "      <th>5</th>\n",
              "      <td>2020-01-03-030623</td>\n",
              "      <td>I'm not in medieval times!</td>\n",
              "      <td>Robin Van Persie</td>\n",
              "      <td>male</td>\n",
              "      <td>[Kingdom of the Netherlands]</td>\n",
              "      <td>[association football player]</td>\n",
              "      <td>Q2339</td>\n",
              "      <td>2020-01-03 22:32:10</td>\n",
              "      <td>94</td>\n",
              "      <td>[https://www.thesun.co.uk/sport/football/10666...</td>\n",
              "      <td>[The Sun]</td>\n",
              "    </tr>\n",
              "  </tbody>\n",
              "</table>\n",
              "</div>"
            ],
            "text/plain": [
              "             quoteID  ...      newspapers\n",
              "0  2020-01-31-008580  ...  [The Guardian]\n",
              "1  2020-01-20-006469  ...       [The Sun]\n",
              "3  2020-04-15-018814  ...       [The Sun]\n",
              "4  2020-02-16-014286  ...  [The Guardian]\n",
              "5  2020-01-03-030623  ...       [The Sun]\n",
              "\n",
              "[5 rows x 11 columns]"
            ]
          },
          "metadata": {},
          "execution_count": 47
        }
      ]
    },
    {
      "cell_type": "code",
      "metadata": {
        "id": "nhdMRSEC-V86",
        "colab": {
          "base_uri": "https://localhost:8080/",
          "height": 734
        },
        "outputId": "720ff36f-60f1-4912-b45b-5968c45a4ea0"
      },
      "source": [
        "# Creation of datafram, female speakers\n",
        "females = df_2020[df_2020['gender'].apply(lambda x: any(['female' in x]))]\n",
        "#we only keep genders that have one item 'female'\n",
        "females['gender'] = females['gender'].apply(lambda x: x[0])\n",
        "\n",
        "females.head()"
      ],
      "execution_count": 46,
      "outputs": [
        {
          "output_type": "stream",
          "name": "stderr",
          "text": [
            "/usr/local/lib/python3.7/dist-packages/ipykernel_launcher.py:4: SettingWithCopyWarning: \n",
            "A value is trying to be set on a copy of a slice from a DataFrame.\n",
            "Try using .loc[row_indexer,col_indexer] = value instead\n",
            "\n",
            "See the caveats in the documentation: https://pandas.pydata.org/pandas-docs/stable/user_guide/indexing.html#returning-a-view-versus-a-copy\n",
            "  after removing the cwd from sys.path.\n"
          ]
        },
        {
          "output_type": "execute_result",
          "data": {
            "text/html": [
              "<div>\n",
              "<style scoped>\n",
              "    .dataframe tbody tr th:only-of-type {\n",
              "        vertical-align: middle;\n",
              "    }\n",
              "\n",
              "    .dataframe tbody tr th {\n",
              "        vertical-align: top;\n",
              "    }\n",
              "\n",
              "    .dataframe thead th {\n",
              "        text-align: right;\n",
              "    }\n",
              "</style>\n",
              "<table border=\"1\" class=\"dataframe\">\n",
              "  <thead>\n",
              "    <tr style=\"text-align: right;\">\n",
              "      <th></th>\n",
              "      <th>quoteID</th>\n",
              "      <th>quotation</th>\n",
              "      <th>speaker</th>\n",
              "      <th>gender</th>\n",
              "      <th>nationality</th>\n",
              "      <th>occupation</th>\n",
              "      <th>qid</th>\n",
              "      <th>date</th>\n",
              "      <th>numOccurrences</th>\n",
              "      <th>urls</th>\n",
              "      <th>newspapers</th>\n",
              "    </tr>\n",
              "  </thead>\n",
              "  <tbody>\n",
              "    <tr>\n",
              "      <th>2</th>\n",
              "      <td>2020-04-03-006933</td>\n",
              "      <td>Been home-schooling a 6-year-old and 8-year-ol...</td>\n",
              "      <td>Shonda Rhimes</td>\n",
              "      <td>female</td>\n",
              "      <td>[United States of America]</td>\n",
              "      <td>[film director, screenwriter, writer, film pro...</td>\n",
              "      <td>Q242329</td>\n",
              "      <td>2020-04-03 16:00:00</td>\n",
              "      <td>1</td>\n",
              "      <td>[http://www.thetimes.co.uk/edition/magazine/ca...</td>\n",
              "      <td>[The Times]</td>\n",
              "    </tr>\n",
              "    <tr>\n",
              "      <th>8</th>\n",
              "      <td>2020-04-08-075398</td>\n",
              "      <td>Your positivity on screen makes so many people...</td>\n",
              "      <td>HOLLY Willoughby</td>\n",
              "      <td>female</td>\n",
              "      <td>[United Kingdom]</td>\n",
              "      <td>[television presenter, model]</td>\n",
              "      <td>Q1395713</td>\n",
              "      <td>2020-04-08 07:10:04</td>\n",
              "      <td>1</td>\n",
              "      <td>[https://www.thesun.co.uk/tvandshowbiz/1135207...</td>\n",
              "      <td>[The Sun]</td>\n",
              "    </tr>\n",
              "    <tr>\n",
              "      <th>12</th>\n",
              "      <td>2020-01-07-028035</td>\n",
              "      <td>I saw Snoop Dogg and given the fact I have met...</td>\n",
              "      <td>Nicole Scherzinger</td>\n",
              "      <td>female</td>\n",
              "      <td>[United States of America]</td>\n",
              "      <td>[actor, singer, dancer, musician, composer, re...</td>\n",
              "      <td>Q167696</td>\n",
              "      <td>2020-01-07 22:30:07</td>\n",
              "      <td>1</td>\n",
              "      <td>[https://www.thesun.co.uk/tvandshowbiz/1069315...</td>\n",
              "      <td>[The Sun]</td>\n",
              "    </tr>\n",
              "    <tr>\n",
              "      <th>26</th>\n",
              "      <td>2020-02-12-041734</td>\n",
              "      <td>I won't be staying by myself tonight.</td>\n",
              "      <td>Kelly Brook</td>\n",
              "      <td>female</td>\n",
              "      <td>[United Kingdom]</td>\n",
              "      <td>[actor, model, film actor, television presenter]</td>\n",
              "      <td>Q255060</td>\n",
              "      <td>2020-02-12 22:34:08</td>\n",
              "      <td>104</td>\n",
              "      <td>[https://www.thesun.co.uk/tvandshowbiz/1095236...</td>\n",
              "      <td>[The Sun]</td>\n",
              "    </tr>\n",
              "    <tr>\n",
              "      <th>29</th>\n",
              "      <td>2020-02-24-048695</td>\n",
              "      <td>She's got as hammock, going back to my jungle ...</td>\n",
              "      <td>JACQUELINE Jossa</td>\n",
              "      <td>female</td>\n",
              "      <td>[United Kingdom]</td>\n",
              "      <td>[actor]</td>\n",
              "      <td>Q6120126</td>\n",
              "      <td>2020-02-24 12:16:46</td>\n",
              "      <td>1</td>\n",
              "      <td>[https://www.thesun.co.uk/tvandshowbiz/1102843...</td>\n",
              "      <td>[The Sun]</td>\n",
              "    </tr>\n",
              "  </tbody>\n",
              "</table>\n",
              "</div>"
            ],
            "text/plain": [
              "              quoteID  ...   newspapers\n",
              "2   2020-04-03-006933  ...  [The Times]\n",
              "8   2020-04-08-075398  ...    [The Sun]\n",
              "12  2020-01-07-028035  ...    [The Sun]\n",
              "26  2020-02-12-041734  ...    [The Sun]\n",
              "29  2020-02-24-048695  ...    [The Sun]\n",
              "\n",
              "[5 rows x 11 columns]"
            ]
          },
          "metadata": {},
          "execution_count": 46
        }
      ]
    },
    {
      "cell_type": "code",
      "metadata": {
        "id": "jerdRXxq-xJA",
        "colab": {
          "base_uri": "https://localhost:8080/",
          "height": 370
        },
        "outputId": "faa80d58-e02f-4413-e860-b3dcfc041585"
      },
      "source": [
        "# Distribution of male and female speakers regarding the number of occurrences of quotes\n",
        "fig, axs = plt.subplots(1,2, sharey='row')\n",
        "sns.boxplot(x ='gender', y = 'numOccurrences',data=males, ax = axs[0])\n",
        "sns.boxplot(x='gender', y='numOccurrences', data = females, ax = axs[1])\n",
        "fig.suptitle('Number of occurrences per gender')\n",
        "fig.set_size_inches(15,5)\n",
        "plt.show()"
      ],
      "execution_count": 48,
      "outputs": [
        {
          "output_type": "display_data",
          "data": {
            "image/png": "[encoded data removed]",
            "text/plain": [
              "<Figure size 1080x360 with 2 Axes>"
            ]
          },
          "metadata": {
            "needs_background": "light"
          }
        }
      ]
    },
    {
      "cell_type": "code",
      "metadata": {
        "id": "UzGd53BT_C1V"
      },
      "source": [
        "# quotes that we could consider as outliers??\n",
        "# females.loc[females.numOccurrences >= 300]\n",
        "# males.loc[males.numOccurrences >= 700]"
      ],
      "execution_count": null,
      "outputs": []
    },
    {
      "cell_type": "markdown",
      "metadata": {
        "id": "J1jJIjcb7L4n"
      },
      "source": [
        "Seeing the distribution regarding the number of occurrences of quotes from male and female speakers, we can clearly see a stronger presence of male speakers in the newspapers. This support our hypothesis of a domination by men in this domain. This raises further questions for our analysis concerning: the evolution of this domination throughout the years and depending on different countries, the themes aborded by different genders or the representation of gender minorities "
      ]
    }
  ]
}
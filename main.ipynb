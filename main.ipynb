{
  "nbformat": 4,
  "nbformat_minor": 0,
  "metadata": {
    "colab": {
      "name": "main.ipynb",
      "provenance": [],
      "collapsed_sections": [],
      "include_colab_link": true
    },
    "kernelspec": {
      "display_name": "Python 3 (ipykernel)",
      "language": "python",
      "name": "python3"
    },
    "language_info": {
      "codemirror_mode": {
        "name": "ipython",
        "version": 3
      },
      "file_extension": ".py",
      "mimetype": "text/x-python",
      "name": "python",
      "nbconvert_exporter": "python",
      "pygments_lexer": "ipython3",
      "version": "3.8.11"
    },
    "accelerator": "TPU"
  },
  "cells": [
    {
      "cell_type": "markdown",
      "metadata": {
        "id": "view-in-github",
        "colab_type": "text"
      },
      "source": [
        "<a href=\"https://colab.research.google.com/github/morwald/ada_project/blob/master/main.ipynb\" target=\"_parent\"><img src=\"https://colab.research.google.com/assets/colab-badge.svg\" alt=\"Open In Colab\"/></a>"
      ]
    },
    {
      "cell_type": "markdown",
      "metadata": {
        "id": "7txCTyrTM0qJ"
      },
      "source": [
        "# Analysis of gender distribution in UK's leading newspapers"
      ]
    },
    {
      "cell_type": "markdown",
      "metadata": {
        "id": "wEzY5GJ5M0qO"
      },
      "source": [
        "This notebook serves as a first presentation of our project for milestone 2. It is structured and written in such  a way that we can directly continue on it for milestone 3."
      ]
    },
    {
      "cell_type": "markdown",
      "metadata": {
        "id": "ucef3_UkM0qP"
      },
      "source": [
        "## Content\n",
        "1. [Setup](#setup)   \n",
        "    1.1 [Imports](#imports)  \n",
        "    1.2 [Data paths](#data_paths)   \n",
        "    1.3 [Utility functions](#utility_functions)   \n",
        "2. [Data preparation and cleaning](#data_prep)    \n",
        "    2.1 [Columns and rows selection](#cols_rows_select)  \n",
        "    2.2 [News paper selection](#newspaper_select)\n",
        "3. [Additional data set: speaker attributes](#additional_dataset)    \n",
        "    3.1 [Explore attributes](#explore_attr)  \n",
        "    3.2 [Merge speaker attributes](#merge_speaker_attr)    \n",
        "    3.3 [Save merged data as pickle](#save_pickle)                \n",
        "4. [Research questions](#research_question)   \n",
        "    4.1 [Load merged data](#load_pickle)   \n",
        "    4.2 [Sanity_check](#sanity_check)  \n",
        "    4.3 [Visualisation of genders](#visual_genders)  "
      ]
    },
    {
      "cell_type": "markdown",
      "metadata": {
        "id": "owgTJarZM0qP",
        "tags": []
      },
      "source": [
        "## 1. Setup\n",
        "<a id=\"setup\"></a>"
      ]
    },
    {
      "cell_type": "markdown",
      "metadata": {
        "id": "5yqsvZuAM0qQ"
      },
      "source": [
        "### 1.1 Imports\n",
        "<a id=\"imports\"></a>"
      ]
    },
    {
      "cell_type": "code",
      "metadata": {
        "id": "GFoAWQprM0qQ"
      },
      "source": [
        "import pandas as pd\n",
        "import numpy as np\n",
        "import seaborn as sns\n",
        "import matplotlib.pyplot as plt\n",
        "import json\n",
        "import bz2"
      ],
      "execution_count": 1,
      "outputs": []
    },
    {
      "cell_type": "markdown",
      "metadata": {
        "id": "KKWfSxjgM0qR"
      },
      "source": [
        "### 1.2 Data paths\n",
        "<a id=\"data_paths\"></a>\n",
        "\n",
        "**Important**: When using Google Colab the ```use_colab``` variable has to be set to true. This way the files can be accessed directly from our shared drive. If you wan't to work locally the raw and filtered data have to be stored locally in the root folder under _Quotebank_ and _Filtered data_. The finally merged and cleaned data will be stored in _Merged data_ in a pickle format. To execute section the [Data preparation and cleaning](#data_prep) the raw data in the folder _Quotebank_ is needed but this section has to be executed only once.\n",
        "\n",
        "You can download the raw data here: [Quotebank](https://zenodo.org/record/4277311#.YYzk6_oo9hE)\n",
        "\n",
        "The addtional dataset can be found here: [Speakers](https://drive.google.com/drive/folders/1VAFHacZFh0oxSxilgNByb1nlNsqznUf0)"
      ]
    },
    {
      "cell_type": "code",
      "metadata": {
        "id": "XgjGqxuSnkx2"
      },
      "source": [
        "# Comment the files which aren't stored locally\n",
        "# In Colab everything should be available\n",
        "RAW_QUOTES_2020_PATH = 'Quotebank/quotes-2020.json.bz2' \n",
        "FILTERED_QUOTES_2020_PATH = 'Filtered data/quotes-2020-gb.json.bz2'\n",
        "QUOTES_2020_PATH = 'Merged data/quotes-2020-gb.pkl'\n",
        "\n",
        "RAW_QUOTES_2019_PATH = 'Quotebank/quotes-2019.json.bz2' \n",
        "FILTERED_QUOTES_2019_PATH = 'Filtered data/quotes-2019-gb.json.bz2'\n",
        "QUOTES_2019_PATH = 'Merged data/quotes-2019-gb.pkl' \n",
        "\n",
        "RAW_QUOTES_2018_PATH = 'Quotebank/quotes-2018.json.bz2' \n",
        "FILTERED_QUOTES_2018_PATH = 'Filtered data/quotes-2018-gb.json.bz2'\n",
        "QUOTES_2018_PATH = 'Merged data/quotes-2018-gb.pkl' \n",
        "\n",
        "RAW_QUOTES_2017_PATH = 'Quotebank/quotes-2017.json.bz2' \n",
        "FILTERED_QUOTES_2017_PATH = 'Filtered data/quotes-2017-gb.json.bz2' \n",
        "QUOTES_2017_PATH = 'Merged data/quotes-2017-gb.pkl'\n",
        "\n",
        "RAW_QUOTES_2016_PATH = 'raw_data/quotes-2016.json.bz2' \n",
        "FILTERED_QUOTES_2016_PATH = 'Filtered data/quotes-2016-gb.json.bz2'\n",
        "QUOTES_2016_PATH = 'Merged data/quotes-2016-gb.pkl'\n",
        "\n",
        "RAW_QUOTES_2015_PATH = 'raw_data/quotes-2015.json.bz2' \n",
        "FILTERED_QUOTES_2015_PATH = 'Filtered data/quotes-2015-gb.json.bz2'\n",
        "QUOTES_2015_PATH = 'Merged data/quotes-2015-gb.pkl'\n",
        "\n",
        "# Additional data set\n",
        "SPEAKER_ATTRIBUTES_PATH = 'Project datasets/speaker_attributes.parquet'\n",
        "LABELS_WIKIDATA_PATH = 'Project datasets/wikidata_labels_descriptions_quotebank.csv.bz2'"
      ],
      "execution_count": 2,
      "outputs": []
    },
    {
      "cell_type": "code",
      "metadata": {
        "id": "hzfP-W7znkx3"
      },
      "source": [
        "# Change to true if you want to use google colab\n",
        "use_colab = True"
      ],
      "execution_count": 3,
      "outputs": []
    },
    {
      "cell_type": "markdown",
      "metadata": {
        "id": "qefk9v2tSmnT"
      },
      "source": [
        "We mount the drive and go to the our shared directory if necessary."
      ]
    },
    {
      "cell_type": "code",
      "metadata": {
        "colab": {
          "base_uri": "https://localhost:8080/"
        },
        "id": "TYbQA-9aNUeC",
        "outputId": "a0da4a06-11aa-4e67-9977-391576ff35d8"
      },
      "source": [
        "# Import with EPFL google drive!\n",
        "if use_colab:\n",
        "    from google.colab import drive\n",
        "    drive.mount('/content/drive', force_remount=True)\n",
        "    \n",
        "    %cd /content/drive/Shareddrives/ADA-project"
      ],
      "execution_count": 4,
      "outputs": [
        {
          "output_type": "stream",
          "name": "stdout",
          "text": [
            "Mounted at /content/drive\n",
            "/content/drive/Shareddrives/ADA-project\n"
          ]
        }
      ]
    },
    {
      "cell_type": "markdown",
      "metadata": {
        "id": "02ADHNIxSvDl"
      },
      "source": [
        "We have to install an older version of pandas in order to be able to use the 'chunksize' feature in colab."
      ]
    },
    {
      "cell_type": "code",
      "metadata": {
        "colab": {
          "base_uri": "https://localhost:8080/"
        },
        "id": "24i5C-GlRwGW",
        "outputId": "d526a282-ef86-40f8-fb17-dde73ca85453"
      },
      "source": [
        "if use_colab:\n",
        "    !pip install pandas==1.0.5\n",
        "\n",
        "    # Reimport\n",
        "    import pandas as pd\n",
        "    print(pd.__version__)"
      ],
      "execution_count": 5,
      "outputs": [
        {
          "output_type": "stream",
          "name": "stdout",
          "text": [
            "Requirement already satisfied: pandas==1.0.5 in /usr/local/lib/python3.7/dist-packages (1.0.5)\n",
            "Requirement already satisfied: pytz>=2017.2 in /usr/local/lib/python3.7/dist-packages (from pandas==1.0.5) (2018.9)\n",
            "Requirement already satisfied: numpy>=1.13.3 in /usr/local/lib/python3.7/dist-packages (from pandas==1.0.5) (1.19.5)\n",
            "Requirement already satisfied: python-dateutil>=2.6.1 in /usr/local/lib/python3.7/dist-packages (from pandas==1.0.5) (2.8.2)\n",
            "Requirement already satisfied: six>=1.5 in /usr/local/lib/python3.7/dist-packages (from python-dateutil>=2.6.1->pandas==1.0.5) (1.15.0)\n",
            "1.0.5\n"
          ]
        }
      ]
    },
    {
      "cell_type": "markdown",
      "metadata": {
        "id": "KymkAGpdM0qT"
      },
      "source": [
        "### 1.3 Utility functions\n",
        "<a id=\"utility_functions\"></a>"
      ]
    },
    {
      "cell_type": "code",
      "metadata": {
        "id": "tAN-njz8SJ2z"
      },
      "source": [
        "def load_mini_version_of_data(path_to_file, chunksize, nb_chunks):\n",
        "    \"\"\"\n",
        "    Returns a mini dataframe from of a bz2 compressed json file.\n",
        "    :path_to_file   file path as string\n",
        "    :chunksize      size to iterate\n",
        "    :nb_chunks      how many chunks\n",
        "    :return         pandas.DataFrame with chunksize*nb_chunks of rows\n",
        "    \"\"\"\n",
        "    \n",
        "    curr_chunk = 0\n",
        "    chunk_list = []\n",
        "    \n",
        "    if use_colab:\n",
        "          for chunk in pd.read_json(path_to_file, lines=True, compression='bz2', chunksize=chunksize):\n",
        "              if curr_chunk == nb_chunks:\n",
        "                  break\n",
        "              curr_chunk = curr_chunk + 1\n",
        "              chunk_list.append(chunk)\n",
        "    else:\n",
        "      with pd.read_json(path_to_file, lines=True, compression='bz2', chunksize=chunksize) as df_reader:\n",
        "          for chunk in df_reader:\n",
        "              if curr_chunk == nb_chunks:\n",
        "                  break\n",
        "          \n",
        "              curr_chunk = curr_chunk + 1\n",
        "              chunk_list.append(chunk)\n",
        "    \n",
        "    df = pd.concat(chunk_list)\n",
        "    return df"
      ],
      "execution_count": 8,
      "outputs": []
    },
    {
      "cell_type": "markdown",
      "metadata": {
        "id": "e3X94ETfM0qU",
        "tags": []
      },
      "source": [
        "## 2. Data preparation and cleaning\n",
        "<a id=\"data_prep\"></a>\n",
        "\n",
        "The quotebank dataset is too large to directly access it with a dataframe. This section provides all the steps to filter the data we need for our analysis. The filtering and preparation is done based on our research question. Please check the README for details. Further explanations will be given under [Research question](#research_question).\n",
        "\n",
        "The data preperation can be done on a per year basis of the Quotebank data set."
      ]
    },
    {
      "cell_type": "markdown",
      "metadata": {
        "id": "0aBizKy0M0qV"
      },
      "source": [
        "### 2.1 Column and row selection\n",
        "<a id=\"cols_rows_select\"></a>"
      ]
    },
    {
      "cell_type": "code",
      "metadata": {
        "colab": {
          "base_uri": "https://localhost:8080/",
          "height": 632
        },
        "id": "DDiGK7IoM0qV",
        "outputId": "14ca1848-f3a7-4794-da38-e29a60337ac4"
      },
      "source": [
        "# A quick look at a small subset of the data of the selected year\n",
        "year_sample_df = load_mini_version_of_data(RAW_QUOTES_2020_PATH, 10000, 10)\n",
        "year_sample_df.head()"
      ],
      "execution_count": null,
      "outputs": [
        {
          "data": {
            "text/html": [
              "<div>\n",
              "<style scoped>\n",
              "    .dataframe tbody tr th:only-of-type {\n",
              "        vertical-align: middle;\n",
              "    }\n",
              "\n",
              "    .dataframe tbody tr th {\n",
              "        vertical-align: top;\n",
              "    }\n",
              "\n",
              "    .dataframe thead th {\n",
              "        text-align: right;\n",
              "    }\n",
              "</style>\n",
              "<table border=\"1\" class=\"dataframe\">\n",
              "  <thead>\n",
              "    <tr style=\"text-align: right;\">\n",
              "      <th></th>\n",
              "      <th>quoteID</th>\n",
              "      <th>quotation</th>\n",
              "      <th>speaker</th>\n",
              "      <th>qids</th>\n",
              "      <th>date</th>\n",
              "      <th>numOccurrences</th>\n",
              "      <th>probas</th>\n",
              "      <th>urls</th>\n",
              "      <th>phase</th>\n",
              "    </tr>\n",
              "  </thead>\n",
              "  <tbody>\n",
              "    <tr>\n",
              "      <th>0</th>\n",
              "      <td>2020-01-28-000082</td>\n",
              "      <td>[ D ] espite the efforts of the partners to cr...</td>\n",
              "      <td>None</td>\n",
              "      <td>[]</td>\n",
              "      <td>2020-01-28 08:04:05</td>\n",
              "      <td>1</td>\n",
              "      <td>[[None, 0.7272], [Prime Minister Netanyahu, 0....</td>\n",
              "      <td>[http://israelnationalnews.com/News/News.aspx/...</td>\n",
              "      <td>E</td>\n",
              "    </tr>\n",
              "    <tr>\n",
              "      <th>1</th>\n",
              "      <td>2020-01-16-000088</td>\n",
              "      <td>[ Department of Homeland Security ] was livid ...</td>\n",
              "      <td>Sue Myrick</td>\n",
              "      <td>[Q367796]</td>\n",
              "      <td>2020-01-16 12:00:13</td>\n",
              "      <td>1</td>\n",
              "      <td>[[Sue Myrick, 0.8867], [None, 0.0992], [Ron Wy...</td>\n",
              "      <td>[http://thehill.com/opinion/international/4782...</td>\n",
              "      <td>E</td>\n",
              "    </tr>\n",
              "    <tr>\n",
              "      <th>2</th>\n",
              "      <td>2020-02-10-000142</td>\n",
              "      <td>... He (Madhav) also disclosed that the illega...</td>\n",
              "      <td>None</td>\n",
              "      <td>[]</td>\n",
              "      <td>2020-02-10 23:45:54</td>\n",
              "      <td>1</td>\n",
              "      <td>[[None, 0.8926], [Prakash Rai, 0.1074]]</td>\n",
              "      <td>[https://indianexpress.com/article/business/ec...</td>\n",
              "      <td>E</td>\n",
              "    </tr>\n",
              "    <tr>\n",
              "      <th>3</th>\n",
              "      <td>2020-02-15-000053</td>\n",
              "      <td>... [ I ] f it gets to the floor,</td>\n",
              "      <td>None</td>\n",
              "      <td>[]</td>\n",
              "      <td>2020-02-15 14:12:51</td>\n",
              "      <td>2</td>\n",
              "      <td>[[None, 0.581], [Andy Harris, 0.4191]]</td>\n",
              "      <td>[https://patriotpost.us/opinion/68622-trump-bu...</td>\n",
              "      <td>E</td>\n",
              "    </tr>\n",
              "    <tr>\n",
              "      <th>4</th>\n",
              "      <td>2020-01-24-000168</td>\n",
              "      <td>[ I met them ] when they just turned 4 and 7. ...</td>\n",
              "      <td>Meghan King Edmonds</td>\n",
              "      <td>[Q20684375]</td>\n",
              "      <td>2020-01-24 20:37:09</td>\n",
              "      <td>4</td>\n",
              "      <td>[[Meghan King Edmonds, 0.5446], [None, 0.2705]...</td>\n",
              "      <td>[https://people.com/parents/meghan-king-edmond...</td>\n",
              "      <td>E</td>\n",
              "    </tr>\n",
              "  </tbody>\n",
              "</table>\n",
              "</div>"
            ],
            "text/plain": [
              "             quoteID  ... phase\n",
              "0  2020-01-28-000082  ...     E\n",
              "1  2020-01-16-000088  ...     E\n",
              "2  2020-02-10-000142  ...     E\n",
              "3  2020-02-15-000053  ...     E\n",
              "4  2020-01-24-000168  ...     E\n",
              "\n",
              "[5 rows x 9 columns]"
            ]
          },
          "execution_count": 7,
          "metadata": {},
          "output_type": "execute_result"
        }
      ]
    },
    {
      "cell_type": "code",
      "metadata": {
        "colab": {
          "base_uri": "https://localhost:8080/"
        },
        "id": "hBzK83L9M0qW",
        "scrolled": true,
        "outputId": "91dc5a12-7e73-449c-8bb4-58b344bd6331"
      },
      "source": [
        "# How many quotations don't have an assigned speaker?\n",
        "sum(year_sample_df['speaker'] == 'None')"
      ],
      "execution_count": null,
      "outputs": [
        {
          "data": {
            "text/plain": [
              "34316"
            ]
          },
          "execution_count": 8,
          "metadata": {},
          "output_type": "execute_result"
        }
      ]
    },
    {
      "cell_type": "markdown",
      "metadata": {
        "id": "DH6Hbvv_M0qW"
      },
      "source": [
        "The cell above shows that there around 1/3 of the quotations are 'None' speakers. As we want to make a gender based study will will not need these rows. This eliminitation will drasticly reduce the size of the data we have to analyse.\n",
        "\n",
        "Furthermore the colums which aren't of interest for our study are:\\\n",
        "**phase**: We don't care. \\\n",
        "**probas**: We will select the speaker with highest probablity (note that 'None' speakers are already neglected)."
      ]
    },
    {
      "cell_type": "markdown",
      "metadata": {
        "id": "Mw_WR9hCM0qX"
      },
      "source": [
        "### 2.2 Newspaper selection\n",
        "<a id=\"nespaper_select\"></a>\n",
        "In a first analysis we will pick quotations of **3** of the top 12 UKs newspapers with the most reach both in prints and digital reach. See [this](https://www.statista.com/statistics/246077/reach-of-selected-national-newspapers-in-the-uk/) statistic for more details.\n",
        "We create a dataframe with their url and name."
      ]
    },
    {
      "cell_type": "code",
      "metadata": {
        "colab": {
          "base_uri": "https://localhost:8080/",
          "height": 488
        },
        "id": "MqiT955RM0qX",
        "outputId": "6b18af6f-451e-4c1e-eb81-d8739a4e0917"
      },
      "source": [
        "# List of selected newspapers and their urls\n",
        "newspapers_list = [['The Sun', 'thesun.co.uk'], \n",
        "                  ['The Guardian', 'theguardian.com'],\n",
        "                  ['The Times', 'thetimes.co.uk'],\n",
        "                  ['Metro', 'metro.co.uk'],\n",
        "                  ['Evening Standard', 'standard.co.uk'],\n",
        "                  ['Daily Mirror', 'mirror.co.uk'],\n",
        "                  ['The Daily Telegraph', 'telegraph.co.uk'],\n",
        "                  ['Daily Express', 'express.co.uk'],\n",
        "                  ['Daily Star', 'dailystar.co.uk'],\n",
        "                  ['i', 'inews.co.uk'],\n",
        "                  ['Financial Times', 'ft.com'],\n",
        "                  ['Daily Mail', 'dailymail.co.uk'],\n",
        "                  ['Daily Record', 'dailyrecord.co.uk'],\n",
        "                  ['City A.M.', 'cityam.com']]\n",
        "\n",
        "# Dataframe\n",
        "newspapers_df = pd.DataFrame(newspapers_list, columns = ['name', 'website_url'])\n",
        "newspapers_df.head(14)"
      ],
      "execution_count": 7,
      "outputs": [
        {
          "output_type": "execute_result",
          "data": {
            "text/html": [
              "<div>\n",
              "<style scoped>\n",
              "    .dataframe tbody tr th:only-of-type {\n",
              "        vertical-align: middle;\n",
              "    }\n",
              "\n",
              "    .dataframe tbody tr th {\n",
              "        vertical-align: top;\n",
              "    }\n",
              "\n",
              "    .dataframe thead th {\n",
              "        text-align: right;\n",
              "    }\n",
              "</style>\n",
              "<table border=\"1\" class=\"dataframe\">\n",
              "  <thead>\n",
              "    <tr style=\"text-align: right;\">\n",
              "      <th></th>\n",
              "      <th>name</th>\n",
              "      <th>website_url</th>\n",
              "    </tr>\n",
              "  </thead>\n",
              "  <tbody>\n",
              "    <tr>\n",
              "      <th>0</th>\n",
              "      <td>The Sun</td>\n",
              "      <td>thesun.co.uk</td>\n",
              "    </tr>\n",
              "    <tr>\n",
              "      <th>1</th>\n",
              "      <td>The Guardian</td>\n",
              "      <td>theguardian.com</td>\n",
              "    </tr>\n",
              "    <tr>\n",
              "      <th>2</th>\n",
              "      <td>The Times</td>\n",
              "      <td>thetimes.co.uk</td>\n",
              "    </tr>\n",
              "    <tr>\n",
              "      <th>3</th>\n",
              "      <td>Metro</td>\n",
              "      <td>metro.co.uk</td>\n",
              "    </tr>\n",
              "    <tr>\n",
              "      <th>4</th>\n",
              "      <td>Evening Standard</td>\n",
              "      <td>standard.co.uk</td>\n",
              "    </tr>\n",
              "    <tr>\n",
              "      <th>5</th>\n",
              "      <td>Daily Mirror</td>\n",
              "      <td>mirror.co.uk</td>\n",
              "    </tr>\n",
              "    <tr>\n",
              "      <th>6</th>\n",
              "      <td>The Daily Telegraph</td>\n",
              "      <td>telegraph.co.uk</td>\n",
              "    </tr>\n",
              "    <tr>\n",
              "      <th>7</th>\n",
              "      <td>Daily Express</td>\n",
              "      <td>express.co.uk</td>\n",
              "    </tr>\n",
              "    <tr>\n",
              "      <th>8</th>\n",
              "      <td>Daily Star</td>\n",
              "      <td>dailystar.co.uk</td>\n",
              "    </tr>\n",
              "    <tr>\n",
              "      <th>9</th>\n",
              "      <td>i</td>\n",
              "      <td>inews.co.uk</td>\n",
              "    </tr>\n",
              "    <tr>\n",
              "      <th>10</th>\n",
              "      <td>Financial Times</td>\n",
              "      <td>ft.com</td>\n",
              "    </tr>\n",
              "    <tr>\n",
              "      <th>11</th>\n",
              "      <td>Daily Mail</td>\n",
              "      <td>dailymail.co.uk</td>\n",
              "    </tr>\n",
              "    <tr>\n",
              "      <th>12</th>\n",
              "      <td>Daily Record</td>\n",
              "      <td>dailyrecord.co.uk</td>\n",
              "    </tr>\n",
              "    <tr>\n",
              "      <th>13</th>\n",
              "      <td>City A.M.</td>\n",
              "      <td>cityam.com</td>\n",
              "    </tr>\n",
              "  </tbody>\n",
              "</table>\n",
              "</div>"
            ],
            "text/plain": [
              "                   name        website_url\n",
              "0               The Sun       thesun.co.uk\n",
              "1          The Guardian    theguardian.com\n",
              "2             The Times     thetimes.co.uk\n",
              "3                 Metro        metro.co.uk\n",
              "4      Evening Standard     standard.co.uk\n",
              "5          Daily Mirror       mirror.co.uk\n",
              "6   The Daily Telegraph    telegraph.co.uk\n",
              "7         Daily Express      express.co.uk\n",
              "8            Daily Star    dailystar.co.uk\n",
              "9                     i        inews.co.uk\n",
              "10      Financial Times             ft.com\n",
              "11           Daily Mail    dailymail.co.uk\n",
              "12         Daily Record  dailyrecord.co.uk\n",
              "13            City A.M.         cityam.com"
            ]
          },
          "metadata": {},
          "execution_count": 7
        }
      ]
    },
    {
      "cell_type": "markdown",
      "metadata": {
        "id": "7PSbHGGtM0qX"
      },
      "source": [
        "### 2.3 Filtering raw data\n",
        "<a id=\"filter_raw_data\"></a>\n",
        "\n",
        "Following the reasoning above we can extract the infos needed from the compressed file of one year of quotations. Let's create a helper function to check the urls of a quotation:"
      ]
    },
    {
      "cell_type": "code",
      "metadata": {
        "id": "902eh0g-cu78"
      },
      "source": [
        "\n",
        "def filter_data(path_in, path_out):\n",
        "  # Loop through all instances of json file and extract the desired rows\n",
        "  # Save the file in the filtered data directory\n",
        "  with bz2.open(path_in, 'rb') as s_file:\n",
        "      with bz2.open(path_out, 'wb') as d_file:\n",
        "          for instance in s_file:\n",
        "              instance = json.loads(instance) # loading a sample\n",
        "              if instance['speaker'] == 'None': #if the speaker is None we don't keep it and go to next iteration\n",
        "                  continue\n",
        "              urls = instance['urls'] # extracting list of links\n",
        "              newspapers = []\n",
        "              for url in urls:\n",
        "                  for name, website_url in zip(newspapers_df['name'],newspapers_df['website_url']): \n",
        "                      if website_url in url: #if the url of the current quote contains one of the newspapers' url\n",
        "                          if name not in newspapers: # to not have any dublicates \n",
        "                              newspapers.append(name)\n",
        "                  instance['newspapers'] = newspapers # updating the sample with domain name\n",
        "              # We remove unnecessary columns\n",
        "              instance.pop('probas')\n",
        "              instance.pop('phase')\n",
        "              # If there is a newspaper that we want to keep we write the instance to the output file\n",
        "              if newspapers: \n",
        "                d_file.write((json.dumps(instance)+'\\n').encode('utf-8')) # writing in the new file\n",
        "                "
      ],
      "execution_count": 10,
      "outputs": []
    },
    {
      "cell_type": "markdown",
      "metadata": {
        "id": "hOK3Gp_HwHI1"
      },
      "source": [
        "We execute this for 2020 data (execute only once)."
      ]
    },
    {
      "cell_type": "code",
      "metadata": {
        "id": "iPJda6mObZja"
      },
      "source": [
        "filter_data(RAW_QUOTES_2020_PATH,FILTERED_QUOTES_2020_PATH)"
      ],
      "execution_count": null,
      "outputs": []
    },
    {
      "cell_type": "code",
      "metadata": {
        "colab": {
          "base_uri": "https://localhost:8080/",
          "height": 289
        },
        "id": "APW1C9ivsu-G",
        "outputId": "c1b42ec6-6bd8-4648-a269-0174d8e704ce"
      },
      "source": [
        "# We check that the new file contains the right data\n",
        "filtered_sample_df = load_mini_version_of_data(FILTERED_QUOTES_2020_PATH, 10000, 10)\n",
        "filtered_sample_df.head(15)"
      ],
      "execution_count": null,
      "outputs": [
        {
          "output_type": "execute_result",
          "data": {
            "text/html": [
              "<div>\n",
              "<style scoped>\n",
              "    .dataframe tbody tr th:only-of-type {\n",
              "        vertical-align: middle;\n",
              "    }\n",
              "\n",
              "    .dataframe tbody tr th {\n",
              "        vertical-align: top;\n",
              "    }\n",
              "\n",
              "    .dataframe thead th {\n",
              "        text-align: right;\n",
              "    }\n",
              "</style>\n",
              "<table border=\"1\" class=\"dataframe\">\n",
              "  <thead>\n",
              "    <tr style=\"text-align: right;\">\n",
              "      <th></th>\n",
              "      <th>quoteID</th>\n",
              "      <th>quotation</th>\n",
              "      <th>speaker</th>\n",
              "      <th>qids</th>\n",
              "      <th>date</th>\n",
              "      <th>numOccurrences</th>\n",
              "      <th>urls</th>\n",
              "      <th>newspapers</th>\n",
              "    </tr>\n",
              "  </thead>\n",
              "  <tbody>\n",
              "    <tr>\n",
              "      <th>0</th>\n",
              "      <td>2020-01-17-000357</td>\n",
              "      <td>[ The delay ] will have an impact [ on Slough ...</td>\n",
              "      <td>Dexter Smith</td>\n",
              "      <td>[Q5268447]</td>\n",
              "      <td>2020-01-17 13:03:00</td>\n",
              "      <td>1</td>\n",
              "      <td>[http://www.sloughexpress.co.uk/gallery/slough...</td>\n",
              "      <td>[Daily Express]</td>\n",
              "    </tr>\n",
              "    <tr>\n",
              "      <th>1</th>\n",
              "      <td>2020-02-07-005251</td>\n",
              "      <td>And for the record, Eamonn Holmes made me laug...</td>\n",
              "      <td>Phillip Schofield</td>\n",
              "      <td>[Q7185804]</td>\n",
              "      <td>2020-02-07 20:30:49</td>\n",
              "      <td>2</td>\n",
              "      <td>[https://www.dailystar.co.uk/showbiz/breaking-...</td>\n",
              "      <td>[Daily Star]</td>\n",
              "    </tr>\n",
              "    <tr>\n",
              "      <th>2</th>\n",
              "      <td>2020-01-11-002445</td>\n",
              "      <td>And help he always did. For someone who prefer...</td>\n",
              "      <td>Anna Wintour</td>\n",
              "      <td>[Q230744]</td>\n",
              "      <td>2020-01-11 01:46:07</td>\n",
              "      <td>3</td>\n",
              "      <td>[https://www.irishmirror.ie/showbiz/celebrity-...</td>\n",
              "      <td>[Daily Mirror]</td>\n",
              "    </tr>\n",
              "    <tr>\n",
              "      <th>3</th>\n",
              "      <td>2020-01-21-005435</td>\n",
              "      <td>And the symptoms of what a person goes through...</td>\n",
              "      <td>Taylor Swift</td>\n",
              "      <td>[Q26876]</td>\n",
              "      <td>2020-01-21 15:58:39</td>\n",
              "      <td>8</td>\n",
              "      <td>[https://www.irishmirror.ie/showbiz/celebrity-...</td>\n",
              "      <td>[Daily Mirror]</td>\n",
              "    </tr>\n",
              "    <tr>\n",
              "      <th>4</th>\n",
              "      <td>2020-01-31-008580</td>\n",
              "      <td>As you reach or have reached the apex of your ...</td>\n",
              "      <td>Keyon Dooling</td>\n",
              "      <td>[Q304349]</td>\n",
              "      <td>2020-01-31 19:07:55</td>\n",
              "      <td>1</td>\n",
              "      <td>[https://www.theguardian.com/sport/2020/jan/31...</td>\n",
              "      <td>[The Guardian]</td>\n",
              "    </tr>\n",
              "  </tbody>\n",
              "</table>\n",
              "</div>"
            ],
            "text/plain": [
              "             quoteID  ...       newspapers\n",
              "0  2020-01-17-000357  ...  [Daily Express]\n",
              "1  2020-02-07-005251  ...     [Daily Star]\n",
              "2  2020-01-11-002445  ...   [Daily Mirror]\n",
              "3  2020-01-21-005435  ...   [Daily Mirror]\n",
              "4  2020-01-31-008580  ...   [The Guardian]\n",
              "\n",
              "[5 rows x 8 columns]"
            ]
          },
          "metadata": {},
          "execution_count": 15
        }
      ]
    },
    {
      "cell_type": "code",
      "metadata": {
        "colab": {
          "base_uri": "https://localhost:8080/"
        },
        "id": "uOuWfQRpSMx_",
        "outputId": "2cde7f01-8f02-4ebf-d069-8049bdde9e20"
      },
      "source": [
        "filtered_sample_df.shape"
      ],
      "execution_count": null,
      "outputs": [
        {
          "output_type": "execute_result",
          "data": {
            "text/plain": [
              "(100000, 8)"
            ]
          },
          "metadata": {},
          "execution_count": 18
        }
      ]
    },
    {
      "cell_type": "markdown",
      "metadata": {
        "id": "WifW8YvwlTKW"
      },
      "source": [
        "Let's verify if that there are no 'None' speakers:"
      ]
    },
    {
      "cell_type": "code",
      "metadata": {
        "colab": {
          "base_uri": "https://localhost:8080/"
        },
        "id": "dqYFW8r4lSRe",
        "outputId": "065bfd4e-f6aa-4acf-e3ce-8c3551a4b160"
      },
      "source": [
        "filtered_sample_df[filtered_sample_df.speaker=='None'].empty"
      ],
      "execution_count": null,
      "outputs": [
        {
          "output_type": "execute_result",
          "data": {
            "text/plain": [
              "True"
            ]
          },
          "metadata": {},
          "execution_count": 16
        }
      ]
    },
    {
      "cell_type": "markdown",
      "metadata": {
        "id": "xLMg_0cfl6pg"
      },
      "source": [
        "Now let us do this filtering for the remaining data of years 2015-2019 (execute only once)."
      ]
    },
    {
      "cell_type": "code",
      "metadata": {
        "id": "Cplb4S-sSbJF"
      },
      "source": [
        "filter_data(RAW_QUOTES_2019_PATH,FILTERED_QUOTES_2019_PATH)\n"
      ],
      "execution_count": null,
      "outputs": []
    },
    {
      "cell_type": "code",
      "metadata": {
        "id": "AePNLWxAl6Vz"
      },
      "source": [
        "#filter_data(RAW_QUOTES_2019_PATH,FILTERED_QUOTES_2019_PATH)\n",
        "#filter_data(RAW_QUOTES_2018_PATH,FILTERED_QUOTES_2018_PATH)\n",
        "#filter_data(RAW_QUOTES_2017_PATH,FILTERED_QUOTES_2017_PATH)\n",
        "#filter_data(RAW_QUOTES_2016_PATH,FILTERED_QUOTES_2016_PATH)\n",
        "#filter_data(RAW_QUOTES_2015_PATH,FILTERED_QUOTES_2015_PATH)"
      ],
      "execution_count": null,
      "outputs": []
    },
    {
      "cell_type": "markdown",
      "metadata": {
        "id": "hE3n5IX4M0qY",
        "tags": []
      },
      "source": [
        "## 3. Additional data set: speaker attributes\n",
        "<a id=\"additional_dataset\"></a>\n",
        "\n",
        "The filtered Quotebank years are ready. The next step consists of integrating speaker attributes from our additional data set."
      ]
    },
    {
      "cell_type": "markdown",
      "metadata": {
        "id": "7B7nQdaVuh34"
      },
      "source": [
        "### 3.1 Explore attributes\n",
        "<a id=\"explore_attr\"></a>\n"
      ]
    },
    {
      "cell_type": "markdown",
      "metadata": {
        "id": "dXWm7QwJwVU0"
      },
      "source": [
        "we explore the speakers dataset."
      ]
    },
    {
      "cell_type": "code",
      "metadata": {
        "colab": {
          "base_uri": "https://localhost:8080/",
          "height": 591
        },
        "id": "GHP_sBCenkx_",
        "outputId": "28d1a833-2557-42a5-9fc2-bf97277c56ea"
      },
      "source": [
        "# Load speaker attributes in df\n",
        "speakers_df = pd.read_parquet(SPEAKER_ATTRIBUTES_PATH)\n",
        "speakers_df.head()"
      ],
      "execution_count": 6,
      "outputs": [
        {
          "output_type": "execute_result",
          "data": {
            "text/html": [
              "<div>\n",
              "<style scoped>\n",
              "    .dataframe tbody tr th:only-of-type {\n",
              "        vertical-align: middle;\n",
              "    }\n",
              "\n",
              "    .dataframe tbody tr th {\n",
              "        vertical-align: top;\n",
              "    }\n",
              "\n",
              "    .dataframe thead th {\n",
              "        text-align: right;\n",
              "    }\n",
              "</style>\n",
              "<table border=\"1\" class=\"dataframe\">\n",
              "  <thead>\n",
              "    <tr style=\"text-align: right;\">\n",
              "      <th></th>\n",
              "      <th>aliases</th>\n",
              "      <th>date_of_birth</th>\n",
              "      <th>nationality</th>\n",
              "      <th>gender</th>\n",
              "      <th>lastrevid</th>\n",
              "      <th>ethnic_group</th>\n",
              "      <th>US_congress_bio_ID</th>\n",
              "      <th>occupation</th>\n",
              "      <th>party</th>\n",
              "      <th>academic_degree</th>\n",
              "      <th>id</th>\n",
              "      <th>label</th>\n",
              "      <th>candidacy</th>\n",
              "      <th>type</th>\n",
              "      <th>religion</th>\n",
              "    </tr>\n",
              "  </thead>\n",
              "  <tbody>\n",
              "    <tr>\n",
              "      <th>0</th>\n",
              "      <td>[Washington, President Washington, G. Washingt...</td>\n",
              "      <td>[+1732-02-22T00:00:00Z]</td>\n",
              "      <td>[Q161885, Q30]</td>\n",
              "      <td>[Q6581097]</td>\n",
              "      <td>1395141751</td>\n",
              "      <td>None</td>\n",
              "      <td>W000178</td>\n",
              "      <td>[Q82955, Q189290, Q131512, Q1734662, Q294126, ...</td>\n",
              "      <td>[Q327591]</td>\n",
              "      <td>None</td>\n",
              "      <td>Q23</td>\n",
              "      <td>George Washington</td>\n",
              "      <td>[Q698073, Q697949]</td>\n",
              "      <td>item</td>\n",
              "      <td>[Q682443]</td>\n",
              "    </tr>\n",
              "    <tr>\n",
              "      <th>1</th>\n",
              "      <td>[Douglas Noel Adams, Douglas Noël Adams, Dougl...</td>\n",
              "      <td>[+1952-03-11T00:00:00Z]</td>\n",
              "      <td>[Q145]</td>\n",
              "      <td>[Q6581097]</td>\n",
              "      <td>1395737157</td>\n",
              "      <td>[Q7994501]</td>\n",
              "      <td>None</td>\n",
              "      <td>[Q214917, Q28389, Q6625963, Q4853732, Q1884422...</td>\n",
              "      <td>None</td>\n",
              "      <td>None</td>\n",
              "      <td>Q42</td>\n",
              "      <td>Douglas Adams</td>\n",
              "      <td>None</td>\n",
              "      <td>item</td>\n",
              "      <td>None</td>\n",
              "    </tr>\n",
              "    <tr>\n",
              "      <th>2</th>\n",
              "      <td>[Paul Marie Ghislain Otlet, Paul Marie Otlet]</td>\n",
              "      <td>[+1868-08-23T00:00:00Z]</td>\n",
              "      <td>[Q31]</td>\n",
              "      <td>[Q6581097]</td>\n",
              "      <td>1380367296</td>\n",
              "      <td>None</td>\n",
              "      <td>None</td>\n",
              "      <td>[Q36180, Q40348, Q182436, Q1265807, Q205375, Q...</td>\n",
              "      <td>None</td>\n",
              "      <td>None</td>\n",
              "      <td>Q1868</td>\n",
              "      <td>Paul Otlet</td>\n",
              "      <td>None</td>\n",
              "      <td>item</td>\n",
              "      <td>None</td>\n",
              "    </tr>\n",
              "    <tr>\n",
              "      <th>3</th>\n",
              "      <td>[George Walker Bush, Bush Jr., Dubya, GWB, Bus...</td>\n",
              "      <td>[+1946-07-06T00:00:00Z]</td>\n",
              "      <td>[Q30]</td>\n",
              "      <td>[Q6581097]</td>\n",
              "      <td>1395142029</td>\n",
              "      <td>None</td>\n",
              "      <td>None</td>\n",
              "      <td>[Q82955, Q15982858, Q18814623, Q1028181, Q1408...</td>\n",
              "      <td>[Q29468]</td>\n",
              "      <td>None</td>\n",
              "      <td>Q207</td>\n",
              "      <td>George W. Bush</td>\n",
              "      <td>[Q327959, Q464075, Q3586276, Q4450587]</td>\n",
              "      <td>item</td>\n",
              "      <td>[Q329646, Q682443, Q33203]</td>\n",
              "    </tr>\n",
              "    <tr>\n",
              "      <th>4</th>\n",
              "      <td>[Velázquez, Diego Rodríguez de Silva y Velázqu...</td>\n",
              "      <td>[+1599-06-06T00:00:00Z]</td>\n",
              "      <td>[Q29]</td>\n",
              "      <td>[Q6581097]</td>\n",
              "      <td>1391704596</td>\n",
              "      <td>None</td>\n",
              "      <td>None</td>\n",
              "      <td>[Q1028181]</td>\n",
              "      <td>None</td>\n",
              "      <td>None</td>\n",
              "      <td>Q297</td>\n",
              "      <td>Diego Velázquez</td>\n",
              "      <td>None</td>\n",
              "      <td>item</td>\n",
              "      <td>None</td>\n",
              "    </tr>\n",
              "  </tbody>\n",
              "</table>\n",
              "</div>"
            ],
            "text/plain": [
              "                                             aliases  ...                    religion\n",
              "0  [Washington, President Washington, G. Washingt...  ...                   [Q682443]\n",
              "1  [Douglas Noel Adams, Douglas Noël Adams, Dougl...  ...                        None\n",
              "2      [Paul Marie Ghislain Otlet, Paul Marie Otlet]  ...                        None\n",
              "3  [George Walker Bush, Bush Jr., Dubya, GWB, Bus...  ...  [Q329646, Q682443, Q33203]\n",
              "4  [Velázquez, Diego Rodríguez de Silva y Velázqu...  ...                        None\n",
              "\n",
              "[5 rows x 15 columns]"
            ]
          },
          "metadata": {},
          "execution_count": 6
        }
      ]
    },
    {
      "cell_type": "markdown",
      "metadata": {
        "id": "-ijhmvqAwDgH"
      },
      "source": [
        "Let us first check for duplicates. There seem to be none."
      ]
    },
    {
      "cell_type": "code",
      "metadata": {
        "colab": {
          "base_uri": "https://localhost:8080/",
          "height": 69
        },
        "id": "o6qUQ_tPnkyC",
        "outputId": "afbc4a62-0a54-4e2d-ffbf-b8d53920dee3"
      },
      "source": [
        "# Duplicates\n",
        "duplicates = speakers_df[speakers_df.duplicated(subset='id', keep='first')] \n",
        "duplicates.head()"
      ],
      "execution_count": 12,
      "outputs": [
        {
          "output_type": "execute_result",
          "data": {
            "text/html": [
              "<div>\n",
              "<style scoped>\n",
              "    .dataframe tbody tr th:only-of-type {\n",
              "        vertical-align: middle;\n",
              "    }\n",
              "\n",
              "    .dataframe tbody tr th {\n",
              "        vertical-align: top;\n",
              "    }\n",
              "\n",
              "    .dataframe thead th {\n",
              "        text-align: right;\n",
              "    }\n",
              "</style>\n",
              "<table border=\"1\" class=\"dataframe\">\n",
              "  <thead>\n",
              "    <tr style=\"text-align: right;\">\n",
              "      <th></th>\n",
              "      <th>aliases</th>\n",
              "      <th>date_of_birth</th>\n",
              "      <th>nationality</th>\n",
              "      <th>gender</th>\n",
              "      <th>lastrevid</th>\n",
              "      <th>ethnic_group</th>\n",
              "      <th>US_congress_bio_ID</th>\n",
              "      <th>occupation</th>\n",
              "      <th>party</th>\n",
              "      <th>academic_degree</th>\n",
              "      <th>id</th>\n",
              "      <th>label</th>\n",
              "      <th>candidacy</th>\n",
              "      <th>type</th>\n",
              "      <th>religion</th>\n",
              "    </tr>\n",
              "  </thead>\n",
              "  <tbody>\n",
              "  </tbody>\n",
              "</table>\n",
              "</div>"
            ],
            "text/plain": [
              "Empty DataFrame\n",
              "Columns: [aliases, date_of_birth, nationality, gender, lastrevid, ethnic_group, US_congress_bio_ID, occupation, party, academic_degree, id, label, candidacy, type, religion]\n",
              "Index: []"
            ]
          },
          "metadata": {},
          "execution_count": 12
        }
      ]
    },
    {
      "cell_type": "markdown",
      "metadata": {
        "id": "HsTU_34onkyA"
      },
      "source": [
        "We are mostly interested in the column gender. But let us see which ones we could keep. How many 'None' values do we have?"
      ]
    },
    {
      "cell_type": "code",
      "metadata": {
        "colab": {
          "base_uri": "https://localhost:8080/"
        },
        "id": "IPwXvBnknkyB",
        "outputId": "1d6db7e6-19c4-42b7-f1da-cba1bb105b32"
      },
      "source": [
        "# Fraction of lines with 'None' values:\n",
        "print('gender: ' + str(speakers_df[speakers_df.gender.isnull()].size / speakers_df.size))\n",
        "print('nationality: ' + str(speakers_df[speakers_df.nationality.isnull()].size / speakers_df.size))\n",
        "print('occupation: ' + str(speakers_df[speakers_df.occupation.isnull()].size / speakers_df.size))\n",
        "print('academic_degree: ' + str(speakers_df[speakers_df.academic_degree.isnull()].size / speakers_df.size))\n",
        "print('ethnic_group: ' + str(speakers_df[speakers_df.ethnic_group.isnull()].size / speakers_df.size))\n",
        "print('religion ' + str(speakers_df[speakers_df.religion.isnull()].size / speakers_df.size))"
      ],
      "execution_count": null,
      "outputs": [
        {
          "output_type": "stream",
          "name": "stdout",
          "text": [
            "gender: 0.21536937853557775\n",
            "nationality: 0.5896797928352544\n",
            "occupation: 0.29625691573337004\n",
            "academic_degree: 0.9889581261268106\n",
            "ethnic_group: 0.9856023328670853\n",
            "religion 0.9783254845609769\n"
          ]
        }
      ]
    },
    {
      "cell_type": "markdown",
      "metadata": {
        "id": "msgtq37lwBW7"
      },
      "source": [
        "Unfortunately we have to drop all attributes appart from gender, nationality and occupation. All the other ones have more than 98% 'None' values."
      ]
    },
    {
      "cell_type": "code",
      "metadata": {
        "id": "Ec66xJ90zQ0d"
      },
      "source": [
        "# Keep the columns gender, nationality and occupation\n",
        "speakers_df = speakers_df[['id', 'gender', 'nationality', 'occupation']]"
      ],
      "execution_count": 7,
      "outputs": []
    },
    {
      "cell_type": "markdown",
      "metadata": {
        "id": "bCm99QKj7N8s"
      },
      "source": [
        "We will remove all 'None' genders as this is the most important attribute for our analysis."
      ]
    },
    {
      "cell_type": "code",
      "metadata": {
        "colab": {
          "base_uri": "https://localhost:8080/",
          "height": 206
        },
        "id": "8zp-JKZH2igZ",
        "outputId": "eac675b2-7309-4bf2-886a-5493332807b3"
      },
      "source": [
        "# Remove null genders\n",
        "speakers_df = speakers_df.drop(speakers_df[speakers_df.gender.isnull()].index)\n",
        "speakers_df.head()"
      ],
      "execution_count": 8,
      "outputs": [
        {
          "output_type": "execute_result",
          "data": {
            "text/html": [
              "<div>\n",
              "<style scoped>\n",
              "    .dataframe tbody tr th:only-of-type {\n",
              "        vertical-align: middle;\n",
              "    }\n",
              "\n",
              "    .dataframe tbody tr th {\n",
              "        vertical-align: top;\n",
              "    }\n",
              "\n",
              "    .dataframe thead th {\n",
              "        text-align: right;\n",
              "    }\n",
              "</style>\n",
              "<table border=\"1\" class=\"dataframe\">\n",
              "  <thead>\n",
              "    <tr style=\"text-align: right;\">\n",
              "      <th></th>\n",
              "      <th>id</th>\n",
              "      <th>gender</th>\n",
              "      <th>nationality</th>\n",
              "      <th>occupation</th>\n",
              "    </tr>\n",
              "  </thead>\n",
              "  <tbody>\n",
              "    <tr>\n",
              "      <th>0</th>\n",
              "      <td>Q23</td>\n",
              "      <td>[Q6581097]</td>\n",
              "      <td>[Q161885, Q30]</td>\n",
              "      <td>[Q82955, Q189290, Q131512, Q1734662, Q294126, ...</td>\n",
              "    </tr>\n",
              "    <tr>\n",
              "      <th>1</th>\n",
              "      <td>Q42</td>\n",
              "      <td>[Q6581097]</td>\n",
              "      <td>[Q145]</td>\n",
              "      <td>[Q214917, Q28389, Q6625963, Q4853732, Q1884422...</td>\n",
              "    </tr>\n",
              "    <tr>\n",
              "      <th>2</th>\n",
              "      <td>Q1868</td>\n",
              "      <td>[Q6581097]</td>\n",
              "      <td>[Q31]</td>\n",
              "      <td>[Q36180, Q40348, Q182436, Q1265807, Q205375, Q...</td>\n",
              "    </tr>\n",
              "    <tr>\n",
              "      <th>3</th>\n",
              "      <td>Q207</td>\n",
              "      <td>[Q6581097]</td>\n",
              "      <td>[Q30]</td>\n",
              "      <td>[Q82955, Q15982858, Q18814623, Q1028181, Q1408...</td>\n",
              "    </tr>\n",
              "    <tr>\n",
              "      <th>4</th>\n",
              "      <td>Q297</td>\n",
              "      <td>[Q6581097]</td>\n",
              "      <td>[Q29]</td>\n",
              "      <td>[Q1028181]</td>\n",
              "    </tr>\n",
              "  </tbody>\n",
              "</table>\n",
              "</div>"
            ],
            "text/plain": [
              "      id  ...                                         occupation\n",
              "0    Q23  ...  [Q82955, Q189290, Q131512, Q1734662, Q294126, ...\n",
              "1    Q42  ...  [Q214917, Q28389, Q6625963, Q4853732, Q1884422...\n",
              "2  Q1868  ...  [Q36180, Q40348, Q182436, Q1265807, Q205375, Q...\n",
              "3   Q207  ...  [Q82955, Q15982858, Q18814623, Q1028181, Q1408...\n",
              "4   Q297  ...                                         [Q1028181]\n",
              "\n",
              "[5 rows x 4 columns]"
            ]
          },
          "metadata": {},
          "execution_count": 8
        }
      ]
    },
    {
      "cell_type": "markdown",
      "metadata": {
        "id": "iutcEc41nkyE"
      },
      "source": [
        "### 3.2 Merge speaker attributes\n",
        "<a id=\"merge_speaker_attr\"></a>\n",
        "\n",
        "Now we can merge the speaker attributes in our filtered dataset. First of all we need to load the corresponding labels for the quote id's.\n",
        "\n"
      ]
    },
    {
      "cell_type": "code",
      "metadata": {
        "colab": {
          "base_uri": "https://localhost:8080/",
          "height": 237
        },
        "id": "7qWRgx-vnkyE",
        "outputId": "7ad235f4-e3fb-49b5-ce68-d28c8374d528"
      },
      "source": [
        "labels_df = pd.read_csv(LABELS_WIKIDATA_PATH, compression='bz2', index_col='QID')\n",
        "labels_df.head()"
      ],
      "execution_count": 9,
      "outputs": [
        {
          "output_type": "execute_result",
          "data": {
            "text/html": [
              "<div>\n",
              "<style scoped>\n",
              "    .dataframe tbody tr th:only-of-type {\n",
              "        vertical-align: middle;\n",
              "    }\n",
              "\n",
              "    .dataframe tbody tr th {\n",
              "        vertical-align: top;\n",
              "    }\n",
              "\n",
              "    .dataframe thead th {\n",
              "        text-align: right;\n",
              "    }\n",
              "</style>\n",
              "<table border=\"1\" class=\"dataframe\">\n",
              "  <thead>\n",
              "    <tr style=\"text-align: right;\">\n",
              "      <th></th>\n",
              "      <th>Label</th>\n",
              "      <th>Description</th>\n",
              "    </tr>\n",
              "    <tr>\n",
              "      <th>QID</th>\n",
              "      <th></th>\n",
              "      <th></th>\n",
              "    </tr>\n",
              "  </thead>\n",
              "  <tbody>\n",
              "    <tr>\n",
              "      <th>Q31</th>\n",
              "      <td>Belgium</td>\n",
              "      <td>country in western Europe</td>\n",
              "    </tr>\n",
              "    <tr>\n",
              "      <th>Q45</th>\n",
              "      <td>Portugal</td>\n",
              "      <td>country in southwestern Europe</td>\n",
              "    </tr>\n",
              "    <tr>\n",
              "      <th>Q75</th>\n",
              "      <td>Internet</td>\n",
              "      <td>global system of connected computer networks</td>\n",
              "    </tr>\n",
              "    <tr>\n",
              "      <th>Q148</th>\n",
              "      <td>People's Republic of China</td>\n",
              "      <td>sovereign state in East Asia</td>\n",
              "    </tr>\n",
              "    <tr>\n",
              "      <th>Q155</th>\n",
              "      <td>Brazil</td>\n",
              "      <td>country in South America</td>\n",
              "    </tr>\n",
              "  </tbody>\n",
              "</table>\n",
              "</div>"
            ],
            "text/plain": [
              "                           Label                                   Description\n",
              "QID                                                                           \n",
              "Q31                      Belgium                     country in western Europe\n",
              "Q45                     Portugal                country in southwestern Europe\n",
              "Q75                     Internet  global system of connected computer networks\n",
              "Q148  People's Republic of China                  sovereign state in East Asia\n",
              "Q155                      Brazil                      country in South America"
            ]
          },
          "metadata": {},
          "execution_count": 9
        }
      ]
    },
    {
      "cell_type": "code",
      "metadata": {
        "id": "Gx048UxQhKYW"
      },
      "source": [
        "# Handle missing labels in our dataset (see post on Zulip).\n",
        "labels_df.loc['Q6363085'] = labels_df.loc['Q380075']\n",
        "#this one does not exist anymore in the wikidata so we drop it in the original dataframe.\n",
        "if 'Q99753484' in labels_df : labels_df.drop(labels='Q99753484')\n",
        "labels_df.loc['Q3268166'] = labels_df.loc['Q1113899']\n",
        "labels_df.loc['Q11815360'] = labels_df.loc['Q1919436']\n",
        "labels_df.loc['Q12014399'] = labels_df.loc['Q250867']\n",
        "labels_df.loc['Q16287483'] = labels_df.loc['Q6051619']\n",
        "labels_df.loc['Q20432251'] = labels_df.loc['Q26934816']\n",
        "labels_df.loc['Q21550646'] = labels_df.loc['Q18431816']\n",
        "labels_df.loc['Q13365117'] = labels_df.loc['Q12840545']\n",
        "labels_df.loc['Q13424794'] = labels_df.loc['Q5157338']\n",
        "labels_df.loc['Q1248362'] = labels_df.loc['Q3455803']\n",
        "labels_df.loc['Q3186984'] = 'Journalist'\n",
        "labels_df.loc['Q6859927'] = labels_df.loc['Q715222']\n",
        "labels_df.loc['Q15145782'] = labels_df.loc['Q1052281']\n",
        "labels_df.loc['Q15991263'] = labels_df.loc['Q2743689']\n",
        "labels_df.loc['Q12455619'] = labels_df.loc['Q7019111']\n",
        "labels_df.loc['Q5568256'] = labels_df.loc['Q1895303']\n",
        "labels_df.loc['Q11819457'] = labels_df.loc['Q3391743']\n",
        "labels_df.loc['Q12334852'] = labels_df.loc['Q476246']\n",
        "labels_df.loc['Q15145783'] = labels_df.loc['Q2449503']"
      ],
      "execution_count": 10,
      "outputs": []
    },
    {
      "cell_type": "markdown",
      "metadata": {
        "id": "X0k-KhxKAPre"
      },
      "source": [
        "To efficiently look up the qids attributes of a speaker we create dictionaries to access the desired qids."
      ]
    },
    {
      "cell_type": "code",
      "metadata": {
        "id": "HNOYRV0ZzTCu"
      },
      "source": [
        "# Create dictionary for the labels and the attributes gender, nationality and occupation\n",
        "labels_dict = pd.Series(labels_df.Label, index=labels_df.index)\n",
        "genders_dict = pd.Series(speakers_df.gender.values, index=speakers_df.id).to_dict()\n",
        "nationalities_dict = pd.Series(speakers_df.nationality.values, index=speakers_df.id).to_dict()\n",
        "occupations_dict = pd.Series(speakers_df.occupation.values, index=speakers_df.id).to_dict()"
      ],
      "execution_count": 14,
      "outputs": []
    },
    {
      "cell_type": "markdown",
      "metadata": {
        "id": "QrcUcOFRzFPH"
      },
      "source": [
        "In a first analysis just the first qid will be considered. Thus the qid of the most probable speaker. Below a helper function to achieve this."
      ]
    },
    {
      "cell_type": "code",
      "metadata": {
        "id": "Gq6TjBqpLzzo"
      },
      "source": [
        "# We want to transform the 'qids' column in a single 'qid' element\n",
        "def get_single_qid(df_quotes):\n",
        "  df_copy =  df_quotes.copy()\n",
        "  df_result =  df_quotes.copy()\n",
        "  for idx,row in df_copy.iterrows(): \n",
        "    id_speaker = row.loc['qids'][0] \n",
        "    df_result.at[idx,'qids'] = id_speaker\n",
        "\n",
        "  df_result = df_result.rename(columns={\"qids\": \"qid\"})\n",
        "  return df_result"
      ],
      "execution_count": 11,
      "outputs": []
    },
    {
      "cell_type": "markdown",
      "metadata": {
        "id": "ZZCvvaJ_DagT"
      },
      "source": [
        "We need as well a function to translate the qids of one attribute to  the corresponding label, for one specific speaker."
      ]
    },
    {
      "cell_type": "code",
      "metadata": {
        "id": "NJisKMiOz2fZ"
      },
      "source": [
        "def translate_qid2label(id_speaker, attr_dict):\n",
        "  \"\"\"\n",
        "    Retrieve quotes speakers attribute, in the order of the quotations DataFrame.\n",
        "    :id_speaker   First qid of quids column of one row of the quotations dataframe qid\n",
        "    :attr_dict    dictionary for specified attributes\n",
        "    :return       attributes as text in a list\n",
        "  \"\"\"\n",
        "  list_attr = []\n",
        "  \n",
        "  if id_speaker in attr_dict:\n",
        "    id_attr_speaker = attr_dict[id_speaker]\n",
        "    if(id_attr_speaker is not None):\n",
        "      for id_a in id_attr_speaker:\n",
        "          attr = labels_dict[id_a] # Attribute value\n",
        "          list_attr.append(attr)\n",
        "    else:\n",
        "      list_attr = None\n",
        "\n",
        "  return list_attr"
      ],
      "execution_count": 12,
      "outputs": []
    },
    {
      "cell_type": "markdown",
      "metadata": {
        "id": "ZUpBDScXY9zR"
      },
      "source": [
        "Now we can put all these together and apply the above function to all our speaker attributes and quotes.\n"
      ]
    },
    {
      "cell_type": "code",
      "metadata": {
        "id": "7Ju8uFpOY82Y"
      },
      "source": [
        "def add_speaker_attributes(path_to_file):\n",
        "  \"\"\"\n",
        "    Function takes path of compressed filtered data of oquotebank and adds\n",
        "    speaker information in new colums\n",
        "    :path_to_file   first qid of quids column of one row of the quotations dataframe qid\n",
        "    :return         pandas DataFrame with new columns\n",
        "  \"\"\"\n",
        "  df = pd.read_json(path_to_file, lines=True,compression='bz2')\n",
        "  # First we get a single qid:\n",
        "  df = get_single_qid(df)\n",
        "\n",
        "  # we drop a qid we know doesn't exist anymore in the wikidata\n",
        "  #df = df[df.qid != 'Q99753484']\n",
        "  # next we create the lists of attributes from dictionaries\n",
        "  genders = df['qid'].apply(lambda i: translate_qid2label(i, genders_dict))\n",
        "  nationalities = df['qid'].apply(lambda i: translate_qid2label(i, nationalities_dict))\n",
        "  occupations = df['qid'].apply(lambda i: translate_qid2label(i, occupations_dict))\n",
        "\n",
        "  # And finally insert them as new columns\n",
        "  df.insert(3, 'gender', genders)\n",
        "  df.insert(4,'nationality', nationalities)\n",
        "  df.insert(5,'occupation', occupations)\n",
        "  return df"
      ],
      "execution_count": 13,
      "outputs": []
    },
    {
      "cell_type": "code",
      "metadata": {
        "colab": {
          "base_uri": "https://localhost:8080/",
          "height": 643
        },
        "id": "_Z8seEd7FDMV",
        "outputId": "d9967371-10a4-430d-9e88-88b66adec046"
      },
      "source": [
        "# Merge and speaker attributes for filtered quotes of 2020\n",
        "df_2020 = add_speaker_attributes(FILTERED_QUOTES_2020_PATH)\n",
        "df_2020.head()"
      ],
      "execution_count": 25,
      "outputs": [
        {
          "output_type": "execute_result",
          "data": {
            "text/html": [
              "<div>\n",
              "<style scoped>\n",
              "    .dataframe tbody tr th:only-of-type {\n",
              "        vertical-align: middle;\n",
              "    }\n",
              "\n",
              "    .dataframe tbody tr th {\n",
              "        vertical-align: top;\n",
              "    }\n",
              "\n",
              "    .dataframe thead th {\n",
              "        text-align: right;\n",
              "    }\n",
              "</style>\n",
              "<table border=\"1\" class=\"dataframe\">\n",
              "  <thead>\n",
              "    <tr style=\"text-align: right;\">\n",
              "      <th></th>\n",
              "      <th>quoteID</th>\n",
              "      <th>quotation</th>\n",
              "      <th>speaker</th>\n",
              "      <th>gender</th>\n",
              "      <th>nationality</th>\n",
              "      <th>occupation</th>\n",
              "      <th>qid</th>\n",
              "      <th>date</th>\n",
              "      <th>numOccurrences</th>\n",
              "      <th>urls</th>\n",
              "      <th>newspapers</th>\n",
              "    </tr>\n",
              "  </thead>\n",
              "  <tbody>\n",
              "    <tr>\n",
              "      <th>0</th>\n",
              "      <td>2020-01-17-000357</td>\n",
              "      <td>[ The delay ] will have an impact [ on Slough ...</td>\n",
              "      <td>Dexter Smith</td>\n",
              "      <td>[male]</td>\n",
              "      <td>[Bermuda]</td>\n",
              "      <td>[cricketer]</td>\n",
              "      <td>Q5268447</td>\n",
              "      <td>2020-01-17 13:03:00</td>\n",
              "      <td>1</td>\n",
              "      <td>[http://www.sloughexpress.co.uk/gallery/slough...</td>\n",
              "      <td>[Daily Express]</td>\n",
              "    </tr>\n",
              "    <tr>\n",
              "      <th>1</th>\n",
              "      <td>2020-02-07-005251</td>\n",
              "      <td>And for the record, Eamonn Holmes made me laug...</td>\n",
              "      <td>Phillip Schofield</td>\n",
              "      <td>[male]</td>\n",
              "      <td>[United Kingdom, New Zealand]</td>\n",
              "      <td>[television presenter]</td>\n",
              "      <td>Q7185804</td>\n",
              "      <td>2020-02-07 20:30:49</td>\n",
              "      <td>2</td>\n",
              "      <td>[https://www.dailystar.co.uk/showbiz/breaking-...</td>\n",
              "      <td>[Daily Star]</td>\n",
              "    </tr>\n",
              "    <tr>\n",
              "      <th>2</th>\n",
              "      <td>2020-01-11-002445</td>\n",
              "      <td>And help he always did. For someone who prefer...</td>\n",
              "      <td>Anna Wintour</td>\n",
              "      <td>[female]</td>\n",
              "      <td>[United Kingdom]</td>\n",
              "      <td>[journalist, fashion editor, writer, editor]</td>\n",
              "      <td>Q230744</td>\n",
              "      <td>2020-01-11 01:46:07</td>\n",
              "      <td>3</td>\n",
              "      <td>[https://www.irishmirror.ie/showbiz/celebrity-...</td>\n",
              "      <td>[Daily Mirror]</td>\n",
              "    </tr>\n",
              "    <tr>\n",
              "      <th>3</th>\n",
              "      <td>2020-01-21-005435</td>\n",
              "      <td>And the symptoms of what a person goes through...</td>\n",
              "      <td>Taylor Swift</td>\n",
              "      <td>[female]</td>\n",
              "      <td>[United States of America]</td>\n",
              "      <td>[actor, pianist, banjoist, composer, guitarist...</td>\n",
              "      <td>Q26876</td>\n",
              "      <td>2020-01-21 15:58:39</td>\n",
              "      <td>8</td>\n",
              "      <td>[https://www.irishmirror.ie/showbiz/celebrity-...</td>\n",
              "      <td>[Daily Mirror]</td>\n",
              "    </tr>\n",
              "    <tr>\n",
              "      <th>4</th>\n",
              "      <td>2020-01-31-008580</td>\n",
              "      <td>As you reach or have reached the apex of your ...</td>\n",
              "      <td>Keyon Dooling</td>\n",
              "      <td>[male]</td>\n",
              "      <td>[United States of America]</td>\n",
              "      <td>[basketball player]</td>\n",
              "      <td>Q304349</td>\n",
              "      <td>2020-01-31 19:07:55</td>\n",
              "      <td>1</td>\n",
              "      <td>[https://www.theguardian.com/sport/2020/jan/31...</td>\n",
              "      <td>[The Guardian]</td>\n",
              "    </tr>\n",
              "  </tbody>\n",
              "</table>\n",
              "</div>"
            ],
            "text/plain": [
              "             quoteID  ...       newspapers\n",
              "0  2020-01-17-000357  ...  [Daily Express]\n",
              "1  2020-02-07-005251  ...     [Daily Star]\n",
              "2  2020-01-11-002445  ...   [Daily Mirror]\n",
              "3  2020-01-21-005435  ...   [Daily Mirror]\n",
              "4  2020-01-31-008580  ...   [The Guardian]\n",
              "\n",
              "[5 rows x 11 columns]"
            ]
          },
          "metadata": {},
          "execution_count": 25
        }
      ]
    },
    {
      "cell_type": "markdown",
      "metadata": {
        "id": "oSgj3WcDxSi5"
      },
      "source": [
        "We do this for all years (only once)."
      ]
    },
    {
      "cell_type": "code",
      "metadata": {
        "id": "lmoMoK07i15o"
      },
      "source": [
        "# Merge speaker attributes of all other years\n",
        "df_2019 = add_speaker_attributes(FILTERED_QUOTES_2019_PATH)\n",
        "#df_2018 = add_speaker_attributes(FILTERED_QUOTES_2018_PATH)\n",
        "#df_2017 = add_speaker_attributes(FILTERED_QUOTES_2017_PATH)\n",
        "#df_2016 = add_speaker_attributes(FILTERED_QUOTES_2016_PATH)\n",
        "#df_2015 = add_speaker_attributes(FILTERED_QUOTES_2015_PATH)"
      ],
      "execution_count": null,
      "outputs": []
    },
    {
      "cell_type": "code",
      "metadata": {
        "id": "tgCZ13yjOQ5G"
      },
      "source": [
        "df_2018.head()"
      ],
      "execution_count": null,
      "outputs": []
    },
    {
      "cell_type": "markdown",
      "metadata": {
        "id": "LkjAoat92bHv"
      },
      "source": [
        "### 3.3 Save merged data as pickle\n",
        "<a id=\"save_pickle\"></a>\n",
        "\n",
        "For easier handling we will save the merged dataframes in a pickled format. In this way section 3 doesn't have to be excecuted anymore."
      ]
    },
    {
      "cell_type": "code",
      "metadata": {
        "id": "45AK2f4m3_V6"
      },
      "source": [
        "# Store merged dataframes as pickle\n",
        "#df_2020.to_pickle(QUOTES_2020_PATH)\n",
        "df_2019.to_pickle(QUOTES_2019_PATH)\n",
        "#df_2018.to_pickle(QUOTES_2018_PATH)\n",
        "#df_2017.to_pickle(QUOTES_2017_PATH)\n",
        "#df_2016.to_pickle(QUOTES_2016_PATH)"
      ],
      "execution_count": 26,
      "outputs": []
    },
    {
      "cell_type": "markdown",
      "metadata": {
        "id": "L8O0LkrcM0qZ"
      },
      "source": [
        "## 4 Research questions\n",
        "<a id=\"research_questions\"></a>\n",
        "\n",
        "Our research questions are defined in our README. For milestone 2 we will have a quick look at our **cleaned dataset of 2020** and provide some first plots regarding the genders."
      ]
    },
    {
      "cell_type": "markdown",
      "metadata": {
        "id": "L6UEU47N5pL_",
        "tags": []
      },
      "source": [
        "### 4.1 Load merged data\n",
        "<a id=\"load_pickle\"></a>"
      ]
    },
    {
      "cell_type": "code",
      "metadata": {
        "id": "nyU9N28r5-w5"
      },
      "source": [
        "# Load pickled dataframes\n",
        "df_2020 = pd.read_pickle(QUOTES_2020_PATH)\n",
        "#df_2019 = pd.read_pickle(QUOTES_2019_PATH)\n",
        "#df_2018 = pd.read_pickle(QUOTES_2018_PATH)\n",
        "#df_2017 = pd.read_pickle(QUOTES_2017_PATH)\n",
        "#df_2016 = pd.read_pickle(QUOTES_2016_PATH)"
      ],
      "execution_count": 6,
      "outputs": []
    },
    {
      "cell_type": "code",
      "metadata": {
        "colab": {
          "base_uri": "https://localhost:8080/",
          "height": 643
        },
        "id": "esoqdXCk6ls0",
        "outputId": "47361734-a538-4fcd-ecdd-3e8f19938cfd"
      },
      "source": [
        "df_2020.head()"
      ],
      "execution_count": 7,
      "outputs": [
        {
          "output_type": "execute_result",
          "data": {
            "text/html": [
              "<div>\n",
              "<style scoped>\n",
              "    .dataframe tbody tr th:only-of-type {\n",
              "        vertical-align: middle;\n",
              "    }\n",
              "\n",
              "    .dataframe tbody tr th {\n",
              "        vertical-align: top;\n",
              "    }\n",
              "\n",
              "    .dataframe thead th {\n",
              "        text-align: right;\n",
              "    }\n",
              "</style>\n",
              "<table border=\"1\" class=\"dataframe\">\n",
              "  <thead>\n",
              "    <tr style=\"text-align: right;\">\n",
              "      <th></th>\n",
              "      <th>quoteID</th>\n",
              "      <th>quotation</th>\n",
              "      <th>speaker</th>\n",
              "      <th>gender</th>\n",
              "      <th>nationality</th>\n",
              "      <th>occupation</th>\n",
              "      <th>qid</th>\n",
              "      <th>date</th>\n",
              "      <th>numOccurrences</th>\n",
              "      <th>urls</th>\n",
              "      <th>newspapers</th>\n",
              "    </tr>\n",
              "  </thead>\n",
              "  <tbody>\n",
              "    <tr>\n",
              "      <th>0</th>\n",
              "      <td>2020-01-17-000357</td>\n",
              "      <td>[ The delay ] will have an impact [ on Slough ...</td>\n",
              "      <td>Dexter Smith</td>\n",
              "      <td>[male]</td>\n",
              "      <td>[Bermuda]</td>\n",
              "      <td>[cricketer]</td>\n",
              "      <td>Q5268447</td>\n",
              "      <td>2020-01-17 13:03:00</td>\n",
              "      <td>1</td>\n",
              "      <td>[http://www.sloughexpress.co.uk/gallery/slough...</td>\n",
              "      <td>[Daily Express]</td>\n",
              "    </tr>\n",
              "    <tr>\n",
              "      <th>1</th>\n",
              "      <td>2020-02-07-005251</td>\n",
              "      <td>And for the record, Eamonn Holmes made me laug...</td>\n",
              "      <td>Phillip Schofield</td>\n",
              "      <td>[male]</td>\n",
              "      <td>[United Kingdom, New Zealand]</td>\n",
              "      <td>[television presenter]</td>\n",
              "      <td>Q7185804</td>\n",
              "      <td>2020-02-07 20:30:49</td>\n",
              "      <td>2</td>\n",
              "      <td>[https://www.dailystar.co.uk/showbiz/breaking-...</td>\n",
              "      <td>[Daily Star]</td>\n",
              "    </tr>\n",
              "    <tr>\n",
              "      <th>2</th>\n",
              "      <td>2020-01-11-002445</td>\n",
              "      <td>And help he always did. For someone who prefer...</td>\n",
              "      <td>Anna Wintour</td>\n",
              "      <td>[female]</td>\n",
              "      <td>[United Kingdom]</td>\n",
              "      <td>[journalist, fashion editor, writer, editor]</td>\n",
              "      <td>Q230744</td>\n",
              "      <td>2020-01-11 01:46:07</td>\n",
              "      <td>3</td>\n",
              "      <td>[https://www.irishmirror.ie/showbiz/celebrity-...</td>\n",
              "      <td>[Daily Mirror]</td>\n",
              "    </tr>\n",
              "    <tr>\n",
              "      <th>3</th>\n",
              "      <td>2020-01-21-005435</td>\n",
              "      <td>And the symptoms of what a person goes through...</td>\n",
              "      <td>Taylor Swift</td>\n",
              "      <td>[female]</td>\n",
              "      <td>[United States of America]</td>\n",
              "      <td>[actor, pianist, banjoist, composer, guitarist...</td>\n",
              "      <td>Q26876</td>\n",
              "      <td>2020-01-21 15:58:39</td>\n",
              "      <td>8</td>\n",
              "      <td>[https://www.irishmirror.ie/showbiz/celebrity-...</td>\n",
              "      <td>[Daily Mirror]</td>\n",
              "    </tr>\n",
              "    <tr>\n",
              "      <th>4</th>\n",
              "      <td>2020-01-31-008580</td>\n",
              "      <td>As you reach or have reached the apex of your ...</td>\n",
              "      <td>Keyon Dooling</td>\n",
              "      <td>[male]</td>\n",
              "      <td>[United States of America]</td>\n",
              "      <td>[basketball player]</td>\n",
              "      <td>Q304349</td>\n",
              "      <td>2020-01-31 19:07:55</td>\n",
              "      <td>1</td>\n",
              "      <td>[https://www.theguardian.com/sport/2020/jan/31...</td>\n",
              "      <td>[The Guardian]</td>\n",
              "    </tr>\n",
              "  </tbody>\n",
              "</table>\n",
              "</div>"
            ],
            "text/plain": [
              "             quoteID  ...       newspapers\n",
              "0  2020-01-17-000357  ...  [Daily Express]\n",
              "1  2020-02-07-005251  ...     [Daily Star]\n",
              "2  2020-01-11-002445  ...   [Daily Mirror]\n",
              "3  2020-01-21-005435  ...   [Daily Mirror]\n",
              "4  2020-01-31-008580  ...   [The Guardian]\n",
              "\n",
              "[5 rows x 11 columns]"
            ]
          },
          "metadata": {},
          "execution_count": 7
        }
      ]
    },
    {
      "cell_type": "markdown",
      "metadata": {
        "id": "vVi6hL038deK"
      },
      "source": [
        "### 4.2 Sanity check\n",
        "<a id=\"sanity_check\"></a>"
      ]
    },
    {
      "cell_type": "markdown",
      "metadata": {
        "id": "4bplTXK33u9J"
      },
      "source": [
        "Before proceeding to an exploration of our data, we need to check if there are no anomalies left in the data like missing values."
      ]
    },
    {
      "cell_type": "code",
      "metadata": {
        "colab": {
          "base_uri": "https://localhost:8080/",
          "height": 300
        },
        "id": "J1Dd9KHi3nVj",
        "outputId": "dd444fb0-fea5-41d4-e87a-df31ae7bc126"
      },
      "source": [
        "# Full descritpion of the numerical data\n",
        "df_2020.describe()"
      ],
      "execution_count": 8,
      "outputs": [
        {
          "output_type": "execute_result",
          "data": {
            "text/html": [
              "<div>\n",
              "<style scoped>\n",
              "    .dataframe tbody tr th:only-of-type {\n",
              "        vertical-align: middle;\n",
              "    }\n",
              "\n",
              "    .dataframe tbody tr th {\n",
              "        vertical-align: top;\n",
              "    }\n",
              "\n",
              "    .dataframe thead th {\n",
              "        text-align: right;\n",
              "    }\n",
              "</style>\n",
              "<table border=\"1\" class=\"dataframe\">\n",
              "  <thead>\n",
              "    <tr style=\"text-align: right;\">\n",
              "      <th></th>\n",
              "      <th>numOccurrences</th>\n",
              "    </tr>\n",
              "  </thead>\n",
              "  <tbody>\n",
              "    <tr>\n",
              "      <th>count</th>\n",
              "      <td>159934.000000</td>\n",
              "    </tr>\n",
              "    <tr>\n",
              "      <th>mean</th>\n",
              "      <td>15.908168</td>\n",
              "    </tr>\n",
              "    <tr>\n",
              "      <th>std</th>\n",
              "      <td>42.072382</td>\n",
              "    </tr>\n",
              "    <tr>\n",
              "      <th>min</th>\n",
              "      <td>1.000000</td>\n",
              "    </tr>\n",
              "    <tr>\n",
              "      <th>25%</th>\n",
              "      <td>1.000000</td>\n",
              "    </tr>\n",
              "    <tr>\n",
              "      <th>50%</th>\n",
              "      <td>1.000000</td>\n",
              "    </tr>\n",
              "    <tr>\n",
              "      <th>75%</th>\n",
              "      <td>5.000000</td>\n",
              "    </tr>\n",
              "    <tr>\n",
              "      <th>max</th>\n",
              "      <td>2037.000000</td>\n",
              "    </tr>\n",
              "  </tbody>\n",
              "</table>\n",
              "</div>"
            ],
            "text/plain": [
              "       numOccurrences\n",
              "count   159934.000000\n",
              "mean        15.908168\n",
              "std         42.072382\n",
              "min          1.000000\n",
              "25%          1.000000\n",
              "50%          1.000000\n",
              "75%          5.000000\n",
              "max       2037.000000"
            ]
          },
          "metadata": {},
          "execution_count": 8
        }
      ]
    },
    {
      "cell_type": "markdown",
      "metadata": {
        "id": "H6op5heG36Fa"
      },
      "source": [
        "The only numerical data we get is the number of occurences. We only get a meaningful description for this column yet."
      ]
    },
    {
      "cell_type": "code",
      "metadata": {
        "colab": {
          "base_uri": "https://localhost:8080/"
        },
        "id": "aX618mD84Gx1",
        "outputId": "4525c94c-0ddb-4541-d91c-db38e7ce9550"
      },
      "source": [
        "# Verification for missing values\n",
        "df_2020.isnull().any()"
      ],
      "execution_count": 9,
      "outputs": [
        {
          "output_type": "execute_result",
          "data": {
            "text/plain": [
              "quoteID           False\n",
              "quotation         False\n",
              "speaker           False\n",
              "gender            False\n",
              "nationality        True\n",
              "occupation         True\n",
              "qid               False\n",
              "date              False\n",
              "numOccurrences    False\n",
              "urls              False\n",
              "newspapers        False\n",
              "dtype: bool"
            ]
          },
          "metadata": {},
          "execution_count": 9
        }
      ]
    },
    {
      "cell_type": "markdown",
      "metadata": {
        "id": "1LJLVoZf4S3h"
      },
      "source": [
        "We only have missing values for the nationality and occupation. We knew it would be the case. For us the most important was to remove any 'None' speakers. The nationalities and occupations will be later used for a deeper analysis. We will simply have to deal with them."
      ]
    },
    {
      "cell_type": "code",
      "metadata": {
        "colab": {
          "base_uri": "https://localhost:8080/",
          "height": 49
        },
        "id": "V_ilXRSE5dPg",
        "outputId": "25fdc312-b0ea-4b1b-a3d3-cd8da809f3aa"
      },
      "source": [
        "# Verification of empty quotes\n",
        "df_2020[df_2020.quotation == '']"
      ],
      "execution_count": 10,
      "outputs": [
        {
          "output_type": "execute_result",
          "data": {
            "text/html": [
              "<div>\n",
              "<style scoped>\n",
              "    .dataframe tbody tr th:only-of-type {\n",
              "        vertical-align: middle;\n",
              "    }\n",
              "\n",
              "    .dataframe tbody tr th {\n",
              "        vertical-align: top;\n",
              "    }\n",
              "\n",
              "    .dataframe thead th {\n",
              "        text-align: right;\n",
              "    }\n",
              "</style>\n",
              "<table border=\"1\" class=\"dataframe\">\n",
              "  <thead>\n",
              "    <tr style=\"text-align: right;\">\n",
              "      <th></th>\n",
              "      <th>quoteID</th>\n",
              "      <th>quotation</th>\n",
              "      <th>speaker</th>\n",
              "      <th>gender</th>\n",
              "      <th>nationality</th>\n",
              "      <th>occupation</th>\n",
              "      <th>qid</th>\n",
              "      <th>date</th>\n",
              "      <th>numOccurrences</th>\n",
              "      <th>urls</th>\n",
              "      <th>newspapers</th>\n",
              "    </tr>\n",
              "  </thead>\n",
              "  <tbody>\n",
              "  </tbody>\n",
              "</table>\n",
              "</div>"
            ],
            "text/plain": [
              "Empty DataFrame\n",
              "Columns: [quoteID, quotation, speaker, gender, nationality, occupation, qid, date, numOccurrences, urls, newspapers]\n",
              "Index: []"
            ]
          },
          "metadata": {},
          "execution_count": 10
        }
      ]
    },
    {
      "cell_type": "code",
      "metadata": {
        "colab": {
          "base_uri": "https://localhost:8080/",
          "height": 49
        },
        "id": "IlOj-52z5jkR",
        "outputId": "46bfcad7-5b7f-4b17-d4e9-4db641a32896"
      },
      "source": [
        "# Verification of duplicates\n",
        "duplicates = df_2020[df_2020.duplicated(subset='quoteID', keep='first')] \n",
        "duplicates.head()"
      ],
      "execution_count": 11,
      "outputs": [
        {
          "output_type": "execute_result",
          "data": {
            "text/html": [
              "<div>\n",
              "<style scoped>\n",
              "    .dataframe tbody tr th:only-of-type {\n",
              "        vertical-align: middle;\n",
              "    }\n",
              "\n",
              "    .dataframe tbody tr th {\n",
              "        vertical-align: top;\n",
              "    }\n",
              "\n",
              "    .dataframe thead th {\n",
              "        text-align: right;\n",
              "    }\n",
              "</style>\n",
              "<table border=\"1\" class=\"dataframe\">\n",
              "  <thead>\n",
              "    <tr style=\"text-align: right;\">\n",
              "      <th></th>\n",
              "      <th>quoteID</th>\n",
              "      <th>quotation</th>\n",
              "      <th>speaker</th>\n",
              "      <th>gender</th>\n",
              "      <th>nationality</th>\n",
              "      <th>occupation</th>\n",
              "      <th>qid</th>\n",
              "      <th>date</th>\n",
              "      <th>numOccurrences</th>\n",
              "      <th>urls</th>\n",
              "      <th>newspapers</th>\n",
              "    </tr>\n",
              "  </thead>\n",
              "  <tbody>\n",
              "  </tbody>\n",
              "</table>\n",
              "</div>"
            ],
            "text/plain": [
              "Empty DataFrame\n",
              "Columns: [quoteID, quotation, speaker, gender, nationality, occupation, qid, date, numOccurrences, urls, newspapers]\n",
              "Index: []"
            ]
          },
          "metadata": {},
          "execution_count": 11
        }
      ]
    },
    {
      "cell_type": "markdown",
      "metadata": {
        "id": "7msABdN75tUZ"
      },
      "source": [
        "There are no missing quotes nor duplicates. Thus we don't have additional modification to make."
      ]
    },
    {
      "cell_type": "markdown",
      "metadata": {
        "id": "pz1BA20r8T6L"
      },
      "source": [
        "### 4.3 Visualisation of genders\n",
        "<a id=\"visual_genders\"></a>\n",
        "\n",
        "We want to conduct an analysis on the evolution of women's presence in UK's newspapers. We will have a first look on the repartition of the speaker's genders.\n",
        "\n"
      ]
    },
    {
      "cell_type": "code",
      "metadata": {
        "id": "hWfaLAYL8XuD"
      },
      "source": [
        "# Convert the 2D gender column to 1D\n",
        "def convert(series):\n",
        "  return pd.Series([x for _list in series for x in _list])"
      ],
      "execution_count": 12,
      "outputs": []
    },
    {
      "cell_type": "code",
      "metadata": {
        "colab": {
          "base_uri": "https://localhost:8080/"
        },
        "id": "QQ3OeK2a8yOh",
        "outputId": "86c7b45f-b4c4-4dc5-e2c7-18941cc00157"
      },
      "source": [
        "# Get number of each gender\n",
        "convert(df_2020[\"gender\"]).value_counts()"
      ],
      "execution_count": 13,
      "outputs": [
        {
          "output_type": "execute_result",
          "data": {
            "text/plain": [
              "male                  119086\n",
              "female                 38816\n",
              "non-binary               166\n",
              "transgender female       141\n",
              "genderfluid               43\n",
              "cisgender female          12\n",
              "transgender male           6\n",
              "intersex                   5\n",
              "shemale                    2\n",
              "genderqueer                2\n",
              "dtype: int64"
            ]
          },
          "metadata": {},
          "execution_count": 13
        }
      ]
    },
    {
      "cell_type": "code",
      "metadata": {
        "colab": {
          "base_uri": "https://localhost:8080/",
          "height": 463
        },
        "id": "-xTegaX_86FY",
        "outputId": "0e997c28-9747-4fb9-ad03-3507233a2158"
      },
      "source": [
        "# Visualisation of gender distribution\n",
        "fig, ax = plt.subplots(figsize = (17,7))\n",
        "sns.barplot(x=convert(df_2020[\"gender\"]).value_counts().index,\n",
        "        y=convert(df_2020[\"gender\"]).value_counts().values)\n",
        "ax.set_ylabel(\"Frequency\", size = 12)\n",
        "ax.set_title(\"Genders\", size = 14)"
      ],
      "execution_count": 14,
      "outputs": [
        {
          "output_type": "execute_result",
          "data": {
            "text/plain": [
              "Text(0.5, 1.0, 'Genders')"
            ]
          },
          "metadata": {},
          "execution_count": 14
        },
        {
          "output_type": "display_data",
          "data": {
            "image/png": "[encoded data removed]",
            "text/plain": [
              "<Figure size 1224x504 with 1 Axes>"
            ]
          },
          "metadata": {
            "needs_background": "light"
          }
        }
      ]
    },
    {
      "cell_type": "markdown",
      "metadata": {
        "id": "_blwi1t2yC9n"
      },
      "source": [
        "A expected, the minorities are almost negligible in comparison to the two main genders. But it is still very intesting to notice their presence even in small numbers. We could make a further analysis on them but first we will concentrate on the repartition between male and female. Unsurprsingly, male speakers are quoted two times more than female ones. "
      ]
    },
    {
      "cell_type": "code",
      "metadata": {
        "colab": {
          "base_uri": "https://localhost:8080/",
          "height": 625
        },
        "id": "fikgB8DS9y-R",
        "outputId": "a86b9e8e-f1ea-4483-d4fa-80e2514f2b07"
      },
      "source": [
        "# Creation of DataFrame, male speakers\n",
        "# The gender column contains lists. A mask is created to select values\n",
        "# upon conditions in the list.\n",
        "mask_males = df_2020.gender.apply(lambda x: 'male' in x)\n",
        "males_df = df_2020[mask_males]\n",
        "males_df.head()"
      ],
      "execution_count": 15,
      "outputs": [
        {
          "output_type": "execute_result",
          "data": {
            "text/html": [
              "<div>\n",
              "<style scoped>\n",
              "    .dataframe tbody tr th:only-of-type {\n",
              "        vertical-align: middle;\n",
              "    }\n",
              "\n",
              "    .dataframe tbody tr th {\n",
              "        vertical-align: top;\n",
              "    }\n",
              "\n",
              "    .dataframe thead th {\n",
              "        text-align: right;\n",
              "    }\n",
              "</style>\n",
              "<table border=\"1\" class=\"dataframe\">\n",
              "  <thead>\n",
              "    <tr style=\"text-align: right;\">\n",
              "      <th></th>\n",
              "      <th>quoteID</th>\n",
              "      <th>quotation</th>\n",
              "      <th>speaker</th>\n",
              "      <th>gender</th>\n",
              "      <th>nationality</th>\n",
              "      <th>occupation</th>\n",
              "      <th>qid</th>\n",
              "      <th>date</th>\n",
              "      <th>numOccurrences</th>\n",
              "      <th>urls</th>\n",
              "      <th>newspapers</th>\n",
              "    </tr>\n",
              "  </thead>\n",
              "  <tbody>\n",
              "    <tr>\n",
              "      <th>0</th>\n",
              "      <td>2020-01-17-000357</td>\n",
              "      <td>[ The delay ] will have an impact [ on Slough ...</td>\n",
              "      <td>Dexter Smith</td>\n",
              "      <td>[male]</td>\n",
              "      <td>[Bermuda]</td>\n",
              "      <td>[cricketer]</td>\n",
              "      <td>Q5268447</td>\n",
              "      <td>2020-01-17 13:03:00</td>\n",
              "      <td>1</td>\n",
              "      <td>[http://www.sloughexpress.co.uk/gallery/slough...</td>\n",
              "      <td>[Daily Express]</td>\n",
              "    </tr>\n",
              "    <tr>\n",
              "      <th>1</th>\n",
              "      <td>2020-02-07-005251</td>\n",
              "      <td>And for the record, Eamonn Holmes made me laug...</td>\n",
              "      <td>Phillip Schofield</td>\n",
              "      <td>[male]</td>\n",
              "      <td>[United Kingdom, New Zealand]</td>\n",
              "      <td>[television presenter]</td>\n",
              "      <td>Q7185804</td>\n",
              "      <td>2020-02-07 20:30:49</td>\n",
              "      <td>2</td>\n",
              "      <td>[https://www.dailystar.co.uk/showbiz/breaking-...</td>\n",
              "      <td>[Daily Star]</td>\n",
              "    </tr>\n",
              "    <tr>\n",
              "      <th>4</th>\n",
              "      <td>2020-01-31-008580</td>\n",
              "      <td>As you reach or have reached the apex of your ...</td>\n",
              "      <td>Keyon Dooling</td>\n",
              "      <td>[male]</td>\n",
              "      <td>[United States of America]</td>\n",
              "      <td>[basketball player]</td>\n",
              "      <td>Q304349</td>\n",
              "      <td>2020-01-31 19:07:55</td>\n",
              "      <td>1</td>\n",
              "      <td>[https://www.theguardian.com/sport/2020/jan/31...</td>\n",
              "      <td>[The Guardian]</td>\n",
              "    </tr>\n",
              "    <tr>\n",
              "      <th>5</th>\n",
              "      <td>2020-01-15-008384</td>\n",
              "      <td>At that particular moment we will be objective...</td>\n",
              "      <td>Piers Morgan</td>\n",
              "      <td>[male]</td>\n",
              "      <td>[United Kingdom]</td>\n",
              "      <td>[journalist, television presenter, diarist]</td>\n",
              "      <td>Q557758</td>\n",
              "      <td>2020-01-15 09:38:00</td>\n",
              "      <td>1</td>\n",
              "      <td>[http://express.co.uk/showbiz/tv-radio/1228631...</td>\n",
              "      <td>[Daily Express]</td>\n",
              "    </tr>\n",
              "    <tr>\n",
              "      <th>6</th>\n",
              "      <td>2020-01-20-006469</td>\n",
              "      <td>At the same time we want to remain friends wit...</td>\n",
              "      <td>Tim Martin</td>\n",
              "      <td>[male]</td>\n",
              "      <td>None</td>\n",
              "      <td>[American football player]</td>\n",
              "      <td>Q20670776</td>\n",
              "      <td>2020-01-20 09:08:24</td>\n",
              "      <td>4</td>\n",
              "      <td>[https://www.dailystar.co.uk/real-life/wethers...</td>\n",
              "      <td>[Daily Star, The Sun]</td>\n",
              "    </tr>\n",
              "  </tbody>\n",
              "</table>\n",
              "</div>"
            ],
            "text/plain": [
              "             quoteID  ...             newspapers\n",
              "0  2020-01-17-000357  ...        [Daily Express]\n",
              "1  2020-02-07-005251  ...           [Daily Star]\n",
              "4  2020-01-31-008580  ...         [The Guardian]\n",
              "5  2020-01-15-008384  ...        [Daily Express]\n",
              "6  2020-01-20-006469  ...  [Daily Star, The Sun]\n",
              "\n",
              "[5 rows x 11 columns]"
            ]
          },
          "metadata": {},
          "execution_count": 15
        }
      ]
    },
    {
      "cell_type": "code",
      "metadata": {
        "colab": {
          "base_uri": "https://localhost:8080/",
          "height": 643
        },
        "id": "nhdMRSEC-V86",
        "outputId": "68567407-d6e9-40c6-cf53-4035b70250cf"
      },
      "source": [
        "# Creation of DataFrame, female speakers\n",
        "mask_females = df_2020.gender.apply(lambda x: 'female' in x)\n",
        "females_df = df_2020[mask_females]\n",
        "females_df.head()"
      ],
      "execution_count": 16,
      "outputs": [
        {
          "output_type": "execute_result",
          "data": {
            "text/html": [
              "<div>\n",
              "<style scoped>\n",
              "    .dataframe tbody tr th:only-of-type {\n",
              "        vertical-align: middle;\n",
              "    }\n",
              "\n",
              "    .dataframe tbody tr th {\n",
              "        vertical-align: top;\n",
              "    }\n",
              "\n",
              "    .dataframe thead th {\n",
              "        text-align: right;\n",
              "    }\n",
              "</style>\n",
              "<table border=\"1\" class=\"dataframe\">\n",
              "  <thead>\n",
              "    <tr style=\"text-align: right;\">\n",
              "      <th></th>\n",
              "      <th>quoteID</th>\n",
              "      <th>quotation</th>\n",
              "      <th>speaker</th>\n",
              "      <th>gender</th>\n",
              "      <th>nationality</th>\n",
              "      <th>occupation</th>\n",
              "      <th>qid</th>\n",
              "      <th>date</th>\n",
              "      <th>numOccurrences</th>\n",
              "      <th>urls</th>\n",
              "      <th>newspapers</th>\n",
              "    </tr>\n",
              "  </thead>\n",
              "  <tbody>\n",
              "    <tr>\n",
              "      <th>2</th>\n",
              "      <td>2020-01-11-002445</td>\n",
              "      <td>And help he always did. For someone who prefer...</td>\n",
              "      <td>Anna Wintour</td>\n",
              "      <td>[female]</td>\n",
              "      <td>[United Kingdom]</td>\n",
              "      <td>[journalist, fashion editor, writer, editor]</td>\n",
              "      <td>Q230744</td>\n",
              "      <td>2020-01-11 01:46:07</td>\n",
              "      <td>3</td>\n",
              "      <td>[https://www.irishmirror.ie/showbiz/celebrity-...</td>\n",
              "      <td>[Daily Mirror]</td>\n",
              "    </tr>\n",
              "    <tr>\n",
              "      <th>3</th>\n",
              "      <td>2020-01-21-005435</td>\n",
              "      <td>And the symptoms of what a person goes through...</td>\n",
              "      <td>Taylor Swift</td>\n",
              "      <td>[female]</td>\n",
              "      <td>[United States of America]</td>\n",
              "      <td>[actor, pianist, banjoist, composer, guitarist...</td>\n",
              "      <td>Q26876</td>\n",
              "      <td>2020-01-21 15:58:39</td>\n",
              "      <td>8</td>\n",
              "      <td>[https://www.irishmirror.ie/showbiz/celebrity-...</td>\n",
              "      <td>[Daily Mirror]</td>\n",
              "    </tr>\n",
              "    <tr>\n",
              "      <th>7</th>\n",
              "      <td>2020-04-03-006933</td>\n",
              "      <td>Been home-schooling a 6-year-old and 8-year-ol...</td>\n",
              "      <td>Shonda Rhimes</td>\n",
              "      <td>[female]</td>\n",
              "      <td>[United States of America]</td>\n",
              "      <td>[film director, screenwriter, writer, film pro...</td>\n",
              "      <td>Q242329</td>\n",
              "      <td>2020-04-03 16:00:00</td>\n",
              "      <td>1</td>\n",
              "      <td>[http://www.thetimes.co.uk/edition/magazine/ca...</td>\n",
              "      <td>[The Times]</td>\n",
              "    </tr>\n",
              "    <tr>\n",
              "      <th>8</th>\n",
              "      <td>2020-02-14-010581</td>\n",
              "      <td>Body confidence needs to be shouted about more...</td>\n",
              "      <td>Stacey Solomon</td>\n",
              "      <td>[female]</td>\n",
              "      <td>[United Kingdom]</td>\n",
              "      <td>[singer, model, television presenter]</td>\n",
              "      <td>Q439365</td>\n",
              "      <td>2020-02-14 15:20:22</td>\n",
              "      <td>1</td>\n",
              "      <td>[https://www.dailystar.co.uk/showbiz/loose-wom...</td>\n",
              "      <td>[Daily Star]</td>\n",
              "    </tr>\n",
              "    <tr>\n",
              "      <th>11</th>\n",
              "      <td>2020-02-27-009528</td>\n",
              "      <td>But it really is that. The universe is a weird...</td>\n",
              "      <td>Melanie Johnston-Hollitt</td>\n",
              "      <td>[female]</td>\n",
              "      <td>None</td>\n",
              "      <td>[astrophysicist, researcher]</td>\n",
              "      <td>Q50505758</td>\n",
              "      <td>2020-02-27 16:11:43</td>\n",
              "      <td>65</td>\n",
              "      <td>[http://andoveradvertiser.co.uk/news/national/...</td>\n",
              "      <td>[The Daily Telegraph, Daily Express, Daily Mir...</td>\n",
              "    </tr>\n",
              "  </tbody>\n",
              "</table>\n",
              "</div>"
            ],
            "text/plain": [
              "              quoteID  ...                                         newspapers\n",
              "2   2020-01-11-002445  ...                                     [Daily Mirror]\n",
              "3   2020-01-21-005435  ...                                     [Daily Mirror]\n",
              "7   2020-04-03-006933  ...                                        [The Times]\n",
              "8   2020-02-14-010581  ...                                       [Daily Star]\n",
              "11  2020-02-27-009528  ...  [The Daily Telegraph, Daily Express, Daily Mir...\n",
              "\n",
              "[5 rows x 11 columns]"
            ]
          },
          "metadata": {},
          "execution_count": 16
        }
      ]
    },
    {
      "cell_type": "code",
      "metadata": {
        "colab": {
          "base_uri": "https://localhost:8080/",
          "height": 342
        },
        "id": "jerdRXxq-xJA",
        "outputId": "584d90be-0f20-4247-bc8f-b26210b8dc70"
      },
      "source": [
        "# Distribution of male and female speakers regarding the number of occurrences of quotes\n",
        "fig, axs = plt.subplots(1,2, sharey='row')\n",
        "axs[0].set_title(\"males\")\n",
        "axs[1].set_title(\"females\")\n",
        "sns.boxplot(y='numOccurrences', data = males_df, ax = axs[0])\n",
        "sns.boxplot(y='numOccurrences', data = females_df, ax = axs[1])\n",
        "fig.suptitle('Number of occurrences per gender')\n",
        "fig.set_size_inches(15,5)\n",
        "plt.show()"
      ],
      "execution_count": 17,
      "outputs": [
        {
          "output_type": "display_data",
          "data": {
            "image/png": "[encoded data removed]",
            "text/plain": [
              "<Figure size 1080x360 with 2 Axes>"
            ]
          },
          "metadata": {
            "needs_background": "light"
          }
        }
      ]
    },
    {
      "cell_type": "markdown",
      "metadata": {
        "id": "nuklerrhu2CQ"
      },
      "source": [
        "There are seem to be some wide spread quotes. Let us have a look:"
      ]
    },
    {
      "cell_type": "code",
      "metadata": {
        "colab": {
          "base_uri": "https://localhost:8080/",
          "height": 1000
        },
        "id": "UzGd53BT_C1V",
        "outputId": "945e4494-9d42-44c6-f583-97ccfba02313"
      },
      "source": [
        "females_df.loc[females_df.numOccurrences >= 300]"
      ],
      "execution_count": 18,
      "outputs": [
        {
          "output_type": "execute_result",
          "data": {
            "text/html": [
              "<div>\n",
              "<style scoped>\n",
              "    .dataframe tbody tr th:only-of-type {\n",
              "        vertical-align: middle;\n",
              "    }\n",
              "\n",
              "    .dataframe tbody tr th {\n",
              "        vertical-align: top;\n",
              "    }\n",
              "\n",
              "    .dataframe thead th {\n",
              "        text-align: right;\n",
              "    }\n",
              "</style>\n",
              "<table border=\"1\" class=\"dataframe\">\n",
              "  <thead>\n",
              "    <tr style=\"text-align: right;\">\n",
              "      <th></th>\n",
              "      <th>quoteID</th>\n",
              "      <th>quotation</th>\n",
              "      <th>speaker</th>\n",
              "      <th>gender</th>\n",
              "      <th>nationality</th>\n",
              "      <th>occupation</th>\n",
              "      <th>qid</th>\n",
              "      <th>date</th>\n",
              "      <th>numOccurrences</th>\n",
              "      <th>urls</th>\n",
              "      <th>newspapers</th>\n",
              "    </tr>\n",
              "  </thead>\n",
              "  <tbody>\n",
              "    <tr>\n",
              "      <th>924</th>\n",
              "      <td>2020-01-23-035802</td>\n",
              "      <td>I should say, that the risk to the public here...</td>\n",
              "      <td>Nicola Sturgeon</td>\n",
              "      <td>[female]</td>\n",
              "      <td>[Scotland, United Kingdom]</td>\n",
              "      <td>[politician, lawyer]</td>\n",
              "      <td>Q467112</td>\n",
              "      <td>2020-01-23 00:00:00</td>\n",
              "      <td>347</td>\n",
              "      <td>[http://feeds.foxnews.com/~r/foxnews/health/~3...</td>\n",
              "      <td>[Daily Express, The Daily Telegraph, Evening S...</td>\n",
              "    </tr>\n",
              "    <tr>\n",
              "      <th>1550</th>\n",
              "      <td>2020-04-04-010936</td>\n",
              "      <td>I hope in the years to come, everyone will be ...</td>\n",
              "      <td>Queen Elizabeth II</td>\n",
              "      <td>[female]</td>\n",
              "      <td>[United Kingdom]</td>\n",
              "      <td>[monarch, auto mechanic, truck driver]</td>\n",
              "      <td>Q9682</td>\n",
              "      <td>2020-04-04 23:16:00</td>\n",
              "      <td>388</td>\n",
              "      <td>[https://www.dailysabah.com/world/americas/tru...</td>\n",
              "      <td>[Metro]</td>\n",
              "    </tr>\n",
              "    <tr>\n",
              "      <th>3013</th>\n",
              "      <td>2020-01-09-040959</td>\n",
              "      <td>I'll send them over when I'm ready -- and that...</td>\n",
              "      <td>Nancy Pelosi</td>\n",
              "      <td>[female]</td>\n",
              "      <td>[United States of America]</td>\n",
              "      <td>[politician]</td>\n",
              "      <td>Q170581</td>\n",
              "      <td>2020-01-09 11:09:37</td>\n",
              "      <td>574</td>\n",
              "      <td>[http://p.washingtontimes.com/news/2020/jan/9/...</td>\n",
              "      <td>[Daily Express]</td>\n",
              "    </tr>\n",
              "    <tr>\n",
              "      <th>7527</th>\n",
              "      <td>2020-01-08-066168</td>\n",
              "      <td>step back as `senior;' members of the Royal Fa...</td>\n",
              "      <td>Meghan Markle</td>\n",
              "      <td>[female]</td>\n",
              "      <td>[United States of America]</td>\n",
              "      <td>[actor, model, television actor, patron of the...</td>\n",
              "      <td>Q3304418</td>\n",
              "      <td>2020-01-08 00:00:00</td>\n",
              "      <td>398</td>\n",
              "      <td>[https://toofab.com/2020/01/08/harry-meghan-pe...</td>\n",
              "      <td>[i, Daily Mirror, Daily Express, Evening Stand...</td>\n",
              "    </tr>\n",
              "    <tr>\n",
              "      <th>10757</th>\n",
              "      <td>2020-03-04-006252</td>\n",
              "      <td>At this point in time we think it is likely, n...</td>\n",
              "      <td>Meg Hillier</td>\n",
              "      <td>[female]</td>\n",
              "      <td>[United Kingdom]</td>\n",
              "      <td>[politician]</td>\n",
              "      <td>Q676658</td>\n",
              "      <td>2020-03-04 08:40:00</td>\n",
              "      <td>735</td>\n",
              "      <td>[https://www.independent.co.uk/news/health/cor...</td>\n",
              "      <td>[The Daily Telegraph, Daily Mail, Evening Stan...</td>\n",
              "    </tr>\n",
              "    <tr>\n",
              "      <th>...</th>\n",
              "      <td>...</td>\n",
              "      <td>...</td>\n",
              "      <td>...</td>\n",
              "      <td>...</td>\n",
              "      <td>...</td>\n",
              "      <td>...</td>\n",
              "      <td>...</td>\n",
              "      <td>...</td>\n",
              "      <td>...</td>\n",
              "      <td>...</td>\n",
              "      <td>...</td>\n",
              "    </tr>\n",
              "    <tr>\n",
              "      <th>144232</th>\n",
              "      <td>2020-03-17-022914</td>\n",
              "      <td>I feel under pressure to train and keep the sa...</td>\n",
              "      <td>Katarina Johnson-Thompson</td>\n",
              "      <td>[female]</td>\n",
              "      <td>[United Kingdom]</td>\n",
              "      <td>[athletics competitor]</td>\n",
              "      <td>Q3077997</td>\n",
              "      <td>2020-03-17 20:02:03</td>\n",
              "      <td>312</td>\n",
              "      <td>[http://tewkesburyadmag.co.uk/sport/national/1...</td>\n",
              "      <td>[The Daily Telegraph, Daily Express, Evening S...</td>\n",
              "    </tr>\n",
              "    <tr>\n",
              "      <th>148598</th>\n",
              "      <td>2020-01-26-004791</td>\n",
              "      <td>Boris Johnson is showing that he fundamentally...</td>\n",
              "      <td>Christine Jardine</td>\n",
              "      <td>[female]</td>\n",
              "      <td>[United Kingdom]</td>\n",
              "      <td>[politician, journalist]</td>\n",
              "      <td>Q30164696</td>\n",
              "      <td>2020-01-26 22:30:00</td>\n",
              "      <td>324</td>\n",
              "      <td>[http://www.irishnews.com/magazine/science/202...</td>\n",
              "      <td>[Evening Standard, The Daily Telegraph, Daily ...</td>\n",
              "    </tr>\n",
              "    <tr>\n",
              "      <th>152747</th>\n",
              "      <td>2020-02-03-039599</td>\n",
              "      <td>Important services, critical operations have b...</td>\n",
              "      <td>Carrie Lam</td>\n",
              "      <td>[female]</td>\n",
              "      <td>[People's Republic of China, United Kingdom, B...</td>\n",
              "      <td>[justice of the peace, politician]</td>\n",
              "      <td>Q19217</td>\n",
              "      <td>2020-02-03 17:38:08</td>\n",
              "      <td>490</td>\n",
              "      <td>[https://www.seattletimes.com/seattle-news/hea...</td>\n",
              "      <td>[The Daily Telegraph, Evening Standard, Daily ...</td>\n",
              "    </tr>\n",
              "    <tr>\n",
              "      <th>154473</th>\n",
              "      <td>2020-01-31-058581</td>\n",
              "      <td>Just as the WHO recommended against travel res...</td>\n",
              "      <td>Hua Chunying</td>\n",
              "      <td>[female]</td>\n",
              "      <td>[People's Republic of China]</td>\n",
              "      <td>[diplomat, government spokesperson]</td>\n",
              "      <td>Q630111</td>\n",
              "      <td>2020-01-31 09:57:50</td>\n",
              "      <td>382</td>\n",
              "      <td>[http://www.breitbart.com/news/china-slams-us-...</td>\n",
              "      <td>[Evening Standard, Daily Express]</td>\n",
              "    </tr>\n",
              "    <tr>\n",
              "      <th>155416</th>\n",
              "      <td>2020-01-21-102812</td>\n",
              "      <td>What matters is that millions of people strugg...</td>\n",
              "      <td>Gretchen Whitmer</td>\n",
              "      <td>[female]</td>\n",
              "      <td>[United States of America]</td>\n",
              "      <td>[politician, lawyer, prosecutor]</td>\n",
              "      <td>Q5607720</td>\n",
              "      <td>2020-01-21 16:30:26</td>\n",
              "      <td>461</td>\n",
              "      <td>[https://www.inforum.com/news/government-and-p...</td>\n",
              "      <td>[Evening Standard, The Daily Telegraph, Daily ...</td>\n",
              "    </tr>\n",
              "  </tbody>\n",
              "</table>\n",
              "<p>69 rows × 11 columns</p>\n",
              "</div>"
            ],
            "text/plain": [
              "                  quoteID  ...                                         newspapers\n",
              "924     2020-01-23-035802  ...  [Daily Express, The Daily Telegraph, Evening S...\n",
              "1550    2020-04-04-010936  ...                                            [Metro]\n",
              "3013    2020-01-09-040959  ...                                    [Daily Express]\n",
              "7527    2020-01-08-066168  ...  [i, Daily Mirror, Daily Express, Evening Stand...\n",
              "10757   2020-03-04-006252  ...  [The Daily Telegraph, Daily Mail, Evening Stan...\n",
              "...                   ...  ...                                                ...\n",
              "144232  2020-03-17-022914  ...  [The Daily Telegraph, Daily Express, Evening S...\n",
              "148598  2020-01-26-004791  ...  [Evening Standard, The Daily Telegraph, Daily ...\n",
              "152747  2020-02-03-039599  ...  [The Daily Telegraph, Evening Standard, Daily ...\n",
              "154473  2020-01-31-058581  ...                  [Evening Standard, Daily Express]\n",
              "155416  2020-01-21-102812  ...  [Evening Standard, The Daily Telegraph, Daily ...\n",
              "\n",
              "[69 rows x 11 columns]"
            ]
          },
          "metadata": {},
          "execution_count": 18
        }
      ]
    },
    {
      "cell_type": "code",
      "metadata": {
        "colab": {
          "base_uri": "https://localhost:8080/",
          "height": 1000
        },
        "id": "3eeKt0Ycu2CQ",
        "outputId": "2481d2a7-ec6c-405e-dd61-cbffaf56c4ea"
      },
      "source": [
        "males_df.loc[males_df.numOccurrences >= 700]"
      ],
      "execution_count": 19,
      "outputs": [
        {
          "output_type": "execute_result",
          "data": {
            "text/html": [
              "<div>\n",
              "<style scoped>\n",
              "    .dataframe tbody tr th:only-of-type {\n",
              "        vertical-align: middle;\n",
              "    }\n",
              "\n",
              "    .dataframe tbody tr th {\n",
              "        vertical-align: top;\n",
              "    }\n",
              "\n",
              "    .dataframe thead th {\n",
              "        text-align: right;\n",
              "    }\n",
              "</style>\n",
              "<table border=\"1\" class=\"dataframe\">\n",
              "  <thead>\n",
              "    <tr style=\"text-align: right;\">\n",
              "      <th></th>\n",
              "      <th>quoteID</th>\n",
              "      <th>quotation</th>\n",
              "      <th>speaker</th>\n",
              "      <th>gender</th>\n",
              "      <th>nationality</th>\n",
              "      <th>occupation</th>\n",
              "      <th>qid</th>\n",
              "      <th>date</th>\n",
              "      <th>numOccurrences</th>\n",
              "      <th>urls</th>\n",
              "      <th>newspapers</th>\n",
              "    </tr>\n",
              "  </thead>\n",
              "  <tbody>\n",
              "    <tr>\n",
              "      <th>11465</th>\n",
              "      <td>2020-01-07-005600</td>\n",
              "      <td>appears to be standing down.</td>\n",
              "      <td>President Donald Trump</td>\n",
              "      <td>[male]</td>\n",
              "      <td>[United States of America]</td>\n",
              "      <td>[business magnate, investor, restaurateur, non...</td>\n",
              "      <td>Q22686</td>\n",
              "      <td>2020-01-07 23:52:00</td>\n",
              "      <td>759</td>\n",
              "      <td>[http://feeds.marketwatch.com/~r/marketwatch/b...</td>\n",
              "      <td>[The Times, The Daily Telegraph, The Sun]</td>\n",
              "    </tr>\n",
              "    <tr>\n",
              "      <th>13784</th>\n",
              "      <td>2020-03-11-021146</td>\n",
              "      <td>I can say we will see more cases, and things w...</td>\n",
              "      <td>Anthony Fauci</td>\n",
              "      <td>[male]</td>\n",
              "      <td>[United States of America]</td>\n",
              "      <td>[immunologist, physician, researcher]</td>\n",
              "      <td>Q573246</td>\n",
              "      <td>2020-03-11 00:00:00</td>\n",
              "      <td>872</td>\n",
              "      <td>[http://delawarepublic.org/post/trump-set-deli...</td>\n",
              "      <td>[Evening Standard, Daily Record, The Daily Tel...</td>\n",
              "    </tr>\n",
              "    <tr>\n",
              "      <th>25192</th>\n",
              "      <td>2020-02-07-059825</td>\n",
              "      <td>make it impossible for me to do my job.</td>\n",
              "      <td>William Barr</td>\n",
              "      <td>[male]</td>\n",
              "      <td>None</td>\n",
              "      <td>[engineer]</td>\n",
              "      <td>Q16683338</td>\n",
              "      <td>2020-02-07 00:00:00</td>\n",
              "      <td>1105</td>\n",
              "      <td>[http://www.canindia.com/trump-should-stop-twe...</td>\n",
              "      <td>[Evening Standard, The Daily Telegraph, City A...</td>\n",
              "    </tr>\n",
              "    <tr>\n",
              "      <th>32278</th>\n",
              "      <td>2020-02-04-073676</td>\n",
              "      <td>So, we have to do everything today using avail...</td>\n",
              "      <td>Tedros Adhanom Ghebreyesus</td>\n",
              "      <td>[male]</td>\n",
              "      <td>[Ethiopia]</td>\n",
              "      <td>[politician, microbiologist, malariologist]</td>\n",
              "      <td>Q16196017</td>\n",
              "      <td>2020-02-04 14:12:00</td>\n",
              "      <td>785</td>\n",
              "      <td>[https://www.wsbradio.com/lifestyles/atlanta-r...</td>\n",
              "      <td>[Daily Star, Daily Mirror, The Sun]</td>\n",
              "    </tr>\n",
              "    <tr>\n",
              "      <th>42881</th>\n",
              "      <td>2020-01-02-015905</td>\n",
              "      <td>He should have been taken out many years ago!,</td>\n",
              "      <td>President Donald Trump</td>\n",
              "      <td>[male]</td>\n",
              "      <td>[United States of America]</td>\n",
              "      <td>[business magnate, investor, restaurateur, non...</td>\n",
              "      <td>Q22686</td>\n",
              "      <td>2020-01-02 15:27:00</td>\n",
              "      <td>767</td>\n",
              "      <td>[http://timescolonist.com/iran-vows-revenge-fo...</td>\n",
              "      <td>[Daily Mirror, The Daily Telegraph, Evening St...</td>\n",
              "    </tr>\n",
              "    <tr>\n",
              "      <th>46502</th>\n",
              "      <td>2020-02-04-040831</td>\n",
              "      <td>If the world doesn't want to wake up and consi...</td>\n",
              "      <td>Tedros Adhanom Ghebreyesus</td>\n",
              "      <td>[male]</td>\n",
              "      <td>[Ethiopia]</td>\n",
              "      <td>[politician, microbiologist, malariologist]</td>\n",
              "      <td>Q16196017</td>\n",
              "      <td>2020-02-04 14:12:00</td>\n",
              "      <td>775</td>\n",
              "      <td>[https://www.wsbradio.com/lifestyles/atlanta-r...</td>\n",
              "      <td>[The Daily Telegraph]</td>\n",
              "    </tr>\n",
              "    <tr>\n",
              "      <th>51289</th>\n",
              "      <td>2020-01-02-061452</td>\n",
              "      <td>To the Iranian government: if you want more, y...</td>\n",
              "      <td>Lindsey Graham</td>\n",
              "      <td>[male]</td>\n",
              "      <td>[United States of America]</td>\n",
              "      <td>[politician, air force officer, lawyer, county...</td>\n",
              "      <td>Q22212</td>\n",
              "      <td>2020-01-02 00:00:00</td>\n",
              "      <td>770</td>\n",
              "      <td>[http://hpr2.org/post/us-kills-irans-most-powe...</td>\n",
              "      <td>[The Daily Telegraph, Evening Standard, Daily ...</td>\n",
              "    </tr>\n",
              "    <tr>\n",
              "      <th>59396</th>\n",
              "      <td>2020-02-03-066267</td>\n",
              "      <td>So we don't know all the results, but we know ...</td>\n",
              "      <td>Pete Buttigieg</td>\n",
              "      <td>[male]</td>\n",
              "      <td>[United States of America]</td>\n",
              "      <td>[politician, military officer, statesperson]</td>\n",
              "      <td>Q7173106</td>\n",
              "      <td>2020-02-03 00:00:00</td>\n",
              "      <td>724</td>\n",
              "      <td>[http://www.fox10phoenix.com/news/democrats-la...</td>\n",
              "      <td>[Evening Standard, The Daily Telegraph, Daily ...</td>\n",
              "    </tr>\n",
              "    <tr>\n",
              "      <th>63838</th>\n",
              "      <td>2020-02-02-051813</td>\n",
              "      <td>We have launched a people's war of prevention ...</td>\n",
              "      <td>Xi Jinping</td>\n",
              "      <td>[male]</td>\n",
              "      <td>[People's Republic of China]</td>\n",
              "      <td>[politician, engineer, chemical engineer, lawy...</td>\n",
              "      <td>Q15031</td>\n",
              "      <td>2020-02-02 16:23:07</td>\n",
              "      <td>789</td>\n",
              "      <td>[https://www.seattletimes.com/seattle-news/hea...</td>\n",
              "      <td>[The Daily Telegraph, Evening Standard, Daily ...</td>\n",
              "    </tr>\n",
              "    <tr>\n",
              "      <th>68791</th>\n",
              "      <td>2020-01-02-061734</td>\n",
              "      <td>tossed a stick of dynamite into a tinderbox,</td>\n",
              "      <td>Joe Biden</td>\n",
              "      <td>[male]</td>\n",
              "      <td>[United States of America]</td>\n",
              "      <td>[politician, lawyer, university teacher]</td>\n",
              "      <td>Q6279</td>\n",
              "      <td>2020-01-02 00:00:00</td>\n",
              "      <td>918</td>\n",
              "      <td>[http://wnyt.com/politics/democrats-call-us-ki...</td>\n",
              "      <td>[The Daily Telegraph, Evening Standard, Daily ...</td>\n",
              "    </tr>\n",
              "    <tr>\n",
              "      <th>78815</th>\n",
              "      <td>2020-01-05-037336</td>\n",
              "      <td>They're allowed to kill our people. They're al...</td>\n",
              "      <td>President Donald Trump</td>\n",
              "      <td>[male]</td>\n",
              "      <td>[United States of America]</td>\n",
              "      <td>[business magnate, investor, restaurateur, non...</td>\n",
              "      <td>Q22686</td>\n",
              "      <td>2020-01-05 00:00:00</td>\n",
              "      <td>886</td>\n",
              "      <td>[http://feeds.foxnews.com/~r/foxnews/politics/...</td>\n",
              "      <td>[The Daily Telegraph, Evening Standard, Daily ...</td>\n",
              "    </tr>\n",
              "    <tr>\n",
              "      <th>80238</th>\n",
              "      <td>2020-01-07-083106</td>\n",
              "      <td>`We do not seek escalation or war, but will de...</td>\n",
              "      <td>Mohammad Javad Zarif</td>\n",
              "      <td>[male]</td>\n",
              "      <td>[Iran]</td>\n",
              "      <td>[diplomat, politician]</td>\n",
              "      <td>Q10296812</td>\n",
              "      <td>2020-01-07 00:00:00</td>\n",
              "      <td>781</td>\n",
              "      <td>[http://feeds.foxnews.com/~r/foxnews/world/~3/...</td>\n",
              "      <td>[The Sun, Daily Express, Daily Mirror, The Dai...</td>\n",
              "    </tr>\n",
              "    <tr>\n",
              "      <th>81886</th>\n",
              "      <td>2020-03-13-021876</td>\n",
              "      <td>I don't take responsibility at all,</td>\n",
              "      <td>President Donald Trump</td>\n",
              "      <td>[male]</td>\n",
              "      <td>[United States of America]</td>\n",
              "      <td>[business magnate, investor, restaurateur, non...</td>\n",
              "      <td>Q22686</td>\n",
              "      <td>2020-03-13 00:00:00</td>\n",
              "      <td>717</td>\n",
              "      <td>[http://digital.vpr.net/post/president-trump-d...</td>\n",
              "      <td>[The Sun, The Daily Telegraph, Evening Standar...</td>\n",
              "    </tr>\n",
              "    <tr>\n",
              "      <th>91903</th>\n",
              "      <td>2020-01-06-030067</td>\n",
              "      <td>If the U.S. troops do not leave our region vol...</td>\n",
              "      <td>Ali Shamkhani</td>\n",
              "      <td>[male]</td>\n",
              "      <td>[Iran]</td>\n",
              "      <td>[military personnel, politician]</td>\n",
              "      <td>Q1391746</td>\n",
              "      <td>2020-01-06 21:08:20</td>\n",
              "      <td>765</td>\n",
              "      <td>[https://www.seattletimes.com/nation-world/nat...</td>\n",
              "      <td>[The Daily Telegraph, Evening Standard, Daily ...</td>\n",
              "    </tr>\n",
              "    <tr>\n",
              "      <th>92431</th>\n",
              "      <td>2020-02-03-088018</td>\n",
              "      <td>today marks the beginning of the end for Donal...</td>\n",
              "      <td>Bernie Sanders</td>\n",
              "      <td>[male]</td>\n",
              "      <td>[United States of America]</td>\n",
              "      <td>[politician, journalist, carpenter, university...</td>\n",
              "      <td>Q359442</td>\n",
              "      <td>2020-02-03 00:00:00</td>\n",
              "      <td>954</td>\n",
              "      <td>[http://www.fox10phoenix.com/news/bad-start-fo...</td>\n",
              "      <td>[The Daily Telegraph, Evening Standard, Daily ...</td>\n",
              "    </tr>\n",
              "    <tr>\n",
              "      <th>93211</th>\n",
              "      <td>2020-01-02-040705</td>\n",
              "      <td>on the brink of a major conflict across the Mi...</td>\n",
              "      <td>Joe Biden</td>\n",
              "      <td>[male]</td>\n",
              "      <td>[United States of America]</td>\n",
              "      <td>[politician, lawyer, university teacher]</td>\n",
              "      <td>Q6279</td>\n",
              "      <td>2020-01-02 00:00:00</td>\n",
              "      <td>783</td>\n",
              "      <td>[http://wnyt.com/politics/democrats-call-us-ki...</td>\n",
              "      <td>[The Daily Telegraph, Daily Express, Evening S...</td>\n",
              "    </tr>\n",
              "    <tr>\n",
              "      <th>104990</th>\n",
              "      <td>2020-03-22-038681</td>\n",
              "      <td>we cannot let the cure be worse than the probl...</td>\n",
              "      <td>President Donald Trump</td>\n",
              "      <td>[male]</td>\n",
              "      <td>[United States of America]</td>\n",
              "      <td>[business magnate, investor, restaurateur, non...</td>\n",
              "      <td>Q22686</td>\n",
              "      <td>2020-03-22 11:00:00</td>\n",
              "      <td>702</td>\n",
              "      <td>[https://www.duluthnewstribune.com/news/nation...</td>\n",
              "      <td>[The Sun, The Daily Telegraph, Daily Express]</td>\n",
              "    </tr>\n",
              "    <tr>\n",
              "      <th>106399</th>\n",
              "      <td>2020-01-26-042590</td>\n",
              "      <td>The Room Where It Happened: A White House memoir.</td>\n",
              "      <td>John Bolton</td>\n",
              "      <td>[male]</td>\n",
              "      <td>None</td>\n",
              "      <td>[film director]</td>\n",
              "      <td>Q24676423</td>\n",
              "      <td>2020-01-26 00:00:00</td>\n",
              "      <td>974</td>\n",
              "      <td>[http://www.kob.com/news/democrats-demand-bolt...</td>\n",
              "      <td>[Daily Express]</td>\n",
              "    </tr>\n",
              "    <tr>\n",
              "      <th>118283</th>\n",
              "      <td>2020-01-21-011547</td>\n",
              "      <td>By all indications, we are going on to New Ham...</td>\n",
              "      <td>Pete Buttigieg</td>\n",
              "      <td>[male]</td>\n",
              "      <td>[United States of America]</td>\n",
              "      <td>[politician, military officer, statesperson]</td>\n",
              "      <td>Q7173106</td>\n",
              "      <td>2020-01-21 16:30:26</td>\n",
              "      <td>885</td>\n",
              "      <td>[https://www.inforum.com/news/government-and-p...</td>\n",
              "      <td>[Evening Standard, The Daily Telegraph, Daily ...</td>\n",
              "    </tr>\n",
              "    <tr>\n",
              "      <th>122586</th>\n",
              "      <td>2020-01-02-068709</td>\n",
              "      <td>weirdos and misfits with odd skills.</td>\n",
              "      <td>Dominic Cummings</td>\n",
              "      <td>[male]</td>\n",
              "      <td>[United Kingdom]</td>\n",
              "      <td>[political adviser]</td>\n",
              "      <td>Q24572712</td>\n",
              "      <td>2020-01-02 00:00:00</td>\n",
              "      <td>773</td>\n",
              "      <td>[http://uk.investing.com/news/economy/wanted-w...</td>\n",
              "      <td>[The Daily Telegraph, Evening Standard, Daily ...</td>\n",
              "    </tr>\n",
              "    <tr>\n",
              "      <th>123495</th>\n",
              "      <td>2020-01-31-079605</td>\n",
              "      <td>Terrorists seek to divide us and to destroy ou...</td>\n",
              "      <td>Sadiq Khan</td>\n",
              "      <td>[male]</td>\n",
              "      <td>[United Kingdom]</td>\n",
              "      <td>[politician, lawyer, solicitor]</td>\n",
              "      <td>Q334155</td>\n",
              "      <td>2020-01-31 00:00:00</td>\n",
              "      <td>914</td>\n",
              "      <td>[http://www.canindia.com/man-shot-dead-after-l...</td>\n",
              "      <td>[Daily Mirror, The Sun, Daily Mail, Evening St...</td>\n",
              "    </tr>\n",
              "    <tr>\n",
              "      <th>130170</th>\n",
              "      <td>2020-03-23-054028</td>\n",
              "      <td>That's all -- these are the only reasons you s...</td>\n",
              "      <td>Boris Johnson</td>\n",
              "      <td>[male]</td>\n",
              "      <td>[United States of America, United Kingdom]</td>\n",
              "      <td>[journalist, politician, editor, writer, essay...</td>\n",
              "      <td>Q180589</td>\n",
              "      <td>2020-03-23 17:01:37</td>\n",
              "      <td>907</td>\n",
              "      <td>[http://www.theglobeandmail.com/world/article-...</td>\n",
              "      <td>[Evening Standard, The Daily Telegraph, The Su...</td>\n",
              "    </tr>\n",
              "    <tr>\n",
              "      <th>145238</th>\n",
              "      <td>2020-01-14-009869</td>\n",
              "      <td>bung a bob for a Big Ben bong.</td>\n",
              "      <td>Boris Johnson</td>\n",
              "      <td>[male]</td>\n",
              "      <td>[United States of America, United Kingdom]</td>\n",
              "      <td>[journalist, politician, editor, writer, essay...</td>\n",
              "      <td>Q180589</td>\n",
              "      <td>2020-01-14 00:00:00</td>\n",
              "      <td>771</td>\n",
              "      <td>[http://www.foxnews.com/world/boris-johnson-ve...</td>\n",
              "      <td>[The Daily Telegraph, Evening Standard, Daily ...</td>\n",
              "    </tr>\n",
              "    <tr>\n",
              "      <th>148865</th>\n",
              "      <td>2020-01-26-016934</td>\n",
              "      <td>I NEVER told John Bolton that the aid to Ukrai...</td>\n",
              "      <td>President Donald Trump</td>\n",
              "      <td>[male]</td>\n",
              "      <td>[United States of America]</td>\n",
              "      <td>[business magnate, investor, restaurateur, non...</td>\n",
              "      <td>Q22686</td>\n",
              "      <td>2020-01-26 00:00:00</td>\n",
              "      <td>922</td>\n",
              "      <td>[http://hppr.org/post/democrats-renew-demand-b...</td>\n",
              "      <td>[The Daily Telegraph, Evening Standard, Daily ...</td>\n",
              "    </tr>\n",
              "  </tbody>\n",
              "</table>\n",
              "</div>"
            ],
            "text/plain": [
              "                  quoteID  ...                                         newspapers\n",
              "11465   2020-01-07-005600  ...          [The Times, The Daily Telegraph, The Sun]\n",
              "13784   2020-03-11-021146  ...  [Evening Standard, Daily Record, The Daily Tel...\n",
              "25192   2020-02-07-059825  ...  [Evening Standard, The Daily Telegraph, City A...\n",
              "32278   2020-02-04-073676  ...                [Daily Star, Daily Mirror, The Sun]\n",
              "42881   2020-01-02-015905  ...  [Daily Mirror, The Daily Telegraph, Evening St...\n",
              "46502   2020-02-04-040831  ...                              [The Daily Telegraph]\n",
              "51289   2020-01-02-061452  ...  [The Daily Telegraph, Evening Standard, Daily ...\n",
              "59396   2020-02-03-066267  ...  [Evening Standard, The Daily Telegraph, Daily ...\n",
              "63838   2020-02-02-051813  ...  [The Daily Telegraph, Evening Standard, Daily ...\n",
              "68791   2020-01-02-061734  ...  [The Daily Telegraph, Evening Standard, Daily ...\n",
              "78815   2020-01-05-037336  ...  [The Daily Telegraph, Evening Standard, Daily ...\n",
              "80238   2020-01-07-083106  ...  [The Sun, Daily Express, Daily Mirror, The Dai...\n",
              "81886   2020-03-13-021876  ...  [The Sun, The Daily Telegraph, Evening Standar...\n",
              "91903   2020-01-06-030067  ...  [The Daily Telegraph, Evening Standard, Daily ...\n",
              "92431   2020-02-03-088018  ...  [The Daily Telegraph, Evening Standard, Daily ...\n",
              "93211   2020-01-02-040705  ...  [The Daily Telegraph, Daily Express, Evening S...\n",
              "104990  2020-03-22-038681  ...      [The Sun, The Daily Telegraph, Daily Express]\n",
              "106399  2020-01-26-042590  ...                                    [Daily Express]\n",
              "118283  2020-01-21-011547  ...  [Evening Standard, The Daily Telegraph, Daily ...\n",
              "122586  2020-01-02-068709  ...  [The Daily Telegraph, Evening Standard, Daily ...\n",
              "123495  2020-01-31-079605  ...  [Daily Mirror, The Sun, Daily Mail, Evening St...\n",
              "130170  2020-03-23-054028  ...  [Evening Standard, The Daily Telegraph, The Su...\n",
              "145238  2020-01-14-009869  ...  [The Daily Telegraph, Evening Standard, Daily ...\n",
              "148865  2020-01-26-016934  ...  [The Daily Telegraph, Evening Standard, Daily ...\n",
              "\n",
              "[24 rows x 11 columns]"
            ]
          },
          "metadata": {},
          "execution_count": 19
        }
      ]
    },
    {
      "cell_type": "markdown",
      "metadata": {
        "id": "J1jJIjcb7L4n"
      },
      "source": [
        "Seeing the distribution regarding the number of occurrences of quotes from male and female speakers, we can clearly see a stronger presence of male speakers in the newspapers. This supports the general hypothesis of a domination by men for quotes. This raises further questions for our analysis concerning: The evolution of this domination throughout the years and depending on different countries, the themes aborded by different genders or the representation of gender minorities."
      ]
    },
    {
      "cell_type": "markdown",
      "metadata": {
        "id": "6Z6wexAfu2CR"
      },
      "source": [
        "We will look at one last thing. How many quotes are originated from men and female **depending on the newspaper** (for now just our three newspapers)? This will be important for our further analysis."
      ]
    },
    {
      "cell_type": "code",
      "metadata": {
        "colab": {
          "base_uri": "https://localhost:8080/",
          "height": 304
        },
        "id": "hVs7OYoeu2CR",
        "outputId": "a7f50970-b6f5-417f-a557-4202346e9beb"
      },
      "source": [
        "#mask for each newspaper\n",
        "mask_sun = df_2020.newspapers.apply(lambda x: 'The Sun' in x)\n",
        "mask_guardian = df_2020.newspapers.apply(lambda x: 'The Guardian' in x)\n",
        "mask_times = df_2020.newspapers.apply(lambda x: 'The Times' in x)\n",
        "\n",
        "# we plot the distribution for each of them\n",
        "fig, axs = plt.subplots(1,3, sharey='row', figsize = (40,10))\n",
        "\n",
        "sns.barplot(x=convert(df_2020[mask_sun]['gender']).value_counts().index,\n",
        "        y=convert(df_2020[mask_sun]['gender']).value_counts().values, ax = axs[0])\n",
        "sns.barplot(x = convert(df_2020[mask_guardian]['gender']).value_counts().index,\n",
        "        y=convert(df_2020[mask_guardian]['gender']).value_counts().values, ax = axs[1])\n",
        "sns.barplot(x=convert(df_2020[mask_times]['gender']).value_counts().index,\n",
        "        y=convert(df_2020[mask_times]['gender']).value_counts().values, ax = axs[2])\n",
        "\n",
        "axs[0].set_title(\"The Sun\", size = 14)\n",
        "axs[1].set_title(\"The Guardian\", size = 14)\n",
        "axs[2].set_title(\"The Times\", size = 14)\n",
        "plt.tight_layout()"
      ],
      "execution_count": 20,
      "outputs": [
        {
          "output_type": "display_data",
          "data": {
            "image/png": "[encoded data removed]",
            "text/plain": [
              "<Figure size 2880x720 with 3 Axes>"
            ]
          },
          "metadata": {
            "needs_background": "light"
          }
        }
      ]
    },
    {
      "cell_type": "markdown",
      "metadata": {
        "id": "OQ9k08QZx6C3"
      },
      "source": [
        "We can see that all three of newspapers have more quotes (twice as much) written by men than by women. We can also see that The Sun is the most cited newspaper, and The Times seems to include very few gender minorities."
      ]
    }
  ]
}
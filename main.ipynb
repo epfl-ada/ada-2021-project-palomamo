{
 "cells": [
  {
   "cell_type": "markdown",
   "metadata": {
    "colab_type": "text",
    "id": "view-in-github"
   },
   "source": [
    "<a href=\"https://colab.research.google.com/github/morwald/ada_project/blob/main/main.ipynb\" target=\"_parent\"><img src=\"https://colab.research.google.com/assets/colab-badge.svg\" alt=\"Open In Colab\"/></a>"
   ]
  },
  {
   "cell_type": "markdown",
   "metadata": {
    "id": "7txCTyrTM0qJ"
   },
   "source": [
    "# Analysis of gender distribution in UK's leading newspapers"
   ]
  },
  {
   "cell_type": "markdown",
   "metadata": {
    "id": "wEzY5GJ5M0qO"
   },
   "source": [
    "This notebook serves as a first presentation of our project for milestone 2. It is structured and written in such  a way that we can directly continue on it for milestone 3."
   ]
  },
  {
   "cell_type": "markdown",
   "metadata": {
    "id": "ucef3_UkM0qP"
   },
   "source": [
    "## Content\n",
    "1. [Setup](#setup)   \n",
    "    1.1 [Imports](#imports)  \n",
    "    1.2 [Data paths](#data_paths)   \n",
    "    1.3 [Utility functions](#utility_functions)   \n",
    "2. [Data preparation and cleaning](#data_prep)    \n",
    "    2.1 [Columns and rows selection](#cols_rows_select)  \n",
    "    2.2 [News paper selection](#newspaper_select)\n",
    "3. [Additional data set: speaker attributes](#additional_dataset)    \n",
    "    3.1 [Explore attributes](#explore_attr)  \n",
    "    3.2 [Merge speaker attributes](#merge_speaker_attr)    \n",
    "    3.3 [Save merged data as pickle](#save_pickle)                \n",
    "4. [Research questions](#research_question)   \n",
    "    4.1 [Load merged data](#load_pickle)   \n",
    "    4.2 [Sanity_check](#sanity_check)  \n",
    "    4.3 [Visualisation of genders](#visual_genders)  "
   ]
  },
  {
   "cell_type": "markdown",
   "metadata": {
    "id": "owgTJarZM0qP",
    "tags": []
   },
   "source": [
    "## 1. Setup\n",
    "<a id=\"setup\"></a>"
   ]
  },
  {
   "cell_type": "markdown",
   "metadata": {
    "id": "5yqsvZuAM0qQ"
   },
   "source": [
    "### 1.1 Imports\n",
    "<a id=\"imports\"></a>"
   ]
  },
  {
   "cell_type": "code",
   "execution_count": 1,
   "metadata": {
    "id": "GFoAWQprM0qQ"
   },
   "outputs": [],
   "source": [
    "import pandas as pd\n",
    "import numpy as np\n",
    "import seaborn as sns\n",
    "import matplotlib.pyplot as plt\n",
    "import json\n",
    "import bz2"
   ]
  },
  {
   "cell_type": "markdown",
   "metadata": {
    "id": "KKWfSxjgM0qR"
   },
   "source": [
    "### 1.2 Data paths\n",
    "<a id=\"data_paths\"></a>\n",
    "\n",
    "**Important**: When using Google Colab the ```use_colab``` variable has to be set to true. This way the files can be accessed directly from our shared drive. If you wan't to work locally the raw and filtered data have to be stored locally in the root folder under _Quotebank_ and _Filtered data_. The finally merged and cleaned data will be stored in _Merged data_ in a pickle format. To execute section the [Data preparation and cleaning](#data_prep) the raw data in the folder _Quotebank_ is needed but this section has to be executed only once.\n",
    "\n",
    "You can download the raw data here: [Quotebank](https://zenodo.org/record/4277311#.YYzk6_oo9hE)\n",
    "\n",
    "The addtional dataset can be found here: [Speakers](https://drive.google.com/drive/folders/1VAFHacZFh0oxSxilgNByb1nlNsqznUf0)"
   ]
  },
  {
   "cell_type": "code",
   "execution_count": 2,
   "metadata": {
    "id": "XgjGqxuSnkx2"
   },
   "outputs": [],
   "source": [
    "# Comment the files which aren't stored locally\n",
    "# In Colab everything should be available\n",
    "RAW_QUOTES_2020_PATH = 'Quotebank/quotes-2020.json.bz2' \n",
    "FILTERED_QUOTES_2020_PATH = 'Filtered data/quotes-2020-gb.json.bz2'\n",
    "QUOTES_2020_PATH = 'Merged data/quotes-2020-gb.pkl'\n",
    "\n",
    "#RAW_QUOTES_2019_PATH = 'Quotebank/quotes-2019.json.bz2' \n",
    "FILTERED_QUOTES_2019_PATH = 'Filtered data/quotes-2019-gb.json.bz2'\n",
    "QUOTES_2019_PATH = 'Merged data/quotes-2019-gb.pkl' \n",
    "\n",
    "#RAW_QUOTES_2018_PATH = 'Quotebank/quotes-2018.json.bz2' \n",
    "FILTERED_QUOTES_2018_PATH = 'Filtered data/quotes-2018-gb.json.bz2'\n",
    "QUOTES_2018_PATH = 'Merged data/quotes-2018-gb.pkl' \n",
    "\n",
    "#RAW_QUOTES_2017_PATH = 'Quotebank/quotes-2017.json.bz2' \n",
    "FILTERED_QUOTES_2017_PATH = 'Filtered data/quotes-2017-gb.json.bz2' \n",
    "QUOTES_2017_PATH = 'Merged data/quotes-2017-gb.pkl'\n",
    "\n",
    "#RAW_QUOTES_2016_PATH = 'raw_data/quotes-2016.json.bz2' \n",
    "FILTERED_QUOTES_2016_PATH = 'Filtered data/quotes-2016-gb.json.bz2'\n",
    "QUOTES_2016_PATH = 'Merged data/quotes-2016-gb.pkl'\n",
    "\n",
    "#RAW_QUOTES_2015_PATH = 'raw_data/quotes-2015.json.bz2' \n",
    "FILTERED_QUOTES_2015_PATH = 'Filtered data/quotes-2015-gb.json.bz2'\n",
    "QUOTES_2015_PATH = 'Merged data/quotes-2015-gb.pkl'\n",
    "\n",
    "# Additional data set\n",
    "SPEAKER_ATTRIBUTES_PATH = 'Project datasets/speaker_attributes.parquet'\n",
    "LABELS_WIKIDATA_PATH = 'Project datasets/wikidata_labels_descriptions_quotebank.csv.bz2'"
   ]
  },
  {
   "cell_type": "code",
   "execution_count": 3,
   "metadata": {
    "id": "hzfP-W7znkx3"
   },
   "outputs": [],
   "source": [
    "# Change to true if you want to use google colab\n",
    "use_colab = True"
   ]
  },
  {
   "cell_type": "markdown",
   "metadata": {
    "id": "qefk9v2tSmnT"
   },
   "source": [
    "We mount the drive and go to the our shared directory if necessary."
   ]
  },
  {
   "cell_type": "code",
   "execution_count": 4,
   "metadata": {
    "colab": {
     "base_uri": "https://localhost:8080/"
    },
    "id": "TYbQA-9aNUeC",
    "outputId": "e2ccdf55-6c66-4ca6-88cc-137a3a817354"
   },
   "outputs": [
    {
     "name": "stdout",
     "output_type": "stream",
     "text": [
      "Mounted at /content/drive\n",
      "/content/drive/Shareddrives/ADA-project\n"
     ]
    }
   ],
   "source": [
    "# Import with EPFL google drive!\n",
    "if use_colab:\n",
    "    from google.colab import drive\n",
    "    drive.mount('/content/drive', force_remount=True)\n",
    "    \n",
    "    %cd /content/drive/Shareddrives/ADA-project"
   ]
  },
  {
   "cell_type": "markdown",
   "metadata": {
    "id": "02ADHNIxSvDl"
   },
   "source": [
    "We have to install an older version of pandas in order to be able to use the 'chunksize' feature in colab."
   ]
  },
  {
   "cell_type": "code",
   "execution_count": 5,
   "metadata": {
    "colab": {
     "base_uri": "https://localhost:8080/"
    },
    "id": "24i5C-GlRwGW",
    "outputId": "d8162dd7-d2d7-4e07-a27d-450d42438324"
   },
   "outputs": [
    {
     "name": "stdout",
     "output_type": "stream",
     "text": [
      "Requirement already satisfied: pandas==1.0.5 in /usr/local/lib/python3.7/dist-packages (1.0.5)\n",
      "Requirement already satisfied: pytz>=2017.2 in /usr/local/lib/python3.7/dist-packages (from pandas==1.0.5) (2018.9)\n",
      "Requirement already satisfied: python-dateutil>=2.6.1 in /usr/local/lib/python3.7/dist-packages (from pandas==1.0.5) (2.8.2)\n",
      "Requirement already satisfied: numpy>=1.13.3 in /usr/local/lib/python3.7/dist-packages (from pandas==1.0.5) (1.19.5)\n",
      "Requirement already satisfied: six>=1.5 in /usr/local/lib/python3.7/dist-packages (from python-dateutil>=2.6.1->pandas==1.0.5) (1.15.0)\n",
      "1.0.5\n"
     ]
    }
   ],
   "source": [
    "if use_colab:\n",
    "    !pip install pandas==1.0.5\n",
    "\n",
    "    # Reimport\n",
    "    import pandas as pd\n",
    "    print(pd.__version__)"
   ]
  },
  {
   "cell_type": "markdown",
   "metadata": {
    "id": "KymkAGpdM0qT"
   },
   "source": [
    "### 1.3 Utility functions\n",
    "<a id=\"utility_functions\"></a>"
   ]
  },
  {
   "cell_type": "code",
   "execution_count": 6,
   "metadata": {
    "id": "tAN-njz8SJ2z"
   },
   "outputs": [],
   "source": [
    "def load_mini_version_of_data(path_to_file, chunksize, nb_chunks):\n",
    "    \"\"\"\n",
    "    Returns a mini dataframe from of a bz2 compressed json file.\n",
    "    :path_to_file   file path as string\n",
    "    :chunksize      size to iterate\n",
    "    :nb_chunks      how many chunks\n",
    "    :return         pandas.DataFrame with chunksize*nb_chunks of rows\n",
    "    \"\"\"\n",
    "    \n",
    "    curr_chunk = 0\n",
    "    chunk_list = []\n",
    "    \n",
    "    if use_colab:\n",
    "          for chunk in pd.read_json(path_to_file, lines=True, compression='bz2', chunksize=chunksize):\n",
    "              if curr_chunk == nb_chunks:\n",
    "                  break\n",
    "              curr_chunk = curr_chunk + 1\n",
    "              chunk_list.append(chunk)\n",
    "    else:\n",
    "      with pd.read_json(path_to_file, lines=True, compression='bz2', chunksize=chunksize) as df_reader:\n",
    "          for chunk in df_reader:\n",
    "              if curr_chunk == nb_chunks:\n",
    "                  break\n",
    "          \n",
    "              curr_chunk = curr_chunk + 1\n",
    "              chunk_list.append(chunk)\n",
    "    \n",
    "    df = pd.concat(chunk_list)\n",
    "    return df"
   ]
  },
  {
   "cell_type": "markdown",
   "metadata": {
    "id": "e3X94ETfM0qU",
    "tags": []
   },
   "source": [
    "## 2. Data preparation and cleaning\n",
    "<a id=\"data_prep\"></a>\n",
    "\n",
    "The quotebank dataset is too large to directly access it with a dataframe. This section provides all the steps to filter the data we need for our analysis. The filtering and preparation is done based on our research question. Please check the README for details. Further explanations will be given under [Research question](#research_question).\n",
    "\n",
    "The data preperation can be done on a per year basis of the Quotebank data set."
   ]
  },
  {
   "cell_type": "markdown",
   "metadata": {
    "id": "0aBizKy0M0qV"
   },
   "source": [
    "### 2.1 Column and row selection\n",
    "<a id=\"cols_rows_select\"></a>"
   ]
  },
  {
   "cell_type": "code",
   "execution_count": 7,
   "metadata": {
    "colab": {
     "base_uri": "https://localhost:8080/",
     "height": 632
    },
    "id": "DDiGK7IoM0qV",
    "outputId": "14ca1848-f3a7-4794-da38-e29a60337ac4"
   },
   "outputs": [
    {
     "data": {
      "text/html": [
       "<div>\n",
       "<style scoped>\n",
       "    .dataframe tbody tr th:only-of-type {\n",
       "        vertical-align: middle;\n",
       "    }\n",
       "\n",
       "    .dataframe tbody tr th {\n",
       "        vertical-align: top;\n",
       "    }\n",
       "\n",
       "    .dataframe thead th {\n",
       "        text-align: right;\n",
       "    }\n",
       "</style>\n",
       "<table border=\"1\" class=\"dataframe\">\n",
       "  <thead>\n",
       "    <tr style=\"text-align: right;\">\n",
       "      <th></th>\n",
       "      <th>quoteID</th>\n",
       "      <th>quotation</th>\n",
       "      <th>speaker</th>\n",
       "      <th>qids</th>\n",
       "      <th>date</th>\n",
       "      <th>numOccurrences</th>\n",
       "      <th>probas</th>\n",
       "      <th>urls</th>\n",
       "      <th>phase</th>\n",
       "    </tr>\n",
       "  </thead>\n",
       "  <tbody>\n",
       "    <tr>\n",
       "      <th>0</th>\n",
       "      <td>2020-01-28-000082</td>\n",
       "      <td>[ D ] espite the efforts of the partners to cr...</td>\n",
       "      <td>None</td>\n",
       "      <td>[]</td>\n",
       "      <td>2020-01-28 08:04:05</td>\n",
       "      <td>1</td>\n",
       "      <td>[[None, 0.7272], [Prime Minister Netanyahu, 0....</td>\n",
       "      <td>[http://israelnationalnews.com/News/News.aspx/...</td>\n",
       "      <td>E</td>\n",
       "    </tr>\n",
       "    <tr>\n",
       "      <th>1</th>\n",
       "      <td>2020-01-16-000088</td>\n",
       "      <td>[ Department of Homeland Security ] was livid ...</td>\n",
       "      <td>Sue Myrick</td>\n",
       "      <td>[Q367796]</td>\n",
       "      <td>2020-01-16 12:00:13</td>\n",
       "      <td>1</td>\n",
       "      <td>[[Sue Myrick, 0.8867], [None, 0.0992], [Ron Wy...</td>\n",
       "      <td>[http://thehill.com/opinion/international/4782...</td>\n",
       "      <td>E</td>\n",
       "    </tr>\n",
       "    <tr>\n",
       "      <th>2</th>\n",
       "      <td>2020-02-10-000142</td>\n",
       "      <td>... He (Madhav) also disclosed that the illega...</td>\n",
       "      <td>None</td>\n",
       "      <td>[]</td>\n",
       "      <td>2020-02-10 23:45:54</td>\n",
       "      <td>1</td>\n",
       "      <td>[[None, 0.8926], [Prakash Rai, 0.1074]]</td>\n",
       "      <td>[https://indianexpress.com/article/business/ec...</td>\n",
       "      <td>E</td>\n",
       "    </tr>\n",
       "    <tr>\n",
       "      <th>3</th>\n",
       "      <td>2020-02-15-000053</td>\n",
       "      <td>... [ I ] f it gets to the floor,</td>\n",
       "      <td>None</td>\n",
       "      <td>[]</td>\n",
       "      <td>2020-02-15 14:12:51</td>\n",
       "      <td>2</td>\n",
       "      <td>[[None, 0.581], [Andy Harris, 0.4191]]</td>\n",
       "      <td>[https://patriotpost.us/opinion/68622-trump-bu...</td>\n",
       "      <td>E</td>\n",
       "    </tr>\n",
       "    <tr>\n",
       "      <th>4</th>\n",
       "      <td>2020-01-24-000168</td>\n",
       "      <td>[ I met them ] when they just turned 4 and 7. ...</td>\n",
       "      <td>Meghan King Edmonds</td>\n",
       "      <td>[Q20684375]</td>\n",
       "      <td>2020-01-24 20:37:09</td>\n",
       "      <td>4</td>\n",
       "      <td>[[Meghan King Edmonds, 0.5446], [None, 0.2705]...</td>\n",
       "      <td>[https://people.com/parents/meghan-king-edmond...</td>\n",
       "      <td>E</td>\n",
       "    </tr>\n",
       "  </tbody>\n",
       "</table>\n",
       "</div>"
      ],
      "text/plain": [
       "             quoteID  ... phase\n",
       "0  2020-01-28-000082  ...     E\n",
       "1  2020-01-16-000088  ...     E\n",
       "2  2020-02-10-000142  ...     E\n",
       "3  2020-02-15-000053  ...     E\n",
       "4  2020-01-24-000168  ...     E\n",
       "\n",
       "[5 rows x 9 columns]"
      ]
     },
     "execution_count": 7,
     "metadata": {},
     "output_type": "execute_result"
    }
   ],
   "source": [
    "# A quick look at a small subset of the data of the selected year\n",
    "year_sample_df = load_mini_version_of_data(RAW_QUOTES_2020_PATH, 10000, 10)\n",
    "year_sample_df.head()"
   ]
  },
  {
   "cell_type": "code",
   "execution_count": 8,
   "metadata": {
    "colab": {
     "base_uri": "https://localhost:8080/"
    },
    "id": "hBzK83L9M0qW",
    "outputId": "91dc5a12-7e73-449c-8bb4-58b344bd6331",
    "scrolled": true
   },
   "outputs": [
    {
     "data": {
      "text/plain": [
       "34316"
      ]
     },
     "execution_count": 8,
     "metadata": {},
     "output_type": "execute_result"
    }
   ],
   "source": [
    "# How many quotations don't have an assigned speaker?\n",
    "sum(year_sample_df['speaker'] == 'None')"
   ]
  },
  {
   "cell_type": "markdown",
   "metadata": {
    "id": "DH6Hbvv_M0qW"
   },
   "source": [
    "The cell above shows that there around 1/3 of the quotations are 'None' speakers. As we want to make a gender based study will will not need these rows. This eliminitation will drasticly reduce the size of the data we have to analyse.\n",
    "\n",
    "Furthermore the colums which aren't of interest for our study are:\\\n",
    "**phase**: We don't care. \\\n",
    "**probas**: We will select the speaker with highest probablity (note that 'None' speakers are already neglected)."
   ]
  },
  {
   "cell_type": "markdown",
   "metadata": {
    "id": "Mw_WR9hCM0qX"
   },
   "source": [
    "### 2.2 Newspaper selection\n",
    "<a id=\"nespaper_select\"></a>\n",
    "In a first analysis we will pick quotations of **3** of the top 12 UKs newspapers with the most reach both in prints and digital reach. See [this](https://www.statista.com/statistics/246077/reach-of-selected-national-newspapers-in-the-uk/) statistic for more details.\n",
    "We create a dataframe with their url and name."
   ]
  },
  {
   "cell_type": "code",
   "execution_count": 9,
   "metadata": {
    "colab": {
     "base_uri": "https://localhost:8080/",
     "height": 142
    },
    "id": "MqiT955RM0qX",
    "outputId": "d450ec9d-92bd-4f39-873a-3dfc2dddeae5"
   },
   "outputs": [
    {
     "data": {
      "text/html": [
       "<div>\n",
       "<style scoped>\n",
       "    .dataframe tbody tr th:only-of-type {\n",
       "        vertical-align: middle;\n",
       "    }\n",
       "\n",
       "    .dataframe tbody tr th {\n",
       "        vertical-align: top;\n",
       "    }\n",
       "\n",
       "    .dataframe thead th {\n",
       "        text-align: right;\n",
       "    }\n",
       "</style>\n",
       "<table border=\"1\" class=\"dataframe\">\n",
       "  <thead>\n",
       "    <tr style=\"text-align: right;\">\n",
       "      <th></th>\n",
       "      <th>name</th>\n",
       "      <th>website_url</th>\n",
       "    </tr>\n",
       "  </thead>\n",
       "  <tbody>\n",
       "    <tr>\n",
       "      <th>0</th>\n",
       "      <td>The Sun</td>\n",
       "      <td>thesun.co.uk</td>\n",
       "    </tr>\n",
       "    <tr>\n",
       "      <th>1</th>\n",
       "      <td>The Guardian</td>\n",
       "      <td>theguardian.com</td>\n",
       "    </tr>\n",
       "    <tr>\n",
       "      <th>2</th>\n",
       "      <td>The Times</td>\n",
       "      <td>thetimes.co.uk</td>\n",
       "    </tr>\n",
       "  </tbody>\n",
       "</table>\n",
       "</div>"
      ],
      "text/plain": [
       "           name      website_url\n",
       "0       The Sun     thesun.co.uk\n",
       "1  The Guardian  theguardian.com\n",
       "2     The Times   thetimes.co.uk"
      ]
     },
     "execution_count": 9,
     "metadata": {},
     "output_type": "execute_result"
    }
   ],
   "source": [
    "# List of selected newspapers and their urls\n",
    "newspapers_list = [['The Sun', 'thesun.co.uk'], \n",
    "                  ['The Guardian', 'theguardian.com'],\n",
    "                  ['The Times', 'thetimes.co.uk']]\n",
    "\n",
    "# Dataframe\n",
    "newspapers_df = pd.DataFrame(newspapers_list, columns = ['name', 'website_url'])\n",
    "newspapers_df.head()"
   ]
  },
  {
   "cell_type": "markdown",
   "metadata": {
    "id": "7PSbHGGtM0qX"
   },
   "source": [
    "### 2.3 Filtering raw data\n",
    "<a id=\"filter_raw_data\"></a>\n",
    "\n",
    "Following the reasoning above we can extract the infos needed from the compressed file of one year of quotations. Let's create a helper function to check the urls of a quotation:"
   ]
  },
  {
   "cell_type": "code",
   "execution_count": 10,
   "metadata": {
    "id": "902eh0g-cu78"
   },
   "outputs": [],
   "source": [
    "def filter_data(path_in, path_out):\n",
    "  # Loop through all instances of json file and extract the desired rows\n",
    "  # Save the file in the filtered data directory\n",
    "  with bz2.open(path_in, 'rb') as s_file:\n",
    "      with bz2.open(path_out, 'wb') as d_file:\n",
    "          for instance in s_file:\n",
    "              instance = json.loads(instance) # loading a sample\n",
    "              if instance['speaker'] == 'None': #if the speaker is None we don't keep it and go to next iteration\n",
    "                  continue\n",
    "              urls = instance['urls'] # extracting list of links\n",
    "              newspapers = []\n",
    "              for url in urls:\n",
    "                  for name, website_url in zip(newspapers_df['name'],newspapers_df['website_url']): \n",
    "                      if website_url in url: #if the url of the current quote contains one of the newspapers' url\n",
    "                          if name not in newspapers: # to not have any dublicates \n",
    "                              newspapers.append(name)\n",
    "                  instance['newspapers'] = newspapers # updating the sample with domain name\n",
    "              # We remove unnecessary columns\n",
    "              instance.pop('probas')\n",
    "              instance.pop('phase')\n",
    "              # If there is a newspaper that we want to keep we write the instance to the output file\n",
    "              if newspapers: \n",
    "                d_file.write((json.dumps(instance)+'\\n').encode('utf-8')) # writing in the new file\n",
    "                "
   ]
  },
  {
   "cell_type": "markdown",
   "metadata": {
    "id": "hOK3Gp_HwHI1"
   },
   "source": [
    "We execute this for 2020 data (execute only once)."
   ]
  },
  {
   "cell_type": "code",
   "execution_count": null,
   "metadata": {
    "id": "iPJda6mObZja"
   },
   "outputs": [],
   "source": [
    "#filter_data(RAW_QUOTES_2020_PATH,FILTERED_QUOTES_2020_PATH)"
   ]
  },
  {
   "cell_type": "code",
   "execution_count": 12,
   "metadata": {
    "colab": {
     "base_uri": "https://localhost:8080/",
     "height": 493
    },
    "id": "APW1C9ivsu-G",
    "outputId": "9c3e4955-e5bc-461d-d824-6f84a6b00e3b"
   },
   "outputs": [
    {
     "data": {
      "text/html": [
       "<div>\n",
       "<style scoped>\n",
       "    .dataframe tbody tr th:only-of-type {\n",
       "        vertical-align: middle;\n",
       "    }\n",
       "\n",
       "    .dataframe tbody tr th {\n",
       "        vertical-align: top;\n",
       "    }\n",
       "\n",
       "    .dataframe thead th {\n",
       "        text-align: right;\n",
       "    }\n",
       "</style>\n",
       "<table border=\"1\" class=\"dataframe\">\n",
       "  <thead>\n",
       "    <tr style=\"text-align: right;\">\n",
       "      <th></th>\n",
       "      <th>quoteID</th>\n",
       "      <th>quotation</th>\n",
       "      <th>speaker</th>\n",
       "      <th>qids</th>\n",
       "      <th>date</th>\n",
       "      <th>numOccurrences</th>\n",
       "      <th>urls</th>\n",
       "      <th>newspapers</th>\n",
       "    </tr>\n",
       "  </thead>\n",
       "  <tbody>\n",
       "    <tr>\n",
       "      <th>0</th>\n",
       "      <td>2020-01-31-008580</td>\n",
       "      <td>As you reach or have reached the apex of your ...</td>\n",
       "      <td>Keyon Dooling</td>\n",
       "      <td>[Q304349]</td>\n",
       "      <td>2020-01-31 19:07:55</td>\n",
       "      <td>1</td>\n",
       "      <td>[https://www.theguardian.com/sport/2020/jan/31...</td>\n",
       "      <td>[The Guardian]</td>\n",
       "    </tr>\n",
       "    <tr>\n",
       "      <th>1</th>\n",
       "      <td>2020-01-20-006469</td>\n",
       "      <td>At the same time we want to remain friends wit...</td>\n",
       "      <td>Tim Martin</td>\n",
       "      <td>[Q20670776, Q20713880, Q7803899, Q7803900]</td>\n",
       "      <td>2020-01-20 09:08:24</td>\n",
       "      <td>4</td>\n",
       "      <td>[https://www.dailystar.co.uk/real-life/wethers...</td>\n",
       "      <td>[The Sun]</td>\n",
       "    </tr>\n",
       "    <tr>\n",
       "      <th>2</th>\n",
       "      <td>2020-04-03-006933</td>\n",
       "      <td>Been home-schooling a 6-year-old and 8-year-ol...</td>\n",
       "      <td>Shonda Rhimes</td>\n",
       "      <td>[Q242329]</td>\n",
       "      <td>2020-04-03 16:00:00</td>\n",
       "      <td>1</td>\n",
       "      <td>[http://www.thetimes.co.uk/edition/magazine/ca...</td>\n",
       "      <td>[The Times]</td>\n",
       "    </tr>\n",
       "    <tr>\n",
       "      <th>3</th>\n",
       "      <td>2020-04-15-018814</td>\n",
       "      <td>I am now in agreement that we should move forw...</td>\n",
       "      <td>David Boies</td>\n",
       "      <td>[Q5231515]</td>\n",
       "      <td>2020-04-15 15:46:38</td>\n",
       "      <td>1</td>\n",
       "      <td>[https://www.thesun.co.uk/news/11403669/jeffre...</td>\n",
       "      <td>[The Sun]</td>\n",
       "    </tr>\n",
       "    <tr>\n",
       "      <th>4</th>\n",
       "      <td>2020-02-16-014286</td>\n",
       "      <td>I don't want to make a career out of [ remakin...</td>\n",
       "      <td>Ramiro Gomez</td>\n",
       "      <td>[Q30693403, Q43130877]</td>\n",
       "      <td>2020-02-16 15:00:32</td>\n",
       "      <td>1</td>\n",
       "      <td>[https://www.theguardian.com/artanddesign/2020...</td>\n",
       "      <td>[The Guardian]</td>\n",
       "    </tr>\n",
       "  </tbody>\n",
       "</table>\n",
       "</div>"
      ],
      "text/plain": [
       "             quoteID  ...      newspapers\n",
       "0  2020-01-31-008580  ...  [The Guardian]\n",
       "1  2020-01-20-006469  ...       [The Sun]\n",
       "2  2020-04-03-006933  ...     [The Times]\n",
       "3  2020-04-15-018814  ...       [The Sun]\n",
       "4  2020-02-16-014286  ...  [The Guardian]\n",
       "\n",
       "[5 rows x 8 columns]"
      ]
     },
     "execution_count": 12,
     "metadata": {},
     "output_type": "execute_result"
    }
   ],
   "source": [
    "# We check that the new file contains the right data\n",
    "filtered_sample_df = load_mini_version_of_data(FILTERED_QUOTES_2020_PATH, 10000, 10)\n",
    "filtered_sample_df.head()"
   ]
  },
  {
   "cell_type": "markdown",
   "metadata": {
    "id": "WifW8YvwlTKW"
   },
   "source": [
    "Let's verify if that there are no 'None' speakers:"
   ]
  },
  {
   "cell_type": "code",
   "execution_count": 13,
   "metadata": {
    "colab": {
     "base_uri": "https://localhost:8080/"
    },
    "id": "dqYFW8r4lSRe",
    "outputId": "1ae3f3b7-576c-47ff-fe81-22c16f7946f2"
   },
   "outputs": [
    {
     "data": {
      "text/plain": [
       "True"
      ]
     },
     "execution_count": 13,
     "metadata": {},
     "output_type": "execute_result"
    }
   ],
   "source": [
    "filtered_sample_df[filtered_sample_df.speaker=='None'].empty"
   ]
  },
  {
   "cell_type": "markdown",
   "metadata": {
    "id": "xLMg_0cfl6pg"
   },
   "source": [
    "Now let us do this filtering for the remaining data of years 2015-2019 (execute only once)."
   ]
  },
  {
   "cell_type": "code",
   "execution_count": null,
   "metadata": {
    "id": "AePNLWxAl6Vz"
   },
   "outputs": [],
   "source": [
    "#filter_data(RAW_QUOTES_2019_PATH,FILTERED_QUOTES_2019_PATH)\n",
    "#filter_data(RAW_QUOTES_2018_PATH,FILTERED_QUOTES_2018_PATH)\n",
    "#filter_data(RAW_QUOTES_2017_PATH,FILTERED_QUOTES_2017_PATH)\n",
    "#filter_data(RAW_QUOTES_2016_PATH,FILTERED_QUOTES_2016_PATH)\n",
    "#filter_data(RAW_QUOTES_2015_PATH,FILTERED_QUOTES_2015_PATH)"
   ]
  },
  {
   "cell_type": "markdown",
   "metadata": {
    "id": "hE3n5IX4M0qY",
    "tags": []
   },
   "source": [
    "## 3. Additional data set: speaker attributes\n",
    "<a id=\"additional_dataset\"></a>\n",
    "\n",
    "The filtered Quotebank years are ready. The next step consists of integrating speaker attributes from our additional data set."
   ]
  },
  {
   "cell_type": "markdown",
   "metadata": {
    "id": "7B7nQdaVuh34"
   },
   "source": [
    "### 3.1 Explore attributes\n",
    "<a id=\"explore_attr\"></a>\n"
   ]
  },
  {
   "cell_type": "markdown",
   "metadata": {
    "id": "dXWm7QwJwVU0"
   },
   "source": [
    "we explore the speakers dataset."
   ]
  },
  {
   "cell_type": "code",
   "execution_count": 14,
   "metadata": {
    "colab": {
     "base_uri": "https://localhost:8080/",
     "height": 581
    },
    "id": "GHP_sBCenkx_",
    "outputId": "29784bf7-1982-4f55-dad8-fb7081bbc438"
   },
   "outputs": [
    {
     "data": {
      "text/html": [
       "<div>\n",
       "<style scoped>\n",
       "    .dataframe tbody tr th:only-of-type {\n",
       "        vertical-align: middle;\n",
       "    }\n",
       "\n",
       "    .dataframe tbody tr th {\n",
       "        vertical-align: top;\n",
       "    }\n",
       "\n",
       "    .dataframe thead th {\n",
       "        text-align: right;\n",
       "    }\n",
       "</style>\n",
       "<table border=\"1\" class=\"dataframe\">\n",
       "  <thead>\n",
       "    <tr style=\"text-align: right;\">\n",
       "      <th></th>\n",
       "      <th>aliases</th>\n",
       "      <th>date_of_birth</th>\n",
       "      <th>nationality</th>\n",
       "      <th>gender</th>\n",
       "      <th>lastrevid</th>\n",
       "      <th>ethnic_group</th>\n",
       "      <th>US_congress_bio_ID</th>\n",
       "      <th>occupation</th>\n",
       "      <th>party</th>\n",
       "      <th>academic_degree</th>\n",
       "      <th>id</th>\n",
       "      <th>label</th>\n",
       "      <th>candidacy</th>\n",
       "      <th>type</th>\n",
       "      <th>religion</th>\n",
       "    </tr>\n",
       "  </thead>\n",
       "  <tbody>\n",
       "    <tr>\n",
       "      <th>0</th>\n",
       "      <td>[Washington, President Washington, G. Washingt...</td>\n",
       "      <td>[+1732-02-22T00:00:00Z]</td>\n",
       "      <td>[Q161885, Q30]</td>\n",
       "      <td>[Q6581097]</td>\n",
       "      <td>1395141751</td>\n",
       "      <td>None</td>\n",
       "      <td>W000178</td>\n",
       "      <td>[Q82955, Q189290, Q131512, Q1734662, Q294126, ...</td>\n",
       "      <td>[Q327591]</td>\n",
       "      <td>None</td>\n",
       "      <td>Q23</td>\n",
       "      <td>George Washington</td>\n",
       "      <td>[Q698073, Q697949]</td>\n",
       "      <td>item</td>\n",
       "      <td>[Q682443]</td>\n",
       "    </tr>\n",
       "    <tr>\n",
       "      <th>1</th>\n",
       "      <td>[Douglas Noel Adams, Douglas Noël Adams, Dougl...</td>\n",
       "      <td>[+1952-03-11T00:00:00Z]</td>\n",
       "      <td>[Q145]</td>\n",
       "      <td>[Q6581097]</td>\n",
       "      <td>1395737157</td>\n",
       "      <td>[Q7994501]</td>\n",
       "      <td>None</td>\n",
       "      <td>[Q214917, Q28389, Q6625963, Q4853732, Q1884422...</td>\n",
       "      <td>None</td>\n",
       "      <td>None</td>\n",
       "      <td>Q42</td>\n",
       "      <td>Douglas Adams</td>\n",
       "      <td>None</td>\n",
       "      <td>item</td>\n",
       "      <td>None</td>\n",
       "    </tr>\n",
       "    <tr>\n",
       "      <th>2</th>\n",
       "      <td>[Paul Marie Ghislain Otlet, Paul Marie Otlet]</td>\n",
       "      <td>[+1868-08-23T00:00:00Z]</td>\n",
       "      <td>[Q31]</td>\n",
       "      <td>[Q6581097]</td>\n",
       "      <td>1380367296</td>\n",
       "      <td>None</td>\n",
       "      <td>None</td>\n",
       "      <td>[Q36180, Q40348, Q182436, Q1265807, Q205375, Q...</td>\n",
       "      <td>None</td>\n",
       "      <td>None</td>\n",
       "      <td>Q1868</td>\n",
       "      <td>Paul Otlet</td>\n",
       "      <td>None</td>\n",
       "      <td>item</td>\n",
       "      <td>None</td>\n",
       "    </tr>\n",
       "    <tr>\n",
       "      <th>3</th>\n",
       "      <td>[George Walker Bush, Bush Jr., Dubya, GWB, Bus...</td>\n",
       "      <td>[+1946-07-06T00:00:00Z]</td>\n",
       "      <td>[Q30]</td>\n",
       "      <td>[Q6581097]</td>\n",
       "      <td>1395142029</td>\n",
       "      <td>None</td>\n",
       "      <td>None</td>\n",
       "      <td>[Q82955, Q15982858, Q18814623, Q1028181, Q1408...</td>\n",
       "      <td>[Q29468]</td>\n",
       "      <td>None</td>\n",
       "      <td>Q207</td>\n",
       "      <td>George W. Bush</td>\n",
       "      <td>[Q327959, Q464075, Q3586276, Q4450587]</td>\n",
       "      <td>item</td>\n",
       "      <td>[Q329646, Q682443, Q33203]</td>\n",
       "    </tr>\n",
       "    <tr>\n",
       "      <th>4</th>\n",
       "      <td>[Velázquez, Diego Rodríguez de Silva y Velázqu...</td>\n",
       "      <td>[+1599-06-06T00:00:00Z]</td>\n",
       "      <td>[Q29]</td>\n",
       "      <td>[Q6581097]</td>\n",
       "      <td>1391704596</td>\n",
       "      <td>None</td>\n",
       "      <td>None</td>\n",
       "      <td>[Q1028181]</td>\n",
       "      <td>None</td>\n",
       "      <td>None</td>\n",
       "      <td>Q297</td>\n",
       "      <td>Diego Velázquez</td>\n",
       "      <td>None</td>\n",
       "      <td>item</td>\n",
       "      <td>None</td>\n",
       "    </tr>\n",
       "  </tbody>\n",
       "</table>\n",
       "</div>"
      ],
      "text/plain": [
       "                                             aliases  ...                    religion\n",
       "0  [Washington, President Washington, G. Washingt...  ...                   [Q682443]\n",
       "1  [Douglas Noel Adams, Douglas Noël Adams, Dougl...  ...                        None\n",
       "2      [Paul Marie Ghislain Otlet, Paul Marie Otlet]  ...                        None\n",
       "3  [George Walker Bush, Bush Jr., Dubya, GWB, Bus...  ...  [Q329646, Q682443, Q33203]\n",
       "4  [Velázquez, Diego Rodríguez de Silva y Velázqu...  ...                        None\n",
       "\n",
       "[5 rows x 15 columns]"
      ]
     },
     "execution_count": 14,
     "metadata": {},
     "output_type": "execute_result"
    }
   ],
   "source": [
    "# Load speaker attributes in df\n",
    "speakers_df = pd.read_parquet(SPEAKER_ATTRIBUTES_PATH)\n",
    "speakers_df.head()"
   ]
  },
  {
   "cell_type": "markdown",
   "metadata": {
    "id": "-ijhmvqAwDgH"
   },
   "source": [
    "Let us first check for duplicates. There seem to be none."
   ]
  },
  {
   "cell_type": "code",
   "execution_count": 15,
   "metadata": {
    "colab": {
     "base_uri": "https://localhost:8080/",
     "height": 69
    },
    "id": "o6qUQ_tPnkyC",
    "outputId": "e86b5c9b-991d-4d99-b7ab-7d58b166ebd8"
   },
   "outputs": [
    {
     "data": {
      "text/html": [
       "<div>\n",
       "<style scoped>\n",
       "    .dataframe tbody tr th:only-of-type {\n",
       "        vertical-align: middle;\n",
       "    }\n",
       "\n",
       "    .dataframe tbody tr th {\n",
       "        vertical-align: top;\n",
       "    }\n",
       "\n",
       "    .dataframe thead th {\n",
       "        text-align: right;\n",
       "    }\n",
       "</style>\n",
       "<table border=\"1\" class=\"dataframe\">\n",
       "  <thead>\n",
       "    <tr style=\"text-align: right;\">\n",
       "      <th></th>\n",
       "      <th>aliases</th>\n",
       "      <th>date_of_birth</th>\n",
       "      <th>nationality</th>\n",
       "      <th>gender</th>\n",
       "      <th>lastrevid</th>\n",
       "      <th>ethnic_group</th>\n",
       "      <th>US_congress_bio_ID</th>\n",
       "      <th>occupation</th>\n",
       "      <th>party</th>\n",
       "      <th>academic_degree</th>\n",
       "      <th>id</th>\n",
       "      <th>label</th>\n",
       "      <th>candidacy</th>\n",
       "      <th>type</th>\n",
       "      <th>religion</th>\n",
       "    </tr>\n",
       "  </thead>\n",
       "  <tbody>\n",
       "  </tbody>\n",
       "</table>\n",
       "</div>"
      ],
      "text/plain": [
       "Empty DataFrame\n",
       "Columns: [aliases, date_of_birth, nationality, gender, lastrevid, ethnic_group, US_congress_bio_ID, occupation, party, academic_degree, id, label, candidacy, type, religion]\n",
       "Index: []"
      ]
     },
     "execution_count": 15,
     "metadata": {},
     "output_type": "execute_result"
    }
   ],
   "source": [
    "# Duplicates\n",
    "duplicates = speakers_df[speakers_df.duplicated(subset='id', keep='first')] \n",
    "duplicates.head()"
   ]
  },
  {
   "cell_type": "markdown",
   "metadata": {
    "id": "HsTU_34onkyA"
   },
   "source": [
    "We are mostly interested in the column gender. But let us see which ones we could keep. How many 'None' values do we have?"
   ]
  },
  {
   "cell_type": "code",
   "execution_count": 16,
   "metadata": {
    "colab": {
     "base_uri": "https://localhost:8080/"
    },
    "id": "IPwXvBnknkyB",
    "outputId": "57080c4d-be1f-44a6-a006-fb604d37eef5"
   },
   "outputs": [
    {
     "name": "stdout",
     "output_type": "stream",
     "text": [
      "gender: 0.21536937853557775\n",
      "nationality: 0.5896797928352544\n",
      "occupation: 0.29625691573337004\n",
      "academic_degree: 0.9889581261268106\n",
      "ethnic_group: 0.9856023328670853\n",
      "religion 0.9783254845609769\n"
     ]
    }
   ],
   "source": [
    "# Fraction of lines with 'None' values:\n",
    "print('gender: ' + str(speakers_df[speakers_df.gender.isnull()].size / speakers_df.size))\n",
    "print('nationality: ' + str(speakers_df[speakers_df.nationality.isnull()].size / speakers_df.size))\n",
    "print('occupation: ' + str(speakers_df[speakers_df.occupation.isnull()].size / speakers_df.size))\n",
    "print('academic_degree: ' + str(speakers_df[speakers_df.academic_degree.isnull()].size / speakers_df.size))\n",
    "print('ethnic_group: ' + str(speakers_df[speakers_df.ethnic_group.isnull()].size / speakers_df.size))\n",
    "print('religion ' + str(speakers_df[speakers_df.religion.isnull()].size / speakers_df.size))"
   ]
  },
  {
   "cell_type": "markdown",
   "metadata": {
    "id": "msgtq37lwBW7"
   },
   "source": [
    "Unfortunately we have to drop all attributes appart from gender, nationality and occupation. All the other ones have more than 98% 'None' values."
   ]
  },
  {
   "cell_type": "code",
   "execution_count": 17,
   "metadata": {
    "id": "Ec66xJ90zQ0d"
   },
   "outputs": [],
   "source": [
    "# Keep the columns gender, nationality and occupation\n",
    "speakers_df = speakers_df[['id', 'gender', 'nationality', 'occupation']]"
   ]
  },
  {
   "cell_type": "markdown",
   "metadata": {
    "id": "bCm99QKj7N8s"
   },
   "source": [
    "We will remove all 'None' genders as this is the most important attribute for our analysis."
   ]
  },
  {
   "cell_type": "code",
   "execution_count": 18,
   "metadata": {
    "colab": {
     "base_uri": "https://localhost:8080/",
     "height": 204
    },
    "id": "8zp-JKZH2igZ",
    "outputId": "f135e256-62fa-4759-fa25-ae80c257a2a8"
   },
   "outputs": [
    {
     "data": {
      "text/html": [
       "<div>\n",
       "<style scoped>\n",
       "    .dataframe tbody tr th:only-of-type {\n",
       "        vertical-align: middle;\n",
       "    }\n",
       "\n",
       "    .dataframe tbody tr th {\n",
       "        vertical-align: top;\n",
       "    }\n",
       "\n",
       "    .dataframe thead th {\n",
       "        text-align: right;\n",
       "    }\n",
       "</style>\n",
       "<table border=\"1\" class=\"dataframe\">\n",
       "  <thead>\n",
       "    <tr style=\"text-align: right;\">\n",
       "      <th></th>\n",
       "      <th>id</th>\n",
       "      <th>gender</th>\n",
       "      <th>nationality</th>\n",
       "      <th>occupation</th>\n",
       "    </tr>\n",
       "  </thead>\n",
       "  <tbody>\n",
       "    <tr>\n",
       "      <th>0</th>\n",
       "      <td>Q23</td>\n",
       "      <td>[Q6581097]</td>\n",
       "      <td>[Q161885, Q30]</td>\n",
       "      <td>[Q82955, Q189290, Q131512, Q1734662, Q294126, ...</td>\n",
       "    </tr>\n",
       "    <tr>\n",
       "      <th>1</th>\n",
       "      <td>Q42</td>\n",
       "      <td>[Q6581097]</td>\n",
       "      <td>[Q145]</td>\n",
       "      <td>[Q214917, Q28389, Q6625963, Q4853732, Q1884422...</td>\n",
       "    </tr>\n",
       "    <tr>\n",
       "      <th>2</th>\n",
       "      <td>Q1868</td>\n",
       "      <td>[Q6581097]</td>\n",
       "      <td>[Q31]</td>\n",
       "      <td>[Q36180, Q40348, Q182436, Q1265807, Q205375, Q...</td>\n",
       "    </tr>\n",
       "    <tr>\n",
       "      <th>3</th>\n",
       "      <td>Q207</td>\n",
       "      <td>[Q6581097]</td>\n",
       "      <td>[Q30]</td>\n",
       "      <td>[Q82955, Q15982858, Q18814623, Q1028181, Q1408...</td>\n",
       "    </tr>\n",
       "    <tr>\n",
       "      <th>4</th>\n",
       "      <td>Q297</td>\n",
       "      <td>[Q6581097]</td>\n",
       "      <td>[Q29]</td>\n",
       "      <td>[Q1028181]</td>\n",
       "    </tr>\n",
       "  </tbody>\n",
       "</table>\n",
       "</div>"
      ],
      "text/plain": [
       "      id  ...                                         occupation\n",
       "0    Q23  ...  [Q82955, Q189290, Q131512, Q1734662, Q294126, ...\n",
       "1    Q42  ...  [Q214917, Q28389, Q6625963, Q4853732, Q1884422...\n",
       "2  Q1868  ...  [Q36180, Q40348, Q182436, Q1265807, Q205375, Q...\n",
       "3   Q207  ...  [Q82955, Q15982858, Q18814623, Q1028181, Q1408...\n",
       "4   Q297  ...                                         [Q1028181]\n",
       "\n",
       "[5 rows x 4 columns]"
      ]
     },
     "execution_count": 18,
     "metadata": {},
     "output_type": "execute_result"
    }
   ],
   "source": [
    "# Remove null genders\n",
    "speakers_df = speakers_df.drop(speakers_df[speakers_df.gender.isnull()].index)\n",
    "speakers_df.head()"
   ]
  },
  {
   "cell_type": "markdown",
   "metadata": {
    "id": "iutcEc41nkyE"
   },
   "source": [
    "### 3.2 Merge speaker attributes\n",
    "<a id=\"merge_speaker_attr\"></a>\n",
    "\n",
    "Now we can merge the speaker attributes in our filtered dataset. First of all we need to load the corresponding labels for the quote id's.\n",
    "\n"
   ]
  },
  {
   "cell_type": "code",
   "execution_count": 19,
   "metadata": {
    "colab": {
     "base_uri": "https://localhost:8080/",
     "height": 235
    },
    "id": "7qWRgx-vnkyE",
    "outputId": "15d442fd-4084-4c1d-c1eb-f2eda77f22a6"
   },
   "outputs": [
    {
     "data": {
      "text/html": [
       "<div>\n",
       "<style scoped>\n",
       "    .dataframe tbody tr th:only-of-type {\n",
       "        vertical-align: middle;\n",
       "    }\n",
       "\n",
       "    .dataframe tbody tr th {\n",
       "        vertical-align: top;\n",
       "    }\n",
       "\n",
       "    .dataframe thead th {\n",
       "        text-align: right;\n",
       "    }\n",
       "</style>\n",
       "<table border=\"1\" class=\"dataframe\">\n",
       "  <thead>\n",
       "    <tr style=\"text-align: right;\">\n",
       "      <th></th>\n",
       "      <th>Label</th>\n",
       "      <th>Description</th>\n",
       "    </tr>\n",
       "    <tr>\n",
       "      <th>QID</th>\n",
       "      <th></th>\n",
       "      <th></th>\n",
       "    </tr>\n",
       "  </thead>\n",
       "  <tbody>\n",
       "    <tr>\n",
       "      <th>Q31</th>\n",
       "      <td>Belgium</td>\n",
       "      <td>country in western Europe</td>\n",
       "    </tr>\n",
       "    <tr>\n",
       "      <th>Q45</th>\n",
       "      <td>Portugal</td>\n",
       "      <td>country in southwestern Europe</td>\n",
       "    </tr>\n",
       "    <tr>\n",
       "      <th>Q75</th>\n",
       "      <td>Internet</td>\n",
       "      <td>global system of connected computer networks</td>\n",
       "    </tr>\n",
       "    <tr>\n",
       "      <th>Q148</th>\n",
       "      <td>People's Republic of China</td>\n",
       "      <td>sovereign state in East Asia</td>\n",
       "    </tr>\n",
       "    <tr>\n",
       "      <th>Q155</th>\n",
       "      <td>Brazil</td>\n",
       "      <td>country in South America</td>\n",
       "    </tr>\n",
       "  </tbody>\n",
       "</table>\n",
       "</div>"
      ],
      "text/plain": [
       "                           Label                                   Description\n",
       "QID                                                                           \n",
       "Q31                      Belgium                     country in western Europe\n",
       "Q45                     Portugal                country in southwestern Europe\n",
       "Q75                     Internet  global system of connected computer networks\n",
       "Q148  People's Republic of China                  sovereign state in East Asia\n",
       "Q155                      Brazil                      country in South America"
      ]
     },
     "execution_count": 19,
     "metadata": {},
     "output_type": "execute_result"
    }
   ],
   "source": [
    "labels_df = pd.read_csv(LABELS_WIKIDATA_PATH, compression='bz2', index_col='QID')\n",
    "\n",
    "# We know there will be a missing label in our dataset.\n",
    "# We'll just add the information in advance (see post on Zulip).\n",
    "labels_df.loc['Q6363085'] = labels_df.loc['Q380075']\n",
    "\n",
    "labels_df.head()"
   ]
  },
  {
   "cell_type": "markdown",
   "metadata": {
    "id": "X0k-KhxKAPre"
   },
   "source": [
    "To efficiently look up the qids attributes of a speaker we create dictionaries to access the desired qids."
   ]
  },
  {
   "cell_type": "code",
   "execution_count": 20,
   "metadata": {
    "id": "HNOYRV0ZzTCu"
   },
   "outputs": [],
   "source": [
    "# Create dictionary for the labels and the attributes gender, nationality and occupation\n",
    "labels_dict = pd.Series(labels_df.Label, index=labels_df.index)\n",
    "genders_dict = pd.Series(speakers_df.gender.values, index=speakers_df.id).to_dict()\n",
    "nationalities_dict = pd.Series(speakers_df.nationality.values, index=speakers_df.id).to_dict()\n",
    "occupations_dict = pd.Series(speakers_df.occupation.values, index=speakers_df.id).to_dict()"
   ]
  },
  {
   "cell_type": "markdown",
   "metadata": {
    "id": "QrcUcOFRzFPH"
   },
   "source": [
    "In a first analysis just the first qid will be considered. Thus the qid of the most probable speaker. Below a helper function to achieve this."
   ]
  },
  {
   "cell_type": "code",
   "execution_count": 21,
   "metadata": {
    "id": "Gq6TjBqpLzzo"
   },
   "outputs": [],
   "source": [
    "# We want to transform the 'qids' column in a single 'qid' element\n",
    "def get_single_qid(df_quotes):\n",
    "  df_copy =  df_quotes.copy()\n",
    "  df_result =  df_quotes.copy()\n",
    "  for idx,row in df_copy.iterrows():  \n",
    "    id_speaker = row.loc['qids'][0] \n",
    "    df_result.at[idx,'qids'] = id_speaker\n",
    "\n",
    "  df_result = df_result.rename(columns={\"qids\": \"qid\"})\n",
    "  return df_result"
   ]
  },
  {
   "cell_type": "markdown",
   "metadata": {
    "id": "ZZCvvaJ_DagT"
   },
   "source": [
    "We need as well a function to translate the qids of one attribute to  the corresponding label, for one specific speaker."
   ]
  },
  {
   "cell_type": "code",
   "execution_count": 22,
   "metadata": {
    "id": "NJisKMiOz2fZ"
   },
   "outputs": [],
   "source": [
    "def translate_qid2label(id_speaker, attr_dict):\n",
    "  \"\"\"\n",
    "    Retrieve quotes speakers attribute, in the order of the quotations DataFrame.\n",
    "    :id_speaker   First qid of quids column of one row of the quotations dataframe qid\n",
    "    :attr_dict    dictionary for specified attributes\n",
    "    :return       attributes as text in a list\n",
    "  \"\"\"\n",
    "  list_attr = []\n",
    "  \n",
    "  if id_speaker in attr_dict:\n",
    "    id_attr_speaker = attr_dict[id_speaker]\n",
    "    if(id_attr_speaker is not None):\n",
    "      for id_a in id_attr_speaker:\n",
    "          attr = labels_dict[id_a] # Attribute value\n",
    "          list_attr.append(attr)\n",
    "    else:\n",
    "      list_attr = None\n",
    "\n",
    "  return list_attr"
   ]
  },
  {
   "cell_type": "markdown",
   "metadata": {
    "id": "ZUpBDScXY9zR"
   },
   "source": [
    "Now we can put all these together and apply the above function to all our speaker attributes and quotes.\n"
   ]
  },
  {
   "cell_type": "code",
   "execution_count": 23,
   "metadata": {
    "id": "7Ju8uFpOY82Y"
   },
   "outputs": [],
   "source": [
    "def add_speaker_attributes(path_to_file):\n",
    "  \"\"\"\n",
    "    Function takes path of compressed filtered data of oquotebank and adds\n",
    "    speaker information in new colums\n",
    "    :path_to_file   first qid of quids column of one row of the quotations dataframe qid\n",
    "    :return         pandas DataFrame with new columns\n",
    "  \"\"\"\n",
    "  df = pd.read_json(path_to_file, lines=True,compression='bz2')\n",
    "  # First we get a single qid:\n",
    "  df = get_single_qid(df)\n",
    "  # next we create the lists of attributes from dictionaries\n",
    "  genders = df['qid'].apply(lambda i: translate_qid2label(i, genders_dict))\n",
    "  nationalities = df['qid'].apply(lambda i: translate_qid2label(i, nationalities_dict))\n",
    "  occupations = df['qid'].apply(lambda i: translate_qid2label(i, occupations_dict))\n",
    "\n",
    "  # And finally insert them as new columns\n",
    "  df.insert(3, 'gender', genders)\n",
    "  df.insert(4,'nationality', nationalities)\n",
    "  df.insert(5,'occupation', occupations)\n",
    "  return df"
   ]
  },
  {
   "cell_type": "code",
   "execution_count": 24,
   "metadata": {
    "colab": {
     "base_uri": "https://localhost:8080/",
     "height": 598
    },
    "id": "_Z8seEd7FDMV",
    "outputId": "05a66d6f-f9b7-49b0-f03c-693872b437eb"
   },
   "outputs": [
    {
     "data": {
      "text/html": [
       "<div>\n",
       "<style scoped>\n",
       "    .dataframe tbody tr th:only-of-type {\n",
       "        vertical-align: middle;\n",
       "    }\n",
       "\n",
       "    .dataframe tbody tr th {\n",
       "        vertical-align: top;\n",
       "    }\n",
       "\n",
       "    .dataframe thead th {\n",
       "        text-align: right;\n",
       "    }\n",
       "</style>\n",
       "<table border=\"1\" class=\"dataframe\">\n",
       "  <thead>\n",
       "    <tr style=\"text-align: right;\">\n",
       "      <th></th>\n",
       "      <th>quoteID</th>\n",
       "      <th>quotation</th>\n",
       "      <th>speaker</th>\n",
       "      <th>gender</th>\n",
       "      <th>nationality</th>\n",
       "      <th>occupation</th>\n",
       "      <th>qid</th>\n",
       "      <th>date</th>\n",
       "      <th>numOccurrences</th>\n",
       "      <th>urls</th>\n",
       "      <th>newspapers</th>\n",
       "    </tr>\n",
       "  </thead>\n",
       "  <tbody>\n",
       "    <tr>\n",
       "      <th>0</th>\n",
       "      <td>2020-01-31-008580</td>\n",
       "      <td>As you reach or have reached the apex of your ...</td>\n",
       "      <td>Keyon Dooling</td>\n",
       "      <td>[male]</td>\n",
       "      <td>[United States of America]</td>\n",
       "      <td>[basketball player]</td>\n",
       "      <td>Q304349</td>\n",
       "      <td>2020-01-31 19:07:55</td>\n",
       "      <td>1</td>\n",
       "      <td>[https://www.theguardian.com/sport/2020/jan/31...</td>\n",
       "      <td>[The Guardian]</td>\n",
       "    </tr>\n",
       "    <tr>\n",
       "      <th>1</th>\n",
       "      <td>2020-01-20-006469</td>\n",
       "      <td>At the same time we want to remain friends wit...</td>\n",
       "      <td>Tim Martin</td>\n",
       "      <td>[male]</td>\n",
       "      <td>None</td>\n",
       "      <td>[American football player]</td>\n",
       "      <td>Q20670776</td>\n",
       "      <td>2020-01-20 09:08:24</td>\n",
       "      <td>4</td>\n",
       "      <td>[https://www.dailystar.co.uk/real-life/wethers...</td>\n",
       "      <td>[The Sun]</td>\n",
       "    </tr>\n",
       "    <tr>\n",
       "      <th>2</th>\n",
       "      <td>2020-04-03-006933</td>\n",
       "      <td>Been home-schooling a 6-year-old and 8-year-ol...</td>\n",
       "      <td>Shonda Rhimes</td>\n",
       "      <td>[female]</td>\n",
       "      <td>[United States of America]</td>\n",
       "      <td>[film director, screenwriter, writer, film pro...</td>\n",
       "      <td>Q242329</td>\n",
       "      <td>2020-04-03 16:00:00</td>\n",
       "      <td>1</td>\n",
       "      <td>[http://www.thetimes.co.uk/edition/magazine/ca...</td>\n",
       "      <td>[The Times]</td>\n",
       "    </tr>\n",
       "    <tr>\n",
       "      <th>3</th>\n",
       "      <td>2020-04-15-018814</td>\n",
       "      <td>I am now in agreement that we should move forw...</td>\n",
       "      <td>David Boies</td>\n",
       "      <td>[male]</td>\n",
       "      <td>[United States of America]</td>\n",
       "      <td>[lawyer]</td>\n",
       "      <td>Q5231515</td>\n",
       "      <td>2020-04-15 15:46:38</td>\n",
       "      <td>1</td>\n",
       "      <td>[https://www.thesun.co.uk/news/11403669/jeffre...</td>\n",
       "      <td>[The Sun]</td>\n",
       "    </tr>\n",
       "    <tr>\n",
       "      <th>4</th>\n",
       "      <td>2020-02-16-014286</td>\n",
       "      <td>I don't want to make a career out of [ remakin...</td>\n",
       "      <td>Ramiro Gomez</td>\n",
       "      <td>[male]</td>\n",
       "      <td>None</td>\n",
       "      <td>[artist]</td>\n",
       "      <td>Q30693403</td>\n",
       "      <td>2020-02-16 15:00:32</td>\n",
       "      <td>1</td>\n",
       "      <td>[https://www.theguardian.com/artanddesign/2020...</td>\n",
       "      <td>[The Guardian]</td>\n",
       "    </tr>\n",
       "  </tbody>\n",
       "</table>\n",
       "</div>"
      ],
      "text/plain": [
       "             quoteID  ...      newspapers\n",
       "0  2020-01-31-008580  ...  [The Guardian]\n",
       "1  2020-01-20-006469  ...       [The Sun]\n",
       "2  2020-04-03-006933  ...     [The Times]\n",
       "3  2020-04-15-018814  ...       [The Sun]\n",
       "4  2020-02-16-014286  ...  [The Guardian]\n",
       "\n",
       "[5 rows x 11 columns]"
      ]
     },
     "execution_count": 24,
     "metadata": {},
     "output_type": "execute_result"
    }
   ],
   "source": [
    "# Merge and speaker attributes for filtered quotes of 2020\n",
    "df_2020 = add_speaker_attributes(FILTERED_QUOTES_2020_PATH)\n",
    "df_2020.head()"
   ]
  },
  {
   "cell_type": "markdown",
   "metadata": {
    "id": "oSgj3WcDxSi5"
   },
   "source": [
    "We do this for all years (only once)."
   ]
  },
  {
   "cell_type": "code",
   "execution_count": 25,
   "metadata": {
    "id": "lmoMoK07i15o"
   },
   "outputs": [],
   "source": [
    "# Merge speaker attributes of all other years\n",
    "df_2019 = add_speaker_attributes(FILTERED_QUOTES_2019_PATH)\n",
    "df_2018 = add_speaker_attributes(FILTERED_QUOTES_2018_PATH)\n",
    "df_2017 = add_speaker_attributes(FILTERED_QUOTES_2017_PATH)\n",
    "df_2016 = add_speaker_attributes(FILTERED_QUOTES_2016_PATH)"
   ]
  },
  {
   "cell_type": "markdown",
   "metadata": {
    "id": "LkjAoat92bHv"
   },
   "source": [
    "### 3.3 Save merged data as pickle\n",
    "<a id=\"save_pickle\"></a>\n",
    "\n",
    "For easier handling we will save the merged dataframes in a pickled format. In this way section 3 doesn't have to be excecuted anymore."
   ]
  },
  {
   "cell_type": "code",
   "execution_count": 26,
   "metadata": {
    "id": "45AK2f4m3_V6"
   },
   "outputs": [],
   "source": [
    "# Store merged dataframes as pickle\n",
    "df_2020.to_pickle(QUOTES_2020_PATH)\n",
    "df_2019.to_pickle(QUOTES_2019_PATH)\n",
    "df_2018.to_pickle(QUOTES_2018_PATH)\n",
    "df_2017.to_pickle(QUOTES_2017_PATH)\n",
    "df_2016.to_pickle(QUOTES_2016_PATH)"
   ]
  },
  {
   "cell_type": "markdown",
   "metadata": {
    "id": "L8O0LkrcM0qZ"
   },
   "source": [
    "## 4 Research questions\n",
    "<a id=\"research_questions\"></a>\n",
    "\n",
    "Our research questions are defined in our README. For milestone 2 we will have a quick look at our **cleaned dataset of 2020** and provide some first plots regarding the genders."
   ]
  },
  {
   "cell_type": "markdown",
   "metadata": {
    "id": "L6UEU47N5pL_",
    "tags": []
   },
   "source": [
    "### 4.1 Load merged data\n",
    "<a id=\"load_pickle\"></a>"
   ]
  },
  {
   "cell_type": "code",
   "execution_count": 27,
   "metadata": {
    "id": "nyU9N28r5-w5"
   },
   "outputs": [],
   "source": [
    "# Load pickled dataframes\n",
    "df_2020 = pd.read_pickle(QUOTES_2020_PATH)\n",
    "#df_2019 = pd.read_pickle(QUOTES_2019_PATH)\n",
    "#df_2018 = pd.read_pickle(QUOTES_2018_PATH)\n",
    "#df_2017 = pd.read_pickle(QUOTES_2017_PATH)\n",
    "#df_2016 = pd.read_pickle(QUOTES_2016_PATH)"
   ]
  },
  {
   "cell_type": "code",
   "execution_count": 28,
   "metadata": {
    "colab": {
     "base_uri": "https://localhost:8080/",
     "height": 598
    },
    "id": "esoqdXCk6ls0",
    "outputId": "cc70ce0a-57e6-4c32-ce30-2256e4e5a7ee"
   },
   "outputs": [
    {
     "data": {
      "text/html": [
       "<div>\n",
       "<style scoped>\n",
       "    .dataframe tbody tr th:only-of-type {\n",
       "        vertical-align: middle;\n",
       "    }\n",
       "\n",
       "    .dataframe tbody tr th {\n",
       "        vertical-align: top;\n",
       "    }\n",
       "\n",
       "    .dataframe thead th {\n",
       "        text-align: right;\n",
       "    }\n",
       "</style>\n",
       "<table border=\"1\" class=\"dataframe\">\n",
       "  <thead>\n",
       "    <tr style=\"text-align: right;\">\n",
       "      <th></th>\n",
       "      <th>quoteID</th>\n",
       "      <th>quotation</th>\n",
       "      <th>speaker</th>\n",
       "      <th>gender</th>\n",
       "      <th>nationality</th>\n",
       "      <th>occupation</th>\n",
       "      <th>qid</th>\n",
       "      <th>date</th>\n",
       "      <th>numOccurrences</th>\n",
       "      <th>urls</th>\n",
       "      <th>newspapers</th>\n",
       "    </tr>\n",
       "  </thead>\n",
       "  <tbody>\n",
       "    <tr>\n",
       "      <th>0</th>\n",
       "      <td>2020-01-31-008580</td>\n",
       "      <td>As you reach or have reached the apex of your ...</td>\n",
       "      <td>Keyon Dooling</td>\n",
       "      <td>[male]</td>\n",
       "      <td>[United States of America]</td>\n",
       "      <td>[basketball player]</td>\n",
       "      <td>Q304349</td>\n",
       "      <td>2020-01-31 19:07:55</td>\n",
       "      <td>1</td>\n",
       "      <td>[https://www.theguardian.com/sport/2020/jan/31...</td>\n",
       "      <td>[The Guardian]</td>\n",
       "    </tr>\n",
       "    <tr>\n",
       "      <th>1</th>\n",
       "      <td>2020-01-20-006469</td>\n",
       "      <td>At the same time we want to remain friends wit...</td>\n",
       "      <td>Tim Martin</td>\n",
       "      <td>[male]</td>\n",
       "      <td>None</td>\n",
       "      <td>[American football player]</td>\n",
       "      <td>Q20670776</td>\n",
       "      <td>2020-01-20 09:08:24</td>\n",
       "      <td>4</td>\n",
       "      <td>[https://www.dailystar.co.uk/real-life/wethers...</td>\n",
       "      <td>[The Sun]</td>\n",
       "    </tr>\n",
       "    <tr>\n",
       "      <th>2</th>\n",
       "      <td>2020-04-03-006933</td>\n",
       "      <td>Been home-schooling a 6-year-old and 8-year-ol...</td>\n",
       "      <td>Shonda Rhimes</td>\n",
       "      <td>[female]</td>\n",
       "      <td>[United States of America]</td>\n",
       "      <td>[film director, screenwriter, writer, film pro...</td>\n",
       "      <td>Q242329</td>\n",
       "      <td>2020-04-03 16:00:00</td>\n",
       "      <td>1</td>\n",
       "      <td>[http://www.thetimes.co.uk/edition/magazine/ca...</td>\n",
       "      <td>[The Times]</td>\n",
       "    </tr>\n",
       "    <tr>\n",
       "      <th>3</th>\n",
       "      <td>2020-04-15-018814</td>\n",
       "      <td>I am now in agreement that we should move forw...</td>\n",
       "      <td>David Boies</td>\n",
       "      <td>[male]</td>\n",
       "      <td>[United States of America]</td>\n",
       "      <td>[lawyer]</td>\n",
       "      <td>Q5231515</td>\n",
       "      <td>2020-04-15 15:46:38</td>\n",
       "      <td>1</td>\n",
       "      <td>[https://www.thesun.co.uk/news/11403669/jeffre...</td>\n",
       "      <td>[The Sun]</td>\n",
       "    </tr>\n",
       "    <tr>\n",
       "      <th>4</th>\n",
       "      <td>2020-02-16-014286</td>\n",
       "      <td>I don't want to make a career out of [ remakin...</td>\n",
       "      <td>Ramiro Gomez</td>\n",
       "      <td>[male]</td>\n",
       "      <td>None</td>\n",
       "      <td>[artist]</td>\n",
       "      <td>Q30693403</td>\n",
       "      <td>2020-02-16 15:00:32</td>\n",
       "      <td>1</td>\n",
       "      <td>[https://www.theguardian.com/artanddesign/2020...</td>\n",
       "      <td>[The Guardian]</td>\n",
       "    </tr>\n",
       "  </tbody>\n",
       "</table>\n",
       "</div>"
      ],
      "text/plain": [
       "             quoteID  ...      newspapers\n",
       "0  2020-01-31-008580  ...  [The Guardian]\n",
       "1  2020-01-20-006469  ...       [The Sun]\n",
       "2  2020-04-03-006933  ...     [The Times]\n",
       "3  2020-04-15-018814  ...       [The Sun]\n",
       "4  2020-02-16-014286  ...  [The Guardian]\n",
       "\n",
       "[5 rows x 11 columns]"
      ]
     },
     "execution_count": 28,
     "metadata": {},
     "output_type": "execute_result"
    }
   ],
   "source": [
    "df_2020.head()"
   ]
  },
  {
   "cell_type": "markdown",
   "metadata": {
    "id": "vVi6hL038deK"
   },
   "source": [
    "### 4.2 Sanity check\n",
    "<a id=\"sanity_check\"></a>"
   ]
  },
  {
   "cell_type": "markdown",
   "metadata": {
    "id": "4bplTXK33u9J"
   },
   "source": [
    "Before proceeding to an exploration of our data, we need to check if there are no anomalies left in the data like missing values."
   ]
  },
  {
   "cell_type": "code",
   "execution_count": 29,
   "metadata": {
    "colab": {
     "base_uri": "https://localhost:8080/",
     "height": 297
    },
    "id": "J1Dd9KHi3nVj",
    "outputId": "f9bb4ebd-b5dc-47bc-b425-322ed528ee0c"
   },
   "outputs": [
    {
     "data": {
      "text/html": [
       "<div>\n",
       "<style scoped>\n",
       "    .dataframe tbody tr th:only-of-type {\n",
       "        vertical-align: middle;\n",
       "    }\n",
       "\n",
       "    .dataframe tbody tr th {\n",
       "        vertical-align: top;\n",
       "    }\n",
       "\n",
       "    .dataframe thead th {\n",
       "        text-align: right;\n",
       "    }\n",
       "</style>\n",
       "<table border=\"1\" class=\"dataframe\">\n",
       "  <thead>\n",
       "    <tr style=\"text-align: right;\">\n",
       "      <th></th>\n",
       "      <th>numOccurrences</th>\n",
       "    </tr>\n",
       "  </thead>\n",
       "  <tbody>\n",
       "    <tr>\n",
       "      <th>count</th>\n",
       "      <td>26070.000000</td>\n",
       "    </tr>\n",
       "    <tr>\n",
       "      <th>mean</th>\n",
       "      <td>9.577484</td>\n",
       "    </tr>\n",
       "    <tr>\n",
       "      <th>std</th>\n",
       "      <td>41.897187</td>\n",
       "    </tr>\n",
       "    <tr>\n",
       "      <th>min</th>\n",
       "      <td>1.000000</td>\n",
       "    </tr>\n",
       "    <tr>\n",
       "      <th>25%</th>\n",
       "      <td>1.000000</td>\n",
       "    </tr>\n",
       "    <tr>\n",
       "      <th>50%</th>\n",
       "      <td>1.000000</td>\n",
       "    </tr>\n",
       "    <tr>\n",
       "      <th>75%</th>\n",
       "      <td>3.000000</td>\n",
       "    </tr>\n",
       "    <tr>\n",
       "      <th>max</th>\n",
       "      <td>2037.000000</td>\n",
       "    </tr>\n",
       "  </tbody>\n",
       "</table>\n",
       "</div>"
      ],
      "text/plain": [
       "       numOccurrences\n",
       "count    26070.000000\n",
       "mean         9.577484\n",
       "std         41.897187\n",
       "min          1.000000\n",
       "25%          1.000000\n",
       "50%          1.000000\n",
       "75%          3.000000\n",
       "max       2037.000000"
      ]
     },
     "execution_count": 29,
     "metadata": {},
     "output_type": "execute_result"
    }
   ],
   "source": [
    "# Full descritpion of the numerical data\n",
    "df_2020.describe()"
   ]
  },
  {
   "cell_type": "markdown",
   "metadata": {
    "id": "H6op5heG36Fa"
   },
   "source": [
    "The only numerical data we get is the number of occurences. We only get a meaningful description for this column yet."
   ]
  },
  {
   "cell_type": "code",
   "execution_count": 30,
   "metadata": {
    "colab": {
     "base_uri": "https://localhost:8080/"
    },
    "id": "aX618mD84Gx1",
    "outputId": "b5af08fe-c06c-4d37-de61-a8cb313871bc"
   },
   "outputs": [
    {
     "data": {
      "text/plain": [
       "quoteID           False\n",
       "quotation         False\n",
       "speaker           False\n",
       "gender            False\n",
       "nationality        True\n",
       "occupation         True\n",
       "qid               False\n",
       "date              False\n",
       "numOccurrences    False\n",
       "urls              False\n",
       "newspapers        False\n",
       "dtype: bool"
      ]
     },
     "execution_count": 30,
     "metadata": {},
     "output_type": "execute_result"
    }
   ],
   "source": [
    "# Verification for missing values\n",
    "df_2020.isnull().any()"
   ]
  },
  {
   "cell_type": "markdown",
   "metadata": {
    "id": "1LJLVoZf4S3h"
   },
   "source": [
    "We only have missing values for the nationality and occupation. We knew it would be the case. For us the most important was to remove any 'None' speakers. The nationalities and occupations will be later used for a deeper analysis. We will simply have to deal with them."
   ]
  },
  {
   "cell_type": "code",
   "execution_count": 31,
   "metadata": {
    "colab": {
     "base_uri": "https://localhost:8080/",
     "height": 49
    },
    "id": "V_ilXRSE5dPg",
    "outputId": "bc6b0d75-bb71-488b-adff-c0b34864b238"
   },
   "outputs": [
    {
     "data": {
      "text/html": [
       "<div>\n",
       "<style scoped>\n",
       "    .dataframe tbody tr th:only-of-type {\n",
       "        vertical-align: middle;\n",
       "    }\n",
       "\n",
       "    .dataframe tbody tr th {\n",
       "        vertical-align: top;\n",
       "    }\n",
       "\n",
       "    .dataframe thead th {\n",
       "        text-align: right;\n",
       "    }\n",
       "</style>\n",
       "<table border=\"1\" class=\"dataframe\">\n",
       "  <thead>\n",
       "    <tr style=\"text-align: right;\">\n",
       "      <th></th>\n",
       "      <th>quoteID</th>\n",
       "      <th>quotation</th>\n",
       "      <th>speaker</th>\n",
       "      <th>gender</th>\n",
       "      <th>nationality</th>\n",
       "      <th>occupation</th>\n",
       "      <th>qid</th>\n",
       "      <th>date</th>\n",
       "      <th>numOccurrences</th>\n",
       "      <th>urls</th>\n",
       "      <th>newspapers</th>\n",
       "    </tr>\n",
       "  </thead>\n",
       "  <tbody>\n",
       "  </tbody>\n",
       "</table>\n",
       "</div>"
      ],
      "text/plain": [
       "Empty DataFrame\n",
       "Columns: [quoteID, quotation, speaker, gender, nationality, occupation, qid, date, numOccurrences, urls, newspapers]\n",
       "Index: []"
      ]
     },
     "execution_count": 31,
     "metadata": {},
     "output_type": "execute_result"
    }
   ],
   "source": [
    "# Verification of empty quotes\n",
    "df_2020[df_2020.quotation == '']"
   ]
  },
  {
   "cell_type": "code",
   "execution_count": 32,
   "metadata": {
    "colab": {
     "base_uri": "https://localhost:8080/",
     "height": 49
    },
    "id": "IlOj-52z5jkR",
    "outputId": "d314e9e8-3c88-482a-8ff4-967e1660e1eb"
   },
   "outputs": [
    {
     "data": {
      "text/html": [
       "<div>\n",
       "<style scoped>\n",
       "    .dataframe tbody tr th:only-of-type {\n",
       "        vertical-align: middle;\n",
       "    }\n",
       "\n",
       "    .dataframe tbody tr th {\n",
       "        vertical-align: top;\n",
       "    }\n",
       "\n",
       "    .dataframe thead th {\n",
       "        text-align: right;\n",
       "    }\n",
       "</style>\n",
       "<table border=\"1\" class=\"dataframe\">\n",
       "  <thead>\n",
       "    <tr style=\"text-align: right;\">\n",
       "      <th></th>\n",
       "      <th>quoteID</th>\n",
       "      <th>quotation</th>\n",
       "      <th>speaker</th>\n",
       "      <th>gender</th>\n",
       "      <th>nationality</th>\n",
       "      <th>occupation</th>\n",
       "      <th>qid</th>\n",
       "      <th>date</th>\n",
       "      <th>numOccurrences</th>\n",
       "      <th>urls</th>\n",
       "      <th>newspapers</th>\n",
       "    </tr>\n",
       "  </thead>\n",
       "  <tbody>\n",
       "  </tbody>\n",
       "</table>\n",
       "</div>"
      ],
      "text/plain": [
       "Empty DataFrame\n",
       "Columns: [quoteID, quotation, speaker, gender, nationality, occupation, qid, date, numOccurrences, urls, newspapers]\n",
       "Index: []"
      ]
     },
     "execution_count": 32,
     "metadata": {},
     "output_type": "execute_result"
    }
   ],
   "source": [
    "# Verification of duplicates\n",
    "duplicates = df_2020[df_2020.duplicated(subset='quoteID', keep='first')] \n",
    "duplicates.head()"
   ]
  },
  {
   "cell_type": "markdown",
   "metadata": {
    "id": "7msABdN75tUZ"
   },
   "source": [
    "There are no missing quotes nor duplicates. Thus we don't have additional modification to make."
   ]
  },
  {
   "cell_type": "markdown",
   "metadata": {
    "id": "pz1BA20r8T6L"
   },
   "source": [
    "### 4.3 Visualisation of genders\n",
    "<a id=\"visual_genders\"></a>\n",
    "\n",
    "We want to conduct an analysis on the evolution of women's presence in UK's newspapers. We will have a first look on the repartition of the speaker's genders.\n",
    "\n"
   ]
  },
  {
   "cell_type": "code",
   "execution_count": 33,
   "metadata": {
    "id": "hWfaLAYL8XuD"
   },
   "outputs": [],
   "source": [
    "# Convert the 2D gender column to 1D\n",
    "def convert(series):\n",
    "  return pd.Series([x for _list in series for x in _list])"
   ]
  },
  {
   "cell_type": "code",
   "execution_count": 34,
   "metadata": {
    "colab": {
     "base_uri": "https://localhost:8080/"
    },
    "id": "QQ3OeK2a8yOh",
    "outputId": "91bab435-e4be-4a88-f550-087480779616"
   },
   "outputs": [
    {
     "data": {
      "text/plain": [
       "male                  17960\n",
       "female                 7646\n",
       "non-binary               52\n",
       "transgender female       39\n",
       "genderfluid               6\n",
       "transgender male          6\n",
       "cisgender female          2\n",
       "intersex                  1\n",
       "genderqueer               1\n",
       "dtype: int64"
      ]
     },
     "execution_count": 34,
     "metadata": {},
     "output_type": "execute_result"
    }
   ],
   "source": [
    "# Get number of each gender\n",
    "convert(df_2020[\"gender\"]).value_counts()"
   ]
  },
  {
   "cell_type": "code",
   "execution_count": 35,
   "metadata": {
    "colab": {
     "base_uri": "https://localhost:8080/",
     "height": 462
    },
    "id": "-xTegaX_86FY",
    "outputId": "a56df52f-0c9f-470b-c578-1c94ff32cb04"
   },
   "outputs": [
    {
     "data": {
      "text/plain": [
       "Text(0.5, 1.0, 'Genders')"
      ]
     },
     "execution_count": 35,
     "metadata": {},
     "output_type": "execute_result"
    },
    {
     "data": {
      "image/png": "[encoded data removed]",
      "text/plain": [
       "<Figure size 1224x504 with 1 Axes>"
      ]
     },
     "metadata": {
      "needs_background": "light"
     },
     "output_type": "display_data"
    }
   ],
   "source": [
    "# Visualisation of gender distribution\n",
    "fig, ax = plt.subplots(figsize = (17,7))\n",
    "sns.barplot(x=convert(df_2020[\"gender\"]).value_counts().index,\n",
    "        y=convert(df_2020[\"gender\"]).value_counts().values)\n",
    "ax.set_ylabel(\"Frequency\", size = 12)\n",
    "ax.set_title(\"Genders\", size = 14)"
   ]
  },
  {
   "cell_type": "markdown",
   "metadata": {
    "id": "_blwi1t2yC9n"
   },
   "source": [
    "A expected, the minorities are almost negligible in comparison to the two main genders. But it is still very intesting to notice their presence even in small numbers. We could make a further analysis on them but first we will concentrate on the repartition between male and female. Unsurprsingly, male speakers are quoted two times more than female ones. "
   ]
  },
  {
   "cell_type": "code",
   "execution_count": 36,
   "metadata": {
    "colab": {
     "base_uri": "https://localhost:8080/",
     "height": 547
    },
    "id": "fikgB8DS9y-R",
    "outputId": "d51fb329-0537-468f-eb58-393e9cf4b588"
   },
   "outputs": [
    {
     "data": {
      "text/html": [
       "<div>\n",
       "<style scoped>\n",
       "    .dataframe tbody tr th:only-of-type {\n",
       "        vertical-align: middle;\n",
       "    }\n",
       "\n",
       "    .dataframe tbody tr th {\n",
       "        vertical-align: top;\n",
       "    }\n",
       "\n",
       "    .dataframe thead th {\n",
       "        text-align: right;\n",
       "    }\n",
       "</style>\n",
       "<table border=\"1\" class=\"dataframe\">\n",
       "  <thead>\n",
       "    <tr style=\"text-align: right;\">\n",
       "      <th></th>\n",
       "      <th>quoteID</th>\n",
       "      <th>quotation</th>\n",
       "      <th>speaker</th>\n",
       "      <th>gender</th>\n",
       "      <th>nationality</th>\n",
       "      <th>occupation</th>\n",
       "      <th>qid</th>\n",
       "      <th>date</th>\n",
       "      <th>numOccurrences</th>\n",
       "      <th>urls</th>\n",
       "      <th>newspapers</th>\n",
       "    </tr>\n",
       "  </thead>\n",
       "  <tbody>\n",
       "    <tr>\n",
       "      <th>0</th>\n",
       "      <td>2020-01-31-008580</td>\n",
       "      <td>As you reach or have reached the apex of your ...</td>\n",
       "      <td>Keyon Dooling</td>\n",
       "      <td>[male]</td>\n",
       "      <td>[United States of America]</td>\n",
       "      <td>[basketball player]</td>\n",
       "      <td>Q304349</td>\n",
       "      <td>2020-01-31 19:07:55</td>\n",
       "      <td>1</td>\n",
       "      <td>[https://www.theguardian.com/sport/2020/jan/31...</td>\n",
       "      <td>[The Guardian]</td>\n",
       "    </tr>\n",
       "    <tr>\n",
       "      <th>1</th>\n",
       "      <td>2020-01-20-006469</td>\n",
       "      <td>At the same time we want to remain friends wit...</td>\n",
       "      <td>Tim Martin</td>\n",
       "      <td>[male]</td>\n",
       "      <td>None</td>\n",
       "      <td>[American football player]</td>\n",
       "      <td>Q20670776</td>\n",
       "      <td>2020-01-20 09:08:24</td>\n",
       "      <td>4</td>\n",
       "      <td>[https://www.dailystar.co.uk/real-life/wethers...</td>\n",
       "      <td>[The Sun]</td>\n",
       "    </tr>\n",
       "    <tr>\n",
       "      <th>3</th>\n",
       "      <td>2020-04-15-018814</td>\n",
       "      <td>I am now in agreement that we should move forw...</td>\n",
       "      <td>David Boies</td>\n",
       "      <td>[male]</td>\n",
       "      <td>[United States of America]</td>\n",
       "      <td>[lawyer]</td>\n",
       "      <td>Q5231515</td>\n",
       "      <td>2020-04-15 15:46:38</td>\n",
       "      <td>1</td>\n",
       "      <td>[https://www.thesun.co.uk/news/11403669/jeffre...</td>\n",
       "      <td>[The Sun]</td>\n",
       "    </tr>\n",
       "    <tr>\n",
       "      <th>4</th>\n",
       "      <td>2020-02-16-014286</td>\n",
       "      <td>I don't want to make a career out of [ remakin...</td>\n",
       "      <td>Ramiro Gomez</td>\n",
       "      <td>[male]</td>\n",
       "      <td>None</td>\n",
       "      <td>[artist]</td>\n",
       "      <td>Q30693403</td>\n",
       "      <td>2020-02-16 15:00:32</td>\n",
       "      <td>1</td>\n",
       "      <td>[https://www.theguardian.com/artanddesign/2020...</td>\n",
       "      <td>[The Guardian]</td>\n",
       "    </tr>\n",
       "    <tr>\n",
       "      <th>5</th>\n",
       "      <td>2020-01-03-030623</td>\n",
       "      <td>I'm not in medieval times!</td>\n",
       "      <td>Robin Van Persie</td>\n",
       "      <td>[male]</td>\n",
       "      <td>[Kingdom of the Netherlands]</td>\n",
       "      <td>[association football player]</td>\n",
       "      <td>Q2339</td>\n",
       "      <td>2020-01-03 22:32:10</td>\n",
       "      <td>94</td>\n",
       "      <td>[https://www.thesun.co.uk/sport/football/10666...</td>\n",
       "      <td>[The Sun]</td>\n",
       "    </tr>\n",
       "  </tbody>\n",
       "</table>\n",
       "</div>"
      ],
      "text/plain": [
       "             quoteID  ...      newspapers\n",
       "0  2020-01-31-008580  ...  [The Guardian]\n",
       "1  2020-01-20-006469  ...       [The Sun]\n",
       "3  2020-04-15-018814  ...       [The Sun]\n",
       "4  2020-02-16-014286  ...  [The Guardian]\n",
       "5  2020-01-03-030623  ...       [The Sun]\n",
       "\n",
       "[5 rows x 11 columns]"
      ]
     },
     "execution_count": 36,
     "metadata": {},
     "output_type": "execute_result"
    }
   ],
   "source": [
    "# Creation of DataFrame, male speakers\n",
    "# The gender column contains lists. A mask is created to select values\n",
    "# upon conditions in the list.\n",
    "mask_males = df_2020.gender.apply(lambda x: 'male' in x)\n",
    "males_df = df_2020[mask_males]\n",
    "males_df.head()"
   ]
  },
  {
   "cell_type": "code",
   "execution_count": 37,
   "metadata": {
    "colab": {
     "base_uri": "https://localhost:8080/",
     "height": 632
    },
    "id": "nhdMRSEC-V86",
    "outputId": "2eb6d213-5295-4953-bdab-f2662eec5033"
   },
   "outputs": [
    {
     "data": {
      "text/html": [
       "<div>\n",
       "<style scoped>\n",
       "    .dataframe tbody tr th:only-of-type {\n",
       "        vertical-align: middle;\n",
       "    }\n",
       "\n",
       "    .dataframe tbody tr th {\n",
       "        vertical-align: top;\n",
       "    }\n",
       "\n",
       "    .dataframe thead th {\n",
       "        text-align: right;\n",
       "    }\n",
       "</style>\n",
       "<table border=\"1\" class=\"dataframe\">\n",
       "  <thead>\n",
       "    <tr style=\"text-align: right;\">\n",
       "      <th></th>\n",
       "      <th>quoteID</th>\n",
       "      <th>quotation</th>\n",
       "      <th>speaker</th>\n",
       "      <th>gender</th>\n",
       "      <th>nationality</th>\n",
       "      <th>occupation</th>\n",
       "      <th>qid</th>\n",
       "      <th>date</th>\n",
       "      <th>numOccurrences</th>\n",
       "      <th>urls</th>\n",
       "      <th>newspapers</th>\n",
       "    </tr>\n",
       "  </thead>\n",
       "  <tbody>\n",
       "    <tr>\n",
       "      <th>2</th>\n",
       "      <td>2020-04-03-006933</td>\n",
       "      <td>Been home-schooling a 6-year-old and 8-year-ol...</td>\n",
       "      <td>Shonda Rhimes</td>\n",
       "      <td>[female]</td>\n",
       "      <td>[United States of America]</td>\n",
       "      <td>[film director, screenwriter, writer, film pro...</td>\n",
       "      <td>Q242329</td>\n",
       "      <td>2020-04-03 16:00:00</td>\n",
       "      <td>1</td>\n",
       "      <td>[http://www.thetimes.co.uk/edition/magazine/ca...</td>\n",
       "      <td>[The Times]</td>\n",
       "    </tr>\n",
       "    <tr>\n",
       "      <th>8</th>\n",
       "      <td>2020-04-08-075398</td>\n",
       "      <td>Your positivity on screen makes so many people...</td>\n",
       "      <td>HOLLY Willoughby</td>\n",
       "      <td>[female]</td>\n",
       "      <td>[United Kingdom]</td>\n",
       "      <td>[television presenter, model]</td>\n",
       "      <td>Q1395713</td>\n",
       "      <td>2020-04-08 07:10:04</td>\n",
       "      <td>1</td>\n",
       "      <td>[https://www.thesun.co.uk/tvandshowbiz/1135207...</td>\n",
       "      <td>[The Sun]</td>\n",
       "    </tr>\n",
       "    <tr>\n",
       "      <th>12</th>\n",
       "      <td>2020-01-07-028035</td>\n",
       "      <td>I saw Snoop Dogg and given the fact I have met...</td>\n",
       "      <td>Nicole Scherzinger</td>\n",
       "      <td>[female]</td>\n",
       "      <td>[United States of America]</td>\n",
       "      <td>[actor, singer, dancer, musician, composer, re...</td>\n",
       "      <td>Q167696</td>\n",
       "      <td>2020-01-07 22:30:07</td>\n",
       "      <td>1</td>\n",
       "      <td>[https://www.thesun.co.uk/tvandshowbiz/1069315...</td>\n",
       "      <td>[The Sun]</td>\n",
       "    </tr>\n",
       "    <tr>\n",
       "      <th>26</th>\n",
       "      <td>2020-02-12-041734</td>\n",
       "      <td>I won't be staying by myself tonight.</td>\n",
       "      <td>Kelly Brook</td>\n",
       "      <td>[female]</td>\n",
       "      <td>[United Kingdom]</td>\n",
       "      <td>[actor, model, film actor, television presenter]</td>\n",
       "      <td>Q255060</td>\n",
       "      <td>2020-02-12 22:34:08</td>\n",
       "      <td>104</td>\n",
       "      <td>[https://www.thesun.co.uk/tvandshowbiz/1095236...</td>\n",
       "      <td>[The Sun]</td>\n",
       "    </tr>\n",
       "    <tr>\n",
       "      <th>29</th>\n",
       "      <td>2020-02-24-048695</td>\n",
       "      <td>She's got as hammock, going back to my jungle ...</td>\n",
       "      <td>JACQUELINE Jossa</td>\n",
       "      <td>[female]</td>\n",
       "      <td>[United Kingdom]</td>\n",
       "      <td>[actor]</td>\n",
       "      <td>Q6120126</td>\n",
       "      <td>2020-02-24 12:16:46</td>\n",
       "      <td>1</td>\n",
       "      <td>[https://www.thesun.co.uk/tvandshowbiz/1102843...</td>\n",
       "      <td>[The Sun]</td>\n",
       "    </tr>\n",
       "  </tbody>\n",
       "</table>\n",
       "</div>"
      ],
      "text/plain": [
       "              quoteID  ...   newspapers\n",
       "2   2020-04-03-006933  ...  [The Times]\n",
       "8   2020-04-08-075398  ...    [The Sun]\n",
       "12  2020-01-07-028035  ...    [The Sun]\n",
       "26  2020-02-12-041734  ...    [The Sun]\n",
       "29  2020-02-24-048695  ...    [The Sun]\n",
       "\n",
       "[5 rows x 11 columns]"
      ]
     },
     "execution_count": 37,
     "metadata": {},
     "output_type": "execute_result"
    }
   ],
   "source": [
    "# Creation of DataFrame, female speakers\n",
    "mask_females = df_2020.gender.apply(lambda x: 'female' in x)\n",
    "females_df = df_2020[mask_females]\n",
    "females_df.head()"
   ]
  },
  {
   "cell_type": "code",
   "execution_count": 38,
   "metadata": {
    "colab": {
     "base_uri": "https://localhost:8080/",
     "height": 342
    },
    "id": "jerdRXxq-xJA",
    "outputId": "13e4c9f1-bf26-44a5-cead-ace555d1c55b"
   },
   "outputs": [
    {
     "data": {
      "image/png": "[encoded data removed]",
      "text/plain": [
       "<Figure size 1080x360 with 2 Axes>"
      ]
     },
     "metadata": {
      "needs_background": "light"
     },
     "output_type": "display_data"
    }
   ],
   "source": [
    "# Distribution of male and female speakers regarding the number of occurrences of quotes\n",
    "fig, axs = plt.subplots(1,2, sharey='row')\n",
    "axs[0].set_title(\"males\")\n",
    "axs[1].set_title(\"females\")\n",
    "sns.boxplot(y='numOccurrences', data = males_df, ax = axs[0])\n",
    "sns.boxplot(y='numOccurrences', data = females_df, ax = axs[1])\n",
    "fig.suptitle('Number of occurrences per gender')\n",
    "fig.set_size_inches(15,5)\n",
    "plt.show()"
   ]
  },
  {
   "cell_type": "markdown",
   "metadata": {
    "id": "nuklerrhu2CQ"
   },
   "source": [
    "There are seem to be some wide spread quotes. Let us have a look:"
   ]
  },
  {
   "cell_type": "code",
   "execution_count": 39,
   "metadata": {
    "colab": {
     "base_uri": "https://localhost:8080/",
     "height": 759
    },
    "id": "UzGd53BT_C1V",
    "outputId": "b8c26d90-3a44-4efd-fa45-92bff2b0a6df"
   },
   "outputs": [
    {
     "data": {
      "text/html": [
       "<div>\n",
       "<style scoped>\n",
       "    .dataframe tbody tr th:only-of-type {\n",
       "        vertical-align: middle;\n",
       "    }\n",
       "\n",
       "    .dataframe tbody tr th {\n",
       "        vertical-align: top;\n",
       "    }\n",
       "\n",
       "    .dataframe thead th {\n",
       "        text-align: right;\n",
       "    }\n",
       "</style>\n",
       "<table border=\"1\" class=\"dataframe\">\n",
       "  <thead>\n",
       "    <tr style=\"text-align: right;\">\n",
       "      <th></th>\n",
       "      <th>quoteID</th>\n",
       "      <th>quotation</th>\n",
       "      <th>speaker</th>\n",
       "      <th>gender</th>\n",
       "      <th>nationality</th>\n",
       "      <th>occupation</th>\n",
       "      <th>qid</th>\n",
       "      <th>date</th>\n",
       "      <th>numOccurrences</th>\n",
       "      <th>urls</th>\n",
       "      <th>newspapers</th>\n",
       "    </tr>\n",
       "  </thead>\n",
       "  <tbody>\n",
       "    <tr>\n",
       "      <th>2759</th>\n",
       "      <td>2020-01-24-061521</td>\n",
       "      <td>Of course, this depends on whether this contin...</td>\n",
       "      <td>Chris Witty</td>\n",
       "      <td>[female]</td>\n",
       "      <td>[United States of America]</td>\n",
       "      <td>[speed skater, sport cyclist]</td>\n",
       "      <td>Q273505</td>\n",
       "      <td>2020-01-24 16:03:09</td>\n",
       "      <td>354</td>\n",
       "      <td>[http://www.expressandstar.com/news/uk-news/20...</td>\n",
       "      <td>[The Sun]</td>\n",
       "    </tr>\n",
       "    <tr>\n",
       "      <th>8012</th>\n",
       "      <td>2020-01-16-021077</td>\n",
       "      <td>gentlemen's club of politics.</td>\n",
       "      <td>Rebecca Long-Bailey</td>\n",
       "      <td>[female]</td>\n",
       "      <td>[United Kingdom]</td>\n",
       "      <td>[lawyer, politician]</td>\n",
       "      <td>Q19979355</td>\n",
       "      <td>2020-01-16 22:31:27</td>\n",
       "      <td>375</td>\n",
       "      <td>[http://andoveradvertiser.co.uk/news/national/...</td>\n",
       "      <td>[The Sun]</td>\n",
       "    </tr>\n",
       "    <tr>\n",
       "      <th>9484</th>\n",
       "      <td>2020-01-19-037423</td>\n",
       "      <td>That's really why we're here -- to pitch.</td>\n",
       "      <td>Duchess of Sussex</td>\n",
       "      <td>[female]</td>\n",
       "      <td>[United States of America]</td>\n",
       "      <td>[actor, model, television actor, patron of the...</td>\n",
       "      <td>Q3304418</td>\n",
       "      <td>2020-01-19 00:00:00</td>\n",
       "      <td>304</td>\n",
       "      <td>[http://feeds.foxnews.com/~r/foxnews/entertain...</td>\n",
       "      <td>[The Sun]</td>\n",
       "    </tr>\n",
       "    <tr>\n",
       "      <th>10814</th>\n",
       "      <td>2020-01-24-108786</td>\n",
       "      <td>What we don't know is how far it's going to sp...</td>\n",
       "      <td>Chris Witty</td>\n",
       "      <td>[female]</td>\n",
       "      <td>[United States of America]</td>\n",
       "      <td>[speed skater, sport cyclist]</td>\n",
       "      <td>Q273505</td>\n",
       "      <td>2020-01-24 17:01:37</td>\n",
       "      <td>352</td>\n",
       "      <td>[http://ardrossanherald.com/news/18185599.clea...</td>\n",
       "      <td>[The Sun]</td>\n",
       "    </tr>\n",
       "    <tr>\n",
       "      <th>10997</th>\n",
       "      <td>2020-02-15-022996</td>\n",
       "      <td>I'm trying to find the words but I can't.</td>\n",
       "      <td>Laura Whitmore</td>\n",
       "      <td>[female]</td>\n",
       "      <td>[Ireland]</td>\n",
       "      <td>[television presenter]</td>\n",
       "      <td>Q6499556</td>\n",
       "      <td>2020-02-15 00:00:00</td>\n",
       "      <td>379</td>\n",
       "      <td>[http://femalefirst.co.uk/tv/news/caroline-fla...</td>\n",
       "      <td>[The Sun]</td>\n",
       "    </tr>\n",
       "    <tr>\n",
       "      <th>15169</th>\n",
       "      <td>2020-03-26-049143</td>\n",
       "      <td>protect the public and keep people safe.</td>\n",
       "      <td>Priti Patel</td>\n",
       "      <td>[female]</td>\n",
       "      <td>[United Kingdom]</td>\n",
       "      <td>[politician]</td>\n",
       "      <td>Q575733</td>\n",
       "      <td>2020-03-26 15:43:08</td>\n",
       "      <td>315</td>\n",
       "      <td>[http://www.expressandstar.com/news/uk-news/20...</td>\n",
       "      <td>[The Sun]</td>\n",
       "    </tr>\n",
       "    <tr>\n",
       "      <th>15299</th>\n",
       "      <td>2020-02-02-030364</td>\n",
       "      <td>My first thoughts are with the victims, our br...</td>\n",
       "      <td>Priti Patel</td>\n",
       "      <td>[female]</td>\n",
       "      <td>[United Kingdom]</td>\n",
       "      <td>[politician]</td>\n",
       "      <td>Q575733</td>\n",
       "      <td>2020-02-02 15:35:09</td>\n",
       "      <td>565</td>\n",
       "      <td>[https://globalnews.ca/news/6496241/stabbings-...</td>\n",
       "      <td>[The Sun]</td>\n",
       "    </tr>\n",
       "    <tr>\n",
       "      <th>17635</th>\n",
       "      <td>2020-01-08-103116</td>\n",
       "      <td>work to become financially independent.</td>\n",
       "      <td>Duchess of Sussex</td>\n",
       "      <td>[female]</td>\n",
       "      <td>[United States of America]</td>\n",
       "      <td>[actor, model, television actor, patron of the...</td>\n",
       "      <td>Q3304418</td>\n",
       "      <td>2020-01-08 00:00:00</td>\n",
       "      <td>2037</td>\n",
       "      <td>[http://kaaltv.com/news/prince-harry-meghan-st...</td>\n",
       "      <td>[The Sun, The Guardian]</td>\n",
       "    </tr>\n",
       "  </tbody>\n",
       "</table>\n",
       "</div>"
      ],
      "text/plain": [
       "                 quoteID  ...               newspapers\n",
       "2759   2020-01-24-061521  ...                [The Sun]\n",
       "8012   2020-01-16-021077  ...                [The Sun]\n",
       "9484   2020-01-19-037423  ...                [The Sun]\n",
       "10814  2020-01-24-108786  ...                [The Sun]\n",
       "10997  2020-02-15-022996  ...                [The Sun]\n",
       "15169  2020-03-26-049143  ...                [The Sun]\n",
       "15299  2020-02-02-030364  ...                [The Sun]\n",
       "17635  2020-01-08-103116  ...  [The Sun, The Guardian]\n",
       "\n",
       "[8 rows x 11 columns]"
      ]
     },
     "execution_count": 39,
     "metadata": {},
     "output_type": "execute_result"
    }
   ],
   "source": [
    "females_df.loc[females_df.numOccurrences >= 300]"
   ]
  },
  {
   "cell_type": "code",
   "execution_count": 40,
   "metadata": {
    "colab": {
     "base_uri": "https://localhost:8080/",
     "height": 1000
    },
    "id": "3eeKt0Ycu2CQ",
    "outputId": "3e4ca9c7-45f5-485c-8369-907ea334aa1b"
   },
   "outputs": [
    {
     "data": {
      "text/html": [
       "<div>\n",
       "<style scoped>\n",
       "    .dataframe tbody tr th:only-of-type {\n",
       "        vertical-align: middle;\n",
       "    }\n",
       "\n",
       "    .dataframe tbody tr th {\n",
       "        vertical-align: top;\n",
       "    }\n",
       "\n",
       "    .dataframe thead th {\n",
       "        text-align: right;\n",
       "    }\n",
       "</style>\n",
       "<table border=\"1\" class=\"dataframe\">\n",
       "  <thead>\n",
       "    <tr style=\"text-align: right;\">\n",
       "      <th></th>\n",
       "      <th>quoteID</th>\n",
       "      <th>quotation</th>\n",
       "      <th>speaker</th>\n",
       "      <th>gender</th>\n",
       "      <th>nationality</th>\n",
       "      <th>occupation</th>\n",
       "      <th>qid</th>\n",
       "      <th>date</th>\n",
       "      <th>numOccurrences</th>\n",
       "      <th>urls</th>\n",
       "      <th>newspapers</th>\n",
       "    </tr>\n",
       "  </thead>\n",
       "  <tbody>\n",
       "    <tr>\n",
       "      <th>1897</th>\n",
       "      <td>2020-01-07-005600</td>\n",
       "      <td>appears to be standing down.</td>\n",
       "      <td>President Donald Trump</td>\n",
       "      <td>[male]</td>\n",
       "      <td>[United States of America]</td>\n",
       "      <td>[business magnate, investor, restaurateur, non...</td>\n",
       "      <td>Q22686</td>\n",
       "      <td>2020-01-07 23:52:00</td>\n",
       "      <td>759</td>\n",
       "      <td>[http://feeds.marketwatch.com/~r/marketwatch/b...</td>\n",
       "      <td>[The Times, The Sun]</td>\n",
       "    </tr>\n",
       "    <tr>\n",
       "      <th>4209</th>\n",
       "      <td>2020-02-07-059825</td>\n",
       "      <td>make it impossible for me to do my job.</td>\n",
       "      <td>William Barr</td>\n",
       "      <td>[male]</td>\n",
       "      <td>None</td>\n",
       "      <td>[engineer]</td>\n",
       "      <td>Q16683338</td>\n",
       "      <td>2020-02-07 00:00:00</td>\n",
       "      <td>1105</td>\n",
       "      <td>[http://www.canindia.com/trump-should-stop-twe...</td>\n",
       "      <td>[The Guardian]</td>\n",
       "    </tr>\n",
       "    <tr>\n",
       "      <th>5377</th>\n",
       "      <td>2020-02-04-073676</td>\n",
       "      <td>So, we have to do everything today using avail...</td>\n",
       "      <td>Tedros Adhanom Ghebreyesus</td>\n",
       "      <td>[male]</td>\n",
       "      <td>[Ethiopia]</td>\n",
       "      <td>[politician, microbiologist, malariologist]</td>\n",
       "      <td>Q16196017</td>\n",
       "      <td>2020-02-04 14:12:00</td>\n",
       "      <td>785</td>\n",
       "      <td>[https://www.wsbradio.com/lifestyles/atlanta-r...</td>\n",
       "      <td>[The Sun]</td>\n",
       "    </tr>\n",
       "    <tr>\n",
       "      <th>7111</th>\n",
       "      <td>2020-01-02-015905</td>\n",
       "      <td>He should have been taken out many years ago!,</td>\n",
       "      <td>President Donald Trump</td>\n",
       "      <td>[male]</td>\n",
       "      <td>[United States of America]</td>\n",
       "      <td>[business magnate, investor, restaurateur, non...</td>\n",
       "      <td>Q22686</td>\n",
       "      <td>2020-01-02 15:27:00</td>\n",
       "      <td>767</td>\n",
       "      <td>[http://timescolonist.com/iran-vows-revenge-fo...</td>\n",
       "      <td>[The Sun]</td>\n",
       "    </tr>\n",
       "    <tr>\n",
       "      <th>13195</th>\n",
       "      <td>2020-01-07-083106</td>\n",
       "      <td>`We do not seek escalation or war, but will de...</td>\n",
       "      <td>Mohammad Javad Zarif</td>\n",
       "      <td>[male]</td>\n",
       "      <td>[Iran]</td>\n",
       "      <td>[diplomat, politician]</td>\n",
       "      <td>Q10296812</td>\n",
       "      <td>2020-01-07 00:00:00</td>\n",
       "      <td>781</td>\n",
       "      <td>[http://feeds.foxnews.com/~r/foxnews/world/~3/...</td>\n",
       "      <td>[The Sun, The Times]</td>\n",
       "    </tr>\n",
       "    <tr>\n",
       "      <th>13470</th>\n",
       "      <td>2020-03-13-021876</td>\n",
       "      <td>I don't take responsibility at all,</td>\n",
       "      <td>President Donald Trump</td>\n",
       "      <td>[male]</td>\n",
       "      <td>[United States of America]</td>\n",
       "      <td>[business magnate, investor, restaurateur, non...</td>\n",
       "      <td>Q22686</td>\n",
       "      <td>2020-03-13 00:00:00</td>\n",
       "      <td>717</td>\n",
       "      <td>[http://digital.vpr.net/post/president-trump-d...</td>\n",
       "      <td>[The Sun]</td>\n",
       "    </tr>\n",
       "    <tr>\n",
       "      <th>17236</th>\n",
       "      <td>2020-03-22-038681</td>\n",
       "      <td>we cannot let the cure be worse than the probl...</td>\n",
       "      <td>President Donald Trump</td>\n",
       "      <td>[male]</td>\n",
       "      <td>[United States of America]</td>\n",
       "      <td>[business magnate, investor, restaurateur, non...</td>\n",
       "      <td>Q22686</td>\n",
       "      <td>2020-03-22 11:00:00</td>\n",
       "      <td>702</td>\n",
       "      <td>[https://www.duluthnewstribune.com/news/nation...</td>\n",
       "      <td>[The Sun]</td>\n",
       "    </tr>\n",
       "    <tr>\n",
       "      <th>19358</th>\n",
       "      <td>2020-01-21-011547</td>\n",
       "      <td>By all indications, we are going on to New Ham...</td>\n",
       "      <td>Pete Buttigieg</td>\n",
       "      <td>[male]</td>\n",
       "      <td>[United States of America]</td>\n",
       "      <td>[politician, military officer, statesperson]</td>\n",
       "      <td>Q7173106</td>\n",
       "      <td>2020-01-21 16:30:26</td>\n",
       "      <td>885</td>\n",
       "      <td>[https://www.inforum.com/news/government-and-p...</td>\n",
       "      <td>[The Guardian]</td>\n",
       "    </tr>\n",
       "    <tr>\n",
       "      <th>20023</th>\n",
       "      <td>2020-01-02-068709</td>\n",
       "      <td>weirdos and misfits with odd skills.</td>\n",
       "      <td>Dominic Cummings</td>\n",
       "      <td>[male]</td>\n",
       "      <td>[United Kingdom]</td>\n",
       "      <td>[political adviser]</td>\n",
       "      <td>Q24572712</td>\n",
       "      <td>2020-01-02 00:00:00</td>\n",
       "      <td>773</td>\n",
       "      <td>[http://uk.investing.com/news/economy/wanted-w...</td>\n",
       "      <td>[The Guardian, The Times]</td>\n",
       "    </tr>\n",
       "    <tr>\n",
       "      <th>20185</th>\n",
       "      <td>2020-01-31-079605</td>\n",
       "      <td>Terrorists seek to divide us and to destroy ou...</td>\n",
       "      <td>Sadiq Khan</td>\n",
       "      <td>[male]</td>\n",
       "      <td>[United Kingdom]</td>\n",
       "      <td>[politician, lawyer, solicitor]</td>\n",
       "      <td>Q334155</td>\n",
       "      <td>2020-01-31 00:00:00</td>\n",
       "      <td>914</td>\n",
       "      <td>[http://www.canindia.com/man-shot-dead-after-l...</td>\n",
       "      <td>[The Sun]</td>\n",
       "    </tr>\n",
       "    <tr>\n",
       "      <th>21247</th>\n",
       "      <td>2020-03-23-054028</td>\n",
       "      <td>That's all -- these are the only reasons you s...</td>\n",
       "      <td>Boris Johnson</td>\n",
       "      <td>[male]</td>\n",
       "      <td>[United States of America, United Kingdom]</td>\n",
       "      <td>[journalist, politician, editor, writer, essay...</td>\n",
       "      <td>Q180589</td>\n",
       "      <td>2020-03-23 17:01:37</td>\n",
       "      <td>907</td>\n",
       "      <td>[http://www.theglobeandmail.com/world/article-...</td>\n",
       "      <td>[The Sun]</td>\n",
       "    </tr>\n",
       "    <tr>\n",
       "      <th>23724</th>\n",
       "      <td>2020-01-14-009869</td>\n",
       "      <td>bung a bob for a Big Ben bong.</td>\n",
       "      <td>Boris Johnson</td>\n",
       "      <td>[male]</td>\n",
       "      <td>[United States of America, United Kingdom]</td>\n",
       "      <td>[journalist, politician, editor, writer, essay...</td>\n",
       "      <td>Q180589</td>\n",
       "      <td>2020-01-14 00:00:00</td>\n",
       "      <td>771</td>\n",
       "      <td>[http://www.foxnews.com/world/boris-johnson-ve...</td>\n",
       "      <td>[The Times, The Sun]</td>\n",
       "    </tr>\n",
       "  </tbody>\n",
       "</table>\n",
       "</div>"
      ],
      "text/plain": [
       "                 quoteID  ...                 newspapers\n",
       "1897   2020-01-07-005600  ...       [The Times, The Sun]\n",
       "4209   2020-02-07-059825  ...             [The Guardian]\n",
       "5377   2020-02-04-073676  ...                  [The Sun]\n",
       "7111   2020-01-02-015905  ...                  [The Sun]\n",
       "13195  2020-01-07-083106  ...       [The Sun, The Times]\n",
       "13470  2020-03-13-021876  ...                  [The Sun]\n",
       "17236  2020-03-22-038681  ...                  [The Sun]\n",
       "19358  2020-01-21-011547  ...             [The Guardian]\n",
       "20023  2020-01-02-068709  ...  [The Guardian, The Times]\n",
       "20185  2020-01-31-079605  ...                  [The Sun]\n",
       "21247  2020-03-23-054028  ...                  [The Sun]\n",
       "23724  2020-01-14-009869  ...       [The Times, The Sun]\n",
       "\n",
       "[12 rows x 11 columns]"
      ]
     },
     "execution_count": 40,
     "metadata": {},
     "output_type": "execute_result"
    }
   ],
   "source": [
    "males_df.loc[males_df.numOccurrences >= 700]"
   ]
  },
  {
   "cell_type": "markdown",
   "metadata": {
    "id": "J1jJIjcb7L4n"
   },
   "source": [
    "Seeing the distribution regarding the number of occurrences of quotes from male and female speakers, we can clearly see a stronger presence of male speakers in the newspapers. This supports the general hypothesis of a domination by men for quotes. This raises further questions for our analysis concerning: The evolution of this domination throughout the years and depending on different countries, the themes aborded by different genders or the representation of gender minorities."
   ]
  },
  {
   "cell_type": "markdown",
   "metadata": {
    "id": "6Z6wexAfu2CR"
   },
   "source": [
    "We will look at one last thing. How many quotes are originated from men and female **depending on the newspaper** (for now just our three newspapers)? This will be important for our further analysis."
   ]
  },
  {
   "cell_type": "code",
   "execution_count": 41,
   "metadata": {
    "colab": {
     "base_uri": "https://localhost:8080/",
     "height": 269
    },
    "id": "hVs7OYoeu2CR",
    "outputId": "fead0c1a-25d4-4ace-a4bc-8914844587e8"
   },
   "outputs": [
    {
     "data": {
      "image/png": "[encoded data removed]",
      "text/plain": [
       "<Figure size 2880x720 with 3 Axes>"
      ]
     },
     "metadata": {
      "needs_background": "light"
     },
     "output_type": "display_data"
    }
   ],
   "source": [
    "#mask for each newspaper\n",
    "mask_sun = df_2020.newspapers.apply(lambda x: 'The Sun' in x)\n",
    "mask_guardian = df_2020.newspapers.apply(lambda x: 'The Guardian' in x)\n",
    "mask_times = df_2020.newspapers.apply(lambda x: 'The Times' in x)\n",
    "\n",
    "# we plot the distribution for each of them\n",
    "fig, axs = plt.subplots(1,3, sharey='row', figsize = (40,10))\n",
    "\n",
    "sns.barplot(x=convert(df_2020[mask_sun]['gender']).value_counts().index,\n",
    "        y=convert(df_2020[mask_sun]['gender']).value_counts().values, ax = axs[0])\n",
    "sns.barplot(x = convert(df_2020[mask_guardian]['gender']).value_counts().index,\n",
    "        y=convert(df_2020[mask_guardian]['gender']).value_counts().values, ax = axs[1])\n",
    "sns.barplot(x=convert(df_2020[mask_times]['gender']).value_counts().index,\n",
    "        y=convert(df_2020[mask_times]['gender']).value_counts().values, ax = axs[2])\n",
    "\n",
    "axs[0].set_title(\"The Sun\", size = 14)\n",
    "axs[1].set_title(\"The Guardian\", size = 14)\n",
    "axs[2].set_title(\"The Times\", size = 14)\n",
    "plt.tight_layout()"
   ]
  },
  {
   "cell_type": "markdown",
   "metadata": {
    "id": "OQ9k08QZx6C3"
   },
   "source": [
    "We can see that all three of newspapers have more quotes (twice as much) written by men than by women. We can also see that The Sun is the most cited newspaper, and The Times seems to include very few gender minorities."
   ]
  }
 ],
 "metadata": {
  "colab": {
   "collapsed_sections": [],
   "include_colab_link": true,
   "name": "Copy of Copy of main.ipynb",
   "provenance": []
  },
  "kernelspec": {
   "display_name": "Python 3 (ipykernel)",
   "language": "python",
   "name": "python3"
  },
  "language_info": {
   "codemirror_mode": {
    "name": "ipython",
    "version": 3
   },
   "file_extension": ".py",
   "mimetype": "text/x-python",
   "name": "python",
   "nbconvert_exporter": "python",
   "pygments_lexer": "ipython3",
   "version": "3.8.11"
  }
 },
 "nbformat": 4,
 "nbformat_minor": 4
}

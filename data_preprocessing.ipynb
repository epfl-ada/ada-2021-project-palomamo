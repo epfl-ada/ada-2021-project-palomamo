{
  "cells": [
    {
      "cell_type": "markdown",
      "metadata": {
        "id": "view-in-github",
        "colab_type": "text"
      },
      "source": [
        "<a href=\"https://colab.research.google.com/github/morwald/ada_project/blob/master/data_preprocessing.ipynb\" target=\"_parent\"><img src=\"https://colab.research.google.com/assets/colab-badge.svg\" alt=\"Open In Colab\"/></a>"
      ]
    },
    {
      "cell_type": "markdown",
      "metadata": {
        "id": "7txCTyrTM0qJ"
      },
      "source": [
        "# Analysis of gender distribution in UK's leading newspapers\n",
        "# Data preprocessing"
      ]
    },
    {
      "cell_type": "markdown",
      "metadata": {
        "id": "ucef3_UkM0qP"
      },
      "source": [
        "## Content\n",
        "1. [Setup](#setup)   \n",
        "    1.1 [Global](#global_setup)  \n",
        "    1.2 [Local](#local_setup)\n",
        "2. [Data preparation and cleaning](#data_prep)  \n",
        "    2.1 [Data organisation](#data_org)    \n",
        "    2.2 [Columns and rows selection](#cols_rows_select)  \n",
        "    2.3 [News paper selection](#newspaper_select)    \n",
        "    2.4 [Filtering raw data](#filtering_raw_data)\n",
        "3. [Additional data set: speaker attributes](#additional_dataset)    \n",
        "    3.1 [Explore attributes](#explore_attr)  \n",
        "    3.2 [Merge speaker attributes](#merge_speaker_attr)    \n",
        "3. [Sanity check](#sanity_check)"
      ]
    },
    {
      "cell_type": "markdown",
      "metadata": {
        "id": "owgTJarZM0qP",
        "tags": []
      },
      "source": [
        "## 1. Setup\n",
        "<a id=\"setup\"></a>"
      ]
    },
    {
      "cell_type": "markdown",
      "metadata": {
        "id": "WeXV7mcJgYR3"
      },
      "source": [
        "### 1.1 Global\n",
        "<a id=\"global_setup\"></a>"
      ]
    },
    {
      "cell_type": "code",
      "execution_count": 1,
      "metadata": {
        "id": "hzfP-W7znkx3",
        "colab": {
          "base_uri": "https://localhost:8080/"
        },
        "outputId": "e61b770e-6f64-4122-ac1e-3a4e5065bf2b"
      },
      "outputs": [
        {
          "output_type": "stream",
          "name": "stdout",
          "text": [
            "Mounted at /content/drive\n",
            "/content/drive/Shareddrives/ADA-project\n",
            "Requirement already satisfied: pandas==1.0.5 in /usr/local/lib/python3.7/dist-packages (1.0.5)\n",
            "Requirement already satisfied: numpy>=1.13.3 in /usr/local/lib/python3.7/dist-packages (from pandas==1.0.5) (1.19.5)\n",
            "Requirement already satisfied: pytz>=2017.2 in /usr/local/lib/python3.7/dist-packages (from pandas==1.0.5) (2018.9)\n",
            "Requirement already satisfied: python-dateutil>=2.6.1 in /usr/local/lib/python3.7/dist-packages (from pandas==1.0.5) (2.8.2)\n",
            "Requirement already satisfied: six>=1.5 in /usr/local/lib/python3.7/dist-packages (from python-dateutil>=2.6.1->pandas==1.0.5) (1.15.0)\n"
          ]
        }
      ],
      "source": [
        "# Change to true if you want to use google colab\n",
        "use_colab = True\n",
        "\n",
        "# Import with EPFL google drive!\n",
        "if use_colab:\n",
        "    from google.colab import drive\n",
        "    drive._mount('/content/drive', force_remount=True)\n",
        "    %cd /content/drive/Shareddrives/ADA-project\n",
        "    !pip install pandas==1.0.5 # downgrade pandas for chunk processing support"
      ]
    },
    {
      "cell_type": "code",
      "execution_count": 2,
      "metadata": {
        "id": "rOVbfbrbgYR5",
        "scrolled": true
      },
      "outputs": [],
      "source": [
        "# Defined paths for the data\n",
        "from scripts.path_defs import *\n",
        "\n",
        "# Defined newspapers and urls\n",
        "from scripts.newspapers import *\n",
        "\n",
        "# Globally used functions\n",
        "from scripts.utility_functions import load_mini_version_of_data"
      ]
    },
    {
      "cell_type": "markdown",
      "metadata": {
        "id": "5yqsvZuAM0qQ"
      },
      "source": [
        "### 1.2 Local \n",
        "<a id=\"local_setup\"></a>"
      ]
    },
    {
      "cell_type": "code",
      "execution_count": 3,
      "metadata": {
        "id": "GFoAWQprM0qQ"
      },
      "outputs": [],
      "source": [
        "import pandas as pd\n",
        "import numpy as np\n",
        "import seaborn as sns\n",
        "import matplotlib.pyplot as plt\n",
        "import json\n",
        "import bz2"
      ]
    },
    {
      "cell_type": "markdown",
      "metadata": {
        "id": "e3X94ETfM0qU",
        "tags": []
      },
      "source": [
        "## 2. Data preparation and cleaning\n",
        "<a id=\"data_prep\"></a>\n",
        "\n",
        "The quotebank dataset is too large to directly access it with a dataframe. This section provides all the steps to filter the data we need for our analysis. The filtering and preparation is done based on our research questions. Please check the README for details.\n",
        "\n",
        "The data preperation can be done on a per year basis of the Quotebank data set."
      ]
    },
    {
      "cell_type": "markdown",
      "metadata": {
        "id": "KKWfSxjgM0qR"
      },
      "source": [
        "### 2.1 Data organization\n",
        "<a id=\"data_paths\"></a>\n",
        "\n",
        "**The paths are defined in _helpers/path_defs.py_.**\n",
        "\n",
        "When using Google Colab the ```use_colab``` variable has to be set to true. This way the files can be accessed directly from our shared drive. If you want to work locally the raw and filtered data have to be stored locally in the root folder under _Quotebank_ and _Filtered data_. The finally merged and cleaned data will be stored in _Merged data_ in a pickle format. To execute section the [Data preparation and cleaning](#data_prep), the raw data in the folder _Quotebank_ is needed but this section has to be executed only once.\n",
        "\n",
        "You can download the raw data here: [Quotebank](https://zenodo.org/record/4277311#.YYzk6_oo9hE)\n",
        "\n",
        "The addtional dataset can be found here: [Speakers](https://drive.google.com/drive/folders/1VAFHacZFh0oxSxilgNByb1nlNsqznUf0)"
      ]
    },
    {
      "cell_type": "markdown",
      "metadata": {
        "id": "0aBizKy0M0qV"
      },
      "source": [
        "### 2.2 Column and row selection\n",
        "<a id=\"cols_rows_select\"></a>"
      ]
    },
    {
      "cell_type": "code",
      "execution_count": null,
      "metadata": {
        "colab": {
          "base_uri": "https://localhost:8080/",
          "height": 289
        },
        "id": "DDiGK7IoM0qV",
        "outputId": "e9359855-41d1-4940-e30f-99fbb8908c5f"
      },
      "outputs": [
        {
          "data": {
            "text/html": [
              "<div>\n",
              "<style scoped>\n",
              "    .dataframe tbody tr th:only-of-type {\n",
              "        vertical-align: middle;\n",
              "    }\n",
              "\n",
              "    .dataframe tbody tr th {\n",
              "        vertical-align: top;\n",
              "    }\n",
              "\n",
              "    .dataframe thead th {\n",
              "        text-align: right;\n",
              "    }\n",
              "</style>\n",
              "<table border=\"1\" class=\"dataframe\">\n",
              "  <thead>\n",
              "    <tr style=\"text-align: right;\">\n",
              "      <th></th>\n",
              "      <th>quoteID</th>\n",
              "      <th>quotation</th>\n",
              "      <th>speaker</th>\n",
              "      <th>qids</th>\n",
              "      <th>date</th>\n",
              "      <th>numOccurrences</th>\n",
              "      <th>probas</th>\n",
              "      <th>urls</th>\n",
              "      <th>phase</th>\n",
              "    </tr>\n",
              "  </thead>\n",
              "  <tbody>\n",
              "    <tr>\n",
              "      <th>0</th>\n",
              "      <td>2020-01-28-000082</td>\n",
              "      <td>[ D ] espite the efforts of the partners to cr...</td>\n",
              "      <td>None</td>\n",
              "      <td>[]</td>\n",
              "      <td>2020-01-28 08:04:05</td>\n",
              "      <td>1</td>\n",
              "      <td>[[None, 0.7272], [Prime Minister Netanyahu, 0....</td>\n",
              "      <td>[http://israelnationalnews.com/News/News.aspx/...</td>\n",
              "      <td>E</td>\n",
              "    </tr>\n",
              "    <tr>\n",
              "      <th>1</th>\n",
              "      <td>2020-01-16-000088</td>\n",
              "      <td>[ Department of Homeland Security ] was livid ...</td>\n",
              "      <td>Sue Myrick</td>\n",
              "      <td>[Q367796]</td>\n",
              "      <td>2020-01-16 12:00:13</td>\n",
              "      <td>1</td>\n",
              "      <td>[[Sue Myrick, 0.8867], [None, 0.0992], [Ron Wy...</td>\n",
              "      <td>[http://thehill.com/opinion/international/4782...</td>\n",
              "      <td>E</td>\n",
              "    </tr>\n",
              "    <tr>\n",
              "      <th>2</th>\n",
              "      <td>2020-02-10-000142</td>\n",
              "      <td>... He (Madhav) also disclosed that the illega...</td>\n",
              "      <td>None</td>\n",
              "      <td>[]</td>\n",
              "      <td>2020-02-10 23:45:54</td>\n",
              "      <td>1</td>\n",
              "      <td>[[None, 0.8926], [Prakash Rai, 0.1074]]</td>\n",
              "      <td>[https://indianexpress.com/article/business/ec...</td>\n",
              "      <td>E</td>\n",
              "    </tr>\n",
              "    <tr>\n",
              "      <th>3</th>\n",
              "      <td>2020-02-15-000053</td>\n",
              "      <td>... [ I ] f it gets to the floor,</td>\n",
              "      <td>None</td>\n",
              "      <td>[]</td>\n",
              "      <td>2020-02-15 14:12:51</td>\n",
              "      <td>2</td>\n",
              "      <td>[[None, 0.581], [Andy Harris, 0.4191]]</td>\n",
              "      <td>[https://patriotpost.us/opinion/68622-trump-bu...</td>\n",
              "      <td>E</td>\n",
              "    </tr>\n",
              "    <tr>\n",
              "      <th>4</th>\n",
              "      <td>2020-01-24-000168</td>\n",
              "      <td>[ I met them ] when they just turned 4 and 7. ...</td>\n",
              "      <td>Meghan King Edmonds</td>\n",
              "      <td>[Q20684375]</td>\n",
              "      <td>2020-01-24 20:37:09</td>\n",
              "      <td>4</td>\n",
              "      <td>[[Meghan King Edmonds, 0.5446], [None, 0.2705]...</td>\n",
              "      <td>[https://people.com/parents/meghan-king-edmond...</td>\n",
              "      <td>E</td>\n",
              "    </tr>\n",
              "  </tbody>\n",
              "</table>\n",
              "</div>"
            ],
            "text/plain": [
              "             quoteID  ... phase\n",
              "0  2020-01-28-000082  ...     E\n",
              "1  2020-01-16-000088  ...     E\n",
              "2  2020-02-10-000142  ...     E\n",
              "3  2020-02-15-000053  ...     E\n",
              "4  2020-01-24-000168  ...     E\n",
              "\n",
              "[5 rows x 9 columns]"
            ]
          },
          "execution_count": 4,
          "metadata": {},
          "output_type": "execute_result"
        }
      ],
      "source": [
        "# A quick look at a small subset of the data of the selected year\n",
        "year_sample_df = load_mini_version_of_data(RAW_QUOTES_2020_PATH, 10000, 10, use_colab)\n",
        "year_sample_df.head()"
      ]
    },
    {
      "cell_type": "code",
      "execution_count": null,
      "metadata": {
        "colab": {
          "base_uri": "https://localhost:8080/"
        },
        "id": "hBzK83L9M0qW",
        "outputId": "e3d293df-5110-45e5-c176-638b00b87002",
        "scrolled": true
      },
      "outputs": [
        {
          "data": {
            "text/plain": [
              "34316"
            ]
          },
          "execution_count": 5,
          "metadata": {},
          "output_type": "execute_result"
        }
      ],
      "source": [
        "# How many quotations don't have an assigned speaker?\n",
        "sum(year_sample_df['speaker'] == 'None')"
      ]
    },
    {
      "cell_type": "markdown",
      "metadata": {
        "id": "DH6Hbvv_M0qW"
      },
      "source": [
        "The cell above shows that there around 1/3 of the quotations are 'None' speakers. As we want to make a gender based study we will not need these rows. This eliminitation will drasticly reduce the size of the data we have to analyse.\n",
        "\n",
        "Furthermore the colums which aren't of interest for our study are:\\\n",
        "**phase**: We don't care. \\\n",
        "**probas**: We will select the speaker with highest probablity (note that 'None' speakers are already neglected)."
      ]
    },
    {
      "cell_type": "markdown",
      "metadata": {
        "id": "Mw_WR9hCM0qX"
      },
      "source": [
        "### 2.3 Newspaper selection\n",
        "<a id=\"nespaper_select\"></a>\n",
        "We will first pick quotations of **14** newspapers in the UK with the most reach both in prints and digital reach. See [this](https://www.statista.com/statistics/246077/reach-of-selected-national-newspapers-in-the-uk/) statistic for more details. Additionally for circulation regarding printed versions we used this wikipedia [article](https://en.wikipedia.org/wiki/List_of_newspapers_in_the_United_Kingdom_by_circulation). Newspapers and their urls are defined in _scripts/newspapers.py_."
      ]
    },
    {
      "cell_type": "code",
      "execution_count": null,
      "metadata": {
        "colab": {
          "base_uri": "https://localhost:8080/",
          "height": 483
        },
        "id": "MqiT955RM0qX",
        "outputId": "019ae97c-89fa-449d-df82-62c2e30b7886"
      },
      "outputs": [
        {
          "data": {
            "text/html": [
              "<div>\n",
              "<style scoped>\n",
              "    .dataframe tbody tr th:only-of-type {\n",
              "        vertical-align: middle;\n",
              "    }\n",
              "\n",
              "    .dataframe tbody tr th {\n",
              "        vertical-align: top;\n",
              "    }\n",
              "\n",
              "    .dataframe thead th {\n",
              "        text-align: right;\n",
              "    }\n",
              "</style>\n",
              "<table border=\"1\" class=\"dataframe\">\n",
              "  <thead>\n",
              "    <tr style=\"text-align: right;\">\n",
              "      <th></th>\n",
              "      <th>name</th>\n",
              "      <th>website_url</th>\n",
              "    </tr>\n",
              "  </thead>\n",
              "  <tbody>\n",
              "    <tr>\n",
              "      <th>0</th>\n",
              "      <td>The Sun</td>\n",
              "      <td>thesun.co.uk</td>\n",
              "    </tr>\n",
              "    <tr>\n",
              "      <th>1</th>\n",
              "      <td>The Guardian</td>\n",
              "      <td>theguardian.com</td>\n",
              "    </tr>\n",
              "    <tr>\n",
              "      <th>2</th>\n",
              "      <td>The Times</td>\n",
              "      <td>thetimes.co.uk</td>\n",
              "    </tr>\n",
              "    <tr>\n",
              "      <th>3</th>\n",
              "      <td>Metro</td>\n",
              "      <td>metro.co.uk</td>\n",
              "    </tr>\n",
              "    <tr>\n",
              "      <th>4</th>\n",
              "      <td>Evening Standard</td>\n",
              "      <td>standard.co.uk</td>\n",
              "    </tr>\n",
              "    <tr>\n",
              "      <th>5</th>\n",
              "      <td>Daily Mirror</td>\n",
              "      <td>mirror.co.uk</td>\n",
              "    </tr>\n",
              "    <tr>\n",
              "      <th>6</th>\n",
              "      <td>The Daily Telegraph</td>\n",
              "      <td>telegraph.co.uk</td>\n",
              "    </tr>\n",
              "    <tr>\n",
              "      <th>7</th>\n",
              "      <td>Daily Express</td>\n",
              "      <td>express.co.uk</td>\n",
              "    </tr>\n",
              "    <tr>\n",
              "      <th>8</th>\n",
              "      <td>Daily Star</td>\n",
              "      <td>dailystar.co.uk</td>\n",
              "    </tr>\n",
              "    <tr>\n",
              "      <th>9</th>\n",
              "      <td>i</td>\n",
              "      <td>inews.co.uk</td>\n",
              "    </tr>\n",
              "    <tr>\n",
              "      <th>10</th>\n",
              "      <td>Financial Times</td>\n",
              "      <td>ft.com</td>\n",
              "    </tr>\n",
              "    <tr>\n",
              "      <th>11</th>\n",
              "      <td>Daily Mail</td>\n",
              "      <td>dailymail.co.uk</td>\n",
              "    </tr>\n",
              "    <tr>\n",
              "      <th>12</th>\n",
              "      <td>Daily Record</td>\n",
              "      <td>dailyrecord.co.uk</td>\n",
              "    </tr>\n",
              "    <tr>\n",
              "      <th>13</th>\n",
              "      <td>City A.M.</td>\n",
              "      <td>cityam.com</td>\n",
              "    </tr>\n",
              "  </tbody>\n",
              "</table>\n",
              "</div>"
            ],
            "text/plain": [
              "                   name        website_url\n",
              "0               The Sun       thesun.co.uk\n",
              "1          The Guardian    theguardian.com\n",
              "2             The Times     thetimes.co.uk\n",
              "3                 Metro        metro.co.uk\n",
              "4      Evening Standard     standard.co.uk\n",
              "5          Daily Mirror       mirror.co.uk\n",
              "6   The Daily Telegraph    telegraph.co.uk\n",
              "7         Daily Express      express.co.uk\n",
              "8            Daily Star    dailystar.co.uk\n",
              "9                     i        inews.co.uk\n",
              "10      Financial Times             ft.com\n",
              "11           Daily Mail    dailymail.co.uk\n",
              "12         Daily Record  dailyrecord.co.uk\n",
              "13            City A.M.         cityam.com"
            ]
          },
          "execution_count": 5,
          "metadata": {},
          "output_type": "execute_result"
        }
      ],
      "source": [
        "# List of selected newspapers and their urls for our main analysis on the UK\n",
        "# Dataframe\n",
        "newspapers_df = pd.DataFrame(newspapers_uk_list, columns=['name', 'website_url'])\n",
        "newspapers_df.head(14)"
      ]
    },
    {
      "cell_type": "markdown",
      "metadata": {
        "id": "7PSbHGGtM0qX"
      },
      "source": [
        "### 2.4 Filtering raw data\n",
        "<a id=\"filtering_raw_data\"></a>\n",
        "\n",
        "Following the reasoning above we can extract the infos needed from the compressed file of one year of quotations. Let's create a helper function to check the urls of a quotation:"
      ]
    },
    {
      "cell_type": "code",
      "execution_count": null,
      "metadata": {
        "id": "902eh0g-cu78"
      },
      "outputs": [],
      "source": [
        "def filter_data(path_in, path_out, newspapers_df):\n",
        "  # Loop through all instances of json file and extract the desired rows\n",
        "  # Save the file in the filtered data directory\n",
        "  with bz2.open(path_in, 'rb') as s_file:\n",
        "      with bz2.open(path_out, 'wb') as d_file:\n",
        "          for instance in s_file:\n",
        "              instance = json.loads(instance) # loading a sample\n",
        "              if instance['speaker'] == 'None': # if the speaker is None we don't keep it and go to next iteration\n",
        "                  continue\n",
        "              urls = instance['urls'] # extracting list of links\n",
        "              newspapers = []\n",
        "              for url in urls:\n",
        "                  for name, website_url in zip(newspapers_df['name'],newspapers_df['website_url']): \n",
        "                      if website_url in url: # if the url of the current quote contains one of the newspapers' url\n",
        "                          if name not in newspapers: # to not have any dublicates \n",
        "                              newspapers.append(name)\n",
        "                  instance['newspapers'] = newspapers # updating the sample with domain name\n",
        "              # We remove unnecessary columns\n",
        "              instance.pop('probas')\n",
        "              instance.pop('phase')\n",
        "              # If there is a newspaper that we want to keep we write the instance to the output file\n",
        "              if newspapers: \n",
        "                d_file.write((json.dumps(instance)+'\\n').encode('utf-8')) # writing in the new file\n",
        "                "
      ]
    },
    {
      "cell_type": "markdown",
      "metadata": {
        "id": "hOK3Gp_HwHI1"
      },
      "source": [
        "We execute this for 2020 data (execute only once)."
      ]
    },
    {
      "cell_type": "code",
      "execution_count": null,
      "metadata": {
        "id": "iPJda6mObZja"
      },
      "outputs": [],
      "source": [
        "#filter_data(RAW_QUOTES_2020_PATH,FILTERED_QUOTES_UK_2020_PATH)"
      ]
    },
    {
      "cell_type": "code",
      "execution_count": null,
      "metadata": {
        "colab": {
          "base_uri": "https://localhost:8080/",
          "height": 289
        },
        "id": "APW1C9ivsu-G",
        "outputId": "41d86cc5-eb90-40aa-fbed-7ac5e0a7e3f4"
      },
      "outputs": [
        {
          "data": {
            "text/html": [
              "<div>\n",
              "<style scoped>\n",
              "    .dataframe tbody tr th:only-of-type {\n",
              "        vertical-align: middle;\n",
              "    }\n",
              "\n",
              "    .dataframe tbody tr th {\n",
              "        vertical-align: top;\n",
              "    }\n",
              "\n",
              "    .dataframe thead th {\n",
              "        text-align: right;\n",
              "    }\n",
              "</style>\n",
              "<table border=\"1\" class=\"dataframe\">\n",
              "  <thead>\n",
              "    <tr style=\"text-align: right;\">\n",
              "      <th></th>\n",
              "      <th>quoteID</th>\n",
              "      <th>quotation</th>\n",
              "      <th>speaker</th>\n",
              "      <th>qids</th>\n",
              "      <th>date</th>\n",
              "      <th>numOccurrences</th>\n",
              "      <th>urls</th>\n",
              "      <th>newspapers</th>\n",
              "    </tr>\n",
              "  </thead>\n",
              "  <tbody>\n",
              "    <tr>\n",
              "      <th>0</th>\n",
              "      <td>2020-01-17-000357</td>\n",
              "      <td>[ The delay ] will have an impact [ on Slough ...</td>\n",
              "      <td>Dexter Smith</td>\n",
              "      <td>[Q5268447]</td>\n",
              "      <td>2020-01-17 13:03:00</td>\n",
              "      <td>1</td>\n",
              "      <td>[http://www.sloughexpress.co.uk/gallery/slough...</td>\n",
              "      <td>[Daily Express]</td>\n",
              "    </tr>\n",
              "    <tr>\n",
              "      <th>1</th>\n",
              "      <td>2020-02-07-005251</td>\n",
              "      <td>And for the record, Eamonn Holmes made me laug...</td>\n",
              "      <td>Phillip Schofield</td>\n",
              "      <td>[Q7185804]</td>\n",
              "      <td>2020-02-07 20:30:49</td>\n",
              "      <td>2</td>\n",
              "      <td>[https://www.dailystar.co.uk/showbiz/breaking-...</td>\n",
              "      <td>[Daily Star]</td>\n",
              "    </tr>\n",
              "    <tr>\n",
              "      <th>2</th>\n",
              "      <td>2020-01-11-002445</td>\n",
              "      <td>And help he always did. For someone who prefer...</td>\n",
              "      <td>Anna Wintour</td>\n",
              "      <td>[Q230744]</td>\n",
              "      <td>2020-01-11 01:46:07</td>\n",
              "      <td>3</td>\n",
              "      <td>[https://www.irishmirror.ie/showbiz/celebrity-...</td>\n",
              "      <td>[Daily Mirror]</td>\n",
              "    </tr>\n",
              "    <tr>\n",
              "      <th>3</th>\n",
              "      <td>2020-01-21-005435</td>\n",
              "      <td>And the symptoms of what a person goes through...</td>\n",
              "      <td>Taylor Swift</td>\n",
              "      <td>[Q26876]</td>\n",
              "      <td>2020-01-21 15:58:39</td>\n",
              "      <td>8</td>\n",
              "      <td>[https://www.irishmirror.ie/showbiz/celebrity-...</td>\n",
              "      <td>[Daily Mirror]</td>\n",
              "    </tr>\n",
              "    <tr>\n",
              "      <th>4</th>\n",
              "      <td>2020-01-31-008580</td>\n",
              "      <td>As you reach or have reached the apex of your ...</td>\n",
              "      <td>Keyon Dooling</td>\n",
              "      <td>[Q304349]</td>\n",
              "      <td>2020-01-31 19:07:55</td>\n",
              "      <td>1</td>\n",
              "      <td>[https://www.theguardian.com/sport/2020/jan/31...</td>\n",
              "      <td>[The Guardian]</td>\n",
              "    </tr>\n",
              "  </tbody>\n",
              "</table>\n",
              "</div>"
            ],
            "text/plain": [
              "             quoteID  ...       newspapers\n",
              "0  2020-01-17-000357  ...  [Daily Express]\n",
              "1  2020-02-07-005251  ...     [Daily Star]\n",
              "2  2020-01-11-002445  ...   [Daily Mirror]\n",
              "3  2020-01-21-005435  ...   [Daily Mirror]\n",
              "4  2020-01-31-008580  ...   [The Guardian]\n",
              "\n",
              "[5 rows x 8 columns]"
            ]
          },
          "execution_count": 9,
          "metadata": {},
          "output_type": "execute_result"
        }
      ],
      "source": [
        "# We check that the new file contains the right data\n",
        "filtered_sample_df = load_mini_version_of_data(FILTERED_QUOTES_2020_PATH, 10000, 10, use_colab)\n",
        "filtered_sample_df.head()"
      ]
    },
    {
      "cell_type": "markdown",
      "metadata": {
        "id": "WifW8YvwlTKW"
      },
      "source": [
        "Let's verify that there are no 'None' speakers:"
      ]
    },
    {
      "cell_type": "code",
      "execution_count": null,
      "metadata": {
        "colab": {
          "base_uri": "https://localhost:8080/"
        },
        "id": "dqYFW8r4lSRe",
        "outputId": "bb993245-3edb-49d1-851c-051bf3d3530a"
      },
      "outputs": [
        {
          "data": {
            "text/plain": [
              "True"
            ]
          },
          "execution_count": 11,
          "metadata": {},
          "output_type": "execute_result"
        }
      ],
      "source": [
        "filtered_sample_df[filtered_sample_df.speaker=='None'].empty"
      ]
    },
    {
      "cell_type": "markdown",
      "metadata": {
        "id": "xLMg_0cfl6pg"
      },
      "source": [
        "Now let us do this filtering for the remaining data of years 2015-2019 (execute only once)."
      ]
    },
    {
      "cell_type": "code",
      "execution_count": null,
      "metadata": {
        "id": "AePNLWxAl6Vz"
      },
      "outputs": [],
      "source": [
        "#filter_data(RAW_QUOTES_2019_PATH,FILTERED_QUOTES_UK_2019_PATH)\n",
        "#filter_data(RAW_QUOTES_2018_PATH,FILTERED_QUOTES_UK_2018_PATH)\n",
        "#filter_data(RAW_QUOTES_2017_PATH,FILTERED_QUOTES_UK_2017_PATH)\n",
        "#filter_data(RAW_QUOTES_2016_PATH,FILTERED_QUOTES_UK_2016_PATH)\n",
        "#filter_data(RAW_QUOTES_2015_PATH,FILTERED_QUOTES_UK_2015_PATH)"
      ]
    },
    {
      "cell_type": "markdown",
      "metadata": {
        "id": "Rc6C_CtfieaW"
      },
      "source": [
        "For a deeper analysis we also took interest in quotes from 4 other countries with an important population: US, Autralia, Nigeria that have english as their primary language and India where english is widely spoken especially for education, commerce and government purposes. We found the different information in this wikipedia [article](https://en.wikipedia.org/wiki/List_of_countries_and_territories_where_English_is_an_official_language).\n",
        "\n",
        "For each country we chose 5 newspapers with the highest criculation throughout each country. For India we also had to select the newspapers in english. We found all the informations in those articles : [US](https://en.wikipedia.org/wiki/List_of_newspapers_in_the_United_States), [AU](https://en.wikipedia.org/wiki/List_of_newspapers_in_Australia_by_circulation), [IN](https://en.wikipedia.org/wiki/List_of_newspapers_in_India_by_circulation), [NG](https://answersafrica.com/top-10-nigerian-newspapers-most-read-online.html)"
      ]
    },
    {
      "cell_type": "markdown",
      "metadata": {
        "id": "t8d3z8xpL69S"
      },
      "source": [
        "For the US:"
      ]
    },
    {
      "cell_type": "code",
      "execution_count": null,
      "metadata": {
        "colab": {
          "base_uri": "https://localhost:8080/",
          "height": 204
        },
        "id": "xQ2jdI5XQtNY",
        "outputId": "0dbcc821-a3bb-4493-ea2a-ba652d901b84"
      },
      "outputs": [
        {
          "data": {
            "text/html": [
              "<div>\n",
              "<style scoped>\n",
              "    .dataframe tbody tr th:only-of-type {\n",
              "        vertical-align: middle;\n",
              "    }\n",
              "\n",
              "    .dataframe tbody tr th {\n",
              "        vertical-align: top;\n",
              "    }\n",
              "\n",
              "    .dataframe thead th {\n",
              "        text-align: right;\n",
              "    }\n",
              "</style>\n",
              "<table border=\"1\" class=\"dataframe\">\n",
              "  <thead>\n",
              "    <tr style=\"text-align: right;\">\n",
              "      <th></th>\n",
              "      <th>name</th>\n",
              "      <th>website_url</th>\n",
              "    </tr>\n",
              "  </thead>\n",
              "  <tbody>\n",
              "    <tr>\n",
              "      <th>0</th>\n",
              "      <td>USA Today</td>\n",
              "      <td>usatoday.com</td>\n",
              "    </tr>\n",
              "    <tr>\n",
              "      <th>1</th>\n",
              "      <td>The Wall Street Journal</td>\n",
              "      <td>wsj.com</td>\n",
              "    </tr>\n",
              "    <tr>\n",
              "      <th>2</th>\n",
              "      <td>The New York Times</td>\n",
              "      <td>nytimes.com</td>\n",
              "    </tr>\n",
              "    <tr>\n",
              "      <th>3</th>\n",
              "      <td>New York Post</td>\n",
              "      <td>nypost.com</td>\n",
              "    </tr>\n",
              "    <tr>\n",
              "      <th>4</th>\n",
              "      <td>Los Angeles Times</td>\n",
              "      <td>latimes.com</td>\n",
              "    </tr>\n",
              "  </tbody>\n",
              "</table>\n",
              "</div>"
            ],
            "text/plain": [
              "                      name   website_url\n",
              "0                USA Today  usatoday.com\n",
              "1  The Wall Street Journal       wsj.com\n",
              "2       The New York Times   nytimes.com\n",
              "3            New York Post    nypost.com\n",
              "4        Los Angeles Times   latimes.com"
            ]
          },
          "execution_count": 8,
          "metadata": {},
          "output_type": "execute_result"
        }
      ],
      "source": [
        "newspapers_df = pd.DataFrame(newspapers_us_list, columns=['name', 'website_url'])\n",
        "newspapers_df"
      ]
    },
    {
      "cell_type": "code",
      "execution_count": null,
      "metadata": {
        "id": "uUlj9CeRL-zr"
      },
      "outputs": [],
      "source": [
        "#filter_data(RAW_QUOTES_2020_PATH,FILTERED_QUOTES_US_2020_PATH)\n",
        "#filter_data(RAW_QUOTES_2019_PATH,FILTERED_QUOTES_US_2019_PATH)\n",
        "#filter_data(RAW_QUOTES_2018_PATH,FILTERED_QUOTES_US_2018_PATH)\n",
        "#filter_data(RAW_QUOTES_2017_PATH,FILTERED_QUOTES_US_2017_PATH)\n",
        "#filter_data(RAW_QUOTES_2016_PATH,FILTERED_QUOTES_US_2016_PATH)\n",
        "#filter_data(RAW_QUOTES_2015_PATH,FILTERED_QUOTES_US_2015_PATH)"
      ]
    },
    {
      "cell_type": "markdown",
      "metadata": {
        "id": "TTCZ1I2bMLrz"
      },
      "source": [
        "For Australia:\n"
      ]
    },
    {
      "cell_type": "code",
      "execution_count": null,
      "metadata": {
        "colab": {
          "base_uri": "https://localhost:8080/",
          "height": 204
        },
        "id": "vpBH_nOPRNlV",
        "outputId": "de75bcde-8e6f-4bd2-d486-baeb7f1bbe2f"
      },
      "outputs": [
        {
          "data": {
            "text/html": [
              "<div>\n",
              "<style scoped>\n",
              "    .dataframe tbody tr th:only-of-type {\n",
              "        vertical-align: middle;\n",
              "    }\n",
              "\n",
              "    .dataframe tbody tr th {\n",
              "        vertical-align: top;\n",
              "    }\n",
              "\n",
              "    .dataframe thead th {\n",
              "        text-align: right;\n",
              "    }\n",
              "</style>\n",
              "<table border=\"1\" class=\"dataframe\">\n",
              "  <thead>\n",
              "    <tr style=\"text-align: right;\">\n",
              "      <th></th>\n",
              "      <th>name</th>\n",
              "      <th>website_url</th>\n",
              "    </tr>\n",
              "  </thead>\n",
              "  <tbody>\n",
              "    <tr>\n",
              "      <th>0</th>\n",
              "      <td>Herald Sun</td>\n",
              "      <td>heraldsun.com.au</td>\n",
              "    </tr>\n",
              "    <tr>\n",
              "      <th>1</th>\n",
              "      <td>Daily Telegraph</td>\n",
              "      <td>dailytelegraph.com.au</td>\n",
              "    </tr>\n",
              "    <tr>\n",
              "      <th>2</th>\n",
              "      <td>The Australian Financial Review</td>\n",
              "      <td>afr.com</td>\n",
              "    </tr>\n",
              "    <tr>\n",
              "      <th>3</th>\n",
              "      <td>The Courier-Mail</td>\n",
              "      <td>couriermail.com.au</td>\n",
              "    </tr>\n",
              "    <tr>\n",
              "      <th>4</th>\n",
              "      <td>The West Australian</td>\n",
              "      <td>thewest.com.au</td>\n",
              "    </tr>\n",
              "  </tbody>\n",
              "</table>\n",
              "</div>"
            ],
            "text/plain": [
              "                              name            website_url\n",
              "0                       Herald Sun       heraldsun.com.au\n",
              "1                  Daily Telegraph  dailytelegraph.com.au\n",
              "2  The Australian Financial Review                afr.com\n",
              "3                 The Courier-Mail     couriermail.com.au\n",
              "4              The West Australian         thewest.com.au"
            ]
          },
          "execution_count": 9,
          "metadata": {},
          "output_type": "execute_result"
        }
      ],
      "source": [
        "newspapers_df = pd.DataFrame(newspapers_au_list, columns=['name', 'website_url'])\n",
        "newspapers_df"
      ]
    },
    {
      "cell_type": "code",
      "execution_count": null,
      "metadata": {
        "id": "CpspNF1hMO3-"
      },
      "outputs": [],
      "source": [
        "#filter_data(RAW_QUOTES_2020_PATH,FILTERED_QUOTES_AU_2020_PATH)\n",
        "#filter_data(RAW_QUOTES_2019_PATH,FILTERED_QUOTES_AU_2019_PATH)\n",
        "#filter_data(RAW_QUOTES_2018_PATH,FILTERED_QUOTES_AU_2018_PATH)\n",
        "#filter_data(RAW_QUOTES_2017_PATH,FILTERED_QUOTES_AU_2017_PATH)\n",
        "#filter_data(RAW_QUOTES_2016_PATH,FILTERED_QUOTES_AU_2016_PATH)\n",
        "#filter_data(RAW_QUOTES_2015_PATH,FILTERED_QUOTES_AU_2015_PATH)"
      ]
    },
    {
      "cell_type": "markdown",
      "metadata": {
        "id": "EvSHA82tMVY5"
      },
      "source": [
        "For India:"
      ]
    },
    {
      "cell_type": "code",
      "execution_count": null,
      "metadata": {
        "colab": {
          "base_uri": "https://localhost:8080/",
          "height": 204
        },
        "id": "Fw4Uz_20RQX3",
        "outputId": "8ff9e883-cf9e-4a09-d893-99c86c204b52"
      },
      "outputs": [
        {
          "data": {
            "text/html": [
              "<div>\n",
              "<style scoped>\n",
              "    .dataframe tbody tr th:only-of-type {\n",
              "        vertical-align: middle;\n",
              "    }\n",
              "\n",
              "    .dataframe tbody tr th {\n",
              "        vertical-align: top;\n",
              "    }\n",
              "\n",
              "    .dataframe thead th {\n",
              "        text-align: right;\n",
              "    }\n",
              "</style>\n",
              "<table border=\"1\" class=\"dataframe\">\n",
              "  <thead>\n",
              "    <tr style=\"text-align: right;\">\n",
              "      <th></th>\n",
              "      <th>name</th>\n",
              "      <th>website_url</th>\n",
              "    </tr>\n",
              "  </thead>\n",
              "  <tbody>\n",
              "    <tr>\n",
              "      <th>0</th>\n",
              "      <td>The Times of India</td>\n",
              "      <td>timesofindia.indiatimes.com</td>\n",
              "    </tr>\n",
              "    <tr>\n",
              "      <th>1</th>\n",
              "      <td>The Hindu</td>\n",
              "      <td>thehindu.com</td>\n",
              "    </tr>\n",
              "    <tr>\n",
              "      <th>2</th>\n",
              "      <td>Hindustan Times</td>\n",
              "      <td>hindustantimes.com</td>\n",
              "    </tr>\n",
              "    <tr>\n",
              "      <th>3</th>\n",
              "      <td>The Economic Times</td>\n",
              "      <td>economictimes.indiatimes.com</td>\n",
              "    </tr>\n",
              "    <tr>\n",
              "      <th>4</th>\n",
              "      <td>The Telegraph</td>\n",
              "      <td>telegraphindia.com</td>\n",
              "    </tr>\n",
              "  </tbody>\n",
              "</table>\n",
              "</div>"
            ],
            "text/plain": [
              "                 name                   website_url\n",
              "0  The Times of India   timesofindia.indiatimes.com\n",
              "1           The Hindu                  thehindu.com\n",
              "2     Hindustan Times            hindustantimes.com\n",
              "3  The Economic Times  economictimes.indiatimes.com\n",
              "4       The Telegraph            telegraphindia.com"
            ]
          },
          "execution_count": 10,
          "metadata": {},
          "output_type": "execute_result"
        }
      ],
      "source": [
        "newspapers_df = pd.DataFrame(newspapers_in_list, columns=['name', 'website_url'])\n",
        "newspapers_df"
      ]
    },
    {
      "cell_type": "code",
      "execution_count": null,
      "metadata": {
        "id": "NlebMuq6MZA2"
      },
      "outputs": [],
      "source": [
        "#filter_data(RAW_QUOTES_2020_PATH,FILTERED_QUOTES_IN_2020_PATH)\n",
        "#filter_data(RAW_QUOTES_2019_PATH,FILTERED_QUOTES_IN_2019_PATH)\n",
        "#filter_data(RAW_QUOTES_2018_PATH,FILTERED_QUOTES_IN_2018_PATH)\n",
        "#filter_data(RAW_QUOTES_2017_PATH,FILTERED_QUOTES_IN_2017_PATH)\n",
        "#filter_data(RAW_QUOTES_2016_PATH,FILTERED_QUOTES_IN_2016_PATH)\n",
        "#filter_data(RAW_QUOTES_2015_PATH,FILTERED_QUOTES_IN_2015_PATH)"
      ]
    },
    {
      "cell_type": "markdown",
      "metadata": {
        "id": "aHKEkILBMcxa"
      },
      "source": [
        "For Nigeria:"
      ]
    },
    {
      "cell_type": "code",
      "execution_count": null,
      "metadata": {
        "colab": {
          "base_uri": "https://localhost:8080/",
          "height": 204
        },
        "id": "2IRs99N_RSJ9",
        "outputId": "1b2ddea2-0500-4df9-e89b-277e1043855d"
      },
      "outputs": [
        {
          "data": {
            "text/html": [
              "<div>\n",
              "<style scoped>\n",
              "    .dataframe tbody tr th:only-of-type {\n",
              "        vertical-align: middle;\n",
              "    }\n",
              "\n",
              "    .dataframe tbody tr th {\n",
              "        vertical-align: top;\n",
              "    }\n",
              "\n",
              "    .dataframe thead th {\n",
              "        text-align: right;\n",
              "    }\n",
              "</style>\n",
              "<table border=\"1\" class=\"dataframe\">\n",
              "  <thead>\n",
              "    <tr style=\"text-align: right;\">\n",
              "      <th></th>\n",
              "      <th>name</th>\n",
              "      <th>website_url</th>\n",
              "    </tr>\n",
              "  </thead>\n",
              "  <tbody>\n",
              "    <tr>\n",
              "      <th>0</th>\n",
              "      <td>Vanguard</td>\n",
              "      <td>vanguardngr.com</td>\n",
              "    </tr>\n",
              "    <tr>\n",
              "      <th>1</th>\n",
              "      <td>The Punch</td>\n",
              "      <td>punchng.com</td>\n",
              "    </tr>\n",
              "    <tr>\n",
              "      <th>2</th>\n",
              "      <td>The Nation online</td>\n",
              "      <td>thenationonlineng.net</td>\n",
              "    </tr>\n",
              "    <tr>\n",
              "      <th>3</th>\n",
              "      <td>Sahara Reporters</td>\n",
              "      <td>saharareporters.com</td>\n",
              "    </tr>\n",
              "    <tr>\n",
              "      <th>4</th>\n",
              "      <td>Sun News</td>\n",
              "      <td>sunnewsonline.com</td>\n",
              "    </tr>\n",
              "  </tbody>\n",
              "</table>\n",
              "</div>"
            ],
            "text/plain": [
              "                name            website_url\n",
              "0           Vanguard        vanguardngr.com\n",
              "1          The Punch            punchng.com\n",
              "2  The Nation online  thenationonlineng.net\n",
              "3   Sahara Reporters    saharareporters.com\n",
              "4           Sun News      sunnewsonline.com"
            ]
          },
          "execution_count": 11,
          "metadata": {},
          "output_type": "execute_result"
        }
      ],
      "source": [
        "newspapers_df = pd.DataFrame(newspapers_ng_list, columns=['name', 'website_url'])\n",
        "newspapers_df"
      ]
    },
    {
      "cell_type": "code",
      "execution_count": null,
      "metadata": {
        "id": "Liwaxd5rMeqw"
      },
      "outputs": [],
      "source": [
        "#filter_data(RAW_QUOTES_2020_PATH,FILTERED_QUOTES_NG_2020_PATH)\n",
        "#filter_data(RAW_QUOTES_2019_PATH,FILTERED_QUOTES_NG_2019_PATH)\n",
        "#filter_data(RAW_QUOTES_2018_PATH,FILTERED_QUOTES_NG_2018_PATH)\n",
        "#filter_data(RAW_QUOTES_2017_PATH,FILTERED_QUOTES_NG_2017_PATH)\n",
        "#filter_data(RAW_QUOTES_2016_PATH,FILTERED_QUOTES_NG_2016_PATH)\n",
        "#filter_data(RAW_QUOTES_2015_PATH,FILTERED_QUOTES_NG_2015_PATH)"
      ]
    },
    {
      "cell_type": "markdown",
      "metadata": {
        "id": "hE3n5IX4M0qY",
        "tags": []
      },
      "source": [
        "## 3. Additional data set: speaker attributes\n",
        "<a id=\"additional_dataset\"></a>\n",
        "\n",
        "The filtered Quotebank years are ready. The next step consists of integrating speaker attributes from our additional data set."
      ]
    },
    {
      "cell_type": "markdown",
      "metadata": {
        "id": "7B7nQdaVuh34"
      },
      "source": [
        "### 3.1 Explore attributes\n",
        "<a id=\"explore_attr\"></a>\n"
      ]
    },
    {
      "cell_type": "markdown",
      "metadata": {
        "id": "dXWm7QwJwVU0"
      },
      "source": [
        "We explore the speakers dataset."
      ]
    },
    {
      "cell_type": "code",
      "execution_count": null,
      "metadata": {
        "colab": {
          "base_uri": "https://localhost:8080/",
          "height": 581
        },
        "id": "GHP_sBCenkx_",
        "outputId": "1e5c0e22-5d2e-44f5-b924-3fed0a864ff8"
      },
      "outputs": [
        {
          "data": {
            "text/html": [
              "<div>\n",
              "<style scoped>\n",
              "    .dataframe tbody tr th:only-of-type {\n",
              "        vertical-align: middle;\n",
              "    }\n",
              "\n",
              "    .dataframe tbody tr th {\n",
              "        vertical-align: top;\n",
              "    }\n",
              "\n",
              "    .dataframe thead th {\n",
              "        text-align: right;\n",
              "    }\n",
              "</style>\n",
              "<table border=\"1\" class=\"dataframe\">\n",
              "  <thead>\n",
              "    <tr style=\"text-align: right;\">\n",
              "      <th></th>\n",
              "      <th>aliases</th>\n",
              "      <th>date_of_birth</th>\n",
              "      <th>nationality</th>\n",
              "      <th>gender</th>\n",
              "      <th>lastrevid</th>\n",
              "      <th>ethnic_group</th>\n",
              "      <th>US_congress_bio_ID</th>\n",
              "      <th>occupation</th>\n",
              "      <th>party</th>\n",
              "      <th>academic_degree</th>\n",
              "      <th>id</th>\n",
              "      <th>label</th>\n",
              "      <th>candidacy</th>\n",
              "      <th>type</th>\n",
              "      <th>religion</th>\n",
              "    </tr>\n",
              "  </thead>\n",
              "  <tbody>\n",
              "    <tr>\n",
              "      <th>0</th>\n",
              "      <td>[Washington, President Washington, G. Washingt...</td>\n",
              "      <td>[+1732-02-22T00:00:00Z]</td>\n",
              "      <td>[Q161885, Q30]</td>\n",
              "      <td>[Q6581097]</td>\n",
              "      <td>1395141751</td>\n",
              "      <td>None</td>\n",
              "      <td>W000178</td>\n",
              "      <td>[Q82955, Q189290, Q131512, Q1734662, Q294126, ...</td>\n",
              "      <td>[Q327591]</td>\n",
              "      <td>None</td>\n",
              "      <td>Q23</td>\n",
              "      <td>George Washington</td>\n",
              "      <td>[Q698073, Q697949]</td>\n",
              "      <td>item</td>\n",
              "      <td>[Q682443]</td>\n",
              "    </tr>\n",
              "    <tr>\n",
              "      <th>1</th>\n",
              "      <td>[Douglas Noel Adams, Douglas Noël Adams, Dougl...</td>\n",
              "      <td>[+1952-03-11T00:00:00Z]</td>\n",
              "      <td>[Q145]</td>\n",
              "      <td>[Q6581097]</td>\n",
              "      <td>1395737157</td>\n",
              "      <td>[Q7994501]</td>\n",
              "      <td>None</td>\n",
              "      <td>[Q214917, Q28389, Q6625963, Q4853732, Q1884422...</td>\n",
              "      <td>None</td>\n",
              "      <td>None</td>\n",
              "      <td>Q42</td>\n",
              "      <td>Douglas Adams</td>\n",
              "      <td>None</td>\n",
              "      <td>item</td>\n",
              "      <td>None</td>\n",
              "    </tr>\n",
              "    <tr>\n",
              "      <th>2</th>\n",
              "      <td>[Paul Marie Ghislain Otlet, Paul Marie Otlet]</td>\n",
              "      <td>[+1868-08-23T00:00:00Z]</td>\n",
              "      <td>[Q31]</td>\n",
              "      <td>[Q6581097]</td>\n",
              "      <td>1380367296</td>\n",
              "      <td>None</td>\n",
              "      <td>None</td>\n",
              "      <td>[Q36180, Q40348, Q182436, Q1265807, Q205375, Q...</td>\n",
              "      <td>None</td>\n",
              "      <td>None</td>\n",
              "      <td>Q1868</td>\n",
              "      <td>Paul Otlet</td>\n",
              "      <td>None</td>\n",
              "      <td>item</td>\n",
              "      <td>None</td>\n",
              "    </tr>\n",
              "    <tr>\n",
              "      <th>3</th>\n",
              "      <td>[George Walker Bush, Bush Jr., Dubya, GWB, Bus...</td>\n",
              "      <td>[+1946-07-06T00:00:00Z]</td>\n",
              "      <td>[Q30]</td>\n",
              "      <td>[Q6581097]</td>\n",
              "      <td>1395142029</td>\n",
              "      <td>None</td>\n",
              "      <td>None</td>\n",
              "      <td>[Q82955, Q15982858, Q18814623, Q1028181, Q1408...</td>\n",
              "      <td>[Q29468]</td>\n",
              "      <td>None</td>\n",
              "      <td>Q207</td>\n",
              "      <td>George W. Bush</td>\n",
              "      <td>[Q327959, Q464075, Q3586276, Q4450587]</td>\n",
              "      <td>item</td>\n",
              "      <td>[Q329646, Q682443, Q33203]</td>\n",
              "    </tr>\n",
              "    <tr>\n",
              "      <th>4</th>\n",
              "      <td>[Velázquez, Diego Rodríguez de Silva y Velázqu...</td>\n",
              "      <td>[+1599-06-06T00:00:00Z]</td>\n",
              "      <td>[Q29]</td>\n",
              "      <td>[Q6581097]</td>\n",
              "      <td>1391704596</td>\n",
              "      <td>None</td>\n",
              "      <td>None</td>\n",
              "      <td>[Q1028181]</td>\n",
              "      <td>None</td>\n",
              "      <td>None</td>\n",
              "      <td>Q297</td>\n",
              "      <td>Diego Velázquez</td>\n",
              "      <td>None</td>\n",
              "      <td>item</td>\n",
              "      <td>None</td>\n",
              "    </tr>\n",
              "  </tbody>\n",
              "</table>\n",
              "</div>"
            ],
            "text/plain": [
              "                                             aliases  ...                    religion\n",
              "0  [Washington, President Washington, G. Washingt...  ...                   [Q682443]\n",
              "1  [Douglas Noel Adams, Douglas Noël Adams, Dougl...  ...                        None\n",
              "2      [Paul Marie Ghislain Otlet, Paul Marie Otlet]  ...                        None\n",
              "3  [George Walker Bush, Bush Jr., Dubya, GWB, Bus...  ...  [Q329646, Q682443, Q33203]\n",
              "4  [Velázquez, Diego Rodríguez de Silva y Velázqu...  ...                        None\n",
              "\n",
              "[5 rows x 15 columns]"
            ]
          },
          "execution_count": 13,
          "metadata": {},
          "output_type": "execute_result"
        }
      ],
      "source": [
        "# Load speaker attributes in df\n",
        "speakers_df = pd.read_parquet(SPEAKER_ATTRIBUTES_PATH)\n",
        "speakers_df.head()"
      ]
    },
    {
      "cell_type": "markdown",
      "metadata": {
        "id": "-ijhmvqAwDgH"
      },
      "source": [
        "Let us first check for duplicates. There seem to be none."
      ]
    },
    {
      "cell_type": "code",
      "execution_count": null,
      "metadata": {
        "colab": {
          "base_uri": "https://localhost:8080/",
          "height": 69
        },
        "id": "o6qUQ_tPnkyC",
        "outputId": "337f2920-6b36-4bbb-89fb-69c7f03119a6"
      },
      "outputs": [
        {
          "data": {
            "text/html": [
              "<div>\n",
              "<style scoped>\n",
              "    .dataframe tbody tr th:only-of-type {\n",
              "        vertical-align: middle;\n",
              "    }\n",
              "\n",
              "    .dataframe tbody tr th {\n",
              "        vertical-align: top;\n",
              "    }\n",
              "\n",
              "    .dataframe thead th {\n",
              "        text-align: right;\n",
              "    }\n",
              "</style>\n",
              "<table border=\"1\" class=\"dataframe\">\n",
              "  <thead>\n",
              "    <tr style=\"text-align: right;\">\n",
              "      <th></th>\n",
              "      <th>aliases</th>\n",
              "      <th>date_of_birth</th>\n",
              "      <th>nationality</th>\n",
              "      <th>gender</th>\n",
              "      <th>lastrevid</th>\n",
              "      <th>ethnic_group</th>\n",
              "      <th>US_congress_bio_ID</th>\n",
              "      <th>occupation</th>\n",
              "      <th>party</th>\n",
              "      <th>academic_degree</th>\n",
              "      <th>id</th>\n",
              "      <th>label</th>\n",
              "      <th>candidacy</th>\n",
              "      <th>type</th>\n",
              "      <th>religion</th>\n",
              "    </tr>\n",
              "  </thead>\n",
              "  <tbody>\n",
              "  </tbody>\n",
              "</table>\n",
              "</div>"
            ],
            "text/plain": [
              "Empty DataFrame\n",
              "Columns: [aliases, date_of_birth, nationality, gender, lastrevid, ethnic_group, US_congress_bio_ID, occupation, party, academic_degree, id, label, candidacy, type, religion]\n",
              "Index: []"
            ]
          },
          "execution_count": 14,
          "metadata": {},
          "output_type": "execute_result"
        }
      ],
      "source": [
        "# Duplicates\n",
        "duplicates = speakers_df[speakers_df.duplicated(subset='id', keep='first')] \n",
        "duplicates.head()"
      ]
    },
    {
      "cell_type": "markdown",
      "metadata": {
        "id": "HsTU_34onkyA"
      },
      "source": [
        "We are mostly interested in the column gender. But let us see which ones we could keep. How many 'None' values do we have?"
      ]
    },
    {
      "cell_type": "code",
      "execution_count": null,
      "metadata": {
        "colab": {
          "base_uri": "https://localhost:8080/"
        },
        "id": "IPwXvBnknkyB",
        "outputId": "4cec9f8f-96a3-4d7b-ee3d-02a45c4ddf3d"
      },
      "outputs": [
        {
          "name": "stdout",
          "output_type": "stream",
          "text": [
            "gender: 0.21536937853557775\n",
            "nationality: 0.5896797928352544\n",
            "occupation: 0.29625691573337004\n",
            "academic_degree: 0.9889581261268106\n",
            "ethnic_group: 0.9856023328670853\n",
            "religion 0.9783254845609769\n"
          ]
        }
      ],
      "source": [
        "# Fraction of lines with 'None' values:\n",
        "print('gender: ' + str(speakers_df[speakers_df.gender.isnull()].size / speakers_df.size))\n",
        "print('nationality: ' + str(speakers_df[speakers_df.nationality.isnull()].size / speakers_df.size))\n",
        "print('occupation: ' + str(speakers_df[speakers_df.occupation.isnull()].size / speakers_df.size))\n",
        "print('academic_degree: ' + str(speakers_df[speakers_df.academic_degree.isnull()].size / speakers_df.size))\n",
        "print('ethnic_group: ' + str(speakers_df[speakers_df.ethnic_group.isnull()].size / speakers_df.size))\n",
        "print('religion ' + str(speakers_df[speakers_df.religion.isnull()].size / speakers_df.size))"
      ]
    },
    {
      "cell_type": "markdown",
      "metadata": {
        "id": "msgtq37lwBW7"
      },
      "source": [
        "Unfortunately we have to drop all attributes appart from gender, nationality and occupation. All the other ones have more than 98% 'None' values."
      ]
    },
    {
      "cell_type": "code",
      "execution_count": null,
      "metadata": {
        "id": "Ec66xJ90zQ0d"
      },
      "outputs": [],
      "source": [
        "# Keep the columns gender, nationality and occupation\n",
        "speakers_df = speakers_df[['id', 'gender', 'nationality', 'occupation']]"
      ]
    },
    {
      "cell_type": "markdown",
      "metadata": {
        "id": "bCm99QKj7N8s"
      },
      "source": [
        "We will remove all 'None' genders as this is the most important attribute for our analysis."
      ]
    },
    {
      "cell_type": "code",
      "execution_count": null,
      "metadata": {
        "colab": {
          "base_uri": "https://localhost:8080/",
          "height": 204
        },
        "id": "8zp-JKZH2igZ",
        "outputId": "9d85332c-0f71-49b9-ce05-92f575378ff0"
      },
      "outputs": [
        {
          "data": {
            "text/html": [
              "<div>\n",
              "<style scoped>\n",
              "    .dataframe tbody tr th:only-of-type {\n",
              "        vertical-align: middle;\n",
              "    }\n",
              "\n",
              "    .dataframe tbody tr th {\n",
              "        vertical-align: top;\n",
              "    }\n",
              "\n",
              "    .dataframe thead th {\n",
              "        text-align: right;\n",
              "    }\n",
              "</style>\n",
              "<table border=\"1\" class=\"dataframe\">\n",
              "  <thead>\n",
              "    <tr style=\"text-align: right;\">\n",
              "      <th></th>\n",
              "      <th>id</th>\n",
              "      <th>gender</th>\n",
              "      <th>nationality</th>\n",
              "      <th>occupation</th>\n",
              "    </tr>\n",
              "  </thead>\n",
              "  <tbody>\n",
              "    <tr>\n",
              "      <th>0</th>\n",
              "      <td>Q23</td>\n",
              "      <td>[Q6581097]</td>\n",
              "      <td>[Q161885, Q30]</td>\n",
              "      <td>[Q82955, Q189290, Q131512, Q1734662, Q294126, ...</td>\n",
              "    </tr>\n",
              "    <tr>\n",
              "      <th>1</th>\n",
              "      <td>Q42</td>\n",
              "      <td>[Q6581097]</td>\n",
              "      <td>[Q145]</td>\n",
              "      <td>[Q214917, Q28389, Q6625963, Q4853732, Q1884422...</td>\n",
              "    </tr>\n",
              "    <tr>\n",
              "      <th>2</th>\n",
              "      <td>Q1868</td>\n",
              "      <td>[Q6581097]</td>\n",
              "      <td>[Q31]</td>\n",
              "      <td>[Q36180, Q40348, Q182436, Q1265807, Q205375, Q...</td>\n",
              "    </tr>\n",
              "    <tr>\n",
              "      <th>3</th>\n",
              "      <td>Q207</td>\n",
              "      <td>[Q6581097]</td>\n",
              "      <td>[Q30]</td>\n",
              "      <td>[Q82955, Q15982858, Q18814623, Q1028181, Q1408...</td>\n",
              "    </tr>\n",
              "    <tr>\n",
              "      <th>4</th>\n",
              "      <td>Q297</td>\n",
              "      <td>[Q6581097]</td>\n",
              "      <td>[Q29]</td>\n",
              "      <td>[Q1028181]</td>\n",
              "    </tr>\n",
              "  </tbody>\n",
              "</table>\n",
              "</div>"
            ],
            "text/plain": [
              "      id  ...                                         occupation\n",
              "0    Q23  ...  [Q82955, Q189290, Q131512, Q1734662, Q294126, ...\n",
              "1    Q42  ...  [Q214917, Q28389, Q6625963, Q4853732, Q1884422...\n",
              "2  Q1868  ...  [Q36180, Q40348, Q182436, Q1265807, Q205375, Q...\n",
              "3   Q207  ...  [Q82955, Q15982858, Q18814623, Q1028181, Q1408...\n",
              "4   Q297  ...                                         [Q1028181]\n",
              "\n",
              "[5 rows x 4 columns]"
            ]
          },
          "execution_count": 17,
          "metadata": {},
          "output_type": "execute_result"
        }
      ],
      "source": [
        "# Remove null genders\n",
        "speakers_df = speakers_df.drop(speakers_df[speakers_df.gender.isnull()].index)\n",
        "speakers_df.head()"
      ]
    },
    {
      "cell_type": "markdown",
      "metadata": {
        "id": "iutcEc41nkyE"
      },
      "source": [
        "### 3.2 Merge speaker attributes\n",
        "<a id=\"merge_speaker_attr\"></a>\n",
        "\n",
        "Now we can merge the speaker attributes in our filtered dataset. First of all we need to load the corresponding labels for the quote id's.\n",
        "\n"
      ]
    },
    {
      "cell_type": "code",
      "execution_count": null,
      "metadata": {
        "colab": {
          "base_uri": "https://localhost:8080/",
          "height": 235
        },
        "id": "7qWRgx-vnkyE",
        "outputId": "8054530f-a496-467e-b26e-2c11a80d6998"
      },
      "outputs": [
        {
          "data": {
            "text/html": [
              "<div>\n",
              "<style scoped>\n",
              "    .dataframe tbody tr th:only-of-type {\n",
              "        vertical-align: middle;\n",
              "    }\n",
              "\n",
              "    .dataframe tbody tr th {\n",
              "        vertical-align: top;\n",
              "    }\n",
              "\n",
              "    .dataframe thead th {\n",
              "        text-align: right;\n",
              "    }\n",
              "</style>\n",
              "<table border=\"1\" class=\"dataframe\">\n",
              "  <thead>\n",
              "    <tr style=\"text-align: right;\">\n",
              "      <th></th>\n",
              "      <th>Label</th>\n",
              "      <th>Description</th>\n",
              "    </tr>\n",
              "    <tr>\n",
              "      <th>QID</th>\n",
              "      <th></th>\n",
              "      <th></th>\n",
              "    </tr>\n",
              "  </thead>\n",
              "  <tbody>\n",
              "    <tr>\n",
              "      <th>Q31</th>\n",
              "      <td>Belgium</td>\n",
              "      <td>country in western Europe</td>\n",
              "    </tr>\n",
              "    <tr>\n",
              "      <th>Q45</th>\n",
              "      <td>Portugal</td>\n",
              "      <td>country in southwestern Europe</td>\n",
              "    </tr>\n",
              "    <tr>\n",
              "      <th>Q75</th>\n",
              "      <td>Internet</td>\n",
              "      <td>global system of connected computer networks</td>\n",
              "    </tr>\n",
              "    <tr>\n",
              "      <th>Q148</th>\n",
              "      <td>People's Republic of China</td>\n",
              "      <td>sovereign state in East Asia</td>\n",
              "    </tr>\n",
              "    <tr>\n",
              "      <th>Q155</th>\n",
              "      <td>Brazil</td>\n",
              "      <td>country in South America</td>\n",
              "    </tr>\n",
              "  </tbody>\n",
              "</table>\n",
              "</div>"
            ],
            "text/plain": [
              "                           Label                                   Description\n",
              "QID                                                                           \n",
              "Q31                      Belgium                     country in western Europe\n",
              "Q45                     Portugal                country in southwestern Europe\n",
              "Q75                     Internet  global system of connected computer networks\n",
              "Q148  People's Republic of China                  sovereign state in East Asia\n",
              "Q155                      Brazil                      country in South America"
            ]
          },
          "execution_count": 18,
          "metadata": {},
          "output_type": "execute_result"
        }
      ],
      "source": [
        "labels_df = pd.read_csv(LABELS_WIKIDATA_PATH, compression='bz2', index_col='QID')\n",
        "labels_df.head()"
      ]
    },
    {
      "cell_type": "code",
      "execution_count": null,
      "metadata": {
        "id": "Gx048UxQhKYW"
      },
      "outputs": [],
      "source": [
        "# Handle missing labels in our dataset (see post on Zulip).\n",
        "labels_df.loc['Q6363085'] = labels_df.loc['Q380075']\n",
        "labels_df.loc['Q3268166'] = labels_df.loc['Q1113899']\n",
        "labels_df.loc['Q11815360'] = labels_df.loc['Q1919436']\n",
        "labels_df.loc['Q12014399'] = labels_df.loc['Q250867']\n",
        "labels_df.loc['Q16287483'] = labels_df.loc['Q6051619']\n",
        "labels_df.loc['Q20432251'] = labels_df.loc['Q26934816']\n",
        "labels_df.loc['Q21550646'] = labels_df.loc['Q18431816']\n",
        "labels_df.loc['Q13365117'] = labels_df.loc['Q12840545']\n",
        "labels_df.loc['Q13424794'] = labels_df.loc['Q5157338']\n",
        "labels_df.loc['Q1248362'] = labels_df.loc['Q3455803']\n",
        "labels_df.loc['Q3186984'] = 'Journalist'\n",
        "labels_df.loc['Q6859927'] = labels_df.loc['Q715222']\n",
        "labels_df.loc['Q15145782'] = labels_df.loc['Q1052281']\n",
        "labels_df.loc['Q15991263'] = labels_df.loc['Q2743689']\n",
        "labels_df.loc['Q12455619'] = labels_df.loc['Q7019111']\n",
        "labels_df.loc['Q5568256'] = labels_df.loc['Q1895303']\n",
        "labels_df.loc['Q11819457'] = labels_df.loc['Q3391743']\n",
        "labels_df.loc['Q12334852'] = labels_df.loc['Q476246']\n",
        "labels_df.loc['Q15145783'] = labels_df.loc['Q2449503']\n",
        "\n",
        "# This qid does not exist anymore in the wikidata. We drop it from the original dataframe.\n",
        "if 'Q99753484' in labels_df : labels_df.drop(labels='Q99753484')"
      ]
    },
    {
      "cell_type": "markdown",
      "metadata": {
        "id": "X0k-KhxKAPre"
      },
      "source": [
        "To efficiently look up the qids attributes of a speaker we create dictionaries to access the desired qids."
      ]
    },
    {
      "cell_type": "code",
      "execution_count": null,
      "metadata": {
        "id": "HNOYRV0ZzTCu"
      },
      "outputs": [],
      "source": [
        "# Create dictionary for the labels and the attributes gender, nationality and occupation\n",
        "labels_dict = pd.Series(labels_df.Label, index=labels_df.index)\n",
        "genders_dict = pd.Series(speakers_df.gender.values, index=speakers_df.id).to_dict()\n",
        "nationalities_dict = pd.Series(speakers_df.nationality.values, index=speakers_df.id).to_dict()\n",
        "occupations_dict = pd.Series(speakers_df.occupation.values, index=speakers_df.id).to_dict()"
      ]
    },
    {
      "cell_type": "markdown",
      "metadata": {
        "id": "ZZCvvaJ_DagT"
      },
      "source": [
        "We need as well a function to translate the qids of one attribute to  the corresponding label, for one specific speaker."
      ]
    },
    {
      "cell_type": "code",
      "execution_count": null,
      "metadata": {
        "id": "NJisKMiOz2fZ"
      },
      "outputs": [],
      "source": [
        "def translate_qid2label(id_speaker, attr_dict):\n",
        "    \"\"\"\n",
        "      Retrieve quotes speakers attribute, in the order of the quotations DataFrame.\n",
        "      :id_speaker   first qid of quids column of one row of the quotations dataframe qid\n",
        "      :attr_dict    dictionary for specified attributes\n",
        "      :return       attributes as text in a list\n",
        "    \"\"\"\n",
        "    list_attr = []\n",
        "    \n",
        "    if id_speaker in attr_dict:\n",
        "        id_attr_speaker = attr_dict[id_speaker]\n",
        "        if(id_attr_speaker is not None):\n",
        "            for id_a in id_attr_speaker:\n",
        "                if 'Q99753484' not in id_a:\n",
        "                    attr = labels_dict[id_a] # Attribute value\n",
        "                    list_attr.append(attr)\n",
        "        else:\n",
        "            list_attr = None\n",
        "\n",
        "    return list_attr"
      ]
    },
    {
      "cell_type": "markdown",
      "metadata": {
        "id": "ZUpBDScXY9zR"
      },
      "source": [
        "Now we can put all these together and apply the above function to all our speaker attributes and quotes.\n"
      ]
    },
    {
      "cell_type": "code",
      "execution_count": null,
      "metadata": {
        "id": "rN75-KDqCHKA"
      },
      "outputs": [],
      "source": [
        " def add_speaker_attributes(path_in,path_out):\n",
        "    \"\"\"\n",
        "      Loop through all instances of json file and and add desired column. Save the file\n",
        "      in the merged data directory\n",
        "      :path_in      json file path where speaker attributes are added\n",
        "      :path_out     merged file output directory\n",
        "      :return       count of total quotes and empty genders\n",
        "    \"\"\"\n",
        "    empty_genders = 0\n",
        "    total_quotes = 0\n",
        "    with bz2.open(path_in, 'rb') as s_file:\n",
        "        with bz2.open(path_out, 'wb') as d_file:\n",
        "            for instance in s_file:\n",
        "                instance = json.loads(instance) # loading a sample\n",
        "                id_speaker = instance['qids'][0] # get single qid\n",
        "             \n",
        "                # This qid does not exist anymore so we don't keep this row\n",
        "                if 'Q99753484' in id_speaker :\n",
        "                    continue\n",
        "                total_quotes += 1\n",
        "                instance['qids'] = id_speaker\n",
        "                instance['qid'] = instance.pop('qids')\n",
        "                genders = translate_qid2label(id_speaker, genders_dict)\n",
        "\n",
        "                if not genders: # if the list is empty\n",
        "                  empty_genders += 1\n",
        "                  continue\n",
        "\n",
        "                instance['gender'] = genders\n",
        "                instance['nationality'] = translate_qid2label(id_speaker, nationalities_dict)\n",
        "                instance['occupation'] = translate_qid2label(id_speaker, occupations_dict)\n",
        "          \n",
        "                d_file.write((json.dumps(instance)+'\\n').encode('utf-8')) # writing in the new file\n",
        "    \n",
        "    return total_quotes, empty_genders\n",
        "                "
      ]
    },
    {
      "cell_type": "markdown",
      "metadata": {
        "id": "oHXPSumvj5PU"
      },
      "source": [
        "We are aware that speaker disambiguation is an issue. We decided to take only the first QID. We think that it is a good option for our case. Our analysis is mainly based on the gender of the speaker. Even if the QID is not the one of the speaker but from someone that shares the same name there is some high chances that the gender of both person is the same. Names are mostly gender-specific."
      ]
    },
    {
      "cell_type": "code",
      "execution_count": null,
      "metadata": {
        "id": "UDPynOyWldZS"
      },
      "outputs": [],
      "source": [
        "###### maybe another reason we discussed######"
      ]
    },
    {
      "cell_type": "markdown",
      "metadata": {
        "id": "XmV0GRn0jSL9"
      },
      "source": [
        "We execute this for 2020 data (execute only once)."
      ]
    },
    {
      "cell_type": "code",
      "execution_count": null,
      "metadata": {
        "id": "vrujakjDEzD-"
      },
      "outputs": [],
      "source": [
        "total_quotes, empty_genders = add_speaker_attributes(FILTERED_QUOTES_UK_2020_PATH,MERGED_QUOTES_UK_2020_PATH)\n"
      ]
    },
    {
      "cell_type": "code",
      "execution_count": null,
      "metadata": {
        "colab": {
          "base_uri": "https://localhost:8080/"
        },
        "id": "eA8R8EYsitNQ",
        "outputId": "7f4e8038-9c02-4267-a22b-9dc6155113bf"
      },
      "outputs": [
        {
          "name": "stdout",
          "output_type": "stream",
          "text": [
            "0.01046056498305551\n"
          ]
        }
      ],
      "source": [
        "print(empty_genders / total_quotes)"
      ]
    },
    {
      "cell_type": "code",
      "execution_count": null,
      "metadata": {
        "id": "8tG8ci3fKEOx"
      },
      "outputs": [],
      "source": [
        "# We check that the new file contains the right data\n",
        "merged_sample_df = load_mini_version_of_data(MERGED_QUOTES_2020_PATH, 10000, 10, use_colab)\n",
        "merged_sample_df.head(15)"
      ]
    },
    {
      "cell_type": "markdown",
      "metadata": {
        "id": "oSgj3WcDxSi5"
      },
      "source": [
        "We do this for all years (only once)."
      ]
    },
    {
      "cell_type": "code",
      "execution_count": null,
      "metadata": {
        "id": "cWQlqUZIjRvK"
      },
      "outputs": [],
      "source": [
        "#total2019, empty2019 = add_speaker_attributes(FILTERED_QUOTES_UK_2019_PATH, MERGED_QUOTES_UK_2019_PATH)\n",
        "#total2018, empty2018 = add_speaker_attributes(FILTERED_QUOTES_UK_2018_PATH, MERGED_QUOTES_UK_2018_PATH)\n",
        "#total2017, empty2017 = add_speaker_attributes(FILTERED_QUOTES_UK_2017_PATH, MERGED_QUOTES_UK_2017_PATH)\n",
        "#total2016, empty2016 = add_speaker_attributes(FILTERED_QUOTES_UK_2016_PATH, MERGED_QUOTES_UK_2016_PATH)\n",
        "#total2015, empty2015 = add_speaker_attributes(FILTERED_QUOTES_UK_2015_PATH, MERGED_QUOTES_UK_2015_PATH)"
      ]
    },
    {
      "cell_type": "markdown",
      "metadata": {
        "id": "xWcQ3sFVwA-t"
      },
      "source": [
        "Now let's merge the speaker attributes of all other countries"
      ]
    },
    {
      "cell_type": "code",
      "execution_count": null,
      "metadata": {
        "id": "lmoMoK07i15o"
      },
      "outputs": [],
      "source": [
        "# For the US\n",
        "#totalUS2020, emptyUS2020 = add_speaker_attributes(FILTERED_QUOTES_US_2020_PATH, MERGED_QUOTES_US_2020_PATH)\n",
        "#totalUS2019, emptyUS2019 = add_speaker_attributes(FILTERED_QUOTES_US_2019_PATH, MERGED_QUOTES_US_2019_PATH)\n",
        "#totalUS2018, emptyUS2018 = add_speaker_attributes(FILTERED_QUOTES_US_2018_PATH, MERGED_QUOTES_US_2018_PATH)\n",
        "#totalUS2017, emptyUS2017 = add_speaker_attributes(FILTERED_QUOTES_US_2017_PATH, MERGED_QUOTES_US_2017_PATH)\n",
        "#totalUS2016, emptyUS2016 = add_speaker_attributes(FILTERED_QUOTES_US_2016_PATH, MERGED_QUOTES_US_2016_PATH)\n",
        "#totalUS2015, emptyUS2015 = add_speaker_attributes(FILTERED_QUOTES_US_2015_PATH, MERGED_QUOTES_US_2015_PATH)\n",
        "\n",
        "# For Australia\n",
        "#totalAU2020, emptyAU2020 = add_speaker_attributes(FILTERED_QUOTES_AU_2020_PATH, MERGED_QUOTES_AU_2020_PATH)\n",
        "#totalAU2019, emptyAU2019 = add_speaker_attributes(FILTERED_QUOTES_AU_2019_PATH, MERGED_QUOTES_AU_2019_PATH)\n",
        "#totalAU2018, emptyAU2018 = add_speaker_attributes(FILTERED_QUOTES_AU_2018_PATH, MERGED_QUOTES_AU_2018_PATH)\n",
        "#totalAU2017, emptyAU2017 = add_speaker_attributes(FILTERED_QUOTES_AU_2017_PATH, MERGED_QUOTES_AU_2017_PATH)\n",
        "#totalAU2016, emptyAU2016 = add_speaker_attributes(FILTERED_QUOTES_AU_2016_PATH, MERGED_QUOTES_AU_2016_PATH)\n",
        "#totalAU2015, emptyAU2015 = add_speaker_attributes(FILTERED_QUOTES_AU_2015_PATH, MERGED_QUOTES_AU_2015_PATH)\n",
        "\n",
        "# For India\n",
        "#totalIN2020,emptyIN2020 = add_speaker_attributes(FILTERED_QUOTES_IN_2020_PATH, MERGED_QUOTES_IN_2020_PATH)\n",
        "#totalIN2019,emptyIN2019 = add_speaker_attributes(FILTERED_QUOTES_IN_2019_PATH, MERGED_QUOTES_IN_2019_PATH)\n",
        "#totalIN2018,emptyIN2018 = add_speaker_attributes(FILTERED_QUOTES_IN_2018_PATH, MERGED_QUOTES_IN_2018_PATH)\n",
        "#totalIN2017,emptyIN2017 = add_speaker_attributes(FILTERED_QUOTES_IN_2017_PATH, MERGED_QUOTES_IN_2017_PATH)\n",
        "#totalIN2016,emptyIN2016 = add_speaker_attributes(FILTERED_QUOTES_IN_2016_PATH, MERGED_QUOTES_IN_2016_PATH)\n",
        "#totalIN2015,emptyIN2015 = add_speaker_attributes(FILTERED_QUOTES_IN_2015_PATH, MERGED_QUOTES_IN_2015_PATH)\n",
        "\n",
        "# For Nigeria\n",
        "#totalNG2020, emptyNG2020 = add_speaker_attributes(FILTERED_QUOTES_NG_2020_PATH, MERGED_QUOTES_NG_2020_PATH)\n",
        "#totalNG2019, emptyNG2019 = add_speaker_attributes(FILTERED_QUOTES_NG_2019_PATH, MERGED_QUOTES_NG_2019_PATH)\n",
        "#totalNG2018, emptyNG2018 = add_speaker_attributes(FILTERED_QUOTES_NG_2018_PATH, MERGED_QUOTES_NG_2018_PATH)\n",
        "#totalNG2017, emptyNG2017 = add_speaker_attributes(FILTERED_QUOTES_NG_2017_PATH, MERGED_QUOTES_NG_2017_PATH)\n",
        "#totalNG2016, emptyNG2016 = add_speaker_attributes(FILTERED_QUOTES_NG_2016_PATH, MERGED_QUOTES_NG_2016_PATH)\n",
        "#totalNG2015, emptyNG2015 = add_speaker_attributes(FILTERED_QUOTES_NG_2015_PATH, MERGED_QUOTES_NG_2015_PATH)"
      ]
    },
    {
      "cell_type": "markdown",
      "metadata": {
        "id": "L6UEU47N5pL_",
        "tags": []
      },
      "source": [
        "## 4 Sanity check\n",
        "<a id=\"sanity_check\"></a>\n",
        "Before proceeding to an exploration of our data, we need to check if there are no anomalies left in the data like missing values. We do this on a per year basis. "
      ]
    },
    {
      "cell_type": "code",
      "execution_count": null,
      "metadata": {
        "colab": {
          "base_uri": "https://localhost:8080/"
        },
        "id": "s-1VYEpIRODm",
        "outputId": "9a1b73ce-07cd-4b41-e687-b5faf7bf025f"
      },
      "outputs": [
        {
          "data": {
            "text/plain": [
              "(158261, 11)"
            ]
          },
          "execution_count": 41,
          "metadata": {},
          "output_type": "execute_result"
        }
      ],
      "source": [
        "# Load df\n",
        "df_2020 = pd.read_json(MERGED_QUOTES_2020_PATH, lines=True, compression='bz2')\n",
        "\n",
        "# Print shape\n",
        "df_2020.shape"
      ]
    },
    {
      "cell_type": "code",
      "execution_count": null,
      "metadata": {
        "colab": {
          "base_uri": "https://localhost:8080/",
          "height": 425
        },
        "id": "gVBrxEjJRvFP",
        "outputId": "e4df9891-f56c-4056-dad1-0773eab88777"
      },
      "outputs": [
        {
          "data": {
            "text/html": [
              "<div>\n",
              "<style scoped>\n",
              "    .dataframe tbody tr th:only-of-type {\n",
              "        vertical-align: middle;\n",
              "    }\n",
              "\n",
              "    .dataframe tbody tr th {\n",
              "        vertical-align: top;\n",
              "    }\n",
              "\n",
              "    .dataframe thead th {\n",
              "        text-align: right;\n",
              "    }\n",
              "</style>\n",
              "<table border=\"1\" class=\"dataframe\">\n",
              "  <thead>\n",
              "    <tr style=\"text-align: right;\">\n",
              "      <th></th>\n",
              "      <th>quoteID</th>\n",
              "      <th>quotation</th>\n",
              "      <th>speaker</th>\n",
              "      <th>date</th>\n",
              "      <th>numOccurrences</th>\n",
              "      <th>urls</th>\n",
              "      <th>newspapers</th>\n",
              "      <th>qid</th>\n",
              "      <th>gender</th>\n",
              "      <th>nationality</th>\n",
              "      <th>occupation</th>\n",
              "    </tr>\n",
              "  </thead>\n",
              "  <tbody>\n",
              "    <tr>\n",
              "      <th>0</th>\n",
              "      <td>2020-01-17-000357</td>\n",
              "      <td>[ The delay ] will have an impact [ on Slough ...</td>\n",
              "      <td>Dexter Smith</td>\n",
              "      <td>2020-01-17 13:03:00</td>\n",
              "      <td>1</td>\n",
              "      <td>[http://www.sloughexpress.co.uk/gallery/slough...</td>\n",
              "      <td>[Daily Express]</td>\n",
              "      <td>Q5268447</td>\n",
              "      <td>[male]</td>\n",
              "      <td>[Bermuda]</td>\n",
              "      <td>[cricketer]</td>\n",
              "    </tr>\n",
              "    <tr>\n",
              "      <th>1</th>\n",
              "      <td>2020-02-07-005251</td>\n",
              "      <td>And for the record, Eamonn Holmes made me laug...</td>\n",
              "      <td>Phillip Schofield</td>\n",
              "      <td>2020-02-07 20:30:49</td>\n",
              "      <td>2</td>\n",
              "      <td>[https://www.dailystar.co.uk/showbiz/breaking-...</td>\n",
              "      <td>[Daily Star]</td>\n",
              "      <td>Q7185804</td>\n",
              "      <td>[male]</td>\n",
              "      <td>[United Kingdom, New Zealand]</td>\n",
              "      <td>[television presenter]</td>\n",
              "    </tr>\n",
              "    <tr>\n",
              "      <th>2</th>\n",
              "      <td>2020-01-11-002445</td>\n",
              "      <td>And help he always did. For someone who prefer...</td>\n",
              "      <td>Anna Wintour</td>\n",
              "      <td>2020-01-11 01:46:07</td>\n",
              "      <td>3</td>\n",
              "      <td>[https://www.irishmirror.ie/showbiz/celebrity-...</td>\n",
              "      <td>[Daily Mirror]</td>\n",
              "      <td>Q230744</td>\n",
              "      <td>[female]</td>\n",
              "      <td>[United Kingdom]</td>\n",
              "      <td>[journalist, fashion editor, writer, editor]</td>\n",
              "    </tr>\n",
              "    <tr>\n",
              "      <th>3</th>\n",
              "      <td>2020-01-21-005435</td>\n",
              "      <td>And the symptoms of what a person goes through...</td>\n",
              "      <td>Taylor Swift</td>\n",
              "      <td>2020-01-21 15:58:39</td>\n",
              "      <td>8</td>\n",
              "      <td>[https://www.irishmirror.ie/showbiz/celebrity-...</td>\n",
              "      <td>[Daily Mirror]</td>\n",
              "      <td>Q26876</td>\n",
              "      <td>[female]</td>\n",
              "      <td>[United States of America]</td>\n",
              "      <td>[actor, pianist, banjoist, composer, guitarist...</td>\n",
              "    </tr>\n",
              "    <tr>\n",
              "      <th>4</th>\n",
              "      <td>2020-01-31-008580</td>\n",
              "      <td>As you reach or have reached the apex of your ...</td>\n",
              "      <td>Keyon Dooling</td>\n",
              "      <td>2020-01-31 19:07:55</td>\n",
              "      <td>1</td>\n",
              "      <td>[https://www.theguardian.com/sport/2020/jan/31...</td>\n",
              "      <td>[The Guardian]</td>\n",
              "      <td>Q304349</td>\n",
              "      <td>[male]</td>\n",
              "      <td>[United States of America]</td>\n",
              "      <td>[basketball player]</td>\n",
              "    </tr>\n",
              "  </tbody>\n",
              "</table>\n",
              "</div>"
            ],
            "text/plain": [
              "             quoteID  ...                                         occupation\n",
              "0  2020-01-17-000357  ...                                        [cricketer]\n",
              "1  2020-02-07-005251  ...                             [television presenter]\n",
              "2  2020-01-11-002445  ...       [journalist, fashion editor, writer, editor]\n",
              "3  2020-01-21-005435  ...  [actor, pianist, banjoist, composer, guitarist...\n",
              "4  2020-01-31-008580  ...                                [basketball player]\n",
              "\n",
              "[5 rows x 11 columns]"
            ]
          },
          "execution_count": 42,
          "metadata": {},
          "output_type": "execute_result"
        }
      ],
      "source": [
        "df_2020.head()"
      ]
    },
    {
      "cell_type": "code",
      "execution_count": null,
      "metadata": {
        "colab": {
          "base_uri": "https://localhost:8080/",
          "height": 297
        },
        "id": "J1Dd9KHi3nVj",
        "outputId": "9b763c3a-549b-4c2c-b194-181fc11dde04"
      },
      "outputs": [
        {
          "data": {
            "text/html": [
              "<div>\n",
              "<style scoped>\n",
              "    .dataframe tbody tr th:only-of-type {\n",
              "        vertical-align: middle;\n",
              "    }\n",
              "\n",
              "    .dataframe tbody tr th {\n",
              "        vertical-align: top;\n",
              "    }\n",
              "\n",
              "    .dataframe thead th {\n",
              "        text-align: right;\n",
              "    }\n",
              "</style>\n",
              "<table border=\"1\" class=\"dataframe\">\n",
              "  <thead>\n",
              "    <tr style=\"text-align: right;\">\n",
              "      <th></th>\n",
              "      <th>numOccurrences</th>\n",
              "    </tr>\n",
              "  </thead>\n",
              "  <tbody>\n",
              "    <tr>\n",
              "      <th>count</th>\n",
              "      <td>158261.000000</td>\n",
              "    </tr>\n",
              "    <tr>\n",
              "      <th>mean</th>\n",
              "      <td>15.921907</td>\n",
              "    </tr>\n",
              "    <tr>\n",
              "      <th>std</th>\n",
              "      <td>41.979870</td>\n",
              "    </tr>\n",
              "    <tr>\n",
              "      <th>min</th>\n",
              "      <td>1.000000</td>\n",
              "    </tr>\n",
              "    <tr>\n",
              "      <th>25%</th>\n",
              "      <td>1.000000</td>\n",
              "    </tr>\n",
              "    <tr>\n",
              "      <th>50%</th>\n",
              "      <td>1.000000</td>\n",
              "    </tr>\n",
              "    <tr>\n",
              "      <th>75%</th>\n",
              "      <td>5.000000</td>\n",
              "    </tr>\n",
              "    <tr>\n",
              "      <th>max</th>\n",
              "      <td>2037.000000</td>\n",
              "    </tr>\n",
              "  </tbody>\n",
              "</table>\n",
              "</div>"
            ],
            "text/plain": [
              "       numOccurrences\n",
              "count   158261.000000\n",
              "mean        15.921907\n",
              "std         41.979870\n",
              "min          1.000000\n",
              "25%          1.000000\n",
              "50%          1.000000\n",
              "75%          5.000000\n",
              "max       2037.000000"
            ]
          },
          "execution_count": 43,
          "metadata": {},
          "output_type": "execute_result"
        }
      ],
      "source": [
        "# Full descritpion of the numerical data\n",
        "df_2020.describe()"
      ]
    },
    {
      "cell_type": "markdown",
      "metadata": {
        "id": "H6op5heG36Fa"
      },
      "source": [
        "The only numerical data we get is the number of occurences. We only get a meaningful description for this column yet."
      ]
    },
    {
      "cell_type": "code",
      "execution_count": null,
      "metadata": {
        "colab": {
          "base_uri": "https://localhost:8080/"
        },
        "id": "aX618mD84Gx1",
        "outputId": "80d9221b-14e7-43af-c213-45bba760c47c"
      },
      "outputs": [
        {
          "data": {
            "text/plain": [
              "quoteID           False\n",
              "quotation         False\n",
              "speaker           False\n",
              "date              False\n",
              "numOccurrences    False\n",
              "urls              False\n",
              "newspapers        False\n",
              "qid               False\n",
              "gender            False\n",
              "nationality        True\n",
              "occupation         True\n",
              "dtype: bool"
            ]
          },
          "execution_count": 44,
          "metadata": {},
          "output_type": "execute_result"
        }
      ],
      "source": [
        "# Verification for missing values\n",
        "df_2020.isnull().any()"
      ]
    },
    {
      "cell_type": "code",
      "execution_count": null,
      "metadata": {
        "colab": {
          "base_uri": "https://localhost:8080/"
        },
        "id": "fVq15RFm-QWY",
        "outputId": "335e0511-e2eb-42b6-9115-058e4c747f7f"
      },
      "outputs": [
        {
          "data": {
            "text/plain": [
              "0"
            ]
          },
          "execution_count": 45,
          "metadata": {},
          "output_type": "execute_result"
        }
      ],
      "source": [
        "# Verification that there are no empty lists remaining\n",
        "df_2020[df_2020[\"gender\"].str.len() == 0].size"
      ]
    },
    {
      "cell_type": "markdown",
      "metadata": {
        "id": "1LJLVoZf4S3h"
      },
      "source": [
        "We only have missing values for the nationality and occupation. We knew it would be the case. For us the most important was to remove any 'None' speakers. The nationalities and occupations will be later used for a deeper analysis. We will simply have to deal with them."
      ]
    },
    {
      "cell_type": "code",
      "execution_count": null,
      "metadata": {
        "colab": {
          "base_uri": "https://localhost:8080/",
          "height": 49
        },
        "id": "V_ilXRSE5dPg",
        "outputId": "efe029a5-c652-43b1-87fd-38b618d0cef5"
      },
      "outputs": [
        {
          "data": {
            "text/html": [
              "<div>\n",
              "<style scoped>\n",
              "    .dataframe tbody tr th:only-of-type {\n",
              "        vertical-align: middle;\n",
              "    }\n",
              "\n",
              "    .dataframe tbody tr th {\n",
              "        vertical-align: top;\n",
              "    }\n",
              "\n",
              "    .dataframe thead th {\n",
              "        text-align: right;\n",
              "    }\n",
              "</style>\n",
              "<table border=\"1\" class=\"dataframe\">\n",
              "  <thead>\n",
              "    <tr style=\"text-align: right;\">\n",
              "      <th></th>\n",
              "      <th>quoteID</th>\n",
              "      <th>quotation</th>\n",
              "      <th>speaker</th>\n",
              "      <th>date</th>\n",
              "      <th>numOccurrences</th>\n",
              "      <th>urls</th>\n",
              "      <th>newspapers</th>\n",
              "      <th>qid</th>\n",
              "      <th>gender</th>\n",
              "      <th>nationality</th>\n",
              "      <th>occupation</th>\n",
              "    </tr>\n",
              "  </thead>\n",
              "  <tbody>\n",
              "  </tbody>\n",
              "</table>\n",
              "</div>"
            ],
            "text/plain": [
              "Empty DataFrame\n",
              "Columns: [quoteID, quotation, speaker, date, numOccurrences, urls, newspapers, qid, gender, nationality, occupation]\n",
              "Index: []"
            ]
          },
          "execution_count": 46,
          "metadata": {},
          "output_type": "execute_result"
        }
      ],
      "source": [
        "# Verification of empty quotes\n",
        "df_2020[df_2020.quotation == '']"
      ]
    },
    {
      "cell_type": "code",
      "execution_count": null,
      "metadata": {
        "colab": {
          "base_uri": "https://localhost:8080/",
          "height": 49
        },
        "id": "IlOj-52z5jkR",
        "outputId": "8b48e20f-e123-4268-fc03-ee509da88be4"
      },
      "outputs": [
        {
          "data": {
            "text/html": [
              "<div>\n",
              "<style scoped>\n",
              "    .dataframe tbody tr th:only-of-type {\n",
              "        vertical-align: middle;\n",
              "    }\n",
              "\n",
              "    .dataframe tbody tr th {\n",
              "        vertical-align: top;\n",
              "    }\n",
              "\n",
              "    .dataframe thead th {\n",
              "        text-align: right;\n",
              "    }\n",
              "</style>\n",
              "<table border=\"1\" class=\"dataframe\">\n",
              "  <thead>\n",
              "    <tr style=\"text-align: right;\">\n",
              "      <th></th>\n",
              "      <th>quoteID</th>\n",
              "      <th>quotation</th>\n",
              "      <th>speaker</th>\n",
              "      <th>date</th>\n",
              "      <th>numOccurrences</th>\n",
              "      <th>urls</th>\n",
              "      <th>newspapers</th>\n",
              "      <th>qid</th>\n",
              "      <th>gender</th>\n",
              "      <th>nationality</th>\n",
              "      <th>occupation</th>\n",
              "    </tr>\n",
              "  </thead>\n",
              "  <tbody>\n",
              "  </tbody>\n",
              "</table>\n",
              "</div>"
            ],
            "text/plain": [
              "Empty DataFrame\n",
              "Columns: [quoteID, quotation, speaker, date, numOccurrences, urls, newspapers, qid, gender, nationality, occupation]\n",
              "Index: []"
            ]
          },
          "execution_count": 47,
          "metadata": {},
          "output_type": "execute_result"
        }
      ],
      "source": [
        "# Verification of duplicates\n",
        "duplicates = df_2020[df_2020.duplicated(subset='quoteID', keep='first')] \n",
        "duplicates.head()"
      ]
    },
    {
      "cell_type": "markdown",
      "metadata": {
        "id": "7msABdN75tUZ"
      },
      "source": [
        "There are no missing quotes nor duplicates. Thus we don't have additional modification to make."
      ]
    },
    {
      "cell_type": "markdown",
      "source": [
        "## 5 Normalization of our datasets\n",
        "<a id=\"normalization\"></a>\n",
        "In order to normalize our results, we need to investigate UK's gender proportion and create constants according to each datasets' sizes"
      ],
      "metadata": {
        "id": "QOOlt3KFwMQP"
      }
    },
    {
      "cell_type": "markdown",
      "source": [
        "###5.1 Gender-diverse\n",
        "<a id=\"gender-diverse\"></a>\n",
        "\n"
      ],
      "metadata": {
        "id": "u6MvQrEM47u3"
      }
    },
    {
      "cell_type": "markdown",
      "source": [
        "To this day, there are very few estimates of the percentage of gender-diverse individuals in different countries. \n",
        "\n",
        "According to (cite article), \"On balance, the data indicate that people who self-identify as TGNC [transgender and gender nonconforming] represent a sizable proportion of the general population with realistic estimates ranging from **0.1% to 2%**, depending on the inclusion criteria and geographic location.\" \n",
        "https://doi.org/10.1016/j.ecl.2019.01.001\n",
        "\n",
        "We decided to estimate the proportion of gender-diverse individuals in UK to 2%."
      ],
      "metadata": {
        "id": "z0KPmpey5WQ-"
      }
    },
    {
      "cell_type": "code",
      "source": [
        "uk_perc_other = 0.02"
      ],
      "metadata": {
        "id": "SmeBXnWexV6P"
      },
      "execution_count": 49,
      "outputs": []
    },
    {
      "cell_type": "markdown",
      "source": [
        "### 5.2 Cisgender\n",
        "<a id=\"cisgender\"></a>"
      ],
      "metadata": {
        "id": "ayjoUT__8ekP"
      }
    },
    {
      "cell_type": "markdown",
      "source": [
        "The numbers for the cisgender population in the UK are \"according to the 2011 Census, women and girls made up 51% of the population of England and Wales, and men and boys made up 49%\".\n",
        "https://www.ethnicity-facts-figures.service.gov.uk/uk-population-by-ethnicity/demographics/male-and-female-populations/latest\n",
        "\n",
        "As our estimate of 2% of gender-diverse, we will count 50% of male and 48% of female."
      ],
      "metadata": {
        "id": "IgynaVtW8yl1"
      }
    },
    {
      "cell_type": "code",
      "source": [
        "uk_perc_male = 0.5\n",
        "uk_perc_female = 0.48"
      ],
      "metadata": {
        "id": "mB0onsPw8xoW"
      },
      "execution_count": 50,
      "outputs": []
    },
    {
      "cell_type": "markdown",
      "source": [
        "### 5.3 Normalization of quotations authors genders"
      ],
      "metadata": {
        "id": "y0vcLDpq91pu"
      }
    },
    {
      "cell_type": "markdown",
      "source": [
        "In our analysis we want to compare how are different gender represented in UK's most known newspapers. As the gender percentages of gender-diverse - cisgenre are extremely different, we want to compare authors' gender by normalizing it with the percentage of UK's population they represent."
      ],
      "metadata": {
        "id": "GuADG9vs-Ebj"
      }
    },
    {
      "cell_type": "code",
      "source": [
        "# UK's population average from 2015-2020\n",
        "uk_pop = round((65.12 + 65.61 + 66.06 + 66.46 + 66.84 + 67.22)*1000000/6)\n",
        "\n",
        "# UK's gender proportions\n",
        "uk_prop_others = uk_perc_other*uk_pop\n",
        "uk_prop_female = uk_perc_female*uk_pop\n",
        "uk_prop_male = uk_perc_male*uk_pop"
      ],
      "metadata": {
        "id": "fyONC3y7INDg"
      },
      "execution_count": 52,
      "outputs": []
    },
    {
      "cell_type": "code",
      "source": [
        "# Load year dataframe \n",
        "df_2020 = pd.read_json(MERGED_QUOTES_UK_2020_PATH, lines=True, compression='bz2')"
      ],
      "metadata": {
        "id": "4DkvB-OBGDMV"
      },
      "execution_count": 53,
      "outputs": []
    },
    {
      "cell_type": "code",
      "source": [
        "def get_normalize_factor(quotes_df, perc_others_country, perc_female_country, perc_male_country):\n",
        "  # Extract authors\n",
        "  authors_df = quotes_df[['speaker', 'gender']]\n",
        "\n",
        "  # Remove authors present more than once\n",
        "  authors_df = authors_df.drop_duplicates(subset='speaker', keep='first')\n",
        "  total = len(authors_df)\n",
        "\n",
        "  # Percentage of authors genders\n",
        "  perc_male = authors_df.gender.apply(lambda x : 'male' in x).sum() / total\n",
        "  perc_female = authors_df.gender.apply(lambda x : 'female' in x).sum() / total\n",
        "  perc_others = 1 - perc_male - perc_female\n",
        "\n",
        "  # Compute normalization factor\n",
        "  norm_fact_others = perc_others / perc_others_country\n",
        "  norm_fact_female = perc_female / perc_female_country\n",
        "  norm_fact_male = perc_male / perc_male_country\n",
        "  \n",
        "  return norm_fact_others, norm_fact_female, norm_fact_male"
      ],
      "metadata": {
        "id": "Dpp1P1Jo-D0W"
      },
      "execution_count": 76,
      "outputs": []
    },
    {
      "cell_type": "code",
      "source": [
        "n_o, n_f, n_m = get_normalize_factor(df_2020, uk_perc_other, uk_perc_female, uk_perc_male)"
      ],
      "metadata": {
        "id": "8DSyt7BWFk6d"
      },
      "execution_count": 73,
      "outputs": []
    },
    {
      "cell_type": "code",
      "source": [
        "print(n_o, n_f, n_m)"
      ],
      "metadata": {
        "colab": {
          "base_uri": "https://localhost:8080/"
        },
        "id": "rG94Lp6_N3V7",
        "outputId": "2b6a06b6-8a89-4810-e99d-319008f48853"
      },
      "execution_count": 77,
      "outputs": [
        {
          "output_type": "stream",
          "name": "stdout",
          "text": [
            "0.09363694403064782 0.49673689437468965 1.519387103639072\n"
          ]
        }
      ]
    },
    {
      "cell_type": "code",
      "source": [
        ""
      ],
      "metadata": {
        "id": "iFA9g6xjQM9F"
      },
      "execution_count": null,
      "outputs": []
    }
  ],
  "metadata": {
    "accelerator": "TPU",
    "colab": {
      "collapsed_sections": [],
      "name": "data_preprocessing.ipynb",
      "provenance": [],
      "include_colab_link": true
    },
    "kernelspec": {
      "display_name": "Python 3 (ipykernel)",
      "language": "python",
      "name": "python3"
    },
    "language_info": {
      "codemirror_mode": {
        "name": "ipython",
        "version": 3
      },
      "file_extension": ".py",
      "mimetype": "text/x-python",
      "name": "python",
      "nbconvert_exporter": "python",
      "pygments_lexer": "ipython3",
      "version": "3.8.11"
    }
  },
  "nbformat": 4,
  "nbformat_minor": 0
}
{
  "nbformat": 4,
  "nbformat_minor": 0,
  "metadata": {
    "colab": {
      "name": "Algos_test.ipynb",
      "provenance": [],
      "collapsed_sections": [
        "2hIDOrfzBSjp"
      ],
      "authorship_tag": "ABX9TyOOGCEJxeIyMYGQ8neKV1dq",
      "include_colab_link": true
    },
    "kernelspec": {
      "name": "python3",
      "display_name": "Python 3"
    },
    "language_info": {
      "name": "python"
    }
  },
  "cells": [
    {
      "cell_type": "markdown",
      "metadata": {
        "id": "view-in-github",
        "colab_type": "text"
      },
      "source": [
        "<a href=\"https://colab.research.google.com/github/morwald/ada_project/blob/master/Algos_test.ipynb\" target=\"_parent\"><img src=\"https://colab.research.google.com/assets/colab-badge.svg\" alt=\"Open In Colab\"/></a>"
      ]
    },
    {
      "cell_type": "code",
      "metadata": {
        "id": "AvKsksFEAJG4"
      },
      "source": [
        "import pandas as pd\n",
        "import numpy as np\n",
        "import seaborn as sns\n",
        "import matplotlib.pyplot as plt\n",
        "import json\n",
        "import bz2"
      ],
      "execution_count": 1,
      "outputs": []
    },
    {
      "cell_type": "code",
      "metadata": {
        "id": "3DIyBejIAc9i"
      },
      "source": [
        "# Comment the files which aren't stored locally\n",
        "# In Colab everything should be available\n",
        "QUOTES_2020_PATH = 'Merged data/quotes-2020-gb.pkl'\n",
        "QUOTES_2019_PATH = 'Merged data/quotes-2019-gb.pkl' \n",
        "QUOTES_2018_PATH = 'Merged data/quotes-2018-gb.pkl'  \n",
        "QUOTES_2017_PATH = 'Merged data/quotes-2017-gb.pkl'\n",
        "QUOTES_2016_PATH = 'Merged data/quotes-2016-gb.pkl'\n",
        "QUOTES_2015_PATH = 'Merged data/quotes-2015-gb.pkl'"
      ],
      "execution_count": 3,
      "outputs": []
    },
    {
      "cell_type": "code",
      "metadata": {
        "id": "9rpE-uK5Ao-V"
      },
      "source": [
        "use_colab = True"
      ],
      "execution_count": 4,
      "outputs": []
    },
    {
      "cell_type": "code",
      "metadata": {
        "colab": {
          "base_uri": "https://localhost:8080/"
        },
        "id": "83EtGneHArR2",
        "outputId": "0a8821d1-aad5-4db7-b710-f6fab41feea7"
      },
      "source": [
        "# Import with EPFL google drive!\n",
        "if use_colab:\n",
        "    from google.colab import drive\n",
        "    drive.mount('/content/drive', force_remount=True)\n",
        "    \n",
        "    %cd /content/drive/Shareddrives/ADA-project"
      ],
      "execution_count": 5,
      "outputs": [
        {
          "output_type": "stream",
          "name": "stdout",
          "text": [
            "Mounted at /content/drive\n",
            "/content/drive/Shareddrives/ADA-project\n"
          ]
        }
      ]
    },
    {
      "cell_type": "markdown",
      "metadata": {
        "id": "2hIDOrfzBSjp"
      },
      "source": [
        "# LDA algo 1 (https://www.machinelearningplus.com/nlp/topic-modeling-gensim-python/)\n"
      ]
    },
    {
      "cell_type": "code",
      "metadata": {
        "colab": {
          "base_uri": "https://localhost:8080/"
        },
        "id": "7xSD8DOPCA1m",
        "outputId": "4eb39b4e-9656-48b9-c205-da427ae16085"
      },
      "source": [
        "!pip install pyldavis"
      ],
      "execution_count": 6,
      "outputs": [
        {
          "output_type": "stream",
          "name": "stdout",
          "text": [
            "Requirement already satisfied: pyldavis in /usr/local/lib/python3.7/dist-packages (3.3.1)\n",
            "Requirement already satisfied: pandas>=1.2.0 in /usr/local/lib/python3.7/dist-packages (from pyldavis) (1.3.4)\n",
            "Requirement already satisfied: numexpr in /usr/local/lib/python3.7/dist-packages (from pyldavis) (2.7.3)\n",
            "Requirement already satisfied: funcy in /usr/local/lib/python3.7/dist-packages (from pyldavis) (1.16)\n",
            "Requirement already satisfied: numpy>=1.20.0 in /usr/local/lib/python3.7/dist-packages (from pyldavis) (1.21.4)\n",
            "Requirement already satisfied: joblib in /usr/local/lib/python3.7/dist-packages (from pyldavis) (1.1.0)\n",
            "Requirement already satisfied: gensim in /usr/local/lib/python3.7/dist-packages (from pyldavis) (3.6.0)\n",
            "Requirement already satisfied: setuptools in /usr/local/lib/python3.7/dist-packages (from pyldavis) (57.4.0)\n",
            "Requirement already satisfied: scipy in /usr/local/lib/python3.7/dist-packages (from pyldavis) (1.4.1)\n",
            "Requirement already satisfied: scikit-learn in /usr/local/lib/python3.7/dist-packages (from pyldavis) (1.0.1)\n",
            "Requirement already satisfied: future in /usr/local/lib/python3.7/dist-packages (from pyldavis) (0.16.0)\n",
            "Requirement already satisfied: sklearn in /usr/local/lib/python3.7/dist-packages (from pyldavis) (0.0)\n",
            "Requirement already satisfied: jinja2 in /usr/local/lib/python3.7/dist-packages (from pyldavis) (2.11.3)\n",
            "Requirement already satisfied: python-dateutil>=2.7.3 in /usr/local/lib/python3.7/dist-packages (from pandas>=1.2.0->pyldavis) (2.8.2)\n",
            "Requirement already satisfied: pytz>=2017.3 in /usr/local/lib/python3.7/dist-packages (from pandas>=1.2.0->pyldavis) (2018.9)\n",
            "Requirement already satisfied: six>=1.5 in /usr/local/lib/python3.7/dist-packages (from python-dateutil>=2.7.3->pandas>=1.2.0->pyldavis) (1.15.0)\n",
            "Requirement already satisfied: smart-open>=1.2.1 in /usr/local/lib/python3.7/dist-packages (from gensim->pyldavis) (5.2.1)\n",
            "Requirement already satisfied: MarkupSafe>=0.23 in /usr/local/lib/python3.7/dist-packages (from jinja2->pyldavis) (2.0.1)\n",
            "Requirement already satisfied: threadpoolctl>=2.0.0 in /usr/local/lib/python3.7/dist-packages (from scikit-learn->pyldavis) (3.0.0)\n"
          ]
        }
      ]
    },
    {
      "cell_type": "code",
      "metadata": {
        "colab": {
          "base_uri": "https://localhost:8080/"
        },
        "id": "slDJ7KlzA_gD",
        "outputId": "8acf743e-0fc8-492c-94cd-e3e18236df37"
      },
      "source": [
        "import nltk; nltk.download('stopwords')\n",
        "\n",
        "import re\n",
        "from pprint import pprint\n",
        "\n",
        "# Gensim\n",
        "import gensim\n",
        "import gensim.corpora as corpora\n",
        "from gensim.utils import simple_preprocess\n",
        "from gensim.models import CoherenceModel\n",
        "\n",
        "# spacy for lemmatization\n",
        "import spacy\n",
        "\n",
        "# Plotting tools\n",
        "import pyLDAvis\n",
        "import pyLDAvis.gensim_models  # don't skip this\n",
        "pyLDAvis.enable_notebook()\n",
        "import matplotlib.pyplot as plt\n",
        "%matplotlib inline\n",
        "\n",
        "# Enable logging for gensim - optional\n",
        "import logging\n",
        "logging.basicConfig(format='%(asctime)s : %(levelname)s : %(message)s', level=logging.ERROR)\n",
        "\n",
        "import warnings\n",
        "warnings.filterwarnings(\"ignore\",category=DeprecationWarning)"
      ],
      "execution_count": 10,
      "outputs": [
        {
          "output_type": "stream",
          "name": "stdout",
          "text": [
            "[nltk_data] Downloading package stopwords to /root/nltk_data...\n",
            "[nltk_data]   Package stopwords is already up-to-date!\n"
          ]
        }
      ]
    },
    {
      "cell_type": "code",
      "metadata": {
        "id": "P5QD-mpkBmEt"
      },
      "source": [
        "# NLTK Stop words\n",
        "from nltk.corpus import stopwords\n",
        "stop_words = stopwords.words('english')\n",
        "stop_words.extend(['from', 'subject', 're', 'edu', 'use'])"
      ],
      "execution_count": 11,
      "outputs": []
    },
    {
      "cell_type": "code",
      "metadata": {
        "colab": {
          "base_uri": "https://localhost:8080/",
          "height": 306
        },
        "id": "UGBqV4Y6Czhk",
        "outputId": "0e0ba665-6b5b-4a03-a9be-f6ebd3461c00"
      },
      "source": [
        "df = pd.read_json('https://raw.githubusercontent.com/selva86/datasets/master/newsgroups.json')\n",
        "print(df.target_names.unique())\n",
        "df.head()"
      ],
      "execution_count": 12,
      "outputs": [
        {
          "output_type": "stream",
          "name": "stdout",
          "text": [
            "['rec.autos' 'comp.sys.mac.hardware' 'comp.graphics' 'sci.space'\n",
            " 'talk.politics.guns' 'sci.med' 'comp.sys.ibm.pc.hardware'\n",
            " 'comp.os.ms-windows.misc' 'rec.motorcycles' 'talk.religion.misc'\n",
            " 'misc.forsale' 'alt.atheism' 'sci.electronics' 'comp.windows.x'\n",
            " 'rec.sport.hockey' 'rec.sport.baseball' 'soc.religion.christian'\n",
            " 'talk.politics.mideast' 'talk.politics.misc' 'sci.crypt']\n"
          ]
        },
        {
          "output_type": "execute_result",
          "data": {
            "text/html": [
              "<div>\n",
              "<style scoped>\n",
              "    .dataframe tbody tr th:only-of-type {\n",
              "        vertical-align: middle;\n",
              "    }\n",
              "\n",
              "    .dataframe tbody tr th {\n",
              "        vertical-align: top;\n",
              "    }\n",
              "\n",
              "    .dataframe thead th {\n",
              "        text-align: right;\n",
              "    }\n",
              "</style>\n",
              "<table border=\"1\" class=\"dataframe\">\n",
              "  <thead>\n",
              "    <tr style=\"text-align: right;\">\n",
              "      <th></th>\n",
              "      <th>content</th>\n",
              "      <th>target</th>\n",
              "      <th>target_names</th>\n",
              "    </tr>\n",
              "  </thead>\n",
              "  <tbody>\n",
              "    <tr>\n",
              "      <th>0</th>\n",
              "      <td>From: lerxst@wam.umd.edu (where's my thing)\\nS...</td>\n",
              "      <td>7</td>\n",
              "      <td>rec.autos</td>\n",
              "    </tr>\n",
              "    <tr>\n",
              "      <th>1</th>\n",
              "      <td>From: guykuo@carson.u.washington.edu (Guy Kuo)...</td>\n",
              "      <td>4</td>\n",
              "      <td>comp.sys.mac.hardware</td>\n",
              "    </tr>\n",
              "    <tr>\n",
              "      <th>2</th>\n",
              "      <td>From: twillis@ec.ecn.purdue.edu (Thomas E Will...</td>\n",
              "      <td>4</td>\n",
              "      <td>comp.sys.mac.hardware</td>\n",
              "    </tr>\n",
              "    <tr>\n",
              "      <th>3</th>\n",
              "      <td>From: jgreen@amber (Joe Green)\\nSubject: Re: W...</td>\n",
              "      <td>1</td>\n",
              "      <td>comp.graphics</td>\n",
              "    </tr>\n",
              "    <tr>\n",
              "      <th>4</th>\n",
              "      <td>From: jcm@head-cfa.harvard.edu (Jonathan McDow...</td>\n",
              "      <td>14</td>\n",
              "      <td>sci.space</td>\n",
              "    </tr>\n",
              "  </tbody>\n",
              "</table>\n",
              "</div>"
            ],
            "text/plain": [
              "                                             content  ...           target_names\n",
              "0  From: lerxst@wam.umd.edu (where's my thing)\\nS...  ...              rec.autos\n",
              "1  From: guykuo@carson.u.washington.edu (Guy Kuo)...  ...  comp.sys.mac.hardware\n",
              "2  From: twillis@ec.ecn.purdue.edu (Thomas E Will...  ...  comp.sys.mac.hardware\n",
              "3  From: jgreen@amber (Joe Green)\\nSubject: Re: W...  ...          comp.graphics\n",
              "4  From: jcm@head-cfa.harvard.edu (Jonathan McDow...  ...              sci.space\n",
              "\n",
              "[5 rows x 3 columns]"
            ]
          },
          "metadata": {},
          "execution_count": 12
        }
      ]
    },
    {
      "cell_type": "code",
      "metadata": {
        "colab": {
          "base_uri": "https://localhost:8080/"
        },
        "id": "JucuvG5MDIxP",
        "outputId": "f1fbd20b-df27-4cb4-9363-b1caf0d69fd1"
      },
      "source": [
        "# Convert to list\n",
        "data = pd.read_pickle(QUOTES_2020_PATH).quotation.tolist()\n",
        "\n",
        "# Remove new line characters\n",
        "data = [re.sub('\\s+', ' ', sent) for sent in data]\n",
        "\n",
        "# Remove distracting single quotes\n",
        "data = [re.sub(\"\\'\", \"\", sent) for sent in data]\n",
        "\n",
        "pprint(data[:1])"
      ],
      "execution_count": 18,
      "outputs": [
        {
          "output_type": "stream",
          "name": "stdout",
          "text": [
            "['As you reach or have reached the apex of your career, you build a certain '\n",
            " 'level of resilience to block things out,']\n"
          ]
        }
      ]
    },
    {
      "cell_type": "code",
      "metadata": {
        "colab": {
          "base_uri": "https://localhost:8080/"
        },
        "id": "PHCW4JNPC1z-",
        "outputId": "0565c43c-4e88-4d43-fb5c-02e4b8f7f1c0"
      },
      "source": [
        "def sent_to_words(sentences):\n",
        "    for sentence in sentences:\n",
        "        yield(gensim.utils.simple_preprocess(str(sentence), deacc=True))  # deacc=True removes punctuations\n",
        "\n",
        "data_words = list(sent_to_words(data))\n",
        "\n",
        "print(data_words[:1])"
      ],
      "execution_count": 19,
      "outputs": [
        {
          "output_type": "stream",
          "name": "stdout",
          "text": [
            "[['as', 'you', 'reach', 'or', 'have', 'reached', 'the', 'apex', 'of', 'your', 'career', 'you', 'build', 'certain', 'level', 'of', 'resilience', 'to', 'block', 'things', 'out']]\n"
          ]
        }
      ]
    },
    {
      "cell_type": "code",
      "metadata": {
        "colab": {
          "base_uri": "https://localhost:8080/"
        },
        "id": "yPWk21_TDGPI",
        "outputId": "9a747dda-46e9-4211-deee-a0c926901af4"
      },
      "source": [
        "# Build the bigram and trigram models\n",
        "bigram = gensim.models.Phrases(data_words, min_count=5, threshold=100) # higher threshold fewer phrases.\n",
        "trigram = gensim.models.Phrases(bigram[data_words], threshold=100)  \n",
        "\n",
        "# Faster way to get a sentence clubbed as a trigram/bigram\n",
        "bigram_mod = gensim.models.phrases.Phraser(bigram)\n",
        "trigram_mod = gensim.models.phrases.Phraser(trigram)\n",
        "\n",
        "# See trigram example\n",
        "print(trigram_mod[bigram_mod[data_words[0]]])"
      ],
      "execution_count": 20,
      "outputs": [
        {
          "output_type": "stream",
          "name": "stderr",
          "text": [
            "/usr/local/lib/python3.7/dist-packages/gensim/models/phrases.py:598: UserWarning: For a faster implementation, use the gensim.models.phrases.Phraser class\n",
            "  warnings.warn(\"For a faster implementation, use the gensim.models.phrases.Phraser class\")\n"
          ]
        },
        {
          "output_type": "stream",
          "name": "stdout",
          "text": [
            "['as', 'you', 'reach', 'or', 'have', 'reached', 'the', 'apex', 'of', 'your', 'career', 'you', 'build', 'certain', 'level', 'of', 'resilience', 'to', 'block', 'things', 'out']\n"
          ]
        }
      ]
    },
    {
      "cell_type": "code",
      "metadata": {
        "id": "F6Ry9bE6DSXm"
      },
      "source": [
        "# Define functions for stopwords, bigrams, trigrams and lemmatization\n",
        "def remove_stopwords(texts):\n",
        "    return [[word for word in simple_preprocess(str(doc)) if word not in stop_words] for doc in texts]\n",
        "\n",
        "def make_bigrams(texts):\n",
        "    return [bigram_mod[doc] for doc in texts]\n",
        "\n",
        "def make_trigrams(texts):\n",
        "    return [trigram_mod[bigram_mod[doc]] for doc in texts]\n",
        "\n",
        "def lemmatization(texts, allowed_postags=['NOUN', 'ADJ', 'VERB', 'ADV']):\n",
        "    \"\"\"https://spacy.io/api/annotation\"\"\"\n",
        "    texts_out = []\n",
        "    for sent in texts:\n",
        "        doc = nlp(\" \".join(sent)) \n",
        "        texts_out.append([token.lemma_ for token in doc if token.pos_ in allowed_postags])\n",
        "    return texts_out\n"
      ],
      "execution_count": 21,
      "outputs": []
    },
    {
      "cell_type": "code",
      "metadata": {
        "colab": {
          "base_uri": "https://localhost:8080/"
        },
        "id": "GJLJl9MIEW3g",
        "outputId": "055b2f00-fa35-4c61-e9c6-afbcb0acf226"
      },
      "source": [
        "\n",
        "# Remove Stop Words\n",
        "data_words_nostops = remove_stopwords(data_words)\n",
        "\n",
        "# Form Bigrams\n",
        "data_words_bigrams = make_bigrams(data_words_nostops)\n",
        "\n",
        "# Initialize spacy 'en' model, keeping only tagger component (for efficiency)\n",
        "# python3 -m spacy download en\n",
        "nlp = spacy.load('en', disable=['parser', 'ner'])\n",
        "\n",
        "# Do lemmatization keeping only noun, adj, vb, adv\n",
        "data_lemmatized = lemmatization(data_words_bigrams, allowed_postags=['NOUN', 'ADJ', 'VERB', 'ADV'])\n",
        "\n",
        "print(data_lemmatized[:1])"
      ],
      "execution_count": 22,
      "outputs": [
        {
          "output_type": "stream",
          "name": "stdout",
          "text": [
            "[['reach', 'apex', 'career', 'build', 'certain', 'level', 'resilience', 'block', 'thing']]\n"
          ]
        }
      ]
    },
    {
      "cell_type": "code",
      "metadata": {
        "colab": {
          "base_uri": "https://localhost:8080/"
        },
        "id": "1xk4QPxjFGzV",
        "outputId": "40b84659-d967-44d9-b395-a9f54fd9c099"
      },
      "source": [
        "# Create Dictionary\n",
        "id2word = corpora.Dictionary(data_lemmatized)\n",
        "\n",
        "# Create Corpus\n",
        "texts = data_lemmatized\n",
        "\n",
        "# Term Document Frequency\n",
        "corpus = [id2word.doc2bow(text) for text in texts]\n",
        "\n",
        "# View\n",
        "print(corpus[:1])"
      ],
      "execution_count": 23,
      "outputs": [
        {
          "output_type": "stream",
          "name": "stdout",
          "text": [
            "[[(0, 1), (1, 1), (2, 1), (3, 1), (4, 1), (5, 1), (6, 1), (7, 1), (8, 1)]]\n"
          ]
        }
      ]
    },
    {
      "cell_type": "code",
      "metadata": {
        "colab": {
          "base_uri": "https://localhost:8080/",
          "height": 37
        },
        "id": "8sxfs3_xFLxd",
        "outputId": "57e06328-682c-405e-b20b-3a44d4ad28ea"
      },
      "source": [
        "id2word[0]"
      ],
      "execution_count": 24,
      "outputs": [
        {
          "output_type": "execute_result",
          "data": {
            "application/vnd.google.colaboratory.intrinsic+json": {
              "type": "string"
            },
            "text/plain": [
              "'apex'"
            ]
          },
          "metadata": {},
          "execution_count": 24
        }
      ]
    },
    {
      "cell_type": "code",
      "metadata": {
        "colab": {
          "base_uri": "https://localhost:8080/"
        },
        "id": "qTviviP-FMFI",
        "outputId": "a01e27a5-ba03-4f6f-d6d2-492140b3a5a2"
      },
      "source": [
        "# Human readable format of corpus (term-frequency)\n",
        "[[(id2word[id], freq) for id, freq in cp] for cp in corpus[:1]]"
      ],
      "execution_count": 25,
      "outputs": [
        {
          "output_type": "execute_result",
          "data": {
            "text/plain": [
              "[[('apex', 1),\n",
              "  ('block', 1),\n",
              "  ('build', 1),\n",
              "  ('career', 1),\n",
              "  ('certain', 1),\n",
              "  ('level', 1),\n",
              "  ('reach', 1),\n",
              "  ('resilience', 1),\n",
              "  ('thing', 1)]]"
            ]
          },
          "metadata": {},
          "execution_count": 25
        }
      ]
    },
    {
      "cell_type": "markdown",
      "metadata": {
        "id": "sfQVIjPnFSRl"
      },
      "source": [
        "Build LDA model"
      ]
    },
    {
      "cell_type": "code",
      "metadata": {
        "id": "e8MIov_hFO8R"
      },
      "source": [
        "# Build LDA model\n",
        "lda_model = gensim.models.ldamodel.LdaModel(corpus=corpus,\n",
        "                                           id2word=id2word,\n",
        "                                           num_topics=20, \n",
        "                                           random_state=100,\n",
        "                                           update_every=1,\n",
        "                                           chunksize=100,\n",
        "                                           passes=10,\n",
        "                                           alpha='auto',\n",
        "                                           per_word_topics=True)\n"
      ],
      "execution_count": 26,
      "outputs": []
    },
    {
      "cell_type": "code",
      "metadata": {
        "id": "W-8lGobVFT1h"
      },
      "source": [
        "# Print the Keyword in the 20 topics\n",
        "pprint(lda_model.print_topics())\n",
        "doc_lda = lda_model[corpus]"
      ],
      "execution_count": null,
      "outputs": []
    },
    {
      "cell_type": "code",
      "metadata": {
        "colab": {
          "base_uri": "https://localhost:8080/"
        },
        "id": "w4Af9clpFxqi",
        "outputId": "8d677aed-63b1-490d-ebe4-67a3e2e87c69"
      },
      "source": [
        "# Compute Perplexity\n",
        "print('\\nPerplexity: ', lda_model.log_perplexity(corpus))  # a measure of how good the model is. lower the better.\n",
        "\n",
        "# Compute Coherence Score\n",
        "coherence_model_lda = CoherenceModel(model=lda_model, texts=data_lemmatized, dictionary=id2word, coherence='c_v')\n",
        "coherence_lda = coherence_model_lda.get_coherence()\n",
        "print('\\nCoherence Score: ', coherence_lda)"
      ],
      "execution_count": 28,
      "outputs": [
        {
          "output_type": "stream",
          "name": "stdout",
          "text": [
            "\n",
            "Perplexity:  -8.906072636367902\n",
            "\n",
            "Coherence Score:  0.3135580457546138\n"
          ]
        }
      ]
    },
    {
      "cell_type": "code",
      "metadata": {
        "colab": {
          "base_uri": "https://localhost:8080/",
          "height": 915
        },
        "id": "ep8FGsDbFyfR",
        "outputId": "1d615695-f62a-4845-c375-bd5017d8801b"
      },
      "source": [
        "# Visualize the topics\n",
        "pyLDAvis.enable_notebook()\n",
        "vis = pyLDAvis.gensim_models.prepare(lda_model, corpus, id2word)\n",
        "vis"
      ],
      "execution_count": 30,
      "outputs": [
        {
          "output_type": "stream",
          "name": "stderr",
          "text": [
            "/usr/local/lib/python3.7/dist-packages/pyLDAvis/_prepare.py:247: FutureWarning: In a future version of pandas all arguments of DataFrame.drop except for the argument 'labels' will be keyword-only\n",
            "  by='saliency', ascending=False).head(R).drop('saliency', 1)\n"
          ]
        },
        {
          "output_type": "execute_result",
          "data": {
            "text/html": [
              "\n",
              "<link rel=\"stylesheet\" type=\"text/css\" href=\"https://cdn.jsdelivr.net/gh/bmabey/pyLDAvis@3.3.1/pyLDAvis/js/ldavis.v1.0.0.css\">\n",
              "\n",
              "\n",
              "<div id=\"ldavis_el6161397877558180649856149711\"></div>\n",
              "<script type=\"text/javascript\">\n",
              "\n",
              "var ldavis_el6161397877558180649856149711_data = {\"mdsDat\": {\"x\": [-0.4428726064111971, -0.0327789567075333, -0.014251732364828396, 0.02383315271260451, 0.025846225728579125, 0.01550829076866833, 0.022342171892035554, 0.024438665427190746, 0.02775970069017204, 0.0244675326795592, 0.028525368209485473, 0.018309990654280163, 0.023067615709595944, 0.02820134637272025, 0.03727531839762619, 0.03265900474962369, 0.037500892858741475, 0.038139085581386664, 0.038377134769891116, 0.043651798281397536], \"y\": [-0.05898181636670233, 0.42648935293095785, 0.027197209082014142, -0.0255923069719494, -0.02143850688479901, -0.01827138332180479, -0.018299745228985358, -0.02324900582480709, -0.019069613145564514, -0.017725793188071368, -0.022549223475062666, -0.024087225402071043, -0.019227682225749332, -0.023545038364561306, -0.027059098847813632, -0.02212273185913248, -0.026851291672570752, -0.02730162421819595, -0.028484410631287635, -0.029830064383842978], \"topics\": [1, 2, 3, 4, 5, 6, 7, 8, 9, 10, 11, 12, 13, 14, 15, 16, 17, 18, 19, 20], \"cluster\": [1, 1, 1, 1, 1, 1, 1, 1, 1, 1, 1, 1, 1, 1, 1, 1, 1, 1, 1, 1], \"Freq\": [9.470853770858646, 6.409726019147569, 5.967594778412549, 5.140471634241368, 5.027357913081511, 5.014985022407304, 4.967827012136712, 4.930100259500118, 4.91349516113618, 4.781028095727258, 4.732668990464103, 4.685421725384904, 4.63786830937237, 4.529698803549649, 4.316752205554383, 4.310673998950917, 4.190915800074575, 4.1143221219395745, 3.9504653820399445, 3.907772996020368]}, \"tinfo\": {\"Term\": [\"would\", \"people\", \"be\", \"go\", \"get\", \"s\", \"want\", \"think\", \"time\", \"have\", \"make\", \"know\", \"take\", \"say\", \"come\", \"work\", \"see\", \"thing\", \"look\", \"good\", \"really\", \"need\", \"way\", \"could\", \"year\", \"love\", \"back\", \"life\", \"feel\", \"day\", \"be\", \"go\", \"s\", \"know\", \"say\", \"really\", \"feel\", \"also\", \"lot\", \"important\", \"believe\", \"quite\", \"test\", \"fan\", \"wrong\", \"guy\", \"write\", \"fire\", \"head\", \"soon\", \"picture\", \"boy\", \"nice\", \"suppose\", \"post\", \"art\", \"pull\", \"excite\", \"name\", \"video\", \"get\", \"think\", \"thing\", \"could\", \"great\", \"help\", \"ever\", \"real\", \"system\", \"mind\", \"clear\", \"touch\", \"set\", \"term\", \"football\", \"car\", \"drive\", \"group\", \"half\", \"hide\", \"film\", \"prepare\", \"fully\", \"rate\", \"encourage\", \"finish\", \"fun\", \"make_sure\", \"comfortable\", \"medium\", \"come\", \"day\", \"well\", \"happen\", \"case\", \"start\", \"home\", \"long\", \"leave\", \"experience\", \"hope\", \"business\", \"point\", \"protect\", \"brother\", \"easy\", \"fall\", \"send\", \"die\", \"seem\", \"age\", \"worry\", \"eye\", \"save\", \"area\", \"side\", \"sign\", \"date\", \"later\", \"national\", \"bit\", \"become\", \"bring\", \"win\", \"turn\", \"health\", \"early\", \"provide\", \"probably\", \"kid\", \"reason\", \"power\", \"thought\", \"decide\", \"manage\", \"like\", \"action\", \"maybe\", \"order\", \"fit\", \"staff\", \"demand\", \"kill\", \"morning\", \"industry\", \"raise\", \"interest\", \"party\", \"market\", \"cold\", \"want\", \"year\", \"life\", \"right\", \"learn\", \"old\", \"allow\", \"high\", \"community\", \"measure\", \"minute\", \"advice\", \"hour\", \"realise\", \"normal\", \"vulnerable\", \"balance\", \"alone\", \"enjoy\", \"food\", \"free\", \"perhaps\", \"due\", \"figure\", \"information\", \"little_bit\", \"massive\", \"lesson\", \"pressure\", \"solution\", \"people\", \"new\", \"big\", \"bad\", \"move\", \"today\", \"hear\", \"challenge\", \"definitely\", \"result\", \"deliver\", \"concern\", \"ensure\", \"improve\", \"campaign\", \"significant\", \"rule\", \"seriously\", \"class\", \"weekend\", \"incredibly\", \"investment\", \"past\", \"nhs\", \"clothe\", \"beat\", \"trip\", \"resource\", \"yesterday\", \"generation\", \"work\", \"see\", \"back\", \"child\", \"hard\", \"problem\", \"meet\", \"remember\", \"far\", \"money\", \"fight\", \"follow\", \"read\", \"police\", \"stand\", \"future\", \"rather\", \"book\", \"hit\", \"throw\", \"social\", \"british\", \"agree\", \"dangerous\", \"stick\", \"fair\", \"town\", \"victim\", \"character\", \"hang\", \"make\", \"way\", \"tell\", \"put\", \"live\", \"decision\", \"will\", \"stay\", \"lead\", \"run\", \"fact\", \"period\", \"forward\", \"hand\", \"huge\", \"option\", \"short\", \"difference\", \"nation\", \"tonight\", \"process\", \"perfect\", \"reduce\", \"visit\", \"mate\", \"feed\", \"base\", \"score\", \"royal\", \"guess\", \"time\", \"need\", \"find\", \"together\", \"friend\", \"team\", \"close\", \"thank\", \"happy\", \"service\", \"deal\", \"ground\", \"spend\", \"heart\", \"true\", \"eat\", \"behaviour\", \"crisis\", \"form\", \"budget\", \"simply\", \"range\", \"similar\", \"partner\", \"strike\", \"incredible\", \"offer\", \"extra\", \"search\", \"strength\", \"have\", \"much\", \"never\", \"even\", \"keep\", \"use\", \"risk\", \"public\", \"sort\", \"often\", \"season\", \"large\", \"brilliant\", \"buy\", \"wish\", \"policy\", \"pass\", \"vote\", \"laugh\", \"record\", \"sick\", \"political\", \"leg\", \"personal\", \"least\", \"shape\", \"involve\", \"alive\", \"common\", \"memory\", \"play\", \"country\", \"ask\", \"next\", \"game\", \"player\", \"able\", \"school\", \"virus\", \"situation\", \"evidence\", \"pretty\", \"obviously\", \"completely\", \"control\", \"serious\", \"begin\", \"club\", \"receive\", \"role\", \"key\", \"sad\", \"yet\", \"ready\", \"response\", \"return\", \"slow\", \"tour\", \"truth\", \"rise\", \"would\", \"take\", \"call\", \"step\", \"open\", \"economy\", \"ill\", \"sometimes\", \"disease\", \"affect\", \"space\", \"imagine\", \"couple\", \"flight\", \"respect\", \"less\", \"grant\", \"president\", \"movie\", \"dinner\", \"appropriate\", \"wake\", \"fine\", \"potentially\", \"suffer\", \"cash\", \"bottle\", \"air\", \"essential\", \"bank\", \"love\", \"give\", \"support\", \"world\", \"woman\", \"care\", \"little\", \"job\", \"watch\", \"sit\", \"different\", \"kind\", \"expect\", \"absolutely\", \"hold\", \"sure\", \"safe\", \"beautiful\", \"approach\", \"rest\", \"border\", \"symptom\", \"longer\", \"wait\", \"carry\", \"currently\", \"light\", \"leader\", \"special\", \"fly\", \"look\", \"good\", \"always\", \"first\", \"person\", \"night\", \"act\", \"course\", \"full\", \"wear\", \"consider\", \"australian\", \"nee\", \"increase\", \"room\", \"major\", \"walk\", \"stage\", \"require\", \"voice\", \"choose\", \"treat\", \"certainly\", \"terrible\", \"sport\", \"wonderful\", \"fail\", \"exercise\", \"sleep\", \"lovely\", \"family\", \"show\", \"change\", \"talk\", \"moment\", \"part\", \"face\", \"enough\", \"understand\", \"share\", \"impact\", \"else\", \"break\", \"death\", \"member\", \"travel\", \"force\", \"natural\", \"report\", \"dog\", \"growth\", \"add\", \"shop\", \"violence\", \"actor\", \"war\", \"struggle\", \"favourite\", \"candidate\", \"route\", \"many\", \"end\", \"government\", \"last\", \"place\", \"continue\", \"issue\", \"line\", \"difficult\", \"patient\", \"position\", \"remain\", \"include\", \"cause\", \"small\", \"hospital\", \"likely\", \"doctor\", \"parent\", \"infection\", \"catch\", \"responsibility\", \"listen\", \"forget\", \"supply\", \"phone\", \"pick\", \"emergency\", \"politic\", \"low\", \"can\", \"still\", \"let\", \"away\", \"lose\", \"pay\", \"human\", \"cut\", \"sense\", \"matter\", \"relationship\", \"totally\", \"stuff\", \"build\", \"top\", \"program\", \"tough\", \"positive\", \"trust\", \"opportunity\", \"cool\", \"certain\", \"dance\", \"baby\", \"word\", \"adult\", \"block\", \"wife\", \"conversation\", \"fill\", \"mean\", \"man\", \"month\", \"young\", \"state\", \"stop\", \"already\", \"speak\", \"level\", \"grow\", \"create\", \"strong\", \"bed\", \"quickly\", \"sound\", \"company\", \"society\", \"worker\", \"almost\", \"history\", \"access\", \"reality\", \"responsible\", \"critical\", \"damage\", \"extraordinary\", \"skill\", \"minister\", \"duty\", \"deep\", \"try\", \"number\", \"story\", \"there\", \"whole\", \"better\", \"girl\", \"other\", \"idea\", \"miss\", \"hopefully\", \"best\", \"body\", \"suggest\", \"sell\", \"potential\", \"poor\", \"direct\", \"ability\", \"contact\", \"transmission\", \"treatment\", \"fear\", \"cope\", \"flood\", \"authority\", \"recovery\", \"recover\", \"handle\", \"ahead\", \"may\", \"week\", \"do\", \"possible\", \"one\", \"must\", \"plan\", \"second\", \"amazing\", \"question\", \"actually\", \"spread\", \"focus\", \"hell\", \"condition\", \"house\", \"doubt\", \"medical\", \"simple\", \"economic\", \"fantastic\", \"proud\", \"answer\", \"event\", \"expert\", \"international\", \"nature\", \"culture\", \"self\", \"particular\"], \"Freq\": [1994.0, 1961.0, 2479.0, 2383.0, 1880.0, 2169.0, 1598.0, 1732.0, 1478.0, 1302.0, 1315.0, 1544.0, 1127.0, 1392.0, 1131.0, 1025.0, 1022.0, 1099.0, 935.0, 903.0, 1151.0, 896.0, 885.0, 946.0, 851.0, 824.0, 797.0, 745.0, 890.0, 733.0, 2478.8281115093605, 2382.5080534265576, 2168.420842010645, 1543.2945164865564, 1391.4139750309632, 1150.7727016203457, 890.0380281718988, 637.20580809569, 524.222502552668, 352.4383785133445, 339.0493981463079, 197.1396670568895, 178.44757524288437, 157.4712720734233, 156.3123217297834, 149.27699069690155, 130.98784568884938, 126.74174869313521, 126.5900907065786, 125.49396490084399, 123.19352480631832, 120.48284010598202, 99.80710923551888, 96.43648692043043, 84.76209756650516, 83.25983333390799, 80.34827249298768, 75.98402019804311, 74.03392582392325, 54.07880602828226, 1879.3941912849975, 1731.40315896786, 1098.6562765805725, 945.5573452041847, 495.39617800204655, 423.82288687613516, 380.43570752179954, 254.59682478678997, 247.62244973291405, 204.43376661422775, 201.50914930180423, 141.7253522362074, 133.5687662433966, 132.63710722212141, 106.08059977590216, 105.49482492953793, 105.38423344785853, 96.42517393727171, 94.28182765239015, 92.47208110884635, 91.51147629884836, 86.77579873481767, 79.06273447918404, 78.48455766551315, 76.21733755252319, 75.0676535199646, 74.31905466459436, 73.53974788324327, 70.86585933379567, 68.60340772843952, 1130.4343048341648, 733.0736260829215, 709.6416511775149, 590.8716245608507, 443.46137281663516, 436.4525446646452, 422.2393349471851, 409.8588328159106, 257.8516645962141, 241.04319717649594, 236.89957699456676, 221.59003095815987, 203.4487708247732, 191.7788727290238, 184.21521998070514, 178.3037630707066, 170.58691819080312, 169.14858684755976, 162.709448550176, 126.4074176319134, 125.77205720592919, 124.65105914124821, 115.93626619457348, 115.61725116606357, 106.3040022083373, 102.12852286131805, 97.71638719126169, 97.16584929322585, 92.38833286621085, 90.01994676002238, 347.91639521067606, 332.68715800199664, 275.4073267959267, 226.2140111308634, 218.08036870502193, 197.71067434582991, 187.29743601864132, 183.52179452429468, 182.2511718550578, 181.81997909364154, 165.11879664858807, 161.30476072313138, 139.76159477500468, 134.6771590503598, 134.48394084862844, 133.34178250153045, 127.16595214859824, 123.83952549823904, 121.1610226011611, 118.91658951521849, 116.91251164629878, 99.47549334422452, 99.02121327185843, 98.23688291834061, 98.07261756202153, 97.0821425439501, 93.9642817373095, 92.82389622014405, 83.25696638091425, 82.76779195024776, 1597.9549015515368, 850.2417612170242, 744.5344049758046, 558.6051764814465, 293.14914915941273, 277.57820059668757, 213.96947092775912, 198.1316726637765, 191.97772264745328, 152.32404924688592, 143.19894666463512, 115.10273653381064, 114.71529224713306, 113.27058456956345, 113.11853354241568, 106.90327566423083, 99.59150071889414, 93.21885164912334, 91.01857510256674, 90.04706147644723, 74.5262401159019, 74.1130461309408, 72.64712145495868, 72.03554878252903, 70.80658275750756, 70.53350616691914, 69.7669448815237, 66.16389927718744, 65.6610519564174, 65.03972035639666, 1960.6354185257592, 475.35348991732735, 461.2209310083188, 339.31040878312723, 306.3810140206309, 260.78955553288847, 252.89631278829273, 162.53203748459185, 145.89264541783018, 140.78097771617595, 113.22310850587738, 112.0103660601888, 109.84393848362721, 105.08253975398499, 95.89187567337028, 89.36720311300641, 86.97448088753089, 85.09549505307582, 84.52612637054398, 80.69126373912563, 77.90953550724853, 75.59948094962648, 72.34948873270582, 72.14523352420234, 71.7589157365414, 68.69579425472423, 68.4475145227641, 65.3801284586433, 63.96949061606743, 60.55894651149307, 1024.9307081262482, 1021.4352073856047, 796.5632145224222, 404.7310136803975, 317.0882249248082, 272.4718939190781, 250.30628383377, 221.03434345604788, 212.82248175360988, 203.73488472389607, 188.48348162119248, 188.48036833070535, 153.5904267374068, 149.8221116800515, 147.63347825782125, 146.29476334835567, 126.15448578802835, 111.41252665950168, 108.77862416606035, 96.96421543937423, 85.6826199459618, 81.4829966734792, 75.99679631696877, 73.8356391518207, 72.7850113048528, 70.92676849290292, 68.5142865475816, 66.83709919985728, 63.496910535590544, 58.265241256846245, 1315.0682286660126, 884.7252600733204, 500.43603281677144, 492.9757972017309, 331.95293065461817, 301.86821695099206, 266.3359495043276, 259.26471799633407, 219.2545991870681, 211.7958986798979, 202.5174152352706, 163.5248008996199, 138.98643193160063, 121.90972681189368, 115.34667430422456, 106.95333600082073, 102.10746681598224, 100.81620791606804, 96.10010392563785, 93.47747900372819, 92.7959785521422, 89.62367813804546, 83.85135192170016, 76.7406059598538, 74.79953978476571, 68.44602950140059, 63.27902643754286, 61.469017667918514, 58.83526807188504, 55.97279226110438, 1477.8828726154525, 895.8488015677864, 409.4865230433523, 365.8919039289553, 292.42413256672967, 264.08341603613917, 241.99551519209064, 232.05448506875038, 204.38056951100452, 175.39600106954316, 169.022862579589, 166.73049336711625, 139.63833168883272, 138.70502141948776, 120.57408111604408, 119.37897724352425, 102.10579928473362, 89.62433705033601, 87.03103494840221, 84.6755703402242, 83.8774755567031, 79.51308685930043, 76.33720781028077, 74.0782890343433, 71.76600158538103, 67.87035958272945, 64.83517668159155, 61.14365060800214, 60.12554500713616, 57.4460967744639, 1301.7516035320982, 678.1377591024956, 618.539105498415, 550.7267240578309, 496.9410491635054, 322.0832591283642, 207.95897603058586, 193.18002847655117, 183.08904296338628, 152.2341308908711, 138.94542857087154, 129.46136713541264, 114.76294078246585, 110.97274396547346, 101.44020586495523, 101.32927957190496, 95.37599648520155, 83.3315756788534, 79.99846340517661, 72.83078568170579, 70.22557244025968, 69.0430810081358, 61.762225111546854, 61.4395749816553, 60.69267630023275, 59.13798866567804, 58.81310549990328, 58.363596318824364, 56.71363719763262, 56.49177047839359, 540.8868064221323, 485.6598246577366, 392.68273567490326, 382.9010223452354, 343.13442585861503, 336.5078909137691, 320.8719008370939, 268.219113065494, 249.48310323904545, 168.81368342168034, 146.44279975592625, 144.1145625377103, 127.44273918262972, 123.96424762838653, 120.40841833288152, 115.42967532748919, 114.63003367471262, 113.6783933280933, 104.86467953440473, 104.15328796698986, 100.18150249869245, 97.18063585159082, 94.14459788004415, 93.09236810511939, 90.83921154502664, 81.66795526324448, 70.72842357099806, 66.5587236225299, 66.40071381264241, 65.96969487427621, 1993.7786963108813, 1126.8545543229664, 262.6862406047143, 191.57666711672942, 176.73179306847516, 170.27165307823321, 139.77515849509544, 132.82856985647763, 115.71386373669212, 107.99987331534261, 102.88520954751905, 100.5482578672971, 95.88149214029904, 94.3364576591073, 92.44301802244463, 92.13442848847245, 83.38870377125475, 81.46297396103432, 76.00095306024451, 68.72850329210412, 67.95828062060436, 67.62652840422736, 65.42153983964764, 63.991552375168226, 63.021868398518855, 58.600584630091035, 56.08318378865869, 55.51838737859058, 55.33051895674146, 55.26080930124406, 823.7471291807485, 596.6616589817488, 529.9636510106728, 435.63761655911895, 375.55628425989624, 317.9039156050503, 307.4959829729955, 261.84062104639685, 210.1062326751071, 204.36267945960415, 202.05620960929832, 173.09990875804357, 170.0860605538857, 167.01645857090134, 151.1554773309208, 121.53380539917242, 121.43288191953273, 117.2427021018458, 110.6096841748217, 105.59540866629675, 103.20881789382814, 99.98758391236319, 97.93110121036614, 92.31069986632353, 81.30770989484267, 73.99716930552991, 66.45548360316262, 64.59173531659414, 62.5393016185348, 59.82863058168253, 934.1124469864079, 902.559167460038, 603.7746039328807, 548.2786701356107, 249.11852078810213, 220.31026531699868, 201.5800002376743, 156.6124848714304, 150.8786460884206, 136.66068658701406, 136.43149121843686, 122.84741424584429, 108.56309297734903, 108.17027844964225, 102.97917072870672, 101.46784709517765, 94.85477292238618, 90.99039171611669, 88.07035791592494, 87.08287625391867, 86.1121233989509, 83.79438913968508, 81.95279207882905, 75.12468042858261, 74.963007309973, 73.8988489734431, 73.69443884112118, 71.04991260316501, 65.0104517272129, 62.43347898299414, 472.77046247582155, 403.38843638730384, 377.66293679665085, 357.24197439219273, 324.5865649451162, 320.6190767060296, 222.52350592746018, 202.50348466163848, 170.79796457713076, 156.42191507063345, 156.31809402976947, 154.09284944250686, 149.40305464035924, 148.1006127068723, 130.20010938984575, 109.37615562790094, 90.06932978659837, 88.45618186528165, 88.09587929696701, 85.43373392343341, 80.07362814997835, 76.0817159344643, 70.42823745495265, 69.5134655339347, 65.55466733034812, 65.10435505022906, 63.56752886507353, 63.52444449425612, 63.07094203957757, 57.912744540775535, 569.3546125309341, 446.88290420179453, 396.8827063190481, 313.6891565825652, 301.47394111974893, 255.27129780773942, 252.45671746977635, 160.82143157567373, 150.63300686908985, 149.125320973871, 148.55956072882498, 147.9941063093116, 135.9452344507814, 126.26768280129134, 121.2270493822843, 118.39416198813225, 118.12321755653525, 115.08061879854036, 100.7489887081256, 97.17338701769013, 96.6927227270966, 86.50917423872735, 80.35304218947628, 79.13001190390038, 75.23049000349458, 68.50392537467133, 67.73097257884976, 65.28441504120744, 65.01033589790104, 61.46101396538699, 632.2918553869785, 567.1071954629746, 411.70755108363335, 320.8862133719351, 223.3774639384204, 170.59326329947487, 145.60228532629367, 136.62206112293245, 135.19545931990297, 120.2125889565221, 115.34404704349483, 113.18750216542483, 105.87235426553121, 105.67658779452323, 105.38649364915412, 102.09246653452746, 101.43467533438573, 101.10031218152378, 98.23776748451809, 94.8411783297709, 87.84286768089224, 84.54699877733445, 82.72052229766815, 75.463394878677, 75.12887480209444, 74.24304039936227, 72.42295649652424, 68.40823654722873, 66.87369600186268, 61.04839016439643, 369.9507114775106, 347.4150127058017, 246.33813409973138, 221.49714487680646, 215.14343111388035, 214.27128089337006, 208.7954579552096, 188.75127872869498, 188.05441153472697, 173.1168889868452, 172.29875558208218, 160.9538945306667, 131.304792483179, 125.5317878682294, 117.02932863481868, 116.29297451609995, 105.26933594884233, 102.51842703820655, 100.84490305840754, 94.1381421337781, 90.29434541753693, 74.85944978175827, 69.16194870752298, 62.16390076612369, 59.719870937205535, 58.403602273924164, 58.2148799090299, 57.848498815549846, 56.747766328281955, 55.81448840229004, 606.1241501095035, 278.77564028133617, 213.05494084008942, 209.54223739710642, 195.95290397146653, 155.0033820710543, 154.38017028684695, 149.8048382011403, 141.4678137994648, 112.15819862195997, 107.06449913802875, 101.61064474654954, 95.07511891379363, 89.03792116467703, 84.88304099174869, 83.10878312280339, 76.58128391527568, 73.73212779996013, 72.1366667059818, 71.91364174680393, 71.40748945525544, 69.28958926082719, 68.13320247297911, 66.3357756062849, 64.74160686903585, 63.86241502905414, 62.047880006260044, 58.975695039125874, 58.35208620556194, 57.91887032376169, 618.2268508850459, 417.51069797085677, 323.54417268450413, 238.52921370258622, 199.12791465812157, 199.0572797420328, 189.80635446919393, 177.19013597328828, 170.31701670694414, 151.95997852085358, 146.69621405439688, 125.64698595650282, 118.80616529875837, 110.93544721043173, 110.6946015534583, 108.90649544117048, 105.1866337301356, 92.38491771745821, 91.95791994625694, 89.91325783804876, 84.22245709465807, 82.63374136750483, 79.15103646424946, 70.8811294448869, 70.80070637154246, 64.97870889565195, 64.55400606612037, 62.44598662530618, 61.98293208599243, 60.55249802372934], \"Total\": [1994.0, 1961.0, 2479.0, 2383.0, 1880.0, 2169.0, 1598.0, 1732.0, 1478.0, 1302.0, 1315.0, 1544.0, 1127.0, 1392.0, 1131.0, 1025.0, 1022.0, 1099.0, 935.0, 903.0, 1151.0, 896.0, 885.0, 946.0, 851.0, 824.0, 797.0, 745.0, 890.0, 733.0, 2479.7265319090066, 2383.4064738262036, 2169.3192624102912, 1544.192936886203, 1392.3123954306097, 1151.6711220199923, 890.9364485715453, 638.1042284953365, 525.1209229523145, 353.33679891299084, 339.94781854595425, 198.03808745653595, 179.34599564253082, 158.3696924866154, 157.21074212942986, 150.175411096548, 131.88626608849583, 127.64016909278165, 127.48851110622503, 126.39238530049043, 124.09194520596476, 121.38126050562846, 100.70552963516532, 97.33490732007687, 85.66051797666086, 84.15825373355443, 81.24669289263412, 76.88244066097062, 74.9323462235697, 54.977226427928706, 1880.292861116726, 1732.3018287995885, 1099.554946412301, 946.4560150359132, 496.29484783377495, 424.72155670786356, 381.33437735352794, 255.49549461851845, 248.52111956464253, 205.33243644595623, 202.4078191335327, 142.6240220679359, 134.46743607512508, 133.5357770538499, 106.97926960763064, 106.39349476126641, 106.28290327958702, 97.32384376900019, 95.18049748411863, 93.37075094493363, 92.41014613057685, 87.67446856654615, 79.96140431091253, 79.38322751785942, 77.11600738425167, 75.96632335169308, 75.21772449632284, 74.43841771497175, 71.76452919130969, 69.502077560168, 1131.333403637391, 733.972724886148, 710.5407499807413, 591.7707233640772, 444.3604716198615, 437.35164346787155, 423.1384337504115, 410.75793161913697, 258.7507633994405, 241.94229597972236, 237.79867579779318, 222.4891297613863, 204.34786962799961, 192.6779715322502, 185.11431878393157, 179.20286187393302, 171.48601699402954, 170.04768565078618, 163.60854735340243, 127.30651643513984, 126.67115600915562, 125.55015794447465, 116.83536499779991, 116.51634996929, 107.20310101156373, 103.02762166454448, 98.61548599448813, 98.06494809645228, 93.28743166943728, 90.91904556324882, 348.81461091642575, 333.5853737077463, 276.30554250167637, 227.11222683661316, 218.97858441077167, 198.60889005157966, 188.19565172439107, 184.42001023004443, 183.14938756080755, 182.71819479939128, 166.01701235433782, 162.20297642888113, 140.65981048075443, 135.57537475610954, 135.38215655437818, 134.2399982072802, 128.06416785434803, 124.7377412039888, 122.05923830691086, 119.81480522096825, 117.81072735204854, 100.37370904997428, 99.91942897760819, 99.13509862409038, 98.9708332677713, 97.98035824969986, 94.86249744305927, 93.72211192589381, 84.15518208666401, 83.66600765599752, 1598.851356872277, 851.1382165377644, 745.4308602965448, 559.5016318021867, 294.04560448015286, 278.4746559174277, 214.8659262484993, 199.0281279845167, 192.87417796819346, 153.2205045676261, 144.0954019853753, 115.99919185455084, 115.61174756787327, 114.16703989030366, 114.01498886315588, 107.79973098497103, 100.48795609807773, 94.11530696986354, 91.91503042330694, 90.94351679718743, 75.4226954366421, 75.00950145582902, 73.54357677569888, 72.93200410326924, 71.70303807824776, 71.42996148765934, 70.6634002022639, 67.06035459792764, 66.5575072771576, 65.93617573558025, 1961.5337953590026, 476.2518667505709, 462.1193078415624, 340.2087856163708, 307.2793908538745, 261.68793236613203, 253.79468962153638, 163.4304143178355, 146.79102225107383, 141.6793545494196, 114.12148533912101, 112.90874289343243, 110.74231531687084, 105.98091658722862, 96.79025250661391, 90.26557994625004, 87.87285772077452, 85.99387188631945, 85.42450320378761, 81.58964057236926, 78.80791234049217, 76.4978577876142, 73.24786556594945, 73.04361035744597, 72.65729258469959, 69.59417108796787, 69.34589135600773, 66.27850529188693, 64.86786750776636, 61.4573233447367, 1025.8286974905136, 1022.3331967498705, 797.4612038866879, 405.6290030446632, 317.98621428907387, 273.3698832833438, 251.2042731980357, 221.93233282031358, 213.72047111787558, 204.63287408816177, 189.38147098545818, 189.37835769497104, 154.4884161016725, 150.7201010443172, 148.53146762208695, 147.19275271262137, 127.05247515229405, 112.31051602376738, 109.67661353032605, 97.86220481432318, 86.5806093102275, 82.3809860377449, 76.89478568123447, 74.7336285160864, 73.6830006691185, 71.82475785716862, 69.4122759118473, 67.73508862262365, 64.39489989985624, 59.16323067143182, 1315.9656523289234, 885.6226837362314, 501.33345647968224, 493.8732208646417, 332.85035431752897, 302.76564061390286, 267.23337316723837, 260.16214165924487, 220.15202284997892, 212.69332234280873, 203.41483889818142, 164.42222456253072, 139.88385559451146, 122.8071504748045, 116.24409796713539, 107.85075966373155, 103.00489047889306, 101.71363157897886, 96.99752758854868, 94.37490266663902, 93.69340221505303, 90.52110180095629, 84.74877558461098, 77.63802962276462, 75.69696344767654, 69.34345316431141, 64.17645010045366, 62.36644133082933, 59.73269173479586, 56.8702159240152, 1478.7791792802238, 896.745108232558, 410.3828297081238, 366.7882105937268, 293.32043923150115, 264.97972270091066, 242.89182185686212, 232.95079173352187, 205.276876175776, 176.29230773431465, 169.9191692443605, 167.62680003188774, 140.5346383536042, 139.60132808425925, 121.47038778081559, 120.27528390829575, 103.00210594950512, 90.52064371510751, 87.92734161317371, 85.57187702767465, 84.7737822214746, 80.40939352407193, 77.23351453360522, 74.9745956991148, 72.66230825302374, 68.76666624750095, 65.73148334636305, 62.03995727277363, 61.02185172642783, 58.34240343923539, 1302.649196365849, 679.0353519362465, 619.4366983321659, 551.6243168915818, 497.8386419972562, 322.980851962115, 208.85656886433674, 194.07762131030205, 183.98663579713715, 153.131723724622, 139.84302140462242, 130.35895996916352, 115.66053362217185, 111.87033679922432, 102.3377986987061, 102.22687240565583, 96.27358931895242, 84.22916851260426, 80.89605623892747, 73.72837851545665, 71.12316527401055, 69.94067384188666, 62.65981794529772, 62.33716781540616, 61.59026913398361, 60.0355814994289, 59.71069833365414, 59.26118915257523, 57.611230031383485, 57.389363312144454, 541.7833481889463, 486.55636642455056, 393.57927744171724, 383.7975641120494, 344.030967625429, 337.40443268058306, 321.7684426039079, 269.115654832308, 250.37964500585943, 169.71022518849432, 147.33934152274023, 145.01110430452428, 128.33928095252764, 124.8607893952005, 121.30496009969549, 116.32621709430316, 115.52657544152659, 114.57493509490727, 105.7612213012187, 105.04982973380383, 101.07804426550642, 98.07717761840479, 95.04113964685811, 93.98890987193336, 91.73575331184061, 82.56449703005845, 71.62496533781203, 67.45526539717189, 67.29725557945638, 66.86623664109018, 1994.6786474718892, 1127.7545054839743, 263.58619176572233, 192.47661827773743, 177.63174422948316, 171.17160424338925, 140.67510965610344, 133.72852101748563, 116.61381489770011, 108.8998244763506, 103.78516070852704, 101.44820902830509, 96.78144330130704, 95.23640882011529, 93.34296918345262, 93.03437964948044, 84.28865495297164, 82.36292512204231, 76.9009042212525, 69.62845448199391, 68.85823178161235, 68.52647956523535, 66.32149100065563, 64.89150359945728, 63.92181955952685, 59.5005358006529, 56.98313499585486, 56.41833853959858, 56.230470117749455, 56.16076046225206, 824.6458515756407, 597.560381376641, 530.862373405565, 436.536338954011, 376.4550066547883, 318.80263799994236, 308.3947053678875, 262.7393434412889, 211.00495506999917, 205.26140185449623, 202.9549320041904, 173.99863115293564, 170.98478294877776, 167.9151809657934, 152.05419972581288, 122.43252779406447, 122.33160431442478, 118.14142449673784, 111.50840656971374, 106.4941310611888, 104.10754028872019, 100.88630630725524, 98.82982360525818, 93.20942226121558, 82.20643228973472, 74.8958917591024, 67.35420599805467, 65.49045771148619, 63.43802401342686, 60.72735297657459, 935.0104323290715, 903.4571528027016, 604.6725892755443, 549.1766554782743, 250.01650613076572, 221.20825065966227, 202.4779855803379, 157.510470214094, 151.77663143108418, 137.55867192967764, 137.32947656110045, 123.74539958850787, 109.4610783200126, 109.06826379230583, 103.8771560713703, 102.36583243784122, 95.75275826504975, 91.88837705878026, 88.96834325858852, 87.98086159658224, 87.01010874161447, 84.69237448234865, 82.85077742149262, 76.02266577124618, 75.86099265263657, 74.79683431610667, 74.59242418378476, 71.94789794582859, 65.90843706987647, 63.33146432565771, 473.6672641558719, 404.2852380673542, 378.5597384767012, 358.1387760722431, 325.4833666251666, 321.51587838608, 223.4203076075106, 203.4002863416889, 171.6947662571812, 157.31871675068388, 157.2148957098199, 154.9896511225573, 150.29985632040967, 148.99741438692274, 131.09691106989618, 110.27295730795133, 90.96613146664876, 89.35298358200507, 88.9926809770174, 86.3305356034838, 80.97042983002873, 76.97851761451469, 71.32503913500304, 70.4102672139851, 66.45146901495261, 66.00115673027945, 64.46433054512391, 64.42124618369827, 63.96774371962796, 58.809546279953125, 570.2547389322369, 447.7830306030973, 397.7828327203509, 314.589282983868, 302.3740675210517, 256.1714242090422, 253.3568438710792, 161.72155797697658, 151.5331332703927, 150.02544737517385, 149.45968713012783, 148.89423271061446, 136.84536085208427, 127.16780920259414, 122.1271757835871, 119.29428838943505, 119.02334395783805, 115.98074519984316, 101.6491151094284, 98.07351341899293, 97.5928491283994, 87.40930064003015, 81.25316859077908, 80.03013830520318, 76.13061644718334, 69.40405177597412, 68.63109898015256, 66.18454144251024, 65.91046229920384, 62.361140366689796, 633.1897951502087, 568.0051352262049, 412.6054908468635, 321.7841531351653, 224.27540370165062, 171.4912030627051, 146.5002250895239, 137.52000088616268, 136.0933990831332, 121.11052871975228, 116.24198680672501, 114.08544192865502, 106.7702940287614, 106.57452755775341, 106.2844334123843, 102.9904063532456, 102.33261509761591, 101.99825194475396, 99.13570724774827, 95.73911809300108, 88.74080744412242, 85.44493854056464, 83.61846206089834, 76.36133464190718, 76.02681456532463, 75.14098021803933, 73.32089630576193, 69.30617631505955, 67.77163576509287, 61.94632992762662, 370.850759277189, 348.3150605054801, 247.23818189940982, 222.3971926764849, 216.0434789135588, 215.1713286930485, 209.69550575488805, 189.65132652837343, 188.9544593344054, 174.01693678652364, 173.19880338176063, 161.85394233034515, 132.20484028700548, 126.43183566790782, 117.9293764344971, 117.19302231577836, 106.16938374852074, 103.41847483788497, 101.74495085808596, 95.03818993345652, 91.19439321721535, 75.75949758143669, 70.0619965072014, 63.06394856580211, 60.61991873688395, 59.30365007360258, 59.11492773565584, 58.74854664541236, 57.64781412796037, 56.71453626144812, 607.0221181627151, 279.6736083345476, 213.95290889330093, 210.44020545031793, 196.85087202467804, 155.9013501242658, 155.27813834005846, 150.70280625435183, 142.36578185267632, 113.05616667517145, 107.96246719607791, 102.50861279976102, 95.97308696700512, 89.93588921788852, 85.78100904496017, 84.00675117601487, 77.47925196848716, 74.63009586967269, 73.03463475919328, 72.81160980001542, 72.30545750846693, 70.18755731403867, 69.03117052619059, 67.23374367027594, 65.63957492224733, 64.76038308226563, 62.94584805947154, 59.87366309233737, 59.25005426637274, 58.81683837697318, 619.1230535877307, 418.4069006735416, 324.44037538718896, 239.42541640527105, 200.0241173608064, 199.95348244471762, 190.70255717187877, 178.0863386759731, 171.21321940962898, 152.8561812235384, 147.5924167570817, 126.54318865918765, 119.7023680014432, 111.83164992899346, 111.59080425614313, 109.80269814385531, 106.08283649234117, 93.28112042014304, 92.85412264894177, 90.8094605407336, 85.1186597973429, 83.52994407018966, 80.04723916693429, 71.77733214757173, 71.69690907422729, 65.87491159833678, 65.4502087688052, 63.34218932799102, 62.87913478867727, 61.4487007538644], \"Category\": [\"Default\", \"Default\", \"Default\", \"Default\", \"Default\", \"Default\", \"Default\", \"Default\", \"Default\", \"Default\", \"Default\", \"Default\", \"Default\", \"Default\", \"Default\", \"Default\", \"Default\", \"Default\", \"Default\", \"Default\", \"Default\", \"Default\", \"Default\", \"Default\", \"Default\", \"Default\", \"Default\", \"Default\", \"Default\", \"Default\", \"Topic1\", \"Topic1\", \"Topic1\", \"Topic1\", \"Topic1\", \"Topic1\", \"Topic1\", \"Topic1\", \"Topic1\", \"Topic1\", \"Topic1\", \"Topic1\", \"Topic1\", \"Topic1\", \"Topic1\", \"Topic1\", \"Topic1\", \"Topic1\", \"Topic1\", \"Topic1\", \"Topic1\", \"Topic1\", \"Topic1\", \"Topic1\", \"Topic1\", \"Topic1\", \"Topic1\", \"Topic1\", \"Topic1\", \"Topic1\", \"Topic2\", \"Topic2\", \"Topic2\", \"Topic2\", \"Topic2\", \"Topic2\", \"Topic2\", \"Topic2\", \"Topic2\", \"Topic2\", \"Topic2\", \"Topic2\", \"Topic2\", \"Topic2\", \"Topic2\", \"Topic2\", \"Topic2\", \"Topic2\", \"Topic2\", \"Topic2\", \"Topic2\", \"Topic2\", \"Topic2\", \"Topic2\", \"Topic2\", \"Topic2\", \"Topic2\", \"Topic2\", \"Topic2\", \"Topic2\", \"Topic3\", \"Topic3\", \"Topic3\", \"Topic3\", \"Topic3\", \"Topic3\", \"Topic3\", \"Topic3\", \"Topic3\", \"Topic3\", \"Topic3\", \"Topic3\", \"Topic3\", \"Topic3\", \"Topic3\", \"Topic3\", \"Topic3\", \"Topic3\", \"Topic3\", \"Topic3\", \"Topic3\", \"Topic3\", \"Topic3\", \"Topic3\", \"Topic3\", \"Topic3\", \"Topic3\", \"Topic3\", \"Topic3\", \"Topic3\", \"Topic4\", \"Topic4\", \"Topic4\", \"Topic4\", \"Topic4\", \"Topic4\", \"Topic4\", \"Topic4\", \"Topic4\", \"Topic4\", \"Topic4\", \"Topic4\", \"Topic4\", \"Topic4\", \"Topic4\", \"Topic4\", \"Topic4\", \"Topic4\", \"Topic4\", \"Topic4\", \"Topic4\", \"Topic4\", \"Topic4\", \"Topic4\", \"Topic4\", \"Topic4\", \"Topic4\", \"Topic4\", \"Topic4\", \"Topic4\", \"Topic5\", \"Topic5\", \"Topic5\", \"Topic5\", \"Topic5\", \"Topic5\", \"Topic5\", \"Topic5\", \"Topic5\", \"Topic5\", \"Topic5\", \"Topic5\", \"Topic5\", \"Topic5\", \"Topic5\", \"Topic5\", \"Topic5\", \"Topic5\", \"Topic5\", \"Topic5\", \"Topic5\", \"Topic5\", \"Topic5\", \"Topic5\", \"Topic5\", \"Topic5\", \"Topic5\", \"Topic5\", \"Topic5\", \"Topic5\", \"Topic6\", \"Topic6\", \"Topic6\", \"Topic6\", \"Topic6\", \"Topic6\", \"Topic6\", \"Topic6\", \"Topic6\", \"Topic6\", \"Topic6\", \"Topic6\", \"Topic6\", \"Topic6\", \"Topic6\", \"Topic6\", \"Topic6\", \"Topic6\", \"Topic6\", \"Topic6\", \"Topic6\", \"Topic6\", \"Topic6\", \"Topic6\", \"Topic6\", \"Topic6\", \"Topic6\", \"Topic6\", \"Topic6\", \"Topic6\", \"Topic7\", \"Topic7\", \"Topic7\", \"Topic7\", \"Topic7\", \"Topic7\", \"Topic7\", \"Topic7\", \"Topic7\", \"Topic7\", \"Topic7\", \"Topic7\", \"Topic7\", \"Topic7\", \"Topic7\", \"Topic7\", \"Topic7\", \"Topic7\", \"Topic7\", \"Topic7\", \"Topic7\", \"Topic7\", \"Topic7\", \"Topic7\", \"Topic7\", \"Topic7\", \"Topic7\", \"Topic7\", \"Topic7\", \"Topic7\", \"Topic8\", \"Topic8\", \"Topic8\", \"Topic8\", \"Topic8\", \"Topic8\", \"Topic8\", \"Topic8\", \"Topic8\", \"Topic8\", \"Topic8\", \"Topic8\", \"Topic8\", \"Topic8\", \"Topic8\", \"Topic8\", \"Topic8\", \"Topic8\", \"Topic8\", \"Topic8\", \"Topic8\", \"Topic8\", \"Topic8\", \"Topic8\", \"Topic8\", \"Topic8\", \"Topic8\", \"Topic8\", \"Topic8\", \"Topic8\", \"Topic9\", \"Topic9\", \"Topic9\", \"Topic9\", \"Topic9\", \"Topic9\", \"Topic9\", \"Topic9\", \"Topic9\", \"Topic9\", \"Topic9\", \"Topic9\", \"Topic9\", \"Topic9\", \"Topic9\", \"Topic9\", \"Topic9\", \"Topic9\", \"Topic9\", \"Topic9\", \"Topic9\", \"Topic9\", \"Topic9\", \"Topic9\", \"Topic9\", \"Topic9\", \"Topic9\", \"Topic9\", \"Topic9\", \"Topic9\", \"Topic10\", \"Topic10\", \"Topic10\", \"Topic10\", \"Topic10\", \"Topic10\", \"Topic10\", \"Topic10\", \"Topic10\", \"Topic10\", \"Topic10\", \"Topic10\", \"Topic10\", \"Topic10\", \"Topic10\", \"Topic10\", \"Topic10\", \"Topic10\", \"Topic10\", \"Topic10\", \"Topic10\", \"Topic10\", \"Topic10\", \"Topic10\", \"Topic10\", \"Topic10\", \"Topic10\", \"Topic10\", \"Topic10\", \"Topic10\", \"Topic11\", \"Topic11\", \"Topic11\", \"Topic11\", \"Topic11\", \"Topic11\", \"Topic11\", \"Topic11\", \"Topic11\", \"Topic11\", \"Topic11\", \"Topic11\", \"Topic11\", \"Topic11\", \"Topic11\", \"Topic11\", \"Topic11\", \"Topic11\", \"Topic11\", \"Topic11\", \"Topic11\", \"Topic11\", \"Topic11\", \"Topic11\", \"Topic11\", \"Topic11\", \"Topic11\", \"Topic11\", \"Topic11\", \"Topic11\", \"Topic12\", \"Topic12\", \"Topic12\", \"Topic12\", \"Topic12\", \"Topic12\", \"Topic12\", \"Topic12\", \"Topic12\", \"Topic12\", \"Topic12\", \"Topic12\", \"Topic12\", \"Topic12\", \"Topic12\", \"Topic12\", \"Topic12\", \"Topic12\", \"Topic12\", \"Topic12\", \"Topic12\", \"Topic12\", \"Topic12\", \"Topic12\", \"Topic12\", \"Topic12\", \"Topic12\", \"Topic12\", \"Topic12\", \"Topic12\", \"Topic13\", \"Topic13\", \"Topic13\", \"Topic13\", \"Topic13\", \"Topic13\", \"Topic13\", \"Topic13\", \"Topic13\", \"Topic13\", \"Topic13\", \"Topic13\", \"Topic13\", \"Topic13\", \"Topic13\", \"Topic13\", \"Topic13\", \"Topic13\", \"Topic13\", \"Topic13\", \"Topic13\", \"Topic13\", \"Topic13\", \"Topic13\", \"Topic13\", \"Topic13\", \"Topic13\", \"Topic13\", \"Topic13\", \"Topic13\", \"Topic14\", \"Topic14\", \"Topic14\", \"Topic14\", \"Topic14\", \"Topic14\", \"Topic14\", \"Topic14\", \"Topic14\", \"Topic14\", \"Topic14\", \"Topic14\", \"Topic14\", \"Topic14\", \"Topic14\", \"Topic14\", \"Topic14\", \"Topic14\", \"Topic14\", \"Topic14\", \"Topic14\", \"Topic14\", \"Topic14\", \"Topic14\", \"Topic14\", \"Topic14\", \"Topic14\", \"Topic14\", \"Topic14\", \"Topic14\", \"Topic15\", \"Topic15\", \"Topic15\", \"Topic15\", \"Topic15\", \"Topic15\", \"Topic15\", \"Topic15\", \"Topic15\", \"Topic15\", \"Topic15\", \"Topic15\", \"Topic15\", \"Topic15\", \"Topic15\", \"Topic15\", \"Topic15\", \"Topic15\", \"Topic15\", \"Topic15\", \"Topic15\", \"Topic15\", \"Topic15\", \"Topic15\", \"Topic15\", \"Topic15\", \"Topic15\", \"Topic15\", \"Topic15\", \"Topic15\", \"Topic16\", \"Topic16\", \"Topic16\", \"Topic16\", \"Topic16\", \"Topic16\", \"Topic16\", \"Topic16\", \"Topic16\", \"Topic16\", \"Topic16\", \"Topic16\", \"Topic16\", \"Topic16\", \"Topic16\", \"Topic16\", \"Topic16\", \"Topic16\", \"Topic16\", \"Topic16\", \"Topic16\", \"Topic16\", \"Topic16\", \"Topic16\", \"Topic16\", \"Topic16\", \"Topic16\", \"Topic16\", \"Topic16\", \"Topic16\", \"Topic17\", \"Topic17\", \"Topic17\", \"Topic17\", \"Topic17\", \"Topic17\", \"Topic17\", \"Topic17\", \"Topic17\", \"Topic17\", \"Topic17\", \"Topic17\", \"Topic17\", \"Topic17\", \"Topic17\", \"Topic17\", \"Topic17\", \"Topic17\", \"Topic17\", \"Topic17\", \"Topic17\", \"Topic17\", \"Topic17\", \"Topic17\", \"Topic17\", \"Topic17\", \"Topic17\", \"Topic17\", \"Topic17\", \"Topic17\", \"Topic18\", \"Topic18\", \"Topic18\", \"Topic18\", \"Topic18\", \"Topic18\", \"Topic18\", \"Topic18\", \"Topic18\", \"Topic18\", \"Topic18\", \"Topic18\", \"Topic18\", \"Topic18\", \"Topic18\", \"Topic18\", \"Topic18\", \"Topic18\", \"Topic18\", \"Topic18\", \"Topic18\", \"Topic18\", \"Topic18\", \"Topic18\", \"Topic18\", \"Topic18\", \"Topic18\", \"Topic18\", \"Topic18\", \"Topic18\", \"Topic19\", \"Topic19\", \"Topic19\", \"Topic19\", \"Topic19\", \"Topic19\", \"Topic19\", \"Topic19\", \"Topic19\", \"Topic19\", \"Topic19\", \"Topic19\", \"Topic19\", \"Topic19\", \"Topic19\", \"Topic19\", \"Topic19\", \"Topic19\", \"Topic19\", \"Topic19\", \"Topic19\", \"Topic19\", \"Topic19\", \"Topic19\", \"Topic19\", \"Topic19\", \"Topic19\", \"Topic19\", \"Topic19\", \"Topic19\", \"Topic20\", \"Topic20\", \"Topic20\", \"Topic20\", \"Topic20\", \"Topic20\", \"Topic20\", \"Topic20\", \"Topic20\", \"Topic20\", \"Topic20\", \"Topic20\", \"Topic20\", \"Topic20\", \"Topic20\", \"Topic20\", \"Topic20\", \"Topic20\", \"Topic20\", \"Topic20\", \"Topic20\", \"Topic20\", \"Topic20\", \"Topic20\", \"Topic20\", \"Topic20\", \"Topic20\", \"Topic20\", \"Topic20\", \"Topic20\"], \"logprob\": [30.0, 29.0, 28.0, 27.0, 26.0, 25.0, 24.0, 23.0, 22.0, 21.0, 20.0, 19.0, 18.0, 17.0, 16.0, 15.0, 14.0, 13.0, 12.0, 11.0, 10.0, 9.0, 8.0, 7.0, 6.0, 5.0, 4.0, 3.0, 2.0, 1.0, -2.09, -2.1296, -2.2238, -2.5639, -2.6674, -2.8573, -3.1143, -3.4484, -3.6436, -4.0406, -4.0794, -4.6216, -4.7212, -4.8463, -4.8537, -4.8997, -5.0304, -5.0634, -5.0646, -5.0733, -5.0918, -5.114, -5.3023, -5.3366, -5.4657, -5.4836, -5.5192, -5.575, -5.601, -5.9151, -1.9764, -2.0584, -2.5133, -2.6633, -3.3098, -3.4658, -3.5738, -3.9754, -4.0032, -4.1949, -4.2093, -4.5612, -4.6205, -4.6275, -4.8509, -4.8565, -4.8575, -4.9464, -4.9688, -4.9882, -4.9987, -5.0518, -5.1449, -5.1522, -5.1815, -5.1967, -5.2068, -5.2173, -5.2543, -5.2868, -2.4133, -2.8464, -2.8789, -3.0621, -3.349, -3.365, -3.3981, -3.4278, -3.8913, -3.9587, -3.976, -4.0428, -4.1282, -4.1873, -4.2275, -4.2602, -4.3044, -4.3129, -4.3517, -4.6041, -4.6092, -4.6181, -4.6906, -4.6934, -4.7773, -4.8174, -4.8616, -4.8672, -4.9176, -4.9436, -3.4425, -3.4872, -3.6762, -3.873, -3.9096, -4.0076, -4.0618, -4.0821, -4.0891, -4.0914, -4.1878, -4.2112, -4.3545, -4.3916, -4.393, -4.4015, -4.449, -4.4755, -4.4973, -4.516, -4.533, -4.6945, -4.6991, -4.7071, -4.7087, -4.7189, -4.7515, -4.7637, -4.8725, -4.8784, -1.8957, -2.5267, -2.6594, -2.9468, -3.5915, -3.6461, -3.9064, -3.9833, -4.0148, -4.2462, -4.308, -4.5264, -4.5297, -4.5424, -4.5438, -4.6003, -4.6711, -4.7373, -4.7611, -4.7719, -4.961, -4.9666, -4.9866, -4.995, -5.0122, -5.0161, -5.027, -5.0801, -5.0877, -5.0972, -1.6887, -3.1057, -3.1359, -3.4428, -3.5449, -3.706, -3.7368, -4.1789, -4.2869, -4.3225, -4.5404, -4.5511, -4.5707, -4.615, -4.7065, -4.777, -4.8041, -4.826, -4.8327, -4.8791, -4.9142, -4.9443, -4.9882, -4.9911, -4.9964, -5.04, -5.0437, -5.0895, -5.1113, -5.1661, -2.3279, -2.3313, -2.58, -3.2571, -3.5011, -3.6528, -3.7376, -3.862, -3.8998, -3.9435, -4.0213, -4.0213, -4.226, -4.2508, -4.2656, -4.2747, -4.4228, -4.547, -4.571, -4.6859, -4.8096, -4.8599, -4.9296, -4.9584, -4.9728, -4.9986, -5.0332, -5.058, -5.1093, -5.1953, -2.071, -2.4674, -3.0372, -3.0522, -3.4477, -3.5427, -3.6679, -3.6948, -3.8624, -3.897, -3.9418, -4.1557, -4.3183, -4.4494, -4.5047, -4.5803, -4.6266, -4.6394, -4.6873, -4.7149, -4.7223, -4.757, -4.8236, -4.9122, -4.9379, -5.0266, -5.1051, -5.1341, -5.1779, -5.2278, -1.9509, -2.4515, -3.2344, -3.347, -3.5711, -3.673, -3.7604, -3.8023, -3.9293, -4.0822, -4.1193, -4.1329, -4.3102, -4.3169, -4.457, -4.467, -4.6233, -4.7537, -4.783, -4.8105, -4.8199, -4.8734, -4.9141, -4.9442, -4.9759, -5.0317, -5.0774, -5.1361, -5.1529, -5.1984, -2.0505, -2.7026, -2.7946, -2.9107, -3.0135, -3.4472, -3.8846, -3.9583, -4.012, -4.1965, -4.2879, -4.3586, -4.4791, -4.5127, -4.6025, -4.6036, -4.6641, -4.7991, -4.84, -4.9338, -4.9702, -4.9872, -5.0987, -5.1039, -5.1161, -5.1421, -5.1476, -5.1553, -5.1839, -5.1879, -2.9186, -3.0263, -3.2388, -3.264, -3.3737, -3.3932, -3.4408, -3.62, -3.6924, -4.083, -4.2252, -4.2412, -4.3641, -4.3918, -4.4209, -4.4631, -4.4701, -4.4784, -4.5591, -4.5659, -4.6048, -4.6352, -4.667, -4.6782, -4.7027, -4.8091, -4.9529, -5.0137, -5.0161, -5.0226, -1.604, -2.1746, -3.6308, -3.9465, -4.0271, -4.0644, -4.2617, -4.3127, -4.4506, -4.5196, -4.5681, -4.5911, -4.6386, -4.6549, -4.6752, -4.6785, -4.7782, -4.8016, -4.871, -4.9716, -4.9829, -4.9878, -5.0209, -5.043, -5.0583, -5.131, -5.1749, -5.185, -5.1884, -5.1897, -2.4777, -2.8002, -2.9188, -3.1148, -3.2632, -3.4298, -3.4631, -3.6238, -3.8439, -3.8717, -3.883, -4.0377, -4.0553, -4.0735, -4.1733, -4.3914, -4.3922, -4.4273, -4.4856, -4.5319, -4.5548, -4.5865, -4.6073, -4.6664, -4.7933, -4.8875, -4.995, -5.0235, -5.0558, -5.1001, -2.3284, -2.3627, -2.7648, -2.8612, -3.65, -3.7729, -3.8618, -4.1142, -4.1515, -4.2505, -4.2521, -4.357, -4.4806, -4.4843, -4.5334, -4.5482, -4.6156, -4.6572, -4.6898, -4.7011, -4.7123, -4.7396, -4.7618, -4.8488, -4.851, -4.8653, -4.868, -4.9046, -4.9934, -5.0339, -2.9612, -3.1199, -3.1858, -3.2414, -3.3373, -3.3496, -3.7148, -3.8091, -3.9793, -4.0673, -4.0679, -4.0823, -4.1132, -4.1219, -4.2507, -4.425, -4.6192, -4.6373, -4.6414, -4.6721, -4.7369, -4.788, -4.8652, -4.8783, -4.9369, -4.9438, -4.9677, -4.9684, -4.9755, -5.0609, -2.7739, -3.0161, -3.1348, -3.37, -3.4097, -3.5761, -3.5872, -4.0381, -4.1036, -4.1136, -4.1174, -4.1212, -4.2061, -4.28, -4.3207, -4.3444, -4.3467, -4.3728, -4.5058, -4.5419, -4.5469, -4.6582, -4.732, -4.7473, -4.7978, -4.8915, -4.9029, -4.9396, -4.9439, -5.0, -2.6409, -2.7497, -3.0699, -3.3191, -3.6814, -3.9509, -4.1093, -4.173, -4.1835, -4.301, -4.3423, -4.3612, -4.428, -4.4298, -4.4326, -4.4643, -4.4708, -4.4741, -4.5028, -4.538, -4.6147, -4.6529, -4.6748, -4.7666, -4.771, -4.7829, -4.8077, -4.8647, -4.8874, -4.9786, -3.1584, -3.2213, -3.5651, -3.6714, -3.7005, -3.7045, -3.7304, -3.8314, -3.835, -3.9178, -3.9226, -3.9907, -4.1943, -4.2392, -4.3094, -4.3157, -4.4153, -4.4417, -4.4582, -4.527, -4.5687, -4.7562, -4.8353, -4.942, -4.9821, -5.0044, -5.0076, -5.014, -5.0332, -5.0497, -2.6241, -3.4007, -3.6696, -3.6862, -3.7533, -3.9877, -3.9917, -4.0218, -4.0791, -4.3112, -4.3577, -4.41, -4.4765, -4.5421, -4.5899, -4.611, -4.6928, -4.7307, -4.7526, -4.7557, -4.7627, -4.7928, -4.8097, -4.8364, -4.8607, -4.8744, -4.9032, -4.954, -4.9646, -4.9721, -2.5934, -2.986, -3.2409, -3.5458, -3.7263, -3.7267, -3.7743, -3.8431, -3.8826, -3.9967, -4.0319, -4.1868, -4.2428, -4.3113, -4.3135, -4.3298, -4.3645, -4.4943, -4.4989, -4.5214, -4.5868, -4.6059, -4.6489, -4.7593, -4.7604, -4.8462, -4.8528, -4.886, -4.8934, -4.9168], \"loglift\": [30.0, 29.0, 28.0, 27.0, 26.0, 25.0, 24.0, 23.0, 22.0, 21.0, 20.0, 19.0, 18.0, 17.0, 16.0, 15.0, 14.0, 13.0, 12.0, 11.0, 10.0, 9.0, 8.0, 7.0, 6.0, 5.0, 4.0, 3.0, 2.0, 1.0, 2.3566, 2.3566, 2.3565, 2.3564, 2.3563, 2.3562, 2.3559, 2.3555, 2.3552, 2.3544, 2.3543, 2.3524, 2.3519, 2.3513, 2.3512, 2.351, 2.3501, 2.3499, 2.3499, 2.3498, 2.3497, 2.3495, 2.348, 2.3477, 2.3464, 2.3462, 2.3458, 2.3452, 2.3449, 2.3405, 2.7469, 2.7468, 2.7465, 2.7464, 2.7455, 2.7452, 2.745, 2.7438, 2.7437, 2.743, 2.7429, 2.741, 2.7406, 2.7406, 2.7389, 2.7389, 2.7389, 2.7381, 2.7379, 2.7377, 2.7376, 2.7371, 2.7361, 2.736, 2.7356, 2.7355, 2.7353, 2.7352, 2.7348, 2.7343, 2.818, 2.8176, 2.8176, 2.8173, 2.8168, 2.8168, 2.8167, 2.8166, 2.8153, 2.8151, 2.815, 2.8148, 2.8144, 2.8141, 2.814, 2.8138, 2.8136, 2.8135, 2.8133, 2.8117, 2.8117, 2.8116, 2.8111, 2.8111, 2.8104, 2.8101, 2.8097, 2.8096, 2.8091, 2.8089, 2.9654, 2.9653, 2.9648, 2.9641, 2.9639, 2.9635, 2.9632, 2.9631, 2.9631, 2.9631, 2.9626, 2.9625, 2.9616, 2.9614, 2.9614, 2.9613, 2.961, 2.9608, 2.9606, 2.9605, 2.9604, 2.959, 2.959, 2.9589, 2.9589, 2.9588, 2.9585, 2.9584, 2.9573, 2.9572, 2.9897, 2.9892, 2.9891, 2.9887, 2.9872, 2.9871, 2.9861, 2.9858, 2.9856, 2.9844, 2.984, 2.9825, 2.9825, 2.9824, 2.9824, 2.9819, 2.9813, 2.9807, 2.9805, 2.9804, 2.9783, 2.9783, 2.978, 2.9779, 2.9777, 2.9776, 2.9775, 2.9768, 2.9767, 2.9766, 2.9923, 2.9909, 2.9908, 2.9901, 2.9898, 2.9893, 2.9892, 2.9872, 2.9866, 2.9864, 2.9848, 2.9848, 2.9846, 2.9842, 2.9834, 2.9827, 2.9825, 2.9822, 2.9822, 2.9817, 2.9813, 2.9809, 2.9804, 2.9804, 2.9803, 2.9797, 2.9797, 2.9791, 2.9788, 2.978, 3.0013, 3.0013, 3.0011, 3.0, 2.9994, 2.9989, 2.9986, 2.9981, 2.998, 2.9978, 2.9974, 2.9974, 2.9964, 2.9962, 2.9961, 2.9961, 2.9951, 2.9942, 2.994, 2.993, 2.9918, 2.9912, 2.9904, 2.9901, 2.9899, 2.9896, 2.9892, 2.9888, 2.9881, 2.9869, 3.0091, 3.0088, 3.008, 3.008, 3.0071, 3.0068, 3.0064, 3.0064, 3.0057, 3.0056, 3.0054, 3.0043, 3.0034, 3.0025, 3.0021, 3.0015, 3.0011, 3.0009, 3.0005, 3.0003, 3.0002, 2.9998, 2.9992, 2.9982, 2.9979, 2.9968, 2.9957, 2.9953, 2.9947, 2.9939, 3.0126, 3.0122, 3.011, 3.0107, 3.0101, 3.0098, 3.0095, 3.0093, 3.0088, 3.0081, 3.0079, 3.0078, 3.0068, 3.0067, 3.0058, 3.0057, 3.0044, 3.0032, 3.0029, 3.0027, 3.0026, 3.002, 3.0015, 3.0012, 3.0008, 3.0001, 2.9995, 2.9986, 2.9984, 2.9977, 3.0398, 3.0392, 3.0391, 3.0389, 3.0387, 3.0377, 3.0362, 3.0359, 3.0356, 3.0346, 3.0341, 3.0336, 3.0327, 3.0325, 3.0317, 3.0317, 3.0311, 3.0298, 3.0294, 3.0283, 3.0278, 3.0276, 3.0261, 3.026, 3.0258, 3.0255, 3.0254, 3.0253, 3.0248, 3.0248, 3.049, 3.0488, 3.0484, 3.0483, 3.0481, 3.048, 3.0479, 3.0473, 3.0471, 3.0454, 3.0446, 3.0445, 3.0437, 3.0435, 3.0433, 3.0429, 3.0429, 3.0428, 3.0422, 3.0421, 3.0418, 3.0415, 3.0412, 3.0411, 3.0409, 3.0398, 3.0381, 3.0373, 3.0373, 3.0372, 3.0603, 3.0599, 3.0573, 3.056, 3.0556, 3.0554, 3.0543, 3.054, 3.053, 3.0524, 3.052, 3.0518, 3.0514, 3.0512, 3.051, 3.051, 3.05, 3.0497, 3.0489, 3.0477, 3.0476, 3.0475, 3.0471, 3.0467, 3.0465, 3.0455, 3.0448, 3.0446, 3.0446, 3.0446, 3.0698, 3.0694, 3.0692, 3.0689, 3.0685, 3.0681, 3.068, 3.0675, 3.0666, 3.0665, 3.0665, 3.0657, 3.0656, 3.0655, 3.065, 3.0635, 3.0635, 3.0633, 3.0628, 3.0624, 3.0622, 3.062, 3.0618, 3.0612, 3.0599, 3.0588, 3.0575, 3.0571, 3.0566, 3.056, 3.0936, 3.0935, 3.093, 3.0929, 3.0909, 3.0904, 3.0901, 3.0888, 3.0886, 3.088, 3.088, 3.0872, 3.0863, 3.0862, 3.0858, 3.0857, 3.0851, 3.0847, 3.0844, 3.0843, 3.0841, 3.0839, 3.0836, 3.0826, 3.0826, 3.0824, 3.0824, 3.082, 3.0808, 3.0802, 3.1408, 3.1404, 3.1403, 3.1402, 3.1399, 3.1399, 3.1386, 3.1382, 3.1374, 3.137, 3.1369, 3.1369, 3.1367, 3.1366, 3.1358, 3.1345, 3.1328, 3.1326, 3.1325, 3.1322, 3.1315, 3.1309, 3.13, 3.1298, 3.1291, 3.129, 3.1287, 3.1286, 3.1285, 3.1273, 3.1425, 3.1421, 3.1418, 3.1412, 3.1411, 3.1406, 3.1405, 3.1385, 3.1381, 3.1381, 3.138, 3.138, 3.1375, 3.137, 3.1367, 3.1365, 3.1365, 3.1363, 3.1352, 3.1349, 3.1348, 3.1337, 3.1329, 3.1328, 3.1322, 3.131, 3.1309, 3.1304, 3.1303, 3.1295, 3.1708, 3.1707, 3.1701, 3.1695, 3.1682, 3.167, 3.1661, 3.1657, 3.1656, 3.1648, 3.1645, 3.1643, 3.1638, 3.1638, 3.1638, 3.1635, 3.1634, 3.1634, 3.1632, 3.1628, 3.1621, 3.1617, 3.1615, 3.1604, 3.1604, 3.1602, 3.1599, 3.1592, 3.1589, 3.1576, 3.1883, 3.1881, 3.187, 3.1866, 3.1865, 3.1865, 3.1864, 3.1859, 3.1859, 3.1855, 3.1855, 3.1851, 3.1839, 3.1836, 3.183, 3.183, 3.1822, 3.182, 3.1818, 3.1812, 3.1808, 3.1787, 3.1778, 3.1763, 3.1757, 3.1754, 3.1754, 3.1753, 3.175, 3.1747, 3.2299, 3.2281, 3.2271, 3.2271, 3.2268, 3.2256, 3.2255, 3.2254, 3.225, 3.2234, 3.223, 3.2225, 3.2219, 3.2213, 3.2208, 3.2206, 3.2197, 3.2192, 3.219, 3.2189, 3.2188, 3.2185, 3.2182, 3.2179, 3.2176, 3.2174, 3.217, 3.2162, 3.2161, 3.216, 3.2408, 3.2401, 3.2394, 3.2385, 3.2377, 3.2377, 3.2375, 3.2372, 3.237, 3.2363, 3.2361, 3.2351, 3.2347, 3.2342, 3.2341, 3.234, 3.2337, 3.2325, 3.2325, 3.2323, 3.2316, 3.2314, 3.2309, 3.2296, 3.2296, 3.2285, 3.2284, 3.228, 3.2278, 3.2275]}, \"token.table\": {\"Topic\": [19, 11, 13, 18, 14, 4, 15, 20, 15, 17, 5, 12, 3, 7, 19, 12, 10, 5, 18, 5, 18, 1, 14, 20, 20, 13, 12, 3, 1, 11, 14, 19, 17, 17, 7, 6, 5, 12, 8, 1, 6, 13, 4, 18, 11, 9, 1, 19, 19, 6, 4, 17, 19, 7, 13, 12, 1, 15, 10, 4, 7, 3, 9, 17, 3, 10, 12, 6, 17, 15, 2, 13, 13, 3, 12, 16, 16, 17, 14, 6, 15, 7, 7, 14, 6, 2, 9, 6, 11, 4, 3, 2, 10, 5, 18, 11, 6, 20, 14, 19, 16, 11, 17, 17, 19, 2, 11, 12, 14, 18, 9, 18, 20, 13, 17, 18, 17, 7, 3, 3, 9, 15, 4, 8, 18, 6, 6, 4, 3, 8, 13, 16, 12, 19, 12, 20, 16, 15, 20, 2, 5, 18, 4, 3, 9, 20, 12, 15, 16, 2, 16, 5, 15, 6, 12, 10, 20, 2, 11, 1, 14, 13, 3, 20, 9, 18, 3, 15, 8, 14, 7, 3, 15, 1, 20, 7, 15, 19, 8, 1, 7, 5, 17, 2, 9, 12, 2, 1, 14, 4, 12, 19, 13, 20, 7, 5, 2, 15, 16, 9, 8, 5, 9, 14, 2, 2, 7, 11, 6, 2, 19, 13, 1, 14, 16, 12, 2, 9, 2, 18, 15, 8, 1, 2, 8, 19, 7, 3, 9, 7, 10, 1, 4, 6, 9, 20, 2, 2, 5, 18, 7, 13, 3, 3, 19, 16, 5, 20, 8, 17, 19, 12, 12, 15, 1, 6, 16, 14, 9, 6, 4, 16, 5, 4, 20, 6, 10, 16, 13, 10, 11, 4, 4, 13, 1, 10, 16, 3, 10, 8, 13, 5, 10, 3, 10, 12, 5, 17, 18, 5, 13, 4, 16, 16, 16, 13, 5, 8, 3, 13, 14, 17, 1, 13, 14, 16, 14, 8, 2, 18, 4, 16, 4, 5, 8, 17, 20, 4, 18, 5, 20, 2, 7, 15, 10, 2, 18, 5, 19, 15, 7, 18, 4, 6, 12, 10, 20, 1, 8, 3, 15, 20, 14, 9, 10, 6, 11, 6, 1, 14, 5, 19, 11, 9, 10, 5, 20, 12, 17, 8, 4, 19, 16, 15, 20, 9, 4, 10, 6, 16, 17, 6, 8, 5, 8, 14, 10, 16, 16, 1, 16, 20, 11, 11, 3, 7, 10, 16, 10, 19, 16, 17, 20, 1, 19, 12, 4, 2, 12, 5, 11, 4, 7, 8, 17, 3, 20, 4, 10, 1, 8, 20, 18, 1, 4, 9, 2, 7, 7, 11, 2, 5, 18, 1, 4, 11, 10, 19, 19, 8, 17, 16, 7, 15, 14, 6, 12, 11, 16, 18, 13, 6, 11, 5, 11, 10, 11, 14, 15, 8, 6, 8, 1, 11, 13, 3, 1, 11, 8, 9, 10, 20, 7, 3, 20, 19, 3, 17, 11, 6, 9, 2, 10, 15, 15, 8, 15, 10, 3, 3, 6, 9, 20, 9, 13, 11, 18, 14, 11, 16, 7, 18, 5, 12, 1, 10, 18, 12, 18, 13, 9, 14, 20, 4, 14, 7, 3, 18, 8, 12, 7, 17, 18, 19, 9, 9, 18, 15, 17, 12, 19, 16, 13, 1, 13, 13, 2, 12, 15, 9, 8, 2, 14, 1, 9, 19, 2, 2, 4, 7, 9, 6, 9, 8, 17, 17, 2, 17, 11, 7, 19, 15, 14, 19, 6, 9, 17, 11, 19, 4, 15, 10, 7, 1, 15, 11, 8, 14, 10, 5, 13, 12, 14, 5, 15, 13, 8, 14, 20, 6, 3, 19, 17, 8, 4, 10, 13, 14, 17, 7, 18, 13, 3, 12, 1, 1, 5, 6, 11, 18], \"Freq\": [0.9858336423177217, 0.9976118148887154, 0.9945497425513906, 0.9869027779551048, 0.9976393207440902, 0.9916903543576815, 0.993206034093076, 0.9959861301136037, 0.9872884326064213, 0.9848154733312168, 0.9913862171056872, 0.991737135659516, 0.9947015877149876, 0.9883635064028428, 0.9861121678840022, 0.992585060985003, 0.9787181261360088, 0.9959699229020713, 0.9926782523181419, 0.9881495688026533, 0.9966832586498015, 0.9982695170380859, 0.9988876802298081, 0.9929139851828477, 0.9869172356494353, 0.9954406435769855, 0.9875362500690654, 0.9887773674435597, 0.986237193832212, 0.9985281810427556, 0.9939763450521267, 0.9882585147573987, 0.9975631082900596, 0.9821724613864976, 0.9994216597817673, 0.9964469300397967, 0.9951441335158466, 0.9793314682226881, 0.9816685077062973, 0.9997070112773898, 0.9914623440630276, 0.9903384904862954, 0.9982452057137877, 0.9908865644828898, 0.9954419540308013, 0.9902710149441373, 0.997211870486452, 0.995038340819668, 0.9942184585088752, 0.9975778812471819, 0.9976646307495963, 0.9819847223327229, 0.9898608349719994, 0.9883313150881611, 0.9893615747173676, 0.9827469128203217, 0.9886204798016214, 0.9913515797537514, 0.9942890318634564, 0.9952750042946806, 0.9832365925176937, 0.9939803749852965, 0.99331699797248, 0.994609147505326, 0.9978015565888056, 0.9922201289088248, 0.9977760907663807, 0.9918354122843113, 0.9981209502122085, 0.9848713794898003, 0.986902443947412, 0.9974823357642902, 0.9853243565481266, 0.9969383603926287, 0.9915877093555954, 0.9939252810662449, 0.9908167860253558, 0.9947926869845731, 0.9897312077451681, 0.9973663756551554, 0.9985213998748161, 0.9783383481917742, 0.9984493144229286, 0.9883909035832366, 0.9950306623056979, 0.9979851611697685, 0.9963283166553558, 0.9909535221955407, 0.9949820168396253, 0.9920396864311264, 0.9988213875475577, 0.9893466981540197, 0.9893904360130739, 0.9954676256956614, 0.9898200226241819, 0.9931060071030307, 0.991951527666107, 0.9947056188000312, 0.9903190735565868, 0.9888532913604768, 0.9954271862575652, 0.9892423187096142, 0.9886141782416544, 0.991652009200064, 0.9816499334571283, 0.9995181867633903, 0.9988565221566434, 0.9919256907662124, 0.9967591347203767, 0.9930784545946414, 0.9942483427675778, 0.9831290524935659, 0.9788104998859282, 0.988038172213985, 0.99621872540131, 0.9897736791833281, 0.9926037618289617, 0.9901834216984595, 0.9891403797470545, 0.9986747124883982, 0.9945905500335949, 0.9933058275472311, 0.9957560526227968, 0.9974711773358746, 0.9874011795114717, 0.994611235490132, 0.9901728816814079, 0.9863140551148675, 0.9962804672295761, 0.9929839140742435, 0.9952948568691562, 0.9964817379612854, 0.9909741715988191, 0.9915570807952193, 0.9947363449327288, 0.9986426615779143, 0.9915438963756159, 0.9845878912463263, 0.9897925382828602, 0.9879293542046719, 0.9926087797258387, 0.9887625552198315, 0.9936467622209355, 0.9932877083470953, 0.9893969578216245, 0.9910861650767047, 0.9931553820006072, 0.9936147277228546, 0.9821024454246742, 0.9855282006666806, 0.9982513169334651, 0.9900448227118802, 0.998032026655968, 0.9932969135172329, 0.9781173780839323, 0.9988682208661507, 0.9891702279213505, 0.9965007682685506, 0.9909098173719372, 0.988522208018058, 0.9868252169571058, 0.9942405228594361, 0.9961052862794965, 0.990279789139783, 0.9832372986944332, 0.97801737208444, 0.9928500672907073, 0.9981187582632418, 0.9979606261744304, 0.9920578505087178, 0.9885170812714922, 0.9971658505891681, 0.9985912808286191, 0.9913512966710397, 0.9868576432006062, 0.9966289091816656, 0.9934610674481974, 0.9850622477015747, 0.9806260994656834, 0.9989489165326587, 0.9927053529668473, 0.9872209174185101, 0.984723389929117, 0.9955616764202785, 0.9966303909227702, 0.9800744678577482, 0.9872795824642007, 0.9949845797186596, 0.997857418980693, 0.9931994612897334, 0.9870174775022161, 0.9902562604495088, 0.9880226464529885, 0.9941323800592254, 0.9927216725725801, 0.9896252439930209, 0.9908461741118413, 0.9893792178355636, 0.987128120392912, 0.9894533191137127, 0.9936815039108334, 0.9943956466393172, 0.9954983047381195, 0.9948830631977965, 0.9879766454929391, 0.9838106708960282, 0.9918966614140976, 0.99700327086092, 0.9925586843056701, 0.99931241502669, 0.9917687167445339, 0.9990622179881639, 0.9998294567751379, 0.9994939961443845, 0.9980320097903742, 0.9847114068472128, 0.9973909706308122, 0.9962607409330221, 0.9863975392079422, 0.9941561045418746, 0.9880150095279742, 0.9846982131177785, 0.9921730788817863, 0.9875972755414983, 0.9934274961052035, 0.9789020570217063, 0.9803386215013862, 0.998697598016178, 0.9937797369116108, 0.9968985627528578, 0.999501633772423, 0.996168195063334, 0.9969342255957347, 0.9968687697023076, 0.9956925332121747, 0.9925633760252889, 0.9983011064626516, 0.9853192682819693, 0.9948342578763708, 0.9890760763206513, 0.9938308313090013, 0.9930669476560737, 0.9973095477517342, 0.9966413782788583, 0.9910851685676105, 0.9891504580235236, 0.9947086037470879, 0.9926896318813252, 0.9892975386372982, 0.9965854995156614, 0.9904065300319871, 0.9952009303013601, 0.9955818931393847, 0.9922723880308244, 0.9962166439581063, 0.9907444036264654, 0.9938225099716897, 0.9902055487530261, 0.9888511936184079, 0.9897483346976437, 0.9901907134080133, 0.9890539924433355, 0.9901951423943773, 0.9909079197121393, 0.9867185916897857, 0.9934918728182373, 0.9880976382208282, 0.9946445343636755, 0.9971860193010869, 0.9983154341055333, 0.989334535770452, 0.9960693854261213, 0.9907982963171834, 0.9942606953496209, 0.9992274690178233, 0.9895752469221526, 0.9981268179949467, 0.986199302023886, 0.9889233631330437, 0.994767148468293, 0.9925110049826363, 0.9964440737619548, 0.9904161949235919, 0.9970985074997383, 0.9894698394132945, 0.98888174830232, 0.9841880556062492, 0.9985325186884432, 0.9949487334791277, 0.9994219983106504, 0.9798942623108974, 0.9907628261036959, 0.9914021575616246, 0.9955382696901838, 0.9845769880422695, 0.995477531411495, 0.9939806563141768, 0.9974452353542704, 0.998154797361674, 0.9916035102058602, 0.9989193357698111, 0.9943132252551989, 0.9978654003233913, 0.9992168134061347, 0.9789762586443419, 0.978173260484235, 0.9866573405860731, 0.9992662024824018, 0.9941103300092907, 0.9962245086285626, 0.9897907036676357, 0.9977996869704471, 0.9862731912875622, 0.9906118273340229, 0.9907927159038777, 0.9908304527154528, 0.9981860575515275, 0.9940856616700927, 0.9977059254810555, 0.9920343261427689, 0.986266026668925, 0.9927760783879682, 0.9952060003490214, 0.9916328229174572, 0.9757905780451402, 0.9935108331200905, 0.9872584653041657, 0.9923980781462653, 0.9906580356805659, 0.9985149267989377, 0.9969072706866781, 0.9949919470775206, 0.9885499823993261, 0.9958363922477219, 0.9882848682941295, 0.9984752606277506, 0.9952314786766405, 0.9875574932514735, 0.989715948299424, 0.9898916056855275, 0.9848579921143501, 0.9931213547324883, 0.995787741843136, 0.9991690969644356, 0.9992950073294952, 0.9973714187009654, 0.9979219146064812, 0.9857125030876902, 0.9929941321224236, 0.994537949393573, 0.9910977593974587, 0.9975914483366559, 0.9895645281585843, 0.9888716440110046, 0.9926094757043473, 0.9982955148436616, 0.994880030596715, 0.9964435172765798, 0.9922798736010593, 0.9921116952130505, 0.9913219325173285, 0.9953364753330097, 0.9936141587781694, 0.9983954808432183, 0.9926979619038376, 0.98700098760084, 0.9922951808164034, 0.9867711453581206, 0.9829637961965468, 0.9931648437440784, 0.9971356952780517, 0.9997278683853087, 0.9942433113319575, 0.9865416855700142, 0.9974320712199698, 0.9959342439165434, 0.9785494294613158, 0.9941782681898984, 0.9908044750917501, 0.9912005150362307, 0.9954557362265994, 0.9963159530616804, 0.998554130185867, 0.9988013415313783, 0.9934040436513808, 0.995222262728543, 0.9879985332937962, 0.9861863766776395, 0.9865504035032144, 0.9938144476577796, 0.9969243403425059, 0.9902130485011189, 0.9982231777575737, 0.9922891199789287, 0.9880158301336344, 0.9862616282562955, 0.9925835119961034, 0.9923071268343734, 0.9834522010962726, 0.9916236755256468, 0.9930274008368286, 0.993724316656937, 0.9949889019708731, 0.9925992417965411, 0.990383508636245, 0.9964813230757065, 0.9936556395902247, 0.9977225343956955, 0.994447472598713, 0.9846554629087292, 0.9982318926644516, 0.994398779187828, 0.9965844388351515, 0.9947581423863034, 0.9899943389959706, 0.9949086355943056, 0.9825753177200028, 0.9917162168542369, 0.9968384936942388, 0.9894784408790269, 0.9980606522269276, 0.9897777862032248, 0.989974886242873, 0.9994172624396319, 0.9938740473646932, 0.9928024535661265, 0.9901207848304442, 0.9854082237963293, 0.9849736227466839, 0.9911647622110668, 0.9893155060332025, 0.9939941749634288, 0.9957990221232503, 0.9888453638420697, 0.9891158672498374, 0.9807101067494437, 0.9856125298434293, 0.9919796449554457, 0.9953174246100454, 0.9848420461855917, 0.9953600160284432, 0.9952049855705503, 0.9931629568353946, 0.9991034310291984, 0.9870452311270369, 0.9958987698160783, 0.9900063642514786, 0.9915558328265396, 0.9862344409851521, 0.9877338235810819, 0.9900668108058108, 0.9967402721666491, 0.9993918541944695, 0.9890170410225727, 0.9891147972603858, 0.9955684333621324, 0.9990573987311203, 0.9958543666550979, 0.9780901186331781, 0.983254331071286, 0.9939716591063689, 0.9938999325605222, 0.9986959273609535, 0.9897372383462751, 0.9860186564011759, 0.9908953152491967, 0.9938388714508133, 0.9919658183975162, 0.9885991556552722, 0.9884425266066248, 0.9926695171733627, 0.996523797219842, 0.9827505377050649, 0.9916175469904591, 0.9814225249495478, 0.9902442449652527, 0.996820962166469, 0.9842081652344434, 0.9900257654409378, 0.9937587287809693, 0.9859793738986261, 0.9840287659955123, 0.99080145690277, 0.9908723876510185, 0.9938546563401608, 0.9958150713210976, 0.9811396583170758, 0.9862166801359082, 0.9912744762267676, 0.990770475315138, 0.9932940029545517, 0.9889856782884733, 0.9858017890007067, 0.9945522390291718, 0.9889836298509589, 0.9946374594390377, 0.9921192118317245, 0.9924347497930642, 0.9965656632078659, 0.9930952450011029, 0.9961956827166055, 0.9886503903715179, 0.995707484022308, 0.9931183910814345, 0.9903319975037542, 0.9964218516749651, 0.9969094812193822, 0.9951700513303792, 0.9955330100996516, 0.9975237601221272, 0.9907305530052232, 0.9982304117271676, 0.9945562975320031, 0.9955461746314646, 0.976990947233884, 0.9908851195489489, 0.9947239942503084, 0.9927970935058592, 0.9927855024118047, 0.9855789530730048, 0.9895938181517155, 0.9851489913001332, 0.998375523584328, 0.9862854205461239, 0.9964672150297182, 0.9912148007029226, 0.997903117587932, 0.9993309665531769, 0.996820293840471, 0.9963026502898997, 0.9973401805476027, 0.9959877639860227, 0.9865478833072836, 0.9924949780021092, 0.9959184867909378, 0.9979081685014708, 0.9994952990624874, 0.9992484977052234, 0.995309175531381, 0.991189603627273, 0.9994730928788144, 0.9973711727556106, 0.9978510470866802, 0.9854314798978326, 0.987915131396517, 0.990485710443811, 0.9956247057200599, 0.9869776112303519, 0.9932508545553662, 0.9940604755220692, 0.9819452424000766, 0.9884563057069701, 0.9918248309061998, 0.9830802301791868, 0.9805916207912276, 0.9961275518304563, 0.9885439133963099, 0.9807234995203521, 0.9983161764091748, 0.9955311410318737, 0.9959534802817431, 0.9969631265873616, 0.9891475948792348, 0.9822248867135962, 0.9941731904987913, 0.994489787674924, 0.9917819961961329, 0.9888514208796934, 0.9854068544862779, 0.9925813267095951, 0.9870246780649898, 0.9923171368414723, 0.9921385213471755, 0.9994675196861688, 0.9848312244833711, 0.995237291609262, 0.9992968972592206, 0.995938664412497, 0.9990275000892992, 0.9927730951106929, 0.9992389599319167, 0.9956775806176191, 0.9811535366036962, 0.9953846589120944, 0.995102743466941, 0.9869276189666272, 0.9987913385484456, 0.9893466839420091, 0.9864940472490484, 0.9991921677639348, 0.9959535775542914, 0.9987713761578334, 0.9956180226812781, 0.999659771024897, 0.993280072938746, 0.9922986043254406, 0.9986627124529851, 0.9866209952460291, 0.9890453791828817, 0.9937175795266563], \"Term\": [\"ability\", \"able\", \"absolutely\", \"access\", \"act\", \"action\", \"actor\", \"actually\", \"add\", \"adult\", \"advice\", \"affect\", \"age\", \"agree\", \"ahead\", \"air\", \"alive\", \"allow\", \"almost\", \"alone\", \"already\", \"also\", \"always\", \"amazing\", \"answer\", \"approach\", \"appropriate\", \"area\", \"art\", \"ask\", \"australian\", \"authority\", \"away\", \"baby\", \"back\", \"bad\", \"balance\", \"bank\", \"base\", \"be\", \"beat\", \"beautiful\", \"become\", \"bed\", \"begin\", \"behaviour\", \"believe\", \"best\", \"better\", \"big\", \"bit\", \"block\", \"body\", \"book\", \"border\", \"bottle\", \"boy\", \"break\", \"brilliant\", \"bring\", \"british\", \"brother\", \"budget\", \"build\", \"business\", \"buy\", \"call\", \"campaign\", \"can\", \"candidate\", \"car\", \"care\", \"carry\", \"case\", \"cash\", \"catch\", \"cause\", \"certain\", \"certainly\", \"challenge\", \"change\", \"character\", \"child\", \"choose\", \"class\", \"clear\", \"close\", \"clothe\", \"club\", \"cold\", \"come\", \"comfortable\", \"common\", \"community\", \"company\", \"completely\", \"concern\", \"condition\", \"consider\", \"contact\", \"continue\", \"control\", \"conversation\", \"cool\", \"cope\", \"could\", \"country\", \"couple\", \"course\", \"create\", \"crisis\", \"critical\", \"culture\", \"currently\", \"cut\", \"damage\", \"dance\", \"dangerous\", \"date\", \"day\", \"deal\", \"death\", \"decide\", \"decision\", \"deep\", \"definitely\", \"deliver\", \"demand\", \"die\", \"difference\", \"different\", \"difficult\", \"dinner\", \"direct\", \"disease\", \"do\", \"doctor\", \"dog\", \"doubt\", \"drive\", \"due\", \"duty\", \"early\", \"easy\", \"eat\", \"economic\", \"economy\", \"else\", \"emergency\", \"encourage\", \"end\", \"enjoy\", \"enough\", \"ensure\", \"essential\", \"even\", \"event\", \"ever\", \"evidence\", \"excite\", \"exercise\", \"expect\", \"experience\", \"expert\", \"extra\", \"extraordinary\", \"eye\", \"face\", \"fact\", \"fail\", \"fair\", \"fall\", \"family\", \"fan\", \"fantastic\", \"far\", \"favourite\", \"fear\", \"feed\", \"feel\", \"fight\", \"figure\", \"fill\", \"film\", \"find\", \"fine\", \"finish\", \"fire\", \"first\", \"fit\", \"flight\", \"flood\", \"fly\", \"focus\", \"follow\", \"food\", \"football\", \"force\", \"forget\", \"form\", \"forward\", \"free\", \"friend\", \"full\", \"fully\", \"fun\", \"future\", \"game\", \"generation\", \"get\", \"girl\", \"give\", \"go\", \"good\", \"government\", \"grant\", \"great\", \"ground\", \"group\", \"grow\", \"growth\", \"guess\", \"guy\", \"half\", \"hand\", \"handle\", \"hang\", \"happen\", \"happy\", \"hard\", \"have\", \"head\", \"health\", \"hear\", \"heart\", \"hell\", \"help\", \"hide\", \"high\", \"history\", \"hit\", \"hold\", \"home\", \"hope\", \"hopefully\", \"hospital\", \"hour\", \"house\", \"huge\", \"human\", \"idea\", \"ill\", \"imagine\", \"impact\", \"important\", \"improve\", \"include\", \"increase\", \"incredible\", \"incredibly\", \"industry\", \"infection\", \"information\", \"interest\", \"international\", \"investment\", \"involve\", \"issue\", \"job\", \"keep\", \"key\", \"kid\", \"kill\", \"kind\", \"know\", \"large\", \"last\", \"later\", \"laugh\", \"lead\", \"leader\", \"learn\", \"least\", \"leave\", \"leg\", \"less\", \"lesson\", \"let\", \"level\", \"life\", \"light\", \"like\", \"likely\", \"line\", \"listen\", \"little\", \"little_bit\", \"live\", \"long\", \"longer\", \"look\", \"lose\", \"lot\", \"love\", \"lovely\", \"low\", \"major\", \"make\", \"make_sure\", \"man\", \"manage\", \"many\", \"market\", \"massive\", \"mate\", \"matter\", \"may\", \"maybe\", \"mean\", \"measure\", \"medical\", \"medium\", \"meet\", \"member\", \"memory\", \"mind\", \"minister\", \"minute\", \"miss\", \"moment\", \"money\", \"month\", \"morning\", \"move\", \"movie\", \"much\", \"must\", \"name\", \"nation\", \"national\", \"natural\", \"nature\", \"nee\", \"need\", \"never\", \"new\", \"next\", \"nhs\", \"nice\", \"night\", \"normal\", \"number\", \"obviously\", \"offer\", \"often\", \"old\", \"one\", \"open\", \"opportunity\", \"option\", \"order\", \"other\", \"parent\", \"part\", \"particular\", \"partner\", \"party\", \"pass\", \"past\", \"patient\", \"pay\", \"people\", \"perfect\", \"perhaps\", \"period\", \"person\", \"personal\", \"phone\", \"pick\", \"picture\", \"place\", \"plan\", \"play\", \"player\", \"point\", \"police\", \"policy\", \"politic\", \"political\", \"poor\", \"position\", \"positive\", \"possible\", \"post\", \"potential\", \"potentially\", \"power\", \"prepare\", \"president\", \"pressure\", \"pretty\", \"probably\", \"problem\", \"process\", \"program\", \"protect\", \"proud\", \"provide\", \"public\", \"pull\", \"put\", \"question\", \"quickly\", \"quite\", \"raise\", \"range\", \"rate\", \"rather\", \"read\", \"ready\", \"real\", \"realise\", \"reality\", \"really\", \"reason\", \"receive\", \"record\", \"recover\", \"recovery\", \"reduce\", \"relationship\", \"remain\", \"remember\", \"report\", \"require\", \"resource\", \"respect\", \"response\", \"responsibility\", \"responsible\", \"rest\", \"result\", \"return\", \"right\", \"rise\", \"risk\", \"role\", \"room\", \"route\", \"royal\", \"rule\", \"run\", \"s\", \"sad\", \"safe\", \"save\", \"say\", \"school\", \"score\", \"search\", \"season\", \"second\", \"see\", \"seem\", \"self\", \"sell\", \"send\", \"sense\", \"serious\", \"seriously\", \"service\", \"set\", \"shape\", \"share\", \"shop\", \"short\", \"show\", \"sick\", \"side\", \"sign\", \"significant\", \"similar\", \"simple\", \"simply\", \"sit\", \"situation\", \"skill\", \"sleep\", \"slow\", \"small\", \"social\", \"society\", \"solution\", \"sometimes\", \"soon\", \"sort\", \"sound\", \"space\", \"speak\", \"special\", \"spend\", \"sport\", \"spread\", \"staff\", \"stage\", \"stand\", \"start\", \"state\", \"stay\", \"step\", \"stick\", \"still\", \"stop\", \"story\", \"strength\", \"strike\", \"strong\", \"struggle\", \"stuff\", \"suffer\", \"suggest\", \"supply\", \"support\", \"suppose\", \"sure\", \"symptom\", \"system\", \"take\", \"talk\", \"team\", \"tell\", \"term\", \"terrible\", \"test\", \"thank\", \"there\", \"thing\", \"think\", \"thought\", \"throw\", \"time\", \"today\", \"together\", \"tonight\", \"top\", \"totally\", \"touch\", \"tough\", \"tour\", \"town\", \"transmission\", \"travel\", \"treat\", \"treatment\", \"trip\", \"true\", \"trust\", \"truth\", \"try\", \"turn\", \"understand\", \"use\", \"victim\", \"video\", \"violence\", \"virus\", \"visit\", \"voice\", \"vote\", \"vulnerable\", \"wait\", \"wake\", \"walk\", \"want\", \"war\", \"watch\", \"way\", \"wear\", \"week\", \"weekend\", \"well\", \"whole\", \"wife\", \"will\", \"win\", \"wish\", \"woman\", \"wonderful\", \"word\", \"work\", \"worker\", \"world\", \"worry\", \"would\", \"write\", \"wrong\", \"year\", \"yesterday\", \"yet\", \"young\"]}, \"R\": 30, \"lambda.step\": 0.01, \"plot.opts\": {\"xlab\": \"PC1\", \"ylab\": \"PC2\"}, \"topic.order\": [8, 12, 17, 6, 11, 15, 20, 19, 13, 10, 1, 2, 7, 16, 4, 5, 14, 3, 18, 9]};\n",
              "\n",
              "function LDAvis_load_lib(url, callback){\n",
              "  var s = document.createElement('script');\n",
              "  s.src = url;\n",
              "  s.async = true;\n",
              "  s.onreadystatechange = s.onload = callback;\n",
              "  s.onerror = function(){console.warn(\"failed to load library \" + url);};\n",
              "  document.getElementsByTagName(\"head\")[0].appendChild(s);\n",
              "}\n",
              "\n",
              "if(typeof(LDAvis) !== \"undefined\"){\n",
              "   // already loaded: just create the visualization\n",
              "   !function(LDAvis){\n",
              "       new LDAvis(\"#\" + \"ldavis_el6161397877558180649856149711\", ldavis_el6161397877558180649856149711_data);\n",
              "   }(LDAvis);\n",
              "}else if(typeof define === \"function\" && define.amd){\n",
              "   // require.js is available: use it to load d3/LDAvis\n",
              "   require.config({paths: {d3: \"https://d3js.org/d3.v5\"}});\n",
              "   require([\"d3\"], function(d3){\n",
              "      window.d3 = d3;\n",
              "      LDAvis_load_lib(\"https://cdn.jsdelivr.net/gh/bmabey/pyLDAvis@3.3.1/pyLDAvis/js/ldavis.v3.0.0.js\", function(){\n",
              "        new LDAvis(\"#\" + \"ldavis_el6161397877558180649856149711\", ldavis_el6161397877558180649856149711_data);\n",
              "      });\n",
              "    });\n",
              "}else{\n",
              "    // require.js not available: dynamically load d3 & LDAvis\n",
              "    LDAvis_load_lib(\"https://d3js.org/d3.v5.js\", function(){\n",
              "         LDAvis_load_lib(\"https://cdn.jsdelivr.net/gh/bmabey/pyLDAvis@3.3.1/pyLDAvis/js/ldavis.v3.0.0.js\", function(){\n",
              "                 new LDAvis(\"#\" + \"ldavis_el6161397877558180649856149711\", ldavis_el6161397877558180649856149711_data);\n",
              "            })\n",
              "         });\n",
              "}\n",
              "</script>"
            ],
            "text/plain": [
              "PreparedData(topic_coordinates=              x         y  topics  cluster      Freq\n",
              "topic                                               \n",
              "7     -0.442873 -0.058982       1        1  9.470854\n",
              "11    -0.032779  0.426489       2        1  6.409726\n",
              "16    -0.014252  0.027197       3        1  5.967595\n",
              "5      0.023833 -0.025592       4        1  5.140472\n",
              "10     0.025846 -0.021439       5        1  5.027358\n",
              "14     0.015508 -0.018271       6        1  5.014985\n",
              "19     0.022342 -0.018300       7        1  4.967827\n",
              "18     0.024439 -0.023249       8        1  4.930100\n",
              "12     0.027760 -0.019070       9        1  4.913495\n",
              "9      0.024468 -0.017726      10        1  4.781028\n",
              "0      0.028525 -0.022549      11        1  4.732669\n",
              "1      0.018310 -0.024087      12        1  4.685422\n",
              "6      0.023068 -0.019228      13        1  4.637868\n",
              "15     0.028201 -0.023545      14        1  4.529699\n",
              "3      0.037275 -0.027059      15        1  4.316752\n",
              "4      0.032659 -0.022123      16        1  4.310674\n",
              "13     0.037501 -0.026851      17        1  4.190916\n",
              "2      0.038139 -0.027302      18        1  4.114322\n",
              "17     0.038377 -0.028484      19        1  3.950465\n",
              "8      0.043652 -0.029830      20        1  3.907773, topic_info=               Term         Freq        Total Category  logprob  loglift\n",
              "105           would  1994.000000  1994.000000  Default  30.0000  30.0000\n",
              "55           people  1961.000000  1961.000000  Default  29.0000  29.0000\n",
              "37               be  2479.000000  2479.000000  Default  28.0000  28.0000\n",
              "41               go  2383.000000  2383.000000  Default  27.0000  27.0000\n",
              "200             get  1880.000000  1880.000000  Default  26.0000  26.0000\n",
              "...             ...          ...          ...      ...      ...      ...\n",
              "1213  international    64.978709    65.874912  Topic20  -4.8462   3.2285\n",
              "2109         nature    64.554006    65.450209  Topic20  -4.8528   3.2284\n",
              "523         culture    62.445987    63.342189  Topic20  -4.8860   3.2280\n",
              "1681           self    61.982932    62.879135  Topic20  -4.8934   3.2278\n",
              "1985     particular    60.552498    61.448701  Topic20  -4.9168   3.2275\n",
              "\n",
              "[630 rows x 6 columns], token_table=      Topic      Freq        Term\n",
              "term                             \n",
              "1112     19  0.985834     ability\n",
              "106      11  0.997612        able\n",
              "868      13  0.994550  absolutely\n",
              "490      18  0.986903      access\n",
              "446      14  0.997639         act\n",
              "...     ...       ...         ...\n",
              "910       1  0.992299       wrong\n",
              "29        5  0.998663        year\n",
              "3384      6  0.986621   yesterday\n",
              "1502     11  0.989045         yet\n",
              "376      18  0.993718       young\n",
              "\n",
              "[600 rows x 3 columns], R=30, lambda_step=0.01, plot_opts={'xlab': 'PC1', 'ylab': 'PC2'}, topic_order=[8, 12, 17, 6, 11, 15, 20, 19, 13, 10, 1, 2, 7, 16, 4, 5, 14, 3, 18, 9])"
            ]
          },
          "metadata": {},
          "execution_count": 30
        }
      ]
    },
    {
      "cell_type": "code",
      "metadata": {
        "id": "V6fVMWDuGHIH"
      },
      "source": [
        "# Download File: http://mallet.cs.umass.edu/dist/mallet-2.0.8.zip\n",
        "mallet_path = 'C:/mallet-2.0.8/bin/mallet.bat' # update this path\n",
        "ldamallet = gensim.models.wrappers.LdaMallet(mallet_path, corpus=corpus, num_topics=20, id2word=id2word)"
      ],
      "execution_count": null,
      "outputs": []
    },
    {
      "cell_type": "code",
      "metadata": {
        "id": "kisJi2hhLEX4"
      },
      "source": [
        "def compute_coherence_values(dictionary, corpus, texts, limit, start=2, step=3):\n",
        "    \"\"\"\n",
        "    Compute c_v coherence for various number of topics\n",
        "\n",
        "    Parameters:\n",
        "    ----------\n",
        "    dictionary : Gensim dictionary\n",
        "    corpus : Gensim corpus\n",
        "    texts : List of input texts\n",
        "    limit : Max num of topics\n",
        "\n",
        "    Returns:\n",
        "    -------\n",
        "    model_list : List of LDA topic models\n",
        "    coherence_values : Coherence values corresponding to the LDA model with respective number of topics\n",
        "    \"\"\"\n",
        "    coherence_values = []\n",
        "    model_list = []\n",
        "    for num_topics in range(start, limit, step):\n",
        "      model = gensim.models.ldamodel.LdaModel(corpus=corpus,\n",
        "                                           id2word=id2word,\n",
        "                                           num_topics=num_topics, \n",
        "                                           random_state=100,\n",
        "                                           update_every=1,\n",
        "                                           chunksize=100,\n",
        "                                           passes=10,\n",
        "                                           alpha='auto',\n",
        "                                           per_word_topics=True)\n",
        "      #model2 = gensim.models.wrappers.LdaMallet(mallet_path, corpus=corpus, num_topics=num_topics, id2word=id2word)\n",
        "      model_list.append(model)\n",
        "      coherencemodel = CoherenceModel(model=model, texts=texts, dictionary=dictionary, coherence='c_v')\n",
        "      coherence_values.append(coherencemodel.get_coherence())\n",
        "\n",
        "    return model_list, coherence_values"
      ],
      "execution_count": 40,
      "outputs": []
    },
    {
      "cell_type": "code",
      "metadata": {
        "id": "eRdB0BhxMXES"
      },
      "source": [
        "# Can take a long time to run.\n",
        "model_list, coherence_values = compute_coherence_values(dictionary=id2word, corpus=corpus, texts=data_lemmatized, start=2, limit=40, step=6)"
      ],
      "execution_count": 41,
      "outputs": []
    },
    {
      "cell_type": "code",
      "metadata": {
        "colab": {
          "base_uri": "https://localhost:8080/",
          "height": 279
        },
        "id": "Zz3WMtz9MaDX",
        "outputId": "7c2ca52a-c319-4991-d43f-36346c110063"
      },
      "source": [
        "# Show graph\n",
        "limit=40; start=2; step=6;\n",
        "x = range(start, limit, step)\n",
        "plt.plot(x, coherence_values)\n",
        "plt.xlabel(\"Num Topics\")\n",
        "plt.ylabel(\"Coherence score\")\n",
        "plt.legend((\"coherence_values\"), loc='best')\n",
        "plt.show()"
      ],
      "execution_count": 42,
      "outputs": [
        {
          "output_type": "display_data",
          "data": {
            "image/png": "[encoded data removed]",
            "text/plain": [
              "<Figure size 432x288 with 1 Axes>"
            ]
          },
          "metadata": {
            "needs_background": "light"
          }
        }
      ]
    },
    {
      "cell_type": "code",
      "metadata": {
        "colab": {
          "base_uri": "https://localhost:8080/"
        },
        "id": "YTTr0Sh2OV55",
        "outputId": "b9797936-b2fd-4beb-ecad-0c73325fdc8d"
      },
      "source": [
        "# Print the coherence scores\n",
        "for m, cv in zip(x, coherence_values):\n",
        "    print(\"Num Topics =\", m, \" has Coherence Value of\", round(cv, 4))"
      ],
      "execution_count": 43,
      "outputs": [
        {
          "output_type": "stream",
          "name": "stdout",
          "text": [
            "Num Topics = 2  has Coherence Value of 0.3127\n",
            "Num Topics = 8  has Coherence Value of 0.2966\n",
            "Num Topics = 14  has Coherence Value of 0.2568\n",
            "Num Topics = 20  has Coherence Value of 0.3136\n",
            "Num Topics = 26  has Coherence Value of 0.3683\n",
            "Num Topics = 32  has Coherence Value of 0.402\n",
            "Num Topics = 38  has Coherence Value of 0.439\n"
          ]
        }
      ]
    },
    {
      "cell_type": "code",
      "metadata": {
        "id": "J-3kSTKFOY1j"
      },
      "source": [
        "# Select the model and print the topics\n",
        "optimal_model = gensim.models.ldamodel.LdaModel(corpus=corpus,\n",
        "                                           id2word=id2word,\n",
        "                                           num_topics=5, \n",
        "                                           random_state=100,\n",
        "                                           update_every=1,\n",
        "                                           chunksize=100,\n",
        "                                           passes=10,\n",
        "                                           alpha='auto',\n",
        "                                           per_word_topics=True)\n",
        "model_topics = optimal_model.show_topics(formatted=False)"
      ],
      "execution_count": 79,
      "outputs": []
    },
    {
      "cell_type": "code",
      "metadata": {
        "colab": {
          "base_uri": "https://localhost:8080/"
        },
        "id": "wQ9kq_ncZaEZ",
        "outputId": "60f0101a-5194-4d22-97c7-d1b310c36ad7"
      },
      "source": [
        "coherencemodel = CoherenceModel(model=optimal_model, texts=texts, dictionary=id2word, coherence='c_v')\n",
        "coherencemodel.get_coherence()"
      ],
      "execution_count": 80,
      "outputs": [
        {
          "output_type": "execute_result",
          "data": {
            "text/plain": [
              "0.3294981370989468"
            ]
          },
          "metadata": {},
          "execution_count": 80
        }
      ]
    },
    {
      "cell_type": "code",
      "metadata": {
        "colab": {
          "base_uri": "https://localhost:8080/",
          "height": 915
        },
        "id": "6duznfjjRxyR",
        "outputId": "1c44af39-4252-48c5-a6e4-eaef0ad292e0"
      },
      "source": [
        "vis = pyLDAvis.gensim_models.prepare(optimal_model, corpus, id2word)\n",
        "vis"
      ],
      "execution_count": 81,
      "outputs": [
        {
          "output_type": "stream",
          "name": "stderr",
          "text": [
            "/usr/local/lib/python3.7/dist-packages/pyLDAvis/_prepare.py:247: FutureWarning: In a future version of pandas all arguments of DataFrame.drop except for the argument 'labels' will be keyword-only\n",
            "  by='saliency', ascending=False).head(R).drop('saliency', 1)\n"
          ]
        },
        {
          "output_type": "execute_result",
          "data": {
            "text/html": [
              "\n",
              "<link rel=\"stylesheet\" type=\"text/css\" href=\"https://cdn.jsdelivr.net/gh/bmabey/pyLDAvis@3.3.1/pyLDAvis/js/ldavis.v1.0.0.css\">\n",
              "\n",
              "\n",
              "<div id=\"ldavis_el6161397877180119846289820840\"></div>\n",
              "<script type=\"text/javascript\">\n",
              "\n",
              "var ldavis_el6161397877180119846289820840_data = {\"mdsDat\": {\"x\": [0.22339407851425933, -0.3399923381200512, 0.04915370075729, 0.037701157933449664, 0.029743400915052013], \"y\": [-0.2816112134186591, -0.13348661633981354, 0.2139759089900421, 0.12894248963352087, 0.07217943113490971], \"topics\": [1, 2, 3, 4, 5], \"cluster\": [1, 1, 1, 1, 1], \"Freq\": [23.50510425252792, 22.93617893856929, 19.692459721683292, 17.9008120719792, 15.965445015240299]}, \"tinfo\": {\"Term\": [\"be\", \"go\", \"people\", \"s\", \"would\", \"get\", \"think\", \"know\", \"want\", \"have\", \"take\", \"make\", \"say\", \"time\", \"thing\", \"really\", \"come\", \"could\", \"work\", \"see\", \"way\", \"good\", \"need\", \"year\", \"look\", \"feel\", \"life\", \"love\", \"back\", \"day\", \"would\", \"time\", \"look\", \"day\", \"well\", \"also\", \"can\", \"give\", \"happen\", \"always\", \"may\", \"first\", \"tell\", \"keep\", \"put\", \"new\", \"country\", \"end\", \"long\", \"let\", \"week\", \"believe\", \"become\", \"last\", \"away\", \"little\", \"able\", \"decision\", \"learn\", \"leave\", \"be\", \"go\", \"s\", \"get\", \"think\", \"want\", \"say\", \"feel\", \"love\", \"back\", \"much\", \"play\", \"family\", \"world\", \"woman\", \"next\", \"man\", \"bit\", \"game\", \"player\", \"care\", \"moment\", \"hard\", \"call\", \"job\", \"system\", \"meet\", \"hope\", \"business\", \"lose\", \"know\", \"make\", \"really\", \"come\", \"see\", \"good\", \"need\", \"year\", \"still\", \"big\", \"case\", \"start\", \"home\", \"child\", \"ask\", \"important\", \"together\", \"bad\", \"place\", \"problem\", \"continue\", \"old\", \"will\", \"issue\", \"hear\", \"state\", \"remember\", \"story\", \"far\", \"money\", \"people\", \"have\", \"thing\", \"work\", \"way\", \"life\", \"never\", \"try\", \"many\", \"right\", \"lot\", \"great\", \"find\", \"mean\", \"ever\", \"use\", \"do\", \"part\", \"move\", \"bring\", \"stay\", \"virus\", \"stop\", \"already\", \"turn\", \"point\", \"early\", \"economy\", \"challenge\", \"read\", \"young\", \"take\", \"could\", \"even\", \"support\", \"help\", \"government\", \"show\", \"change\", \"talk\", \"live\", \"friend\", \"number\", \"real\", \"team\", \"person\", \"close\", \"possible\", \"win\", \"night\", \"face\", \"risk\", \"clear\", \"health\", \"step\", \"enough\", \"happy\", \"high\", \"plan\", \"grow\", \"sort\"], \"Freq\": [2485.0, 2388.0, 1964.0, 2174.0, 2065.0, 1894.0, 1745.0, 1567.0, 1538.0, 1283.0, 1183.0, 1308.0, 1395.0, 1417.0, 1108.0, 1169.0, 1165.0, 966.0, 1019.0, 1028.0, 869.0, 908.0, 871.0, 829.0, 927.0, 892.0, 717.0, 831.0, 792.0, 745.0, 2064.4397972137476, 1416.4835797532703, 927.1043076320384, 745.1316446793905, 721.313979059707, 638.3277521363331, 626.9861565985209, 601.5980328322838, 600.6119742957035, 599.2877644312217, 591.3557996869488, 544.2118996034316, 490.91614674549373, 489.21311474956303, 483.5939197997367, 475.7787793909387, 467.80744086191015, 464.60829768946456, 416.64834117531194, 408.28868448439334, 399.4045226584299, 339.7020296724034, 331.8817938326371, 326.1684028930453, 318.2488293104455, 310.0992201806733, 309.11823391401145, 296.16951628772335, 281.9063164378931, 262.17231448466555, 2484.6738208246325, 2388.1326446047583, 2173.5480411871677, 1893.930365506412, 1744.8035420487633, 1537.336996236294, 1394.7493876033357, 892.2146834050167, 831.1211411567874, 791.2496946815659, 668.0366852602715, 521.3735822922514, 458.16635535727187, 439.5936201878418, 378.9825523920819, 369.1176358328136, 360.8529442879304, 347.3176916992693, 330.7997670387423, 324.4123820515867, 320.8188649590471, 314.5996499363296, 315.04327421155546, 272.3015929139075, 264.26738078003626, 249.6405037521432, 248.7157610515769, 241.05172172344837, 225.47926437810798, 221.74241521804169, 1566.887998661609, 1307.4012064662552, 1168.39773200511, 1164.5995514199178, 1027.65067261159, 907.9876873716063, 870.3683522120921, 828.5761799294331, 570.0126789806544, 467.92416675962795, 456.9323012250795, 449.71882397881444, 435.07780221226847, 407.2652397035793, 383.417035457264, 357.92199568287447, 355.5544876967742, 344.27051114490956, 317.740081987434, 274.21794652968464, 269.0662444949194, 270.5864481312036, 264.8830649264292, 266.09183094959235, 256.6238170433074, 226.3823516196759, 222.46997724300618, 214.35059492470538, 214.21327131174223, 205.07340204567484, 1963.918415079334, 1282.5477567585558, 1107.4617392920766, 1018.2993485146894, 868.628993189682, 716.5213098446727, 609.4772075208003, 601.9793106128369, 592.4756010465834, 537.618328749475, 525.6783847682076, 499.4332761597177, 392.9409857462357, 384.3486724659389, 383.56272325537844, 317.42029414416515, 309.8413999119301, 310.82733772497124, 306.99382891111196, 275.0281431656199, 254.63413874108548, 240.60380410286024, 222.6646430169256, 216.97251724840123, 217.79838304102324, 207.08438789008, 187.08014781102233, 176.5766010651062, 162.91366478647436, 152.69242687657012, 229.06336107922075, 1183.2114881132802, 965.5935980371036, 549.7534947755584, 541.855966551608, 432.87268223920387, 418.4279764455325, 396.1447679609583, 370.8881325173624, 350.83455376300185, 330.24722813091296, 284.3039682373721, 280.5477607683878, 260.07721193049184, 256.7646555962287, 250.81023470553174, 235.29300099580252, 231.43953983670633, 228.87373830060434, 221.8180633149197, 218.58286000464236, 207.67265410073378, 205.8745620562949, 200.05106080472953, 201.25589275408424, 198.9241639541801, 198.73904842982768, 193.25857802796955, 184.1917873456614, 182.26546579166214, 182.83986351624415], \"Total\": [2485.0, 2388.0, 1964.0, 2174.0, 2065.0, 1894.0, 1745.0, 1567.0, 1538.0, 1283.0, 1183.0, 1308.0, 1395.0, 1417.0, 1108.0, 1169.0, 1165.0, 966.0, 1019.0, 1028.0, 869.0, 908.0, 871.0, 829.0, 927.0, 892.0, 717.0, 831.0, 792.0, 745.0, 2065.2170780772594, 1417.2595411515997, 927.8819856803852, 745.9072525815312, 722.0936941732311, 639.1087739351248, 627.7608546938953, 602.3746980470227, 601.3899068661732, 600.0650491350742, 592.1348522890606, 544.9927974669569, 491.6898418184204, 489.9899443500944, 484.37333790902835, 476.5590807310292, 468.584637625499, 465.3863059897223, 417.42987266536204, 409.0706807787026, 400.1812984686684, 340.4820702460371, 332.6612940136281, 326.94513138885316, 319.0290294697125, 310.87540428888127, 309.8951139782624, 296.94861430668846, 282.6989496859822, 262.94783966370073, 2485.449032244102, 2388.9063238185745, 2174.324928125198, 1894.7059070173887, 1745.5796375623472, 1538.1151889828427, 1395.5238552435685, 892.9906477054371, 831.899217610493, 792.026874583465, 668.8122677734112, 522.1480408107429, 458.94613443863415, 440.37185877464077, 379.76139400150106, 369.89797833231756, 361.6358478899416, 348.1016787282757, 331.5749384325339, 325.18911614422, 321.60141557215564, 315.3765645589709, 315.82290759472147, 273.0766048796324, 265.04429288679205, 250.41937308213625, 249.49666032398355, 241.83042417976614, 226.26025858561326, 222.51921830074943, 1567.6644976574971, 1308.175716445854, 1169.1725660265856, 1165.373717434697, 1028.4213658710648, 908.7599523703933, 871.1392835066714, 829.3490943353135, 570.7876103140394, 468.69823840514755, 457.71279678271617, 450.4928674321195, 435.85164824679924, 408.0408069543685, 384.19447270564257, 358.6957807063861, 356.33031278063817, 345.0483992031354, 318.51281526425885, 274.9931833884379, 269.8364492305464, 271.3615162508992, 265.65549648777994, 266.87098277499183, 257.40132032930956, 227.16612229090876, 223.2489664670399, 215.12554694529044, 214.98815541854472, 205.8464447131426, 1964.694683893429, 1283.3253164641403, 1108.2392523562467, 1019.0749216560191, 869.4100650647134, 717.3005736595333, 610.2547433911436, 602.7570279201003, 593.2537204465015, 538.3966351151798, 526.4536895056319, 500.21016059908015, 393.71692693655433, 385.12571325028506, 384.3409797604631, 318.19984775366356, 310.6155232866867, 311.6053772754298, 307.77292747845746, 275.80543219960464, 255.41141514500927, 241.37984188061517, 223.43827130314614, 217.75112209599956, 218.58256709900797, 207.8584454243967, 187.8554408880469, 177.36390748782372, 163.69201089172148, 153.47629416802977, 230.94194415312865, 1183.9883271366286, 966.3681781342385, 550.5294865209465, 542.6324305856109, 433.6456578554921, 419.20262842738595, 396.91747644211887, 371.6618904587917, 351.61390348061803, 331.019908933625, 285.07969761997447, 281.3238651163037, 260.85567742374093, 257.53781167050175, 251.5826957781966, 236.07235573620503, 232.21294081215942, 229.64765405697915, 222.59321010722172, 219.35607431864065, 208.44277485401622, 206.64993520160724, 200.8247325883989, 202.03437699495217, 199.7016921216655, 199.5174883210446, 194.0306829886698, 184.9635111969605, 183.04143311585102, 183.6221520124791], \"Category\": [\"Default\", \"Default\", \"Default\", \"Default\", \"Default\", \"Default\", \"Default\", \"Default\", \"Default\", \"Default\", \"Default\", \"Default\", \"Default\", \"Default\", \"Default\", \"Default\", \"Default\", \"Default\", \"Default\", \"Default\", \"Default\", \"Default\", \"Default\", \"Default\", \"Default\", \"Default\", \"Default\", \"Default\", \"Default\", \"Default\", \"Topic1\", \"Topic1\", \"Topic1\", \"Topic1\", \"Topic1\", \"Topic1\", \"Topic1\", \"Topic1\", \"Topic1\", \"Topic1\", \"Topic1\", \"Topic1\", \"Topic1\", \"Topic1\", \"Topic1\", \"Topic1\", \"Topic1\", \"Topic1\", \"Topic1\", \"Topic1\", \"Topic1\", \"Topic1\", \"Topic1\", \"Topic1\", \"Topic1\", \"Topic1\", \"Topic1\", \"Topic1\", \"Topic1\", \"Topic1\", \"Topic2\", \"Topic2\", \"Topic2\", \"Topic2\", \"Topic2\", \"Topic2\", \"Topic2\", \"Topic2\", \"Topic2\", \"Topic2\", \"Topic2\", \"Topic2\", \"Topic2\", \"Topic2\", \"Topic2\", \"Topic2\", \"Topic2\", \"Topic2\", \"Topic2\", \"Topic2\", \"Topic2\", \"Topic2\", \"Topic2\", \"Topic2\", \"Topic2\", \"Topic2\", \"Topic2\", \"Topic2\", \"Topic2\", \"Topic2\", \"Topic3\", \"Topic3\", \"Topic3\", \"Topic3\", \"Topic3\", \"Topic3\", \"Topic3\", \"Topic3\", \"Topic3\", \"Topic3\", \"Topic3\", \"Topic3\", \"Topic3\", \"Topic3\", \"Topic3\", \"Topic3\", \"Topic3\", \"Topic3\", \"Topic3\", \"Topic3\", \"Topic3\", \"Topic3\", \"Topic3\", \"Topic3\", \"Topic3\", \"Topic3\", \"Topic3\", \"Topic3\", \"Topic3\", \"Topic3\", \"Topic4\", \"Topic4\", \"Topic4\", \"Topic4\", \"Topic4\", \"Topic4\", \"Topic4\", \"Topic4\", \"Topic4\", \"Topic4\", \"Topic4\", \"Topic4\", \"Topic4\", \"Topic4\", \"Topic4\", \"Topic4\", \"Topic4\", \"Topic4\", \"Topic4\", \"Topic4\", \"Topic4\", \"Topic4\", \"Topic4\", \"Topic4\", \"Topic4\", \"Topic4\", \"Topic4\", \"Topic4\", \"Topic4\", \"Topic4\", \"Topic4\", \"Topic5\", \"Topic5\", \"Topic5\", \"Topic5\", \"Topic5\", \"Topic5\", \"Topic5\", \"Topic5\", \"Topic5\", \"Topic5\", \"Topic5\", \"Topic5\", \"Topic5\", \"Topic5\", \"Topic5\", \"Topic5\", \"Topic5\", \"Topic5\", \"Topic5\", \"Topic5\", \"Topic5\", \"Topic5\", \"Topic5\", \"Topic5\", \"Topic5\", \"Topic5\", \"Topic5\", \"Topic5\", \"Topic5\", \"Topic5\"], \"logprob\": [30.0, 29.0, 28.0, 27.0, 26.0, 25.0, 24.0, 23.0, 22.0, 21.0, 20.0, 19.0, 18.0, 17.0, 16.0, 15.0, 14.0, 13.0, 12.0, 11.0, 10.0, 9.0, 8.0, 7.0, 6.0, 5.0, 4.0, 3.0, 2.0, 1.0, -3.1819, -3.5586, -3.9825, -4.201, -4.2334, -4.3557, -4.3736, -4.4149, -4.4166, -4.4188, -4.4321, -4.5152, -4.6183, -4.6217, -4.6333, -4.6496, -4.6665, -4.6733, -4.7823, -4.8025, -4.8245, -4.9865, -5.0097, -5.0271, -5.0517, -5.0776, -5.0808, -5.1236, -5.1729, -5.2455, -2.9721, -3.0118, -3.1059, -3.2436, -3.3256, -3.4522, -3.5496, -3.9963, -4.0672, -4.1164, -4.2857, -4.5336, -4.6628, -4.7042, -4.8525, -4.8789, -4.9016, -4.9398, -4.9885, -5.008, -5.0191, -5.0387, -5.0373, -5.1831, -5.2131, -5.27, -5.2737, -5.305, -5.3718, -5.3885, -3.2807, -3.4617, -3.5742, -3.5774, -3.7025, -3.8263, -3.8686, -3.9178, -4.2919, -4.4892, -4.513, -4.5289, -4.562, -4.6281, -4.6884, -4.7572, -4.7639, -4.7961, -4.8763, -5.0236, -5.0426, -5.037, -5.0583, -5.0537, -5.0899, -5.2153, -5.2328, -5.2699, -5.2706, -5.3142, -2.9595, -3.3855, -3.5323, -3.6163, -3.7752, -3.9677, -4.1296, -4.1419, -4.1578, -4.255, -4.2775, -4.3287, -4.5685, -4.5906, -4.5926, -4.7819, -4.8061, -4.8029, -4.8153, -4.9253, -5.0023, -5.059, -5.1365, -5.1624, -5.1586, -5.209, -5.3106, -5.3684, -5.4489, -5.5137, -5.1082, -3.3517, -3.555, -4.1183, -4.1327, -4.3573, -4.3912, -4.446, -4.5118, -4.5674, -4.6279, -4.7777, -4.791, -4.8668, -4.8796, -4.903, -4.9669, -4.9834, -4.9946, -5.0259, -5.0406, -5.0918, -5.1005, -5.1292, -5.1232, -5.1348, -5.1357, -5.1637, -5.2118, -5.2223, -5.2191], \"loglift\": [30.0, 29.0, 28.0, 27.0, 26.0, 25.0, 24.0, 23.0, 22.0, 21.0, 20.0, 19.0, 18.0, 17.0, 16.0, 15.0, 14.0, 13.0, 12.0, 11.0, 10.0, 9.0, 8.0, 7.0, 6.0, 5.0, 4.0, 3.0, 2.0, 1.0, 1.4476, 1.4474, 1.4471, 1.4469, 1.4469, 1.4467, 1.4467, 1.4467, 1.4467, 1.4467, 1.4466, 1.4465, 1.4464, 1.4464, 1.4463, 1.4463, 1.4463, 1.4463, 1.4461, 1.446, 1.446, 1.4457, 1.4456, 1.4456, 1.4455, 1.4455, 1.4454, 1.4453, 1.4451, 1.445, 1.4721, 1.4721, 1.4721, 1.472, 1.472, 1.4719, 1.4719, 1.4716, 1.4715, 1.4715, 1.4713, 1.471, 1.4708, 1.4707, 1.4704, 1.4703, 1.4703, 1.4702, 1.4701, 1.4701, 1.47, 1.47, 1.47, 1.4696, 1.4695, 1.4693, 1.4693, 1.4692, 1.469, 1.469, 1.6244, 1.6243, 1.6243, 1.6243, 1.6242, 1.6241, 1.624, 1.624, 1.6236, 1.6233, 1.6232, 1.6232, 1.6232, 1.623, 1.6229, 1.6228, 1.6228, 1.6227, 1.6225, 1.6221, 1.6221, 1.6221, 1.622, 1.622, 1.6219, 1.6215, 1.6214, 1.6213, 1.6213, 1.6212, 1.7199, 1.7197, 1.7196, 1.7196, 1.7194, 1.7192, 1.719, 1.719, 1.719, 1.7189, 1.7189, 1.7188, 1.7184, 1.7183, 1.7183, 1.7179, 1.7178, 1.7178, 1.7178, 1.7175, 1.7173, 1.7171, 1.7169, 1.7167, 1.7167, 1.7166, 1.7162, 1.7159, 1.7156, 1.7152, 1.7122, 1.8341, 1.8339, 1.8333, 1.8333, 1.833, 1.8329, 1.8328, 1.8327, 1.8325, 1.8324, 1.832, 1.832, 1.8318, 1.8317, 1.8317, 1.8314, 1.8314, 1.8314, 1.8313, 1.8312, 1.831, 1.831, 1.8309, 1.8309, 1.8308, 1.8308, 1.8308, 1.8306, 1.8305, 1.8305]}, \"token.table\": {\"Topic\": [1, 4, 1, 1, 3, 1, 2, 3, 2, 1, 1, 3, 2, 4, 2, 2, 1, 2, 3, 4, 5, 3, 5, 5, 3, 3, 5, 1, 1, 1, 4, 4, 4, 1, 5, 5, 4, 5, 2, 3, 2, 4, 1, 5, 2, 2, 1, 2, 3, 5, 4, 5, 1, 5, 2, 4, 5, 3, 5, 5, 3, 2, 3, 3, 2, 1, 3, 1, 1, 1, 1, 4, 1, 5, 1, 1, 2, 4, 2, 3, 2, 4, 1, 4, 2, 2, 3, 4, 2, 3, 4, 1, 2, 5, 5, 3, 4, 4, 5, 3, 5, 2, 2, 4, 5, 3, 1, 4, 5, 3, 3, 4, 5, 2, 2, 3, 5, 5, 3, 3, 4, 5, 3, 4, 3, 5, 2, 5, 5, 5, 1, 4, 2, 1, 3, 4, 4, 4, 4, 2, 4, 1, 1, 3, 5, 2, 4, 2, 1, 3, 1, 4], \"Freq\": [0.9971115582728253, 0.9965505477594351, 0.998265124842055, 0.9982251105332507, 0.99689096853156, 0.9967744958149327, 0.9987034851765542, 0.9969615879814061, 0.9998193355654142, 0.9980121101386655, 0.9985841537979114, 0.9985102602315651, 0.9968351812254956, 0.9970797087164631, 0.9944300488583752, 0.9960574986637653, 0.9987879863992692, 0.9981299349348768, 0.9984426985923783, 0.9957724821880328, 0.9982191059245418, 0.9974492576805316, 0.9968548976268821, 0.9954575124526511, 0.9996793153740247, 0.9969001621799739, 0.999619008424978, 0.9987523329222623, 0.9987836925054807, 0.9968054597294442, 0.998018375642744, 0.9954462810126606, 0.9979482438508596, 0.9991699240292411, 0.9964862985675754, 0.9990382231398856, 0.9991128196616567, 0.9983767291617217, 0.997938462996771, 0.99540367506935, 0.9988906404473746, 0.9981790802286998, 0.9981783291970624, 0.9962126463968201, 0.9982660377311633, 0.9996274318801803, 0.9993779651631494, 0.9996206114029931, 0.9991637479530089, 0.9971311524646266, 0.9975806956867274, 0.994310396842272, 0.9993516571167531, 0.9974063009443468, 0.997394401815281, 0.999746505067759, 0.9958932718208109, 0.9984408769589989, 0.9985110934612257, 0.9946880412273249, 0.9980460134767759, 0.9965660888923189, 0.9980602484227279, 0.9967363151814591, 0.9960599306801973, 0.9979796639471705, 0.9995761225322829, 0.9971092048845068, 0.9975275830109783, 0.9963953319984945, 0.9973826508987043, 0.9995809655386169, 0.9971840670673715, 0.9969188894501524, 0.9989701918968634, 0.9990494635158387, 0.9976666361462421, 0.9991382157354468, 0.9989190786678753, 0.9991012549529291, 0.9982417454086712, 0.9978867044515829, 0.9980834563534412, 0.9970770239130892, 0.9980093508131989, 0.9988059843333714, 0.9958879799244423, 0.9974886437062871, 0.9987855070659583, 0.9986921913312354, 0.9979439022724, 0.9988268385733589, 0.997572362151407, 0.9973350035837303, 0.9988487819326319, 0.9986677689014498, 0.9980572309736019, 0.9996464163622347, 0.9976838797422286, 0.9983899697604526, 0.994790803922756, 0.9978013116568236, 0.9963433089079997, 0.995870047894162, 0.9947766011320592, 0.9963883345172415, 0.9992292352204191, 0.9968966271266082, 0.9967197285786847, 0.998997097553725, 0.994405499443939, 0.9992633031313523, 0.9978757965857712, 0.9998505613760874, 0.9996246174928504, 0.9995902789605038, 0.9976884957287774, 0.9966117812820492, 0.9989059373238717, 0.9948666540629002, 0.9983892061176056, 0.9948801931119969, 0.9986201341798465, 0.998038512826876, 0.9947679531265681, 0.9988345138440613, 0.9983253169394418, 0.9991652560131071, 0.9982540409393912, 0.99791171763473, 0.9985969980265015, 0.9988817826533288, 0.9996679397777826, 0.9991112840555821, 0.9990730152086682, 0.9987440579121698, 0.9973347961516799, 0.9962292635834558, 0.9984263728169851, 0.9992749639358414, 0.9995283410197432, 0.9970480917694337, 0.9984853846778383, 0.9975325318073737, 0.9971797924100786, 0.9979950726600239, 0.9989451985980851, 0.9991555800689093, 0.9994106778942616, 0.9995790743153904, 0.004330092585247047, 0.9915912020215738], \"Term\": [\"able\", \"already\", \"also\", \"always\", \"ask\", \"away\", \"back\", \"bad\", \"be\", \"become\", \"believe\", \"big\", \"bit\", \"bring\", \"business\", \"call\", \"can\", \"care\", \"case\", \"challenge\", \"change\", \"child\", \"clear\", \"close\", \"come\", \"continue\", \"could\", \"country\", \"day\", \"decision\", \"do\", \"early\", \"economy\", \"end\", \"enough\", \"even\", \"ever\", \"face\", \"family\", \"far\", \"feel\", \"find\", \"first\", \"friend\", \"game\", \"get\", \"give\", \"go\", \"good\", \"government\", \"great\", \"grow\", \"happen\", \"happy\", \"hard\", \"have\", \"health\", \"hear\", \"help\", \"high\", \"home\", \"hope\", \"important\", \"issue\", \"job\", \"keep\", \"know\", \"last\", \"learn\", \"leave\", \"let\", \"life\", \"little\", \"live\", \"long\", \"look\", \"lose\", \"lot\", \"love\", \"make\", \"man\", \"many\", \"may\", \"mean\", \"meet\", \"moment\", \"money\", \"move\", \"much\", \"need\", \"never\", \"new\", \"next\", \"night\", \"number\", \"old\", \"part\", \"people\", \"person\", \"place\", \"plan\", \"play\", \"player\", \"point\", \"possible\", \"problem\", \"put\", \"read\", \"real\", \"really\", \"remember\", \"right\", \"risk\", \"s\", \"say\", \"see\", \"show\", \"sort\", \"start\", \"state\", \"stay\", \"step\", \"still\", \"stop\", \"story\", \"support\", \"system\", \"take\", \"talk\", \"team\", \"tell\", \"thing\", \"think\", \"time\", \"together\", \"try\", \"turn\", \"use\", \"virus\", \"want\", \"way\", \"week\", \"well\", \"will\", \"win\", \"woman\", \"work\", \"world\", \"would\", \"year\", \"young\", \"young\"]}, \"R\": 30, \"lambda.step\": 0.01, \"plot.opts\": {\"xlab\": \"PC1\", \"ylab\": \"PC2\"}, \"topic.order\": [3, 1, 5, 2, 4]};\n",
              "\n",
              "function LDAvis_load_lib(url, callback){\n",
              "  var s = document.createElement('script');\n",
              "  s.src = url;\n",
              "  s.async = true;\n",
              "  s.onreadystatechange = s.onload = callback;\n",
              "  s.onerror = function(){console.warn(\"failed to load library \" + url);};\n",
              "  document.getElementsByTagName(\"head\")[0].appendChild(s);\n",
              "}\n",
              "\n",
              "if(typeof(LDAvis) !== \"undefined\"){\n",
              "   // already loaded: just create the visualization\n",
              "   !function(LDAvis){\n",
              "       new LDAvis(\"#\" + \"ldavis_el6161397877180119846289820840\", ldavis_el6161397877180119846289820840_data);\n",
              "   }(LDAvis);\n",
              "}else if(typeof define === \"function\" && define.amd){\n",
              "   // require.js is available: use it to load d3/LDAvis\n",
              "   require.config({paths: {d3: \"https://d3js.org/d3.v5\"}});\n",
              "   require([\"d3\"], function(d3){\n",
              "      window.d3 = d3;\n",
              "      LDAvis_load_lib(\"https://cdn.jsdelivr.net/gh/bmabey/pyLDAvis@3.3.1/pyLDAvis/js/ldavis.v3.0.0.js\", function(){\n",
              "        new LDAvis(\"#\" + \"ldavis_el6161397877180119846289820840\", ldavis_el6161397877180119846289820840_data);\n",
              "      });\n",
              "    });\n",
              "}else{\n",
              "    // require.js not available: dynamically load d3 & LDAvis\n",
              "    LDAvis_load_lib(\"https://d3js.org/d3.v5.js\", function(){\n",
              "         LDAvis_load_lib(\"https://cdn.jsdelivr.net/gh/bmabey/pyLDAvis@3.3.1/pyLDAvis/js/ldavis.v3.0.0.js\", function(){\n",
              "                 new LDAvis(\"#\" + \"ldavis_el6161397877180119846289820840\", ldavis_el6161397877180119846289820840_data);\n",
              "            })\n",
              "         });\n",
              "}\n",
              "</script>"
            ],
            "text/plain": [
              "PreparedData(topic_coordinates=              x         y  topics  cluster       Freq\n",
              "topic                                                \n",
              "2      0.223394 -0.281611       1        1  23.505104\n",
              "0     -0.339992 -0.133487       2        1  22.936179\n",
              "4      0.049154  0.213976       3        1  19.692460\n",
              "1      0.037701  0.128942       4        1  17.900812\n",
              "3      0.029743  0.072179       5        1  15.965445, topic_info=        Term         Freq        Total Category  logprob  loglift\n",
              "37        be  2485.000000  2485.000000  Default  30.0000  30.0000\n",
              "41        go  2388.000000  2388.000000  Default  29.0000  29.0000\n",
              "55    people  1964.000000  1964.000000  Default  28.0000  28.0000\n",
              "65         s  2174.000000  2174.000000  Default  27.0000  27.0000\n",
              "105    would  2065.000000  2065.000000  Default  26.0000  26.0000\n",
              "...      ...          ...          ...      ...      ...      ...\n",
              "53     happy   198.739048   199.517488   Topic5  -5.1357   1.8308\n",
              "1477    high   193.258578   194.030683   Topic5  -5.1637   1.8308\n",
              "399     plan   184.191787   184.963511   Topic5  -5.2118   1.8306\n",
              "493     grow   182.265466   183.041433   Topic5  -5.2223   1.8305\n",
              "127     sort   182.839864   183.622152   Topic5  -5.2191   1.8305\n",
              "\n",
              "[181 rows x 6 columns], token_table=      Topic      Freq     Term\n",
              "term                          \n",
              "106       1  0.997112     able\n",
              "491       4  0.996551  already\n",
              "669       1  0.998265     also\n",
              "447       1  0.998225   always\n",
              "1024      3  0.996891      ask\n",
              "...     ...       ...      ...\n",
              "67        2  0.999156    world\n",
              "105       1  0.999411    would\n",
              "29        3  0.999579     year\n",
              "376       1  0.004330    young\n",
              "376       4  0.991591    young\n",
              "\n",
              "[152 rows x 3 columns], R=30, lambda_step=0.01, plot_opts={'xlab': 'PC1', 'ylab': 'PC2'}, topic_order=[3, 1, 5, 2, 4])"
            ]
          },
          "metadata": {},
          "execution_count": 81
        }
      ]
    },
    {
      "cell_type": "code",
      "metadata": {
        "colab": {
          "base_uri": "https://localhost:8080/",
          "height": 359
        },
        "id": "A0ly19pYR7Mi",
        "outputId": "c2b6e2a7-ae3c-4768-c5af-d83446fe8754"
      },
      "source": [
        "def take_second(elem):\n",
        "    return elem[1]\n",
        "\n",
        "def format_topics_sentences(ldamodel=lda_model, corpus=corpus, texts=data):\n",
        "    # Init output\n",
        "    sent_topics_df = pd.DataFrame()\n",
        "\n",
        "    # Get main topic in each document\n",
        "    for i, row in enumerate(ldamodel[corpus]):\n",
        "        row = sorted(row[0], key=take_second, reverse=True)        \n",
        "        # Get the Dominant topic, Perc Contribution and Keywords for each document\n",
        "        for j, (topic_num, prop_topic) in enumerate(row):\n",
        "            if j == 0:  # => dominant topic\n",
        "                wp = ldamodel.show_topic(topic_num)\n",
        "                topic_keywords = \", \".join([word for word, prop in wp])\n",
        "                sent_topics_df = sent_topics_df.append(pd.Series([int(topic_num), round(prop_topic,4), topic_keywords]), ignore_index=True)\n",
        "            else:\n",
        "                break\n",
        "    sent_topics_df.columns = ['Dominant_Topic', 'Perc_Contribution', 'Topic_Keywords']\n",
        "\n",
        "    # Add original text to the end of the output\n",
        "    contents = pd.Series(texts)\n",
        "    sent_topics_df = pd.concat([sent_topics_df, contents], axis=1)\n",
        "    return(sent_topics_df)\n",
        "\n",
        "\n",
        "df_topic_sents_keywords = format_topics_sentences(ldamodel=optimal_model, corpus=corpus, texts=data)\n",
        "\n",
        "# Format\n",
        "df_dominant_topic = df_topic_sents_keywords.reset_index()\n",
        "df_dominant_topic.columns = ['Document_No', 'Dominant_Topic', 'Topic_Perc_Contrib', 'Keywords', 'Text']\n",
        "\n",
        "# Show\n",
        "df_dominant_topic.head(10)"
      ],
      "execution_count": 82,
      "outputs": [
        {
          "output_type": "execute_result",
          "data": {
            "text/html": [
              "<div>\n",
              "<style scoped>\n",
              "    .dataframe tbody tr th:only-of-type {\n",
              "        vertical-align: middle;\n",
              "    }\n",
              "\n",
              "    .dataframe tbody tr th {\n",
              "        vertical-align: top;\n",
              "    }\n",
              "\n",
              "    .dataframe thead th {\n",
              "        text-align: right;\n",
              "    }\n",
              "</style>\n",
              "<table border=\"1\" class=\"dataframe\">\n",
              "  <thead>\n",
              "    <tr style=\"text-align: right;\">\n",
              "      <th></th>\n",
              "      <th>Document_No</th>\n",
              "      <th>Dominant_Topic</th>\n",
              "      <th>Topic_Perc_Contrib</th>\n",
              "      <th>Keywords</th>\n",
              "      <th>Text</th>\n",
              "    </tr>\n",
              "  </thead>\n",
              "  <tbody>\n",
              "    <tr>\n",
              "      <th>0</th>\n",
              "      <td>0</td>\n",
              "      <td>0.0</td>\n",
              "      <td>0.2693</td>\n",
              "      <td>be, go, s, get, think, want, say, feel, love, ...</td>\n",
              "      <td>As you reach or have reached the apex of your ...</td>\n",
              "    </tr>\n",
              "    <tr>\n",
              "      <th>1</th>\n",
              "      <td>1</td>\n",
              "      <td>3.0</td>\n",
              "      <td>0.2682</td>\n",
              "      <td>take, could, even, support, help, government, ...</td>\n",
              "      <td>At the same time we want to remain friends wit...</td>\n",
              "    </tr>\n",
              "    <tr>\n",
              "      <th>2</th>\n",
              "      <td>2</td>\n",
              "      <td>4.0</td>\n",
              "      <td>0.3561</td>\n",
              "      <td>know, make, really, come, see, good, need, yea...</td>\n",
              "      <td>Been home-schooling a 6-year-old and 8-year-ol...</td>\n",
              "    </tr>\n",
              "    <tr>\n",
              "      <th>3</th>\n",
              "      <td>3</td>\n",
              "      <td>1.0</td>\n",
              "      <td>0.2587</td>\n",
              "      <td>people, have, thing, work, way, life, never, t...</td>\n",
              "      <td>I am now in agreement that we should move forw...</td>\n",
              "    </tr>\n",
              "    <tr>\n",
              "      <th>4</th>\n",
              "      <td>4</td>\n",
              "      <td>0.0</td>\n",
              "      <td>0.2707</td>\n",
              "      <td>be, go, s, get, think, want, say, feel, love, ...</td>\n",
              "      <td>I dont want to make a career out of [ remaking...</td>\n",
              "    </tr>\n",
              "    <tr>\n",
              "      <th>5</th>\n",
              "      <td>5</td>\n",
              "      <td>0.0</td>\n",
              "      <td>0.2463</td>\n",
              "      <td>be, go, s, get, think, want, say, feel, love, ...</td>\n",
              "      <td>Im not in medieval times!</td>\n",
              "    </tr>\n",
              "    <tr>\n",
              "      <th>6</th>\n",
              "      <td>6</td>\n",
              "      <td>1.0</td>\n",
              "      <td>0.2580</td>\n",
              "      <td>people, have, thing, work, way, life, never, t...</td>\n",
              "      <td>It was a lot of fun, it was like a football ga...</td>\n",
              "    </tr>\n",
              "    <tr>\n",
              "      <th>7</th>\n",
              "      <td>7</td>\n",
              "      <td>4.0</td>\n",
              "      <td>0.2836</td>\n",
              "      <td>know, make, really, come, see, good, need, yea...</td>\n",
              "      <td>We still need to have our critical infrastruct...</td>\n",
              "    </tr>\n",
              "    <tr>\n",
              "      <th>8</th>\n",
              "      <td>8</td>\n",
              "      <td>2.0</td>\n",
              "      <td>0.2219</td>\n",
              "      <td>would, time, look, day, well, also, can, give,...</td>\n",
              "      <td>Your positivity on screen makes so many people...</td>\n",
              "    </tr>\n",
              "    <tr>\n",
              "      <th>9</th>\n",
              "      <td>9</td>\n",
              "      <td>0.0</td>\n",
              "      <td>0.3651</td>\n",
              "      <td>be, go, s, get, think, want, say, feel, love, ...</td>\n",
              "      <td>At this moment, when theres so much fear in th...</td>\n",
              "    </tr>\n",
              "  </tbody>\n",
              "</table>\n",
              "</div>"
            ],
            "text/plain": [
              "   Document_No  ...                                               Text\n",
              "0            0  ...  As you reach or have reached the apex of your ...\n",
              "1            1  ...  At the same time we want to remain friends wit...\n",
              "2            2  ...  Been home-schooling a 6-year-old and 8-year-ol...\n",
              "3            3  ...  I am now in agreement that we should move forw...\n",
              "4            4  ...  I dont want to make a career out of [ remaking...\n",
              "5            5  ...                          Im not in medieval times!\n",
              "6            6  ...  It was a lot of fun, it was like a football ga...\n",
              "7            7  ...  We still need to have our critical infrastruct...\n",
              "8            8  ...  Your positivity on screen makes so many people...\n",
              "9            9  ...  At this moment, when theres so much fear in th...\n",
              "\n",
              "[10 rows x 5 columns]"
            ]
          },
          "metadata": {},
          "execution_count": 82
        }
      ]
    },
    {
      "cell_type": "code",
      "metadata": {
        "colab": {
          "base_uri": "https://localhost:8080/",
          "height": 204
        },
        "id": "35EN2TkBU5rO",
        "outputId": "ccb42efa-1349-4a49-c8c6-6aef4eb35e8f"
      },
      "source": [
        "# Group top 5 sentences under each topic\n",
        "sent_topics_sorteddf_mallet = pd.DataFrame()\n",
        "\n",
        "sent_topics_outdf_grpd = df_topic_sents_keywords.groupby('Dominant_Topic')\n",
        "\n",
        "for i, grp in sent_topics_outdf_grpd:\n",
        "    sent_topics_sorteddf_mallet = pd.concat([sent_topics_sorteddf_mallet, \n",
        "                                             grp.sort_values(['Perc_Contribution'], ascending=[0]).head(1)], \n",
        "                                            axis=0)\n",
        "\n",
        "# Reset Index    \n",
        "sent_topics_sorteddf_mallet.reset_index(drop=True, inplace=True)\n",
        "\n",
        "# Format\n",
        "sent_topics_sorteddf_mallet.columns = ['Topic_Num', \"Topic_Perc_Contrib\", \"Keywords\", \"Text\"]\n",
        "\n",
        "# Show\n",
        "sent_topics_sorteddf_mallet.head()"
      ],
      "execution_count": 83,
      "outputs": [
        {
          "output_type": "execute_result",
          "data": {
            "text/html": [
              "<div>\n",
              "<style scoped>\n",
              "    .dataframe tbody tr th:only-of-type {\n",
              "        vertical-align: middle;\n",
              "    }\n",
              "\n",
              "    .dataframe tbody tr th {\n",
              "        vertical-align: top;\n",
              "    }\n",
              "\n",
              "    .dataframe thead th {\n",
              "        text-align: right;\n",
              "    }\n",
              "</style>\n",
              "<table border=\"1\" class=\"dataframe\">\n",
              "  <thead>\n",
              "    <tr style=\"text-align: right;\">\n",
              "      <th></th>\n",
              "      <th>Topic_Num</th>\n",
              "      <th>Topic_Perc_Contrib</th>\n",
              "      <th>Keywords</th>\n",
              "      <th>Text</th>\n",
              "    </tr>\n",
              "  </thead>\n",
              "  <tbody>\n",
              "    <tr>\n",
              "      <th>0</th>\n",
              "      <td>0.0</td>\n",
              "      <td>0.4066</td>\n",
              "      <td>be, go, s, get, think, want, say, feel, love, ...</td>\n",
              "      <td>So hes a bit like George Maharis, hes a bit li...</td>\n",
              "    </tr>\n",
              "    <tr>\n",
              "      <th>1</th>\n",
              "      <td>1.0</td>\n",
              "      <td>0.3546</td>\n",
              "      <td>people, have, thing, work, way, life, never, t...</td>\n",
              "      <td>So the anti-tobacco people have got to attack ...</td>\n",
              "    </tr>\n",
              "    <tr>\n",
              "      <th>2</th>\n",
              "      <td>2.0</td>\n",
              "      <td>0.3805</td>\n",
              "      <td>would, time, look, day, well, also, can, give,...</td>\n",
              "      <td>Lastly, keeping loose condoms in your wallet, ...</td>\n",
              "    </tr>\n",
              "    <tr>\n",
              "      <th>3</th>\n",
              "      <td>3.0</td>\n",
              "      <td>0.3621</td>\n",
              "      <td>take, could, even, support, help, government, ...</td>\n",
              "      <td>The government needs to do an awful lot more t...</td>\n",
              "    </tr>\n",
              "    <tr>\n",
              "      <th>4</th>\n",
              "      <td>4.0</td>\n",
              "      <td>0.3681</td>\n",
              "      <td>know, make, really, come, see, good, need, yea...</td>\n",
              "      <td>We need everyone to continue to comply with th...</td>\n",
              "    </tr>\n",
              "  </tbody>\n",
              "</table>\n",
              "</div>"
            ],
            "text/plain": [
              "   Topic_Num  ...                                               Text\n",
              "0        0.0  ...  So hes a bit like George Maharis, hes a bit li...\n",
              "1        1.0  ...  So the anti-tobacco people have got to attack ...\n",
              "2        2.0  ...  Lastly, keeping loose condoms in your wallet, ...\n",
              "3        3.0  ...  The government needs to do an awful lot more t...\n",
              "4        4.0  ...  We need everyone to continue to comply with th...\n",
              "\n",
              "[5 rows x 4 columns]"
            ]
          },
          "metadata": {},
          "execution_count": 83
        }
      ]
    },
    {
      "cell_type": "code",
      "metadata": {
        "colab": {
          "base_uri": "https://localhost:8080/",
          "height": 204
        },
        "id": "2dBlpFtnSQEb",
        "outputId": "a0ccfa00-0f62-4920-c3e9-9c80ece6601f"
      },
      "source": [
        "# Number of Documents for Each Topic\n",
        "topic_counts = df_topic_sents_keywords['Dominant_Topic'].value_counts()\n",
        "\n",
        "# Percentage of Documents for Each Topic\n",
        "topic_contribution = round(topic_counts/topic_counts.sum(), 4)\n",
        "\n",
        "# Topic Number and Keywords\n",
        "topic_num_keywords = df_topic_sents_keywords[['Dominant_Topic', 'Topic_Keywords']]\n",
        "\n",
        "# Concatenate Column wise\n",
        "df_dominant_topics = pd.concat([topic_num_keywords, topic_counts, topic_contribution], axis=1)\n",
        "\n",
        "# Change Column names\n",
        "df_dominant_topics.columns = ['Dominant_Topic', 'Topic_Keywords', 'Num_Documents', 'Perc_Documents']\n",
        "\n",
        "# Show\n",
        "df_dominant_topics.head(5)"
      ],
      "execution_count": 87,
      "outputs": [
        {
          "output_type": "execute_result",
          "data": {
            "text/html": [
              "<div>\n",
              "<style scoped>\n",
              "    .dataframe tbody tr th:only-of-type {\n",
              "        vertical-align: middle;\n",
              "    }\n",
              "\n",
              "    .dataframe tbody tr th {\n",
              "        vertical-align: top;\n",
              "    }\n",
              "\n",
              "    .dataframe thead th {\n",
              "        text-align: right;\n",
              "    }\n",
              "</style>\n",
              "<table border=\"1\" class=\"dataframe\">\n",
              "  <thead>\n",
              "    <tr style=\"text-align: right;\">\n",
              "      <th></th>\n",
              "      <th>Dominant_Topic</th>\n",
              "      <th>Topic_Keywords</th>\n",
              "      <th>Num_Documents</th>\n",
              "      <th>Perc_Documents</th>\n",
              "    </tr>\n",
              "  </thead>\n",
              "  <tbody>\n",
              "    <tr>\n",
              "      <th>0.0</th>\n",
              "      <td>0.0</td>\n",
              "      <td>be, go, s, get, think, want, say, feel, love, ...</td>\n",
              "      <td>9054.0</td>\n",
              "      <td>0.3473</td>\n",
              "    </tr>\n",
              "    <tr>\n",
              "      <th>1.0</th>\n",
              "      <td>3.0</td>\n",
              "      <td>take, could, even, support, help, government, ...</td>\n",
              "      <td>631.0</td>\n",
              "      <td>0.0242</td>\n",
              "    </tr>\n",
              "    <tr>\n",
              "      <th>2.0</th>\n",
              "      <td>4.0</td>\n",
              "      <td>know, make, really, come, see, good, need, yea...</td>\n",
              "      <td>14066.0</td>\n",
              "      <td>0.5395</td>\n",
              "    </tr>\n",
              "    <tr>\n",
              "      <th>3.0</th>\n",
              "      <td>1.0</td>\n",
              "      <td>people, have, thing, work, way, life, never, t...</td>\n",
              "      <td>236.0</td>\n",
              "      <td>0.0091</td>\n",
              "    </tr>\n",
              "    <tr>\n",
              "      <th>4.0</th>\n",
              "      <td>0.0</td>\n",
              "      <td>be, go, s, get, think, want, say, feel, love, ...</td>\n",
              "      <td>2083.0</td>\n",
              "      <td>0.0799</td>\n",
              "    </tr>\n",
              "  </tbody>\n",
              "</table>\n",
              "</div>"
            ],
            "text/plain": [
              "     Dominant_Topic  ... Perc_Documents\n",
              "0.0             0.0  ...         0.3473\n",
              "1.0             3.0  ...         0.0242\n",
              "2.0             4.0  ...         0.5395\n",
              "3.0             1.0  ...         0.0091\n",
              "4.0             0.0  ...         0.0799\n",
              "\n",
              "[5 rows x 4 columns]"
            ]
          },
          "metadata": {},
          "execution_count": 87
        }
      ]
    },
    {
      "cell_type": "code",
      "metadata": {
        "colab": {
          "base_uri": "https://localhost:8080/"
        },
        "id": "vfZQOgnPYADo",
        "outputId": "e727d943-01f4-4a45-ba3e-03c27f7b0a5e"
      },
      "source": [
        "for i in range(0,5):\n",
        "  print(str(i) + \" \" + df_dominant_topics.Topic_Keywords[i])"
      ],
      "execution_count": 93,
      "outputs": [
        {
          "output_type": "stream",
          "name": "stdout",
          "text": [
            "0 be, go, s, get, think, want, say, feel, love, back\n",
            "1 take, could, even, support, help, government, show, change, talk, live\n",
            "2 know, make, really, come, see, good, need, year, still, big\n",
            "3 people, have, thing, work, way, life, never, try, many, right\n",
            "4 be, go, s, get, think, want, say, feel, love, back\n"
          ]
        }
      ]
    },
    {
      "cell_type": "code",
      "metadata": {
        "id": "gpyAqzkXcFBb"
      },
      "source": [
        ""
      ],
      "execution_count": null,
      "outputs": []
    },
    {
      "cell_type": "markdown",
      "metadata": {
        "id": "YqPskgSLcF-W"
      },
      "source": [
        "# LDA 2 (https://towardsdatascience.com/topic-modeling-and-latent-dirichlet-allocation-in-python-9bf156893c24)"
      ]
    },
    {
      "cell_type": "code",
      "metadata": {
        "colab": {
          "base_uri": "https://localhost:8080/"
        },
        "id": "4Cp2k7Z2cJnO",
        "outputId": "33df44ff-8d2f-42f5-d863-0e8f4cd490a8"
      },
      "source": [
        "import gensim\n",
        "from gensim.utils import simple_preprocess\n",
        "from gensim.parsing.preprocessing import STOPWORDS\n",
        "from nltk.stem import WordNetLemmatizer, SnowballStemmer\n",
        "from nltk.stem.porter import *\n",
        "from nltk.stem import PorterStemmer\n",
        "import numpy as np\n",
        "np.random.seed(2018)\n",
        "import nltk\n",
        "nltk.download('wordnet')"
      ],
      "execution_count": 112,
      "outputs": [
        {
          "output_type": "stream",
          "name": "stdout",
          "text": [
            "[nltk_data] Downloading package wordnet to /root/nltk_data...\n",
            "[nltk_data]   Package wordnet is already up-to-date!\n"
          ]
        },
        {
          "output_type": "execute_result",
          "data": {
            "text/plain": [
              "True"
            ]
          },
          "metadata": {},
          "execution_count": 112
        }
      ]
    },
    {
      "cell_type": "code",
      "metadata": {
        "id": "_iLKDwiOc7NH"
      },
      "source": [
        "def lemmatize_stemming(text):\n",
        "    ps = PorterStemmer()\n",
        "    return ps.stem(WordNetLemmatizer().lemmatize(text, pos='v'))\n",
        "\n",
        "def preprocess(text):\n",
        "    result = []\n",
        "    for token in gensim.utils.simple_preprocess(text):\n",
        "        if token not in gensim.parsing.preprocessing.STOPWORDS and len(token) > 3:\n",
        "            result.append(lemmatize_stemming(token))\n",
        "    return result"
      ],
      "execution_count": 115,
      "outputs": []
    },
    {
      "cell_type": "code",
      "metadata": {
        "colab": {
          "base_uri": "https://localhost:8080/",
          "height": 204
        },
        "id": "ZsLQ75Ayc9rg",
        "outputId": "bc4d7d4d-5405-4f50-ae36-53f945d259c5"
      },
      "source": [
        "documents = pd.read_pickle(QUOTES_2020_PATH)[['quotation']]\n",
        "documents['index'] = documents.index\n",
        "documents.head()"
      ],
      "execution_count": 109,
      "outputs": [
        {
          "output_type": "execute_result",
          "data": {
            "text/html": [
              "<div>\n",
              "<style scoped>\n",
              "    .dataframe tbody tr th:only-of-type {\n",
              "        vertical-align: middle;\n",
              "    }\n",
              "\n",
              "    .dataframe tbody tr th {\n",
              "        vertical-align: top;\n",
              "    }\n",
              "\n",
              "    .dataframe thead th {\n",
              "        text-align: right;\n",
              "    }\n",
              "</style>\n",
              "<table border=\"1\" class=\"dataframe\">\n",
              "  <thead>\n",
              "    <tr style=\"text-align: right;\">\n",
              "      <th></th>\n",
              "      <th>quotation</th>\n",
              "      <th>index</th>\n",
              "    </tr>\n",
              "  </thead>\n",
              "  <tbody>\n",
              "    <tr>\n",
              "      <th>0</th>\n",
              "      <td>As you reach or have reached the apex of your ...</td>\n",
              "      <td>0</td>\n",
              "    </tr>\n",
              "    <tr>\n",
              "      <th>1</th>\n",
              "      <td>At the same time we want to remain friends wit...</td>\n",
              "      <td>1</td>\n",
              "    </tr>\n",
              "    <tr>\n",
              "      <th>2</th>\n",
              "      <td>Been home-schooling a 6-year-old and 8-year-ol...</td>\n",
              "      <td>2</td>\n",
              "    </tr>\n",
              "    <tr>\n",
              "      <th>3</th>\n",
              "      <td>I am now in agreement that we should move forw...</td>\n",
              "      <td>3</td>\n",
              "    </tr>\n",
              "    <tr>\n",
              "      <th>4</th>\n",
              "      <td>I don't want to make a career out of [ remakin...</td>\n",
              "      <td>4</td>\n",
              "    </tr>\n",
              "  </tbody>\n",
              "</table>\n",
              "</div>"
            ],
            "text/plain": [
              "                                           quotation  index\n",
              "0  As you reach or have reached the apex of your ...      0\n",
              "1  At the same time we want to remain friends wit...      1\n",
              "2  Been home-schooling a 6-year-old and 8-year-ol...      2\n",
              "3  I am now in agreement that we should move forw...      3\n",
              "4  I don't want to make a career out of [ remakin...      4"
            ]
          },
          "metadata": {},
          "execution_count": 109
        }
      ]
    },
    {
      "cell_type": "code",
      "metadata": {
        "colab": {
          "base_uri": "https://localhost:8080/"
        },
        "id": "PcWxgDiudELJ",
        "outputId": "308a0946-57c3-44e7-bfea-7f5095a8ef8f"
      },
      "source": [
        "\n",
        "doc_sample = documents[documents['index'] == 4310].values[0][0]\n",
        "print('original document: ')\n",
        "words = []\n",
        "for word in doc_sample.split(' '):\n",
        "    words.append(word)\n",
        "print(words)\n",
        "print('\\n\\n tokenized and lemmatized document: ')\n",
        "print(preprocess(doc_sample))"
      ],
      "execution_count": 116,
      "outputs": [
        {
          "output_type": "stream",
          "name": "stdout",
          "text": [
            "original document: \n",
            "['Urgh,', 'my', 'ovaries', 'are', 'crying', 'all', 'the', 'time.', \"They're\", 'screaming!', 'I', 'cannot', 'wait', 'because', 'all', 'five', 'of', 'them', 'are', 'going', 'to', 'be', 'the', 'best', 'children.']\n",
            "\n",
            "\n",
            " tokenized and lemmatized document: \n",
            "['urgh', 'ovari', 'cri', 'time', 'scream', 'wait', 'go', 'best', 'children']\n"
          ]
        }
      ]
    },
    {
      "cell_type": "code",
      "metadata": {
        "colab": {
          "base_uri": "https://localhost:8080/"
        },
        "id": "WB5Z7iRSdcam",
        "outputId": "b0cdb7a4-4aea-4c27-a7b1-c49f27769088"
      },
      "source": [
        "processed_docs = documents['quotation'].map(preprocess)\n",
        "processed_docs[:10]"
      ],
      "execution_count": 117,
      "outputs": [
        {
          "output_type": "execute_result",
          "data": {
            "text/plain": [
              "0    [reach, reach, apex, career, build, certain, l...\n",
              "1    [time, want, remain, friend, european, neighbo...\n",
              "2    [home, school, year, year, hour, minut, teache...\n",
              "3                 [agreement, forward, claim, process]\n",
              "4                         [want, career, remak, paint]\n",
              "5                                       [mediev, time]\n",
              "6    [like, footbal, game, rock, concert, go, wasn,...\n",
              "7    [need, critic, infrastructur, continu, work, f...\n",
              "8     [posit, screen, make, peopl, happi, worri, time]\n",
              "9    [moment, fear, countri, fear, world, need, ame...\n",
              "Name: quotation, dtype: object"
            ]
          },
          "metadata": {},
          "execution_count": 117
        }
      ]
    },
    {
      "cell_type": "code",
      "metadata": {
        "colab": {
          "base_uri": "https://localhost:8080/"
        },
        "id": "5NsdEknVfvax",
        "outputId": "b0f537db-6731-44ff-c160-4c2ac82dcffc"
      },
      "source": [
        "dictionary = gensim.corpora.Dictionary(processed_docs)\n",
        "count = 0\n",
        "for k, v in dictionary.iteritems():\n",
        "    print(k, v)\n",
        "    count += 1\n",
        "    if count > 10:\n",
        "        break"
      ],
      "execution_count": 118,
      "outputs": [
        {
          "output_type": "stream",
          "name": "stdout",
          "text": [
            "0 apex\n",
            "1 block\n",
            "2 build\n",
            "3 career\n",
            "4 certain\n",
            "5 level\n",
            "6 reach\n",
            "7 resili\n",
            "8 thing\n",
            "9 drink\n",
            "10 european\n"
          ]
        }
      ]
    },
    {
      "cell_type": "code",
      "metadata": {
        "id": "K8IhcJq1f7zp"
      },
      "source": [
        "dictionary.filter_extremes(no_below=15, no_above=0.5, keep_n=100000) ## TODO 15 un peu haut peut-être"
      ],
      "execution_count": 119,
      "outputs": []
    },
    {
      "cell_type": "code",
      "metadata": {
        "colab": {
          "base_uri": "https://localhost:8080/"
        },
        "id": "i5ARQy5egIjx",
        "outputId": "6aceb267-6b39-49b0-c6d2-5cd5c3cf55f6"
      },
      "source": [
        "bow_corpus = [dictionary.doc2bow(doc) for doc in processed_docs]\n",
        "bow_corpus[4310]"
      ],
      "execution_count": 120,
      "outputs": [
        {
          "output_type": "execute_result",
          "data": {
            "text/plain": [
              "[(17, 1), (37, 1), (178, 1), (256, 1), (510, 1), (1253, 1), (1776, 1)]"
            ]
          },
          "metadata": {},
          "execution_count": 120
        }
      ]
    },
    {
      "cell_type": "code",
      "metadata": {
        "colab": {
          "base_uri": "https://localhost:8080/"
        },
        "id": "kaElaQDRgSFG",
        "outputId": "aa517ec1-d06b-407e-97b8-37b0ff1d1d68"
      },
      "source": [
        "bow_doc_4310 = bow_corpus[4310]\n",
        "for i in range(len(bow_doc_4310)):\n",
        "    print(\"Word {} (\\\"{}\\\") appears {} time.\".format(bow_doc_4310[i][0], \n",
        "                                               dictionary[bow_doc_4310[i][0]], \n",
        "bow_doc_4310[i][1]))"
      ],
      "execution_count": 121,
      "outputs": [
        {
          "output_type": "stream",
          "name": "stdout",
          "text": [
            "Word 17 (\"time\") appears 1 time.\n",
            "Word 37 (\"go\") appears 1 time.\n",
            "Word 178 (\"wait\") appears 1 time.\n",
            "Word 256 (\"best\") appears 1 time.\n",
            "Word 510 (\"children\") appears 1 time.\n",
            "Word 1253 (\"cri\") appears 1 time.\n",
            "Word 1776 (\"scream\") appears 1 time.\n"
          ]
        }
      ]
    },
    {
      "cell_type": "code",
      "metadata": {
        "colab": {
          "base_uri": "https://localhost:8080/"
        },
        "id": "tvwu_FJdgUVO",
        "outputId": "cf09780a-8354-4df7-b584-33289329fc03"
      },
      "source": [
        "from gensim import corpora, models\n",
        "tfidf = models.TfidfModel(bow_corpus)\n",
        "corpus_tfidf = tfidf[bow_corpus]\n",
        "from pprint import pprint\n",
        "for doc in corpus_tfidf:\n",
        "    pprint(doc)\n",
        "    break"
      ],
      "execution_count": 122,
      "outputs": [
        {
          "output_type": "stream",
          "name": "stdout",
          "text": [
            "[(0, 0.3438644481742555),\n",
            " (1, 0.2584543510844445),\n",
            " (2, 0.303242388627149),\n",
            " (3, 0.30642107980151123),\n",
            " (4, 0.2524401930107772),\n",
            " (5, 0.6182173108948154),\n",
            " (6, 0.39249041862471246),\n",
            " (7, 0.17070835372287213)]\n"
          ]
        }
      ]
    },
    {
      "cell_type": "code",
      "metadata": {
        "id": "M33dQawwgXot"
      },
      "source": [
        "lda_model = gensim.models.LdaMulticore(bow_corpus, num_topics=6, id2word=dictionary, passes=2, workers=2)"
      ],
      "execution_count": 129,
      "outputs": []
    },
    {
      "cell_type": "code",
      "metadata": {
        "colab": {
          "base_uri": "https://localhost:8080/"
        },
        "id": "E6DeK9rLgc5J",
        "outputId": "db7d8c1d-7e85-4f9e-bdb9-63444931c56e"
      },
      "source": [
        "for idx, topic in lda_model.print_topics(-1):\n",
        "    print('Topic: {} \\nWords: {}'.format(idx, topic))"
      ],
      "execution_count": 130,
      "outputs": [
        {
          "output_type": "stream",
          "name": "stdout",
          "text": [
            "Topic: 0 \n",
            "Words: 0.036*\"think\" + 0.026*\"go\" + 0.024*\"time\" + 0.018*\"thing\" + 0.015*\"like\" + 0.011*\"feel\" + 0.011*\"life\" + 0.010*\"right\" + 0.010*\"peopl\" + 0.007*\"best\"\n",
            "Topic: 1 \n",
            "Words: 0.030*\"want\" + 0.019*\"love\" + 0.014*\"world\" + 0.012*\"feel\" + 0.010*\"good\" + 0.010*\"know\" + 0.010*\"like\" + 0.009*\"peopl\" + 0.009*\"work\" + 0.007*\"go\"\n",
            "Topic: 2 \n",
            "Words: 0.013*\"year\" + 0.011*\"home\" + 0.010*\"go\" + 0.010*\"thing\" + 0.010*\"stay\" + 0.009*\"come\" + 0.009*\"happen\" + 0.008*\"take\" + 0.008*\"work\" + 0.007*\"leav\"\n",
            "Topic: 3 \n",
            "Words: 0.038*\"peopl\" + 0.016*\"need\" + 0.008*\"countri\" + 0.008*\"think\" + 0.006*\"chang\" + 0.006*\"health\" + 0.006*\"help\" + 0.006*\"right\" + 0.006*\"work\" + 0.005*\"case\"\n",
            "Topic: 4 \n",
            "Words: 0.025*\"come\" + 0.021*\"think\" + 0.020*\"time\" + 0.011*\"person\" + 0.010*\"like\" + 0.010*\"peopl\" + 0.009*\"need\" + 0.009*\"live\" + 0.009*\"week\" + 0.008*\"test\"\n",
            "Topic: 5 \n",
            "Words: 0.041*\"like\" + 0.035*\"know\" + 0.025*\"look\" + 0.018*\"go\" + 0.017*\"say\" + 0.013*\"work\" + 0.012*\"year\" + 0.010*\"want\" + 0.006*\"peopl\" + 0.006*\"time\"\n"
          ]
        }
      ]
    },
    {
      "cell_type": "code",
      "metadata": {
        "colab": {
          "base_uri": "https://localhost:8080/"
        },
        "id": "_wRVTqVegjtZ",
        "outputId": "cd0b0e85-5ead-4e02-845e-08e4afb491ed"
      },
      "source": [
        "lda_model_tfidf = gensim.models.LdaMulticore(corpus_tfidf, num_topics=6, id2word=dictionary, passes=2, workers=4)\n",
        "for idx, topic in lda_model_tfidf.print_topics(-1):\n",
        "    print('Topic: {} Word: {}'.format(idx, topic))"
      ],
      "execution_count": 132,
      "outputs": [
        {
          "output_type": "stream",
          "name": "stdout",
          "text": [
            "Topic: 0 Word: 0.014*\"think\" + 0.008*\"go\" + 0.007*\"want\" + 0.007*\"happen\" + 0.006*\"better\" + 0.006*\"peopl\" + 0.006*\"like\" + 0.006*\"right\" + 0.005*\"time\" + 0.005*\"know\"\n",
            "Topic: 1 Word: 0.015*\"like\" + 0.009*\"good\" + 0.009*\"feel\" + 0.008*\"come\" + 0.006*\"think\" + 0.006*\"go\" + 0.006*\"time\" + 0.006*\"thing\" + 0.006*\"peopl\" + 0.005*\"year\"\n",
            "Topic: 2 Word: 0.011*\"look\" + 0.007*\"need\" + 0.006*\"think\" + 0.006*\"like\" + 0.006*\"want\" + 0.005*\"play\" + 0.005*\"peopl\" + 0.005*\"know\" + 0.005*\"go\" + 0.005*\"come\"\n",
            "Topic: 3 Word: 0.011*\"peopl\" + 0.009*\"time\" + 0.007*\"say\" + 0.007*\"go\" + 0.007*\"like\" + 0.007*\"know\" + 0.006*\"need\" + 0.006*\"think\" + 0.005*\"want\" + 0.005*\"kill\"\n",
            "Topic: 4 Word: 0.015*\"know\" + 0.010*\"work\" + 0.008*\"peopl\" + 0.007*\"year\" + 0.007*\"tell\" + 0.007*\"think\" + 0.007*\"like\" + 0.005*\"happi\" + 0.005*\"live\" + 0.005*\"want\"\n",
            "Topic: 5 Word: 0.011*\"go\" + 0.011*\"love\" + 0.011*\"want\" + 0.011*\"thing\" + 0.007*\"time\" + 0.006*\"peopl\" + 0.006*\"think\" + 0.006*\"like\" + 0.006*\"life\" + 0.006*\"mean\"\n"
          ]
        }
      ]
    },
    {
      "cell_type": "code",
      "metadata": {
        "colab": {
          "base_uri": "https://localhost:8080/"
        },
        "id": "d7B72_WPgpjt",
        "outputId": "38b5af62-f66f-4905-d0fe-fca15a83e1e7"
      },
      "source": [
        "processed_docs[4310]"
      ],
      "execution_count": 133,
      "outputs": [
        {
          "output_type": "execute_result",
          "data": {
            "text/plain": [
              "['urgh', 'ovari', 'cri', 'time', 'scream', 'wait', 'go', 'best', 'children']"
            ]
          },
          "metadata": {},
          "execution_count": 133
        }
      ]
    },
    {
      "cell_type": "code",
      "metadata": {
        "colab": {
          "base_uri": "https://localhost:8080/"
        },
        "id": "Iw5SucE2g2tz",
        "outputId": "29422e10-0432-4eef-8130-594f332c19cf"
      },
      "source": [
        "for index, score in sorted(lda_model[bow_corpus[4310]], key=lambda tup: -1*tup[1]):\n",
        "    print(\"\\nScore: {}\\t \\nTopic: {}\".format(score, lda_model.print_topic(index, 10)))"
      ],
      "execution_count": 134,
      "outputs": [
        {
          "output_type": "stream",
          "name": "stdout",
          "text": [
            "\n",
            "Score: 0.5747553110122681\t \n",
            "Topic: 0.036*\"think\" + 0.026*\"go\" + 0.024*\"time\" + 0.018*\"thing\" + 0.015*\"like\" + 0.011*\"feel\" + 0.011*\"life\" + 0.010*\"right\" + 0.010*\"peopl\" + 0.007*\"best\"\n",
            "\n",
            "Score: 0.2492092400789261\t \n",
            "Topic: 0.025*\"come\" + 0.021*\"think\" + 0.020*\"time\" + 0.011*\"person\" + 0.010*\"like\" + 0.010*\"peopl\" + 0.009*\"need\" + 0.009*\"live\" + 0.009*\"week\" + 0.008*\"test\"\n",
            "\n",
            "Score: 0.11316174268722534\t \n",
            "Topic: 0.038*\"peopl\" + 0.016*\"need\" + 0.008*\"countri\" + 0.008*\"think\" + 0.006*\"chang\" + 0.006*\"health\" + 0.006*\"help\" + 0.006*\"right\" + 0.006*\"work\" + 0.005*\"case\"\n",
            "\n",
            "Score: 0.021070359274744987\t \n",
            "Topic: 0.041*\"like\" + 0.035*\"know\" + 0.025*\"look\" + 0.018*\"go\" + 0.017*\"say\" + 0.013*\"work\" + 0.012*\"year\" + 0.010*\"want\" + 0.006*\"peopl\" + 0.006*\"time\"\n",
            "\n",
            "Score: 0.020901814103126526\t \n",
            "Topic: 0.013*\"year\" + 0.011*\"home\" + 0.010*\"go\" + 0.010*\"thing\" + 0.010*\"stay\" + 0.009*\"come\" + 0.009*\"happen\" + 0.008*\"take\" + 0.008*\"work\" + 0.007*\"leav\"\n",
            "\n",
            "Score: 0.020901566371321678\t \n",
            "Topic: 0.030*\"want\" + 0.019*\"love\" + 0.014*\"world\" + 0.012*\"feel\" + 0.010*\"good\" + 0.010*\"know\" + 0.010*\"like\" + 0.009*\"peopl\" + 0.009*\"work\" + 0.007*\"go\"\n"
          ]
        }
      ]
    },
    {
      "cell_type": "code",
      "metadata": {
        "colab": {
          "base_uri": "https://localhost:8080/"
        },
        "id": "bngCGGkvg40Z",
        "outputId": "e33d692f-f2f4-4133-b7cc-819e8ef2a35e"
      },
      "source": [
        "for index, score in sorted(lda_model_tfidf[bow_corpus[4310]], key=lambda tup: -1*tup[1]):\n",
        "    print(\"\\nScore: {}\\t \\nTopic: {}\".format(score, lda_model_tfidf.print_topic(index, 10)))"
      ],
      "execution_count": 135,
      "outputs": [
        {
          "output_type": "stream",
          "name": "stdout",
          "text": [
            "\n",
            "Score: 0.5148168802261353\t \n",
            "Topic: 0.015*\"like\" + 0.009*\"good\" + 0.009*\"feel\" + 0.008*\"come\" + 0.006*\"think\" + 0.006*\"go\" + 0.006*\"time\" + 0.006*\"thing\" + 0.006*\"peopl\" + 0.005*\"year\"\n",
            "\n",
            "Score: 0.40106096863746643\t \n",
            "Topic: 0.011*\"peopl\" + 0.009*\"time\" + 0.007*\"say\" + 0.007*\"go\" + 0.007*\"like\" + 0.007*\"know\" + 0.006*\"need\" + 0.006*\"think\" + 0.005*\"want\" + 0.005*\"kill\"\n",
            "\n",
            "Score: 0.02116916887462139\t \n",
            "Topic: 0.011*\"look\" + 0.007*\"need\" + 0.006*\"think\" + 0.006*\"like\" + 0.006*\"want\" + 0.005*\"play\" + 0.005*\"peopl\" + 0.005*\"know\" + 0.005*\"go\" + 0.005*\"come\"\n",
            "\n",
            "Score: 0.021026279777288437\t \n",
            "Topic: 0.011*\"go\" + 0.011*\"love\" + 0.011*\"want\" + 0.011*\"thing\" + 0.007*\"time\" + 0.006*\"peopl\" + 0.006*\"think\" + 0.006*\"like\" + 0.006*\"life\" + 0.006*\"mean\"\n",
            "\n",
            "Score: 0.020982418209314346\t \n",
            "Topic: 0.014*\"think\" + 0.008*\"go\" + 0.007*\"want\" + 0.007*\"happen\" + 0.006*\"better\" + 0.006*\"peopl\" + 0.006*\"like\" + 0.006*\"right\" + 0.005*\"time\" + 0.005*\"know\"\n",
            "\n",
            "Score: 0.020944319665431976\t \n",
            "Topic: 0.015*\"know\" + 0.010*\"work\" + 0.008*\"peopl\" + 0.007*\"year\" + 0.007*\"tell\" + 0.007*\"think\" + 0.007*\"like\" + 0.005*\"happi\" + 0.005*\"live\" + 0.005*\"want\"\n"
          ]
        }
      ]
    },
    {
      "cell_type": "code",
      "metadata": {
        "id": "5HWmmDMFhWX2"
      },
      "source": [
        ""
      ],
      "execution_count": null,
      "outputs": []
    },
    {
      "cell_type": "markdown",
      "metadata": {
        "id": "kcT5OC6oiQTs"
      },
      "source": [
        "# LDA 3 (https://www.analyticsvidhya.com/blog/2016/08/beginners-guide-to-topic-modeling-in-python/)"
      ]
    },
    {
      "cell_type": "code",
      "metadata": {
        "colab": {
          "base_uri": "https://localhost:8080/"
        },
        "id": "73u86eAciaHV",
        "outputId": "cb8fb46c-54ef-4da0-d876-591ccca76b9a"
      },
      "source": [
        "doc_complete = pd.read_pickle(QUOTES_2020_PATH).quotation.tolist()\n",
        "doc_complete[:3]"
      ],
      "execution_count": 139,
      "outputs": [
        {
          "output_type": "execute_result",
          "data": {
            "text/plain": [
              "['As you reach or have reached the apex of your career, you build a certain level of resilience to block things out,',\n",
              " 'At the same time we want to remain friends with our European neighbours and offer a range of drinks at an excellent price.',\n",
              " 'Been home-schooling a 6-year-old and 8-year-old for 1 hour and 11 minutes. Teachers deserve to make a billion dollars a year. Or WEEK.']"
            ]
          },
          "metadata": {},
          "execution_count": 139
        }
      ]
    },
    {
      "cell_type": "code",
      "metadata": {
        "colab": {
          "base_uri": "https://localhost:8080/"
        },
        "id": "mTwzZxS1hHeI",
        "outputId": "f7faccc0-c682-44f7-adb9-9f98f545a653"
      },
      "source": [
        "from nltk.corpus import stopwords \n",
        "from nltk.stem.wordnet import WordNetLemmatizer\n",
        "import string\n",
        "\n",
        "stop = set(stopwords.words('english'))\n",
        "exclude = set(string.punctuation) \n",
        "lemma = WordNetLemmatizer()\n",
        "def clean(doc):\n",
        "    stop_free = \" \".join([i for i in doc.lower().split() if i not in stop])\n",
        "    punc_free = ''.join(ch for ch in stop_free if ch not in exclude)\n",
        "    normalized = \" \".join(lemma.lemmatize(word) for word in punc_free.split())\n",
        "    return normalized\n",
        "\n",
        "doc_clean = [clean(doc).split() for doc in doc_complete]\n",
        "doc_clean[:3]"
      ],
      "execution_count": 140,
      "outputs": [
        {
          "output_type": "execute_result",
          "data": {
            "text/plain": [
              "[['reach',\n",
              "  'reached',\n",
              "  'apex',\n",
              "  'career',\n",
              "  'build',\n",
              "  'certain',\n",
              "  'level',\n",
              "  'resilience',\n",
              "  'block',\n",
              "  'thing',\n",
              "  'out'],\n",
              " ['time',\n",
              "  'want',\n",
              "  'remain',\n",
              "  'friend',\n",
              "  'european',\n",
              "  'neighbour',\n",
              "  'offer',\n",
              "  'range',\n",
              "  'drink',\n",
              "  'excellent',\n",
              "  'price'],\n",
              " ['homeschooling',\n",
              "  '6yearold',\n",
              "  '8yearold',\n",
              "  '1',\n",
              "  'hour',\n",
              "  '11',\n",
              "  'minute',\n",
              "  'teacher',\n",
              "  'deserve',\n",
              "  'make',\n",
              "  'billion',\n",
              "  'dollar',\n",
              "  'year',\n",
              "  'week']]"
            ]
          },
          "metadata": {},
          "execution_count": 140
        }
      ]
    },
    {
      "cell_type": "code",
      "metadata": {
        "id": "2JvyzZGuiiie"
      },
      "source": [
        "# Importing Gensim\n",
        "import gensim\n",
        "from gensim import corpora\n",
        "\n",
        "# Creating the term dictionary of our courpus, where every unique term is assigned an index. dictionary = corpora.Dictionary(doc_clean)\n",
        "\n",
        "# Converting list of documents (corpus) into Document Term Matrix using dictionary prepared above.\n",
        "doc_term_matrix = [dictionary.doc2bow(doc) for doc in doc_clean]"
      ],
      "execution_count": 141,
      "outputs": []
    },
    {
      "cell_type": "code",
      "metadata": {
        "id": "VtOQlUG5iwsN"
      },
      "source": [
        "# Creating the object for LDA model using gensim library\n",
        "Lda = gensim.models.LdaMulticore\n",
        "# Running and Trainign LDA model on the document term matrix.\n",
        "ldamodel = Lda(doc_term_matrix, num_topics=10, id2word = dictionary, passes=50,workers=4)"
      ],
      "execution_count": 148,
      "outputs": []
    },
    {
      "cell_type": "code",
      "metadata": {
        "colab": {
          "base_uri": "https://localhost:8080/"
        },
        "id": "E8dp7lgki4eB",
        "outputId": "2b22c387-1f46-4356-812d-5e05603b418b"
      },
      "source": [
        "ldamodel.print_topics()\n"
      ],
      "execution_count": 149,
      "outputs": [
        {
          "output_type": "execute_result",
          "data": {
            "text/plain": [
              "[(0,\n",
              "  '0.084*\"get\" + 0.082*\"need\" + 0.035*\"support\" + 0.034*\"help\" + 0.030*\"health\" + 0.022*\"give\" + 0.020*\"public\" + 0.017*\"care\" + 0.016*\"risk\" + 0.015*\"understand\"'),\n",
              " (1,\n",
              "  '0.128*\"know\" + 0.121*\"want\" + 0.078*\"go\" + 0.044*\"take\" + 0.026*\"get\" + 0.026*\"play\" + 0.022*\"say\" + 0.021*\"school\" + 0.019*\"kid\" + 0.016*\"hand\"'),\n",
              " (2,\n",
              "  '0.041*\"life\" + 0.041*\"see\" + 0.034*\"say\" + 0.030*\"child\" + 0.028*\"case\" + 0.028*\"mean\" + 0.019*\"part\" + 0.018*\"fact\" + 0.017*\"woman\" + 0.016*\"kind\"'),\n",
              " (3,\n",
              "  '0.097*\"time\" + 0.075*\"year\" + 0.037*\"lot\" + 0.036*\"week\" + 0.030*\"last\" + 0.025*\"day\" + 0.023*\"get\" + 0.021*\"month\" + 0.020*\"end\" + 0.019*\"night\"'),\n",
              " (4,\n",
              "  '0.083*\"thing\" + 0.080*\"back\" + 0.062*\"way\" + 0.059*\"come\" + 0.045*\"great\" + 0.037*\"work\" + 0.035*\"home\" + 0.018*\"even\" + 0.018*\"go\" + 0.016*\"keep\"'),\n",
              " (5,\n",
              "  '0.073*\"love\" + 0.047*\"best\" + 0.043*\"show\" + 0.029*\"find\" + 0.023*\"friend\" + 0.018*\"girl\" + 0.017*\"move\" + 0.017*\"high\" + 0.017*\"fan\" + 0.016*\"news\"'),\n",
              " (6,\n",
              "  '0.198*\"like\" + 0.080*\"good\" + 0.068*\"feel\" + 0.063*\"look\" + 0.024*\"guy\" + 0.024*\"felt\" + 0.022*\"number\" + 0.022*\"tell\" + 0.021*\"person\" + 0.015*\"state\"'),\n",
              " (7,\n",
              "  '0.151*\"think\" + 0.069*\"right\" + 0.045*\"thought\" + 0.033*\"day\" + 0.022*\"time\" + 0.020*\"idea\" + 0.018*\"human\" + 0.017*\"sort\" + 0.016*\"death\" + 0.015*\"talk\"'),\n",
              " (8,\n",
              "  '0.108*\"make\" + 0.050*\"world\" + 0.045*\"better\" + 0.035*\"sure\" + 0.028*\"game\" + 0.028*\"bit\" + 0.027*\"problem\" + 0.027*\"let\" + 0.022*\"stop\" + 0.022*\"face\"'),\n",
              " (9,\n",
              "  '0.161*\"one\" + 0.040*\"away\" + 0.035*\"player\" + 0.028*\"real\" + 0.025*\"thing\" + 0.022*\"long\" + 0.021*\"club\" + 0.021*\"difficult\" + 0.019*\"point\" + 0.018*\"reason\"')]"
            ]
          },
          "metadata": {},
          "execution_count": 149
        }
      ]
    },
    {
      "cell_type": "code",
      "metadata": {
        "colab": {
          "base_uri": "https://localhost:8080/"
        },
        "id": "w4Ef_g2nkw1W",
        "outputId": "5d587646-e5c7-4d99-994a-9aa680b9aaa9"
      },
      "source": [
        "coherence_model_lda = CoherenceModel(model=ldamodel, texts=doc_clean, dictionary=dictionary, coherence='c_v')\n",
        "coherence_lda = coherence_model_lda.get_coherence()\n",
        "coherence_lda"
      ],
      "execution_count": 152,
      "outputs": [
        {
          "output_type": "execute_result",
          "data": {
            "text/plain": [
              "0.30128445899814255"
            ]
          },
          "metadata": {},
          "execution_count": 152
        }
      ]
    },
    {
      "cell_type": "code",
      "metadata": {
        "colab": {
          "base_uri": "https://localhost:8080/",
          "height": 915
        },
        "id": "ImqLh89XnL86",
        "outputId": "a09c09df-c640-4de8-b3c0-3314588c9ac5"
      },
      "source": [
        "pyLDAvis.enable_notebook()\n",
        "vis = pyLDAvis.gensim_models.prepare(ldamodel, doc_term_matrix, dictionary)\n",
        "vis"
      ],
      "execution_count": 154,
      "outputs": [
        {
          "output_type": "stream",
          "name": "stderr",
          "text": [
            "/usr/local/lib/python3.7/dist-packages/pyLDAvis/_prepare.py:247: FutureWarning: In a future version of pandas all arguments of DataFrame.drop except for the argument 'labels' will be keyword-only\n",
            "  by='saliency', ascending=False).head(R).drop('saliency', 1)\n"
          ]
        },
        {
          "output_type": "execute_result",
          "data": {
            "text/html": [
              "\n",
              "<link rel=\"stylesheet\" type=\"text/css\" href=\"https://cdn.jsdelivr.net/gh/bmabey/pyLDAvis@3.3.1/pyLDAvis/js/ldavis.v1.0.0.css\">\n",
              "\n",
              "\n",
              "<div id=\"ldavis_el6161397874201942562888272399\"></div>\n",
              "<script type=\"text/javascript\">\n",
              "\n",
              "var ldavis_el6161397874201942562888272399_data = {\"mdsDat\": {\"x\": [-0.15932974005159775, 0.1088979350736683, -0.06043375896894616, -0.03819642397827786, 0.08980560558456406, 0.1993277496136448, -0.19351486931021014, -0.016339287945921023, -0.17898905325245934, 0.24877184323553528], \"y\": [-0.019410003837948515, 0.14158462490497936, 0.07497190152580743, 0.17566254625598196, 0.12240304770347304, -0.33199416329751186, -0.012825343976263514, -0.10204600178649863, -0.13042529539785958, 0.0820786879058398], \"topics\": [1, 2, 3, 4, 5, 6, 7, 8, 9, 10], \"cluster\": [1, 1, 1, 1, 1, 1, 1, 1, 1, 1], \"Freq\": [11.506988604712829, 11.395967093057768, 10.696401609880054, 10.405689263280477, 10.075511510320352, 9.446016755083308, 9.315234793095433, 9.30640713212972, 9.0790505410044, 8.772732697435654]}, \"tinfo\": {\"Term\": [\"like\", \"one\", \"think\", \"know\", \"want\", \"make\", \"time\", \"need\", \"thing\", \"back\", \"year\", \"good\", \"get\", \"go\", \"love\", \"feel\", \"right\", \"way\", \"look\", \"come\", \"great\", \"best\", \"world\", \"thought\", \"better\", \"take\", \"show\", \"week\", \"away\", \"see\", \"year\", \"week\", \"last\", \"month\", \"night\", \"past\", \"american\", \"hour\", \"later\", \"die\", \"weekend\", \"sleep\", \"yesterday\", \"recent\", \"late\", \"seven\", \"april\", \"park\", \"sell\", \"quiet\", \"easter\", \"peter\", \"saturday\", \"guest\", \"plant\", \"catch\", \"dear\", \"item\", \"cure\", \"fresh\", \"london\", \"tough\", \"scene\", \"time\", \"brilliant\", \"half\", \"lot\", \"car\", \"huge\", \"end\", \"sunday\", \"wed\", \"fight\", \"stage\", \"period\", \"money\", \"moment\", \"nice\", \"day\", \"team\", \"long\", \"get\", \"result\", \"life\", \"see\", \"start\", \"need\", \"support\", \"help\", \"health\", \"safe\", \"member\", \"patient\", \"staff\", \"turn\", \"worker\", \"local\", \"campaign\", \"border\", \"remain\", \"mental\", \"outbreak\", \"sector\", \"student\", \"parliament\", \"field\", \"track\", \"push\", \"brain\", \"council\", \"knee\", \"suit\", \"talent\", \"driver\", \"zealand\", \"prospect\", \"understand\", \"symptom\", \"impact\", \"risk\", \"access\", \"public\", \"care\", \"get\", \"give\", \"lack\", \"level\", \"hope\", \"place\", \"put\", \"system\", \"home\", \"work\", \"step\", \"take\", \"keep\", \"fact\", \"protect\", \"question\", \"process\", \"act\", \"expect\", \"law\", \"market\", \"option\", \"free\", \"save\", \"european\", \"pain\", \"type\", \"trade\", \"data\", \"lesson\", \"agreement\", \"freedom\", \"modern\", \"apart\", \"citizen\", \"comment\", \"foreign\", \"union\", \"fast\", \"will\", \"lower\", \"press\", \"sexual\", \"case\", \"child\", \"mean\", \"travel\", \"australia\", \"action\", \"kind\", \"vote\", \"see\", \"life\", \"part\", \"say\", \"today\", \"woman\", \"fit\", \"answer\", \"job\", \"wait\", \"young\", \"test\", \"take\", \"place\", \"australian\", \"back\", \"great\", \"heart\", \"food\", \"short\", \"buy\", \"town\", \"upset\", \"visit\", \"york\", \"crew\", \"glad\", \"total\", \"block\", \"sweet\", \"shame\", \"roll\", \"version\", \"price\", \"cricket\", \"interview\", \"respond\", \"wind\", \"gain\", \"tragic\", \"cook\", \"chapter\", \"trend\", \"element\", \"mention\", \"come\", \"thing\", \"hell\", \"way\", \"home\", \"weight\", \"fire\", \"stay\", \"work\", \"dream\", \"learn\", \"true\", \"keep\", \"close\", \"even\", \"live\", \"area\", \"soon\", \"go\", \"lot\", \"put\", \"hard\", \"word\", \"life\", \"job\", \"end\", \"know\", \"want\", \"hand\", \"control\", \"cold\", \"mother\", \"blood\", \"iran\", \"honest\", \"pitch\", \"own\", \"style\", \"lunch\", \"suffer\", \"grant\", \"secret\", \"finger\", \"floor\", \"fish\", \"mile\", \"drop\", \"mountain\", \"vision\", \"smell\", \"cough\", \"urgent\", \"rush\", \"phase\", \"chat\", \"sore\", \"america\", \"go\", \"play\", \"loss\", \"kid\", \"school\", \"take\", \"hear\", \"hurt\", \"meal\", \"win\", \"lead\", \"happen\", \"say\", \"group\", \"walk\", \"get\", \"ill\", \"let\", \"mind\", \"keep\", \"day\", \"woman\", \"job\", \"talk\", \"like\", \"good\", \"feel\", \"look\", \"guy\", \"felt\", \"name\", \"sound\", \"fine\", \"write\", \"kill\", \"daughter\", \"road\", \"size\", \"harder\", \"star\", \"skin\", \"rock\", \"beer\", \"racist\", \"male\", \"okay\", \"suspect\", \"nail\", \"jack\", \"limit\", \"lad\", \"june\", \"river\", \"context\", \"tell\", \"person\", \"number\", \"music\", \"room\", \"matter\", \"state\", \"film\", \"movement\", \"sister\", \"call\", \"record\", \"bit\", \"book\", \"even\", \"power\", \"give\", \"ask\", \"one\", \"away\", \"player\", \"real\", \"club\", \"difficult\", \"reason\", \"term\", \"head\", \"side\", \"season\", \"spread\", \"run\", \"speak\", \"perfect\", \"greatest\", \"planet\", \"dress\", \"direct\", \"danger\", \"progress\", \"contract\", \"writer\", \"english\", \"aspect\", \"peak\", \"girlfriend\", \"shift\", \"hole\", \"explain\", \"wall\", \"point\", \"premier\", \"china\", \"long\", \"ball\", \"normal\", \"deal\", \"set\", \"dog\", \"game\", \"thing\", \"see\", \"match\", \"second\", \"day\", \"even\", \"play\", \"woman\", \"love\", \"best\", \"show\", \"find\", \"girl\", \"high\", \"fan\", \"news\", \"brother\", \"stuff\", \"british\", \"hit\", \"wish\", \"black\", \"stand\", \"nation\", \"street\", \"date\", \"worst\", \"white\", \"miss\", \"truth\", \"race\", \"class\", \"birthday\", \"island\", \"paper\", \"hero\", \"faith\", \"sing\", \"move\", \"respect\", \"boy\", \"friend\", \"labour\", \"forward\", \"power\", \"life\", \"time\", \"day\", \"say\", \"think\", \"thought\", \"idea\", \"human\", \"sort\", \"death\", \"trump\", \"view\", \"right\", \"load\", \"wear\", \"trial\", \"cash\", \"john\", \"northern\", \"score\", \"card\", \"donald\", \"ireland\", \"politician\", \"afraid\", \"super\", \"payment\", \"soul\", \"obvious\", \"usual\", \"wuhan\", \"split\", \"alcohol\", \"rich\", \"prime\", \"meghan\", \"serious\", \"court\", \"be\", \"open\", \"talk\", \"doctor\", \"day\", \"clear\", \"common\", \"concern\", \"water\", \"social\", \"time\", \"light\", \"woman\", \"see\", \"even\", \"say\", \"point\", \"bit\", \"use\", \"friend\", \"make\", \"better\", \"sure\", \"stop\", \"face\", \"bring\", \"relationship\", \"proud\", \"cut\", \"effort\", \"send\", \"earth\", \"mask\", \"have\", \"brexit\", \"train\", \"opinion\", \"hate\", \"factor\", \"racism\", \"box\", \"tool\", \"shock\", \"burn\", \"post\", \"attempt\", \"africa\", \"terrorist\", \"guard\", \"count\", \"problem\", \"world\", \"special\", \"father\", \"game\", \"budget\", \"let\", \"wrong\", \"bit\", \"plan\", \"small\", \"system\", \"role\", \"share\", \"thank\", \"way\", \"work\", \"break\", \"get\"], \"Freq\": [1908.0, 1529.0, 1395.0, 1319.0, 1241.0, 970.0, 1504.0, 954.0, 1117.0, 846.0, 881.0, 769.0, 1584.0, 986.0, 693.0, 651.0, 647.0, 839.0, 606.0, 656.0, 479.0, 448.0, 571.0, 421.0, 401.0, 691.0, 407.0, 420.0, 378.0, 830.0, 880.4029761721797, 419.7520048807334, 356.10736897528415, 245.49210593369153, 227.45332989951092, 169.6749556947103, 136.00052851437601, 135.5989843464076, 98.53020717579349, 75.29440972091156, 63.944622273691095, 59.53883504308144, 52.11375862653952, 47.204623604933985, 45.323111179162424, 41.537544330923495, 40.406800848539575, 35.174266154963085, 32.54932943976184, 32.27334908254138, 32.180411486567635, 31.309658921363308, 31.158851788979295, 30.997037235453384, 29.110714867093513, 29.10249617473223, 27.339489699601735, 26.31680467756911, 26.28425220978521, 24.06078864693208, 87.92901177006239, 98.50501301881759, 72.40640110315898, 1139.4142055564487, 70.0812185897487, 85.66701130773258, 435.9649802432445, 93.96202360984572, 110.38482281655547, 236.6687101030672, 49.435879766426766, 54.993824420301856, 111.09280484873025, 85.4983492095906, 96.74566111676101, 139.057313947811, 175.51845962043228, 91.6709395196452, 289.9320204258823, 135.80471113559068, 137.13729193626284, 265.09600068574946, 82.61181553164364, 133.87484526652506, 113.68144438786334, 87.77598403385991, 953.8050986916909, 401.00231863708234, 395.9060661239789, 345.4388837531354, 166.20371532749502, 150.32879136855658, 150.05104019655792, 146.1488255811849, 130.74273521331392, 122.20666373483209, 97.15387590290072, 85.90175610655699, 78.5148625196074, 76.4875115955014, 66.67513723445452, 58.66007912993706, 56.323950485889036, 49.087958991665566, 46.065562059358854, 44.71780614593731, 41.80445927934888, 40.36806265541678, 34.290167494623496, 34.060768506102406, 28.440472999706234, 27.911317523796843, 27.86492647783096, 25.96253112091725, 25.145380572655107, 24.7544163133789, 178.82945911729365, 97.41616519625559, 136.24678530808688, 188.73565429689916, 76.64196808090384, 236.13909084163797, 198.72099828145872, 978.8777954506374, 261.37761597853734, 58.831701654855515, 124.44551995830093, 140.51015218754137, 145.41501931964316, 146.0211595867006, 111.55590714506907, 149.23233967340724, 135.35459487608483, 84.38957571913916, 101.46471042518958, 85.52831765409202, 196.1737897888249, 151.8188390874311, 147.40558128016824, 126.87892005353669, 123.8353114896593, 112.89441769187982, 109.03604540333488, 98.95988214304381, 94.00502267705689, 85.52948329917251, 79.38766828814036, 60.87968153325501, 60.21957626570981, 56.07570762378825, 55.73509543846474, 54.5798210870363, 50.484690399327576, 48.37761935465604, 47.68126783610321, 44.91938780292836, 43.28739248052096, 48.19506276037536, 41.93400022405071, 39.992010083992895, 39.614968842249, 39.265871439016585, 38.495603059607404, 37.51237145226193, 36.3331825982949, 34.856576954660916, 305.0218401368495, 329.98003971201985, 303.31411259427847, 90.79174022257023, 125.16449980168743, 120.3273974890862, 172.03705680345664, 61.090699914716666, 446.00182131438953, 447.64893870677463, 207.82649739631975, 372.9292167892957, 171.95008205040833, 185.59800917960678, 76.67102243876714, 78.87127854259265, 134.99811074681588, 80.60094273469477, 100.3820473191725, 89.04434390543047, 142.1746754850587, 90.42793713946696, 81.01043193720342, 845.6124022615767, 478.9293555073212, 146.36443235829, 123.93513182659238, 75.1704243227521, 71.8343646101771, 53.017205904188415, 46.422905000513495, 43.528513438007884, 43.38828399795756, 41.73998664240212, 41.40831810681545, 41.0997115764028, 37.67974983386568, 35.32268792516618, 32.54728662712008, 30.122775083924257, 29.944636716444254, 28.76815088796835, 27.70963029105625, 26.603792693703035, 26.505900817183594, 26.310119534103507, 24.61958094340979, 24.00736460920621, 23.609585156784597, 23.602083891955047, 23.68869793666292, 23.249235459788398, 22.686895003327027, 629.4925498426364, 877.3100749358473, 93.62634661654084, 656.3248779428652, 368.73856621466695, 47.736285824680195, 83.31499979764742, 164.2561518466936, 390.6833003521201, 57.359507066035654, 72.96463256987116, 71.11241047712201, 173.3392178013931, 86.39717244672904, 194.7573172065785, 95.46336364301052, 73.51785887841648, 78.07048197071013, 186.58210930283363, 144.60810394540337, 112.46110624883029, 91.89212927469607, 61.80020150603565, 130.0673380210473, 74.41529370329908, 61.01852870948077, 1318.604209180013, 1240.5182073827145, 167.0648922481941, 132.9992978789471, 69.00830281250566, 67.79834696641943, 50.7760105778688, 50.23909957687189, 59.114326912023614, 45.13080634251399, 40.28912708762663, 38.82902572154809, 37.704640813616294, 36.82199739334938, 35.894528481360034, 35.25491561347755, 34.50526588521259, 33.0768745546005, 32.42539463822382, 32.18719987222699, 28.122996445812163, 26.52817944599129, 24.562836457424535, 23.985407210641924, 23.27500340454337, 21.959217497409853, 20.239033572545516, 19.867928820048, 19.244255871192887, 18.858096086395708, 96.12198310718765, 798.6828037627265, 264.97941670712873, 66.71427941107028, 190.63198002045127, 210.63483971695916, 447.2043031704111, 87.22610682066573, 56.74117550444576, 45.812800501481846, 101.85869897970124, 57.03208321197032, 102.20705736012533, 222.6388017122008, 76.22855759145311, 57.29789361862867, 268.5001753202762, 93.92695700631025, 120.10789494242293, 73.33451880740698, 79.77217019803273, 84.4417270264535, 66.03862295434136, 61.35546278617149, 57.51428908050931, 1907.6972484243813, 769.0734225133875, 650.5446174647915, 606.0838132596358, 232.9085465810688, 232.06621004112807, 106.67888240777894, 85.55138332187622, 84.89273390581246, 77.66716891372255, 65.56111031417285, 63.926881462026664, 58.742408579476574, 50.84405507895477, 48.60617711772085, 42.13010958238175, 41.401787131708446, 41.38290361824119, 38.439263870369544, 36.13850215008756, 28.558495717852228, 28.485017729270464, 28.358478906420977, 27.626447914869637, 27.21188954726231, 26.842069097514432, 26.208709060267743, 22.811492789795032, 21.947360164077146, 21.56363156495413, 211.79278747100489, 204.23324752071318, 213.46459949255717, 67.40985157435036, 100.07256750871231, 108.52909004385381, 144.65615266820996, 64.63992580052164, 44.45392524299505, 42.67239512027832, 112.44254686380755, 58.60537194018756, 121.2958249766098, 64.79105668887918, 85.77211101123397, 55.18802551251833, 59.719207753308496, 50.06060676006654, 1528.9193078084115, 377.8075480441244, 336.8011097506528, 266.96891380974733, 203.03450486407615, 200.5265621133254, 172.73654696754696, 153.73717364460737, 145.87054191839422, 142.2456554302896, 138.85668679002504, 138.21543494470947, 118.84151528375044, 98.72966468942232, 93.9011938687235, 54.70715901911245, 53.945193192157646, 46.5274103397555, 46.362633123583045, 45.92130206377308, 40.40466381614859, 36.70323271478268, 34.49384446923133, 33.64130667253797, 31.260912480802112, 30.799736603151143, 27.544465651529983, 27.524762345481932, 26.151883474949337, 25.441436785119386, 47.36065831017086, 179.74919924567598, 49.99047367036572, 98.12582502437081, 206.2910980665128, 53.85404190851666, 73.86754180673691, 101.14457228078831, 87.70809829504087, 65.63564603167384, 137.79357944540575, 239.46360270243227, 148.94590273648316, 54.778105072064726, 65.89413058824763, 91.63280404999448, 78.16027109050316, 56.88378286234981, 55.97833734406318, 692.7835420739749, 447.2670135497568, 407.0149478335877, 270.9220283895657, 170.28677450237083, 161.58066577943035, 157.54498665556636, 149.6524535110923, 138.21797631017793, 137.02839793406525, 136.62214914726798, 117.37608636443066, 113.80177565351761, 103.20675498410013, 96.78364851325608, 95.2261523760362, 93.1293533752922, 92.26771821897232, 86.51024441208828, 81.24083289289231, 71.98012600779482, 68.83950460933154, 61.27035083615584, 59.61646162395833, 51.58983616036034, 49.58621831024212, 41.463946422581856, 38.062642239446284, 36.66499566890371, 32.26367187207423, 162.46763405023927, 99.94982834689883, 124.14597463200879, 213.91216487358707, 59.58018941085143, 85.65073875719563, 77.48627446573867, 125.81758907185366, 143.7114537928245, 100.97052223845313, 75.78441403674277, 1394.5885190839213, 420.80524928761616, 185.83120391046157, 168.10468350924475, 159.9045782517139, 151.1431747884954, 132.53487295692256, 118.40385400842446, 639.2818478601222, 62.78489894036052, 57.21022091298553, 51.28929376824934, 50.21566031120496, 47.91692287739323, 46.81008857200278, 44.94506981498821, 46.07975611077361, 44.20084583951532, 42.31699186151251, 37.520264492501234, 37.23953780751145, 34.31618005150209, 31.270832991229604, 30.89482896583815, 30.578364927341756, 30.271391771366204, 29.352482974055338, 27.253411813076504, 27.03160876793342, 24.596757769177014, 81.7603237966735, 80.03756914472952, 115.64072277933202, 59.28951724698633, 85.01385177029655, 114.6549381722149, 135.55351667357203, 89.50577181823996, 307.8805395140715, 111.63888052709699, 53.69396100211316, 58.001295884371935, 62.69933014350027, 92.94571244809663, 202.13014386434716, 55.91075013920882, 98.374626553595, 121.43207480997917, 99.1248028037097, 99.11050182814014, 68.63119637081498, 74.20684848513352, 64.40285735360708, 62.66856020239387, 970.0928183968813, 400.229856990004, 309.2866309436051, 196.77395600041336, 195.21387595600748, 133.3438307728081, 131.89678902183107, 108.70196591054997, 101.85818900014151, 90.42314661206082, 66.45111131002761, 61.77051717729111, 61.15313368696336, 60.95528960291147, 57.42457336620297, 49.49140666579259, 47.69410529673467, 47.23034510350031, 45.629571773224086, 41.71793539539946, 39.957120964987546, 37.49007332970913, 36.674129426891284, 34.186170831797604, 30.428667926843584, 29.95175144560755, 27.116115346570705, 26.939230116386646, 25.675601763191832, 25.414845717584576, 242.57449704715597, 447.9719812802997, 74.85305666744, 68.96260879077673, 250.7135373736465, 55.23753935035891, 241.96453505262406, 121.33482605891551, 246.06506557372322, 96.87047737892509, 88.19772238956924, 134.97172046623058, 82.06018701342771, 75.82482282906854, 102.43805687086838, 182.71511082539382, 87.99669230984742, 63.01909013918295, 71.33171100623127], \"Total\": [1908.0, 1529.0, 1395.0, 1319.0, 1241.0, 970.0, 1504.0, 954.0, 1117.0, 846.0, 881.0, 769.0, 1584.0, 986.0, 693.0, 651.0, 647.0, 839.0, 606.0, 656.0, 479.0, 448.0, 571.0, 421.0, 401.0, 691.0, 407.0, 420.0, 378.0, 830.0, 881.28774255223, 420.6367781015401, 356.99212705331814, 246.37687552685202, 228.33808543060485, 170.74028847425444, 136.8853116565166, 136.48382152474616, 99.4149542265456, 76.17918573130639, 64.82937280168278, 60.42358023456029, 52.99858110583826, 48.08939821204725, 46.207854448732476, 42.42229587998889, 41.291571433187336, 36.05902112663707, 33.434090027242355, 33.158243519056235, 33.06513773740658, 32.19442269261108, 32.04359006693585, 31.88178261265496, 29.99546453647546, 29.98726171499781, 28.22427266881073, 27.201557373115197, 27.169020677489467, 24.945582569251297, 96.28941463708192, 109.13853137975599, 79.24716928062618, 1504.7143757012282, 78.91751782351109, 100.55793651739046, 635.2362781233858, 116.02140641944091, 142.96843799485228, 373.146184074947, 55.83950675865068, 64.76529748138579, 158.27902930052286, 113.30048812268696, 134.18189129211433, 226.87436804552766, 334.73432621068287, 135.8065541996009, 875.3472404618184, 293.82614391628044, 344.2125975447755, 1584.3949538786405, 134.4773995193734, 838.0001219935699, 830.6487611409003, 264.0130290500824, 954.6871809008502, 401.88439726530925, 396.7885145473439, 346.3209419591651, 167.08579340152602, 151.21086159533957, 150.9330922791928, 147.03089794829984, 131.62486594086707, 123.08872438091096, 98.037417669801, 86.78382890512263, 79.3969084844886, 77.36959026560444, 67.55718691377335, 59.54213289223963, 57.20601587085626, 49.97002831150886, 46.94762410386983, 45.59989058606811, 42.68653198618923, 41.250168699592784, 35.172223798997265, 34.942822790176294, 29.322561520243426, 28.793396033225353, 28.7469990833854, 26.84459496341838, 26.02747215648295, 25.636503513108917, 187.17265848047512, 106.70640007678989, 156.69965333506056, 225.42317082012602, 86.41899578671477, 302.5442655210015, 257.81929896635785, 1584.3949538786405, 355.3947617758848, 65.50786098372308, 215.29071319942207, 268.440297651886, 379.8491036723477, 431.3694977813155, 247.30947512975604, 518.7573672943223, 717.2686397941551, 158.84870589871701, 691.5300987207113, 377.69484114552625, 197.05595086138723, 152.70096613158765, 148.28770505482564, 127.76106487676316, 124.7174563877025, 113.77742066738996, 109.91817453146093, 99.8420228782952, 94.88716981561288, 86.42717430173619, 80.47239079444645, 61.76180332232172, 61.101726123024925, 56.95786384908856, 56.61721360880071, 55.46195118409386, 51.36683091815617, 49.25972632904042, 48.563376861867795, 45.80152588692011, 44.169537525572956, 49.18483905241337, 42.81612020354531, 40.87413372052191, 40.49707111971556, 40.1480076232996, 39.37775351168046, 38.394492455872715, 37.215329091724506, 35.73870958011217, 349.94520674411626, 383.9374801104778, 351.3293252170493, 100.45601997406845, 152.0031114349878, 148.56081288615516, 227.86978465823213, 67.30589430554062, 830.6487611409003, 838.0001219935699, 343.2146634246788, 771.0505852974264, 284.5963147522457, 406.5759152381867, 99.96660579025735, 107.0565653601612, 293.432042660586, 117.84252908123275, 205.86321860737138, 172.15218554111135, 691.5300987207113, 379.8491036723477, 149.7284173733743, 846.501310455046, 479.81444518809985, 147.24952150000894, 124.82020914482187, 76.05551304686884, 72.7194307542635, 53.90228503164566, 47.307996575578194, 44.41360152344301, 44.27336259759538, 42.6250794979406, 42.2933757917282, 41.984770396915, 38.56483028702157, 36.20776562442171, 33.43237186670156, 31.007857657773542, 30.829716433292898, 29.65323443845059, 28.594737770647342, 27.48886645839339, 27.39097817980573, 27.19520483150305, 25.504629968951903, 24.892449674905585, 24.49465901257063, 24.48719121687595, 24.579099840288166, 24.134309881088118, 23.572016476489356, 656.6453724277309, 1117.5581672339142, 104.81381946831733, 839.840554508652, 518.7573672943223, 54.59860316805751, 103.6929552303142, 245.57064388964562, 717.2686397941551, 70.50913751471813, 96.14876888475087, 93.79989259586799, 377.69484114552625, 140.35532750599458, 553.6680114469439, 183.75189955232085, 125.20529906237208, 141.06054602828303, 986.0532658847135, 635.2362781233858, 431.3694977813155, 293.6504120650744, 106.75076602881812, 838.0001219935699, 293.432042660586, 373.146184074947, 1319.487799884617, 1241.4017994378216, 167.94853420874287, 133.88289843232934, 69.89199819278902, 68.68193508767928, 51.65957094904114, 51.1226627200487, 60.23046951825564, 46.01440100528894, 41.172696857815374, 39.712633740219125, 38.588217142290056, 37.705582910893376, 36.77809918938525, 36.13850710019566, 35.38883364461196, 33.960452360890656, 33.30895608663809, 33.07076886166271, 29.006593958880647, 27.41174635937087, 25.44646397437694, 24.868956504719772, 24.158559867169984, 22.8428172886108, 21.122590098749146, 20.75150980690718, 20.127853382893427, 19.7416785378279, 104.34462450295173, 986.0532658847135, 322.6461739133151, 75.69816391582913, 242.5237330262762, 285.4719485134984, 691.5300987207113, 115.33161465311635, 69.74950309350547, 53.748616205181364, 172.29688874549507, 77.91801864928996, 199.26444481918477, 771.0505852974264, 134.9299877227302, 85.2880216510568, 1584.3949538786405, 230.0249536713402, 386.9590902448564, 160.10119016485757, 377.69484114552625, 875.3472404618184, 406.5759152381867, 293.432042660586, 213.7210547015854, 1908.5814833759362, 769.9576692275958, 651.4288395646602, 606.968039139436, 233.79279912362435, 232.95043709417487, 107.56309720403398, 86.43560873488497, 85.77697183723853, 78.55140533516803, 66.44531963684868, 64.81110092449418, 59.62662528792208, 51.728272960192186, 49.490424143052735, 43.014330086795596, 42.286007886093536, 42.26712235374575, 39.32348398474636, 37.02271756940667, 29.44272950944459, 29.369221171140964, 29.242794929877718, 28.510653771629393, 28.096108953493218, 27.72630352639859, 27.092927234699598, 23.69573018223081, 22.83157762550443, 22.447868429860026, 245.7429683849596, 261.9939626939804, 281.3688160402552, 78.88039821545576, 130.90764095759673, 146.8331179674118, 239.3833670031559, 85.62922607100788, 52.888165983172314, 50.435199659721825, 198.112832705695, 79.59478727197826, 442.2797674037026, 121.14000974164017, 553.6680114469439, 177.60289226022888, 355.3947617758848, 115.98636140058781, 1529.7994037818514, 378.68764082933774, 337.6811870845386, 267.8490207842996, 203.9145731181489, 201.40664992854948, 173.61664608623406, 154.6172719093875, 146.75236459622957, 143.12574590771086, 139.73675009463858, 139.09552585400078, 119.72160240260354, 99.60974942326602, 94.78127604942395, 55.59626434178423, 54.825267209467405, 47.407477623704, 47.242718789997504, 46.801393723546276, 41.2847680565494, 37.58330865227776, 35.38859359500649, 34.521388731339584, 32.14097589958954, 31.679809985395224, 28.424547862336812, 28.4048509580868, 27.031938452158034, 26.32151499007388, 53.175914415412386, 249.16241414987925, 57.187002824377295, 130.58995021442536, 344.2125975447755, 63.71426236361545, 105.81296821791268, 177.5436802179838, 155.83719376181276, 98.38421096744635, 389.2869963903023, 1117.5581672339142, 830.6487611409003, 72.35231082789093, 153.8690702187995, 875.3472404618184, 553.6680114469439, 322.6461739133151, 406.5759152381867, 693.6649299637006, 448.2248491258349, 407.8963692262808, 271.8037180514067, 171.16816970211963, 162.4620810102876, 158.42640719328116, 150.53384712961474, 139.09936253697865, 137.90980494980042, 137.50355067020013, 118.25751339471289, 114.68389228070897, 104.08816024715865, 97.66505478402746, 96.10755229923703, 94.01076096481796, 93.14912224284181, 87.39164360766618, 82.18567897844316, 72.86151112036482, 69.72090230648736, 62.151760887563675, 60.49787471808446, 52.47121511884098, 50.46760647319332, 42.3453605453226, 38.94403125567178, 37.546388576978835, 33.14505859351318, 174.72487322838936, 110.61790500202981, 158.5409373945722, 334.12863744571973, 78.2319017772673, 194.9489505769907, 177.60289226022888, 838.0001219935699, 1504.7143757012282, 875.3472404618184, 771.0505852974264, 1395.4711554289925, 421.687887905291, 186.7140023104259, 168.9872859771159, 160.78719239084708, 152.0258019069665, 133.4174754450185, 119.2864668464572, 647.9770245816322, 63.66754608037875, 58.092836223154336, 52.171890850720764, 51.098297748042825, 48.79954662320104, 47.692693104521496, 45.82769301541007, 46.994965884223525, 45.0834311802646, 43.19961812170209, 38.4028998547669, 38.12216116817536, 35.19881503728185, 32.15343211589964, 31.777433636565828, 31.460979981085185, 31.154028635220655, 30.235094597304965, 28.136033074780432, 27.914230475786447, 25.479369725477877, 87.23634740394664, 87.47407169400759, 142.1637792215953, 69.29132597010569, 109.47053919573918, 158.23301973222956, 213.7210547015854, 128.2943302914553, 875.3472404618184, 209.20526195981643, 68.75165095463285, 78.66375172597739, 91.28858632116146, 207.75095076654338, 1504.7143757012282, 78.70565656898859, 406.5759152381867, 830.6487611409003, 553.6680114469439, 771.0505852974264, 249.16241414987925, 442.2797674037026, 212.23205506009478, 334.12863744571973, 970.9733080203888, 401.11035217269574, 310.1671093068465, 197.65470024370848, 196.0943545262626, 134.2243316841301, 132.77729042125645, 109.5824505220366, 102.73866274644529, 91.30362351954412, 67.33158613756409, 62.65098210706345, 62.03360035317273, 61.83577175102291, 58.30502078229406, 50.371897086539406, 48.574608406117136, 48.11080469549446, 46.51006846042493, 42.59842316686513, 40.83762119760246, 38.370552963892294, 37.5546046303085, 35.066629094281225, 31.30915802999707, 30.832215119173572, 27.996596544357814, 27.819669383383147, 26.556060720211516, 26.306071160792392, 263.32717894509364, 571.0059365165471, 86.5752000318195, 79.95901232295769, 389.2869963903023, 64.20806628175255, 386.9590902448564, 167.92764277726351, 442.2797674037026, 134.47094155610958, 126.41754988176754, 247.30947512975604, 120.28569019770813, 109.85887280457904, 208.49685087784297, 839.840554508652, 717.2686397941551, 101.8784250899248, 1584.3949538786405], \"Category\": [\"Default\", \"Default\", \"Default\", \"Default\", \"Default\", \"Default\", \"Default\", \"Default\", \"Default\", \"Default\", \"Default\", \"Default\", \"Default\", \"Default\", \"Default\", \"Default\", \"Default\", \"Default\", \"Default\", \"Default\", \"Default\", \"Default\", \"Default\", \"Default\", \"Default\", \"Default\", \"Default\", \"Default\", \"Default\", \"Default\", \"Topic1\", \"Topic1\", \"Topic1\", \"Topic1\", \"Topic1\", \"Topic1\", \"Topic1\", \"Topic1\", \"Topic1\", \"Topic1\", \"Topic1\", \"Topic1\", \"Topic1\", \"Topic1\", \"Topic1\", \"Topic1\", \"Topic1\", \"Topic1\", \"Topic1\", \"Topic1\", \"Topic1\", \"Topic1\", \"Topic1\", \"Topic1\", \"Topic1\", \"Topic1\", \"Topic1\", \"Topic1\", \"Topic1\", \"Topic1\", \"Topic1\", \"Topic1\", \"Topic1\", \"Topic1\", \"Topic1\", \"Topic1\", \"Topic1\", \"Topic1\", \"Topic1\", \"Topic1\", \"Topic1\", \"Topic1\", \"Topic1\", \"Topic1\", \"Topic1\", \"Topic1\", \"Topic1\", \"Topic1\", \"Topic1\", \"Topic1\", \"Topic1\", \"Topic1\", \"Topic1\", \"Topic1\", \"Topic1\", \"Topic1\", \"Topic2\", \"Topic2\", \"Topic2\", \"Topic2\", \"Topic2\", \"Topic2\", \"Topic2\", \"Topic2\", \"Topic2\", \"Topic2\", \"Topic2\", \"Topic2\", \"Topic2\", \"Topic2\", \"Topic2\", \"Topic2\", \"Topic2\", \"Topic2\", \"Topic2\", \"Topic2\", \"Topic2\", \"Topic2\", \"Topic2\", \"Topic2\", \"Topic2\", \"Topic2\", \"Topic2\", \"Topic2\", \"Topic2\", \"Topic2\", \"Topic2\", \"Topic2\", \"Topic2\", \"Topic2\", \"Topic2\", \"Topic2\", \"Topic2\", \"Topic2\", \"Topic2\", \"Topic2\", \"Topic2\", \"Topic2\", \"Topic2\", \"Topic2\", \"Topic2\", \"Topic2\", \"Topic2\", \"Topic2\", \"Topic2\", \"Topic2\", \"Topic3\", \"Topic3\", \"Topic3\", \"Topic3\", \"Topic3\", \"Topic3\", \"Topic3\", \"Topic3\", \"Topic3\", \"Topic3\", \"Topic3\", \"Topic3\", \"Topic3\", \"Topic3\", \"Topic3\", \"Topic3\", \"Topic3\", \"Topic3\", \"Topic3\", \"Topic3\", \"Topic3\", \"Topic3\", \"Topic3\", \"Topic3\", \"Topic3\", \"Topic3\", \"Topic3\", \"Topic3\", \"Topic3\", \"Topic3\", \"Topic3\", \"Topic3\", \"Topic3\", \"Topic3\", \"Topic3\", \"Topic3\", \"Topic3\", \"Topic3\", \"Topic3\", \"Topic3\", \"Topic3\", \"Topic3\", \"Topic3\", \"Topic3\", \"Topic3\", \"Topic3\", \"Topic3\", \"Topic3\", \"Topic3\", \"Topic3\", \"Topic3\", \"Topic3\", \"Topic3\", \"Topic4\", \"Topic4\", \"Topic4\", \"Topic4\", \"Topic4\", \"Topic4\", \"Topic4\", \"Topic4\", \"Topic4\", \"Topic4\", \"Topic4\", \"Topic4\", \"Topic4\", \"Topic4\", \"Topic4\", \"Topic4\", \"Topic4\", \"Topic4\", \"Topic4\", \"Topic4\", \"Topic4\", \"Topic4\", \"Topic4\", \"Topic4\", \"Topic4\", \"Topic4\", \"Topic4\", \"Topic4\", \"Topic4\", \"Topic4\", \"Topic4\", \"Topic4\", \"Topic4\", \"Topic4\", \"Topic4\", \"Topic4\", \"Topic4\", \"Topic4\", \"Topic4\", \"Topic4\", \"Topic4\", \"Topic4\", \"Topic4\", \"Topic4\", \"Topic4\", \"Topic4\", \"Topic4\", \"Topic4\", \"Topic4\", \"Topic4\", \"Topic4\", \"Topic4\", \"Topic4\", \"Topic4\", \"Topic4\", \"Topic4\", \"Topic5\", \"Topic5\", \"Topic5\", \"Topic5\", \"Topic5\", \"Topic5\", \"Topic5\", \"Topic5\", \"Topic5\", \"Topic5\", \"Topic5\", \"Topic5\", \"Topic5\", \"Topic5\", \"Topic5\", \"Topic5\", \"Topic5\", \"Topic5\", \"Topic5\", \"Topic5\", \"Topic5\", \"Topic5\", \"Topic5\", \"Topic5\", \"Topic5\", \"Topic5\", \"Topic5\", \"Topic5\", \"Topic5\", \"Topic5\", \"Topic5\", \"Topic5\", \"Topic5\", \"Topic5\", \"Topic5\", \"Topic5\", \"Topic5\", \"Topic5\", \"Topic5\", \"Topic5\", \"Topic5\", \"Topic5\", \"Topic5\", \"Topic5\", \"Topic5\", \"Topic5\", \"Topic5\", \"Topic5\", \"Topic5\", \"Topic5\", \"Topic5\", \"Topic5\", \"Topic5\", \"Topic5\", \"Topic5\", \"Topic6\", \"Topic6\", \"Topic6\", \"Topic6\", \"Topic6\", \"Topic6\", \"Topic6\", \"Topic6\", \"Topic6\", \"Topic6\", \"Topic6\", \"Topic6\", \"Topic6\", \"Topic6\", \"Topic6\", \"Topic6\", \"Topic6\", \"Topic6\", \"Topic6\", \"Topic6\", \"Topic6\", \"Topic6\", \"Topic6\", \"Topic6\", \"Topic6\", \"Topic6\", \"Topic6\", \"Topic6\", \"Topic6\", \"Topic6\", \"Topic6\", \"Topic6\", \"Topic6\", \"Topic6\", \"Topic6\", \"Topic6\", \"Topic6\", \"Topic6\", \"Topic6\", \"Topic6\", \"Topic6\", \"Topic6\", \"Topic6\", \"Topic6\", \"Topic6\", \"Topic6\", \"Topic6\", \"Topic6\", \"Topic7\", \"Topic7\", \"Topic7\", \"Topic7\", \"Topic7\", \"Topic7\", \"Topic7\", \"Topic7\", \"Topic7\", \"Topic7\", \"Topic7\", \"Topic7\", \"Topic7\", \"Topic7\", \"Topic7\", \"Topic7\", \"Topic7\", \"Topic7\", \"Topic7\", \"Topic7\", \"Topic7\", \"Topic7\", \"Topic7\", \"Topic7\", \"Topic7\", \"Topic7\", \"Topic7\", \"Topic7\", \"Topic7\", \"Topic7\", \"Topic7\", \"Topic7\", \"Topic7\", \"Topic7\", \"Topic7\", \"Topic7\", \"Topic7\", \"Topic7\", \"Topic7\", \"Topic7\", \"Topic7\", \"Topic7\", \"Topic7\", \"Topic7\", \"Topic7\", \"Topic7\", \"Topic7\", \"Topic7\", \"Topic7\", \"Topic8\", \"Topic8\", \"Topic8\", \"Topic8\", \"Topic8\", \"Topic8\", \"Topic8\", \"Topic8\", \"Topic8\", \"Topic8\", \"Topic8\", \"Topic8\", \"Topic8\", \"Topic8\", \"Topic8\", \"Topic8\", \"Topic8\", \"Topic8\", \"Topic8\", \"Topic8\", \"Topic8\", \"Topic8\", \"Topic8\", \"Topic8\", \"Topic8\", \"Topic8\", \"Topic8\", \"Topic8\", \"Topic8\", \"Topic8\", \"Topic8\", \"Topic8\", \"Topic8\", \"Topic8\", \"Topic8\", \"Topic8\", \"Topic8\", \"Topic8\", \"Topic8\", \"Topic8\", \"Topic8\", \"Topic9\", \"Topic9\", \"Topic9\", \"Topic9\", \"Topic9\", \"Topic9\", \"Topic9\", \"Topic9\", \"Topic9\", \"Topic9\", \"Topic9\", \"Topic9\", \"Topic9\", \"Topic9\", \"Topic9\", \"Topic9\", \"Topic9\", \"Topic9\", \"Topic9\", \"Topic9\", \"Topic9\", \"Topic9\", \"Topic9\", \"Topic9\", \"Topic9\", \"Topic9\", \"Topic9\", \"Topic9\", \"Topic9\", \"Topic9\", \"Topic9\", \"Topic9\", \"Topic9\", \"Topic9\", \"Topic9\", \"Topic9\", \"Topic9\", \"Topic9\", \"Topic9\", \"Topic9\", \"Topic9\", \"Topic9\", \"Topic9\", \"Topic9\", \"Topic9\", \"Topic9\", \"Topic9\", \"Topic9\", \"Topic9\", \"Topic9\", \"Topic9\", \"Topic9\", \"Topic9\", \"Topic9\", \"Topic10\", \"Topic10\", \"Topic10\", \"Topic10\", \"Topic10\", \"Topic10\", \"Topic10\", \"Topic10\", \"Topic10\", \"Topic10\", \"Topic10\", \"Topic10\", \"Topic10\", \"Topic10\", \"Topic10\", \"Topic10\", \"Topic10\", \"Topic10\", \"Topic10\", \"Topic10\", \"Topic10\", \"Topic10\", \"Topic10\", \"Topic10\", \"Topic10\", \"Topic10\", \"Topic10\", \"Topic10\", \"Topic10\", \"Topic10\", \"Topic10\", \"Topic10\", \"Topic10\", \"Topic10\", \"Topic10\", \"Topic10\", \"Topic10\", \"Topic10\", \"Topic10\", \"Topic10\", \"Topic10\", \"Topic10\", \"Topic10\", \"Topic10\", \"Topic10\", \"Topic10\", \"Topic10\", \"Topic10\", \"Topic10\"], \"logprob\": [30.0, 29.0, 28.0, 27.0, 26.0, 25.0, 24.0, 23.0, 22.0, 21.0, 20.0, 19.0, 18.0, 17.0, 16.0, 15.0, 14.0, 13.0, 12.0, 11.0, 10.0, 9.0, 8.0, 7.0, 6.0, 5.0, 4.0, 3.0, 2.0, 1.0, -2.5896, -3.3303, -3.4948, -3.8667, -3.9431, -4.2361, -4.4573, -4.4603, -4.7796, -5.0486, -5.212, -5.2834, -5.4166, -5.5155, -5.5562, -5.6434, -5.671, -5.8097, -5.8872, -5.8958, -5.8986, -5.9261, -5.9309, -5.9361, -5.9989, -5.9992, -6.0617, -6.0998, -6.101, -6.1894, -4.8935, -4.7799, -5.0877, -2.3317, -5.1203, -4.9195, -3.2924, -4.8271, -4.666, -3.9033, -5.4693, -5.3628, -4.6596, -4.9215, -4.7979, -4.4351, -4.2023, -4.8518, -3.7004, -4.4588, -4.449, -3.7899, -4.9558, -4.4731, -4.6366, -4.8952, -2.4998, -3.3663, -3.3791, -3.5155, -4.2471, -4.3475, -4.3493, -4.3757, -4.4871, -4.5546, -4.784, -4.9071, -4.997, -5.0232, -5.1605, -5.2885, -5.3292, -5.4667, -5.5302, -5.5599, -5.6273, -5.6623, -5.8254, -5.8322, -6.0125, -6.0313, -6.0329, -6.1037, -6.1356, -6.1513, -4.1739, -4.7813, -4.4458, -4.12, -5.0212, -3.8959, -4.0684, -2.4739, -3.7943, -5.2856, -4.5364, -4.415, -4.3807, -4.3766, -4.6458, -4.3548, -4.4524, -4.9249, -4.7406, -4.9115, -4.018, -4.2743, -4.3038, -4.4537, -4.478, -4.5705, -4.6053, -4.7022, -4.7536, -4.8481, -4.9226, -5.1881, -5.199, -5.2703, -5.2763, -5.2973, -5.3753, -5.4179, -5.4324, -5.4921, -5.5291, -5.4217, -5.5609, -5.6083, -5.6177, -5.6266, -5.6464, -5.6723, -5.7042, -5.7457, -3.5766, -3.4979, -3.5822, -4.7884, -4.4673, -4.5067, -4.1492, -5.1846, -3.1966, -3.1929, -3.9603, -3.3756, -4.1498, -4.0734, -4.9574, -4.9291, -4.3917, -4.9074, -4.688, -4.8078, -4.3399, -4.7924, -4.9024, -2.5293, -3.0978, -4.2833, -4.4496, -4.9496, -4.995, -5.2988, -5.4316, -5.496, -5.4992, -5.5379, -5.5459, -5.5534, -5.6403, -5.7049, -5.7867, -5.8641, -5.8701, -5.9101, -5.9476, -5.9883, -5.992, -5.9994, -6.0659, -6.091, -6.1077, -6.1081, -6.1044, -6.1231, -6.1476, -2.8245, -2.4925, -4.7301, -2.7827, -3.3593, -5.4037, -4.8468, -4.168, -3.3015, -5.2201, -4.9794, -5.0051, -4.1142, -4.8104, -3.9976, -4.7107, -4.9719, -4.9118, -4.0405, -4.2954, -4.5468, -4.7488, -5.1455, -4.4013, -4.9597, -5.1582, -2.0528, -2.1139, -4.1188, -4.3468, -5.0029, -5.0206, -5.3097, -5.3204, -5.1577, -5.4276, -5.5411, -5.578, -5.6074, -5.6311, -5.6566, -5.6746, -5.696, -5.7383, -5.7582, -5.7656, -5.9006, -5.9589, -6.0359, -6.0597, -6.0898, -6.148, -6.2295, -6.248, -6.2799, -6.3002, -4.6715, -2.5542, -3.6575, -5.0367, -3.9868, -3.887, -3.1341, -4.7687, -5.1987, -5.4126, -4.6136, -5.1935, -4.6102, -3.8316, -4.9034, -5.1889, -3.6443, -4.6946, -4.4488, -4.9421, -4.858, -4.8011, -5.0469, -5.1205, -5.1851, -1.619, -2.5275, -2.6948, -2.7656, -3.722, -3.7256, -4.5028, -4.7235, -4.7313, -4.8202, -4.9897, -5.0149, -5.0995, -5.2439, -5.2889, -5.4319, -5.4493, -5.4498, -5.5236, -5.5853, -5.8207, -5.8233, -5.8277, -5.8539, -5.869, -5.8827, -5.9065, -6.0454, -6.084, -6.1016, -3.817, -3.8534, -3.8092, -4.9618, -4.5667, -4.4856, -4.1983, -5.0038, -5.3782, -5.4191, -4.4502, -5.1018, -4.3744, -5.0015, -4.7209, -5.1619, -5.083, -5.2594, -1.8264, -3.2243, -3.3392, -3.5716, -3.8453, -3.8578, -4.0069, -4.1235, -4.176, -4.2011, -4.2253, -4.2299, -4.3809, -4.5663, -4.6165, -5.1567, -5.1707, -5.3187, -5.3222, -5.3318, -5.4598, -5.5558, -5.6179, -5.6429, -5.7163, -5.7312, -5.8429, -5.8436, -5.8948, -5.9223, -5.3009, -3.9671, -5.2469, -4.5724, -3.8294, -5.1724, -4.8564, -4.5421, -4.6847, -4.9746, -4.2329, -3.6803, -4.1551, -5.1554, -4.9706, -4.6409, -4.7999, -5.1177, -5.1337, -2.617, -3.0546, -3.1489, -3.5559, -4.0203, -4.0727, -4.098, -4.1494, -4.2289, -4.2376, -4.2405, -4.3924, -4.4233, -4.521, -4.5853, -4.6015, -4.6238, -4.6331, -4.6975, -4.7603, -4.8814, -4.926, -5.0425, -5.0698, -5.2144, -5.254, -5.4329, -5.5185, -5.5559, -5.6838, -4.0673, -4.5531, -4.3363, -3.7922, -5.0704, -4.7075, -4.8077, -4.3229, -4.1899, -4.5429, -4.8299, -1.8927, -3.0908, -3.9082, -4.0084, -4.0584, -4.1148, -4.2462, -4.3589, -2.6727, -4.9933, -5.0863, -5.1955, -5.2167, -5.2635, -5.2869, -5.3276, -5.3026, -5.3443, -5.3878, -5.5081, -5.5156, -5.5974, -5.6903, -5.7024, -5.7127, -5.7228, -5.7536, -5.8278, -5.836, -5.9304, -4.7292, -4.7505, -4.3825, -5.0506, -4.6902, -4.3911, -4.2237, -4.6387, -3.4033, -4.4177, -5.1497, -5.0726, -4.9947, -4.601, -3.8241, -5.1093, -4.5442, -4.3337, -4.5366, -4.5368, -4.9043, -4.8262, -4.9679, -4.9952, -2.2213, -3.1067, -3.3644, -3.8166, -3.8246, -4.2058, -4.2167, -4.4101, -4.4751, -4.5942, -4.9022, -4.9753, -4.9853, -4.9886, -5.0482, -5.1969, -5.2339, -5.2437, -5.2781, -5.3678, -5.4109, -5.4746, -5.4966, -5.5669, -5.6833, -5.6991, -5.7986, -5.8051, -5.8532, -5.8634, -3.6074, -2.994, -4.7832, -4.8651, -3.5744, -5.0871, -3.6099, -4.3001, -3.5931, -4.5253, -4.6191, -4.1936, -4.6912, -4.7703, -4.4694, -3.8908, -4.6214, -4.9553, -4.8314], \"loglift\": [30.0, 29.0, 28.0, 27.0, 26.0, 25.0, 24.0, 23.0, 22.0, 21.0, 20.0, 19.0, 18.0, 17.0, 16.0, 15.0, 14.0, 13.0, 12.0, 11.0, 10.0, 9.0, 8.0, 7.0, 6.0, 5.0, 4.0, 3.0, 2.0, 1.0, 2.1612, 2.1601, 2.1597, 2.1586, 2.1583, 2.156, 2.1557, 2.1557, 2.1533, 2.1505, 2.1485, 2.1475, 2.1454, 2.1436, 2.1429, 2.1411, 2.1406, 2.1374, 2.1354, 2.1352, 2.1351, 2.1343, 2.1342, 2.1341, 2.1323, 2.1323, 2.1304, 2.1291, 2.1291, 2.1261, 2.0714, 2.0597, 2.0719, 1.8841, 2.0435, 2.0019, 1.7858, 1.9513, 1.9036, 1.7069, 2.0404, 1.9987, 1.8082, 1.8807, 1.8351, 1.6727, 1.5166, 1.7692, 1.0572, 1.3904, 1.2419, 0.3743, 1.675, 0.3281, 0.1734, 1.061, 2.171, 2.1697, 2.1697, 2.1694, 2.1666, 2.1661, 2.166, 2.1659, 2.1652, 2.1647, 2.1629, 2.1617, 2.1607, 2.1604, 2.1588, 2.157, 2.1564, 2.1541, 2.1529, 2.1524, 2.151, 2.1503, 2.1465, 2.1463, 2.1414, 2.1408, 2.1407, 2.1385, 2.1374, 2.1369, 2.1263, 2.0808, 2.032, 1.9943, 2.0518, 1.9241, 1.9116, 1.6904, 1.8646, 2.0644, 1.6238, 1.5246, 1.2117, 1.0887, 1.3758, 0.926, 0.5044, 1.5394, 0.2527, 0.6867, 2.2308, 2.2295, 2.2293, 2.2283, 2.2282, 2.2275, 2.2272, 2.2264, 2.2259, 2.2248, 2.2217, 2.2209, 2.2207, 2.2197, 2.2196, 2.2192, 2.2179, 2.2172, 2.2169, 2.2158, 2.2151, 2.2149, 2.2144, 2.2134, 2.2132, 2.213, 2.2126, 2.212, 2.2113, 2.2103, 2.0979, 2.0838, 2.0883, 2.1341, 2.041, 2.0245, 1.9542, 2.1384, 1.6134, 1.6083, 1.7336, 1.5089, 1.7314, 1.4511, 1.97, 1.9297, 1.4589, 1.8554, 1.517, 1.576, 0.6534, 0.8, 1.621, 2.2618, 2.261, 2.2568, 2.2557, 2.2511, 2.2506, 2.2463, 2.2439, 2.2427, 2.2426, 2.2418, 2.2417, 2.2415, 2.2396, 2.2381, 2.236, 2.2339, 2.2337, 2.2325, 2.2314, 2.2301, 2.23, 2.2297, 2.2275, 2.2266, 2.226, 2.226, 2.2259, 2.2255, 2.2245, 2.2206, 2.0208, 2.1499, 2.0163, 1.9215, 2.1285, 2.044, 1.8607, 1.6553, 2.0564, 1.9869, 1.9859, 1.484, 1.7776, 1.218, 1.608, 1.7304, 1.6712, 0.598, 0.7828, 0.9185, 1.101, 1.7162, 0.3999, 0.8908, 0.452, 2.2944, 2.2944, 2.2898, 2.2884, 2.2823, 2.2821, 2.2778, 2.2776, 2.2764, 2.2757, 2.2734, 2.2726, 2.2719, 2.2713, 2.2707, 2.2703, 2.2698, 2.2687, 2.2682, 2.268, 2.2641, 2.2623, 2.2597, 2.2589, 2.2578, 2.2556, 2.2523, 2.2516, 2.2502, 2.2493, 2.213, 2.0843, 2.0982, 2.1687, 2.0543, 1.991, 1.8592, 2.0158, 2.0887, 2.1353, 1.7694, 1.983, 1.6274, 1.0529, 1.724, 1.8973, 0.52, 1.3994, 1.1251, 1.5143, 0.7402, -0.0435, 0.4775, 0.7301, 0.9824, 2.3591, 2.3584, 2.3582, 2.3581, 2.3558, 2.3558, 2.3513, 2.3493, 2.3492, 2.3483, 2.3462, 2.3458, 2.3446, 2.3423, 2.3415, 2.3388, 2.3384, 2.3384, 2.3368, 2.3354, 2.3291, 2.329, 2.3289, 2.3281, 2.3276, 2.3272, 2.3264, 2.3215, 2.3201, 2.3194, 2.2109, 2.1105, 2.0834, 2.2024, 2.091, 2.0573, 1.8559, 2.0784, 2.1859, 2.1924, 1.7932, 2.0535, 1.0659, 1.7338, 0.4947, 1.1908, 0.576, 1.5193, 2.3729, 2.3712, 2.3709, 2.3702, 2.3692, 2.3691, 2.3684, 2.3678, 2.3675, 2.3674, 2.3672, 2.3672, 2.3661, 2.3646, 2.3642, 2.3574, 2.3573, 2.3548, 2.3547, 2.3545, 2.352, 2.3498, 2.3479, 2.3477, 2.3458, 2.3453, 2.3421, 2.342, 2.3404, 2.3395, 2.2577, 2.047, 2.239, 2.0877, 1.8615, 2.2054, 2.0141, 1.8109, 1.7987, 1.9688, 1.335, 0.833, 0.6549, 2.0953, 1.5255, 0.1167, 0.4157, 0.638, 0.3907, 2.3732, 2.3723, 2.3723, 2.3712, 2.3693, 2.369, 2.3689, 2.3686, 2.3681, 2.3681, 2.368, 2.367, 2.3667, 2.366, 2.3654, 2.3653, 2.365, 2.365, 2.3643, 2.3629, 2.3623, 2.3617, 2.3602, 2.3598, 2.3575, 2.3568, 2.3534, 2.3516, 2.3507, 2.3475, 2.3017, 2.2731, 2.1299, 1.9285, 2.1021, 1.552, 1.545, 0.4783, 0.0259, 0.2147, 0.0546, 2.3986, 2.3971, 2.3945, 2.394, 2.3937, 2.3934, 2.3926, 2.3918, 2.3857, 2.3852, 2.3839, 2.3821, 2.3818, 2.3809, 2.3805, 2.3798, 2.3795, 2.3794, 2.3786, 2.3759, 2.3758, 2.3738, 2.3714, 2.371, 2.3707, 2.3705, 2.3696, 2.3673, 2.3671, 2.3639, 2.3344, 2.3104, 2.1927, 2.2433, 2.1464, 2.0771, 1.9439, 2.0392, 1.3543, 1.7712, 2.152, 2.0945, 2.0235, 1.5949, 0.3918, 2.0572, 0.9802, 0.4763, 0.679, 0.3477, 1.1098, 0.6141, 1.2067, 0.7255, 2.4326, 2.4313, 2.4307, 2.4291, 2.429, 2.4269, 2.4269, 2.4255, 2.4249, 2.4238, 2.4204, 2.4194, 2.4192, 2.4192, 2.4183, 2.4159, 2.4152, 2.4151, 2.4144, 2.4126, 2.4117, 2.4103, 2.4098, 2.4081, 2.405, 2.4045, 2.4016, 2.4014, 2.3998, 2.3991, 2.3514, 2.1909, 2.288, 2.2856, 1.9935, 2.283, 1.964, 2.1085, 1.8472, 2.1055, 2.0735, 1.8279, 2.0511, 2.0628, 1.7229, 0.9082, 0.3354, 1.9532, -0.6671]}, \"token.table\": {\"Topic\": [2, 10, 3, 2, 3, 9, 10, 3, 9, 5, 8, 1, 3, 7, 8, 3, 1, 2, 4, 5, 1, 2, 6, 10, 7, 10, 2, 3, 4, 2, 3, 4, 9, 7, 4, 4, 7, 3, 9, 6, 8, 10, 8, 6, 9, 10, 8, 4, 5, 1, 4, 6, 8, 2, 10, 6, 8, 2, 5, 8, 10, 10, 1, 7, 10, 8, 8, 2, 10, 10, 4, 5, 6, 9, 10, 2, 1, 6, 9, 2, 5, 6, 2, 3, 9, 1, 4, 5, 1, 3, 5, 2, 7, 3, 8, 2, 3, 7, 9, 3, 4, 7, 9, 7, 5, 2, 4, 8, 3, 9, 10, 2, 9, 6, 7, 5, 4, 5, 2, 10, 5, 9, 4, 4, 1, 10, 7, 3, 8, 6, 1, 5, 7, 8, 9, 2, 3, 7, 1, 9, 1, 7, 7, 2, 9, 5, 7, 9, 1, 4, 7, 2, 5, 10, 1, 10, 4, 1, 4, 7, 9, 7, 3, 1, 4, 6, 7, 8, 9, 3, 7, 10, 3, 10, 8, 8, 3, 5, 10, 6, 6, 2, 1, 8, 6, 8, 8, 6, 5, 2, 4, 5, 3, 7, 5, 4, 3, 2, 3, 6, 8, 10, 3, 3, 1, 4, 8, 9, 10, 4, 7, 10, 1, 2, 5, 10, 8, 7, 2, 6, 8, 4, 4, 5, 6, 5, 4, 7, 2, 3, 5, 7, 10, 1, 6, 1, 10, 5, 1, 2, 5, 6, 10, 1, 2, 3, 4, 6, 7, 8, 6, 10, 10, 7, 2, 5, 8, 4, 2, 4, 7, 2, 8, 8, 8, 7, 2, 4, 5, 2, 6, 8, 10, 1, 1, 2, 7, 9, 5, 9, 9, 1, 3, 5, 8, 2, 4, 4, 5, 9, 8, 1, 6, 1, 3, 4, 5, 9, 6, 2, 4, 5, 9, 5, 8, 6, 3, 4, 2, 5, 2, 8, 2, 9, 6, 1, 1, 1, 3, 3, 5, 4, 8, 3, 4, 5, 10, 2, 3, 7, 8, 10, 1, 3, 4, 8, 1, 9, 6, 6, 1, 3, 4, 9, 2, 1, 10, 1, 7, 6, 2, 5, 1, 3, 4, 8, 3, 5, 10, 6, 3, 10, 5, 7, 6, 8, 5, 6, 1, 3, 6, 9, 2, 2, 4, 5, 5, 6, 9, 10, 8, 3, 1, 2, 3, 6, 7, 1, 4, 5, 1, 5, 5, 2, 8, 2, 6, 4, 6, 6, 6, 8, 2, 8, 1, 6, 1, 4, 7, 9, 3, 6, 9, 6, 7, 3, 9, 10, 3, 2, 5, 3, 8, 1, 2, 1, 3, 5, 7, 10, 1, 2, 9, 7, 7, 1, 3, 7, 5, 6, 1, 5, 5, 1, 2, 3, 6, 7, 5, 10, 7, 1, 5, 7, 7, 7, 9, 9, 10, 6, 7, 8, 9, 7, 8, 3, 4, 4, 9, 7, 9, 10, 3, 7, 2, 3, 10, 2, 3, 2, 1, 2, 4, 5, 7, 8, 3, 1, 8, 10, 6, 7, 7, 1, 2, 6, 10, 2, 7, 8, 4, 1, 3, 5, 9, 2, 9, 2, 3, 6, 6, 6, 5, 10, 4, 6, 7, 7, 5, 2, 1, 3, 3, 5, 8, 9, 1, 9, 1, 3, 5, 9, 7, 1, 7, 8, 9, 10, 5, 2, 1, 3, 7, 9, 1, 10, 3, 9, 5, 7, 8, 10, 1, 3, 4, 3, 10, 7, 10, 4, 8, 7, 8, 1, 6, 6, 6, 1, 4, 10, 5, 2, 3, 7, 9, 2, 4, 5, 9, 5, 9, 9, 6, 7, 4, 10, 9, 7, 2, 1, 7, 9, 8, 6, 1, 2, 5, 6, 7, 8, 2, 6, 10, 2, 4, 2, 5, 7, 10, 8, 2, 8, 5, 5, 2, 1, 3, 9, 2, 10, 6, 4, 2, 6, 2, 10, 2, 3, 5, 2, 5, 9, 10, 1, 2, 5, 6, 7, 5, 6, 7, 10, 2, 3, 7, 1, 2, 8, 10, 4, 7, 9, 9, 1, 4, 8, 9, 3, 8, 10, 10, 4, 1, 5, 4, 2, 3, 4, 10, 3, 10, 4, 9, 3, 4, 9, 8, 2, 3, 2, 5, 3, 4, 5, 2, 3, 4, 6, 7, 9, 10, 9, 4, 9, 5, 4, 3, 4, 1, 3, 8, 5, 7, 10, 7, 8, 5, 1, 9, 4, 10, 9, 1, 7, 1, 1, 4, 9, 8, 3, 1, 5, 7, 8, 4, 8, 3, 5, 7, 9, 3, 4, 7, 8, 1, 2, 3, 4, 10, 2, 3, 8, 10, 8, 6, 7, 5, 10, 9, 1, 1, 4, 1, 3, 5, 7, 10, 2], \"Freq\": [0.8910078079365653, 0.10414376975881931, 0.9942473458930066, 0.1817437551360909, 0.8077500228270706, 0.9705640726079258, 0.9644029393794775, 0.9744268508390441, 0.9672485875410581, 0.9200282281650678, 0.0670853916370362, 0.9935324568735462, 0.7379276528648858, 0.17747627094218774, 0.07472685092302642, 0.9735216261909959, 0.9687207004151637, 0.3194752961699621, 0.5910292979144299, 0.08785570644673958, 0.33624643043421093, 0.06897362675573558, 0.4310851672233474, 0.163812363544872, 0.9645008943364376, 0.9730082604847926, 0.09868219050513019, 0.8223515875427516, 0.07236693970376214, 0.2471140792714983, 0.5409794708376043, 0.1602902135815124, 0.05343007119383747, 0.9981841476847996, 0.9994077853762843, 0.1412556571499998, 0.8475339428999988, 0.21923706758296602, 0.776464614356338, 0.9663436742975332, 0.9972673332854621, 0.997231803750062, 0.991019550094776, 0.27358248990294426, 0.16731491118031303, 0.5562090290588785, 0.9895457826848433, 0.9853537463326616, 0.9872323572007254, 0.23113750824122142, 0.21462768622399134, 0.5365692155599784, 0.008254911008615052, 0.9950009579457851, 0.9794889816537199, 0.21445565138410755, 0.782132375636157, 0.9666718884283148, 0.19631241828038315, 0.17668117645234485, 0.618384117583207, 0.9776173515627944, 0.8870020488549326, 0.10137166272627801, 0.9908784669011329, 0.9963379078740455, 0.9920965666777489, 0.12459493741635293, 0.8565901947374264, 0.9695827879145882, 0.9901067603692523, 0.19180988672475652, 0.5653344029782298, 0.1766670009306968, 0.060571543176238904, 0.9909680303921649, 0.810195315683133, 0.1810010811632531, 0.9788282454194197, 0.7718584326224818, 0.13963268127843892, 0.08533108300349045, 0.12573396963877628, 0.8715650168142446, 0.9785061773787779, 0.9670772968742244, 0.9801042425584446, 0.9439655406148783, 0.13804330846977816, 0.8595149395288073, 0.0026045907258448707, 0.2450418270889668, 0.7504405954599608, 0.9759104822697343, 0.9917703767214218, 0.20075976869103437, 0.08603990086758616, 0.176859796227816, 0.5353593831760917, 0.235117544779984, 0.6127305712448068, 0.07124774084241939, 0.07124774084241939, 0.9955149202719367, 0.987237477596097, 0.0030457840471876866, 0.9578990828405275, 0.03654940856625224, 0.9809389501041775, 0.7854356840919061, 0.20363147365345713, 0.2542467090772551, 0.7373154563240398, 0.9800485096721132, 0.9844795822083001, 0.9934054427961492, 0.9798054338165405, 0.9520435045159957, 0.9730181274753408, 0.95035096070374, 0.12988638727858756, 0.8514774277151852, 0.9853354056976997, 0.9792011461892879, 0.9569722923999965, 0.9928102748595408, 0.9828767124269829, 0.9916708450706951, 0.9876636277919396, 0.9874851543497289, 0.3312970974204487, 0.09596191787350929, 0.10510114814717683, 0.11538278220505283, 0.3518603655362007, 0.27035600445516716, 0.1577076692655142, 0.5688740927077476, 0.9566234112327148, 0.9932524486363554, 0.9845208934699626, 0.9979809508340775, 0.9736950196384417, 0.2961939153014222, 0.7015119046612631, 0.32525544175567206, 0.6708393486210736, 0.9759683069389166, 0.17019070751638551, 0.8084058607028313, 0.9914047816055868, 0.96853761568877, 0.9652977540104302, 0.9896093870332153, 0.9677866837916846, 0.9857221053306272, 0.9530001111829192, 0.6351398194987254, 0.16347480586254115, 0.13667565736048523, 0.06431795640493422, 0.9848966466732477, 0.9876654618009447, 0.14087864638622793, 0.35219661596556984, 0.15532773832327695, 0.14087864638622793, 0.03251045685836029, 0.1788075127209816, 0.9931671797195805, 0.9497933538182648, 0.9944192451184716, 0.9946413652733076, 0.9890331604035598, 0.9854476396349382, 0.9973084841041624, 0.971405614094948, 0.1250640760744967, 0.8629421249140272, 0.9993416939217079, 0.9959200029584377, 0.9868444731257449, 0.7012931560835224, 0.2906259926111895, 0.7590866224354156, 0.2335651145955125, 0.9970430203929194, 0.9909419530603991, 0.9890125329216337, 0.1928771337992794, 0.8004401052670095, 0.9607025785127148, 0.7702572213120429, 0.23007683233996085, 0.971718505081024, 0.9934288754165583, 0.9786140123115801, 0.14362734406688704, 0.12823870005972057, 0.11285005605255409, 0.4411411282054387, 0.17440463208121998, 0.9950574075204075, 0.9883991415285999, 0.9620941877534321, 0.16760012080406422, 0.6404718902155311, 0.18855013590457223, 0.0029928593000725754, 0.980214181912609, 0.35449424532444457, 0.6447685186698231, 0.16725627619002006, 0.6179014882642628, 0.16978089922685055, 0.04481205890374122, 0.9931753099647407, 0.9850640416729601, 0.7343946171175956, 0.16882634876266567, 0.09566826429884387, 0.969418951135578, 0.1896449273784602, 0.81030105334433, 0.9987562053527481, 0.9788434093513505, 0.9983025830166897, 0.989275100605346, 0.2668050342817564, 0.007411250952271011, 0.5632550723725969, 0.15563626999769123, 0.9790608732947992, 0.9723421170212436, 0.9966089668860796, 0.855228368624362, 0.13922322279931473, 0.9943522328836527, 0.12044296222428402, 0.10538759194624853, 0.5118825894532071, 0.09535067842755819, 0.16560907305839054, 0.13621639322316292, 0.16005426203721643, 0.1260001637314257, 0.3132977044132747, 0.08854065559505589, 0.06810819661158146, 0.10897311457853033, 0.9900905245500593, 0.9769115336456119, 0.9864840087322257, 0.994873236977819, 0.9961857866530033, 0.7543465012752182, 0.234107534878516, 0.991514257654081, 0.05724435986052062, 0.8968283044814898, 0.04770363321710052, 0.9980127586398426, 0.9757592826106236, 0.9971557608556157, 0.9893663128995819, 0.9618252144963858, 0.28722483649174535, 0.7113151990970069, 0.979570647081164, 0.5252564582641356, 0.11920713946420099, 0.1937116016293266, 0.16018459365502008, 0.9964550998107974, 0.7694005861906434, 0.13989101567102608, 0.08393460940261564, 0.9941576316146672, 0.8172101229679929, 0.1720442364143143, 0.9961759573380103, 0.17824153138872414, 0.2869253919916047, 0.40865131586683096, 0.12172592387522624, 0.8679023667601877, 0.12763270099414525, 0.982215837850814, 0.9780398230390213, 0.9722308165242914, 0.9907345224814318, 0.9558276257262107, 0.9609871617700665, 0.07497477030975615, 0.4600724541735036, 0.25218786376917973, 0.20788459040432386, 0.9836156956667113, 0.9706390063998732, 0.22769704701066887, 0.45804173410285715, 0.21181120652155244, 0.1006103230977374, 0.787551789743011, 0.21028869778478304, 0.9932979532752263, 0.7548170559689263, 0.2413659190598311, 0.954896112355997, 0.9996303111823697, 0.2300851646333166, 0.7669505487777221, 0.9006552666199846, 0.09159206101220183, 0.9596600535175904, 0.9972208713354344, 0.9738604082976285, 0.9958260381471382, 0.9916467450867451, 0.2566800381567743, 0.7315381087468068, 0.7592400906089787, 0.22881208210133605, 0.9733907875232956, 0.0620220602255745, 0.31011030112787247, 0.6253891072745429, 0.575965391898441, 0.16721575893825708, 0.10683229043277535, 0.051093704120022995, 0.09754252604731663, 0.15990451132777783, 0.5346061274242124, 0.15513124233291878, 0.15035797333805975, 0.2795224760080127, 0.7115117571113051, 0.9996953321715625, 0.9738045309318978, 0.331969357316119, 0.14693725651697068, 0.5170014581152672, 0.9895151278559411, 0.9894181456992766, 0.9139114650522593, 0.0830828604592963, 0.3980098374586041, 0.5984673468355652, 0.998405123372215, 0.10568288035222916, 0.8850941229499192, 0.6863587849359465, 0.08500773941867226, 0.22826152251310144, 0.9990414248508492, 0.9897252853042371, 0.9847565607884639, 0.99899759549274, 0.9849630276533101, 0.9915664481345535, 0.9833380563551336, 0.23496139660886556, 0.7601692243228003, 0.7423393408031526, 0.25879720138091555, 0.8558359870028729, 0.13023591106565457, 0.13377761725686765, 0.8624386814644872, 0.08002371290645585, 0.914556718930924, 0.9919922313611307, 0.9917523665619098, 0.9757332395783839, 0.9676218939407848, 0.4559616322953707, 0.18738149272412494, 0.2560880400563041, 0.0999367961195333, 0.9881760464871276, 0.9825000178182053, 0.525790115380115, 0.12846008500764172, 0.06871120825990139, 0.12846008500764172, 0.14937219186935086, 0.6126738828958694, 0.22038628881146383, 0.16308585372048323, 0.9944115066647075, 0.9900711142339144, 0.9849792000125482, 0.06295611950807652, 0.9271719418462179, 0.1512625717168071, 0.831944144442439, 0.13945162865372895, 0.8493871927090764, 0.9820890192234898, 0.9947649591851576, 0.9884759077435601, 0.9992802030711235, 0.9964536405612814, 0.6774341676086084, 0.3166268392083713, 0.9941398937979117, 0.29296976091019555, 0.6993471712049829, 0.9854759071163498, 0.23812162606681464, 0.7570135276452465, 0.9853475644635885, 0.9533790438921683, 0.9994774453566427, 0.27175111789414697, 0.7267762455308582, 0.9881706013703082, 0.9906502658121551, 0.9908949702352653, 0.9715176088205946, 0.9819689852819107, 0.9682288560541916, 0.9706308964151341, 0.979815291573153, 0.11071788023514736, 0.6060347128660698, 0.02622265584516648, 0.11363150866238808, 0.13985416450755456, 0.9956642425705748, 0.9938178416336505, 0.9641272473886457, 0.978541222762743, 0.9917570633991406, 0.7228993351184084, 0.14905140930276461, 0.1266936979073499, 0.2175622652289065, 0.778643896608718, 0.9628997014788773, 0.9637852949544404, 0.9779547058501893, 0.14742696365108388, 0.38173053088227077, 0.23693619158209908, 0.11583547144013734, 0.11583547144013734, 0.2751523829002217, 0.7213454362519326, 0.9849473198860234, 0.9668128314777408, 0.8213331550963848, 0.1766641126056375, 0.9979827508591171, 0.7224203562730138, 0.27692780323798866, 0.9895086085610566, 0.9581860991361448, 0.30967964147460175, 0.050674850423116646, 0.43355149806444243, 0.19706886275656474, 0.8743245410771262, 0.10491894492925515, 0.9673433200408066, 0.9779708874657006, 0.05731555880999433, 0.939975164483907, 0.0037975571074967164, 0.07215358504243762, 0.9228063771217021, 0.9940430609474235, 0.9688803373004397, 0.9751719842456891, 0.9954095501204386, 0.9946848193368384, 0.7800511425777389, 0.21814989580563882, 0.9696930039560026, 0.10895531613092134, 0.3384569394705216, 0.25963820014177, 0.07418234289764856, 0.12518270363978196, 0.09272792862206071, 0.9913161711259235, 0.9650692136816419, 0.9814685719098566, 0.9859519878348312, 0.9723759454586396, 0.9968302262901183, 0.9964482317788366, 0.9773463954104059, 0.25127273638736264, 0.7412545723427197, 0.9941459083944975, 0.9822980804098518, 0.09040127816393288, 0.9040127816393289, 0.9857260234651283, 0.6172040825941363, 0.23795820051822122, 0.14872387532388825, 0.9811859661112993, 0.012346116754934664, 0.9861460758004063, 0.8384231279880741, 0.15969964342629983, 0.9635777413569748, 0.9894908476725579, 0.9700210877111332, 0.30760101171789245, 0.6817103502937075, 0.9674967013556037, 0.7638973498299595, 0.22916920494898785, 0.9939726633446075, 0.9468535774494992, 0.9935015815562683, 0.9674321739619096, 0.9817031558288428, 0.483755550041011, 0.2892157846089691, 0.09856681448556792, 0.1283962451851477, 0.9085498025177043, 0.07571248354314203, 0.13311290372967483, 0.12960993257889392, 0.7391269128147734, 0.9819390206892643, 0.9947275853049423, 0.24696321324334106, 0.4289361072121187, 0.025996127709825376, 0.20146998975114666, 0.09098644698438882, 0.96849601182918, 0.9789180236991356, 0.13724212366659094, 0.5369297118885926, 0.17937786338878992, 0.14566927161103074, 0.9870165442849302, 0.9802234550832718, 0.18288765353847944, 0.8159603004024467, 0.03850172000126374, 0.5646918933518683, 0.25026118000821435, 0.14758992667151102, 0.9900454260848223, 0.9793302671307627, 0.987067269159799, 0.3003853867925771, 0.6917966483707836, 0.9857471190859552, 0.9852320471545876, 0.98612180755104, 0.9978024584333, 0.9921345674003561, 0.9654531130098145, 0.13879195576160844, 0.8525791568213089, 0.9859211816185584, 0.9695878625015235, 0.9929898189925856, 0.2926808820025731, 0.6961058815196333, 0.96505858601044, 0.31768807678847344, 0.12033639272290661, 0.11070948130507408, 0.4476513809292126, 0.1843180161431314, 0.5529540484293942, 0.13469393487382678, 0.12760478040678327, 0.9624308269225061, 0.9951041349802692, 0.9755350401968507, 0.9949603092838617, 0.9938786170350148, 0.12705717106003916, 0.8662988935911762, 0.9596235520565012, 0.9921239317564342, 0.9929885625219923, 0.7502174210225653, 0.07943478575533044, 0.1588695715106609, 0.9931904529670501, 0.976418786838041, 0.33331688332437065, 0.12120613939068023, 0.11741844753472147, 0.11363075567876271, 0.17423382537410284, 0.14014459867047402, 0.23393438191243138, 0.605722953166117, 0.15874118772629273, 0.32984398589759667, 0.6678322677432821, 0.528805063439163, 0.2392213382224785, 0.22033544309965125, 0.9966876565905024, 0.9892484545977005, 0.9805877974400616, 0.9934028987269499, 0.9820552385197912, 0.9812870440814873, 0.9724452081890641, 0.8775149145172007, 0.10745080585924906, 0.9659416080907245, 0.9977993739709049, 0.9962371596735233, 0.9575008157442592, 0.966643464362046, 0.9090363832928033, 0.08434358195500237, 0.4528738736808886, 0.5458747584546425, 0.14605293419164816, 0.20534174906152514, 0.6463926889471953, 0.9740147108496923, 0.27138177883776726, 0.6363434814126956, 0.09357992373716112, 0.46285874424690515, 0.11911805918118883, 0.14634504413688915, 0.10550456670333867, 0.1633619097342018, 0.13428665005911813, 0.8626899943191831, 0.9960077428493935, 0.9705363362846886, 0.2846318787413733, 0.5169844328159637, 0.19749967096340187, 0.2637929530754599, 0.004796235510462908, 0.2398117755231454, 0.4892160220672166, 0.784746625019686, 0.21385911445804442, 0.9996623682064947, 0.9983687273810304, 0.7569542887295154, 0.012626981111379098, 0.09569922526518895, 0.13424474655255672, 0.6043648181099393, 0.2002836897224799, 0.19325619183748058, 0.9642811255500534, 0.9765445806275658, 0.9071040149470384, 0.09162666817646853, 0.9832607276089328, 0.9839168947617635, 0.9890984813723724, 0.9641477762710805, 0.9727646333394497, 0.9058690561649823, 0.08959144511521804, 0.9764393389484936, 0.9775378880923851, 0.23454184638340544, 0.756930504237354, 0.9968709088249046, 0.9896601695813068, 0.9952526755761499, 0.9831829393808299, 0.9563362590090707, 0.04274128531884115, 0.9877257513698673, 0.9723514697248156, 0.9631036190517962, 0.16962564863166585, 0.05183005930412012, 0.1272192364737494, 0.0801010007427311, 0.13664288361995305, 0.3015567086785171, 0.1272192364737494, 0.9629573225109003, 0.9730871208274595, 0.9892153160331832, 0.98245477348733, 0.9906875031689403, 0.9063099247011785, 0.07428769874599823, 0.20366161679588535, 0.687357956686113, 0.10183080839794267, 0.668323627357743, 0.2344995183711379, 0.09379980734845517, 0.883858801803277, 0.0940275321067316, 0.9996763340942444, 0.30671961444877105, 0.6901191325097349, 0.7811006464004256, 0.21789850349280168, 0.9811881069301491, 0.8492202172900938, 0.13896330828383352, 0.9984861568586226, 0.9872068359473432, 0.8791433702480145, 0.10989292128100181, 0.9855731680606525, 0.9650118813590577, 0.22054954257549564, 0.5920014037552778, 0.005803935330934096, 0.17992199525895697, 0.9560508979833635, 0.9940367189575757, 0.45747913988223954, 0.16233130770014953, 0.13773565501830867, 0.2410373962820402, 0.12177898560925135, 0.5807920852133526, 0.08430852849871248, 0.20608751410796383, 0.07110306678769088, 0.1882140003203582, 0.07249724456784168, 0.5451235120389634, 0.12268764465327053, 0.9911549625167795, 0.08931605914840096, 0.1260932599742131, 0.7845802842839927, 0.9955185233793701, 0.992980325013725, 0.9607615490206305, 0.27392750377026165, 0.7205484338304708, 0.9591502982294272, 0.9985387944367629, 0.9811583426385682, 0.9712386292143859, 0.15058542370856517, 0.48575943131795224, 0.05343353744497474, 0.20887655546671946, 0.09715188626359045, 0.9605235517953661], \"Term\": [\"access\", \"access\", \"act\", \"action\", \"action\", \"afraid\", \"africa\", \"agreement\", \"alcohol\", \"america\", \"america\", \"american\", \"answer\", \"answer\", \"answer\", \"apart\", \"april\", \"area\", \"area\", \"area\", \"ask\", \"ask\", \"ask\", \"ask\", \"aspect\", \"attempt\", \"australia\", \"australia\", \"australia\", \"australian\", \"australian\", \"australian\", \"australian\", \"away\", \"back\", \"ball\", \"ball\", \"be\", \"be\", \"beer\", \"best\", \"better\", \"birthday\", \"bit\", \"bit\", \"bit\", \"black\", \"block\", \"blood\", \"book\", \"book\", \"book\", \"book\", \"border\", \"box\", \"boy\", \"boy\", \"brain\", \"break\", \"break\", \"break\", \"brexit\", \"brilliant\", \"brilliant\", \"bring\", \"british\", \"brother\", \"budget\", \"budget\", \"burn\", \"buy\", \"call\", \"call\", \"call\", \"call\", \"campaign\", \"car\", \"car\", \"card\", \"care\", \"care\", \"care\", \"case\", \"case\", \"cash\", \"catch\", \"chapter\", \"chat\", \"child\", \"child\", \"child\", \"china\", \"china\", \"citizen\", \"class\", \"clear\", \"clear\", \"clear\", \"clear\", \"close\", \"close\", \"close\", \"close\", \"club\", \"cold\", \"come\", \"come\", \"come\", \"comment\", \"common\", \"common\", \"concern\", \"concern\", \"context\", \"contract\", \"control\", \"cook\", \"cough\", \"council\", \"count\", \"court\", \"court\", \"crew\", \"cricket\", \"cure\", \"cut\", \"danger\", \"data\", \"date\", \"daughter\", \"day\", \"day\", \"day\", \"day\", \"day\", \"deal\", \"deal\", \"deal\", \"dear\", \"death\", \"die\", \"difficult\", \"direct\", \"doctor\", \"doctor\", \"dog\", \"dog\", \"donald\", \"dream\", \"dream\", \"dress\", \"driver\", \"drop\", \"earth\", \"easter\", \"effort\", \"element\", \"end\", \"end\", \"end\", \"end\", \"english\", \"european\", \"even\", \"even\", \"even\", \"even\", \"even\", \"even\", \"expect\", \"explain\", \"face\", \"fact\", \"factor\", \"faith\", \"fan\", \"fast\", \"father\", \"father\", \"feel\", \"felt\", \"field\", \"fight\", \"fight\", \"film\", \"film\", \"find\", \"fine\", \"finger\", \"fire\", \"fire\", \"fish\", \"fit\", \"fit\", \"floor\", \"food\", \"foreign\", \"forward\", \"forward\", \"forward\", \"forward\", \"forward\", \"free\", \"freedom\", \"fresh\", \"friend\", \"friend\", \"friend\", \"friend\", \"gain\", \"game\", \"game\", \"get\", \"get\", \"get\", \"get\", \"girl\", \"girlfriend\", \"give\", \"give\", \"give\", \"glad\", \"go\", \"go\", \"good\", \"grant\", \"great\", \"greatest\", \"group\", \"group\", \"group\", \"group\", \"guard\", \"guest\", \"guy\", \"half\", \"half\", \"hand\", \"happen\", \"happen\", \"happen\", \"happen\", \"happen\", \"hard\", \"hard\", \"hard\", \"hard\", \"hard\", \"hard\", \"hard\", \"harder\", \"hate\", \"have\", \"head\", \"health\", \"hear\", \"hear\", \"heart\", \"hell\", \"hell\", \"hell\", \"help\", \"hero\", \"high\", \"hit\", \"hole\", \"home\", \"home\", \"honest\", \"hope\", \"hope\", \"hope\", \"hope\", \"hour\", \"huge\", \"huge\", \"huge\", \"human\", \"hurt\", \"hurt\", \"idea\", \"ill\", \"ill\", \"ill\", \"ill\", \"impact\", \"impact\", \"interview\", \"iran\", \"ireland\", \"island\", \"item\", \"jack\", \"job\", \"job\", \"job\", \"job\", \"john\", \"june\", \"keep\", \"keep\", \"keep\", \"keep\", \"kid\", \"kid\", \"kill\", \"kind\", \"kind\", \"knee\", \"know\", \"labour\", \"labour\", \"lack\", \"lack\", \"lad\", \"last\", \"late\", \"later\", \"law\", \"lead\", \"lead\", \"learn\", \"learn\", \"lesson\", \"let\", \"let\", \"let\", \"level\", \"level\", \"level\", \"level\", \"level\", \"life\", \"life\", \"life\", \"life\", \"light\", \"light\", \"like\", \"limit\", \"live\", \"live\", \"live\", \"load\", \"local\", \"london\", \"london\", \"long\", \"long\", \"look\", \"loss\", \"loss\", \"lot\", \"lot\", \"lot\", \"love\", \"lower\", \"lunch\", \"make\", \"male\", \"market\", \"mask\", \"match\", \"match\", \"matter\", \"matter\", \"meal\", \"meal\", \"mean\", \"mean\", \"meghan\", \"meghan\", \"member\", \"mental\", \"mention\", \"mile\", \"mind\", \"mind\", \"mind\", \"mind\", \"miss\", \"modern\", \"moment\", \"moment\", \"moment\", \"moment\", \"moment\", \"money\", \"money\", \"money\", \"month\", \"mother\", \"mountain\", \"move\", \"move\", \"movement\", \"movement\", \"music\", \"music\", \"nail\", \"name\", \"nation\", \"need\", \"news\", \"nice\", \"nice\", \"night\", \"normal\", \"normal\", \"northern\", \"number\", \"number\", \"obvious\", \"okay\", \"one\", \"open\", \"open\", \"opinion\", \"option\", \"outbreak\", \"own\", \"pain\", \"paper\", \"park\", \"parliament\", \"part\", \"part\", \"part\", \"part\", \"part\", \"past\", \"patient\", \"payment\", \"peak\", \"perfect\", \"period\", \"period\", \"period\", \"person\", \"person\", \"peter\", \"phase\", \"pitch\", \"place\", \"place\", \"place\", \"place\", \"place\", \"plan\", \"plan\", \"planet\", \"plant\", \"play\", \"play\", \"player\", \"point\", \"point\", \"politician\", \"post\", \"power\", \"power\", \"power\", \"power\", \"premier\", \"premier\", \"press\", \"price\", \"prime\", \"prime\", \"problem\", \"problem\", \"problem\", \"process\", \"progress\", \"prospect\", \"protect\", \"proud\", \"public\", \"public\", \"push\", \"put\", \"put\", \"put\", \"put\", \"put\", \"put\", \"question\", \"quiet\", \"race\", \"racism\", \"racist\", \"real\", \"reason\", \"recent\", \"record\", \"record\", \"relationship\", \"remain\", \"respect\", \"respect\", \"respond\", \"result\", \"result\", \"result\", \"rich\", \"right\", \"right\", \"risk\", \"risk\", \"river\", \"road\", \"rock\", \"role\", \"role\", \"roll\", \"room\", \"room\", \"run\", \"rush\", \"safe\", \"saturday\", \"save\", \"say\", \"say\", \"say\", \"say\", \"scene\", \"scene\", \"school\", \"school\", \"school\", \"score\", \"season\", \"second\", \"second\", \"second\", \"second\", \"second\", \"secret\", \"sector\", \"see\", \"see\", \"see\", \"see\", \"sell\", \"send\", \"serious\", \"serious\", \"set\", \"set\", \"set\", \"set\", \"seven\", \"sexual\", \"shame\", \"share\", \"share\", \"shift\", \"shock\", \"short\", \"show\", \"side\", \"sing\", \"sister\", \"sister\", \"size\", \"skin\", \"sleep\", \"small\", \"small\", \"smell\", \"social\", \"social\", \"social\", \"social\", \"soon\", \"soon\", \"soon\", \"soon\", \"sore\", \"sort\", \"soul\", \"sound\", \"speak\", \"special\", \"special\", \"split\", \"spread\", \"staff\", \"stage\", \"stage\", \"stage\", \"stand\", \"star\", \"start\", \"start\", \"start\", \"start\", \"start\", \"start\", \"state\", \"state\", \"state\", \"stay\", \"stay\", \"step\", \"step\", \"step\", \"stop\", \"street\", \"student\", \"stuff\", \"style\", \"suffer\", \"suit\", \"sunday\", \"sunday\", \"super\", \"support\", \"sure\", \"suspect\", \"sweet\", \"symptom\", \"symptom\", \"system\", \"system\", \"take\", \"take\", \"take\", \"talent\", \"talk\", \"talk\", \"talk\", \"team\", \"team\", \"team\", \"team\", \"team\", \"tell\", \"tell\", \"term\", \"terrorist\", \"test\", \"test\", \"test\", \"thank\", \"thank\", \"thank\", \"thank\", \"thing\", \"thing\", \"think\", \"thought\", \"time\", \"time\", \"time\", \"time\", \"today\", \"today\", \"today\", \"tool\", \"total\", \"tough\", \"tough\", \"town\", \"track\", \"trade\", \"tragic\", \"train\", \"travel\", \"travel\", \"trend\", \"trial\", \"true\", \"true\", \"trump\", \"truth\", \"turn\", \"type\", \"understand\", \"understand\", \"union\", \"upset\", \"urgent\", \"use\", \"use\", \"use\", \"use\", \"use\", \"use\", \"use\", \"usual\", \"version\", \"view\", \"vision\", \"visit\", \"vote\", \"vote\", \"wait\", \"wait\", \"wait\", \"walk\", \"walk\", \"walk\", \"wall\", \"wall\", \"want\", \"water\", \"water\", \"way\", \"way\", \"wear\", \"wed\", \"wed\", \"week\", \"weekend\", \"weight\", \"weight\", \"white\", \"will\", \"win\", \"win\", \"win\", \"win\", \"wind\", \"wish\", \"woman\", \"woman\", \"woman\", \"woman\", \"word\", \"word\", \"word\", \"word\", \"work\", \"work\", \"work\", \"work\", \"work\", \"worker\", \"world\", \"world\", \"world\", \"worst\", \"write\", \"writer\", \"wrong\", \"wrong\", \"wuhan\", \"year\", \"yesterday\", \"york\", \"young\", \"young\", \"young\", \"young\", \"young\", \"zealand\"]}, \"R\": 30, \"lambda.step\": 0.01, \"plot.opts\": {\"xlab\": \"PC1\", \"ylab\": \"PC2\"}, \"topic.order\": [4, 1, 3, 5, 2, 7, 10, 6, 8, 9]};\n",
              "\n",
              "function LDAvis_load_lib(url, callback){\n",
              "  var s = document.createElement('script');\n",
              "  s.src = url;\n",
              "  s.async = true;\n",
              "  s.onreadystatechange = s.onload = callback;\n",
              "  s.onerror = function(){console.warn(\"failed to load library \" + url);};\n",
              "  document.getElementsByTagName(\"head\")[0].appendChild(s);\n",
              "}\n",
              "\n",
              "if(typeof(LDAvis) !== \"undefined\"){\n",
              "   // already loaded: just create the visualization\n",
              "   !function(LDAvis){\n",
              "       new LDAvis(\"#\" + \"ldavis_el6161397874201942562888272399\", ldavis_el6161397874201942562888272399_data);\n",
              "   }(LDAvis);\n",
              "}else if(typeof define === \"function\" && define.amd){\n",
              "   // require.js is available: use it to load d3/LDAvis\n",
              "   require.config({paths: {d3: \"https://d3js.org/d3.v5\"}});\n",
              "   require([\"d3\"], function(d3){\n",
              "      window.d3 = d3;\n",
              "      LDAvis_load_lib(\"https://cdn.jsdelivr.net/gh/bmabey/pyLDAvis@3.3.1/pyLDAvis/js/ldavis.v3.0.0.js\", function(){\n",
              "        new LDAvis(\"#\" + \"ldavis_el6161397874201942562888272399\", ldavis_el6161397874201942562888272399_data);\n",
              "      });\n",
              "    });\n",
              "}else{\n",
              "    // require.js not available: dynamically load d3 & LDAvis\n",
              "    LDAvis_load_lib(\"https://d3js.org/d3.v5.js\", function(){\n",
              "         LDAvis_load_lib(\"https://cdn.jsdelivr.net/gh/bmabey/pyLDAvis@3.3.1/pyLDAvis/js/ldavis.v3.0.0.js\", function(){\n",
              "                 new LDAvis(\"#\" + \"ldavis_el6161397874201942562888272399\", ldavis_el6161397874201942562888272399_data);\n",
              "            })\n",
              "         });\n",
              "}\n",
              "</script>"
            ],
            "text/plain": [
              "PreparedData(topic_coordinates=              x         y  topics  cluster       Freq\n",
              "topic                                                \n",
              "3     -0.159330 -0.019410       1        1  11.506989\n",
              "0      0.108898  0.141585       2        1  11.395967\n",
              "2     -0.060434  0.074972       3        1  10.696402\n",
              "4     -0.038196  0.175663       4        1  10.405689\n",
              "1      0.089806  0.122403       5        1  10.075512\n",
              "6      0.199328 -0.331994       6        1   9.446017\n",
              "9     -0.193515 -0.012825       7        1   9.315235\n",
              "5     -0.016339 -0.102046       8        1   9.306407\n",
              "7     -0.178989 -0.130425       9        1   9.079051\n",
              "8      0.248772  0.082079      10        1   8.772733, topic_info=      Term         Freq        Total Category  logprob  loglift\n",
              "38    like  1908.000000  1908.000000  Default  30.0000  30.0000\n",
              "578    one  1529.000000  1529.000000  Default  29.0000  29.0000\n",
              "227  think  1395.000000  1395.000000  Default  28.0000  28.0000\n",
              "143   know  1319.000000  1319.000000  Default  27.0000  27.0000\n",
              "18    want  1241.000000  1241.000000  Default  26.0000  26.0000\n",
              "..     ...          ...          ...      ...      ...      ...\n",
              "162  thank   102.438057   208.496851  Topic10  -4.4694   1.7229\n",
              "265    way   182.715111   839.840555  Topic10  -3.8908   0.9082\n",
              "49    work    87.996692   717.268640  Topic10  -4.6214   0.3354\n",
              "413  break    63.019090   101.878425  Topic10  -4.9553   1.9532\n",
              "415    get    71.331711  1584.394954  Topic10  -4.8314  -0.6671\n",
              "\n",
              "[541 rows x 6 columns], token_table=      Topic      Freq     Term\n",
              "term                          \n",
              "385       2  0.891008   access\n",
              "385      10  0.104144   access\n",
              "354       3  0.994247      act\n",
              "1386      2  0.181744   action\n",
              "1386      3  0.807750   action\n",
              "...     ...       ...      ...\n",
              "301       3  0.485759    young\n",
              "301       5  0.053434    young\n",
              "301       7  0.208877    young\n",
              "301      10  0.097152    young\n",
              "1790      2  0.960524  zealand\n",
              "\n",
              "[758 rows x 3 columns], R=30, lambda_step=0.01, plot_opts={'xlab': 'PC1', 'ylab': 'PC2'}, topic_order=[4, 1, 3, 5, 2, 7, 10, 6, 8, 9])"
            ]
          },
          "metadata": {},
          "execution_count": 154
        }
      ]
    },
    {
      "cell_type": "code",
      "metadata": {
        "id": "wau1RcrktjaF"
      },
      "source": [
        "def take_second(elem):\n",
        "    return elem[1]\n",
        "\n",
        "def format_topics_sentences(ldamodel=lda_model, corpus=corpus, texts=data):\n",
        "    # Init output\n",
        "    sent_topics_df = pd.DataFrame()\n",
        "\n",
        "    # Get main topic in each document\n",
        "    for i, row in enumerate(ldamodel[corpus]):\n",
        "        row = sorted(row, key=take_second, reverse=True)        \n",
        "        # Get the Dominant topic, Perc Contribution and Keywords for each document\n",
        "        for j, (topic_num, prop_topic) in enumerate(row):\n",
        "            if j == 0:  # => dominant topic\n",
        "                wp = ldamodel.show_topic(topic_num)\n",
        "                topic_keywords = \", \".join([word for word, prop in wp])\n",
        "                sent_topics_df = sent_topics_df.append(pd.Series([int(topic_num), round(prop_topic,4), topic_keywords]), ignore_index=True)\n",
        "            else:\n",
        "                break\n",
        "    sent_topics_df.columns = ['Dominant_Topic', 'Perc_Contribution', 'Topic_Keywords']\n",
        "\n",
        "    # Add original text to the end of the output\n",
        "    contents = pd.Series(texts)\n",
        "    sent_topics_df = pd.concat([sent_topics_df, contents], axis=1)\n",
        "    return(sent_topics_df)\n",
        "\n"
      ],
      "execution_count": 177,
      "outputs": []
    },
    {
      "cell_type": "code",
      "metadata": {
        "id": "O_Wn2JwbtpfK"
      },
      "source": [
        "\n",
        "df_topic_sents_keywords = format_topics_sentences(ldamodel=ldamodel, corpus=doc_term_matrix, texts=doc_clean)\n",
        "\n",
        "# Format\n",
        "df_dominant_topic = df_topic_sents_keywords.reset_index()\n",
        "df_dominant_topic.columns = ['Document_No', 'Dominant_Topic', 'Topic_Perc_Contrib', 'Keywords', 'Text']"
      ],
      "execution_count": null,
      "outputs": []
    },
    {
      "cell_type": "code",
      "metadata": {
        "colab": {
          "base_uri": "https://localhost:8080/",
          "height": 37
        },
        "id": "YWbEwBSzv7tc",
        "outputId": "8c4e42a3-40ec-4c94-8534-0d326974f79b"
      },
      "source": [
        "doc_complete[460]"
      ],
      "execution_count": 187,
      "outputs": [
        {
          "output_type": "execute_result",
          "data": {
            "application/vnd.google.colaboratory.intrinsic+json": {
              "type": "string"
            },
            "text/plain": [
              "\"What I sent was NSW-based advice, based on information from our lawyers. It wasn't a legal thing given by myself,\""
            ]
          },
          "metadata": {},
          "execution_count": 187
        }
      ]
    },
    {
      "cell_type": "code",
      "metadata": {
        "colab": {
          "base_uri": "https://localhost:8080/"
        },
        "id": "12ieLSoyvMZM",
        "outputId": "b99688df-69b7-4f7c-e3bc-8655a759ac7a"
      },
      "source": [
        "# Show random samples\n",
        "for i in range(460,465):\n",
        "  print('Quote : ' +doc_complete[i])\n",
        "  print('topic keywords : ' + df_dominant_topic.Keywords[i] )\n",
        "  print('\\n')\n"
      ],
      "execution_count": 190,
      "outputs": [
        {
          "output_type": "stream",
          "name": "stdout",
          "text": [
            "Quote : What I sent was NSW-based advice, based on information from our lawyers. It wasn't a legal thing given by myself,\n",
            "topic keywords : like, good, feel, look, guy, felt, number, tell, person, state\n",
            "\n",
            "\n",
            "Quote : A guy meeting Polly... I don't just do that and you met mum and everything.\n",
            "topic keywords : like, good, feel, look, guy, felt, number, tell, person, state\n",
            "\n",
            "\n",
            "Quote : But hopefully we have a full set to pick from; that would be great. We have options. You might hear the five seamer option come out again but Dom Bess has done himself absolutely no harm the way he bowled down in PE. It's great to see a spinner come into our team and bowl as well as he did.\n",
            "topic keywords : thing, back, way, come, great, work, home, even, go, keep\n",
            "\n",
            "\n",
            "Quote : But I appreciate that this [ curfews ] is something we need to keep under review.\n",
            "topic keywords : get, need, support, help, health, give, public, care, risk, understand\n",
            "\n",
            "\n",
            "Quote : Contrary to Prince Andrew's very public offer to cooperate with our investigation into Epstein's co-conspirators, an offer that was conveyed through press release, Prince Andrew has now completely shut the door on voluntary cooperation and our office is considering its options.\n",
            "topic keywords : life, see, say, child, case, mean, part, fact, woman, kind\n",
            "\n",
            "\n"
          ]
        }
      ]
    },
    {
      "cell_type": "code",
      "metadata": {
        "colab": {
          "base_uri": "https://localhost:8080/",
          "height": 359
        },
        "id": "9-BN240HuZRh",
        "outputId": "8b77e61a-f37c-48da-c3e2-c93d3a035800"
      },
      "source": [
        "# Group top 5 sentences under each topic\n",
        "sent_topics_sorteddf_mallet = pd.DataFrame()\n",
        "\n",
        "sent_topics_outdf_grpd = df_topic_sents_keywords.groupby('Dominant_Topic')\n",
        "\n",
        "for i, grp in sent_topics_outdf_grpd:\n",
        "    sent_topics_sorteddf_mallet = pd.concat([sent_topics_sorteddf_mallet, \n",
        "                                             grp.sort_values(['Perc_Contribution'], ascending=[0]).head(1)], \n",
        "                                            axis=0)\n",
        "\n",
        "# Reset Index    \n",
        "sent_topics_sorteddf_mallet.reset_index(drop=True, inplace=True)\n",
        "\n",
        "# Format\n",
        "sent_topics_sorteddf_mallet.columns = ['Topic_Num', \"Topic_Perc_Contrib\", \"Keywords\", \"Text\"]\n",
        "\n",
        "# Show\n",
        "sent_topics_sorteddf_mallet.head(10)"
      ],
      "execution_count": 191,
      "outputs": [
        {
          "output_type": "execute_result",
          "data": {
            "text/html": [
              "<div>\n",
              "<style scoped>\n",
              "    .dataframe tbody tr th:only-of-type {\n",
              "        vertical-align: middle;\n",
              "    }\n",
              "\n",
              "    .dataframe tbody tr th {\n",
              "        vertical-align: top;\n",
              "    }\n",
              "\n",
              "    .dataframe thead th {\n",
              "        text-align: right;\n",
              "    }\n",
              "</style>\n",
              "<table border=\"1\" class=\"dataframe\">\n",
              "  <thead>\n",
              "    <tr style=\"text-align: right;\">\n",
              "      <th></th>\n",
              "      <th>Topic_Num</th>\n",
              "      <th>Topic_Perc_Contrib</th>\n",
              "      <th>Keywords</th>\n",
              "      <th>Text</th>\n",
              "    </tr>\n",
              "  </thead>\n",
              "  <tbody>\n",
              "    <tr>\n",
              "      <th>0</th>\n",
              "      <td>0.0</td>\n",
              "      <td>0.9100</td>\n",
              "      <td>get, need, support, help, health, give, public...</td>\n",
              "      <td>[would, happened, without, mobilised, quick, c...</td>\n",
              "    </tr>\n",
              "    <tr>\n",
              "      <th>1</th>\n",
              "      <td>1.0</td>\n",
              "      <td>0.9000</td>\n",
              "      <td>know, want, go, take, get, play, say, school, ...</td>\n",
              "      <td>[want, sit, set, read, prepared, remark, wante...</td>\n",
              "    </tr>\n",
              "    <tr>\n",
              "      <th>2</th>\n",
              "      <td>2.0</td>\n",
              "      <td>0.9100</td>\n",
              "      <td>life, see, say, child, case, mean, part, fact,...</td>\n",
              "      <td>[discussion, take, place, teacher, teacher, un...</td>\n",
              "    </tr>\n",
              "    <tr>\n",
              "      <th>3</th>\n",
              "      <td>3.0</td>\n",
              "      <td>0.9250</td>\n",
              "      <td>time, year, lot, week, last, day, get, month, ...</td>\n",
              "      <td>[unfortunately, due, late, stage, unable, fill...</td>\n",
              "    </tr>\n",
              "    <tr>\n",
              "      <th>4</th>\n",
              "      <td>4.0</td>\n",
              "      <td>0.8875</td>\n",
              "      <td>thing, back, way, come, great, work, home, eve...</td>\n",
              "      <td>[business, going, restaurant, nightlife, going...</td>\n",
              "    </tr>\n",
              "    <tr>\n",
              "      <th>5</th>\n",
              "      <td>5.0</td>\n",
              "      <td>0.9182</td>\n",
              "      <td>love, best, show, find, friend, girl, move, hi...</td>\n",
              "      <td>[ive, examined, newest, quinnipiac, poll, thor...</td>\n",
              "    </tr>\n",
              "    <tr>\n",
              "      <th>6</th>\n",
              "      <td>6.0</td>\n",
              "      <td>0.8714</td>\n",
              "      <td>like, good, feel, look, guy, felt, number, tel...</td>\n",
              "      <td>[like, jack, male, river, river, female, jack]</td>\n",
              "    </tr>\n",
              "    <tr>\n",
              "      <th>7</th>\n",
              "      <td>7.0</td>\n",
              "      <td>0.9100</td>\n",
              "      <td>think, right, thought, day, time, idea, human,...</td>\n",
              "      <td>[jo, martin, doctor, thats, gave, credit, end,...</td>\n",
              "    </tr>\n",
              "    <tr>\n",
              "      <th>8</th>\n",
              "      <td>8.0</td>\n",
              "      <td>0.9000</td>\n",
              "      <td>make, world, better, sure, game, bit, problem,...</td>\n",
              "      <td>[hope, make, smile, hope, make, dance, hope, m...</td>\n",
              "    </tr>\n",
              "    <tr>\n",
              "      <th>9</th>\n",
              "      <td>9.0</td>\n",
              "      <td>0.8875</td>\n",
              "      <td>one, away, player, real, thing, long, club, di...</td>\n",
              "      <td>[day, end, bernie, sander, top, even, close, s...</td>\n",
              "    </tr>\n",
              "  </tbody>\n",
              "</table>\n",
              "</div>"
            ],
            "text/plain": [
              "   Topic_Num  ...                                               Text\n",
              "0        0.0  ...  [would, happened, without, mobilised, quick, c...\n",
              "1        1.0  ...  [want, sit, set, read, prepared, remark, wante...\n",
              "2        2.0  ...  [discussion, take, place, teacher, teacher, un...\n",
              "3        3.0  ...  [unfortunately, due, late, stage, unable, fill...\n",
              "4        4.0  ...  [business, going, restaurant, nightlife, going...\n",
              "5        5.0  ...  [ive, examined, newest, quinnipiac, poll, thor...\n",
              "6        6.0  ...     [like, jack, male, river, river, female, jack]\n",
              "7        7.0  ...  [jo, martin, doctor, thats, gave, credit, end,...\n",
              "8        8.0  ...  [hope, make, smile, hope, make, dance, hope, m...\n",
              "9        9.0  ...  [day, end, bernie, sander, top, even, close, s...\n",
              "\n",
              "[10 rows x 4 columns]"
            ]
          },
          "metadata": {},
          "execution_count": 191
        }
      ]
    },
    {
      "cell_type": "code",
      "metadata": {
        "colab": {
          "base_uri": "https://localhost:8080/"
        },
        "id": "OJoaRPqku0Qa",
        "outputId": "253fc7c6-64bf-4b9e-c86e-1cc3cccfb653"
      },
      "source": [
        "for i in range(0,10):\n",
        "  print('keywords : ' + sent_topics_sorteddf_mallet.Keywords[i])\n",
        "  print('text : ' + str(sent_topics_sorteddf_mallet.Text[i]))\n",
        "  print('\\n')"
      ],
      "execution_count": 193,
      "outputs": [
        {
          "output_type": "stream",
          "name": "stdout",
          "text": [
            "keywords : get, need, support, help, health, give, public, care, risk, understand\n",
            "text : ['would', 'happened', 'without', 'mobilised', 'quick', 'campaign', 'health', 'expert', 'campaigner', 'journalist', 'alike', 'made', 'impossible', 'government', 'deny', 'medical', 'moral', 'force', 'case', 'early', 'abortion', 'care', 'home']\n",
            "\n",
            "\n",
            "keywords : know, want, go, take, get, play, say, school, kid, hand\n",
            "text : ['want', 'sit', 'set', 'read', 'prepared', 'remark', 'wanted', 'hear', 'exactly', 'im', 'coming', 'im', 'feeling', 'let', 'everybody', 'know', 'disrespect', 'intended']\n",
            "\n",
            "\n",
            "keywords : life, see, say, child, case, mean, part, fact, woman, kind\n",
            "text : ['discussion', 'take', 'place', 'teacher', 'teacher', 'union', 'school', 'management', 'allow', 'unique', 'arrangement', 'take', 'place', 'response', 'national', 'crisis']\n",
            "\n",
            "\n",
            "keywords : time, year, lot, week, last, day, get, month, end, night\n",
            "text : ['unfortunately', 'due', 'late', 'stage', 'unable', 'fill', 'particular', 'table', 'manager', 'also', 'phoned', 'monday', 'day', 'off', 'inform', 'yet', 'able', 'sell', 'ticket', 'see', 'luck']\n",
            "\n",
            "\n",
            "keywords : thing, back, way, come, great, work, home, even, go, keep\n",
            "text : ['business', 'going', 'restaurant', 'nightlife', 'going', 'friend', 'really', 'go', 'back', 'normal', 'were', 'preparing', 'surge', 'thing', 'return', 'normal']\n",
            "\n",
            "\n",
            "keywords : love, best, show, find, friend, girl, move, high, fan, news\n",
            "text : ['ive', 'examined', 'newest', 'quinnipiac', 'poll', 'thoroughly', 'unfortunately', 'break', 'black', 'voter', 'age', 'class', 'education', 'even', 'gender', 'black', 'white', 'respondent', 'receive', 'nuanced', 'treatment', 'poll']\n",
            "\n",
            "\n",
            "keywords : like, good, feel, look, guy, felt, number, tell, person, state\n",
            "text : ['like', 'jack', 'male', 'river', 'river', 'female', 'jack']\n",
            "\n",
            "\n",
            "keywords : think, right, thought, day, time, idea, human, sort, death, talk\n",
            "text : ['jo', 'martin', 'doctor', 'thats', 'gave', 'credit', 'end', 'new', 'doctor', 'first', 'time', 'see', 'them', 'john', 'hurt', 'got', 'credit']\n",
            "\n",
            "\n",
            "keywords : make, world, better, sure, game, bit, problem, let, stop, face\n",
            "text : ['hope', 'make', 'smile', 'hope', 'make', 'dance', 'hope', 'make', 'proud']\n",
            "\n",
            "\n",
            "keywords : one, away, player, real, thing, long, club, difficult, point, reason\n",
            "text : ['day', 'end', 'bernie', 'sander', 'top', 'even', 'close', 'second', 'considerable', 'pressure', 'biden', 'step', 'down']\n",
            "\n",
            "\n"
          ]
        }
      ]
    },
    {
      "cell_type": "code",
      "metadata": {
        "id": "b0jWgD5PsuRL"
      },
      "source": [
        "topics = { 0 : 'politics and public health', 1 : 'school and bullying (??)', 2 : 'Children and school', 3 : 'past, fix a meeting', 4 : 'nightlife and return to normal', 5 : 'heart-warming shows and news', 6 : ' state news', 7 : 'medecine', 8 : 'hopeful for the world', 9 : 'votes status'}"
      ],
      "execution_count": 194,
      "outputs": []
    },
    {
      "cell_type": "markdown",
      "metadata": {
        "id": "lYnDWPt8svhG"
      },
      "source": [
        "Test other numbers of topics"
      ]
    },
    {
      "cell_type": "code",
      "metadata": {
        "id": "M1Xekz-Byx0Z"
      },
      "source": [
        ""
      ],
      "execution_count": null,
      "outputs": []
    },
    {
      "cell_type": "code",
      "metadata": {
        "id": "VoWU5Eg-nmRy"
      },
      "source": [
        "def compute_coherence_values(dictionary, corpus, texts, limit, start=2, step=3):\n",
        "    coherence_values = []\n",
        "    model_list = []\n",
        "    for num_topics in range(start, limit, step):\n",
        "      #(doc_term_matrix, num_topics=10, id2word = dictionary, passes=50,workers=4)\n",
        "      model = gensim.models.LdaMulticore(corpus=corpus,\n",
        "                                           id2word=id2word,\n",
        "                                           num_topics=num_topics, \n",
        "                                           random_state=100,\n",
        "                                           chunksize=100,\n",
        "                                           passes=10,\n",
        "                                           per_word_topics=True, \n",
        "                                           workers=4)\n",
        "      model_list.append(model)\n",
        "      coherencemodel = CoherenceModel(model=model, texts=texts, dictionary=dictionary, coherence='c_v')\n",
        "      coherence_values.append(coherencemodel.get_coherence())\n",
        "\n",
        "    return model_list, coherence_values"
      ],
      "execution_count": 169,
      "outputs": []
    },
    {
      "cell_type": "code",
      "metadata": {
        "id": "NLgEB0W1oHkj"
      },
      "source": [
        "modellist, coherence_values = compute_coherence_values(dictionary=dictionary, corpus=doc_term_matrix, texts=doc_clean, start=2, limit=20, step=3)"
      ],
      "execution_count": 162,
      "outputs": []
    },
    {
      "cell_type": "code",
      "metadata": {
        "colab": {
          "base_uri": "https://localhost:8080/",
          "height": 283
        },
        "id": "72Nj4Q68oYjh",
        "outputId": "efd16da7-3a80-4e78-a22c-0be913b78efd"
      },
      "source": [
        "# Show graph\n",
        "limit=20; start=2; step=3;\n",
        "x = range(start, limit, step)\n",
        "plt.plot(x, coherence_values)\n",
        "plt.xlabel(\"Num Topics\")\n",
        "plt.ylabel(\"Coherence score\")\n",
        "plt.legend((\"coherence_values\"), loc='best')\n",
        "plt.show()"
      ],
      "execution_count": 163,
      "outputs": [
        {
          "output_type": "display_data",
          "data": {
            "image/png": "[encoded data removed]",
            "text/plain": [
              "<Figure size 432x288 with 1 Axes>"
            ]
          },
          "metadata": {
            "needs_background": "light"
          }
        }
      ]
    },
    {
      "cell_type": "code",
      "metadata": {
        "colab": {
          "base_uri": "https://localhost:8080/"
        },
        "id": "gN3SaGWRrX78",
        "outputId": "e3a25616-d50f-4085-9339-5cc6c9267558"
      },
      "source": [
        "optimodel = modellist[2]\n",
        "coherence_values[2]"
      ],
      "execution_count": 166,
      "outputs": [
        {
          "output_type": "execute_result",
          "data": {
            "text/plain": [
              "0.2765762183627411"
            ]
          },
          "metadata": {},
          "execution_count": 166
        }
      ]
    },
    {
      "cell_type": "code",
      "metadata": {
        "colab": {
          "base_uri": "https://localhost:8080/"
        },
        "id": "WY-ThjBOsGp7",
        "outputId": "0a362e30-6cef-40b2-c39e-903c3803b115"
      },
      "source": [
        "optimodel.print_topics()"
      ],
      "execution_count": 168,
      "outputs": [
        {
          "output_type": "execute_result",
          "data": {
            "text/plain": [
              "[(0,\n",
              "  '0.074*\"blow\" + 0.060*\"somewhere\" + 0.037*\"function\" + 0.030*\"building\" + 0.024*\"ozzy\" + 0.023*\"fun\" + 0.020*\"be\" + 0.020*\"strategy\" + 0.017*\"heave\" + 0.015*\"artist\"'),\n",
              " (1,\n",
              "  '0.068*\"remain\" + 0.048*\"therefore\" + 0.032*\"political\" + 0.026*\"longer\" + 0.024*\"burden\" + 0.020*\"shell\" + 0.017*\"teacher\" + 0.016*\"week\" + 0.015*\"capable\" + 0.014*\"claim\"'),\n",
              " (2,\n",
              "  '0.057*\"hit\" + 0.052*\"resilience\" + 0.049*\"structure\" + 0.040*\"infrastructure\" + 0.029*\"capable\" + 0.020*\"period\" + 0.017*\"excellent\" + 0.017*\"even\" + 0.016*\"minute\" + 0.014*\"life\"'),\n",
              " (3,\n",
              "  '0.106*\"soccer\" + 0.038*\"twitter\" + 0.038*\"invest\" + 0.024*\"take\" + 0.022*\"heat\" + 0.021*\"pose\" + 0.018*\"cover\" + 0.018*\"loss\" + 0.017*\"intend\" + 0.015*\"remorse\"'),\n",
              " (4,\n",
              "  '0.049*\"decision\" + 0.040*\"shell\" + 0.031*\"still\" + 0.030*\"send\" + 0.025*\"mean\" + 0.024*\"increase\" + 0.024*\"pass\" + 0.020*\"embrace\" + 0.019*\"structure\" + 0.018*\"play\"'),\n",
              " (5,\n",
              "  '0.118*\"around\" + 0.037*\"run\" + 0.037*\"financially\" + 0.026*\"other\" + 0.025*\"regime\" + 0.024*\"insight\" + 0.023*\"home\" + 0.023*\"fear\" + 0.022*\"championship\" + 0.020*\"country\"'),\n",
              " (6,\n",
              "  '0.100*\"kind\" + 0.047*\"week\" + 0.047*\"ask\" + 0.030*\"solitary\" + 0.028*\"swing\" + 0.024*\"new\" + 0.022*\"remain\" + 0.019*\"hit\" + 0.019*\"box\" + 0.018*\"school\"'),\n",
              " (7,\n",
              "  '0.094*\"time\" + 0.054*\"osbourne\" + 0.030*\"tend\" + 0.027*\"matthew\" + 0.027*\"remaking\" + 0.026*\"structure\" + 0.025*\"care\" + 0.022*\"black\" + 0.020*\"clothe\" + 0.019*\"dwell\"')]"
            ]
          },
          "metadata": {},
          "execution_count": 168
        }
      ]
    }
  ]
}
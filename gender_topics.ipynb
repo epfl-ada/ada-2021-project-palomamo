{
  "cells": [
    {
      "cell_type": "markdown",
      "metadata": {
        "id": "view-in-github",
        "colab_type": "text"
      },
      "source": [
        "<a href=\"https://colab.research.google.com/github/morwald/ada_project/blob/master/gender_topics.ipynb\" target=\"_parent\"><img src=\"https://colab.research.google.com/assets/colab-badge.svg\" alt=\"Open In Colab\"/></a>"
      ]
    },
    {
      "cell_type": "markdown",
      "metadata": {
        "id": "7txCTyrTM0qJ"
      },
      "source": [
        "# Analysis of gender distribution in UK's leading newspapers\n",
        "# Gender representation"
      ]
    },
    {
      "cell_type": "markdown",
      "metadata": {
        "id": "ucef3_UkM0qP"
      },
      "source": [
        "## Content\n",
        "1. [Setup](#setup)   \n",
        "    1.1 [Global](#global_setup)  \n",
        "    1.2 [Local](#local_setup)"
      ]
    },
    {
      "cell_type": "markdown",
      "metadata": {
        "id": "owgTJarZM0qP"
      },
      "source": [
        "## 1. Setup\n",
        "<a id=\"setup\"></a>"
      ]
    },
    {
      "cell_type": "markdown",
      "metadata": {
        "id": "zp3xDPai3f6O"
      },
      "source": [
        "### 1.1 Global\n",
        "<a id=\"global_setup\"></a>"
      ]
    },
    {
      "cell_type": "code",
      "execution_count": null,
      "metadata": {
        "colab": {
          "base_uri": "https://localhost:8080/"
        },
        "id": "dYZoNvMB3f6P",
        "outputId": "a1fc95f9-9651-4644-fb1c-1d53f094dd7a",
        "scrolled": true
      },
      "outputs": [
        {
          "output_type": "stream",
          "name": "stdout",
          "text": [
            "Mounted at /content/drive\n",
            "/content/drive/Shareddrives/ADA-project\n"
          ]
        }
      ],
      "source": [
        "# Change to true if you want to use google colab\n",
        "use_colab = True\n",
        "\n",
        "# Import with EPFL google drive!\n",
        "if use_colab:\n",
        "    from google.colab import drive\n",
        "    drive._mount('/content/drive', force_remount=True)\n",
        "    %cd /content/drive/Shareddrives/ADA-project\n",
        "    #!pip install pandas==1.0.5 # downgrade pandas for chunk processing support"
      ]
    },
    {
      "cell_type": "code",
      "execution_count": null,
      "metadata": {
        "id": "hzfP-W7znkx3"
      },
      "outputs": [],
      "source": [
        "# Defined paths for the data\n",
        "from scripts.path_defs import *\n",
        "\n",
        "# Defined newspapers and urls\n",
        "from scripts.newspapers import *\n",
        "\n",
        "# Globally used functions\n",
        "from scripts.utility_functions import load_mini_version_of_data\n",
        "from scripts.utility_functions import convert_to_1Dseries\n",
        "from scripts.utility_functions import process_data_in_chunks\n",
        "\n",
        "# Functions and libraries to perform topic analysis\n",
        "from collections import Counter\n",
        "from functools import reduce"
      ]
    },
    {
      "cell_type": "markdown",
      "metadata": {
        "id": "5yqsvZuAM0qQ"
      },
      "source": [
        "### 1.2 Local \n",
        "<a id=\"local_setup\"></a>"
      ]
    },
    {
      "cell_type": "code",
      "execution_count": null,
      "metadata": {
        "id": "CbpVgsXe3f6R"
      },
      "outputs": [],
      "source": [
        "import pandas as pd\n",
        "import numpy as np\n",
        "import seaborn as sns\n",
        "import matplotlib.pyplot as plt\n",
        "import json\n",
        "import bz2"
      ]
    },
    {
      "cell_type": "markdown",
      "source": [
        "## Topic analysis set up with empath"
      ],
      "metadata": {
        "id": "NhgKT_7FLEOJ"
      }
    },
    {
      "cell_type": "markdown",
      "source": [
        "TODO : Intro on empath, which year, what it does, why we use it"
      ],
      "metadata": {
        "id": "or1xt0XaLifC"
      }
    },
    {
      "cell_type": "code",
      "execution_count": null,
      "metadata": {
        "colab": {
          "base_uri": "https://localhost:8080/"
        },
        "id": "o4PHw9Vh4AI9",
        "outputId": "a772e391-512b-4ccc-9800-50bda70db26e"
      },
      "outputs": [
        {
          "output_type": "stream",
          "name": "stdout",
          "text": [
            "Collecting empath\n",
            "  Downloading empath-0.89.tar.gz (57 kB)\n",
            "\u001b[?25l\r\u001b[K     |█████▊                          | 10 kB 22.4 MB/s eta 0:00:01\r\u001b[K     |███████████▍                    | 20 kB 27.7 MB/s eta 0:00:01\r\u001b[K     |█████████████████               | 30 kB 15.0 MB/s eta 0:00:01\r\u001b[K     |██████████████████████▊         | 40 kB 10.4 MB/s eta 0:00:01\r\u001b[K     |████████████████████████████▍   | 51 kB 5.3 MB/s eta 0:00:01\r\u001b[K     |████████████████████████████████| 57 kB 2.8 MB/s \n",
            "\u001b[?25hRequirement already satisfied: requests in /usr/local/lib/python3.7/dist-packages (from empath) (2.23.0)\n",
            "Requirement already satisfied: chardet<4,>=3.0.2 in /usr/local/lib/python3.7/dist-packages (from requests->empath) (3.0.4)\n",
            "Requirement already satisfied: urllib3!=1.25.0,!=1.25.1,<1.26,>=1.21.1 in /usr/local/lib/python3.7/dist-packages (from requests->empath) (1.24.3)\n",
            "Requirement already satisfied: certifi>=2017.4.17 in /usr/local/lib/python3.7/dist-packages (from requests->empath) (2021.10.8)\n",
            "Requirement already satisfied: idna<3,>=2.5 in /usr/local/lib/python3.7/dist-packages (from requests->empath) (2.10)\n",
            "Building wheels for collected packages: empath\n",
            "  Building wheel for empath (setup.py) ... \u001b[?25l\u001b[?25hdone\n",
            "  Created wheel for empath: filename=empath-0.89-py3-none-any.whl size=57821 sha256=2f818ac08c5350b17f4d24f2f3ee96f4843c6bb51fa9cdff42d01faf8064b144\n",
            "  Stored in directory: /root/.cache/pip/wheels/2b/78/a8/37d4505eeae79807f4b5565a193f7cfcee892137ad37591029\n",
            "Successfully built empath\n",
            "Installing collected packages: empath\n",
            "Successfully installed empath-0.89\n"
          ]
        }
      ],
      "source": [
        "! pip install empath"
      ]
    },
    {
      "cell_type": "code",
      "execution_count": null,
      "metadata": {
        "id": "BIYdMU844CED"
      },
      "outputs": [],
      "source": [
        "from empath import Empath\n",
        "\n",
        "# Define lexicon\n",
        "lexicon = Empath()"
      ]
    },
    {
      "cell_type": "code",
      "execution_count": null,
      "metadata": {
        "colab": {
          "base_uri": "https://localhost:8080/"
        },
        "id": "phCrmZeH9i7I",
        "outputId": "bd8758ee-cd2e-4222-984a-e367b9f62648"
      },
      "outputs": [
        {
          "output_type": "stream",
          "name": "stdout",
          "text": [
            "[\"harassment\", \"consent\", \"coercion\", \"notification\", \"legal_rights\", \"due_process\", \"criminal_prosecution\", \"constitutional_rights\", \"such_conduct\", \"abuse\", \"unlawful\", \"court_orders\", \"confidentiality\", \"sexual_harassment\", \"illegal_activity\", \"criminal_proceedings\", \"misconduct\", \"violation\", \"sexual_activity\", \"sexual_relations\", \"conduct\", \"rape_victims\", \"sanction\", \"criminal_conduct\", \"sexual_contact\", \"recourse\", \"injunctions\", \"discrimination\", \"sexual_orientation\", \"intimidation\", \"criminal_activity\", \"such_practices\", \"sexual_conduct\", \"criminal_prosecutions\", \"mistreatment\", \"the_Fourth_Amendment\", \"illegality\", \"civil_authorities\", \"sex_discrimination\", \"federal_laws\", \"reasonable_suspicion\", \"disciplinary_actions\", \"Florida_law\", \"Miranda_warnings\", \"complainants\", \"immigration_status\", \"privacy_rights\", \"political_beliefs\", \"racial_discrimination\", \"noncompliance\", \"sex_crimes\", \"homosexual_conduct\", \"sexual_intercourse\", \"preferential_treatment\", \"parental_consent\", \"New_York_State_law\", \"certain_cases\", \"preventive_detention\", \"lawfully\", \"abusers\", \"Federal_laws\", \"First_Amendment_rights\", \"sexual_activities\", \"political_activity\", \"criminal_penalties\", \"federal_law\", \"constitutional_protection\", \"inappropriate_behavior\", \"physical_force\", \"abusive_priests\", \"legal_recourse\", \"excessive_force\", \"criminal_behavior\", \"legal_right\", \"physical_violence\", \"homosexual_acts\", \"the_Fifth_Amendment\", \"deadly_force\", \"physical_abuse\", \"New_York_law\", \"secret_evidence\", \"offender\", \"criminal_suspects\", \"political_activities\", \"criminal_acts\", \"prohibition\", \"security_clearances\", \"such_violations\", \"consent\", \"immunity\", \"legal_basis\", \"corporal_punishment\", \"exclusion\", \"prior_approval\", \"petitioners\", \"redress\", \"such_cases\", \"racial_harassment\", \"legal_grounds\", \"sex_offenders\"]\n"
          ]
        }
      ],
      "source": [
        "# Creation of a category me-too to describe better the feminism event of the last few years\n",
        "lexicon.create_category(\"metoo\",[\"metoo\",\"#metoo\",\"consent\", \"harassment\", \"sexual assault\", \"sexual misconduct\"], model='nytimes')"
      ]
    },
    {
      "cell_type": "markdown",
      "source": [
        "### Utility functions"
      ],
      "metadata": {
        "id": "b2rB4mvzL0kw"
      }
    },
    {
      "cell_type": "code",
      "execution_count": null,
      "metadata": {
        "id": "SLXW33tygKlc"
      },
      "outputs": [],
      "source": [
        "def add_dict(dict1, dict2):\n",
        "  counter1 = Counter(dict1)\n",
        "  counter2 = Counter(dict2) \n",
        "\n",
        "  dict_ = dict(counter1 + counter2) \n",
        "  \n",
        "  return dict_"
      ]
    },
    {
      "cell_type": "code",
      "execution_count": null,
      "metadata": {
        "id": "UpXAaeEsX-6p"
      },
      "outputs": [],
      "source": [
        "def get_topics_quote(quote):\n",
        "  categories = lexicon.analyze(quote, normalize=True)\n",
        "  return categories"
      ]
    },
    {
      "cell_type": "code",
      "execution_count": null,
      "metadata": {
        "id": "0MYkCxB9eY47"
      },
      "outputs": [],
      "source": [
        "def get_gender_topics(chunk, gender_topics_df, year):\n",
        "  raw_df = chunk.copy()[['quotation', 'gender']] # Select rows of interest\n",
        "\n",
        "  #Add year\n",
        "  raw_df['year'] = year\n",
        "\n",
        "  # Group genders\n",
        "  mask_male = raw_df.gender.apply(lambda x : 'male' in x)\n",
        "  mask_female = raw_df.gender.apply(lambda x : 'female' in x)\n",
        "  mask_others = raw_df.gender.apply(lambda x : ('male' not in x) and ('female' not in x))\n",
        "  \n",
        "  male_topics_df = raw_df[mask_male]\n",
        "  female_topics_df = raw_df[mask_female]\n",
        "  others_topics_df = raw_df[mask_others]\n",
        "\n",
        "  # Add topics and topics probability per quotation to each gender's dictionary\n",
        "  male_topics_dict, female_topics_dict, others_topics_dict = {}, {}, {}\n",
        "\n",
        "  male_topics_dict_list = male_topics_df.quotation.apply(get_topics_quote)\n",
        "  male_topics_dict = reduce(add_dict,male_topics_dict_list)\n",
        "\n",
        "  female_topics_dict_list = female_topics_df.quotation.apply(get_topics_quote)\n",
        "  female_topics_dict = reduce(add_dict,female_topics_dict_list)\n",
        "\n",
        "  others_topics_dict_list = others_topics_df.quotation.apply(get_topics_quote)\n",
        "  if others_topics_dict_list.any():\n",
        "    others_topics_dict = reduce(add_dict,others_topics_dict_list)\n",
        "  \n",
        "\n",
        "  # Create final dataframe\n",
        "  cols = ['year', 'gender', 'topics']\n",
        "  \n",
        "  gender_topics_df = pd.DataFrame(columns=cols)\n",
        "  if bool(male_topics_dict):\n",
        "    gender_topics_df = gender_topics_df.append(pd.DataFrame([[year, 'male', dict(male_topics_dict)]], columns=cols), ignore_index = True)\n",
        "  if bool(female_topics_dict):\n",
        "    gender_topics_df = gender_topics_df.append(pd.DataFrame([[year, 'female', female_topics_dict]], columns=cols), ignore_index = True)\n",
        "  if bool(others_topics_dict):\n",
        "    gender_topics_df = gender_topics_df.append(pd.DataFrame([[year, 'others', others_topics_dict]], columns=cols), ignore_index = True)\n",
        "\n",
        "  return gender_topics_df  "
      ]
    },
    {
      "cell_type": "markdown",
      "source": [
        "### Example of use"
      ],
      "metadata": {
        "id": "d-ETDL7DMwnb"
      }
    },
    {
      "cell_type": "code",
      "execution_count": null,
      "metadata": {
        "id": "oTFVh4-vfjoR"
      },
      "outputs": [],
      "source": [
        "mini_df_2018 =  load_mini_version_of_data(MERGED_QUOTES_2018_PATH, 10, 2,use_colab)"
      ]
    },
    {
      "cell_type": "code",
      "execution_count": null,
      "metadata": {
        "colab": {
          "base_uri": "https://localhost:8080/",
          "height": 442
        },
        "id": "2e7RcUulgfKa",
        "outputId": "3901f3b2-9cf0-4fb8-faf9-5699977217c0"
      },
      "outputs": [
        {
          "data": {
            "text/html": [
              "<div>\n",
              "<style scoped>\n",
              "    .dataframe tbody tr th:only-of-type {\n",
              "        vertical-align: middle;\n",
              "    }\n",
              "\n",
              "    .dataframe tbody tr th {\n",
              "        vertical-align: top;\n",
              "    }\n",
              "\n",
              "    .dataframe thead th {\n",
              "        text-align: right;\n",
              "    }\n",
              "</style>\n",
              "<table border=\"1\" class=\"dataframe\">\n",
              "  <thead>\n",
              "    <tr style=\"text-align: right;\">\n",
              "      <th></th>\n",
              "      <th>quoteID</th>\n",
              "      <th>quotation</th>\n",
              "      <th>speaker</th>\n",
              "      <th>date</th>\n",
              "      <th>numOccurrences</th>\n",
              "      <th>urls</th>\n",
              "      <th>newspapers</th>\n",
              "      <th>qid</th>\n",
              "      <th>gender</th>\n",
              "      <th>nationality</th>\n",
              "      <th>occupation</th>\n",
              "    </tr>\n",
              "  </thead>\n",
              "  <tbody>\n",
              "    <tr>\n",
              "      <th>0</th>\n",
              "      <td>2018-05-29-000378</td>\n",
              "      <td>[ The chances of Bale signing for Manchester U...</td>\n",
              "      <td>Jose Mourinho</td>\n",
              "      <td>2018-05-29 13:12:18</td>\n",
              "      <td>1</td>\n",
              "      <td>[https://www.dailystar.co.uk/sport/football/70...</td>\n",
              "      <td>[Daily Star]</td>\n",
              "      <td>Q79983</td>\n",
              "      <td>[male]</td>\n",
              "      <td>[Portugal]</td>\n",
              "      <td>[association football manager, association foo...</td>\n",
              "    </tr>\n",
              "    <tr>\n",
              "      <th>1</th>\n",
              "      <td>2018-12-12-000462</td>\n",
              "      <td>[ The female character in the song ] is sweet,...</td>\n",
              "      <td>Deana Martin</td>\n",
              "      <td>2018-12-12 11:19:56</td>\n",
              "      <td>4</td>\n",
              "      <td>[http://www.completemusicupdate.com/article/de...</td>\n",
              "      <td>[The Daily Telegraph]</td>\n",
              "      <td>Q17305837</td>\n",
              "      <td>[female]</td>\n",
              "      <td>[United States of America]</td>\n",
              "      <td>[jazz musician, television actor, film actor]</td>\n",
              "    </tr>\n",
              "    <tr>\n",
              "      <th>2</th>\n",
              "      <td>2018-12-09-000490</td>\n",
              "      <td>A Christmas box!!!!! All our fav things.. CHRI...</td>\n",
              "      <td>Nicola Wilson</td>\n",
              "      <td>2018-12-09 10:54:34</td>\n",
              "      <td>2</td>\n",
              "      <td>[https://www.dailyrecord.co.uk/news/scottish-n...</td>\n",
              "      <td>[Daily Record, Daily Mirror]</td>\n",
              "      <td>Q441340</td>\n",
              "      <td>[female]</td>\n",
              "      <td>[United Kingdom]</td>\n",
              "      <td>[event rider]</td>\n",
              "    </tr>\n",
              "    <tr>\n",
              "      <th>3</th>\n",
              "      <td>2018-06-26-001361</td>\n",
              "      <td>A friend has raised this with me and the first...</td>\n",
              "      <td>Jim Wells</td>\n",
              "      <td>2018-06-26 07:10:00</td>\n",
              "      <td>1</td>\n",
              "      <td>[https://www.belfasttelegraph.co.uk/news/north...</td>\n",
              "      <td>[The Daily Telegraph]</td>\n",
              "      <td>Q42171328</td>\n",
              "      <td>[male]</td>\n",
              "      <td>[United States of America]</td>\n",
              "      <td>[photographer]</td>\n",
              "    </tr>\n",
              "    <tr>\n",
              "      <th>4</th>\n",
              "      <td>2018-10-27-001417</td>\n",
              "      <td>Absolutely in sync. Fantastic.</td>\n",
              "      <td>Shirley Ballas</td>\n",
              "      <td>2018-10-27 20:19:00</td>\n",
              "      <td>1</td>\n",
              "      <td>[https://www.standard.co.uk/stayingin/tvfilm/a...</td>\n",
              "      <td>[Evening Standard]</td>\n",
              "      <td>Q7498691</td>\n",
              "      <td>[female]</td>\n",
              "      <td>[United Kingdom]</td>\n",
              "      <td>[teacher, dancer]</td>\n",
              "    </tr>\n",
              "  </tbody>\n",
              "</table>\n",
              "</div>"
            ],
            "text/plain": [
              "             quoteID  ...                                         occupation\n",
              "0  2018-05-29-000378  ...  [association football manager, association foo...\n",
              "1  2018-12-12-000462  ...      [jazz musician, television actor, film actor]\n",
              "2  2018-12-09-000490  ...                                      [event rider]\n",
              "3  2018-06-26-001361  ...                                     [photographer]\n",
              "4  2018-10-27-001417  ...                                  [teacher, dancer]\n",
              "\n",
              "[5 rows x 11 columns]"
            ]
          },
          "execution_count": 10,
          "metadata": {},
          "output_type": "execute_result"
        }
      ],
      "source": [
        "mini_df_2018.head()"
      ]
    },
    {
      "cell_type": "code",
      "execution_count": null,
      "metadata": {
        "colab": {
          "base_uri": "https://localhost:8080/",
          "height": 54
        },
        "id": "Mw-xRO6VXRMm",
        "outputId": "41a071fc-8b6f-420e-ad3d-62407afb15bb"
      },
      "outputs": [
        {
          "data": {
            "application/vnd.google.colaboratory.intrinsic+json": {
              "type": "string"
            },
            "text/plain": [
              "\"[ The female character in the song ] is sweet, she's playing along with him. It's flirting, it's sexy, it's sweet. There's nothing bad about that song, and it just breaks my heart\""
            ]
          },
          "execution_count": 13,
          "metadata": {},
          "output_type": "execute_result"
        }
      ],
      "source": [
        "mini_df_2018['quotation'][1]"
      ]
    },
    {
      "cell_type": "code",
      "execution_count": null,
      "metadata": {
        "colab": {
          "base_uri": "https://localhost:8080/"
        },
        "id": "_iP35S9sVe-w",
        "outputId": "ae6fecf8-7155-4707-8359-fc847e420217"
      },
      "outputs": [
        {
          "data": {
            "text/plain": [
              "{'art': 0.030303030303030304,\n",
              " 'children': 0.030303030303030304,\n",
              " 'dance': 0.030303030303030304,\n",
              " 'emotional': 0.030303030303030304,\n",
              " 'hate': 0.030303030303030304,\n",
              " 'heroic': 0.030303030303030304,\n",
              " 'listen': 0.06060606060606061,\n",
              " 'music': 0.030303030303030304,\n",
              " 'musical': 0.06060606060606061,\n",
              " 'negative_emotion': 0.030303030303030304,\n",
              " 'pain': 0.030303030303030304,\n",
              " 'play': 0.030303030303030304,\n",
              " 'shame': 0.030303030303030304,\n",
              " 'sports': 0.030303030303030304,\n",
              " 'suffering': 0.030303030303030304,\n",
              " 'swearing_terms': 0.030303030303030304,\n",
              " 'toy': 0.030303030303030304,\n",
              " 'violence': 0.030303030303030304}"
            ]
          },
          "execution_count": 14,
          "metadata": {},
          "output_type": "execute_result"
        }
      ],
      "source": [
        "get_topics_quote(mini_df_2018['quotation'][1], {})"
      ]
    },
    {
      "cell_type": "code",
      "execution_count": null,
      "metadata": {
        "id": "rLnuwKEhr0x1"
      },
      "outputs": [],
      "source": [
        "# Get topics per gender for mini dataframe\n",
        "gender_topic = pd.DataFrame(columns=['year', 'gender', 'topics'])\n",
        "gender_topic = get_gender_topics(mini_df_2018,gender_topic, 2018)"
      ]
    },
    {
      "cell_type": "code",
      "execution_count": null,
      "metadata": {
        "colab": {
          "base_uri": "https://localhost:8080/",
          "height": 111
        },
        "id": "hMBODniauAh_",
        "outputId": "e25e0bf0-bb29-4255-cf63-f6b197c9f501"
      },
      "outputs": [
        {
          "data": {
            "text/html": [
              "<div>\n",
              "<style scoped>\n",
              "    .dataframe tbody tr th:only-of-type {\n",
              "        vertical-align: middle;\n",
              "    }\n",
              "\n",
              "    .dataframe tbody tr th {\n",
              "        vertical-align: top;\n",
              "    }\n",
              "\n",
              "    .dataframe thead th {\n",
              "        text-align: right;\n",
              "    }\n",
              "</style>\n",
              "<table border=\"1\" class=\"dataframe\">\n",
              "  <thead>\n",
              "    <tr style=\"text-align: right;\">\n",
              "      <th></th>\n",
              "      <th>year</th>\n",
              "      <th>gender</th>\n",
              "      <th>topics</th>\n",
              "    </tr>\n",
              "  </thead>\n",
              "  <tbody>\n",
              "    <tr>\n",
              "      <th>0</th>\n",
              "      <td>2018</td>\n",
              "      <td>male</td>\n",
              "      <td>{'help': 0.1388888888888889, 'party': 0.112698...</td>\n",
              "    </tr>\n",
              "    <tr>\n",
              "      <th>1</th>\n",
              "      <td>2018</td>\n",
              "      <td>female</td>\n",
              "      <td>{'dance': 0.030303030303030304, 'hate': 0.0303...</td>\n",
              "    </tr>\n",
              "  </tbody>\n",
              "</table>\n",
              "</div>"
            ],
            "text/plain": [
              "   year  gender                                             topics\n",
              "0  2018    male  {'help': 0.1388888888888889, 'party': 0.112698...\n",
              "1  2018  female  {'dance': 0.030303030303030304, 'hate': 0.0303..."
            ]
          },
          "execution_count": 102,
          "metadata": {},
          "output_type": "execute_result"
        }
      ],
      "source": [
        "gender_topic.head()"
      ]
    },
    {
      "cell_type": "markdown",
      "source": [
        "### Add topics for each gender for quotations of years 2015-2020"
      ],
      "metadata": {
        "id": "Sblb6nf3Mjms"
      }
    },
    {
      "cell_type": "code",
      "execution_count": null,
      "metadata": {
        "colab": {
          "background_save": true
        },
        "id": "fSF3p_tJqrTz"
      },
      "outputs": [],
      "source": [
        "# Run once : create topics dataframe per year\n",
        "#topics_2015_df = pd.DataFrame(columns=['quoteID', 'quotation', 'gender', 'year', 'topics'])\n",
        "#topics_2015_df = process_data_in_chunks(MERGED_QUOTES_2015_PATH, get_gender_topics, topics_2015_df, 2015, use_colab)"
      ]
    },
    {
      "cell_type": "code",
      "execution_count": null,
      "metadata": {
        "colab": {
          "background_save": true
        },
        "id": "88K7vwnS6Ru_"
      },
      "outputs": [],
      "source": [
        "# Run once : save dataframe\n",
        "#topics_2015_df.to_pickle('Data with topics/QUOTES_TOPICS_2015')"
      ]
    },
    {
      "cell_type": "markdown",
      "metadata": {
        "id": "-gYw5eXkot4K"
      },
      "source": [
        "## Interpretation"
      ]
    },
    {
      "cell_type": "markdown",
      "source": [
        "We will perform a first analysis of results on the 2020 dataset."
      ],
      "metadata": {
        "id": "Z8jBKXU5N7kb"
      }
    },
    {
      "cell_type": "code",
      "source": [
        "# Retrieve gender's topics dataframe from 2020\n",
        "topics_2020_df = pd.read_pickle('Data with topics/QUOTES_TOPICS_2020.pkl')"
      ],
      "metadata": {
        "id": "Jc7-pZ2lOOC4"
      },
      "execution_count": null,
      "outputs": []
    },
    {
      "cell_type": "code",
      "execution_count": null,
      "metadata": {
        "id": "4V97HvGcEQcU"
      },
      "outputs": [],
      "source": [
        "# Create one topic dictionary per gender\n",
        "dict_topics_males = topics_2020_df[topics_2020_df['gender'] == 'male'].topics.values[0]\n",
        "dict_topics_females = topics_2020_df[topics_2020_df['gender'] == 'female'].topics.values[0]\n",
        "dict_topics_others = topics_2020_df[topics_2020_df['gender'] == 'others'].topics.values[0]"
      ]
    },
    {
      "cell_type": "code",
      "execution_count": null,
      "metadata": {
        "id": "LTl-aXLtP6a2"
      },
      "outputs": [],
      "source": [
        "# Get n most cited topics\n",
        "def get_n_most_cited(dict_topics_gender, n):\n",
        "  return dict(Counter(dict_topics_gender).most_common(n))"
      ]
    },
    {
      "cell_type": "code",
      "source": [
        "def categorical_plot(dict_topics_gender, gender):\n",
        "  names = list(dict_topics_gender.keys())\n",
        "  values = list(dict_topics_gender.values())\n",
        "\n",
        "  fig, axs = plt.subplots(1, 1, figsize=(30, 8), sharey=True)\n",
        "  axs.bar(names, values)\n",
        "  plt.xticks(rotation=90)\n",
        "  fig.suptitle('Categorical Plotting : ' + gender)"
      ],
      "metadata": {
        "id": "OXJS4eZ-cCyo"
      },
      "execution_count": null,
      "outputs": []
    },
    {
      "cell_type": "code",
      "execution_count": null,
      "metadata": {
        "colab": {
          "base_uri": "https://localhost:8080/",
          "height": 425
        },
        "id": "1SCpMGPxwotj",
        "outputId": "4dce1d75-3090-4a0d-ec87-9ed5e97b8aa0"
      },
      "outputs": [
        {
          "output_type": "display_data",
          "data": {
            "image/png": "[encoded data removed]",
            "text/plain": [
              "<Figure size 2160x576 with 1 Axes>"
            ]
          },
          "metadata": {
            "needs_background": "light"
          }
        }
      ],
      "source": [
        "n_most_males = get_n_most_cited(dict_topics_males, 10)\n",
        "categorical_plot(n_most_males, 'male')"
      ]
    },
    {
      "cell_type": "code",
      "execution_count": null,
      "metadata": {
        "colab": {
          "base_uri": "https://localhost:8080/",
          "height": 425
        },
        "id": "bQpZ1fs1y8s_",
        "outputId": "e1cb6753-a3a5-4897-9f34-6324700ba323"
      },
      "outputs": [
        {
          "output_type": "display_data",
          "data": {
            "image/png": "[encoded data removed]",
            "text/plain": [
              "<Figure size 2160x576 with 1 Axes>"
            ]
          },
          "metadata": {
            "needs_background": "light"
          }
        }
      ],
      "source": [
        "n_most_females = get_n_most_cited(dict_topics_females, 10)\n",
        "categorical_plot(n_most_females, 'female')"
      ]
    },
    {
      "cell_type": "code",
      "source": [
        "n_most_others = get_n_most_cited(dict_topics_others, 10)\n",
        "categorical_plot(n_most_others, 'other genders')"
      ],
      "metadata": {
        "colab": {
          "base_uri": "https://localhost:8080/",
          "height": 425
        },
        "id": "dpnNJ3JxdxNq",
        "outputId": "1de82c66-ae45-4011-b457-7a61d78e4131"
      },
      "execution_count": null,
      "outputs": [
        {
          "output_type": "display_data",
          "data": {
            "image/png": "[encoded data removed]",
            "text/plain": [
              "<Figure size 2160x576 with 1 Axes>"
            ]
          },
          "metadata": {
            "needs_background": "light"
          }
        }
      ]
    },
    {
      "cell_type": "code",
      "source": [
        "n_most = [n_most_males, n_most_females, n_most_others]\n",
        "genders = ['Male', 'Female', 'Other genders']"
      ],
      "metadata": {
        "id": "7u_3OKhlf8hL"
      },
      "execution_count": null,
      "outputs": []
    },
    {
      "cell_type": "code",
      "source": [
        "from wordcloud import WordCloud, STOPWORDS\n",
        "import matplotlib.colors as mcolors\n",
        "\n",
        "cols = ['dodgerblue', 'hotpink', 'darkorchid']\n",
        "fig, axes = plt.subplots(1, 3, figsize=(10,10), sharex=True, sharey=True)\n",
        "\n",
        "cloud = WordCloud(width=3000,\n",
        "                  height=1900,\n",
        "                  prefer_horizontal=1.0,\n",
        "                  max_words=10,\n",
        "                  background_color='white',\n",
        "                  relative_scaling = 1,\n",
        "                  color_func=lambda *args, **kwargs: cols[i])\n",
        "\n",
        "for i, ax in enumerate(axes.flatten()):\n",
        "    fig.add_subplot(ax)\n",
        "    topic_words = n_most[i]\n",
        "    cloud.generate_from_frequencies(topic_words, max_font_size=300)\n",
        "    plt.gca().imshow(cloud)\n",
        "    plt.gca().set_title(genders[i], fontdict=dict(size=16))\n",
        "    plt.gca().axis('off')\n",
        "\n",
        "\n",
        "plt.subplots_adjust(wspace=0, hspace=0)\n",
        "plt.axis('off')\n",
        "plt.margins(x=0, y=0)\n",
        "plt.tight_layout()\n",
        "plt.show()"
      ],
      "metadata": {
        "colab": {
          "base_uri": "https://localhost:8080/",
          "height": 192
        },
        "id": "PqwMBxXufd6L",
        "outputId": "352cdabb-dff6-4543-da99-e467fd23a18c"
      },
      "execution_count": null,
      "outputs": [
        {
          "output_type": "display_data",
          "data": {
            "image/png": "[encoded data removed]",
            "text/plain": [
              "<Figure size 720x720 with 3 Axes>"
            ]
          },
          "metadata": {
            "needs_background": "light"
          }
        }
      ]
    },
    {
      "cell_type": "code",
      "source": [
        "male_df = pd.DataFrame.from_dict(n_most_males, orient='index', columns=['count'])\n",
        "male_df['gender'] = 'male'\n",
        "female_df = pd.DataFrame.from_dict(n_most_females, orient='index', columns=['count'])\n",
        "female_df['gender'] = 'female'\n",
        "male_female_df = pd.concat([male_df, female_df], axis=0)\n",
        "male_female_df"
      ],
      "metadata": {
        "colab": {
          "base_uri": "https://localhost:8080/",
          "height": 677
        },
        "id": "qKXCdBNeozP9",
        "outputId": "e71706a9-cbba-4218-e619-2486d5c708ce"
      },
      "execution_count": 129,
      "outputs": [
        {
          "output_type": "execute_result",
          "data": {
            "text/html": [
              "<div>\n",
              "<style scoped>\n",
              "    .dataframe tbody tr th:only-of-type {\n",
              "        vertical-align: middle;\n",
              "    }\n",
              "\n",
              "    .dataframe tbody tr th {\n",
              "        vertical-align: top;\n",
              "    }\n",
              "\n",
              "    .dataframe thead th {\n",
              "        text-align: right;\n",
              "    }\n",
              "</style>\n",
              "<table border=\"1\" class=\"dataframe\">\n",
              "  <thead>\n",
              "    <tr style=\"text-align: right;\">\n",
              "      <th></th>\n",
              "      <th>count</th>\n",
              "      <th>gender</th>\n",
              "    </tr>\n",
              "  </thead>\n",
              "  <tbody>\n",
              "    <tr>\n",
              "      <th>business</th>\n",
              "      <td>320.926736</td>\n",
              "      <td>male</td>\n",
              "    </tr>\n",
              "    <tr>\n",
              "      <th>positive_emotion</th>\n",
              "      <td>319.659747</td>\n",
              "      <td>male</td>\n",
              "    </tr>\n",
              "    <tr>\n",
              "      <th>negative_emotion</th>\n",
              "      <td>305.402236</td>\n",
              "      <td>male</td>\n",
              "    </tr>\n",
              "    <tr>\n",
              "      <th>giving</th>\n",
              "      <td>257.182285</td>\n",
              "      <td>male</td>\n",
              "    </tr>\n",
              "    <tr>\n",
              "      <th>speaking</th>\n",
              "      <td>247.058702</td>\n",
              "      <td>male</td>\n",
              "    </tr>\n",
              "    <tr>\n",
              "      <th>optimism</th>\n",
              "      <td>225.880655</td>\n",
              "      <td>male</td>\n",
              "    </tr>\n",
              "    <tr>\n",
              "      <th>sports</th>\n",
              "      <td>205.718273</td>\n",
              "      <td>male</td>\n",
              "    </tr>\n",
              "    <tr>\n",
              "      <th>achievement</th>\n",
              "      <td>198.527241</td>\n",
              "      <td>male</td>\n",
              "    </tr>\n",
              "    <tr>\n",
              "      <th>communication</th>\n",
              "      <td>198.198077</td>\n",
              "      <td>male</td>\n",
              "    </tr>\n",
              "    <tr>\n",
              "      <th>party</th>\n",
              "      <td>196.733255</td>\n",
              "      <td>male</td>\n",
              "    </tr>\n",
              "    <tr>\n",
              "      <th>positive_emotion</th>\n",
              "      <td>126.506551</td>\n",
              "      <td>female</td>\n",
              "    </tr>\n",
              "    <tr>\n",
              "      <th>negative_emotion</th>\n",
              "      <td>106.608789</td>\n",
              "      <td>female</td>\n",
              "    </tr>\n",
              "    <tr>\n",
              "      <th>business</th>\n",
              "      <td>88.540051</td>\n",
              "      <td>female</td>\n",
              "    </tr>\n",
              "    <tr>\n",
              "      <th>optimism</th>\n",
              "      <td>87.521958</td>\n",
              "      <td>female</td>\n",
              "    </tr>\n",
              "    <tr>\n",
              "      <th>children</th>\n",
              "      <td>87.139205</td>\n",
              "      <td>female</td>\n",
              "    </tr>\n",
              "    <tr>\n",
              "      <th>friends</th>\n",
              "      <td>81.843316</td>\n",
              "      <td>female</td>\n",
              "    </tr>\n",
              "    <tr>\n",
              "      <th>speaking</th>\n",
              "      <td>80.067391</td>\n",
              "      <td>female</td>\n",
              "    </tr>\n",
              "    <tr>\n",
              "      <th>giving</th>\n",
              "      <td>72.791767</td>\n",
              "      <td>female</td>\n",
              "    </tr>\n",
              "    <tr>\n",
              "      <th>party</th>\n",
              "      <td>71.392789</td>\n",
              "      <td>female</td>\n",
              "    </tr>\n",
              "    <tr>\n",
              "      <th>communication</th>\n",
              "      <td>69.899251</td>\n",
              "      <td>female</td>\n",
              "    </tr>\n",
              "  </tbody>\n",
              "</table>\n",
              "</div>"
            ],
            "text/plain": [
              "                       count  gender\n",
              "business          320.926736    male\n",
              "positive_emotion  319.659747    male\n",
              "negative_emotion  305.402236    male\n",
              "giving            257.182285    male\n",
              "speaking          247.058702    male\n",
              "optimism          225.880655    male\n",
              "sports            205.718273    male\n",
              "achievement       198.527241    male\n",
              "communication     198.198077    male\n",
              "party             196.733255    male\n",
              "positive_emotion  126.506551  female\n",
              "negative_emotion  106.608789  female\n",
              "business           88.540051  female\n",
              "optimism           87.521958  female\n",
              "children           87.139205  female\n",
              "friends            81.843316  female\n",
              "speaking           80.067391  female\n",
              "giving             72.791767  female\n",
              "party              71.392789  female\n",
              "communication      69.899251  female"
            ]
          },
          "metadata": {},
          "execution_count": 129
        }
      ]
    },
    {
      "cell_type": "code",
      "execution_count": null,
      "metadata": {
        "colab": {
          "base_uri": "https://localhost:8080/",
          "height": 206
        },
        "id": "Vy9454eZrOBE",
        "outputId": "693ddf6d-9744-4048-81e9-cd9f97d63eeb"
      },
      "outputs": [
        {
          "output_type": "execute_result",
          "data": {
            "text/html": [
              "<div>\n",
              "<style scoped>\n",
              "    .dataframe tbody tr th:only-of-type {\n",
              "        vertical-align: middle;\n",
              "    }\n",
              "\n",
              "    .dataframe tbody tr th {\n",
              "        vertical-align: top;\n",
              "    }\n",
              "\n",
              "    .dataframe thead th {\n",
              "        text-align: right;\n",
              "    }\n",
              "</style>\n",
              "<table border=\"1\" class=\"dataframe\">\n",
              "  <thead>\n",
              "    <tr style=\"text-align: right;\">\n",
              "      <th></th>\n",
              "      <th>count</th>\n",
              "    </tr>\n",
              "  </thead>\n",
              "  <tbody>\n",
              "    <tr>\n",
              "      <th>cold</th>\n",
              "      <td>65.959692</td>\n",
              "    </tr>\n",
              "    <tr>\n",
              "      <th>leader</th>\n",
              "      <td>105.328659</td>\n",
              "    </tr>\n",
              "    <tr>\n",
              "      <th>movement</th>\n",
              "      <td>126.222772</td>\n",
              "    </tr>\n",
              "    <tr>\n",
              "      <th>body</th>\n",
              "      <td>91.615766</td>\n",
              "    </tr>\n",
              "    <tr>\n",
              "      <th>military</th>\n",
              "      <td>56.932362</td>\n",
              "    </tr>\n",
              "  </tbody>\n",
              "</table>\n",
              "</div>"
            ],
            "text/plain": [
              "               count\n",
              "cold       65.959692\n",
              "leader    105.328659\n",
              "movement  126.222772\n",
              "body       91.615766\n",
              "military   56.932362"
            ]
          },
          "metadata": {},
          "execution_count": 86
        }
      ],
      "source": [
        "topics_counts_df = pd.DataFrame.from_dict(dict_topics_males,orient='index', columns=['count'])\n",
        "topics_counts_df.head()"
      ]
    },
    {
      "cell_type": "code",
      "execution_count": null,
      "metadata": {
        "colab": {
          "base_uri": "https://localhost:8080/"
        },
        "id": "GGHvD12Wv3Qm",
        "outputId": "917f3957-4e69-490e-ffad-ff76abef7e04"
      },
      "outputs": [
        {
          "data": {
            "text/plain": [
              "(195, 2)"
            ]
          },
          "execution_count": 41,
          "metadata": {},
          "output_type": "execute_result"
        }
      ],
      "source": [
        "topics_counts_df.shape"
      ]
    },
    {
      "cell_type": "code",
      "execution_count": null,
      "metadata": {
        "id": "GWqeL6KeptfH"
      },
      "outputs": [],
      "source": [
        "import seaborn as sns\n",
        "import matplotlib.pyplot as plt\n",
        "sns.set_theme(style=\"ticks\", color_codes=True)\n"
      ]
    },
    {
      "cell_type": "code",
      "execution_count": null,
      "metadata": {
        "colab": {
          "base_uri": "https://localhost:8080/",
          "height": 365
        },
        "id": "lCppRngLq1B_",
        "outputId": "a0fe3f96-e4b5-4ddf-e046-2cc38c2bee63"
      },
      "outputs": [
        {
          "data": {
            "image/png": "[encoded data removed]",
            "text/plain": [
              "<Figure size 360x360 with 1 Axes>"
            ]
          },
          "metadata": {},
          "output_type": "display_data"
        }
      ],
      "source": [
        "from matplotlib import rcParams\n",
        "\n",
        "topics_counts_df['topic'] = topics_counts_df.index\n",
        "# figure size in inches\n",
        "ax = sns.catplot(x='topic', y=\"count\", data=topics_counts_df.head())"
      ]
    },
    {
      "cell_type": "code",
      "execution_count": null,
      "metadata": {
        "id": "5s-rBjCesO1W"
      },
      "outputs": [],
      "source": [
        ""
      ]
    }
  ],
  "metadata": {
    "accelerator": "TPU",
    "colab": {
      "collapsed_sections": [],
      "name": "gender_topics.ipynb",
      "provenance": [],
      "include_colab_link": true
    },
    "kernelspec": {
      "display_name": "Python 3 (ipykernel)",
      "language": "python",
      "name": "python3"
    },
    "language_info": {
      "codemirror_mode": {
        "name": "ipython",
        "version": 3
      },
      "file_extension": ".py",
      "mimetype": "text/x-python",
      "name": "python",
      "nbconvert_exporter": "python",
      "pygments_lexer": "ipython3",
      "version": "3.8.11"
    }
  },
  "nbformat": 4,
  "nbformat_minor": 0
}
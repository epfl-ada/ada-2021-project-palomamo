{
  "cells": [
    {
      "cell_type": "markdown",
      "metadata": {
        "id": "view-in-github",
        "colab_type": "text"
      },
      "source": [
        "<a href=\"https://colab.research.google.com/github/morwald/ada_project/blob/master/gender_topics.ipynb\" target=\"_parent\"><img src=\"https://colab.research.google.com/assets/colab-badge.svg\" alt=\"Open In Colab\"/></a>"
      ]
    },
    {
      "cell_type": "markdown",
      "metadata": {
        "id": "7txCTyrTM0qJ"
      },
      "source": [
        "# Analysis of gender distribution in UK's leading newspapers\n",
        "# Gender representation"
      ]
    },
    {
      "cell_type": "markdown",
      "metadata": {
        "id": "ucef3_UkM0qP"
      },
      "source": [
        "## Content\n",
        "1. [Setup](#setup)   \n",
        "    1.1 [Global](#global_setup)  \n",
        "    1.2 [Local](#local_setup)"
      ]
    },
    {
      "cell_type": "markdown",
      "metadata": {
        "id": "owgTJarZM0qP",
        "tags": []
      },
      "source": [
        "## 1. Setup\n",
        "<a id=\"setup\"></a>"
      ]
    },
    {
      "cell_type": "markdown",
      "metadata": {
        "id": "zp3xDPai3f6O"
      },
      "source": [
        "### 1.1 Global\n",
        "<a id=\"global_setup\"></a>"
      ]
    },
    {
      "cell_type": "code",
      "execution_count": 1,
      "metadata": {
        "scrolled": true,
        "id": "dYZoNvMB3f6P",
        "colab": {
          "base_uri": "https://localhost:8080/"
        },
        "outputId": "200e8a4d-f7ce-411a-b081-d779b80a3d36"
      },
      "outputs": [
        {
          "output_type": "stream",
          "name": "stdout",
          "text": [
            "Mounted at /content/drive\n",
            "/content/drive/Shareddrives/ADA-project\n",
            "Requirement already satisfied: pandas==1.0.5 in /usr/local/lib/python3.7/dist-packages (1.0.5)\n",
            "Requirement already satisfied: numpy>=1.13.3 in /usr/local/lib/python3.7/dist-packages (from pandas==1.0.5) (1.19.5)\n",
            "Requirement already satisfied: python-dateutil>=2.6.1 in /usr/local/lib/python3.7/dist-packages (from pandas==1.0.5) (2.8.2)\n",
            "Requirement already satisfied: pytz>=2017.2 in /usr/local/lib/python3.7/dist-packages (from pandas==1.0.5) (2018.9)\n",
            "Requirement already satisfied: six>=1.5 in /usr/local/lib/python3.7/dist-packages (from python-dateutil>=2.6.1->pandas==1.0.5) (1.15.0)\n"
          ]
        }
      ],
      "source": [
        "# Change to true if you want to use google colab\n",
        "use_colab = True\n",
        "\n",
        "# Import with EPFL google drive!\n",
        "if use_colab:\n",
        "    from google.colab import drive\n",
        "    drive._mount('/content/drive', force_remount=True)\n",
        "    %cd /content/drive/Shareddrives/ADA-project\n",
        "    !pip install pandas==1.0.5 # downgrade pandas for chunk processing support"
      ]
    },
    {
      "cell_type": "code",
      "execution_count": 2,
      "metadata": {
        "id": "hzfP-W7znkx3"
      },
      "outputs": [],
      "source": [
        "# Defined paths for the data\n",
        "from scripts.path_defs import *\n",
        "\n",
        "# Defined newspapers and urls\n",
        "from scripts.newspapers import *\n",
        "\n",
        "# Globally used functions\n",
        "from scripts.utility_functions import load_mini_version_of_data\n",
        "from scripts.utility_functions import convert_to_1Dseries\n",
        "from scripts.utility_functions import process_data_in_chunks"
      ]
    },
    {
      "cell_type": "markdown",
      "metadata": {
        "id": "5yqsvZuAM0qQ"
      },
      "source": [
        "### 1.2 Local \n",
        "<a id=\"local_setup\"></a>"
      ]
    },
    {
      "cell_type": "code",
      "execution_count": 4,
      "metadata": {
        "id": "CbpVgsXe3f6R"
      },
      "outputs": [],
      "source": [
        "import pandas as pd\n",
        "import numpy as np\n",
        "import seaborn as sns\n",
        "import matplotlib.pyplot as plt\n",
        "import json\n",
        "import bz2\n"
      ]
    },
    {
      "cell_type": "code",
      "source": [
        "! pip install empath"
      ],
      "metadata": {
        "colab": {
          "base_uri": "https://localhost:8080/"
        },
        "id": "o4PHw9Vh4AI9",
        "outputId": "98fc5468-99eb-43f3-d089-68064318cf50"
      },
      "execution_count": 5,
      "outputs": [
        {
          "output_type": "stream",
          "name": "stdout",
          "text": [
            "Collecting empath\n",
            "  Downloading empath-0.89.tar.gz (57 kB)\n",
            "\u001b[?25l\r\u001b[K     |█████▊                          | 10 kB 25.4 MB/s eta 0:00:01\r\u001b[K     |███████████▍                    | 20 kB 28.5 MB/s eta 0:00:01\r\u001b[K     |█████████████████               | 30 kB 12.0 MB/s eta 0:00:01\r\u001b[K     |██████████████████████▊         | 40 kB 9.2 MB/s eta 0:00:01\r\u001b[K     |████████████████████████████▍   | 51 kB 5.3 MB/s eta 0:00:01\r\u001b[K     |████████████████████████████████| 57 kB 2.9 MB/s \n",
            "\u001b[?25hRequirement already satisfied: requests in /usr/local/lib/python3.7/dist-packages (from empath) (2.23.0)\n",
            "Requirement already satisfied: urllib3!=1.25.0,!=1.25.1,<1.26,>=1.21.1 in /usr/local/lib/python3.7/dist-packages (from requests->empath) (1.24.3)\n",
            "Requirement already satisfied: chardet<4,>=3.0.2 in /usr/local/lib/python3.7/dist-packages (from requests->empath) (3.0.4)\n",
            "Requirement already satisfied: idna<3,>=2.5 in /usr/local/lib/python3.7/dist-packages (from requests->empath) (2.10)\n",
            "Requirement already satisfied: certifi>=2017.4.17 in /usr/local/lib/python3.7/dist-packages (from requests->empath) (2021.10.8)\n",
            "Building wheels for collected packages: empath\n",
            "  Building wheel for empath (setup.py) ... \u001b[?25l\u001b[?25hdone\n",
            "  Created wheel for empath: filename=empath-0.89-py3-none-any.whl size=57821 sha256=5756f7a79aff2b9ab397eb0ae060e1ffda8c8457bf8bbd9da54e1a2ea9ed92b0\n",
            "  Stored in directory: /root/.cache/pip/wheels/2b/78/a8/37d4505eeae79807f4b5565a193f7cfcee892137ad37591029\n",
            "Successfully built empath\n",
            "Installing collected packages: empath\n",
            "Successfully installed empath-0.89\n"
          ]
        }
      ]
    },
    {
      "cell_type": "code",
      "source": [
        "from empath import Empath\n",
        "lexicon = Empath()"
      ],
      "metadata": {
        "id": "BIYdMU844CED"
      },
      "execution_count": 6,
      "outputs": []
    },
    {
      "cell_type": "code",
      "source": [
        "quotes_df = pd.read_json(MERGED_QUOTES_2020_PATH, lines=True, compression='bz2')\n",
        "doc_complete = quotes_df.quotation.tolist()\n",
        "\n",
        "doc_complete[:3]"
      ],
      "metadata": {
        "colab": {
          "base_uri": "https://localhost:8080/"
        },
        "id": "4xUU2bao4Jvr",
        "outputId": "def6257d-f657-4f11-c21e-958ce499146e"
      },
      "execution_count": 11,
      "outputs": [
        {
          "output_type": "execute_result",
          "data": {
            "text/plain": [
              "['[ The delay ] will have an impact [ on Slough ] but that might be mitigated by the fact we are going to have this Western Rail Link to Heathrow. It looks like that may come in sooner than Crossrail.',\n",
              " \"And for the record, Eamonn Holmes made me laugh, he lightened a very emotional moment and I'm very happy that he did.\",\n",
              " 'And help he always did. For someone who preferred to be behind the scenes, he was at the center of absolutely everything.']"
            ]
          },
          "metadata": {},
          "execution_count": 11
        }
      ]
    },
    {
      "cell_type": "code",
      "source": [
        "doc_complete[1]"
      ],
      "metadata": {
        "colab": {
          "base_uri": "https://localhost:8080/",
          "height": 54
        },
        "id": "n_gGDQoN7VKt",
        "outputId": "0db831a8-4a58-4a4d-c88e-9a5f0a35e6c9"
      },
      "execution_count": 16,
      "outputs": [
        {
          "output_type": "execute_result",
          "data": {
            "application/vnd.google.colaboratory.intrinsic+json": {
              "type": "string"
            },
            "text/plain": [
              "\"And for the record, Eamonn Holmes made me laugh, he lightened a very emotional moment and I'm very happy that he did.\""
            ]
          },
          "metadata": {},
          "execution_count": 16
        }
      ]
    },
    {
      "cell_type": "code",
      "source": [
        "lexicon.create_category(\"metoo\",[\"metoo\",\"#metoo\",\"consent\", \"harassment\", \"sexual assault\", \"sexual misconduct\"])"
      ],
      "metadata": {
        "colab": {
          "base_uri": "https://localhost:8080/"
        },
        "id": "phCrmZeH9i7I",
        "outputId": "cd89f57a-512c-457e-c834-1f2fb99f2089"
      },
      "execution_count": 17,
      "outputs": [
        {
          "output_type": "stream",
          "name": "stdout",
          "text": [
            "[\"consent\", \"harassment\", \"claims\", \"death_sentence\", \"permission\", \"obligation\", \"violation\", \"complaint\", \"consequence\", \"interference\", \"disobedience\", \"disregard\", \"liable\", \"ownership\", \"policy\", \"partnership\", \"commission\", \"restriction\", \"punishments\", \"fraud\", \"conduct\", \"spouse\", \"affairs\", \"limitation\", \"free_will\", \"refusal\", \"restrictions\", \"obligations\", \"execution\", \"creditor\", \"penalty\", \"relations\", \"termination\", \"association\", \"testimony\", \"treason\", \"offender\", \"privileges\", \"conditions\", \"expressly\", \"necessity\", \"violating\", \"superiors\", \"regards\", \"witness\", \"death_penalty\", \"prejudice\", \"associates\", \"liability\", \"permit\", \"compensation\", \"authorization\", \"justification\", \"crimes\", \"claim\", \"discrimination\", \"debtor\", \"authorized\", \"adultery\", \"benefit\", \"terminate\", \"discretion\", \"felony\", \"conception\", \"testator\", \"imposed\", \"Therefore\", \"imprisonment\", \"repercussions\", \"regard\", \"involvement\", \"other_means\", \"thereby\", \"principles\", \"punishment\", \"misbehavior\", \"witnesses\", \"negligence\", \"motive\", \"institution\", \"defendant\", \"validity\", \"payment\", \"objections\", \"contract\", \"Council\", \"bribery\", \"services\", \"donor\", \"Furthermore\", \"accusations\", \"judgment\", \"deeds\", \"withdrawal\", \"permitted\", \"jurisdiction\", \"function\", \"merit\", \"inquiries\", \"consulting\"]\n"
          ]
        }
      ]
    },
    {
      "cell_type": "code",
      "source": [
        "cat = lexicon.analyze(doc_complete[1], normalize=True)\n"
      ],
      "metadata": {
        "id": "Ed5lWysOA195"
      },
      "execution_count": 18,
      "outputs": []
    },
    {
      "cell_type": "code",
      "source": [
        "cate = { key : value for key,value in cat.items() if value > 0}\n",
        "list(cate.keys())"
      ],
      "metadata": {
        "colab": {
          "base_uri": "https://localhost:8080/"
        },
        "id": "pa0jF45YA7zS",
        "outputId": "63a6f3b6-be06-4265-f8d4-cdc7c42d2f01"
      },
      "execution_count": 29,
      "outputs": [
        {
          "output_type": "execute_result",
          "data": {
            "text/plain": [
              "['wedding',\n",
              " 'cheerfulness',\n",
              " 'suffering',\n",
              " 'optimism',\n",
              " 'childish',\n",
              " 'celebration',\n",
              " 'sadness',\n",
              " 'emotional',\n",
              " 'party',\n",
              " 'positive_emotion']"
            ]
          },
          "metadata": {},
          "execution_count": 29
        }
      ]
    },
    {
      "cell_type": "code",
      "source": [
        "def add_topics(path_in, path_males, path_females, path_others):\n",
        "  # Loop through all instances of json file and extract the desired rows\n",
        "  # Save the file in the filtered data directory\n",
        "  counter = 0\n",
        "  with bz2.open(path_in, 'rb') as s_file:\n",
        "      with bz2.open(path_males, 'wb') as male_file:\n",
        "              with bz2.open(path_females, 'wb') as female_file:\n",
        "                   with bz2.open(path_others, 'wb') as other_file:\n",
        "                      for instance in s_file:\n",
        "                          instance = json.loads(instance) # loading a sample\n",
        "                        \n",
        "                          quote = instance['quotation'] # extracting the quote\n",
        "                          gender = instance['gender']\n",
        "                          categories = lexicon.analyze(quote, normalize=True)\n",
        "                          cat = { key : value for key,value in categories.items() if value > 0}\n",
        "                          instance['topics'] = list(cat.keys())\n",
        "                          instance['proba_topics'] = list(cat.values())\n",
        "\n",
        "                          if not instance['topics']: # if there are no topics we don't keep this quote\n",
        "                            continue\n",
        "\n",
        "                          if 'female' in gender: \n",
        "                            female_file.write((json.dumps(instance)+'\\n').encode('utf-8')) # writing in the new file\n",
        "                          elif 'male' in gender:\n",
        "                            male_file.write((json.dumps(instance)+'\\n').encode('utf-8')) # writing in the new file\n",
        "                          else:\n",
        "                            other_file.write((json.dumps(instance)+'\\n').encode('utf-8'))  \n",
        "                          counter += 1\n",
        "                          if counter > 100:\n",
        "                            break       "
      ],
      "metadata": {
        "id": "QP7TETjm5MCy"
      },
      "execution_count": 55,
      "outputs": []
    },
    {
      "cell_type": "code",
      "source": [
        "add_topics(MERGED_QUOTES_2020_PATH, 'Data with topics/QUOTES_MALES_2020', 'Data with topics/QUOTES_FEMALES_2020', 'Data with topics/QUOTES_OTHERS_2020')"
      ],
      "metadata": {
        "id": "h2dpNmStCxBU"
      },
      "execution_count": 56,
      "outputs": []
    },
    {
      "cell_type": "code",
      "source": [
        "topics_males = pd.read_json('Data with topics/QUOTES_OTHERS_2020', lines=True,compression='bz2')"
      ],
      "metadata": {
        "id": "4V97HvGcEQcU"
      },
      "execution_count": 58,
      "outputs": []
    },
    {
      "cell_type": "code",
      "source": [
        "topics_males.head()"
      ],
      "metadata": {
        "colab": {
          "base_uri": "https://localhost:8080/",
          "height": 168
        },
        "id": "39N0x57jEYin",
        "outputId": "df4ce3fd-0f52-416c-e7a9-cb00a71db4c8"
      },
      "execution_count": 59,
      "outputs": [
        {
          "output_type": "execute_result",
          "data": {
            "text/html": [
              "<div>\n",
              "<style scoped>\n",
              "    .dataframe tbody tr th:only-of-type {\n",
              "        vertical-align: middle;\n",
              "    }\n",
              "\n",
              "    .dataframe tbody tr th {\n",
              "        vertical-align: top;\n",
              "    }\n",
              "\n",
              "    .dataframe thead th {\n",
              "        text-align: right;\n",
              "    }\n",
              "</style>\n",
              "<table border=\"1\" class=\"dataframe\">\n",
              "  <thead>\n",
              "    <tr style=\"text-align: right;\">\n",
              "      <th></th>\n",
              "      <th>quoteID</th>\n",
              "      <th>quotation</th>\n",
              "      <th>speaker</th>\n",
              "      <th>date</th>\n",
              "      <th>numOccurrences</th>\n",
              "      <th>urls</th>\n",
              "      <th>newspapers</th>\n",
              "      <th>qid</th>\n",
              "      <th>gender</th>\n",
              "      <th>nationality</th>\n",
              "      <th>occupation</th>\n",
              "      <th>topics</th>\n",
              "      <th>proba_topics</th>\n",
              "    </tr>\n",
              "  </thead>\n",
              "  <tbody>\n",
              "    <tr>\n",
              "      <th>0</th>\n",
              "      <td>2020-02-11-025317</td>\n",
              "      <td>He was firing some banter back. Kind of left m...</td>\n",
              "      <td>Jamie Clayton</td>\n",
              "      <td>2020-02-11 13:18:13</td>\n",
              "      <td>2</td>\n",
              "      <td>[https://www.irishmirror.ie/showbiz/celebrity-...</td>\n",
              "      <td>[Daily Mirror]</td>\n",
              "      <td>Q6146739</td>\n",
              "      <td>[transgender female]</td>\n",
              "      <td>[United States of America]</td>\n",
              "      <td>[model, actor, television actor, film actor]</td>\n",
              "      <td>[childish, surprise, shape_and_size, weapon, c...</td>\n",
              "      <td>[0.055555555555555004, 0.055555555555555004, 0...</td>\n",
              "    </tr>\n",
              "  </tbody>\n",
              "</table>\n",
              "</div>"
            ],
            "text/plain": [
              "             quoteID  ...                                       proba_topics\n",
              "0  2020-02-11-025317  ...  [0.055555555555555004, 0.055555555555555004, 0...\n",
              "\n",
              "[1 rows x 13 columns]"
            ]
          },
          "metadata": {},
          "execution_count": 59
        }
      ]
    },
    {
      "cell_type": "code",
      "source": [
        ""
      ],
      "metadata": {
        "id": "zIplHgS2EZyc"
      },
      "execution_count": null,
      "outputs": []
    }
  ],
  "metadata": {
    "accelerator": "TPU",
    "colab": {
      "collapsed_sections": [],
      "name": "Copy of Copy of main.ipynb",
      "provenance": [],
      "include_colab_link": true
    },
    "kernelspec": {
      "display_name": "Python 3 (ipykernel)",
      "language": "python",
      "name": "python3"
    },
    "language_info": {
      "codemirror_mode": {
        "name": "ipython",
        "version": 3
      },
      "file_extension": ".py",
      "mimetype": "text/x-python",
      "name": "python",
      "nbconvert_exporter": "python",
      "pygments_lexer": "ipython3",
      "version": "3.8.11"
    }
  },
  "nbformat": 4,
  "nbformat_minor": 0
}
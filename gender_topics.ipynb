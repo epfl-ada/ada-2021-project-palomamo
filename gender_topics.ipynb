{
  "cells": [
    {
      "cell_type": "markdown",
      "metadata": {
        "id": "view-in-github",
        "colab_type": "text"
      },
      "source": [
        "<a href=\"https://colab.research.google.com/github/morwald/ada_project/blob/master/gender_topics.ipynb\" target=\"_parent\"><img src=\"https://colab.research.google.com/assets/colab-badge.svg\" alt=\"Open In Colab\"/></a>"
      ]
    },
    {
      "cell_type": "markdown",
      "metadata": {
        "id": "7txCTyrTM0qJ"
      },
      "source": [
        "# Analysis of gender distribution in UK's leading newspapers\n",
        "# Gender representation"
      ]
    },
    {
      "cell_type": "markdown",
      "metadata": {
        "id": "ucef3_UkM0qP"
      },
      "source": [
        "## Content\n",
        "1. [Setup](#setup)   \n",
        "    1.1 [Global](#global_setup)  \n",
        "    1.2 [Local](#local_setup)"
      ]
    },
    {
      "cell_type": "markdown",
      "metadata": {
        "id": "owgTJarZM0qP"
      },
      "source": [
        "## 1. Setup\n",
        "<a id=\"setup\"></a>"
      ]
    },
    {
      "cell_type": "markdown",
      "metadata": {
        "id": "zp3xDPai3f6O"
      },
      "source": [
        "### 1.1 Global\n",
        "<a id=\"global_setup\"></a>"
      ]
    },
    {
      "cell_type": "code",
      "execution_count": 1,
      "metadata": {
        "colab": {
          "base_uri": "https://localhost:8080/"
        },
        "id": "dYZoNvMB3f6P",
        "outputId": "23523778-bf40-4dbd-f6f9-ff978dfe9eb6",
        "scrolled": true
      },
      "outputs": [
        {
          "output_type": "stream",
          "name": "stdout",
          "text": [
            "Mounted at /content/drive\n",
            "/content/drive/Shareddrives/ADA-project\n"
          ]
        }
      ],
      "source": [
        "# Change to true if you want to use google colab\n",
        "use_colab = True\n",
        "\n",
        "# Import with EPFL google drive!\n",
        "if use_colab:\n",
        "    from google.colab import drive\n",
        "    drive._mount('/content/drive', force_remount=True)\n",
        "    %cd /content/drive/Shareddrives/ADA-project\n",
        "    #!pip install pandas==1.0.5 # downgrade pandas for chunk processing support"
      ]
    },
    {
      "cell_type": "code",
      "execution_count": 2,
      "metadata": {
        "id": "hzfP-W7znkx3"
      },
      "outputs": [],
      "source": [
        "# Defined paths for the data\n",
        "from scripts.path_defs import *\n",
        "\n",
        "# Defined newspapers and urls\n",
        "from scripts.newspapers import *\n",
        "\n",
        "# Globally used functions\n",
        "from scripts.utility_functions import load_mini_version_of_data\n",
        "from scripts.utility_functions import convert_to_1Dseries\n",
        "from scripts.utility_functions import process_data_in_chunks"
      ]
    },
    {
      "cell_type": "markdown",
      "metadata": {
        "id": "5yqsvZuAM0qQ"
      },
      "source": [
        "### 1.2 Local \n",
        "<a id=\"local_setup\"></a>"
      ]
    },
    {
      "cell_type": "code",
      "execution_count": 3,
      "metadata": {
        "id": "CbpVgsXe3f6R"
      },
      "outputs": [],
      "source": [
        "import pandas as pd\n",
        "import numpy as np\n",
        "import seaborn as sns\n",
        "import matplotlib.pyplot as plt\n",
        "import json\n",
        "import bz2\n"
      ]
    },
    {
      "cell_type": "code",
      "execution_count": 4,
      "metadata": {
        "colab": {
          "base_uri": "https://localhost:8080/"
        },
        "id": "o4PHw9Vh4AI9",
        "outputId": "f6f924fb-7969-4970-9a4a-9549c69fe7c1"
      },
      "outputs": [
        {
          "output_type": "stream",
          "name": "stdout",
          "text": [
            "Collecting empath\n",
            "  Downloading empath-0.89.tar.gz (57 kB)\n",
            "\u001b[?25l\r\u001b[K     |█████▊                          | 10 kB 20.4 MB/s eta 0:00:01\r\u001b[K     |███████████▍                    | 20 kB 11.8 MB/s eta 0:00:01\r\u001b[K     |█████████████████               | 30 kB 9.3 MB/s eta 0:00:01\r\u001b[K     |██████████████████████▊         | 40 kB 8.5 MB/s eta 0:00:01\r\u001b[K     |████████████████████████████▍   | 51 kB 5.4 MB/s eta 0:00:01\r\u001b[K     |████████████████████████████████| 57 kB 2.7 MB/s \n",
            "\u001b[?25hRequirement already satisfied: requests in /usr/local/lib/python3.7/dist-packages (from empath) (2.23.0)\n",
            "Requirement already satisfied: urllib3!=1.25.0,!=1.25.1,<1.26,>=1.21.1 in /usr/local/lib/python3.7/dist-packages (from requests->empath) (1.24.3)\n",
            "Requirement already satisfied: certifi>=2017.4.17 in /usr/local/lib/python3.7/dist-packages (from requests->empath) (2021.10.8)\n",
            "Requirement already satisfied: chardet<4,>=3.0.2 in /usr/local/lib/python3.7/dist-packages (from requests->empath) (3.0.4)\n",
            "Requirement already satisfied: idna<3,>=2.5 in /usr/local/lib/python3.7/dist-packages (from requests->empath) (2.10)\n",
            "Building wheels for collected packages: empath\n",
            "  Building wheel for empath (setup.py) ... \u001b[?25l\u001b[?25hdone\n",
            "  Created wheel for empath: filename=empath-0.89-py3-none-any.whl size=57821 sha256=2643afe09129cb191143fd67f536eef1ffc0f9eb4f484d7763517afce03cd23d\n",
            "  Stored in directory: /root/.cache/pip/wheels/2b/78/a8/37d4505eeae79807f4b5565a193f7cfcee892137ad37591029\n",
            "Successfully built empath\n",
            "Installing collected packages: empath\n",
            "Successfully installed empath-0.89\n"
          ]
        }
      ],
      "source": [
        "! pip install empath"
      ]
    },
    {
      "cell_type": "code",
      "execution_count": 5,
      "metadata": {
        "id": "BIYdMU844CED"
      },
      "outputs": [],
      "source": [
        "from empath import Empath\n",
        "lexicon = Empath()"
      ]
    },
    {
      "cell_type": "code",
      "execution_count": 6,
      "metadata": {
        "colab": {
          "base_uri": "https://localhost:8080/"
        },
        "id": "4xUU2bao4Jvr",
        "outputId": "3b44ca26-14b9-43af-b170-f65a547bb953"
      },
      "outputs": [
        {
          "output_type": "execute_result",
          "data": {
            "text/plain": [
              "['[ The delay ] will have an impact [ on Slough ] but that might be mitigated by the fact we are going to have this Western Rail Link to Heathrow. It looks like that may come in sooner than Crossrail.',\n",
              " \"And for the record, Eamonn Holmes made me laugh, he lightened a very emotional moment and I'm very happy that he did.\",\n",
              " 'And help he always did. For someone who preferred to be behind the scenes, he was at the center of absolutely everything.']"
            ]
          },
          "metadata": {},
          "execution_count": 6
        }
      ],
      "source": [
        "quotes_df = pd.read_json(MERGED_QUOTES_2020_PATH, lines=True, compression='bz2')\n",
        "doc_complete = quotes_df.quotation.tolist()"
      ]
    },
    {
      "cell_type": "code",
      "execution_count": 7,
      "metadata": {
        "colab": {
          "base_uri": "https://localhost:8080/",
          "height": 37
        },
        "id": "n_gGDQoN7VKt",
        "outputId": "515217b2-7823-442b-d6d1-672ef1d473c8"
      },
      "outputs": [
        {
          "output_type": "execute_result",
          "data": {
            "application/vnd.google.colaboratory.intrinsic+json": {
              "type": "string"
            },
            "text/plain": [
              "\"And for the record, Eamonn Holmes made me laugh, he lightened a very emotional moment and I'm very happy that he did.\""
            ]
          },
          "metadata": {},
          "execution_count": 7
        }
      ],
      "source": [
        "doc_complete[1]"
      ]
    },
    {
      "cell_type": "code",
      "execution_count": 8,
      "metadata": {
        "colab": {
          "base_uri": "https://localhost:8080/"
        },
        "id": "phCrmZeH9i7I",
        "outputId": "304237c7-05a3-46b6-c08e-9089d28b6c5f"
      },
      "outputs": [
        {
          "output_type": "stream",
          "name": "stdout",
          "text": [
            "[\"harassment\", \"consent\", \"coercion\", \"notification\", \"legal_rights\", \"due_process\", \"criminal_prosecution\", \"constitutional_rights\", \"such_conduct\", \"abuse\", \"unlawful\", \"court_orders\", \"confidentiality\", \"sexual_harassment\", \"illegal_activity\", \"criminal_proceedings\", \"misconduct\", \"violation\", \"sexual_activity\", \"sexual_relations\", \"conduct\", \"rape_victims\", \"sanction\", \"criminal_conduct\", \"sexual_contact\", \"recourse\", \"injunctions\", \"discrimination\", \"sexual_orientation\", \"intimidation\", \"criminal_activity\", \"such_practices\", \"sexual_conduct\", \"criminal_prosecutions\", \"mistreatment\", \"the_Fourth_Amendment\", \"illegality\", \"civil_authorities\", \"sex_discrimination\", \"federal_laws\", \"reasonable_suspicion\", \"disciplinary_actions\", \"Florida_law\", \"Miranda_warnings\", \"complainants\", \"immigration_status\", \"privacy_rights\", \"political_beliefs\", \"racial_discrimination\", \"noncompliance\", \"sex_crimes\", \"homosexual_conduct\", \"sexual_intercourse\", \"preferential_treatment\", \"parental_consent\", \"New_York_State_law\", \"certain_cases\", \"preventive_detention\", \"lawfully\", \"abusers\", \"Federal_laws\", \"First_Amendment_rights\", \"sexual_activities\", \"political_activity\", \"criminal_penalties\", \"federal_law\", \"constitutional_protection\", \"inappropriate_behavior\", \"physical_force\", \"abusive_priests\", \"legal_recourse\", \"excessive_force\", \"criminal_behavior\", \"legal_right\", \"physical_violence\", \"homosexual_acts\", \"the_Fifth_Amendment\", \"deadly_force\", \"physical_abuse\", \"New_York_law\", \"secret_evidence\", \"offender\", \"criminal_suspects\", \"political_activities\", \"criminal_acts\", \"prohibition\", \"security_clearances\", \"such_violations\", \"consent\", \"immunity\", \"legal_basis\", \"corporal_punishment\", \"exclusion\", \"prior_approval\", \"petitioners\", \"redress\", \"such_cases\", \"racial_harassment\", \"legal_grounds\", \"sex_offenders\"]\n"
          ]
        }
      ],
      "source": [
        "lexicon.create_category(\"metoo\",[\"metoo\",\"#metoo\",\"consent\", \"harassment\", \"sexual assault\", \"sexual misconduct\"], model='nytimes')"
      ]
    },
    {
      "cell_type": "code",
      "execution_count": 9,
      "metadata": {
        "id": "Ed5lWysOA195"
      },
      "outputs": [],
      "source": [
        "cat = lexicon.analyze(doc_complete[1], normalize=True)\n"
      ]
    },
    {
      "cell_type": "code",
      "execution_count": 10,
      "metadata": {
        "colab": {
          "base_uri": "https://localhost:8080/"
        },
        "id": "pa0jF45YA7zS",
        "outputId": "174ad777-50c7-4abe-dc01-fe877a598b37"
      },
      "outputs": [
        {
          "output_type": "execute_result",
          "data": {
            "text/plain": [
              "['wedding',\n",
              " 'cheerfulness',\n",
              " 'suffering',\n",
              " 'optimism',\n",
              " 'childish',\n",
              " 'celebration',\n",
              " 'sadness',\n",
              " 'emotional',\n",
              " 'party',\n",
              " 'positive_emotion']"
            ]
          },
          "metadata": {},
          "execution_count": 10
        }
      ],
      "source": [
        "cate = { key : value for key,value in cat.items() if value > 0}\n",
        "list(cate.keys())"
      ]
    },
    {
      "cell_type": "code",
      "source": [
        "def get_topics(quote):\n",
        "  dic_topics = lexicon.analyze(quote,normalize=True)\n",
        "  categories = { key : value for key,value in dic_topics.items() if value > 0}\n",
        "  return list(categories.keys())"
      ],
      "metadata": {
        "id": "pM3pXUnxkgag"
      },
      "execution_count": 17,
      "outputs": []
    },
    {
      "cell_type": "code",
      "source": [
        "quotes_df['topics'] = quotes_df['quotation'].apply(lambda x : get_topics(x))\n"
      ],
      "metadata": {
        "colab": {
          "base_uri": "https://localhost:8080/",
          "height": 341
        },
        "id": "flMRAdIBj3S9",
        "outputId": "caaced4b-b93c-47ca-c5e7-8e6c11261e49"
      },
      "execution_count": 18,
      "outputs": [
        {
          "output_type": "error",
          "ename": "KeyboardInterrupt",
          "evalue": "ignored",
          "traceback": [
            "\u001b[0;31m---------------------------------------------------------------------------\u001b[0m",
            "\u001b[0;31mKeyboardInterrupt\u001b[0m                         Traceback (most recent call last)",
            "\u001b[0;32m<ipython-input-18-cc14c5e9ff05>\u001b[0m in \u001b[0;36m<module>\u001b[0;34m()\u001b[0m\n\u001b[0;32m----> 1\u001b[0;31m \u001b[0mquotes_df\u001b[0m\u001b[0;34m[\u001b[0m\u001b[0;34m'topics'\u001b[0m\u001b[0;34m]\u001b[0m \u001b[0;34m=\u001b[0m \u001b[0mquotes_df\u001b[0m\u001b[0;34m[\u001b[0m\u001b[0;34m'quotation'\u001b[0m\u001b[0;34m]\u001b[0m\u001b[0;34m.\u001b[0m\u001b[0mapply\u001b[0m\u001b[0;34m(\u001b[0m\u001b[0;32mlambda\u001b[0m \u001b[0mx\u001b[0m \u001b[0;34m:\u001b[0m \u001b[0mget_topics\u001b[0m\u001b[0;34m(\u001b[0m\u001b[0mx\u001b[0m\u001b[0;34m)\u001b[0m\u001b[0;34m)\u001b[0m\u001b[0;34m\u001b[0m\u001b[0;34m\u001b[0m\u001b[0m\n\u001b[0m",
            "\u001b[0;32m/usr/local/lib/python3.7/dist-packages/pandas/core/series.py\u001b[0m in \u001b[0;36mapply\u001b[0;34m(self, func, convert_dtype, args, **kwds)\u001b[0m\n\u001b[1;32m   4211\u001b[0m             \u001b[0;32melse\u001b[0m\u001b[0;34m:\u001b[0m\u001b[0;34m\u001b[0m\u001b[0;34m\u001b[0m\u001b[0m\n\u001b[1;32m   4212\u001b[0m                 \u001b[0mvalues\u001b[0m \u001b[0;34m=\u001b[0m \u001b[0mself\u001b[0m\u001b[0;34m.\u001b[0m\u001b[0mastype\u001b[0m\u001b[0;34m(\u001b[0m\u001b[0mobject\u001b[0m\u001b[0;34m)\u001b[0m\u001b[0;34m.\u001b[0m\u001b[0m_values\u001b[0m\u001b[0;34m\u001b[0m\u001b[0;34m\u001b[0m\u001b[0m\n\u001b[0;32m-> 4213\u001b[0;31m                 \u001b[0mmapped\u001b[0m \u001b[0;34m=\u001b[0m \u001b[0mlib\u001b[0m\u001b[0;34m.\u001b[0m\u001b[0mmap_infer\u001b[0m\u001b[0;34m(\u001b[0m\u001b[0mvalues\u001b[0m\u001b[0;34m,\u001b[0m \u001b[0mf\u001b[0m\u001b[0;34m,\u001b[0m \u001b[0mconvert\u001b[0m\u001b[0;34m=\u001b[0m\u001b[0mconvert_dtype\u001b[0m\u001b[0;34m)\u001b[0m\u001b[0;34m\u001b[0m\u001b[0;34m\u001b[0m\u001b[0m\n\u001b[0m\u001b[1;32m   4214\u001b[0m \u001b[0;34m\u001b[0m\u001b[0m\n\u001b[1;32m   4215\u001b[0m         \u001b[0;32mif\u001b[0m \u001b[0mlen\u001b[0m\u001b[0;34m(\u001b[0m\u001b[0mmapped\u001b[0m\u001b[0;34m)\u001b[0m \u001b[0;32mand\u001b[0m \u001b[0misinstance\u001b[0m\u001b[0;34m(\u001b[0m\u001b[0mmapped\u001b[0m\u001b[0;34m[\u001b[0m\u001b[0;36m0\u001b[0m\u001b[0;34m]\u001b[0m\u001b[0;34m,\u001b[0m \u001b[0mSeries\u001b[0m\u001b[0;34m)\u001b[0m\u001b[0;34m:\u001b[0m\u001b[0;34m\u001b[0m\u001b[0;34m\u001b[0m\u001b[0m\n",
            "\u001b[0;32mpandas/_libs/lib.pyx\u001b[0m in \u001b[0;36mpandas._libs.lib.map_infer\u001b[0;34m()\u001b[0m\n",
            "\u001b[0;32m<ipython-input-18-cc14c5e9ff05>\u001b[0m in \u001b[0;36m<lambda>\u001b[0;34m(x)\u001b[0m\n\u001b[0;32m----> 1\u001b[0;31m \u001b[0mquotes_df\u001b[0m\u001b[0;34m[\u001b[0m\u001b[0;34m'topics'\u001b[0m\u001b[0;34m]\u001b[0m \u001b[0;34m=\u001b[0m \u001b[0mquotes_df\u001b[0m\u001b[0;34m[\u001b[0m\u001b[0;34m'quotation'\u001b[0m\u001b[0;34m]\u001b[0m\u001b[0;34m.\u001b[0m\u001b[0mapply\u001b[0m\u001b[0;34m(\u001b[0m\u001b[0;32mlambda\u001b[0m \u001b[0mx\u001b[0m \u001b[0;34m:\u001b[0m \u001b[0mget_topics\u001b[0m\u001b[0;34m(\u001b[0m\u001b[0mx\u001b[0m\u001b[0;34m)\u001b[0m\u001b[0;34m)\u001b[0m\u001b[0;34m\u001b[0m\u001b[0;34m\u001b[0m\u001b[0m\n\u001b[0m",
            "\u001b[0;32m<ipython-input-17-92fd477c3fa2>\u001b[0m in \u001b[0;36mget_topics\u001b[0;34m(quote)\u001b[0m\n\u001b[1;32m      1\u001b[0m \u001b[0;32mdef\u001b[0m \u001b[0mget_topics\u001b[0m\u001b[0;34m(\u001b[0m\u001b[0mquote\u001b[0m\u001b[0;34m)\u001b[0m\u001b[0;34m:\u001b[0m\u001b[0;34m\u001b[0m\u001b[0;34m\u001b[0m\u001b[0m\n\u001b[0;32m----> 2\u001b[0;31m   \u001b[0mdic_topics\u001b[0m \u001b[0;34m=\u001b[0m \u001b[0mlexicon\u001b[0m\u001b[0;34m.\u001b[0m\u001b[0manalyze\u001b[0m\u001b[0;34m(\u001b[0m\u001b[0mquote\u001b[0m\u001b[0;34m,\u001b[0m\u001b[0mnormalize\u001b[0m\u001b[0;34m=\u001b[0m\u001b[0;32mTrue\u001b[0m\u001b[0;34m)\u001b[0m\u001b[0;34m\u001b[0m\u001b[0;34m\u001b[0m\u001b[0m\n\u001b[0m\u001b[1;32m      3\u001b[0m   \u001b[0mcategories\u001b[0m \u001b[0;34m=\u001b[0m \u001b[0;34m{\u001b[0m \u001b[0mkey\u001b[0m \u001b[0;34m:\u001b[0m \u001b[0mvalue\u001b[0m \u001b[0;32mfor\u001b[0m \u001b[0mkey\u001b[0m\u001b[0;34m,\u001b[0m\u001b[0mvalue\u001b[0m \u001b[0;32min\u001b[0m \u001b[0mdic_topics\u001b[0m\u001b[0;34m.\u001b[0m\u001b[0mitems\u001b[0m\u001b[0;34m(\u001b[0m\u001b[0;34m)\u001b[0m \u001b[0;32mif\u001b[0m \u001b[0mvalue\u001b[0m \u001b[0;34m>\u001b[0m \u001b[0;36m0\u001b[0m\u001b[0;34m}\u001b[0m\u001b[0;34m\u001b[0m\u001b[0;34m\u001b[0m\u001b[0m\n\u001b[1;32m      4\u001b[0m   \u001b[0;32mreturn\u001b[0m \u001b[0mlist\u001b[0m\u001b[0;34m(\u001b[0m\u001b[0mcategories\u001b[0m\u001b[0;34m.\u001b[0m\u001b[0mkeys\u001b[0m\u001b[0;34m(\u001b[0m\u001b[0;34m)\u001b[0m\u001b[0;34m)\u001b[0m\u001b[0;34m\u001b[0m\u001b[0;34m\u001b[0m\u001b[0m\n",
            "\u001b[0;32m/usr/local/lib/python3.7/dist-packages/empath/core.py\u001b[0m in \u001b[0;36manalyze\u001b[0;34m(self, doc, categories, tokenizer, normalize)\u001b[0m\n\u001b[1;32m     44\u001b[0m         \u001b[0minvcats\u001b[0m \u001b[0;34m=\u001b[0m \u001b[0mdefaultdict\u001b[0m\u001b[0;34m(\u001b[0m\u001b[0mlist\u001b[0m\u001b[0;34m)\u001b[0m\u001b[0;34m\u001b[0m\u001b[0;34m\u001b[0m\u001b[0m\n\u001b[1;32m     45\u001b[0m         \u001b[0;32mfor\u001b[0m \u001b[0mk\u001b[0m \u001b[0;32min\u001b[0m \u001b[0mcategories\u001b[0m\u001b[0;34m:\u001b[0m\u001b[0;34m\u001b[0m\u001b[0;34m\u001b[0m\u001b[0m\n\u001b[0;32m---> 46\u001b[0;31m            \u001b[0;32mfor\u001b[0m \u001b[0mt\u001b[0m \u001b[0;32min\u001b[0m \u001b[0mself\u001b[0m\u001b[0;34m.\u001b[0m\u001b[0mcats\u001b[0m\u001b[0;34m[\u001b[0m\u001b[0mk\u001b[0m\u001b[0;34m]\u001b[0m\u001b[0;34m:\u001b[0m \u001b[0minvcats\u001b[0m\u001b[0;34m[\u001b[0m\u001b[0mt\u001b[0m\u001b[0;34m]\u001b[0m\u001b[0;34m.\u001b[0m\u001b[0mappend\u001b[0m\u001b[0;34m(\u001b[0m\u001b[0mk\u001b[0m\u001b[0;34m)\u001b[0m\u001b[0;34m\u001b[0m\u001b[0;34m\u001b[0m\u001b[0m\n\u001b[0m\u001b[1;32m     47\u001b[0m         \u001b[0mcount\u001b[0m \u001b[0;34m=\u001b[0m \u001b[0;34m{\u001b[0m\u001b[0;34m}\u001b[0m\u001b[0;34m\u001b[0m\u001b[0;34m\u001b[0m\u001b[0m\n\u001b[1;32m     48\u001b[0m         \u001b[0mtokens\u001b[0m \u001b[0;34m=\u001b[0m \u001b[0;36m0.0\u001b[0m\u001b[0;34m\u001b[0m\u001b[0;34m\u001b[0m\u001b[0m\n",
            "\u001b[0;31mKeyboardInterrupt\u001b[0m: "
          ]
        }
      ]
    },
    {
      "cell_type": "code",
      "execution_count": 19,
      "metadata": {
        "id": "QP7TETjm5MCy"
      },
      "outputs": [],
      "source": [
        "def add_topics(path_in, path_males, path_females, path_others):\n",
        "  # Loop through all instances of json file and extract the desired rows\n",
        "  # Save the file in the filtered data directory\n",
        "  with bz2.open(path_in, 'rb') as s_file:\n",
        "      with bz2.open(path_males, 'wb') as male_file:\n",
        "              with bz2.open(path_females, 'wb') as female_file:\n",
        "                   with bz2.open(path_others, 'wb') as other_file:\n",
        "                      for instance in s_file:\n",
        "                          instance = json.loads(instance) # loading a sample\n",
        "                        \n",
        "                          quote = instance['quotation'] # extracting the quote\n",
        "                          gender = instance['gender']\n",
        "                          categories = lexicon.analyze(quote, normalize=True)\n",
        "                          cat = { key : value for key,value in categories.items() if value > 0}\n",
        "                          instance['topics'] = list(cat.keys())\n",
        "                          instance['proba_topics'] = list(cat.values())\n",
        "\n",
        "                          if not instance['topics']: # if there are no topics we don't keep this quote\n",
        "                            continue\n",
        "\n",
        "                          if 'female' in gender: \n",
        "                            female_file.write((json.dumps(instance)+'\\n').encode('utf-8')) # writing in the new file\n",
        "                          elif 'male' in gender:\n",
        "                            male_file.write((json.dumps(instance)+'\\n').encode('utf-8')) # writing in the new file\n",
        "                          else:\n",
        "                            other_file.write((json.dumps(instance)+'\\n').encode('utf-8'))  \n",
        "                           "
      ]
    },
    {
      "cell_type": "code",
      "execution_count": null,
      "metadata": {
        "id": "h2dpNmStCxBU"
      },
      "outputs": [],
      "source": [
        "add_topics(MERGED_QUOTES_2019_PATH, 'Data with topics/QUOTES_MALES_2019', 'Data with topics/QUOTES_FEMALES_2019', 'Data with topics/QUOTES_OTHERS_2019')"
      ]
    },
    {
      "cell_type": "code",
      "execution_count": null,
      "metadata": {
        "id": "4V97HvGcEQcU"
      },
      "outputs": [],
      "source": [
        "topics_males = pd.read_json('Data with topics/QUOTES_MALES_2020', lines=True,compression='bz2')"
      ]
    },
    {
      "cell_type": "code",
      "execution_count": null,
      "metadata": {
        "colab": {
          "base_uri": "https://localhost:8080/",
          "height": 598
        },
        "id": "39N0x57jEYin",
        "outputId": "5b89380b-25c3-4afc-93f8-df72dccd9204"
      },
      "outputs": [
        {
          "data": {
            "text/html": [
              "<div>\n",
              "<style scoped>\n",
              "    .dataframe tbody tr th:only-of-type {\n",
              "        vertical-align: middle;\n",
              "    }\n",
              "\n",
              "    .dataframe tbody tr th {\n",
              "        vertical-align: top;\n",
              "    }\n",
              "\n",
              "    .dataframe thead th {\n",
              "        text-align: right;\n",
              "    }\n",
              "</style>\n",
              "<table border=\"1\" class=\"dataframe\">\n",
              "  <thead>\n",
              "    <tr style=\"text-align: right;\">\n",
              "      <th></th>\n",
              "      <th>quoteID</th>\n",
              "      <th>quotation</th>\n",
              "      <th>speaker</th>\n",
              "      <th>date</th>\n",
              "      <th>numOccurrences</th>\n",
              "      <th>urls</th>\n",
              "      <th>newspapers</th>\n",
              "      <th>qid</th>\n",
              "      <th>gender</th>\n",
              "      <th>nationality</th>\n",
              "      <th>occupation</th>\n",
              "      <th>topics</th>\n",
              "      <th>proba_topics</th>\n",
              "    </tr>\n",
              "  </thead>\n",
              "  <tbody>\n",
              "    <tr>\n",
              "      <th>0</th>\n",
              "      <td>2020-01-17-000357</td>\n",
              "      <td>[ The delay ] will have an impact [ on Slough ...</td>\n",
              "      <td>Dexter Smith</td>\n",
              "      <td>2020-01-17 13:03:00</td>\n",
              "      <td>1</td>\n",
              "      <td>[http://www.sloughexpress.co.uk/gallery/slough...</td>\n",
              "      <td>[Daily Express]</td>\n",
              "      <td>Q5268447</td>\n",
              "      <td>[male]</td>\n",
              "      <td>[Bermuda]</td>\n",
              "      <td>[cricketer]</td>\n",
              "      <td>[dispute, violence, communication, injury, str...</td>\n",
              "      <td>[0.024390243902439, 0.024390243902439, 0.02439...</td>\n",
              "    </tr>\n",
              "    <tr>\n",
              "      <th>1</th>\n",
              "      <td>2020-02-07-005251</td>\n",
              "      <td>And for the record, Eamonn Holmes made me laug...</td>\n",
              "      <td>Phillip Schofield</td>\n",
              "      <td>2020-02-07 20:30:49</td>\n",
              "      <td>2</td>\n",
              "      <td>[https://www.dailystar.co.uk/showbiz/breaking-...</td>\n",
              "      <td>[Daily Star]</td>\n",
              "      <td>Q7185804</td>\n",
              "      <td>[male]</td>\n",
              "      <td>[United Kingdom, New Zealand]</td>\n",
              "      <td>[television presenter]</td>\n",
              "      <td>[wedding, cheerfulness, suffering, optimism, c...</td>\n",
              "      <td>[0.045454545454545005, 0.045454545454545005, 0...</td>\n",
              "    </tr>\n",
              "    <tr>\n",
              "      <th>2</th>\n",
              "      <td>2020-01-31-008580</td>\n",
              "      <td>As you reach or have reached the apex of your ...</td>\n",
              "      <td>Keyon Dooling</td>\n",
              "      <td>2020-01-31 19:07:55</td>\n",
              "      <td>1</td>\n",
              "      <td>[https://www.theguardian.com/sport/2020/jan/31...</td>\n",
              "      <td>[The Guardian]</td>\n",
              "      <td>Q304349</td>\n",
              "      <td>[male]</td>\n",
              "      <td>[United States of America]</td>\n",
              "      <td>[basketball player]</td>\n",
              "      <td>[pride, strength]</td>\n",
              "      <td>[0.045454545454545005, 0.09090909090909001]</td>\n",
              "    </tr>\n",
              "    <tr>\n",
              "      <th>3</th>\n",
              "      <td>2020-01-20-006469</td>\n",
              "      <td>At the same time we want to remain friends wit...</td>\n",
              "      <td>Tim Martin</td>\n",
              "      <td>2020-01-20 09:08:24</td>\n",
              "      <td>4</td>\n",
              "      <td>[https://www.dailystar.co.uk/real-life/wethers...</td>\n",
              "      <td>[Daily Star, The Sun]</td>\n",
              "      <td>Q20670776</td>\n",
              "      <td>[male]</td>\n",
              "      <td>None</td>\n",
              "      <td>[American football player]</td>\n",
              "      <td>[help, social_media, trust, friends, achieveme...</td>\n",
              "      <td>[0.043478260869565, 0.043478260869565, 0.04347...</td>\n",
              "    </tr>\n",
              "    <tr>\n",
              "      <th>4</th>\n",
              "      <td>2020-02-11-011721</td>\n",
              "      <td>But for an 18-month period he didn't change. H...</td>\n",
              "      <td>Tyson Fury</td>\n",
              "      <td>2020-02-11 19:57:51</td>\n",
              "      <td>1</td>\n",
              "      <td>[https://www.mirror.co.uk/3am/celebrity-news/p...</td>\n",
              "      <td>[Daily Mirror]</td>\n",
              "      <td>Q1000592</td>\n",
              "      <td>[male]</td>\n",
              "      <td>[United Kingdom, Ireland]</td>\n",
              "      <td>[boxer]</td>\n",
              "      <td>[school]</td>\n",
              "      <td>[0.09090909090909001]</td>\n",
              "    </tr>\n",
              "  </tbody>\n",
              "</table>\n",
              "</div>"
            ],
            "text/plain": [
              "             quoteID  ...                                       proba_topics\n",
              "0  2020-01-17-000357  ...  [0.024390243902439, 0.024390243902439, 0.02439...\n",
              "1  2020-02-07-005251  ...  [0.045454545454545005, 0.045454545454545005, 0...\n",
              "2  2020-01-31-008580  ...        [0.045454545454545005, 0.09090909090909001]\n",
              "3  2020-01-20-006469  ...  [0.043478260869565, 0.043478260869565, 0.04347...\n",
              "4  2020-02-11-011721  ...                              [0.09090909090909001]\n",
              "\n",
              "[5 rows x 13 columns]"
            ]
          },
          "execution_count": 20,
          "metadata": {},
          "output_type": "execute_result"
        }
      ],
      "source": [
        "topics_males.head()"
      ]
    },
    {
      "cell_type": "code",
      "execution_count": null,
      "metadata": {
        "id": "zIplHgS2EZyc"
      },
      "outputs": [],
      "source": [
        ""
      ]
    }
  ],
  "metadata": {
    "accelerator": "TPU",
    "colab": {
      "collapsed_sections": [],
      "name": "Copy of Copy of main.ipynb",
      "provenance": [],
      "include_colab_link": true
    },
    "kernelspec": {
      "display_name": "Python 3 (ipykernel)",
      "language": "python",
      "name": "python3"
    },
    "language_info": {
      "codemirror_mode": {
        "name": "ipython",
        "version": 3
      },
      "file_extension": ".py",
      "mimetype": "text/x-python",
      "name": "python",
      "nbconvert_exporter": "python",
      "pygments_lexer": "ipython3",
      "version": "3.8.11"
    }
  },
  "nbformat": 4,
  "nbformat_minor": 0
}
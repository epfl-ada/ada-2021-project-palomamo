{
  "cells": [
    {
      "cell_type": "markdown",
      "metadata": {
        "id": "view-in-github",
        "colab_type": "text"
      },
      "source": [
        "<a href=\"https://colab.research.google.com/github/morwald/ada_project/blob/master/gender_topics.ipynb\" target=\"_parent\"><img src=\"https://colab.research.google.com/assets/colab-badge.svg\" alt=\"Open In Colab\"/></a>"
      ]
    },
    {
      "cell_type": "markdown",
      "metadata": {
        "id": "7txCTyrTM0qJ"
      },
      "source": [
        "# Analysis of gender distribution in UK's leading newspapers\n",
        "# Gender representation"
      ]
    },
    {
      "cell_type": "markdown",
      "metadata": {
        "id": "ucef3_UkM0qP"
      },
      "source": [
        "## Content\n",
        "1. [Setup](#setup)   \n",
        "    1.1 [Global](#global_setup)  \n",
        "    1.2 [Local](#local_setup)"
      ]
    },
    {
      "cell_type": "markdown",
      "metadata": {
        "id": "owgTJarZM0qP"
      },
      "source": [
        "## 1. Setup\n",
        "<a id=\"setup\"></a>"
      ]
    },
    {
      "cell_type": "markdown",
      "metadata": {
        "id": "zp3xDPai3f6O"
      },
      "source": [
        "### 1.1 Global\n",
        "<a id=\"global_setup\"></a>"
      ]
    },
    {
      "cell_type": "code",
      "execution_count": 1,
      "metadata": {
        "colab": {
          "base_uri": "https://localhost:8080/"
        },
        "id": "dYZoNvMB3f6P",
        "outputId": "4883315a-4fdd-44fa-a5d8-1287944c98d5",
        "scrolled": true
      },
      "outputs": [
        {
          "output_type": "stream",
          "name": "stdout",
          "text": [
            "Mounted at /content/drive\n",
            "/content/drive/Shareddrives/ADA-project\n"
          ]
        }
      ],
      "source": [
        "# Change to true if you want to use google colab\n",
        "use_colab = True\n",
        "\n",
        "# Import with EPFL google drive!\n",
        "if use_colab:\n",
        "    from google.colab import drive\n",
        "    drive._mount('/content/drive', force_remount=True)\n",
        "    %cd /content/drive/Shareddrives/ADA-project\n",
        "    #!pip install pandas==1.0.5 # downgrade pandas for chunk processing support"
      ]
    },
    {
      "cell_type": "code",
      "execution_count": 2,
      "metadata": {
        "id": "hzfP-W7znkx3"
      },
      "outputs": [],
      "source": [
        "# Defined paths for the data\n",
        "from scripts.path_defs import *\n",
        "\n",
        "# Defined newspapers and urls\n",
        "from scripts.newspapers import *\n",
        "\n",
        "# Globally used functions\n",
        "from scripts.utility_functions import load_mini_version_of_data\n",
        "from scripts.utility_functions import convert_to_1Dseries\n",
        "from scripts.utility_functions import process_data_in_chunks\n",
        "\n",
        "# Functions and libraries to perform topic analysis\n",
        "from collections import Counter\n",
        "from functools import reduce"
      ]
    },
    {
      "cell_type": "markdown",
      "metadata": {
        "id": "5yqsvZuAM0qQ"
      },
      "source": [
        "### 1.2 Local \n",
        "<a id=\"local_setup\"></a>"
      ]
    },
    {
      "cell_type": "code",
      "execution_count": 3,
      "metadata": {
        "id": "CbpVgsXe3f6R"
      },
      "outputs": [],
      "source": [
        "import pandas as pd\n",
        "import numpy as np\n",
        "import seaborn as sns\n",
        "import matplotlib.pyplot as plt\n",
        "import json\n",
        "import bz2\n",
        "import math\n",
        "import plotly.graph_objects as go\n",
        "import plotly.express as px"
      ]
    },
    {
      "cell_type": "markdown",
      "source": [
        "## Topic analysis set up with empath"
      ],
      "metadata": {
        "id": "NhgKT_7FLEOJ"
      }
    },
    {
      "cell_type": "markdown",
      "source": [
        "TODO : Intro on empath, which year, what it does, why we use it"
      ],
      "metadata": {
        "id": "or1xt0XaLifC"
      }
    },
    {
      "cell_type": "code",
      "execution_count": null,
      "metadata": {
        "colab": {
          "base_uri": "https://localhost:8080/"
        },
        "id": "o4PHw9Vh4AI9",
        "outputId": "cc175848-0000-427c-d6f0-10ed284ee2ff"
      },
      "outputs": [
        {
          "output_type": "stream",
          "name": "stdout",
          "text": [
            "Collecting empath\n",
            "  Downloading empath-0.89.tar.gz (57 kB)\n",
            "\u001b[?25l\r\u001b[K     |█████▊                          | 10 kB 21.8 MB/s eta 0:00:01\r\u001b[K     |███████████▍                    | 20 kB 27.8 MB/s eta 0:00:01\r\u001b[K     |█████████████████               | 30 kB 16.4 MB/s eta 0:00:01\r\u001b[K     |██████████████████████▊         | 40 kB 11.3 MB/s eta 0:00:01\r\u001b[K     |████████████████████████████▍   | 51 kB 5.4 MB/s eta 0:00:01\r\u001b[K     |████████████████████████████████| 57 kB 2.8 MB/s \n",
            "\u001b[?25hRequirement already satisfied: requests in /usr/local/lib/python3.7/dist-packages (from empath) (2.23.0)\n",
            "Requirement already satisfied: idna<3,>=2.5 in /usr/local/lib/python3.7/dist-packages (from requests->empath) (2.10)\n",
            "Requirement already satisfied: urllib3!=1.25.0,!=1.25.1,<1.26,>=1.21.1 in /usr/local/lib/python3.7/dist-packages (from requests->empath) (1.24.3)\n",
            "Requirement already satisfied: certifi>=2017.4.17 in /usr/local/lib/python3.7/dist-packages (from requests->empath) (2021.10.8)\n",
            "Requirement already satisfied: chardet<4,>=3.0.2 in /usr/local/lib/python3.7/dist-packages (from requests->empath) (3.0.4)\n",
            "Building wheels for collected packages: empath\n",
            "  Building wheel for empath (setup.py) ... \u001b[?25l\u001b[?25hdone\n",
            "  Created wheel for empath: filename=empath-0.89-py3-none-any.whl size=57821 sha256=7ca7c9fc781ada7830ecb9261f7ce5525069b58c6eb0973e871a1f41179b70e2\n",
            "  Stored in directory: /root/.cache/pip/wheels/2b/78/a8/37d4505eeae79807f4b5565a193f7cfcee892137ad37591029\n",
            "Successfully built empath\n",
            "Installing collected packages: empath\n",
            "Successfully installed empath-0.89\n"
          ]
        }
      ],
      "source": [
        "! pip install empath"
      ]
    },
    {
      "cell_type": "code",
      "execution_count": null,
      "metadata": {
        "id": "BIYdMU844CED"
      },
      "outputs": [],
      "source": [
        "from empath import Empath\n",
        "\n",
        "# Define lexicon\n",
        "lexicon = Empath()"
      ]
    },
    {
      "cell_type": "code",
      "execution_count": null,
      "metadata": {
        "colab": {
          "base_uri": "https://localhost:8080/"
        },
        "id": "phCrmZeH9i7I",
        "outputId": "05f6c61a-3bad-4cc6-bfd5-42d0d83e2cf8"
      },
      "outputs": [
        {
          "output_type": "stream",
          "name": "stdout",
          "text": [
            "[\"harassment\", \"consent\", \"coercion\", \"notification\", \"legal_rights\", \"due_process\", \"criminal_prosecution\", \"constitutional_rights\", \"such_conduct\", \"abuse\", \"unlawful\", \"court_orders\", \"confidentiality\", \"sexual_harassment\", \"illegal_activity\", \"criminal_proceedings\", \"misconduct\", \"violation\", \"sexual_activity\", \"sexual_relations\", \"conduct\", \"rape_victims\", \"sanction\", \"criminal_conduct\", \"sexual_contact\", \"recourse\", \"injunctions\", \"discrimination\", \"sexual_orientation\", \"intimidation\", \"criminal_activity\", \"such_practices\", \"sexual_conduct\", \"criminal_prosecutions\", \"mistreatment\", \"the_Fourth_Amendment\", \"illegality\", \"civil_authorities\", \"sex_discrimination\", \"federal_laws\", \"reasonable_suspicion\", \"disciplinary_actions\", \"Florida_law\", \"Miranda_warnings\", \"complainants\", \"immigration_status\", \"privacy_rights\", \"political_beliefs\", \"racial_discrimination\", \"noncompliance\", \"sex_crimes\", \"homosexual_conduct\", \"sexual_intercourse\", \"preferential_treatment\", \"parental_consent\", \"New_York_State_law\", \"certain_cases\", \"preventive_detention\", \"lawfully\", \"abusers\", \"Federal_laws\", \"First_Amendment_rights\", \"sexual_activities\", \"political_activity\", \"criminal_penalties\", \"federal_law\", \"constitutional_protection\", \"inappropriate_behavior\", \"physical_force\", \"abusive_priests\", \"legal_recourse\", \"excessive_force\", \"criminal_behavior\", \"legal_right\", \"physical_violence\", \"homosexual_acts\", \"the_Fifth_Amendment\", \"deadly_force\", \"physical_abuse\", \"New_York_law\", \"secret_evidence\", \"offender\", \"criminal_suspects\", \"political_activities\", \"criminal_acts\", \"prohibition\", \"security_clearances\", \"such_violations\", \"consent\", \"immunity\", \"legal_basis\", \"corporal_punishment\", \"exclusion\", \"prior_approval\", \"petitioners\", \"redress\", \"such_cases\", \"racial_harassment\", \"legal_grounds\", \"sex_offenders\"]\n"
          ]
        }
      ],
      "source": [
        "# Creation of a category me-too to describe better the feminism event of the last few years\n",
        "lexicon.create_category(\"metoo\",[\"metoo\",\"#metoo\",\"consent\", \"harassment\", \"sexual assault\", \"sexual misconduct\"], model='nytimes')"
      ]
    },
    {
      "cell_type": "markdown",
      "source": [
        "### Utility functions"
      ],
      "metadata": {
        "id": "b2rB4mvzL0kw"
      }
    },
    {
      "cell_type": "code",
      "execution_count": null,
      "metadata": {
        "id": "SLXW33tygKlc"
      },
      "outputs": [],
      "source": [
        "def add_dict(dict1, dict2):\n",
        "  counter1 = Counter(dict1)\n",
        "  counter2 = Counter(dict2) \n",
        "\n",
        "  dict_ = dict(counter1 + counter2) \n",
        "  \n",
        "  return dict_"
      ]
    },
    {
      "cell_type": "code",
      "execution_count": null,
      "metadata": {
        "id": "UpXAaeEsX-6p"
      },
      "outputs": [],
      "source": [
        "def get_topics_quote(quote):\n",
        "  categories = lexicon.analyze(quote, normalize=True)\n",
        "  return categories"
      ]
    },
    {
      "cell_type": "code",
      "execution_count": null,
      "metadata": {
        "id": "0MYkCxB9eY47"
      },
      "outputs": [],
      "source": [
        "def get_gender_topics(chunk, gender_topics_df, year):\n",
        "  raw_df = chunk.copy()[['quotation', 'gender']] # Select rows of interest\n",
        "\n",
        "  #Add year\n",
        "  raw_df['year'] = year\n",
        "\n",
        "  # Group genders\n",
        "  mask_male = raw_df.gender.apply(lambda x : 'male' in x)\n",
        "  mask_female = raw_df.gender.apply(lambda x : 'female' in x)\n",
        "  mask_others = raw_df.gender.apply(lambda x : ('male' not in x) and ('female' not in x))\n",
        "  \n",
        "  male_topics_df = raw_df[mask_male]\n",
        "  female_topics_df = raw_df[mask_female]\n",
        "  others_topics_df = raw_df[mask_others]\n",
        "\n",
        "  # Add topics and topics probability per quotation to each gender's dictionary\n",
        "  male_topics_dict, female_topics_dict, others_topics_dict = {}, {}, {}\n",
        "\n",
        "  male_topics_dict_list = male_topics_df.quotation.apply(get_topics_quote)\n",
        "  male_topics_dict = reduce(add_dict,male_topics_dict_list)\n",
        "\n",
        "  female_topics_dict_list = female_topics_df.quotation.apply(get_topics_quote)\n",
        "  female_topics_dict = reduce(add_dict,female_topics_dict_list)\n",
        "\n",
        "  others_topics_dict_list = others_topics_df.quotation.apply(get_topics_quote)\n",
        "  if others_topics_dict_list.any():\n",
        "    others_topics_dict = reduce(add_dict,others_topics_dict_list)\n",
        "  \n",
        "\n",
        "  # Create final dataframe\n",
        "  cols = ['year', 'gender', 'topics']\n",
        "  \n",
        "  gender_topics_df = pd.DataFrame(columns=cols)\n",
        "  if bool(male_topics_dict):\n",
        "    gender_topics_df = gender_topics_df.append(pd.DataFrame([[year, 'male', dict(male_topics_dict)]], columns=cols), ignore_index = True)\n",
        "  if bool(female_topics_dict):\n",
        "    gender_topics_df = gender_topics_df.append(pd.DataFrame([[year, 'female', female_topics_dict]], columns=cols), ignore_index = True)\n",
        "  if bool(others_topics_dict):\n",
        "    gender_topics_df = gender_topics_df.append(pd.DataFrame([[year, 'others', others_topics_dict]], columns=cols), ignore_index = True)\n",
        "\n",
        "  return gender_topics_df  "
      ]
    },
    {
      "cell_type": "markdown",
      "source": [
        "### Example of use"
      ],
      "metadata": {
        "id": "d-ETDL7DMwnb"
      }
    },
    {
      "cell_type": "code",
      "execution_count": null,
      "metadata": {
        "id": "oTFVh4-vfjoR"
      },
      "outputs": [],
      "source": [
        "mini_df_2018 =  load_mini_version_of_data(MERGED_QUOTES_2018_PATH, 10, 2,use_colab)"
      ]
    },
    {
      "cell_type": "code",
      "execution_count": null,
      "metadata": {
        "colab": {
          "base_uri": "https://localhost:8080/",
          "height": 442
        },
        "id": "2e7RcUulgfKa",
        "outputId": "3901f3b2-9cf0-4fb8-faf9-5699977217c0"
      },
      "outputs": [
        {
          "data": {
            "text/html": [
              "<div>\n",
              "<style scoped>\n",
              "    .dataframe tbody tr th:only-of-type {\n",
              "        vertical-align: middle;\n",
              "    }\n",
              "\n",
              "    .dataframe tbody tr th {\n",
              "        vertical-align: top;\n",
              "    }\n",
              "\n",
              "    .dataframe thead th {\n",
              "        text-align: right;\n",
              "    }\n",
              "</style>\n",
              "<table border=\"1\" class=\"dataframe\">\n",
              "  <thead>\n",
              "    <tr style=\"text-align: right;\">\n",
              "      <th></th>\n",
              "      <th>quoteID</th>\n",
              "      <th>quotation</th>\n",
              "      <th>speaker</th>\n",
              "      <th>date</th>\n",
              "      <th>numOccurrences</th>\n",
              "      <th>urls</th>\n",
              "      <th>newspapers</th>\n",
              "      <th>qid</th>\n",
              "      <th>gender</th>\n",
              "      <th>nationality</th>\n",
              "      <th>occupation</th>\n",
              "    </tr>\n",
              "  </thead>\n",
              "  <tbody>\n",
              "    <tr>\n",
              "      <th>0</th>\n",
              "      <td>2018-05-29-000378</td>\n",
              "      <td>[ The chances of Bale signing for Manchester U...</td>\n",
              "      <td>Jose Mourinho</td>\n",
              "      <td>2018-05-29 13:12:18</td>\n",
              "      <td>1</td>\n",
              "      <td>[https://www.dailystar.co.uk/sport/football/70...</td>\n",
              "      <td>[Daily Star]</td>\n",
              "      <td>Q79983</td>\n",
              "      <td>[male]</td>\n",
              "      <td>[Portugal]</td>\n",
              "      <td>[association football manager, association foo...</td>\n",
              "    </tr>\n",
              "    <tr>\n",
              "      <th>1</th>\n",
              "      <td>2018-12-12-000462</td>\n",
              "      <td>[ The female character in the song ] is sweet,...</td>\n",
              "      <td>Deana Martin</td>\n",
              "      <td>2018-12-12 11:19:56</td>\n",
              "      <td>4</td>\n",
              "      <td>[http://www.completemusicupdate.com/article/de...</td>\n",
              "      <td>[The Daily Telegraph]</td>\n",
              "      <td>Q17305837</td>\n",
              "      <td>[female]</td>\n",
              "      <td>[United States of America]</td>\n",
              "      <td>[jazz musician, television actor, film actor]</td>\n",
              "    </tr>\n",
              "    <tr>\n",
              "      <th>2</th>\n",
              "      <td>2018-12-09-000490</td>\n",
              "      <td>A Christmas box!!!!! All our fav things.. CHRI...</td>\n",
              "      <td>Nicola Wilson</td>\n",
              "      <td>2018-12-09 10:54:34</td>\n",
              "      <td>2</td>\n",
              "      <td>[https://www.dailyrecord.co.uk/news/scottish-n...</td>\n",
              "      <td>[Daily Record, Daily Mirror]</td>\n",
              "      <td>Q441340</td>\n",
              "      <td>[female]</td>\n",
              "      <td>[United Kingdom]</td>\n",
              "      <td>[event rider]</td>\n",
              "    </tr>\n",
              "    <tr>\n",
              "      <th>3</th>\n",
              "      <td>2018-06-26-001361</td>\n",
              "      <td>A friend has raised this with me and the first...</td>\n",
              "      <td>Jim Wells</td>\n",
              "      <td>2018-06-26 07:10:00</td>\n",
              "      <td>1</td>\n",
              "      <td>[https://www.belfasttelegraph.co.uk/news/north...</td>\n",
              "      <td>[The Daily Telegraph]</td>\n",
              "      <td>Q42171328</td>\n",
              "      <td>[male]</td>\n",
              "      <td>[United States of America]</td>\n",
              "      <td>[photographer]</td>\n",
              "    </tr>\n",
              "    <tr>\n",
              "      <th>4</th>\n",
              "      <td>2018-10-27-001417</td>\n",
              "      <td>Absolutely in sync. Fantastic.</td>\n",
              "      <td>Shirley Ballas</td>\n",
              "      <td>2018-10-27 20:19:00</td>\n",
              "      <td>1</td>\n",
              "      <td>[https://www.standard.co.uk/stayingin/tvfilm/a...</td>\n",
              "      <td>[Evening Standard]</td>\n",
              "      <td>Q7498691</td>\n",
              "      <td>[female]</td>\n",
              "      <td>[United Kingdom]</td>\n",
              "      <td>[teacher, dancer]</td>\n",
              "    </tr>\n",
              "  </tbody>\n",
              "</table>\n",
              "</div>"
            ],
            "text/plain": [
              "             quoteID  ...                                         occupation\n",
              "0  2018-05-29-000378  ...  [association football manager, association foo...\n",
              "1  2018-12-12-000462  ...      [jazz musician, television actor, film actor]\n",
              "2  2018-12-09-000490  ...                                      [event rider]\n",
              "3  2018-06-26-001361  ...                                     [photographer]\n",
              "4  2018-10-27-001417  ...                                  [teacher, dancer]\n",
              "\n",
              "[5 rows x 11 columns]"
            ]
          },
          "execution_count": 10,
          "metadata": {},
          "output_type": "execute_result"
        }
      ],
      "source": [
        "mini_df_2018.head()"
      ]
    },
    {
      "cell_type": "code",
      "execution_count": null,
      "metadata": {
        "colab": {
          "base_uri": "https://localhost:8080/",
          "height": 54
        },
        "id": "Mw-xRO6VXRMm",
        "outputId": "41a071fc-8b6f-420e-ad3d-62407afb15bb"
      },
      "outputs": [
        {
          "data": {
            "application/vnd.google.colaboratory.intrinsic+json": {
              "type": "string"
            },
            "text/plain": [
              "\"[ The female character in the song ] is sweet, she's playing along with him. It's flirting, it's sexy, it's sweet. There's nothing bad about that song, and it just breaks my heart\""
            ]
          },
          "execution_count": 13,
          "metadata": {},
          "output_type": "execute_result"
        }
      ],
      "source": [
        "mini_df_2018['quotation'][1]"
      ]
    },
    {
      "cell_type": "code",
      "execution_count": null,
      "metadata": {
        "colab": {
          "base_uri": "https://localhost:8080/"
        },
        "id": "_iP35S9sVe-w",
        "outputId": "ae6fecf8-7155-4707-8359-fc847e420217"
      },
      "outputs": [
        {
          "data": {
            "text/plain": [
              "{'art': 0.030303030303030304,\n",
              " 'children': 0.030303030303030304,\n",
              " 'dance': 0.030303030303030304,\n",
              " 'emotional': 0.030303030303030304,\n",
              " 'hate': 0.030303030303030304,\n",
              " 'heroic': 0.030303030303030304,\n",
              " 'listen': 0.06060606060606061,\n",
              " 'music': 0.030303030303030304,\n",
              " 'musical': 0.06060606060606061,\n",
              " 'negative_emotion': 0.030303030303030304,\n",
              " 'pain': 0.030303030303030304,\n",
              " 'play': 0.030303030303030304,\n",
              " 'shame': 0.030303030303030304,\n",
              " 'sports': 0.030303030303030304,\n",
              " 'suffering': 0.030303030303030304,\n",
              " 'swearing_terms': 0.030303030303030304,\n",
              " 'toy': 0.030303030303030304,\n",
              " 'violence': 0.030303030303030304}"
            ]
          },
          "execution_count": 14,
          "metadata": {},
          "output_type": "execute_result"
        }
      ],
      "source": [
        "get_topics_quote(mini_df_2018['quotation'][1], {})"
      ]
    },
    {
      "cell_type": "code",
      "execution_count": null,
      "metadata": {
        "id": "rLnuwKEhr0x1"
      },
      "outputs": [],
      "source": [
        "# Get topics per gender for mini dataframe\n",
        "gender_topic = pd.DataFrame(columns=['year', 'gender', 'topics'])\n",
        "gender_topic = get_gender_topics(mini_df_2018,gender_topic, 2018)"
      ]
    },
    {
      "cell_type": "code",
      "execution_count": null,
      "metadata": {
        "colab": {
          "base_uri": "https://localhost:8080/",
          "height": 111
        },
        "id": "hMBODniauAh_",
        "outputId": "e25e0bf0-bb29-4255-cf63-f6b197c9f501"
      },
      "outputs": [
        {
          "data": {
            "text/html": [
              "<div>\n",
              "<style scoped>\n",
              "    .dataframe tbody tr th:only-of-type {\n",
              "        vertical-align: middle;\n",
              "    }\n",
              "\n",
              "    .dataframe tbody tr th {\n",
              "        vertical-align: top;\n",
              "    }\n",
              "\n",
              "    .dataframe thead th {\n",
              "        text-align: right;\n",
              "    }\n",
              "</style>\n",
              "<table border=\"1\" class=\"dataframe\">\n",
              "  <thead>\n",
              "    <tr style=\"text-align: right;\">\n",
              "      <th></th>\n",
              "      <th>year</th>\n",
              "      <th>gender</th>\n",
              "      <th>topics</th>\n",
              "    </tr>\n",
              "  </thead>\n",
              "  <tbody>\n",
              "    <tr>\n",
              "      <th>0</th>\n",
              "      <td>2018</td>\n",
              "      <td>male</td>\n",
              "      <td>{'help': 0.1388888888888889, 'party': 0.112698...</td>\n",
              "    </tr>\n",
              "    <tr>\n",
              "      <th>1</th>\n",
              "      <td>2018</td>\n",
              "      <td>female</td>\n",
              "      <td>{'dance': 0.030303030303030304, 'hate': 0.0303...</td>\n",
              "    </tr>\n",
              "  </tbody>\n",
              "</table>\n",
              "</div>"
            ],
            "text/plain": [
              "   year  gender                                             topics\n",
              "0  2018    male  {'help': 0.1388888888888889, 'party': 0.112698...\n",
              "1  2018  female  {'dance': 0.030303030303030304, 'hate': 0.0303..."
            ]
          },
          "execution_count": 102,
          "metadata": {},
          "output_type": "execute_result"
        }
      ],
      "source": [
        "gender_topic.head()"
      ]
    },
    {
      "cell_type": "markdown",
      "source": [
        "### Add topics for each gender for quotations of years 2015-2020"
      ],
      "metadata": {
        "id": "Sblb6nf3Mjms"
      }
    },
    {
      "cell_type": "code",
      "execution_count": null,
      "metadata": {
        "colab": {
          "background_save": true
        },
        "id": "fSF3p_tJqrTz"
      },
      "outputs": [],
      "source": [
        "# Run once : create topics dataframe per year\n",
        "\n",
        "#topics_2020_df = pd.DataFrame(columns=['quoteID', 'quotation', 'gender', 'year', 'topics'])\n",
        "#topics_2020_df = process_data_in_chunks(MERGED_QUOTES_2020_PATH, get_gender_topics, topics_2029_df, 2020, use_colab)\n",
        "#topics_2019_df = pd.DataFrame(columns=['quoteID', 'quotation', 'gender', 'year', 'topics'])\n",
        "#topics_2019_df = process_data_in_chunks(MERGED_QUOTES_2019_PATH, get_gender_topics, topics_2019_df, 2019, use_colab)\n",
        "#topics_2018_df = pd.DataFrame(columns=['quoteID', 'quotation', 'gender', 'year', 'topics'])\n",
        "#topics_2018_df = process_data_in_chunks(MERGED_QUOTES_2018_PATH, get_gender_topics, topics_2018_df, 2018, use_colab)\n",
        "#topics_2017_df = pd.DataFrame(columns=['quoteID', 'quotation', 'gender', 'year', 'topics'])\n",
        "#topics_2017_df = process_data_in_chunks(MERGED_QUOTES_2017_PATH, get_gender_topics, topics_2017_df, 2017, use_colab)\n",
        "#topics_2016_df = pd.DataFrame(columns=['quoteID', 'quotation', 'gender', 'year', 'topics'])\n",
        "#topics_2016_df = process_data_in_chunks(MERGED_QUOTES_2016_PATH, get_gender_topics, topics_2016_df, 2016, use_colab)\n",
        "#topics_2015_df = pd.DataFrame(columns=['quoteID', 'quotation', 'gender', 'year', 'topics'])\n",
        "#topics_2015_df = process_data_in_chunks(MERGED_QUOTES_2015_PATH, get_gender_topics, topics_2015_df, 2015, use_colab)"
      ]
    },
    {
      "cell_type": "code",
      "execution_count": null,
      "metadata": {
        "colab": {
          "background_save": true
        },
        "id": "88K7vwnS6Ru_"
      },
      "outputs": [],
      "source": [
        "# Run once : save dataframe\n",
        "#topics_2020_df.to_pickle('Data with topics/QUOTES_TOPICS_2020.pkl')\n",
        "#topics_2019_df.to_pickle('Data with topics/QUOTES_TOPICS_2019.pkl')\n",
        "#topics_2018_df.to_pickle('Data with topics/QUOTES_TOPICS_2018.pkl')\n",
        "#topics_2017_df.to_pickle('Data with topics/QUOTES_TOPICS_2017.pkl')\n",
        "#topics_2016_df.to_pickle('Data with topics/QUOTES_TOPICS_2016.pkl')\n",
        "#topics_2015_df.to_pickle('Data with topics/QUOTES_TOPICS_2015.pkl')"
      ]
    },
    {
      "cell_type": "markdown",
      "metadata": {
        "id": "-gYw5eXkot4K"
      },
      "source": [
        "## Interpretation"
      ]
    },
    {
      "cell_type": "markdown",
      "source": [
        "We will perform a first analysis of results on the 2020 dataset."
      ],
      "metadata": {
        "id": "Z8jBKXU5N7kb"
      }
    },
    {
      "cell_type": "code",
      "source": [
        "# Retrieve gender's topics dataframe from 2020\n",
        "topics_2020_df = pd.read_pickle(QUOTES_TOPICS_2020_PATH)"
      ],
      "metadata": {
        "id": "Jc7-pZ2lOOC4"
      },
      "execution_count": 4,
      "outputs": []
    },
    {
      "cell_type": "code",
      "execution_count": 5,
      "metadata": {
        "id": "4V97HvGcEQcU"
      },
      "outputs": [],
      "source": [
        "# Create one topic dictionary per gender\n",
        "dict_topics_males_2020 = topics_2020_df[topics_2020_df['gender'] == 'male'].topics.values[0]\n",
        "dict_topics_females_2020 = topics_2020_df[topics_2020_df['gender'] == 'female'].topics.values[0]\n",
        "dict_topics_others_2020 = topics_2020_df[topics_2020_df['gender'] == 'others'].topics.values[0]"
      ]
    },
    {
      "cell_type": "code",
      "source": [
        "def standardize(dict_topics_gender):\n",
        "  mean = np.mean(list(dict_topics_gender.values()))\n",
        "  std = np.std(list(dict_topics_gender.values()))\n",
        "  new_dict = {key: (value - mean)/std for key, value in dict_topics_gender.items()}\n",
        "  return new_dict"
      ],
      "metadata": {
        "id": "88khGEcbA9sd"
      },
      "execution_count": 6,
      "outputs": []
    },
    {
      "cell_type": "code",
      "source": [
        "def normalize(dict_topics):\n",
        "  sum_v = sum(dict_topics.values())\n",
        "  new_dict = {k: v/sum_v for k, v in dict_topics.items() }\n",
        "  return new_dict"
      ],
      "metadata": {
        "id": "Du2BTg_wXqpC"
      },
      "execution_count": 7,
      "outputs": []
    },
    {
      "cell_type": "code",
      "execution_count": 8,
      "metadata": {
        "id": "LTl-aXLtP6a2"
      },
      "outputs": [],
      "source": [
        "# Get n most cited topics with normalize values or not\n",
        "def get_n_most_cited(dict_topics_gender, n, normalized=False):\n",
        "  new_dict = dict(Counter(dict_topics_gender).most_common(n))\n",
        "  if normalized:\n",
        "    new_dict = normalize(new_dict)\n",
        "  return new_dict"
      ]
    },
    {
      "cell_type": "code",
      "source": [
        "def categorical_plot(dict_topics_gender, gender):\n",
        "  names = list(dict_topics_gender.keys())\n",
        "  values = list(dict_topics_gender.values())\n",
        "\n",
        "  fig, axs = plt.subplots(1, 1, figsize=(30, 8), sharey=True)\n",
        "  axs.bar(names, values)\n",
        "  plt.xticks(rotation=90)\n",
        "  axs.set_ylabel('total weight')\n",
        "  axs.set_xlabel('Topics')\n",
        "\n",
        "  fig.suptitle('Categorical Plotting : ' + gender)"
      ],
      "metadata": {
        "id": "OXJS4eZ-cCyo"
      },
      "execution_count": 9,
      "outputs": []
    },
    {
      "cell_type": "code",
      "execution_count": 53,
      "metadata": {
        "colab": {
          "base_uri": "https://localhost:8080/",
          "height": 430
        },
        "id": "1SCpMGPxwotj",
        "outputId": "b2dd7171-73c5-4342-f2ff-8b2ad0e1c56c"
      },
      "outputs": [
        {
          "output_type": "display_data",
          "data": {
            "image/png": "[encoded data removed]",
            "text/plain": [
              "<Figure size 2160x576 with 1 Axes>"
            ]
          },
          "metadata": {
            "needs_background": "light"
          }
        }
      ],
      "source": [
        "n_most_males_2020 = get_n_most_cited(dict_topics_males_2020, 10, True)\n",
        "categorical_plot(n_most_males_2020, 'male')"
      ]
    },
    {
      "cell_type": "code",
      "execution_count": 54,
      "metadata": {
        "colab": {
          "base_uri": "https://localhost:8080/",
          "height": 430
        },
        "id": "bQpZ1fs1y8s_",
        "outputId": "985806d8-418c-41a6-ed2b-841e9b1e3e47"
      },
      "outputs": [
        {
          "output_type": "display_data",
          "data": {
            "image/png": "[encoded data removed]",
            "text/plain": [
              "<Figure size 2160x576 with 1 Axes>"
            ]
          },
          "metadata": {
            "needs_background": "light"
          }
        }
      ],
      "source": [
        "n_most_females_2020 = get_n_most_cited(dict_topics_females_2020, 10, True)\n",
        "categorical_plot(n_most_females_2020, 'female')"
      ]
    },
    {
      "cell_type": "code",
      "source": [
        "n_most_others_2020 = get_n_most_cited(dict_topics_others_2020, 10, True)\n",
        "categorical_plot(n_most_others_2020, 'other genders')"
      ],
      "metadata": {
        "colab": {
          "base_uri": "https://localhost:8080/",
          "height": 430
        },
        "id": "dpnNJ3JxdxNq",
        "outputId": "31d10d54-9465-434b-db10-a665d4d4276e"
      },
      "execution_count": 55,
      "outputs": [
        {
          "output_type": "display_data",
          "data": {
            "image/png": "[encoded data removed]",
            "text/plain": [
              "<Figure size 2160x576 with 1 Axes>"
            ]
          },
          "metadata": {
            "needs_background": "light"
          }
        }
      ]
    },
    {
      "cell_type": "code",
      "source": [
        "n_most_2020 = [n_most_males_2020, n_most_females_2020, n_most_others_2020]\n",
        "genders = ['Male', 'Female', 'Other genders']"
      ],
      "metadata": {
        "id": "7u_3OKhlf8hL"
      },
      "execution_count": null,
      "outputs": []
    },
    {
      "cell_type": "code",
      "source": [
        "from wordcloud import WordCloud, STOPWORDS\n",
        "import matplotlib.colors as mcolors\n",
        "\n",
        "cols = ['rebeccapurple', 'forestgreen', 'firebrick']\n",
        "fig, axes = plt.subplots(1, 3, figsize=(10,10), sharex=True, sharey=True)\n",
        "\n",
        "cloud = WordCloud(width=3000,\n",
        "                  height=1900,\n",
        "                  prefer_horizontal=1.0,\n",
        "                  max_words=10,\n",
        "                  background_color='white',\n",
        "                  relative_scaling = 1,\n",
        "                  color_func=lambda *args, **kwargs: cols[i])\n",
        "\n",
        "for i, ax in enumerate(axes.flatten()):\n",
        "    fig.add_subplot(ax)\n",
        "    topic_words = n_most_2020[i]\n",
        "    cloud.generate_from_frequencies(topic_words, max_font_size=300)\n",
        "    plt.gca().imshow(cloud)\n",
        "    plt.gca().set_title(genders[i], fontdict=dict(size=16))\n",
        "    plt.gca().axis('off')\n",
        "\n",
        "\n",
        "plt.subplots_adjust(wspace=0, hspace=0)\n",
        "plt.axis('off')\n",
        "plt.margins(x=0, y=0)\n",
        "plt.tight_layout()\n",
        "plt.show()"
      ],
      "metadata": {
        "colab": {
          "base_uri": "https://localhost:8080/",
          "height": 192
        },
        "id": "PqwMBxXufd6L",
        "outputId": "254d889e-b838-4a7b-d524-9ab082051dcf"
      },
      "execution_count": 57,
      "outputs": [
        {
          "output_type": "display_data",
          "data": {
            "image/png": "[encoded data removed]",
            "text/plain": [
              "<Figure size 720x720 with 3 Axes>"
            ]
          },
          "metadata": {
            "needs_background": "light"
          }
        }
      ]
    },
    {
      "cell_type": "code",
      "source": [
        "# Normalized value\n",
        "norm = False"
      ],
      "metadata": {
        "id": "AVgDWJLT0wPR"
      },
      "execution_count": 13,
      "outputs": []
    },
    {
      "cell_type": "markdown",
      "source": [
        "2020"
      ],
      "metadata": {
        "id": "bxr8rpHb0Z1W"
      }
    },
    {
      "cell_type": "code",
      "source": [
        "topics_2020_df = pd.read_pickle(QUOTES_TOPICS_2020_PATH)\n",
        "# Create one topic dictionary per gender\n",
        "dict_topics_males_2020 = topics_2020_df[topics_2020_df['gender'] == 'male'].topics.values[0]\n",
        "dict_topics_females_2020 = topics_2020_df[topics_2020_df['gender'] == 'female'].topics.values[0]\n",
        "dict_topics_others_2020 = topics_2020_df[topics_2020_df['gender'] == 'others'].topics.values[0]\n",
        "n_most_males_2020 = get_n_most_cited(dict_topics_males_2020, 10, normalized=norm)\n",
        "n_most_females_2020 = get_n_most_cited(dict_topics_females_2020, 10, normalized=norm)\n",
        "n_most_others_2020 = get_n_most_cited(dict_topics_others_2020, 10, normalized=norm)"
      ],
      "metadata": {
        "id": "FR24p0aJ0IRf"
      },
      "execution_count": 14,
      "outputs": []
    },
    {
      "cell_type": "markdown",
      "source": [
        "2019"
      ],
      "metadata": {
        "id": "t6DbcVOG2cwE"
      }
    },
    {
      "cell_type": "code",
      "source": [
        "topics_2019_df = pd.read_pickle(QUOTES_TOPICS_2019_PATH)\n",
        "# Create one topic dictionary per gender\n",
        "dict_topics_males_2019 = topics_2019_df[topics_2019_df['gender'] == 'male'].topics.values[0]\n",
        "dict_topics_females_2019 = topics_2019_df[topics_2019_df['gender'] == 'female'].topics.values[0]\n",
        "dict_topics_others_2019 = topics_2019_df[topics_2019_df['gender'] == 'others'].topics.values[0]\n",
        "n_most_males_2019 = get_n_most_cited(dict_topics_males_2019, 10, normalized=norm)\n",
        "n_most_females_2019 = get_n_most_cited(dict_topics_females_2019, 10, normalized=norm)\n",
        "n_most_others_2019 = get_n_most_cited(dict_topics_others_2019, 10, normalized=norm)"
      ],
      "metadata": {
        "id": "4fyCW9VnJv7a"
      },
      "execution_count": 15,
      "outputs": []
    },
    {
      "cell_type": "markdown",
      "source": [
        "2018"
      ],
      "metadata": {
        "id": "7vVuRFOK23Rn"
      }
    },
    {
      "cell_type": "code",
      "source": [
        "topics_2018_df = pd.read_pickle(QUOTES_TOPICS_2018_PATH)\n",
        "# Create one topic dictionary per gender\n",
        "dict_topics_males_2018 = topics_2018_df[topics_2018_df['gender'] == 'male'].topics.values[0]\n",
        "dict_topics_females_2018 = topics_2018_df[topics_2018_df['gender'] == 'female'].topics.values[0]\n",
        "dict_topics_others_2018 = topics_2018_df[topics_2018_df['gender'] == 'others'].topics.values[0]\n",
        "n_most_males_2018 = get_n_most_cited(dict_topics_males_2018, 10, normalized=norm)\n",
        "n_most_females_2018 = get_n_most_cited(dict_topics_females_2018, 10, normalized=norm)\n",
        "n_most_others_2018 = get_n_most_cited(dict_topics_others_2018, 10, normalized=norm)"
      ],
      "metadata": {
        "id": "3ZYbQEFQ2ijR"
      },
      "execution_count": 16,
      "outputs": []
    },
    {
      "cell_type": "markdown",
      "source": [
        "2017"
      ],
      "metadata": {
        "id": "TbQWSsJvTNpp"
      }
    },
    {
      "cell_type": "code",
      "source": [
        "topics_2017_df = pd.read_pickle(QUOTES_TOPICS_2017_PATH)\n",
        "# Create one topic dictionary per gender\n",
        "dict_topics_males_2017 = topics_2017_df[topics_2017_df['gender'] == 'male'].topics.values[0]\n",
        "dict_topics_females_2017 = topics_2017_df[topics_2017_df['gender'] == 'female'].topics.values[0]\n",
        "dict_topics_others_2017 = topics_2017_df[topics_2018_df['gender'] == 'others'].topics.values[0]\n",
        "n_most_males_2017 = get_n_most_cited(dict_topics_males_2017, 10, normalized=norm)\n",
        "n_most_females_2017 = get_n_most_cited(dict_topics_females_2017, 10, normalized=norm)\n",
        "n_most_others_2017 = get_n_most_cited(dict_topics_others_2017, 10, normalized=norm)"
      ],
      "metadata": {
        "id": "fXVbRRzgTLsl"
      },
      "execution_count": 17,
      "outputs": []
    },
    {
      "cell_type": "markdown",
      "source": [
        "2016"
      ],
      "metadata": {
        "id": "tuTq3Pbb2d_t"
      }
    },
    {
      "cell_type": "code",
      "source": [
        "topics_2016_df = pd.read_pickle(QUOTES_TOPICS_2016_PATH)\n",
        "# Create one topic dictionary per gender\n",
        "dict_topics_males_2016 = topics_2016_df[topics_2016_df['gender'] == 'male'].topics.values[0]\n",
        "dict_topics_females_2016 = topics_2016_df[topics_2016_df['gender'] == 'female'].topics.values[0]\n",
        "dict_topics_others_2016 = topics_2016_df[topics_2016_df['gender'] == 'others'].topics.values[0]\n",
        "n_most_males_2016 = get_n_most_cited(dict_topics_males_2016, 10, normalized=norm)\n",
        "n_most_females_2016 = get_n_most_cited(dict_topics_females_2016, 10, normalized=norm)\n",
        "n_most_others_2016 = get_n_most_cited(dict_topics_others_2016, 10, normalized=norm)"
      ],
      "metadata": {
        "id": "rIXRix-bQszh"
      },
      "execution_count": 18,
      "outputs": []
    },
    {
      "cell_type": "markdown",
      "source": [
        "2015"
      ],
      "metadata": {
        "id": "1yzyzB-Y2f0s"
      }
    },
    {
      "cell_type": "code",
      "source": [
        "topics_2015_df = pd.read_pickle(QUOTES_TOPICS_2015_PATH)\n",
        "# Create one topic dictionary per gender\n",
        "dict_topics_males_2015 = topics_2015_df[topics_2015_df['gender'] == 'male'].topics.values[0]\n",
        "dict_topics_females_2015 = topics_2015_df[topics_2015_df['gender'] == 'female'].topics.values[0]\n",
        "dict_topics_others_2015 = topics_2015_df[topics_2015_df['gender'] == 'others'].topics.values[0]\n",
        "n_most_males_2015 = get_n_most_cited(dict_topics_males_2015, 10, normalized=norm)\n",
        "n_most_females_2015 = get_n_most_cited(dict_topics_females_2015, 10, normalized=norm)\n",
        "n_most_others_2015 = get_n_most_cited(dict_topics_others_2015, 10, normalized=norm)"
      ],
      "metadata": {
        "id": "R22jbRRXR0MW"
      },
      "execution_count": 19,
      "outputs": []
    },
    {
      "cell_type": "markdown",
      "source": [
        "We create a dataframe merging all values of the most cited topics for each year"
      ],
      "metadata": {
        "id": "IT8BERAd3Bkz"
      }
    },
    {
      "cell_type": "code",
      "source": [
        "def get_df_year(dict_males, dict_females, dict_others, year, normalize=False):\n",
        "  male_df = pd.DataFrame.from_dict(dict_males, orient='index', columns=['weight'])\n",
        "  male_df['gender'] = 'male'\n",
        "  female_df = pd.DataFrame.from_dict(dict_females, orient='index', columns=['weight'])\n",
        "  female_df['gender'] = 'female'\n",
        "  other_df = pd.DataFrame.from_dict(dict_others, orient='index', columns=['weight'])\n",
        "  other_df['gender'] = 'others'\n",
        "  all_df = pd.concat([male_df, female_df,other_df], axis=0)\n",
        "  all_df['year'] = year\n",
        "\n",
        "  # Normalize\n",
        "  if normalize:\n",
        "    sum_all = all_df.weight.sum()\n",
        "    all_df['weight'] = all_df['weight']/sum_all\n",
        "  return all_df"
      ],
      "metadata": {
        "id": "qKXCdBNeozP9"
      },
      "execution_count": 29,
      "outputs": []
    },
    {
      "cell_type": "code",
      "source": [
        "# Normallized value\n",
        "norm_all = True"
      ],
      "metadata": {
        "id": "m7tM66gc6Cz4"
      },
      "execution_count": 30,
      "outputs": []
    },
    {
      "cell_type": "code",
      "source": [
        "all_df_2020 = get_df_year(n_most_males_2020, n_most_females_2020, n_most_others_2020, 2020, normalize=norm_all)\n",
        "all_df_2019 = get_df_year(n_most_males_2019, n_most_females_2019, n_most_others_2019, 2019, normalize=norm_all)\n",
        "all_df_2018 = get_df_year(n_most_males_2018, n_most_females_2018, n_most_others_2018, 2018, normalize=norm_all)\n",
        "all_df_2017 = get_df_year(n_most_males_2017, n_most_females_2017, n_most_others_2017, 2017, normalize=norm_all)\n",
        "all_df_2016 = get_df_year(n_most_males_2016, n_most_females_2016, n_most_others_2016, 2016, normalize=norm_all)\n",
        "all_df_2015 = get_df_year(n_most_males_2015, n_most_females_2015, n_most_others_2015, 2015, normalize=norm_all)\n",
        "all_years_df = pd.concat([all_df_2020, all_df_2019, all_df_2018, all_df_2017, all_df_2016, all_df_2015], axis=0)\n",
        "all_years_df.shape"
      ],
      "metadata": {
        "colab": {
          "base_uri": "https://localhost:8080/"
        },
        "id": "zajCnpr-QAtb",
        "outputId": "83fbb54f-623e-4735-b4ea-977d5f4cee31"
      },
      "execution_count": 31,
      "outputs": [
        {
          "output_type": "execute_result",
          "data": {
            "text/plain": [
              "(180, 3)"
            ]
          },
          "metadata": {},
          "execution_count": 31
        }
      ]
    },
    {
      "cell_type": "code",
      "source": [
        "n_most_females_2015"
      ],
      "metadata": {
        "colab": {
          "base_uri": "https://localhost:8080/"
        },
        "id": "PP25Zj5i4hrj",
        "outputId": "a929bbc4-d1bb-4a24-d210-54a326008dbf"
      },
      "execution_count": 67,
      "outputs": [
        {
          "output_type": "execute_result",
          "data": {
            "text/plain": [
              "{'business': 0.10601824901798926,\n",
              " 'children': 0.09918448343899501,\n",
              " 'communication': 0.08211051463146704,\n",
              " 'friends': 0.09046682625787403,\n",
              " 'giving': 0.08528204886027115,\n",
              " 'negative_emotion': 0.1250109305388104,\n",
              " 'optimism': 0.1083302770906042,\n",
              " 'party': 0.08070158680945459,\n",
              " 'positive_emotion': 0.12785178933573005,\n",
              " 'speaking': 0.09504329401880411}"
            ]
          },
          "metadata": {},
          "execution_count": 67
        }
      ]
    },
    {
      "cell_type": "code",
      "source": [
        "all_years_df[all_years_df.year == 2016].head()"
      ],
      "metadata": {
        "colab": {
          "base_uri": "https://localhost:8080/",
          "height": 206
        },
        "id": "eGpRJbnO3t7B",
        "outputId": "688aa082-a53d-45f1-9193-6a1a592e686b"
      },
      "execution_count": 32,
      "outputs": [
        {
          "output_type": "execute_result",
          "data": {
            "text/html": [
              "<div>\n",
              "<style scoped>\n",
              "    .dataframe tbody tr th:only-of-type {\n",
              "        vertical-align: middle;\n",
              "    }\n",
              "\n",
              "    .dataframe tbody tr th {\n",
              "        vertical-align: top;\n",
              "    }\n",
              "\n",
              "    .dataframe thead th {\n",
              "        text-align: right;\n",
              "    }\n",
              "</style>\n",
              "<table border=\"1\" class=\"dataframe\">\n",
              "  <thead>\n",
              "    <tr style=\"text-align: right;\">\n",
              "      <th></th>\n",
              "      <th>weight</th>\n",
              "      <th>gender</th>\n",
              "      <th>year</th>\n",
              "    </tr>\n",
              "  </thead>\n",
              "  <tbody>\n",
              "    <tr>\n",
              "      <th>positive_emotion</th>\n",
              "      <td>0.099873</td>\n",
              "      <td>male</td>\n",
              "      <td>2016</td>\n",
              "    </tr>\n",
              "    <tr>\n",
              "      <th>negative_emotion</th>\n",
              "      <td>0.092783</td>\n",
              "      <td>male</td>\n",
              "      <td>2016</td>\n",
              "    </tr>\n",
              "    <tr>\n",
              "      <th>business</th>\n",
              "      <td>0.083760</td>\n",
              "      <td>male</td>\n",
              "      <td>2016</td>\n",
              "    </tr>\n",
              "    <tr>\n",
              "      <th>optimism</th>\n",
              "      <td>0.076746</td>\n",
              "      <td>male</td>\n",
              "      <td>2016</td>\n",
              "    </tr>\n",
              "    <tr>\n",
              "      <th>achievement</th>\n",
              "      <td>0.076397</td>\n",
              "      <td>male</td>\n",
              "      <td>2016</td>\n",
              "    </tr>\n",
              "  </tbody>\n",
              "</table>\n",
              "</div>"
            ],
            "text/plain": [
              "                    weight gender  year\n",
              "positive_emotion  0.099873   male  2016\n",
              "negative_emotion  0.092783   male  2016\n",
              "business          0.083760   male  2016\n",
              "optimism          0.076746   male  2016\n",
              "achievement       0.076397   male  2016"
            ]
          },
          "metadata": {},
          "execution_count": 32
        }
      ]
    },
    {
      "cell_type": "code",
      "source": [
        "pd.unique(all_years_df.index.values)\n"
      ],
      "metadata": {
        "colab": {
          "base_uri": "https://localhost:8080/"
        },
        "id": "vJBcYMnq5_7Y",
        "outputId": "e076fec5-2bef-470f-d1d1-ea2f8679517a"
      },
      "execution_count": 33,
      "outputs": [
        {
          "output_type": "execute_result",
          "data": {
            "text/plain": [
              "array(['business', 'positive_emotion', 'negative_emotion', 'giving',\n",
              "       'speaking', 'optimism', 'sports', 'achievement', 'communication',\n",
              "       'party', 'children', 'friends', 'body', 'strength', 'listen',\n",
              "       'music', 'love', 'play', 'violence', 'pain', 'fun', 'musical',\n",
              "       'celebration', 'family', 'money', 'emotional', 'affection',\n",
              "       'heroic', 'feminine'], dtype=object)"
            ]
          },
          "metadata": {},
          "execution_count": 33
        }
      ]
    },
    {
      "cell_type": "markdown",
      "source": [
        "Plots"
      ],
      "metadata": {
        "id": "WiycRr-B3a_1"
      }
    },
    {
      "cell_type": "code",
      "execution_count": 35,
      "metadata": {
        "id": "5s-rBjCesO1W",
        "colab": {
          "base_uri": "https://localhost:8080/",
          "height": 542
        },
        "outputId": "3f41fe13-f27d-47dc-94d4-183c399d4c2c"
      },
      "outputs": [
        {
          "output_type": "display_data",
          "data": {
            "text/html": [
              "<html>\n",
              "<head><meta charset=\"utf-8\" /></head>\n",
              "<body>\n",
              "    <div>\n",
              "            <script src=\"https://cdnjs.cloudflare.com/ajax/libs/mathjax/2.7.5/MathJax.js?config=TeX-AMS-MML_SVG\"></script><script type=\"text/javascript\">if (window.MathJax) {MathJax.Hub.Config({SVG: {font: \"STIX-Web\"}});}</script>\n",
              "                <script type=\"text/javascript\">window.PlotlyConfig = {MathJaxConfig: 'local'};</script>\n",
              "        <script src=\"https://cdn.plot.ly/plotly-latest.min.js\"></script>    \n",
              "            <div id=\"cc11db13-d70a-4d52-9613-834452e699e3\" class=\"plotly-graph-div\" style=\"height:525px; width:100%;\"></div>\n",
              "            <script type=\"text/javascript\">\n",
              "                \n",
              "                    window.PLOTLYENV=window.PLOTLYENV || {};\n",
              "                    \n",
              "                if (document.getElementById(\"cc11db13-d70a-4d52-9613-834452e699e3\")) {\n",
              "                    Plotly.newPlot(\n",
              "                        'cc11db13-d70a-4d52-9613-834452e699e3',\n",
              "                        [{\"name\": \"male\", \"type\": \"bar\", \"x\": [\"business\", \"positive_emotion\", \"negative_emotion\", \"giving\", \"speaking\", \"optimism\", \"sports\", \"achievement\", \"communication\", \"party\", \"children\", \"friends\", \"body\", \"strength\", \"listen\", \"music\", \"love\", \"play\", \"violence\", \"pain\", \"fun\", \"musical\", \"celebration\", \"family\", \"money\", \"emotional\", \"affection\", \"heroic\", \"feminine\"], \"y\": [0.09996701061510771, 0.09878759405292466, 0.09731248374165445, 0.07749197632357849, 0.07746057350335751, 0.0749634925281769, 0.0749528020511584, 0.07427537707187754, 0.07113336734088861, 0.06184733703550954]}, {\"name\": \"female\", \"type\": \"bar\", \"x\": [\"business\", \"positive_emotion\", \"negative_emotion\", \"giving\", \"speaking\", \"optimism\", \"sports\", \"achievement\", \"communication\", \"party\", \"children\", \"friends\", \"body\", \"strength\", \"listen\", \"music\", \"love\", \"play\", \"violence\", \"pain\", \"fun\", \"musical\", \"celebration\", \"family\", \"money\", \"emotional\", \"affection\", \"heroic\", \"feminine\"], \"y\": [0.023733573812397008, 0.023206215280321716, 0.020109727371087745, 0.01968053753179931, 0.018411961779920088, 0.017643218336548108, 0.01679367265581562, 0.015831204334439793, 0.015242461368002249, 0.014980917179737006]}, {\"name\": \"other\", \"type\": \"bar\", \"x\": [\"business\", \"positive_emotion\", \"negative_emotion\", \"giving\", \"speaking\", \"optimism\", \"sports\", \"achievement\", \"communication\", \"party\", \"children\", \"friends\", \"body\", \"strength\", \"listen\", \"music\", \"love\", \"play\", \"violence\", \"pain\", \"fun\", \"musical\", \"celebration\", \"family\", \"money\", \"emotional\", \"affection\", \"heroic\", \"feminine\"], \"y\": [0.0008717715843007665, 0.0008394891722505303, 0.0008116271047596553, 0.0007294745834709532, 0.0006764020246397901, 0.0005443729389183419, 0.000466564323377539, 0.00044088159568869185, 0.00041436756314983504, 0.0003795451951415098]}],\n",
              "                        {\"barmode\": \"stack\", \"template\": {\"data\": {\"bar\": [{\"error_x\": {\"color\": \"#2a3f5f\"}, \"error_y\": {\"color\": \"#2a3f5f\"}, \"marker\": {\"line\": {\"color\": \"#E5ECF6\", \"width\": 0.5}}, \"type\": \"bar\"}], \"barpolar\": [{\"marker\": {\"line\": {\"color\": \"#E5ECF6\", \"width\": 0.5}}, \"type\": \"barpolar\"}], \"carpet\": [{\"aaxis\": {\"endlinecolor\": \"#2a3f5f\", \"gridcolor\": \"white\", \"linecolor\": \"white\", \"minorgridcolor\": \"white\", \"startlinecolor\": \"#2a3f5f\"}, \"baxis\": {\"endlinecolor\": \"#2a3f5f\", \"gridcolor\": \"white\", \"linecolor\": \"white\", \"minorgridcolor\": \"white\", \"startlinecolor\": \"#2a3f5f\"}, \"type\": \"carpet\"}], \"choropleth\": [{\"colorbar\": {\"outlinewidth\": 0, \"ticks\": \"\"}, \"type\": \"choropleth\"}], \"contour\": [{\"colorbar\": {\"outlinewidth\": 0, \"ticks\": \"\"}, \"colorscale\": [[0.0, \"#0d0887\"], [0.1111111111111111, \"#46039f\"], [0.2222222222222222, \"#7201a8\"], [0.3333333333333333, \"#9c179e\"], [0.4444444444444444, \"#bd3786\"], [0.5555555555555556, \"#d8576b\"], [0.6666666666666666, \"#ed7953\"], [0.7777777777777778, \"#fb9f3a\"], [0.8888888888888888, \"#fdca26\"], [1.0, \"#f0f921\"]], \"type\": \"contour\"}], \"contourcarpet\": [{\"colorbar\": {\"outlinewidth\": 0, \"ticks\": \"\"}, \"type\": \"contourcarpet\"}], \"heatmap\": [{\"colorbar\": {\"outlinewidth\": 0, \"ticks\": \"\"}, \"colorscale\": [[0.0, \"#0d0887\"], [0.1111111111111111, \"#46039f\"], [0.2222222222222222, \"#7201a8\"], [0.3333333333333333, \"#9c179e\"], [0.4444444444444444, \"#bd3786\"], [0.5555555555555556, \"#d8576b\"], [0.6666666666666666, \"#ed7953\"], [0.7777777777777778, \"#fb9f3a\"], [0.8888888888888888, \"#fdca26\"], [1.0, \"#f0f921\"]], \"type\": \"heatmap\"}], \"heatmapgl\": [{\"colorbar\": {\"outlinewidth\": 0, \"ticks\": \"\"}, \"colorscale\": [[0.0, \"#0d0887\"], [0.1111111111111111, \"#46039f\"], [0.2222222222222222, \"#7201a8\"], [0.3333333333333333, \"#9c179e\"], [0.4444444444444444, \"#bd3786\"], [0.5555555555555556, \"#d8576b\"], [0.6666666666666666, \"#ed7953\"], [0.7777777777777778, \"#fb9f3a\"], [0.8888888888888888, \"#fdca26\"], [1.0, \"#f0f921\"]], \"type\": \"heatmapgl\"}], \"histogram\": [{\"marker\": {\"colorbar\": {\"outlinewidth\": 0, \"ticks\": \"\"}}, \"type\": \"histogram\"}], \"histogram2d\": [{\"colorbar\": {\"outlinewidth\": 0, \"ticks\": \"\"}, \"colorscale\": [[0.0, \"#0d0887\"], [0.1111111111111111, \"#46039f\"], [0.2222222222222222, \"#7201a8\"], [0.3333333333333333, \"#9c179e\"], [0.4444444444444444, \"#bd3786\"], [0.5555555555555556, \"#d8576b\"], [0.6666666666666666, \"#ed7953\"], [0.7777777777777778, \"#fb9f3a\"], [0.8888888888888888, \"#fdca26\"], [1.0, \"#f0f921\"]], \"type\": \"histogram2d\"}], \"histogram2dcontour\": [{\"colorbar\": {\"outlinewidth\": 0, \"ticks\": \"\"}, \"colorscale\": [[0.0, \"#0d0887\"], [0.1111111111111111, \"#46039f\"], [0.2222222222222222, \"#7201a8\"], [0.3333333333333333, \"#9c179e\"], [0.4444444444444444, \"#bd3786\"], [0.5555555555555556, \"#d8576b\"], [0.6666666666666666, \"#ed7953\"], [0.7777777777777778, \"#fb9f3a\"], [0.8888888888888888, \"#fdca26\"], [1.0, \"#f0f921\"]], \"type\": \"histogram2dcontour\"}], \"mesh3d\": [{\"colorbar\": {\"outlinewidth\": 0, \"ticks\": \"\"}, \"type\": \"mesh3d\"}], \"parcoords\": [{\"line\": {\"colorbar\": {\"outlinewidth\": 0, \"ticks\": \"\"}}, \"type\": \"parcoords\"}], \"pie\": [{\"automargin\": true, \"type\": \"pie\"}], \"scatter\": [{\"marker\": {\"colorbar\": {\"outlinewidth\": 0, \"ticks\": \"\"}}, \"type\": \"scatter\"}], \"scatter3d\": [{\"line\": {\"colorbar\": {\"outlinewidth\": 0, \"ticks\": \"\"}}, \"marker\": {\"colorbar\": {\"outlinewidth\": 0, \"ticks\": \"\"}}, \"type\": \"scatter3d\"}], \"scattercarpet\": [{\"marker\": {\"colorbar\": {\"outlinewidth\": 0, \"ticks\": \"\"}}, \"type\": \"scattercarpet\"}], \"scattergeo\": [{\"marker\": {\"colorbar\": {\"outlinewidth\": 0, \"ticks\": \"\"}}, \"type\": \"scattergeo\"}], \"scattergl\": [{\"marker\": {\"colorbar\": {\"outlinewidth\": 0, \"ticks\": \"\"}}, \"type\": \"scattergl\"}], \"scattermapbox\": [{\"marker\": {\"colorbar\": {\"outlinewidth\": 0, \"ticks\": \"\"}}, \"type\": \"scattermapbox\"}], \"scatterpolar\": [{\"marker\": {\"colorbar\": {\"outlinewidth\": 0, \"ticks\": \"\"}}, \"type\": \"scatterpolar\"}], \"scatterpolargl\": [{\"marker\": {\"colorbar\": {\"outlinewidth\": 0, \"ticks\": \"\"}}, \"type\": \"scatterpolargl\"}], \"scatterternary\": [{\"marker\": {\"colorbar\": {\"outlinewidth\": 0, \"ticks\": \"\"}}, \"type\": \"scatterternary\"}], \"surface\": [{\"colorbar\": {\"outlinewidth\": 0, \"ticks\": \"\"}, \"colorscale\": [[0.0, \"#0d0887\"], [0.1111111111111111, \"#46039f\"], [0.2222222222222222, \"#7201a8\"], [0.3333333333333333, \"#9c179e\"], [0.4444444444444444, \"#bd3786\"], [0.5555555555555556, \"#d8576b\"], [0.6666666666666666, \"#ed7953\"], [0.7777777777777778, \"#fb9f3a\"], [0.8888888888888888, \"#fdca26\"], [1.0, \"#f0f921\"]], \"type\": \"surface\"}], \"table\": [{\"cells\": {\"fill\": {\"color\": \"#EBF0F8\"}, \"line\": {\"color\": \"white\"}}, \"header\": {\"fill\": {\"color\": \"#C8D4E3\"}, \"line\": {\"color\": \"white\"}}, \"type\": \"table\"}]}, \"layout\": {\"annotationdefaults\": {\"arrowcolor\": \"#2a3f5f\", \"arrowhead\": 0, \"arrowwidth\": 1}, \"coloraxis\": {\"colorbar\": {\"outlinewidth\": 0, \"ticks\": \"\"}}, \"colorscale\": {\"diverging\": [[0, \"#8e0152\"], [0.1, \"#c51b7d\"], [0.2, \"#de77ae\"], [0.3, \"#f1b6da\"], [0.4, \"#fde0ef\"], [0.5, \"#f7f7f7\"], [0.6, \"#e6f5d0\"], [0.7, \"#b8e186\"], [0.8, \"#7fbc41\"], [0.9, \"#4d9221\"], [1, \"#276419\"]], \"sequential\": [[0.0, \"#0d0887\"], [0.1111111111111111, \"#46039f\"], [0.2222222222222222, \"#7201a8\"], [0.3333333333333333, \"#9c179e\"], [0.4444444444444444, \"#bd3786\"], [0.5555555555555556, \"#d8576b\"], [0.6666666666666666, \"#ed7953\"], [0.7777777777777778, \"#fb9f3a\"], [0.8888888888888888, \"#fdca26\"], [1.0, \"#f0f921\"]], \"sequentialminus\": [[0.0, \"#0d0887\"], [0.1111111111111111, \"#46039f\"], [0.2222222222222222, \"#7201a8\"], [0.3333333333333333, \"#9c179e\"], [0.4444444444444444, \"#bd3786\"], [0.5555555555555556, \"#d8576b\"], [0.6666666666666666, \"#ed7953\"], [0.7777777777777778, \"#fb9f3a\"], [0.8888888888888888, \"#fdca26\"], [1.0, \"#f0f921\"]]}, \"colorway\": [\"#636efa\", \"#EF553B\", \"#00cc96\", \"#ab63fa\", \"#FFA15A\", \"#19d3f3\", \"#FF6692\", \"#B6E880\", \"#FF97FF\", \"#FECB52\"], \"font\": {\"color\": \"#2a3f5f\"}, \"geo\": {\"bgcolor\": \"white\", \"lakecolor\": \"white\", \"landcolor\": \"#E5ECF6\", \"showlakes\": true, \"showland\": true, \"subunitcolor\": \"white\"}, \"hoverlabel\": {\"align\": \"left\"}, \"hovermode\": \"closest\", \"mapbox\": {\"style\": \"light\"}, \"paper_bgcolor\": \"white\", \"plot_bgcolor\": \"#E5ECF6\", \"polar\": {\"angularaxis\": {\"gridcolor\": \"white\", \"linecolor\": \"white\", \"ticks\": \"\"}, \"bgcolor\": \"#E5ECF6\", \"radialaxis\": {\"gridcolor\": \"white\", \"linecolor\": \"white\", \"ticks\": \"\"}}, \"scene\": {\"xaxis\": {\"backgroundcolor\": \"#E5ECF6\", \"gridcolor\": \"white\", \"gridwidth\": 2, \"linecolor\": \"white\", \"showbackground\": true, \"ticks\": \"\", \"zerolinecolor\": \"white\"}, \"yaxis\": {\"backgroundcolor\": \"#E5ECF6\", \"gridcolor\": \"white\", \"gridwidth\": 2, \"linecolor\": \"white\", \"showbackground\": true, \"ticks\": \"\", \"zerolinecolor\": \"white\"}, \"zaxis\": {\"backgroundcolor\": \"#E5ECF6\", \"gridcolor\": \"white\", \"gridwidth\": 2, \"linecolor\": \"white\", \"showbackground\": true, \"ticks\": \"\", \"zerolinecolor\": \"white\"}}, \"shapedefaults\": {\"line\": {\"color\": \"#2a3f5f\"}}, \"ternary\": {\"aaxis\": {\"gridcolor\": \"white\", \"linecolor\": \"white\", \"ticks\": \"\"}, \"baxis\": {\"gridcolor\": \"white\", \"linecolor\": \"white\", \"ticks\": \"\"}, \"bgcolor\": \"#E5ECF6\", \"caxis\": {\"gridcolor\": \"white\", \"linecolor\": \"white\", \"ticks\": \"\"}}, \"title\": {\"x\": 0.05}, \"xaxis\": {\"automargin\": true, \"gridcolor\": \"white\", \"linecolor\": \"white\", \"ticks\": \"\", \"title\": {\"standoff\": 15}, \"zerolinecolor\": \"white\", \"zerolinewidth\": 2}, \"yaxis\": {\"automargin\": true, \"gridcolor\": \"white\", \"linecolor\": \"white\", \"ticks\": \"\", \"title\": {\"standoff\": 15}, \"zerolinecolor\": \"white\", \"zerolinewidth\": 2}}}, \"title\": {\"text\": \"Total weight distribution of topics per gender in 2015\"}, \"xaxis\": {\"categoryorder\": \"total descending\", \"title\": {\"text\": \"Topics\"}}, \"yaxis\": {\"title\": {\"text\": \"Total weights\"}}},\n",
              "                        {\"responsive\": true}\n",
              "                    ).then(function(){\n",
              "                            \n",
              "var gd = document.getElementById('cc11db13-d70a-4d52-9613-834452e699e3');\n",
              "var x = new MutationObserver(function (mutations, observer) {{\n",
              "        var display = window.getComputedStyle(gd).display;\n",
              "        if (!display || display === 'none') {{\n",
              "            console.log([gd, 'removed!']);\n",
              "            Plotly.purge(gd);\n",
              "            observer.disconnect();\n",
              "        }}\n",
              "}});\n",
              "\n",
              "// Listen for the removal of the full notebook cells\n",
              "var notebookContainer = gd.closest('#notebook-container');\n",
              "if (notebookContainer) {{\n",
              "    x.observe(notebookContainer, {childList: true});\n",
              "}}\n",
              "\n",
              "// Listen for the clearing of the current output cell\n",
              "var outputEl = gd.closest('.output');\n",
              "if (outputEl) {{\n",
              "    x.observe(outputEl, {childList: true});\n",
              "}}\n",
              "\n",
              "                        })\n",
              "                };\n",
              "                \n",
              "            </script>\n",
              "        </div>\n",
              "</body>\n",
              "</html>"
            ]
          },
          "metadata": {}
        }
      ],
      "source": [
        "x = pd.unique(all_years_df.index.values)\n",
        "\n",
        "y = all_years_df[all_years_df.year == 2015]\n",
        "\n",
        "y1 = y[y.gender=='male']['weight']\n",
        "y2 = y[y.gender=='female']['weight']\n",
        "y3 = y[y.gender=='others']['weight']\n",
        "\n",
        "fig = go.Figure(go.Bar(x=x, y=y1, name='male'))\n",
        "fig.add_trace(go.Bar(x=x, y=y2, name='female'))\n",
        "fig.add_trace(go.Bar(x=x, y=y3, name='other'))\n",
        "\n",
        "fig.update_layout(barmode='stack', xaxis={'categoryorder':'total descending'}, title=\"Total weight distribution of topics per gender in 2015\",\n",
        "                  xaxis_title=\"Topics\", yaxis_title=\"Total weights\",)\n",
        "fig.show()"
      ]
    },
    {
      "cell_type": "code",
      "source": [
        "x = pd.unique(all_years_df.index.values)\n",
        "\n",
        "y = all_years_df[all_years_df.year == 2020]\n",
        "\n",
        "y1 = y[y.gender=='male']['weight']\n",
        "y2 = y[y.gender=='female']['weight']\n",
        "y3 = y[y.gender=='others']['weight']\n",
        "\n",
        "fig = go.Figure(go.Bar(x=x, y=y1, name='male'))\n",
        "fig.add_trace(go.Bar(x=x, y=y2, name='female'))\n",
        "fig.add_trace(go.Bar(x=x, y=y3, name='other'))\n",
        "\n",
        "fig.update_layout(barmode='stack', xaxis={'categoryorder':'total descending'}, title=\"Total weight distribution of topics per gender in 2020\",\n",
        "                  xaxis_title=\"Topics\", yaxis_title=\"Total weights\",)\n",
        "fig.show()"
      ],
      "metadata": {
        "colab": {
          "base_uri": "https://localhost:8080/",
          "height": 542
        },
        "id": "u6MNylGQ9ojb",
        "outputId": "4616e12a-fa4b-4ba8-ff36-552474a51418"
      },
      "execution_count": 36,
      "outputs": [
        {
          "output_type": "display_data",
          "data": {
            "text/html": [
              "<html>\n",
              "<head><meta charset=\"utf-8\" /></head>\n",
              "<body>\n",
              "    <div>\n",
              "            <script src=\"https://cdnjs.cloudflare.com/ajax/libs/mathjax/2.7.5/MathJax.js?config=TeX-AMS-MML_SVG\"></script><script type=\"text/javascript\">if (window.MathJax) {MathJax.Hub.Config({SVG: {font: \"STIX-Web\"}});}</script>\n",
              "                <script type=\"text/javascript\">window.PlotlyConfig = {MathJaxConfig: 'local'};</script>\n",
              "        <script src=\"https://cdn.plot.ly/plotly-latest.min.js\"></script>    \n",
              "            <div id=\"c2f429d8-d4a8-497d-b6b3-a4e6e8a1413b\" class=\"plotly-graph-div\" style=\"height:525px; width:100%;\"></div>\n",
              "            <script type=\"text/javascript\">\n",
              "                \n",
              "                    window.PLOTLYENV=window.PLOTLYENV || {};\n",
              "                    \n",
              "                if (document.getElementById(\"c2f429d8-d4a8-497d-b6b3-a4e6e8a1413b\")) {\n",
              "                    Plotly.newPlot(\n",
              "                        'c2f429d8-d4a8-497d-b6b3-a4e6e8a1413b',\n",
              "                        [{\"name\": \"male\", \"type\": \"bar\", \"x\": [\"business\", \"positive_emotion\", \"negative_emotion\", \"giving\", \"speaking\", \"optimism\", \"sports\", \"achievement\", \"communication\", \"party\", \"children\", \"friends\", \"body\", \"strength\", \"listen\", \"music\", \"love\", \"play\", \"violence\", \"pain\", \"fun\", \"musical\", \"celebration\", \"family\", \"money\", \"emotional\", \"affection\", \"heroic\", \"feminine\"], \"y\": [0.09560430633307408, 0.09522686956073688, 0.09097954667289021, 0.07661478839381988, 0.07359896577986545, 0.06729001036655745, 0.061283621979308416, 0.05914140836755796, 0.05904335019573946, 0.05860697876350623]}, {\"name\": \"female\", \"type\": \"bar\", \"x\": [\"business\", \"positive_emotion\", \"negative_emotion\", \"giving\", \"speaking\", \"optimism\", \"sports\", \"achievement\", \"communication\", \"party\", \"children\", \"friends\", \"body\", \"strength\", \"listen\", \"music\", \"love\", \"play\", \"violence\", \"pain\", \"fun\", \"musical\", \"celebration\", \"family\", \"money\", \"emotional\", \"affection\", \"heroic\", \"feminine\"], \"y\": [0.037686392792437136, 0.03175883532451498, 0.02637614507848571, 0.026072854403261455, 0.025958832135575174, 0.024381182975304894, 0.023852133573986956, 0.02168471993577804, 0.021267963344166183, 0.020823037280958353]}, {\"name\": \"other\", \"type\": \"bar\", \"x\": [\"business\", \"positive_emotion\", \"negative_emotion\", \"giving\", \"speaking\", \"optimism\", \"sports\", \"achievement\", \"communication\", \"party\", \"children\", \"friends\", \"body\", \"strength\", \"listen\", \"music\", \"love\", \"play\", \"violence\", \"pain\", \"fun\", \"musical\", \"celebration\", \"family\", \"money\", \"emotional\", \"affection\", \"heroic\", \"feminine\"], \"y\": [0.0003406643274843115, 0.0003094725829047188, 0.00029835762903907784, 0.00029642959520996033, 0.00027393828974995416, 0.0002597912502763716, 0.0002550392725345684, 0.0002442907674887555, 0.00023848822271206694, 0.00023158480507521676]}],\n",
              "                        {\"barmode\": \"stack\", \"template\": {\"data\": {\"bar\": [{\"error_x\": {\"color\": \"#2a3f5f\"}, \"error_y\": {\"color\": \"#2a3f5f\"}, \"marker\": {\"line\": {\"color\": \"#E5ECF6\", \"width\": 0.5}}, \"type\": \"bar\"}], \"barpolar\": [{\"marker\": {\"line\": {\"color\": \"#E5ECF6\", \"width\": 0.5}}, \"type\": \"barpolar\"}], \"carpet\": [{\"aaxis\": {\"endlinecolor\": \"#2a3f5f\", \"gridcolor\": \"white\", \"linecolor\": \"white\", \"minorgridcolor\": \"white\", \"startlinecolor\": \"#2a3f5f\"}, \"baxis\": {\"endlinecolor\": \"#2a3f5f\", \"gridcolor\": \"white\", \"linecolor\": \"white\", \"minorgridcolor\": \"white\", \"startlinecolor\": \"#2a3f5f\"}, \"type\": \"carpet\"}], \"choropleth\": [{\"colorbar\": {\"outlinewidth\": 0, \"ticks\": \"\"}, \"type\": \"choropleth\"}], \"contour\": [{\"colorbar\": {\"outlinewidth\": 0, \"ticks\": \"\"}, \"colorscale\": [[0.0, \"#0d0887\"], [0.1111111111111111, \"#46039f\"], [0.2222222222222222, \"#7201a8\"], [0.3333333333333333, \"#9c179e\"], [0.4444444444444444, \"#bd3786\"], [0.5555555555555556, \"#d8576b\"], [0.6666666666666666, \"#ed7953\"], [0.7777777777777778, \"#fb9f3a\"], [0.8888888888888888, \"#fdca26\"], [1.0, \"#f0f921\"]], \"type\": \"contour\"}], \"contourcarpet\": [{\"colorbar\": {\"outlinewidth\": 0, \"ticks\": \"\"}, \"type\": \"contourcarpet\"}], \"heatmap\": [{\"colorbar\": {\"outlinewidth\": 0, \"ticks\": \"\"}, \"colorscale\": [[0.0, \"#0d0887\"], [0.1111111111111111, \"#46039f\"], [0.2222222222222222, \"#7201a8\"], [0.3333333333333333, \"#9c179e\"], [0.4444444444444444, \"#bd3786\"], [0.5555555555555556, \"#d8576b\"], [0.6666666666666666, \"#ed7953\"], [0.7777777777777778, \"#fb9f3a\"], [0.8888888888888888, \"#fdca26\"], [1.0, \"#f0f921\"]], \"type\": \"heatmap\"}], \"heatmapgl\": [{\"colorbar\": {\"outlinewidth\": 0, \"ticks\": \"\"}, \"colorscale\": [[0.0, \"#0d0887\"], [0.1111111111111111, \"#46039f\"], [0.2222222222222222, \"#7201a8\"], [0.3333333333333333, \"#9c179e\"], [0.4444444444444444, \"#bd3786\"], [0.5555555555555556, \"#d8576b\"], [0.6666666666666666, \"#ed7953\"], [0.7777777777777778, \"#fb9f3a\"], [0.8888888888888888, \"#fdca26\"], [1.0, \"#f0f921\"]], \"type\": \"heatmapgl\"}], \"histogram\": [{\"marker\": {\"colorbar\": {\"outlinewidth\": 0, \"ticks\": \"\"}}, \"type\": \"histogram\"}], \"histogram2d\": [{\"colorbar\": {\"outlinewidth\": 0, \"ticks\": \"\"}, \"colorscale\": [[0.0, \"#0d0887\"], [0.1111111111111111, \"#46039f\"], [0.2222222222222222, \"#7201a8\"], [0.3333333333333333, \"#9c179e\"], [0.4444444444444444, \"#bd3786\"], [0.5555555555555556, \"#d8576b\"], [0.6666666666666666, \"#ed7953\"], [0.7777777777777778, \"#fb9f3a\"], [0.8888888888888888, \"#fdca26\"], [1.0, \"#f0f921\"]], \"type\": \"histogram2d\"}], \"histogram2dcontour\": [{\"colorbar\": {\"outlinewidth\": 0, \"ticks\": \"\"}, \"colorscale\": [[0.0, \"#0d0887\"], [0.1111111111111111, \"#46039f\"], [0.2222222222222222, \"#7201a8\"], [0.3333333333333333, \"#9c179e\"], [0.4444444444444444, \"#bd3786\"], [0.5555555555555556, \"#d8576b\"], [0.6666666666666666, \"#ed7953\"], [0.7777777777777778, \"#fb9f3a\"], [0.8888888888888888, \"#fdca26\"], [1.0, \"#f0f921\"]], \"type\": \"histogram2dcontour\"}], \"mesh3d\": [{\"colorbar\": {\"outlinewidth\": 0, \"ticks\": \"\"}, \"type\": \"mesh3d\"}], \"parcoords\": [{\"line\": {\"colorbar\": {\"outlinewidth\": 0, \"ticks\": \"\"}}, \"type\": \"parcoords\"}], \"pie\": [{\"automargin\": true, \"type\": \"pie\"}], \"scatter\": [{\"marker\": {\"colorbar\": {\"outlinewidth\": 0, \"ticks\": \"\"}}, \"type\": \"scatter\"}], \"scatter3d\": [{\"line\": {\"colorbar\": {\"outlinewidth\": 0, \"ticks\": \"\"}}, \"marker\": {\"colorbar\": {\"outlinewidth\": 0, \"ticks\": \"\"}}, \"type\": \"scatter3d\"}], \"scattercarpet\": [{\"marker\": {\"colorbar\": {\"outlinewidth\": 0, \"ticks\": \"\"}}, \"type\": \"scattercarpet\"}], \"scattergeo\": [{\"marker\": {\"colorbar\": {\"outlinewidth\": 0, \"ticks\": \"\"}}, \"type\": \"scattergeo\"}], \"scattergl\": [{\"marker\": {\"colorbar\": {\"outlinewidth\": 0, \"ticks\": \"\"}}, \"type\": \"scattergl\"}], \"scattermapbox\": [{\"marker\": {\"colorbar\": {\"outlinewidth\": 0, \"ticks\": \"\"}}, \"type\": \"scattermapbox\"}], \"scatterpolar\": [{\"marker\": {\"colorbar\": {\"outlinewidth\": 0, \"ticks\": \"\"}}, \"type\": \"scatterpolar\"}], \"scatterpolargl\": [{\"marker\": {\"colorbar\": {\"outlinewidth\": 0, \"ticks\": \"\"}}, \"type\": \"scatterpolargl\"}], \"scatterternary\": [{\"marker\": {\"colorbar\": {\"outlinewidth\": 0, \"ticks\": \"\"}}, \"type\": \"scatterternary\"}], \"surface\": [{\"colorbar\": {\"outlinewidth\": 0, \"ticks\": \"\"}, \"colorscale\": [[0.0, \"#0d0887\"], [0.1111111111111111, \"#46039f\"], [0.2222222222222222, \"#7201a8\"], [0.3333333333333333, \"#9c179e\"], [0.4444444444444444, \"#bd3786\"], [0.5555555555555556, \"#d8576b\"], [0.6666666666666666, \"#ed7953\"], [0.7777777777777778, \"#fb9f3a\"], [0.8888888888888888, \"#fdca26\"], [1.0, \"#f0f921\"]], \"type\": \"surface\"}], \"table\": [{\"cells\": {\"fill\": {\"color\": \"#EBF0F8\"}, \"line\": {\"color\": \"white\"}}, \"header\": {\"fill\": {\"color\": \"#C8D4E3\"}, \"line\": {\"color\": \"white\"}}, \"type\": \"table\"}]}, \"layout\": {\"annotationdefaults\": {\"arrowcolor\": \"#2a3f5f\", \"arrowhead\": 0, \"arrowwidth\": 1}, \"coloraxis\": {\"colorbar\": {\"outlinewidth\": 0, \"ticks\": \"\"}}, \"colorscale\": {\"diverging\": [[0, \"#8e0152\"], [0.1, \"#c51b7d\"], [0.2, \"#de77ae\"], [0.3, \"#f1b6da\"], [0.4, \"#fde0ef\"], [0.5, \"#f7f7f7\"], [0.6, \"#e6f5d0\"], [0.7, \"#b8e186\"], [0.8, \"#7fbc41\"], [0.9, \"#4d9221\"], [1, \"#276419\"]], \"sequential\": [[0.0, \"#0d0887\"], [0.1111111111111111, \"#46039f\"], [0.2222222222222222, \"#7201a8\"], [0.3333333333333333, \"#9c179e\"], [0.4444444444444444, \"#bd3786\"], [0.5555555555555556, \"#d8576b\"], [0.6666666666666666, \"#ed7953\"], [0.7777777777777778, \"#fb9f3a\"], [0.8888888888888888, \"#fdca26\"], [1.0, \"#f0f921\"]], \"sequentialminus\": [[0.0, \"#0d0887\"], [0.1111111111111111, \"#46039f\"], [0.2222222222222222, \"#7201a8\"], [0.3333333333333333, \"#9c179e\"], [0.4444444444444444, \"#bd3786\"], [0.5555555555555556, \"#d8576b\"], [0.6666666666666666, \"#ed7953\"], [0.7777777777777778, \"#fb9f3a\"], [0.8888888888888888, \"#fdca26\"], [1.0, \"#f0f921\"]]}, \"colorway\": [\"#636efa\", \"#EF553B\", \"#00cc96\", \"#ab63fa\", \"#FFA15A\", \"#19d3f3\", \"#FF6692\", \"#B6E880\", \"#FF97FF\", \"#FECB52\"], \"font\": {\"color\": \"#2a3f5f\"}, \"geo\": {\"bgcolor\": \"white\", \"lakecolor\": \"white\", \"landcolor\": \"#E5ECF6\", \"showlakes\": true, \"showland\": true, \"subunitcolor\": \"white\"}, \"hoverlabel\": {\"align\": \"left\"}, \"hovermode\": \"closest\", \"mapbox\": {\"style\": \"light\"}, \"paper_bgcolor\": \"white\", \"plot_bgcolor\": \"#E5ECF6\", \"polar\": {\"angularaxis\": {\"gridcolor\": \"white\", \"linecolor\": \"white\", \"ticks\": \"\"}, \"bgcolor\": \"#E5ECF6\", \"radialaxis\": {\"gridcolor\": \"white\", \"linecolor\": \"white\", \"ticks\": \"\"}}, \"scene\": {\"xaxis\": {\"backgroundcolor\": \"#E5ECF6\", \"gridcolor\": \"white\", \"gridwidth\": 2, \"linecolor\": \"white\", \"showbackground\": true, \"ticks\": \"\", \"zerolinecolor\": \"white\"}, \"yaxis\": {\"backgroundcolor\": \"#E5ECF6\", \"gridcolor\": \"white\", \"gridwidth\": 2, \"linecolor\": \"white\", \"showbackground\": true, \"ticks\": \"\", \"zerolinecolor\": \"white\"}, \"zaxis\": {\"backgroundcolor\": \"#E5ECF6\", \"gridcolor\": \"white\", \"gridwidth\": 2, \"linecolor\": \"white\", \"showbackground\": true, \"ticks\": \"\", \"zerolinecolor\": \"white\"}}, \"shapedefaults\": {\"line\": {\"color\": \"#2a3f5f\"}}, \"ternary\": {\"aaxis\": {\"gridcolor\": \"white\", \"linecolor\": \"white\", \"ticks\": \"\"}, \"baxis\": {\"gridcolor\": \"white\", \"linecolor\": \"white\", \"ticks\": \"\"}, \"bgcolor\": \"#E5ECF6\", \"caxis\": {\"gridcolor\": \"white\", \"linecolor\": \"white\", \"ticks\": \"\"}}, \"title\": {\"x\": 0.05}, \"xaxis\": {\"automargin\": true, \"gridcolor\": \"white\", \"linecolor\": \"white\", \"ticks\": \"\", \"title\": {\"standoff\": 15}, \"zerolinecolor\": \"white\", \"zerolinewidth\": 2}, \"yaxis\": {\"automargin\": true, \"gridcolor\": \"white\", \"linecolor\": \"white\", \"ticks\": \"\", \"title\": {\"standoff\": 15}, \"zerolinecolor\": \"white\", \"zerolinewidth\": 2}}}, \"title\": {\"text\": \"Total weight distribution of topics per gender in 2020\"}, \"xaxis\": {\"categoryorder\": \"total descending\", \"title\": {\"text\": \"Topics\"}}, \"yaxis\": {\"title\": {\"text\": \"Total weights\"}}},\n",
              "                        {\"responsive\": true}\n",
              "                    ).then(function(){\n",
              "                            \n",
              "var gd = document.getElementById('c2f429d8-d4a8-497d-b6b3-a4e6e8a1413b');\n",
              "var x = new MutationObserver(function (mutations, observer) {{\n",
              "        var display = window.getComputedStyle(gd).display;\n",
              "        if (!display || display === 'none') {{\n",
              "            console.log([gd, 'removed!']);\n",
              "            Plotly.purge(gd);\n",
              "            observer.disconnect();\n",
              "        }}\n",
              "}});\n",
              "\n",
              "// Listen for the removal of the full notebook cells\n",
              "var notebookContainer = gd.closest('#notebook-container');\n",
              "if (notebookContainer) {{\n",
              "    x.observe(notebookContainer, {childList: true});\n",
              "}}\n",
              "\n",
              "// Listen for the clearing of the current output cell\n",
              "var outputEl = gd.closest('.output');\n",
              "if (outputEl) {{\n",
              "    x.observe(outputEl, {childList: true});\n",
              "}}\n",
              "\n",
              "                        })\n",
              "                };\n",
              "                \n",
              "            </script>\n",
              "        </div>\n",
              "</body>\n",
              "</html>"
            ]
          },
          "metadata": {}
        }
      ]
    },
    {
      "cell_type": "markdown",
      "source": [
        "Now let's see the mean distribution over all years"
      ],
      "metadata": {
        "id": "uZ-u2I6hAU3r"
      }
    },
    {
      "cell_type": "code",
      "source": [
        "all_years_df['topic'] = all_years_df.index\n",
        "tmp_df = all_years_df.groupby(['topic','gender'],as_index=False).sum().drop(columns=['year'])\n",
        "tmp_df['weight'] = tmp_df['weight']/tmp_df.weight.sum()\n",
        "tmp_df.head()"
      ],
      "metadata": {
        "colab": {
          "base_uri": "https://localhost:8080/",
          "height": 206
        },
        "id": "2OW05Ju--Ia-",
        "outputId": "d3d16c65-60ef-49d9-a3f0-3917eed90e3a"
      },
      "execution_count": 48,
      "outputs": [
        {
          "output_type": "execute_result",
          "data": {
            "text/html": [
              "<div>\n",
              "<style scoped>\n",
              "    .dataframe tbody tr th:only-of-type {\n",
              "        vertical-align: middle;\n",
              "    }\n",
              "\n",
              "    .dataframe tbody tr th {\n",
              "        vertical-align: top;\n",
              "    }\n",
              "\n",
              "    .dataframe thead th {\n",
              "        text-align: right;\n",
              "    }\n",
              "</style>\n",
              "<table border=\"1\" class=\"dataframe\">\n",
              "  <thead>\n",
              "    <tr style=\"text-align: right;\">\n",
              "      <th></th>\n",
              "      <th>topic</th>\n",
              "      <th>gender</th>\n",
              "      <th>weight</th>\n",
              "    </tr>\n",
              "  </thead>\n",
              "  <tbody>\n",
              "    <tr>\n",
              "      <th>0</th>\n",
              "      <td>achievement</td>\n",
              "      <td>male</td>\n",
              "      <td>0.070237</td>\n",
              "    </tr>\n",
              "    <tr>\n",
              "      <th>1</th>\n",
              "      <td>affection</td>\n",
              "      <td>others</td>\n",
              "      <td>0.000113</td>\n",
              "    </tr>\n",
              "    <tr>\n",
              "      <th>2</th>\n",
              "      <td>body</td>\n",
              "      <td>others</td>\n",
              "      <td>0.000143</td>\n",
              "    </tr>\n",
              "    <tr>\n",
              "      <th>3</th>\n",
              "      <td>business</td>\n",
              "      <td>female</td>\n",
              "      <td>0.023149</td>\n",
              "    </tr>\n",
              "    <tr>\n",
              "      <th>4</th>\n",
              "      <td>business</td>\n",
              "      <td>male</td>\n",
              "      <td>0.089927</td>\n",
              "    </tr>\n",
              "  </tbody>\n",
              "</table>\n",
              "</div>"
            ],
            "text/plain": [
              "         topic  gender    weight\n",
              "0  achievement    male  0.070237\n",
              "1    affection  others  0.000113\n",
              "2         body  others  0.000143\n",
              "3     business  female  0.023149\n",
              "4     business    male  0.089927"
            ]
          },
          "metadata": {},
          "execution_count": 48
        }
      ]
    },
    {
      "cell_type": "code",
      "source": [
        "tmp_df.weight.sum()"
      ],
      "metadata": {
        "colab": {
          "base_uri": "https://localhost:8080/"
        },
        "id": "MIwCkFy58NzN",
        "outputId": "4b9dbef2-1b30-447a-ecd5-fa80f22e10f9"
      },
      "execution_count": 49,
      "outputs": [
        {
          "output_type": "execute_result",
          "data": {
            "text/plain": [
              "0.9999999999999999"
            ]
          },
          "metadata": {},
          "execution_count": 49
        }
      ]
    },
    {
      "cell_type": "code",
      "source": [
        "x = pd.unique(tmp_df.topic)\n",
        "\n",
        "y = tmp_df.copy()\n",
        "y1 = y[y.gender=='male']['weight']\n",
        "y2 = y[y.gender=='female']['weight']\n",
        "y3 = y[y.gender=='others']['weight']\n",
        "\n",
        "fig = go.Figure(go.Bar(x=x, y=y1, name='male'))\n",
        "fig.add_trace(go.Bar(x=x, y=y2, name='female'))\n",
        "fig.add_trace(go.Bar(x=x, y=y3, name='other'))\n",
        "\n",
        "fig.update_layout(barmode='stack', xaxis={'categoryorder':'total descending'}, title=\"Total weight distribution of topics per gender over all years\",\n",
        "                  xaxis_title=\"Topics\", yaxis_title=\"Total weights\")\n",
        "fig.show()"
      ],
      "metadata": {
        "colab": {
          "base_uri": "https://localhost:8080/",
          "height": 542
        },
        "id": "F0ZSWo0Z95yr",
        "outputId": "d136d2b7-5491-4403-9c12-c9a5267bf6a2"
      },
      "execution_count": 50,
      "outputs": [
        {
          "output_type": "display_data",
          "data": {
            "text/html": [
              "<html>\n",
              "<head><meta charset=\"utf-8\" /></head>\n",
              "<body>\n",
              "    <div>\n",
              "            <script src=\"https://cdnjs.cloudflare.com/ajax/libs/mathjax/2.7.5/MathJax.js?config=TeX-AMS-MML_SVG\"></script><script type=\"text/javascript\">if (window.MathJax) {MathJax.Hub.Config({SVG: {font: \"STIX-Web\"}});}</script>\n",
              "                <script type=\"text/javascript\">window.PlotlyConfig = {MathJaxConfig: 'local'};</script>\n",
              "        <script src=\"https://cdn.plot.ly/plotly-latest.min.js\"></script>    \n",
              "            <div id=\"d4ce2ad9-3818-48e6-92a2-49526d3f6027\" class=\"plotly-graph-div\" style=\"height:525px; width:100%;\"></div>\n",
              "            <script type=\"text/javascript\">\n",
              "                \n",
              "                    window.PLOTLYENV=window.PLOTLYENV || {};\n",
              "                    \n",
              "                if (document.getElementById(\"d4ce2ad9-3818-48e6-92a2-49526d3f6027\")) {\n",
              "                    Plotly.newPlot(\n",
              "                        'd4ce2ad9-3818-48e6-92a2-49526d3f6027',\n",
              "                        [{\"name\": \"male\", \"type\": \"bar\", \"x\": [\"achievement\", \"affection\", \"body\", \"business\", \"celebration\", \"children\", \"communication\", \"emotional\", \"family\", \"feminine\", \"friends\", \"fun\", \"giving\", \"heroic\", \"listen\", \"love\", \"money\", \"music\", \"musical\", \"negative_emotion\", \"optimism\", \"pain\", \"party\", \"play\", \"positive_emotion\", \"speaking\", \"sports\", \"strength\", \"violence\"], \"y\": [0.07023704201997853, 0.08992721287734512, 0.009840558365956575, 0.07066298994758478, 0.09139876200239248, 0.074894310572058, 0.05978814044659667, 0.05650146658627677, 0.09819208734301531, 0.06979798854499376, 0.07076012004604167]}, {\"name\": \"female\", \"type\": \"bar\", \"x\": [\"achievement\", \"affection\", \"body\", \"business\", \"celebration\", \"children\", \"communication\", \"emotional\", \"family\", \"feminine\", \"friends\", \"fun\", \"giving\", \"heroic\", \"listen\", \"love\", \"money\", \"music\", \"musical\", \"negative_emotion\", \"optimism\", \"pain\", \"party\", \"play\", \"positive_emotion\", \"speaking\", \"sports\", \"strength\", \"violence\"], \"y\": [0.023149059367754084, 0.022988440510840688, 0.009564176192961857, 0.003036833283806007, 0.022844901227621017, 0.01957519254210561, 0.006227803843503901, 0.028775054940974685, 0.024656263971409527, 0.019357342337541474, 0.031851668645189075, 0.02205211003910415]}, {\"name\": \"other\", \"type\": \"bar\", \"x\": [\"achievement\", \"affection\", \"body\", \"business\", \"celebration\", \"children\", \"communication\", \"emotional\", \"family\", \"feminine\", \"friends\", \"fun\", \"giving\", \"heroic\", \"listen\", \"love\", \"money\", \"music\", \"musical\", \"negative_emotion\", \"optimism\", \"pain\", \"party\", \"play\", \"positive_emotion\", \"speaking\", \"sports\", \"strength\", \"violence\"], \"y\": [0.00011273367077329834, 0.0001434834761795301, 0.00013176225207997135, 7.245942333456054e-05, 0.00024246895895037792, 0.00010150982933636153, 2.8106248252167827e-05, 6.325753252358496e-05, 0.0004822501706147905, 7.807148934267137e-05, 7.776072056292315e-05, 4.2506545422428064e-05, 0.0002656374305082629, 3.1326171694892676e-05, 0.00011285935575645172, 7.31113186377739e-05, 0.000482150247943766, 0.0004307283364178536, 9.273561396639095e-05, 6.677401930181402e-05, 0.0004124033465463276, 0.00019556996666937626, 4.5656381624992354e-05, 0.00013515183850754649]}],\n",
              "                        {\"barmode\": \"stack\", \"template\": {\"data\": {\"bar\": [{\"error_x\": {\"color\": \"#2a3f5f\"}, \"error_y\": {\"color\": \"#2a3f5f\"}, \"marker\": {\"line\": {\"color\": \"#E5ECF6\", \"width\": 0.5}}, \"type\": \"bar\"}], \"barpolar\": [{\"marker\": {\"line\": {\"color\": \"#E5ECF6\", \"width\": 0.5}}, \"type\": \"barpolar\"}], \"carpet\": [{\"aaxis\": {\"endlinecolor\": \"#2a3f5f\", \"gridcolor\": \"white\", \"linecolor\": \"white\", \"minorgridcolor\": \"white\", \"startlinecolor\": \"#2a3f5f\"}, \"baxis\": {\"endlinecolor\": \"#2a3f5f\", \"gridcolor\": \"white\", \"linecolor\": \"white\", \"minorgridcolor\": \"white\", \"startlinecolor\": \"#2a3f5f\"}, \"type\": \"carpet\"}], \"choropleth\": [{\"colorbar\": {\"outlinewidth\": 0, \"ticks\": \"\"}, \"type\": \"choropleth\"}], \"contour\": [{\"colorbar\": {\"outlinewidth\": 0, \"ticks\": \"\"}, \"colorscale\": [[0.0, \"#0d0887\"], [0.1111111111111111, \"#46039f\"], [0.2222222222222222, \"#7201a8\"], [0.3333333333333333, \"#9c179e\"], [0.4444444444444444, \"#bd3786\"], [0.5555555555555556, \"#d8576b\"], [0.6666666666666666, \"#ed7953\"], [0.7777777777777778, \"#fb9f3a\"], [0.8888888888888888, \"#fdca26\"], [1.0, \"#f0f921\"]], \"type\": \"contour\"}], \"contourcarpet\": [{\"colorbar\": {\"outlinewidth\": 0, \"ticks\": \"\"}, \"type\": \"contourcarpet\"}], \"heatmap\": [{\"colorbar\": {\"outlinewidth\": 0, \"ticks\": \"\"}, \"colorscale\": [[0.0, \"#0d0887\"], [0.1111111111111111, \"#46039f\"], [0.2222222222222222, \"#7201a8\"], [0.3333333333333333, \"#9c179e\"], [0.4444444444444444, \"#bd3786\"], [0.5555555555555556, \"#d8576b\"], [0.6666666666666666, \"#ed7953\"], [0.7777777777777778, \"#fb9f3a\"], [0.8888888888888888, \"#fdca26\"], [1.0, \"#f0f921\"]], \"type\": \"heatmap\"}], \"heatmapgl\": [{\"colorbar\": {\"outlinewidth\": 0, \"ticks\": \"\"}, \"colorscale\": [[0.0, \"#0d0887\"], [0.1111111111111111, \"#46039f\"], [0.2222222222222222, \"#7201a8\"], [0.3333333333333333, \"#9c179e\"], [0.4444444444444444, \"#bd3786\"], [0.5555555555555556, \"#d8576b\"], [0.6666666666666666, \"#ed7953\"], [0.7777777777777778, \"#fb9f3a\"], [0.8888888888888888, \"#fdca26\"], [1.0, \"#f0f921\"]], \"type\": \"heatmapgl\"}], \"histogram\": [{\"marker\": {\"colorbar\": {\"outlinewidth\": 0, \"ticks\": \"\"}}, \"type\": \"histogram\"}], \"histogram2d\": [{\"colorbar\": {\"outlinewidth\": 0, \"ticks\": \"\"}, \"colorscale\": [[0.0, \"#0d0887\"], [0.1111111111111111, \"#46039f\"], [0.2222222222222222, \"#7201a8\"], [0.3333333333333333, \"#9c179e\"], [0.4444444444444444, \"#bd3786\"], [0.5555555555555556, \"#d8576b\"], [0.6666666666666666, \"#ed7953\"], [0.7777777777777778, \"#fb9f3a\"], [0.8888888888888888, \"#fdca26\"], [1.0, \"#f0f921\"]], \"type\": \"histogram2d\"}], \"histogram2dcontour\": [{\"colorbar\": {\"outlinewidth\": 0, \"ticks\": \"\"}, \"colorscale\": [[0.0, \"#0d0887\"], [0.1111111111111111, \"#46039f\"], [0.2222222222222222, \"#7201a8\"], [0.3333333333333333, \"#9c179e\"], [0.4444444444444444, \"#bd3786\"], [0.5555555555555556, \"#d8576b\"], [0.6666666666666666, \"#ed7953\"], [0.7777777777777778, \"#fb9f3a\"], [0.8888888888888888, \"#fdca26\"], [1.0, \"#f0f921\"]], \"type\": \"histogram2dcontour\"}], \"mesh3d\": [{\"colorbar\": {\"outlinewidth\": 0, \"ticks\": \"\"}, \"type\": \"mesh3d\"}], \"parcoords\": [{\"line\": {\"colorbar\": {\"outlinewidth\": 0, \"ticks\": \"\"}}, \"type\": \"parcoords\"}], \"pie\": [{\"automargin\": true, \"type\": \"pie\"}], \"scatter\": [{\"marker\": {\"colorbar\": {\"outlinewidth\": 0, \"ticks\": \"\"}}, \"type\": \"scatter\"}], \"scatter3d\": [{\"line\": {\"colorbar\": {\"outlinewidth\": 0, \"ticks\": \"\"}}, \"marker\": {\"colorbar\": {\"outlinewidth\": 0, \"ticks\": \"\"}}, \"type\": \"scatter3d\"}], \"scattercarpet\": [{\"marker\": {\"colorbar\": {\"outlinewidth\": 0, \"ticks\": \"\"}}, \"type\": \"scattercarpet\"}], \"scattergeo\": [{\"marker\": {\"colorbar\": {\"outlinewidth\": 0, \"ticks\": \"\"}}, \"type\": \"scattergeo\"}], \"scattergl\": [{\"marker\": {\"colorbar\": {\"outlinewidth\": 0, \"ticks\": \"\"}}, \"type\": \"scattergl\"}], \"scattermapbox\": [{\"marker\": {\"colorbar\": {\"outlinewidth\": 0, \"ticks\": \"\"}}, \"type\": \"scattermapbox\"}], \"scatterpolar\": [{\"marker\": {\"colorbar\": {\"outlinewidth\": 0, \"ticks\": \"\"}}, \"type\": \"scatterpolar\"}], \"scatterpolargl\": [{\"marker\": {\"colorbar\": {\"outlinewidth\": 0, \"ticks\": \"\"}}, \"type\": \"scatterpolargl\"}], \"scatterternary\": [{\"marker\": {\"colorbar\": {\"outlinewidth\": 0, \"ticks\": \"\"}}, \"type\": \"scatterternary\"}], \"surface\": [{\"colorbar\": {\"outlinewidth\": 0, \"ticks\": \"\"}, \"colorscale\": [[0.0, \"#0d0887\"], [0.1111111111111111, \"#46039f\"], [0.2222222222222222, \"#7201a8\"], [0.3333333333333333, \"#9c179e\"], [0.4444444444444444, \"#bd3786\"], [0.5555555555555556, \"#d8576b\"], [0.6666666666666666, \"#ed7953\"], [0.7777777777777778, \"#fb9f3a\"], [0.8888888888888888, \"#fdca26\"], [1.0, \"#f0f921\"]], \"type\": \"surface\"}], \"table\": [{\"cells\": {\"fill\": {\"color\": \"#EBF0F8\"}, \"line\": {\"color\": \"white\"}}, \"header\": {\"fill\": {\"color\": \"#C8D4E3\"}, \"line\": {\"color\": \"white\"}}, \"type\": \"table\"}]}, \"layout\": {\"annotationdefaults\": {\"arrowcolor\": \"#2a3f5f\", \"arrowhead\": 0, \"arrowwidth\": 1}, \"coloraxis\": {\"colorbar\": {\"outlinewidth\": 0, \"ticks\": \"\"}}, \"colorscale\": {\"diverging\": [[0, \"#8e0152\"], [0.1, \"#c51b7d\"], [0.2, \"#de77ae\"], [0.3, \"#f1b6da\"], [0.4, \"#fde0ef\"], [0.5, \"#f7f7f7\"], [0.6, \"#e6f5d0\"], [0.7, \"#b8e186\"], [0.8, \"#7fbc41\"], [0.9, \"#4d9221\"], [1, \"#276419\"]], \"sequential\": [[0.0, \"#0d0887\"], [0.1111111111111111, \"#46039f\"], [0.2222222222222222, \"#7201a8\"], [0.3333333333333333, \"#9c179e\"], [0.4444444444444444, \"#bd3786\"], [0.5555555555555556, \"#d8576b\"], [0.6666666666666666, \"#ed7953\"], [0.7777777777777778, \"#fb9f3a\"], [0.8888888888888888, \"#fdca26\"], [1.0, \"#f0f921\"]], \"sequentialminus\": [[0.0, \"#0d0887\"], [0.1111111111111111, \"#46039f\"], [0.2222222222222222, \"#7201a8\"], [0.3333333333333333, \"#9c179e\"], [0.4444444444444444, \"#bd3786\"], [0.5555555555555556, \"#d8576b\"], [0.6666666666666666, \"#ed7953\"], [0.7777777777777778, \"#fb9f3a\"], [0.8888888888888888, \"#fdca26\"], [1.0, \"#f0f921\"]]}, \"colorway\": [\"#636efa\", \"#EF553B\", \"#00cc96\", \"#ab63fa\", \"#FFA15A\", \"#19d3f3\", \"#FF6692\", \"#B6E880\", \"#FF97FF\", \"#FECB52\"], \"font\": {\"color\": \"#2a3f5f\"}, \"geo\": {\"bgcolor\": \"white\", \"lakecolor\": \"white\", \"landcolor\": \"#E5ECF6\", \"showlakes\": true, \"showland\": true, \"subunitcolor\": \"white\"}, \"hoverlabel\": {\"align\": \"left\"}, \"hovermode\": \"closest\", \"mapbox\": {\"style\": \"light\"}, \"paper_bgcolor\": \"white\", \"plot_bgcolor\": \"#E5ECF6\", \"polar\": {\"angularaxis\": {\"gridcolor\": \"white\", \"linecolor\": \"white\", \"ticks\": \"\"}, \"bgcolor\": \"#E5ECF6\", \"radialaxis\": {\"gridcolor\": \"white\", \"linecolor\": \"white\", \"ticks\": \"\"}}, \"scene\": {\"xaxis\": {\"backgroundcolor\": \"#E5ECF6\", \"gridcolor\": \"white\", \"gridwidth\": 2, \"linecolor\": \"white\", \"showbackground\": true, \"ticks\": \"\", \"zerolinecolor\": \"white\"}, \"yaxis\": {\"backgroundcolor\": \"#E5ECF6\", \"gridcolor\": \"white\", \"gridwidth\": 2, \"linecolor\": \"white\", \"showbackground\": true, \"ticks\": \"\", \"zerolinecolor\": \"white\"}, \"zaxis\": {\"backgroundcolor\": \"#E5ECF6\", \"gridcolor\": \"white\", \"gridwidth\": 2, \"linecolor\": \"white\", \"showbackground\": true, \"ticks\": \"\", \"zerolinecolor\": \"white\"}}, \"shapedefaults\": {\"line\": {\"color\": \"#2a3f5f\"}}, \"ternary\": {\"aaxis\": {\"gridcolor\": \"white\", \"linecolor\": \"white\", \"ticks\": \"\"}, \"baxis\": {\"gridcolor\": \"white\", \"linecolor\": \"white\", \"ticks\": \"\"}, \"bgcolor\": \"#E5ECF6\", \"caxis\": {\"gridcolor\": \"white\", \"linecolor\": \"white\", \"ticks\": \"\"}}, \"title\": {\"x\": 0.05}, \"xaxis\": {\"automargin\": true, \"gridcolor\": \"white\", \"linecolor\": \"white\", \"ticks\": \"\", \"title\": {\"standoff\": 15}, \"zerolinecolor\": \"white\", \"zerolinewidth\": 2}, \"yaxis\": {\"automargin\": true, \"gridcolor\": \"white\", \"linecolor\": \"white\", \"ticks\": \"\", \"title\": {\"standoff\": 15}, \"zerolinecolor\": \"white\", \"zerolinewidth\": 2}}}, \"title\": {\"text\": \"Total weight distribution of topics per gender over all years\"}, \"xaxis\": {\"categoryorder\": \"total descending\", \"title\": {\"text\": \"Topics\"}}, \"yaxis\": {\"title\": {\"text\": \"Total weights\"}}},\n",
              "                        {\"responsive\": true}\n",
              "                    ).then(function(){\n",
              "                            \n",
              "var gd = document.getElementById('d4ce2ad9-3818-48e6-92a2-49526d3f6027');\n",
              "var x = new MutationObserver(function (mutations, observer) {{\n",
              "        var display = window.getComputedStyle(gd).display;\n",
              "        if (!display || display === 'none') {{\n",
              "            console.log([gd, 'removed!']);\n",
              "            Plotly.purge(gd);\n",
              "            observer.disconnect();\n",
              "        }}\n",
              "}});\n",
              "\n",
              "// Listen for the removal of the full notebook cells\n",
              "var notebookContainer = gd.closest('#notebook-container');\n",
              "if (notebookContainer) {{\n",
              "    x.observe(notebookContainer, {childList: true});\n",
              "}}\n",
              "\n",
              "// Listen for the clearing of the current output cell\n",
              "var outputEl = gd.closest('.output');\n",
              "if (outputEl) {{\n",
              "    x.observe(outputEl, {childList: true});\n",
              "}}\n",
              "\n",
              "                        })\n",
              "                };\n",
              "                \n",
              "            </script>\n",
              "        </div>\n",
              "</body>\n",
              "</html>"
            ]
          },
          "metadata": {}
        }
      ]
    },
    {
      "cell_type": "code",
      "source": [
        "year_df = all_years_df.groupby(['topic','gender','year'],as_index=False).sum()\n",
        "female_quotes = year_df[year_df.gender == 'female']\n",
        "\n",
        "fig = px.line(female_quotes, x='year', y='weight', color='topic', title=\"Evolution of most popular topics among women between 2015 and 2020\")\n",
        "fig.show()"
      ],
      "metadata": {
        "colab": {
          "base_uri": "https://localhost:8080/",
          "height": 542
        },
        "id": "vXT-B5cm5rl0",
        "outputId": "e2af7004-c078-408f-ac11-07060d467526"
      },
      "execution_count": 52,
      "outputs": [
        {
          "output_type": "display_data",
          "data": {
            "text/html": [
              "<html>\n",
              "<head><meta charset=\"utf-8\" /></head>\n",
              "<body>\n",
              "    <div>\n",
              "            <script src=\"https://cdnjs.cloudflare.com/ajax/libs/mathjax/2.7.5/MathJax.js?config=TeX-AMS-MML_SVG\"></script><script type=\"text/javascript\">if (window.MathJax) {MathJax.Hub.Config({SVG: {font: \"STIX-Web\"}});}</script>\n",
              "                <script type=\"text/javascript\">window.PlotlyConfig = {MathJaxConfig: 'local'};</script>\n",
              "        <script src=\"https://cdn.plot.ly/plotly-latest.min.js\"></script>    \n",
              "            <div id=\"f292db67-9b81-433f-aa88-d340afc0eddb\" class=\"plotly-graph-div\" style=\"height:525px; width:100%;\"></div>\n",
              "            <script type=\"text/javascript\">\n",
              "                \n",
              "                    window.PLOTLYENV=window.PLOTLYENV || {};\n",
              "                    \n",
              "                if (document.getElementById(\"f292db67-9b81-433f-aa88-d340afc0eddb\")) {\n",
              "                    Plotly.newPlot(\n",
              "                        'f292db67-9b81-433f-aa88-d340afc0eddb',\n",
              "                        [{\"hoverlabel\": {\"namelength\": 0}, \"hovertemplate\": \"topic=business<br>year=%{x}<br>weight=%{y}\", \"legendgroup\": \"topic=business\", \"line\": {\"color\": \"#636efa\", \"dash\": \"solid\"}, \"mode\": \"lines\", \"name\": \"topic=business\", \"showlegend\": true, \"type\": \"scatter\", \"x\": [2015, 2016, 2017, 2018, 2019, 2020], \"xaxis\": \"x\", \"y\": [0.01968053753179931, 0.0210698252822523, 0.024072401019933864, 0.02362304627411948, 0.024072401019933864, 0.02637614507848571], \"yaxis\": \"y\"}, {\"hoverlabel\": {\"namelength\": 0}, \"hovertemplate\": \"topic=children<br>year=%{x}<br>weight=%{y}\", \"legendgroup\": \"topic=children\", \"line\": {\"color\": \"#EF553B\", \"dash\": \"solid\"}, \"mode\": \"lines\", \"name\": \"topic=children\", \"showlegend\": true, \"type\": \"scatter\", \"x\": [2015, 2016, 2017, 2018, 2019, 2020], \"xaxis\": \"x\", \"y\": [0.018411961779920088, 0.023060569053157915, 0.023115807725821783, 0.024267664644747423, 0.023115807725821783, 0.025958832135575174], \"yaxis\": \"y\"}, {\"hoverlabel\": {\"namelength\": 0}, \"hovertemplate\": \"topic=communication<br>year=%{x}<br>weight=%{y}\", \"legendgroup\": \"topic=communication\", \"line\": {\"color\": \"#00cc96\", \"dash\": \"solid\"}, \"mode\": \"lines\", \"name\": \"topic=communication\", \"showlegend\": true, \"type\": \"scatter\", \"x\": [2015, 2018, 2020], \"xaxis\": \"x\", \"y\": [0.015242461368002249, 0.021319558508810545, 0.020823037280958353], \"yaxis\": \"y\"}, {\"hoverlabel\": {\"namelength\": 0}, \"hovertemplate\": \"topic=family<br>year=%{x}<br>weight=%{y}\", \"legendgroup\": \"topic=family\", \"line\": {\"color\": \"#ab63fa\", \"dash\": \"solid\"}, \"mode\": \"lines\", \"name\": \"topic=family\", \"showlegend\": true, \"type\": \"scatter\", \"x\": [2016], \"xaxis\": \"x\", \"y\": [0.018220999702836044], \"yaxis\": \"y\"}, {\"hoverlabel\": {\"namelength\": 0}, \"hovertemplate\": \"topic=friends<br>year=%{x}<br>weight=%{y}\", \"legendgroup\": \"topic=friends\", \"line\": {\"color\": \"#FFA15A\", \"dash\": \"solid\"}, \"mode\": \"lines\", \"name\": \"topic=friends\", \"showlegend\": true, \"type\": \"scatter\", \"x\": [2015, 2016, 2017, 2018, 2019, 2020], \"xaxis\": \"x\", \"y\": [0.01679367265581562, 0.02371628143092748, 0.023928698106063982, 0.02432087409155015, 0.023928698106063982, 0.024381182975304894], \"yaxis\": \"y\"}, {\"hoverlabel\": {\"namelength\": 0}, \"hovertemplate\": \"topic=giving<br>year=%{x}<br>weight=%{y}\", \"legendgroup\": \"topic=giving\", \"line\": {\"color\": \"#19d3f3\", \"dash\": \"solid\"}, \"mode\": \"lines\", \"name\": \"topic=giving\", \"showlegend\": true, \"type\": \"scatter\", \"x\": [2015, 2016, 2017, 2018, 2019, 2020], \"xaxis\": \"x\", \"y\": [0.015831204334439793, 0.017465779484510172, 0.0202363946654838, 0.02199666216693806, 0.0202363946654838, 0.02168471993577804], \"yaxis\": \"y\"}, {\"hoverlabel\": {\"namelength\": 0}, \"hovertemplate\": \"topic=love<br>year=%{x}<br>weight=%{y}\", \"legendgroup\": \"topic=love\", \"line\": {\"color\": \"#FF6692\", \"dash\": \"solid\"}, \"mode\": \"lines\", \"name\": \"topic=love\", \"showlegend\": true, \"type\": \"scatter\", \"x\": [2017, 2019], \"xaxis\": \"x\", \"y\": [0.018683411530511704, 0.018683411530511704], \"yaxis\": \"y\"}, {\"hoverlabel\": {\"namelength\": 0}, \"hovertemplate\": \"topic=negative_emotion<br>year=%{x}<br>weight=%{y}\", \"legendgroup\": \"topic=negative_emotion\", \"line\": {\"color\": \"#B6E880\", \"dash\": \"solid\"}, \"mode\": \"lines\", \"name\": \"topic=negative_emotion\", \"showlegend\": true, \"type\": \"scatter\", \"x\": [2015, 2016, 2017, 2018, 2019, 2020], \"xaxis\": \"x\", \"y\": [0.023206215280321716, 0.028841510999723683, 0.02924790290492227, 0.030347962231443242, 0.02924790290492227, 0.03175883532451498], \"yaxis\": \"y\"}, {\"hoverlabel\": {\"namelength\": 0}, \"hovertemplate\": \"topic=optimism<br>year=%{x}<br>weight=%{y}\", \"legendgroup\": \"topic=optimism\", \"line\": {\"color\": \"#FF97FF\", \"dash\": \"solid\"}, \"mode\": \"lines\", \"name\": \"topic=optimism\", \"showlegend\": true, \"type\": \"scatter\", \"x\": [2015, 2016, 2017, 2018, 2019, 2020], \"xaxis\": \"x\", \"y\": [0.020109727371087745, 0.024812431921228086, 0.026516865937103076, 0.023908838258673747, 0.026516865937103076, 0.026072854403261455], \"yaxis\": \"y\"}, {\"hoverlabel\": {\"namelength\": 0}, \"hovertemplate\": \"topic=party<br>year=%{x}<br>weight=%{y}\", \"legendgroup\": \"topic=party\", \"line\": {\"color\": \"#FECB52\", \"dash\": \"solid\"}, \"mode\": \"lines\", \"name\": \"topic=party\", \"showlegend\": true, \"type\": \"scatter\", \"x\": [2015, 2016, 2017, 2018, 2019, 2020], \"xaxis\": \"x\", \"y\": [0.014980917179737006, 0.020008015270384823, 0.019542081377927966, 0.020802995475104898, 0.019542081377927966, 0.021267963344166183], \"yaxis\": \"y\"}, {\"hoverlabel\": {\"namelength\": 0}, \"hovertemplate\": \"topic=positive_emotion<br>year=%{x}<br>weight=%{y}\", \"legendgroup\": \"topic=positive_emotion\", \"line\": {\"color\": \"#636efa\", \"dash\": \"solid\"}, \"mode\": \"lines\", \"name\": \"topic=positive_emotion\", \"showlegend\": true, \"type\": \"scatter\", \"x\": [2015, 2016, 2017, 2018, 2019, 2020], \"xaxis\": \"x\", \"y\": [0.023733573812397008, 0.03220170946574151, 0.032663233371442564, 0.03216186905767371, 0.032663233371442564, 0.037686392792437136], \"yaxis\": \"y\"}, {\"hoverlabel\": {\"namelength\": 0}, \"hovertemplate\": \"topic=speaking<br>year=%{x}<br>weight=%{y}\", \"legendgroup\": \"topic=speaking\", \"line\": {\"color\": \"#EF553B\", \"dash\": \"solid\"}, \"mode\": \"lines\", \"name\": \"topic=speaking\", \"showlegend\": true, \"type\": \"scatter\", \"x\": [2015, 2016, 2017, 2018, 2019, 2020], \"xaxis\": \"x\", \"y\": [0.017643218336548108, 0.02186304441769773, 0.02248502831940265, 0.023984207267586835, 0.02248502831940265, 0.023852133573986956], \"yaxis\": \"y\"}],\n",
              "                        {\"legend\": {\"tracegroupgap\": 0}, \"template\": {\"data\": {\"bar\": [{\"error_x\": {\"color\": \"#2a3f5f\"}, \"error_y\": {\"color\": \"#2a3f5f\"}, \"marker\": {\"line\": {\"color\": \"#E5ECF6\", \"width\": 0.5}}, \"type\": \"bar\"}], \"barpolar\": [{\"marker\": {\"line\": {\"color\": \"#E5ECF6\", \"width\": 0.5}}, \"type\": \"barpolar\"}], \"carpet\": [{\"aaxis\": {\"endlinecolor\": \"#2a3f5f\", \"gridcolor\": \"white\", \"linecolor\": \"white\", \"minorgridcolor\": \"white\", \"startlinecolor\": \"#2a3f5f\"}, \"baxis\": {\"endlinecolor\": \"#2a3f5f\", \"gridcolor\": \"white\", \"linecolor\": \"white\", \"minorgridcolor\": \"white\", \"startlinecolor\": \"#2a3f5f\"}, \"type\": \"carpet\"}], \"choropleth\": [{\"colorbar\": {\"outlinewidth\": 0, \"ticks\": \"\"}, \"type\": \"choropleth\"}], \"contour\": [{\"colorbar\": {\"outlinewidth\": 0, \"ticks\": \"\"}, \"colorscale\": [[0.0, \"#0d0887\"], [0.1111111111111111, \"#46039f\"], [0.2222222222222222, \"#7201a8\"], [0.3333333333333333, \"#9c179e\"], [0.4444444444444444, \"#bd3786\"], [0.5555555555555556, \"#d8576b\"], [0.6666666666666666, \"#ed7953\"], [0.7777777777777778, \"#fb9f3a\"], [0.8888888888888888, \"#fdca26\"], [1.0, \"#f0f921\"]], \"type\": \"contour\"}], \"contourcarpet\": [{\"colorbar\": {\"outlinewidth\": 0, \"ticks\": \"\"}, \"type\": \"contourcarpet\"}], \"heatmap\": [{\"colorbar\": {\"outlinewidth\": 0, \"ticks\": \"\"}, \"colorscale\": [[0.0, \"#0d0887\"], [0.1111111111111111, \"#46039f\"], [0.2222222222222222, \"#7201a8\"], [0.3333333333333333, \"#9c179e\"], [0.4444444444444444, \"#bd3786\"], [0.5555555555555556, \"#d8576b\"], [0.6666666666666666, \"#ed7953\"], [0.7777777777777778, \"#fb9f3a\"], [0.8888888888888888, \"#fdca26\"], [1.0, \"#f0f921\"]], \"type\": \"heatmap\"}], \"heatmapgl\": [{\"colorbar\": {\"outlinewidth\": 0, \"ticks\": \"\"}, \"colorscale\": [[0.0, \"#0d0887\"], [0.1111111111111111, \"#46039f\"], [0.2222222222222222, \"#7201a8\"], [0.3333333333333333, \"#9c179e\"], [0.4444444444444444, \"#bd3786\"], [0.5555555555555556, \"#d8576b\"], [0.6666666666666666, \"#ed7953\"], [0.7777777777777778, \"#fb9f3a\"], [0.8888888888888888, \"#fdca26\"], [1.0, \"#f0f921\"]], \"type\": \"heatmapgl\"}], \"histogram\": [{\"marker\": {\"colorbar\": {\"outlinewidth\": 0, \"ticks\": \"\"}}, \"type\": \"histogram\"}], \"histogram2d\": [{\"colorbar\": {\"outlinewidth\": 0, \"ticks\": \"\"}, \"colorscale\": [[0.0, \"#0d0887\"], [0.1111111111111111, \"#46039f\"], [0.2222222222222222, \"#7201a8\"], [0.3333333333333333, \"#9c179e\"], [0.4444444444444444, \"#bd3786\"], [0.5555555555555556, \"#d8576b\"], [0.6666666666666666, \"#ed7953\"], [0.7777777777777778, \"#fb9f3a\"], [0.8888888888888888, \"#fdca26\"], [1.0, \"#f0f921\"]], \"type\": \"histogram2d\"}], \"histogram2dcontour\": [{\"colorbar\": {\"outlinewidth\": 0, \"ticks\": \"\"}, \"colorscale\": [[0.0, \"#0d0887\"], [0.1111111111111111, \"#46039f\"], [0.2222222222222222, \"#7201a8\"], [0.3333333333333333, \"#9c179e\"], [0.4444444444444444, \"#bd3786\"], [0.5555555555555556, \"#d8576b\"], [0.6666666666666666, \"#ed7953\"], [0.7777777777777778, \"#fb9f3a\"], [0.8888888888888888, \"#fdca26\"], [1.0, \"#f0f921\"]], \"type\": \"histogram2dcontour\"}], \"mesh3d\": [{\"colorbar\": {\"outlinewidth\": 0, \"ticks\": \"\"}, \"type\": \"mesh3d\"}], \"parcoords\": [{\"line\": {\"colorbar\": {\"outlinewidth\": 0, \"ticks\": \"\"}}, \"type\": \"parcoords\"}], \"pie\": [{\"automargin\": true, \"type\": \"pie\"}], \"scatter\": [{\"marker\": {\"colorbar\": {\"outlinewidth\": 0, \"ticks\": \"\"}}, \"type\": \"scatter\"}], \"scatter3d\": [{\"line\": {\"colorbar\": {\"outlinewidth\": 0, \"ticks\": \"\"}}, \"marker\": {\"colorbar\": {\"outlinewidth\": 0, \"ticks\": \"\"}}, \"type\": \"scatter3d\"}], \"scattercarpet\": [{\"marker\": {\"colorbar\": {\"outlinewidth\": 0, \"ticks\": \"\"}}, \"type\": \"scattercarpet\"}], \"scattergeo\": [{\"marker\": {\"colorbar\": {\"outlinewidth\": 0, \"ticks\": \"\"}}, \"type\": \"scattergeo\"}], \"scattergl\": [{\"marker\": {\"colorbar\": {\"outlinewidth\": 0, \"ticks\": \"\"}}, \"type\": \"scattergl\"}], \"scattermapbox\": [{\"marker\": {\"colorbar\": {\"outlinewidth\": 0, \"ticks\": \"\"}}, \"type\": \"scattermapbox\"}], \"scatterpolar\": [{\"marker\": {\"colorbar\": {\"outlinewidth\": 0, \"ticks\": \"\"}}, \"type\": \"scatterpolar\"}], \"scatterpolargl\": [{\"marker\": {\"colorbar\": {\"outlinewidth\": 0, \"ticks\": \"\"}}, \"type\": \"scatterpolargl\"}], \"scatterternary\": [{\"marker\": {\"colorbar\": {\"outlinewidth\": 0, \"ticks\": \"\"}}, \"type\": \"scatterternary\"}], \"surface\": [{\"colorbar\": {\"outlinewidth\": 0, \"ticks\": \"\"}, \"colorscale\": [[0.0, \"#0d0887\"], [0.1111111111111111, \"#46039f\"], [0.2222222222222222, \"#7201a8\"], [0.3333333333333333, \"#9c179e\"], [0.4444444444444444, \"#bd3786\"], [0.5555555555555556, \"#d8576b\"], [0.6666666666666666, \"#ed7953\"], [0.7777777777777778, \"#fb9f3a\"], [0.8888888888888888, \"#fdca26\"], [1.0, \"#f0f921\"]], \"type\": \"surface\"}], \"table\": [{\"cells\": {\"fill\": {\"color\": \"#EBF0F8\"}, \"line\": {\"color\": \"white\"}}, \"header\": {\"fill\": {\"color\": \"#C8D4E3\"}, \"line\": {\"color\": \"white\"}}, \"type\": \"table\"}]}, \"layout\": {\"annotationdefaults\": {\"arrowcolor\": \"#2a3f5f\", \"arrowhead\": 0, \"arrowwidth\": 1}, \"coloraxis\": {\"colorbar\": {\"outlinewidth\": 0, \"ticks\": \"\"}}, \"colorscale\": {\"diverging\": [[0, \"#8e0152\"], [0.1, \"#c51b7d\"], [0.2, \"#de77ae\"], [0.3, \"#f1b6da\"], [0.4, \"#fde0ef\"], [0.5, \"#f7f7f7\"], [0.6, \"#e6f5d0\"], [0.7, \"#b8e186\"], [0.8, \"#7fbc41\"], [0.9, \"#4d9221\"], [1, \"#276419\"]], \"sequential\": [[0.0, \"#0d0887\"], [0.1111111111111111, \"#46039f\"], [0.2222222222222222, \"#7201a8\"], [0.3333333333333333, \"#9c179e\"], [0.4444444444444444, \"#bd3786\"], [0.5555555555555556, \"#d8576b\"], [0.6666666666666666, \"#ed7953\"], [0.7777777777777778, \"#fb9f3a\"], [0.8888888888888888, \"#fdca26\"], [1.0, \"#f0f921\"]], \"sequentialminus\": [[0.0, \"#0d0887\"], [0.1111111111111111, \"#46039f\"], [0.2222222222222222, \"#7201a8\"], [0.3333333333333333, \"#9c179e\"], [0.4444444444444444, \"#bd3786\"], [0.5555555555555556, \"#d8576b\"], [0.6666666666666666, \"#ed7953\"], [0.7777777777777778, \"#fb9f3a\"], [0.8888888888888888, \"#fdca26\"], [1.0, \"#f0f921\"]]}, \"colorway\": [\"#636efa\", \"#EF553B\", \"#00cc96\", \"#ab63fa\", \"#FFA15A\", \"#19d3f3\", \"#FF6692\", \"#B6E880\", \"#FF97FF\", \"#FECB52\"], \"font\": {\"color\": \"#2a3f5f\"}, \"geo\": {\"bgcolor\": \"white\", \"lakecolor\": \"white\", \"landcolor\": \"#E5ECF6\", \"showlakes\": true, \"showland\": true, \"subunitcolor\": \"white\"}, \"hoverlabel\": {\"align\": \"left\"}, \"hovermode\": \"closest\", \"mapbox\": {\"style\": \"light\"}, \"paper_bgcolor\": \"white\", \"plot_bgcolor\": \"#E5ECF6\", \"polar\": {\"angularaxis\": {\"gridcolor\": \"white\", \"linecolor\": \"white\", \"ticks\": \"\"}, \"bgcolor\": \"#E5ECF6\", \"radialaxis\": {\"gridcolor\": \"white\", \"linecolor\": \"white\", \"ticks\": \"\"}}, \"scene\": {\"xaxis\": {\"backgroundcolor\": \"#E5ECF6\", \"gridcolor\": \"white\", \"gridwidth\": 2, \"linecolor\": \"white\", \"showbackground\": true, \"ticks\": \"\", \"zerolinecolor\": \"white\"}, \"yaxis\": {\"backgroundcolor\": \"#E5ECF6\", \"gridcolor\": \"white\", \"gridwidth\": 2, \"linecolor\": \"white\", \"showbackground\": true, \"ticks\": \"\", \"zerolinecolor\": \"white\"}, \"zaxis\": {\"backgroundcolor\": \"#E5ECF6\", \"gridcolor\": \"white\", \"gridwidth\": 2, \"linecolor\": \"white\", \"showbackground\": true, \"ticks\": \"\", \"zerolinecolor\": \"white\"}}, \"shapedefaults\": {\"line\": {\"color\": \"#2a3f5f\"}}, \"ternary\": {\"aaxis\": {\"gridcolor\": \"white\", \"linecolor\": \"white\", \"ticks\": \"\"}, \"baxis\": {\"gridcolor\": \"white\", \"linecolor\": \"white\", \"ticks\": \"\"}, \"bgcolor\": \"#E5ECF6\", \"caxis\": {\"gridcolor\": \"white\", \"linecolor\": \"white\", \"ticks\": \"\"}}, \"title\": {\"x\": 0.05}, \"xaxis\": {\"automargin\": true, \"gridcolor\": \"white\", \"linecolor\": \"white\", \"ticks\": \"\", \"title\": {\"standoff\": 15}, \"zerolinecolor\": \"white\", \"zerolinewidth\": 2}, \"yaxis\": {\"automargin\": true, \"gridcolor\": \"white\", \"linecolor\": \"white\", \"ticks\": \"\", \"title\": {\"standoff\": 15}, \"zerolinecolor\": \"white\", \"zerolinewidth\": 2}}}, \"title\": {\"text\": \"Evolution of most popular topics among women between 2015 and 2020\"}, \"xaxis\": {\"anchor\": \"y\", \"domain\": [0.0, 1.0], \"title\": {\"text\": \"year\"}}, \"yaxis\": {\"anchor\": \"x\", \"domain\": [0.0, 1.0], \"title\": {\"text\": \"weight\"}}},\n",
              "                        {\"responsive\": true}\n",
              "                    ).then(function(){\n",
              "                            \n",
              "var gd = document.getElementById('f292db67-9b81-433f-aa88-d340afc0eddb');\n",
              "var x = new MutationObserver(function (mutations, observer) {{\n",
              "        var display = window.getComputedStyle(gd).display;\n",
              "        if (!display || display === 'none') {{\n",
              "            console.log([gd, 'removed!']);\n",
              "            Plotly.purge(gd);\n",
              "            observer.disconnect();\n",
              "        }}\n",
              "}});\n",
              "\n",
              "// Listen for the removal of the full notebook cells\n",
              "var notebookContainer = gd.closest('#notebook-container');\n",
              "if (notebookContainer) {{\n",
              "    x.observe(notebookContainer, {childList: true});\n",
              "}}\n",
              "\n",
              "// Listen for the clearing of the current output cell\n",
              "var outputEl = gd.closest('.output');\n",
              "if (outputEl) {{\n",
              "    x.observe(outputEl, {childList: true});\n",
              "}}\n",
              "\n",
              "                        })\n",
              "                };\n",
              "                \n",
              "            </script>\n",
              "        </div>\n",
              "</body>\n",
              "</html>"
            ]
          },
          "metadata": {}
        }
      ]
    },
    {
      "cell_type": "code",
      "source": [
        "male_quotes = year_df[year_df.gender == 'male']\n",
        "\n",
        "fig = px.line(male_quotes, x='year', y='weight', color='topic', title=\"Evolution of most popular topics among men between 2015 and 2020\")\n",
        "fig.show()"
      ],
      "metadata": {
        "colab": {
          "base_uri": "https://localhost:8080/",
          "height": 542
        },
        "id": "wYLXsEtMFdc2",
        "outputId": "acca171b-c491-4822-a54d-f3d6e47625f8"
      },
      "execution_count": 53,
      "outputs": [
        {
          "output_type": "display_data",
          "data": {
            "text/html": [
              "<html>\n",
              "<head><meta charset=\"utf-8\" /></head>\n",
              "<body>\n",
              "    <div>\n",
              "            <script src=\"https://cdnjs.cloudflare.com/ajax/libs/mathjax/2.7.5/MathJax.js?config=TeX-AMS-MML_SVG\"></script><script type=\"text/javascript\">if (window.MathJax) {MathJax.Hub.Config({SVG: {font: \"STIX-Web\"}});}</script>\n",
              "                <script type=\"text/javascript\">window.PlotlyConfig = {MathJaxConfig: 'local'};</script>\n",
              "        <script src=\"https://cdn.plot.ly/plotly-latest.min.js\"></script>    \n",
              "            <div id=\"eeb64819-d2b1-4c60-bf20-1cad654808ec\" class=\"plotly-graph-div\" style=\"height:525px; width:100%;\"></div>\n",
              "            <script type=\"text/javascript\">\n",
              "                \n",
              "                    window.PLOTLYENV=window.PLOTLYENV || {};\n",
              "                    \n",
              "                if (document.getElementById(\"eeb64819-d2b1-4c60-bf20-1cad654808ec\")) {\n",
              "                    Plotly.newPlot(\n",
              "                        'eeb64819-d2b1-4c60-bf20-1cad654808ec',\n",
              "                        [{\"hoverlabel\": {\"namelength\": 0}, \"hovertemplate\": \"topic=achievement<br>year=%{x}<br>weight=%{y}\", \"legendgroup\": \"topic=achievement\", \"line\": {\"color\": \"#636efa\", \"dash\": \"solid\"}, \"mode\": \"lines\", \"name\": \"topic=achievement\", \"showlegend\": true, \"type\": \"scatter\", \"x\": [2015, 2016, 2017, 2018, 2019, 2020], \"xaxis\": \"x\", \"y\": [0.07746057350335751, 0.0763970869793831, 0.07052699894093842, 0.06736918538769583, 0.07052699894093842, 0.05914140836755796], \"yaxis\": \"y\"}, {\"hoverlabel\": {\"namelength\": 0}, \"hovertemplate\": \"topic=business<br>year=%{x}<br>weight=%{y}\", \"legendgroup\": \"topic=business\", \"line\": {\"color\": \"#EF553B\", \"dash\": \"solid\"}, \"mode\": \"lines\", \"name\": \"topic=business\", \"showlegend\": true, \"type\": \"scatter\", \"x\": [2015, 2016, 2017, 2018, 2019, 2020], \"xaxis\": \"x\", \"y\": [0.09878759405292466, 0.08375998133858666, 0.08716181177746903, 0.08708777198454745, 0.08716181177746903, 0.09560430633307408], \"yaxis\": \"y\"}, {\"hoverlabel\": {\"namelength\": 0}, \"hovertemplate\": \"topic=communication<br>year=%{x}<br>weight=%{y}\", \"legendgroup\": \"topic=communication\", \"line\": {\"color\": \"#00cc96\", \"dash\": \"solid\"}, \"mode\": \"lines\", \"name\": \"topic=communication\", \"showlegend\": true, \"type\": \"scatter\", \"x\": [2020], \"xaxis\": \"x\", \"y\": [0.05904335019573946], \"yaxis\": \"y\"}, {\"hoverlabel\": {\"namelength\": 0}, \"hovertemplate\": \"topic=giving<br>year=%{x}<br>weight=%{y}\", \"legendgroup\": \"topic=giving\", \"line\": {\"color\": \"#ab63fa\", \"dash\": \"solid\"}, \"mode\": \"lines\", \"name\": \"topic=giving\", \"showlegend\": true, \"type\": \"scatter\", \"x\": [2015, 2016, 2017, 2018, 2019, 2020], \"xaxis\": \"x\", \"y\": [0.0749528020511584, 0.06726982846039957, 0.0684748783969594, 0.06819076398621203, 0.0684748783969594, 0.07661478839381988], \"yaxis\": \"y\"}, {\"hoverlabel\": {\"namelength\": 0}, \"hovertemplate\": \"topic=negative_emotion<br>year=%{x}<br>weight=%{y}\", \"legendgroup\": \"topic=negative_emotion\", \"line\": {\"color\": \"#FFA15A\", \"dash\": \"solid\"}, \"mode\": \"lines\", \"name\": \"topic=negative_emotion\", \"showlegend\": true, \"type\": \"scatter\", \"x\": [2015, 2016, 2017, 2018, 2019, 2020], \"xaxis\": \"x\", \"y\": [0.09731248374165445, 0.09278331816368741, 0.08876667880160131, 0.08978386583292028, 0.08876667880160131, 0.09097954667289021], \"yaxis\": \"y\"}, {\"hoverlabel\": {\"namelength\": 0}, \"hovertemplate\": \"topic=optimism<br>year=%{x}<br>weight=%{y}\", \"legendgroup\": \"topic=optimism\", \"line\": {\"color\": \"#19d3f3\", \"dash\": \"solid\"}, \"mode\": \"lines\", \"name\": \"topic=optimism\", \"showlegend\": true, \"type\": \"scatter\", \"x\": [2015, 2016, 2017, 2018, 2019, 2020], \"xaxis\": \"x\", \"y\": [0.0749634925281769, 0.0767456846403689, 0.07718159775241001, 0.07600348039242474, 0.07718159775241001, 0.06729001036655745], \"yaxis\": \"y\"}, {\"hoverlabel\": {\"namelength\": 0}, \"hovertemplate\": \"topic=party<br>year=%{x}<br>weight=%{y}\", \"legendgroup\": \"topic=party\", \"line\": {\"color\": \"#FF6692\", \"dash\": \"solid\"}, \"mode\": \"lines\", \"name\": \"topic=party\", \"showlegend\": true, \"type\": \"scatter\", \"x\": [2015, 2016, 2017, 2018, 2019, 2020], \"xaxis\": \"x\", \"y\": [0.06184733703550954, 0.061612384572599585, 0.05966677636777745, 0.05732858957240986, 0.05966677636777745, 0.05860697876350623], \"yaxis\": \"y\"}, {\"hoverlabel\": {\"namelength\": 0}, \"hovertemplate\": \"topic=play<br>year=%{x}<br>weight=%{y}\", \"legendgroup\": \"topic=play\", \"line\": {\"color\": \"#B6E880\", \"dash\": \"solid\"}, \"mode\": \"lines\", \"name\": \"topic=play\", \"showlegend\": true, \"type\": \"scatter\", \"x\": [2015, 2016, 2017, 2018, 2019], \"xaxis\": \"x\", \"y\": [0.07113336734088861, 0.06981663826847777, 0.06597163174509987, 0.06611553041809454, 0.06597163174509987], \"yaxis\": \"y\"}, {\"hoverlabel\": {\"namelength\": 0}, \"hovertemplate\": \"topic=positive_emotion<br>year=%{x}<br>weight=%{y}\", \"legendgroup\": \"topic=positive_emotion\", \"line\": {\"color\": \"#FF97FF\", \"dash\": \"solid\"}, \"mode\": \"lines\", \"name\": \"topic=positive_emotion\", \"showlegend\": true, \"type\": \"scatter\", \"x\": [2015, 2016, 2017, 2018, 2019, 2020], \"xaxis\": \"x\", \"y\": [0.09996701061510771, 0.0998733746463813, 0.09841428954022967, 0.09725669015540671, 0.09841428954022967, 0.09522686956073688], \"yaxis\": \"y\"}, {\"hoverlabel\": {\"namelength\": 0}, \"hovertemplate\": \"topic=speaking<br>year=%{x}<br>weight=%{y}\", \"legendgroup\": \"topic=speaking\", \"line\": {\"color\": \"#FECB52\", \"dash\": \"solid\"}, \"mode\": \"lines\", \"name\": \"topic=speaking\", \"showlegend\": true, \"type\": \"scatter\", \"x\": [2015, 2016, 2017, 2018, 2019, 2020], \"xaxis\": \"x\", \"y\": [0.07427537707187754, 0.06620152402621342, 0.06854534911025917, 0.06762136617148787, 0.06854534911025917, 0.07359896577986545], \"yaxis\": \"y\"}, {\"hoverlabel\": {\"namelength\": 0}, \"hovertemplate\": \"topic=sports<br>year=%{x}<br>weight=%{y}\", \"legendgroup\": \"topic=sports\", \"line\": {\"color\": \"#636efa\", \"dash\": \"solid\"}, \"mode\": \"lines\", \"name\": \"topic=sports\", \"showlegend\": true, \"type\": \"scatter\", \"x\": [2015, 2016, 2017, 2018, 2019, 2020], \"xaxis\": \"x\", \"y\": [0.07749197632357849, 0.07193100710237073, 0.07119827257625397, 0.07145756971848452, 0.07119827257625397, 0.061283621979308416], \"yaxis\": \"y\"}],\n",
              "                        {\"legend\": {\"tracegroupgap\": 0}, \"template\": {\"data\": {\"bar\": [{\"error_x\": {\"color\": \"#2a3f5f\"}, \"error_y\": {\"color\": \"#2a3f5f\"}, \"marker\": {\"line\": {\"color\": \"#E5ECF6\", \"width\": 0.5}}, \"type\": \"bar\"}], \"barpolar\": [{\"marker\": {\"line\": {\"color\": \"#E5ECF6\", \"width\": 0.5}}, \"type\": \"barpolar\"}], \"carpet\": [{\"aaxis\": {\"endlinecolor\": \"#2a3f5f\", \"gridcolor\": \"white\", \"linecolor\": \"white\", \"minorgridcolor\": \"white\", \"startlinecolor\": \"#2a3f5f\"}, \"baxis\": {\"endlinecolor\": \"#2a3f5f\", \"gridcolor\": \"white\", \"linecolor\": \"white\", \"minorgridcolor\": \"white\", \"startlinecolor\": \"#2a3f5f\"}, \"type\": \"carpet\"}], \"choropleth\": [{\"colorbar\": {\"outlinewidth\": 0, \"ticks\": \"\"}, \"type\": \"choropleth\"}], \"contour\": [{\"colorbar\": {\"outlinewidth\": 0, \"ticks\": \"\"}, \"colorscale\": [[0.0, \"#0d0887\"], [0.1111111111111111, \"#46039f\"], [0.2222222222222222, \"#7201a8\"], [0.3333333333333333, \"#9c179e\"], [0.4444444444444444, \"#bd3786\"], [0.5555555555555556, \"#d8576b\"], [0.6666666666666666, \"#ed7953\"], [0.7777777777777778, \"#fb9f3a\"], [0.8888888888888888, \"#fdca26\"], [1.0, \"#f0f921\"]], \"type\": \"contour\"}], \"contourcarpet\": [{\"colorbar\": {\"outlinewidth\": 0, \"ticks\": \"\"}, \"type\": \"contourcarpet\"}], \"heatmap\": [{\"colorbar\": {\"outlinewidth\": 0, \"ticks\": \"\"}, \"colorscale\": [[0.0, \"#0d0887\"], [0.1111111111111111, \"#46039f\"], [0.2222222222222222, \"#7201a8\"], [0.3333333333333333, \"#9c179e\"], [0.4444444444444444, \"#bd3786\"], [0.5555555555555556, \"#d8576b\"], [0.6666666666666666, \"#ed7953\"], [0.7777777777777778, \"#fb9f3a\"], [0.8888888888888888, \"#fdca26\"], [1.0, \"#f0f921\"]], \"type\": \"heatmap\"}], \"heatmapgl\": [{\"colorbar\": {\"outlinewidth\": 0, \"ticks\": \"\"}, \"colorscale\": [[0.0, \"#0d0887\"], [0.1111111111111111, \"#46039f\"], [0.2222222222222222, \"#7201a8\"], [0.3333333333333333, \"#9c179e\"], [0.4444444444444444, \"#bd3786\"], [0.5555555555555556, \"#d8576b\"], [0.6666666666666666, \"#ed7953\"], [0.7777777777777778, \"#fb9f3a\"], [0.8888888888888888, \"#fdca26\"], [1.0, \"#f0f921\"]], \"type\": \"heatmapgl\"}], \"histogram\": [{\"marker\": {\"colorbar\": {\"outlinewidth\": 0, \"ticks\": \"\"}}, \"type\": \"histogram\"}], \"histogram2d\": [{\"colorbar\": {\"outlinewidth\": 0, \"ticks\": \"\"}, \"colorscale\": [[0.0, \"#0d0887\"], [0.1111111111111111, \"#46039f\"], [0.2222222222222222, \"#7201a8\"], [0.3333333333333333, \"#9c179e\"], [0.4444444444444444, \"#bd3786\"], [0.5555555555555556, \"#d8576b\"], [0.6666666666666666, \"#ed7953\"], [0.7777777777777778, \"#fb9f3a\"], [0.8888888888888888, \"#fdca26\"], [1.0, \"#f0f921\"]], \"type\": \"histogram2d\"}], \"histogram2dcontour\": [{\"colorbar\": {\"outlinewidth\": 0, \"ticks\": \"\"}, \"colorscale\": [[0.0, \"#0d0887\"], [0.1111111111111111, \"#46039f\"], [0.2222222222222222, \"#7201a8\"], [0.3333333333333333, \"#9c179e\"], [0.4444444444444444, \"#bd3786\"], [0.5555555555555556, \"#d8576b\"], [0.6666666666666666, \"#ed7953\"], [0.7777777777777778, \"#fb9f3a\"], [0.8888888888888888, \"#fdca26\"], [1.0, \"#f0f921\"]], \"type\": \"histogram2dcontour\"}], \"mesh3d\": [{\"colorbar\": {\"outlinewidth\": 0, \"ticks\": \"\"}, \"type\": \"mesh3d\"}], \"parcoords\": [{\"line\": {\"colorbar\": {\"outlinewidth\": 0, \"ticks\": \"\"}}, \"type\": \"parcoords\"}], \"pie\": [{\"automargin\": true, \"type\": \"pie\"}], \"scatter\": [{\"marker\": {\"colorbar\": {\"outlinewidth\": 0, \"ticks\": \"\"}}, \"type\": \"scatter\"}], \"scatter3d\": [{\"line\": {\"colorbar\": {\"outlinewidth\": 0, \"ticks\": \"\"}}, \"marker\": {\"colorbar\": {\"outlinewidth\": 0, \"ticks\": \"\"}}, \"type\": \"scatter3d\"}], \"scattercarpet\": [{\"marker\": {\"colorbar\": {\"outlinewidth\": 0, \"ticks\": \"\"}}, \"type\": \"scattercarpet\"}], \"scattergeo\": [{\"marker\": {\"colorbar\": {\"outlinewidth\": 0, \"ticks\": \"\"}}, \"type\": \"scattergeo\"}], \"scattergl\": [{\"marker\": {\"colorbar\": {\"outlinewidth\": 0, \"ticks\": \"\"}}, \"type\": \"scattergl\"}], \"scattermapbox\": [{\"marker\": {\"colorbar\": {\"outlinewidth\": 0, \"ticks\": \"\"}}, \"type\": \"scattermapbox\"}], \"scatterpolar\": [{\"marker\": {\"colorbar\": {\"outlinewidth\": 0, \"ticks\": \"\"}}, \"type\": \"scatterpolar\"}], \"scatterpolargl\": [{\"marker\": {\"colorbar\": {\"outlinewidth\": 0, \"ticks\": \"\"}}, \"type\": \"scatterpolargl\"}], \"scatterternary\": [{\"marker\": {\"colorbar\": {\"outlinewidth\": 0, \"ticks\": \"\"}}, \"type\": \"scatterternary\"}], \"surface\": [{\"colorbar\": {\"outlinewidth\": 0, \"ticks\": \"\"}, \"colorscale\": [[0.0, \"#0d0887\"], [0.1111111111111111, \"#46039f\"], [0.2222222222222222, \"#7201a8\"], [0.3333333333333333, \"#9c179e\"], [0.4444444444444444, \"#bd3786\"], [0.5555555555555556, \"#d8576b\"], [0.6666666666666666, \"#ed7953\"], [0.7777777777777778, \"#fb9f3a\"], [0.8888888888888888, \"#fdca26\"], [1.0, \"#f0f921\"]], \"type\": \"surface\"}], \"table\": [{\"cells\": {\"fill\": {\"color\": \"#EBF0F8\"}, \"line\": {\"color\": \"white\"}}, \"header\": {\"fill\": {\"color\": \"#C8D4E3\"}, \"line\": {\"color\": \"white\"}}, \"type\": \"table\"}]}, \"layout\": {\"annotationdefaults\": {\"arrowcolor\": \"#2a3f5f\", \"arrowhead\": 0, \"arrowwidth\": 1}, \"coloraxis\": {\"colorbar\": {\"outlinewidth\": 0, \"ticks\": \"\"}}, \"colorscale\": {\"diverging\": [[0, \"#8e0152\"], [0.1, \"#c51b7d\"], [0.2, \"#de77ae\"], [0.3, \"#f1b6da\"], [0.4, \"#fde0ef\"], [0.5, \"#f7f7f7\"], [0.6, \"#e6f5d0\"], [0.7, \"#b8e186\"], [0.8, \"#7fbc41\"], [0.9, \"#4d9221\"], [1, \"#276419\"]], \"sequential\": [[0.0, \"#0d0887\"], [0.1111111111111111, \"#46039f\"], [0.2222222222222222, \"#7201a8\"], [0.3333333333333333, \"#9c179e\"], [0.4444444444444444, \"#bd3786\"], [0.5555555555555556, \"#d8576b\"], [0.6666666666666666, \"#ed7953\"], [0.7777777777777778, \"#fb9f3a\"], [0.8888888888888888, \"#fdca26\"], [1.0, \"#f0f921\"]], \"sequentialminus\": [[0.0, \"#0d0887\"], [0.1111111111111111, \"#46039f\"], [0.2222222222222222, \"#7201a8\"], [0.3333333333333333, \"#9c179e\"], [0.4444444444444444, \"#bd3786\"], [0.5555555555555556, \"#d8576b\"], [0.6666666666666666, \"#ed7953\"], [0.7777777777777778, \"#fb9f3a\"], [0.8888888888888888, \"#fdca26\"], [1.0, \"#f0f921\"]]}, \"colorway\": [\"#636efa\", \"#EF553B\", \"#00cc96\", \"#ab63fa\", \"#FFA15A\", \"#19d3f3\", \"#FF6692\", \"#B6E880\", \"#FF97FF\", \"#FECB52\"], \"font\": {\"color\": \"#2a3f5f\"}, \"geo\": {\"bgcolor\": \"white\", \"lakecolor\": \"white\", \"landcolor\": \"#E5ECF6\", \"showlakes\": true, \"showland\": true, \"subunitcolor\": \"white\"}, \"hoverlabel\": {\"align\": \"left\"}, \"hovermode\": \"closest\", \"mapbox\": {\"style\": \"light\"}, \"paper_bgcolor\": \"white\", \"plot_bgcolor\": \"#E5ECF6\", \"polar\": {\"angularaxis\": {\"gridcolor\": \"white\", \"linecolor\": \"white\", \"ticks\": \"\"}, \"bgcolor\": \"#E5ECF6\", \"radialaxis\": {\"gridcolor\": \"white\", \"linecolor\": \"white\", \"ticks\": \"\"}}, \"scene\": {\"xaxis\": {\"backgroundcolor\": \"#E5ECF6\", \"gridcolor\": \"white\", \"gridwidth\": 2, \"linecolor\": \"white\", \"showbackground\": true, \"ticks\": \"\", \"zerolinecolor\": \"white\"}, \"yaxis\": {\"backgroundcolor\": \"#E5ECF6\", \"gridcolor\": \"white\", \"gridwidth\": 2, \"linecolor\": \"white\", \"showbackground\": true, \"ticks\": \"\", \"zerolinecolor\": \"white\"}, \"zaxis\": {\"backgroundcolor\": \"#E5ECF6\", \"gridcolor\": \"white\", \"gridwidth\": 2, \"linecolor\": \"white\", \"showbackground\": true, \"ticks\": \"\", \"zerolinecolor\": \"white\"}}, \"shapedefaults\": {\"line\": {\"color\": \"#2a3f5f\"}}, \"ternary\": {\"aaxis\": {\"gridcolor\": \"white\", \"linecolor\": \"white\", \"ticks\": \"\"}, \"baxis\": {\"gridcolor\": \"white\", \"linecolor\": \"white\", \"ticks\": \"\"}, \"bgcolor\": \"#E5ECF6\", \"caxis\": {\"gridcolor\": \"white\", \"linecolor\": \"white\", \"ticks\": \"\"}}, \"title\": {\"x\": 0.05}, \"xaxis\": {\"automargin\": true, \"gridcolor\": \"white\", \"linecolor\": \"white\", \"ticks\": \"\", \"title\": {\"standoff\": 15}, \"zerolinecolor\": \"white\", \"zerolinewidth\": 2}, \"yaxis\": {\"automargin\": true, \"gridcolor\": \"white\", \"linecolor\": \"white\", \"ticks\": \"\", \"title\": {\"standoff\": 15}, \"zerolinecolor\": \"white\", \"zerolinewidth\": 2}}}, \"title\": {\"text\": \"Evolution of most popular topics among men between 2015 and 2020\"}, \"xaxis\": {\"anchor\": \"y\", \"domain\": [0.0, 1.0], \"title\": {\"text\": \"year\"}}, \"yaxis\": {\"anchor\": \"x\", \"domain\": [0.0, 1.0], \"title\": {\"text\": \"weight\"}}},\n",
              "                        {\"responsive\": true}\n",
              "                    ).then(function(){\n",
              "                            \n",
              "var gd = document.getElementById('eeb64819-d2b1-4c60-bf20-1cad654808ec');\n",
              "var x = new MutationObserver(function (mutations, observer) {{\n",
              "        var display = window.getComputedStyle(gd).display;\n",
              "        if (!display || display === 'none') {{\n",
              "            console.log([gd, 'removed!']);\n",
              "            Plotly.purge(gd);\n",
              "            observer.disconnect();\n",
              "        }}\n",
              "}});\n",
              "\n",
              "// Listen for the removal of the full notebook cells\n",
              "var notebookContainer = gd.closest('#notebook-container');\n",
              "if (notebookContainer) {{\n",
              "    x.observe(notebookContainer, {childList: true});\n",
              "}}\n",
              "\n",
              "// Listen for the clearing of the current output cell\n",
              "var outputEl = gd.closest('.output');\n",
              "if (outputEl) {{\n",
              "    x.observe(outputEl, {childList: true});\n",
              "}}\n",
              "\n",
              "                        })\n",
              "                };\n",
              "                \n",
              "            </script>\n",
              "        </div>\n",
              "</body>\n",
              "</html>"
            ]
          },
          "metadata": {}
        }
      ]
    },
    {
      "cell_type": "code",
      "source": [
        "(year_df[year_df.gender == 'others']['weight'] != 0).any()\n"
      ],
      "metadata": {
        "colab": {
          "base_uri": "https://localhost:8080/"
        },
        "id": "AIVLea-zF32M",
        "outputId": "f1ac2028-89e3-4734-eb81-bac6c42f6cd3"
      },
      "execution_count": 55,
      "outputs": [
        {
          "output_type": "execute_result",
          "data": {
            "text/plain": [
              "True"
            ]
          },
          "metadata": {},
          "execution_count": 55
        }
      ]
    },
    {
      "cell_type": "code",
      "source": [
        "others_quotes = year_df[year_df.gender == 'others']\n",
        "\n",
        "fig = px.line(others_quotes, x='year', y='weight', color='topic', title=\"Evolution of most popular topics among gender minorities between 2015 and 2020\")\n",
        "fig.show()"
      ],
      "metadata": {
        "colab": {
          "base_uri": "https://localhost:8080/",
          "height": 542
        },
        "id": "MygsiMrrAuye",
        "outputId": "abf700b4-2962-4214-fd6e-928bfaedaead"
      },
      "execution_count": 56,
      "outputs": [
        {
          "output_type": "display_data",
          "data": {
            "text/html": [
              "<html>\n",
              "<head><meta charset=\"utf-8\" /></head>\n",
              "<body>\n",
              "    <div>\n",
              "            <script src=\"https://cdnjs.cloudflare.com/ajax/libs/mathjax/2.7.5/MathJax.js?config=TeX-AMS-MML_SVG\"></script><script type=\"text/javascript\">if (window.MathJax) {MathJax.Hub.Config({SVG: {font: \"STIX-Web\"}});}</script>\n",
              "                <script type=\"text/javascript\">window.PlotlyConfig = {MathJaxConfig: 'local'};</script>\n",
              "        <script src=\"https://cdn.plot.ly/plotly-latest.min.js\"></script>    \n",
              "            <div id=\"effe6f35-a0bf-4ec5-a5a5-bd545f1a8517\" class=\"plotly-graph-div\" style=\"height:525px; width:100%;\"></div>\n",
              "            <script type=\"text/javascript\">\n",
              "                \n",
              "                    window.PLOTLYENV=window.PLOTLYENV || {};\n",
              "                    \n",
              "                if (document.getElementById(\"effe6f35-a0bf-4ec5-a5a5-bd545f1a8517\")) {\n",
              "                    Plotly.newPlot(\n",
              "                        'effe6f35-a0bf-4ec5-a5a5-bd545f1a8517',\n",
              "                        [{\"hoverlabel\": {\"namelength\": 0}, \"hovertemplate\": \"topic=affection<br>year=%{x}<br>weight=%{y}\", \"legendgroup\": \"topic=affection\", \"line\": {\"color\": \"#636efa\", \"dash\": \"solid\"}, \"mode\": \"lines\", \"name\": \"topic=affection\", \"showlegend\": true, \"type\": \"scatter\", \"x\": [2015], \"xaxis\": \"x\", \"y\": [0.0006764020246397901], \"yaxis\": \"y\"}, {\"hoverlabel\": {\"namelength\": 0}, \"hovertemplate\": \"topic=body<br>year=%{x}<br>weight=%{y}\", \"legendgroup\": \"topic=body\", \"line\": {\"color\": \"#EF553B\", \"dash\": \"solid\"}, \"mode\": \"lines\", \"name\": \"topic=body\", \"showlegend\": true, \"type\": \"scatter\", \"x\": [2017, 2019, 2020], \"xaxis\": \"x\", \"y\": [0.0002822356309336102, 0.0002822356309336102, 0.00029642959520996033], \"yaxis\": \"y\"}, {\"hoverlabel\": {\"namelength\": 0}, \"hovertemplate\": \"topic=business<br>year=%{x}<br>weight=%{y}\", \"legendgroup\": \"topic=business\", \"line\": {\"color\": \"#00cc96\", \"dash\": \"solid\"}, \"mode\": \"lines\", \"name\": \"topic=business\", \"showlegend\": true, \"type\": \"scatter\", \"x\": [2017, 2019], \"xaxis\": \"x\", \"y\": [0.0003952867562399141, 0.0003952867562399141], \"yaxis\": \"y\"}, {\"hoverlabel\": {\"namelength\": 0}, \"hovertemplate\": \"topic=celebration<br>year=%{x}<br>weight=%{y}\", \"legendgroup\": \"topic=celebration\", \"line\": {\"color\": \"#ab63fa\", \"dash\": \"solid\"}, \"mode\": \"lines\", \"name\": \"topic=celebration\", \"showlegend\": true, \"type\": \"scatter\", \"x\": [2018], \"xaxis\": \"x\", \"y\": [0.0004347565400073633], \"yaxis\": \"y\"}, {\"hoverlabel\": {\"namelength\": 0}, \"hovertemplate\": \"topic=children<br>year=%{x}<br>weight=%{y}\", \"legendgroup\": \"topic=children\", \"line\": {\"color\": \"#FFA15A\", \"dash\": \"solid\"}, \"mode\": \"lines\", \"name\": \"topic=children\", \"showlegend\": true, \"type\": \"scatter\", \"x\": [2015, 2017, 2019], \"xaxis\": \"x\", \"y\": [0.0007294745834709532, 0.00036266958511565724, 0.00036266958511565724], \"yaxis\": \"y\"}, {\"hoverlabel\": {\"namelength\": 0}, \"hovertemplate\": \"topic=communication<br>year=%{x}<br>weight=%{y}\", \"legendgroup\": \"topic=communication\", \"line\": {\"color\": \"#19d3f3\", \"dash\": \"solid\"}, \"mode\": \"lines\", \"name\": \"topic=communication\", \"showlegend\": true, \"type\": \"scatter\", \"x\": [2015, 2016], \"xaxis\": \"x\", \"y\": [0.00044088159568869185, 0.00016817738032947745], \"yaxis\": \"y\"}, {\"hoverlabel\": {\"namelength\": 0}, \"hovertemplate\": \"topic=emotional<br>year=%{x}<br>weight=%{y}\", \"legendgroup\": \"topic=emotional\", \"line\": {\"color\": \"#FF6692\", \"dash\": \"solid\"}, \"mode\": \"lines\", \"name\": \"topic=emotional\", \"showlegend\": true, \"type\": \"scatter\", \"x\": [2016], \"xaxis\": \"x\", \"y\": [0.000168637489513007], \"yaxis\": \"y\"}, {\"hoverlabel\": {\"namelength\": 0}, \"hovertemplate\": \"topic=feminine<br>year=%{x}<br>weight=%{y}\", \"legendgroup\": \"topic=feminine\", \"line\": {\"color\": \"#B6E880\", \"dash\": \"solid\"}, \"mode\": \"lines\", \"name\": \"topic=feminine\", \"showlegend\": true, \"type\": \"scatter\", \"x\": [2015], \"xaxis\": \"x\", \"y\": [0.0003795451951415098], \"yaxis\": \"y\"}, {\"hoverlabel\": {\"namelength\": 0}, \"hovertemplate\": \"topic=friends<br>year=%{x}<br>weight=%{y}\", \"legendgroup\": \"topic=friends\", \"line\": {\"color\": \"#FF97FF\", \"dash\": \"solid\"}, \"mode\": \"lines\", \"name\": \"topic=friends\", \"showlegend\": true, \"type\": \"scatter\", \"x\": [2015, 2016, 2017, 2018, 2019, 2020], \"xaxis\": \"x\", \"y\": [0.0008394891722505303, 0.00031975570784083983, 0.00038677902805506925, 0.0007164073199984793, 0.00038677902805506925, 0.0002442907674887555], \"yaxis\": \"y\"}, {\"hoverlabel\": {\"namelength\": 0}, \"hovertemplate\": \"topic=fun<br>year=%{x}<br>weight=%{y}\", \"legendgroup\": \"topic=fun\", \"line\": {\"color\": \"#FECB52\", \"dash\": \"solid\"}, \"mode\": \"lines\", \"name\": \"topic=fun\", \"showlegend\": true, \"type\": \"scatter\", \"x\": [2018], \"xaxis\": \"x\", \"y\": [0.00046842893605602827], \"yaxis\": \"y\"}, {\"hoverlabel\": {\"namelength\": 0}, \"hovertemplate\": \"topic=heroic<br>year=%{x}<br>weight=%{y}\", \"legendgroup\": \"topic=heroic\", \"line\": {\"color\": \"#636efa\", \"dash\": \"solid\"}, \"mode\": \"lines\", \"name\": \"topic=heroic\", \"showlegend\": true, \"type\": \"scatter\", \"x\": [2015], \"xaxis\": \"x\", \"y\": [0.000466564323377539], \"yaxis\": \"y\"}, {\"hoverlabel\": {\"namelength\": 0}, \"hovertemplate\": \"topic=listen<br>year=%{x}<br>weight=%{y}\", \"legendgroup\": \"topic=listen\", \"line\": {\"color\": \"#EF553B\", \"dash\": \"solid\"}, \"mode\": \"lines\", \"name\": \"topic=listen\", \"showlegend\": true, \"type\": \"scatter\", \"x\": [2020], \"xaxis\": \"x\", \"y\": [0.0002550392725345684], \"yaxis\": \"y\"}, {\"hoverlabel\": {\"namelength\": 0}, \"hovertemplate\": \"topic=love<br>year=%{x}<br>weight=%{y}\", \"legendgroup\": \"topic=love\", \"line\": {\"color\": \"#00cc96\", \"dash\": \"solid\"}, \"mode\": \"lines\", \"name\": \"topic=love\", \"showlegend\": true, \"type\": \"scatter\", \"x\": [2015, 2016, 2017, 2019, 2020], \"xaxis\": \"x\", \"y\": [0.0005443729389183419, 0.0002270462969528434, 0.00029541027105158766, 0.00029541027105158766, 0.00023158480507521676], \"yaxis\": \"y\"}, {\"hoverlabel\": {\"namelength\": 0}, \"hovertemplate\": \"topic=money<br>year=%{x}<br>weight=%{y}\", \"legendgroup\": \"topic=money\", \"line\": {\"color\": \"#ab63fa\", \"dash\": \"solid\"}, \"mode\": \"lines\", \"name\": \"topic=money\", \"showlegend\": true, \"type\": \"scatter\", \"x\": [2016], \"xaxis\": \"x\", \"y\": [0.0001879570301693561], \"yaxis\": \"y\"}, {\"hoverlabel\": {\"namelength\": 0}, \"hovertemplate\": \"topic=music<br>year=%{x}<br>weight=%{y}\", \"legendgroup\": \"topic=music\", \"line\": {\"color\": \"#FFA15A\", \"dash\": \"solid\"}, \"mode\": \"lines\", \"name\": \"topic=music\", \"showlegend\": true, \"type\": \"scatter\", \"x\": [2018, 2020], \"xaxis\": \"x\", \"y\": [0.0004386679118266435, 0.00023848822271206694], \"yaxis\": \"y\"}, {\"hoverlabel\": {\"namelength\": 0}, \"hovertemplate\": \"topic=musical<br>year=%{x}<br>weight=%{y}\", \"legendgroup\": \"topic=musical\", \"line\": {\"color\": \"#19d3f3\", \"dash\": \"solid\"}, \"mode\": \"lines\", \"name\": \"topic=musical\", \"showlegend\": true, \"type\": \"scatter\", \"x\": [2018], \"xaxis\": \"x\", \"y\": [0.0004386679118266435], \"yaxis\": \"y\"}, {\"hoverlabel\": {\"namelength\": 0}, \"hovertemplate\": \"topic=negative_emotion<br>year=%{x}<br>weight=%{y}\", \"legendgroup\": \"topic=negative_emotion\", \"line\": {\"color\": \"#FF6692\", \"dash\": \"solid\"}, \"mode\": \"lines\", \"name\": \"topic=negative_emotion\", \"showlegend\": true, \"type\": \"scatter\", \"x\": [2015, 2016, 2017, 2018, 2019, 2020], \"xaxis\": \"x\", \"y\": [0.00041436756314983504, 0.00039492162249600495, 0.0005897924966291364, 0.0006056696797194054, 0.0005897924966291364, 0.00029835762903907784], \"yaxis\": \"y\"}, {\"hoverlabel\": {\"namelength\": 0}, \"hovertemplate\": \"topic=optimism<br>year=%{x}<br>weight=%{y}\", \"legendgroup\": \"topic=optimism\", \"line\": {\"color\": \"#B6E880\", \"dash\": \"solid\"}, \"mode\": \"lines\", \"name\": \"topic=optimism\", \"showlegend\": true, \"type\": \"scatter\", \"x\": [2015, 2016, 2017, 2018, 2019, 2020], \"xaxis\": \"x\", \"y\": [0.0008717715843007665, 0.00021007940363899807, 0.00031915306500561176, 0.0005235485730718224, 0.00031915306500561176, 0.0003406643274843115], \"yaxis\": \"y\"}, {\"hoverlabel\": {\"namelength\": 0}, \"hovertemplate\": \"topic=pain<br>year=%{x}<br>weight=%{y}\", \"legendgroup\": \"topic=pain\", \"line\": {\"color\": \"#FF97FF\", \"dash\": \"solid\"}, \"mode\": \"lines\", \"name\": \"topic=pain\", \"showlegend\": true, \"type\": \"scatter\", \"x\": [2017, 2019], \"xaxis\": \"x\", \"y\": [0.0002782068418991729, 0.0002782068418991729], \"yaxis\": \"y\"}, {\"hoverlabel\": {\"namelength\": 0}, \"hovertemplate\": \"topic=party<br>year=%{x}<br>weight=%{y}\", \"legendgroup\": \"topic=party\", \"line\": {\"color\": \"#FECB52\", \"dash\": \"solid\"}, \"mode\": \"lines\", \"name\": \"topic=party\", \"showlegend\": true, \"type\": \"scatter\", \"x\": [2018], \"xaxis\": \"x\", \"y\": [0.0004006441158108842], \"yaxis\": \"y\"}, {\"hoverlabel\": {\"namelength\": 0}, \"hovertemplate\": \"topic=positive_emotion<br>year=%{x}<br>weight=%{y}\", \"legendgroup\": \"topic=positive_emotion\", \"line\": {\"color\": \"#636efa\", \"dash\": \"solid\"}, \"mode\": \"lines\", \"name\": \"topic=positive_emotion\", \"showlegend\": true, \"type\": \"scatter\", \"x\": [2015, 2016, 2017, 2018, 2019, 2020], \"xaxis\": \"x\", \"y\": [0.0008116271047596553, 0.0002493856462442377, 0.00039070005496374667, 0.0003722159680702078, 0.00039070005496374667, 0.0002597912502763716], \"yaxis\": \"y\"}, {\"hoverlabel\": {\"namelength\": 0}, \"hovertemplate\": \"topic=speaking<br>year=%{x}<br>weight=%{y}\", \"legendgroup\": \"topic=speaking\", \"line\": {\"color\": \"#EF553B\", \"dash\": \"solid\"}, \"mode\": \"lines\", \"name\": \"topic=speaking\", \"showlegend\": true, \"type\": \"scatter\", \"x\": [2016, 2018, 2020], \"xaxis\": \"x\", \"y\": [0.00021144576983091366, 0.0006525014472806253, 0.0003094725829047188], \"yaxis\": \"y\"}, {\"hoverlabel\": {\"namelength\": 0}, \"hovertemplate\": \"topic=strength<br>year=%{x}<br>weight=%{y}\", \"legendgroup\": \"topic=strength\", \"line\": {\"color\": \"#00cc96\", \"dash\": \"solid\"}, \"mode\": \"lines\", \"name\": \"topic=strength\", \"showlegend\": true, \"type\": \"scatter\", \"x\": [2020], \"xaxis\": \"x\", \"y\": [0.00027393828974995416], \"yaxis\": \"y\"}, {\"hoverlabel\": {\"namelength\": 0}, \"hovertemplate\": \"topic=violence<br>year=%{x}<br>weight=%{y}\", \"legendgroup\": \"topic=violence\", \"line\": {\"color\": \"#ab63fa\", \"dash\": \"solid\"}, \"mode\": \"lines\", \"name\": \"topic=violence\", \"showlegend\": true, \"type\": \"scatter\", \"x\": [2016, 2017, 2019], \"xaxis\": \"x\", \"y\": [0.00021159842605614876, 0.0002996563024945652, 0.0002996563024945652], \"yaxis\": \"y\"}],\n",
              "                        {\"legend\": {\"tracegroupgap\": 0}, \"template\": {\"data\": {\"bar\": [{\"error_x\": {\"color\": \"#2a3f5f\"}, \"error_y\": {\"color\": \"#2a3f5f\"}, \"marker\": {\"line\": {\"color\": \"#E5ECF6\", \"width\": 0.5}}, \"type\": \"bar\"}], \"barpolar\": [{\"marker\": {\"line\": {\"color\": \"#E5ECF6\", \"width\": 0.5}}, \"type\": \"barpolar\"}], \"carpet\": [{\"aaxis\": {\"endlinecolor\": \"#2a3f5f\", \"gridcolor\": \"white\", \"linecolor\": \"white\", \"minorgridcolor\": \"white\", \"startlinecolor\": \"#2a3f5f\"}, \"baxis\": {\"endlinecolor\": \"#2a3f5f\", \"gridcolor\": \"white\", \"linecolor\": \"white\", \"minorgridcolor\": \"white\", \"startlinecolor\": \"#2a3f5f\"}, \"type\": \"carpet\"}], \"choropleth\": [{\"colorbar\": {\"outlinewidth\": 0, \"ticks\": \"\"}, \"type\": \"choropleth\"}], \"contour\": [{\"colorbar\": {\"outlinewidth\": 0, \"ticks\": \"\"}, \"colorscale\": [[0.0, \"#0d0887\"], [0.1111111111111111, \"#46039f\"], [0.2222222222222222, \"#7201a8\"], [0.3333333333333333, \"#9c179e\"], [0.4444444444444444, \"#bd3786\"], [0.5555555555555556, \"#d8576b\"], [0.6666666666666666, \"#ed7953\"], [0.7777777777777778, \"#fb9f3a\"], [0.8888888888888888, \"#fdca26\"], [1.0, \"#f0f921\"]], \"type\": \"contour\"}], \"contourcarpet\": [{\"colorbar\": {\"outlinewidth\": 0, \"ticks\": \"\"}, \"type\": \"contourcarpet\"}], \"heatmap\": [{\"colorbar\": {\"outlinewidth\": 0, \"ticks\": \"\"}, \"colorscale\": [[0.0, \"#0d0887\"], [0.1111111111111111, \"#46039f\"], [0.2222222222222222, \"#7201a8\"], [0.3333333333333333, \"#9c179e\"], [0.4444444444444444, \"#bd3786\"], [0.5555555555555556, \"#d8576b\"], [0.6666666666666666, \"#ed7953\"], [0.7777777777777778, \"#fb9f3a\"], [0.8888888888888888, \"#fdca26\"], [1.0, \"#f0f921\"]], \"type\": \"heatmap\"}], \"heatmapgl\": [{\"colorbar\": {\"outlinewidth\": 0, \"ticks\": \"\"}, \"colorscale\": [[0.0, \"#0d0887\"], [0.1111111111111111, \"#46039f\"], [0.2222222222222222, \"#7201a8\"], [0.3333333333333333, \"#9c179e\"], [0.4444444444444444, \"#bd3786\"], [0.5555555555555556, \"#d8576b\"], [0.6666666666666666, \"#ed7953\"], [0.7777777777777778, \"#fb9f3a\"], [0.8888888888888888, \"#fdca26\"], [1.0, \"#f0f921\"]], \"type\": \"heatmapgl\"}], \"histogram\": [{\"marker\": {\"colorbar\": {\"outlinewidth\": 0, \"ticks\": \"\"}}, \"type\": \"histogram\"}], \"histogram2d\": [{\"colorbar\": {\"outlinewidth\": 0, \"ticks\": \"\"}, \"colorscale\": [[0.0, \"#0d0887\"], [0.1111111111111111, \"#46039f\"], [0.2222222222222222, \"#7201a8\"], [0.3333333333333333, \"#9c179e\"], [0.4444444444444444, \"#bd3786\"], [0.5555555555555556, \"#d8576b\"], [0.6666666666666666, \"#ed7953\"], [0.7777777777777778, \"#fb9f3a\"], [0.8888888888888888, \"#fdca26\"], [1.0, \"#f0f921\"]], \"type\": \"histogram2d\"}], \"histogram2dcontour\": [{\"colorbar\": {\"outlinewidth\": 0, \"ticks\": \"\"}, \"colorscale\": [[0.0, \"#0d0887\"], [0.1111111111111111, \"#46039f\"], [0.2222222222222222, \"#7201a8\"], [0.3333333333333333, \"#9c179e\"], [0.4444444444444444, \"#bd3786\"], [0.5555555555555556, \"#d8576b\"], [0.6666666666666666, \"#ed7953\"], [0.7777777777777778, \"#fb9f3a\"], [0.8888888888888888, \"#fdca26\"], [1.0, \"#f0f921\"]], \"type\": \"histogram2dcontour\"}], \"mesh3d\": [{\"colorbar\": {\"outlinewidth\": 0, \"ticks\": \"\"}, \"type\": \"mesh3d\"}], \"parcoords\": [{\"line\": {\"colorbar\": {\"outlinewidth\": 0, \"ticks\": \"\"}}, \"type\": \"parcoords\"}], \"pie\": [{\"automargin\": true, \"type\": \"pie\"}], \"scatter\": [{\"marker\": {\"colorbar\": {\"outlinewidth\": 0, \"ticks\": \"\"}}, \"type\": \"scatter\"}], \"scatter3d\": [{\"line\": {\"colorbar\": {\"outlinewidth\": 0, \"ticks\": \"\"}}, \"marker\": {\"colorbar\": {\"outlinewidth\": 0, \"ticks\": \"\"}}, \"type\": \"scatter3d\"}], \"scattercarpet\": [{\"marker\": {\"colorbar\": {\"outlinewidth\": 0, \"ticks\": \"\"}}, \"type\": \"scattercarpet\"}], \"scattergeo\": [{\"marker\": {\"colorbar\": {\"outlinewidth\": 0, \"ticks\": \"\"}}, \"type\": \"scattergeo\"}], \"scattergl\": [{\"marker\": {\"colorbar\": {\"outlinewidth\": 0, \"ticks\": \"\"}}, \"type\": \"scattergl\"}], \"scattermapbox\": [{\"marker\": {\"colorbar\": {\"outlinewidth\": 0, \"ticks\": \"\"}}, \"type\": \"scattermapbox\"}], \"scatterpolar\": [{\"marker\": {\"colorbar\": {\"outlinewidth\": 0, \"ticks\": \"\"}}, \"type\": \"scatterpolar\"}], \"scatterpolargl\": [{\"marker\": {\"colorbar\": {\"outlinewidth\": 0, \"ticks\": \"\"}}, \"type\": \"scatterpolargl\"}], \"scatterternary\": [{\"marker\": {\"colorbar\": {\"outlinewidth\": 0, \"ticks\": \"\"}}, \"type\": \"scatterternary\"}], \"surface\": [{\"colorbar\": {\"outlinewidth\": 0, \"ticks\": \"\"}, \"colorscale\": [[0.0, \"#0d0887\"], [0.1111111111111111, \"#46039f\"], [0.2222222222222222, \"#7201a8\"], [0.3333333333333333, \"#9c179e\"], [0.4444444444444444, \"#bd3786\"], [0.5555555555555556, \"#d8576b\"], [0.6666666666666666, \"#ed7953\"], [0.7777777777777778, \"#fb9f3a\"], [0.8888888888888888, \"#fdca26\"], [1.0, \"#f0f921\"]], \"type\": \"surface\"}], \"table\": [{\"cells\": {\"fill\": {\"color\": \"#EBF0F8\"}, \"line\": {\"color\": \"white\"}}, \"header\": {\"fill\": {\"color\": \"#C8D4E3\"}, \"line\": {\"color\": \"white\"}}, \"type\": \"table\"}]}, \"layout\": {\"annotationdefaults\": {\"arrowcolor\": \"#2a3f5f\", \"arrowhead\": 0, \"arrowwidth\": 1}, \"coloraxis\": {\"colorbar\": {\"outlinewidth\": 0, \"ticks\": \"\"}}, \"colorscale\": {\"diverging\": [[0, \"#8e0152\"], [0.1, \"#c51b7d\"], [0.2, \"#de77ae\"], [0.3, \"#f1b6da\"], [0.4, \"#fde0ef\"], [0.5, \"#f7f7f7\"], [0.6, \"#e6f5d0\"], [0.7, \"#b8e186\"], [0.8, \"#7fbc41\"], [0.9, \"#4d9221\"], [1, \"#276419\"]], \"sequential\": [[0.0, \"#0d0887\"], [0.1111111111111111, \"#46039f\"], [0.2222222222222222, \"#7201a8\"], [0.3333333333333333, \"#9c179e\"], [0.4444444444444444, \"#bd3786\"], [0.5555555555555556, \"#d8576b\"], [0.6666666666666666, \"#ed7953\"], [0.7777777777777778, \"#fb9f3a\"], [0.8888888888888888, \"#fdca26\"], [1.0, \"#f0f921\"]], \"sequentialminus\": [[0.0, \"#0d0887\"], [0.1111111111111111, \"#46039f\"], [0.2222222222222222, \"#7201a8\"], [0.3333333333333333, \"#9c179e\"], [0.4444444444444444, \"#bd3786\"], [0.5555555555555556, \"#d8576b\"], [0.6666666666666666, \"#ed7953\"], [0.7777777777777778, \"#fb9f3a\"], [0.8888888888888888, \"#fdca26\"], [1.0, \"#f0f921\"]]}, \"colorway\": [\"#636efa\", \"#EF553B\", \"#00cc96\", \"#ab63fa\", \"#FFA15A\", \"#19d3f3\", \"#FF6692\", \"#B6E880\", \"#FF97FF\", \"#FECB52\"], \"font\": {\"color\": \"#2a3f5f\"}, \"geo\": {\"bgcolor\": \"white\", \"lakecolor\": \"white\", \"landcolor\": \"#E5ECF6\", \"showlakes\": true, \"showland\": true, \"subunitcolor\": \"white\"}, \"hoverlabel\": {\"align\": \"left\"}, \"hovermode\": \"closest\", \"mapbox\": {\"style\": \"light\"}, \"paper_bgcolor\": \"white\", \"plot_bgcolor\": \"#E5ECF6\", \"polar\": {\"angularaxis\": {\"gridcolor\": \"white\", \"linecolor\": \"white\", \"ticks\": \"\"}, \"bgcolor\": \"#E5ECF6\", \"radialaxis\": {\"gridcolor\": \"white\", \"linecolor\": \"white\", \"ticks\": \"\"}}, \"scene\": {\"xaxis\": {\"backgroundcolor\": \"#E5ECF6\", \"gridcolor\": \"white\", \"gridwidth\": 2, \"linecolor\": \"white\", \"showbackground\": true, \"ticks\": \"\", \"zerolinecolor\": \"white\"}, \"yaxis\": {\"backgroundcolor\": \"#E5ECF6\", \"gridcolor\": \"white\", \"gridwidth\": 2, \"linecolor\": \"white\", \"showbackground\": true, \"ticks\": \"\", \"zerolinecolor\": \"white\"}, \"zaxis\": {\"backgroundcolor\": \"#E5ECF6\", \"gridcolor\": \"white\", \"gridwidth\": 2, \"linecolor\": \"white\", \"showbackground\": true, \"ticks\": \"\", \"zerolinecolor\": \"white\"}}, \"shapedefaults\": {\"line\": {\"color\": \"#2a3f5f\"}}, \"ternary\": {\"aaxis\": {\"gridcolor\": \"white\", \"linecolor\": \"white\", \"ticks\": \"\"}, \"baxis\": {\"gridcolor\": \"white\", \"linecolor\": \"white\", \"ticks\": \"\"}, \"bgcolor\": \"#E5ECF6\", \"caxis\": {\"gridcolor\": \"white\", \"linecolor\": \"white\", \"ticks\": \"\"}}, \"title\": {\"x\": 0.05}, \"xaxis\": {\"automargin\": true, \"gridcolor\": \"white\", \"linecolor\": \"white\", \"ticks\": \"\", \"title\": {\"standoff\": 15}, \"zerolinecolor\": \"white\", \"zerolinewidth\": 2}, \"yaxis\": {\"automargin\": true, \"gridcolor\": \"white\", \"linecolor\": \"white\", \"ticks\": \"\", \"title\": {\"standoff\": 15}, \"zerolinecolor\": \"white\", \"zerolinewidth\": 2}}}, \"title\": {\"text\": \"Evolution of most popular topics among gender minorities between 2015 and 2020\"}, \"xaxis\": {\"anchor\": \"y\", \"domain\": [0.0, 1.0], \"title\": {\"text\": \"year\"}}, \"yaxis\": {\"anchor\": \"x\", \"domain\": [0.0, 1.0], \"title\": {\"text\": \"weight\"}}},\n",
              "                        {\"responsive\": true}\n",
              "                    ).then(function(){\n",
              "                            \n",
              "var gd = document.getElementById('effe6f35-a0bf-4ec5-a5a5-bd545f1a8517');\n",
              "var x = new MutationObserver(function (mutations, observer) {{\n",
              "        var display = window.getComputedStyle(gd).display;\n",
              "        if (!display || display === 'none') {{\n",
              "            console.log([gd, 'removed!']);\n",
              "            Plotly.purge(gd);\n",
              "            observer.disconnect();\n",
              "        }}\n",
              "}});\n",
              "\n",
              "// Listen for the removal of the full notebook cells\n",
              "var notebookContainer = gd.closest('#notebook-container');\n",
              "if (notebookContainer) {{\n",
              "    x.observe(notebookContainer, {childList: true});\n",
              "}}\n",
              "\n",
              "// Listen for the clearing of the current output cell\n",
              "var outputEl = gd.closest('.output');\n",
              "if (outputEl) {{\n",
              "    x.observe(outputEl, {childList: true});\n",
              "}}\n",
              "\n",
              "                        })\n",
              "                };\n",
              "                \n",
              "            </script>\n",
              "        </div>\n",
              "</body>\n",
              "</html>"
            ]
          },
          "metadata": {}
        }
      ]
    },
    {
      "cell_type": "code",
      "source": [
        ""
      ],
      "metadata": {
        "id": "y65nyinLFmfP"
      },
      "execution_count": null,
      "outputs": []
    }
  ],
  "metadata": {
    "accelerator": "TPU",
    "colab": {
      "collapsed_sections": [],
      "name": "gender_topics.ipynb",
      "provenance": [],
      "include_colab_link": true
    },
    "kernelspec": {
      "display_name": "Python 3 (ipykernel)",
      "language": "python",
      "name": "python3"
    },
    "language_info": {
      "codemirror_mode": {
        "name": "ipython",
        "version": 3
      },
      "file_extension": ".py",
      "mimetype": "text/x-python",
      "name": "python",
      "nbconvert_exporter": "python",
      "pygments_lexer": "ipython3",
      "version": "3.8.11"
    }
  },
  "nbformat": 4,
  "nbformat_minor": 0
}
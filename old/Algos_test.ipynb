{
  "nbformat": 4,
  "nbformat_minor": 0,
  "metadata": {
    "colab": {
      "name": "Algos_test.ipynb",
      "provenance": [],
      "collapsed_sections": [
        "2hIDOrfzBSjp"
      ],
      "authorship_tag": "ABX9TyNzJP1A8MijtyDpKZB6S16B",
      "include_colab_link": true
    },
    "kernelspec": {
      "name": "python3",
      "display_name": "Python 3"
    },
    "language_info": {
      "name": "python"
    }
  },
  "cells": [
    {
      "cell_type": "markdown",
      "metadata": {
        "id": "view-in-github",
        "colab_type": "text"
      },
      "source": [
        "<a href=\"https://colab.research.google.com/github/morwald/ada_project/blob/master/Algos_test.ipynb\" target=\"_parent\"><img src=\"https://colab.research.google.com/assets/colab-badge.svg\" alt=\"Open In Colab\"/></a>"
      ]
    },
    {
      "cell_type": "code",
      "metadata": {
        "id": "AvKsksFEAJG4"
      },
      "source": [
        "import pandas as pd\n",
        "import numpy as np\n",
        "import seaborn as sns\n",
        "import matplotlib.pyplot as plt\n",
        "import json\n",
        "import bz2"
      ],
      "execution_count": 2,
      "outputs": []
    },
    {
      "cell_type": "code",
      "metadata": {
        "id": "3DIyBejIAc9i"
      },
      "source": [
        "# Comment the files which aren't stored locally\n",
        "# In Colab everything should be available\n",
        "QUOTES_2020_PATH = 'Merged data/quotes-2020-gb.pkl'\n",
        "QUOTES_2019_PATH = 'Merged data/quotes-2019-gb.pkl' \n",
        "QUOTES_2018_PATH = 'Merged data/quotes-2018-gb.pkl'  \n",
        "QUOTES_2017_PATH = 'Merged data/quotes-2017-gb.pkl'\n",
        "QUOTES_2016_PATH = 'Merged data/quotes-2016-gb.pkl'\n",
        "QUOTES_2015_PATH = 'Merged data/quotes-2015-gb.pkl'"
      ],
      "execution_count": 3,
      "outputs": []
    },
    {
      "cell_type": "code",
      "metadata": {
        "id": "9rpE-uK5Ao-V"
      },
      "source": [
        "use_colab = True"
      ],
      "execution_count": 4,
      "outputs": []
    },
    {
      "cell_type": "code",
      "metadata": {
        "colab": {
          "base_uri": "https://localhost:8080/"
        },
        "id": "83EtGneHArR2",
        "outputId": "7668a29f-a426-4efd-b48c-bfca56028c86"
      },
      "source": [
        "# Import with EPFL google drive!\n",
        "if use_colab:\n",
        "    from google.colab import drive\n",
        "    drive.mount('/content/drive', force_remount=True)\n",
        "    \n",
        "    %cd /content/drive/Shareddrives/ADA-project"
      ],
      "execution_count": 5,
      "outputs": [
        {
          "output_type": "stream",
          "name": "stdout",
          "text": [
            "Mounted at /content/drive\n",
            "/content/drive/Shareddrives/ADA-project\n"
          ]
        }
      ]
    },
    {
      "cell_type": "code",
      "metadata": {
        "colab": {
          "base_uri": "https://localhost:8080/"
        },
        "id": "tMW2YJowFUwf",
        "outputId": "b79d713f-0981-4eef-9f6e-ed8701ee13ab"
      },
      "source": [
        "!pip install pyldavis"
      ],
      "execution_count": 1,
      "outputs": [
        {
          "output_type": "stream",
          "name": "stdout",
          "text": [
            "Requirement already satisfied: pyldavis in /usr/local/lib/python3.7/dist-packages (3.3.1)\n",
            "Requirement already satisfied: scikit-learn in /usr/local/lib/python3.7/dist-packages (from pyldavis) (1.0.1)\n",
            "Requirement already satisfied: future in /usr/local/lib/python3.7/dist-packages (from pyldavis) (0.16.0)\n",
            "Requirement already satisfied: sklearn in /usr/local/lib/python3.7/dist-packages (from pyldavis) (0.0)\n",
            "Requirement already satisfied: scipy in /usr/local/lib/python3.7/dist-packages (from pyldavis) (1.4.1)\n",
            "Requirement already satisfied: setuptools in /usr/local/lib/python3.7/dist-packages (from pyldavis) (57.4.0)\n",
            "Requirement already satisfied: pandas>=1.2.0 in /usr/local/lib/python3.7/dist-packages (from pyldavis) (1.3.4)\n",
            "Requirement already satisfied: funcy in /usr/local/lib/python3.7/dist-packages (from pyldavis) (1.16)\n",
            "Requirement already satisfied: joblib in /usr/local/lib/python3.7/dist-packages (from pyldavis) (1.1.0)\n",
            "Requirement already satisfied: gensim in /usr/local/lib/python3.7/dist-packages (from pyldavis) (3.6.0)\n",
            "Requirement already satisfied: jinja2 in /usr/local/lib/python3.7/dist-packages (from pyldavis) (2.11.3)\n",
            "Requirement already satisfied: numexpr in /usr/local/lib/python3.7/dist-packages (from pyldavis) (2.7.3)\n",
            "Requirement already satisfied: numpy>=1.20.0 in /usr/local/lib/python3.7/dist-packages (from pyldavis) (1.21.4)\n",
            "Requirement already satisfied: pytz>=2017.3 in /usr/local/lib/python3.7/dist-packages (from pandas>=1.2.0->pyldavis) (2018.9)\n",
            "Requirement already satisfied: python-dateutil>=2.7.3 in /usr/local/lib/python3.7/dist-packages (from pandas>=1.2.0->pyldavis) (2.8.2)\n",
            "Requirement already satisfied: six>=1.5 in /usr/local/lib/python3.7/dist-packages (from python-dateutil>=2.7.3->pandas>=1.2.0->pyldavis) (1.15.0)\n",
            "Requirement already satisfied: smart-open>=1.2.1 in /usr/local/lib/python3.7/dist-packages (from gensim->pyldavis) (5.2.1)\n",
            "Requirement already satisfied: MarkupSafe>=0.23 in /usr/local/lib/python3.7/dist-packages (from jinja2->pyldavis) (2.0.1)\n",
            "Requirement already satisfied: threadpoolctl>=2.0.0 in /usr/local/lib/python3.7/dist-packages (from scikit-learn->pyldavis) (3.0.0)\n"
          ]
        }
      ]
    },
    {
      "cell_type": "markdown",
      "metadata": {
        "id": "2hIDOrfzBSjp"
      },
      "source": [
        "# LDA algo 1 (https://www.machinelearningplus.com/nlp/topic-modeling-gensim-python/)\n"
      ]
    },
    {
      "cell_type": "code",
      "metadata": {
        "colab": {
          "base_uri": "https://localhost:8080/"
        },
        "id": "7xSD8DOPCA1m",
        "outputId": "4eb39b4e-9656-48b9-c205-da427ae16085"
      },
      "source": [
        "!pip install pyldavis"
      ],
      "execution_count": 6,
      "outputs": [
        {
          "output_type": "stream",
          "name": "stdout",
          "text": [
            "Requirement already satisfied: pyldavis in /usr/local/lib/python3.7/dist-packages (3.3.1)\n",
            "Requirement already satisfied: pandas>=1.2.0 in /usr/local/lib/python3.7/dist-packages (from pyldavis) (1.3.4)\n",
            "Requirement already satisfied: numexpr in /usr/local/lib/python3.7/dist-packages (from pyldavis) (2.7.3)\n",
            "Requirement already satisfied: funcy in /usr/local/lib/python3.7/dist-packages (from pyldavis) (1.16)\n",
            "Requirement already satisfied: numpy>=1.20.0 in /usr/local/lib/python3.7/dist-packages (from pyldavis) (1.21.4)\n",
            "Requirement already satisfied: joblib in /usr/local/lib/python3.7/dist-packages (from pyldavis) (1.1.0)\n",
            "Requirement already satisfied: gensim in /usr/local/lib/python3.7/dist-packages (from pyldavis) (3.6.0)\n",
            "Requirement already satisfied: setuptools in /usr/local/lib/python3.7/dist-packages (from pyldavis) (57.4.0)\n",
            "Requirement already satisfied: scipy in /usr/local/lib/python3.7/dist-packages (from pyldavis) (1.4.1)\n",
            "Requirement already satisfied: scikit-learn in /usr/local/lib/python3.7/dist-packages (from pyldavis) (1.0.1)\n",
            "Requirement already satisfied: future in /usr/local/lib/python3.7/dist-packages (from pyldavis) (0.16.0)\n",
            "Requirement already satisfied: sklearn in /usr/local/lib/python3.7/dist-packages (from pyldavis) (0.0)\n",
            "Requirement already satisfied: jinja2 in /usr/local/lib/python3.7/dist-packages (from pyldavis) (2.11.3)\n",
            "Requirement already satisfied: python-dateutil>=2.7.3 in /usr/local/lib/python3.7/dist-packages (from pandas>=1.2.0->pyldavis) (2.8.2)\n",
            "Requirement already satisfied: pytz>=2017.3 in /usr/local/lib/python3.7/dist-packages (from pandas>=1.2.0->pyldavis) (2018.9)\n",
            "Requirement already satisfied: six>=1.5 in /usr/local/lib/python3.7/dist-packages (from python-dateutil>=2.7.3->pandas>=1.2.0->pyldavis) (1.15.0)\n",
            "Requirement already satisfied: smart-open>=1.2.1 in /usr/local/lib/python3.7/dist-packages (from gensim->pyldavis) (5.2.1)\n",
            "Requirement already satisfied: MarkupSafe>=0.23 in /usr/local/lib/python3.7/dist-packages (from jinja2->pyldavis) (2.0.1)\n",
            "Requirement already satisfied: threadpoolctl>=2.0.0 in /usr/local/lib/python3.7/dist-packages (from scikit-learn->pyldavis) (3.0.0)\n"
          ]
        }
      ]
    },
    {
      "cell_type": "code",
      "metadata": {
        "colab": {
          "base_uri": "https://localhost:8080/"
        },
        "id": "slDJ7KlzA_gD",
        "outputId": "8acf743e-0fc8-492c-94cd-e3e18236df37"
      },
      "source": [
        "import nltk; nltk.download('stopwords')\n",
        "\n",
        "import re\n",
        "from pprint import pprint\n",
        "\n",
        "# Gensim\n",
        "import gensim\n",
        "import gensim.corpora as corpora\n",
        "from gensim.utils import simple_preprocess\n",
        "from gensim.models import CoherenceModel\n",
        "\n",
        "# spacy for lemmatization\n",
        "import spacy\n",
        "\n",
        "# Plotting tools\n",
        "import pyLDAvis\n",
        "import pyLDAvis.gensim_models  # don't skip this\n",
        "pyLDAvis.enable_notebook()\n",
        "import matplotlib.pyplot as plt\n",
        "%matplotlib inline\n",
        "\n",
        "# Enable logging for gensim - optional\n",
        "import logging\n",
        "logging.basicConfig(format='%(asctime)s : %(levelname)s : %(message)s', level=logging.ERROR)\n",
        "\n",
        "import warnings\n",
        "warnings.filterwarnings(\"ignore\",category=DeprecationWarning)"
      ],
      "execution_count": 10,
      "outputs": [
        {
          "output_type": "stream",
          "name": "stdout",
          "text": [
            "[nltk_data] Downloading package stopwords to /root/nltk_data...\n",
            "[nltk_data]   Package stopwords is already up-to-date!\n"
          ]
        }
      ]
    },
    {
      "cell_type": "code",
      "metadata": {
        "id": "P5QD-mpkBmEt"
      },
      "source": [
        "# NLTK Stop words\n",
        "from nltk.corpus import stopwords\n",
        "stop_words = stopwords.words('english')\n",
        "stop_words.extend(['from', 'subject', 're', 'edu', 'use'])"
      ],
      "execution_count": 11,
      "outputs": []
    },
    {
      "cell_type": "code",
      "metadata": {
        "colab": {
          "base_uri": "https://localhost:8080/",
          "height": 306
        },
        "id": "UGBqV4Y6Czhk",
        "outputId": "0e0ba665-6b5b-4a03-a9be-f6ebd3461c00"
      },
      "source": [
        "df = pd.read_json('https://raw.githubusercontent.com/selva86/datasets/master/newsgroups.json')\n",
        "print(df.target_names.unique())\n",
        "df.head()"
      ],
      "execution_count": 12,
      "outputs": [
        {
          "output_type": "stream",
          "name": "stdout",
          "text": [
            "['rec.autos' 'comp.sys.mac.hardware' 'comp.graphics' 'sci.space'\n",
            " 'talk.politics.guns' 'sci.med' 'comp.sys.ibm.pc.hardware'\n",
            " 'comp.os.ms-windows.misc' 'rec.motorcycles' 'talk.religion.misc'\n",
            " 'misc.forsale' 'alt.atheism' 'sci.electronics' 'comp.windows.x'\n",
            " 'rec.sport.hockey' 'rec.sport.baseball' 'soc.religion.christian'\n",
            " 'talk.politics.mideast' 'talk.politics.misc' 'sci.crypt']\n"
          ]
        },
        {
          "output_type": "execute_result",
          "data": {
            "text/html": [
              "<div>\n",
              "<style scoped>\n",
              "    .dataframe tbody tr th:only-of-type {\n",
              "        vertical-align: middle;\n",
              "    }\n",
              "\n",
              "    .dataframe tbody tr th {\n",
              "        vertical-align: top;\n",
              "    }\n",
              "\n",
              "    .dataframe thead th {\n",
              "        text-align: right;\n",
              "    }\n",
              "</style>\n",
              "<table border=\"1\" class=\"dataframe\">\n",
              "  <thead>\n",
              "    <tr style=\"text-align: right;\">\n",
              "      <th></th>\n",
              "      <th>content</th>\n",
              "      <th>target</th>\n",
              "      <th>target_names</th>\n",
              "    </tr>\n",
              "  </thead>\n",
              "  <tbody>\n",
              "    <tr>\n",
              "      <th>0</th>\n",
              "      <td>From: lerxst@wam.umd.edu (where's my thing)\\nS...</td>\n",
              "      <td>7</td>\n",
              "      <td>rec.autos</td>\n",
              "    </tr>\n",
              "    <tr>\n",
              "      <th>1</th>\n",
              "      <td>From: guykuo@carson.u.washington.edu (Guy Kuo)...</td>\n",
              "      <td>4</td>\n",
              "      <td>comp.sys.mac.hardware</td>\n",
              "    </tr>\n",
              "    <tr>\n",
              "      <th>2</th>\n",
              "      <td>From: twillis@ec.ecn.purdue.edu (Thomas E Will...</td>\n",
              "      <td>4</td>\n",
              "      <td>comp.sys.mac.hardware</td>\n",
              "    </tr>\n",
              "    <tr>\n",
              "      <th>3</th>\n",
              "      <td>From: jgreen@amber (Joe Green)\\nSubject: Re: W...</td>\n",
              "      <td>1</td>\n",
              "      <td>comp.graphics</td>\n",
              "    </tr>\n",
              "    <tr>\n",
              "      <th>4</th>\n",
              "      <td>From: jcm@head-cfa.harvard.edu (Jonathan McDow...</td>\n",
              "      <td>14</td>\n",
              "      <td>sci.space</td>\n",
              "    </tr>\n",
              "  </tbody>\n",
              "</table>\n",
              "</div>"
            ],
            "text/plain": [
              "                                             content  ...           target_names\n",
              "0  From: lerxst@wam.umd.edu (where's my thing)\\nS...  ...              rec.autos\n",
              "1  From: guykuo@carson.u.washington.edu (Guy Kuo)...  ...  comp.sys.mac.hardware\n",
              "2  From: twillis@ec.ecn.purdue.edu (Thomas E Will...  ...  comp.sys.mac.hardware\n",
              "3  From: jgreen@amber (Joe Green)\\nSubject: Re: W...  ...          comp.graphics\n",
              "4  From: jcm@head-cfa.harvard.edu (Jonathan McDow...  ...              sci.space\n",
              "\n",
              "[5 rows x 3 columns]"
            ]
          },
          "metadata": {},
          "execution_count": 12
        }
      ]
    },
    {
      "cell_type": "code",
      "metadata": {
        "colab": {
          "base_uri": "https://localhost:8080/"
        },
        "id": "JucuvG5MDIxP",
        "outputId": "f1fbd20b-df27-4cb4-9363-b1caf0d69fd1"
      },
      "source": [
        "# Convert to list\n",
        "data = pd.read_pickle(QUOTES_2020_PATH).quotation.tolist()\n",
        "\n",
        "# Remove new line characters\n",
        "data = [re.sub('\\s+', ' ', sent) for sent in data]\n",
        "\n",
        "# Remove distracting single quotes\n",
        "data = [re.sub(\"\\'\", \"\", sent) for sent in data]\n",
        "\n",
        "pprint(data[:1])"
      ],
      "execution_count": 18,
      "outputs": [
        {
          "output_type": "stream",
          "name": "stdout",
          "text": [
            "['As you reach or have reached the apex of your career, you build a certain '\n",
            " 'level of resilience to block things out,']\n"
          ]
        }
      ]
    },
    {
      "cell_type": "code",
      "metadata": {
        "colab": {
          "base_uri": "https://localhost:8080/"
        },
        "id": "PHCW4JNPC1z-",
        "outputId": "0565c43c-4e88-4d43-fb5c-02e4b8f7f1c0"
      },
      "source": [
        "def sent_to_words(sentences):\n",
        "    for sentence in sentences:\n",
        "        yield(gensim.utils.simple_preprocess(str(sentence), deacc=True))  # deacc=True removes punctuations\n",
        "\n",
        "data_words = list(sent_to_words(data))\n",
        "\n",
        "print(data_words[:1])"
      ],
      "execution_count": 19,
      "outputs": [
        {
          "output_type": "stream",
          "name": "stdout",
          "text": [
            "[['as', 'you', 'reach', 'or', 'have', 'reached', 'the', 'apex', 'of', 'your', 'career', 'you', 'build', 'certain', 'level', 'of', 'resilience', 'to', 'block', 'things', 'out']]\n"
          ]
        }
      ]
    },
    {
      "cell_type": "code",
      "metadata": {
        "colab": {
          "base_uri": "https://localhost:8080/"
        },
        "id": "yPWk21_TDGPI",
        "outputId": "9a747dda-46e9-4211-deee-a0c926901af4"
      },
      "source": [
        "# Build the bigram and trigram models\n",
        "bigram = gensim.models.Phrases(data_words, min_count=5, threshold=100) # higher threshold fewer phrases.\n",
        "trigram = gensim.models.Phrases(bigram[data_words], threshold=100)  \n",
        "\n",
        "# Faster way to get a sentence clubbed as a trigram/bigram\n",
        "bigram_mod = gensim.models.phrases.Phraser(bigram)\n",
        "trigram_mod = gensim.models.phrases.Phraser(trigram)\n",
        "\n",
        "# See trigram example\n",
        "print(trigram_mod[bigram_mod[data_words[0]]])"
      ],
      "execution_count": 20,
      "outputs": [
        {
          "output_type": "stream",
          "name": "stderr",
          "text": [
            "/usr/local/lib/python3.7/dist-packages/gensim/models/phrases.py:598: UserWarning: For a faster implementation, use the gensim.models.phrases.Phraser class\n",
            "  warnings.warn(\"For a faster implementation, use the gensim.models.phrases.Phraser class\")\n"
          ]
        },
        {
          "output_type": "stream",
          "name": "stdout",
          "text": [
            "['as', 'you', 'reach', 'or', 'have', 'reached', 'the', 'apex', 'of', 'your', 'career', 'you', 'build', 'certain', 'level', 'of', 'resilience', 'to', 'block', 'things', 'out']\n"
          ]
        }
      ]
    },
    {
      "cell_type": "code",
      "metadata": {
        "id": "F6Ry9bE6DSXm"
      },
      "source": [
        "# Define functions for stopwords, bigrams, trigrams and lemmatization\n",
        "def remove_stopwords(texts):\n",
        "    return [[word for word in simple_preprocess(str(doc)) if word not in stop_words] for doc in texts]\n",
        "\n",
        "def make_bigrams(texts):\n",
        "    return [bigram_mod[doc] for doc in texts]\n",
        "\n",
        "def make_trigrams(texts):\n",
        "    return [trigram_mod[bigram_mod[doc]] for doc in texts]\n",
        "\n",
        "def lemmatization(texts, allowed_postags=['NOUN', 'ADJ', 'VERB', 'ADV']):\n",
        "    \"\"\"https://spacy.io/api/annotation\"\"\"\n",
        "    texts_out = []\n",
        "    for sent in texts:\n",
        "        doc = nlp(\" \".join(sent)) \n",
        "        texts_out.append([token.lemma_ for token in doc if token.pos_ in allowed_postags])\n",
        "    return texts_out\n"
      ],
      "execution_count": 21,
      "outputs": []
    },
    {
      "cell_type": "code",
      "metadata": {
        "colab": {
          "base_uri": "https://localhost:8080/"
        },
        "id": "GJLJl9MIEW3g",
        "outputId": "055b2f00-fa35-4c61-e9c6-afbcb0acf226"
      },
      "source": [
        "\n",
        "# Remove Stop Words\n",
        "data_words_nostops = remove_stopwords(data_words)\n",
        "\n",
        "# Form Bigrams\n",
        "data_words_bigrams = make_bigrams(data_words_nostops)\n",
        "\n",
        "# Initialize spacy 'en' model, keeping only tagger component (for efficiency)\n",
        "# python3 -m spacy download en\n",
        "nlp = spacy.load('en', disable=['parser', 'ner'])\n",
        "\n",
        "# Do lemmatization keeping only noun, adj, vb, adv\n",
        "data_lemmatized = lemmatization(data_words_bigrams, allowed_postags=['NOUN', 'ADJ', 'VERB', 'ADV'])\n",
        "\n",
        "print(data_lemmatized[:1])"
      ],
      "execution_count": 22,
      "outputs": [
        {
          "output_type": "stream",
          "name": "stdout",
          "text": [
            "[['reach', 'apex', 'career', 'build', 'certain', 'level', 'resilience', 'block', 'thing']]\n"
          ]
        }
      ]
    },
    {
      "cell_type": "code",
      "metadata": {
        "colab": {
          "base_uri": "https://localhost:8080/"
        },
        "id": "1xk4QPxjFGzV",
        "outputId": "40b84659-d967-44d9-b395-a9f54fd9c099"
      },
      "source": [
        "# Create Dictionary\n",
        "id2word = corpora.Dictionary(data_lemmatized)\n",
        "\n",
        "# Create Corpus\n",
        "texts = data_lemmatized\n",
        "\n",
        "# Term Document Frequency\n",
        "corpus = [id2word.doc2bow(text) for text in texts]\n",
        "\n",
        "# View\n",
        "print(corpus[:1])"
      ],
      "execution_count": 23,
      "outputs": [
        {
          "output_type": "stream",
          "name": "stdout",
          "text": [
            "[[(0, 1), (1, 1), (2, 1), (3, 1), (4, 1), (5, 1), (6, 1), (7, 1), (8, 1)]]\n"
          ]
        }
      ]
    },
    {
      "cell_type": "code",
      "metadata": {
        "colab": {
          "base_uri": "https://localhost:8080/",
          "height": 37
        },
        "id": "8sxfs3_xFLxd",
        "outputId": "57e06328-682c-405e-b20b-3a44d4ad28ea"
      },
      "source": [
        "id2word[0]"
      ],
      "execution_count": 24,
      "outputs": [
        {
          "output_type": "execute_result",
          "data": {
            "application/vnd.google.colaboratory.intrinsic+json": {
              "type": "string"
            },
            "text/plain": [
              "'apex'"
            ]
          },
          "metadata": {},
          "execution_count": 24
        }
      ]
    },
    {
      "cell_type": "code",
      "metadata": {
        "colab": {
          "base_uri": "https://localhost:8080/"
        },
        "id": "qTviviP-FMFI",
        "outputId": "a01e27a5-ba03-4f6f-d6d2-492140b3a5a2"
      },
      "source": [
        "# Human readable format of corpus (term-frequency)\n",
        "[[(id2word[id], freq) for id, freq in cp] for cp in corpus[:1]]"
      ],
      "execution_count": 25,
      "outputs": [
        {
          "output_type": "execute_result",
          "data": {
            "text/plain": [
              "[[('apex', 1),\n",
              "  ('block', 1),\n",
              "  ('build', 1),\n",
              "  ('career', 1),\n",
              "  ('certain', 1),\n",
              "  ('level', 1),\n",
              "  ('reach', 1),\n",
              "  ('resilience', 1),\n",
              "  ('thing', 1)]]"
            ]
          },
          "metadata": {},
          "execution_count": 25
        }
      ]
    },
    {
      "cell_type": "markdown",
      "metadata": {
        "id": "sfQVIjPnFSRl"
      },
      "source": [
        "Build LDA model"
      ]
    },
    {
      "cell_type": "code",
      "metadata": {
        "id": "e8MIov_hFO8R"
      },
      "source": [
        "# Build LDA model\n",
        "lda_model = gensim.models.ldamodel.LdaModel(corpus=corpus,\n",
        "                                           id2word=id2word,\n",
        "                                           num_topics=20, \n",
        "                                           random_state=100,\n",
        "                                           update_every=1,\n",
        "                                           chunksize=100,\n",
        "                                           passes=10,\n",
        "                                           alpha='auto',\n",
        "                                           per_word_topics=True)\n"
      ],
      "execution_count": 26,
      "outputs": []
    },
    {
      "cell_type": "code",
      "metadata": {
        "id": "W-8lGobVFT1h"
      },
      "source": [
        "# Print the Keyword in the 20 topics\n",
        "pprint(lda_model.print_topics())\n",
        "doc_lda = lda_model[corpus]"
      ],
      "execution_count": null,
      "outputs": []
    },
    {
      "cell_type": "code",
      "metadata": {
        "colab": {
          "base_uri": "https://localhost:8080/"
        },
        "id": "w4Af9clpFxqi",
        "outputId": "8d677aed-63b1-490d-ebe4-67a3e2e87c69"
      },
      "source": [
        "# Compute Perplexity\n",
        "print('\\nPerplexity: ', lda_model.log_perplexity(corpus))  # a measure of how good the model is. lower the better.\n",
        "\n",
        "# Compute Coherence Score\n",
        "coherence_model_lda = CoherenceModel(model=lda_model, texts=data_lemmatized, dictionary=id2word, coherence='c_v')\n",
        "coherence_lda = coherence_model_lda.get_coherence()\n",
        "print('\\nCoherence Score: ', coherence_lda)"
      ],
      "execution_count": 28,
      "outputs": [
        {
          "output_type": "stream",
          "name": "stdout",
          "text": [
            "\n",
            "Perplexity:  -8.906072636367902\n",
            "\n",
            "Coherence Score:  0.3135580457546138\n"
          ]
        }
      ]
    },
    {
      "cell_type": "code",
      "metadata": {
        "colab": {
          "base_uri": "https://localhost:8080/",
          "height": 915
        },
        "id": "ep8FGsDbFyfR",
        "outputId": "1d615695-f62a-4845-c375-bd5017d8801b"
      },
      "source": [
        "# Visualize the topics\n",
        "pyLDAvis.enable_notebook()\n",
        "vis = pyLDAvis.gensim_models.prepare(lda_model, corpus, id2word)\n",
        "vis"
      ],
      "execution_count": 30,
      "outputs": [
        {
          "output_type": "stream",
          "name": "stderr",
          "text": [
            "/usr/local/lib/python3.7/dist-packages/pyLDAvis/_prepare.py:247: FutureWarning: In a future version of pandas all arguments of DataFrame.drop except for the argument 'labels' will be keyword-only\n",
            "  by='saliency', ascending=False).head(R).drop('saliency', 1)\n"
          ]
        },
        {
          "output_type": "execute_result",
          "data": {
            "text/html": [
              "\n",
              "<link rel=\"stylesheet\" type=\"text/css\" href=\"https://cdn.jsdelivr.net/gh/bmabey/pyLDAvis@3.3.1/pyLDAvis/js/ldavis.v1.0.0.css\">\n",
              "\n",
              "\n",
              "<div id=\"ldavis_el6161397877558180649856149711\"></div>\n",
              "<script type=\"text/javascript\">\n",
              "\n",
              "var ldavis_el6161397877558180649856149711_data = {\"mdsDat\": {\"x\": [-0.4428726064111971, -0.0327789567075333, -0.014251732364828396, 0.02383315271260451, 0.025846225728579125, 0.01550829076866833, 0.022342171892035554, 0.024438665427190746, 0.02775970069017204, 0.0244675326795592, 0.028525368209485473, 0.018309990654280163, 0.023067615709595944, 0.02820134637272025, 0.03727531839762619, 0.03265900474962369, 0.037500892858741475, 0.038139085581386664, 0.038377134769891116, 0.043651798281397536], \"y\": [-0.05898181636670233, 0.42648935293095785, 0.027197209082014142, -0.0255923069719494, -0.02143850688479901, -0.01827138332180479, -0.018299745228985358, -0.02324900582480709, -0.019069613145564514, -0.017725793188071368, -0.022549223475062666, -0.024087225402071043, -0.019227682225749332, -0.023545038364561306, -0.027059098847813632, -0.02212273185913248, -0.026851291672570752, -0.02730162421819595, -0.028484410631287635, -0.029830064383842978], \"topics\": [1, 2, 3, 4, 5, 6, 7, 8, 9, 10, 11, 12, 13, 14, 15, 16, 17, 18, 19, 20], \"cluster\": [1, 1, 1, 1, 1, 1, 1, 1, 1, 1, 1, 1, 1, 1, 1, 1, 1, 1, 1, 1], \"Freq\": [9.470853770858646, 6.409726019147569, 5.967594778412549, 5.140471634241368, 5.027357913081511, 5.014985022407304, 4.967827012136712, 4.930100259500118, 4.91349516113618, 4.781028095727258, 4.732668990464103, 4.685421725384904, 4.63786830937237, 4.529698803549649, 4.316752205554383, 4.310673998950917, 4.190915800074575, 4.1143221219395745, 3.9504653820399445, 3.907772996020368]}, \"tinfo\": {\"Term\": [\"would\", \"people\", \"be\", \"go\", \"get\", \"s\", \"want\", \"think\", \"time\", \"have\", \"make\", \"know\", \"take\", \"say\", \"come\", \"work\", \"see\", \"thing\", \"look\", \"good\", \"really\", \"need\", \"way\", \"could\", \"year\", \"love\", \"back\", \"life\", \"feel\", \"day\", \"be\", \"go\", \"s\", \"know\", \"say\", \"really\", \"feel\", \"also\", \"lot\", \"important\", \"believe\", \"quite\", \"test\", \"fan\", \"wrong\", \"guy\", \"write\", \"fire\", \"head\", \"soon\", \"picture\", \"boy\", \"nice\", \"suppose\", \"post\", \"art\", \"pull\", \"excite\", \"name\", \"video\", \"get\", \"think\", \"thing\", \"could\", \"great\", \"help\", \"ever\", \"real\", \"system\", \"mind\", \"clear\", \"touch\", \"set\", \"term\", \"football\", \"car\", \"drive\", \"group\", \"half\", \"hide\", \"film\", \"prepare\", \"fully\", \"rate\", \"encourage\", \"finish\", \"fun\", \"make_sure\", \"comfortable\", \"medium\", \"come\", \"day\", \"well\", \"happen\", \"case\", \"start\", \"home\", \"long\", \"leave\", \"experience\", \"hope\", \"business\", \"point\", \"protect\", \"brother\", \"easy\", \"fall\", \"send\", \"die\", \"seem\", \"age\", \"worry\", \"eye\", \"save\", \"area\", \"side\", \"sign\", \"date\", \"later\", \"national\", \"bit\", \"become\", \"bring\", \"win\", \"turn\", \"health\", \"early\", \"provide\", \"probably\", \"kid\", \"reason\", \"power\", \"thought\", \"decide\", \"manage\", \"like\", \"action\", \"maybe\", \"order\", \"fit\", \"staff\", \"demand\", \"kill\", \"morning\", \"industry\", \"raise\", \"interest\", \"party\", \"market\", \"cold\", \"want\", \"year\", \"life\", \"right\", \"learn\", \"old\", \"allow\", \"high\", \"community\", \"measure\", \"minute\", \"advice\", \"hour\", \"realise\", \"normal\", \"vulnerable\", \"balance\", \"alone\", \"enjoy\", \"food\", \"free\", \"perhaps\", \"due\", \"figure\", \"information\", \"little_bit\", \"massive\", \"lesson\", \"pressure\", \"solution\", \"people\", \"new\", \"big\", \"bad\", \"move\", \"today\", \"hear\", \"challenge\", \"definitely\", \"result\", \"deliver\", \"concern\", \"ensure\", \"improve\", \"campaign\", \"significant\", \"rule\", \"seriously\", \"class\", \"weekend\", \"incredibly\", \"investment\", \"past\", \"nhs\", \"clothe\", \"beat\", \"trip\", \"resource\", \"yesterday\", \"generation\", \"work\", \"see\", \"back\", \"child\", \"hard\", \"problem\", \"meet\", \"remember\", \"far\", \"money\", \"fight\", \"follow\", \"read\", \"police\", \"stand\", \"future\", \"rather\", \"book\", \"hit\", \"throw\", \"social\", \"british\", \"agree\", \"dangerous\", \"stick\", \"fair\", \"town\", \"victim\", \"character\", \"hang\", \"make\", \"way\", \"tell\", \"put\", \"live\", \"decision\", \"will\", \"stay\", \"lead\", \"run\", \"fact\", \"period\", \"forward\", \"hand\", \"huge\", \"option\", \"short\", \"difference\", \"nation\", \"tonight\", \"process\", \"perfect\", \"reduce\", \"visit\", \"mate\", \"feed\", \"base\", \"score\", \"royal\", \"guess\", \"time\", \"need\", \"find\", \"together\", \"friend\", \"team\", \"close\", \"thank\", \"happy\", \"service\", \"deal\", \"ground\", \"spend\", \"heart\", \"true\", \"eat\", \"behaviour\", \"crisis\", \"form\", \"budget\", \"simply\", \"range\", \"similar\", \"partner\", \"strike\", \"incredible\", \"offer\", \"extra\", \"search\", \"strength\", \"have\", \"much\", \"never\", \"even\", \"keep\", \"use\", \"risk\", \"public\", \"sort\", \"often\", \"season\", \"large\", \"brilliant\", \"buy\", \"wish\", \"policy\", \"pass\", \"vote\", \"laugh\", \"record\", \"sick\", \"political\", \"leg\", \"personal\", \"least\", \"shape\", \"involve\", \"alive\", \"common\", \"memory\", \"play\", \"country\", \"ask\", \"next\", \"game\", \"player\", \"able\", \"school\", \"virus\", \"situation\", \"evidence\", \"pretty\", \"obviously\", \"completely\", \"control\", \"serious\", \"begin\", \"club\", \"receive\", \"role\", \"key\", \"sad\", \"yet\", \"ready\", \"response\", \"return\", \"slow\", \"tour\", \"truth\", \"rise\", \"would\", \"take\", \"call\", \"step\", \"open\", \"economy\", \"ill\", \"sometimes\", \"disease\", \"affect\", \"space\", \"imagine\", \"couple\", \"flight\", \"respect\", \"less\", \"grant\", \"president\", \"movie\", \"dinner\", \"appropriate\", \"wake\", \"fine\", \"potentially\", \"suffer\", \"cash\", \"bottle\", \"air\", \"essential\", \"bank\", \"love\", \"give\", \"support\", \"world\", \"woman\", \"care\", \"little\", \"job\", \"watch\", \"sit\", \"different\", \"kind\", \"expect\", \"absolutely\", \"hold\", \"sure\", \"safe\", \"beautiful\", \"approach\", \"rest\", \"border\", \"symptom\", \"longer\", \"wait\", \"carry\", \"currently\", \"light\", \"leader\", \"special\", \"fly\", \"look\", \"good\", \"always\", \"first\", \"person\", \"night\", \"act\", \"course\", \"full\", \"wear\", \"consider\", \"australian\", \"nee\", \"increase\", \"room\", \"major\", \"walk\", \"stage\", \"require\", \"voice\", \"choose\", \"treat\", \"certainly\", \"terrible\", \"sport\", \"wonderful\", \"fail\", \"exercise\", \"sleep\", \"lovely\", \"family\", \"show\", \"change\", \"talk\", \"moment\", \"part\", \"face\", \"enough\", \"understand\", \"share\", \"impact\", \"else\", \"break\", \"death\", \"member\", \"travel\", \"force\", \"natural\", \"report\", \"dog\", \"growth\", \"add\", \"shop\", \"violence\", \"actor\", \"war\", \"struggle\", \"favourite\", \"candidate\", \"route\", \"many\", \"end\", \"government\", \"last\", \"place\", \"continue\", \"issue\", \"line\", \"difficult\", \"patient\", \"position\", \"remain\", \"include\", \"cause\", \"small\", \"hospital\", \"likely\", \"doctor\", \"parent\", \"infection\", \"catch\", \"responsibility\", \"listen\", \"forget\", \"supply\", \"phone\", \"pick\", \"emergency\", \"politic\", \"low\", \"can\", \"still\", \"let\", \"away\", \"lose\", \"pay\", \"human\", \"cut\", \"sense\", \"matter\", \"relationship\", \"totally\", \"stuff\", \"build\", \"top\", \"program\", \"tough\", \"positive\", \"trust\", \"opportunity\", \"cool\", \"certain\", \"dance\", \"baby\", \"word\", \"adult\", \"block\", \"wife\", \"conversation\", \"fill\", \"mean\", \"man\", \"month\", \"young\", \"state\", \"stop\", \"already\", \"speak\", \"level\", \"grow\", \"create\", \"strong\", \"bed\", \"quickly\", \"sound\", \"company\", \"society\", \"worker\", \"almost\", \"history\", \"access\", \"reality\", \"responsible\", \"critical\", \"damage\", \"extraordinary\", \"skill\", \"minister\", \"duty\", \"deep\", \"try\", \"number\", \"story\", \"there\", \"whole\", \"better\", \"girl\", \"other\", \"idea\", \"miss\", \"hopefully\", \"best\", \"body\", \"suggest\", \"sell\", \"potential\", \"poor\", \"direct\", \"ability\", \"contact\", \"transmission\", \"treatment\", \"fear\", \"cope\", \"flood\", \"authority\", \"recovery\", \"recover\", \"handle\", \"ahead\", \"may\", \"week\", \"do\", \"possible\", \"one\", \"must\", \"plan\", \"second\", \"amazing\", \"question\", \"actually\", \"spread\", \"focus\", \"hell\", \"condition\", \"house\", \"doubt\", \"medical\", \"simple\", \"economic\", \"fantastic\", \"proud\", \"answer\", \"event\", \"expert\", \"international\", \"nature\", \"culture\", \"self\", \"particular\"], \"Freq\": [1994.0, 1961.0, 2479.0, 2383.0, 1880.0, 2169.0, 1598.0, 1732.0, 1478.0, 1302.0, 1315.0, 1544.0, 1127.0, 1392.0, 1131.0, 1025.0, 1022.0, 1099.0, 935.0, 903.0, 1151.0, 896.0, 885.0, 946.0, 851.0, 824.0, 797.0, 745.0, 890.0, 733.0, 2478.8281115093605, 2382.5080534265576, 2168.420842010645, 1543.2945164865564, 1391.4139750309632, 1150.7727016203457, 890.0380281718988, 637.20580809569, 524.222502552668, 352.4383785133445, 339.0493981463079, 197.1396670568895, 178.44757524288437, 157.4712720734233, 156.3123217297834, 149.27699069690155, 130.98784568884938, 126.74174869313521, 126.5900907065786, 125.49396490084399, 123.19352480631832, 120.48284010598202, 99.80710923551888, 96.43648692043043, 84.76209756650516, 83.25983333390799, 80.34827249298768, 75.98402019804311, 74.03392582392325, 54.07880602828226, 1879.3941912849975, 1731.40315896786, 1098.6562765805725, 945.5573452041847, 495.39617800204655, 423.82288687613516, 380.43570752179954, 254.59682478678997, 247.62244973291405, 204.43376661422775, 201.50914930180423, 141.7253522362074, 133.5687662433966, 132.63710722212141, 106.08059977590216, 105.49482492953793, 105.38423344785853, 96.42517393727171, 94.28182765239015, 92.47208110884635, 91.51147629884836, 86.77579873481767, 79.06273447918404, 78.48455766551315, 76.21733755252319, 75.0676535199646, 74.31905466459436, 73.53974788324327, 70.86585933379567, 68.60340772843952, 1130.4343048341648, 733.0736260829215, 709.6416511775149, 590.8716245608507, 443.46137281663516, 436.4525446646452, 422.2393349471851, 409.8588328159106, 257.8516645962141, 241.04319717649594, 236.89957699456676, 221.59003095815987, 203.4487708247732, 191.7788727290238, 184.21521998070514, 178.3037630707066, 170.58691819080312, 169.14858684755976, 162.709448550176, 126.4074176319134, 125.77205720592919, 124.65105914124821, 115.93626619457348, 115.61725116606357, 106.3040022083373, 102.12852286131805, 97.71638719126169, 97.16584929322585, 92.38833286621085, 90.01994676002238, 347.91639521067606, 332.68715800199664, 275.4073267959267, 226.2140111308634, 218.08036870502193, 197.71067434582991, 187.29743601864132, 183.52179452429468, 182.2511718550578, 181.81997909364154, 165.11879664858807, 161.30476072313138, 139.76159477500468, 134.6771590503598, 134.48394084862844, 133.34178250153045, 127.16595214859824, 123.83952549823904, 121.1610226011611, 118.91658951521849, 116.91251164629878, 99.47549334422452, 99.02121327185843, 98.23688291834061, 98.07261756202153, 97.0821425439501, 93.9642817373095, 92.82389622014405, 83.25696638091425, 82.76779195024776, 1597.9549015515368, 850.2417612170242, 744.5344049758046, 558.6051764814465, 293.14914915941273, 277.57820059668757, 213.96947092775912, 198.1316726637765, 191.97772264745328, 152.32404924688592, 143.19894666463512, 115.10273653381064, 114.71529224713306, 113.27058456956345, 113.11853354241568, 106.90327566423083, 99.59150071889414, 93.21885164912334, 91.01857510256674, 90.04706147644723, 74.5262401159019, 74.1130461309408, 72.64712145495868, 72.03554878252903, 70.80658275750756, 70.53350616691914, 69.7669448815237, 66.16389927718744, 65.6610519564174, 65.03972035639666, 1960.6354185257592, 475.35348991732735, 461.2209310083188, 339.31040878312723, 306.3810140206309, 260.78955553288847, 252.89631278829273, 162.53203748459185, 145.89264541783018, 140.78097771617595, 113.22310850587738, 112.0103660601888, 109.84393848362721, 105.08253975398499, 95.89187567337028, 89.36720311300641, 86.97448088753089, 85.09549505307582, 84.52612637054398, 80.69126373912563, 77.90953550724853, 75.59948094962648, 72.34948873270582, 72.14523352420234, 71.7589157365414, 68.69579425472423, 68.4475145227641, 65.3801284586433, 63.96949061606743, 60.55894651149307, 1024.9307081262482, 1021.4352073856047, 796.5632145224222, 404.7310136803975, 317.0882249248082, 272.4718939190781, 250.30628383377, 221.03434345604788, 212.82248175360988, 203.73488472389607, 188.48348162119248, 188.48036833070535, 153.5904267374068, 149.8221116800515, 147.63347825782125, 146.29476334835567, 126.15448578802835, 111.41252665950168, 108.77862416606035, 96.96421543937423, 85.6826199459618, 81.4829966734792, 75.99679631696877, 73.8356391518207, 72.7850113048528, 70.92676849290292, 68.5142865475816, 66.83709919985728, 63.496910535590544, 58.265241256846245, 1315.0682286660126, 884.7252600733204, 500.43603281677144, 492.9757972017309, 331.95293065461817, 301.86821695099206, 266.3359495043276, 259.26471799633407, 219.2545991870681, 211.7958986798979, 202.5174152352706, 163.5248008996199, 138.98643193160063, 121.90972681189368, 115.34667430422456, 106.95333600082073, 102.10746681598224, 100.81620791606804, 96.10010392563785, 93.47747900372819, 92.7959785521422, 89.62367813804546, 83.85135192170016, 76.7406059598538, 74.79953978476571, 68.44602950140059, 63.27902643754286, 61.469017667918514, 58.83526807188504, 55.97279226110438, 1477.8828726154525, 895.8488015677864, 409.4865230433523, 365.8919039289553, 292.42413256672967, 264.08341603613917, 241.99551519209064, 232.05448506875038, 204.38056951100452, 175.39600106954316, 169.022862579589, 166.73049336711625, 139.63833168883272, 138.70502141948776, 120.57408111604408, 119.37897724352425, 102.10579928473362, 89.62433705033601, 87.03103494840221, 84.6755703402242, 83.8774755567031, 79.51308685930043, 76.33720781028077, 74.0782890343433, 71.76600158538103, 67.87035958272945, 64.83517668159155, 61.14365060800214, 60.12554500713616, 57.4460967744639, 1301.7516035320982, 678.1377591024956, 618.539105498415, 550.7267240578309, 496.9410491635054, 322.0832591283642, 207.95897603058586, 193.18002847655117, 183.08904296338628, 152.2341308908711, 138.94542857087154, 129.46136713541264, 114.76294078246585, 110.97274396547346, 101.44020586495523, 101.32927957190496, 95.37599648520155, 83.3315756788534, 79.99846340517661, 72.83078568170579, 70.22557244025968, 69.0430810081358, 61.762225111546854, 61.4395749816553, 60.69267630023275, 59.13798866567804, 58.81310549990328, 58.363596318824364, 56.71363719763262, 56.49177047839359, 540.8868064221323, 485.6598246577366, 392.68273567490326, 382.9010223452354, 343.13442585861503, 336.5078909137691, 320.8719008370939, 268.219113065494, 249.48310323904545, 168.81368342168034, 146.44279975592625, 144.1145625377103, 127.44273918262972, 123.96424762838653, 120.40841833288152, 115.42967532748919, 114.63003367471262, 113.6783933280933, 104.86467953440473, 104.15328796698986, 100.18150249869245, 97.18063585159082, 94.14459788004415, 93.09236810511939, 90.83921154502664, 81.66795526324448, 70.72842357099806, 66.5587236225299, 66.40071381264241, 65.96969487427621, 1993.7786963108813, 1126.8545543229664, 262.6862406047143, 191.57666711672942, 176.73179306847516, 170.27165307823321, 139.77515849509544, 132.82856985647763, 115.71386373669212, 107.99987331534261, 102.88520954751905, 100.5482578672971, 95.88149214029904, 94.3364576591073, 92.44301802244463, 92.13442848847245, 83.38870377125475, 81.46297396103432, 76.00095306024451, 68.72850329210412, 67.95828062060436, 67.62652840422736, 65.42153983964764, 63.991552375168226, 63.021868398518855, 58.600584630091035, 56.08318378865869, 55.51838737859058, 55.33051895674146, 55.26080930124406, 823.7471291807485, 596.6616589817488, 529.9636510106728, 435.63761655911895, 375.55628425989624, 317.9039156050503, 307.4959829729955, 261.84062104639685, 210.1062326751071, 204.36267945960415, 202.05620960929832, 173.09990875804357, 170.0860605538857, 167.01645857090134, 151.1554773309208, 121.53380539917242, 121.43288191953273, 117.2427021018458, 110.6096841748217, 105.59540866629675, 103.20881789382814, 99.98758391236319, 97.93110121036614, 92.31069986632353, 81.30770989484267, 73.99716930552991, 66.45548360316262, 64.59173531659414, 62.5393016185348, 59.82863058168253, 934.1124469864079, 902.559167460038, 603.7746039328807, 548.2786701356107, 249.11852078810213, 220.31026531699868, 201.5800002376743, 156.6124848714304, 150.8786460884206, 136.66068658701406, 136.43149121843686, 122.84741424584429, 108.56309297734903, 108.17027844964225, 102.97917072870672, 101.46784709517765, 94.85477292238618, 90.99039171611669, 88.07035791592494, 87.08287625391867, 86.1121233989509, 83.79438913968508, 81.95279207882905, 75.12468042858261, 74.963007309973, 73.8988489734431, 73.69443884112118, 71.04991260316501, 65.0104517272129, 62.43347898299414, 472.77046247582155, 403.38843638730384, 377.66293679665085, 357.24197439219273, 324.5865649451162, 320.6190767060296, 222.52350592746018, 202.50348466163848, 170.79796457713076, 156.42191507063345, 156.31809402976947, 154.09284944250686, 149.40305464035924, 148.1006127068723, 130.20010938984575, 109.37615562790094, 90.06932978659837, 88.45618186528165, 88.09587929696701, 85.43373392343341, 80.07362814997835, 76.0817159344643, 70.42823745495265, 69.5134655339347, 65.55466733034812, 65.10435505022906, 63.56752886507353, 63.52444449425612, 63.07094203957757, 57.912744540775535, 569.3546125309341, 446.88290420179453, 396.8827063190481, 313.6891565825652, 301.47394111974893, 255.27129780773942, 252.45671746977635, 160.82143157567373, 150.63300686908985, 149.125320973871, 148.55956072882498, 147.9941063093116, 135.9452344507814, 126.26768280129134, 121.2270493822843, 118.39416198813225, 118.12321755653525, 115.08061879854036, 100.7489887081256, 97.17338701769013, 96.6927227270966, 86.50917423872735, 80.35304218947628, 79.13001190390038, 75.23049000349458, 68.50392537467133, 67.73097257884976, 65.28441504120744, 65.01033589790104, 61.46101396538699, 632.2918553869785, 567.1071954629746, 411.70755108363335, 320.8862133719351, 223.3774639384204, 170.59326329947487, 145.60228532629367, 136.62206112293245, 135.19545931990297, 120.2125889565221, 115.34404704349483, 113.18750216542483, 105.87235426553121, 105.67658779452323, 105.38649364915412, 102.09246653452746, 101.43467533438573, 101.10031218152378, 98.23776748451809, 94.8411783297709, 87.84286768089224, 84.54699877733445, 82.72052229766815, 75.463394878677, 75.12887480209444, 74.24304039936227, 72.42295649652424, 68.40823654722873, 66.87369600186268, 61.04839016439643, 369.9507114775106, 347.4150127058017, 246.33813409973138, 221.49714487680646, 215.14343111388035, 214.27128089337006, 208.7954579552096, 188.75127872869498, 188.05441153472697, 173.1168889868452, 172.29875558208218, 160.9538945306667, 131.304792483179, 125.5317878682294, 117.02932863481868, 116.29297451609995, 105.26933594884233, 102.51842703820655, 100.84490305840754, 94.1381421337781, 90.29434541753693, 74.85944978175827, 69.16194870752298, 62.16390076612369, 59.719870937205535, 58.403602273924164, 58.2148799090299, 57.848498815549846, 56.747766328281955, 55.81448840229004, 606.1241501095035, 278.77564028133617, 213.05494084008942, 209.54223739710642, 195.95290397146653, 155.0033820710543, 154.38017028684695, 149.8048382011403, 141.4678137994648, 112.15819862195997, 107.06449913802875, 101.61064474654954, 95.07511891379363, 89.03792116467703, 84.88304099174869, 83.10878312280339, 76.58128391527568, 73.73212779996013, 72.1366667059818, 71.91364174680393, 71.40748945525544, 69.28958926082719, 68.13320247297911, 66.3357756062849, 64.74160686903585, 63.86241502905414, 62.047880006260044, 58.975695039125874, 58.35208620556194, 57.91887032376169, 618.2268508850459, 417.51069797085677, 323.54417268450413, 238.52921370258622, 199.12791465812157, 199.0572797420328, 189.80635446919393, 177.19013597328828, 170.31701670694414, 151.95997852085358, 146.69621405439688, 125.64698595650282, 118.80616529875837, 110.93544721043173, 110.6946015534583, 108.90649544117048, 105.1866337301356, 92.38491771745821, 91.95791994625694, 89.91325783804876, 84.22245709465807, 82.63374136750483, 79.15103646424946, 70.8811294448869, 70.80070637154246, 64.97870889565195, 64.55400606612037, 62.44598662530618, 61.98293208599243, 60.55249802372934], \"Total\": [1994.0, 1961.0, 2479.0, 2383.0, 1880.0, 2169.0, 1598.0, 1732.0, 1478.0, 1302.0, 1315.0, 1544.0, 1127.0, 1392.0, 1131.0, 1025.0, 1022.0, 1099.0, 935.0, 903.0, 1151.0, 896.0, 885.0, 946.0, 851.0, 824.0, 797.0, 745.0, 890.0, 733.0, 2479.7265319090066, 2383.4064738262036, 2169.3192624102912, 1544.192936886203, 1392.3123954306097, 1151.6711220199923, 890.9364485715453, 638.1042284953365, 525.1209229523145, 353.33679891299084, 339.94781854595425, 198.03808745653595, 179.34599564253082, 158.3696924866154, 157.21074212942986, 150.175411096548, 131.88626608849583, 127.64016909278165, 127.48851110622503, 126.39238530049043, 124.09194520596476, 121.38126050562846, 100.70552963516532, 97.33490732007687, 85.66051797666086, 84.15825373355443, 81.24669289263412, 76.88244066097062, 74.9323462235697, 54.977226427928706, 1880.292861116726, 1732.3018287995885, 1099.554946412301, 946.4560150359132, 496.29484783377495, 424.72155670786356, 381.33437735352794, 255.49549461851845, 248.52111956464253, 205.33243644595623, 202.4078191335327, 142.6240220679359, 134.46743607512508, 133.5357770538499, 106.97926960763064, 106.39349476126641, 106.28290327958702, 97.32384376900019, 95.18049748411863, 93.37075094493363, 92.41014613057685, 87.67446856654615, 79.96140431091253, 79.38322751785942, 77.11600738425167, 75.96632335169308, 75.21772449632284, 74.43841771497175, 71.76452919130969, 69.502077560168, 1131.333403637391, 733.972724886148, 710.5407499807413, 591.7707233640772, 444.3604716198615, 437.35164346787155, 423.1384337504115, 410.75793161913697, 258.7507633994405, 241.94229597972236, 237.79867579779318, 222.4891297613863, 204.34786962799961, 192.6779715322502, 185.11431878393157, 179.20286187393302, 171.48601699402954, 170.04768565078618, 163.60854735340243, 127.30651643513984, 126.67115600915562, 125.55015794447465, 116.83536499779991, 116.51634996929, 107.20310101156373, 103.02762166454448, 98.61548599448813, 98.06494809645228, 93.28743166943728, 90.91904556324882, 348.81461091642575, 333.5853737077463, 276.30554250167637, 227.11222683661316, 218.97858441077167, 198.60889005157966, 188.19565172439107, 184.42001023004443, 183.14938756080755, 182.71819479939128, 166.01701235433782, 162.20297642888113, 140.65981048075443, 135.57537475610954, 135.38215655437818, 134.2399982072802, 128.06416785434803, 124.7377412039888, 122.05923830691086, 119.81480522096825, 117.81072735204854, 100.37370904997428, 99.91942897760819, 99.13509862409038, 98.9708332677713, 97.98035824969986, 94.86249744305927, 93.72211192589381, 84.15518208666401, 83.66600765599752, 1598.851356872277, 851.1382165377644, 745.4308602965448, 559.5016318021867, 294.04560448015286, 278.4746559174277, 214.8659262484993, 199.0281279845167, 192.87417796819346, 153.2205045676261, 144.0954019853753, 115.99919185455084, 115.61174756787327, 114.16703989030366, 114.01498886315588, 107.79973098497103, 100.48795609807773, 94.11530696986354, 91.91503042330694, 90.94351679718743, 75.4226954366421, 75.00950145582902, 73.54357677569888, 72.93200410326924, 71.70303807824776, 71.42996148765934, 70.6634002022639, 67.06035459792764, 66.5575072771576, 65.93617573558025, 1961.5337953590026, 476.2518667505709, 462.1193078415624, 340.2087856163708, 307.2793908538745, 261.68793236613203, 253.79468962153638, 163.4304143178355, 146.79102225107383, 141.6793545494196, 114.12148533912101, 112.90874289343243, 110.74231531687084, 105.98091658722862, 96.79025250661391, 90.26557994625004, 87.87285772077452, 85.99387188631945, 85.42450320378761, 81.58964057236926, 78.80791234049217, 76.4978577876142, 73.24786556594945, 73.04361035744597, 72.65729258469959, 69.59417108796787, 69.34589135600773, 66.27850529188693, 64.86786750776636, 61.4573233447367, 1025.8286974905136, 1022.3331967498705, 797.4612038866879, 405.6290030446632, 317.98621428907387, 273.3698832833438, 251.2042731980357, 221.93233282031358, 213.72047111787558, 204.63287408816177, 189.38147098545818, 189.37835769497104, 154.4884161016725, 150.7201010443172, 148.53146762208695, 147.19275271262137, 127.05247515229405, 112.31051602376738, 109.67661353032605, 97.86220481432318, 86.5806093102275, 82.3809860377449, 76.89478568123447, 74.7336285160864, 73.6830006691185, 71.82475785716862, 69.4122759118473, 67.73508862262365, 64.39489989985624, 59.16323067143182, 1315.9656523289234, 885.6226837362314, 501.33345647968224, 493.8732208646417, 332.85035431752897, 302.76564061390286, 267.23337316723837, 260.16214165924487, 220.15202284997892, 212.69332234280873, 203.41483889818142, 164.42222456253072, 139.88385559451146, 122.8071504748045, 116.24409796713539, 107.85075966373155, 103.00489047889306, 101.71363157897886, 96.99752758854868, 94.37490266663902, 93.69340221505303, 90.52110180095629, 84.74877558461098, 77.63802962276462, 75.69696344767654, 69.34345316431141, 64.17645010045366, 62.36644133082933, 59.73269173479586, 56.8702159240152, 1478.7791792802238, 896.745108232558, 410.3828297081238, 366.7882105937268, 293.32043923150115, 264.97972270091066, 242.89182185686212, 232.95079173352187, 205.276876175776, 176.29230773431465, 169.9191692443605, 167.62680003188774, 140.5346383536042, 139.60132808425925, 121.47038778081559, 120.27528390829575, 103.00210594950512, 90.52064371510751, 87.92734161317371, 85.57187702767465, 84.7737822214746, 80.40939352407193, 77.23351453360522, 74.9745956991148, 72.66230825302374, 68.76666624750095, 65.73148334636305, 62.03995727277363, 61.02185172642783, 58.34240343923539, 1302.649196365849, 679.0353519362465, 619.4366983321659, 551.6243168915818, 497.8386419972562, 322.980851962115, 208.85656886433674, 194.07762131030205, 183.98663579713715, 153.131723724622, 139.84302140462242, 130.35895996916352, 115.66053362217185, 111.87033679922432, 102.3377986987061, 102.22687240565583, 96.27358931895242, 84.22916851260426, 80.89605623892747, 73.72837851545665, 71.12316527401055, 69.94067384188666, 62.65981794529772, 62.33716781540616, 61.59026913398361, 60.0355814994289, 59.71069833365414, 59.26118915257523, 57.611230031383485, 57.389363312144454, 541.7833481889463, 486.55636642455056, 393.57927744171724, 383.7975641120494, 344.030967625429, 337.40443268058306, 321.7684426039079, 269.115654832308, 250.37964500585943, 169.71022518849432, 147.33934152274023, 145.01110430452428, 128.33928095252764, 124.8607893952005, 121.30496009969549, 116.32621709430316, 115.52657544152659, 114.57493509490727, 105.7612213012187, 105.04982973380383, 101.07804426550642, 98.07717761840479, 95.04113964685811, 93.98890987193336, 91.73575331184061, 82.56449703005845, 71.62496533781203, 67.45526539717189, 67.29725557945638, 66.86623664109018, 1994.6786474718892, 1127.7545054839743, 263.58619176572233, 192.47661827773743, 177.63174422948316, 171.17160424338925, 140.67510965610344, 133.72852101748563, 116.61381489770011, 108.8998244763506, 103.78516070852704, 101.44820902830509, 96.78144330130704, 95.23640882011529, 93.34296918345262, 93.03437964948044, 84.28865495297164, 82.36292512204231, 76.9009042212525, 69.62845448199391, 68.85823178161235, 68.52647956523535, 66.32149100065563, 64.89150359945728, 63.92181955952685, 59.5005358006529, 56.98313499585486, 56.41833853959858, 56.230470117749455, 56.16076046225206, 824.6458515756407, 597.560381376641, 530.862373405565, 436.536338954011, 376.4550066547883, 318.80263799994236, 308.3947053678875, 262.7393434412889, 211.00495506999917, 205.26140185449623, 202.9549320041904, 173.99863115293564, 170.98478294877776, 167.9151809657934, 152.05419972581288, 122.43252779406447, 122.33160431442478, 118.14142449673784, 111.50840656971374, 106.4941310611888, 104.10754028872019, 100.88630630725524, 98.82982360525818, 93.20942226121558, 82.20643228973472, 74.8958917591024, 67.35420599805467, 65.49045771148619, 63.43802401342686, 60.72735297657459, 935.0104323290715, 903.4571528027016, 604.6725892755443, 549.1766554782743, 250.01650613076572, 221.20825065966227, 202.4779855803379, 157.510470214094, 151.77663143108418, 137.55867192967764, 137.32947656110045, 123.74539958850787, 109.4610783200126, 109.06826379230583, 103.8771560713703, 102.36583243784122, 95.75275826504975, 91.88837705878026, 88.96834325858852, 87.98086159658224, 87.01010874161447, 84.69237448234865, 82.85077742149262, 76.02266577124618, 75.86099265263657, 74.79683431610667, 74.59242418378476, 71.94789794582859, 65.90843706987647, 63.33146432565771, 473.6672641558719, 404.2852380673542, 378.5597384767012, 358.1387760722431, 325.4833666251666, 321.51587838608, 223.4203076075106, 203.4002863416889, 171.6947662571812, 157.31871675068388, 157.2148957098199, 154.9896511225573, 150.29985632040967, 148.99741438692274, 131.09691106989618, 110.27295730795133, 90.96613146664876, 89.35298358200507, 88.9926809770174, 86.3305356034838, 80.97042983002873, 76.97851761451469, 71.32503913500304, 70.4102672139851, 66.45146901495261, 66.00115673027945, 64.46433054512391, 64.42124618369827, 63.96774371962796, 58.809546279953125, 570.2547389322369, 447.7830306030973, 397.7828327203509, 314.589282983868, 302.3740675210517, 256.1714242090422, 253.3568438710792, 161.72155797697658, 151.5331332703927, 150.02544737517385, 149.45968713012783, 148.89423271061446, 136.84536085208427, 127.16780920259414, 122.1271757835871, 119.29428838943505, 119.02334395783805, 115.98074519984316, 101.6491151094284, 98.07351341899293, 97.5928491283994, 87.40930064003015, 81.25316859077908, 80.03013830520318, 76.13061644718334, 69.40405177597412, 68.63109898015256, 66.18454144251024, 65.91046229920384, 62.361140366689796, 633.1897951502087, 568.0051352262049, 412.6054908468635, 321.7841531351653, 224.27540370165062, 171.4912030627051, 146.5002250895239, 137.52000088616268, 136.0933990831332, 121.11052871975228, 116.24198680672501, 114.08544192865502, 106.7702940287614, 106.57452755775341, 106.2844334123843, 102.9904063532456, 102.33261509761591, 101.99825194475396, 99.13570724774827, 95.73911809300108, 88.74080744412242, 85.44493854056464, 83.61846206089834, 76.36133464190718, 76.02681456532463, 75.14098021803933, 73.32089630576193, 69.30617631505955, 67.77163576509287, 61.94632992762662, 370.850759277189, 348.3150605054801, 247.23818189940982, 222.3971926764849, 216.0434789135588, 215.1713286930485, 209.69550575488805, 189.65132652837343, 188.9544593344054, 174.01693678652364, 173.19880338176063, 161.85394233034515, 132.20484028700548, 126.43183566790782, 117.9293764344971, 117.19302231577836, 106.16938374852074, 103.41847483788497, 101.74495085808596, 95.03818993345652, 91.19439321721535, 75.75949758143669, 70.0619965072014, 63.06394856580211, 60.61991873688395, 59.30365007360258, 59.11492773565584, 58.74854664541236, 57.64781412796037, 56.71453626144812, 607.0221181627151, 279.6736083345476, 213.95290889330093, 210.44020545031793, 196.85087202467804, 155.9013501242658, 155.27813834005846, 150.70280625435183, 142.36578185267632, 113.05616667517145, 107.96246719607791, 102.50861279976102, 95.97308696700512, 89.93588921788852, 85.78100904496017, 84.00675117601487, 77.47925196848716, 74.63009586967269, 73.03463475919328, 72.81160980001542, 72.30545750846693, 70.18755731403867, 69.03117052619059, 67.23374367027594, 65.63957492224733, 64.76038308226563, 62.94584805947154, 59.87366309233737, 59.25005426637274, 58.81683837697318, 619.1230535877307, 418.4069006735416, 324.44037538718896, 239.42541640527105, 200.0241173608064, 199.95348244471762, 190.70255717187877, 178.0863386759731, 171.21321940962898, 152.8561812235384, 147.5924167570817, 126.54318865918765, 119.7023680014432, 111.83164992899346, 111.59080425614313, 109.80269814385531, 106.08283649234117, 93.28112042014304, 92.85412264894177, 90.8094605407336, 85.1186597973429, 83.52994407018966, 80.04723916693429, 71.77733214757173, 71.69690907422729, 65.87491159833678, 65.4502087688052, 63.34218932799102, 62.87913478867727, 61.4487007538644], \"Category\": [\"Default\", \"Default\", \"Default\", \"Default\", \"Default\", \"Default\", \"Default\", \"Default\", \"Default\", \"Default\", \"Default\", \"Default\", \"Default\", \"Default\", \"Default\", \"Default\", \"Default\", \"Default\", \"Default\", \"Default\", \"Default\", \"Default\", \"Default\", \"Default\", \"Default\", \"Default\", \"Default\", \"Default\", \"Default\", \"Default\", \"Topic1\", \"Topic1\", \"Topic1\", \"Topic1\", \"Topic1\", \"Topic1\", \"Topic1\", \"Topic1\", \"Topic1\", \"Topic1\", \"Topic1\", \"Topic1\", \"Topic1\", \"Topic1\", \"Topic1\", \"Topic1\", \"Topic1\", \"Topic1\", \"Topic1\", \"Topic1\", \"Topic1\", \"Topic1\", \"Topic1\", \"Topic1\", \"Topic1\", \"Topic1\", \"Topic1\", \"Topic1\", \"Topic1\", \"Topic1\", \"Topic2\", \"Topic2\", \"Topic2\", \"Topic2\", \"Topic2\", \"Topic2\", \"Topic2\", \"Topic2\", \"Topic2\", \"Topic2\", \"Topic2\", \"Topic2\", \"Topic2\", \"Topic2\", \"Topic2\", \"Topic2\", \"Topic2\", \"Topic2\", \"Topic2\", \"Topic2\", \"Topic2\", \"Topic2\", \"Topic2\", \"Topic2\", \"Topic2\", \"Topic2\", \"Topic2\", \"Topic2\", \"Topic2\", \"Topic2\", \"Topic3\", \"Topic3\", \"Topic3\", \"Topic3\", \"Topic3\", \"Topic3\", \"Topic3\", \"Topic3\", \"Topic3\", \"Topic3\", \"Topic3\", \"Topic3\", \"Topic3\", \"Topic3\", \"Topic3\", \"Topic3\", \"Topic3\", \"Topic3\", \"Topic3\", \"Topic3\", \"Topic3\", \"Topic3\", \"Topic3\", \"Topic3\", \"Topic3\", \"Topic3\", \"Topic3\", \"Topic3\", \"Topic3\", \"Topic3\", \"Topic4\", \"Topic4\", \"Topic4\", \"Topic4\", \"Topic4\", \"Topic4\", \"Topic4\", \"Topic4\", \"Topic4\", \"Topic4\", \"Topic4\", \"Topic4\", \"Topic4\", \"Topic4\", \"Topic4\", \"Topic4\", \"Topic4\", \"Topic4\", \"Topic4\", \"Topic4\", \"Topic4\", \"Topic4\", \"Topic4\", \"Topic4\", \"Topic4\", \"Topic4\", \"Topic4\", \"Topic4\", \"Topic4\", \"Topic4\", \"Topic5\", \"Topic5\", \"Topic5\", \"Topic5\", \"Topic5\", \"Topic5\", \"Topic5\", \"Topic5\", \"Topic5\", \"Topic5\", \"Topic5\", \"Topic5\", \"Topic5\", \"Topic5\", \"Topic5\", \"Topic5\", \"Topic5\", \"Topic5\", \"Topic5\", \"Topic5\", \"Topic5\", \"Topic5\", \"Topic5\", \"Topic5\", \"Topic5\", \"Topic5\", \"Topic5\", \"Topic5\", \"Topic5\", \"Topic5\", \"Topic6\", \"Topic6\", \"Topic6\", \"Topic6\", \"Topic6\", \"Topic6\", \"Topic6\", \"Topic6\", \"Topic6\", \"Topic6\", \"Topic6\", \"Topic6\", \"Topic6\", \"Topic6\", \"Topic6\", \"Topic6\", \"Topic6\", \"Topic6\", \"Topic6\", \"Topic6\", \"Topic6\", \"Topic6\", \"Topic6\", \"Topic6\", \"Topic6\", \"Topic6\", \"Topic6\", \"Topic6\", \"Topic6\", \"Topic6\", \"Topic7\", \"Topic7\", \"Topic7\", \"Topic7\", \"Topic7\", \"Topic7\", \"Topic7\", \"Topic7\", \"Topic7\", \"Topic7\", \"Topic7\", \"Topic7\", \"Topic7\", \"Topic7\", \"Topic7\", \"Topic7\", \"Topic7\", \"Topic7\", \"Topic7\", \"Topic7\", \"Topic7\", \"Topic7\", \"Topic7\", \"Topic7\", \"Topic7\", \"Topic7\", \"Topic7\", \"Topic7\", \"Topic7\", \"Topic7\", \"Topic8\", \"Topic8\", \"Topic8\", \"Topic8\", \"Topic8\", \"Topic8\", \"Topic8\", \"Topic8\", \"Topic8\", \"Topic8\", \"Topic8\", \"Topic8\", \"Topic8\", \"Topic8\", \"Topic8\", \"Topic8\", \"Topic8\", \"Topic8\", \"Topic8\", \"Topic8\", \"Topic8\", \"Topic8\", \"Topic8\", \"Topic8\", \"Topic8\", \"Topic8\", \"Topic8\", \"Topic8\", \"Topic8\", \"Topic8\", \"Topic9\", \"Topic9\", \"Topic9\", \"Topic9\", \"Topic9\", \"Topic9\", \"Topic9\", \"Topic9\", \"Topic9\", \"Topic9\", \"Topic9\", \"Topic9\", \"Topic9\", \"Topic9\", \"Topic9\", \"Topic9\", \"Topic9\", \"Topic9\", \"Topic9\", \"Topic9\", \"Topic9\", \"Topic9\", \"Topic9\", \"Topic9\", \"Topic9\", \"Topic9\", \"Topic9\", \"Topic9\", \"Topic9\", \"Topic9\", \"Topic10\", \"Topic10\", \"Topic10\", \"Topic10\", \"Topic10\", \"Topic10\", \"Topic10\", \"Topic10\", \"Topic10\", \"Topic10\", \"Topic10\", \"Topic10\", \"Topic10\", \"Topic10\", \"Topic10\", \"Topic10\", \"Topic10\", \"Topic10\", \"Topic10\", \"Topic10\", \"Topic10\", \"Topic10\", \"Topic10\", \"Topic10\", \"Topic10\", \"Topic10\", \"Topic10\", \"Topic10\", \"Topic10\", \"Topic10\", \"Topic11\", \"Topic11\", \"Topic11\", \"Topic11\", \"Topic11\", \"Topic11\", \"Topic11\", \"Topic11\", \"Topic11\", \"Topic11\", \"Topic11\", \"Topic11\", \"Topic11\", \"Topic11\", \"Topic11\", \"Topic11\", \"Topic11\", \"Topic11\", \"Topic11\", \"Topic11\", \"Topic11\", \"Topic11\", \"Topic11\", \"Topic11\", \"Topic11\", \"Topic11\", \"Topic11\", \"Topic11\", \"Topic11\", \"Topic11\", \"Topic12\", \"Topic12\", \"Topic12\", \"Topic12\", \"Topic12\", \"Topic12\", \"Topic12\", \"Topic12\", \"Topic12\", \"Topic12\", \"Topic12\", \"Topic12\", \"Topic12\", \"Topic12\", \"Topic12\", \"Topic12\", \"Topic12\", \"Topic12\", \"Topic12\", \"Topic12\", \"Topic12\", \"Topic12\", \"Topic12\", \"Topic12\", \"Topic12\", \"Topic12\", \"Topic12\", \"Topic12\", \"Topic12\", \"Topic12\", \"Topic13\", \"Topic13\", \"Topic13\", \"Topic13\", \"Topic13\", \"Topic13\", \"Topic13\", \"Topic13\", \"Topic13\", \"Topic13\", \"Topic13\", \"Topic13\", \"Topic13\", \"Topic13\", \"Topic13\", \"Topic13\", \"Topic13\", \"Topic13\", \"Topic13\", \"Topic13\", \"Topic13\", \"Topic13\", \"Topic13\", \"Topic13\", \"Topic13\", \"Topic13\", \"Topic13\", \"Topic13\", \"Topic13\", \"Topic13\", \"Topic14\", \"Topic14\", \"Topic14\", \"Topic14\", \"Topic14\", \"Topic14\", \"Topic14\", \"Topic14\", \"Topic14\", \"Topic14\", \"Topic14\", \"Topic14\", \"Topic14\", \"Topic14\", \"Topic14\", \"Topic14\", \"Topic14\", \"Topic14\", \"Topic14\", \"Topic14\", \"Topic14\", \"Topic14\", \"Topic14\", \"Topic14\", \"Topic14\", \"Topic14\", \"Topic14\", \"Topic14\", \"Topic14\", \"Topic14\", \"Topic15\", \"Topic15\", \"Topic15\", \"Topic15\", \"Topic15\", \"Topic15\", \"Topic15\", \"Topic15\", \"Topic15\", \"Topic15\", \"Topic15\", \"Topic15\", \"Topic15\", \"Topic15\", \"Topic15\", \"Topic15\", \"Topic15\", \"Topic15\", \"Topic15\", \"Topic15\", \"Topic15\", \"Topic15\", \"Topic15\", \"Topic15\", \"Topic15\", \"Topic15\", \"Topic15\", \"Topic15\", \"Topic15\", \"Topic15\", \"Topic16\", \"Topic16\", \"Topic16\", \"Topic16\", \"Topic16\", \"Topic16\", \"Topic16\", \"Topic16\", \"Topic16\", \"Topic16\", \"Topic16\", \"Topic16\", \"Topic16\", \"Topic16\", \"Topic16\", \"Topic16\", \"Topic16\", \"Topic16\", \"Topic16\", \"Topic16\", \"Topic16\", \"Topic16\", \"Topic16\", \"Topic16\", \"Topic16\", \"Topic16\", \"Topic16\", \"Topic16\", \"Topic16\", \"Topic16\", \"Topic17\", \"Topic17\", \"Topic17\", \"Topic17\", \"Topic17\", \"Topic17\", \"Topic17\", \"Topic17\", \"Topic17\", \"Topic17\", \"Topic17\", \"Topic17\", \"Topic17\", \"Topic17\", \"Topic17\", \"Topic17\", \"Topic17\", \"Topic17\", \"Topic17\", \"Topic17\", \"Topic17\", \"Topic17\", \"Topic17\", \"Topic17\", \"Topic17\", \"Topic17\", \"Topic17\", \"Topic17\", \"Topic17\", \"Topic17\", \"Topic18\", \"Topic18\", \"Topic18\", \"Topic18\", \"Topic18\", \"Topic18\", \"Topic18\", \"Topic18\", \"Topic18\", \"Topic18\", \"Topic18\", \"Topic18\", \"Topic18\", \"Topic18\", \"Topic18\", \"Topic18\", \"Topic18\", \"Topic18\", \"Topic18\", \"Topic18\", \"Topic18\", \"Topic18\", \"Topic18\", \"Topic18\", \"Topic18\", \"Topic18\", \"Topic18\", \"Topic18\", \"Topic18\", \"Topic18\", \"Topic19\", \"Topic19\", \"Topic19\", \"Topic19\", \"Topic19\", \"Topic19\", \"Topic19\", \"Topic19\", \"Topic19\", \"Topic19\", \"Topic19\", \"Topic19\", \"Topic19\", \"Topic19\", \"Topic19\", \"Topic19\", \"Topic19\", \"Topic19\", \"Topic19\", \"Topic19\", \"Topic19\", \"Topic19\", \"Topic19\", \"Topic19\", \"Topic19\", \"Topic19\", \"Topic19\", \"Topic19\", \"Topic19\", \"Topic19\", \"Topic20\", \"Topic20\", \"Topic20\", \"Topic20\", \"Topic20\", \"Topic20\", \"Topic20\", \"Topic20\", \"Topic20\", \"Topic20\", \"Topic20\", \"Topic20\", \"Topic20\", \"Topic20\", \"Topic20\", \"Topic20\", \"Topic20\", \"Topic20\", \"Topic20\", \"Topic20\", \"Topic20\", \"Topic20\", \"Topic20\", \"Topic20\", \"Topic20\", \"Topic20\", \"Topic20\", \"Topic20\", \"Topic20\", \"Topic20\"], \"logprob\": [30.0, 29.0, 28.0, 27.0, 26.0, 25.0, 24.0, 23.0, 22.0, 21.0, 20.0, 19.0, 18.0, 17.0, 16.0, 15.0, 14.0, 13.0, 12.0, 11.0, 10.0, 9.0, 8.0, 7.0, 6.0, 5.0, 4.0, 3.0, 2.0, 1.0, -2.09, -2.1296, -2.2238, -2.5639, -2.6674, -2.8573, -3.1143, -3.4484, -3.6436, -4.0406, -4.0794, -4.6216, -4.7212, -4.8463, -4.8537, -4.8997, -5.0304, -5.0634, -5.0646, -5.0733, -5.0918, -5.114, -5.3023, -5.3366, -5.4657, -5.4836, -5.5192, -5.575, -5.601, -5.9151, -1.9764, -2.0584, -2.5133, -2.6633, -3.3098, -3.4658, -3.5738, -3.9754, -4.0032, -4.1949, -4.2093, -4.5612, -4.6205, -4.6275, -4.8509, -4.8565, -4.8575, -4.9464, -4.9688, -4.9882, -4.9987, -5.0518, -5.1449, -5.1522, -5.1815, -5.1967, -5.2068, -5.2173, -5.2543, -5.2868, -2.4133, -2.8464, -2.8789, -3.0621, -3.349, -3.365, -3.3981, -3.4278, -3.8913, -3.9587, -3.976, -4.0428, -4.1282, -4.1873, -4.2275, -4.2602, -4.3044, -4.3129, -4.3517, -4.6041, -4.6092, -4.6181, -4.6906, -4.6934, -4.7773, -4.8174, -4.8616, -4.8672, -4.9176, -4.9436, -3.4425, -3.4872, -3.6762, -3.873, -3.9096, -4.0076, -4.0618, -4.0821, -4.0891, -4.0914, -4.1878, -4.2112, -4.3545, -4.3916, -4.393, -4.4015, -4.449, -4.4755, -4.4973, -4.516, -4.533, -4.6945, -4.6991, -4.7071, -4.7087, -4.7189, -4.7515, -4.7637, -4.8725, -4.8784, -1.8957, -2.5267, -2.6594, -2.9468, -3.5915, -3.6461, -3.9064, -3.9833, -4.0148, -4.2462, -4.308, -4.5264, -4.5297, -4.5424, -4.5438, -4.6003, -4.6711, -4.7373, -4.7611, -4.7719, -4.961, -4.9666, -4.9866, -4.995, -5.0122, -5.0161, -5.027, -5.0801, -5.0877, -5.0972, -1.6887, -3.1057, -3.1359, -3.4428, -3.5449, -3.706, -3.7368, -4.1789, -4.2869, -4.3225, -4.5404, -4.5511, -4.5707, -4.615, -4.7065, -4.777, -4.8041, -4.826, -4.8327, -4.8791, -4.9142, -4.9443, -4.9882, -4.9911, -4.9964, -5.04, -5.0437, -5.0895, -5.1113, -5.1661, -2.3279, -2.3313, -2.58, -3.2571, -3.5011, -3.6528, -3.7376, -3.862, -3.8998, -3.9435, -4.0213, -4.0213, -4.226, -4.2508, -4.2656, -4.2747, -4.4228, -4.547, -4.571, -4.6859, -4.8096, -4.8599, -4.9296, -4.9584, -4.9728, -4.9986, -5.0332, -5.058, -5.1093, -5.1953, -2.071, -2.4674, -3.0372, -3.0522, -3.4477, -3.5427, -3.6679, -3.6948, -3.8624, -3.897, -3.9418, -4.1557, -4.3183, -4.4494, -4.5047, -4.5803, -4.6266, -4.6394, -4.6873, -4.7149, -4.7223, -4.757, -4.8236, -4.9122, -4.9379, -5.0266, -5.1051, -5.1341, -5.1779, -5.2278, -1.9509, -2.4515, -3.2344, -3.347, -3.5711, -3.673, -3.7604, -3.8023, -3.9293, -4.0822, -4.1193, -4.1329, -4.3102, -4.3169, -4.457, -4.467, -4.6233, -4.7537, -4.783, -4.8105, -4.8199, -4.8734, -4.9141, -4.9442, -4.9759, -5.0317, -5.0774, -5.1361, -5.1529, -5.1984, -2.0505, -2.7026, -2.7946, -2.9107, -3.0135, -3.4472, -3.8846, -3.9583, -4.012, -4.1965, -4.2879, -4.3586, -4.4791, -4.5127, -4.6025, -4.6036, -4.6641, -4.7991, -4.84, -4.9338, -4.9702, -4.9872, -5.0987, -5.1039, -5.1161, -5.1421, -5.1476, -5.1553, -5.1839, -5.1879, -2.9186, -3.0263, -3.2388, -3.264, -3.3737, -3.3932, -3.4408, -3.62, -3.6924, -4.083, -4.2252, -4.2412, -4.3641, -4.3918, -4.4209, -4.4631, -4.4701, -4.4784, -4.5591, -4.5659, -4.6048, -4.6352, -4.667, -4.6782, -4.7027, -4.8091, -4.9529, -5.0137, -5.0161, -5.0226, -1.604, -2.1746, -3.6308, -3.9465, -4.0271, -4.0644, -4.2617, -4.3127, -4.4506, -4.5196, -4.5681, -4.5911, -4.6386, -4.6549, -4.6752, -4.6785, -4.7782, -4.8016, -4.871, -4.9716, -4.9829, -4.9878, -5.0209, -5.043, -5.0583, -5.131, -5.1749, -5.185, -5.1884, -5.1897, -2.4777, -2.8002, -2.9188, -3.1148, -3.2632, -3.4298, -3.4631, -3.6238, -3.8439, -3.8717, -3.883, -4.0377, -4.0553, -4.0735, -4.1733, -4.3914, -4.3922, -4.4273, -4.4856, -4.5319, -4.5548, -4.5865, -4.6073, -4.6664, -4.7933, -4.8875, -4.995, -5.0235, -5.0558, -5.1001, -2.3284, -2.3627, -2.7648, -2.8612, -3.65, -3.7729, -3.8618, -4.1142, -4.1515, -4.2505, -4.2521, -4.357, -4.4806, -4.4843, -4.5334, -4.5482, -4.6156, -4.6572, -4.6898, -4.7011, -4.7123, -4.7396, -4.7618, -4.8488, -4.851, -4.8653, -4.868, -4.9046, -4.9934, -5.0339, -2.9612, -3.1199, -3.1858, -3.2414, -3.3373, -3.3496, -3.7148, -3.8091, -3.9793, -4.0673, -4.0679, -4.0823, -4.1132, -4.1219, -4.2507, -4.425, -4.6192, -4.6373, -4.6414, -4.6721, -4.7369, -4.788, -4.8652, -4.8783, -4.9369, -4.9438, -4.9677, -4.9684, -4.9755, -5.0609, -2.7739, -3.0161, -3.1348, -3.37, -3.4097, -3.5761, -3.5872, -4.0381, -4.1036, -4.1136, -4.1174, -4.1212, -4.2061, -4.28, -4.3207, -4.3444, -4.3467, -4.3728, -4.5058, -4.5419, -4.5469, -4.6582, -4.732, -4.7473, -4.7978, -4.8915, -4.9029, -4.9396, -4.9439, -5.0, -2.6409, -2.7497, -3.0699, -3.3191, -3.6814, -3.9509, -4.1093, -4.173, -4.1835, -4.301, -4.3423, -4.3612, -4.428, -4.4298, -4.4326, -4.4643, -4.4708, -4.4741, -4.5028, -4.538, -4.6147, -4.6529, -4.6748, -4.7666, -4.771, -4.7829, -4.8077, -4.8647, -4.8874, -4.9786, -3.1584, -3.2213, -3.5651, -3.6714, -3.7005, -3.7045, -3.7304, -3.8314, -3.835, -3.9178, -3.9226, -3.9907, -4.1943, -4.2392, -4.3094, -4.3157, -4.4153, -4.4417, -4.4582, -4.527, -4.5687, -4.7562, -4.8353, -4.942, -4.9821, -5.0044, -5.0076, -5.014, -5.0332, -5.0497, -2.6241, -3.4007, -3.6696, -3.6862, -3.7533, -3.9877, -3.9917, -4.0218, -4.0791, -4.3112, -4.3577, -4.41, -4.4765, -4.5421, -4.5899, -4.611, -4.6928, -4.7307, -4.7526, -4.7557, -4.7627, -4.7928, -4.8097, -4.8364, -4.8607, -4.8744, -4.9032, -4.954, -4.9646, -4.9721, -2.5934, -2.986, -3.2409, -3.5458, -3.7263, -3.7267, -3.7743, -3.8431, -3.8826, -3.9967, -4.0319, -4.1868, -4.2428, -4.3113, -4.3135, -4.3298, -4.3645, -4.4943, -4.4989, -4.5214, -4.5868, -4.6059, -4.6489, -4.7593, -4.7604, -4.8462, -4.8528, -4.886, -4.8934, -4.9168], \"loglift\": [30.0, 29.0, 28.0, 27.0, 26.0, 25.0, 24.0, 23.0, 22.0, 21.0, 20.0, 19.0, 18.0, 17.0, 16.0, 15.0, 14.0, 13.0, 12.0, 11.0, 10.0, 9.0, 8.0, 7.0, 6.0, 5.0, 4.0, 3.0, 2.0, 1.0, 2.3566, 2.3566, 2.3565, 2.3564, 2.3563, 2.3562, 2.3559, 2.3555, 2.3552, 2.3544, 2.3543, 2.3524, 2.3519, 2.3513, 2.3512, 2.351, 2.3501, 2.3499, 2.3499, 2.3498, 2.3497, 2.3495, 2.348, 2.3477, 2.3464, 2.3462, 2.3458, 2.3452, 2.3449, 2.3405, 2.7469, 2.7468, 2.7465, 2.7464, 2.7455, 2.7452, 2.745, 2.7438, 2.7437, 2.743, 2.7429, 2.741, 2.7406, 2.7406, 2.7389, 2.7389, 2.7389, 2.7381, 2.7379, 2.7377, 2.7376, 2.7371, 2.7361, 2.736, 2.7356, 2.7355, 2.7353, 2.7352, 2.7348, 2.7343, 2.818, 2.8176, 2.8176, 2.8173, 2.8168, 2.8168, 2.8167, 2.8166, 2.8153, 2.8151, 2.815, 2.8148, 2.8144, 2.8141, 2.814, 2.8138, 2.8136, 2.8135, 2.8133, 2.8117, 2.8117, 2.8116, 2.8111, 2.8111, 2.8104, 2.8101, 2.8097, 2.8096, 2.8091, 2.8089, 2.9654, 2.9653, 2.9648, 2.9641, 2.9639, 2.9635, 2.9632, 2.9631, 2.9631, 2.9631, 2.9626, 2.9625, 2.9616, 2.9614, 2.9614, 2.9613, 2.961, 2.9608, 2.9606, 2.9605, 2.9604, 2.959, 2.959, 2.9589, 2.9589, 2.9588, 2.9585, 2.9584, 2.9573, 2.9572, 2.9897, 2.9892, 2.9891, 2.9887, 2.9872, 2.9871, 2.9861, 2.9858, 2.9856, 2.9844, 2.984, 2.9825, 2.9825, 2.9824, 2.9824, 2.9819, 2.9813, 2.9807, 2.9805, 2.9804, 2.9783, 2.9783, 2.978, 2.9779, 2.9777, 2.9776, 2.9775, 2.9768, 2.9767, 2.9766, 2.9923, 2.9909, 2.9908, 2.9901, 2.9898, 2.9893, 2.9892, 2.9872, 2.9866, 2.9864, 2.9848, 2.9848, 2.9846, 2.9842, 2.9834, 2.9827, 2.9825, 2.9822, 2.9822, 2.9817, 2.9813, 2.9809, 2.9804, 2.9804, 2.9803, 2.9797, 2.9797, 2.9791, 2.9788, 2.978, 3.0013, 3.0013, 3.0011, 3.0, 2.9994, 2.9989, 2.9986, 2.9981, 2.998, 2.9978, 2.9974, 2.9974, 2.9964, 2.9962, 2.9961, 2.9961, 2.9951, 2.9942, 2.994, 2.993, 2.9918, 2.9912, 2.9904, 2.9901, 2.9899, 2.9896, 2.9892, 2.9888, 2.9881, 2.9869, 3.0091, 3.0088, 3.008, 3.008, 3.0071, 3.0068, 3.0064, 3.0064, 3.0057, 3.0056, 3.0054, 3.0043, 3.0034, 3.0025, 3.0021, 3.0015, 3.0011, 3.0009, 3.0005, 3.0003, 3.0002, 2.9998, 2.9992, 2.9982, 2.9979, 2.9968, 2.9957, 2.9953, 2.9947, 2.9939, 3.0126, 3.0122, 3.011, 3.0107, 3.0101, 3.0098, 3.0095, 3.0093, 3.0088, 3.0081, 3.0079, 3.0078, 3.0068, 3.0067, 3.0058, 3.0057, 3.0044, 3.0032, 3.0029, 3.0027, 3.0026, 3.002, 3.0015, 3.0012, 3.0008, 3.0001, 2.9995, 2.9986, 2.9984, 2.9977, 3.0398, 3.0392, 3.0391, 3.0389, 3.0387, 3.0377, 3.0362, 3.0359, 3.0356, 3.0346, 3.0341, 3.0336, 3.0327, 3.0325, 3.0317, 3.0317, 3.0311, 3.0298, 3.0294, 3.0283, 3.0278, 3.0276, 3.0261, 3.026, 3.0258, 3.0255, 3.0254, 3.0253, 3.0248, 3.0248, 3.049, 3.0488, 3.0484, 3.0483, 3.0481, 3.048, 3.0479, 3.0473, 3.0471, 3.0454, 3.0446, 3.0445, 3.0437, 3.0435, 3.0433, 3.0429, 3.0429, 3.0428, 3.0422, 3.0421, 3.0418, 3.0415, 3.0412, 3.0411, 3.0409, 3.0398, 3.0381, 3.0373, 3.0373, 3.0372, 3.0603, 3.0599, 3.0573, 3.056, 3.0556, 3.0554, 3.0543, 3.054, 3.053, 3.0524, 3.052, 3.0518, 3.0514, 3.0512, 3.051, 3.051, 3.05, 3.0497, 3.0489, 3.0477, 3.0476, 3.0475, 3.0471, 3.0467, 3.0465, 3.0455, 3.0448, 3.0446, 3.0446, 3.0446, 3.0698, 3.0694, 3.0692, 3.0689, 3.0685, 3.0681, 3.068, 3.0675, 3.0666, 3.0665, 3.0665, 3.0657, 3.0656, 3.0655, 3.065, 3.0635, 3.0635, 3.0633, 3.0628, 3.0624, 3.0622, 3.062, 3.0618, 3.0612, 3.0599, 3.0588, 3.0575, 3.0571, 3.0566, 3.056, 3.0936, 3.0935, 3.093, 3.0929, 3.0909, 3.0904, 3.0901, 3.0888, 3.0886, 3.088, 3.088, 3.0872, 3.0863, 3.0862, 3.0858, 3.0857, 3.0851, 3.0847, 3.0844, 3.0843, 3.0841, 3.0839, 3.0836, 3.0826, 3.0826, 3.0824, 3.0824, 3.082, 3.0808, 3.0802, 3.1408, 3.1404, 3.1403, 3.1402, 3.1399, 3.1399, 3.1386, 3.1382, 3.1374, 3.137, 3.1369, 3.1369, 3.1367, 3.1366, 3.1358, 3.1345, 3.1328, 3.1326, 3.1325, 3.1322, 3.1315, 3.1309, 3.13, 3.1298, 3.1291, 3.129, 3.1287, 3.1286, 3.1285, 3.1273, 3.1425, 3.1421, 3.1418, 3.1412, 3.1411, 3.1406, 3.1405, 3.1385, 3.1381, 3.1381, 3.138, 3.138, 3.1375, 3.137, 3.1367, 3.1365, 3.1365, 3.1363, 3.1352, 3.1349, 3.1348, 3.1337, 3.1329, 3.1328, 3.1322, 3.131, 3.1309, 3.1304, 3.1303, 3.1295, 3.1708, 3.1707, 3.1701, 3.1695, 3.1682, 3.167, 3.1661, 3.1657, 3.1656, 3.1648, 3.1645, 3.1643, 3.1638, 3.1638, 3.1638, 3.1635, 3.1634, 3.1634, 3.1632, 3.1628, 3.1621, 3.1617, 3.1615, 3.1604, 3.1604, 3.1602, 3.1599, 3.1592, 3.1589, 3.1576, 3.1883, 3.1881, 3.187, 3.1866, 3.1865, 3.1865, 3.1864, 3.1859, 3.1859, 3.1855, 3.1855, 3.1851, 3.1839, 3.1836, 3.183, 3.183, 3.1822, 3.182, 3.1818, 3.1812, 3.1808, 3.1787, 3.1778, 3.1763, 3.1757, 3.1754, 3.1754, 3.1753, 3.175, 3.1747, 3.2299, 3.2281, 3.2271, 3.2271, 3.2268, 3.2256, 3.2255, 3.2254, 3.225, 3.2234, 3.223, 3.2225, 3.2219, 3.2213, 3.2208, 3.2206, 3.2197, 3.2192, 3.219, 3.2189, 3.2188, 3.2185, 3.2182, 3.2179, 3.2176, 3.2174, 3.217, 3.2162, 3.2161, 3.216, 3.2408, 3.2401, 3.2394, 3.2385, 3.2377, 3.2377, 3.2375, 3.2372, 3.237, 3.2363, 3.2361, 3.2351, 3.2347, 3.2342, 3.2341, 3.234, 3.2337, 3.2325, 3.2325, 3.2323, 3.2316, 3.2314, 3.2309, 3.2296, 3.2296, 3.2285, 3.2284, 3.228, 3.2278, 3.2275]}, \"token.table\": {\"Topic\": [19, 11, 13, 18, 14, 4, 15, 20, 15, 17, 5, 12, 3, 7, 19, 12, 10, 5, 18, 5, 18, 1, 14, 20, 20, 13, 12, 3, 1, 11, 14, 19, 17, 17, 7, 6, 5, 12, 8, 1, 6, 13, 4, 18, 11, 9, 1, 19, 19, 6, 4, 17, 19, 7, 13, 12, 1, 15, 10, 4, 7, 3, 9, 17, 3, 10, 12, 6, 17, 15, 2, 13, 13, 3, 12, 16, 16, 17, 14, 6, 15, 7, 7, 14, 6, 2, 9, 6, 11, 4, 3, 2, 10, 5, 18, 11, 6, 20, 14, 19, 16, 11, 17, 17, 19, 2, 11, 12, 14, 18, 9, 18, 20, 13, 17, 18, 17, 7, 3, 3, 9, 15, 4, 8, 18, 6, 6, 4, 3, 8, 13, 16, 12, 19, 12, 20, 16, 15, 20, 2, 5, 18, 4, 3, 9, 20, 12, 15, 16, 2, 16, 5, 15, 6, 12, 10, 20, 2, 11, 1, 14, 13, 3, 20, 9, 18, 3, 15, 8, 14, 7, 3, 15, 1, 20, 7, 15, 19, 8, 1, 7, 5, 17, 2, 9, 12, 2, 1, 14, 4, 12, 19, 13, 20, 7, 5, 2, 15, 16, 9, 8, 5, 9, 14, 2, 2, 7, 11, 6, 2, 19, 13, 1, 14, 16, 12, 2, 9, 2, 18, 15, 8, 1, 2, 8, 19, 7, 3, 9, 7, 10, 1, 4, 6, 9, 20, 2, 2, 5, 18, 7, 13, 3, 3, 19, 16, 5, 20, 8, 17, 19, 12, 12, 15, 1, 6, 16, 14, 9, 6, 4, 16, 5, 4, 20, 6, 10, 16, 13, 10, 11, 4, 4, 13, 1, 10, 16, 3, 10, 8, 13, 5, 10, 3, 10, 12, 5, 17, 18, 5, 13, 4, 16, 16, 16, 13, 5, 8, 3, 13, 14, 17, 1, 13, 14, 16, 14, 8, 2, 18, 4, 16, 4, 5, 8, 17, 20, 4, 18, 5, 20, 2, 7, 15, 10, 2, 18, 5, 19, 15, 7, 18, 4, 6, 12, 10, 20, 1, 8, 3, 15, 20, 14, 9, 10, 6, 11, 6, 1, 14, 5, 19, 11, 9, 10, 5, 20, 12, 17, 8, 4, 19, 16, 15, 20, 9, 4, 10, 6, 16, 17, 6, 8, 5, 8, 14, 10, 16, 16, 1, 16, 20, 11, 11, 3, 7, 10, 16, 10, 19, 16, 17, 20, 1, 19, 12, 4, 2, 12, 5, 11, 4, 7, 8, 17, 3, 20, 4, 10, 1, 8, 20, 18, 1, 4, 9, 2, 7, 7, 11, 2, 5, 18, 1, 4, 11, 10, 19, 19, 8, 17, 16, 7, 15, 14, 6, 12, 11, 16, 18, 13, 6, 11, 5, 11, 10, 11, 14, 15, 8, 6, 8, 1, 11, 13, 3, 1, 11, 8, 9, 10, 20, 7, 3, 20, 19, 3, 17, 11, 6, 9, 2, 10, 15, 15, 8, 15, 10, 3, 3, 6, 9, 20, 9, 13, 11, 18, 14, 11, 16, 7, 18, 5, 12, 1, 10, 18, 12, 18, 13, 9, 14, 20, 4, 14, 7, 3, 18, 8, 12, 7, 17, 18, 19, 9, 9, 18, 15, 17, 12, 19, 16, 13, 1, 13, 13, 2, 12, 15, 9, 8, 2, 14, 1, 9, 19, 2, 2, 4, 7, 9, 6, 9, 8, 17, 17, 2, 17, 11, 7, 19, 15, 14, 19, 6, 9, 17, 11, 19, 4, 15, 10, 7, 1, 15, 11, 8, 14, 10, 5, 13, 12, 14, 5, 15, 13, 8, 14, 20, 6, 3, 19, 17, 8, 4, 10, 13, 14, 17, 7, 18, 13, 3, 12, 1, 1, 5, 6, 11, 18], \"Freq\": [0.9858336423177217, 0.9976118148887154, 0.9945497425513906, 0.9869027779551048, 0.9976393207440902, 0.9916903543576815, 0.993206034093076, 0.9959861301136037, 0.9872884326064213, 0.9848154733312168, 0.9913862171056872, 0.991737135659516, 0.9947015877149876, 0.9883635064028428, 0.9861121678840022, 0.992585060985003, 0.9787181261360088, 0.9959699229020713, 0.9926782523181419, 0.9881495688026533, 0.9966832586498015, 0.9982695170380859, 0.9988876802298081, 0.9929139851828477, 0.9869172356494353, 0.9954406435769855, 0.9875362500690654, 0.9887773674435597, 0.986237193832212, 0.9985281810427556, 0.9939763450521267, 0.9882585147573987, 0.9975631082900596, 0.9821724613864976, 0.9994216597817673, 0.9964469300397967, 0.9951441335158466, 0.9793314682226881, 0.9816685077062973, 0.9997070112773898, 0.9914623440630276, 0.9903384904862954, 0.9982452057137877, 0.9908865644828898, 0.9954419540308013, 0.9902710149441373, 0.997211870486452, 0.995038340819668, 0.9942184585088752, 0.9975778812471819, 0.9976646307495963, 0.9819847223327229, 0.9898608349719994, 0.9883313150881611, 0.9893615747173676, 0.9827469128203217, 0.9886204798016214, 0.9913515797537514, 0.9942890318634564, 0.9952750042946806, 0.9832365925176937, 0.9939803749852965, 0.99331699797248, 0.994609147505326, 0.9978015565888056, 0.9922201289088248, 0.9977760907663807, 0.9918354122843113, 0.9981209502122085, 0.9848713794898003, 0.986902443947412, 0.9974823357642902, 0.9853243565481266, 0.9969383603926287, 0.9915877093555954, 0.9939252810662449, 0.9908167860253558, 0.9947926869845731, 0.9897312077451681, 0.9973663756551554, 0.9985213998748161, 0.9783383481917742, 0.9984493144229286, 0.9883909035832366, 0.9950306623056979, 0.9979851611697685, 0.9963283166553558, 0.9909535221955407, 0.9949820168396253, 0.9920396864311264, 0.9988213875475577, 0.9893466981540197, 0.9893904360130739, 0.9954676256956614, 0.9898200226241819, 0.9931060071030307, 0.991951527666107, 0.9947056188000312, 0.9903190735565868, 0.9888532913604768, 0.9954271862575652, 0.9892423187096142, 0.9886141782416544, 0.991652009200064, 0.9816499334571283, 0.9995181867633903, 0.9988565221566434, 0.9919256907662124, 0.9967591347203767, 0.9930784545946414, 0.9942483427675778, 0.9831290524935659, 0.9788104998859282, 0.988038172213985, 0.99621872540131, 0.9897736791833281, 0.9926037618289617, 0.9901834216984595, 0.9891403797470545, 0.9986747124883982, 0.9945905500335949, 0.9933058275472311, 0.9957560526227968, 0.9974711773358746, 0.9874011795114717, 0.994611235490132, 0.9901728816814079, 0.9863140551148675, 0.9962804672295761, 0.9929839140742435, 0.9952948568691562, 0.9964817379612854, 0.9909741715988191, 0.9915570807952193, 0.9947363449327288, 0.9986426615779143, 0.9915438963756159, 0.9845878912463263, 0.9897925382828602, 0.9879293542046719, 0.9926087797258387, 0.9887625552198315, 0.9936467622209355, 0.9932877083470953, 0.9893969578216245, 0.9910861650767047, 0.9931553820006072, 0.9936147277228546, 0.9821024454246742, 0.9855282006666806, 0.9982513169334651, 0.9900448227118802, 0.998032026655968, 0.9932969135172329, 0.9781173780839323, 0.9988682208661507, 0.9891702279213505, 0.9965007682685506, 0.9909098173719372, 0.988522208018058, 0.9868252169571058, 0.9942405228594361, 0.9961052862794965, 0.990279789139783, 0.9832372986944332, 0.97801737208444, 0.9928500672907073, 0.9981187582632418, 0.9979606261744304, 0.9920578505087178, 0.9885170812714922, 0.9971658505891681, 0.9985912808286191, 0.9913512966710397, 0.9868576432006062, 0.9966289091816656, 0.9934610674481974, 0.9850622477015747, 0.9806260994656834, 0.9989489165326587, 0.9927053529668473, 0.9872209174185101, 0.984723389929117, 0.9955616764202785, 0.9966303909227702, 0.9800744678577482, 0.9872795824642007, 0.9949845797186596, 0.997857418980693, 0.9931994612897334, 0.9870174775022161, 0.9902562604495088, 0.9880226464529885, 0.9941323800592254, 0.9927216725725801, 0.9896252439930209, 0.9908461741118413, 0.9893792178355636, 0.987128120392912, 0.9894533191137127, 0.9936815039108334, 0.9943956466393172, 0.9954983047381195, 0.9948830631977965, 0.9879766454929391, 0.9838106708960282, 0.9918966614140976, 0.99700327086092, 0.9925586843056701, 0.99931241502669, 0.9917687167445339, 0.9990622179881639, 0.9998294567751379, 0.9994939961443845, 0.9980320097903742, 0.9847114068472128, 0.9973909706308122, 0.9962607409330221, 0.9863975392079422, 0.9941561045418746, 0.9880150095279742, 0.9846982131177785, 0.9921730788817863, 0.9875972755414983, 0.9934274961052035, 0.9789020570217063, 0.9803386215013862, 0.998697598016178, 0.9937797369116108, 0.9968985627528578, 0.999501633772423, 0.996168195063334, 0.9969342255957347, 0.9968687697023076, 0.9956925332121747, 0.9925633760252889, 0.9983011064626516, 0.9853192682819693, 0.9948342578763708, 0.9890760763206513, 0.9938308313090013, 0.9930669476560737, 0.9973095477517342, 0.9966413782788583, 0.9910851685676105, 0.9891504580235236, 0.9947086037470879, 0.9926896318813252, 0.9892975386372982, 0.9965854995156614, 0.9904065300319871, 0.9952009303013601, 0.9955818931393847, 0.9922723880308244, 0.9962166439581063, 0.9907444036264654, 0.9938225099716897, 0.9902055487530261, 0.9888511936184079, 0.9897483346976437, 0.9901907134080133, 0.9890539924433355, 0.9901951423943773, 0.9909079197121393, 0.9867185916897857, 0.9934918728182373, 0.9880976382208282, 0.9946445343636755, 0.9971860193010869, 0.9983154341055333, 0.989334535770452, 0.9960693854261213, 0.9907982963171834, 0.9942606953496209, 0.9992274690178233, 0.9895752469221526, 0.9981268179949467, 0.986199302023886, 0.9889233631330437, 0.994767148468293, 0.9925110049826363, 0.9964440737619548, 0.9904161949235919, 0.9970985074997383, 0.9894698394132945, 0.98888174830232, 0.9841880556062492, 0.9985325186884432, 0.9949487334791277, 0.9994219983106504, 0.9798942623108974, 0.9907628261036959, 0.9914021575616246, 0.9955382696901838, 0.9845769880422695, 0.995477531411495, 0.9939806563141768, 0.9974452353542704, 0.998154797361674, 0.9916035102058602, 0.9989193357698111, 0.9943132252551989, 0.9978654003233913, 0.9992168134061347, 0.9789762586443419, 0.978173260484235, 0.9866573405860731, 0.9992662024824018, 0.9941103300092907, 0.9962245086285626, 0.9897907036676357, 0.9977996869704471, 0.9862731912875622, 0.9906118273340229, 0.9907927159038777, 0.9908304527154528, 0.9981860575515275, 0.9940856616700927, 0.9977059254810555, 0.9920343261427689, 0.986266026668925, 0.9927760783879682, 0.9952060003490214, 0.9916328229174572, 0.9757905780451402, 0.9935108331200905, 0.9872584653041657, 0.9923980781462653, 0.9906580356805659, 0.9985149267989377, 0.9969072706866781, 0.9949919470775206, 0.9885499823993261, 0.9958363922477219, 0.9882848682941295, 0.9984752606277506, 0.9952314786766405, 0.9875574932514735, 0.989715948299424, 0.9898916056855275, 0.9848579921143501, 0.9931213547324883, 0.995787741843136, 0.9991690969644356, 0.9992950073294952, 0.9973714187009654, 0.9979219146064812, 0.9857125030876902, 0.9929941321224236, 0.994537949393573, 0.9910977593974587, 0.9975914483366559, 0.9895645281585843, 0.9888716440110046, 0.9926094757043473, 0.9982955148436616, 0.994880030596715, 0.9964435172765798, 0.9922798736010593, 0.9921116952130505, 0.9913219325173285, 0.9953364753330097, 0.9936141587781694, 0.9983954808432183, 0.9926979619038376, 0.98700098760084, 0.9922951808164034, 0.9867711453581206, 0.9829637961965468, 0.9931648437440784, 0.9971356952780517, 0.9997278683853087, 0.9942433113319575, 0.9865416855700142, 0.9974320712199698, 0.9959342439165434, 0.9785494294613158, 0.9941782681898984, 0.9908044750917501, 0.9912005150362307, 0.9954557362265994, 0.9963159530616804, 0.998554130185867, 0.9988013415313783, 0.9934040436513808, 0.995222262728543, 0.9879985332937962, 0.9861863766776395, 0.9865504035032144, 0.9938144476577796, 0.9969243403425059, 0.9902130485011189, 0.9982231777575737, 0.9922891199789287, 0.9880158301336344, 0.9862616282562955, 0.9925835119961034, 0.9923071268343734, 0.9834522010962726, 0.9916236755256468, 0.9930274008368286, 0.993724316656937, 0.9949889019708731, 0.9925992417965411, 0.990383508636245, 0.9964813230757065, 0.9936556395902247, 0.9977225343956955, 0.994447472598713, 0.9846554629087292, 0.9982318926644516, 0.994398779187828, 0.9965844388351515, 0.9947581423863034, 0.9899943389959706, 0.9949086355943056, 0.9825753177200028, 0.9917162168542369, 0.9968384936942388, 0.9894784408790269, 0.9980606522269276, 0.9897777862032248, 0.989974886242873, 0.9994172624396319, 0.9938740473646932, 0.9928024535661265, 0.9901207848304442, 0.9854082237963293, 0.9849736227466839, 0.9911647622110668, 0.9893155060332025, 0.9939941749634288, 0.9957990221232503, 0.9888453638420697, 0.9891158672498374, 0.9807101067494437, 0.9856125298434293, 0.9919796449554457, 0.9953174246100454, 0.9848420461855917, 0.9953600160284432, 0.9952049855705503, 0.9931629568353946, 0.9991034310291984, 0.9870452311270369, 0.9958987698160783, 0.9900063642514786, 0.9915558328265396, 0.9862344409851521, 0.9877338235810819, 0.9900668108058108, 0.9967402721666491, 0.9993918541944695, 0.9890170410225727, 0.9891147972603858, 0.9955684333621324, 0.9990573987311203, 0.9958543666550979, 0.9780901186331781, 0.983254331071286, 0.9939716591063689, 0.9938999325605222, 0.9986959273609535, 0.9897372383462751, 0.9860186564011759, 0.9908953152491967, 0.9938388714508133, 0.9919658183975162, 0.9885991556552722, 0.9884425266066248, 0.9926695171733627, 0.996523797219842, 0.9827505377050649, 0.9916175469904591, 0.9814225249495478, 0.9902442449652527, 0.996820962166469, 0.9842081652344434, 0.9900257654409378, 0.9937587287809693, 0.9859793738986261, 0.9840287659955123, 0.99080145690277, 0.9908723876510185, 0.9938546563401608, 0.9958150713210976, 0.9811396583170758, 0.9862166801359082, 0.9912744762267676, 0.990770475315138, 0.9932940029545517, 0.9889856782884733, 0.9858017890007067, 0.9945522390291718, 0.9889836298509589, 0.9946374594390377, 0.9921192118317245, 0.9924347497930642, 0.9965656632078659, 0.9930952450011029, 0.9961956827166055, 0.9886503903715179, 0.995707484022308, 0.9931183910814345, 0.9903319975037542, 0.9964218516749651, 0.9969094812193822, 0.9951700513303792, 0.9955330100996516, 0.9975237601221272, 0.9907305530052232, 0.9982304117271676, 0.9945562975320031, 0.9955461746314646, 0.976990947233884, 0.9908851195489489, 0.9947239942503084, 0.9927970935058592, 0.9927855024118047, 0.9855789530730048, 0.9895938181517155, 0.9851489913001332, 0.998375523584328, 0.9862854205461239, 0.9964672150297182, 0.9912148007029226, 0.997903117587932, 0.9993309665531769, 0.996820293840471, 0.9963026502898997, 0.9973401805476027, 0.9959877639860227, 0.9865478833072836, 0.9924949780021092, 0.9959184867909378, 0.9979081685014708, 0.9994952990624874, 0.9992484977052234, 0.995309175531381, 0.991189603627273, 0.9994730928788144, 0.9973711727556106, 0.9978510470866802, 0.9854314798978326, 0.987915131396517, 0.990485710443811, 0.9956247057200599, 0.9869776112303519, 0.9932508545553662, 0.9940604755220692, 0.9819452424000766, 0.9884563057069701, 0.9918248309061998, 0.9830802301791868, 0.9805916207912276, 0.9961275518304563, 0.9885439133963099, 0.9807234995203521, 0.9983161764091748, 0.9955311410318737, 0.9959534802817431, 0.9969631265873616, 0.9891475948792348, 0.9822248867135962, 0.9941731904987913, 0.994489787674924, 0.9917819961961329, 0.9888514208796934, 0.9854068544862779, 0.9925813267095951, 0.9870246780649898, 0.9923171368414723, 0.9921385213471755, 0.9994675196861688, 0.9848312244833711, 0.995237291609262, 0.9992968972592206, 0.995938664412497, 0.9990275000892992, 0.9927730951106929, 0.9992389599319167, 0.9956775806176191, 0.9811535366036962, 0.9953846589120944, 0.995102743466941, 0.9869276189666272, 0.9987913385484456, 0.9893466839420091, 0.9864940472490484, 0.9991921677639348, 0.9959535775542914, 0.9987713761578334, 0.9956180226812781, 0.999659771024897, 0.993280072938746, 0.9922986043254406, 0.9986627124529851, 0.9866209952460291, 0.9890453791828817, 0.9937175795266563], \"Term\": [\"ability\", \"able\", \"absolutely\", \"access\", \"act\", \"action\", \"actor\", \"actually\", \"add\", \"adult\", \"advice\", \"affect\", \"age\", \"agree\", \"ahead\", \"air\", \"alive\", \"allow\", \"almost\", \"alone\", \"already\", \"also\", \"always\", \"amazing\", \"answer\", \"approach\", \"appropriate\", \"area\", \"art\", \"ask\", \"australian\", \"authority\", \"away\", \"baby\", \"back\", \"bad\", \"balance\", \"bank\", \"base\", \"be\", \"beat\", \"beautiful\", \"become\", \"bed\", \"begin\", \"behaviour\", \"believe\", \"best\", \"better\", \"big\", \"bit\", \"block\", \"body\", \"book\", \"border\", \"bottle\", \"boy\", \"break\", \"brilliant\", \"bring\", \"british\", \"brother\", \"budget\", \"build\", \"business\", \"buy\", \"call\", \"campaign\", \"can\", \"candidate\", \"car\", \"care\", \"carry\", \"case\", \"cash\", \"catch\", \"cause\", \"certain\", \"certainly\", \"challenge\", \"change\", \"character\", \"child\", \"choose\", \"class\", \"clear\", \"close\", \"clothe\", \"club\", \"cold\", \"come\", \"comfortable\", \"common\", \"community\", \"company\", \"completely\", \"concern\", \"condition\", \"consider\", \"contact\", \"continue\", \"control\", \"conversation\", \"cool\", \"cope\", \"could\", \"country\", \"couple\", \"course\", \"create\", \"crisis\", \"critical\", \"culture\", \"currently\", \"cut\", \"damage\", \"dance\", \"dangerous\", \"date\", \"day\", \"deal\", \"death\", \"decide\", \"decision\", \"deep\", \"definitely\", \"deliver\", \"demand\", \"die\", \"difference\", \"different\", \"difficult\", \"dinner\", \"direct\", \"disease\", \"do\", \"doctor\", \"dog\", \"doubt\", \"drive\", \"due\", \"duty\", \"early\", \"easy\", \"eat\", \"economic\", \"economy\", \"else\", \"emergency\", \"encourage\", \"end\", \"enjoy\", \"enough\", \"ensure\", \"essential\", \"even\", \"event\", \"ever\", \"evidence\", \"excite\", \"exercise\", \"expect\", \"experience\", \"expert\", \"extra\", \"extraordinary\", \"eye\", \"face\", \"fact\", \"fail\", \"fair\", \"fall\", \"family\", \"fan\", \"fantastic\", \"far\", \"favourite\", \"fear\", \"feed\", \"feel\", \"fight\", \"figure\", \"fill\", \"film\", \"find\", \"fine\", \"finish\", \"fire\", \"first\", \"fit\", \"flight\", \"flood\", \"fly\", \"focus\", \"follow\", \"food\", \"football\", \"force\", \"forget\", \"form\", \"forward\", \"free\", \"friend\", \"full\", \"fully\", \"fun\", \"future\", \"game\", \"generation\", \"get\", \"girl\", \"give\", \"go\", \"good\", \"government\", \"grant\", \"great\", \"ground\", \"group\", \"grow\", \"growth\", \"guess\", \"guy\", \"half\", \"hand\", \"handle\", \"hang\", \"happen\", \"happy\", \"hard\", \"have\", \"head\", \"health\", \"hear\", \"heart\", \"hell\", \"help\", \"hide\", \"high\", \"history\", \"hit\", \"hold\", \"home\", \"hope\", \"hopefully\", \"hospital\", \"hour\", \"house\", \"huge\", \"human\", \"idea\", \"ill\", \"imagine\", \"impact\", \"important\", \"improve\", \"include\", \"increase\", \"incredible\", \"incredibly\", \"industry\", \"infection\", \"information\", \"interest\", \"international\", \"investment\", \"involve\", \"issue\", \"job\", \"keep\", \"key\", \"kid\", \"kill\", \"kind\", \"know\", \"large\", \"last\", \"later\", \"laugh\", \"lead\", \"leader\", \"learn\", \"least\", \"leave\", \"leg\", \"less\", \"lesson\", \"let\", \"level\", \"life\", \"light\", \"like\", \"likely\", \"line\", \"listen\", \"little\", \"little_bit\", \"live\", \"long\", \"longer\", \"look\", \"lose\", \"lot\", \"love\", \"lovely\", \"low\", \"major\", \"make\", \"make_sure\", \"man\", \"manage\", \"many\", \"market\", \"massive\", \"mate\", \"matter\", \"may\", \"maybe\", \"mean\", \"measure\", \"medical\", \"medium\", \"meet\", \"member\", \"memory\", \"mind\", \"minister\", \"minute\", \"miss\", \"moment\", \"money\", \"month\", \"morning\", \"move\", \"movie\", \"much\", \"must\", \"name\", \"nation\", \"national\", \"natural\", \"nature\", \"nee\", \"need\", \"never\", \"new\", \"next\", \"nhs\", \"nice\", \"night\", \"normal\", \"number\", \"obviously\", \"offer\", \"often\", \"old\", \"one\", \"open\", \"opportunity\", \"option\", \"order\", \"other\", \"parent\", \"part\", \"particular\", \"partner\", \"party\", \"pass\", \"past\", \"patient\", \"pay\", \"people\", \"perfect\", \"perhaps\", \"period\", \"person\", \"personal\", \"phone\", \"pick\", \"picture\", \"place\", \"plan\", \"play\", \"player\", \"point\", \"police\", \"policy\", \"politic\", \"political\", \"poor\", \"position\", \"positive\", \"possible\", \"post\", \"potential\", \"potentially\", \"power\", \"prepare\", \"president\", \"pressure\", \"pretty\", \"probably\", \"problem\", \"process\", \"program\", \"protect\", \"proud\", \"provide\", \"public\", \"pull\", \"put\", \"question\", \"quickly\", \"quite\", \"raise\", \"range\", \"rate\", \"rather\", \"read\", \"ready\", \"real\", \"realise\", \"reality\", \"really\", \"reason\", \"receive\", \"record\", \"recover\", \"recovery\", \"reduce\", \"relationship\", \"remain\", \"remember\", \"report\", \"require\", \"resource\", \"respect\", \"response\", \"responsibility\", \"responsible\", \"rest\", \"result\", \"return\", \"right\", \"rise\", \"risk\", \"role\", \"room\", \"route\", \"royal\", \"rule\", \"run\", \"s\", \"sad\", \"safe\", \"save\", \"say\", \"school\", \"score\", \"search\", \"season\", \"second\", \"see\", \"seem\", \"self\", \"sell\", \"send\", \"sense\", \"serious\", \"seriously\", \"service\", \"set\", \"shape\", \"share\", \"shop\", \"short\", \"show\", \"sick\", \"side\", \"sign\", \"significant\", \"similar\", \"simple\", \"simply\", \"sit\", \"situation\", \"skill\", \"sleep\", \"slow\", \"small\", \"social\", \"society\", \"solution\", \"sometimes\", \"soon\", \"sort\", \"sound\", \"space\", \"speak\", \"special\", \"spend\", \"sport\", \"spread\", \"staff\", \"stage\", \"stand\", \"start\", \"state\", \"stay\", \"step\", \"stick\", \"still\", \"stop\", \"story\", \"strength\", \"strike\", \"strong\", \"struggle\", \"stuff\", \"suffer\", \"suggest\", \"supply\", \"support\", \"suppose\", \"sure\", \"symptom\", \"system\", \"take\", \"talk\", \"team\", \"tell\", \"term\", \"terrible\", \"test\", \"thank\", \"there\", \"thing\", \"think\", \"thought\", \"throw\", \"time\", \"today\", \"together\", \"tonight\", \"top\", \"totally\", \"touch\", \"tough\", \"tour\", \"town\", \"transmission\", \"travel\", \"treat\", \"treatment\", \"trip\", \"true\", \"trust\", \"truth\", \"try\", \"turn\", \"understand\", \"use\", \"victim\", \"video\", \"violence\", \"virus\", \"visit\", \"voice\", \"vote\", \"vulnerable\", \"wait\", \"wake\", \"walk\", \"want\", \"war\", \"watch\", \"way\", \"wear\", \"week\", \"weekend\", \"well\", \"whole\", \"wife\", \"will\", \"win\", \"wish\", \"woman\", \"wonderful\", \"word\", \"work\", \"worker\", \"world\", \"worry\", \"would\", \"write\", \"wrong\", \"year\", \"yesterday\", \"yet\", \"young\"]}, \"R\": 30, \"lambda.step\": 0.01, \"plot.opts\": {\"xlab\": \"PC1\", \"ylab\": \"PC2\"}, \"topic.order\": [8, 12, 17, 6, 11, 15, 20, 19, 13, 10, 1, 2, 7, 16, 4, 5, 14, 3, 18, 9]};\n",
              "\n",
              "function LDAvis_load_lib(url, callback){\n",
              "  var s = document.createElement('script');\n",
              "  s.src = url;\n",
              "  s.async = true;\n",
              "  s.onreadystatechange = s.onload = callback;\n",
              "  s.onerror = function(){console.warn(\"failed to load library \" + url);};\n",
              "  document.getElementsByTagName(\"head\")[0].appendChild(s);\n",
              "}\n",
              "\n",
              "if(typeof(LDAvis) !== \"undefined\"){\n",
              "   // already loaded: just create the visualization\n",
              "   !function(LDAvis){\n",
              "       new LDAvis(\"#\" + \"ldavis_el6161397877558180649856149711\", ldavis_el6161397877558180649856149711_data);\n",
              "   }(LDAvis);\n",
              "}else if(typeof define === \"function\" && define.amd){\n",
              "   // require.js is available: use it to load d3/LDAvis\n",
              "   require.config({paths: {d3: \"https://d3js.org/d3.v5\"}});\n",
              "   require([\"d3\"], function(d3){\n",
              "      window.d3 = d3;\n",
              "      LDAvis_load_lib(\"https://cdn.jsdelivr.net/gh/bmabey/pyLDAvis@3.3.1/pyLDAvis/js/ldavis.v3.0.0.js\", function(){\n",
              "        new LDAvis(\"#\" + \"ldavis_el6161397877558180649856149711\", ldavis_el6161397877558180649856149711_data);\n",
              "      });\n",
              "    });\n",
              "}else{\n",
              "    // require.js not available: dynamically load d3 & LDAvis\n",
              "    LDAvis_load_lib(\"https://d3js.org/d3.v5.js\", function(){\n",
              "         LDAvis_load_lib(\"https://cdn.jsdelivr.net/gh/bmabey/pyLDAvis@3.3.1/pyLDAvis/js/ldavis.v3.0.0.js\", function(){\n",
              "                 new LDAvis(\"#\" + \"ldavis_el6161397877558180649856149711\", ldavis_el6161397877558180649856149711_data);\n",
              "            })\n",
              "         });\n",
              "}\n",
              "</script>"
            ],
            "text/plain": [
              "PreparedData(topic_coordinates=              x         y  topics  cluster      Freq\n",
              "topic                                               \n",
              "7     -0.442873 -0.058982       1        1  9.470854\n",
              "11    -0.032779  0.426489       2        1  6.409726\n",
              "16    -0.014252  0.027197       3        1  5.967595\n",
              "5      0.023833 -0.025592       4        1  5.140472\n",
              "10     0.025846 -0.021439       5        1  5.027358\n",
              "14     0.015508 -0.018271       6        1  5.014985\n",
              "19     0.022342 -0.018300       7        1  4.967827\n",
              "18     0.024439 -0.023249       8        1  4.930100\n",
              "12     0.027760 -0.019070       9        1  4.913495\n",
              "9      0.024468 -0.017726      10        1  4.781028\n",
              "0      0.028525 -0.022549      11        1  4.732669\n",
              "1      0.018310 -0.024087      12        1  4.685422\n",
              "6      0.023068 -0.019228      13        1  4.637868\n",
              "15     0.028201 -0.023545      14        1  4.529699\n",
              "3      0.037275 -0.027059      15        1  4.316752\n",
              "4      0.032659 -0.022123      16        1  4.310674\n",
              "13     0.037501 -0.026851      17        1  4.190916\n",
              "2      0.038139 -0.027302      18        1  4.114322\n",
              "17     0.038377 -0.028484      19        1  3.950465\n",
              "8      0.043652 -0.029830      20        1  3.907773, topic_info=               Term         Freq        Total Category  logprob  loglift\n",
              "105           would  1994.000000  1994.000000  Default  30.0000  30.0000\n",
              "55           people  1961.000000  1961.000000  Default  29.0000  29.0000\n",
              "37               be  2479.000000  2479.000000  Default  28.0000  28.0000\n",
              "41               go  2383.000000  2383.000000  Default  27.0000  27.0000\n",
              "200             get  1880.000000  1880.000000  Default  26.0000  26.0000\n",
              "...             ...          ...          ...      ...      ...      ...\n",
              "1213  international    64.978709    65.874912  Topic20  -4.8462   3.2285\n",
              "2109         nature    64.554006    65.450209  Topic20  -4.8528   3.2284\n",
              "523         culture    62.445987    63.342189  Topic20  -4.8860   3.2280\n",
              "1681           self    61.982932    62.879135  Topic20  -4.8934   3.2278\n",
              "1985     particular    60.552498    61.448701  Topic20  -4.9168   3.2275\n",
              "\n",
              "[630 rows x 6 columns], token_table=      Topic      Freq        Term\n",
              "term                             \n",
              "1112     19  0.985834     ability\n",
              "106      11  0.997612        able\n",
              "868      13  0.994550  absolutely\n",
              "490      18  0.986903      access\n",
              "446      14  0.997639         act\n",
              "...     ...       ...         ...\n",
              "910       1  0.992299       wrong\n",
              "29        5  0.998663        year\n",
              "3384      6  0.986621   yesterday\n",
              "1502     11  0.989045         yet\n",
              "376      18  0.993718       young\n",
              "\n",
              "[600 rows x 3 columns], R=30, lambda_step=0.01, plot_opts={'xlab': 'PC1', 'ylab': 'PC2'}, topic_order=[8, 12, 17, 6, 11, 15, 20, 19, 13, 10, 1, 2, 7, 16, 4, 5, 14, 3, 18, 9])"
            ]
          },
          "metadata": {},
          "execution_count": 30
        }
      ]
    },
    {
      "cell_type": "code",
      "metadata": {
        "id": "V6fVMWDuGHIH"
      },
      "source": [
        "# Download File: http://mallet.cs.umass.edu/dist/mallet-2.0.8.zip\n",
        "mallet_path = 'C:/mallet-2.0.8/bin/mallet.bat' # update this path\n",
        "ldamallet = gensim.models.wrappers.LdaMallet(mallet_path, corpus=corpus, num_topics=20, id2word=id2word)"
      ],
      "execution_count": null,
      "outputs": []
    },
    {
      "cell_type": "code",
      "metadata": {
        "id": "kisJi2hhLEX4"
      },
      "source": [
        "def compute_coherence_values(dictionary, corpus, texts, limit, start=2, step=3):\n",
        "    \"\"\"\n",
        "    Compute c_v coherence for various number of topics\n",
        "\n",
        "    Parameters:\n",
        "    ----------\n",
        "    dictionary : Gensim dictionary\n",
        "    corpus : Gensim corpus\n",
        "    texts : List of input texts\n",
        "    limit : Max num of topics\n",
        "\n",
        "    Returns:\n",
        "    -------\n",
        "    model_list : List of LDA topic models\n",
        "    coherence_values : Coherence values corresponding to the LDA model with respective number of topics\n",
        "    \"\"\"\n",
        "    coherence_values = []\n",
        "    model_list = []\n",
        "    for num_topics in range(start, limit, step):\n",
        "      model = gensim.models.ldamodel.LdaModel(corpus=corpus,\n",
        "                                           id2word=id2word,\n",
        "                                           num_topics=num_topics, \n",
        "                                           random_state=100,\n",
        "                                           update_every=1,\n",
        "                                           chunksize=100,\n",
        "                                           passes=10,\n",
        "                                           alpha='auto',\n",
        "                                           per_word_topics=True)\n",
        "      #model2 = gensim.models.wrappers.LdaMallet(mallet_path, corpus=corpus, num_topics=num_topics, id2word=id2word)\n",
        "      model_list.append(model)\n",
        "      coherencemodel = CoherenceModel(model=model, texts=texts, dictionary=dictionary, coherence='c_v')\n",
        "      coherence_values.append(coherencemodel.get_coherence())\n",
        "\n",
        "    return model_list, coherence_values"
      ],
      "execution_count": 40,
      "outputs": []
    },
    {
      "cell_type": "code",
      "metadata": {
        "id": "eRdB0BhxMXES"
      },
      "source": [
        "# Can take a long time to run.\n",
        "model_list, coherence_values = compute_coherence_values(dictionary=id2word, corpus=corpus, texts=data_lemmatized, start=2, limit=40, step=6)"
      ],
      "execution_count": 41,
      "outputs": []
    },
    {
      "cell_type": "code",
      "metadata": {
        "colab": {
          "base_uri": "https://localhost:8080/",
          "height": 279
        },
        "id": "Zz3WMtz9MaDX",
        "outputId": "7c2ca52a-c319-4991-d43f-36346c110063"
      },
      "source": [
        "# Show graph\n",
        "limit=40; start=2; step=6;\n",
        "x = range(start, limit, step)\n",
        "plt.plot(x, coherence_values)\n",
        "plt.xlabel(\"Num Topics\")\n",
        "plt.ylabel(\"Coherence score\")\n",
        "plt.legend((\"coherence_values\"), loc='best')\n",
        "plt.show()"
      ],
      "execution_count": 42,
      "outputs": [
        {
          "output_type": "display_data",
          "data": {
            "image/png": "[encoded data removed]",
            "text/plain": [
              "<Figure size 432x288 with 1 Axes>"
            ]
          },
          "metadata": {
            "needs_background": "light"
          }
        }
      ]
    },
    {
      "cell_type": "code",
      "metadata": {
        "colab": {
          "base_uri": "https://localhost:8080/"
        },
        "id": "YTTr0Sh2OV55",
        "outputId": "b9797936-b2fd-4beb-ecad-0c73325fdc8d"
      },
      "source": [
        "# Print the coherence scores\n",
        "for m, cv in zip(x, coherence_values):\n",
        "    print(\"Num Topics =\", m, \" has Coherence Value of\", round(cv, 4))"
      ],
      "execution_count": 43,
      "outputs": [
        {
          "output_type": "stream",
          "name": "stdout",
          "text": [
            "Num Topics = 2  has Coherence Value of 0.3127\n",
            "Num Topics = 8  has Coherence Value of 0.2966\n",
            "Num Topics = 14  has Coherence Value of 0.2568\n",
            "Num Topics = 20  has Coherence Value of 0.3136\n",
            "Num Topics = 26  has Coherence Value of 0.3683\n",
            "Num Topics = 32  has Coherence Value of 0.402\n",
            "Num Topics = 38  has Coherence Value of 0.439\n"
          ]
        }
      ]
    },
    {
      "cell_type": "code",
      "metadata": {
        "id": "J-3kSTKFOY1j"
      },
      "source": [
        "# Select the model and print the topics\n",
        "optimal_model = gensim.models.ldamodel.LdaModel(corpus=corpus,\n",
        "                                           id2word=id2word,\n",
        "                                           num_topics=5, \n",
        "                                           random_state=100,\n",
        "                                           update_every=1,\n",
        "                                           chunksize=100,\n",
        "                                           passes=10,\n",
        "                                           alpha='auto',\n",
        "                                           per_word_topics=True)\n",
        "model_topics = optimal_model.show_topics(formatted=False)"
      ],
      "execution_count": 79,
      "outputs": []
    },
    {
      "cell_type": "code",
      "metadata": {
        "colab": {
          "base_uri": "https://localhost:8080/"
        },
        "id": "wQ9kq_ncZaEZ",
        "outputId": "60f0101a-5194-4d22-97c7-d1b310c36ad7"
      },
      "source": [
        "coherencemodel = CoherenceModel(model=optimal_model, texts=texts, dictionary=id2word, coherence='c_v')\n",
        "coherencemodel.get_coherence()"
      ],
      "execution_count": 80,
      "outputs": [
        {
          "output_type": "execute_result",
          "data": {
            "text/plain": [
              "0.3294981370989468"
            ]
          },
          "metadata": {},
          "execution_count": 80
        }
      ]
    },
    {
      "cell_type": "code",
      "metadata": {
        "colab": {
          "base_uri": "https://localhost:8080/",
          "height": 915
        },
        "id": "6duznfjjRxyR",
        "outputId": "1c44af39-4252-48c5-a6e4-eaef0ad292e0"
      },
      "source": [
        "vis = pyLDAvis.gensim_models.prepare(optimal_model, corpus, id2word)\n",
        "vis"
      ],
      "execution_count": 81,
      "outputs": [
        {
          "output_type": "stream",
          "name": "stderr",
          "text": [
            "/usr/local/lib/python3.7/dist-packages/pyLDAvis/_prepare.py:247: FutureWarning: In a future version of pandas all arguments of DataFrame.drop except for the argument 'labels' will be keyword-only\n",
            "  by='saliency', ascending=False).head(R).drop('saliency', 1)\n"
          ]
        },
        {
          "output_type": "execute_result",
          "data": {
            "text/html": [
              "\n",
              "<link rel=\"stylesheet\" type=\"text/css\" href=\"https://cdn.jsdelivr.net/gh/bmabey/pyLDAvis@3.3.1/pyLDAvis/js/ldavis.v1.0.0.css\">\n",
              "\n",
              "\n",
              "<div id=\"ldavis_el6161397877180119846289820840\"></div>\n",
              "<script type=\"text/javascript\">\n",
              "\n",
              "var ldavis_el6161397877180119846289820840_data = {\"mdsDat\": {\"x\": [0.22339407851425933, -0.3399923381200512, 0.04915370075729, 0.037701157933449664, 0.029743400915052013], \"y\": [-0.2816112134186591, -0.13348661633981354, 0.2139759089900421, 0.12894248963352087, 0.07217943113490971], \"topics\": [1, 2, 3, 4, 5], \"cluster\": [1, 1, 1, 1, 1], \"Freq\": [23.50510425252792, 22.93617893856929, 19.692459721683292, 17.9008120719792, 15.965445015240299]}, \"tinfo\": {\"Term\": [\"be\", \"go\", \"people\", \"s\", \"would\", \"get\", \"think\", \"know\", \"want\", \"have\", \"take\", \"make\", \"say\", \"time\", \"thing\", \"really\", \"come\", \"could\", \"work\", \"see\", \"way\", \"good\", \"need\", \"year\", \"look\", \"feel\", \"life\", \"love\", \"back\", \"day\", \"would\", \"time\", \"look\", \"day\", \"well\", \"also\", \"can\", \"give\", \"happen\", \"always\", \"may\", \"first\", \"tell\", \"keep\", \"put\", \"new\", \"country\", \"end\", \"long\", \"let\", \"week\", \"believe\", \"become\", \"last\", \"away\", \"little\", \"able\", \"decision\", \"learn\", \"leave\", \"be\", \"go\", \"s\", \"get\", \"think\", \"want\", \"say\", \"feel\", \"love\", \"back\", \"much\", \"play\", \"family\", \"world\", \"woman\", \"next\", \"man\", \"bit\", \"game\", \"player\", \"care\", \"moment\", \"hard\", \"call\", \"job\", \"system\", \"meet\", \"hope\", \"business\", \"lose\", \"know\", \"make\", \"really\", \"come\", \"see\", \"good\", \"need\", \"year\", \"still\", \"big\", \"case\", \"start\", \"home\", \"child\", \"ask\", \"important\", \"together\", \"bad\", \"place\", \"problem\", \"continue\", \"old\", \"will\", \"issue\", \"hear\", \"state\", \"remember\", \"story\", \"far\", \"money\", \"people\", \"have\", \"thing\", \"work\", \"way\", \"life\", \"never\", \"try\", \"many\", \"right\", \"lot\", \"great\", \"find\", \"mean\", \"ever\", \"use\", \"do\", \"part\", \"move\", \"bring\", \"stay\", \"virus\", \"stop\", \"already\", \"turn\", \"point\", \"early\", \"economy\", \"challenge\", \"read\", \"young\", \"take\", \"could\", \"even\", \"support\", \"help\", \"government\", \"show\", \"change\", \"talk\", \"live\", \"friend\", \"number\", \"real\", \"team\", \"person\", \"close\", \"possible\", \"win\", \"night\", \"face\", \"risk\", \"clear\", \"health\", \"step\", \"enough\", \"happy\", \"high\", \"plan\", \"grow\", \"sort\"], \"Freq\": [2485.0, 2388.0, 1964.0, 2174.0, 2065.0, 1894.0, 1745.0, 1567.0, 1538.0, 1283.0, 1183.0, 1308.0, 1395.0, 1417.0, 1108.0, 1169.0, 1165.0, 966.0, 1019.0, 1028.0, 869.0, 908.0, 871.0, 829.0, 927.0, 892.0, 717.0, 831.0, 792.0, 745.0, 2064.4397972137476, 1416.4835797532703, 927.1043076320384, 745.1316446793905, 721.313979059707, 638.3277521363331, 626.9861565985209, 601.5980328322838, 600.6119742957035, 599.2877644312217, 591.3557996869488, 544.2118996034316, 490.91614674549373, 489.21311474956303, 483.5939197997367, 475.7787793909387, 467.80744086191015, 464.60829768946456, 416.64834117531194, 408.28868448439334, 399.4045226584299, 339.7020296724034, 331.8817938326371, 326.1684028930453, 318.2488293104455, 310.0992201806733, 309.11823391401145, 296.16951628772335, 281.9063164378931, 262.17231448466555, 2484.6738208246325, 2388.1326446047583, 2173.5480411871677, 1893.930365506412, 1744.8035420487633, 1537.336996236294, 1394.7493876033357, 892.2146834050167, 831.1211411567874, 791.2496946815659, 668.0366852602715, 521.3735822922514, 458.16635535727187, 439.5936201878418, 378.9825523920819, 369.1176358328136, 360.8529442879304, 347.3176916992693, 330.7997670387423, 324.4123820515867, 320.8188649590471, 314.5996499363296, 315.04327421155546, 272.3015929139075, 264.26738078003626, 249.6405037521432, 248.7157610515769, 241.05172172344837, 225.47926437810798, 221.74241521804169, 1566.887998661609, 1307.4012064662552, 1168.39773200511, 1164.5995514199178, 1027.65067261159, 907.9876873716063, 870.3683522120921, 828.5761799294331, 570.0126789806544, 467.92416675962795, 456.9323012250795, 449.71882397881444, 435.07780221226847, 407.2652397035793, 383.417035457264, 357.92199568287447, 355.5544876967742, 344.27051114490956, 317.740081987434, 274.21794652968464, 269.0662444949194, 270.5864481312036, 264.8830649264292, 266.09183094959235, 256.6238170433074, 226.3823516196759, 222.46997724300618, 214.35059492470538, 214.21327131174223, 205.07340204567484, 1963.918415079334, 1282.5477567585558, 1107.4617392920766, 1018.2993485146894, 868.628993189682, 716.5213098446727, 609.4772075208003, 601.9793106128369, 592.4756010465834, 537.618328749475, 525.6783847682076, 499.4332761597177, 392.9409857462357, 384.3486724659389, 383.56272325537844, 317.42029414416515, 309.8413999119301, 310.82733772497124, 306.99382891111196, 275.0281431656199, 254.63413874108548, 240.60380410286024, 222.6646430169256, 216.97251724840123, 217.79838304102324, 207.08438789008, 187.08014781102233, 176.5766010651062, 162.91366478647436, 152.69242687657012, 229.06336107922075, 1183.2114881132802, 965.5935980371036, 549.7534947755584, 541.855966551608, 432.87268223920387, 418.4279764455325, 396.1447679609583, 370.8881325173624, 350.83455376300185, 330.24722813091296, 284.3039682373721, 280.5477607683878, 260.07721193049184, 256.7646555962287, 250.81023470553174, 235.29300099580252, 231.43953983670633, 228.87373830060434, 221.8180633149197, 218.58286000464236, 207.67265410073378, 205.8745620562949, 200.05106080472953, 201.25589275408424, 198.9241639541801, 198.73904842982768, 193.25857802796955, 184.1917873456614, 182.26546579166214, 182.83986351624415], \"Total\": [2485.0, 2388.0, 1964.0, 2174.0, 2065.0, 1894.0, 1745.0, 1567.0, 1538.0, 1283.0, 1183.0, 1308.0, 1395.0, 1417.0, 1108.0, 1169.0, 1165.0, 966.0, 1019.0, 1028.0, 869.0, 908.0, 871.0, 829.0, 927.0, 892.0, 717.0, 831.0, 792.0, 745.0, 2065.2170780772594, 1417.2595411515997, 927.8819856803852, 745.9072525815312, 722.0936941732311, 639.1087739351248, 627.7608546938953, 602.3746980470227, 601.3899068661732, 600.0650491350742, 592.1348522890606, 544.9927974669569, 491.6898418184204, 489.9899443500944, 484.37333790902835, 476.5590807310292, 468.584637625499, 465.3863059897223, 417.42987266536204, 409.0706807787026, 400.1812984686684, 340.4820702460371, 332.6612940136281, 326.94513138885316, 319.0290294697125, 310.87540428888127, 309.8951139782624, 296.94861430668846, 282.6989496859822, 262.94783966370073, 2485.449032244102, 2388.9063238185745, 2174.324928125198, 1894.7059070173887, 1745.5796375623472, 1538.1151889828427, 1395.5238552435685, 892.9906477054371, 831.899217610493, 792.026874583465, 668.8122677734112, 522.1480408107429, 458.94613443863415, 440.37185877464077, 379.76139400150106, 369.89797833231756, 361.6358478899416, 348.1016787282757, 331.5749384325339, 325.18911614422, 321.60141557215564, 315.3765645589709, 315.82290759472147, 273.0766048796324, 265.04429288679205, 250.41937308213625, 249.49666032398355, 241.83042417976614, 226.26025858561326, 222.51921830074943, 1567.6644976574971, 1308.175716445854, 1169.1725660265856, 1165.373717434697, 1028.4213658710648, 908.7599523703933, 871.1392835066714, 829.3490943353135, 570.7876103140394, 468.69823840514755, 457.71279678271617, 450.4928674321195, 435.85164824679924, 408.0408069543685, 384.19447270564257, 358.6957807063861, 356.33031278063817, 345.0483992031354, 318.51281526425885, 274.9931833884379, 269.8364492305464, 271.3615162508992, 265.65549648777994, 266.87098277499183, 257.40132032930956, 227.16612229090876, 223.2489664670399, 215.12554694529044, 214.98815541854472, 205.8464447131426, 1964.694683893429, 1283.3253164641403, 1108.2392523562467, 1019.0749216560191, 869.4100650647134, 717.3005736595333, 610.2547433911436, 602.7570279201003, 593.2537204465015, 538.3966351151798, 526.4536895056319, 500.21016059908015, 393.71692693655433, 385.12571325028506, 384.3409797604631, 318.19984775366356, 310.6155232866867, 311.6053772754298, 307.77292747845746, 275.80543219960464, 255.41141514500927, 241.37984188061517, 223.43827130314614, 217.75112209599956, 218.58256709900797, 207.8584454243967, 187.8554408880469, 177.36390748782372, 163.69201089172148, 153.47629416802977, 230.94194415312865, 1183.9883271366286, 966.3681781342385, 550.5294865209465, 542.6324305856109, 433.6456578554921, 419.20262842738595, 396.91747644211887, 371.6618904587917, 351.61390348061803, 331.019908933625, 285.07969761997447, 281.3238651163037, 260.85567742374093, 257.53781167050175, 251.5826957781966, 236.07235573620503, 232.21294081215942, 229.64765405697915, 222.59321010722172, 219.35607431864065, 208.44277485401622, 206.64993520160724, 200.8247325883989, 202.03437699495217, 199.7016921216655, 199.5174883210446, 194.0306829886698, 184.9635111969605, 183.04143311585102, 183.6221520124791], \"Category\": [\"Default\", \"Default\", \"Default\", \"Default\", \"Default\", \"Default\", \"Default\", \"Default\", \"Default\", \"Default\", \"Default\", \"Default\", \"Default\", \"Default\", \"Default\", \"Default\", \"Default\", \"Default\", \"Default\", \"Default\", \"Default\", \"Default\", \"Default\", \"Default\", \"Default\", \"Default\", \"Default\", \"Default\", \"Default\", \"Default\", \"Topic1\", \"Topic1\", \"Topic1\", \"Topic1\", \"Topic1\", \"Topic1\", \"Topic1\", \"Topic1\", \"Topic1\", \"Topic1\", \"Topic1\", \"Topic1\", \"Topic1\", \"Topic1\", \"Topic1\", \"Topic1\", \"Topic1\", \"Topic1\", \"Topic1\", \"Topic1\", \"Topic1\", \"Topic1\", \"Topic1\", \"Topic1\", \"Topic1\", \"Topic1\", \"Topic1\", \"Topic1\", \"Topic1\", \"Topic1\", \"Topic2\", \"Topic2\", \"Topic2\", \"Topic2\", \"Topic2\", \"Topic2\", \"Topic2\", \"Topic2\", \"Topic2\", \"Topic2\", \"Topic2\", \"Topic2\", \"Topic2\", \"Topic2\", \"Topic2\", \"Topic2\", \"Topic2\", \"Topic2\", \"Topic2\", \"Topic2\", \"Topic2\", \"Topic2\", \"Topic2\", \"Topic2\", \"Topic2\", \"Topic2\", \"Topic2\", \"Topic2\", \"Topic2\", \"Topic2\", \"Topic3\", \"Topic3\", \"Topic3\", \"Topic3\", \"Topic3\", \"Topic3\", \"Topic3\", \"Topic3\", \"Topic3\", \"Topic3\", \"Topic3\", \"Topic3\", \"Topic3\", \"Topic3\", \"Topic3\", \"Topic3\", \"Topic3\", \"Topic3\", \"Topic3\", \"Topic3\", \"Topic3\", \"Topic3\", \"Topic3\", \"Topic3\", \"Topic3\", \"Topic3\", \"Topic3\", \"Topic3\", \"Topic3\", \"Topic3\", \"Topic4\", \"Topic4\", \"Topic4\", \"Topic4\", \"Topic4\", \"Topic4\", \"Topic4\", \"Topic4\", \"Topic4\", \"Topic4\", \"Topic4\", \"Topic4\", \"Topic4\", \"Topic4\", \"Topic4\", \"Topic4\", \"Topic4\", \"Topic4\", \"Topic4\", \"Topic4\", \"Topic4\", \"Topic4\", \"Topic4\", \"Topic4\", \"Topic4\", \"Topic4\", \"Topic4\", \"Topic4\", \"Topic4\", \"Topic4\", \"Topic4\", \"Topic5\", \"Topic5\", \"Topic5\", \"Topic5\", \"Topic5\", \"Topic5\", \"Topic5\", \"Topic5\", \"Topic5\", \"Topic5\", \"Topic5\", \"Topic5\", \"Topic5\", \"Topic5\", \"Topic5\", \"Topic5\", \"Topic5\", \"Topic5\", \"Topic5\", \"Topic5\", \"Topic5\", \"Topic5\", \"Topic5\", \"Topic5\", \"Topic5\", \"Topic5\", \"Topic5\", \"Topic5\", \"Topic5\", \"Topic5\"], \"logprob\": [30.0, 29.0, 28.0, 27.0, 26.0, 25.0, 24.0, 23.0, 22.0, 21.0, 20.0, 19.0, 18.0, 17.0, 16.0, 15.0, 14.0, 13.0, 12.0, 11.0, 10.0, 9.0, 8.0, 7.0, 6.0, 5.0, 4.0, 3.0, 2.0, 1.0, -3.1819, -3.5586, -3.9825, -4.201, -4.2334, -4.3557, -4.3736, -4.4149, -4.4166, -4.4188, -4.4321, -4.5152, -4.6183, -4.6217, -4.6333, -4.6496, -4.6665, -4.6733, -4.7823, -4.8025, -4.8245, -4.9865, -5.0097, -5.0271, -5.0517, -5.0776, -5.0808, -5.1236, -5.1729, -5.2455, -2.9721, -3.0118, -3.1059, -3.2436, -3.3256, -3.4522, -3.5496, -3.9963, -4.0672, -4.1164, -4.2857, -4.5336, -4.6628, -4.7042, -4.8525, -4.8789, -4.9016, -4.9398, -4.9885, -5.008, -5.0191, -5.0387, -5.0373, -5.1831, -5.2131, -5.27, -5.2737, -5.305, -5.3718, -5.3885, -3.2807, -3.4617, -3.5742, -3.5774, -3.7025, -3.8263, -3.8686, -3.9178, -4.2919, -4.4892, -4.513, -4.5289, -4.562, -4.6281, -4.6884, -4.7572, -4.7639, -4.7961, -4.8763, -5.0236, -5.0426, -5.037, -5.0583, -5.0537, -5.0899, -5.2153, -5.2328, -5.2699, -5.2706, -5.3142, -2.9595, -3.3855, -3.5323, -3.6163, -3.7752, -3.9677, -4.1296, -4.1419, -4.1578, -4.255, -4.2775, -4.3287, -4.5685, -4.5906, -4.5926, -4.7819, -4.8061, -4.8029, -4.8153, -4.9253, -5.0023, -5.059, -5.1365, -5.1624, -5.1586, -5.209, -5.3106, -5.3684, -5.4489, -5.5137, -5.1082, -3.3517, -3.555, -4.1183, -4.1327, -4.3573, -4.3912, -4.446, -4.5118, -4.5674, -4.6279, -4.7777, -4.791, -4.8668, -4.8796, -4.903, -4.9669, -4.9834, -4.9946, -5.0259, -5.0406, -5.0918, -5.1005, -5.1292, -5.1232, -5.1348, -5.1357, -5.1637, -5.2118, -5.2223, -5.2191], \"loglift\": [30.0, 29.0, 28.0, 27.0, 26.0, 25.0, 24.0, 23.0, 22.0, 21.0, 20.0, 19.0, 18.0, 17.0, 16.0, 15.0, 14.0, 13.0, 12.0, 11.0, 10.0, 9.0, 8.0, 7.0, 6.0, 5.0, 4.0, 3.0, 2.0, 1.0, 1.4476, 1.4474, 1.4471, 1.4469, 1.4469, 1.4467, 1.4467, 1.4467, 1.4467, 1.4467, 1.4466, 1.4465, 1.4464, 1.4464, 1.4463, 1.4463, 1.4463, 1.4463, 1.4461, 1.446, 1.446, 1.4457, 1.4456, 1.4456, 1.4455, 1.4455, 1.4454, 1.4453, 1.4451, 1.445, 1.4721, 1.4721, 1.4721, 1.472, 1.472, 1.4719, 1.4719, 1.4716, 1.4715, 1.4715, 1.4713, 1.471, 1.4708, 1.4707, 1.4704, 1.4703, 1.4703, 1.4702, 1.4701, 1.4701, 1.47, 1.47, 1.47, 1.4696, 1.4695, 1.4693, 1.4693, 1.4692, 1.469, 1.469, 1.6244, 1.6243, 1.6243, 1.6243, 1.6242, 1.6241, 1.624, 1.624, 1.6236, 1.6233, 1.6232, 1.6232, 1.6232, 1.623, 1.6229, 1.6228, 1.6228, 1.6227, 1.6225, 1.6221, 1.6221, 1.6221, 1.622, 1.622, 1.6219, 1.6215, 1.6214, 1.6213, 1.6213, 1.6212, 1.7199, 1.7197, 1.7196, 1.7196, 1.7194, 1.7192, 1.719, 1.719, 1.719, 1.7189, 1.7189, 1.7188, 1.7184, 1.7183, 1.7183, 1.7179, 1.7178, 1.7178, 1.7178, 1.7175, 1.7173, 1.7171, 1.7169, 1.7167, 1.7167, 1.7166, 1.7162, 1.7159, 1.7156, 1.7152, 1.7122, 1.8341, 1.8339, 1.8333, 1.8333, 1.833, 1.8329, 1.8328, 1.8327, 1.8325, 1.8324, 1.832, 1.832, 1.8318, 1.8317, 1.8317, 1.8314, 1.8314, 1.8314, 1.8313, 1.8312, 1.831, 1.831, 1.8309, 1.8309, 1.8308, 1.8308, 1.8308, 1.8306, 1.8305, 1.8305]}, \"token.table\": {\"Topic\": [1, 4, 1, 1, 3, 1, 2, 3, 2, 1, 1, 3, 2, 4, 2, 2, 1, 2, 3, 4, 5, 3, 5, 5, 3, 3, 5, 1, 1, 1, 4, 4, 4, 1, 5, 5, 4, 5, 2, 3, 2, 4, 1, 5, 2, 2, 1, 2, 3, 5, 4, 5, 1, 5, 2, 4, 5, 3, 5, 5, 3, 2, 3, 3, 2, 1, 3, 1, 1, 1, 1, 4, 1, 5, 1, 1, 2, 4, 2, 3, 2, 4, 1, 4, 2, 2, 3, 4, 2, 3, 4, 1, 2, 5, 5, 3, 4, 4, 5, 3, 5, 2, 2, 4, 5, 3, 1, 4, 5, 3, 3, 4, 5, 2, 2, 3, 5, 5, 3, 3, 4, 5, 3, 4, 3, 5, 2, 5, 5, 5, 1, 4, 2, 1, 3, 4, 4, 4, 4, 2, 4, 1, 1, 3, 5, 2, 4, 2, 1, 3, 1, 4], \"Freq\": [0.9971115582728253, 0.9965505477594351, 0.998265124842055, 0.9982251105332507, 0.99689096853156, 0.9967744958149327, 0.9987034851765542, 0.9969615879814061, 0.9998193355654142, 0.9980121101386655, 0.9985841537979114, 0.9985102602315651, 0.9968351812254956, 0.9970797087164631, 0.9944300488583752, 0.9960574986637653, 0.9987879863992692, 0.9981299349348768, 0.9984426985923783, 0.9957724821880328, 0.9982191059245418, 0.9974492576805316, 0.9968548976268821, 0.9954575124526511, 0.9996793153740247, 0.9969001621799739, 0.999619008424978, 0.9987523329222623, 0.9987836925054807, 0.9968054597294442, 0.998018375642744, 0.9954462810126606, 0.9979482438508596, 0.9991699240292411, 0.9964862985675754, 0.9990382231398856, 0.9991128196616567, 0.9983767291617217, 0.997938462996771, 0.99540367506935, 0.9988906404473746, 0.9981790802286998, 0.9981783291970624, 0.9962126463968201, 0.9982660377311633, 0.9996274318801803, 0.9993779651631494, 0.9996206114029931, 0.9991637479530089, 0.9971311524646266, 0.9975806956867274, 0.994310396842272, 0.9993516571167531, 0.9974063009443468, 0.997394401815281, 0.999746505067759, 0.9958932718208109, 0.9984408769589989, 0.9985110934612257, 0.9946880412273249, 0.9980460134767759, 0.9965660888923189, 0.9980602484227279, 0.9967363151814591, 0.9960599306801973, 0.9979796639471705, 0.9995761225322829, 0.9971092048845068, 0.9975275830109783, 0.9963953319984945, 0.9973826508987043, 0.9995809655386169, 0.9971840670673715, 0.9969188894501524, 0.9989701918968634, 0.9990494635158387, 0.9976666361462421, 0.9991382157354468, 0.9989190786678753, 0.9991012549529291, 0.9982417454086712, 0.9978867044515829, 0.9980834563534412, 0.9970770239130892, 0.9980093508131989, 0.9988059843333714, 0.9958879799244423, 0.9974886437062871, 0.9987855070659583, 0.9986921913312354, 0.9979439022724, 0.9988268385733589, 0.997572362151407, 0.9973350035837303, 0.9988487819326319, 0.9986677689014498, 0.9980572309736019, 0.9996464163622347, 0.9976838797422286, 0.9983899697604526, 0.994790803922756, 0.9978013116568236, 0.9963433089079997, 0.995870047894162, 0.9947766011320592, 0.9963883345172415, 0.9992292352204191, 0.9968966271266082, 0.9967197285786847, 0.998997097553725, 0.994405499443939, 0.9992633031313523, 0.9978757965857712, 0.9998505613760874, 0.9996246174928504, 0.9995902789605038, 0.9976884957287774, 0.9966117812820492, 0.9989059373238717, 0.9948666540629002, 0.9983892061176056, 0.9948801931119969, 0.9986201341798465, 0.998038512826876, 0.9947679531265681, 0.9988345138440613, 0.9983253169394418, 0.9991652560131071, 0.9982540409393912, 0.99791171763473, 0.9985969980265015, 0.9988817826533288, 0.9996679397777826, 0.9991112840555821, 0.9990730152086682, 0.9987440579121698, 0.9973347961516799, 0.9962292635834558, 0.9984263728169851, 0.9992749639358414, 0.9995283410197432, 0.9970480917694337, 0.9984853846778383, 0.9975325318073737, 0.9971797924100786, 0.9979950726600239, 0.9989451985980851, 0.9991555800689093, 0.9994106778942616, 0.9995790743153904, 0.004330092585247047, 0.9915912020215738], \"Term\": [\"able\", \"already\", \"also\", \"always\", \"ask\", \"away\", \"back\", \"bad\", \"be\", \"become\", \"believe\", \"big\", \"bit\", \"bring\", \"business\", \"call\", \"can\", \"care\", \"case\", \"challenge\", \"change\", \"child\", \"clear\", \"close\", \"come\", \"continue\", \"could\", \"country\", \"day\", \"decision\", \"do\", \"early\", \"economy\", \"end\", \"enough\", \"even\", \"ever\", \"face\", \"family\", \"far\", \"feel\", \"find\", \"first\", \"friend\", \"game\", \"get\", \"give\", \"go\", \"good\", \"government\", \"great\", \"grow\", \"happen\", \"happy\", \"hard\", \"have\", \"health\", \"hear\", \"help\", \"high\", \"home\", \"hope\", \"important\", \"issue\", \"job\", \"keep\", \"know\", \"last\", \"learn\", \"leave\", \"let\", \"life\", \"little\", \"live\", \"long\", \"look\", \"lose\", \"lot\", \"love\", \"make\", \"man\", \"many\", \"may\", \"mean\", \"meet\", \"moment\", \"money\", \"move\", \"much\", \"need\", \"never\", \"new\", \"next\", \"night\", \"number\", \"old\", \"part\", \"people\", \"person\", \"place\", \"plan\", \"play\", \"player\", \"point\", \"possible\", \"problem\", \"put\", \"read\", \"real\", \"really\", \"remember\", \"right\", \"risk\", \"s\", \"say\", \"see\", \"show\", \"sort\", \"start\", \"state\", \"stay\", \"step\", \"still\", \"stop\", \"story\", \"support\", \"system\", \"take\", \"talk\", \"team\", \"tell\", \"thing\", \"think\", \"time\", \"together\", \"try\", \"turn\", \"use\", \"virus\", \"want\", \"way\", \"week\", \"well\", \"will\", \"win\", \"woman\", \"work\", \"world\", \"would\", \"year\", \"young\", \"young\"]}, \"R\": 30, \"lambda.step\": 0.01, \"plot.opts\": {\"xlab\": \"PC1\", \"ylab\": \"PC2\"}, \"topic.order\": [3, 1, 5, 2, 4]};\n",
              "\n",
              "function LDAvis_load_lib(url, callback){\n",
              "  var s = document.createElement('script');\n",
              "  s.src = url;\n",
              "  s.async = true;\n",
              "  s.onreadystatechange = s.onload = callback;\n",
              "  s.onerror = function(){console.warn(\"failed to load library \" + url);};\n",
              "  document.getElementsByTagName(\"head\")[0].appendChild(s);\n",
              "}\n",
              "\n",
              "if(typeof(LDAvis) !== \"undefined\"){\n",
              "   // already loaded: just create the visualization\n",
              "   !function(LDAvis){\n",
              "       new LDAvis(\"#\" + \"ldavis_el6161397877180119846289820840\", ldavis_el6161397877180119846289820840_data);\n",
              "   }(LDAvis);\n",
              "}else if(typeof define === \"function\" && define.amd){\n",
              "   // require.js is available: use it to load d3/LDAvis\n",
              "   require.config({paths: {d3: \"https://d3js.org/d3.v5\"}});\n",
              "   require([\"d3\"], function(d3){\n",
              "      window.d3 = d3;\n",
              "      LDAvis_load_lib(\"https://cdn.jsdelivr.net/gh/bmabey/pyLDAvis@3.3.1/pyLDAvis/js/ldavis.v3.0.0.js\", function(){\n",
              "        new LDAvis(\"#\" + \"ldavis_el6161397877180119846289820840\", ldavis_el6161397877180119846289820840_data);\n",
              "      });\n",
              "    });\n",
              "}else{\n",
              "    // require.js not available: dynamically load d3 & LDAvis\n",
              "    LDAvis_load_lib(\"https://d3js.org/d3.v5.js\", function(){\n",
              "         LDAvis_load_lib(\"https://cdn.jsdelivr.net/gh/bmabey/pyLDAvis@3.3.1/pyLDAvis/js/ldavis.v3.0.0.js\", function(){\n",
              "                 new LDAvis(\"#\" + \"ldavis_el6161397877180119846289820840\", ldavis_el6161397877180119846289820840_data);\n",
              "            })\n",
              "         });\n",
              "}\n",
              "</script>"
            ],
            "text/plain": [
              "PreparedData(topic_coordinates=              x         y  topics  cluster       Freq\n",
              "topic                                                \n",
              "2      0.223394 -0.281611       1        1  23.505104\n",
              "0     -0.339992 -0.133487       2        1  22.936179\n",
              "4      0.049154  0.213976       3        1  19.692460\n",
              "1      0.037701  0.128942       4        1  17.900812\n",
              "3      0.029743  0.072179       5        1  15.965445, topic_info=        Term         Freq        Total Category  logprob  loglift\n",
              "37        be  2485.000000  2485.000000  Default  30.0000  30.0000\n",
              "41        go  2388.000000  2388.000000  Default  29.0000  29.0000\n",
              "55    people  1964.000000  1964.000000  Default  28.0000  28.0000\n",
              "65         s  2174.000000  2174.000000  Default  27.0000  27.0000\n",
              "105    would  2065.000000  2065.000000  Default  26.0000  26.0000\n",
              "...      ...          ...          ...      ...      ...      ...\n",
              "53     happy   198.739048   199.517488   Topic5  -5.1357   1.8308\n",
              "1477    high   193.258578   194.030683   Topic5  -5.1637   1.8308\n",
              "399     plan   184.191787   184.963511   Topic5  -5.2118   1.8306\n",
              "493     grow   182.265466   183.041433   Topic5  -5.2223   1.8305\n",
              "127     sort   182.839864   183.622152   Topic5  -5.2191   1.8305\n",
              "\n",
              "[181 rows x 6 columns], token_table=      Topic      Freq     Term\n",
              "term                          \n",
              "106       1  0.997112     able\n",
              "491       4  0.996551  already\n",
              "669       1  0.998265     also\n",
              "447       1  0.998225   always\n",
              "1024      3  0.996891      ask\n",
              "...     ...       ...      ...\n",
              "67        2  0.999156    world\n",
              "105       1  0.999411    would\n",
              "29        3  0.999579     year\n",
              "376       1  0.004330    young\n",
              "376       4  0.991591    young\n",
              "\n",
              "[152 rows x 3 columns], R=30, lambda_step=0.01, plot_opts={'xlab': 'PC1', 'ylab': 'PC2'}, topic_order=[3, 1, 5, 2, 4])"
            ]
          },
          "metadata": {},
          "execution_count": 81
        }
      ]
    },
    {
      "cell_type": "code",
      "metadata": {
        "colab": {
          "base_uri": "https://localhost:8080/",
          "height": 359
        },
        "id": "A0ly19pYR7Mi",
        "outputId": "c2b6e2a7-ae3c-4768-c5af-d83446fe8754"
      },
      "source": [
        "def take_second(elem):\n",
        "    return elem[1]\n",
        "\n",
        "def format_topics_sentences(ldamodel=lda_model, corpus=corpus, texts=data):\n",
        "    # Init output\n",
        "    sent_topics_df = pd.DataFrame()\n",
        "\n",
        "    # Get main topic in each document\n",
        "    for i, row in enumerate(ldamodel[corpus]):\n",
        "        row = sorted(row[0], key=take_second, reverse=True)        \n",
        "        # Get the Dominant topic, Perc Contribution and Keywords for each document\n",
        "        for j, (topic_num, prop_topic) in enumerate(row):\n",
        "            if j == 0:  # => dominant topic\n",
        "                wp = ldamodel.show_topic(topic_num)\n",
        "                topic_keywords = \", \".join([word for word, prop in wp])\n",
        "                sent_topics_df = sent_topics_df.append(pd.Series([int(topic_num), round(prop_topic,4), topic_keywords]), ignore_index=True)\n",
        "            else:\n",
        "                break\n",
        "    sent_topics_df.columns = ['Dominant_Topic', 'Perc_Contribution', 'Topic_Keywords']\n",
        "\n",
        "    # Add original text to the end of the output\n",
        "    contents = pd.Series(texts)\n",
        "    sent_topics_df = pd.concat([sent_topics_df, contents], axis=1)\n",
        "    return(sent_topics_df)\n",
        "\n",
        "\n",
        "df_topic_sents_keywords = format_topics_sentences(ldamodel=optimal_model, corpus=corpus, texts=data)\n",
        "\n",
        "# Format\n",
        "df_dominant_topic = df_topic_sents_keywords.reset_index()\n",
        "df_dominant_topic.columns = ['Document_No', 'Dominant_Topic', 'Topic_Perc_Contrib', 'Keywords', 'Text']\n",
        "\n",
        "# Show\n",
        "df_dominant_topic.head(10)"
      ],
      "execution_count": 82,
      "outputs": [
        {
          "output_type": "execute_result",
          "data": {
            "text/html": [
              "<div>\n",
              "<style scoped>\n",
              "    .dataframe tbody tr th:only-of-type {\n",
              "        vertical-align: middle;\n",
              "    }\n",
              "\n",
              "    .dataframe tbody tr th {\n",
              "        vertical-align: top;\n",
              "    }\n",
              "\n",
              "    .dataframe thead th {\n",
              "        text-align: right;\n",
              "    }\n",
              "</style>\n",
              "<table border=\"1\" class=\"dataframe\">\n",
              "  <thead>\n",
              "    <tr style=\"text-align: right;\">\n",
              "      <th></th>\n",
              "      <th>Document_No</th>\n",
              "      <th>Dominant_Topic</th>\n",
              "      <th>Topic_Perc_Contrib</th>\n",
              "      <th>Keywords</th>\n",
              "      <th>Text</th>\n",
              "    </tr>\n",
              "  </thead>\n",
              "  <tbody>\n",
              "    <tr>\n",
              "      <th>0</th>\n",
              "      <td>0</td>\n",
              "      <td>0.0</td>\n",
              "      <td>0.2693</td>\n",
              "      <td>be, go, s, get, think, want, say, feel, love, ...</td>\n",
              "      <td>As you reach or have reached the apex of your ...</td>\n",
              "    </tr>\n",
              "    <tr>\n",
              "      <th>1</th>\n",
              "      <td>1</td>\n",
              "      <td>3.0</td>\n",
              "      <td>0.2682</td>\n",
              "      <td>take, could, even, support, help, government, ...</td>\n",
              "      <td>At the same time we want to remain friends wit...</td>\n",
              "    </tr>\n",
              "    <tr>\n",
              "      <th>2</th>\n",
              "      <td>2</td>\n",
              "      <td>4.0</td>\n",
              "      <td>0.3561</td>\n",
              "      <td>know, make, really, come, see, good, need, yea...</td>\n",
              "      <td>Been home-schooling a 6-year-old and 8-year-ol...</td>\n",
              "    </tr>\n",
              "    <tr>\n",
              "      <th>3</th>\n",
              "      <td>3</td>\n",
              "      <td>1.0</td>\n",
              "      <td>0.2587</td>\n",
              "      <td>people, have, thing, work, way, life, never, t...</td>\n",
              "      <td>I am now in agreement that we should move forw...</td>\n",
              "    </tr>\n",
              "    <tr>\n",
              "      <th>4</th>\n",
              "      <td>4</td>\n",
              "      <td>0.0</td>\n",
              "      <td>0.2707</td>\n",
              "      <td>be, go, s, get, think, want, say, feel, love, ...</td>\n",
              "      <td>I dont want to make a career out of [ remaking...</td>\n",
              "    </tr>\n",
              "    <tr>\n",
              "      <th>5</th>\n",
              "      <td>5</td>\n",
              "      <td>0.0</td>\n",
              "      <td>0.2463</td>\n",
              "      <td>be, go, s, get, think, want, say, feel, love, ...</td>\n",
              "      <td>Im not in medieval times!</td>\n",
              "    </tr>\n",
              "    <tr>\n",
              "      <th>6</th>\n",
              "      <td>6</td>\n",
              "      <td>1.0</td>\n",
              "      <td>0.2580</td>\n",
              "      <td>people, have, thing, work, way, life, never, t...</td>\n",
              "      <td>It was a lot of fun, it was like a football ga...</td>\n",
              "    </tr>\n",
              "    <tr>\n",
              "      <th>7</th>\n",
              "      <td>7</td>\n",
              "      <td>4.0</td>\n",
              "      <td>0.2836</td>\n",
              "      <td>know, make, really, come, see, good, need, yea...</td>\n",
              "      <td>We still need to have our critical infrastruct...</td>\n",
              "    </tr>\n",
              "    <tr>\n",
              "      <th>8</th>\n",
              "      <td>8</td>\n",
              "      <td>2.0</td>\n",
              "      <td>0.2219</td>\n",
              "      <td>would, time, look, day, well, also, can, give,...</td>\n",
              "      <td>Your positivity on screen makes so many people...</td>\n",
              "    </tr>\n",
              "    <tr>\n",
              "      <th>9</th>\n",
              "      <td>9</td>\n",
              "      <td>0.0</td>\n",
              "      <td>0.3651</td>\n",
              "      <td>be, go, s, get, think, want, say, feel, love, ...</td>\n",
              "      <td>At this moment, when theres so much fear in th...</td>\n",
              "    </tr>\n",
              "  </tbody>\n",
              "</table>\n",
              "</div>"
            ],
            "text/plain": [
              "   Document_No  ...                                               Text\n",
              "0            0  ...  As you reach or have reached the apex of your ...\n",
              "1            1  ...  At the same time we want to remain friends wit...\n",
              "2            2  ...  Been home-schooling a 6-year-old and 8-year-ol...\n",
              "3            3  ...  I am now in agreement that we should move forw...\n",
              "4            4  ...  I dont want to make a career out of [ remaking...\n",
              "5            5  ...                          Im not in medieval times!\n",
              "6            6  ...  It was a lot of fun, it was like a football ga...\n",
              "7            7  ...  We still need to have our critical infrastruct...\n",
              "8            8  ...  Your positivity on screen makes so many people...\n",
              "9            9  ...  At this moment, when theres so much fear in th...\n",
              "\n",
              "[10 rows x 5 columns]"
            ]
          },
          "metadata": {},
          "execution_count": 82
        }
      ]
    },
    {
      "cell_type": "code",
      "metadata": {
        "colab": {
          "base_uri": "https://localhost:8080/",
          "height": 204
        },
        "id": "35EN2TkBU5rO",
        "outputId": "ccb42efa-1349-4a49-c8c6-6aef4eb35e8f"
      },
      "source": [
        "# Group top 5 sentences under each topic\n",
        "sent_topics_sorteddf_mallet = pd.DataFrame()\n",
        "\n",
        "sent_topics_outdf_grpd = df_topic_sents_keywords.groupby('Dominant_Topic')\n",
        "\n",
        "for i, grp in sent_topics_outdf_grpd:\n",
        "    sent_topics_sorteddf_mallet = pd.concat([sent_topics_sorteddf_mallet, \n",
        "                                             grp.sort_values(['Perc_Contribution'], ascending=[0]).head(1)], \n",
        "                                            axis=0)\n",
        "\n",
        "# Reset Index    \n",
        "sent_topics_sorteddf_mallet.reset_index(drop=True, inplace=True)\n",
        "\n",
        "# Format\n",
        "sent_topics_sorteddf_mallet.columns = ['Topic_Num', \"Topic_Perc_Contrib\", \"Keywords\", \"Text\"]\n",
        "\n",
        "# Show\n",
        "sent_topics_sorteddf_mallet.head()"
      ],
      "execution_count": 83,
      "outputs": [
        {
          "output_type": "execute_result",
          "data": {
            "text/html": [
              "<div>\n",
              "<style scoped>\n",
              "    .dataframe tbody tr th:only-of-type {\n",
              "        vertical-align: middle;\n",
              "    }\n",
              "\n",
              "    .dataframe tbody tr th {\n",
              "        vertical-align: top;\n",
              "    }\n",
              "\n",
              "    .dataframe thead th {\n",
              "        text-align: right;\n",
              "    }\n",
              "</style>\n",
              "<table border=\"1\" class=\"dataframe\">\n",
              "  <thead>\n",
              "    <tr style=\"text-align: right;\">\n",
              "      <th></th>\n",
              "      <th>Topic_Num</th>\n",
              "      <th>Topic_Perc_Contrib</th>\n",
              "      <th>Keywords</th>\n",
              "      <th>Text</th>\n",
              "    </tr>\n",
              "  </thead>\n",
              "  <tbody>\n",
              "    <tr>\n",
              "      <th>0</th>\n",
              "      <td>0.0</td>\n",
              "      <td>0.4066</td>\n",
              "      <td>be, go, s, get, think, want, say, feel, love, ...</td>\n",
              "      <td>So hes a bit like George Maharis, hes a bit li...</td>\n",
              "    </tr>\n",
              "    <tr>\n",
              "      <th>1</th>\n",
              "      <td>1.0</td>\n",
              "      <td>0.3546</td>\n",
              "      <td>people, have, thing, work, way, life, never, t...</td>\n",
              "      <td>So the anti-tobacco people have got to attack ...</td>\n",
              "    </tr>\n",
              "    <tr>\n",
              "      <th>2</th>\n",
              "      <td>2.0</td>\n",
              "      <td>0.3805</td>\n",
              "      <td>would, time, look, day, well, also, can, give,...</td>\n",
              "      <td>Lastly, keeping loose condoms in your wallet, ...</td>\n",
              "    </tr>\n",
              "    <tr>\n",
              "      <th>3</th>\n",
              "      <td>3.0</td>\n",
              "      <td>0.3621</td>\n",
              "      <td>take, could, even, support, help, government, ...</td>\n",
              "      <td>The government needs to do an awful lot more t...</td>\n",
              "    </tr>\n",
              "    <tr>\n",
              "      <th>4</th>\n",
              "      <td>4.0</td>\n",
              "      <td>0.3681</td>\n",
              "      <td>know, make, really, come, see, good, need, yea...</td>\n",
              "      <td>We need everyone to continue to comply with th...</td>\n",
              "    </tr>\n",
              "  </tbody>\n",
              "</table>\n",
              "</div>"
            ],
            "text/plain": [
              "   Topic_Num  ...                                               Text\n",
              "0        0.0  ...  So hes a bit like George Maharis, hes a bit li...\n",
              "1        1.0  ...  So the anti-tobacco people have got to attack ...\n",
              "2        2.0  ...  Lastly, keeping loose condoms in your wallet, ...\n",
              "3        3.0  ...  The government needs to do an awful lot more t...\n",
              "4        4.0  ...  We need everyone to continue to comply with th...\n",
              "\n",
              "[5 rows x 4 columns]"
            ]
          },
          "metadata": {},
          "execution_count": 83
        }
      ]
    },
    {
      "cell_type": "code",
      "metadata": {
        "colab": {
          "base_uri": "https://localhost:8080/",
          "height": 204
        },
        "id": "2dBlpFtnSQEb",
        "outputId": "a0ccfa00-0f62-4920-c3e9-9c80ece6601f"
      },
      "source": [
        "# Number of Documents for Each Topic\n",
        "topic_counts = df_topic_sents_keywords['Dominant_Topic'].value_counts()\n",
        "\n",
        "# Percentage of Documents for Each Topic\n",
        "topic_contribution = round(topic_counts/topic_counts.sum(), 4)\n",
        "\n",
        "# Topic Number and Keywords\n",
        "topic_num_keywords = df_topic_sents_keywords[['Dominant_Topic', 'Topic_Keywords']]\n",
        "\n",
        "# Concatenate Column wise\n",
        "df_dominant_topics = pd.concat([topic_num_keywords, topic_counts, topic_contribution], axis=1)\n",
        "\n",
        "# Change Column names\n",
        "df_dominant_topics.columns = ['Dominant_Topic', 'Topic_Keywords', 'Num_Documents', 'Perc_Documents']\n",
        "\n",
        "# Show\n",
        "df_dominant_topics.head(5)"
      ],
      "execution_count": 87,
      "outputs": [
        {
          "output_type": "execute_result",
          "data": {
            "text/html": [
              "<div>\n",
              "<style scoped>\n",
              "    .dataframe tbody tr th:only-of-type {\n",
              "        vertical-align: middle;\n",
              "    }\n",
              "\n",
              "    .dataframe tbody tr th {\n",
              "        vertical-align: top;\n",
              "    }\n",
              "\n",
              "    .dataframe thead th {\n",
              "        text-align: right;\n",
              "    }\n",
              "</style>\n",
              "<table border=\"1\" class=\"dataframe\">\n",
              "  <thead>\n",
              "    <tr style=\"text-align: right;\">\n",
              "      <th></th>\n",
              "      <th>Dominant_Topic</th>\n",
              "      <th>Topic_Keywords</th>\n",
              "      <th>Num_Documents</th>\n",
              "      <th>Perc_Documents</th>\n",
              "    </tr>\n",
              "  </thead>\n",
              "  <tbody>\n",
              "    <tr>\n",
              "      <th>0.0</th>\n",
              "      <td>0.0</td>\n",
              "      <td>be, go, s, get, think, want, say, feel, love, ...</td>\n",
              "      <td>9054.0</td>\n",
              "      <td>0.3473</td>\n",
              "    </tr>\n",
              "    <tr>\n",
              "      <th>1.0</th>\n",
              "      <td>3.0</td>\n",
              "      <td>take, could, even, support, help, government, ...</td>\n",
              "      <td>631.0</td>\n",
              "      <td>0.0242</td>\n",
              "    </tr>\n",
              "    <tr>\n",
              "      <th>2.0</th>\n",
              "      <td>4.0</td>\n",
              "      <td>know, make, really, come, see, good, need, yea...</td>\n",
              "      <td>14066.0</td>\n",
              "      <td>0.5395</td>\n",
              "    </tr>\n",
              "    <tr>\n",
              "      <th>3.0</th>\n",
              "      <td>1.0</td>\n",
              "      <td>people, have, thing, work, way, life, never, t...</td>\n",
              "      <td>236.0</td>\n",
              "      <td>0.0091</td>\n",
              "    </tr>\n",
              "    <tr>\n",
              "      <th>4.0</th>\n",
              "      <td>0.0</td>\n",
              "      <td>be, go, s, get, think, want, say, feel, love, ...</td>\n",
              "      <td>2083.0</td>\n",
              "      <td>0.0799</td>\n",
              "    </tr>\n",
              "  </tbody>\n",
              "</table>\n",
              "</div>"
            ],
            "text/plain": [
              "     Dominant_Topic  ... Perc_Documents\n",
              "0.0             0.0  ...         0.3473\n",
              "1.0             3.0  ...         0.0242\n",
              "2.0             4.0  ...         0.5395\n",
              "3.0             1.0  ...         0.0091\n",
              "4.0             0.0  ...         0.0799\n",
              "\n",
              "[5 rows x 4 columns]"
            ]
          },
          "metadata": {},
          "execution_count": 87
        }
      ]
    },
    {
      "cell_type": "code",
      "metadata": {
        "colab": {
          "base_uri": "https://localhost:8080/"
        },
        "id": "vfZQOgnPYADo",
        "outputId": "e727d943-01f4-4a45-ba3e-03c27f7b0a5e"
      },
      "source": [
        "for i in range(0,5):\n",
        "  print(str(i) + \" \" + df_dominant_topics.Topic_Keywords[i])"
      ],
      "execution_count": 93,
      "outputs": [
        {
          "output_type": "stream",
          "name": "stdout",
          "text": [
            "0 be, go, s, get, think, want, say, feel, love, back\n",
            "1 take, could, even, support, help, government, show, change, talk, live\n",
            "2 know, make, really, come, see, good, need, year, still, big\n",
            "3 people, have, thing, work, way, life, never, try, many, right\n",
            "4 be, go, s, get, think, want, say, feel, love, back\n"
          ]
        }
      ]
    },
    {
      "cell_type": "code",
      "metadata": {
        "id": "gpyAqzkXcFBb"
      },
      "source": [
        ""
      ],
      "execution_count": null,
      "outputs": []
    },
    {
      "cell_type": "markdown",
      "metadata": {
        "id": "YqPskgSLcF-W"
      },
      "source": [
        "# LDA 2 (https://towardsdatascience.com/topic-modeling-and-latent-dirichlet-allocation-in-python-9bf156893c24)"
      ]
    },
    {
      "cell_type": "code",
      "metadata": {
        "colab": {
          "base_uri": "https://localhost:8080/"
        },
        "id": "4Cp2k7Z2cJnO",
        "outputId": "33df44ff-8d2f-42f5-d863-0e8f4cd490a8"
      },
      "source": [
        "import gensim\n",
        "from gensim.utils import simple_preprocess\n",
        "from gensim.parsing.preprocessing import STOPWORDS\n",
        "from nltk.stem import WordNetLemmatizer, SnowballStemmer\n",
        "from nltk.stem.porter import *\n",
        "from nltk.stem import PorterStemmer\n",
        "import numpy as np\n",
        "np.random.seed(2018)\n",
        "import nltk\n",
        "nltk.download('wordnet')"
      ],
      "execution_count": 112,
      "outputs": [
        {
          "output_type": "stream",
          "name": "stdout",
          "text": [
            "[nltk_data] Downloading package wordnet to /root/nltk_data...\n",
            "[nltk_data]   Package wordnet is already up-to-date!\n"
          ]
        },
        {
          "output_type": "execute_result",
          "data": {
            "text/plain": [
              "True"
            ]
          },
          "metadata": {},
          "execution_count": 112
        }
      ]
    },
    {
      "cell_type": "code",
      "metadata": {
        "id": "_iLKDwiOc7NH"
      },
      "source": [
        "def lemmatize_stemming(text):\n",
        "    ps = PorterStemmer()\n",
        "    return ps.stem(WordNetLemmatizer().lemmatize(text, pos='v'))\n",
        "\n",
        "def preprocess(text):\n",
        "    result = []\n",
        "    for token in gensim.utils.simple_preprocess(text):\n",
        "        if token not in gensim.parsing.preprocessing.STOPWORDS and len(token) > 3:\n",
        "            result.append(lemmatize_stemming(token))\n",
        "    return result"
      ],
      "execution_count": 115,
      "outputs": []
    },
    {
      "cell_type": "code",
      "metadata": {
        "colab": {
          "base_uri": "https://localhost:8080/",
          "height": 204
        },
        "id": "ZsLQ75Ayc9rg",
        "outputId": "bc4d7d4d-5405-4f50-ae36-53f945d259c5"
      },
      "source": [
        "documents = pd.read_pickle(QUOTES_2020_PATH)[['quotation']]\n",
        "documents['index'] = documents.index\n",
        "documents.head()"
      ],
      "execution_count": 109,
      "outputs": [
        {
          "output_type": "execute_result",
          "data": {
            "text/html": [
              "<div>\n",
              "<style scoped>\n",
              "    .dataframe tbody tr th:only-of-type {\n",
              "        vertical-align: middle;\n",
              "    }\n",
              "\n",
              "    .dataframe tbody tr th {\n",
              "        vertical-align: top;\n",
              "    }\n",
              "\n",
              "    .dataframe thead th {\n",
              "        text-align: right;\n",
              "    }\n",
              "</style>\n",
              "<table border=\"1\" class=\"dataframe\">\n",
              "  <thead>\n",
              "    <tr style=\"text-align: right;\">\n",
              "      <th></th>\n",
              "      <th>quotation</th>\n",
              "      <th>index</th>\n",
              "    </tr>\n",
              "  </thead>\n",
              "  <tbody>\n",
              "    <tr>\n",
              "      <th>0</th>\n",
              "      <td>As you reach or have reached the apex of your ...</td>\n",
              "      <td>0</td>\n",
              "    </tr>\n",
              "    <tr>\n",
              "      <th>1</th>\n",
              "      <td>At the same time we want to remain friends wit...</td>\n",
              "      <td>1</td>\n",
              "    </tr>\n",
              "    <tr>\n",
              "      <th>2</th>\n",
              "      <td>Been home-schooling a 6-year-old and 8-year-ol...</td>\n",
              "      <td>2</td>\n",
              "    </tr>\n",
              "    <tr>\n",
              "      <th>3</th>\n",
              "      <td>I am now in agreement that we should move forw...</td>\n",
              "      <td>3</td>\n",
              "    </tr>\n",
              "    <tr>\n",
              "      <th>4</th>\n",
              "      <td>I don't want to make a career out of [ remakin...</td>\n",
              "      <td>4</td>\n",
              "    </tr>\n",
              "  </tbody>\n",
              "</table>\n",
              "</div>"
            ],
            "text/plain": [
              "                                           quotation  index\n",
              "0  As you reach or have reached the apex of your ...      0\n",
              "1  At the same time we want to remain friends wit...      1\n",
              "2  Been home-schooling a 6-year-old and 8-year-ol...      2\n",
              "3  I am now in agreement that we should move forw...      3\n",
              "4  I don't want to make a career out of [ remakin...      4"
            ]
          },
          "metadata": {},
          "execution_count": 109
        }
      ]
    },
    {
      "cell_type": "code",
      "metadata": {
        "colab": {
          "base_uri": "https://localhost:8080/"
        },
        "id": "PcWxgDiudELJ",
        "outputId": "308a0946-57c3-44e7-bfea-7f5095a8ef8f"
      },
      "source": [
        "\n",
        "doc_sample = documents[documents['index'] == 4310].values[0][0]\n",
        "print('original document: ')\n",
        "words = []\n",
        "for word in doc_sample.split(' '):\n",
        "    words.append(word)\n",
        "print(words)\n",
        "print('\\n\\n tokenized and lemmatized document: ')\n",
        "print(preprocess(doc_sample))"
      ],
      "execution_count": 116,
      "outputs": [
        {
          "output_type": "stream",
          "name": "stdout",
          "text": [
            "original document: \n",
            "['Urgh,', 'my', 'ovaries', 'are', 'crying', 'all', 'the', 'time.', \"They're\", 'screaming!', 'I', 'cannot', 'wait', 'because', 'all', 'five', 'of', 'them', 'are', 'going', 'to', 'be', 'the', 'best', 'children.']\n",
            "\n",
            "\n",
            " tokenized and lemmatized document: \n",
            "['urgh', 'ovari', 'cri', 'time', 'scream', 'wait', 'go', 'best', 'children']\n"
          ]
        }
      ]
    },
    {
      "cell_type": "code",
      "metadata": {
        "colab": {
          "base_uri": "https://localhost:8080/"
        },
        "id": "WB5Z7iRSdcam",
        "outputId": "b0cdb7a4-4aea-4c27-a7b1-c49f27769088"
      },
      "source": [
        "processed_docs = documents['quotation'].map(preprocess)\n",
        "processed_docs[:10]"
      ],
      "execution_count": 117,
      "outputs": [
        {
          "output_type": "execute_result",
          "data": {
            "text/plain": [
              "0    [reach, reach, apex, career, build, certain, l...\n",
              "1    [time, want, remain, friend, european, neighbo...\n",
              "2    [home, school, year, year, hour, minut, teache...\n",
              "3                 [agreement, forward, claim, process]\n",
              "4                         [want, career, remak, paint]\n",
              "5                                       [mediev, time]\n",
              "6    [like, footbal, game, rock, concert, go, wasn,...\n",
              "7    [need, critic, infrastructur, continu, work, f...\n",
              "8     [posit, screen, make, peopl, happi, worri, time]\n",
              "9    [moment, fear, countri, fear, world, need, ame...\n",
              "Name: quotation, dtype: object"
            ]
          },
          "metadata": {},
          "execution_count": 117
        }
      ]
    },
    {
      "cell_type": "code",
      "metadata": {
        "colab": {
          "base_uri": "https://localhost:8080/"
        },
        "id": "5NsdEknVfvax",
        "outputId": "b0f537db-6731-44ff-c160-4c2ac82dcffc"
      },
      "source": [
        "dictionary = gensim.corpora.Dictionary(processed_docs)\n",
        "count = 0\n",
        "for k, v in dictionary.iteritems():\n",
        "    print(k, v)\n",
        "    count += 1\n",
        "    if count > 10:\n",
        "        break"
      ],
      "execution_count": 118,
      "outputs": [
        {
          "output_type": "stream",
          "name": "stdout",
          "text": [
            "0 apex\n",
            "1 block\n",
            "2 build\n",
            "3 career\n",
            "4 certain\n",
            "5 level\n",
            "6 reach\n",
            "7 resili\n",
            "8 thing\n",
            "9 drink\n",
            "10 european\n"
          ]
        }
      ]
    },
    {
      "cell_type": "code",
      "metadata": {
        "id": "K8IhcJq1f7zp"
      },
      "source": [
        "dictionary.filter_extremes(no_below=15, no_above=0.5, keep_n=100000) ## TODO 15 un peu haut peut-être"
      ],
      "execution_count": 119,
      "outputs": []
    },
    {
      "cell_type": "code",
      "metadata": {
        "colab": {
          "base_uri": "https://localhost:8080/"
        },
        "id": "i5ARQy5egIjx",
        "outputId": "6aceb267-6b39-49b0-c6d2-5cd5c3cf55f6"
      },
      "source": [
        "bow_corpus = [dictionary.doc2bow(doc) for doc in processed_docs]\n",
        "bow_corpus[4310]"
      ],
      "execution_count": 120,
      "outputs": [
        {
          "output_type": "execute_result",
          "data": {
            "text/plain": [
              "[(17, 1), (37, 1), (178, 1), (256, 1), (510, 1), (1253, 1), (1776, 1)]"
            ]
          },
          "metadata": {},
          "execution_count": 120
        }
      ]
    },
    {
      "cell_type": "code",
      "metadata": {
        "colab": {
          "base_uri": "https://localhost:8080/"
        },
        "id": "kaElaQDRgSFG",
        "outputId": "aa517ec1-d06b-407e-97b8-37b0ff1d1d68"
      },
      "source": [
        "bow_doc_4310 = bow_corpus[4310]\n",
        "for i in range(len(bow_doc_4310)):\n",
        "    print(\"Word {} (\\\"{}\\\") appears {} time.\".format(bow_doc_4310[i][0], \n",
        "                                               dictionary[bow_doc_4310[i][0]], \n",
        "bow_doc_4310[i][1]))"
      ],
      "execution_count": 121,
      "outputs": [
        {
          "output_type": "stream",
          "name": "stdout",
          "text": [
            "Word 17 (\"time\") appears 1 time.\n",
            "Word 37 (\"go\") appears 1 time.\n",
            "Word 178 (\"wait\") appears 1 time.\n",
            "Word 256 (\"best\") appears 1 time.\n",
            "Word 510 (\"children\") appears 1 time.\n",
            "Word 1253 (\"cri\") appears 1 time.\n",
            "Word 1776 (\"scream\") appears 1 time.\n"
          ]
        }
      ]
    },
    {
      "cell_type": "code",
      "metadata": {
        "colab": {
          "base_uri": "https://localhost:8080/"
        },
        "id": "tvwu_FJdgUVO",
        "outputId": "cf09780a-8354-4df7-b584-33289329fc03"
      },
      "source": [
        "from gensim import corpora, models\n",
        "tfidf = models.TfidfModel(bow_corpus)\n",
        "corpus_tfidf = tfidf[bow_corpus]\n",
        "from pprint import pprint\n",
        "for doc in corpus_tfidf:\n",
        "    pprint(doc)\n",
        "    break"
      ],
      "execution_count": 122,
      "outputs": [
        {
          "output_type": "stream",
          "name": "stdout",
          "text": [
            "[(0, 0.3438644481742555),\n",
            " (1, 0.2584543510844445),\n",
            " (2, 0.303242388627149),\n",
            " (3, 0.30642107980151123),\n",
            " (4, 0.2524401930107772),\n",
            " (5, 0.6182173108948154),\n",
            " (6, 0.39249041862471246),\n",
            " (7, 0.17070835372287213)]\n"
          ]
        }
      ]
    },
    {
      "cell_type": "code",
      "metadata": {
        "id": "M33dQawwgXot"
      },
      "source": [
        "lda_model = gensim.models.LdaMulticore(bow_corpus, num_topics=6, id2word=dictionary, passes=2, workers=2)"
      ],
      "execution_count": 129,
      "outputs": []
    },
    {
      "cell_type": "code",
      "metadata": {
        "colab": {
          "base_uri": "https://localhost:8080/"
        },
        "id": "E6DeK9rLgc5J",
        "outputId": "db7d8c1d-7e85-4f9e-bdb9-63444931c56e"
      },
      "source": [
        "for idx, topic in lda_model.print_topics(-1):\n",
        "    print('Topic: {} \\nWords: {}'.format(idx, topic))"
      ],
      "execution_count": 130,
      "outputs": [
        {
          "output_type": "stream",
          "name": "stdout",
          "text": [
            "Topic: 0 \n",
            "Words: 0.036*\"think\" + 0.026*\"go\" + 0.024*\"time\" + 0.018*\"thing\" + 0.015*\"like\" + 0.011*\"feel\" + 0.011*\"life\" + 0.010*\"right\" + 0.010*\"peopl\" + 0.007*\"best\"\n",
            "Topic: 1 \n",
            "Words: 0.030*\"want\" + 0.019*\"love\" + 0.014*\"world\" + 0.012*\"feel\" + 0.010*\"good\" + 0.010*\"know\" + 0.010*\"like\" + 0.009*\"peopl\" + 0.009*\"work\" + 0.007*\"go\"\n",
            "Topic: 2 \n",
            "Words: 0.013*\"year\" + 0.011*\"home\" + 0.010*\"go\" + 0.010*\"thing\" + 0.010*\"stay\" + 0.009*\"come\" + 0.009*\"happen\" + 0.008*\"take\" + 0.008*\"work\" + 0.007*\"leav\"\n",
            "Topic: 3 \n",
            "Words: 0.038*\"peopl\" + 0.016*\"need\" + 0.008*\"countri\" + 0.008*\"think\" + 0.006*\"chang\" + 0.006*\"health\" + 0.006*\"help\" + 0.006*\"right\" + 0.006*\"work\" + 0.005*\"case\"\n",
            "Topic: 4 \n",
            "Words: 0.025*\"come\" + 0.021*\"think\" + 0.020*\"time\" + 0.011*\"person\" + 0.010*\"like\" + 0.010*\"peopl\" + 0.009*\"need\" + 0.009*\"live\" + 0.009*\"week\" + 0.008*\"test\"\n",
            "Topic: 5 \n",
            "Words: 0.041*\"like\" + 0.035*\"know\" + 0.025*\"look\" + 0.018*\"go\" + 0.017*\"say\" + 0.013*\"work\" + 0.012*\"year\" + 0.010*\"want\" + 0.006*\"peopl\" + 0.006*\"time\"\n"
          ]
        }
      ]
    },
    {
      "cell_type": "code",
      "metadata": {
        "colab": {
          "base_uri": "https://localhost:8080/"
        },
        "id": "_wRVTqVegjtZ",
        "outputId": "cd0b0e85-5ead-4e02-845e-08e4afb491ed"
      },
      "source": [
        "lda_model_tfidf = gensim.models.LdaMulticore(corpus_tfidf, num_topics=6, id2word=dictionary, passes=2, workers=4)\n",
        "for idx, topic in lda_model_tfidf.print_topics(-1):\n",
        "    print('Topic: {} Word: {}'.format(idx, topic))"
      ],
      "execution_count": 132,
      "outputs": [
        {
          "output_type": "stream",
          "name": "stdout",
          "text": [
            "Topic: 0 Word: 0.014*\"think\" + 0.008*\"go\" + 0.007*\"want\" + 0.007*\"happen\" + 0.006*\"better\" + 0.006*\"peopl\" + 0.006*\"like\" + 0.006*\"right\" + 0.005*\"time\" + 0.005*\"know\"\n",
            "Topic: 1 Word: 0.015*\"like\" + 0.009*\"good\" + 0.009*\"feel\" + 0.008*\"come\" + 0.006*\"think\" + 0.006*\"go\" + 0.006*\"time\" + 0.006*\"thing\" + 0.006*\"peopl\" + 0.005*\"year\"\n",
            "Topic: 2 Word: 0.011*\"look\" + 0.007*\"need\" + 0.006*\"think\" + 0.006*\"like\" + 0.006*\"want\" + 0.005*\"play\" + 0.005*\"peopl\" + 0.005*\"know\" + 0.005*\"go\" + 0.005*\"come\"\n",
            "Topic: 3 Word: 0.011*\"peopl\" + 0.009*\"time\" + 0.007*\"say\" + 0.007*\"go\" + 0.007*\"like\" + 0.007*\"know\" + 0.006*\"need\" + 0.006*\"think\" + 0.005*\"want\" + 0.005*\"kill\"\n",
            "Topic: 4 Word: 0.015*\"know\" + 0.010*\"work\" + 0.008*\"peopl\" + 0.007*\"year\" + 0.007*\"tell\" + 0.007*\"think\" + 0.007*\"like\" + 0.005*\"happi\" + 0.005*\"live\" + 0.005*\"want\"\n",
            "Topic: 5 Word: 0.011*\"go\" + 0.011*\"love\" + 0.011*\"want\" + 0.011*\"thing\" + 0.007*\"time\" + 0.006*\"peopl\" + 0.006*\"think\" + 0.006*\"like\" + 0.006*\"life\" + 0.006*\"mean\"\n"
          ]
        }
      ]
    },
    {
      "cell_type": "code",
      "metadata": {
        "colab": {
          "base_uri": "https://localhost:8080/"
        },
        "id": "d7B72_WPgpjt",
        "outputId": "38b5af62-f66f-4905-d0fe-fca15a83e1e7"
      },
      "source": [
        "processed_docs[4310]"
      ],
      "execution_count": 133,
      "outputs": [
        {
          "output_type": "execute_result",
          "data": {
            "text/plain": [
              "['urgh', 'ovari', 'cri', 'time', 'scream', 'wait', 'go', 'best', 'children']"
            ]
          },
          "metadata": {},
          "execution_count": 133
        }
      ]
    },
    {
      "cell_type": "code",
      "metadata": {
        "colab": {
          "base_uri": "https://localhost:8080/"
        },
        "id": "Iw5SucE2g2tz",
        "outputId": "29422e10-0432-4eef-8130-594f332c19cf"
      },
      "source": [
        "for index, score in sorted(lda_model[bow_corpus[4310]], key=lambda tup: -1*tup[1]):\n",
        "    print(\"\\nScore: {}\\t \\nTopic: {}\".format(score, lda_model.print_topic(index, 10)))"
      ],
      "execution_count": 134,
      "outputs": [
        {
          "output_type": "stream",
          "name": "stdout",
          "text": [
            "\n",
            "Score: 0.5747553110122681\t \n",
            "Topic: 0.036*\"think\" + 0.026*\"go\" + 0.024*\"time\" + 0.018*\"thing\" + 0.015*\"like\" + 0.011*\"feel\" + 0.011*\"life\" + 0.010*\"right\" + 0.010*\"peopl\" + 0.007*\"best\"\n",
            "\n",
            "Score: 0.2492092400789261\t \n",
            "Topic: 0.025*\"come\" + 0.021*\"think\" + 0.020*\"time\" + 0.011*\"person\" + 0.010*\"like\" + 0.010*\"peopl\" + 0.009*\"need\" + 0.009*\"live\" + 0.009*\"week\" + 0.008*\"test\"\n",
            "\n",
            "Score: 0.11316174268722534\t \n",
            "Topic: 0.038*\"peopl\" + 0.016*\"need\" + 0.008*\"countri\" + 0.008*\"think\" + 0.006*\"chang\" + 0.006*\"health\" + 0.006*\"help\" + 0.006*\"right\" + 0.006*\"work\" + 0.005*\"case\"\n",
            "\n",
            "Score: 0.021070359274744987\t \n",
            "Topic: 0.041*\"like\" + 0.035*\"know\" + 0.025*\"look\" + 0.018*\"go\" + 0.017*\"say\" + 0.013*\"work\" + 0.012*\"year\" + 0.010*\"want\" + 0.006*\"peopl\" + 0.006*\"time\"\n",
            "\n",
            "Score: 0.020901814103126526\t \n",
            "Topic: 0.013*\"year\" + 0.011*\"home\" + 0.010*\"go\" + 0.010*\"thing\" + 0.010*\"stay\" + 0.009*\"come\" + 0.009*\"happen\" + 0.008*\"take\" + 0.008*\"work\" + 0.007*\"leav\"\n",
            "\n",
            "Score: 0.020901566371321678\t \n",
            "Topic: 0.030*\"want\" + 0.019*\"love\" + 0.014*\"world\" + 0.012*\"feel\" + 0.010*\"good\" + 0.010*\"know\" + 0.010*\"like\" + 0.009*\"peopl\" + 0.009*\"work\" + 0.007*\"go\"\n"
          ]
        }
      ]
    },
    {
      "cell_type": "code",
      "metadata": {
        "colab": {
          "base_uri": "https://localhost:8080/"
        },
        "id": "bngCGGkvg40Z",
        "outputId": "e33d692f-f2f4-4133-b7cc-819e8ef2a35e"
      },
      "source": [
        "for index, score in sorted(lda_model_tfidf[bow_corpus[4310]], key=lambda tup: -1*tup[1]):\n",
        "    print(\"\\nScore: {}\\t \\nTopic: {}\".format(score, lda_model_tfidf.print_topic(index, 10)))"
      ],
      "execution_count": 135,
      "outputs": [
        {
          "output_type": "stream",
          "name": "stdout",
          "text": [
            "\n",
            "Score: 0.5148168802261353\t \n",
            "Topic: 0.015*\"like\" + 0.009*\"good\" + 0.009*\"feel\" + 0.008*\"come\" + 0.006*\"think\" + 0.006*\"go\" + 0.006*\"time\" + 0.006*\"thing\" + 0.006*\"peopl\" + 0.005*\"year\"\n",
            "\n",
            "Score: 0.40106096863746643\t \n",
            "Topic: 0.011*\"peopl\" + 0.009*\"time\" + 0.007*\"say\" + 0.007*\"go\" + 0.007*\"like\" + 0.007*\"know\" + 0.006*\"need\" + 0.006*\"think\" + 0.005*\"want\" + 0.005*\"kill\"\n",
            "\n",
            "Score: 0.02116916887462139\t \n",
            "Topic: 0.011*\"look\" + 0.007*\"need\" + 0.006*\"think\" + 0.006*\"like\" + 0.006*\"want\" + 0.005*\"play\" + 0.005*\"peopl\" + 0.005*\"know\" + 0.005*\"go\" + 0.005*\"come\"\n",
            "\n",
            "Score: 0.021026279777288437\t \n",
            "Topic: 0.011*\"go\" + 0.011*\"love\" + 0.011*\"want\" + 0.011*\"thing\" + 0.007*\"time\" + 0.006*\"peopl\" + 0.006*\"think\" + 0.006*\"like\" + 0.006*\"life\" + 0.006*\"mean\"\n",
            "\n",
            "Score: 0.020982418209314346\t \n",
            "Topic: 0.014*\"think\" + 0.008*\"go\" + 0.007*\"want\" + 0.007*\"happen\" + 0.006*\"better\" + 0.006*\"peopl\" + 0.006*\"like\" + 0.006*\"right\" + 0.005*\"time\" + 0.005*\"know\"\n",
            "\n",
            "Score: 0.020944319665431976\t \n",
            "Topic: 0.015*\"know\" + 0.010*\"work\" + 0.008*\"peopl\" + 0.007*\"year\" + 0.007*\"tell\" + 0.007*\"think\" + 0.007*\"like\" + 0.005*\"happi\" + 0.005*\"live\" + 0.005*\"want\"\n"
          ]
        }
      ]
    },
    {
      "cell_type": "code",
      "metadata": {
        "id": "5HWmmDMFhWX2"
      },
      "source": [
        ""
      ],
      "execution_count": null,
      "outputs": []
    },
    {
      "cell_type": "markdown",
      "metadata": {
        "id": "kcT5OC6oiQTs"
      },
      "source": [
        "# LDA 3 (https://www.analyticsvidhya.com/blog/2016/08/beginners-guide-to-topic-modeling-in-python/)"
      ]
    },
    {
      "cell_type": "markdown",
      "metadata": {
        "id": "iQIHWEJmBgUB"
      },
      "source": [
        "We select the quotations as a list of strings"
      ]
    },
    {
      "cell_type": "code",
      "metadata": {
        "colab": {
          "base_uri": "https://localhost:8080/"
        },
        "id": "73u86eAciaHV",
        "outputId": "e6c288ff-79a0-46c6-b6aa-4bc2018ba355"
      },
      "source": [
        "doc_complete = pd.read_pickle(QUOTES_2020_PATH).quotation.tolist()\n",
        "doc_complete[:3]"
      ],
      "execution_count": 6,
      "outputs": [
        {
          "output_type": "execute_result",
          "data": {
            "text/plain": [
              "['As you reach or have reached the apex of your career, you build a certain level of resilience to block things out,',\n",
              " 'At the same time we want to remain friends with our European neighbours and offer a range of drinks at an excellent price.',\n",
              " 'Been home-schooling a 6-year-old and 8-year-old for 1 hour and 11 minutes. Teachers deserve to make a billion dollars a year. Or WEEK.']"
            ]
          },
          "metadata": {},
          "execution_count": 6
        }
      ]
    },
    {
      "cell_type": "markdown",
      "metadata": {
        "id": "E2bt2SDTBkOn"
      },
      "source": [
        "Now we clean the quotations by removing stop words, punctuation and by lemmatizing."
      ]
    },
    {
      "cell_type": "code",
      "metadata": {
        "colab": {
          "base_uri": "https://localhost:8080/"
        },
        "id": "MLJozk4ABzJE",
        "outputId": "fc9c21c9-c3ec-4646-82c8-172c5b9c8fb0"
      },
      "source": [
        "import nltk\n",
        "nltk.download('stopwords')\n",
        "nltk.download('wordnet')"
      ],
      "execution_count": 7,
      "outputs": [
        {
          "output_type": "stream",
          "name": "stdout",
          "text": [
            "[nltk_data] Downloading package stopwords to /root/nltk_data...\n",
            "[nltk_data]   Package stopwords is already up-to-date!\n",
            "[nltk_data] Downloading package wordnet to /root/nltk_data...\n",
            "[nltk_data]   Package wordnet is already up-to-date!\n"
          ]
        },
        {
          "output_type": "execute_result",
          "data": {
            "text/plain": [
              "True"
            ]
          },
          "metadata": {},
          "execution_count": 7
        }
      ]
    },
    {
      "cell_type": "code",
      "metadata": {
        "colab": {
          "base_uri": "https://localhost:8080/"
        },
        "id": "mTwzZxS1hHeI",
        "outputId": "b15f69cb-8f9f-4f6b-8ac1-2f4ed1b22b90"
      },
      "source": [
        "from nltk.corpus import stopwords \n",
        "from nltk.stem.wordnet import WordNetLemmatizer\n",
        "import string\n",
        "\n",
        "stop = set(stopwords.words('english'))\n",
        "exclude = set(string.punctuation) \n",
        "lemma = WordNetLemmatizer()\n",
        "def clean(doc):\n",
        "    stop_free = \" \".join([i for i in doc.lower().split() if i not in stop])\n",
        "    punc_free = ''.join(ch for ch in stop_free if ch not in exclude)\n",
        "    normalized = \" \".join(lemma.lemmatize(word) for word in punc_free.split())\n",
        "    return normalized\n",
        "\n",
        "doc_clean = [clean(doc).split() for doc in doc_complete]\n",
        "doc_clean[:3]"
      ],
      "execution_count": 9,
      "outputs": [
        {
          "output_type": "execute_result",
          "data": {
            "text/plain": [
              "[['reach',\n",
              "  'reached',\n",
              "  'apex',\n",
              "  'career',\n",
              "  'build',\n",
              "  'certain',\n",
              "  'level',\n",
              "  'resilience',\n",
              "  'block',\n",
              "  'thing',\n",
              "  'out'],\n",
              " ['time',\n",
              "  'want',\n",
              "  'remain',\n",
              "  'friend',\n",
              "  'european',\n",
              "  'neighbour',\n",
              "  'offer',\n",
              "  'range',\n",
              "  'drink',\n",
              "  'excellent',\n",
              "  'price'],\n",
              " ['homeschooling',\n",
              "  '6yearold',\n",
              "  '8yearold',\n",
              "  '1',\n",
              "  'hour',\n",
              "  '11',\n",
              "  'minute',\n",
              "  'teacher',\n",
              "  'deserve',\n",
              "  'make',\n",
              "  'billion',\n",
              "  'dollar',\n",
              "  'year',\n",
              "  'week']]"
            ]
          },
          "metadata": {},
          "execution_count": 9
        }
      ]
    },
    {
      "cell_type": "markdown",
      "metadata": {
        "id": "yg296e1YB9EJ"
      },
      "source": [
        "Now we create a document term matrix from the cleaned quotations, where every unique term is assigned an index."
      ]
    },
    {
      "cell_type": "code",
      "metadata": {
        "id": "2JvyzZGuiiie"
      },
      "source": [
        "import gensim\n",
        "from gensim import corpora\n",
        "\n",
        "# Creating the term dictionary of our courpus, where every unique term is assigned an index. \n",
        "dictionary = corpora.Dictionary(doc_clean)\n",
        "\n",
        "# Converting list of documents (corpus) into Document Term Matrix using dictionary prepared above.\n",
        "doc_term_matrix = [dictionary.doc2bow(doc) for doc in doc_clean]"
      ],
      "execution_count": 10,
      "outputs": []
    },
    {
      "cell_type": "markdown",
      "metadata": {
        "id": "Ba7M59yhCgJj"
      },
      "source": [
        "Now we create a LDA model to fit our data (using a multicore version to make it a bit faster). Takes a while."
      ]
    },
    {
      "cell_type": "code",
      "metadata": {
        "id": "VtOQlUG5iwsN"
      },
      "source": [
        "# Creating the object for LDA model using gensim library\n",
        "Lda = gensim.models.LdaMulticore\n",
        "# Running and Trainign LDA model on the document term matrix.\n",
        "ldamodel = Lda(doc_term_matrix, num_topics=10, id2word = dictionary, passes=10,workers=4)"
      ],
      "execution_count": 12,
      "outputs": []
    },
    {
      "cell_type": "markdown",
      "metadata": {
        "id": "WH6pra5uEMK6"
      },
      "source": [
        "We print the selected words for each topic"
      ]
    },
    {
      "cell_type": "code",
      "metadata": {
        "colab": {
          "base_uri": "https://localhost:8080/"
        },
        "id": "E8dp7lgki4eB",
        "outputId": "a44bb0dd-d5d6-480b-a24e-5a2f5daf1fbf"
      },
      "source": [
        "ldamodel.print_topics()\n"
      ],
      "execution_count": 13,
      "outputs": [
        {
          "output_type": "execute_result",
          "data": {
            "text/plain": [
              "[(0,\n",
              "  '0.010*\"like\" + 0.008*\"would\" + 0.007*\"im\" + 0.007*\"there\" + 0.006*\"feel\" + 0.006*\"one\" + 0.005*\"day\" + 0.005*\"now\" + 0.005*\"right\" + 0.005*\"take\"'),\n",
              " (1,\n",
              "  '0.019*\"im\" + 0.018*\"know\" + 0.017*\"think\" + 0.014*\"like\" + 0.013*\"time\" + 0.012*\"it\" + 0.012*\"ive\" + 0.012*\"thing\" + 0.011*\"going\" + 0.010*\"got\"'),\n",
              " (2,\n",
              "  '0.016*\"people\" + 0.012*\"get\" + 0.010*\"well\" + 0.009*\"take\" + 0.008*\"going\" + 0.008*\"back\" + 0.007*\"were\" + 0.007*\"keep\" + 0.006*\"away\" + 0.006*\"look\"'),\n",
              " (3,\n",
              "  '0.010*\"life\" + 0.010*\"like\" + 0.008*\"good\" + 0.008*\"there\" + 0.007*\"family\" + 0.006*\"lot\" + 0.005*\"one\" + 0.005*\"many\" + 0.005*\"friend\" + 0.004*\"love\"'),\n",
              " (4,\n",
              "  '0.007*\"stay\" + 0.007*\"bit\" + 0.006*\"really\" + 0.006*\"could\" + 0.006*\"f\" + 0.005*\"got\" + 0.005*\"much\" + 0.005*\"economy\" + 0.005*\"little\" + 0.004*\"feel\"'),\n",
              " (5,\n",
              "  '0.016*\"love\" + 0.013*\"get\" + 0.011*\"go\" + 0.010*\"he\" + 0.009*\"back\" + 0.009*\"want\" + 0.009*\"cant\" + 0.008*\"people\" + 0.008*\"you\" + 0.007*\"look\"'),\n",
              " (6,\n",
              "  '0.012*\"people\" + 0.008*\"last\" + 0.007*\"still\" + 0.005*\"going\" + 0.004*\"coronavirus\" + 0.004*\"year\" + 0.004*\"want\" + 0.004*\"need\" + 0.004*\"week\" + 0.004*\"well\"'),\n",
              " (7,\n",
              "  '0.010*\"people\" + 0.008*\"life\" + 0.007*\"make\" + 0.006*\"it\" + 0.006*\"get\" + 0.006*\"health\" + 0.006*\"need\" + 0.006*\"day\" + 0.005*\"way\" + 0.005*\"time\"'),\n",
              " (8,\n",
              "  '0.009*\"new\" + 0.007*\"community\" + 0.006*\"one\" + 0.006*\"work\" + 0.005*\"people\" + 0.005*\"every\" + 0.004*\"time\" + 0.004*\"day\" + 0.004*\"government\" + 0.004*\"system\"'),\n",
              " (9,\n",
              "  '0.011*\"world\" + 0.011*\"year\" + 0.009*\"u\" + 0.008*\"one\" + 0.007*\"really\" + 0.006*\"would\" + 0.006*\"time\" + 0.006*\"think\" + 0.006*\"like\" + 0.005*\"new\"')]"
            ]
          },
          "metadata": {},
          "execution_count": 13
        }
      ]
    },
    {
      "cell_type": "markdown",
      "metadata": {
        "id": "NZc2XOWZEToU"
      },
      "source": [
        "Now we want to compute the coherence score to assess our model (the lower the better)"
      ]
    },
    {
      "cell_type": "code",
      "metadata": {
        "colab": {
          "base_uri": "https://localhost:8080/"
        },
        "id": "w4Ef_g2nkw1W",
        "outputId": "9a474c03-91db-4422-ea75-53fdb0f95f83"
      },
      "source": [
        "from gensim.models import CoherenceModel\n",
        "\n",
        "coherence_model_lda = CoherenceModel(model=ldamodel, texts=doc_clean, dictionary=dictionary, coherence='c_v')\n",
        "coherence_lda = coherence_model_lda.get_coherence()\n",
        "coherence_lda"
      ],
      "execution_count": 14,
      "outputs": [
        {
          "output_type": "execute_result",
          "data": {
            "text/plain": [
              "0.3848689586863368"
            ]
          },
          "metadata": {},
          "execution_count": 14
        }
      ]
    },
    {
      "cell_type": "markdown",
      "metadata": {
        "id": "9thalhLAEosh"
      },
      "source": [
        "Let us visualize our topics in a clearer way ( the more sparse the circles, the better)."
      ]
    },
    {
      "cell_type": "code",
      "metadata": {
        "colab": {
          "base_uri": "https://localhost:8080/",
          "height": 949
        },
        "id": "ImqLh89XnL86",
        "outputId": "58c86c52-1afa-45e8-fbfa-2ddc7b759f70"
      },
      "source": [
        "import pyLDAvis\n",
        "import pyLDAvis.gensim_models \n",
        "pyLDAvis.enable_notebook()\n",
        "vis = pyLDAvis.gensim_models.prepare(ldamodel, doc_term_matrix, dictionary)\n",
        "vis"
      ],
      "execution_count": 16,
      "outputs": [
        {
          "output_type": "stream",
          "name": "stderr",
          "text": [
            "/usr/local/lib/python3.7/dist-packages/past/types/oldstr.py:5: DeprecationWarning: Using or importing the ABCs from 'collections' instead of from 'collections.abc' is deprecated since Python 3.3,and in 3.9 it will stop working\n",
            "  from collections import Iterable\n",
            "/usr/local/lib/python3.7/dist-packages/pyLDAvis/_prepare.py:247: FutureWarning: In a future version of pandas all arguments of DataFrame.drop except for the argument 'labels' will be keyword-only\n",
            "  by='saliency', ascending=False).head(R).drop('saliency', 1)\n"
          ]
        },
        {
          "output_type": "execute_result",
          "data": {
            "text/html": [
              "\n",
              "<link rel=\"stylesheet\" type=\"text/css\" href=\"https://cdn.jsdelivr.net/gh/bmabey/pyLDAvis@3.3.1/pyLDAvis/js/ldavis.v1.0.0.css\">\n",
              "\n",
              "\n",
              "<div id=\"ldavis_el50114007852264584070463301\"></div>\n",
              "<script type=\"text/javascript\">\n",
              "\n",
              "var ldavis_el50114007852264584070463301_data = {\"mdsDat\": {\"x\": [-0.13512986083859443, -0.0860909155514785, -0.02513821639028237, -0.004127701981104218, 0.06763066777013556, 0.03671030406724039, -0.05848786555837578, 0.20716799695255866, -0.07797182958834528, 0.0754374211182458], \"y\": [0.018700885168675668, 0.038921943047220534, 0.06639765277057459, 0.0313044910904794, 0.011076094577950493, 0.03419904047936568, -0.01726545792769414, 0.09372835455114716, -0.0400578860686739, -0.23700511768904578], \"topics\": [1, 2, 3, 4, 5, 6, 7, 8, 9, 10], \"cluster\": [1, 1, 1, 1, 1, 1, 1, 1, 1, 1], \"Freq\": [20.549195836784858, 10.460196480318796, 10.292902763625872, 10.217214923682548, 9.722833008950065, 9.570801515880637, 7.886075535742861, 7.696169974019604, 6.831589408269968, 6.77302055272479]}, \"tinfo\": {\"Term\": [\"love\", \"never\", \"ive\", \"know\", \"think\", \"it\", \"life\", \"get\", \"you\", \"world\", \"last\", \"new\", \"he\", \"im\", \"there\", \"well\", \"good\", \"keep\", \"year\", \"stay\", \"go\", \"take\", \"got\", \"me\", \"back\", \"health\", \"bit\", \"left\", \"f\", \"like\", \"vaccine\", \"excuse\", \"applied\", \"before\", \"telly\", \"hack\", \"angel\", \"punch\", \"steph\", \"heroic\", \"nonsense\", \"sexy\", \"flat\", \"lewis\", \"switch\", \"grip\", \"hurtful\", \"junior\", \"keanu\", \"hardly\", \"damn\", \"hidden\", \"allowed\", \"chest\", \"naked\", \"recognize\", \"unhelpful\", \"blame\", \"illegally\", \"t\", \"never\", \"liked\", \"ive\", \"stepped\", \"sleep\", \"whats\", \"backing\", \"easy\", \"yeah\", \"wrong\", \"know\", \"what\", \"i\", \"me\", \"if\", \"think\", \"im\", \"ok\", \"done\", \"it\", \"got\", \"say\", \"thing\", \"saying\", \"bad\", \"id\", \"said\", \"thought\", \"time\", \"going\", \"thats\", \"anything\", \"like\", \"always\", \"something\", \"someone\", \"would\", \"really\", \"one\", \"everyone\", \"want\", \"get\", \"good\", \"that\", \"go\", \"people\", \"could\", \"way\", \"see\", \"well\", \"captain\", \"nick\", \"pogba\", \"stockpile\", \"kiss\", \"fed\", \"valentine\", \"hug\", \"ben\", \"bloke\", \"butterfly\", \"thursday\", \"guarantee\", \"madrid\", \"vitamin\", \"miami\", \"isnt\", \"suck\", \"flatten\", \"condolence\", \"mortgage\", \"pint\", \"naughty\", \"evolution\", \"waited\", \"paul\", \"determine\", \"dont\", \"where\", \"some\", \"thumb\", \"glove\", \"add\", \"cricket\", \"love\", \"brexit\", \"oh\", \"freedom\", \"friendship\", \"speech\", \"gift\", \"unite\", \"god\", \"manchester\", \"touch\", \"chance\", \"thank\", \"especially\", \"no\", \"he\", \"you\", \"happy\", \"worry\", \"boy\", \"cant\", \"go\", \"campaign\", \"home\", \"look\", \"back\", \"get\", \"united\", \"real\", \"want\", \"great\", \"give\", \"try\", \"club\", \"play\", \"up\", \"family\", \"big\", \"people\", \"right\", \"like\", \"u\", \"come\", \"got\", \"day\", \"thats\", \"it\", \"going\", \"much\", \"say\", \"bedroom\", \"wuhan\", \"everyones\", \"ashamed\", \"square\", \"governor\", \"instinct\", \"reporting\", \"sober\", \"statutory\", \"iraq\", \"wan\", \"filled\", \"allows\", \"excluding\", \"chip\", \"dancer\", \"psychological\", \"frightened\", \"clock\", \"desperate\", \"exhausted\", \"kicked\", \"consistent\", \"strict\", \"restore\", \"impression\", \"rubbish\", \"achievement\", \"ya\", \"thousand\", \"childhood\", \"trouble\", \"left\", \"anxious\", \"thus\", \"wound\", \"fitness\", \"wall\", \"foot\", \"ambition\", \"seeing\", \"keep\", \"total\", \"healthy\", \"away\", \"term\", \"behind\", \"generation\", \"take\", \"staff\", \"child\", \"well\", \"men\", \"people\", \"were\", \"get\", \"back\", \"look\", \"point\", \"place\", \"going\", \"different\", \"business\", \"coming\", \"woman\", \"school\", \"together\", \"need\", \"right\", \"support\", \"good\", \"u\", \"time\", \"see\", \"country\", \"make\", \"go\", \"im\", \"really\", \"one\", \"like\", \"gon\", \"olympic\", \"award\", \"grown\", \"katie\", \"snow\", \"drought\", \"squirrel\", \"unfortunate\", \"thrilled\", \"anticipate\", \"leeds\", \"frequently\", \"healing\", \"ceremony\", \"assume\", \"los\", \"angeles\", \"spin\", \"relate\", \"agreement\", \"disappointed\", \"asset\", \"jonathan\", \"equality\", \"rebuild\", \"scott\", \"honour\", \"viral\", \"washington\", \"hearing\", \"joe\", \"na\", \"vast\", \"gender\", \"song\", \"served\", \"nasty\", \"climate\", \"world\", \"serve\", \"importance\", \"private\", \"accept\", \"trade\", \"return\", \"prize\", \"year\", \"looking\", \"problem\", \"animal\", \"taking\", \"cup\", \"change\", \"best\", \"u\", \"nobody\", \"exciting\", \"three\", \"new\", \"really\", \"one\", \"uk\", \"would\", \"death\", \"time\", \"were\", \"think\", \"see\", \"come\", \"like\", \"month\", \"day\", \"thing\", \"also\", \"people\", \"im\", \"every\", \"work\", \"want\", \"make\", \"much\", \"know\", \"save\", \"donald\", \"pace\", \"nsw\", \"suppose\", \"cutting\", \"smoking\", \"contained\", \"protection\", \"stepping\", \"electricity\", \"endless\", \"markle\", \"ditched\", \"consensus\", \"intimate\", \"breathing\", \"screening\", \"wealthy\", \"wasted\", \"dated\", \"organization\", \"my\", \"archive\", \"port\", \"won\", \"documentary\", \"anna\", \"financial\", \"resting\", \"hardship\", \"technology\", \"premier\", \"essential\", \"healthcare\", \"trump\", \"trial\", \"split\", \"cannot\", \"event\", \"distancing\", \"folk\", \"league\", \"paying\", \"social\", \"officer\", \"pandemic\", \"health\", \"meghan\", \"sentence\", \"foreign\", \"huge\", \"check\", \"protect\", \"extraordinary\", \"life\", \"police\", \"economic\", \"global\", \"\\u00a3\", \"make\", \"people\", \"every\", \"day\", \"need\", \"it\", \"way\", \"public\", \"get\", \"put\", \"time\", \"number\", \"would\", \"country\", \"nh\", \"could\", \"going\", \"help\", \"like\", \"best\", \"one\", \"back\", \"intensive\", \"pet\", \"fee\", \"fail\", \"gotten\", \"decisive\", \"divorce\", \"cat\", \"trainer\", \"afghanistan\", \"underneath\", \"mild\", \"implication\", \"ruthless\", \"confusion\", \"hygiene\", \"pundit\", \"teen\", \"parkinson\", \"remembering\", \"fist\", \"fury\", \"aspiration\", \"exceptional\", \"begging\", \"lg\", \"23\", \"delivered\", \"oasis\", \"communicated\", \"disease\", \"infected\", \"destroyed\", \"transmission\", \"payment\", \"slow\", \"spread\", \"outbreak\", \"intend\", \"prime\", \"advice\", \"symptom\", \"last\", \"clothes\", \"shut\", \"contact\", \"mask\", \"target\", \"tomorrow\", \"test\", \"patient\", \"sick\", \"epidemic\", \"coronavirus\", \"wearing\", \"border\", \"still\", \"minister\", \"virus\", \"role\", \"open\", \"care\", \"people\", \"fight\", \"able\", \"week\", \"play\", \"might\", \"pay\", \"going\", \"year\", \"well\", \"need\", \"want\", \"make\", \"u\", \"country\", \"like\", \"would\", \"take\", \"think\", \"thing\", \"\\ufe0f\", \"\\u2764\", \"sharing\", \"touched\", \"soil\", \"depending\", \"cross\", \"socialism\", \"recipe\", \"dare\", \"established\", \"relief\", \"diversity\", \"mix\", \"classic\", \"grief\", \"versus\", \"opponent\", \"mortality\", \"orbit\", \"provision\", \"those\", \"prove\", \"democratic\", \"tech\", \"registered\", \"hungry\", \"boob\", \"posting\", \"lens\", \"learning\", \"rage\", \"fiver\", \"territory\", \"election\", \"earlier\", \"meal\", \"per\", \"official\", \"choose\", \"cent\", \"president\", \"necessary\", \"maybe\", \"inside\", \"now\", \"eat\", \"live\", \"feel\", \"case\", \"there\", \"supposed\", \"like\", \"would\", \"seen\", \"rate\", \"right\", \"big\", \"lot\", \"take\", \"im\", \"day\", \"one\", \"many\", \"first\", \"way\", \"could\", \"state\", \"two\", \"u\", \"life\", \"want\", \"see\", \"year\", \"people\", \"contribute\", \"olympics\", \"failed\", \"longest\", \"male\", \"capable\", \"cape\", \"pool\", \"yoga\", \"survivor\", \"facing\", \"inquiry\", \"loud\", \"hampshire\", \"efficiency\", \"objective\", \"river\", \"joan\", \"manner\", \"ideal\", \"evolve\", \"urgently\", \"painful\", \"donated\", \"membership\", \"duration\", \"forest\", \"runner\", \"deportation\", \"schedule\", \"sic\", \"landscape\", \"attitude\", \"brain\", \"solution\", \"enormous\", \"false\", \"title\", \"managed\", \"union\", \"york\", \"program\", \"finding\", \"policy\", \"recent\", \"community\", \"politician\", \"incident\", \"new\", \"council\", \"project\", \"australia\", \"hold\", \"food\", \"sector\", \"priority\", \"process\", \"system\", \"justice\", \"work\", \"government\", \"every\", \"political\", \"service\", \"one\", \"clear\", \"course\", \"day\", \"making\", \"case\", \"people\", \"together\", \"time\", \"also\", \"talk\", \"see\", \"great\", \"money\", \"much\", \"number\", \"getting\", \"way\", \"thats\", \"need\", \"intelligence\", \"treating\", \"aside\", \"afternoon\", \"invisible\", \"muscle\", \"task\", \"threw\", \"epstein\", \"library\", \"skating\", \"attorney\", \"chose\", \"throat\", \"moon\", \"apology\", \"bushfires\", \"horror\", \"duchess\", \"brag\", \"racial\", \"manifesto\", \"shareholder\", \"shy\", \"triumph\", \"270\", \"childcare\", \"improved\", \"frozen\", \"adventure\", \"explanation\", \"fake\", \"prince\", \"hole\", \"dead\", \"black\", \"andrew\", \"burning\", \"smell\", \"white\", \"harry\", \"democrat\", \"simply\", \"mine\", \"date\", \"everywhere\", \"peace\", \"life\", \"decade\", \"family\", \"friend\", \"good\", \"royal\", \"there\", \"mother\", \"lot\", \"please\", \"like\", \"many\", \"him\", \"news\", \"daughter\", \"love\", \"said\", \"even\", \"one\", \"thought\", \"two\", \"year\", \"part\", \"something\", \"could\", \"woman\", \"time\", \"guy\", \"people\", \"ing\", \"protected\", \"workplace\", \"actively\", \"hang\", \"embarrassed\", \"romantic\", \"comedy\", \"don\", \"sooner\", \"sander\", \"inch\", \"everythings\", \"vegetable\", \"mechanism\", \"jeremy\", \"alarm\", \"glamorous\", \"zone\", \"heel\", \"daniel\", \"substantially\", \"attracted\", \"idiot\", \"feedback\", \"admitted\", \"coordinated\", \"nah\", \"relaxed\", \"rung\", \"f\", \"reserve\", \"customer\", \"5g\", \"2019\", \"economy\", \"limit\", \"warm\", \"growth\", \"received\", \"bottle\", \"negative\", \"stay\", \"sensible\", \"commission\", \"maintain\", \"mile\", \"period\", \"focused\", \"largest\", \"mass\", \"bit\", \"blood\", \"mate\", \"beyond\", \"product\", \"health\", \"idea\", \"could\", \"went\", \"little\", \"really\", \"must\", \"much\", \"took\", \"obviously\", \"got\", \"nothing\", \"feel\", \"better\", \"safe\", \"make\", \"day\", \"work\", \"it\", \"made\", \"want\", \"people\", \"home\", \"government\", \"support\", \"time\", \"still\"], \"Freq\": [646.0, 611.0, 752.0, 1297.0, 1361.0, 1116.0, 785.0, 1519.0, 431.0, 523.0, 341.0, 580.0, 594.0, 1651.0, 691.0, 786.0, 742.0, 367.0, 841.0, 228.0, 949.0, 653.0, 942.0, 623.0, 832.0, 317.0, 408.0, 176.0, 117.0, 1849.0, 31.901807881793896, 30.507165970694338, 21.825626573679237, 66.78788236675459, 28.708776574528382, 19.3746492364142, 18.945536503149455, 17.208324932931266, 13.795727391166803, 13.65305624642251, 13.622362030493472, 13.551167659811195, 23.831995688278194, 13.3772933348546, 13.25200196420923, 16.134041734908745, 12.66605324323221, 12.702461739977855, 11.676660979809359, 11.239313874551174, 11.791690098824853, 11.05203815305149, 58.97948954591491, 10.689176135824246, 10.708066050030082, 10.444516685761101, 10.437622533196938, 21.8741584720122, 10.088398844161889, 10.591297836755171, 558.6435881207587, 37.51858135292239, 648.1542144191601, 25.694524157130882, 53.41523991241943, 129.03984951310323, 17.896283498467966, 108.41153668555465, 63.58965292270267, 136.25098311828242, 985.2947084497702, 64.06060603014993, 107.01538543209784, 452.67802847759845, 24.053202096078685, 923.5835517531203, 1028.227578455048, 81.86778248706362, 245.92633396164888, 671.8401549086351, 565.4259153285427, 455.6607187274365, 635.7997909122222, 149.0813759825315, 133.44530394506515, 200.55806826547058, 279.08466456935963, 243.0255375009368, 699.5366956582185, 617.6134472327747, 387.01930012599996, 194.87227030273579, 776.747324122505, 294.9362949470317, 272.21025790478717, 193.52621772794473, 515.7072463089593, 443.3204887824543, 536.3811393610978, 199.7097348947286, 406.2119571369145, 464.99671279975576, 299.06741284381826, 248.21532663489418, 311.09712032903474, 425.4954937891285, 255.41340267363384, 261.0021176937109, 254.81071237828613, 253.4330178609696, 28.165292234151917, 20.829063295266362, 18.975566197053446, 20.098522061556295, 26.109492559199698, 18.295533198242197, 17.177391818648182, 16.31219769358444, 16.76122637869989, 18.039053047397243, 15.275840833275055, 14.93487004578443, 18.119888963717383, 13.554007065189527, 13.261355741202768, 12.78065687406642, 12.266969689111768, 12.164625337595849, 12.02904739591978, 11.968991407210531, 12.210561923447468, 11.753137939664239, 11.545326481154255, 11.241227760947865, 13.022209522781766, 31.970642263978405, 11.363836318428737, 26.737118492862994, 11.032552164120913, 10.554742150361877, 11.615925119762549, 14.162890780863433, 34.73950061492351, 23.562698263874076, 439.7339743944431, 45.36294419796469, 97.84922743937261, 38.21970073546856, 19.265767234101954, 23.533868205626153, 16.774885286796504, 14.625131686035713, 75.93829870630336, 31.11699705514334, 56.56533121561297, 76.15743248838184, 115.56381604058946, 52.02404396055579, 97.73691544728887, 284.3720667501162, 213.28525496553982, 149.410164732119, 49.73514297460099, 86.60095337763713, 238.07169166161356, 304.54970944591986, 50.64837474362349, 175.3742725167691, 194.9487856510114, 245.55237463960577, 362.3497773654321, 64.24646829401985, 98.03803191570962, 245.42986191701343, 138.68913199478544, 112.66709445649546, 99.61167976915607, 78.65943128275748, 101.47014241405128, 80.26461043885246, 123.7748453338744, 105.27112951996915, 221.91035595010655, 128.35397275102204, 192.283302282714, 148.6921502553647, 116.37983549759316, 128.2090574049943, 116.95450697021975, 113.41931061821613, 121.5607150528195, 123.03516892367065, 111.3889624156109, 110.0421801081316, 30.702240819733227, 27.58620954034813, 30.394099700140863, 22.719824562017486, 18.44017008126865, 21.72087372163183, 17.810044603724744, 17.25456488508286, 16.60606007514175, 16.124139242975577, 17.573769726638304, 15.649126444083667, 16.488311832827655, 23.848124409526257, 14.50054363908985, 14.324081908969948, 13.807347593984092, 14.128762942253626, 15.98402700214842, 13.08454945950861, 13.661534067944235, 12.62868639376314, 12.62832357017377, 12.38267841426494, 12.79000783115041, 12.226884042833802, 12.07048070317557, 11.500935576663833, 11.403155418499516, 18.680504746535707, 57.315220035995885, 20.759957022799693, 27.253249369232694, 141.0999777014508, 21.459279512037853, 15.146759623568503, 13.536681196314062, 13.484685539107911, 39.41033941970867, 44.7092229033028, 22.4060189190739, 61.66047845606495, 185.81993187162158, 31.158126262263945, 41.18098566619008, 162.94893933852288, 81.4628145608311, 62.60731696029281, 43.295364907541796, 236.21486894177548, 74.58714451140538, 153.36714874861002, 266.1703772576983, 66.4623575558943, 430.89223568474705, 188.73026934764454, 321.5269892478175, 212.73440949894172, 153.9479861599627, 87.33888803978259, 112.616209731357, 217.97402966514966, 81.20403662949471, 78.5906199136043, 84.60722599727723, 95.84886258317675, 81.15358656881243, 89.56152297147806, 134.12775502036578, 110.07164958035673, 86.87864871417943, 110.63241181865882, 115.16372361800995, 124.05595119373616, 103.71785091647297, 92.39517200777425, 104.18505901233893, 99.95273942409754, 103.09420991162543, 94.08301455878913, 95.5362908601054, 94.5963635858354, 80.1713858926073, 25.347770313390196, 45.737226095535, 20.23512196700541, 16.106287038650642, 15.915214178922064, 15.418962597148052, 15.154662329232872, 14.302020120021751, 14.522819302924574, 14.204024477896569, 14.159498456677415, 13.616126781396146, 13.624307231987864, 13.281146373220079, 16.136449673677628, 14.230157177992803, 13.463936447395113, 13.336047890297367, 13.538663181766584, 42.482650645458875, 14.666783175265781, 12.182586904391089, 11.991783764716933, 11.93042800539622, 11.575889720097557, 11.60838543359528, 16.25752700610698, 11.173547521624256, 10.998744334237177, 26.948520758250393, 52.80733441851673, 88.02758220807763, 20.83770512717475, 26.745859455713067, 74.62688718050134, 17.895889119261835, 21.88223570263193, 70.62490794009474, 311.98796665131414, 28.679806189918768, 19.582949981536583, 31.602733861079475, 37.76970520748546, 37.62980300184611, 42.66362645562079, 20.255614344787144, 292.3607492624929, 112.72862729450974, 108.78316233844701, 37.94064425844582, 80.44980679866568, 38.978898289577785, 123.89571026106496, 138.58493097168142, 240.48874687551842, 47.85836172068562, 34.86581659898973, 84.08265034576952, 141.23623468215516, 185.36246097076196, 208.36487261799613, 80.15770315290541, 175.05106963662138, 57.0777136716657, 168.9361415680101, 111.15504876524957, 156.05615221161244, 120.84657898985236, 105.92289856887096, 154.24599428967727, 68.90985648252537, 108.403282267447, 118.49954488618181, 87.81957410210856, 134.69002107334842, 116.07740802665217, 86.75312639234689, 90.84625831843915, 99.03733905347794, 90.78626623198183, 88.07239381523677, 89.63730957098437, 74.7532057191534, 42.806446085728886, 24.96221447966024, 23.480731178694764, 19.416583306760394, 19.20977899811694, 19.13469574617065, 17.58760028192687, 31.947907095147393, 16.233764548542315, 15.690509364567772, 15.201228666292563, 14.450593932995064, 14.214325524980367, 14.1127630839604, 14.074185722800545, 14.69416382113066, 13.543199320352556, 12.975204257705343, 13.111047117696565, 13.395117875195908, 12.825271775611512, 12.113070970758507, 11.944154036423118, 11.80571730901095, 11.86752322096899, 11.389419705765535, 12.000398533570296, 48.31242943646687, 10.95282410856947, 13.243610652869219, 30.074869089245286, 45.66037362762443, 51.80834369450111, 33.40911202979695, 99.53809508772198, 41.396747084256404, 23.76546474632088, 91.19994973218996, 66.4598415671751, 43.9252695797217, 22.11996236079508, 57.17299297697664, 19.29771986063179, 115.15115380563098, 44.85359630989856, 57.60529616143827, 156.3410075019786, 53.37240045479083, 22.435683434211374, 29.51608844619647, 73.08930771042805, 37.0544710986928, 71.25411782356454, 37.71995662306178, 203.61802485279821, 67.13409611481583, 46.13830049411528, 43.90410796984277, 57.81980507162369, 173.1368637245675, 253.6488295531026, 121.58773767253881, 150.29765272823198, 151.74054356985704, 168.02997058068578, 140.8298735814231, 80.12356815315445, 160.66368906880587, 90.41774923278668, 137.31269806551822, 75.45992135500738, 124.77458915478562, 85.02132129985941, 66.6543423684767, 80.86308307646634, 87.67200015463438, 65.74737050489, 77.67086268121086, 64.84489789911146, 70.65683983971286, 67.84007495945829, 28.53544067641227, 27.91249587144007, 26.869533336936207, 25.06586624590943, 19.817280943667622, 17.607556091027842, 16.660595273515938, 15.783379305837595, 16.18584638476227, 14.27124860008614, 13.40374352673128, 17.08853747328525, 15.973912878406464, 12.330864333628618, 12.977320233297846, 11.64960957642385, 11.555019758667784, 11.525476881814061, 12.869361959092474, 11.216360121737315, 11.216209271450532, 10.885779520855586, 10.884156579839173, 10.855596830716546, 10.853964972441801, 10.381139982173249, 10.31285087476238, 10.995406065473889, 10.246017509774203, 10.079635588292536, 85.18935697447412, 50.32358433241113, 16.59249714405435, 49.390256516679045, 26.150264307462376, 32.736060862226, 91.10698633484482, 44.11172706095858, 14.875467162561266, 59.960013603984656, 90.901580261588, 69.57277052710633, 194.83381933718636, 45.74878706973082, 32.0724503868407, 61.558164642235184, 39.65539260279866, 30.34562033844081, 47.37025079368048, 89.42978677390107, 80.03343982081785, 51.446160149302564, 40.07114491042821, 112.8466319951957, 38.022499926086894, 48.1090307843846, 187.8392407983893, 76.17198755565951, 97.28090958935329, 57.972665853417105, 67.4988956465245, 89.725708964066, 294.67648484497863, 66.89835396690158, 95.28613079017579, 102.46200908053896, 86.54626050581231, 79.04823139611054, 51.05167253037525, 138.26333885291703, 112.83556270518632, 101.92114763851228, 103.80706454797344, 112.08659623304767, 99.18715190297239, 97.77962212366432, 79.19330329949344, 94.91393037223945, 84.78360388585412, 77.89288168242977, 76.44164544761742, 74.21682516283138, 91.0813899376588, 73.72849696516077, 31.515498686337356, 25.365745758352123, 23.219215681011704, 21.138392509135866, 21.941835035459953, 20.53764628330758, 19.82045080568196, 16.71826585816728, 16.71503292558888, 17.45561940517661, 16.167911744309087, 16.20179385740723, 14.882896969327893, 16.08912248326306, 14.193268364911479, 15.485733579971074, 12.358519121482955, 12.326974761525781, 12.004088069449688, 12.038807805988599, 18.014522421432446, 21.247129257380646, 11.581020879100508, 11.518913060320743, 11.35417922570764, 11.070588584202833, 10.931622691754363, 10.653186373439889, 32.31695736767015, 12.445425002653836, 28.34577483823033, 20.301805076309165, 46.51509105119298, 37.01152080748312, 38.09949324019369, 57.90457047178884, 26.42651992115125, 29.213057986212377, 41.074288398162786, 74.14542770658936, 38.52661506681828, 68.64804138586317, 43.43474799211326, 102.5507766751507, 38.83442698615192, 65.3575724043357, 135.85976920126748, 92.74899534218851, 141.03763401882873, 34.65102202647109, 204.61908224841986, 159.03579094367873, 65.85972030950123, 35.34314635687037, 98.16424558189263, 77.94296256950769, 94.79161112904693, 97.83909093862897, 144.7975248107395, 104.82853442487789, 125.61832863117402, 85.24635809779785, 76.18996855784673, 89.18990885045777, 86.2050891523043, 56.62666080090607, 66.88496650261685, 83.95069668803008, 76.2281416541853, 83.91865146844239, 71.34260251906889, 67.63508033654546, 72.25568554524489, 28.11935347695105, 23.557480773342835, 26.61721992296597, 21.18288157147785, 25.927567254825163, 19.50329150299601, 18.292046757575438, 18.842820933982274, 17.087811309041598, 16.72940976553617, 34.87880388652371, 18.776857056460834, 18.75433647836474, 15.293967908646954, 14.693062619451064, 14.08789319192749, 20.21758964776055, 13.042702454337633, 16.750924064352024, 17.10591955566185, 12.50029999569577, 12.453583300844551, 12.296113739652778, 12.025619415550688, 11.86031712941507, 11.69514152451901, 16.916393665332336, 11.529865530716132, 11.423791504496903, 13.627557469503033, 21.289157570616748, 18.876239683998254, 42.27752607428711, 29.123777952630704, 37.753086481861544, 27.939970451528225, 17.599556907711, 23.10948571582075, 38.14800688043396, 31.68372614923797, 36.18365172670349, 43.54914279609817, 42.9190159692761, 63.45626301804063, 35.51828839358842, 141.100614527649, 29.35399839850841, 32.74328803688119, 191.0671851180041, 26.19962836293723, 43.46589649022566, 61.67925985676465, 47.330463066654254, 54.73159697839334, 33.657897903927974, 38.60362432423799, 51.56720478362487, 74.2369846973722, 40.656866684319304, 121.21621088119211, 90.10757214550739, 100.23880149984934, 44.22654801760722, 55.837744099224096, 125.69941692524836, 56.302669028817355, 52.86541978531847, 90.54604220794214, 50.01023020397253, 60.503270739333615, 102.4320792143051, 61.194735188221266, 90.80085793599017, 67.44256787547012, 52.555213282827765, 71.35695603222507, 62.2991039912741, 51.56409272751352, 62.81469663626549, 53.52008452922126, 53.39226076829757, 57.314737402687555, 55.33603858634249, 54.403253546737574, 36.82987013860828, 20.398100920277823, 19.176586414072325, 18.627474031733477, 17.073831062656115, 17.745008966851778, 16.213809317843275, 13.50884821658935, 12.95277136099223, 13.091677859692165, 12.441026321539814, 12.155774651407723, 12.154776392559889, 14.332602718861356, 19.760802287670312, 11.498233960271484, 11.405951772264787, 13.956064997872533, 11.002428176067442, 10.821238360516283, 10.90779620766972, 10.490186659313446, 10.460908289556388, 16.824476398786548, 10.414402793943866, 9.96790632908755, 9.960181227142881, 9.958781967397616, 9.7617897461107, 12.207916437411898, 10.693746596356945, 26.479022804360252, 51.821027720187736, 22.30865802674438, 48.91239211020533, 74.40033164892714, 42.41660191141467, 16.8112051786097, 19.465020631009416, 51.81095389870098, 68.79952453245116, 31.178106204388534, 55.10135509322388, 37.87711474686562, 52.663732166985646, 22.20110067492262, 30.305303351606813, 189.54664879322274, 32.68666945882202, 127.41016365925859, 91.73260036403428, 153.21384578820224, 42.501885678997176, 137.38675197603018, 33.205611297449465, 113.62388010749022, 51.93645657110719, 179.84655165607802, 93.17602537216091, 62.59674080950744, 43.88094261714375, 30.511748797753512, 80.65323836235173, 69.07932556075522, 71.7439574288962, 100.00090788417147, 62.609738330659056, 61.73211922371244, 73.79578354464094, 54.92145208743088, 60.784322838017715, 64.70523747535987, 54.635472674929375, 64.75584845635083, 46.72474338361471, 47.61042918586306, 30.65290821345247, 24.871241760704113, 19.184260515583674, 20.078642687189284, 22.283011839400146, 18.926044385524246, 16.539307396339233, 16.478164727996294, 15.08606941436396, 14.633996086388796, 15.270166334951071, 14.137829022775119, 13.739922078711773, 13.8246850388916, 13.39576397221332, 13.538643704413404, 12.771663652813043, 12.493660874328674, 15.650422743009134, 12.15192706085204, 13.864276215559869, 12.118226758463688, 11.808138120015478, 16.59878093104849, 11.406614193868819, 10.626946833495262, 9.979412382720074, 9.909013227225277, 9.966423220542428, 9.75443904204922, 106.94538647153252, 20.093680666202722, 47.32809802248022, 11.376327885037442, 17.722534878646975, 88.97671590952834, 21.26713735364161, 23.236271201184266, 41.89806449206809, 29.662460932941446, 26.814197450627205, 31.69578543198419, 120.14189564418672, 25.23271489367468, 17.3179692798673, 20.49756893539192, 22.780672393725744, 64.38092642380407, 22.188562224673262, 21.984402044353295, 27.091349360107387, 118.7742451975449, 29.126718468969838, 33.62561102469063, 35.96724459437554, 33.329010079826716, 74.77974465456104, 54.191604973277144, 111.76671105090935, 59.33596528311895, 81.43136523998885, 114.90423633851863, 57.95628277045994, 90.55283241745816, 41.91768601511151, 40.679216204526945, 95.74523264403082, 56.712070382912636, 77.34925545777288, 60.720384895895215, 41.45797695293312, 67.48562436486365, 62.96176106514111, 57.92206290158448, 63.42833597757825, 48.61387572899599, 59.13416734233348, 63.03322985447677, 49.01161965118585, 47.358144531394466, 46.56662811020364, 53.146363411702886, 45.89440583725874], \"Total\": [646.0, 611.0, 752.0, 1297.0, 1361.0, 1116.0, 785.0, 1519.0, 431.0, 523.0, 341.0, 580.0, 594.0, 1651.0, 691.0, 786.0, 742.0, 367.0, 841.0, 228.0, 949.0, 653.0, 942.0, 623.0, 832.0, 317.0, 408.0, 176.0, 117.0, 1849.0, 32.72487708254317, 31.44921403958058, 22.660036026560803, 69.53621081564566, 29.914558799988356, 20.194996055828277, 19.766898661415947, 18.036129420762506, 14.613337964061204, 14.471251867698799, 14.439814103686867, 14.369978727030471, 25.2780116991627, 14.19646887940653, 14.084075374839239, 17.166349580373147, 13.483663262691945, 13.522510624852508, 12.495956772403444, 12.067693019311664, 12.67602792507067, 11.894124569118489, 63.482627036578066, 11.506873874375048, 11.546676479592348, 11.262502560370008, 11.262242159159694, 23.63312126135579, 10.906054202632294, 11.45158710308422, 611.8878443899222, 40.9674534553537, 752.3796919796679, 28.029662094143195, 59.57860568163043, 149.09207920780852, 19.51789823259029, 125.2934476723381, 72.18380030377921, 159.74736858470007, 1297.7549593926576, 74.29272730720147, 130.24178568471143, 623.6566677921666, 26.661438494150612, 1361.8572459379143, 1651.158602748364, 104.72165196544412, 356.4835468001831, 1116.5980133953738, 942.9753693014994, 747.009670462829, 1096.942913459167, 219.7312168605596, 195.71230385171634, 320.26575202154953, 479.3091528015203, 406.202155109411, 1458.9302991372706, 1349.6399823576994, 754.9229346104241, 320.35735494893515, 1849.404355998794, 560.2185595353548, 510.1072667608895, 331.38258820726793, 1309.058724129249, 1076.1916123504998, 1418.5035679029713, 348.2693040659103, 1187.5555761209632, 1519.0098043663666, 742.492738003191, 539.8872455592348, 949.7988149925529, 2046.6448446953013, 752.8506480870064, 812.7855014582501, 780.3987951123266, 786.9093112437051, 28.991998499647146, 21.661568180896808, 19.79607868258663, 20.98543011267215, 27.304651320959916, 19.134365425657425, 17.998412438772657, 17.160159022248045, 17.64463806605627, 18.993328271869707, 16.09685211645543, 15.760047534924702, 19.142959110582932, 14.383010573457485, 14.084248798540164, 13.60146915260607, 13.088181291876495, 12.988624471907123, 12.850018015818057, 12.79123889114071, 13.058601781127157, 12.574847209924886, 12.367136636402504, 12.062602516696577, 13.97487839871137, 34.32031912072031, 12.199332691492252, 28.705244759112166, 11.854882672278846, 11.380845493064173, 12.541250649737476, 15.36389110444934, 38.756023334171445, 26.34628121057279, 646.4751461289885, 54.9448477598705, 128.35994959186172, 46.84470545019947, 21.724472027890325, 27.423965377769274, 18.681964964253893, 16.0104152749639, 108.0565072911472, 38.53002008954478, 78.2336048829509, 113.22436838943034, 191.2556390736583, 73.55338252068937, 159.4453585640413, 594.013536377835, 431.5621756887709, 276.8317299481399, 72.78157669055975, 151.0270908866421, 585.2617190865457, 949.7988149925529, 82.87600128948716, 498.9142660483396, 581.617242938348, 832.4042119867757, 1519.0098043663666, 121.80346054645595, 246.50540847496444, 1187.5555761209632, 461.9519870247888, 331.93105875828746, 277.04075646104167, 184.57832673760984, 303.4541939162577, 212.05007841024974, 519.1018760060863, 375.072822819347, 2046.6448446953013, 610.8531263089614, 1849.404355998794, 980.3010723136645, 640.3318319322618, 942.9753693014994, 822.669372602728, 754.9229346104241, 1116.5980133953738, 1349.6399823576994, 691.1751911428264, 747.009670462829, 31.525182795163122, 28.40942560806721, 31.37625293186523, 23.545871149168672, 19.2623286505319, 22.68994181515105, 18.674361858843568, 18.106919296411494, 17.428681607068377, 16.948978919795668, 18.48187309951759, 16.470402272716377, 17.357712458728376, 25.150616651361993, 15.321678612074052, 15.14527121651254, 14.636692075112533, 14.980915569428157, 16.95102493504384, 13.919565542768517, 14.54625886010274, 13.44977532861059, 13.449771050301424, 13.205225943255758, 13.643006487973258, 13.048735100199737, 12.91034883474215, 12.324534231859031, 12.224554711279419, 20.031301689516784, 62.544888432670554, 22.458441533686344, 29.87245845300498, 176.55427225210462, 23.87918166322391, 16.47317441542908, 14.548126436050582, 14.490485162550836, 50.04692790588727, 57.99180954595754, 26.165794501064227, 87.75197591517457, 367.98747244386476, 40.71980907101436, 58.72369961451977, 347.3760063394874, 141.88875448524985, 102.73278837037746, 63.98420257963972, 653.186778386999, 135.08008426159415, 364.7221883201796, 786.9093112437051, 118.03316634011448, 2046.6448446953013, 633.6842778277099, 1519.0098043663666, 832.4042119867757, 581.617242938348, 231.6147912976857, 355.06814500269695, 1349.6399823576994, 232.98712586895718, 231.02930390799014, 273.5465960631096, 385.5776904570469, 273.7219547294011, 344.33905044877906, 885.2233883856356, 610.8531263089614, 368.44360185249764, 742.492738003191, 980.3010723136645, 1458.9302991372706, 780.3987951123266, 506.7326178495353, 896.3882257375122, 949.7988149925529, 1651.158602748364, 1076.1916123504998, 1418.5035679029713, 1849.404355998794, 81.06234489119473, 26.177233382476153, 47.3109118807984, 21.066823620499427, 16.927869236924806, 16.752681011112927, 16.241457480067083, 15.97592879847112, 15.123608394328157, 15.358194814805636, 15.025099417019835, 14.986905132831287, 14.437235374899707, 14.446279385286761, 14.103105140386152, 17.141069773858675, 15.120018082098364, 14.308323776629607, 14.172577377447194, 14.40744623736469, 45.260132508039405, 15.66363635367039, 13.015466094248382, 12.817931834212999, 12.769908649361113, 12.397314753800613, 12.436440348583252, 17.425223194246392, 11.994982316863316, 11.819962431328939, 29.02045072265441, 57.55464861270151, 97.43704932767646, 22.618185538668442, 29.51242481994707, 87.42931530780645, 19.481703774543234, 24.14907713379623, 91.79850564437145, 523.604439737849, 35.04502454828635, 22.30477512895483, 39.80802425548755, 50.23361246722189, 51.25239319107525, 60.93240172867838, 23.65366825283252, 841.4183341747904, 255.92157100493432, 248.68398415429778, 58.15155253049523, 177.50844301903078, 62.66953565360657, 343.30277474428743, 415.82140731943525, 980.3010723136645, 91.9124759860024, 56.31272859804024, 238.91358542355175, 580.2701545035148, 1076.1916123504998, 1418.5035679029713, 260.4841411776342, 1309.058724129249, 141.42635039841647, 1458.9302991372706, 633.6842778277099, 1361.8572459379143, 780.3987951123266, 640.3318319322618, 1849.404355998794, 237.00316587537543, 822.669372602728, 1096.942913459167, 504.52260533624826, 2046.6448446953013, 1651.158602748364, 539.58849795014, 683.2318071986174, 1187.5555761209632, 896.3882257375122, 691.1751911428264, 1297.7549593926576, 75.87306339537628, 43.64105971316667, 25.784755173874917, 24.309064280430324, 20.256181697782164, 20.04770400116738, 20.037748542456924, 18.431808448147386, 33.54658563635221, 17.0553179459798, 16.510617540092387, 16.024124481078637, 15.271936596289667, 15.034265357843234, 14.934333652272176, 14.894585833803644, 15.558165790701922, 14.378658721137127, 13.795609936377703, 13.962928854288833, 14.270279122884903, 13.664378322693798, 12.933284253534353, 12.764476551906595, 12.626271077834554, 12.69512761306333, 12.210244003860609, 12.871146514307346, 51.863976213464476, 11.773081798206771, 14.275985187516588, 33.445294728654616, 51.919886959191395, 61.33508101702004, 38.62811003834205, 125.70871838692418, 49.682527872203195, 27.26370827761023, 123.9441432415587, 88.90096727353597, 55.66693682230873, 25.425833727216585, 77.07749952092995, 21.885698820573083, 196.8822092731443, 61.935035443304486, 86.79405649777651, 317.72450464608454, 82.47788795401055, 26.66793130740328, 38.66504778480653, 136.43897839406065, 53.626036244770056, 145.2749848100297, 57.57516030030829, 785.5529677855612, 142.88516138150206, 83.92027102217853, 77.41987510464607, 124.81129351227075, 896.3882257375122, 2046.6448446953013, 539.58849795014, 822.669372602728, 885.2233883856356, 1116.5980133953738, 812.7855014582501, 278.0032753384828, 1519.0098043663666, 410.2752128841645, 1458.9302991372706, 269.98136207221546, 1309.058724129249, 506.7326178495353, 219.1185040003183, 752.8506480870064, 1349.6399823576994, 364.02074758767407, 1849.404355998794, 415.82140731943525, 1418.5035679029713, 832.4042119867757, 29.360702209807926, 28.789246368235055, 27.72058290253094, 25.95535232387825, 20.642204455888105, 18.429926154438785, 17.49029386285977, 16.607222438919013, 17.083131331155993, 15.093716904902283, 14.230935888372537, 18.14624595506673, 16.990407469940617, 13.152980982938708, 13.851082619535998, 12.475345353560039, 12.377859264576916, 12.347848280802097, 13.79700051673525, 12.038410925984925, 12.038418570146256, 11.709053070717568, 11.707814555614146, 11.679045775396203, 11.678068108800689, 11.203305019434303, 11.135499279068295, 11.874887653658654, 11.068044169197377, 10.90281490011524, 98.19181651299976, 57.72228356228133, 18.307377932303464, 57.82579133624042, 29.927473296161338, 38.2225534345857, 123.11703058261756, 55.4970724476994, 16.596458310798948, 80.32395972964105, 128.91366505892674, 99.4203378172514, 341.21451446137695, 62.14927553205706, 40.959375327573824, 91.92747071765905, 54.64556638078663, 40.04454955937137, 71.06332760435096, 160.95218079982982, 142.93971691045348, 82.73853623884591, 59.12634685392625, 257.06611257053567, 55.94853323696491, 78.45961578712173, 550.829448877661, 154.96347666506816, 242.0209714477017, 110.9194625341502, 146.6844039620236, 243.7110933049146, 2046.6448446953013, 153.48907540157904, 303.7488703043393, 403.39608642471654, 303.4541939162577, 265.66702074599937, 103.10462002094216, 1349.6399823576994, 841.4183341747904, 786.9093112437051, 885.2233883856356, 1187.5555761209632, 896.3882257375122, 980.3010723136645, 506.7326178495353, 1849.404355998794, 1309.058724129249, 653.186778386999, 1361.8572459379143, 1096.942913459167, 91.93596483147476, 74.55523255177852, 32.3575931354367, 26.191771795003657, 24.046461850559048, 21.971362670456827, 22.810842883091176, 21.363667669857275, 20.648982232234896, 17.544113900036205, 17.544277221703886, 18.328847593748105, 16.994208343978336, 17.031675987988052, 15.709675754365335, 17.00958464211374, 15.020241814458029, 16.453882352015032, 13.184637874264492, 13.155994635979937, 12.82978191922118, 12.867399843524504, 19.294911164271713, 22.76500388467406, 12.411453899815626, 12.346038625496787, 12.187792720356226, 11.898772217583792, 11.768351616459178, 11.479046759960838, 36.29468357108747, 13.52258932140154, 33.8458322002852, 23.523115845982073, 61.028085158138815, 48.1189450810968, 51.32265325048849, 94.96007273407606, 35.07645152563896, 40.31600714614638, 64.03694699864097, 147.77170926291546, 60.392545684873625, 161.89520045381062, 83.32575370770063, 357.0000456322863, 71.54269571877545, 172.45236694968995, 618.0582311690522, 330.31108335155443, 691.6312248334539, 63.267483765536085, 1849.404355998794, 1309.058724129249, 238.19653482659257, 65.94049796935747, 610.8531263089614, 375.072822819347, 601.7887984161217, 653.186778386999, 1651.158602748364, 822.669372602728, 1418.5035679029713, 550.6943576653078, 496.68817304764224, 812.7855014582501, 752.8506480870064, 225.11883570707587, 418.63815929871066, 980.3010723136645, 785.5529677855612, 1187.5555761209632, 780.3987951123266, 841.4183341747904, 2046.6448446953013, 29.10187771346451, 24.383605454858035, 27.57791819686091, 22.005221028869016, 26.949241462001275, 20.327598230351555, 19.114124673299322, 19.743154636506418, 17.909919735913043, 17.563389739542448, 36.65985261859733, 19.741658902615125, 19.75249574544836, 16.117374798415902, 15.51506303299451, 14.959437669331868, 21.492611512150148, 13.865307386711407, 17.836070006876, 18.228145338223406, 13.322620218482342, 13.286002894268888, 13.119425699658073, 12.847783347547177, 12.682492653352417, 12.517198856423963, 18.10947485350996, 12.351907984141803, 12.246573867648513, 14.618101242847453, 22.98695409818214, 20.461073784832077, 47.03340158469002, 32.45974503002378, 43.00519194916557, 31.30724491176026, 19.24570731525123, 25.809424622294365, 44.85139156207704, 37.24657478456774, 43.554715933148195, 53.97021291020604, 57.29306517587887, 93.2118244483203, 46.24158719811493, 280.48336825413753, 36.73729027890032, 43.601801272401545, 580.2701545035148, 33.236964211134755, 75.56985536300242, 141.9967230825612, 91.82019738934693, 117.81102083360005, 53.000725277161706, 68.0706206266859, 114.36102848083047, 231.4937137081657, 77.44898567872133, 683.2318071986174, 405.99361833475984, 539.58849795014, 95.57700679088786, 171.58089352646581, 1418.5035679029713, 196.53945625751484, 171.4754917604846, 822.669372602728, 171.5361836853047, 330.31108335155443, 2046.6448446953013, 344.33905044877906, 1458.9302991372706, 504.52260533624826, 206.31534870075131, 780.3987951123266, 461.9519870247888, 217.3285339393663, 691.1751911428264, 269.98136207221546, 334.79069908015197, 812.7855014582501, 754.9229346104241, 885.2233883856356, 37.66496421157048, 21.224772203215682, 20.003765239728413, 19.51170151658541, 17.940497998173793, 18.662620380706045, 17.087267204318383, 14.334187297751514, 13.77804425543196, 13.943011724809903, 13.265645725596247, 12.98110439896589, 12.99028550621645, 15.323498588797897, 21.171099931582575, 12.327615158865356, 12.232354725964043, 15.005517735431273, 11.83773941817366, 11.645988348307956, 11.741505380302236, 11.314787706629142, 11.285534398060355, 18.15352577231316, 11.23988893601541, 10.79309925657975, 10.785433148568309, 10.785513270033217, 10.586225243402442, 13.241859195678686, 11.60657721711457, 29.24422774456479, 58.399554889512785, 24.88974817122694, 56.76080815475539, 93.70750005832221, 52.53435289421647, 19.39518623089482, 23.090265711798168, 73.80932138476003, 108.16187132844185, 42.27468971579351, 85.53442878296772, 54.572894402593874, 85.58875891961294, 30.262445277850798, 47.733700550733246, 785.5529677855612, 59.26772703149075, 519.1018760060863, 312.19069231591516, 742.492738003191, 91.27636704555027, 691.6312248334539, 61.06938778826277, 601.7887984161217, 147.4599717474362, 1849.404355998794, 550.6943576653078, 272.7280454208541, 136.762655840255, 59.670271494085604, 646.4751461289885, 479.3091528015203, 535.9057196475637, 1418.5035679029713, 406.202155109411, 418.63815929871066, 841.4183341747904, 318.55002034852436, 510.1072667608895, 752.8506480870064, 385.5776904570469, 1458.9302991372706, 221.02950976947912, 2046.6448446953013, 31.515270677706756, 25.705993106177395, 20.015741228563602, 20.982061423745364, 23.3121269014027, 19.8335725106244, 17.368327485567224, 17.315298497858315, 15.936026918128192, 15.467268031358566, 16.153940119848297, 14.973141188842522, 14.569610129908419, 14.661115177163957, 14.259177358393385, 14.411722648422847, 13.600891724732724, 13.322912013147107, 16.696742108721978, 12.981188030168655, 14.82915858177032, 12.962664530452692, 12.64212244604894, 17.800583614477443, 12.236395911654599, 11.456553908835394, 10.809142412090104, 10.738438163019094, 10.801269331792781, 10.585654229253404, 117.4042788449535, 22.036923950339148, 57.56645199321434, 12.43521459563805, 20.08755413392229, 116.28588908202724, 24.61387141321565, 27.75439234014913, 55.2198124428545, 37.170829424596995, 33.07568317656528, 40.84391182215396, 228.52804814186538, 31.955625627390656, 19.758995037698725, 25.04144938323179, 29.23144010646147, 124.70200998002716, 28.302502393220866, 27.965021603988955, 39.2687713453681, 408.8299208309504, 46.05828181981735, 58.66139866335551, 72.02112382140844, 65.22564452255921, 317.72450464608454, 173.86544967757277, 752.8506480870064, 208.99801932031409, 400.4764297264033, 1076.1916123504998, 235.18178625037416, 691.1751911428264, 118.54233852821011, 111.05759678759671, 942.9753693014994, 266.4234707848889, 618.0582311690522, 371.3994277988407, 154.1561889613094, 896.3882257375122, 822.669372602728, 683.2318071986174, 1116.5980133953738, 350.63463007327704, 1187.5555761209632, 2046.6448446953013, 498.9142660483396, 405.99361833475984, 368.44360185249764, 1458.9302991372706, 550.829448877661], \"Category\": [\"Default\", \"Default\", \"Default\", \"Default\", \"Default\", \"Default\", \"Default\", \"Default\", \"Default\", \"Default\", \"Default\", \"Default\", \"Default\", \"Default\", \"Default\", \"Default\", \"Default\", \"Default\", \"Default\", \"Default\", \"Default\", \"Default\", \"Default\", \"Default\", \"Default\", \"Default\", \"Default\", \"Default\", \"Default\", \"Default\", \"Topic1\", \"Topic1\", \"Topic1\", \"Topic1\", \"Topic1\", \"Topic1\", \"Topic1\", \"Topic1\", \"Topic1\", \"Topic1\", \"Topic1\", \"Topic1\", \"Topic1\", \"Topic1\", \"Topic1\", \"Topic1\", \"Topic1\", \"Topic1\", \"Topic1\", \"Topic1\", \"Topic1\", \"Topic1\", \"Topic1\", \"Topic1\", \"Topic1\", \"Topic1\", \"Topic1\", \"Topic1\", \"Topic1\", \"Topic1\", \"Topic1\", \"Topic1\", \"Topic1\", \"Topic1\", \"Topic1\", \"Topic1\", \"Topic1\", \"Topic1\", \"Topic1\", \"Topic1\", \"Topic1\", \"Topic1\", \"Topic1\", \"Topic1\", \"Topic1\", \"Topic1\", \"Topic1\", \"Topic1\", \"Topic1\", \"Topic1\", \"Topic1\", \"Topic1\", \"Topic1\", \"Topic1\", \"Topic1\", \"Topic1\", \"Topic1\", \"Topic1\", \"Topic1\", \"Topic1\", \"Topic1\", \"Topic1\", \"Topic1\", \"Topic1\", \"Topic1\", \"Topic1\", \"Topic1\", \"Topic1\", \"Topic1\", \"Topic1\", \"Topic1\", \"Topic1\", \"Topic1\", \"Topic1\", \"Topic1\", \"Topic1\", \"Topic1\", \"Topic1\", \"Topic1\", \"Topic1\", \"Topic2\", \"Topic2\", \"Topic2\", \"Topic2\", \"Topic2\", \"Topic2\", \"Topic2\", \"Topic2\", \"Topic2\", \"Topic2\", \"Topic2\", \"Topic2\", \"Topic2\", \"Topic2\", \"Topic2\", \"Topic2\", \"Topic2\", \"Topic2\", \"Topic2\", \"Topic2\", \"Topic2\", \"Topic2\", \"Topic2\", \"Topic2\", \"Topic2\", \"Topic2\", \"Topic2\", \"Topic2\", \"Topic2\", \"Topic2\", \"Topic2\", \"Topic2\", \"Topic2\", \"Topic2\", \"Topic2\", \"Topic2\", \"Topic2\", \"Topic2\", \"Topic2\", \"Topic2\", \"Topic2\", \"Topic2\", \"Topic2\", \"Topic2\", \"Topic2\", \"Topic2\", \"Topic2\", \"Topic2\", \"Topic2\", \"Topic2\", \"Topic2\", \"Topic2\", \"Topic2\", \"Topic2\", \"Topic2\", \"Topic2\", \"Topic2\", \"Topic2\", \"Topic2\", \"Topic2\", \"Topic2\", \"Topic2\", \"Topic2\", \"Topic2\", \"Topic2\", \"Topic2\", \"Topic2\", \"Topic2\", \"Topic2\", \"Topic2\", \"Topic2\", \"Topic2\", \"Topic2\", \"Topic2\", \"Topic2\", \"Topic2\", \"Topic2\", \"Topic2\", \"Topic2\", \"Topic2\", \"Topic2\", \"Topic2\", \"Topic2\", \"Topic2\", \"Topic3\", \"Topic3\", \"Topic3\", \"Topic3\", \"Topic3\", \"Topic3\", \"Topic3\", \"Topic3\", \"Topic3\", \"Topic3\", \"Topic3\", \"Topic3\", \"Topic3\", \"Topic3\", \"Topic3\", \"Topic3\", \"Topic3\", \"Topic3\", \"Topic3\", \"Topic3\", \"Topic3\", \"Topic3\", \"Topic3\", \"Topic3\", \"Topic3\", \"Topic3\", \"Topic3\", \"Topic3\", \"Topic3\", \"Topic3\", \"Topic3\", \"Topic3\", \"Topic3\", \"Topic3\", \"Topic3\", \"Topic3\", \"Topic3\", \"Topic3\", \"Topic3\", \"Topic3\", \"Topic3\", \"Topic3\", \"Topic3\", \"Topic3\", \"Topic3\", \"Topic3\", \"Topic3\", \"Topic3\", \"Topic3\", \"Topic3\", \"Topic3\", \"Topic3\", \"Topic3\", \"Topic3\", \"Topic3\", \"Topic3\", \"Topic3\", \"Topic3\", \"Topic3\", \"Topic3\", \"Topic3\", \"Topic3\", \"Topic3\", \"Topic3\", \"Topic3\", \"Topic3\", \"Topic3\", \"Topic3\", \"Topic3\", \"Topic3\", \"Topic3\", \"Topic3\", \"Topic3\", \"Topic3\", \"Topic3\", \"Topic3\", \"Topic3\", \"Topic3\", \"Topic3\", \"Topic3\", \"Topic3\", \"Topic3\", \"Topic4\", \"Topic4\", \"Topic4\", \"Topic4\", \"Topic4\", \"Topic4\", \"Topic4\", \"Topic4\", \"Topic4\", \"Topic4\", \"Topic4\", \"Topic4\", \"Topic4\", \"Topic4\", \"Topic4\", \"Topic4\", \"Topic4\", \"Topic4\", \"Topic4\", \"Topic4\", \"Topic4\", \"Topic4\", \"Topic4\", \"Topic4\", \"Topic4\", \"Topic4\", \"Topic4\", \"Topic4\", \"Topic4\", \"Topic4\", \"Topic4\", \"Topic4\", \"Topic4\", \"Topic4\", \"Topic4\", \"Topic4\", \"Topic4\", \"Topic4\", \"Topic4\", \"Topic4\", \"Topic4\", \"Topic4\", \"Topic4\", \"Topic4\", \"Topic4\", \"Topic4\", \"Topic4\", \"Topic4\", \"Topic4\", \"Topic4\", \"Topic4\", \"Topic4\", \"Topic4\", \"Topic4\", \"Topic4\", \"Topic4\", \"Topic4\", \"Topic4\", \"Topic4\", \"Topic4\", \"Topic4\", \"Topic4\", \"Topic4\", \"Topic4\", \"Topic4\", \"Topic4\", \"Topic4\", \"Topic4\", \"Topic4\", \"Topic4\", \"Topic4\", \"Topic4\", \"Topic4\", \"Topic4\", \"Topic4\", \"Topic4\", \"Topic4\", \"Topic4\", \"Topic4\", \"Topic4\", \"Topic4\", \"Topic4\", \"Topic4\", \"Topic5\", \"Topic5\", \"Topic5\", \"Topic5\", \"Topic5\", \"Topic5\", \"Topic5\", \"Topic5\", \"Topic5\", \"Topic5\", \"Topic5\", \"Topic5\", \"Topic5\", \"Topic5\", \"Topic5\", \"Topic5\", \"Topic5\", \"Topic5\", \"Topic5\", \"Topic5\", \"Topic5\", \"Topic5\", \"Topic5\", \"Topic5\", \"Topic5\", \"Topic5\", \"Topic5\", \"Topic5\", \"Topic5\", \"Topic5\", \"Topic5\", \"Topic5\", \"Topic5\", \"Topic5\", \"Topic5\", \"Topic5\", \"Topic5\", \"Topic5\", \"Topic5\", \"Topic5\", \"Topic5\", \"Topic5\", \"Topic5\", \"Topic5\", \"Topic5\", \"Topic5\", \"Topic5\", \"Topic5\", \"Topic5\", \"Topic5\", \"Topic5\", \"Topic5\", \"Topic5\", \"Topic5\", \"Topic5\", \"Topic5\", \"Topic5\", \"Topic5\", \"Topic5\", \"Topic5\", \"Topic5\", \"Topic5\", \"Topic5\", \"Topic5\", \"Topic5\", \"Topic5\", \"Topic5\", \"Topic5\", \"Topic5\", \"Topic5\", \"Topic5\", \"Topic5\", \"Topic5\", \"Topic5\", \"Topic5\", \"Topic5\", \"Topic5\", \"Topic5\", \"Topic5\", \"Topic5\", \"Topic5\", \"Topic5\", \"Topic6\", \"Topic6\", \"Topic6\", \"Topic6\", \"Topic6\", \"Topic6\", \"Topic6\", \"Topic6\", \"Topic6\", \"Topic6\", \"Topic6\", \"Topic6\", \"Topic6\", \"Topic6\", \"Topic6\", \"Topic6\", \"Topic6\", \"Topic6\", \"Topic6\", \"Topic6\", \"Topic6\", \"Topic6\", \"Topic6\", \"Topic6\", \"Topic6\", \"Topic6\", \"Topic6\", \"Topic6\", \"Topic6\", \"Topic6\", \"Topic6\", \"Topic6\", \"Topic6\", \"Topic6\", \"Topic6\", \"Topic6\", \"Topic6\", \"Topic6\", \"Topic6\", \"Topic6\", \"Topic6\", \"Topic6\", \"Topic6\", \"Topic6\", \"Topic6\", \"Topic6\", \"Topic6\", \"Topic6\", \"Topic6\", \"Topic6\", \"Topic6\", \"Topic6\", \"Topic6\", \"Topic6\", \"Topic6\", \"Topic6\", \"Topic6\", \"Topic6\", \"Topic6\", \"Topic6\", \"Topic6\", \"Topic6\", \"Topic6\", \"Topic6\", \"Topic6\", \"Topic6\", \"Topic6\", \"Topic6\", \"Topic6\", \"Topic6\", \"Topic6\", \"Topic6\", \"Topic6\", \"Topic6\", \"Topic6\", \"Topic6\", \"Topic6\", \"Topic6\", \"Topic6\", \"Topic6\", \"Topic6\", \"Topic6\", \"Topic7\", \"Topic7\", \"Topic7\", \"Topic7\", \"Topic7\", \"Topic7\", \"Topic7\", \"Topic7\", \"Topic7\", \"Topic7\", \"Topic7\", \"Topic7\", \"Topic7\", \"Topic7\", \"Topic7\", \"Topic7\", \"Topic7\", \"Topic7\", \"Topic7\", \"Topic7\", \"Topic7\", \"Topic7\", \"Topic7\", \"Topic7\", \"Topic7\", \"Topic7\", \"Topic7\", \"Topic7\", \"Topic7\", \"Topic7\", \"Topic7\", \"Topic7\", \"Topic7\", \"Topic7\", \"Topic7\", \"Topic7\", \"Topic7\", \"Topic7\", \"Topic7\", \"Topic7\", \"Topic7\", \"Topic7\", \"Topic7\", \"Topic7\", \"Topic7\", \"Topic7\", \"Topic7\", \"Topic7\", \"Topic7\", \"Topic7\", \"Topic7\", \"Topic7\", \"Topic7\", \"Topic7\", \"Topic7\", \"Topic7\", \"Topic7\", \"Topic7\", \"Topic7\", \"Topic7\", \"Topic7\", \"Topic7\", \"Topic7\", \"Topic7\", \"Topic7\", \"Topic7\", \"Topic7\", \"Topic7\", \"Topic7\", \"Topic7\", \"Topic7\", \"Topic7\", \"Topic7\", \"Topic7\", \"Topic7\", \"Topic8\", \"Topic8\", \"Topic8\", \"Topic8\", \"Topic8\", \"Topic8\", \"Topic8\", \"Topic8\", \"Topic8\", \"Topic8\", \"Topic8\", \"Topic8\", \"Topic8\", \"Topic8\", \"Topic8\", \"Topic8\", \"Topic8\", \"Topic8\", \"Topic8\", \"Topic8\", \"Topic8\", \"Topic8\", \"Topic8\", \"Topic8\", \"Topic8\", \"Topic8\", \"Topic8\", \"Topic8\", \"Topic8\", \"Topic8\", \"Topic8\", \"Topic8\", \"Topic8\", \"Topic8\", \"Topic8\", \"Topic8\", \"Topic8\", \"Topic8\", \"Topic8\", \"Topic8\", \"Topic8\", \"Topic8\", \"Topic8\", \"Topic8\", \"Topic8\", \"Topic8\", \"Topic8\", \"Topic8\", \"Topic8\", \"Topic8\", \"Topic8\", \"Topic8\", \"Topic8\", \"Topic8\", \"Topic8\", \"Topic8\", \"Topic8\", \"Topic8\", \"Topic8\", \"Topic8\", \"Topic8\", \"Topic8\", \"Topic8\", \"Topic8\", \"Topic8\", \"Topic8\", \"Topic8\", \"Topic8\", \"Topic8\", \"Topic8\", \"Topic8\", \"Topic8\", \"Topic8\", \"Topic8\", \"Topic8\", \"Topic8\", \"Topic8\", \"Topic8\", \"Topic8\", \"Topic8\", \"Topic8\", \"Topic8\", \"Topic8\", \"Topic8\", \"Topic9\", \"Topic9\", \"Topic9\", \"Topic9\", \"Topic9\", \"Topic9\", \"Topic9\", \"Topic9\", \"Topic9\", \"Topic9\", \"Topic9\", \"Topic9\", \"Topic9\", \"Topic9\", \"Topic9\", \"Topic9\", \"Topic9\", \"Topic9\", \"Topic9\", \"Topic9\", \"Topic9\", \"Topic9\", \"Topic9\", \"Topic9\", \"Topic9\", \"Topic9\", \"Topic9\", \"Topic9\", \"Topic9\", \"Topic9\", \"Topic9\", \"Topic9\", \"Topic9\", \"Topic9\", \"Topic9\", \"Topic9\", \"Topic9\", \"Topic9\", \"Topic9\", \"Topic9\", \"Topic9\", \"Topic9\", \"Topic9\", \"Topic9\", \"Topic9\", \"Topic9\", \"Topic9\", \"Topic9\", \"Topic9\", \"Topic9\", \"Topic9\", \"Topic9\", \"Topic9\", \"Topic9\", \"Topic9\", \"Topic9\", \"Topic9\", \"Topic9\", \"Topic9\", \"Topic9\", \"Topic9\", \"Topic9\", \"Topic9\", \"Topic9\", \"Topic9\", \"Topic9\", \"Topic9\", \"Topic9\", \"Topic9\", \"Topic9\", \"Topic9\", \"Topic9\", \"Topic9\", \"Topic9\", \"Topic9\", \"Topic9\", \"Topic10\", \"Topic10\", \"Topic10\", \"Topic10\", \"Topic10\", \"Topic10\", \"Topic10\", \"Topic10\", \"Topic10\", \"Topic10\", \"Topic10\", \"Topic10\", \"Topic10\", \"Topic10\", \"Topic10\", \"Topic10\", \"Topic10\", \"Topic10\", \"Topic10\", \"Topic10\", \"Topic10\", \"Topic10\", \"Topic10\", \"Topic10\", \"Topic10\", \"Topic10\", \"Topic10\", \"Topic10\", \"Topic10\", \"Topic10\", \"Topic10\", \"Topic10\", \"Topic10\", \"Topic10\", \"Topic10\", \"Topic10\", \"Topic10\", \"Topic10\", \"Topic10\", \"Topic10\", \"Topic10\", \"Topic10\", \"Topic10\", \"Topic10\", \"Topic10\", \"Topic10\", \"Topic10\", \"Topic10\", \"Topic10\", \"Topic10\", \"Topic10\", \"Topic10\", \"Topic10\", \"Topic10\", \"Topic10\", \"Topic10\", \"Topic10\", \"Topic10\", \"Topic10\", \"Topic10\", \"Topic10\", \"Topic10\", \"Topic10\", \"Topic10\", \"Topic10\", \"Topic10\", \"Topic10\", \"Topic10\", \"Topic10\", \"Topic10\", \"Topic10\", \"Topic10\", \"Topic10\", \"Topic10\", \"Topic10\", \"Topic10\", \"Topic10\", \"Topic10\", \"Topic10\", \"Topic10\", \"Topic10\", \"Topic10\", \"Topic10\"], \"logprob\": [30.0, 29.0, 28.0, 27.0, 26.0, 25.0, 24.0, 23.0, 22.0, 21.0, 20.0, 19.0, 18.0, 17.0, 16.0, 15.0, 14.0, 13.0, 12.0, 11.0, 10.0, 9.0, 8.0, 7.0, 6.0, 5.0, 4.0, 3.0, 2.0, 1.0, -7.4492, -7.4939, -7.8287, -6.7103, -7.5546, -7.9479, -7.9703, -8.0664, -8.2875, -8.2979, -8.3001, -8.3054, -7.7408, -8.3183, -8.3277, -8.1309, -8.3729, -8.37, -8.4542, -8.4924, -8.4444, -8.5092, -6.8346, -8.5426, -8.5408, -8.5658, -8.5664, -7.8265, -8.6004, -8.5518, -4.5863, -7.287, -4.4377, -7.6655, -6.9337, -6.0517, -8.0272, -6.2259, -6.7594, -5.9973, -4.0189, -6.752, -6.2389, -4.7966, -7.7316, -4.0836, -3.9762, -6.5067, -5.4068, -4.4018, -4.5742, -4.7901, -4.4569, -5.9073, -6.0181, -5.6107, -5.2803, -5.4187, -4.3614, -4.486, -4.9534, -5.6395, -4.2567, -5.2251, -5.3053, -5.6464, -4.6663, -4.8175, -4.627, -5.615, -4.905, -4.7698, -5.2112, -5.3975, -5.1717, -4.8586, -5.3689, -5.3473, -5.3713, -5.3767, -6.8985, -7.2002, -7.2934, -7.2359, -6.9743, -7.3299, -7.393, -7.4447, -7.4175, -7.344, -7.5103, -7.5329, -7.3396, -7.6299, -7.6517, -7.6887, -7.7297, -7.7381, -7.7493, -7.7543, -7.7343, -7.7725, -7.7903, -7.817, -7.6699, -6.7718, -7.8061, -6.9505, -7.8357, -7.88, -7.7842, -7.586, -6.6887, -7.0769, -4.1504, -6.4219, -5.6532, -6.5932, -7.2783, -7.0781, -7.4167, -7.5538, -5.9067, -6.7988, -6.2012, -5.9038, -5.4868, -6.2849, -5.6543, -4.5863, -4.874, -5.2299, -6.3299, -5.7753, -4.764, -4.5177, -6.3117, -5.0697, -4.9638, -4.7331, -4.344, -6.0739, -5.6512, -4.7336, -5.3043, -5.5121, -5.6353, -5.8715, -5.6168, -5.8513, -5.4181, -5.58, -4.8343, -5.3818, -4.9776, -5.2347, -5.4797, -5.3829, -5.4748, -5.5055, -5.4362, -5.4241, -5.5236, -5.5357, -6.7961, -6.9031, -6.8062, -7.0972, -7.3059, -7.1422, -7.3407, -7.3724, -7.4107, -7.4401, -7.3541, -7.47, -7.4178, -7.0488, -7.5463, -7.5585, -7.5953, -7.5722, -7.4489, -7.649, -7.6059, -7.6845, -7.6845, -7.7042, -7.6718, -7.7168, -7.7297, -7.778, -7.7866, -7.293, -6.1719, -7.1874, -6.9153, -5.271, -7.1543, -7.5027, -7.6151, -7.6189, -6.5464, -6.4203, -7.1111, -6.0988, -4.9957, -6.7814, -6.5025, -5.127, -5.8203, -6.0836, -6.4524, -4.7557, -5.9085, -5.1876, -4.6363, -6.0238, -4.1546, -4.9801, -4.4474, -4.8604, -5.1838, -5.7507, -5.4965, -4.8361, -5.8235, -5.8562, -5.7824, -5.6577, -5.8241, -5.7255, -5.3217, -5.5193, -5.7559, -5.5142, -5.4741, -5.3997, -5.5788, -5.6944, -5.5743, -5.6158, -5.5848, -5.6763, -5.661, -5.6708, -5.8289, -6.9804, -6.3902, -7.2057, -7.4339, -7.4458, -7.4775, -7.4948, -7.5527, -7.5374, -7.5596, -7.5627, -7.6018, -7.6012, -7.6267, -7.432, -7.5577, -7.6131, -7.6226, -7.6075, -6.464, -7.5275, -7.7131, -7.7289, -7.734, -7.7642, -7.7614, -7.4245, -7.7995, -7.8153, -6.9192, -6.2464, -5.7354, -7.1763, -6.9267, -5.9006, -7.3285, -7.1274, -5.9557, -4.4701, -6.8569, -7.2384, -6.7598, -6.5816, -6.5853, -6.4597, -7.2046, -4.5351, -5.4881, -5.5237, -6.5771, -5.8254, -6.5501, -5.3936, -5.2816, -4.7304, -6.3448, -6.6616, -5.7813, -5.2626, -4.9908, -4.8738, -5.8291, -5.048, -6.1687, -5.0836, -5.5022, -5.1629, -5.4186, -5.5504, -5.1745, -5.9803, -5.5272, -5.4382, -5.7378, -5.3101, -5.4588, -5.75, -5.7039, -5.6176, -5.7046, -5.7349, -5.7173, -5.8493, -6.4068, -6.9461, -7.0073, -7.1974, -7.2081, -7.212, -7.2963, -6.6994, -7.3764, -7.4104, -7.4421, -7.4927, -7.5092, -7.5164, -7.5191, -7.476, -7.5576, -7.6004, -7.59, -7.5686, -7.6121, -7.6692, -7.6832, -7.6949, -7.6897, -7.7308, -7.6785, -6.2858, -7.7699, -7.58, -6.7598, -6.3423, -6.2159, -6.6547, -5.5629, -6.4403, -6.9952, -5.6504, -5.9669, -6.381, -7.067, -6.1174, -7.2035, -5.4172, -6.3601, -6.1099, -5.1114, -6.1862, -7.0528, -6.7785, -5.8718, -6.5511, -5.8972, -6.5333, -4.8472, -5.9568, -6.3318, -6.3815, -6.1062, -5.0094, -4.6275, -5.3628, -5.1509, -5.1413, -5.0393, -5.2159, -5.7799, -5.0842, -5.659, -5.2412, -5.8399, -5.337, -5.7206, -5.964, -5.7707, -5.6899, -5.9777, -5.811, -5.9915, -5.9056, -5.9463, -6.7966, -6.8186, -6.8567, -6.9262, -7.1612, -7.2794, -7.3347, -7.3888, -7.3636, -7.4895, -7.5522, -7.3093, -7.3768, -7.6356, -7.5845, -7.6924, -7.7006, -7.7032, -7.5929, -7.7303, -7.7304, -7.7603, -7.7604, -7.763, -7.7632, -7.8077, -7.8143, -7.7502, -7.8208, -7.8372, -5.7028, -6.2292, -7.3388, -6.248, -6.8839, -6.6592, -5.6357, -6.361, -7.448, -6.054, -5.6379, -5.9053, -4.8756, -6.3246, -6.6797, -6.0277, -6.4675, -6.7351, -6.2897, -5.6543, -5.7653, -6.2072, -6.4571, -5.4217, -6.5095, -6.2743, -4.9121, -5.8147, -5.5701, -6.0878, -5.9356, -5.651, -4.4618, -5.9445, -5.5908, -5.5182, -5.687, -5.7777, -6.2149, -5.2186, -5.4218, -5.5235, -5.5052, -5.4285, -5.5507, -5.565, -5.7758, -5.5948, -5.7076, -5.7924, -5.8112, -5.8407, -5.4424, -5.6537, -6.5036, -6.7207, -6.8091, -6.903, -6.8657, -6.9318, -6.9674, -7.1376, -7.1378, -7.0944, -7.1711, -7.169, -7.2539, -7.176, -7.3013, -7.2142, -7.4398, -7.4423, -7.4689, -7.466, -7.0629, -6.8979, -7.5047, -7.5101, -7.5245, -7.5498, -7.5624, -7.5882, -6.4785, -7.4328, -6.6096, -6.9434, -6.1143, -6.3429, -6.3139, -5.8953, -6.6797, -6.5795, -6.2387, -5.6481, -6.3028, -5.7251, -6.1828, -5.3237, -6.2948, -5.7742, -5.0425, -5.4242, -5.0051, -6.4088, -4.633, -4.885, -5.7666, -6.389, -5.3675, -5.5981, -5.4024, -5.3708, -4.9788, -5.3018, -5.1209, -5.5086, -5.6209, -5.4633, -5.4974, -5.9176, -5.7511, -5.5239, -5.6204, -5.5243, -5.6866, -5.74, -5.6739, -6.5933, -6.7703, -6.6482, -6.8765, -6.6744, -6.9591, -7.0233, -6.9936, -7.0914, -7.1126, -6.3778, -6.9971, -6.9983, -7.2023, -7.2424, -7.2844, -6.9232, -7.3615, -7.1113, -7.0903, -7.404, -7.4077, -7.4204, -7.4427, -7.4565, -7.4706, -7.1014, -7.4848, -7.494, -7.3176, -6.8715, -6.9918, -6.1855, -6.5582, -6.2987, -6.5997, -7.0619, -6.7895, -6.2883, -6.4739, -6.3411, -6.1558, -6.1704, -5.7794, -6.3597, -4.9803, -6.5503, -6.441, -4.6771, -6.664, -6.1578, -5.8078, -6.0726, -5.9273, -6.4135, -6.2764, -5.9868, -5.6225, -6.2246, -5.1322, -5.4287, -5.3222, -6.1404, -5.9073, -5.0958, -5.899, -5.962, -5.4239, -6.0175, -5.827, -5.3005, -5.8157, -5.4211, -5.7185, -5.9679, -5.662, -5.7978, -5.9869, -5.7895, -5.9497, -5.9521, -5.8812, -5.9163, -5.9333, -6.2043, -6.7951, -6.8569, -6.8859, -6.973, -6.9345, -7.0247, -7.2072, -7.2493, -7.2386, -7.2896, -7.3128, -7.3128, -7.148, -6.8269, -7.3684, -7.3764, -7.1746, -7.4124, -7.4291, -7.4211, -7.4601, -7.4629, -6.9877, -7.4674, -7.5112, -7.512, -7.5121, -7.5321, -7.3085, -7.4409, -6.5342, -5.8628, -6.7056, -5.9205, -5.5011, -6.063, -6.9885, -6.8419, -5.863, -5.5794, -6.3708, -5.8014, -6.1762, -5.8466, -6.7104, -6.3992, -4.5659, -6.3236, -4.9632, -5.2917, -4.7787, -6.061, -4.8878, -6.3078, -5.0777, -5.8605, -4.6185, -5.2761, -5.6738, -6.0291, -6.3925, -5.4204, -5.5753, -5.5375, -5.2054, -5.6736, -5.6878, -5.5093, -5.8047, -5.7032, -5.6407, -5.8099, -5.6399, -5.9663, -5.9475, -6.3792, -6.5882, -6.8479, -6.8023, -6.6981, -6.8614, -6.9962, -6.9999, -7.0882, -7.1186, -7.0761, -7.1531, -7.1816, -7.1755, -7.207, -7.1964, -7.2547, -7.2767, -7.0515, -7.3045, -7.1726, -7.3072, -7.3332, -6.9926, -7.3678, -7.4386, -7.5014, -7.5085, -7.5027, -7.5242, -5.1296, -6.8015, -5.9448, -7.3704, -6.9271, -5.3136, -6.7448, -6.6562, -6.0667, -6.4121, -6.513, -6.3458, -5.0133, -6.5738, -6.9502, -6.7816, -6.676, -5.6371, -6.7024, -6.7116, -6.5027, -5.0247, -6.4303, -6.2867, -6.2193, -6.2955, -5.4874, -5.8094, -5.0855, -5.7187, -5.4022, -5.0579, -5.7423, -5.296, -6.0662, -6.0962, -5.2403, -5.764, -5.4536, -5.6957, -6.0773, -5.59, -5.6594, -5.7429, -5.652, -5.918, -5.7221, -5.6583, -5.9099, -5.9442, -5.9611, -5.8289, -5.9756], \"loglift\": [30.0, 29.0, 28.0, 27.0, 26.0, 25.0, 24.0, 23.0, 22.0, 21.0, 20.0, 19.0, 18.0, 17.0, 16.0, 15.0, 14.0, 13.0, 12.0, 11.0, 10.0, 9.0, 8.0, 7.0, 6.0, 5.0, 4.0, 3.0, 2.0, 1.0, 1.5569, 1.5519, 1.5448, 1.542, 1.5412, 1.5409, 1.5399, 1.5354, 1.5248, 1.5241, 1.5241, 1.5237, 1.5234, 1.5229, 1.5215, 1.5203, 1.5198, 1.5198, 1.5145, 1.5112, 1.51, 1.5089, 1.5088, 1.5086, 1.5069, 1.5069, 1.5063, 1.505, 1.5044, 1.5043, 1.4913, 1.4944, 1.4332, 1.4954, 1.4731, 1.4379, 1.4956, 1.4376, 1.4556, 1.4233, 1.3069, 1.4342, 1.3859, 1.2619, 1.4794, 1.194, 1.1087, 1.3361, 1.2111, 1.0743, 1.0709, 1.088, 1.0369, 1.1944, 1.1994, 1.1143, 1.0415, 1.0687, 0.8473, 0.8006, 0.9142, 1.0853, 0.7148, 0.9408, 0.9543, 1.0445, 0.6508, 0.6955, 0.6098, 1.0262, 0.5096, 0.3986, 0.673, 0.8053, 0.4662, 0.0116, 0.5014, 0.4464, 0.4631, 0.4493, 2.2287, 2.2184, 2.2153, 2.2144, 2.2128, 2.2128, 2.2109, 2.2069, 2.2062, 2.206, 2.2052, 2.2038, 2.2027, 2.1982, 2.1974, 2.1953, 2.1928, 2.1921, 2.1916, 2.1912, 2.1904, 2.19, 2.1888, 2.1871, 2.187, 2.1867, 2.1866, 2.1866, 2.1857, 2.1822, 2.1809, 2.1762, 2.1482, 2.1459, 1.8722, 2.066, 1.9862, 2.0541, 2.1375, 2.1046, 2.1499, 2.1671, 1.9049, 2.0439, 1.9333, 1.861, 1.7538, 1.9113, 1.7682, 1.521, 1.5528, 1.6409, 1.8768, 1.7014, 1.3581, 1.1202, 1.7652, 1.2121, 1.1645, 1.0368, 0.8244, 1.6179, 1.3356, 0.681, 1.0544, 1.1771, 1.2347, 1.4046, 1.1621, 1.2861, 0.824, 0.987, 0.0359, 0.6975, -0.0061, 0.3716, 0.5525, 0.2622, 0.3068, 0.3621, 0.04, -0.1375, 0.4322, 0.3424, 2.2473, 2.2443, 2.2419, 2.238, 2.2301, 2.2301, 2.2263, 2.2255, 2.2254, 2.2238, 2.2233, 2.2226, 2.2223, 2.2205, 2.2186, 2.218, 2.2154, 2.2152, 2.215, 2.2119, 2.211, 2.2107, 2.2107, 2.2094, 2.2092, 2.2087, 2.2064, 2.2046, 2.2042, 2.2039, 2.1864, 2.1951, 2.182, 2.0496, 2.1669, 2.1898, 2.2017, 2.2018, 2.0348, 2.0136, 2.1186, 1.9208, 1.5904, 2.0061, 1.9188, 1.5167, 1.7188, 1.7785, 1.8831, 1.2566, 1.6798, 1.4074, 1.1897, 1.6994, 0.7156, 1.0625, 0.721, 0.9094, 0.9445, 1.2984, 1.1254, 0.4505, 1.2197, 1.1954, 1.1003, 0.8817, 1.0579, 0.927, 0.3867, 0.56, 0.8289, 0.3699, 0.1322, -0.191, 0.2556, 0.5718, 0.1215, 0.0222, -0.4999, -0.1633, -0.4241, -0.6993, 2.27, 2.2489, 2.2473, 2.2408, 2.2313, 2.2298, 2.2291, 2.2283, 2.2252, 2.2252, 2.2249, 2.2243, 2.2225, 2.2225, 2.221, 2.2207, 2.2204, 2.2203, 2.2203, 2.2189, 2.2178, 2.2153, 2.215, 2.2145, 2.2131, 2.2125, 2.2122, 2.2117, 2.2102, 2.2091, 2.207, 2.195, 2.1795, 2.1991, 2.1827, 2.1228, 2.1962, 2.1825, 2.0189, 1.7633, 2.0807, 2.151, 2.0503, 1.9959, 1.9721, 1.9247, 2.126, 1.224, 1.4612, 1.4543, 1.8541, 1.4897, 1.8062, 1.2619, 1.1823, 0.8759, 1.6285, 1.8017, 1.2368, 0.868, 0.5222, 0.363, 1.1026, 0.2691, 1.3737, 0.1252, 0.5405, 0.1147, 0.4158, 0.4818, -0.203, 1.0458, 0.2544, 0.0557, 0.5328, -0.4399, -0.3739, 0.4534, 0.2634, -0.2031, -0.0088, 0.2209, -0.3915, 2.3158, 2.3114, 2.2983, 2.296, 2.2884, 2.288, 2.2846, 2.2838, 2.2819, 2.2813, 2.2797, 2.278, 2.2754, 2.2746, 2.2741, 2.274, 2.2736, 2.2708, 2.2694, 2.2677, 2.2674, 2.2673, 2.2652, 2.2643, 2.2635, 2.2633, 2.2611, 2.2606, 2.2598, 2.2585, 2.2556, 2.2245, 2.2022, 2.1619, 2.1855, 2.0973, 2.1482, 2.1934, 2.0239, 2.0398, 2.0938, 2.1914, 2.032, 2.2048, 1.7943, 2.008, 1.9208, 1.6215, 1.8955, 2.1579, 2.0607, 1.7065, 1.961, 1.6183, 1.9078, 0.9806, 1.5753, 1.7325, 1.7635, 1.5612, 0.6864, 0.2427, 0.8405, 0.6308, 0.567, 0.4368, 0.5778, 1.0866, 0.0842, 0.8183, -0.0325, 1.0559, -0.0199, 0.5456, 1.1406, 0.0996, -0.4033, 0.6193, -0.8394, 0.4724, -0.6688, -0.1765, 2.3179, 2.3155, 2.3153, 2.3116, 2.3057, 2.3008, 2.2979, 2.2956, 2.2925, 2.2904, 2.2866, 2.2864, 2.2848, 2.2819, 2.2813, 2.278, 2.2777, 2.2775, 2.2769, 2.2757, 2.2757, 2.2735, 2.2735, 2.2733, 2.2733, 2.2702, 2.2697, 2.2695, 2.2693, 2.2679, 2.2044, 2.2093, 2.2481, 2.1888, 2.2115, 2.1915, 2.0454, 2.1168, 2.237, 2.0541, 1.9971, 1.9895, 1.7861, 2.0401, 2.1019, 1.9454, 2.0258, 2.0691, 1.9409, 1.7588, 1.7665, 1.8713, 1.9574, 1.5231, 1.9602, 1.8573, 1.2706, 1.6363, 1.435, 1.6976, 1.5703, 1.3472, 0.4084, 1.516, 1.1871, 0.976, 1.0919, 1.1343, 1.6435, 0.068, 0.3373, 0.3025, 0.2031, -0.0139, 0.1451, 0.0413, 0.4904, -0.6232, -0.3905, 0.2199, -0.5336, -0.3468, 2.5307, 2.5289, 2.5137, 2.508, 2.5051, 2.5014, 2.5012, 2.5006, 2.4991, 2.4919, 2.4917, 2.4913, 2.4902, 2.4901, 2.486, 2.4844, 2.4834, 2.4794, 2.4754, 2.475, 2.4735, 2.4735, 2.4714, 2.4711, 2.4708, 2.4707, 2.4692, 2.4679, 2.4663, 2.4654, 2.424, 2.4571, 2.3627, 2.3928, 2.2685, 2.2776, 2.2421, 2.0454, 2.2569, 2.2179, 2.096, 1.8504, 2.0906, 1.6821, 1.8886, 1.2927, 1.9291, 1.5698, 1.0251, 1.2699, 0.95, 1.938, 0.3386, 0.4321, 1.2545, 1.9164, 0.7119, 0.9689, 0.6918, 0.6415, 0.1062, 0.4798, 0.116, 0.6744, 0.6653, 0.3304, 0.3729, 1.1599, 0.706, 0.0824, 0.2074, -0.1097, 0.1478, 0.0191, -0.8037, 2.5301, 2.53, 2.529, 2.5264, 2.5258, 2.5231, 2.5205, 2.5178, 2.5175, 2.5158, 2.5146, 2.5143, 2.5126, 2.512, 2.51, 2.5044, 2.5033, 2.5033, 2.5017, 2.5009, 2.5007, 2.4997, 2.4996, 2.4983, 2.4974, 2.4965, 2.4963, 2.4956, 2.4949, 2.4943, 2.4877, 2.4838, 2.4578, 2.456, 2.4342, 2.4507, 2.475, 2.454, 2.4026, 2.4027, 2.379, 2.3499, 2.2756, 2.1799, 2.3006, 1.8774, 2.3401, 2.278, 1.4536, 2.3265, 2.0114, 1.7306, 1.9018, 1.7978, 2.1104, 1.9972, 1.768, 1.4272, 1.92, 0.8352, 1.0591, 0.8812, 1.7938, 1.4418, 0.141, 1.3143, 1.3878, 0.3578, 1.3319, 0.8671, -0.4303, 0.8369, -0.2123, 0.5521, 1.1969, 0.1723, 0.5609, 1.1259, 0.1662, 0.9462, 0.7286, -0.0875, -0.0487, -0.225, 2.6612, 2.6439, 2.6414, 2.6372, 2.6341, 2.6332, 2.6311, 2.6243, 2.6218, 2.6206, 2.6194, 2.6179, 2.6171, 2.6168, 2.6147, 2.614, 2.6137, 2.6111, 2.6104, 2.6102, 2.61, 2.6079, 2.6077, 2.6076, 2.6073, 2.6041, 2.604, 2.6039, 2.6025, 2.6023, 2.6017, 2.5843, 2.5641, 2.5741, 2.5348, 2.4529, 2.4697, 2.5406, 2.5128, 2.3297, 2.2312, 2.3791, 2.2439, 2.3184, 2.198, 2.3738, 2.2293, 1.2619, 2.0885, 1.2789, 1.4589, 1.1054, 1.9193, 1.0674, 2.0743, 1.0166, 1.6401, 0.3531, 0.9069, 1.2119, 1.5468, 2.0129, 0.6022, 0.7465, 0.6728, 0.0314, 0.8137, 0.7694, 0.2498, 0.9257, 0.5563, 0.2296, 0.7296, -0.4312, 1.1296, -1.0773, 2.6645, 2.6592, 2.6498, 2.6482, 2.6471, 2.6454, 2.6433, 2.6427, 2.6374, 2.6368, 2.636, 2.6348, 2.6336, 2.6335, 2.6298, 2.6297, 2.6293, 2.628, 2.6275, 2.6262, 2.6249, 2.6249, 2.624, 2.6223, 2.622, 2.6171, 2.6124, 2.6118, 2.6118, 2.6104, 2.5989, 2.5999, 2.4964, 2.6032, 2.567, 2.4245, 2.5461, 2.5145, 2.4161, 2.4666, 2.4824, 2.4386, 2.0492, 2.456, 2.5604, 2.492, 2.4429, 2.0311, 2.4488, 2.4516, 2.321, 1.4561, 2.234, 2.1357, 1.9979, 2.0208, 1.2456, 1.5265, 0.7848, 1.4331, 1.0993, 0.4551, 1.2916, 0.6598, 1.6527, 1.6879, 0.4049, 1.1451, 0.614, 0.8812, 1.3789, 0.1058, 0.1222, 0.2245, -0.1759, 0.7164, -0.3076, -0.7881, 0.3718, 0.5436, 0.6238, -0.6202, 0.2071]}, \"token.table\": {\"Topic\": [3, 9, 10, 6, 9, 10, 1, 2, 3, 4, 5, 6, 7, 8, 9, 10, 1, 4, 3, 10, 2, 3, 10, 9, 1, 2, 4, 6, 8, 10, 6, 9, 4, 8, 10, 1, 4, 7, 3, 1, 2, 3, 4, 5, 6, 7, 8, 9, 10, 1, 2, 3, 4, 5, 6, 7, 8, 9, 10, 3, 6, 7, 10, 5, 6, 8, 9, 1, 4, 3, 4, 9, 10, 5, 4, 3, 8, 1, 2, 3, 4, 6, 7, 8, 9, 10, 9, 1, 5, 3, 9, 6, 4, 4, 5, 8, 9, 10, 1, 2, 3, 4, 5, 6, 7, 8, 9, 10, 3, 4, 1, 2, 3, 4, 5, 6, 10, 1, 2, 3, 4, 5, 6, 7, 8, 9, 10, 1, 10, 1, 2, 3, 5, 6, 9, 3, 1, 3, 10, 6, 1, 3, 4, 10, 2, 1, 2, 3, 4, 5, 6, 7, 8, 10, 1, 2, 3, 4, 5, 6, 7, 8, 9, 10, 1, 5, 6, 9, 10, 1, 2, 3, 4, 5, 6, 7, 8, 9, 10, 1, 2, 3, 4, 5, 6, 7, 8, 9, 10, 2, 5, 9, 1, 6, 2, 3, 4, 6, 10, 7, 5, 6, 7, 9, 10, 1, 2, 3, 6, 7, 8, 9, 9, 5, 8, 10, 5, 2, 7, 6, 9, 9, 1, 2, 3, 4, 5, 6, 7, 8, 9, 10, 2, 1, 2, 4, 9, 2, 4, 5, 6, 8, 9, 10, 1, 2, 3, 4, 5, 6, 7, 8, 9, 10, 8, 8, 2, 1, 2, 3, 4, 5, 6, 7, 8, 9, 10, 1, 2, 3, 4, 5, 6, 7, 8, 9, 10, 6, 7, 10, 4, 2, 3, 4, 7, 9, 1, 2, 3, 4, 5, 6, 8, 10, 2, 5, 7, 1, 1, 2, 3, 4, 5, 6, 7, 8, 9, 10, 9, 3, 9, 3, 1, 7, 9, 7, 1, 2, 3, 4, 5, 6, 7, 8, 10, 2, 4, 8, 3, 2, 3, 6, 1, 2, 3, 4, 5, 7, 8, 9, 1, 2, 3, 4, 5, 6, 7, 8, 9, 10, 10, 1, 2, 3, 4, 5, 7, 8, 9, 10, 9, 10, 6, 1, 2, 3, 4, 5, 6, 8, 9, 10, 2, 6, 5, 3, 1, 4, 5, 6, 5, 8, 10, 1, 2, 3, 4, 5, 6, 7, 9, 10, 1, 2, 3, 4, 5, 6, 7, 8, 9, 10, 4, 5, 8, 1, 2, 3, 4, 5, 6, 7, 8, 9, 10, 1, 2, 3, 4, 5, 6, 7, 8, 9, 10, 2, 6, 7, 4, 5, 7, 10, 5, 1, 3, 10, 7, 2, 4, 5, 7, 9, 10, 5, 2, 3, 4, 7, 9, 1, 2, 3, 4, 5, 6, 7, 8, 9, 10, 9, 10, 1, 3, 4, 5, 6, 8, 9, 10, 4, 7, 9, 10, 6, 6, 4, 5, 7, 9, 7, 9, 7, 8, 3, 1, 6, 2, 1, 3, 4, 5, 6, 7, 8, 9, 4, 1, 5, 6, 3, 5, 6, 5, 7, 6, 5, 10, 5, 8, 1, 2, 3, 4, 5, 6, 7, 8, 10, 2, 9, 4, 9, 8, 7, 10, 1, 2, 9, 1, 3, 5, 7, 3, 5, 10, 2, 3, 5, 10, 8, 3, 6, 7, 8, 5, 10, 5, 4, 8, 1, 4, 5, 6, 7, 9, 4, 1, 2, 5, 7, 3, 5, 7, 1, 2, 3, 4, 5, 6, 7, 8, 9, 10, 2, 3, 4, 5, 10, 1, 2, 3, 4, 5, 6, 7, 8, 9, 10, 1, 2, 3, 4, 5, 6, 7, 8, 9, 10, 3, 10, 7, 9, 2, 8, 6, 1, 4, 5, 8, 3, 1, 3, 9, 1, 5, 8, 5, 7, 10, 6, 8, 6, 8, 7, 9, 3, 8, 1, 2, 3, 4, 5, 6, 7, 8, 9, 10, 2, 6, 10, 1, 2, 3, 4, 5, 6, 7, 8, 9, 10, 1, 3, 4, 6, 8, 3, 5, 7, 10, 2, 3, 6, 8, 10, 1, 2, 3, 4, 5, 6, 7, 8, 9, 10, 6, 3, 1, 5, 7, 10, 1, 6, 2, 2, 8, 10, 5, 8, 1, 2, 3, 5, 7, 8, 10, 1, 3, 5, 1, 4, 5, 8, 2, 9, 4, 1, 2, 3, 4, 5, 6, 7, 8, 9, 2, 4, 3, 9, 6, 1, 4, 2, 3, 10, 1, 2, 3, 4, 5, 6, 7, 8, 9, 10, 1, 2, 3, 4, 5, 6, 7, 8, 9, 10, 2, 9, 1, 2, 4, 5, 6, 7, 8, 9, 10, 10, 4, 5, 7, 9, 10, 2, 1, 2, 3, 4, 5, 6, 7, 9, 10, 2, 4, 5, 7, 9, 1, 2, 3, 4, 5, 6, 7, 8, 9, 10, 4, 1, 2, 3, 4, 5, 6, 7, 8, 9, 10, 1, 2, 3, 4, 5, 6, 7, 8, 9, 10, 6, 1, 2, 3, 4, 5, 6, 7, 8, 9, 10, 3, 1, 2, 3, 4, 5, 6, 7, 8, 9, 10, 7, 1, 4, 4, 5, 10, 2, 1, 2, 3, 4, 5, 6, 7, 8, 9, 10, 1, 8, 10, 1, 2, 4, 5, 6, 7, 8, 9, 10, 1, 5, 5, 9, 1, 2, 3, 4, 5, 6, 7, 8, 9, 10, 4, 1, 2, 3, 4, 5, 6, 7, 8, 9, 10, 4, 5, 6, 1, 2, 3, 6, 7, 3, 4, 10, 1, 2, 3, 4, 5, 6, 7, 8, 9, 10, 1, 1, 1, 2, 3, 4, 7, 8, 9, 10, 1, 2, 4, 8, 10, 2, 9, 1, 2, 3, 4, 5, 6, 7, 9, 10, 4, 9, 2, 1, 3, 4, 5, 8, 9, 10, 7, 1, 6, 1, 2, 3, 5, 7, 1, 2, 3, 4, 5, 7, 8, 9, 10, 1, 3, 4, 5, 6, 8, 9, 10, 8, 10, 1, 7, 1, 1, 2, 3, 4, 5, 6, 7, 8, 9, 10, 6, 4, 5, 3, 9, 10, 8, 9, 1, 2, 6, 10, 8, 1, 2, 4, 7, 3, 9, 4, 6, 6, 5, 9, 3, 2, 1, 2, 3, 4, 5, 6, 7, 8, 9, 10, 1, 2, 5, 6, 7, 8, 9, 10, 10, 8, 2, 4, 6, 9, 4, 1, 1, 3, 7, 8, 10, 4, 1, 1, 2, 3, 5, 6, 8, 10, 3, 2, 1, 2, 3, 4, 5, 6, 7, 8, 9, 10, 1, 8, 9, 10, 1, 2, 3, 4, 6, 7, 8, 1, 2, 5, 1, 3, 7, 10, 4, 2, 3, 7, 7, 1, 6, 9, 1, 2, 3, 4, 5, 6, 7, 8, 9, 10, 1, 2, 3, 4, 5, 6, 7, 8, 9, 10, 1, 7, 9, 6, 10, 1, 2, 4, 5, 7, 8, 9, 10, 1, 2, 3, 4, 5, 6, 7, 8, 9, 10, 8, 1, 2, 3, 4, 5, 6, 7, 8, 9, 10, 1, 2, 3, 4, 5, 8, 9, 4, 1, 2, 3, 4, 5, 6, 7, 8, 9, 10, 8, 1, 2, 3, 5, 6, 7, 8, 9, 10, 1, 2, 3, 4, 5, 6, 7, 8, 9, 10, 2, 6, 10, 1, 2, 3, 4, 5, 6, 7, 8, 9, 10, 1, 2, 3, 4, 5, 6, 7, 8, 9, 8, 1, 5, 8, 2, 8, 9, 8, 1, 2, 3, 4, 5, 6, 7, 8, 9, 5, 5, 6, 7, 9, 10, 5, 10, 1, 3, 8, 10, 1, 3, 5, 6, 7, 10, 1, 2, 3, 4, 5, 6, 7, 8, 9, 10, 7, 8, 10, 1, 5, 9, 10, 8, 1, 3, 4, 9, 10, 2, 1, 2, 3, 4, 5, 6, 7, 8, 9, 10, 6, 3, 4, 10, 1, 3, 8, 9, 1, 4, 6, 8, 9, 7, 1, 2, 4, 5, 6, 7, 8, 9, 10, 1, 2, 3, 4, 5, 6, 7, 9, 10, 8, 9, 7, 2, 1, 3, 4, 9, 10, 1, 2, 3, 4, 5, 6, 7, 8, 9, 10, 9, 2, 3, 4, 5, 6, 7, 8, 9, 10, 5, 3, 4, 10, 1, 4, 6, 2, 1, 2, 3, 6, 7, 8, 1, 2, 3, 4, 5, 6, 7, 8, 9, 10, 1, 3, 6, 10, 1, 2, 3, 4, 8, 9, 10, 1, 2, 3, 4, 5, 6, 7, 8, 9, 10, 3, 4, 6, 7, 9, 1, 2, 3, 4, 5, 6, 9, 2, 1, 2, 7, 3, 4, 5, 7, 10, 1, 1, 2, 3, 4, 5, 6, 7, 8, 9, 10, 1, 2, 3, 4, 5, 6, 7, 9, 10, 5, 1, 2, 3, 4, 5, 6, 7, 8, 10, 6, 8, 1, 2, 3, 4, 6, 8, 10, 2, 3, 5, 8, 10, 1, 4, 7, 1, 2, 7, 10, 1, 3, 4, 6, 4, 8, 1, 2, 3, 4, 5, 6, 7, 8, 9, 10, 3, 4, 5, 6, 7, 9, 10, 7, 7, 5, 5, 6, 8, 5, 8, 5, 6, 7, 9, 10, 6, 1, 2, 3, 4, 5, 6, 8, 9, 10, 1, 3, 5, 6, 7, 8, 9, 10, 2, 3, 2, 3, 4, 5, 6, 7, 9, 5, 6, 2, 6, 7, 2, 3, 7, 8, 9, 1, 2, 3, 4, 5, 6, 7, 8, 9, 10, 6, 7, 10, 2, 3, 6, 10, 6, 2, 1, 2, 3, 4, 5, 6, 7, 8, 9, 1, 2, 3, 4, 5, 6, 7, 10, 1, 2, 3, 5, 8, 9, 2, 1, 2, 3, 4, 5, 6, 7, 1, 2, 3, 5, 6, 7, 9, 10, 1, 4, 5, 6, 8, 10, 1, 2, 3, 5, 6, 7, 8, 1, 8, 8, 5, 7, 5, 7, 1, 5, 7, 9, 4, 6, 8, 3, 5, 9, 3, 4, 6, 8, 1, 2, 4, 5, 4, 5, 8, 10, 1, 2, 3, 4, 6, 7, 8, 9, 10, 4, 5, 6, 7, 8, 9, 10, 1, 2, 5, 7, 8, 10, 6, 8, 4, 5, 6, 8, 9, 1, 2, 3, 4, 5, 6, 7, 9, 10, 3, 5, 7, 7, 3, 1, 2, 3, 4, 5, 6, 7, 8, 9, 10, 1, 6, 1, 2, 3, 4, 5, 6, 7, 8, 9, 9, 7, 1, 6, 7, 8, 10, 1, 2, 3, 4, 5, 6, 7, 9, 10, 1, 2, 3, 4, 5, 6, 7, 9, 10, 4, 7, 9, 10, 1, 2, 4, 8, 7, 1, 7, 4, 10, 7, 6, 3, 2, 10, 5, 3, 1, 2, 3, 4, 7, 9, 10, 1, 2, 3, 4, 5, 6, 7, 8, 3, 4, 5, 6, 10, 10, 1, 2, 3, 5, 7, 8, 9, 3, 10, 8, 6, 1, 2, 3, 4, 5, 7, 10, 1, 2, 3, 4, 6, 7, 8, 9, 10, 10, 5, 1, 2, 3, 4, 5, 6, 7, 8, 9, 10, 1, 2, 4, 5, 6, 7, 8, 8, 1, 2, 3, 5, 6, 7, 8, 9, 10, 4, 5, 1, 3, 4, 8, 1, 2, 3, 4, 5, 6, 7, 8, 9, 10, 1, 3, 4, 6, 8, 1, 2, 3, 4, 5, 6, 7, 8, 9, 10, 3, 4, 10, 3, 5, 10, 4, 8, 10, 4, 5, 1, 3, 4, 5, 6, 8, 1, 9, 7, 1, 3, 6, 10, 3, 9, 8, 10, 1, 2, 3, 6, 1, 2, 6, 8, 9, 10, 9, 1, 7, 8, 1, 6, 10, 3, 9, 5, 4, 3, 1, 2, 3, 4, 5, 6, 7, 10, 7, 7, 8, 10, 2, 1, 2, 3, 4, 5, 6, 7, 8, 9, 10, 1, 2, 3, 4, 5, 6, 7, 8, 9, 10, 1, 3, 4, 8, 10, 10, 2, 6, 8, 4, 5, 9, 1, 2, 3, 5, 6, 3, 4, 1, 2, 3, 4, 5, 6, 7, 8, 10, 2, 4, 5, 6, 7, 9, 3, 1, 2, 3, 5, 7, 10, 1, 1, 7, 5, 1, 2, 3, 4, 5, 6, 7, 8, 9, 10, 2, 3, 10, 2, 2, 3, 4, 5, 6, 7, 8, 9, 10, 5, 1, 2, 7, 9, 8, 1, 1, 2, 3, 6, 10, 1, 3, 4, 5, 6, 7, 8, 10, 1, 1, 3, 4, 5, 6, 7, 8, 9, 10, 1, 3, 4, 5, 6, 10, 1, 3, 4, 5, 7, 8, 4, 6, 8, 9, 7, 2, 5, 6, 6, 1, 1, 2, 3, 4, 5, 6, 8, 9, 10, 4, 7, 1, 4, 5, 6, 7, 8, 9, 1, 2, 3, 4, 5, 6, 8, 10, 1, 2, 3, 4, 5, 6, 7, 8, 9, 10, 1, 2, 3, 4, 5, 6, 7, 8, 9, 10, 1, 2, 3, 4, 5, 6, 7, 9, 10, 1, 2, 3, 4, 5, 6, 7, 8, 9, 10, 1, 2, 3, 4, 5, 6, 7, 8, 9, 7, 1, 2, 3, 4, 5, 6, 7, 8, 9, 10, 1, 3, 10, 1, 2, 3, 4, 5, 6, 7, 8, 9, 10, 9, 4, 9, 2, 2, 3, 8, 1, 2, 3, 4, 5, 6, 7, 8, 9, 10, 5, 8, 1, 2, 3, 4, 5, 6, 7, 8, 9, 10, 1, 2, 5, 6, 2, 3, 5, 6, 8, 9, 10, 1, 3, 10, 1, 2, 5, 8, 9, 7, 4, 8, 10, 6, 5, 6, 9, 1, 5, 6, 9, 2, 3, 1, 5, 7, 1, 2, 3, 4, 5, 6, 8, 9, 10, 1, 2, 3, 4, 5, 6, 7, 8, 9, 10, 1, 2, 3, 4, 5, 6, 7, 8, 9, 10, 1, 3, 4, 5, 6, 7, 8, 9, 10, 6, 4, 1, 1, 4, 6, 8, 2, 8, 2, 3, 4, 5, 6, 7, 8, 1, 2, 3, 4, 5, 6, 7, 10, 8, 1, 2, 4, 8, 10, 7, 4, 1, 2, 3, 4, 5, 6, 10, 2, 2, 1, 3, 5, 8, 3, 1, 2, 3, 4, 5, 6, 7, 8, 9, 10, 1, 10, 4, 5, 1, 2, 3, 4, 5, 6, 7, 8, 9, 10, 5, 1, 3, 6, 9, 1, 2, 3, 4, 5, 6, 7, 8, 9, 1, 2, 3, 4, 6, 7, 8, 9, 10, 1, 2, 3, 4, 6, 7, 9, 10, 1, 2, 3, 4, 5, 6, 7, 8, 9, 10, 1, 7, 8, 9, 1, 5, 6, 8, 2, 2, 6, 7, 8, 9, 1, 2, 3, 4, 5, 6, 7, 8, 9, 10, 5, 1, 2, 3, 4, 5, 6, 7, 8, 9, 10, 10, 1, 2, 3, 4, 5, 6, 7, 8, 9, 10, 1, 2, 4, 7, 1, 2, 3, 4, 5, 6, 7, 8, 9, 10, 3, 1, 2, 5, 6, 7, 8, 9, 3, 3, 8, 1, 4, 5, 7, 1, 2, 3, 4, 5, 6, 7, 8, 9, 10, 8, 1, 8, 1, 2, 3, 4, 5, 6, 7, 9, 10, 2, 3, 5, 6, 9, 10, 7, 7], \"Freq\": [0.04978206870448594, 0.04978206870448594, 0.8960772366807469, 0.8980288848652952, 0.9265179317149098, 0.8845846539599337, 0.24691449856209907, 0.13827211919477547, 0.02962973982745189, 0.05267509302658114, 0.05267509302658114, 0.3127583648453255, 0.02962973982745189, 0.03950631976993585, 0.006584386628322642, 0.08888921948235567, 0.2388838749717664, 0.7564656040772603, 0.899828276759272, 0.9531951887895073, 0.9030854300559847, 0.07740732257622726, 0.9601491065752944, 0.9062171574755945, 0.07757129545133153, 0.007757129545133153, 0.02327138863539946, 0.705898788607117, 0.05429990681593207, 0.1318712022672636, 0.9275382656377333, 0.9737746338446981, 0.9279690021353711, 0.04418900010168434, 0.955819681761011, 0.9293881295429816, 0.04725702353608381, 0.015752341178694604, 0.9542509566539918, 0.13874502204583525, 0.08324701322750115, 0.12487051984125172, 0.17442231342905, 0.05748008056184603, 0.12090637635422785, 0.0436055783572625, 0.13279880681529946, 0.051533865331310234, 0.07333665450994149, 0.5265801979939275, 0.1374463567645167, 0.007140070481273594, 0.07854077529400953, 0.06783066957209914, 0.03570035240636797, 0.039270387647004766, 0.04105540526732317, 0.049980493368915156, 0.016065158582865585, 0.8407923558027335, 0.0382178343546697, 0.0382178343546697, 0.0382178343546697, 0.01903516356266169, 0.07614065425064676, 0.07614065425064676, 0.799476869631791, 0.9612028839449206, 0.9085620512189871, 0.17196445434119587, 0.6534649264965443, 0.08598222717059793, 0.06878578173647834, 0.932317877561335, 0.9317742007178573, 0.8794271217569357, 0.04187748198842551, 0.6086952491884662, 0.09052390885366933, 0.06867331016485259, 0.12173904983769324, 0.028093626885621517, 0.04682271147603586, 0.031215140984023906, 0.003121514098402391, 0.003121514098402391, 0.8923055966822093, 0.9708722428425468, 0.9401090558788008, 0.9768166934359553, 0.9498211847770095, 0.9395434090408672, 0.9219800438266961, 0.9334306557926224, 0.08504594320692407, 0.8929824036727028, 0.9244205755679734, 0.9492077023625393, 0.007042416038140329, 0.007042416038140329, 0.021127248114420984, 0.0985938245339646, 0.1267634886865259, 0.08450899245768394, 0.014084832076280657, 0.43662979436470034, 0.16197556887722755, 0.0492969122669823, 0.021136772897540786, 0.9722915532868761, 0.0057574500354103855, 0.10939155067279732, 0.4692321778859464, 0.10363410063738694, 0.1180277257259129, 0.09787665060197656, 0.09499792558427136, 0.18020091421928439, 0.2955294993196264, 0.25588529819138384, 0.043248219412628255, 0.08169108111274226, 0.02282544913444269, 0.002402678856257125, 0.03243616455947119, 0.04084554055637113, 0.04565089826888538, 0.9222304464086324, 0.051235024800479576, 0.679568925317894, 0.13795760138032434, 0.0051095407918638645, 0.07153357108609411, 0.09708127504541343, 0.0051095407918638645, 0.9833408485344707, 0.9635267612960726, 0.014380996437254816, 0.014380996437254816, 0.9419366197830538, 0.21414779399041017, 0.6132414100634473, 0.06813793445149414, 0.09733990635927736, 0.9634654979239055, 0.199604923024656, 0.22365370893124106, 0.004809757181317012, 0.33427812410153235, 0.15631710839280288, 0.03607317885987759, 0.004809757181317012, 0.03607317885987759, 0.002404878590658506, 0.3742601350352266, 0.08077556871263883, 0.12116335306895824, 0.002692518957087961, 0.08077556871263883, 0.005385037914175922, 0.11847083411187029, 0.024232670613791647, 0.029617708527967572, 0.16424365638236563, 0.013884815272804002, 0.09719370690962802, 0.15273296800084402, 0.23604185963766802, 0.4998533498209441, 0.26394874268905144, 0.2799456361853576, 0.005332297832102049, 0.12530899905439816, 0.042658382656816395, 0.031993786992612294, 0.20795961545197994, 0.015996893496306147, 0.010664595664204099, 0.015996893496306147, 0.41582083731658753, 0.06848813791096736, 0.026906054179308605, 0.11007022164262611, 0.007338014776175074, 0.007338014776175074, 0.056258113284008905, 0.004892009850783383, 0.012230024626958458, 0.2910745861216113, 0.01067150440869316, 0.19208707935647687, 0.7896913262432939, 0.9308969287934801, 0.04231349676334, 0.9477012002503591, 0.021711621894886516, 0.30396270652841123, 0.04342324378977303, 0.629637034951709, 0.9244651295823948, 0.33138066939486094, 0.6117796973443587, 0.038236231084022416, 0.18140214876199773, 0.8163096694289897, 0.06621328624747065, 0.5760555903529947, 0.006621328624747066, 0.16553321561867665, 0.013242657249494132, 0.04634930037322946, 0.12580524387019423, 0.9445312558292391, 0.03080738924705187, 0.8934142881645042, 0.06161477849410374, 0.9641239334886442, 0.8190030882725675, 0.1638006176545135, 0.10311837051681291, 0.8765061493929097, 0.8992544973088229, 0.09089755994054967, 0.09089755994054967, 0.3419479635858773, 0.08224064947002113, 0.08224064947002113, 0.02597073141158562, 0.09522601517581394, 0.03029918664684989, 0.06925528376422832, 0.09522601517581394, 0.9318592164157273, 0.08446353457074854, 0.6153771804440251, 0.2171919460390677, 0.08446353457074854, 0.08874965538760268, 0.032272601959128254, 0.7342016945701677, 0.016136300979564127, 0.056477053428474436, 0.04840890293869238, 0.016136300979564127, 0.32464108586590085, 0.40665567597939156, 0.003417274588062114, 0.06492821717318016, 0.052967756114962766, 0.03417274588062114, 0.03246410858659008, 0.03246410858659008, 0.025629559410465855, 0.020503647528372682, 0.9838840660544731, 0.9417119699519564, 0.9657837144390298, 0.02051609523471442, 0.016412876187771534, 0.20926417139408707, 0.0779611618919148, 0.09027081903274345, 0.36928971422485957, 0.0779611618919148, 0.016412876187771534, 0.028722533328600187, 0.09847725712662922, 0.16348225270578368, 0.009082347372543539, 0.11201561759470363, 0.006054898248362359, 0.11807051584306599, 0.08476857547707302, 0.2815527685488497, 0.18467439657505194, 0.03935683861435533, 0.0030274491241811794, 0.9634362434084108, 0.6402553825820292, 0.3435516687025522, 0.9217828180811571, 0.6712335964516161, 0.017664042011884633, 0.16780839911290402, 0.061824147041596215, 0.07948818905348085, 0.03495456746290013, 0.13690538922969214, 0.10195082176679203, 0.3611971971166346, 0.1136023442544254, 0.1602084342049589, 0.08447353803534197, 0.005825761243816687, 0.22377189962777297, 0.6899633571856333, 0.05594297490694324, 0.9559503406477916, 0.1316070190878053, 0.08225438692987831, 0.4194973733423794, 0.010967251590650443, 0.04935263215792699, 0.09047982562286615, 0.1590251480644314, 0.041127193464939156, 0.008225438692987832, 0.008225438692987832, 0.9271764853808797, 0.9350604301060353, 0.044526687147906446, 0.9243809371162744, 0.24804043624036942, 0.7193172650970713, 0.9237672254591669, 0.9548255632094677, 0.13228895864010953, 0.0050880368707734444, 0.18825736421861744, 0.14246503238165642, 0.06105644244928133, 0.040704294966187556, 0.02544018435386722, 0.28493006476331284, 0.11702484802778922, 0.03268027054407658, 0.7734330695431457, 0.1960816232644595, 0.9339371950982874, 0.01609029214643367, 0.2252640900500714, 0.7401534387359489, 0.11377283764118673, 0.4280025796977977, 0.021671016693559378, 0.1571148710283055, 0.11377283764118673, 0.0487597875605086, 0.10293732929440703, 0.016253262520169533, 0.29515946353888833, 0.1811560728598468, 0.09994817812957064, 0.1655391700271014, 0.07808451416372707, 0.03435718623203991, 0.07027606274735436, 0.05465915991460895, 0.009370141699647248, 0.01093183198292179, 0.9240383584481087, 0.018278421563127242, 0.1645057940681452, 0.31073316657316313, 0.21568537444490146, 0.07676937056513443, 0.014622737250501795, 0.09139210781563621, 0.06945800193988352, 0.036556843126254485, 0.10121972277355937, 0.8603676435752545, 0.9171943293189635, 0.0392180116363735, 0.0392180116363735, 0.1176540349091205, 0.0891318446281216, 0.09982766598349618, 0.032087464066123776, 0.5027036037026058, 0.060609654347122684, 0.021391642710749184, 0.9381421222858463, 0.9385547943858479, 0.9374372051658278, 0.9087311380786106, 0.010878141127926219, 0.05439070563963109, 0.250197245942303, 0.6744447499314256, 0.9765726488878096, 0.9621372296209358, 0.9251427743994683, 0.11281144647971743, 0.0933611970866627, 0.16338209490165972, 0.015560199514443783, 0.04668059854333135, 0.43957563628303686, 0.023340299271665674, 0.0933611970866627, 0.011670149635832837, 0.3387125994351669, 0.026565694073346423, 0.04781824933202356, 0.09962135277504908, 0.10759106099705301, 0.02789397877701374, 0.11423248451538962, 0.0026565694073346423, 0.08633850573837587, 0.14876788681073996, 0.15043491843111664, 0.06017396737244666, 0.7822615758418066, 0.1026182214610081, 0.11643221281152842, 0.1815553148925528, 0.14208676817678045, 0.16774132354203247, 0.15590075952730076, 0.039468546715772344, 0.05920282007365852, 0.011840564014731703, 0.02170770069367479, 0.0466538974046176, 0.11663474351154401, 0.0758125832825036, 0.17495211526731602, 0.05831737175577201, 0.1516251665650072, 0.0058317371755772, 0.30908207030559165, 0.0116634743511544, 0.0466538974046176, 0.9109445013578908, 0.07591204177982423, 0.9644536202696734, 0.6223119350295615, 0.36700447450461315, 0.15634105782758467, 0.8164477464329422, 0.947739451804238, 0.9466687885931822, 0.9565002753460168, 0.9440859319698951, 0.9689859571628133, 0.01168377731635558, 0.0584188865817779, 0.26872687827617836, 0.02336755463271116, 0.6192401977668457, 0.01168377731635558, 0.9109842833523987, 0.1173113482598085, 0.201105168445386, 0.0167587640371155, 0.1508288763340395, 0.5195216851505805, 0.08995108176433238, 0.14221995360036335, 0.04497554088216619, 0.13127995716956617, 0.18233327384661968, 0.08265775081046758, 0.12763329169263377, 0.11061551946694927, 0.012155551589774645, 0.07657997501558027, 0.863271711466899, 0.123324530209557, 0.09192063546416424, 0.12020390791467632, 0.40303663241979704, 0.18384127092832847, 0.021212454337884056, 0.0070708181126280184, 0.07070818112628019, 0.09192063546416424, 0.033745178028125475, 0.1349807121125019, 0.5567954374640703, 0.25308883521094105, 0.976672388655489, 0.9263245531936379, 0.04730963168377354, 0.04730963168377354, 0.1655837108932074, 0.7332992910984899, 0.9224685445425159, 0.04392707354964361, 0.9557896028104373, 0.8982103989964444, 0.9624467799345294, 0.054622786709149364, 0.9285873740555391, 0.9016886643046746, 0.24035662825205634, 0.34765869443601005, 0.030044578531507042, 0.051504991768297786, 0.051504991768297786, 0.055797074415655935, 0.04292082647358149, 0.1759753885416841, 0.9576320377538079, 0.010184148083945554, 0.1120256289234011, 0.8656525871353721, 0.017963984675356637, 0.790415325715692, 0.17963984675356637, 0.9312061259246254, 0.9414972251807999, 0.9719676600802634, 0.9008828977145783, 0.9412634703155901, 0.9853106290869179, 0.9340132593604927, 0.690073924050942, 0.06171392816715742, 0.05890874961410481, 0.00841553565915783, 0.00280517855305261, 0.07573982093242047, 0.02524660697747349, 0.00561035710610522, 0.07293464237936786, 0.9405946622848128, 0.03483683934388196, 0.9235624338769653, 0.9292314699132896, 0.9586809427287695, 0.7689279126473452, 0.20781835476955277, 0.8619764401601976, 0.07981263334816645, 0.055868843343716515, 0.40535235230714584, 0.013977667320936063, 0.04193300196280819, 0.5451290255165064, 0.29790180245477255, 0.5481393165167815, 0.14299286517829082, 0.01719899134614015, 0.1375919307691212, 0.07739546105763068, 0.7653551149032367, 0.9668023886271573, 0.1310871868135798, 0.016385898351697476, 0.7701372225297813, 0.0655435934067899, 0.9690733833030494, 0.9579716407531788, 0.9360885842912711, 0.09582446518227733, 0.8943616750345883, 0.01691293396614771, 0.01691293396614771, 0.23678107552606792, 0.6765173586459083, 0.03382586793229542, 0.9435301381670902, 0.9397091498066721, 0.12236011032488474, 0.7069695263215563, 0.163146813766513, 0.013595567813876082, 0.13043106599598456, 0.8478019289738996, 0.968976936762572, 0.4161179696806652, 0.10262999252213716, 0.13061999048272002, 0.12502199089060345, 0.003731999728077715, 0.009329999320194288, 0.05411399605712687, 0.005597999592116572, 0.13435199021079774, 0.020525998504427434, 0.044993886148533724, 0.011248471537133431, 0.1799755445941349, 0.7423991214508064, 0.022496943074266862, 0.15382092152688828, 0.07783709282083504, 0.03335875406607216, 0.16123397798601544, 0.22609822200337795, 0.06486424401736253, 0.018532641147817865, 0.18532641147817866, 0.0018532641147817866, 0.07598382870605325, 0.5742682391616971, 0.14356705979042428, 0.10623962424491397, 0.043070117937127284, 0.04881280032874426, 0.02584207076227637, 0.011485364783233943, 0.0028713411958084857, 0.0028713411958084857, 0.043070117937127284, 0.9561371163454789, 0.9609042297748842, 0.23130979455659942, 0.7269736400350267, 0.9119093483163551, 0.9757840264759049, 0.9418577691658061, 0.19533771979898015, 0.6215291084513005, 0.017757974527180014, 0.1420637962174401, 0.9790050019832319, 0.9857162077559325, 0.9665588965152585, 0.947738492945178, 0.052105803689511156, 0.6600068467338079, 0.29526622090722987, 0.008517577126133713, 0.0681406170090697, 0.9113807524963072, 0.027277796515000334, 0.9547228780250117, 0.9631924732919401, 0.9790441688623657, 0.06838956451403343, 0.8890643386824346, 0.05195963877137171, 0.9352734978846908, 0.14062750179532024, 0.23887411263862615, 0.04623369922037925, 0.03660167854946691, 0.08861459017239356, 0.10209941911167085, 0.06549774056220395, 0.03660167854946691, 0.24465332504117354, 0.001926404134182469, 0.940715806329467, 0.9740054924146221, 0.8989575099905857, 0.3413917805137797, 0.006471882095047957, 0.029123469427715806, 0.0453031746653357, 0.0598649093791936, 0.10193214299700533, 0.22004399123163054, 0.004853911571285968, 0.06795476199800354, 0.12458373032967317, 0.13030243323619792, 0.21499901483972655, 0.10424194658895833, 0.436513151341263, 0.10424194658895833, 0.9217804499321772, 0.925497879345754, 0.038562411639406415, 0.019281205819703207, 0.01745411939351105, 0.01745411939351105, 0.1047247163610663, 0.7505271339209751, 0.1047247163610663, 0.3301870447079664, 0.0402667127692642, 0.048320055323117034, 0.11476013139240296, 0.07852008990006518, 0.06644007606928592, 0.15301350852320394, 0.048320055323117034, 0.04228004840772741, 0.07650675426160197, 0.9137412805431603, 0.8971404238139078, 0.08863720597110095, 0.029545735323700313, 0.8272805890636088, 0.029545735323700313, 0.9494417632853207, 0.039560073470221696, 0.9338508308103767, 0.07066512961338176, 0.1413302592267635, 0.7773164257471994, 0.8652616954877091, 0.11799023120286942, 0.11034621301144316, 0.07639353208484527, 0.17825157486463897, 0.02546451069494842, 0.033952680926597895, 0.4668493627407211, 0.11034621301144316, 0.06897525756339896, 0.7759716475882383, 0.13795051512679793, 0.025863151794498777, 0.18104206256149144, 0.7758945538349633, 0.9387351172530041, 0.8111909261634218, 0.17077703708703618, 0.9697147436094395, 0.1921902269247803, 0.2498472950022144, 0.03523487493620972, 0.0032031704487463382, 0.15375218153982423, 0.0032031704487463382, 0.0064063408974926765, 0.06086023852618043, 0.2946916812846631, 0.874589724233915, 0.046031038117574474, 0.9438957267369874, 0.9446237700479886, 0.9394440296379907, 0.06776806759193252, 0.914868912491089, 0.015628857744305277, 0.672040883005127, 0.29694829714180027, 0.30612047312885393, 0.23831314252181748, 0.21198019859675477, 0.026991267523189272, 0.10599009929837738, 0.017116413551290757, 0.02830791471944241, 0.029624561915695544, 0.017116413551290757, 0.018433060747543892, 0.36141983732657845, 0.0746735201087972, 0.0746735201087972, 0.08363434252185287, 0.020908585630463217, 0.05077799367398209, 0.02986940804351888, 0.15830786263065005, 0.01792164482611133, 0.12843845458713118, 0.9099685195067988, 0.05352755997098816, 0.21691251270472545, 0.34043213799491634, 0.13858299422801904, 0.06929149711400952, 0.039164759238353206, 0.036152085450787574, 0.012050695150262525, 0.10845625635236272, 0.036152085450787574, 0.900703989349952, 0.15499895839123956, 0.5683295141012118, 0.09041605906155642, 0.1679155382571762, 0.01291657986593663, 0.9112274947031901, 0.3274377637567788, 0.3211206364817284, 0.10528545458417325, 0.0810698000298134, 0.03263849092109371, 0.04316703637951103, 0.06106556365882048, 0.007369981820892127, 0.022109945462676382, 0.7033357074481945, 0.018508834406531435, 0.15732509245551718, 0.09254417203265716, 0.018508834406531435, 0.45789989039922313, 0.09113541507945704, 0.16152455680749295, 0.0407516083688629, 0.06520257339018064, 0.10224949008914691, 0.02963753335917302, 0.036305978364986946, 0.01481876667958651, 0.0014818766679586509, 0.9868947179776177, 0.4026975412636494, 0.03771080653973974, 0.14949641163968255, 0.01750858875059345, 0.012121330673487774, 0.09158338731079652, 0.016161774231317032, 0.05521939529033319, 0.20606262144929216, 0.012121330673487774, 0.5991672936468305, 0.1357405550208749, 0.015907096291508774, 0.028632773324715796, 0.04878176196062691, 0.024390880980313456, 0.016967569377609362, 0.018028042463709947, 0.009544257774905265, 0.10180541626565616, 0.968888765865076, 0.002463092903040302, 0.08128206580032997, 0.04926185806080604, 0.19704743224322416, 0.10837608773377329, 0.1403962954732972, 0.08128206580032997, 0.22167836127362717, 0.002463092903040302, 0.11576536644289419, 0.9695926141736358, 0.17101344342904792, 0.3008970713498438, 0.030306179848185708, 0.09741272094059691, 0.08225963101650406, 0.03463563411221224, 0.04978872403630509, 0.13421308218482242, 0.015153089924092854, 0.08442435814851733, 0.9406461319687885, 0.9320560510018582, 0.9493600155525422, 0.19920386385563343, 0.018109442168693948, 0.7605965710851458, 0.9402934988274063, 0.1357284827319585, 0.04976711033505145, 0.022621413788659752, 0.0542913930927834, 0.04976711033505145, 0.1357284827319585, 0.2352627034020614, 0.01357284827319585, 0.21264128961340165, 0.09048565515463901, 0.9408271211083796, 0.9306726552933593, 0.9437148353321744, 0.24563658223982754, 0.5382330993196222, 0.007224605359994927, 0.025286118759982247, 0.02167381607998478, 0.02889842143997971, 0.03251072411997717, 0.02889842143997971, 0.061409145559956885, 0.9115246785277801, 0.9106201659110467, 0.35132528249821116, 0.6379327497993834, 0.24746910802129857, 0.47810358284386933, 0.005050389959618338, 0.015151169878855014, 0.07575584939427507, 0.06902199611478395, 0.02020155983847335, 0.038719656357073924, 0.03535272971732836, 0.015151169878855014, 0.9691076592536838, 0.012589523129340077, 0.05350547329969533, 0.03776856938802023, 0.0031473807823350192, 0.490991402044263, 0.034621188605685214, 0.022031665476345136, 0.10701094659939066, 0.0031473807823350192, 0.23605355867512645, 0.02588788317645894, 0.8543001448231451, 0.10355153270583577, 0.03405779971508281, 0.06811559943016562, 0.6981848941591977, 0.13623119886033125, 0.03405779971508281, 0.03445845860758338, 0.9303783824047511, 0.9244146199956164, 0.10438965430355789, 0.16207867378710303, 0.21976769327064818, 0.02472386549294792, 0.18130834694828477, 0.09065417347414238, 0.06867740414707756, 0.02197676932706482, 0.06043611564942825, 0.06867740414707756, 0.9674353074628825, 0.9248263658310789, 0.5096652226781639, 0.058666500452162755, 0.010999968834780516, 0.13566628229562638, 0.003666656278260172, 0.003666656278260172, 0.23099934553039084, 0.043999875339122065, 0.17425360056845549, 0.03267255010658541, 0.07623595024869928, 0.5118699516698381, 0.19603530063951244, 0.08035436864371497, 0.8838980550808646, 0.19442218152687923, 0.35076166770313266, 0.16836560049750365, 0.0020043523868750438, 0.026056581029375567, 0.12426984798625271, 0.018039171481875393, 0.018039171481875393, 0.09821326695687714, 0.9182091857097713, 0.9329901338187734, 0.932392291892872, 0.04397570306244089, 0.014658567687480297, 0.13192710918732267, 0.5350377205930309, 0.10260997381236209, 0.13925639303106283, 0.029317135374960595, 0.902542425227469, 0.9641296839539002, 0.9618972188674206, 0.8215489325294187, 0.11517041110225495, 0.03839013703408498, 0.015356054813633994, 0.007678027406816997, 0.6276037906996544, 0.0031224069189037533, 0.07493776605369008, 0.1342634975128614, 0.024979255351230027, 0.00936722075671126, 0.031224069189037532, 0.03746888302684504, 0.05932573145917131, 0.22431138603054315, 0.023006296003132632, 0.03450944400469895, 0.29333027403994105, 0.005751574000783158, 0.0690188880093979, 0.0402610180054821, 0.3105849960422905, 0.9326236808279088, 0.9550248670596216, 0.9001764854235259, 0.07501470711862715, 0.9169219054116191, 0.6225931284183648, 0.06056353389283704, 0.06238043990962215, 0.07025369931569096, 0.023014142879278075, 0.023014142879278075, 0.0878171241446137, 0.016352154151066, 0.019985966184636224, 0.01453524813428089, 0.9417078447534091, 0.8966689816135874, 0.08966689816135874, 0.9294868909899341, 0.9271695977403588, 0.9350075460740547, 0.7568494657785589, 0.22934832296319968, 0.03464866385339788, 0.0866216596334947, 0.8662165963349471, 0.9836501268551298, 0.9624317841639499, 0.3480316553958748, 0.10800982408837494, 0.012001091565374992, 0.5160469373111247, 0.9638883585987592, 0.9823452849222089, 0.0602538192952482, 0.903807289428723, 0.9877147962187555, 0.9399388580665762, 0.9475768176407628, 0.9739272585130905, 0.9168577155519765, 0.6018280454902197, 0.10926044873483157, 0.008060197037815443, 0.04209214008636954, 0.15045701137255493, 0.004477887243230802, 0.016120394075630887, 0.0017911548972923206, 0.009851351935107763, 0.0564213792647081, 0.8612672655942863, 0.0079746969036508, 0.0119620453554762, 0.0026582323012169333, 0.06246845907859793, 0.0358861360664286, 0.014620277656693133, 0.0026582323012169333, 0.9714314063303249, 0.937591907443702, 0.034749582322332655, 0.9208639315418153, 0.034749582322332655, 0.017374791161166327, 0.9361884705900982, 0.9613599397812854, 0.03873517482133059, 0.15494069928532236, 0.19367587410665296, 0.5293807225581848, 0.09038207458310471, 0.9451868853700238, 0.9603106203521179, 0.2853358004354819, 0.02173987050937005, 0.5054519893428537, 0.010869935254685026, 0.12228677161520654, 0.04619722483241136, 0.0027174838136712564, 0.9665592039731157, 0.9522187152062834, 0.7590030713201625, 0.023887406305507654, 0.048545374104741364, 0.06935053443534481, 0.0023116844811781603, 0.04777481261101531, 0.0077056149372605335, 0.0007705614937260534, 0.026199090786685815, 0.01387010688706896, 0.04887329035201008, 0.9285925166881915, 0.17879478409867547, 0.786697050034172, 0.07912910751355569, 0.005861415371374495, 0.11429759974180266, 0.17291175345554763, 0.5714879987090133, 0.05275273834237046, 0.0029307076856872477, 0.16866141326328218, 0.07784372919843793, 0.7395154273851603, 0.05510448923139835, 0.027552244615699176, 0.8816718277023736, 0.027552244615699176, 0.9341488369957511, 0.022655923014359782, 0.7986212862561823, 0.16991942260769838, 0.9582677229234954, 0.9157206704307905, 0.892593746457234, 0.9323667121980592, 0.1514856475374992, 0.049646556755987135, 0.09929311351197427, 0.04200862494737373, 0.25968968149285576, 0.01782184088676461, 0.09674713624243647, 0.02673276133014692, 0.24186784060609118, 0.01527586361722681, 0.4201352708398761, 0.10381720978282653, 0.051367890257127714, 0.08327005367997545, 0.042175741474273276, 0.051367890257127714, 0.11084650002853874, 0.01568072439428109, 0.09732863417139988, 0.02487287317713552, 0.9275655867019504, 0.04881924140536581, 0.024409620702682905, 0.08125499505641207, 0.8531774480923267, 0.49191409375724326, 0.09738400840879435, 0.0474434912760793, 0.01747918099645027, 0.06492267227252957, 0.022473232709721774, 0.05493456884598656, 0.20225909438749598, 0.09277924265700412, 0.1217727559873179, 0.034792215996376545, 0.052188323994564814, 0.19715589064613373, 0.017396107998188273, 0.3769156732940792, 0.005798702666062757, 0.02319481066425103, 0.07538313465881584, 0.9543189760488999, 0.1203540659254837, 0.33527204079241885, 0.26477894503606414, 0.02579015698403222, 0.010316062793612888, 0.02407081318509674, 0.0825285023489031, 0.04814162637019348, 0.02407081318509674, 0.06533506435954829, 0.12894575424188742, 0.1562978839295605, 0.20709469620666765, 0.4415415221010084, 0.03907447098239013, 0.003907447098239012, 0.019537235491195064, 0.9259248186069017, 0.3705618991030158, 0.08973247780969888, 0.023263975728440453, 0.061483364425164055, 0.0049851376560943825, 0.0681302146332899, 0.15786269244298878, 0.01827883807234607, 0.18943523093158654, 0.016617125520314607, 0.9619037636992398, 0.10209209185411018, 0.6806139456940679, 0.030936997531548542, 0.013921648889196843, 0.013921648889196843, 0.003093699753154854, 0.020109048395506552, 0.12529484000277158, 0.009281099259464562, 0.3679043338447234, 0.051335488443449775, 0.04848351686325812, 0.13404266426900774, 0.08555914740574963, 0.017111829481149924, 0.039927602122683155, 0.07985520424536631, 0.0370756305424915, 0.13974660742939105, 0.9733706256071107, 0.15973516304046173, 0.7986758152023087, 0.20749937879535027, 0.11044321774591224, 0.11602115803610982, 0.1015185132815961, 0.19299673404083653, 0.11044321774591224, 0.029005289509027456, 0.008924704464316141, 0.04797028649569925, 0.07474439988864767, 0.046637390596706796, 0.09327478119341359, 0.09327478119341359, 0.07578575971964854, 0.0582967382458835, 0.21569793150976896, 0.1049341288425903, 0.2914836912294175, 0.02914836912294175, 0.96477669090094, 0.04459170452341214, 0.08918340904682429, 0.8472423859448307, 0.8045674496913104, 0.18167652089803785, 0.8837991714277741, 0.9531247631034367, 0.23788150028516739, 0.07263557260615798, 0.12529636274562253, 0.09442624438800537, 0.04358134356369479, 0.08171501918192772, 0.15435059178808572, 0.019974782466693444, 0.1688777063093173, 0.916714125397909, 0.018299746278256156, 0.7319898511302463, 0.05489923883476847, 0.018299746278256156, 0.18299746278256157, 0.2801208090585572, 0.6875692585982768, 0.1875168381703019, 0.10228191172925559, 0.10228191172925559, 0.579597499799115, 0.3273722744802501, 0.1544208841887972, 0.018530506102655667, 0.030884176837759444, 0.4262016403610803, 0.04323784757286322, 0.7263611910118504, 0.0384827121065881, 0.1138446899819898, 0.016034463377745042, 0.03367237309326459, 0.006413785351098016, 0.05612062182210764, 0.004810339013323513, 0.001603446337774504, 0.001603446337774504, 0.7404137859852036, 0.23381487978480114, 0.9116935481798888, 0.024248923555307268, 0.6425964742156426, 0.31523600621899445, 0.012124461777653634, 0.9461862370429198, 0.06777755988471809, 0.5591648690489243, 0.12708292478384642, 0.11013853481266689, 0.12708292478384642, 0.9557791040175372, 0.3199493853671335, 0.007528220832167847, 0.10539509165034985, 0.04140521457692316, 0.0037641104160839236, 0.2973647228706299, 0.08281042915384632, 0.015056441664335694, 0.12421564373076947, 0.007528220832167847, 0.9368328877551294, 0.06841948233531983, 0.10262922350297973, 0.786824046856178, 0.01832411512980828, 0.20156526642789108, 0.07329646051923312, 0.6963163749327146, 0.012906266967168786, 0.14842207012244102, 0.4904381447524138, 0.30329727372846643, 0.03871880090150635, 0.9394260442298419, 0.1518438439805003, 0.0828239148984547, 0.12423587234768206, 0.19325580142972765, 0.13343852955862145, 0.050614614660166764, 0.2392690874844247, 0.027607971632818234, 0.004601328605469706, 0.0632902938009171, 0.19409023432281244, 0.08860641132128394, 0.29113535148421865, 0.10970317592158964, 0.15611605804226217, 0.08860641132128394, 0.00421935292006114, 0.00421935292006114, 0.04723420149315068, 0.9446840298630137, 0.9101501394606504, 0.9189345230928864, 0.1309985295372088, 0.0491244485764533, 0.163748161921511, 0.5403689343409863, 0.0818740809607555, 0.24161746853771354, 0.16059604196219282, 0.014468111888485841, 0.1273193846186754, 0.0911491048974608, 0.07523418182012637, 0.03327665734351743, 0.0911491048974608, 0.03327665734351743, 0.13165981818522116, 0.9644947833053991, 0.17008119819880976, 0.004252029954970244, 0.1063007488742561, 0.10204871891928585, 0.09354465900934537, 0.09779668896431562, 0.17008119819880976, 0.012756089864910732, 0.24661773738827417, 0.9278385725358732, 0.0923673290817069, 0.9031472176878008, 0.9312341187974507, 0.9526550795323185, 0.9110078980704139, 0.08281889982458308, 0.9703135295423322, 0.1159083446577294, 0.09935000970662519, 0.0662333398044168, 0.0165583349511042, 0.6457750630930638, 0.049675004853312596, 0.2553027890645227, 0.07681676839109533, 0.1513742200648055, 0.04970496778247345, 0.1717080705212719, 0.11748446930402814, 0.06439052644547696, 0.061001551369399235, 0.022593167173851566, 0.030500775684699617, 0.04896690622359019, 0.024483453111795096, 0.1469007186707706, 0.7834704995774431, 0.9135661136680144, 0.0049028592862326355, 0.039222874289861084, 0.001634286428744212, 0.03268572857488424, 0.006537145714976848, 0.001634286428744212, 0.16199351159190217, 0.053423392120733694, 0.048253386431630435, 0.24299026738785326, 0.039636710283125, 0.07755008533654892, 0.008616676148505436, 0.3291570288729076, 0.005170005689103261, 0.031020034134619567, 0.3948446282227398, 0.007311937559680366, 0.20473425167105025, 0.07311937559680366, 0.3217252526259361, 0.22362328651134283, 0.08214732973886063, 0.22818702705239066, 0.04563740541047813, 0.30577061625020346, 0.10040229190305189, 0.01369122162314344, 0.9694588971873126, 0.37630446279752305, 0.6146306225692876, 0.006271741046625384, 0.010879915803294133, 0.5222359585581183, 0.28287781088564745, 0.17407865285270613, 0.010879915803294133, 0.9695415674655693, 0.24021907608760865, 0.08257530740511547, 0.1013424227244599, 0.14263007642701764, 0.003753423063868885, 0.011260269191606656, 0.06380819208577104, 0.048794499830295504, 0.09758899966059101, 0.21394511464052646, 0.22689072730100104, 0.1456582446870624, 0.07563024243366702, 0.06722688216325957, 0.07843136252380284, 0.08123248261393864, 0.288515369283989, 0.016806720540814894, 0.016806720540814894, 0.9461491291754834, 0.06667126894183645, 0.10371086279841225, 0.014815837542630323, 0.037039593856575806, 0.2777969539243185, 0.18519796928287902, 0.022223756313945485, 0.20001380682550934, 0.09259898464143951, 0.903501996118721, 0.9358640551510303, 0.18008673497816646, 0.15307372473144149, 0.11705637773580821, 0.0360173469956333, 0.13506505123362486, 0.009004336748908324, 0.36917780670524125, 0.016145950233860815, 0.016145950233860815, 0.7265677605237367, 0.12916760187088652, 0.11302165163702571, 0.02850915518831929, 0.19956408631823502, 0.7412380348963016, 0.1713930246151705, 0.763478018740305, 0.054534144195736066, 0.0077905920279622955, 0.7830281365983247, 0.01909824723410548, 0.18143334872400207, 0.00954912361705274, 0.9550283498154457, 0.9842678944437395, 0.37786299035707716, 0.06133223910646588, 0.06767695349678994, 0.14663339924304486, 0.05005274685700089, 0.04793784206022621, 0.0888260014645368, 0.0888260014645368, 0.07049682655915619, 0.0007049682655915619, 0.0681735735353909, 0.12271243236370362, 0.04090414412123454, 0.45676294268711903, 0.11589507501016454, 0.0681735735353909, 0.12271243236370362, 0.9116389481272192, 0.9121317188121648, 0.9513788108756914, 0.018018968495003097, 0.7928346137801363, 0.180189684950031, 0.9695651493069041, 0.9146741842756693, 0.6682485223108088, 0.09217220997390466, 0.09217220997390466, 0.08065068372716658, 0.06912915748042849, 0.9422337836569247, 0.07534138586380153, 0.04080991734289249, 0.197771137892479, 0.22288493318041283, 0.14126509849462784, 0.07848061027479325, 0.02825301969892557, 0.17265734260454516, 0.04080991734289249, 0.2378625110982958, 0.006995956208773406, 0.09094743071405427, 0.5596764967018725, 0.013991912417546812, 0.006995956208773406, 0.03497978104386703, 0.04897169346141384, 0.9323922626547065, 0.05827451641591916, 0.09698886430083195, 0.1454832964512479, 0.01939777286016639, 0.1939777286016639, 0.49464320793424293, 0.009698886430083195, 0.03879554572033278, 0.8681468275593532, 0.09138387658519508, 0.033414113851310843, 0.868766960134082, 0.06682822770262169, 0.04189911900658785, 0.020949559503293923, 0.0837982380131757, 0.1885460355296453, 0.6284867850988176, 0.2076569372070379, 0.10847021190579391, 0.21058856455584313, 0.06596161534811791, 0.12410555776608853, 0.144138344649591, 0.03517952818566289, 0.04983766492968909, 0.023453018790441926, 0.030782087162455028, 0.15796112585134223, 0.6107830199585232, 0.2316763179153019, 0.06415293547619093, 0.2886882096428592, 0.120286754017858, 0.5132234838095274, 0.9725853758677796, 0.9542859487412952, 0.09575626672942388, 0.11547079223254055, 0.3182487688360264, 0.1436344000941358, 0.02534724707543573, 0.08449082358478577, 0.0873071843709453, 0.11547079223254055, 0.016898164716957154, 0.056021634700792376, 0.33283441792823704, 0.03295390276517199, 0.2142003679736179, 0.06920319580686117, 0.2866989540569963, 0.0032953902765171985, 0.006590780553034397, 0.2305710464819151, 0.1763190355449939, 0.033907506835575744, 0.16953753417787873, 0.033907506835575744, 0.3526380710899878, 0.9597860417029516, 0.2849558943546602, 0.04317513550828185, 0.37562367892205206, 0.03885762195745366, 0.021587567754140925, 0.09930281166904825, 0.1381604336265019, 0.055989018892172254, 0.006998627361521532, 0.1749656840380383, 0.46890803322194263, 0.09098215569977991, 0.06298764625369378, 0.006998627361521532, 0.1329739198689091, 0.010728252621580569, 0.07509776835106398, 0.010728252621580569, 0.11801077883738625, 0.6758799151595758, 0.08582602097264455, 0.02092553499165111, 0.1674042799332089, 0.12555320994990668, 0.11509044245408112, 0.010462767495825556, 0.10462767495825556, 0.4603617698163245, 0.19054208807611425, 0.7893886506010447, 0.9623588706977823, 0.9503993638364082, 0.9347103450423283, 0.8859803573177195, 0.11556265530231125, 0.11504231821365479, 0.21655024604923254, 0.5007724439888502, 0.15564548934788588, 0.12449585445810402, 0.7469751267486241, 0.11204626901229361, 0.08561709090864808, 0.01712341818172962, 0.8904177454499401, 0.014690625570820307, 0.04407187671246092, 0.35257501369968736, 0.5729343972619919, 0.07536169041563144, 0.07536169041563144, 0.8038580311000686, 0.025120563471877144, 0.8455348145675039, 0.042276740728375194, 0.042276740728375194, 0.042276740728375194, 0.24127006089291447, 0.0040211676815485745, 0.21312188712207444, 0.4383072772887946, 0.0040211676815485745, 0.012063503044645723, 0.0040211676815485745, 0.024127006089291445, 0.06433868290477719, 0.0874423755438351, 0.07869813798945159, 0.00874423755438351, 0.13116356331575266, 0.4547003528279425, 0.13116356331575266, 0.10493085065260212, 0.015331393155557642, 0.10731975208890349, 0.015331393155557642, 0.29129646995559516, 0.06132557262223057, 0.5059359741334022, 0.1852873920775093, 0.8152645251410409, 0.15879347581595313, 0.22495742407260025, 0.013232789651329428, 0.5690099550071653, 0.013232789651329428, 0.04130098521673198, 0.11013596057795196, 0.09636896550570795, 0.07571847289734196, 0.4887283250646618, 0.02753399014448799, 0.07571847289734196, 0.08260197043346396, 0.9725358556169635, 0.02980929298856472, 0.9538973756340711, 0.9328884619759487, 0.935323770548428, 0.9345223217578282, 0.18345107602744956, 0.028776639376854832, 0.08273283820845764, 0.039567879143175395, 0.2877663937685483, 0.035970799221068536, 0.039567879143175395, 0.147480276806381, 0.05035911890949595, 0.09712115789688505, 0.9425525623269395, 0.969472971335336, 0.32661003100334274, 0.0658094838588825, 0.07555903702316137, 0.04143560094818527, 0.21936494619627497, 0.08774597847850998, 0.05118515411246416, 0.12430680284455581, 0.007312164873209165, 0.9368475032557411, 0.8874040107842502, 0.06066074905680571, 0.06066074905680571, 0.53078155424705, 0.015165187264201428, 0.31846893254823, 0.10547435920717581, 0.39755720008858575, 0.13792800819399914, 0.07302071022035249, 0.07302071022035249, 0.004056706123352916, 0.06896400409699957, 0.10953106533052873, 0.02839694286347041, 0.4116367335668487, 0.04738933050092389, 0.08734504053111462, 0.1719024733857043, 0.04646012794208225, 0.03438049467714086, 0.05668135608934034, 0.0371681023536658, 0.10685829426678917, 0.9679515474366085, 0.08070844924474067, 0.10761126565965425, 0.8070844924474068, 0.02162555527593927, 0.19462999748345342, 0.02162555527593927, 0.7785199899338137, 0.9685707399553196, 0.8879021288916332, 0.9719716877620846, 0.9717197461193361, 0.9258171139724939, 0.9274996648342818, 0.9137418607514457, 0.9388676075542642, 0.0453783841271826, 0.9075676825436519, 0.9343347976802027, 0.9196293669733794, 0.016411629471833885, 0.04923488841550165, 0.06564651788733554, 0.705700067288857, 0.03282325894366777, 0.04923488841550165, 0.06564651788733554, 0.20463184129924003, 0.2095430054904218, 0.18007602034333123, 0.044200477720635845, 0.08676390071087776, 0.11295677639718049, 0.16043136357860419, 0.9305523430083706, 0.1081866042788064, 0.2524354099838816, 0.0991710539222392, 0.5229019206808976, 0.0180311007131344, 0.9787931517370744, 0.010955738405988081, 0.07669016884191657, 0.06573443043592848, 0.28484919855569013, 0.03286721521796424, 0.06573443043592848, 0.47109675145748753, 0.9736676270475109, 0.9446747251922369, 0.9715098279072669, 0.9123407093468554, 0.311372513315357, 0.09081698305031245, 0.1686601113791517, 0.01946078208220981, 0.10379083777178566, 0.03243463680368302, 0.2659640217902008, 0.5820877785647723, 0.11474848681384402, 0.010431680619440364, 0.08971245332718714, 0.006259008371664218, 0.004172672247776146, 0.020863361238880728, 0.14395719254827705, 0.02712236961054495, 0.9285660271557863, 0.9884931047158763, 0.6104338645542212, 0.14725378311614987, 0.01740271982281771, 0.0709495500468722, 0.033466768890034054, 0.05756284249085858, 0.013386707556013623, 0.004016012266804087, 0.025434744356425884, 0.020080061334020436, 0.6781011916688865, 0.11377536772967894, 0.04095913238268442, 0.03640811767349726, 0.10012232360211747, 0.027306088255122946, 0.004551014709187158, 0.9577167217151484, 0.13152032337190217, 0.08402687326538194, 0.2959207275867799, 0.0767201886336096, 0.11325361179247131, 0.1169069541083575, 0.0767201886336096, 0.029226738527089374, 0.07306684631772344, 0.9649063287926298, 0.9736652264664656, 0.0943383316709918, 0.24527966234457868, 0.01886766633419836, 0.6415006553627443, 0.3267560144852563, 0.11020006763032175, 0.13326519806457512, 0.1550489323635922, 0.0012813961352362993, 0.014095357487599294, 0.09097912560177726, 0.09097912560177726, 0.029472111110434886, 0.04741165700374308, 0.1595405670811686, 0.7065367970737467, 0.022791509583024085, 0.011395754791512043, 0.09116603833209634, 0.25609104701883295, 0.004198213885554638, 0.008396427771109277, 0.0545767805122103, 0.02938749719888247, 0.21410890816328657, 0.27708211644660613, 0.06297320828331958, 0.0545767805122103, 0.03778392496999175, 0.06258678904679954, 0.12517357809359908, 0.7823348630849942, 0.07499644336659816, 0.8249608770325797, 0.03749822168329908, 0.8275069107183164, 0.11413888423700916, 0.05706944211850458, 0.9239438299806519, 0.05133021277670289, 0.0058281547522408324, 0.20981357108066997, 0.06993785702688998, 0.3496892851344499, 0.03496892851344499, 0.3263766661254866, 0.9742533559681249, 0.8860900731221643, 0.9889487103092016, 0.07324330451837731, 0.07324330451837731, 0.7812619148626914, 0.04882886967891821, 0.05508571792291443, 0.9364572046895453, 0.9135616624240237, 0.04350293630590589, 0.24172533028944207, 0.09669013211577683, 0.03625879954341631, 0.6163995922380773, 0.05845599334844262, 0.05845599334844262, 0.03507359600906557, 0.16367678137563932, 0.6430159268328688, 0.03507359600906557, 0.9045922262831001, 0.8895810735017121, 0.06713819422654431, 0.016784548556636077, 0.026162563987552685, 0.8633646115892386, 0.10465025595021074, 0.1299248799231931, 0.8228575728468897, 0.9482103221198682, 0.9550710115823471, 0.9754036698395752, 0.010158358174583984, 0.05587096996021191, 0.1879296262298037, 0.010158358174583984, 0.5841055950385791, 0.08634604448396387, 0.05587096996021191, 0.005079179087291992, 0.982977282951729, 0.9564816704818169, 0.8836142399949761, 0.09301202526262906, 0.9665362741901494, 0.5854260510472564, 0.06638852125278166, 0.08147682153750477, 0.006035320113889242, 0.021123620398612347, 0.0995827818791725, 0.03319426062639083, 0.021123620398612347, 0.06337086119583704, 0.021123620398612347, 0.5332211825312004, 0.09017711175160006, 0.05489041584880004, 0.019603719946000017, 0.04312818388120003, 0.01372260396220001, 0.11174120369220009, 0.005881115983800004, 0.1195826916706001, 0.005881115983800004, 0.022875622358001273, 0.011437811179000636, 0.8578358384250477, 0.09150248943200509, 0.011437811179000636, 0.9697898794789603, 0.8751469624978141, 0.036464456770742254, 0.10939337031222676, 0.9172643516970234, 0.8802911091778926, 0.07335759243149104, 0.12183529710728579, 0.016244706280971438, 0.008122353140485719, 0.11371294396680007, 0.7391341357842004, 0.9344664566037792, 0.938912547071159, 0.014806031628813828, 0.029612063257627656, 0.5552261860805185, 0.014806031628813828, 0.007403015814406914, 0.1554633321025452, 0.03701507907203457, 0.14065730047373137, 0.04441809488644148, 0.2443154071370815, 0.1288208510359157, 0.17324183415174868, 0.0755156712969161, 0.2531996037602481, 0.1243787527243324, 0.9440096701821192, 0.13565074507071384, 0.21003986333529884, 0.09189244020919324, 0.026254982916912355, 0.004375830486152059, 0.5250996583382471, 0.9580288934965033, 0.9275887776553934, 0.07135298289656872, 0.9381238186633422, 0.19606794847307948, 0.052647875052956525, 0.06172509488967317, 0.13071196564871965, 0.030862547444836585, 0.3413034658605458, 0.09440308630185308, 0.007261775869373314, 0.0018154439673433284, 0.08351042249779311, 0.9530421770065558, 0.9528691503196096, 0.9257355979404435, 0.9238853602977435, 0.12213538184336624, 0.23612840489717474, 0.09499418587817374, 0.09770830547469299, 0.04614003314082725, 0.08142358789557749, 0.07328122910601974, 0.12213538184336624, 0.12756362103640473, 0.9379852670891226, 0.14225316804684748, 0.03161181512152166, 0.5532067646266291, 0.26870042853293413, 0.9679224940118465, 0.9230282893276824, 0.04023321674235873, 0.010058304185589683, 0.03017491255676905, 0.7040812929912779, 0.22128269208297305, 0.1079942932338821, 0.008639543458710569, 0.025918630376131704, 0.25918630376131707, 0.10367452150452681, 0.05183726075226341, 0.319663107972291, 0.12095360842194795, 0.9605655444071507, 0.17452894604130745, 0.361305537418847, 0.08267160601956669, 0.030619113340580255, 0.119414542028263, 0.15003365536884325, 0.035211980341667296, 0.04286675867681236, 0.0015309556670290128, 0.13520483641122888, 0.12393776671029315, 0.4506827880374296, 0.07323595305608231, 0.15773897581310037, 0.05070181365421083, 0.47984796392242185, 0.004846949130529514, 0.0678572878274132, 0.08724508434953125, 0.09693898261059027, 0.2568883039180642, 0.07491656250377099, 0.7491656250377099, 0.14983312500754198, 0.9363697429602083, 0.9668488556508485, 0.029899572065760247, 0.8969871619728074, 0.059799144131520494, 0.9718292391604036, 0.9694276353496241, 0.03523887441354472, 0.021143324648126835, 0.5708697654994245, 0.07047774882708945, 0.03523887441354472, 0.08457329859250734, 0.0634299739443805, 0.11276439812334312, 0.007047774882708945, 0.08502275009378127, 0.8502275009378127, 0.21745589171934357, 0.01242605095539106, 0.018639076433086592, 0.5529592675149022, 0.09940840764312849, 0.05591722929925977, 0.037278152866173184, 0.0418288320216219, 0.6065180643135176, 0.04705743602432464, 0.09411487204864928, 0.015685812008108216, 0.04705743602432464, 0.08888626804594654, 0.05228604002702738, 0.4593551746959916, 0.08705521455932098, 0.007408954430580509, 0.101873123420482, 0.07038506709051484, 0.11854327088928815, 0.020374624684096402, 0.016670147468806146, 0.08149849873638561, 0.03519253354525742, 0.5126351078467503, 0.1496841529371648, 0.0437130712117384, 0.021194216345085285, 0.0741797572077985, 0.03708987860389925, 0.04636234825487406, 0.07285511868623067, 0.00794783112940698, 0.03444060156076358, 0.22266201187935594, 0.0968724337397198, 0.09398071929972815, 0.0809680043197658, 0.05205085991984944, 0.0014458572199958178, 0.2038658680194103, 0.19808243913942702, 0.047713288259861986, 0.5797931617010029, 0.07019508404241702, 0.060167214893500305, 0.10757168723383387, 0.01367436702125007, 0.06746021063816701, 0.0528742191488336, 0.020055738297833435, 0.020055738297833435, 0.007292995744666703, 0.6784852103669934, 0.013951535711009605, 0.05360326878440532, 0.11454945110092096, 0.04405748119266191, 0.05580614284403842, 0.008811496238532382, 0.0007342913532110318, 0.030105945481652303, 0.9325893456275067, 0.5982243002490907, 0.019694627168694342, 0.03692742594130189, 0.039389254337388685, 0.05662205310999623, 0.04185108273347548, 0.007385485188260378, 0.002461828396086793, 0.15509518895346794, 0.04185108273347548, 0.015988516808635736, 0.911345458092237, 0.04796555042590721, 0.12556841398037402, 0.012556841398037403, 0.16323893817448623, 0.35159155914504725, 0.10045473118429922, 0.07534104838822442, 0.012556841398037403, 0.016742455197383203, 0.012556841398037403, 0.12975402777971984, 0.9766859961566196, 0.9766772840737553, 0.9136294769025248, 0.9568423704418342, 0.9517737790295102, 0.9105713095558996, 0.06070475397039331, 0.4798035933683334, 0.03838428746946667, 0.0849937793966762, 0.11583829611321192, 0.09390441755923097, 0.03564255265021905, 0.008225204457742859, 0.06237446713788334, 0.04455319081277381, 0.036327986355030956, 0.0774910727096328, 0.8911473361607773, 0.2323291531870566, 0.06969874595611698, 0.26137029733543865, 0.12778103425288112, 0.0755069747857934, 0.01161645765935283, 0.026137029733543867, 0.17715097930513066, 0.01161645765935283, 0.008712343244514623, 0.04221586718683745, 0.21107933593418726, 0.05628782291578327, 0.6613819192604534, 0.20245930945835525, 0.11810126385070724, 0.08435804560764802, 0.07592224104688322, 0.008435804560764803, 0.15184448209376644, 0.3543037915521217, 0.09823228770606701, 0.7613002297220194, 0.12279035963258376, 0.20451569404143372, 0.7285871600226076, 0.012782230877589607, 0.012782230877589607, 0.03834669263276882, 0.9544982369145795, 0.7414287925703549, 0.21462412416510274, 0.019511284015009338, 0.9365964406548469, 0.13834657192120883, 0.8473727530174041, 0.942295154384266, 0.040255600623714985, 0.8252398127861572, 0.12076680187114495, 0.8896885064368834, 0.06695130242281122, 0.9038425827079515, 0.023864693224905635, 0.7954897741635212, 0.18296264805760987, 0.27432786775070533, 0.36095772072461224, 0.09384900738839919, 0.06858196693767633, 0.018047886036230615, 0.05414365810869184, 0.021657463243476737, 0.05414365810869184, 0.05414365810869184, 0.11465748865418307, 0.1600427445797972, 0.10749139561329663, 0.1337670700965469, 0.035830465204432206, 0.0740496280891599, 0.1600427445797972, 0.05971744200738701, 0.1480992561783198, 0.004777395360590961, 0.14077307869744377, 0.15199412120231248, 0.11731089891453647, 0.24482274556077177, 0.03774350660728565, 0.09996928777064847, 0.08568796094627013, 0.04590426479264471, 0.04692435956581459, 0.028562653648756705, 0.003839005305578512, 0.11517015916735536, 0.30712042444628096, 0.09981413794504132, 0.2265013130291322, 0.03455104775020661, 0.06526309019483471, 0.011517015916735537, 0.1343651856952479, 0.9135028154136876, 0.9257050060388005, 0.8879226586214807, 0.026848106323439088, 0.026848106323439088, 0.08054431897031726, 0.8591394023500508, 0.9368901269822822, 0.06245934179881882, 0.5254366313803567, 0.03283978946127229, 0.09030942101849881, 0.04104973682659037, 0.016419894730636146, 0.23808847359422414, 0.049259684191908445, 0.34425830231841803, 0.37726937240374575, 0.07545387448074915, 0.037726937240374576, 0.08016974163579597, 0.05659040586056187, 0.009431734310093644, 0.014147601465140467, 0.9032061859008307, 0.977849356600644, 0.9445277497574258, 0.9284564389171729, 0.04421221137700823, 0.9549068969737238, 0.9320755399905762, 0.91705012224449, 0.12395620024392266, 0.0371868600731768, 0.016527493365856353, 0.07024184680488951, 0.2148574137561326, 0.4007917141220166, 0.13221994692685082, 0.9230169237955703, 0.9302406524838697, 0.01998124643895205, 0.7792686111191299, 0.13986872507266435, 0.0399624928779041, 0.9714395395493399, 0.3418787365945097, 0.2063061341518593, 0.06231287317239832, 0.08336451951442478, 0.024419909756750693, 0.09431137561227854, 0.0707335317092089, 0.03705089756196657, 0.028630239025155983, 0.049681885367182446, 0.14412133225535093, 0.8286976604682679, 0.9306290154395398, 0.9310367570917572, 0.32111793275314304, 0.0701292037047094, 0.061516845355008246, 0.09350560493961253, 0.17347750390112324, 0.04306179174850577, 0.10949998473191468, 0.0701292037047094, 0.03198875958460429, 0.025837075049103462, 0.9423287596527533, 0.28597711279102633, 0.017873569549439146, 0.6791956428786875, 0.017873569549439146, 0.027268484673444806, 0.20823206477903308, 0.11651079815017326, 0.13386347021509268, 0.08180545402033443, 0.2528532215173973, 0.10411603238951654, 0.07188964141180904, 0.002478953152131346, 0.32151100054990467, 0.06481051789741162, 0.3380313286414018, 0.0012707944685766983, 0.12962103579482323, 0.05210257321164463, 0.03431145065157085, 0.030499067245840762, 0.026686683840110664, 0.22488251397237868, 0.1722504362341624, 0.038277874718702753, 0.0430626090585406, 0.12440309283578395, 0.08134048377724334, 0.03349314037886491, 0.2822993260504328, 0.18305645896352632, 0.12308968792375047, 0.29825578227677996, 0.17516609435302952, 0.036295677208285394, 0.10099666701435936, 0.029983385519887933, 0.007890364610496824, 0.001578072922099365, 0.04418604181878222, 0.8614571347658176, 0.0403808031921477, 0.0134602677307159, 0.0673013386535795, 0.865237111759615, 0.06707264432245078, 0.0067072644322450775, 0.05365811545796062, 0.9278877154745798, 0.027096848507442792, 0.04064527276116419, 0.027096848507442792, 0.18967793955209955, 0.7045180611935126, 0.22563546116185823, 0.010374044191349803, 0.24897706059239527, 0.12189501924836019, 0.051870220956749015, 0.09077288667431078, 0.06483777619593627, 0.02334159943053706, 0.1426431076310598, 0.020748088382699606, 0.9452445352067166, 0.2649174088398124, 0.13319052046642502, 0.008781792558225825, 0.13319052046642502, 0.054154387442392586, 0.09952698232655935, 0.03951806651201621, 0.17709948325755415, 0.00585452837215055, 0.08489066139618298, 0.9492528796728207, 0.01336887059915814, 0.11840999673540067, 0.04010661179747442, 0.5958696609910485, 0.03819677314045183, 0.043926289111519606, 0.04583612776854219, 0.019098386570225914, 0.04010661179747442, 0.04583612776854219, 0.16487688980714924, 0.6869870408631218, 0.12365766735536192, 0.013739740817262435, 0.3941763577819853, 0.058056982929129614, 0.054237444578528984, 0.13368384227102215, 0.09548845876501581, 0.06493215196021075, 0.12146131954910011, 0.018333784082883036, 0.029028491464564807, 0.03132021447492519, 0.9623232284610674, 0.8513442268558626, 0.04381918814699293, 0.00625988402099899, 0.03129942010499495, 0.00625988402099899, 0.00625988402099899, 0.05007907216799192, 0.9855883883850525, 0.9485154931266145, 0.0499218680592955, 0.8866255272050183, 0.013853523862578411, 0.013853523862578411, 0.08312114317547047, 0.17470501179911685, 0.04159643138074211, 0.07011969861325099, 0.3470330846621913, 0.05110418712491173, 0.13429704988639593, 0.08081592382544181, 0.0023769389360424062, 0.08794674063356903, 0.010696225212190828, 0.9491946502647653, 0.16071738387053763, 0.8265465456199078, 0.3916005839257737, 0.4935557655395846, 0.020854468966461318, 0.048660427588409744, 0.002317163218495702, 0.002317163218495702, 0.002317163218495702, 0.037074611495931234, 0.9582707749700454, 0.008012095475171769, 0.11216933665240476, 0.4647015375599626, 0.22433867330480953, 0.10415724117723299, 0.08012095475171768, 0.9925527352973796, 0.9898193831631565], \"Term\": [\"2019\", \"2019\", \"2019\", \"23\", \"270\", \"5g\", \"able\", \"able\", \"able\", \"able\", \"able\", \"able\", \"able\", \"able\", \"able\", \"able\", \"accept\", \"accept\", \"achievement\", \"actively\", \"add\", \"add\", \"admitted\", \"adventure\", \"advice\", \"advice\", \"advice\", \"advice\", \"advice\", \"advice\", \"afghanistan\", \"afternoon\", \"agreement\", \"agreement\", \"alarm\", \"allowed\", \"allowed\", \"allowed\", \"allows\", \"also\", \"also\", \"also\", \"also\", \"also\", \"also\", \"also\", \"also\", \"also\", \"also\", \"always\", \"always\", \"always\", \"always\", \"always\", \"always\", \"always\", \"always\", \"always\", \"always\", \"ambition\", \"ambition\", \"ambition\", \"ambition\", \"andrew\", \"andrew\", \"andrew\", \"andrew\", \"angel\", \"angeles\", \"animal\", \"animal\", \"animal\", \"animal\", \"anna\", \"anticipate\", \"anxious\", \"anxious\", \"anything\", \"anything\", \"anything\", \"anything\", \"anything\", \"anything\", \"anything\", \"anything\", \"anything\", \"apology\", \"applied\", \"archive\", \"ashamed\", \"aside\", \"aspiration\", \"asset\", \"assume\", \"attitude\", \"attitude\", \"attorney\", \"attracted\", \"australia\", \"australia\", \"australia\", \"australia\", \"australia\", \"australia\", \"australia\", \"australia\", \"australia\", \"australia\", \"award\", \"award\", \"away\", \"away\", \"away\", \"away\", \"away\", \"away\", \"away\", \"back\", \"back\", \"back\", \"back\", \"back\", \"back\", \"back\", \"back\", \"back\", \"back\", \"backing\", \"backing\", \"bad\", \"bad\", \"bad\", \"bad\", \"bad\", \"bad\", \"bedroom\", \"before\", \"before\", \"before\", \"begging\", \"behind\", \"behind\", \"behind\", \"behind\", \"ben\", \"best\", \"best\", \"best\", \"best\", \"best\", \"best\", \"best\", \"best\", \"best\", \"better\", \"better\", \"better\", \"better\", \"better\", \"better\", \"better\", \"better\", \"better\", \"better\", \"beyond\", \"beyond\", \"beyond\", \"beyond\", \"beyond\", \"big\", \"big\", \"big\", \"big\", \"big\", \"big\", \"big\", \"big\", \"big\", \"big\", \"bit\", \"bit\", \"bit\", \"bit\", \"bit\", \"bit\", \"bit\", \"bit\", \"bit\", \"bit\", \"black\", \"black\", \"black\", \"blame\", \"blame\", \"bloke\", \"blood\", \"blood\", \"blood\", \"blood\", \"boob\", \"border\", \"border\", \"border\", \"bottle\", \"bottle\", \"boy\", \"boy\", \"boy\", \"boy\", \"boy\", \"boy\", \"boy\", \"brag\", \"brain\", \"brain\", \"brain\", \"breathing\", \"brexit\", \"brexit\", \"burning\", \"burning\", \"bushfires\", \"business\", \"business\", \"business\", \"business\", \"business\", \"business\", \"business\", \"business\", \"business\", \"business\", \"butterfly\", \"campaign\", \"campaign\", \"campaign\", \"campaign\", \"cannot\", \"cannot\", \"cannot\", \"cannot\", \"cannot\", \"cannot\", \"cannot\", \"cant\", \"cant\", \"cant\", \"cant\", \"cant\", \"cant\", \"cant\", \"cant\", \"cant\", \"cant\", \"capable\", \"cape\", \"captain\", \"care\", \"care\", \"care\", \"care\", \"care\", \"care\", \"care\", \"care\", \"care\", \"care\", \"case\", \"case\", \"case\", \"case\", \"case\", \"case\", \"case\", \"case\", \"case\", \"case\", \"cat\", \"cent\", \"cent\", \"ceremony\", \"chance\", \"chance\", \"chance\", \"chance\", \"chance\", \"change\", \"change\", \"change\", \"change\", \"change\", \"change\", \"change\", \"change\", \"check\", \"check\", \"check\", \"chest\", \"child\", \"child\", \"child\", \"child\", \"child\", \"child\", \"child\", \"child\", \"child\", \"child\", \"childcare\", \"childhood\", \"childhood\", \"chip\", \"choose\", \"choose\", \"chose\", \"classic\", \"clear\", \"clear\", \"clear\", \"clear\", \"clear\", \"clear\", \"clear\", \"clear\", \"clear\", \"climate\", \"climate\", \"climate\", \"clock\", \"clothes\", \"clothes\", \"clothes\", \"club\", \"club\", \"club\", \"club\", \"club\", \"club\", \"club\", \"club\", \"come\", \"come\", \"come\", \"come\", \"come\", \"come\", \"come\", \"come\", \"come\", \"come\", \"comedy\", \"coming\", \"coming\", \"coming\", \"coming\", \"coming\", \"coming\", \"coming\", \"coming\", \"coming\", \"commission\", \"commission\", \"communicated\", \"community\", \"community\", \"community\", \"community\", \"community\", \"community\", \"community\", \"community\", \"community\", \"condolence\", \"confusion\", \"consensus\", \"consistent\", \"contact\", \"contact\", \"contact\", \"contact\", \"contained\", \"contribute\", \"coordinated\", \"coronavirus\", \"coronavirus\", \"coronavirus\", \"coronavirus\", \"coronavirus\", \"coronavirus\", \"coronavirus\", \"coronavirus\", \"coronavirus\", \"could\", \"could\", \"could\", \"could\", \"could\", \"could\", \"could\", \"could\", \"could\", \"could\", \"council\", \"council\", \"council\", \"country\", \"country\", \"country\", \"country\", \"country\", \"country\", \"country\", \"country\", \"country\", \"country\", \"course\", \"course\", \"course\", \"course\", \"course\", \"course\", \"course\", \"course\", \"course\", \"course\", \"cricket\", \"cricket\", \"cross\", \"cup\", \"cup\", \"customer\", \"customer\", \"cutting\", \"damn\", \"dancer\", \"daniel\", \"dare\", \"date\", \"date\", \"date\", \"date\", \"date\", \"date\", \"dated\", \"daughter\", \"daughter\", \"daughter\", \"daughter\", \"daughter\", \"day\", \"day\", \"day\", \"day\", \"day\", \"day\", \"day\", \"day\", \"day\", \"day\", \"dead\", \"dead\", \"death\", \"death\", \"death\", \"death\", \"death\", \"death\", \"death\", \"death\", \"decade\", \"decade\", \"decade\", \"decade\", \"decisive\", \"delivered\", \"democrat\", \"democrat\", \"democrat\", \"democrat\", \"democratic\", \"democratic\", \"depending\", \"deportation\", \"desperate\", \"destroyed\", \"destroyed\", \"determine\", \"different\", \"different\", \"different\", \"different\", \"different\", \"different\", \"different\", \"different\", \"disappointed\", \"disease\", \"disease\", \"disease\", \"distancing\", \"distancing\", \"distancing\", \"ditched\", \"diversity\", \"divorce\", \"documentary\", \"don\", \"donald\", \"donated\", \"done\", \"done\", \"done\", \"done\", \"done\", \"done\", \"done\", \"done\", \"done\", \"dont\", \"dont\", \"drought\", \"duchess\", \"duration\", \"earlier\", \"earlier\", \"easy\", \"easy\", \"easy\", \"eat\", \"eat\", \"eat\", \"eat\", \"economic\", \"economic\", \"economic\", \"economy\", \"economy\", \"economy\", \"economy\", \"efficiency\", \"election\", \"election\", \"election\", \"election\", \"electricity\", \"embarrassed\", \"endless\", \"enormous\", \"enormous\", \"epidemic\", \"epidemic\", \"epidemic\", \"epidemic\", \"epidemic\", \"epstein\", \"equality\", \"especially\", \"especially\", \"especially\", \"especially\", \"essential\", \"essential\", \"established\", \"even\", \"even\", \"even\", \"even\", \"even\", \"even\", \"even\", \"even\", \"even\", \"even\", \"event\", \"event\", \"event\", \"event\", \"event\", \"every\", \"every\", \"every\", \"every\", \"every\", \"every\", \"every\", \"every\", \"every\", \"every\", \"everyone\", \"everyone\", \"everyone\", \"everyone\", \"everyone\", \"everyone\", \"everyone\", \"everyone\", \"everyone\", \"everyone\", \"everyones\", \"everythings\", \"everywhere\", \"everywhere\", \"evolution\", \"evolve\", \"exceptional\", \"exciting\", \"exciting\", \"exciting\", \"exciting\", \"excluding\", \"excuse\", \"exhausted\", \"explanation\", \"extraordinary\", \"extraordinary\", \"extraordinary\", \"f\", \"f\", \"f\", \"facing\", \"facing\", \"fail\", \"failed\", \"fake\", \"fake\", \"false\", \"false\", \"family\", \"family\", \"family\", \"family\", \"family\", \"family\", \"family\", \"family\", \"family\", \"family\", \"fed\", \"fee\", \"feedback\", \"feel\", \"feel\", \"feel\", \"feel\", \"feel\", \"feel\", \"feel\", \"feel\", \"feel\", \"feel\", \"fight\", \"fight\", \"fight\", \"fight\", \"fight\", \"filled\", \"financial\", \"financial\", \"financial\", \"finding\", \"finding\", \"finding\", \"finding\", \"finding\", \"first\", \"first\", \"first\", \"first\", \"first\", \"first\", \"first\", \"first\", \"first\", \"first\", \"fist\", \"fitness\", \"fiver\", \"fiver\", \"fiver\", \"fiver\", \"flat\", \"flat\", \"flatten\", \"focused\", \"focused\", \"focused\", \"folk\", \"folk\", \"food\", \"food\", \"food\", \"food\", \"food\", \"food\", \"food\", \"foot\", \"foot\", \"foot\", \"foreign\", \"foreign\", \"foreign\", \"forest\", \"freedom\", \"freedom\", \"frequently\", \"friend\", \"friend\", \"friend\", \"friend\", \"friend\", \"friend\", \"friend\", \"friend\", \"friend\", \"friendship\", \"friendship\", \"frightened\", \"frozen\", \"fury\", \"gender\", \"gender\", \"generation\", \"generation\", \"generation\", \"get\", \"get\", \"get\", \"get\", \"get\", \"get\", \"get\", \"get\", \"get\", \"get\", \"getting\", \"getting\", \"getting\", \"getting\", \"getting\", \"getting\", \"getting\", \"getting\", \"getting\", \"getting\", \"gift\", \"gift\", \"give\", \"give\", \"give\", \"give\", \"give\", \"give\", \"give\", \"give\", \"give\", \"glamorous\", \"global\", \"global\", \"global\", \"global\", \"global\", \"glove\", \"go\", \"go\", \"go\", \"go\", \"go\", \"go\", \"go\", \"go\", \"go\", \"god\", \"god\", \"god\", \"god\", \"god\", \"going\", \"going\", \"going\", \"going\", \"going\", \"going\", \"going\", \"going\", \"going\", \"going\", \"gon\", \"good\", \"good\", \"good\", \"good\", \"good\", \"good\", \"good\", \"good\", \"good\", \"good\", \"got\", \"got\", \"got\", \"got\", \"got\", \"got\", \"got\", \"got\", \"got\", \"got\", \"gotten\", \"government\", \"government\", \"government\", \"government\", \"government\", \"government\", \"government\", \"government\", \"government\", \"government\", \"governor\", \"great\", \"great\", \"great\", \"great\", \"great\", \"great\", \"great\", \"great\", \"great\", \"great\", \"grief\", \"grip\", \"grown\", \"growth\", \"growth\", \"growth\", \"guarantee\", \"guy\", \"guy\", \"guy\", \"guy\", \"guy\", \"guy\", \"guy\", \"guy\", \"guy\", \"guy\", \"hack\", \"hampshire\", \"hang\", \"happy\", \"happy\", \"happy\", \"happy\", \"happy\", \"happy\", \"happy\", \"happy\", \"happy\", \"hardly\", \"hardship\", \"harry\", \"harry\", \"he\", \"he\", \"he\", \"he\", \"he\", \"he\", \"he\", \"he\", \"he\", \"he\", \"healing\", \"health\", \"health\", \"health\", \"health\", \"health\", \"health\", \"health\", \"health\", \"health\", \"health\", \"healthcare\", \"healthcare\", \"healthcare\", \"healthy\", \"healthy\", \"healthy\", \"healthy\", \"healthy\", \"hearing\", \"hearing\", \"heel\", \"help\", \"help\", \"help\", \"help\", \"help\", \"help\", \"help\", \"help\", \"help\", \"help\", \"heroic\", \"hidden\", \"him\", \"him\", \"him\", \"him\", \"him\", \"him\", \"him\", \"him\", \"hold\", \"hold\", \"hold\", \"hold\", \"hold\", \"hole\", \"hole\", \"home\", \"home\", \"home\", \"home\", \"home\", \"home\", \"home\", \"home\", \"home\", \"honour\", \"horror\", \"hug\", \"huge\", \"huge\", \"huge\", \"huge\", \"huge\", \"huge\", \"huge\", \"hungry\", \"hurtful\", \"hygiene\", \"i\", \"i\", \"i\", \"i\", \"i\", \"id\", \"id\", \"id\", \"id\", \"id\", \"id\", \"id\", \"id\", \"id\", \"idea\", \"idea\", \"idea\", \"idea\", \"idea\", \"idea\", \"idea\", \"idea\", \"ideal\", \"idiot\", \"if\", \"if\", \"illegally\", \"im\", \"im\", \"im\", \"im\", \"im\", \"im\", \"im\", \"im\", \"im\", \"im\", \"implication\", \"importance\", \"importance\", \"impression\", \"improved\", \"inch\", \"incident\", \"incident\", \"infected\", \"infected\", \"infected\", \"ing\", \"inquiry\", \"inside\", \"inside\", \"inside\", \"inside\", \"instinct\", \"intelligence\", \"intend\", \"intend\", \"intensive\", \"intimate\", \"invisible\", \"iraq\", \"isnt\", \"it\", \"it\", \"it\", \"it\", \"it\", \"it\", \"it\", \"it\", \"it\", \"it\", \"ive\", \"ive\", \"ive\", \"ive\", \"ive\", \"ive\", \"ive\", \"ive\", \"jeremy\", \"joan\", \"joe\", \"joe\", \"joe\", \"joe\", \"jonathan\", \"junior\", \"justice\", \"justice\", \"justice\", \"justice\", \"justice\", \"katie\", \"keanu\", \"keep\", \"keep\", \"keep\", \"keep\", \"keep\", \"keep\", \"keep\", \"kicked\", \"kiss\", \"know\", \"know\", \"know\", \"know\", \"know\", \"know\", \"know\", \"know\", \"know\", \"know\", \"landscape\", \"landscape\", \"largest\", \"largest\", \"last\", \"last\", \"last\", \"last\", \"last\", \"last\", \"last\", \"league\", \"league\", \"league\", \"learning\", \"learning\", \"learning\", \"learning\", \"leeds\", \"left\", \"left\", \"left\", \"lens\", \"lewis\", \"lg\", \"library\", \"life\", \"life\", \"life\", \"life\", \"life\", \"life\", \"life\", \"life\", \"life\", \"life\", \"like\", \"like\", \"like\", \"like\", \"like\", \"like\", \"like\", \"like\", \"like\", \"like\", \"liked\", \"liked\", \"liked\", \"limit\", \"limit\", \"little\", \"little\", \"little\", \"little\", \"little\", \"little\", \"little\", \"little\", \"live\", \"live\", \"live\", \"live\", \"live\", \"live\", \"live\", \"live\", \"live\", \"live\", \"longest\", \"look\", \"look\", \"look\", \"look\", \"look\", \"look\", \"look\", \"look\", \"look\", \"look\", \"looking\", \"looking\", \"looking\", \"looking\", \"looking\", \"looking\", \"looking\", \"los\", \"lot\", \"lot\", \"lot\", \"lot\", \"lot\", \"lot\", \"lot\", \"lot\", \"lot\", \"lot\", \"loud\", \"love\", \"love\", \"love\", \"love\", \"love\", \"love\", \"love\", \"love\", \"love\", \"made\", \"made\", \"made\", \"made\", \"made\", \"made\", \"made\", \"made\", \"made\", \"made\", \"madrid\", \"maintain\", \"maintain\", \"make\", \"make\", \"make\", \"make\", \"make\", \"make\", \"make\", \"make\", \"make\", \"make\", \"making\", \"making\", \"making\", \"making\", \"making\", \"making\", \"making\", \"making\", \"making\", \"male\", \"managed\", \"managed\", \"managed\", \"manchester\", \"manchester\", \"manifesto\", \"manner\", \"many\", \"many\", \"many\", \"many\", \"many\", \"many\", \"many\", \"many\", \"many\", \"markle\", \"mask\", \"mask\", \"mask\", \"mask\", \"mask\", \"mass\", \"mass\", \"mate\", \"mate\", \"mate\", \"mate\", \"maybe\", \"maybe\", \"maybe\", \"maybe\", \"maybe\", \"maybe\", \"me\", \"me\", \"me\", \"me\", \"me\", \"me\", \"me\", \"me\", \"me\", \"me\", \"meal\", \"meal\", \"mechanism\", \"meghan\", \"meghan\", \"meghan\", \"meghan\", \"membership\", \"men\", \"men\", \"men\", \"men\", \"men\", \"miami\", \"might\", \"might\", \"might\", \"might\", \"might\", \"might\", \"might\", \"might\", \"might\", \"might\", \"mild\", \"mile\", \"mile\", \"mile\", \"mine\", \"mine\", \"mine\", \"mine\", \"minister\", \"minister\", \"minister\", \"minister\", \"minister\", \"mix\", \"money\", \"money\", \"money\", \"money\", \"money\", \"money\", \"money\", \"money\", \"money\", \"month\", \"month\", \"month\", \"month\", \"month\", \"month\", \"month\", \"month\", \"month\", \"moon\", \"moon\", \"mortality\", \"mortgage\", \"mother\", \"mother\", \"mother\", \"mother\", \"mother\", \"much\", \"much\", \"much\", \"much\", \"much\", \"much\", \"much\", \"much\", \"much\", \"much\", \"muscle\", \"must\", \"must\", \"must\", \"must\", \"must\", \"must\", \"must\", \"must\", \"must\", \"my\", \"na\", \"na\", \"nah\", \"naked\", \"nasty\", \"nasty\", \"naughty\", \"necessary\", \"necessary\", \"necessary\", \"necessary\", \"necessary\", \"necessary\", \"need\", \"need\", \"need\", \"need\", \"need\", \"need\", \"need\", \"need\", \"need\", \"need\", \"negative\", \"negative\", \"negative\", \"negative\", \"never\", \"never\", \"never\", \"never\", \"never\", \"never\", \"never\", \"new\", \"new\", \"new\", \"new\", \"new\", \"new\", \"new\", \"new\", \"new\", \"new\", \"news\", \"news\", \"news\", \"news\", \"news\", \"nh\", \"nh\", \"nh\", \"nh\", \"nh\", \"nh\", \"nh\", \"nick\", \"no\", \"no\", \"no\", \"nobody\", \"nobody\", \"nobody\", \"nobody\", \"nobody\", \"nonsense\", \"nothing\", \"nothing\", \"nothing\", \"nothing\", \"nothing\", \"nothing\", \"nothing\", \"nothing\", \"nothing\", \"nothing\", \"now\", \"now\", \"now\", \"now\", \"now\", \"now\", \"now\", \"now\", \"now\", \"nsw\", \"number\", \"number\", \"number\", \"number\", \"number\", \"number\", \"number\", \"number\", \"number\", \"oasis\", \"objective\", \"obviously\", \"obviously\", \"obviously\", \"obviously\", \"obviously\", \"obviously\", \"obviously\", \"officer\", \"officer\", \"officer\", \"officer\", \"officer\", \"official\", \"official\", \"official\", \"oh\", \"oh\", \"oh\", \"oh\", \"ok\", \"ok\", \"ok\", \"ok\", \"olympic\", \"olympics\", \"one\", \"one\", \"one\", \"one\", \"one\", \"one\", \"one\", \"one\", \"one\", \"one\", \"open\", \"open\", \"open\", \"open\", \"open\", \"open\", \"open\", \"opponent\", \"orbit\", \"organization\", \"outbreak\", \"outbreak\", \"outbreak\", \"pace\", \"painful\", \"pandemic\", \"pandemic\", \"pandemic\", \"pandemic\", \"pandemic\", \"parkinson\", \"part\", \"part\", \"part\", \"part\", \"part\", \"part\", \"part\", \"part\", \"part\", \"patient\", \"patient\", \"patient\", \"patient\", \"patient\", \"patient\", \"patient\", \"patient\", \"paul\", \"paul\", \"pay\", \"pay\", \"pay\", \"pay\", \"pay\", \"pay\", \"pay\", \"paying\", \"paying\", \"payment\", \"payment\", \"payment\", \"peace\", \"peace\", \"peace\", \"peace\", \"peace\", \"people\", \"people\", \"people\", \"people\", \"people\", \"people\", \"people\", \"people\", \"people\", \"people\", \"per\", \"per\", \"per\", \"period\", \"period\", \"period\", \"period\", \"pet\", \"pint\", \"place\", \"place\", \"place\", \"place\", \"place\", \"place\", \"place\", \"place\", \"place\", \"play\", \"play\", \"play\", \"play\", \"play\", \"play\", \"play\", \"play\", \"please\", \"please\", \"please\", \"please\", \"please\", \"please\", \"pogba\", \"point\", \"point\", \"point\", \"point\", \"point\", \"point\", \"point\", \"police\", \"police\", \"police\", \"police\", \"police\", \"police\", \"police\", \"police\", \"policy\", \"policy\", \"policy\", \"policy\", \"policy\", \"policy\", \"political\", \"political\", \"political\", \"political\", \"political\", \"political\", \"political\", \"politician\", \"politician\", \"pool\", \"port\", \"posting\", \"premier\", \"premier\", \"president\", \"president\", \"president\", \"president\", \"prime\", \"prime\", \"prime\", \"prince\", \"prince\", \"prince\", \"priority\", \"priority\", \"priority\", \"priority\", \"private\", \"private\", \"private\", \"private\", \"prize\", \"prize\", \"prize\", \"prize\", \"problem\", \"problem\", \"problem\", \"problem\", \"problem\", \"problem\", \"problem\", \"problem\", \"problem\", \"process\", \"process\", \"process\", \"process\", \"process\", \"process\", \"process\", \"product\", \"product\", \"product\", \"product\", \"product\", \"product\", \"program\", \"program\", \"project\", \"project\", \"project\", \"project\", \"project\", \"protect\", \"protect\", \"protect\", \"protect\", \"protect\", \"protect\", \"protect\", \"protect\", \"protected\", \"protection\", \"protection\", \"prove\", \"provision\", \"psychological\", \"public\", \"public\", \"public\", \"public\", \"public\", \"public\", \"public\", \"public\", \"public\", \"public\", \"punch\", \"pundit\", \"put\", \"put\", \"put\", \"put\", \"put\", \"put\", \"put\", \"put\", \"put\", \"racial\", \"rage\", \"rate\", \"rate\", \"rate\", \"rate\", \"rate\", \"real\", \"real\", \"real\", \"real\", \"real\", \"real\", \"real\", \"real\", \"real\", \"really\", \"really\", \"really\", \"really\", \"really\", \"really\", \"really\", \"really\", \"really\", \"rebuild\", \"received\", \"received\", \"received\", \"recent\", \"recent\", \"recent\", \"recent\", \"recipe\", \"recognize\", \"registered\", \"relate\", \"relaxed\", \"relief\", \"remembering\", \"reporting\", \"reserve\", \"reserve\", \"resting\", \"restore\", \"return\", \"return\", \"return\", \"return\", \"return\", \"return\", \"return\", \"right\", \"right\", \"right\", \"right\", \"right\", \"right\", \"right\", \"river\", \"role\", \"role\", \"role\", \"role\", \"role\", \"romantic\", \"royal\", \"royal\", \"royal\", \"royal\", \"royal\", \"royal\", \"royal\", \"rubbish\", \"rung\", \"runner\", \"ruthless\", \"safe\", \"safe\", \"safe\", \"safe\", \"safe\", \"safe\", \"safe\", \"said\", \"said\", \"said\", \"said\", \"said\", \"said\", \"said\", \"said\", \"said\", \"sander\", \"save\", \"say\", \"say\", \"say\", \"say\", \"say\", \"say\", \"say\", \"say\", \"say\", \"say\", \"saying\", \"saying\", \"saying\", \"saying\", \"saying\", \"saying\", \"saying\", \"schedule\", \"school\", \"school\", \"school\", \"school\", \"school\", \"school\", \"school\", \"school\", \"school\", \"scott\", \"screening\", \"sector\", \"sector\", \"sector\", \"sector\", \"see\", \"see\", \"see\", \"see\", \"see\", \"see\", \"see\", \"see\", \"see\", \"see\", \"seeing\", \"seeing\", \"seeing\", \"seeing\", \"seeing\", \"seen\", \"seen\", \"seen\", \"seen\", \"seen\", \"seen\", \"seen\", \"seen\", \"seen\", \"seen\", \"sensible\", \"sensible\", \"sensible\", \"sentence\", \"sentence\", \"sentence\", \"serve\", \"serve\", \"serve\", \"served\", \"served\", \"service\", \"service\", \"service\", \"service\", \"service\", \"service\", \"sexy\", \"shareholder\", \"sharing\", \"shut\", \"shut\", \"shut\", \"shut\", \"shy\", \"shy\", \"sic\", \"sic\", \"sick\", \"sick\", \"sick\", \"sick\", \"simply\", \"simply\", \"simply\", \"simply\", \"simply\", \"simply\", \"skating\", \"sleep\", \"sleep\", \"sleep\", \"slow\", \"slow\", \"slow\", \"smell\", \"smell\", \"smoking\", \"snow\", \"sober\", \"social\", \"social\", \"social\", \"social\", \"social\", \"social\", \"social\", \"social\", \"socialism\", \"soil\", \"solution\", \"solution\", \"some\", \"someone\", \"someone\", \"someone\", \"someone\", \"someone\", \"someone\", \"someone\", \"someone\", \"someone\", \"someone\", \"something\", \"something\", \"something\", \"something\", \"something\", \"something\", \"something\", \"something\", \"something\", \"something\", \"song\", \"song\", \"song\", \"song\", \"song\", \"sooner\", \"speech\", \"speech\", \"speech\", \"spin\", \"split\", \"split\", \"spread\", \"spread\", \"spread\", \"spread\", \"spread\", \"square\", \"squirrel\", \"staff\", \"staff\", \"staff\", \"staff\", \"staff\", \"staff\", \"staff\", \"staff\", \"staff\", \"state\", \"state\", \"state\", \"state\", \"state\", \"state\", \"statutory\", \"stay\", \"stay\", \"stay\", \"stay\", \"stay\", \"stay\", \"steph\", \"stepped\", \"stepped\", \"stepping\", \"still\", \"still\", \"still\", \"still\", \"still\", \"still\", \"still\", \"still\", \"still\", \"still\", \"stockpile\", \"strict\", \"substantially\", \"suck\", \"support\", \"support\", \"support\", \"support\", \"support\", \"support\", \"support\", \"support\", \"support\", \"suppose\", \"supposed\", \"supposed\", \"supposed\", \"supposed\", \"survivor\", \"switch\", \"symptom\", \"symptom\", \"symptom\", \"symptom\", \"symptom\", \"system\", \"system\", \"system\", \"system\", \"system\", \"system\", \"system\", \"system\", \"t\", \"take\", \"take\", \"take\", \"take\", \"take\", \"take\", \"take\", \"take\", \"take\", \"taking\", \"taking\", \"taking\", \"taking\", \"taking\", \"taking\", \"talk\", \"talk\", \"talk\", \"talk\", \"talk\", \"talk\", \"target\", \"target\", \"target\", \"task\", \"tech\", \"technology\", \"technology\", \"technology\", \"teen\", \"telly\", \"term\", \"term\", \"term\", \"term\", \"term\", \"term\", \"term\", \"term\", \"term\", \"territory\", \"territory\", \"test\", \"test\", \"test\", \"test\", \"test\", \"test\", \"test\", \"thank\", \"thank\", \"thank\", \"thank\", \"thank\", \"thank\", \"thank\", \"thank\", \"that\", \"that\", \"that\", \"that\", \"that\", \"that\", \"that\", \"that\", \"that\", \"that\", \"thats\", \"thats\", \"thats\", \"thats\", \"thats\", \"thats\", \"thats\", \"thats\", \"thats\", \"thats\", \"there\", \"there\", \"there\", \"there\", \"there\", \"there\", \"there\", \"there\", \"there\", \"thing\", \"thing\", \"thing\", \"thing\", \"thing\", \"thing\", \"thing\", \"thing\", \"thing\", \"thing\", \"think\", \"think\", \"think\", \"think\", \"think\", \"think\", \"think\", \"think\", \"think\", \"those\", \"thought\", \"thought\", \"thought\", \"thought\", \"thought\", \"thought\", \"thought\", \"thought\", \"thought\", \"thought\", \"thousand\", \"thousand\", \"thousand\", \"three\", \"three\", \"three\", \"three\", \"three\", \"three\", \"three\", \"three\", \"three\", \"three\", \"threw\", \"thrilled\", \"throat\", \"thumb\", \"thursday\", \"thus\", \"thus\", \"time\", \"time\", \"time\", \"time\", \"time\", \"time\", \"time\", \"time\", \"time\", \"time\", \"title\", \"title\", \"together\", \"together\", \"together\", \"together\", \"together\", \"together\", \"together\", \"together\", \"together\", \"together\", \"tomorrow\", \"tomorrow\", \"tomorrow\", \"tomorrow\", \"took\", \"took\", \"took\", \"took\", \"took\", \"took\", \"took\", \"total\", \"total\", \"total\", \"touch\", \"touch\", \"touch\", \"touch\", \"touch\", \"touched\", \"trade\", \"trade\", \"trade\", \"trainer\", \"transmission\", \"transmission\", \"treating\", \"trial\", \"trial\", \"trial\", \"triumph\", \"trouble\", \"trouble\", \"trump\", \"trump\", \"trump\", \"try\", \"try\", \"try\", \"try\", \"try\", \"try\", \"try\", \"try\", \"try\", \"two\", \"two\", \"two\", \"two\", \"two\", \"two\", \"two\", \"two\", \"two\", \"two\", \"u\", \"u\", \"u\", \"u\", \"u\", \"u\", \"u\", \"u\", \"u\", \"u\", \"uk\", \"uk\", \"uk\", \"uk\", \"uk\", \"uk\", \"uk\", \"uk\", \"uk\", \"underneath\", \"unfortunate\", \"unhelpful\", \"union\", \"union\", \"union\", \"union\", \"unite\", \"unite\", \"united\", \"united\", \"united\", \"united\", \"united\", \"united\", \"united\", \"up\", \"up\", \"up\", \"up\", \"up\", \"up\", \"up\", \"up\", \"urgently\", \"vaccine\", \"valentine\", \"vast\", \"vast\", \"vegetable\", \"versus\", \"viral\", \"virus\", \"virus\", \"virus\", \"virus\", \"virus\", \"virus\", \"virus\", \"vitamin\", \"waited\", \"wall\", \"wall\", \"wall\", \"wall\", \"wan\", \"want\", \"want\", \"want\", \"want\", \"want\", \"want\", \"want\", \"want\", \"want\", \"want\", \"warm\", \"warm\", \"washington\", \"wasted\", \"way\", \"way\", \"way\", \"way\", \"way\", \"way\", \"way\", \"way\", \"way\", \"way\", \"wealthy\", \"wearing\", \"wearing\", \"wearing\", \"wearing\", \"week\", \"week\", \"week\", \"week\", \"week\", \"week\", \"week\", \"week\", \"week\", \"well\", \"well\", \"well\", \"well\", \"well\", \"well\", \"well\", \"well\", \"well\", \"went\", \"went\", \"went\", \"went\", \"went\", \"went\", \"went\", \"went\", \"were\", \"were\", \"were\", \"were\", \"were\", \"were\", \"were\", \"were\", \"were\", \"were\", \"what\", \"what\", \"what\", \"what\", \"whats\", \"whats\", \"whats\", \"whats\", \"where\", \"white\", \"white\", \"white\", \"white\", \"white\", \"woman\", \"woman\", \"woman\", \"woman\", \"woman\", \"woman\", \"woman\", \"woman\", \"woman\", \"woman\", \"won\", \"work\", \"work\", \"work\", \"work\", \"work\", \"work\", \"work\", \"work\", \"work\", \"work\", \"workplace\", \"world\", \"world\", \"world\", \"world\", \"world\", \"world\", \"world\", \"world\", \"world\", \"world\", \"worry\", \"worry\", \"worry\", \"worry\", \"would\", \"would\", \"would\", \"would\", \"would\", \"would\", \"would\", \"would\", \"would\", \"would\", \"wound\", \"wrong\", \"wrong\", \"wrong\", \"wrong\", \"wrong\", \"wrong\", \"wrong\", \"wuhan\", \"ya\", \"ya\", \"yeah\", \"yeah\", \"yeah\", \"yeah\", \"year\", \"year\", \"year\", \"year\", \"year\", \"year\", \"year\", \"year\", \"year\", \"year\", \"yoga\", \"york\", \"york\", \"you\", \"you\", \"you\", \"you\", \"you\", \"you\", \"you\", \"you\", \"zone\", \"\\u00a3\", \"\\u00a3\", \"\\u00a3\", \"\\u00a3\", \"\\u00a3\", \"\\u00a3\", \"\\u2764\", \"\\ufe0f\"]}, \"R\": 30, \"lambda.step\": 0.01, \"plot.opts\": {\"xlab\": \"PC1\", \"ylab\": \"PC2\"}, \"topic.order\": [2, 6, 3, 10, 8, 7, 1, 9, 4, 5]};\n",
              "\n",
              "function LDAvis_load_lib(url, callback){\n",
              "  var s = document.createElement('script');\n",
              "  s.src = url;\n",
              "  s.async = true;\n",
              "  s.onreadystatechange = s.onload = callback;\n",
              "  s.onerror = function(){console.warn(\"failed to load library \" + url);};\n",
              "  document.getElementsByTagName(\"head\")[0].appendChild(s);\n",
              "}\n",
              "\n",
              "if(typeof(LDAvis) !== \"undefined\"){\n",
              "   // already loaded: just create the visualization\n",
              "   !function(LDAvis){\n",
              "       new LDAvis(\"#\" + \"ldavis_el50114007852264584070463301\", ldavis_el50114007852264584070463301_data);\n",
              "   }(LDAvis);\n",
              "}else if(typeof define === \"function\" && define.amd){\n",
              "   // require.js is available: use it to load d3/LDAvis\n",
              "   require.config({paths: {d3: \"https://d3js.org/d3.v5\"}});\n",
              "   require([\"d3\"], function(d3){\n",
              "      window.d3 = d3;\n",
              "      LDAvis_load_lib(\"https://cdn.jsdelivr.net/gh/bmabey/pyLDAvis@3.3.1/pyLDAvis/js/ldavis.v3.0.0.js\", function(){\n",
              "        new LDAvis(\"#\" + \"ldavis_el50114007852264584070463301\", ldavis_el50114007852264584070463301_data);\n",
              "      });\n",
              "    });\n",
              "}else{\n",
              "    // require.js not available: dynamically load d3 & LDAvis\n",
              "    LDAvis_load_lib(\"https://d3js.org/d3.v5.js\", function(){\n",
              "         LDAvis_load_lib(\"https://cdn.jsdelivr.net/gh/bmabey/pyLDAvis@3.3.1/pyLDAvis/js/ldavis.v3.0.0.js\", function(){\n",
              "                 new LDAvis(\"#\" + \"ldavis_el50114007852264584070463301\", ldavis_el50114007852264584070463301_data);\n",
              "            })\n",
              "         });\n",
              "}\n",
              "</script>"
            ],
            "text/plain": [
              "PreparedData(topic_coordinates=              x         y  topics  cluster       Freq\n",
              "topic                                                \n",
              "1     -0.135130  0.018701       1        1  20.549196\n",
              "5     -0.086091  0.038922       2        1  10.460196\n",
              "2     -0.025138  0.066398       3        1  10.292903\n",
              "9     -0.004128  0.031304       4        1  10.217215\n",
              "7      0.067631  0.011076       5        1   9.722833\n",
              "6      0.036710  0.034199       6        1   9.570802\n",
              "0     -0.058488 -0.017265       7        1   7.886076\n",
              "8      0.207168  0.093728       8        1   7.696170\n",
              "3     -0.077972 -0.040058       9        1   6.831589\n",
              "4      0.075437 -0.237005      10        1   6.773021, topic_info=           Term         Freq        Total Category  logprob  loglift\n",
              "101        love   646.000000   646.000000  Default  30.0000  30.0000\n",
              "144       never   611.000000   611.000000  Default  29.0000  29.0000\n",
              "140         ive   752.000000   752.000000  Default  28.0000  28.0000\n",
              "216        know  1297.000000  1297.000000  Default  27.0000  27.0000\n",
              "348       think  1361.000000  1361.000000  Default  26.0000  26.0000\n",
              "..          ...          ...          ...      ...      ...      ...\n",
              "448        home    49.011620   498.914266  Topic10  -5.9099   0.3718\n",
              "258  government    47.358145   405.993618  Topic10  -5.9442   0.5436\n",
              "189     support    46.566628   368.443602  Topic10  -5.9611   0.6238\n",
              "20         time    53.146363  1458.930299  Topic10  -5.8289  -0.6202\n",
              "63        still    45.894406   550.829449  Topic10  -5.9756   0.2071\n",
              "\n",
              "[841 rows x 6 columns], token_table=       Topic      Freq  Term\n",
              "term                        \n",
              "4273       3  0.049782  2019\n",
              "4273       9  0.049782  2019\n",
              "4273      10  0.896077  2019\n",
              "7146       6  0.898029    23\n",
              "15186      9  0.926518   270\n",
              "...      ...       ...   ...\n",
              "3100       6  0.224339     £\n",
              "3100       9  0.104157     £\n",
              "3100      10  0.080121     £\n",
              "1333       7  0.992553     ❤\n",
              "1334       7  0.989819     ️\n",
              "\n",
              "[2455 rows x 3 columns], R=30, lambda_step=0.01, plot_opts={'xlab': 'PC1', 'ylab': 'PC2'}, topic_order=[2, 6, 3, 10, 8, 7, 1, 9, 4, 5])"
            ]
          },
          "metadata": {},
          "execution_count": 16
        }
      ]
    },
    {
      "cell_type": "markdown",
      "metadata": {
        "id": "8G6J0d4QGLP4"
      },
      "source": [
        "Now let us see which topic is dominant for each quote :"
      ]
    },
    {
      "cell_type": "code",
      "metadata": {
        "id": "wau1RcrktjaF"
      },
      "source": [
        "def take_second(elem):\n",
        "    return elem[1]\n",
        "\n",
        "def format_topics_sentences(ldamodel=ldamodel, corpus=doc_term_matrix, texts=doc_clean):\n",
        "    # Init output\n",
        "    sent_topics_df = pd.DataFrame()\n",
        "\n",
        "    # Get main topic in each document\n",
        "    for i, row in enumerate(ldamodel[corpus]):\n",
        "        row = sorted(row, key=take_second, reverse=True)        \n",
        "        # Get the Dominant topic, Perc Contribution and Keywords for each document\n",
        "        for j, (topic_num, prop_topic) in enumerate(row):\n",
        "            if j == 0:  # => dominant topic\n",
        "                wp = ldamodel.show_topic(topic_num)\n",
        "                topic_keywords = \", \".join([word for word, prop in wp])\n",
        "                sent_topics_df = sent_topics_df.append(pd.Series([int(topic_num), round(prop_topic,4), topic_keywords]), ignore_index=True)\n",
        "            else:\n",
        "                break\n",
        "    sent_topics_df.columns = ['Dominant_Topic', 'Perc_Contribution', 'Topic_Keywords']\n",
        "\n",
        "    # Add original text to the end of the output\n",
        "    contents = pd.Series(texts)\n",
        "    sent_topics_df = pd.concat([sent_topics_df, contents], axis=1)\n",
        "    return(sent_topics_df)\n",
        "\n"
      ],
      "execution_count": 19,
      "outputs": []
    },
    {
      "cell_type": "code",
      "metadata": {
        "id": "O_Wn2JwbtpfK"
      },
      "source": [
        "\n",
        "df_topic_sents_keywords = format_topics_sentences(ldamodel=ldamodel, corpus=doc_term_matrix, texts=doc_clean)\n",
        "\n",
        "# Format\n",
        "df_dominant_topic = df_topic_sents_keywords.reset_index()\n",
        "df_dominant_topic.columns = ['Document_No', 'Dominant_Topic', 'Topic_Perc_Contrib', 'Keywords', 'Text']"
      ],
      "execution_count": 20,
      "outputs": []
    },
    {
      "cell_type": "code",
      "metadata": {
        "colab": {
          "base_uri": "https://localhost:8080/"
        },
        "id": "12ieLSoyvMZM",
        "outputId": "e43afded-4214-4559-8e5f-4ab37e7eef87"
      },
      "source": [
        "# Show random samples\n",
        "for i in range(460,465):\n",
        "  print('Quote : ' +doc_complete[i])\n",
        "  print('topic keywords : ' + df_dominant_topic.Keywords[i] )\n",
        "  print('\\n')\n"
      ],
      "execution_count": 22,
      "outputs": [
        {
          "output_type": "stream",
          "name": "stdout",
          "text": [
            "Quote : What I sent was NSW-based advice, based on information from our lawyers. It wasn't a legal thing given by myself,\n",
            "topic keywords : people, last, still, going, coronavirus, year, want, need, week, well\n",
            "\n",
            "\n",
            "Quote : A guy meeting Polly... I don't just do that and you met mum and everything.\n",
            "topic keywords : like, would, im, there, feel, one, day, now, right, take\n",
            "\n",
            "\n",
            "Quote : But hopefully we have a full set to pick from; that would be great. We have options. You might hear the five seamer option come out again but Dom Bess has done himself absolutely no harm the way he bowled down in PE. It's great to see a spinner come into our team and bowl as well as he did.\n",
            "topic keywords : love, get, go, he, back, want, cant, people, you, look\n",
            "\n",
            "\n",
            "Quote : But I appreciate that this [ curfews ] is something we need to keep under review.\n",
            "topic keywords : people, get, well, take, going, back, were, keep, away, look\n",
            "\n",
            "\n",
            "Quote : Contrary to Prince Andrew's very public offer to cooperate with our investigation into Epstein's co-conspirators, an offer that was conveyed through press release, Prince Andrew has now completely shut the door on voluntary cooperation and our office is considering its options.\n",
            "topic keywords : life, like, good, there, family, lot, one, many, friend, love\n",
            "\n",
            "\n"
          ]
        }
      ]
    },
    {
      "cell_type": "markdown",
      "metadata": {
        "id": "vFmeQSvpIScG"
      },
      "source": [
        "The most important quote in each topic :"
      ]
    },
    {
      "cell_type": "code",
      "metadata": {
        "colab": {
          "base_uri": "https://localhost:8080/",
          "height": 359
        },
        "id": "9-BN240HuZRh",
        "outputId": "9961e1ce-10e3-48be-b88e-d1c5902476b7"
      },
      "source": [
        "# Group top 5 sentences under each topic\n",
        "sent_topics_sorteddf_mallet = pd.DataFrame()\n",
        "\n",
        "sent_topics_outdf_grpd = df_topic_sents_keywords.groupby('Dominant_Topic')\n",
        "\n",
        "for i, grp in sent_topics_outdf_grpd:\n",
        "    sent_topics_sorteddf_mallet = pd.concat([sent_topics_sorteddf_mallet, \n",
        "                                             grp.sort_values(['Perc_Contribution'], ascending=[0]).head(1)], \n",
        "                                            axis=0)\n",
        "\n",
        "# Reset Index    \n",
        "sent_topics_sorteddf_mallet.reset_index(drop=True, inplace=True)\n",
        "\n",
        "# Format\n",
        "sent_topics_sorteddf_mallet.columns = ['Topic_Num', \"Topic_Perc_Contrib\", \"Keywords\", \"Text\"]\n",
        "\n",
        "# Show\n",
        "sent_topics_sorteddf_mallet.head(10)"
      ],
      "execution_count": 23,
      "outputs": [
        {
          "output_type": "execute_result",
          "data": {
            "text/html": [
              "<div>\n",
              "<style scoped>\n",
              "    .dataframe tbody tr th:only-of-type {\n",
              "        vertical-align: middle;\n",
              "    }\n",
              "\n",
              "    .dataframe tbody tr th {\n",
              "        vertical-align: top;\n",
              "    }\n",
              "\n",
              "    .dataframe thead th {\n",
              "        text-align: right;\n",
              "    }\n",
              "</style>\n",
              "<table border=\"1\" class=\"dataframe\">\n",
              "  <thead>\n",
              "    <tr style=\"text-align: right;\">\n",
              "      <th></th>\n",
              "      <th>Topic_Num</th>\n",
              "      <th>Topic_Perc_Contrib</th>\n",
              "      <th>Keywords</th>\n",
              "      <th>Text</th>\n",
              "    </tr>\n",
              "  </thead>\n",
              "  <tbody>\n",
              "    <tr>\n",
              "      <th>0</th>\n",
              "      <td>0.0</td>\n",
              "      <td>0.9710</td>\n",
              "      <td>like, would, im, there, feel, one, day, now, r...</td>\n",
              "      <td>[oom, chucka, chuck, boom, boomoom, chucka, ch...</td>\n",
              "    </tr>\n",
              "    <tr>\n",
              "      <th>1</th>\n",
              "      <td>1.0</td>\n",
              "      <td>0.9795</td>\n",
              "      <td>im, know, think, like, time, it, ive, thing, g...</td>\n",
              "      <td>[20, year, know, get, done, know, take, win, g...</td>\n",
              "    </tr>\n",
              "    <tr>\n",
              "      <th>2</th>\n",
              "      <td>2.0</td>\n",
              "      <td>0.9690</td>\n",
              "      <td>people, get, well, take, going, back, were, ke...</td>\n",
              "      <td>[see, puppet, manipulated, move, you, reminded...</td>\n",
              "    </tr>\n",
              "    <tr>\n",
              "      <th>3</th>\n",
              "      <td>3.0</td>\n",
              "      <td>0.9654</td>\n",
              "      <td>life, like, good, there, family, lot, one, man...</td>\n",
              "      <td>[spur, supporter, became, yid, adversity, comp...</td>\n",
              "    </tr>\n",
              "    <tr>\n",
              "      <th>4</th>\n",
              "      <td>4.0</td>\n",
              "      <td>0.9710</td>\n",
              "      <td>stay, bit, really, could, f, got, much, econom...</td>\n",
              "      <td>[understand, hrt, supply, situation, begin, im...</td>\n",
              "    </tr>\n",
              "    <tr>\n",
              "      <th>5</th>\n",
              "      <td>5.0</td>\n",
              "      <td>0.9719</td>\n",
              "      <td>love, get, go, he, back, want, cant, people, y...</td>\n",
              "      <td>[got, kitten, took, kitten, back, realized, al...</td>\n",
              "    </tr>\n",
              "    <tr>\n",
              "      <th>6</th>\n",
              "      <td>6.0</td>\n",
              "      <td>0.9735</td>\n",
              "      <td>people, last, still, going, coronavirus, year,...</td>\n",
              "      <td>[intervention, school, closing, playground, ke...</td>\n",
              "    </tr>\n",
              "    <tr>\n",
              "      <th>7</th>\n",
              "      <td>7.0</td>\n",
              "      <td>0.9654</td>\n",
              "      <td>people, life, make, it, get, health, need, day...</td>\n",
              "      <td>[first, 48, hour, announced, deluged, really, ...</td>\n",
              "    </tr>\n",
              "    <tr>\n",
              "      <th>8</th>\n",
              "      <td>8.0</td>\n",
              "      <td>0.9667</td>\n",
              "      <td>new, community, one, work, people, every, time...</td>\n",
              "      <td>[political, party, parliamentary, authority, m...</td>\n",
              "    </tr>\n",
              "    <tr>\n",
              "      <th>9</th>\n",
              "      <td>9.0</td>\n",
              "      <td>0.9757</td>\n",
              "      <td>world, year, u, one, really, would, time, thin...</td>\n",
              "      <td>[http, 3a, 2f, 2fiframe, thesun, co, uk, 2fnus...</td>\n",
              "    </tr>\n",
              "  </tbody>\n",
              "</table>\n",
              "</div>"
            ],
            "text/plain": [
              "   Topic_Num  ...                                               Text\n",
              "0        0.0  ...  [oom, chucka, chuck, boom, boomoom, chucka, ch...\n",
              "1        1.0  ...  [20, year, know, get, done, know, take, win, g...\n",
              "2        2.0  ...  [see, puppet, manipulated, move, you, reminded...\n",
              "3        3.0  ...  [spur, supporter, became, yid, adversity, comp...\n",
              "4        4.0  ...  [understand, hrt, supply, situation, begin, im...\n",
              "5        5.0  ...  [got, kitten, took, kitten, back, realized, al...\n",
              "6        6.0  ...  [intervention, school, closing, playground, ke...\n",
              "7        7.0  ...  [first, 48, hour, announced, deluged, really, ...\n",
              "8        8.0  ...  [political, party, parliamentary, authority, m...\n",
              "9        9.0  ...  [http, 3a, 2f, 2fiframe, thesun, co, uk, 2fnus...\n",
              "\n",
              "[10 rows x 4 columns]"
            ]
          },
          "metadata": {},
          "execution_count": 23
        }
      ]
    },
    {
      "cell_type": "code",
      "metadata": {
        "colab": {
          "base_uri": "https://localhost:8080/"
        },
        "id": "OJoaRPqku0Qa",
        "outputId": "3fdedcc0-853d-4a74-a238-f0516845e79e"
      },
      "source": [
        "for i in range(0,10):\n",
        "  print('keywords : ' + sent_topics_sorteddf_mallet.Keywords[i])\n",
        "  print('text : ' + str(sent_topics_sorteddf_mallet.Text[i]))\n",
        "  print('\\n')"
      ],
      "execution_count": 24,
      "outputs": [
        {
          "output_type": "stream",
          "name": "stdout",
          "text": [
            "keywords : like, would, im, there, feel, one, day, now, right, take\n",
            "text : ['oom', 'chucka', 'chuck', 'boom', 'boomoom', 'chucka', 'chuck', 'boom', 'boom', 'instrumental', 'jazz', 'single', 'beaten', 'record', 'time', 'out', 'album', 'take', 'five', 'appeared', 'originally', 'went', 'platinum', '2011', 'meaning', 'sale', '2', 'million', 'copy', 'plus']\n",
            "\n",
            "\n",
            "keywords : im, know, think, like, time, it, ive, thing, going, got\n",
            "text : ['20', 'year', 'know', 'get', 'done', 'know', 'take', 'win', 'going', 'take', 'point', 'yes', 'to', 'theyre', 'going', 'ever', 'anyway', 'actually', 'want', 'guy', 'retire', 'want', 'better', 'them', 'im', 'sitting', 'home', 'thinking', 'ok', 'still', 'have', 'what', 'two', 'three', 'year', 'retire', 'im', 'going', 'take', 'tennis', 'no', 'thats', 'is']\n",
            "\n",
            "\n",
            "keywords : people, get, well, take, going, back, were, keep, away, look\n",
            "text : ['see', 'puppet', 'manipulated', 'move', 'you', 'reminded', 'early', 'shaman', 'used', 'hand', 'make', 'shadow', 'wall', 'even', 'back', 'then', 'cave', 'audience', 'would', 'look', 'past', 'firelight', 'see', 'real', 'creature', 'revealing', 'wall', 'behind']\n",
            "\n",
            "\n",
            "keywords : life, like, good, there, family, lot, one, many, friend, love\n",
            "text : ['spur', 'supporter', 'became', 'yid', 'adversity', 'complex', 'contested', 'process', 'identity', 'formation', 'forced', 'respond', 'pejorative', 'abusive', 'taunt', 'rival', 'supporter', 'many', 'crowd', 'embraced', 'term', 'order', 'render', 'abuse', 'impotent']\n",
            "\n",
            "\n",
            "keywords : stay, bit, really, could, f, got, much, economy, little, feel\n",
            "text : ['understand', 'hrt', 'supply', 'situation', 'begin', 'improve', 'february', '2020', 'range', 'product', 'supply', '70', 'hrt', 'patch', 'market', 'reintroduced', 'uk', 'market', 'however', 'number', 'hrt', 'medication', 'contraceptive', 'remain', 'unavailable', 'end', 'year', 'timeline', 'back', 'market']\n",
            "\n",
            "\n",
            "keywords : love, get, go, he, back, want, cant, people, you, look\n",
            "text : ['got', 'kitten', 'took', 'kitten', 'back', 'realized', 'allergic', 'p', 'sy', 'tell', 'denise', 'im', 'allergic', 'p', 'sy', 'im', 'allergic', 'bad', 'p', 'sy', 'think', 'are', 'im', 'drunk', 'oh', 'no', 'got', 'ta', 'go', 'right', 'bye']\n",
            "\n",
            "\n",
            "keywords : people, last, still, going, coronavirus, year, want, need, week, well\n",
            "text : ['intervention', 'school', 'closing', 'playground', 'keeping', 'student', 'constant', 'class', 'groupsclassrooms', 'increasing', 'spacing', 'student', 'class', 'reducing', 'school', 'week', 'staggering', 'school', 'start', 'break', 'time', 'across', 'year', 'class', 'considered', 'restrictive', 'social', 'distancing', 'policy', 'implemented', 'long', 'period', 'time']\n",
            "\n",
            "\n",
            "keywords : people, life, make, it, get, health, need, day, way, time\n",
            "text : ['first', '48', 'hour', 'announced', 'deluged', 'really', 'interesting', 'message', 'small', 'medium', 'large', 'town', 'historic', 'town', 'creative', 'town', 'farmer', 'woman', 'cooperative', 'rural', 'tourism', 'outfit', 'mobile', 'pharmacy', 'everyone']\n",
            "\n",
            "\n",
            "keywords : new, community, one, work, people, every, time, day, government, system\n",
            "text : ['political', 'party', 'parliamentary', 'authority', 'must', 'work', 'together', 'urgently', 'put', 'place', 'remote', 'working', 'parliament', 'mp', 'continue', 'represent', 'constituent', 'raise', 'urgent', 'issue', 'minister', 'hold', 'government', 'account', 'response', 'crisis']\n",
            "\n",
            "\n",
            "keywords : world, year, u, one, really, would, time, think, like, new\n",
            "text : ['http', '3a', '2f', '2fiframe', 'thesun', 'co', 'uk', '2fnusunpodwidgetsprod', '2fiframepod', 'html', '3fid', '3dwqxxrragv', '26script', '3dhttps', '3a', '2f', '2fwww', 'thesun', 'co', 'uk', '2fnusunpodloadersprod', '2f1660', '2fcomponentloader', 'j', '3f98854', '26config', '3dhttps', '3a', '2f', '2fwww', 'thesun', 'co', 'uk', '2fnusunpodcomponentconfigprod', '2fwqxxrragv', 'json']\n",
            "\n",
            "\n"
          ]
        }
      ]
    },
    {
      "cell_type": "markdown",
      "metadata": {
        "id": "HjKvcFCJIYZU"
      },
      "source": [
        "Assignment of categories (have to change at every run)\n"
      ]
    },
    {
      "cell_type": "code",
      "metadata": {
        "id": "b0jWgD5PsuRL"
      },
      "source": [
        "topics = {}"
      ],
      "execution_count": 25,
      "outputs": []
    },
    {
      "cell_type": "markdown",
      "metadata": {
        "id": "lYnDWPt8svhG"
      },
      "source": [
        "Test other numbers of topics to find most efficient one"
      ]
    },
    {
      "cell_type": "code",
      "metadata": {
        "id": "VoWU5Eg-nmRy"
      },
      "source": [
        "def compute_coherence_values(dictionary, corpus, texts, limit, start=2, step=3):\n",
        "    coherence_values = []\n",
        "    model_list = []\n",
        "    for num_topics in range(start, limit, step):\n",
        "      #(doc_term_matrix, num_topics=10, id2word = dictionary, passes=50,workers=4)\n",
        "      model = gensim.models.LdaMulticore(corpus=corpus,\n",
        "                                           id2word=dictionary,\n",
        "                                           num_topics=num_topics, \n",
        "                                           random_state=100,\n",
        "                                           chunksize=100,\n",
        "                                           passes=10,\n",
        "                                           per_word_topics=True, \n",
        "                                           workers=4)\n",
        "      model_list.append(model)\n",
        "      coherencemodel = CoherenceModel(model=model, texts=texts, dictionary=dictionary, coherence='c_v')\n",
        "      coherence_values.append(coherencemodel.get_coherence())\n",
        "\n",
        "    return model_list, coherence_values"
      ],
      "execution_count": 28,
      "outputs": []
    },
    {
      "cell_type": "code",
      "metadata": {
        "id": "NLgEB0W1oHkj"
      },
      "source": [
        "modellist, coherence_values = compute_coherence_values(dictionary=dictionary, corpus=doc_term_matrix, texts=doc_clean, start=2, limit=20, step=3)"
      ],
      "execution_count": null,
      "outputs": []
    },
    {
      "cell_type": "code",
      "metadata": {
        "colab": {
          "base_uri": "https://localhost:8080/",
          "height": 279
        },
        "id": "72Nj4Q68oYjh",
        "outputId": "4f11e7f6-dcf5-43a6-f053-9f15efce4d85"
      },
      "source": [
        "# Show graph\n",
        "limit=20; start=2; step=3;\n",
        "x = range(start, limit, step)\n",
        "plt.plot(x, coherence_values)\n",
        "plt.xlabel(\"Num Topics\")\n",
        "plt.ylabel(\"Coherence score\")\n",
        "plt.legend((\"coherence_values\"), loc='best')\n",
        "plt.show()"
      ],
      "execution_count": 30,
      "outputs": [
        {
          "output_type": "display_data",
          "data": {
            "image/png": "[encoded data removed]",
            "text/plain": [
              "<Figure size 432x288 with 1 Axes>"
            ]
          },
          "metadata": {
            "needs_background": "light"
          }
        }
      ]
    },
    {
      "cell_type": "code",
      "metadata": {
        "colab": {
          "base_uri": "https://localhost:8080/"
        },
        "id": "gN3SaGWRrX78",
        "outputId": "53b8a8c1-e9fa-4dc7-b8ac-40e511113c28"
      },
      "source": [
        "optimodel = modellist[2]\n",
        "coherence_values[2]"
      ],
      "execution_count": 31,
      "outputs": [
        {
          "output_type": "execute_result",
          "data": {
            "text/plain": [
              "0.34517661698698987"
            ]
          },
          "metadata": {},
          "execution_count": 31
        }
      ]
    },
    {
      "cell_type": "code",
      "metadata": {
        "colab": {
          "base_uri": "https://localhost:8080/"
        },
        "id": "WY-ThjBOsGp7",
        "outputId": "4f10bf92-0a3d-494f-839f-c9500546837c"
      },
      "source": [
        "optimodel.print_topics()"
      ],
      "execution_count": 32,
      "outputs": [
        {
          "output_type": "execute_result",
          "data": {
            "text/plain": [
              "[(0,\n",
              "  '0.011*\"people\" + 0.008*\"u\" + 0.007*\"country\" + 0.006*\"many\" + 0.006*\"reason\" + 0.005*\"past\" + 0.005*\"year\" + 0.005*\"future\" + 0.005*\"brother\" + 0.005*\"spread\"'),\n",
              " (1,\n",
              "  '0.009*\"number\" + 0.008*\"month\" + 0.007*\"family\" + 0.007*\"experience\" + 0.006*\"time\" + 0.005*\"state\" + 0.005*\"loved\" + 0.005*\"day\" + 0.005*\"opportunity\" + 0.005*\"woman\"'),\n",
              " (2,\n",
              "  '0.017*\"get\" + 0.017*\"like\" + 0.016*\"think\" + 0.015*\"going\" + 0.013*\"im\" + 0.013*\"one\" + 0.013*\"got\" + 0.013*\"want\" + 0.012*\"go\" + 0.011*\"would\"'),\n",
              " (3,\n",
              "  '0.016*\"people\" + 0.010*\"were\" + 0.010*\"get\" + 0.009*\"back\" + 0.008*\"need\" + 0.008*\"come\" + 0.008*\"love\" + 0.008*\"support\" + 0.007*\"im\" + 0.007*\"ever\"'),\n",
              " (4,\n",
              "  '0.012*\"health\" + 0.009*\"need\" + 0.008*\"social\" + 0.007*\"government\" + 0.007*\"public\" + 0.007*\"case\" + 0.007*\"system\" + 0.007*\"made\" + 0.006*\"risk\" + 0.006*\"people\"'),\n",
              " (5,\n",
              "  '0.021*\"he\" + 0.010*\"love\" + 0.010*\"happy\" + 0.008*\"time\" + 0.008*\"one\" + 0.007*\"world\" + 0.007*\"life\" + 0.006*\"new\" + 0.006*\"made\" + 0.006*\"know\"'),\n",
              " (6,\n",
              "  '0.007*\"on\" + 0.007*\"kid\" + 0.006*\"member\" + 0.006*\"i\" + 0.006*\"china\" + 0.005*\"would\" + 0.005*\"win\" + 0.005*\"be\" + 0.005*\"could\" + 0.005*\"problem\"'),\n",
              " (7,\n",
              "  '0.023*\"like\" + 0.013*\"me\" + 0.012*\"im\" + 0.010*\"never\" + 0.010*\"it\" + 0.008*\"quite\" + 0.007*\"thing\" + 0.006*\"end\" + 0.006*\"way\" + 0.006*\"know\"')]"
            ]
          },
          "metadata": {},
          "execution_count": 32
        }
      ]
    },
    {
      "cell_type": "code",
      "metadata": {
        "colab": {
          "base_uri": "https://localhost:8080/",
          "height": 915
        },
        "id": "k3RuTR5eMhjw",
        "outputId": "5e482f24-981d-4180-fb31-d732b8a94da6"
      },
      "source": [
        "vis = pyLDAvis.gensim_models.prepare(optimodel, doc_term_matrix, dictionary)\n",
        "vis"
      ],
      "execution_count": 33,
      "outputs": [
        {
          "output_type": "stream",
          "name": "stderr",
          "text": [
            "/usr/local/lib/python3.7/dist-packages/pyLDAvis/_prepare.py:247: FutureWarning: In a future version of pandas all arguments of DataFrame.drop except for the argument 'labels' will be keyword-only\n",
            "  by='saliency', ascending=False).head(R).drop('saliency', 1)\n"
          ]
        },
        {
          "output_type": "execute_result",
          "data": {
            "text/html": [
              "\n",
              "<link rel=\"stylesheet\" type=\"text/css\" href=\"https://cdn.jsdelivr.net/gh/bmabey/pyLDAvis@3.3.1/pyLDAvis/js/ldavis.v1.0.0.css\">\n",
              "\n",
              "\n",
              "<div id=\"ldavis_el5011400785082430243201634098\"></div>\n",
              "<script type=\"text/javascript\">\n",
              "\n",
              "var ldavis_el5011400785082430243201634098_data = {\"mdsDat\": {\"x\": [0.22984078702859798, 0.1434257000132574, 0.1575142525410863, -0.09630026803695296, -0.2370701633608133, 0.03398355472129449, -0.14898150027245688, -0.08241236263401311], \"y\": [0.007739698011628978, 0.0842748977619681, -0.037168113618801575, -0.026111988053561665, 0.08053468279778347, 0.07684457632502475, 0.1409560678291401, -0.3270698210531822], \"topics\": [1, 2, 3, 4, 5, 6, 7, 8], \"cluster\": [1, 1, 1, 1, 1, 1, 1, 1], \"Freq\": [22.71881726547468, 16.20124547622857, 11.33236936422254, 10.527814561857667, 10.39819476095931, 10.28633872879332, 10.209929294552762, 8.32529054791115]}, \"tinfo\": {\"Term\": [\"like\", \"get\", \"he\", \"it\", \"im\", \"think\", \"got\", \"want\", \"me\", \"love\", \"health\", \"thing\", \"going\", \"there\", \"go\", \"know\", \"need\", \"happy\", \"day\", \"never\", \"one\", \"were\", \"number\", \"week\", \"made\", \"something\", \"support\", \"month\", \"ever\", \"family\", \"week\", \"probably\", \"playing\", \"test\", \"down\", \"definitely\", \"second\", \"positive\", \"hell\", \"chance\", \"answer\", \"break\", \"voice\", \"emergency\", \"happens\", \"gave\", \"cut\", \"reality\", \"lose\", \"outbreak\", \"worry\", \"flight\", \"mr\", \"cent\", \"emotional\", \"literally\", \"worse\", \"honest\", \"allow\", \"biggest\", \"night\", \"bit\", \"there\", \"something\", \"got\", \"minute\", \"this\", \"go\", \"couple\", \"think\", \"get\", \"saying\", \"wanted\", \"tell\", \"day\", \"going\", \"want\", \"that\", \"someone\", \"really\", \"ive\", \"it\", \"say\", \"like\", \"thing\", \"know\", \"one\", \"would\", \"im\", \"feel\", \"could\", \"thats\", \"time\", \"make\", \"see\", \"lot\", \"people\", \"good\", \"nh\", \"australian\", \"oh\", \"no\", \"soon\", \"ready\", \"society\", \"tough\", \"message\", \"sad\", \"with\", \"prime\", \"behaviour\", \"testing\", \"lovely\", \"white\", \"vote\", \"putting\", \"before\", \"project\", \"amount\", \"generation\", \"thousand\", \"fully\", \"common\", \"build\", \"dream\", \"helping\", \"type\", \"approach\", \"hope\", \"ever\", \"support\", \"stage\", \"true\", \"together\", \"deal\", \"were\", \"amazing\", \"stay\", \"home\", \"minister\", \"forward\", \"come\", \"love\", \"people\", \"back\", \"call\", \"great\", \"need\", \"friend\", \"family\", \"get\", \"looking\", \"u\", \"well\", \"life\", \"many\", \"im\", \"much\", \"everyone\", \"want\", \"work\", \"time\", \"going\", \"new\", \"thats\", \"really\", \"make\", \"year\", \"quite\", \"happen\", \"maybe\", \"idea\", \"sort\", \"f\", \"completely\", \"gone\", \"off\", \"happening\", \"na\", \"political\", \"ok\", \"imagine\", \"gon\", \"sound\", \"eat\", \"die\", \"tonight\", \"write\", \"especially\", \"doing\", \"instead\", \"politics\", \"ball\", \"prince\", \"seems\", \"what\", \"art\", \"allowed\", \"worried\", \"happened\", \"me\", \"knew\", \"body\", \"ill\", \"like\", \"never\", \"end\", \"different\", \"it\", \"im\", \"look\", \"thing\", \"way\", \"left\", \"know\", \"cant\", \"going\", \"come\", \"would\", \"always\", \"say\", \"number\", \"month\", \"experience\", \"loved\", \"opportunity\", \"single\", \"united\", \"small\", \"word\", \"watch\", \"london\", \"travel\", \"meghan\", \"fire\", \"industry\", \"policy\", \"music\", \"involved\", \"sick\", \"then\", \"increase\", \"tomorrow\", \"sit\", \"return\", \"rate\", \"did\", \"giving\", \"mate\", \"chinese\", \"load\", \"since\", \"news\", \"state\", \"death\", \"patient\", \"seen\", \"family\", \"woman\", \"today\", \"beautiful\", \"time\", \"day\", \"also\", \"case\", \"one\", \"many\", \"three\", \"health\", \"social\", \"whats\", \"police\", \"sense\", \"everybody\", \"symptom\", \"contact\", \"rule\", \"campaign\", \"date\", \"concern\", \"truth\", \"phone\", \"access\", \"general\", \"touch\", \"air\", \"follow\", \"mental\", \"report\", \"choice\", \"security\", \"decided\", \"form\", \"data\", \"deliver\", \"seriously\", \"officer\", \"distancing\", \"serious\", \"risk\", \"system\", \"public\", \"advice\", \"case\", \"impact\", \"made\", \"area\", \"government\", \"decision\", \"need\", \"coronavirus\", \"may\", \"country\", \"measure\", \"end\", \"take\", \"people\", \"taking\", \"clear\", \"make\", \"he\", \"happy\", \"history\", \"book\", \"climate\", \"perfect\", \"called\", \"\\ufe0f\", \"fine\", \"partner\", \"border\", \"hair\", \"road\", \"daughter\", \"\\u2764\", \"laugh\", \"lie\", \"letter\", \"enjoy\", \"race\", \"class\", \"realise\", \"beat\", \"wall\", \"pick\", \"learned\", \"extremely\", \"becomes\", \"middle\", \"research\", \"old\", \"fight\", \"continue\", \"talk\", \"love\", \"him\", \"made\", \"world\", \"point\", \"protect\", \"son\", \"step\", \"new\", \"human\", \"life\", \"is\", \"time\", \"one\", \"change\", \"thank\", \"first\", \"know\", \"issue\", \"want\", \"always\", \"much\", \"right\", \"im\", \"people\", \"year\", \"little\", \"reason\", \"past\", \"brother\", \"spread\", \"season\", \"act\", \"easy\", \"proud\", \"car\", \"order\", \"theyve\", \"age\", \"sport\", \"wonderful\", \"europe\", \"20\", \"responsibility\", \"league\", \"save\", \"covid19\", \"asking\", \"fair\", \"demand\", \"threat\", \"keeping\", \"essential\", \"dangerous\", \"cup\", \"healthy\", \"beginning\", \"city\", \"challenge\", \"trust\", \"\\u00a3\", \"future\", \"move\", \"free\", \"black\", \"country\", \"disease\", \"people\", \"many\", \"u\", \"virus\", \"year\", \"business\", \"government\", \"keep\", \"money\", \"whether\", \"world\", \"member\", \"i\", \"china\", \"be\", \"respect\", \"street\", \"film\", \"mother\", \"red\", \"terrible\", \"supposed\", \"figure\", \"walk\", \"confidence\", \"wear\", \"interesting\", \"thanks\", \"transmission\", \"clearly\", \"why\", \"near\", \"cancer\", \"trial\", \"send\", \"apart\", \"meal\", \"paid\", \"low\", \"honestly\", \"favourite\", \"on\", \"kid\", \"win\", \"role\", \"strong\", \"problem\", \"stuff\", \"went\", \"without\", \"nice\", \"find\", \"enough\", \"game\", \"could\", \"would\", \"president\", \"well\", \"way\"], \"Freq\": [1814.0, 1485.0, 580.0, 1082.0, 1609.0, 1332.0, 892.0, 1161.0, 607.0, 663.0, 336.0, 1040.0, 1335.0, 676.0, 902.0, 1165.0, 900.0, 270.0, 816.0, 588.0, 1378.0, 633.0, 255.0, 388.0, 352.0, 508.0, 372.0, 237.0, 340.0, 490.0, 388.13967923683236, 175.609146977455, 157.12028750241146, 155.7282729661462, 155.42466102462222, 132.778357082727, 131.86512227930046, 111.45552744005401, 99.73143554428287, 96.63867906061171, 93.37959572828741, 90.0849228390715, 88.37929120829409, 87.56780133158784, 87.1926363178121, 86.1374243011077, 83.18694137516113, 76.58176939210836, 71.84268544611224, 71.44825804329722, 71.35847273174963, 71.08076270603638, 70.84979748888915, 66.82129813547812, 64.24066719072611, 63.51924485837388, 58.49464009374638, 57.29509774774049, 56.423905048742704, 56.32895487683734, 213.57480775483234, 367.80700694898013, 619.3515396336026, 460.47634265240987, 772.0305693590099, 115.180323126279, 264.0285081884429, 705.8213495108504, 103.26627444013585, 983.4171838306199, 1044.560324803246, 198.4697926241983, 216.6593159847354, 208.95474138331045, 586.6224122352057, 881.8260739898067, 770.8665283721436, 410.95557687211516, 259.883637193118, 693.745002849366, 492.74421697524764, 686.8254446874035, 490.494708614827, 1019.2097225566386, 646.0090491136943, 690.65466651201, 772.5221060146995, 695.7937307912878, 806.8901028735112, 385.04739549311194, 437.19114830658464, 447.8319742446916, 661.6514072845026, 465.7927620272523, 427.2408049294243, 358.8611583532076, 650.2271877455702, 366.27623265343044, 229.75779391136192, 145.75877025548505, 144.68321540218724, 143.71635419282765, 137.69987268746144, 127.64470932537594, 105.57900397271304, 95.57051417053731, 94.98089568225082, 91.51523794118086, 89.34229088551149, 87.35683306974697, 86.78651598031924, 83.04975811695758, 81.60661124201603, 78.64088287696525, 76.96838345698202, 76.87666659087216, 76.20770908871579, 72.20369528156294, 67.87314769434286, 67.05370871782026, 66.73350474999606, 66.18010909027687, 65.34761802078252, 65.27480002175125, 63.709645764242666, 62.02676605597851, 61.957721792386266, 61.00570394242012, 229.71806402465995, 317.76738257911376, 328.2765212828657, 102.7552938513506, 94.59357960337914, 266.83759251204646, 147.95819383899456, 430.4833454571569, 142.87014182127703, 187.37747695609593, 308.9923910374768, 139.07201295638242, 148.68862800727615, 350.2824707927636, 349.75869644041705, 689.8110635594369, 375.70138663370824, 141.6522215406305, 236.97357860254218, 350.73616436218396, 176.059772665533, 233.61543709995343, 430.45102215520984, 159.65788066234205, 302.894859758175, 265.63186894433886, 253.42157055785614, 215.4674930572492, 319.0641185823159, 226.66461895306466, 174.66697245299517, 246.81584290610007, 208.36361220095392, 244.60219988745635, 237.3842012714852, 196.8332906241095, 200.17971845189555, 211.40948967508214, 203.98438845821778, 194.8478428716395, 231.49137015649166, 184.3606216218149, 163.5528416717972, 161.69006227799164, 160.10190340168913, 133.9881205590497, 122.87469687398024, 116.25478959326412, 112.37730753120618, 111.87417210930427, 99.76537399097835, 96.53290593673485, 91.80463805192, 84.95794042790583, 81.9676500253948, 81.53152612055418, 81.46328277413515, 80.56841857744571, 77.42990742758602, 77.16265676915475, 75.11945308907663, 71.0447375492816, 70.58620842817984, 66.16818556589398, 64.581342987248, 62.23579207058026, 61.407932351927194, 61.252060184510704, 59.392751029981525, 58.59097793761303, 60.82655816824628, 170.85502755815577, 398.07355474095283, 123.84915132522976, 98.61428928787814, 156.7407408551734, 698.1523951658482, 313.1721588000799, 194.72106673513233, 149.7728101052825, 292.86552926694196, 358.28490336382555, 181.59912768469883, 208.33213354791397, 186.78895851034795, 108.56048074672356, 186.11188878313257, 136.27529684221017, 156.55964082251032, 135.5595406341367, 142.81214362908983, 118.63982240060378, 120.08497644700958, 254.41392255866728, 236.9378769054626, 184.08124701216326, 145.7332416351235, 140.31531645402035, 128.1322695556892, 121.47571298336617, 116.71425315383036, 106.39265839700124, 104.00637663257521, 101.7462964541943, 100.56908853039357, 97.85442368671845, 96.73310699852205, 95.60651311047391, 94.9093080376225, 86.61512583745889, 85.40341012726715, 81.94713849203775, 79.29113099987434, 74.62775384763222, 73.92833195848621, 73.5203135139406, 72.45921052615891, 68.80534797306125, 66.84048364016493, 66.01779630218994, 63.83909093787947, 63.549479256301844, 60.77469226214747, 125.67101493339447, 116.51492278718817, 153.85403479678843, 110.53195140436536, 101.20301951927314, 131.0499529205497, 185.5137026953349, 139.794201142764, 121.74365348736187, 85.40316163458516, 167.35954667010537, 141.1253241259328, 117.73069285166498, 107.68200191319026, 128.00692461546882, 101.98094547808451, 97.68743660442152, 335.56767561609547, 211.1508006364158, 158.4846835675513, 145.26136234769496, 139.25979702337958, 123.45677902153507, 102.29497235029987, 94.66779954730693, 90.23552123913954, 84.24090554987943, 81.4816162471232, 79.42630043214345, 79.17588751325192, 78.58073781826911, 78.15625462579565, 77.73257232063338, 76.87790284297847, 73.35597505690035, 67.41522549808708, 65.6228074017775, 64.90691102709395, 63.985419129102915, 63.063404070852144, 62.32597416152714, 62.13520151224549, 61.10678469944056, 60.88648901871135, 60.614439224880144, 60.32108841207846, 58.93575358552964, 131.7579630845895, 174.18153233051262, 186.7229884276428, 193.63657063635623, 100.81030166208765, 191.01921923320432, 109.60968284408916, 186.17386391797945, 96.534506400499, 201.36344099205633, 131.06008021563932, 246.5591524903267, 131.3897357669592, 134.49332910830793, 142.23557133336817, 91.66236011296073, 123.41647630522951, 140.18496396072604, 164.4803843299427, 93.8484466165685, 92.82591374199343, 99.75000436728205, 579.4714956125166, 270.15328950236983, 144.85012445545988, 111.940846696831, 93.85711137382357, 87.21017962540913, 82.68189172184685, 78.99978860965392, 72.7390191606216, 70.37059880110596, 70.27320046407553, 68.45399708519473, 65.48831867340085, 65.25521820568368, 64.50601644749361, 56.88032852913175, 55.323399116189115, 54.74927029377511, 54.29773277893147, 54.05131703081732, 53.7519276791661, 53.58580613870489, 53.25831668955565, 52.20265583030973, 51.67428710300277, 49.970717094863005, 49.85304234596129, 49.75527981939987, 48.329094448090224, 47.748576335658484, 126.65764341635052, 132.20957864152484, 153.43549012377616, 131.27827572853917, 272.4557084960022, 144.59176712430258, 165.44533634148013, 197.38463042535594, 120.22036983057816, 90.98725314442574, 60.44783972485654, 85.23258574698856, 168.90104774047452, 89.36070602744982, 191.0337017048833, 96.70530991006127, 227.31905475172545, 211.169114724067, 119.28095251926997, 94.6643917782749, 123.5214348539832, 155.6733389524893, 94.65980426804217, 141.80935910737753, 118.94214124820931, 119.6582145376574, 117.30730083279036, 125.1694755425788, 120.71542479973263, 110.53658297957223, 97.61459532964581, 157.5209188228145, 145.91268316085893, 125.8142861254418, 123.86312102207164, 119.23792379998822, 118.73330448139221, 118.48447648611216, 116.9749943922046, 115.31943461343413, 113.6210040718924, 110.4329159933104, 109.88197595706922, 98.85667485771296, 79.46499219965393, 79.36614845578517, 78.09503668144613, 76.96300121296122, 76.35475006974312, 75.97023230519476, 73.61588543508157, 72.71196554897567, 69.12424712778555, 65.56370978488502, 65.20938546731209, 64.77035968412186, 63.16890204694926, 62.635560585662255, 60.91516194911467, 60.652178991925524, 60.422776018297604, 95.2472546983271, 115.97194537993336, 87.99222790435229, 99.58218641567078, 126.8836960344051, 120.06683887673087, 70.39308852740977, 80.78180953424332, 185.22991631005542, 81.75310500965128, 292.831155004036, 166.4100446468589, 209.6917071905259, 116.71325443346267, 140.1591604401458, 99.3712381638867, 111.77286831940712, 105.9745469199638, 96.59644706900336, 93.9867147526182, 109.20896839984857, 144.0320271853721, 131.94209687009536, 125.32879635110828, 109.24947282714464, 102.71883908176471, 87.93856190237169, 72.13339461946627, 71.83013487522645, 70.57011039188689, 70.51204817907185, 69.0705818662844, 68.51887190698416, 66.88110174126906, 66.38260858211841, 60.99856391748536, 60.354160231367395, 59.14411537813625, 59.16808905275421, 59.09581121622806, 58.27260818291624, 57.580758753782774, 57.496850892619904, 57.362922031763425, 57.109729828000546, 56.48404070798318, 52.53681862019996, 51.654974199880435, 51.22645769407971, 49.91651046381137, 49.50461418886098, 148.8090248993143, 145.5996965889817, 111.94330507881325, 79.51971686492895, 79.27965433326595, 107.56887479836097, 78.66973736760251, 99.24106353313019, 93.88668086107882, 77.42393885037038, 96.02455759976701, 83.55343758414762, 97.31918774111851, 109.0794645168038, 112.20719132034792, 71.96483941580526, 74.74658720720208, 71.0555617893062], \"Total\": [1814.0, 1485.0, 580.0, 1082.0, 1609.0, 1332.0, 892.0, 1161.0, 607.0, 663.0, 336.0, 1040.0, 1335.0, 676.0, 902.0, 1165.0, 900.0, 270.0, 816.0, 588.0, 1378.0, 633.0, 255.0, 388.0, 352.0, 508.0, 372.0, 237.0, 340.0, 490.0, 388.95028755466166, 176.41946844026043, 157.93092183123488, 156.53908261732045, 156.23541935158715, 133.58894643276446, 132.67575058205415, 112.26659037664832, 100.54203647622211, 97.44914433408532, 94.1902700368626, 90.8955311822338, 89.19055418955486, 88.37942491499638, 88.00327670252565, 86.94824496874344, 83.99817245271676, 77.39291783127933, 72.65338108683694, 72.25981003893038, 72.16906872568092, 71.89378446360271, 71.66132250101569, 67.63162422027884, 65.05129230576581, 64.32947502292176, 59.30484408206679, 58.10538715485556, 57.23539236249028, 57.13960614639811, 220.60438168487516, 393.8526546057321, 676.8218963016964, 508.8762862049303, 892.2316788533453, 121.57731918793843, 297.6902995970715, 902.6775688385975, 108.78700784899922, 1332.6850883829386, 1485.6148105321258, 227.94437558220568, 254.34763434730493, 245.5029755451444, 816.9000245072463, 1335.3498074501024, 1161.6920442314297, 553.1257659089691, 322.5049201382393, 1055.1837061302397, 698.7576552156952, 1082.3507169096554, 715.9389256794228, 1814.928716314035, 1040.6165692481648, 1165.943929619347, 1378.1631908581605, 1298.7976435435482, 1609.873668731044, 588.5831042746667, 725.6729872900701, 757.5653030675971, 1422.1589686338643, 868.9612138282837, 801.511862958228, 604.6369242562113, 2045.6602973555932, 724.8643953299465, 230.5682229741749, 146.56914738515036, 145.4933098775683, 144.52646335402585, 138.50989627412326, 128.45478700064157, 106.38938886532587, 96.38061654827052, 95.79141123895455, 92.32526653367478, 90.1703960453671, 88.1667152457846, 87.59688847112676, 83.86000354642431, 82.4169088497326, 79.45144975645522, 77.77859445201085, 77.68698347828311, 77.0177834858563, 73.01403062022843, 68.68345558178979, 67.86379159550144, 67.54345795385096, 66.99067519574442, 66.1583248724677, 66.08506431083033, 64.52025370533038, 62.83683340356428, 62.767975049381725, 61.816928567756875, 241.5540036184716, 340.6147925873147, 372.4562547348367, 109.17595438026792, 100.07788061278634, 322.1547749326256, 174.73152877807905, 633.2319683622134, 168.27745461798878, 242.5082758419888, 489.4918572973986, 172.48977159766184, 189.88180415682461, 657.8948793099696, 663.4417662899501, 2045.6602973555932, 824.4688315778193, 190.93185502191278, 448.7757798150873, 900.9310672729242, 295.75130113230887, 490.6135868176072, 1485.6148105321258, 253.22796189949608, 950.3151878822224, 755.9996573195313, 804.7130789089848, 543.4705706451053, 1609.873668731044, 681.2802614228884, 324.58852775760823, 1161.6920442314297, 670.1065730841251, 1422.1589686338643, 1335.3498074501024, 596.9896998467465, 757.5653030675971, 1055.1837061302397, 868.9612138282837, 850.045274800216, 232.30116946389535, 185.17070840673597, 164.36270896572864, 162.49997364449803, 160.9119077212341, 134.79752975901113, 123.68467139997081, 117.06484959717318, 113.1875485183707, 112.68422397947222, 100.57474892054755, 97.34277190043382, 92.61448969206927, 85.76807036999924, 82.7769890857539, 82.34163390003629, 82.2730339796817, 81.37871327096087, 78.23983282774613, 77.9728465994726, 75.92970207531819, 71.85472561291701, 71.39642214319898, 66.97821220985655, 65.39115566050073, 63.04579117862334, 62.21759076638439, 62.06167140791304, 60.20310115047635, 59.40083352226212, 61.69121849854581, 195.69481442393473, 607.2294605723014, 152.01702203466138, 117.19720193785899, 219.92923478376727, 1814.928716314035, 588.1154824623038, 357.1064561498207, 252.01681774836834, 1082.3507169096554, 1609.873668731044, 572.3794897858784, 1040.6165692481648, 789.1793165389402, 179.76572075749917, 1165.943929619347, 571.7768607346295, 1335.3498074501024, 657.8948793099696, 1298.7976435435482, 581.9945524359746, 715.9389256794228, 255.22194546344468, 237.74588814845868, 184.8895098871217, 146.54163421706892, 141.12336521240775, 128.94043538125956, 122.2836113482276, 117.52216087007442, 107.20102836603162, 104.81472130282914, 102.5545329355967, 101.37691398654677, 98.66236893583378, 97.54128314593977, 96.41450259071249, 95.71802682132216, 87.42327050953322, 86.2117272387594, 82.75500535202845, 80.09927204873702, 75.43561011106729, 74.73645212496639, 74.3284881360882, 73.26727463384971, 69.61341296728929, 67.64867000756202, 66.82583629338379, 64.64775917313801, 64.35745462367836, 61.582851016870194, 155.0406651046615, 145.2552983481814, 230.64176937474787, 147.42863668353357, 135.80884329300739, 236.27575144265597, 490.6135868176072, 378.3048272267207, 288.5208590881682, 121.70142254637007, 1422.1589686338643, 816.9000245072463, 501.43696804890686, 345.35859716328787, 1378.1631908581605, 543.4705706451053, 246.42456631707543, 336.3774793507727, 211.9606819855029, 159.29533808152394, 146.07119792668237, 140.06978259120402, 124.26740833640557, 103.1049617951632, 95.47784355500202, 91.04545436875705, 85.05137720588488, 82.29207948182182, 80.23629074852985, 79.98620549169611, 79.39141657449436, 78.96611870907333, 78.54259151893966, 77.68790759646443, 74.16628473440711, 68.22521131110014, 66.43255538182629, 65.71677809846871, 64.79553183600032, 63.87350356920273, 63.13664340528532, 62.945353233227564, 61.916709484216675, 61.69679749257253, 61.42438774902909, 61.1308492646014, 59.745454240854166, 153.78749967026042, 217.88877001564512, 240.1430188988833, 285.29502125267584, 125.95924287466235, 345.35859716328787, 150.47300558730606, 352.3142709785749, 124.30653821548816, 415.54977894728063, 246.47860175727672, 900.9310672729242, 262.2914420597051, 300.41192223063643, 490.7700580749156, 130.9015618983463, 357.1064561498207, 645.9926629175767, 2045.6602973555932, 166.47639958523234, 197.861747243666, 868.9612138282837, 580.2829092954361, 270.9629158325286, 145.68453315605927, 112.75087933394768, 94.66682513768697, 88.02007995017067, 83.4918297835958, 79.80903802996986, 73.54913831387923, 71.18053349135876, 71.08382177291274, 69.26371280039501, 66.29796254139156, 66.06499150117169, 65.31530347926186, 57.69044914711438, 56.13301024605285, 55.55984767919293, 55.107926093609606, 54.86102981523591, 54.562081071329, 54.39577142083986, 54.068262460606874, 53.01265928475509, 52.48482709954643, 50.78092139559921, 50.66281743207583, 50.56581478593839, 49.13895555929034, 48.55868556850624, 143.39731023248729, 166.555404136496, 204.49546615125325, 179.86189101489822, 663.4417662899501, 274.6510483929467, 352.3142709785749, 508.424908038008, 234.07830503109892, 144.0259409675209, 68.00271013008796, 137.21939534536807, 596.9896998467465, 155.28946253881654, 804.7130789089848, 189.22305080297167, 1422.1589686338643, 1378.1631908581605, 333.0498211075492, 187.29329096404535, 470.8383186826905, 1165.943929619347, 204.96495850997397, 1161.6920442314297, 581.9945524359746, 681.2802614228884, 615.1961563497442, 1609.873668731044, 2045.6602973555932, 850.045274800216, 387.6691258322205, 158.32959303669853, 146.7217745694114, 126.62361730728108, 124.67185400444679, 120.04716006043348, 119.54246850379683, 119.29334736772434, 117.78397093057394, 116.12834375417253, 114.42975142717692, 111.24173995165407, 110.69086132686334, 99.66521215116441, 80.2740452878821, 80.1749525421653, 78.903866846621, 77.77164253874392, 77.1631602908828, 76.77879122217617, 74.42459440030643, 73.52166265815113, 69.93301930086977, 66.37250166180027, 66.01798054088879, 65.57912668531688, 63.977789719011255, 63.444588520732104, 61.72399544949082, 61.46108297714666, 61.23141846051108, 97.63802952587253, 121.93978755002006, 93.5315127307242, 117.84684432038206, 170.93024537666219, 158.3152482467503, 74.93977193476884, 98.58540209306871, 490.7700580749156, 102.78960400854777, 2045.6602973555932, 543.4705706451053, 950.3151878822224, 250.2793487212275, 850.045274800216, 226.78724868502496, 415.54977894728063, 349.1971157477652, 221.2413363521293, 194.24829263939267, 508.424908038008, 144.84074324305723, 132.75063567165952, 126.13721374675963, 110.05785927994967, 103.5273233130526, 88.74699943063304, 72.94181905224043, 72.63831151832446, 71.37851262387701, 71.32069506606673, 69.87902356853306, 69.32748347728234, 67.68929183995577, 67.19124949506777, 61.80705570045859, 61.162569197868976, 59.95246602827643, 59.97679850496932, 59.90400998943994, 59.081468676052324, 58.389698158322325, 58.30539814175318, 58.17141442678976, 57.9184307207325, 57.2926874048357, 53.34545513298093, 52.4632544694294, 52.03501038131949, 50.72518748434731, 50.3132679005922, 230.15516261049595, 240.9037625874237, 180.86625896453887, 110.82748395157925, 123.65708970531034, 248.9017276887318, 121.90772020538981, 221.76472674508005, 224.6070371870595, 132.5561313838701, 264.5742937983056, 200.15103194880484, 352.27980966835133, 725.6729872900701, 1298.7976435435482, 144.93263100635482, 755.9996573195313, 789.1793165389402], \"Category\": [\"Default\", \"Default\", \"Default\", \"Default\", \"Default\", \"Default\", \"Default\", \"Default\", \"Default\", \"Default\", \"Default\", \"Default\", \"Default\", \"Default\", \"Default\", \"Default\", \"Default\", \"Default\", \"Default\", \"Default\", \"Default\", \"Default\", \"Default\", \"Default\", \"Default\", \"Default\", \"Default\", \"Default\", \"Default\", \"Default\", \"Topic1\", \"Topic1\", \"Topic1\", \"Topic1\", \"Topic1\", \"Topic1\", \"Topic1\", \"Topic1\", \"Topic1\", \"Topic1\", \"Topic1\", \"Topic1\", \"Topic1\", \"Topic1\", \"Topic1\", \"Topic1\", \"Topic1\", \"Topic1\", \"Topic1\", \"Topic1\", \"Topic1\", \"Topic1\", \"Topic1\", \"Topic1\", \"Topic1\", \"Topic1\", \"Topic1\", \"Topic1\", \"Topic1\", \"Topic1\", \"Topic1\", \"Topic1\", \"Topic1\", \"Topic1\", \"Topic1\", \"Topic1\", \"Topic1\", \"Topic1\", \"Topic1\", \"Topic1\", \"Topic1\", \"Topic1\", \"Topic1\", \"Topic1\", \"Topic1\", \"Topic1\", \"Topic1\", \"Topic1\", \"Topic1\", \"Topic1\", \"Topic1\", \"Topic1\", \"Topic1\", \"Topic1\", \"Topic1\", \"Topic1\", \"Topic1\", \"Topic1\", \"Topic1\", \"Topic1\", \"Topic1\", \"Topic1\", \"Topic1\", \"Topic1\", \"Topic1\", \"Topic1\", \"Topic1\", \"Topic1\", \"Topic2\", \"Topic2\", \"Topic2\", \"Topic2\", \"Topic2\", \"Topic2\", \"Topic2\", \"Topic2\", \"Topic2\", \"Topic2\", \"Topic2\", \"Topic2\", \"Topic2\", \"Topic2\", \"Topic2\", \"Topic2\", \"Topic2\", \"Topic2\", \"Topic2\", \"Topic2\", \"Topic2\", \"Topic2\", \"Topic2\", \"Topic2\", \"Topic2\", \"Topic2\", \"Topic2\", \"Topic2\", \"Topic2\", \"Topic2\", \"Topic2\", \"Topic2\", \"Topic2\", \"Topic2\", \"Topic2\", \"Topic2\", \"Topic2\", \"Topic2\", \"Topic2\", \"Topic2\", \"Topic2\", \"Topic2\", \"Topic2\", \"Topic2\", \"Topic2\", \"Topic2\", \"Topic2\", \"Topic2\", \"Topic2\", \"Topic2\", \"Topic2\", \"Topic2\", \"Topic2\", \"Topic2\", \"Topic2\", \"Topic2\", \"Topic2\", \"Topic2\", \"Topic2\", \"Topic2\", \"Topic2\", \"Topic2\", \"Topic2\", \"Topic2\", \"Topic2\", \"Topic2\", \"Topic2\", \"Topic2\", \"Topic2\", \"Topic2\", \"Topic3\", \"Topic3\", \"Topic3\", \"Topic3\", \"Topic3\", \"Topic3\", \"Topic3\", \"Topic3\", \"Topic3\", \"Topic3\", \"Topic3\", \"Topic3\", \"Topic3\", \"Topic3\", \"Topic3\", \"Topic3\", \"Topic3\", \"Topic3\", \"Topic3\", \"Topic3\", \"Topic3\", \"Topic3\", \"Topic3\", \"Topic3\", \"Topic3\", \"Topic3\", \"Topic3\", \"Topic3\", \"Topic3\", \"Topic3\", \"Topic3\", \"Topic3\", \"Topic3\", \"Topic3\", \"Topic3\", \"Topic3\", \"Topic3\", \"Topic3\", \"Topic3\", \"Topic3\", \"Topic3\", \"Topic3\", \"Topic3\", \"Topic3\", \"Topic3\", \"Topic3\", \"Topic3\", \"Topic3\", \"Topic3\", \"Topic3\", \"Topic3\", \"Topic3\", \"Topic3\", \"Topic4\", \"Topic4\", \"Topic4\", \"Topic4\", \"Topic4\", \"Topic4\", \"Topic4\", \"Topic4\", \"Topic4\", \"Topic4\", \"Topic4\", \"Topic4\", \"Topic4\", \"Topic4\", \"Topic4\", \"Topic4\", \"Topic4\", \"Topic4\", \"Topic4\", \"Topic4\", \"Topic4\", \"Topic4\", \"Topic4\", \"Topic4\", \"Topic4\", \"Topic4\", \"Topic4\", \"Topic4\", \"Topic4\", \"Topic4\", \"Topic4\", \"Topic4\", \"Topic4\", \"Topic4\", \"Topic4\", \"Topic4\", \"Topic4\", \"Topic4\", \"Topic4\", \"Topic4\", \"Topic4\", \"Topic4\", \"Topic4\", \"Topic4\", \"Topic4\", \"Topic4\", \"Topic4\", \"Topic5\", \"Topic5\", \"Topic5\", \"Topic5\", \"Topic5\", \"Topic5\", \"Topic5\", \"Topic5\", \"Topic5\", \"Topic5\", \"Topic5\", \"Topic5\", \"Topic5\", \"Topic5\", \"Topic5\", \"Topic5\", \"Topic5\", \"Topic5\", \"Topic5\", \"Topic5\", \"Topic5\", \"Topic5\", \"Topic5\", \"Topic5\", \"Topic5\", \"Topic5\", \"Topic5\", \"Topic5\", \"Topic5\", \"Topic5\", \"Topic5\", \"Topic5\", \"Topic5\", \"Topic5\", \"Topic5\", \"Topic5\", \"Topic5\", \"Topic5\", \"Topic5\", \"Topic5\", \"Topic5\", \"Topic5\", \"Topic5\", \"Topic5\", \"Topic5\", \"Topic5\", \"Topic5\", \"Topic5\", \"Topic5\", \"Topic5\", \"Topic5\", \"Topic5\", \"Topic6\", \"Topic6\", \"Topic6\", \"Topic6\", \"Topic6\", \"Topic6\", \"Topic6\", \"Topic6\", \"Topic6\", \"Topic6\", \"Topic6\", \"Topic6\", \"Topic6\", \"Topic6\", \"Topic6\", \"Topic6\", \"Topic6\", \"Topic6\", \"Topic6\", \"Topic6\", \"Topic6\", \"Topic6\", \"Topic6\", \"Topic6\", \"Topic6\", \"Topic6\", \"Topic6\", \"Topic6\", \"Topic6\", \"Topic6\", \"Topic6\", \"Topic6\", \"Topic6\", \"Topic6\", \"Topic6\", \"Topic6\", \"Topic6\", \"Topic6\", \"Topic6\", \"Topic6\", \"Topic6\", \"Topic6\", \"Topic6\", \"Topic6\", \"Topic6\", \"Topic6\", \"Topic6\", \"Topic6\", \"Topic6\", \"Topic6\", \"Topic6\", \"Topic6\", \"Topic6\", \"Topic6\", \"Topic6\", \"Topic6\", \"Topic6\", \"Topic6\", \"Topic6\", \"Topic6\", \"Topic6\", \"Topic7\", \"Topic7\", \"Topic7\", \"Topic7\", \"Topic7\", \"Topic7\", \"Topic7\", \"Topic7\", \"Topic7\", \"Topic7\", \"Topic7\", \"Topic7\", \"Topic7\", \"Topic7\", \"Topic7\", \"Topic7\", \"Topic7\", \"Topic7\", \"Topic7\", \"Topic7\", \"Topic7\", \"Topic7\", \"Topic7\", \"Topic7\", \"Topic7\", \"Topic7\", \"Topic7\", \"Topic7\", \"Topic7\", \"Topic7\", \"Topic7\", \"Topic7\", \"Topic7\", \"Topic7\", \"Topic7\", \"Topic7\", \"Topic7\", \"Topic7\", \"Topic7\", \"Topic7\", \"Topic7\", \"Topic7\", \"Topic7\", \"Topic7\", \"Topic7\", \"Topic7\", \"Topic7\", \"Topic7\", \"Topic7\", \"Topic7\", \"Topic7\", \"Topic8\", \"Topic8\", \"Topic8\", \"Topic8\", \"Topic8\", \"Topic8\", \"Topic8\", \"Topic8\", \"Topic8\", \"Topic8\", \"Topic8\", \"Topic8\", \"Topic8\", \"Topic8\", \"Topic8\", \"Topic8\", \"Topic8\", \"Topic8\", \"Topic8\", \"Topic8\", \"Topic8\", \"Topic8\", \"Topic8\", \"Topic8\", \"Topic8\", \"Topic8\", \"Topic8\", \"Topic8\", \"Topic8\", \"Topic8\", \"Topic8\", \"Topic8\", \"Topic8\", \"Topic8\", \"Topic8\", \"Topic8\", \"Topic8\", \"Topic8\", \"Topic8\", \"Topic8\", \"Topic8\", \"Topic8\", \"Topic8\", \"Topic8\", \"Topic8\", \"Topic8\", \"Topic8\", \"Topic8\"], \"logprob\": [30.0, 29.0, 28.0, 27.0, 26.0, 25.0, 24.0, 23.0, 22.0, 21.0, 20.0, 19.0, 18.0, 17.0, 16.0, 15.0, 14.0, 13.0, 12.0, 11.0, 10.0, 9.0, 8.0, 7.0, 6.0, 5.0, 4.0, 3.0, 2.0, 1.0, -5.0508, -5.8439, -5.9552, -5.9641, -5.966, -6.1235, -6.1304, -6.2986, -6.4097, -6.4412, -6.4755, -6.5114, -6.5306, -6.5398, -6.5441, -6.5563, -6.5911, -6.6738, -6.7377, -6.7432, -6.7445, -6.7484, -6.7516, -6.8102, -6.8496, -6.8609, -6.9433, -6.964, -6.9793, -6.981, -5.6482, -5.1046, -4.5835, -4.8799, -4.3632, -6.2657, -5.4361, -4.4528, -6.3749, -4.1212, -4.0608, -5.7216, -5.6339, -5.6701, -4.6378, -4.2302, -4.3647, -4.9937, -5.452, -4.4701, -4.8122, -4.4801, -4.8168, -4.0854, -4.5414, -4.4746, -4.3625, -4.4671, -4.319, -5.0588, -4.9318, -4.9078, -4.5175, -4.8685, -4.9549, -5.1293, -4.5349, -5.1088, -5.2371, -5.6921, -5.6995, -5.7063, -5.749, -5.8248, -6.0146, -6.1142, -6.1204, -6.1576, -6.1816, -6.2041, -6.2106, -6.2547, -6.2722, -6.3092, -6.3307, -6.3319, -6.3406, -6.3946, -6.4565, -6.4686, -6.4734, -6.4817, -6.4944, -6.4955, -6.5198, -6.5465, -6.5476, -6.5631, -5.2372, -4.9128, -4.8802, -6.0417, -6.1245, -5.0875, -5.6772, -4.6092, -5.7122, -5.441, -4.9408, -5.7391, -5.6722, -4.8154, -4.8169, -4.1377, -4.7453, -5.7207, -5.2061, -4.8141, -5.5033, -5.2204, -4.6093, -5.6011, -4.9607, -5.092, -5.139, -5.3013, -4.9087, -5.2506, -5.5112, -5.1655, -5.3348, -5.1745, -5.2044, -5.3917, -5.3749, -5.3203, -5.3561, -5.4019, -4.8721, -5.0998, -5.2195, -5.231, -5.2409, -5.4189, -5.5055, -5.5609, -5.5948, -5.5993, -5.7138, -5.7468, -5.797, -5.8745, -5.9103, -5.9157, -5.9165, -5.9276, -5.9673, -5.9708, -5.9976, -6.0534, -6.0598, -6.1245, -6.1487, -6.1857, -6.1991, -6.2017, -6.2325, -6.2461, -6.2086, -5.1759, -4.33, -5.4976, -5.7255, -5.2621, -3.7682, -4.5699, -5.0451, -5.3075, -4.637, -4.4353, -5.1149, -4.9775, -5.0867, -5.6294, -5.0903, -5.402, -5.2632, -5.4073, -5.3551, -5.5406, -5.5285, -4.7041, -4.7752, -5.0276, -5.2612, -5.2991, -5.39, -5.4433, -5.4833, -5.5759, -5.5986, -5.6205, -5.6322, -5.6595, -5.6711, -5.6828, -5.6901, -5.7816, -5.7956, -5.837, -5.8699, -5.9305, -5.9399, -5.9455, -5.96, -6.0117, -6.0407, -6.0531, -6.0867, -6.0912, -6.1359, -5.4094, -5.485, -5.207, -5.5377, -5.6259, -5.3674, -5.0199, -5.3029, -5.4411, -5.7956, -5.1229, -5.2934, -5.4746, -5.5638, -5.3909, -5.6182, -5.6613, -4.4148, -4.8781, -5.165, -5.2521, -5.2943, -5.4147, -5.6028, -5.6803, -5.7282, -5.797, -5.8303, -5.8558, -5.859, -5.8665, -5.8719, -5.8774, -5.8884, -5.9353, -6.0198, -6.0467, -6.0577, -6.072, -6.0865, -6.0983, -6.1013, -6.118, -6.1216, -6.1261, -6.131, -6.1542, -5.3497, -5.0705, -5.001, -4.9647, -5.6174, -4.9783, -5.5337, -5.004, -5.6607, -4.9255, -5.355, -4.723, -5.3525, -5.3291, -5.2732, -5.7125, -5.4151, -5.2877, -5.1278, -5.689, -5.6999, -5.628, -3.8577, -4.6208, -5.2441, -5.5019, -5.678, -5.7515, -5.8048, -5.8504, -5.9329, -5.966, -5.9674, -5.9937, -6.038, -6.0415, -6.0531, -6.1789, -6.2066, -6.2171, -6.2253, -6.2299, -6.2354, -6.2385, -6.2447, -6.2647, -6.2749, -6.3084, -6.3107, -6.3127, -6.3418, -6.3539, -5.3783, -5.3354, -5.1865, -5.3425, -4.6123, -5.2459, -5.1112, -4.9347, -5.4305, -5.7091, -6.118, -5.7744, -5.0905, -5.7271, -4.9674, -5.6482, -4.7935, -4.8672, -5.4383, -5.6695, -5.4034, -5.1721, -5.6695, -5.2653, -5.4412, -5.4352, -5.455, -5.3902, -5.4264, -5.5145, -5.6388, -5.1528, -5.2294, -5.3776, -5.3932, -5.4312, -5.4355, -5.4376, -5.4504, -5.4647, -5.4795, -5.508, -5.513, -5.6187, -5.837, -5.8383, -5.8544, -5.869, -5.877, -5.882, -5.9135, -5.9259, -5.9765, -6.0293, -6.0348, -6.0415, -6.0666, -6.075, -6.1029, -6.1072, -6.111, -5.6559, -5.459, -5.7351, -5.6114, -5.3691, -5.4243, -5.9583, -5.8206, -4.9908, -5.8087, -4.5328, -5.0979, -4.8667, -5.4526, -5.2696, -5.6135, -5.4959, -5.5492, -5.6418, -5.6692, -5.5191, -5.0383, -5.1259, -5.1774, -5.3147, -5.3763, -5.5317, -5.7298, -5.734, -5.7517, -5.7525, -5.7732, -5.7812, -5.8054, -5.8129, -5.8975, -5.9081, -5.9283, -5.9279, -5.9291, -5.9432, -5.9551, -5.9566, -5.9589, -5.9633, -5.9743, -6.0468, -6.0637, -6.072, -6.098, -6.1062, -5.0056, -5.0274, -5.2903, -5.6323, -5.6353, -5.3302, -5.643, -5.4108, -5.4662, -5.659, -5.4437, -5.5828, -5.4303, -5.3162, -5.288, -5.7321, -5.6942, -5.7448], \"loglift\": [30.0, 29.0, 28.0, 27.0, 26.0, 25.0, 24.0, 23.0, 22.0, 21.0, 20.0, 19.0, 18.0, 17.0, 16.0, 15.0, 14.0, 13.0, 12.0, 11.0, 10.0, 9.0, 8.0, 7.0, 6.0, 5.0, 4.0, 3.0, 2.0, 1.0, 1.4799, 1.4774, 1.4768, 1.4768, 1.4768, 1.4759, 1.4758, 1.4747, 1.4739, 1.4736, 1.4733, 1.473, 1.4728, 1.4728, 1.4727, 1.4726, 1.4723, 1.4714, 1.4708, 1.4707, 1.4707, 1.4706, 1.4706, 1.4699, 1.4694, 1.4693, 1.4682, 1.4679, 1.4677, 1.4677, 1.4496, 1.4136, 1.3932, 1.382, 1.3373, 1.4279, 1.362, 1.236, 1.4299, 1.1781, 1.1297, 1.3435, 1.3216, 1.3208, 1.1508, 1.067, 1.0719, 1.1849, 1.2661, 1.0626, 1.1327, 1.0272, 1.1038, 0.905, 1.0052, 0.9583, 0.9031, 0.8578, 0.7913, 1.0576, 0.9752, 0.9563, 0.7168, 0.8584, 0.8528, 0.9603, 0.3358, 0.7994, 1.8166, 1.8145, 1.8145, 1.8145, 1.8142, 1.8138, 1.8124, 1.8116, 1.8116, 1.8113, 1.8109, 1.8109, 1.8108, 1.8104, 1.8102, 1.8098, 1.8096, 1.8096, 1.8095, 1.8089, 1.8082, 1.8081, 1.808, 1.8079, 1.8078, 1.8077, 1.8074, 1.8071, 1.8071, 1.8069, 1.7698, 1.7506, 1.6938, 1.7595, 1.7637, 1.6317, 1.6538, 1.4342, 1.6564, 1.5622, 1.36, 1.6047, 1.5755, 1.1898, 1.1799, 0.733, 1.0341, 1.5215, 1.1815, 0.8767, 1.3014, 1.0781, 0.5813, 1.3588, 0.6767, 0.7742, 0.6647, 0.8949, 0.2016, 0.7196, 1.2004, 0.2711, 0.6519, 0.0598, 0.0928, 0.7105, 0.4892, 0.2124, 0.3708, 0.347, 2.174, 2.1731, 2.1726, 2.1725, 2.1725, 2.1715, 2.1709, 2.1706, 2.1703, 2.1703, 2.1694, 2.1692, 2.1687, 2.168, 2.1677, 2.1676, 2.1676, 2.1675, 2.1671, 2.1671, 2.1668, 2.1662, 2.1661, 2.1653, 2.165, 2.1646, 2.1644, 2.1644, 2.164, 2.1638, 2.1634, 2.0418, 1.7552, 1.9726, 2.0049, 1.8388, 1.2221, 1.5473, 1.571, 1.6571, 0.8703, 0.6749, 1.0295, 0.5691, 0.7365, 1.6732, 0.3426, 0.7434, 0.034, 0.5979, -0.0302, 0.5871, 0.3921, 2.248, 2.2477, 2.2468, 2.2456, 2.2454, 2.2449, 2.2445, 2.2443, 2.2436, 2.2434, 2.2432, 2.2431, 2.2429, 2.2428, 2.2427, 2.2427, 2.2419, 2.2417, 2.2413, 2.241, 2.2404, 2.2403, 2.2402, 2.2401, 2.2395, 2.2391, 2.239, 2.2386, 2.2385, 2.2379, 2.0411, 2.0307, 1.8463, 1.9631, 1.957, 1.6617, 1.2786, 1.2556, 1.3883, 1.897, 0.1114, 0.4953, 0.8021, 1.0857, -0.1253, 0.578, 1.3259, 2.2611, 2.2597, 2.2584, 2.258, 2.2577, 2.257, 2.2557, 2.255, 2.2546, 2.254, 2.2536, 2.2534, 2.2534, 2.2533, 2.2532, 2.2532, 2.2531, 2.2526, 2.2516, 2.2513, 2.2511, 2.251, 2.2508, 2.2506, 2.2506, 2.2504, 2.2503, 2.2503, 2.2502, 2.2499, 2.1089, 2.0397, 2.0119, 1.876, 2.0408, 1.6713, 1.9467, 1.6257, 2.0107, 1.539, 1.6319, 0.9677, 1.5722, 1.4599, 1.025, 1.9072, 1.2011, 0.7357, -0.2571, 1.6904, 1.5067, 0.0989, 2.273, 2.2714, 2.2686, 2.2671, 2.2658, 2.2651, 2.2646, 2.2642, 2.2633, 2.2629, 2.2629, 2.2626, 2.2621, 2.262, 2.2619, 2.2602, 2.2598, 2.2597, 2.2595, 2.2595, 2.2594, 2.2594, 2.2593, 2.259, 2.2588, 2.2583, 2.2582, 2.2582, 2.2577, 2.2575, 2.1502, 2.0434, 1.9871, 1.9595, 1.3844, 1.6328, 1.5185, 1.3282, 1.608, 1.8151, 2.1566, 1.7982, 1.0118, 1.7217, 0.8363, 1.6031, 0.4408, 0.3985, 1.2475, 1.592, 0.9363, 0.2608, 1.5018, 0.1712, 0.6865, 0.535, 0.6172, -0.2799, -0.5557, 0.2344, 0.8952, 2.2767, 2.2763, 2.2754, 2.2753, 2.275, 2.275, 2.275, 2.2749, 2.2748, 2.2747, 2.2745, 2.2745, 2.2737, 2.2717, 2.2717, 2.2715, 2.2714, 2.2713, 2.2712, 2.2709, 2.2707, 2.2702, 2.2695, 2.2695, 2.2694, 2.2691, 2.269, 2.2686, 2.2686, 2.2685, 2.257, 2.2316, 2.2208, 2.1134, 1.9838, 2.0053, 2.2192, 2.0826, 1.3074, 2.0528, 0.3379, 1.0983, 0.7707, 1.519, 0.4793, 1.4567, 0.9687, 1.0894, 1.4531, 1.5558, 0.7438, 2.4803, 2.4798, 2.4794, 2.4785, 2.478, 2.4767, 2.4747, 2.4747, 2.4745, 2.4745, 2.4742, 2.4741, 2.4739, 2.4738, 2.4727, 2.4726, 2.4723, 2.4723, 2.4723, 2.4721, 2.4719, 2.4719, 2.4719, 2.4718, 2.4717, 2.4706, 2.4703, 2.4702, 2.4698, 2.4697, 2.0498, 1.9823, 2.0061, 2.1539, 2.0413, 1.6469, 2.0479, 1.6818, 1.6136, 1.9482, 1.4724, 1.6123, 1.1994, 0.5908, 0.037, 1.7858, 0.1719, 0.0783]}, \"token.table\": {\"Topic\": [7, 5, 7, 4, 5, 7, 5, 1, 3, 1, 3, 4, 5, 6, 7, 1, 2, 3, 4, 6, 8, 2, 8, 2, 1, 8, 2, 5, 7, 3, 7, 2, 1, 2, 3, 4, 7, 8, 3, 8, 6, 4, 8, 6, 2, 7, 2, 1, 1, 6, 7, 8, 3, 6, 7, 6, 6, 1, 7, 2, 2, 4, 7, 2, 7, 6, 5, 8, 1, 2, 3, 4, 7, 7, 3, 4, 5, 8, 1, 4, 7, 1, 1, 2, 3, 4, 5, 6, 8, 4, 5, 3, 7, 6, 2, 5, 7, 8, 6, 2, 3, 4, 5, 6, 7, 2, 3, 5, 8, 5, 4, 6, 1, 2, 4, 5, 1, 3, 4, 5, 8, 1, 2, 5, 6, 7, 1, 3, 7, 7, 1, 7, 5, 5, 6, 1, 4, 6, 8, 2, 4, 2, 3, 4, 5, 5, 6, 7, 1, 5, 7, 4, 3, 3, 6, 8, 3, 7, 5, 3, 1, 2, 7, 3, 1, 1, 3, 5, 8, 6, 2, 8, 3, 7, 7, 2, 7, 5, 1, 2, 5, 8, 4, 6, 3, 7, 2, 4, 6, 8, 1, 2, 3, 6, 6, 8, 8, 8, 2, 7, 8, 6, 4, 1, 2, 3, 4, 6, 8, 1, 5, 5, 2, 3, 7, 4, 7, 2, 3, 4, 6, 2, 6, 7, 1, 2, 3, 6, 7, 8, 1, 5, 2, 1, 2, 3, 4, 1, 2, 3, 4, 6, 8, 1, 2, 3, 6, 7, 3, 3, 1, 2, 3, 6, 7, 8, 1, 2, 3, 2, 5, 7, 2, 3, 4, 6, 8, 6, 3, 3, 7, 3, 1, 6, 6, 5, 7, 1, 2, 2, 3, 6, 6, 1, 2, 3, 5, 8, 1, 8, 2, 5, 5, 6, 8, 3, 2, 3, 8, 1, 2, 3, 6, 3, 4, 5, 4, 4, 3, 8, 4, 2, 5, 6, 2, 4, 5, 6, 7, 1, 2, 3, 1, 2, 3, 4, 1, 3, 6, 7, 7, 3, 8, 2, 3, 1, 2, 3, 6, 6, 7, 6, 2, 3, 8, 6, 6, 1, 2, 3, 4, 6, 7, 1, 2, 3, 6, 1, 1, 4, 6, 8, 4, 4, 1, 2, 3, 2, 3, 7, 1, 1, 2, 3, 6, 7, 8, 2, 6, 8, 4, 2, 8, 5, 6, 1, 2, 5, 6, 7, 2, 4, 6, 7, 4, 1, 3, 4, 5, 6, 8, 3, 2, 3, 6, 8, 5, 7, 4, 8, 5, 2, 6, 2, 5, 1, 8, 1, 7, 4, 8, 3, 7, 1, 1, 2, 3, 4, 5, 6, 7, 4, 3, 8, 1, 2, 5, 6, 7, 2, 3, 4, 6, 7, 1, 2, 3, 4, 5, 6, 7, 4, 7, 2, 6, 8, 1, 2, 2, 4, 3, 5, 2, 3, 2, 6, 7, 8, 1, 2, 3, 4, 6, 4, 7, 1, 8, 6, 7, 4, 7, 1, 2, 3, 4, 5, 6, 7, 8, 6, 5, 6, 1, 4, 6, 7, 8, 5, 4, 3, 3, 1, 1, 6, 8, 2, 3, 1, 1, 8, 2, 6, 7, 7, 5, 6, 7, 2, 3, 6, 4, 2, 6, 1, 1, 2, 3, 4, 6, 8, 7, 8, 5, 6, 8, 7, 4, 1, 2, 3, 6, 7, 1, 4, 5, 6, 7, 8, 5, 2, 7, 1, 2, 3, 4, 8, 1, 6, 7, 1, 5, 1, 2, 3, 4, 6, 7, 8, 3, 3, 4, 8, 5, 5, 6, 5, 4, 2, 4, 4, 4, 4, 5, 2, 1, 2, 1, 2, 8, 3, 6, 2, 3, 3, 7, 7, 2, 8, 4, 7, 2, 5, 1, 6, 8, 8, 5, 8, 7, 8, 2, 8, 8, 5, 2, 5, 1, 3, 4, 5, 6, 1, 5, 3, 6, 1, 3, 6, 8, 1, 2, 2, 6, 8, 1, 2, 3, 8, 1, 2, 3, 6, 4, 1, 2, 3, 7, 8, 7, 1, 2, 3, 6, 7, 1, 2, 3, 8, 1, 6, 7, 2, 7, 1, 3, 4, 1, 2, 3, 4, 6, 7, 4, 5, 6, 8, 2, 6, 4, 3, 5, 2, 8, 4, 8, 2, 8, 6, 7, 5, 2, 1, 2, 3, 4, 5, 6, 7, 8, 4, 2, 3, 5, 7, 1, 2, 8, 6, 1, 2, 3, 6, 1, 4, 6, 8, 4, 1, 2, 3, 4, 6, 8, 8, 1, 1, 2, 3, 4, 6, 8, 2, 3, 5, 8, 2, 3, 7, 8, 3, 5, 1, 7, 2, 8, 3, 8, 2, 4, 5, 6, 8, 1, 3, 4, 6, 7, 8, 7, 4, 1, 2, 3, 5, 6, 7, 8, 2, 3, 5, 6, 7, 8, 3, 1, 1, 1, 2, 3, 4, 5, 6, 7, 8, 3, 1, 2, 3, 4, 6, 7, 1, 7, 6, 6], \"Freq\": [0.9885447078483746, 0.9877654021133709, 0.9954621273043261, 0.1905378236028424, 0.8018466743286284, 0.9937586416928922, 0.9842747315901877, 0.9784155867288173, 0.9932520555942722, 0.26124918653230034, 0.04985671498708022, 0.23532369473901862, 0.14957014496124066, 0.14757587636175745, 0.15754721935917348, 0.3092812454113166, 0.19415989295265984, 0.20446926779970373, 0.037801041105827576, 0.20446926779970373, 0.05154687423521943, 0.849787039652033, 0.14856416777133444, 0.9900491963311905, 0.9873631317077999, 0.9774371309256022, 0.9867847111352119, 0.7803290268758698, 0.2172049868623555, 0.9800159605155684, 0.9929046400844243, 0.9961168677357809, 0.3759996595708057, 0.4560511999955579, 0.021832238297659685, 0.06792251914827457, 0.006064510638238802, 0.07156122553121787, 0.994018217654211, 0.9903881532234892, 0.9802423378893451, 0.6984306199675991, 0.29580590963333614, 0.9888103298971119, 0.9867850846935473, 0.9798891077248972, 0.9931859626346945, 0.9800557577614675, 0.9343595776151058, 0.0634755147836349, 0.8216226569074866, 0.17243932305465767, 0.8447300649079692, 0.08532626918262315, 0.06826101534609852, 0.9933403682668965, 0.9847529051494281, 0.9901476874540909, 0.9950750316525255, 0.983580793600703, 0.31747816694931424, 0.2425180441973928, 0.43653247955530705, 0.7437208420967942, 0.2566360652305839, 0.9941092465589676, 0.9876383282619893, 0.9776110243072267, 0.4617185796235404, 0.2553443660039276, 0.23785502586667231, 0.024485076192157444, 0.02098720816470638, 0.9902836489551502, 0.0028955410643134887, 0.31271843494585677, 0.5530483432838764, 0.130299347894107, 0.9906608154460166, 0.04100384378600779, 0.9512891758353808, 0.9953909874000996, 0.12010215128469656, 0.14412258154163587, 0.15913535045222296, 0.05404596807811345, 0.16213790423434038, 0.35730390007197227, 0.9909843121392965, 0.9944457930201166, 0.9877224275585261, 0.020483821823442595, 0.9729815366135233, 0.9896983205132116, 0.3790525508078011, 0.4700251630016733, 0.14656698631234974, 0.9849090237932435, 0.9929560842806642, 0.5319998847948111, 0.2067199552345552, 0.08967998057969673, 0.009119998025053904, 0.10183997794643528, 0.0607999868336927, 0.9824916233187496, 0.9944643795207514, 0.9845918756089493, 0.9822707643626242, 0.994995241438117, 0.24450419826431724, 0.7481828466888107, 0.24400338607094832, 0.07625105814717135, 0.17918998664585267, 0.4994444308639724, 0.6021996238717922, 0.04134093527723973, 0.08681596408220345, 0.11713264995217926, 0.15020539817397105, 0.00611284235995924, 0.27100267795819294, 0.28934120503807065, 0.057053195359619564, 0.37695861219748644, 0.9468042373494469, 0.04596137074511878, 0.9942949719279265, 0.9882704377087308, 0.9881167360721016, 0.9929924910682205, 0.985194473481341, 0.9842988597449742, 0.9838796391708792, 0.7185701828740648, 0.1726037406903631, 0.08079324032314869, 0.026931080107716228, 0.8470137074572849, 0.1487997053641176, 0.19670533929070128, 0.04748059913913479, 0.7529066434919945, 0.9819970884738202, 0.5314862996869971, 0.24748598687715134, 0.21908595559616678, 0.9955913535626177, 0.9887060994915269, 0.9943877109876263, 0.9904111934870337, 0.9953462858315307, 0.5951983734266924, 0.16665554455947384, 0.23807934937067693, 0.19457220594348085, 0.7977460443682715, 0.9875228291369418, 0.9881048100089974, 0.9920925782596902, 0.991936583081238, 0.9891582607390706, 0.9845267164938138, 0.9957068637257901, 0.9838390250446626, 0.5460556555107186, 0.34443510578368397, 0.10641084568926823, 0.9798953404320166, 0.5795623378533006, 0.419683072238597, 0.9877557523616256, 0.9847167318016817, 0.9853451420311428, 0.9336059587561292, 0.06458909148627308, 0.989800959452099, 0.3881837749179249, 0.5391441318304512, 0.015404118052298606, 0.0585356485987347, 0.9951889650869605, 0.9869170830666005, 0.9940834987077513, 0.9866583866934776, 0.4769537703141371, 0.37911709948046796, 0.1447167422748023, 0.9937736522856924, 0.6541132377125405, 0.2395583545908265, 0.10193972535779851, 0.005096986267889925, 0.7925290727392006, 0.20413627631161227, 0.9952762820622264, 0.9870880783550804, 0.45355880300102125, 0.1814235212004085, 0.362847042400817, 0.9925337219922861, 0.9944507276459557, 0.33344779677077674, 0.19752003248205247, 0.05309678292528292, 0.08495485268045268, 0.26336004330940327, 0.06796388214436214, 0.9875679869926001, 0.9820416633740672, 0.9849813658249751, 0.7846986743234224, 0.1316608513965474, 0.08426294489379033, 0.05337619660067542, 0.9340834405118199, 0.5950945924030397, 0.09805535897550086, 0.23668534925120896, 0.06762438550034543, 0.9852117448756905, 0.25156460698482663, 0.7429931415598368, 0.6443741417190665, 0.008515957820075769, 0.002838652606691923, 0.034063831280303075, 0.034063831280303075, 0.2753493028491165, 0.9890941448089686, 0.9930917543151244, 0.9872716867832846, 0.7034124812108571, 0.28944245638341487, 0.006731219915893369, 0.9876419609661428, 0.7821175848075558, 0.18278952052867803, 0.002215630551862764, 0.002215630551862764, 0.003323445827794146, 0.02658756662235317, 0.6605010874897344, 0.1774815847336361, 0.11757218904295724, 0.0052420721229344, 0.03968997464507474, 0.9906134652355021, 0.9909037631634313, 0.5049220272895356, 0.26487712906992034, 0.0772558293120601, 0.06897841902862509, 0.009656978664007512, 0.0744966925509151, 0.8652461219401428, 0.058280826866434494, 0.07621338897918356, 0.24545795754818675, 0.4836965634037798, 0.2695224631901659, 0.5281033662236697, 0.13815362323150854, 0.19831729786458482, 0.13369705474016955, 0.0022282842456694926, 0.9817550525476912, 0.9936776803587938, 0.8738095616042323, 0.12263993847076944, 0.9939279523316692, 0.9885995528789571, 0.9964463187533612, 0.997789165810529, 0.9988778102758209, 0.9924979685548642, 0.9946088571982497, 0.9866824383369259, 0.24030492651014015, 0.2293819753051338, 0.5279426415753079, 0.9953012640310555, 0.01838641412686852, 0.6312668850224858, 0.14504837811196278, 0.10827554985822574, 0.09601794044031339, 0.9809761674608652, 0.9857036016954873, 0.9521680309769535, 0.045538471046723865, 0.41857315324117655, 0.5731232405917648, 0.9943455210751976, 0.9969232386117685, 0.26372119221451007, 0.7138659858220359, 0.022734585535733626, 0.5012815698986519, 0.19815219429698877, 0.22237769767499055, 0.07764584416026206, 0.9910447982951486, 0.2658284111749969, 0.7310281307312414, 0.9942254048131125, 0.995700827369591, 0.9944475909114342, 0.980992145799044, 0.9859447516298615, 0.32765564098507977, 0.15854305208955474, 0.5126225350895603, 0.07318324121862066, 0.06342547572280458, 0.17563977892468957, 0.46349386105126417, 0.21954972365586198, 0.6347295652573068, 0.09423932409933815, 0.27070707805005956, 0.7055378875925429, 0.20035558674027587, 0.030053338011041382, 0.06296889868980099, 0.4410116609074128, 0.12313961960401784, 0.1288670437716466, 0.30355348088432305, 0.991169039379011, 0.3943483446653292, 0.606051140222506, 0.17761168873472427, 0.8156981260409559, 0.5926528561502911, 0.1140706655108375, 0.15952739687981787, 0.13379717157662144, 0.9880318292313224, 0.9849259635492116, 0.984621756082061, 0.25588860771767047, 0.60634474437448, 0.13906989549873397, 0.9899235202654706, 0.9798156157831831, 0.17024701547754398, 0.31439777310816514, 0.10687038927787432, 0.08698752615640933, 0.2373516785124883, 0.08450216826622621, 0.5614545578790013, 0.013223659851909748, 0.3845881073597085, 0.04022196538289215, 0.9948783194203845, 0.6680955039790626, 0.04643134776688466, 0.2527928933974831, 0.030954231844589772, 0.9905354979958539, 0.9945927993651442, 0.5643109261668883, 0.1170552075949892, 0.3179708624222095, 0.6318417555463428, 0.24483868027420783, 0.12241934013710391, 0.9910068729484729, 0.5937447509373012, 0.13396469310841613, 0.12073361230758492, 0.06450151890405222, 0.056232093403532704, 0.029769931801870254, 0.527551953741538, 0.4099832326219952, 0.06179894315258016, 0.9963038885163065, 0.994941464615074, 0.9801093461164936, 0.5279377400278831, 0.4683318661537672, 0.53627249707383, 0.23476306738854358, 0.11507993499438411, 0.06904796099663046, 0.0448811746478098, 0.3956055978243545, 0.18768265571201936, 0.10856153614714845, 0.30544432204112953, 0.9899801759345873, 0.1963969990335593, 0.023301338868388394, 0.22302710059743178, 0.44605420119486355, 0.07989030469161734, 0.029958864259356507, 0.9977932405226767, 0.22561487690481996, 0.6554359197672872, 0.11692449824994319, 0.993524188103377, 0.70281819915521, 0.29793380181579554, 0.993286508899208, 0.994195395409934, 0.993488804106057, 0.9917381816520027, 0.9768217385508715, 0.805844884090995, 0.1913156919064952, 0.9459001133445706, 0.04935131026145586, 0.5604739242880034, 0.4384352472252929, 0.9968626664617942, 0.9912124675672915, 0.24002741631540864, 0.7579813146802379, 0.9907715560090826, 0.21577023190571093, 0.3331962084530366, 0.15265376951152337, 0.014678247068415709, 0.08806948241049425, 0.1761389648209885, 0.020549545895781993, 0.9951583770880882, 0.9942853556512322, 0.9933259090111124, 0.28193055964741676, 0.38959695447339876, 0.27416081981461393, 0.00887970266606037, 0.04661843899681695, 0.31966510933003733, 0.5322084001079876, 0.05781177509160249, 0.006801385304894411, 0.08161662365873293, 0.011725495434505778, 0.32998894294251974, 0.06365268950160279, 0.13233059133227948, 0.038526627856233266, 0.2830869612044966, 0.14070594521406932, 0.8054783634779876, 0.19276405279815087, 0.9975355538293821, 0.4073745924556373, 0.5808859929460013, 0.9700623277088427, 0.027198009188098397, 0.9963573220999932, 0.9952122241634597, 0.9895081346498289, 0.9815011687518591, 0.9966093982054336, 0.9933650804089904, 0.11157810403876829, 0.8856512008077233, 0.35193648963278173, 0.6473893451269689, 0.5608914859485291, 0.13278543587138528, 0.06022508840068295, 0.092877244762499, 0.15310233316318195, 0.9920398354254312, 0.9962444082782927, 0.9825655500858409, 0.9911699250434541, 0.9834149389804436, 0.9950806581263782, 0.7436923660566981, 0.2503518856032449, 0.31774581578390565, 0.33729940444753065, 0.045950933359518664, 0.012709832631356227, 0.08016971352086236, 0.05914960570746552, 0.14323003696105285, 0.0034218780161343687, 0.9884108268164702, 0.9950697872467474, 0.9907625284041258, 0.9941055125846118, 0.21360373398703975, 0.5126489615688954, 0.20505958462755816, 0.06835319487585272, 0.9926666040815244, 0.9924985204441948, 0.9964787123507802, 0.9853950683725088, 0.9887180115437818, 0.2966895701915091, 0.2000929659431108, 0.4967825361346199, 0.9867669421217279, 0.9834121967688474, 0.9976223234092644, 0.5664886351304476, 0.4339061886105556, 0.986111838894325, 0.6318306229328596, 0.36104607024734836, 0.9933439930375921, 0.6799978462581756, 0.035051435374132765, 0.2839166265304754, 0.9911570323942986, 0.9943987821202184, 0.9843052560599804, 0.9911882934460127, 0.9964595558385901, 0.9927242245030791, 0.9949230776886341, 0.6577053796112547, 0.19996518025644777, 0.039803495596070174, 0.011372427313162906, 0.0634960524984929, 0.02748336600681036, 0.9979183105926248, 0.994697106874844, 0.9890929208763901, 0.9884946315583841, 0.9949064334305442, 0.9900780989888506, 0.9827034014820005, 0.46489237139740286, 0.18205575383394795, 0.0617689164793752, 0.19018324284439206, 0.09915536592741808, 0.05048447425358436, 0.1468639251013363, 0.7985725927385162, 0.9804222861210674, 0.27971401041229055, 0.7218426075155885, 0.9885172260822304, 0.9964769499630295, 0.9898566881585493, 0.6844159221193236, 0.11872521097988264, 0.16761206255983432, 0.006983835939993097, 0.02095150781997929, 0.8686329701896656, 0.12722402088636517, 0.9912770942693994, 0.9949067513913462, 0.9863244769678815, 0.532743206599618, 0.23081380145416708, 0.11228779530202722, 0.01871463255033787, 0.04241983378076584, 0.02370520123042797, 0.03992454944072079, 0.9804301203022113, 0.4443960049175146, 0.5544369204208992, 0.9841426863728243, 0.9923625026653593, 0.8583272390995658, 0.13655206076584, 0.9930908916705353, 0.9908766201051313, 0.18704770119776837, 0.8126900121006487, 0.9927064355066056, 0.9955805890268242, 0.9955569156811906, 0.9954676406185152, 0.9963399652025562, 0.8061892509688006, 0.19224512907717553, 0.9039525174783891, 0.08253479507411379, 0.011790685010587684, 0.10293707392851147, 0.8823177765300982, 0.9963187014946995, 0.9943328760801601, 0.9958510186906051, 0.993325533184483, 0.994611020989366, 0.9434311848673508, 0.05495715640003985, 0.6677021270582608, 0.32951533543134953, 0.7711077048844455, 0.22267281317518747, 0.34980477708117425, 0.6194459594145795, 0.029150398090097857, 0.9915828204285722, 0.3558227037758795, 0.6388634908703291, 0.35272581529335234, 0.6480311490273217, 0.8806403324694158, 0.11544979968349048, 0.9874207806056282, 0.9892831365637047, 0.22070181445631212, 0.7787026283647239, 0.5557338660451712, 0.11145637424861372, 0.01083603638528189, 0.2167207277056378, 0.10526435345702408, 0.4324937359252387, 0.5646445996801728, 0.2668714296794761, 0.7283366101669034, 0.8513135107055676, 0.14256446351528645, 0.004073270386151041, 0.9955034781171207, 0.9965562426436451, 0.9897447709270819, 0.49120819825661144, 0.507225856895414, 0.9841129799760496, 0.7430498185608668, 0.1663274533031624, 0.036158142022426606, 0.05423721303363992, 0.5913681608515078, 0.26400364323728026, 0.09108125691686168, 0.052800728647456045, 0.9862761293502373, 0.9145685199937414, 0.004432480710793578, 0.07091969137269724, 0.007387467851322629, 0.0014774935702645258, 0.9888374637775916, 0.6207858101536176, 0.17585728058531272, 0.19988149924450843, 0.000960968746367829, 0.001921937492735658, 0.7376086132942017, 0.1418189500636868, 0.07278538706972286, 0.047272983354562266, 0.8868276875575999, 0.030232762075827268, 0.08062069886887271, 0.99195395127353, 0.9845802532499719, 0.5559510646504358, 0.04463840665076491, 0.3976876228886329, 0.46548945272687886, 0.17227328688532526, 0.07734719003014603, 0.1174270975912217, 0.15961647397130135, 0.007031562730013276, 0.422846377158188, 0.22182105031249208, 0.26341249724608434, 0.09011480168944991, 0.8287941721672122, 0.1707253912703995, 0.9901460116980805, 0.9841534320443174, 0.9911452423195944, 0.9960509014996818, 0.9837137271525357, 0.9962820530658806, 0.9798627136999735, 0.949260709942157, 0.049961089996955636, 0.05345791866314537, 0.9408593684713585, 0.9876703053278544, 0.9877648586117757, 0.3093710421014938, 0.31884158420664155, 0.03682988596446354, 0.011575107017402829, 0.028411626315443306, 0.057875535087014145, 0.22097931578678126, 0.01683651929804048, 0.9895029977110158, 0.1318526685026534, 0.1318526685026534, 0.2677008724144781, 0.4674776428730439, 0.9866515664088755, 0.9899896050128388, 0.9898168259525372, 0.9808977836913324, 0.6636870794015726, 0.21262089314161922, 0.0017216266651143256, 0.12223549322311712, 0.8531630363178148, 0.10222229928231882, 0.03931626895473801, 0.003931626895473801, 0.9922270336389555, 0.32438761968917906, 0.24329071476688433, 0.23695501906983005, 0.0025342782788217114, 0.10263827029227932, 0.08996687889817076, 0.9869423370631033, 0.9975567891705747, 0.3650795305629956, 0.3518520113396986, 0.0674603480388144, 0.05158732497085807, 0.06349209227182533, 0.09920639417472706, 0.19840846939819368, 0.293103420701877, 0.058620684140375405, 0.4464190561459358, 0.6790560513111, 0.1673952126487828, 0.12317760930759489, 0.03000480226723465, 0.9828932836672254, 0.9918683239753004, 0.5148050396800268, 0.4839167372992252, 0.9943179166920294, 0.981695298030215, 0.3759684110751263, 0.6192420888296198, 0.9870201740626908, 0.29384653671840755, 0.24487211393200628, 0.04006998227978285, 0.41850870381106525, 0.1771058553261506, 0.08194450022553237, 0.3700719365024043, 0.10044809705065258, 0.11102158095072127, 0.16124562947604756, 0.9841288017401756, 0.9887964846574906, 0.36113658591081954, 0.31039838789029117, 0.03432289866094566, 0.08058419685613329, 0.06566119743833082, 0.09699949621571599, 0.05223049796230861, 0.1494812681252794, 0.11801152746732585, 0.11604466867620375, 0.38747118185105317, 0.21438760823230862, 0.009834293955610487, 0.9887955123051735, 0.9838009725451132, 0.9779976812642635, 0.5358802454407621, 0.04619657288282431, 0.11010183203739794, 0.0739145166125189, 0.05158617305248715, 0.06236537339181282, 0.03387748678073783, 0.08623360271460538, 0.9875232642913516, 0.36939208923171607, 0.2293995458604606, 0.0011764079274895415, 0.1047003055465692, 0.1305812799513391, 0.16469710984853583, 0.15274061943538042, 0.8485589968632246, 0.9951725941323695, 0.9898628269436596], \"Term\": [\"20\", \"access\", \"act\", \"advice\", \"advice\", \"age\", \"air\", \"allow\", \"allowed\", \"also\", \"also\", \"also\", \"also\", \"also\", \"also\", \"always\", \"always\", \"always\", \"always\", \"always\", \"always\", \"amazing\", \"amazing\", \"amount\", \"answer\", \"apart\", \"approach\", \"area\", \"area\", \"art\", \"asking\", \"australian\", \"back\", \"back\", \"back\", \"back\", \"back\", \"back\", \"ball\", \"be\", \"beat\", \"beautiful\", \"beautiful\", \"becomes\", \"before\", \"beginning\", \"behaviour\", \"biggest\", \"bit\", \"bit\", \"black\", \"black\", \"body\", \"body\", \"body\", \"book\", \"border\", \"break\", \"brother\", \"build\", \"business\", \"business\", \"business\", \"call\", \"call\", \"called\", \"campaign\", \"cancer\", \"cant\", \"cant\", \"cant\", \"cant\", \"cant\", \"car\", \"case\", \"case\", \"case\", \"case\", \"cent\", \"challenge\", \"challenge\", \"chance\", \"change\", \"change\", \"change\", \"change\", \"change\", \"change\", \"china\", \"chinese\", \"choice\", \"city\", \"city\", \"class\", \"clear\", \"clear\", \"clear\", \"clearly\", \"climate\", \"come\", \"come\", \"come\", \"come\", \"come\", \"come\", \"common\", \"completely\", \"concern\", \"confidence\", \"contact\", \"continue\", \"continue\", \"coronavirus\", \"coronavirus\", \"coronavirus\", \"coronavirus\", \"could\", \"could\", \"could\", \"could\", \"could\", \"country\", \"country\", \"country\", \"country\", \"country\", \"couple\", \"couple\", \"covid19\", \"cup\", \"cut\", \"dangerous\", \"data\", \"date\", \"daughter\", \"day\", \"day\", \"day\", \"day\", \"deal\", \"deal\", \"death\", \"death\", \"death\", \"decided\", \"decision\", \"decision\", \"decision\", \"definitely\", \"deliver\", \"demand\", \"did\", \"die\", \"different\", \"different\", \"different\", \"disease\", \"disease\", \"distancing\", \"doing\", \"down\", \"dream\", \"easy\", \"eat\", \"emergency\", \"emotional\", \"end\", \"end\", \"end\", \"enjoy\", \"enough\", \"enough\", \"especially\", \"essential\", \"europe\", \"ever\", \"ever\", \"everybody\", \"everyone\", \"everyone\", \"everyone\", \"everyone\", \"experience\", \"extremely\", \"f\", \"fair\", \"family\", \"family\", \"family\", \"favourite\", \"feel\", \"feel\", \"feel\", \"feel\", \"fight\", \"fight\", \"figure\", \"film\", \"find\", \"find\", \"find\", \"fine\", \"fire\", \"first\", \"first\", \"first\", \"first\", \"first\", \"first\", \"flight\", \"follow\", \"form\", \"forward\", \"forward\", \"forward\", \"free\", \"free\", \"friend\", \"friend\", \"friend\", \"friend\", \"fully\", \"future\", \"future\", \"game\", \"game\", \"game\", \"game\", \"game\", \"game\", \"gave\", \"general\", \"generation\", \"get\", \"get\", \"get\", \"giving\", \"go\", \"go\", \"go\", \"go\", \"go\", \"go\", \"going\", \"going\", \"going\", \"going\", \"going\", \"gon\", \"gone\", \"good\", \"good\", \"good\", \"good\", \"good\", \"good\", \"got\", \"got\", \"got\", \"government\", \"government\", \"government\", \"great\", \"great\", \"great\", \"great\", \"great\", \"hair\", \"happen\", \"happened\", \"happened\", \"happening\", \"happens\", \"happy\", \"he\", \"health\", \"healthy\", \"hell\", \"helping\", \"him\", \"him\", \"him\", \"history\", \"home\", \"home\", \"home\", \"home\", \"home\", \"honest\", \"honestly\", \"hope\", \"hope\", \"human\", \"human\", \"i\", \"idea\", \"ill\", \"ill\", \"ill\", \"im\", \"im\", \"im\", \"im\", \"imagine\", \"impact\", \"impact\", \"increase\", \"industry\", \"instead\", \"interesting\", \"involved\", \"is\", \"is\", \"is\", \"issue\", \"issue\", \"issue\", \"issue\", \"issue\", \"it\", \"it\", \"it\", \"ive\", \"ive\", \"ive\", \"ive\", \"keep\", \"keep\", \"keep\", \"keep\", \"keeping\", \"kid\", \"kid\", \"knew\", \"knew\", \"know\", \"know\", \"know\", \"know\", \"laugh\", \"league\", \"learned\", \"left\", \"left\", \"left\", \"letter\", \"lie\", \"life\", \"life\", \"life\", \"life\", \"life\", \"life\", \"like\", \"like\", \"like\", \"like\", \"literally\", \"little\", \"little\", \"little\", \"little\", \"load\", \"london\", \"look\", \"look\", \"look\", \"looking\", \"looking\", \"looking\", \"lose\", \"lot\", \"lot\", \"lot\", \"lot\", \"lot\", \"lot\", \"love\", \"love\", \"love\", \"loved\", \"lovely\", \"low\", \"made\", \"made\", \"make\", \"make\", \"make\", \"make\", \"make\", \"many\", \"many\", \"many\", \"many\", \"mate\", \"may\", \"may\", \"may\", \"may\", \"may\", \"may\", \"maybe\", \"me\", \"me\", \"me\", \"meal\", \"measure\", \"measure\", \"meghan\", \"member\", \"mental\", \"message\", \"middle\", \"minister\", \"minister\", \"minute\", \"minute\", \"money\", \"money\", \"month\", \"mother\", \"move\", \"move\", \"mr\", \"much\", \"much\", \"much\", \"much\", \"much\", \"much\", \"much\", \"music\", \"na\", \"near\", \"need\", \"need\", \"need\", \"need\", \"need\", \"never\", \"never\", \"never\", \"never\", \"never\", \"new\", \"new\", \"new\", \"new\", \"new\", \"new\", \"new\", \"news\", \"news\", \"nh\", \"nice\", \"nice\", \"night\", \"night\", \"no\", \"number\", \"off\", \"officer\", \"oh\", \"ok\", \"old\", \"old\", \"on\", \"on\", \"one\", \"one\", \"one\", \"one\", \"one\", \"opportunity\", \"order\", \"outbreak\", \"paid\", \"partner\", \"past\", \"patient\", \"patient\", \"people\", \"people\", \"people\", \"people\", \"people\", \"people\", \"people\", \"people\", \"perfect\", \"phone\", \"pick\", \"playing\", \"point\", \"point\", \"point\", \"point\", \"police\", \"policy\", \"political\", \"politics\", \"positive\", \"president\", \"president\", \"president\", \"prime\", \"prince\", \"probably\", \"problem\", \"problem\", \"project\", \"protect\", \"protect\", \"proud\", \"public\", \"public\", \"public\", \"putting\", \"quite\", \"race\", \"rate\", \"ready\", \"realise\", \"reality\", \"really\", \"really\", \"really\", \"really\", \"really\", \"really\", \"reason\", \"red\", \"report\", \"research\", \"respect\", \"responsibility\", \"return\", \"right\", \"right\", \"right\", \"right\", \"right\", \"risk\", \"risk\", \"risk\", \"road\", \"role\", \"role\", \"rule\", \"sad\", \"save\", \"say\", \"say\", \"say\", \"say\", \"say\", \"saying\", \"saying\", \"season\", \"second\", \"security\", \"see\", \"see\", \"see\", \"see\", \"see\", \"see\", \"see\", \"seems\", \"seen\", \"seen\", \"send\", \"sense\", \"serious\", \"serious\", \"seriously\", \"sick\", \"since\", \"since\", \"single\", \"sit\", \"small\", \"social\", \"society\", \"someone\", \"someone\", \"something\", \"something\", \"something\", \"son\", \"son\", \"soon\", \"sort\", \"sound\", \"sport\", \"spread\", \"stage\", \"stage\", \"state\", \"state\", \"stay\", \"stay\", \"step\", \"step\", \"step\", \"street\", \"strong\", \"strong\", \"stuff\", \"stuff\", \"support\", \"support\", \"supposed\", \"symptom\", \"system\", \"system\", \"take\", \"take\", \"take\", \"take\", \"take\", \"taking\", \"taking\", \"talk\", \"talk\", \"tell\", \"tell\", \"tell\", \"terrible\", \"test\", \"testing\", \"thank\", \"thank\", \"thanks\", \"that\", \"that\", \"that\", \"that\", \"thats\", \"thats\", \"thats\", \"thats\", \"then\", \"there\", \"there\", \"there\", \"there\", \"there\", \"theyve\", \"thing\", \"thing\", \"thing\", \"thing\", \"thing\", \"think\", \"think\", \"think\", \"think\", \"this\", \"this\", \"this\", \"thousand\", \"threat\", \"three\", \"three\", \"three\", \"time\", \"time\", \"time\", \"time\", \"time\", \"time\", \"today\", \"today\", \"today\", \"today\", \"together\", \"together\", \"tomorrow\", \"tonight\", \"touch\", \"tough\", \"transmission\", \"travel\", \"trial\", \"true\", \"true\", \"trust\", \"trust\", \"truth\", \"type\", \"u\", \"u\", \"u\", \"u\", \"u\", \"u\", \"u\", \"u\", \"united\", \"virus\", \"virus\", \"virus\", \"virus\", \"voice\", \"vote\", \"walk\", \"wall\", \"want\", \"want\", \"want\", \"want\", \"wanted\", \"wanted\", \"wanted\", \"wanted\", \"watch\", \"way\", \"way\", \"way\", \"way\", \"way\", \"way\", \"wear\", \"week\", \"well\", \"well\", \"well\", \"well\", \"well\", \"well\", \"went\", \"went\", \"went\", \"went\", \"were\", \"were\", \"were\", \"were\", \"what\", \"whats\", \"whether\", \"whether\", \"white\", \"why\", \"win\", \"win\", \"with\", \"without\", \"without\", \"without\", \"without\", \"woman\", \"woman\", \"woman\", \"woman\", \"woman\", \"woman\", \"wonderful\", \"word\", \"work\", \"work\", \"work\", \"work\", \"work\", \"work\", \"work\", \"world\", \"world\", \"world\", \"world\", \"world\", \"world\", \"worried\", \"worry\", \"worse\", \"would\", \"would\", \"would\", \"would\", \"would\", \"would\", \"would\", \"would\", \"write\", \"year\", \"year\", \"year\", \"year\", \"year\", \"year\", \"\\u00a3\", \"\\u00a3\", \"\\u2764\", \"\\ufe0f\"]}, \"R\": 30, \"lambda.step\": 0.01, \"plot.opts\": {\"xlab\": \"PC1\", \"ylab\": \"PC2\"}, \"topic.order\": [3, 4, 8, 2, 5, 6, 1, 7]};\n",
              "\n",
              "function LDAvis_load_lib(url, callback){\n",
              "  var s = document.createElement('script');\n",
              "  s.src = url;\n",
              "  s.async = true;\n",
              "  s.onreadystatechange = s.onload = callback;\n",
              "  s.onerror = function(){console.warn(\"failed to load library \" + url);};\n",
              "  document.getElementsByTagName(\"head\")[0].appendChild(s);\n",
              "}\n",
              "\n",
              "if(typeof(LDAvis) !== \"undefined\"){\n",
              "   // already loaded: just create the visualization\n",
              "   !function(LDAvis){\n",
              "       new LDAvis(\"#\" + \"ldavis_el5011400785082430243201634098\", ldavis_el5011400785082430243201634098_data);\n",
              "   }(LDAvis);\n",
              "}else if(typeof define === \"function\" && define.amd){\n",
              "   // require.js is available: use it to load d3/LDAvis\n",
              "   require.config({paths: {d3: \"https://d3js.org/d3.v5\"}});\n",
              "   require([\"d3\"], function(d3){\n",
              "      window.d3 = d3;\n",
              "      LDAvis_load_lib(\"https://cdn.jsdelivr.net/gh/bmabey/pyLDAvis@3.3.1/pyLDAvis/js/ldavis.v3.0.0.js\", function(){\n",
              "        new LDAvis(\"#\" + \"ldavis_el5011400785082430243201634098\", ldavis_el5011400785082430243201634098_data);\n",
              "      });\n",
              "    });\n",
              "}else{\n",
              "    // require.js not available: dynamically load d3 & LDAvis\n",
              "    LDAvis_load_lib(\"https://d3js.org/d3.v5.js\", function(){\n",
              "         LDAvis_load_lib(\"https://cdn.jsdelivr.net/gh/bmabey/pyLDAvis@3.3.1/pyLDAvis/js/ldavis.v3.0.0.js\", function(){\n",
              "                 new LDAvis(\"#\" + \"ldavis_el5011400785082430243201634098\", ldavis_el5011400785082430243201634098_data);\n",
              "            })\n",
              "         });\n",
              "}\n",
              "</script>"
            ],
            "text/plain": [
              "PreparedData(topic_coordinates=              x         y  topics  cluster       Freq\n",
              "topic                                                \n",
              "2      0.229841  0.007740       1        1  22.718817\n",
              "3      0.143426  0.084275       2        1  16.201245\n",
              "7      0.157514 -0.037168       3        1  11.332369\n",
              "1     -0.096300 -0.026112       4        1  10.527815\n",
              "4     -0.237070  0.080535       5        1  10.398195\n",
              "5      0.033984  0.076845       6        1  10.286339\n",
              "0     -0.148982  0.140956       7        1  10.209929\n",
              "6     -0.082412 -0.327070       8        1   8.325291, topic_info=           Term         Freq        Total Category  logprob  loglift\n",
              "52         like  1814.000000  1814.000000  Default  30.0000  30.0000\n",
              "287         get  1485.000000  1485.000000  Default  29.0000  29.0000\n",
              "1114         he   580.000000   580.000000  Default  28.0000  28.0000\n",
              "51           it  1082.000000  1082.000000  Default  27.0000  27.0000\n",
              "43           im  1609.000000  1609.000000  Default  26.0000  26.0000\n",
              "...         ...          ...          ...      ...      ...      ...\n",
              "136       could   109.079465   725.672987   Topic8  -5.3162   0.5908\n",
              "126       would   112.207191  1298.797644   Topic8  -5.2880   0.0370\n",
              "1173  president    71.964839   144.932631   Topic8  -5.7321   1.7858\n",
              "275        well    74.746587   755.999657   Topic8  -5.6942   0.1719\n",
              "97          way    71.055562   789.179317   Topic8  -5.7448   0.0783\n",
              "\n",
              "[480 rows x 6 columns], token_table=      Topic      Freq    Term\n",
              "term                         \n",
              "1184      7  0.988545      20\n",
              "638       5  0.987765  access\n",
              "1202      7  0.995462     act\n",
              "1555      4  0.190538  advice\n",
              "1555      5  0.801847  advice\n",
              "...     ...       ...     ...\n",
              "35        7  0.164697    year\n",
              "3100      1  0.152741       £\n",
              "3100      7  0.848559       £\n",
              "1333      6  0.995173       ❤\n",
              "1334      6  0.989863       ️\n",
              "\n",
              "[795 rows x 3 columns], R=30, lambda_step=0.01, plot_opts={'xlab': 'PC1', 'ylab': 'PC2'}, topic_order=[3, 4, 8, 2, 5, 6, 1, 7])"
            ]
          },
          "metadata": {},
          "execution_count": 33
        }
      ]
    },
    {
      "cell_type": "markdown",
      "metadata": {
        "id": "6gnJrEIpMpWh"
      },
      "source": [
        "We can see it is more sparse, so better than before."
      ]
    },
    {
      "cell_type": "code",
      "metadata": {
        "id": "zEqNFLAaMjEs"
      },
      "source": [
        ""
      ],
      "execution_count": null,
      "outputs": []
    }
  ]
}
{
 "cells": [
  {
   "cell_type": "markdown",
   "metadata": {
    "id": "7txCTyrTM0qJ"
   },
   "source": [
    "# Analysis of gender distribution in UK's leading newspapers\n",
    "# Gender representation"
   ]
  },
  {
   "cell_type": "markdown",
   "metadata": {
    "id": "ucef3_UkM0qP"
   },
   "source": [
    "## Content\n",
    "1. [Setup](#setup)   \n",
    "    1.1 [Global](#global_setup)  \n",
    "    1.2 [Local](#local_setup)   \n",
    "2. [Time analysis](#time_analysis)   \n",
    "    2.1 [Function definitions](#functions)  \n",
    "    2.2 [Accumulate results](#results)     \n",
    "3. [Plots](#plots)    \n",
    "    3.1 [Number of quotes male/female/others, UK 2019](#nb_quotes)    \n",
    "    3.2 [Percentage of female quotes and gender minority quotes, UK](#perc_quotes)"
   ]
  },
  {
   "cell_type": "markdown",
   "metadata": {
    "id": "owgTJarZM0qP",
    "tags": []
   },
   "source": [
    "## 1. Setup\n",
    "<a id=\"setup\"></a>"
   ]
  },
  {
   "cell_type": "markdown",
   "metadata": {
    "id": "Y3JKiCvOFE8u"
   },
   "source": [
    "### 1.1 Global\n",
    "<a id=\"global_setup\"></a>"
   ]
  },
  {
   "cell_type": "code",
   "execution_count": 9,
   "metadata": {
    "colab": {
     "base_uri": "https://localhost:8080/"
    },
    "id": "aP59FL8-FE8v",
    "outputId": "f6a0bbc5-6a71-4adb-b671-991fccb05562",
    "scrolled": true
   },
   "outputs": [],
   "source": [
    "# Change to true if you want to use google colab\n",
    "use_colab = False\n",
    "\n",
    "# Import with EPFL google drive!\n",
    "if use_colab:\n",
    "    from google.colab import drive\n",
    "    drive._mount('/content/drive', force_remount=True)\n",
    "    %cd /content/drive/Shareddrives/ADA-project\n",
    "    !pip install pandas==1.0.5 # downgrade pandas for chunk processing support"
   ]
  },
  {
   "cell_type": "code",
   "execution_count": 10,
   "metadata": {
    "id": "hzfP-W7znkx3"
   },
   "outputs": [],
   "source": [
    "# Defined paths for the data\n",
    "from scripts.path_defs import *\n",
    "\n",
    "# Defined newspapers and urls\n",
    "from scripts.newspapers import *\n",
    "\n",
    "# Globally used functions\n",
    "from scripts.utility_functions import load_mini_version_of_data\n",
    "from scripts.utility_functions import convert_to_1Dseries\n",
    "from scripts.utility_functions import process_data_in_chunks"
   ]
  },
  {
   "cell_type": "markdown",
   "metadata": {
    "id": "5yqsvZuAM0qQ"
   },
   "source": [
    "### 1.2 Local \n",
    "<a id=\"local_setup\"></a>"
   ]
  },
  {
   "cell_type": "code",
   "execution_count": 11,
   "metadata": {
    "id": "QLFedCOsFE8y"
   },
   "outputs": [],
   "source": [
    "import pandas as pd\n",
    "import numpy as np\n",
    "import json\n",
    "import bz2\n",
    "\n",
    "# Plots\n",
    "import plotly.graph_objects as go\n",
    "import plotly.express as px\n",
    "from plotly.subplots import make_subplots\n",
    "from itertools import cycle\n",
    "from IPython.display import Image"
   ]
  },
  {
   "cell_type": "markdown",
   "metadata": {
    "id": "XFCdzoNgFE8y"
   },
   "source": [
    "## 2. Time analysis\n",
    "<a id=\"time_analysis\"></a>"
   ]
  },
  {
   "cell_type": "markdown",
   "metadata": {
    "id": "lrdPOMhhdDy2"
   },
   "source": [
    "In this notebook we will have a first look on the repartition of the speaker's genders, in order to conduct an analysis on the **evolution of women, men and gender minorities' presence in quotes of UK's newspapers**. The statistic of other countries (US, India, Nigeria) are studied as well to allow a comparison.\n",
    "\n",
    "First of all let's have look on which genders are present in the Quotebank dataset:"
   ]
  },
  {
   "cell_type": "code",
   "execution_count": 2,
   "metadata": {
    "colab": {
     "base_uri": "https://localhost:8080/"
    },
    "id": "ovZKkkyWdfvy",
    "outputId": "d139744d-4ce8-464e-ebbc-022008541e24"
   },
   "outputs": [
    {
     "ename": "NameError",
     "evalue": "name 'pd' is not defined",
     "output_type": "error",
     "traceback": [
      "\u001b[0;31m---------------------------------------------------------------------------\u001b[0m",
      "\u001b[0;31mNameError\u001b[0m                                 Traceback (most recent call last)",
      "\u001b[0;32m/tmp/ipykernel_1949196/937999242.py\u001b[0m in \u001b[0;36m<module>\u001b[0;34m\u001b[0m\n\u001b[1;32m      1\u001b[0m \u001b[0;31m# Get number of each gender, 2019 as example\u001b[0m\u001b[0;34m\u001b[0m\u001b[0;34m\u001b[0m\u001b[0;34m\u001b[0m\u001b[0m\n\u001b[0;32m----> 2\u001b[0;31m \u001b[0mdf_2019\u001b[0m \u001b[0;34m=\u001b[0m \u001b[0mpd\u001b[0m\u001b[0;34m.\u001b[0m\u001b[0mread_json\u001b[0m\u001b[0;34m(\u001b[0m\u001b[0mMERGED_QUOTES_UK_2019_PATH\u001b[0m\u001b[0;34m,\u001b[0m \u001b[0mlines\u001b[0m\u001b[0;34m=\u001b[0m\u001b[0;32mTrue\u001b[0m\u001b[0;34m,\u001b[0m \u001b[0mcompression\u001b[0m\u001b[0;34m=\u001b[0m\u001b[0;34m'bz2'\u001b[0m\u001b[0;34m)\u001b[0m\u001b[0;34m\u001b[0m\u001b[0;34m\u001b[0m\u001b[0m\n\u001b[0m\u001b[1;32m      3\u001b[0m \u001b[0mconvert_to_1Dseries\u001b[0m\u001b[0;34m(\u001b[0m\u001b[0mdf_2019\u001b[0m\u001b[0;34m[\u001b[0m\u001b[0;34m\"gender\"\u001b[0m\u001b[0;34m]\u001b[0m\u001b[0;34m)\u001b[0m\u001b[0;34m.\u001b[0m\u001b[0mvalue_counts\u001b[0m\u001b[0;34m(\u001b[0m\u001b[0;34m)\u001b[0m\u001b[0;34m\u001b[0m\u001b[0;34m\u001b[0m\u001b[0m\n",
      "\u001b[0;31mNameError\u001b[0m: name 'pd' is not defined"
     ]
    }
   ],
   "source": [
    "# Get number of each gender, 2019 as example\n",
    "df_2019 = pd.read_json(MERGED_QUOTES_UK_2019_PATH, lines=True, compression='bz2')\n",
    "convert_to_1Dseries(df_2019[\"gender\"]).value_counts()"
   ]
  },
  {
   "cell_type": "markdown",
   "metadata": {
    "id": "_jMfiy0JdOeR"
   },
   "source": [
    "As expected, the two gender represented the most are male and female. A quick overview of the definition of these other genders are given on our data story. For a more meaningful analysis we choose to group them in one single category \"other\"."
   ]
  },
  {
   "cell_type": "markdown",
   "metadata": {
    "id": "hZvoEugqFE8z"
   },
   "source": [
    "### 2.1 Function definitions\n",
    "<a id=\"functions\"></a>\n",
    "\n",
    "To construct a time dependent dateset we need to merge all the outputs from the data cleaning process (2015-2020). All this data is to large to fit into memory. We will have to aggregate the results in chunks with our function `process_data_in_cunks` (see _scripts/utility_functions.py_ for more details).\n",
    "\n",
    "The goal of this processsing is to create a dataframe having the **number of quotes for each day, per gender and newspaper**. The needed functions are:"
   ]
  },
  {
   "cell_type": "code",
   "execution_count": 6,
   "metadata": {
    "id": "oBnkP_7TFE8z"
   },
   "outputs": [],
   "source": [
    "# As discussed group gender minorities into other\n",
    "def group_genders(x):\n",
    "    \"\"\"Function which groups gender minorites into category 'other'\"\"\"\n",
    "    if len(x)==1:\n",
    "        if x[0] in ['male', 'female']:\n",
    "            return x[0]\n",
    "        else:\n",
    "            return 'other'\n",
    "    else:\n",
    "        return 'other'\n",
    "\n",
    "# The aggregation function which is passed to process_data_in_chunks\n",
    "def get_gender_counts(chunk, gender_repr_df, year):\n",
    "    \"\"\"Aggregate gender counts per day. This function is passed to process_data_in_chunks.\n",
    "    \n",
    "    Arguments:\n",
    "        chunk (df): Chunk of one year\n",
    "        gender_repr_df (df): The Dataframe where results are accumulated.\n",
    "        year (int): Year of chunk which will be processed.\n",
    "    Returns:\n",
    "        gender_repr_df\n",
    "    \n",
    "    \"\"\"\n",
    "    # Apply gender grouping into male, female and other\n",
    "    chunk['gender'] = chunk.gender.apply(group_genders)\n",
    "    \n",
    "    # Create dummy columns to aggregate counts\n",
    "    # Per quote:\n",
    "    dummies_df = pd.get_dummies(chunk['gender'],prefix='counts')\n",
    "    # Using number of occurrences\n",
    "    dummies_occ_df = pd.get_dummies(chunk['gender'],prefix='counts_occ').mul(chunk.numOccurrences, 0)\n",
    "    chunk = pd.concat([chunk, dummies_df, dummies_occ_df], axis=1)\n",
    "    \n",
    "    # Create datetime column and set as index\n",
    "    chunk['date'] = pd.to_datetime(chunk['date'], yearfirst=True)\n",
    "      \n",
    "    # Aggregate quote counts for every newspaper\n",
    "    for newspaper in newspapers_df['name']:\n",
    "        # Select quotes from one newspaper\n",
    "        mask_newspaper = chunk.newspapers.apply(lambda x: newspaper in x)\n",
    "        newspaper_df = chunk[mask_newspaper]\n",
    "        \n",
    "        # Aggregate quote counts per day and gender\n",
    "        newspaper_df = newspaper_df.resample('D', on='date').sum()\n",
    "        newspaper_df.drop('numOccurrences', axis=1, inplace=True) # remove now useless column\n",
    "        newspaper_df.insert(0, 'newspaper', newspaper) # insert newspaper name\n",
    "        \n",
    "        newspaper_df.reset_index(inplace=True) # to be able to append\n",
    "        gender_repr_df = gender_repr_df.append(newspaper_df, ignore_index=True)\n",
    "    \n",
    "    # Aggregate sums after chunk is processed\n",
    "    gender_repr_df = gender_repr_df.groupby(['date','newspaper']).sum().reset_index()\n",
    "    \n",
    "    return gender_repr_df"
   ]
  },
  {
   "cell_type": "code",
   "execution_count": 7,
   "metadata": {
    "id": "hB2jwE0zFE82"
   },
   "outputs": [],
   "source": [
    "def create_gender_representation(country_string):\n",
    "    \"\"\"Function which loops through all the years of one country and accumulates results in chunks.\"\"\"\n",
    "    years = [2015, 2016, 2017, 2018, 2019, 2020]\n",
    "    gender_repr_df = pd.DataFrame()\n",
    "    \n",
    "    for year in years:\n",
    "        path_to_file = globals()['MERGED_QUOTES_' + country_string + '_' + str(year) + '_PATH']\n",
    "        gender_repr_df = process_data_in_chunks(path_to_file, get_gender_counts, gender_repr_df, year, use_colab)\n",
    "        print(str(year) + ' finished')\n",
    "\n",
    "    return gender_repr_df"
   ]
  },
  {
   "cell_type": "markdown",
   "metadata": {
    "id": "RJ-SKvFdFE80"
   },
   "source": [
    "### 2.2 Accumulate results\n",
    "<a id=\"results\"></a>\n",
    "\n",
    "Now we can accumulate the number of quotes for each country. The results are saved to the folder _Results_."
   ]
  },
  {
   "cell_type": "code",
   "execution_count": null,
   "metadata": {
    "id": "HPZdY9GRkGeb",
    "outputId": "6dc81265-74e2-473e-c423-f6bcbca536eb"
   },
   "outputs": [
    {
     "name": "stdout",
     "output_type": "stream",
     "text": [
      "2015 finished\n",
      "2016 finished\n",
      "2017 finished\n",
      "2018 finished\n",
      "2019 finished\n",
      "2020 finished\n"
     ]
    }
   ],
   "source": [
    "# Dataframe of newspapers for uk\n",
    "# which is passed implicitly to function!\n",
    "newspapers_df = pd.DataFrame(newspapers_uk_list, columns=['name', 'website_url'])\n",
    "\n",
    "# Add per day statistics of for gender\n",
    "gender_df_repr = create_gender_representation('UK')\n",
    "\n",
    "# Save results as pickle\n",
    "gender_df_repr.to_pickle(GENDER_REPRESENTATION_UK_2015_TO_2020_PATH)"
   ]
  },
  {
   "cell_type": "markdown",
   "metadata": {
    "id": "x3QMq__ziwyg"
   },
   "source": [
    "For US:"
   ]
  },
  {
   "cell_type": "code",
   "execution_count": null,
   "metadata": {
    "id": "8bc0b5oHihPx"
   },
   "outputs": [],
   "source": [
    "newspapers_df = pd.DataFrame(newspapers_us_list, columns=['name', 'website_url'])\n",
    "gender_repr_df = create_gender_representation('US')\n",
    "gender_repr_df.to_pickle(GENDER_REPRESENTATION_US_2015_TO_2020_PATH)"
   ]
  },
  {
   "cell_type": "markdown",
   "metadata": {
    "id": "1-gAAvxIjMzs"
   },
   "source": [
    "For India:"
   ]
  },
  {
   "cell_type": "code",
   "execution_count": null,
   "metadata": {
    "id": "NYc4nahAjMzu"
   },
   "outputs": [],
   "source": [
    "newspapers_df = pd.DataFrame(newspapers_in_list, columns=['name', 'website_url'])\n",
    "gender_repr_df = create_gender_representation('IN')\n",
    "gender_repr_df.to_pickle(GENDER_REPRESENTATION_IN_2015_TO_2020_PATH)"
   ]
  },
  {
   "cell_type": "markdown",
   "metadata": {
    "id": "eSeOLN39jNiY"
   },
   "source": [
    "For Nigeria:"
   ]
  },
  {
   "cell_type": "code",
   "execution_count": null,
   "metadata": {
    "id": "eztb8sUpjNia"
   },
   "outputs": [],
   "source": [
    "newspapers_df = pd.DataFrame(newspapers_ng_list, columns=['name', 'website_url'])\n",
    "gender_repr_df = create_gender_representation('NG')\n",
    "gender_repr_df.to_pickle(GENDER_REPRESENTATION_NG_2015_TO_2020_PATH)"
   ]
  },
  {
   "cell_type": "markdown",
   "metadata": {
    "id": "cGfP2GfqTYH-"
   },
   "source": [
    "## 3 Plots\n",
    "<a id=\"plots\"></a>\n",
    "\n",
    "Let us create some plots now. Each subsection will create interactive plots using the library `plotly`. These plots are not visible in the html of this notebook. We will provide an image of the plot for readability."
   ]
  },
  {
   "cell_type": "code",
   "execution_count": 13,
   "metadata": {
    "id": "hVk24B6rGYyJ"
   },
   "outputs": [],
   "source": [
    "# Load from Results folder\n",
    "newspapers_uk_df = pd.DataFrame(newspapers_uk_list, columns=['name', 'website_url'])\n",
    "gender_repr_uk_df = pd.read_pickle(GENDER_REPRESENTATION_UK_2015_TO_2020_PATH)\n",
    "\n",
    "newspapers_us_df = pd.DataFrame(newspapers_us_list, columns=['name', 'website_url'])\n",
    "gender_repr_us_df = pd.read_pickle(GENDER_REPRESENTATION_US_2015_TO_2020_PATH)\n",
    "\n",
    "newspapers_in_df = pd.DataFrame(newspapers_in_list, columns=['name', 'website_url'])\n",
    "gender_repr_in_df = pd.read_pickle(GENDER_REPRESENTATION_IN_2015_TO_2020_PATH)\n",
    "\n",
    "newspapers_ng_df = pd.DataFrame(newspapers_ng_list, columns=['name', 'website_url'])\n",
    "gender_repr_ng_df = pd.read_pickle(GENDER_REPRESENTATION_NG_2015_TO_2020_PATH)"
   ]
  },
  {
   "cell_type": "markdown",
   "metadata": {
    "id": "BVI8XvCu3q8q"
   },
   "source": [
    "### 3.1 Number of quotes male/female/others, UK 2019\n",
    "<a id=\"counts_uk\"></a>\n",
    "The two following bar plot display the **number of quotes per gender and newspaper for one year**. As an example we will use 2019 because it is the most recent and complete year. As a side note: the plots for other years look similar!"
   ]
  },
  {
   "cell_type": "code",
   "execution_count": 29,
   "metadata": {
    "colab": {
     "base_uri": "https://localhost:8080/",
     "height": 1000
    },
    "id": "zTSocjOtGRMl",
    "outputId": "e67c4098-ccee-4973-8601-8e256159f8e9"
   },
   "outputs": [
    {
     "data": {
      "application/vnd.plotly.v1+json": {
       "config": {
        "plotlyServerURL": "https://plot.ly"
       },
       "data": [
        {
         "marker": {
          "color": "rgb(102, 197, 204)"
         },
         "name": "Male quotes",
         "type": "bar",
         "x": [
          "The Sun",
          "The Guardian",
          "The Times",
          "Metro",
          "Evening Standard",
          "Daily Mirror",
          "The Daily Telegraph",
          "Daily Express",
          "Daily Star",
          "i",
          "Financial Times",
          "Daily Mail",
          "Daily Record",
          "City A.M."
         ],
         "y": [
          45206,
          20025,
          4415,
          978,
          87386,
          71682,
          122909,
          106847,
          37445,
          24003,
          4922,
          17746,
          25019,
          10564
         ]
        },
        {
         "marker": {
          "color": "rgb(246, 207, 113)"
         },
         "name": "Female quotes",
         "type": "bar",
         "x": [
          "The Sun",
          "The Guardian",
          "The Times",
          "Metro",
          "Evening Standard",
          "Daily Mirror",
          "The Daily Telegraph",
          "Daily Express",
          "Daily Star",
          "i",
          "Financial Times",
          "Daily Mail",
          "Daily Record",
          "City A.M."
         ],
         "y": [
          25173,
          6200,
          1170,
          503,
          23184,
          29211,
          30005,
          36721,
          11986,
          8393,
          921,
          4835,
          6383,
          1737
         ]
        }
       ],
       "layout": {
        "barmode": "stack",
        "template": {
         "data": {
          "bar": [
           {
            "error_x": {
             "color": "#2a3f5f"
            },
            "error_y": {
             "color": "#2a3f5f"
            },
            "marker": {
             "line": {
              "color": "#E5ECF6",
              "width": 0.5
             },
             "pattern": {
              "fillmode": "overlay",
              "size": 10,
              "solidity": 0.2
             }
            },
            "type": "bar"
           }
          ],
          "barpolar": [
           {
            "marker": {
             "line": {
              "color": "#E5ECF6",
              "width": 0.5
             },
             "pattern": {
              "fillmode": "overlay",
              "size": 10,
              "solidity": 0.2
             }
            },
            "type": "barpolar"
           }
          ],
          "carpet": [
           {
            "aaxis": {
             "endlinecolor": "#2a3f5f",
             "gridcolor": "white",
             "linecolor": "white",
             "minorgridcolor": "white",
             "startlinecolor": "#2a3f5f"
            },
            "baxis": {
             "endlinecolor": "#2a3f5f",
             "gridcolor": "white",
             "linecolor": "white",
             "minorgridcolor": "white",
             "startlinecolor": "#2a3f5f"
            },
            "type": "carpet"
           }
          ],
          "choropleth": [
           {
            "colorbar": {
             "outlinewidth": 0,
             "ticks": ""
            },
            "type": "choropleth"
           }
          ],
          "contour": [
           {
            "colorbar": {
             "outlinewidth": 0,
             "ticks": ""
            },
            "colorscale": [
             [
              0,
              "#0d0887"
             ],
             [
              0.1111111111111111,
              "#46039f"
             ],
             [
              0.2222222222222222,
              "#7201a8"
             ],
             [
              0.3333333333333333,
              "#9c179e"
             ],
             [
              0.4444444444444444,
              "#bd3786"
             ],
             [
              0.5555555555555556,
              "#d8576b"
             ],
             [
              0.6666666666666666,
              "#ed7953"
             ],
             [
              0.7777777777777778,
              "#fb9f3a"
             ],
             [
              0.8888888888888888,
              "#fdca26"
             ],
             [
              1,
              "#f0f921"
             ]
            ],
            "type": "contour"
           }
          ],
          "contourcarpet": [
           {
            "colorbar": {
             "outlinewidth": 0,
             "ticks": ""
            },
            "type": "contourcarpet"
           }
          ],
          "heatmap": [
           {
            "colorbar": {
             "outlinewidth": 0,
             "ticks": ""
            },
            "colorscale": [
             [
              0,
              "#0d0887"
             ],
             [
              0.1111111111111111,
              "#46039f"
             ],
             [
              0.2222222222222222,
              "#7201a8"
             ],
             [
              0.3333333333333333,
              "#9c179e"
             ],
             [
              0.4444444444444444,
              "#bd3786"
             ],
             [
              0.5555555555555556,
              "#d8576b"
             ],
             [
              0.6666666666666666,
              "#ed7953"
             ],
             [
              0.7777777777777778,
              "#fb9f3a"
             ],
             [
              0.8888888888888888,
              "#fdca26"
             ],
             [
              1,
              "#f0f921"
             ]
            ],
            "type": "heatmap"
           }
          ],
          "heatmapgl": [
           {
            "colorbar": {
             "outlinewidth": 0,
             "ticks": ""
            },
            "colorscale": [
             [
              0,
              "#0d0887"
             ],
             [
              0.1111111111111111,
              "#46039f"
             ],
             [
              0.2222222222222222,
              "#7201a8"
             ],
             [
              0.3333333333333333,
              "#9c179e"
             ],
             [
              0.4444444444444444,
              "#bd3786"
             ],
             [
              0.5555555555555556,
              "#d8576b"
             ],
             [
              0.6666666666666666,
              "#ed7953"
             ],
             [
              0.7777777777777778,
              "#fb9f3a"
             ],
             [
              0.8888888888888888,
              "#fdca26"
             ],
             [
              1,
              "#f0f921"
             ]
            ],
            "type": "heatmapgl"
           }
          ],
          "histogram": [
           {
            "marker": {
             "pattern": {
              "fillmode": "overlay",
              "size": 10,
              "solidity": 0.2
             }
            },
            "type": "histogram"
           }
          ],
          "histogram2d": [
           {
            "colorbar": {
             "outlinewidth": 0,
             "ticks": ""
            },
            "colorscale": [
             [
              0,
              "#0d0887"
             ],
             [
              0.1111111111111111,
              "#46039f"
             ],
             [
              0.2222222222222222,
              "#7201a8"
             ],
             [
              0.3333333333333333,
              "#9c179e"
             ],
             [
              0.4444444444444444,
              "#bd3786"
             ],
             [
              0.5555555555555556,
              "#d8576b"
             ],
             [
              0.6666666666666666,
              "#ed7953"
             ],
             [
              0.7777777777777778,
              "#fb9f3a"
             ],
             [
              0.8888888888888888,
              "#fdca26"
             ],
             [
              1,
              "#f0f921"
             ]
            ],
            "type": "histogram2d"
           }
          ],
          "histogram2dcontour": [
           {
            "colorbar": {
             "outlinewidth": 0,
             "ticks": ""
            },
            "colorscale": [
             [
              0,
              "#0d0887"
             ],
             [
              0.1111111111111111,
              "#46039f"
             ],
             [
              0.2222222222222222,
              "#7201a8"
             ],
             [
              0.3333333333333333,
              "#9c179e"
             ],
             [
              0.4444444444444444,
              "#bd3786"
             ],
             [
              0.5555555555555556,
              "#d8576b"
             ],
             [
              0.6666666666666666,
              "#ed7953"
             ],
             [
              0.7777777777777778,
              "#fb9f3a"
             ],
             [
              0.8888888888888888,
              "#fdca26"
             ],
             [
              1,
              "#f0f921"
             ]
            ],
            "type": "histogram2dcontour"
           }
          ],
          "mesh3d": [
           {
            "colorbar": {
             "outlinewidth": 0,
             "ticks": ""
            },
            "type": "mesh3d"
           }
          ],
          "parcoords": [
           {
            "line": {
             "colorbar": {
              "outlinewidth": 0,
              "ticks": ""
             }
            },
            "type": "parcoords"
           }
          ],
          "pie": [
           {
            "automargin": true,
            "type": "pie"
           }
          ],
          "scatter": [
           {
            "marker": {
             "colorbar": {
              "outlinewidth": 0,
              "ticks": ""
             }
            },
            "type": "scatter"
           }
          ],
          "scatter3d": [
           {
            "line": {
             "colorbar": {
              "outlinewidth": 0,
              "ticks": ""
             }
            },
            "marker": {
             "colorbar": {
              "outlinewidth": 0,
              "ticks": ""
             }
            },
            "type": "scatter3d"
           }
          ],
          "scattercarpet": [
           {
            "marker": {
             "colorbar": {
              "outlinewidth": 0,
              "ticks": ""
             }
            },
            "type": "scattercarpet"
           }
          ],
          "scattergeo": [
           {
            "marker": {
             "colorbar": {
              "outlinewidth": 0,
              "ticks": ""
             }
            },
            "type": "scattergeo"
           }
          ],
          "scattergl": [
           {
            "marker": {
             "colorbar": {
              "outlinewidth": 0,
              "ticks": ""
             }
            },
            "type": "scattergl"
           }
          ],
          "scattermapbox": [
           {
            "marker": {
             "colorbar": {
              "outlinewidth": 0,
              "ticks": ""
             }
            },
            "type": "scattermapbox"
           }
          ],
          "scatterpolar": [
           {
            "marker": {
             "colorbar": {
              "outlinewidth": 0,
              "ticks": ""
             }
            },
            "type": "scatterpolar"
           }
          ],
          "scatterpolargl": [
           {
            "marker": {
             "colorbar": {
              "outlinewidth": 0,
              "ticks": ""
             }
            },
            "type": "scatterpolargl"
           }
          ],
          "scatterternary": [
           {
            "marker": {
             "colorbar": {
              "outlinewidth": 0,
              "ticks": ""
             }
            },
            "type": "scatterternary"
           }
          ],
          "surface": [
           {
            "colorbar": {
             "outlinewidth": 0,
             "ticks": ""
            },
            "colorscale": [
             [
              0,
              "#0d0887"
             ],
             [
              0.1111111111111111,
              "#46039f"
             ],
             [
              0.2222222222222222,
              "#7201a8"
             ],
             [
              0.3333333333333333,
              "#9c179e"
             ],
             [
              0.4444444444444444,
              "#bd3786"
             ],
             [
              0.5555555555555556,
              "#d8576b"
             ],
             [
              0.6666666666666666,
              "#ed7953"
             ],
             [
              0.7777777777777778,
              "#fb9f3a"
             ],
             [
              0.8888888888888888,
              "#fdca26"
             ],
             [
              1,
              "#f0f921"
             ]
            ],
            "type": "surface"
           }
          ],
          "table": [
           {
            "cells": {
             "fill": {
              "color": "#EBF0F8"
             },
             "line": {
              "color": "white"
             }
            },
            "header": {
             "fill": {
              "color": "#C8D4E3"
             },
             "line": {
              "color": "white"
             }
            },
            "type": "table"
           }
          ]
         },
         "layout": {
          "annotationdefaults": {
           "arrowcolor": "#2a3f5f",
           "arrowhead": 0,
           "arrowwidth": 1
          },
          "autotypenumbers": "strict",
          "coloraxis": {
           "colorbar": {
            "outlinewidth": 0,
            "ticks": ""
           }
          },
          "colorscale": {
           "diverging": [
            [
             0,
             "#8e0152"
            ],
            [
             0.1,
             "#c51b7d"
            ],
            [
             0.2,
             "#de77ae"
            ],
            [
             0.3,
             "#f1b6da"
            ],
            [
             0.4,
             "#fde0ef"
            ],
            [
             0.5,
             "#f7f7f7"
            ],
            [
             0.6,
             "#e6f5d0"
            ],
            [
             0.7,
             "#b8e186"
            ],
            [
             0.8,
             "#7fbc41"
            ],
            [
             0.9,
             "#4d9221"
            ],
            [
             1,
             "#276419"
            ]
           ],
           "sequential": [
            [
             0,
             "#0d0887"
            ],
            [
             0.1111111111111111,
             "#46039f"
            ],
            [
             0.2222222222222222,
             "#7201a8"
            ],
            [
             0.3333333333333333,
             "#9c179e"
            ],
            [
             0.4444444444444444,
             "#bd3786"
            ],
            [
             0.5555555555555556,
             "#d8576b"
            ],
            [
             0.6666666666666666,
             "#ed7953"
            ],
            [
             0.7777777777777778,
             "#fb9f3a"
            ],
            [
             0.8888888888888888,
             "#fdca26"
            ],
            [
             1,
             "#f0f921"
            ]
           ],
           "sequentialminus": [
            [
             0,
             "#0d0887"
            ],
            [
             0.1111111111111111,
             "#46039f"
            ],
            [
             0.2222222222222222,
             "#7201a8"
            ],
            [
             0.3333333333333333,
             "#9c179e"
            ],
            [
             0.4444444444444444,
             "#bd3786"
            ],
            [
             0.5555555555555556,
             "#d8576b"
            ],
            [
             0.6666666666666666,
             "#ed7953"
            ],
            [
             0.7777777777777778,
             "#fb9f3a"
            ],
            [
             0.8888888888888888,
             "#fdca26"
            ],
            [
             1,
             "#f0f921"
            ]
           ]
          },
          "colorway": [
           "#636efa",
           "#EF553B",
           "#00cc96",
           "#ab63fa",
           "#FFA15A",
           "#19d3f3",
           "#FF6692",
           "#B6E880",
           "#FF97FF",
           "#FECB52"
          ],
          "font": {
           "color": "#2a3f5f"
          },
          "geo": {
           "bgcolor": "white",
           "lakecolor": "white",
           "landcolor": "#E5ECF6",
           "showlakes": true,
           "showland": true,
           "subunitcolor": "white"
          },
          "hoverlabel": {
           "align": "left"
          },
          "hovermode": "closest",
          "mapbox": {
           "style": "light"
          },
          "paper_bgcolor": "white",
          "plot_bgcolor": "#E5ECF6",
          "polar": {
           "angularaxis": {
            "gridcolor": "white",
            "linecolor": "white",
            "ticks": ""
           },
           "bgcolor": "#E5ECF6",
           "radialaxis": {
            "gridcolor": "white",
            "linecolor": "white",
            "ticks": ""
           }
          },
          "scene": {
           "xaxis": {
            "backgroundcolor": "#E5ECF6",
            "gridcolor": "white",
            "gridwidth": 2,
            "linecolor": "white",
            "showbackground": true,
            "ticks": "",
            "zerolinecolor": "white"
           },
           "yaxis": {
            "backgroundcolor": "#E5ECF6",
            "gridcolor": "white",
            "gridwidth": 2,
            "linecolor": "white",
            "showbackground": true,
            "ticks": "",
            "zerolinecolor": "white"
           },
           "zaxis": {
            "backgroundcolor": "#E5ECF6",
            "gridcolor": "white",
            "gridwidth": 2,
            "linecolor": "white",
            "showbackground": true,
            "ticks": "",
            "zerolinecolor": "white"
           }
          },
          "shapedefaults": {
           "line": {
            "color": "#2a3f5f"
           }
          },
          "ternary": {
           "aaxis": {
            "gridcolor": "white",
            "linecolor": "white",
            "ticks": ""
           },
           "baxis": {
            "gridcolor": "white",
            "linecolor": "white",
            "ticks": ""
           },
           "bgcolor": "#E5ECF6",
           "caxis": {
            "gridcolor": "white",
            "linecolor": "white",
            "ticks": ""
           }
          },
          "title": {
           "x": 0.05
          },
          "xaxis": {
           "automargin": true,
           "gridcolor": "white",
           "linecolor": "white",
           "ticks": "",
           "title": {
            "standoff": 15
           },
           "zerolinecolor": "white",
           "zerolinewidth": 2
          },
          "yaxis": {
           "automargin": true,
           "gridcolor": "white",
           "linecolor": "white",
           "ticks": "",
           "title": {
            "standoff": 15
           },
           "zerolinecolor": "white",
           "zerolinewidth": 2
          }
         }
        },
        "title": {
         "text": "Number of quotes, male and female, UK (2019)"
        },
        "xaxis": {
         "categoryorder": "total descending",
         "title": {
          "text": "Newspaper"
         }
        },
        "yaxis": {
         "title": {
          "text": "Number of quotes"
         }
        }
       }
      },
      "text/html": [
       "<div>                            <div id=\"74063c34-d5b8-4a5d-81ab-d08427af844e\" class=\"plotly-graph-div\" style=\"height:525px; width:100%;\"></div>            <script type=\"text/javascript\">                require([\"plotly\"], function(Plotly) {                    window.PLOTLYENV=window.PLOTLYENV || {};                                    if (document.getElementById(\"74063c34-d5b8-4a5d-81ab-d08427af844e\")) {                    Plotly.newPlot(                        \"74063c34-d5b8-4a5d-81ab-d08427af844e\",                        [{\"marker\":{\"color\":\"rgb(102, 197, 204)\"},\"name\":\"Male quotes\",\"type\":\"bar\",\"x\":[\"The Sun\",\"The Guardian\",\"The Times\",\"Metro\",\"Evening Standard\",\"Daily Mirror\",\"The Daily Telegraph\",\"Daily Express\",\"Daily Star\",\"i\",\"Financial Times\",\"Daily Mail\",\"Daily Record\",\"City A.M.\"],\"y\":[45206.0,20025.0,4415.0,978.0,87386.0,71682.0,122909.0,106847.0,37445.0,24003.0,4922.0,17746.0,25019.0,10564.0]},{\"marker\":{\"color\":\"rgb(246, 207, 113)\"},\"name\":\"Female quotes\",\"type\":\"bar\",\"x\":[\"The Sun\",\"The Guardian\",\"The Times\",\"Metro\",\"Evening Standard\",\"Daily Mirror\",\"The Daily Telegraph\",\"Daily Express\",\"Daily Star\",\"i\",\"Financial Times\",\"Daily Mail\",\"Daily Record\",\"City A.M.\"],\"y\":[25173.0,6200.0,1170.0,503.0,23184.0,29211.0,30005.0,36721.0,11986.0,8393.0,921.0,4835.0,6383.0,1737.0]}],                        {\"barmode\":\"stack\",\"template\":{\"data\":{\"bar\":[{\"error_x\":{\"color\":\"#2a3f5f\"},\"error_y\":{\"color\":\"#2a3f5f\"},\"marker\":{\"line\":{\"color\":\"#E5ECF6\",\"width\":0.5},\"pattern\":{\"fillmode\":\"overlay\",\"size\":10,\"solidity\":0.2}},\"type\":\"bar\"}],\"barpolar\":[{\"marker\":{\"line\":{\"color\":\"#E5ECF6\",\"width\":0.5},\"pattern\":{\"fillmode\":\"overlay\",\"size\":10,\"solidity\":0.2}},\"type\":\"barpolar\"}],\"carpet\":[{\"aaxis\":{\"endlinecolor\":\"#2a3f5f\",\"gridcolor\":\"white\",\"linecolor\":\"white\",\"minorgridcolor\":\"white\",\"startlinecolor\":\"#2a3f5f\"},\"baxis\":{\"endlinecolor\":\"#2a3f5f\",\"gridcolor\":\"white\",\"linecolor\":\"white\",\"minorgridcolor\":\"white\",\"startlinecolor\":\"#2a3f5f\"},\"type\":\"carpet\"}],\"choropleth\":[{\"colorbar\":{\"outlinewidth\":0,\"ticks\":\"\"},\"type\":\"choropleth\"}],\"contour\":[{\"colorbar\":{\"outlinewidth\":0,\"ticks\":\"\"},\"colorscale\":[[0.0,\"#0d0887\"],[0.1111111111111111,\"#46039f\"],[0.2222222222222222,\"#7201a8\"],[0.3333333333333333,\"#9c179e\"],[0.4444444444444444,\"#bd3786\"],[0.5555555555555556,\"#d8576b\"],[0.6666666666666666,\"#ed7953\"],[0.7777777777777778,\"#fb9f3a\"],[0.8888888888888888,\"#fdca26\"],[1.0,\"#f0f921\"]],\"type\":\"contour\"}],\"contourcarpet\":[{\"colorbar\":{\"outlinewidth\":0,\"ticks\":\"\"},\"type\":\"contourcarpet\"}],\"heatmap\":[{\"colorbar\":{\"outlinewidth\":0,\"ticks\":\"\"},\"colorscale\":[[0.0,\"#0d0887\"],[0.1111111111111111,\"#46039f\"],[0.2222222222222222,\"#7201a8\"],[0.3333333333333333,\"#9c179e\"],[0.4444444444444444,\"#bd3786\"],[0.5555555555555556,\"#d8576b\"],[0.6666666666666666,\"#ed7953\"],[0.7777777777777778,\"#fb9f3a\"],[0.8888888888888888,\"#fdca26\"],[1.0,\"#f0f921\"]],\"type\":\"heatmap\"}],\"heatmapgl\":[{\"colorbar\":{\"outlinewidth\":0,\"ticks\":\"\"},\"colorscale\":[[0.0,\"#0d0887\"],[0.1111111111111111,\"#46039f\"],[0.2222222222222222,\"#7201a8\"],[0.3333333333333333,\"#9c179e\"],[0.4444444444444444,\"#bd3786\"],[0.5555555555555556,\"#d8576b\"],[0.6666666666666666,\"#ed7953\"],[0.7777777777777778,\"#fb9f3a\"],[0.8888888888888888,\"#fdca26\"],[1.0,\"#f0f921\"]],\"type\":\"heatmapgl\"}],\"histogram\":[{\"marker\":{\"pattern\":{\"fillmode\":\"overlay\",\"size\":10,\"solidity\":0.2}},\"type\":\"histogram\"}],\"histogram2d\":[{\"colorbar\":{\"outlinewidth\":0,\"ticks\":\"\"},\"colorscale\":[[0.0,\"#0d0887\"],[0.1111111111111111,\"#46039f\"],[0.2222222222222222,\"#7201a8\"],[0.3333333333333333,\"#9c179e\"],[0.4444444444444444,\"#bd3786\"],[0.5555555555555556,\"#d8576b\"],[0.6666666666666666,\"#ed7953\"],[0.7777777777777778,\"#fb9f3a\"],[0.8888888888888888,\"#fdca26\"],[1.0,\"#f0f921\"]],\"type\":\"histogram2d\"}],\"histogram2dcontour\":[{\"colorbar\":{\"outlinewidth\":0,\"ticks\":\"\"},\"colorscale\":[[0.0,\"#0d0887\"],[0.1111111111111111,\"#46039f\"],[0.2222222222222222,\"#7201a8\"],[0.3333333333333333,\"#9c179e\"],[0.4444444444444444,\"#bd3786\"],[0.5555555555555556,\"#d8576b\"],[0.6666666666666666,\"#ed7953\"],[0.7777777777777778,\"#fb9f3a\"],[0.8888888888888888,\"#fdca26\"],[1.0,\"#f0f921\"]],\"type\":\"histogram2dcontour\"}],\"mesh3d\":[{\"colorbar\":{\"outlinewidth\":0,\"ticks\":\"\"},\"type\":\"mesh3d\"}],\"parcoords\":[{\"line\":{\"colorbar\":{\"outlinewidth\":0,\"ticks\":\"\"}},\"type\":\"parcoords\"}],\"pie\":[{\"automargin\":true,\"type\":\"pie\"}],\"scatter\":[{\"marker\":{\"colorbar\":{\"outlinewidth\":0,\"ticks\":\"\"}},\"type\":\"scatter\"}],\"scatter3d\":[{\"line\":{\"colorbar\":{\"outlinewidth\":0,\"ticks\":\"\"}},\"marker\":{\"colorbar\":{\"outlinewidth\":0,\"ticks\":\"\"}},\"type\":\"scatter3d\"}],\"scattercarpet\":[{\"marker\":{\"colorbar\":{\"outlinewidth\":0,\"ticks\":\"\"}},\"type\":\"scattercarpet\"}],\"scattergeo\":[{\"marker\":{\"colorbar\":{\"outlinewidth\":0,\"ticks\":\"\"}},\"type\":\"scattergeo\"}],\"scattergl\":[{\"marker\":{\"colorbar\":{\"outlinewidth\":0,\"ticks\":\"\"}},\"type\":\"scattergl\"}],\"scattermapbox\":[{\"marker\":{\"colorbar\":{\"outlinewidth\":0,\"ticks\":\"\"}},\"type\":\"scattermapbox\"}],\"scatterpolar\":[{\"marker\":{\"colorbar\":{\"outlinewidth\":0,\"ticks\":\"\"}},\"type\":\"scatterpolar\"}],\"scatterpolargl\":[{\"marker\":{\"colorbar\":{\"outlinewidth\":0,\"ticks\":\"\"}},\"type\":\"scatterpolargl\"}],\"scatterternary\":[{\"marker\":{\"colorbar\":{\"outlinewidth\":0,\"ticks\":\"\"}},\"type\":\"scatterternary\"}],\"surface\":[{\"colorbar\":{\"outlinewidth\":0,\"ticks\":\"\"},\"colorscale\":[[0.0,\"#0d0887\"],[0.1111111111111111,\"#46039f\"],[0.2222222222222222,\"#7201a8\"],[0.3333333333333333,\"#9c179e\"],[0.4444444444444444,\"#bd3786\"],[0.5555555555555556,\"#d8576b\"],[0.6666666666666666,\"#ed7953\"],[0.7777777777777778,\"#fb9f3a\"],[0.8888888888888888,\"#fdca26\"],[1.0,\"#f0f921\"]],\"type\":\"surface\"}],\"table\":[{\"cells\":{\"fill\":{\"color\":\"#EBF0F8\"},\"line\":{\"color\":\"white\"}},\"header\":{\"fill\":{\"color\":\"#C8D4E3\"},\"line\":{\"color\":\"white\"}},\"type\":\"table\"}]},\"layout\":{\"annotationdefaults\":{\"arrowcolor\":\"#2a3f5f\",\"arrowhead\":0,\"arrowwidth\":1},\"autotypenumbers\":\"strict\",\"coloraxis\":{\"colorbar\":{\"outlinewidth\":0,\"ticks\":\"\"}},\"colorscale\":{\"diverging\":[[0,\"#8e0152\"],[0.1,\"#c51b7d\"],[0.2,\"#de77ae\"],[0.3,\"#f1b6da\"],[0.4,\"#fde0ef\"],[0.5,\"#f7f7f7\"],[0.6,\"#e6f5d0\"],[0.7,\"#b8e186\"],[0.8,\"#7fbc41\"],[0.9,\"#4d9221\"],[1,\"#276419\"]],\"sequential\":[[0.0,\"#0d0887\"],[0.1111111111111111,\"#46039f\"],[0.2222222222222222,\"#7201a8\"],[0.3333333333333333,\"#9c179e\"],[0.4444444444444444,\"#bd3786\"],[0.5555555555555556,\"#d8576b\"],[0.6666666666666666,\"#ed7953\"],[0.7777777777777778,\"#fb9f3a\"],[0.8888888888888888,\"#fdca26\"],[1.0,\"#f0f921\"]],\"sequentialminus\":[[0.0,\"#0d0887\"],[0.1111111111111111,\"#46039f\"],[0.2222222222222222,\"#7201a8\"],[0.3333333333333333,\"#9c179e\"],[0.4444444444444444,\"#bd3786\"],[0.5555555555555556,\"#d8576b\"],[0.6666666666666666,\"#ed7953\"],[0.7777777777777778,\"#fb9f3a\"],[0.8888888888888888,\"#fdca26\"],[1.0,\"#f0f921\"]]},\"colorway\":[\"#636efa\",\"#EF553B\",\"#00cc96\",\"#ab63fa\",\"#FFA15A\",\"#19d3f3\",\"#FF6692\",\"#B6E880\",\"#FF97FF\",\"#FECB52\"],\"font\":{\"color\":\"#2a3f5f\"},\"geo\":{\"bgcolor\":\"white\",\"lakecolor\":\"white\",\"landcolor\":\"#E5ECF6\",\"showlakes\":true,\"showland\":true,\"subunitcolor\":\"white\"},\"hoverlabel\":{\"align\":\"left\"},\"hovermode\":\"closest\",\"mapbox\":{\"style\":\"light\"},\"paper_bgcolor\":\"white\",\"plot_bgcolor\":\"#E5ECF6\",\"polar\":{\"angularaxis\":{\"gridcolor\":\"white\",\"linecolor\":\"white\",\"ticks\":\"\"},\"bgcolor\":\"#E5ECF6\",\"radialaxis\":{\"gridcolor\":\"white\",\"linecolor\":\"white\",\"ticks\":\"\"}},\"scene\":{\"xaxis\":{\"backgroundcolor\":\"#E5ECF6\",\"gridcolor\":\"white\",\"gridwidth\":2,\"linecolor\":\"white\",\"showbackground\":true,\"ticks\":\"\",\"zerolinecolor\":\"white\"},\"yaxis\":{\"backgroundcolor\":\"#E5ECF6\",\"gridcolor\":\"white\",\"gridwidth\":2,\"linecolor\":\"white\",\"showbackground\":true,\"ticks\":\"\",\"zerolinecolor\":\"white\"},\"zaxis\":{\"backgroundcolor\":\"#E5ECF6\",\"gridcolor\":\"white\",\"gridwidth\":2,\"linecolor\":\"white\",\"showbackground\":true,\"ticks\":\"\",\"zerolinecolor\":\"white\"}},\"shapedefaults\":{\"line\":{\"color\":\"#2a3f5f\"}},\"ternary\":{\"aaxis\":{\"gridcolor\":\"white\",\"linecolor\":\"white\",\"ticks\":\"\"},\"baxis\":{\"gridcolor\":\"white\",\"linecolor\":\"white\",\"ticks\":\"\"},\"bgcolor\":\"#E5ECF6\",\"caxis\":{\"gridcolor\":\"white\",\"linecolor\":\"white\",\"ticks\":\"\"}},\"title\":{\"x\":0.05},\"xaxis\":{\"automargin\":true,\"gridcolor\":\"white\",\"linecolor\":\"white\",\"ticks\":\"\",\"title\":{\"standoff\":15},\"zerolinecolor\":\"white\",\"zerolinewidth\":2},\"yaxis\":{\"automargin\":true,\"gridcolor\":\"white\",\"linecolor\":\"white\",\"ticks\":\"\",\"title\":{\"standoff\":15},\"zerolinecolor\":\"white\",\"zerolinewidth\":2}}},\"title\":{\"text\":\"Number of quotes, male and female, UK (2019)\"},\"xaxis\":{\"categoryorder\":\"total descending\",\"title\":{\"text\":\"Newspaper\"}},\"yaxis\":{\"title\":{\"text\":\"Number of quotes\"}}},                        {\"responsive\": true}                    ).then(function(){\n",
       "                            \n",
       "var gd = document.getElementById('74063c34-d5b8-4a5d-81ab-d08427af844e');\n",
       "var x = new MutationObserver(function (mutations, observer) {{\n",
       "        var display = window.getComputedStyle(gd).display;\n",
       "        if (!display || display === 'none') {{\n",
       "            console.log([gd, 'removed!']);\n",
       "            Plotly.purge(gd);\n",
       "            observer.disconnect();\n",
       "        }}\n",
       "}});\n",
       "\n",
       "// Listen for the removal of the full notebook cells\n",
       "var notebookContainer = gd.closest('#notebook-container');\n",
       "if (notebookContainer) {{\n",
       "    x.observe(notebookContainer, {childList: true});\n",
       "}}\n",
       "\n",
       "// Listen for the clearing of the current output cell\n",
       "var outputEl = gd.closest('.output');\n",
       "if (outputEl) {{\n",
       "    x.observe(outputEl, {childList: true});\n",
       "}}\n",
       "\n",
       "                        })                };                });            </script>        </div>"
      ]
     },
     "metadata": {},
     "output_type": "display_data"
    },
    {
     "data": {
      "application/vnd.plotly.v1+json": {
       "config": {
        "plotlyServerURL": "https://plot.ly"
       },
       "data": [
        {
         "marker": {
          "color": "rgb(102, 197, 204)"
         },
         "name": "Male quotes",
         "type": "bar",
         "x": [
          "The Sun",
          "The Guardian",
          "The Times",
          "Metro",
          "Evening Standard",
          "Daily Mirror",
          "The Daily Telegraph",
          "Daily Express",
          "Daily Star",
          "i",
          "Financial Times",
          "Daily Mail",
          "Daily Record",
          "City A.M."
         ],
         "y": [
          658486,
          168888,
          65050,
          14357,
          6037022,
          954586,
          6167953,
          4897610,
          357746,
          477858,
          29301,
          281308,
          295899,
          138783
         ]
        },
        {
         "marker": {
          "color": "rgb(246, 207, 113)"
         },
         "name": "Female quotes",
         "type": "bar",
         "x": [
          "The Sun",
          "The Guardian",
          "The Times",
          "Metro",
          "Evening Standard",
          "Daily Mirror",
          "The Daily Telegraph",
          "Daily Express",
          "Daily Star",
          "i",
          "Financial Times",
          "Daily Mail",
          "Daily Record",
          "City A.M."
         ],
         "y": [
          227865,
          36408,
          13434,
          3253,
          1399752,
          283986,
          1443550,
          1158267,
          103977,
          135716,
          3427,
          87981,
          96962,
          26437
         ]
        }
       ],
       "layout": {
        "barmode": "stack",
        "template": {
         "data": {
          "bar": [
           {
            "error_x": {
             "color": "#2a3f5f"
            },
            "error_y": {
             "color": "#2a3f5f"
            },
            "marker": {
             "line": {
              "color": "#E5ECF6",
              "width": 0.5
             },
             "pattern": {
              "fillmode": "overlay",
              "size": 10,
              "solidity": 0.2
             }
            },
            "type": "bar"
           }
          ],
          "barpolar": [
           {
            "marker": {
             "line": {
              "color": "#E5ECF6",
              "width": 0.5
             },
             "pattern": {
              "fillmode": "overlay",
              "size": 10,
              "solidity": 0.2
             }
            },
            "type": "barpolar"
           }
          ],
          "carpet": [
           {
            "aaxis": {
             "endlinecolor": "#2a3f5f",
             "gridcolor": "white",
             "linecolor": "white",
             "minorgridcolor": "white",
             "startlinecolor": "#2a3f5f"
            },
            "baxis": {
             "endlinecolor": "#2a3f5f",
             "gridcolor": "white",
             "linecolor": "white",
             "minorgridcolor": "white",
             "startlinecolor": "#2a3f5f"
            },
            "type": "carpet"
           }
          ],
          "choropleth": [
           {
            "colorbar": {
             "outlinewidth": 0,
             "ticks": ""
            },
            "type": "choropleth"
           }
          ],
          "contour": [
           {
            "colorbar": {
             "outlinewidth": 0,
             "ticks": ""
            },
            "colorscale": [
             [
              0,
              "#0d0887"
             ],
             [
              0.1111111111111111,
              "#46039f"
             ],
             [
              0.2222222222222222,
              "#7201a8"
             ],
             [
              0.3333333333333333,
              "#9c179e"
             ],
             [
              0.4444444444444444,
              "#bd3786"
             ],
             [
              0.5555555555555556,
              "#d8576b"
             ],
             [
              0.6666666666666666,
              "#ed7953"
             ],
             [
              0.7777777777777778,
              "#fb9f3a"
             ],
             [
              0.8888888888888888,
              "#fdca26"
             ],
             [
              1,
              "#f0f921"
             ]
            ],
            "type": "contour"
           }
          ],
          "contourcarpet": [
           {
            "colorbar": {
             "outlinewidth": 0,
             "ticks": ""
            },
            "type": "contourcarpet"
           }
          ],
          "heatmap": [
           {
            "colorbar": {
             "outlinewidth": 0,
             "ticks": ""
            },
            "colorscale": [
             [
              0,
              "#0d0887"
             ],
             [
              0.1111111111111111,
              "#46039f"
             ],
             [
              0.2222222222222222,
              "#7201a8"
             ],
             [
              0.3333333333333333,
              "#9c179e"
             ],
             [
              0.4444444444444444,
              "#bd3786"
             ],
             [
              0.5555555555555556,
              "#d8576b"
             ],
             [
              0.6666666666666666,
              "#ed7953"
             ],
             [
              0.7777777777777778,
              "#fb9f3a"
             ],
             [
              0.8888888888888888,
              "#fdca26"
             ],
             [
              1,
              "#f0f921"
             ]
            ],
            "type": "heatmap"
           }
          ],
          "heatmapgl": [
           {
            "colorbar": {
             "outlinewidth": 0,
             "ticks": ""
            },
            "colorscale": [
             [
              0,
              "#0d0887"
             ],
             [
              0.1111111111111111,
              "#46039f"
             ],
             [
              0.2222222222222222,
              "#7201a8"
             ],
             [
              0.3333333333333333,
              "#9c179e"
             ],
             [
              0.4444444444444444,
              "#bd3786"
             ],
             [
              0.5555555555555556,
              "#d8576b"
             ],
             [
              0.6666666666666666,
              "#ed7953"
             ],
             [
              0.7777777777777778,
              "#fb9f3a"
             ],
             [
              0.8888888888888888,
              "#fdca26"
             ],
             [
              1,
              "#f0f921"
             ]
            ],
            "type": "heatmapgl"
           }
          ],
          "histogram": [
           {
            "marker": {
             "pattern": {
              "fillmode": "overlay",
              "size": 10,
              "solidity": 0.2
             }
            },
            "type": "histogram"
           }
          ],
          "histogram2d": [
           {
            "colorbar": {
             "outlinewidth": 0,
             "ticks": ""
            },
            "colorscale": [
             [
              0,
              "#0d0887"
             ],
             [
              0.1111111111111111,
              "#46039f"
             ],
             [
              0.2222222222222222,
              "#7201a8"
             ],
             [
              0.3333333333333333,
              "#9c179e"
             ],
             [
              0.4444444444444444,
              "#bd3786"
             ],
             [
              0.5555555555555556,
              "#d8576b"
             ],
             [
              0.6666666666666666,
              "#ed7953"
             ],
             [
              0.7777777777777778,
              "#fb9f3a"
             ],
             [
              0.8888888888888888,
              "#fdca26"
             ],
             [
              1,
              "#f0f921"
             ]
            ],
            "type": "histogram2d"
           }
          ],
          "histogram2dcontour": [
           {
            "colorbar": {
             "outlinewidth": 0,
             "ticks": ""
            },
            "colorscale": [
             [
              0,
              "#0d0887"
             ],
             [
              0.1111111111111111,
              "#46039f"
             ],
             [
              0.2222222222222222,
              "#7201a8"
             ],
             [
              0.3333333333333333,
              "#9c179e"
             ],
             [
              0.4444444444444444,
              "#bd3786"
             ],
             [
              0.5555555555555556,
              "#d8576b"
             ],
             [
              0.6666666666666666,
              "#ed7953"
             ],
             [
              0.7777777777777778,
              "#fb9f3a"
             ],
             [
              0.8888888888888888,
              "#fdca26"
             ],
             [
              1,
              "#f0f921"
             ]
            ],
            "type": "histogram2dcontour"
           }
          ],
          "mesh3d": [
           {
            "colorbar": {
             "outlinewidth": 0,
             "ticks": ""
            },
            "type": "mesh3d"
           }
          ],
          "parcoords": [
           {
            "line": {
             "colorbar": {
              "outlinewidth": 0,
              "ticks": ""
             }
            },
            "type": "parcoords"
           }
          ],
          "pie": [
           {
            "automargin": true,
            "type": "pie"
           }
          ],
          "scatter": [
           {
            "marker": {
             "colorbar": {
              "outlinewidth": 0,
              "ticks": ""
             }
            },
            "type": "scatter"
           }
          ],
          "scatter3d": [
           {
            "line": {
             "colorbar": {
              "outlinewidth": 0,
              "ticks": ""
             }
            },
            "marker": {
             "colorbar": {
              "outlinewidth": 0,
              "ticks": ""
             }
            },
            "type": "scatter3d"
           }
          ],
          "scattercarpet": [
           {
            "marker": {
             "colorbar": {
              "outlinewidth": 0,
              "ticks": ""
             }
            },
            "type": "scattercarpet"
           }
          ],
          "scattergeo": [
           {
            "marker": {
             "colorbar": {
              "outlinewidth": 0,
              "ticks": ""
             }
            },
            "type": "scattergeo"
           }
          ],
          "scattergl": [
           {
            "marker": {
             "colorbar": {
              "outlinewidth": 0,
              "ticks": ""
             }
            },
            "type": "scattergl"
           }
          ],
          "scattermapbox": [
           {
            "marker": {
             "colorbar": {
              "outlinewidth": 0,
              "ticks": ""
             }
            },
            "type": "scattermapbox"
           }
          ],
          "scatterpolar": [
           {
            "marker": {
             "colorbar": {
              "outlinewidth": 0,
              "ticks": ""
             }
            },
            "type": "scatterpolar"
           }
          ],
          "scatterpolargl": [
           {
            "marker": {
             "colorbar": {
              "outlinewidth": 0,
              "ticks": ""
             }
            },
            "type": "scatterpolargl"
           }
          ],
          "scatterternary": [
           {
            "marker": {
             "colorbar": {
              "outlinewidth": 0,
              "ticks": ""
             }
            },
            "type": "scatterternary"
           }
          ],
          "surface": [
           {
            "colorbar": {
             "outlinewidth": 0,
             "ticks": ""
            },
            "colorscale": [
             [
              0,
              "#0d0887"
             ],
             [
              0.1111111111111111,
              "#46039f"
             ],
             [
              0.2222222222222222,
              "#7201a8"
             ],
             [
              0.3333333333333333,
              "#9c179e"
             ],
             [
              0.4444444444444444,
              "#bd3786"
             ],
             [
              0.5555555555555556,
              "#d8576b"
             ],
             [
              0.6666666666666666,
              "#ed7953"
             ],
             [
              0.7777777777777778,
              "#fb9f3a"
             ],
             [
              0.8888888888888888,
              "#fdca26"
             ],
             [
              1,
              "#f0f921"
             ]
            ],
            "type": "surface"
           }
          ],
          "table": [
           {
            "cells": {
             "fill": {
              "color": "#EBF0F8"
             },
             "line": {
              "color": "white"
             }
            },
            "header": {
             "fill": {
              "color": "#C8D4E3"
             },
             "line": {
              "color": "white"
             }
            },
            "type": "table"
           }
          ]
         },
         "layout": {
          "annotationdefaults": {
           "arrowcolor": "#2a3f5f",
           "arrowhead": 0,
           "arrowwidth": 1
          },
          "autotypenumbers": "strict",
          "coloraxis": {
           "colorbar": {
            "outlinewidth": 0,
            "ticks": ""
           }
          },
          "colorscale": {
           "diverging": [
            [
             0,
             "#8e0152"
            ],
            [
             0.1,
             "#c51b7d"
            ],
            [
             0.2,
             "#de77ae"
            ],
            [
             0.3,
             "#f1b6da"
            ],
            [
             0.4,
             "#fde0ef"
            ],
            [
             0.5,
             "#f7f7f7"
            ],
            [
             0.6,
             "#e6f5d0"
            ],
            [
             0.7,
             "#b8e186"
            ],
            [
             0.8,
             "#7fbc41"
            ],
            [
             0.9,
             "#4d9221"
            ],
            [
             1,
             "#276419"
            ]
           ],
           "sequential": [
            [
             0,
             "#0d0887"
            ],
            [
             0.1111111111111111,
             "#46039f"
            ],
            [
             0.2222222222222222,
             "#7201a8"
            ],
            [
             0.3333333333333333,
             "#9c179e"
            ],
            [
             0.4444444444444444,
             "#bd3786"
            ],
            [
             0.5555555555555556,
             "#d8576b"
            ],
            [
             0.6666666666666666,
             "#ed7953"
            ],
            [
             0.7777777777777778,
             "#fb9f3a"
            ],
            [
             0.8888888888888888,
             "#fdca26"
            ],
            [
             1,
             "#f0f921"
            ]
           ],
           "sequentialminus": [
            [
             0,
             "#0d0887"
            ],
            [
             0.1111111111111111,
             "#46039f"
            ],
            [
             0.2222222222222222,
             "#7201a8"
            ],
            [
             0.3333333333333333,
             "#9c179e"
            ],
            [
             0.4444444444444444,
             "#bd3786"
            ],
            [
             0.5555555555555556,
             "#d8576b"
            ],
            [
             0.6666666666666666,
             "#ed7953"
            ],
            [
             0.7777777777777778,
             "#fb9f3a"
            ],
            [
             0.8888888888888888,
             "#fdca26"
            ],
            [
             1,
             "#f0f921"
            ]
           ]
          },
          "colorway": [
           "#636efa",
           "#EF553B",
           "#00cc96",
           "#ab63fa",
           "#FFA15A",
           "#19d3f3",
           "#FF6692",
           "#B6E880",
           "#FF97FF",
           "#FECB52"
          ],
          "font": {
           "color": "#2a3f5f"
          },
          "geo": {
           "bgcolor": "white",
           "lakecolor": "white",
           "landcolor": "#E5ECF6",
           "showlakes": true,
           "showland": true,
           "subunitcolor": "white"
          },
          "hoverlabel": {
           "align": "left"
          },
          "hovermode": "closest",
          "mapbox": {
           "style": "light"
          },
          "paper_bgcolor": "white",
          "plot_bgcolor": "#E5ECF6",
          "polar": {
           "angularaxis": {
            "gridcolor": "white",
            "linecolor": "white",
            "ticks": ""
           },
           "bgcolor": "#E5ECF6",
           "radialaxis": {
            "gridcolor": "white",
            "linecolor": "white",
            "ticks": ""
           }
          },
          "scene": {
           "xaxis": {
            "backgroundcolor": "#E5ECF6",
            "gridcolor": "white",
            "gridwidth": 2,
            "linecolor": "white",
            "showbackground": true,
            "ticks": "",
            "zerolinecolor": "white"
           },
           "yaxis": {
            "backgroundcolor": "#E5ECF6",
            "gridcolor": "white",
            "gridwidth": 2,
            "linecolor": "white",
            "showbackground": true,
            "ticks": "",
            "zerolinecolor": "white"
           },
           "zaxis": {
            "backgroundcolor": "#E5ECF6",
            "gridcolor": "white",
            "gridwidth": 2,
            "linecolor": "white",
            "showbackground": true,
            "ticks": "",
            "zerolinecolor": "white"
           }
          },
          "shapedefaults": {
           "line": {
            "color": "#2a3f5f"
           }
          },
          "ternary": {
           "aaxis": {
            "gridcolor": "white",
            "linecolor": "white",
            "ticks": ""
           },
           "baxis": {
            "gridcolor": "white",
            "linecolor": "white",
            "ticks": ""
           },
           "bgcolor": "#E5ECF6",
           "caxis": {
            "gridcolor": "white",
            "linecolor": "white",
            "ticks": ""
           }
          },
          "title": {
           "x": 0.05
          },
          "xaxis": {
           "automargin": true,
           "gridcolor": "white",
           "linecolor": "white",
           "ticks": "",
           "title": {
            "standoff": 15
           },
           "zerolinecolor": "white",
           "zerolinewidth": 2
          },
          "yaxis": {
           "automargin": true,
           "gridcolor": "white",
           "linecolor": "white",
           "ticks": "",
           "title": {
            "standoff": 15
           },
           "zerolinecolor": "white",
           "zerolinewidth": 2
          }
         }
        },
        "title": {
         "text": "Number of quotes, male and female, UK (2019)"
        },
        "xaxis": {
         "categoryorder": "total descending",
         "title": {
          "text": "Newspaper"
         }
        },
        "yaxis": {
         "title": {
          "text": "Number of quotes"
         }
        }
       }
      },
      "text/html": [
       "<div>                            <div id=\"25f06415-eef9-4c72-a117-2c8960b934cc\" class=\"plotly-graph-div\" style=\"height:525px; width:100%;\"></div>            <script type=\"text/javascript\">                require([\"plotly\"], function(Plotly) {                    window.PLOTLYENV=window.PLOTLYENV || {};                                    if (document.getElementById(\"25f06415-eef9-4c72-a117-2c8960b934cc\")) {                    Plotly.newPlot(                        \"25f06415-eef9-4c72-a117-2c8960b934cc\",                        [{\"marker\":{\"color\":\"rgb(102, 197, 204)\"},\"name\":\"Male quotes\",\"type\":\"bar\",\"x\":[\"The Sun\",\"The Guardian\",\"The Times\",\"Metro\",\"Evening Standard\",\"Daily Mirror\",\"The Daily Telegraph\",\"Daily Express\",\"Daily Star\",\"i\",\"Financial Times\",\"Daily Mail\",\"Daily Record\",\"City A.M.\"],\"y\":[658486,168888,65050,14357,6037022,954586,6167953,4897610,357746,477858,29301,281308,295899,138783]},{\"marker\":{\"color\":\"rgb(246, 207, 113)\"},\"name\":\"Female quotes\",\"type\":\"bar\",\"x\":[\"The Sun\",\"The Guardian\",\"The Times\",\"Metro\",\"Evening Standard\",\"Daily Mirror\",\"The Daily Telegraph\",\"Daily Express\",\"Daily Star\",\"i\",\"Financial Times\",\"Daily Mail\",\"Daily Record\",\"City A.M.\"],\"y\":[227865,36408,13434,3253,1399752,283986,1443550,1158267,103977,135716,3427,87981,96962,26437]}],                        {\"barmode\":\"stack\",\"template\":{\"data\":{\"bar\":[{\"error_x\":{\"color\":\"#2a3f5f\"},\"error_y\":{\"color\":\"#2a3f5f\"},\"marker\":{\"line\":{\"color\":\"#E5ECF6\",\"width\":0.5},\"pattern\":{\"fillmode\":\"overlay\",\"size\":10,\"solidity\":0.2}},\"type\":\"bar\"}],\"barpolar\":[{\"marker\":{\"line\":{\"color\":\"#E5ECF6\",\"width\":0.5},\"pattern\":{\"fillmode\":\"overlay\",\"size\":10,\"solidity\":0.2}},\"type\":\"barpolar\"}],\"carpet\":[{\"aaxis\":{\"endlinecolor\":\"#2a3f5f\",\"gridcolor\":\"white\",\"linecolor\":\"white\",\"minorgridcolor\":\"white\",\"startlinecolor\":\"#2a3f5f\"},\"baxis\":{\"endlinecolor\":\"#2a3f5f\",\"gridcolor\":\"white\",\"linecolor\":\"white\",\"minorgridcolor\":\"white\",\"startlinecolor\":\"#2a3f5f\"},\"type\":\"carpet\"}],\"choropleth\":[{\"colorbar\":{\"outlinewidth\":0,\"ticks\":\"\"},\"type\":\"choropleth\"}],\"contour\":[{\"colorbar\":{\"outlinewidth\":0,\"ticks\":\"\"},\"colorscale\":[[0.0,\"#0d0887\"],[0.1111111111111111,\"#46039f\"],[0.2222222222222222,\"#7201a8\"],[0.3333333333333333,\"#9c179e\"],[0.4444444444444444,\"#bd3786\"],[0.5555555555555556,\"#d8576b\"],[0.6666666666666666,\"#ed7953\"],[0.7777777777777778,\"#fb9f3a\"],[0.8888888888888888,\"#fdca26\"],[1.0,\"#f0f921\"]],\"type\":\"contour\"}],\"contourcarpet\":[{\"colorbar\":{\"outlinewidth\":0,\"ticks\":\"\"},\"type\":\"contourcarpet\"}],\"heatmap\":[{\"colorbar\":{\"outlinewidth\":0,\"ticks\":\"\"},\"colorscale\":[[0.0,\"#0d0887\"],[0.1111111111111111,\"#46039f\"],[0.2222222222222222,\"#7201a8\"],[0.3333333333333333,\"#9c179e\"],[0.4444444444444444,\"#bd3786\"],[0.5555555555555556,\"#d8576b\"],[0.6666666666666666,\"#ed7953\"],[0.7777777777777778,\"#fb9f3a\"],[0.8888888888888888,\"#fdca26\"],[1.0,\"#f0f921\"]],\"type\":\"heatmap\"}],\"heatmapgl\":[{\"colorbar\":{\"outlinewidth\":0,\"ticks\":\"\"},\"colorscale\":[[0.0,\"#0d0887\"],[0.1111111111111111,\"#46039f\"],[0.2222222222222222,\"#7201a8\"],[0.3333333333333333,\"#9c179e\"],[0.4444444444444444,\"#bd3786\"],[0.5555555555555556,\"#d8576b\"],[0.6666666666666666,\"#ed7953\"],[0.7777777777777778,\"#fb9f3a\"],[0.8888888888888888,\"#fdca26\"],[1.0,\"#f0f921\"]],\"type\":\"heatmapgl\"}],\"histogram\":[{\"marker\":{\"pattern\":{\"fillmode\":\"overlay\",\"size\":10,\"solidity\":0.2}},\"type\":\"histogram\"}],\"histogram2d\":[{\"colorbar\":{\"outlinewidth\":0,\"ticks\":\"\"},\"colorscale\":[[0.0,\"#0d0887\"],[0.1111111111111111,\"#46039f\"],[0.2222222222222222,\"#7201a8\"],[0.3333333333333333,\"#9c179e\"],[0.4444444444444444,\"#bd3786\"],[0.5555555555555556,\"#d8576b\"],[0.6666666666666666,\"#ed7953\"],[0.7777777777777778,\"#fb9f3a\"],[0.8888888888888888,\"#fdca26\"],[1.0,\"#f0f921\"]],\"type\":\"histogram2d\"}],\"histogram2dcontour\":[{\"colorbar\":{\"outlinewidth\":0,\"ticks\":\"\"},\"colorscale\":[[0.0,\"#0d0887\"],[0.1111111111111111,\"#46039f\"],[0.2222222222222222,\"#7201a8\"],[0.3333333333333333,\"#9c179e\"],[0.4444444444444444,\"#bd3786\"],[0.5555555555555556,\"#d8576b\"],[0.6666666666666666,\"#ed7953\"],[0.7777777777777778,\"#fb9f3a\"],[0.8888888888888888,\"#fdca26\"],[1.0,\"#f0f921\"]],\"type\":\"histogram2dcontour\"}],\"mesh3d\":[{\"colorbar\":{\"outlinewidth\":0,\"ticks\":\"\"},\"type\":\"mesh3d\"}],\"parcoords\":[{\"line\":{\"colorbar\":{\"outlinewidth\":0,\"ticks\":\"\"}},\"type\":\"parcoords\"}],\"pie\":[{\"automargin\":true,\"type\":\"pie\"}],\"scatter\":[{\"marker\":{\"colorbar\":{\"outlinewidth\":0,\"ticks\":\"\"}},\"type\":\"scatter\"}],\"scatter3d\":[{\"line\":{\"colorbar\":{\"outlinewidth\":0,\"ticks\":\"\"}},\"marker\":{\"colorbar\":{\"outlinewidth\":0,\"ticks\":\"\"}},\"type\":\"scatter3d\"}],\"scattercarpet\":[{\"marker\":{\"colorbar\":{\"outlinewidth\":0,\"ticks\":\"\"}},\"type\":\"scattercarpet\"}],\"scattergeo\":[{\"marker\":{\"colorbar\":{\"outlinewidth\":0,\"ticks\":\"\"}},\"type\":\"scattergeo\"}],\"scattergl\":[{\"marker\":{\"colorbar\":{\"outlinewidth\":0,\"ticks\":\"\"}},\"type\":\"scattergl\"}],\"scattermapbox\":[{\"marker\":{\"colorbar\":{\"outlinewidth\":0,\"ticks\":\"\"}},\"type\":\"scattermapbox\"}],\"scatterpolar\":[{\"marker\":{\"colorbar\":{\"outlinewidth\":0,\"ticks\":\"\"}},\"type\":\"scatterpolar\"}],\"scatterpolargl\":[{\"marker\":{\"colorbar\":{\"outlinewidth\":0,\"ticks\":\"\"}},\"type\":\"scatterpolargl\"}],\"scatterternary\":[{\"marker\":{\"colorbar\":{\"outlinewidth\":0,\"ticks\":\"\"}},\"type\":\"scatterternary\"}],\"surface\":[{\"colorbar\":{\"outlinewidth\":0,\"ticks\":\"\"},\"colorscale\":[[0.0,\"#0d0887\"],[0.1111111111111111,\"#46039f\"],[0.2222222222222222,\"#7201a8\"],[0.3333333333333333,\"#9c179e\"],[0.4444444444444444,\"#bd3786\"],[0.5555555555555556,\"#d8576b\"],[0.6666666666666666,\"#ed7953\"],[0.7777777777777778,\"#fb9f3a\"],[0.8888888888888888,\"#fdca26\"],[1.0,\"#f0f921\"]],\"type\":\"surface\"}],\"table\":[{\"cells\":{\"fill\":{\"color\":\"#EBF0F8\"},\"line\":{\"color\":\"white\"}},\"header\":{\"fill\":{\"color\":\"#C8D4E3\"},\"line\":{\"color\":\"white\"}},\"type\":\"table\"}]},\"layout\":{\"annotationdefaults\":{\"arrowcolor\":\"#2a3f5f\",\"arrowhead\":0,\"arrowwidth\":1},\"autotypenumbers\":\"strict\",\"coloraxis\":{\"colorbar\":{\"outlinewidth\":0,\"ticks\":\"\"}},\"colorscale\":{\"diverging\":[[0,\"#8e0152\"],[0.1,\"#c51b7d\"],[0.2,\"#de77ae\"],[0.3,\"#f1b6da\"],[0.4,\"#fde0ef\"],[0.5,\"#f7f7f7\"],[0.6,\"#e6f5d0\"],[0.7,\"#b8e186\"],[0.8,\"#7fbc41\"],[0.9,\"#4d9221\"],[1,\"#276419\"]],\"sequential\":[[0.0,\"#0d0887\"],[0.1111111111111111,\"#46039f\"],[0.2222222222222222,\"#7201a8\"],[0.3333333333333333,\"#9c179e\"],[0.4444444444444444,\"#bd3786\"],[0.5555555555555556,\"#d8576b\"],[0.6666666666666666,\"#ed7953\"],[0.7777777777777778,\"#fb9f3a\"],[0.8888888888888888,\"#fdca26\"],[1.0,\"#f0f921\"]],\"sequentialminus\":[[0.0,\"#0d0887\"],[0.1111111111111111,\"#46039f\"],[0.2222222222222222,\"#7201a8\"],[0.3333333333333333,\"#9c179e\"],[0.4444444444444444,\"#bd3786\"],[0.5555555555555556,\"#d8576b\"],[0.6666666666666666,\"#ed7953\"],[0.7777777777777778,\"#fb9f3a\"],[0.8888888888888888,\"#fdca26\"],[1.0,\"#f0f921\"]]},\"colorway\":[\"#636efa\",\"#EF553B\",\"#00cc96\",\"#ab63fa\",\"#FFA15A\",\"#19d3f3\",\"#FF6692\",\"#B6E880\",\"#FF97FF\",\"#FECB52\"],\"font\":{\"color\":\"#2a3f5f\"},\"geo\":{\"bgcolor\":\"white\",\"lakecolor\":\"white\",\"landcolor\":\"#E5ECF6\",\"showlakes\":true,\"showland\":true,\"subunitcolor\":\"white\"},\"hoverlabel\":{\"align\":\"left\"},\"hovermode\":\"closest\",\"mapbox\":{\"style\":\"light\"},\"paper_bgcolor\":\"white\",\"plot_bgcolor\":\"#E5ECF6\",\"polar\":{\"angularaxis\":{\"gridcolor\":\"white\",\"linecolor\":\"white\",\"ticks\":\"\"},\"bgcolor\":\"#E5ECF6\",\"radialaxis\":{\"gridcolor\":\"white\",\"linecolor\":\"white\",\"ticks\":\"\"}},\"scene\":{\"xaxis\":{\"backgroundcolor\":\"#E5ECF6\",\"gridcolor\":\"white\",\"gridwidth\":2,\"linecolor\":\"white\",\"showbackground\":true,\"ticks\":\"\",\"zerolinecolor\":\"white\"},\"yaxis\":{\"backgroundcolor\":\"#E5ECF6\",\"gridcolor\":\"white\",\"gridwidth\":2,\"linecolor\":\"white\",\"showbackground\":true,\"ticks\":\"\",\"zerolinecolor\":\"white\"},\"zaxis\":{\"backgroundcolor\":\"#E5ECF6\",\"gridcolor\":\"white\",\"gridwidth\":2,\"linecolor\":\"white\",\"showbackground\":true,\"ticks\":\"\",\"zerolinecolor\":\"white\"}},\"shapedefaults\":{\"line\":{\"color\":\"#2a3f5f\"}},\"ternary\":{\"aaxis\":{\"gridcolor\":\"white\",\"linecolor\":\"white\",\"ticks\":\"\"},\"baxis\":{\"gridcolor\":\"white\",\"linecolor\":\"white\",\"ticks\":\"\"},\"bgcolor\":\"#E5ECF6\",\"caxis\":{\"gridcolor\":\"white\",\"linecolor\":\"white\",\"ticks\":\"\"}},\"title\":{\"x\":0.05},\"xaxis\":{\"automargin\":true,\"gridcolor\":\"white\",\"linecolor\":\"white\",\"ticks\":\"\",\"title\":{\"standoff\":15},\"zerolinecolor\":\"white\",\"zerolinewidth\":2},\"yaxis\":{\"automargin\":true,\"gridcolor\":\"white\",\"linecolor\":\"white\",\"ticks\":\"\",\"title\":{\"standoff\":15},\"zerolinecolor\":\"white\",\"zerolinewidth\":2}}},\"title\":{\"text\":\"Number of quotes, male and female, UK (2019)\"},\"xaxis\":{\"categoryorder\":\"total descending\",\"title\":{\"text\":\"Newspaper\"}},\"yaxis\":{\"title\":{\"text\":\"Number of quotes\"}}},                        {\"responsive\": true}                    ).then(function(){\n",
       "                            \n",
       "var gd = document.getElementById('25f06415-eef9-4c72-a117-2c8960b934cc');\n",
       "var x = new MutationObserver(function (mutations, observer) {{\n",
       "        var display = window.getComputedStyle(gd).display;\n",
       "        if (!display || display === 'none') {{\n",
       "            console.log([gd, 'removed!']);\n",
       "            Plotly.purge(gd);\n",
       "            observer.disconnect();\n",
       "        }}\n",
       "}});\n",
       "\n",
       "// Listen for the removal of the full notebook cells\n",
       "var notebookContainer = gd.closest('#notebook-container');\n",
       "if (notebookContainer) {{\n",
       "    x.observe(notebookContainer, {childList: true});\n",
       "}}\n",
       "\n",
       "// Listen for the clearing of the current output cell\n",
       "var outputEl = gd.closest('.output');\n",
       "if (outputEl) {{\n",
       "    x.observe(outputEl, {childList: true});\n",
       "}}\n",
       "\n",
       "                        })                };                });            </script>        </div>"
      ]
     },
     "metadata": {},
     "output_type": "display_data"
    },
    {
     "data": {
      "application/vnd.plotly.v1+json": {
       "config": {
        "plotlyServerURL": "https://plot.ly"
       },
       "data": [
        {
         "marker": {
          "color": "rgb(248, 156, 116)"
         },
         "name": "Gender minorites quotes",
         "type": "bar",
         "x": [
          "The Sun",
          "The Guardian",
          "The Times",
          "Metro",
          "Evening Standard",
          "Daily Mirror",
          "The Daily Telegraph",
          "Daily Express",
          "Daily Star",
          "i",
          "Financial Times",
          "Daily Mail",
          "Daily Record",
          "City A.M."
         ],
         "y": [
          321,
          55,
          13,
          13,
          188,
          536,
          194,
          189,
          287,
          119,
          5,
          65,
          42,
          3
         ]
        }
       ],
       "layout": {
        "barmode": "stack",
        "template": {
         "data": {
          "bar": [
           {
            "error_x": {
             "color": "#2a3f5f"
            },
            "error_y": {
             "color": "#2a3f5f"
            },
            "marker": {
             "line": {
              "color": "#E5ECF6",
              "width": 0.5
             },
             "pattern": {
              "fillmode": "overlay",
              "size": 10,
              "solidity": 0.2
             }
            },
            "type": "bar"
           }
          ],
          "barpolar": [
           {
            "marker": {
             "line": {
              "color": "#E5ECF6",
              "width": 0.5
             },
             "pattern": {
              "fillmode": "overlay",
              "size": 10,
              "solidity": 0.2
             }
            },
            "type": "barpolar"
           }
          ],
          "carpet": [
           {
            "aaxis": {
             "endlinecolor": "#2a3f5f",
             "gridcolor": "white",
             "linecolor": "white",
             "minorgridcolor": "white",
             "startlinecolor": "#2a3f5f"
            },
            "baxis": {
             "endlinecolor": "#2a3f5f",
             "gridcolor": "white",
             "linecolor": "white",
             "minorgridcolor": "white",
             "startlinecolor": "#2a3f5f"
            },
            "type": "carpet"
           }
          ],
          "choropleth": [
           {
            "colorbar": {
             "outlinewidth": 0,
             "ticks": ""
            },
            "type": "choropleth"
           }
          ],
          "contour": [
           {
            "colorbar": {
             "outlinewidth": 0,
             "ticks": ""
            },
            "colorscale": [
             [
              0,
              "#0d0887"
             ],
             [
              0.1111111111111111,
              "#46039f"
             ],
             [
              0.2222222222222222,
              "#7201a8"
             ],
             [
              0.3333333333333333,
              "#9c179e"
             ],
             [
              0.4444444444444444,
              "#bd3786"
             ],
             [
              0.5555555555555556,
              "#d8576b"
             ],
             [
              0.6666666666666666,
              "#ed7953"
             ],
             [
              0.7777777777777778,
              "#fb9f3a"
             ],
             [
              0.8888888888888888,
              "#fdca26"
             ],
             [
              1,
              "#f0f921"
             ]
            ],
            "type": "contour"
           }
          ],
          "contourcarpet": [
           {
            "colorbar": {
             "outlinewidth": 0,
             "ticks": ""
            },
            "type": "contourcarpet"
           }
          ],
          "heatmap": [
           {
            "colorbar": {
             "outlinewidth": 0,
             "ticks": ""
            },
            "colorscale": [
             [
              0,
              "#0d0887"
             ],
             [
              0.1111111111111111,
              "#46039f"
             ],
             [
              0.2222222222222222,
              "#7201a8"
             ],
             [
              0.3333333333333333,
              "#9c179e"
             ],
             [
              0.4444444444444444,
              "#bd3786"
             ],
             [
              0.5555555555555556,
              "#d8576b"
             ],
             [
              0.6666666666666666,
              "#ed7953"
             ],
             [
              0.7777777777777778,
              "#fb9f3a"
             ],
             [
              0.8888888888888888,
              "#fdca26"
             ],
             [
              1,
              "#f0f921"
             ]
            ],
            "type": "heatmap"
           }
          ],
          "heatmapgl": [
           {
            "colorbar": {
             "outlinewidth": 0,
             "ticks": ""
            },
            "colorscale": [
             [
              0,
              "#0d0887"
             ],
             [
              0.1111111111111111,
              "#46039f"
             ],
             [
              0.2222222222222222,
              "#7201a8"
             ],
             [
              0.3333333333333333,
              "#9c179e"
             ],
             [
              0.4444444444444444,
              "#bd3786"
             ],
             [
              0.5555555555555556,
              "#d8576b"
             ],
             [
              0.6666666666666666,
              "#ed7953"
             ],
             [
              0.7777777777777778,
              "#fb9f3a"
             ],
             [
              0.8888888888888888,
              "#fdca26"
             ],
             [
              1,
              "#f0f921"
             ]
            ],
            "type": "heatmapgl"
           }
          ],
          "histogram": [
           {
            "marker": {
             "pattern": {
              "fillmode": "overlay",
              "size": 10,
              "solidity": 0.2
             }
            },
            "type": "histogram"
           }
          ],
          "histogram2d": [
           {
            "colorbar": {
             "outlinewidth": 0,
             "ticks": ""
            },
            "colorscale": [
             [
              0,
              "#0d0887"
             ],
             [
              0.1111111111111111,
              "#46039f"
             ],
             [
              0.2222222222222222,
              "#7201a8"
             ],
             [
              0.3333333333333333,
              "#9c179e"
             ],
             [
              0.4444444444444444,
              "#bd3786"
             ],
             [
              0.5555555555555556,
              "#d8576b"
             ],
             [
              0.6666666666666666,
              "#ed7953"
             ],
             [
              0.7777777777777778,
              "#fb9f3a"
             ],
             [
              0.8888888888888888,
              "#fdca26"
             ],
             [
              1,
              "#f0f921"
             ]
            ],
            "type": "histogram2d"
           }
          ],
          "histogram2dcontour": [
           {
            "colorbar": {
             "outlinewidth": 0,
             "ticks": ""
            },
            "colorscale": [
             [
              0,
              "#0d0887"
             ],
             [
              0.1111111111111111,
              "#46039f"
             ],
             [
              0.2222222222222222,
              "#7201a8"
             ],
             [
              0.3333333333333333,
              "#9c179e"
             ],
             [
              0.4444444444444444,
              "#bd3786"
             ],
             [
              0.5555555555555556,
              "#d8576b"
             ],
             [
              0.6666666666666666,
              "#ed7953"
             ],
             [
              0.7777777777777778,
              "#fb9f3a"
             ],
             [
              0.8888888888888888,
              "#fdca26"
             ],
             [
              1,
              "#f0f921"
             ]
            ],
            "type": "histogram2dcontour"
           }
          ],
          "mesh3d": [
           {
            "colorbar": {
             "outlinewidth": 0,
             "ticks": ""
            },
            "type": "mesh3d"
           }
          ],
          "parcoords": [
           {
            "line": {
             "colorbar": {
              "outlinewidth": 0,
              "ticks": ""
             }
            },
            "type": "parcoords"
           }
          ],
          "pie": [
           {
            "automargin": true,
            "type": "pie"
           }
          ],
          "scatter": [
           {
            "marker": {
             "colorbar": {
              "outlinewidth": 0,
              "ticks": ""
             }
            },
            "type": "scatter"
           }
          ],
          "scatter3d": [
           {
            "line": {
             "colorbar": {
              "outlinewidth": 0,
              "ticks": ""
             }
            },
            "marker": {
             "colorbar": {
              "outlinewidth": 0,
              "ticks": ""
             }
            },
            "type": "scatter3d"
           }
          ],
          "scattercarpet": [
           {
            "marker": {
             "colorbar": {
              "outlinewidth": 0,
              "ticks": ""
             }
            },
            "type": "scattercarpet"
           }
          ],
          "scattergeo": [
           {
            "marker": {
             "colorbar": {
              "outlinewidth": 0,
              "ticks": ""
             }
            },
            "type": "scattergeo"
           }
          ],
          "scattergl": [
           {
            "marker": {
             "colorbar": {
              "outlinewidth": 0,
              "ticks": ""
             }
            },
            "type": "scattergl"
           }
          ],
          "scattermapbox": [
           {
            "marker": {
             "colorbar": {
              "outlinewidth": 0,
              "ticks": ""
             }
            },
            "type": "scattermapbox"
           }
          ],
          "scatterpolar": [
           {
            "marker": {
             "colorbar": {
              "outlinewidth": 0,
              "ticks": ""
             }
            },
            "type": "scatterpolar"
           }
          ],
          "scatterpolargl": [
           {
            "marker": {
             "colorbar": {
              "outlinewidth": 0,
              "ticks": ""
             }
            },
            "type": "scatterpolargl"
           }
          ],
          "scatterternary": [
           {
            "marker": {
             "colorbar": {
              "outlinewidth": 0,
              "ticks": ""
             }
            },
            "type": "scatterternary"
           }
          ],
          "surface": [
           {
            "colorbar": {
             "outlinewidth": 0,
             "ticks": ""
            },
            "colorscale": [
             [
              0,
              "#0d0887"
             ],
             [
              0.1111111111111111,
              "#46039f"
             ],
             [
              0.2222222222222222,
              "#7201a8"
             ],
             [
              0.3333333333333333,
              "#9c179e"
             ],
             [
              0.4444444444444444,
              "#bd3786"
             ],
             [
              0.5555555555555556,
              "#d8576b"
             ],
             [
              0.6666666666666666,
              "#ed7953"
             ],
             [
              0.7777777777777778,
              "#fb9f3a"
             ],
             [
              0.8888888888888888,
              "#fdca26"
             ],
             [
              1,
              "#f0f921"
             ]
            ],
            "type": "surface"
           }
          ],
          "table": [
           {
            "cells": {
             "fill": {
              "color": "#EBF0F8"
             },
             "line": {
              "color": "white"
             }
            },
            "header": {
             "fill": {
              "color": "#C8D4E3"
             },
             "line": {
              "color": "white"
             }
            },
            "type": "table"
           }
          ]
         },
         "layout": {
          "annotationdefaults": {
           "arrowcolor": "#2a3f5f",
           "arrowhead": 0,
           "arrowwidth": 1
          },
          "autotypenumbers": "strict",
          "coloraxis": {
           "colorbar": {
            "outlinewidth": 0,
            "ticks": ""
           }
          },
          "colorscale": {
           "diverging": [
            [
             0,
             "#8e0152"
            ],
            [
             0.1,
             "#c51b7d"
            ],
            [
             0.2,
             "#de77ae"
            ],
            [
             0.3,
             "#f1b6da"
            ],
            [
             0.4,
             "#fde0ef"
            ],
            [
             0.5,
             "#f7f7f7"
            ],
            [
             0.6,
             "#e6f5d0"
            ],
            [
             0.7,
             "#b8e186"
            ],
            [
             0.8,
             "#7fbc41"
            ],
            [
             0.9,
             "#4d9221"
            ],
            [
             1,
             "#276419"
            ]
           ],
           "sequential": [
            [
             0,
             "#0d0887"
            ],
            [
             0.1111111111111111,
             "#46039f"
            ],
            [
             0.2222222222222222,
             "#7201a8"
            ],
            [
             0.3333333333333333,
             "#9c179e"
            ],
            [
             0.4444444444444444,
             "#bd3786"
            ],
            [
             0.5555555555555556,
             "#d8576b"
            ],
            [
             0.6666666666666666,
             "#ed7953"
            ],
            [
             0.7777777777777778,
             "#fb9f3a"
            ],
            [
             0.8888888888888888,
             "#fdca26"
            ],
            [
             1,
             "#f0f921"
            ]
           ],
           "sequentialminus": [
            [
             0,
             "#0d0887"
            ],
            [
             0.1111111111111111,
             "#46039f"
            ],
            [
             0.2222222222222222,
             "#7201a8"
            ],
            [
             0.3333333333333333,
             "#9c179e"
            ],
            [
             0.4444444444444444,
             "#bd3786"
            ],
            [
             0.5555555555555556,
             "#d8576b"
            ],
            [
             0.6666666666666666,
             "#ed7953"
            ],
            [
             0.7777777777777778,
             "#fb9f3a"
            ],
            [
             0.8888888888888888,
             "#fdca26"
            ],
            [
             1,
             "#f0f921"
            ]
           ]
          },
          "colorway": [
           "#636efa",
           "#EF553B",
           "#00cc96",
           "#ab63fa",
           "#FFA15A",
           "#19d3f3",
           "#FF6692",
           "#B6E880",
           "#FF97FF",
           "#FECB52"
          ],
          "font": {
           "color": "#2a3f5f"
          },
          "geo": {
           "bgcolor": "white",
           "lakecolor": "white",
           "landcolor": "#E5ECF6",
           "showlakes": true,
           "showland": true,
           "subunitcolor": "white"
          },
          "hoverlabel": {
           "align": "left"
          },
          "hovermode": "closest",
          "mapbox": {
           "style": "light"
          },
          "paper_bgcolor": "white",
          "plot_bgcolor": "#E5ECF6",
          "polar": {
           "angularaxis": {
            "gridcolor": "white",
            "linecolor": "white",
            "ticks": ""
           },
           "bgcolor": "#E5ECF6",
           "radialaxis": {
            "gridcolor": "white",
            "linecolor": "white",
            "ticks": ""
           }
          },
          "scene": {
           "xaxis": {
            "backgroundcolor": "#E5ECF6",
            "gridcolor": "white",
            "gridwidth": 2,
            "linecolor": "white",
            "showbackground": true,
            "ticks": "",
            "zerolinecolor": "white"
           },
           "yaxis": {
            "backgroundcolor": "#E5ECF6",
            "gridcolor": "white",
            "gridwidth": 2,
            "linecolor": "white",
            "showbackground": true,
            "ticks": "",
            "zerolinecolor": "white"
           },
           "zaxis": {
            "backgroundcolor": "#E5ECF6",
            "gridcolor": "white",
            "gridwidth": 2,
            "linecolor": "white",
            "showbackground": true,
            "ticks": "",
            "zerolinecolor": "white"
           }
          },
          "shapedefaults": {
           "line": {
            "color": "#2a3f5f"
           }
          },
          "ternary": {
           "aaxis": {
            "gridcolor": "white",
            "linecolor": "white",
            "ticks": ""
           },
           "baxis": {
            "gridcolor": "white",
            "linecolor": "white",
            "ticks": ""
           },
           "bgcolor": "#E5ECF6",
           "caxis": {
            "gridcolor": "white",
            "linecolor": "white",
            "ticks": ""
           }
          },
          "title": {
           "x": 0.05
          },
          "xaxis": {
           "automargin": true,
           "gridcolor": "white",
           "linecolor": "white",
           "ticks": "",
           "title": {
            "standoff": 15
           },
           "zerolinecolor": "white",
           "zerolinewidth": 2
          },
          "yaxis": {
           "automargin": true,
           "gridcolor": "white",
           "linecolor": "white",
           "ticks": "",
           "title": {
            "standoff": 15
           },
           "zerolinecolor": "white",
           "zerolinewidth": 2
          }
         }
        },
        "title": {
         "text": "Number of quotes, gender minorities, UK (2019)"
        },
        "xaxis": {
         "categoryorder": "total descending",
         "title": {
          "text": "Newspaper"
         }
        },
        "yaxis": {
         "title": {
          "text": "Number of quotes"
         }
        }
       }
      },
      "text/html": [
       "<div>                            <div id=\"4bf3987e-43bb-41ae-a537-3ce0410896ab\" class=\"plotly-graph-div\" style=\"height:525px; width:100%;\"></div>            <script type=\"text/javascript\">                require([\"plotly\"], function(Plotly) {                    window.PLOTLYENV=window.PLOTLYENV || {};                                    if (document.getElementById(\"4bf3987e-43bb-41ae-a537-3ce0410896ab\")) {                    Plotly.newPlot(                        \"4bf3987e-43bb-41ae-a537-3ce0410896ab\",                        [{\"marker\":{\"color\":\"rgb(248, 156, 116)\"},\"name\":\"Gender minorites quotes\",\"type\":\"bar\",\"x\":[\"The Sun\",\"The Guardian\",\"The Times\",\"Metro\",\"Evening Standard\",\"Daily Mirror\",\"The Daily Telegraph\",\"Daily Express\",\"Daily Star\",\"i\",\"Financial Times\",\"Daily Mail\",\"Daily Record\",\"City A.M.\"],\"y\":[321.0,55.0,13.0,13.0,188.0,536.0,194.0,189.0,287.0,119.0,5.0,65.0,42.0,3.0]}],                        {\"barmode\":\"stack\",\"template\":{\"data\":{\"bar\":[{\"error_x\":{\"color\":\"#2a3f5f\"},\"error_y\":{\"color\":\"#2a3f5f\"},\"marker\":{\"line\":{\"color\":\"#E5ECF6\",\"width\":0.5},\"pattern\":{\"fillmode\":\"overlay\",\"size\":10,\"solidity\":0.2}},\"type\":\"bar\"}],\"barpolar\":[{\"marker\":{\"line\":{\"color\":\"#E5ECF6\",\"width\":0.5},\"pattern\":{\"fillmode\":\"overlay\",\"size\":10,\"solidity\":0.2}},\"type\":\"barpolar\"}],\"carpet\":[{\"aaxis\":{\"endlinecolor\":\"#2a3f5f\",\"gridcolor\":\"white\",\"linecolor\":\"white\",\"minorgridcolor\":\"white\",\"startlinecolor\":\"#2a3f5f\"},\"baxis\":{\"endlinecolor\":\"#2a3f5f\",\"gridcolor\":\"white\",\"linecolor\":\"white\",\"minorgridcolor\":\"white\",\"startlinecolor\":\"#2a3f5f\"},\"type\":\"carpet\"}],\"choropleth\":[{\"colorbar\":{\"outlinewidth\":0,\"ticks\":\"\"},\"type\":\"choropleth\"}],\"contour\":[{\"colorbar\":{\"outlinewidth\":0,\"ticks\":\"\"},\"colorscale\":[[0.0,\"#0d0887\"],[0.1111111111111111,\"#46039f\"],[0.2222222222222222,\"#7201a8\"],[0.3333333333333333,\"#9c179e\"],[0.4444444444444444,\"#bd3786\"],[0.5555555555555556,\"#d8576b\"],[0.6666666666666666,\"#ed7953\"],[0.7777777777777778,\"#fb9f3a\"],[0.8888888888888888,\"#fdca26\"],[1.0,\"#f0f921\"]],\"type\":\"contour\"}],\"contourcarpet\":[{\"colorbar\":{\"outlinewidth\":0,\"ticks\":\"\"},\"type\":\"contourcarpet\"}],\"heatmap\":[{\"colorbar\":{\"outlinewidth\":0,\"ticks\":\"\"},\"colorscale\":[[0.0,\"#0d0887\"],[0.1111111111111111,\"#46039f\"],[0.2222222222222222,\"#7201a8\"],[0.3333333333333333,\"#9c179e\"],[0.4444444444444444,\"#bd3786\"],[0.5555555555555556,\"#d8576b\"],[0.6666666666666666,\"#ed7953\"],[0.7777777777777778,\"#fb9f3a\"],[0.8888888888888888,\"#fdca26\"],[1.0,\"#f0f921\"]],\"type\":\"heatmap\"}],\"heatmapgl\":[{\"colorbar\":{\"outlinewidth\":0,\"ticks\":\"\"},\"colorscale\":[[0.0,\"#0d0887\"],[0.1111111111111111,\"#46039f\"],[0.2222222222222222,\"#7201a8\"],[0.3333333333333333,\"#9c179e\"],[0.4444444444444444,\"#bd3786\"],[0.5555555555555556,\"#d8576b\"],[0.6666666666666666,\"#ed7953\"],[0.7777777777777778,\"#fb9f3a\"],[0.8888888888888888,\"#fdca26\"],[1.0,\"#f0f921\"]],\"type\":\"heatmapgl\"}],\"histogram\":[{\"marker\":{\"pattern\":{\"fillmode\":\"overlay\",\"size\":10,\"solidity\":0.2}},\"type\":\"histogram\"}],\"histogram2d\":[{\"colorbar\":{\"outlinewidth\":0,\"ticks\":\"\"},\"colorscale\":[[0.0,\"#0d0887\"],[0.1111111111111111,\"#46039f\"],[0.2222222222222222,\"#7201a8\"],[0.3333333333333333,\"#9c179e\"],[0.4444444444444444,\"#bd3786\"],[0.5555555555555556,\"#d8576b\"],[0.6666666666666666,\"#ed7953\"],[0.7777777777777778,\"#fb9f3a\"],[0.8888888888888888,\"#fdca26\"],[1.0,\"#f0f921\"]],\"type\":\"histogram2d\"}],\"histogram2dcontour\":[{\"colorbar\":{\"outlinewidth\":0,\"ticks\":\"\"},\"colorscale\":[[0.0,\"#0d0887\"],[0.1111111111111111,\"#46039f\"],[0.2222222222222222,\"#7201a8\"],[0.3333333333333333,\"#9c179e\"],[0.4444444444444444,\"#bd3786\"],[0.5555555555555556,\"#d8576b\"],[0.6666666666666666,\"#ed7953\"],[0.7777777777777778,\"#fb9f3a\"],[0.8888888888888888,\"#fdca26\"],[1.0,\"#f0f921\"]],\"type\":\"histogram2dcontour\"}],\"mesh3d\":[{\"colorbar\":{\"outlinewidth\":0,\"ticks\":\"\"},\"type\":\"mesh3d\"}],\"parcoords\":[{\"line\":{\"colorbar\":{\"outlinewidth\":0,\"ticks\":\"\"}},\"type\":\"parcoords\"}],\"pie\":[{\"automargin\":true,\"type\":\"pie\"}],\"scatter\":[{\"marker\":{\"colorbar\":{\"outlinewidth\":0,\"ticks\":\"\"}},\"type\":\"scatter\"}],\"scatter3d\":[{\"line\":{\"colorbar\":{\"outlinewidth\":0,\"ticks\":\"\"}},\"marker\":{\"colorbar\":{\"outlinewidth\":0,\"ticks\":\"\"}},\"type\":\"scatter3d\"}],\"scattercarpet\":[{\"marker\":{\"colorbar\":{\"outlinewidth\":0,\"ticks\":\"\"}},\"type\":\"scattercarpet\"}],\"scattergeo\":[{\"marker\":{\"colorbar\":{\"outlinewidth\":0,\"ticks\":\"\"}},\"type\":\"scattergeo\"}],\"scattergl\":[{\"marker\":{\"colorbar\":{\"outlinewidth\":0,\"ticks\":\"\"}},\"type\":\"scattergl\"}],\"scattermapbox\":[{\"marker\":{\"colorbar\":{\"outlinewidth\":0,\"ticks\":\"\"}},\"type\":\"scattermapbox\"}],\"scatterpolar\":[{\"marker\":{\"colorbar\":{\"outlinewidth\":0,\"ticks\":\"\"}},\"type\":\"scatterpolar\"}],\"scatterpolargl\":[{\"marker\":{\"colorbar\":{\"outlinewidth\":0,\"ticks\":\"\"}},\"type\":\"scatterpolargl\"}],\"scatterternary\":[{\"marker\":{\"colorbar\":{\"outlinewidth\":0,\"ticks\":\"\"}},\"type\":\"scatterternary\"}],\"surface\":[{\"colorbar\":{\"outlinewidth\":0,\"ticks\":\"\"},\"colorscale\":[[0.0,\"#0d0887\"],[0.1111111111111111,\"#46039f\"],[0.2222222222222222,\"#7201a8\"],[0.3333333333333333,\"#9c179e\"],[0.4444444444444444,\"#bd3786\"],[0.5555555555555556,\"#d8576b\"],[0.6666666666666666,\"#ed7953\"],[0.7777777777777778,\"#fb9f3a\"],[0.8888888888888888,\"#fdca26\"],[1.0,\"#f0f921\"]],\"type\":\"surface\"}],\"table\":[{\"cells\":{\"fill\":{\"color\":\"#EBF0F8\"},\"line\":{\"color\":\"white\"}},\"header\":{\"fill\":{\"color\":\"#C8D4E3\"},\"line\":{\"color\":\"white\"}},\"type\":\"table\"}]},\"layout\":{\"annotationdefaults\":{\"arrowcolor\":\"#2a3f5f\",\"arrowhead\":0,\"arrowwidth\":1},\"autotypenumbers\":\"strict\",\"coloraxis\":{\"colorbar\":{\"outlinewidth\":0,\"ticks\":\"\"}},\"colorscale\":{\"diverging\":[[0,\"#8e0152\"],[0.1,\"#c51b7d\"],[0.2,\"#de77ae\"],[0.3,\"#f1b6da\"],[0.4,\"#fde0ef\"],[0.5,\"#f7f7f7\"],[0.6,\"#e6f5d0\"],[0.7,\"#b8e186\"],[0.8,\"#7fbc41\"],[0.9,\"#4d9221\"],[1,\"#276419\"]],\"sequential\":[[0.0,\"#0d0887\"],[0.1111111111111111,\"#46039f\"],[0.2222222222222222,\"#7201a8\"],[0.3333333333333333,\"#9c179e\"],[0.4444444444444444,\"#bd3786\"],[0.5555555555555556,\"#d8576b\"],[0.6666666666666666,\"#ed7953\"],[0.7777777777777778,\"#fb9f3a\"],[0.8888888888888888,\"#fdca26\"],[1.0,\"#f0f921\"]],\"sequentialminus\":[[0.0,\"#0d0887\"],[0.1111111111111111,\"#46039f\"],[0.2222222222222222,\"#7201a8\"],[0.3333333333333333,\"#9c179e\"],[0.4444444444444444,\"#bd3786\"],[0.5555555555555556,\"#d8576b\"],[0.6666666666666666,\"#ed7953\"],[0.7777777777777778,\"#fb9f3a\"],[0.8888888888888888,\"#fdca26\"],[1.0,\"#f0f921\"]]},\"colorway\":[\"#636efa\",\"#EF553B\",\"#00cc96\",\"#ab63fa\",\"#FFA15A\",\"#19d3f3\",\"#FF6692\",\"#B6E880\",\"#FF97FF\",\"#FECB52\"],\"font\":{\"color\":\"#2a3f5f\"},\"geo\":{\"bgcolor\":\"white\",\"lakecolor\":\"white\",\"landcolor\":\"#E5ECF6\",\"showlakes\":true,\"showland\":true,\"subunitcolor\":\"white\"},\"hoverlabel\":{\"align\":\"left\"},\"hovermode\":\"closest\",\"mapbox\":{\"style\":\"light\"},\"paper_bgcolor\":\"white\",\"plot_bgcolor\":\"#E5ECF6\",\"polar\":{\"angularaxis\":{\"gridcolor\":\"white\",\"linecolor\":\"white\",\"ticks\":\"\"},\"bgcolor\":\"#E5ECF6\",\"radialaxis\":{\"gridcolor\":\"white\",\"linecolor\":\"white\",\"ticks\":\"\"}},\"scene\":{\"xaxis\":{\"backgroundcolor\":\"#E5ECF6\",\"gridcolor\":\"white\",\"gridwidth\":2,\"linecolor\":\"white\",\"showbackground\":true,\"ticks\":\"\",\"zerolinecolor\":\"white\"},\"yaxis\":{\"backgroundcolor\":\"#E5ECF6\",\"gridcolor\":\"white\",\"gridwidth\":2,\"linecolor\":\"white\",\"showbackground\":true,\"ticks\":\"\",\"zerolinecolor\":\"white\"},\"zaxis\":{\"backgroundcolor\":\"#E5ECF6\",\"gridcolor\":\"white\",\"gridwidth\":2,\"linecolor\":\"white\",\"showbackground\":true,\"ticks\":\"\",\"zerolinecolor\":\"white\"}},\"shapedefaults\":{\"line\":{\"color\":\"#2a3f5f\"}},\"ternary\":{\"aaxis\":{\"gridcolor\":\"white\",\"linecolor\":\"white\",\"ticks\":\"\"},\"baxis\":{\"gridcolor\":\"white\",\"linecolor\":\"white\",\"ticks\":\"\"},\"bgcolor\":\"#E5ECF6\",\"caxis\":{\"gridcolor\":\"white\",\"linecolor\":\"white\",\"ticks\":\"\"}},\"title\":{\"x\":0.05},\"xaxis\":{\"automargin\":true,\"gridcolor\":\"white\",\"linecolor\":\"white\",\"ticks\":\"\",\"title\":{\"standoff\":15},\"zerolinecolor\":\"white\",\"zerolinewidth\":2},\"yaxis\":{\"automargin\":true,\"gridcolor\":\"white\",\"linecolor\":\"white\",\"ticks\":\"\",\"title\":{\"standoff\":15},\"zerolinecolor\":\"white\",\"zerolinewidth\":2}}},\"title\":{\"text\":\"Number of quotes, gender minorities, UK (2019)\"},\"xaxis\":{\"categoryorder\":\"total descending\",\"title\":{\"text\":\"Newspaper\"}},\"yaxis\":{\"title\":{\"text\":\"Number of quotes\"}}},                        {\"responsive\": true}                    ).then(function(){\n",
       "                            \n",
       "var gd = document.getElementById('4bf3987e-43bb-41ae-a537-3ce0410896ab');\n",
       "var x = new MutationObserver(function (mutations, observer) {{\n",
       "        var display = window.getComputedStyle(gd).display;\n",
       "        if (!display || display === 'none') {{\n",
       "            console.log([gd, 'removed!']);\n",
       "            Plotly.purge(gd);\n",
       "            observer.disconnect();\n",
       "        }}\n",
       "}});\n",
       "\n",
       "// Listen for the removal of the full notebook cells\n",
       "var notebookContainer = gd.closest('#notebook-container');\n",
       "if (notebookContainer) {{\n",
       "    x.observe(notebookContainer, {childList: true});\n",
       "}}\n",
       "\n",
       "// Listen for the clearing of the current output cell\n",
       "var outputEl = gd.closest('.output');\n",
       "if (outputEl) {{\n",
       "    x.observe(outputEl, {childList: true});\n",
       "}}\n",
       "\n",
       "                        })                };                });            </script>        </div>"
      ]
     },
     "metadata": {},
     "output_type": "display_data"
    }
   ],
   "source": [
    "# Set color palette\n",
    "palette_values = px.colors.qualitative.Pastel\n",
    "palette = cycle(palette_values)\n",
    "\n",
    "# Bar plot female vs male for all UK newspapers\n",
    "x = newspapers_uk_df['name'].to_list()\n",
    "y = gender_repr_uk_df[gender_repr_uk_df['date'].dt.year == 2019]\n",
    "\n",
    "y = y.groupby('newspaper').sum()\n",
    "y = y.loc[x] # sort\n",
    "\n",
    "y1 = y['counts_male']\n",
    "y2 = y['counts_female']\n",
    "\n",
    "fig = go.Figure(go.Bar(x=x, y=y1, name='Male quotes', marker_color=next(palette)))\n",
    "fig.add_trace(go.Bar(x=x, y=y2, name='Female quotes', marker_color=next(palette)))\n",
    "\n",
    "fig.update_layout(barmode='stack',\n",
    "                  xaxis={'categoryorder':'total descending'},\n",
    "                  xaxis_title=\"Newspaper\", yaxis_title=\"Number of quotes\",\n",
    "                  title_text=\"Number of quotes, male and female, UK (2019)\",\n",
    ")\n",
    "fig.show()\n",
    "fig.to_html(full_html=False, include_plotlyjs='cdn')  \n",
    "fig.write_html(\"docs/_includes/fig_counts_male_female_uk_2019.html\", full_html=False, include_plotlyjs='cdn')\n",
    "Image(filename='docs/imgs/fig_counts_male_female_uk_2019.png') # for github\n",
    "\n",
    "# Set color palette\n",
    "palette_values = px.colors.qualitative.Pastel\n",
    "palette = cycle(palette_values)\n",
    "\n",
    "x = newspapers_uk_df['name'].to_list()\n",
    "y = gender_repr_uk_df[gender_repr_uk_df['date'].dt.year == 2019]\n",
    "\n",
    "y = y.groupby('newspaper').sum()\n",
    "y = y.loc[x] # sort\n",
    "\n",
    "y1 = y['counts_occ_male']\n",
    "y2 = y['counts_occ_female']\n",
    "\n",
    "fig = go.Figure(go.Bar(x=x, y=y1, name='Male quotes', marker_color=next(palette)))\n",
    "fig.add_trace(go.Bar(x=x, y=y2, name='Female quotes', marker_color=next(palette)))\n",
    "\n",
    "fig.update_layout(barmode='stack',\n",
    "                  xaxis={'categoryorder':'total descending'},\n",
    "                  xaxis_title=\"Newspaper\", yaxis_title=\"Number of quotes\",\n",
    "                  title_text=\"Number of quotes, male and female, UK (2019)\",\n",
    ")\n",
    "fig.show()\n",
    "fig.to_html(full_html=False, include_plotlyjs='cdn')  \n",
    "fig.write_html(\"docs/_includes/fig_counts_occ_male_female_uk_2019.html\", full_html=False, include_plotlyjs='cdn')\n",
    "\n",
    "# Bar plot other genders for all UK newspapers\n",
    "y3 = y['counts_other']\n",
    "\n",
    "fig = go.Figure(go.Bar(x=x, y=y3, marker_color=next(palette), name='Gender minorites quotes'))\n",
    "\n",
    "fig.update_layout(barmode='stack',\n",
    "                  xaxis={'categoryorder':'total descending'},\n",
    "                  xaxis_title=\"Newspaper\", yaxis_title=\"Number of quotes\",\n",
    "                  title_text=\"Number of quotes, gender minorities, UK (2019)\",\n",
    "                 \n",
    ")\n",
    "fig.show()\n",
    "fig.to_html(full_html=False, include_plotlyjs='cdn')  \n",
    "fig.write_html(\"docs/_includes/fig_counts_other_uk_2019.html\", full_html=False, include_plotlyjs='cdn')"
   ]
  },
  {
   "cell_type": "code",
   "execution_count": 32,
   "metadata": {},
   "outputs": [
    {
     "data": {
      "image/png": "[encoded data removed]",
      "text/plain": [
       "<IPython.core.display.Image object>"
      ]
     },
     "execution_count": 32,
     "metadata": {},
     "output_type": "execute_result"
    }
   ],
   "source": [
    "Image(filename='docs/imgs/fig_counts_male_female_uk_2019.png') # for github"
   ]
  },
  {
   "cell_type": "markdown",
   "metadata": {},
   "source": [
    "Ok, so what are the insights:\n",
    "* In general (even after choosing the journals with most cirulation) there is a diffence in number of quotes per year.\n",
    "* The equality of the population of men and women is not at all represented in citations. This difference holds for any newspapers from the tabloids to more serious daily journals.\n",
    "* We have chosen the Uk's newspapers regarding their circulation and not their online diffusion. Interestingly the most cirulated journal **Metro** seems to have nearly no captured data in the Quotebank dasaset.\n",
    "* Since we were given the number of occurrences for each quotes. We can output the same plot using the accumulated number of occurrences. We were hoping to see some additional information on the impact of a quote. It seems that the gap in the gender representation holds. But we can not affirm more because of inconsistancy between the journals and how they spread information."
   ]
  },
  {
   "cell_type": "markdown",
   "metadata": {
    "id": "9HjadljtCJFK"
   },
   "source": [
    "### 3.2 Percentage of female quotes and gender minority quotes, UK\n",
    "<a id=\"perc_quotes\"></a>\n",
    "\n",
    "Now we will have a look at the percentage of a gender. This analysis will be done on a monthly rate to create meaningful plots. "
   ]
  },
  {
   "cell_type": "code",
   "execution_count": 25,
   "metadata": {
    "id": "m8JQQiHRYZyQ"
   },
   "outputs": [
    {
     "data": {
      "application/vnd.plotly.v1+json": {
       "config": {
        "plotlyServerURL": "https://plot.ly"
       },
       "data": [
        {
         "customdata": [
          [
           69,
           591
          ],
          [
           78,
           717
          ],
          [
           114,
           965
          ],
          [
           38,
           510
          ],
          [
           73,
           510
          ],
          [
           62,
           471
          ],
          [
           29,
           309
          ],
          [
           42,
           541
          ],
          [
           68,
           661
          ],
          [
           74,
           665
          ],
          [
           21,
           453
          ],
          [
           43,
           463
          ],
          [
           0,
           8
          ],
          [
           34,
           305
          ],
          [
           0,
           0
          ],
          [
           5,
           144
          ],
          [
           16,
           255
          ],
          [
           8,
           35
          ],
          [
           237,
           1513
          ],
          [
           119,
           1161
          ],
          [
           171,
           1383
          ],
          [
           0,
           1
          ],
          [
           0,
           13
          ],
          [
           109,
           1027
          ],
          [
           3,
           22
          ],
          [
           80,
           636
          ],
          [
           182,
           1510
          ],
          [
           159,
           1153
          ],
          [
           215,
           1264
          ],
          [
           237,
           1281
          ],
          [
           166,
           1423
          ],
          [
           135,
           1291
          ],
          [
           198,
           1557
          ],
          [
           251,
           1723
          ],
          [
           213,
           1684
          ],
          [
           163,
           1113
          ],
          [
           224,
           1506
          ],
          [
           197,
           1480
          ],
          [
           185,
           1459
          ],
          [
           198,
           1542
          ],
          [
           130,
           1327
          ],
          [
           152,
           1280
          ],
          [
           137,
           1280
          ],
          [
           74,
           749
          ],
          [
           161,
           1097
          ],
          [
           149,
           1108
          ],
          [
           207,
           1140
          ],
          [
           128,
           787
          ],
          [
           159,
           1074
          ],
          [
           126,
           962
          ],
          [
           157,
           1012
          ],
          [
           148,
           759
          ],
          [
           169,
           1165
          ],
          [
           140,
           1112
          ],
          [
           99,
           786
          ],
          [
           96,
           762
          ],
          [
           183,
           1254
          ],
          [
           195,
           1455
          ],
          [
           167,
           1246
          ],
          [
           98,
           717
          ],
          [
           140,
           1063
          ],
          [
           117,
           861
          ],
          [
           75,
           762
          ],
          [
           13,
           188
          ]
         ],
         "hovertemplate": "Female percentages: %{y}<br>Female counts: %{customdata[0]}<br>Total counts: %{customdata[1]}",
         "legendgroup": "City A.M.",
         "line": {
          "color": "rgb(102, 197, 204)",
          "dash": "solid"
         },
         "mode": "lines",
         "name": "City A.M.",
         "orientation": "v",
         "showlegend": true,
         "type": "scatter",
         "x": [
          "2015-01",
          "2015-02",
          "2015-03",
          "2015-04",
          "2015-05",
          "2015-06",
          "2015-07",
          "2015-08",
          "2015-09",
          "2015-10",
          "2015-11",
          "2015-12",
          "2016-01",
          "2016-02",
          "2016-03",
          "2016-04",
          "2016-05",
          "2016-06",
          "2016-07",
          "2016-08",
          "2016-09",
          "2016-10",
          "2016-11",
          "2016-12",
          "2017-01",
          "2017-02",
          "2017-03",
          "2017-04",
          "2017-05",
          "2017-06",
          "2017-07",
          "2017-08",
          "2017-09",
          "2017-10",
          "2017-11",
          "2017-12",
          "2018-01",
          "2018-02",
          "2018-03",
          "2018-04",
          "2018-05",
          "2018-06",
          "2018-07",
          "2018-08",
          "2018-09",
          "2018-10",
          "2018-11",
          "2018-12",
          "2019-01",
          "2019-02",
          "2019-03",
          "2019-04",
          "2019-05",
          "2019-06",
          "2019-07",
          "2019-08",
          "2019-09",
          "2019-10",
          "2019-11",
          "2019-12",
          "2020-01",
          "2020-02",
          "2020-03",
          "2020-04"
         ],
         "xaxis": "x",
         "y": [
          11.6751269035533,
          10.87866108786611,
          11.813471502590673,
          7.450980392156863,
          14.313725490196077,
          13.163481953290871,
          9.385113268608414,
          7.763401109057301,
          10.287443267776098,
          11.12781954887218,
          4.635761589403973,
          9.287257019438446,
          0,
          11.147540983606557,
          null,
          3.4722222222222223,
          6.2745098039215685,
          22.857142857142858,
          15.664243225380039,
          10.249784668389319,
          12.364425162689804,
          0,
          0,
          10.613437195715676,
          13.636363636363635,
          12.578616352201259,
          12.05298013245033,
          13.790112749349523,
          17.009493670886076,
          18.501170960187356,
          11.665495432185525,
          10.4570100697134,
          12.716763005780345,
          14.567614625652931,
          12.648456057007126,
          14.645103324348607,
          14.873837981407704,
          13.31081081081081,
          12.679917751884853,
          12.840466926070038,
          9.796533534287867,
          11.875,
          10.703125,
          9.879839786381844,
          14.676390154968095,
          13.447653429602887,
          18.157894736842106,
          16.264294790343076,
          14.804469273743019,
          13.097713097713099,
          15.513833992094861,
          19.499341238471672,
          14.506437768240342,
          12.589928057553957,
          12.595419847328243,
          12.598425196850393,
          14.5933014354067,
          13.402061855670103,
          13.402889245585875,
          13.668061366806135,
          13.170272812793979,
          13.588850174216027,
          9.84251968503937,
          6.914893617021277
         ],
         "yaxis": "y"
        },
        {
         "customdata": [
          [
           691,
           2975
          ],
          [
           721,
           2837
          ],
          [
           746,
           3100
          ],
          [
           505,
           2370
          ],
          [
           550,
           3534
          ],
          [
           646,
           3801
          ],
          [
           432,
           3150
          ],
          [
           703,
           5092
          ],
          [
           831,
           5733
          ],
          [
           1267,
           7368
          ],
          [
           1175,
           5829
          ],
          [
           1613,
           8028
          ],
          [
           33,
           215
          ],
          [
           611,
           3753
          ],
          [
           6,
           32
          ],
          [
           748,
           3616
          ],
          [
           2051,
           10250
          ],
          [
           35,
           157
          ],
          [
           2092,
           8860
          ],
          [
           2065,
           8678
          ],
          [
           2544,
           11139
          ],
          [
           6,
           23
          ],
          [
           31,
           187
          ],
          [
           2171,
           10649
          ],
          [
           27,
           142
          ],
          [
           877,
           3426
          ],
          [
           3244,
           12202
          ],
          [
           2954,
           14653
          ],
          [
           3504,
           14321
          ],
          [
           3511,
           15465
          ],
          [
           2889,
           12670
          ],
          [
           1045,
           5730
          ],
          [
           1335,
           5924
          ],
          [
           1007,
           5473
          ],
          [
           1654,
           8897
          ],
          [
           717,
           4580
          ],
          [
           1474,
           7453
          ],
          [
           343,
           1654
          ],
          [
           1367,
           7461
          ],
          [
           2022,
           9415
          ],
          [
           4021,
           16627
          ],
          [
           4094,
           16615
          ],
          [
           3041,
           13182
          ],
          [
           1678,
           8465
          ],
          [
           3703,
           15762
          ],
          [
           1794,
           8435
          ],
          [
           197,
           1353
          ],
          [
           1439,
           7388
          ],
          [
           1179,
           5045
          ],
          [
           586,
           2789
          ],
          [
           1821,
           7599
          ],
          [
           2816,
           9614
          ],
          [
           5491,
           20353
          ],
          [
           4435,
           17362
          ],
          [
           2201,
           8823
          ],
          [
           1089,
           6064
          ],
          [
           4327,
           16208
          ],
          [
           4360,
           17603
          ],
          [
           4792,
           18835
          ],
          [
           3624,
           13462
          ],
          [
           4296,
           16522
          ],
          [
           2435,
           10253
          ],
          [
           2344,
           10329
          ],
          [
           826,
           3777
          ]
         ],
         "hovertemplate": "Female percentages: %{y}<br>Female counts: %{customdata[0]}<br>Total counts: %{customdata[1]}",
         "legendgroup": "Daily Express",
         "line": {
          "color": "rgb(246, 207, 113)",
          "dash": "solid"
         },
         "mode": "lines",
         "name": "Daily Express",
         "orientation": "v",
         "showlegend": true,
         "type": "scatter",
         "x": [
          "2015-01",
          "2015-02",
          "2015-03",
          "2015-04",
          "2015-05",
          "2015-06",
          "2015-07",
          "2015-08",
          "2015-09",
          "2015-10",
          "2015-11",
          "2015-12",
          "2016-01",
          "2016-02",
          "2016-03",
          "2016-04",
          "2016-05",
          "2016-06",
          "2016-07",
          "2016-08",
          "2016-09",
          "2016-10",
          "2016-11",
          "2016-12",
          "2017-01",
          "2017-02",
          "2017-03",
          "2017-04",
          "2017-05",
          "2017-06",
          "2017-07",
          "2017-08",
          "2017-09",
          "2017-10",
          "2017-11",
          "2017-12",
          "2018-01",
          "2018-02",
          "2018-03",
          "2018-04",
          "2018-05",
          "2018-06",
          "2018-07",
          "2018-08",
          "2018-09",
          "2018-10",
          "2018-11",
          "2018-12",
          "2019-01",
          "2019-02",
          "2019-03",
          "2019-04",
          "2019-05",
          "2019-06",
          "2019-07",
          "2019-08",
          "2019-09",
          "2019-10",
          "2019-11",
          "2019-12",
          "2020-01",
          "2020-02",
          "2020-03",
          "2020-04"
         ],
         "xaxis": "x",
         "y": [
          23.22689075630252,
          25.41416989777934,
          24.064516129032256,
          21.308016877637133,
          15.563101301641199,
          16.99552749276506,
          13.714285714285715,
          13.805970149253731,
          14.495028780743066,
          17.19598262757872,
          20.157831531995196,
          20.092177379172895,
          15.348837209302326,
          16.28030908606448,
          18.75,
          20.6858407079646,
          20.009756097560977,
          22.29299363057325,
          23.611738148984198,
          23.795805485134824,
          22.8386749259359,
          26.08695652173913,
          16.577540106951872,
          20.386890787867408,
          19.014084507042252,
          25.59836544074723,
          26.58580560563842,
          20.15969426056098,
          24.467565114168004,
          22.7028774652441,
          22.80189423835833,
          18.237347294938917,
          22.535449020931804,
          18.399415311529328,
          18.590536135776105,
          15.655021834061136,
          19.77727089762512,
          20.737605804111244,
          18.321940758611447,
          21.47636749867233,
          24.183556865339508,
          24.640385194101714,
          23.06933697466242,
          19.822799763733016,
          23.493211521380537,
          21.268524007113218,
          14.560236511456024,
          19.4775311315647,
          23.369672943508423,
          21.011115095016134,
          23.963679431504143,
          29.290617848970253,
          26.97882376062497,
          25.54429213224283,
          24.946163436472855,
          17.95844327176781,
          26.6966929911155,
          24.768505368403112,
          25.441996283514733,
          26.920219878175605,
          26.001694710083523,
          23.749146591241587,
          22.69338754961758,
          21.86920836642838
         ],
         "yaxis": "y"
        },
        {
         "customdata": [
          [
           81,
           660
          ],
          [
           27,
           172
          ],
          [
           178,
           1141
          ],
          [
           103,
           866
          ],
          [
           46,
           490
          ],
          [
           91,
           478
          ],
          [
           139,
           706
          ],
          [
           164,
           1252
          ],
          [
           231,
           1236
          ],
          [
           222,
           1270
          ],
          [
           119,
           790
          ],
          [
           196,
           1236
          ],
          [
           4,
           38
          ],
          [
           72,
           211
          ],
          [
           2,
           2
          ],
          [
           83,
           588
          ],
          [
           159,
           1158
          ],
          [
           13,
           35
          ],
          [
           175,
           884
          ],
          [
           139,
           1357
          ],
          [
           177,
           1267
          ],
          [
           0,
           2
          ],
          [
           16,
           30
          ],
          [
           192,
           1253
          ],
          [
           8,
           19
          ],
          [
           60,
           494
          ],
          [
           213,
           1520
          ],
          [
           168,
           1171
          ],
          [
           238,
           1204
          ],
          [
           235,
           1098
          ],
          [
           206,
           1363
          ],
          [
           1377,
           8382
          ],
          [
           1004,
           5580
          ],
          [
           463,
           1920
          ],
          [
           278,
           1245
          ],
          [
           156,
           1159
          ],
          [
           224,
           1520
          ],
          [
           252,
           1761
          ],
          [
           338,
           2518
          ],
          [
           225,
           2756
          ],
          [
           302,
           1871
          ],
          [
           219,
           1128
          ],
          [
           164,
           1177
          ],
          [
           176,
           981
          ],
          [
           347,
           2152
          ],
          [
           329,
           1985
          ],
          [
           310,
           1849
          ],
          [
           315,
           1611
          ],
          [
           404,
           2135
          ],
          [
           343,
           1426
          ],
          [
           278,
           1413
          ],
          [
           378,
           1849
          ],
          [
           546,
           2634
          ],
          [
           450,
           2125
          ],
          [
           301,
           1259
          ],
          [
           401,
           1964
          ],
          [
           442,
           2069
          ],
          [
           440,
           2118
          ],
          [
           493,
           2099
          ],
          [
           359,
           1555
          ],
          [
           294,
           1716
          ],
          [
           344,
           1611
          ],
          [
           385,
           1740
          ],
          [
           123,
           644
          ]
         ],
         "hovertemplate": "Female percentages: %{y}<br>Female counts: %{customdata[0]}<br>Total counts: %{customdata[1]}",
         "legendgroup": "Daily Mail",
         "line": {
          "color": "rgb(248, 156, 116)",
          "dash": "solid"
         },
         "mode": "lines",
         "name": "Daily Mail",
         "orientation": "v",
         "showlegend": true,
         "type": "scatter",
         "x": [
          "2015-01",
          "2015-02",
          "2015-03",
          "2015-04",
          "2015-05",
          "2015-06",
          "2015-07",
          "2015-08",
          "2015-09",
          "2015-10",
          "2015-11",
          "2015-12",
          "2016-01",
          "2016-02",
          "2016-03",
          "2016-04",
          "2016-05",
          "2016-06",
          "2016-07",
          "2016-08",
          "2016-09",
          "2016-10",
          "2016-11",
          "2016-12",
          "2017-01",
          "2017-02",
          "2017-03",
          "2017-04",
          "2017-05",
          "2017-06",
          "2017-07",
          "2017-08",
          "2017-09",
          "2017-10",
          "2017-11",
          "2017-12",
          "2018-01",
          "2018-02",
          "2018-03",
          "2018-04",
          "2018-05",
          "2018-06",
          "2018-07",
          "2018-08",
          "2018-09",
          "2018-10",
          "2018-11",
          "2018-12",
          "2019-01",
          "2019-02",
          "2019-03",
          "2019-04",
          "2019-05",
          "2019-06",
          "2019-07",
          "2019-08",
          "2019-09",
          "2019-10",
          "2019-11",
          "2019-12",
          "2020-01",
          "2020-02",
          "2020-03",
          "2020-04"
         ],
         "xaxis": "x",
         "y": [
          12.272727272727273,
          15.69767441860465,
          15.600350569675722,
          11.893764434180138,
          9.387755102040817,
          19.03765690376569,
          19.688385269121813,
          13.099041533546327,
          18.689320388349515,
          17.480314960629922,
          15.063291139240507,
          15.857605177993527,
          10.526315789473683,
          34.12322274881517,
          100,
          14.1156462585034,
          13.730569948186528,
          37.142857142857146,
          19.79638009049774,
          10.243183492999263,
          13.970007892659828,
          0,
          53.333333333333336,
          15.323224261771747,
          42.10526315789473,
          12.145748987854251,
          14.01315789473684,
          14.346712211784798,
          19.767441860465116,
          21.402550091074684,
          15.113719735876744,
          16.42806012884753,
          17.99283154121864,
          24.114583333333332,
          22.329317269076306,
          13.459879206212252,
          14.736842105263156,
          14.310051107325384,
          13.423351866560761,
          8.16400580551524,
          16.141101015499732,
          19.414893617021274,
          13.93372982158029,
          17.940876656472987,
          16.12453531598513,
          16.574307304785894,
          16.7658193618172,
          19.553072625698324,
          18.92271662763466,
          24.05329593267882,
          19.67445152158528,
          20.443482963764197,
          20.72892938496583,
          21.176470588235293,
          23.90786338363781,
          20.417515274949082,
          21.36297728371194,
          20.77431539187913,
          23.487374940447832,
          23.086816720257236,
          17.132867132867133,
          21.353196772191186,
          22.126436781609197,
          19.099378881987576
         ],
         "yaxis": "y"
        },
        {
         "customdata": [
          [
           794,
           2855
          ],
          [
           759,
           3230
          ],
          [
           557,
           2469
          ],
          [
           773,
           2954
          ],
          [
           1064,
           4217
          ],
          [
           1120,
           4169
          ],
          [
           993,
           3778
          ],
          [
           1531,
           5788
          ],
          [
           1890,
           7199
          ],
          [
           1714,
           7727
          ],
          [
           1382,
           6603
          ],
          [
           1747,
           7796
          ],
          [
           27,
           144
          ],
          [
           748,
           3467
          ],
          [
           4,
           10
          ],
          [
           889,
           3686
          ],
          [
           2150,
           8390
          ],
          [
           35,
           96
          ],
          [
           2406,
           8340
          ],
          [
           2009,
           7420
          ],
          [
           1764,
           7130
          ],
          [
           2,
           7
          ],
          [
           37,
           100
          ],
          [
           1807,
           7301
          ],
          [
           39,
           125
          ],
          [
           1049,
           3678
          ],
          [
           2235,
           8987
          ],
          [
           1575,
           6749
          ],
          [
           2003,
           8446
          ],
          [
           2082,
           7764
          ],
          [
           2124,
           8168
          ],
          [
           2598,
           9214
          ],
          [
           2609,
           9496
          ],
          [
           2897,
           10506
          ],
          [
           2462,
           9145
          ],
          [
           2089,
           7926
          ],
          [
           2784,
           9555
          ],
          [
           2453,
           8471
          ],
          [
           2936,
           10047
          ],
          [
           2415,
           8424
          ],
          [
           2494,
           8619
          ],
          [
           2163,
           7848
          ],
          [
           2318,
           8110
          ],
          [
           2412,
           7939
          ],
          [
           2590,
           9202
          ],
          [
           2787,
           10008
          ],
          [
           2769,
           10014
          ],
          [
           2471,
           8460
          ],
          [
           2646,
           9144
          ],
          [
           2747,
           9210
          ],
          [
           2804,
           9677
          ],
          [
           2415,
           8179
          ],
          [
           2580,
           9445
          ],
          [
           2090,
           7635
          ],
          [
           1830,
           5964
          ],
          [
           2142,
           7373
          ],
          [
           2531,
           9036
          ],
          [
           2681,
           9027
          ],
          [
           2638,
           9383
          ],
          [
           2107,
           7356
          ],
          [
           2491,
           7927
          ],
          [
           1951,
           6532
          ],
          [
           1747,
           5461
          ],
          [
           693,
           2476
          ]
         ],
         "hovertemplate": "Female percentages: %{y}<br>Female counts: %{customdata[0]}<br>Total counts: %{customdata[1]}",
         "legendgroup": "Daily Mirror",
         "line": {
          "color": "rgb(220, 176, 242)",
          "dash": "solid"
         },
         "mode": "lines",
         "name": "Daily Mirror",
         "orientation": "v",
         "showlegend": true,
         "type": "scatter",
         "x": [
          "2015-01",
          "2015-02",
          "2015-03",
          "2015-04",
          "2015-05",
          "2015-06",
          "2015-07",
          "2015-08",
          "2015-09",
          "2015-10",
          "2015-11",
          "2015-12",
          "2016-01",
          "2016-02",
          "2016-03",
          "2016-04",
          "2016-05",
          "2016-06",
          "2016-07",
          "2016-08",
          "2016-09",
          "2016-10",
          "2016-11",
          "2016-12",
          "2017-01",
          "2017-02",
          "2017-03",
          "2017-04",
          "2017-05",
          "2017-06",
          "2017-07",
          "2017-08",
          "2017-09",
          "2017-10",
          "2017-11",
          "2017-12",
          "2018-01",
          "2018-02",
          "2018-03",
          "2018-04",
          "2018-05",
          "2018-06",
          "2018-07",
          "2018-08",
          "2018-09",
          "2018-10",
          "2018-11",
          "2018-12",
          "2019-01",
          "2019-02",
          "2019-03",
          "2019-04",
          "2019-05",
          "2019-06",
          "2019-07",
          "2019-08",
          "2019-09",
          "2019-10",
          "2019-11",
          "2019-12",
          "2020-01",
          "2020-02",
          "2020-03",
          "2020-04"
         ],
         "xaxis": "x",
         "y": [
          27.81085814360771,
          23.4984520123839,
          22.559740785743216,
          26.167907921462426,
          25.231207019207968,
          26.864955624850083,
          26.283748014822656,
          26.451278507256394,
          26.25364633976941,
          22.181959363271645,
          20.929880357413296,
          22.4089276552078,
          18.75,
          21.574848572252666,
          40,
          24.118285404232232,
          25.62574493444577,
          36.45833333333333,
          28.848920863309353,
          27.07547169811321,
          24.74053295932679,
          28.57142857142857,
          37,
          24.750034241884673,
          31.2,
          28.520935290918974,
          24.869255591409814,
          23.336790635649727,
          23.71536822164338,
          26.816074188562595,
          26.003917727717923,
          28.196223138701974,
          27.47472620050548,
          27.57471920807158,
          26.921815199562605,
          26.356295735553875,
          29.13657770800628,
          28.95762011568882,
          29.222653528416444,
          28.66809116809117,
          28.936071470008123,
          27.561162079510705,
          28.581997533908755,
          30.381660158710165,
          28.14605520539013,
          27.847721822541967,
          27.651288196524863,
          29.2080378250591,
          28.937007874015748,
          29.82627578718784,
          28.9759222899659,
          29.52683702164079,
          27.316040232927474,
          27.37393582187295,
          30.6841046277666,
          29.051946290519464,
          28.010181496237273,
          29.699789520327908,
          28.114675476926354,
          28.643284393692227,
          31.42424624700391,
          29.8683404776485,
          31.99047793444424,
          27.98869143780291
         ],
         "yaxis": "y"
        },
        {
         "customdata": [
          [
           354,
           1526
          ],
          [
           375,
           1752
          ],
          [
           356,
           1756
          ],
          [
           321,
           1626
          ],
          [
           411,
           1712
          ],
          [
           378,
           1628
          ],
          [
           465,
           1720
          ],
          [
           785,
           2986
          ],
          [
           779,
           3186
          ],
          [
           893,
           3293
          ],
          [
           592,
           2457
          ],
          [
           839,
           3293
          ],
          [
           11,
           70
          ],
          [
           183,
           837
          ],
          [
           0,
           1
          ],
          [
           255,
           1042
          ],
          [
           688,
           2620
          ],
          [
           6,
           32
          ],
          [
           746,
           2738
          ],
          [
           1060,
           3152
          ],
          [
           925,
           3170
          ],
          [
           1,
           2
          ],
          [
           6,
           21
          ],
          [
           895,
           3589
          ],
          [
           0,
           10
          ],
          [
           328,
           1279
          ],
          [
           932,
           3863
          ],
          [
           791,
           3624
          ],
          [
           294,
           945
          ],
          [
           919,
           3683
          ],
          [
           748,
           3277
          ],
          [
           766,
           3058
          ],
          [
           665,
           2659
          ],
          [
           887,
           3635
          ],
          [
           427,
           1585
          ],
          [
           786,
           3168
          ],
          [
           865,
           3595
          ],
          [
           660,
           3347
          ],
          [
           777,
           3602
          ],
          [
           740,
           3359
          ],
          [
           706,
           3457
          ],
          [
           722,
           2985
          ],
          [
           729,
           3183
          ],
          [
           786,
           3214
          ],
          [
           814,
           3473
          ],
          [
           683,
           3185
          ],
          [
           712,
           3394
          ],
          [
           557,
           2350
          ],
          [
           689,
           3335
          ],
          [
           716,
           3149
          ],
          [
           508,
           2423
          ],
          [
           522,
           2213
          ],
          [
           646,
           3183
          ],
          [
           686,
           2906
          ],
          [
           286,
           1268
          ],
          [
           418,
           2285
          ],
          [
           446,
           2743
          ],
          [
           479,
           2831
          ],
          [
           549,
           2849
          ],
          [
           438,
           2259
          ],
          [
           438,
           2174
          ],
          [
           415,
           2177
          ],
          [
           325,
           1614
          ],
          [
           99,
           462
          ]
         ],
         "hovertemplate": "Female percentages: %{y}<br>Female counts: %{customdata[0]}<br>Total counts: %{customdata[1]}",
         "legendgroup": "Daily Record",
         "line": {
          "color": "rgb(135, 197, 95)",
          "dash": "solid"
         },
         "mode": "lines",
         "name": "Daily Record",
         "orientation": "v",
         "showlegend": true,
         "type": "scatter",
         "x": [
          "2015-01",
          "2015-02",
          "2015-03",
          "2015-04",
          "2015-05",
          "2015-06",
          "2015-07",
          "2015-08",
          "2015-09",
          "2015-10",
          "2015-11",
          "2015-12",
          "2016-01",
          "2016-02",
          "2016-03",
          "2016-04",
          "2016-05",
          "2016-06",
          "2016-07",
          "2016-08",
          "2016-09",
          "2016-10",
          "2016-11",
          "2016-12",
          "2017-01",
          "2017-02",
          "2017-03",
          "2017-04",
          "2017-05",
          "2017-06",
          "2017-07",
          "2017-08",
          "2017-09",
          "2017-10",
          "2017-11",
          "2017-12",
          "2018-01",
          "2018-02",
          "2018-03",
          "2018-04",
          "2018-05",
          "2018-06",
          "2018-07",
          "2018-08",
          "2018-09",
          "2018-10",
          "2018-11",
          "2018-12",
          "2019-01",
          "2019-02",
          "2019-03",
          "2019-04",
          "2019-05",
          "2019-06",
          "2019-07",
          "2019-08",
          "2019-09",
          "2019-10",
          "2019-11",
          "2019-12",
          "2020-01",
          "2020-02",
          "2020-03",
          "2020-04"
         ],
         "xaxis": "x",
         "y": [
          23.197903014416777,
          21.404109589041095,
          20.273348519362187,
          19.74169741697417,
          24.00700934579439,
          23.21867321867322,
          27.03488372093023,
          26.289350301406568,
          24.450721908349028,
          27.118129365320375,
          24.094424094424095,
          25.478287276040085,
          15.714285714285714,
          21.863799283154123,
          0,
          24.472168905950095,
          26.259541984732827,
          18.75,
          27.24616508400292,
          33.629441624365484,
          29.179810725552052,
          50,
          28.57142857142857,
          24.93730844246308,
          0,
          25.645035183737296,
          24.126326689101735,
          21.82671081677704,
          31.11111111111111,
          24.9524843877274,
          22.82575526396094,
          25.049051667756707,
          25.00940203083866,
          24.401650618982117,
          26.940063091482653,
          24.810606060606062,
          24.061196105702365,
          19.71915147893636,
          21.571349250416436,
          22.030366180410837,
          20.42233150130171,
          24.187604690117254,
          22.90292177191329,
          24.45550715619166,
          23.437949899222573,
          21.44427001569859,
          20.978196817913965,
          23.70212765957447,
          20.65967016491754,
          22.737376945061925,
          20.965744944283944,
          23.587889742431088,
          20.295318881558277,
          23.60633172746043,
          22.555205047318612,
          18.293216630196937,
          16.259569814072183,
          16.919816319321797,
          19.26991926991927,
          19.389110225763613,
          20.14719411223551,
          19.062930638493338,
          20.1363073110285,
          21.428571428571427
         ],
         "yaxis": "y"
        },
        {
         "customdata": [
          [
           607,
           2537
          ],
          [
           599,
           2519
          ],
          [
           588,
           3106
          ],
          [
           481,
           2634
          ],
          [
           257,
           1502
          ],
          [
           261,
           1181
          ],
          [
           16,
           104
          ],
          [
           34,
           129
          ],
          [
           32,
           157
          ],
          [
           52,
           283
          ],
          [
           397,
           2570
          ],
          [
           493,
           3428
          ],
          [
           7,
           66
          ],
          [
           243,
           1763
          ],
          [
           1,
           6
          ],
          [
           276,
           1602
          ],
          [
           667,
           3741
          ],
          [
           13,
           28
          ],
          [
           575,
           2963
          ],
          [
           821,
           4036
          ],
          [
           1310,
           6163
          ],
          [
           1,
           22
          ],
          [
           10,
           33
          ],
          [
           1507,
           7745
          ],
          [
           12,
           33
          ],
          [
           803,
           3048
          ],
          [
           1289,
           4627
          ],
          [
           1937,
           7564
          ],
          [
           1297,
           4487
          ],
          [
           1858,
           5856
          ],
          [
           1501,
           5626
          ],
          [
           1935,
           7866
          ],
          [
           1739,
           7531
          ],
          [
           1753,
           7813
          ],
          [
           1491,
           7095
          ],
          [
           1320,
           6674
          ],
          [
           1754,
           7359
          ],
          [
           1558,
           6325
          ],
          [
           1706,
           6698
          ],
          [
           1515,
           6277
          ],
          [
           1513,
           6532
          ],
          [
           1301,
           5674
          ],
          [
           1585,
           6097
          ],
          [
           1612,
           6766
          ],
          [
           1572,
           7071
          ],
          [
           1413,
           6071
          ],
          [
           48,
           212
          ],
          [
           809,
           4195
          ],
          [
           1054,
           4789
          ],
          [
           824,
           4447
          ],
          [
           976,
           4354
          ],
          [
           597,
           2806
          ],
          [
           996,
           4647
          ],
          [
           771,
           3396
          ],
          [
           682,
           2646
          ],
          [
           1053,
           3590
          ],
          [
           1370,
           4246
          ],
          [
           1378,
           5147
          ],
          [
           1270,
           5569
          ],
          [
           1015,
           4081
          ],
          [
           1058,
           4030
          ],
          [
           995,
           4134
          ],
          [
           863,
           3448
          ],
          [
           416,
           1401
          ]
         ],
         "hovertemplate": "Female percentages: %{y}<br>Female counts: %{customdata[0]}<br>Total counts: %{customdata[1]}",
         "legendgroup": "Daily Star",
         "line": {
          "color": "rgb(158, 185, 243)",
          "dash": "solid"
         },
         "mode": "lines",
         "name": "Daily Star",
         "orientation": "v",
         "showlegend": true,
         "type": "scatter",
         "x": [
          "2015-01",
          "2015-02",
          "2015-03",
          "2015-04",
          "2015-05",
          "2015-06",
          "2015-07",
          "2015-08",
          "2015-09",
          "2015-10",
          "2015-11",
          "2015-12",
          "2016-01",
          "2016-02",
          "2016-03",
          "2016-04",
          "2016-05",
          "2016-06",
          "2016-07",
          "2016-08",
          "2016-09",
          "2016-10",
          "2016-11",
          "2016-12",
          "2017-01",
          "2017-02",
          "2017-03",
          "2017-04",
          "2017-05",
          "2017-06",
          "2017-07",
          "2017-08",
          "2017-09",
          "2017-10",
          "2017-11",
          "2017-12",
          "2018-01",
          "2018-02",
          "2018-03",
          "2018-04",
          "2018-05",
          "2018-06",
          "2018-07",
          "2018-08",
          "2018-09",
          "2018-10",
          "2018-11",
          "2018-12",
          "2019-01",
          "2019-02",
          "2019-03",
          "2019-04",
          "2019-05",
          "2019-06",
          "2019-07",
          "2019-08",
          "2019-09",
          "2019-10",
          "2019-11",
          "2019-12",
          "2020-01",
          "2020-02",
          "2020-03",
          "2020-04"
         ],
         "xaxis": "x",
         "y": [
          23.925896728419392,
          23.779277491067884,
          18.931101094655507,
          18.261199696279423,
          17.11051930758988,
          22.09991532599492,
          15.384615384615385,
          26.356589147286826,
          20.382165605095544,
          18.374558303886925,
          15.447470817120623,
          14.381563593932324,
          10.606060606060606,
          13.783323879750425,
          16.666666666666664,
          17.228464419475657,
          17.829457364341085,
          46.42857142857143,
          19.406007424907187,
          20.341922695738354,
          21.255881875709882,
          4.545454545454546,
          30.303030303030305,
          19.45771465461588,
          36.36363636363637,
          26.34514435695538,
          27.858223470931488,
          25.6081438392385,
          28.905727657677737,
          31.72814207650273,
          26.67970138642019,
          24.59954233409611,
          23.091222945160006,
          22.436964034301806,
          21.01479915433404,
          19.778243931675156,
          23.834760157630114,
          24.632411067193676,
          25.47028963869812,
          24.135733630715308,
          23.16289038579302,
          22.929150511103277,
          25.996391668033457,
          23.82500738989063,
          22.231650403054733,
          23.274584088288584,
          22.641509433962266,
          19.284862932061976,
          22.008770098141575,
          18.5293456262649,
          22.41616903996325,
          21.27583749109052,
          21.43318269851517,
          22.703180212014136,
          25.774754346182917,
          29.331476323119777,
          32.265661799340556,
          26.772877404313196,
          22.80481235410307,
          24.871355060034304,
          26.253101736972706,
          24.068698597000484,
          25.02900232018562,
          29.693076374018556
         ],
         "yaxis": "y"
        },
        {
         "customdata": [
          [
           375,
           2288
          ],
          [
           509,
           2704
          ],
          [
           546,
           2891
          ],
          [
           483,
           2131
          ],
          [
           372,
           1953
          ],
          [
           387,
           1718
          ],
          [
           743,
           4198
          ],
          [
           955,
           5733
          ],
          [
           1313,
           7449
          ],
          [
           875,
           5814
          ],
          [
           755,
           4338
          ],
          [
           1134,
           7624
          ],
          [
           16,
           116
          ],
          [
           389,
           1862
          ],
          [
           2,
           5
          ],
          [
           566,
           3263
          ],
          [
           1346,
           7741
          ],
          [
           20,
           68
          ],
          [
           1547,
           7563
          ],
          [
           1421,
           6683
          ],
          [
           1446,
           6958
          ],
          [
           1,
           6
          ],
          [
           13,
           66
          ],
          [
           1010,
           6110
          ],
          [
           17,
           58
          ],
          [
           408,
           2037
          ],
          [
           1209,
           6613
          ],
          [
           1196,
           7078
          ],
          [
           1319,
           7003
          ],
          [
           1515,
           7895
          ],
          [
           1387,
           6736
          ],
          [
           1375,
           6624
          ],
          [
           1149,
           6051
          ],
          [
           1831,
           9048
          ],
          [
           1352,
           7670
          ],
          [
           1389,
           7303
          ],
          [
           2754,
           11994
          ],
          [
           2916,
           12259
          ],
          [
           2165,
           10850
          ],
          [
           1983,
           9008
          ],
          [
           1833,
           9647
          ],
          [
           1586,
           8960
          ],
          [
           1940,
           9496
          ],
          [
           1926,
           9808
          ],
          [
           1659,
           9442
          ],
          [
           2730,
           12451
          ],
          [
           2585,
           12949
          ],
          [
           1970,
           9938
          ],
          [
           1863,
           7998
          ],
          [
           1398,
           5576
          ],
          [
           2510,
           11639
          ],
          [
           2342,
           9604
          ],
          [
           2674,
           11725
          ],
          [
           1968,
           9366
          ],
          [
           1881,
           8926
          ],
          [
           1423,
           7423
          ],
          [
           1637,
           9090
          ],
          [
           1996,
           11254
          ],
          [
           1565,
           8875
          ],
          [
           1927,
           9282
          ],
          [
           2121,
           10777
          ],
          [
           1700,
           8618
          ],
          [
           1819,
           9270
          ],
          [
           674,
           3801
          ]
         ],
         "hovertemplate": "Female percentages: %{y}<br>Female counts: %{customdata[0]}<br>Total counts: %{customdata[1]}",
         "legendgroup": "Evening Standard",
         "line": {
          "color": "rgb(254, 136, 177)",
          "dash": "solid"
         },
         "mode": "lines",
         "name": "Evening Standard",
         "orientation": "v",
         "showlegend": true,
         "type": "scatter",
         "x": [
          "2015-01",
          "2015-02",
          "2015-03",
          "2015-04",
          "2015-05",
          "2015-06",
          "2015-07",
          "2015-08",
          "2015-09",
          "2015-10",
          "2015-11",
          "2015-12",
          "2016-01",
          "2016-02",
          "2016-03",
          "2016-04",
          "2016-05",
          "2016-06",
          "2016-07",
          "2016-08",
          "2016-09",
          "2016-10",
          "2016-11",
          "2016-12",
          "2017-01",
          "2017-02",
          "2017-03",
          "2017-04",
          "2017-05",
          "2017-06",
          "2017-07",
          "2017-08",
          "2017-09",
          "2017-10",
          "2017-11",
          "2017-12",
          "2018-01",
          "2018-02",
          "2018-03",
          "2018-04",
          "2018-05",
          "2018-06",
          "2018-07",
          "2018-08",
          "2018-09",
          "2018-10",
          "2018-11",
          "2018-12",
          "2019-01",
          "2019-02",
          "2019-03",
          "2019-04",
          "2019-05",
          "2019-06",
          "2019-07",
          "2019-08",
          "2019-09",
          "2019-10",
          "2019-11",
          "2019-12",
          "2020-01",
          "2020-02",
          "2020-03",
          "2020-04"
         ],
         "xaxis": "x",
         "y": [
          16.38986013986014,
          18.82396449704142,
          18.886198547215496,
          22.665415297982168,
          19.047619047619047,
          22.52619324796275,
          17.69890424011434,
          16.657945229373798,
          17.62652705061082,
          15.049879600963193,
          17.404333794375287,
          14.87408184679958,
          13.793103448275861,
          20.891514500537056,
          40,
          17.346000612932883,
          17.387934375403695,
          29.411764705882355,
          20.454845960597645,
          21.262905880592548,
          20.781833860304687,
          16.666666666666664,
          19.696969696969695,
          16.53027823240589,
          29.310344827586203,
          20.029455081001473,
          18.282171480417357,
          16.89742865216163,
          18.834785092103385,
          19.189360354654845,
          20.590855106888363,
          20.757850241545896,
          18.98859692612791,
          20.236516357206014,
          17.627118644067796,
          19.019580994112008,
          22.961480740370185,
          23.78660575903418,
          19.953917050691246,
          22.013765541740675,
          19.000725614180574,
          17.700892857142858,
          20.42965459140691,
          19.637030995106038,
          17.570429993645416,
          21.925949722913824,
          19.962931500501966,
          19.822901992352588,
          23.293323330832706,
          25.071736011477764,
          21.56542658303978,
          24.385672636401498,
          22.80597014925373,
          21.012171684817424,
          21.073269101501232,
          19.170146840899907,
          18.008800880088007,
          17.735916118713348,
          17.633802816901408,
          20.760611937082526,
          19.680801707339704,
          19.72615456022279,
          19.622437971952536,
          17.73217574322547
         ],
         "yaxis": "y"
        },
        {
         "customdata": [
          [
           49,
           343
          ],
          [
           83,
           525
          ],
          [
           55,
           502
          ],
          [
           37,
           301
          ],
          [
           42,
           376
          ],
          [
           12,
           176
          ],
          [
           66,
           405
          ],
          [
           85,
           419
          ],
          [
           102,
           904
          ],
          [
           59,
           685
          ],
          [
           40,
           360
          ],
          [
           115,
           485
          ],
          [
           0,
           2
          ],
          [
           44,
           253
          ],
          [
           0,
           1
          ],
          [
           22,
           309
          ],
          [
           97,
           716
          ],
          [
           1,
           12
          ],
          [
           113,
           662
          ],
          [
           40,
           384
          ],
          [
           96,
           762
          ],
          [
           0,
           2
          ],
          [
           3,
           32
          ],
          [
           104,
           445
          ],
          [
           0,
           15
          ],
          [
           35,
           253
          ],
          [
           80,
           784
          ],
          [
           57,
           521
          ],
          [
           38,
           281
          ],
          [
           23,
           180
          ],
          [
           23,
           257
          ],
          [
           37,
           590
          ],
          [
           96,
           713
          ],
          [
           170,
           889
          ],
          [
           98,
           800
          ],
          [
           56,
           483
          ],
          [
           78,
           570
          ],
          [
           66,
           632
          ],
          [
           152,
           768
          ],
          [
           58,
           524
          ],
          [
           75,
           645
          ],
          [
           65,
           619
          ],
          [
           41,
           472
          ],
          [
           42,
           438
          ],
          [
           126,
           598
          ],
          [
           55,
           656
          ],
          [
           104,
           668
          ],
          [
           71,
           373
          ],
          [
           99,
           541
          ],
          [
           96,
           523
          ],
          [
           131,
           819
          ],
          [
           73,
           549
          ],
          [
           51,
           340
          ],
          [
           55,
           442
          ],
          [
           59,
           346
          ],
          [
           18,
           274
          ],
          [
           110,
           814
          ],
          [
           143,
           533
          ],
          [
           55,
           378
          ],
          [
           31,
           289
          ],
          [
           50,
           278
          ],
          [
           33,
           242
          ],
          [
           67,
           315
          ],
          [
           11,
           82
          ]
         ],
         "hovertemplate": "Female percentages: %{y}<br>Female counts: %{customdata[0]}<br>Total counts: %{customdata[1]}",
         "legendgroup": "Financial Times",
         "line": {
          "color": "rgb(201, 219, 116)",
          "dash": "solid"
         },
         "mode": "lines",
         "name": "Financial Times",
         "orientation": "v",
         "showlegend": true,
         "type": "scatter",
         "x": [
          "2015-01",
          "2015-02",
          "2015-03",
          "2015-04",
          "2015-05",
          "2015-06",
          "2015-07",
          "2015-08",
          "2015-09",
          "2015-10",
          "2015-11",
          "2015-12",
          "2016-01",
          "2016-02",
          "2016-03",
          "2016-04",
          "2016-05",
          "2016-06",
          "2016-07",
          "2016-08",
          "2016-09",
          "2016-10",
          "2016-11",
          "2016-12",
          "2017-01",
          "2017-02",
          "2017-03",
          "2017-04",
          "2017-05",
          "2017-06",
          "2017-07",
          "2017-08",
          "2017-09",
          "2017-10",
          "2017-11",
          "2017-12",
          "2018-01",
          "2018-02",
          "2018-03",
          "2018-04",
          "2018-05",
          "2018-06",
          "2018-07",
          "2018-08",
          "2018-09",
          "2018-10",
          "2018-11",
          "2018-12",
          "2019-01",
          "2019-02",
          "2019-03",
          "2019-04",
          "2019-05",
          "2019-06",
          "2019-07",
          "2019-08",
          "2019-09",
          "2019-10",
          "2019-11",
          "2019-12",
          "2020-01",
          "2020-02",
          "2020-03",
          "2020-04"
         ],
         "xaxis": "x",
         "y": [
          14.285714285714285,
          15.80952380952381,
          10.95617529880478,
          12.29235880398671,
          11.170212765957446,
          6.8181818181818175,
          16.296296296296298,
          20.286396181384248,
          11.283185840707963,
          8.613138686131387,
          11.11111111111111,
          23.711340206185564,
          0,
          17.391304347826086,
          0,
          7.119741100323624,
          13.547486033519554,
          8.333333333333332,
          17.069486404833835,
          10.416666666666668,
          12.598425196850393,
          0,
          9.375,
          23.370786516853933,
          0,
          13.83399209486166,
          10.204081632653061,
          10.9404990403071,
          13.523131672597867,
          12.777777777777777,
          8.949416342412452,
          6.271186440677965,
          13.464235624123422,
          19.122609673790777,
          12.25,
          11.594202898550725,
          13.684210526315791,
          10.443037974683545,
          19.791666666666664,
          11.068702290076336,
          11.627906976744185,
          10.500807754442649,
          8.686440677966102,
          9.58904109589041,
          21.070234113712374,
          8.384146341463415,
          15.568862275449103,
          19.034852546916888,
          18.299445471349355,
          18.35564053537285,
          15.995115995115993,
          13.296903460837886,
          15,
          12.44343891402715,
          17.052023121387283,
          6.569343065693431,
          13.513513513513514,
          26.82926829268293,
          14.550264550264549,
          10.726643598615917,
          17.985611510791365,
          13.636363636363635,
          21.26984126984127,
          13.414634146341465
         ],
         "yaxis": "y"
        },
        {
         "customdata": [
          [
           2,
           4
          ],
          [
           2,
           5
          ],
          [
           1,
           2
          ],
          [
           0,
           1
          ],
          [
           2,
           3
          ],
          [
           2,
           3
          ],
          [
           0,
           2
          ],
          [
           2,
           10
          ],
          [
           1,
           8
          ],
          [
           3,
           15
          ],
          [
           4,
           11
          ],
          [
           2,
           15
          ],
          [
           0,
           0
          ],
          [
           1,
           5
          ],
          [
           0,
           0
          ],
          [
           9,
           22
          ],
          [
           8,
           20
          ],
          [
           0,
           0
          ],
          [
           7,
           25
          ],
          [
           10,
           53
          ],
          [
           12,
           53
          ],
          [
           0,
           0
          ],
          [
           1,
           1
          ],
          [
           12,
           34
          ],
          [
           1,
           5
          ],
          [
           5,
           15
          ],
          [
           27,
           63
          ],
          [
           27,
           83
          ],
          [
           9,
           25
          ],
          [
           21,
           50
          ],
          [
           29,
           75
          ],
          [
           61,
           153
          ],
          [
           35,
           114
          ],
          [
           25,
           74
          ],
          [
           31,
           85
          ],
          [
           18,
           102
          ],
          [
           7,
           15
          ],
          [
           72,
           162
          ],
          [
           32,
           64
          ],
          [
           15,
           38
          ],
          [
           6,
           16
          ],
          [
           41,
           81
          ],
          [
           15,
           52
          ],
          [
           18,
           46
          ],
          [
           48,
           120
          ],
          [
           18,
           89
          ],
          [
           66,
           185
          ],
          [
           49,
           129
          ],
          [
           13,
           57
          ],
          [
           50,
           164
          ],
          [
           47,
           150
          ],
          [
           37,
           81
          ],
          [
           47,
           147
          ],
          [
           63,
           155
          ],
          [
           35,
           83
          ],
          [
           29,
           96
          ],
          [
           42,
           159
          ],
          [
           42,
           118
          ],
          [
           53,
           157
          ],
          [
           45,
           127
          ],
          [
           34,
           119
          ],
          [
           26,
           91
          ],
          [
           34,
           77
          ],
          [
           8,
           30
          ]
         ],
         "hovertemplate": "Female percentages: %{y}<br>Female counts: %{customdata[0]}<br>Total counts: %{customdata[1]}",
         "legendgroup": "Metro",
         "line": {
          "color": "rgb(139, 224, 164)",
          "dash": "solid"
         },
         "mode": "lines",
         "name": "Metro",
         "orientation": "v",
         "showlegend": true,
         "type": "scatter",
         "x": [
          "2015-01",
          "2015-02",
          "2015-03",
          "2015-04",
          "2015-05",
          "2015-06",
          "2015-07",
          "2015-08",
          "2015-09",
          "2015-10",
          "2015-11",
          "2015-12",
          "2016-01",
          "2016-02",
          "2016-03",
          "2016-04",
          "2016-05",
          "2016-06",
          "2016-07",
          "2016-08",
          "2016-09",
          "2016-10",
          "2016-11",
          "2016-12",
          "2017-01",
          "2017-02",
          "2017-03",
          "2017-04",
          "2017-05",
          "2017-06",
          "2017-07",
          "2017-08",
          "2017-09",
          "2017-10",
          "2017-11",
          "2017-12",
          "2018-01",
          "2018-02",
          "2018-03",
          "2018-04",
          "2018-05",
          "2018-06",
          "2018-07",
          "2018-08",
          "2018-09",
          "2018-10",
          "2018-11",
          "2018-12",
          "2019-01",
          "2019-02",
          "2019-03",
          "2019-04",
          "2019-05",
          "2019-06",
          "2019-07",
          "2019-08",
          "2019-09",
          "2019-10",
          "2019-11",
          "2019-12",
          "2020-01",
          "2020-02",
          "2020-03",
          "2020-04"
         ],
         "xaxis": "x",
         "y": [
          50,
          40,
          50,
          0,
          66.66666666666666,
          66.66666666666666,
          0,
          20,
          12.5,
          20,
          36.36363636363637,
          13.333333333333334,
          null,
          20,
          null,
          40.909090909090914,
          40,
          null,
          28.000000000000004,
          18.867924528301888,
          22.641509433962266,
          null,
          100,
          35.294117647058826,
          20,
          33.33333333333333,
          42.857142857142854,
          32.53012048192771,
          36,
          42,
          38.666666666666664,
          39.869281045751634,
          30.701754385964914,
          33.78378378378378,
          36.470588235294116,
          17.647058823529413,
          46.666666666666664,
          44.44444444444444,
          50,
          39.473684210526315,
          37.5,
          50.617283950617285,
          28.846153846153843,
          39.130434782608695,
          40,
          20.224719101123593,
          35.67567567567568,
          37.98449612403101,
          22.807017543859647,
          30.48780487804878,
          31.333333333333336,
          45.67901234567901,
          31.97278911564626,
          40.64516129032258,
          42.168674698795186,
          30.208333333333332,
          26.41509433962264,
          35.59322033898305,
          33.75796178343949,
          35.43307086614173,
          28.57142857142857,
          28.57142857142857,
          44.15584415584416,
          26.666666666666668
         ],
         "yaxis": "y"
        },
        {
         "customdata": [
          [
           1950,
           12698
          ],
          [
           1895,
           13248
          ],
          [
           1953,
           13752
          ],
          [
           1760,
           11019
          ],
          [
           1056,
           6455
          ],
          [
           807,
           4903
          ],
          [
           1554,
           9502
          ],
          [
           2649,
           15057
          ],
          [
           2829,
           16198
          ],
          [
           2790,
           16567
          ],
          [
           1997,
           11845
          ],
          [
           2105,
           12153
          ],
          [
           53,
           264
          ],
          [
           1064,
           6187
          ],
          [
           6,
           16
          ],
          [
           1306,
           7267
          ],
          [
           2493,
           14226
          ],
          [
           28,
           162
          ],
          [
           2321,
           11367
          ],
          [
           2043,
           11195
          ],
          [
           2109,
           11676
          ],
          [
           4,
           78
          ],
          [
           28,
           152
          ],
          [
           1902,
           10652
          ],
          [
           47,
           175
          ],
          [
           767,
           4178
          ],
          [
           2771,
           15254
          ],
          [
           2536,
           15673
          ],
          [
           2219,
           12109
          ],
          [
           2480,
           13816
          ],
          [
           2576,
           14139
          ],
          [
           3731,
           17622
          ],
          [
           3256,
           17356
          ],
          [
           3141,
           17292
          ],
          [
           3002,
           17727
          ],
          [
           2415,
           14225
          ],
          [
           3244,
           17586
          ],
          [
           3318,
           17793
          ],
          [
           2776,
           16248
          ],
          [
           2386,
           13059
          ],
          [
           2273,
           14156
          ],
          [
           2444,
           13497
          ],
          [
           2413,
           13047
          ],
          [
           2044,
           12402
          ],
          [
           2335,
           14272
          ],
          [
           2852,
           15060
          ],
          [
           2762,
           15186
          ],
          [
           2098,
           11893
          ],
          [
           2233,
           11116
          ],
          [
           2092,
           9253
          ],
          [
           2607,
           13341
          ],
          [
           2055,
           10689
          ],
          [
           3134,
           15505
          ],
          [
           3013,
           13627
          ],
          [
           2334,
           11458
          ],
          [
           1861,
           11360
          ],
          [
           2651,
           14686
          ],
          [
           2845,
           15507
          ],
          [
           2777,
           14363
          ],
          [
           2403,
           12203
          ],
          [
           3430,
           17008
          ],
          [
           2906,
           13948
          ],
          [
           2483,
           12352
          ],
          [
           922,
           5096
          ]
         ],
         "hovertemplate": "Female percentages: %{y}<br>Female counts: %{customdata[0]}<br>Total counts: %{customdata[1]}",
         "legendgroup": "The Daily Telegraph",
         "line": {
          "color": "rgb(180, 151, 231)",
          "dash": "solid"
         },
         "mode": "lines",
         "name": "The Daily Telegraph",
         "orientation": "v",
         "showlegend": true,
         "type": "scatter",
         "x": [
          "2015-01",
          "2015-02",
          "2015-03",
          "2015-04",
          "2015-05",
          "2015-06",
          "2015-07",
          "2015-08",
          "2015-09",
          "2015-10",
          "2015-11",
          "2015-12",
          "2016-01",
          "2016-02",
          "2016-03",
          "2016-04",
          "2016-05",
          "2016-06",
          "2016-07",
          "2016-08",
          "2016-09",
          "2016-10",
          "2016-11",
          "2016-12",
          "2017-01",
          "2017-02",
          "2017-03",
          "2017-04",
          "2017-05",
          "2017-06",
          "2017-07",
          "2017-08",
          "2017-09",
          "2017-10",
          "2017-11",
          "2017-12",
          "2018-01",
          "2018-02",
          "2018-03",
          "2018-04",
          "2018-05",
          "2018-06",
          "2018-07",
          "2018-08",
          "2018-09",
          "2018-10",
          "2018-11",
          "2018-12",
          "2019-01",
          "2019-02",
          "2019-03",
          "2019-04",
          "2019-05",
          "2019-06",
          "2019-07",
          "2019-08",
          "2019-09",
          "2019-10",
          "2019-11",
          "2019-12",
          "2020-01",
          "2020-02",
          "2020-03",
          "2020-04"
         ],
         "xaxis": "x",
         "y": [
          15.356749094345567,
          14.304045893719808,
          14.201570680628272,
          15.972411289590708,
          16.35941130906274,
          16.459310626147257,
          16.35445169438013,
          17.59314604502889,
          17.465119150512407,
          16.840707430433994,
          16.859434360489658,
          17.32082613346499,
          20.075757575757574,
          17.19734928074996,
          37.5,
          17.97165267648273,
          17.524251370729647,
          17.28395061728395,
          20.41875604820973,
          18.249218401071907,
          18.062692702980474,
          5.128205128205128,
          18.421052631578945,
          17.85580172737514,
          26.857142857142858,
          18.35806606031594,
          18.16572702242035,
          16.18069291137625,
          18.325212651746632,
          17.95020266357846,
          18.219110262394793,
          21.172398138690273,
          18.760082968425902,
          18.164469118667594,
          16.934619506966776,
          16.97715289982425,
          18.446491527351302,
          18.64778283594672,
          17.085179714426392,
          18.270924266789187,
          16.056795705001413,
          18.107727643179967,
          18.494673104928335,
          16.4812127076278,
          16.360706278026907,
          18.937583001328022,
          18.187804556828656,
          17.640628941394098,
          20.08816120906801,
          22.608883605317196,
          19.541263773330336,
          19.225371877631208,
          20.21283456949371,
          22.110515887576135,
          20.37004712864374,
          16.382042253521124,
          18.051205229470245,
          18.34655316953634,
          19.334400891178724,
          19.691879046136197,
          20.166980244590782,
          20.83452824777746,
          20.102007772020723,
          18.092621664050235
         ],
         "yaxis": "y"
        },
        {
         "customdata": [
          [
           3119,
           18061
          ],
          [
           3146,
           17446
          ],
          [
           3533,
           19986
          ],
          [
           3162,
           17646
          ],
          [
           2572,
           15379
          ],
          [
           3149,
           15477
          ],
          [
           2743,
           14002
          ],
          [
           3525,
           18948
          ],
          [
           4242,
           21989
          ],
          [
           4107,
           21661
          ],
          [
           2627,
           14075
          ],
          [
           2903,
           14743
          ],
          [
           121,
           751
          ],
          [
           1401,
           7549
          ],
          [
           114,
           624
          ],
          [
           110,
           719
          ],
          [
           230,
           1120
          ],
          [
           151,
           879
          ],
          [
           264,
           1370
          ],
          [
           131,
           710
          ],
          [
           63,
           465
          ],
          [
           109,
           525
          ],
          [
           137,
           894
          ],
          [
           79,
           255
          ],
          [
           150,
           732
          ],
          [
           100,
           525
          ],
          [
           51,
           199
          ],
          [
           39,
           168
          ],
          [
           70,
           540
          ],
          [
           611,
           2366
          ],
          [
           270,
           1708
          ],
          [
           1051,
           4883
          ],
          [
           907,
           4416
          ],
          [
           734,
           3219
          ],
          [
           521,
           2364
          ],
          [
           245,
           1143
          ],
          [
           363,
           1302
          ],
          [
           355,
           1779
          ],
          [
           483,
           1958
          ],
          [
           523,
           1914
          ],
          [
           550,
           2239
          ],
          [
           554,
           2333
          ],
          [
           482,
           1934
          ],
          [
           638,
           2538
          ],
          [
           1528,
           6264
          ],
          [
           520,
           2164
          ],
          [
           515,
           2122
          ],
          [
           326,
           1322
          ],
          [
           357,
           1518
          ],
          [
           380,
           2047
          ],
          [
           602,
           2103
          ],
          [
           459,
           2467
          ],
          [
           535,
           2354
          ],
          [
           765,
           2445
          ],
          [
           542,
           2013
          ],
          [
           463,
           1787
          ],
          [
           533,
           2236
          ],
          [
           534,
           2680
          ],
          [
           610,
           2768
          ],
          [
           420,
           1862
          ],
          [
           640,
           2542
          ],
          [
           619,
           2865
          ],
          [
           579,
           2279
          ],
          [
           252,
           1120
          ]
         ],
         "hovertemplate": "Female percentages: %{y}<br>Female counts: %{customdata[0]}<br>Total counts: %{customdata[1]}",
         "legendgroup": "The Guardian",
         "line": {
          "color": "rgb(179, 179, 179)",
          "dash": "solid"
         },
         "mode": "lines",
         "name": "The Guardian",
         "orientation": "v",
         "showlegend": true,
         "type": "scatter",
         "x": [
          "2015-01",
          "2015-02",
          "2015-03",
          "2015-04",
          "2015-05",
          "2015-06",
          "2015-07",
          "2015-08",
          "2015-09",
          "2015-10",
          "2015-11",
          "2015-12",
          "2016-01",
          "2016-02",
          "2016-03",
          "2016-04",
          "2016-05",
          "2016-06",
          "2016-07",
          "2016-08",
          "2016-09",
          "2016-10",
          "2016-11",
          "2016-12",
          "2017-01",
          "2017-02",
          "2017-03",
          "2017-04",
          "2017-05",
          "2017-06",
          "2017-07",
          "2017-08",
          "2017-09",
          "2017-10",
          "2017-11",
          "2017-12",
          "2018-01",
          "2018-02",
          "2018-03",
          "2018-04",
          "2018-05",
          "2018-06",
          "2018-07",
          "2018-08",
          "2018-09",
          "2018-10",
          "2018-11",
          "2018-12",
          "2019-01",
          "2019-02",
          "2019-03",
          "2019-04",
          "2019-05",
          "2019-06",
          "2019-07",
          "2019-08",
          "2019-09",
          "2019-10",
          "2019-11",
          "2019-12",
          "2020-01",
          "2020-02",
          "2020-03",
          "2020-04"
         ],
         "xaxis": "x",
         "y": [
          17.269254194119927,
          18.0327868852459,
          17.677374161913338,
          17.91907514450867,
          16.724104298068795,
          20.346320346320347,
          19.59005856306242,
          18.603546548448385,
          19.29146391377507,
          18.960343474447164,
          18.664298401420957,
          19.69070067150512,
          16.11185086551265,
          18.558749503245465,
          18.269230769230766,
          15.299026425591098,
          20.535714285714285,
          17.178612059158134,
          19.27007299270073,
          18.450704225352112,
          13.548387096774196,
          20.761904761904763,
          15.324384787472036,
          30.980392156862745,
          20.491803278688526,
          19.047619047619047,
          25.628140703517587,
          23.214285714285715,
          12.962962962962962,
          25.82417582417583,
          15.807962529274006,
          21.523653491705918,
          20.53894927536232,
          22.80211245728487,
          22.038917089678513,
          21.434820647419073,
          27.880184331797235,
          19.955030916245082,
          24.66802860061287,
          27.324973876698017,
          24.564537740062526,
          23.746249464209175,
          24.922440537745604,
          25.137903861308114,
          24.393358876117496,
          24.029574861367838,
          24.269557021677663,
          24.659606656580937,
          23.517786561264824,
          18.563751831949194,
          28.62577270565858,
          18.60559383867045,
          22.727272727272727,
          31.28834355828221,
          26.924987580725286,
          25.90934527140459,
          23.837209302325583,
          19.925373134328357,
          22.03757225433526,
          22.55639097744361,
          25.177025963808024,
          21.605584642233858,
          25.40587977182975,
          22.5
         ],
         "yaxis": "y"
        },
        {
         "customdata": [
          [
           35,
           89
          ],
          [
           23,
           75
          ],
          [
           25,
           81
          ],
          [
           24,
           60
          ],
          [
           25,
           63
          ],
          [
           25,
           61
          ],
          [
           43,
           96
          ],
          [
           50,
           131
          ],
          [
           39,
           134
          ],
          [
           53,
           146
          ],
          [
           44,
           108
          ],
          [
           55,
           133
          ],
          [
           1,
           4
          ],
          [
           41,
           111
          ],
          [
           2,
           10
          ],
          [
           46,
           113
          ],
          [
           125,
           272
          ],
          [
           38,
           98
          ],
          [
           2070,
           5625
          ],
          [
           2267,
           6404
          ],
          [
           2259,
           6618
          ],
          [
           2,
           13
          ],
          [
           36,
           130
          ],
          [
           2889,
           8486
          ],
          [
           72,
           217
          ],
          [
           1488,
           3724
          ],
          [
           1862,
           5179
          ],
          [
           1096,
           3215
          ],
          [
           1794,
           5169
          ],
          [
           1135,
           2559
          ],
          [
           1537,
           4090
          ],
          [
           2999,
           8227
          ],
          [
           2860,
           7575
          ],
          [
           2645,
           7757
          ],
          [
           1496,
           4043
          ],
          [
           329,
           866
          ],
          [
           461,
           1145
          ],
          [
           2037,
           4782
          ],
          [
           2531,
           6134
          ],
          [
           1952,
           4564
          ],
          [
           2126,
           5208
          ],
          [
           1526,
           4467
          ],
          [
           1739,
           4542
          ],
          [
           2687,
           7000
          ],
          [
           2882,
           7362
          ],
          [
           2882,
           7565
          ],
          [
           2951,
           7888
          ],
          [
           2513,
           6693
          ],
          [
           2690,
           7272
          ],
          [
           2536,
           6492
          ],
          [
           2480,
           6915
          ],
          [
           1705,
           4587
          ],
          [
           2201,
           6101
          ],
          [
           2076,
           6503
          ],
          [
           1689,
           4946
          ],
          [
           1892,
           5043
          ],
          [
           2012,
           5632
          ],
          [
           2172,
           6463
          ],
          [
           1874,
           5596
          ],
          [
           1846,
           5150
          ],
          [
           1854,
           4987
          ],
          [
           1557,
           4487
          ],
          [
           1163,
           3733
          ],
          [
           523,
           1662
          ]
         ],
         "hovertemplate": "Female percentages: %{y}<br>Female counts: %{customdata[0]}<br>Total counts: %{customdata[1]}",
         "legendgroup": "The Sun",
         "line": {
          "color": "rgb(102, 197, 204)",
          "dash": "solid"
         },
         "mode": "lines",
         "name": "The Sun",
         "orientation": "v",
         "showlegend": true,
         "type": "scatter",
         "x": [
          "2015-01",
          "2015-02",
          "2015-03",
          "2015-04",
          "2015-05",
          "2015-06",
          "2015-07",
          "2015-08",
          "2015-09",
          "2015-10",
          "2015-11",
          "2015-12",
          "2016-01",
          "2016-02",
          "2016-03",
          "2016-04",
          "2016-05",
          "2016-06",
          "2016-07",
          "2016-08",
          "2016-09",
          "2016-10",
          "2016-11",
          "2016-12",
          "2017-01",
          "2017-02",
          "2017-03",
          "2017-04",
          "2017-05",
          "2017-06",
          "2017-07",
          "2017-08",
          "2017-09",
          "2017-10",
          "2017-11",
          "2017-12",
          "2018-01",
          "2018-02",
          "2018-03",
          "2018-04",
          "2018-05",
          "2018-06",
          "2018-07",
          "2018-08",
          "2018-09",
          "2018-10",
          "2018-11",
          "2018-12",
          "2019-01",
          "2019-02",
          "2019-03",
          "2019-04",
          "2019-05",
          "2019-06",
          "2019-07",
          "2019-08",
          "2019-09",
          "2019-10",
          "2019-11",
          "2019-12",
          "2020-01",
          "2020-02",
          "2020-03",
          "2020-04"
         ],
         "xaxis": "x",
         "y": [
          39.325842696629216,
          30.666666666666664,
          30.864197530864196,
          40,
          39.682539682539684,
          40.98360655737705,
          44.79166666666667,
          38.16793893129771,
          29.1044776119403,
          36.3013698630137,
          40.74074074074074,
          41.35338345864661,
          25,
          36.93693693693694,
          20,
          40.707964601769916,
          45.955882352941174,
          38.775510204081634,
          36.8,
          35.39975015615241,
          34.13417951042611,
          15.384615384615385,
          27.692307692307693,
          34.04430827244874,
          33.17972350230415,
          39.95703544575725,
          35.95288665765592,
          34.09020217729393,
          34.7069065583285,
          44.35326299335678,
          37.57946210268949,
          36.453142093108056,
          37.755775577557756,
          34.0982338532938,
          37.002226069750186,
          37.99076212471132,
          40.262008733624455,
          42.59723964868256,
          41.261819367460056,
          42.76950043821209,
          40.82181259600615,
          34.16162972912469,
          38.287098194627916,
          38.385714285714286,
          39.14697093181201,
          38.09649702577661,
          37.41125760649087,
          37.546690572239655,
          36.991199119912,
          39.06346272335182,
          35.86406362979031,
          37.170263788968825,
          36.07605310604819,
          31.923727510379823,
          34.14880711686211,
          37.51735078326393,
          35.72443181818182,
          33.606684202382795,
          33.488205861329526,
          35.84466019417476,
          37.17665931421696,
          34.70024515266325,
          31.154567372086795,
          31.468110709987968
         ],
         "yaxis": "y"
        },
        {
         "customdata": [
          [
           24,
           141
          ],
          [
           19,
           143
          ],
          [
           21,
           182
          ],
          [
           36,
           136
          ],
          [
           16,
           116
          ],
          [
           14,
           89
          ],
          [
           15,
           126
          ],
          [
           33,
           164
          ],
          [
           52,
           258
          ],
          [
           47,
           219
          ],
          [
           28,
           195
          ],
          [
           44,
           247
          ],
          [
           2,
           9
          ],
          [
           22,
           101
          ],
          [
           0,
           3
          ],
          [
           4,
           33
          ],
          [
           46,
           233
          ],
          [
           1,
           5
          ],
          [
           170,
           758
          ],
          [
           174,
           751
          ],
          [
           164,
           841
          ],
          [
           0,
           1
          ],
          [
           2,
           5
          ],
          [
           48,
           285
          ],
          [
           0,
           0
          ],
          [
           10,
           64
          ],
          [
           36,
           184
          ],
          [
           31,
           126
          ],
          [
           34,
           149
          ],
          [
           44,
           145
          ],
          [
           38,
           148
          ],
          [
           18,
           94
          ],
          [
           13,
           108
          ],
          [
           33,
           117
          ],
          [
           5,
           21
          ],
          [
           2,
           28
          ],
          [
           13,
           31
          ],
          [
           6,
           32
          ],
          [
           7,
           36
          ],
          [
           12,
           34
          ],
          [
           9,
           48
          ],
          [
           5,
           47
          ],
          [
           35,
           153
          ],
          [
           59,
           306
          ],
          [
           72,
           338
          ],
          [
           95,
           448
          ],
          [
           118,
           545
          ],
          [
           83,
           424
          ],
          [
           113,
           555
          ],
          [
           97,
           491
          ],
          [
           121,
           543
          ],
          [
           75,
           349
          ],
          [
           133,
           565
          ],
          [
           110,
           509
          ],
          [
           52,
           243
          ],
          [
           73,
           391
          ],
          [
           121,
           589
          ],
          [
           106,
           546
          ],
          [
           95,
           466
          ],
          [
           74,
           351
          ],
          [
           134,
           574
          ],
          [
           156,
           754
          ],
          [
           156,
           615
          ],
          [
           18,
           161
          ]
         ],
         "hovertemplate": "Female percentages: %{y}<br>Female counts: %{customdata[0]}<br>Total counts: %{customdata[1]}",
         "legendgroup": "The Times",
         "line": {
          "color": "rgb(246, 207, 113)",
          "dash": "solid"
         },
         "mode": "lines",
         "name": "The Times",
         "orientation": "v",
         "showlegend": true,
         "type": "scatter",
         "x": [
          "2015-01",
          "2015-02",
          "2015-03",
          "2015-04",
          "2015-05",
          "2015-06",
          "2015-07",
          "2015-08",
          "2015-09",
          "2015-10",
          "2015-11",
          "2015-12",
          "2016-01",
          "2016-02",
          "2016-03",
          "2016-04",
          "2016-05",
          "2016-06",
          "2016-07",
          "2016-08",
          "2016-09",
          "2016-10",
          "2016-11",
          "2016-12",
          "2017-01",
          "2017-02",
          "2017-03",
          "2017-04",
          "2017-05",
          "2017-06",
          "2017-07",
          "2017-08",
          "2017-09",
          "2017-10",
          "2017-11",
          "2017-12",
          "2018-01",
          "2018-02",
          "2018-03",
          "2018-04",
          "2018-05",
          "2018-06",
          "2018-07",
          "2018-08",
          "2018-09",
          "2018-10",
          "2018-11",
          "2018-12",
          "2019-01",
          "2019-02",
          "2019-03",
          "2019-04",
          "2019-05",
          "2019-06",
          "2019-07",
          "2019-08",
          "2019-09",
          "2019-10",
          "2019-11",
          "2019-12",
          "2020-01",
          "2020-02",
          "2020-03",
          "2020-04"
         ],
         "xaxis": "x",
         "y": [
          17.02127659574468,
          13.286713286713287,
          11.538461538461538,
          26.47058823529412,
          13.793103448275861,
          15.730337078651685,
          11.904761904761903,
          20.121951219512198,
          20.155038759689923,
          21.461187214611872,
          14.358974358974358,
          17.813765182186234,
          22.22222222222222,
          21.782178217821784,
          0,
          12.121212121212121,
          19.742489270386265,
          20,
          22.427440633245382,
          23.169107856191744,
          19.500594530321045,
          0,
          40,
          16.842105263157894,
          null,
          15.625,
          19.565217391304348,
          24.6031746031746,
          22.818791946308725,
          30.344827586206897,
          25.675675675675674,
          19.148936170212767,
          12.037037037037036,
          28.205128205128204,
          23.809523809523807,
          7.142857142857142,
          41.935483870967744,
          18.75,
          19.444444444444446,
          35.294117647058826,
          18.75,
          10.638297872340425,
          22.875816993464053,
          19.28104575163399,
          21.301775147928996,
          21.205357142857142,
          21.65137614678899,
          19.57547169811321,
          20.36036036036036,
          19.75560081466395,
          22.283609576427256,
          21.48997134670487,
          23.53982300884956,
          21.611001964636543,
          21.39917695473251,
          18.67007672634271,
          20.54329371816638,
          19.413919413919416,
          20.386266094420602,
          21.082621082621085,
          23.34494773519164,
          20.689655172413794,
          25.365853658536587,
          11.180124223602485
         ],
         "yaxis": "y"
        },
        {
         "customdata": [
          [
           6,
           30
          ],
          [
           7,
           28
          ],
          [
           8,
           25
          ],
          [
           4,
           16
          ],
          [
           5,
           12
          ],
          [
           4,
           13
          ],
          [
           5,
           27
          ],
          [
           11,
           53
          ],
          [
           8,
           31
          ],
          [
           10,
           43
          ],
          [
           10,
           33
          ],
          [
           15,
           38
          ],
          [
           2,
           2
          ],
          [
           4,
           21
          ],
          [
           0,
           0
          ],
          [
           8,
           26
          ],
          [
           6,
           45
          ],
          [
           4,
           10
          ],
          [
           20,
           71
          ],
          [
           21,
           72
          ],
          [
           15,
           56
          ],
          [
           0,
           4
          ],
          [
           2,
           5
          ],
          [
           16,
           47
          ],
          [
           3,
           7
          ],
          [
           15,
           62
          ],
          [
           312,
           1002
          ],
          [
           441,
           1659
          ],
          [
           549,
           1969
          ],
          [
           643,
           2003
          ],
          [
           460,
           1997
          ],
          [
           597,
           2469
          ],
          [
           579,
           2393
          ],
          [
           806,
           2861
          ],
          [
           638,
           2600
          ],
          [
           515,
           2173
          ],
          [
           828,
           2984
          ],
          [
           733,
           2670
          ],
          [
           803,
           2993
          ],
          [
           718,
           2656
          ],
          [
           796,
           3214
          ],
          [
           807,
           3079
          ],
          [
           814,
           3236
          ],
          [
           702,
           2953
          ],
          [
           769,
           3174
          ],
          [
           961,
           3428
          ],
          [
           949,
           3457
          ],
          [
           767,
           2814
          ],
          [
           999,
           3394
          ],
          [
           818,
           3033
          ],
          [
           803,
           2871
          ],
          [
           490,
           1818
          ],
          [
           874,
           3449
          ],
          [
           830,
           3075
          ],
          [
           684,
           2484
          ],
          [
           582,
           2547
          ],
          [
           471,
           2175
          ],
          [
           692,
           2809
          ],
          [
           627,
           2742
          ],
          [
           523,
           2118
          ],
          [
           492,
           2309
          ],
          [
           525,
           2019
          ],
          [
           281,
           1447
          ],
          [
           94,
           498
          ]
         ],
         "hovertemplate": "Female percentages: %{y}<br>Female counts: %{customdata[0]}<br>Total counts: %{customdata[1]}",
         "legendgroup": "i",
         "line": {
          "color": "rgb(248, 156, 116)",
          "dash": "solid"
         },
         "mode": "lines",
         "name": "i",
         "orientation": "v",
         "showlegend": true,
         "type": "scatter",
         "x": [
          "2015-01",
          "2015-02",
          "2015-03",
          "2015-04",
          "2015-05",
          "2015-06",
          "2015-07",
          "2015-08",
          "2015-09",
          "2015-10",
          "2015-11",
          "2015-12",
          "2016-01",
          "2016-02",
          "2016-03",
          "2016-04",
          "2016-05",
          "2016-06",
          "2016-07",
          "2016-08",
          "2016-09",
          "2016-10",
          "2016-11",
          "2016-12",
          "2017-01",
          "2017-02",
          "2017-03",
          "2017-04",
          "2017-05",
          "2017-06",
          "2017-07",
          "2017-08",
          "2017-09",
          "2017-10",
          "2017-11",
          "2017-12",
          "2018-01",
          "2018-02",
          "2018-03",
          "2018-04",
          "2018-05",
          "2018-06",
          "2018-07",
          "2018-08",
          "2018-09",
          "2018-10",
          "2018-11",
          "2018-12",
          "2019-01",
          "2019-02",
          "2019-03",
          "2019-04",
          "2019-05",
          "2019-06",
          "2019-07",
          "2019-08",
          "2019-09",
          "2019-10",
          "2019-11",
          "2019-12",
          "2020-01",
          "2020-02",
          "2020-03",
          "2020-04"
         ],
         "xaxis": "x",
         "y": [
          20,
          25,
          32,
          25,
          41.66666666666667,
          30.76923076923077,
          18.51851851851852,
          20.754716981132077,
          25.806451612903224,
          23.25581395348837,
          30.303030303030305,
          39.473684210526315,
          100,
          19.047619047619047,
          null,
          30.76923076923077,
          13.333333333333334,
          40,
          28.169014084507044,
          29.166666666666668,
          26.785714285714285,
          0,
          40,
          34.04255319148936,
          42.857142857142854,
          24.193548387096776,
          31.137724550898206,
          26.582278481012654,
          27.882173692229557,
          32.10184722915626,
          23.034551827741613,
          24.179829890643987,
          24.195570413706644,
          28.171967843411394,
          24.53846153846154,
          23.699953980671882,
          27.74798927613941,
          27.45318352059925,
          26.82926829268293,
          27.03313253012048,
          24.76664592408214,
          26.20980837934394,
          25.15451174289246,
          23.772434812055536,
          24.22810333963453,
          28.033838973162194,
          27.451547584610935,
          27.256574271499645,
          29.43429581614614,
          26.96999670293439,
          27.969348659003828,
          26.952695269526956,
          25.340678457523918,
          26.991869918699184,
          27.536231884057973,
          22.85041224970554,
          21.655172413793103,
          24.63510145959416,
          22.86652078774617,
          24.69310670443815,
          21.307925508878302,
          26.002971768202084,
          19.41948859709744,
          18.87550200803213
         ],
         "yaxis": "y"
        }
       ],
       "layout": {
        "barmode": "stack",
        "legend": {
         "title": {
          "text": "Newspaper"
         },
         "tracegroupgap": 0
        },
        "margin": {
         "t": 60
        },
        "template": {
         "data": {
          "bar": [
           {
            "error_x": {
             "color": "#2a3f5f"
            },
            "error_y": {
             "color": "#2a3f5f"
            },
            "marker": {
             "line": {
              "color": "#E5ECF6",
              "width": 0.5
             },
             "pattern": {
              "fillmode": "overlay",
              "size": 10,
              "solidity": 0.2
             }
            },
            "type": "bar"
           }
          ],
          "barpolar": [
           {
            "marker": {
             "line": {
              "color": "#E5ECF6",
              "width": 0.5
             },
             "pattern": {
              "fillmode": "overlay",
              "size": 10,
              "solidity": 0.2
             }
            },
            "type": "barpolar"
           }
          ],
          "carpet": [
           {
            "aaxis": {
             "endlinecolor": "#2a3f5f",
             "gridcolor": "white",
             "linecolor": "white",
             "minorgridcolor": "white",
             "startlinecolor": "#2a3f5f"
            },
            "baxis": {
             "endlinecolor": "#2a3f5f",
             "gridcolor": "white",
             "linecolor": "white",
             "minorgridcolor": "white",
             "startlinecolor": "#2a3f5f"
            },
            "type": "carpet"
           }
          ],
          "choropleth": [
           {
            "colorbar": {
             "outlinewidth": 0,
             "ticks": ""
            },
            "type": "choropleth"
           }
          ],
          "contour": [
           {
            "colorbar": {
             "outlinewidth": 0,
             "ticks": ""
            },
            "colorscale": [
             [
              0,
              "#0d0887"
             ],
             [
              0.1111111111111111,
              "#46039f"
             ],
             [
              0.2222222222222222,
              "#7201a8"
             ],
             [
              0.3333333333333333,
              "#9c179e"
             ],
             [
              0.4444444444444444,
              "#bd3786"
             ],
             [
              0.5555555555555556,
              "#d8576b"
             ],
             [
              0.6666666666666666,
              "#ed7953"
             ],
             [
              0.7777777777777778,
              "#fb9f3a"
             ],
             [
              0.8888888888888888,
              "#fdca26"
             ],
             [
              1,
              "#f0f921"
             ]
            ],
            "type": "contour"
           }
          ],
          "contourcarpet": [
           {
            "colorbar": {
             "outlinewidth": 0,
             "ticks": ""
            },
            "type": "contourcarpet"
           }
          ],
          "heatmap": [
           {
            "colorbar": {
             "outlinewidth": 0,
             "ticks": ""
            },
            "colorscale": [
             [
              0,
              "#0d0887"
             ],
             [
              0.1111111111111111,
              "#46039f"
             ],
             [
              0.2222222222222222,
              "#7201a8"
             ],
             [
              0.3333333333333333,
              "#9c179e"
             ],
             [
              0.4444444444444444,
              "#bd3786"
             ],
             [
              0.5555555555555556,
              "#d8576b"
             ],
             [
              0.6666666666666666,
              "#ed7953"
             ],
             [
              0.7777777777777778,
              "#fb9f3a"
             ],
             [
              0.8888888888888888,
              "#fdca26"
             ],
             [
              1,
              "#f0f921"
             ]
            ],
            "type": "heatmap"
           }
          ],
          "heatmapgl": [
           {
            "colorbar": {
             "outlinewidth": 0,
             "ticks": ""
            },
            "colorscale": [
             [
              0,
              "#0d0887"
             ],
             [
              0.1111111111111111,
              "#46039f"
             ],
             [
              0.2222222222222222,
              "#7201a8"
             ],
             [
              0.3333333333333333,
              "#9c179e"
             ],
             [
              0.4444444444444444,
              "#bd3786"
             ],
             [
              0.5555555555555556,
              "#d8576b"
             ],
             [
              0.6666666666666666,
              "#ed7953"
             ],
             [
              0.7777777777777778,
              "#fb9f3a"
             ],
             [
              0.8888888888888888,
              "#fdca26"
             ],
             [
              1,
              "#f0f921"
             ]
            ],
            "type": "heatmapgl"
           }
          ],
          "histogram": [
           {
            "marker": {
             "pattern": {
              "fillmode": "overlay",
              "size": 10,
              "solidity": 0.2
             }
            },
            "type": "histogram"
           }
          ],
          "histogram2d": [
           {
            "colorbar": {
             "outlinewidth": 0,
             "ticks": ""
            },
            "colorscale": [
             [
              0,
              "#0d0887"
             ],
             [
              0.1111111111111111,
              "#46039f"
             ],
             [
              0.2222222222222222,
              "#7201a8"
             ],
             [
              0.3333333333333333,
              "#9c179e"
             ],
             [
              0.4444444444444444,
              "#bd3786"
             ],
             [
              0.5555555555555556,
              "#d8576b"
             ],
             [
              0.6666666666666666,
              "#ed7953"
             ],
             [
              0.7777777777777778,
              "#fb9f3a"
             ],
             [
              0.8888888888888888,
              "#fdca26"
             ],
             [
              1,
              "#f0f921"
             ]
            ],
            "type": "histogram2d"
           }
          ],
          "histogram2dcontour": [
           {
            "colorbar": {
             "outlinewidth": 0,
             "ticks": ""
            },
            "colorscale": [
             [
              0,
              "#0d0887"
             ],
             [
              0.1111111111111111,
              "#46039f"
             ],
             [
              0.2222222222222222,
              "#7201a8"
             ],
             [
              0.3333333333333333,
              "#9c179e"
             ],
             [
              0.4444444444444444,
              "#bd3786"
             ],
             [
              0.5555555555555556,
              "#d8576b"
             ],
             [
              0.6666666666666666,
              "#ed7953"
             ],
             [
              0.7777777777777778,
              "#fb9f3a"
             ],
             [
              0.8888888888888888,
              "#fdca26"
             ],
             [
              1,
              "#f0f921"
             ]
            ],
            "type": "histogram2dcontour"
           }
          ],
          "mesh3d": [
           {
            "colorbar": {
             "outlinewidth": 0,
             "ticks": ""
            },
            "type": "mesh3d"
           }
          ],
          "parcoords": [
           {
            "line": {
             "colorbar": {
              "outlinewidth": 0,
              "ticks": ""
             }
            },
            "type": "parcoords"
           }
          ],
          "pie": [
           {
            "automargin": true,
            "type": "pie"
           }
          ],
          "scatter": [
           {
            "marker": {
             "colorbar": {
              "outlinewidth": 0,
              "ticks": ""
             }
            },
            "type": "scatter"
           }
          ],
          "scatter3d": [
           {
            "line": {
             "colorbar": {
              "outlinewidth": 0,
              "ticks": ""
             }
            },
            "marker": {
             "colorbar": {
              "outlinewidth": 0,
              "ticks": ""
             }
            },
            "type": "scatter3d"
           }
          ],
          "scattercarpet": [
           {
            "marker": {
             "colorbar": {
              "outlinewidth": 0,
              "ticks": ""
             }
            },
            "type": "scattercarpet"
           }
          ],
          "scattergeo": [
           {
            "marker": {
             "colorbar": {
              "outlinewidth": 0,
              "ticks": ""
             }
            },
            "type": "scattergeo"
           }
          ],
          "scattergl": [
           {
            "marker": {
             "colorbar": {
              "outlinewidth": 0,
              "ticks": ""
             }
            },
            "type": "scattergl"
           }
          ],
          "scattermapbox": [
           {
            "marker": {
             "colorbar": {
              "outlinewidth": 0,
              "ticks": ""
             }
            },
            "type": "scattermapbox"
           }
          ],
          "scatterpolar": [
           {
            "marker": {
             "colorbar": {
              "outlinewidth": 0,
              "ticks": ""
             }
            },
            "type": "scatterpolar"
           }
          ],
          "scatterpolargl": [
           {
            "marker": {
             "colorbar": {
              "outlinewidth": 0,
              "ticks": ""
             }
            },
            "type": "scatterpolargl"
           }
          ],
          "scatterternary": [
           {
            "marker": {
             "colorbar": {
              "outlinewidth": 0,
              "ticks": ""
             }
            },
            "type": "scatterternary"
           }
          ],
          "surface": [
           {
            "colorbar": {
             "outlinewidth": 0,
             "ticks": ""
            },
            "colorscale": [
             [
              0,
              "#0d0887"
             ],
             [
              0.1111111111111111,
              "#46039f"
             ],
             [
              0.2222222222222222,
              "#7201a8"
             ],
             [
              0.3333333333333333,
              "#9c179e"
             ],
             [
              0.4444444444444444,
              "#bd3786"
             ],
             [
              0.5555555555555556,
              "#d8576b"
             ],
             [
              0.6666666666666666,
              "#ed7953"
             ],
             [
              0.7777777777777778,
              "#fb9f3a"
             ],
             [
              0.8888888888888888,
              "#fdca26"
             ],
             [
              1,
              "#f0f921"
             ]
            ],
            "type": "surface"
           }
          ],
          "table": [
           {
            "cells": {
             "fill": {
              "color": "#EBF0F8"
             },
             "line": {
              "color": "white"
             }
            },
            "header": {
             "fill": {
              "color": "#C8D4E3"
             },
             "line": {
              "color": "white"
             }
            },
            "type": "table"
           }
          ]
         },
         "layout": {
          "annotationdefaults": {
           "arrowcolor": "#2a3f5f",
           "arrowhead": 0,
           "arrowwidth": 1
          },
          "autotypenumbers": "strict",
          "coloraxis": {
           "colorbar": {
            "outlinewidth": 0,
            "ticks": ""
           }
          },
          "colorscale": {
           "diverging": [
            [
             0,
             "#8e0152"
            ],
            [
             0.1,
             "#c51b7d"
            ],
            [
             0.2,
             "#de77ae"
            ],
            [
             0.3,
             "#f1b6da"
            ],
            [
             0.4,
             "#fde0ef"
            ],
            [
             0.5,
             "#f7f7f7"
            ],
            [
             0.6,
             "#e6f5d0"
            ],
            [
             0.7,
             "#b8e186"
            ],
            [
             0.8,
             "#7fbc41"
            ],
            [
             0.9,
             "#4d9221"
            ],
            [
             1,
             "#276419"
            ]
           ],
           "sequential": [
            [
             0,
             "#0d0887"
            ],
            [
             0.1111111111111111,
             "#46039f"
            ],
            [
             0.2222222222222222,
             "#7201a8"
            ],
            [
             0.3333333333333333,
             "#9c179e"
            ],
            [
             0.4444444444444444,
             "#bd3786"
            ],
            [
             0.5555555555555556,
             "#d8576b"
            ],
            [
             0.6666666666666666,
             "#ed7953"
            ],
            [
             0.7777777777777778,
             "#fb9f3a"
            ],
            [
             0.8888888888888888,
             "#fdca26"
            ],
            [
             1,
             "#f0f921"
            ]
           ],
           "sequentialminus": [
            [
             0,
             "#0d0887"
            ],
            [
             0.1111111111111111,
             "#46039f"
            ],
            [
             0.2222222222222222,
             "#7201a8"
            ],
            [
             0.3333333333333333,
             "#9c179e"
            ],
            [
             0.4444444444444444,
             "#bd3786"
            ],
            [
             0.5555555555555556,
             "#d8576b"
            ],
            [
             0.6666666666666666,
             "#ed7953"
            ],
            [
             0.7777777777777778,
             "#fb9f3a"
            ],
            [
             0.8888888888888888,
             "#fdca26"
            ],
            [
             1,
             "#f0f921"
            ]
           ]
          },
          "colorway": [
           "#636efa",
           "#EF553B",
           "#00cc96",
           "#ab63fa",
           "#FFA15A",
           "#19d3f3",
           "#FF6692",
           "#B6E880",
           "#FF97FF",
           "#FECB52"
          ],
          "font": {
           "color": "#2a3f5f"
          },
          "geo": {
           "bgcolor": "white",
           "lakecolor": "white",
           "landcolor": "#E5ECF6",
           "showlakes": true,
           "showland": true,
           "subunitcolor": "white"
          },
          "hoverlabel": {
           "align": "left"
          },
          "hovermode": "closest",
          "mapbox": {
           "style": "light"
          },
          "paper_bgcolor": "white",
          "plot_bgcolor": "#E5ECF6",
          "polar": {
           "angularaxis": {
            "gridcolor": "white",
            "linecolor": "white",
            "ticks": ""
           },
           "bgcolor": "#E5ECF6",
           "radialaxis": {
            "gridcolor": "white",
            "linecolor": "white",
            "ticks": ""
           }
          },
          "scene": {
           "xaxis": {
            "backgroundcolor": "#E5ECF6",
            "gridcolor": "white",
            "gridwidth": 2,
            "linecolor": "white",
            "showbackground": true,
            "ticks": "",
            "zerolinecolor": "white"
           },
           "yaxis": {
            "backgroundcolor": "#E5ECF6",
            "gridcolor": "white",
            "gridwidth": 2,
            "linecolor": "white",
            "showbackground": true,
            "ticks": "",
            "zerolinecolor": "white"
           },
           "zaxis": {
            "backgroundcolor": "#E5ECF6",
            "gridcolor": "white",
            "gridwidth": 2,
            "linecolor": "white",
            "showbackground": true,
            "ticks": "",
            "zerolinecolor": "white"
           }
          },
          "shapedefaults": {
           "line": {
            "color": "#2a3f5f"
           }
          },
          "ternary": {
           "aaxis": {
            "gridcolor": "white",
            "linecolor": "white",
            "ticks": ""
           },
           "baxis": {
            "gridcolor": "white",
            "linecolor": "white",
            "ticks": ""
           },
           "bgcolor": "#E5ECF6",
           "caxis": {
            "gridcolor": "white",
            "linecolor": "white",
            "ticks": ""
           }
          },
          "title": {
           "x": 0.05
          },
          "xaxis": {
           "automargin": true,
           "gridcolor": "white",
           "linecolor": "white",
           "ticks": "",
           "title": {
            "standoff": 15
           },
           "zerolinecolor": "white",
           "zerolinewidth": 2
          },
          "yaxis": {
           "automargin": true,
           "gridcolor": "white",
           "linecolor": "white",
           "ticks": "",
           "title": {
            "standoff": 15
           },
           "zerolinecolor": "white",
           "zerolinewidth": 2
          }
         }
        },
        "title": {
         "text": "Percentage of female quotes in UK's newspaper, 2015-2020"
        },
        "xaxis": {
         "anchor": "y",
         "domain": [
          0,
          1
         ],
         "title": {
          "text": "Month"
         }
        },
        "yaxis": {
         "anchor": "x",
         "domain": [
          0,
          1
         ],
         "title": {
          "text": "Female percentage"
         }
        }
       }
      },
      "text/html": [
       "<div>                            <div id=\"0c8a8004-b574-489f-b3de-f97eb63e9cb4\" class=\"plotly-graph-div\" style=\"height:525px; width:100%;\"></div>            <script type=\"text/javascript\">                require([\"plotly\"], function(Plotly) {                    window.PLOTLYENV=window.PLOTLYENV || {};                                    if (document.getElementById(\"0c8a8004-b574-489f-b3de-f97eb63e9cb4\")) {                    Plotly.newPlot(                        \"0c8a8004-b574-489f-b3de-f97eb63e9cb4\",                        [{\"customdata\":[[69.0,591.0],[78.0,717.0],[114.0,965.0],[38.0,510.0],[73.0,510.0],[62.0,471.0],[29.0,309.0],[42.0,541.0],[68.0,661.0],[74.0,665.0],[21.0,453.0],[43.0,463.0],[0.0,8.0],[34.0,305.0],[0.0,0.0],[5.0,144.0],[16.0,255.0],[8.0,35.0],[237.0,1513.0],[119.0,1161.0],[171.0,1383.0],[0.0,1.0],[0.0,13.0],[109.0,1027.0],[3.0,22.0],[80.0,636.0],[182.0,1510.0],[159.0,1153.0],[215.0,1264.0],[237.0,1281.0],[166.0,1423.0],[135.0,1291.0],[198.0,1557.0],[251.0,1723.0],[213.0,1684.0],[163.0,1113.0],[224.0,1506.0],[197.0,1480.0],[185.0,1459.0],[198.0,1542.0],[130.0,1327.0],[152.0,1280.0],[137.0,1280.0],[74.0,749.0],[161.0,1097.0],[149.0,1108.0],[207.0,1140.0],[128.0,787.0],[159.0,1074.0],[126.0,962.0],[157.0,1012.0],[148.0,759.0],[169.0,1165.0],[140.0,1112.0],[99.0,786.0],[96.0,762.0],[183.0,1254.0],[195.0,1455.0],[167.0,1246.0],[98.0,717.0],[140.0,1063.0],[117.0,861.0],[75.0,762.0],[13.0,188.0]],\"hovertemplate\":\"Female percentages: %{y}<br>Female counts: %{customdata[0]}<br>Total counts: %{customdata[1]}\",\"legendgroup\":\"City A.M.\",\"line\":{\"color\":\"rgb(102, 197, 204)\",\"dash\":\"solid\"},\"mode\":\"lines\",\"name\":\"City A.M.\",\"orientation\":\"v\",\"showlegend\":true,\"type\":\"scatter\",\"x\":[\"2015-01\",\"2015-02\",\"2015-03\",\"2015-04\",\"2015-05\",\"2015-06\",\"2015-07\",\"2015-08\",\"2015-09\",\"2015-10\",\"2015-11\",\"2015-12\",\"2016-01\",\"2016-02\",\"2016-03\",\"2016-04\",\"2016-05\",\"2016-06\",\"2016-07\",\"2016-08\",\"2016-09\",\"2016-10\",\"2016-11\",\"2016-12\",\"2017-01\",\"2017-02\",\"2017-03\",\"2017-04\",\"2017-05\",\"2017-06\",\"2017-07\",\"2017-08\",\"2017-09\",\"2017-10\",\"2017-11\",\"2017-12\",\"2018-01\",\"2018-02\",\"2018-03\",\"2018-04\",\"2018-05\",\"2018-06\",\"2018-07\",\"2018-08\",\"2018-09\",\"2018-10\",\"2018-11\",\"2018-12\",\"2019-01\",\"2019-02\",\"2019-03\",\"2019-04\",\"2019-05\",\"2019-06\",\"2019-07\",\"2019-08\",\"2019-09\",\"2019-10\",\"2019-11\",\"2019-12\",\"2020-01\",\"2020-02\",\"2020-03\",\"2020-04\"],\"xaxis\":\"x\",\"y\":[11.6751269035533,10.87866108786611,11.813471502590673,7.450980392156863,14.313725490196077,13.163481953290871,9.385113268608414,7.763401109057301,10.287443267776098,11.12781954887218,4.635761589403973,9.287257019438446,0.0,11.147540983606557,null,3.4722222222222223,6.2745098039215685,22.857142857142858,15.664243225380039,10.249784668389319,12.364425162689804,0.0,0.0,10.613437195715676,13.636363636363635,12.578616352201259,12.05298013245033,13.790112749349523,17.009493670886076,18.501170960187356,11.665495432185525,10.4570100697134,12.716763005780345,14.567614625652931,12.648456057007126,14.645103324348607,14.873837981407704,13.31081081081081,12.679917751884853,12.840466926070038,9.796533534287867,11.875,10.703125,9.879839786381844,14.676390154968095,13.447653429602887,18.157894736842106,16.264294790343076,14.804469273743019,13.097713097713099,15.513833992094861,19.499341238471672,14.506437768240342,12.589928057553957,12.595419847328243,12.598425196850393,14.5933014354067,13.402061855670103,13.402889245585875,13.668061366806135,13.170272812793979,13.588850174216027,9.84251968503937,6.914893617021277],\"yaxis\":\"y\"},{\"customdata\":[[691.0,2975.0],[721.0,2837.0],[746.0,3100.0],[505.0,2370.0],[550.0,3534.0],[646.0,3801.0],[432.0,3150.0],[703.0,5092.0],[831.0,5733.0],[1267.0,7368.0],[1175.0,5829.0],[1613.0,8028.0],[33.0,215.0],[611.0,3753.0],[6.0,32.0],[748.0,3616.0],[2051.0,10250.0],[35.0,157.0],[2092.0,8860.0],[2065.0,8678.0],[2544.0,11139.0],[6.0,23.0],[31.0,187.0],[2171.0,10649.0],[27.0,142.0],[877.0,3426.0],[3244.0,12202.0],[2954.0,14653.0],[3504.0,14321.0],[3511.0,15465.0],[2889.0,12670.0],[1045.0,5730.0],[1335.0,5924.0],[1007.0,5473.0],[1654.0,8897.0],[717.0,4580.0],[1474.0,7453.0],[343.0,1654.0],[1367.0,7461.0],[2022.0,9415.0],[4021.0,16627.0],[4094.0,16615.0],[3041.0,13182.0],[1678.0,8465.0],[3703.0,15762.0],[1794.0,8435.0],[197.0,1353.0],[1439.0,7388.0],[1179.0,5045.0],[586.0,2789.0],[1821.0,7599.0],[2816.0,9614.0],[5491.0,20353.0],[4435.0,17362.0],[2201.0,8823.0],[1089.0,6064.0],[4327.0,16208.0],[4360.0,17603.0],[4792.0,18835.0],[3624.0,13462.0],[4296.0,16522.0],[2435.0,10253.0],[2344.0,10329.0],[826.0,3777.0]],\"hovertemplate\":\"Female percentages: %{y}<br>Female counts: %{customdata[0]}<br>Total counts: %{customdata[1]}\",\"legendgroup\":\"Daily Express\",\"line\":{\"color\":\"rgb(246, 207, 113)\",\"dash\":\"solid\"},\"mode\":\"lines\",\"name\":\"Daily Express\",\"orientation\":\"v\",\"showlegend\":true,\"type\":\"scatter\",\"x\":[\"2015-01\",\"2015-02\",\"2015-03\",\"2015-04\",\"2015-05\",\"2015-06\",\"2015-07\",\"2015-08\",\"2015-09\",\"2015-10\",\"2015-11\",\"2015-12\",\"2016-01\",\"2016-02\",\"2016-03\",\"2016-04\",\"2016-05\",\"2016-06\",\"2016-07\",\"2016-08\",\"2016-09\",\"2016-10\",\"2016-11\",\"2016-12\",\"2017-01\",\"2017-02\",\"2017-03\",\"2017-04\",\"2017-05\",\"2017-06\",\"2017-07\",\"2017-08\",\"2017-09\",\"2017-10\",\"2017-11\",\"2017-12\",\"2018-01\",\"2018-02\",\"2018-03\",\"2018-04\",\"2018-05\",\"2018-06\",\"2018-07\",\"2018-08\",\"2018-09\",\"2018-10\",\"2018-11\",\"2018-12\",\"2019-01\",\"2019-02\",\"2019-03\",\"2019-04\",\"2019-05\",\"2019-06\",\"2019-07\",\"2019-08\",\"2019-09\",\"2019-10\",\"2019-11\",\"2019-12\",\"2020-01\",\"2020-02\",\"2020-03\",\"2020-04\"],\"xaxis\":\"x\",\"y\":[23.22689075630252,25.41416989777934,24.064516129032256,21.308016877637133,15.563101301641199,16.99552749276506,13.714285714285715,13.805970149253731,14.495028780743066,17.19598262757872,20.157831531995196,20.092177379172895,15.348837209302326,16.28030908606448,18.75,20.6858407079646,20.009756097560977,22.29299363057325,23.611738148984198,23.795805485134824,22.8386749259359,26.08695652173913,16.577540106951872,20.386890787867408,19.014084507042252,25.59836544074723,26.58580560563842,20.15969426056098,24.467565114168004,22.7028774652441,22.80189423835833,18.237347294938917,22.535449020931804,18.399415311529328,18.590536135776105,15.655021834061136,19.77727089762512,20.737605804111244,18.321940758611447,21.47636749867233,24.183556865339508,24.640385194101714,23.06933697466242,19.822799763733016,23.493211521380537,21.268524007113218,14.560236511456024,19.4775311315647,23.369672943508423,21.011115095016134,23.963679431504143,29.290617848970253,26.97882376062497,25.54429213224283,24.946163436472855,17.95844327176781,26.6966929911155,24.768505368403112,25.441996283514733,26.920219878175605,26.001694710083523,23.749146591241587,22.69338754961758,21.86920836642838],\"yaxis\":\"y\"},{\"customdata\":[[81.0,660.0],[27.0,172.0],[178.0,1141.0],[103.0,866.0],[46.0,490.0],[91.0,478.0],[139.0,706.0],[164.0,1252.0],[231.0,1236.0],[222.0,1270.0],[119.0,790.0],[196.0,1236.0],[4.0,38.0],[72.0,211.0],[2.0,2.0],[83.0,588.0],[159.0,1158.0],[13.0,35.0],[175.0,884.0],[139.0,1357.0],[177.0,1267.0],[0.0,2.0],[16.0,30.0],[192.0,1253.0],[8.0,19.0],[60.0,494.0],[213.0,1520.0],[168.0,1171.0],[238.0,1204.0],[235.0,1098.0],[206.0,1363.0],[1377.0,8382.0],[1004.0,5580.0],[463.0,1920.0],[278.0,1245.0],[156.0,1159.0],[224.0,1520.0],[252.0,1761.0],[338.0,2518.0],[225.0,2756.0],[302.0,1871.0],[219.0,1128.0],[164.0,1177.0],[176.0,981.0],[347.0,2152.0],[329.0,1985.0],[310.0,1849.0],[315.0,1611.0],[404.0,2135.0],[343.0,1426.0],[278.0,1413.0],[378.0,1849.0],[546.0,2634.0],[450.0,2125.0],[301.0,1259.0],[401.0,1964.0],[442.0,2069.0],[440.0,2118.0],[493.0,2099.0],[359.0,1555.0],[294.0,1716.0],[344.0,1611.0],[385.0,1740.0],[123.0,644.0]],\"hovertemplate\":\"Female percentages: %{y}<br>Female counts: %{customdata[0]}<br>Total counts: %{customdata[1]}\",\"legendgroup\":\"Daily Mail\",\"line\":{\"color\":\"rgb(248, 156, 116)\",\"dash\":\"solid\"},\"mode\":\"lines\",\"name\":\"Daily Mail\",\"orientation\":\"v\",\"showlegend\":true,\"type\":\"scatter\",\"x\":[\"2015-01\",\"2015-02\",\"2015-03\",\"2015-04\",\"2015-05\",\"2015-06\",\"2015-07\",\"2015-08\",\"2015-09\",\"2015-10\",\"2015-11\",\"2015-12\",\"2016-01\",\"2016-02\",\"2016-03\",\"2016-04\",\"2016-05\",\"2016-06\",\"2016-07\",\"2016-08\",\"2016-09\",\"2016-10\",\"2016-11\",\"2016-12\",\"2017-01\",\"2017-02\",\"2017-03\",\"2017-04\",\"2017-05\",\"2017-06\",\"2017-07\",\"2017-08\",\"2017-09\",\"2017-10\",\"2017-11\",\"2017-12\",\"2018-01\",\"2018-02\",\"2018-03\",\"2018-04\",\"2018-05\",\"2018-06\",\"2018-07\",\"2018-08\",\"2018-09\",\"2018-10\",\"2018-11\",\"2018-12\",\"2019-01\",\"2019-02\",\"2019-03\",\"2019-04\",\"2019-05\",\"2019-06\",\"2019-07\",\"2019-08\",\"2019-09\",\"2019-10\",\"2019-11\",\"2019-12\",\"2020-01\",\"2020-02\",\"2020-03\",\"2020-04\"],\"xaxis\":\"x\",\"y\":[12.272727272727273,15.69767441860465,15.600350569675722,11.893764434180138,9.387755102040817,19.03765690376569,19.688385269121813,13.099041533546327,18.689320388349515,17.480314960629922,15.063291139240507,15.857605177993527,10.526315789473683,34.12322274881517,100.0,14.1156462585034,13.730569948186528,37.142857142857146,19.79638009049774,10.243183492999263,13.970007892659828,0.0,53.333333333333336,15.323224261771747,42.10526315789473,12.145748987854251,14.01315789473684,14.346712211784798,19.767441860465116,21.402550091074684,15.113719735876744,16.42806012884753,17.99283154121864,24.114583333333332,22.329317269076306,13.459879206212252,14.736842105263156,14.310051107325384,13.423351866560761,8.16400580551524,16.141101015499732,19.414893617021274,13.93372982158029,17.940876656472987,16.12453531598513,16.574307304785894,16.7658193618172,19.553072625698324,18.92271662763466,24.05329593267882,19.67445152158528,20.443482963764197,20.72892938496583,21.176470588235293,23.90786338363781,20.417515274949082,21.36297728371194,20.77431539187913,23.487374940447832,23.086816720257236,17.132867132867133,21.353196772191186,22.126436781609197,19.099378881987576],\"yaxis\":\"y\"},{\"customdata\":[[794.0,2855.0],[759.0,3230.0],[557.0,2469.0],[773.0,2954.0],[1064.0,4217.0],[1120.0,4169.0],[993.0,3778.0],[1531.0,5788.0],[1890.0,7199.0],[1714.0,7727.0],[1382.0,6603.0],[1747.0,7796.0],[27.0,144.0],[748.0,3467.0],[4.0,10.0],[889.0,3686.0],[2150.0,8390.0],[35.0,96.0],[2406.0,8340.0],[2009.0,7420.0],[1764.0,7130.0],[2.0,7.0],[37.0,100.0],[1807.0,7301.0],[39.0,125.0],[1049.0,3678.0],[2235.0,8987.0],[1575.0,6749.0],[2003.0,8446.0],[2082.0,7764.0],[2124.0,8168.0],[2598.0,9214.0],[2609.0,9496.0],[2897.0,10506.0],[2462.0,9145.0],[2089.0,7926.0],[2784.0,9555.0],[2453.0,8471.0],[2936.0,10047.0],[2415.0,8424.0],[2494.0,8619.0],[2163.0,7848.0],[2318.0,8110.0],[2412.0,7939.0],[2590.0,9202.0],[2787.0,10008.0],[2769.0,10014.0],[2471.0,8460.0],[2646.0,9144.0],[2747.0,9210.0],[2804.0,9677.0],[2415.0,8179.0],[2580.0,9445.0],[2090.0,7635.0],[1830.0,5964.0],[2142.0,7373.0],[2531.0,9036.0],[2681.0,9027.0],[2638.0,9383.0],[2107.0,7356.0],[2491.0,7927.0],[1951.0,6532.0],[1747.0,5461.0],[693.0,2476.0]],\"hovertemplate\":\"Female percentages: %{y}<br>Female counts: %{customdata[0]}<br>Total counts: %{customdata[1]}\",\"legendgroup\":\"Daily Mirror\",\"line\":{\"color\":\"rgb(220, 176, 242)\",\"dash\":\"solid\"},\"mode\":\"lines\",\"name\":\"Daily Mirror\",\"orientation\":\"v\",\"showlegend\":true,\"type\":\"scatter\",\"x\":[\"2015-01\",\"2015-02\",\"2015-03\",\"2015-04\",\"2015-05\",\"2015-06\",\"2015-07\",\"2015-08\",\"2015-09\",\"2015-10\",\"2015-11\",\"2015-12\",\"2016-01\",\"2016-02\",\"2016-03\",\"2016-04\",\"2016-05\",\"2016-06\",\"2016-07\",\"2016-08\",\"2016-09\",\"2016-10\",\"2016-11\",\"2016-12\",\"2017-01\",\"2017-02\",\"2017-03\",\"2017-04\",\"2017-05\",\"2017-06\",\"2017-07\",\"2017-08\",\"2017-09\",\"2017-10\",\"2017-11\",\"2017-12\",\"2018-01\",\"2018-02\",\"2018-03\",\"2018-04\",\"2018-05\",\"2018-06\",\"2018-07\",\"2018-08\",\"2018-09\",\"2018-10\",\"2018-11\",\"2018-12\",\"2019-01\",\"2019-02\",\"2019-03\",\"2019-04\",\"2019-05\",\"2019-06\",\"2019-07\",\"2019-08\",\"2019-09\",\"2019-10\",\"2019-11\",\"2019-12\",\"2020-01\",\"2020-02\",\"2020-03\",\"2020-04\"],\"xaxis\":\"x\",\"y\":[27.81085814360771,23.4984520123839,22.559740785743216,26.167907921462426,25.231207019207968,26.864955624850083,26.283748014822656,26.451278507256394,26.25364633976941,22.181959363271645,20.929880357413296,22.4089276552078,18.75,21.574848572252666,40.0,24.118285404232232,25.62574493444577,36.45833333333333,28.848920863309353,27.07547169811321,24.74053295932679,28.57142857142857,37.0,24.750034241884673,31.2,28.520935290918974,24.869255591409814,23.336790635649727,23.71536822164338,26.816074188562595,26.003917727717923,28.196223138701974,27.47472620050548,27.57471920807158,26.921815199562605,26.356295735553875,29.13657770800628,28.95762011568882,29.222653528416444,28.66809116809117,28.936071470008123,27.561162079510705,28.581997533908755,30.381660158710165,28.14605520539013,27.847721822541967,27.651288196524863,29.2080378250591,28.937007874015748,29.82627578718784,28.9759222899659,29.52683702164079,27.316040232927474,27.37393582187295,30.6841046277666,29.051946290519464,28.010181496237273,29.699789520327908,28.114675476926354,28.643284393692227,31.42424624700391,29.8683404776485,31.99047793444424,27.98869143780291],\"yaxis\":\"y\"},{\"customdata\":[[354.0,1526.0],[375.0,1752.0],[356.0,1756.0],[321.0,1626.0],[411.0,1712.0],[378.0,1628.0],[465.0,1720.0],[785.0,2986.0],[779.0,3186.0],[893.0,3293.0],[592.0,2457.0],[839.0,3293.0],[11.0,70.0],[183.0,837.0],[0.0,1.0],[255.0,1042.0],[688.0,2620.0],[6.0,32.0],[746.0,2738.0],[1060.0,3152.0],[925.0,3170.0],[1.0,2.0],[6.0,21.0],[895.0,3589.0],[0.0,10.0],[328.0,1279.0],[932.0,3863.0],[791.0,3624.0],[294.0,945.0],[919.0,3683.0],[748.0,3277.0],[766.0,3058.0],[665.0,2659.0],[887.0,3635.0],[427.0,1585.0],[786.0,3168.0],[865.0,3595.0],[660.0,3347.0],[777.0,3602.0],[740.0,3359.0],[706.0,3457.0],[722.0,2985.0],[729.0,3183.0],[786.0,3214.0],[814.0,3473.0],[683.0,3185.0],[712.0,3394.0],[557.0,2350.0],[689.0,3335.0],[716.0,3149.0],[508.0,2423.0],[522.0,2213.0],[646.0,3183.0],[686.0,2906.0],[286.0,1268.0],[418.0,2285.0],[446.0,2743.0],[479.0,2831.0],[549.0,2849.0],[438.0,2259.0],[438.0,2174.0],[415.0,2177.0],[325.0,1614.0],[99.0,462.0]],\"hovertemplate\":\"Female percentages: %{y}<br>Female counts: %{customdata[0]}<br>Total counts: %{customdata[1]}\",\"legendgroup\":\"Daily Record\",\"line\":{\"color\":\"rgb(135, 197, 95)\",\"dash\":\"solid\"},\"mode\":\"lines\",\"name\":\"Daily Record\",\"orientation\":\"v\",\"showlegend\":true,\"type\":\"scatter\",\"x\":[\"2015-01\",\"2015-02\",\"2015-03\",\"2015-04\",\"2015-05\",\"2015-06\",\"2015-07\",\"2015-08\",\"2015-09\",\"2015-10\",\"2015-11\",\"2015-12\",\"2016-01\",\"2016-02\",\"2016-03\",\"2016-04\",\"2016-05\",\"2016-06\",\"2016-07\",\"2016-08\",\"2016-09\",\"2016-10\",\"2016-11\",\"2016-12\",\"2017-01\",\"2017-02\",\"2017-03\",\"2017-04\",\"2017-05\",\"2017-06\",\"2017-07\",\"2017-08\",\"2017-09\",\"2017-10\",\"2017-11\",\"2017-12\",\"2018-01\",\"2018-02\",\"2018-03\",\"2018-04\",\"2018-05\",\"2018-06\",\"2018-07\",\"2018-08\",\"2018-09\",\"2018-10\",\"2018-11\",\"2018-12\",\"2019-01\",\"2019-02\",\"2019-03\",\"2019-04\",\"2019-05\",\"2019-06\",\"2019-07\",\"2019-08\",\"2019-09\",\"2019-10\",\"2019-11\",\"2019-12\",\"2020-01\",\"2020-02\",\"2020-03\",\"2020-04\"],\"xaxis\":\"x\",\"y\":[23.197903014416777,21.404109589041095,20.273348519362187,19.74169741697417,24.00700934579439,23.21867321867322,27.03488372093023,26.289350301406568,24.450721908349028,27.118129365320375,24.094424094424095,25.478287276040085,15.714285714285714,21.863799283154123,0.0,24.472168905950095,26.259541984732827,18.75,27.24616508400292,33.629441624365484,29.179810725552052,50.0,28.57142857142857,24.93730844246308,0.0,25.645035183737296,24.126326689101735,21.82671081677704,31.11111111111111,24.9524843877274,22.82575526396094,25.049051667756707,25.00940203083866,24.401650618982117,26.940063091482653,24.810606060606062,24.061196105702365,19.71915147893636,21.571349250416436,22.030366180410837,20.42233150130171,24.187604690117254,22.90292177191329,24.45550715619166,23.437949899222573,21.44427001569859,20.978196817913965,23.70212765957447,20.65967016491754,22.737376945061925,20.965744944283944,23.587889742431088,20.295318881558277,23.60633172746043,22.555205047318612,18.293216630196937,16.259569814072183,16.919816319321797,19.26991926991927,19.389110225763613,20.14719411223551,19.062930638493338,20.1363073110285,21.428571428571427],\"yaxis\":\"y\"},{\"customdata\":[[607.0,2537.0],[599.0,2519.0],[588.0,3106.0],[481.0,2634.0],[257.0,1502.0],[261.0,1181.0],[16.0,104.0],[34.0,129.0],[32.0,157.0],[52.0,283.0],[397.0,2570.0],[493.0,3428.0],[7.0,66.0],[243.0,1763.0],[1.0,6.0],[276.0,1602.0],[667.0,3741.0],[13.0,28.0],[575.0,2963.0],[821.0,4036.0],[1310.0,6163.0],[1.0,22.0],[10.0,33.0],[1507.0,7745.0],[12.0,33.0],[803.0,3048.0],[1289.0,4627.0],[1937.0,7564.0],[1297.0,4487.0],[1858.0,5856.0],[1501.0,5626.0],[1935.0,7866.0],[1739.0,7531.0],[1753.0,7813.0],[1491.0,7095.0],[1320.0,6674.0],[1754.0,7359.0],[1558.0,6325.0],[1706.0,6698.0],[1515.0,6277.0],[1513.0,6532.0],[1301.0,5674.0],[1585.0,6097.0],[1612.0,6766.0],[1572.0,7071.0],[1413.0,6071.0],[48.0,212.0],[809.0,4195.0],[1054.0,4789.0],[824.0,4447.0],[976.0,4354.0],[597.0,2806.0],[996.0,4647.0],[771.0,3396.0],[682.0,2646.0],[1053.0,3590.0],[1370.0,4246.0],[1378.0,5147.0],[1270.0,5569.0],[1015.0,4081.0],[1058.0,4030.0],[995.0,4134.0],[863.0,3448.0],[416.0,1401.0]],\"hovertemplate\":\"Female percentages: %{y}<br>Female counts: %{customdata[0]}<br>Total counts: %{customdata[1]}\",\"legendgroup\":\"Daily Star\",\"line\":{\"color\":\"rgb(158, 185, 243)\",\"dash\":\"solid\"},\"mode\":\"lines\",\"name\":\"Daily Star\",\"orientation\":\"v\",\"showlegend\":true,\"type\":\"scatter\",\"x\":[\"2015-01\",\"2015-02\",\"2015-03\",\"2015-04\",\"2015-05\",\"2015-06\",\"2015-07\",\"2015-08\",\"2015-09\",\"2015-10\",\"2015-11\",\"2015-12\",\"2016-01\",\"2016-02\",\"2016-03\",\"2016-04\",\"2016-05\",\"2016-06\",\"2016-07\",\"2016-08\",\"2016-09\",\"2016-10\",\"2016-11\",\"2016-12\",\"2017-01\",\"2017-02\",\"2017-03\",\"2017-04\",\"2017-05\",\"2017-06\",\"2017-07\",\"2017-08\",\"2017-09\",\"2017-10\",\"2017-11\",\"2017-12\",\"2018-01\",\"2018-02\",\"2018-03\",\"2018-04\",\"2018-05\",\"2018-06\",\"2018-07\",\"2018-08\",\"2018-09\",\"2018-10\",\"2018-11\",\"2018-12\",\"2019-01\",\"2019-02\",\"2019-03\",\"2019-04\",\"2019-05\",\"2019-06\",\"2019-07\",\"2019-08\",\"2019-09\",\"2019-10\",\"2019-11\",\"2019-12\",\"2020-01\",\"2020-02\",\"2020-03\",\"2020-04\"],\"xaxis\":\"x\",\"y\":[23.925896728419392,23.779277491067884,18.931101094655507,18.261199696279423,17.11051930758988,22.09991532599492,15.384615384615385,26.356589147286826,20.382165605095544,18.374558303886925,15.447470817120623,14.381563593932324,10.606060606060606,13.783323879750425,16.666666666666664,17.228464419475657,17.829457364341085,46.42857142857143,19.406007424907187,20.341922695738354,21.255881875709882,4.545454545454546,30.303030303030305,19.45771465461588,36.36363636363637,26.34514435695538,27.858223470931488,25.6081438392385,28.905727657677737,31.72814207650273,26.67970138642019,24.59954233409611,23.091222945160006,22.436964034301806,21.01479915433404,19.778243931675156,23.834760157630114,24.632411067193676,25.47028963869812,24.135733630715308,23.16289038579302,22.929150511103277,25.996391668033457,23.82500738989063,22.231650403054733,23.274584088288584,22.641509433962266,19.284862932061976,22.008770098141575,18.5293456262649,22.41616903996325,21.27583749109052,21.43318269851517,22.703180212014136,25.774754346182917,29.331476323119777,32.265661799340556,26.772877404313196,22.80481235410307,24.871355060034304,26.253101736972706,24.068698597000484,25.02900232018562,29.693076374018556],\"yaxis\":\"y\"},{\"customdata\":[[375.0,2288.0],[509.0,2704.0],[546.0,2891.0],[483.0,2131.0],[372.0,1953.0],[387.0,1718.0],[743.0,4198.0],[955.0,5733.0],[1313.0,7449.0],[875.0,5814.0],[755.0,4338.0],[1134.0,7624.0],[16.0,116.0],[389.0,1862.0],[2.0,5.0],[566.0,3263.0],[1346.0,7741.0],[20.0,68.0],[1547.0,7563.0],[1421.0,6683.0],[1446.0,6958.0],[1.0,6.0],[13.0,66.0],[1010.0,6110.0],[17.0,58.0],[408.0,2037.0],[1209.0,6613.0],[1196.0,7078.0],[1319.0,7003.0],[1515.0,7895.0],[1387.0,6736.0],[1375.0,6624.0],[1149.0,6051.0],[1831.0,9048.0],[1352.0,7670.0],[1389.0,7303.0],[2754.0,11994.0],[2916.0,12259.0],[2165.0,10850.0],[1983.0,9008.0],[1833.0,9647.0],[1586.0,8960.0],[1940.0,9496.0],[1926.0,9808.0],[1659.0,9442.0],[2730.0,12451.0],[2585.0,12949.0],[1970.0,9938.0],[1863.0,7998.0],[1398.0,5576.0],[2510.0,11639.0],[2342.0,9604.0],[2674.0,11725.0],[1968.0,9366.0],[1881.0,8926.0],[1423.0,7423.0],[1637.0,9090.0],[1996.0,11254.0],[1565.0,8875.0],[1927.0,9282.0],[2121.0,10777.0],[1700.0,8618.0],[1819.0,9270.0],[674.0,3801.0]],\"hovertemplate\":\"Female percentages: %{y}<br>Female counts: %{customdata[0]}<br>Total counts: %{customdata[1]}\",\"legendgroup\":\"Evening Standard\",\"line\":{\"color\":\"rgb(254, 136, 177)\",\"dash\":\"solid\"},\"mode\":\"lines\",\"name\":\"Evening Standard\",\"orientation\":\"v\",\"showlegend\":true,\"type\":\"scatter\",\"x\":[\"2015-01\",\"2015-02\",\"2015-03\",\"2015-04\",\"2015-05\",\"2015-06\",\"2015-07\",\"2015-08\",\"2015-09\",\"2015-10\",\"2015-11\",\"2015-12\",\"2016-01\",\"2016-02\",\"2016-03\",\"2016-04\",\"2016-05\",\"2016-06\",\"2016-07\",\"2016-08\",\"2016-09\",\"2016-10\",\"2016-11\",\"2016-12\",\"2017-01\",\"2017-02\",\"2017-03\",\"2017-04\",\"2017-05\",\"2017-06\",\"2017-07\",\"2017-08\",\"2017-09\",\"2017-10\",\"2017-11\",\"2017-12\",\"2018-01\",\"2018-02\",\"2018-03\",\"2018-04\",\"2018-05\",\"2018-06\",\"2018-07\",\"2018-08\",\"2018-09\",\"2018-10\",\"2018-11\",\"2018-12\",\"2019-01\",\"2019-02\",\"2019-03\",\"2019-04\",\"2019-05\",\"2019-06\",\"2019-07\",\"2019-08\",\"2019-09\",\"2019-10\",\"2019-11\",\"2019-12\",\"2020-01\",\"2020-02\",\"2020-03\",\"2020-04\"],\"xaxis\":\"x\",\"y\":[16.38986013986014,18.82396449704142,18.886198547215496,22.665415297982168,19.047619047619047,22.52619324796275,17.69890424011434,16.657945229373798,17.62652705061082,15.049879600963193,17.404333794375287,14.87408184679958,13.793103448275861,20.891514500537056,40.0,17.346000612932883,17.387934375403695,29.411764705882355,20.454845960597645,21.262905880592548,20.781833860304687,16.666666666666664,19.696969696969695,16.53027823240589,29.310344827586203,20.029455081001473,18.282171480417357,16.89742865216163,18.834785092103385,19.189360354654845,20.590855106888363,20.757850241545896,18.98859692612791,20.236516357206014,17.627118644067796,19.019580994112008,22.961480740370185,23.78660575903418,19.953917050691246,22.013765541740675,19.000725614180574,17.700892857142858,20.42965459140691,19.637030995106038,17.570429993645416,21.925949722913824,19.962931500501966,19.822901992352588,23.293323330832706,25.071736011477764,21.56542658303978,24.385672636401498,22.80597014925373,21.012171684817424,21.073269101501232,19.170146840899907,18.008800880088007,17.735916118713348,17.633802816901408,20.760611937082526,19.680801707339704,19.72615456022279,19.622437971952536,17.73217574322547],\"yaxis\":\"y\"},{\"customdata\":[[49.0,343.0],[83.0,525.0],[55.0,502.0],[37.0,301.0],[42.0,376.0],[12.0,176.0],[66.0,405.0],[85.0,419.0],[102.0,904.0],[59.0,685.0],[40.0,360.0],[115.0,485.0],[0.0,2.0],[44.0,253.0],[0.0,1.0],[22.0,309.0],[97.0,716.0],[1.0,12.0],[113.0,662.0],[40.0,384.0],[96.0,762.0],[0.0,2.0],[3.0,32.0],[104.0,445.0],[0.0,15.0],[35.0,253.0],[80.0,784.0],[57.0,521.0],[38.0,281.0],[23.0,180.0],[23.0,257.0],[37.0,590.0],[96.0,713.0],[170.0,889.0],[98.0,800.0],[56.0,483.0],[78.0,570.0],[66.0,632.0],[152.0,768.0],[58.0,524.0],[75.0,645.0],[65.0,619.0],[41.0,472.0],[42.0,438.0],[126.0,598.0],[55.0,656.0],[104.0,668.0],[71.0,373.0],[99.0,541.0],[96.0,523.0],[131.0,819.0],[73.0,549.0],[51.0,340.0],[55.0,442.0],[59.0,346.0],[18.0,274.0],[110.0,814.0],[143.0,533.0],[55.0,378.0],[31.0,289.0],[50.0,278.0],[33.0,242.0],[67.0,315.0],[11.0,82.0]],\"hovertemplate\":\"Female percentages: %{y}<br>Female counts: %{customdata[0]}<br>Total counts: %{customdata[1]}\",\"legendgroup\":\"Financial Times\",\"line\":{\"color\":\"rgb(201, 219, 116)\",\"dash\":\"solid\"},\"mode\":\"lines\",\"name\":\"Financial Times\",\"orientation\":\"v\",\"showlegend\":true,\"type\":\"scatter\",\"x\":[\"2015-01\",\"2015-02\",\"2015-03\",\"2015-04\",\"2015-05\",\"2015-06\",\"2015-07\",\"2015-08\",\"2015-09\",\"2015-10\",\"2015-11\",\"2015-12\",\"2016-01\",\"2016-02\",\"2016-03\",\"2016-04\",\"2016-05\",\"2016-06\",\"2016-07\",\"2016-08\",\"2016-09\",\"2016-10\",\"2016-11\",\"2016-12\",\"2017-01\",\"2017-02\",\"2017-03\",\"2017-04\",\"2017-05\",\"2017-06\",\"2017-07\",\"2017-08\",\"2017-09\",\"2017-10\",\"2017-11\",\"2017-12\",\"2018-01\",\"2018-02\",\"2018-03\",\"2018-04\",\"2018-05\",\"2018-06\",\"2018-07\",\"2018-08\",\"2018-09\",\"2018-10\",\"2018-11\",\"2018-12\",\"2019-01\",\"2019-02\",\"2019-03\",\"2019-04\",\"2019-05\",\"2019-06\",\"2019-07\",\"2019-08\",\"2019-09\",\"2019-10\",\"2019-11\",\"2019-12\",\"2020-01\",\"2020-02\",\"2020-03\",\"2020-04\"],\"xaxis\":\"x\",\"y\":[14.285714285714285,15.80952380952381,10.95617529880478,12.29235880398671,11.170212765957446,6.8181818181818175,16.296296296296298,20.286396181384248,11.283185840707963,8.613138686131387,11.11111111111111,23.711340206185564,0.0,17.391304347826086,0.0,7.119741100323624,13.547486033519554,8.333333333333332,17.069486404833835,10.416666666666668,12.598425196850393,0.0,9.375,23.370786516853933,0.0,13.83399209486166,10.204081632653061,10.9404990403071,13.523131672597867,12.777777777777777,8.949416342412452,6.271186440677965,13.464235624123422,19.122609673790777,12.25,11.594202898550725,13.684210526315791,10.443037974683545,19.791666666666664,11.068702290076336,11.627906976744185,10.500807754442649,8.686440677966102,9.58904109589041,21.070234113712374,8.384146341463415,15.568862275449103,19.034852546916888,18.299445471349355,18.35564053537285,15.995115995115993,13.296903460837886,15.0,12.44343891402715,17.052023121387283,6.569343065693431,13.513513513513514,26.82926829268293,14.550264550264549,10.726643598615917,17.985611510791365,13.636363636363635,21.26984126984127,13.414634146341465],\"yaxis\":\"y\"},{\"customdata\":[[2.0,4.0],[2.0,5.0],[1.0,2.0],[0.0,1.0],[2.0,3.0],[2.0,3.0],[0.0,2.0],[2.0,10.0],[1.0,8.0],[3.0,15.0],[4.0,11.0],[2.0,15.0],[0.0,0.0],[1.0,5.0],[0.0,0.0],[9.0,22.0],[8.0,20.0],[0.0,0.0],[7.0,25.0],[10.0,53.0],[12.0,53.0],[0.0,0.0],[1.0,1.0],[12.0,34.0],[1.0,5.0],[5.0,15.0],[27.0,63.0],[27.0,83.0],[9.0,25.0],[21.0,50.0],[29.0,75.0],[61.0,153.0],[35.0,114.0],[25.0,74.0],[31.0,85.0],[18.0,102.0],[7.0,15.0],[72.0,162.0],[32.0,64.0],[15.0,38.0],[6.0,16.0],[41.0,81.0],[15.0,52.0],[18.0,46.0],[48.0,120.0],[18.0,89.0],[66.0,185.0],[49.0,129.0],[13.0,57.0],[50.0,164.0],[47.0,150.0],[37.0,81.0],[47.0,147.0],[63.0,155.0],[35.0,83.0],[29.0,96.0],[42.0,159.0],[42.0,118.0],[53.0,157.0],[45.0,127.0],[34.0,119.0],[26.0,91.0],[34.0,77.0],[8.0,30.0]],\"hovertemplate\":\"Female percentages: %{y}<br>Female counts: %{customdata[0]}<br>Total counts: %{customdata[1]}\",\"legendgroup\":\"Metro\",\"line\":{\"color\":\"rgb(139, 224, 164)\",\"dash\":\"solid\"},\"mode\":\"lines\",\"name\":\"Metro\",\"orientation\":\"v\",\"showlegend\":true,\"type\":\"scatter\",\"x\":[\"2015-01\",\"2015-02\",\"2015-03\",\"2015-04\",\"2015-05\",\"2015-06\",\"2015-07\",\"2015-08\",\"2015-09\",\"2015-10\",\"2015-11\",\"2015-12\",\"2016-01\",\"2016-02\",\"2016-03\",\"2016-04\",\"2016-05\",\"2016-06\",\"2016-07\",\"2016-08\",\"2016-09\",\"2016-10\",\"2016-11\",\"2016-12\",\"2017-01\",\"2017-02\",\"2017-03\",\"2017-04\",\"2017-05\",\"2017-06\",\"2017-07\",\"2017-08\",\"2017-09\",\"2017-10\",\"2017-11\",\"2017-12\",\"2018-01\",\"2018-02\",\"2018-03\",\"2018-04\",\"2018-05\",\"2018-06\",\"2018-07\",\"2018-08\",\"2018-09\",\"2018-10\",\"2018-11\",\"2018-12\",\"2019-01\",\"2019-02\",\"2019-03\",\"2019-04\",\"2019-05\",\"2019-06\",\"2019-07\",\"2019-08\",\"2019-09\",\"2019-10\",\"2019-11\",\"2019-12\",\"2020-01\",\"2020-02\",\"2020-03\",\"2020-04\"],\"xaxis\":\"x\",\"y\":[50.0,40.0,50.0,0.0,66.66666666666666,66.66666666666666,0.0,20.0,12.5,20.0,36.36363636363637,13.333333333333334,null,20.0,null,40.909090909090914,40.0,null,28.000000000000004,18.867924528301888,22.641509433962266,null,100.0,35.294117647058826,20.0,33.33333333333333,42.857142857142854,32.53012048192771,36.0,42.0,38.666666666666664,39.869281045751634,30.701754385964914,33.78378378378378,36.470588235294116,17.647058823529413,46.666666666666664,44.44444444444444,50.0,39.473684210526315,37.5,50.617283950617285,28.846153846153843,39.130434782608695,40.0,20.224719101123593,35.67567567567568,37.98449612403101,22.807017543859647,30.48780487804878,31.333333333333336,45.67901234567901,31.97278911564626,40.64516129032258,42.168674698795186,30.208333333333332,26.41509433962264,35.59322033898305,33.75796178343949,35.43307086614173,28.57142857142857,28.57142857142857,44.15584415584416,26.666666666666668],\"yaxis\":\"y\"},{\"customdata\":[[1950.0,12698.0],[1895.0,13248.0],[1953.0,13752.0],[1760.0,11019.0],[1056.0,6455.0],[807.0,4903.0],[1554.0,9502.0],[2649.0,15057.0],[2829.0,16198.0],[2790.0,16567.0],[1997.0,11845.0],[2105.0,12153.0],[53.0,264.0],[1064.0,6187.0],[6.0,16.0],[1306.0,7267.0],[2493.0,14226.0],[28.0,162.0],[2321.0,11367.0],[2043.0,11195.0],[2109.0,11676.0],[4.0,78.0],[28.0,152.0],[1902.0,10652.0],[47.0,175.0],[767.0,4178.0],[2771.0,15254.0],[2536.0,15673.0],[2219.0,12109.0],[2480.0,13816.0],[2576.0,14139.0],[3731.0,17622.0],[3256.0,17356.0],[3141.0,17292.0],[3002.0,17727.0],[2415.0,14225.0],[3244.0,17586.0],[3318.0,17793.0],[2776.0,16248.0],[2386.0,13059.0],[2273.0,14156.0],[2444.0,13497.0],[2413.0,13047.0],[2044.0,12402.0],[2335.0,14272.0],[2852.0,15060.0],[2762.0,15186.0],[2098.0,11893.0],[2233.0,11116.0],[2092.0,9253.0],[2607.0,13341.0],[2055.0,10689.0],[3134.0,15505.0],[3013.0,13627.0],[2334.0,11458.0],[1861.0,11360.0],[2651.0,14686.0],[2845.0,15507.0],[2777.0,14363.0],[2403.0,12203.0],[3430.0,17008.0],[2906.0,13948.0],[2483.0,12352.0],[922.0,5096.0]],\"hovertemplate\":\"Female percentages: %{y}<br>Female counts: %{customdata[0]}<br>Total counts: %{customdata[1]}\",\"legendgroup\":\"The Daily Telegraph\",\"line\":{\"color\":\"rgb(180, 151, 231)\",\"dash\":\"solid\"},\"mode\":\"lines\",\"name\":\"The Daily Telegraph\",\"orientation\":\"v\",\"showlegend\":true,\"type\":\"scatter\",\"x\":[\"2015-01\",\"2015-02\",\"2015-03\",\"2015-04\",\"2015-05\",\"2015-06\",\"2015-07\",\"2015-08\",\"2015-09\",\"2015-10\",\"2015-11\",\"2015-12\",\"2016-01\",\"2016-02\",\"2016-03\",\"2016-04\",\"2016-05\",\"2016-06\",\"2016-07\",\"2016-08\",\"2016-09\",\"2016-10\",\"2016-11\",\"2016-12\",\"2017-01\",\"2017-02\",\"2017-03\",\"2017-04\",\"2017-05\",\"2017-06\",\"2017-07\",\"2017-08\",\"2017-09\",\"2017-10\",\"2017-11\",\"2017-12\",\"2018-01\",\"2018-02\",\"2018-03\",\"2018-04\",\"2018-05\",\"2018-06\",\"2018-07\",\"2018-08\",\"2018-09\",\"2018-10\",\"2018-11\",\"2018-12\",\"2019-01\",\"2019-02\",\"2019-03\",\"2019-04\",\"2019-05\",\"2019-06\",\"2019-07\",\"2019-08\",\"2019-09\",\"2019-10\",\"2019-11\",\"2019-12\",\"2020-01\",\"2020-02\",\"2020-03\",\"2020-04\"],\"xaxis\":\"x\",\"y\":[15.356749094345567,14.304045893719808,14.201570680628272,15.972411289590708,16.35941130906274,16.459310626147257,16.35445169438013,17.59314604502889,17.465119150512407,16.840707430433994,16.859434360489658,17.32082613346499,20.075757575757574,17.19734928074996,37.5,17.97165267648273,17.524251370729647,17.28395061728395,20.41875604820973,18.249218401071907,18.062692702980474,5.128205128205128,18.421052631578945,17.85580172737514,26.857142857142858,18.35806606031594,18.16572702242035,16.18069291137625,18.325212651746632,17.95020266357846,18.219110262394793,21.172398138690273,18.760082968425902,18.164469118667594,16.934619506966776,16.97715289982425,18.446491527351302,18.64778283594672,17.085179714426392,18.270924266789187,16.056795705001413,18.107727643179967,18.494673104928335,16.4812127076278,16.360706278026907,18.937583001328022,18.187804556828656,17.640628941394098,20.08816120906801,22.608883605317196,19.541263773330336,19.225371877631208,20.21283456949371,22.110515887576135,20.37004712864374,16.382042253521124,18.051205229470245,18.34655316953634,19.334400891178724,19.691879046136197,20.166980244590782,20.83452824777746,20.102007772020723,18.092621664050235],\"yaxis\":\"y\"},{\"customdata\":[[3119.0,18061.0],[3146.0,17446.0],[3533.0,19986.0],[3162.0,17646.0],[2572.0,15379.0],[3149.0,15477.0],[2743.0,14002.0],[3525.0,18948.0],[4242.0,21989.0],[4107.0,21661.0],[2627.0,14075.0],[2903.0,14743.0],[121.0,751.0],[1401.0,7549.0],[114.0,624.0],[110.0,719.0],[230.0,1120.0],[151.0,879.0],[264.0,1370.0],[131.0,710.0],[63.0,465.0],[109.0,525.0],[137.0,894.0],[79.0,255.0],[150.0,732.0],[100.0,525.0],[51.0,199.0],[39.0,168.0],[70.0,540.0],[611.0,2366.0],[270.0,1708.0],[1051.0,4883.0],[907.0,4416.0],[734.0,3219.0],[521.0,2364.0],[245.0,1143.0],[363.0,1302.0],[355.0,1779.0],[483.0,1958.0],[523.0,1914.0],[550.0,2239.0],[554.0,2333.0],[482.0,1934.0],[638.0,2538.0],[1528.0,6264.0],[520.0,2164.0],[515.0,2122.0],[326.0,1322.0],[357.0,1518.0],[380.0,2047.0],[602.0,2103.0],[459.0,2467.0],[535.0,2354.0],[765.0,2445.0],[542.0,2013.0],[463.0,1787.0],[533.0,2236.0],[534.0,2680.0],[610.0,2768.0],[420.0,1862.0],[640.0,2542.0],[619.0,2865.0],[579.0,2279.0],[252.0,1120.0]],\"hovertemplate\":\"Female percentages: %{y}<br>Female counts: %{customdata[0]}<br>Total counts: %{customdata[1]}\",\"legendgroup\":\"The Guardian\",\"line\":{\"color\":\"rgb(179, 179, 179)\",\"dash\":\"solid\"},\"mode\":\"lines\",\"name\":\"The Guardian\",\"orientation\":\"v\",\"showlegend\":true,\"type\":\"scatter\",\"x\":[\"2015-01\",\"2015-02\",\"2015-03\",\"2015-04\",\"2015-05\",\"2015-06\",\"2015-07\",\"2015-08\",\"2015-09\",\"2015-10\",\"2015-11\",\"2015-12\",\"2016-01\",\"2016-02\",\"2016-03\",\"2016-04\",\"2016-05\",\"2016-06\",\"2016-07\",\"2016-08\",\"2016-09\",\"2016-10\",\"2016-11\",\"2016-12\",\"2017-01\",\"2017-02\",\"2017-03\",\"2017-04\",\"2017-05\",\"2017-06\",\"2017-07\",\"2017-08\",\"2017-09\",\"2017-10\",\"2017-11\",\"2017-12\",\"2018-01\",\"2018-02\",\"2018-03\",\"2018-04\",\"2018-05\",\"2018-06\",\"2018-07\",\"2018-08\",\"2018-09\",\"2018-10\",\"2018-11\",\"2018-12\",\"2019-01\",\"2019-02\",\"2019-03\",\"2019-04\",\"2019-05\",\"2019-06\",\"2019-07\",\"2019-08\",\"2019-09\",\"2019-10\",\"2019-11\",\"2019-12\",\"2020-01\",\"2020-02\",\"2020-03\",\"2020-04\"],\"xaxis\":\"x\",\"y\":[17.269254194119927,18.0327868852459,17.677374161913338,17.91907514450867,16.724104298068795,20.346320346320347,19.59005856306242,18.603546548448385,19.29146391377507,18.960343474447164,18.664298401420957,19.69070067150512,16.11185086551265,18.558749503245465,18.269230769230766,15.299026425591098,20.535714285714285,17.178612059158134,19.27007299270073,18.450704225352112,13.548387096774196,20.761904761904763,15.324384787472036,30.980392156862745,20.491803278688526,19.047619047619047,25.628140703517587,23.214285714285715,12.962962962962962,25.82417582417583,15.807962529274006,21.523653491705918,20.53894927536232,22.80211245728487,22.038917089678513,21.434820647419073,27.880184331797235,19.955030916245082,24.66802860061287,27.324973876698017,24.564537740062526,23.746249464209175,24.922440537745604,25.137903861308114,24.393358876117496,24.029574861367838,24.269557021677663,24.659606656580937,23.517786561264824,18.563751831949194,28.62577270565858,18.60559383867045,22.727272727272727,31.28834355828221,26.924987580725286,25.90934527140459,23.837209302325583,19.925373134328357,22.03757225433526,22.55639097744361,25.177025963808024,21.605584642233858,25.40587977182975,22.5],\"yaxis\":\"y\"},{\"customdata\":[[35.0,89.0],[23.0,75.0],[25.0,81.0],[24.0,60.0],[25.0,63.0],[25.0,61.0],[43.0,96.0],[50.0,131.0],[39.0,134.0],[53.0,146.0],[44.0,108.0],[55.0,133.0],[1.0,4.0],[41.0,111.0],[2.0,10.0],[46.0,113.0],[125.0,272.0],[38.0,98.0],[2070.0,5625.0],[2267.0,6404.0],[2259.0,6618.0],[2.0,13.0],[36.0,130.0],[2889.0,8486.0],[72.0,217.0],[1488.0,3724.0],[1862.0,5179.0],[1096.0,3215.0],[1794.0,5169.0],[1135.0,2559.0],[1537.0,4090.0],[2999.0,8227.0],[2860.0,7575.0],[2645.0,7757.0],[1496.0,4043.0],[329.0,866.0],[461.0,1145.0],[2037.0,4782.0],[2531.0,6134.0],[1952.0,4564.0],[2126.0,5208.0],[1526.0,4467.0],[1739.0,4542.0],[2687.0,7000.0],[2882.0,7362.0],[2882.0,7565.0],[2951.0,7888.0],[2513.0,6693.0],[2690.0,7272.0],[2536.0,6492.0],[2480.0,6915.0],[1705.0,4587.0],[2201.0,6101.0],[2076.0,6503.0],[1689.0,4946.0],[1892.0,5043.0],[2012.0,5632.0],[2172.0,6463.0],[1874.0,5596.0],[1846.0,5150.0],[1854.0,4987.0],[1557.0,4487.0],[1163.0,3733.0],[523.0,1662.0]],\"hovertemplate\":\"Female percentages: %{y}<br>Female counts: %{customdata[0]}<br>Total counts: %{customdata[1]}\",\"legendgroup\":\"The Sun\",\"line\":{\"color\":\"rgb(102, 197, 204)\",\"dash\":\"solid\"},\"mode\":\"lines\",\"name\":\"The Sun\",\"orientation\":\"v\",\"showlegend\":true,\"type\":\"scatter\",\"x\":[\"2015-01\",\"2015-02\",\"2015-03\",\"2015-04\",\"2015-05\",\"2015-06\",\"2015-07\",\"2015-08\",\"2015-09\",\"2015-10\",\"2015-11\",\"2015-12\",\"2016-01\",\"2016-02\",\"2016-03\",\"2016-04\",\"2016-05\",\"2016-06\",\"2016-07\",\"2016-08\",\"2016-09\",\"2016-10\",\"2016-11\",\"2016-12\",\"2017-01\",\"2017-02\",\"2017-03\",\"2017-04\",\"2017-05\",\"2017-06\",\"2017-07\",\"2017-08\",\"2017-09\",\"2017-10\",\"2017-11\",\"2017-12\",\"2018-01\",\"2018-02\",\"2018-03\",\"2018-04\",\"2018-05\",\"2018-06\",\"2018-07\",\"2018-08\",\"2018-09\",\"2018-10\",\"2018-11\",\"2018-12\",\"2019-01\",\"2019-02\",\"2019-03\",\"2019-04\",\"2019-05\",\"2019-06\",\"2019-07\",\"2019-08\",\"2019-09\",\"2019-10\",\"2019-11\",\"2019-12\",\"2020-01\",\"2020-02\",\"2020-03\",\"2020-04\"],\"xaxis\":\"x\",\"y\":[39.325842696629216,30.666666666666664,30.864197530864196,40.0,39.682539682539684,40.98360655737705,44.79166666666667,38.16793893129771,29.1044776119403,36.3013698630137,40.74074074074074,41.35338345864661,25.0,36.93693693693694,20.0,40.707964601769916,45.955882352941174,38.775510204081634,36.8,35.39975015615241,34.13417951042611,15.384615384615385,27.692307692307693,34.04430827244874,33.17972350230415,39.95703544575725,35.95288665765592,34.09020217729393,34.7069065583285,44.35326299335678,37.57946210268949,36.453142093108056,37.755775577557756,34.0982338532938,37.002226069750186,37.99076212471132,40.262008733624455,42.59723964868256,41.261819367460056,42.76950043821209,40.82181259600615,34.16162972912469,38.287098194627916,38.385714285714286,39.14697093181201,38.09649702577661,37.41125760649087,37.546690572239655,36.991199119912,39.06346272335182,35.86406362979031,37.170263788968825,36.07605310604819,31.923727510379823,34.14880711686211,37.51735078326393,35.72443181818182,33.606684202382795,33.488205861329526,35.84466019417476,37.17665931421696,34.70024515266325,31.154567372086795,31.468110709987968],\"yaxis\":\"y\"},{\"customdata\":[[24.0,141.0],[19.0,143.0],[21.0,182.0],[36.0,136.0],[16.0,116.0],[14.0,89.0],[15.0,126.0],[33.0,164.0],[52.0,258.0],[47.0,219.0],[28.0,195.0],[44.0,247.0],[2.0,9.0],[22.0,101.0],[0.0,3.0],[4.0,33.0],[46.0,233.0],[1.0,5.0],[170.0,758.0],[174.0,751.0],[164.0,841.0],[0.0,1.0],[2.0,5.0],[48.0,285.0],[0.0,0.0],[10.0,64.0],[36.0,184.0],[31.0,126.0],[34.0,149.0],[44.0,145.0],[38.0,148.0],[18.0,94.0],[13.0,108.0],[33.0,117.0],[5.0,21.0],[2.0,28.0],[13.0,31.0],[6.0,32.0],[7.0,36.0],[12.0,34.0],[9.0,48.0],[5.0,47.0],[35.0,153.0],[59.0,306.0],[72.0,338.0],[95.0,448.0],[118.0,545.0],[83.0,424.0],[113.0,555.0],[97.0,491.0],[121.0,543.0],[75.0,349.0],[133.0,565.0],[110.0,509.0],[52.0,243.0],[73.0,391.0],[121.0,589.0],[106.0,546.0],[95.0,466.0],[74.0,351.0],[134.0,574.0],[156.0,754.0],[156.0,615.0],[18.0,161.0]],\"hovertemplate\":\"Female percentages: %{y}<br>Female counts: %{customdata[0]}<br>Total counts: %{customdata[1]}\",\"legendgroup\":\"The Times\",\"line\":{\"color\":\"rgb(246, 207, 113)\",\"dash\":\"solid\"},\"mode\":\"lines\",\"name\":\"The Times\",\"orientation\":\"v\",\"showlegend\":true,\"type\":\"scatter\",\"x\":[\"2015-01\",\"2015-02\",\"2015-03\",\"2015-04\",\"2015-05\",\"2015-06\",\"2015-07\",\"2015-08\",\"2015-09\",\"2015-10\",\"2015-11\",\"2015-12\",\"2016-01\",\"2016-02\",\"2016-03\",\"2016-04\",\"2016-05\",\"2016-06\",\"2016-07\",\"2016-08\",\"2016-09\",\"2016-10\",\"2016-11\",\"2016-12\",\"2017-01\",\"2017-02\",\"2017-03\",\"2017-04\",\"2017-05\",\"2017-06\",\"2017-07\",\"2017-08\",\"2017-09\",\"2017-10\",\"2017-11\",\"2017-12\",\"2018-01\",\"2018-02\",\"2018-03\",\"2018-04\",\"2018-05\",\"2018-06\",\"2018-07\",\"2018-08\",\"2018-09\",\"2018-10\",\"2018-11\",\"2018-12\",\"2019-01\",\"2019-02\",\"2019-03\",\"2019-04\",\"2019-05\",\"2019-06\",\"2019-07\",\"2019-08\",\"2019-09\",\"2019-10\",\"2019-11\",\"2019-12\",\"2020-01\",\"2020-02\",\"2020-03\",\"2020-04\"],\"xaxis\":\"x\",\"y\":[17.02127659574468,13.286713286713287,11.538461538461538,26.47058823529412,13.793103448275861,15.730337078651685,11.904761904761903,20.121951219512198,20.155038759689923,21.461187214611872,14.358974358974358,17.813765182186234,22.22222222222222,21.782178217821784,0.0,12.121212121212121,19.742489270386265,20.0,22.427440633245382,23.169107856191744,19.500594530321045,0.0,40.0,16.842105263157894,null,15.625,19.565217391304348,24.6031746031746,22.818791946308725,30.344827586206897,25.675675675675674,19.148936170212767,12.037037037037036,28.205128205128204,23.809523809523807,7.142857142857142,41.935483870967744,18.75,19.444444444444446,35.294117647058826,18.75,10.638297872340425,22.875816993464053,19.28104575163399,21.301775147928996,21.205357142857142,21.65137614678899,19.57547169811321,20.36036036036036,19.75560081466395,22.283609576427256,21.48997134670487,23.53982300884956,21.611001964636543,21.39917695473251,18.67007672634271,20.54329371816638,19.413919413919416,20.386266094420602,21.082621082621085,23.34494773519164,20.689655172413794,25.365853658536587,11.180124223602485],\"yaxis\":\"y\"},{\"customdata\":[[6.0,30.0],[7.0,28.0],[8.0,25.0],[4.0,16.0],[5.0,12.0],[4.0,13.0],[5.0,27.0],[11.0,53.0],[8.0,31.0],[10.0,43.0],[10.0,33.0],[15.0,38.0],[2.0,2.0],[4.0,21.0],[0.0,0.0],[8.0,26.0],[6.0,45.0],[4.0,10.0],[20.0,71.0],[21.0,72.0],[15.0,56.0],[0.0,4.0],[2.0,5.0],[16.0,47.0],[3.0,7.0],[15.0,62.0],[312.0,1002.0],[441.0,1659.0],[549.0,1969.0],[643.0,2003.0],[460.0,1997.0],[597.0,2469.0],[579.0,2393.0],[806.0,2861.0],[638.0,2600.0],[515.0,2173.0],[828.0,2984.0],[733.0,2670.0],[803.0,2993.0],[718.0,2656.0],[796.0,3214.0],[807.0,3079.0],[814.0,3236.0],[702.0,2953.0],[769.0,3174.0],[961.0,3428.0],[949.0,3457.0],[767.0,2814.0],[999.0,3394.0],[818.0,3033.0],[803.0,2871.0],[490.0,1818.0],[874.0,3449.0],[830.0,3075.0],[684.0,2484.0],[582.0,2547.0],[471.0,2175.0],[692.0,2809.0],[627.0,2742.0],[523.0,2118.0],[492.0,2309.0],[525.0,2019.0],[281.0,1447.0],[94.0,498.0]],\"hovertemplate\":\"Female percentages: %{y}<br>Female counts: %{customdata[0]}<br>Total counts: %{customdata[1]}\",\"legendgroup\":\"i\",\"line\":{\"color\":\"rgb(248, 156, 116)\",\"dash\":\"solid\"},\"mode\":\"lines\",\"name\":\"i\",\"orientation\":\"v\",\"showlegend\":true,\"type\":\"scatter\",\"x\":[\"2015-01\",\"2015-02\",\"2015-03\",\"2015-04\",\"2015-05\",\"2015-06\",\"2015-07\",\"2015-08\",\"2015-09\",\"2015-10\",\"2015-11\",\"2015-12\",\"2016-01\",\"2016-02\",\"2016-03\",\"2016-04\",\"2016-05\",\"2016-06\",\"2016-07\",\"2016-08\",\"2016-09\",\"2016-10\",\"2016-11\",\"2016-12\",\"2017-01\",\"2017-02\",\"2017-03\",\"2017-04\",\"2017-05\",\"2017-06\",\"2017-07\",\"2017-08\",\"2017-09\",\"2017-10\",\"2017-11\",\"2017-12\",\"2018-01\",\"2018-02\",\"2018-03\",\"2018-04\",\"2018-05\",\"2018-06\",\"2018-07\",\"2018-08\",\"2018-09\",\"2018-10\",\"2018-11\",\"2018-12\",\"2019-01\",\"2019-02\",\"2019-03\",\"2019-04\",\"2019-05\",\"2019-06\",\"2019-07\",\"2019-08\",\"2019-09\",\"2019-10\",\"2019-11\",\"2019-12\",\"2020-01\",\"2020-02\",\"2020-03\",\"2020-04\"],\"xaxis\":\"x\",\"y\":[20.0,25.0,32.0,25.0,41.66666666666667,30.76923076923077,18.51851851851852,20.754716981132077,25.806451612903224,23.25581395348837,30.303030303030305,39.473684210526315,100.0,19.047619047619047,null,30.76923076923077,13.333333333333334,40.0,28.169014084507044,29.166666666666668,26.785714285714285,0.0,40.0,34.04255319148936,42.857142857142854,24.193548387096776,31.137724550898206,26.582278481012654,27.882173692229557,32.10184722915626,23.034551827741613,24.179829890643987,24.195570413706644,28.171967843411394,24.53846153846154,23.699953980671882,27.74798927613941,27.45318352059925,26.82926829268293,27.03313253012048,24.76664592408214,26.20980837934394,25.15451174289246,23.772434812055536,24.22810333963453,28.033838973162194,27.451547584610935,27.256574271499645,29.43429581614614,26.96999670293439,27.969348659003828,26.952695269526956,25.340678457523918,26.991869918699184,27.536231884057973,22.85041224970554,21.655172413793103,24.63510145959416,22.86652078774617,24.69310670443815,21.307925508878302,26.002971768202084,19.41948859709744,18.87550200803213],\"yaxis\":\"y\"}],                        {\"barmode\":\"stack\",\"legend\":{\"title\":{\"text\":\"Newspaper\"},\"tracegroupgap\":0},\"margin\":{\"t\":60},\"template\":{\"data\":{\"bar\":[{\"error_x\":{\"color\":\"#2a3f5f\"},\"error_y\":{\"color\":\"#2a3f5f\"},\"marker\":{\"line\":{\"color\":\"#E5ECF6\",\"width\":0.5},\"pattern\":{\"fillmode\":\"overlay\",\"size\":10,\"solidity\":0.2}},\"type\":\"bar\"}],\"barpolar\":[{\"marker\":{\"line\":{\"color\":\"#E5ECF6\",\"width\":0.5},\"pattern\":{\"fillmode\":\"overlay\",\"size\":10,\"solidity\":0.2}},\"type\":\"barpolar\"}],\"carpet\":[{\"aaxis\":{\"endlinecolor\":\"#2a3f5f\",\"gridcolor\":\"white\",\"linecolor\":\"white\",\"minorgridcolor\":\"white\",\"startlinecolor\":\"#2a3f5f\"},\"baxis\":{\"endlinecolor\":\"#2a3f5f\",\"gridcolor\":\"white\",\"linecolor\":\"white\",\"minorgridcolor\":\"white\",\"startlinecolor\":\"#2a3f5f\"},\"type\":\"carpet\"}],\"choropleth\":[{\"colorbar\":{\"outlinewidth\":0,\"ticks\":\"\"},\"type\":\"choropleth\"}],\"contour\":[{\"colorbar\":{\"outlinewidth\":0,\"ticks\":\"\"},\"colorscale\":[[0.0,\"#0d0887\"],[0.1111111111111111,\"#46039f\"],[0.2222222222222222,\"#7201a8\"],[0.3333333333333333,\"#9c179e\"],[0.4444444444444444,\"#bd3786\"],[0.5555555555555556,\"#d8576b\"],[0.6666666666666666,\"#ed7953\"],[0.7777777777777778,\"#fb9f3a\"],[0.8888888888888888,\"#fdca26\"],[1.0,\"#f0f921\"]],\"type\":\"contour\"}],\"contourcarpet\":[{\"colorbar\":{\"outlinewidth\":0,\"ticks\":\"\"},\"type\":\"contourcarpet\"}],\"heatmap\":[{\"colorbar\":{\"outlinewidth\":0,\"ticks\":\"\"},\"colorscale\":[[0.0,\"#0d0887\"],[0.1111111111111111,\"#46039f\"],[0.2222222222222222,\"#7201a8\"],[0.3333333333333333,\"#9c179e\"],[0.4444444444444444,\"#bd3786\"],[0.5555555555555556,\"#d8576b\"],[0.6666666666666666,\"#ed7953\"],[0.7777777777777778,\"#fb9f3a\"],[0.8888888888888888,\"#fdca26\"],[1.0,\"#f0f921\"]],\"type\":\"heatmap\"}],\"heatmapgl\":[{\"colorbar\":{\"outlinewidth\":0,\"ticks\":\"\"},\"colorscale\":[[0.0,\"#0d0887\"],[0.1111111111111111,\"#46039f\"],[0.2222222222222222,\"#7201a8\"],[0.3333333333333333,\"#9c179e\"],[0.4444444444444444,\"#bd3786\"],[0.5555555555555556,\"#d8576b\"],[0.6666666666666666,\"#ed7953\"],[0.7777777777777778,\"#fb9f3a\"],[0.8888888888888888,\"#fdca26\"],[1.0,\"#f0f921\"]],\"type\":\"heatmapgl\"}],\"histogram\":[{\"marker\":{\"pattern\":{\"fillmode\":\"overlay\",\"size\":10,\"solidity\":0.2}},\"type\":\"histogram\"}],\"histogram2d\":[{\"colorbar\":{\"outlinewidth\":0,\"ticks\":\"\"},\"colorscale\":[[0.0,\"#0d0887\"],[0.1111111111111111,\"#46039f\"],[0.2222222222222222,\"#7201a8\"],[0.3333333333333333,\"#9c179e\"],[0.4444444444444444,\"#bd3786\"],[0.5555555555555556,\"#d8576b\"],[0.6666666666666666,\"#ed7953\"],[0.7777777777777778,\"#fb9f3a\"],[0.8888888888888888,\"#fdca26\"],[1.0,\"#f0f921\"]],\"type\":\"histogram2d\"}],\"histogram2dcontour\":[{\"colorbar\":{\"outlinewidth\":0,\"ticks\":\"\"},\"colorscale\":[[0.0,\"#0d0887\"],[0.1111111111111111,\"#46039f\"],[0.2222222222222222,\"#7201a8\"],[0.3333333333333333,\"#9c179e\"],[0.4444444444444444,\"#bd3786\"],[0.5555555555555556,\"#d8576b\"],[0.6666666666666666,\"#ed7953\"],[0.7777777777777778,\"#fb9f3a\"],[0.8888888888888888,\"#fdca26\"],[1.0,\"#f0f921\"]],\"type\":\"histogram2dcontour\"}],\"mesh3d\":[{\"colorbar\":{\"outlinewidth\":0,\"ticks\":\"\"},\"type\":\"mesh3d\"}],\"parcoords\":[{\"line\":{\"colorbar\":{\"outlinewidth\":0,\"ticks\":\"\"}},\"type\":\"parcoords\"}],\"pie\":[{\"automargin\":true,\"type\":\"pie\"}],\"scatter\":[{\"marker\":{\"colorbar\":{\"outlinewidth\":0,\"ticks\":\"\"}},\"type\":\"scatter\"}],\"scatter3d\":[{\"line\":{\"colorbar\":{\"outlinewidth\":0,\"ticks\":\"\"}},\"marker\":{\"colorbar\":{\"outlinewidth\":0,\"ticks\":\"\"}},\"type\":\"scatter3d\"}],\"scattercarpet\":[{\"marker\":{\"colorbar\":{\"outlinewidth\":0,\"ticks\":\"\"}},\"type\":\"scattercarpet\"}],\"scattergeo\":[{\"marker\":{\"colorbar\":{\"outlinewidth\":0,\"ticks\":\"\"}},\"type\":\"scattergeo\"}],\"scattergl\":[{\"marker\":{\"colorbar\":{\"outlinewidth\":0,\"ticks\":\"\"}},\"type\":\"scattergl\"}],\"scattermapbox\":[{\"marker\":{\"colorbar\":{\"outlinewidth\":0,\"ticks\":\"\"}},\"type\":\"scattermapbox\"}],\"scatterpolar\":[{\"marker\":{\"colorbar\":{\"outlinewidth\":0,\"ticks\":\"\"}},\"type\":\"scatterpolar\"}],\"scatterpolargl\":[{\"marker\":{\"colorbar\":{\"outlinewidth\":0,\"ticks\":\"\"}},\"type\":\"scatterpolargl\"}],\"scatterternary\":[{\"marker\":{\"colorbar\":{\"outlinewidth\":0,\"ticks\":\"\"}},\"type\":\"scatterternary\"}],\"surface\":[{\"colorbar\":{\"outlinewidth\":0,\"ticks\":\"\"},\"colorscale\":[[0.0,\"#0d0887\"],[0.1111111111111111,\"#46039f\"],[0.2222222222222222,\"#7201a8\"],[0.3333333333333333,\"#9c179e\"],[0.4444444444444444,\"#bd3786\"],[0.5555555555555556,\"#d8576b\"],[0.6666666666666666,\"#ed7953\"],[0.7777777777777778,\"#fb9f3a\"],[0.8888888888888888,\"#fdca26\"],[1.0,\"#f0f921\"]],\"type\":\"surface\"}],\"table\":[{\"cells\":{\"fill\":{\"color\":\"#EBF0F8\"},\"line\":{\"color\":\"white\"}},\"header\":{\"fill\":{\"color\":\"#C8D4E3\"},\"line\":{\"color\":\"white\"}},\"type\":\"table\"}]},\"layout\":{\"annotationdefaults\":{\"arrowcolor\":\"#2a3f5f\",\"arrowhead\":0,\"arrowwidth\":1},\"autotypenumbers\":\"strict\",\"coloraxis\":{\"colorbar\":{\"outlinewidth\":0,\"ticks\":\"\"}},\"colorscale\":{\"diverging\":[[0,\"#8e0152\"],[0.1,\"#c51b7d\"],[0.2,\"#de77ae\"],[0.3,\"#f1b6da\"],[0.4,\"#fde0ef\"],[0.5,\"#f7f7f7\"],[0.6,\"#e6f5d0\"],[0.7,\"#b8e186\"],[0.8,\"#7fbc41\"],[0.9,\"#4d9221\"],[1,\"#276419\"]],\"sequential\":[[0.0,\"#0d0887\"],[0.1111111111111111,\"#46039f\"],[0.2222222222222222,\"#7201a8\"],[0.3333333333333333,\"#9c179e\"],[0.4444444444444444,\"#bd3786\"],[0.5555555555555556,\"#d8576b\"],[0.6666666666666666,\"#ed7953\"],[0.7777777777777778,\"#fb9f3a\"],[0.8888888888888888,\"#fdca26\"],[1.0,\"#f0f921\"]],\"sequentialminus\":[[0.0,\"#0d0887\"],[0.1111111111111111,\"#46039f\"],[0.2222222222222222,\"#7201a8\"],[0.3333333333333333,\"#9c179e\"],[0.4444444444444444,\"#bd3786\"],[0.5555555555555556,\"#d8576b\"],[0.6666666666666666,\"#ed7953\"],[0.7777777777777778,\"#fb9f3a\"],[0.8888888888888888,\"#fdca26\"],[1.0,\"#f0f921\"]]},\"colorway\":[\"#636efa\",\"#EF553B\",\"#00cc96\",\"#ab63fa\",\"#FFA15A\",\"#19d3f3\",\"#FF6692\",\"#B6E880\",\"#FF97FF\",\"#FECB52\"],\"font\":{\"color\":\"#2a3f5f\"},\"geo\":{\"bgcolor\":\"white\",\"lakecolor\":\"white\",\"landcolor\":\"#E5ECF6\",\"showlakes\":true,\"showland\":true,\"subunitcolor\":\"white\"},\"hoverlabel\":{\"align\":\"left\"},\"hovermode\":\"closest\",\"mapbox\":{\"style\":\"light\"},\"paper_bgcolor\":\"white\",\"plot_bgcolor\":\"#E5ECF6\",\"polar\":{\"angularaxis\":{\"gridcolor\":\"white\",\"linecolor\":\"white\",\"ticks\":\"\"},\"bgcolor\":\"#E5ECF6\",\"radialaxis\":{\"gridcolor\":\"white\",\"linecolor\":\"white\",\"ticks\":\"\"}},\"scene\":{\"xaxis\":{\"backgroundcolor\":\"#E5ECF6\",\"gridcolor\":\"white\",\"gridwidth\":2,\"linecolor\":\"white\",\"showbackground\":true,\"ticks\":\"\",\"zerolinecolor\":\"white\"},\"yaxis\":{\"backgroundcolor\":\"#E5ECF6\",\"gridcolor\":\"white\",\"gridwidth\":2,\"linecolor\":\"white\",\"showbackground\":true,\"ticks\":\"\",\"zerolinecolor\":\"white\"},\"zaxis\":{\"backgroundcolor\":\"#E5ECF6\",\"gridcolor\":\"white\",\"gridwidth\":2,\"linecolor\":\"white\",\"showbackground\":true,\"ticks\":\"\",\"zerolinecolor\":\"white\"}},\"shapedefaults\":{\"line\":{\"color\":\"#2a3f5f\"}},\"ternary\":{\"aaxis\":{\"gridcolor\":\"white\",\"linecolor\":\"white\",\"ticks\":\"\"},\"baxis\":{\"gridcolor\":\"white\",\"linecolor\":\"white\",\"ticks\":\"\"},\"bgcolor\":\"#E5ECF6\",\"caxis\":{\"gridcolor\":\"white\",\"linecolor\":\"white\",\"ticks\":\"\"}},\"title\":{\"x\":0.05},\"xaxis\":{\"automargin\":true,\"gridcolor\":\"white\",\"linecolor\":\"white\",\"ticks\":\"\",\"title\":{\"standoff\":15},\"zerolinecolor\":\"white\",\"zerolinewidth\":2},\"yaxis\":{\"automargin\":true,\"gridcolor\":\"white\",\"linecolor\":\"white\",\"ticks\":\"\",\"title\":{\"standoff\":15},\"zerolinecolor\":\"white\",\"zerolinewidth\":2}}},\"title\":{\"text\":\"Percentage of female quotes in UK's newspaper, 2015-2020\"},\"xaxis\":{\"anchor\":\"y\",\"domain\":[0.0,1.0],\"title\":{\"text\":\"Month\"}},\"yaxis\":{\"anchor\":\"x\",\"domain\":[0.0,1.0],\"title\":{\"text\":\"Female percentage\"}}},                        {\"responsive\": true}                    ).then(function(){\n",
       "                            \n",
       "var gd = document.getElementById('0c8a8004-b574-489f-b3de-f97eb63e9cb4');\n",
       "var x = new MutationObserver(function (mutations, observer) {{\n",
       "        var display = window.getComputedStyle(gd).display;\n",
       "        if (!display || display === 'none') {{\n",
       "            console.log([gd, 'removed!']);\n",
       "            Plotly.purge(gd);\n",
       "            observer.disconnect();\n",
       "        }}\n",
       "}});\n",
       "\n",
       "// Listen for the removal of the full notebook cells\n",
       "var notebookContainer = gd.closest('#notebook-container');\n",
       "if (notebookContainer) {{\n",
       "    x.observe(notebookContainer, {childList: true});\n",
       "}}\n",
       "\n",
       "// Listen for the clearing of the current output cell\n",
       "var outputEl = gd.closest('.output');\n",
       "if (outputEl) {{\n",
       "    x.observe(outputEl, {childList: true});\n",
       "}}\n",
       "\n",
       "                        })                };                });            </script>        </div>"
      ]
     },
     "metadata": {},
     "output_type": "display_data"
    },
    {
     "data": {
      "application/vnd.plotly.v1+json": {
       "config": {
        "plotlyServerURL": "https://plot.ly"
       },
       "data": [
        {
         "customdata": [
          [
           1,
           591
          ],
          [
           1,
           453
          ],
          [
           1,
           1513
          ],
          [
           4,
           1510
          ],
          [
           2,
           1264
          ],
          [
           1,
           1281
          ],
          [
           1,
           1291
          ],
          [
           1,
           1723
          ],
          [
           1,
           1684
          ],
          [
           1,
           749
          ],
          [
           1,
           1108
          ],
          [
           1,
           787
          ],
          [
           2,
           962
          ],
          [
           1,
           759
          ]
         ],
         "hovertemplate": "Gender minority percentages: %{y}<br>Gender minority counts: %{customdata[0]}<br>Total counts: %{customdata[1]}",
         "legendgroup": "City A.M.",
         "line": {
          "color": "rgb(102, 197, 204)",
          "dash": "solid"
         },
         "mode": "lines",
         "name": "City A.M.",
         "orientation": "v",
         "showlegend": true,
         "type": "scatter",
         "x": [
          "2015-01",
          "2015-11",
          "2016-07",
          "2017-03",
          "2017-05",
          "2017-06",
          "2017-08",
          "2017-10",
          "2017-11",
          "2018-08",
          "2018-10",
          "2018-12",
          "2019-02",
          "2019-04"
         ],
         "xaxis": "x",
         "y": [
          0.1692047377326565,
          0.22075055187637968,
          0.06609385327164573,
          0.26490066225165565,
          0.15822784810126583,
          0.078064012490242,
          0.0774593338497289,
          0.05803830528148578,
          0.05938242280285036,
          0.13351134846461948,
          0.09025270758122744,
          0.12706480304955528,
          0.2079002079002079,
          0.13175230566534915
         ],
         "yaxis": "y"
        },
        {
         "customdata": [
          [
           5,
           2975
          ],
          [
           14,
           2837
          ],
          [
           6,
           3100
          ],
          [
           2,
           2370
          ],
          [
           2,
           3534
          ],
          [
           4,
           3801
          ],
          [
           26,
           3150
          ],
          [
           12,
           5733
          ],
          [
           3,
           7368
          ],
          [
           27,
           5829
          ],
          [
           26,
           8028
          ],
          [
           8,
           3753
          ],
          [
           10,
           3616
          ],
          [
           14,
           10250
          ],
          [
           10,
           8860
          ],
          [
           21,
           8678
          ],
          [
           5,
           11139
          ],
          [
           9,
           10649
          ],
          [
           5,
           3426
          ],
          [
           18,
           12202
          ],
          [
           15,
           14653
          ],
          [
           29,
           14321
          ],
          [
           18,
           15465
          ],
          [
           17,
           12670
          ],
          [
           10,
           5730
          ],
          [
           6,
           5924
          ],
          [
           3,
           5473
          ],
          [
           10,
           8897
          ],
          [
           4,
           4580
          ],
          [
           8,
           7453
          ],
          [
           8,
           7461
          ],
          [
           8,
           9415
          ],
          [
           6,
           16627
          ],
          [
           8,
           16615
          ],
          [
           10,
           13182
          ],
          [
           9,
           8465
          ],
          [
           7,
           15762
          ],
          [
           2,
           8435
          ],
          [
           1,
           1353
          ],
          [
           3,
           7388
          ],
          [
           2,
           5045
          ],
          [
           2,
           2789
          ],
          [
           5,
           7599
          ],
          [
           12,
           9614
          ],
          [
           38,
           20353
          ],
          [
           12,
           17362
          ],
          [
           9,
           8823
          ],
          [
           4,
           6064
          ],
          [
           12,
           16208
          ],
          [
           4,
           17603
          ],
          [
           59,
           18835
          ],
          [
           30,
           13462
          ],
          [
           13,
           16522
          ],
          [
           4,
           10253
          ],
          [
           2,
           10329
          ],
          [
           1,
           3777
          ]
         ],
         "hovertemplate": "Gender minority percentages: %{y}<br>Gender minority counts: %{customdata[0]}<br>Total counts: %{customdata[1]}",
         "legendgroup": "Daily Express",
         "line": {
          "color": "rgb(246, 207, 113)",
          "dash": "solid"
         },
         "mode": "lines",
         "name": "Daily Express",
         "orientation": "v",
         "showlegend": true,
         "type": "scatter",
         "x": [
          "2015-01",
          "2015-02",
          "2015-03",
          "2015-04",
          "2015-05",
          "2015-06",
          "2015-07",
          "2015-09",
          "2015-10",
          "2015-11",
          "2015-12",
          "2016-02",
          "2016-04",
          "2016-05",
          "2016-07",
          "2016-08",
          "2016-09",
          "2016-12",
          "2017-02",
          "2017-03",
          "2017-04",
          "2017-05",
          "2017-06",
          "2017-07",
          "2017-08",
          "2017-09",
          "2017-10",
          "2017-11",
          "2017-12",
          "2018-01",
          "2018-03",
          "2018-04",
          "2018-05",
          "2018-06",
          "2018-07",
          "2018-08",
          "2018-09",
          "2018-10",
          "2018-11",
          "2018-12",
          "2019-01",
          "2019-02",
          "2019-03",
          "2019-04",
          "2019-05",
          "2019-06",
          "2019-07",
          "2019-08",
          "2019-09",
          "2019-10",
          "2019-11",
          "2019-12",
          "2020-01",
          "2020-02",
          "2020-03",
          "2020-04"
         ],
         "xaxis": "x",
         "y": [
          0.16806722689075632,
          0.4934790271413465,
          0.1935483870967742,
          0.08438818565400844,
          0.056593095642331635,
          0.10523546435148645,
          0.8253968253968255,
          0.20931449502878074,
          0.04071661237785017,
          0.46320123520329387,
          0.32386646736422525,
          0.21316280309086064,
          0.27654867256637167,
          0.13658536585365852,
          0.1128668171557562,
          0.2419912422217101,
          0.04488733279468534,
          0.0845149779322002,
          0.14594279042615294,
          0.1475168005245042,
          0.1023681157442162,
          0.202499825431185,
          0.11639185257032007,
          0.13417521704814522,
          0.17452006980802792,
          0.1012829169480081,
          0.05481454412570802,
          0.11239743733842869,
          0.08733624454148471,
          0.10733932644572655,
          0.10722423267658492,
          0.0849707912904939,
          0.036085884404883625,
          0.048149262714414685,
          0.07586102260658474,
          0.106320141760189,
          0.044410607790889484,
          0.023710729104919975,
          0.07390983000739099,
          0.040606388738494856,
          0.03964321110009911,
          0.07171029042667623,
          0.06579813133307014,
          0.1248179737882255,
          0.18670466270328698,
          0.06911646123718465,
          0.10200612036722204,
          0.06596306068601583,
          0.07403751233958539,
          0.022723399420553313,
          0.3132466153437749,
          0.2228495023027782,
          0.07868296816366058,
          0.039012971813127864,
          0.019362958660083262,
          0.026476039184537992
         ],
         "yaxis": "y"
        },
        {
         "customdata": [
          [
           1,
           1141
          ],
          [
           6,
           706
          ],
          [
           9,
           1252
          ],
          [
           4,
           1236
          ],
          [
           3,
           1270
          ],
          [
           1,
           790
          ],
          [
           2,
           1236
          ],
          [
           1,
           1158
          ],
          [
           3,
           884
          ],
          [
           1,
           1357
          ],
          [
           1,
           1267
          ],
          [
           1,
           1253
          ],
          [
           1,
           1520
          ],
          [
           3,
           1171
          ],
          [
           5,
           1204
          ],
          [
           3,
           1098
          ],
          [
           9,
           1363
          ],
          [
           17,
           8382
          ],
          [
           19,
           5580
          ],
          [
           22,
           1920
          ],
          [
           4,
           1245
          ],
          [
           2,
           1520
          ],
          [
           2,
           1761
          ],
          [
           1,
           2518
          ],
          [
           5,
           2756
          ],
          [
           4,
           1871
          ],
          [
           3,
           1128
          ],
          [
           3,
           1177
          ],
          [
           5,
           981
          ],
          [
           1,
           2152
          ],
          [
           4,
           1849
          ],
          [
           5,
           1611
          ],
          [
           1,
           2135
          ],
          [
           3,
           1426
          ],
          [
           5,
           1413
          ],
          [
           3,
           1849
          ],
          [
           11,
           2634
          ],
          [
           1,
           2125
          ],
          [
           1,
           1259
          ],
          [
           2,
           1964
          ],
          [
           10,
           2069
          ],
          [
           5,
           2118
          ],
          [
           12,
           2099
          ],
          [
           11,
           1555
          ],
          [
           3,
           1716
          ],
          [
           4,
           1611
          ],
          [
           3,
           1740
          ]
         ],
         "hovertemplate": "Gender minority percentages: %{y}<br>Gender minority counts: %{customdata[0]}<br>Total counts: %{customdata[1]}",
         "legendgroup": "Daily Mail",
         "line": {
          "color": "rgb(248, 156, 116)",
          "dash": "solid"
         },
         "mode": "lines",
         "name": "Daily Mail",
         "orientation": "v",
         "showlegend": true,
         "type": "scatter",
         "x": [
          "2015-03",
          "2015-07",
          "2015-08",
          "2015-09",
          "2015-10",
          "2015-11",
          "2015-12",
          "2016-05",
          "2016-07",
          "2016-08",
          "2016-09",
          "2016-12",
          "2017-03",
          "2017-04",
          "2017-05",
          "2017-06",
          "2017-07",
          "2017-08",
          "2017-09",
          "2017-10",
          "2017-11",
          "2018-01",
          "2018-02",
          "2018-03",
          "2018-04",
          "2018-05",
          "2018-06",
          "2018-07",
          "2018-08",
          "2018-09",
          "2018-11",
          "2018-12",
          "2019-01",
          "2019-02",
          "2019-03",
          "2019-04",
          "2019-05",
          "2019-06",
          "2019-07",
          "2019-08",
          "2019-09",
          "2019-10",
          "2019-11",
          "2019-12",
          "2020-01",
          "2020-02",
          "2020-03"
         ],
         "xaxis": "x",
         "y": [
          0.0876424189307625,
          0.84985835694051,
          0.7188498402555911,
          0.3236245954692557,
          0.23622047244094488,
          0.12658227848101267,
          0.16181229773462785,
          0.08635578583765112,
          0.3393665158371041,
          0.07369196757553427,
          0.07892659826361484,
          0.07980845969672785,
          0.06578947368421052,
          0.25619128949615716,
          0.41528239202657813,
          0.273224043715847,
          0.6603081438004402,
          0.2028155571462658,
          0.34050179211469533,
          1.1458333333333333,
          0.321285140562249,
          0.13157894736842105,
          0.1135718341851221,
          0.03971405877680699,
          0.18142235123367198,
          0.2137894174238375,
          0.26595744680851063,
          0.2548853016142736,
          0.509683995922528,
          0.046468401486988845,
          0.2163331530557058,
          0.31036623215394166,
          0.046838407494145196,
          0.21037868162692847,
          0.3538570417551309,
          0.16224986479177933,
          0.4176157934700076,
          0.047058823529411764,
          0.07942811755361398,
          0.10183299389002036,
          0.4833252779120348,
          0.2360717658168083,
          0.5717008099094807,
          0.707395498392283,
          0.17482517482517482,
          0.2482929857231533,
          0.1724137931034483
         ],
         "yaxis": "y"
        },
        {
         "customdata": [
          [
           26,
           2855
          ],
          [
           39,
           3230
          ],
          [
           5,
           2469
          ],
          [
           50,
           2954
          ],
          [
           47,
           4217
          ],
          [
           65,
           4169
          ],
          [
           88,
           3778
          ],
          [
           95,
           5788
          ],
          [
           67,
           7199
          ],
          [
           29,
           7727
          ],
          [
           77,
           6603
          ],
          [
           74,
           7796
          ],
          [
           10,
           3467
          ],
          [
           21,
           3686
          ],
          [
           25,
           8390
          ],
          [
           17,
           8340
          ],
          [
           30,
           7420
          ],
          [
           32,
           7130
          ],
          [
           13,
           7301
          ],
          [
           9,
           3678
          ],
          [
           19,
           8987
          ],
          [
           52,
           6749
          ],
          [
           58,
           8446
          ],
          [
           18,
           7764
          ],
          [
           36,
           8168
          ],
          [
           26,
           9214
          ],
          [
           51,
           9496
          ],
          [
           85,
           10506
          ],
          [
           29,
           9145
          ],
          [
           16,
           7926
          ],
          [
           75,
           9555
          ],
          [
           16,
           8471
          ],
          [
           39,
           10047
          ],
          [
           15,
           8424
          ],
          [
           25,
           8619
          ],
          [
           8,
           7848
          ],
          [
           18,
           8110
          ],
          [
           67,
           7939
          ],
          [
           30,
           9202
          ],
          [
           33,
           10008
          ],
          [
           21,
           10014
          ],
          [
           17,
           8460
          ],
          [
           38,
           9144
          ],
          [
           23,
           9210
          ],
          [
           22,
           9677
          ],
          [
           23,
           8179
          ],
          [
           26,
           9445
          ],
          [
           18,
           7635
          ],
          [
           15,
           5964
          ],
          [
           56,
           7373
          ],
          [
           59,
           9036
          ],
          [
           28,
           9027
          ],
          [
           150,
           9383
          ],
          [
           78,
           7356
          ],
          [
           29,
           7927
          ],
          [
           30,
           6532
          ],
          [
           33,
           5461
          ],
          [
           6,
           2476
          ]
         ],
         "hovertemplate": "Gender minority percentages: %{y}<br>Gender minority counts: %{customdata[0]}<br>Total counts: %{customdata[1]}",
         "legendgroup": "Daily Mirror",
         "line": {
          "color": "rgb(220, 176, 242)",
          "dash": "solid"
         },
         "mode": "lines",
         "name": "Daily Mirror",
         "orientation": "v",
         "showlegend": true,
         "type": "scatter",
         "x": [
          "2015-01",
          "2015-02",
          "2015-03",
          "2015-04",
          "2015-05",
          "2015-06",
          "2015-07",
          "2015-08",
          "2015-09",
          "2015-10",
          "2015-11",
          "2015-12",
          "2016-02",
          "2016-04",
          "2016-05",
          "2016-07",
          "2016-08",
          "2016-09",
          "2016-12",
          "2017-02",
          "2017-03",
          "2017-04",
          "2017-05",
          "2017-06",
          "2017-07",
          "2017-08",
          "2017-09",
          "2017-10",
          "2017-11",
          "2017-12",
          "2018-01",
          "2018-02",
          "2018-03",
          "2018-04",
          "2018-05",
          "2018-06",
          "2018-07",
          "2018-08",
          "2018-09",
          "2018-10",
          "2018-11",
          "2018-12",
          "2019-01",
          "2019-02",
          "2019-03",
          "2019-04",
          "2019-05",
          "2019-06",
          "2019-07",
          "2019-08",
          "2019-09",
          "2019-10",
          "2019-11",
          "2019-12",
          "2020-01",
          "2020-02",
          "2020-03",
          "2020-04"
         ],
         "xaxis": "x",
         "y": [
          0.9106830122591943,
          1.2074303405572755,
          0.2025111381125962,
          1.6926201760324981,
          1.1145364002845624,
          1.5591268889421923,
          2.3292747485442034,
          1.6413268832066346,
          0.9306848173357412,
          0.3753073637893102,
          1.1661366045736787,
          0.9492047203694202,
          0.2884338044418806,
          0.5697232772653282,
          0.29797377830750893,
          0.2038369304556355,
          0.40431266846361186,
          0.44880785413744745,
          0.1780578003013286,
          0.24469820554649263,
          0.21141649048625794,
          0.7704845162246259,
          0.6867156050201279,
          0.23183925811437403,
          0.4407443682664055,
          0.28217929238115913,
          0.5370682392586352,
          0.8090614886731391,
          0.31711317659923455,
          0.20186727226848347,
          0.7849293563579277,
          0.18887970723645378,
          0.38817557479844733,
          0.17806267806267806,
          0.29005685114282403,
          0.10193679918450561,
          0.22194821208384713,
          0.8439350044086157,
          0.32601608346011735,
          0.32973621103117506,
          0.2097064110245656,
          0.20094562647754136,
          0.41557305336832895,
          0.249728555917481,
          0.22734318487134444,
          0.2812079716346742,
          0.2752779248279513,
          0.2357563850687623,
          0.2515090543259557,
          0.75952800759528,
          0.6529437804338203,
          0.3101805694029024,
          1.5986358307577535,
          1.0603588907014683,
          0.36583827425255455,
          0.4592774035517453,
          0.6042849295000916,
          0.24232633279483037
         ],
         "yaxis": "y"
        },
        {
         "customdata": [
          [
           4,
           1526
          ],
          [
           6,
           1752
          ],
          [
           2,
           1756
          ],
          [
           13,
           1626
          ],
          [
           15,
           1712
          ],
          [
           5,
           1628
          ],
          [
           51,
           1720
          ],
          [
           40,
           2986
          ],
          [
           10,
           3186
          ],
          [
           5,
           3293
          ],
          [
           8,
           2457
          ],
          [
           28,
           3293
          ],
          [
           1,
           837
          ],
          [
           1,
           2738
          ],
          [
           5,
           3152
          ],
          [
           3,
           3170
          ],
          [
           2,
           3589
          ],
          [
           6,
           3863
          ],
          [
           6,
           3624
          ],
          [
           8,
           3683
          ],
          [
           5,
           3058
          ],
          [
           4,
           2659
          ],
          [
           11,
           3635
          ],
          [
           1,
           1585
          ],
          [
           2,
           3168
          ],
          [
           6,
           3595
          ],
          [
           4,
           3347
          ],
          [
           3,
           3602
          ],
          [
           3,
           3359
          ],
          [
           1,
           3457
          ],
          [
           1,
           2985
          ],
          [
           7,
           3214
          ],
          [
           8,
           3473
          ],
          [
           4,
           3185
          ],
          [
           5,
           3394
          ],
          [
           1,
           2350
          ],
          [
           7,
           2423
          ],
          [
           4,
           2213
          ],
          [
           3,
           3183
          ],
          [
           3,
           2906
          ],
          [
           1,
           1268
          ],
          [
           2,
           2285
          ],
          [
           12,
           2743
          ],
          [
           3,
           2831
          ],
          [
           5,
           2849
          ],
          [
           2,
           2259
          ],
          [
           1,
           2174
          ],
          [
           1,
           2177
          ],
          [
           1,
           462
          ]
         ],
         "hovertemplate": "Gender minority percentages: %{y}<br>Gender minority counts: %{customdata[0]}<br>Total counts: %{customdata[1]}",
         "legendgroup": "Daily Record",
         "line": {
          "color": "rgb(135, 197, 95)",
          "dash": "solid"
         },
         "mode": "lines",
         "name": "Daily Record",
         "orientation": "v",
         "showlegend": true,
         "type": "scatter",
         "x": [
          "2015-01",
          "2015-02",
          "2015-03",
          "2015-04",
          "2015-05",
          "2015-06",
          "2015-07",
          "2015-08",
          "2015-09",
          "2015-10",
          "2015-11",
          "2015-12",
          "2016-02",
          "2016-07",
          "2016-08",
          "2016-09",
          "2016-12",
          "2017-03",
          "2017-04",
          "2017-06",
          "2017-08",
          "2017-09",
          "2017-10",
          "2017-11",
          "2017-12",
          "2018-01",
          "2018-02",
          "2018-03",
          "2018-04",
          "2018-05",
          "2018-06",
          "2018-08",
          "2018-09",
          "2018-10",
          "2018-11",
          "2018-12",
          "2019-03",
          "2019-04",
          "2019-05",
          "2019-06",
          "2019-07",
          "2019-08",
          "2019-09",
          "2019-10",
          "2019-11",
          "2019-12",
          "2020-01",
          "2020-02",
          "2020-04"
         ],
         "xaxis": "x",
         "y": [
          0.2621231979030144,
          0.3424657534246575,
          0.11389521640091116,
          0.7995079950799507,
          0.8761682242990654,
          0.3071253071253071,
          2.9651162790697674,
          1.3395847287340925,
          0.31387319522912743,
          0.1518372304889159,
          0.3256003256003256,
          0.850288490737929,
          0.11947431302270012,
          0.03652300949598247,
          0.15862944162436549,
          0.0946372239747634,
          0.05572582892170522,
          0.1553196997152472,
          0.16556291390728478,
          0.21721422753190334,
          0.1635055591890124,
          0.15043249341857842,
          0.30261348005502064,
          0.06309148264984228,
          0.06313131313131314,
          0.16689847009735745,
          0.11951000896325066,
          0.0832870627429206,
          0.08931229532598987,
          0.02892681515765114,
          0.03350083752093803,
          0.21779713752333543,
          0.2303484019579614,
          0.12558869701726844,
          0.14731879787860933,
          0.0425531914893617,
          0.2888980602558811,
          0.18075011296882063,
          0.0942507068803016,
          0.10323468685478321,
          0.07886435331230283,
          0.087527352297593,
          0.43747721472839957,
          0.1059696220416814,
          0.17550017550017552,
          0.08853474988933156,
          0.045998160073597055,
          0.045934772622875514,
          0.21645021645021645
         ],
         "yaxis": "y"
        },
        {
         "customdata": [
          [
           13,
           2537
          ],
          [
           17,
           2519
          ],
          [
           10,
           3106
          ],
          [
           36,
           2634
          ],
          [
           10,
           1502
          ],
          [
           13,
           1181
          ],
          [
           7,
           129
          ],
          [
           2,
           283
          ],
          [
           9,
           2570
          ],
          [
           10,
           3428
          ],
          [
           2,
           1763
          ],
          [
           5,
           1602
          ],
          [
           23,
           3741
          ],
          [
           5,
           2963
          ],
          [
           16,
           4036
          ],
          [
           25,
           6163
          ],
          [
           13,
           7745
          ],
          [
           5,
           3048
          ],
          [
           15,
           4627
          ],
          [
           21,
           7564
          ],
          [
           17,
           4487
          ],
          [
           42,
           5856
          ],
          [
           20,
           5626
          ],
          [
           14,
           7866
          ],
          [
           38,
           7531
          ],
          [
           36,
           7813
          ],
          [
           20,
           7095
          ],
          [
           4,
           6674
          ],
          [
           58,
           7359
          ],
          [
           23,
           6325
          ],
          [
           20,
           6698
          ],
          [
           17,
           6277
          ],
          [
           9,
           6532
          ],
          [
           5,
           5674
          ],
          [
           2,
           6097
          ],
          [
           22,
           6766
          ],
          [
           13,
           7071
          ],
          [
           9,
           6071
          ],
          [
           1,
           212
          ],
          [
           19,
           4195
          ],
          [
           5,
           4789
          ],
          [
           9,
           4447
          ],
          [
           18,
           4354
          ],
          [
           8,
           2806
          ],
          [
           16,
           4647
          ],
          [
           3,
           3396
          ],
          [
           8,
           2646
          ],
          [
           44,
           3590
          ],
          [
           26,
           4246
          ],
          [
           23,
           5147
          ],
          [
           77,
           5569
          ],
          [
           50,
           4081
          ],
          [
           8,
           4030
          ],
          [
           26,
           4134
          ],
          [
           6,
           3448
          ]
         ],
         "hovertemplate": "Gender minority percentages: %{y}<br>Gender minority counts: %{customdata[0]}<br>Total counts: %{customdata[1]}",
         "legendgroup": "Daily Star",
         "line": {
          "color": "rgb(158, 185, 243)",
          "dash": "solid"
         },
         "mode": "lines",
         "name": "Daily Star",
         "orientation": "v",
         "showlegend": true,
         "type": "scatter",
         "x": [
          "2015-01",
          "2015-02",
          "2015-03",
          "2015-04",
          "2015-05",
          "2015-06",
          "2015-08",
          "2015-10",
          "2015-11",
          "2015-12",
          "2016-02",
          "2016-04",
          "2016-05",
          "2016-07",
          "2016-08",
          "2016-09",
          "2016-12",
          "2017-02",
          "2017-03",
          "2017-04",
          "2017-05",
          "2017-06",
          "2017-07",
          "2017-08",
          "2017-09",
          "2017-10",
          "2017-11",
          "2017-12",
          "2018-01",
          "2018-02",
          "2018-03",
          "2018-04",
          "2018-05",
          "2018-06",
          "2018-07",
          "2018-08",
          "2018-09",
          "2018-10",
          "2018-11",
          "2018-12",
          "2019-01",
          "2019-02",
          "2019-03",
          "2019-04",
          "2019-05",
          "2019-06",
          "2019-07",
          "2019-08",
          "2019-09",
          "2019-10",
          "2019-11",
          "2019-12",
          "2020-01",
          "2020-02",
          "2020-03"
         ],
         "xaxis": "x",
         "y": [
          0.5124162396531337,
          0.6748709805478365,
          0.3219575016097875,
          1.366742596810934,
          0.6657789613848202,
          1.100762066045724,
          5.426356589147287,
          0.7067137809187279,
          0.3501945525291829,
          0.29171528588098017,
          0.11344299489506524,
          0.3121098626716604,
          0.6148088746324512,
          0.16874789065136686,
          0.39643211100099107,
          0.4056466006814863,
          0.16785022595222726,
          0.16404199475065617,
          0.3241841365895829,
          0.27763088313061873,
          0.37887229774905284,
          0.7172131147540983,
          0.35549235691432635,
          0.17798118484617342,
          0.504581064931616,
          0.460770510687316,
          0.28188865398167723,
          0.059934072520227755,
          0.7881505639353173,
          0.36363636363636365,
          0.2985965959988056,
          0.2708300143380596,
          0.13778322106552357,
          0.08812125484666902,
          0.03280301787764474,
          0.325155187703222,
          0.18384952623391315,
          0.1482457585241311,
          0.4716981132075472,
          0.45292014302741357,
          0.10440593025683859,
          0.2023836294130875,
          0.41341295360587965,
          0.2851033499643621,
          0.3443081557994405,
          0.08833922261484099,
          0.30234315948601664,
          1.2256267409470751,
          0.6123410268487989,
          0.4468622498542841,
          1.382653977374753,
          1.2251899044351875,
          0.19851116625310172,
          0.628930817610063,
          0.17401392111368907
         ],
         "yaxis": "y"
        },
        {
         "customdata": [
          [
           4,
           2288
          ],
          [
           22,
           2704
          ],
          [
           5,
           2891
          ],
          [
           18,
           2131
          ],
          [
           21,
           1953
          ],
          [
           12,
           1718
          ],
          [
           49,
           4198
          ],
          [
           22,
           5733
          ],
          [
           28,
           7449
          ],
          [
           23,
           5814
          ],
          [
           24,
           4338
          ],
          [
           48,
           7624
          ],
          [
           1,
           116
          ],
          [
           5,
           1862
          ],
          [
           2,
           3263
          ],
          [
           17,
           7741
          ],
          [
           17,
           7563
          ],
          [
           14,
           6683
          ],
          [
           6,
           6958
          ],
          [
           18,
           6110
          ],
          [
           9,
           2037
          ],
          [
           18,
           6613
          ],
          [
           9,
           7078
          ],
          [
           20,
           7003
          ],
          [
           9,
           7895
          ],
          [
           15,
           6736
          ],
          [
           23,
           6624
          ],
          [
           8,
           6051
          ],
          [
           37,
           9048
          ],
          [
           10,
           7670
          ],
          [
           12,
           7303
          ],
          [
           23,
           11994
          ],
          [
           17,
           12259
          ],
          [
           13,
           10850
          ],
          [
           26,
           9008
          ],
          [
           17,
           9647
          ],
          [
           2,
           8960
          ],
          [
           4,
           9496
          ],
          [
           23,
           9808
          ],
          [
           10,
           9442
          ],
          [
           36,
           12451
          ],
          [
           15,
           12949
          ],
          [
           33,
           9938
          ],
          [
           18,
           7998
          ],
          [
           19,
           5576
          ],
          [
           12,
           11639
          ],
          [
           10,
           9604
          ],
          [
           34,
           11725
          ],
          [
           15,
           9366
          ],
          [
           16,
           8926
          ],
          [
           16,
           7423
          ],
          [
           11,
           9090
          ],
          [
           11,
           11254
          ],
          [
           8,
           8875
          ],
          [
           18,
           9282
          ],
          [
           18,
           10777
          ],
          [
           6,
           8618
          ],
          [
           22,
           9270
          ],
          [
           5,
           3801
          ]
         ],
         "hovertemplate": "Gender minority percentages: %{y}<br>Gender minority counts: %{customdata[0]}<br>Total counts: %{customdata[1]}",
         "legendgroup": "Evening Standard",
         "line": {
          "color": "rgb(254, 136, 177)",
          "dash": "solid"
         },
         "mode": "lines",
         "name": "Evening Standard",
         "orientation": "v",
         "showlegend": true,
         "type": "scatter",
         "x": [
          "2015-01",
          "2015-02",
          "2015-03",
          "2015-04",
          "2015-05",
          "2015-06",
          "2015-07",
          "2015-08",
          "2015-09",
          "2015-10",
          "2015-11",
          "2015-12",
          "2016-01",
          "2016-02",
          "2016-04",
          "2016-05",
          "2016-07",
          "2016-08",
          "2016-09",
          "2016-12",
          "2017-02",
          "2017-03",
          "2017-04",
          "2017-05",
          "2017-06",
          "2017-07",
          "2017-08",
          "2017-09",
          "2017-10",
          "2017-11",
          "2017-12",
          "2018-01",
          "2018-02",
          "2018-03",
          "2018-04",
          "2018-05",
          "2018-06",
          "2018-07",
          "2018-08",
          "2018-09",
          "2018-10",
          "2018-11",
          "2018-12",
          "2019-01",
          "2019-02",
          "2019-03",
          "2019-04",
          "2019-05",
          "2019-06",
          "2019-07",
          "2019-08",
          "2019-09",
          "2019-10",
          "2019-11",
          "2019-12",
          "2020-01",
          "2020-02",
          "2020-03",
          "2020-04"
         ],
         "xaxis": "x",
         "y": [
          0.17482517482517482,
          0.8136094674556213,
          0.17295053614666206,
          0.8446738620366024,
          1.0752688172043012,
          0.6984866123399301,
          1.167222486898523,
          0.383743240886098,
          0.3758893811249832,
          0.3955968352253182,
          0.5532503457814661,
          0.6295907660020986,
          0.8620689655172413,
          0.26852846401718583,
          0.061293288384921846,
          0.21960986952590106,
          0.22477852703953458,
          0.20948675744426157,
          0.0862316757688991,
          0.2945990180032733,
          0.4418262150220913,
          0.27219113866626343,
          0.12715456343599885,
          0.28559188919034695,
          0.11399620012666244,
          0.22268408551068883,
          0.3472222222222222,
          0.13220955214014213,
          0.40893015030946067,
          0.1303780964797914,
          0.16431603450636723,
          0.191762547940637,
          0.138673627538951,
          0.11981566820276497,
          0.2886323268206039,
          0.17622058671089458,
          0.022321428571428572,
          0.04212299915754002,
          0.23450244698205547,
          0.10590976488032197,
          0.28913340293952294,
          0.11583906093134604,
          0.3320587643389012,
          0.22505626406601648,
          0.34074605451936874,
          0.10310164103445314,
          0.10412328196584757,
          0.28997867803837957,
          0.1601537475976938,
          0.17925162446784673,
          0.2155462750909336,
          0.12101210121012101,
          0.09774302470232805,
          0.09014084507042254,
          0.19392372333548805,
          0.16702236243852647,
          0.0696217219772569,
          0.23732470334412084,
          0.13154433043935806
         ],
         "yaxis": "y"
        },
        {
         "customdata": [
          [
           2,
           525
          ],
          [
           1,
           445
          ],
          [
           2,
           483
          ],
          [
           1,
           524
          ],
          [
           4,
           619
          ],
          [
           1,
           598
          ],
          [
           6,
           656
          ],
          [
           2,
           668
          ],
          [
           1,
           373
          ],
          [
           5,
           523
          ]
         ],
         "hovertemplate": "Gender minority percentages: %{y}<br>Gender minority counts: %{customdata[0]}<br>Total counts: %{customdata[1]}",
         "legendgroup": "Financial Times",
         "line": {
          "color": "rgb(201, 219, 116)",
          "dash": "solid"
         },
         "mode": "lines",
         "name": "Financial Times",
         "orientation": "v",
         "showlegend": true,
         "type": "scatter",
         "x": [
          "2015-02",
          "2016-12",
          "2017-12",
          "2018-04",
          "2018-06",
          "2018-09",
          "2018-10",
          "2018-11",
          "2018-12",
          "2019-02"
         ],
         "xaxis": "x",
         "y": [
          0.38095238095238093,
          0.22471910112359553,
          0.4140786749482402,
          0.19083969465648853,
          0.6462035541195477,
          0.16722408026755853,
          0.9146341463414633,
          0.29940119760479045,
          0.2680965147453083,
          0.9560229445506693
         ],
         "yaxis": "y"
        },
        {
         "customdata": [
          [
           1,
           53
          ],
          [
           1,
           50
          ],
          [
           1,
           75
          ],
          [
           1,
           153
          ],
          [
           1,
           114
          ],
          [
           1,
           74
          ],
          [
           1,
           85
          ],
          [
           1,
           162
          ],
          [
           4,
           185
          ],
          [
           1,
           129
          ],
          [
           2,
           150
          ],
          [
           2,
           96
          ],
          [
           2,
           159
          ],
          [
           1,
           118
          ],
          [
           3,
           157
          ],
          [
           3,
           127
          ],
          [
           1,
           119
          ],
          [
           4,
           91
          ]
         ],
         "hovertemplate": "Gender minority percentages: %{y}<br>Gender minority counts: %{customdata[0]}<br>Total counts: %{customdata[1]}",
         "legendgroup": "Metro",
         "line": {
          "color": "rgb(139, 224, 164)",
          "dash": "solid"
         },
         "mode": "lines",
         "name": "Metro",
         "orientation": "v",
         "showlegend": true,
         "type": "scatter",
         "x": [
          "2016-09",
          "2017-06",
          "2017-07",
          "2017-08",
          "2017-09",
          "2017-10",
          "2017-11",
          "2018-02",
          "2018-11",
          "2018-12",
          "2019-03",
          "2019-08",
          "2019-09",
          "2019-10",
          "2019-11",
          "2019-12",
          "2020-01",
          "2020-02"
         ],
         "xaxis": "x",
         "y": [
          1.8867924528301887,
          2,
          1.3333333333333335,
          0.6535947712418301,
          0.8771929824561403,
          1.3513513513513513,
          1.1764705882352942,
          0.6172839506172839,
          2.1621621621621623,
          0.7751937984496124,
          1.3333333333333335,
          2.083333333333333,
          1.257861635220126,
          0.847457627118644,
          1.910828025477707,
          2.3622047244094486,
          0.8403361344537815,
          4.395604395604396
         ],
         "yaxis": "y"
        },
        {
         "customdata": [
          [
           28,
           12698
          ],
          [
           37,
           13248
          ],
          [
           20,
           13752
          ],
          [
           32,
           11019
          ],
          [
           8,
           6455
          ],
          [
           16,
           4903
          ],
          [
           56,
           9502
          ],
          [
           41,
           15057
          ],
          [
           60,
           16198
          ],
          [
           63,
           16567
          ],
          [
           91,
           11845
          ],
          [
           50,
           12153
          ],
          [
           1,
           264
          ],
          [
           1,
           6187
          ],
          [
           16,
           7267
          ],
          [
           32,
           14226
          ],
          [
           21,
           11367
          ],
          [
           23,
           11195
          ],
          [
           20,
           11676
          ],
          [
           11,
           10652
          ],
          [
           22,
           4178
          ],
          [
           15,
           15254
          ],
          [
           11,
           15673
          ],
          [
           24,
           12109
          ],
          [
           23,
           13816
          ],
          [
           10,
           14139
          ],
          [
           43,
           17622
          ],
          [
           33,
           17356
          ],
          [
           38,
           17292
          ],
          [
           24,
           17727
          ],
          [
           15,
           14225
          ],
          [
           32,
           17586
          ],
          [
           11,
           17793
          ],
          [
           6,
           16248
          ],
          [
           18,
           13059
          ],
          [
           8,
           14156
          ],
          [
           4,
           13497
          ],
          [
           9,
           13047
          ],
          [
           8,
           12402
          ],
          [
           10,
           14272
          ],
          [
           7,
           15060
          ],
          [
           12,
           15186
          ],
          [
           27,
           11893
          ],
          [
           12,
           11116
          ],
          [
           11,
           9253
          ],
          [
           25,
           13341
          ],
          [
           13,
           10689
          ],
          [
           35,
           15505
          ],
          [
           15,
           13627
          ],
          [
           8,
           11458
          ],
          [
           18,
           11360
          ],
          [
           11,
           14686
          ],
          [
           9,
           15507
          ],
          [
           22,
           14363
          ],
          [
           15,
           12203
          ],
          [
           32,
           17008
          ],
          [
           9,
           13948
          ],
          [
           26,
           12352
          ],
          [
           3,
           5096
          ]
         ],
         "hovertemplate": "Gender minority percentages: %{y}<br>Gender minority counts: %{customdata[0]}<br>Total counts: %{customdata[1]}",
         "legendgroup": "The Daily Telegraph",
         "line": {
          "color": "rgb(180, 151, 231)",
          "dash": "solid"
         },
         "mode": "lines",
         "name": "The Daily Telegraph",
         "orientation": "v",
         "showlegend": true,
         "type": "scatter",
         "x": [
          "2015-01",
          "2015-02",
          "2015-03",
          "2015-04",
          "2015-05",
          "2015-06",
          "2015-07",
          "2015-08",
          "2015-09",
          "2015-10",
          "2015-11",
          "2015-12",
          "2016-01",
          "2016-02",
          "2016-04",
          "2016-05",
          "2016-07",
          "2016-08",
          "2016-09",
          "2016-12",
          "2017-02",
          "2017-03",
          "2017-04",
          "2017-05",
          "2017-06",
          "2017-07",
          "2017-08",
          "2017-09",
          "2017-10",
          "2017-11",
          "2017-12",
          "2018-01",
          "2018-02",
          "2018-03",
          "2018-04",
          "2018-05",
          "2018-06",
          "2018-07",
          "2018-08",
          "2018-09",
          "2018-10",
          "2018-11",
          "2018-12",
          "2019-01",
          "2019-02",
          "2019-03",
          "2019-04",
          "2019-05",
          "2019-06",
          "2019-07",
          "2019-08",
          "2019-09",
          "2019-10",
          "2019-11",
          "2019-12",
          "2020-01",
          "2020-02",
          "2020-03",
          "2020-04"
         ],
         "xaxis": "x",
         "y": [
          0.2205071664829107,
          0.27928743961352653,
          0.14543339150668994,
          0.29040747799255834,
          0.12393493415956622,
          0.3263308178666123,
          0.5893496106082929,
          0.27229859865843126,
          0.3704161007531794,
          0.3802740387517354,
          0.7682566483748418,
          0.41142104830083104,
          0.3787878787878788,
          0.016162922256343946,
          0.22017338654190177,
          0.2249402502460284,
          0.18474531538664557,
          0.2054488610987048,
          0.17129153819801302,
          0.10326699211415696,
          0.5265677357587363,
          0.09833486298675756,
          0.0701843935430358,
          0.19819968618383024,
          0.16647365373480022,
          0.07072635971426551,
          0.24401316536148,
          0.19013597603134363,
          0.21975479990747168,
          0.13538669825689625,
          0.1054481546572935,
          0.18196292505402023,
          0.06182206485696622,
          0.03692762186115214,
          0.13783597518952445,
          0.05651313930488839,
          0.02963621545528636,
          0.06898137502874224,
          0.06450572488308337,
          0.07006726457399103,
          0.04648074369189907,
          0.07902015013828526,
          0.22702430000840831,
          0.10795250089960418,
          0.11888036312547282,
          0.1873922494565625,
          0.12162035737674246,
          0.2257336343115124,
          0.11007558523519483,
          0.0698202129516495,
          0.15845070422535212,
          0.07490126651232466,
          0.05803830528148578,
          0.15317134303418506,
          0.12292059329673032,
          0.18814675446848542,
          0.06452537998279323,
          0.2104922279792746,
          0.05886970172684458
         ],
         "yaxis": "y"
        },
        {
         "customdata": [
          [
           47,
           18061
          ],
          [
           87,
           17446
          ],
          [
           44,
           19986
          ],
          [
           72,
           17646
          ],
          [
           31,
           15379
          ],
          [
           71,
           15477
          ],
          [
           74,
           14002
          ],
          [
           90,
           18948
          ],
          [
           51,
           21989
          ],
          [
           61,
           21661
          ],
          [
           67,
           14075
          ],
          [
           67,
           14743
          ],
          [
           2,
           751
          ],
          [
           27,
           7549
          ],
          [
           3,
           624
          ],
          [
           6,
           719
          ],
          [
           6,
           879
          ],
          [
           1,
           525
          ],
          [
           1,
           894
          ],
          [
           1,
           525
          ],
          [
           3,
           2366
          ],
          [
           9,
           4883
          ],
          [
           55,
           4416
          ],
          [
           6,
           3219
          ],
          [
           1,
           2364
          ],
          [
           3,
           1302
          ],
          [
           3,
           1779
          ],
          [
           12,
           1914
          ],
          [
           11,
           2239
          ],
          [
           2,
           2333
          ],
          [
           29,
           2538
          ],
          [
           11,
           6264
          ],
          [
           24,
           2164
          ],
          [
           4,
           1322
          ],
          [
           3,
           2103
          ],
          [
           6,
           2467
          ],
          [
           10,
           2354
          ],
          [
           10,
           2445
          ],
          [
           8,
           2013
          ],
          [
           5,
           1787
          ],
          [
           11,
           2236
          ],
          [
           2,
           2680
          ],
          [
           4,
           2542
          ],
          [
           38,
           2865
          ],
          [
           2,
           2279
          ]
         ],
         "hovertemplate": "Gender minority percentages: %{y}<br>Gender minority counts: %{customdata[0]}<br>Total counts: %{customdata[1]}",
         "legendgroup": "The Guardian",
         "line": {
          "color": "rgb(179, 179, 179)",
          "dash": "solid"
         },
         "mode": "lines",
         "name": "The Guardian",
         "orientation": "v",
         "showlegend": true,
         "type": "scatter",
         "x": [
          "2015-01",
          "2015-02",
          "2015-03",
          "2015-04",
          "2015-05",
          "2015-06",
          "2015-07",
          "2015-08",
          "2015-09",
          "2015-10",
          "2015-11",
          "2015-12",
          "2016-01",
          "2016-02",
          "2016-03",
          "2016-04",
          "2016-06",
          "2016-10",
          "2016-11",
          "2017-02",
          "2017-06",
          "2017-08",
          "2017-09",
          "2017-10",
          "2017-11",
          "2018-01",
          "2018-02",
          "2018-04",
          "2018-05",
          "2018-06",
          "2018-08",
          "2018-09",
          "2018-10",
          "2018-12",
          "2019-03",
          "2019-04",
          "2019-05",
          "2019-06",
          "2019-07",
          "2019-08",
          "2019-09",
          "2019-10",
          "2020-01",
          "2020-02",
          "2020-03"
         ],
         "xaxis": "x",
         "y": [
          0.26022922318808483,
          0.4986816462226299,
          0.22015410787551287,
          0.40802448146888814,
          0.20157357435463943,
          0.45874523486463786,
          0.5284959291529782,
          0.4749841671944269,
          0.23193414889262814,
          0.28161211393749136,
          0.4760213143872114,
          0.45445296072712477,
          0.2663115845539281,
          0.3576632666578355,
          0.4807692307692308,
          0.8344923504867872,
          0.6825938566552902,
          0.19047619047619047,
          0.11185682326621924,
          0.19047619047619047,
          0.12679628064243448,
          0.18431292238378047,
          1.2454710144927537,
          0.1863932898415657,
          0.04230118443316413,
          0.2304147465437788,
          0.16863406408094433,
          0.6269592476489028,
          0.49129075480125056,
          0.08572653236176596,
          1.1426319936958234,
          0.1756066411238825,
          1.1090573012939002,
          0.30257186081694404,
          0.14265335235378032,
          0.24321037697608433,
          0.4248088360237893,
          0.408997955010225,
          0.39741679085941384,
          0.27979854504756574,
          0.4919499105545617,
          0.0746268656716418,
          0.15735641227380015,
          1.3263525305410122,
          0.08775778850372971
         ],
         "yaxis": "y"
        },
        {
         "customdata": [
          [
           1,
           89
          ],
          [
           2,
           81
          ],
          [
           2,
           60
          ],
          [
           5,
           61
          ],
          [
           1,
           96
          ],
          [
           4,
           131
          ],
          [
           1,
           134
          ],
          [
           3,
           108
          ],
          [
           1,
           111
          ],
          [
           1,
           113
          ],
          [
           27,
           5625
          ],
          [
           31,
           6404
          ],
          [
           22,
           6618
          ],
          [
           1,
           130
          ],
          [
           9,
           8486
          ],
          [
           9,
           3724
          ],
          [
           15,
           5179
          ],
          [
           13,
           3215
          ],
          [
           23,
           5169
          ],
          [
           11,
           2559
          ],
          [
           18,
           4090
          ],
          [
           27,
           8227
          ],
          [
           84,
           7575
          ],
          [
           78,
           7757
          ],
          [
           41,
           4043
          ],
          [
           3,
           866
          ],
          [
           10,
           1145
          ],
          [
           21,
           4782
          ],
          [
           42,
           6134
          ],
          [
           21,
           4564
          ],
          [
           19,
           5208
          ],
          [
           17,
           4467
          ],
          [
           13,
           4542
          ],
          [
           80,
           7000
          ],
          [
           40,
           7362
          ],
          [
           18,
           7565
          ],
          [
           15,
           7888
          ],
          [
           15,
           6693
          ],
          [
           11,
           7272
          ],
          [
           20,
           6492
          ],
          [
           22,
           6915
          ],
          [
           15,
           4587
          ],
          [
           18,
           6101
          ],
          [
           19,
           6503
          ],
          [
           14,
           4946
          ],
          [
           59,
           5043
          ],
          [
           33,
           5632
          ],
          [
           19,
           6463
          ],
          [
           52,
           5596
          ],
          [
           39,
           5150
          ],
          [
           14,
           4987
          ],
          [
           25,
           4487
          ],
          [
           16,
           3733
          ],
          [
           5,
           1662
          ]
         ],
         "hovertemplate": "Gender minority percentages: %{y}<br>Gender minority counts: %{customdata[0]}<br>Total counts: %{customdata[1]}",
         "legendgroup": "The Sun",
         "line": {
          "color": "rgb(102, 197, 204)",
          "dash": "solid"
         },
         "mode": "lines",
         "name": "The Sun",
         "orientation": "v",
         "showlegend": true,
         "type": "scatter",
         "x": [
          "2015-01",
          "2015-03",
          "2015-04",
          "2015-06",
          "2015-07",
          "2015-08",
          "2015-09",
          "2015-11",
          "2016-02",
          "2016-04",
          "2016-07",
          "2016-08",
          "2016-09",
          "2016-11",
          "2016-12",
          "2017-02",
          "2017-03",
          "2017-04",
          "2017-05",
          "2017-06",
          "2017-07",
          "2017-08",
          "2017-09",
          "2017-10",
          "2017-11",
          "2017-12",
          "2018-01",
          "2018-02",
          "2018-03",
          "2018-04",
          "2018-05",
          "2018-06",
          "2018-07",
          "2018-08",
          "2018-09",
          "2018-10",
          "2018-11",
          "2018-12",
          "2019-01",
          "2019-02",
          "2019-03",
          "2019-04",
          "2019-05",
          "2019-06",
          "2019-07",
          "2019-08",
          "2019-09",
          "2019-10",
          "2019-11",
          "2019-12",
          "2020-01",
          "2020-02",
          "2020-03",
          "2020-04"
         ],
         "xaxis": "x",
         "y": [
          1.1235955056179776,
          2.4691358024691357,
          3.3333333333333335,
          8.19672131147541,
          1.0416666666666665,
          3.0534351145038165,
          0.7462686567164178,
          2.7777777777777777,
          0.9009009009009009,
          0.8849557522123894,
          0.48,
          0.4840724547158027,
          0.3324267150196434,
          0.7692307692307693,
          0.10605703511666273,
          0.24167561761546724,
          0.28963120293492955,
          0.4043545878693624,
          0.44496034049139094,
          0.4298554122704181,
          0.4400977995110024,
          0.3281876747295491,
          1.1089108910891088,
          1.0055433801727471,
          1.0140984417511747,
          0.3464203233256351,
          0.8733624454148471,
          0.43914680050188204,
          0.6847081838930551,
          0.4601226993865031,
          0.36482334869431643,
          0.3805686142825162,
          0.28621752531924266,
          1.1428571428571428,
          0.54333061668025,
          0.23793787177792464,
          0.19016227180527384,
          0.22411474675033619,
          0.15126512651265125,
          0.3080714725816389,
          0.31814895155459144,
          0.3270111183780248,
          0.2950336010490084,
          0.29217284330309085,
          0.28305701577031944,
          1.1699385286535793,
          0.5859375,
          0.2939811233173449,
          0.9292351679771265,
          0.7572815533980582,
          0.28072989773410867,
          0.5571651437486072,
          0.42860969729440135,
          0.3008423586040915
         ],
         "yaxis": "y"
        },
        {
         "customdata": [
          [
           2,
           136
          ],
          [
           2,
           164
          ],
          [
           1,
           258
          ],
          [
           2,
           247
          ],
          [
           1,
           758
          ],
          [
           4,
           751
          ],
          [
           3,
           841
          ],
          [
           2,
           108
          ],
          [
           1,
           306
          ],
          [
           2,
           448
          ],
          [
           1,
           424
          ],
          [
           1,
           349
          ],
          [
           3,
           565
          ],
          [
           1,
           509
          ],
          [
           1,
           391
          ],
          [
           1,
           589
          ],
          [
           1,
           546
          ],
          [
           3,
           466
          ],
          [
           2,
           351
          ],
          [
           2,
           754
          ]
         ],
         "hovertemplate": "Gender minority percentages: %{y}<br>Gender minority counts: %{customdata[0]}<br>Total counts: %{customdata[1]}",
         "legendgroup": "The Times",
         "line": {
          "color": "rgb(246, 207, 113)",
          "dash": "solid"
         },
         "mode": "lines",
         "name": "The Times",
         "orientation": "v",
         "showlegend": true,
         "type": "scatter",
         "x": [
          "2015-04",
          "2015-08",
          "2015-09",
          "2015-12",
          "2016-07",
          "2016-08",
          "2016-09",
          "2017-09",
          "2018-08",
          "2018-10",
          "2018-12",
          "2019-04",
          "2019-05",
          "2019-06",
          "2019-08",
          "2019-09",
          "2019-10",
          "2019-11",
          "2019-12",
          "2020-02"
         ],
         "xaxis": "x",
         "y": [
          1.4705882352941175,
          1.2195121951219512,
          0.3875968992248062,
          0.8097165991902834,
          0.13192612137203166,
          0.5326231691078562,
          0.356718192627824,
          1.8518518518518516,
          0.32679738562091504,
          0.4464285714285714,
          0.2358490566037736,
          0.28653295128939826,
          0.5309734513274336,
          0.19646365422396855,
          0.2557544757033248,
          0.1697792869269949,
          0.18315018315018314,
          0.6437768240343348,
          0.5698005698005698,
          0.2652519893899204
         ],
         "yaxis": "y"
        },
        {
         "customdata": [
          [
           1,
           26
          ],
          [
           1,
           45
          ],
          [
           1,
           72
          ],
          [
           2,
           1002
          ],
          [
           5,
           1659
          ],
          [
           3,
           1969
          ],
          [
           11,
           2003
          ],
          [
           18,
           1997
          ],
          [
           20,
           2469
          ],
          [
           7,
           2393
          ],
          [
           20,
           2861
          ],
          [
           13,
           2600
          ],
          [
           7,
           2173
          ],
          [
           10,
           2984
          ],
          [
           20,
           2670
          ],
          [
           18,
           2993
          ],
          [
           22,
           2656
          ],
          [
           11,
           3214
          ],
          [
           6,
           3079
          ],
          [
           4,
           3236
          ],
          [
           26,
           2953
          ],
          [
           5,
           3174
          ],
          [
           10,
           3428
          ],
          [
           11,
           3457
          ],
          [
           23,
           2814
          ],
          [
           7,
           3394
          ],
          [
           5,
           3033
          ],
          [
           5,
           2871
          ],
          [
           5,
           1818
          ],
          [
           22,
           3449
          ],
          [
           15,
           3075
          ],
          [
           9,
           2484
          ],
          [
           26,
           2547
          ],
          [
           16,
           2175
          ],
          [
           7,
           2809
          ],
          [
           1,
           2742
          ],
          [
           1,
           2118
          ],
          [
           6,
           2309
          ],
          [
           14,
           2019
          ],
          [
           1,
           1447
          ],
          [
           1,
           498
          ]
         ],
         "hovertemplate": "Gender minority percentages: %{y}<br>Gender minority counts: %{customdata[0]}<br>Total counts: %{customdata[1]}",
         "legendgroup": "i",
         "line": {
          "color": "rgb(248, 156, 116)",
          "dash": "solid"
         },
         "mode": "lines",
         "name": "i",
         "orientation": "v",
         "showlegend": true,
         "type": "scatter",
         "x": [
          "2016-04",
          "2016-05",
          "2016-08",
          "2017-03",
          "2017-04",
          "2017-05",
          "2017-06",
          "2017-07",
          "2017-08",
          "2017-09",
          "2017-10",
          "2017-11",
          "2017-12",
          "2018-01",
          "2018-02",
          "2018-03",
          "2018-04",
          "2018-05",
          "2018-06",
          "2018-07",
          "2018-08",
          "2018-09",
          "2018-10",
          "2018-11",
          "2018-12",
          "2019-01",
          "2019-02",
          "2019-03",
          "2019-04",
          "2019-05",
          "2019-06",
          "2019-07",
          "2019-08",
          "2019-09",
          "2019-10",
          "2019-11",
          "2019-12",
          "2020-01",
          "2020-02",
          "2020-03",
          "2020-04"
         ],
         "xaxis": "x",
         "y": [
          3.8461538461538463,
          2.2222222222222223,
          1.3888888888888888,
          0.19960079840319359,
          0.3013863773357444,
          0.15236160487557138,
          0.5491762356465303,
          0.9013520280420632,
          0.8100445524503848,
          0.29251984956122024,
          0.6990562740300594,
          0.5,
          0.32213529682466635,
          0.3351206434316354,
          0.7490636704119851,
          0.6014032743067156,
          0.8283132530120483,
          0.3422526446795271,
          0.1948684637869438,
          0.12360939431396785,
          0.8804605485946495,
          0.1575299306868305,
          0.29171528588098017,
          0.3181949667341626,
          0.8173418621179815,
          0.20624631703005303,
          0.16485328058028356,
          0.17415534656913967,
          0.27502750275027504,
          0.6378660481298928,
          0.4878048780487805,
          0.36231884057971014,
          1.0208087946603848,
          0.735632183908046,
          0.2491990032039872,
          0.03646973012399708,
          0.047214353163361665,
          0.25985275010827197,
          0.6934125804853888,
          0.0691085003455425,
          0.2008032128514056
         ],
         "yaxis": "y"
        }
       ],
       "layout": {
        "barmode": "stack",
        "legend": {
         "title": {
          "text": "Newspaper"
         },
         "tracegroupgap": 0
        },
        "margin": {
         "t": 60
        },
        "template": {
         "data": {
          "bar": [
           {
            "error_x": {
             "color": "#2a3f5f"
            },
            "error_y": {
             "color": "#2a3f5f"
            },
            "marker": {
             "line": {
              "color": "#E5ECF6",
              "width": 0.5
             },
             "pattern": {
              "fillmode": "overlay",
              "size": 10,
              "solidity": 0.2
             }
            },
            "type": "bar"
           }
          ],
          "barpolar": [
           {
            "marker": {
             "line": {
              "color": "#E5ECF6",
              "width": 0.5
             },
             "pattern": {
              "fillmode": "overlay",
              "size": 10,
              "solidity": 0.2
             }
            },
            "type": "barpolar"
           }
          ],
          "carpet": [
           {
            "aaxis": {
             "endlinecolor": "#2a3f5f",
             "gridcolor": "white",
             "linecolor": "white",
             "minorgridcolor": "white",
             "startlinecolor": "#2a3f5f"
            },
            "baxis": {
             "endlinecolor": "#2a3f5f",
             "gridcolor": "white",
             "linecolor": "white",
             "minorgridcolor": "white",
             "startlinecolor": "#2a3f5f"
            },
            "type": "carpet"
           }
          ],
          "choropleth": [
           {
            "colorbar": {
             "outlinewidth": 0,
             "ticks": ""
            },
            "type": "choropleth"
           }
          ],
          "contour": [
           {
            "colorbar": {
             "outlinewidth": 0,
             "ticks": ""
            },
            "colorscale": [
             [
              0,
              "#0d0887"
             ],
             [
              0.1111111111111111,
              "#46039f"
             ],
             [
              0.2222222222222222,
              "#7201a8"
             ],
             [
              0.3333333333333333,
              "#9c179e"
             ],
             [
              0.4444444444444444,
              "#bd3786"
             ],
             [
              0.5555555555555556,
              "#d8576b"
             ],
             [
              0.6666666666666666,
              "#ed7953"
             ],
             [
              0.7777777777777778,
              "#fb9f3a"
             ],
             [
              0.8888888888888888,
              "#fdca26"
             ],
             [
              1,
              "#f0f921"
             ]
            ],
            "type": "contour"
           }
          ],
          "contourcarpet": [
           {
            "colorbar": {
             "outlinewidth": 0,
             "ticks": ""
            },
            "type": "contourcarpet"
           }
          ],
          "heatmap": [
           {
            "colorbar": {
             "outlinewidth": 0,
             "ticks": ""
            },
            "colorscale": [
             [
              0,
              "#0d0887"
             ],
             [
              0.1111111111111111,
              "#46039f"
             ],
             [
              0.2222222222222222,
              "#7201a8"
             ],
             [
              0.3333333333333333,
              "#9c179e"
             ],
             [
              0.4444444444444444,
              "#bd3786"
             ],
             [
              0.5555555555555556,
              "#d8576b"
             ],
             [
              0.6666666666666666,
              "#ed7953"
             ],
             [
              0.7777777777777778,
              "#fb9f3a"
             ],
             [
              0.8888888888888888,
              "#fdca26"
             ],
             [
              1,
              "#f0f921"
             ]
            ],
            "type": "heatmap"
           }
          ],
          "heatmapgl": [
           {
            "colorbar": {
             "outlinewidth": 0,
             "ticks": ""
            },
            "colorscale": [
             [
              0,
              "#0d0887"
             ],
             [
              0.1111111111111111,
              "#46039f"
             ],
             [
              0.2222222222222222,
              "#7201a8"
             ],
             [
              0.3333333333333333,
              "#9c179e"
             ],
             [
              0.4444444444444444,
              "#bd3786"
             ],
             [
              0.5555555555555556,
              "#d8576b"
             ],
             [
              0.6666666666666666,
              "#ed7953"
             ],
             [
              0.7777777777777778,
              "#fb9f3a"
             ],
             [
              0.8888888888888888,
              "#fdca26"
             ],
             [
              1,
              "#f0f921"
             ]
            ],
            "type": "heatmapgl"
           }
          ],
          "histogram": [
           {
            "marker": {
             "pattern": {
              "fillmode": "overlay",
              "size": 10,
              "solidity": 0.2
             }
            },
            "type": "histogram"
           }
          ],
          "histogram2d": [
           {
            "colorbar": {
             "outlinewidth": 0,
             "ticks": ""
            },
            "colorscale": [
             [
              0,
              "#0d0887"
             ],
             [
              0.1111111111111111,
              "#46039f"
             ],
             [
              0.2222222222222222,
              "#7201a8"
             ],
             [
              0.3333333333333333,
              "#9c179e"
             ],
             [
              0.4444444444444444,
              "#bd3786"
             ],
             [
              0.5555555555555556,
              "#d8576b"
             ],
             [
              0.6666666666666666,
              "#ed7953"
             ],
             [
              0.7777777777777778,
              "#fb9f3a"
             ],
             [
              0.8888888888888888,
              "#fdca26"
             ],
             [
              1,
              "#f0f921"
             ]
            ],
            "type": "histogram2d"
           }
          ],
          "histogram2dcontour": [
           {
            "colorbar": {
             "outlinewidth": 0,
             "ticks": ""
            },
            "colorscale": [
             [
              0,
              "#0d0887"
             ],
             [
              0.1111111111111111,
              "#46039f"
             ],
             [
              0.2222222222222222,
              "#7201a8"
             ],
             [
              0.3333333333333333,
              "#9c179e"
             ],
             [
              0.4444444444444444,
              "#bd3786"
             ],
             [
              0.5555555555555556,
              "#d8576b"
             ],
             [
              0.6666666666666666,
              "#ed7953"
             ],
             [
              0.7777777777777778,
              "#fb9f3a"
             ],
             [
              0.8888888888888888,
              "#fdca26"
             ],
             [
              1,
              "#f0f921"
             ]
            ],
            "type": "histogram2dcontour"
           }
          ],
          "mesh3d": [
           {
            "colorbar": {
             "outlinewidth": 0,
             "ticks": ""
            },
            "type": "mesh3d"
           }
          ],
          "parcoords": [
           {
            "line": {
             "colorbar": {
              "outlinewidth": 0,
              "ticks": ""
             }
            },
            "type": "parcoords"
           }
          ],
          "pie": [
           {
            "automargin": true,
            "type": "pie"
           }
          ],
          "scatter": [
           {
            "marker": {
             "colorbar": {
              "outlinewidth": 0,
              "ticks": ""
             }
            },
            "type": "scatter"
           }
          ],
          "scatter3d": [
           {
            "line": {
             "colorbar": {
              "outlinewidth": 0,
              "ticks": ""
             }
            },
            "marker": {
             "colorbar": {
              "outlinewidth": 0,
              "ticks": ""
             }
            },
            "type": "scatter3d"
           }
          ],
          "scattercarpet": [
           {
            "marker": {
             "colorbar": {
              "outlinewidth": 0,
              "ticks": ""
             }
            },
            "type": "scattercarpet"
           }
          ],
          "scattergeo": [
           {
            "marker": {
             "colorbar": {
              "outlinewidth": 0,
              "ticks": ""
             }
            },
            "type": "scattergeo"
           }
          ],
          "scattergl": [
           {
            "marker": {
             "colorbar": {
              "outlinewidth": 0,
              "ticks": ""
             }
            },
            "type": "scattergl"
           }
          ],
          "scattermapbox": [
           {
            "marker": {
             "colorbar": {
              "outlinewidth": 0,
              "ticks": ""
             }
            },
            "type": "scattermapbox"
           }
          ],
          "scatterpolar": [
           {
            "marker": {
             "colorbar": {
              "outlinewidth": 0,
              "ticks": ""
             }
            },
            "type": "scatterpolar"
           }
          ],
          "scatterpolargl": [
           {
            "marker": {
             "colorbar": {
              "outlinewidth": 0,
              "ticks": ""
             }
            },
            "type": "scatterpolargl"
           }
          ],
          "scatterternary": [
           {
            "marker": {
             "colorbar": {
              "outlinewidth": 0,
              "ticks": ""
             }
            },
            "type": "scatterternary"
           }
          ],
          "surface": [
           {
            "colorbar": {
             "outlinewidth": 0,
             "ticks": ""
            },
            "colorscale": [
             [
              0,
              "#0d0887"
             ],
             [
              0.1111111111111111,
              "#46039f"
             ],
             [
              0.2222222222222222,
              "#7201a8"
             ],
             [
              0.3333333333333333,
              "#9c179e"
             ],
             [
              0.4444444444444444,
              "#bd3786"
             ],
             [
              0.5555555555555556,
              "#d8576b"
             ],
             [
              0.6666666666666666,
              "#ed7953"
             ],
             [
              0.7777777777777778,
              "#fb9f3a"
             ],
             [
              0.8888888888888888,
              "#fdca26"
             ],
             [
              1,
              "#f0f921"
             ]
            ],
            "type": "surface"
           }
          ],
          "table": [
           {
            "cells": {
             "fill": {
              "color": "#EBF0F8"
             },
             "line": {
              "color": "white"
             }
            },
            "header": {
             "fill": {
              "color": "#C8D4E3"
             },
             "line": {
              "color": "white"
             }
            },
            "type": "table"
           }
          ]
         },
         "layout": {
          "annotationdefaults": {
           "arrowcolor": "#2a3f5f",
           "arrowhead": 0,
           "arrowwidth": 1
          },
          "autotypenumbers": "strict",
          "coloraxis": {
           "colorbar": {
            "outlinewidth": 0,
            "ticks": ""
           }
          },
          "colorscale": {
           "diverging": [
            [
             0,
             "#8e0152"
            ],
            [
             0.1,
             "#c51b7d"
            ],
            [
             0.2,
             "#de77ae"
            ],
            [
             0.3,
             "#f1b6da"
            ],
            [
             0.4,
             "#fde0ef"
            ],
            [
             0.5,
             "#f7f7f7"
            ],
            [
             0.6,
             "#e6f5d0"
            ],
            [
             0.7,
             "#b8e186"
            ],
            [
             0.8,
             "#7fbc41"
            ],
            [
             0.9,
             "#4d9221"
            ],
            [
             1,
             "#276419"
            ]
           ],
           "sequential": [
            [
             0,
             "#0d0887"
            ],
            [
             0.1111111111111111,
             "#46039f"
            ],
            [
             0.2222222222222222,
             "#7201a8"
            ],
            [
             0.3333333333333333,
             "#9c179e"
            ],
            [
             0.4444444444444444,
             "#bd3786"
            ],
            [
             0.5555555555555556,
             "#d8576b"
            ],
            [
             0.6666666666666666,
             "#ed7953"
            ],
            [
             0.7777777777777778,
             "#fb9f3a"
            ],
            [
             0.8888888888888888,
             "#fdca26"
            ],
            [
             1,
             "#f0f921"
            ]
           ],
           "sequentialminus": [
            [
             0,
             "#0d0887"
            ],
            [
             0.1111111111111111,
             "#46039f"
            ],
            [
             0.2222222222222222,
             "#7201a8"
            ],
            [
             0.3333333333333333,
             "#9c179e"
            ],
            [
             0.4444444444444444,
             "#bd3786"
            ],
            [
             0.5555555555555556,
             "#d8576b"
            ],
            [
             0.6666666666666666,
             "#ed7953"
            ],
            [
             0.7777777777777778,
             "#fb9f3a"
            ],
            [
             0.8888888888888888,
             "#fdca26"
            ],
            [
             1,
             "#f0f921"
            ]
           ]
          },
          "colorway": [
           "#636efa",
           "#EF553B",
           "#00cc96",
           "#ab63fa",
           "#FFA15A",
           "#19d3f3",
           "#FF6692",
           "#B6E880",
           "#FF97FF",
           "#FECB52"
          ],
          "font": {
           "color": "#2a3f5f"
          },
          "geo": {
           "bgcolor": "white",
           "lakecolor": "white",
           "landcolor": "#E5ECF6",
           "showlakes": true,
           "showland": true,
           "subunitcolor": "white"
          },
          "hoverlabel": {
           "align": "left"
          },
          "hovermode": "closest",
          "mapbox": {
           "style": "light"
          },
          "paper_bgcolor": "white",
          "plot_bgcolor": "#E5ECF6",
          "polar": {
           "angularaxis": {
            "gridcolor": "white",
            "linecolor": "white",
            "ticks": ""
           },
           "bgcolor": "#E5ECF6",
           "radialaxis": {
            "gridcolor": "white",
            "linecolor": "white",
            "ticks": ""
           }
          },
          "scene": {
           "xaxis": {
            "backgroundcolor": "#E5ECF6",
            "gridcolor": "white",
            "gridwidth": 2,
            "linecolor": "white",
            "showbackground": true,
            "ticks": "",
            "zerolinecolor": "white"
           },
           "yaxis": {
            "backgroundcolor": "#E5ECF6",
            "gridcolor": "white",
            "gridwidth": 2,
            "linecolor": "white",
            "showbackground": true,
            "ticks": "",
            "zerolinecolor": "white"
           },
           "zaxis": {
            "backgroundcolor": "#E5ECF6",
            "gridcolor": "white",
            "gridwidth": 2,
            "linecolor": "white",
            "showbackground": true,
            "ticks": "",
            "zerolinecolor": "white"
           }
          },
          "shapedefaults": {
           "line": {
            "color": "#2a3f5f"
           }
          },
          "ternary": {
           "aaxis": {
            "gridcolor": "white",
            "linecolor": "white",
            "ticks": ""
           },
           "baxis": {
            "gridcolor": "white",
            "linecolor": "white",
            "ticks": ""
           },
           "bgcolor": "#E5ECF6",
           "caxis": {
            "gridcolor": "white",
            "linecolor": "white",
            "ticks": ""
           }
          },
          "title": {
           "x": 0.05
          },
          "xaxis": {
           "automargin": true,
           "gridcolor": "white",
           "linecolor": "white",
           "ticks": "",
           "title": {
            "standoff": 15
           },
           "zerolinecolor": "white",
           "zerolinewidth": 2
          },
          "yaxis": {
           "automargin": true,
           "gridcolor": "white",
           "linecolor": "white",
           "ticks": "",
           "title": {
            "standoff": 15
           },
           "zerolinecolor": "white",
           "zerolinewidth": 2
          }
         }
        },
        "title": {
         "text": "Percentage of gender minority quotes in UK's newspaper, 2015-2020"
        },
        "xaxis": {
         "anchor": "y",
         "domain": [
          0,
          1
         ],
         "title": {
          "text": "Month"
         }
        },
        "yaxis": {
         "anchor": "x",
         "domain": [
          0,
          1
         ],
         "title": {
          "text": "Percentage of gender minorities"
         }
        }
       }
      },
      "text/html": [
       "<div>                            <div id=\"0d8720ea-4f51-46fa-8ad2-04a239c5ff76\" class=\"plotly-graph-div\" style=\"height:525px; width:100%;\"></div>            <script type=\"text/javascript\">                require([\"plotly\"], function(Plotly) {                    window.PLOTLYENV=window.PLOTLYENV || {};                                    if (document.getElementById(\"0d8720ea-4f51-46fa-8ad2-04a239c5ff76\")) {                    Plotly.newPlot(                        \"0d8720ea-4f51-46fa-8ad2-04a239c5ff76\",                        [{\"customdata\":[[1.0,591.0],[1.0,453.0],[1.0,1513.0],[4.0,1510.0],[2.0,1264.0],[1.0,1281.0],[1.0,1291.0],[1.0,1723.0],[1.0,1684.0],[1.0,749.0],[1.0,1108.0],[1.0,787.0],[2.0,962.0],[1.0,759.0]],\"hovertemplate\":\"Gender minority percentages: %{y}<br>Gender minority counts: %{customdata[0]}<br>Total counts: %{customdata[1]}\",\"legendgroup\":\"City A.M.\",\"line\":{\"color\":\"rgb(102, 197, 204)\",\"dash\":\"solid\"},\"mode\":\"lines\",\"name\":\"City A.M.\",\"orientation\":\"v\",\"showlegend\":true,\"type\":\"scatter\",\"x\":[\"2015-01\",\"2015-11\",\"2016-07\",\"2017-03\",\"2017-05\",\"2017-06\",\"2017-08\",\"2017-10\",\"2017-11\",\"2018-08\",\"2018-10\",\"2018-12\",\"2019-02\",\"2019-04\"],\"xaxis\":\"x\",\"y\":[0.1692047377326565,0.22075055187637968,0.06609385327164573,0.26490066225165565,0.15822784810126583,0.078064012490242,0.0774593338497289,0.05803830528148578,0.05938242280285036,0.13351134846461948,0.09025270758122744,0.12706480304955528,0.2079002079002079,0.13175230566534915],\"yaxis\":\"y\"},{\"customdata\":[[5.0,2975.0],[14.0,2837.0],[6.0,3100.0],[2.0,2370.0],[2.0,3534.0],[4.0,3801.0],[26.0,3150.0],[12.0,5733.0],[3.0,7368.0],[27.0,5829.0],[26.0,8028.0],[8.0,3753.0],[10.0,3616.0],[14.0,10250.0],[10.0,8860.0],[21.0,8678.0],[5.0,11139.0],[9.0,10649.0],[5.0,3426.0],[18.0,12202.0],[15.0,14653.0],[29.0,14321.0],[18.0,15465.0],[17.0,12670.0],[10.0,5730.0],[6.0,5924.0],[3.0,5473.0],[10.0,8897.0],[4.0,4580.0],[8.0,7453.0],[8.0,7461.0],[8.0,9415.0],[6.0,16627.0],[8.0,16615.0],[10.0,13182.0],[9.0,8465.0],[7.0,15762.0],[2.0,8435.0],[1.0,1353.0],[3.0,7388.0],[2.0,5045.0],[2.0,2789.0],[5.0,7599.0],[12.0,9614.0],[38.0,20353.0],[12.0,17362.0],[9.0,8823.0],[4.0,6064.0],[12.0,16208.0],[4.0,17603.0],[59.0,18835.0],[30.0,13462.0],[13.0,16522.0],[4.0,10253.0],[2.0,10329.0],[1.0,3777.0]],\"hovertemplate\":\"Gender minority percentages: %{y}<br>Gender minority counts: %{customdata[0]}<br>Total counts: %{customdata[1]}\",\"legendgroup\":\"Daily Express\",\"line\":{\"color\":\"rgb(246, 207, 113)\",\"dash\":\"solid\"},\"mode\":\"lines\",\"name\":\"Daily Express\",\"orientation\":\"v\",\"showlegend\":true,\"type\":\"scatter\",\"x\":[\"2015-01\",\"2015-02\",\"2015-03\",\"2015-04\",\"2015-05\",\"2015-06\",\"2015-07\",\"2015-09\",\"2015-10\",\"2015-11\",\"2015-12\",\"2016-02\",\"2016-04\",\"2016-05\",\"2016-07\",\"2016-08\",\"2016-09\",\"2016-12\",\"2017-02\",\"2017-03\",\"2017-04\",\"2017-05\",\"2017-06\",\"2017-07\",\"2017-08\",\"2017-09\",\"2017-10\",\"2017-11\",\"2017-12\",\"2018-01\",\"2018-03\",\"2018-04\",\"2018-05\",\"2018-06\",\"2018-07\",\"2018-08\",\"2018-09\",\"2018-10\",\"2018-11\",\"2018-12\",\"2019-01\",\"2019-02\",\"2019-03\",\"2019-04\",\"2019-05\",\"2019-06\",\"2019-07\",\"2019-08\",\"2019-09\",\"2019-10\",\"2019-11\",\"2019-12\",\"2020-01\",\"2020-02\",\"2020-03\",\"2020-04\"],\"xaxis\":\"x\",\"y\":[0.16806722689075632,0.4934790271413465,0.1935483870967742,0.08438818565400844,0.056593095642331635,0.10523546435148645,0.8253968253968255,0.20931449502878074,0.04071661237785017,0.46320123520329387,0.32386646736422525,0.21316280309086064,0.27654867256637167,0.13658536585365852,0.1128668171557562,0.2419912422217101,0.04488733279468534,0.0845149779322002,0.14594279042615294,0.1475168005245042,0.1023681157442162,0.202499825431185,0.11639185257032007,0.13417521704814522,0.17452006980802792,0.1012829169480081,0.05481454412570802,0.11239743733842869,0.08733624454148471,0.10733932644572655,0.10722423267658492,0.0849707912904939,0.036085884404883625,0.048149262714414685,0.07586102260658474,0.106320141760189,0.044410607790889484,0.023710729104919975,0.07390983000739099,0.040606388738494856,0.03964321110009911,0.07171029042667623,0.06579813133307014,0.1248179737882255,0.18670466270328698,0.06911646123718465,0.10200612036722204,0.06596306068601583,0.07403751233958539,0.022723399420553313,0.3132466153437749,0.2228495023027782,0.07868296816366058,0.039012971813127864,0.019362958660083262,0.026476039184537992],\"yaxis\":\"y\"},{\"customdata\":[[1.0,1141.0],[6.0,706.0],[9.0,1252.0],[4.0,1236.0],[3.0,1270.0],[1.0,790.0],[2.0,1236.0],[1.0,1158.0],[3.0,884.0],[1.0,1357.0],[1.0,1267.0],[1.0,1253.0],[1.0,1520.0],[3.0,1171.0],[5.0,1204.0],[3.0,1098.0],[9.0,1363.0],[17.0,8382.0],[19.0,5580.0],[22.0,1920.0],[4.0,1245.0],[2.0,1520.0],[2.0,1761.0],[1.0,2518.0],[5.0,2756.0],[4.0,1871.0],[3.0,1128.0],[3.0,1177.0],[5.0,981.0],[1.0,2152.0],[4.0,1849.0],[5.0,1611.0],[1.0,2135.0],[3.0,1426.0],[5.0,1413.0],[3.0,1849.0],[11.0,2634.0],[1.0,2125.0],[1.0,1259.0],[2.0,1964.0],[10.0,2069.0],[5.0,2118.0],[12.0,2099.0],[11.0,1555.0],[3.0,1716.0],[4.0,1611.0],[3.0,1740.0]],\"hovertemplate\":\"Gender minority percentages: %{y}<br>Gender minority counts: %{customdata[0]}<br>Total counts: %{customdata[1]}\",\"legendgroup\":\"Daily Mail\",\"line\":{\"color\":\"rgb(248, 156, 116)\",\"dash\":\"solid\"},\"mode\":\"lines\",\"name\":\"Daily Mail\",\"orientation\":\"v\",\"showlegend\":true,\"type\":\"scatter\",\"x\":[\"2015-03\",\"2015-07\",\"2015-08\",\"2015-09\",\"2015-10\",\"2015-11\",\"2015-12\",\"2016-05\",\"2016-07\",\"2016-08\",\"2016-09\",\"2016-12\",\"2017-03\",\"2017-04\",\"2017-05\",\"2017-06\",\"2017-07\",\"2017-08\",\"2017-09\",\"2017-10\",\"2017-11\",\"2018-01\",\"2018-02\",\"2018-03\",\"2018-04\",\"2018-05\",\"2018-06\",\"2018-07\",\"2018-08\",\"2018-09\",\"2018-11\",\"2018-12\",\"2019-01\",\"2019-02\",\"2019-03\",\"2019-04\",\"2019-05\",\"2019-06\",\"2019-07\",\"2019-08\",\"2019-09\",\"2019-10\",\"2019-11\",\"2019-12\",\"2020-01\",\"2020-02\",\"2020-03\"],\"xaxis\":\"x\",\"y\":[0.0876424189307625,0.84985835694051,0.7188498402555911,0.3236245954692557,0.23622047244094488,0.12658227848101267,0.16181229773462785,0.08635578583765112,0.3393665158371041,0.07369196757553427,0.07892659826361484,0.07980845969672785,0.06578947368421052,0.25619128949615716,0.41528239202657813,0.273224043715847,0.6603081438004402,0.2028155571462658,0.34050179211469533,1.1458333333333333,0.321285140562249,0.13157894736842105,0.1135718341851221,0.03971405877680699,0.18142235123367198,0.2137894174238375,0.26595744680851063,0.2548853016142736,0.509683995922528,0.046468401486988845,0.2163331530557058,0.31036623215394166,0.046838407494145196,0.21037868162692847,0.3538570417551309,0.16224986479177933,0.4176157934700076,0.047058823529411764,0.07942811755361398,0.10183299389002036,0.4833252779120348,0.2360717658168083,0.5717008099094807,0.707395498392283,0.17482517482517482,0.2482929857231533,0.1724137931034483],\"yaxis\":\"y\"},{\"customdata\":[[26.0,2855.0],[39.0,3230.0],[5.0,2469.0],[50.0,2954.0],[47.0,4217.0],[65.0,4169.0],[88.0,3778.0],[95.0,5788.0],[67.0,7199.0],[29.0,7727.0],[77.0,6603.0],[74.0,7796.0],[10.0,3467.0],[21.0,3686.0],[25.0,8390.0],[17.0,8340.0],[30.0,7420.0],[32.0,7130.0],[13.0,7301.0],[9.0,3678.0],[19.0,8987.0],[52.0,6749.0],[58.0,8446.0],[18.0,7764.0],[36.0,8168.0],[26.0,9214.0],[51.0,9496.0],[85.0,10506.0],[29.0,9145.0],[16.0,7926.0],[75.0,9555.0],[16.0,8471.0],[39.0,10047.0],[15.0,8424.0],[25.0,8619.0],[8.0,7848.0],[18.0,8110.0],[67.0,7939.0],[30.0,9202.0],[33.0,10008.0],[21.0,10014.0],[17.0,8460.0],[38.0,9144.0],[23.0,9210.0],[22.0,9677.0],[23.0,8179.0],[26.0,9445.0],[18.0,7635.0],[15.0,5964.0],[56.0,7373.0],[59.0,9036.0],[28.0,9027.0],[150.0,9383.0],[78.0,7356.0],[29.0,7927.0],[30.0,6532.0],[33.0,5461.0],[6.0,2476.0]],\"hovertemplate\":\"Gender minority percentages: %{y}<br>Gender minority counts: %{customdata[0]}<br>Total counts: %{customdata[1]}\",\"legendgroup\":\"Daily Mirror\",\"line\":{\"color\":\"rgb(220, 176, 242)\",\"dash\":\"solid\"},\"mode\":\"lines\",\"name\":\"Daily Mirror\",\"orientation\":\"v\",\"showlegend\":true,\"type\":\"scatter\",\"x\":[\"2015-01\",\"2015-02\",\"2015-03\",\"2015-04\",\"2015-05\",\"2015-06\",\"2015-07\",\"2015-08\",\"2015-09\",\"2015-10\",\"2015-11\",\"2015-12\",\"2016-02\",\"2016-04\",\"2016-05\",\"2016-07\",\"2016-08\",\"2016-09\",\"2016-12\",\"2017-02\",\"2017-03\",\"2017-04\",\"2017-05\",\"2017-06\",\"2017-07\",\"2017-08\",\"2017-09\",\"2017-10\",\"2017-11\",\"2017-12\",\"2018-01\",\"2018-02\",\"2018-03\",\"2018-04\",\"2018-05\",\"2018-06\",\"2018-07\",\"2018-08\",\"2018-09\",\"2018-10\",\"2018-11\",\"2018-12\",\"2019-01\",\"2019-02\",\"2019-03\",\"2019-04\",\"2019-05\",\"2019-06\",\"2019-07\",\"2019-08\",\"2019-09\",\"2019-10\",\"2019-11\",\"2019-12\",\"2020-01\",\"2020-02\",\"2020-03\",\"2020-04\"],\"xaxis\":\"x\",\"y\":[0.9106830122591943,1.2074303405572755,0.2025111381125962,1.6926201760324981,1.1145364002845624,1.5591268889421923,2.3292747485442034,1.6413268832066346,0.9306848173357412,0.3753073637893102,1.1661366045736787,0.9492047203694202,0.2884338044418806,0.5697232772653282,0.29797377830750893,0.2038369304556355,0.40431266846361186,0.44880785413744745,0.1780578003013286,0.24469820554649263,0.21141649048625794,0.7704845162246259,0.6867156050201279,0.23183925811437403,0.4407443682664055,0.28217929238115913,0.5370682392586352,0.8090614886731391,0.31711317659923455,0.20186727226848347,0.7849293563579277,0.18887970723645378,0.38817557479844733,0.17806267806267806,0.29005685114282403,0.10193679918450561,0.22194821208384713,0.8439350044086157,0.32601608346011735,0.32973621103117506,0.2097064110245656,0.20094562647754136,0.41557305336832895,0.249728555917481,0.22734318487134444,0.2812079716346742,0.2752779248279513,0.2357563850687623,0.2515090543259557,0.75952800759528,0.6529437804338203,0.3101805694029024,1.5986358307577535,1.0603588907014683,0.36583827425255455,0.4592774035517453,0.6042849295000916,0.24232633279483037],\"yaxis\":\"y\"},{\"customdata\":[[4.0,1526.0],[6.0,1752.0],[2.0,1756.0],[13.0,1626.0],[15.0,1712.0],[5.0,1628.0],[51.0,1720.0],[40.0,2986.0],[10.0,3186.0],[5.0,3293.0],[8.0,2457.0],[28.0,3293.0],[1.0,837.0],[1.0,2738.0],[5.0,3152.0],[3.0,3170.0],[2.0,3589.0],[6.0,3863.0],[6.0,3624.0],[8.0,3683.0],[5.0,3058.0],[4.0,2659.0],[11.0,3635.0],[1.0,1585.0],[2.0,3168.0],[6.0,3595.0],[4.0,3347.0],[3.0,3602.0],[3.0,3359.0],[1.0,3457.0],[1.0,2985.0],[7.0,3214.0],[8.0,3473.0],[4.0,3185.0],[5.0,3394.0],[1.0,2350.0],[7.0,2423.0],[4.0,2213.0],[3.0,3183.0],[3.0,2906.0],[1.0,1268.0],[2.0,2285.0],[12.0,2743.0],[3.0,2831.0],[5.0,2849.0],[2.0,2259.0],[1.0,2174.0],[1.0,2177.0],[1.0,462.0]],\"hovertemplate\":\"Gender minority percentages: %{y}<br>Gender minority counts: %{customdata[0]}<br>Total counts: %{customdata[1]}\",\"legendgroup\":\"Daily Record\",\"line\":{\"color\":\"rgb(135, 197, 95)\",\"dash\":\"solid\"},\"mode\":\"lines\",\"name\":\"Daily Record\",\"orientation\":\"v\",\"showlegend\":true,\"type\":\"scatter\",\"x\":[\"2015-01\",\"2015-02\",\"2015-03\",\"2015-04\",\"2015-05\",\"2015-06\",\"2015-07\",\"2015-08\",\"2015-09\",\"2015-10\",\"2015-11\",\"2015-12\",\"2016-02\",\"2016-07\",\"2016-08\",\"2016-09\",\"2016-12\",\"2017-03\",\"2017-04\",\"2017-06\",\"2017-08\",\"2017-09\",\"2017-10\",\"2017-11\",\"2017-12\",\"2018-01\",\"2018-02\",\"2018-03\",\"2018-04\",\"2018-05\",\"2018-06\",\"2018-08\",\"2018-09\",\"2018-10\",\"2018-11\",\"2018-12\",\"2019-03\",\"2019-04\",\"2019-05\",\"2019-06\",\"2019-07\",\"2019-08\",\"2019-09\",\"2019-10\",\"2019-11\",\"2019-12\",\"2020-01\",\"2020-02\",\"2020-04\"],\"xaxis\":\"x\",\"y\":[0.2621231979030144,0.3424657534246575,0.11389521640091116,0.7995079950799507,0.8761682242990654,0.3071253071253071,2.9651162790697674,1.3395847287340925,0.31387319522912743,0.1518372304889159,0.3256003256003256,0.850288490737929,0.11947431302270012,0.03652300949598247,0.15862944162436549,0.0946372239747634,0.05572582892170522,0.1553196997152472,0.16556291390728478,0.21721422753190334,0.1635055591890124,0.15043249341857842,0.30261348005502064,0.06309148264984228,0.06313131313131314,0.16689847009735745,0.11951000896325066,0.0832870627429206,0.08931229532598987,0.02892681515765114,0.03350083752093803,0.21779713752333543,0.2303484019579614,0.12558869701726844,0.14731879787860933,0.0425531914893617,0.2888980602558811,0.18075011296882063,0.0942507068803016,0.10323468685478321,0.07886435331230283,0.087527352297593,0.43747721472839957,0.1059696220416814,0.17550017550017552,0.08853474988933156,0.045998160073597055,0.045934772622875514,0.21645021645021645],\"yaxis\":\"y\"},{\"customdata\":[[13.0,2537.0],[17.0,2519.0],[10.0,3106.0],[36.0,2634.0],[10.0,1502.0],[13.0,1181.0],[7.0,129.0],[2.0,283.0],[9.0,2570.0],[10.0,3428.0],[2.0,1763.0],[5.0,1602.0],[23.0,3741.0],[5.0,2963.0],[16.0,4036.0],[25.0,6163.0],[13.0,7745.0],[5.0,3048.0],[15.0,4627.0],[21.0,7564.0],[17.0,4487.0],[42.0,5856.0],[20.0,5626.0],[14.0,7866.0],[38.0,7531.0],[36.0,7813.0],[20.0,7095.0],[4.0,6674.0],[58.0,7359.0],[23.0,6325.0],[20.0,6698.0],[17.0,6277.0],[9.0,6532.0],[5.0,5674.0],[2.0,6097.0],[22.0,6766.0],[13.0,7071.0],[9.0,6071.0],[1.0,212.0],[19.0,4195.0],[5.0,4789.0],[9.0,4447.0],[18.0,4354.0],[8.0,2806.0],[16.0,4647.0],[3.0,3396.0],[8.0,2646.0],[44.0,3590.0],[26.0,4246.0],[23.0,5147.0],[77.0,5569.0],[50.0,4081.0],[8.0,4030.0],[26.0,4134.0],[6.0,3448.0]],\"hovertemplate\":\"Gender minority percentages: %{y}<br>Gender minority counts: %{customdata[0]}<br>Total counts: %{customdata[1]}\",\"legendgroup\":\"Daily Star\",\"line\":{\"color\":\"rgb(158, 185, 243)\",\"dash\":\"solid\"},\"mode\":\"lines\",\"name\":\"Daily Star\",\"orientation\":\"v\",\"showlegend\":true,\"type\":\"scatter\",\"x\":[\"2015-01\",\"2015-02\",\"2015-03\",\"2015-04\",\"2015-05\",\"2015-06\",\"2015-08\",\"2015-10\",\"2015-11\",\"2015-12\",\"2016-02\",\"2016-04\",\"2016-05\",\"2016-07\",\"2016-08\",\"2016-09\",\"2016-12\",\"2017-02\",\"2017-03\",\"2017-04\",\"2017-05\",\"2017-06\",\"2017-07\",\"2017-08\",\"2017-09\",\"2017-10\",\"2017-11\",\"2017-12\",\"2018-01\",\"2018-02\",\"2018-03\",\"2018-04\",\"2018-05\",\"2018-06\",\"2018-07\",\"2018-08\",\"2018-09\",\"2018-10\",\"2018-11\",\"2018-12\",\"2019-01\",\"2019-02\",\"2019-03\",\"2019-04\",\"2019-05\",\"2019-06\",\"2019-07\",\"2019-08\",\"2019-09\",\"2019-10\",\"2019-11\",\"2019-12\",\"2020-01\",\"2020-02\",\"2020-03\"],\"xaxis\":\"x\",\"y\":[0.5124162396531337,0.6748709805478365,0.3219575016097875,1.366742596810934,0.6657789613848202,1.100762066045724,5.426356589147287,0.7067137809187279,0.3501945525291829,0.29171528588098017,0.11344299489506524,0.3121098626716604,0.6148088746324512,0.16874789065136686,0.39643211100099107,0.4056466006814863,0.16785022595222726,0.16404199475065617,0.3241841365895829,0.27763088313061873,0.37887229774905284,0.7172131147540983,0.35549235691432635,0.17798118484617342,0.504581064931616,0.460770510687316,0.28188865398167723,0.059934072520227755,0.7881505639353173,0.36363636363636365,0.2985965959988056,0.2708300143380596,0.13778322106552357,0.08812125484666902,0.03280301787764474,0.325155187703222,0.18384952623391315,0.1482457585241311,0.4716981132075472,0.45292014302741357,0.10440593025683859,0.2023836294130875,0.41341295360587965,0.2851033499643621,0.3443081557994405,0.08833922261484099,0.30234315948601664,1.2256267409470751,0.6123410268487989,0.4468622498542841,1.382653977374753,1.2251899044351875,0.19851116625310172,0.628930817610063,0.17401392111368907],\"yaxis\":\"y\"},{\"customdata\":[[4.0,2288.0],[22.0,2704.0],[5.0,2891.0],[18.0,2131.0],[21.0,1953.0],[12.0,1718.0],[49.0,4198.0],[22.0,5733.0],[28.0,7449.0],[23.0,5814.0],[24.0,4338.0],[48.0,7624.0],[1.0,116.0],[5.0,1862.0],[2.0,3263.0],[17.0,7741.0],[17.0,7563.0],[14.0,6683.0],[6.0,6958.0],[18.0,6110.0],[9.0,2037.0],[18.0,6613.0],[9.0,7078.0],[20.0,7003.0],[9.0,7895.0],[15.0,6736.0],[23.0,6624.0],[8.0,6051.0],[37.0,9048.0],[10.0,7670.0],[12.0,7303.0],[23.0,11994.0],[17.0,12259.0],[13.0,10850.0],[26.0,9008.0],[17.0,9647.0],[2.0,8960.0],[4.0,9496.0],[23.0,9808.0],[10.0,9442.0],[36.0,12451.0],[15.0,12949.0],[33.0,9938.0],[18.0,7998.0],[19.0,5576.0],[12.0,11639.0],[10.0,9604.0],[34.0,11725.0],[15.0,9366.0],[16.0,8926.0],[16.0,7423.0],[11.0,9090.0],[11.0,11254.0],[8.0,8875.0],[18.0,9282.0],[18.0,10777.0],[6.0,8618.0],[22.0,9270.0],[5.0,3801.0]],\"hovertemplate\":\"Gender minority percentages: %{y}<br>Gender minority counts: %{customdata[0]}<br>Total counts: %{customdata[1]}\",\"legendgroup\":\"Evening Standard\",\"line\":{\"color\":\"rgb(254, 136, 177)\",\"dash\":\"solid\"},\"mode\":\"lines\",\"name\":\"Evening Standard\",\"orientation\":\"v\",\"showlegend\":true,\"type\":\"scatter\",\"x\":[\"2015-01\",\"2015-02\",\"2015-03\",\"2015-04\",\"2015-05\",\"2015-06\",\"2015-07\",\"2015-08\",\"2015-09\",\"2015-10\",\"2015-11\",\"2015-12\",\"2016-01\",\"2016-02\",\"2016-04\",\"2016-05\",\"2016-07\",\"2016-08\",\"2016-09\",\"2016-12\",\"2017-02\",\"2017-03\",\"2017-04\",\"2017-05\",\"2017-06\",\"2017-07\",\"2017-08\",\"2017-09\",\"2017-10\",\"2017-11\",\"2017-12\",\"2018-01\",\"2018-02\",\"2018-03\",\"2018-04\",\"2018-05\",\"2018-06\",\"2018-07\",\"2018-08\",\"2018-09\",\"2018-10\",\"2018-11\",\"2018-12\",\"2019-01\",\"2019-02\",\"2019-03\",\"2019-04\",\"2019-05\",\"2019-06\",\"2019-07\",\"2019-08\",\"2019-09\",\"2019-10\",\"2019-11\",\"2019-12\",\"2020-01\",\"2020-02\",\"2020-03\",\"2020-04\"],\"xaxis\":\"x\",\"y\":[0.17482517482517482,0.8136094674556213,0.17295053614666206,0.8446738620366024,1.0752688172043012,0.6984866123399301,1.167222486898523,0.383743240886098,0.3758893811249832,0.3955968352253182,0.5532503457814661,0.6295907660020986,0.8620689655172413,0.26852846401718583,0.061293288384921846,0.21960986952590106,0.22477852703953458,0.20948675744426157,0.0862316757688991,0.2945990180032733,0.4418262150220913,0.27219113866626343,0.12715456343599885,0.28559188919034695,0.11399620012666244,0.22268408551068883,0.3472222222222222,0.13220955214014213,0.40893015030946067,0.1303780964797914,0.16431603450636723,0.191762547940637,0.138673627538951,0.11981566820276497,0.2886323268206039,0.17622058671089458,0.022321428571428572,0.04212299915754002,0.23450244698205547,0.10590976488032197,0.28913340293952294,0.11583906093134604,0.3320587643389012,0.22505626406601648,0.34074605451936874,0.10310164103445314,0.10412328196584757,0.28997867803837957,0.1601537475976938,0.17925162446784673,0.2155462750909336,0.12101210121012101,0.09774302470232805,0.09014084507042254,0.19392372333548805,0.16702236243852647,0.0696217219772569,0.23732470334412084,0.13154433043935806],\"yaxis\":\"y\"},{\"customdata\":[[2.0,525.0],[1.0,445.0],[2.0,483.0],[1.0,524.0],[4.0,619.0],[1.0,598.0],[6.0,656.0],[2.0,668.0],[1.0,373.0],[5.0,523.0]],\"hovertemplate\":\"Gender minority percentages: %{y}<br>Gender minority counts: %{customdata[0]}<br>Total counts: %{customdata[1]}\",\"legendgroup\":\"Financial Times\",\"line\":{\"color\":\"rgb(201, 219, 116)\",\"dash\":\"solid\"},\"mode\":\"lines\",\"name\":\"Financial Times\",\"orientation\":\"v\",\"showlegend\":true,\"type\":\"scatter\",\"x\":[\"2015-02\",\"2016-12\",\"2017-12\",\"2018-04\",\"2018-06\",\"2018-09\",\"2018-10\",\"2018-11\",\"2018-12\",\"2019-02\"],\"xaxis\":\"x\",\"y\":[0.38095238095238093,0.22471910112359553,0.4140786749482402,0.19083969465648853,0.6462035541195477,0.16722408026755853,0.9146341463414633,0.29940119760479045,0.2680965147453083,0.9560229445506693],\"yaxis\":\"y\"},{\"customdata\":[[1.0,53.0],[1.0,50.0],[1.0,75.0],[1.0,153.0],[1.0,114.0],[1.0,74.0],[1.0,85.0],[1.0,162.0],[4.0,185.0],[1.0,129.0],[2.0,150.0],[2.0,96.0],[2.0,159.0],[1.0,118.0],[3.0,157.0],[3.0,127.0],[1.0,119.0],[4.0,91.0]],\"hovertemplate\":\"Gender minority percentages: %{y}<br>Gender minority counts: %{customdata[0]}<br>Total counts: %{customdata[1]}\",\"legendgroup\":\"Metro\",\"line\":{\"color\":\"rgb(139, 224, 164)\",\"dash\":\"solid\"},\"mode\":\"lines\",\"name\":\"Metro\",\"orientation\":\"v\",\"showlegend\":true,\"type\":\"scatter\",\"x\":[\"2016-09\",\"2017-06\",\"2017-07\",\"2017-08\",\"2017-09\",\"2017-10\",\"2017-11\",\"2018-02\",\"2018-11\",\"2018-12\",\"2019-03\",\"2019-08\",\"2019-09\",\"2019-10\",\"2019-11\",\"2019-12\",\"2020-01\",\"2020-02\"],\"xaxis\":\"x\",\"y\":[1.8867924528301887,2.0,1.3333333333333335,0.6535947712418301,0.8771929824561403,1.3513513513513513,1.1764705882352942,0.6172839506172839,2.1621621621621623,0.7751937984496124,1.3333333333333335,2.083333333333333,1.257861635220126,0.847457627118644,1.910828025477707,2.3622047244094486,0.8403361344537815,4.395604395604396],\"yaxis\":\"y\"},{\"customdata\":[[28.0,12698.0],[37.0,13248.0],[20.0,13752.0],[32.0,11019.0],[8.0,6455.0],[16.0,4903.0],[56.0,9502.0],[41.0,15057.0],[60.0,16198.0],[63.0,16567.0],[91.0,11845.0],[50.0,12153.0],[1.0,264.0],[1.0,6187.0],[16.0,7267.0],[32.0,14226.0],[21.0,11367.0],[23.0,11195.0],[20.0,11676.0],[11.0,10652.0],[22.0,4178.0],[15.0,15254.0],[11.0,15673.0],[24.0,12109.0],[23.0,13816.0],[10.0,14139.0],[43.0,17622.0],[33.0,17356.0],[38.0,17292.0],[24.0,17727.0],[15.0,14225.0],[32.0,17586.0],[11.0,17793.0],[6.0,16248.0],[18.0,13059.0],[8.0,14156.0],[4.0,13497.0],[9.0,13047.0],[8.0,12402.0],[10.0,14272.0],[7.0,15060.0],[12.0,15186.0],[27.0,11893.0],[12.0,11116.0],[11.0,9253.0],[25.0,13341.0],[13.0,10689.0],[35.0,15505.0],[15.0,13627.0],[8.0,11458.0],[18.0,11360.0],[11.0,14686.0],[9.0,15507.0],[22.0,14363.0],[15.0,12203.0],[32.0,17008.0],[9.0,13948.0],[26.0,12352.0],[3.0,5096.0]],\"hovertemplate\":\"Gender minority percentages: %{y}<br>Gender minority counts: %{customdata[0]}<br>Total counts: %{customdata[1]}\",\"legendgroup\":\"The Daily Telegraph\",\"line\":{\"color\":\"rgb(180, 151, 231)\",\"dash\":\"solid\"},\"mode\":\"lines\",\"name\":\"The Daily Telegraph\",\"orientation\":\"v\",\"showlegend\":true,\"type\":\"scatter\",\"x\":[\"2015-01\",\"2015-02\",\"2015-03\",\"2015-04\",\"2015-05\",\"2015-06\",\"2015-07\",\"2015-08\",\"2015-09\",\"2015-10\",\"2015-11\",\"2015-12\",\"2016-01\",\"2016-02\",\"2016-04\",\"2016-05\",\"2016-07\",\"2016-08\",\"2016-09\",\"2016-12\",\"2017-02\",\"2017-03\",\"2017-04\",\"2017-05\",\"2017-06\",\"2017-07\",\"2017-08\",\"2017-09\",\"2017-10\",\"2017-11\",\"2017-12\",\"2018-01\",\"2018-02\",\"2018-03\",\"2018-04\",\"2018-05\",\"2018-06\",\"2018-07\",\"2018-08\",\"2018-09\",\"2018-10\",\"2018-11\",\"2018-12\",\"2019-01\",\"2019-02\",\"2019-03\",\"2019-04\",\"2019-05\",\"2019-06\",\"2019-07\",\"2019-08\",\"2019-09\",\"2019-10\",\"2019-11\",\"2019-12\",\"2020-01\",\"2020-02\",\"2020-03\",\"2020-04\"],\"xaxis\":\"x\",\"y\":[0.2205071664829107,0.27928743961352653,0.14543339150668994,0.29040747799255834,0.12393493415956622,0.3263308178666123,0.5893496106082929,0.27229859865843126,0.3704161007531794,0.3802740387517354,0.7682566483748418,0.41142104830083104,0.3787878787878788,0.016162922256343946,0.22017338654190177,0.2249402502460284,0.18474531538664557,0.2054488610987048,0.17129153819801302,0.10326699211415696,0.5265677357587363,0.09833486298675756,0.0701843935430358,0.19819968618383024,0.16647365373480022,0.07072635971426551,0.24401316536148,0.19013597603134363,0.21975479990747168,0.13538669825689625,0.1054481546572935,0.18196292505402023,0.06182206485696622,0.03692762186115214,0.13783597518952445,0.05651313930488839,0.02963621545528636,0.06898137502874224,0.06450572488308337,0.07006726457399103,0.04648074369189907,0.07902015013828526,0.22702430000840831,0.10795250089960418,0.11888036312547282,0.1873922494565625,0.12162035737674246,0.2257336343115124,0.11007558523519483,0.0698202129516495,0.15845070422535212,0.07490126651232466,0.05803830528148578,0.15317134303418506,0.12292059329673032,0.18814675446848542,0.06452537998279323,0.2104922279792746,0.05886970172684458],\"yaxis\":\"y\"},{\"customdata\":[[47.0,18061.0],[87.0,17446.0],[44.0,19986.0],[72.0,17646.0],[31.0,15379.0],[71.0,15477.0],[74.0,14002.0],[90.0,18948.0],[51.0,21989.0],[61.0,21661.0],[67.0,14075.0],[67.0,14743.0],[2.0,751.0],[27.0,7549.0],[3.0,624.0],[6.0,719.0],[6.0,879.0],[1.0,525.0],[1.0,894.0],[1.0,525.0],[3.0,2366.0],[9.0,4883.0],[55.0,4416.0],[6.0,3219.0],[1.0,2364.0],[3.0,1302.0],[3.0,1779.0],[12.0,1914.0],[11.0,2239.0],[2.0,2333.0],[29.0,2538.0],[11.0,6264.0],[24.0,2164.0],[4.0,1322.0],[3.0,2103.0],[6.0,2467.0],[10.0,2354.0],[10.0,2445.0],[8.0,2013.0],[5.0,1787.0],[11.0,2236.0],[2.0,2680.0],[4.0,2542.0],[38.0,2865.0],[2.0,2279.0]],\"hovertemplate\":\"Gender minority percentages: %{y}<br>Gender minority counts: %{customdata[0]}<br>Total counts: %{customdata[1]}\",\"legendgroup\":\"The Guardian\",\"line\":{\"color\":\"rgb(179, 179, 179)\",\"dash\":\"solid\"},\"mode\":\"lines\",\"name\":\"The Guardian\",\"orientation\":\"v\",\"showlegend\":true,\"type\":\"scatter\",\"x\":[\"2015-01\",\"2015-02\",\"2015-03\",\"2015-04\",\"2015-05\",\"2015-06\",\"2015-07\",\"2015-08\",\"2015-09\",\"2015-10\",\"2015-11\",\"2015-12\",\"2016-01\",\"2016-02\",\"2016-03\",\"2016-04\",\"2016-06\",\"2016-10\",\"2016-11\",\"2017-02\",\"2017-06\",\"2017-08\",\"2017-09\",\"2017-10\",\"2017-11\",\"2018-01\",\"2018-02\",\"2018-04\",\"2018-05\",\"2018-06\",\"2018-08\",\"2018-09\",\"2018-10\",\"2018-12\",\"2019-03\",\"2019-04\",\"2019-05\",\"2019-06\",\"2019-07\",\"2019-08\",\"2019-09\",\"2019-10\",\"2020-01\",\"2020-02\",\"2020-03\"],\"xaxis\":\"x\",\"y\":[0.26022922318808483,0.4986816462226299,0.22015410787551287,0.40802448146888814,0.20157357435463943,0.45874523486463786,0.5284959291529782,0.4749841671944269,0.23193414889262814,0.28161211393749136,0.4760213143872114,0.45445296072712477,0.2663115845539281,0.3576632666578355,0.4807692307692308,0.8344923504867872,0.6825938566552902,0.19047619047619047,0.11185682326621924,0.19047619047619047,0.12679628064243448,0.18431292238378047,1.2454710144927537,0.1863932898415657,0.04230118443316413,0.2304147465437788,0.16863406408094433,0.6269592476489028,0.49129075480125056,0.08572653236176596,1.1426319936958234,0.1756066411238825,1.1090573012939002,0.30257186081694404,0.14265335235378032,0.24321037697608433,0.4248088360237893,0.408997955010225,0.39741679085941384,0.27979854504756574,0.4919499105545617,0.0746268656716418,0.15735641227380015,1.3263525305410122,0.08775778850372971],\"yaxis\":\"y\"},{\"customdata\":[[1.0,89.0],[2.0,81.0],[2.0,60.0],[5.0,61.0],[1.0,96.0],[4.0,131.0],[1.0,134.0],[3.0,108.0],[1.0,111.0],[1.0,113.0],[27.0,5625.0],[31.0,6404.0],[22.0,6618.0],[1.0,130.0],[9.0,8486.0],[9.0,3724.0],[15.0,5179.0],[13.0,3215.0],[23.0,5169.0],[11.0,2559.0],[18.0,4090.0],[27.0,8227.0],[84.0,7575.0],[78.0,7757.0],[41.0,4043.0],[3.0,866.0],[10.0,1145.0],[21.0,4782.0],[42.0,6134.0],[21.0,4564.0],[19.0,5208.0],[17.0,4467.0],[13.0,4542.0],[80.0,7000.0],[40.0,7362.0],[18.0,7565.0],[15.0,7888.0],[15.0,6693.0],[11.0,7272.0],[20.0,6492.0],[22.0,6915.0],[15.0,4587.0],[18.0,6101.0],[19.0,6503.0],[14.0,4946.0],[59.0,5043.0],[33.0,5632.0],[19.0,6463.0],[52.0,5596.0],[39.0,5150.0],[14.0,4987.0],[25.0,4487.0],[16.0,3733.0],[5.0,1662.0]],\"hovertemplate\":\"Gender minority percentages: %{y}<br>Gender minority counts: %{customdata[0]}<br>Total counts: %{customdata[1]}\",\"legendgroup\":\"The Sun\",\"line\":{\"color\":\"rgb(102, 197, 204)\",\"dash\":\"solid\"},\"mode\":\"lines\",\"name\":\"The Sun\",\"orientation\":\"v\",\"showlegend\":true,\"type\":\"scatter\",\"x\":[\"2015-01\",\"2015-03\",\"2015-04\",\"2015-06\",\"2015-07\",\"2015-08\",\"2015-09\",\"2015-11\",\"2016-02\",\"2016-04\",\"2016-07\",\"2016-08\",\"2016-09\",\"2016-11\",\"2016-12\",\"2017-02\",\"2017-03\",\"2017-04\",\"2017-05\",\"2017-06\",\"2017-07\",\"2017-08\",\"2017-09\",\"2017-10\",\"2017-11\",\"2017-12\",\"2018-01\",\"2018-02\",\"2018-03\",\"2018-04\",\"2018-05\",\"2018-06\",\"2018-07\",\"2018-08\",\"2018-09\",\"2018-10\",\"2018-11\",\"2018-12\",\"2019-01\",\"2019-02\",\"2019-03\",\"2019-04\",\"2019-05\",\"2019-06\",\"2019-07\",\"2019-08\",\"2019-09\",\"2019-10\",\"2019-11\",\"2019-12\",\"2020-01\",\"2020-02\",\"2020-03\",\"2020-04\"],\"xaxis\":\"x\",\"y\":[1.1235955056179776,2.4691358024691357,3.3333333333333335,8.19672131147541,1.0416666666666665,3.0534351145038165,0.7462686567164178,2.7777777777777777,0.9009009009009009,0.8849557522123894,0.48,0.4840724547158027,0.3324267150196434,0.7692307692307693,0.10605703511666273,0.24167561761546724,0.28963120293492955,0.4043545878693624,0.44496034049139094,0.4298554122704181,0.4400977995110024,0.3281876747295491,1.1089108910891088,1.0055433801727471,1.0140984417511747,0.3464203233256351,0.8733624454148471,0.43914680050188204,0.6847081838930551,0.4601226993865031,0.36482334869431643,0.3805686142825162,0.28621752531924266,1.1428571428571428,0.54333061668025,0.23793787177792464,0.19016227180527384,0.22411474675033619,0.15126512651265125,0.3080714725816389,0.31814895155459144,0.3270111183780248,0.2950336010490084,0.29217284330309085,0.28305701577031944,1.1699385286535793,0.5859375,0.2939811233173449,0.9292351679771265,0.7572815533980582,0.28072989773410867,0.5571651437486072,0.42860969729440135,0.3008423586040915],\"yaxis\":\"y\"},{\"customdata\":[[2.0,136.0],[2.0,164.0],[1.0,258.0],[2.0,247.0],[1.0,758.0],[4.0,751.0],[3.0,841.0],[2.0,108.0],[1.0,306.0],[2.0,448.0],[1.0,424.0],[1.0,349.0],[3.0,565.0],[1.0,509.0],[1.0,391.0],[1.0,589.0],[1.0,546.0],[3.0,466.0],[2.0,351.0],[2.0,754.0]],\"hovertemplate\":\"Gender minority percentages: %{y}<br>Gender minority counts: %{customdata[0]}<br>Total counts: %{customdata[1]}\",\"legendgroup\":\"The Times\",\"line\":{\"color\":\"rgb(246, 207, 113)\",\"dash\":\"solid\"},\"mode\":\"lines\",\"name\":\"The Times\",\"orientation\":\"v\",\"showlegend\":true,\"type\":\"scatter\",\"x\":[\"2015-04\",\"2015-08\",\"2015-09\",\"2015-12\",\"2016-07\",\"2016-08\",\"2016-09\",\"2017-09\",\"2018-08\",\"2018-10\",\"2018-12\",\"2019-04\",\"2019-05\",\"2019-06\",\"2019-08\",\"2019-09\",\"2019-10\",\"2019-11\",\"2019-12\",\"2020-02\"],\"xaxis\":\"x\",\"y\":[1.4705882352941175,1.2195121951219512,0.3875968992248062,0.8097165991902834,0.13192612137203166,0.5326231691078562,0.356718192627824,1.8518518518518516,0.32679738562091504,0.4464285714285714,0.2358490566037736,0.28653295128939826,0.5309734513274336,0.19646365422396855,0.2557544757033248,0.1697792869269949,0.18315018315018314,0.6437768240343348,0.5698005698005698,0.2652519893899204],\"yaxis\":\"y\"},{\"customdata\":[[1.0,26.0],[1.0,45.0],[1.0,72.0],[2.0,1002.0],[5.0,1659.0],[3.0,1969.0],[11.0,2003.0],[18.0,1997.0],[20.0,2469.0],[7.0,2393.0],[20.0,2861.0],[13.0,2600.0],[7.0,2173.0],[10.0,2984.0],[20.0,2670.0],[18.0,2993.0],[22.0,2656.0],[11.0,3214.0],[6.0,3079.0],[4.0,3236.0],[26.0,2953.0],[5.0,3174.0],[10.0,3428.0],[11.0,3457.0],[23.0,2814.0],[7.0,3394.0],[5.0,3033.0],[5.0,2871.0],[5.0,1818.0],[22.0,3449.0],[15.0,3075.0],[9.0,2484.0],[26.0,2547.0],[16.0,2175.0],[7.0,2809.0],[1.0,2742.0],[1.0,2118.0],[6.0,2309.0],[14.0,2019.0],[1.0,1447.0],[1.0,498.0]],\"hovertemplate\":\"Gender minority percentages: %{y}<br>Gender minority counts: %{customdata[0]}<br>Total counts: %{customdata[1]}\",\"legendgroup\":\"i\",\"line\":{\"color\":\"rgb(248, 156, 116)\",\"dash\":\"solid\"},\"mode\":\"lines\",\"name\":\"i\",\"orientation\":\"v\",\"showlegend\":true,\"type\":\"scatter\",\"x\":[\"2016-04\",\"2016-05\",\"2016-08\",\"2017-03\",\"2017-04\",\"2017-05\",\"2017-06\",\"2017-07\",\"2017-08\",\"2017-09\",\"2017-10\",\"2017-11\",\"2017-12\",\"2018-01\",\"2018-02\",\"2018-03\",\"2018-04\",\"2018-05\",\"2018-06\",\"2018-07\",\"2018-08\",\"2018-09\",\"2018-10\",\"2018-11\",\"2018-12\",\"2019-01\",\"2019-02\",\"2019-03\",\"2019-04\",\"2019-05\",\"2019-06\",\"2019-07\",\"2019-08\",\"2019-09\",\"2019-10\",\"2019-11\",\"2019-12\",\"2020-01\",\"2020-02\",\"2020-03\",\"2020-04\"],\"xaxis\":\"x\",\"y\":[3.8461538461538463,2.2222222222222223,1.3888888888888888,0.19960079840319359,0.3013863773357444,0.15236160487557138,0.5491762356465303,0.9013520280420632,0.8100445524503848,0.29251984956122024,0.6990562740300594,0.5,0.32213529682466635,0.3351206434316354,0.7490636704119851,0.6014032743067156,0.8283132530120483,0.3422526446795271,0.1948684637869438,0.12360939431396785,0.8804605485946495,0.1575299306868305,0.29171528588098017,0.3181949667341626,0.8173418621179815,0.20624631703005303,0.16485328058028356,0.17415534656913967,0.27502750275027504,0.6378660481298928,0.4878048780487805,0.36231884057971014,1.0208087946603848,0.735632183908046,0.2491990032039872,0.03646973012399708,0.047214353163361665,0.25985275010827197,0.6934125804853888,0.0691085003455425,0.2008032128514056],\"yaxis\":\"y\"}],                        {\"barmode\":\"stack\",\"legend\":{\"title\":{\"text\":\"Newspaper\"},\"tracegroupgap\":0},\"margin\":{\"t\":60},\"template\":{\"data\":{\"bar\":[{\"error_x\":{\"color\":\"#2a3f5f\"},\"error_y\":{\"color\":\"#2a3f5f\"},\"marker\":{\"line\":{\"color\":\"#E5ECF6\",\"width\":0.5},\"pattern\":{\"fillmode\":\"overlay\",\"size\":10,\"solidity\":0.2}},\"type\":\"bar\"}],\"barpolar\":[{\"marker\":{\"line\":{\"color\":\"#E5ECF6\",\"width\":0.5},\"pattern\":{\"fillmode\":\"overlay\",\"size\":10,\"solidity\":0.2}},\"type\":\"barpolar\"}],\"carpet\":[{\"aaxis\":{\"endlinecolor\":\"#2a3f5f\",\"gridcolor\":\"white\",\"linecolor\":\"white\",\"minorgridcolor\":\"white\",\"startlinecolor\":\"#2a3f5f\"},\"baxis\":{\"endlinecolor\":\"#2a3f5f\",\"gridcolor\":\"white\",\"linecolor\":\"white\",\"minorgridcolor\":\"white\",\"startlinecolor\":\"#2a3f5f\"},\"type\":\"carpet\"}],\"choropleth\":[{\"colorbar\":{\"outlinewidth\":0,\"ticks\":\"\"},\"type\":\"choropleth\"}],\"contour\":[{\"colorbar\":{\"outlinewidth\":0,\"ticks\":\"\"},\"colorscale\":[[0.0,\"#0d0887\"],[0.1111111111111111,\"#46039f\"],[0.2222222222222222,\"#7201a8\"],[0.3333333333333333,\"#9c179e\"],[0.4444444444444444,\"#bd3786\"],[0.5555555555555556,\"#d8576b\"],[0.6666666666666666,\"#ed7953\"],[0.7777777777777778,\"#fb9f3a\"],[0.8888888888888888,\"#fdca26\"],[1.0,\"#f0f921\"]],\"type\":\"contour\"}],\"contourcarpet\":[{\"colorbar\":{\"outlinewidth\":0,\"ticks\":\"\"},\"type\":\"contourcarpet\"}],\"heatmap\":[{\"colorbar\":{\"outlinewidth\":0,\"ticks\":\"\"},\"colorscale\":[[0.0,\"#0d0887\"],[0.1111111111111111,\"#46039f\"],[0.2222222222222222,\"#7201a8\"],[0.3333333333333333,\"#9c179e\"],[0.4444444444444444,\"#bd3786\"],[0.5555555555555556,\"#d8576b\"],[0.6666666666666666,\"#ed7953\"],[0.7777777777777778,\"#fb9f3a\"],[0.8888888888888888,\"#fdca26\"],[1.0,\"#f0f921\"]],\"type\":\"heatmap\"}],\"heatmapgl\":[{\"colorbar\":{\"outlinewidth\":0,\"ticks\":\"\"},\"colorscale\":[[0.0,\"#0d0887\"],[0.1111111111111111,\"#46039f\"],[0.2222222222222222,\"#7201a8\"],[0.3333333333333333,\"#9c179e\"],[0.4444444444444444,\"#bd3786\"],[0.5555555555555556,\"#d8576b\"],[0.6666666666666666,\"#ed7953\"],[0.7777777777777778,\"#fb9f3a\"],[0.8888888888888888,\"#fdca26\"],[1.0,\"#f0f921\"]],\"type\":\"heatmapgl\"}],\"histogram\":[{\"marker\":{\"pattern\":{\"fillmode\":\"overlay\",\"size\":10,\"solidity\":0.2}},\"type\":\"histogram\"}],\"histogram2d\":[{\"colorbar\":{\"outlinewidth\":0,\"ticks\":\"\"},\"colorscale\":[[0.0,\"#0d0887\"],[0.1111111111111111,\"#46039f\"],[0.2222222222222222,\"#7201a8\"],[0.3333333333333333,\"#9c179e\"],[0.4444444444444444,\"#bd3786\"],[0.5555555555555556,\"#d8576b\"],[0.6666666666666666,\"#ed7953\"],[0.7777777777777778,\"#fb9f3a\"],[0.8888888888888888,\"#fdca26\"],[1.0,\"#f0f921\"]],\"type\":\"histogram2d\"}],\"histogram2dcontour\":[{\"colorbar\":{\"outlinewidth\":0,\"ticks\":\"\"},\"colorscale\":[[0.0,\"#0d0887\"],[0.1111111111111111,\"#46039f\"],[0.2222222222222222,\"#7201a8\"],[0.3333333333333333,\"#9c179e\"],[0.4444444444444444,\"#bd3786\"],[0.5555555555555556,\"#d8576b\"],[0.6666666666666666,\"#ed7953\"],[0.7777777777777778,\"#fb9f3a\"],[0.8888888888888888,\"#fdca26\"],[1.0,\"#f0f921\"]],\"type\":\"histogram2dcontour\"}],\"mesh3d\":[{\"colorbar\":{\"outlinewidth\":0,\"ticks\":\"\"},\"type\":\"mesh3d\"}],\"parcoords\":[{\"line\":{\"colorbar\":{\"outlinewidth\":0,\"ticks\":\"\"}},\"type\":\"parcoords\"}],\"pie\":[{\"automargin\":true,\"type\":\"pie\"}],\"scatter\":[{\"marker\":{\"colorbar\":{\"outlinewidth\":0,\"ticks\":\"\"}},\"type\":\"scatter\"}],\"scatter3d\":[{\"line\":{\"colorbar\":{\"outlinewidth\":0,\"ticks\":\"\"}},\"marker\":{\"colorbar\":{\"outlinewidth\":0,\"ticks\":\"\"}},\"type\":\"scatter3d\"}],\"scattercarpet\":[{\"marker\":{\"colorbar\":{\"outlinewidth\":0,\"ticks\":\"\"}},\"type\":\"scattercarpet\"}],\"scattergeo\":[{\"marker\":{\"colorbar\":{\"outlinewidth\":0,\"ticks\":\"\"}},\"type\":\"scattergeo\"}],\"scattergl\":[{\"marker\":{\"colorbar\":{\"outlinewidth\":0,\"ticks\":\"\"}},\"type\":\"scattergl\"}],\"scattermapbox\":[{\"marker\":{\"colorbar\":{\"outlinewidth\":0,\"ticks\":\"\"}},\"type\":\"scattermapbox\"}],\"scatterpolar\":[{\"marker\":{\"colorbar\":{\"outlinewidth\":0,\"ticks\":\"\"}},\"type\":\"scatterpolar\"}],\"scatterpolargl\":[{\"marker\":{\"colorbar\":{\"outlinewidth\":0,\"ticks\":\"\"}},\"type\":\"scatterpolargl\"}],\"scatterternary\":[{\"marker\":{\"colorbar\":{\"outlinewidth\":0,\"ticks\":\"\"}},\"type\":\"scatterternary\"}],\"surface\":[{\"colorbar\":{\"outlinewidth\":0,\"ticks\":\"\"},\"colorscale\":[[0.0,\"#0d0887\"],[0.1111111111111111,\"#46039f\"],[0.2222222222222222,\"#7201a8\"],[0.3333333333333333,\"#9c179e\"],[0.4444444444444444,\"#bd3786\"],[0.5555555555555556,\"#d8576b\"],[0.6666666666666666,\"#ed7953\"],[0.7777777777777778,\"#fb9f3a\"],[0.8888888888888888,\"#fdca26\"],[1.0,\"#f0f921\"]],\"type\":\"surface\"}],\"table\":[{\"cells\":{\"fill\":{\"color\":\"#EBF0F8\"},\"line\":{\"color\":\"white\"}},\"header\":{\"fill\":{\"color\":\"#C8D4E3\"},\"line\":{\"color\":\"white\"}},\"type\":\"table\"}]},\"layout\":{\"annotationdefaults\":{\"arrowcolor\":\"#2a3f5f\",\"arrowhead\":0,\"arrowwidth\":1},\"autotypenumbers\":\"strict\",\"coloraxis\":{\"colorbar\":{\"outlinewidth\":0,\"ticks\":\"\"}},\"colorscale\":{\"diverging\":[[0,\"#8e0152\"],[0.1,\"#c51b7d\"],[0.2,\"#de77ae\"],[0.3,\"#f1b6da\"],[0.4,\"#fde0ef\"],[0.5,\"#f7f7f7\"],[0.6,\"#e6f5d0\"],[0.7,\"#b8e186\"],[0.8,\"#7fbc41\"],[0.9,\"#4d9221\"],[1,\"#276419\"]],\"sequential\":[[0.0,\"#0d0887\"],[0.1111111111111111,\"#46039f\"],[0.2222222222222222,\"#7201a8\"],[0.3333333333333333,\"#9c179e\"],[0.4444444444444444,\"#bd3786\"],[0.5555555555555556,\"#d8576b\"],[0.6666666666666666,\"#ed7953\"],[0.7777777777777778,\"#fb9f3a\"],[0.8888888888888888,\"#fdca26\"],[1.0,\"#f0f921\"]],\"sequentialminus\":[[0.0,\"#0d0887\"],[0.1111111111111111,\"#46039f\"],[0.2222222222222222,\"#7201a8\"],[0.3333333333333333,\"#9c179e\"],[0.4444444444444444,\"#bd3786\"],[0.5555555555555556,\"#d8576b\"],[0.6666666666666666,\"#ed7953\"],[0.7777777777777778,\"#fb9f3a\"],[0.8888888888888888,\"#fdca26\"],[1.0,\"#f0f921\"]]},\"colorway\":[\"#636efa\",\"#EF553B\",\"#00cc96\",\"#ab63fa\",\"#FFA15A\",\"#19d3f3\",\"#FF6692\",\"#B6E880\",\"#FF97FF\",\"#FECB52\"],\"font\":{\"color\":\"#2a3f5f\"},\"geo\":{\"bgcolor\":\"white\",\"lakecolor\":\"white\",\"landcolor\":\"#E5ECF6\",\"showlakes\":true,\"showland\":true,\"subunitcolor\":\"white\"},\"hoverlabel\":{\"align\":\"left\"},\"hovermode\":\"closest\",\"mapbox\":{\"style\":\"light\"},\"paper_bgcolor\":\"white\",\"plot_bgcolor\":\"#E5ECF6\",\"polar\":{\"angularaxis\":{\"gridcolor\":\"white\",\"linecolor\":\"white\",\"ticks\":\"\"},\"bgcolor\":\"#E5ECF6\",\"radialaxis\":{\"gridcolor\":\"white\",\"linecolor\":\"white\",\"ticks\":\"\"}},\"scene\":{\"xaxis\":{\"backgroundcolor\":\"#E5ECF6\",\"gridcolor\":\"white\",\"gridwidth\":2,\"linecolor\":\"white\",\"showbackground\":true,\"ticks\":\"\",\"zerolinecolor\":\"white\"},\"yaxis\":{\"backgroundcolor\":\"#E5ECF6\",\"gridcolor\":\"white\",\"gridwidth\":2,\"linecolor\":\"white\",\"showbackground\":true,\"ticks\":\"\",\"zerolinecolor\":\"white\"},\"zaxis\":{\"backgroundcolor\":\"#E5ECF6\",\"gridcolor\":\"white\",\"gridwidth\":2,\"linecolor\":\"white\",\"showbackground\":true,\"ticks\":\"\",\"zerolinecolor\":\"white\"}},\"shapedefaults\":{\"line\":{\"color\":\"#2a3f5f\"}},\"ternary\":{\"aaxis\":{\"gridcolor\":\"white\",\"linecolor\":\"white\",\"ticks\":\"\"},\"baxis\":{\"gridcolor\":\"white\",\"linecolor\":\"white\",\"ticks\":\"\"},\"bgcolor\":\"#E5ECF6\",\"caxis\":{\"gridcolor\":\"white\",\"linecolor\":\"white\",\"ticks\":\"\"}},\"title\":{\"x\":0.05},\"xaxis\":{\"automargin\":true,\"gridcolor\":\"white\",\"linecolor\":\"white\",\"ticks\":\"\",\"title\":{\"standoff\":15},\"zerolinecolor\":\"white\",\"zerolinewidth\":2},\"yaxis\":{\"automargin\":true,\"gridcolor\":\"white\",\"linecolor\":\"white\",\"ticks\":\"\",\"title\":{\"standoff\":15},\"zerolinecolor\":\"white\",\"zerolinewidth\":2}}},\"title\":{\"text\":\"Percentage of gender minority quotes in UK's newspaper, 2015-2020\"},\"xaxis\":{\"anchor\":\"y\",\"domain\":[0.0,1.0],\"title\":{\"text\":\"Month\"}},\"yaxis\":{\"anchor\":\"x\",\"domain\":[0.0,1.0],\"title\":{\"text\":\"Percentage of gender minorities\"}}},                        {\"responsive\": true}                    ).then(function(){\n",
       "                            \n",
       "var gd = document.getElementById('0d8720ea-4f51-46fa-8ad2-04a239c5ff76');\n",
       "var x = new MutationObserver(function (mutations, observer) {{\n",
       "        var display = window.getComputedStyle(gd).display;\n",
       "        if (!display || display === 'none') {{\n",
       "            console.log([gd, 'removed!']);\n",
       "            Plotly.purge(gd);\n",
       "            observer.disconnect();\n",
       "        }}\n",
       "}});\n",
       "\n",
       "// Listen for the removal of the full notebook cells\n",
       "var notebookContainer = gd.closest('#notebook-container');\n",
       "if (notebookContainer) {{\n",
       "    x.observe(notebookContainer, {childList: true});\n",
       "}}\n",
       "\n",
       "// Listen for the clearing of the current output cell\n",
       "var outputEl = gd.closest('.output');\n",
       "if (outputEl) {{\n",
       "    x.observe(outputEl, {childList: true});\n",
       "}}\n",
       "\n",
       "                        })                };                });            </script>        </div>"
      ]
     },
     "metadata": {},
     "output_type": "display_data"
    }
   ],
   "source": [
    "# Set color palette\n",
    "palette_values = px.colors.qualitative.Pastel\n",
    "palette = cycle(palette_values)\n",
    "\n",
    "# Line plot female fraction 2015-2020 for UK\n",
    "month_df = gender_repr_uk_df.groupby('newspaper').resample('M', on='date').sum().reset_index()\n",
    "month_df['date'] = month_df['date'].dt.strftime(\"%Y-%m\")\n",
    "\n",
    "month_df['perc_female'] = month_df['counts_female'] / (month_df['counts_female'] + month_df['counts_male'] + month_df['counts_other']) * 100\n",
    "month_df['counts_total'] = month_df['counts_female'] + month_df['counts_male'] + month_df['counts_other']\n",
    "\n",
    "fig = px.line(month_df, x='date', y='perc_female', color='newspaper', custom_data=['counts_female', 'counts_total'], color_discrete_sequence=palette_values,\n",
    "                labels={\n",
    "                     'perc_female': \"Female percentage\",\n",
    "                     'date': \"Month\",\n",
    "                     'newspaper': \"Newspaper\"},)\n",
    "\n",
    "fig.update_layout(barmode='stack',\n",
    "                  title_text=\"Percentage of female quotes in UK's newspaper, 2015-2020\",             \n",
    ")\n",
    "fig.update_traces(\n",
    "    hovertemplate=\"<br>\".join([\n",
    "        \"Female percentages: %{y}\",\n",
    "        \"Female counts: %{customdata[0]}\",\n",
    "        \"Total counts: %{customdata[1]}\",\n",
    "    ])\n",
    ")\n",
    "fig.show()\n",
    "fig.to_html(full_html=False, include_plotlyjs='cdn')  \n",
    "fig.write_html(\"docs/_includes/fig_perc_female_uk.html\", full_html=False, include_plotlyjs='cdn')\n",
    "\n",
    "\n",
    "\n",
    "# Line plot gender minorities fraction 2015-2020 for US\n",
    "month_df['perc_other'] = month_df['counts_other'] / (month_df['counts_female'] + month_df['counts_male'] + month_df['counts_other']) * 100\n",
    "other_quotes = month_df.loc[month_df['counts_other'] != 0]\n",
    "\n",
    "fig = px.line(other_quotes, x='date', y='perc_other', color='newspaper', custom_data=['counts_other', 'counts_total'], color_discrete_sequence=palette_values,\n",
    "                labels={\n",
    "                     'perc_other': \"Percentage of gender minorities\",\n",
    "                     'date': \"Month\",\n",
    "                     'newspaper': \"Newspaper\"},)\n",
    "\n",
    "fig.update_layout(barmode='stack',\n",
    "                  title_text=\"Percentage of gender minority quotes in UK's newspaper, 2015-2020\",             \n",
    ")\n",
    "fig.update_traces(\n",
    "    hovertemplate=\"<br>\".join([\n",
    "        \"Gender minority percentages: %{y}\",\n",
    "        \"Gender minority counts: %{customdata[0]}\",\n",
    "        \"Total counts: %{customdata[1]}\",\n",
    "    ])\n",
    ")\n",
    "fig.show()\n",
    "fig.to_html(full_html=False, include_plotlyjs='cdn')  \n",
    "fig.write_html(\"docs/_includes/fig_perc_other_uk.html\", full_html=False, include_plotlyjs='cdn')"
   ]
  },
  {
   "cell_type": "markdown",
   "metadata": {},
   "source": [
    "Some newspapers don't have a lot of data in the range of 2015 to 2016. This explains these large peaks since we are looking at fractions. For example the newspaper **i** has 100% female quotes in January 2016. The cause is that there are just 2 quotes in total and both are by chance women. This really doesn't display anything of importance. This effect is even worse in the gender minorities plot.\n",
    "\n",
    "For a further analysis and better reading in the data story we will only take into acount 2017 upto 2020."
   ]
  },
  {
   "cell_type": "markdown",
   "metadata": {},
   "source": [
    "The main take-away seems to be:\n",
    "**Disparity remains more or less constant throughout the 5 years span.**\n",
    "\n",
    "Let's back up this claim:"
   ]
  },
  {
   "cell_type": "code",
   "execution_count": null,
   "metadata": {},
   "outputs": [],
   "source": [
    "# Regression analysis"
   ]
  },
  {
   "cell_type": "markdown",
   "metadata": {
    "id": "JYfinijKIbfK"
   },
   "source": [
    "### 3.3 Fraction of female quotes, UK\n",
    "<a id=\"female_fraction\"></a>\n",
    "\n",
    "The hypothesis testing in section 3.2 has shown that we can neglect time dependence. The next plots use thus alle the years to create an average."
   ]
  },
  {
   "cell_type": "code",
   "execution_count": 27,
   "metadata": {
    "colab": {
     "base_uri": "https://localhost:8080/",
     "height": 542
    },
    "id": "g6P3-ueHdrPp",
    "outputId": "28ab8f27-6f0b-4b26-8e73-1935a14e5d3c"
   },
   "outputs": [
    {
     "data": {
      "application/vnd.plotly.v1+json": {
       "config": {
        "plotlyServerURL": "https://plot.ly"
       },
       "data": [
        {
         "marker": {
          "color": "rgb(246, 207, 113)"
         },
         "name": "Female percentage",
         "type": "bar",
         "x": [
          "The Sun",
          "The Guardian",
          "The Times",
          "Metro",
          "Evening Standard",
          "Daily Mirror",
          "The Daily Telegraph",
          "Daily Express",
          "Daily Star",
          "i",
          "Financial Times",
          "Daily Mail",
          "Daily Record",
          "City A.M."
         ],
         "y": [
          12.979351032448378,
          22.760648111169342,
          17.638101867461362,
          27.408000902251402,
          23.20768370501941,
          23.290256129650043,
          19.82262172837683,
          13.983540535808089,
          34.53346855983773,
          18.13154660892972,
          19.843989539182974,
          36.69506950098252,
          20.73431486346142,
          25.866726930939198
         ]
        }
       ],
       "layout": {
        "barmode": "stack",
        "template": {
         "data": {
          "bar": [
           {
            "error_x": {
             "color": "#2a3f5f"
            },
            "error_y": {
             "color": "#2a3f5f"
            },
            "marker": {
             "line": {
              "color": "#E5ECF6",
              "width": 0.5
             },
             "pattern": {
              "fillmode": "overlay",
              "size": 10,
              "solidity": 0.2
             }
            },
            "type": "bar"
           }
          ],
          "barpolar": [
           {
            "marker": {
             "line": {
              "color": "#E5ECF6",
              "width": 0.5
             },
             "pattern": {
              "fillmode": "overlay",
              "size": 10,
              "solidity": 0.2
             }
            },
            "type": "barpolar"
           }
          ],
          "carpet": [
           {
            "aaxis": {
             "endlinecolor": "#2a3f5f",
             "gridcolor": "white",
             "linecolor": "white",
             "minorgridcolor": "white",
             "startlinecolor": "#2a3f5f"
            },
            "baxis": {
             "endlinecolor": "#2a3f5f",
             "gridcolor": "white",
             "linecolor": "white",
             "minorgridcolor": "white",
             "startlinecolor": "#2a3f5f"
            },
            "type": "carpet"
           }
          ],
          "choropleth": [
           {
            "colorbar": {
             "outlinewidth": 0,
             "ticks": ""
            },
            "type": "choropleth"
           }
          ],
          "contour": [
           {
            "colorbar": {
             "outlinewidth": 0,
             "ticks": ""
            },
            "colorscale": [
             [
              0,
              "#0d0887"
             ],
             [
              0.1111111111111111,
              "#46039f"
             ],
             [
              0.2222222222222222,
              "#7201a8"
             ],
             [
              0.3333333333333333,
              "#9c179e"
             ],
             [
              0.4444444444444444,
              "#bd3786"
             ],
             [
              0.5555555555555556,
              "#d8576b"
             ],
             [
              0.6666666666666666,
              "#ed7953"
             ],
             [
              0.7777777777777778,
              "#fb9f3a"
             ],
             [
              0.8888888888888888,
              "#fdca26"
             ],
             [
              1,
              "#f0f921"
             ]
            ],
            "type": "contour"
           }
          ],
          "contourcarpet": [
           {
            "colorbar": {
             "outlinewidth": 0,
             "ticks": ""
            },
            "type": "contourcarpet"
           }
          ],
          "heatmap": [
           {
            "colorbar": {
             "outlinewidth": 0,
             "ticks": ""
            },
            "colorscale": [
             [
              0,
              "#0d0887"
             ],
             [
              0.1111111111111111,
              "#46039f"
             ],
             [
              0.2222222222222222,
              "#7201a8"
             ],
             [
              0.3333333333333333,
              "#9c179e"
             ],
             [
              0.4444444444444444,
              "#bd3786"
             ],
             [
              0.5555555555555556,
              "#d8576b"
             ],
             [
              0.6666666666666666,
              "#ed7953"
             ],
             [
              0.7777777777777778,
              "#fb9f3a"
             ],
             [
              0.8888888888888888,
              "#fdca26"
             ],
             [
              1,
              "#f0f921"
             ]
            ],
            "type": "heatmap"
           }
          ],
          "heatmapgl": [
           {
            "colorbar": {
             "outlinewidth": 0,
             "ticks": ""
            },
            "colorscale": [
             [
              0,
              "#0d0887"
             ],
             [
              0.1111111111111111,
              "#46039f"
             ],
             [
              0.2222222222222222,
              "#7201a8"
             ],
             [
              0.3333333333333333,
              "#9c179e"
             ],
             [
              0.4444444444444444,
              "#bd3786"
             ],
             [
              0.5555555555555556,
              "#d8576b"
             ],
             [
              0.6666666666666666,
              "#ed7953"
             ],
             [
              0.7777777777777778,
              "#fb9f3a"
             ],
             [
              0.8888888888888888,
              "#fdca26"
             ],
             [
              1,
              "#f0f921"
             ]
            ],
            "type": "heatmapgl"
           }
          ],
          "histogram": [
           {
            "marker": {
             "pattern": {
              "fillmode": "overlay",
              "size": 10,
              "solidity": 0.2
             }
            },
            "type": "histogram"
           }
          ],
          "histogram2d": [
           {
            "colorbar": {
             "outlinewidth": 0,
             "ticks": ""
            },
            "colorscale": [
             [
              0,
              "#0d0887"
             ],
             [
              0.1111111111111111,
              "#46039f"
             ],
             [
              0.2222222222222222,
              "#7201a8"
             ],
             [
              0.3333333333333333,
              "#9c179e"
             ],
             [
              0.4444444444444444,
              "#bd3786"
             ],
             [
              0.5555555555555556,
              "#d8576b"
             ],
             [
              0.6666666666666666,
              "#ed7953"
             ],
             [
              0.7777777777777778,
              "#fb9f3a"
             ],
             [
              0.8888888888888888,
              "#fdca26"
             ],
             [
              1,
              "#f0f921"
             ]
            ],
            "type": "histogram2d"
           }
          ],
          "histogram2dcontour": [
           {
            "colorbar": {
             "outlinewidth": 0,
             "ticks": ""
            },
            "colorscale": [
             [
              0,
              "#0d0887"
             ],
             [
              0.1111111111111111,
              "#46039f"
             ],
             [
              0.2222222222222222,
              "#7201a8"
             ],
             [
              0.3333333333333333,
              "#9c179e"
             ],
             [
              0.4444444444444444,
              "#bd3786"
             ],
             [
              0.5555555555555556,
              "#d8576b"
             ],
             [
              0.6666666666666666,
              "#ed7953"
             ],
             [
              0.7777777777777778,
              "#fb9f3a"
             ],
             [
              0.8888888888888888,
              "#fdca26"
             ],
             [
              1,
              "#f0f921"
             ]
            ],
            "type": "histogram2dcontour"
           }
          ],
          "mesh3d": [
           {
            "colorbar": {
             "outlinewidth": 0,
             "ticks": ""
            },
            "type": "mesh3d"
           }
          ],
          "parcoords": [
           {
            "line": {
             "colorbar": {
              "outlinewidth": 0,
              "ticks": ""
             }
            },
            "type": "parcoords"
           }
          ],
          "pie": [
           {
            "automargin": true,
            "type": "pie"
           }
          ],
          "scatter": [
           {
            "marker": {
             "colorbar": {
              "outlinewidth": 0,
              "ticks": ""
             }
            },
            "type": "scatter"
           }
          ],
          "scatter3d": [
           {
            "line": {
             "colorbar": {
              "outlinewidth": 0,
              "ticks": ""
             }
            },
            "marker": {
             "colorbar": {
              "outlinewidth": 0,
              "ticks": ""
             }
            },
            "type": "scatter3d"
           }
          ],
          "scattercarpet": [
           {
            "marker": {
             "colorbar": {
              "outlinewidth": 0,
              "ticks": ""
             }
            },
            "type": "scattercarpet"
           }
          ],
          "scattergeo": [
           {
            "marker": {
             "colorbar": {
              "outlinewidth": 0,
              "ticks": ""
             }
            },
            "type": "scattergeo"
           }
          ],
          "scattergl": [
           {
            "marker": {
             "colorbar": {
              "outlinewidth": 0,
              "ticks": ""
             }
            },
            "type": "scattergl"
           }
          ],
          "scattermapbox": [
           {
            "marker": {
             "colorbar": {
              "outlinewidth": 0,
              "ticks": ""
             }
            },
            "type": "scattermapbox"
           }
          ],
          "scatterpolar": [
           {
            "marker": {
             "colorbar": {
              "outlinewidth": 0,
              "ticks": ""
             }
            },
            "type": "scatterpolar"
           }
          ],
          "scatterpolargl": [
           {
            "marker": {
             "colorbar": {
              "outlinewidth": 0,
              "ticks": ""
             }
            },
            "type": "scatterpolargl"
           }
          ],
          "scatterternary": [
           {
            "marker": {
             "colorbar": {
              "outlinewidth": 0,
              "ticks": ""
             }
            },
            "type": "scatterternary"
           }
          ],
          "surface": [
           {
            "colorbar": {
             "outlinewidth": 0,
             "ticks": ""
            },
            "colorscale": [
             [
              0,
              "#0d0887"
             ],
             [
              0.1111111111111111,
              "#46039f"
             ],
             [
              0.2222222222222222,
              "#7201a8"
             ],
             [
              0.3333333333333333,
              "#9c179e"
             ],
             [
              0.4444444444444444,
              "#bd3786"
             ],
             [
              0.5555555555555556,
              "#d8576b"
             ],
             [
              0.6666666666666666,
              "#ed7953"
             ],
             [
              0.7777777777777778,
              "#fb9f3a"
             ],
             [
              0.8888888888888888,
              "#fdca26"
             ],
             [
              1,
              "#f0f921"
             ]
            ],
            "type": "surface"
           }
          ],
          "table": [
           {
            "cells": {
             "fill": {
              "color": "#EBF0F8"
             },
             "line": {
              "color": "white"
             }
            },
            "header": {
             "fill": {
              "color": "#C8D4E3"
             },
             "line": {
              "color": "white"
             }
            },
            "type": "table"
           }
          ]
         },
         "layout": {
          "annotationdefaults": {
           "arrowcolor": "#2a3f5f",
           "arrowhead": 0,
           "arrowwidth": 1
          },
          "autotypenumbers": "strict",
          "coloraxis": {
           "colorbar": {
            "outlinewidth": 0,
            "ticks": ""
           }
          },
          "colorscale": {
           "diverging": [
            [
             0,
             "#8e0152"
            ],
            [
             0.1,
             "#c51b7d"
            ],
            [
             0.2,
             "#de77ae"
            ],
            [
             0.3,
             "#f1b6da"
            ],
            [
             0.4,
             "#fde0ef"
            ],
            [
             0.5,
             "#f7f7f7"
            ],
            [
             0.6,
             "#e6f5d0"
            ],
            [
             0.7,
             "#b8e186"
            ],
            [
             0.8,
             "#7fbc41"
            ],
            [
             0.9,
             "#4d9221"
            ],
            [
             1,
             "#276419"
            ]
           ],
           "sequential": [
            [
             0,
             "#0d0887"
            ],
            [
             0.1111111111111111,
             "#46039f"
            ],
            [
             0.2222222222222222,
             "#7201a8"
            ],
            [
             0.3333333333333333,
             "#9c179e"
            ],
            [
             0.4444444444444444,
             "#bd3786"
            ],
            [
             0.5555555555555556,
             "#d8576b"
            ],
            [
             0.6666666666666666,
             "#ed7953"
            ],
            [
             0.7777777777777778,
             "#fb9f3a"
            ],
            [
             0.8888888888888888,
             "#fdca26"
            ],
            [
             1,
             "#f0f921"
            ]
           ],
           "sequentialminus": [
            [
             0,
             "#0d0887"
            ],
            [
             0.1111111111111111,
             "#46039f"
            ],
            [
             0.2222222222222222,
             "#7201a8"
            ],
            [
             0.3333333333333333,
             "#9c179e"
            ],
            [
             0.4444444444444444,
             "#bd3786"
            ],
            [
             0.5555555555555556,
             "#d8576b"
            ],
            [
             0.6666666666666666,
             "#ed7953"
            ],
            [
             0.7777777777777778,
             "#fb9f3a"
            ],
            [
             0.8888888888888888,
             "#fdca26"
            ],
            [
             1,
             "#f0f921"
            ]
           ]
          },
          "colorway": [
           "#636efa",
           "#EF553B",
           "#00cc96",
           "#ab63fa",
           "#FFA15A",
           "#19d3f3",
           "#FF6692",
           "#B6E880",
           "#FF97FF",
           "#FECB52"
          ],
          "font": {
           "color": "#2a3f5f"
          },
          "geo": {
           "bgcolor": "white",
           "lakecolor": "white",
           "landcolor": "#E5ECF6",
           "showlakes": true,
           "showland": true,
           "subunitcolor": "white"
          },
          "hoverlabel": {
           "align": "left"
          },
          "hovermode": "closest",
          "mapbox": {
           "style": "light"
          },
          "paper_bgcolor": "white",
          "plot_bgcolor": "#E5ECF6",
          "polar": {
           "angularaxis": {
            "gridcolor": "white",
            "linecolor": "white",
            "ticks": ""
           },
           "bgcolor": "#E5ECF6",
           "radialaxis": {
            "gridcolor": "white",
            "linecolor": "white",
            "ticks": ""
           }
          },
          "scene": {
           "xaxis": {
            "backgroundcolor": "#E5ECF6",
            "gridcolor": "white",
            "gridwidth": 2,
            "linecolor": "white",
            "showbackground": true,
            "ticks": "",
            "zerolinecolor": "white"
           },
           "yaxis": {
            "backgroundcolor": "#E5ECF6",
            "gridcolor": "white",
            "gridwidth": 2,
            "linecolor": "white",
            "showbackground": true,
            "ticks": "",
            "zerolinecolor": "white"
           },
           "zaxis": {
            "backgroundcolor": "#E5ECF6",
            "gridcolor": "white",
            "gridwidth": 2,
            "linecolor": "white",
            "showbackground": true,
            "ticks": "",
            "zerolinecolor": "white"
           }
          },
          "shapedefaults": {
           "line": {
            "color": "#2a3f5f"
           }
          },
          "ternary": {
           "aaxis": {
            "gridcolor": "white",
            "linecolor": "white",
            "ticks": ""
           },
           "baxis": {
            "gridcolor": "white",
            "linecolor": "white",
            "ticks": ""
           },
           "bgcolor": "#E5ECF6",
           "caxis": {
            "gridcolor": "white",
            "linecolor": "white",
            "ticks": ""
           }
          },
          "title": {
           "x": 0.05
          },
          "xaxis": {
           "automargin": true,
           "gridcolor": "white",
           "linecolor": "white",
           "ticks": "",
           "title": {
            "standoff": 15
           },
           "zerolinecolor": "white",
           "zerolinewidth": 2
          },
          "yaxis": {
           "automargin": true,
           "gridcolor": "white",
           "linecolor": "white",
           "ticks": "",
           "title": {
            "standoff": 15
           },
           "zerolinecolor": "white",
           "zerolinewidth": 2
          }
         }
        },
        "title": {
         "text": "Percentage of female quotation, UK (2015-2020)"
        },
        "xaxis": {
         "categoryorder": "total descending"
        }
       }
      },
      "text/html": [
       "<div>                            <div id=\"30ce0123-c80b-4d22-8bf4-d750a4e2ba78\" class=\"plotly-graph-div\" style=\"height:525px; width:100%;\"></div>            <script type=\"text/javascript\">                require([\"plotly\"], function(Plotly) {                    window.PLOTLYENV=window.PLOTLYENV || {};                                    if (document.getElementById(\"30ce0123-c80b-4d22-8bf4-d750a4e2ba78\")) {                    Plotly.newPlot(                        \"30ce0123-c80b-4d22-8bf4-d750a4e2ba78\",                        [{\"marker\":{\"color\":\"rgb(246, 207, 113)\"},\"name\":\"Female percentage\",\"type\":\"bar\",\"x\":[\"The Sun\",\"The Guardian\",\"The Times\",\"Metro\",\"Evening Standard\",\"Daily Mirror\",\"The Daily Telegraph\",\"Daily Express\",\"Daily Star\",\"i\",\"Financial Times\",\"Daily Mail\",\"Daily Record\",\"City A.M.\"],\"y\":[12.979351032448378,22.760648111169342,17.638101867461362,27.408000902251402,23.20768370501941,23.290256129650043,19.82262172837683,13.983540535808089,34.53346855983773,18.13154660892972,19.843989539182974,36.69506950098252,20.73431486346142,25.866726930939198]}],                        {\"barmode\":\"stack\",\"template\":{\"data\":{\"bar\":[{\"error_x\":{\"color\":\"#2a3f5f\"},\"error_y\":{\"color\":\"#2a3f5f\"},\"marker\":{\"line\":{\"color\":\"#E5ECF6\",\"width\":0.5},\"pattern\":{\"fillmode\":\"overlay\",\"size\":10,\"solidity\":0.2}},\"type\":\"bar\"}],\"barpolar\":[{\"marker\":{\"line\":{\"color\":\"#E5ECF6\",\"width\":0.5},\"pattern\":{\"fillmode\":\"overlay\",\"size\":10,\"solidity\":0.2}},\"type\":\"barpolar\"}],\"carpet\":[{\"aaxis\":{\"endlinecolor\":\"#2a3f5f\",\"gridcolor\":\"white\",\"linecolor\":\"white\",\"minorgridcolor\":\"white\",\"startlinecolor\":\"#2a3f5f\"},\"baxis\":{\"endlinecolor\":\"#2a3f5f\",\"gridcolor\":\"white\",\"linecolor\":\"white\",\"minorgridcolor\":\"white\",\"startlinecolor\":\"#2a3f5f\"},\"type\":\"carpet\"}],\"choropleth\":[{\"colorbar\":{\"outlinewidth\":0,\"ticks\":\"\"},\"type\":\"choropleth\"}],\"contour\":[{\"colorbar\":{\"outlinewidth\":0,\"ticks\":\"\"},\"colorscale\":[[0.0,\"#0d0887\"],[0.1111111111111111,\"#46039f\"],[0.2222222222222222,\"#7201a8\"],[0.3333333333333333,\"#9c179e\"],[0.4444444444444444,\"#bd3786\"],[0.5555555555555556,\"#d8576b\"],[0.6666666666666666,\"#ed7953\"],[0.7777777777777778,\"#fb9f3a\"],[0.8888888888888888,\"#fdca26\"],[1.0,\"#f0f921\"]],\"type\":\"contour\"}],\"contourcarpet\":[{\"colorbar\":{\"outlinewidth\":0,\"ticks\":\"\"},\"type\":\"contourcarpet\"}],\"heatmap\":[{\"colorbar\":{\"outlinewidth\":0,\"ticks\":\"\"},\"colorscale\":[[0.0,\"#0d0887\"],[0.1111111111111111,\"#46039f\"],[0.2222222222222222,\"#7201a8\"],[0.3333333333333333,\"#9c179e\"],[0.4444444444444444,\"#bd3786\"],[0.5555555555555556,\"#d8576b\"],[0.6666666666666666,\"#ed7953\"],[0.7777777777777778,\"#fb9f3a\"],[0.8888888888888888,\"#fdca26\"],[1.0,\"#f0f921\"]],\"type\":\"heatmap\"}],\"heatmapgl\":[{\"colorbar\":{\"outlinewidth\":0,\"ticks\":\"\"},\"colorscale\":[[0.0,\"#0d0887\"],[0.1111111111111111,\"#46039f\"],[0.2222222222222222,\"#7201a8\"],[0.3333333333333333,\"#9c179e\"],[0.4444444444444444,\"#bd3786\"],[0.5555555555555556,\"#d8576b\"],[0.6666666666666666,\"#ed7953\"],[0.7777777777777778,\"#fb9f3a\"],[0.8888888888888888,\"#fdca26\"],[1.0,\"#f0f921\"]],\"type\":\"heatmapgl\"}],\"histogram\":[{\"marker\":{\"pattern\":{\"fillmode\":\"overlay\",\"size\":10,\"solidity\":0.2}},\"type\":\"histogram\"}],\"histogram2d\":[{\"colorbar\":{\"outlinewidth\":0,\"ticks\":\"\"},\"colorscale\":[[0.0,\"#0d0887\"],[0.1111111111111111,\"#46039f\"],[0.2222222222222222,\"#7201a8\"],[0.3333333333333333,\"#9c179e\"],[0.4444444444444444,\"#bd3786\"],[0.5555555555555556,\"#d8576b\"],[0.6666666666666666,\"#ed7953\"],[0.7777777777777778,\"#fb9f3a\"],[0.8888888888888888,\"#fdca26\"],[1.0,\"#f0f921\"]],\"type\":\"histogram2d\"}],\"histogram2dcontour\":[{\"colorbar\":{\"outlinewidth\":0,\"ticks\":\"\"},\"colorscale\":[[0.0,\"#0d0887\"],[0.1111111111111111,\"#46039f\"],[0.2222222222222222,\"#7201a8\"],[0.3333333333333333,\"#9c179e\"],[0.4444444444444444,\"#bd3786\"],[0.5555555555555556,\"#d8576b\"],[0.6666666666666666,\"#ed7953\"],[0.7777777777777778,\"#fb9f3a\"],[0.8888888888888888,\"#fdca26\"],[1.0,\"#f0f921\"]],\"type\":\"histogram2dcontour\"}],\"mesh3d\":[{\"colorbar\":{\"outlinewidth\":0,\"ticks\":\"\"},\"type\":\"mesh3d\"}],\"parcoords\":[{\"line\":{\"colorbar\":{\"outlinewidth\":0,\"ticks\":\"\"}},\"type\":\"parcoords\"}],\"pie\":[{\"automargin\":true,\"type\":\"pie\"}],\"scatter\":[{\"marker\":{\"colorbar\":{\"outlinewidth\":0,\"ticks\":\"\"}},\"type\":\"scatter\"}],\"scatter3d\":[{\"line\":{\"colorbar\":{\"outlinewidth\":0,\"ticks\":\"\"}},\"marker\":{\"colorbar\":{\"outlinewidth\":0,\"ticks\":\"\"}},\"type\":\"scatter3d\"}],\"scattercarpet\":[{\"marker\":{\"colorbar\":{\"outlinewidth\":0,\"ticks\":\"\"}},\"type\":\"scattercarpet\"}],\"scattergeo\":[{\"marker\":{\"colorbar\":{\"outlinewidth\":0,\"ticks\":\"\"}},\"type\":\"scattergeo\"}],\"scattergl\":[{\"marker\":{\"colorbar\":{\"outlinewidth\":0,\"ticks\":\"\"}},\"type\":\"scattergl\"}],\"scattermapbox\":[{\"marker\":{\"colorbar\":{\"outlinewidth\":0,\"ticks\":\"\"}},\"type\":\"scattermapbox\"}],\"scatterpolar\":[{\"marker\":{\"colorbar\":{\"outlinewidth\":0,\"ticks\":\"\"}},\"type\":\"scatterpolar\"}],\"scatterpolargl\":[{\"marker\":{\"colorbar\":{\"outlinewidth\":0,\"ticks\":\"\"}},\"type\":\"scatterpolargl\"}],\"scatterternary\":[{\"marker\":{\"colorbar\":{\"outlinewidth\":0,\"ticks\":\"\"}},\"type\":\"scatterternary\"}],\"surface\":[{\"colorbar\":{\"outlinewidth\":0,\"ticks\":\"\"},\"colorscale\":[[0.0,\"#0d0887\"],[0.1111111111111111,\"#46039f\"],[0.2222222222222222,\"#7201a8\"],[0.3333333333333333,\"#9c179e\"],[0.4444444444444444,\"#bd3786\"],[0.5555555555555556,\"#d8576b\"],[0.6666666666666666,\"#ed7953\"],[0.7777777777777778,\"#fb9f3a\"],[0.8888888888888888,\"#fdca26\"],[1.0,\"#f0f921\"]],\"type\":\"surface\"}],\"table\":[{\"cells\":{\"fill\":{\"color\":\"#EBF0F8\"},\"line\":{\"color\":\"white\"}},\"header\":{\"fill\":{\"color\":\"#C8D4E3\"},\"line\":{\"color\":\"white\"}},\"type\":\"table\"}]},\"layout\":{\"annotationdefaults\":{\"arrowcolor\":\"#2a3f5f\",\"arrowhead\":0,\"arrowwidth\":1},\"autotypenumbers\":\"strict\",\"coloraxis\":{\"colorbar\":{\"outlinewidth\":0,\"ticks\":\"\"}},\"colorscale\":{\"diverging\":[[0,\"#8e0152\"],[0.1,\"#c51b7d\"],[0.2,\"#de77ae\"],[0.3,\"#f1b6da\"],[0.4,\"#fde0ef\"],[0.5,\"#f7f7f7\"],[0.6,\"#e6f5d0\"],[0.7,\"#b8e186\"],[0.8,\"#7fbc41\"],[0.9,\"#4d9221\"],[1,\"#276419\"]],\"sequential\":[[0.0,\"#0d0887\"],[0.1111111111111111,\"#46039f\"],[0.2222222222222222,\"#7201a8\"],[0.3333333333333333,\"#9c179e\"],[0.4444444444444444,\"#bd3786\"],[0.5555555555555556,\"#d8576b\"],[0.6666666666666666,\"#ed7953\"],[0.7777777777777778,\"#fb9f3a\"],[0.8888888888888888,\"#fdca26\"],[1.0,\"#f0f921\"]],\"sequentialminus\":[[0.0,\"#0d0887\"],[0.1111111111111111,\"#46039f\"],[0.2222222222222222,\"#7201a8\"],[0.3333333333333333,\"#9c179e\"],[0.4444444444444444,\"#bd3786\"],[0.5555555555555556,\"#d8576b\"],[0.6666666666666666,\"#ed7953\"],[0.7777777777777778,\"#fb9f3a\"],[0.8888888888888888,\"#fdca26\"],[1.0,\"#f0f921\"]]},\"colorway\":[\"#636efa\",\"#EF553B\",\"#00cc96\",\"#ab63fa\",\"#FFA15A\",\"#19d3f3\",\"#FF6692\",\"#B6E880\",\"#FF97FF\",\"#FECB52\"],\"font\":{\"color\":\"#2a3f5f\"},\"geo\":{\"bgcolor\":\"white\",\"lakecolor\":\"white\",\"landcolor\":\"#E5ECF6\",\"showlakes\":true,\"showland\":true,\"subunitcolor\":\"white\"},\"hoverlabel\":{\"align\":\"left\"},\"hovermode\":\"closest\",\"mapbox\":{\"style\":\"light\"},\"paper_bgcolor\":\"white\",\"plot_bgcolor\":\"#E5ECF6\",\"polar\":{\"angularaxis\":{\"gridcolor\":\"white\",\"linecolor\":\"white\",\"ticks\":\"\"},\"bgcolor\":\"#E5ECF6\",\"radialaxis\":{\"gridcolor\":\"white\",\"linecolor\":\"white\",\"ticks\":\"\"}},\"scene\":{\"xaxis\":{\"backgroundcolor\":\"#E5ECF6\",\"gridcolor\":\"white\",\"gridwidth\":2,\"linecolor\":\"white\",\"showbackground\":true,\"ticks\":\"\",\"zerolinecolor\":\"white\"},\"yaxis\":{\"backgroundcolor\":\"#E5ECF6\",\"gridcolor\":\"white\",\"gridwidth\":2,\"linecolor\":\"white\",\"showbackground\":true,\"ticks\":\"\",\"zerolinecolor\":\"white\"},\"zaxis\":{\"backgroundcolor\":\"#E5ECF6\",\"gridcolor\":\"white\",\"gridwidth\":2,\"linecolor\":\"white\",\"showbackground\":true,\"ticks\":\"\",\"zerolinecolor\":\"white\"}},\"shapedefaults\":{\"line\":{\"color\":\"#2a3f5f\"}},\"ternary\":{\"aaxis\":{\"gridcolor\":\"white\",\"linecolor\":\"white\",\"ticks\":\"\"},\"baxis\":{\"gridcolor\":\"white\",\"linecolor\":\"white\",\"ticks\":\"\"},\"bgcolor\":\"#E5ECF6\",\"caxis\":{\"gridcolor\":\"white\",\"linecolor\":\"white\",\"ticks\":\"\"}},\"title\":{\"x\":0.05},\"xaxis\":{\"automargin\":true,\"gridcolor\":\"white\",\"linecolor\":\"white\",\"ticks\":\"\",\"title\":{\"standoff\":15},\"zerolinecolor\":\"white\",\"zerolinewidth\":2},\"yaxis\":{\"automargin\":true,\"gridcolor\":\"white\",\"linecolor\":\"white\",\"ticks\":\"\",\"title\":{\"standoff\":15},\"zerolinecolor\":\"white\",\"zerolinewidth\":2}}},\"title\":{\"text\":\"Percentage of female quotation, UK (2015-2020)\"},\"xaxis\":{\"categoryorder\":\"total descending\"}},                        {\"responsive\": true}                    ).then(function(){\n",
       "                            \n",
       "var gd = document.getElementById('30ce0123-c80b-4d22-8bf4-d750a4e2ba78');\n",
       "var x = new MutationObserver(function (mutations, observer) {{\n",
       "        var display = window.getComputedStyle(gd).display;\n",
       "        if (!display || display === 'none') {{\n",
       "            console.log([gd, 'removed!']);\n",
       "            Plotly.purge(gd);\n",
       "            observer.disconnect();\n",
       "        }}\n",
       "}});\n",
       "\n",
       "// Listen for the removal of the full notebook cells\n",
       "var notebookContainer = gd.closest('#notebook-container');\n",
       "if (notebookContainer) {{\n",
       "    x.observe(notebookContainer, {childList: true});\n",
       "}}\n",
       "\n",
       "// Listen for the clearing of the current output cell\n",
       "var outputEl = gd.closest('.output');\n",
       "if (outputEl) {{\n",
       "    x.observe(outputEl, {childList: true});\n",
       "}}\n",
       "\n",
       "                        })                };                });            </script>        </div>"
      ]
     },
     "metadata": {},
     "output_type": "display_data"
    },
    {
     "data": {
      "application/vnd.plotly.v1+json": {
       "config": {
        "plotlyServerURL": "https://plot.ly"
       },
       "data": [
        {
         "marker": {
          "color": "rgb(248, 156, 116)"
         },
         "name": "Female percentage",
         "type": "bar",
         "x": [
          "The Sun",
          "The Guardian",
          "The Times",
          "Metro",
          "Evening Standard",
          "Daily Mirror",
          "The Daily Telegraph",
          "Daily Express",
          "Daily Star",
          "i",
          "Financial Times",
          "Daily Mail",
          "Daily Record",
          "City A.M."
         ],
         "y": [
          0.03316402227225917,
          0.12039578653710158,
          0.24580446581033902,
          0.5185595932349942,
          0.2170909808565226,
          0.3914768292388532,
          0.227029421536417,
          0.08755034144633164,
          0.7860040567951319,
          0.17302464637007325,
          0.34815711837986163,
          0.4795375978789519,
          0.2199279125175637,
          0.42732847795046686
         ]
        }
       ],
       "layout": {
        "barmode": "stack",
        "template": {
         "data": {
          "bar": [
           {
            "error_x": {
             "color": "#2a3f5f"
            },
            "error_y": {
             "color": "#2a3f5f"
            },
            "marker": {
             "line": {
              "color": "#E5ECF6",
              "width": 0.5
             },
             "pattern": {
              "fillmode": "overlay",
              "size": 10,
              "solidity": 0.2
             }
            },
            "type": "bar"
           }
          ],
          "barpolar": [
           {
            "marker": {
             "line": {
              "color": "#E5ECF6",
              "width": 0.5
             },
             "pattern": {
              "fillmode": "overlay",
              "size": 10,
              "solidity": 0.2
             }
            },
            "type": "barpolar"
           }
          ],
          "carpet": [
           {
            "aaxis": {
             "endlinecolor": "#2a3f5f",
             "gridcolor": "white",
             "linecolor": "white",
             "minorgridcolor": "white",
             "startlinecolor": "#2a3f5f"
            },
            "baxis": {
             "endlinecolor": "#2a3f5f",
             "gridcolor": "white",
             "linecolor": "white",
             "minorgridcolor": "white",
             "startlinecolor": "#2a3f5f"
            },
            "type": "carpet"
           }
          ],
          "choropleth": [
           {
            "colorbar": {
             "outlinewidth": 0,
             "ticks": ""
            },
            "type": "choropleth"
           }
          ],
          "contour": [
           {
            "colorbar": {
             "outlinewidth": 0,
             "ticks": ""
            },
            "colorscale": [
             [
              0,
              "#0d0887"
             ],
             [
              0.1111111111111111,
              "#46039f"
             ],
             [
              0.2222222222222222,
              "#7201a8"
             ],
             [
              0.3333333333333333,
              "#9c179e"
             ],
             [
              0.4444444444444444,
              "#bd3786"
             ],
             [
              0.5555555555555556,
              "#d8576b"
             ],
             [
              0.6666666666666666,
              "#ed7953"
             ],
             [
              0.7777777777777778,
              "#fb9f3a"
             ],
             [
              0.8888888888888888,
              "#fdca26"
             ],
             [
              1,
              "#f0f921"
             ]
            ],
            "type": "contour"
           }
          ],
          "contourcarpet": [
           {
            "colorbar": {
             "outlinewidth": 0,
             "ticks": ""
            },
            "type": "contourcarpet"
           }
          ],
          "heatmap": [
           {
            "colorbar": {
             "outlinewidth": 0,
             "ticks": ""
            },
            "colorscale": [
             [
              0,
              "#0d0887"
             ],
             [
              0.1111111111111111,
              "#46039f"
             ],
             [
              0.2222222222222222,
              "#7201a8"
             ],
             [
              0.3333333333333333,
              "#9c179e"
             ],
             [
              0.4444444444444444,
              "#bd3786"
             ],
             [
              0.5555555555555556,
              "#d8576b"
             ],
             [
              0.6666666666666666,
              "#ed7953"
             ],
             [
              0.7777777777777778,
              "#fb9f3a"
             ],
             [
              0.8888888888888888,
              "#fdca26"
             ],
             [
              1,
              "#f0f921"
             ]
            ],
            "type": "heatmap"
           }
          ],
          "heatmapgl": [
           {
            "colorbar": {
             "outlinewidth": 0,
             "ticks": ""
            },
            "colorscale": [
             [
              0,
              "#0d0887"
             ],
             [
              0.1111111111111111,
              "#46039f"
             ],
             [
              0.2222222222222222,
              "#7201a8"
             ],
             [
              0.3333333333333333,
              "#9c179e"
             ],
             [
              0.4444444444444444,
              "#bd3786"
             ],
             [
              0.5555555555555556,
              "#d8576b"
             ],
             [
              0.6666666666666666,
              "#ed7953"
             ],
             [
              0.7777777777777778,
              "#fb9f3a"
             ],
             [
              0.8888888888888888,
              "#fdca26"
             ],
             [
              1,
              "#f0f921"
             ]
            ],
            "type": "heatmapgl"
           }
          ],
          "histogram": [
           {
            "marker": {
             "pattern": {
              "fillmode": "overlay",
              "size": 10,
              "solidity": 0.2
             }
            },
            "type": "histogram"
           }
          ],
          "histogram2d": [
           {
            "colorbar": {
             "outlinewidth": 0,
             "ticks": ""
            },
            "colorscale": [
             [
              0,
              "#0d0887"
             ],
             [
              0.1111111111111111,
              "#46039f"
             ],
             [
              0.2222222222222222,
              "#7201a8"
             ],
             [
              0.3333333333333333,
              "#9c179e"
             ],
             [
              0.4444444444444444,
              "#bd3786"
             ],
             [
              0.5555555555555556,
              "#d8576b"
             ],
             [
              0.6666666666666666,
              "#ed7953"
             ],
             [
              0.7777777777777778,
              "#fb9f3a"
             ],
             [
              0.8888888888888888,
              "#fdca26"
             ],
             [
              1,
              "#f0f921"
             ]
            ],
            "type": "histogram2d"
           }
          ],
          "histogram2dcontour": [
           {
            "colorbar": {
             "outlinewidth": 0,
             "ticks": ""
            },
            "colorscale": [
             [
              0,
              "#0d0887"
             ],
             [
              0.1111111111111111,
              "#46039f"
             ],
             [
              0.2222222222222222,
              "#7201a8"
             ],
             [
              0.3333333333333333,
              "#9c179e"
             ],
             [
              0.4444444444444444,
              "#bd3786"
             ],
             [
              0.5555555555555556,
              "#d8576b"
             ],
             [
              0.6666666666666666,
              "#ed7953"
             ],
             [
              0.7777777777777778,
              "#fb9f3a"
             ],
             [
              0.8888888888888888,
              "#fdca26"
             ],
             [
              1,
              "#f0f921"
             ]
            ],
            "type": "histogram2dcontour"
           }
          ],
          "mesh3d": [
           {
            "colorbar": {
             "outlinewidth": 0,
             "ticks": ""
            },
            "type": "mesh3d"
           }
          ],
          "parcoords": [
           {
            "line": {
             "colorbar": {
              "outlinewidth": 0,
              "ticks": ""
             }
            },
            "type": "parcoords"
           }
          ],
          "pie": [
           {
            "automargin": true,
            "type": "pie"
           }
          ],
          "scatter": [
           {
            "marker": {
             "colorbar": {
              "outlinewidth": 0,
              "ticks": ""
             }
            },
            "type": "scatter"
           }
          ],
          "scatter3d": [
           {
            "line": {
             "colorbar": {
              "outlinewidth": 0,
              "ticks": ""
             }
            },
            "marker": {
             "colorbar": {
              "outlinewidth": 0,
              "ticks": ""
             }
            },
            "type": "scatter3d"
           }
          ],
          "scattercarpet": [
           {
            "marker": {
             "colorbar": {
              "outlinewidth": 0,
              "ticks": ""
             }
            },
            "type": "scattercarpet"
           }
          ],
          "scattergeo": [
           {
            "marker": {
             "colorbar": {
              "outlinewidth": 0,
              "ticks": ""
             }
            },
            "type": "scattergeo"
           }
          ],
          "scattergl": [
           {
            "marker": {
             "colorbar": {
              "outlinewidth": 0,
              "ticks": ""
             }
            },
            "type": "scattergl"
           }
          ],
          "scattermapbox": [
           {
            "marker": {
             "colorbar": {
              "outlinewidth": 0,
              "ticks": ""
             }
            },
            "type": "scattermapbox"
           }
          ],
          "scatterpolar": [
           {
            "marker": {
             "colorbar": {
              "outlinewidth": 0,
              "ticks": ""
             }
            },
            "type": "scatterpolar"
           }
          ],
          "scatterpolargl": [
           {
            "marker": {
             "colorbar": {
              "outlinewidth": 0,
              "ticks": ""
             }
            },
            "type": "scatterpolargl"
           }
          ],
          "scatterternary": [
           {
            "marker": {
             "colorbar": {
              "outlinewidth": 0,
              "ticks": ""
             }
            },
            "type": "scatterternary"
           }
          ],
          "surface": [
           {
            "colorbar": {
             "outlinewidth": 0,
             "ticks": ""
            },
            "colorscale": [
             [
              0,
              "#0d0887"
             ],
             [
              0.1111111111111111,
              "#46039f"
             ],
             [
              0.2222222222222222,
              "#7201a8"
             ],
             [
              0.3333333333333333,
              "#9c179e"
             ],
             [
              0.4444444444444444,
              "#bd3786"
             ],
             [
              0.5555555555555556,
              "#d8576b"
             ],
             [
              0.6666666666666666,
              "#ed7953"
             ],
             [
              0.7777777777777778,
              "#fb9f3a"
             ],
             [
              0.8888888888888888,
              "#fdca26"
             ],
             [
              1,
              "#f0f921"
             ]
            ],
            "type": "surface"
           }
          ],
          "table": [
           {
            "cells": {
             "fill": {
              "color": "#EBF0F8"
             },
             "line": {
              "color": "white"
             }
            },
            "header": {
             "fill": {
              "color": "#C8D4E3"
             },
             "line": {
              "color": "white"
             }
            },
            "type": "table"
           }
          ]
         },
         "layout": {
          "annotationdefaults": {
           "arrowcolor": "#2a3f5f",
           "arrowhead": 0,
           "arrowwidth": 1
          },
          "autotypenumbers": "strict",
          "coloraxis": {
           "colorbar": {
            "outlinewidth": 0,
            "ticks": ""
           }
          },
          "colorscale": {
           "diverging": [
            [
             0,
             "#8e0152"
            ],
            [
             0.1,
             "#c51b7d"
            ],
            [
             0.2,
             "#de77ae"
            ],
            [
             0.3,
             "#f1b6da"
            ],
            [
             0.4,
             "#fde0ef"
            ],
            [
             0.5,
             "#f7f7f7"
            ],
            [
             0.6,
             "#e6f5d0"
            ],
            [
             0.7,
             "#b8e186"
            ],
            [
             0.8,
             "#7fbc41"
            ],
            [
             0.9,
             "#4d9221"
            ],
            [
             1,
             "#276419"
            ]
           ],
           "sequential": [
            [
             0,
             "#0d0887"
            ],
            [
             0.1111111111111111,
             "#46039f"
            ],
            [
             0.2222222222222222,
             "#7201a8"
            ],
            [
             0.3333333333333333,
             "#9c179e"
            ],
            [
             0.4444444444444444,
             "#bd3786"
            ],
            [
             0.5555555555555556,
             "#d8576b"
            ],
            [
             0.6666666666666666,
             "#ed7953"
            ],
            [
             0.7777777777777778,
             "#fb9f3a"
            ],
            [
             0.8888888888888888,
             "#fdca26"
            ],
            [
             1,
             "#f0f921"
            ]
           ],
           "sequentialminus": [
            [
             0,
             "#0d0887"
            ],
            [
             0.1111111111111111,
             "#46039f"
            ],
            [
             0.2222222222222222,
             "#7201a8"
            ],
            [
             0.3333333333333333,
             "#9c179e"
            ],
            [
             0.4444444444444444,
             "#bd3786"
            ],
            [
             0.5555555555555556,
             "#d8576b"
            ],
            [
             0.6666666666666666,
             "#ed7953"
            ],
            [
             0.7777777777777778,
             "#fb9f3a"
            ],
            [
             0.8888888888888888,
             "#fdca26"
            ],
            [
             1,
             "#f0f921"
            ]
           ]
          },
          "colorway": [
           "#636efa",
           "#EF553B",
           "#00cc96",
           "#ab63fa",
           "#FFA15A",
           "#19d3f3",
           "#FF6692",
           "#B6E880",
           "#FF97FF",
           "#FECB52"
          ],
          "font": {
           "color": "#2a3f5f"
          },
          "geo": {
           "bgcolor": "white",
           "lakecolor": "white",
           "landcolor": "#E5ECF6",
           "showlakes": true,
           "showland": true,
           "subunitcolor": "white"
          },
          "hoverlabel": {
           "align": "left"
          },
          "hovermode": "closest",
          "mapbox": {
           "style": "light"
          },
          "paper_bgcolor": "white",
          "plot_bgcolor": "#E5ECF6",
          "polar": {
           "angularaxis": {
            "gridcolor": "white",
            "linecolor": "white",
            "ticks": ""
           },
           "bgcolor": "#E5ECF6",
           "radialaxis": {
            "gridcolor": "white",
            "linecolor": "white",
            "ticks": ""
           }
          },
          "scene": {
           "xaxis": {
            "backgroundcolor": "#E5ECF6",
            "gridcolor": "white",
            "gridwidth": 2,
            "linecolor": "white",
            "showbackground": true,
            "ticks": "",
            "zerolinecolor": "white"
           },
           "yaxis": {
            "backgroundcolor": "#E5ECF6",
            "gridcolor": "white",
            "gridwidth": 2,
            "linecolor": "white",
            "showbackground": true,
            "ticks": "",
            "zerolinecolor": "white"
           },
           "zaxis": {
            "backgroundcolor": "#E5ECF6",
            "gridcolor": "white",
            "gridwidth": 2,
            "linecolor": "white",
            "showbackground": true,
            "ticks": "",
            "zerolinecolor": "white"
           }
          },
          "shapedefaults": {
           "line": {
            "color": "#2a3f5f"
           }
          },
          "ternary": {
           "aaxis": {
            "gridcolor": "white",
            "linecolor": "white",
            "ticks": ""
           },
           "baxis": {
            "gridcolor": "white",
            "linecolor": "white",
            "ticks": ""
           },
           "bgcolor": "#E5ECF6",
           "caxis": {
            "gridcolor": "white",
            "linecolor": "white",
            "ticks": ""
           }
          },
          "title": {
           "x": 0.05
          },
          "xaxis": {
           "automargin": true,
           "gridcolor": "white",
           "linecolor": "white",
           "ticks": "",
           "title": {
            "standoff": 15
           },
           "zerolinecolor": "white",
           "zerolinewidth": 2
          },
          "yaxis": {
           "automargin": true,
           "gridcolor": "white",
           "linecolor": "white",
           "ticks": "",
           "title": {
            "standoff": 15
           },
           "zerolinecolor": "white",
           "zerolinewidth": 2
          }
         }
        },
        "title": {
         "text": "Percentage of female quotation, UK (2015-2020)"
        },
        "xaxis": {
         "categoryorder": "total descending"
        }
       }
      },
      "text/html": [
       "<div>                            <div id=\"7d841364-69ac-4076-a2cf-1ac9aec30c10\" class=\"plotly-graph-div\" style=\"height:525px; width:100%;\"></div>            <script type=\"text/javascript\">                require([\"plotly\"], function(Plotly) {                    window.PLOTLYENV=window.PLOTLYENV || {};                                    if (document.getElementById(\"7d841364-69ac-4076-a2cf-1ac9aec30c10\")) {                    Plotly.newPlot(                        \"7d841364-69ac-4076-a2cf-1ac9aec30c10\",                        [{\"marker\":{\"color\":\"rgb(248, 156, 116)\"},\"name\":\"Female percentage\",\"type\":\"bar\",\"x\":[\"The Sun\",\"The Guardian\",\"The Times\",\"Metro\",\"Evening Standard\",\"Daily Mirror\",\"The Daily Telegraph\",\"Daily Express\",\"Daily Star\",\"i\",\"Financial Times\",\"Daily Mail\",\"Daily Record\",\"City A.M.\"],\"y\":[0.03316402227225917,0.12039578653710158,0.24580446581033902,0.5185595932349942,0.2170909808565226,0.3914768292388532,0.227029421536417,0.08755034144633164,0.7860040567951319,0.17302464637007325,0.34815711837986163,0.4795375978789519,0.2199279125175637,0.42732847795046686]}],                        {\"barmode\":\"stack\",\"template\":{\"data\":{\"bar\":[{\"error_x\":{\"color\":\"#2a3f5f\"},\"error_y\":{\"color\":\"#2a3f5f\"},\"marker\":{\"line\":{\"color\":\"#E5ECF6\",\"width\":0.5},\"pattern\":{\"fillmode\":\"overlay\",\"size\":10,\"solidity\":0.2}},\"type\":\"bar\"}],\"barpolar\":[{\"marker\":{\"line\":{\"color\":\"#E5ECF6\",\"width\":0.5},\"pattern\":{\"fillmode\":\"overlay\",\"size\":10,\"solidity\":0.2}},\"type\":\"barpolar\"}],\"carpet\":[{\"aaxis\":{\"endlinecolor\":\"#2a3f5f\",\"gridcolor\":\"white\",\"linecolor\":\"white\",\"minorgridcolor\":\"white\",\"startlinecolor\":\"#2a3f5f\"},\"baxis\":{\"endlinecolor\":\"#2a3f5f\",\"gridcolor\":\"white\",\"linecolor\":\"white\",\"minorgridcolor\":\"white\",\"startlinecolor\":\"#2a3f5f\"},\"type\":\"carpet\"}],\"choropleth\":[{\"colorbar\":{\"outlinewidth\":0,\"ticks\":\"\"},\"type\":\"choropleth\"}],\"contour\":[{\"colorbar\":{\"outlinewidth\":0,\"ticks\":\"\"},\"colorscale\":[[0.0,\"#0d0887\"],[0.1111111111111111,\"#46039f\"],[0.2222222222222222,\"#7201a8\"],[0.3333333333333333,\"#9c179e\"],[0.4444444444444444,\"#bd3786\"],[0.5555555555555556,\"#d8576b\"],[0.6666666666666666,\"#ed7953\"],[0.7777777777777778,\"#fb9f3a\"],[0.8888888888888888,\"#fdca26\"],[1.0,\"#f0f921\"]],\"type\":\"contour\"}],\"contourcarpet\":[{\"colorbar\":{\"outlinewidth\":0,\"ticks\":\"\"},\"type\":\"contourcarpet\"}],\"heatmap\":[{\"colorbar\":{\"outlinewidth\":0,\"ticks\":\"\"},\"colorscale\":[[0.0,\"#0d0887\"],[0.1111111111111111,\"#46039f\"],[0.2222222222222222,\"#7201a8\"],[0.3333333333333333,\"#9c179e\"],[0.4444444444444444,\"#bd3786\"],[0.5555555555555556,\"#d8576b\"],[0.6666666666666666,\"#ed7953\"],[0.7777777777777778,\"#fb9f3a\"],[0.8888888888888888,\"#fdca26\"],[1.0,\"#f0f921\"]],\"type\":\"heatmap\"}],\"heatmapgl\":[{\"colorbar\":{\"outlinewidth\":0,\"ticks\":\"\"},\"colorscale\":[[0.0,\"#0d0887\"],[0.1111111111111111,\"#46039f\"],[0.2222222222222222,\"#7201a8\"],[0.3333333333333333,\"#9c179e\"],[0.4444444444444444,\"#bd3786\"],[0.5555555555555556,\"#d8576b\"],[0.6666666666666666,\"#ed7953\"],[0.7777777777777778,\"#fb9f3a\"],[0.8888888888888888,\"#fdca26\"],[1.0,\"#f0f921\"]],\"type\":\"heatmapgl\"}],\"histogram\":[{\"marker\":{\"pattern\":{\"fillmode\":\"overlay\",\"size\":10,\"solidity\":0.2}},\"type\":\"histogram\"}],\"histogram2d\":[{\"colorbar\":{\"outlinewidth\":0,\"ticks\":\"\"},\"colorscale\":[[0.0,\"#0d0887\"],[0.1111111111111111,\"#46039f\"],[0.2222222222222222,\"#7201a8\"],[0.3333333333333333,\"#9c179e\"],[0.4444444444444444,\"#bd3786\"],[0.5555555555555556,\"#d8576b\"],[0.6666666666666666,\"#ed7953\"],[0.7777777777777778,\"#fb9f3a\"],[0.8888888888888888,\"#fdca26\"],[1.0,\"#f0f921\"]],\"type\":\"histogram2d\"}],\"histogram2dcontour\":[{\"colorbar\":{\"outlinewidth\":0,\"ticks\":\"\"},\"colorscale\":[[0.0,\"#0d0887\"],[0.1111111111111111,\"#46039f\"],[0.2222222222222222,\"#7201a8\"],[0.3333333333333333,\"#9c179e\"],[0.4444444444444444,\"#bd3786\"],[0.5555555555555556,\"#d8576b\"],[0.6666666666666666,\"#ed7953\"],[0.7777777777777778,\"#fb9f3a\"],[0.8888888888888888,\"#fdca26\"],[1.0,\"#f0f921\"]],\"type\":\"histogram2dcontour\"}],\"mesh3d\":[{\"colorbar\":{\"outlinewidth\":0,\"ticks\":\"\"},\"type\":\"mesh3d\"}],\"parcoords\":[{\"line\":{\"colorbar\":{\"outlinewidth\":0,\"ticks\":\"\"}},\"type\":\"parcoords\"}],\"pie\":[{\"automargin\":true,\"type\":\"pie\"}],\"scatter\":[{\"marker\":{\"colorbar\":{\"outlinewidth\":0,\"ticks\":\"\"}},\"type\":\"scatter\"}],\"scatter3d\":[{\"line\":{\"colorbar\":{\"outlinewidth\":0,\"ticks\":\"\"}},\"marker\":{\"colorbar\":{\"outlinewidth\":0,\"ticks\":\"\"}},\"type\":\"scatter3d\"}],\"scattercarpet\":[{\"marker\":{\"colorbar\":{\"outlinewidth\":0,\"ticks\":\"\"}},\"type\":\"scattercarpet\"}],\"scattergeo\":[{\"marker\":{\"colorbar\":{\"outlinewidth\":0,\"ticks\":\"\"}},\"type\":\"scattergeo\"}],\"scattergl\":[{\"marker\":{\"colorbar\":{\"outlinewidth\":0,\"ticks\":\"\"}},\"type\":\"scattergl\"}],\"scattermapbox\":[{\"marker\":{\"colorbar\":{\"outlinewidth\":0,\"ticks\":\"\"}},\"type\":\"scattermapbox\"}],\"scatterpolar\":[{\"marker\":{\"colorbar\":{\"outlinewidth\":0,\"ticks\":\"\"}},\"type\":\"scatterpolar\"}],\"scatterpolargl\":[{\"marker\":{\"colorbar\":{\"outlinewidth\":0,\"ticks\":\"\"}},\"type\":\"scatterpolargl\"}],\"scatterternary\":[{\"marker\":{\"colorbar\":{\"outlinewidth\":0,\"ticks\":\"\"}},\"type\":\"scatterternary\"}],\"surface\":[{\"colorbar\":{\"outlinewidth\":0,\"ticks\":\"\"},\"colorscale\":[[0.0,\"#0d0887\"],[0.1111111111111111,\"#46039f\"],[0.2222222222222222,\"#7201a8\"],[0.3333333333333333,\"#9c179e\"],[0.4444444444444444,\"#bd3786\"],[0.5555555555555556,\"#d8576b\"],[0.6666666666666666,\"#ed7953\"],[0.7777777777777778,\"#fb9f3a\"],[0.8888888888888888,\"#fdca26\"],[1.0,\"#f0f921\"]],\"type\":\"surface\"}],\"table\":[{\"cells\":{\"fill\":{\"color\":\"#EBF0F8\"},\"line\":{\"color\":\"white\"}},\"header\":{\"fill\":{\"color\":\"#C8D4E3\"},\"line\":{\"color\":\"white\"}},\"type\":\"table\"}]},\"layout\":{\"annotationdefaults\":{\"arrowcolor\":\"#2a3f5f\",\"arrowhead\":0,\"arrowwidth\":1},\"autotypenumbers\":\"strict\",\"coloraxis\":{\"colorbar\":{\"outlinewidth\":0,\"ticks\":\"\"}},\"colorscale\":{\"diverging\":[[0,\"#8e0152\"],[0.1,\"#c51b7d\"],[0.2,\"#de77ae\"],[0.3,\"#f1b6da\"],[0.4,\"#fde0ef\"],[0.5,\"#f7f7f7\"],[0.6,\"#e6f5d0\"],[0.7,\"#b8e186\"],[0.8,\"#7fbc41\"],[0.9,\"#4d9221\"],[1,\"#276419\"]],\"sequential\":[[0.0,\"#0d0887\"],[0.1111111111111111,\"#46039f\"],[0.2222222222222222,\"#7201a8\"],[0.3333333333333333,\"#9c179e\"],[0.4444444444444444,\"#bd3786\"],[0.5555555555555556,\"#d8576b\"],[0.6666666666666666,\"#ed7953\"],[0.7777777777777778,\"#fb9f3a\"],[0.8888888888888888,\"#fdca26\"],[1.0,\"#f0f921\"]],\"sequentialminus\":[[0.0,\"#0d0887\"],[0.1111111111111111,\"#46039f\"],[0.2222222222222222,\"#7201a8\"],[0.3333333333333333,\"#9c179e\"],[0.4444444444444444,\"#bd3786\"],[0.5555555555555556,\"#d8576b\"],[0.6666666666666666,\"#ed7953\"],[0.7777777777777778,\"#fb9f3a\"],[0.8888888888888888,\"#fdca26\"],[1.0,\"#f0f921\"]]},\"colorway\":[\"#636efa\",\"#EF553B\",\"#00cc96\",\"#ab63fa\",\"#FFA15A\",\"#19d3f3\",\"#FF6692\",\"#B6E880\",\"#FF97FF\",\"#FECB52\"],\"font\":{\"color\":\"#2a3f5f\"},\"geo\":{\"bgcolor\":\"white\",\"lakecolor\":\"white\",\"landcolor\":\"#E5ECF6\",\"showlakes\":true,\"showland\":true,\"subunitcolor\":\"white\"},\"hoverlabel\":{\"align\":\"left\"},\"hovermode\":\"closest\",\"mapbox\":{\"style\":\"light\"},\"paper_bgcolor\":\"white\",\"plot_bgcolor\":\"#E5ECF6\",\"polar\":{\"angularaxis\":{\"gridcolor\":\"white\",\"linecolor\":\"white\",\"ticks\":\"\"},\"bgcolor\":\"#E5ECF6\",\"radialaxis\":{\"gridcolor\":\"white\",\"linecolor\":\"white\",\"ticks\":\"\"}},\"scene\":{\"xaxis\":{\"backgroundcolor\":\"#E5ECF6\",\"gridcolor\":\"white\",\"gridwidth\":2,\"linecolor\":\"white\",\"showbackground\":true,\"ticks\":\"\",\"zerolinecolor\":\"white\"},\"yaxis\":{\"backgroundcolor\":\"#E5ECF6\",\"gridcolor\":\"white\",\"gridwidth\":2,\"linecolor\":\"white\",\"showbackground\":true,\"ticks\":\"\",\"zerolinecolor\":\"white\"},\"zaxis\":{\"backgroundcolor\":\"#E5ECF6\",\"gridcolor\":\"white\",\"gridwidth\":2,\"linecolor\":\"white\",\"showbackground\":true,\"ticks\":\"\",\"zerolinecolor\":\"white\"}},\"shapedefaults\":{\"line\":{\"color\":\"#2a3f5f\"}},\"ternary\":{\"aaxis\":{\"gridcolor\":\"white\",\"linecolor\":\"white\",\"ticks\":\"\"},\"baxis\":{\"gridcolor\":\"white\",\"linecolor\":\"white\",\"ticks\":\"\"},\"bgcolor\":\"#E5ECF6\",\"caxis\":{\"gridcolor\":\"white\",\"linecolor\":\"white\",\"ticks\":\"\"}},\"title\":{\"x\":0.05},\"xaxis\":{\"automargin\":true,\"gridcolor\":\"white\",\"linecolor\":\"white\",\"ticks\":\"\",\"title\":{\"standoff\":15},\"zerolinecolor\":\"white\",\"zerolinewidth\":2},\"yaxis\":{\"automargin\":true,\"gridcolor\":\"white\",\"linecolor\":\"white\",\"ticks\":\"\",\"title\":{\"standoff\":15},\"zerolinecolor\":\"white\",\"zerolinewidth\":2}}},\"title\":{\"text\":\"Percentage of female quotation, UK (2015-2020)\"},\"xaxis\":{\"categoryorder\":\"total descending\"}},                        {\"responsive\": true}                    ).then(function(){\n",
       "                            \n",
       "var gd = document.getElementById('7d841364-69ac-4076-a2cf-1ac9aec30c10');\n",
       "var x = new MutationObserver(function (mutations, observer) {{\n",
       "        var display = window.getComputedStyle(gd).display;\n",
       "        if (!display || display === 'none') {{\n",
       "            console.log([gd, 'removed!']);\n",
       "            Plotly.purge(gd);\n",
       "            observer.disconnect();\n",
       "        }}\n",
       "}});\n",
       "\n",
       "// Listen for the removal of the full notebook cells\n",
       "var notebookContainer = gd.closest('#notebook-container');\n",
       "if (notebookContainer) {{\n",
       "    x.observe(notebookContainer, {childList: true});\n",
       "}}\n",
       "\n",
       "// Listen for the clearing of the current output cell\n",
       "var outputEl = gd.closest('.output');\n",
       "if (outputEl) {{\n",
       "    x.observe(outputEl, {childList: true});\n",
       "}}\n",
       "\n",
       "                        })                };                });            </script>        </div>"
      ]
     },
     "metadata": {},
     "output_type": "display_data"
    }
   ],
   "source": [
    "# Set color palette\n",
    "palette_values = px.colors.qualitative.Pastel\n",
    "palette = cycle(palette_values)\n",
    "\n",
    "y = gender_repr_uk_df.groupby('newspaper').sum().reset_index()\n",
    "y['perc_female'] = y['counts_female'] / (y['counts_female'] + y['counts_male'] + y['counts_other']) * 100\n",
    "\n",
    "# Bar plot percentage female quotations for 2015-2020\n",
    "x = newspapers_uk_df['name'].to_list()\n",
    "y1 = y['perc_female']\n",
    "\n",
    "fig = go.Figure(go.Bar(x=x, y=y1, marker_color=palette_values[1], name='Female percentage'))\n",
    "\n",
    "fig.update_layout(barmode='stack',\n",
    "                  xaxis={'categoryorder':'total descending'},\n",
    "                  title_text=\"Percentage of female quotation, UK (2015-2020)\",\n",
    "                 \n",
    ")\n",
    "fig.show()\n",
    "fig.to_html(full_html=False, include_plotlyjs='cdn')  \n",
    "fig.write_html(\"docs/_includes/fig_perc_female_uk_2015-2020.html\", full_html=False, include_plotlyjs='cdn')\n",
    "\n",
    "\n",
    "\n",
    "# Set color palette\n",
    "palette_values = px.colors.qualitative.Pastel\n",
    "palette = cycle(palette_values)\n",
    "\n",
    "y['perc_other'] = y['counts_other'] / (y['counts_female'] + y['counts_male'] + y['counts_other']) * 100\n",
    "\n",
    "# Bar plot percentage female quotations for 2015-2020\n",
    "x = newspapers_uk_df['name'].to_list()\n",
    "y1 = y['perc_other']\n",
    "\n",
    "fig = go.Figure(go.Bar(x=x, y=y1, marker_color=palette_values[2], name='Female percentage'))\n",
    "\n",
    "fig.update_layout(barmode='stack',\n",
    "                  xaxis={'categoryorder':'total descending'},\n",
    "                  title_text=\"Percentage of female quotation, UK (2015-2020)\",\n",
    "                 \n",
    ")\n",
    "fig.show()\n",
    "fig.to_html(full_html=False, include_plotlyjs='cdn')  \n",
    "fig.write_html(\"docs/_includes/fig_perc_female_uk_2015-2020.html\", full_html=False, include_plotlyjs='cdn')"
   ]
  },
  {
   "cell_type": "markdown",
   "metadata": {},
   "source": [
    "What can we state?\n",
    "* Females are best represented in **Daily Mail** and **Daily Star** which are both tabloid newspapers with around 35%.\n",
    "* It seems that are no conclusion nor link can be made between the newspaper theme and the women's representation.\n",
    "* There seems to be a general state of mind of the publisher for each journal which is not necessarily linked to their content.\n",
    "* From 3.2 we know that this state of mind remains constant over the years\n",
    "* We don't know if gender minorities are underrepresented. the percentage fluctuates from 0.05 -0.8 % which corresponds their distrubution in the population (See section ... in the data_preprocessing notebook.)."
   ]
  },
  {
   "cell_type": "markdown",
   "metadata": {},
   "source": [
    "### 3.4 Percentage of female quotes, other countries\n",
    "<a id=\"female_fraction\"></a>\n",
    "\n",
    "This was fun :)\n",
    "As a next step let's have a look at the gender distrubution in the newspapers of other English-speaking countries. First of all can we also assume a time independency as for the UK?"
   ]
  },
  {
   "cell_type": "code",
   "execution_count": 43,
   "metadata": {
    "colab": {
     "base_uri": "https://localhost:8080/",
     "height": 542
    },
    "id": "ZSod_Y7v3BBR",
    "outputId": "27e6bc54-294d-40ba-8f90-4df44b191a25"
   },
   "outputs": [
    {
     "data": {
      "application/vnd.plotly.v1+json": {
       "config": {
        "plotlyServerURL": "https://plot.ly"
       },
       "data": [
        {
         "legendgroup": "0",
         "name": "The Sun",
         "type": "scatter",
         "x": [
          "2015-01",
          "2015-02",
          "2015-03",
          "2015-04",
          "2015-05",
          "2015-06",
          "2015-07",
          "2015-08",
          "2015-09",
          "2015-10",
          "2015-11",
          "2015-12",
          "2016-01",
          "2016-02",
          "2016-03",
          "2016-04",
          "2016-05",
          "2016-06",
          "2016-07",
          "2016-08",
          "2016-09",
          "2016-10",
          "2016-11",
          "2016-12",
          "2017-01",
          "2017-02",
          "2017-03",
          "2017-04",
          "2017-05",
          "2017-06",
          "2017-07",
          "2017-08",
          "2017-09",
          "2017-10",
          "2017-11",
          "2017-12",
          "2018-01",
          "2018-02",
          "2018-03",
          "2018-04",
          "2018-05",
          "2018-06",
          "2018-07",
          "2018-08",
          "2018-09",
          "2018-10",
          "2018-11",
          "2018-12",
          "2019-01",
          "2019-02",
          "2019-03",
          "2019-04",
          "2019-05",
          "2019-06",
          "2019-07",
          "2019-08",
          "2019-09",
          "2019-10",
          "2019-11",
          "2019-12",
          "2020-01",
          "2020-02",
          "2020-03",
          "2020-04"
         ],
         "xaxis": "x",
         "y": [
          0.39325842696629215,
          0.30666666666666664,
          0.30864197530864196,
          0.4,
          0.3968253968253968,
          0.4098360655737705,
          0.4479166666666667,
          0.3816793893129771,
          0.291044776119403,
          0.363013698630137,
          0.4074074074074074,
          0.41353383458646614,
          0.25,
          0.36936936936936937,
          0.2,
          0.40707964601769914,
          0.45955882352941174,
          0.3877551020408163,
          0.368,
          0.35399750156152404,
          0.3413417951042611,
          0.15384615384615385,
          0.27692307692307694,
          0.34044308272448737,
          0.3317972350230415,
          0.3995703544575725,
          0.3595288665765592,
          0.3409020217729393,
          0.347069065583285,
          0.4435326299335678,
          0.37579462102689487,
          0.3645314209310806,
          0.37755775577557754,
          0.34098233853293797,
          0.3700222606975019,
          0.37990762124711314,
          0.40262008733624455,
          0.4259723964868256,
          0.41261819367460056,
          0.42769500438212094,
          0.40821812596006146,
          0.34161629729124693,
          0.38287098194627917,
          0.38385714285714284,
          0.3914697093181201,
          0.38096497025776604,
          0.3741125760649087,
          0.37546690572239655,
          0.36991199119911994,
          0.39063462723351816,
          0.3586406362979031,
          0.37170263788968827,
          0.3607605310604819,
          0.31923727510379823,
          0.3414880711686211,
          0.3751735078326393,
          0.3572443181818182,
          0.3360668420238279,
          0.33488205861329523,
          0.3584466019417476,
          0.37176659314216964,
          0.3470024515266325,
          0.31154567372086794,
          0.3146811070998797
         ],
         "yaxis": "y"
        },
        {
         "legendgroup": "0",
         "name": "The Guardian",
         "type": "scatter",
         "x": [
          "2015-01",
          "2015-02",
          "2015-03",
          "2015-04",
          "2015-05",
          "2015-06",
          "2015-07",
          "2015-08",
          "2015-09",
          "2015-10",
          "2015-11",
          "2015-12",
          "2016-01",
          "2016-02",
          "2016-03",
          "2016-04",
          "2016-05",
          "2016-06",
          "2016-07",
          "2016-08",
          "2016-09",
          "2016-10",
          "2016-11",
          "2016-12",
          "2017-01",
          "2017-02",
          "2017-03",
          "2017-04",
          "2017-05",
          "2017-06",
          "2017-07",
          "2017-08",
          "2017-09",
          "2017-10",
          "2017-11",
          "2017-12",
          "2018-01",
          "2018-02",
          "2018-03",
          "2018-04",
          "2018-05",
          "2018-06",
          "2018-07",
          "2018-08",
          "2018-09",
          "2018-10",
          "2018-11",
          "2018-12",
          "2019-01",
          "2019-02",
          "2019-03",
          "2019-04",
          "2019-05",
          "2019-06",
          "2019-07",
          "2019-08",
          "2019-09",
          "2019-10",
          "2019-11",
          "2019-12",
          "2020-01",
          "2020-02",
          "2020-03",
          "2020-04"
         ],
         "xaxis": "x",
         "y": [
          0.17269254194119926,
          0.18032786885245902,
          0.1767737416191334,
          0.1791907514450867,
          0.16724104298068795,
          0.20346320346320346,
          0.1959005856306242,
          0.18603546548448385,
          0.1929146391377507,
          0.18960343474447164,
          0.1866429840142096,
          0.1969070067150512,
          0.1611185086551265,
          0.18558749503245464,
          0.18269230769230768,
          0.15299026425591097,
          0.20535714285714285,
          0.17178612059158135,
          0.1927007299270073,
          0.18450704225352113,
          0.13548387096774195,
          0.20761904761904762,
          0.15324384787472037,
          0.30980392156862746,
          0.20491803278688525,
          0.19047619047619047,
          0.2562814070351759,
          0.23214285714285715,
          0.12962962962962962,
          0.25824175824175827,
          0.15807962529274006,
          0.21523653491705919,
          0.2053894927536232,
          0.2280211245728487,
          0.2203891708967851,
          0.21434820647419073,
          0.27880184331797236,
          0.1995503091624508,
          0.2466802860061287,
          0.27324973876698017,
          0.24564537740062528,
          0.23746249464209174,
          0.24922440537745605,
          0.25137903861308114,
          0.24393358876117496,
          0.24029574861367836,
          0.24269557021677662,
          0.24659606656580937,
          0.23517786561264822,
          0.18563751831949193,
          0.2862577270565858,
          0.1860559383867045,
          0.22727272727272727,
          0.3128834355828221,
          0.26924987580725285,
          0.2590934527140459,
          0.23837209302325582,
          0.19925373134328359,
          0.2203757225433526,
          0.22556390977443608,
          0.25177025963808025,
          0.21605584642233858,
          0.2540587977182975,
          0.225
         ],
         "yaxis": "y"
        },
        {
         "legendgroup": "0",
         "name": "The Times",
         "type": "scatter",
         "x": [
          "2015-01",
          "2015-02",
          "2015-03",
          "2015-04",
          "2015-05",
          "2015-06",
          "2015-07",
          "2015-08",
          "2015-09",
          "2015-10",
          "2015-11",
          "2015-12",
          "2016-01",
          "2016-02",
          "2016-04",
          "2016-05",
          "2016-06",
          "2016-07",
          "2016-08",
          "2016-09",
          "2016-11",
          "2016-12",
          "2017-02",
          "2017-03",
          "2017-04",
          "2017-05",
          "2017-06",
          "2017-07",
          "2017-08",
          "2017-09",
          "2017-10",
          "2017-11",
          "2017-12",
          "2018-01",
          "2018-02",
          "2018-03",
          "2018-04",
          "2018-05",
          "2018-06",
          "2018-07",
          "2018-08",
          "2018-09",
          "2018-10",
          "2018-11",
          "2018-12",
          "2019-01",
          "2019-02",
          "2019-03",
          "2019-04",
          "2019-05",
          "2019-06",
          "2019-07",
          "2019-08",
          "2019-09",
          "2019-10",
          "2019-11",
          "2019-12",
          "2020-01",
          "2020-02",
          "2020-03",
          "2020-04"
         ],
         "xaxis": "x",
         "y": [
          0.1702127659574468,
          0.13286713286713286,
          0.11538461538461539,
          0.2647058823529412,
          0.13793103448275862,
          0.15730337078651685,
          0.11904761904761904,
          0.20121951219512196,
          0.20155038759689922,
          0.2146118721461187,
          0.14358974358974358,
          0.17813765182186234,
          0.2222222222222222,
          0.21782178217821782,
          0.12121212121212122,
          0.19742489270386265,
          0.2,
          0.22427440633245382,
          0.23169107856191745,
          0.19500594530321047,
          0.4,
          0.16842105263157894,
          0.15625,
          0.1956521739130435,
          0.24603174603174602,
          0.22818791946308725,
          0.30344827586206896,
          0.25675675675675674,
          0.19148936170212766,
          0.12037037037037036,
          0.28205128205128205,
          0.23809523809523808,
          0.07142857142857142,
          0.41935483870967744,
          0.1875,
          0.19444444444444445,
          0.35294117647058826,
          0.1875,
          0.10638297872340426,
          0.22875816993464052,
          0.19281045751633988,
          0.21301775147928995,
          0.21205357142857142,
          0.21651376146788992,
          0.1957547169811321,
          0.2036036036036036,
          0.1975560081466395,
          0.22283609576427257,
          0.2148997134670487,
          0.23539823008849559,
          0.21611001964636542,
          0.2139917695473251,
          0.1867007672634271,
          0.20543293718166383,
          0.19413919413919414,
          0.20386266094420602,
          0.21082621082621084,
          0.23344947735191637,
          0.20689655172413793,
          0.25365853658536586,
          0.11180124223602485
         ],
         "yaxis": "y"
        },
        {
         "legendgroup": "0",
         "name": "Metro",
         "type": "scatter",
         "x": [
          "2015-01",
          "2015-02",
          "2015-03",
          "2015-05",
          "2015-06",
          "2015-08",
          "2015-09",
          "2015-10",
          "2015-11",
          "2015-12",
          "2016-02",
          "2016-04",
          "2016-05",
          "2016-07",
          "2016-08",
          "2016-09",
          "2016-11",
          "2016-12",
          "2017-01",
          "2017-02",
          "2017-03",
          "2017-04",
          "2017-05",
          "2017-06",
          "2017-07",
          "2017-08",
          "2017-09",
          "2017-10",
          "2017-11",
          "2017-12",
          "2018-01",
          "2018-02",
          "2018-03",
          "2018-04",
          "2018-05",
          "2018-06",
          "2018-07",
          "2018-08",
          "2018-09",
          "2018-10",
          "2018-11",
          "2018-12",
          "2019-01",
          "2019-02",
          "2019-03",
          "2019-04",
          "2019-05",
          "2019-06",
          "2019-07",
          "2019-08",
          "2019-09",
          "2019-10",
          "2019-11",
          "2019-12",
          "2020-01",
          "2020-02",
          "2020-03",
          "2020-04"
         ],
         "xaxis": "x",
         "y": [
          0.5,
          0.4,
          0.5,
          0.6666666666666666,
          0.6666666666666666,
          0.2,
          0.125,
          0.2,
          0.36363636363636365,
          0.13333333333333333,
          0.2,
          0.4090909090909091,
          0.4,
          0.28,
          0.18867924528301888,
          0.22641509433962265,
          1,
          0.35294117647058826,
          0.2,
          0.3333333333333333,
          0.42857142857142855,
          0.3253012048192771,
          0.36,
          0.42,
          0.38666666666666666,
          0.39869281045751637,
          0.30701754385964913,
          0.33783783783783783,
          0.36470588235294116,
          0.17647058823529413,
          0.4666666666666667,
          0.4444444444444444,
          0.5,
          0.39473684210526316,
          0.375,
          0.5061728395061729,
          0.28846153846153844,
          0.391304347826087,
          0.4,
          0.20224719101123595,
          0.3567567567567568,
          0.3798449612403101,
          0.22807017543859648,
          0.3048780487804878,
          0.31333333333333335,
          0.4567901234567901,
          0.3197278911564626,
          0.4064516129032258,
          0.42168674698795183,
          0.3020833333333333,
          0.2641509433962264,
          0.3559322033898305,
          0.3375796178343949,
          0.3543307086614173,
          0.2857142857142857,
          0.2857142857142857,
          0.44155844155844154,
          0.26666666666666666
         ],
         "yaxis": "y"
        },
        {
         "legendgroup": "0",
         "name": "Evening Standard",
         "type": "scatter",
         "x": [
          "2015-01",
          "2015-02",
          "2015-03",
          "2015-04",
          "2015-05",
          "2015-06",
          "2015-07",
          "2015-08",
          "2015-09",
          "2015-10",
          "2015-11",
          "2015-12",
          "2016-01",
          "2016-02",
          "2016-03",
          "2016-04",
          "2016-05",
          "2016-06",
          "2016-07",
          "2016-08",
          "2016-09",
          "2016-10",
          "2016-11",
          "2016-12",
          "2017-01",
          "2017-02",
          "2017-03",
          "2017-04",
          "2017-05",
          "2017-06",
          "2017-07",
          "2017-08",
          "2017-09",
          "2017-10",
          "2017-11",
          "2017-12",
          "2018-01",
          "2018-02",
          "2018-03",
          "2018-04",
          "2018-05",
          "2018-06",
          "2018-07",
          "2018-08",
          "2018-09",
          "2018-10",
          "2018-11",
          "2018-12",
          "2019-01",
          "2019-02",
          "2019-03",
          "2019-04",
          "2019-05",
          "2019-06",
          "2019-07",
          "2019-08",
          "2019-09",
          "2019-10",
          "2019-11",
          "2019-12",
          "2020-01",
          "2020-02",
          "2020-03",
          "2020-04"
         ],
         "xaxis": "x",
         "y": [
          0.1638986013986014,
          0.1882396449704142,
          0.18886198547215496,
          0.2266541529798217,
          0.19047619047619047,
          0.22526193247962747,
          0.1769890424011434,
          0.166579452293738,
          0.1762652705061082,
          0.15049879600963192,
          0.17404333794375287,
          0.1487408184679958,
          0.13793103448275862,
          0.20891514500537056,
          0.4,
          0.17346000612932883,
          0.17387934375403694,
          0.29411764705882354,
          0.20454845960597645,
          0.21262905880592547,
          0.20781833860304685,
          0.16666666666666666,
          0.19696969696969696,
          0.16530278232405893,
          0.29310344827586204,
          0.20029455081001474,
          0.18282171480417359,
          0.16897428652161628,
          0.18834785092103384,
          0.19189360354654844,
          0.20590855106888362,
          0.20757850241545894,
          0.18988596926127913,
          0.20236516357206014,
          0.17627118644067796,
          0.1901958099411201,
          0.22961480740370185,
          0.2378660575903418,
          0.19953917050691244,
          0.22013765541740674,
          0.19000725614180575,
          0.17700892857142858,
          0.2042965459140691,
          0.19637030995106036,
          0.17570429993645414,
          0.21925949722913823,
          0.19962931500501968,
          0.19822901992352587,
          0.23293323330832708,
          0.25071736011477763,
          0.2156542658303978,
          0.24385672636401498,
          0.22805970149253732,
          0.21012171684817424,
          0.21073269101501232,
          0.19170146840899907,
          0.18008800880088008,
          0.17735916118713346,
          0.1763380281690141,
          0.20760611937082527,
          0.19680801707339704,
          0.1972615456022279,
          0.19622437971952536,
          0.17732175743225467
         ],
         "yaxis": "y"
        },
        {
         "legendgroup": "0",
         "name": "Daily Mirror",
         "type": "scatter",
         "x": [
          "2015-01",
          "2015-02",
          "2015-03",
          "2015-04",
          "2015-05",
          "2015-06",
          "2015-07",
          "2015-08",
          "2015-09",
          "2015-10",
          "2015-11",
          "2015-12",
          "2016-01",
          "2016-02",
          "2016-03",
          "2016-04",
          "2016-05",
          "2016-06",
          "2016-07",
          "2016-08",
          "2016-09",
          "2016-10",
          "2016-11",
          "2016-12",
          "2017-01",
          "2017-02",
          "2017-03",
          "2017-04",
          "2017-05",
          "2017-06",
          "2017-07",
          "2017-08",
          "2017-09",
          "2017-10",
          "2017-11",
          "2017-12",
          "2018-01",
          "2018-02",
          "2018-03",
          "2018-04",
          "2018-05",
          "2018-06",
          "2018-07",
          "2018-08",
          "2018-09",
          "2018-10",
          "2018-11",
          "2018-12",
          "2019-01",
          "2019-02",
          "2019-03",
          "2019-04",
          "2019-05",
          "2019-06",
          "2019-07",
          "2019-08",
          "2019-09",
          "2019-10",
          "2019-11",
          "2019-12",
          "2020-01",
          "2020-02",
          "2020-03",
          "2020-04"
         ],
         "xaxis": "x",
         "y": [
          0.2781085814360771,
          0.234984520123839,
          0.22559740785743215,
          0.26167907921462424,
          0.2523120701920797,
          0.26864955624850084,
          0.26283748014822655,
          0.2645127850725639,
          0.2625364633976941,
          0.22181959363271644,
          0.20929880357413297,
          0.224089276552078,
          0.1875,
          0.21574848572252667,
          0.4,
          0.24118285404232231,
          0.2562574493444577,
          0.3645833333333333,
          0.2884892086330935,
          0.27075471698113207,
          0.2474053295932679,
          0.2857142857142857,
          0.37,
          0.24750034241884675,
          0.312,
          0.28520935290918975,
          0.24869255591409814,
          0.23336790635649726,
          0.23715368221643382,
          0.26816074188562594,
          0.26003917727717923,
          0.28196223138701976,
          0.2747472620050548,
          0.2757471920807158,
          0.26921815199562604,
          0.26356295735553875,
          0.2913657770800628,
          0.2895762011568882,
          0.2922265352841644,
          0.2866809116809117,
          0.28936071470008123,
          0.27561162079510704,
          0.28581997533908754,
          0.30381660158710166,
          0.2814605520539013,
          0.27847721822541965,
          0.27651288196524865,
          0.292080378250591,
          0.28937007874015747,
          0.2982627578718784,
          0.289759222899659,
          0.2952683702164079,
          0.27316040232927474,
          0.2737393582187295,
          0.306841046277666,
          0.29051946290519465,
          0.28010181496237274,
          0.29699789520327907,
          0.28114675476926354,
          0.28643284393692225,
          0.3142424624700391,
          0.298683404776485,
          0.3199047793444424,
          0.2798869143780291
         ],
         "yaxis": "y"
        },
        {
         "legendgroup": "0",
         "name": "The Daily Telegraph",
         "type": "scatter",
         "x": [
          "2015-01",
          "2015-02",
          "2015-03",
          "2015-04",
          "2015-05",
          "2015-06",
          "2015-07",
          "2015-08",
          "2015-09",
          "2015-10",
          "2015-11",
          "2015-12",
          "2016-01",
          "2016-02",
          "2016-03",
          "2016-04",
          "2016-05",
          "2016-06",
          "2016-07",
          "2016-08",
          "2016-09",
          "2016-10",
          "2016-11",
          "2016-12",
          "2017-01",
          "2017-02",
          "2017-03",
          "2017-04",
          "2017-05",
          "2017-06",
          "2017-07",
          "2017-08",
          "2017-09",
          "2017-10",
          "2017-11",
          "2017-12",
          "2018-01",
          "2018-02",
          "2018-03",
          "2018-04",
          "2018-05",
          "2018-06",
          "2018-07",
          "2018-08",
          "2018-09",
          "2018-10",
          "2018-11",
          "2018-12",
          "2019-01",
          "2019-02",
          "2019-03",
          "2019-04",
          "2019-05",
          "2019-06",
          "2019-07",
          "2019-08",
          "2019-09",
          "2019-10",
          "2019-11",
          "2019-12",
          "2020-01",
          "2020-02",
          "2020-03",
          "2020-04"
         ],
         "xaxis": "x",
         "y": [
          0.15356749094345568,
          0.14304045893719808,
          0.14201570680628273,
          0.15972411289590707,
          0.1635941130906274,
          0.16459310626147255,
          0.16354451694380132,
          0.1759314604502889,
          0.1746511915051241,
          0.16840707430433996,
          0.16859434360489658,
          0.1732082613346499,
          0.20075757575757575,
          0.1719734928074996,
          0.375,
          0.1797165267648273,
          0.1752425137072965,
          0.1728395061728395,
          0.2041875604820973,
          0.18249218401071907,
          0.18062692702980473,
          0.05128205128205128,
          0.18421052631578946,
          0.1785580172737514,
          0.26857142857142857,
          0.18358066060315942,
          0.1816572702242035,
          0.16180692911376252,
          0.18325212651746633,
          0.1795020266357846,
          0.18219110262394794,
          0.21172398138690274,
          0.18760082968425904,
          0.18164469118667592,
          0.16934619506966775,
          0.16977152899824252,
          0.18446491527351302,
          0.18647782835946722,
          0.1708517971442639,
          0.18270924266789187,
          0.16056795705001412,
          0.18107727643179966,
          0.18494673104928336,
          0.16481212707627801,
          0.16360706278026907,
          0.1893758300132802,
          0.18187804556828657,
          0.176406289413941,
          0.2008816120906801,
          0.22608883605317195,
          0.19541263773330336,
          0.1922537187763121,
          0.20212834569493712,
          0.22110515887576135,
          0.20370047128643742,
          0.16382042253521126,
          0.18051205229470244,
          0.1834655316953634,
          0.19334400891178724,
          0.19691879046136196,
          0.20166980244590782,
          0.2083452824777746,
          0.20102007772020725,
          0.18092621664050235
         ],
         "yaxis": "y"
        },
        {
         "legendgroup": "0",
         "name": "Daily Express",
         "type": "scatter",
         "x": [
          "2015-01",
          "2015-02",
          "2015-03",
          "2015-04",
          "2015-05",
          "2015-06",
          "2015-07",
          "2015-08",
          "2015-09",
          "2015-10",
          "2015-11",
          "2015-12",
          "2016-01",
          "2016-02",
          "2016-03",
          "2016-04",
          "2016-05",
          "2016-06",
          "2016-07",
          "2016-08",
          "2016-09",
          "2016-10",
          "2016-11",
          "2016-12",
          "2017-01",
          "2017-02",
          "2017-03",
          "2017-04",
          "2017-05",
          "2017-06",
          "2017-07",
          "2017-08",
          "2017-09",
          "2017-10",
          "2017-11",
          "2017-12",
          "2018-01",
          "2018-02",
          "2018-03",
          "2018-04",
          "2018-05",
          "2018-06",
          "2018-07",
          "2018-08",
          "2018-09",
          "2018-10",
          "2018-11",
          "2018-12",
          "2019-01",
          "2019-02",
          "2019-03",
          "2019-04",
          "2019-05",
          "2019-06",
          "2019-07",
          "2019-08",
          "2019-09",
          "2019-10",
          "2019-11",
          "2019-12",
          "2020-01",
          "2020-02",
          "2020-03",
          "2020-04"
         ],
         "xaxis": "x",
         "y": [
          0.2322689075630252,
          0.25414169897779343,
          0.24064516129032257,
          0.21308016877637131,
          0.155631013016412,
          0.1699552749276506,
          0.13714285714285715,
          0.13805970149253732,
          0.14495028780743066,
          0.17195982627578718,
          0.20157831531995196,
          0.20092177379172896,
          0.15348837209302327,
          0.16280309086064482,
          0.1875,
          0.206858407079646,
          0.20009756097560977,
          0.2229299363057325,
          0.236117381489842,
          0.23795805485134824,
          0.228386749259359,
          0.2608695652173913,
          0.1657754010695187,
          0.20386890787867407,
          0.19014084507042253,
          0.2559836544074723,
          0.2658580560563842,
          0.20159694260560979,
          0.24467565114168005,
          0.227028774652441,
          0.22801894238358328,
          0.1823734729493892,
          0.22535449020931803,
          0.18399415311529327,
          0.18590536135776103,
          0.15655021834061136,
          0.19777270897625118,
          0.20737605804111245,
          0.18321940758611446,
          0.2147636749867233,
          0.2418355686533951,
          0.24640385194101716,
          0.2306933697466242,
          0.19822799763733018,
          0.23493211521380536,
          0.21268524007113218,
          0.14560236511456023,
          0.194775311315647,
          0.23369672943508424,
          0.21011115095016134,
          0.23963679431504145,
          0.2929061784897025,
          0.2697882376062497,
          0.2554429213224283,
          0.24946163436472854,
          0.1795844327176781,
          0.266966929911155,
          0.24768505368403113,
          0.25441996283514734,
          0.26920219878175605,
          0.2600169471008352,
          0.23749146591241588,
          0.2269338754961758,
          0.21869208366428383
         ],
         "yaxis": "y"
        },
        {
         "legendgroup": "0",
         "name": "Daily Star",
         "type": "scatter",
         "x": [
          "2015-01",
          "2015-02",
          "2015-03",
          "2015-04",
          "2015-05",
          "2015-06",
          "2015-07",
          "2015-08",
          "2015-09",
          "2015-10",
          "2015-11",
          "2015-12",
          "2016-01",
          "2016-02",
          "2016-03",
          "2016-04",
          "2016-05",
          "2016-06",
          "2016-07",
          "2016-08",
          "2016-09",
          "2016-10",
          "2016-11",
          "2016-12",
          "2017-01",
          "2017-02",
          "2017-03",
          "2017-04",
          "2017-05",
          "2017-06",
          "2017-07",
          "2017-08",
          "2017-09",
          "2017-10",
          "2017-11",
          "2017-12",
          "2018-01",
          "2018-02",
          "2018-03",
          "2018-04",
          "2018-05",
          "2018-06",
          "2018-07",
          "2018-08",
          "2018-09",
          "2018-10",
          "2018-11",
          "2018-12",
          "2019-01",
          "2019-02",
          "2019-03",
          "2019-04",
          "2019-05",
          "2019-06",
          "2019-07",
          "2019-08",
          "2019-09",
          "2019-10",
          "2019-11",
          "2019-12",
          "2020-01",
          "2020-02",
          "2020-03",
          "2020-04"
         ],
         "xaxis": "x",
         "y": [
          0.23925896728419394,
          0.23779277491067885,
          0.18931101094655506,
          0.18261199696279423,
          0.1711051930758988,
          0.2209991532599492,
          0.15384615384615385,
          0.26356589147286824,
          0.20382165605095542,
          0.18374558303886926,
          0.15447470817120623,
          0.14381563593932323,
          0.10606060606060606,
          0.13783323879750425,
          0.16666666666666666,
          0.17228464419475656,
          0.17829457364341086,
          0.4642857142857143,
          0.19406007424907187,
          0.20341922695738354,
          0.2125588187570988,
          0.045454545454545456,
          0.30303030303030304,
          0.19457714654615882,
          0.36363636363636365,
          0.2634514435695538,
          0.27858223470931487,
          0.256081438392385,
          0.2890572765767774,
          0.3172814207650273,
          0.2667970138642019,
          0.2459954233409611,
          0.23091222945160006,
          0.22436964034301804,
          0.21014799154334038,
          0.19778243931675157,
          0.23834760157630114,
          0.24632411067193677,
          0.2547028963869812,
          0.2413573363071531,
          0.2316289038579302,
          0.22929150511103277,
          0.2599639166803346,
          0.2382500738989063,
          0.2223165040305473,
          0.23274584088288586,
          0.22641509433962265,
          0.19284862932061977,
          0.22008770098141575,
          0.18529345626264898,
          0.22416169039963252,
          0.2127583749109052,
          0.2143318269851517,
          0.22703180212014135,
          0.25774754346182915,
          0.29331476323119776,
          0.32265661799340556,
          0.26772877404313195,
          0.2280481235410307,
          0.24871355060034306,
          0.26253101736972706,
          0.24068698597000485,
          0.25029002320185617,
          0.29693076374018557
         ],
         "yaxis": "y"
        },
        {
         "legendgroup": "0",
         "name": "i",
         "type": "scatter",
         "x": [
          "2015-01",
          "2015-02",
          "2015-03",
          "2015-04",
          "2015-05",
          "2015-06",
          "2015-07",
          "2015-08",
          "2015-09",
          "2015-10",
          "2015-11",
          "2015-12",
          "2016-01",
          "2016-02",
          "2016-04",
          "2016-05",
          "2016-06",
          "2016-07",
          "2016-08",
          "2016-09",
          "2016-11",
          "2016-12",
          "2017-01",
          "2017-02",
          "2017-03",
          "2017-04",
          "2017-05",
          "2017-06",
          "2017-07",
          "2017-08",
          "2017-09",
          "2017-10",
          "2017-11",
          "2017-12",
          "2018-01",
          "2018-02",
          "2018-03",
          "2018-04",
          "2018-05",
          "2018-06",
          "2018-07",
          "2018-08",
          "2018-09",
          "2018-10",
          "2018-11",
          "2018-12",
          "2019-01",
          "2019-02",
          "2019-03",
          "2019-04",
          "2019-05",
          "2019-06",
          "2019-07",
          "2019-08",
          "2019-09",
          "2019-10",
          "2019-11",
          "2019-12",
          "2020-01",
          "2020-02",
          "2020-03",
          "2020-04"
         ],
         "xaxis": "x",
         "y": [
          0.2,
          0.25,
          0.32,
          0.25,
          0.4166666666666667,
          0.3076923076923077,
          0.18518518518518517,
          0.20754716981132076,
          0.25806451612903225,
          0.23255813953488372,
          0.30303030303030304,
          0.39473684210526316,
          1,
          0.19047619047619047,
          0.3076923076923077,
          0.13333333333333333,
          0.4,
          0.28169014084507044,
          0.2916666666666667,
          0.26785714285714285,
          0.4,
          0.3404255319148936,
          0.42857142857142855,
          0.24193548387096775,
          0.31137724550898205,
          0.26582278481012656,
          0.27882173692229556,
          0.32101847229156266,
          0.23034551827741612,
          0.24179829890643986,
          0.24195570413706644,
          0.28171967843411394,
          0.2453846153846154,
          0.2369995398067188,
          0.2774798927613941,
          0.2745318352059925,
          0.2682926829268293,
          0.2703313253012048,
          0.2476664592408214,
          0.2620980837934394,
          0.2515451174289246,
          0.23772434812055537,
          0.2422810333963453,
          0.28033838973162195,
          0.27451547584610936,
          0.27256574271499645,
          0.2943429581614614,
          0.2696999670293439,
          0.2796934865900383,
          0.26952695269526955,
          0.2534067845752392,
          0.26991869918699185,
          0.2753623188405797,
          0.22850412249705537,
          0.21655172413793103,
          0.2463510145959416,
          0.2286652078774617,
          0.2469310670443815,
          0.21307925508878303,
          0.2600297176820208,
          0.19419488597097442,
          0.18875502008032127
         ],
         "yaxis": "y"
        },
        {
         "legendgroup": "0",
         "name": "Financial Times",
         "type": "scatter",
         "x": [
          "2015-01",
          "2015-02",
          "2015-03",
          "2015-04",
          "2015-05",
          "2015-06",
          "2015-07",
          "2015-08",
          "2015-09",
          "2015-10",
          "2015-11",
          "2015-12",
          "2016-02",
          "2016-04",
          "2016-05",
          "2016-06",
          "2016-07",
          "2016-08",
          "2016-09",
          "2016-11",
          "2016-12",
          "2017-02",
          "2017-03",
          "2017-04",
          "2017-05",
          "2017-06",
          "2017-07",
          "2017-08",
          "2017-09",
          "2017-10",
          "2017-11",
          "2017-12",
          "2018-01",
          "2018-02",
          "2018-03",
          "2018-04",
          "2018-05",
          "2018-06",
          "2018-07",
          "2018-08",
          "2018-09",
          "2018-10",
          "2018-11",
          "2018-12",
          "2019-01",
          "2019-02",
          "2019-03",
          "2019-04",
          "2019-05",
          "2019-06",
          "2019-07",
          "2019-08",
          "2019-09",
          "2019-10",
          "2019-11",
          "2019-12",
          "2020-01",
          "2020-02",
          "2020-03",
          "2020-04"
         ],
         "xaxis": "x",
         "y": [
          0.14285714285714285,
          0.1580952380952381,
          0.10956175298804781,
          0.12292358803986711,
          0.11170212765957446,
          0.06818181818181818,
          0.16296296296296298,
          0.20286396181384247,
          0.11283185840707964,
          0.08613138686131387,
          0.1111111111111111,
          0.23711340206185566,
          0.17391304347826086,
          0.07119741100323625,
          0.13547486033519554,
          0.08333333333333333,
          0.17069486404833836,
          0.10416666666666667,
          0.12598425196850394,
          0.09375,
          0.23370786516853934,
          0.1383399209486166,
          0.10204081632653061,
          0.10940499040307101,
          0.13523131672597866,
          0.12777777777777777,
          0.08949416342412451,
          0.06271186440677966,
          0.13464235624123422,
          0.19122609673790777,
          0.1225,
          0.11594202898550725,
          0.1368421052631579,
          0.10443037974683544,
          0.19791666666666666,
          0.11068702290076336,
          0.11627906976744186,
          0.1050080775444265,
          0.08686440677966102,
          0.0958904109589041,
          0.21070234113712374,
          0.08384146341463415,
          0.15568862275449102,
          0.1903485254691689,
          0.18299445471349354,
          0.1835564053537285,
          0.15995115995115994,
          0.13296903460837886,
          0.15,
          0.1244343891402715,
          0.17052023121387283,
          0.06569343065693431,
          0.13513513513513514,
          0.2682926829268293,
          0.1455026455026455,
          0.10726643598615918,
          0.17985611510791366,
          0.13636363636363635,
          0.2126984126984127,
          0.13414634146341464
         ],
         "yaxis": "y"
        },
        {
         "legendgroup": "0",
         "name": "Daily Mail",
         "type": "scatter",
         "x": [
          "2015-01",
          "2015-02",
          "2015-03",
          "2015-04",
          "2015-05",
          "2015-06",
          "2015-07",
          "2015-08",
          "2015-09",
          "2015-10",
          "2015-11",
          "2015-12",
          "2016-01",
          "2016-02",
          "2016-03",
          "2016-04",
          "2016-05",
          "2016-06",
          "2016-07",
          "2016-08",
          "2016-09",
          "2016-11",
          "2016-12",
          "2017-01",
          "2017-02",
          "2017-03",
          "2017-04",
          "2017-05",
          "2017-06",
          "2017-07",
          "2017-08",
          "2017-09",
          "2017-10",
          "2017-11",
          "2017-12",
          "2018-01",
          "2018-02",
          "2018-03",
          "2018-04",
          "2018-05",
          "2018-06",
          "2018-07",
          "2018-08",
          "2018-09",
          "2018-10",
          "2018-11",
          "2018-12",
          "2019-01",
          "2019-02",
          "2019-03",
          "2019-04",
          "2019-05",
          "2019-06",
          "2019-07",
          "2019-08",
          "2019-09",
          "2019-10",
          "2019-11",
          "2019-12",
          "2020-01",
          "2020-02",
          "2020-03",
          "2020-04"
         ],
         "xaxis": "x",
         "y": [
          0.12272727272727273,
          0.1569767441860465,
          0.15600350569675722,
          0.11893764434180139,
          0.09387755102040816,
          0.1903765690376569,
          0.19688385269121814,
          0.13099041533546327,
          0.18689320388349515,
          0.17480314960629922,
          0.15063291139240506,
          0.15857605177993528,
          0.10526315789473684,
          0.3412322274881517,
          1,
          0.141156462585034,
          0.13730569948186527,
          0.37142857142857144,
          0.19796380090497737,
          0.10243183492999262,
          0.13970007892659828,
          0.5333333333333333,
          0.15323224261771748,
          0.42105263157894735,
          0.1214574898785425,
          0.1401315789473684,
          0.14346712211784798,
          0.19767441860465115,
          0.21402550091074682,
          0.15113719735876743,
          0.1642806012884753,
          0.17992831541218637,
          0.24114583333333334,
          0.22329317269076304,
          0.13459879206212252,
          0.14736842105263157,
          0.14310051107325383,
          0.13423351866560762,
          0.0816400580551524,
          0.16141101015499731,
          0.19414893617021275,
          0.1393372982158029,
          0.17940876656472987,
          0.1612453531598513,
          0.16574307304785893,
          0.167658193618172,
          0.19553072625698323,
          0.18922716627634661,
          0.24053295932678823,
          0.1967445152158528,
          0.20443482963764198,
          0.2072892938496583,
          0.21176470588235294,
          0.2390786338363781,
          0.20417515274949083,
          0.21362977283711937,
          0.2077431539187913,
          0.23487374940447833,
          0.23086816720257236,
          0.17132867132867133,
          0.21353196772191185,
          0.22126436781609196,
          0.19099378881987578
         ],
         "yaxis": "y"
        },
        {
         "legendgroup": "0",
         "name": "Daily Record",
         "type": "scatter",
         "x": [
          "2015-01",
          "2015-02",
          "2015-03",
          "2015-04",
          "2015-05",
          "2015-06",
          "2015-07",
          "2015-08",
          "2015-09",
          "2015-10",
          "2015-11",
          "2015-12",
          "2016-01",
          "2016-02",
          "2016-04",
          "2016-05",
          "2016-06",
          "2016-07",
          "2016-08",
          "2016-09",
          "2016-10",
          "2016-11",
          "2016-12",
          "2017-02",
          "2017-03",
          "2017-04",
          "2017-05",
          "2017-06",
          "2017-07",
          "2017-08",
          "2017-09",
          "2017-10",
          "2017-11",
          "2017-12",
          "2018-01",
          "2018-02",
          "2018-03",
          "2018-04",
          "2018-05",
          "2018-06",
          "2018-07",
          "2018-08",
          "2018-09",
          "2018-10",
          "2018-11",
          "2018-12",
          "2019-01",
          "2019-02",
          "2019-03",
          "2019-04",
          "2019-05",
          "2019-06",
          "2019-07",
          "2019-08",
          "2019-09",
          "2019-10",
          "2019-11",
          "2019-12",
          "2020-01",
          "2020-02",
          "2020-03",
          "2020-04"
         ],
         "xaxis": "x",
         "y": [
          0.23197903014416776,
          0.21404109589041095,
          0.20273348519362186,
          0.1974169741697417,
          0.24007009345794392,
          0.2321867321867322,
          0.2703488372093023,
          0.26289350301406567,
          0.24450721908349027,
          0.27118129365320376,
          0.24094424094424094,
          0.25478287276040085,
          0.15714285714285714,
          0.21863799283154123,
          0.24472168905950095,
          0.26259541984732826,
          0.1875,
          0.2724616508400292,
          0.3362944162436548,
          0.2917981072555205,
          0.5,
          0.2857142857142857,
          0.24937308442463083,
          0.25645035183737297,
          0.24126326689101735,
          0.21826710816777042,
          0.3111111111111111,
          0.24952484387727397,
          0.2282575526396094,
          0.25049051667756705,
          0.2500940203083866,
          0.24401650618982118,
          0.2694006309148265,
          0.2481060606060606,
          0.24061196105702365,
          0.19719151478936361,
          0.21571349250416436,
          0.22030366180410837,
          0.20422331501301708,
          0.24187604690117254,
          0.2290292177191329,
          0.2445550715619166,
          0.23437949899222574,
          0.21444270015698588,
          0.20978196817913966,
          0.23702127659574468,
          0.2065967016491754,
          0.22737376945061924,
          0.20965744944283946,
          0.2358788974243109,
          0.20295318881558277,
          0.23606331727460428,
          0.22555205047318613,
          0.18293216630196937,
          0.16259569814072183,
          0.16919816319321795,
          0.1926991926991927,
          0.19389110225763612,
          0.2014719411223551,
          0.1906293063849334,
          0.201363073110285,
          0.21428571428571427
         ],
         "yaxis": "y"
        },
        {
         "legendgroup": "0",
         "name": "City A.M.",
         "type": "scatter",
         "x": [
          "2015-01",
          "2015-02",
          "2015-03",
          "2015-04",
          "2015-05",
          "2015-06",
          "2015-07",
          "2015-08",
          "2015-09",
          "2015-10",
          "2015-11",
          "2015-12",
          "2016-02",
          "2016-04",
          "2016-05",
          "2016-06",
          "2016-07",
          "2016-08",
          "2016-09",
          "2016-12",
          "2017-01",
          "2017-02",
          "2017-03",
          "2017-04",
          "2017-05",
          "2017-06",
          "2017-07",
          "2017-08",
          "2017-09",
          "2017-10",
          "2017-11",
          "2017-12",
          "2018-01",
          "2018-02",
          "2018-03",
          "2018-04",
          "2018-05",
          "2018-06",
          "2018-07",
          "2018-08",
          "2018-09",
          "2018-10",
          "2018-11",
          "2018-12",
          "2019-01",
          "2019-02",
          "2019-03",
          "2019-04",
          "2019-05",
          "2019-06",
          "2019-07",
          "2019-08",
          "2019-09",
          "2019-10",
          "2019-11",
          "2019-12",
          "2020-01",
          "2020-02",
          "2020-03",
          "2020-04"
         ],
         "xaxis": "x",
         "y": [
          0.116751269035533,
          0.1087866108786611,
          0.11813471502590674,
          0.07450980392156863,
          0.14313725490196078,
          0.1316348195329087,
          0.09385113268608414,
          0.07763401109057301,
          0.10287443267776097,
          0.11127819548872181,
          0.046357615894039736,
          0.09287257019438445,
          0.11147540983606558,
          0.034722222222222224,
          0.06274509803921569,
          0.22857142857142856,
          0.1566424322538004,
          0.1024978466838932,
          0.12364425162689804,
          0.10613437195715676,
          0.13636363636363635,
          0.12578616352201258,
          0.1205298013245033,
          0.13790112749349523,
          0.17009493670886075,
          0.18501170960187355,
          0.11665495432185524,
          0.104570100697134,
          0.12716763005780346,
          0.1456761462565293,
          0.12648456057007126,
          0.14645103324348607,
          0.14873837981407703,
          0.1331081081081081,
          0.12679917751884853,
          0.12840466926070038,
          0.09796533534287867,
          0.11875,
          0.10703125,
          0.09879839786381843,
          0.14676390154968094,
          0.13447653429602888,
          0.18157894736842106,
          0.16264294790343076,
          0.14804469273743018,
          0.13097713097713098,
          0.1551383399209486,
          0.19499341238471674,
          0.14506437768240343,
          0.12589928057553956,
          0.12595419847328243,
          0.12598425196850394,
          0.145933014354067,
          0.13402061855670103,
          0.13402889245585875,
          0.13668061366806136,
          0.1317027281279398,
          0.13588850174216027,
          0.0984251968503937,
          0.06914893617021277
         ],
         "yaxis": "y"
        },
        {
         "legendgroup": "1",
         "name": "USA Today",
         "type": "scatter",
         "x": [
          "2015-01",
          "2015-02",
          "2015-03",
          "2015-04",
          "2015-05",
          "2015-06",
          "2015-07",
          "2015-08",
          "2015-09",
          "2015-10",
          "2015-11",
          "2015-12",
          "2016-01",
          "2016-02",
          "2016-03",
          "2016-04",
          "2016-05",
          "2016-06",
          "2016-07",
          "2016-08",
          "2016-09",
          "2016-10",
          "2016-11",
          "2016-12",
          "2017-01",
          "2017-02",
          "2017-03",
          "2017-04",
          "2017-05",
          "2017-06",
          "2017-07",
          "2017-08",
          "2017-09",
          "2017-10",
          "2017-11",
          "2017-12",
          "2018-01",
          "2018-02",
          "2018-03",
          "2018-04",
          "2018-05",
          "2018-06",
          "2018-07",
          "2018-08",
          "2018-09",
          "2018-10",
          "2018-11",
          "2018-12",
          "2019-01",
          "2019-02",
          "2019-03",
          "2019-04",
          "2019-05",
          "2019-06",
          "2019-07",
          "2019-08",
          "2019-09",
          "2019-10",
          "2019-11",
          "2019-12",
          "2020-01",
          "2020-02",
          "2020-03",
          "2020-04"
         ],
         "xaxis": "x2",
         "y": [
          0.17489776659326833,
          0.17809700339820822,
          0.17893217893217894,
          0.1584264503290984,
          0.1404549950544016,
          0.1855536332179931,
          0.21348314606741572,
          0.19121951219512195,
          0.18952618453865336,
          0.18578445535972263,
          0.15619726232889555,
          0.15037593984962405,
          0.12274368231046931,
          0.12314767501277465,
          0.23828125,
          0.09078428007551055,
          0.10648765843895931,
          0.17013232514177692,
          0.16444444444444445,
          0.1806022952800069,
          0.08180044593088072,
          0.1897810218978102,
          0.12698412698412698,
          0.08221271393643031,
          0.13111111111111112,
          0.13534522176497485,
          0.12070143475290367,
          0.10654248069059519,
          0.10382890651948948,
          0.1309738774527507,
          0.13353353353353353,
          0.1135368485969781,
          0.10230827310969691,
          0.08597035850190267,
          0.08987513907775992,
          0.10786074758361132,
          0.1897607122982749,
          0.18558534817840439,
          0.1234512946064248,
          0.11607925653165001,
          0.1335119253370204,
          0.14980951210519847,
          0.13797232570516232,
          0.1260707226004832,
          0.12996427820970793,
          0.13258127122755944,
          0.016249153689911984,
          0.012578616352201259,
          0.054003724394785846,
          0.07256637168141593,
          0.03934426229508197,
          0.0275049115913556,
          0.045064377682403435,
          0.053742802303262956,
          0.08558558558558559,
          0.04047976011994003,
          0.026362038664323375,
          0.01726844583987441,
          0.0091324200913242,
          0.02982107355864811,
          0.006611570247933884,
          0.08879492600422834,
          0.06871345029239766,
          0.05150214592274678
         ],
         "yaxis": "y2"
        },
        {
         "legendgroup": "1",
         "name": "The Wall Street Journal",
         "type": "scatter",
         "x": [
          "2015-01",
          "2015-02",
          "2015-03",
          "2015-04",
          "2015-05",
          "2015-06",
          "2015-07",
          "2015-08",
          "2015-09",
          "2015-10",
          "2015-11",
          "2015-12",
          "2016-01",
          "2016-02",
          "2016-04",
          "2016-05",
          "2016-06",
          "2016-07",
          "2016-08",
          "2016-09",
          "2016-10",
          "2016-11",
          "2016-12",
          "2017-01",
          "2017-02",
          "2017-03",
          "2017-04",
          "2017-05",
          "2017-06",
          "2017-07",
          "2017-08",
          "2017-09",
          "2017-10",
          "2017-11",
          "2017-12",
          "2018-01",
          "2018-02",
          "2018-03",
          "2018-04",
          "2018-05",
          "2018-06",
          "2018-07",
          "2018-08",
          "2018-09",
          "2018-10",
          "2018-11",
          "2018-12",
          "2019-01",
          "2019-02",
          "2019-03",
          "2019-04",
          "2019-05",
          "2019-06",
          "2019-07",
          "2019-08",
          "2019-09",
          "2019-10",
          "2019-11",
          "2019-12",
          "2020-01",
          "2020-02",
          "2020-03",
          "2020-04"
         ],
         "xaxis": "x2",
         "y": [
          0.143635263264071,
          0.18373564565268338,
          0.15279529213955442,
          0.1806677436725902,
          0.1379192334017796,
          0.1543550165380375,
          0.15173116089613034,
          0.13941220798794274,
          0.14600355239786855,
          0.1445127719962157,
          0.11758281761922097,
          0.1171522979873836,
          0.16666666666666666,
          0.14475743348982786,
          0.10804174340085942,
          0.15250475586556753,
          0.11320754716981132,
          0.17114004783417486,
          0.18423383525243578,
          0.15762661072819897,
          0.5,
          0.07142857142857142,
          0.08691358024691358,
          0.15,
          0.14583333333333334,
          0.10121457489878542,
          0.08093994778067885,
          0.10220994475138122,
          0.15406976744186046,
          0.10477453580901856,
          0.08898305084745763,
          0.12544802867383512,
          0.09389671361502347,
          0.06885245901639345,
          0.13902053712480253,
          0.18963730569948187,
          0.16834400731930466,
          0.13618677042801555,
          0.1133122028526149,
          0.13687943262411348,
          0.11742777260018639,
          0.14407814407814407,
          0.2111111111111111,
          0.1245674740484429,
          0.0933572710951526,
          0.1349141455437449,
          0.08173562058526741,
          0.17860746720484358,
          0.23629489603024575,
          0.11560693641618497,
          0.04,
          0.10427807486631016,
          0.2194616977225673,
          0.18604651162790697,
          0.11734164070612668,
          0.12289915966386554,
          0.11254612546125461,
          0.11125319693094629,
          0.08971962616822429,
          0.12195121951219512,
          0.18911174785100288,
          0.13424124513618677,
          0.20689655172413793
         ],
         "yaxis": "y2"
        },
        {
         "legendgroup": "1",
         "name": "The New York Times",
         "type": "scatter",
         "x": [
          "2015-01",
          "2015-02",
          "2015-03",
          "2015-04",
          "2015-05",
          "2015-06",
          "2015-07",
          "2015-08",
          "2015-09",
          "2015-10",
          "2015-11",
          "2015-12",
          "2016-01",
          "2016-02",
          "2016-03",
          "2016-04",
          "2016-05",
          "2016-06",
          "2016-07",
          "2016-08",
          "2016-09",
          "2016-10",
          "2016-11",
          "2016-12",
          "2017-01",
          "2017-02",
          "2017-03",
          "2017-04",
          "2017-05",
          "2017-06",
          "2017-07",
          "2017-08",
          "2017-09",
          "2017-10",
          "2017-11",
          "2017-12",
          "2018-01",
          "2018-02",
          "2018-03",
          "2018-04",
          "2018-05",
          "2018-06",
          "2018-07",
          "2018-08",
          "2018-09",
          "2018-10",
          "2018-11",
          "2018-12",
          "2019-01",
          "2019-02",
          "2019-03",
          "2019-04",
          "2019-05",
          "2019-06",
          "2019-07",
          "2019-08",
          "2019-09",
          "2019-10",
          "2019-11",
          "2019-12",
          "2020-01",
          "2020-02",
          "2020-03",
          "2020-04"
         ],
         "xaxis": "x2",
         "y": [
          0.26666666666666666,
          0.2197452229299363,
          0.2774566473988439,
          0.18421052631578946,
          0.20425531914893616,
          0.21554770318021202,
          0.17008797653958943,
          0.22362204724409449,
          0.24744027303754265,
          0.211781206171108,
          0.20634920634920634,
          0.136,
          0.09523809523809523,
          0.1644075207695671,
          0.08571428571428572,
          0.19153992395437264,
          0.18262237074896795,
          0.15806451612903225,
          0.16746836379782432,
          0.19708814162220292,
          0.17865123264588448,
          0.16,
          0.18457300275482094,
          0.17537381197409044,
          0.1986111111111111,
          0.1626689925861317,
          0.18945654140780505,
          0.18352211434735707,
          0.18025425336790843,
          0.1904885993485342,
          0.19583425987695502,
          0.1839932838953407,
          0.20975343214261322,
          0.21825424557970508,
          0.21563926057699745,
          0.23437642550862148,
          0.24566777524943112,
          0.26316733961417677,
          0.2357316444509905,
          0.20823937554206418,
          0.24366153367553275,
          0.2315388280133397,
          0.22377145085803432,
          0.24711992445703493,
          0.24578806487167376,
          0.2509548416086273,
          0.24364934418064088,
          0.22985754985754986,
          0.26234213547646384,
          0.2637993553585818,
          0.2532537960954447,
          0.2313915857605178,
          0.23740138464015456,
          0.2551388539306989,
          0.2567120622568093,
          0.2548476454293629,
          0.24651484977054292,
          0.23369565217391305,
          0.23490407567854302,
          0.2500539374325782,
          0.21181281235801908,
          0.27094080078604765,
          0.2196467991169978,
          0.2178469355350905
         ],
         "yaxis": "y2"
        },
        {
         "legendgroup": "1",
         "name": "New York Post",
         "type": "scatter",
         "x": [
          "2015-01",
          "2015-02",
          "2015-03",
          "2015-04",
          "2015-05",
          "2015-06",
          "2015-07",
          "2015-08",
          "2015-09",
          "2015-10",
          "2015-11",
          "2015-12",
          "2016-01",
          "2016-02",
          "2016-04",
          "2016-05",
          "2016-06",
          "2016-07",
          "2016-08",
          "2016-09",
          "2016-10",
          "2016-12",
          "2017-01",
          "2017-02",
          "2017-03",
          "2017-04",
          "2017-05",
          "2017-06",
          "2017-07",
          "2017-08",
          "2017-09",
          "2017-10",
          "2017-11",
          "2017-12",
          "2018-01",
          "2018-02",
          "2018-03",
          "2018-04",
          "2018-05",
          "2018-06",
          "2018-07",
          "2018-08",
          "2018-09",
          "2018-10",
          "2018-11",
          "2018-12",
          "2019-01",
          "2019-02",
          "2019-03",
          "2019-04",
          "2019-05",
          "2019-06",
          "2019-07",
          "2019-08",
          "2019-09",
          "2019-10",
          "2019-11",
          "2019-12",
          "2020-01",
          "2020-02",
          "2020-03",
          "2020-04"
         ],
         "xaxis": "x2",
         "y": [
          0.12903225806451613,
          0.17142857142857143,
          0.1875,
          0.11363636363636363,
          0.15384615384615385,
          0.17647058823529413,
          0.19730941704035873,
          0.12244897959183673,
          0.2803738317757009,
          0.14473684210526316,
          0.2465753424657534,
          0.1694915254237288,
          1,
          0.17647058823529413,
          0.13333333333333333,
          0.14563106796116504,
          0.2,
          0.175,
          0.24175824175824176,
          0.24509803921568626,
          0.36363636363636365,
          0.15819209039548024,
          0.15384615384615385,
          0.22429906542056074,
          0.15656909462219196,
          0.14041297935103245,
          0.129202871174915,
          0.08333333333333333,
          0.10451306413301663,
          0.1297399389800959,
          0.1389776357827476,
          0.11028525512253917,
          0.14946258365443116,
          0.10974473635177939,
          0.15981270358306188,
          0.02910798122065728,
          0.14127951256664129,
          0.13660670879922218,
          0.062244062244062245,
          0.12608012568735272,
          0.139341996129389,
          0.14172939232605103,
          0.15120460266091335,
          0.13063552417164584,
          0.07457627118644068,
          0.04523809523809524,
          0.12383177570093458,
          0.15919223708366115,
          0.1403361344537815,
          0.1349472057687355,
          0.14909090909090908,
          0.16051188299817185,
          0.19065474473608307,
          0.1641725352112676,
          0.16262078717888287,
          0.16683417085427135,
          0.1554362949711787,
          0.14743734477308648,
          0.17701097916199865,
          0.1600166251039069,
          0.1638669866300994,
          0.09070796460176991
         ],
         "yaxis": "y2"
        },
        {
         "legendgroup": "1",
         "name": "Los Angeles Times",
         "type": "scatter",
         "x": [
          "2015-01",
          "2015-02",
          "2015-03",
          "2015-04",
          "2015-05",
          "2015-06",
          "2015-07",
          "2015-08",
          "2015-09",
          "2015-10",
          "2015-11",
          "2015-12",
          "2016-01",
          "2016-02",
          "2016-03",
          "2016-04",
          "2016-05",
          "2016-06",
          "2016-07",
          "2016-08",
          "2016-09",
          "2016-10",
          "2016-11",
          "2016-12",
          "2017-01",
          "2017-02",
          "2017-03",
          "2017-04",
          "2017-05",
          "2017-06",
          "2017-07",
          "2017-08",
          "2017-09",
          "2017-10",
          "2017-11",
          "2017-12",
          "2018-01",
          "2018-02",
          "2018-03",
          "2018-04",
          "2018-05",
          "2018-06",
          "2018-07",
          "2018-08",
          "2018-09",
          "2018-10",
          "2018-11",
          "2018-12",
          "2019-01",
          "2019-02",
          "2019-03",
          "2019-04",
          "2019-05",
          "2019-06",
          "2019-07",
          "2019-08",
          "2019-09",
          "2019-10",
          "2019-11",
          "2019-12",
          "2020-01",
          "2020-02",
          "2020-03",
          "2020-04"
         ],
         "xaxis": "x2",
         "y": [
          0.1655651777575205,
          0.1660839160839161,
          0.14955381141812707,
          0.1817848858503235,
          0.19091457893148203,
          0.19183839479392625,
          0.1901820187534473,
          0.17432298312774705,
          0.17758913412563668,
          0.169679059858429,
          0.18346016319794628,
          0.16089577950043066,
          0.23197492163009403,
          0.1701780173117753,
          0.08571428571428572,
          0.16414870140892887,
          0.20381110190555096,
          0.20821917808219179,
          0.2085587801278898,
          0.20663080998635305,
          0.1881720430107527,
          0.2,
          0.1671018276762402,
          0.16342269555637165,
          0.13293051359516617,
          0.1638715860086248,
          0.16870956758597208,
          0.1770795163063393,
          0.1979532457108458,
          0.2055824837038275,
          0.17751654647831672,
          0.16754550093553325,
          0.18331383445451888,
          0.15421486546941907,
          0.17271407837445574,
          0.15730741540676746,
          0.20226957726957728,
          0.20909740414384378,
          0.20737100737100736,
          0.1943869335173683,
          0.1942024128686327,
          0.2864450127877238,
          0.23723723723723725,
          0.2592,
          0.2375316990701606,
          0.2579124579124579,
          0.19901112484548825,
          0.20796890184645286,
          0.1821219715956558,
          0.19094138543516873,
          0.20357326919773236,
          0.1867572156196944,
          0.23833333333333334,
          0.24421135958836335,
          0.2424338961452692,
          0.20816326530612245,
          0.1727508477957311,
          0.15507452093683463,
          0.2172537439358785,
          0.20403377110694185,
          0.18228608192150975,
          0.22890792291220557,
          0.21138211382113822,
          0.19047619047619047
         ],
         "yaxis": "y2"
        },
        {
         "legendgroup": "2",
         "name": "The Times of India",
         "type": "scatter",
         "x": [
          "2015-01",
          "2015-02",
          "2015-03",
          "2015-04",
          "2015-05",
          "2015-06",
          "2015-07",
          "2015-08",
          "2015-09",
          "2015-10",
          "2015-11",
          "2015-12",
          "2016-01",
          "2016-02",
          "2016-03",
          "2016-04",
          "2016-05",
          "2016-06",
          "2016-07",
          "2016-08",
          "2016-09",
          "2016-10",
          "2016-11",
          "2016-12",
          "2017-01",
          "2017-02",
          "2017-03",
          "2017-04",
          "2017-05",
          "2017-06",
          "2017-07",
          "2017-08",
          "2017-09",
          "2017-10",
          "2017-11",
          "2017-12",
          "2018-01",
          "2018-02",
          "2018-03",
          "2018-04",
          "2018-05",
          "2018-06",
          "2018-07",
          "2018-08",
          "2018-09",
          "2018-10",
          "2018-11",
          "2018-12",
          "2019-01",
          "2019-02",
          "2019-03",
          "2019-04",
          "2019-05",
          "2019-06",
          "2019-07",
          "2019-08",
          "2019-09",
          "2019-10",
          "2019-11",
          "2019-12",
          "2020-01",
          "2020-02",
          "2020-03",
          "2020-04"
         ],
         "xaxis": "x3",
         "y": [
          0.14908256880733944,
          0.18908122503328895,
          0.20317002881844382,
          0.2018867924528302,
          0.16998827667057445,
          0.1777158774373259,
          0.15420805018295872,
          0.17567989996874023,
          0.1626533393911858,
          0.14131559497413157,
          0.16026490066225166,
          0.18706118355065196,
          0.36363636363636365,
          0.19200887902330743,
          0.6,
          0.1555783009211873,
          0.15774590991718845,
          0.20833333333333334,
          0.16945780135964186,
          0.17302336844654317,
          0.1379725862328664,
          0.045454545454545456,
          0.20689655172413793,
          0.14463237832240247,
          0.14285714285714285,
          0.13801893663510562,
          0.14688427299703263,
          0.1503316138540899,
          0.13713919178960873,
          0.14531932475504664,
          0.17608861726508784,
          0.16339922893938152,
          0.15855944745929945,
          0.15345753078623303,
          0.15577244124823425,
          0.1418043202033037,
          0.1593633952254642,
          0.13678145150226367,
          0.12939866369710468,
          0.13595658073270014,
          0.13149587178241864,
          0.12370988265233988,
          0.13221649484536083,
          0.13451086956521738,
          0.12826348908823135,
          0.127783437636443,
          0.11606217616580311,
          0.10275207306814085,
          0.12155988857938718,
          0.12918607229984475,
          0.13440082644628099,
          0.12944009632751355,
          0.14328582145536384,
          0.1181362357832946,
          0.14619377162629757,
          0.15002553626149132,
          0.13937677053824363,
          0.11797692224738487,
          0.12516614975631368,
          0.1428956228956229,
          0.1347678369195923,
          0.13845329044364027,
          0.16526560543730998,
          0.14410339256865912
         ],
         "yaxis": "y3"
        },
        {
         "legendgroup": "2",
         "name": "The Hindu",
         "type": "scatter",
         "x": [
          "2015-01",
          "2015-02",
          "2015-03",
          "2015-04",
          "2015-05",
          "2015-06",
          "2015-07",
          "2015-08",
          "2015-09",
          "2015-10",
          "2015-11",
          "2015-12",
          "2016-01",
          "2016-02",
          "2016-03",
          "2016-04",
          "2016-05",
          "2016-06",
          "2016-07",
          "2016-08",
          "2016-09",
          "2016-10",
          "2016-11",
          "2016-12",
          "2017-01",
          "2017-02",
          "2017-03",
          "2017-04",
          "2017-05",
          "2017-06",
          "2017-07",
          "2017-08",
          "2017-09",
          "2017-10",
          "2017-11",
          "2017-12",
          "2018-01",
          "2018-02",
          "2018-03",
          "2018-04",
          "2018-05",
          "2018-06",
          "2018-07",
          "2018-08",
          "2018-09",
          "2018-10",
          "2018-11",
          "2018-12",
          "2019-01",
          "2019-02",
          "2019-03",
          "2019-04",
          "2019-05",
          "2019-06",
          "2019-07",
          "2019-08",
          "2019-09",
          "2019-10",
          "2019-11",
          "2019-12",
          "2020-01",
          "2020-02",
          "2020-03",
          "2020-04"
         ],
         "xaxis": "x3",
         "y": [
          0.17857142857142858,
          0.1590909090909091,
          0.0975609756097561,
          0.3055555555555556,
          0.18181818181818182,
          0.12727272727272726,
          0.12542537676227516,
          0.15385722510074842,
          0.11827033218785796,
          0.11170577741182929,
          0.12159368539748168,
          0.11823060660269963,
          0.21774193548387097,
          0.1473364801078894,
          0.25,
          0.12018140589569161,
          0.131810676940011,
          0.15172413793103448,
          0.16153205661948378,
          0.16331342345174474,
          0.1632888449497446,
          0.16666666666666666,
          0.08108108108108109,
          0.12390432328034467,
          0.15,
          0.1441108545034642,
          0.15533034496199571,
          0.17058439438459028,
          0.16081652974856858,
          0.15419501133786848,
          0.15593545294775524,
          0.16513353115727003,
          0.1571900826446281,
          0.14506272113219684,
          0.14431239388794567,
          0.17423230974632845,
          0.16887879846315054,
          0.14665996986438976,
          0.16989476894921457,
          0.14401993355481726,
          0.1466911151858643,
          0.136726893676164,
          0.12902654867256638,
          0.14531445977423402,
          0.15428368290081762,
          0.14168937329700274,
          0.13406317300789664,
          0.12273534635879219,
          0.14260075053026594,
          0.14575116529221943,
          0.13482770157243226,
          0.11920092455010732,
          0.1330995323981296,
          0.13494675701839304,
          0.13135186960690318,
          0.14360410830999065,
          0.14011748445058742,
          0.13119480987565327,
          0.12184944082790852,
          0.13385546457814168,
          0.13091728801803365,
          0.13232553323669496,
          0.11760862463247304,
          0.11397345823575332
         ],
         "yaxis": "y3"
        },
        {
         "legendgroup": "2",
         "name": "Hindustan Times",
         "type": "scatter",
         "x": [
          "2015-01",
          "2015-02",
          "2015-03",
          "2015-04",
          "2015-05",
          "2015-06",
          "2015-07",
          "2015-08",
          "2015-09",
          "2015-10",
          "2015-11",
          "2015-12",
          "2016-01",
          "2016-02",
          "2016-03",
          "2016-04",
          "2016-05",
          "2016-06",
          "2016-07",
          "2016-08",
          "2016-09",
          "2016-11",
          "2016-12",
          "2017-01",
          "2017-02",
          "2017-03",
          "2017-04",
          "2017-05",
          "2017-06",
          "2017-07",
          "2017-08",
          "2017-09",
          "2017-10",
          "2017-11",
          "2017-12",
          "2018-01",
          "2018-02",
          "2018-03",
          "2018-04",
          "2018-05",
          "2018-06",
          "2018-07",
          "2018-08",
          "2018-09",
          "2018-10",
          "2018-11",
          "2018-12",
          "2019-01",
          "2019-02",
          "2019-03",
          "2019-04",
          "2019-05",
          "2019-06",
          "2019-07",
          "2019-08",
          "2019-09",
          "2019-10",
          "2019-11",
          "2019-12",
          "2020-01",
          "2020-02",
          "2020-03",
          "2020-04"
         ],
         "xaxis": "x3",
         "y": [
          0.16642335766423358,
          0.15830721003134796,
          0.15388614504808942,
          0.13636363636363635,
          0.18354818907305095,
          0.1702127659574468,
          0.13806552262090482,
          0.17155463275369842,
          0.148661800486618,
          0.1472797215607254,
          0.12969502407704656,
          0.12760310330747243,
          0.17094017094017094,
          0.10264508487958941,
          0.25,
          0.17670682730923695,
          0.1480707790611944,
          0.18421052631578946,
          0.15719114935464043,
          0.20312897481556855,
          0.17456593148756452,
          0.2,
          0.14645936765090148,
          0.16,
          0.16675839295542103,
          0.1782749909779863,
          0.16367361696998917,
          0.17813578826237053,
          0.18781512605042017,
          0.18986769195974218,
          0.1661529840291398,
          0.16673275178429817,
          0.16450989141752195,
          0.1593632317699418,
          0.1453083109919571,
          0.17913583630218324,
          0.1570136852394917,
          0.17404063205417608,
          0.16623160892263883,
          0.15574348132487667,
          0.15409139213602552,
          0.14303717706364208,
          0.14134969325153374,
          0.18548799182422074,
          0.15198237885462554,
          0.14135374312365462,
          0.13430885811340476,
          0.16838487972508592,
          0.16545973228000876,
          0.1746031746031746,
          0.17893333333333333,
          0.1912087912087912,
          0.16856330014224752,
          0.18476941747572814,
          0.17820980153908464,
          0.16978756884343038,
          0.15738498789346247,
          0.1519874177866743,
          0.16325062927004674,
          0.16779110444777612,
          0.17762027491408935,
          0.19410898379970545,
          0.17913832199546487
         ],
         "yaxis": "y3"
        },
        {
         "legendgroup": "2",
         "name": "The Economic Times",
         "type": "scatter",
         "x": [
          "2015-01",
          "2015-02",
          "2015-03",
          "2015-04",
          "2015-05",
          "2015-06",
          "2015-07",
          "2015-08",
          "2015-09",
          "2015-10",
          "2015-11",
          "2015-12",
          "2016-01",
          "2016-02",
          "2016-03",
          "2016-04",
          "2016-05",
          "2016-06",
          "2016-07",
          "2016-08",
          "2016-09",
          "2016-10",
          "2016-11",
          "2016-12",
          "2017-01",
          "2017-02",
          "2017-03",
          "2017-04",
          "2017-05",
          "2017-06",
          "2017-07",
          "2017-08",
          "2017-09",
          "2017-10",
          "2017-11",
          "2017-12",
          "2018-01",
          "2018-02",
          "2018-03",
          "2018-04",
          "2018-05",
          "2018-06",
          "2018-07",
          "2018-08",
          "2018-09",
          "2018-10",
          "2018-11",
          "2018-12",
          "2019-01",
          "2019-02",
          "2019-03",
          "2019-04",
          "2019-05",
          "2019-06",
          "2019-07",
          "2019-08",
          "2019-09",
          "2019-10",
          "2019-11",
          "2019-12",
          "2020-01",
          "2020-02",
          "2020-03",
          "2020-04"
         ],
         "xaxis": "x3",
         "y": [
          0.11518586431071845,
          0.10873405299313052,
          0.09858882659965204,
          0.0983234369542438,
          0.10990767045454546,
          0.10869126840088728,
          0.10070943861813696,
          0.11295971978984239,
          0.10275384038965905,
          0.09444504136671322,
          0.0927216728805317,
          0.10631980771949667,
          0.06896551724137931,
          0.08926218708827405,
          0.2727272727272727,
          0.09458094917536183,
          0.0986088379705401,
          0.1693548387096774,
          0.13868116927260368,
          0.1234472049689441,
          0.12473202104852855,
          0.06896551724137931,
          0.0967741935483871,
          0.1087657106026426,
          0.19117647058823528,
          0.10061527325370974,
          0.1267454350161117,
          0.12121893624198808,
          0.11702011963023383,
          0.12814432989690722,
          0.13010526315789472,
          0.10723046373087256,
          0.13047161818695283,
          0.13546685019499885,
          0.11516270482344795,
          0.10617386489479513,
          0.13012880095604834,
          0.11187582369307365,
          0.13256601218686526,
          0.125805651958354,
          0.11402176664135662,
          0.11293213828425096,
          0.11777388492116965,
          0.12335620354488279,
          0.15052070719302493,
          0.14445871773911012,
          0.1325124265702666,
          0.14073226544622425,
          0.14201937786843447,
          0.13684614400818518,
          0.1565525705713896,
          0.14721867007672634,
          0.15777449267571564,
          0.12313877307921382,
          0.1276595744680851,
          0.0967913490515866,
          0.10019023462270134,
          0.10213262245918027,
          0.09950071326676177,
          0.12044435782498539,
          0.10678551937420411,
          0.10908250519990756,
          0.1156930126002291,
          0.09512893982808023
         ],
         "yaxis": "y3"
        },
        {
         "legendgroup": "2",
         "name": "The Telegraph",
         "type": "scatter",
         "x": [
          "2015-01",
          "2015-02",
          "2015-03",
          "2015-04",
          "2015-05",
          "2015-06",
          "2015-07",
          "2015-08",
          "2015-09",
          "2015-10",
          "2015-11",
          "2015-12",
          "2016-01",
          "2016-02",
          "2016-03",
          "2016-04",
          "2016-05",
          "2016-06",
          "2016-07",
          "2016-08",
          "2016-09",
          "2016-11",
          "2016-12",
          "2017-02",
          "2017-03",
          "2017-04",
          "2017-05",
          "2017-06",
          "2017-07",
          "2017-08",
          "2017-09",
          "2017-10",
          "2017-11",
          "2017-12",
          "2018-01",
          "2018-02",
          "2018-03",
          "2018-04",
          "2018-05",
          "2018-06",
          "2018-07",
          "2018-08",
          "2018-09",
          "2018-10",
          "2018-11",
          "2018-12",
          "2019-01",
          "2019-02",
          "2019-03",
          "2019-04",
          "2019-05",
          "2019-06",
          "2019-07",
          "2019-08",
          "2019-09",
          "2019-10",
          "2019-11",
          "2019-12",
          "2020-01",
          "2020-02",
          "2020-03",
          "2020-04"
         ],
         "xaxis": "x3",
         "y": [
          0.12778551532033428,
          0.12399049881235154,
          0.12277413308341144,
          0.10128126906650396,
          0.13825757575757575,
          0.10171102661596958,
          0.1281657712970069,
          0.14344746162927982,
          0.10459363957597173,
          0.10435383552176918,
          0.08946772366930918,
          0.11648351648351649,
          0.030303030303030304,
          0.07460035523978685,
          0.5,
          0.09703196347031963,
          0.08293556085918855,
          0.18181818181818182,
          0.15084134615384615,
          0.15510718789407313,
          0.13513513513513514,
          0.2,
          0.07204116638078903,
          0.033962264150943396,
          0.1368909512761021,
          0.1396910678307589,
          0.09961685823754789,
          0.1319884726224784,
          0.1483021483021483,
          0.1245928338762215,
          0.10179640718562874,
          0.09538461538461539,
          0.11310344827586206,
          0.15363128491620112,
          0.14240755310778913,
          0.17436974789915966,
          0.16366525423728814,
          0.16358024691358025,
          0.1693548387096774,
          0.1566609491137793,
          0.1419284940411701,
          0.1672077922077922,
          0.17867603983596952,
          0.16446858029480219,
          0.13517241379310344,
          0.1129737609329446,
          0.15822784810126583,
          0.1700507614213198,
          0.14238190286094476,
          0.16244541484716157,
          0.16784565916398714,
          0.17142857142857143,
          0.16066838046272494,
          0.166270783847981,
          0.17305151915455746,
          0.14256198347107438,
          0.11853162317558602,
          0.15813117699910154,
          0.14683098591549296,
          0.14311676510676966,
          0.18115055079559364,
          0.17496962332928312
         ],
         "yaxis": "y3"
        },
        {
         "legendgroup": "3",
         "name": "Vanguard",
         "type": "scatter",
         "x": [
          "2015-01",
          "2015-02",
          "2015-03",
          "2015-04",
          "2015-05",
          "2015-06",
          "2015-07",
          "2015-08",
          "2015-09",
          "2015-10",
          "2015-11",
          "2015-12",
          "2016-01",
          "2016-02",
          "2016-04",
          "2016-05",
          "2016-06",
          "2016-07",
          "2016-08",
          "2016-09",
          "2016-10",
          "2016-11",
          "2016-12",
          "2017-01",
          "2017-02",
          "2017-03",
          "2017-04",
          "2017-05",
          "2017-06",
          "2017-07",
          "2017-08",
          "2017-09",
          "2017-10",
          "2017-11",
          "2017-12",
          "2018-01",
          "2018-02",
          "2018-03",
          "2018-04",
          "2018-05",
          "2018-06",
          "2018-07",
          "2018-08",
          "2018-09",
          "2018-10",
          "2018-11",
          "2018-12",
          "2019-01",
          "2019-02",
          "2019-03",
          "2019-04",
          "2019-05",
          "2019-06",
          "2019-07",
          "2019-08",
          "2019-09",
          "2019-10",
          "2019-11",
          "2019-12",
          "2020-01",
          "2020-02",
          "2020-03",
          "2020-04"
         ],
         "xaxis": "x4",
         "y": [
          0.09000900090009001,
          0.06857142857142857,
          0.09895833333333333,
          0.1232638888888889,
          0.12667946257197696,
          0.12173913043478261,
          0.061601642710472276,
          0.06518518518518518,
          0.0975,
          0.07,
          0.07560975609756097,
          0.0776794493608653,
          0.057692307692307696,
          0.09424083769633508,
          0.0853462157809984,
          0.09107037256061502,
          0.09090909090909091,
          0.1349862258953168,
          0.08538011695906433,
          0.0881304126337239,
          0.2857142857142857,
          0.2,
          0.0741272118603539,
          0.05128205128205128,
          0.07801418439716312,
          0.08879310344827586,
          0.08268482490272373,
          0.10018832391713747,
          0.11767186840995361,
          0.0950188363331938,
          0.06712218649517684,
          0.07134220072551391,
          0.07779751332149201,
          0.08846880907372401,
          0.06631892697466468,
          0.08562806488117691,
          0.08322877457130907,
          0.08301033591731266,
          0.07628294036061026,
          0.060755336617405585,
          0.05488721804511278,
          0.07150368033648791,
          0.09760105159382189,
          0.09696969696969697,
          0.0784177654406662,
          0.0919661733615222,
          0.08019028202514442,
          0.0658682634730539,
          0.06692913385826772,
          0.06636670416197975,
          0.08833922261484099,
          0.07493188010899182,
          0.07580645161290323,
          0.06666666666666667,
          0.0768025078369906,
          0.09865470852017937,
          0.112,
          0.05471698113207547,
          0.07960199004975124,
          0.07559523809523809,
          0.08595505617977528,
          0.07262021589793916,
          0.08816705336426914
         ],
         "yaxis": "y4"
        },
        {
         "legendgroup": "3",
         "name": "The Punch",
         "type": "scatter",
         "x": [
          "2015-01",
          "2015-02",
          "2015-03",
          "2015-04",
          "2015-05",
          "2015-06",
          "2015-07",
          "2015-08",
          "2015-09",
          "2015-10",
          "2015-11",
          "2015-12",
          "2016-02",
          "2016-04",
          "2016-05",
          "2016-06",
          "2016-07",
          "2016-08",
          "2016-09",
          "2016-10",
          "2016-11",
          "2016-12",
          "2017-01",
          "2017-02",
          "2017-03",
          "2017-04",
          "2017-05",
          "2017-06",
          "2017-07",
          "2017-08",
          "2017-09",
          "2017-10",
          "2017-11",
          "2017-12",
          "2018-01",
          "2018-02",
          "2018-03",
          "2018-04",
          "2018-05",
          "2018-06",
          "2018-07",
          "2018-08",
          "2018-09",
          "2018-10",
          "2018-11",
          "2018-12",
          "2019-01",
          "2019-02",
          "2019-03",
          "2019-04",
          "2019-05",
          "2019-06",
          "2019-07",
          "2019-08",
          "2019-09",
          "2019-10",
          "2019-11",
          "2019-12",
          "2020-01",
          "2020-02",
          "2020-03",
          "2020-04"
         ],
         "xaxis": "x4",
         "y": [
          0.09632446134347275,
          0.08140403286034353,
          0.06681681681681682,
          0.09407337723424271,
          0.08925869894099848,
          0.0800711743772242,
          0.0728476821192053,
          0.11833550065019506,
          0.09611451942740286,
          0.09595959595959595,
          0.05993690851735016,
          0.0784313725490196,
          0.058823529411764705,
          0.09467455621301775,
          0.08713692946058091,
          0.03571428571428571,
          0.1514543630892678,
          0.09931506849315068,
          0.15243004418262152,
          0.25,
          0.06666666666666667,
          0.11535463756819954,
          0.15555555555555556,
          0.11735941320293398,
          0.09289176090468497,
          0.1222707423580786,
          0.11014103425117529,
          0.11279683377308707,
          0.11618004866180048,
          0.0948566610455312,
          0.12603495860165592,
          0.1055952881783761,
          0.09803921568627451,
          0.08085106382978724,
          0.1115485564304462,
          0.10657596371882086,
          0.10311750599520383,
          0.09129213483146068,
          0.08989657915672236,
          0.07708933717579251,
          0.0960536113179449,
          0.1290625,
          0.11461937716262975,
          0.09142287234042554,
          0.09795067731851337,
          0.10506881503860356,
          0.11235955056179775,
          0.09288990825688073,
          0.09612983770287141,
          0.06389776357827476,
          0.09723461195361284,
          0.11320754716981132,
          0.10463121783876501,
          0.10755148741418764,
          0.11726384364820847,
          0.10326086956521739,
          0.06818181818181818,
          0.08941877794336811,
          0.08857808857808858,
          0.08685064935064934,
          0.058823529411764705,
          0.14227642276422764
         ],
         "yaxis": "y4"
        },
        {
         "legendgroup": "3",
         "name": "The Nation online",
         "type": "scatter",
         "x": [
          "2015-01",
          "2015-02",
          "2015-03",
          "2015-07",
          "2015-08",
          "2015-09",
          "2015-10",
          "2015-11",
          "2015-12",
          "2016-01",
          "2016-02",
          "2016-04",
          "2016-05",
          "2016-06",
          "2016-07",
          "2016-08",
          "2016-09",
          "2016-10",
          "2016-11",
          "2016-12",
          "2017-01",
          "2017-02",
          "2017-03",
          "2017-04",
          "2017-05",
          "2017-06",
          "2017-07",
          "2017-08",
          "2017-09",
          "2017-10",
          "2017-11",
          "2017-12",
          "2018-01",
          "2018-02",
          "2018-03",
          "2018-04",
          "2018-05",
          "2018-06",
          "2018-07",
          "2018-08",
          "2018-09",
          "2018-10",
          "2018-11",
          "2018-12",
          "2019-01",
          "2019-02",
          "2019-03",
          "2019-04",
          "2019-05",
          "2019-06",
          "2019-07",
          "2019-08",
          "2019-09",
          "2019-10",
          "2019-11",
          "2019-12",
          "2020-01",
          "2020-02",
          "2020-03",
          "2020-04"
         ],
         "xaxis": "x4",
         "y": [
          0.1724137931034483,
          0.25,
          0.23076923076923078,
          0.06775067750677506,
          0.07739938080495357,
          0.07025411061285501,
          0.07251908396946564,
          0.12786885245901639,
          0.05793450881612091,
          0.037037037037037035,
          0.09782608695652174,
          0.1043956043956044,
          0.1285444234404537,
          0.16,
          0.13082706766917293,
          0.12603648424543948,
          0.0821917808219178,
          0.11764705882352941,
          0.12121212121212122,
          0.12171507607192254,
          0.16666666666666666,
          0.10899182561307902,
          0.09229390681003584,
          0.10876803551609324,
          0.13194444444444445,
          0.15434083601286175,
          0.10083160083160084,
          0.07881040892193308,
          0.08763837638376384,
          0.0999259807549963,
          0.07795698924731183,
          0.08559670781893004,
          0.11937377690802348,
          0.0932377049180328,
          0.12777777777777777,
          0.07780979827089338,
          0.07802547770700637,
          0.07006369426751592,
          0.06754658385093168,
          0.09455587392550144,
          0.06432748538011696,
          0.08613938919342208,
          0.0821337849280271,
          0.057692307692307696,
          0.061946902654867256,
          0.04854368932038835,
          0.04781704781704782,
          0.10231023102310231,
          0.10380622837370242,
          0.07226890756302522,
          0.10869565217391304,
          0.08441558441558442,
          0.12156862745098039,
          0.12033195020746888,
          0.08829174664107485,
          0.08964143426294821,
          0.08846761453396525,
          0.0875,
          0.1336206896551724,
          0.1111111111111111
         ],
         "yaxis": "y4"
        },
        {
         "legendgroup": "3",
         "name": "Sahara Reporters",
         "type": "scatter",
         "x": [
          "2015-01",
          "2015-08",
          "2015-09",
          "2015-10",
          "2015-12",
          "2016-01",
          "2016-02",
          "2016-04",
          "2016-05",
          "2016-07",
          "2016-08",
          "2016-09",
          "2016-12",
          "2017-02",
          "2017-04",
          "2017-05",
          "2017-07",
          "2017-09",
          "2017-10",
          "2017-11",
          "2017-12",
          "2018-02",
          "2018-03",
          "2018-04",
          "2018-05",
          "2018-07",
          "2018-08",
          "2018-09",
          "2018-10",
          "2018-11",
          "2018-12",
          "2019-01",
          "2019-03",
          "2019-04",
          "2019-05",
          "2019-06",
          "2019-07",
          "2019-08",
          "2019-10",
          "2019-11",
          "2019-12",
          "2020-01",
          "2020-03",
          "2020-04"
         ],
         "xaxis": "x4",
         "y": [
          0.07692307692307693,
          0.06779661016949153,
          0.07526881720430108,
          0.0196078431372549,
          0.04861111111111111,
          0.75,
          0.14492753623188406,
          0.08247422680412371,
          0.08849557522123894,
          0.10416666666666667,
          0.06770833333333333,
          0.05263157894736842,
          0.06451612903225806,
          0.05263157894736842,
          0.023255813953488372,
          0.13636363636363635,
          0.2222222222222222,
          0.09859154929577464,
          0.125,
          0.0425531914893617,
          0.038461538461538464,
          0.15,
          0.07142857142857142,
          0.09090909090909091,
          0.020833333333333332,
          0.057692307692307696,
          0.010638297872340425,
          0.10869565217391304,
          0.010309278350515464,
          0.078125,
          0.07692307692307693,
          0.07142857142857142,
          0.07894736842105263,
          0.0547945205479452,
          0.05,
          0.09375,
          0.09375,
          0.07407407407407407,
          0.17647058823529413,
          0.14285714285714285,
          0.08333333333333333,
          0.25,
          0.0625,
          0.0625
         ],
         "yaxis": "y4"
        },
        {
         "legendgroup": "3",
         "name": "Sun News",
         "type": "scatter",
         "x": [
          "2015-01",
          "2015-02",
          "2015-03",
          "2015-04",
          "2015-05",
          "2015-06",
          "2015-07",
          "2015-08",
          "2015-09",
          "2015-10",
          "2015-11",
          "2015-12",
          "2016-01",
          "2016-02",
          "2016-04",
          "2016-05",
          "2016-07",
          "2016-08",
          "2016-09",
          "2016-12",
          "2017-02",
          "2017-03",
          "2017-04",
          "2017-05",
          "2017-06",
          "2017-07",
          "2017-08",
          "2017-09",
          "2017-10",
          "2017-11",
          "2017-12",
          "2018-01",
          "2018-02",
          "2018-03",
          "2018-04",
          "2018-05",
          "2018-06",
          "2018-07",
          "2018-08",
          "2018-09",
          "2018-10",
          "2018-11",
          "2018-12",
          "2019-01",
          "2019-02",
          "2019-03",
          "2019-04",
          "2019-05",
          "2019-06",
          "2019-07",
          "2019-08",
          "2019-09",
          "2019-10",
          "2019-11",
          "2019-12",
          "2020-01",
          "2020-02",
          "2020-03",
          "2020-04"
         ],
         "xaxis": "x4",
         "y": [
          0.08323424494649227,
          0.055873925501432664,
          0.08629441624365482,
          0.06153846153846154,
          0.10714285714285714,
          0.125,
          0.04716981132075472,
          0.13924050632911392,
          0.08955223880597014,
          0.10476190476190476,
          0.08695652173913043,
          0.06666666666666667,
          0.1111111111111111,
          0.08080808080808081,
          0.08609271523178808,
          0.08807339449541285,
          0.10354223433242507,
          0.09651474530831099,
          0.10649350649350649,
          0.13644859813084112,
          0.06772908366533864,
          0.10423452768729642,
          0.09065550906555091,
          0.1,
          0.10594594594594595,
          0.1144578313253012,
          0.13324175824175824,
          0.10282776349614396,
          0.10820559062218214,
          0.0989010989010989,
          0.07403936269915651,
          0.16306156405990016,
          0.10508474576271186,
          0.11909650924024641,
          0.08244274809160305,
          0.0931899641577061,
          0.08210180623973727,
          0.08797127468581688,
          0.11333333333333333,
          0.09130913091309131,
          0.08558139534883721,
          0.09328358208955224,
          0.07790821771611527,
          0.10586011342155009,
          0.05660377358490566,
          0.10047846889952153,
          0.1021671826625387,
          0.09074074074074075,
          0.08210526315789474,
          0.09358288770053476,
          0.07297297297297298,
          0.09954751131221719,
          0.13219616204690832,
          0.07743362831858407,
          0.08788598574821853,
          0.10256410256410256,
          0.09798994974874371,
          0.10015898251192369,
          0.13740458015267176
         ],
         "yaxis": "y4"
        }
       ],
       "layout": {
        "legend": {
         "tracegroupgap": 20
        },
        "template": {
         "data": {
          "bar": [
           {
            "error_x": {
             "color": "#2a3f5f"
            },
            "error_y": {
             "color": "#2a3f5f"
            },
            "marker": {
             "line": {
              "color": "#E5ECF6",
              "width": 0.5
             },
             "pattern": {
              "fillmode": "overlay",
              "size": 10,
              "solidity": 0.2
             }
            },
            "type": "bar"
           }
          ],
          "barpolar": [
           {
            "marker": {
             "line": {
              "color": "#E5ECF6",
              "width": 0.5
             },
             "pattern": {
              "fillmode": "overlay",
              "size": 10,
              "solidity": 0.2
             }
            },
            "type": "barpolar"
           }
          ],
          "carpet": [
           {
            "aaxis": {
             "endlinecolor": "#2a3f5f",
             "gridcolor": "white",
             "linecolor": "white",
             "minorgridcolor": "white",
             "startlinecolor": "#2a3f5f"
            },
            "baxis": {
             "endlinecolor": "#2a3f5f",
             "gridcolor": "white",
             "linecolor": "white",
             "minorgridcolor": "white",
             "startlinecolor": "#2a3f5f"
            },
            "type": "carpet"
           }
          ],
          "choropleth": [
           {
            "colorbar": {
             "outlinewidth": 0,
             "ticks": ""
            },
            "type": "choropleth"
           }
          ],
          "contour": [
           {
            "colorbar": {
             "outlinewidth": 0,
             "ticks": ""
            },
            "colorscale": [
             [
              0,
              "#0d0887"
             ],
             [
              0.1111111111111111,
              "#46039f"
             ],
             [
              0.2222222222222222,
              "#7201a8"
             ],
             [
              0.3333333333333333,
              "#9c179e"
             ],
             [
              0.4444444444444444,
              "#bd3786"
             ],
             [
              0.5555555555555556,
              "#d8576b"
             ],
             [
              0.6666666666666666,
              "#ed7953"
             ],
             [
              0.7777777777777778,
              "#fb9f3a"
             ],
             [
              0.8888888888888888,
              "#fdca26"
             ],
             [
              1,
              "#f0f921"
             ]
            ],
            "type": "contour"
           }
          ],
          "contourcarpet": [
           {
            "colorbar": {
             "outlinewidth": 0,
             "ticks": ""
            },
            "type": "contourcarpet"
           }
          ],
          "heatmap": [
           {
            "colorbar": {
             "outlinewidth": 0,
             "ticks": ""
            },
            "colorscale": [
             [
              0,
              "#0d0887"
             ],
             [
              0.1111111111111111,
              "#46039f"
             ],
             [
              0.2222222222222222,
              "#7201a8"
             ],
             [
              0.3333333333333333,
              "#9c179e"
             ],
             [
              0.4444444444444444,
              "#bd3786"
             ],
             [
              0.5555555555555556,
              "#d8576b"
             ],
             [
              0.6666666666666666,
              "#ed7953"
             ],
             [
              0.7777777777777778,
              "#fb9f3a"
             ],
             [
              0.8888888888888888,
              "#fdca26"
             ],
             [
              1,
              "#f0f921"
             ]
            ],
            "type": "heatmap"
           }
          ],
          "heatmapgl": [
           {
            "colorbar": {
             "outlinewidth": 0,
             "ticks": ""
            },
            "colorscale": [
             [
              0,
              "#0d0887"
             ],
             [
              0.1111111111111111,
              "#46039f"
             ],
             [
              0.2222222222222222,
              "#7201a8"
             ],
             [
              0.3333333333333333,
              "#9c179e"
             ],
             [
              0.4444444444444444,
              "#bd3786"
             ],
             [
              0.5555555555555556,
              "#d8576b"
             ],
             [
              0.6666666666666666,
              "#ed7953"
             ],
             [
              0.7777777777777778,
              "#fb9f3a"
             ],
             [
              0.8888888888888888,
              "#fdca26"
             ],
             [
              1,
              "#f0f921"
             ]
            ],
            "type": "heatmapgl"
           }
          ],
          "histogram": [
           {
            "marker": {
             "pattern": {
              "fillmode": "overlay",
              "size": 10,
              "solidity": 0.2
             }
            },
            "type": "histogram"
           }
          ],
          "histogram2d": [
           {
            "colorbar": {
             "outlinewidth": 0,
             "ticks": ""
            },
            "colorscale": [
             [
              0,
              "#0d0887"
             ],
             [
              0.1111111111111111,
              "#46039f"
             ],
             [
              0.2222222222222222,
              "#7201a8"
             ],
             [
              0.3333333333333333,
              "#9c179e"
             ],
             [
              0.4444444444444444,
              "#bd3786"
             ],
             [
              0.5555555555555556,
              "#d8576b"
             ],
             [
              0.6666666666666666,
              "#ed7953"
             ],
             [
              0.7777777777777778,
              "#fb9f3a"
             ],
             [
              0.8888888888888888,
              "#fdca26"
             ],
             [
              1,
              "#f0f921"
             ]
            ],
            "type": "histogram2d"
           }
          ],
          "histogram2dcontour": [
           {
            "colorbar": {
             "outlinewidth": 0,
             "ticks": ""
            },
            "colorscale": [
             [
              0,
              "#0d0887"
             ],
             [
              0.1111111111111111,
              "#46039f"
             ],
             [
              0.2222222222222222,
              "#7201a8"
             ],
             [
              0.3333333333333333,
              "#9c179e"
             ],
             [
              0.4444444444444444,
              "#bd3786"
             ],
             [
              0.5555555555555556,
              "#d8576b"
             ],
             [
              0.6666666666666666,
              "#ed7953"
             ],
             [
              0.7777777777777778,
              "#fb9f3a"
             ],
             [
              0.8888888888888888,
              "#fdca26"
             ],
             [
              1,
              "#f0f921"
             ]
            ],
            "type": "histogram2dcontour"
           }
          ],
          "mesh3d": [
           {
            "colorbar": {
             "outlinewidth": 0,
             "ticks": ""
            },
            "type": "mesh3d"
           }
          ],
          "parcoords": [
           {
            "line": {
             "colorbar": {
              "outlinewidth": 0,
              "ticks": ""
             }
            },
            "type": "parcoords"
           }
          ],
          "pie": [
           {
            "automargin": true,
            "type": "pie"
           }
          ],
          "scatter": [
           {
            "marker": {
             "colorbar": {
              "outlinewidth": 0,
              "ticks": ""
             }
            },
            "type": "scatter"
           }
          ],
          "scatter3d": [
           {
            "line": {
             "colorbar": {
              "outlinewidth": 0,
              "ticks": ""
             }
            },
            "marker": {
             "colorbar": {
              "outlinewidth": 0,
              "ticks": ""
             }
            },
            "type": "scatter3d"
           }
          ],
          "scattercarpet": [
           {
            "marker": {
             "colorbar": {
              "outlinewidth": 0,
              "ticks": ""
             }
            },
            "type": "scattercarpet"
           }
          ],
          "scattergeo": [
           {
            "marker": {
             "colorbar": {
              "outlinewidth": 0,
              "ticks": ""
             }
            },
            "type": "scattergeo"
           }
          ],
          "scattergl": [
           {
            "marker": {
             "colorbar": {
              "outlinewidth": 0,
              "ticks": ""
             }
            },
            "type": "scattergl"
           }
          ],
          "scattermapbox": [
           {
            "marker": {
             "colorbar": {
              "outlinewidth": 0,
              "ticks": ""
             }
            },
            "type": "scattermapbox"
           }
          ],
          "scatterpolar": [
           {
            "marker": {
             "colorbar": {
              "outlinewidth": 0,
              "ticks": ""
             }
            },
            "type": "scatterpolar"
           }
          ],
          "scatterpolargl": [
           {
            "marker": {
             "colorbar": {
              "outlinewidth": 0,
              "ticks": ""
             }
            },
            "type": "scatterpolargl"
           }
          ],
          "scatterternary": [
           {
            "marker": {
             "colorbar": {
              "outlinewidth": 0,
              "ticks": ""
             }
            },
            "type": "scatterternary"
           }
          ],
          "surface": [
           {
            "colorbar": {
             "outlinewidth": 0,
             "ticks": ""
            },
            "colorscale": [
             [
              0,
              "#0d0887"
             ],
             [
              0.1111111111111111,
              "#46039f"
             ],
             [
              0.2222222222222222,
              "#7201a8"
             ],
             [
              0.3333333333333333,
              "#9c179e"
             ],
             [
              0.4444444444444444,
              "#bd3786"
             ],
             [
              0.5555555555555556,
              "#d8576b"
             ],
             [
              0.6666666666666666,
              "#ed7953"
             ],
             [
              0.7777777777777778,
              "#fb9f3a"
             ],
             [
              0.8888888888888888,
              "#fdca26"
             ],
             [
              1,
              "#f0f921"
             ]
            ],
            "type": "surface"
           }
          ],
          "table": [
           {
            "cells": {
             "fill": {
              "color": "#EBF0F8"
             },
             "line": {
              "color": "white"
             }
            },
            "header": {
             "fill": {
              "color": "#C8D4E3"
             },
             "line": {
              "color": "white"
             }
            },
            "type": "table"
           }
          ]
         },
         "layout": {
          "annotationdefaults": {
           "arrowcolor": "#2a3f5f",
           "arrowhead": 0,
           "arrowwidth": 1
          },
          "autotypenumbers": "strict",
          "coloraxis": {
           "colorbar": {
            "outlinewidth": 0,
            "ticks": ""
           }
          },
          "colorscale": {
           "diverging": [
            [
             0,
             "#8e0152"
            ],
            [
             0.1,
             "#c51b7d"
            ],
            [
             0.2,
             "#de77ae"
            ],
            [
             0.3,
             "#f1b6da"
            ],
            [
             0.4,
             "#fde0ef"
            ],
            [
             0.5,
             "#f7f7f7"
            ],
            [
             0.6,
             "#e6f5d0"
            ],
            [
             0.7,
             "#b8e186"
            ],
            [
             0.8,
             "#7fbc41"
            ],
            [
             0.9,
             "#4d9221"
            ],
            [
             1,
             "#276419"
            ]
           ],
           "sequential": [
            [
             0,
             "#0d0887"
            ],
            [
             0.1111111111111111,
             "#46039f"
            ],
            [
             0.2222222222222222,
             "#7201a8"
            ],
            [
             0.3333333333333333,
             "#9c179e"
            ],
            [
             0.4444444444444444,
             "#bd3786"
            ],
            [
             0.5555555555555556,
             "#d8576b"
            ],
            [
             0.6666666666666666,
             "#ed7953"
            ],
            [
             0.7777777777777778,
             "#fb9f3a"
            ],
            [
             0.8888888888888888,
             "#fdca26"
            ],
            [
             1,
             "#f0f921"
            ]
           ],
           "sequentialminus": [
            [
             0,
             "#0d0887"
            ],
            [
             0.1111111111111111,
             "#46039f"
            ],
            [
             0.2222222222222222,
             "#7201a8"
            ],
            [
             0.3333333333333333,
             "#9c179e"
            ],
            [
             0.4444444444444444,
             "#bd3786"
            ],
            [
             0.5555555555555556,
             "#d8576b"
            ],
            [
             0.6666666666666666,
             "#ed7953"
            ],
            [
             0.7777777777777778,
             "#fb9f3a"
            ],
            [
             0.8888888888888888,
             "#fdca26"
            ],
            [
             1,
             "#f0f921"
            ]
           ]
          },
          "colorway": [
           "#636efa",
           "#EF553B",
           "#00cc96",
           "#ab63fa",
           "#FFA15A",
           "#19d3f3",
           "#FF6692",
           "#B6E880",
           "#FF97FF",
           "#FECB52"
          ],
          "font": {
           "color": "#2a3f5f"
          },
          "geo": {
           "bgcolor": "white",
           "lakecolor": "white",
           "landcolor": "#E5ECF6",
           "showlakes": true,
           "showland": true,
           "subunitcolor": "white"
          },
          "hoverlabel": {
           "align": "left"
          },
          "hovermode": "closest",
          "mapbox": {
           "style": "light"
          },
          "paper_bgcolor": "white",
          "plot_bgcolor": "#E5ECF6",
          "polar": {
           "angularaxis": {
            "gridcolor": "white",
            "linecolor": "white",
            "ticks": ""
           },
           "bgcolor": "#E5ECF6",
           "radialaxis": {
            "gridcolor": "white",
            "linecolor": "white",
            "ticks": ""
           }
          },
          "scene": {
           "xaxis": {
            "backgroundcolor": "#E5ECF6",
            "gridcolor": "white",
            "gridwidth": 2,
            "linecolor": "white",
            "showbackground": true,
            "ticks": "",
            "zerolinecolor": "white"
           },
           "yaxis": {
            "backgroundcolor": "#E5ECF6",
            "gridcolor": "white",
            "gridwidth": 2,
            "linecolor": "white",
            "showbackground": true,
            "ticks": "",
            "zerolinecolor": "white"
           },
           "zaxis": {
            "backgroundcolor": "#E5ECF6",
            "gridcolor": "white",
            "gridwidth": 2,
            "linecolor": "white",
            "showbackground": true,
            "ticks": "",
            "zerolinecolor": "white"
           }
          },
          "shapedefaults": {
           "line": {
            "color": "#2a3f5f"
           }
          },
          "ternary": {
           "aaxis": {
            "gridcolor": "white",
            "linecolor": "white",
            "ticks": ""
           },
           "baxis": {
            "gridcolor": "white",
            "linecolor": "white",
            "ticks": ""
           },
           "bgcolor": "#E5ECF6",
           "caxis": {
            "gridcolor": "white",
            "linecolor": "white",
            "ticks": ""
           }
          },
          "title": {
           "x": 0.05
          },
          "xaxis": {
           "automargin": true,
           "gridcolor": "white",
           "linecolor": "white",
           "ticks": "",
           "title": {
            "standoff": 15
           },
           "zerolinecolor": "white",
           "zerolinewidth": 2
          },
          "yaxis": {
           "automargin": true,
           "gridcolor": "white",
           "linecolor": "white",
           "ticks": "",
           "title": {
            "standoff": 15
           },
           "zerolinecolor": "white",
           "zerolinewidth": 2
          }
         }
        },
        "xaxis": {
         "anchor": "y",
         "domain": [
          0,
          0.45
         ]
        },
        "xaxis2": {
         "anchor": "y2",
         "domain": [
          0.55,
          1
         ]
        },
        "xaxis3": {
         "anchor": "y3",
         "domain": [
          0,
          0.45
         ]
        },
        "xaxis4": {
         "anchor": "y4",
         "domain": [
          0.55,
          1
         ]
        },
        "yaxis": {
         "anchor": "x",
         "domain": [
          0.575,
          1
         ]
        },
        "yaxis2": {
         "anchor": "x2",
         "domain": [
          0.575,
          1
         ]
        },
        "yaxis3": {
         "anchor": "x3",
         "domain": [
          0,
          0.425
         ]
        },
        "yaxis4": {
         "anchor": "x4",
         "domain": [
          0,
          0.425
         ]
        }
       }
      },
      "text/html": [
       "<div>                            <div id=\"cec2dbab-b11e-4233-bb4e-d8ce0df5c64d\" class=\"plotly-graph-div\" style=\"height:525px; width:100%;\"></div>            <script type=\"text/javascript\">                require([\"plotly\"], function(Plotly) {                    window.PLOTLYENV=window.PLOTLYENV || {};                                    if (document.getElementById(\"cec2dbab-b11e-4233-bb4e-d8ce0df5c64d\")) {                    Plotly.newPlot(                        \"cec2dbab-b11e-4233-bb4e-d8ce0df5c64d\",                        [{\"legendgroup\":\"0\",\"name\":\"The Sun\",\"type\":\"scatter\",\"x\":[\"2015-01\",\"2015-02\",\"2015-03\",\"2015-04\",\"2015-05\",\"2015-06\",\"2015-07\",\"2015-08\",\"2015-09\",\"2015-10\",\"2015-11\",\"2015-12\",\"2016-01\",\"2016-02\",\"2016-03\",\"2016-04\",\"2016-05\",\"2016-06\",\"2016-07\",\"2016-08\",\"2016-09\",\"2016-10\",\"2016-11\",\"2016-12\",\"2017-01\",\"2017-02\",\"2017-03\",\"2017-04\",\"2017-05\",\"2017-06\",\"2017-07\",\"2017-08\",\"2017-09\",\"2017-10\",\"2017-11\",\"2017-12\",\"2018-01\",\"2018-02\",\"2018-03\",\"2018-04\",\"2018-05\",\"2018-06\",\"2018-07\",\"2018-08\",\"2018-09\",\"2018-10\",\"2018-11\",\"2018-12\",\"2019-01\",\"2019-02\",\"2019-03\",\"2019-04\",\"2019-05\",\"2019-06\",\"2019-07\",\"2019-08\",\"2019-09\",\"2019-10\",\"2019-11\",\"2019-12\",\"2020-01\",\"2020-02\",\"2020-03\",\"2020-04\"],\"xaxis\":\"x\",\"y\":[0.39325842696629215,0.30666666666666664,0.30864197530864196,0.4,0.3968253968253968,0.4098360655737705,0.4479166666666667,0.3816793893129771,0.291044776119403,0.363013698630137,0.4074074074074074,0.41353383458646614,0.25,0.36936936936936937,0.2,0.40707964601769914,0.45955882352941174,0.3877551020408163,0.368,0.35399750156152404,0.3413417951042611,0.15384615384615385,0.27692307692307694,0.34044308272448737,0.3317972350230415,0.3995703544575725,0.3595288665765592,0.3409020217729393,0.347069065583285,0.4435326299335678,0.37579462102689487,0.3645314209310806,0.37755775577557754,0.34098233853293797,0.3700222606975019,0.37990762124711314,0.40262008733624455,0.4259723964868256,0.41261819367460056,0.42769500438212094,0.40821812596006146,0.34161629729124693,0.38287098194627917,0.38385714285714284,0.3914697093181201,0.38096497025776604,0.3741125760649087,0.37546690572239655,0.36991199119911994,0.39063462723351816,0.3586406362979031,0.37170263788968827,0.3607605310604819,0.31923727510379823,0.3414880711686211,0.3751735078326393,0.3572443181818182,0.3360668420238279,0.33488205861329523,0.3584466019417476,0.37176659314216964,0.3470024515266325,0.31154567372086794,0.3146811070998797],\"yaxis\":\"y\"},{\"legendgroup\":\"0\",\"name\":\"The Guardian\",\"type\":\"scatter\",\"x\":[\"2015-01\",\"2015-02\",\"2015-03\",\"2015-04\",\"2015-05\",\"2015-06\",\"2015-07\",\"2015-08\",\"2015-09\",\"2015-10\",\"2015-11\",\"2015-12\",\"2016-01\",\"2016-02\",\"2016-03\",\"2016-04\",\"2016-05\",\"2016-06\",\"2016-07\",\"2016-08\",\"2016-09\",\"2016-10\",\"2016-11\",\"2016-12\",\"2017-01\",\"2017-02\",\"2017-03\",\"2017-04\",\"2017-05\",\"2017-06\",\"2017-07\",\"2017-08\",\"2017-09\",\"2017-10\",\"2017-11\",\"2017-12\",\"2018-01\",\"2018-02\",\"2018-03\",\"2018-04\",\"2018-05\",\"2018-06\",\"2018-07\",\"2018-08\",\"2018-09\",\"2018-10\",\"2018-11\",\"2018-12\",\"2019-01\",\"2019-02\",\"2019-03\",\"2019-04\",\"2019-05\",\"2019-06\",\"2019-07\",\"2019-08\",\"2019-09\",\"2019-10\",\"2019-11\",\"2019-12\",\"2020-01\",\"2020-02\",\"2020-03\",\"2020-04\"],\"xaxis\":\"x\",\"y\":[0.17269254194119926,0.18032786885245902,0.1767737416191334,0.1791907514450867,0.16724104298068795,0.20346320346320346,0.1959005856306242,0.18603546548448385,0.1929146391377507,0.18960343474447164,0.1866429840142096,0.1969070067150512,0.1611185086551265,0.18558749503245464,0.18269230769230768,0.15299026425591097,0.20535714285714285,0.17178612059158135,0.1927007299270073,0.18450704225352113,0.13548387096774195,0.20761904761904762,0.15324384787472037,0.30980392156862746,0.20491803278688525,0.19047619047619047,0.2562814070351759,0.23214285714285715,0.12962962962962962,0.25824175824175827,0.15807962529274006,0.21523653491705919,0.2053894927536232,0.2280211245728487,0.2203891708967851,0.21434820647419073,0.27880184331797236,0.1995503091624508,0.2466802860061287,0.27324973876698017,0.24564537740062528,0.23746249464209174,0.24922440537745605,0.25137903861308114,0.24393358876117496,0.24029574861367836,0.24269557021677662,0.24659606656580937,0.23517786561264822,0.18563751831949193,0.2862577270565858,0.1860559383867045,0.22727272727272727,0.3128834355828221,0.26924987580725285,0.2590934527140459,0.23837209302325582,0.19925373134328359,0.2203757225433526,0.22556390977443608,0.25177025963808025,0.21605584642233858,0.2540587977182975,0.225],\"yaxis\":\"y\"},{\"legendgroup\":\"0\",\"name\":\"The Times\",\"type\":\"scatter\",\"x\":[\"2015-01\",\"2015-02\",\"2015-03\",\"2015-04\",\"2015-05\",\"2015-06\",\"2015-07\",\"2015-08\",\"2015-09\",\"2015-10\",\"2015-11\",\"2015-12\",\"2016-01\",\"2016-02\",\"2016-04\",\"2016-05\",\"2016-06\",\"2016-07\",\"2016-08\",\"2016-09\",\"2016-11\",\"2016-12\",\"2017-02\",\"2017-03\",\"2017-04\",\"2017-05\",\"2017-06\",\"2017-07\",\"2017-08\",\"2017-09\",\"2017-10\",\"2017-11\",\"2017-12\",\"2018-01\",\"2018-02\",\"2018-03\",\"2018-04\",\"2018-05\",\"2018-06\",\"2018-07\",\"2018-08\",\"2018-09\",\"2018-10\",\"2018-11\",\"2018-12\",\"2019-01\",\"2019-02\",\"2019-03\",\"2019-04\",\"2019-05\",\"2019-06\",\"2019-07\",\"2019-08\",\"2019-09\",\"2019-10\",\"2019-11\",\"2019-12\",\"2020-01\",\"2020-02\",\"2020-03\",\"2020-04\"],\"xaxis\":\"x\",\"y\":[0.1702127659574468,0.13286713286713286,0.11538461538461539,0.2647058823529412,0.13793103448275862,0.15730337078651685,0.11904761904761904,0.20121951219512196,0.20155038759689922,0.2146118721461187,0.14358974358974358,0.17813765182186234,0.2222222222222222,0.21782178217821782,0.12121212121212122,0.19742489270386265,0.2,0.22427440633245382,0.23169107856191745,0.19500594530321047,0.4,0.16842105263157894,0.15625,0.1956521739130435,0.24603174603174602,0.22818791946308725,0.30344827586206896,0.25675675675675674,0.19148936170212766,0.12037037037037036,0.28205128205128205,0.23809523809523808,0.07142857142857142,0.41935483870967744,0.1875,0.19444444444444445,0.35294117647058826,0.1875,0.10638297872340426,0.22875816993464052,0.19281045751633988,0.21301775147928995,0.21205357142857142,0.21651376146788992,0.1957547169811321,0.2036036036036036,0.1975560081466395,0.22283609576427257,0.2148997134670487,0.23539823008849559,0.21611001964636542,0.2139917695473251,0.1867007672634271,0.20543293718166383,0.19413919413919414,0.20386266094420602,0.21082621082621084,0.23344947735191637,0.20689655172413793,0.25365853658536586,0.11180124223602485],\"yaxis\":\"y\"},{\"legendgroup\":\"0\",\"name\":\"Metro\",\"type\":\"scatter\",\"x\":[\"2015-01\",\"2015-02\",\"2015-03\",\"2015-05\",\"2015-06\",\"2015-08\",\"2015-09\",\"2015-10\",\"2015-11\",\"2015-12\",\"2016-02\",\"2016-04\",\"2016-05\",\"2016-07\",\"2016-08\",\"2016-09\",\"2016-11\",\"2016-12\",\"2017-01\",\"2017-02\",\"2017-03\",\"2017-04\",\"2017-05\",\"2017-06\",\"2017-07\",\"2017-08\",\"2017-09\",\"2017-10\",\"2017-11\",\"2017-12\",\"2018-01\",\"2018-02\",\"2018-03\",\"2018-04\",\"2018-05\",\"2018-06\",\"2018-07\",\"2018-08\",\"2018-09\",\"2018-10\",\"2018-11\",\"2018-12\",\"2019-01\",\"2019-02\",\"2019-03\",\"2019-04\",\"2019-05\",\"2019-06\",\"2019-07\",\"2019-08\",\"2019-09\",\"2019-10\",\"2019-11\",\"2019-12\",\"2020-01\",\"2020-02\",\"2020-03\",\"2020-04\"],\"xaxis\":\"x\",\"y\":[0.5,0.4,0.5,0.6666666666666666,0.6666666666666666,0.2,0.125,0.2,0.36363636363636365,0.13333333333333333,0.2,0.4090909090909091,0.4,0.28,0.18867924528301888,0.22641509433962265,1.0,0.35294117647058826,0.2,0.3333333333333333,0.42857142857142855,0.3253012048192771,0.36,0.42,0.38666666666666666,0.39869281045751637,0.30701754385964913,0.33783783783783783,0.36470588235294116,0.17647058823529413,0.4666666666666667,0.4444444444444444,0.5,0.39473684210526316,0.375,0.5061728395061729,0.28846153846153844,0.391304347826087,0.4,0.20224719101123595,0.3567567567567568,0.3798449612403101,0.22807017543859648,0.3048780487804878,0.31333333333333335,0.4567901234567901,0.3197278911564626,0.4064516129032258,0.42168674698795183,0.3020833333333333,0.2641509433962264,0.3559322033898305,0.3375796178343949,0.3543307086614173,0.2857142857142857,0.2857142857142857,0.44155844155844154,0.26666666666666666],\"yaxis\":\"y\"},{\"legendgroup\":\"0\",\"name\":\"Evening Standard\",\"type\":\"scatter\",\"x\":[\"2015-01\",\"2015-02\",\"2015-03\",\"2015-04\",\"2015-05\",\"2015-06\",\"2015-07\",\"2015-08\",\"2015-09\",\"2015-10\",\"2015-11\",\"2015-12\",\"2016-01\",\"2016-02\",\"2016-03\",\"2016-04\",\"2016-05\",\"2016-06\",\"2016-07\",\"2016-08\",\"2016-09\",\"2016-10\",\"2016-11\",\"2016-12\",\"2017-01\",\"2017-02\",\"2017-03\",\"2017-04\",\"2017-05\",\"2017-06\",\"2017-07\",\"2017-08\",\"2017-09\",\"2017-10\",\"2017-11\",\"2017-12\",\"2018-01\",\"2018-02\",\"2018-03\",\"2018-04\",\"2018-05\",\"2018-06\",\"2018-07\",\"2018-08\",\"2018-09\",\"2018-10\",\"2018-11\",\"2018-12\",\"2019-01\",\"2019-02\",\"2019-03\",\"2019-04\",\"2019-05\",\"2019-06\",\"2019-07\",\"2019-08\",\"2019-09\",\"2019-10\",\"2019-11\",\"2019-12\",\"2020-01\",\"2020-02\",\"2020-03\",\"2020-04\"],\"xaxis\":\"x\",\"y\":[0.1638986013986014,0.1882396449704142,0.18886198547215496,0.2266541529798217,0.19047619047619047,0.22526193247962747,0.1769890424011434,0.166579452293738,0.1762652705061082,0.15049879600963192,0.17404333794375287,0.1487408184679958,0.13793103448275862,0.20891514500537056,0.4,0.17346000612932883,0.17387934375403694,0.29411764705882354,0.20454845960597645,0.21262905880592547,0.20781833860304685,0.16666666666666666,0.19696969696969696,0.16530278232405893,0.29310344827586204,0.20029455081001474,0.18282171480417359,0.16897428652161628,0.18834785092103384,0.19189360354654844,0.20590855106888362,0.20757850241545894,0.18988596926127913,0.20236516357206014,0.17627118644067796,0.1901958099411201,0.22961480740370185,0.2378660575903418,0.19953917050691244,0.22013765541740674,0.19000725614180575,0.17700892857142858,0.2042965459140691,0.19637030995106036,0.17570429993645414,0.21925949722913823,0.19962931500501968,0.19822901992352587,0.23293323330832708,0.25071736011477763,0.2156542658303978,0.24385672636401498,0.22805970149253732,0.21012171684817424,0.21073269101501232,0.19170146840899907,0.18008800880088008,0.17735916118713346,0.1763380281690141,0.20760611937082527,0.19680801707339704,0.1972615456022279,0.19622437971952536,0.17732175743225467],\"yaxis\":\"y\"},{\"legendgroup\":\"0\",\"name\":\"Daily Mirror\",\"type\":\"scatter\",\"x\":[\"2015-01\",\"2015-02\",\"2015-03\",\"2015-04\",\"2015-05\",\"2015-06\",\"2015-07\",\"2015-08\",\"2015-09\",\"2015-10\",\"2015-11\",\"2015-12\",\"2016-01\",\"2016-02\",\"2016-03\",\"2016-04\",\"2016-05\",\"2016-06\",\"2016-07\",\"2016-08\",\"2016-09\",\"2016-10\",\"2016-11\",\"2016-12\",\"2017-01\",\"2017-02\",\"2017-03\",\"2017-04\",\"2017-05\",\"2017-06\",\"2017-07\",\"2017-08\",\"2017-09\",\"2017-10\",\"2017-11\",\"2017-12\",\"2018-01\",\"2018-02\",\"2018-03\",\"2018-04\",\"2018-05\",\"2018-06\",\"2018-07\",\"2018-08\",\"2018-09\",\"2018-10\",\"2018-11\",\"2018-12\",\"2019-01\",\"2019-02\",\"2019-03\",\"2019-04\",\"2019-05\",\"2019-06\",\"2019-07\",\"2019-08\",\"2019-09\",\"2019-10\",\"2019-11\",\"2019-12\",\"2020-01\",\"2020-02\",\"2020-03\",\"2020-04\"],\"xaxis\":\"x\",\"y\":[0.2781085814360771,0.234984520123839,0.22559740785743215,0.26167907921462424,0.2523120701920797,0.26864955624850084,0.26283748014822655,0.2645127850725639,0.2625364633976941,0.22181959363271644,0.20929880357413297,0.224089276552078,0.1875,0.21574848572252667,0.4,0.24118285404232231,0.2562574493444577,0.3645833333333333,0.2884892086330935,0.27075471698113207,0.2474053295932679,0.2857142857142857,0.37,0.24750034241884675,0.312,0.28520935290918975,0.24869255591409814,0.23336790635649726,0.23715368221643382,0.26816074188562594,0.26003917727717923,0.28196223138701976,0.2747472620050548,0.2757471920807158,0.26921815199562604,0.26356295735553875,0.2913657770800628,0.2895762011568882,0.2922265352841644,0.2866809116809117,0.28936071470008123,0.27561162079510704,0.28581997533908754,0.30381660158710166,0.2814605520539013,0.27847721822541965,0.27651288196524865,0.292080378250591,0.28937007874015747,0.2982627578718784,0.289759222899659,0.2952683702164079,0.27316040232927474,0.2737393582187295,0.306841046277666,0.29051946290519465,0.28010181496237274,0.29699789520327907,0.28114675476926354,0.28643284393692225,0.3142424624700391,0.298683404776485,0.3199047793444424,0.2798869143780291],\"yaxis\":\"y\"},{\"legendgroup\":\"0\",\"name\":\"The Daily Telegraph\",\"type\":\"scatter\",\"x\":[\"2015-01\",\"2015-02\",\"2015-03\",\"2015-04\",\"2015-05\",\"2015-06\",\"2015-07\",\"2015-08\",\"2015-09\",\"2015-10\",\"2015-11\",\"2015-12\",\"2016-01\",\"2016-02\",\"2016-03\",\"2016-04\",\"2016-05\",\"2016-06\",\"2016-07\",\"2016-08\",\"2016-09\",\"2016-10\",\"2016-11\",\"2016-12\",\"2017-01\",\"2017-02\",\"2017-03\",\"2017-04\",\"2017-05\",\"2017-06\",\"2017-07\",\"2017-08\",\"2017-09\",\"2017-10\",\"2017-11\",\"2017-12\",\"2018-01\",\"2018-02\",\"2018-03\",\"2018-04\",\"2018-05\",\"2018-06\",\"2018-07\",\"2018-08\",\"2018-09\",\"2018-10\",\"2018-11\",\"2018-12\",\"2019-01\",\"2019-02\",\"2019-03\",\"2019-04\",\"2019-05\",\"2019-06\",\"2019-07\",\"2019-08\",\"2019-09\",\"2019-10\",\"2019-11\",\"2019-12\",\"2020-01\",\"2020-02\",\"2020-03\",\"2020-04\"],\"xaxis\":\"x\",\"y\":[0.15356749094345568,0.14304045893719808,0.14201570680628273,0.15972411289590707,0.1635941130906274,0.16459310626147255,0.16354451694380132,0.1759314604502889,0.1746511915051241,0.16840707430433996,0.16859434360489658,0.1732082613346499,0.20075757575757575,0.1719734928074996,0.375,0.1797165267648273,0.1752425137072965,0.1728395061728395,0.2041875604820973,0.18249218401071907,0.18062692702980473,0.05128205128205128,0.18421052631578946,0.1785580172737514,0.26857142857142857,0.18358066060315942,0.1816572702242035,0.16180692911376252,0.18325212651746633,0.1795020266357846,0.18219110262394794,0.21172398138690274,0.18760082968425904,0.18164469118667592,0.16934619506966775,0.16977152899824252,0.18446491527351302,0.18647782835946722,0.1708517971442639,0.18270924266789187,0.16056795705001412,0.18107727643179966,0.18494673104928336,0.16481212707627801,0.16360706278026907,0.1893758300132802,0.18187804556828657,0.176406289413941,0.2008816120906801,0.22608883605317195,0.19541263773330336,0.1922537187763121,0.20212834569493712,0.22110515887576135,0.20370047128643742,0.16382042253521126,0.18051205229470244,0.1834655316953634,0.19334400891178724,0.19691879046136196,0.20166980244590782,0.2083452824777746,0.20102007772020725,0.18092621664050235],\"yaxis\":\"y\"},{\"legendgroup\":\"0\",\"name\":\"Daily Express\",\"type\":\"scatter\",\"x\":[\"2015-01\",\"2015-02\",\"2015-03\",\"2015-04\",\"2015-05\",\"2015-06\",\"2015-07\",\"2015-08\",\"2015-09\",\"2015-10\",\"2015-11\",\"2015-12\",\"2016-01\",\"2016-02\",\"2016-03\",\"2016-04\",\"2016-05\",\"2016-06\",\"2016-07\",\"2016-08\",\"2016-09\",\"2016-10\",\"2016-11\",\"2016-12\",\"2017-01\",\"2017-02\",\"2017-03\",\"2017-04\",\"2017-05\",\"2017-06\",\"2017-07\",\"2017-08\",\"2017-09\",\"2017-10\",\"2017-11\",\"2017-12\",\"2018-01\",\"2018-02\",\"2018-03\",\"2018-04\",\"2018-05\",\"2018-06\",\"2018-07\",\"2018-08\",\"2018-09\",\"2018-10\",\"2018-11\",\"2018-12\",\"2019-01\",\"2019-02\",\"2019-03\",\"2019-04\",\"2019-05\",\"2019-06\",\"2019-07\",\"2019-08\",\"2019-09\",\"2019-10\",\"2019-11\",\"2019-12\",\"2020-01\",\"2020-02\",\"2020-03\",\"2020-04\"],\"xaxis\":\"x\",\"y\":[0.2322689075630252,0.25414169897779343,0.24064516129032257,0.21308016877637131,0.155631013016412,0.1699552749276506,0.13714285714285715,0.13805970149253732,0.14495028780743066,0.17195982627578718,0.20157831531995196,0.20092177379172896,0.15348837209302327,0.16280309086064482,0.1875,0.206858407079646,0.20009756097560977,0.2229299363057325,0.236117381489842,0.23795805485134824,0.228386749259359,0.2608695652173913,0.1657754010695187,0.20386890787867407,0.19014084507042253,0.2559836544074723,0.2658580560563842,0.20159694260560979,0.24467565114168005,0.227028774652441,0.22801894238358328,0.1823734729493892,0.22535449020931803,0.18399415311529327,0.18590536135776103,0.15655021834061136,0.19777270897625118,0.20737605804111245,0.18321940758611446,0.2147636749867233,0.2418355686533951,0.24640385194101716,0.2306933697466242,0.19822799763733018,0.23493211521380536,0.21268524007113218,0.14560236511456023,0.194775311315647,0.23369672943508424,0.21011115095016134,0.23963679431504145,0.2929061784897025,0.2697882376062497,0.2554429213224283,0.24946163436472854,0.1795844327176781,0.266966929911155,0.24768505368403113,0.25441996283514734,0.26920219878175605,0.2600169471008352,0.23749146591241588,0.2269338754961758,0.21869208366428383],\"yaxis\":\"y\"},{\"legendgroup\":\"0\",\"name\":\"Daily Star\",\"type\":\"scatter\",\"x\":[\"2015-01\",\"2015-02\",\"2015-03\",\"2015-04\",\"2015-05\",\"2015-06\",\"2015-07\",\"2015-08\",\"2015-09\",\"2015-10\",\"2015-11\",\"2015-12\",\"2016-01\",\"2016-02\",\"2016-03\",\"2016-04\",\"2016-05\",\"2016-06\",\"2016-07\",\"2016-08\",\"2016-09\",\"2016-10\",\"2016-11\",\"2016-12\",\"2017-01\",\"2017-02\",\"2017-03\",\"2017-04\",\"2017-05\",\"2017-06\",\"2017-07\",\"2017-08\",\"2017-09\",\"2017-10\",\"2017-11\",\"2017-12\",\"2018-01\",\"2018-02\",\"2018-03\",\"2018-04\",\"2018-05\",\"2018-06\",\"2018-07\",\"2018-08\",\"2018-09\",\"2018-10\",\"2018-11\",\"2018-12\",\"2019-01\",\"2019-02\",\"2019-03\",\"2019-04\",\"2019-05\",\"2019-06\",\"2019-07\",\"2019-08\",\"2019-09\",\"2019-10\",\"2019-11\",\"2019-12\",\"2020-01\",\"2020-02\",\"2020-03\",\"2020-04\"],\"xaxis\":\"x\",\"y\":[0.23925896728419394,0.23779277491067885,0.18931101094655506,0.18261199696279423,0.1711051930758988,0.2209991532599492,0.15384615384615385,0.26356589147286824,0.20382165605095542,0.18374558303886926,0.15447470817120623,0.14381563593932323,0.10606060606060606,0.13783323879750425,0.16666666666666666,0.17228464419475656,0.17829457364341086,0.4642857142857143,0.19406007424907187,0.20341922695738354,0.2125588187570988,0.045454545454545456,0.30303030303030304,0.19457714654615882,0.36363636363636365,0.2634514435695538,0.27858223470931487,0.256081438392385,0.2890572765767774,0.3172814207650273,0.2667970138642019,0.2459954233409611,0.23091222945160006,0.22436964034301804,0.21014799154334038,0.19778243931675157,0.23834760157630114,0.24632411067193677,0.2547028963869812,0.2413573363071531,0.2316289038579302,0.22929150511103277,0.2599639166803346,0.2382500738989063,0.2223165040305473,0.23274584088288586,0.22641509433962265,0.19284862932061977,0.22008770098141575,0.18529345626264898,0.22416169039963252,0.2127583749109052,0.2143318269851517,0.22703180212014135,0.25774754346182915,0.29331476323119776,0.32265661799340556,0.26772877404313195,0.2280481235410307,0.24871355060034306,0.26253101736972706,0.24068698597000485,0.25029002320185617,0.29693076374018557],\"yaxis\":\"y\"},{\"legendgroup\":\"0\",\"name\":\"i\",\"type\":\"scatter\",\"x\":[\"2015-01\",\"2015-02\",\"2015-03\",\"2015-04\",\"2015-05\",\"2015-06\",\"2015-07\",\"2015-08\",\"2015-09\",\"2015-10\",\"2015-11\",\"2015-12\",\"2016-01\",\"2016-02\",\"2016-04\",\"2016-05\",\"2016-06\",\"2016-07\",\"2016-08\",\"2016-09\",\"2016-11\",\"2016-12\",\"2017-01\",\"2017-02\",\"2017-03\",\"2017-04\",\"2017-05\",\"2017-06\",\"2017-07\",\"2017-08\",\"2017-09\",\"2017-10\",\"2017-11\",\"2017-12\",\"2018-01\",\"2018-02\",\"2018-03\",\"2018-04\",\"2018-05\",\"2018-06\",\"2018-07\",\"2018-08\",\"2018-09\",\"2018-10\",\"2018-11\",\"2018-12\",\"2019-01\",\"2019-02\",\"2019-03\",\"2019-04\",\"2019-05\",\"2019-06\",\"2019-07\",\"2019-08\",\"2019-09\",\"2019-10\",\"2019-11\",\"2019-12\",\"2020-01\",\"2020-02\",\"2020-03\",\"2020-04\"],\"xaxis\":\"x\",\"y\":[0.2,0.25,0.32,0.25,0.4166666666666667,0.3076923076923077,0.18518518518518517,0.20754716981132076,0.25806451612903225,0.23255813953488372,0.30303030303030304,0.39473684210526316,1.0,0.19047619047619047,0.3076923076923077,0.13333333333333333,0.4,0.28169014084507044,0.2916666666666667,0.26785714285714285,0.4,0.3404255319148936,0.42857142857142855,0.24193548387096775,0.31137724550898205,0.26582278481012656,0.27882173692229556,0.32101847229156266,0.23034551827741612,0.24179829890643986,0.24195570413706644,0.28171967843411394,0.2453846153846154,0.2369995398067188,0.2774798927613941,0.2745318352059925,0.2682926829268293,0.2703313253012048,0.2476664592408214,0.2620980837934394,0.2515451174289246,0.23772434812055537,0.2422810333963453,0.28033838973162195,0.27451547584610936,0.27256574271499645,0.2943429581614614,0.2696999670293439,0.2796934865900383,0.26952695269526955,0.2534067845752392,0.26991869918699185,0.2753623188405797,0.22850412249705537,0.21655172413793103,0.2463510145959416,0.2286652078774617,0.2469310670443815,0.21307925508878303,0.2600297176820208,0.19419488597097442,0.18875502008032127],\"yaxis\":\"y\"},{\"legendgroup\":\"0\",\"name\":\"Financial Times\",\"type\":\"scatter\",\"x\":[\"2015-01\",\"2015-02\",\"2015-03\",\"2015-04\",\"2015-05\",\"2015-06\",\"2015-07\",\"2015-08\",\"2015-09\",\"2015-10\",\"2015-11\",\"2015-12\",\"2016-02\",\"2016-04\",\"2016-05\",\"2016-06\",\"2016-07\",\"2016-08\",\"2016-09\",\"2016-11\",\"2016-12\",\"2017-02\",\"2017-03\",\"2017-04\",\"2017-05\",\"2017-06\",\"2017-07\",\"2017-08\",\"2017-09\",\"2017-10\",\"2017-11\",\"2017-12\",\"2018-01\",\"2018-02\",\"2018-03\",\"2018-04\",\"2018-05\",\"2018-06\",\"2018-07\",\"2018-08\",\"2018-09\",\"2018-10\",\"2018-11\",\"2018-12\",\"2019-01\",\"2019-02\",\"2019-03\",\"2019-04\",\"2019-05\",\"2019-06\",\"2019-07\",\"2019-08\",\"2019-09\",\"2019-10\",\"2019-11\",\"2019-12\",\"2020-01\",\"2020-02\",\"2020-03\",\"2020-04\"],\"xaxis\":\"x\",\"y\":[0.14285714285714285,0.1580952380952381,0.10956175298804781,0.12292358803986711,0.11170212765957446,0.06818181818181818,0.16296296296296298,0.20286396181384247,0.11283185840707964,0.08613138686131387,0.1111111111111111,0.23711340206185566,0.17391304347826086,0.07119741100323625,0.13547486033519554,0.08333333333333333,0.17069486404833836,0.10416666666666667,0.12598425196850394,0.09375,0.23370786516853934,0.1383399209486166,0.10204081632653061,0.10940499040307101,0.13523131672597866,0.12777777777777777,0.08949416342412451,0.06271186440677966,0.13464235624123422,0.19122609673790777,0.1225,0.11594202898550725,0.1368421052631579,0.10443037974683544,0.19791666666666666,0.11068702290076336,0.11627906976744186,0.1050080775444265,0.08686440677966102,0.0958904109589041,0.21070234113712374,0.08384146341463415,0.15568862275449102,0.1903485254691689,0.18299445471349354,0.1835564053537285,0.15995115995115994,0.13296903460837886,0.15,0.1244343891402715,0.17052023121387283,0.06569343065693431,0.13513513513513514,0.2682926829268293,0.1455026455026455,0.10726643598615918,0.17985611510791366,0.13636363636363635,0.2126984126984127,0.13414634146341464],\"yaxis\":\"y\"},{\"legendgroup\":\"0\",\"name\":\"Daily Mail\",\"type\":\"scatter\",\"x\":[\"2015-01\",\"2015-02\",\"2015-03\",\"2015-04\",\"2015-05\",\"2015-06\",\"2015-07\",\"2015-08\",\"2015-09\",\"2015-10\",\"2015-11\",\"2015-12\",\"2016-01\",\"2016-02\",\"2016-03\",\"2016-04\",\"2016-05\",\"2016-06\",\"2016-07\",\"2016-08\",\"2016-09\",\"2016-11\",\"2016-12\",\"2017-01\",\"2017-02\",\"2017-03\",\"2017-04\",\"2017-05\",\"2017-06\",\"2017-07\",\"2017-08\",\"2017-09\",\"2017-10\",\"2017-11\",\"2017-12\",\"2018-01\",\"2018-02\",\"2018-03\",\"2018-04\",\"2018-05\",\"2018-06\",\"2018-07\",\"2018-08\",\"2018-09\",\"2018-10\",\"2018-11\",\"2018-12\",\"2019-01\",\"2019-02\",\"2019-03\",\"2019-04\",\"2019-05\",\"2019-06\",\"2019-07\",\"2019-08\",\"2019-09\",\"2019-10\",\"2019-11\",\"2019-12\",\"2020-01\",\"2020-02\",\"2020-03\",\"2020-04\"],\"xaxis\":\"x\",\"y\":[0.12272727272727273,0.1569767441860465,0.15600350569675722,0.11893764434180139,0.09387755102040816,0.1903765690376569,0.19688385269121814,0.13099041533546327,0.18689320388349515,0.17480314960629922,0.15063291139240506,0.15857605177993528,0.10526315789473684,0.3412322274881517,1.0,0.141156462585034,0.13730569948186527,0.37142857142857144,0.19796380090497737,0.10243183492999262,0.13970007892659828,0.5333333333333333,0.15323224261771748,0.42105263157894735,0.1214574898785425,0.1401315789473684,0.14346712211784798,0.19767441860465115,0.21402550091074682,0.15113719735876743,0.1642806012884753,0.17992831541218637,0.24114583333333334,0.22329317269076304,0.13459879206212252,0.14736842105263157,0.14310051107325383,0.13423351866560762,0.0816400580551524,0.16141101015499731,0.19414893617021275,0.1393372982158029,0.17940876656472987,0.1612453531598513,0.16574307304785893,0.167658193618172,0.19553072625698323,0.18922716627634661,0.24053295932678823,0.1967445152158528,0.20443482963764198,0.2072892938496583,0.21176470588235294,0.2390786338363781,0.20417515274949083,0.21362977283711937,0.2077431539187913,0.23487374940447833,0.23086816720257236,0.17132867132867133,0.21353196772191185,0.22126436781609196,0.19099378881987578],\"yaxis\":\"y\"},{\"legendgroup\":\"0\",\"name\":\"Daily Record\",\"type\":\"scatter\",\"x\":[\"2015-01\",\"2015-02\",\"2015-03\",\"2015-04\",\"2015-05\",\"2015-06\",\"2015-07\",\"2015-08\",\"2015-09\",\"2015-10\",\"2015-11\",\"2015-12\",\"2016-01\",\"2016-02\",\"2016-04\",\"2016-05\",\"2016-06\",\"2016-07\",\"2016-08\",\"2016-09\",\"2016-10\",\"2016-11\",\"2016-12\",\"2017-02\",\"2017-03\",\"2017-04\",\"2017-05\",\"2017-06\",\"2017-07\",\"2017-08\",\"2017-09\",\"2017-10\",\"2017-11\",\"2017-12\",\"2018-01\",\"2018-02\",\"2018-03\",\"2018-04\",\"2018-05\",\"2018-06\",\"2018-07\",\"2018-08\",\"2018-09\",\"2018-10\",\"2018-11\",\"2018-12\",\"2019-01\",\"2019-02\",\"2019-03\",\"2019-04\",\"2019-05\",\"2019-06\",\"2019-07\",\"2019-08\",\"2019-09\",\"2019-10\",\"2019-11\",\"2019-12\",\"2020-01\",\"2020-02\",\"2020-03\",\"2020-04\"],\"xaxis\":\"x\",\"y\":[0.23197903014416776,0.21404109589041095,0.20273348519362186,0.1974169741697417,0.24007009345794392,0.2321867321867322,0.2703488372093023,0.26289350301406567,0.24450721908349027,0.27118129365320376,0.24094424094424094,0.25478287276040085,0.15714285714285714,0.21863799283154123,0.24472168905950095,0.26259541984732826,0.1875,0.2724616508400292,0.3362944162436548,0.2917981072555205,0.5,0.2857142857142857,0.24937308442463083,0.25645035183737297,0.24126326689101735,0.21826710816777042,0.3111111111111111,0.24952484387727397,0.2282575526396094,0.25049051667756705,0.2500940203083866,0.24401650618982118,0.2694006309148265,0.2481060606060606,0.24061196105702365,0.19719151478936361,0.21571349250416436,0.22030366180410837,0.20422331501301708,0.24187604690117254,0.2290292177191329,0.2445550715619166,0.23437949899222574,0.21444270015698588,0.20978196817913966,0.23702127659574468,0.2065967016491754,0.22737376945061924,0.20965744944283946,0.2358788974243109,0.20295318881558277,0.23606331727460428,0.22555205047318613,0.18293216630196937,0.16259569814072183,0.16919816319321795,0.1926991926991927,0.19389110225763612,0.2014719411223551,0.1906293063849334,0.201363073110285,0.21428571428571427],\"yaxis\":\"y\"},{\"legendgroup\":\"0\",\"name\":\"City A.M.\",\"type\":\"scatter\",\"x\":[\"2015-01\",\"2015-02\",\"2015-03\",\"2015-04\",\"2015-05\",\"2015-06\",\"2015-07\",\"2015-08\",\"2015-09\",\"2015-10\",\"2015-11\",\"2015-12\",\"2016-02\",\"2016-04\",\"2016-05\",\"2016-06\",\"2016-07\",\"2016-08\",\"2016-09\",\"2016-12\",\"2017-01\",\"2017-02\",\"2017-03\",\"2017-04\",\"2017-05\",\"2017-06\",\"2017-07\",\"2017-08\",\"2017-09\",\"2017-10\",\"2017-11\",\"2017-12\",\"2018-01\",\"2018-02\",\"2018-03\",\"2018-04\",\"2018-05\",\"2018-06\",\"2018-07\",\"2018-08\",\"2018-09\",\"2018-10\",\"2018-11\",\"2018-12\",\"2019-01\",\"2019-02\",\"2019-03\",\"2019-04\",\"2019-05\",\"2019-06\",\"2019-07\",\"2019-08\",\"2019-09\",\"2019-10\",\"2019-11\",\"2019-12\",\"2020-01\",\"2020-02\",\"2020-03\",\"2020-04\"],\"xaxis\":\"x\",\"y\":[0.116751269035533,0.1087866108786611,0.11813471502590674,0.07450980392156863,0.14313725490196078,0.1316348195329087,0.09385113268608414,0.07763401109057301,0.10287443267776097,0.11127819548872181,0.046357615894039736,0.09287257019438445,0.11147540983606558,0.034722222222222224,0.06274509803921569,0.22857142857142856,0.1566424322538004,0.1024978466838932,0.12364425162689804,0.10613437195715676,0.13636363636363635,0.12578616352201258,0.1205298013245033,0.13790112749349523,0.17009493670886075,0.18501170960187355,0.11665495432185524,0.104570100697134,0.12716763005780346,0.1456761462565293,0.12648456057007126,0.14645103324348607,0.14873837981407703,0.1331081081081081,0.12679917751884853,0.12840466926070038,0.09796533534287867,0.11875,0.10703125,0.09879839786381843,0.14676390154968094,0.13447653429602888,0.18157894736842106,0.16264294790343076,0.14804469273743018,0.13097713097713098,0.1551383399209486,0.19499341238471674,0.14506437768240343,0.12589928057553956,0.12595419847328243,0.12598425196850394,0.145933014354067,0.13402061855670103,0.13402889245585875,0.13668061366806136,0.1317027281279398,0.13588850174216027,0.0984251968503937,0.06914893617021277],\"yaxis\":\"y\"},{\"legendgroup\":\"1\",\"name\":\"USA Today\",\"type\":\"scatter\",\"x\":[\"2015-01\",\"2015-02\",\"2015-03\",\"2015-04\",\"2015-05\",\"2015-06\",\"2015-07\",\"2015-08\",\"2015-09\",\"2015-10\",\"2015-11\",\"2015-12\",\"2016-01\",\"2016-02\",\"2016-03\",\"2016-04\",\"2016-05\",\"2016-06\",\"2016-07\",\"2016-08\",\"2016-09\",\"2016-10\",\"2016-11\",\"2016-12\",\"2017-01\",\"2017-02\",\"2017-03\",\"2017-04\",\"2017-05\",\"2017-06\",\"2017-07\",\"2017-08\",\"2017-09\",\"2017-10\",\"2017-11\",\"2017-12\",\"2018-01\",\"2018-02\",\"2018-03\",\"2018-04\",\"2018-05\",\"2018-06\",\"2018-07\",\"2018-08\",\"2018-09\",\"2018-10\",\"2018-11\",\"2018-12\",\"2019-01\",\"2019-02\",\"2019-03\",\"2019-04\",\"2019-05\",\"2019-06\",\"2019-07\",\"2019-08\",\"2019-09\",\"2019-10\",\"2019-11\",\"2019-12\",\"2020-01\",\"2020-02\",\"2020-03\",\"2020-04\"],\"xaxis\":\"x2\",\"y\":[0.17489776659326833,0.17809700339820822,0.17893217893217894,0.1584264503290984,0.1404549950544016,0.1855536332179931,0.21348314606741572,0.19121951219512195,0.18952618453865336,0.18578445535972263,0.15619726232889555,0.15037593984962405,0.12274368231046931,0.12314767501277465,0.23828125,0.09078428007551055,0.10648765843895931,0.17013232514177692,0.16444444444444445,0.1806022952800069,0.08180044593088072,0.1897810218978102,0.12698412698412698,0.08221271393643031,0.13111111111111112,0.13534522176497485,0.12070143475290367,0.10654248069059519,0.10382890651948948,0.1309738774527507,0.13353353353353353,0.1135368485969781,0.10230827310969691,0.08597035850190267,0.08987513907775992,0.10786074758361132,0.1897607122982749,0.18558534817840439,0.1234512946064248,0.11607925653165001,0.1335119253370204,0.14980951210519847,0.13797232570516232,0.1260707226004832,0.12996427820970793,0.13258127122755944,0.016249153689911984,0.012578616352201259,0.054003724394785846,0.07256637168141593,0.03934426229508197,0.0275049115913556,0.045064377682403435,0.053742802303262956,0.08558558558558559,0.04047976011994003,0.026362038664323375,0.01726844583987441,0.0091324200913242,0.02982107355864811,0.006611570247933884,0.08879492600422834,0.06871345029239766,0.05150214592274678],\"yaxis\":\"y2\"},{\"legendgroup\":\"1\",\"name\":\"The Wall Street Journal\",\"type\":\"scatter\",\"x\":[\"2015-01\",\"2015-02\",\"2015-03\",\"2015-04\",\"2015-05\",\"2015-06\",\"2015-07\",\"2015-08\",\"2015-09\",\"2015-10\",\"2015-11\",\"2015-12\",\"2016-01\",\"2016-02\",\"2016-04\",\"2016-05\",\"2016-06\",\"2016-07\",\"2016-08\",\"2016-09\",\"2016-10\",\"2016-11\",\"2016-12\",\"2017-01\",\"2017-02\",\"2017-03\",\"2017-04\",\"2017-05\",\"2017-06\",\"2017-07\",\"2017-08\",\"2017-09\",\"2017-10\",\"2017-11\",\"2017-12\",\"2018-01\",\"2018-02\",\"2018-03\",\"2018-04\",\"2018-05\",\"2018-06\",\"2018-07\",\"2018-08\",\"2018-09\",\"2018-10\",\"2018-11\",\"2018-12\",\"2019-01\",\"2019-02\",\"2019-03\",\"2019-04\",\"2019-05\",\"2019-06\",\"2019-07\",\"2019-08\",\"2019-09\",\"2019-10\",\"2019-11\",\"2019-12\",\"2020-01\",\"2020-02\",\"2020-03\",\"2020-04\"],\"xaxis\":\"x2\",\"y\":[0.143635263264071,0.18373564565268338,0.15279529213955442,0.1806677436725902,0.1379192334017796,0.1543550165380375,0.15173116089613034,0.13941220798794274,0.14600355239786855,0.1445127719962157,0.11758281761922097,0.1171522979873836,0.16666666666666666,0.14475743348982786,0.10804174340085942,0.15250475586556753,0.11320754716981132,0.17114004783417486,0.18423383525243578,0.15762661072819897,0.5,0.07142857142857142,0.08691358024691358,0.15,0.14583333333333334,0.10121457489878542,0.08093994778067885,0.10220994475138122,0.15406976744186046,0.10477453580901856,0.08898305084745763,0.12544802867383512,0.09389671361502347,0.06885245901639345,0.13902053712480253,0.18963730569948187,0.16834400731930466,0.13618677042801555,0.1133122028526149,0.13687943262411348,0.11742777260018639,0.14407814407814407,0.2111111111111111,0.1245674740484429,0.0933572710951526,0.1349141455437449,0.08173562058526741,0.17860746720484358,0.23629489603024575,0.11560693641618497,0.04,0.10427807486631016,0.2194616977225673,0.18604651162790697,0.11734164070612668,0.12289915966386554,0.11254612546125461,0.11125319693094629,0.08971962616822429,0.12195121951219512,0.18911174785100288,0.13424124513618677,0.20689655172413793],\"yaxis\":\"y2\"},{\"legendgroup\":\"1\",\"name\":\"The New York Times\",\"type\":\"scatter\",\"x\":[\"2015-01\",\"2015-02\",\"2015-03\",\"2015-04\",\"2015-05\",\"2015-06\",\"2015-07\",\"2015-08\",\"2015-09\",\"2015-10\",\"2015-11\",\"2015-12\",\"2016-01\",\"2016-02\",\"2016-03\",\"2016-04\",\"2016-05\",\"2016-06\",\"2016-07\",\"2016-08\",\"2016-09\",\"2016-10\",\"2016-11\",\"2016-12\",\"2017-01\",\"2017-02\",\"2017-03\",\"2017-04\",\"2017-05\",\"2017-06\",\"2017-07\",\"2017-08\",\"2017-09\",\"2017-10\",\"2017-11\",\"2017-12\",\"2018-01\",\"2018-02\",\"2018-03\",\"2018-04\",\"2018-05\",\"2018-06\",\"2018-07\",\"2018-08\",\"2018-09\",\"2018-10\",\"2018-11\",\"2018-12\",\"2019-01\",\"2019-02\",\"2019-03\",\"2019-04\",\"2019-05\",\"2019-06\",\"2019-07\",\"2019-08\",\"2019-09\",\"2019-10\",\"2019-11\",\"2019-12\",\"2020-01\",\"2020-02\",\"2020-03\",\"2020-04\"],\"xaxis\":\"x2\",\"y\":[0.26666666666666666,0.2197452229299363,0.2774566473988439,0.18421052631578946,0.20425531914893616,0.21554770318021202,0.17008797653958943,0.22362204724409449,0.24744027303754265,0.211781206171108,0.20634920634920634,0.136,0.09523809523809523,0.1644075207695671,0.08571428571428572,0.19153992395437264,0.18262237074896795,0.15806451612903225,0.16746836379782432,0.19708814162220292,0.17865123264588448,0.16,0.18457300275482094,0.17537381197409044,0.1986111111111111,0.1626689925861317,0.18945654140780505,0.18352211434735707,0.18025425336790843,0.1904885993485342,0.19583425987695502,0.1839932838953407,0.20975343214261322,0.21825424557970508,0.21563926057699745,0.23437642550862148,0.24566777524943112,0.26316733961417677,0.2357316444509905,0.20823937554206418,0.24366153367553275,0.2315388280133397,0.22377145085803432,0.24711992445703493,0.24578806487167376,0.2509548416086273,0.24364934418064088,0.22985754985754986,0.26234213547646384,0.2637993553585818,0.2532537960954447,0.2313915857605178,0.23740138464015456,0.2551388539306989,0.2567120622568093,0.2548476454293629,0.24651484977054292,0.23369565217391305,0.23490407567854302,0.2500539374325782,0.21181281235801908,0.27094080078604765,0.2196467991169978,0.2178469355350905],\"yaxis\":\"y2\"},{\"legendgroup\":\"1\",\"name\":\"New York Post\",\"type\":\"scatter\",\"x\":[\"2015-01\",\"2015-02\",\"2015-03\",\"2015-04\",\"2015-05\",\"2015-06\",\"2015-07\",\"2015-08\",\"2015-09\",\"2015-10\",\"2015-11\",\"2015-12\",\"2016-01\",\"2016-02\",\"2016-04\",\"2016-05\",\"2016-06\",\"2016-07\",\"2016-08\",\"2016-09\",\"2016-10\",\"2016-12\",\"2017-01\",\"2017-02\",\"2017-03\",\"2017-04\",\"2017-05\",\"2017-06\",\"2017-07\",\"2017-08\",\"2017-09\",\"2017-10\",\"2017-11\",\"2017-12\",\"2018-01\",\"2018-02\",\"2018-03\",\"2018-04\",\"2018-05\",\"2018-06\",\"2018-07\",\"2018-08\",\"2018-09\",\"2018-10\",\"2018-11\",\"2018-12\",\"2019-01\",\"2019-02\",\"2019-03\",\"2019-04\",\"2019-05\",\"2019-06\",\"2019-07\",\"2019-08\",\"2019-09\",\"2019-10\",\"2019-11\",\"2019-12\",\"2020-01\",\"2020-02\",\"2020-03\",\"2020-04\"],\"xaxis\":\"x2\",\"y\":[0.12903225806451613,0.17142857142857143,0.1875,0.11363636363636363,0.15384615384615385,0.17647058823529413,0.19730941704035873,0.12244897959183673,0.2803738317757009,0.14473684210526316,0.2465753424657534,0.1694915254237288,1.0,0.17647058823529413,0.13333333333333333,0.14563106796116504,0.2,0.175,0.24175824175824176,0.24509803921568626,0.36363636363636365,0.15819209039548024,0.15384615384615385,0.22429906542056074,0.15656909462219196,0.14041297935103245,0.129202871174915,0.08333333333333333,0.10451306413301663,0.1297399389800959,0.1389776357827476,0.11028525512253917,0.14946258365443116,0.10974473635177939,0.15981270358306188,0.02910798122065728,0.14127951256664129,0.13660670879922218,0.062244062244062245,0.12608012568735272,0.139341996129389,0.14172939232605103,0.15120460266091335,0.13063552417164584,0.07457627118644068,0.04523809523809524,0.12383177570093458,0.15919223708366115,0.1403361344537815,0.1349472057687355,0.14909090909090908,0.16051188299817185,0.19065474473608307,0.1641725352112676,0.16262078717888287,0.16683417085427135,0.1554362949711787,0.14743734477308648,0.17701097916199865,0.1600166251039069,0.1638669866300994,0.09070796460176991],\"yaxis\":\"y2\"},{\"legendgroup\":\"1\",\"name\":\"Los Angeles Times\",\"type\":\"scatter\",\"x\":[\"2015-01\",\"2015-02\",\"2015-03\",\"2015-04\",\"2015-05\",\"2015-06\",\"2015-07\",\"2015-08\",\"2015-09\",\"2015-10\",\"2015-11\",\"2015-12\",\"2016-01\",\"2016-02\",\"2016-03\",\"2016-04\",\"2016-05\",\"2016-06\",\"2016-07\",\"2016-08\",\"2016-09\",\"2016-10\",\"2016-11\",\"2016-12\",\"2017-01\",\"2017-02\",\"2017-03\",\"2017-04\",\"2017-05\",\"2017-06\",\"2017-07\",\"2017-08\",\"2017-09\",\"2017-10\",\"2017-11\",\"2017-12\",\"2018-01\",\"2018-02\",\"2018-03\",\"2018-04\",\"2018-05\",\"2018-06\",\"2018-07\",\"2018-08\",\"2018-09\",\"2018-10\",\"2018-11\",\"2018-12\",\"2019-01\",\"2019-02\",\"2019-03\",\"2019-04\",\"2019-05\",\"2019-06\",\"2019-07\",\"2019-08\",\"2019-09\",\"2019-10\",\"2019-11\",\"2019-12\",\"2020-01\",\"2020-02\",\"2020-03\",\"2020-04\"],\"xaxis\":\"x2\",\"y\":[0.1655651777575205,0.1660839160839161,0.14955381141812707,0.1817848858503235,0.19091457893148203,0.19183839479392625,0.1901820187534473,0.17432298312774705,0.17758913412563668,0.169679059858429,0.18346016319794628,0.16089577950043066,0.23197492163009403,0.1701780173117753,0.08571428571428572,0.16414870140892887,0.20381110190555096,0.20821917808219179,0.2085587801278898,0.20663080998635305,0.1881720430107527,0.2,0.1671018276762402,0.16342269555637165,0.13293051359516617,0.1638715860086248,0.16870956758597208,0.1770795163063393,0.1979532457108458,0.2055824837038275,0.17751654647831672,0.16754550093553325,0.18331383445451888,0.15421486546941907,0.17271407837445574,0.15730741540676746,0.20226957726957728,0.20909740414384378,0.20737100737100736,0.1943869335173683,0.1942024128686327,0.2864450127877238,0.23723723723723725,0.2592,0.2375316990701606,0.2579124579124579,0.19901112484548825,0.20796890184645286,0.1821219715956558,0.19094138543516873,0.20357326919773236,0.1867572156196944,0.23833333333333334,0.24421135958836335,0.2424338961452692,0.20816326530612245,0.1727508477957311,0.15507452093683463,0.2172537439358785,0.20403377110694185,0.18228608192150975,0.22890792291220557,0.21138211382113822,0.19047619047619047],\"yaxis\":\"y2\"},{\"legendgroup\":\"2\",\"name\":\"The Times of India\",\"type\":\"scatter\",\"x\":[\"2015-01\",\"2015-02\",\"2015-03\",\"2015-04\",\"2015-05\",\"2015-06\",\"2015-07\",\"2015-08\",\"2015-09\",\"2015-10\",\"2015-11\",\"2015-12\",\"2016-01\",\"2016-02\",\"2016-03\",\"2016-04\",\"2016-05\",\"2016-06\",\"2016-07\",\"2016-08\",\"2016-09\",\"2016-10\",\"2016-11\",\"2016-12\",\"2017-01\",\"2017-02\",\"2017-03\",\"2017-04\",\"2017-05\",\"2017-06\",\"2017-07\",\"2017-08\",\"2017-09\",\"2017-10\",\"2017-11\",\"2017-12\",\"2018-01\",\"2018-02\",\"2018-03\",\"2018-04\",\"2018-05\",\"2018-06\",\"2018-07\",\"2018-08\",\"2018-09\",\"2018-10\",\"2018-11\",\"2018-12\",\"2019-01\",\"2019-02\",\"2019-03\",\"2019-04\",\"2019-05\",\"2019-06\",\"2019-07\",\"2019-08\",\"2019-09\",\"2019-10\",\"2019-11\",\"2019-12\",\"2020-01\",\"2020-02\",\"2020-03\",\"2020-04\"],\"xaxis\":\"x3\",\"y\":[0.14908256880733944,0.18908122503328895,0.20317002881844382,0.2018867924528302,0.16998827667057445,0.1777158774373259,0.15420805018295872,0.17567989996874023,0.1626533393911858,0.14131559497413157,0.16026490066225166,0.18706118355065196,0.36363636363636365,0.19200887902330743,0.6,0.1555783009211873,0.15774590991718845,0.20833333333333334,0.16945780135964186,0.17302336844654317,0.1379725862328664,0.045454545454545456,0.20689655172413793,0.14463237832240247,0.14285714285714285,0.13801893663510562,0.14688427299703263,0.1503316138540899,0.13713919178960873,0.14531932475504664,0.17608861726508784,0.16339922893938152,0.15855944745929945,0.15345753078623303,0.15577244124823425,0.1418043202033037,0.1593633952254642,0.13678145150226367,0.12939866369710468,0.13595658073270014,0.13149587178241864,0.12370988265233988,0.13221649484536083,0.13451086956521738,0.12826348908823135,0.127783437636443,0.11606217616580311,0.10275207306814085,0.12155988857938718,0.12918607229984475,0.13440082644628099,0.12944009632751355,0.14328582145536384,0.1181362357832946,0.14619377162629757,0.15002553626149132,0.13937677053824363,0.11797692224738487,0.12516614975631368,0.1428956228956229,0.1347678369195923,0.13845329044364027,0.16526560543730998,0.14410339256865912],\"yaxis\":\"y3\"},{\"legendgroup\":\"2\",\"name\":\"The Hindu\",\"type\":\"scatter\",\"x\":[\"2015-01\",\"2015-02\",\"2015-03\",\"2015-04\",\"2015-05\",\"2015-06\",\"2015-07\",\"2015-08\",\"2015-09\",\"2015-10\",\"2015-11\",\"2015-12\",\"2016-01\",\"2016-02\",\"2016-03\",\"2016-04\",\"2016-05\",\"2016-06\",\"2016-07\",\"2016-08\",\"2016-09\",\"2016-10\",\"2016-11\",\"2016-12\",\"2017-01\",\"2017-02\",\"2017-03\",\"2017-04\",\"2017-05\",\"2017-06\",\"2017-07\",\"2017-08\",\"2017-09\",\"2017-10\",\"2017-11\",\"2017-12\",\"2018-01\",\"2018-02\",\"2018-03\",\"2018-04\",\"2018-05\",\"2018-06\",\"2018-07\",\"2018-08\",\"2018-09\",\"2018-10\",\"2018-11\",\"2018-12\",\"2019-01\",\"2019-02\",\"2019-03\",\"2019-04\",\"2019-05\",\"2019-06\",\"2019-07\",\"2019-08\",\"2019-09\",\"2019-10\",\"2019-11\",\"2019-12\",\"2020-01\",\"2020-02\",\"2020-03\",\"2020-04\"],\"xaxis\":\"x3\",\"y\":[0.17857142857142858,0.1590909090909091,0.0975609756097561,0.3055555555555556,0.18181818181818182,0.12727272727272726,0.12542537676227516,0.15385722510074842,0.11827033218785796,0.11170577741182929,0.12159368539748168,0.11823060660269963,0.21774193548387097,0.1473364801078894,0.25,0.12018140589569161,0.131810676940011,0.15172413793103448,0.16153205661948378,0.16331342345174474,0.1632888449497446,0.16666666666666666,0.08108108108108109,0.12390432328034467,0.15,0.1441108545034642,0.15533034496199571,0.17058439438459028,0.16081652974856858,0.15419501133786848,0.15593545294775524,0.16513353115727003,0.1571900826446281,0.14506272113219684,0.14431239388794567,0.17423230974632845,0.16887879846315054,0.14665996986438976,0.16989476894921457,0.14401993355481726,0.1466911151858643,0.136726893676164,0.12902654867256638,0.14531445977423402,0.15428368290081762,0.14168937329700274,0.13406317300789664,0.12273534635879219,0.14260075053026594,0.14575116529221943,0.13482770157243226,0.11920092455010732,0.1330995323981296,0.13494675701839304,0.13135186960690318,0.14360410830999065,0.14011748445058742,0.13119480987565327,0.12184944082790852,0.13385546457814168,0.13091728801803365,0.13232553323669496,0.11760862463247304,0.11397345823575332],\"yaxis\":\"y3\"},{\"legendgroup\":\"2\",\"name\":\"Hindustan Times\",\"type\":\"scatter\",\"x\":[\"2015-01\",\"2015-02\",\"2015-03\",\"2015-04\",\"2015-05\",\"2015-06\",\"2015-07\",\"2015-08\",\"2015-09\",\"2015-10\",\"2015-11\",\"2015-12\",\"2016-01\",\"2016-02\",\"2016-03\",\"2016-04\",\"2016-05\",\"2016-06\",\"2016-07\",\"2016-08\",\"2016-09\",\"2016-11\",\"2016-12\",\"2017-01\",\"2017-02\",\"2017-03\",\"2017-04\",\"2017-05\",\"2017-06\",\"2017-07\",\"2017-08\",\"2017-09\",\"2017-10\",\"2017-11\",\"2017-12\",\"2018-01\",\"2018-02\",\"2018-03\",\"2018-04\",\"2018-05\",\"2018-06\",\"2018-07\",\"2018-08\",\"2018-09\",\"2018-10\",\"2018-11\",\"2018-12\",\"2019-01\",\"2019-02\",\"2019-03\",\"2019-04\",\"2019-05\",\"2019-06\",\"2019-07\",\"2019-08\",\"2019-09\",\"2019-10\",\"2019-11\",\"2019-12\",\"2020-01\",\"2020-02\",\"2020-03\",\"2020-04\"],\"xaxis\":\"x3\",\"y\":[0.16642335766423358,0.15830721003134796,0.15388614504808942,0.13636363636363635,0.18354818907305095,0.1702127659574468,0.13806552262090482,0.17155463275369842,0.148661800486618,0.1472797215607254,0.12969502407704656,0.12760310330747243,0.17094017094017094,0.10264508487958941,0.25,0.17670682730923695,0.1480707790611944,0.18421052631578946,0.15719114935464043,0.20312897481556855,0.17456593148756452,0.2,0.14645936765090148,0.16,0.16675839295542103,0.1782749909779863,0.16367361696998917,0.17813578826237053,0.18781512605042017,0.18986769195974218,0.1661529840291398,0.16673275178429817,0.16450989141752195,0.1593632317699418,0.1453083109919571,0.17913583630218324,0.1570136852394917,0.17404063205417608,0.16623160892263883,0.15574348132487667,0.15409139213602552,0.14303717706364208,0.14134969325153374,0.18548799182422074,0.15198237885462554,0.14135374312365462,0.13430885811340476,0.16838487972508592,0.16545973228000876,0.1746031746031746,0.17893333333333333,0.1912087912087912,0.16856330014224752,0.18476941747572814,0.17820980153908464,0.16978756884343038,0.15738498789346247,0.1519874177866743,0.16325062927004674,0.16779110444777612,0.17762027491408935,0.19410898379970545,0.17913832199546487],\"yaxis\":\"y3\"},{\"legendgroup\":\"2\",\"name\":\"The Economic Times\",\"type\":\"scatter\",\"x\":[\"2015-01\",\"2015-02\",\"2015-03\",\"2015-04\",\"2015-05\",\"2015-06\",\"2015-07\",\"2015-08\",\"2015-09\",\"2015-10\",\"2015-11\",\"2015-12\",\"2016-01\",\"2016-02\",\"2016-03\",\"2016-04\",\"2016-05\",\"2016-06\",\"2016-07\",\"2016-08\",\"2016-09\",\"2016-10\",\"2016-11\",\"2016-12\",\"2017-01\",\"2017-02\",\"2017-03\",\"2017-04\",\"2017-05\",\"2017-06\",\"2017-07\",\"2017-08\",\"2017-09\",\"2017-10\",\"2017-11\",\"2017-12\",\"2018-01\",\"2018-02\",\"2018-03\",\"2018-04\",\"2018-05\",\"2018-06\",\"2018-07\",\"2018-08\",\"2018-09\",\"2018-10\",\"2018-11\",\"2018-12\",\"2019-01\",\"2019-02\",\"2019-03\",\"2019-04\",\"2019-05\",\"2019-06\",\"2019-07\",\"2019-08\",\"2019-09\",\"2019-10\",\"2019-11\",\"2019-12\",\"2020-01\",\"2020-02\",\"2020-03\",\"2020-04\"],\"xaxis\":\"x3\",\"y\":[0.11518586431071845,0.10873405299313052,0.09858882659965204,0.0983234369542438,0.10990767045454546,0.10869126840088728,0.10070943861813696,0.11295971978984239,0.10275384038965905,0.09444504136671322,0.0927216728805317,0.10631980771949667,0.06896551724137931,0.08926218708827405,0.2727272727272727,0.09458094917536183,0.0986088379705401,0.1693548387096774,0.13868116927260368,0.1234472049689441,0.12473202104852855,0.06896551724137931,0.0967741935483871,0.1087657106026426,0.19117647058823528,0.10061527325370974,0.1267454350161117,0.12121893624198808,0.11702011963023383,0.12814432989690722,0.13010526315789472,0.10723046373087256,0.13047161818695283,0.13546685019499885,0.11516270482344795,0.10617386489479513,0.13012880095604834,0.11187582369307365,0.13256601218686526,0.125805651958354,0.11402176664135662,0.11293213828425096,0.11777388492116965,0.12335620354488279,0.15052070719302493,0.14445871773911012,0.1325124265702666,0.14073226544622425,0.14201937786843447,0.13684614400818518,0.1565525705713896,0.14721867007672634,0.15777449267571564,0.12313877307921382,0.1276595744680851,0.0967913490515866,0.10019023462270134,0.10213262245918027,0.09950071326676177,0.12044435782498539,0.10678551937420411,0.10908250519990756,0.1156930126002291,0.09512893982808023],\"yaxis\":\"y3\"},{\"legendgroup\":\"2\",\"name\":\"The Telegraph\",\"type\":\"scatter\",\"x\":[\"2015-01\",\"2015-02\",\"2015-03\",\"2015-04\",\"2015-05\",\"2015-06\",\"2015-07\",\"2015-08\",\"2015-09\",\"2015-10\",\"2015-11\",\"2015-12\",\"2016-01\",\"2016-02\",\"2016-03\",\"2016-04\",\"2016-05\",\"2016-06\",\"2016-07\",\"2016-08\",\"2016-09\",\"2016-11\",\"2016-12\",\"2017-02\",\"2017-03\",\"2017-04\",\"2017-05\",\"2017-06\",\"2017-07\",\"2017-08\",\"2017-09\",\"2017-10\",\"2017-11\",\"2017-12\",\"2018-01\",\"2018-02\",\"2018-03\",\"2018-04\",\"2018-05\",\"2018-06\",\"2018-07\",\"2018-08\",\"2018-09\",\"2018-10\",\"2018-11\",\"2018-12\",\"2019-01\",\"2019-02\",\"2019-03\",\"2019-04\",\"2019-05\",\"2019-06\",\"2019-07\",\"2019-08\",\"2019-09\",\"2019-10\",\"2019-11\",\"2019-12\",\"2020-01\",\"2020-02\",\"2020-03\",\"2020-04\"],\"xaxis\":\"x3\",\"y\":[0.12778551532033428,0.12399049881235154,0.12277413308341144,0.10128126906650396,0.13825757575757575,0.10171102661596958,0.1281657712970069,0.14344746162927982,0.10459363957597173,0.10435383552176918,0.08946772366930918,0.11648351648351649,0.030303030303030304,0.07460035523978685,0.5,0.09703196347031963,0.08293556085918855,0.18181818181818182,0.15084134615384615,0.15510718789407313,0.13513513513513514,0.2,0.07204116638078903,0.033962264150943396,0.1368909512761021,0.1396910678307589,0.09961685823754789,0.1319884726224784,0.1483021483021483,0.1245928338762215,0.10179640718562874,0.09538461538461539,0.11310344827586206,0.15363128491620112,0.14240755310778913,0.17436974789915966,0.16366525423728814,0.16358024691358025,0.1693548387096774,0.1566609491137793,0.1419284940411701,0.1672077922077922,0.17867603983596952,0.16446858029480219,0.13517241379310344,0.1129737609329446,0.15822784810126583,0.1700507614213198,0.14238190286094476,0.16244541484716157,0.16784565916398714,0.17142857142857143,0.16066838046272494,0.166270783847981,0.17305151915455746,0.14256198347107438,0.11853162317558602,0.15813117699910154,0.14683098591549296,0.14311676510676966,0.18115055079559364,0.17496962332928312],\"yaxis\":\"y3\"},{\"legendgroup\":\"3\",\"name\":\"Vanguard\",\"type\":\"scatter\",\"x\":[\"2015-01\",\"2015-02\",\"2015-03\",\"2015-04\",\"2015-05\",\"2015-06\",\"2015-07\",\"2015-08\",\"2015-09\",\"2015-10\",\"2015-11\",\"2015-12\",\"2016-01\",\"2016-02\",\"2016-04\",\"2016-05\",\"2016-06\",\"2016-07\",\"2016-08\",\"2016-09\",\"2016-10\",\"2016-11\",\"2016-12\",\"2017-01\",\"2017-02\",\"2017-03\",\"2017-04\",\"2017-05\",\"2017-06\",\"2017-07\",\"2017-08\",\"2017-09\",\"2017-10\",\"2017-11\",\"2017-12\",\"2018-01\",\"2018-02\",\"2018-03\",\"2018-04\",\"2018-05\",\"2018-06\",\"2018-07\",\"2018-08\",\"2018-09\",\"2018-10\",\"2018-11\",\"2018-12\",\"2019-01\",\"2019-02\",\"2019-03\",\"2019-04\",\"2019-05\",\"2019-06\",\"2019-07\",\"2019-08\",\"2019-09\",\"2019-10\",\"2019-11\",\"2019-12\",\"2020-01\",\"2020-02\",\"2020-03\",\"2020-04\"],\"xaxis\":\"x4\",\"y\":[0.09000900090009001,0.06857142857142857,0.09895833333333333,0.1232638888888889,0.12667946257197696,0.12173913043478261,0.061601642710472276,0.06518518518518518,0.0975,0.07,0.07560975609756097,0.0776794493608653,0.057692307692307696,0.09424083769633508,0.0853462157809984,0.09107037256061502,0.09090909090909091,0.1349862258953168,0.08538011695906433,0.0881304126337239,0.2857142857142857,0.2,0.0741272118603539,0.05128205128205128,0.07801418439716312,0.08879310344827586,0.08268482490272373,0.10018832391713747,0.11767186840995361,0.0950188363331938,0.06712218649517684,0.07134220072551391,0.07779751332149201,0.08846880907372401,0.06631892697466468,0.08562806488117691,0.08322877457130907,0.08301033591731266,0.07628294036061026,0.060755336617405585,0.05488721804511278,0.07150368033648791,0.09760105159382189,0.09696969696969697,0.0784177654406662,0.0919661733615222,0.08019028202514442,0.0658682634730539,0.06692913385826772,0.06636670416197975,0.08833922261484099,0.07493188010899182,0.07580645161290323,0.06666666666666667,0.0768025078369906,0.09865470852017937,0.112,0.05471698113207547,0.07960199004975124,0.07559523809523809,0.08595505617977528,0.07262021589793916,0.08816705336426914],\"yaxis\":\"y4\"},{\"legendgroup\":\"3\",\"name\":\"The Punch\",\"type\":\"scatter\",\"x\":[\"2015-01\",\"2015-02\",\"2015-03\",\"2015-04\",\"2015-05\",\"2015-06\",\"2015-07\",\"2015-08\",\"2015-09\",\"2015-10\",\"2015-11\",\"2015-12\",\"2016-02\",\"2016-04\",\"2016-05\",\"2016-06\",\"2016-07\",\"2016-08\",\"2016-09\",\"2016-10\",\"2016-11\",\"2016-12\",\"2017-01\",\"2017-02\",\"2017-03\",\"2017-04\",\"2017-05\",\"2017-06\",\"2017-07\",\"2017-08\",\"2017-09\",\"2017-10\",\"2017-11\",\"2017-12\",\"2018-01\",\"2018-02\",\"2018-03\",\"2018-04\",\"2018-05\",\"2018-06\",\"2018-07\",\"2018-08\",\"2018-09\",\"2018-10\",\"2018-11\",\"2018-12\",\"2019-01\",\"2019-02\",\"2019-03\",\"2019-04\",\"2019-05\",\"2019-06\",\"2019-07\",\"2019-08\",\"2019-09\",\"2019-10\",\"2019-11\",\"2019-12\",\"2020-01\",\"2020-02\",\"2020-03\",\"2020-04\"],\"xaxis\":\"x4\",\"y\":[0.09632446134347275,0.08140403286034353,0.06681681681681682,0.09407337723424271,0.08925869894099848,0.0800711743772242,0.0728476821192053,0.11833550065019506,0.09611451942740286,0.09595959595959595,0.05993690851735016,0.0784313725490196,0.058823529411764705,0.09467455621301775,0.08713692946058091,0.03571428571428571,0.1514543630892678,0.09931506849315068,0.15243004418262152,0.25,0.06666666666666667,0.11535463756819954,0.15555555555555556,0.11735941320293398,0.09289176090468497,0.1222707423580786,0.11014103425117529,0.11279683377308707,0.11618004866180048,0.0948566610455312,0.12603495860165592,0.1055952881783761,0.09803921568627451,0.08085106382978724,0.1115485564304462,0.10657596371882086,0.10311750599520383,0.09129213483146068,0.08989657915672236,0.07708933717579251,0.0960536113179449,0.1290625,0.11461937716262975,0.09142287234042554,0.09795067731851337,0.10506881503860356,0.11235955056179775,0.09288990825688073,0.09612983770287141,0.06389776357827476,0.09723461195361284,0.11320754716981132,0.10463121783876501,0.10755148741418764,0.11726384364820847,0.10326086956521739,0.06818181818181818,0.08941877794336811,0.08857808857808858,0.08685064935064934,0.058823529411764705,0.14227642276422764],\"yaxis\":\"y4\"},{\"legendgroup\":\"3\",\"name\":\"The Nation online\",\"type\":\"scatter\",\"x\":[\"2015-01\",\"2015-02\",\"2015-03\",\"2015-07\",\"2015-08\",\"2015-09\",\"2015-10\",\"2015-11\",\"2015-12\",\"2016-01\",\"2016-02\",\"2016-04\",\"2016-05\",\"2016-06\",\"2016-07\",\"2016-08\",\"2016-09\",\"2016-10\",\"2016-11\",\"2016-12\",\"2017-01\",\"2017-02\",\"2017-03\",\"2017-04\",\"2017-05\",\"2017-06\",\"2017-07\",\"2017-08\",\"2017-09\",\"2017-10\",\"2017-11\",\"2017-12\",\"2018-01\",\"2018-02\",\"2018-03\",\"2018-04\",\"2018-05\",\"2018-06\",\"2018-07\",\"2018-08\",\"2018-09\",\"2018-10\",\"2018-11\",\"2018-12\",\"2019-01\",\"2019-02\",\"2019-03\",\"2019-04\",\"2019-05\",\"2019-06\",\"2019-07\",\"2019-08\",\"2019-09\",\"2019-10\",\"2019-11\",\"2019-12\",\"2020-01\",\"2020-02\",\"2020-03\",\"2020-04\"],\"xaxis\":\"x4\",\"y\":[0.1724137931034483,0.25,0.23076923076923078,0.06775067750677506,0.07739938080495357,0.07025411061285501,0.07251908396946564,0.12786885245901639,0.05793450881612091,0.037037037037037035,0.09782608695652174,0.1043956043956044,0.1285444234404537,0.16,0.13082706766917293,0.12603648424543948,0.0821917808219178,0.11764705882352941,0.12121212121212122,0.12171507607192254,0.16666666666666666,0.10899182561307902,0.09229390681003584,0.10876803551609324,0.13194444444444445,0.15434083601286175,0.10083160083160084,0.07881040892193308,0.08763837638376384,0.0999259807549963,0.07795698924731183,0.08559670781893004,0.11937377690802348,0.0932377049180328,0.12777777777777777,0.07780979827089338,0.07802547770700637,0.07006369426751592,0.06754658385093168,0.09455587392550144,0.06432748538011696,0.08613938919342208,0.0821337849280271,0.057692307692307696,0.061946902654867256,0.04854368932038835,0.04781704781704782,0.10231023102310231,0.10380622837370242,0.07226890756302522,0.10869565217391304,0.08441558441558442,0.12156862745098039,0.12033195020746888,0.08829174664107485,0.08964143426294821,0.08846761453396525,0.0875,0.1336206896551724,0.1111111111111111],\"yaxis\":\"y4\"},{\"legendgroup\":\"3\",\"name\":\"Sahara Reporters\",\"type\":\"scatter\",\"x\":[\"2015-01\",\"2015-08\",\"2015-09\",\"2015-10\",\"2015-12\",\"2016-01\",\"2016-02\",\"2016-04\",\"2016-05\",\"2016-07\",\"2016-08\",\"2016-09\",\"2016-12\",\"2017-02\",\"2017-04\",\"2017-05\",\"2017-07\",\"2017-09\",\"2017-10\",\"2017-11\",\"2017-12\",\"2018-02\",\"2018-03\",\"2018-04\",\"2018-05\",\"2018-07\",\"2018-08\",\"2018-09\",\"2018-10\",\"2018-11\",\"2018-12\",\"2019-01\",\"2019-03\",\"2019-04\",\"2019-05\",\"2019-06\",\"2019-07\",\"2019-08\",\"2019-10\",\"2019-11\",\"2019-12\",\"2020-01\",\"2020-03\",\"2020-04\"],\"xaxis\":\"x4\",\"y\":[0.07692307692307693,0.06779661016949153,0.07526881720430108,0.0196078431372549,0.04861111111111111,0.75,0.14492753623188406,0.08247422680412371,0.08849557522123894,0.10416666666666667,0.06770833333333333,0.05263157894736842,0.06451612903225806,0.05263157894736842,0.023255813953488372,0.13636363636363635,0.2222222222222222,0.09859154929577464,0.125,0.0425531914893617,0.038461538461538464,0.15,0.07142857142857142,0.09090909090909091,0.020833333333333332,0.057692307692307696,0.010638297872340425,0.10869565217391304,0.010309278350515464,0.078125,0.07692307692307693,0.07142857142857142,0.07894736842105263,0.0547945205479452,0.05,0.09375,0.09375,0.07407407407407407,0.17647058823529413,0.14285714285714285,0.08333333333333333,0.25,0.0625,0.0625],\"yaxis\":\"y4\"},{\"legendgroup\":\"3\",\"name\":\"Sun News\",\"type\":\"scatter\",\"x\":[\"2015-01\",\"2015-02\",\"2015-03\",\"2015-04\",\"2015-05\",\"2015-06\",\"2015-07\",\"2015-08\",\"2015-09\",\"2015-10\",\"2015-11\",\"2015-12\",\"2016-01\",\"2016-02\",\"2016-04\",\"2016-05\",\"2016-07\",\"2016-08\",\"2016-09\",\"2016-12\",\"2017-02\",\"2017-03\",\"2017-04\",\"2017-05\",\"2017-06\",\"2017-07\",\"2017-08\",\"2017-09\",\"2017-10\",\"2017-11\",\"2017-12\",\"2018-01\",\"2018-02\",\"2018-03\",\"2018-04\",\"2018-05\",\"2018-06\",\"2018-07\",\"2018-08\",\"2018-09\",\"2018-10\",\"2018-11\",\"2018-12\",\"2019-01\",\"2019-02\",\"2019-03\",\"2019-04\",\"2019-05\",\"2019-06\",\"2019-07\",\"2019-08\",\"2019-09\",\"2019-10\",\"2019-11\",\"2019-12\",\"2020-01\",\"2020-02\",\"2020-03\",\"2020-04\"],\"xaxis\":\"x4\",\"y\":[0.08323424494649227,0.055873925501432664,0.08629441624365482,0.06153846153846154,0.10714285714285714,0.125,0.04716981132075472,0.13924050632911392,0.08955223880597014,0.10476190476190476,0.08695652173913043,0.06666666666666667,0.1111111111111111,0.08080808080808081,0.08609271523178808,0.08807339449541285,0.10354223433242507,0.09651474530831099,0.10649350649350649,0.13644859813084112,0.06772908366533864,0.10423452768729642,0.09065550906555091,0.1,0.10594594594594595,0.1144578313253012,0.13324175824175824,0.10282776349614396,0.10820559062218214,0.0989010989010989,0.07403936269915651,0.16306156405990016,0.10508474576271186,0.11909650924024641,0.08244274809160305,0.0931899641577061,0.08210180623973727,0.08797127468581688,0.11333333333333333,0.09130913091309131,0.08558139534883721,0.09328358208955224,0.07790821771611527,0.10586011342155009,0.05660377358490566,0.10047846889952153,0.1021671826625387,0.09074074074074075,0.08210526315789474,0.09358288770053476,0.07297297297297298,0.09954751131221719,0.13219616204690832,0.07743362831858407,0.08788598574821853,0.10256410256410256,0.09798994974874371,0.10015898251192369,0.13740458015267176],\"yaxis\":\"y4\"}],                        {\"legend\":{\"tracegroupgap\":20},\"template\":{\"data\":{\"bar\":[{\"error_x\":{\"color\":\"#2a3f5f\"},\"error_y\":{\"color\":\"#2a3f5f\"},\"marker\":{\"line\":{\"color\":\"#E5ECF6\",\"width\":0.5},\"pattern\":{\"fillmode\":\"overlay\",\"size\":10,\"solidity\":0.2}},\"type\":\"bar\"}],\"barpolar\":[{\"marker\":{\"line\":{\"color\":\"#E5ECF6\",\"width\":0.5},\"pattern\":{\"fillmode\":\"overlay\",\"size\":10,\"solidity\":0.2}},\"type\":\"barpolar\"}],\"carpet\":[{\"aaxis\":{\"endlinecolor\":\"#2a3f5f\",\"gridcolor\":\"white\",\"linecolor\":\"white\",\"minorgridcolor\":\"white\",\"startlinecolor\":\"#2a3f5f\"},\"baxis\":{\"endlinecolor\":\"#2a3f5f\",\"gridcolor\":\"white\",\"linecolor\":\"white\",\"minorgridcolor\":\"white\",\"startlinecolor\":\"#2a3f5f\"},\"type\":\"carpet\"}],\"choropleth\":[{\"colorbar\":{\"outlinewidth\":0,\"ticks\":\"\"},\"type\":\"choropleth\"}],\"contour\":[{\"colorbar\":{\"outlinewidth\":0,\"ticks\":\"\"},\"colorscale\":[[0.0,\"#0d0887\"],[0.1111111111111111,\"#46039f\"],[0.2222222222222222,\"#7201a8\"],[0.3333333333333333,\"#9c179e\"],[0.4444444444444444,\"#bd3786\"],[0.5555555555555556,\"#d8576b\"],[0.6666666666666666,\"#ed7953\"],[0.7777777777777778,\"#fb9f3a\"],[0.8888888888888888,\"#fdca26\"],[1.0,\"#f0f921\"]],\"type\":\"contour\"}],\"contourcarpet\":[{\"colorbar\":{\"outlinewidth\":0,\"ticks\":\"\"},\"type\":\"contourcarpet\"}],\"heatmap\":[{\"colorbar\":{\"outlinewidth\":0,\"ticks\":\"\"},\"colorscale\":[[0.0,\"#0d0887\"],[0.1111111111111111,\"#46039f\"],[0.2222222222222222,\"#7201a8\"],[0.3333333333333333,\"#9c179e\"],[0.4444444444444444,\"#bd3786\"],[0.5555555555555556,\"#d8576b\"],[0.6666666666666666,\"#ed7953\"],[0.7777777777777778,\"#fb9f3a\"],[0.8888888888888888,\"#fdca26\"],[1.0,\"#f0f921\"]],\"type\":\"heatmap\"}],\"heatmapgl\":[{\"colorbar\":{\"outlinewidth\":0,\"ticks\":\"\"},\"colorscale\":[[0.0,\"#0d0887\"],[0.1111111111111111,\"#46039f\"],[0.2222222222222222,\"#7201a8\"],[0.3333333333333333,\"#9c179e\"],[0.4444444444444444,\"#bd3786\"],[0.5555555555555556,\"#d8576b\"],[0.6666666666666666,\"#ed7953\"],[0.7777777777777778,\"#fb9f3a\"],[0.8888888888888888,\"#fdca26\"],[1.0,\"#f0f921\"]],\"type\":\"heatmapgl\"}],\"histogram\":[{\"marker\":{\"pattern\":{\"fillmode\":\"overlay\",\"size\":10,\"solidity\":0.2}},\"type\":\"histogram\"}],\"histogram2d\":[{\"colorbar\":{\"outlinewidth\":0,\"ticks\":\"\"},\"colorscale\":[[0.0,\"#0d0887\"],[0.1111111111111111,\"#46039f\"],[0.2222222222222222,\"#7201a8\"],[0.3333333333333333,\"#9c179e\"],[0.4444444444444444,\"#bd3786\"],[0.5555555555555556,\"#d8576b\"],[0.6666666666666666,\"#ed7953\"],[0.7777777777777778,\"#fb9f3a\"],[0.8888888888888888,\"#fdca26\"],[1.0,\"#f0f921\"]],\"type\":\"histogram2d\"}],\"histogram2dcontour\":[{\"colorbar\":{\"outlinewidth\":0,\"ticks\":\"\"},\"colorscale\":[[0.0,\"#0d0887\"],[0.1111111111111111,\"#46039f\"],[0.2222222222222222,\"#7201a8\"],[0.3333333333333333,\"#9c179e\"],[0.4444444444444444,\"#bd3786\"],[0.5555555555555556,\"#d8576b\"],[0.6666666666666666,\"#ed7953\"],[0.7777777777777778,\"#fb9f3a\"],[0.8888888888888888,\"#fdca26\"],[1.0,\"#f0f921\"]],\"type\":\"histogram2dcontour\"}],\"mesh3d\":[{\"colorbar\":{\"outlinewidth\":0,\"ticks\":\"\"},\"type\":\"mesh3d\"}],\"parcoords\":[{\"line\":{\"colorbar\":{\"outlinewidth\":0,\"ticks\":\"\"}},\"type\":\"parcoords\"}],\"pie\":[{\"automargin\":true,\"type\":\"pie\"}],\"scatter\":[{\"marker\":{\"colorbar\":{\"outlinewidth\":0,\"ticks\":\"\"}},\"type\":\"scatter\"}],\"scatter3d\":[{\"line\":{\"colorbar\":{\"outlinewidth\":0,\"ticks\":\"\"}},\"marker\":{\"colorbar\":{\"outlinewidth\":0,\"ticks\":\"\"}},\"type\":\"scatter3d\"}],\"scattercarpet\":[{\"marker\":{\"colorbar\":{\"outlinewidth\":0,\"ticks\":\"\"}},\"type\":\"scattercarpet\"}],\"scattergeo\":[{\"marker\":{\"colorbar\":{\"outlinewidth\":0,\"ticks\":\"\"}},\"type\":\"scattergeo\"}],\"scattergl\":[{\"marker\":{\"colorbar\":{\"outlinewidth\":0,\"ticks\":\"\"}},\"type\":\"scattergl\"}],\"scattermapbox\":[{\"marker\":{\"colorbar\":{\"outlinewidth\":0,\"ticks\":\"\"}},\"type\":\"scattermapbox\"}],\"scatterpolar\":[{\"marker\":{\"colorbar\":{\"outlinewidth\":0,\"ticks\":\"\"}},\"type\":\"scatterpolar\"}],\"scatterpolargl\":[{\"marker\":{\"colorbar\":{\"outlinewidth\":0,\"ticks\":\"\"}},\"type\":\"scatterpolargl\"}],\"scatterternary\":[{\"marker\":{\"colorbar\":{\"outlinewidth\":0,\"ticks\":\"\"}},\"type\":\"scatterternary\"}],\"surface\":[{\"colorbar\":{\"outlinewidth\":0,\"ticks\":\"\"},\"colorscale\":[[0.0,\"#0d0887\"],[0.1111111111111111,\"#46039f\"],[0.2222222222222222,\"#7201a8\"],[0.3333333333333333,\"#9c179e\"],[0.4444444444444444,\"#bd3786\"],[0.5555555555555556,\"#d8576b\"],[0.6666666666666666,\"#ed7953\"],[0.7777777777777778,\"#fb9f3a\"],[0.8888888888888888,\"#fdca26\"],[1.0,\"#f0f921\"]],\"type\":\"surface\"}],\"table\":[{\"cells\":{\"fill\":{\"color\":\"#EBF0F8\"},\"line\":{\"color\":\"white\"}},\"header\":{\"fill\":{\"color\":\"#C8D4E3\"},\"line\":{\"color\":\"white\"}},\"type\":\"table\"}]},\"layout\":{\"annotationdefaults\":{\"arrowcolor\":\"#2a3f5f\",\"arrowhead\":0,\"arrowwidth\":1},\"autotypenumbers\":\"strict\",\"coloraxis\":{\"colorbar\":{\"outlinewidth\":0,\"ticks\":\"\"}},\"colorscale\":{\"diverging\":[[0,\"#8e0152\"],[0.1,\"#c51b7d\"],[0.2,\"#de77ae\"],[0.3,\"#f1b6da\"],[0.4,\"#fde0ef\"],[0.5,\"#f7f7f7\"],[0.6,\"#e6f5d0\"],[0.7,\"#b8e186\"],[0.8,\"#7fbc41\"],[0.9,\"#4d9221\"],[1,\"#276419\"]],\"sequential\":[[0.0,\"#0d0887\"],[0.1111111111111111,\"#46039f\"],[0.2222222222222222,\"#7201a8\"],[0.3333333333333333,\"#9c179e\"],[0.4444444444444444,\"#bd3786\"],[0.5555555555555556,\"#d8576b\"],[0.6666666666666666,\"#ed7953\"],[0.7777777777777778,\"#fb9f3a\"],[0.8888888888888888,\"#fdca26\"],[1.0,\"#f0f921\"]],\"sequentialminus\":[[0.0,\"#0d0887\"],[0.1111111111111111,\"#46039f\"],[0.2222222222222222,\"#7201a8\"],[0.3333333333333333,\"#9c179e\"],[0.4444444444444444,\"#bd3786\"],[0.5555555555555556,\"#d8576b\"],[0.6666666666666666,\"#ed7953\"],[0.7777777777777778,\"#fb9f3a\"],[0.8888888888888888,\"#fdca26\"],[1.0,\"#f0f921\"]]},\"colorway\":[\"#636efa\",\"#EF553B\",\"#00cc96\",\"#ab63fa\",\"#FFA15A\",\"#19d3f3\",\"#FF6692\",\"#B6E880\",\"#FF97FF\",\"#FECB52\"],\"font\":{\"color\":\"#2a3f5f\"},\"geo\":{\"bgcolor\":\"white\",\"lakecolor\":\"white\",\"landcolor\":\"#E5ECF6\",\"showlakes\":true,\"showland\":true,\"subunitcolor\":\"white\"},\"hoverlabel\":{\"align\":\"left\"},\"hovermode\":\"closest\",\"mapbox\":{\"style\":\"light\"},\"paper_bgcolor\":\"white\",\"plot_bgcolor\":\"#E5ECF6\",\"polar\":{\"angularaxis\":{\"gridcolor\":\"white\",\"linecolor\":\"white\",\"ticks\":\"\"},\"bgcolor\":\"#E5ECF6\",\"radialaxis\":{\"gridcolor\":\"white\",\"linecolor\":\"white\",\"ticks\":\"\"}},\"scene\":{\"xaxis\":{\"backgroundcolor\":\"#E5ECF6\",\"gridcolor\":\"white\",\"gridwidth\":2,\"linecolor\":\"white\",\"showbackground\":true,\"ticks\":\"\",\"zerolinecolor\":\"white\"},\"yaxis\":{\"backgroundcolor\":\"#E5ECF6\",\"gridcolor\":\"white\",\"gridwidth\":2,\"linecolor\":\"white\",\"showbackground\":true,\"ticks\":\"\",\"zerolinecolor\":\"white\"},\"zaxis\":{\"backgroundcolor\":\"#E5ECF6\",\"gridcolor\":\"white\",\"gridwidth\":2,\"linecolor\":\"white\",\"showbackground\":true,\"ticks\":\"\",\"zerolinecolor\":\"white\"}},\"shapedefaults\":{\"line\":{\"color\":\"#2a3f5f\"}},\"ternary\":{\"aaxis\":{\"gridcolor\":\"white\",\"linecolor\":\"white\",\"ticks\":\"\"},\"baxis\":{\"gridcolor\":\"white\",\"linecolor\":\"white\",\"ticks\":\"\"},\"bgcolor\":\"#E5ECF6\",\"caxis\":{\"gridcolor\":\"white\",\"linecolor\":\"white\",\"ticks\":\"\"}},\"title\":{\"x\":0.05},\"xaxis\":{\"automargin\":true,\"gridcolor\":\"white\",\"linecolor\":\"white\",\"ticks\":\"\",\"title\":{\"standoff\":15},\"zerolinecolor\":\"white\",\"zerolinewidth\":2},\"yaxis\":{\"automargin\":true,\"gridcolor\":\"white\",\"linecolor\":\"white\",\"ticks\":\"\",\"title\":{\"standoff\":15},\"zerolinecolor\":\"white\",\"zerolinewidth\":2}}},\"xaxis\":{\"anchor\":\"y\",\"domain\":[0.0,0.45]},\"xaxis2\":{\"anchor\":\"y2\",\"domain\":[0.55,1.0]},\"xaxis3\":{\"anchor\":\"y3\",\"domain\":[0.0,0.45]},\"xaxis4\":{\"anchor\":\"y4\",\"domain\":[0.55,1.0]},\"yaxis\":{\"anchor\":\"x\",\"domain\":[0.575,1.0]},\"yaxis2\":{\"anchor\":\"x2\",\"domain\":[0.575,1.0]},\"yaxis3\":{\"anchor\":\"x3\",\"domain\":[0.0,0.425]},\"yaxis4\":{\"anchor\":\"x4\",\"domain\":[0.0,0.425]}},                        {\"responsive\": true}                    ).then(function(){\n",
       "                            \n",
       "var gd = document.getElementById('cec2dbab-b11e-4233-bb4e-d8ce0df5c64d');\n",
       "var x = new MutationObserver(function (mutations, observer) {{\n",
       "        var display = window.getComputedStyle(gd).display;\n",
       "        if (!display || display === 'none') {{\n",
       "            console.log([gd, 'removed!']);\n",
       "            Plotly.purge(gd);\n",
       "            observer.disconnect();\n",
       "        }}\n",
       "}});\n",
       "\n",
       "// Listen for the removal of the full notebook cells\n",
       "var notebookContainer = gd.closest('#notebook-container');\n",
       "if (notebookContainer) {{\n",
       "    x.observe(notebookContainer, {childList: true});\n",
       "}}\n",
       "\n",
       "// Listen for the clearing of the current output cell\n",
       "var outputEl = gd.closest('.output');\n",
       "if (outputEl) {{\n",
       "    x.observe(outputEl, {childList: true});\n",
       "}}\n",
       "\n",
       "                        })                };                });            </script>        </div>"
      ]
     },
     "metadata": {},
     "output_type": "display_data"
    }
   ],
   "source": [
    "fig = make_subplots(rows=2, cols=2)\n",
    "\n",
    "for i, (df, news_df) in enumerate(zip(dataframes, newspapers)):\n",
    "    month_df = df.groupby('newspaper').resample('M', on='date').sum().reset_index()\n",
    "    month_df['date'] = month_df['date'].dt.strftime(\"%Y-%m\")\n",
    "    month_df['fraction_female'] = month_df['counts_female'] / (month_df['counts_female'] + month_df['counts_male'] + month_df['counts_other'])\n",
    "    female_quotes = month_df.loc[month_df['counts_female'] != 0]\n",
    "\n",
    "    row = i // 2 + 1\n",
    "    col = (i % 2) + 1\n",
    "    \n",
    "    for news in news_df['name']:\n",
    "        female_news = female_quotes.loc[female_quotes['newspaper'] == news]\n",
    "        fig.append_trace(go.Scatter(x=female_news['date'], y=female_news['fraction_female'], name=news, legendgroup=str(i)), row=row, col=col)\n",
    "\n",
    "fig.update_layout(\n",
    "    legend_tracegroupgap = 20,\n",
    ")\n",
    "fig.show()"
   ]
  },
  {
   "cell_type": "markdown",
   "metadata": {},
   "source": [
    "There seems to be no time-dependence for all the other contries. We will directly output the means for the 5-year span."
   ]
  },
  {
   "cell_type": "code",
   "execution_count": 37,
   "metadata": {
    "colab": {
     "base_uri": "https://localhost:8080/",
     "height": 542
    },
    "id": "WkXXNo551aws",
    "outputId": "f242ab2c-4dc5-4da1-bfa6-8b9d4aa7355f"
   },
   "outputs": [
    {
     "data": {
      "application/vnd.plotly.v1+json": {
       "config": {
        "plotlyServerURL": "https://plot.ly"
       },
       "data": [
        {
         "marker": {
          "color": "rgb(246, 207, 113)"
         },
         "name": "Female percentage",
         "type": "bar",
         "x": [
          "USA Today",
          "The Wall Street Journal",
          "The New York Times",
          "New York Post",
          "Los Angeles Times"
         ],
         "xaxis": "x",
         "y": [
          0.30566037735849055,
          0.12736756992694254,
          0.2939063534024836,
          0.11207712647305253,
          0.21010270790066987
         ],
         "yaxis": "y"
        },
        {
         "marker": {
          "color": "rgb(246, 207, 113)"
         },
         "name": "Female percentage",
         "type": "bar",
         "x": [
          "The Times of India",
          "The Hindu",
          "Hindustan Times",
          "The Economic Times",
          "The Telegraph"
         ],
         "xaxis": "x2",
         "y": [
          0.12703018630038046,
          0.038344239857186754,
          0.09313974065756657,
          0.04268327853723251,
          0.13289070246938314
         ],
         "yaxis": "y2"
        },
        {
         "marker": {
          "color": "rgb(246, 207, 113)"
         },
         "name": "Female percentage",
         "type": "bar",
         "x": [
          "Vanguard",
          "The Punch",
          "The Nation online",
          "Sahara Reporters",
          "Sun News"
         ],
         "xaxis": "x3",
         "y": [
          0,
          0.05127328661767219,
          0.021353833013025837,
          0.07321106244398722,
          0.040628240904085275
         ],
         "yaxis": "y3"
        }
       ],
       "layout": {
        "annotations": [
         {
          "font": {
           "size": 16
          },
          "showarrow": false,
          "text": "US",
          "x": 0.5,
          "xanchor": "center",
          "xref": "paper",
          "y": 1,
          "yanchor": "bottom",
          "yref": "paper"
         },
         {
          "font": {
           "size": 16
          },
          "showarrow": false,
          "text": "India",
          "x": 0.5,
          "xanchor": "center",
          "xref": "paper",
          "y": 0.6233333333333334,
          "yanchor": "bottom",
          "yref": "paper"
         },
         {
          "font": {
           "size": 16
          },
          "showarrow": false,
          "text": "Nigeria",
          "x": 0.5,
          "xanchor": "center",
          "xref": "paper",
          "y": 0.24666666666666667,
          "yanchor": "bottom",
          "yref": "paper"
         }
        ],
        "barmode": "stack",
        "showlegend": false,
        "template": {
         "data": {
          "bar": [
           {
            "error_x": {
             "color": "#2a3f5f"
            },
            "error_y": {
             "color": "#2a3f5f"
            },
            "marker": {
             "line": {
              "color": "#E5ECF6",
              "width": 0.5
             },
             "pattern": {
              "fillmode": "overlay",
              "size": 10,
              "solidity": 0.2
             }
            },
            "type": "bar"
           }
          ],
          "barpolar": [
           {
            "marker": {
             "line": {
              "color": "#E5ECF6",
              "width": 0.5
             },
             "pattern": {
              "fillmode": "overlay",
              "size": 10,
              "solidity": 0.2
             }
            },
            "type": "barpolar"
           }
          ],
          "carpet": [
           {
            "aaxis": {
             "endlinecolor": "#2a3f5f",
             "gridcolor": "white",
             "linecolor": "white",
             "minorgridcolor": "white",
             "startlinecolor": "#2a3f5f"
            },
            "baxis": {
             "endlinecolor": "#2a3f5f",
             "gridcolor": "white",
             "linecolor": "white",
             "minorgridcolor": "white",
             "startlinecolor": "#2a3f5f"
            },
            "type": "carpet"
           }
          ],
          "choropleth": [
           {
            "colorbar": {
             "outlinewidth": 0,
             "ticks": ""
            },
            "type": "choropleth"
           }
          ],
          "contour": [
           {
            "colorbar": {
             "outlinewidth": 0,
             "ticks": ""
            },
            "colorscale": [
             [
              0,
              "#0d0887"
             ],
             [
              0.1111111111111111,
              "#46039f"
             ],
             [
              0.2222222222222222,
              "#7201a8"
             ],
             [
              0.3333333333333333,
              "#9c179e"
             ],
             [
              0.4444444444444444,
              "#bd3786"
             ],
             [
              0.5555555555555556,
              "#d8576b"
             ],
             [
              0.6666666666666666,
              "#ed7953"
             ],
             [
              0.7777777777777778,
              "#fb9f3a"
             ],
             [
              0.8888888888888888,
              "#fdca26"
             ],
             [
              1,
              "#f0f921"
             ]
            ],
            "type": "contour"
           }
          ],
          "contourcarpet": [
           {
            "colorbar": {
             "outlinewidth": 0,
             "ticks": ""
            },
            "type": "contourcarpet"
           }
          ],
          "heatmap": [
           {
            "colorbar": {
             "outlinewidth": 0,
             "ticks": ""
            },
            "colorscale": [
             [
              0,
              "#0d0887"
             ],
             [
              0.1111111111111111,
              "#46039f"
             ],
             [
              0.2222222222222222,
              "#7201a8"
             ],
             [
              0.3333333333333333,
              "#9c179e"
             ],
             [
              0.4444444444444444,
              "#bd3786"
             ],
             [
              0.5555555555555556,
              "#d8576b"
             ],
             [
              0.6666666666666666,
              "#ed7953"
             ],
             [
              0.7777777777777778,
              "#fb9f3a"
             ],
             [
              0.8888888888888888,
              "#fdca26"
             ],
             [
              1,
              "#f0f921"
             ]
            ],
            "type": "heatmap"
           }
          ],
          "heatmapgl": [
           {
            "colorbar": {
             "outlinewidth": 0,
             "ticks": ""
            },
            "colorscale": [
             [
              0,
              "#0d0887"
             ],
             [
              0.1111111111111111,
              "#46039f"
             ],
             [
              0.2222222222222222,
              "#7201a8"
             ],
             [
              0.3333333333333333,
              "#9c179e"
             ],
             [
              0.4444444444444444,
              "#bd3786"
             ],
             [
              0.5555555555555556,
              "#d8576b"
             ],
             [
              0.6666666666666666,
              "#ed7953"
             ],
             [
              0.7777777777777778,
              "#fb9f3a"
             ],
             [
              0.8888888888888888,
              "#fdca26"
             ],
             [
              1,
              "#f0f921"
             ]
            ],
            "type": "heatmapgl"
           }
          ],
          "histogram": [
           {
            "marker": {
             "pattern": {
              "fillmode": "overlay",
              "size": 10,
              "solidity": 0.2
             }
            },
            "type": "histogram"
           }
          ],
          "histogram2d": [
           {
            "colorbar": {
             "outlinewidth": 0,
             "ticks": ""
            },
            "colorscale": [
             [
              0,
              "#0d0887"
             ],
             [
              0.1111111111111111,
              "#46039f"
             ],
             [
              0.2222222222222222,
              "#7201a8"
             ],
             [
              0.3333333333333333,
              "#9c179e"
             ],
             [
              0.4444444444444444,
              "#bd3786"
             ],
             [
              0.5555555555555556,
              "#d8576b"
             ],
             [
              0.6666666666666666,
              "#ed7953"
             ],
             [
              0.7777777777777778,
              "#fb9f3a"
             ],
             [
              0.8888888888888888,
              "#fdca26"
             ],
             [
              1,
              "#f0f921"
             ]
            ],
            "type": "histogram2d"
           }
          ],
          "histogram2dcontour": [
           {
            "colorbar": {
             "outlinewidth": 0,
             "ticks": ""
            },
            "colorscale": [
             [
              0,
              "#0d0887"
             ],
             [
              0.1111111111111111,
              "#46039f"
             ],
             [
              0.2222222222222222,
              "#7201a8"
             ],
             [
              0.3333333333333333,
              "#9c179e"
             ],
             [
              0.4444444444444444,
              "#bd3786"
             ],
             [
              0.5555555555555556,
              "#d8576b"
             ],
             [
              0.6666666666666666,
              "#ed7953"
             ],
             [
              0.7777777777777778,
              "#fb9f3a"
             ],
             [
              0.8888888888888888,
              "#fdca26"
             ],
             [
              1,
              "#f0f921"
             ]
            ],
            "type": "histogram2dcontour"
           }
          ],
          "mesh3d": [
           {
            "colorbar": {
             "outlinewidth": 0,
             "ticks": ""
            },
            "type": "mesh3d"
           }
          ],
          "parcoords": [
           {
            "line": {
             "colorbar": {
              "outlinewidth": 0,
              "ticks": ""
             }
            },
            "type": "parcoords"
           }
          ],
          "pie": [
           {
            "automargin": true,
            "type": "pie"
           }
          ],
          "scatter": [
           {
            "marker": {
             "colorbar": {
              "outlinewidth": 0,
              "ticks": ""
             }
            },
            "type": "scatter"
           }
          ],
          "scatter3d": [
           {
            "line": {
             "colorbar": {
              "outlinewidth": 0,
              "ticks": ""
             }
            },
            "marker": {
             "colorbar": {
              "outlinewidth": 0,
              "ticks": ""
             }
            },
            "type": "scatter3d"
           }
          ],
          "scattercarpet": [
           {
            "marker": {
             "colorbar": {
              "outlinewidth": 0,
              "ticks": ""
             }
            },
            "type": "scattercarpet"
           }
          ],
          "scattergeo": [
           {
            "marker": {
             "colorbar": {
              "outlinewidth": 0,
              "ticks": ""
             }
            },
            "type": "scattergeo"
           }
          ],
          "scattergl": [
           {
            "marker": {
             "colorbar": {
              "outlinewidth": 0,
              "ticks": ""
             }
            },
            "type": "scattergl"
           }
          ],
          "scattermapbox": [
           {
            "marker": {
             "colorbar": {
              "outlinewidth": 0,
              "ticks": ""
             }
            },
            "type": "scattermapbox"
           }
          ],
          "scatterpolar": [
           {
            "marker": {
             "colorbar": {
              "outlinewidth": 0,
              "ticks": ""
             }
            },
            "type": "scatterpolar"
           }
          ],
          "scatterpolargl": [
           {
            "marker": {
             "colorbar": {
              "outlinewidth": 0,
              "ticks": ""
             }
            },
            "type": "scatterpolargl"
           }
          ],
          "scatterternary": [
           {
            "marker": {
             "colorbar": {
              "outlinewidth": 0,
              "ticks": ""
             }
            },
            "type": "scatterternary"
           }
          ],
          "surface": [
           {
            "colorbar": {
             "outlinewidth": 0,
             "ticks": ""
            },
            "colorscale": [
             [
              0,
              "#0d0887"
             ],
             [
              0.1111111111111111,
              "#46039f"
             ],
             [
              0.2222222222222222,
              "#7201a8"
             ],
             [
              0.3333333333333333,
              "#9c179e"
             ],
             [
              0.4444444444444444,
              "#bd3786"
             ],
             [
              0.5555555555555556,
              "#d8576b"
             ],
             [
              0.6666666666666666,
              "#ed7953"
             ],
             [
              0.7777777777777778,
              "#fb9f3a"
             ],
             [
              0.8888888888888888,
              "#fdca26"
             ],
             [
              1,
              "#f0f921"
             ]
            ],
            "type": "surface"
           }
          ],
          "table": [
           {
            "cells": {
             "fill": {
              "color": "#EBF0F8"
             },
             "line": {
              "color": "white"
             }
            },
            "header": {
             "fill": {
              "color": "#C8D4E3"
             },
             "line": {
              "color": "white"
             }
            },
            "type": "table"
           }
          ]
         },
         "layout": {
          "annotationdefaults": {
           "arrowcolor": "#2a3f5f",
           "arrowhead": 0,
           "arrowwidth": 1
          },
          "autotypenumbers": "strict",
          "coloraxis": {
           "colorbar": {
            "outlinewidth": 0,
            "ticks": ""
           }
          },
          "colorscale": {
           "diverging": [
            [
             0,
             "#8e0152"
            ],
            [
             0.1,
             "#c51b7d"
            ],
            [
             0.2,
             "#de77ae"
            ],
            [
             0.3,
             "#f1b6da"
            ],
            [
             0.4,
             "#fde0ef"
            ],
            [
             0.5,
             "#f7f7f7"
            ],
            [
             0.6,
             "#e6f5d0"
            ],
            [
             0.7,
             "#b8e186"
            ],
            [
             0.8,
             "#7fbc41"
            ],
            [
             0.9,
             "#4d9221"
            ],
            [
             1,
             "#276419"
            ]
           ],
           "sequential": [
            [
             0,
             "#0d0887"
            ],
            [
             0.1111111111111111,
             "#46039f"
            ],
            [
             0.2222222222222222,
             "#7201a8"
            ],
            [
             0.3333333333333333,
             "#9c179e"
            ],
            [
             0.4444444444444444,
             "#bd3786"
            ],
            [
             0.5555555555555556,
             "#d8576b"
            ],
            [
             0.6666666666666666,
             "#ed7953"
            ],
            [
             0.7777777777777778,
             "#fb9f3a"
            ],
            [
             0.8888888888888888,
             "#fdca26"
            ],
            [
             1,
             "#f0f921"
            ]
           ],
           "sequentialminus": [
            [
             0,
             "#0d0887"
            ],
            [
             0.1111111111111111,
             "#46039f"
            ],
            [
             0.2222222222222222,
             "#7201a8"
            ],
            [
             0.3333333333333333,
             "#9c179e"
            ],
            [
             0.4444444444444444,
             "#bd3786"
            ],
            [
             0.5555555555555556,
             "#d8576b"
            ],
            [
             0.6666666666666666,
             "#ed7953"
            ],
            [
             0.7777777777777778,
             "#fb9f3a"
            ],
            [
             0.8888888888888888,
             "#fdca26"
            ],
            [
             1,
             "#f0f921"
            ]
           ]
          },
          "colorway": [
           "#636efa",
           "#EF553B",
           "#00cc96",
           "#ab63fa",
           "#FFA15A",
           "#19d3f3",
           "#FF6692",
           "#B6E880",
           "#FF97FF",
           "#FECB52"
          ],
          "font": {
           "color": "#2a3f5f"
          },
          "geo": {
           "bgcolor": "white",
           "lakecolor": "white",
           "landcolor": "#E5ECF6",
           "showlakes": true,
           "showland": true,
           "subunitcolor": "white"
          },
          "hoverlabel": {
           "align": "left"
          },
          "hovermode": "closest",
          "mapbox": {
           "style": "light"
          },
          "paper_bgcolor": "white",
          "plot_bgcolor": "#E5ECF6",
          "polar": {
           "angularaxis": {
            "gridcolor": "white",
            "linecolor": "white",
            "ticks": ""
           },
           "bgcolor": "#E5ECF6",
           "radialaxis": {
            "gridcolor": "white",
            "linecolor": "white",
            "ticks": ""
           }
          },
          "scene": {
           "xaxis": {
            "backgroundcolor": "#E5ECF6",
            "gridcolor": "white",
            "gridwidth": 2,
            "linecolor": "white",
            "showbackground": true,
            "ticks": "",
            "zerolinecolor": "white"
           },
           "yaxis": {
            "backgroundcolor": "#E5ECF6",
            "gridcolor": "white",
            "gridwidth": 2,
            "linecolor": "white",
            "showbackground": true,
            "ticks": "",
            "zerolinecolor": "white"
           },
           "zaxis": {
            "backgroundcolor": "#E5ECF6",
            "gridcolor": "white",
            "gridwidth": 2,
            "linecolor": "white",
            "showbackground": true,
            "ticks": "",
            "zerolinecolor": "white"
           }
          },
          "shapedefaults": {
           "line": {
            "color": "#2a3f5f"
           }
          },
          "ternary": {
           "aaxis": {
            "gridcolor": "white",
            "linecolor": "white",
            "ticks": ""
           },
           "baxis": {
            "gridcolor": "white",
            "linecolor": "white",
            "ticks": ""
           },
           "bgcolor": "#E5ECF6",
           "caxis": {
            "gridcolor": "white",
            "linecolor": "white",
            "ticks": ""
           }
          },
          "title": {
           "x": 0.05
          },
          "xaxis": {
           "automargin": true,
           "gridcolor": "white",
           "linecolor": "white",
           "ticks": "",
           "title": {
            "standoff": 15
           },
           "zerolinecolor": "white",
           "zerolinewidth": 2
          },
          "yaxis": {
           "automargin": true,
           "gridcolor": "white",
           "linecolor": "white",
           "ticks": "",
           "title": {
            "standoff": 15
           },
           "zerolinecolor": "white",
           "zerolinewidth": 2
          }
         }
        },
        "title": {
         "text": "Percentage of female quotations (2015-2020)"
        },
        "xaxis": {
         "anchor": "y",
         "categoryorder": "total descending",
         "domain": [
          0,
          1
         ]
        },
        "xaxis2": {
         "anchor": "y2",
         "domain": [
          0,
          1
         ]
        },
        "xaxis3": {
         "anchor": "y3",
         "domain": [
          0,
          1
         ]
        },
        "yaxis": {
         "anchor": "x",
         "domain": [
          0.7533333333333334,
          1
         ],
         "matches": "y3"
        },
        "yaxis2": {
         "anchor": "x2",
         "domain": [
          0.3766666666666667,
          0.6233333333333334
         ],
         "matches": "y3"
        },
        "yaxis3": {
         "anchor": "x3",
         "domain": [
          0,
          0.24666666666666667
         ]
        }
       }
      },
      "text/html": [
       "<div>                            <div id=\"1f0a5599-b81e-4499-b43a-e52face1ac77\" class=\"plotly-graph-div\" style=\"height:525px; width:100%;\"></div>            <script type=\"text/javascript\">                require([\"plotly\"], function(Plotly) {                    window.PLOTLYENV=window.PLOTLYENV || {};                                    if (document.getElementById(\"1f0a5599-b81e-4499-b43a-e52face1ac77\")) {                    Plotly.newPlot(                        \"1f0a5599-b81e-4499-b43a-e52face1ac77\",                        [{\"marker\":{\"color\":\"rgb(246, 207, 113)\"},\"name\":\"Female percentage\",\"type\":\"bar\",\"x\":[\"USA Today\",\"The Wall Street Journal\",\"The New York Times\",\"New York Post\",\"Los Angeles Times\"],\"xaxis\":\"x\",\"y\":[0.30566037735849055,0.12736756992694254,0.2939063534024836,0.11207712647305253,0.21010270790066987],\"yaxis\":\"y\"},{\"marker\":{\"color\":\"rgb(246, 207, 113)\"},\"name\":\"Female percentage\",\"type\":\"bar\",\"x\":[\"The Times of India\",\"The Hindu\",\"Hindustan Times\",\"The Economic Times\",\"The Telegraph\"],\"xaxis\":\"x2\",\"y\":[0.12703018630038046,0.038344239857186754,0.09313974065756657,0.04268327853723251,0.13289070246938314],\"yaxis\":\"y2\"},{\"marker\":{\"color\":\"rgb(246, 207, 113)\"},\"name\":\"Female percentage\",\"type\":\"bar\",\"x\":[\"Vanguard\",\"The Punch\",\"The Nation online\",\"Sahara Reporters\",\"Sun News\"],\"xaxis\":\"x3\",\"y\":[0.0,0.05127328661767219,0.021353833013025837,0.07321106244398722,0.040628240904085275],\"yaxis\":\"y3\"}],                        {\"annotations\":[{\"font\":{\"size\":16},\"showarrow\":false,\"text\":\"US\",\"x\":0.5,\"xanchor\":\"center\",\"xref\":\"paper\",\"y\":1.0,\"yanchor\":\"bottom\",\"yref\":\"paper\"},{\"font\":{\"size\":16},\"showarrow\":false,\"text\":\"India\",\"x\":0.5,\"xanchor\":\"center\",\"xref\":\"paper\",\"y\":0.6233333333333334,\"yanchor\":\"bottom\",\"yref\":\"paper\"},{\"font\":{\"size\":16},\"showarrow\":false,\"text\":\"Nigeria\",\"x\":0.5,\"xanchor\":\"center\",\"xref\":\"paper\",\"y\":0.24666666666666667,\"yanchor\":\"bottom\",\"yref\":\"paper\"}],\"barmode\":\"stack\",\"showlegend\":false,\"template\":{\"data\":{\"bar\":[{\"error_x\":{\"color\":\"#2a3f5f\"},\"error_y\":{\"color\":\"#2a3f5f\"},\"marker\":{\"line\":{\"color\":\"#E5ECF6\",\"width\":0.5},\"pattern\":{\"fillmode\":\"overlay\",\"size\":10,\"solidity\":0.2}},\"type\":\"bar\"}],\"barpolar\":[{\"marker\":{\"line\":{\"color\":\"#E5ECF6\",\"width\":0.5},\"pattern\":{\"fillmode\":\"overlay\",\"size\":10,\"solidity\":0.2}},\"type\":\"barpolar\"}],\"carpet\":[{\"aaxis\":{\"endlinecolor\":\"#2a3f5f\",\"gridcolor\":\"white\",\"linecolor\":\"white\",\"minorgridcolor\":\"white\",\"startlinecolor\":\"#2a3f5f\"},\"baxis\":{\"endlinecolor\":\"#2a3f5f\",\"gridcolor\":\"white\",\"linecolor\":\"white\",\"minorgridcolor\":\"white\",\"startlinecolor\":\"#2a3f5f\"},\"type\":\"carpet\"}],\"choropleth\":[{\"colorbar\":{\"outlinewidth\":0,\"ticks\":\"\"},\"type\":\"choropleth\"}],\"contour\":[{\"colorbar\":{\"outlinewidth\":0,\"ticks\":\"\"},\"colorscale\":[[0.0,\"#0d0887\"],[0.1111111111111111,\"#46039f\"],[0.2222222222222222,\"#7201a8\"],[0.3333333333333333,\"#9c179e\"],[0.4444444444444444,\"#bd3786\"],[0.5555555555555556,\"#d8576b\"],[0.6666666666666666,\"#ed7953\"],[0.7777777777777778,\"#fb9f3a\"],[0.8888888888888888,\"#fdca26\"],[1.0,\"#f0f921\"]],\"type\":\"contour\"}],\"contourcarpet\":[{\"colorbar\":{\"outlinewidth\":0,\"ticks\":\"\"},\"type\":\"contourcarpet\"}],\"heatmap\":[{\"colorbar\":{\"outlinewidth\":0,\"ticks\":\"\"},\"colorscale\":[[0.0,\"#0d0887\"],[0.1111111111111111,\"#46039f\"],[0.2222222222222222,\"#7201a8\"],[0.3333333333333333,\"#9c179e\"],[0.4444444444444444,\"#bd3786\"],[0.5555555555555556,\"#d8576b\"],[0.6666666666666666,\"#ed7953\"],[0.7777777777777778,\"#fb9f3a\"],[0.8888888888888888,\"#fdca26\"],[1.0,\"#f0f921\"]],\"type\":\"heatmap\"}],\"heatmapgl\":[{\"colorbar\":{\"outlinewidth\":0,\"ticks\":\"\"},\"colorscale\":[[0.0,\"#0d0887\"],[0.1111111111111111,\"#46039f\"],[0.2222222222222222,\"#7201a8\"],[0.3333333333333333,\"#9c179e\"],[0.4444444444444444,\"#bd3786\"],[0.5555555555555556,\"#d8576b\"],[0.6666666666666666,\"#ed7953\"],[0.7777777777777778,\"#fb9f3a\"],[0.8888888888888888,\"#fdca26\"],[1.0,\"#f0f921\"]],\"type\":\"heatmapgl\"}],\"histogram\":[{\"marker\":{\"pattern\":{\"fillmode\":\"overlay\",\"size\":10,\"solidity\":0.2}},\"type\":\"histogram\"}],\"histogram2d\":[{\"colorbar\":{\"outlinewidth\":0,\"ticks\":\"\"},\"colorscale\":[[0.0,\"#0d0887\"],[0.1111111111111111,\"#46039f\"],[0.2222222222222222,\"#7201a8\"],[0.3333333333333333,\"#9c179e\"],[0.4444444444444444,\"#bd3786\"],[0.5555555555555556,\"#d8576b\"],[0.6666666666666666,\"#ed7953\"],[0.7777777777777778,\"#fb9f3a\"],[0.8888888888888888,\"#fdca26\"],[1.0,\"#f0f921\"]],\"type\":\"histogram2d\"}],\"histogram2dcontour\":[{\"colorbar\":{\"outlinewidth\":0,\"ticks\":\"\"},\"colorscale\":[[0.0,\"#0d0887\"],[0.1111111111111111,\"#46039f\"],[0.2222222222222222,\"#7201a8\"],[0.3333333333333333,\"#9c179e\"],[0.4444444444444444,\"#bd3786\"],[0.5555555555555556,\"#d8576b\"],[0.6666666666666666,\"#ed7953\"],[0.7777777777777778,\"#fb9f3a\"],[0.8888888888888888,\"#fdca26\"],[1.0,\"#f0f921\"]],\"type\":\"histogram2dcontour\"}],\"mesh3d\":[{\"colorbar\":{\"outlinewidth\":0,\"ticks\":\"\"},\"type\":\"mesh3d\"}],\"parcoords\":[{\"line\":{\"colorbar\":{\"outlinewidth\":0,\"ticks\":\"\"}},\"type\":\"parcoords\"}],\"pie\":[{\"automargin\":true,\"type\":\"pie\"}],\"scatter\":[{\"marker\":{\"colorbar\":{\"outlinewidth\":0,\"ticks\":\"\"}},\"type\":\"scatter\"}],\"scatter3d\":[{\"line\":{\"colorbar\":{\"outlinewidth\":0,\"ticks\":\"\"}},\"marker\":{\"colorbar\":{\"outlinewidth\":0,\"ticks\":\"\"}},\"type\":\"scatter3d\"}],\"scattercarpet\":[{\"marker\":{\"colorbar\":{\"outlinewidth\":0,\"ticks\":\"\"}},\"type\":\"scattercarpet\"}],\"scattergeo\":[{\"marker\":{\"colorbar\":{\"outlinewidth\":0,\"ticks\":\"\"}},\"type\":\"scattergeo\"}],\"scattergl\":[{\"marker\":{\"colorbar\":{\"outlinewidth\":0,\"ticks\":\"\"}},\"type\":\"scattergl\"}],\"scattermapbox\":[{\"marker\":{\"colorbar\":{\"outlinewidth\":0,\"ticks\":\"\"}},\"type\":\"scattermapbox\"}],\"scatterpolar\":[{\"marker\":{\"colorbar\":{\"outlinewidth\":0,\"ticks\":\"\"}},\"type\":\"scatterpolar\"}],\"scatterpolargl\":[{\"marker\":{\"colorbar\":{\"outlinewidth\":0,\"ticks\":\"\"}},\"type\":\"scatterpolargl\"}],\"scatterternary\":[{\"marker\":{\"colorbar\":{\"outlinewidth\":0,\"ticks\":\"\"}},\"type\":\"scatterternary\"}],\"surface\":[{\"colorbar\":{\"outlinewidth\":0,\"ticks\":\"\"},\"colorscale\":[[0.0,\"#0d0887\"],[0.1111111111111111,\"#46039f\"],[0.2222222222222222,\"#7201a8\"],[0.3333333333333333,\"#9c179e\"],[0.4444444444444444,\"#bd3786\"],[0.5555555555555556,\"#d8576b\"],[0.6666666666666666,\"#ed7953\"],[0.7777777777777778,\"#fb9f3a\"],[0.8888888888888888,\"#fdca26\"],[1.0,\"#f0f921\"]],\"type\":\"surface\"}],\"table\":[{\"cells\":{\"fill\":{\"color\":\"#EBF0F8\"},\"line\":{\"color\":\"white\"}},\"header\":{\"fill\":{\"color\":\"#C8D4E3\"},\"line\":{\"color\":\"white\"}},\"type\":\"table\"}]},\"layout\":{\"annotationdefaults\":{\"arrowcolor\":\"#2a3f5f\",\"arrowhead\":0,\"arrowwidth\":1},\"autotypenumbers\":\"strict\",\"coloraxis\":{\"colorbar\":{\"outlinewidth\":0,\"ticks\":\"\"}},\"colorscale\":{\"diverging\":[[0,\"#8e0152\"],[0.1,\"#c51b7d\"],[0.2,\"#de77ae\"],[0.3,\"#f1b6da\"],[0.4,\"#fde0ef\"],[0.5,\"#f7f7f7\"],[0.6,\"#e6f5d0\"],[0.7,\"#b8e186\"],[0.8,\"#7fbc41\"],[0.9,\"#4d9221\"],[1,\"#276419\"]],\"sequential\":[[0.0,\"#0d0887\"],[0.1111111111111111,\"#46039f\"],[0.2222222222222222,\"#7201a8\"],[0.3333333333333333,\"#9c179e\"],[0.4444444444444444,\"#bd3786\"],[0.5555555555555556,\"#d8576b\"],[0.6666666666666666,\"#ed7953\"],[0.7777777777777778,\"#fb9f3a\"],[0.8888888888888888,\"#fdca26\"],[1.0,\"#f0f921\"]],\"sequentialminus\":[[0.0,\"#0d0887\"],[0.1111111111111111,\"#46039f\"],[0.2222222222222222,\"#7201a8\"],[0.3333333333333333,\"#9c179e\"],[0.4444444444444444,\"#bd3786\"],[0.5555555555555556,\"#d8576b\"],[0.6666666666666666,\"#ed7953\"],[0.7777777777777778,\"#fb9f3a\"],[0.8888888888888888,\"#fdca26\"],[1.0,\"#f0f921\"]]},\"colorway\":[\"#636efa\",\"#EF553B\",\"#00cc96\",\"#ab63fa\",\"#FFA15A\",\"#19d3f3\",\"#FF6692\",\"#B6E880\",\"#FF97FF\",\"#FECB52\"],\"font\":{\"color\":\"#2a3f5f\"},\"geo\":{\"bgcolor\":\"white\",\"lakecolor\":\"white\",\"landcolor\":\"#E5ECF6\",\"showlakes\":true,\"showland\":true,\"subunitcolor\":\"white\"},\"hoverlabel\":{\"align\":\"left\"},\"hovermode\":\"closest\",\"mapbox\":{\"style\":\"light\"},\"paper_bgcolor\":\"white\",\"plot_bgcolor\":\"#E5ECF6\",\"polar\":{\"angularaxis\":{\"gridcolor\":\"white\",\"linecolor\":\"white\",\"ticks\":\"\"},\"bgcolor\":\"#E5ECF6\",\"radialaxis\":{\"gridcolor\":\"white\",\"linecolor\":\"white\",\"ticks\":\"\"}},\"scene\":{\"xaxis\":{\"backgroundcolor\":\"#E5ECF6\",\"gridcolor\":\"white\",\"gridwidth\":2,\"linecolor\":\"white\",\"showbackground\":true,\"ticks\":\"\",\"zerolinecolor\":\"white\"},\"yaxis\":{\"backgroundcolor\":\"#E5ECF6\",\"gridcolor\":\"white\",\"gridwidth\":2,\"linecolor\":\"white\",\"showbackground\":true,\"ticks\":\"\",\"zerolinecolor\":\"white\"},\"zaxis\":{\"backgroundcolor\":\"#E5ECF6\",\"gridcolor\":\"white\",\"gridwidth\":2,\"linecolor\":\"white\",\"showbackground\":true,\"ticks\":\"\",\"zerolinecolor\":\"white\"}},\"shapedefaults\":{\"line\":{\"color\":\"#2a3f5f\"}},\"ternary\":{\"aaxis\":{\"gridcolor\":\"white\",\"linecolor\":\"white\",\"ticks\":\"\"},\"baxis\":{\"gridcolor\":\"white\",\"linecolor\":\"white\",\"ticks\":\"\"},\"bgcolor\":\"#E5ECF6\",\"caxis\":{\"gridcolor\":\"white\",\"linecolor\":\"white\",\"ticks\":\"\"}},\"title\":{\"x\":0.05},\"xaxis\":{\"automargin\":true,\"gridcolor\":\"white\",\"linecolor\":\"white\",\"ticks\":\"\",\"title\":{\"standoff\":15},\"zerolinecolor\":\"white\",\"zerolinewidth\":2},\"yaxis\":{\"automargin\":true,\"gridcolor\":\"white\",\"linecolor\":\"white\",\"ticks\":\"\",\"title\":{\"standoff\":15},\"zerolinecolor\":\"white\",\"zerolinewidth\":2}}},\"title\":{\"text\":\"Percentage of female quotations (2015-2020)\"},\"xaxis\":{\"anchor\":\"y\",\"categoryorder\":\"total descending\",\"domain\":[0.0,1.0]},\"xaxis2\":{\"anchor\":\"y2\",\"domain\":[0.0,1.0]},\"xaxis3\":{\"anchor\":\"y3\",\"domain\":[0.0,1.0]},\"yaxis\":{\"anchor\":\"x\",\"domain\":[0.7533333333333334,1.0],\"matches\":\"y3\"},\"yaxis2\":{\"anchor\":\"x2\",\"domain\":[0.3766666666666667,0.6233333333333334],\"matches\":\"y3\"},\"yaxis3\":{\"anchor\":\"x3\",\"domain\":[0.0,0.24666666666666667]}},                        {\"responsive\": true}                    ).then(function(){\n",
       "                            \n",
       "var gd = document.getElementById('1f0a5599-b81e-4499-b43a-e52face1ac77');\n",
       "var x = new MutationObserver(function (mutations, observer) {{\n",
       "        var display = window.getComputedStyle(gd).display;\n",
       "        if (!display || display === 'none') {{\n",
       "            console.log([gd, 'removed!']);\n",
       "            Plotly.purge(gd);\n",
       "            observer.disconnect();\n",
       "        }}\n",
       "}});\n",
       "\n",
       "// Listen for the removal of the full notebook cells\n",
       "var notebookContainer = gd.closest('#notebook-container');\n",
       "if (notebookContainer) {{\n",
       "    x.observe(notebookContainer, {childList: true});\n",
       "}}\n",
       "\n",
       "// Listen for the clearing of the current output cell\n",
       "var outputEl = gd.closest('.output');\n",
       "if (outputEl) {{\n",
       "    x.observe(outputEl, {childList: true});\n",
       "}}\n",
       "\n",
       "                        })                };                });            </script>        </div>"
      ]
     },
     "metadata": {},
     "output_type": "display_data"
    }
   ],
   "source": [
    "# Set color palette\n",
    "palette_values = px.colors.qualitative.Pastel\n",
    "palette = cycle(palette_values)\n",
    "\n",
    "# Create list of dataframes for US, IN and NG\n",
    "newspapers_list = [newspapers_us_df, newspapers_in_df, newspapers_ng_df]\n",
    "gender_repr_list = [gender_repr_us_df, gender_repr_in_df, gender_repr_ng_df]\n",
    "\n",
    "fig = make_subplots(rows=3, cols=1, subplot_titles=('US', 'India', 'Nigeria'),\n",
    "                    vertical_spacing=0.13,\n",
    "                    shared_yaxes='all'\n",
    ")\n",
    "\n",
    "for i, (y, n) in enumerate(zip(gender_repr_list, newspapers_list)):\n",
    "    y = y.groupby('newspaper').sum().reset_index()\n",
    "    x = n['name'].to_list()\n",
    "    y1 = y['counts_other'] / (y['counts_female'] + y['counts_male'] + y['counts_other']) * 100\n",
    "\n",
    "    fig.append_trace(go.Bar(x=x, y=y1, marker_color=palette_values[1], name='Female percentage'),\n",
    "                     row=(i+1), col=1)\n",
    "\n",
    "fig.update_layout(barmode='stack',\n",
    "                  xaxis={'categoryorder':'total descending'},\n",
    "                  title_text=\"Percentage of female quotations (2015-2020)\",\n",
    "                  showlegend=False,\n",
    ")\n",
    "\n",
    "fig.show()\n",
    "fig.to_html(full_html=False, include_plotlyjs='cdn')  \n",
    "fig.write_html(\"docs/_includes/fig_perc_female_all_2015-2020.html\", full_html=False, include_plotlyjs='cdn')\n",
    "\n",
    "\n",
    "# Create list of dataframes for US, IN and NG\n",
    "newspapers_list = [newspapers_us_df, newspapers_in_df, newspapers_ng_df]\n",
    "gender_repr_list = [gender_repr_us_df, gender_repr_in_df, gender_repr_ng_df]\n",
    "\n",
    "fig = make_subplots(rows=3, cols=1, subplot_titles=('US', 'India', 'Nigeria'),\n",
    "                    vertical_spacing=0.13,\n",
    "                    shared_yaxes='all'\n",
    ")\n",
    "\n",
    "for i, (y, n) in enumerate(zip(gender_repr_list, newspapers_list)):\n",
    "    y = y.groupby('newspaper').sum().reset_index()\n",
    "    x = n['name'].to_list()\n",
    "    y1 = y['counts_other'] / (y['counts_female'] + y['counts_male'] + y['counts_other']) * 100\n",
    "\n",
    "    fig.append_trace(go.Bar(x=x, y=y1, marker_color=palette_values[1], name='Female percentage'),\n",
    "                     row=(i+1), col=1)\n",
    "\n",
    "fig.update_layout(barmode='stack',\n",
    "                  xaxis={'categoryorder':'total descending'},\n",
    "                  title_text=\"Percentage of female quotations (2015-2020)\",\n",
    "                  showlegend=False,\n",
    ")\n",
    "\n",
    "fig.show()\n",
    "fig.to_html(full_html=False, include_plotlyjs='cdn')  \n",
    "fig.write_html(\"docs/_includes/fig_perc_female_all_2015-2020.html\", full_html=False, include_plotlyjs='cdn')"
   ]
  },
  {
   "cell_type": "markdown",
   "metadata": {},
   "source": [
    "Even if we cannot issue a conclusion in the different newspapers of a country, we can see a **difference in the distribution of genres between countries**. This can be justified by the history of the country and their consideration for women and gender minorities."
   ]
  },
  {
   "cell_type": "markdown",
   "metadata": {},
   "source": [
    "### 3.5 Country averages (from all newspapers) of female quotes compared\n",
    "<a id=\"female_fraction\"></a>\n",
    "\n",
    "Finally we will compare the averages over the newspaper per country. This allows us to explore the time dimension in a more general setting. As before just 2017-2020."
   ]
  },
  {
   "cell_type": "code",
   "execution_count": 31,
   "metadata": {},
   "outputs": [
    {
     "data": {
      "application/vnd.plotly.v1+json": {
       "config": {
        "plotlyServerURL": "https://plot.ly"
       },
       "data": [
        {
         "hovertemplate": "Country=UK<br>Month=%{x}<br>Percentage of female quotes=%{y}<extra></extra>",
         "legendgroup": "UK",
         "marker": {
          "color": "rgb(220, 176, 242)",
          "symbol": "circle"
         },
         "mode": "markers",
         "name": "UK",
         "orientation": "v",
         "showlegend": true,
         "type": "scatter",
         "x": [
          "2015-01-31T00:00:00",
          "2015-02-28T00:00:00",
          "2015-03-31T00:00:00",
          "2015-04-30T00:00:00",
          "2015-05-31T00:00:00",
          "2015-06-30T00:00:00",
          "2015-07-31T00:00:00",
          "2015-08-31T00:00:00",
          "2015-09-30T00:00:00",
          "2015-10-31T00:00:00",
          "2015-11-30T00:00:00",
          "2015-12-31T00:00:00",
          "2016-01-31T00:00:00",
          "2016-02-29T00:00:00",
          "2016-03-31T00:00:00",
          "2016-04-30T00:00:00",
          "2016-05-31T00:00:00",
          "2016-06-30T00:00:00",
          "2016-07-31T00:00:00",
          "2016-08-31T00:00:00",
          "2016-09-30T00:00:00",
          "2016-10-31T00:00:00",
          "2016-11-30T00:00:00",
          "2016-12-31T00:00:00",
          "2017-01-31T00:00:00",
          "2017-02-28T00:00:00",
          "2017-03-31T00:00:00",
          "2017-04-30T00:00:00",
          "2017-05-31T00:00:00",
          "2017-06-30T00:00:00",
          "2017-07-31T00:00:00",
          "2017-08-31T00:00:00",
          "2017-09-30T00:00:00",
          "2017-10-31T00:00:00",
          "2017-11-30T00:00:00",
          "2017-12-31T00:00:00",
          "2018-01-31T00:00:00",
          "2018-02-28T00:00:00",
          "2018-03-31T00:00:00",
          "2018-04-30T00:00:00",
          "2018-05-31T00:00:00",
          "2018-06-30T00:00:00",
          "2018-07-31T00:00:00",
          "2018-08-31T00:00:00",
          "2018-09-30T00:00:00",
          "2018-10-31T00:00:00",
          "2018-11-30T00:00:00",
          "2018-12-31T00:00:00",
          "2019-01-31T00:00:00",
          "2019-02-28T00:00:00",
          "2019-03-31T00:00:00",
          "2019-04-30T00:00:00",
          "2019-05-31T00:00:00",
          "2019-06-30T00:00:00",
          "2019-07-31T00:00:00",
          "2019-08-31T00:00:00",
          "2019-09-30T00:00:00",
          "2019-10-31T00:00:00",
          "2019-11-30T00:00:00",
          "2019-12-31T00:00:00",
          "2020-01-31T00:00:00",
          "2020-02-29T00:00:00",
          "2020-03-31T00:00:00",
          "2020-04-30T00:00:00"
         ],
         "xaxis": "x",
         "y": [
          18.206169918299924,
          18.15598775357371,
          17.37659634092638,
          18.280104092737165,
          17.870711965200154,
          20.364083352844766,
          18.998032786885247,
          18.771646271069038,
          19.061142409775417,
          18.501733682097452,
          18.50524493124207,
          18.940384035387552,
          16.40023682652457,
          18.380321665089877,
          19.295774647887324,
          19.291127953633527,
          19.85153681060114,
          21.830550401978975,
          24.16238457308633,
          23.666820347318275,
          22.633102754806607,
          18.367346938775512,
          19.292989814260036,
          22.013545734130414,
          24.294871794871796,
          25.72697382467227,
          23.300046784003097,
          20.503806926557054,
          23.45455173366487,
          23.868081856579543,
          22.624317006339478,
          23.260239098198234,
          23.00868859569348,
          23.010770528295104,
          21.040316497590865,
          20.022377951828517,
          22.62703595286347,
          23.700254960647378,
          22.951606527754247,
          23.221645430234386,
          22.870418172431595,
          22.851354699546732,
          23.42747987447128,
          23.35350994418678,
          23.162821965217177,
          23.767772838010817,
          23.445753092090154,
          23.28999434708875,
          25.008193469373673,
          25.844396916992856,
          24.429917205013954,
          25.397739543589378,
          24.600247509587934,
          24.699255569079227,
          24.734120401990438,
          22.64565631193705,
          23.790123630827352,
          23.1307064834616,
          23.318641637681544,
          24.518187199894758,
          24.257906866964706,
          23.51686237028946,
          23.054900639946112,
          21.83381624450883
         ],
         "yaxis": "y"
        },
        {
         "hovertemplate": "<b>OLS trendline</b><br>perc_female = 3.84641e-08 * date + -35.9384<br>R<sup>2</sup>=0.589316<br><br>Country=UK<br>Month=%{x}<br>Percentage of female quotes=%{y} <b>(trend)</b><extra></extra>",
         "legendgroup": "UK",
         "marker": {
          "color": "rgb(220, 176, 242)",
          "symbol": "circle"
         },
         "mode": "lines",
         "name": "UK",
         "showlegend": false,
         "type": "scatter",
         "x": [
          "2015-01-31T00:00:00",
          "2015-02-28T00:00:00",
          "2015-03-31T00:00:00",
          "2015-04-30T00:00:00",
          "2015-05-31T00:00:00",
          "2015-06-30T00:00:00",
          "2015-07-31T00:00:00",
          "2015-08-31T00:00:00",
          "2015-09-30T00:00:00",
          "2015-10-31T00:00:00",
          "2015-11-30T00:00:00",
          "2015-12-31T00:00:00",
          "2016-01-31T00:00:00",
          "2016-02-29T00:00:00",
          "2016-03-31T00:00:00",
          "2016-04-30T00:00:00",
          "2016-05-31T00:00:00",
          "2016-06-30T00:00:00",
          "2016-07-31T00:00:00",
          "2016-08-31T00:00:00",
          "2016-09-30T00:00:00",
          "2016-10-31T00:00:00",
          "2016-11-30T00:00:00",
          "2016-12-31T00:00:00",
          "2017-01-31T00:00:00",
          "2017-02-28T00:00:00",
          "2017-03-31T00:00:00",
          "2017-04-30T00:00:00",
          "2017-05-31T00:00:00",
          "2017-06-30T00:00:00",
          "2017-07-31T00:00:00",
          "2017-08-31T00:00:00",
          "2017-09-30T00:00:00",
          "2017-10-31T00:00:00",
          "2017-11-30T00:00:00",
          "2017-12-31T00:00:00",
          "2018-01-31T00:00:00",
          "2018-02-28T00:00:00",
          "2018-03-31T00:00:00",
          "2018-04-30T00:00:00",
          "2018-05-31T00:00:00",
          "2018-06-30T00:00:00",
          "2018-07-31T00:00:00",
          "2018-08-31T00:00:00",
          "2018-09-30T00:00:00",
          "2018-10-31T00:00:00",
          "2018-11-30T00:00:00",
          "2018-12-31T00:00:00",
          "2019-01-31T00:00:00",
          "2019-02-28T00:00:00",
          "2019-03-31T00:00:00",
          "2019-04-30T00:00:00",
          "2019-05-31T00:00:00",
          "2019-06-30T00:00:00",
          "2019-07-31T00:00:00",
          "2019-08-31T00:00:00",
          "2019-09-30T00:00:00",
          "2019-10-31T00:00:00",
          "2019-11-30T00:00:00",
          "2019-12-31T00:00:00",
          "2020-01-31T00:00:00",
          "2020-02-29T00:00:00",
          "2020-03-31T00:00:00",
          "2020-04-30T00:00:00"
         ],
         "xaxis": "x",
         "y": [
          18.783041564789407,
          18.876093890667455,
          18.97911610860387,
          19.078815029187496,
          19.18183724712391,
          19.281536167707536,
          19.38455838564395,
          19.487580603580362,
          19.58727952416399,
          19.690301742100402,
          19.79000066268403,
          19.893022880620443,
          19.996045098556856,
          20.092420721787697,
          20.19544293972411,
          20.295141860307737,
          20.39816407824415,
          20.497862998827777,
          20.60088521676419,
          20.703907434700604,
          20.80360635528423,
          20.906628573220644,
          21.00632749380427,
          21.109349711740684,
          21.212371929677097,
          21.305424255555153,
          21.408446473491566,
          21.508145394075193,
          21.611167612011606,
          21.710866532595233,
          21.813888750531646,
          21.91691096846806,
          22.016609889051686,
          22.1196321069881,
          22.219331027571727,
          22.32235324550814,
          22.425375463444553,
          22.5184277893226,
          22.621450007259014,
          22.72114892784264,
          22.824171145779054,
          22.92387006636268,
          23.026892284299095,
          23.129914502235508,
          23.229613422819135,
          23.332635640755548,
          23.432334561339175,
          23.53535677927559,
          23.638378997212,
          23.731431323090057,
          23.83445354102647,
          23.934152461610097,
          24.03717467954651,
          24.136873600130137,
          24.23989581806655,
          24.342918036002963,
          24.44261695658659,
          24.545639174523004,
          24.64533809510663,
          24.748360313043044,
          24.851382530979457,
          24.94775815421029,
          25.05078037214671,
          25.15047929273033
         ],
         "yaxis": "y"
        },
        {
         "hovertemplate": "Country=US<br>Month=%{x}<br>Percentage of female quotes=%{y}<extra></extra>",
         "legendgroup": "US",
         "marker": {
          "color": "rgb(135, 197, 95)",
          "symbol": "circle"
         },
         "mode": "markers",
         "name": "US",
         "orientation": "v",
         "showlegend": true,
         "type": "scatter",
         "x": [
          "2015-01-31T00:00:00",
          "2015-02-28T00:00:00",
          "2015-03-31T00:00:00",
          "2015-04-30T00:00:00",
          "2015-05-31T00:00:00",
          "2015-06-30T00:00:00",
          "2015-07-31T00:00:00",
          "2015-08-31T00:00:00",
          "2015-09-30T00:00:00",
          "2015-10-31T00:00:00",
          "2015-11-30T00:00:00",
          "2015-12-31T00:00:00",
          "2016-01-31T00:00:00",
          "2016-02-29T00:00:00",
          "2016-03-31T00:00:00",
          "2016-04-30T00:00:00",
          "2016-05-31T00:00:00",
          "2016-06-30T00:00:00",
          "2016-07-31T00:00:00",
          "2016-08-31T00:00:00",
          "2016-09-30T00:00:00",
          "2016-10-31T00:00:00",
          "2016-11-30T00:00:00",
          "2016-12-31T00:00:00",
          "2017-01-31T00:00:00",
          "2017-02-28T00:00:00",
          "2017-03-31T00:00:00",
          "2017-04-30T00:00:00",
          "2017-05-31T00:00:00",
          "2017-06-30T00:00:00",
          "2017-07-31T00:00:00",
          "2017-08-31T00:00:00",
          "2017-09-30T00:00:00",
          "2017-10-31T00:00:00",
          "2017-11-30T00:00:00",
          "2017-12-31T00:00:00",
          "2018-01-31T00:00:00",
          "2018-02-28T00:00:00",
          "2018-03-31T00:00:00",
          "2018-04-30T00:00:00",
          "2018-05-31T00:00:00",
          "2018-06-30T00:00:00",
          "2018-07-31T00:00:00",
          "2018-08-31T00:00:00",
          "2018-09-30T00:00:00",
          "2018-10-31T00:00:00",
          "2018-11-30T00:00:00",
          "2018-12-31T00:00:00",
          "2019-01-31T00:00:00",
          "2019-02-28T00:00:00",
          "2019-03-31T00:00:00",
          "2019-04-30T00:00:00",
          "2019-05-31T00:00:00",
          "2019-06-30T00:00:00",
          "2019-07-31T00:00:00",
          "2019-08-31T00:00:00",
          "2019-09-30T00:00:00",
          "2019-10-31T00:00:00",
          "2019-11-30T00:00:00",
          "2019-12-31T00:00:00",
          "2020-01-31T00:00:00",
          "2020-02-29T00:00:00",
          "2020-03-31T00:00:00",
          "2020-04-30T00:00:00"
         ],
         "xaxis": "x",
         "y": [
          16.435196545124406,
          17.499214577442665,
          16.24660018132366,
          17.329848517175165,
          16.34822389666308,
          18.35430397443579,
          18.536845310596835,
          17.16708067825899,
          17.642519036838856,
          16.862151049556374,
          16.76037620118585,
          15.003705156706335,
          16.933333333333334,
          15.334408917571135,
          20.426829268292682,
          13.42936502809896,
          15.929148923038944,
          16.847545219638242,
          17.64345517663876,
          19.492853136302973,
          15.545941061996107,
          19.555555555555557,
          15.599051008303677,
          14.42593015293312,
          16.362451108213822,
          15.650147066984848,
          16.541257166257168,
          16.003276003276003,
          16.286949098281934,
          17.846452552382495,
          16.581715649061923,
          14.83613462232741,
          15.652333028362305,
          14.154289314969844,
          15.27863942667665,
          15.730308822050096,
          20.65711566927469,
          20.93546637744035,
          18.03061457619374,
          16.53785872561206,
          18.486784341033637,
          18.97255567681177,
          18.05920627396906,
          18.351460071513706,
          18.866598517761307,
          19.21575523122912,
          20.8175760849991,
          20.05345491706627,
          21.803730063899422,
          21.827510383581725,
          21.182357301704965,
          19.372021306419963,
          20.968989250638,
          22.53750679092315,
          23.2705744306363,
          21.163490471414242,
          20.31263997133387,
          19.056471268641303,
          20.445679953369503,
          20.22932022932023,
          18.779022125102433,
          22.986597082196656,
          19.64952025586354,
          18.70235198702352
         ],
         "yaxis": "y"
        },
        {
         "hovertemplate": "<b>OLS trendline</b><br>perc_female = 2.94105e-08 * date + -26.1879<br>R<sup>2</sup>=0.382465<br><br>Country=US<br>Month=%{x}<br>Percentage of female quotes=%{y} <b>(trend)</b><extra></extra>",
         "legendgroup": "US",
         "marker": {
          "color": "rgb(135, 197, 95)",
          "symbol": "circle"
         },
         "mode": "lines",
         "name": "US",
         "showlegend": false,
         "type": "scatter",
         "x": [
          "2015-01-31T00:00:00",
          "2015-02-28T00:00:00",
          "2015-03-31T00:00:00",
          "2015-04-30T00:00:00",
          "2015-05-31T00:00:00",
          "2015-06-30T00:00:00",
          "2015-07-31T00:00:00",
          "2015-08-31T00:00:00",
          "2015-09-30T00:00:00",
          "2015-10-31T00:00:00",
          "2015-11-30T00:00:00",
          "2015-12-31T00:00:00",
          "2016-01-31T00:00:00",
          "2016-02-29T00:00:00",
          "2016-03-31T00:00:00",
          "2016-04-30T00:00:00",
          "2016-05-31T00:00:00",
          "2016-06-30T00:00:00",
          "2016-07-31T00:00:00",
          "2016-08-31T00:00:00",
          "2016-09-30T00:00:00",
          "2016-10-31T00:00:00",
          "2016-11-30T00:00:00",
          "2016-12-31T00:00:00",
          "2017-01-31T00:00:00",
          "2017-02-28T00:00:00",
          "2017-03-31T00:00:00",
          "2017-04-30T00:00:00",
          "2017-05-31T00:00:00",
          "2017-06-30T00:00:00",
          "2017-07-31T00:00:00",
          "2017-08-31T00:00:00",
          "2017-09-30T00:00:00",
          "2017-10-31T00:00:00",
          "2017-11-30T00:00:00",
          "2017-12-31T00:00:00",
          "2018-01-31T00:00:00",
          "2018-02-28T00:00:00",
          "2018-03-31T00:00:00",
          "2018-04-30T00:00:00",
          "2018-05-31T00:00:00",
          "2018-06-30T00:00:00",
          "2018-07-31T00:00:00",
          "2018-08-31T00:00:00",
          "2018-09-30T00:00:00",
          "2018-10-31T00:00:00",
          "2018-11-30T00:00:00",
          "2018-12-31T00:00:00",
          "2019-01-31T00:00:00",
          "2019-02-28T00:00:00",
          "2019-03-31T00:00:00",
          "2019-04-30T00:00:00",
          "2019-05-31T00:00:00",
          "2019-06-30T00:00:00",
          "2019-07-31T00:00:00",
          "2019-08-31T00:00:00",
          "2019-09-30T00:00:00",
          "2019-10-31T00:00:00",
          "2019-11-30T00:00:00",
          "2019-12-31T00:00:00",
          "2020-01-31T00:00:00",
          "2020-02-29T00:00:00",
          "2020-03-31T00:00:00",
          "2020-04-30T00:00:00"
         ],
         "xaxis": "x",
         "y": [
          15.65337889880627,
          15.72452883167993,
          15.803301971647205,
          15.87953404258327,
          15.958307182550538,
          16.03453925348661,
          16.113312393453878,
          16.192085533421153,
          16.268317604357218,
          16.347090744324486,
          16.42332281526056,
          16.502095955227826,
          16.580869095195094,
          16.654560097099964,
          16.73333323706723,
          16.809565308003304,
          16.888338447970572,
          16.964570518906644,
          17.043343658873912,
          17.12211679884118,
          17.198348869777252,
          17.27712200974452,
          17.353354080680592,
          17.43212722064786,
          17.51090036061513,
          17.582050293488795,
          17.660823433456063,
          17.737055504392135,
          17.815828644359403,
          17.892060715295468,
          17.970833855262743,
          18.04960699523001,
          18.125839066166083,
          18.20461220613335,
          18.280844277069416,
          18.35961741703669,
          18.43839055700396,
          18.509540489877626,
          18.588313629844894,
          18.66454570078096,
          18.743318840748234,
          18.8195509116843,
          18.898324051651574,
          18.977097191618842,
          19.053329262554907,
          19.132102402522182,
          19.208334473458248,
          19.287107613425523,
          19.36588075339279,
          19.437030686266457,
          19.515803826233725,
          19.59203589716979,
          19.670809037137065,
          19.74704110807313,
          19.8258142480404,
          19.904587388007673,
          19.98081945894374,
          20.059592598911014,
          20.13582466984708,
          20.214597809814347,
          20.29337094978162,
          20.367061951686484,
          20.44583509165376,
          20.522067162589824
         ],
         "yaxis": "y"
        },
        {
         "hovertemplate": "Country=India<br>Month=%{x}<br>Percentage of female quotes=%{y}<extra></extra>",
         "legendgroup": "India",
         "marker": {
          "color": "rgb(158, 185, 243)",
          "symbol": "circle"
         },
         "mode": "markers",
         "name": "India",
         "orientation": "v",
         "showlegend": true,
         "type": "scatter",
         "x": [
          "2015-01-31T00:00:00",
          "2015-02-28T00:00:00",
          "2015-03-31T00:00:00",
          "2015-04-30T00:00:00",
          "2015-05-31T00:00:00",
          "2015-06-30T00:00:00",
          "2015-07-31T00:00:00",
          "2015-08-31T00:00:00",
          "2015-09-30T00:00:00",
          "2015-10-31T00:00:00",
          "2015-11-30T00:00:00",
          "2015-12-31T00:00:00",
          "2016-01-31T00:00:00",
          "2016-02-29T00:00:00",
          "2016-03-31T00:00:00",
          "2016-04-30T00:00:00",
          "2016-05-31T00:00:00",
          "2016-06-30T00:00:00",
          "2016-07-31T00:00:00",
          "2016-08-31T00:00:00",
          "2016-09-30T00:00:00",
          "2016-10-31T00:00:00",
          "2016-11-30T00:00:00",
          "2016-12-31T00:00:00",
          "2017-01-31T00:00:00",
          "2017-02-28T00:00:00",
          "2017-03-31T00:00:00",
          "2017-04-30T00:00:00",
          "2017-05-31T00:00:00",
          "2017-06-30T00:00:00",
          "2017-07-31T00:00:00",
          "2017-08-31T00:00:00",
          "2017-09-30T00:00:00",
          "2017-10-31T00:00:00",
          "2017-11-30T00:00:00",
          "2017-12-31T00:00:00",
          "2018-01-31T00:00:00",
          "2018-02-28T00:00:00",
          "2018-03-31T00:00:00",
          "2018-04-30T00:00:00",
          "2018-05-31T00:00:00",
          "2018-06-30T00:00:00",
          "2018-07-31T00:00:00",
          "2018-08-31T00:00:00",
          "2018-09-30T00:00:00",
          "2018-10-31T00:00:00",
          "2018-11-30T00:00:00",
          "2018-12-31T00:00:00",
          "2019-01-31T00:00:00",
          "2019-02-28T00:00:00",
          "2019-03-31T00:00:00",
          "2019-04-30T00:00:00",
          "2019-05-31T00:00:00",
          "2019-06-30T00:00:00",
          "2019-07-31T00:00:00",
          "2019-08-31T00:00:00",
          "2019-09-30T00:00:00",
          "2019-10-31T00:00:00",
          "2019-11-30T00:00:00",
          "2019-12-31T00:00:00",
          "2020-01-31T00:00:00",
          "2020-02-29T00:00:00",
          "2020-03-31T00:00:00",
          "2020-04-30T00:00:00"
         ],
         "xaxis": "x",
         "y": [
          13.360109123976963,
          12.970512942068835,
          12.692404743880898,
          11.785416473640323,
          13.529353332671104,
          13.208333333333332,
          12.465146793505003,
          14.596688491995474,
          12.60910433731704,
          11.908144721625641,
          11.976327674817007,
          12.2724521625774,
          14.418604651162791,
          11.831183118311833,
          34.61538461538461,
          13.686487995533222,
          13.366942534094884,
          17.47787610619469,
          15.812616755280931,
          16.929605420759042,
          15.205788587598953,
          5.4945054945054945,
          14.77832512315271,
          12.774578801450204,
          16.379310344827587,
          12.872966769783456,
          14.8861900952658,
          14.906616017727128,
          14.37801874420241,
          15.034015680771226,
          16.18926812000354,
          15.103862835112993,
          15.302398331595413,
          14.685169842584923,
          14.098783009593546,
          14.05263350001825,
          16.020057306590257,
          14.042352624314042,
          15.164835164835164,
          14.441693645654796,
          13.678973907746455,
          13.077178607020262,
          13.018441577374446,
          13.7163483230561,
          15.199822050863796,
          14.149265274555297,
          12.883352970880324,
          12.296416938110749,
          14.147013370960156,
          14.256690486198684,
          14.71955481659937,
          14.012464233919964,
          15.492863140218304,
          13.3551516107409,
          14.520319623510957,
          14.303408046665867,
          13.942341090656479,
          12.853547062330264,
          12.546014323003815,
          14.21693243971959,
          13.872907104531643,
          13.998466388344552,
          15.390438479007745,
          13.987138263665594
         ],
         "yaxis": "y"
        },
        {
         "hovertemplate": "<b>OLS trendline</b><br>perc_female = -1.11163e-11 * date + 14.2505<br>R<sup>2</sup>=0.000000<br><br>Country=India<br>Month=%{x}<br>Percentage of female quotes=%{y} <b>(trend)</b><extra></extra>",
         "legendgroup": "India",
         "marker": {
          "color": "rgb(158, 185, 243)",
          "symbol": "circle"
         },
         "mode": "lines",
         "name": "India",
         "showlegend": false,
         "type": "scatter",
         "x": [
          "2015-01-31T00:00:00",
          "2015-02-28T00:00:00",
          "2015-03-31T00:00:00",
          "2015-04-30T00:00:00",
          "2015-05-31T00:00:00",
          "2015-06-30T00:00:00",
          "2015-07-31T00:00:00",
          "2015-08-31T00:00:00",
          "2015-09-30T00:00:00",
          "2015-10-31T00:00:00",
          "2015-11-30T00:00:00",
          "2015-12-31T00:00:00",
          "2016-01-31T00:00:00",
          "2016-02-29T00:00:00",
          "2016-03-31T00:00:00",
          "2016-04-30T00:00:00",
          "2016-05-31T00:00:00",
          "2016-06-30T00:00:00",
          "2016-07-31T00:00:00",
          "2016-08-31T00:00:00",
          "2016-09-30T00:00:00",
          "2016-10-31T00:00:00",
          "2016-11-30T00:00:00",
          "2016-12-31T00:00:00",
          "2017-01-31T00:00:00",
          "2017-02-28T00:00:00",
          "2017-03-31T00:00:00",
          "2017-04-30T00:00:00",
          "2017-05-31T00:00:00",
          "2017-06-30T00:00:00",
          "2017-07-31T00:00:00",
          "2017-08-31T00:00:00",
          "2017-09-30T00:00:00",
          "2017-10-31T00:00:00",
          "2017-11-30T00:00:00",
          "2017-12-31T00:00:00",
          "2018-01-31T00:00:00",
          "2018-02-28T00:00:00",
          "2018-03-31T00:00:00",
          "2018-04-30T00:00:00",
          "2018-05-31T00:00:00",
          "2018-06-30T00:00:00",
          "2018-07-31T00:00:00",
          "2018-08-31T00:00:00",
          "2018-09-30T00:00:00",
          "2018-10-31T00:00:00",
          "2018-11-30T00:00:00",
          "2018-12-31T00:00:00",
          "2019-01-31T00:00:00",
          "2019-02-28T00:00:00",
          "2019-03-31T00:00:00",
          "2019-04-30T00:00:00",
          "2019-05-31T00:00:00",
          "2019-06-30T00:00:00",
          "2019-07-31T00:00:00",
          "2019-08-31T00:00:00",
          "2019-09-30T00:00:00",
          "2019-10-31T00:00:00",
          "2019-11-30T00:00:00",
          "2019-12-31T00:00:00",
          "2020-01-31T00:00:00",
          "2020-02-29T00:00:00",
          "2020-03-31T00:00:00",
          "2020-04-30T00:00:00"
         ],
         "xaxis": "x",
         "y": [
          14.234655881748843,
          14.234628989260194,
          14.234599215433477,
          14.234570402052784,
          14.234540628226066,
          14.234511814845373,
          14.234482041018655,
          14.234452267191937,
          14.234423453811244,
          14.234393679984526,
          14.234364866603833,
          14.234335092777116,
          14.234305318950398,
          14.234277466015728,
          14.23424769218901,
          14.234218878808315,
          14.2341891049816,
          14.234160291600904,
          14.234130517774188,
          14.23410074394747,
          14.234071930566776,
          14.23404215674006,
          14.234013343359365,
          14.233983569532649,
          14.233953795705931,
          14.233926903217283,
          14.233897129390567,
          14.233868316009872,
          14.233838542183154,
          14.233809728802461,
          14.233779954975743,
          14.233750181149027,
          14.233721367768332,
          14.233691593941614,
          14.233662780560921,
          14.233633006734204,
          14.233603232907488,
          14.23357634041884,
          14.233546566592121,
          14.233517753211428,
          14.23348797938471,
          14.233459166004018,
          14.2334293921773,
          14.233399618350582,
          14.233370804969889,
          14.233341031143171,
          14.233312217762476,
          14.23328244393576,
          14.233252670109042,
          14.233225777620396,
          14.233196003793678,
          14.233167190412983,
          14.233137416586267,
          14.233108603205572,
          14.233078829378856,
          14.233049055552138,
          14.233020242171444,
          14.232990468344727,
          14.232961654964033,
          14.232931881137315,
          14.232902107310599,
          14.232874254375927,
          14.232844480549211,
          14.232815667168516
         ],
         "yaxis": "y"
        },
        {
         "hovertemplate": "Country=Nigeria<br>Month=%{x}<br>Percentage of female quotes=%{y}<extra></extra>",
         "legendgroup": "Nigeria",
         "marker": {
          "color": "rgb(254, 136, 177)",
          "symbol": "circle"
         },
         "mode": "markers",
         "name": "Nigeria",
         "orientation": "v",
         "showlegend": true,
         "type": "scatter",
         "x": [
          "2015-01-31T00:00:00",
          "2015-02-28T00:00:00",
          "2015-03-31T00:00:00",
          "2015-04-30T00:00:00",
          "2015-05-31T00:00:00",
          "2015-06-30T00:00:00",
          "2015-07-31T00:00:00",
          "2015-08-31T00:00:00",
          "2015-09-30T00:00:00",
          "2015-10-31T00:00:00",
          "2015-11-30T00:00:00",
          "2015-12-31T00:00:00",
          "2016-01-31T00:00:00",
          "2016-02-29T00:00:00",
          "2016-03-31T00:00:00",
          "2016-04-30T00:00:00",
          "2016-05-31T00:00:00",
          "2016-06-30T00:00:00",
          "2016-07-31T00:00:00",
          "2016-08-31T00:00:00",
          "2016-09-30T00:00:00",
          "2016-10-31T00:00:00",
          "2016-11-30T00:00:00",
          "2016-12-31T00:00:00",
          "2017-01-31T00:00:00",
          "2017-02-28T00:00:00",
          "2017-03-31T00:00:00",
          "2017-04-30T00:00:00",
          "2017-05-31T00:00:00",
          "2017-06-30T00:00:00",
          "2017-07-31T00:00:00",
          "2017-08-31T00:00:00",
          "2017-09-30T00:00:00",
          "2017-10-31T00:00:00",
          "2017-11-30T00:00:00",
          "2017-12-31T00:00:00",
          "2018-01-31T00:00:00",
          "2018-02-28T00:00:00",
          "2018-03-31T00:00:00",
          "2018-04-30T00:00:00",
          "2018-05-31T00:00:00",
          "2018-06-30T00:00:00",
          "2018-07-31T00:00:00",
          "2018-08-31T00:00:00",
          "2018-09-30T00:00:00",
          "2018-10-31T00:00:00",
          "2018-11-30T00:00:00",
          "2018-12-31T00:00:00",
          "2019-01-31T00:00:00",
          "2019-02-28T00:00:00",
          "2019-03-31T00:00:00",
          "2019-04-30T00:00:00",
          "2019-05-31T00:00:00",
          "2019-06-30T00:00:00",
          "2019-07-31T00:00:00",
          "2019-08-31T00:00:00",
          "2019-09-30T00:00:00",
          "2019-10-31T00:00:00",
          "2019-11-30T00:00:00",
          "2019-12-31T00:00:00",
          "2020-01-31T00:00:00",
          "2020-02-29T00:00:00",
          "2020-03-31T00:00:00",
          "2020-04-30T00:00:00"
         ],
         "xaxis": "x",
         "y": [
          9.182530795072788,
          7.191780821917808,
          7.961783439490445,
          10.082150858849888,
          10.550458715596331,
          10.060711188204683,
          6.174698795180722,
          8.866155157715259,
          8.899117759877253,
          7.685393258426966,
          7.990012484394507,
          7.1333628710677885,
          7.920792079207921,
          9.34761441090555,
          0,
          8.934426229508198,
          9.5594586812554,
          8.98876404494382,
          13.404360753221011,
          9.565002471576866,
          10.81447963800905,
          20,
          11.267605633802818,
          9.99356637357924,
          10.44776119402985,
          9.090909090909092,
          9.155722326454034,
          9.557202965337607,
          10.81625797783003,
          12.015974995658969,
          10.56538218572331,
          9.024517475221701,
          9.645979647412927,
          9.487246225923998,
          9.057398630858346,
          7.518387360392263,
          11.160714285714286,
          9.52774108322325,
          9.995908904950225,
          8.177865058212932,
          7.537823001740527,
          6.802349405818878,
          8.082302313071544,
          10.939526111045621,
          9.591236975687952,
          8.442259263700684,
          9.273089370176749,
          8.538667967797025,
          8.770933863184787,
          7.065435568044961,
          7.765511990864103,
          8.41766329346826,
          9.154694286668894,
          8.8715953307393,
          9.347258485639687,
          8.8991986503585,
          10.96319498825372,
          11.460405889375249,
          7.167680278019113,
          8.589211618257261,
          8.764317945157932,
          8.823529411764707,
          8.948769128409847,
          11.41094834232845
         ],
         "yaxis": "y"
        },
        {
         "hovertemplate": "<b>OLS trendline</b><br>perc_female = 1.38658e-09 * date + 7.13838<br>R<sup>2</sup>=0.000915<br><br>Country=Nigeria<br>Month=%{x}<br>Percentage of female quotes=%{y} <b>(trend)</b><extra></extra>",
         "legendgroup": "Nigeria",
         "marker": {
          "color": "rgb(254, 136, 177)",
          "symbol": "circle"
         },
         "mode": "lines",
         "name": "Nigeria",
         "showlegend": false,
         "type": "scatter",
         "x": [
          "2015-01-31T00:00:00",
          "2015-02-28T00:00:00",
          "2015-03-31T00:00:00",
          "2015-04-30T00:00:00",
          "2015-05-31T00:00:00",
          "2015-06-30T00:00:00",
          "2015-07-31T00:00:00",
          "2015-08-31T00:00:00",
          "2015-09-30T00:00:00",
          "2015-10-31T00:00:00",
          "2015-11-30T00:00:00",
          "2015-12-31T00:00:00",
          "2016-01-31T00:00:00",
          "2016-02-29T00:00:00",
          "2016-03-31T00:00:00",
          "2016-04-30T00:00:00",
          "2016-05-31T00:00:00",
          "2016-06-30T00:00:00",
          "2016-07-31T00:00:00",
          "2016-08-31T00:00:00",
          "2016-09-30T00:00:00",
          "2016-10-31T00:00:00",
          "2016-11-30T00:00:00",
          "2016-12-31T00:00:00",
          "2017-01-31T00:00:00",
          "2017-02-28T00:00:00",
          "2017-03-31T00:00:00",
          "2017-04-30T00:00:00",
          "2017-05-31T00:00:00",
          "2017-06-30T00:00:00",
          "2017-07-31T00:00:00",
          "2017-08-31T00:00:00",
          "2017-09-30T00:00:00",
          "2017-10-31T00:00:00",
          "2017-11-30T00:00:00",
          "2017-12-31T00:00:00",
          "2018-01-31T00:00:00",
          "2018-02-28T00:00:00",
          "2018-03-31T00:00:00",
          "2018-04-30T00:00:00",
          "2018-05-31T00:00:00",
          "2018-06-30T00:00:00",
          "2018-07-31T00:00:00",
          "2018-08-31T00:00:00",
          "2018-09-30T00:00:00",
          "2018-10-31T00:00:00",
          "2018-11-30T00:00:00",
          "2018-12-31T00:00:00",
          "2019-01-31T00:00:00",
          "2019-02-28T00:00:00",
          "2019-03-31T00:00:00",
          "2019-04-30T00:00:00",
          "2019-05-31T00:00:00",
          "2019-06-30T00:00:00",
          "2019-07-31T00:00:00",
          "2019-08-31T00:00:00",
          "2019-09-30T00:00:00",
          "2019-10-31T00:00:00",
          "2019-11-30T00:00:00",
          "2019-12-31T00:00:00",
          "2020-01-31T00:00:00",
          "2020-02-29T00:00:00",
          "2020-03-31T00:00:00",
          "2020-04-30T00:00:00"
         ],
         "xaxis": "x",
         "y": [
          9.111013199310555,
          9.114367604607349,
          9.118081410471655,
          9.121675416146791,
          9.125389222011098,
          9.128983227686234,
          9.13269703355054,
          9.136410839414847,
          9.140004845089981,
          9.143718650954288,
          9.147312656629424,
          9.15102646249373,
          9.154740268358037,
          9.158214473844001,
          9.161928279708308,
          9.165522285383442,
          9.16923609124775,
          9.172830096922885,
          9.176543902787191,
          9.1802577086515,
          9.183851714326634,
          9.18756552019094,
          9.191159525866077,
          9.194873331730383,
          9.19858713759469,
          9.201941542891483,
          9.205655348755789,
          9.209249354430924,
          9.212963160295232,
          9.216557165970366,
          9.220270971834672,
          9.22398477769898,
          9.227578783374115,
          9.231292589238421,
          9.234886594913558,
          9.238600400777864,
          9.24231420664217,
          9.245668611938964,
          9.24938241780327,
          9.252976423478405,
          9.256690229342713,
          9.260284235017847,
          9.263998040882154,
          9.26771184674646,
          9.271305852421596,
          9.275019658285903,
          9.278613663961037,
          9.282327469825344,
          9.286041275689652,
          9.289395680986445,
          9.293109486850751,
          9.296703492525886,
          9.300417298390194,
          9.304011304065329,
          9.307725109929635,
          9.311438915793941,
          9.315032921469077,
          9.318746727333384,
          9.322340733008518,
          9.326054538872825,
          9.329768344737133,
          9.333242550223096,
          9.336956356087402,
          9.340550361762539
         ],
         "yaxis": "y"
        }
       ],
       "layout": {
        "barmode": "stack",
        "legend": {
         "title": {
          "text": "Country"
         },
         "tracegroupgap": 0
        },
        "margin": {
         "t": 60
        },
        "template": {
         "data": {
          "bar": [
           {
            "error_x": {
             "color": "#2a3f5f"
            },
            "error_y": {
             "color": "#2a3f5f"
            },
            "marker": {
             "line": {
              "color": "#E5ECF6",
              "width": 0.5
             },
             "pattern": {
              "fillmode": "overlay",
              "size": 10,
              "solidity": 0.2
             }
            },
            "type": "bar"
           }
          ],
          "barpolar": [
           {
            "marker": {
             "line": {
              "color": "#E5ECF6",
              "width": 0.5
             },
             "pattern": {
              "fillmode": "overlay",
              "size": 10,
              "solidity": 0.2
             }
            },
            "type": "barpolar"
           }
          ],
          "carpet": [
           {
            "aaxis": {
             "endlinecolor": "#2a3f5f",
             "gridcolor": "white",
             "linecolor": "white",
             "minorgridcolor": "white",
             "startlinecolor": "#2a3f5f"
            },
            "baxis": {
             "endlinecolor": "#2a3f5f",
             "gridcolor": "white",
             "linecolor": "white",
             "minorgridcolor": "white",
             "startlinecolor": "#2a3f5f"
            },
            "type": "carpet"
           }
          ],
          "choropleth": [
           {
            "colorbar": {
             "outlinewidth": 0,
             "ticks": ""
            },
            "type": "choropleth"
           }
          ],
          "contour": [
           {
            "colorbar": {
             "outlinewidth": 0,
             "ticks": ""
            },
            "colorscale": [
             [
              0,
              "#0d0887"
             ],
             [
              0.1111111111111111,
              "#46039f"
             ],
             [
              0.2222222222222222,
              "#7201a8"
             ],
             [
              0.3333333333333333,
              "#9c179e"
             ],
             [
              0.4444444444444444,
              "#bd3786"
             ],
             [
              0.5555555555555556,
              "#d8576b"
             ],
             [
              0.6666666666666666,
              "#ed7953"
             ],
             [
              0.7777777777777778,
              "#fb9f3a"
             ],
             [
              0.8888888888888888,
              "#fdca26"
             ],
             [
              1,
              "#f0f921"
             ]
            ],
            "type": "contour"
           }
          ],
          "contourcarpet": [
           {
            "colorbar": {
             "outlinewidth": 0,
             "ticks": ""
            },
            "type": "contourcarpet"
           }
          ],
          "heatmap": [
           {
            "colorbar": {
             "outlinewidth": 0,
             "ticks": ""
            },
            "colorscale": [
             [
              0,
              "#0d0887"
             ],
             [
              0.1111111111111111,
              "#46039f"
             ],
             [
              0.2222222222222222,
              "#7201a8"
             ],
             [
              0.3333333333333333,
              "#9c179e"
             ],
             [
              0.4444444444444444,
              "#bd3786"
             ],
             [
              0.5555555555555556,
              "#d8576b"
             ],
             [
              0.6666666666666666,
              "#ed7953"
             ],
             [
              0.7777777777777778,
              "#fb9f3a"
             ],
             [
              0.8888888888888888,
              "#fdca26"
             ],
             [
              1,
              "#f0f921"
             ]
            ],
            "type": "heatmap"
           }
          ],
          "heatmapgl": [
           {
            "colorbar": {
             "outlinewidth": 0,
             "ticks": ""
            },
            "colorscale": [
             [
              0,
              "#0d0887"
             ],
             [
              0.1111111111111111,
              "#46039f"
             ],
             [
              0.2222222222222222,
              "#7201a8"
             ],
             [
              0.3333333333333333,
              "#9c179e"
             ],
             [
              0.4444444444444444,
              "#bd3786"
             ],
             [
              0.5555555555555556,
              "#d8576b"
             ],
             [
              0.6666666666666666,
              "#ed7953"
             ],
             [
              0.7777777777777778,
              "#fb9f3a"
             ],
             [
              0.8888888888888888,
              "#fdca26"
             ],
             [
              1,
              "#f0f921"
             ]
            ],
            "type": "heatmapgl"
           }
          ],
          "histogram": [
           {
            "marker": {
             "pattern": {
              "fillmode": "overlay",
              "size": 10,
              "solidity": 0.2
             }
            },
            "type": "histogram"
           }
          ],
          "histogram2d": [
           {
            "colorbar": {
             "outlinewidth": 0,
             "ticks": ""
            },
            "colorscale": [
             [
              0,
              "#0d0887"
             ],
             [
              0.1111111111111111,
              "#46039f"
             ],
             [
              0.2222222222222222,
              "#7201a8"
             ],
             [
              0.3333333333333333,
              "#9c179e"
             ],
             [
              0.4444444444444444,
              "#bd3786"
             ],
             [
              0.5555555555555556,
              "#d8576b"
             ],
             [
              0.6666666666666666,
              "#ed7953"
             ],
             [
              0.7777777777777778,
              "#fb9f3a"
             ],
             [
              0.8888888888888888,
              "#fdca26"
             ],
             [
              1,
              "#f0f921"
             ]
            ],
            "type": "histogram2d"
           }
          ],
          "histogram2dcontour": [
           {
            "colorbar": {
             "outlinewidth": 0,
             "ticks": ""
            },
            "colorscale": [
             [
              0,
              "#0d0887"
             ],
             [
              0.1111111111111111,
              "#46039f"
             ],
             [
              0.2222222222222222,
              "#7201a8"
             ],
             [
              0.3333333333333333,
              "#9c179e"
             ],
             [
              0.4444444444444444,
              "#bd3786"
             ],
             [
              0.5555555555555556,
              "#d8576b"
             ],
             [
              0.6666666666666666,
              "#ed7953"
             ],
             [
              0.7777777777777778,
              "#fb9f3a"
             ],
             [
              0.8888888888888888,
              "#fdca26"
             ],
             [
              1,
              "#f0f921"
             ]
            ],
            "type": "histogram2dcontour"
           }
          ],
          "mesh3d": [
           {
            "colorbar": {
             "outlinewidth": 0,
             "ticks": ""
            },
            "type": "mesh3d"
           }
          ],
          "parcoords": [
           {
            "line": {
             "colorbar": {
              "outlinewidth": 0,
              "ticks": ""
             }
            },
            "type": "parcoords"
           }
          ],
          "pie": [
           {
            "automargin": true,
            "type": "pie"
           }
          ],
          "scatter": [
           {
            "marker": {
             "colorbar": {
              "outlinewidth": 0,
              "ticks": ""
             }
            },
            "type": "scatter"
           }
          ],
          "scatter3d": [
           {
            "line": {
             "colorbar": {
              "outlinewidth": 0,
              "ticks": ""
             }
            },
            "marker": {
             "colorbar": {
              "outlinewidth": 0,
              "ticks": ""
             }
            },
            "type": "scatter3d"
           }
          ],
          "scattercarpet": [
           {
            "marker": {
             "colorbar": {
              "outlinewidth": 0,
              "ticks": ""
             }
            },
            "type": "scattercarpet"
           }
          ],
          "scattergeo": [
           {
            "marker": {
             "colorbar": {
              "outlinewidth": 0,
              "ticks": ""
             }
            },
            "type": "scattergeo"
           }
          ],
          "scattergl": [
           {
            "marker": {
             "colorbar": {
              "outlinewidth": 0,
              "ticks": ""
             }
            },
            "type": "scattergl"
           }
          ],
          "scattermapbox": [
           {
            "marker": {
             "colorbar": {
              "outlinewidth": 0,
              "ticks": ""
             }
            },
            "type": "scattermapbox"
           }
          ],
          "scatterpolar": [
           {
            "marker": {
             "colorbar": {
              "outlinewidth": 0,
              "ticks": ""
             }
            },
            "type": "scatterpolar"
           }
          ],
          "scatterpolargl": [
           {
            "marker": {
             "colorbar": {
              "outlinewidth": 0,
              "ticks": ""
             }
            },
            "type": "scatterpolargl"
           }
          ],
          "scatterternary": [
           {
            "marker": {
             "colorbar": {
              "outlinewidth": 0,
              "ticks": ""
             }
            },
            "type": "scatterternary"
           }
          ],
          "surface": [
           {
            "colorbar": {
             "outlinewidth": 0,
             "ticks": ""
            },
            "colorscale": [
             [
              0,
              "#0d0887"
             ],
             [
              0.1111111111111111,
              "#46039f"
             ],
             [
              0.2222222222222222,
              "#7201a8"
             ],
             [
              0.3333333333333333,
              "#9c179e"
             ],
             [
              0.4444444444444444,
              "#bd3786"
             ],
             [
              0.5555555555555556,
              "#d8576b"
             ],
             [
              0.6666666666666666,
              "#ed7953"
             ],
             [
              0.7777777777777778,
              "#fb9f3a"
             ],
             [
              0.8888888888888888,
              "#fdca26"
             ],
             [
              1,
              "#f0f921"
             ]
            ],
            "type": "surface"
           }
          ],
          "table": [
           {
            "cells": {
             "fill": {
              "color": "#EBF0F8"
             },
             "line": {
              "color": "white"
             }
            },
            "header": {
             "fill": {
              "color": "#C8D4E3"
             },
             "line": {
              "color": "white"
             }
            },
            "type": "table"
           }
          ]
         },
         "layout": {
          "annotationdefaults": {
           "arrowcolor": "#2a3f5f",
           "arrowhead": 0,
           "arrowwidth": 1
          },
          "autotypenumbers": "strict",
          "coloraxis": {
           "colorbar": {
            "outlinewidth": 0,
            "ticks": ""
           }
          },
          "colorscale": {
           "diverging": [
            [
             0,
             "#8e0152"
            ],
            [
             0.1,
             "#c51b7d"
            ],
            [
             0.2,
             "#de77ae"
            ],
            [
             0.3,
             "#f1b6da"
            ],
            [
             0.4,
             "#fde0ef"
            ],
            [
             0.5,
             "#f7f7f7"
            ],
            [
             0.6,
             "#e6f5d0"
            ],
            [
             0.7,
             "#b8e186"
            ],
            [
             0.8,
             "#7fbc41"
            ],
            [
             0.9,
             "#4d9221"
            ],
            [
             1,
             "#276419"
            ]
           ],
           "sequential": [
            [
             0,
             "#0d0887"
            ],
            [
             0.1111111111111111,
             "#46039f"
            ],
            [
             0.2222222222222222,
             "#7201a8"
            ],
            [
             0.3333333333333333,
             "#9c179e"
            ],
            [
             0.4444444444444444,
             "#bd3786"
            ],
            [
             0.5555555555555556,
             "#d8576b"
            ],
            [
             0.6666666666666666,
             "#ed7953"
            ],
            [
             0.7777777777777778,
             "#fb9f3a"
            ],
            [
             0.8888888888888888,
             "#fdca26"
            ],
            [
             1,
             "#f0f921"
            ]
           ],
           "sequentialminus": [
            [
             0,
             "#0d0887"
            ],
            [
             0.1111111111111111,
             "#46039f"
            ],
            [
             0.2222222222222222,
             "#7201a8"
            ],
            [
             0.3333333333333333,
             "#9c179e"
            ],
            [
             0.4444444444444444,
             "#bd3786"
            ],
            [
             0.5555555555555556,
             "#d8576b"
            ],
            [
             0.6666666666666666,
             "#ed7953"
            ],
            [
             0.7777777777777778,
             "#fb9f3a"
            ],
            [
             0.8888888888888888,
             "#fdca26"
            ],
            [
             1,
             "#f0f921"
            ]
           ]
          },
          "colorway": [
           "#636efa",
           "#EF553B",
           "#00cc96",
           "#ab63fa",
           "#FFA15A",
           "#19d3f3",
           "#FF6692",
           "#B6E880",
           "#FF97FF",
           "#FECB52"
          ],
          "font": {
           "color": "#2a3f5f"
          },
          "geo": {
           "bgcolor": "white",
           "lakecolor": "white",
           "landcolor": "#E5ECF6",
           "showlakes": true,
           "showland": true,
           "subunitcolor": "white"
          },
          "hoverlabel": {
           "align": "left"
          },
          "hovermode": "closest",
          "mapbox": {
           "style": "light"
          },
          "paper_bgcolor": "white",
          "plot_bgcolor": "#E5ECF6",
          "polar": {
           "angularaxis": {
            "gridcolor": "white",
            "linecolor": "white",
            "ticks": ""
           },
           "bgcolor": "#E5ECF6",
           "radialaxis": {
            "gridcolor": "white",
            "linecolor": "white",
            "ticks": ""
           }
          },
          "scene": {
           "xaxis": {
            "backgroundcolor": "#E5ECF6",
            "gridcolor": "white",
            "gridwidth": 2,
            "linecolor": "white",
            "showbackground": true,
            "ticks": "",
            "zerolinecolor": "white"
           },
           "yaxis": {
            "backgroundcolor": "#E5ECF6",
            "gridcolor": "white",
            "gridwidth": 2,
            "linecolor": "white",
            "showbackground": true,
            "ticks": "",
            "zerolinecolor": "white"
           },
           "zaxis": {
            "backgroundcolor": "#E5ECF6",
            "gridcolor": "white",
            "gridwidth": 2,
            "linecolor": "white",
            "showbackground": true,
            "ticks": "",
            "zerolinecolor": "white"
           }
          },
          "shapedefaults": {
           "line": {
            "color": "#2a3f5f"
           }
          },
          "ternary": {
           "aaxis": {
            "gridcolor": "white",
            "linecolor": "white",
            "ticks": ""
           },
           "baxis": {
            "gridcolor": "white",
            "linecolor": "white",
            "ticks": ""
           },
           "bgcolor": "#E5ECF6",
           "caxis": {
            "gridcolor": "white",
            "linecolor": "white",
            "ticks": ""
           }
          },
          "title": {
           "x": 0.05
          },
          "xaxis": {
           "automargin": true,
           "gridcolor": "white",
           "linecolor": "white",
           "ticks": "",
           "title": {
            "standoff": 15
           },
           "zerolinecolor": "white",
           "zerolinewidth": 2
          },
          "yaxis": {
           "automargin": true,
           "gridcolor": "white",
           "linecolor": "white",
           "ticks": "",
           "title": {
            "standoff": 15
           },
           "zerolinecolor": "white",
           "zerolinewidth": 2
          }
         }
        },
        "title": {
         "text": "Percentage avagerage of selected countries newspapers, 2015-2020"
        },
        "xaxis": {
         "anchor": "y",
         "domain": [
          0,
          1
         ],
         "title": {
          "text": "Month"
         }
        },
        "yaxis": {
         "anchor": "x",
         "domain": [
          0,
          1
         ],
         "title": {
          "text": "Percentage of female quotes"
         }
        }
       }
      },
      "text/html": [
       "<div>                            <div id=\"340441aa-29ff-4d0f-a3f7-f613be85db39\" class=\"plotly-graph-div\" style=\"height:525px; width:100%;\"></div>            <script type=\"text/javascript\">                require([\"plotly\"], function(Plotly) {                    window.PLOTLYENV=window.PLOTLYENV || {};                                    if (document.getElementById(\"340441aa-29ff-4d0f-a3f7-f613be85db39\")) {                    Plotly.newPlot(                        \"340441aa-29ff-4d0f-a3f7-f613be85db39\",                        [{\"hovertemplate\":\"Country=UK<br>Month=%{x}<br>Percentage of female quotes=%{y}<extra></extra>\",\"legendgroup\":\"UK\",\"marker\":{\"color\":\"rgb(220, 176, 242)\",\"symbol\":\"circle\"},\"mode\":\"markers\",\"name\":\"UK\",\"orientation\":\"v\",\"showlegend\":true,\"type\":\"scatter\",\"x\":[\"2015-01-31T00:00:00\",\"2015-02-28T00:00:00\",\"2015-03-31T00:00:00\",\"2015-04-30T00:00:00\",\"2015-05-31T00:00:00\",\"2015-06-30T00:00:00\",\"2015-07-31T00:00:00\",\"2015-08-31T00:00:00\",\"2015-09-30T00:00:00\",\"2015-10-31T00:00:00\",\"2015-11-30T00:00:00\",\"2015-12-31T00:00:00\",\"2016-01-31T00:00:00\",\"2016-02-29T00:00:00\",\"2016-03-31T00:00:00\",\"2016-04-30T00:00:00\",\"2016-05-31T00:00:00\",\"2016-06-30T00:00:00\",\"2016-07-31T00:00:00\",\"2016-08-31T00:00:00\",\"2016-09-30T00:00:00\",\"2016-10-31T00:00:00\",\"2016-11-30T00:00:00\",\"2016-12-31T00:00:00\",\"2017-01-31T00:00:00\",\"2017-02-28T00:00:00\",\"2017-03-31T00:00:00\",\"2017-04-30T00:00:00\",\"2017-05-31T00:00:00\",\"2017-06-30T00:00:00\",\"2017-07-31T00:00:00\",\"2017-08-31T00:00:00\",\"2017-09-30T00:00:00\",\"2017-10-31T00:00:00\",\"2017-11-30T00:00:00\",\"2017-12-31T00:00:00\",\"2018-01-31T00:00:00\",\"2018-02-28T00:00:00\",\"2018-03-31T00:00:00\",\"2018-04-30T00:00:00\",\"2018-05-31T00:00:00\",\"2018-06-30T00:00:00\",\"2018-07-31T00:00:00\",\"2018-08-31T00:00:00\",\"2018-09-30T00:00:00\",\"2018-10-31T00:00:00\",\"2018-11-30T00:00:00\",\"2018-12-31T00:00:00\",\"2019-01-31T00:00:00\",\"2019-02-28T00:00:00\",\"2019-03-31T00:00:00\",\"2019-04-30T00:00:00\",\"2019-05-31T00:00:00\",\"2019-06-30T00:00:00\",\"2019-07-31T00:00:00\",\"2019-08-31T00:00:00\",\"2019-09-30T00:00:00\",\"2019-10-31T00:00:00\",\"2019-11-30T00:00:00\",\"2019-12-31T00:00:00\",\"2020-01-31T00:00:00\",\"2020-02-29T00:00:00\",\"2020-03-31T00:00:00\",\"2020-04-30T00:00:00\"],\"xaxis\":\"x\",\"y\":[18.206169918299924,18.15598775357371,17.37659634092638,18.280104092737165,17.870711965200154,20.364083352844766,18.998032786885247,18.771646271069038,19.061142409775417,18.501733682097452,18.50524493124207,18.940384035387552,16.40023682652457,18.380321665089877,19.295774647887324,19.291127953633527,19.85153681060114,21.830550401978975,24.16238457308633,23.666820347318275,22.633102754806607,18.367346938775512,19.292989814260036,22.013545734130414,24.294871794871796,25.72697382467227,23.300046784003097,20.503806926557054,23.45455173366487,23.868081856579543,22.624317006339478,23.260239098198234,23.00868859569348,23.010770528295104,21.040316497590865,20.022377951828517,22.62703595286347,23.700254960647378,22.951606527754247,23.221645430234386,22.870418172431595,22.851354699546732,23.42747987447128,23.35350994418678,23.162821965217177,23.767772838010817,23.445753092090154,23.28999434708875,25.008193469373673,25.844396916992856,24.429917205013954,25.397739543589378,24.600247509587934,24.699255569079227,24.734120401990438,22.64565631193705,23.790123630827352,23.1307064834616,23.318641637681544,24.518187199894758,24.257906866964706,23.51686237028946,23.054900639946112,21.83381624450883],\"yaxis\":\"y\"},{\"hovertemplate\":\"<b>OLS trendline</b><br>perc_female = 3.84641e-08 * date + -35.9384<br>R<sup>2</sup>=0.589316<br><br>Country=UK<br>Month=%{x}<br>Percentage of female quotes=%{y} <b>(trend)</b><extra></extra>\",\"legendgroup\":\"UK\",\"marker\":{\"color\":\"rgb(220, 176, 242)\",\"symbol\":\"circle\"},\"mode\":\"lines\",\"name\":\"UK\",\"showlegend\":false,\"type\":\"scatter\",\"x\":[\"2015-01-31T00:00:00\",\"2015-02-28T00:00:00\",\"2015-03-31T00:00:00\",\"2015-04-30T00:00:00\",\"2015-05-31T00:00:00\",\"2015-06-30T00:00:00\",\"2015-07-31T00:00:00\",\"2015-08-31T00:00:00\",\"2015-09-30T00:00:00\",\"2015-10-31T00:00:00\",\"2015-11-30T00:00:00\",\"2015-12-31T00:00:00\",\"2016-01-31T00:00:00\",\"2016-02-29T00:00:00\",\"2016-03-31T00:00:00\",\"2016-04-30T00:00:00\",\"2016-05-31T00:00:00\",\"2016-06-30T00:00:00\",\"2016-07-31T00:00:00\",\"2016-08-31T00:00:00\",\"2016-09-30T00:00:00\",\"2016-10-31T00:00:00\",\"2016-11-30T00:00:00\",\"2016-12-31T00:00:00\",\"2017-01-31T00:00:00\",\"2017-02-28T00:00:00\",\"2017-03-31T00:00:00\",\"2017-04-30T00:00:00\",\"2017-05-31T00:00:00\",\"2017-06-30T00:00:00\",\"2017-07-31T00:00:00\",\"2017-08-31T00:00:00\",\"2017-09-30T00:00:00\",\"2017-10-31T00:00:00\",\"2017-11-30T00:00:00\",\"2017-12-31T00:00:00\",\"2018-01-31T00:00:00\",\"2018-02-28T00:00:00\",\"2018-03-31T00:00:00\",\"2018-04-30T00:00:00\",\"2018-05-31T00:00:00\",\"2018-06-30T00:00:00\",\"2018-07-31T00:00:00\",\"2018-08-31T00:00:00\",\"2018-09-30T00:00:00\",\"2018-10-31T00:00:00\",\"2018-11-30T00:00:00\",\"2018-12-31T00:00:00\",\"2019-01-31T00:00:00\",\"2019-02-28T00:00:00\",\"2019-03-31T00:00:00\",\"2019-04-30T00:00:00\",\"2019-05-31T00:00:00\",\"2019-06-30T00:00:00\",\"2019-07-31T00:00:00\",\"2019-08-31T00:00:00\",\"2019-09-30T00:00:00\",\"2019-10-31T00:00:00\",\"2019-11-30T00:00:00\",\"2019-12-31T00:00:00\",\"2020-01-31T00:00:00\",\"2020-02-29T00:00:00\",\"2020-03-31T00:00:00\",\"2020-04-30T00:00:00\"],\"xaxis\":\"x\",\"y\":[18.783041564789407,18.876093890667455,18.97911610860387,19.078815029187496,19.18183724712391,19.281536167707536,19.38455838564395,19.487580603580362,19.58727952416399,19.690301742100402,19.79000066268403,19.893022880620443,19.996045098556856,20.092420721787697,20.19544293972411,20.295141860307737,20.39816407824415,20.497862998827777,20.60088521676419,20.703907434700604,20.80360635528423,20.906628573220644,21.00632749380427,21.109349711740684,21.212371929677097,21.305424255555153,21.408446473491566,21.508145394075193,21.611167612011606,21.710866532595233,21.813888750531646,21.91691096846806,22.016609889051686,22.1196321069881,22.219331027571727,22.32235324550814,22.425375463444553,22.5184277893226,22.621450007259014,22.72114892784264,22.824171145779054,22.92387006636268,23.026892284299095,23.129914502235508,23.229613422819135,23.332635640755548,23.432334561339175,23.53535677927559,23.638378997212,23.731431323090057,23.83445354102647,23.934152461610097,24.03717467954651,24.136873600130137,24.23989581806655,24.342918036002963,24.44261695658659,24.545639174523004,24.64533809510663,24.748360313043044,24.851382530979457,24.94775815421029,25.05078037214671,25.15047929273033],\"yaxis\":\"y\"},{\"hovertemplate\":\"Country=US<br>Month=%{x}<br>Percentage of female quotes=%{y}<extra></extra>\",\"legendgroup\":\"US\",\"marker\":{\"color\":\"rgb(135, 197, 95)\",\"symbol\":\"circle\"},\"mode\":\"markers\",\"name\":\"US\",\"orientation\":\"v\",\"showlegend\":true,\"type\":\"scatter\",\"x\":[\"2015-01-31T00:00:00\",\"2015-02-28T00:00:00\",\"2015-03-31T00:00:00\",\"2015-04-30T00:00:00\",\"2015-05-31T00:00:00\",\"2015-06-30T00:00:00\",\"2015-07-31T00:00:00\",\"2015-08-31T00:00:00\",\"2015-09-30T00:00:00\",\"2015-10-31T00:00:00\",\"2015-11-30T00:00:00\",\"2015-12-31T00:00:00\",\"2016-01-31T00:00:00\",\"2016-02-29T00:00:00\",\"2016-03-31T00:00:00\",\"2016-04-30T00:00:00\",\"2016-05-31T00:00:00\",\"2016-06-30T00:00:00\",\"2016-07-31T00:00:00\",\"2016-08-31T00:00:00\",\"2016-09-30T00:00:00\",\"2016-10-31T00:00:00\",\"2016-11-30T00:00:00\",\"2016-12-31T00:00:00\",\"2017-01-31T00:00:00\",\"2017-02-28T00:00:00\",\"2017-03-31T00:00:00\",\"2017-04-30T00:00:00\",\"2017-05-31T00:00:00\",\"2017-06-30T00:00:00\",\"2017-07-31T00:00:00\",\"2017-08-31T00:00:00\",\"2017-09-30T00:00:00\",\"2017-10-31T00:00:00\",\"2017-11-30T00:00:00\",\"2017-12-31T00:00:00\",\"2018-01-31T00:00:00\",\"2018-02-28T00:00:00\",\"2018-03-31T00:00:00\",\"2018-04-30T00:00:00\",\"2018-05-31T00:00:00\",\"2018-06-30T00:00:00\",\"2018-07-31T00:00:00\",\"2018-08-31T00:00:00\",\"2018-09-30T00:00:00\",\"2018-10-31T00:00:00\",\"2018-11-30T00:00:00\",\"2018-12-31T00:00:00\",\"2019-01-31T00:00:00\",\"2019-02-28T00:00:00\",\"2019-03-31T00:00:00\",\"2019-04-30T00:00:00\",\"2019-05-31T00:00:00\",\"2019-06-30T00:00:00\",\"2019-07-31T00:00:00\",\"2019-08-31T00:00:00\",\"2019-09-30T00:00:00\",\"2019-10-31T00:00:00\",\"2019-11-30T00:00:00\",\"2019-12-31T00:00:00\",\"2020-01-31T00:00:00\",\"2020-02-29T00:00:00\",\"2020-03-31T00:00:00\",\"2020-04-30T00:00:00\"],\"xaxis\":\"x\",\"y\":[16.435196545124406,17.499214577442665,16.24660018132366,17.329848517175165,16.34822389666308,18.35430397443579,18.536845310596835,17.16708067825899,17.642519036838856,16.862151049556374,16.76037620118585,15.003705156706335,16.933333333333334,15.334408917571135,20.426829268292682,13.42936502809896,15.929148923038944,16.847545219638242,17.64345517663876,19.492853136302973,15.545941061996107,19.555555555555557,15.599051008303677,14.42593015293312,16.362451108213822,15.650147066984848,16.541257166257168,16.003276003276003,16.286949098281934,17.846452552382495,16.581715649061923,14.83613462232741,15.652333028362305,14.154289314969844,15.27863942667665,15.730308822050096,20.65711566927469,20.93546637744035,18.03061457619374,16.53785872561206,18.486784341033637,18.97255567681177,18.05920627396906,18.351460071513706,18.866598517761307,19.21575523122912,20.8175760849991,20.05345491706627,21.803730063899422,21.827510383581725,21.182357301704965,19.372021306419963,20.968989250638,22.53750679092315,23.2705744306363,21.163490471414242,20.31263997133387,19.056471268641303,20.445679953369503,20.22932022932023,18.779022125102433,22.986597082196656,19.64952025586354,18.70235198702352],\"yaxis\":\"y\"},{\"hovertemplate\":\"<b>OLS trendline</b><br>perc_female = 2.94105e-08 * date + -26.1879<br>R<sup>2</sup>=0.382465<br><br>Country=US<br>Month=%{x}<br>Percentage of female quotes=%{y} <b>(trend)</b><extra></extra>\",\"legendgroup\":\"US\",\"marker\":{\"color\":\"rgb(135, 197, 95)\",\"symbol\":\"circle\"},\"mode\":\"lines\",\"name\":\"US\",\"showlegend\":false,\"type\":\"scatter\",\"x\":[\"2015-01-31T00:00:00\",\"2015-02-28T00:00:00\",\"2015-03-31T00:00:00\",\"2015-04-30T00:00:00\",\"2015-05-31T00:00:00\",\"2015-06-30T00:00:00\",\"2015-07-31T00:00:00\",\"2015-08-31T00:00:00\",\"2015-09-30T00:00:00\",\"2015-10-31T00:00:00\",\"2015-11-30T00:00:00\",\"2015-12-31T00:00:00\",\"2016-01-31T00:00:00\",\"2016-02-29T00:00:00\",\"2016-03-31T00:00:00\",\"2016-04-30T00:00:00\",\"2016-05-31T00:00:00\",\"2016-06-30T00:00:00\",\"2016-07-31T00:00:00\",\"2016-08-31T00:00:00\",\"2016-09-30T00:00:00\",\"2016-10-31T00:00:00\",\"2016-11-30T00:00:00\",\"2016-12-31T00:00:00\",\"2017-01-31T00:00:00\",\"2017-02-28T00:00:00\",\"2017-03-31T00:00:00\",\"2017-04-30T00:00:00\",\"2017-05-31T00:00:00\",\"2017-06-30T00:00:00\",\"2017-07-31T00:00:00\",\"2017-08-31T00:00:00\",\"2017-09-30T00:00:00\",\"2017-10-31T00:00:00\",\"2017-11-30T00:00:00\",\"2017-12-31T00:00:00\",\"2018-01-31T00:00:00\",\"2018-02-28T00:00:00\",\"2018-03-31T00:00:00\",\"2018-04-30T00:00:00\",\"2018-05-31T00:00:00\",\"2018-06-30T00:00:00\",\"2018-07-31T00:00:00\",\"2018-08-31T00:00:00\",\"2018-09-30T00:00:00\",\"2018-10-31T00:00:00\",\"2018-11-30T00:00:00\",\"2018-12-31T00:00:00\",\"2019-01-31T00:00:00\",\"2019-02-28T00:00:00\",\"2019-03-31T00:00:00\",\"2019-04-30T00:00:00\",\"2019-05-31T00:00:00\",\"2019-06-30T00:00:00\",\"2019-07-31T00:00:00\",\"2019-08-31T00:00:00\",\"2019-09-30T00:00:00\",\"2019-10-31T00:00:00\",\"2019-11-30T00:00:00\",\"2019-12-31T00:00:00\",\"2020-01-31T00:00:00\",\"2020-02-29T00:00:00\",\"2020-03-31T00:00:00\",\"2020-04-30T00:00:00\"],\"xaxis\":\"x\",\"y\":[15.65337889880627,15.72452883167993,15.803301971647205,15.87953404258327,15.958307182550538,16.03453925348661,16.113312393453878,16.192085533421153,16.268317604357218,16.347090744324486,16.42332281526056,16.502095955227826,16.580869095195094,16.654560097099964,16.73333323706723,16.809565308003304,16.888338447970572,16.964570518906644,17.043343658873912,17.12211679884118,17.198348869777252,17.27712200974452,17.353354080680592,17.43212722064786,17.51090036061513,17.582050293488795,17.660823433456063,17.737055504392135,17.815828644359403,17.892060715295468,17.970833855262743,18.04960699523001,18.125839066166083,18.20461220613335,18.280844277069416,18.35961741703669,18.43839055700396,18.509540489877626,18.588313629844894,18.66454570078096,18.743318840748234,18.8195509116843,18.898324051651574,18.977097191618842,19.053329262554907,19.132102402522182,19.208334473458248,19.287107613425523,19.36588075339279,19.437030686266457,19.515803826233725,19.59203589716979,19.670809037137065,19.74704110807313,19.8258142480404,19.904587388007673,19.98081945894374,20.059592598911014,20.13582466984708,20.214597809814347,20.29337094978162,20.367061951686484,20.44583509165376,20.522067162589824],\"yaxis\":\"y\"},{\"hovertemplate\":\"Country=India<br>Month=%{x}<br>Percentage of female quotes=%{y}<extra></extra>\",\"legendgroup\":\"India\",\"marker\":{\"color\":\"rgb(158, 185, 243)\",\"symbol\":\"circle\"},\"mode\":\"markers\",\"name\":\"India\",\"orientation\":\"v\",\"showlegend\":true,\"type\":\"scatter\",\"x\":[\"2015-01-31T00:00:00\",\"2015-02-28T00:00:00\",\"2015-03-31T00:00:00\",\"2015-04-30T00:00:00\",\"2015-05-31T00:00:00\",\"2015-06-30T00:00:00\",\"2015-07-31T00:00:00\",\"2015-08-31T00:00:00\",\"2015-09-30T00:00:00\",\"2015-10-31T00:00:00\",\"2015-11-30T00:00:00\",\"2015-12-31T00:00:00\",\"2016-01-31T00:00:00\",\"2016-02-29T00:00:00\",\"2016-03-31T00:00:00\",\"2016-04-30T00:00:00\",\"2016-05-31T00:00:00\",\"2016-06-30T00:00:00\",\"2016-07-31T00:00:00\",\"2016-08-31T00:00:00\",\"2016-09-30T00:00:00\",\"2016-10-31T00:00:00\",\"2016-11-30T00:00:00\",\"2016-12-31T00:00:00\",\"2017-01-31T00:00:00\",\"2017-02-28T00:00:00\",\"2017-03-31T00:00:00\",\"2017-04-30T00:00:00\",\"2017-05-31T00:00:00\",\"2017-06-30T00:00:00\",\"2017-07-31T00:00:00\",\"2017-08-31T00:00:00\",\"2017-09-30T00:00:00\",\"2017-10-31T00:00:00\",\"2017-11-30T00:00:00\",\"2017-12-31T00:00:00\",\"2018-01-31T00:00:00\",\"2018-02-28T00:00:00\",\"2018-03-31T00:00:00\",\"2018-04-30T00:00:00\",\"2018-05-31T00:00:00\",\"2018-06-30T00:00:00\",\"2018-07-31T00:00:00\",\"2018-08-31T00:00:00\",\"2018-09-30T00:00:00\",\"2018-10-31T00:00:00\",\"2018-11-30T00:00:00\",\"2018-12-31T00:00:00\",\"2019-01-31T00:00:00\",\"2019-02-28T00:00:00\",\"2019-03-31T00:00:00\",\"2019-04-30T00:00:00\",\"2019-05-31T00:00:00\",\"2019-06-30T00:00:00\",\"2019-07-31T00:00:00\",\"2019-08-31T00:00:00\",\"2019-09-30T00:00:00\",\"2019-10-31T00:00:00\",\"2019-11-30T00:00:00\",\"2019-12-31T00:00:00\",\"2020-01-31T00:00:00\",\"2020-02-29T00:00:00\",\"2020-03-31T00:00:00\",\"2020-04-30T00:00:00\"],\"xaxis\":\"x\",\"y\":[13.360109123976963,12.970512942068835,12.692404743880898,11.785416473640323,13.529353332671104,13.208333333333332,12.465146793505003,14.596688491995474,12.60910433731704,11.908144721625641,11.976327674817007,12.2724521625774,14.418604651162791,11.831183118311833,34.61538461538461,13.686487995533222,13.366942534094884,17.47787610619469,15.812616755280931,16.929605420759042,15.205788587598953,5.4945054945054945,14.77832512315271,12.774578801450204,16.379310344827587,12.872966769783456,14.8861900952658,14.906616017727128,14.37801874420241,15.034015680771226,16.18926812000354,15.103862835112993,15.302398331595413,14.685169842584923,14.098783009593546,14.05263350001825,16.020057306590257,14.042352624314042,15.164835164835164,14.441693645654796,13.678973907746455,13.077178607020262,13.018441577374446,13.7163483230561,15.199822050863796,14.149265274555297,12.883352970880324,12.296416938110749,14.147013370960156,14.256690486198684,14.71955481659937,14.012464233919964,15.492863140218304,13.3551516107409,14.520319623510957,14.303408046665867,13.942341090656479,12.853547062330264,12.546014323003815,14.21693243971959,13.872907104531643,13.998466388344552,15.390438479007745,13.987138263665594],\"yaxis\":\"y\"},{\"hovertemplate\":\"<b>OLS trendline</b><br>perc_female = -1.11163e-11 * date + 14.2505<br>R<sup>2</sup>=0.000000<br><br>Country=India<br>Month=%{x}<br>Percentage of female quotes=%{y} <b>(trend)</b><extra></extra>\",\"legendgroup\":\"India\",\"marker\":{\"color\":\"rgb(158, 185, 243)\",\"symbol\":\"circle\"},\"mode\":\"lines\",\"name\":\"India\",\"showlegend\":false,\"type\":\"scatter\",\"x\":[\"2015-01-31T00:00:00\",\"2015-02-28T00:00:00\",\"2015-03-31T00:00:00\",\"2015-04-30T00:00:00\",\"2015-05-31T00:00:00\",\"2015-06-30T00:00:00\",\"2015-07-31T00:00:00\",\"2015-08-31T00:00:00\",\"2015-09-30T00:00:00\",\"2015-10-31T00:00:00\",\"2015-11-30T00:00:00\",\"2015-12-31T00:00:00\",\"2016-01-31T00:00:00\",\"2016-02-29T00:00:00\",\"2016-03-31T00:00:00\",\"2016-04-30T00:00:00\",\"2016-05-31T00:00:00\",\"2016-06-30T00:00:00\",\"2016-07-31T00:00:00\",\"2016-08-31T00:00:00\",\"2016-09-30T00:00:00\",\"2016-10-31T00:00:00\",\"2016-11-30T00:00:00\",\"2016-12-31T00:00:00\",\"2017-01-31T00:00:00\",\"2017-02-28T00:00:00\",\"2017-03-31T00:00:00\",\"2017-04-30T00:00:00\",\"2017-05-31T00:00:00\",\"2017-06-30T00:00:00\",\"2017-07-31T00:00:00\",\"2017-08-31T00:00:00\",\"2017-09-30T00:00:00\",\"2017-10-31T00:00:00\",\"2017-11-30T00:00:00\",\"2017-12-31T00:00:00\",\"2018-01-31T00:00:00\",\"2018-02-28T00:00:00\",\"2018-03-31T00:00:00\",\"2018-04-30T00:00:00\",\"2018-05-31T00:00:00\",\"2018-06-30T00:00:00\",\"2018-07-31T00:00:00\",\"2018-08-31T00:00:00\",\"2018-09-30T00:00:00\",\"2018-10-31T00:00:00\",\"2018-11-30T00:00:00\",\"2018-12-31T00:00:00\",\"2019-01-31T00:00:00\",\"2019-02-28T00:00:00\",\"2019-03-31T00:00:00\",\"2019-04-30T00:00:00\",\"2019-05-31T00:00:00\",\"2019-06-30T00:00:00\",\"2019-07-31T00:00:00\",\"2019-08-31T00:00:00\",\"2019-09-30T00:00:00\",\"2019-10-31T00:00:00\",\"2019-11-30T00:00:00\",\"2019-12-31T00:00:00\",\"2020-01-31T00:00:00\",\"2020-02-29T00:00:00\",\"2020-03-31T00:00:00\",\"2020-04-30T00:00:00\"],\"xaxis\":\"x\",\"y\":[14.234655881748843,14.234628989260194,14.234599215433477,14.234570402052784,14.234540628226066,14.234511814845373,14.234482041018655,14.234452267191937,14.234423453811244,14.234393679984526,14.234364866603833,14.234335092777116,14.234305318950398,14.234277466015728,14.23424769218901,14.234218878808315,14.2341891049816,14.234160291600904,14.234130517774188,14.23410074394747,14.234071930566776,14.23404215674006,14.234013343359365,14.233983569532649,14.233953795705931,14.233926903217283,14.233897129390567,14.233868316009872,14.233838542183154,14.233809728802461,14.233779954975743,14.233750181149027,14.233721367768332,14.233691593941614,14.233662780560921,14.233633006734204,14.233603232907488,14.23357634041884,14.233546566592121,14.233517753211428,14.23348797938471,14.233459166004018,14.2334293921773,14.233399618350582,14.233370804969889,14.233341031143171,14.233312217762476,14.23328244393576,14.233252670109042,14.233225777620396,14.233196003793678,14.233167190412983,14.233137416586267,14.233108603205572,14.233078829378856,14.233049055552138,14.233020242171444,14.232990468344727,14.232961654964033,14.232931881137315,14.232902107310599,14.232874254375927,14.232844480549211,14.232815667168516],\"yaxis\":\"y\"},{\"hovertemplate\":\"Country=Nigeria<br>Month=%{x}<br>Percentage of female quotes=%{y}<extra></extra>\",\"legendgroup\":\"Nigeria\",\"marker\":{\"color\":\"rgb(254, 136, 177)\",\"symbol\":\"circle\"},\"mode\":\"markers\",\"name\":\"Nigeria\",\"orientation\":\"v\",\"showlegend\":true,\"type\":\"scatter\",\"x\":[\"2015-01-31T00:00:00\",\"2015-02-28T00:00:00\",\"2015-03-31T00:00:00\",\"2015-04-30T00:00:00\",\"2015-05-31T00:00:00\",\"2015-06-30T00:00:00\",\"2015-07-31T00:00:00\",\"2015-08-31T00:00:00\",\"2015-09-30T00:00:00\",\"2015-10-31T00:00:00\",\"2015-11-30T00:00:00\",\"2015-12-31T00:00:00\",\"2016-01-31T00:00:00\",\"2016-02-29T00:00:00\",\"2016-03-31T00:00:00\",\"2016-04-30T00:00:00\",\"2016-05-31T00:00:00\",\"2016-06-30T00:00:00\",\"2016-07-31T00:00:00\",\"2016-08-31T00:00:00\",\"2016-09-30T00:00:00\",\"2016-10-31T00:00:00\",\"2016-11-30T00:00:00\",\"2016-12-31T00:00:00\",\"2017-01-31T00:00:00\",\"2017-02-28T00:00:00\",\"2017-03-31T00:00:00\",\"2017-04-30T00:00:00\",\"2017-05-31T00:00:00\",\"2017-06-30T00:00:00\",\"2017-07-31T00:00:00\",\"2017-08-31T00:00:00\",\"2017-09-30T00:00:00\",\"2017-10-31T00:00:00\",\"2017-11-30T00:00:00\",\"2017-12-31T00:00:00\",\"2018-01-31T00:00:00\",\"2018-02-28T00:00:00\",\"2018-03-31T00:00:00\",\"2018-04-30T00:00:00\",\"2018-05-31T00:00:00\",\"2018-06-30T00:00:00\",\"2018-07-31T00:00:00\",\"2018-08-31T00:00:00\",\"2018-09-30T00:00:00\",\"2018-10-31T00:00:00\",\"2018-11-30T00:00:00\",\"2018-12-31T00:00:00\",\"2019-01-31T00:00:00\",\"2019-02-28T00:00:00\",\"2019-03-31T00:00:00\",\"2019-04-30T00:00:00\",\"2019-05-31T00:00:00\",\"2019-06-30T00:00:00\",\"2019-07-31T00:00:00\",\"2019-08-31T00:00:00\",\"2019-09-30T00:00:00\",\"2019-10-31T00:00:00\",\"2019-11-30T00:00:00\",\"2019-12-31T00:00:00\",\"2020-01-31T00:00:00\",\"2020-02-29T00:00:00\",\"2020-03-31T00:00:00\",\"2020-04-30T00:00:00\"],\"xaxis\":\"x\",\"y\":[9.182530795072788,7.191780821917808,7.961783439490445,10.082150858849888,10.550458715596331,10.060711188204683,6.174698795180722,8.866155157715259,8.899117759877253,7.685393258426966,7.990012484394507,7.1333628710677885,7.920792079207921,9.34761441090555,0.0,8.934426229508198,9.5594586812554,8.98876404494382,13.404360753221011,9.565002471576866,10.81447963800905,20.0,11.267605633802818,9.99356637357924,10.44776119402985,9.090909090909092,9.155722326454034,9.557202965337607,10.81625797783003,12.015974995658969,10.56538218572331,9.024517475221701,9.645979647412927,9.487246225923998,9.057398630858346,7.518387360392263,11.160714285714286,9.52774108322325,9.995908904950225,8.177865058212932,7.537823001740527,6.802349405818878,8.082302313071544,10.939526111045621,9.591236975687952,8.442259263700684,9.273089370176749,8.538667967797025,8.770933863184787,7.065435568044961,7.765511990864103,8.41766329346826,9.154694286668894,8.8715953307393,9.347258485639687,8.8991986503585,10.96319498825372,11.460405889375249,7.167680278019113,8.589211618257261,8.764317945157932,8.823529411764707,8.948769128409847,11.41094834232845],\"yaxis\":\"y\"},{\"hovertemplate\":\"<b>OLS trendline</b><br>perc_female = 1.38658e-09 * date + 7.13838<br>R<sup>2</sup>=0.000915<br><br>Country=Nigeria<br>Month=%{x}<br>Percentage of female quotes=%{y} <b>(trend)</b><extra></extra>\",\"legendgroup\":\"Nigeria\",\"marker\":{\"color\":\"rgb(254, 136, 177)\",\"symbol\":\"circle\"},\"mode\":\"lines\",\"name\":\"Nigeria\",\"showlegend\":false,\"type\":\"scatter\",\"x\":[\"2015-01-31T00:00:00\",\"2015-02-28T00:00:00\",\"2015-03-31T00:00:00\",\"2015-04-30T00:00:00\",\"2015-05-31T00:00:00\",\"2015-06-30T00:00:00\",\"2015-07-31T00:00:00\",\"2015-08-31T00:00:00\",\"2015-09-30T00:00:00\",\"2015-10-31T00:00:00\",\"2015-11-30T00:00:00\",\"2015-12-31T00:00:00\",\"2016-01-31T00:00:00\",\"2016-02-29T00:00:00\",\"2016-03-31T00:00:00\",\"2016-04-30T00:00:00\",\"2016-05-31T00:00:00\",\"2016-06-30T00:00:00\",\"2016-07-31T00:00:00\",\"2016-08-31T00:00:00\",\"2016-09-30T00:00:00\",\"2016-10-31T00:00:00\",\"2016-11-30T00:00:00\",\"2016-12-31T00:00:00\",\"2017-01-31T00:00:00\",\"2017-02-28T00:00:00\",\"2017-03-31T00:00:00\",\"2017-04-30T00:00:00\",\"2017-05-31T00:00:00\",\"2017-06-30T00:00:00\",\"2017-07-31T00:00:00\",\"2017-08-31T00:00:00\",\"2017-09-30T00:00:00\",\"2017-10-31T00:00:00\",\"2017-11-30T00:00:00\",\"2017-12-31T00:00:00\",\"2018-01-31T00:00:00\",\"2018-02-28T00:00:00\",\"2018-03-31T00:00:00\",\"2018-04-30T00:00:00\",\"2018-05-31T00:00:00\",\"2018-06-30T00:00:00\",\"2018-07-31T00:00:00\",\"2018-08-31T00:00:00\",\"2018-09-30T00:00:00\",\"2018-10-31T00:00:00\",\"2018-11-30T00:00:00\",\"2018-12-31T00:00:00\",\"2019-01-31T00:00:00\",\"2019-02-28T00:00:00\",\"2019-03-31T00:00:00\",\"2019-04-30T00:00:00\",\"2019-05-31T00:00:00\",\"2019-06-30T00:00:00\",\"2019-07-31T00:00:00\",\"2019-08-31T00:00:00\",\"2019-09-30T00:00:00\",\"2019-10-31T00:00:00\",\"2019-11-30T00:00:00\",\"2019-12-31T00:00:00\",\"2020-01-31T00:00:00\",\"2020-02-29T00:00:00\",\"2020-03-31T00:00:00\",\"2020-04-30T00:00:00\"],\"xaxis\":\"x\",\"y\":[9.111013199310555,9.114367604607349,9.118081410471655,9.121675416146791,9.125389222011098,9.128983227686234,9.13269703355054,9.136410839414847,9.140004845089981,9.143718650954288,9.147312656629424,9.15102646249373,9.154740268358037,9.158214473844001,9.161928279708308,9.165522285383442,9.16923609124775,9.172830096922885,9.176543902787191,9.1802577086515,9.183851714326634,9.18756552019094,9.191159525866077,9.194873331730383,9.19858713759469,9.201941542891483,9.205655348755789,9.209249354430924,9.212963160295232,9.216557165970366,9.220270971834672,9.22398477769898,9.227578783374115,9.231292589238421,9.234886594913558,9.238600400777864,9.24231420664217,9.245668611938964,9.24938241780327,9.252976423478405,9.256690229342713,9.260284235017847,9.263998040882154,9.26771184674646,9.271305852421596,9.275019658285903,9.278613663961037,9.282327469825344,9.286041275689652,9.289395680986445,9.293109486850751,9.296703492525886,9.300417298390194,9.304011304065329,9.307725109929635,9.311438915793941,9.315032921469077,9.318746727333384,9.322340733008518,9.326054538872825,9.329768344737133,9.333242550223096,9.336956356087402,9.340550361762539],\"yaxis\":\"y\"}],                        {\"barmode\":\"stack\",\"legend\":{\"title\":{\"text\":\"Country\"},\"tracegroupgap\":0},\"margin\":{\"t\":60},\"template\":{\"data\":{\"bar\":[{\"error_x\":{\"color\":\"#2a3f5f\"},\"error_y\":{\"color\":\"#2a3f5f\"},\"marker\":{\"line\":{\"color\":\"#E5ECF6\",\"width\":0.5},\"pattern\":{\"fillmode\":\"overlay\",\"size\":10,\"solidity\":0.2}},\"type\":\"bar\"}],\"barpolar\":[{\"marker\":{\"line\":{\"color\":\"#E5ECF6\",\"width\":0.5},\"pattern\":{\"fillmode\":\"overlay\",\"size\":10,\"solidity\":0.2}},\"type\":\"barpolar\"}],\"carpet\":[{\"aaxis\":{\"endlinecolor\":\"#2a3f5f\",\"gridcolor\":\"white\",\"linecolor\":\"white\",\"minorgridcolor\":\"white\",\"startlinecolor\":\"#2a3f5f\"},\"baxis\":{\"endlinecolor\":\"#2a3f5f\",\"gridcolor\":\"white\",\"linecolor\":\"white\",\"minorgridcolor\":\"white\",\"startlinecolor\":\"#2a3f5f\"},\"type\":\"carpet\"}],\"choropleth\":[{\"colorbar\":{\"outlinewidth\":0,\"ticks\":\"\"},\"type\":\"choropleth\"}],\"contour\":[{\"colorbar\":{\"outlinewidth\":0,\"ticks\":\"\"},\"colorscale\":[[0.0,\"#0d0887\"],[0.1111111111111111,\"#46039f\"],[0.2222222222222222,\"#7201a8\"],[0.3333333333333333,\"#9c179e\"],[0.4444444444444444,\"#bd3786\"],[0.5555555555555556,\"#d8576b\"],[0.6666666666666666,\"#ed7953\"],[0.7777777777777778,\"#fb9f3a\"],[0.8888888888888888,\"#fdca26\"],[1.0,\"#f0f921\"]],\"type\":\"contour\"}],\"contourcarpet\":[{\"colorbar\":{\"outlinewidth\":0,\"ticks\":\"\"},\"type\":\"contourcarpet\"}],\"heatmap\":[{\"colorbar\":{\"outlinewidth\":0,\"ticks\":\"\"},\"colorscale\":[[0.0,\"#0d0887\"],[0.1111111111111111,\"#46039f\"],[0.2222222222222222,\"#7201a8\"],[0.3333333333333333,\"#9c179e\"],[0.4444444444444444,\"#bd3786\"],[0.5555555555555556,\"#d8576b\"],[0.6666666666666666,\"#ed7953\"],[0.7777777777777778,\"#fb9f3a\"],[0.8888888888888888,\"#fdca26\"],[1.0,\"#f0f921\"]],\"type\":\"heatmap\"}],\"heatmapgl\":[{\"colorbar\":{\"outlinewidth\":0,\"ticks\":\"\"},\"colorscale\":[[0.0,\"#0d0887\"],[0.1111111111111111,\"#46039f\"],[0.2222222222222222,\"#7201a8\"],[0.3333333333333333,\"#9c179e\"],[0.4444444444444444,\"#bd3786\"],[0.5555555555555556,\"#d8576b\"],[0.6666666666666666,\"#ed7953\"],[0.7777777777777778,\"#fb9f3a\"],[0.8888888888888888,\"#fdca26\"],[1.0,\"#f0f921\"]],\"type\":\"heatmapgl\"}],\"histogram\":[{\"marker\":{\"pattern\":{\"fillmode\":\"overlay\",\"size\":10,\"solidity\":0.2}},\"type\":\"histogram\"}],\"histogram2d\":[{\"colorbar\":{\"outlinewidth\":0,\"ticks\":\"\"},\"colorscale\":[[0.0,\"#0d0887\"],[0.1111111111111111,\"#46039f\"],[0.2222222222222222,\"#7201a8\"],[0.3333333333333333,\"#9c179e\"],[0.4444444444444444,\"#bd3786\"],[0.5555555555555556,\"#d8576b\"],[0.6666666666666666,\"#ed7953\"],[0.7777777777777778,\"#fb9f3a\"],[0.8888888888888888,\"#fdca26\"],[1.0,\"#f0f921\"]],\"type\":\"histogram2d\"}],\"histogram2dcontour\":[{\"colorbar\":{\"outlinewidth\":0,\"ticks\":\"\"},\"colorscale\":[[0.0,\"#0d0887\"],[0.1111111111111111,\"#46039f\"],[0.2222222222222222,\"#7201a8\"],[0.3333333333333333,\"#9c179e\"],[0.4444444444444444,\"#bd3786\"],[0.5555555555555556,\"#d8576b\"],[0.6666666666666666,\"#ed7953\"],[0.7777777777777778,\"#fb9f3a\"],[0.8888888888888888,\"#fdca26\"],[1.0,\"#f0f921\"]],\"type\":\"histogram2dcontour\"}],\"mesh3d\":[{\"colorbar\":{\"outlinewidth\":0,\"ticks\":\"\"},\"type\":\"mesh3d\"}],\"parcoords\":[{\"line\":{\"colorbar\":{\"outlinewidth\":0,\"ticks\":\"\"}},\"type\":\"parcoords\"}],\"pie\":[{\"automargin\":true,\"type\":\"pie\"}],\"scatter\":[{\"marker\":{\"colorbar\":{\"outlinewidth\":0,\"ticks\":\"\"}},\"type\":\"scatter\"}],\"scatter3d\":[{\"line\":{\"colorbar\":{\"outlinewidth\":0,\"ticks\":\"\"}},\"marker\":{\"colorbar\":{\"outlinewidth\":0,\"ticks\":\"\"}},\"type\":\"scatter3d\"}],\"scattercarpet\":[{\"marker\":{\"colorbar\":{\"outlinewidth\":0,\"ticks\":\"\"}},\"type\":\"scattercarpet\"}],\"scattergeo\":[{\"marker\":{\"colorbar\":{\"outlinewidth\":0,\"ticks\":\"\"}},\"type\":\"scattergeo\"}],\"scattergl\":[{\"marker\":{\"colorbar\":{\"outlinewidth\":0,\"ticks\":\"\"}},\"type\":\"scattergl\"}],\"scattermapbox\":[{\"marker\":{\"colorbar\":{\"outlinewidth\":0,\"ticks\":\"\"}},\"type\":\"scattermapbox\"}],\"scatterpolar\":[{\"marker\":{\"colorbar\":{\"outlinewidth\":0,\"ticks\":\"\"}},\"type\":\"scatterpolar\"}],\"scatterpolargl\":[{\"marker\":{\"colorbar\":{\"outlinewidth\":0,\"ticks\":\"\"}},\"type\":\"scatterpolargl\"}],\"scatterternary\":[{\"marker\":{\"colorbar\":{\"outlinewidth\":0,\"ticks\":\"\"}},\"type\":\"scatterternary\"}],\"surface\":[{\"colorbar\":{\"outlinewidth\":0,\"ticks\":\"\"},\"colorscale\":[[0.0,\"#0d0887\"],[0.1111111111111111,\"#46039f\"],[0.2222222222222222,\"#7201a8\"],[0.3333333333333333,\"#9c179e\"],[0.4444444444444444,\"#bd3786\"],[0.5555555555555556,\"#d8576b\"],[0.6666666666666666,\"#ed7953\"],[0.7777777777777778,\"#fb9f3a\"],[0.8888888888888888,\"#fdca26\"],[1.0,\"#f0f921\"]],\"type\":\"surface\"}],\"table\":[{\"cells\":{\"fill\":{\"color\":\"#EBF0F8\"},\"line\":{\"color\":\"white\"}},\"header\":{\"fill\":{\"color\":\"#C8D4E3\"},\"line\":{\"color\":\"white\"}},\"type\":\"table\"}]},\"layout\":{\"annotationdefaults\":{\"arrowcolor\":\"#2a3f5f\",\"arrowhead\":0,\"arrowwidth\":1},\"autotypenumbers\":\"strict\",\"coloraxis\":{\"colorbar\":{\"outlinewidth\":0,\"ticks\":\"\"}},\"colorscale\":{\"diverging\":[[0,\"#8e0152\"],[0.1,\"#c51b7d\"],[0.2,\"#de77ae\"],[0.3,\"#f1b6da\"],[0.4,\"#fde0ef\"],[0.5,\"#f7f7f7\"],[0.6,\"#e6f5d0\"],[0.7,\"#b8e186\"],[0.8,\"#7fbc41\"],[0.9,\"#4d9221\"],[1,\"#276419\"]],\"sequential\":[[0.0,\"#0d0887\"],[0.1111111111111111,\"#46039f\"],[0.2222222222222222,\"#7201a8\"],[0.3333333333333333,\"#9c179e\"],[0.4444444444444444,\"#bd3786\"],[0.5555555555555556,\"#d8576b\"],[0.6666666666666666,\"#ed7953\"],[0.7777777777777778,\"#fb9f3a\"],[0.8888888888888888,\"#fdca26\"],[1.0,\"#f0f921\"]],\"sequentialminus\":[[0.0,\"#0d0887\"],[0.1111111111111111,\"#46039f\"],[0.2222222222222222,\"#7201a8\"],[0.3333333333333333,\"#9c179e\"],[0.4444444444444444,\"#bd3786\"],[0.5555555555555556,\"#d8576b\"],[0.6666666666666666,\"#ed7953\"],[0.7777777777777778,\"#fb9f3a\"],[0.8888888888888888,\"#fdca26\"],[1.0,\"#f0f921\"]]},\"colorway\":[\"#636efa\",\"#EF553B\",\"#00cc96\",\"#ab63fa\",\"#FFA15A\",\"#19d3f3\",\"#FF6692\",\"#B6E880\",\"#FF97FF\",\"#FECB52\"],\"font\":{\"color\":\"#2a3f5f\"},\"geo\":{\"bgcolor\":\"white\",\"lakecolor\":\"white\",\"landcolor\":\"#E5ECF6\",\"showlakes\":true,\"showland\":true,\"subunitcolor\":\"white\"},\"hoverlabel\":{\"align\":\"left\"},\"hovermode\":\"closest\",\"mapbox\":{\"style\":\"light\"},\"paper_bgcolor\":\"white\",\"plot_bgcolor\":\"#E5ECF6\",\"polar\":{\"angularaxis\":{\"gridcolor\":\"white\",\"linecolor\":\"white\",\"ticks\":\"\"},\"bgcolor\":\"#E5ECF6\",\"radialaxis\":{\"gridcolor\":\"white\",\"linecolor\":\"white\",\"ticks\":\"\"}},\"scene\":{\"xaxis\":{\"backgroundcolor\":\"#E5ECF6\",\"gridcolor\":\"white\",\"gridwidth\":2,\"linecolor\":\"white\",\"showbackground\":true,\"ticks\":\"\",\"zerolinecolor\":\"white\"},\"yaxis\":{\"backgroundcolor\":\"#E5ECF6\",\"gridcolor\":\"white\",\"gridwidth\":2,\"linecolor\":\"white\",\"showbackground\":true,\"ticks\":\"\",\"zerolinecolor\":\"white\"},\"zaxis\":{\"backgroundcolor\":\"#E5ECF6\",\"gridcolor\":\"white\",\"gridwidth\":2,\"linecolor\":\"white\",\"showbackground\":true,\"ticks\":\"\",\"zerolinecolor\":\"white\"}},\"shapedefaults\":{\"line\":{\"color\":\"#2a3f5f\"}},\"ternary\":{\"aaxis\":{\"gridcolor\":\"white\",\"linecolor\":\"white\",\"ticks\":\"\"},\"baxis\":{\"gridcolor\":\"white\",\"linecolor\":\"white\",\"ticks\":\"\"},\"bgcolor\":\"#E5ECF6\",\"caxis\":{\"gridcolor\":\"white\",\"linecolor\":\"white\",\"ticks\":\"\"}},\"title\":{\"x\":0.05},\"xaxis\":{\"automargin\":true,\"gridcolor\":\"white\",\"linecolor\":\"white\",\"ticks\":\"\",\"title\":{\"standoff\":15},\"zerolinecolor\":\"white\",\"zerolinewidth\":2},\"yaxis\":{\"automargin\":true,\"gridcolor\":\"white\",\"linecolor\":\"white\",\"ticks\":\"\",\"title\":{\"standoff\":15},\"zerolinecolor\":\"white\",\"zerolinewidth\":2}}},\"title\":{\"text\":\"Percentage avagerage of selected countries newspapers, 2015-2020\"},\"xaxis\":{\"anchor\":\"y\",\"domain\":[0.0,1.0],\"title\":{\"text\":\"Month\"}},\"yaxis\":{\"anchor\":\"x\",\"domain\":[0.0,1.0],\"title\":{\"text\":\"Percentage of female quotes\"}}},                        {\"responsive\": true}                    ).then(function(){\n",
       "                            \n",
       "var gd = document.getElementById('340441aa-29ff-4d0f-a3f7-f613be85db39');\n",
       "var x = new MutationObserver(function (mutations, observer) {{\n",
       "        var display = window.getComputedStyle(gd).display;\n",
       "        if (!display || display === 'none') {{\n",
       "            console.log([gd, 'removed!']);\n",
       "            Plotly.purge(gd);\n",
       "            observer.disconnect();\n",
       "        }}\n",
       "}});\n",
       "\n",
       "// Listen for the removal of the full notebook cells\n",
       "var notebookContainer = gd.closest('#notebook-container');\n",
       "if (notebookContainer) {{\n",
       "    x.observe(notebookContainer, {childList: true});\n",
       "}}\n",
       "\n",
       "// Listen for the clearing of the current output cell\n",
       "var outputEl = gd.closest('.output');\n",
       "if (outputEl) {{\n",
       "    x.observe(outputEl, {childList: true});\n",
       "}}\n",
       "\n",
       "                        })                };                });            </script>        </div>"
      ]
     },
     "metadata": {},
     "output_type": "display_data"
    }
   ],
   "source": [
    "# Set color palette\n",
    "palette_values = px.colors.qualitative.Pastel\n",
    "palette_values = palette_values[3:]\n",
    "palette = cycle(palette_values)\n",
    "\n",
    "\n",
    "# Create list of dataframes for UK, US, IN and NG\n",
    "countries_list = ['UK', 'US', 'India', 'Nigeria']\n",
    "gender_repr_list = [gender_repr_uk_df, gender_repr_us_df, gender_repr_in_df, gender_repr_ng_df]\n",
    "\n",
    "fig = make_subplots(rows=1, cols=1)\n",
    "\n",
    "countries_df = pd.DataFrame(columns=['date', 'counts_female', 'counts_male', 'counts_other',\n",
    "                                     'counts_occ_female', 'counts_occ_male', 'counts_occ_other',\n",
    "                                    'perc_female', 'counts_total', 'country'])\n",
    "for i, (y, c) in enumerate(zip(gender_repr_list, countries_list)):\n",
    "    month_df = y.resample('M', on='date').sum().reset_index()\n",
    "    month_df['perc_female'] = month_df['counts_female'] / (month_df['counts_female'] + month_df['counts_male'] + month_df['counts_other']) * 100\n",
    "    month_df['counts_total'] = month_df['counts_female'] + month_df['counts_male'] + month_df['counts_other']\n",
    "    month_df['country'] = c\n",
    "    countries_df = pd.concat([countries_df, month_df], axis=0)\n",
    "\n",
    "fig = px.scatter(countries_df, x='date', y='perc_female', color='country', \n",
    "              color_discrete_sequence=palette_values, trendline=\"ols\",\n",
    "            labels={\n",
    "                     'perc_female': \"Percentage of female quotes\",\n",
    "                     'date': \"Month\",\n",
    "                     'country': \"Country\"},)\n",
    "\n",
    "fig.update_layout(barmode='stack',\n",
    "                  title_text=\"Percentage avagerage of selected countries newspapers, 2015-2020\",             \n",
    ")\n",
    "fig.show()\n",
    "fig.to_html(full_html=False, include_plotlyjs='cdn')  \n",
    "fig.write_html(\"docs/_includes/fig_perc_female_all_2015-2020.html\", full_html=False, include_plotlyjs='cdn')"
   ]
  },
  {
   "cell_type": "code",
   "execution_count": null,
   "metadata": {},
   "outputs": [],
   "source": []
  }
 ],
 "metadata": {
  "accelerator": "TPU",
  "colab": {
   "collapsed_sections": [],
   "name": "Copy of gender_representation.ipynb",
   "provenance": []
  },
  "kernelspec": {
   "display_name": "Python 3 (ipykernel)",
   "language": "python",
   "name": "python3"
  },
  "language_info": {
   "codemirror_mode": {
    "name": "ipython",
    "version": 3
   },
   "file_extension": ".py",
   "mimetype": "text/x-python",
   "name": "python",
   "nbconvert_exporter": "python",
   "pygments_lexer": "ipython3",
   "version": "3.8.11"
  }
 },
 "nbformat": 4,
 "nbformat_minor": 1
}

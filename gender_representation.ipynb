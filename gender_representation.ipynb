{
  "cells": [
    {
      "cell_type": "markdown",
      "metadata": {
        "id": "7txCTyrTM0qJ"
      },
      "source": [
        "# Analysis of gender distribution in UK's leading newspapers\n",
        "# Gender representation"
      ]
    },
    {
      "cell_type": "markdown",
      "metadata": {
        "id": "ucef3_UkM0qP"
      },
      "source": [
        "## Content\n",
        "1. [Setup](#setup)   \n",
        "    1.1 [Global](#global_setup)  \n",
        "    1.2 [Local](#local_setup)   \n",
        "2. [Time statistic](#time_statistic)   \n",
        "    2.1 [Functions](#functions)  \n",
        "    2.2 [Create statistic](#statistic)    \n",
        "    2.3 [Plots](#plots) "
      ]
    },
    {
      "cell_type": "markdown",
      "metadata": {
        "id": "owgTJarZM0qP",
        "tags": []
      },
      "source": [
        "## 1. Setup\n",
        "<a id=\"setup\"></a>"
      ]
    },
    {
      "cell_type": "markdown",
      "metadata": {
        "id": "Y3JKiCvOFE8u"
      },
      "source": [
        "### 1.1 Global\n",
        "<a id=\"global_setup\"></a>"
      ]
    },
    {
      "cell_type": "code",
      "execution_count": 1,
      "metadata": {
        "colab": {
          "base_uri": "https://localhost:8080/"
        },
        "id": "aP59FL8-FE8v",
        "outputId": "c08280e2-73de-4204-dce5-13355a8a97b2",
        "scrolled": true
      },
      "outputs": [
        {
          "output_type": "stream",
          "name": "stdout",
          "text": [
            "Mounted at /content/drive\n",
            "/content/drive/Shareddrives/ADA-project\n",
            "Requirement already satisfied: pandas==1.0.5 in /usr/local/lib/python3.7/dist-packages (1.0.5)\n",
            "Requirement already satisfied: python-dateutil>=2.6.1 in /usr/local/lib/python3.7/dist-packages (from pandas==1.0.5) (2.8.2)\n",
            "Requirement already satisfied: pytz>=2017.2 in /usr/local/lib/python3.7/dist-packages (from pandas==1.0.5) (2018.9)\n",
            "Requirement already satisfied: numpy>=1.13.3 in /usr/local/lib/python3.7/dist-packages (from pandas==1.0.5) (1.19.5)\n",
            "Requirement already satisfied: six>=1.5 in /usr/local/lib/python3.7/dist-packages (from python-dateutil>=2.6.1->pandas==1.0.5) (1.15.0)\n"
          ]
        }
      ],
      "source": [
        "# Change to true if you want to use google colab\n",
        "use_colab = True\n",
        "\n",
        "# Import with EPFL google drive!\n",
        "if use_colab:\n",
        "    from google.colab import drive\n",
        "    drive._mount('/content/drive', force_remount=True)\n",
        "    %cd /content/drive/Shareddrives/ADA-project\n",
        "    !pip install pandas==1.0.5 # downgrade pandas for chunk processing support"
      ]
    },
    {
      "cell_type": "code",
      "execution_count": 2,
      "metadata": {
        "id": "hzfP-W7znkx3"
      },
      "outputs": [],
      "source": [
        "# Defined paths for the data\n",
        "from scripts.path_defs import *\n",
        "\n",
        "# Defined newspapers and urls\n",
        "from scripts.newspapers import *\n",
        "\n",
        "# Globally used functions\n",
        "from scripts.utility_functions import load_mini_version_of_data\n",
        "from scripts.utility_functions import convert_to_1Dseries\n",
        "from scripts.utility_functions import process_data_in_chunks"
      ]
    },
    {
      "cell_type": "markdown",
      "metadata": {
        "id": "5yqsvZuAM0qQ"
      },
      "source": [
        "### 1.2 Local \n",
        "<a id=\"local_setup\"></a>"
      ]
    },
    {
      "cell_type": "code",
      "execution_count": 3,
      "metadata": {
        "id": "QLFedCOsFE8y"
      },
      "outputs": [],
      "source": [
        "import pandas as pd\n",
        "import numpy as np\n",
        "import seaborn as sns\n",
        "import matplotlib.pyplot as plt\n",
        "import json\n",
        "import bz2\n",
        "import plotly.graph_objects as go\n",
        "import plotly.express as px"
      ]
    },
    {
      "cell_type": "markdown",
      "metadata": {
        "id": "XFCdzoNgFE8y"
      },
      "source": [
        "## 2. Time statistic\n",
        "<a id=\"time_statistic\"></a>"
      ]
    },
    {
      "cell_type": "markdown",
      "metadata": {
        "id": "lrdPOMhhdDy2"
      },
      "source": [
        "We want to conduct an analysis on the evolution of women and minorities' presence in UK's newspapers. We will have a first look on the repartition of the speaker's genders."
      ]
    },
    {
      "cell_type": "code",
      "execution_count": null,
      "metadata": {
        "colab": {
          "base_uri": "https://localhost:8080/"
        },
        "id": "ovZKkkyWdfvy",
        "outputId": "d139744d-4ce8-464e-ebbc-022008541e24"
      },
      "outputs": [
        {
          "output_type": "execute_result",
          "data": {
            "text/plain": [
              "male                  119086\n",
              "female                 38816\n",
              "non-binary               166\n",
              "transgender female       141\n",
              "genderfluid               43\n",
              "cisgender female          12\n",
              "transgender male           6\n",
              "intersex                   5\n",
              "shemale                    2\n",
              "genderqueer                2\n",
              "dtype: int64"
            ]
          },
          "metadata": {},
          "execution_count": 4
        }
      ],
      "source": [
        "# Get number of each gender\n",
        "df_2020 = pd.read_json(MERGED_QUOTES_UK_2020_PATH, lines=True, compression='bz2')\n",
        "convert_to_1Dseries(df_2020[\"gender\"]).value_counts()"
      ]
    },
    {
      "cell_type": "markdown",
      "metadata": {
        "id": "_jMfiy0JdOeR"
      },
      "source": [
        "As expected, the two gender represented the most are male and female. It is interesting to have an overview of all the gender minorities present but for the rest of the anaylsis we chose to group them in one single category \"other\".\n"
      ]
    },
    {
      "cell_type": "markdown",
      "metadata": {
        "id": "hZvoEugqFE8z"
      },
      "source": [
        "### 2.1 Functions\n",
        "<a id=\"functions\"></a>"
      ]
    },
    {
      "cell_type": "code",
      "execution_count": null,
      "metadata": {
        "id": "oBnkP_7TFE8z"
      },
      "outputs": [],
      "source": [
        "def group_genders(x):\n",
        "    \"\"\"Functions which groups gender minorites into categorie 'other'\"\"\"\n",
        "    if len(x)==1:\n",
        "        if x[0] in ['male', 'female']:\n",
        "            return x[0]\n",
        "        else:\n",
        "            return 'other'\n",
        "    else:\n",
        "        return 'other'\n",
        "\n",
        "def get_gender_counts(chunk, gender_repr_df, year):\n",
        "    \"\"\"\"\"\"\n",
        "    # Apply gender grouping into male, female and other\n",
        "    chunk['gender'] = chunk.gender.apply(group_genders)\n",
        "    \n",
        "    # Create dummy columns to aggregate counts\n",
        "    # Per quote:\n",
        "    dummies_df = pd.get_dummies(chunk['gender'],prefix='counts')\n",
        "    # Using number of occurrences\n",
        "    dummies_occ_df = pd.get_dummies(chunk['gender'],prefix='counts_occ').mul(chunk.numOccurrences, 0)\n",
        "    chunk = pd.concat([chunk, dummies_df, dummies_occ_df], axis=1)\n",
        "    \n",
        "    # Create datetime column and set as index\n",
        "    chunk['date'] = pd.to_datetime(chunk['date'], yearfirst=True)\n",
        "      \n",
        "    # Aggregate quote counts for every newspaper\n",
        "    for newspaper in newspapers_df['name']:\n",
        "        # Select quotes from one newspaper\n",
        "        mask_newspaper = chunk.newspapers.apply(lambda x: newspaper in x)\n",
        "        newspaper_df = chunk[mask_newspaper]\n",
        "        \n",
        "        # Aggregate quote counts per day and gender\n",
        "        newspaper_df = newspaper_df.resample('D', on='date').sum()\n",
        "        newspaper_df.drop('numOccurrences', axis=1, inplace=True) # remove now useless column\n",
        "        newspaper_df.insert(0, 'newspaper', newspaper) # insert newspaper name\n",
        "        \n",
        "        newspaper_df.reset_index(inplace=True) # to be able to append\n",
        "        gender_repr_df = gender_repr_df.append(newspaper_df, ignore_index=True)\n",
        "    \n",
        "    # Aggregate sums after chunk is processed\n",
        "    gender_repr_df = gender_repr_df.groupby(['date','newspaper']).sum().reset_index()\n",
        "    \n",
        "    return gender_repr_df"
      ]
    },
    {
      "cell_type": "code",
      "execution_count": null,
      "metadata": {
        "id": "hB2jwE0zFE82"
      },
      "outputs": [],
      "source": [
        "def create_gender_representation(country_string):\n",
        "    \"\"\"\"\"\"\n",
        "    years = [2015, 2016, 2017, 2018, 2019, 2020]\n",
        "    gender_repr_df = pd.DataFrame()\n",
        "    \n",
        "    for year in years:\n",
        "        path_to_file = globals()['MERGED_QUOTES_' + country_string + '_' + str(year) + '_PATH']\n",
        "        gender_repr_df = process_data_in_chunks(path_to_file, get_gender_counts, gender_repr_df, year, use_colab)\n",
        "        print(str(year) + ' finished')\n",
        "\n",
        "    return gender_repr_df"
      ]
    },
    {
      "cell_type": "markdown",
      "metadata": {
        "id": "RJ-SKvFdFE80"
      },
      "source": [
        "### 2.2 Create statistic\n",
        "<a id=\"statistic\"></a>"
      ]
    },
    {
      "cell_type": "code",
      "execution_count": null,
      "metadata": {
        "id": "HPZdY9GRkGeb",
        "outputId": "6dc81265-74e2-473e-c423-f6bcbca536eb"
      },
      "outputs": [
        {
          "name": "stdout",
          "output_type": "stream",
          "text": [
            "2015 finished\n",
            "2016 finished\n",
            "2017 finished\n",
            "2018 finished\n",
            "2019 finished\n",
            "2020 finished\n"
          ]
        }
      ],
      "source": [
        "# Dataframe of newspapers for uk\n",
        "# which is passed implicitly to function!\n",
        "newspapers_df = pd.DataFrame(newspapers_uk_list, columns=['name', 'website_url'])\n",
        "\n",
        "# Add per day statistics of for gender\n",
        "gender_df_repr = create_gender_representation('UK')\n",
        "\n",
        "# Save results as pickle\n",
        "gender_df_repr.to_pickle(GENDER_REPRESENTATION_UK_2015_TO_2020_PATH)"
      ]
    },
    {
      "cell_type": "markdown",
      "metadata": {
        "id": "x3QMq__ziwyg"
      },
      "source": [
        "For US:"
      ]
    },
    {
      "cell_type": "code",
      "execution_count": null,
      "metadata": {
        "id": "8bc0b5oHihPx"
      },
      "outputs": [],
      "source": [
        "newspapers_df = pd.DataFrame(newspapers_us_list, columns=['name', 'website_url'])\n",
        "gender_repr_df = create_gender_representation('US')\n",
        "gender_repr_df.to_pickle(GENDER_REPRESENTATION_US_2015_TO_2020_PATH)"
      ]
    },
    {
      "cell_type": "markdown",
      "metadata": {
        "id": "h8UBuTLjjHkg"
      },
      "source": [
        "For Australia:"
      ]
    },
    {
      "cell_type": "code",
      "execution_count": null,
      "metadata": {
        "id": "oZ6C-UEajHki"
      },
      "outputs": [],
      "source": [
        "newspapers_df = pd.DataFrame(newspapers_au_list, columns=['name', 'website_url'])\n",
        "gender_repr_df = create_gender_representation('AU')\n",
        "gender_repr_df.to_pickle(GENDER_REPRESENTATION_AU_2015_TO_2020_PATH)"
      ]
    },
    {
      "cell_type": "markdown",
      "metadata": {
        "id": "1-gAAvxIjMzs"
      },
      "source": [
        "For India:"
      ]
    },
    {
      "cell_type": "code",
      "execution_count": null,
      "metadata": {
        "id": "NYc4nahAjMzu"
      },
      "outputs": [],
      "source": [
        "newspapers_df = pd.DataFrame(newspapers_in_list, columns=['name', 'website_url'])\n",
        "gender_repr_df = create_gender_representation('IN')\n",
        "gender_repr_df.to_pickle(GENDER_REPRESENTATION_IN_2015_TO_2020_PATH)"
      ]
    },
    {
      "cell_type": "markdown",
      "metadata": {
        "id": "eSeOLN39jNiY"
      },
      "source": [
        "For Nigeria:"
      ]
    },
    {
      "cell_type": "code",
      "execution_count": null,
      "metadata": {
        "id": "eztb8sUpjNia"
      },
      "outputs": [],
      "source": [
        "newspapers_df = pd.DataFrame(newspapers_ng_list, columns=['name', 'website_url'])\n",
        "gender_repr_df = create_gender_representation('NG')\n",
        "gender_repr_df.to_pickle(GENDER_REPRESENTATION_NG_2015_TO_2020_PATH)"
      ]
    },
    {
      "cell_type": "markdown",
      "metadata": {
        "id": "cGfP2GfqTYH-"
      },
      "source": [
        "### 2.3 Plots\n",
        "<a id=\"plots\"></a>"
      ]
    },
    {
      "cell_type": "code",
      "execution_count": 4,
      "metadata": {
        "id": "hVk24B6rGYyJ"
      },
      "outputs": [],
      "source": [
        "# Load from Results folder\n",
        "newspapers_uk_df = pd.DataFrame(newspapers_uk_list, columns=['name', 'website_url'])\n",
        "gender_repr_uk_df = pd.read_pickle(GENDER_REPRESENTATION_UK_2015_TO_2020_PATH)\n",
        "\n",
        "newspapers_us_df = pd.DataFrame(newspapers_us_list, columns=['name', 'website_url'])\n",
        "gender_repr_us_df = pd.read_pickle(GENDER_REPRESENTATION_US_2015_TO_2020_PATH)\n",
        "\n",
        "#newspapers_au_df = pd.DataFrame(newspapers_au_list, columns=['name', 'website_url'])\n",
        "#gender_repr_au_df = pd.read_pickle(GENDER_REPRESENTATION_AU_2015_TO_2020_PATH)\n",
        "\n",
        "newspapers_in_df = pd.DataFrame(newspapers_in_list, columns=['name', 'website_url'])\n",
        "gender_repr_in_df = pd.read_pickle(GENDER_REPRESENTATION_IN_2015_TO_2020_PATH)\n",
        "\n",
        "newspapers_ng_df = pd.DataFrame(newspapers_ng_list, columns=['name', 'website_url'])\n",
        "gender_repr_ng_df = pd.read_pickle(GENDER_REPRESENTATION_NG_2015_TO_2020_PATH)\n",
        "\n",
        "# Create list of dataframes\n",
        "newspapers = [newspapers_uk_df, newspapers_us_df, newspapers_in_df, newspapers_ng_df]\n",
        "dataframes = [gender_repr_uk_df, gender_repr_us_df, gender_repr_in_df, gender_repr_ng_df]"
      ]
    },
    {
      "cell_type": "code",
      "execution_count": 8,
      "metadata": {
        "colab": {
          "base_uri": "https://localhost:8080/",
          "height": 542
        },
        "id": "zTSocjOtGRMl",
        "outputId": "88d86612-6a0c-4fa3-cae7-de733be74024"
      },
      "outputs": [
        {
          "output_type": "display_data",
          "data": {
            "text/html": [
              "<html>\n",
              "<head><meta charset=\"utf-8\" /></head>\n",
              "<body>\n",
              "    <div>\n",
              "            <script src=\"https://cdnjs.cloudflare.com/ajax/libs/mathjax/2.7.5/MathJax.js?config=TeX-AMS-MML_SVG\"></script><script type=\"text/javascript\">if (window.MathJax) {MathJax.Hub.Config({SVG: {font: \"STIX-Web\"}});}</script>\n",
              "                <script type=\"text/javascript\">window.PlotlyConfig = {MathJaxConfig: 'local'};</script>\n",
              "        <script src=\"https://cdn.plot.ly/plotly-latest.min.js\"></script>    \n",
              "            <div id=\"c12506de-6782-4164-8b75-6d9c6e310eb7\" class=\"plotly-graph-div\" style=\"height:525px; width:100%;\"></div>\n",
              "            <script type=\"text/javascript\">\n",
              "                \n",
              "                    window.PLOTLYENV=window.PLOTLYENV || {};\n",
              "                    \n",
              "                if (document.getElementById(\"c12506de-6782-4164-8b75-6d9c6e310eb7\")) {\n",
              "                    Plotly.newPlot(\n",
              "                        'c12506de-6782-4164-8b75-6d9c6e310eb7',\n",
              "                        [{\"name\": \"male\", \"type\": \"bar\", \"x\": [\"The Sun\", \"The Guardian\", \"The Times\", \"Metro\", \"Evening Standard\", \"Daily Mirror\", \"The Daily Telegraph\", \"Daily Express\", \"Daily Star\", \"i\", \"Financial Times\", \"Daily Mail\", \"Daily Record\", \"City A.M.\"], \"y\": [45206.0, 20025.0, 4415.0, 978.0, 87386.0, 71682.0, 122909.0, 106847.0, 37445.0, 24003.0, 4922.0, 17746.0, 25019.0, 10564.0]}, {\"name\": \"female\", \"type\": \"bar\", \"x\": [\"The Sun\", \"The Guardian\", \"The Times\", \"Metro\", \"Evening Standard\", \"Daily Mirror\", \"The Daily Telegraph\", \"Daily Express\", \"Daily Star\", \"i\", \"Financial Times\", \"Daily Mail\", \"Daily Record\", \"City A.M.\"], \"y\": [25173.0, 6200.0, 1170.0, 503.0, 23184.0, 29211.0, 30005.0, 36721.0, 11986.0, 8393.0, 921.0, 4835.0, 6383.0, 1737.0]}, {\"name\": \"other\", \"type\": \"bar\", \"x\": [\"The Sun\", \"The Guardian\", \"The Times\", \"Metro\", \"Evening Standard\", \"Daily Mirror\", \"The Daily Telegraph\", \"Daily Express\", \"Daily Star\", \"i\", \"Financial Times\", \"Daily Mail\", \"Daily Record\", \"City A.M.\"], \"y\": [321.0, 55.0, 13.0, 13.0, 188.0, 536.0, 194.0, 189.0, 287.0, 119.0, 5.0, 65.0, 42.0, 3.0]}],\n",
              "                        {\"barmode\": \"stack\", \"template\": {\"data\": {\"bar\": [{\"error_x\": {\"color\": \"#2a3f5f\"}, \"error_y\": {\"color\": \"#2a3f5f\"}, \"marker\": {\"line\": {\"color\": \"#E5ECF6\", \"width\": 0.5}}, \"type\": \"bar\"}], \"barpolar\": [{\"marker\": {\"line\": {\"color\": \"#E5ECF6\", \"width\": 0.5}}, \"type\": \"barpolar\"}], \"carpet\": [{\"aaxis\": {\"endlinecolor\": \"#2a3f5f\", \"gridcolor\": \"white\", \"linecolor\": \"white\", \"minorgridcolor\": \"white\", \"startlinecolor\": \"#2a3f5f\"}, \"baxis\": {\"endlinecolor\": \"#2a3f5f\", \"gridcolor\": \"white\", \"linecolor\": \"white\", \"minorgridcolor\": \"white\", \"startlinecolor\": \"#2a3f5f\"}, \"type\": \"carpet\"}], \"choropleth\": [{\"colorbar\": {\"outlinewidth\": 0, \"ticks\": \"\"}, \"type\": \"choropleth\"}], \"contour\": [{\"colorbar\": {\"outlinewidth\": 0, \"ticks\": \"\"}, \"colorscale\": [[0.0, \"#0d0887\"], [0.1111111111111111, \"#46039f\"], [0.2222222222222222, \"#7201a8\"], [0.3333333333333333, \"#9c179e\"], [0.4444444444444444, \"#bd3786\"], [0.5555555555555556, \"#d8576b\"], [0.6666666666666666, \"#ed7953\"], [0.7777777777777778, \"#fb9f3a\"], [0.8888888888888888, \"#fdca26\"], [1.0, \"#f0f921\"]], \"type\": \"contour\"}], \"contourcarpet\": [{\"colorbar\": {\"outlinewidth\": 0, \"ticks\": \"\"}, \"type\": \"contourcarpet\"}], \"heatmap\": [{\"colorbar\": {\"outlinewidth\": 0, \"ticks\": \"\"}, \"colorscale\": [[0.0, \"#0d0887\"], [0.1111111111111111, \"#46039f\"], [0.2222222222222222, \"#7201a8\"], [0.3333333333333333, \"#9c179e\"], [0.4444444444444444, \"#bd3786\"], [0.5555555555555556, \"#d8576b\"], [0.6666666666666666, \"#ed7953\"], [0.7777777777777778, \"#fb9f3a\"], [0.8888888888888888, \"#fdca26\"], [1.0, \"#f0f921\"]], \"type\": \"heatmap\"}], \"heatmapgl\": [{\"colorbar\": {\"outlinewidth\": 0, \"ticks\": \"\"}, \"colorscale\": [[0.0, \"#0d0887\"], [0.1111111111111111, \"#46039f\"], [0.2222222222222222, \"#7201a8\"], [0.3333333333333333, \"#9c179e\"], [0.4444444444444444, \"#bd3786\"], [0.5555555555555556, \"#d8576b\"], [0.6666666666666666, \"#ed7953\"], [0.7777777777777778, \"#fb9f3a\"], [0.8888888888888888, \"#fdca26\"], [1.0, \"#f0f921\"]], \"type\": \"heatmapgl\"}], \"histogram\": [{\"marker\": {\"colorbar\": {\"outlinewidth\": 0, \"ticks\": \"\"}}, \"type\": \"histogram\"}], \"histogram2d\": [{\"colorbar\": {\"outlinewidth\": 0, \"ticks\": \"\"}, \"colorscale\": [[0.0, \"#0d0887\"], [0.1111111111111111, \"#46039f\"], [0.2222222222222222, \"#7201a8\"], [0.3333333333333333, \"#9c179e\"], [0.4444444444444444, \"#bd3786\"], [0.5555555555555556, \"#d8576b\"], [0.6666666666666666, \"#ed7953\"], [0.7777777777777778, \"#fb9f3a\"], [0.8888888888888888, \"#fdca26\"], [1.0, \"#f0f921\"]], \"type\": \"histogram2d\"}], \"histogram2dcontour\": [{\"colorbar\": {\"outlinewidth\": 0, \"ticks\": \"\"}, \"colorscale\": [[0.0, \"#0d0887\"], [0.1111111111111111, \"#46039f\"], [0.2222222222222222, \"#7201a8\"], [0.3333333333333333, \"#9c179e\"], [0.4444444444444444, \"#bd3786\"], [0.5555555555555556, \"#d8576b\"], [0.6666666666666666, \"#ed7953\"], [0.7777777777777778, \"#fb9f3a\"], [0.8888888888888888, \"#fdca26\"], [1.0, \"#f0f921\"]], \"type\": \"histogram2dcontour\"}], \"mesh3d\": [{\"colorbar\": {\"outlinewidth\": 0, \"ticks\": \"\"}, \"type\": \"mesh3d\"}], \"parcoords\": [{\"line\": {\"colorbar\": {\"outlinewidth\": 0, \"ticks\": \"\"}}, \"type\": \"parcoords\"}], \"pie\": [{\"automargin\": true, \"type\": \"pie\"}], \"scatter\": [{\"marker\": {\"colorbar\": {\"outlinewidth\": 0, \"ticks\": \"\"}}, \"type\": \"scatter\"}], \"scatter3d\": [{\"line\": {\"colorbar\": {\"outlinewidth\": 0, \"ticks\": \"\"}}, \"marker\": {\"colorbar\": {\"outlinewidth\": 0, \"ticks\": \"\"}}, \"type\": \"scatter3d\"}], \"scattercarpet\": [{\"marker\": {\"colorbar\": {\"outlinewidth\": 0, \"ticks\": \"\"}}, \"type\": \"scattercarpet\"}], \"scattergeo\": [{\"marker\": {\"colorbar\": {\"outlinewidth\": 0, \"ticks\": \"\"}}, \"type\": \"scattergeo\"}], \"scattergl\": [{\"marker\": {\"colorbar\": {\"outlinewidth\": 0, \"ticks\": \"\"}}, \"type\": \"scattergl\"}], \"scattermapbox\": [{\"marker\": {\"colorbar\": {\"outlinewidth\": 0, \"ticks\": \"\"}}, \"type\": \"scattermapbox\"}], \"scatterpolar\": [{\"marker\": {\"colorbar\": {\"outlinewidth\": 0, \"ticks\": \"\"}}, \"type\": \"scatterpolar\"}], \"scatterpolargl\": [{\"marker\": {\"colorbar\": {\"outlinewidth\": 0, \"ticks\": \"\"}}, \"type\": \"scatterpolargl\"}], \"scatterternary\": [{\"marker\": {\"colorbar\": {\"outlinewidth\": 0, \"ticks\": \"\"}}, \"type\": \"scatterternary\"}], \"surface\": [{\"colorbar\": {\"outlinewidth\": 0, \"ticks\": \"\"}, \"colorscale\": [[0.0, \"#0d0887\"], [0.1111111111111111, \"#46039f\"], [0.2222222222222222, \"#7201a8\"], [0.3333333333333333, \"#9c179e\"], [0.4444444444444444, \"#bd3786\"], [0.5555555555555556, \"#d8576b\"], [0.6666666666666666, \"#ed7953\"], [0.7777777777777778, \"#fb9f3a\"], [0.8888888888888888, \"#fdca26\"], [1.0, \"#f0f921\"]], \"type\": \"surface\"}], \"table\": [{\"cells\": {\"fill\": {\"color\": \"#EBF0F8\"}, \"line\": {\"color\": \"white\"}}, \"header\": {\"fill\": {\"color\": \"#C8D4E3\"}, \"line\": {\"color\": \"white\"}}, \"type\": \"table\"}]}, \"layout\": {\"annotationdefaults\": {\"arrowcolor\": \"#2a3f5f\", \"arrowhead\": 0, \"arrowwidth\": 1}, \"coloraxis\": {\"colorbar\": {\"outlinewidth\": 0, \"ticks\": \"\"}}, \"colorscale\": {\"diverging\": [[0, \"#8e0152\"], [0.1, \"#c51b7d\"], [0.2, \"#de77ae\"], [0.3, \"#f1b6da\"], [0.4, \"#fde0ef\"], [0.5, \"#f7f7f7\"], [0.6, \"#e6f5d0\"], [0.7, \"#b8e186\"], [0.8, \"#7fbc41\"], [0.9, \"#4d9221\"], [1, \"#276419\"]], \"sequential\": [[0.0, \"#0d0887\"], [0.1111111111111111, \"#46039f\"], [0.2222222222222222, \"#7201a8\"], [0.3333333333333333, \"#9c179e\"], [0.4444444444444444, \"#bd3786\"], [0.5555555555555556, \"#d8576b\"], [0.6666666666666666, \"#ed7953\"], [0.7777777777777778, \"#fb9f3a\"], [0.8888888888888888, \"#fdca26\"], [1.0, \"#f0f921\"]], \"sequentialminus\": [[0.0, \"#0d0887\"], [0.1111111111111111, \"#46039f\"], [0.2222222222222222, \"#7201a8\"], [0.3333333333333333, \"#9c179e\"], [0.4444444444444444, \"#bd3786\"], [0.5555555555555556, \"#d8576b\"], [0.6666666666666666, \"#ed7953\"], [0.7777777777777778, \"#fb9f3a\"], [0.8888888888888888, \"#fdca26\"], [1.0, \"#f0f921\"]]}, \"colorway\": [\"#636efa\", \"#EF553B\", \"#00cc96\", \"#ab63fa\", \"#FFA15A\", \"#19d3f3\", \"#FF6692\", \"#B6E880\", \"#FF97FF\", \"#FECB52\"], \"font\": {\"color\": \"#2a3f5f\"}, \"geo\": {\"bgcolor\": \"white\", \"lakecolor\": \"white\", \"landcolor\": \"#E5ECF6\", \"showlakes\": true, \"showland\": true, \"subunitcolor\": \"white\"}, \"hoverlabel\": {\"align\": \"left\"}, \"hovermode\": \"closest\", \"mapbox\": {\"style\": \"light\"}, \"paper_bgcolor\": \"white\", \"plot_bgcolor\": \"#E5ECF6\", \"polar\": {\"angularaxis\": {\"gridcolor\": \"white\", \"linecolor\": \"white\", \"ticks\": \"\"}, \"bgcolor\": \"#E5ECF6\", \"radialaxis\": {\"gridcolor\": \"white\", \"linecolor\": \"white\", \"ticks\": \"\"}}, \"scene\": {\"xaxis\": {\"backgroundcolor\": \"#E5ECF6\", \"gridcolor\": \"white\", \"gridwidth\": 2, \"linecolor\": \"white\", \"showbackground\": true, \"ticks\": \"\", \"zerolinecolor\": \"white\"}, \"yaxis\": {\"backgroundcolor\": \"#E5ECF6\", \"gridcolor\": \"white\", \"gridwidth\": 2, \"linecolor\": \"white\", \"showbackground\": true, \"ticks\": \"\", \"zerolinecolor\": \"white\"}, \"zaxis\": {\"backgroundcolor\": \"#E5ECF6\", \"gridcolor\": \"white\", \"gridwidth\": 2, \"linecolor\": \"white\", \"showbackground\": true, \"ticks\": \"\", \"zerolinecolor\": \"white\"}}, \"shapedefaults\": {\"line\": {\"color\": \"#2a3f5f\"}}, \"ternary\": {\"aaxis\": {\"gridcolor\": \"white\", \"linecolor\": \"white\", \"ticks\": \"\"}, \"baxis\": {\"gridcolor\": \"white\", \"linecolor\": \"white\", \"ticks\": \"\"}, \"bgcolor\": \"#E5ECF6\", \"caxis\": {\"gridcolor\": \"white\", \"linecolor\": \"white\", \"ticks\": \"\"}}, \"title\": {\"x\": 0.05}, \"xaxis\": {\"automargin\": true, \"gridcolor\": \"white\", \"linecolor\": \"white\", \"ticks\": \"\", \"title\": {\"standoff\": 15}, \"zerolinecolor\": \"white\", \"zerolinewidth\": 2}, \"yaxis\": {\"automargin\": true, \"gridcolor\": \"white\", \"linecolor\": \"white\", \"ticks\": \"\", \"title\": {\"standoff\": 15}, \"zerolinecolor\": \"white\", \"zerolinewidth\": 2}}}, \"title\": {\"text\": \"Counts of quotes per gender for UK (2019)\"}, \"xaxis\": {\"categoryorder\": \"total descending\"}},\n",
              "                        {\"responsive\": true}\n",
              "                    ).then(function(){\n",
              "                            \n",
              "var gd = document.getElementById('c12506de-6782-4164-8b75-6d9c6e310eb7');\n",
              "var x = new MutationObserver(function (mutations, observer) {{\n",
              "        var display = window.getComputedStyle(gd).display;\n",
              "        if (!display || display === 'none') {{\n",
              "            console.log([gd, 'removed!']);\n",
              "            Plotly.purge(gd);\n",
              "            observer.disconnect();\n",
              "        }}\n",
              "}});\n",
              "\n",
              "// Listen for the removal of the full notebook cells\n",
              "var notebookContainer = gd.closest('#notebook-container');\n",
              "if (notebookContainer) {{\n",
              "    x.observe(notebookContainer, {childList: true});\n",
              "}}\n",
              "\n",
              "// Listen for the clearing of the current output cell\n",
              "var outputEl = gd.closest('.output');\n",
              "if (outputEl) {{\n",
              "    x.observe(outputEl, {childList: true});\n",
              "}}\n",
              "\n",
              "                        })\n",
              "                };\n",
              "                \n",
              "            </script>\n",
              "        </div>\n",
              "</body>\n",
              "</html>"
            ]
          },
          "metadata": {}
        }
      ],
      "source": [
        "x = newspapers_uk_df['name'].to_list()\n",
        "y = gender_repr_uk_df[gender_repr_uk_df['date'].dt.year == 2019]\n",
        "\n",
        "y = y.groupby('newspaper').sum()\n",
        "y = y.loc[x] # sort\n",
        "\n",
        "y1 = y['counts_male']\n",
        "y2 = y['counts_female']\n",
        "y3 = y['counts_other']\n",
        "\n",
        "fig = go.Figure(go.Bar(x=x, y=y1, name='male'))\n",
        "fig.add_trace(go.Bar(x=x, y=y2, name='female'))\n",
        "fig.add_trace(go.Bar(x=x, y=y3, name='other'))\n",
        "\n",
        "fig.update_layout(barmode='stack',\n",
        "                  xaxis={'categoryorder':'total descending'},\n",
        "                  title_text=\"Counts of quotes per gender for UK (2019)\",\n",
        ")\n",
        "fig.show()\n",
        "\n",
        "# Output html that you can copy paste\n",
        "fig.to_html(full_html=False, include_plotlyjs='cdn')  \n",
        "# Saves a html doc that you can copy paste\n",
        "fig.write_html(\"docs/_includes/fig_counts_uk_2019.html\", full_html=False, include_plotlyjs='cdn')"
      ]
    },
    {
      "cell_type": "code",
      "execution_count": null,
      "metadata": {
        "colab": {
          "base_uri": "https://localhost:8080/",
          "height": 542
        },
        "id": "ZSod_Y7v3BBR",
        "outputId": "7d105b5c-2f0e-4455-a74f-06d156c8be7a"
      },
      "outputs": [
        {
          "output_type": "display_data",
          "data": {
            "text/html": [
              "<html>\n",
              "<head><meta charset=\"utf-8\" /></head>\n",
              "<body>\n",
              "    <div>\n",
              "            <script src=\"https://cdnjs.cloudflare.com/ajax/libs/mathjax/2.7.5/MathJax.js?config=TeX-AMS-MML_SVG\"></script><script type=\"text/javascript\">if (window.MathJax) {MathJax.Hub.Config({SVG: {font: \"STIX-Web\"}});}</script>\n",
              "                <script type=\"text/javascript\">window.PlotlyConfig = {MathJaxConfig: 'local'};</script>\n",
              "        <script src=\"https://cdn.plot.ly/plotly-latest.min.js\"></script>    \n",
              "            <div id=\"454bd044-dba7-48e7-8702-4fa2fd881a06\" class=\"plotly-graph-div\" style=\"height:525px; width:100%;\"></div>\n",
              "            <script type=\"text/javascript\">\n",
              "                \n",
              "                    window.PLOTLYENV=window.PLOTLYENV || {};\n",
              "                    \n",
              "                if (document.getElementById(\"454bd044-dba7-48e7-8702-4fa2fd881a06\")) {\n",
              "                    Plotly.newPlot(\n",
              "                        '454bd044-dba7-48e7-8702-4fa2fd881a06',\n",
              "                        [{\"legendgroup\": \"0\", \"name\": \"The Sun\", \"type\": \"scatter\", \"x\": [\"2015-01\", \"2015-02\", \"2015-03\", \"2015-04\", \"2015-05\", \"2015-06\", \"2015-07\", \"2015-08\", \"2015-09\", \"2015-10\", \"2015-11\", \"2015-12\", \"2016-01\", \"2016-02\", \"2016-03\", \"2016-04\", \"2016-05\", \"2016-06\", \"2016-07\", \"2016-08\", \"2016-09\", \"2016-10\", \"2016-11\", \"2016-12\", \"2017-01\", \"2017-02\", \"2017-03\", \"2017-04\", \"2017-05\", \"2017-06\", \"2017-07\", \"2017-08\", \"2017-09\", \"2017-10\", \"2017-11\", \"2017-12\", \"2018-01\", \"2018-02\", \"2018-03\", \"2018-04\", \"2018-05\", \"2018-06\", \"2018-07\", \"2018-08\", \"2018-09\", \"2018-10\", \"2018-11\", \"2018-12\", \"2019-01\", \"2019-02\", \"2019-03\", \"2019-04\", \"2019-05\", \"2019-06\", \"2019-07\", \"2019-08\", \"2019-09\", \"2019-10\", \"2019-11\", \"2019-12\", \"2020-01\", \"2020-02\", \"2020-03\", \"2020-04\"], \"xaxis\": \"x\", \"y\": [0.39325842696629215, 0.30666666666666664, 0.30864197530864196, 0.4, 0.3968253968253968, 0.4098360655737705, 0.4479166666666667, 0.3816793893129771, 0.291044776119403, 0.363013698630137, 0.4074074074074074, 0.41353383458646614, 0.25, 0.36936936936936937, 0.2, 0.40707964601769914, 0.45955882352941174, 0.3877551020408163, 0.368, 0.35399750156152404, 0.3413417951042611, 0.15384615384615385, 0.27692307692307694, 0.34044308272448737, 0.3317972350230415, 0.3995703544575725, 0.3595288665765592, 0.3409020217729393, 0.347069065583285, 0.4435326299335678, 0.37579462102689487, 0.3645314209310806, 0.37755775577557754, 0.34098233853293797, 0.3700222606975019, 0.37990762124711314, 0.40262008733624455, 0.4259723964868256, 0.41261819367460056, 0.42769500438212094, 0.40821812596006146, 0.34161629729124693, 0.38287098194627917, 0.38385714285714284, 0.3914697093181201, 0.38096497025776604, 0.3741125760649087, 0.37546690572239655, 0.36991199119911994, 0.39063462723351816, 0.3586406362979031, 0.37170263788968827, 0.3607605310604819, 0.31923727510379823, 0.3414880711686211, 0.3751735078326393, 0.3572443181818182, 0.3360668420238279, 0.33488205861329523, 0.3584466019417476, 0.37176659314216964, 0.3470024515266325, 0.31154567372086794, 0.3146811070998797], \"yaxis\": \"y\"}, {\"legendgroup\": \"0\", \"name\": \"The Guardian\", \"type\": \"scatter\", \"x\": [\"2015-01\", \"2015-02\", \"2015-03\", \"2015-04\", \"2015-05\", \"2015-06\", \"2015-07\", \"2015-08\", \"2015-09\", \"2015-10\", \"2015-11\", \"2015-12\", \"2016-01\", \"2016-02\", \"2016-03\", \"2016-04\", \"2016-05\", \"2016-06\", \"2016-07\", \"2016-08\", \"2016-09\", \"2016-10\", \"2016-11\", \"2016-12\", \"2017-01\", \"2017-02\", \"2017-03\", \"2017-04\", \"2017-05\", \"2017-06\", \"2017-07\", \"2017-08\", \"2017-09\", \"2017-10\", \"2017-11\", \"2017-12\", \"2018-01\", \"2018-02\", \"2018-03\", \"2018-04\", \"2018-05\", \"2018-06\", \"2018-07\", \"2018-08\", \"2018-09\", \"2018-10\", \"2018-11\", \"2018-12\", \"2019-01\", \"2019-02\", \"2019-03\", \"2019-04\", \"2019-05\", \"2019-06\", \"2019-07\", \"2019-08\", \"2019-09\", \"2019-10\", \"2019-11\", \"2019-12\", \"2020-01\", \"2020-02\", \"2020-03\", \"2020-04\"], \"xaxis\": \"x\", \"y\": [0.17269254194119926, 0.18032786885245902, 0.1767737416191334, 0.1791907514450867, 0.16724104298068795, 0.20346320346320346, 0.1959005856306242, 0.18603546548448385, 0.1929146391377507, 0.18960343474447164, 0.1866429840142096, 0.1969070067150512, 0.1611185086551265, 0.18558749503245464, 0.18269230769230768, 0.15299026425591097, 0.20535714285714285, 0.17178612059158135, 0.1927007299270073, 0.18450704225352113, 0.13548387096774195, 0.20761904761904762, 0.15324384787472037, 0.30980392156862746, 0.20491803278688525, 0.19047619047619047, 0.2562814070351759, 0.23214285714285715, 0.12962962962962962, 0.25824175824175827, 0.15807962529274006, 0.21523653491705919, 0.2053894927536232, 0.2280211245728487, 0.2203891708967851, 0.21434820647419073, 0.27880184331797236, 0.1995503091624508, 0.2466802860061287, 0.27324973876698017, 0.24564537740062528, 0.23746249464209174, 0.24922440537745605, 0.25137903861308114, 0.24393358876117496, 0.24029574861367836, 0.24269557021677662, 0.24659606656580937, 0.23517786561264822, 0.18563751831949193, 0.2862577270565858, 0.1860559383867045, 0.22727272727272727, 0.3128834355828221, 0.26924987580725285, 0.2590934527140459, 0.23837209302325582, 0.19925373134328359, 0.2203757225433526, 0.22556390977443608, 0.25177025963808025, 0.21605584642233858, 0.2540587977182975, 0.225], \"yaxis\": \"y\"}, {\"legendgroup\": \"0\", \"name\": \"The Times\", \"type\": \"scatter\", \"x\": [\"2015-01\", \"2015-02\", \"2015-03\", \"2015-04\", \"2015-05\", \"2015-06\", \"2015-07\", \"2015-08\", \"2015-09\", \"2015-10\", \"2015-11\", \"2015-12\", \"2016-01\", \"2016-02\", \"2016-04\", \"2016-05\", \"2016-06\", \"2016-07\", \"2016-08\", \"2016-09\", \"2016-11\", \"2016-12\", \"2017-02\", \"2017-03\", \"2017-04\", \"2017-05\", \"2017-06\", \"2017-07\", \"2017-08\", \"2017-09\", \"2017-10\", \"2017-11\", \"2017-12\", \"2018-01\", \"2018-02\", \"2018-03\", \"2018-04\", \"2018-05\", \"2018-06\", \"2018-07\", \"2018-08\", \"2018-09\", \"2018-10\", \"2018-11\", \"2018-12\", \"2019-01\", \"2019-02\", \"2019-03\", \"2019-04\", \"2019-05\", \"2019-06\", \"2019-07\", \"2019-08\", \"2019-09\", \"2019-10\", \"2019-11\", \"2019-12\", \"2020-01\", \"2020-02\", \"2020-03\", \"2020-04\"], \"xaxis\": \"x\", \"y\": [0.1702127659574468, 0.13286713286713286, 0.11538461538461539, 0.2647058823529412, 0.13793103448275862, 0.15730337078651685, 0.11904761904761904, 0.20121951219512196, 0.20155038759689922, 0.2146118721461187, 0.14358974358974358, 0.17813765182186234, 0.2222222222222222, 0.21782178217821782, 0.12121212121212122, 0.19742489270386265, 0.2, 0.22427440633245382, 0.23169107856191745, 0.19500594530321047, 0.4, 0.16842105263157894, 0.15625, 0.1956521739130435, 0.24603174603174602, 0.22818791946308725, 0.30344827586206896, 0.25675675675675674, 0.19148936170212766, 0.12037037037037036, 0.28205128205128205, 0.23809523809523808, 0.07142857142857142, 0.41935483870967744, 0.1875, 0.19444444444444445, 0.35294117647058826, 0.1875, 0.10638297872340426, 0.22875816993464052, 0.19281045751633988, 0.21301775147928995, 0.21205357142857142, 0.21651376146788992, 0.1957547169811321, 0.2036036036036036, 0.1975560081466395, 0.22283609576427257, 0.2148997134670487, 0.23539823008849559, 0.21611001964636542, 0.2139917695473251, 0.1867007672634271, 0.20543293718166383, 0.19413919413919414, 0.20386266094420602, 0.21082621082621084, 0.23344947735191637, 0.20689655172413793, 0.25365853658536586, 0.11180124223602485], \"yaxis\": \"y\"}, {\"legendgroup\": \"0\", \"name\": \"Metro\", \"type\": \"scatter\", \"x\": [\"2015-01\", \"2015-02\", \"2015-03\", \"2015-05\", \"2015-06\", \"2015-08\", \"2015-09\", \"2015-10\", \"2015-11\", \"2015-12\", \"2016-02\", \"2016-04\", \"2016-05\", \"2016-07\", \"2016-08\", \"2016-09\", \"2016-11\", \"2016-12\", \"2017-01\", \"2017-02\", \"2017-03\", \"2017-04\", \"2017-05\", \"2017-06\", \"2017-07\", \"2017-08\", \"2017-09\", \"2017-10\", \"2017-11\", \"2017-12\", \"2018-01\", \"2018-02\", \"2018-03\", \"2018-04\", \"2018-05\", \"2018-06\", \"2018-07\", \"2018-08\", \"2018-09\", \"2018-10\", \"2018-11\", \"2018-12\", \"2019-01\", \"2019-02\", \"2019-03\", \"2019-04\", \"2019-05\", \"2019-06\", \"2019-07\", \"2019-08\", \"2019-09\", \"2019-10\", \"2019-11\", \"2019-12\", \"2020-01\", \"2020-02\", \"2020-03\", \"2020-04\"], \"xaxis\": \"x\", \"y\": [0.5, 0.4, 0.5, 0.6666666666666666, 0.6666666666666666, 0.2, 0.125, 0.2, 0.36363636363636365, 0.13333333333333333, 0.2, 0.4090909090909091, 0.4, 0.28, 0.18867924528301888, 0.22641509433962265, 1.0, 0.35294117647058826, 0.2, 0.3333333333333333, 0.42857142857142855, 0.3253012048192771, 0.36, 0.42, 0.38666666666666666, 0.39869281045751637, 0.30701754385964913, 0.33783783783783783, 0.36470588235294116, 0.17647058823529413, 0.4666666666666667, 0.4444444444444444, 0.5, 0.39473684210526316, 0.375, 0.5061728395061729, 0.28846153846153844, 0.391304347826087, 0.4, 0.20224719101123595, 0.3567567567567568, 0.3798449612403101, 0.22807017543859648, 0.3048780487804878, 0.31333333333333335, 0.4567901234567901, 0.3197278911564626, 0.4064516129032258, 0.42168674698795183, 0.3020833333333333, 0.2641509433962264, 0.3559322033898305, 0.3375796178343949, 0.3543307086614173, 0.2857142857142857, 0.2857142857142857, 0.44155844155844154, 0.26666666666666666], \"yaxis\": \"y\"}, {\"legendgroup\": \"0\", \"name\": \"Evening Standard\", \"type\": \"scatter\", \"x\": [\"2015-01\", \"2015-02\", \"2015-03\", \"2015-04\", \"2015-05\", \"2015-06\", \"2015-07\", \"2015-08\", \"2015-09\", \"2015-10\", \"2015-11\", \"2015-12\", \"2016-01\", \"2016-02\", \"2016-03\", \"2016-04\", \"2016-05\", \"2016-06\", \"2016-07\", \"2016-08\", \"2016-09\", \"2016-10\", \"2016-11\", \"2016-12\", \"2017-01\", \"2017-02\", \"2017-03\", \"2017-04\", \"2017-05\", \"2017-06\", \"2017-07\", \"2017-08\", \"2017-09\", \"2017-10\", \"2017-11\", \"2017-12\", \"2018-01\", \"2018-02\", \"2018-03\", \"2018-04\", \"2018-05\", \"2018-06\", \"2018-07\", \"2018-08\", \"2018-09\", \"2018-10\", \"2018-11\", \"2018-12\", \"2019-01\", \"2019-02\", \"2019-03\", \"2019-04\", \"2019-05\", \"2019-06\", \"2019-07\", \"2019-08\", \"2019-09\", \"2019-10\", \"2019-11\", \"2019-12\", \"2020-01\", \"2020-02\", \"2020-03\", \"2020-04\"], \"xaxis\": \"x\", \"y\": [0.1638986013986014, 0.1882396449704142, 0.18886198547215496, 0.2266541529798217, 0.19047619047619047, 0.22526193247962747, 0.1769890424011434, 0.166579452293738, 0.1762652705061082, 0.15049879600963192, 0.17404333794375287, 0.1487408184679958, 0.13793103448275862, 0.20891514500537056, 0.4, 0.17346000612932883, 0.17387934375403694, 0.29411764705882354, 0.20454845960597645, 0.21262905880592547, 0.20781833860304685, 0.16666666666666666, 0.19696969696969696, 0.16530278232405893, 0.29310344827586204, 0.20029455081001474, 0.18282171480417359, 0.16897428652161628, 0.18834785092103384, 0.19189360354654844, 0.20590855106888362, 0.20757850241545894, 0.18988596926127913, 0.20236516357206014, 0.17627118644067796, 0.1901958099411201, 0.22961480740370185, 0.2378660575903418, 0.19953917050691244, 0.22013765541740674, 0.19000725614180575, 0.17700892857142858, 0.2042965459140691, 0.19637030995106036, 0.17570429993645414, 0.21925949722913823, 0.19962931500501968, 0.19822901992352587, 0.23293323330832708, 0.25071736011477763, 0.2156542658303978, 0.24385672636401498, 0.22805970149253732, 0.21012171684817424, 0.21073269101501232, 0.19170146840899907, 0.18008800880088008, 0.17735916118713346, 0.1763380281690141, 0.20760611937082527, 0.19680801707339704, 0.1972615456022279, 0.19622437971952536, 0.17732175743225467], \"yaxis\": \"y\"}, {\"legendgroup\": \"0\", \"name\": \"Daily Mirror\", \"type\": \"scatter\", \"x\": [\"2015-01\", \"2015-02\", \"2015-03\", \"2015-04\", \"2015-05\", \"2015-06\", \"2015-07\", \"2015-08\", \"2015-09\", \"2015-10\", \"2015-11\", \"2015-12\", \"2016-01\", \"2016-02\", \"2016-03\", \"2016-04\", \"2016-05\", \"2016-06\", \"2016-07\", \"2016-08\", \"2016-09\", \"2016-10\", \"2016-11\", \"2016-12\", \"2017-01\", \"2017-02\", \"2017-03\", \"2017-04\", \"2017-05\", \"2017-06\", \"2017-07\", \"2017-08\", \"2017-09\", \"2017-10\", \"2017-11\", \"2017-12\", \"2018-01\", \"2018-02\", \"2018-03\", \"2018-04\", \"2018-05\", \"2018-06\", \"2018-07\", \"2018-08\", \"2018-09\", \"2018-10\", \"2018-11\", \"2018-12\", \"2019-01\", \"2019-02\", \"2019-03\", \"2019-04\", \"2019-05\", \"2019-06\", \"2019-07\", \"2019-08\", \"2019-09\", \"2019-10\", \"2019-11\", \"2019-12\", \"2020-01\", \"2020-02\", \"2020-03\", \"2020-04\"], \"xaxis\": \"x\", \"y\": [0.2781085814360771, 0.234984520123839, 0.22559740785743215, 0.26167907921462424, 0.2523120701920797, 0.26864955624850084, 0.26283748014822655, 0.2645127850725639, 0.2625364633976941, 0.22181959363271644, 0.20929880357413297, 0.224089276552078, 0.1875, 0.21574848572252667, 0.4, 0.24118285404232231, 0.2562574493444577, 0.3645833333333333, 0.2884892086330935, 0.27075471698113207, 0.2474053295932679, 0.2857142857142857, 0.37, 0.24750034241884675, 0.312, 0.28520935290918975, 0.24869255591409814, 0.23336790635649726, 0.23715368221643382, 0.26816074188562594, 0.26003917727717923, 0.28196223138701976, 0.2747472620050548, 0.2757471920807158, 0.26921815199562604, 0.26356295735553875, 0.2913657770800628, 0.2895762011568882, 0.2922265352841644, 0.2866809116809117, 0.28936071470008123, 0.27561162079510704, 0.28581997533908754, 0.30381660158710166, 0.2814605520539013, 0.27847721822541965, 0.27651288196524865, 0.292080378250591, 0.28937007874015747, 0.2982627578718784, 0.289759222899659, 0.2952683702164079, 0.27316040232927474, 0.2737393582187295, 0.306841046277666, 0.29051946290519465, 0.28010181496237274, 0.29699789520327907, 0.28114675476926354, 0.28643284393692225, 0.3142424624700391, 0.298683404776485, 0.3199047793444424, 0.2798869143780291], \"yaxis\": \"y\"}, {\"legendgroup\": \"0\", \"name\": \"The Daily Telegraph\", \"type\": \"scatter\", \"x\": [\"2015-01\", \"2015-02\", \"2015-03\", \"2015-04\", \"2015-05\", \"2015-06\", \"2015-07\", \"2015-08\", \"2015-09\", \"2015-10\", \"2015-11\", \"2015-12\", \"2016-01\", \"2016-02\", \"2016-03\", \"2016-04\", \"2016-05\", \"2016-06\", \"2016-07\", \"2016-08\", \"2016-09\", \"2016-10\", \"2016-11\", \"2016-12\", \"2017-01\", \"2017-02\", \"2017-03\", \"2017-04\", \"2017-05\", \"2017-06\", \"2017-07\", \"2017-08\", \"2017-09\", \"2017-10\", \"2017-11\", \"2017-12\", \"2018-01\", \"2018-02\", \"2018-03\", \"2018-04\", \"2018-05\", \"2018-06\", \"2018-07\", \"2018-08\", \"2018-09\", \"2018-10\", \"2018-11\", \"2018-12\", \"2019-01\", \"2019-02\", \"2019-03\", \"2019-04\", \"2019-05\", \"2019-06\", \"2019-07\", \"2019-08\", \"2019-09\", \"2019-10\", \"2019-11\", \"2019-12\", \"2020-01\", \"2020-02\", \"2020-03\", \"2020-04\"], \"xaxis\": \"x\", \"y\": [0.15356749094345568, 0.14304045893719808, 0.14201570680628273, 0.15972411289590707, 0.1635941130906274, 0.16459310626147255, 0.16354451694380132, 0.1759314604502889, 0.1746511915051241, 0.16840707430433996, 0.16859434360489658, 0.1732082613346499, 0.20075757575757575, 0.1719734928074996, 0.375, 0.1797165267648273, 0.1752425137072965, 0.1728395061728395, 0.2041875604820973, 0.18249218401071907, 0.18062692702980473, 0.05128205128205128, 0.18421052631578946, 0.1785580172737514, 0.26857142857142857, 0.18358066060315942, 0.1816572702242035, 0.16180692911376252, 0.18325212651746633, 0.1795020266357846, 0.18219110262394794, 0.21172398138690274, 0.18760082968425904, 0.18164469118667592, 0.16934619506966775, 0.16977152899824252, 0.18446491527351302, 0.18647782835946722, 0.1708517971442639, 0.18270924266789187, 0.16056795705001412, 0.18107727643179966, 0.18494673104928336, 0.16481212707627801, 0.16360706278026907, 0.1893758300132802, 0.18187804556828657, 0.176406289413941, 0.2008816120906801, 0.22608883605317195, 0.19541263773330336, 0.1922537187763121, 0.20212834569493712, 0.22110515887576135, 0.20370047128643742, 0.16382042253521126, 0.18051205229470244, 0.1834655316953634, 0.19334400891178724, 0.19691879046136196, 0.20166980244590782, 0.2083452824777746, 0.20102007772020725, 0.18092621664050235], \"yaxis\": \"y\"}, {\"legendgroup\": \"0\", \"name\": \"Daily Express\", \"type\": \"scatter\", \"x\": [\"2015-01\", \"2015-02\", \"2015-03\", \"2015-04\", \"2015-05\", \"2015-06\", \"2015-07\", \"2015-08\", \"2015-09\", \"2015-10\", \"2015-11\", \"2015-12\", \"2016-01\", \"2016-02\", \"2016-03\", \"2016-04\", \"2016-05\", \"2016-06\", \"2016-07\", \"2016-08\", \"2016-09\", \"2016-10\", \"2016-11\", \"2016-12\", \"2017-01\", \"2017-02\", \"2017-03\", \"2017-04\", \"2017-05\", \"2017-06\", \"2017-07\", \"2017-08\", \"2017-09\", \"2017-10\", \"2017-11\", \"2017-12\", \"2018-01\", \"2018-02\", \"2018-03\", \"2018-04\", \"2018-05\", \"2018-06\", \"2018-07\", \"2018-08\", \"2018-09\", \"2018-10\", \"2018-11\", \"2018-12\", \"2019-01\", \"2019-02\", \"2019-03\", \"2019-04\", \"2019-05\", \"2019-06\", \"2019-07\", \"2019-08\", \"2019-09\", \"2019-10\", \"2019-11\", \"2019-12\", \"2020-01\", \"2020-02\", \"2020-03\", \"2020-04\"], \"xaxis\": \"x\", \"y\": [0.2322689075630252, 0.25414169897779343, 0.24064516129032257, 0.21308016877637131, 0.155631013016412, 0.1699552749276506, 0.13714285714285715, 0.13805970149253732, 0.14495028780743066, 0.17195982627578718, 0.20157831531995196, 0.20092177379172896, 0.15348837209302327, 0.16280309086064482, 0.1875, 0.206858407079646, 0.20009756097560977, 0.2229299363057325, 0.236117381489842, 0.23795805485134824, 0.228386749259359, 0.2608695652173913, 0.1657754010695187, 0.20386890787867407, 0.19014084507042253, 0.2559836544074723, 0.2658580560563842, 0.20159694260560979, 0.24467565114168005, 0.227028774652441, 0.22801894238358328, 0.1823734729493892, 0.22535449020931803, 0.18399415311529327, 0.18590536135776103, 0.15655021834061136, 0.19777270897625118, 0.20737605804111245, 0.18321940758611446, 0.2147636749867233, 0.2418355686533951, 0.24640385194101716, 0.2306933697466242, 0.19822799763733018, 0.23493211521380536, 0.21268524007113218, 0.14560236511456023, 0.194775311315647, 0.23369672943508424, 0.21011115095016134, 0.23963679431504145, 0.2929061784897025, 0.2697882376062497, 0.2554429213224283, 0.24946163436472854, 0.1795844327176781, 0.266966929911155, 0.24768505368403113, 0.25441996283514734, 0.26920219878175605, 0.2600169471008352, 0.23749146591241588, 0.2269338754961758, 0.21869208366428383], \"yaxis\": \"y\"}, {\"legendgroup\": \"0\", \"name\": \"Daily Star\", \"type\": \"scatter\", \"x\": [\"2015-01\", \"2015-02\", \"2015-03\", \"2015-04\", \"2015-05\", \"2015-06\", \"2015-07\", \"2015-08\", \"2015-09\", \"2015-10\", \"2015-11\", \"2015-12\", \"2016-01\", \"2016-02\", \"2016-03\", \"2016-04\", \"2016-05\", \"2016-06\", \"2016-07\", \"2016-08\", \"2016-09\", \"2016-10\", \"2016-11\", \"2016-12\", \"2017-01\", \"2017-02\", \"2017-03\", \"2017-04\", \"2017-05\", \"2017-06\", \"2017-07\", \"2017-08\", \"2017-09\", \"2017-10\", \"2017-11\", \"2017-12\", \"2018-01\", \"2018-02\", \"2018-03\", \"2018-04\", \"2018-05\", \"2018-06\", \"2018-07\", \"2018-08\", \"2018-09\", \"2018-10\", \"2018-11\", \"2018-12\", \"2019-01\", \"2019-02\", \"2019-03\", \"2019-04\", \"2019-05\", \"2019-06\", \"2019-07\", \"2019-08\", \"2019-09\", \"2019-10\", \"2019-11\", \"2019-12\", \"2020-01\", \"2020-02\", \"2020-03\", \"2020-04\"], \"xaxis\": \"x\", \"y\": [0.23925896728419394, 0.23779277491067885, 0.18931101094655506, 0.18261199696279423, 0.1711051930758988, 0.2209991532599492, 0.15384615384615385, 0.26356589147286824, 0.20382165605095542, 0.18374558303886926, 0.15447470817120623, 0.14381563593932323, 0.10606060606060606, 0.13783323879750425, 0.16666666666666666, 0.17228464419475656, 0.17829457364341086, 0.4642857142857143, 0.19406007424907187, 0.20341922695738354, 0.2125588187570988, 0.045454545454545456, 0.30303030303030304, 0.19457714654615882, 0.36363636363636365, 0.2634514435695538, 0.27858223470931487, 0.256081438392385, 0.2890572765767774, 0.3172814207650273, 0.2667970138642019, 0.2459954233409611, 0.23091222945160006, 0.22436964034301804, 0.21014799154334038, 0.19778243931675157, 0.23834760157630114, 0.24632411067193677, 0.2547028963869812, 0.2413573363071531, 0.2316289038579302, 0.22929150511103277, 0.2599639166803346, 0.2382500738989063, 0.2223165040305473, 0.23274584088288586, 0.22641509433962265, 0.19284862932061977, 0.22008770098141575, 0.18529345626264898, 0.22416169039963252, 0.2127583749109052, 0.2143318269851517, 0.22703180212014135, 0.25774754346182915, 0.29331476323119776, 0.32265661799340556, 0.26772877404313195, 0.2280481235410307, 0.24871355060034306, 0.26253101736972706, 0.24068698597000485, 0.25029002320185617, 0.29693076374018557], \"yaxis\": \"y\"}, {\"legendgroup\": \"0\", \"name\": \"i\", \"type\": \"scatter\", \"x\": [\"2015-01\", \"2015-02\", \"2015-03\", \"2015-04\", \"2015-05\", \"2015-06\", \"2015-07\", \"2015-08\", \"2015-09\", \"2015-10\", \"2015-11\", \"2015-12\", \"2016-01\", \"2016-02\", \"2016-04\", \"2016-05\", \"2016-06\", \"2016-07\", \"2016-08\", \"2016-09\", \"2016-11\", \"2016-12\", \"2017-01\", \"2017-02\", \"2017-03\", \"2017-04\", \"2017-05\", \"2017-06\", \"2017-07\", \"2017-08\", \"2017-09\", \"2017-10\", \"2017-11\", \"2017-12\", \"2018-01\", \"2018-02\", \"2018-03\", \"2018-04\", \"2018-05\", \"2018-06\", \"2018-07\", \"2018-08\", \"2018-09\", \"2018-10\", \"2018-11\", \"2018-12\", \"2019-01\", \"2019-02\", \"2019-03\", \"2019-04\", \"2019-05\", \"2019-06\", \"2019-07\", \"2019-08\", \"2019-09\", \"2019-10\", \"2019-11\", \"2019-12\", \"2020-01\", \"2020-02\", \"2020-03\", \"2020-04\"], \"xaxis\": \"x\", \"y\": [0.2, 0.25, 0.32, 0.25, 0.4166666666666667, 0.3076923076923077, 0.18518518518518517, 0.20754716981132076, 0.25806451612903225, 0.23255813953488372, 0.30303030303030304, 0.39473684210526316, 1.0, 0.19047619047619047, 0.3076923076923077, 0.13333333333333333, 0.4, 0.28169014084507044, 0.2916666666666667, 0.26785714285714285, 0.4, 0.3404255319148936, 0.42857142857142855, 0.24193548387096775, 0.31137724550898205, 0.26582278481012656, 0.27882173692229556, 0.32101847229156266, 0.23034551827741612, 0.24179829890643986, 0.24195570413706644, 0.28171967843411394, 0.2453846153846154, 0.2369995398067188, 0.2774798927613941, 0.2745318352059925, 0.2682926829268293, 0.2703313253012048, 0.2476664592408214, 0.2620980837934394, 0.2515451174289246, 0.23772434812055537, 0.2422810333963453, 0.28033838973162195, 0.27451547584610936, 0.27256574271499645, 0.2943429581614614, 0.2696999670293439, 0.2796934865900383, 0.26952695269526955, 0.2534067845752392, 0.26991869918699185, 0.2753623188405797, 0.22850412249705537, 0.21655172413793103, 0.2463510145959416, 0.2286652078774617, 0.2469310670443815, 0.21307925508878303, 0.2600297176820208, 0.19419488597097442, 0.18875502008032127], \"yaxis\": \"y\"}, {\"legendgroup\": \"0\", \"name\": \"Financial Times\", \"type\": \"scatter\", \"x\": [\"2015-01\", \"2015-02\", \"2015-03\", \"2015-04\", \"2015-05\", \"2015-06\", \"2015-07\", \"2015-08\", \"2015-09\", \"2015-10\", \"2015-11\", \"2015-12\", \"2016-02\", \"2016-04\", \"2016-05\", \"2016-06\", \"2016-07\", \"2016-08\", \"2016-09\", \"2016-11\", \"2016-12\", \"2017-02\", \"2017-03\", \"2017-04\", \"2017-05\", \"2017-06\", \"2017-07\", \"2017-08\", \"2017-09\", \"2017-10\", \"2017-11\", \"2017-12\", \"2018-01\", \"2018-02\", \"2018-03\", \"2018-04\", \"2018-05\", \"2018-06\", \"2018-07\", \"2018-08\", \"2018-09\", \"2018-10\", \"2018-11\", \"2018-12\", \"2019-01\", \"2019-02\", \"2019-03\", \"2019-04\", \"2019-05\", \"2019-06\", \"2019-07\", \"2019-08\", \"2019-09\", \"2019-10\", \"2019-11\", \"2019-12\", \"2020-01\", \"2020-02\", \"2020-03\", \"2020-04\"], \"xaxis\": \"x\", \"y\": [0.14285714285714285, 0.1580952380952381, 0.10956175298804781, 0.12292358803986711, 0.11170212765957446, 0.06818181818181818, 0.16296296296296298, 0.20286396181384247, 0.11283185840707964, 0.08613138686131387, 0.1111111111111111, 0.23711340206185566, 0.17391304347826086, 0.07119741100323625, 0.13547486033519554, 0.08333333333333333, 0.17069486404833836, 0.10416666666666667, 0.12598425196850394, 0.09375, 0.23370786516853934, 0.1383399209486166, 0.10204081632653061, 0.10940499040307101, 0.13523131672597866, 0.12777777777777777, 0.08949416342412451, 0.06271186440677966, 0.13464235624123422, 0.19122609673790777, 0.1225, 0.11594202898550725, 0.1368421052631579, 0.10443037974683544, 0.19791666666666666, 0.11068702290076336, 0.11627906976744186, 0.1050080775444265, 0.08686440677966102, 0.0958904109589041, 0.21070234113712374, 0.08384146341463415, 0.15568862275449102, 0.1903485254691689, 0.18299445471349354, 0.1835564053537285, 0.15995115995115994, 0.13296903460837886, 0.15, 0.1244343891402715, 0.17052023121387283, 0.06569343065693431, 0.13513513513513514, 0.2682926829268293, 0.1455026455026455, 0.10726643598615918, 0.17985611510791366, 0.13636363636363635, 0.2126984126984127, 0.13414634146341464], \"yaxis\": \"y\"}, {\"legendgroup\": \"0\", \"name\": \"Daily Mail\", \"type\": \"scatter\", \"x\": [\"2015-01\", \"2015-02\", \"2015-03\", \"2015-04\", \"2015-05\", \"2015-06\", \"2015-07\", \"2015-08\", \"2015-09\", \"2015-10\", \"2015-11\", \"2015-12\", \"2016-01\", \"2016-02\", \"2016-03\", \"2016-04\", \"2016-05\", \"2016-06\", \"2016-07\", \"2016-08\", \"2016-09\", \"2016-11\", \"2016-12\", \"2017-01\", \"2017-02\", \"2017-03\", \"2017-04\", \"2017-05\", \"2017-06\", \"2017-07\", \"2017-08\", \"2017-09\", \"2017-10\", \"2017-11\", \"2017-12\", \"2018-01\", \"2018-02\", \"2018-03\", \"2018-04\", \"2018-05\", \"2018-06\", \"2018-07\", \"2018-08\", \"2018-09\", \"2018-10\", \"2018-11\", \"2018-12\", \"2019-01\", \"2019-02\", \"2019-03\", \"2019-04\", \"2019-05\", \"2019-06\", \"2019-07\", \"2019-08\", \"2019-09\", \"2019-10\", \"2019-11\", \"2019-12\", \"2020-01\", \"2020-02\", \"2020-03\", \"2020-04\"], \"xaxis\": \"x\", \"y\": [0.12272727272727273, 0.1569767441860465, 0.15600350569675722, 0.11893764434180139, 0.09387755102040816, 0.1903765690376569, 0.19688385269121814, 0.13099041533546327, 0.18689320388349515, 0.17480314960629922, 0.15063291139240506, 0.15857605177993528, 0.10526315789473684, 0.3412322274881517, 1.0, 0.141156462585034, 0.13730569948186527, 0.37142857142857144, 0.19796380090497737, 0.10243183492999262, 0.13970007892659828, 0.5333333333333333, 0.15323224261771748, 0.42105263157894735, 0.1214574898785425, 0.1401315789473684, 0.14346712211784798, 0.19767441860465115, 0.21402550091074682, 0.15113719735876743, 0.1642806012884753, 0.17992831541218637, 0.24114583333333334, 0.22329317269076304, 0.13459879206212252, 0.14736842105263157, 0.14310051107325383, 0.13423351866560762, 0.0816400580551524, 0.16141101015499731, 0.19414893617021275, 0.1393372982158029, 0.17940876656472987, 0.1612453531598513, 0.16574307304785893, 0.167658193618172, 0.19553072625698323, 0.18922716627634661, 0.24053295932678823, 0.1967445152158528, 0.20443482963764198, 0.2072892938496583, 0.21176470588235294, 0.2390786338363781, 0.20417515274949083, 0.21362977283711937, 0.2077431539187913, 0.23487374940447833, 0.23086816720257236, 0.17132867132867133, 0.21353196772191185, 0.22126436781609196, 0.19099378881987578], \"yaxis\": \"y\"}, {\"legendgroup\": \"0\", \"name\": \"Daily Record\", \"type\": \"scatter\", \"x\": [\"2015-01\", \"2015-02\", \"2015-03\", \"2015-04\", \"2015-05\", \"2015-06\", \"2015-07\", \"2015-08\", \"2015-09\", \"2015-10\", \"2015-11\", \"2015-12\", \"2016-01\", \"2016-02\", \"2016-04\", \"2016-05\", \"2016-06\", \"2016-07\", \"2016-08\", \"2016-09\", \"2016-10\", \"2016-11\", \"2016-12\", \"2017-02\", \"2017-03\", \"2017-04\", \"2017-05\", \"2017-06\", \"2017-07\", \"2017-08\", \"2017-09\", \"2017-10\", \"2017-11\", \"2017-12\", \"2018-01\", \"2018-02\", \"2018-03\", \"2018-04\", \"2018-05\", \"2018-06\", \"2018-07\", \"2018-08\", \"2018-09\", \"2018-10\", \"2018-11\", \"2018-12\", \"2019-01\", \"2019-02\", \"2019-03\", \"2019-04\", \"2019-05\", \"2019-06\", \"2019-07\", \"2019-08\", \"2019-09\", \"2019-10\", \"2019-11\", \"2019-12\", \"2020-01\", \"2020-02\", \"2020-03\", \"2020-04\"], \"xaxis\": \"x\", \"y\": [0.23197903014416776, 0.21404109589041095, 0.20273348519362186, 0.1974169741697417, 0.24007009345794392, 0.2321867321867322, 0.2703488372093023, 0.26289350301406567, 0.24450721908349027, 0.27118129365320376, 0.24094424094424094, 0.25478287276040085, 0.15714285714285714, 0.21863799283154123, 0.24472168905950095, 0.26259541984732826, 0.1875, 0.2724616508400292, 0.3362944162436548, 0.2917981072555205, 0.5, 0.2857142857142857, 0.24937308442463083, 0.25645035183737297, 0.24126326689101735, 0.21826710816777042, 0.3111111111111111, 0.24952484387727397, 0.2282575526396094, 0.25049051667756705, 0.2500940203083866, 0.24401650618982118, 0.2694006309148265, 0.2481060606060606, 0.24061196105702365, 0.19719151478936361, 0.21571349250416436, 0.22030366180410837, 0.20422331501301708, 0.24187604690117254, 0.2290292177191329, 0.2445550715619166, 0.23437949899222574, 0.21444270015698588, 0.20978196817913966, 0.23702127659574468, 0.2065967016491754, 0.22737376945061924, 0.20965744944283946, 0.2358788974243109, 0.20295318881558277, 0.23606331727460428, 0.22555205047318613, 0.18293216630196937, 0.16259569814072183, 0.16919816319321795, 0.1926991926991927, 0.19389110225763612, 0.2014719411223551, 0.1906293063849334, 0.201363073110285, 0.21428571428571427], \"yaxis\": \"y\"}, {\"legendgroup\": \"0\", \"name\": \"City A.M.\", \"type\": \"scatter\", \"x\": [\"2015-01\", \"2015-02\", \"2015-03\", \"2015-04\", \"2015-05\", \"2015-06\", \"2015-07\", \"2015-08\", \"2015-09\", \"2015-10\", \"2015-11\", \"2015-12\", \"2016-02\", \"2016-04\", \"2016-05\", \"2016-06\", \"2016-07\", \"2016-08\", \"2016-09\", \"2016-12\", \"2017-01\", \"2017-02\", \"2017-03\", \"2017-04\", \"2017-05\", \"2017-06\", \"2017-07\", \"2017-08\", \"2017-09\", \"2017-10\", \"2017-11\", \"2017-12\", \"2018-01\", \"2018-02\", \"2018-03\", \"2018-04\", \"2018-05\", \"2018-06\", \"2018-07\", \"2018-08\", \"2018-09\", \"2018-10\", \"2018-11\", \"2018-12\", \"2019-01\", \"2019-02\", \"2019-03\", \"2019-04\", \"2019-05\", \"2019-06\", \"2019-07\", \"2019-08\", \"2019-09\", \"2019-10\", \"2019-11\", \"2019-12\", \"2020-01\", \"2020-02\", \"2020-03\", \"2020-04\"], \"xaxis\": \"x\", \"y\": [0.116751269035533, 0.1087866108786611, 0.11813471502590674, 0.07450980392156863, 0.14313725490196078, 0.1316348195329087, 0.09385113268608414, 0.07763401109057301, 0.10287443267776097, 0.11127819548872181, 0.046357615894039736, 0.09287257019438445, 0.11147540983606558, 0.034722222222222224, 0.06274509803921569, 0.22857142857142856, 0.1566424322538004, 0.1024978466838932, 0.12364425162689804, 0.10613437195715676, 0.13636363636363635, 0.12578616352201258, 0.1205298013245033, 0.13790112749349523, 0.17009493670886075, 0.18501170960187355, 0.11665495432185524, 0.104570100697134, 0.12716763005780346, 0.1456761462565293, 0.12648456057007126, 0.14645103324348607, 0.14873837981407703, 0.1331081081081081, 0.12679917751884853, 0.12840466926070038, 0.09796533534287867, 0.11875, 0.10703125, 0.09879839786381843, 0.14676390154968094, 0.13447653429602888, 0.18157894736842106, 0.16264294790343076, 0.14804469273743018, 0.13097713097713098, 0.1551383399209486, 0.19499341238471674, 0.14506437768240343, 0.12589928057553956, 0.12595419847328243, 0.12598425196850394, 0.145933014354067, 0.13402061855670103, 0.13402889245585875, 0.13668061366806136, 0.1317027281279398, 0.13588850174216027, 0.0984251968503937, 0.06914893617021277], \"yaxis\": \"y\"}, {\"legendgroup\": \"1\", \"name\": \"USA Today\", \"type\": \"scatter\", \"x\": [\"2015-01\", \"2015-02\", \"2015-03\", \"2015-04\", \"2015-05\", \"2015-06\", \"2015-07\", \"2015-08\", \"2015-09\", \"2015-10\", \"2015-11\", \"2015-12\", \"2016-01\", \"2016-02\", \"2016-03\", \"2016-04\", \"2016-05\", \"2016-06\", \"2016-07\", \"2016-08\", \"2016-09\", \"2016-10\", \"2016-11\", \"2016-12\", \"2017-01\", \"2017-02\", \"2017-03\", \"2017-04\", \"2017-05\", \"2017-06\", \"2017-07\", \"2017-08\", \"2017-09\", \"2017-10\", \"2017-11\", \"2017-12\", \"2018-01\", \"2018-02\", \"2018-03\", \"2018-04\", \"2018-05\", \"2018-06\", \"2018-07\", \"2018-08\", \"2018-09\", \"2018-10\", \"2018-11\", \"2018-12\", \"2019-01\", \"2019-02\", \"2019-03\", \"2019-04\", \"2019-05\", \"2019-06\", \"2019-07\", \"2019-08\", \"2019-09\", \"2019-10\", \"2019-11\", \"2019-12\", \"2020-01\", \"2020-02\", \"2020-03\", \"2020-04\"], \"xaxis\": \"x2\", \"y\": [0.17489776659326833, 0.17809700339820822, 0.17893217893217894, 0.1584264503290984, 0.1404549950544016, 0.1855536332179931, 0.21348314606741572, 0.19121951219512195, 0.18952618453865336, 0.18578445535972263, 0.15619726232889555, 0.15037593984962405, 0.12274368231046931, 0.12314767501277465, 0.23828125, 0.09078428007551055, 0.10648765843895931, 0.17013232514177692, 0.16444444444444445, 0.1806022952800069, 0.08180044593088072, 0.1897810218978102, 0.12698412698412698, 0.08221271393643031, 0.13111111111111112, 0.13534522176497485, 0.12070143475290367, 0.10654248069059519, 0.10382890651948948, 0.1309738774527507, 0.13353353353353353, 0.1135368485969781, 0.10230827310969691, 0.08597035850190267, 0.08987513907775992, 0.10786074758361132, 0.1897607122982749, 0.18558534817840439, 0.1234512946064248, 0.11607925653165001, 0.1335119253370204, 0.14980951210519847, 0.13797232570516232, 0.1260707226004832, 0.12996427820970793, 0.13258127122755944, 0.016249153689911984, 0.012578616352201259, 0.054003724394785846, 0.07256637168141593, 0.03934426229508197, 0.0275049115913556, 0.045064377682403435, 0.053742802303262956, 0.08558558558558559, 0.04047976011994003, 0.026362038664323375, 0.01726844583987441, 0.0091324200913242, 0.02982107355864811, 0.006611570247933884, 0.08879492600422834, 0.06871345029239766, 0.05150214592274678], \"yaxis\": \"y2\"}, {\"legendgroup\": \"1\", \"name\": \"The Wall Street Journal\", \"type\": \"scatter\", \"x\": [\"2015-01\", \"2015-02\", \"2015-03\", \"2015-04\", \"2015-05\", \"2015-06\", \"2015-07\", \"2015-08\", \"2015-09\", \"2015-10\", \"2015-11\", \"2015-12\", \"2016-01\", \"2016-02\", \"2016-04\", \"2016-05\", \"2016-06\", \"2016-07\", \"2016-08\", \"2016-09\", \"2016-10\", \"2016-11\", \"2016-12\", \"2017-01\", \"2017-02\", \"2017-03\", \"2017-04\", \"2017-05\", \"2017-06\", \"2017-07\", \"2017-08\", \"2017-09\", \"2017-10\", \"2017-11\", \"2017-12\", \"2018-01\", \"2018-02\", \"2018-03\", \"2018-04\", \"2018-05\", \"2018-06\", \"2018-07\", \"2018-08\", \"2018-09\", \"2018-10\", \"2018-11\", \"2018-12\", \"2019-01\", \"2019-02\", \"2019-03\", \"2019-04\", \"2019-05\", \"2019-06\", \"2019-07\", \"2019-08\", \"2019-09\", \"2019-10\", \"2019-11\", \"2019-12\", \"2020-01\", \"2020-02\", \"2020-03\", \"2020-04\"], \"xaxis\": \"x2\", \"y\": [0.143635263264071, 0.18373564565268338, 0.15279529213955442, 0.1806677436725902, 0.1379192334017796, 0.1543550165380375, 0.15173116089613034, 0.13941220798794274, 0.14600355239786855, 0.1445127719962157, 0.11758281761922097, 0.1171522979873836, 0.16666666666666666, 0.14475743348982786, 0.10804174340085942, 0.15250475586556753, 0.11320754716981132, 0.17114004783417486, 0.18423383525243578, 0.15762661072819897, 0.5, 0.07142857142857142, 0.08691358024691358, 0.15, 0.14583333333333334, 0.10121457489878542, 0.08093994778067885, 0.10220994475138122, 0.15406976744186046, 0.10477453580901856, 0.08898305084745763, 0.12544802867383512, 0.09389671361502347, 0.06885245901639345, 0.13902053712480253, 0.18963730569948187, 0.16834400731930466, 0.13618677042801555, 0.1133122028526149, 0.13687943262411348, 0.11742777260018639, 0.14407814407814407, 0.2111111111111111, 0.1245674740484429, 0.0933572710951526, 0.1349141455437449, 0.08173562058526741, 0.17860746720484358, 0.23629489603024575, 0.11560693641618497, 0.04, 0.10427807486631016, 0.2194616977225673, 0.18604651162790697, 0.11734164070612668, 0.12289915966386554, 0.11254612546125461, 0.11125319693094629, 0.08971962616822429, 0.12195121951219512, 0.18911174785100288, 0.13424124513618677, 0.20689655172413793], \"yaxis\": \"y2\"}, {\"legendgroup\": \"1\", \"name\": \"The New York Times\", \"type\": \"scatter\", \"x\": [\"2015-01\", \"2015-02\", \"2015-03\", \"2015-04\", \"2015-05\", \"2015-06\", \"2015-07\", \"2015-08\", \"2015-09\", \"2015-10\", \"2015-11\", \"2015-12\", \"2016-01\", \"2016-02\", \"2016-03\", \"2016-04\", \"2016-05\", \"2016-06\", \"2016-07\", \"2016-08\", \"2016-09\", \"2016-10\", \"2016-11\", \"2016-12\", \"2017-01\", \"2017-02\", \"2017-03\", \"2017-04\", \"2017-05\", \"2017-06\", \"2017-07\", \"2017-08\", \"2017-09\", \"2017-10\", \"2017-11\", \"2017-12\", \"2018-01\", \"2018-02\", \"2018-03\", \"2018-04\", \"2018-05\", \"2018-06\", \"2018-07\", \"2018-08\", \"2018-09\", \"2018-10\", \"2018-11\", \"2018-12\", \"2019-01\", \"2019-02\", \"2019-03\", \"2019-04\", \"2019-05\", \"2019-06\", \"2019-07\", \"2019-08\", \"2019-09\", \"2019-10\", \"2019-11\", \"2019-12\", \"2020-01\", \"2020-02\", \"2020-03\", \"2020-04\"], \"xaxis\": \"x2\", \"y\": [0.26666666666666666, 0.2197452229299363, 0.2774566473988439, 0.18421052631578946, 0.20425531914893616, 0.21554770318021202, 0.17008797653958943, 0.22362204724409449, 0.24744027303754265, 0.211781206171108, 0.20634920634920634, 0.136, 0.09523809523809523, 0.1644075207695671, 0.08571428571428572, 0.19153992395437264, 0.18262237074896795, 0.15806451612903225, 0.16746836379782432, 0.19708814162220292, 0.17865123264588448, 0.16, 0.18457300275482094, 0.17537381197409044, 0.1986111111111111, 0.1626689925861317, 0.18945654140780505, 0.18352211434735707, 0.18025425336790843, 0.1904885993485342, 0.19583425987695502, 0.1839932838953407, 0.20975343214261322, 0.21825424557970508, 0.21563926057699745, 0.23437642550862148, 0.24566777524943112, 0.26316733961417677, 0.2357316444509905, 0.20823937554206418, 0.24366153367553275, 0.2315388280133397, 0.22377145085803432, 0.24711992445703493, 0.24578806487167376, 0.2509548416086273, 0.24364934418064088, 0.22985754985754986, 0.26234213547646384, 0.2637993553585818, 0.2532537960954447, 0.2313915857605178, 0.23740138464015456, 0.2551388539306989, 0.2567120622568093, 0.2548476454293629, 0.24651484977054292, 0.23369565217391305, 0.23490407567854302, 0.2500539374325782, 0.21181281235801908, 0.27094080078604765, 0.2196467991169978, 0.2178469355350905], \"yaxis\": \"y2\"}, {\"legendgroup\": \"1\", \"name\": \"New York Post\", \"type\": \"scatter\", \"x\": [\"2015-01\", \"2015-02\", \"2015-03\", \"2015-04\", \"2015-05\", \"2015-06\", \"2015-07\", \"2015-08\", \"2015-09\", \"2015-10\", \"2015-11\", \"2015-12\", \"2016-01\", \"2016-02\", \"2016-04\", \"2016-05\", \"2016-06\", \"2016-07\", \"2016-08\", \"2016-09\", \"2016-10\", \"2016-12\", \"2017-01\", \"2017-02\", \"2017-03\", \"2017-04\", \"2017-05\", \"2017-06\", \"2017-07\", \"2017-08\", \"2017-09\", \"2017-10\", \"2017-11\", \"2017-12\", \"2018-01\", \"2018-02\", \"2018-03\", \"2018-04\", \"2018-05\", \"2018-06\", \"2018-07\", \"2018-08\", \"2018-09\", \"2018-10\", \"2018-11\", \"2018-12\", \"2019-01\", \"2019-02\", \"2019-03\", \"2019-04\", \"2019-05\", \"2019-06\", \"2019-07\", \"2019-08\", \"2019-09\", \"2019-10\", \"2019-11\", \"2019-12\", \"2020-01\", \"2020-02\", \"2020-03\", \"2020-04\"], \"xaxis\": \"x2\", \"y\": [0.12903225806451613, 0.17142857142857143, 0.1875, 0.11363636363636363, 0.15384615384615385, 0.17647058823529413, 0.19730941704035873, 0.12244897959183673, 0.2803738317757009, 0.14473684210526316, 0.2465753424657534, 0.1694915254237288, 1.0, 0.17647058823529413, 0.13333333333333333, 0.14563106796116504, 0.2, 0.175, 0.24175824175824176, 0.24509803921568626, 0.36363636363636365, 0.15819209039548024, 0.15384615384615385, 0.22429906542056074, 0.15656909462219196, 0.14041297935103245, 0.129202871174915, 0.08333333333333333, 0.10451306413301663, 0.1297399389800959, 0.1389776357827476, 0.11028525512253917, 0.14946258365443116, 0.10974473635177939, 0.15981270358306188, 0.02910798122065728, 0.14127951256664129, 0.13660670879922218, 0.062244062244062245, 0.12608012568735272, 0.139341996129389, 0.14172939232605103, 0.15120460266091335, 0.13063552417164584, 0.07457627118644068, 0.04523809523809524, 0.12383177570093458, 0.15919223708366115, 0.1403361344537815, 0.1349472057687355, 0.14909090909090908, 0.16051188299817185, 0.19065474473608307, 0.1641725352112676, 0.16262078717888287, 0.16683417085427135, 0.1554362949711787, 0.14743734477308648, 0.17701097916199865, 0.1600166251039069, 0.1638669866300994, 0.09070796460176991], \"yaxis\": \"y2\"}, {\"legendgroup\": \"1\", \"name\": \"Los Angeles Times\", \"type\": \"scatter\", \"x\": [\"2015-01\", \"2015-02\", \"2015-03\", \"2015-04\", \"2015-05\", \"2015-06\", \"2015-07\", \"2015-08\", \"2015-09\", \"2015-10\", \"2015-11\", \"2015-12\", \"2016-01\", \"2016-02\", \"2016-03\", \"2016-04\", \"2016-05\", \"2016-06\", \"2016-07\", \"2016-08\", \"2016-09\", \"2016-10\", \"2016-11\", \"2016-12\", \"2017-01\", \"2017-02\", \"2017-03\", \"2017-04\", \"2017-05\", \"2017-06\", \"2017-07\", \"2017-08\", \"2017-09\", \"2017-10\", \"2017-11\", \"2017-12\", \"2018-01\", \"2018-02\", \"2018-03\", \"2018-04\", \"2018-05\", \"2018-06\", \"2018-07\", \"2018-08\", \"2018-09\", \"2018-10\", \"2018-11\", \"2018-12\", \"2019-01\", \"2019-02\", \"2019-03\", \"2019-04\", \"2019-05\", \"2019-06\", \"2019-07\", \"2019-08\", \"2019-09\", \"2019-10\", \"2019-11\", \"2019-12\", \"2020-01\", \"2020-02\", \"2020-03\", \"2020-04\"], \"xaxis\": \"x2\", \"y\": [0.1655651777575205, 0.1660839160839161, 0.14955381141812707, 0.1817848858503235, 0.19091457893148203, 0.19183839479392625, 0.1901820187534473, 0.17432298312774705, 0.17758913412563668, 0.169679059858429, 0.18346016319794628, 0.16089577950043066, 0.23197492163009403, 0.1701780173117753, 0.08571428571428572, 0.16414870140892887, 0.20381110190555096, 0.20821917808219179, 0.2085587801278898, 0.20663080998635305, 0.1881720430107527, 0.2, 0.1671018276762402, 0.16342269555637165, 0.13293051359516617, 0.1638715860086248, 0.16870956758597208, 0.1770795163063393, 0.1979532457108458, 0.2055824837038275, 0.17751654647831672, 0.16754550093553325, 0.18331383445451888, 0.15421486546941907, 0.17271407837445574, 0.15730741540676746, 0.20226957726957728, 0.20909740414384378, 0.20737100737100736, 0.1943869335173683, 0.1942024128686327, 0.2864450127877238, 0.23723723723723725, 0.2592, 0.2375316990701606, 0.2579124579124579, 0.19901112484548825, 0.20796890184645286, 0.1821219715956558, 0.19094138543516873, 0.20357326919773236, 0.1867572156196944, 0.23833333333333334, 0.24421135958836335, 0.2424338961452692, 0.20816326530612245, 0.1727508477957311, 0.15507452093683463, 0.2172537439358785, 0.20403377110694185, 0.18228608192150975, 0.22890792291220557, 0.21138211382113822, 0.19047619047619047], \"yaxis\": \"y2\"}, {\"legendgroup\": \"2\", \"name\": \"The Times of India\", \"type\": \"scatter\", \"x\": [\"2015-01\", \"2015-02\", \"2015-03\", \"2015-04\", \"2015-05\", \"2015-06\", \"2015-07\", \"2015-08\", \"2015-09\", \"2015-10\", \"2015-11\", \"2015-12\", \"2016-01\", \"2016-02\", \"2016-03\", \"2016-04\", \"2016-05\", \"2016-06\", \"2016-07\", \"2016-08\", \"2016-09\", \"2016-10\", \"2016-11\", \"2016-12\", \"2017-01\", \"2017-02\", \"2017-03\", \"2017-04\", \"2017-05\", \"2017-06\", \"2017-07\", \"2017-08\", \"2017-09\", \"2017-10\", \"2017-11\", \"2017-12\", \"2018-01\", \"2018-02\", \"2018-03\", \"2018-04\", \"2018-05\", \"2018-06\", \"2018-07\", \"2018-08\", \"2018-09\", \"2018-10\", \"2018-11\", \"2018-12\", \"2019-01\", \"2019-02\", \"2019-03\", \"2019-04\", \"2019-05\", \"2019-06\", \"2019-07\", \"2019-08\", \"2019-09\", \"2019-10\", \"2019-11\", \"2019-12\", \"2020-01\", \"2020-02\", \"2020-03\", \"2020-04\"], \"xaxis\": \"x3\", \"y\": [0.14908256880733944, 0.18908122503328895, 0.20317002881844382, 0.2018867924528302, 0.16998827667057445, 0.1777158774373259, 0.15420805018295872, 0.17567989996874023, 0.1626533393911858, 0.14131559497413157, 0.16026490066225166, 0.18706118355065196, 0.36363636363636365, 0.19200887902330743, 0.6, 0.1555783009211873, 0.15774590991718845, 0.20833333333333334, 0.16945780135964186, 0.17302336844654317, 0.1379725862328664, 0.045454545454545456, 0.20689655172413793, 0.14463237832240247, 0.14285714285714285, 0.13801893663510562, 0.14688427299703263, 0.1503316138540899, 0.13713919178960873, 0.14531932475504664, 0.17608861726508784, 0.16339922893938152, 0.15855944745929945, 0.15345753078623303, 0.15577244124823425, 0.1418043202033037, 0.1593633952254642, 0.13678145150226367, 0.12939866369710468, 0.13595658073270014, 0.13149587178241864, 0.12370988265233988, 0.13221649484536083, 0.13451086956521738, 0.12826348908823135, 0.127783437636443, 0.11606217616580311, 0.10275207306814085, 0.12155988857938718, 0.12918607229984475, 0.13440082644628099, 0.12944009632751355, 0.14328582145536384, 0.1181362357832946, 0.14619377162629757, 0.15002553626149132, 0.13937677053824363, 0.11797692224738487, 0.12516614975631368, 0.1428956228956229, 0.1347678369195923, 0.13845329044364027, 0.16526560543730998, 0.14410339256865912], \"yaxis\": \"y3\"}, {\"legendgroup\": \"2\", \"name\": \"The Hindu\", \"type\": \"scatter\", \"x\": [\"2015-01\", \"2015-02\", \"2015-03\", \"2015-04\", \"2015-05\", \"2015-06\", \"2015-07\", \"2015-08\", \"2015-09\", \"2015-10\", \"2015-11\", \"2015-12\", \"2016-01\", \"2016-02\", \"2016-03\", \"2016-04\", \"2016-05\", \"2016-06\", \"2016-07\", \"2016-08\", \"2016-09\", \"2016-10\", \"2016-11\", \"2016-12\", \"2017-01\", \"2017-02\", \"2017-03\", \"2017-04\", \"2017-05\", \"2017-06\", \"2017-07\", \"2017-08\", \"2017-09\", \"2017-10\", \"2017-11\", \"2017-12\", \"2018-01\", \"2018-02\", \"2018-03\", \"2018-04\", \"2018-05\", \"2018-06\", \"2018-07\", \"2018-08\", \"2018-09\", \"2018-10\", \"2018-11\", \"2018-12\", \"2019-01\", \"2019-02\", \"2019-03\", \"2019-04\", \"2019-05\", \"2019-06\", \"2019-07\", \"2019-08\", \"2019-09\", \"2019-10\", \"2019-11\", \"2019-12\", \"2020-01\", \"2020-02\", \"2020-03\", \"2020-04\"], \"xaxis\": \"x3\", \"y\": [0.17857142857142858, 0.1590909090909091, 0.0975609756097561, 0.3055555555555556, 0.18181818181818182, 0.12727272727272726, 0.12542537676227516, 0.15385722510074842, 0.11827033218785796, 0.11170577741182929, 0.12159368539748168, 0.11823060660269963, 0.21774193548387097, 0.1473364801078894, 0.25, 0.12018140589569161, 0.131810676940011, 0.15172413793103448, 0.16153205661948378, 0.16331342345174474, 0.1632888449497446, 0.16666666666666666, 0.08108108108108109, 0.12390432328034467, 0.15, 0.1441108545034642, 0.15533034496199571, 0.17058439438459028, 0.16081652974856858, 0.15419501133786848, 0.15593545294775524, 0.16513353115727003, 0.1571900826446281, 0.14506272113219684, 0.14431239388794567, 0.17423230974632845, 0.16887879846315054, 0.14665996986438976, 0.16989476894921457, 0.14401993355481726, 0.1466911151858643, 0.136726893676164, 0.12902654867256638, 0.14531445977423402, 0.15428368290081762, 0.14168937329700274, 0.13406317300789664, 0.12273534635879219, 0.14260075053026594, 0.14575116529221943, 0.13482770157243226, 0.11920092455010732, 0.1330995323981296, 0.13494675701839304, 0.13135186960690318, 0.14360410830999065, 0.14011748445058742, 0.13119480987565327, 0.12184944082790852, 0.13385546457814168, 0.13091728801803365, 0.13232553323669496, 0.11760862463247304, 0.11397345823575332], \"yaxis\": \"y3\"}, {\"legendgroup\": \"2\", \"name\": \"Hindustan Times\", \"type\": \"scatter\", \"x\": [\"2015-01\", \"2015-02\", \"2015-03\", \"2015-04\", \"2015-05\", \"2015-06\", \"2015-07\", \"2015-08\", \"2015-09\", \"2015-10\", \"2015-11\", \"2015-12\", \"2016-01\", \"2016-02\", \"2016-03\", \"2016-04\", \"2016-05\", \"2016-06\", \"2016-07\", \"2016-08\", \"2016-09\", \"2016-11\", \"2016-12\", \"2017-01\", \"2017-02\", \"2017-03\", \"2017-04\", \"2017-05\", \"2017-06\", \"2017-07\", \"2017-08\", \"2017-09\", \"2017-10\", \"2017-11\", \"2017-12\", \"2018-01\", \"2018-02\", \"2018-03\", \"2018-04\", \"2018-05\", \"2018-06\", \"2018-07\", \"2018-08\", \"2018-09\", \"2018-10\", \"2018-11\", \"2018-12\", \"2019-01\", \"2019-02\", \"2019-03\", \"2019-04\", \"2019-05\", \"2019-06\", \"2019-07\", \"2019-08\", \"2019-09\", \"2019-10\", \"2019-11\", \"2019-12\", \"2020-01\", \"2020-02\", \"2020-03\", \"2020-04\"], \"xaxis\": \"x3\", \"y\": [0.16642335766423358, 0.15830721003134796, 0.15388614504808942, 0.13636363636363635, 0.18354818907305095, 0.1702127659574468, 0.13806552262090482, 0.17155463275369842, 0.148661800486618, 0.1472797215607254, 0.12969502407704656, 0.12760310330747243, 0.17094017094017094, 0.10264508487958941, 0.25, 0.17670682730923695, 0.1480707790611944, 0.18421052631578946, 0.15719114935464043, 0.20312897481556855, 0.17456593148756452, 0.2, 0.14645936765090148, 0.16, 0.16675839295542103, 0.1782749909779863, 0.16367361696998917, 0.17813578826237053, 0.18781512605042017, 0.18986769195974218, 0.1661529840291398, 0.16673275178429817, 0.16450989141752195, 0.1593632317699418, 0.1453083109919571, 0.17913583630218324, 0.1570136852394917, 0.17404063205417608, 0.16623160892263883, 0.15574348132487667, 0.15409139213602552, 0.14303717706364208, 0.14134969325153374, 0.18548799182422074, 0.15198237885462554, 0.14135374312365462, 0.13430885811340476, 0.16838487972508592, 0.16545973228000876, 0.1746031746031746, 0.17893333333333333, 0.1912087912087912, 0.16856330014224752, 0.18476941747572814, 0.17820980153908464, 0.16978756884343038, 0.15738498789346247, 0.1519874177866743, 0.16325062927004674, 0.16779110444777612, 0.17762027491408935, 0.19410898379970545, 0.17913832199546487], \"yaxis\": \"y3\"}, {\"legendgroup\": \"2\", \"name\": \"The Economic Times\", \"type\": \"scatter\", \"x\": [\"2015-01\", \"2015-02\", \"2015-03\", \"2015-04\", \"2015-05\", \"2015-06\", \"2015-07\", \"2015-08\", \"2015-09\", \"2015-10\", \"2015-11\", \"2015-12\", \"2016-01\", \"2016-02\", \"2016-03\", \"2016-04\", \"2016-05\", \"2016-06\", \"2016-07\", \"2016-08\", \"2016-09\", \"2016-10\", \"2016-11\", \"2016-12\", \"2017-01\", \"2017-02\", \"2017-03\", \"2017-04\", \"2017-05\", \"2017-06\", \"2017-07\", \"2017-08\", \"2017-09\", \"2017-10\", \"2017-11\", \"2017-12\", \"2018-01\", \"2018-02\", \"2018-03\", \"2018-04\", \"2018-05\", \"2018-06\", \"2018-07\", \"2018-08\", \"2018-09\", \"2018-10\", \"2018-11\", \"2018-12\", \"2019-01\", \"2019-02\", \"2019-03\", \"2019-04\", \"2019-05\", \"2019-06\", \"2019-07\", \"2019-08\", \"2019-09\", \"2019-10\", \"2019-11\", \"2019-12\", \"2020-01\", \"2020-02\", \"2020-03\", \"2020-04\"], \"xaxis\": \"x3\", \"y\": [0.11518586431071845, 0.10873405299313052, 0.09858882659965204, 0.0983234369542438, 0.10990767045454546, 0.10869126840088728, 0.10070943861813696, 0.11295971978984239, 0.10275384038965905, 0.09444504136671322, 0.0927216728805317, 0.10631980771949667, 0.06896551724137931, 0.08926218708827405, 0.2727272727272727, 0.09458094917536183, 0.0986088379705401, 0.1693548387096774, 0.13868116927260368, 0.1234472049689441, 0.12473202104852855, 0.06896551724137931, 0.0967741935483871, 0.1087657106026426, 0.19117647058823528, 0.10061527325370974, 0.1267454350161117, 0.12121893624198808, 0.11702011963023383, 0.12814432989690722, 0.13010526315789472, 0.10723046373087256, 0.13047161818695283, 0.13546685019499885, 0.11516270482344795, 0.10617386489479513, 0.13012880095604834, 0.11187582369307365, 0.13256601218686526, 0.125805651958354, 0.11402176664135662, 0.11293213828425096, 0.11777388492116965, 0.12335620354488279, 0.15052070719302493, 0.14445871773911012, 0.1325124265702666, 0.14073226544622425, 0.14201937786843447, 0.13684614400818518, 0.1565525705713896, 0.14721867007672634, 0.15777449267571564, 0.12313877307921382, 0.1276595744680851, 0.0967913490515866, 0.10019023462270134, 0.10213262245918027, 0.09950071326676177, 0.12044435782498539, 0.10678551937420411, 0.10908250519990756, 0.1156930126002291, 0.09512893982808023], \"yaxis\": \"y3\"}, {\"legendgroup\": \"2\", \"name\": \"The Telegraph\", \"type\": \"scatter\", \"x\": [\"2015-01\", \"2015-02\", \"2015-03\", \"2015-04\", \"2015-05\", \"2015-06\", \"2015-07\", \"2015-08\", \"2015-09\", \"2015-10\", \"2015-11\", \"2015-12\", \"2016-01\", \"2016-02\", \"2016-03\", \"2016-04\", \"2016-05\", \"2016-06\", \"2016-07\", \"2016-08\", \"2016-09\", \"2016-11\", \"2016-12\", \"2017-02\", \"2017-03\", \"2017-04\", \"2017-05\", \"2017-06\", \"2017-07\", \"2017-08\", \"2017-09\", \"2017-10\", \"2017-11\", \"2017-12\", \"2018-01\", \"2018-02\", \"2018-03\", \"2018-04\", \"2018-05\", \"2018-06\", \"2018-07\", \"2018-08\", \"2018-09\", \"2018-10\", \"2018-11\", \"2018-12\", \"2019-01\", \"2019-02\", \"2019-03\", \"2019-04\", \"2019-05\", \"2019-06\", \"2019-07\", \"2019-08\", \"2019-09\", \"2019-10\", \"2019-11\", \"2019-12\", \"2020-01\", \"2020-02\", \"2020-03\", \"2020-04\"], \"xaxis\": \"x3\", \"y\": [0.12778551532033428, 0.12399049881235154, 0.12277413308341144, 0.10128126906650396, 0.13825757575757575, 0.10171102661596958, 0.1281657712970069, 0.14344746162927982, 0.10459363957597173, 0.10435383552176918, 0.08946772366930918, 0.11648351648351649, 0.030303030303030304, 0.07460035523978685, 0.5, 0.09703196347031963, 0.08293556085918855, 0.18181818181818182, 0.15084134615384615, 0.15510718789407313, 0.13513513513513514, 0.2, 0.07204116638078903, 0.033962264150943396, 0.1368909512761021, 0.1396910678307589, 0.09961685823754789, 0.1319884726224784, 0.1483021483021483, 0.1245928338762215, 0.10179640718562874, 0.09538461538461539, 0.11310344827586206, 0.15363128491620112, 0.14240755310778913, 0.17436974789915966, 0.16366525423728814, 0.16358024691358025, 0.1693548387096774, 0.1566609491137793, 0.1419284940411701, 0.1672077922077922, 0.17867603983596952, 0.16446858029480219, 0.13517241379310344, 0.1129737609329446, 0.15822784810126583, 0.1700507614213198, 0.14238190286094476, 0.16244541484716157, 0.16784565916398714, 0.17142857142857143, 0.16066838046272494, 0.166270783847981, 0.17305151915455746, 0.14256198347107438, 0.11853162317558602, 0.15813117699910154, 0.14683098591549296, 0.14311676510676966, 0.18115055079559364, 0.17496962332928312], \"yaxis\": \"y3\"}, {\"legendgroup\": \"3\", \"name\": \"Vanguard\", \"type\": \"scatter\", \"x\": [\"2015-01\", \"2015-02\", \"2015-03\", \"2015-04\", \"2015-05\", \"2015-06\", \"2015-07\", \"2015-08\", \"2015-09\", \"2015-10\", \"2015-11\", \"2015-12\", \"2016-01\", \"2016-02\", \"2016-04\", \"2016-05\", \"2016-06\", \"2016-07\", \"2016-08\", \"2016-09\", \"2016-10\", \"2016-11\", \"2016-12\", \"2017-01\", \"2017-02\", \"2017-03\", \"2017-04\", \"2017-05\", \"2017-06\", \"2017-07\", \"2017-08\", \"2017-09\", \"2017-10\", \"2017-11\", \"2017-12\", \"2018-01\", \"2018-02\", \"2018-03\", \"2018-04\", \"2018-05\", \"2018-06\", \"2018-07\", \"2018-08\", \"2018-09\", \"2018-10\", \"2018-11\", \"2018-12\", \"2019-01\", \"2019-02\", \"2019-03\", \"2019-04\", \"2019-05\", \"2019-06\", \"2019-07\", \"2019-08\", \"2019-09\", \"2019-10\", \"2019-11\", \"2019-12\", \"2020-01\", \"2020-02\", \"2020-03\", \"2020-04\"], \"xaxis\": \"x4\", \"y\": [0.09000900090009001, 0.06857142857142857, 0.09895833333333333, 0.1232638888888889, 0.12667946257197696, 0.12173913043478261, 0.061601642710472276, 0.06518518518518518, 0.0975, 0.07, 0.07560975609756097, 0.0776794493608653, 0.057692307692307696, 0.09424083769633508, 0.0853462157809984, 0.09107037256061502, 0.09090909090909091, 0.1349862258953168, 0.08538011695906433, 0.0881304126337239, 0.2857142857142857, 0.2, 0.0741272118603539, 0.05128205128205128, 0.07801418439716312, 0.08879310344827586, 0.08268482490272373, 0.10018832391713747, 0.11767186840995361, 0.0950188363331938, 0.06712218649517684, 0.07134220072551391, 0.07779751332149201, 0.08846880907372401, 0.06631892697466468, 0.08562806488117691, 0.08322877457130907, 0.08301033591731266, 0.07628294036061026, 0.060755336617405585, 0.05488721804511278, 0.07150368033648791, 0.09760105159382189, 0.09696969696969697, 0.0784177654406662, 0.0919661733615222, 0.08019028202514442, 0.0658682634730539, 0.06692913385826772, 0.06636670416197975, 0.08833922261484099, 0.07493188010899182, 0.07580645161290323, 0.06666666666666667, 0.0768025078369906, 0.09865470852017937, 0.112, 0.05471698113207547, 0.07960199004975124, 0.07559523809523809, 0.08595505617977528, 0.07262021589793916, 0.08816705336426914], \"yaxis\": \"y4\"}, {\"legendgroup\": \"3\", \"name\": \"The Punch\", \"type\": \"scatter\", \"x\": [\"2015-01\", \"2015-02\", \"2015-03\", \"2015-04\", \"2015-05\", \"2015-06\", \"2015-07\", \"2015-08\", \"2015-09\", \"2015-10\", \"2015-11\", \"2015-12\", \"2016-02\", \"2016-04\", \"2016-05\", \"2016-06\", \"2016-07\", \"2016-08\", \"2016-09\", \"2016-10\", \"2016-11\", \"2016-12\", \"2017-01\", \"2017-02\", \"2017-03\", \"2017-04\", \"2017-05\", \"2017-06\", \"2017-07\", \"2017-08\", \"2017-09\", \"2017-10\", \"2017-11\", \"2017-12\", \"2018-01\", \"2018-02\", \"2018-03\", \"2018-04\", \"2018-05\", \"2018-06\", \"2018-07\", \"2018-08\", \"2018-09\", \"2018-10\", \"2018-11\", \"2018-12\", \"2019-01\", \"2019-02\", \"2019-03\", \"2019-04\", \"2019-05\", \"2019-06\", \"2019-07\", \"2019-08\", \"2019-09\", \"2019-10\", \"2019-11\", \"2019-12\", \"2020-01\", \"2020-02\", \"2020-03\", \"2020-04\"], \"xaxis\": \"x4\", \"y\": [0.09632446134347275, 0.08140403286034353, 0.06681681681681682, 0.09407337723424271, 0.08925869894099848, 0.0800711743772242, 0.0728476821192053, 0.11833550065019506, 0.09611451942740286, 0.09595959595959595, 0.05993690851735016, 0.0784313725490196, 0.058823529411764705, 0.09467455621301775, 0.08713692946058091, 0.03571428571428571, 0.1514543630892678, 0.09931506849315068, 0.15243004418262152, 0.25, 0.06666666666666667, 0.11535463756819954, 0.15555555555555556, 0.11735941320293398, 0.09289176090468497, 0.1222707423580786, 0.11014103425117529, 0.11279683377308707, 0.11618004866180048, 0.0948566610455312, 0.12603495860165592, 0.1055952881783761, 0.09803921568627451, 0.08085106382978724, 0.1115485564304462, 0.10657596371882086, 0.10311750599520383, 0.09129213483146068, 0.08989657915672236, 0.07708933717579251, 0.0960536113179449, 0.1290625, 0.11461937716262975, 0.09142287234042554, 0.09795067731851337, 0.10506881503860356, 0.11235955056179775, 0.09288990825688073, 0.09612983770287141, 0.06389776357827476, 0.09723461195361284, 0.11320754716981132, 0.10463121783876501, 0.10755148741418764, 0.11726384364820847, 0.10326086956521739, 0.06818181818181818, 0.08941877794336811, 0.08857808857808858, 0.08685064935064934, 0.058823529411764705, 0.14227642276422764], \"yaxis\": \"y4\"}, {\"legendgroup\": \"3\", \"name\": \"The Nation online\", \"type\": \"scatter\", \"x\": [\"2015-01\", \"2015-02\", \"2015-03\", \"2015-07\", \"2015-08\", \"2015-09\", \"2015-10\", \"2015-11\", \"2015-12\", \"2016-01\", \"2016-02\", \"2016-04\", \"2016-05\", \"2016-06\", \"2016-07\", \"2016-08\", \"2016-09\", \"2016-10\", \"2016-11\", \"2016-12\", \"2017-01\", \"2017-02\", \"2017-03\", \"2017-04\", \"2017-05\", \"2017-06\", \"2017-07\", \"2017-08\", \"2017-09\", \"2017-10\", \"2017-11\", \"2017-12\", \"2018-01\", \"2018-02\", \"2018-03\", \"2018-04\", \"2018-05\", \"2018-06\", \"2018-07\", \"2018-08\", \"2018-09\", \"2018-10\", \"2018-11\", \"2018-12\", \"2019-01\", \"2019-02\", \"2019-03\", \"2019-04\", \"2019-05\", \"2019-06\", \"2019-07\", \"2019-08\", \"2019-09\", \"2019-10\", \"2019-11\", \"2019-12\", \"2020-01\", \"2020-02\", \"2020-03\", \"2020-04\"], \"xaxis\": \"x4\", \"y\": [0.1724137931034483, 0.25, 0.23076923076923078, 0.06775067750677506, 0.07739938080495357, 0.07025411061285501, 0.07251908396946564, 0.12786885245901639, 0.05793450881612091, 0.037037037037037035, 0.09782608695652174, 0.1043956043956044, 0.1285444234404537, 0.16, 0.13082706766917293, 0.12603648424543948, 0.0821917808219178, 0.11764705882352941, 0.12121212121212122, 0.12171507607192254, 0.16666666666666666, 0.10899182561307902, 0.09229390681003584, 0.10876803551609324, 0.13194444444444445, 0.15434083601286175, 0.10083160083160084, 0.07881040892193308, 0.08763837638376384, 0.0999259807549963, 0.07795698924731183, 0.08559670781893004, 0.11937377690802348, 0.0932377049180328, 0.12777777777777777, 0.07780979827089338, 0.07802547770700637, 0.07006369426751592, 0.06754658385093168, 0.09455587392550144, 0.06432748538011696, 0.08613938919342208, 0.0821337849280271, 0.057692307692307696, 0.061946902654867256, 0.04854368932038835, 0.04781704781704782, 0.10231023102310231, 0.10380622837370242, 0.07226890756302522, 0.10869565217391304, 0.08441558441558442, 0.12156862745098039, 0.12033195020746888, 0.08829174664107485, 0.08964143426294821, 0.08846761453396525, 0.0875, 0.1336206896551724, 0.1111111111111111], \"yaxis\": \"y4\"}, {\"legendgroup\": \"3\", \"name\": \"Sahara Reporters\", \"type\": \"scatter\", \"x\": [\"2015-01\", \"2015-08\", \"2015-09\", \"2015-10\", \"2015-12\", \"2016-01\", \"2016-02\", \"2016-04\", \"2016-05\", \"2016-07\", \"2016-08\", \"2016-09\", \"2016-12\", \"2017-02\", \"2017-04\", \"2017-05\", \"2017-07\", \"2017-09\", \"2017-10\", \"2017-11\", \"2017-12\", \"2018-02\", \"2018-03\", \"2018-04\", \"2018-05\", \"2018-07\", \"2018-08\", \"2018-09\", \"2018-10\", \"2018-11\", \"2018-12\", \"2019-01\", \"2019-03\", \"2019-04\", \"2019-05\", \"2019-06\", \"2019-07\", \"2019-08\", \"2019-10\", \"2019-11\", \"2019-12\", \"2020-01\", \"2020-03\", \"2020-04\"], \"xaxis\": \"x4\", \"y\": [0.07692307692307693, 0.06779661016949153, 0.07526881720430108, 0.0196078431372549, 0.04861111111111111, 0.75, 0.14492753623188406, 0.08247422680412371, 0.08849557522123894, 0.10416666666666667, 0.06770833333333333, 0.05263157894736842, 0.06451612903225806, 0.05263157894736842, 0.023255813953488372, 0.13636363636363635, 0.2222222222222222, 0.09859154929577464, 0.125, 0.0425531914893617, 0.038461538461538464, 0.15, 0.07142857142857142, 0.09090909090909091, 0.020833333333333332, 0.057692307692307696, 0.010638297872340425, 0.10869565217391304, 0.010309278350515464, 0.078125, 0.07692307692307693, 0.07142857142857142, 0.07894736842105263, 0.0547945205479452, 0.05, 0.09375, 0.09375, 0.07407407407407407, 0.17647058823529413, 0.14285714285714285, 0.08333333333333333, 0.25, 0.0625, 0.0625], \"yaxis\": \"y4\"}, {\"legendgroup\": \"3\", \"name\": \"Sun News\", \"type\": \"scatter\", \"x\": [\"2015-01\", \"2015-02\", \"2015-03\", \"2015-04\", \"2015-05\", \"2015-06\", \"2015-07\", \"2015-08\", \"2015-09\", \"2015-10\", \"2015-11\", \"2015-12\", \"2016-01\", \"2016-02\", \"2016-04\", \"2016-05\", \"2016-07\", \"2016-08\", \"2016-09\", \"2016-12\", \"2017-02\", \"2017-03\", \"2017-04\", \"2017-05\", \"2017-06\", \"2017-07\", \"2017-08\", \"2017-09\", \"2017-10\", \"2017-11\", \"2017-12\", \"2018-01\", \"2018-02\", \"2018-03\", \"2018-04\", \"2018-05\", \"2018-06\", \"2018-07\", \"2018-08\", \"2018-09\", \"2018-10\", \"2018-11\", \"2018-12\", \"2019-01\", \"2019-02\", \"2019-03\", \"2019-04\", \"2019-05\", \"2019-06\", \"2019-07\", \"2019-08\", \"2019-09\", \"2019-10\", \"2019-11\", \"2019-12\", \"2020-01\", \"2020-02\", \"2020-03\", \"2020-04\"], \"xaxis\": \"x4\", \"y\": [0.08323424494649227, 0.055873925501432664, 0.08629441624365482, 0.06153846153846154, 0.10714285714285714, 0.125, 0.04716981132075472, 0.13924050632911392, 0.08955223880597014, 0.10476190476190476, 0.08695652173913043, 0.06666666666666667, 0.1111111111111111, 0.08080808080808081, 0.08609271523178808, 0.08807339449541285, 0.10354223433242507, 0.09651474530831099, 0.10649350649350649, 0.13644859813084112, 0.06772908366533864, 0.10423452768729642, 0.09065550906555091, 0.1, 0.10594594594594595, 0.1144578313253012, 0.13324175824175824, 0.10282776349614396, 0.10820559062218214, 0.0989010989010989, 0.07403936269915651, 0.16306156405990016, 0.10508474576271186, 0.11909650924024641, 0.08244274809160305, 0.0931899641577061, 0.08210180623973727, 0.08797127468581688, 0.11333333333333333, 0.09130913091309131, 0.08558139534883721, 0.09328358208955224, 0.07790821771611527, 0.10586011342155009, 0.05660377358490566, 0.10047846889952153, 0.1021671826625387, 0.09074074074074075, 0.08210526315789474, 0.09358288770053476, 0.07297297297297298, 0.09954751131221719, 0.13219616204690832, 0.07743362831858407, 0.08788598574821853, 0.10256410256410256, 0.09798994974874371, 0.10015898251192369, 0.13740458015267176], \"yaxis\": \"y4\"}],\n",
              "                        {\"legend\": {\"tracegroupgap\": 20}, \"template\": {\"data\": {\"bar\": [{\"error_x\": {\"color\": \"#2a3f5f\"}, \"error_y\": {\"color\": \"#2a3f5f\"}, \"marker\": {\"line\": {\"color\": \"#E5ECF6\", \"width\": 0.5}}, \"type\": \"bar\"}], \"barpolar\": [{\"marker\": {\"line\": {\"color\": \"#E5ECF6\", \"width\": 0.5}}, \"type\": \"barpolar\"}], \"carpet\": [{\"aaxis\": {\"endlinecolor\": \"#2a3f5f\", \"gridcolor\": \"white\", \"linecolor\": \"white\", \"minorgridcolor\": \"white\", \"startlinecolor\": \"#2a3f5f\"}, \"baxis\": {\"endlinecolor\": \"#2a3f5f\", \"gridcolor\": \"white\", \"linecolor\": \"white\", \"minorgridcolor\": \"white\", \"startlinecolor\": \"#2a3f5f\"}, \"type\": \"carpet\"}], \"choropleth\": [{\"colorbar\": {\"outlinewidth\": 0, \"ticks\": \"\"}, \"type\": \"choropleth\"}], \"contour\": [{\"colorbar\": {\"outlinewidth\": 0, \"ticks\": \"\"}, \"colorscale\": [[0.0, \"#0d0887\"], [0.1111111111111111, \"#46039f\"], [0.2222222222222222, \"#7201a8\"], [0.3333333333333333, \"#9c179e\"], [0.4444444444444444, \"#bd3786\"], [0.5555555555555556, \"#d8576b\"], [0.6666666666666666, \"#ed7953\"], [0.7777777777777778, \"#fb9f3a\"], [0.8888888888888888, \"#fdca26\"], [1.0, \"#f0f921\"]], \"type\": \"contour\"}], \"contourcarpet\": [{\"colorbar\": {\"outlinewidth\": 0, \"ticks\": \"\"}, \"type\": \"contourcarpet\"}], \"heatmap\": [{\"colorbar\": {\"outlinewidth\": 0, \"ticks\": \"\"}, \"colorscale\": [[0.0, \"#0d0887\"], [0.1111111111111111, \"#46039f\"], [0.2222222222222222, \"#7201a8\"], [0.3333333333333333, \"#9c179e\"], [0.4444444444444444, \"#bd3786\"], [0.5555555555555556, \"#d8576b\"], [0.6666666666666666, \"#ed7953\"], [0.7777777777777778, \"#fb9f3a\"], [0.8888888888888888, \"#fdca26\"], [1.0, \"#f0f921\"]], \"type\": \"heatmap\"}], \"heatmapgl\": [{\"colorbar\": {\"outlinewidth\": 0, \"ticks\": \"\"}, \"colorscale\": [[0.0, \"#0d0887\"], [0.1111111111111111, \"#46039f\"], [0.2222222222222222, \"#7201a8\"], [0.3333333333333333, \"#9c179e\"], [0.4444444444444444, \"#bd3786\"], [0.5555555555555556, \"#d8576b\"], [0.6666666666666666, \"#ed7953\"], [0.7777777777777778, \"#fb9f3a\"], [0.8888888888888888, \"#fdca26\"], [1.0, \"#f0f921\"]], \"type\": \"heatmapgl\"}], \"histogram\": [{\"marker\": {\"colorbar\": {\"outlinewidth\": 0, \"ticks\": \"\"}}, \"type\": \"histogram\"}], \"histogram2d\": [{\"colorbar\": {\"outlinewidth\": 0, \"ticks\": \"\"}, \"colorscale\": [[0.0, \"#0d0887\"], [0.1111111111111111, \"#46039f\"], [0.2222222222222222, \"#7201a8\"], [0.3333333333333333, \"#9c179e\"], [0.4444444444444444, \"#bd3786\"], [0.5555555555555556, \"#d8576b\"], [0.6666666666666666, \"#ed7953\"], [0.7777777777777778, \"#fb9f3a\"], [0.8888888888888888, \"#fdca26\"], [1.0, \"#f0f921\"]], \"type\": \"histogram2d\"}], \"histogram2dcontour\": [{\"colorbar\": {\"outlinewidth\": 0, \"ticks\": \"\"}, \"colorscale\": [[0.0, \"#0d0887\"], [0.1111111111111111, \"#46039f\"], [0.2222222222222222, \"#7201a8\"], [0.3333333333333333, \"#9c179e\"], [0.4444444444444444, \"#bd3786\"], [0.5555555555555556, \"#d8576b\"], [0.6666666666666666, \"#ed7953\"], [0.7777777777777778, \"#fb9f3a\"], [0.8888888888888888, \"#fdca26\"], [1.0, \"#f0f921\"]], \"type\": \"histogram2dcontour\"}], \"mesh3d\": [{\"colorbar\": {\"outlinewidth\": 0, \"ticks\": \"\"}, \"type\": \"mesh3d\"}], \"parcoords\": [{\"line\": {\"colorbar\": {\"outlinewidth\": 0, \"ticks\": \"\"}}, \"type\": \"parcoords\"}], \"pie\": [{\"automargin\": true, \"type\": \"pie\"}], \"scatter\": [{\"marker\": {\"colorbar\": {\"outlinewidth\": 0, \"ticks\": \"\"}}, \"type\": \"scatter\"}], \"scatter3d\": [{\"line\": {\"colorbar\": {\"outlinewidth\": 0, \"ticks\": \"\"}}, \"marker\": {\"colorbar\": {\"outlinewidth\": 0, \"ticks\": \"\"}}, \"type\": \"scatter3d\"}], \"scattercarpet\": [{\"marker\": {\"colorbar\": {\"outlinewidth\": 0, \"ticks\": \"\"}}, \"type\": \"scattercarpet\"}], \"scattergeo\": [{\"marker\": {\"colorbar\": {\"outlinewidth\": 0, \"ticks\": \"\"}}, \"type\": \"scattergeo\"}], \"scattergl\": [{\"marker\": {\"colorbar\": {\"outlinewidth\": 0, \"ticks\": \"\"}}, \"type\": \"scattergl\"}], \"scattermapbox\": [{\"marker\": {\"colorbar\": {\"outlinewidth\": 0, \"ticks\": \"\"}}, \"type\": \"scattermapbox\"}], \"scatterpolar\": [{\"marker\": {\"colorbar\": {\"outlinewidth\": 0, \"ticks\": \"\"}}, \"type\": \"scatterpolar\"}], \"scatterpolargl\": [{\"marker\": {\"colorbar\": {\"outlinewidth\": 0, \"ticks\": \"\"}}, \"type\": \"scatterpolargl\"}], \"scatterternary\": [{\"marker\": {\"colorbar\": {\"outlinewidth\": 0, \"ticks\": \"\"}}, \"type\": \"scatterternary\"}], \"surface\": [{\"colorbar\": {\"outlinewidth\": 0, \"ticks\": \"\"}, \"colorscale\": [[0.0, \"#0d0887\"], [0.1111111111111111, \"#46039f\"], [0.2222222222222222, \"#7201a8\"], [0.3333333333333333, \"#9c179e\"], [0.4444444444444444, \"#bd3786\"], [0.5555555555555556, \"#d8576b\"], [0.6666666666666666, \"#ed7953\"], [0.7777777777777778, \"#fb9f3a\"], [0.8888888888888888, \"#fdca26\"], [1.0, \"#f0f921\"]], \"type\": \"surface\"}], \"table\": [{\"cells\": {\"fill\": {\"color\": \"#EBF0F8\"}, \"line\": {\"color\": \"white\"}}, \"header\": {\"fill\": {\"color\": \"#C8D4E3\"}, \"line\": {\"color\": \"white\"}}, \"type\": \"table\"}]}, \"layout\": {\"annotationdefaults\": {\"arrowcolor\": \"#2a3f5f\", \"arrowhead\": 0, \"arrowwidth\": 1}, \"coloraxis\": {\"colorbar\": {\"outlinewidth\": 0, \"ticks\": \"\"}}, \"colorscale\": {\"diverging\": [[0, \"#8e0152\"], [0.1, \"#c51b7d\"], [0.2, \"#de77ae\"], [0.3, \"#f1b6da\"], [0.4, \"#fde0ef\"], [0.5, \"#f7f7f7\"], [0.6, \"#e6f5d0\"], [0.7, \"#b8e186\"], [0.8, \"#7fbc41\"], [0.9, \"#4d9221\"], [1, \"#276419\"]], \"sequential\": [[0.0, \"#0d0887\"], [0.1111111111111111, \"#46039f\"], [0.2222222222222222, \"#7201a8\"], [0.3333333333333333, \"#9c179e\"], [0.4444444444444444, \"#bd3786\"], [0.5555555555555556, \"#d8576b\"], [0.6666666666666666, \"#ed7953\"], [0.7777777777777778, \"#fb9f3a\"], [0.8888888888888888, \"#fdca26\"], [1.0, \"#f0f921\"]], \"sequentialminus\": [[0.0, \"#0d0887\"], [0.1111111111111111, \"#46039f\"], [0.2222222222222222, \"#7201a8\"], [0.3333333333333333, \"#9c179e\"], [0.4444444444444444, \"#bd3786\"], [0.5555555555555556, \"#d8576b\"], [0.6666666666666666, \"#ed7953\"], [0.7777777777777778, \"#fb9f3a\"], [0.8888888888888888, \"#fdca26\"], [1.0, \"#f0f921\"]]}, \"colorway\": [\"#636efa\", \"#EF553B\", \"#00cc96\", \"#ab63fa\", \"#FFA15A\", \"#19d3f3\", \"#FF6692\", \"#B6E880\", \"#FF97FF\", \"#FECB52\"], \"font\": {\"color\": \"#2a3f5f\"}, \"geo\": {\"bgcolor\": \"white\", \"lakecolor\": \"white\", \"landcolor\": \"#E5ECF6\", \"showlakes\": true, \"showland\": true, \"subunitcolor\": \"white\"}, \"hoverlabel\": {\"align\": \"left\"}, \"hovermode\": \"closest\", \"mapbox\": {\"style\": \"light\"}, \"paper_bgcolor\": \"white\", \"plot_bgcolor\": \"#E5ECF6\", \"polar\": {\"angularaxis\": {\"gridcolor\": \"white\", \"linecolor\": \"white\", \"ticks\": \"\"}, \"bgcolor\": \"#E5ECF6\", \"radialaxis\": {\"gridcolor\": \"white\", \"linecolor\": \"white\", \"ticks\": \"\"}}, \"scene\": {\"xaxis\": {\"backgroundcolor\": \"#E5ECF6\", \"gridcolor\": \"white\", \"gridwidth\": 2, \"linecolor\": \"white\", \"showbackground\": true, \"ticks\": \"\", \"zerolinecolor\": \"white\"}, \"yaxis\": {\"backgroundcolor\": \"#E5ECF6\", \"gridcolor\": \"white\", \"gridwidth\": 2, \"linecolor\": \"white\", \"showbackground\": true, \"ticks\": \"\", \"zerolinecolor\": \"white\"}, \"zaxis\": {\"backgroundcolor\": \"#E5ECF6\", \"gridcolor\": \"white\", \"gridwidth\": 2, \"linecolor\": \"white\", \"showbackground\": true, \"ticks\": \"\", \"zerolinecolor\": \"white\"}}, \"shapedefaults\": {\"line\": {\"color\": \"#2a3f5f\"}}, \"ternary\": {\"aaxis\": {\"gridcolor\": \"white\", \"linecolor\": \"white\", \"ticks\": \"\"}, \"baxis\": {\"gridcolor\": \"white\", \"linecolor\": \"white\", \"ticks\": \"\"}, \"bgcolor\": \"#E5ECF6\", \"caxis\": {\"gridcolor\": \"white\", \"linecolor\": \"white\", \"ticks\": \"\"}}, \"title\": {\"x\": 0.05}, \"xaxis\": {\"automargin\": true, \"gridcolor\": \"white\", \"linecolor\": \"white\", \"ticks\": \"\", \"title\": {\"standoff\": 15}, \"zerolinecolor\": \"white\", \"zerolinewidth\": 2}, \"yaxis\": {\"automargin\": true, \"gridcolor\": \"white\", \"linecolor\": \"white\", \"ticks\": \"\", \"title\": {\"standoff\": 15}, \"zerolinecolor\": \"white\", \"zerolinewidth\": 2}}}, \"title\": {\"text\": \"Life Expectancy in the Americas\"}, \"xaxis\": {\"anchor\": \"y\", \"domain\": [0.0, 0.45]}, \"xaxis2\": {\"anchor\": \"y2\", \"domain\": [0.55, 1.0]}, \"xaxis3\": {\"anchor\": \"y3\", \"domain\": [0.0, 0.45]}, \"xaxis4\": {\"anchor\": \"y4\", \"domain\": [0.55, 1.0]}, \"yaxis\": {\"anchor\": \"x\", \"domain\": [0.575, 1.0]}, \"yaxis2\": {\"anchor\": \"x2\", \"domain\": [0.575, 1.0]}, \"yaxis3\": {\"anchor\": \"x3\", \"domain\": [0.0, 0.425]}, \"yaxis4\": {\"anchor\": \"x4\", \"domain\": [0.0, 0.425]}},\n",
              "                        {\"responsive\": true}\n",
              "                    ).then(function(){\n",
              "                            \n",
              "var gd = document.getElementById('454bd044-dba7-48e7-8702-4fa2fd881a06');\n",
              "var x = new MutationObserver(function (mutations, observer) {{\n",
              "        var display = window.getComputedStyle(gd).display;\n",
              "        if (!display || display === 'none') {{\n",
              "            console.log([gd, 'removed!']);\n",
              "            Plotly.purge(gd);\n",
              "            observer.disconnect();\n",
              "        }}\n",
              "}});\n",
              "\n",
              "// Listen for the removal of the full notebook cells\n",
              "var notebookContainer = gd.closest('#notebook-container');\n",
              "if (notebookContainer) {{\n",
              "    x.observe(notebookContainer, {childList: true});\n",
              "}}\n",
              "\n",
              "// Listen for the clearing of the current output cell\n",
              "var outputEl = gd.closest('.output');\n",
              "if (outputEl) {{\n",
              "    x.observe(outputEl, {childList: true});\n",
              "}}\n",
              "\n",
              "                        })\n",
              "                };\n",
              "                \n",
              "            </script>\n",
              "        </div>\n",
              "</body>\n",
              "</html>"
            ]
          },
          "metadata": {}
        }
      ],
      "source": [
        "from plotly.subplots import make_subplots\n",
        "fig = make_subplots(rows=2, cols=2)\n",
        "\n",
        "for i, (df, news_df) in enumerate(zip(dataframes, newspapers)):\n",
        "    month_df = df.groupby('newspaper').resample('M', on='date').sum().reset_index()\n",
        "    month_df['date'] = month_df['date'].dt.strftime(\"%Y-%m\")\n",
        "    month_df['fraction_female'] = month_df['counts_female'] / (month_df['counts_female'] + month_df['counts_male'] + month_df['counts_other'])\n",
        "    female_quotes = month_df.loc[month_df['counts_female'] != 0]\n",
        "\n",
        "    row = i // 2 + 1\n",
        "    col = (i % 2) + 1\n",
        "    \n",
        "    for news in news_df['name']:\n",
        "        female_news = female_quotes.loc[female_quotes['newspaper'] == news]\n",
        "        fig.append_trace(go.Scatter(x=female_news['date'], y=female_news['fraction_female'], name=news, legendgroup=str(i)), row=row, col=col)\n",
        "\n",
        "fig.update_layout(\n",
        "    legend_tracegroupgap = 20,\n",
        ")\n",
        "\n",
        "fig.show()\n"
      ]
    },
    {
      "cell_type": "code",
      "execution_count": null,
      "metadata": {
        "colab": {
          "base_uri": "https://localhost:8080/",
          "height": 542
        },
        "id": "m8JQQiHRYZyQ",
        "outputId": "0200a12c-42d6-42c6-872f-ccadf823c796"
      },
      "outputs": [
        {
          "output_type": "display_data",
          "data": {
            "text/html": [
              "<html>\n",
              "<head><meta charset=\"utf-8\" /></head>\n",
              "<body>\n",
              "    <div>\n",
              "            <script src=\"https://cdnjs.cloudflare.com/ajax/libs/mathjax/2.7.5/MathJax.js?config=TeX-AMS-MML_SVG\"></script><script type=\"text/javascript\">if (window.MathJax) {MathJax.Hub.Config({SVG: {font: \"STIX-Web\"}});}</script>\n",
              "                <script type=\"text/javascript\">window.PlotlyConfig = {MathJaxConfig: 'local'};</script>\n",
              "        <script src=\"https://cdn.plot.ly/plotly-latest.min.js\"></script>    \n",
              "            <div id=\"3f9cd4ac-f5fd-4a3e-996c-a13ff21bb474\" class=\"plotly-graph-div\" style=\"height:525px; width:100%;\"></div>\n",
              "            <script type=\"text/javascript\">\n",
              "                \n",
              "                    window.PLOTLYENV=window.PLOTLYENV || {};\n",
              "                    \n",
              "                if (document.getElementById(\"3f9cd4ac-f5fd-4a3e-996c-a13ff21bb474\")) {\n",
              "                    Plotly.newPlot(\n",
              "                        '3f9cd4ac-f5fd-4a3e-996c-a13ff21bb474',\n",
              "                        [{\"hoverlabel\": {\"namelength\": 0}, \"hovertemplate\": \"newspaper=City A.M.<br>date=%{x}<br>counts_occ_male=%{y}\", \"legendgroup\": \"newspaper=City A.M.\", \"line\": {\"color\": \"#636efa\", \"dash\": \"solid\"}, \"mode\": \"lines\", \"name\": \"newspaper=City A.M.\", \"showlegend\": true, \"type\": \"scatter\", \"x\": [\"2015-01\", \"2015-02\", \"2015-03\", \"2015-04\", \"2015-05\", \"2015-06\", \"2015-07\", \"2015-08\", \"2015-09\", \"2015-10\", \"2015-11\", \"2015-12\", \"2016-01\", \"2016-02\", \"2016-04\", \"2016-05\", \"2016-06\", \"2016-07\", \"2016-08\", \"2016-09\", \"2016-10\", \"2016-11\", \"2016-12\", \"2017-01\", \"2017-02\", \"2017-03\", \"2017-04\", \"2017-05\", \"2017-06\", \"2017-07\", \"2017-08\", \"2017-09\", \"2017-10\", \"2017-11\", \"2017-12\", \"2018-01\", \"2018-02\", \"2018-03\", \"2018-04\", \"2018-05\", \"2018-06\", \"2018-07\", \"2018-08\", \"2018-09\", \"2018-10\", \"2018-11\", \"2018-12\", \"2020-01\", \"2020-02\", \"2020-03\", \"2020-04\"], \"xaxis\": \"x\", \"y\": [2663, 2954, 6763, 1684, 1579, 1747, 2335, 4328, 5101, 3515, 2292, 8612, 11, 1524, 1749, 2560, 691, 11592, 6581, 10300, 2, 103, 8326, 656, 13004, 22910, 40192, 43964, 22304, 38724, 86536, 45126, 33008, 31218, 24750, 17911, 13048, 18327, 20113, 27785, 13855, 30070, 12732, 14160, 14098, 14543, 8036, 15295, 9183, 6020, 1630], \"yaxis\": \"y\"}, {\"hoverlabel\": {\"namelength\": 0}, \"hovertemplate\": \"newspaper=Daily Express<br>date=%{x}<br>counts_occ_male=%{y}\", \"legendgroup\": \"newspaper=Daily Express\", \"line\": {\"color\": \"#EF553B\", \"dash\": \"solid\"}, \"mode\": \"lines\", \"name\": \"newspaper=Daily Express\", \"showlegend\": true, \"type\": \"scatter\", \"x\": [\"2015-01\", \"2015-02\", \"2015-03\", \"2015-04\", \"2015-05\", \"2015-06\", \"2015-07\", \"2015-08\", \"2015-09\", \"2015-10\", \"2015-11\", \"2015-12\", \"2016-01\", \"2016-02\", \"2016-03\", \"2016-04\", \"2016-05\", \"2016-06\", \"2016-07\", \"2016-08\", \"2016-09\", \"2016-10\", \"2016-11\", \"2016-12\", \"2017-01\", \"2017-02\", \"2017-03\", \"2017-04\", \"2017-05\", \"2017-06\", \"2017-07\", \"2017-08\", \"2017-09\", \"2017-10\", \"2017-11\", \"2017-12\", \"2018-01\", \"2018-02\", \"2018-03\", \"2018-04\", \"2018-05\", \"2018-06\", \"2018-07\", \"2018-08\", \"2018-09\", \"2018-10\", \"2018-11\", \"2018-12\", \"2020-01\", \"2020-02\", \"2020-03\", \"2020-04\"], \"xaxis\": \"x\", \"y\": [19114, 20385, 18184, 11739, 27691, 36350, 154081, 195024, 175571, 174695, 119745, 184697, 2289, 83298, 336, 61842, 194578, 3095, 203619, 186124, 239518, 2872, 7814, 247455, 8532, 66446, 424612, 1323556, 1013806, 1296554, 1135590, 717072, 553570, 1068708, 1139758, 952086, 685612, 94333, 801315, 750436, 854689, 812808, 702624, 573245, 861119, 665857, 30217, 520504, 573442, 396558, 285261, 64024], \"yaxis\": \"y\"}, {\"hoverlabel\": {\"namelength\": 0}, \"hovertemplate\": \"newspaper=Daily Mail<br>date=%{x}<br>counts_occ_male=%{y}\", \"legendgroup\": \"newspaper=Daily Mail\", \"line\": {\"color\": \"#00cc96\", \"dash\": \"solid\"}, \"mode\": \"lines\", \"name\": \"newspaper=Daily Mail\", \"showlegend\": true, \"type\": \"scatter\", \"x\": [\"2015-01\", \"2015-02\", \"2015-03\", \"2015-04\", \"2015-05\", \"2015-06\", \"2015-07\", \"2015-08\", \"2015-09\", \"2015-10\", \"2015-11\", \"2015-12\", \"2016-01\", \"2016-02\", \"2016-04\", \"2016-05\", \"2016-06\", \"2016-07\", \"2016-08\", \"2016-09\", \"2016-10\", \"2016-11\", \"2016-12\", \"2017-01\", \"2017-02\", \"2017-03\", \"2017-04\", \"2017-05\", \"2017-06\", \"2017-07\", \"2017-08\", \"2017-09\", \"2017-10\", \"2017-11\", \"2017-12\", \"2018-01\", \"2018-02\", \"2018-03\", \"2018-04\", \"2018-05\", \"2018-06\", \"2018-07\", \"2018-08\", \"2018-09\", \"2018-10\", \"2018-11\", \"2018-12\", \"2020-01\", \"2020-02\", \"2020-03\", \"2020-04\"], \"xaxis\": \"x\", \"y\": [1852, 1024, 2070, 1238, 1080, 4598, 7815, 6640, 3458, 4457, 2417, 9358, 92, 5390, 4118, 3052, 381, 12809, 4786, 8058, 30, 3370, 4594, 16506, 10230, 15334, 13064, 26620, 27498, 65052, 1234920, 654474, 97804, 15514, 12992, 8219, 12266, 43913, 58527, 30262, 16980, 11390, 9300, 19418, 17118, 12101, 13428, 26006, 25276, 39553, 9176], \"yaxis\": \"y\"}, {\"hoverlabel\": {\"namelength\": 0}, \"hovertemplate\": \"newspaper=Daily Mirror<br>date=%{x}<br>counts_occ_male=%{y}\", \"legendgroup\": \"newspaper=Daily Mirror\", \"line\": {\"color\": \"#ab63fa\", \"dash\": \"solid\"}, \"mode\": \"lines\", \"name\": \"newspaper=Daily Mirror\", \"showlegend\": true, \"type\": \"scatter\", \"x\": [\"2015-01\", \"2015-02\", \"2015-03\", \"2015-04\", \"2015-05\", \"2015-06\", \"2015-07\", \"2015-08\", \"2015-09\", \"2015-10\", \"2015-11\", \"2015-12\", \"2016-01\", \"2016-02\", \"2016-03\", \"2016-04\", \"2016-05\", \"2016-06\", \"2016-07\", \"2016-08\", \"2016-09\", \"2016-10\", \"2016-11\", \"2016-12\", \"2017-01\", \"2017-02\", \"2017-03\", \"2017-04\", \"2017-05\", \"2017-06\", \"2017-07\", \"2017-08\", \"2017-09\", \"2017-10\", \"2017-11\", \"2017-12\", \"2018-01\", \"2018-02\", \"2018-03\", \"2018-04\", \"2018-05\", \"2018-06\", \"2018-07\", \"2018-08\", \"2018-09\", \"2018-10\", \"2018-11\", \"2018-12\", \"2020-01\", \"2020-02\", \"2020-03\", \"2020-04\"], \"xaxis\": \"x\", \"y\": [12951, 14289, 13675, 12299, 14160, 19641, 43672, 48498, 45250, 46264, 56484, 62160, 788, 29193, 122, 28279, 63304, 1985, 82393, 65023, 66239, 523, 1772, 59323, 20378, 45276, 140056, 192862, 245622, 231278, 250052, 346504, 297124, 295148, 268736, 196674, 131031, 111380, 155489, 145150, 129605, 112218, 124508, 104450, 128224, 120347, 102254, 82287, 89612, 66444, 50757, 14993], \"yaxis\": \"y\"}, {\"hoverlabel\": {\"namelength\": 0}, \"hovertemplate\": \"newspaper=Daily Record<br>date=%{x}<br>counts_occ_male=%{y}\", \"legendgroup\": \"newspaper=Daily Record\", \"line\": {\"color\": \"#FFA15A\", \"dash\": \"solid\"}, \"mode\": \"lines\", \"name\": \"newspaper=Daily Record\", \"showlegend\": true, \"type\": \"scatter\", \"x\": [\"2015-01\", \"2015-02\", \"2015-03\", \"2015-04\", \"2015-05\", \"2015-06\", \"2015-07\", \"2015-08\", \"2015-09\", \"2015-10\", \"2015-11\", \"2015-12\", \"2016-01\", \"2016-02\", \"2016-03\", \"2016-04\", \"2016-05\", \"2016-06\", \"2016-07\", \"2016-08\", \"2016-09\", \"2016-10\", \"2016-11\", \"2016-12\", \"2017-01\", \"2017-02\", \"2017-03\", \"2017-04\", \"2017-05\", \"2017-06\", \"2017-07\", \"2017-08\", \"2017-09\", \"2017-10\", \"2017-11\", \"2017-12\", \"2018-01\", \"2018-02\", \"2018-03\", \"2018-04\", \"2018-05\", \"2018-06\", \"2018-07\", \"2018-08\", \"2018-09\", \"2018-10\", \"2018-11\", \"2018-12\", \"2020-01\", \"2020-02\", \"2020-03\", \"2020-04\"], \"xaxis\": \"x\", \"y\": [6450, 6213, 5906, 4494, 4552, 5024, 21172, 19027, 20231, 19471, 24299, 37049, 255, 7103, 8, 10893, 25213, 1112, 40331, 27526, 42869, 3, 2230, 27308, 2296, 11098, 54812, 78272, 34588, 117308, 71240, 140334, 69018, 107250, 79052, 72444, 43763, 49614, 43669, 46049, 51491, 56756, 51859, 46747, 47328, 54135, 50662, 36306, 28249, 22038, 15620, 3444], \"yaxis\": \"y\"}, {\"hoverlabel\": {\"namelength\": 0}, \"hovertemplate\": \"newspaper=Daily Star<br>date=%{x}<br>counts_occ_male=%{y}\", \"legendgroup\": \"newspaper=Daily Star\", \"line\": {\"color\": \"#19d3f3\", \"dash\": \"solid\"}, \"mode\": \"lines\", \"name\": \"newspaper=Daily Star\", \"showlegend\": true, \"type\": \"scatter\", \"x\": [\"2015-01\", \"2015-02\", \"2015-03\", \"2015-04\", \"2015-05\", \"2015-06\", \"2015-07\", \"2015-08\", \"2015-09\", \"2015-10\", \"2015-11\", \"2015-12\", \"2016-01\", \"2016-02\", \"2016-03\", \"2016-04\", \"2016-05\", \"2016-06\", \"2016-07\", \"2016-08\", \"2016-09\", \"2016-10\", \"2016-11\", \"2016-12\", \"2017-01\", \"2017-02\", \"2017-03\", \"2017-04\", \"2017-05\", \"2017-06\", \"2017-07\", \"2017-08\", \"2017-09\", \"2017-10\", \"2017-11\", \"2017-12\", \"2018-01\", \"2018-02\", \"2018-03\", \"2018-04\", \"2018-05\", \"2018-06\", \"2018-07\", \"2018-08\", \"2018-09\", \"2018-10\", \"2018-11\", \"2018-12\", \"2020-01\", \"2020-02\", \"2020-03\", \"2020-04\"], \"xaxis\": \"x\", \"y\": [7909, 6487, 10430, 9554, 4755, 4102, 3225, 2569, 2234, 3842, 17202, 27981, 188, 14250, 276, 7798, 27817, 909, 21079, 25474, 32624, 54, 2906, 37200, 14746, 20268, 49822, 118814, 75288, 89368, 86756, 157432, 165124, 150858, 102600, 85774, 49477, 47600, 55183, 64596, 62700, 54661, 63501, 56306, 58667, 60447, 6904, 38848, 32815, 32171, 28509, 7666], \"yaxis\": \"y\"}, {\"hoverlabel\": {\"namelength\": 0}, \"hovertemplate\": \"newspaper=Evening Standard<br>date=%{x}<br>counts_occ_male=%{y}\", \"legendgroup\": \"newspaper=Evening Standard\", \"line\": {\"color\": \"#FF6692\", \"dash\": \"solid\"}, \"mode\": \"lines\", \"name\": \"newspaper=Evening Standard\", \"showlegend\": true, \"type\": \"scatter\", \"x\": [\"2015-01\", \"2015-02\", \"2015-03\", \"2015-04\", \"2015-05\", \"2015-06\", \"2015-07\", \"2015-08\", \"2015-09\", \"2015-10\", \"2015-11\", \"2015-12\", \"2016-01\", \"2016-02\", \"2016-03\", \"2016-04\", \"2016-05\", \"2016-06\", \"2016-07\", \"2016-08\", \"2016-09\", \"2016-10\", \"2016-11\", \"2016-12\", \"2017-01\", \"2017-02\", \"2017-03\", \"2017-04\", \"2017-05\", \"2017-06\", \"2017-07\", \"2017-08\", \"2017-09\", \"2017-10\", \"2017-11\", \"2017-12\", \"2018-01\", \"2018-02\", \"2018-03\", \"2018-04\", \"2018-05\", \"2018-06\", \"2018-07\", \"2018-08\", \"2018-09\", \"2018-10\", \"2018-11\", \"2018-12\", \"2020-01\", \"2020-02\", \"2020-03\", \"2020-04\"], \"xaxis\": \"x\", \"y\": [19060, 22246, 25452, 12264, 10353, 11702, 151208, 210928, 180732, 180544, 77335, 160191, 1581, 35073, 126, 57294, 162738, 2639, 158651, 160172, 182592, 2122, 4419, 178033, 3522, 84030, 530168, 1084878, 958066, 1081676, 1031056, 1037894, 1155464, 1306814, 1208530, 1036360, 750888, 836288, 973493, 759809, 782911, 795373, 708799, 601689, 849489, 791281, 747744, 565605, 645626, 496431, 389128, 125539], \"yaxis\": \"y\"}, {\"hoverlabel\": {\"namelength\": 0}, \"hovertemplate\": \"newspaper=Financial Times<br>date=%{x}<br>counts_occ_male=%{y}\", \"legendgroup\": \"newspaper=Financial Times\", \"line\": {\"color\": \"#B6E880\", \"dash\": \"solid\"}, \"mode\": \"lines\", \"name\": \"newspaper=Financial Times\", \"showlegend\": true, \"type\": \"scatter\", \"x\": [\"2015-01\", \"2015-02\", \"2015-03\", \"2015-04\", \"2015-05\", \"2015-06\", \"2015-07\", \"2015-08\", \"2015-09\", \"2015-10\", \"2015-11\", \"2015-12\", \"2016-01\", \"2016-02\", \"2016-03\", \"2016-04\", \"2016-05\", \"2016-06\", \"2016-07\", \"2016-08\", \"2016-09\", \"2016-10\", \"2016-11\", \"2016-12\", \"2017-01\", \"2017-02\", \"2017-03\", \"2017-04\", \"2017-05\", \"2017-06\", \"2017-07\", \"2017-08\", \"2017-09\", \"2017-10\", \"2017-11\", \"2017-12\", \"2018-01\", \"2018-02\", \"2018-03\", \"2018-04\", \"2018-05\", \"2018-06\", \"2018-07\", \"2018-08\", \"2018-09\", \"2018-10\", \"2018-11\", \"2018-12\", \"2020-01\", \"2020-02\", \"2020-03\", \"2020-04\"], \"xaxis\": \"x\", \"y\": [618, 881, 872, 504, 1033, 457, 2464, 1559, 2681, 3048, 3905, 12102, 2, 3181, 1, 2159, 5324, 33, 9942, 3875, 5974, 2, 232, 8071, 194, 17362, 26234, 19242, 17212, 6310, 13310, 65846, 40054, 46870, 20216, 10884, 4548, 5920, 10255, 4611, 5461, 5381, 2072, 1788, 2740, 2156, 3584, 2079, 2682, 1395, 2638, 169], \"yaxis\": \"y\"}, {\"hoverlabel\": {\"namelength\": 0}, \"hovertemplate\": \"newspaper=Metro<br>date=%{x}<br>counts_occ_male=%{y}\", \"legendgroup\": \"newspaper=Metro\", \"line\": {\"color\": \"#FF97FF\", \"dash\": \"solid\"}, \"mode\": \"lines\", \"name\": \"newspaper=Metro\", \"showlegend\": true, \"type\": \"scatter\", \"x\": [\"2015-01\", \"2015-02\", \"2015-03\", \"2015-04\", \"2015-05\", \"2015-06\", \"2015-07\", \"2015-08\", \"2015-09\", \"2015-10\", \"2015-11\", \"2015-12\", \"2016-02\", \"2016-04\", \"2016-05\", \"2016-07\", \"2016-08\", \"2016-09\", \"2016-12\", \"2017-01\", \"2017-02\", \"2017-03\", \"2017-04\", \"2017-05\", \"2017-06\", \"2017-07\", \"2017-08\", \"2017-09\", \"2017-10\", \"2017-11\", \"2017-12\", \"2018-01\", \"2018-02\", \"2018-03\", \"2018-04\", \"2018-05\", \"2018-06\", \"2018-07\", \"2018-08\", \"2018-09\", \"2018-10\", \"2018-11\", \"2018-12\", \"2020-01\", \"2020-02\", \"2020-03\", \"2020-04\"], \"xaxis\": \"x\", \"y\": [5, 21, 6, 6, 4, 2, 84, 22, 43, 22, 36, 562, 124, 59, 517, 183, 838, 96, 87, 25392, 488, 302, 4010, 982, 482, 588, 35562, 2038, 836, 1726, 2644, 32, 2311, 85, 54, 304, 248, 350, 81, 850, 371, 256, 1264, 383, 742, 127, 55], \"yaxis\": \"y\"}, {\"hoverlabel\": {\"namelength\": 0}, \"hovertemplate\": \"newspaper=The Daily Telegraph<br>date=%{x}<br>counts_occ_male=%{y}\", \"legendgroup\": \"newspaper=The Daily Telegraph\", \"line\": {\"color\": \"#FECB52\", \"dash\": \"solid\"}, \"mode\": \"lines\", \"name\": \"newspaper=The Daily Telegraph\", \"showlegend\": true, \"type\": \"scatter\", \"x\": [\"2015-01\", \"2015-02\", \"2015-03\", \"2015-04\", \"2015-05\", \"2015-06\", \"2015-07\", \"2015-08\", \"2015-09\", \"2015-10\", \"2015-11\", \"2015-12\", \"2016-01\", \"2016-02\", \"2016-03\", \"2016-04\", \"2016-05\", \"2016-06\", \"2016-07\", \"2016-08\", \"2016-09\", \"2016-10\", \"2016-11\", \"2016-12\", \"2017-01\", \"2017-02\", \"2017-03\", \"2017-04\", \"2017-05\", \"2017-06\", \"2017-07\", \"2017-08\", \"2017-09\", \"2017-10\", \"2017-11\", \"2017-12\", \"2018-01\", \"2018-02\", \"2018-03\", \"2018-04\", \"2018-05\", \"2018-06\", \"2018-07\", \"2018-08\", \"2018-09\", \"2018-10\", \"2018-11\", \"2018-12\", \"2020-01\", \"2020-02\", \"2020-03\", \"2020-04\"], \"xaxis\": \"x\", \"y\": [108540, 97633, 110697, 79074, 43786, 40802, 176777, 263182, 213859, 224741, 159779, 166123, 1022, 80420, 3296, 83056, 185025, 3207, 198822, 190037, 188637, 3904, 5103, 194250, 6536, 104972, 725850, 1325920, 790218, 1344746, 1304726, 1387192, 1463570, 1518864, 1454864, 1186338, 800426, 860308, 1002293, 786075, 866023, 818807, 721159, 602407, 862636, 789566, 759253, 558658, 645594, 499111, 363580, 113937], \"yaxis\": \"y\"}, {\"hoverlabel\": {\"namelength\": 0}, \"hovertemplate\": \"newspaper=The Guardian<br>date=%{x}<br>counts_occ_male=%{y}\", \"legendgroup\": \"newspaper=The Guardian\", \"line\": {\"color\": \"#636efa\", \"dash\": \"solid\"}, \"mode\": \"lines\", \"name\": \"newspaper=The Guardian\", \"showlegend\": true, \"type\": \"scatter\", \"x\": [\"2015-01\", \"2015-02\", \"2015-03\", \"2015-04\", \"2015-05\", \"2015-06\", \"2015-07\", \"2015-08\", \"2015-09\", \"2015-10\", \"2015-11\", \"2015-12\", \"2016-01\", \"2016-02\", \"2016-03\", \"2016-04\", \"2016-05\", \"2016-06\", \"2016-07\", \"2016-08\", \"2016-09\", \"2016-10\", \"2016-11\", \"2016-12\", \"2017-01\", \"2017-02\", \"2017-03\", \"2017-04\", \"2017-05\", \"2017-06\", \"2017-07\", \"2017-08\", \"2017-09\", \"2017-10\", \"2017-11\", \"2017-12\", \"2018-01\", \"2018-02\", \"2018-03\", \"2018-04\", \"2018-05\", \"2018-06\", \"2018-07\", \"2018-08\", \"2018-09\", \"2018-10\", \"2018-11\", \"2018-12\", \"2020-01\", \"2020-02\", \"2020-03\", \"2020-04\"], \"xaxis\": \"x\", \"y\": [102838, 86010, 109527, 76524, 63413, 59372, 120864, 178598, 188222, 166259, 89784, 124025, 3159, 65134, 3877, 5849, 4429, 1979, 11912, 11346, 17030, 2550, 2759, 5545, 5942, 13512, 9666, 16506, 26548, 45530, 83862, 155422, 115140, 118268, 54246, 32826, 19285, 12242, 20705, 19140, 21528, 18088, 12331, 18537, 44691, 15705, 14576, 11035, 14745, 12061, 10237, 2265], \"yaxis\": \"y\"}, {\"hoverlabel\": {\"namelength\": 0}, \"hovertemplate\": \"newspaper=The Sun<br>date=%{x}<br>counts_occ_male=%{y}\", \"legendgroup\": \"newspaper=The Sun\", \"line\": {\"color\": \"#EF553B\", \"dash\": \"solid\"}, \"mode\": \"lines\", \"name\": \"newspaper=The Sun\", \"showlegend\": true, \"type\": \"scatter\", \"x\": [\"2015-01\", \"2015-02\", \"2015-03\", \"2015-04\", \"2015-05\", \"2015-06\", \"2015-07\", \"2015-08\", \"2015-09\", \"2015-10\", \"2015-11\", \"2015-12\", \"2016-01\", \"2016-02\", \"2016-03\", \"2016-04\", \"2016-05\", \"2016-06\", \"2016-07\", \"2016-08\", \"2016-09\", \"2016-10\", \"2016-11\", \"2016-12\", \"2017-01\", \"2017-02\", \"2017-03\", \"2017-04\", \"2017-05\", \"2017-06\", \"2017-07\", \"2017-08\", \"2017-09\", \"2017-10\", \"2017-11\", \"2017-12\", \"2018-01\", \"2018-02\", \"2018-03\", \"2018-04\", \"2018-05\", \"2018-06\", \"2018-07\", \"2018-08\", \"2018-09\", \"2018-10\", \"2018-11\", \"2018-12\", \"2020-01\", \"2020-02\", \"2020-03\", \"2020-04\"], \"xaxis\": \"x\", \"y\": [2489, 2671, 7594, 4439, 776, 810, 6242, 2776, 3960, 5081, 1835, 8580, 6, 8019, 3488, 7420, 10350, 935, 42790, 40947, 54936, 294, 6014, 62030, 18054, 31754, 71022, 111756, 149104, 80630, 113626, 253294, 202538, 186262, 88302, 18920, 26471, 53640, 67038, 51483, 58640, 57819, 71445, 87378, 76819, 85430, 73237, 55636, 50823, 40485, 41990, 10644], \"yaxis\": \"y\"}, {\"hoverlabel\": {\"namelength\": 0}, \"hovertemplate\": \"newspaper=The Times<br>date=%{x}<br>counts_occ_male=%{y}\", \"legendgroup\": \"newspaper=The Times\", \"line\": {\"color\": \"#00cc96\", \"dash\": \"solid\"}, \"mode\": \"lines\", \"name\": \"newspaper=The Times\", \"showlegend\": true, \"type\": \"scatter\", \"x\": [\"2015-01\", \"2015-02\", \"2015-03\", \"2015-04\", \"2015-05\", \"2015-06\", \"2015-07\", \"2015-08\", \"2015-09\", \"2015-10\", \"2015-11\", \"2015-12\", \"2016-01\", \"2016-02\", \"2016-03\", \"2016-04\", \"2016-05\", \"2016-06\", \"2016-07\", \"2016-08\", \"2016-09\", \"2016-10\", \"2016-11\", \"2016-12\", \"2017-02\", \"2017-03\", \"2017-04\", \"2017-05\", \"2017-06\", \"2017-07\", \"2017-08\", \"2017-09\", \"2017-10\", \"2017-11\", \"2017-12\", \"2018-01\", \"2018-02\", \"2018-03\", \"2018-04\", \"2018-05\", \"2018-06\", \"2018-07\", \"2018-08\", \"2018-09\", \"2018-10\", \"2018-11\", \"2018-12\", \"2020-01\", \"2020-02\", \"2020-03\", \"2020-04\"], \"xaxis\": \"x\", \"y\": [1870, 917, 997, 454, 646, 3382, 1251, 2028, 2912, 944, 2356, 11278, 26, 1451, 1058, 786, 3831, 356, 8716, 7057, 7773, 3, 12, 5358, 2196, 9922, 3948, 6364, 10848, 1768, 44172, 3458, 866, 1846, 2986, 399, 1595, 7086, 818, 1594, 4482, 4430, 4535, 4219, 5465, 7100, 7326, 7971, 3720, 4423, 2203], \"yaxis\": \"y\"}, {\"hoverlabel\": {\"namelength\": 0}, \"hovertemplate\": \"newspaper=i<br>date=%{x}<br>counts_occ_male=%{y}\", \"legendgroup\": \"newspaper=i\", \"line\": {\"color\": \"#ab63fa\", \"dash\": \"solid\"}, \"mode\": \"lines\", \"name\": \"newspaper=i\", \"showlegend\": true, \"type\": \"scatter\", \"x\": [\"2015-01\", \"2015-02\", \"2015-03\", \"2015-04\", \"2015-05\", \"2015-06\", \"2015-07\", \"2015-08\", \"2015-09\", \"2015-10\", \"2015-11\", \"2015-12\", \"2016-02\", \"2016-04\", \"2016-05\", \"2016-06\", \"2016-07\", \"2016-08\", \"2016-09\", \"2016-10\", \"2016-11\", \"2016-12\", \"2017-01\", \"2017-02\", \"2017-03\", \"2017-04\", \"2017-05\", \"2017-06\", \"2017-07\", \"2017-08\", \"2017-09\", \"2017-10\", \"2017-11\", \"2017-12\", \"2018-01\", \"2018-02\", \"2018-03\", \"2018-04\", \"2018-05\", \"2018-06\", \"2018-07\", \"2018-08\", \"2018-09\", \"2018-10\", \"2018-11\", \"2018-12\", \"2020-01\", \"2020-02\", \"2020-03\", \"2020-04\"], \"xaxis\": \"x\", \"y\": [1420, 1449, 486, 189, 186, 46, 800, 1434, 1891, 1210, 1307, 695, 2184, 1310, 2437, 868, 2690, 5835, 1706, 672, 251, 2203, 3082, 4510, 20232, 54026, 40068, 68872, 55438, 125614, 128092, 104888, 67590, 79454, 55801, 38414, 56461, 38308, 55070, 54438, 43839, 44442, 63168, 53238, 56436, 37926, 43902, 26718, 21014, 6483], \"yaxis\": \"y\"}],\n",
              "                        {\"legend\": {\"tracegroupgap\": 0}, \"margin\": {\"t\": 60}, \"template\": {\"data\": {\"bar\": [{\"error_x\": {\"color\": \"#2a3f5f\"}, \"error_y\": {\"color\": \"#2a3f5f\"}, \"marker\": {\"line\": {\"color\": \"#E5ECF6\", \"width\": 0.5}}, \"type\": \"bar\"}], \"barpolar\": [{\"marker\": {\"line\": {\"color\": \"#E5ECF6\", \"width\": 0.5}}, \"type\": \"barpolar\"}], \"carpet\": [{\"aaxis\": {\"endlinecolor\": \"#2a3f5f\", \"gridcolor\": \"white\", \"linecolor\": \"white\", \"minorgridcolor\": \"white\", \"startlinecolor\": \"#2a3f5f\"}, \"baxis\": {\"endlinecolor\": \"#2a3f5f\", \"gridcolor\": \"white\", \"linecolor\": \"white\", \"minorgridcolor\": \"white\", \"startlinecolor\": \"#2a3f5f\"}, \"type\": \"carpet\"}], \"choropleth\": [{\"colorbar\": {\"outlinewidth\": 0, \"ticks\": \"\"}, \"type\": \"choropleth\"}], \"contour\": [{\"colorbar\": {\"outlinewidth\": 0, \"ticks\": \"\"}, \"colorscale\": [[0.0, \"#0d0887\"], [0.1111111111111111, \"#46039f\"], [0.2222222222222222, \"#7201a8\"], [0.3333333333333333, \"#9c179e\"], [0.4444444444444444, \"#bd3786\"], [0.5555555555555556, \"#d8576b\"], [0.6666666666666666, \"#ed7953\"], [0.7777777777777778, \"#fb9f3a\"], [0.8888888888888888, \"#fdca26\"], [1.0, \"#f0f921\"]], \"type\": \"contour\"}], \"contourcarpet\": [{\"colorbar\": {\"outlinewidth\": 0, \"ticks\": \"\"}, \"type\": \"contourcarpet\"}], \"heatmap\": [{\"colorbar\": {\"outlinewidth\": 0, \"ticks\": \"\"}, \"colorscale\": [[0.0, \"#0d0887\"], [0.1111111111111111, \"#46039f\"], [0.2222222222222222, \"#7201a8\"], [0.3333333333333333, \"#9c179e\"], [0.4444444444444444, \"#bd3786\"], [0.5555555555555556, \"#d8576b\"], [0.6666666666666666, \"#ed7953\"], [0.7777777777777778, \"#fb9f3a\"], [0.8888888888888888, \"#fdca26\"], [1.0, \"#f0f921\"]], \"type\": \"heatmap\"}], \"heatmapgl\": [{\"colorbar\": {\"outlinewidth\": 0, \"ticks\": \"\"}, \"colorscale\": [[0.0, \"#0d0887\"], [0.1111111111111111, \"#46039f\"], [0.2222222222222222, \"#7201a8\"], [0.3333333333333333, \"#9c179e\"], [0.4444444444444444, \"#bd3786\"], [0.5555555555555556, \"#d8576b\"], [0.6666666666666666, \"#ed7953\"], [0.7777777777777778, \"#fb9f3a\"], [0.8888888888888888, \"#fdca26\"], [1.0, \"#f0f921\"]], \"type\": \"heatmapgl\"}], \"histogram\": [{\"marker\": {\"colorbar\": {\"outlinewidth\": 0, \"ticks\": \"\"}}, \"type\": \"histogram\"}], \"histogram2d\": [{\"colorbar\": {\"outlinewidth\": 0, \"ticks\": \"\"}, \"colorscale\": [[0.0, \"#0d0887\"], [0.1111111111111111, \"#46039f\"], [0.2222222222222222, \"#7201a8\"], [0.3333333333333333, \"#9c179e\"], [0.4444444444444444, \"#bd3786\"], [0.5555555555555556, \"#d8576b\"], [0.6666666666666666, \"#ed7953\"], [0.7777777777777778, \"#fb9f3a\"], [0.8888888888888888, \"#fdca26\"], [1.0, \"#f0f921\"]], \"type\": \"histogram2d\"}], \"histogram2dcontour\": [{\"colorbar\": {\"outlinewidth\": 0, \"ticks\": \"\"}, \"colorscale\": [[0.0, \"#0d0887\"], [0.1111111111111111, \"#46039f\"], [0.2222222222222222, \"#7201a8\"], [0.3333333333333333, \"#9c179e\"], [0.4444444444444444, \"#bd3786\"], [0.5555555555555556, \"#d8576b\"], [0.6666666666666666, \"#ed7953\"], [0.7777777777777778, \"#fb9f3a\"], [0.8888888888888888, \"#fdca26\"], [1.0, \"#f0f921\"]], \"type\": \"histogram2dcontour\"}], \"mesh3d\": [{\"colorbar\": {\"outlinewidth\": 0, \"ticks\": \"\"}, \"type\": \"mesh3d\"}], \"parcoords\": [{\"line\": {\"colorbar\": {\"outlinewidth\": 0, \"ticks\": \"\"}}, \"type\": \"parcoords\"}], \"pie\": [{\"automargin\": true, \"type\": \"pie\"}], \"scatter\": [{\"marker\": {\"colorbar\": {\"outlinewidth\": 0, \"ticks\": \"\"}}, \"type\": \"scatter\"}], \"scatter3d\": [{\"line\": {\"colorbar\": {\"outlinewidth\": 0, \"ticks\": \"\"}}, \"marker\": {\"colorbar\": {\"outlinewidth\": 0, \"ticks\": \"\"}}, \"type\": \"scatter3d\"}], \"scattercarpet\": [{\"marker\": {\"colorbar\": {\"outlinewidth\": 0, \"ticks\": \"\"}}, \"type\": \"scattercarpet\"}], \"scattergeo\": [{\"marker\": {\"colorbar\": {\"outlinewidth\": 0, \"ticks\": \"\"}}, \"type\": \"scattergeo\"}], \"scattergl\": [{\"marker\": {\"colorbar\": {\"outlinewidth\": 0, \"ticks\": \"\"}}, \"type\": \"scattergl\"}], \"scattermapbox\": [{\"marker\": {\"colorbar\": {\"outlinewidth\": 0, \"ticks\": \"\"}}, \"type\": \"scattermapbox\"}], \"scatterpolar\": [{\"marker\": {\"colorbar\": {\"outlinewidth\": 0, \"ticks\": \"\"}}, \"type\": \"scatterpolar\"}], \"scatterpolargl\": [{\"marker\": {\"colorbar\": {\"outlinewidth\": 0, \"ticks\": \"\"}}, \"type\": \"scatterpolargl\"}], \"scatterternary\": [{\"marker\": {\"colorbar\": {\"outlinewidth\": 0, \"ticks\": \"\"}}, \"type\": \"scatterternary\"}], \"surface\": [{\"colorbar\": {\"outlinewidth\": 0, \"ticks\": \"\"}, \"colorscale\": [[0.0, \"#0d0887\"], [0.1111111111111111, \"#46039f\"], [0.2222222222222222, \"#7201a8\"], [0.3333333333333333, \"#9c179e\"], [0.4444444444444444, \"#bd3786\"], [0.5555555555555556, \"#d8576b\"], [0.6666666666666666, \"#ed7953\"], [0.7777777777777778, \"#fb9f3a\"], [0.8888888888888888, \"#fdca26\"], [1.0, \"#f0f921\"]], \"type\": \"surface\"}], \"table\": [{\"cells\": {\"fill\": {\"color\": \"#EBF0F8\"}, \"line\": {\"color\": \"white\"}}, \"header\": {\"fill\": {\"color\": \"#C8D4E3\"}, \"line\": {\"color\": \"white\"}}, \"type\": \"table\"}]}, \"layout\": {\"annotationdefaults\": {\"arrowcolor\": \"#2a3f5f\", \"arrowhead\": 0, \"arrowwidth\": 1}, \"coloraxis\": {\"colorbar\": {\"outlinewidth\": 0, \"ticks\": \"\"}}, \"colorscale\": {\"diverging\": [[0, \"#8e0152\"], [0.1, \"#c51b7d\"], [0.2, \"#de77ae\"], [0.3, \"#f1b6da\"], [0.4, \"#fde0ef\"], [0.5, \"#f7f7f7\"], [0.6, \"#e6f5d0\"], [0.7, \"#b8e186\"], [0.8, \"#7fbc41\"], [0.9, \"#4d9221\"], [1, \"#276419\"]], \"sequential\": [[0.0, \"#0d0887\"], [0.1111111111111111, \"#46039f\"], [0.2222222222222222, \"#7201a8\"], [0.3333333333333333, \"#9c179e\"], [0.4444444444444444, \"#bd3786\"], [0.5555555555555556, \"#d8576b\"], [0.6666666666666666, \"#ed7953\"], [0.7777777777777778, \"#fb9f3a\"], [0.8888888888888888, \"#fdca26\"], [1.0, \"#f0f921\"]], \"sequentialminus\": [[0.0, \"#0d0887\"], [0.1111111111111111, \"#46039f\"], [0.2222222222222222, \"#7201a8\"], [0.3333333333333333, \"#9c179e\"], [0.4444444444444444, \"#bd3786\"], [0.5555555555555556, \"#d8576b\"], [0.6666666666666666, \"#ed7953\"], [0.7777777777777778, \"#fb9f3a\"], [0.8888888888888888, \"#fdca26\"], [1.0, \"#f0f921\"]]}, \"colorway\": [\"#636efa\", \"#EF553B\", \"#00cc96\", \"#ab63fa\", \"#FFA15A\", \"#19d3f3\", \"#FF6692\", \"#B6E880\", \"#FF97FF\", \"#FECB52\"], \"font\": {\"color\": \"#2a3f5f\"}, \"geo\": {\"bgcolor\": \"white\", \"lakecolor\": \"white\", \"landcolor\": \"#E5ECF6\", \"showlakes\": true, \"showland\": true, \"subunitcolor\": \"white\"}, \"hoverlabel\": {\"align\": \"left\"}, \"hovermode\": \"closest\", \"mapbox\": {\"style\": \"light\"}, \"paper_bgcolor\": \"white\", \"plot_bgcolor\": \"#E5ECF6\", \"polar\": {\"angularaxis\": {\"gridcolor\": \"white\", \"linecolor\": \"white\", \"ticks\": \"\"}, \"bgcolor\": \"#E5ECF6\", \"radialaxis\": {\"gridcolor\": \"white\", \"linecolor\": \"white\", \"ticks\": \"\"}}, \"scene\": {\"xaxis\": {\"backgroundcolor\": \"#E5ECF6\", \"gridcolor\": \"white\", \"gridwidth\": 2, \"linecolor\": \"white\", \"showbackground\": true, \"ticks\": \"\", \"zerolinecolor\": \"white\"}, \"yaxis\": {\"backgroundcolor\": \"#E5ECF6\", \"gridcolor\": \"white\", \"gridwidth\": 2, \"linecolor\": \"white\", \"showbackground\": true, \"ticks\": \"\", \"zerolinecolor\": \"white\"}, \"zaxis\": {\"backgroundcolor\": \"#E5ECF6\", \"gridcolor\": \"white\", \"gridwidth\": 2, \"linecolor\": \"white\", \"showbackground\": true, \"ticks\": \"\", \"zerolinecolor\": \"white\"}}, \"shapedefaults\": {\"line\": {\"color\": \"#2a3f5f\"}}, \"ternary\": {\"aaxis\": {\"gridcolor\": \"white\", \"linecolor\": \"white\", \"ticks\": \"\"}, \"baxis\": {\"gridcolor\": \"white\", \"linecolor\": \"white\", \"ticks\": \"\"}, \"bgcolor\": \"#E5ECF6\", \"caxis\": {\"gridcolor\": \"white\", \"linecolor\": \"white\", \"ticks\": \"\"}}, \"title\": {\"x\": 0.05}, \"xaxis\": {\"automargin\": true, \"gridcolor\": \"white\", \"linecolor\": \"white\", \"ticks\": \"\", \"title\": {\"standoff\": 15}, \"zerolinecolor\": \"white\", \"zerolinewidth\": 2}, \"yaxis\": {\"automargin\": true, \"gridcolor\": \"white\", \"linecolor\": \"white\", \"ticks\": \"\", \"title\": {\"standoff\": 15}, \"zerolinecolor\": \"white\", \"zerolinewidth\": 2}}}, \"xaxis\": {\"anchor\": \"y\", \"domain\": [0.0, 1.0], \"dtick\": \"M1\", \"tickformat\": \"%b\\n%Y\", \"title\": {\"text\": \"date\"}}, \"yaxis\": {\"anchor\": \"x\", \"domain\": [0.0, 1.0], \"title\": {\"text\": \"counts_occ_male\"}}},\n",
              "                        {\"responsive\": true}\n",
              "                    ).then(function(){\n",
              "                            \n",
              "var gd = document.getElementById('3f9cd4ac-f5fd-4a3e-996c-a13ff21bb474');\n",
              "var x = new MutationObserver(function (mutations, observer) {{\n",
              "        var display = window.getComputedStyle(gd).display;\n",
              "        if (!display || display === 'none') {{\n",
              "            console.log([gd, 'removed!']);\n",
              "            Plotly.purge(gd);\n",
              "            observer.disconnect();\n",
              "        }}\n",
              "}});\n",
              "\n",
              "// Listen for the removal of the full notebook cells\n",
              "var notebookContainer = gd.closest('#notebook-container');\n",
              "if (notebookContainer) {{\n",
              "    x.observe(notebookContainer, {childList: true});\n",
              "}}\n",
              "\n",
              "// Listen for the clearing of the current output cell\n",
              "var outputEl = gd.closest('.output');\n",
              "if (outputEl) {{\n",
              "    x.observe(outputEl, {childList: true});\n",
              "}}\n",
              "\n",
              "                        })\n",
              "                };\n",
              "                \n",
              "            </script>\n",
              "        </div>\n",
              "</body>\n",
              "</html>"
            ]
          },
          "metadata": {}
        }
      ],
      "source": [
        "month_df = gender_repr_uk_df.groupby('newspaper').resample('M', on='date').sum().reset_index()\n",
        "month_df['date'] = month_df['date'].dt.strftime(\"%Y-%m\")\n",
        "\n",
        "month_df['female_fraction'] = month_df['counts_occ_male'] / (month_df['counts_occ_female'] + month_df['counts_occ_male'] + month_df['counts_occ_other'])\n",
        "female_quotes = month_df.loc[month_df['counts_male'] != 0]\n",
        "\n",
        "fig = px.line(female_quotes, x='date', y='counts_occ_male', color='newspaper')\n",
        "fig.update_xaxes(\n",
        "    dtick=\"M1\",\n",
        "    tickformat=\"%b\\n%Y\")\n",
        "fig.show()"
      ]
    }
  ],
  "metadata": {
    "accelerator": "TPU",
    "colab": {
      "collapsed_sections": [],
      "name": "Copy of gender_representation.ipynb",
      "provenance": []
    },
    "kernelspec": {
      "display_name": "Python 3 (ipykernel)",
      "language": "python",
      "name": "python3"
    },
    "language_info": {
      "codemirror_mode": {
        "name": "ipython",
        "version": 3
      },
      "file_extension": ".py",
      "mimetype": "text/x-python",
      "name": "python",
      "nbconvert_exporter": "python",
      "pygments_lexer": "ipython3",
      "version": "3.8.11"
    }
  },
  "nbformat": 4,
  "nbformat_minor": 0
}
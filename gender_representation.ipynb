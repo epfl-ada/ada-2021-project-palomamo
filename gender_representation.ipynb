{
 "cells": [
  {
   "cell_type": "markdown",
   "metadata": {
    "id": "7txCTyrTM0qJ"
   },
   "source": [
    "# Analysis of gender distribution in UK's leading newspapers\n",
    "# Gender representation"
   ]
  },
  {
   "cell_type": "markdown",
   "metadata": {
    "id": "ucef3_UkM0qP"
   },
   "source": [
    "## Content\n",
    "1. [Setup](#setup)   \n",
    "    1.1 [Global](#global_setup)  \n",
    "    1.2 [Local](#local_setup)"
   ]
  },
  {
   "cell_type": "markdown",
   "metadata": {
    "id": "owgTJarZM0qP",
    "tags": []
   },
   "source": [
    "## 1. Setup\n",
    "<a id=\"setup\"></a>"
   ]
  },
  {
   "cell_type": "markdown",
   "metadata": {},
   "source": [
    "### 1.1 Global\n",
    "<a id=\"global_setup\"></a>"
   ]
  },
  {
   "cell_type": "code",
   "execution_count": 1,
   "metadata": {
    "scrolled": true
   },
   "outputs": [],
   "source": [
    "# Change to true if you want to use google colab\n",
    "use_colab = True\n",
    "\n",
    "# Import with EPFL google drive!\n",
    "if use_colab:\n",
    "    from google.colab import drive\n",
    "    drive.mount('/content/drive', force_remount=True)\n",
    "    ipython.magic('%cd /content/drive/Shareddrives/ADA-project') # shared project drive\n",
    "    !pip install pandas==1.0.5 # downgrade pandas for chunk processing support"
   ]
  },
  {
   "cell_type": "code",
   "execution_count": 4,
   "metadata": {
    "id": "hzfP-W7znkx3"
   },
   "outputs": [],
   "source": [
    "# Defined paths for the data\n",
    "from scripts.path_defs import get_paths\n",
    "get_paths # get them\n",
    "\n",
    "# Globally used functions\n",
    "from scripts.utility_functions import load_mini_version_of_data\n",
    "from scripts.utility_functions import convert_to_1Dseries\n",
    "from scripts.utility_functions import process_data_in_chunks"
   ]
  },
  {
   "cell_type": "markdown",
   "metadata": {
    "id": "5yqsvZuAM0qQ"
   },
   "source": [
    "### 1.2 Local \n",
    "<a id=\"local_setup\"></a>"
   ]
  },
  {
   "cell_type": "code",
   "execution_count": null,
   "metadata": {},
   "outputs": [],
   "source": [
    "import pandas as pd\n",
    "import numpy as np\n",
    "import seaborn as sns\n",
    "import matplotlib.pyplot as plt\n",
    "import json\n",
    "import bz2"
   ]
  }
 ],
 "metadata": {
  "accelerator": "TPU",
  "colab": {
   "collapsed_sections": [],
   "name": "Copy of main.ipynb",
   "provenance": []
  },
  "kernelspec": {
   "display_name": "Python 3 (ipykernel)",
   "language": "python",
   "name": "python3"
  },
  "language_info": {
   "codemirror_mode": {
    "name": "ipython",
    "version": 3
   },
   "file_extension": ".py",
   "mimetype": "text/x-python",
   "name": "python",
   "nbconvert_exporter": "python",
   "pygments_lexer": "ipython3",
   "version": "3.8.11"
  }
 },
 "nbformat": 4,
 "nbformat_minor": 1
}

{
  "nbformat": 4,
  "nbformat_minor": 0,
  "metadata": {
    "colab": {
      "name": "Copy of milestone2.ipynb",
      "provenance": [],
      "collapsed_sections": [],
      "include_colab_link": true
    },
    "kernelspec": {
      "name": "python3",
      "display_name": "Python 3"
    },
    "language_info": {
      "name": "python"
    }
  },
  "cells": [
    {
      "cell_type": "markdown",
      "metadata": {
        "id": "view-in-github",
        "colab_type": "text"
      },
      "source": [
        "<a href=\"https://colab.research.google.com/github/morwald/ada_project/blob/main/speakers.ipynb\" target=\"_parent\"><img src=\"https://colab.research.google.com/assets/colab-badge.svg\" alt=\"Open In Colab\"/></a>"
      ]
    },
    {
      "cell_type": "markdown",
      "metadata": {
        "id": "Klhl3JLevNFE"
      },
      "source": [
        "## Imports of libraries and additional datasets"
      ]
    },
    {
      "cell_type": "code",
      "metadata": {
        "colab": {
          "base_uri": "https://localhost:8080/"
        },
        "id": "kDBp9JZirt3I",
        "outputId": "d3850e5e-d5ba-4099-a8e7-4728d808c4e0"
      },
      "source": [
        "# Import epfl google drive!\n",
        "from google.colab import drive\n",
        "drive.mount('/content/drive', force_remount=True)"
      ],
      "execution_count": 1,
      "outputs": [
        {
          "output_type": "stream",
          "name": "stdout",
          "text": [
            "Mounted at /content/drive\n"
          ]
        }
      ]
    },
    {
      "cell_type": "code",
      "metadata": {
        "colab": {
          "base_uri": "https://localhost:8080/"
        },
        "id": "oQ88SGKK2qC2",
        "outputId": "f17db2bf-5bba-4092-e2f3-c00175c09217"
      },
      "source": [
        "# Change to shared project drive\n",
        "%cd /content/drive/Shareddrives/ADA-project"
      ],
      "execution_count": 2,
      "outputs": [
        {
          "output_type": "stream",
          "name": "stdout",
          "text": [
            "/content/drive/Shareddrives/ADA-project\n"
          ]
        }
      ]
    },
    {
      "cell_type": "code",
      "metadata": {
        "id": "nhnt77Qlr_eP"
      },
      "source": [
        "import pandas as pd\n",
        "import numpy as np\n",
        "import bz2\n",
        "import json\n",
        "\n",
        "from collections import Counter"
      ],
      "execution_count": 34,
      "outputs": []
    },
    {
      "cell_type": "code",
      "metadata": {
        "colab": {
          "base_uri": "https://localhost:8080/",
          "height": 590
        },
        "id": "ghDPpXw3sBiT",
        "outputId": "c3892c12-c47b-4c74-98a1-c43f172f72f6"
      },
      "source": [
        "# Speaker attributes in df\n",
        "df = pd.read_parquet('Project datasets/speaker_attributes.parquet')\n",
        "df.head()"
      ],
      "execution_count": 4,
      "outputs": [
        {
          "output_type": "execute_result",
          "data": {
            "text/html": [
              "<div>\n",
              "<style scoped>\n",
              "    .dataframe tbody tr th:only-of-type {\n",
              "        vertical-align: middle;\n",
              "    }\n",
              "\n",
              "    .dataframe tbody tr th {\n",
              "        vertical-align: top;\n",
              "    }\n",
              "\n",
              "    .dataframe thead th {\n",
              "        text-align: right;\n",
              "    }\n",
              "</style>\n",
              "<table border=\"1\" class=\"dataframe\">\n",
              "  <thead>\n",
              "    <tr style=\"text-align: right;\">\n",
              "      <th></th>\n",
              "      <th>aliases</th>\n",
              "      <th>date_of_birth</th>\n",
              "      <th>nationality</th>\n",
              "      <th>gender</th>\n",
              "      <th>lastrevid</th>\n",
              "      <th>ethnic_group</th>\n",
              "      <th>US_congress_bio_ID</th>\n",
              "      <th>occupation</th>\n",
              "      <th>party</th>\n",
              "      <th>academic_degree</th>\n",
              "      <th>id</th>\n",
              "      <th>label</th>\n",
              "      <th>candidacy</th>\n",
              "      <th>type</th>\n",
              "      <th>religion</th>\n",
              "    </tr>\n",
              "  </thead>\n",
              "  <tbody>\n",
              "    <tr>\n",
              "      <th>0</th>\n",
              "      <td>[Washington, President Washington, G. Washingt...</td>\n",
              "      <td>[+1732-02-22T00:00:00Z]</td>\n",
              "      <td>[Q161885, Q30]</td>\n",
              "      <td>[Q6581097]</td>\n",
              "      <td>1395141751</td>\n",
              "      <td>None</td>\n",
              "      <td>W000178</td>\n",
              "      <td>[Q82955, Q189290, Q131512, Q1734662, Q294126, ...</td>\n",
              "      <td>[Q327591]</td>\n",
              "      <td>None</td>\n",
              "      <td>Q23</td>\n",
              "      <td>George Washington</td>\n",
              "      <td>[Q698073, Q697949]</td>\n",
              "      <td>item</td>\n",
              "      <td>[Q682443]</td>\n",
              "    </tr>\n",
              "    <tr>\n",
              "      <th>1</th>\n",
              "      <td>[Douglas Noel Adams, Douglas Noël Adams, Dougl...</td>\n",
              "      <td>[+1952-03-11T00:00:00Z]</td>\n",
              "      <td>[Q145]</td>\n",
              "      <td>[Q6581097]</td>\n",
              "      <td>1395737157</td>\n",
              "      <td>[Q7994501]</td>\n",
              "      <td>None</td>\n",
              "      <td>[Q214917, Q28389, Q6625963, Q4853732, Q1884422...</td>\n",
              "      <td>None</td>\n",
              "      <td>None</td>\n",
              "      <td>Q42</td>\n",
              "      <td>Douglas Adams</td>\n",
              "      <td>None</td>\n",
              "      <td>item</td>\n",
              "      <td>None</td>\n",
              "    </tr>\n",
              "    <tr>\n",
              "      <th>2</th>\n",
              "      <td>[Paul Marie Ghislain Otlet, Paul Marie Otlet]</td>\n",
              "      <td>[+1868-08-23T00:00:00Z]</td>\n",
              "      <td>[Q31]</td>\n",
              "      <td>[Q6581097]</td>\n",
              "      <td>1380367296</td>\n",
              "      <td>None</td>\n",
              "      <td>None</td>\n",
              "      <td>[Q36180, Q40348, Q182436, Q1265807, Q205375, Q...</td>\n",
              "      <td>None</td>\n",
              "      <td>None</td>\n",
              "      <td>Q1868</td>\n",
              "      <td>Paul Otlet</td>\n",
              "      <td>None</td>\n",
              "      <td>item</td>\n",
              "      <td>None</td>\n",
              "    </tr>\n",
              "    <tr>\n",
              "      <th>3</th>\n",
              "      <td>[George Walker Bush, Bush Jr., Dubya, GWB, Bus...</td>\n",
              "      <td>[+1946-07-06T00:00:00Z]</td>\n",
              "      <td>[Q30]</td>\n",
              "      <td>[Q6581097]</td>\n",
              "      <td>1395142029</td>\n",
              "      <td>None</td>\n",
              "      <td>None</td>\n",
              "      <td>[Q82955, Q15982858, Q18814623, Q1028181, Q1408...</td>\n",
              "      <td>[Q29468]</td>\n",
              "      <td>None</td>\n",
              "      <td>Q207</td>\n",
              "      <td>George W. Bush</td>\n",
              "      <td>[Q327959, Q464075, Q3586276, Q4450587]</td>\n",
              "      <td>item</td>\n",
              "      <td>[Q329646, Q682443, Q33203]</td>\n",
              "    </tr>\n",
              "    <tr>\n",
              "      <th>4</th>\n",
              "      <td>[Velázquez, Diego Rodríguez de Silva y Velázqu...</td>\n",
              "      <td>[+1599-06-06T00:00:00Z]</td>\n",
              "      <td>[Q29]</td>\n",
              "      <td>[Q6581097]</td>\n",
              "      <td>1391704596</td>\n",
              "      <td>None</td>\n",
              "      <td>None</td>\n",
              "      <td>[Q1028181]</td>\n",
              "      <td>None</td>\n",
              "      <td>None</td>\n",
              "      <td>Q297</td>\n",
              "      <td>Diego Velázquez</td>\n",
              "      <td>None</td>\n",
              "      <td>item</td>\n",
              "      <td>None</td>\n",
              "    </tr>\n",
              "  </tbody>\n",
              "</table>\n",
              "</div>"
            ],
            "text/plain": [
              "                                             aliases  ...                    religion\n",
              "0  [Washington, President Washington, G. Washingt...  ...                   [Q682443]\n",
              "1  [Douglas Noel Adams, Douglas Noël Adams, Dougl...  ...                        None\n",
              "2      [Paul Marie Ghislain Otlet, Paul Marie Otlet]  ...                        None\n",
              "3  [George Walker Bush, Bush Jr., Dubya, GWB, Bus...  ...  [Q329646, Q682443, Q33203]\n",
              "4  [Velázquez, Diego Rodríguez de Silva y Velázqu...  ...                        None\n",
              "\n",
              "[5 rows x 15 columns]"
            ]
          },
          "metadata": {},
          "execution_count": 4
        }
      ]
    },
    {
      "cell_type": "code",
      "metadata": {
        "id": "Uhrrxc2gsl3o",
        "colab": {
          "base_uri": "https://localhost:8080/"
        },
        "outputId": "b3474352-ea08-4d8a-de56-9ae162859447"
      },
      "source": [
        "!python Project\\ datasets/query_wikidata_dump.py --input /content/drive/MyDrive/wikidata-20211004-all.json.gz  --output speakers.json"
      ],
      "execution_count": null,
      "outputs": [
        {
          "output_type": "stream",
          "name": "stdout",
          "text": [
            "Traceback (most recent call last):\n",
            "  File \"Project datasets/query_wikidata_dump.py\", line 190, in <module>\n",
            "    main()\n",
            "  File \"Project datasets/query_wikidata_dump.py\", line 22, in main\n",
            "    with gzip.open(args.input, 'rb') as s_file:\n",
            "  File \"/usr/lib/python3.7/gzip.py\", line 58, in open\n",
            "    binary_file = GzipFile(filename, gz_mode, compresslevel)\n",
            "  File \"/usr/lib/python3.7/gzip.py\", line 168, in __init__\n",
            "    fileobj = self.myfileobj = builtins.open(filename, mode or 'rb')\n",
            "FileNotFoundError: [Errno 2] No such file or directory: '/content/drive/MyDrive/wikidata-20211004-all.json.gz'\n"
          ]
        }
      ]
    },
    {
      "cell_type": "markdown",
      "metadata": {
        "id": "zKwFYzmDvBzJ"
      },
      "source": [
        "##Cleaning "
      ]
    },
    {
      "cell_type": "markdown",
      "metadata": {
        "id": "DLoYy46juyUR"
      },
      "source": [
        "### Plan\n",
        "*   Descriptive statistics\n",
        "*   types\n",
        "*   Missing data\n",
        "*   distribution (histograms)\n",
        "*   outliers\n",
        "*   duplicates\n",
        "*  inconsistent data (wrong format etc)\n",
        "*   correlation between parameters\n",
        "*  filter columns that we don't need\n",
        "*  maybe create additional ones\n",
        "*  standardize ?"
      ]
    },
    {
      "cell_type": "code",
      "metadata": {
        "colab": {
          "base_uri": "https://localhost:8080/"
        },
        "id": "HMettazfXKA1",
        "outputId": "39293361-6d64-4535-b065-bc97308b42a7"
      },
      "source": [
        "#Percentage of lines with null gender : \n",
        "df[df.gender.isnull()].size / df.size"
      ],
      "execution_count": null,
      "outputs": [
        {
          "output_type": "execute_result",
          "data": {
            "text/plain": [
              "0.21536937853557775"
            ]
          },
          "metadata": {},
          "execution_count": 16
        }
      ]
    },
    {
      "cell_type": "code",
      "metadata": {
        "colab": {
          "base_uri": "https://localhost:8080/",
          "height": 590
        },
        "id": "mSrA7qDsZpP6",
        "outputId": "744faaa3-2225-4bff-fe17-133cec63f73f"
      },
      "source": [
        "#Remove null gender : \n",
        "df_2 = df.drop(df[df.gender.isnull()].index)\n",
        "df_2.head()"
      ],
      "execution_count": 5,
      "outputs": [
        {
          "output_type": "execute_result",
          "data": {
            "text/html": [
              "<div>\n",
              "<style scoped>\n",
              "    .dataframe tbody tr th:only-of-type {\n",
              "        vertical-align: middle;\n",
              "    }\n",
              "\n",
              "    .dataframe tbody tr th {\n",
              "        vertical-align: top;\n",
              "    }\n",
              "\n",
              "    .dataframe thead th {\n",
              "        text-align: right;\n",
              "    }\n",
              "</style>\n",
              "<table border=\"1\" class=\"dataframe\">\n",
              "  <thead>\n",
              "    <tr style=\"text-align: right;\">\n",
              "      <th></th>\n",
              "      <th>aliases</th>\n",
              "      <th>date_of_birth</th>\n",
              "      <th>nationality</th>\n",
              "      <th>gender</th>\n",
              "      <th>lastrevid</th>\n",
              "      <th>ethnic_group</th>\n",
              "      <th>US_congress_bio_ID</th>\n",
              "      <th>occupation</th>\n",
              "      <th>party</th>\n",
              "      <th>academic_degree</th>\n",
              "      <th>id</th>\n",
              "      <th>label</th>\n",
              "      <th>candidacy</th>\n",
              "      <th>type</th>\n",
              "      <th>religion</th>\n",
              "    </tr>\n",
              "  </thead>\n",
              "  <tbody>\n",
              "    <tr>\n",
              "      <th>0</th>\n",
              "      <td>[Washington, President Washington, G. Washingt...</td>\n",
              "      <td>[+1732-02-22T00:00:00Z]</td>\n",
              "      <td>[Q161885, Q30]</td>\n",
              "      <td>[Q6581097]</td>\n",
              "      <td>1395141751</td>\n",
              "      <td>None</td>\n",
              "      <td>W000178</td>\n",
              "      <td>[Q82955, Q189290, Q131512, Q1734662, Q294126, ...</td>\n",
              "      <td>[Q327591]</td>\n",
              "      <td>None</td>\n",
              "      <td>Q23</td>\n",
              "      <td>George Washington</td>\n",
              "      <td>[Q698073, Q697949]</td>\n",
              "      <td>item</td>\n",
              "      <td>[Q682443]</td>\n",
              "    </tr>\n",
              "    <tr>\n",
              "      <th>1</th>\n",
              "      <td>[Douglas Noel Adams, Douglas Noël Adams, Dougl...</td>\n",
              "      <td>[+1952-03-11T00:00:00Z]</td>\n",
              "      <td>[Q145]</td>\n",
              "      <td>[Q6581097]</td>\n",
              "      <td>1395737157</td>\n",
              "      <td>[Q7994501]</td>\n",
              "      <td>None</td>\n",
              "      <td>[Q214917, Q28389, Q6625963, Q4853732, Q1884422...</td>\n",
              "      <td>None</td>\n",
              "      <td>None</td>\n",
              "      <td>Q42</td>\n",
              "      <td>Douglas Adams</td>\n",
              "      <td>None</td>\n",
              "      <td>item</td>\n",
              "      <td>None</td>\n",
              "    </tr>\n",
              "    <tr>\n",
              "      <th>2</th>\n",
              "      <td>[Paul Marie Ghislain Otlet, Paul Marie Otlet]</td>\n",
              "      <td>[+1868-08-23T00:00:00Z]</td>\n",
              "      <td>[Q31]</td>\n",
              "      <td>[Q6581097]</td>\n",
              "      <td>1380367296</td>\n",
              "      <td>None</td>\n",
              "      <td>None</td>\n",
              "      <td>[Q36180, Q40348, Q182436, Q1265807, Q205375, Q...</td>\n",
              "      <td>None</td>\n",
              "      <td>None</td>\n",
              "      <td>Q1868</td>\n",
              "      <td>Paul Otlet</td>\n",
              "      <td>None</td>\n",
              "      <td>item</td>\n",
              "      <td>None</td>\n",
              "    </tr>\n",
              "    <tr>\n",
              "      <th>3</th>\n",
              "      <td>[George Walker Bush, Bush Jr., Dubya, GWB, Bus...</td>\n",
              "      <td>[+1946-07-06T00:00:00Z]</td>\n",
              "      <td>[Q30]</td>\n",
              "      <td>[Q6581097]</td>\n",
              "      <td>1395142029</td>\n",
              "      <td>None</td>\n",
              "      <td>None</td>\n",
              "      <td>[Q82955, Q15982858, Q18814623, Q1028181, Q1408...</td>\n",
              "      <td>[Q29468]</td>\n",
              "      <td>None</td>\n",
              "      <td>Q207</td>\n",
              "      <td>George W. Bush</td>\n",
              "      <td>[Q327959, Q464075, Q3586276, Q4450587]</td>\n",
              "      <td>item</td>\n",
              "      <td>[Q329646, Q682443, Q33203]</td>\n",
              "    </tr>\n",
              "    <tr>\n",
              "      <th>4</th>\n",
              "      <td>[Velázquez, Diego Rodríguez de Silva y Velázqu...</td>\n",
              "      <td>[+1599-06-06T00:00:00Z]</td>\n",
              "      <td>[Q29]</td>\n",
              "      <td>[Q6581097]</td>\n",
              "      <td>1391704596</td>\n",
              "      <td>None</td>\n",
              "      <td>None</td>\n",
              "      <td>[Q1028181]</td>\n",
              "      <td>None</td>\n",
              "      <td>None</td>\n",
              "      <td>Q297</td>\n",
              "      <td>Diego Velázquez</td>\n",
              "      <td>None</td>\n",
              "      <td>item</td>\n",
              "      <td>None</td>\n",
              "    </tr>\n",
              "  </tbody>\n",
              "</table>\n",
              "</div>"
            ],
            "text/plain": [
              "                                             aliases  ...                    religion\n",
              "0  [Washington, President Washington, G. Washingt...  ...                   [Q682443]\n",
              "1  [Douglas Noel Adams, Douglas Noël Adams, Dougl...  ...                        None\n",
              "2      [Paul Marie Ghislain Otlet, Paul Marie Otlet]  ...                        None\n",
              "3  [George Walker Bush, Bush Jr., Dubya, GWB, Bus...  ...  [Q329646, Q682443, Q33203]\n",
              "4  [Velázquez, Diego Rodríguez de Silva y Velázqu...  ...                        None\n",
              "\n",
              "[5 rows x 15 columns]"
            ]
          },
          "metadata": {},
          "execution_count": 5
        }
      ]
    },
    {
      "cell_type": "code",
      "metadata": {
        "colab": {
          "base_uri": "https://localhost:8080/",
          "height": 69
        },
        "id": "YCNZJ1iPZ-FG",
        "outputId": "09ad6200-dd24-47a4-a96b-7b9893604595"
      },
      "source": [
        "#Duplicates\n",
        "duplicates = df_2[df_2.duplicated(subset='id', keep='first')] \n",
        "duplicates.head()"
      ],
      "execution_count": null,
      "outputs": [
        {
          "output_type": "execute_result",
          "data": {
            "text/html": [
              "<div>\n",
              "<style scoped>\n",
              "    .dataframe tbody tr th:only-of-type {\n",
              "        vertical-align: middle;\n",
              "    }\n",
              "\n",
              "    .dataframe tbody tr th {\n",
              "        vertical-align: top;\n",
              "    }\n",
              "\n",
              "    .dataframe thead th {\n",
              "        text-align: right;\n",
              "    }\n",
              "</style>\n",
              "<table border=\"1\" class=\"dataframe\">\n",
              "  <thead>\n",
              "    <tr style=\"text-align: right;\">\n",
              "      <th></th>\n",
              "      <th>aliases</th>\n",
              "      <th>date_of_birth</th>\n",
              "      <th>nationality</th>\n",
              "      <th>gender</th>\n",
              "      <th>lastrevid</th>\n",
              "      <th>ethnic_group</th>\n",
              "      <th>US_congress_bio_ID</th>\n",
              "      <th>occupation</th>\n",
              "      <th>party</th>\n",
              "      <th>academic_degree</th>\n",
              "      <th>id</th>\n",
              "      <th>label</th>\n",
              "      <th>candidacy</th>\n",
              "      <th>type</th>\n",
              "      <th>religion</th>\n",
              "    </tr>\n",
              "  </thead>\n",
              "  <tbody>\n",
              "  </tbody>\n",
              "</table>\n",
              "</div>"
            ],
            "text/plain": [
              "Empty DataFrame\n",
              "Columns: [aliases, date_of_birth, nationality, gender, lastrevid, ethnic_group, US_congress_bio_ID, occupation, party, academic_degree, id, label, candidacy, type, religion]\n",
              "Index: []"
            ]
          },
          "metadata": {},
          "execution_count": 8
        }
      ]
    },
    {
      "cell_type": "code",
      "metadata": {
        "id": "rVKIQCfIaUQT"
      },
      "source": [
        "#Remove unncessary columns\n",
        "df_3 = df_2.drop(['US_congress_bio_ID', 'party', 'candidacy'], axis=1) \n",
        "# drop also aliases, date_of_birth, ethnic_group, label, religion ??"
      ],
      "execution_count": 6,
      "outputs": []
    },
    {
      "cell_type": "code",
      "metadata": {
        "colab": {
          "base_uri": "https://localhost:8080/"
        },
        "id": "_ZSZ8SY6WA3M",
        "outputId": "a2b62aa2-3eb1-49ac-df24-46ed3da59e87"
      },
      "source": [
        "#Percentage of lines with null nationality : \n",
        "df_3[df_3.nationality.isnull()].size / df.size"
      ],
      "execution_count": null,
      "outputs": [
        {
          "output_type": "execute_result",
          "data": {
            "text/plain": [
              "0.2547805698797292"
            ]
          },
          "metadata": {},
          "execution_count": 34
        }
      ]
    },
    {
      "cell_type": "code",
      "metadata": {
        "colab": {
          "base_uri": "https://localhost:8080/"
        },
        "id": "HPrmTvS-bWMl",
        "outputId": "f3a37513-446d-440a-a16b-d078b02a0a0c"
      },
      "source": [
        "#Percentage of lines with null date of birth : \n",
        "df_3[df_3.date_of_birth.isnull()].size / df.size"
      ],
      "execution_count": null,
      "outputs": [
        {
          "output_type": "execute_result",
          "data": {
            "text/plain": [
              "0.20053990837657457"
            ]
          },
          "metadata": {},
          "execution_count": 7
        }
      ]
    },
    {
      "cell_type": "code",
      "metadata": {
        "colab": {
          "base_uri": "https://localhost:8080/"
        },
        "id": "IbVJqJv3bhl6",
        "outputId": "2b4ebc78-85a7-4404-a9bc-ff74c98d47f6"
      },
      "source": [
        "#Percentage of lines with null ethnic_group : \n",
        "df_3[df_3.ethnic_group.isnull()].size / df.size"
      ],
      "execution_count": null,
      "outputs": [
        {
          "output_type": "execute_result",
          "data": {
            "text/plain": [
              "0.6163618055294064"
            ]
          },
          "metadata": {},
          "execution_count": 11
        }
      ]
    },
    {
      "cell_type": "code",
      "metadata": {
        "id": "gAfUb7Gxby_i"
      },
      "source": [
        "#Remove ethnic group column as it has above 50% of null values : \n",
        "df_3 = df_3.drop('ethnic_group', axis=1)"
      ],
      "execution_count": 7,
      "outputs": []
    },
    {
      "cell_type": "code",
      "metadata": {
        "colab": {
          "base_uri": "https://localhost:8080/"
        },
        "id": "hUMwv9OTbvBM",
        "outputId": "63046b66-c880-4d23-9c3e-3284113e5237"
      },
      "source": [
        "#Percentage of lines with null label : \n",
        "df_3[df_3.label.isnull()].size / df.size"
      ],
      "execution_count": null,
      "outputs": [
        {
          "output_type": "execute_result",
          "data": {
            "text/plain": [
              "0.03188346648106557"
            ]
          },
          "metadata": {},
          "execution_count": 13
        }
      ]
    },
    {
      "cell_type": "code",
      "metadata": {
        "colab": {
          "base_uri": "https://localhost:8080/"
        },
        "id": "Uf1BuW_Hc9RB",
        "outputId": "29c4d7d2-d5aa-4237-90c8-19e0efc2856a"
      },
      "source": [
        "#Percentage of lines with null religion : \n",
        "df_3[df_3.religion.isnull()].size / df.size"
      ],
      "execution_count": null,
      "outputs": [
        {
          "output_type": "execute_result",
          "data": {
            "text/plain": [
              "0.5596987302277541"
            ]
          },
          "metadata": {},
          "execution_count": 14
        }
      ]
    },
    {
      "cell_type": "code",
      "metadata": {
        "id": "n6YObRkidJTv"
      },
      "source": [
        "#Remove religion column as it has above 50% of null values : \n",
        "df_3 = df_3.drop('religion', axis=1)"
      ],
      "execution_count": 8,
      "outputs": []
    },
    {
      "cell_type": "code",
      "metadata": {
        "colab": {
          "base_uri": "https://localhost:8080/"
        },
        "id": "4aCydE-KpmKX",
        "outputId": "5b5a9ad8-e651-433f-8229-b6e02e631666"
      },
      "source": [
        "df_3[df_3.aliases.isnull()].size / df.size"
      ],
      "execution_count": null,
      "outputs": [
        {
          "output_type": "execute_result",
          "data": {
            "text/plain": [
              "0.443215888667022"
            ]
          },
          "metadata": {},
          "execution_count": 88
        }
      ]
    },
    {
      "cell_type": "markdown",
      "metadata": {
        "id": "6Uov0m2DdrC4"
      },
      "source": [
        "## Retrieve quotebank wikidata labels \n"
      ]
    },
    {
      "cell_type": "code",
      "metadata": {
        "colab": {
          "base_uri": "https://localhost:8080/",
          "height": 237
        },
        "id": "5kmS_9Avdy04",
        "outputId": "dea0272c-de01-472e-b7e1-fe9658a9029c"
      },
      "source": [
        "labels = pd.read_csv('Project datasets/wikidata_labels_descriptions_quotebank.csv.bz2', compression='bz2', index_col='QID')\n",
        "labels.head()"
      ],
      "execution_count": 13,
      "outputs": [
        {
          "output_type": "execute_result",
          "data": {
            "text/html": [
              "<div>\n",
              "<style scoped>\n",
              "    .dataframe tbody tr th:only-of-type {\n",
              "        vertical-align: middle;\n",
              "    }\n",
              "\n",
              "    .dataframe tbody tr th {\n",
              "        vertical-align: top;\n",
              "    }\n",
              "\n",
              "    .dataframe thead th {\n",
              "        text-align: right;\n",
              "    }\n",
              "</style>\n",
              "<table border=\"1\" class=\"dataframe\">\n",
              "  <thead>\n",
              "    <tr style=\"text-align: right;\">\n",
              "      <th></th>\n",
              "      <th>Label</th>\n",
              "      <th>Description</th>\n",
              "    </tr>\n",
              "    <tr>\n",
              "      <th>QID</th>\n",
              "      <th></th>\n",
              "      <th></th>\n",
              "    </tr>\n",
              "  </thead>\n",
              "  <tbody>\n",
              "    <tr>\n",
              "      <th>Q31</th>\n",
              "      <td>Belgium</td>\n",
              "      <td>country in western Europe</td>\n",
              "    </tr>\n",
              "    <tr>\n",
              "      <th>Q45</th>\n",
              "      <td>Portugal</td>\n",
              "      <td>country in southwestern Europe</td>\n",
              "    </tr>\n",
              "    <tr>\n",
              "      <th>Q75</th>\n",
              "      <td>Internet</td>\n",
              "      <td>global system of connected computer networks</td>\n",
              "    </tr>\n",
              "    <tr>\n",
              "      <th>Q148</th>\n",
              "      <td>People's Republic of China</td>\n",
              "      <td>sovereign state in East Asia</td>\n",
              "    </tr>\n",
              "    <tr>\n",
              "      <th>Q155</th>\n",
              "      <td>Brazil</td>\n",
              "      <td>country in South America</td>\n",
              "    </tr>\n",
              "  </tbody>\n",
              "</table>\n",
              "</div>"
            ],
            "text/plain": [
              "                           Label                                   Description\n",
              "QID                                                                           \n",
              "Q31                      Belgium                     country in western Europe\n",
              "Q45                     Portugal                country in southwestern Europe\n",
              "Q75                     Internet  global system of connected computer networks\n",
              "Q148  People's Republic of China                  sovereign state in East Asia\n",
              "Q155                      Brazil                      country in South America"
            ]
          },
          "metadata": {},
          "execution_count": 13
        }
      ]
    },
    {
      "cell_type": "code",
      "metadata": {
        "colab": {
          "base_uri": "https://localhost:8080/"
        },
        "id": "LFKlTRvYN1Wq",
        "outputId": "b3640e06-e62a-4d33-b665-2db9b9354423"
      },
      "source": [
        "labels.Label.isnull().count()/labels.size"
      ],
      "execution_count": 21,
      "outputs": [
        {
          "output_type": "execute_result",
          "data": {
            "text/plain": [
              "0.5"
            ]
          },
          "metadata": {},
          "execution_count": 21
        }
      ]
    },
    {
      "cell_type": "code",
      "metadata": {
        "colab": {
          "base_uri": "https://localhost:8080/",
          "height": 237
        },
        "id": "u9hWW_20Y4Hh",
        "outputId": "940e864e-0142-44ab-c069-d25a72fd4c68"
      },
      "source": [
        "#labels = labels.drop(labels[labels.Label.isnull()].index)\n",
        "labels.head()"
      ],
      "execution_count": 12,
      "outputs": [
        {
          "output_type": "execute_result",
          "data": {
            "text/html": [
              "<div>\n",
              "<style scoped>\n",
              "    .dataframe tbody tr th:only-of-type {\n",
              "        vertical-align: middle;\n",
              "    }\n",
              "\n",
              "    .dataframe tbody tr th {\n",
              "        vertical-align: top;\n",
              "    }\n",
              "\n",
              "    .dataframe thead th {\n",
              "        text-align: right;\n",
              "    }\n",
              "</style>\n",
              "<table border=\"1\" class=\"dataframe\">\n",
              "  <thead>\n",
              "    <tr style=\"text-align: right;\">\n",
              "      <th></th>\n",
              "      <th>Label</th>\n",
              "      <th>Description</th>\n",
              "    </tr>\n",
              "    <tr>\n",
              "      <th>QID</th>\n",
              "      <th></th>\n",
              "      <th></th>\n",
              "    </tr>\n",
              "  </thead>\n",
              "  <tbody>\n",
              "    <tr>\n",
              "      <th>Q31</th>\n",
              "      <td>Belgium</td>\n",
              "      <td>country in western Europe</td>\n",
              "    </tr>\n",
              "    <tr>\n",
              "      <th>Q45</th>\n",
              "      <td>Portugal</td>\n",
              "      <td>country in southwestern Europe</td>\n",
              "    </tr>\n",
              "    <tr>\n",
              "      <th>Q75</th>\n",
              "      <td>Internet</td>\n",
              "      <td>global system of connected computer networks</td>\n",
              "    </tr>\n",
              "    <tr>\n",
              "      <th>Q148</th>\n",
              "      <td>People's Republic of China</td>\n",
              "      <td>sovereign state in East Asia</td>\n",
              "    </tr>\n",
              "    <tr>\n",
              "      <th>Q155</th>\n",
              "      <td>Brazil</td>\n",
              "      <td>country in South America</td>\n",
              "    </tr>\n",
              "  </tbody>\n",
              "</table>\n",
              "</div>"
            ],
            "text/plain": [
              "                           Label                                   Description\n",
              "QID                                                                           \n",
              "Q31                      Belgium                     country in western Europe\n",
              "Q45                     Portugal                country in southwestern Europe\n",
              "Q75                     Internet  global system of connected computer networks\n",
              "Q148  People's Republic of China                  sovereign state in East Asia\n",
              "Q155                      Brazil                      country in South America"
            ]
          },
          "metadata": {},
          "execution_count": 12
        }
      ]
    },
    {
      "cell_type": "code",
      "metadata": {
        "colab": {
          "base_uri": "https://localhost:8080/",
          "height": 35
        },
        "id": "VFASz8tkRX_8",
        "outputId": "4976c39e-c269-4b67-a2be-c28582218214"
      },
      "source": [
        "labels.loc['Q6581097']['Label']"
      ],
      "execution_count": null,
      "outputs": [
        {
          "output_type": "execute_result",
          "data": {
            "application/vnd.google.colaboratory.intrinsic+json": {
              "type": "string"
            },
            "text/plain": [
              "'male'"
            ]
          },
          "metadata": {},
          "execution_count": 62
        }
      ]
    },
    {
      "cell_type": "code",
      "metadata": {
        "id": "sQUZyLPsUimN"
      },
      "source": [
        "#Replacing gender QUIDs by value\n",
        "#for index, row in df_3.iterrows():\n",
        "#  quid = row.loc['gender'][0]\n",
        "#  row.loc['gender'] = labels.loc[quid]['Label']\n",
        "#--> Not useful, replace only the ones needed"
      ],
      "execution_count": null,
      "outputs": []
    },
    {
      "cell_type": "markdown",
      "metadata": {
        "id": "AS31pE01RuXt"
      },
      "source": [
        "###Test with the 2019 New York Times Data"
      ]
    },
    {
      "cell_type": "code",
      "metadata": {
        "colab": {
          "base_uri": "https://localhost:8080/",
          "height": 397
        },
        "id": "3qfGYm_oRtBM",
        "outputId": "c8765f6b-c699-4eff-e435-8b879c7596db"
      },
      "source": [
        "df_quotesNY = pd.read_json('quotes-2019-nytimes.json', lines=True)\n",
        "df_quotesNY.head()"
      ],
      "execution_count": 16,
      "outputs": [
        {
          "output_type": "execute_result",
          "data": {
            "text/html": [
              "<div>\n",
              "<style scoped>\n",
              "    .dataframe tbody tr th:only-of-type {\n",
              "        vertical-align: middle;\n",
              "    }\n",
              "\n",
              "    .dataframe tbody tr th {\n",
              "        vertical-align: top;\n",
              "    }\n",
              "\n",
              "    .dataframe thead th {\n",
              "        text-align: right;\n",
              "    }\n",
              "</style>\n",
              "<table border=\"1\" class=\"dataframe\">\n",
              "  <thead>\n",
              "    <tr style=\"text-align: right;\">\n",
              "      <th></th>\n",
              "      <th>quoteID</th>\n",
              "      <th>quotation</th>\n",
              "      <th>speaker</th>\n",
              "      <th>qids</th>\n",
              "      <th>date</th>\n",
              "      <th>numOccurrences</th>\n",
              "      <th>probas</th>\n",
              "      <th>urls</th>\n",
              "      <th>phase</th>\n",
              "    </tr>\n",
              "  </thead>\n",
              "  <tbody>\n",
              "    <tr>\n",
              "      <th>0</th>\n",
              "      <td>2019-04-17-024782</td>\n",
              "      <td>It is not a low-income immigration,</td>\n",
              "      <td>James Fisher</td>\n",
              "      <td>[Q16213953, Q20707104, Q43143598, Q58886302, Q...</td>\n",
              "      <td>2019-04-17 13:31:18</td>\n",
              "      <td>1</td>\n",
              "      <td>[[James Fisher, 0.7475], [None, 0.2525]]</td>\n",
              "      <td>[https://www.nytimes.com/2019/04/17/realestate...</td>\n",
              "      <td>E</td>\n",
              "    </tr>\n",
              "    <tr>\n",
              "      <th>1</th>\n",
              "      <td>2019-04-02-001128</td>\n",
              "      <td>a champion figure skater switching to roller s...</td>\n",
              "      <td>John Updike</td>\n",
              "      <td>[Q105756]</td>\n",
              "      <td>2019-04-02 14:58:33</td>\n",
              "      <td>2</td>\n",
              "      <td>[[John Updike, 0.5856], [None, 0.4144]]</td>\n",
              "      <td>[https://www.nytimes.com/2019/04/02/opinion/vl...</td>\n",
              "      <td>E</td>\n",
              "    </tr>\n",
              "    <tr>\n",
              "      <th>2</th>\n",
              "      <td>2019-05-09-055187</td>\n",
              "      <td>It makes it much more difficult for him to mak...</td>\n",
              "      <td>None</td>\n",
              "      <td>[]</td>\n",
              "      <td>2019-05-09 18:11:29</td>\n",
              "      <td>1</td>\n",
              "      <td>[[None, 0.6493], [President Bill Clinton, 0.27...</td>\n",
              "      <td>[http://mobile.nytimes.com/2019/05/09/world/as...</td>\n",
              "      <td>E</td>\n",
              "    </tr>\n",
              "    <tr>\n",
              "      <th>3</th>\n",
              "      <td>2019-10-31-056366</td>\n",
              "      <td>It puts me in a predicament,</td>\n",
              "      <td>Xavier Becerra</td>\n",
              "      <td>[Q1855840]</td>\n",
              "      <td>2019-10-31 16:45:15</td>\n",
              "      <td>3</td>\n",
              "      <td>[[Xavier Becerra, 0.9065], [None, 0.0909], [St...</td>\n",
              "      <td>[http://www.nytimes.com/2019/10/31/technology/...</td>\n",
              "      <td>E</td>\n",
              "    </tr>\n",
              "    <tr>\n",
              "      <th>4</th>\n",
              "      <td>2019-01-04-001792</td>\n",
              "      <td>A Pile of Leaves.</td>\n",
              "      <td>None</td>\n",
              "      <td>[]</td>\n",
              "      <td>2019-01-04 10:00:07</td>\n",
              "      <td>1</td>\n",
              "      <td>[[None, 0.8737], [Jason Fulford, 0.1263]]</td>\n",
              "      <td>[https://www.nytimes.com/2019/01/04/books/revi...</td>\n",
              "      <td>E</td>\n",
              "    </tr>\n",
              "  </tbody>\n",
              "</table>\n",
              "</div>"
            ],
            "text/plain": [
              "             quoteID  ... phase\n",
              "0  2019-04-17-024782  ...     E\n",
              "1  2019-04-02-001128  ...     E\n",
              "2  2019-05-09-055187  ...     E\n",
              "3  2019-10-31-056366  ...     E\n",
              "4  2019-01-04-001792  ...     E\n",
              "\n",
              "[5 rows x 9 columns]"
            ]
          },
          "metadata": {},
          "execution_count": 16
        }
      ]
    },
    {
      "cell_type": "code",
      "metadata": {
        "id": "MlRZIZ5dRtw_",
        "colab": {
          "base_uri": "https://localhost:8080/",
          "height": 414
        },
        "outputId": "1e45ead5-9ef7-496a-b2ba-1e8905ecd9b9"
      },
      "source": [
        "#Filter null speaker \n",
        "df_quotesNY = df_quotesNY.drop(df_quotesNY[df_quotesNY.speaker == 'None'].index)\n",
        "df_quotesNY.head()"
      ],
      "execution_count": 22,
      "outputs": [
        {
          "output_type": "execute_result",
          "data": {
            "text/html": [
              "<div>\n",
              "<style scoped>\n",
              "    .dataframe tbody tr th:only-of-type {\n",
              "        vertical-align: middle;\n",
              "    }\n",
              "\n",
              "    .dataframe tbody tr th {\n",
              "        vertical-align: top;\n",
              "    }\n",
              "\n",
              "    .dataframe thead th {\n",
              "        text-align: right;\n",
              "    }\n",
              "</style>\n",
              "<table border=\"1\" class=\"dataframe\">\n",
              "  <thead>\n",
              "    <tr style=\"text-align: right;\">\n",
              "      <th></th>\n",
              "      <th>quoteID</th>\n",
              "      <th>quotation</th>\n",
              "      <th>speaker</th>\n",
              "      <th>qids</th>\n",
              "      <th>date</th>\n",
              "      <th>numOccurrences</th>\n",
              "      <th>probas</th>\n",
              "      <th>urls</th>\n",
              "      <th>phase</th>\n",
              "    </tr>\n",
              "  </thead>\n",
              "  <tbody>\n",
              "    <tr>\n",
              "      <th>0</th>\n",
              "      <td>2019-04-17-024782</td>\n",
              "      <td>It is not a low-income immigration,</td>\n",
              "      <td>James Fisher</td>\n",
              "      <td>[Q16213953, Q20707104, Q43143598, Q58886302, Q...</td>\n",
              "      <td>2019-04-17 13:31:18</td>\n",
              "      <td>1</td>\n",
              "      <td>[[James Fisher, 0.7475], [None, 0.2525]]</td>\n",
              "      <td>[https://www.nytimes.com/2019/04/17/realestate...</td>\n",
              "      <td>E</td>\n",
              "    </tr>\n",
              "    <tr>\n",
              "      <th>1</th>\n",
              "      <td>2019-04-02-001128</td>\n",
              "      <td>a champion figure skater switching to roller s...</td>\n",
              "      <td>John Updike</td>\n",
              "      <td>[Q105756]</td>\n",
              "      <td>2019-04-02 14:58:33</td>\n",
              "      <td>2</td>\n",
              "      <td>[[John Updike, 0.5856], [None, 0.4144]]</td>\n",
              "      <td>[https://www.nytimes.com/2019/04/02/opinion/vl...</td>\n",
              "      <td>E</td>\n",
              "    </tr>\n",
              "    <tr>\n",
              "      <th>3</th>\n",
              "      <td>2019-10-31-056366</td>\n",
              "      <td>It puts me in a predicament,</td>\n",
              "      <td>Xavier Becerra</td>\n",
              "      <td>[Q1855840]</td>\n",
              "      <td>2019-10-31 16:45:15</td>\n",
              "      <td>3</td>\n",
              "      <td>[[Xavier Becerra, 0.9065], [None, 0.0909], [St...</td>\n",
              "      <td>[http://www.nytimes.com/2019/10/31/technology/...</td>\n",
              "      <td>E</td>\n",
              "    </tr>\n",
              "    <tr>\n",
              "      <th>5</th>\n",
              "      <td>2019-08-15-002017</td>\n",
              "      <td>A Senator we can call our own.</td>\n",
              "      <td>Tom Rath</td>\n",
              "      <td>[Q7817334]</td>\n",
              "      <td>2019-08-15 22:36:33</td>\n",
              "      <td>1</td>\n",
              "      <td>[[Tom Rath, 0.7598], [None, 0.1993], [Warren R...</td>\n",
              "      <td>[http://www.nytimes.com/2019/08/15/us/politics...</td>\n",
              "      <td>E</td>\n",
              "    </tr>\n",
              "    <tr>\n",
              "      <th>8</th>\n",
              "      <td>2019-07-22-032883</td>\n",
              "      <td>It's a success, a relief and a technical feat,</td>\n",
              "      <td>Florence Parly</td>\n",
              "      <td>[Q3074013]</td>\n",
              "      <td>2019-07-22 02:37:50</td>\n",
              "      <td>21</td>\n",
              "      <td>[[Florence Parly, 0.9262], [None, 0.0738]]</td>\n",
              "      <td>[http://www.breitbart.com/news/french-submarin...</td>\n",
              "      <td>E</td>\n",
              "    </tr>\n",
              "  </tbody>\n",
              "</table>\n",
              "</div>"
            ],
            "text/plain": [
              "             quoteID  ... phase\n",
              "0  2019-04-17-024782  ...     E\n",
              "1  2019-04-02-001128  ...     E\n",
              "3  2019-10-31-056366  ...     E\n",
              "5  2019-08-15-002017  ...     E\n",
              "8  2019-07-22-032883  ...     E\n",
              "\n",
              "[5 rows x 9 columns]"
            ]
          },
          "metadata": {},
          "execution_count": 22
        }
      ]
    },
    {
      "cell_type": "code",
      "metadata": {
        "colab": {
          "base_uri": "https://localhost:8080/",
          "height": 426
        },
        "id": "RkLuIJxjRImC",
        "outputId": "4d74d528-1e4a-494f-d396-44578e7adf2d"
      },
      "source": [
        "speaker_genders = df_3['gender']\n",
        "speaker_genders.value_counts()"
      ],
      "execution_count": 70,
      "outputs": [
        {
          "output_type": "error",
          "ename": "TypeError",
          "evalue": "ignored",
          "traceback": [
            "\u001b[0;31m---------------------------------------------------------------------------\u001b[0m",
            "\u001b[0;31mTypeError\u001b[0m                                 Traceback (most recent call last)",
            "\u001b[0;32mpandas/_libs/hashtable_class_helper.pxi\u001b[0m in \u001b[0;36mpandas._libs.hashtable.PyObjectHashTable.map_locations\u001b[0;34m()\u001b[0m\n",
            "\u001b[0;31mTypeError\u001b[0m: unhashable type: 'numpy.ndarray'"
          ]
        },
        {
          "output_type": "stream",
          "name": "stderr",
          "text": [
            "Exception ignored in: 'pandas._libs.index.IndexEngine._call_map_locations'\n",
            "Traceback (most recent call last):\n",
            "  File \"pandas/_libs/hashtable_class_helper.pxi\", line 1709, in pandas._libs.hashtable.PyObjectHashTable.map_locations\n",
            "TypeError: unhashable type: 'numpy.ndarray'\n"
          ]
        },
        {
          "output_type": "execute_result",
          "data": {
            "text/plain": [
              "[Q6581097]              5418464\n",
              "[Q6581072]              1684170\n",
              "[Q1052281]                  887\n",
              "[Q48270]                    307\n",
              "[Q2449503]                  228\n",
              "                         ...   \n",
              "[Q6581097, Q6581072]          1\n",
              "[Q179294, Q6581097]           1\n",
              "[Q179294, Q6581097]           1\n",
              "[Q179294, Q6581097]           1\n",
              "[Q6581097, Q6581072]          1\n",
              "Name: gender, Length: 1411, dtype: int64"
            ]
          },
          "metadata": {},
          "execution_count": 70
        }
      ]
    },
    {
      "cell_type": "code",
      "metadata": {
        "colab": {
          "base_uri": "https://localhost:8080/"
        },
        "id": "EhYAcG-_YJ-C",
        "outputId": "5d31b320-af26-47a1-9788-d215e6053f56"
      },
      "source": [
        "print(labels.loc['Q1052281']['Label'],\n",
        "labels.loc['Q48270']['Label'],\n",
        "labels.loc['Q2449503']['Label'])"
      ],
      "execution_count": 73,
      "outputs": [
        {
          "output_type": "stream",
          "name": "stdout",
          "text": [
            "transgender female non-binary transgender male\n"
          ]
        }
      ]
    },
    {
      "cell_type": "code",
      "metadata": {
        "colab": {
          "base_uri": "https://localhost:8080/",
          "height": 886
        },
        "id": "dbNcSzahkSoE",
        "outputId": "f4687291-9fde-479b-9687-a855b0cd0af7"
      },
      "source": [
        "#Goal : struct dictionary{key = quote_id, value = dict{key=speaker_id, value = [genders per speaker]}}\n",
        "\n",
        "# Retrieve New York times speakers' gender, in the order of the quotations df\n",
        "dict_quote_id_genders = {}\n",
        "\n",
        "for NY_index, NY_row in df_quotesNY.iterrows(): #Loop over all quotes\n",
        "  quote_id = NY_row.quoteID #Future key in dict_quote_id_genders\n",
        "  id_aliases = NY_row.loc['qids'] \n",
        "  dict_genders_speaker = {} #Dict of genders per alias speaker\n",
        "  for id_speaker in id_aliases:\n",
        "    list_genders_speaker = [] #List of genders per alias speaker\n",
        "    id_genders_speaker = df_3.loc[df_3.id==id_speaker]['gender'].to_numpy() #List of all genders ID per speaker\n",
        "    for id_g in id_genders_speaker:\n",
        "      gender= labels.loc[id_g]['Label'].values #Gender value\n",
        "      list_genders_speaker.append(gender)\n",
        "    dict_genders_speaker[id_speaker] = list_genders_speaker\n",
        "    print(dict_genders_speaker)\n",
        "  dict_quote_id_genders[quote_id] = dict_genders_speaker"
      ],
      "execution_count": 114,
      "outputs": [
        {
          "output_type": "stream",
          "name": "stdout",
          "text": [
            "{'Q16213953': [array(['male'], dtype=object)]}\n",
            "{'Q16213953': [array(['male'], dtype=object)], 'Q20707104': [array(['male'], dtype=object)]}\n",
            "{'Q16213953': [array(['male'], dtype=object)], 'Q20707104': [array(['male'], dtype=object)], 'Q43143598': [array(['male'], dtype=object)]}\n",
            "{'Q16213953': [array(['male'], dtype=object)], 'Q20707104': [array(['male'], dtype=object)], 'Q43143598': [array(['male'], dtype=object)], 'Q58886302': [array(['male'], dtype=object)]}\n",
            "{'Q16213953': [array(['male'], dtype=object)], 'Q20707104': [array(['male'], dtype=object)], 'Q43143598': [array(['male'], dtype=object)], 'Q58886302': [array(['male'], dtype=object)], 'Q6133913': [array(['male'], dtype=object)]}\n",
            "{'Q105756': [array(['male'], dtype=object)]}\n",
            "{'Q1855840': [array(['male'], dtype=object)]}\n",
            "{'Q7817334': [array(['male'], dtype=object)]}\n",
            "{'Q3074013': [array(['female'], dtype=object)]}\n",
            "{'Q7812406': [array(['male'], dtype=object)]}\n",
            "{'Q977546': [array(['male'], dtype=object)]}\n",
            "{'Q50049': [array(['female'], dtype=object)]}\n",
            "{'Q19594790': [array(['male'], dtype=object)]}\n",
            "{'Q19594790': [array(['male'], dtype=object)], 'Q20669096': [array(['male'], dtype=object)]}\n",
            "{'Q19594790': [array(['male'], dtype=object)], 'Q20669096': [array(['male'], dtype=object)], 'Q34975': [array(['male'], dtype=object)]}\n",
            "{'Q19594790': [array(['male'], dtype=object)], 'Q20669096': [array(['male'], dtype=object)], 'Q34975': [array(['male'], dtype=object)], 'Q463581': [array(['male'], dtype=object)]}\n",
            "{'Q19594790': [array(['male'], dtype=object)], 'Q20669096': [array(['male'], dtype=object)], 'Q34975': [array(['male'], dtype=object)], 'Q463581': [array(['male'], dtype=object)], 'Q48847660': [array(['male'], dtype=object)]}\n",
            "{'Q19594790': [array(['male'], dtype=object)], 'Q20669096': [array(['male'], dtype=object)], 'Q34975': [array(['male'], dtype=object)], 'Q463581': [array(['male'], dtype=object)], 'Q48847660': [array(['male'], dtype=object)], 'Q4963453': [array(['male'], dtype=object)]}\n",
            "{'Q19594790': [array(['male'], dtype=object)], 'Q20669096': [array(['male'], dtype=object)], 'Q34975': [array(['male'], dtype=object)], 'Q463581': [array(['male'], dtype=object)], 'Q48847660': [array(['male'], dtype=object)], 'Q4963453': [array(['male'], dtype=object)], 'Q4963454': [array(['male'], dtype=object)]}\n",
            "{'Q19594790': [array(['male'], dtype=object)], 'Q20669096': [array(['male'], dtype=object)], 'Q34975': [array(['male'], dtype=object)], 'Q463581': [array(['male'], dtype=object)], 'Q48847660': [array(['male'], dtype=object)], 'Q4963453': [array(['male'], dtype=object)], 'Q4963454': [array(['male'], dtype=object)], 'Q57571927': [array(['male'], dtype=object)]}\n",
            "{'Q22686': [array(['male'], dtype=object)]}\n",
            "{'Q7154794': [array(['female'], dtype=object)]}\n",
            "{'Q57552119': [array(['male'], dtype=object)]}\n",
            "{'Q16193580': [array(['male'], dtype=object)]}\n",
            "{'Q16193580': [array(['male'], dtype=object)], 'Q17020404': [array(['male'], dtype=object)]}\n",
            "{'Q2106099': [array(['male'], dtype=object)]}\n",
            "{'Q57689': [array(['male'], dtype=object)]}\n",
            "{'Q5585845': [array(['male'], dtype=object)]}\n"
          ]
        },
        {
          "output_type": "error",
          "ename": "KeyboardInterrupt",
          "evalue": "ignored",
          "traceback": [
            "\u001b[0;31m---------------------------------------------------------------------------\u001b[0m",
            "\u001b[0;31mKeyboardInterrupt\u001b[0m                         Traceback (most recent call last)",
            "\u001b[0;32m<ipython-input-114-ef6cff8eba2b>\u001b[0m in \u001b[0;36m<module>\u001b[0;34m()\u001b[0m\n\u001b[1;32m     10\u001b[0m   \u001b[0;32mfor\u001b[0m \u001b[0mid_speaker\u001b[0m \u001b[0;32min\u001b[0m \u001b[0mid_aliases\u001b[0m\u001b[0;34m:\u001b[0m\u001b[0;34m\u001b[0m\u001b[0;34m\u001b[0m\u001b[0m\n\u001b[1;32m     11\u001b[0m     \u001b[0mlist_genders_speaker\u001b[0m \u001b[0;34m=\u001b[0m \u001b[0;34m[\u001b[0m\u001b[0;34m]\u001b[0m \u001b[0;31m#List of genders per alias speaker\u001b[0m\u001b[0;34m\u001b[0m\u001b[0;34m\u001b[0m\u001b[0m\n\u001b[0;32m---> 12\u001b[0;31m     \u001b[0mid_genders_speaker\u001b[0m \u001b[0;34m=\u001b[0m \u001b[0mdf_3\u001b[0m\u001b[0;34m.\u001b[0m\u001b[0mloc\u001b[0m\u001b[0;34m[\u001b[0m\u001b[0mdf_3\u001b[0m\u001b[0;34m.\u001b[0m\u001b[0mid\u001b[0m\u001b[0;34m==\u001b[0m\u001b[0mid_speaker\u001b[0m\u001b[0;34m]\u001b[0m\u001b[0;34m[\u001b[0m\u001b[0;34m'gender'\u001b[0m\u001b[0;34m]\u001b[0m\u001b[0;34m.\u001b[0m\u001b[0mto_numpy\u001b[0m\u001b[0;34m(\u001b[0m\u001b[0;34m)\u001b[0m \u001b[0;31m#List of all genders ID per speaker\u001b[0m\u001b[0;34m\u001b[0m\u001b[0;34m\u001b[0m\u001b[0m\n\u001b[0m\u001b[1;32m     13\u001b[0m     \u001b[0;32mfor\u001b[0m \u001b[0mid_g\u001b[0m \u001b[0;32min\u001b[0m \u001b[0mid_genders_speaker\u001b[0m\u001b[0;34m:\u001b[0m\u001b[0;34m\u001b[0m\u001b[0;34m\u001b[0m\u001b[0m\n\u001b[1;32m     14\u001b[0m       \u001b[0mgender\u001b[0m\u001b[0;34m=\u001b[0m \u001b[0mlabels\u001b[0m\u001b[0;34m.\u001b[0m\u001b[0mloc\u001b[0m\u001b[0;34m[\u001b[0m\u001b[0mid_g\u001b[0m\u001b[0;34m]\u001b[0m\u001b[0;34m[\u001b[0m\u001b[0;34m'Label'\u001b[0m\u001b[0;34m]\u001b[0m\u001b[0;34m.\u001b[0m\u001b[0mvalues\u001b[0m \u001b[0;31m#Gender value\u001b[0m\u001b[0;34m\u001b[0m\u001b[0;34m\u001b[0m\u001b[0m\n",
            "\u001b[0;32m/usr/local/lib/python3.7/dist-packages/pandas/core/ops/common.py\u001b[0m in \u001b[0;36mnew_method\u001b[0;34m(self, other)\u001b[0m\n\u001b[1;32m     63\u001b[0m         \u001b[0mother\u001b[0m \u001b[0;34m=\u001b[0m \u001b[0mitem_from_zerodim\u001b[0m\u001b[0;34m(\u001b[0m\u001b[0mother\u001b[0m\u001b[0;34m)\u001b[0m\u001b[0;34m\u001b[0m\u001b[0;34m\u001b[0m\u001b[0m\n\u001b[1;32m     64\u001b[0m \u001b[0;34m\u001b[0m\u001b[0m\n\u001b[0;32m---> 65\u001b[0;31m         \u001b[0;32mreturn\u001b[0m \u001b[0mmethod\u001b[0m\u001b[0;34m(\u001b[0m\u001b[0mself\u001b[0m\u001b[0;34m,\u001b[0m \u001b[0mother\u001b[0m\u001b[0;34m)\u001b[0m\u001b[0;34m\u001b[0m\u001b[0;34m\u001b[0m\u001b[0m\n\u001b[0m\u001b[1;32m     66\u001b[0m \u001b[0;34m\u001b[0m\u001b[0m\n\u001b[1;32m     67\u001b[0m     \u001b[0;32mreturn\u001b[0m \u001b[0mnew_method\u001b[0m\u001b[0;34m\u001b[0m\u001b[0;34m\u001b[0m\u001b[0m\n",
            "\u001b[0;32m/usr/local/lib/python3.7/dist-packages/pandas/core/ops/__init__.py\u001b[0m in \u001b[0;36mwrapper\u001b[0;34m(self, other)\u001b[0m\n\u001b[1;32m    368\u001b[0m         \u001b[0mrvalues\u001b[0m \u001b[0;34m=\u001b[0m \u001b[0mextract_array\u001b[0m\u001b[0;34m(\u001b[0m\u001b[0mother\u001b[0m\u001b[0;34m,\u001b[0m \u001b[0mextract_numpy\u001b[0m\u001b[0;34m=\u001b[0m\u001b[0;32mTrue\u001b[0m\u001b[0;34m)\u001b[0m\u001b[0;34m\u001b[0m\u001b[0;34m\u001b[0m\u001b[0m\n\u001b[1;32m    369\u001b[0m \u001b[0;34m\u001b[0m\u001b[0m\n\u001b[0;32m--> 370\u001b[0;31m         \u001b[0mres_values\u001b[0m \u001b[0;34m=\u001b[0m \u001b[0mcomparison_op\u001b[0m\u001b[0;34m(\u001b[0m\u001b[0mlvalues\u001b[0m\u001b[0;34m,\u001b[0m \u001b[0mrvalues\u001b[0m\u001b[0;34m,\u001b[0m \u001b[0mop\u001b[0m\u001b[0;34m)\u001b[0m\u001b[0;34m\u001b[0m\u001b[0;34m\u001b[0m\u001b[0m\n\u001b[0m\u001b[1;32m    371\u001b[0m \u001b[0;34m\u001b[0m\u001b[0m\n\u001b[1;32m    372\u001b[0m         \u001b[0;32mreturn\u001b[0m \u001b[0mself\u001b[0m\u001b[0;34m.\u001b[0m\u001b[0m_construct_result\u001b[0m\u001b[0;34m(\u001b[0m\u001b[0mres_values\u001b[0m\u001b[0;34m,\u001b[0m \u001b[0mname\u001b[0m\u001b[0;34m=\u001b[0m\u001b[0mres_name\u001b[0m\u001b[0;34m)\u001b[0m\u001b[0;34m\u001b[0m\u001b[0;34m\u001b[0m\u001b[0m\n",
            "\u001b[0;32m/usr/local/lib/python3.7/dist-packages/pandas/core/ops/array_ops.py\u001b[0m in \u001b[0;36mcomparison_op\u001b[0;34m(left, right, op)\u001b[0m\n\u001b[1;32m    242\u001b[0m \u001b[0;34m\u001b[0m\u001b[0m\n\u001b[1;32m    243\u001b[0m     \u001b[0;32melif\u001b[0m \u001b[0mis_object_dtype\u001b[0m\u001b[0;34m(\u001b[0m\u001b[0mlvalues\u001b[0m\u001b[0;34m.\u001b[0m\u001b[0mdtype\u001b[0m\u001b[0;34m)\u001b[0m\u001b[0;34m:\u001b[0m\u001b[0;34m\u001b[0m\u001b[0;34m\u001b[0m\u001b[0m\n\u001b[0;32m--> 244\u001b[0;31m         \u001b[0mres_values\u001b[0m \u001b[0;34m=\u001b[0m \u001b[0mcomp_method_OBJECT_ARRAY\u001b[0m\u001b[0;34m(\u001b[0m\u001b[0mop\u001b[0m\u001b[0;34m,\u001b[0m \u001b[0mlvalues\u001b[0m\u001b[0;34m,\u001b[0m \u001b[0mrvalues\u001b[0m\u001b[0;34m)\u001b[0m\u001b[0;34m\u001b[0m\u001b[0;34m\u001b[0m\u001b[0m\n\u001b[0m\u001b[1;32m    245\u001b[0m \u001b[0;34m\u001b[0m\u001b[0m\n\u001b[1;32m    246\u001b[0m     \u001b[0;32melse\u001b[0m\u001b[0;34m:\u001b[0m\u001b[0;34m\u001b[0m\u001b[0;34m\u001b[0m\u001b[0m\n",
            "\u001b[0;32m/usr/local/lib/python3.7/dist-packages/pandas/core/ops/array_ops.py\u001b[0m in \u001b[0;36mcomp_method_OBJECT_ARRAY\u001b[0;34m(op, x, y)\u001b[0m\n\u001b[1;32m     54\u001b[0m         \u001b[0mresult\u001b[0m \u001b[0;34m=\u001b[0m \u001b[0mlibops\u001b[0m\u001b[0;34m.\u001b[0m\u001b[0mvec_compare\u001b[0m\u001b[0;34m(\u001b[0m\u001b[0mx\u001b[0m\u001b[0;34m.\u001b[0m\u001b[0mravel\u001b[0m\u001b[0;34m(\u001b[0m\u001b[0;34m)\u001b[0m\u001b[0;34m,\u001b[0m \u001b[0my\u001b[0m\u001b[0;34m.\u001b[0m\u001b[0mravel\u001b[0m\u001b[0;34m(\u001b[0m\u001b[0;34m)\u001b[0m\u001b[0;34m,\u001b[0m \u001b[0mop\u001b[0m\u001b[0;34m)\u001b[0m\u001b[0;34m\u001b[0m\u001b[0;34m\u001b[0m\u001b[0m\n\u001b[1;32m     55\u001b[0m     \u001b[0;32melse\u001b[0m\u001b[0;34m:\u001b[0m\u001b[0;34m\u001b[0m\u001b[0;34m\u001b[0m\u001b[0m\n\u001b[0;32m---> 56\u001b[0;31m         \u001b[0mresult\u001b[0m \u001b[0;34m=\u001b[0m \u001b[0mlibops\u001b[0m\u001b[0;34m.\u001b[0m\u001b[0mscalar_compare\u001b[0m\u001b[0;34m(\u001b[0m\u001b[0mx\u001b[0m\u001b[0;34m.\u001b[0m\u001b[0mravel\u001b[0m\u001b[0;34m(\u001b[0m\u001b[0;34m)\u001b[0m\u001b[0;34m,\u001b[0m \u001b[0my\u001b[0m\u001b[0;34m,\u001b[0m \u001b[0mop\u001b[0m\u001b[0;34m)\u001b[0m\u001b[0;34m\u001b[0m\u001b[0;34m\u001b[0m\u001b[0m\n\u001b[0m\u001b[1;32m     57\u001b[0m     \u001b[0;32mreturn\u001b[0m \u001b[0mresult\u001b[0m\u001b[0;34m.\u001b[0m\u001b[0mreshape\u001b[0m\u001b[0;34m(\u001b[0m\u001b[0mx\u001b[0m\u001b[0;34m.\u001b[0m\u001b[0mshape\u001b[0m\u001b[0;34m)\u001b[0m\u001b[0;34m\u001b[0m\u001b[0;34m\u001b[0m\u001b[0m\n\u001b[1;32m     58\u001b[0m \u001b[0;34m\u001b[0m\u001b[0m\n",
            "\u001b[0;31mKeyboardInterrupt\u001b[0m: "
          ]
        }
      ]
    },
    {
      "cell_type": "code",
      "metadata": {
        "id": "0QC-YdzDmQnt"
      },
      "source": [
        "# Add gender column\n",
        "df_quotesNY.insert(3, 'gender', speakerGender)"
      ],
      "execution_count": null,
      "outputs": []
    },
    {
      "cell_type": "markdown",
      "metadata": {
        "id": "SIiZfupyR22B"
      },
      "source": [
        "### Old examples"
      ]
    },
    {
      "cell_type": "code",
      "metadata": {
        "id": "efLJ8XwzuhTD"
      },
      "source": [
        "path_to_file = '/content/drive/MyDrive/speakers.json' \n",
        "\n",
        "with bz2.open(path_to_file, 'rb') as s_file:\n",
        "  for instance in s_file:\n",
        "    instance = json.loads(instance) # loading a sample\n",
        "    print(instance) "
      ],
      "execution_count": null,
      "outputs": []
    },
    {
      "cell_type": "code",
      "metadata": {
        "id": "jcjVrbH2txJq"
      },
      "source": [
        "# Loading of the quotebank dataset\n",
        "\n",
        "path_to_file = '/content/drive/MyDrive/Quotebank/quotes-2020.json.bz2' \n",
        "\n",
        "with bz2.open(path_to_file, 'rb') as s_file:\n",
        "  for instance in s_file:\n",
        "    instance = json.loads(instance) # loading a sample\n",
        "    print(instance) "
      ],
      "execution_count": null,
      "outputs": []
    }
  ]
}
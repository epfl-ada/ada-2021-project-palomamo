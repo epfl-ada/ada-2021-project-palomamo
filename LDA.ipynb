{
  "nbformat": 4,
  "nbformat_minor": 0,
  "metadata": {
    "colab": {
      "name": "Copy of Algos_test.ipynb",
      "provenance": [],
      "collapsed_sections": [
        "2hIDOrfzBSjp"
      ],
      "authorship_tag": "ABX9TyMrffu33pN97Tpb9L1yU+Oj",
      "include_colab_link": true
    },
    "kernelspec": {
      "display_name": "Python 3",
      "name": "python3"
    },
    "language_info": {
      "name": "python"
    }
  },
  "cells": [
    {
      "cell_type": "markdown",
      "metadata": {
        "id": "view-in-github",
        "colab_type": "text"
      },
      "source": [
        "<a href=\"https://colab.research.google.com/github/morwald/ada_project/blob/master/LDA.ipynb\" target=\"_parent\"><img src=\"https://colab.research.google.com/assets/colab-badge.svg\" alt=\"Open In Colab\"/></a>"
      ]
    },
    {
      "cell_type": "markdown",
      "metadata": {
        "id": "8TiG-Np_7rBG"
      },
      "source": [
        "# Imports"
      ]
    },
    {
      "cell_type": "code",
      "metadata": {
        "id": "AvKsksFEAJG4",
        "colab": {
          "base_uri": "https://localhost:8080/"
        },
        "outputId": "5b9b22ca-a810-496d-e210-075014e47ac2"
      },
      "source": [
        "import pandas as pd\n",
        "import numpy as np\n",
        "import seaborn as sns\n",
        "import matplotlib.pyplot as plt\n",
        "import json\n",
        "import bz2\n",
        "from gensim.models import CoherenceModel\n",
        "\n",
        "from nltk.stem.wordnet import WordNetLemmatizer\n",
        "import string\n",
        "import re\n",
        "import nltk\n",
        "nltk.download('stopwords')\n",
        "nltk.download('wordnet')\n",
        "\n",
        "import warnings\n",
        "warnings.filterwarnings(\"ignore\",category=DeprecationWarning)"
      ],
      "execution_count": 90,
      "outputs": [
        {
          "output_type": "stream",
          "name": "stdout",
          "text": [
            "[nltk_data] Downloading package stopwords to /root/nltk_data...\n",
            "[nltk_data]   Package stopwords is already up-to-date!\n",
            "[nltk_data] Downloading package wordnet to /root/nltk_data...\n",
            "[nltk_data]   Package wordnet is already up-to-date!\n"
          ]
        }
      ]
    },
    {
      "cell_type": "code",
      "metadata": {
        "id": "3DIyBejIAc9i"
      },
      "source": [
        "# Comment the files which aren't stored locally\n",
        "# In Colab everything should be available\n",
        "QUOTES_2020_PATH = 'Merged data/quotes-2020-gb.pkl'\n",
        "QUOTES_2019_PATH = 'Merged data/quotes-2019-gb.pkl' \n",
        "QUOTES_2018_PATH = 'Merged data/quotes-2018-gb.pkl'  \n",
        "QUOTES_2017_PATH = 'Merged data/quotes-2017-gb.pkl'\n",
        "QUOTES_2016_PATH = 'Merged data/quotes-2016-gb.pkl'\n",
        "QUOTES_2015_PATH = 'Merged data/quotes-2015-gb.pkl'"
      ],
      "execution_count": 2,
      "outputs": []
    },
    {
      "cell_type": "code",
      "metadata": {
        "id": "9rpE-uK5Ao-V"
      },
      "source": [
        "use_colab = True"
      ],
      "execution_count": 3,
      "outputs": []
    },
    {
      "cell_type": "code",
      "metadata": {
        "colab": {
          "base_uri": "https://localhost:8080/"
        },
        "id": "83EtGneHArR2",
        "outputId": "6091d7ed-0845-494f-de51-38d9299f34c4"
      },
      "source": [
        "# Import with EPFL google drive!\n",
        "if use_colab:\n",
        "    from google.colab import drive\n",
        "    drive.mount('/content/drive', force_remount=True)\n",
        "    \n",
        "    %cd /content/drive/Shareddrives/ADA-project"
      ],
      "execution_count": 4,
      "outputs": [
        {
          "output_type": "stream",
          "name": "stdout",
          "text": [
            "Mounted at /content/drive\n",
            "/content/drive/Shareddrives/ADA-project\n"
          ]
        }
      ]
    },
    {
      "cell_type": "code",
      "metadata": {
        "colab": {
          "base_uri": "https://localhost:8080/"
        },
        "id": "tMW2YJowFUwf",
        "outputId": "4c516f36-1f72-4859-d901-e2be5b9574a7"
      },
      "source": [
        "!pip install pyldavis"
      ],
      "execution_count": 5,
      "outputs": [
        {
          "output_type": "stream",
          "name": "stdout",
          "text": [
            "Requirement already satisfied: pyldavis in /usr/local/lib/python3.7/dist-packages (3.3.1)\n",
            "Requirement already satisfied: scikit-learn in /usr/local/lib/python3.7/dist-packages (from pyldavis) (1.0.1)\n",
            "Requirement already satisfied: jinja2 in /usr/local/lib/python3.7/dist-packages (from pyldavis) (2.11.3)\n",
            "Requirement already satisfied: joblib in /usr/local/lib/python3.7/dist-packages (from pyldavis) (1.1.0)\n",
            "Requirement already satisfied: scipy in /usr/local/lib/python3.7/dist-packages (from pyldavis) (1.4.1)\n",
            "Requirement already satisfied: numexpr in /usr/local/lib/python3.7/dist-packages (from pyldavis) (2.7.3)\n",
            "Requirement already satisfied: numpy>=1.20.0 in /usr/local/lib/python3.7/dist-packages (from pyldavis) (1.21.4)\n",
            "Requirement already satisfied: funcy in /usr/local/lib/python3.7/dist-packages (from pyldavis) (1.16)\n",
            "Requirement already satisfied: gensim in /usr/local/lib/python3.7/dist-packages (from pyldavis) (3.6.0)\n",
            "Requirement already satisfied: future in /usr/local/lib/python3.7/dist-packages (from pyldavis) (0.16.0)\n",
            "Requirement already satisfied: setuptools in /usr/local/lib/python3.7/dist-packages (from pyldavis) (57.4.0)\n",
            "Requirement already satisfied: sklearn in /usr/local/lib/python3.7/dist-packages (from pyldavis) (0.0)\n",
            "Requirement already satisfied: pandas>=1.2.0 in /usr/local/lib/python3.7/dist-packages (from pyldavis) (1.3.4)\n",
            "Requirement already satisfied: pytz>=2017.3 in /usr/local/lib/python3.7/dist-packages (from pandas>=1.2.0->pyldavis) (2018.9)\n",
            "Requirement already satisfied: python-dateutil>=2.7.3 in /usr/local/lib/python3.7/dist-packages (from pandas>=1.2.0->pyldavis) (2.8.2)\n",
            "Requirement already satisfied: six>=1.5 in /usr/local/lib/python3.7/dist-packages (from python-dateutil>=2.7.3->pandas>=1.2.0->pyldavis) (1.15.0)\n",
            "Requirement already satisfied: smart-open>=1.2.1 in /usr/local/lib/python3.7/dist-packages (from gensim->pyldavis) (5.2.1)\n",
            "Requirement already satisfied: MarkupSafe>=0.23 in /usr/local/lib/python3.7/dist-packages (from jinja2->pyldavis) (2.0.1)\n",
            "Requirement already satisfied: threadpoolctl>=2.0.0 in /usr/local/lib/python3.7/dist-packages (from scikit-learn->pyldavis) (3.0.0)\n"
          ]
        }
      ]
    },
    {
      "cell_type": "markdown",
      "metadata": {
        "id": "dChPS45U7lVe"
      },
      "source": [
        "# Preprocessing"
      ]
    },
    {
      "cell_type": "markdown",
      "metadata": {
        "id": "iQIHWEJmBgUB"
      },
      "source": [
        "We select the quotations as a list of strings"
      ]
    },
    {
      "cell_type": "code",
      "metadata": {
        "colab": {
          "base_uri": "https://localhost:8080/"
        },
        "id": "73u86eAciaHV",
        "outputId": "567b98c0-46d9-4973-ae2a-695a267069b7"
      },
      "source": [
        "quotes_df = pd.read_pickle(QUOTES_2020_PATH)\n",
        "doc_complete = quotes_df.quotation.tolist()\n",
        "\n",
        "doc_complete[:3]"
      ],
      "execution_count": 153,
      "outputs": [
        {
          "output_type": "execute_result",
          "data": {
            "text/plain": [
              "['As you reach or have reached the apex of your career, you build a certain level of resilience to block things out,',\n",
              " 'At the same time we want to remain friends with our European neighbours and offer a range of drinks at an excellent price.',\n",
              " 'Been home-schooling a 6-year-old and 8-year-old for 1 hour and 11 minutes. Teachers deserve to make a billion dollars a year. Or WEEK.']"
            ]
          },
          "metadata": {},
          "execution_count": 153
        }
      ]
    },
    {
      "cell_type": "markdown",
      "metadata": {
        "id": "E2bt2SDTBkOn"
      },
      "source": [
        "Now we clean the quotations by removing stop words, punctuation."
      ]
    },
    {
      "cell_type": "code",
      "metadata": {
        "colab": {
          "base_uri": "https://localhost:8080/"
        },
        "id": "mTwzZxS1hHeI",
        "outputId": "cdfd95af-2088-4c4d-d169-a9e0476c05cc"
      },
      "source": [
        "from nltk.corpus import stopwords \n",
        "import spacy\n",
        "def clean(doc):\n",
        "    stopwordss = stopwords.words('english')\n",
        "    stopwordss.extend(['from', 'subject', 're', 'edu', 'use'])\n",
        "    stop = set(stopwordss)\n",
        "    exclude = set(string.punctuation) \n",
        "\n",
        "    # stop words\n",
        "    stop_free = \" \".join([i for i in doc.lower().split() if i not in stop])\n",
        "\n",
        "    # punctuation\n",
        "    punc_free = ''.join(ch for ch in stop_free if ch not in exclude)\n",
        "\n",
        "    return punc_free\n",
        "\n"
      ],
      "execution_count": 88,
      "outputs": [
        {
          "output_type": "stream",
          "name": "stderr",
          "text": [
            "/usr/local/lib/python3.7/dist-packages/jsonschema/compat.py:6: DeprecationWarning: Using or importing the ABCs from 'collections' instead of from 'collections.abc' is deprecated since Python 3.3,and in 3.9 it will stop working\n",
            "  from collections import MutableMapping, Sequence  # noqa\n",
            "/usr/local/lib/python3.7/dist-packages/jsonschema/compat.py:6: DeprecationWarning: Using or importing the ABCs from 'collections' instead of from 'collections.abc' is deprecated since Python 3.3,and in 3.9 it will stop working\n",
            "  from collections import MutableMapping, Sequence  # noqa\n"
          ]
        }
      ]
    },
    {
      "cell_type": "code",
      "metadata": {
        "id": "ZyhW45d5f5in"
      },
      "source": [
        "def lemmatize(doc):\n",
        "    return  \" \".join(lemma.lemmatize(word) for word in doc)"
      ],
      "execution_count": 77,
      "outputs": []
    },
    {
      "cell_type": "code",
      "metadata": {
        "id": "-2bc6wPPhdcK"
      },
      "source": [
        "def lemmatization(texts, allowed_postags=['NOUN', 'ADJ', 'VERB', 'ADV']):\n",
        "    nlp = spacy.load('en', disable=['parser', 'ner'])\n",
        "    texts_out = []\n",
        "    for sent in texts:\n",
        "        doc = nlp(\" \".join(sent)) \n",
        "        texts_out.append([token.lemma_ for token in doc if token.pos_ in allowed_postags])\n",
        "    return texts_out"
      ],
      "execution_count": 85,
      "outputs": []
    },
    {
      "cell_type": "code",
      "metadata": {
        "id": "VGTV5xiKmxTQ"
      },
      "source": [
        "def remove_short_words(doc):\n",
        "  return [word for word in doc if len(word)>=3]"
      ],
      "execution_count": 104,
      "outputs": []
    },
    {
      "cell_type": "code",
      "metadata": {
        "id": "xdRL5TCGev-T"
      },
      "source": [
        "def data_processing_for_lda(data):\n",
        "\n",
        "  stopwordss = stopwords.words('english')\n",
        "  stopwordss.extend(['from', 'subject', 're', 'edu', 'use'])\n",
        "  stop = set(stopwordss)\n",
        "  exclude = set(string.punctuation) \n",
        "  lemma = WordNetLemmatizer()\n",
        "\n",
        "  # Remove distracting single quotes\n",
        "  data = [re.sub(\"\\'\", \"\", doc) for doc in data]\n",
        "  # remove stop words and punctuation \n",
        "  doc_no_stop_punc = [clean(doc).split() for doc in data]\n",
        "\n",
        "\n",
        " # remove short words\n",
        "  doc_no_stop_punc = [remove_short_words(doc) for doc in doc_no_stop_punc]\n",
        "  \n",
        "   # bigrams and trigrams\n",
        "  bigram = gensim.models.Phrases(doc_no_stop_punc, min_count=5, threshold=100) # higher threshold fewer phrases.\n",
        "  trigram = gensim.models.Phrases(bigram[doc_no_stop_punc], threshold=100)  \n",
        "\n",
        "  # Faster way to get a sentence clubbed as a trigram/bigram\n",
        "  bigram_mod = gensim.models.phrases.Phraser(bigram)\n",
        "  trigram_mod = gensim.models.phrases.Phraser(trigram)\n",
        "\n",
        "  bigrams = [bigram_mod[doc] for doc in doc_no_stop_punc]\n",
        "\n",
        "  data_lemmatized = lemmatization(bigrams, allowed_postags=['NOUN', 'ADJ', 'VERB', 'ADV'])\n",
        "\n",
        "  #lemmatize\n",
        "  doc_clean = [lemmatize(doc).split() for doc in doc_no_stop_punc]\n",
        "    \n",
        "\n",
        "  return data_lemmatized"
      ],
      "execution_count": 105,
      "outputs": []
    },
    {
      "cell_type": "code",
      "metadata": {
        "colab": {
          "base_uri": "https://localhost:8080/"
        },
        "id": "paIp5WmNgQsr",
        "outputId": "96aa5fe9-2659-41a1-db09-15b1cb5e705e"
      },
      "source": [
        "doc_clean = data_processing_for_lda(doc_complete)"
      ],
      "execution_count": 106,
      "outputs": [
        {
          "output_type": "stream",
          "name": "stderr",
          "text": [
            "/usr/local/lib/python3.7/dist-packages/gensim/models/phrases.py:598: UserWarning: For a faster implementation, use the gensim.models.phrases.Phraser class\n",
            "  warnings.warn(\"For a faster implementation, use the gensim.models.phrases.Phraser class\")\n"
          ]
        }
      ]
    },
    {
      "cell_type": "code",
      "metadata": {
        "colab": {
          "base_uri": "https://localhost:8080/"
        },
        "id": "hldrgR8JhQ5i",
        "outputId": "ed57851f-104a-414c-a3f8-c25fe68c2c15"
      },
      "source": [
        "doc_clean[:3]"
      ],
      "execution_count": 107,
      "outputs": [
        {
          "output_type": "execute_result",
          "data": {
            "text/plain": [
              "[['reach',\n",
              "  'apex',\n",
              "  'career',\n",
              "  'build',\n",
              "  'certain',\n",
              "  'level',\n",
              "  'resilience',\n",
              "  'block',\n",
              "  'thing'],\n",
              " ['time',\n",
              "  'want',\n",
              "  'remain',\n",
              "  'friend',\n",
              "  'european',\n",
              "  'neighbour',\n",
              "  'offer',\n",
              "  'range',\n",
              "  'drink',\n",
              "  'excellent',\n",
              "  'price'],\n",
              " ['hour', 'minute', 'teacher', 'deserve', 'make', 'dollar', 'year', 'week']]"
            ]
          },
          "metadata": {},
          "execution_count": 107
        }
      ]
    },
    {
      "cell_type": "markdown",
      "metadata": {
        "id": "yg296e1YB9EJ"
      },
      "source": [
        "Now we create a document term matrix from the cleaned quotations, where every unique term is assigned an index."
      ]
    },
    {
      "cell_type": "code",
      "metadata": {
        "id": "2JvyzZGuiiie"
      },
      "source": [
        "import gensim\n",
        "from gensim import corpora\n",
        "\n",
        "# Creating the term dictionary of our courpus, where every unique term is assigned an index. \n",
        "dictionary = corpora.Dictionary(doc_clean)\n",
        "# filter out words that appear in more than 50% of the quotes\n",
        "dictionary.filter_extremes(no_below=20, no_above=0.5)\n",
        "\n",
        "# Converting list of documents (corpus) into Document Term Matrix using dictionary prepared above.\n",
        "doc_term_matrix = [dictionary.doc2bow(doc) for doc in doc_clean]"
      ],
      "execution_count": 124,
      "outputs": []
    },
    {
      "cell_type": "markdown",
      "metadata": {
        "id": "xMSr5QkQ7xEd"
      },
      "source": [
        "# Models fitting and testing"
      ]
    },
    {
      "cell_type": "markdown",
      "metadata": {
        "id": "lYnDWPt8svhG"
      },
      "source": [
        "Test the numbers of topics to find most efficient one"
      ]
    },
    {
      "cell_type": "code",
      "metadata": {
        "id": "VoWU5Eg-nmRy"
      },
      "source": [
        "def compute_coherence_values(dictionary, corpus, texts, limit, start=2, step=3):\n",
        "    coherence_values = []\n",
        "    model_list = []\n",
        "    for num_topics in range(start, limit, step):\n",
        "      #(doc_term_matrix, num_topics=10, id2word = dictionary, passes=50,workers=4)\n",
        "      model = gensim.models.LdaMulticore(corpus=corpus,\n",
        "                                           id2word=dictionary,\n",
        "                                           num_topics=num_topics, \n",
        "                                           random_state=100,\n",
        "                                           passes=50,\n",
        "                                           per_word_topics=True, \n",
        "                                           workers=6)\n",
        "      model_list.append(model)\n",
        "      coherencemodel = CoherenceModel(model=model, texts=texts, dictionary=dictionary, coherence='c_v')\n",
        "      coherence_values.append(coherencemodel.get_coherence())\n",
        "\n",
        "    return model_list, coherence_values"
      ],
      "execution_count": 109,
      "outputs": []
    },
    {
      "cell_type": "code",
      "metadata": {
        "id": "NLgEB0W1oHkj"
      },
      "source": [
        "modellist, coherence_values = compute_coherence_values(dictionary=dictionary, corpus=doc_term_matrix, texts=doc_clean, start=6, limit=24, step=4)"
      ],
      "execution_count": 110,
      "outputs": []
    },
    {
      "cell_type": "code",
      "metadata": {
        "colab": {
          "base_uri": "https://localhost:8080/",
          "height": 279
        },
        "id": "72Nj4Q68oYjh",
        "outputId": "0b9ca368-0458-4471-bc8e-724e07c227a4"
      },
      "source": [
        "# Show graph\n",
        "limit=24; start=6; step=4;\n",
        "x = range(start, limit, step)\n",
        "plt.plot(x, coherence_values)\n",
        "plt.xlabel(\"Num Topics\")\n",
        "plt.ylabel(\"Coherence score\")\n",
        "plt.legend((\"coherence_values\"), loc='best')\n",
        "plt.show()"
      ],
      "execution_count": 112,
      "outputs": [
        {
          "output_type": "display_data",
          "data": {
            "image/png": "[encoded data removed]",
            "text/plain": [
              "<Figure size 432x288 with 1 Axes>"
            ]
          },
          "metadata": {
            "needs_background": "light"
          }
        }
      ]
    },
    {
      "cell_type": "markdown",
      "metadata": {
        "id": "PqjLMv4z72kf"
      },
      "source": [
        "# Choice of the best model and extraction of topics"
      ]
    },
    {
      "cell_type": "code",
      "metadata": {
        "colab": {
          "base_uri": "https://localhost:8080/"
        },
        "id": "gN3SaGWRrX78",
        "outputId": "a686f9fb-7f79-4b5d-fe62-d8ede8ed56f1"
      },
      "source": [
        "optimodel = modellist[1]\n",
        "coherence_values[1]"
      ],
      "execution_count": 113,
      "outputs": [
        {
          "output_type": "execute_result",
          "data": {
            "text/plain": [
              "0.3793703303721529"
            ]
          },
          "metadata": {},
          "execution_count": 113
        }
      ]
    },
    {
      "cell_type": "code",
      "metadata": {
        "colab": {
          "base_uri": "https://localhost:8080/"
        },
        "id": "WY-ThjBOsGp7",
        "outputId": "273d83b7-c819-4b96-c4fb-00d4a1228f94"
      },
      "source": [
        "optimodel.print_topics()"
      ],
      "execution_count": 114,
      "outputs": [
        {
          "output_type": "execute_result",
          "data": {
            "text/plain": [
              "[(0,\n",
              "  '0.035*\"get\" + 0.015*\"play\" + 0.015*\"think\" + 0.015*\"lose\" + 0.013*\"big\" + 0.012*\"have\" + 0.010*\"great\" + 0.010*\"would\" + 0.010*\"s\" + 0.008*\"want\"'),\n",
              " (1,\n",
              "  '0.035*\"think\" + 0.017*\"look\" + 0.015*\"say\" + 0.014*\"get\" + 0.013*\"s\" + 0.013*\"make\" + 0.012*\"want\" + 0.012*\"day\" + 0.012*\"thing\" + 0.011*\"time\"'),\n",
              " (2,\n",
              "  '0.030*\"people\" + 0.020*\"need\" + 0.013*\"help\" + 0.011*\"take\" + 0.010*\"support\" + 0.009*\"can\" + 0.008*\"government\" + 0.007*\"problem\" + 0.007*\"protect\" + 0.007*\"could\"'),\n",
              " (3,\n",
              "  '0.015*\"much\" + 0.014*\"know\" + 0.009*\"get\" + 0.008*\"time\" + 0.008*\"make\" + 0.007*\"work\" + 0.007*\"go\" + 0.007*\"still\" + 0.006*\"mean\" + 0.006*\"could\"'),\n",
              " (4,\n",
              "  '0.018*\"know\" + 0.018*\"go\" + 0.017*\"life\" + 0.015*\"want\" + 0.015*\"happen\" + 0.011*\"see\" + 0.008*\"s\" + 0.008*\"have\" + 0.008*\"never\" + 0.008*\"back\"'),\n",
              " (5,\n",
              "  '0.015*\"want\" + 0.011*\"stay\" + 0.010*\"people\" + 0.010*\"test\" + 0.010*\"away\" + 0.010*\"home\" + 0.009*\"year\" + 0.008*\"tell\" + 0.008*\"come\" + 0.008*\"end\"'),\n",
              " (6,\n",
              "  '0.036*\"s\" + 0.016*\"people\" + 0.014*\"good\" + 0.013*\"would\" + 0.012*\"get\" + 0.011*\"work\" + 0.011*\"know\" + 0.011*\"there\" + 0.009*\"have\" + 0.008*\"kid\"'),\n",
              " (7,\n",
              "  '0.016*\"see\" + 0.011*\"able\" + 0.010*\"also\" + 0.010*\"may\" + 0.007*\"play\" + 0.006*\"make\" + 0.006*\"part\" + 0.006*\"lead\" + 0.006*\"really\" + 0.005*\"could\"'),\n",
              " (8,\n",
              "  '0.043*\"go\" + 0.013*\"really\" + 0.012*\"s\" + 0.011*\"thing\" + 0.011*\"make\" + 0.010*\"say\" + 0.009*\"team\" + 0.009*\"think\" + 0.008*\"come\" + 0.008*\"do\"'),\n",
              " (9,\n",
              "  '0.031*\"say\" + 0.019*\"feel\" + 0.015*\"would\" + 0.013*\"time\" + 0.010*\"take\" + 0.010*\"be\" + 0.009*\"come\" + 0.008*\"want\" + 0.008*\"have\" + 0.007*\"make\"')]"
            ]
          },
          "metadata": {},
          "execution_count": 114
        }
      ]
    },
    {
      "cell_type": "code",
      "metadata": {
        "colab": {
          "base_uri": "https://localhost:8080/",
          "height": 915
        },
        "id": "k3RuTR5eMhjw",
        "outputId": "dbc5e71b-b69e-4008-da6a-ae38cdbf829f"
      },
      "source": [
        "import pyLDAvis\n",
        "import pyLDAvis.gensim_models \n",
        "pyLDAvis.enable_notebook()\n",
        "vis = pyLDAvis.gensim_models.prepare(optimodel, doc_term_matrix, dictionary)\n",
        "vis"
      ],
      "execution_count": 115,
      "outputs": [
        {
          "output_type": "stream",
          "name": "stderr",
          "text": [
            "/usr/local/lib/python3.7/dist-packages/pyLDAvis/_prepare.py:247: FutureWarning: In a future version of pandas all arguments of DataFrame.drop except for the argument 'labels' will be keyword-only\n",
            "  by='saliency', ascending=False).head(R).drop('saliency', 1)\n"
          ]
        },
        {
          "output_type": "execute_result",
          "data": {
            "text/html": [
              "\n",
              "<link rel=\"stylesheet\" type=\"text/css\" href=\"https://cdn.jsdelivr.net/gh/bmabey/pyLDAvis@3.3.1/pyLDAvis/js/ldavis.v1.0.0.css\">\n",
              "\n",
              "\n",
              "<div id=\"ldavis_el1501399914369005604526900983\"></div>\n",
              "<script type=\"text/javascript\">\n",
              "\n",
              "var ldavis_el1501399914369005604526900983_data = {\"mdsDat\": {\"x\": [0.0979864435827876, -0.18663321253586193, 0.0743763602444646, 0.074857126877139, 0.010271468794977043, 0.024130510131724212, 0.06507836243408058, -0.1807845361845093, 0.10395800304490224, -0.08324052638970403], \"y\": [0.016556287019887258, 0.10378724906090671, 0.01604169332009492, 0.0016747280255613364, 0.029244026491248142, 0.007397960643142358, -0.044022717216491154, -0.21209611994149036, -0.06811546595177427, 0.14953235854891508], \"topics\": [1, 2, 3, 4, 5, 6, 7, 8, 9, 10], \"cluster\": [1, 1, 1, 1, 1, 1, 1, 1, 1, 1], \"Freq\": [14.38061762088754, 13.626066311673195, 9.695290886127772, 9.685599944897575, 9.492791409278095, 9.25517929927516, 9.054943490294901, 8.489614085652434, 8.385653396398064, 7.9342435555152635]}, \"tinfo\": {\"Term\": [\"go\", \"say\", \"think\", \"get\", \"s\", \"need\", \"life\", \"much\", \"lose\", \"people\", \"play\", \"feel\", \"help\", \"look\", \"happen\", \"want\", \"know\", \"love\", \"big\", \"stay\", \"there\", \"never\", \"home\", \"thing\", \"able\", \"test\", \"have\", \"away\", \"kid\", \"team\", \"horrible\", \"surgery\", \"blow\", \"paint\", \"congratulation\", \"socialism\", \"brave\", \"guarantee\", \"honour\", \"pool\", \"bomb\", \"reminder\", \"factory\", \"accommodation\", \"neck\", \"safely\", \"cake\", \"humble\", \"silly\", \"parkinson\", \"heroic\", \"confuse\", \"terribly\", \"deportation\", \"magazine\", \"boo\", \"branch\", \"resist\", \"wanted\", \"unhelpful\", \"movie\", \"sort\", \"lie\", \"quite\", \"fantastic\", \"think\", \"normally\", \"gon\", \"apart\", \"look\", \"again\", \"past\", \"sometimes\", \"write\", \"laugh\", \"genuinely\", \"day\", \"money\", \"love\", \"bit\", \"history\", \"stop\", \"say\", \"funny\", \"thing\", \"lot\", \"make\", \"never\", \"child\", \"want\", \"time\", \"have\", \"get\", \"work\", \"s\", \"woman\", \"go\", \"would\", \"people\", \"know\", \"way\", \"always\", \"really\", \"life\", \"be\", \"good\", \"may\", \"back\", \"feel\", \"listen\", \"solve\", \"service\", \"organisation\", \"rely\", \"fund\", \"million\", \"save_live\", \"invest\", \"administration\", \"hugely\", \"dollar\", \"urgent\", \"revenue\", \"gap\", \"conflict\", \"stay_home\", \"immediate\", \"substantial\", \"reform\", \"grind\", \"shortage\", \"package\", \"largely\", \"frontline\", \"covid19\", \"taxpayer\", \"vegetable\", \"afford\", \"minimise\", \"protect\", \"social\", \"measure\", \"economy\", \"worker\", \"financial\", \"essential\", \"problem\", \"global\", \"help\", \"business\", \"need\", \"support\", \"ensure\", \"contain\", \"risk\", \"safe\", \"sector\", \"people\", \"government\", \"public\", \"term\", \"care\", \"access\", \"health\", \"can\", \"community\", \"take\", \"young\", \"country\", \"level\", \"virus\", \"system\", \"could\", \"give\", \"family\", \"make\", \"work\", \"come\", \"time\", \"look\", \"life\", \"mother\", \"handle\", \"marry\", \"referee\", \"cheer\", \"heat\", \"restaurant\", \"tiny\", \"proportion\", \"strict\", \"consultation\", \"robust\", \"remark\", \"scrub\", \"addict\", \"luckily\", \"illegal\", \"error\", \"button\", \"fortunate\", \"ease\", \"viral\", \"loose\", \"shortterm\", \"answer_question\", \"jealous\", \"facial\", \"premier\", \"skate\", \"conclusion\", \"answer\", \"fellow\", \"propose\", \"room\", \"doubt\", \"toilet\", \"wife\", \"refuse\", \"say\", \"summer\", \"cook\", \"agreement\", \"post\", \"feel\", \"decide\", \"guess\", \"fair\", \"song\", \"anyway\", \"now\", \"option\", \"trip\", \"afraid\", \"be\", \"nice\", \"would\", \"right\", \"time\", \"even\", \"meal\", \"suppose\", \"take\", \"back\", \"much\", \"come\", \"will\", \"player\", \"game\", \"find\", \"can\", \"give\", \"have\", \"make\", \"want\", \"still\", \"moment\", \"could\", \"good\", \"happen\", \"see\", \"know\", \"s\", \"need\", \"let\", \"student\", \"bother\", \"governor\", \"shocking\", \"inevitable\", \"thankful\", \"mental\", \"sponsor\", \"beach\", \"document\", \"weapon\", \"essentially\", \"wrap\", \"ruin\", \"gay\", \"poll\", \"darle\", \"agent\", \"prioritise\", \"dumb\", \"convince\", \"nose\", \"strictly\", \"nonsense\", \"lightly\", \"thoroughly\", \"fiscal\", \"bathroom\", \"thriller\", \"significantly\", \"lonely\", \"chinese\", \"terrible\", \"team\", \"arrive\", \"link\", \"go\", \"heart\", \"daughter\", \"white\", \"longer\", \"promise\", \"injury\", \"date\", \"bad\", \"speak\", \"list\", \"simple\", \"boy\", \"message\", \"do\", \"hour\", \"like\", \"front\", \"different\", \"upset\", \"decision\", \"really\", \"amazing\", \"thing\", \"growth\", \"make\", \"say\", \"game\", \"s\", \"come\", \"first\", \"try\", \"find\", \"think\", \"be\", \"have\", \"well\", \"would\", \"get\", \"love\", \"family\", \"good\", \"look\", \"time\", \"year\", \"people\", \"way\", \"mask\", \"ridiculous\", \"bedroom\", \"telly\", \"trick\", \"recipe\", \"income\", \"gun\", \"reputation\", \"pride\", \"diet\", \"improvement\", \"grip\", \"wine\", \"breakfast\", \"manuscript\", \"crush\", \"ambulance\", \"canadian\", \"display\", \"recognition\", \"designer\", \"protective\", \"rarely\", \"stable\", \"king\", \"teen\", \"span\", \"equality\", \"golden\", \"yet\", \"out\", \"arsenal\", \"tend\", \"better\", \"legal\", \"wind\", \"comfort\", \"dream\", \"much\", \"baby\", \"wake\", \"politic\", \"character\", \"sleep\", \"true\", \"region\", \"victory\", \"visit\", \"space\", \"allow\", \"tough\", \"mean\", \"aware\", \"know\", \"place\", \"still\", \"sense\", \"great\", \"country\", \"recover\", \"person\", \"home\", \"make\", \"bring\", \"work\", \"get\", \"time\", \"could\", \"love\", \"always\", \"job\", \"call\", \"want\", \"go\", \"see\", \"need\", \"come\", \"feel\", \"would\", \"really\", \"s\", \"people\", \"way\", \"take\", \"also\", \"think\", \"lucky\", \"cough\", \"captain\", \"temperature\", \"regardless\", \"acceptable\", \"clock\", \"profound\", \"committed\", \"bet\", \"pour\", \"freeze\", \"shower\", \"necessarily\", \"dancer\", \"strongly\", \"predict\", \"presidential\", \"forest\", \"emotionally\", \"ingredient\", \"pocket\", \"temporary\", \"bone\", \"sexually\", \"explanation\", \"happier\", \"meantime\", \"discipline\", \"fuck\", \"lovely\", \"kid\", \"land\", \"drought\", \"box\", \"dead\", \"sex\", \"ball\", \"there\", \"father\", \"chance\", \"s\", \"else\", \"excite\", \"wish\", \"plant\", \"word\", \"around\", \"name\", \"good\", \"fine\", \"mind\", \"live\", \"candidate\", \"probably\", \"join\", \"work\", \"record\", \"treat\", \"people\", \"would\", \"send\", \"ask\", \"keep\", \"know\", \"get\", \"love\", \"have\", \"thank\", \"year\", \"hard\", \"give\", \"could\", \"ever\", \"lot\", \"really\", \"thing\", \"be\", \"feel\", \"see\", \"may\", \"time\", \"way\", \"proud\", \"earth\", \"solution\", \"charity\", \"fresh\", \"host\", \"invite\", \"wet\", \"religious\", \"sudden\", \"aboriginal\", \"championship\", \"frustration\", \"ultimate\", \"mindset\", \"racial\", \"cent\", \"evolution\", \"broken\", \"hardly\", \"forgive\", \"influx\", \"readiness\", \"ghost\", \"terrorism\", \"dog\", \"audition\", \"cherish\", \"either\", \"tory\", \"plane\", \"super\", \"necessary\", \"general\", \"flood\", \"weather\", \"happiness\", \"happen\", \"life\", \"complex\", \"nation\", \"commit\", \"talk\", \"fight\", \"pain\", \"damage\", \"decade\", \"describe\", \"hurt\", \"know\", \"race\", \"worry\", \"go\", \"want\", \"week\", \"never\", \"next\", \"see\", \"back\", \"live\", \"let\", \"thing\", \"many\", \"have\", \"enough\", \"year\", \"will\", \"great\", \"s\", \"good\", \"take\", \"world\", \"would\", \"be\", \"put\", \"look\", \"argument\", \"sentence\", \"tragic\", \"behave\", \"ban\", \"conservative\", \"active\", \"frustrating\", \"creativity\", \"offence\", \"idiot\", \"tension\", \"glove\", \"protocol\", \"distress\", \"publicly\", \"afternoon\", \"pattern\", \"barrier\", \"content\", \"accident\", \"operator\", \"outline\", \"challenging\", \"restore\", \"investigation\", \"wellbee\", \"uniform\", \"fiver\", \"appal\", \"girlfriend\", \"testing\", \"base\", \"event\", \"spin\", \"significant\", \"contact\", \"lead\", \"consequence\", \"able\", \"disease\", \"request\", \"detail\", \"victim\", \"crime\", \"national\", \"isolation\", \"symptom\", \"policy\", \"follow\", \"immediately\", \"credit\", \"also\", \"appropriate\", \"see\", \"may\", \"part\", \"concern\", \"process\", \"report\", \"travel\", \"role\", \"due\", \"key\", \"number\", \"case\", \"play\", \"clear\", \"relationship\", \"provide\", \"make\", \"close\", \"really\", \"could\", \"decision\", \"would\", \"come\", \"well\", \"time\", \"child\", \"world\", \"want\", \"health\", \"rain\", \"lose\", \"taste\", \"drop\", \"impeachment\", \"expensive\", \"driver\", \"hole\", \"relief\", \"lawyer\", \"thrill\", \"oppose\", \"anger\", \"ditch\", \"vehicle\", \"bike\", \"update\", \"manchester\", \"drinking\", \"gesture\", \"cape\", \"corner\", \"surround\", \"chip\", \"toe\", \"through\", \"loyal\", \"inquiry\", \"offend\", \"moan\", \"foot\", \"vote\", \"suit\", \"priority\", \"infrastructure\", \"trial\", \"club\", \"train\", \"touch\", \"play\", \"point\", \"big\", \"major\", \"get\", \"less\", \"happy\", \"great\", \"rape\", \"girl\", \"season\", \"little\", \"ahead\", \"far\", \"wear\", \"think\", \"have\", \"never\", \"enjoy\", \"try\", \"would\", \"s\", \"start\", \"want\", \"know\", \"still\", \"come\", \"well\", \"thing\", \"feel\", \"woman\", \"always\", \"people\", \"way\", \"goal\", \"payment\", \"brand\", \"severe\", \"rent\", \"stockpile\", \"dear\", \"coffee\", \"smash\", \"someone\", \"tackle\", \"heavily\", \"interaction\", \"fault\", \"a.m.\", \"behalf\", \"stuck\", \"fitness\", \"federal\", \"loud\", \"stability\", \"competitor\", \"adventure\", \"presence\", \"stream\", \"yard\", \"controversial\", \"declare\", \"slip\", \"copyright\", \"stay\", \"calm\", \"account\", \"test\", \"shell\", \"welcome\", \"strike\", \"quarantine\", \"walk\", \"expose\", \"away\", \"score\", \"table\", \"board\", \"note\", \"throw\", \"ready\", \"home\", \"run\", \"rather\", \"already\", \"pass\", \"begin\", \"end\", \"tell\", \"die\", \"month\", \"want\", \"long\", \"together\", \"drive\", \"year\", \"many\", \"use\", \"new\", \"keep\", \"come\", \"people\", \"work\", \"really\", \"time\", \"get\", \"well\", \"help\", \"could\", \"take\", \"would\", \"feel\"], \"Freq\": [1725.0, 1385.0, 1665.0, 1887.0, 1992.0, 949.0, 663.0, 673.0, 266.0, 2079.0, 531.0, 926.0, 509.0, 878.0, 548.0, 1455.0, 1508.0, 733.0, 454.0, 209.0, 404.0, 591.0, 404.0, 1069.0, 313.0, 204.0, 1291.0, 285.0, 210.0, 265.0, 34.32180032990406, 41.493710613825655, 29.163760145353955, 27.20339182932794, 24.428851441711107, 22.354943435870464, 21.241884142180364, 21.24180165083052, 21.000842662806548, 19.219422656479562, 19.201137658976258, 16.083893101413146, 15.92317011462392, 14.69657113111919, 14.58733678771228, 14.426626964436327, 14.174930059852052, 14.043086943615537, 13.824627910044782, 13.721633071929123, 12.896957394314256, 12.466279710031548, 12.466266546518275, 12.163116978821298, 12.134216924214904, 11.590032020116974, 11.59000130525267, 11.561111781456894, 11.13043058690398, 10.856204768137289, 68.75489728696108, 127.53951794336017, 59.13670777860614, 178.4300814879686, 63.91897353759878, 1066.8841182365195, 21.123777590827665, 21.364782212364318, 27.473487815197217, 520.5749249796162, 134.9682606571775, 58.76775029778883, 93.07015287453426, 106.54978002035045, 54.87421825983367, 30.41942241102966, 359.5880641584614, 130.90852083523617, 333.0827158866327, 151.727694728934, 76.16276091359283, 135.75245502120868, 464.53739264268745, 42.570584287096715, 353.8014258470334, 215.27860941488822, 385.26080441957714, 218.48639261674083, 147.7444647564037, 365.9594011575704, 344.74405816841795, 323.56418294942745, 411.8530950638692, 277.3833770224355, 404.4592303948192, 124.3015744998972, 314.92029701892284, 306.1402968509085, 343.8888720997397, 286.8711319104741, 196.13970358125988, 159.98873654968617, 211.90212262693294, 170.34348605537622, 165.66591059500874, 169.583414268201, 143.11478342272756, 144.69732556026068, 144.66482045815266, 89.40012291230559, 34.064747657543876, 174.30837964230568, 32.12403619761806, 30.78123863322556, 31.00694019428082, 27.942720036719166, 25.791352566910152, 24.67937873640478, 22.616985736945743, 21.783895923661348, 21.505051819475426, 20.813194280727977, 20.26737687419831, 20.057248048986438, 19.70126535238704, 18.488589271398457, 34.130501056708326, 18.325622686231725, 17.885731148647896, 17.54986628475861, 17.250575065323385, 17.16182843188184, 16.826035078847024, 16.793284770542467, 16.684787836921927, 16.227949889871617, 16.070133749269917, 16.038083582121924, 15.467327180856302, 200.29761937396816, 80.590358163148, 121.56263860180151, 113.88686970024008, 95.38836869180334, 46.15109651943799, 56.33680993468631, 202.7139678204545, 65.275613526172, 368.36064676930624, 174.3558761540194, 563.1057642718011, 299.33054707909787, 97.32251445746283, 41.8568830128039, 147.49888712725792, 103.32446371232896, 46.41369435531399, 848.3984445748383, 226.1005317536557, 135.60313963817572, 89.49039289325168, 135.93057287340994, 65.48939439409126, 107.38915398480142, 254.09194236705392, 122.51690605255159, 309.77943374314424, 114.12660069311667, 172.3959199590253, 103.7079614574684, 108.80586051185432, 102.68779758584493, 190.45169893047566, 159.1683277075865, 116.95978757335716, 137.08830367251795, 128.05184618860127, 122.48118388617867, 118.71307407284405, 112.17859179994856, 105.73306903001492, 53.359743717932346, 39.11253236698255, 33.47862220560263, 18.798589117595817, 17.456314692121325, 17.122628415862447, 17.04186482825869, 16.05157637110484, 15.233546411971842, 14.334713816425642, 14.030099970445828, 13.696440910023838, 13.534970533084602, 12.79764499669257, 12.60710337277153, 12.445636545724062, 12.11195500265421, 11.921419295219447, 11.616818465509448, 11.121692578039989, 11.103298222197749, 11.070008520498828, 10.798748274269752, 10.798696209190494, 10.718028468664459, 10.717951554342829, 10.637249498196375, 10.465041881957525, 10.384355208675398, 10.222877731952627, 71.16137176514856, 18.548259033228277, 14.64186346842475, 81.0001429247704, 50.266368031680535, 16.262215115619295, 51.84840333043329, 32.58339156690325, 638.6441209505334, 33.66001457514141, 24.671726485191606, 32.40341678747698, 26.49444207919042, 388.36808013526036, 69.00594848172146, 30.3092102042842, 41.214361751097535, 33.04603239480777, 28.141778820304697, 136.22099076627595, 50.641416463517764, 27.843142992061455, 25.501279393002104, 201.37413284931696, 56.24315987229456, 307.10373059920306, 150.10886787294626, 271.34585068575376, 141.15474394136746, 33.649700956259395, 45.206404371279724, 204.81404423672896, 146.65454865814698, 142.94249783464483, 181.5087491904901, 94.02094713424161, 88.319376035772, 89.43989227241879, 95.61915573988736, 123.12748477340511, 114.55089893108985, 156.09400432580856, 150.48752299481933, 156.83478627348495, 100.84477628291862, 80.25659679470435, 122.74791141286151, 122.74339595053317, 97.22453986009262, 122.13834293129219, 131.40218781980707, 130.7891073119824, 109.70167104557848, 83.30893573212316, 42.63671345825187, 28.702735144662906, 21.21664759845218, 19.000225486822863, 17.611214955180177, 17.20140186820068, 16.77341731728909, 16.660641230764945, 16.203952575820114, 15.714287655077111, 15.55459817292397, 15.545375315677148, 14.683892831875099, 14.227172259839055, 13.846114107815845, 13.225527643135372, 12.166364881717687, 12.118004577953585, 12.057749838196465, 12.006678945908014, 11.898062720272303, 11.818228618226138, 11.789505600361066, 11.516998657676647, 11.248749691383289, 11.027356197108942, 10.918745882045677, 10.759061128350496, 10.378017161701159, 12.80494194681336, 15.353962609084666, 30.359210900692435, 58.36030199013211, 184.9304446642073, 32.709767543441586, 38.75027328700169, 866.0508172596327, 85.68121858770624, 37.80989884640158, 22.305691849934615, 55.98117364017253, 29.672778294719663, 27.41499636133287, 62.03155713240662, 148.85288731754028, 90.68899601406213, 35.89851428609233, 49.4346992528307, 76.21299692899166, 55.91019002930901, 163.56320513671292, 66.19410378496164, 83.63870443130938, 41.33362137193263, 92.7429341248852, 33.20182033545332, 99.49973977910895, 256.695707455831, 69.3598536723343, 214.1411178553914, 37.6524813882972, 213.75782905332656, 211.9887805344651, 94.76931478272981, 233.82258646557827, 170.84370642360247, 109.38790051751981, 120.87882882224574, 99.07102940990083, 184.6593716263986, 120.83296278005442, 142.58614850298596, 112.53307215585981, 143.92541802114084, 148.27770823462922, 110.54801822056696, 92.32278226458082, 108.47684960894541, 102.07326922109037, 110.24914184996601, 98.34826569720877, 108.59702809640261, 96.14243060294712, 35.09922800633325, 29.115916550210258, 28.933305416224005, 26.83256600574791, 21.056059202669523, 20.110588712500054, 20.007662563371344, 19.69288961030531, 18.869546456476215, 17.130010191397513, 15.66194485971212, 14.922287275996219, 14.743741607883724, 14.516693043407914, 13.588410124123925, 13.481499609894094, 12.972922457636239, 12.897246168111609, 12.68738517452128, 12.611711202161585, 12.130392019585072, 11.81760024253617, 11.741894988449888, 10.76526094710565, 10.66232321215228, 10.58665387412245, 10.45247148722168, 10.301073723456243, 10.198211296363175, 10.122508359441824, 72.16636857772723, 42.13635131620124, 15.733627515475897, 18.323008349714634, 114.55569405824954, 36.66022092046439, 21.637996638102152, 17.252540714436112, 40.65421847621174, 302.2274884507063, 59.52963083571412, 44.09096798888033, 43.96231435750807, 47.48406211422401, 49.61185442528494, 53.283828618893025, 29.305701626826966, 25.361729344803464, 37.62020844893484, 46.594595183303774, 78.07103313888236, 58.51295155000954, 129.14543572614883, 38.93110511759085, 273.3234882193814, 113.89983442714605, 131.8500491724718, 55.51337227646197, 121.45338428548013, 112.80534474301416, 32.59850421956999, 72.9648867850539, 93.18611317157743, 155.89385157021462, 74.86086528195571, 140.08633777512432, 179.0174521613749, 156.06624864117921, 128.0376640526249, 111.83372968091334, 96.51929931476093, 74.42382943840076, 73.28610609096167, 127.31170554798886, 132.59221856297435, 113.22269395330413, 103.89653145906495, 105.48923940962474, 96.53468528991152, 110.6616335088682, 98.02904349208396, 102.94464010486801, 102.2644595106349, 84.72686695913714, 87.84510361453893, 79.01111622058417, 80.0438858995788, 46.691995234934275, 35.02234224875607, 21.91882243486539, 17.51306995210105, 17.513057526696556, 17.36946503404361, 17.34029357304013, 17.207411779060372, 16.854300986259958, 16.73988334335717, 15.312178386691121, 15.12105872185148, 14.624293309375656, 14.300325738023053, 14.23773445726163, 14.138302981759933, 14.127559525202177, 14.127542581468775, 13.4942603794078, 12.810064517644605, 12.567086862361258, 12.456932262781883, 12.070309024480938, 11.654578711363433, 11.492562732593672, 10.914850328173207, 10.75287388478138, 10.447278968345394, 10.428882592202019, 10.256105083558875, 59.10705275499166, 160.1151900920003, 34.16470016567155, 14.607043459192338, 31.308998820124966, 43.353031502849355, 34.77643897550568, 32.94815592171053, 206.6266148305097, 33.268753949281006, 67.5316803262184, 703.5585367632025, 88.0870811993547, 37.918444232221354, 59.269789407222035, 27.15036730025136, 53.38075765182223, 41.08298239519443, 54.73239767092726, 280.04076629855547, 44.46889608294822, 70.75117944201182, 119.45056428860036, 36.61271269397221, 73.42736306176877, 27.509547338355617, 222.59147938275134, 42.99461054400141, 45.44601181898206, 309.4095607987034, 258.7274835262643, 65.45627630953251, 95.07895119261553, 121.20919730229969, 212.67971162683844, 225.60131900061896, 130.63904913368845, 171.23843026767653, 75.36500774842018, 123.27391095279246, 77.31170716620049, 108.4079039906451, 120.69777669001517, 79.78635072507687, 96.86793833990966, 117.95561191323459, 102.72136114519625, 93.54397545979477, 94.57527499607701, 90.29349868101744, 80.93612084529116, 85.15750517618459, 75.96313961075197, 94.48937206382486, 48.98205594217787, 44.72543578472082, 25.53070076174378, 22.888490014578924, 22.8348397078102, 18.631914062870457, 16.52263124347611, 14.512780414371296, 21.470002692297538, 13.503963236227941, 12.235901445514923, 11.973372345825481, 11.889564877372894, 11.805792773519174, 11.80578945808803, 11.77527975555921, 11.63820214977572, 11.291868897064836, 11.208089057205113, 11.124307007057961, 10.808155229192662, 10.80814528289923, 10.77798922635908, 10.694189493912495, 75.10749421450575, 10.442769298842162, 10.180275563751588, 10.972263545091428, 10.096476936448717, 26.442786920836074, 21.586573251313006, 49.6968982613767, 41.74817861760224, 31.952072006774408, 24.457508962225276, 18.644738150534614, 283.7633663862657, 315.4857121690873, 18.27175767257742, 56.03529973689041, 30.39176380188649, 144.9780925349842, 100.20817250546351, 36.62266794828155, 44.47456816150779, 40.389183391764924, 23.863220139989313, 40.93622510991453, 337.18019607326823, 37.41275287214486, 57.799462751372495, 333.9543080938149, 292.9021268847903, 124.9341451891256, 155.72100892041692, 107.48780720039824, 210.57574551505363, 150.9951845269166, 100.04179975009355, 93.06471803961603, 150.9834611623922, 110.26222186956522, 157.26596446882166, 66.5537393310146, 117.1720754775965, 80.2042048386241, 93.68072514613121, 160.53478507129952, 118.29898610279403, 117.30724781561602, 85.0783218363236, 118.27027888966371, 89.60546791338889, 76.58567255909983, 83.0320200520803, 30.66371356354408, 26.83706467808442, 24.228987751548637, 23.448840257473947, 22.90557439387899, 22.38013231409595, 19.335172707986654, 17.622522809262687, 17.281734383745952, 17.251011618148517, 16.928680061661062, 16.897925175537047, 15.368414085600199, 15.015380486435678, 14.81379517007947, 14.642949197656993, 14.80156035789187, 14.355942967381583, 13.832025058391899, 13.86058642339454, 13.393580906768364, 13.338920059703268, 12.845802627262415, 12.7295988512767, 12.47314856708973, 31.400340852545636, 12.03490024706371, 11.864068780685495, 11.425579038637142, 11.496768486990906, 21.966480028259397, 56.1310968196444, 50.208274803553, 71.23366277666895, 16.549021654402658, 62.346741989759614, 66.98758612746508, 103.94302699097796, 31.645200807368575, 188.57380082390063, 64.96393078438294, 21.736909444086887, 30.27478164941923, 35.682875335559885, 37.245329652012025, 57.34578323099853, 33.374426970098064, 61.89119003122301, 57.54000258530853, 85.9760477992927, 32.28408015326767, 31.911983539652997, 175.22822352602788, 41.32523749192137, 277.847661014513, 171.56442778260322, 110.73704472409024, 56.4187765448319, 60.69815078248942, 51.73816097834858, 54.87598827981274, 55.93831978059229, 44.785098975965646, 45.60309895639174, 89.65086813635521, 93.83513245867363, 118.36174486489627, 64.15741130184291, 50.374215660723436, 55.92543426870501, 114.10376497023074, 59.70531981205332, 99.6403850583268, 95.76483422537342, 63.090388131891146, 94.16553041191587, 84.74741900711231, 75.53537632248744, 77.92180296501687, 63.59510729130224, 63.49416594617047, 63.86886535858386, 57.65797817098605, 28.305728167934916, 258.7341162544599, 24.750401724316543, 38.9108854512762, 23.035714928597223, 21.047146743585124, 19.936637764868564, 19.802978275787385, 19.140115391064978, 18.866301549984083, 18.447950910792983, 17.866602342491905, 17.785104401394673, 17.506955193260055, 17.233073803967276, 16.151894054159715, 15.296718339826915, 14.826196941532066, 14.795686642372834, 14.551074097981457, 14.518736926728058, 14.470849338332485, 13.970982335804546, 13.715707408512868, 13.471206421016877, 13.38969210459555, 13.389672658898188, 13.389665494693897, 13.226695198943327, 13.163684998747518, 49.43741866289864, 56.9294937865804, 22.398027057752874, 53.009883930096244, 28.661572148146078, 37.870090321056175, 97.75591143049672, 58.50724807531538, 74.4528345385114, 266.7557488901664, 133.93375119675702, 227.97418346708662, 55.25049905663811, 622.9234201326827, 64.95376694329697, 96.98379033650778, 172.66104060812927, 32.880963015892206, 70.22917994575445, 63.311927823722556, 103.55252234202928, 40.37960055070439, 74.50911652742033, 58.81650835231191, 260.0891415725388, 211.9622769413124, 122.47500353514673, 47.23269824676945, 106.17765873510085, 172.4770147159679, 169.78019534167757, 86.52361812577377, 141.68379089471279, 136.6481494814616, 91.8187347369466, 111.15475017705619, 91.02781477089846, 95.68587396120455, 86.75923447649134, 69.45072160134137, 73.48182694574633, 80.574053499547, 67.27557911435586, 56.069255038773335, 28.73791915233775, 26.965708833561706, 22.063440742924705, 21.288513430253204, 20.307979244258487, 19.29044775130748, 19.098233349198352, 18.62804043756528, 18.047070581824695, 17.273878577064664, 16.059855419144615, 15.47889427867814, 15.175905837552873, 14.979372532940864, 14.787158130831736, 13.38083341806147, 12.992136066257407, 12.79992456923965, 12.636992519772807, 12.137516287133657, 12.262858391004801, 11.637991636305012, 11.556536747755175, 11.393638591020977, 11.230763675017739, 10.975581417471439, 10.783240159705835, 10.64976476836346, 10.423971383476331, 180.8945237879825, 37.83669630972404, 29.579514438487568, 163.90266760762833, 20.003188678120246, 47.61313057381562, 31.794683405670003, 17.776174685059956, 87.32362243732965, 27.547958866232513, 163.3685956102318, 43.956031125672695, 40.54658878006488, 27.404600354050586, 24.39179981677904, 50.16949090199802, 63.099394100934774, 161.8747743872266, 96.30683118657608, 69.53075897071483, 99.2281445864346, 55.985692990616705, 59.72308529076162, 131.67200358302185, 134.57819501393755, 76.9311732319416, 80.50860345436323, 244.06022756779333, 99.67683788520468, 98.47117848533786, 49.06464204611322, 148.61937700432392, 123.9439337498501, 87.69486212672969, 101.07557353095363, 101.44431096832061, 134.49426498754076, 172.26747149374486, 129.55539274564615, 113.43458366774733, 110.81596529478574, 119.71718849212549, 90.7631266684306, 83.76315020159645, 94.96774675028395, 94.89277215221601, 95.1577087382178, 78.80605722663141], \"Total\": [1725.0, 1385.0, 1665.0, 1887.0, 1992.0, 949.0, 663.0, 673.0, 266.0, 2079.0, 531.0, 926.0, 509.0, 878.0, 548.0, 1455.0, 1508.0, 733.0, 454.0, 209.0, 404.0, 591.0, 404.0, 1069.0, 313.0, 204.0, 1291.0, 285.0, 210.0, 265.0, 35.16122144406065, 42.51886094881172, 30.00319980168689, 28.0428162773035, 25.268278869659703, 23.194330510513023, 22.081323568313337, 22.081327322988123, 21.840282450027782, 20.0588154740335, 20.040594218611208, 16.92330232708206, 16.762605836476546, 15.536035371257235, 15.426780417072452, 15.266086113108699, 15.014358736023969, 14.882580776208995, 14.664065349423842, 14.561190533200326, 13.736344360621104, 13.30570262849808, 13.30570102048177, 13.002540097324392, 12.973629130175214, 12.4294222326963, 12.429425010005577, 12.40051589810163, 11.969875584650396, 11.695615336447446, 74.87610903065845, 142.916663812755, 68.9163081806316, 222.21526985867794, 75.58625037839971, 1665.1666017566404, 23.59555938306082, 24.14959992984051, 31.9688896706714, 878.3279871687122, 195.3951542785428, 77.90181136070967, 133.17530050210635, 160.23192278908144, 74.04959541781166, 37.17905637003247, 744.5623704397921, 217.32736055843984, 733.9642073574119, 281.56740779481004, 120.0901821234627, 255.2672071350062, 1385.9549023666436, 57.90146073939797, 1069.3945324311376, 557.042578419612, 1278.4348380844544, 591.8240455256589, 367.2503681834466, 1455.6074535324367, 1395.559347416206, 1291.5399042473505, 1887.9549896497188, 1058.2484894495628, 1992.2520461560841, 312.2610378686286, 1725.8246001432867, 1644.5894316409035, 2079.61661641108, 1508.5881180307406, 753.6020736647271, 540.5740865795037, 1073.7470320513974, 663.2376368561555, 800.7232890539311, 998.427422748535, 574.8988662934024, 703.0231086515306, 926.9720503413371, 90.22990582579286, 34.894344252850004, 178.9331623642982, 32.98844347555229, 31.61082293620177, 31.844950182653537, 28.772320928383877, 26.620901693791765, 25.50898768953752, 23.44657117694689, 22.613504164396684, 22.334659006523268, 21.642809932497766, 21.096951227062128, 20.886912025606552, 20.530893991835445, 19.31815382898778, 35.69195262576442, 19.171478890942243, 18.715304506769407, 18.379473223658106, 18.08041261910445, 17.991430585155307, 17.655604299160306, 17.623519833786307, 17.514386718225506, 17.05753233947943, 16.899713004007186, 16.867690001479396, 16.29687009741177, 214.64686177781147, 86.12729505693675, 139.21247022962763, 132.62470635343075, 112.7558860187821, 51.99721061643549, 64.48325702129166, 257.7734211713513, 76.00623446066695, 509.30280256863807, 225.86800900446926, 949.0731130282296, 485.53156143327084, 134.11358125473842, 49.87620882331597, 224.1899152199952, 148.47705177209355, 57.05377542000339, 2079.61661641108, 412.90283139915255, 220.9060736326033, 138.32421918259735, 242.3379367018045, 92.64060498130071, 190.88832899898122, 725.5968587441295, 249.18367606403493, 1116.7661904072766, 238.85226675709455, 476.99508351904996, 209.11919674368778, 245.75922402350128, 225.68368111598397, 959.324419977313, 646.6568765869598, 490.7009601998852, 1278.4348380844544, 1058.2484894495628, 1068.660760127152, 1395.559347416206, 878.3279871687122, 663.2376368561555, 54.198874329225795, 39.95153275726856, 34.31761100954484, 19.637559181817835, 18.295294817644184, 17.961624330779173, 17.880887254012695, 16.890603589788018, 16.072525192865236, 15.173711654782393, 14.869085978311606, 14.535414703080665, 14.373944761763898, 13.636598312983416, 13.446084201913015, 13.284613871657827, 12.950943438589062, 12.760429757980871, 12.455800934292137, 11.96066007335772, 11.94234803490639, 11.908970333488352, 11.637721182899574, 11.637724715363769, 11.556988267983371, 11.556986504793183, 11.476251273928472, 11.304052346406362, 11.22331509136627, 11.061845875811361, 82.73517508154156, 20.926254846720187, 16.23239762360529, 113.0127358588737, 65.81961262332376, 18.52160308283129, 69.34307898064714, 41.013770335993875, 1385.9549023666436, 43.456175080490304, 30.357549058241418, 42.15529455455065, 33.332090615604116, 926.9720503413371, 118.36341326426867, 41.29657153853712, 64.10384497134216, 48.62846498296263, 39.21645137897694, 355.2321021365582, 89.78596195100083, 39.95718806902588, 35.31200861873529, 800.7232890539311, 117.36682321957358, 1644.5894316409035, 547.1800239721082, 1395.559347416206, 530.3265256537613, 53.72965061140782, 87.26441369261515, 1116.7661904072766, 703.0231086515306, 673.6008698109008, 1068.660760127152, 330.99495479313754, 300.0970967554378, 328.9231457893271, 395.08966343769845, 725.5968587441295, 646.6568765869598, 1291.5399042473505, 1278.4348380844544, 1455.6074535324367, 547.7084073444383, 303.7854400381626, 959.324419977313, 998.427422748535, 548.1121539588039, 1179.3767820332184, 1508.5881180307406, 1992.2520461560841, 949.0731130282296, 378.8477489520748, 43.47755436872778, 29.54806702693088, 22.056644078118527, 19.8403777483437, 18.45122064452493, 18.041400283666835, 17.613470386037303, 17.500619622247235, 17.043965536168177, 16.554304085116065, 16.394623977052767, 16.394729307668683, 15.523863862177523, 15.067209763433675, 14.68611219362404, 14.065490537817373, 13.006327154444248, 12.959665270863685, 12.897764525358063, 12.846643381998051, 12.738081062969059, 12.658238440863462, 12.62951705686651, 12.356982683111202, 12.088737058911837, 11.86732149277907, 11.758759873303914, 11.599073659393467, 11.21797761639617, 13.8649884134962, 16.898171525507394, 35.28002691736739, 72.18357036833905, 265.6909586523608, 39.73647761640497, 48.44627024321909, 1725.8246001432867, 134.83639719151373, 50.76827535744932, 27.03044846547296, 82.42476757216367, 38.39028015806939, 34.91086912317475, 95.50505130774431, 287.76053709097533, 162.92561390984858, 49.82080364654275, 75.73079813544969, 135.56584344759972, 92.46451241327713, 419.22589734877334, 124.03021835040684, 174.63175506647158, 64.892093602273, 224.2049457918545, 48.64925111843926, 251.063759422004, 1073.7470320513974, 150.65014546783777, 1069.3945324311376, 59.95712580131464, 1278.4348380844544, 1385.9549023666436, 328.9231457893271, 1992.2520461560841, 1068.660760127152, 460.3116108593445, 572.8139606062349, 395.08966343769845, 1665.1666017566404, 800.7232890539311, 1291.5399042473505, 687.6485823537304, 1644.5894316409035, 1887.9549896497188, 733.9642073574119, 490.7009601998852, 998.427422748535, 878.3279871687122, 1395.559347416206, 776.8142134869023, 2079.61661641108, 753.6020736647271, 35.94726981412462, 29.96066739466815, 29.778020814401998, 27.67728163379995, 21.900749315248753, 20.95531480281402, 20.85241340289499, 20.539941518756944, 19.714267206178693, 17.974758136800194, 16.50667507712675, 15.767052400897702, 15.58846562132417, 15.361429363347122, 14.433159561750049, 14.326188723083483, 13.817666756780541, 13.741986399457742, 13.532116097924424, 13.456436821588884, 12.975138172823435, 12.662361335430521, 12.586685481900705, 11.60995535332586, 11.507052973139567, 11.431372104408794, 11.297178938143436, 11.145823638079344, 11.042916164954114, 10.967240735639608, 81.4802516342241, 48.121211386984044, 17.419350389439135, 20.779665174201234, 158.9093567080014, 45.405020466333724, 25.365013570581226, 19.699958890878563, 54.586080345230336, 673.6008698109008, 93.90202838820544, 64.70236304358697, 64.74929119559924, 72.11871861182505, 77.71792951167026, 85.67709776749764, 39.41144717867187, 32.78622206244486, 57.81613050267167, 79.30226647113396, 165.92543128380652, 113.73112193480426, 369.3935839628973, 64.5718355068109, 1508.5881180307406, 370.8384540878654, 547.7084073444383, 124.05689118061338, 509.1090429533333, 476.99508351904996, 50.25415228225958, 244.6776190313474, 404.6054353286154, 1278.4348380844544, 262.4265359671381, 1058.2484894495628, 1887.9549896497188, 1395.559347416206, 959.324419977313, 733.9642073574119, 540.5740865795037, 273.05349253357167, 284.9575854422541, 1455.6074535324367, 1725.8246001432867, 1179.3767820332184, 949.0731130282296, 1068.660760127152, 926.9720503413371, 1644.5894316409035, 1073.7470320513974, 1992.2520461560841, 2079.61661641108, 753.6020736647271, 1116.7661904072766, 519.9130146919459, 1665.1666017566404, 47.530844464446965, 35.87200412052315, 22.767407596711898, 18.351754121440766, 18.351754541214394, 18.208132654554575, 18.17899189730412, 18.046140005505972, 17.693010886855504, 17.578524125285462, 16.15089937464788, 15.9597650376697, 15.463011930110984, 15.139022187061634, 15.076396603142538, 14.97702836742925, 14.966261452986421, 14.966260980459293, 14.336603560766315, 13.648769475875795, 13.40577962778612, 13.295641155826901, 12.909031486154609, 12.493274249092929, 12.331279684033142, 11.753529639529999, 11.591535814865798, 11.285919950095476, 11.267547912214804, 11.094785673095423, 65.96357966733659, 210.8720617028882, 41.83358896417519, 16.31829286425427, 38.83511269658294, 58.49205107691788, 45.883514206799255, 43.12252109995159, 404.1470314043982, 43.8953278838137, 105.85247021992409, 1992.2520461560841, 148.77153783099067, 54.36375456555192, 97.99555407860011, 35.863886070633896, 92.71870031081423, 64.57741362364531, 97.48630427449893, 998.427422748535, 75.08311905222757, 153.7389876754185, 367.46886753592617, 58.39295023192907, 179.33950675230508, 37.77203265415916, 1058.2484894495628, 77.31225061068983, 85.7362942736929, 2079.61661641108, 1644.5894316409035, 161.04140878933197, 317.447511143148, 492.01122161808604, 1508.5881180307406, 1887.9549896497188, 733.9642073574119, 1291.5399042473505, 240.57502786442424, 776.8142134869023, 284.64559085361384, 646.6568765869598, 959.324419977313, 316.15609327289354, 557.042578419612, 1073.7470320513974, 1069.3945324311376, 800.7232890539311, 926.9720503413371, 1179.3767820332184, 574.8988662934024, 1395.559347416206, 753.6020736647271, 95.32489924418658, 49.81755916988467, 45.56096186594948, 26.366235839286023, 23.724029502493803, 23.670379443286112, 19.467437299321958, 17.35814541428948, 15.348288529215642, 22.777852628140216, 14.339473733748008, 13.071407974904, 12.808885019707013, 12.72508862221865, 12.641292448296035, 12.641292127222458, 12.611138435344298, 12.47370381051123, 12.127380984010118, 12.043586059591275, 11.959793322462495, 11.643617255389376, 11.643619138221297, 11.613472512061577, 11.529678432552231, 80.97684586984286, 11.278291340065008, 11.01576876300604, 11.87413012014474, 10.931971588355683, 29.633221065934986, 24.18775431909888, 64.10735100461238, 54.89480620150326, 40.80733060766642, 30.04782336688405, 21.93065161335009, 548.1121539588039, 663.2376368561555, 21.729441412234625, 88.98249745188384, 41.80610566895737, 308.64745252924666, 195.96322363872952, 53.97580165334208, 72.28324332623193, 63.903110133608884, 32.20915810561867, 69.52047806476426, 1508.5881180307406, 62.08470415916088, 118.78268853079997, 1725.8246001432867, 1455.6074535324367, 408.87643666250705, 591.8240455256589, 328.27658891990416, 1179.3767820332184, 703.0231086515306, 367.46886753592617, 378.8477489520748, 1069.3945324311376, 570.6228712199128, 1291.5399042473505, 207.71634634435853, 776.8142134869023, 330.99495479313754, 509.1090429533333, 1992.2520461560841, 998.427422748535, 1116.7661904072766, 448.6123883395618, 1644.5894316409035, 800.7232890539311, 481.51863194738934, 878.3279871687122, 31.497373364054177, 27.670708364318422, 25.06264290742651, 24.282498901803585, 23.73924299861051, 23.21528616036318, 20.168835545119215, 18.457113751090674, 18.11539210183134, 18.084661950795592, 17.76235125851205, 17.731619639420103, 16.202058619066136, 15.849020164099262, 15.647446690141363, 15.476602659028211, 15.646882633968678, 15.189605918887624, 14.665719236651924, 14.696533468440702, 14.227261107402136, 14.172574470393322, 13.679424526157526, 13.563268035454982, 13.306997374465565, 33.5067383980492, 12.868544005414874, 12.697701616050448, 12.259240360845158, 12.345256426171812, 23.708975623473325, 62.29372704823808, 58.47006279005637, 89.88287225515964, 18.22721284982143, 82.6082987088042, 90.97838659464185, 151.05985723031625, 38.688517873952534, 313.81704145818134, 92.03758311136505, 25.026112017921132, 37.58677823411551, 46.377678284089825, 49.6745262919787, 89.94930657277894, 45.32394949245576, 105.49249066192293, 95.91567827704593, 172.2882467641524, 43.819528597961124, 43.34524097483049, 519.9130146919459, 64.87504042934812, 1179.3767820332184, 574.8988662934024, 308.1547603679609, 107.55875926109499, 123.50802793125476, 95.63344388494895, 106.44721408591474, 112.94994204722896, 77.3196227686681, 80.09774668086395, 282.4021279855647, 332.8879005468395, 531.408777465303, 197.06491663043116, 118.39749871669198, 159.52639904976903, 1278.4348380844544, 198.92910770474984, 1073.7470320513974, 959.324419977313, 251.063759422004, 1644.5894316409035, 1068.660760127152, 687.6485823537304, 1395.559347416206, 367.2503681834466, 448.6123883395618, 1455.6074535324367, 190.88832899898122, 29.158520661580052, 266.9328119121158, 25.588544436499497, 40.29581277927755, 23.873824854947873, 21.885285689510297, 20.774777457899848, 20.641093459594245, 19.978244595705934, 19.70441949845144, 19.28607882541769, 18.704729387194384, 18.623229337318175, 18.34503256836862, 18.071206969484724, 16.990014818056444, 16.13484493680029, 15.664318727278026, 15.635112199243661, 15.390487613138378, 15.356800940590087, 15.308993527441272, 14.809149633390689, 14.553809079799558, 14.30930474438967, 14.227805507548908, 14.227801632438464, 14.227806169880857, 14.064801448524749, 14.001785204051414, 58.509102148282565, 73.7720638207504, 25.573984965858745, 68.92835628098375, 34.237073900858675, 47.36821632295813, 146.21151109636918, 82.61786494982778, 110.90532014687055, 531.408777465303, 233.46081858575144, 454.6213414937202, 82.4215322178062, 1887.9549896497188, 105.8262836996942, 194.54761968476367, 509.1090429533333, 46.94766122634091, 150.3569129056765, 129.1126886995729, 299.3623711634039, 66.31993744955784, 188.14263124280194, 127.80304149515182, 1665.1666017566404, 1291.5399042473505, 591.8240455256589, 97.14979594525967, 572.8139606062349, 1644.5894316409035, 1992.2520461560841, 419.3351213774591, 1455.6074535324367, 1508.5881180307406, 547.7084073444383, 1068.660760127152, 687.6485823537304, 1069.3945324311376, 926.9720503413371, 312.2610378686286, 540.5740865795037, 2079.61661641108, 753.6020736647271, 56.90748954814161, 29.57609944801241, 27.803902652090986, 22.922697310764445, 22.126680622470232, 21.146118318178885, 20.128611991830645, 19.936419189958478, 19.466205307421262, 18.885241630846878, 18.11207939886487, 16.89800876187061, 16.317044025286645, 16.014096703617557, 15.817526719600963, 15.625330630985125, 14.219058050484879, 13.83029471183516, 13.638099083714845, 13.475201094999814, 12.975686177675708, 13.135922668178202, 12.476170590991728, 12.39472252236765, 12.231829420954794, 12.068932333435814, 11.813760746210495, 11.621563361953266, 11.487967462291936, 11.262096849762134, 209.56231076038975, 42.40609690739334, 33.38718071193841, 204.5267539078903, 22.28155865963689, 57.570787435382115, 38.63875868068227, 20.337929689814022, 129.55133666227917, 34.215945133748576, 285.97138539071557, 60.35618793309705, 54.83876262693832, 34.248262454039555, 30.101309506635108, 74.23050228171016, 108.95980194064605, 404.6054353286154, 203.5146269646459, 132.39365595971785, 220.72565517868946, 104.74864321592361, 118.31532363421721, 413.54915461873827, 510.49002632214246, 201.64604481633975, 222.14881910471203, 1455.6074535324367, 346.0196817959571, 341.52213399475454, 98.03657062556009, 776.8142134869023, 570.6228712199128, 317.32967171435405, 430.8375941353861, 492.01122161808604, 1068.660760127152, 2079.61661641108, 1058.2484894495628, 1073.7470320513974, 1395.559347416206, 1887.9549896497188, 687.6485823537304, 509.30280256863807, 959.324419977313, 1116.7661904072766, 1644.5894316409035, 926.9720503413371], \"Category\": [\"Default\", \"Default\", \"Default\", \"Default\", \"Default\", \"Default\", \"Default\", \"Default\", \"Default\", \"Default\", \"Default\", \"Default\", \"Default\", \"Default\", \"Default\", \"Default\", \"Default\", \"Default\", \"Default\", \"Default\", \"Default\", \"Default\", \"Default\", \"Default\", \"Default\", \"Default\", \"Default\", \"Default\", \"Default\", \"Default\", \"Topic1\", \"Topic1\", \"Topic1\", \"Topic1\", \"Topic1\", \"Topic1\", \"Topic1\", \"Topic1\", \"Topic1\", \"Topic1\", \"Topic1\", \"Topic1\", \"Topic1\", \"Topic1\", \"Topic1\", \"Topic1\", \"Topic1\", \"Topic1\", \"Topic1\", \"Topic1\", \"Topic1\", \"Topic1\", \"Topic1\", \"Topic1\", \"Topic1\", \"Topic1\", \"Topic1\", \"Topic1\", \"Topic1\", \"Topic1\", \"Topic1\", \"Topic1\", \"Topic1\", \"Topic1\", \"Topic1\", \"Topic1\", \"Topic1\", \"Topic1\", \"Topic1\", \"Topic1\", \"Topic1\", \"Topic1\", \"Topic1\", \"Topic1\", \"Topic1\", \"Topic1\", \"Topic1\", \"Topic1\", \"Topic1\", \"Topic1\", \"Topic1\", \"Topic1\", \"Topic1\", \"Topic1\", \"Topic1\", \"Topic1\", \"Topic1\", \"Topic1\", \"Topic1\", \"Topic1\", \"Topic1\", \"Topic1\", \"Topic1\", \"Topic1\", \"Topic1\", \"Topic1\", \"Topic1\", \"Topic1\", \"Topic1\", \"Topic1\", \"Topic1\", \"Topic1\", \"Topic1\", \"Topic1\", \"Topic1\", \"Topic1\", \"Topic1\", \"Topic1\", \"Topic1\", \"Topic2\", \"Topic2\", \"Topic2\", \"Topic2\", \"Topic2\", \"Topic2\", \"Topic2\", \"Topic2\", \"Topic2\", \"Topic2\", \"Topic2\", \"Topic2\", \"Topic2\", \"Topic2\", \"Topic2\", \"Topic2\", \"Topic2\", \"Topic2\", \"Topic2\", \"Topic2\", \"Topic2\", \"Topic2\", \"Topic2\", \"Topic2\", \"Topic2\", \"Topic2\", \"Topic2\", \"Topic2\", \"Topic2\", \"Topic2\", \"Topic2\", \"Topic2\", \"Topic2\", \"Topic2\", \"Topic2\", \"Topic2\", \"Topic2\", \"Topic2\", \"Topic2\", \"Topic2\", \"Topic2\", \"Topic2\", \"Topic2\", \"Topic2\", \"Topic2\", \"Topic2\", \"Topic2\", \"Topic2\", \"Topic2\", \"Topic2\", \"Topic2\", \"Topic2\", \"Topic2\", \"Topic2\", \"Topic2\", \"Topic2\", \"Topic2\", \"Topic2\", \"Topic2\", \"Topic2\", \"Topic2\", \"Topic2\", \"Topic2\", \"Topic2\", \"Topic2\", \"Topic2\", \"Topic2\", \"Topic2\", \"Topic2\", \"Topic2\", \"Topic2\", \"Topic2\", \"Topic3\", \"Topic3\", \"Topic3\", \"Topic3\", \"Topic3\", \"Topic3\", \"Topic3\", \"Topic3\", \"Topic3\", \"Topic3\", \"Topic3\", \"Topic3\", \"Topic3\", \"Topic3\", \"Topic3\", \"Topic3\", \"Topic3\", \"Topic3\", \"Topic3\", \"Topic3\", \"Topic3\", \"Topic3\", \"Topic3\", \"Topic3\", \"Topic3\", \"Topic3\", \"Topic3\", \"Topic3\", \"Topic3\", \"Topic3\", \"Topic3\", \"Topic3\", \"Topic3\", \"Topic3\", \"Topic3\", \"Topic3\", \"Topic3\", \"Topic3\", \"Topic3\", \"Topic3\", \"Topic3\", \"Topic3\", \"Topic3\", \"Topic3\", \"Topic3\", \"Topic3\", \"Topic3\", \"Topic3\", \"Topic3\", \"Topic3\", \"Topic3\", \"Topic3\", \"Topic3\", \"Topic3\", \"Topic3\", \"Topic3\", \"Topic3\", \"Topic3\", \"Topic3\", \"Topic3\", \"Topic3\", \"Topic3\", \"Topic3\", \"Topic3\", \"Topic3\", \"Topic3\", \"Topic3\", \"Topic3\", \"Topic3\", \"Topic3\", \"Topic3\", \"Topic3\", \"Topic3\", \"Topic3\", \"Topic3\", \"Topic3\", \"Topic3\", \"Topic3\", \"Topic3\", \"Topic3\", \"Topic3\", \"Topic3\", \"Topic3\", \"Topic3\", \"Topic4\", \"Topic4\", \"Topic4\", \"Topic4\", \"Topic4\", \"Topic4\", \"Topic4\", \"Topic4\", \"Topic4\", \"Topic4\", \"Topic4\", \"Topic4\", \"Topic4\", \"Topic4\", \"Topic4\", \"Topic4\", \"Topic4\", \"Topic4\", \"Topic4\", \"Topic4\", \"Topic4\", \"Topic4\", \"Topic4\", \"Topic4\", \"Topic4\", \"Topic4\", \"Topic4\", \"Topic4\", \"Topic4\", \"Topic4\", \"Topic4\", \"Topic4\", \"Topic4\", \"Topic4\", \"Topic4\", \"Topic4\", \"Topic4\", \"Topic4\", \"Topic4\", \"Topic4\", \"Topic4\", \"Topic4\", \"Topic4\", \"Topic4\", \"Topic4\", \"Topic4\", \"Topic4\", \"Topic4\", \"Topic4\", \"Topic4\", \"Topic4\", \"Topic4\", \"Topic4\", \"Topic4\", \"Topic4\", \"Topic4\", \"Topic4\", \"Topic4\", \"Topic4\", \"Topic4\", \"Topic4\", \"Topic4\", \"Topic4\", \"Topic4\", \"Topic4\", \"Topic4\", \"Topic4\", \"Topic4\", \"Topic4\", \"Topic4\", \"Topic4\", \"Topic4\", \"Topic4\", \"Topic4\", \"Topic4\", \"Topic4\", \"Topic4\", \"Topic4\", \"Topic4\", \"Topic4\", \"Topic4\", \"Topic4\", \"Topic4\", \"Topic5\", \"Topic5\", \"Topic5\", \"Topic5\", \"Topic5\", \"Topic5\", \"Topic5\", \"Topic5\", \"Topic5\", \"Topic5\", \"Topic5\", \"Topic5\", \"Topic5\", \"Topic5\", \"Topic5\", \"Topic5\", \"Topic5\", \"Topic5\", \"Topic5\", \"Topic5\", \"Topic5\", \"Topic5\", \"Topic5\", \"Topic5\", \"Topic5\", \"Topic5\", \"Topic5\", \"Topic5\", \"Topic5\", \"Topic5\", \"Topic5\", \"Topic5\", \"Topic5\", \"Topic5\", \"Topic5\", \"Topic5\", \"Topic5\", \"Topic5\", \"Topic5\", \"Topic5\", \"Topic5\", \"Topic5\", \"Topic5\", \"Topic5\", \"Topic5\", \"Topic5\", \"Topic5\", \"Topic5\", \"Topic5\", \"Topic5\", \"Topic5\", \"Topic5\", \"Topic5\", \"Topic5\", \"Topic5\", \"Topic5\", \"Topic5\", \"Topic5\", \"Topic5\", \"Topic5\", \"Topic5\", \"Topic5\", \"Topic5\", \"Topic5\", \"Topic5\", \"Topic5\", \"Topic5\", \"Topic5\", \"Topic5\", \"Topic5\", \"Topic5\", \"Topic5\", \"Topic5\", \"Topic5\", \"Topic5\", \"Topic5\", \"Topic5\", \"Topic5\", \"Topic5\", \"Topic5\", \"Topic5\", \"Topic5\", \"Topic5\", \"Topic5\", \"Topic5\", \"Topic5\", \"Topic5\", \"Topic6\", \"Topic6\", \"Topic6\", \"Topic6\", \"Topic6\", \"Topic6\", \"Topic6\", \"Topic6\", \"Topic6\", \"Topic6\", \"Topic6\", \"Topic6\", \"Topic6\", \"Topic6\", \"Topic6\", \"Topic6\", \"Topic6\", \"Topic6\", \"Topic6\", \"Topic6\", \"Topic6\", \"Topic6\", \"Topic6\", \"Topic6\", \"Topic6\", \"Topic6\", \"Topic6\", \"Topic6\", \"Topic6\", \"Topic6\", \"Topic6\", \"Topic6\", \"Topic6\", \"Topic6\", \"Topic6\", \"Topic6\", \"Topic6\", \"Topic6\", \"Topic6\", \"Topic6\", \"Topic6\", \"Topic6\", \"Topic6\", \"Topic6\", \"Topic6\", \"Topic6\", \"Topic6\", \"Topic6\", \"Topic6\", \"Topic6\", \"Topic6\", \"Topic6\", \"Topic6\", \"Topic6\", \"Topic6\", \"Topic6\", \"Topic6\", \"Topic6\", \"Topic6\", \"Topic6\", \"Topic6\", \"Topic6\", \"Topic6\", \"Topic6\", \"Topic6\", \"Topic6\", \"Topic6\", \"Topic6\", \"Topic6\", \"Topic6\", \"Topic6\", \"Topic6\", \"Topic6\", \"Topic6\", \"Topic6\", \"Topic6\", \"Topic6\", \"Topic6\", \"Topic6\", \"Topic6\", \"Topic6\", \"Topic6\", \"Topic6\", \"Topic7\", \"Topic7\", \"Topic7\", \"Topic7\", \"Topic7\", \"Topic7\", \"Topic7\", \"Topic7\", \"Topic7\", \"Topic7\", \"Topic7\", \"Topic7\", \"Topic7\", \"Topic7\", \"Topic7\", \"Topic7\", \"Topic7\", \"Topic7\", \"Topic7\", \"Topic7\", \"Topic7\", \"Topic7\", \"Topic7\", \"Topic7\", \"Topic7\", \"Topic7\", \"Topic7\", \"Topic7\", \"Topic7\", \"Topic7\", \"Topic7\", \"Topic7\", \"Topic7\", \"Topic7\", \"Topic7\", \"Topic7\", \"Topic7\", \"Topic7\", \"Topic7\", \"Topic7\", \"Topic7\", \"Topic7\", \"Topic7\", \"Topic7\", \"Topic7\", \"Topic7\", \"Topic7\", \"Topic7\", \"Topic7\", \"Topic7\", \"Topic7\", \"Topic7\", \"Topic7\", \"Topic7\", \"Topic7\", \"Topic7\", \"Topic7\", \"Topic7\", \"Topic7\", \"Topic7\", \"Topic7\", \"Topic7\", \"Topic7\", \"Topic7\", \"Topic7\", \"Topic7\", \"Topic7\", \"Topic7\", \"Topic7\", \"Topic7\", \"Topic7\", \"Topic7\", \"Topic7\", \"Topic7\", \"Topic7\", \"Topic7\", \"Topic8\", \"Topic8\", \"Topic8\", \"Topic8\", \"Topic8\", \"Topic8\", \"Topic8\", \"Topic8\", \"Topic8\", \"Topic8\", \"Topic8\", \"Topic8\", \"Topic8\", \"Topic8\", \"Topic8\", \"Topic8\", \"Topic8\", \"Topic8\", \"Topic8\", \"Topic8\", \"Topic8\", \"Topic8\", \"Topic8\", \"Topic8\", \"Topic8\", \"Topic8\", \"Topic8\", \"Topic8\", \"Topic8\", \"Topic8\", \"Topic8\", \"Topic8\", \"Topic8\", \"Topic8\", \"Topic8\", \"Topic8\", \"Topic8\", \"Topic8\", \"Topic8\", \"Topic8\", \"Topic8\", \"Topic8\", \"Topic8\", \"Topic8\", \"Topic8\", \"Topic8\", \"Topic8\", \"Topic8\", \"Topic8\", \"Topic8\", \"Topic8\", \"Topic8\", \"Topic8\", \"Topic8\", \"Topic8\", \"Topic8\", \"Topic8\", \"Topic8\", \"Topic8\", \"Topic8\", \"Topic8\", \"Topic8\", \"Topic8\", \"Topic8\", \"Topic8\", \"Topic8\", \"Topic8\", \"Topic8\", \"Topic8\", \"Topic8\", \"Topic8\", \"Topic8\", \"Topic8\", \"Topic8\", \"Topic8\", \"Topic8\", \"Topic8\", \"Topic8\", \"Topic8\", \"Topic8\", \"Topic8\", \"Topic8\", \"Topic8\", \"Topic9\", \"Topic9\", \"Topic9\", \"Topic9\", \"Topic9\", \"Topic9\", \"Topic9\", \"Topic9\", \"Topic9\", \"Topic9\", \"Topic9\", \"Topic9\", \"Topic9\", \"Topic9\", \"Topic9\", \"Topic9\", \"Topic9\", \"Topic9\", \"Topic9\", \"Topic9\", \"Topic9\", \"Topic9\", \"Topic9\", \"Topic9\", \"Topic9\", \"Topic9\", \"Topic9\", \"Topic9\", \"Topic9\", \"Topic9\", \"Topic9\", \"Topic9\", \"Topic9\", \"Topic9\", \"Topic9\", \"Topic9\", \"Topic9\", \"Topic9\", \"Topic9\", \"Topic9\", \"Topic9\", \"Topic9\", \"Topic9\", \"Topic9\", \"Topic9\", \"Topic9\", \"Topic9\", \"Topic9\", \"Topic9\", \"Topic9\", \"Topic9\", \"Topic9\", \"Topic9\", \"Topic9\", \"Topic9\", \"Topic9\", \"Topic9\", \"Topic9\", \"Topic9\", \"Topic9\", \"Topic9\", \"Topic9\", \"Topic9\", \"Topic9\", \"Topic9\", \"Topic9\", \"Topic9\", \"Topic9\", \"Topic9\", \"Topic9\", \"Topic9\", \"Topic9\", \"Topic9\", \"Topic10\", \"Topic10\", \"Topic10\", \"Topic10\", \"Topic10\", \"Topic10\", \"Topic10\", \"Topic10\", \"Topic10\", \"Topic10\", \"Topic10\", \"Topic10\", \"Topic10\", \"Topic10\", \"Topic10\", \"Topic10\", \"Topic10\", \"Topic10\", \"Topic10\", \"Topic10\", \"Topic10\", \"Topic10\", \"Topic10\", \"Topic10\", \"Topic10\", \"Topic10\", \"Topic10\", \"Topic10\", \"Topic10\", \"Topic10\", \"Topic10\", \"Topic10\", \"Topic10\", \"Topic10\", \"Topic10\", \"Topic10\", \"Topic10\", \"Topic10\", \"Topic10\", \"Topic10\", \"Topic10\", \"Topic10\", \"Topic10\", \"Topic10\", \"Topic10\", \"Topic10\", \"Topic10\", \"Topic10\", \"Topic10\", \"Topic10\", \"Topic10\", \"Topic10\", \"Topic10\", \"Topic10\", \"Topic10\", \"Topic10\", \"Topic10\", \"Topic10\", \"Topic10\", \"Topic10\", \"Topic10\", \"Topic10\", \"Topic10\", \"Topic10\", \"Topic10\", \"Topic10\", \"Topic10\", \"Topic10\", \"Topic10\", \"Topic10\", \"Topic10\", \"Topic10\", \"Topic10\", \"Topic10\", \"Topic10\", \"Topic10\", \"Topic10\", \"Topic10\"], \"logprob\": [30.0, 29.0, 28.0, 27.0, 26.0, 25.0, 24.0, 23.0, 22.0, 21.0, 20.0, 19.0, 18.0, 17.0, 16.0, 15.0, 14.0, 13.0, 12.0, 11.0, 10.0, 9.0, 8.0, 7.0, 6.0, 5.0, 4.0, 3.0, 2.0, 1.0, -6.7783, -6.5885, -6.9411, -7.0107, -7.1183, -7.207, -7.2581, -7.2581, -7.2695, -7.3581, -7.3591, -7.5362, -7.5463, -7.6264, -7.6339, -7.645, -7.6626, -7.6719, -7.6876, -7.6951, -7.757, -7.791, -7.791, -7.8156, -7.818, -7.8639, -7.8639, -7.8664, -7.9044, -7.9293, -6.0835, -5.4656, -6.2342, -5.1298, -6.1564, -3.3415, -7.2636, -7.2523, -7.0008, -4.0591, -5.409, -6.2404, -5.7807, -5.6454, -6.309, -6.899, -4.4291, -5.4395, -4.5056, -5.292, -5.9812, -5.4032, -4.173, -6.5629, -4.4453, -4.9421, -4.3601, -4.9273, -5.3186, -4.4115, -4.4712, -4.5346, -4.2934, -4.6886, -4.3115, -5.4913, -4.5617, -4.59, -4.4737, -4.655, -5.0352, -5.2389, -4.9579, -5.1762, -5.2041, -5.1807, -5.3504, -5.3394, -5.3396, -5.767, -6.7319, -5.0993, -6.7905, -6.8332, -6.8259, -6.93, -7.0101, -7.0542, -7.1414, -7.179, -7.1919, -7.2246, -7.2511, -7.2616, -7.2795, -7.343, -6.73, -7.3518, -7.3761, -7.3951, -7.4123, -7.4175, -7.4372, -7.4392, -7.4456, -7.4734, -7.4832, -7.4852, -7.5214, -4.9603, -5.8708, -5.4597, -5.5249, -5.7022, -6.4282, -6.2288, -4.9483, -6.0815, -4.3511, -5.099, -3.9267, -4.5586, -5.6821, -6.5259, -5.2663, -5.6223, -6.4225, -3.5168, -4.8392, -5.3504, -5.766, -5.348, -6.0783, -5.5837, -4.7224, -5.4519, -4.5243, -5.5228, -5.1103, -5.6186, -5.5706, -5.6284, -5.0107, -5.1902, -5.4983, -5.3395, -5.4077, -5.4522, -5.4834, -5.5401, -5.5992, -5.9427, -6.2534, -6.4089, -6.986, -7.0601, -7.0794, -7.0841, -7.144, -7.1963, -7.2571, -7.2786, -7.3027, -7.3145, -7.3705, -7.3855, -7.3984, -7.4256, -7.4415, -7.4673, -7.5109, -7.5126, -7.5156, -7.5404, -7.5404, -7.5479, -7.5479, -7.5554, -7.5718, -7.5795, -7.5952, -5.6548, -6.9994, -7.2359, -5.5253, -6.0025, -7.131, -5.9715, -6.436, -3.4605, -6.4035, -6.7141, -6.4415, -6.6429, -3.9578, -5.6856, -6.5083, -6.201, -6.4219, -6.5825, -5.0055, -5.995, -6.5932, -6.6811, -4.6146, -5.8901, -4.1926, -4.9084, -4.3164, -4.9699, -6.4038, -6.1086, -4.5977, -4.9317, -4.9574, -4.7185, -5.3763, -5.4388, -5.4262, -5.3594, -5.1066, -5.1788, -4.8693, -4.9059, -4.8646, -5.3062, -5.5346, -5.1097, -5.1097, -5.3428, -5.1146, -5.0415, -5.0462, -5.222, -5.4972, -6.1661, -6.5618, -6.864, -6.9743, -7.0503, -7.0738, -7.099, -7.1057, -7.1335, -7.1642, -7.1744, -7.175, -7.232, -7.2636, -7.2908, -7.3366, -7.4201, -7.4241, -7.4291, -7.4333, -7.4424, -7.4492, -7.4516, -7.475, -7.4985, -7.5184, -7.5283, -7.5431, -7.5791, -7.369, -7.1874, -6.5057, -5.8522, -4.6988, -6.4311, -6.2617, -3.1549, -5.4682, -6.2862, -6.814, -5.8938, -6.5286, -6.6077, -5.7912, -4.9158, -5.4114, -6.3381, -6.0181, -5.5853, -5.8951, -4.8216, -5.7262, -5.4923, -6.1971, -5.389, -6.4162, -5.3186, -4.3709, -5.6795, -4.5522, -6.2904, -4.554, -4.5623, -5.3674, -4.4642, -4.778, -5.2239, -5.124, -5.323, -4.7003, -5.1244, -4.9589, -5.1956, -4.9495, -4.9197, -5.2133, -5.3935, -5.2323, -5.2931, -5.2161, -5.3303, -5.2312, -5.353, -6.3405, -6.5274, -6.5337, -6.6091, -6.8515, -6.8974, -6.9026, -6.9184, -6.9611, -7.0579, -7.1475, -7.1958, -7.2079, -7.2234, -7.2895, -7.2974, -7.3358, -7.3417, -7.3581, -7.3641, -7.403, -7.4291, -7.4355, -7.5224, -7.532, -7.5391, -7.5519, -7.5664, -7.5765, -7.5839, -5.6197, -6.1578, -7.1429, -6.9905, -5.1576, -6.297, -6.8242, -7.0507, -6.1936, -4.1875, -5.8122, -6.1124, -6.1154, -6.0383, -5.9945, -5.9231, -6.5209, -6.6654, -6.2711, -6.0572, -5.5411, -5.8294, -5.0378, -6.2369, -4.288, -5.1634, -5.017, -5.8821, -5.0992, -5.173, -6.4144, -5.6087, -5.3641, -4.8495, -5.5831, -4.9564, -4.7112, -4.8484, -5.0464, -5.1817, -5.3289, -5.5889, -5.6043, -5.0521, -5.0114, -5.1693, -5.2553, -5.2401, -5.3288, -5.1922, -5.3134, -5.2645, -5.2711, -5.4593, -5.4231, -5.5291, -5.5161, -6.0298, -6.3174, -6.786, -7.0104, -7.0104, -7.0186, -7.0203, -7.028, -7.0487, -7.0555, -7.1447, -7.1573, -7.1907, -7.2131, -7.2174, -7.2245, -7.2252, -7.2252, -7.2711, -7.3231, -7.3423, -7.3511, -7.3826, -7.4176, -7.4316, -7.4832, -7.4982, -7.527, -7.5288, -7.5455, -5.794, -4.7974, -6.3421, -7.1918, -6.4294, -6.104, -6.3244, -6.3784, -4.5424, -6.3687, -5.6607, -3.3172, -5.395, -6.2379, -5.7912, -6.572, -5.8959, -6.1577, -5.8709, -4.2384, -6.0786, -5.6142, -5.0904, -6.2729, -5.577, -6.5588, -4.468, -6.1123, -6.0568, -4.1387, -4.3176, -5.692, -5.3186, -5.0758, -4.5136, -4.4546, -5.0009, -4.7303, -5.551, -5.0589, -5.5255, -5.1874, -5.0801, -5.494, -5.3, -5.103, -5.2413, -5.3349, -5.3239, -5.3703, -5.4797, -5.4288, -5.5431, -5.303, -5.96, -6.0509, -6.6116, -6.7208, -6.7232, -6.9266, -7.0467, -7.1764, -6.7848, -7.2485, -7.3471, -7.3688, -7.3758, -7.3829, -7.3829, -7.3855, -7.3972, -7.4274, -7.4348, -7.4423, -7.4712, -7.4712, -7.474, -7.4818, -5.5325, -7.5056, -7.531, -7.4561, -7.5393, -6.5765, -6.7794, -5.9455, -6.1198, -6.3872, -6.6545, -6.9259, -4.2033, -4.0974, -6.9461, -5.8255, -6.4373, -4.8749, -5.2442, -6.2508, -6.0566, -6.1529, -6.6791, -6.1395, -4.0309, -6.2295, -5.7945, -4.0405, -4.1716, -5.0237, -4.8034, -5.1741, -4.5016, -4.8342, -5.2459, -5.3182, -4.8343, -5.1486, -4.7935, -5.6535, -5.0878, -5.4669, -5.3116, -4.773, -5.0783, -5.0867, -5.4079, -5.0785, -5.3561, -5.5131, -5.4322, -6.3639, -6.4972, -6.5995, -6.6322, -6.6556, -6.6788, -6.8251, -6.9178, -6.9374, -6.9391, -6.958, -6.9598, -7.0547, -7.0779, -7.0914, -7.103, -7.0923, -7.1228, -7.16, -7.158, -7.1922, -7.1963, -7.234, -7.2431, -7.2634, -6.3402, -7.2992, -7.3135, -7.3511, -7.3449, -6.6975, -5.7593, -5.8708, -5.521, -6.9807, -5.6543, -5.5825, -5.1432, -6.3324, -4.5475, -5.6132, -6.708, -6.3767, -6.2123, -6.1695, -5.7379, -6.2792, -5.6616, -5.7345, -5.3329, -6.3124, -6.324, -4.6209, -6.0655, -4.1599, -4.642, -5.0798, -5.7542, -5.6811, -5.8408, -5.7819, -5.7628, -5.9851, -5.967, -5.2911, -5.2455, -5.0133, -5.6257, -5.8675, -5.763, -5.0499, -5.6976, -5.1854, -5.2251, -5.6424, -5.2419, -5.3473, -5.4624, -5.4313, -5.6345, -5.6361, -5.6302, -5.7325, -6.4316, -4.2189, -6.5658, -6.1134, -6.6376, -6.7279, -6.7821, -6.7888, -6.8229, -6.8373, -6.8597, -6.8917, -6.8963, -6.9121, -6.9278, -6.9926, -7.047, -7.0783, -7.0803, -7.097, -7.0992, -7.1025, -7.1377, -7.1561, -7.1741, -7.1802, -7.1802, -7.1802, -7.1924, -7.1972, -5.874, -5.7329, -6.6657, -5.8042, -6.4191, -6.1405, -5.1922, -5.7055, -5.4645, -4.1883, -4.8773, -4.3454, -5.7628, -3.3403, -5.601, -5.2001, -4.6234, -6.2818, -5.5229, -5.6266, -5.1346, -6.0764, -5.4638, -5.7003, -4.2137, -4.4183, -4.9668, -5.9196, -5.1096, -4.6244, -4.6402, -5.3143, -4.8211, -4.8573, -5.2549, -5.0638, -5.2635, -5.2136, -5.3115, -5.5341, -5.4776, -5.3855, -5.5659, -5.6928, -6.3611, -6.4248, -6.6254, -6.6612, -6.7083, -6.7597, -6.7698, -6.7947, -6.8264, -6.8702, -6.943, -6.9799, -6.9996, -7.0127, -7.0256, -7.1255, -7.155, -7.1699, -7.1827, -7.223, -7.2128, -7.2651, -7.2721, -7.2863, -7.3007, -7.3237, -7.3414, -7.3538, -7.3752, -4.5214, -6.0861, -6.3323, -4.6201, -6.7235, -5.8562, -6.26, -6.8415, -5.2497, -6.4034, -4.6233, -5.9362, -6.0169, -6.4086, -6.5251, -5.8039, -5.5746, -4.6325, -5.1518, -5.4776, -5.1219, -5.6942, -5.6296, -4.839, -4.8172, -5.3764, -5.331, -4.2219, -5.1174, -5.1296, -5.8262, -4.718, -4.8995, -5.2455, -5.1035, -5.0998, -4.8178, -4.5703, -4.8552, -4.9881, -5.0115, -4.9342, -5.2111, -5.2914, -5.1658, -5.1666, -5.1638, -5.3524], \"loglift\": [30.0, 29.0, 28.0, 27.0, 26.0, 25.0, 24.0, 23.0, 22.0, 21.0, 20.0, 19.0, 18.0, 17.0, 16.0, 15.0, 14.0, 13.0, 12.0, 11.0, 10.0, 9.0, 8.0, 7.0, 6.0, 5.0, 4.0, 3.0, 2.0, 1.0, 1.9151, 1.9149, 1.9109, 1.9089, 1.9055, 1.9024, 1.9005, 1.9005, 1.9001, 1.8965, 1.8965, 1.8884, 1.8879, 1.8837, 1.8833, 1.8827, 1.8818, 1.8812, 1.8803, 1.8799, 1.8762, 1.8741, 1.8741, 1.8726, 1.8724, 1.8694, 1.8694, 1.8692, 1.8666, 1.8648, 1.854, 1.8255, 1.7862, 1.7198, 1.7716, 1.4941, 1.8286, 1.8168, 1.7877, 1.4162, 1.5693, 1.6574, 1.581, 1.5313, 1.6396, 1.7386, 1.2115, 1.4324, 1.1492, 1.321, 1.4839, 1.3078, 0.8462, 1.6317, 0.8332, 0.9886, 0.7398, 0.9428, 1.0287, 0.5586, 0.541, 0.5551, 0.4167, 0.6003, 0.3448, 1.0182, 0.2381, 0.2581, 0.1397, 0.2794, 0.5933, 0.7218, 0.3165, 0.58, 0.3637, 0.1665, 0.5487, 0.3585, 0.0818, 1.9839, 1.9691, 1.967, 1.9666, 1.9666, 1.9665, 1.9639, 1.9615, 1.9601, 1.9572, 1.9558, 1.9553, 1.9541, 1.9531, 1.9527, 1.9519, 1.9493, 1.9485, 1.9481, 1.9478, 1.947, 1.9462, 1.946, 1.9451, 1.9449, 1.9447, 1.9433, 1.9429, 1.9428, 1.9409, 1.924, 1.9267, 1.8576, 1.8409, 1.8259, 1.8739, 1.8581, 1.7529, 1.841, 1.6692, 1.7343, 1.4712, 1.5095, 1.6725, 1.8179, 1.5745, 1.6306, 1.7868, 1.0966, 1.391, 1.5052, 1.5577, 1.415, 1.6463, 1.418, 0.9439, 1.2832, 0.7109, 1.2546, 0.9755, 1.2919, 1.1784, 1.2057, 0.3764, 0.5913, 0.5592, -0.2396, -0.1187, -0.173, -0.4712, -0.0647, 0.157, 2.3179, 2.3123, 2.3088, 2.2899, 2.2866, 2.2857, 2.2855, 2.2826, 2.2799, 2.2766, 2.2755, 2.2741, 2.2734, 2.27, 2.2691, 2.2683, 2.2666, 2.2655, 2.2638, 2.2608, 2.2607, 2.2605, 2.2587, 2.2587, 2.2582, 2.2582, 2.2576, 2.2564, 2.2558, 2.2547, 2.1828, 2.2129, 2.2304, 2.0005, 2.0639, 2.2034, 2.0428, 2.1034, 1.5587, 2.0781, 2.1261, 2.0704, 2.1039, 1.4636, 1.794, 2.0242, 1.8918, 1.9472, 2.0017, 1.375, 1.7609, 1.9723, 2.008, 0.9532, 1.5979, 0.6555, 1.0401, 0.6959, 1.0099, 1.8656, 1.6758, 0.6374, 0.7662, 0.7833, 0.5607, 1.0749, 1.1104, 1.0313, 0.9148, 0.5598, 0.6027, 0.2204, 0.194, 0.1055, 0.6414, 1.0024, 0.2774, 0.2374, 0.6041, 0.0659, -0.1071, -0.3899, 0.1758, 0.819, 2.315, 2.3055, 2.2957, 2.2913, 2.2879, 2.2869, 2.2857, 2.2853, 2.284, 2.2825, 2.2819, 2.2813, 2.2789, 2.2772, 2.2756, 2.273, 2.2678, 2.2674, 2.2672, 2.2669, 2.2663, 2.2659, 2.2657, 2.2641, 2.2625, 2.2611, 2.2604, 2.2594, 2.2567, 2.255, 2.2387, 2.1843, 2.122, 1.9722, 2.1399, 2.1112, 1.645, 1.8811, 2.0398, 2.1424, 1.9477, 2.077, 2.0928, 1.903, 1.6754, 1.7487, 2.0068, 1.908, 1.7586, 1.8315, 1.3933, 1.7066, 1.5984, 1.8835, 1.4518, 1.9525, 1.409, 0.9035, 1.5589, 0.7263, 1.8693, 0.546, 0.4569, 1.0902, 0.1921, 0.5011, 0.8975, 0.7788, 0.9513, 0.1354, 0.4434, 0.1309, 0.5245, -0.1014, -0.2096, 0.4415, 0.664, 0.1149, 0.1822, -0.2038, 0.2678, -0.6178, 0.2755, 2.3308, 2.326, 2.3259, 2.3236, 2.3153, 2.3135, 2.3133, 2.3125, 2.3108, 2.3065, 2.3021, 2.2996, 2.2989, 2.2981, 2.2943, 2.2939, 2.2916, 2.2912, 2.2902, 2.2898, 2.2873, 2.2856, 2.2852, 2.2791, 2.2784, 2.2779, 2.2769, 2.2758, 2.2751, 2.2745, 2.2333, 2.2218, 2.2529, 2.2288, 2.0274, 2.1407, 2.1957, 2.222, 2.06, 1.5532, 1.8989, 1.9711, 1.9674, 1.9367, 1.9058, 1.8797, 2.0584, 2.0979, 1.9249, 1.8229, 1.6007, 1.69, 1.3037, 1.8487, 0.6464, 1.1742, 0.9306, 1.5505, 0.9215, 0.9128, 1.9218, 1.1447, 0.8863, 0.2504, 1.1003, 0.3325, -0.0011, 0.1639, 0.3407, 0.4732, 0.6317, 1.0547, 0.9967, -0.0819, -0.2115, 0.0113, 0.1425, 0.0391, 0.0926, -0.3441, -0.039, -0.6082, -0.6577, 0.1692, -0.188, 0.4706, -0.6805, 2.3622, 2.356, 2.342, 2.3332, 2.3332, 2.3328, 2.3328, 2.3324, 2.3314, 2.3311, 2.3267, 2.326, 2.3242, 2.323, 2.3228, 2.3224, 2.3223, 2.3223, 2.3194, 2.3166, 2.3154, 2.3148, 2.3128, 2.3105, 2.3095, 2.306, 2.3049, 2.3028, 2.3026, 2.3014, 2.2702, 2.1046, 2.1775, 2.2692, 2.1646, 2.0805, 2.1028, 2.1109, 1.7091, 2.1028, 1.9305, 1.3391, 1.8559, 2.0197, 1.8772, 2.1016, 1.8279, 1.9277, 1.8027, 1.1087, 1.8562, 1.6039, 1.2563, 1.9132, 1.487, 2.063, 0.821, 1.7932, 1.7452, 0.4747, 0.5305, 1.4797, 1.1744, 0.979, 0.4208, 0.2555, 0.654, 0.3595, 1.2193, 0.5392, 1.0766, 0.5941, 0.307, 1.0031, 0.6307, 0.1714, 0.0372, 0.2329, 0.0975, -0.1897, 0.4195, -0.4166, 0.0854, 2.3931, 2.3849, 2.3834, 2.3697, 2.366, 2.3659, 2.358, 2.3525, 2.3459, 2.3427, 2.3418, 2.3358, 2.3344, 2.3339, 2.3335, 2.3335, 2.3333, 2.3325, 2.3305, 2.33, 2.3294, 2.3274, 2.3274, 2.3272, 2.3266, 2.3266, 2.3249, 2.323, 2.3229, 2.3224, 2.2879, 2.2881, 2.1472, 2.1281, 2.1572, 2.196, 2.2395, 1.7435, 1.6588, 2.2285, 1.9394, 2.083, 1.6462, 1.7312, 2.014, 1.9162, 1.9431, 2.1019, 1.8723, 0.9035, 1.8954, 1.6815, 0.7594, 0.7985, 1.2162, 1.0667, 1.2854, 0.679, 0.8637, 1.1008, 0.998, 0.4442, 0.758, 0.2962, 1.2637, 0.5103, 0.9843, 0.7091, -0.1167, 0.2689, 0.1485, 0.7393, -0.2304, 0.2118, 0.5633, 0.0431, 2.4395, 2.4357, 2.4325, 2.4314, 2.4306, 2.4297, 2.4241, 2.4201, 2.4192, 2.4191, 2.4183, 2.4182, 2.4135, 2.4123, 2.4116, 2.411, 2.4108, 2.4099, 2.4078, 2.4078, 2.4059, 2.4057, 2.4035, 2.4029, 2.4016, 2.4014, 2.3994, 2.3984, 2.3959, 2.3951, 2.39, 2.3622, 2.314, 2.2338, 2.3697, 2.1849, 2.1602, 2.0925, 2.2654, 1.957, 2.118, 2.3254, 2.25, 2.2042, 2.1784, 2.0162, 2.1603, 1.9331, 1.9553, 1.7712, 2.1608, 2.1601, 1.3788, 2.0153, 1.0207, 1.2571, 1.4429, 1.8211, 1.7559, 1.852, 1.8038, 1.7636, 1.9203, 1.9031, 1.3189, 1.2001, 0.9645, 1.3441, 1.6118, 1.4181, 0.05, 1.2628, 0.089, 0.162, 1.0852, -0.3939, -0.0682, 0.2576, -0.419, 0.7128, 0.5111, -0.66, 1.2692, 2.449, 2.4475, 2.4453, 2.4437, 2.4429, 2.4396, 2.4375, 2.4372, 2.4358, 2.4352, 2.4342, 2.4328, 2.4326, 2.4319, 2.4312, 2.4281, 2.4253, 2.4237, 2.4235, 2.4226, 2.4225, 2.4223, 2.4204, 2.4193, 2.4183, 2.4179, 2.4179, 2.4179, 2.4172, 2.4169, 2.3102, 2.2195, 2.346, 2.2161, 2.3009, 2.2549, 2.0761, 2.1336, 2.0801, 1.7894, 1.923, 1.7884, 2.0787, 1.3698, 1.9905, 1.7825, 1.3973, 2.1225, 1.7174, 1.766, 1.4171, 1.9825, 1.5524, 1.7026, 0.622, 0.6715, 0.9033, 1.7575, 0.7932, 0.2237, 0.0161, 0.9004, 0.1491, 0.0771, 0.6927, 0.2154, 0.4565, 0.0649, 0.1099, 0.9754, 0.4831, -0.7721, 0.0626, 2.5191, 2.5052, 2.5034, 2.4958, 2.4954, 2.4935, 2.4914, 2.491, 2.49, 2.4886, 2.4866, 2.4831, 2.4812, 2.4802, 2.4795, 2.4788, 2.4732, 2.4715, 2.4706, 2.4698, 2.4672, 2.4652, 2.4644, 2.464, 2.463, 2.462, 2.4604, 2.4591, 2.4582, 2.4566, 2.3869, 2.42, 2.4129, 2.3126, 2.4261, 2.3441, 2.339, 2.3994, 2.1395, 2.3172, 1.9741, 2.2169, 2.232, 2.3111, 2.3237, 2.1422, 1.9877, 1.6179, 1.7858, 1.89, 1.7345, 1.9075, 1.8503, 1.3895, 1.2008, 1.5704, 1.519, 0.7482, 1.2894, 1.2903, 1.8418, 0.8802, 1.0071, 1.2479, 1.0841, 0.955, 0.4613, 0.0431, 0.4337, 0.2863, 0.0008, -0.2241, 0.509, 0.7289, 0.2213, 0.0685, -0.3157, 0.069]}, \"token.table\": {\"Topic\": [10, 1, 5, 6, 7, 8, 10, 7, 6, 2, 6, 7, 8, 1, 5, 10, 8, 3, 2, 10, 2, 1, 3, 8, 1, 7, 9, 10, 4, 3, 4, 1, 4, 9, 1, 2, 3, 5, 10, 2, 4, 5, 6, 7, 10, 1, 2, 3, 4, 5, 6, 7, 8, 10, 1, 3, 5, 7, 8, 9, 10, 1, 4, 5, 7, 8, 10, 5, 9, 3, 4, 5, 3, 3, 5, 6, 1, 2, 8, 3, 5, 8, 8, 2, 5, 6, 1, 4, 5, 9, 1, 2, 3, 4, 5, 6, 7, 8, 9, 7, 3, 5, 6, 9, 3, 4, 5, 9, 10, 4, 5, 9, 1, 2, 3, 4, 5, 6, 7, 8, 9, 1, 4, 5, 6, 9, 6, 10, 8, 8, 8, 9, 4, 1, 2, 3, 4, 5, 6, 7, 8, 9, 10, 4, 5, 1, 2, 3, 5, 10, 10, 8, 6, 1, 5, 10, 1, 4, 5, 7, 8, 9, 10, 9, 1, 2, 3, 4, 6, 1, 1, 5, 10, 1, 6, 1, 4, 6, 8, 1, 3, 4, 5, 8, 1, 10, 1, 5, 2, 5, 6, 7, 8, 9, 10, 7, 2, 4, 5, 7, 9, 3, 1, 1, 2, 3, 4, 5, 6, 9, 1, 10, 1, 2, 3, 5, 6, 7, 8, 9, 10, 5, 2, 3, 5, 6, 9, 6, 1, 2, 3, 6, 9, 2, 3, 4, 5, 6, 7, 8, 9, 10, 7, 8, 7, 3, 4, 5, 6, 8, 9, 1, 4, 5, 7, 3, 7, 1, 2, 3, 4, 5, 6, 8, 10, 4, 5, 9, 1, 2, 4, 8, 9, 10, 6, 1, 2, 3, 5, 6, 7, 8, 9, 2, 4, 9, 10, 1, 2, 3, 4, 5, 6, 7, 8, 9, 10, 2, 5, 3, 7, 6, 1, 2, 4, 7, 8, 10, 7, 8, 1, 2, 3, 7, 8, 3, 2, 1, 1, 7, 8, 8, 3, 4, 8, 9, 2, 5, 8, 10, 4, 3, 8, 10, 9, 6, 1, 2, 3, 4, 5, 6, 7, 8, 9, 10, 1, 2, 4, 5, 6, 7, 8, 9, 10, 2, 8, 8, 10, 2, 8, 5, 5, 7, 6, 4, 4, 6, 8, 2, 4, 1, 2, 3, 4, 5, 7, 8, 9, 10, 6, 7, 10, 1, 4, 7, 2, 3, 8, 1, 4, 5, 6, 8, 10, 10, 1, 7, 8, 9, 5, 3, 8, 1, 2, 3, 4, 6, 9, 10, 5, 1, 2, 4, 5, 6, 7, 8, 6, 6, 7, 8, 5, 8, 9, 1, 2, 3, 4, 5, 6, 7, 4, 1, 7, 9, 2, 3, 7, 3, 4, 5, 9, 3, 5, 6, 9, 10, 9, 1, 9, 6, 9, 3, 5, 7, 8, 10, 4, 7, 3, 1, 2, 3, 6, 7, 1, 5, 6, 8, 9, 6, 1, 3, 4, 5, 6, 7, 8, 9, 10, 3, 5, 6, 9, 10, 3, 4, 5, 6, 7, 9, 1, 2, 3, 8, 5, 3, 2, 6, 4, 1, 2, 3, 4, 5, 6, 8, 9, 10, 2, 5, 7, 8, 1, 4, 5, 6, 7, 8, 9, 7, 1, 2, 6, 9, 6, 5, 10, 3, 1, 3, 5, 7, 10, 1, 2, 3, 4, 5, 6, 7, 8, 9, 10, 1, 10, 1, 2, 5, 7, 8, 9, 10, 3, 6, 10, 10, 1, 2, 3, 4, 5, 6, 9, 10, 3, 7, 2, 3, 4, 5, 7, 9, 1, 2, 1, 3, 4, 5, 6, 7, 8, 9, 1, 6, 10, 1, 3, 4, 5, 6, 7, 8, 9, 10, 4, 10, 8, 6, 7, 1, 2, 3, 4, 6, 8, 9, 10, 6, 7, 3, 6, 7, 4, 7, 8, 2, 8, 7, 6, 2, 1, 3, 5, 1, 3, 4, 6, 7, 8, 9, 10, 2, 4, 3, 5, 7, 8, 1, 10, 9, 1, 2, 3, 4, 5, 6, 7, 9, 10, 7, 1, 4, 5, 8, 9, 6, 8, 1, 2, 3, 5, 6, 7, 8, 9, 10, 2, 7, 8, 1, 3, 4, 5, 7, 10, 5, 1, 9, 1, 2, 3, 4, 5, 6, 7, 8, 9, 1, 2, 3, 4, 5, 7, 8, 10, 4, 1, 2, 3, 4, 5, 7, 8, 9, 10, 2, 5, 2, 4, 6, 8, 1, 1, 3, 5, 3, 1, 3, 4, 5, 7, 9, 6, 5, 7, 1, 3, 4, 9, 1, 2, 3, 4, 5, 6, 7, 10, 7, 1, 3, 4, 5, 6, 7, 8, 9, 10, 2, 3, 8, 10, 4, 5, 7, 9, 3, 10, 1, 2, 3, 9, 10, 1, 1, 6, 7, 9, 10, 9, 2, 3, 4, 5, 7, 10, 1, 1, 7, 4, 5, 6, 8, 10, 2, 1, 1, 6, 7, 8, 3, 2, 6, 3, 8, 9, 5, 5, 4, 7, 8, 9, 6, 4, 9, 9, 10, 2, 7, 8, 7, 3, 8, 3, 1, 2, 3, 4, 5, 6, 8, 9, 6, 10, 1, 2, 3, 4, 5, 6, 8, 9, 10, 6, 8, 9, 4, 5, 6, 5, 1, 2, 3, 4, 5, 6, 7, 8, 9, 10, 1, 4, 6, 2, 1, 5, 9, 9, 1, 6, 7, 8, 9, 5, 10, 2, 3, 7, 9, 1, 2, 3, 4, 5, 6, 7, 8, 9, 2, 3, 5, 9, 10, 1, 9, 1, 2, 5, 6, 7, 4, 1, 4, 6, 7, 4, 6, 3, 4, 2, 1, 3, 4, 5, 6, 7, 9, 10, 1, 2, 3, 5, 6, 7, 9, 10, 4, 10, 1, 3, 6, 7, 9, 10, 4, 5, 6, 1, 2, 4, 5, 7, 8, 9, 3, 7, 9, 1, 2, 3, 4, 5, 6, 7, 9, 10, 1, 3, 4, 5, 6, 9, 6, 10, 9, 3, 6, 1, 1, 7, 9, 10, 1, 2, 3, 4, 5, 6, 7, 8, 9, 10, 9, 5, 2, 3, 4, 5, 6, 7, 8, 9, 10, 3, 5, 1, 2, 3, 4, 5, 6, 7, 8, 10, 3, 4, 5, 10, 1, 2, 3, 4, 5, 6, 7, 8, 9, 6, 2, 3, 4, 2, 3, 4, 5, 2, 3, 4, 5, 6, 7, 8, 7, 2, 9, 1, 3, 4, 5, 6, 7, 9, 10, 1, 2, 3, 5, 2, 3, 4, 7, 10, 3, 1, 6, 1, 3, 5, 7, 9, 2, 3, 5, 6, 7, 2, 7, 10, 6, 8, 9, 10, 6, 1, 3, 7, 1, 1, 2, 3, 5, 6, 10, 1, 3, 5, 6, 7, 9, 10, 1, 2, 3, 4, 5, 7, 8, 9, 10, 1, 3, 4, 5, 7, 8, 9, 10, 3, 6, 9, 4, 1, 2, 4, 7, 10, 1, 2, 3, 4, 6, 7, 9, 1, 2, 3, 4, 5, 7, 8, 9, 8, 9, 8, 9, 3, 4, 10, 2, 4, 5, 8, 2, 2, 3, 7, 8, 9, 1, 1, 2, 3, 5, 6, 8, 9, 10, 1, 5, 7, 10, 1, 2, 8, 10, 1, 2, 3, 4, 5, 6, 7, 8, 9, 10, 1, 3, 4, 5, 6, 7, 8, 9, 1, 2, 3, 4, 5, 6, 7, 8, 10, 7, 10, 6, 10, 1, 2, 3, 5, 6, 8, 9, 3, 4, 5, 7, 8, 9, 6, 2, 5, 6, 8, 9, 10, 1, 4, 5, 8, 2, 5, 4, 1, 3, 9, 6, 6, 3, 10, 6, 5, 4, 3, 8, 9, 1, 2, 4, 5, 6, 10, 1, 2, 5, 7, 1, 7, 8, 6, 4, 5, 3, 3, 7, 2, 6, 10, 5, 8, 7, 2, 7, 8, 9, 1, 2, 3, 5, 6, 8, 8, 1, 2, 3, 4, 5, 6, 7, 8, 9, 10, 2, 10, 1, 5, 3, 7, 8, 10, 7, 9, 5, 8, 9, 5, 1, 3, 5, 7, 10, 7, 1, 3, 4, 10, 1, 2, 3, 4, 5, 6, 8, 9, 10, 5, 5, 1, 6, 7, 9, 10, 5, 9, 10, 3, 2, 3, 6, 6, 5, 8, 10, 3, 4, 6, 8, 9, 7, 2, 3, 1, 10, 3, 4, 8, 9, 5, 7, 8, 1, 3, 8, 2, 5, 1, 2, 3, 4, 5, 6, 7, 8, 9, 10, 2, 5, 6, 7, 8, 3, 1, 2, 4, 8, 10, 1, 3, 5, 4, 1, 6, 7, 9, 10, 1, 2, 3, 4, 5, 6, 7, 8, 9, 2, 3, 6, 1, 2, 1, 2, 3, 4, 7, 9, 3, 10, 3, 1, 3, 4, 8, 9, 10, 1, 2, 1, 2, 3, 4, 5, 6, 7, 8, 9, 10, 2, 3, 5, 6, 7, 1, 3, 5, 6, 7, 8, 1, 2, 3, 10, 1, 4, 6, 6, 6, 10, 4, 2, 3, 6, 2, 8, 4, 1, 4, 5, 6, 7, 3, 4, 5, 9, 10, 10, 2, 4, 1, 7, 2, 10, 1, 4, 7, 10, 1, 3, 4, 1, 10, 2, 5, 6, 5, 3, 4, 6, 7, 8, 9, 4, 8, 4, 10, 5, 1, 2, 3, 4, 5, 6, 7, 9, 10, 1, 10, 2, 1, 3, 4, 5, 7, 8, 9, 10, 1, 2, 4, 5, 6, 9, 10, 10, 3, 4, 9, 10, 6, 10, 4, 2, 7, 9, 6, 9, 3, 10, 7, 8, 2, 3, 4, 5, 6, 7, 8, 1, 2, 3, 6, 8, 1, 9, 2, 4, 6, 7, 8, 2, 5, 6, 8, 9, 4, 8, 10, 10, 1, 2, 3, 4, 5, 6, 7, 8, 9, 10, 3, 4, 5, 6, 7, 10, 9, 2, 3, 4, 6, 8, 10, 5, 1, 2, 3, 4, 5, 6, 8, 9, 10, 5, 6, 6, 5, 6, 8, 1, 2, 6, 4, 6, 8, 1, 7, 2, 5, 7, 8, 10, 5, 8, 1, 3, 4, 5, 6, 4, 1, 3, 4, 5, 6, 8, 10, 1, 2, 4, 6, 7, 8, 9, 10, 1, 2, 4, 5, 6, 7, 8, 9, 4, 9, 4, 9, 4, 6, 10, 1, 2, 3, 4, 5, 6, 7, 8, 9, 10, 3, 9, 1, 2, 3, 4, 5, 6, 7, 9, 10, 3, 4, 7, 3, 7, 8, 9, 1, 3, 5, 6, 9, 8, 8, 9, 1, 2, 7, 8, 9, 1, 4, 6, 10, 3, 9, 5, 2, 3, 1, 5, 6, 1, 2, 3, 4, 5, 6, 7, 8, 9, 10, 7, 1, 8, 9, 2, 4, 6, 2, 1, 2, 4, 5, 6, 7, 8, 9, 10, 2, 9, 8, 10, 3, 5, 3, 2, 3, 4, 5, 6, 7, 8, 10, 3, 5, 2, 6, 9, 4, 5, 6, 3, 10, 1, 2, 3, 5, 6, 7, 8, 9, 10, 1, 1, 2, 3, 4, 5, 6, 7, 8, 9, 10, 4, 3, 5, 7, 8, 9, 7, 10, 1, 2, 3, 4, 5, 6, 7, 8, 9, 10, 3, 10, 1, 2, 3, 4, 5, 6, 7, 8, 9, 10, 8, 7, 1, 4, 3, 5, 10, 1, 3, 5, 6, 7, 8, 9, 5, 10, 5, 2, 3, 5, 6, 1, 3, 4, 5, 7, 8, 9, 4, 5, 6, 7, 9, 1, 2, 3, 4, 5, 6, 7, 8, 10, 2, 6, 10, 1, 2, 3, 4, 5, 6, 7, 8, 9, 10, 1, 5, 7, 1, 2, 3, 4, 5, 6, 7, 8, 9, 10, 4, 1, 4, 7, 10, 10, 1, 2, 3, 4, 5, 6, 7, 8, 9, 10, 5, 7, 1, 2, 4, 5, 6, 9, 10], \"Freq\": [0.9483151358557284, 0.18482106558170763, 0.06373140192472677, 0.02549256076989071, 0.0573582617322541, 0.6022617481886681, 0.06373140192472677, 0.9763259279907145, 0.9336487339215219, 0.7016361779278114, 0.17271044379761513, 0.1187384301108604, 0.9137387654491265, 0.965497286891549, 0.08985484656173068, 0.8985484656173067, 0.9420474453022118, 0.9668242296259346, 0.9809536680832049, 0.9618335940889152, 0.9485590497926335, 0.25487080322088845, 0.7362934315270111, 0.9586574112491695, 0.6909076148713118, 0.12794585460579846, 0.08700318113194297, 0.0921210153161749, 0.9259498412338447, 0.759098005081917, 0.21349631392928917, 0.21109790718135454, 0.16586264135677856, 0.603136877661013, 0.012053607361605151, 0.2531257545937082, 0.21093812882809015, 0.47009068710260093, 0.048214429446420605, 0.14044583976839398, 0.10873226304649856, 0.07248817536433237, 0.004530510960270773, 0.22652554801353866, 0.4485205850668066, 0.034621176026272765, 0.050008365371282885, 0.08847633873380818, 0.16156548812260624, 0.15194849478197492, 0.021157385349388914, 0.09232313607006072, 0.33659476692209633, 0.06347215604816674, 0.29598163132902666, 0.06659586704903099, 0.1794388639932224, 0.13134184890225556, 0.10544345616096575, 0.1350416192938684, 0.08694460420290158, 0.09956844019909919, 0.4580148249158563, 0.11948212823891903, 0.20577477641147168, 0.039827376079639674, 0.07301685614600607, 0.9460058846014415, 0.9665348406535854, 0.8581597842758454, 0.07252054515007145, 0.060433787625059535, 0.9518050676293918, 0.7139860700147431, 0.1274975125026327, 0.15299701500315924, 0.8445710901486231, 0.1251216429849812, 0.8910304995107365, 0.16955673441127952, 0.18497098299412312, 0.6319841918965873, 0.9842090526627278, 0.1393676131480219, 0.216794064896923, 0.6348969043409887, 0.15099476249306346, 0.830471193711849, 0.9185187531275766, 0.057407422070473536, 0.14805597256299194, 0.0724529227435918, 0.176407116245267, 0.05355216028874177, 0.047251906137125085, 0.29926207220179224, 0.05040203321293343, 0.12285495595652522, 0.02835114368227505, 0.8866591311111103, 0.12389302452392231, 0.6039784945541212, 0.12389302452392231, 0.12389302452392231, 0.10490560081391272, 0.07693077393020266, 0.1328804276976228, 0.11189930753484023, 0.5699870977555924, 0.20233854716589375, 0.6389638331554539, 0.14909156106960592, 0.2062521106569664, 0.036983137083318116, 0.20909696735568317, 0.10668212620187917, 0.07538870251599461, 0.036983137083318116, 0.21478668075311672, 0.04694013552882684, 0.06685413241984428, 0.13552935504728422, 0.5177916385139834, 0.21198181174062405, 0.04517645168242808, 0.09035290336485616, 0.7652613798602106, 0.20870764905278472, 0.9688598748218812, 0.954607119779834, 0.8551384693998171, 0.13682215510397072, 0.9483515945337316, 0.20731256636250953, 0.05619918967658391, 0.2510230472220748, 0.15111337668592562, 0.06619015673019883, 0.11739386287997527, 0.11239837935316782, 0.0024977417634037295, 0.016235321462124242, 0.019981934107229836, 0.9387486712553585, 0.9738726485802672, 0.1521358303143274, 0.1605878208873456, 0.09297189630320007, 0.0845199057301819, 0.5071194343810913, 0.9599796864621162, 0.9471842289794842, 0.9670891525840161, 0.22654424349694272, 0.7236830000596781, 0.05034316522154283, 0.21116474577409622, 0.06158971751744473, 0.12317943503488946, 0.03959338983264304, 0.002199632768480169, 0.5015162712134785, 0.05939008474896456, 0.941729608322396, 0.5398352074568544, 0.028412379339834443, 0.2699176037284272, 0.04617011642723097, 0.11364951735933777, 0.9665635729416272, 0.029198561572049937, 0.14599280786024968, 0.7883611624453483, 0.9480756804284359, 0.9605168157475817, 0.9654511509338961, 0.9814516791764633, 0.7982466857300419, 0.18024925161646108, 0.0811413828163274, 0.10327085085714398, 0.560613190367353, 0.07376489346938855, 0.17703574432653255, 0.9654509352073894, 0.9710866973550374, 0.951029947776091, 0.9699885835878941, 0.19434010288649464, 0.2857942689507274, 0.11812829783296733, 0.05715885379014548, 0.10288593682226187, 0.08002239530620367, 0.16004479061240734, 0.907038379886262, 0.7703614193391906, 0.1416756633267477, 0.00885472895792173, 0.04870100926856952, 0.02656418687376519, 0.9634065334941835, 0.932440755289121, 0.12282529677418486, 0.16142753290321438, 0.10527882580644415, 0.09826023741934788, 0.2561784761290141, 0.1087881199999923, 0.14739035612902182, 0.09432605902720123, 0.8960975607584117, 0.15986838779976803, 0.35005664225121624, 0.1695156180980299, 0.041345272706836564, 0.08269054541367313, 0.08269054541367313, 0.005512703027578208, 0.013781757568945521, 0.09509412722572409, 0.9606775397082175, 0.1541281946579714, 0.11987748473397776, 0.08562677480998411, 0.6336381335938824, 0.9767659330891622, 0.9662935890503964, 0.21044992250947164, 0.561199793358591, 0.033011752550505355, 0.09078231951388972, 0.10316172672032924, 0.15921275574430965, 0.09012042777979792, 0.14719669870700328, 0.06608831370518514, 0.06308429944585854, 0.06608831370518514, 0.28237734037670015, 0.039052185371245766, 0.08711641352047132, 0.951539788538717, 0.9584710680359206, 0.9180342334229784, 0.009447110661870742, 0.06612977463309519, 0.07557688529496594, 0.6424035250072104, 0.07557688529496594, 0.1417066599280611, 0.3189185892749455, 0.013866025620649805, 0.6517032041705408, 0.9861096653493356, 0.9292006589369094, 0.9077895710359073, 0.40299483083451115, 0.10619458380098605, 0.05718169896976172, 0.14431571644749386, 0.021783504369433035, 0.04901288483122433, 0.17426803495546428, 0.0462899467850452, 0.8503394872760662, 0.1133785983034755, 0.9619474821496569, 0.10656386920145043, 0.35521289733816813, 0.0507446996197383, 0.32476607756632514, 0.08119151939158128, 0.07104257946763362, 0.93514536427738, 0.0854575793163028, 0.10053832860741505, 0.0854575793163028, 0.05026916430370752, 0.11561907789852731, 0.11561907789852731, 0.30161498582224516, 0.15080749291112258, 0.21202161011500423, 0.11626991522435716, 0.6702618642345295, 0.953029720079816, 0.09451081556319404, 0.11416157919514527, 0.1703066181435774, 0.16001336100303148, 0.09825381815975619, 0.027136768825075517, 0.025265267526794446, 0.07953880517694548, 0.1038683220545994, 0.1253905869848317, 0.10152305449358254, 0.8629459631954515, 0.26311946123620694, 0.7175985306442008, 0.960831376226058, 0.024078623827903267, 0.4936117884720169, 0.2929565899061564, 0.0361179357418549, 0.15249795091005403, 0.9135254753798165, 0.8283692000414338, 0.13806153334023896, 0.08367519355771691, 0.1394586559295282, 0.10226968101498733, 0.1487558996581634, 0.5206456488035719, 0.9040082561506962, 0.9741417011822979, 0.9018689455976918, 0.9498074690325442, 0.15508477268496154, 0.8271187876531282, 0.9476514675732014, 0.9415508135752746, 0.08793297286798839, 0.7364386477694027, 0.17586594573597678, 0.8420848534976455, 0.14034747558294092, 0.9526055943779915, 0.9311175531913896, 0.9420571231003751, 0.823518392477506, 0.16470367849550122, 0.8879341150587965, 0.9144951282986102, 0.9756912349364875, 0.13030002926742562, 0.19805604448648695, 0.12821522879914682, 0.053162411941109655, 0.13342722996984385, 0.12613042833086802, 0.03127200702418215, 0.10007042247738288, 0.001042400234139405, 0.09902802224324347, 0.048218526342696445, 0.36059071873668647, 0.07756893368172905, 0.23689971637933468, 0.018868119003663825, 0.05450789934391772, 0.029350407339032616, 0.07756893368172905, 0.09434059501831912, 0.9706306177600708, 0.9384284869153574, 0.7382586710864432, 0.25377641818596486, 0.241572510011791, 0.7448485725363556, 0.9408245421478775, 0.37353055504361377, 0.6087164600710743, 0.928603854655948, 0.922627876225581, 0.6491803224126695, 0.1780010561454094, 0.15705975542242007, 0.23636808450770463, 0.7484989342743981, 0.4835054983874059, 0.0255183457482242, 0.09938724133518899, 0.08595653304664994, 0.038949054036763256, 0.08595653304664994, 0.03357677072134763, 0.05237976232530231, 0.09535802884862728, 0.7351426255074281, 0.23934876179311612, 0.9439299643567722, 0.0938921437071713, 0.266027740503652, 0.6259476247144753, 0.1267283494647934, 0.5829504075380495, 0.28725092545353165, 0.19915259818903933, 0.39432214441429786, 0.0597457794567118, 0.06771188338427336, 0.25093227371818955, 0.027881363746465507, 0.9465163728325792, 0.9228965963711436, 0.7451296901738441, 0.06209414084782035, 0.15523535211955086, 0.9476905359210395, 0.18623570119256652, 0.7981530051109994, 0.044632663180660184, 0.18348983752049186, 0.07438777196776697, 0.2231633159033009, 0.039673478382809046, 0.049591847978511315, 0.3818572294345371, 0.9693048373001024, 0.18732860620742775, 0.008920409819401322, 0.4147990566021615, 0.11150512274251653, 0.11150512274251653, 0.09366430310371388, 0.07582348346491123, 0.8875045465002466, 0.19557228027402765, 0.0869210134551234, 0.7062332343228777, 0.9660804098707172, 0.9586228537497249, 0.9811920438362404, 0.2337641844641799, 0.08348720873720711, 0.01669744174744142, 0.3911972066543419, 0.1264234875163422, 0.08110185991614405, 0.06678976698976569, 0.9665160140670341, 0.06174604538236385, 0.9261906807354577, 0.01234920907647277, 0.9850161577830436, 0.7596519944008613, 0.22789559832025838, 0.1282378209926123, 0.10991813227938196, 0.7511072372424434, 0.9593791083076216, 0.051001375997707536, 0.1428038527935811, 0.20400550399083014, 0.10200275199541507, 0.49981348477753385, 0.9627058600521745, 0.024816474244546277, 0.9678424955373048, 0.919213800412785, 0.061280920027519004, 0.10346661964369808, 0.07759996473277356, 0.10346661964369808, 0.5819997354958018, 0.1293332745546226, 0.9340961403829074, 0.9835889356382018, 0.9210918964886978, 0.03770036622494403, 0.8595683499287238, 0.08294080569487686, 0.01508014648997761, 0.9263836498926555, 0.1680428956001034, 0.04705201076802896, 0.591510992512364, 0.08738230571205377, 0.09410402153605792, 0.9524668156332704, 0.18377500993821733, 0.019344737888233404, 0.17410264099410064, 0.09430559720513784, 0.07254276708087526, 0.0024180922360291755, 0.055616121428671034, 0.07737895155293362, 0.31918817515585113, 0.17498750084435458, 0.18528088324696365, 0.07205367681826365, 0.48378897292262735, 0.07205367681826365, 0.16368475855835515, 0.08665663688383507, 0.16368475855835515, 0.04814257604657504, 0.32255525951205277, 0.21664159220958767, 0.08947639670591544, 0.7232675400394831, 0.11930186227455393, 0.05219456474511734, 0.9055579025163732, 0.9404071984718799, 0.8684424854890536, 0.1085553106861317, 0.9759234019506472, 0.25078888866824817, 0.07353959893279458, 0.2658739346031804, 0.11879473673759124, 0.09993842931892595, 0.01508504593493222, 0.013199415193065693, 0.07919649115839415, 0.08108212190026068, 0.14463267220806628, 0.04450236067940501, 0.011125590169851252, 0.789916902059439, 0.26885453675767473, 0.07274887465207669, 0.06958588010198641, 0.25303956400722327, 0.2150836294061398, 0.06642288555189611, 0.05060791280144466, 0.9620238048211427, 0.16555147950916052, 0.12876226184045816, 0.6989951357053443, 0.9595488173163479, 0.9358890765038194, 0.17535683952456296, 0.8183319177812938, 0.9585011461878313, 0.9545055319014264, 0.6395872200541043, 0.09359812976401526, 0.06239875317601017, 0.20279594782203306, 0.0346443177797637, 0.23843442236660897, 0.1283877658897125, 0.18748689621989764, 0.08762974497234347, 0.12023616170623871, 0.08151604183473811, 0.012227406275210717, 0.05909913033018513, 0.04890962510084287, 0.8467148413845553, 0.14552911336297045, 0.05846628128530994, 0.08504186368772354, 0.09567209664868899, 0.09035698016820627, 0.1488232614535162, 0.3986337360362041, 0.1275627955315853, 0.22781467828350535, 0.7517884383355676, 0.936674748355399, 0.9532120217195962, 0.15642327074112639, 0.012945374130300114, 0.41856709687970367, 0.026969529438125237, 0.10464177421992592, 0.1024842118648759, 0.09385396244467582, 0.08522371302447575, 0.9079503302989692, 0.09557371897883887, 0.11226596292658657, 0.09185396966720719, 0.10205996629689688, 0.056132981463293284, 0.5102998314844844, 0.1275749578711211, 0.09615900431435027, 0.8846628396920225, 0.11642926721937316, 0.24298281854477877, 0.25057603162430314, 0.13920890645794617, 0.08605641490127582, 0.030372852318097346, 0.1037739120868326, 0.030372852318097346, 0.27969003239453155, 0.5860172107313995, 0.11986715674051353, 0.11296695276254812, 0.07820789037407178, 0.23679611252149507, 0.04779371078415497, 0.1368638081546256, 0.06300080057911336, 0.10427718716542902, 0.06951812477695268, 0.152070897949584, 0.9354727980263856, 0.9399655083904581, 0.8972823499841759, 0.19604320794502178, 0.7841728317800871, 0.08125917038998476, 0.15671411432354204, 0.1393014349542596, 0.01741267936928245, 0.10447607621569469, 0.4991634752527635, 0.8374765327250593, 0.13673086248572397, 0.9067698597439021, 0.9197483353947394, 0.9196816841657774, 0.9398634606835142, 0.9694811750922121, 0.6318181110212151, 0.12328158263828587, 0.231152967446786, 0.9646200169054227, 0.975233736040465, 0.9368496931260989, 0.9013243062684617, 0.9734667450315625, 0.7426410223661499, 0.13816577160300464, 0.12089505015262907, 0.07904582068132357, 0.27057992463991526, 0.28882126787406687, 0.05168380583009618, 0.09728716391547516, 0.05776425357481337, 0.12464917876670255, 0.030402238723585988, 0.9575374270490903, 0.9532815639307239, 0.05464997888849177, 0.10929995777698354, 0.7650997044388848, 0.05464997888849177, 0.8069059015758393, 0.16138118031516785, 0.9746279895118443, 0.21822554152969523, 0.050318996226507394, 0.03972552333671636, 0.07839169938445362, 0.09481158236362972, 0.11970624365463864, 0.005296736444895515, 0.3299866805169906, 0.06356083733874618, 0.9471757898919179, 0.08646093983158126, 0.2527319779692375, 0.13966767203563127, 0.053206732204050006, 0.4655589067854376, 0.04217811920182411, 0.9279186224401305, 0.1082490614952684, 0.24588001111068108, 0.1778377438850838, 0.077320758210906, 0.16701283773555695, 0.07886717337512412, 0.05567094591185232, 0.0541245307476342, 0.03402113361279864, 0.8551930043796256, 0.13156815451994242, 0.9258082786065478, 0.18252144509578036, 0.045195786404669425, 0.5017891157236374, 0.07706461015155171, 0.1935306751174306, 0.9840532493113422, 0.9118063732752376, 0.8695796228926882, 0.08281710694216078, 0.17026775920478335, 0.08513387960239167, 0.12319373165993149, 0.10817010584774472, 0.06510237851947599, 0.28044101516081965, 0.11818585638920256, 0.00901417548731206, 0.04106457721997716, 0.1186719883560977, 0.5473442728260832, 0.04359379164101548, 0.04117191432762573, 0.0896094605954207, 0.004843754626779498, 0.1089844791025387, 0.04359379164101548, 0.9520940686000923, 0.035355883477500794, 0.05892647246250133, 0.019642157487500443, 0.0530338252162512, 0.23767010559875534, 0.18463628038250415, 0.049105393718751104, 0.3398093245337577, 0.021606373236250486, 0.9793534222096394, 0.9622499330197591, 0.08339292341278921, 0.633786217937198, 0.06671433873023137, 0.21682160087325197, 0.9510297860644279, 0.24215085241805615, 0.7264525572541684, 0.9737126068122506, 0.9761828222449002, 0.1295355329875359, 0.17697108027874622, 0.10581775934193073, 0.036488882531700254, 0.5181421319501436, 0.031015550151945216, 0.9489682968405989, 0.1367948409783582, 0.8663673261962686, 0.2724268746432305, 0.1747644101484875, 0.05140129710249632, 0.49859258189421435, 0.15457818920732241, 0.007026281327605564, 0.16160447053492796, 0.1334993452245057, 0.07026281327605564, 0.2705118311128142, 0.16160447053492796, 0.042157687965633385, 0.9133492255190734, 0.25086332906516906, 0.12078604732767398, 0.11072054338370114, 0.01858246881964215, 0.13240009033995032, 0.12156031686182574, 0.026325164161159716, 0.16414514124017235, 0.0549731369247747, 0.5605371504958329, 0.041909319663239845, 0.3038425675584889, 0.08905730428438466, 0.6378099815130082, 0.1260787172758272, 0.09641313674033845, 0.14091150754357157, 0.9464622846425238, 0.9468571253260967, 0.04319630657644985, 0.7225564009151612, 0.053013648980188455, 0.015707747845981765, 0.1649313523828085, 0.9463944451820798, 0.6328577295508278, 0.1332332062212269, 0.10825198005474684, 0.06661660311061345, 0.04996245233296008, 0.9689409158071393, 0.2372681917187544, 0.05684550426595158, 0.05437396060221455, 0.22985356072754332, 0.0197723493098962, 0.40039007352539807, 0.9615260264169929, 0.9669743712996978, 0.9716785510391867, 0.5321283867576414, 0.09675061577411662, 0.1290008210321555, 0.08062551314509718, 0.15318847497568464, 0.9728700090027356, 0.9406970612502993, 0.24453226550259116, 0.1582267600310884, 0.5897542873886022, 0.9570804986672742, 0.926573423542597, 0.9525956833041666, 0.028017520097181368, 0.2510296288425115, 0.7302680111782153, 0.9633982045081991, 0.9513509322228149, 0.9591215948760806, 0.9755452144214197, 0.9447235990953352, 0.14604051778719906, 0.8470350031657545, 0.9697309937166905, 0.7733981043192274, 0.20051061963831823, 0.9137037604237239, 0.9192841532298612, 0.9800467311469878, 0.02984474311167873, 0.9251870364620406, 0.9759887605063334, 0.2426972963119855, 0.7280918889359564, 0.9518052128414118, 0.12451772612218, 0.12818001218459707, 0.04028514668658765, 0.06592114912350706, 0.2710091686188624, 0.18311430312085294, 0.03296057456175353, 0.15381601462151648, 0.7412892034794124, 0.26474614409979014, 0.09755875047349845, 0.1422731777738519, 0.03455205745936403, 0.026422161586572495, 0.06097421904593653, 0.245929350151944, 0.05284432317314499, 0.13414328190106037, 0.20527987078798632, 0.09987796575445074, 0.5742983030880917, 0.3246033887019649, 0.04742211898174387, 0.1896884759269755, 0.758753903707902, 0.9622641883696162, 0.19024410743380374, 0.04109803017733739, 0.08683616053598707, 0.001988614363419551, 0.18096390707117915, 0.14119161980278813, 0.2233876801574629, 0.03778367290497147, 0.09081338926282617, 0.00530297163578547, 0.14342541839138373, 0.023904236398563955, 0.8127440375511744, 0.962867071098128, 0.7427454490422573, 0.08102677625915534, 0.1620535525183107, 0.9642506850553603, 0.05295913915635873, 0.05295913915635873, 0.13901774028544164, 0.6884688090326634, 0.05957903155090356, 0.8148878608574627, 0.17619196991512706, 0.12284282831749449, 0.08504503498903464, 0.17953951831018425, 0.6142141415874725, 0.11614164297322012, 0.14781663651137106, 0.21908537197221067, 0.05807082148661006, 0.06334998707630188, 0.018477079563921382, 0.2454811999206698, 0.07918748384537735, 0.05015207310207232, 0.49732402199053116, 0.09085727324827012, 0.13867689074735967, 0.12433100549763279, 0.14824081424717755, 0.8561108619654919, 0.1305931823337191, 0.2563183850751069, 0.15982205187036078, 0.09649633320474614, 0.010554286444269109, 0.4749428899921099, 0.9099378989214412, 0.1946954034050582, 0.48101217311837907, 0.14888472025092686, 0.17751639722225895, 0.8050155317262785, 0.1857728150137566, 0.2609351726284752, 0.722589708817316, 0.9863691997178027, 0.12025559478331953, 0.16034079304442603, 0.10021299565276627, 0.1737025257981282, 0.030063898695829882, 0.030063898695829882, 0.3474050515962564, 0.04676606463795759, 0.06803297424252093, 0.17960705200025526, 0.0217705517576067, 0.03265582763641005, 0.3238369573943996, 0.2721318969700837, 0.0734756121819226, 0.024491870727307536, 0.8876700048498058, 0.05917800032332039, 0.13583042373790527, 0.22831071224030886, 0.15606048684780605, 0.08092025243960313, 0.10982034259660425, 0.2890009015700112, 0.6794074360109231, 0.18198413464578297, 0.13345503207357418, 0.5931724909272698, 0.12751500764655319, 0.11612973910668237, 0.03643285932758662, 0.0944977288809278, 0.014800849101832067, 0.01707790280980623, 0.9452022287802668, 0.026223827448776358, 0.9702816156047253, 0.38596690509723236, 0.012566364352002913, 0.048470262500582666, 0.14002520277946104, 0.1328444231497451, 0.1741339060206118, 0.017951949074289878, 0.0861693555565914, 0.9647351388933153, 0.45370059828795173, 0.053136106105796145, 0.15123353276265056, 0.15259599702177354, 0.17848281794511012, 0.012262178332106802, 0.8944329628189543, 0.09095928435446993, 0.9137040518164693, 0.9033006240099686, 0.9888315793580307, 0.9249532169907138, 0.08492926316271189, 0.14559302256464896, 0.6673013534213077, 0.08492926316271189, 0.3011494904009856, 0.10716228619463644, 0.11733097028609829, 0.16739218427483354, 0.12202420909754222, 0.018772955245775727, 0.03832811696012544, 0.0891715374174347, 0.008604271154313874, 0.029723845805811566, 0.9575903211084965, 0.907429062347432, 0.16998968126291086, 0.06659389575248054, 0.019277180349402262, 0.038554360698804524, 0.12968284962325158, 0.19277180349402262, 0.08061366327931854, 0.0823661342201733, 0.21730639666598914, 0.9616053981969092, 0.9736483516266259, 0.24873940163071961, 0.05914083675135991, 0.026091545625599958, 0.04696478212607993, 0.017394363750399974, 0.14089434637823978, 0.11306336437759983, 0.29918305650687954, 0.05044365487615992, 0.6327977124939866, 0.13028188198405607, 0.11167018455776236, 0.11167018455776236, 0.0757999088658031, 0.16784265534570686, 0.10016416528695408, 0.024364256421150993, 0.34922100870316425, 0.08933560687755365, 0.06767849005875276, 0.05414279204700221, 0.07309276926345298, 0.8860598023216887, 0.8763582730682383, 0.12211549706688567, 0.9651703853589456, 0.08651967972581086, 0.151409439520169, 0.605637758080676, 0.151409439520169, 0.973157503341276, 0.07805437112240522, 0.052036247414936815, 0.03902718556120261, 0.46182169580756427, 0.08455890204927233, 0.2861993607821525, 0.9492700251244898, 0.9204221369097287, 0.928453037276879, 0.23700938396176954, 0.2633437599575217, 0.0625441429899114, 0.08887851898566358, 0.11192109798194673, 0.10204570698353967, 0.08887851898566358, 0.042793360993097274, 0.6027773017782259, 0.2530744396778811, 0.11503383621721869, 0.027608120692132483, 0.15305055474534737, 0.1575520416496223, 0.06752230356412384, 0.26108624044794554, 0.36462043924626875, 0.9778800880264902, 0.9215222437873681, 0.06677697418749044, 0.17814703836960225, 0.2122918873904427, 0.44833671323016566, 0.10094998840944128, 0.05938234612320075, 0.06154710699777258, 0.1333520651618406, 0.11283636282924972, 0.5641818141462486, 0.12309421399554515, 0.24723963284910294, 0.629337247252262, 0.11238165129504679, 0.06670423851622843, 0.6336902659041701, 0.12229110394641879, 0.16676059629057108, 0.9247624996523828, 0.14038951631853372, 0.07799417573251874, 0.7799417573251874, 0.9723350948458341, 0.11906353519956779, 0.593210356790767, 0.1159025563889598, 0.10958059876774381, 0.009482936431823984, 0.05373663978033591, 0.3683527251860342, 0.08955364419660464, 0.013517531199487492, 0.04393197639833435, 0.2635918583900061, 0.20614235079218426, 0.013517531199487492, 0.1137319506630665, 0.18568481740908815, 0.01160530108806801, 0.08123710761647607, 0.16247421523295213, 0.1299793721863617, 0.03945802369943124, 0.04177908391704484, 0.2344270819789738, 0.12794089319067323, 0.04873938788216123, 0.04264696439689108, 0.09747877576432246, 0.3259446564619532, 0.09443256402168738, 0.10052498750695754, 0.16144922235965908, 0.47713654049606014, 0.21300738415002685, 0.30673063317603866, 0.971110853493458, 0.889997972036884, 0.08476171162256038, 0.9479992066875175, 0.16610573034697612, 0.7973075056654854, 0.12104761856086407, 0.08163676600616414, 0.38284828195994214, 0.160458471115564, 0.14919822752850687, 0.07600664421263557, 0.025335548070878525, 0.18767563962092085, 0.16997039060007926, 0.024787348629178224, 0.11685464353755448, 0.06373889647502971, 0.021246298825009908, 0.3186944823751486, 0.09206729490837626, 0.94002310058398, 0.9242931759526235, 0.9172645398446948, 0.962323465226027, 0.5680175262568595, 0.30071516095951384, 0.13365118264867282, 0.9700366743194531, 0.10390428370122896, 0.8727959830903234, 0.9503323751040591, 0.9448942883967585, 0.018526820711667592, 0.037053641423335185, 0.685492366331701, 0.07410728284667037, 0.16674138640500835, 0.9628134254779714, 0.9614598454761799, 0.2725903046238761, 0.058412208133687735, 0.07139269883006279, 0.09410855754871914, 0.3602086168244077, 0.11033417091918794, 0.03245122674093763, 0.24821323887131314, 0.18138659763672882, 0.01909332606702409, 0.5346131298766744, 0.7573636475127852, 0.23106009585135817, 0.9216828978157755, 0.9805214528364345, 0.16541510453674946, 0.40776746699756844, 0.00432772075822891, 0.052413506960772356, 0.049047501926594315, 0.14858507936585924, 0.03221747675570411, 0.01827259875696651, 0.038949486824060194, 0.08270755226837473, 0.09808825218674859, 0.03678309457003072, 0.05313113660115548, 0.29835176706802696, 0.23295959894352788, 0.07765319964784263, 0.11034928371009216, 0.08582722066340502, 0.12673982291184926, 0.18876143837934994, 0.02966251174532642, 0.0862909432591314, 0.30741148536065566, 0.0862909432591314, 0.05932502349065284, 0.07820116732858784, 0.03505569569902214, 0.8773936502599249, 0.06749181925076346, 0.7528464691981098, 0.22306562050314363, 0.11290743123624364, 0.0037635810412081213, 0.10914385019503552, 0.015054324164832485, 0.03199043885026903, 0.22205128143127914, 0.5024380690012842, 0.29323842500120895, 0.2299255832395843, 0.07664186107986143, 0.10996440937545336, 0.10329989971633498, 0.1832740156257556, 0.9025514346663096, 0.22273544792228214, 0.03855036598654883, 0.03426699198804341, 0.03426699198804341, 0.5739721157997271, 0.09423422796711937, 0.03127747260812464, 0.09383241782437393, 0.2814972534731218, 0.6046978037570765, 0.30888369016399864, 0.679544118360797, 0.9242478934557862, 0.9472144566360782, 0.780029080679036, 0.18000671092593137, 0.9287408491656848, 0.9354373531411474, 0.8846385078160993, 0.9681539847580025, 0.9354373826755465, 0.9457707230672247, 0.9303937885055209, 0.07253908652075926, 0.14507817304151852, 0.7689143171200481, 0.2453447140387792, 0.07806422719415701, 0.05576016228154072, 0.07806422719415701, 0.4070491846552473, 0.13382438947569775, 0.08146689408308137, 0.7875133094697866, 0.05819063863077241, 0.06982876635692689, 0.2509958301435658, 0.2509958301435658, 0.4938950206050811, 0.9420297080047706, 0.7814478007578227, 0.20838608020208604, 0.933269652404008, 0.92407790566853, 0.06160519371123533, 0.9317629819672232, 0.027952889459016698, 0.032611704368852815, 0.9533884053316227, 0.9464307474336844, 0.9861012258634264, 0.5014843967927942, 0.06268554959909928, 0.35103907775495596, 0.08149121447882907, 0.013580432401281126, 0.6156462688580777, 0.1403311348132383, 0.1403311348132383, 0.040741297203843375, 0.04979491880469746, 0.9692049560534406, 0.1453733985679877, 0.14952692424135877, 0.06645641077393723, 0.1453733985679877, 0.08930080197747815, 0.10799166750764799, 0.15991073842478645, 0.031151442550283077, 0.08514727630410708, 0.022844391203540922, 0.098338426305096, 0.8850458367458639, 0.8010250605784315, 0.19350605395995818, 0.1932843228057703, 0.5959599953177916, 0.112749188303366, 0.09664216140288515, 0.9492700492348037, 0.9602681948434186, 0.10650157791448515, 0.17040252466317624, 0.702910414235602, 0.9474627304961057, 0.07553232009124822, 0.09063878410949786, 0.1812775682189957, 0.12840494415512196, 0.5287262406387375, 0.944723446328766, 0.10095466221563121, 0.09177696565057383, 0.2202647175613772, 0.5781948835986152, 0.19743942816305, 0.06239830984398278, 0.04470326675389811, 0.23934874074482945, 0.09126916962254197, 0.10989553076999953, 0.09313180573728773, 0.05774171955711839, 0.10523894048313513, 0.9544118133369329, 0.9248456425022222, 0.07760736432591177, 0.5561861110023677, 0.07760736432591177, 0.1940184108147794, 0.09054192504689706, 0.6566621562861277, 0.21888738542870922, 0.11939311932475048, 0.9675336850208888, 0.9617797024616577, 0.8046078117094991, 0.1950564392023028, 0.9808326478852786, 0.7358268238293418, 0.12686669376367962, 0.10149335501094371, 0.1266918656439932, 0.236491482535454, 0.20270698503038914, 0.4223062188133107, 0.9510345070098803, 0.9773076634210602, 0.9806767784111613, 0.9739845416159781, 0.9454419528034718, 0.9490804499014616, 0.24050163902567356, 0.10456593001116242, 0.5437428360580445, 0.11502252301227867, 0.9637690207447918, 0.11987479309018148, 0.8790818159946642, 0.9677016745599314, 0.950735819677236, 0.9017811954353033, 0.9480042772410161, 0.9679357144480997, 0.15899703239976962, 0.16996234497906407, 0.27413281448236143, 0.08041229224815935, 0.08955005273090473, 0.05482656289647228, 0.06579187547576673, 0.03106838564133429, 0.05665411499302136, 0.01827552096549076, 0.6556940790835771, 0.14719662999835406, 0.035684031514752496, 0.04014453545409656, 0.11597310242294562, 0.9631648140752951, 0.1682161110986257, 0.18592307016163892, 0.07968131578355954, 0.49579485376437044, 0.061974356720546304, 0.15042552390934946, 0.7167333786269003, 0.132728403449426, 0.9291700467313021, 0.25550989024996873, 0.10318668644710274, 0.11792764165383171, 0.054050169091339535, 0.47171056661532684, 0.20278558668291533, 0.03513611650446553, 0.06575473231549976, 0.11745501802921332, 0.05170028571371356, 0.3533689431306247, 0.08081306796027071, 0.008533056865370198, 0.08533056865370199, 0.6937098950355033, 0.08755561782001497, 0.21552152078772918, 0.9170654414151683, 0.9766761584211641, 0.3355087522732308, 0.023088774349985776, 0.4610539628012784, 0.15296313006865575, 0.012265911373429942, 0.01587353236561522, 0.2650929514921569, 0.7290056166034314, 0.9533169271124375, 0.14715827074293472, 0.0542162050105549, 0.10068723787674481, 0.046471032866189914, 0.4879458450949941, 0.1549034428872997, 0.17527323873634384, 0.8062568981871816, 0.1220983846669826, 0.07631149041686412, 0.10344446478730471, 0.0398515561065846, 0.09581331574561829, 0.07631149041686412, 0.17890804975509256, 0.23571771484320253, 0.019501825328754167, 0.051722232393652354, 0.10556291160020048, 0.0558862473177532, 0.279431236588766, 0.4036228972948842, 0.14902999284734186, 0.22570289915805675, 0.04836490696244073, 0.4514057983161135, 0.08866899609780801, 0.18539881002268946, 0.9757610699557188, 0.005588678961388132, 0.9724301392815349, 0.016766036884164396, 0.9597474372995735, 0.04358864037714944, 0.19614888169717248, 0.7628012066001152, 0.8920404274215825, 0.08976032738782345, 0.8976032738782346, 0.9576430570524871, 0.9402440286145436, 0.9452019418777053, 0.9700568083240391, 0.24210642650444086, 0.7505299221637667, 0.9376134773647399, 0.9547147851840463, 0.647028701749058, 0.07922800429580303, 0.11884200644370455, 0.14525134120897223, 0.8910023392012466, 0.18013861264661887, 0.6433521880236389, 0.1672715688861461, 0.9575236033794805, 0.9760505296199908, 0.9404684072157704, 0.05805360538368953, 0.9485076531969016, 0.9876876641103418, 0.9743699366759999, 0.9531252155439232, 0.698327690265126, 0.18772249738309837, 0.05256229926726755, 0.06007119916259148, 0.08225634926789138, 0.6786148814601038, 0.2262049604867013, 0.8956268400422617, 0.09795918562962237, 0.1765397210317564, 0.5926690634637537, 0.22697964132654397, 0.8971970421131844, 0.07979101436556976, 0.5585371005589883, 0.14116871772370035, 0.09820432537300894, 0.04910216268650447, 0.0736532440297567, 0.054863023120388744, 0.9326713930466087, 0.9713941772889667, 0.9248065833039066, 0.9559354619881251, 0.1550072881720086, 0.0023847275103385935, 0.054848732737787655, 0.09300437290320515, 0.13831419559963845, 0.16454619821336297, 0.1478531056409928, 0.20747129339945766, 0.04054036767575609, 0.13361181167740968, 0.8637049254861126, 0.9317660558738368, 0.18805626975747008, 0.18440469170392695, 0.05842524885668973, 0.24100415153384513, 0.0876378732850346, 0.07303156107086216, 0.167972590462983, 0.9458000612247786, 0.5327750537423009, 0.1566985452183238, 0.03917463630458095, 0.03917463630458095, 0.03917463630458095, 0.12927629980511715, 0.05876195445687143, 0.8992931164618351, 0.9226483485724821, 0.9501550966650583, 0.15528449165733016, 0.8281839555057608, 0.9347648716781489, 0.914265906633435, 0.9890160710356958, 0.9388947040754524, 0.921948189885827, 0.04390229475646795, 0.07820447234445468, 0.8602491957890015, 0.7823974368895696, 0.20710520388253312, 0.9095511600524482, 0.08268646909567712, 0.6158199049251573, 0.05766875363847627, 0.07002634370386404, 0.09680112217887088, 0.06384754867117015, 0.05148995860578238, 0.041191966884625904, 0.11459424955543203, 0.06875654973325922, 0.5156741229994442, 0.16043194937760483, 0.13751309946651843, 0.9642779483053351, 0.945361505999894, 0.09479347712101614, 0.0663554339847113, 0.17062825881782906, 0.08531412940891453, 0.5877195581503001, 0.45639099597576116, 0.29244471586796345, 0.12849843576016576, 0.04874078597799391, 0.07089568869526386, 0.10941165906344928, 0.14588221208459906, 0.7476463369335701, 0.9386001256744397, 0.09670779875652681, 0.2775872001344751, 0.18356572912118516, 0.04566757163502655, 0.07879894713494777, 0.03760858840531598, 0.10476678198623737, 0.03850403098639493, 0.052831112283658166, 0.08506704520250043, 0.19115660769761028, 0.15227729765741838, 0.09071839009378116, 0.07451867757703452, 0.4697916629856524, 0.019439655020095963, 0.9769996907030007, 0.9380020322733444, 0.04140148409939978, 0.696297687126269, 0.15807839383407188, 0.04140148409939978, 0.06022034050821786, 0.8851767379054534, 0.13908205124304576, 0.09206840011863593, 0.1175341278110246, 0.1723833874561694, 0.03330133621312364, 0.08423279159790095, 0.027424629822572405, 0.07052047668661475, 0.2644517875748053, 0.9755293296949783, 0.9808326703206096, 0.9295817438256637, 0.866231474333268, 0.09624794159258533, 0.958739266107784, 0.2819462869948852, 0.6434158857062765, 0.07229391974227826, 0.8035069435335079, 0.08312140795174221, 0.09697497594369923, 0.9018690545900683, 0.954059565871606, 0.004889335898081848, 0.03422535128657293, 0.03422535128657293, 0.12712273335012805, 0.8018510872854231, 0.08026490365760544, 0.8989669209651809, 0.1828951258598467, 0.13301463698897942, 0.1122310999594514, 0.25771585916614764, 0.31175305544292053, 0.9422771920531229, 0.19794776104627695, 0.002474347013078462, 0.19547341403319848, 0.022269123117706156, 0.5121898317072416, 0.002474347013078462, 0.06680736935311847, 0.33102843643236546, 0.08790020628430043, 0.20011323558340735, 0.09631618348173344, 0.14120139520137623, 0.0243128230148065, 0.08977042343928554, 0.028988365902269293, 0.640776724007307, 0.013211891216645505, 0.11109999432179174, 0.04804324078780184, 0.011410269687102936, 0.012611350706797982, 0.0072064861181702754, 0.15614053256035595, 0.926915143125868, 0.933315691745347, 0.8914262750341044, 0.9137038029584066, 0.12124395933418779, 0.18860171451984767, 0.6735775518565988, 0.24721270409513338, 0.08527046894875616, 0.19418737046313375, 0.07882144188540485, 0.11178313576475597, 0.06090747782054011, 0.04657630656864832, 0.055891567882377986, 0.040127279505297014, 0.07953800044799944, 0.9472722460713913, 0.908499765168324, 0.06734556185559926, 0.14933146324502444, 0.08198590138942519, 0.04977715441500815, 0.07905783348266, 0.14933146324502444, 0.08491396929619037, 0.04684908650824296, 0.28695065486298815, 0.863856110534584, 0.107982013816823, 0.9147480780732742, 0.18033399996965202, 0.0721335999878608, 0.06311689998937821, 0.6672357998877124, 0.17585336062599374, 0.0703413442503975, 0.5187674138466815, 0.09671934834429655, 0.14947535653209468, 0.9576005247590377, 0.2783901522263672, 0.7141312600589419, 0.07515462070752843, 0.2254638621225853, 0.11273193106129265, 0.516688017364258, 0.07515462070752843, 0.23327343652333182, 0.08164570278316614, 0.5248652321774966, 0.1399640619139991, 0.1900008211970172, 0.802225689498517, 0.958871301511972, 0.2752946473860359, 0.7007500115280914, 0.19841941945948008, 0.6186017194913203, 0.17507595834660009, 0.18330558823823664, 0.11172912044997281, 0.0488814901968631, 0.21123786835072986, 0.0488814901968631, 0.03666111764764733, 0.019203442577339077, 0.03316958263358568, 0.18505135574526746, 0.12220372549215776, 0.943018972696771, 0.940523408436692, 0.9450529208239921, 0.9296649616872399, 0.16444240797301407, 0.678324932888683, 0.14388710697638732, 0.9702991462521438, 0.12920317151087707, 0.07878242165297382, 0.10714409344804439, 0.14180835897535288, 0.08193371851909277, 0.11659798404640125, 0.03466426552730848, 0.03466426552730848, 0.27731412421846785, 0.9467616400471505, 0.9407229981210675, 0.7762354937105603, 0.21562097047515566, 0.21350431857222688, 0.7625154234722389, 0.9236734740255166, 0.4435235358229184, 0.02848316285101311, 0.11393265140405244, 0.09765655834633066, 0.09358753508190022, 0.08544948855303933, 0.04882827917316533, 0.08544948855303933, 0.3286280115048864, 0.6572560230097728, 0.12199740028783775, 0.09488686689054047, 0.7726502018229724, 0.10818770243807674, 0.6800369867536252, 0.20092001881357108, 0.31647685818079074, 0.6715484551641169, 0.2514414165108863, 0.0309149282595352, 0.10785874970548948, 0.08724879753246602, 0.012365971303814081, 0.20129053288986254, 0.04396789796911673, 0.09755377361897774, 0.16762761100725754, 0.9189736286069574, 0.2600842100219581, 0.08757937684412874, 0.0703288935263458, 0.1273881845005509, 0.1127916216931961, 0.10084897939626945, 0.07696369480241616, 0.019904403828211077, 0.08890633709934281, 0.05440537046377694, 0.9759296719702072, 0.09389447903284225, 0.1877889580656845, 0.08606993911343873, 0.17213987822687746, 0.4616478552448077, 0.7987267399358648, 0.16640140415330518, 0.11494915281409217, 0.06848034635733151, 0.07092607301295048, 0.1247320594365681, 0.007337179966856947, 0.10027479288037827, 0.3057158319523728, 0.02201153990057084, 0.05380598642361761, 0.13206923940342505, 0.15632928436321403, 0.8337561832704748, 0.13233503614378, 0.14106042314227102, 0.0668946336550976, 0.16432812180491366, 0.05962347782302177, 0.04944385965811561, 0.013088080497736486, 0.11052156864755254, 0.13233503614378, 0.13233503614378, 0.9325064276852607, 0.9793672995736831, 0.14798126657459476, 0.8138969661602712, 0.7498945931505667, 0.10094734907796091, 0.12978944881452117, 0.10272059893253974, 0.2839922441076098, 0.03323313494876285, 0.08459343441503273, 0.2416955269000935, 0.1329325397950514, 0.12084776345004675, 0.8673364174942123, 0.11827314784011987, 0.9764716319817539, 0.09184090119824513, 0.17347725781890747, 0.12245453493099351, 0.6020681300773847, 0.39710365675582, 0.21776652144674, 0.060846528051295, 0.022417141913635, 0.05123918151688, 0.02561959075844, 0.220968970291545, 0.043141243207584744, 0.11863841882085806, 0.5716214725004979, 0.1617796620284428, 0.08628248641516949, 0.26175326755635503, 0.12095457850979584, 0.00283487293382334, 0.07276173863479905, 0.13229407024508918, 0.21072555474753493, 0.04819283987499678, 0.02740377169362562, 0.1228444937990114, 0.8425280786155638, 0.05321229970203561, 0.09755588278706528, 0.09585112029374593, 0.19616043222906143, 0.06687287462354367, 0.006687287462354367, 0.07133106626511325, 0.09139292865217635, 0.18947314476670707, 0.1404330367094417, 0.06241468298197409, 0.07578925790668282, 0.4125180243524666, 0.09260608709953332, 0.4882866410702666, 0.18606467615122993, 0.02310607089459718, 0.18667273064845616, 0.08755984760057879, 0.06749404919211281, 0.15748611478159658, 0.07175043067269651, 0.05715712273926671, 0.10458537352291356, 0.05776517723649295, 0.966254286508279, 0.667782038294876, 0.11233716532063336, 0.16850574798095003, 0.05616858266031668, 0.9114310774222804, 0.11070858193231299, 0.08238778190311664, 0.04891774550497551, 0.12615629103914736, 0.02188425456801536, 0.1583390183450523, 0.15061516379163511, 0.0502050545972117, 0.05921621824286509, 0.19180905474319343, 0.8836497010737984, 0.1104562126342248, 0.13816071519036488, 0.47728247065762414, 0.029306818373713763, 0.12141396183395703, 0.07954707844293736, 0.09629383179934523, 0.058613636747427526], \"Term\": [\"a.m.\", \"able\", \"able\", \"able\", \"able\", \"able\", \"able\", \"aboriginal\", \"acceptable\", \"access\", \"access\", \"access\", \"accident\", \"accommodation\", \"account\", \"account\", \"active\", \"addict\", \"administration\", \"adventure\", \"afford\", \"afraid\", \"afraid\", \"afternoon\", \"again\", \"again\", \"again\", \"again\", \"agent\", \"agreement\", \"agreement\", \"ahead\", \"ahead\", \"ahead\", \"allow\", \"allow\", \"allow\", \"allow\", \"allow\", \"already\", \"already\", \"already\", \"already\", \"already\", \"already\", \"also\", \"also\", \"also\", \"also\", \"also\", \"also\", \"also\", \"also\", \"also\", \"always\", \"always\", \"always\", \"always\", \"always\", \"always\", \"always\", \"amazing\", \"amazing\", \"amazing\", \"amazing\", \"amazing\", \"amazing\", \"ambulance\", \"anger\", \"answer\", \"answer\", \"answer\", \"answer_question\", \"anyway\", \"anyway\", \"anyway\", \"apart\", \"apart\", \"appal\", \"appropriate\", \"appropriate\", \"appropriate\", \"argument\", \"around\", \"around\", \"around\", \"arrive\", \"arrive\", \"arsenal\", \"arsenal\", \"ask\", \"ask\", \"ask\", \"ask\", \"ask\", \"ask\", \"ask\", \"ask\", \"ask\", \"audition\", \"aware\", \"aware\", \"aware\", \"aware\", \"away\", \"away\", \"away\", \"away\", \"away\", \"baby\", \"baby\", \"baby\", \"back\", \"back\", \"back\", \"back\", \"back\", \"back\", \"back\", \"back\", \"back\", \"bad\", \"bad\", \"bad\", \"bad\", \"bad\", \"ball\", \"ball\", \"ban\", \"barrier\", \"base\", \"base\", \"bathroom\", \"be\", \"be\", \"be\", \"be\", \"be\", \"be\", \"be\", \"be\", \"be\", \"be\", \"beach\", \"bedroom\", \"begin\", \"begin\", \"begin\", \"begin\", \"begin\", \"behalf\", \"behave\", \"bet\", \"better\", \"better\", \"better\", \"big\", \"big\", \"big\", \"big\", \"big\", \"big\", \"big\", \"bike\", \"bit\", \"bit\", \"bit\", \"bit\", \"bit\", \"blow\", \"board\", \"board\", \"board\", \"bomb\", \"bone\", \"boo\", \"bother\", \"box\", \"box\", \"boy\", \"boy\", \"boy\", \"boy\", \"boy\", \"branch\", \"brand\", \"brave\", \"breakfast\", \"bring\", \"bring\", \"bring\", \"bring\", \"bring\", \"bring\", \"bring\", \"broken\", \"business\", \"business\", \"business\", \"business\", \"business\", \"button\", \"cake\", \"call\", \"call\", \"call\", \"call\", \"call\", \"call\", \"call\", \"calm\", \"calm\", \"can\", \"can\", \"can\", \"can\", \"can\", \"can\", \"can\", \"can\", \"can\", \"canadian\", \"candidate\", \"candidate\", \"candidate\", \"candidate\", \"cape\", \"captain\", \"care\", \"care\", \"care\", \"care\", \"care\", \"case\", \"case\", \"case\", \"case\", \"case\", \"case\", \"case\", \"case\", \"case\", \"cent\", \"challenging\", \"championship\", \"chance\", \"chance\", \"chance\", \"chance\", \"chance\", \"chance\", \"character\", \"character\", \"character\", \"charity\", \"cheer\", \"cherish\", \"child\", \"child\", \"child\", \"child\", \"child\", \"child\", \"child\", \"child\", \"chinese\", \"chinese\", \"chip\", \"clear\", \"clear\", \"clear\", \"clear\", \"clear\", \"clear\", \"clock\", \"close\", \"close\", \"close\", \"close\", \"close\", \"close\", \"close\", \"close\", \"club\", \"club\", \"club\", \"coffee\", \"come\", \"come\", \"come\", \"come\", \"come\", \"come\", \"come\", \"come\", \"come\", \"come\", \"comfort\", \"comfort\", \"commit\", \"commit\", \"committed\", \"community\", \"community\", \"community\", \"community\", \"community\", \"competitor\", \"complex\", \"complex\", \"concern\", \"concern\", \"concern\", \"concern\", \"concern\", \"conclusion\", \"conflict\", \"confuse\", \"congratulation\", \"consequence\", \"consequence\", \"conservative\", \"consultation\", \"contact\", \"contact\", \"contact\", \"contain\", \"contain\", \"content\", \"controversial\", \"convince\", \"cook\", \"cook\", \"copyright\", \"corner\", \"cough\", \"could\", \"could\", \"could\", \"could\", \"could\", \"could\", \"could\", \"could\", \"could\", \"could\", \"country\", \"country\", \"country\", \"country\", \"country\", \"country\", \"country\", \"country\", \"country\", \"covid19\", \"creativity\", \"credit\", \"credit\", \"crime\", \"crime\", \"crush\", \"damage\", \"damage\", \"dancer\", \"darle\", \"date\", \"date\", \"date\", \"daughter\", \"daughter\", \"day\", \"day\", \"day\", \"day\", \"day\", \"day\", \"day\", \"day\", \"day\", \"dead\", \"dead\", \"dear\", \"decade\", \"decade\", \"decade\", \"decide\", \"decide\", \"decide\", \"decision\", \"decision\", \"decision\", \"decision\", \"decision\", \"decision\", \"declare\", \"deportation\", \"describe\", \"describe\", \"describe\", \"designer\", \"detail\", \"detail\", \"die\", \"die\", \"die\", \"die\", \"die\", \"die\", \"die\", \"diet\", \"different\", \"different\", \"different\", \"different\", \"different\", \"different\", \"different\", \"discipline\", \"disease\", \"disease\", \"disease\", \"display\", \"distress\", \"ditch\", \"do\", \"do\", \"do\", \"do\", \"do\", \"do\", \"do\", \"document\", \"dog\", \"dog\", \"dog\", \"dollar\", \"doubt\", \"doubt\", \"dream\", \"dream\", \"dream\", \"drinking\", \"drive\", \"drive\", \"drive\", \"drive\", \"drive\", \"driver\", \"drop\", \"drop\", \"drought\", \"drought\", \"due\", \"due\", \"due\", \"due\", \"due\", \"dumb\", \"earth\", \"ease\", \"economy\", \"economy\", \"economy\", \"economy\", \"either\", \"else\", \"else\", \"else\", \"else\", \"else\", \"emotionally\", \"end\", \"end\", \"end\", \"end\", \"end\", \"end\", \"end\", \"end\", \"end\", \"enjoy\", \"enjoy\", \"enjoy\", \"enjoy\", \"enjoy\", \"enough\", \"enough\", \"enough\", \"enough\", \"enough\", \"enough\", \"ensure\", \"ensure\", \"ensure\", \"ensure\", \"equality\", \"error\", \"essential\", \"essential\", \"essentially\", \"even\", \"even\", \"even\", \"even\", \"even\", \"even\", \"even\", \"even\", \"even\", \"event\", \"event\", \"event\", \"event\", \"ever\", \"ever\", \"ever\", \"ever\", \"ever\", \"ever\", \"ever\", \"evolution\", \"excite\", \"excite\", \"excite\", \"expensive\", \"explanation\", \"expose\", \"expose\", \"facial\", \"factory\", \"fair\", \"fair\", \"fair\", \"fair\", \"family\", \"family\", \"family\", \"family\", \"family\", \"family\", \"family\", \"family\", \"family\", \"family\", \"fantastic\", \"fantastic\", \"far\", \"far\", \"far\", \"far\", \"far\", \"far\", \"far\", \"father\", \"father\", \"fault\", \"federal\", \"feel\", \"feel\", \"feel\", \"feel\", \"feel\", \"feel\", \"feel\", \"feel\", \"fellow\", \"fellow\", \"fight\", \"fight\", \"fight\", \"fight\", \"fight\", \"fight\", \"financial\", \"financial\", \"find\", \"find\", \"find\", \"find\", \"find\", \"find\", \"find\", \"find\", \"fine\", \"fine\", \"fine\", \"first\", \"first\", \"first\", \"first\", \"first\", \"first\", \"first\", \"first\", \"first\", \"fiscal\", \"fitness\", \"fiver\", \"flood\", \"flood\", \"follow\", \"follow\", \"follow\", \"follow\", \"follow\", \"follow\", \"foot\", \"foot\", \"forest\", \"forgive\", \"fortunate\", \"freeze\", \"fresh\", \"front\", \"front\", \"front\", \"frontline\", \"frustrating\", \"frustration\", \"fuck\", \"fund\", \"funny\", \"funny\", \"funny\", \"game\", \"game\", \"game\", \"game\", \"game\", \"game\", \"game\", \"game\", \"gap\", \"gay\", \"general\", \"general\", \"general\", \"general\", \"genuinely\", \"genuinely\", \"gesture\", \"get\", \"get\", \"get\", \"get\", \"get\", \"get\", \"get\", \"get\", \"get\", \"ghost\", \"girl\", \"girl\", \"girl\", \"girl\", \"girl\", \"girlfriend\", \"girlfriend\", \"give\", \"give\", \"give\", \"give\", \"give\", \"give\", \"give\", \"give\", \"give\", \"global\", \"global\", \"glove\", \"go\", \"go\", \"go\", \"go\", \"go\", \"goal\", \"golden\", \"gon\", \"gon\", \"good\", \"good\", \"good\", \"good\", \"good\", \"good\", \"good\", \"good\", \"good\", \"government\", \"government\", \"government\", \"government\", \"government\", \"government\", \"government\", \"government\", \"governor\", \"great\", \"great\", \"great\", \"great\", \"great\", \"great\", \"great\", \"great\", \"great\", \"grind\", \"grip\", \"growth\", \"growth\", \"growth\", \"growth\", \"guarantee\", \"guess\", \"guess\", \"gun\", \"handle\", \"happen\", \"happen\", \"happen\", \"happen\", \"happen\", \"happen\", \"happier\", \"happiness\", \"happiness\", \"happy\", \"happy\", \"happy\", \"happy\", \"hard\", \"hard\", \"hard\", \"hard\", \"hard\", \"hard\", \"hard\", \"hard\", \"hardly\", \"have\", \"have\", \"have\", \"have\", \"have\", \"have\", \"have\", \"have\", \"have\", \"health\", \"health\", \"health\", \"health\", \"heart\", \"heart\", \"heart\", \"heart\", \"heat\", \"heavily\", \"help\", \"help\", \"help\", \"help\", \"help\", \"heroic\", \"history\", \"history\", \"history\", \"history\", \"history\", \"hole\", \"home\", \"home\", \"home\", \"home\", \"home\", \"home\", \"honour\", \"horrible\", \"host\", \"hour\", \"hour\", \"hour\", \"hour\", \"hour\", \"hugely\", \"humble\", \"hurt\", \"hurt\", \"hurt\", \"idiot\", \"illegal\", \"immediate\", \"immediate\", \"immediately\", \"immediately\", \"impeachment\", \"improvement\", \"income\", \"inevitable\", \"influx\", \"infrastructure\", \"infrastructure\", \"ingredient\", \"injury\", \"injury\", \"inquiry\", \"interaction\", \"invest\", \"investigation\", \"investigation\", \"invite\", \"isolation\", \"isolation\", \"jealous\", \"job\", \"job\", \"job\", \"job\", \"job\", \"job\", \"job\", \"job\", \"join\", \"join\", \"keep\", \"keep\", \"keep\", \"keep\", \"keep\", \"keep\", \"keep\", \"keep\", \"keep\", \"key\", \"key\", \"key\", \"kid\", \"kid\", \"kid\", \"king\", \"know\", \"know\", \"know\", \"know\", \"know\", \"know\", \"know\", \"know\", \"know\", \"know\", \"land\", \"land\", \"land\", \"largely\", \"laugh\", \"laugh\", \"laugh\", \"lawyer\", \"lead\", \"lead\", \"lead\", \"lead\", \"lead\", \"legal\", \"legal\", \"less\", \"less\", \"less\", \"less\", \"let\", \"let\", \"let\", \"let\", \"let\", \"let\", \"let\", \"let\", \"let\", \"level\", \"level\", \"level\", \"level\", \"level\", \"lie\", \"lie\", \"life\", \"life\", \"life\", \"life\", \"life\", \"lightly\", \"like\", \"like\", \"like\", \"like\", \"link\", \"link\", \"list\", \"list\", \"listen\", \"little\", \"little\", \"little\", \"little\", \"little\", \"little\", \"little\", \"little\", \"live\", \"live\", \"live\", \"live\", \"live\", \"live\", \"live\", \"live\", \"lonely\", \"lonely\", \"long\", \"long\", \"long\", \"long\", \"long\", \"long\", \"longer\", \"longer\", \"longer\", \"look\", \"look\", \"look\", \"look\", \"look\", \"look\", \"look\", \"loose\", \"lose\", \"lose\", \"lot\", \"lot\", \"lot\", \"lot\", \"lot\", \"lot\", \"lot\", \"lot\", \"loud\", \"love\", \"love\", \"love\", \"love\", \"love\", \"love\", \"lovely\", \"lovely\", \"loyal\", \"luckily\", \"lucky\", \"magazine\", \"major\", \"major\", \"major\", \"major\", \"make\", \"make\", \"make\", \"make\", \"make\", \"make\", \"make\", \"make\", \"make\", \"make\", \"manchester\", \"manuscript\", \"many\", \"many\", \"many\", \"many\", \"many\", \"many\", \"many\", \"many\", \"many\", \"marry\", \"mask\", \"may\", \"may\", \"may\", \"may\", \"may\", \"may\", \"may\", \"may\", \"may\", \"meal\", \"meal\", \"meal\", \"meal\", \"mean\", \"mean\", \"mean\", \"mean\", \"mean\", \"mean\", \"mean\", \"mean\", \"mean\", \"meantime\", \"measure\", \"measure\", \"mental\", \"message\", \"message\", \"message\", \"message\", \"million\", \"mind\", \"mind\", \"mind\", \"mind\", \"mind\", \"mind\", \"mindset\", \"minimise\", \"moan\", \"moment\", \"moment\", \"moment\", \"moment\", \"moment\", \"moment\", \"moment\", \"moment\", \"money\", \"money\", \"money\", \"money\", \"month\", \"month\", \"month\", \"month\", \"month\", \"mother\", \"movie\", \"movie\", \"much\", \"much\", \"much\", \"much\", \"much\", \"name\", \"name\", \"name\", \"name\", \"name\", \"nation\", \"nation\", \"nation\", \"national\", \"national\", \"national\", \"national\", \"necessarily\", \"necessary\", \"necessary\", \"necessary\", \"neck\", \"need\", \"need\", \"need\", \"need\", \"need\", \"need\", \"never\", \"never\", \"never\", \"never\", \"never\", \"never\", \"never\", \"new\", \"new\", \"new\", \"new\", \"new\", \"new\", \"new\", \"new\", \"new\", \"next\", \"next\", \"next\", \"next\", \"next\", \"next\", \"next\", \"next\", \"nice\", \"nice\", \"nice\", \"nonsense\", \"normally\", \"normally\", \"nose\", \"note\", \"note\", \"now\", \"now\", \"now\", \"now\", \"now\", \"now\", \"now\", \"number\", \"number\", \"number\", \"number\", \"number\", \"number\", \"number\", \"number\", \"offence\", \"offend\", \"operator\", \"oppose\", \"option\", \"option\", \"option\", \"organisation\", \"out\", \"out\", \"outline\", \"package\", \"pain\", \"pain\", \"pain\", \"pain\", \"pain\", \"paint\", \"parkinson\", \"part\", \"part\", \"part\", \"part\", \"part\", \"part\", \"part\", \"pass\", \"pass\", \"pass\", \"pass\", \"past\", \"past\", \"pattern\", \"payment\", \"people\", \"people\", \"people\", \"people\", \"people\", \"people\", \"people\", \"people\", \"people\", \"people\", \"person\", \"person\", \"person\", \"person\", \"person\", \"person\", \"person\", \"person\", \"place\", \"place\", \"place\", \"place\", \"place\", \"place\", \"place\", \"place\", \"place\", \"plane\", \"plane\", \"plant\", \"plant\", \"play\", \"play\", \"play\", \"play\", \"play\", \"play\", \"play\", \"player\", \"player\", \"player\", \"player\", \"player\", \"player\", \"pocket\", \"point\", \"point\", \"point\", \"point\", \"point\", \"point\", \"policy\", \"policy\", \"policy\", \"policy\", \"politic\", \"politic\", \"poll\", \"pool\", \"post\", \"post\", \"pour\", \"predict\", \"premier\", \"presence\", \"presidential\", \"pride\", \"prioritise\", \"priority\", \"priority\", \"priority\", \"probably\", \"probably\", \"probably\", \"probably\", \"probably\", \"probably\", \"problem\", \"problem\", \"problem\", \"problem\", \"process\", \"process\", \"process\", \"profound\", \"promise\", \"promise\", \"proportion\", \"propose\", \"propose\", \"protect\", \"protect\", \"protect\", \"protective\", \"protocol\", \"proud\", \"provide\", \"provide\", \"provide\", \"provide\", \"public\", \"public\", \"public\", \"public\", \"public\", \"public\", \"publicly\", \"put\", \"put\", \"put\", \"put\", \"put\", \"put\", \"put\", \"put\", \"put\", \"put\", \"quarantine\", \"quarantine\", \"quite\", \"quite\", \"race\", \"race\", \"race\", \"race\", \"racial\", \"rain\", \"rape\", \"rape\", \"rape\", \"rarely\", \"rather\", \"rather\", \"rather\", \"rather\", \"rather\", \"readiness\", \"ready\", \"ready\", \"ready\", \"ready\", \"really\", \"really\", \"really\", \"really\", \"really\", \"really\", \"really\", \"really\", \"really\", \"recipe\", \"recognition\", \"record\", \"record\", \"record\", \"record\", \"record\", \"recover\", \"recover\", \"recover\", \"referee\", \"reform\", \"refuse\", \"refuse\", \"regardless\", \"region\", \"region\", \"region\", \"relationship\", \"relationship\", \"relationship\", \"relationship\", \"relief\", \"religious\", \"rely\", \"remark\", \"reminder\", \"rent\", \"report\", \"report\", \"report\", \"report\", \"reputation\", \"request\", \"request\", \"resist\", \"restaurant\", \"restore\", \"revenue\", \"ridiculous\", \"right\", \"right\", \"right\", \"right\", \"right\", \"right\", \"right\", \"right\", \"right\", \"right\", \"risk\", \"risk\", \"risk\", \"risk\", \"risk\", \"robust\", \"role\", \"role\", \"role\", \"role\", \"role\", \"room\", \"room\", \"room\", \"ruin\", \"run\", \"run\", \"run\", \"run\", \"run\", \"s\", \"s\", \"s\", \"s\", \"s\", \"s\", \"s\", \"s\", \"s\", \"safe\", \"safe\", \"safe\", \"safely\", \"save_live\", \"say\", \"say\", \"say\", \"say\", \"say\", \"say\", \"score\", \"score\", \"scrub\", \"season\", \"season\", \"season\", \"season\", \"season\", \"season\", \"sector\", \"sector\", \"see\", \"see\", \"see\", \"see\", \"see\", \"see\", \"see\", \"see\", \"see\", \"see\", \"send\", \"send\", \"send\", \"send\", \"send\", \"sense\", \"sense\", \"sense\", \"sense\", \"sense\", \"sentence\", \"service\", \"service\", \"service\", \"severe\", \"sex\", \"sex\", \"sex\", \"sexually\", \"shell\", \"shell\", \"shocking\", \"shortage\", \"shortterm\", \"shower\", \"significant\", \"significant\", \"significantly\", \"silly\", \"simple\", \"simple\", \"simple\", \"simple\", \"skate\", \"sleep\", \"sleep\", \"sleep\", \"slip\", \"smash\", \"social\", \"social\", \"socialism\", \"solution\", \"solve\", \"someone\", \"sometimes\", \"sometimes\", \"sometimes\", \"sometimes\", \"song\", \"song\", \"song\", \"sort\", \"sort\", \"space\", \"space\", \"space\", \"span\", \"speak\", \"speak\", \"speak\", \"speak\", \"speak\", \"speak\", \"spin\", \"spin\", \"sponsor\", \"stability\", \"stable\", \"start\", \"start\", \"start\", \"start\", \"start\", \"start\", \"start\", \"start\", \"start\", \"stay\", \"stay\", \"stay_home\", \"still\", \"still\", \"still\", \"still\", \"still\", \"still\", \"still\", \"stockpile\", \"stop\", \"stop\", \"stop\", \"stop\", \"stop\", \"stop\", \"stop\", \"stream\", \"strict\", \"strictly\", \"strike\", \"strike\", \"strongly\", \"stuck\", \"student\", \"substantial\", \"sudden\", \"sudden\", \"suit\", \"suit\", \"summer\", \"summer\", \"super\", \"super\", \"support\", \"support\", \"support\", \"support\", \"support\", \"support\", \"support\", \"suppose\", \"suppose\", \"suppose\", \"suppose\", \"suppose\", \"surgery\", \"surround\", \"symptom\", \"symptom\", \"symptom\", \"symptom\", \"symptom\", \"system\", \"system\", \"system\", \"system\", \"system\", \"table\", \"table\", \"table\", \"tackle\", \"take\", \"take\", \"take\", \"take\", \"take\", \"take\", \"take\", \"take\", \"take\", \"take\", \"talk\", \"talk\", \"talk\", \"talk\", \"talk\", \"talk\", \"taste\", \"taxpayer\", \"team\", \"team\", \"team\", \"team\", \"team\", \"teen\", \"tell\", \"tell\", \"tell\", \"tell\", \"tell\", \"tell\", \"tell\", \"tell\", \"tell\", \"telly\", \"temperature\", \"temporary\", \"tend\", \"tend\", \"tension\", \"term\", \"term\", \"term\", \"terrible\", \"terrible\", \"terrible\", \"terribly\", \"terrorism\", \"test\", \"test\", \"test\", \"test\", \"test\", \"testing\", \"testing\", \"thank\", \"thank\", \"thank\", \"thank\", \"thank\", \"thankful\", \"there\", \"there\", \"there\", \"there\", \"there\", \"there\", \"there\", \"thing\", \"thing\", \"thing\", \"thing\", \"thing\", \"thing\", \"thing\", \"thing\", \"think\", \"think\", \"think\", \"think\", \"think\", \"think\", \"think\", \"think\", \"thoroughly\", \"thrill\", \"thriller\", \"through\", \"throw\", \"throw\", \"throw\", \"time\", \"time\", \"time\", \"time\", \"time\", \"time\", \"time\", \"time\", \"time\", \"time\", \"tiny\", \"toe\", \"together\", \"together\", \"together\", \"together\", \"together\", \"together\", \"together\", \"together\", \"together\", \"toilet\", \"toilet\", \"tory\", \"touch\", \"touch\", \"touch\", \"touch\", \"tough\", \"tough\", \"tough\", \"tough\", \"tough\", \"tragic\", \"train\", \"train\", \"travel\", \"travel\", \"travel\", \"travel\", \"travel\", \"treat\", \"treat\", \"treat\", \"treat\", \"trial\", \"trial\", \"trick\", \"trip\", \"trip\", \"true\", \"true\", \"true\", \"try\", \"try\", \"try\", \"try\", \"try\", \"try\", \"try\", \"try\", \"try\", \"try\", \"ultimate\", \"unhelpful\", \"uniform\", \"update\", \"upset\", \"upset\", \"upset\", \"urgent\", \"use\", \"use\", \"use\", \"use\", \"use\", \"use\", \"use\", \"use\", \"use\", \"vegetable\", \"vehicle\", \"victim\", \"victim\", \"victory\", \"victory\", \"viral\", \"virus\", \"virus\", \"virus\", \"virus\", \"virus\", \"virus\", \"virus\", \"virus\", \"visit\", \"visit\", \"vote\", \"vote\", \"vote\", \"wake\", \"wake\", \"wake\", \"walk\", \"walk\", \"want\", \"want\", \"want\", \"want\", \"want\", \"want\", \"want\", \"want\", \"want\", \"wanted\", \"way\", \"way\", \"way\", \"way\", \"way\", \"way\", \"way\", \"way\", \"way\", \"way\", \"weapon\", \"wear\", \"wear\", \"wear\", \"wear\", \"wear\", \"weather\", \"weather\", \"week\", \"week\", \"week\", \"week\", \"week\", \"week\", \"week\", \"week\", \"week\", \"week\", \"welcome\", \"welcome\", \"well\", \"well\", \"well\", \"well\", \"well\", \"well\", \"well\", \"well\", \"well\", \"well\", \"wellbee\", \"wet\", \"white\", \"white\", \"wife\", \"wife\", \"wife\", \"will\", \"will\", \"will\", \"will\", \"will\", \"will\", \"will\", \"wind\", \"wind\", \"wine\", \"wish\", \"wish\", \"wish\", \"wish\", \"woman\", \"woman\", \"woman\", \"woman\", \"woman\", \"woman\", \"woman\", \"word\", \"word\", \"word\", \"word\", \"word\", \"work\", \"work\", \"work\", \"work\", \"work\", \"work\", \"work\", \"work\", \"work\", \"worker\", \"worker\", \"worker\", \"world\", \"world\", \"world\", \"world\", \"world\", \"world\", \"world\", \"world\", \"world\", \"world\", \"worry\", \"worry\", \"worry\", \"would\", \"would\", \"would\", \"would\", \"would\", \"would\", \"would\", \"would\", \"would\", \"would\", \"wrap\", \"write\", \"write\", \"write\", \"write\", \"yard\", \"year\", \"year\", \"year\", \"year\", \"year\", \"year\", \"year\", \"year\", \"year\", \"year\", \"yet\", \"yet\", \"young\", \"young\", \"young\", \"young\", \"young\", \"young\", \"young\"]}, \"R\": 30, \"lambda.step\": 0.01, \"plot.opts\": {\"xlab\": \"PC1\", \"ylab\": \"PC2\"}, \"topic.order\": [2, 3, 10, 9, 4, 7, 5, 8, 1, 6]};\n",
              "\n",
              "function LDAvis_load_lib(url, callback){\n",
              "  var s = document.createElement('script');\n",
              "  s.src = url;\n",
              "  s.async = true;\n",
              "  s.onreadystatechange = s.onload = callback;\n",
              "  s.onerror = function(){console.warn(\"failed to load library \" + url);};\n",
              "  document.getElementsByTagName(\"head\")[0].appendChild(s);\n",
              "}\n",
              "\n",
              "if(typeof(LDAvis) !== \"undefined\"){\n",
              "   // already loaded: just create the visualization\n",
              "   !function(LDAvis){\n",
              "       new LDAvis(\"#\" + \"ldavis_el1501399914369005604526900983\", ldavis_el1501399914369005604526900983_data);\n",
              "   }(LDAvis);\n",
              "}else if(typeof define === \"function\" && define.amd){\n",
              "   // require.js is available: use it to load d3/LDAvis\n",
              "   require.config({paths: {d3: \"https://d3js.org/d3.v5\"}});\n",
              "   require([\"d3\"], function(d3){\n",
              "      window.d3 = d3;\n",
              "      LDAvis_load_lib(\"https://cdn.jsdelivr.net/gh/bmabey/pyLDAvis@3.3.1/pyLDAvis/js/ldavis.v3.0.0.js\", function(){\n",
              "        new LDAvis(\"#\" + \"ldavis_el1501399914369005604526900983\", ldavis_el1501399914369005604526900983_data);\n",
              "      });\n",
              "    });\n",
              "}else{\n",
              "    // require.js not available: dynamically load d3 & LDAvis\n",
              "    LDAvis_load_lib(\"https://d3js.org/d3.v5.js\", function(){\n",
              "         LDAvis_load_lib(\"https://cdn.jsdelivr.net/gh/bmabey/pyLDAvis@3.3.1/pyLDAvis/js/ldavis.v3.0.0.js\", function(){\n",
              "                 new LDAvis(\"#\" + \"ldavis_el1501399914369005604526900983\", ldavis_el1501399914369005604526900983_data);\n",
              "            })\n",
              "         });\n",
              "}\n",
              "</script>"
            ],
            "text/plain": [
              "PreparedData(topic_coordinates=              x         y  topics  cluster       Freq\n",
              "topic                                                \n",
              "1      0.097986  0.016556       1        1  14.380618\n",
              "2     -0.186633  0.103787       2        1  13.626066\n",
              "9      0.074376  0.016042       3        1   9.695291\n",
              "8      0.074857  0.001675       4        1   9.685600\n",
              "3      0.010271  0.029244       5        1   9.492791\n",
              "6      0.024131  0.007398       6        1   9.255179\n",
              "4      0.065078 -0.044023       7        1   9.054943\n",
              "7     -0.180785 -0.212096       8        1   8.489614\n",
              "0      0.103958 -0.068115       9        1   8.385653\n",
              "5     -0.083241  0.149532      10        1   7.934244, topic_info=      Term         Freq        Total Category  logprob  loglift\n",
              "38      go  1725.000000  1725.000000  Default  30.0000  30.0000\n",
              "149    say  1385.000000  1385.000000  Default  29.0000  29.0000\n",
              "278  think  1665.000000  1665.000000  Default  28.0000  28.0000\n",
              "196    get  1887.000000  1887.000000  Default  27.0000  27.0000\n",
              "62       s  1992.000000  1992.000000  Default  26.0000  26.0000\n",
              "..     ...          ...          ...      ...      ...      ...\n",
              "216   help    83.763150   509.302803  Topic10  -5.2914   0.7289\n",
              "112  could    94.967747   959.324420  Topic10  -5.1658   0.2213\n",
              "207   take    94.892772  1116.766190  Topic10  -5.1666   0.0685\n",
              "102  would    95.157709  1644.589432  Topic10  -5.1638  -0.3157\n",
              "617   feel    78.806057   926.972050  Topic10  -5.3524   0.0690\n",
              "\n",
              "[828 rows x 6 columns], token_table=      Topic      Freq   Term\n",
              "term                        \n",
              "8082     10  0.948315   a.m.\n",
              "103       1  0.184821   able\n",
              "103       5  0.063731   able\n",
              "103       6  0.025493   able\n",
              "103       7  0.057358   able\n",
              "...     ...       ...    ...\n",
              "377       4  0.029307  young\n",
              "377       5  0.121414  young\n",
              "377       6  0.079547  young\n",
              "377       9  0.096294  young\n",
              "377      10  0.058614  young\n",
              "\n",
              "[1896 rows x 3 columns], R=30, lambda_step=0.01, plot_opts={'xlab': 'PC1', 'ylab': 'PC2'}, topic_order=[2, 3, 10, 9, 4, 7, 5, 8, 1, 6])"
            ]
          },
          "metadata": {},
          "execution_count": 115
        }
      ]
    },
    {
      "cell_type": "code",
      "metadata": {
        "colab": {
          "base_uri": "https://localhost:8080/"
        },
        "id": "QFrtilNnaWaV",
        "outputId": "0e87423f-4c44-4be2-b590-7ccd19c251a1"
      },
      "source": [
        "from gensim.test.utils import datapath\n",
        "\n",
        "# Save model to disk.\n",
        "temp_file = datapath(\"ldamodel\")\n",
        "optimodel.save(temp_file)"
      ],
      "execution_count": 43,
      "outputs": [
        {
          "output_type": "stream",
          "name": "stderr",
          "text": [
            "/usr/local/lib/python3.7/dist-packages/smart_open/smart_open_lib.py:494: DeprecationWarning: This function is deprecated.  See https://github.com/RaRe-Technologies/smart_open/blob/develop/MIGRATING_FROM_OLDER_VERSIONS.rst for more information\n",
            "  warnings.warn(message, category=DeprecationWarning)\n",
            "/usr/local/lib/python3.7/dist-packages/smart_open/smart_open_lib.py:494: DeprecationWarning: This function is deprecated.  See https://github.com/RaRe-Technologies/smart_open/blob/develop/MIGRATING_FROM_OLDER_VERSIONS.rst for more information\n",
            "  warnings.warn(message, category=DeprecationWarning)\n",
            "/usr/local/lib/python3.7/dist-packages/smart_open/smart_open_lib.py:494: DeprecationWarning: This function is deprecated.  See https://github.com/RaRe-Technologies/smart_open/blob/develop/MIGRATING_FROM_OLDER_VERSIONS.rst for more information\n",
            "  warnings.warn(message, category=DeprecationWarning)\n"
          ]
        }
      ]
    },
    {
      "cell_type": "markdown",
      "metadata": {
        "id": "6gnJrEIpMpWh"
      },
      "source": [
        "We can see it is more sparse, so better than before."
      ]
    },
    {
      "cell_type": "markdown",
      "metadata": {
        "id": "6G9fVAbsYHRO"
      },
      "source": [
        "Now let us see which topic is dominant for each quote :\n"
      ]
    },
    {
      "cell_type": "code",
      "metadata": {
        "id": "zEqNFLAaMjEs"
      },
      "source": [
        "def take_second(elem):\n",
        "    return elem[1]\n",
        "\n",
        "def format_topics_sentences(ldamodel=lda, corpus=doc_term_matrix, texts=doc_clean):\n",
        "    # Init output\n",
        "    sent_topics_df = pd.DataFrame()\n",
        "\n",
        "    # Get main topic in each document\n",
        "    for i, row in enumerate(ldamodel[corpus]):\n",
        "        row = sorted(row[0], key=take_second, reverse=True)        \n",
        "        # Get the Dominant topic, Perc Contribution and Keywords for each document\n",
        "        for j, (topic_num, prop_topic) in enumerate(row):\n",
        "            if j == 0:  # => dominant topic\n",
        "                wp = ldamodel.show_topic(topic_num)\n",
        "                topic_keywords = \", \".join([word for word, prop in wp])\n",
        "                sent_topics_df = sent_topics_df.append(pd.Series([int(topic_num), round(prop_topic,4), topic_keywords]), ignore_index=True)\n",
        "            else:\n",
        "                break\n",
        "    sent_topics_df.columns = ['Dominant_Topic', 'Perc_Contribution', 'Topic_Keywords']\n",
        "\n",
        "    # Add original text to the end of the output\n",
        "    contents = pd.Series(texts)\n",
        "    sent_topics_df = pd.concat([sent_topics_df, contents], axis=1)\n",
        "    return(sent_topics_df)\n",
        "\n"
      ],
      "execution_count": 116,
      "outputs": []
    },
    {
      "cell_type": "code",
      "metadata": {
        "id": "_6BnkDv4Xy0O"
      },
      "source": [
        "df_topic_sents_keywords = format_topics_sentences(ldamodel=lda, corpus=doc_term_matrix, texts=doc_clean)\n",
        "\n",
        "# Format\n",
        "df_dominant_topic = df_topic_sents_keywords.reset_index()\n",
        "df_dominant_topic.columns = ['Document_No', 'Dominant_Topic', 'Topic_Perc_Contrib', 'Keywords', 'Text']"
      ],
      "execution_count": 117,
      "outputs": []
    },
    {
      "cell_type": "code",
      "metadata": {
        "colab": {
          "base_uri": "https://localhost:8080/"
        },
        "id": "V4HvjtYXYOqL",
        "outputId": "bfd6a896-ba97-4c68-d2db-7a1c4242d696"
      },
      "source": [
        "# Show random samples\n",
        "for i in range(460,465):\n",
        "  print('Quote : ' +doc_complete[i])\n",
        "  print('topic keywords : ' + df_dominant_topic.Keywords[i] )\n",
        "  print('\\n')\n"
      ],
      "execution_count": 118,
      "outputs": [
        {
          "output_type": "stream",
          "name": "stdout",
          "text": [
            "Quote : What I sent was NSW-based advice, based on information from our lawyers. It wasnt a legal thing given by myself,\n",
            "topic keywords : would, love, ive, never, thought, always, much, like, bit, think\n",
            "\n",
            "\n",
            "Quote : A guy meeting Polly... I dont just do that and you met mum and everything.\n",
            "topic keywords : im, get, going, go, back, could, people, cant, time, it\n",
            "\n",
            "\n",
            "Quote : But hopefully we have a full set to pick from; that would be great. We have options. You might hear the five seamer option come out again but Dom Bess has done himself absolutely no harm the way he bowled down in PE. Its great to see a spinner come into our team and bowl as well as he did.\n",
            "topic keywords : people, need, want, us, dont, home, everyone, come, stay, social\n",
            "\n",
            "\n",
            "Quote : But I appreciate that this [ curfews ] is something we need to keep under review.\n",
            "topic keywords : would, love, ive, never, thought, always, much, like, bit, think\n",
            "\n",
            "\n",
            "Quote : Contrary to Prince Andrews very public offer to cooperate with our investigation into Epsteins co-conspirators, an offer that was conveyed through press release, Prince Andrew has now completely shut the door on voluntary cooperation and our office is considering its options.\n",
            "topic keywords : people, need, want, us, dont, home, everyone, come, stay, social\n",
            "\n",
            "\n"
          ]
        }
      ]
    },
    {
      "cell_type": "markdown",
      "metadata": {
        "id": "wEAsUCSRYxzf"
      },
      "source": [
        "The most important quote in each topic :"
      ]
    },
    {
      "cell_type": "code",
      "metadata": {
        "colab": {
          "base_uri": "https://localhost:8080/",
          "height": 359
        },
        "id": "tKm2fijMYwkN",
        "outputId": "40e3bb74-bb73-47a9-823d-fb05a39bb8fb"
      },
      "source": [
        "# Group top 5 sentences under each topic\n",
        "sent_topics_sorteddf_mallet = pd.DataFrame()\n",
        "\n",
        "sent_topics_outdf_grpd = df_topic_sents_keywords.groupby('Dominant_Topic')\n",
        "\n",
        "for i, grp in sent_topics_outdf_grpd:\n",
        "    sent_topics_sorteddf_mallet = pd.concat([sent_topics_sorteddf_mallet, \n",
        "                                             grp.sort_values(['Perc_Contribution'], ascending=[0]).head(1)], \n",
        "                                            axis=0)\n",
        "\n",
        "# Reset Index    \n",
        "sent_topics_sorteddf_mallet.reset_index(drop=True, inplace=True)\n",
        "\n",
        "# Format\n",
        "sent_topics_sorteddf_mallet.columns = ['Topic_Num', \"Topic_Perc_Contrib\", \"Keywords\", \"Text\"]\n",
        "\n",
        "# Show\n",
        "sent_topics_sorteddf_mallet.head(10)"
      ],
      "execution_count": 121,
      "outputs": [
        {
          "output_type": "execute_result",
          "data": {
            "text/html": [
              "<div>\n",
              "<style scoped>\n",
              "    .dataframe tbody tr th:only-of-type {\n",
              "        vertical-align: middle;\n",
              "    }\n",
              "\n",
              "    .dataframe tbody tr th {\n",
              "        vertical-align: top;\n",
              "    }\n",
              "\n",
              "    .dataframe thead th {\n",
              "        text-align: right;\n",
              "    }\n",
              "</style>\n",
              "<table border=\"1\" class=\"dataframe\">\n",
              "  <thead>\n",
              "    <tr style=\"text-align: right;\">\n",
              "      <th></th>\n",
              "      <th>Topic_Num</th>\n",
              "      <th>Topic_Perc_Contrib</th>\n",
              "      <th>Keywords</th>\n",
              "      <th>Text</th>\n",
              "    </tr>\n",
              "  </thead>\n",
              "  <tbody>\n",
              "    <tr>\n",
              "      <th>0</th>\n",
              "      <td>0.0</td>\n",
              "      <td>0.8690</td>\n",
              "      <td>people, health, many, men, future, news, world...</td>\n",
              "      <td>[know, live, inner, conflict, long, time]</td>\n",
              "    </tr>\n",
              "    <tr>\n",
              "      <th>1</th>\n",
              "      <td>1.0</td>\n",
              "      <td>0.8690</td>\n",
              "      <td>got, like, hes, new, ive, im, life, well, put, it</td>\n",
              "      <td>[write, tell, never, say, era, be]</td>\n",
              "    </tr>\n",
              "    <tr>\n",
              "      <th>2</th>\n",
              "      <td>2.0</td>\n",
              "      <td>0.8690</td>\n",
              "      <td>like, something, really, im, people, things, g...</td>\n",
              "      <td>[s, go, say, mother, say, life]</td>\n",
              "    </tr>\n",
              "    <tr>\n",
              "      <th>3</th>\n",
              "      <td>3.0</td>\n",
              "      <td>0.8690</td>\n",
              "      <td>people, need, want, us, dont, home, everyone, ...</td>\n",
              "      <td>[garin, important, voice, indonesian, cultural...</td>\n",
              "    </tr>\n",
              "    <tr>\n",
              "      <th>4</th>\n",
              "      <td>4.0</td>\n",
              "      <td>0.8690</td>\n",
              "      <td>uk, system, well, weve, many, virus, coronavir...</td>\n",
              "      <td>[try, look, bright, side, thing, great]</td>\n",
              "    </tr>\n",
              "    <tr>\n",
              "      <th>5</th>\n",
              "      <td>5.0</td>\n",
              "      <td>0.9295</td>\n",
              "      <td>really, it, im, like, got, actually, day, stil...</td>\n",
              "      <td>[admit, nearly, phone, book, phone, see, go, t...</td>\n",
              "    </tr>\n",
              "    <tr>\n",
              "      <th>6</th>\n",
              "      <td>6.0</td>\n",
              "      <td>0.8854</td>\n",
              "      <td>dont, think, people, going, want, know, thats,...</td>\n",
              "      <td>[have, get, confidence, bridget, have, clear, ...</td>\n",
              "    </tr>\n",
              "    <tr>\n",
              "      <th>7</th>\n",
              "      <td>7.0</td>\n",
              "      <td>0.8854</td>\n",
              "      <td>im, get, going, go, back, could, people, cant,...</td>\n",
              "      <td>[experience, also, last, chance, get, well, me...</td>\n",
              "    </tr>\n",
              "    <tr>\n",
              "      <th>8</th>\n",
              "      <td>8.0</td>\n",
              "      <td>0.8981</td>\n",
              "      <td>would, love, ive, never, thought, always, much...</td>\n",
              "      <td>[even, brain, dead, zombie, respect, good, fri...</td>\n",
              "    </tr>\n",
              "    <tr>\n",
              "      <th>9</th>\n",
              "      <td>9.0</td>\n",
              "      <td>0.8981</td>\n",
              "      <td>government, health, public, us, support, minis...</td>\n",
              "      <td>[know, want, die, know, would, want, leave, ch...</td>\n",
              "    </tr>\n",
              "  </tbody>\n",
              "</table>\n",
              "</div>"
            ],
            "text/plain": [
              "   Topic_Num  ...                                               Text\n",
              "0        0.0  ...          [know, live, inner, conflict, long, time]\n",
              "1        1.0  ...                 [write, tell, never, say, era, be]\n",
              "2        2.0  ...                    [s, go, say, mother, say, life]\n",
              "3        3.0  ...  [garin, important, voice, indonesian, cultural...\n",
              "4        4.0  ...            [try, look, bright, side, thing, great]\n",
              "5        5.0  ...  [admit, nearly, phone, book, phone, see, go, t...\n",
              "6        6.0  ...  [have, get, confidence, bridget, have, clear, ...\n",
              "7        7.0  ...  [experience, also, last, chance, get, well, me...\n",
              "8        8.0  ...  [even, brain, dead, zombie, respect, good, fri...\n",
              "9        9.0  ...  [know, want, die, know, would, want, leave, ch...\n",
              "\n",
              "[10 rows x 4 columns]"
            ]
          },
          "metadata": {},
          "execution_count": 121
        }
      ]
    },
    {
      "cell_type": "code",
      "metadata": {
        "colab": {
          "base_uri": "https://localhost:8080/"
        },
        "id": "a7W9CpOIZK8p",
        "outputId": "8cbeaeda-a4fd-4bd0-ed40-cfdb749599b3"
      },
      "source": [
        "for i in range(0,10):\n",
        "  print('keywords : ' + sent_topics_sorteddf_mallet.Keywords[i])\n",
        "  print('text : ' + str(sent_topics_sorteddf_mallet.Text[i]))\n",
        "  print('\\n')"
      ],
      "execution_count": 122,
      "outputs": [
        {
          "output_type": "stream",
          "name": "stdout",
          "text": [
            "keywords : people, health, many, men, future, news, world, black, work, first\n",
            "text : ['know', 'live', 'inner', 'conflict', 'long', 'time']\n",
            "\n",
            "\n",
            "keywords : got, like, hes, new, ive, im, life, well, put, it\n",
            "text : ['write', 'tell', 'never', 'say', 'era', 'be']\n",
            "\n",
            "\n",
            "keywords : like, something, really, im, people, things, get, it, feel, youre\n",
            "text : ['s', 'go', 'say', 'mother', 'say', 'life']\n",
            "\n",
            "\n",
            "keywords : people, need, want, us, dont, home, everyone, come, stay, social\n",
            "text : ['garin', 'important', 'voice', 'indonesian', 'cultural', 'life']\n",
            "\n",
            "\n",
            "keywords : uk, system, well, weve, many, virus, coronavirus, risk, us, first\n",
            "text : ['try', 'look', 'bright', 'side', 'thing', 'great']\n",
            "\n",
            "\n",
            "keywords : really, it, im, like, got, actually, day, still, one, ive\n",
            "text : ['admit', 'nearly', 'phone', 'book', 'phone', 'see', 'go', 'think', 'people', 'genuinely', 'think', 'go']\n",
            "\n",
            "\n",
            "keywords : dont, think, people, going, want, know, thats, like, one, thing\n",
            "text : ['have', 'get', 'confidence', 'bridget', 'have', 'clear', 'day']\n",
            "\n",
            "\n",
            "keywords : im, get, going, go, back, could, people, cant, time, it\n",
            "text : ['experience', 'also', 'last', 'chance', 'get', 'well', 'medal']\n",
            "\n",
            "\n",
            "keywords : would, love, ive, never, thought, always, much, like, bit, think\n",
            "text : ['even', 'brain', 'dead', 'zombie', 'respect', 'good', 'friend', 'zombie']\n",
            "\n",
            "\n",
            "keywords : government, health, public, us, support, minister, clear, possible, australia, continue\n",
            "text : ['know', 'want', 'die', 'know', 'would', 'want', 'leave', 'child']\n",
            "\n",
            "\n"
          ]
        }
      ]
    },
    {
      "cell_type": "markdown",
      "metadata": {
        "id": "8zvOsk1i7_Po"
      },
      "source": [
        "# Prediction of topics for each quote"
      ]
    },
    {
      "cell_type": "code",
      "metadata": {
        "id": "doS6DI4XBVhR"
      },
      "source": [
        "def get_topics_keywords_dict(ldamodel, num_topics):\n",
        "    topic_dict = {}\n",
        "    for i in range(num_topics):\n",
        "        topic_dict[i] = [word[0] for word in ldamodel.show_topic(i)]\n",
        "    return topic_dict\n"
      ],
      "execution_count": 134,
      "outputs": []
    },
    {
      "cell_type": "code",
      "metadata": {
        "id": "ooslfWJMBZl0"
      },
      "source": [
        "keywords_dict = get_topics_keywords_dict(optimodel, 10)\n",
        "keywords_dict"
      ],
      "execution_count": null,
      "outputs": []
    },
    {
      "cell_type": "code",
      "metadata": {
        "id": "jG4eefbsBkU4"
      },
      "source": [
        "keywords_dict_names = keywords_dict.copy()"
      ],
      "execution_count": 138,
      "outputs": []
    },
    {
      "cell_type": "code",
      "metadata": {
        "id": "dBStpOcDBmPj"
      },
      "source": [
        "keywords_dict_names[\"topic0\"] = keywords_dict_names.pop(0)\n",
        "keywords_dict_names[\"topic1\"] = keywords_dict_names.pop(1)\n",
        "keywords_dict_names[\"topic2\"] = keywords_dict_names.pop(2)\n",
        "keywords_dict_names[\"topic3\"] = keywords_dict_names.pop(3)\n",
        "keywords_dict_names[\"topic4\"] = keywords_dict_names.pop(4)\n",
        "keywords_dict_names[\"topic5\"] = keywords_dict_names.pop(5)\n",
        "keywords_dict_names[\"topic6\"] = keywords_dict_names.pop(6)\n",
        "keywords_dict_names[\"topic7\"] = keywords_dict_names.pop(7)\n",
        "keywords_dict_names[\"topic8\"] = keywords_dict_names.pop(8)\n",
        "keywords_dict_names[\"topic9\"] = keywords_dict_names.pop(9)"
      ],
      "execution_count": 139,
      "outputs": []
    },
    {
      "cell_type": "code",
      "metadata": {
        "id": "STOt4Su396FB"
      },
      "source": [
        "topics = { 0 : 'topic0', 1: 'topic1', 2: 'topic2', 3:'topic3', 4:'topic4', 5:'topic5', 6:'topic6', 7:'topic7', 8:'topic', 9:'topic9'}"
      ],
      "execution_count": 140,
      "outputs": []
    },
    {
      "cell_type": "code",
      "metadata": {
        "id": "cLdeIDy-AvKW"
      },
      "source": [
        "def append_topic(ldamodel, corpus, quotes, kwdict, topics):\n",
        "    quotes_topics_df = pd.DataFrame()\n",
        "    \n",
        "    for i, row in enumerate(ldamodel[corpus]):\n",
        "        sorted_topics = sorted(row[0], key=lambda x: - x[1])\n",
        "        top_topic, top_topic_proba = sorted_topics[0]\n",
        "        topic1_name = topics.get(top_topic)\n",
        "        topic1_keywords = ','.join(kwdict.get(top_topic))\n",
        "        \n",
        "        new_row = [int(top_topic), topic1_name, round(top_topic_proba,2), topic1_keywords]\n",
        "        quotes_topics_df = quotes_topics_df.append(pd.Series(new_row), ignore_index=True)\n",
        "\n",
        "    quotes_topics_df.columns = ['Topic_num', 'Topic_Name', 'Topic_Contrib', 'Topic_Keywords']\n",
        "    \n",
        "    return quotes_topics_df\n",
        "\n"
      ],
      "execution_count": 195,
      "outputs": []
    },
    {
      "cell_type": "code",
      "metadata": {
        "colab": {
          "base_uri": "https://localhost:8080/",
          "height": 204
        },
        "id": "RozYWHspC-4I",
        "outputId": "24efa69c-263f-4224-9dd7-83d776f72cba"
      },
      "source": [
        "all_quotes_topics_df = append_topic(ldamodel=optimodel, \n",
        "                                      corpus=doc_term_matrix, \n",
        "                                      quotes=doc_clean, \n",
        "                                      kwdict=keywords_dict,\n",
        "                                      topics = topics)\n",
        "all_quotes_topics_df.head()"
      ],
      "execution_count": 194,
      "outputs": [
        {
          "output_type": "execute_result",
          "data": {
            "text/html": [
              "<div>\n",
              "<style scoped>\n",
              "    .dataframe tbody tr th:only-of-type {\n",
              "        vertical-align: middle;\n",
              "    }\n",
              "\n",
              "    .dataframe tbody tr th {\n",
              "        vertical-align: top;\n",
              "    }\n",
              "\n",
              "    .dataframe thead th {\n",
              "        text-align: right;\n",
              "    }\n",
              "</style>\n",
              "<table border=\"1\" class=\"dataframe\">\n",
              "  <thead>\n",
              "    <tr style=\"text-align: right;\">\n",
              "      <th></th>\n",
              "      <th>Topic</th>\n",
              "      <th>Topic_Name</th>\n",
              "      <th>Topic_Contrib</th>\n",
              "      <th>Topic_Keywords</th>\n",
              "      <th>Quote_id</th>\n",
              "    </tr>\n",
              "  </thead>\n",
              "  <tbody>\n",
              "    <tr>\n",
              "      <th>0</th>\n",
              "      <td>2.0</td>\n",
              "      <td>topic2</td>\n",
              "      <td>0.52</td>\n",
              "      <td>people,need,help,take,support,can,government,p...</td>\n",
              "      <td>0</td>\n",
              "    </tr>\n",
              "    <tr>\n",
              "      <th>1</th>\n",
              "      <td>5.0</td>\n",
              "      <td>topic5</td>\n",
              "      <td>0.47</td>\n",
              "      <td>want,stay,people,test,away,home,year,tell,come...</td>\n",
              "      <td>1</td>\n",
              "    </tr>\n",
              "    <tr>\n",
              "      <th>2</th>\n",
              "      <td>0.0</td>\n",
              "      <td>topic0</td>\n",
              "      <td>0.43</td>\n",
              "      <td>get,play,think,lose,big,have,great,would,s,want</td>\n",
              "      <td>2</td>\n",
              "    </tr>\n",
              "    <tr>\n",
              "      <th>3</th>\n",
              "      <td>8.0</td>\n",
              "      <td>topic</td>\n",
              "      <td>0.50</td>\n",
              "      <td>go,really,s,thing,make,say,team,think,come,do</td>\n",
              "      <td>3</td>\n",
              "    </tr>\n",
              "    <tr>\n",
              "      <th>4</th>\n",
              "      <td>2.0</td>\n",
              "      <td>topic2</td>\n",
              "      <td>0.49</td>\n",
              "      <td>people,need,help,take,support,can,government,p...</td>\n",
              "      <td>4</td>\n",
              "    </tr>\n",
              "  </tbody>\n",
              "</table>\n",
              "</div>"
            ],
            "text/plain": [
              "   Topic  ... Quote_id\n",
              "0    2.0  ...        0\n",
              "1    5.0  ...        1\n",
              "2    0.0  ...        2\n",
              "3    8.0  ...        3\n",
              "4    2.0  ...        4\n",
              "\n",
              "[5 rows x 5 columns]"
            ]
          },
          "metadata": {},
          "execution_count": 194
        }
      ]
    },
    {
      "cell_type": "code",
      "metadata": {
        "colab": {
          "base_uri": "https://localhost:8080/",
          "height": 598
        },
        "id": "TFmCustQC4Yo",
        "outputId": "f386a8f6-9d92-4622-ca15-e00978e83877"
      },
      "source": [
        "final_quotes_2020 = pd.concat([quotes_df,all_quotes_topics_df], axis=1)\n",
        "final_quotes_2020.head()"
      ],
      "execution_count": 198,
      "outputs": [
        {
          "output_type": "execute_result",
          "data": {
            "text/html": [
              "<div>\n",
              "<style scoped>\n",
              "    .dataframe tbody tr th:only-of-type {\n",
              "        vertical-align: middle;\n",
              "    }\n",
              "\n",
              "    .dataframe tbody tr th {\n",
              "        vertical-align: top;\n",
              "    }\n",
              "\n",
              "    .dataframe thead th {\n",
              "        text-align: right;\n",
              "    }\n",
              "</style>\n",
              "<table border=\"1\" class=\"dataframe\">\n",
              "  <thead>\n",
              "    <tr style=\"text-align: right;\">\n",
              "      <th></th>\n",
              "      <th>quoteID</th>\n",
              "      <th>quotation</th>\n",
              "      <th>speaker</th>\n",
              "      <th>gender</th>\n",
              "      <th>nationality</th>\n",
              "      <th>occupation</th>\n",
              "      <th>qid</th>\n",
              "      <th>date</th>\n",
              "      <th>numOccurrences</th>\n",
              "      <th>urls</th>\n",
              "      <th>newspapers</th>\n",
              "      <th>Topic</th>\n",
              "      <th>Topic_Name</th>\n",
              "      <th>Topic_Contrib</th>\n",
              "      <th>Topic_Keywords</th>\n",
              "      <th>Quote_id</th>\n",
              "    </tr>\n",
              "  </thead>\n",
              "  <tbody>\n",
              "    <tr>\n",
              "      <th>0</th>\n",
              "      <td>2020-01-31-008580</td>\n",
              "      <td>As you reach or have reached the apex of your ...</td>\n",
              "      <td>Keyon Dooling</td>\n",
              "      <td>[male]</td>\n",
              "      <td>[United States of America]</td>\n",
              "      <td>[basketball player]</td>\n",
              "      <td>Q304349</td>\n",
              "      <td>2020-01-31 19:07:55</td>\n",
              "      <td>1</td>\n",
              "      <td>[https://www.theguardian.com/sport/2020/jan/31...</td>\n",
              "      <td>[The Guardian]</td>\n",
              "      <td>2.0</td>\n",
              "      <td>topic2</td>\n",
              "      <td>0.52</td>\n",
              "      <td>people,need,help,take,support,can,government,p...</td>\n",
              "      <td>0</td>\n",
              "    </tr>\n",
              "    <tr>\n",
              "      <th>1</th>\n",
              "      <td>2020-01-20-006469</td>\n",
              "      <td>At the same time we want to remain friends wit...</td>\n",
              "      <td>Tim Martin</td>\n",
              "      <td>[male]</td>\n",
              "      <td>None</td>\n",
              "      <td>[American football player]</td>\n",
              "      <td>Q20670776</td>\n",
              "      <td>2020-01-20 09:08:24</td>\n",
              "      <td>4</td>\n",
              "      <td>[https://www.dailystar.co.uk/real-life/wethers...</td>\n",
              "      <td>[The Sun]</td>\n",
              "      <td>5.0</td>\n",
              "      <td>topic5</td>\n",
              "      <td>0.47</td>\n",
              "      <td>want,stay,people,test,away,home,year,tell,come...</td>\n",
              "      <td>1</td>\n",
              "    </tr>\n",
              "    <tr>\n",
              "      <th>2</th>\n",
              "      <td>2020-04-03-006933</td>\n",
              "      <td>Been home-schooling a 6-year-old and 8-year-ol...</td>\n",
              "      <td>Shonda Rhimes</td>\n",
              "      <td>[female]</td>\n",
              "      <td>[United States of America]</td>\n",
              "      <td>[film director, screenwriter, writer, film pro...</td>\n",
              "      <td>Q242329</td>\n",
              "      <td>2020-04-03 16:00:00</td>\n",
              "      <td>1</td>\n",
              "      <td>[http://www.thetimes.co.uk/edition/magazine/ca...</td>\n",
              "      <td>[The Times]</td>\n",
              "      <td>0.0</td>\n",
              "      <td>topic0</td>\n",
              "      <td>0.43</td>\n",
              "      <td>get,play,think,lose,big,have,great,would,s,want</td>\n",
              "      <td>2</td>\n",
              "    </tr>\n",
              "    <tr>\n",
              "      <th>3</th>\n",
              "      <td>2020-04-15-018814</td>\n",
              "      <td>I am now in agreement that we should move forw...</td>\n",
              "      <td>David Boies</td>\n",
              "      <td>[male]</td>\n",
              "      <td>[United States of America]</td>\n",
              "      <td>[lawyer]</td>\n",
              "      <td>Q5231515</td>\n",
              "      <td>2020-04-15 15:46:38</td>\n",
              "      <td>1</td>\n",
              "      <td>[https://www.thesun.co.uk/news/11403669/jeffre...</td>\n",
              "      <td>[The Sun]</td>\n",
              "      <td>8.0</td>\n",
              "      <td>topic</td>\n",
              "      <td>0.50</td>\n",
              "      <td>go,really,s,thing,make,say,team,think,come,do</td>\n",
              "      <td>3</td>\n",
              "    </tr>\n",
              "    <tr>\n",
              "      <th>4</th>\n",
              "      <td>2020-02-16-014286</td>\n",
              "      <td>I don't want to make a career out of [ remakin...</td>\n",
              "      <td>Ramiro Gomez</td>\n",
              "      <td>[male]</td>\n",
              "      <td>None</td>\n",
              "      <td>[artist]</td>\n",
              "      <td>Q30693403</td>\n",
              "      <td>2020-02-16 15:00:32</td>\n",
              "      <td>1</td>\n",
              "      <td>[https://www.theguardian.com/artanddesign/2020...</td>\n",
              "      <td>[The Guardian]</td>\n",
              "      <td>2.0</td>\n",
              "      <td>topic2</td>\n",
              "      <td>0.49</td>\n",
              "      <td>people,need,help,take,support,can,government,p...</td>\n",
              "      <td>4</td>\n",
              "    </tr>\n",
              "  </tbody>\n",
              "</table>\n",
              "</div>"
            ],
            "text/plain": [
              "             quoteID  ... Quote_id\n",
              "0  2020-01-31-008580  ...        0\n",
              "1  2020-01-20-006469  ...        1\n",
              "2  2020-04-03-006933  ...        2\n",
              "3  2020-04-15-018814  ...        3\n",
              "4  2020-02-16-014286  ...        4\n",
              "\n",
              "[5 rows x 16 columns]"
            ]
          },
          "metadata": {},
          "execution_count": 198
        }
      ]
    },
    {
      "cell_type": "code",
      "metadata": {
        "id": "ICej113KL6Ty"
      },
      "source": [
        "pd.to_pickle(final_quotes_2020, 'quotes_2020_topics')"
      ],
      "execution_count": 200,
      "outputs": []
    },
    {
      "cell_type": "code",
      "metadata": {
        "id": "25bWgNQwMXdo"
      },
      "source": [
        ""
      ],
      "execution_count": null,
      "outputs": []
    }
  ]
}
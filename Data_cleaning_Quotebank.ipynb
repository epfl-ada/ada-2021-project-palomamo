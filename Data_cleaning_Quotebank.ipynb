{
  "nbformat": 4,
  "nbformat_minor": 0,
  "metadata": {
    "colab": {
      "name": "Data_cleaning_Quotebank.ipynb",
      "provenance": [],
      "collapsed_sections": [],
      "authorship_tag": "ABX9TyPI7hx98pL4kXWZBUMUPq+H",
      "include_colab_link": true
    },
    "kernelspec": {
      "name": "python3",
      "display_name": "Python 3"
    },
    "language_info": {
      "name": "python"
    }
  },
  "cells": [
    {
      "cell_type": "markdown",
      "metadata": {
        "id": "view-in-github",
        "colab_type": "text"
      },
      "source": [
        "<a href=\"https://colab.research.google.com/github/morwald/ada_project/blob/main/Data_cleaning_Quotebank.ipynb\" target=\"_parent\"><img src=\"https://colab.research.google.com/assets/colab-badge.svg\" alt=\"Open In Colab\"/></a>"
      ]
    },
    {
      "cell_type": "markdown",
      "metadata": {
        "id": "HSIhFuQ3-Jvg"
      },
      "source": [
        "#Quotebank dataset cleaning"
      ]
    },
    {
      "cell_type": "markdown",
      "metadata": {
        "id": "h7Zd3cD180Uh"
      },
      "source": [
        "## Plan\n",
        "*   Descriptive statistics\n",
        "*   types\n",
        "*   Missing data\n",
        "*   distribution (histograms)\n",
        "*   outliers\n",
        "*   duplicates\n",
        "*  inconsistent data (wrong format etc)\n",
        "*   correlation between parameters\n",
        "*  filter columns that we don't need\n",
        "*  maybe create additional ones\n",
        "*  standardize ?"
      ]
    },
    {
      "cell_type": "markdown",
      "metadata": {
        "id": "0b28aYLY58Jm"
      },
      "source": [
        "## Imports"
      ]
    },
    {
      "cell_type": "code",
      "metadata": {
        "colab": {
          "base_uri": "https://localhost:8080/"
        },
        "id": "f0A9_baT6AkU",
        "outputId": "5626e246-7b5d-4082-c71c-d892821e6eaa"
      },
      "source": [
        "# Import epfl google drive!\n",
        "from google.colab import drive\n",
        "drive.mount('/content/drive', force_remount=True)"
      ],
      "execution_count": 5,
      "outputs": [
        {
          "output_type": "stream",
          "name": "stdout",
          "text": [
            "Mounted at /content/drive\n"
          ]
        }
      ]
    },
    {
      "cell_type": "code",
      "metadata": {
        "id": "i_on5v3Z6FP4"
      },
      "source": [
        "import pandas as pd\n",
        "import bz2\n",
        "import json"
      ],
      "execution_count": 6,
      "outputs": []
    },
    {
      "cell_type": "code",
      "metadata": {
        "id": "mGdr9sOH9Dvr"
      },
      "source": [
        "path_to_quotebank = '/content/drive/Shareddrives/ADA-project/Quotebank/' "
      ],
      "execution_count": 7,
      "outputs": []
    },
    {
      "cell_type": "markdown",
      "metadata": {
        "id": "se2f9rC-8Ti7"
      },
      "source": [
        "## Example of use"
      ]
    },
    {
      "cell_type": "code",
      "metadata": {
        "id": "5T7_3GED6X1o"
      },
      "source": [
        "path_to_file = path_to_quotebank+'quotes-2020.json.bz2' \n",
        "path_to_out = '/content/quotes-2020-domains.json.bz2'\n",
        "\n",
        "with bz2.open(path_to_file, 'rb') as s_file:\n",
        "    with bz2.open(path_to_out, 'wb') as d_file:\n",
        "        for instance in s_file:\n",
        "            instance = json.loads(instance) # loading a sample\n",
        "            urls = instance['urls'] # extracting list of links\n",
        "            domains = []\n",
        "            for url in urls:\n",
        "                tld = get_domain(url)\n",
        "                domains.append(tld)\n",
        "            instance['domains'] = domains # updating the sample with domain name\n",
        "            d_file.write((json.dumps(instance)+'\\n').encode('utf-8')) # writing in the new file"
      ],
      "execution_count": null,
      "outputs": []
    },
    {
      "cell_type": "markdown",
      "metadata": {
        "id": "Bbh_zK_O-ESc"
      },
      "source": [
        "## Descriptive statistics"
      ]
    },
    {
      "cell_type": "code",
      "metadata": {
        "id": "GjTk3Z0384qJ"
      },
      "source": [
        ""
      ],
      "execution_count": null,
      "outputs": []
    }
  ]
}
{
  "nbformat": 4,
  "nbformat_minor": 0,
  "metadata": {
    "colab": {
      "name": "Data_cleaning_Quotebank.ipynb",
      "provenance": [],
      "collapsed_sections": [],
      "include_colab_link": true
    },
    "kernelspec": {
      "name": "python3",
      "display_name": "Python 3"
    },
    "language_info": {
      "name": "python"
    }
  },
  "cells": [
    {
      "cell_type": "markdown",
      "metadata": {
        "id": "view-in-github",
        "colab_type": "text"
      },
      "source": [
        "<a href=\"https://colab.research.google.com/github/morwald/ada_project/blob/main/Data_cleaning_Quotebank.ipynb\" target=\"_parent\"><img src=\"https://colab.research.google.com/assets/colab-badge.svg\" alt=\"Open In Colab\"/></a>"
      ]
    },
    {
      "cell_type": "markdown",
      "metadata": {
        "id": "HSIhFuQ3-Jvg"
      },
      "source": [
        "#Quotebank dataset cleaning"
      ]
    },
    {
      "cell_type": "code",
      "metadata": {
        "colab": {
          "base_uri": "https://localhost:8080/"
        },
        "id": "f0A9_baT6AkU",
        "outputId": "b35bc24b-7451-4780-9e30-b3dac33d45ca"
      },
      "source": [
        "# Import epfl google drive!\n",
        "from google.colab import drive\n",
        "drive.mount('/content/drive', force_remount=True)"
      ],
      "execution_count": 6,
      "outputs": [
        {
          "output_type": "stream",
          "name": "stdout",
          "text": [
            "Mounted at /content/drive\n"
          ]
        }
      ]
    },
    {
      "cell_type": "code",
      "metadata": {
        "colab": {
          "base_uri": "https://localhost:8080/"
        },
        "id": "JoOxqXbZ7uF7",
        "outputId": "1c4828d3-a5f3-4a92-f970-16daf0d7f0f6"
      },
      "source": [
        "# Change to shared project drive\n",
        "%cd /content/drive/Shareddrives/ADA-project"
      ],
      "execution_count": 7,
      "outputs": [
        {
          "output_type": "stream",
          "name": "stdout",
          "text": [
            "/content/drive/Shareddrives/ADA-project\n"
          ]
        }
      ]
    },
    {
      "cell_type": "code",
      "metadata": {
        "colab": {
          "base_uri": "https://localhost:8080/"
        },
        "id": "-QnDAbMqA9I9",
        "outputId": "6df6daa7-24d3-4767-d59c-62b70386fdc2"
      },
      "source": [
        "!pip install tld"
      ],
      "execution_count": 21,
      "outputs": [
        {
          "output_type": "stream",
          "name": "stdout",
          "text": [
            "Requirement already satisfied: tld in /usr/local/lib/python3.7/dist-packages (0.12.6)\n"
          ]
        }
      ]
    },
    {
      "cell_type": "code",
      "metadata": {
        "id": "i_on5v3Z6FP4"
      },
      "source": [
        "import pandas as pd\n",
        "import bz2\n",
        "import json\n",
        "from tld import get_tld"
      ],
      "execution_count": 22,
      "outputs": []
    },
    {
      "cell_type": "markdown",
      "metadata": {
        "id": "h7Zd3cD180Uh"
      },
      "source": [
        "## Plan\n",
        "*   Descriptive statistics\n",
        "*   types\n",
        "*   Missing data\n",
        "*   distribution (histograms)\n",
        "*   outliers\n",
        "*   duplicates\n",
        "*  inconsistent data (wrong format etc)\n",
        "*   correlation between parameters\n",
        "*  filter columns that we don't need\n",
        "*  maybe create additional ones\n",
        "*  standardize ?"
      ]
    },
    {
      "cell_type": "markdown",
      "metadata": {
        "id": "BKfgLoqV9UZd"
      },
      "source": [
        "## Toplevel domain names of quotebank 2020\n",
        "already executed and saved"
      ]
    },
    {
      "cell_type": "code",
      "metadata": {
        "id": "NMjttAOpA5Ro"
      },
      "source": [
        "def get_domain(url):\n",
        "    res = get_tld(url, as_object=True)\n",
        "    return res.tld"
      ],
      "execution_count": 10,
      "outputs": []
    },
    {
      "cell_type": "code",
      "metadata": {
        "id": "5T7_3GED6X1o"
      },
      "source": [
        "path_to_file = 'Quotebank/quotes-2020.json.bz2' \n",
        "path_to_out = 'Clean data/quotes-2020-domains.json.bz2'\n",
        "\n",
        "with bz2.open(path_to_file, 'rb') as s_file:\n",
        "    with bz2.open(path_to_out, 'wb') as d_file:\n",
        "        for instance in s_file:\n",
        "            instance = json.loads(instance) # loading a sample\n",
        "            urls = instance['urls'] # extracting list of links\n",
        "            domains = []\n",
        "            for url in urls:\n",
        "                tld = get_domain(url)\n",
        "                domains.append(tld)\n",
        "            instance['domains'] = domains # updating the sample with domain name\n",
        "            d_file.write((json.dumps(instance)+'\\n').encode('utf-8')) # writing in the new file"
      ],
      "execution_count": null,
      "outputs": []
    },
    {
      "cell_type": "markdown",
      "metadata": {
        "id": "Bbh_zK_O-ESc"
      },
      "source": [
        "## Explore data in chunks"
      ]
    },
    {
      "cell_type": "code",
      "metadata": {
        "id": "GjTk3Z0384qJ"
      },
      "source": [
        "def process_chunk(chunk):\n",
        "        print(f'Processing chunk with {len(chunk)} rows')\n",
        "        print(chunk.columns)\n",
        "\n",
        "i = 0\n",
        "with pd.read_json('Quotebank/quotes-2020.json.bz2', lines=True, compression='bz2', chunksize=1) as df_reader:\n",
        "    for chunk in df_reader:\n",
        "        i = i+1\n",
        "        process_chunk(chunk)\n",
        "        if i == 5:\n",
        "          break"
      ],
      "execution_count": null,
      "outputs": []
    }
  ]
}